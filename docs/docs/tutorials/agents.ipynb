{
  "cells": [
    {
      "cell_type": "raw",
      "id": "17546ebb",
      "metadata": {
        "vscode": {
          "languageId": "raw"
        }
      },
      "source": [
        "---\n",
        "keywords: [agent, agents]\n",
        "---"
      ]
    },
    {
      "cell_type": "markdown",
      "id": "1df78a71",
      "metadata": {},
      "source": [
        "# 构建一个 Agent\n\nLangChain 支持创建[Agents](/docs/concepts/agents)，也就是利用[LLMs](/docs/concepts/chat_models) 作为推理引擎来决定采取何种行动以及执行该行动所需的输入的系统。\n在执行行动后，其结果可以反馈给 LLM，以确定是否需要采取更多行动，或者是否可以结束。这通常通过[工具调用](/docs/concepts/tool_calling)来实现。\n\n在本教程中，我们将构建一个可以与搜索引擎交互的 Agent。你可以向该 Agent 提问，观察它调用搜索工具，并与之进行对话。\n\n## 端到端 Agent\n\n下面的代码片段代表了一个使用 LLM 来决定使用哪些工具的完整功能的 Agent。它配备了一个通用的搜索工具。它具有会话记忆——这意味着它可以作为一个多轮对话的聊天机器人使用。\n\n在本指南的其余部分，我们将逐一介绍各个组件及其作用——但如果你只想获取一些代码然后开始，随时可以使用这段代码！"
      ]
    },
    {
      "cell_type": "code",
      "execution_count": 1,
      "id": "86d9386b-442f-4cd6-a78f-57c88249d3f0",
      "metadata": {},
      "outputs": [],
      "source": [
        "# Import relevant functionality\n",
        "from langchain.chat_models import init_chat_model\n",
        "from langchain_tavily import TavilySearch\n",
        "from langgraph.checkpoint.memory import MemorySaver\n",
        "from langgraph.prebuilt import create_react_agent\n",
        "\n",
        "# Create the agent\n",
        "memory = MemorySaver()\n",
        "model = init_chat_model(\"anthropic:claude-3-5-sonnet-latest\")\n",
        "search = TavilySearch(max_results=2)\n",
        "tools = [search]\n",
        "agent_executor = create_react_agent(model, tools, checkpointer=memory)"
      ]
    },
    {
      "cell_type": "code",
      "execution_count": 2,
      "id": "7ab50503-d09f-4ff4-9080-5afe297ccc38",
      "metadata": {},
      "outputs": [
        {
          "name": "stdout",
          "output_type": "stream",
          "text": [
            "================================\u001b[1m Human Message \u001b[0m=================================\n",
            "\n",
            "Hi, I'm Bob and I live in SF.\n",
            "==================================\u001b[1m Ai Message \u001b[0m==================================\n",
            "\n",
            "Hello Bob! I notice you've introduced yourself and mentioned you live in SF (San Francisco), but you haven't asked a specific question or made a request that requires the use of any tools. Is there something specific you'd like to know about San Francisco or any other topic? I'd be happy to help you find information using the available search tools.\n"
          ]
        }
      ],
      "source": [
        "# Use the agent\n",
        "config = {\"configurable\": {\"thread_id\": \"abc123\"}}\n",
        "\n",
        "input_message = {\n",
        "    \"role\": \"user\",\n",
        "    \"content\": \"Hi, I'm Bob and I live in SF.\",\n",
        "}\n",
        "for step in agent_executor.stream(\n",
        "    {\"messages\": [input_message]}, config, stream_mode=\"values\"\n",
        "):\n",
        "    step[\"messages\"][-1].pretty_print()"
      ]
    },
    {
      "cell_type": "code",
      "execution_count": 3,
      "id": "fcadb699-3787-4028-a5f6-e5605c8118d4",
      "metadata": {},
      "outputs": [
        {
          "name": "stdout",
          "output_type": "stream",
          "text": [
            "================================\u001b[1m Human Message \u001b[0m=================================\n",
            "\n",
            "What's the weather where I live?\n",
            "==================================\u001b[1m Ai Message \u001b[0m==================================\n",
            "\n",
            "[{'text': 'Let me search for current weather information in San Francisco.', 'type': 'text'}, {'id': 'toolu_011kSdheoJp8THURoLmeLtZo', 'input': {'query': 'current weather San Francisco CA'}, 'name': 'tavily_search', 'type': 'tool_use'}]\n",
            "Tool Calls:\n",
            "  tavily_search (toolu_011kSdheoJp8THURoLmeLtZo)\n",
            " Call ID: toolu_011kSdheoJp8THURoLmeLtZo\n",
            "  Args:\n",
            "    query: current weather San Francisco CA\n",
            "=================================\u001b[1m Tool Message \u001b[0m=================================\n",
            "Name: tavily_search\n",
            "\n",
            "{\"query\": \"current weather San Francisco CA\", \"follow_up_questions\": null, \"answer\": null, \"images\": [], \"results\": [{\"title\": \"Weather in San Francisco, CA\", \"url\": \"https://www.weatherapi.com/\", \"content\": \"{'location': {'name': 'San Francisco', 'region': 'California', 'country': 'United States of America', 'lat': 37.775, 'lon': -122.4183, 'tz_id': 'America/Los_Angeles', 'localtime_epoch': 1750168606, 'localtime': '2025-06-17 06:56'}, 'current': {'last_updated_epoch': 1750167900, 'last_updated': '2025-06-17 06:45', 'temp_c': 11.7, 'temp_f': 53.1, 'is_day': 1, 'condition': {'text': 'Fog', 'icon': '//cdn.weatherapi.com/weather/64x64/day/248.png', 'code': 1135}, 'wind_mph': 4.0, 'wind_kph': 6.5, 'wind_degree': 215, 'wind_dir': 'SW', 'pressure_mb': 1017.0, 'pressure_in': 30.02, 'precip_mm': 0.0, 'precip_in': 0.0, 'humidity': 86, 'cloud': 0, 'feelslike_c': 11.3, 'feelslike_f': 52.4, 'windchill_c': 8.7, 'windchill_f': 47.7, 'heatindex_c': 9.8, 'heatindex_f': 49.7, 'dewpoint_c': 9.6, 'dewpoint_f': 49.2, 'vis_km': 16.0, 'vis_miles': 9.0, 'uv': 0.0, 'gust_mph': 6.3, 'gust_kph': 10.2}}\", \"score\": 0.944705, \"raw_content\": null}, {\"title\": \"Weather in San Francisco in June 2025\", \"url\": \"https://world-weather.info/forecast/usa/san_francisco/june-2025/\", \"content\": \"Detailed ⚡ San Francisco Weather Forecast for June 2025 - day/night 🌡️ temperatures, precipitations - World-Weather.info. Add the current city. Search. Weather; Archive; Weather Widget °F. World; United States; California; Weather in San Francisco; ... 17 +64° +54° 18 +61° +54° 19\", \"score\": 0.86441374, \"raw_content\": null}], \"response_time\": 2.34}\n",
            "==================================\u001b[1m Ai Message \u001b[0m==================================\n",
            "\n",
            "Based on the search results, here's the current weather in San Francisco:\n",
            "- Temperature: 53.1°F (11.7°C)\n",
            "- Condition: Foggy\n",
            "- Wind: 4.0 mph from the Southwest\n",
            "- Humidity: 86%\n",
            "- Visibility: 9 miles\n",
            "\n",
            "This is quite typical weather for San Francisco, with the characteristic fog that the city is known for. Would you like to know anything else about the weather or San Francisco in general?\n"
          ]
        }
      ],
      "source": [
        "input_message = {\n",
        "    \"role\": \"user\",\n",
        "    \"content\": \"What's the weather where I live?\",\n",
        "}\n",
        "\n",
        "for step in agent_executor.stream(\n",
        "    {\"messages\": [input_message]}, config, stream_mode=\"values\"\n",
        "):\n",
        "    step[\"messages\"][-1].pretty_print()"
      ]
    },
    {
      "cell_type": "markdown",
      "id": "f4c03f40-1328-412d-8a48-1db0cd481b77",
      "metadata": {},
      "source": [
        "## 设置\n\n### Jupyter Notebook\n\n本指南（以及文档中的大部分其他指南）使用了 [Jupyter notebooks](https://jupyter.org/)，并假设读者也在使用。Jupyter notebooks 是学习如何使用 LLM 系统的绝佳互动环境，因为事情常常会出错（意外输出、API 宕机等），观察这些情况是深入了解 LLM 构建的绝佳方式。\n\n在 Jupyter notebook 中运行本教程和其他教程可能最为方便。请参阅[此处](https://jupyter.org/install)了解安装说明。\n\n### 安装\n\n要安装 LangChain，请运行："
      ]
    },
    {
      "cell_type": "code",
      "execution_count": null,
      "id": "60bb3eb1",
      "metadata": {},
      "outputs": [],
      "source": [
        "%pip install -U langgraph langchain-tavily langgraph-checkpoint-sqlite"
      ]
    },
    {
      "cell_type": "markdown",
      "id": "2ee337ae",
      "metadata": {},
      "source": [
        "更多详情，请参阅我们的 [安装指南](/docs/how_to/installation)。\n\n### LangSmith\n\n您使用 LangChain 构建的许多应用程序将包含多个步骤和多次 LLM 调用。\n随着这些应用程序日益复杂，能够检查链或代理内部确切发生的事情变得至关重要。\n做到这一点最好的方法是使用 [LangSmith](https://smith.langchain.com)。\n\n在上面的链接注册后，请确保设置您的环境变量以开始记录追踪：\n\n```shell\nexport LANGSMITH_TRACING=\"true\"\nexport LANGSMITH_API_KEY=\"...\"\n```\n\n或者，如果您在笔记本中，可以使用以下方式设置：\n\n```python\nimport getpass\nimport os\n\nos.environ[\"LANGSMITH_TRACING\"] = \"true\"\nos.environ[\"LANGSMITH_API_KEY\"] = getpass.getpass()\n```\n\n### Tavily\n\n我们将使用 [Tavily](/docs/integrations/tools/tavily_search)（一个搜索引擎）作为工具。\n为了使用它，您需要获取并设置一个 API 密钥：\n\n```bash\nexport TAVILY_API_KEY=\"...\"\n```\n\n或者，如果您在笔记本中，可以使用以下方式设置：\n\n```python\nimport getpass\nimport os\n\nos.environ[\"TAVILY_API_KEY\"] = getpass.getpass()\n```"
      ]
    },
    {
      "cell_type": "markdown",
      "id": "c335d1bf",
      "metadata": {},
      "source": [
        "## 定义工具\n\n我们首先需要创建想要使用的工具。我们选择的主要工具是 [Tavily](/docs/integrations/tools/tavily_search) - 一个搜索引擎。我们可以使用专用的 [langchain-tavily](https://pypi.org/project/langchain-tavily/) [集成包](/docs/concepts/architecture/#integration-packages) 来轻松地将 Tavily 搜索引擎用作 LangChain 的工具。"
      ]
    },
    {
      "cell_type": "code",
      "execution_count": 5,
      "id": "76a02d36-6ea2-4e62-88b4-6c480dd9c04f",
      "metadata": {},
      "outputs": [
        {
          "name": "stdout",
          "output_type": "stream",
          "text": [
            "{'query': 'What is the weather in SF', 'follow_up_questions': None, 'answer': None, 'images': [], 'results': [{'title': 'Weather in San Francisco, CA', 'url': 'https://www.weatherapi.com/', 'content': \"{'location': {'name': 'San Francisco', 'region': 'California', 'country': 'United States of America', 'lat': 37.775, 'lon': -122.4183, 'tz_id': 'America/Los_Angeles', 'localtime_epoch': 1750168606, 'localtime': '2025-06-17 06:56'}, 'current': {'last_updated_epoch': 1750167900, 'last_updated': '2025-06-17 06:45', 'temp_c': 11.7, 'temp_f': 53.1, 'is_day': 1, 'condition': {'text': 'Fog', 'icon': '//cdn.weatherapi.com/weather/64x64/day/248.png', 'code': 1135}, 'wind_mph': 4.0, 'wind_kph': 6.5, 'wind_degree': 215, 'wind_dir': 'SW', 'pressure_mb': 1017.0, 'pressure_in': 30.02, 'precip_mm': 0.0, 'precip_in': 0.0, 'humidity': 86, 'cloud': 0, 'feelslike_c': 11.3, 'feelslike_f': 52.4, 'windchill_c': 8.7, 'windchill_f': 47.7, 'heatindex_c': 9.8, 'heatindex_f': 49.7, 'dewpoint_c': 9.6, 'dewpoint_f': 49.2, 'vis_km': 16.0, 'vis_miles': 9.0, 'uv': 0.0, 'gust_mph': 6.3, 'gust_kph': 10.2}}\", 'score': 0.9185379, 'raw_content': None}, {'title': 'Weather in San Francisco in June 2025', 'url': 'https://world-weather.info/forecast/usa/san_francisco/june-2025/', 'content': \"Weather in San Francisco in June 2025 (California) - Detailed Weather Forecast for a Month *   Weather in San Francisco Weather in San Francisco in June 2025 *   1 +63° +55° *   2 +66° +54° *   3 +66° +55° *   4 +66° +54° *   5 +66° +55° *   6 +66° +57° *   7 +64° +55° *   8 +63° +55° *   9 +63° +54° *   10 +59° +54° *   11 +59° +54° *   12 +61° +54° Weather in Washington, D.C.**+68°** Sacramento**+81°** Pleasanton**+72°** Redwood City**+68°** San Leandro**+61°** San Mateo**+64°** San Rafael**+70°** San Ramon**+64°** South San Francisco**+61°** Daly City**+59°** Wilder**+66°** Woodacre**+70°** world's temperature today Colchani day+50°F night+16°F Az Zubayr day+124°F night+93°F Weather forecast on your site Install _San Francisco_ +61° Temperature units\", 'score': 0.7978881, 'raw_content': None}], 'response_time': 2.62}\n"
          ]
        }
      ],
      "source": [
        "from langchain_tavily import TavilySearch\n",
        "\n",
        "search = TavilySearch(max_results=2)\n",
        "search_results = search.invoke(\"What is the weather in SF\")\n",
        "print(search_results)\n",
        "# If we want, we can create other tools.\n",
        "# Once we have all the tools we want, we can put them in a list that we will reference later.\n",
        "tools = [search]"
      ]
    },
    {
      "cell_type": "markdown",
      "id": "ecbc86d8",
      "metadata": {},
      "source": [
        ":::tip\n\n在许多应用程序中，您可能想要定义自定义工具。LangChain 支持通过 Python 函数等方式创建自定义工具。有关详细信息，请参阅 [如何创建工具](/docs/how_to/custom_tools/) 指南。\n\n:::"
      ]
    },
    {
      "cell_type": "markdown",
      "id": "e00068b0",
      "metadata": {},
      "source": [
        "## 使用语言模型\n\n接下来，我们将学习如何使用语言模型来调用工具。LangChain 支持许多不同的语言模型，您可以根据需要进行切换使用——请在下方选择您想使用的模型！\n\nimport ChatModelTabs from \"@theme/ChatModelTabs\";\n\n<ChatModelTabs overrideParams={{openai: {model: \"gpt-4.1\"}}} />"
      ]
    },
    {
      "cell_type": "code",
      "execution_count": 6,
      "id": "69185491",
      "metadata": {},
      "outputs": [],
      "source": [
        "# | output: false\n",
        "# | echo: false\n",
        "\n",
        "from langchain_anthropic import ChatAnthropic\n",
        "\n",
        "model = ChatAnthropic(model=\"claude-3-5-sonnet-latest\")"
      ]
    },
    {
      "cell_type": "markdown",
      "id": "642ed8bf",
      "metadata": {},
      "source": [
        "您可以将消息列表传递给语言模型来调用它。默认情况下，响应是 `content` 字符串。"
      ]
    },
    {
      "cell_type": "code",
      "execution_count": 7,
      "id": "c96c960b",
      "metadata": {},
      "outputs": [
        {
          "data": {
            "text/plain": [
              "'Hello! How can I help you today?'"
            ]
          },
          "execution_count": 7,
          "metadata": {},
          "output_type": "execute_result"
        }
      ],
      "source": [
        "query = \"Hi!\"\n",
        "response = model.invoke([{\"role\": \"user\", \"content\": query}])\n",
        "response.text()"
      ]
    },
    {
      "cell_type": "markdown",
      "id": "47bf8210",
      "metadata": {},
      "source": [
        "现在我们可以看到启用此模型进行工具调用的情况了。为了实现这一点，我们使用 `.bind_tools` 来让语言模型了解这些工具。"
      ]
    },
    {
      "cell_type": "code",
      "execution_count": 8,
      "id": "ba692a74",
      "metadata": {},
      "outputs": [],
      "source": [
        "model_with_tools = model.bind_tools(tools)"
      ]
    },
    {
      "cell_type": "markdown",
      "id": "fd920b69",
      "metadata": {},
      "source": [
        "现在我们可以调用模型了。让我们先用一个普通消息调用它，看看它的响应。我们可以同时查看 `content` 字段和 `tool_calls` 字段。"
      ]
    },
    {
      "cell_type": "code",
      "execution_count": 11,
      "id": "b6a7e925",
      "metadata": {},
      "outputs": [
        {
          "name": "stdout",
          "output_type": "stream",
          "text": [
            "Message content: Hello! I'm here to help you. I have access to a powerful search tool that can help answer questions and find information about various topics. What would you like to know about?\n",
            "\n",
            "Feel free to ask any question or request information, and I'll do my best to assist you using the available tools.\n",
            "\n",
            "Tool calls: []\n"
          ]
        }
      ],
      "source": [
        "query = \"Hi!\"\n",
        "response = model_with_tools.invoke([{\"role\": \"user\", \"content\": query}])\n",
        "\n",
        "print(f\"Message content: {response.text()}\\n\")\n",
        "print(f\"Tool calls: {response.tool_calls}\")"
      ]
    },
    {
      "cell_type": "markdown",
      "id": "e8c81e76",
      "metadata": {},
      "source": [
        "现在，让我们尝试使用一些会调用工具的输入来调用它。"
      ]
    },
    {
      "cell_type": "code",
      "execution_count": 16,
      "id": "688b465d",
      "metadata": {},
      "outputs": [
        {
          "name": "stdout",
          "output_type": "stream",
          "text": [
            "Message content: I'll help you search for information about the weather in San Francisco.\n",
            "\n",
            "Tool calls: [{'name': 'tavily_search', 'args': {'query': 'current weather San Francisco'}, 'id': 'toolu_015gdPn1jbB2Z21DmN2RAnti', 'type': 'tool_call'}]\n"
          ]
        }
      ],
      "source": [
        "query = \"Search for the weather in SF\"\n",
        "response = model_with_tools.invoke([{\"role\": \"user\", \"content\": query}])\n",
        "\n",
        "print(f\"Message content: {response.text()}\\n\")\n",
        "print(f\"Tool calls: {response.tool_calls}\")"
      ]
    },
    {
      "cell_type": "markdown",
      "id": "83c4bcd3",
      "metadata": {},
      "source": [
        "我们可以看到现在没有文本内容，但是有一个工具调用！它要求我们调用 Tavily Search 工具。\n\n这并不是在调用该工具——它只是在告诉我们去调用它。为了真正调用它，我们需要创建我们的代理。"
      ]
    },
    {
      "cell_type": "markdown",
      "id": "40ccec80",
      "metadata": {},
      "source": [
        "## 创建代理\n\n既然我们已经定义了工具和 LLM，就可以创建代理了。我们将使用 [LangGraph](/docs/concepts/architecture/#langgraph) 来构建代理。\n目前，我们使用了一个高层接口来构建代理，但 LangGraph 的优点在于，这个高层接口背后有一个底层且高度可控的 API，以防你想修改代理逻辑。"
      ]
    },
    {
      "cell_type": "markdown",
      "id": "f8014c9d",
      "metadata": {},
      "source": [
        "现在，我们可以使用 LLM 和工具来初始化代理。\n\n请注意，我们传入的是 `model` 而不是 `model_with_tools`。这是因为 `create_react_agent` 会在后台为我们调用 `.bind_tools`。"
      ]
    },
    {
      "cell_type": "code",
      "execution_count": 13,
      "id": "89cf72b4-6046-4b47-8f27-5522d8cb8036",
      "metadata": {},
      "outputs": [],
      "source": [
        "from langgraph.prebuilt import create_react_agent\n",
        "\n",
        "agent_executor = create_react_agent(model, tools)"
      ]
    },
    {
      "cell_type": "markdown",
      "id": "e4df0e06",
      "metadata": {},
      "source": [
        "## 运行代理\n\n现在我们可以用几个查询来运行代理了！请注意，目前这些都是**无状态**查询（它不会记住之前的交互）。请注意，代理将在交互结束时返回**最终**状态（包括任何输入，我们稍后将看到如何只获取输出）。\n\n首先，让我们看看当不需要调用工具时它是如何响应的："
      ]
    },
    {
      "cell_type": "code",
      "execution_count": 14,
      "id": "114ba50d",
      "metadata": {},
      "outputs": [
        {
          "name": "stdout",
          "output_type": "stream",
          "text": [
            "================================\u001b[1m Human Message \u001b[0m=================================\n",
            "\n",
            "Hi!\n",
            "==================================\u001b[1m Ai Message \u001b[0m==================================\n",
            "\n",
            "Hello! I'm here to help you with your questions using the available search tools. Please feel free to ask any question, and I'll do my best to find relevant and accurate information for you.\n"
          ]
        }
      ],
      "source": [
        "input_message = {\"role\": \"user\", \"content\": \"Hi!\"}\n",
        "response = agent_executor.invoke({\"messages\": [input_message]})\n",
        "\n",
        "for message in response[\"messages\"]:\n",
        "    message.pretty_print()"
      ]
    },
    {
      "cell_type": "markdown",
      "id": "71493a42",
      "metadata": {},
      "source": [
        "为了确切地了解幕后发生的情况（并确保它没有调用工具），我们可以查看一下 [LangSmith 跟踪](https://smith.langchain.com/public/28311faa-e135-4d6a-ab6b-caecf6482aaa/r)\n\n现在让我们在一个应该调用该工具的示例上尝试一下"
      ]
    },
    {
      "cell_type": "code",
      "execution_count": 15,
      "id": "77c2f769",
      "metadata": {},
      "outputs": [
        {
          "name": "stdout",
          "output_type": "stream",
          "text": [
            "================================\u001b[1m Human Message \u001b[0m=================================\n",
            "\n",
            "Search for the weather in SF\n",
            "==================================\u001b[1m Ai Message \u001b[0m==================================\n",
            "\n",
            "[{'text': \"I'll help you search for weather information in San Francisco. Let me use the search engine to find current weather conditions.\", 'type': 'text'}, {'id': 'toolu_01WWcXGnArosybujpKzdmARZ', 'input': {'query': 'current weather San Francisco SF'}, 'name': 'tavily_search', 'type': 'tool_use'}]\n",
            "Tool Calls:\n",
            "  tavily_search (toolu_01WWcXGnArosybujpKzdmARZ)\n",
            " Call ID: toolu_01WWcXGnArosybujpKzdmARZ\n",
            "  Args:\n",
            "    query: current weather San Francisco SF\n",
            "=================================\u001b[1m Tool Message \u001b[0m=================================\n",
            "Name: tavily_search\n",
            "\n",
            "{\"query\": \"current weather San Francisco SF\", \"follow_up_questions\": null, \"answer\": null, \"images\": [], \"results\": [{\"title\": \"Weather in San Francisco, CA\", \"url\": \"https://www.weatherapi.com/\", \"content\": \"{'location': {'name': 'San Francisco', 'region': 'California', 'country': 'United States of America', 'lat': 37.775, 'lon': -122.4183, 'tz_id': 'America/Los_Angeles', 'localtime_epoch': 1750168606, 'localtime': '2025-06-17 06:56'}, 'current': {'last_updated_epoch': 1750167900, 'last_updated': '2025-06-17 06:45', 'temp_c': 11.7, 'temp_f': 53.1, 'is_day': 1, 'condition': {'text': 'Fog', 'icon': '//cdn.weatherapi.com/weather/64x64/day/248.png', 'code': 1135}, 'wind_mph': 4.0, 'wind_kph': 6.5, 'wind_degree': 215, 'wind_dir': 'SW', 'pressure_mb': 1017.0, 'pressure_in': 30.02, 'precip_mm': 0.0, 'precip_in': 0.0, 'humidity': 86, 'cloud': 0, 'feelslike_c': 11.3, 'feelslike_f': 52.4, 'windchill_c': 8.7, 'windchill_f': 47.7, 'heatindex_c': 9.8, 'heatindex_f': 49.7, 'dewpoint_c': 9.6, 'dewpoint_f': 49.2, 'vis_km': 16.0, 'vis_miles': 9.0, 'uv': 0.0, 'gust_mph': 6.3, 'gust_kph': 10.2}}\", \"score\": 0.885373, \"raw_content\": null}, {\"title\": \"Weather in San Francisco in June 2025\", \"url\": \"https://world-weather.info/forecast/usa/san_francisco/june-2025/\", \"content\": \"Detailed ⚡ San Francisco Weather Forecast for June 2025 - day/night 🌡️ temperatures, precipitations - World-Weather.info. Add the current city. Search. Weather; Archive; Weather Widget °F. World; United States; California; Weather in San Francisco; ... 17 +64° +54° 18 +61° +54° 19\", \"score\": 0.8830044, \"raw_content\": null}], \"response_time\": 2.6}\n",
            "==================================\u001b[1m Ai Message \u001b[0m==================================\n",
            "\n",
            "Based on the search results, here's the current weather in San Francisco:\n",
            "- Temperature: 53.1°F (11.7°C)\n",
            "- Conditions: Foggy\n",
            "- Wind: 4.0 mph from the SW\n",
            "- Humidity: 86%\n",
            "- Visibility: 9.0 miles\n",
            "\n",
            "The weather appears to be typical for San Francisco, with morning fog and mild temperatures. The \"feels like\" temperature is 52.4°F (11.3°C).\n"
          ]
        }
      ],
      "source": [
        "input_message = {\"role\": \"user\", \"content\": \"Search for the weather in SF\"}\n",
        "response = agent_executor.invoke({\"messages\": [input_message]})\n",
        "\n",
        "for message in response[\"messages\"]:\n",
        "    message.pretty_print()"
      ]
    },
    {
      "cell_type": "markdown",
      "id": "c174f838",
      "metadata": {},
      "source": [
        "我们可以查看 [LangSmith trace](https://smith.langchain.com/public/f520839d-cd4d-4495-8764-e32b548e235d/r) 来确保它正在有效地调用搜索工具。"
      ]
    },
    {
      "cell_type": "markdown",
      "id": "8f6ca7e4",
      "metadata": {},
      "source": [
        "## 流式传输消息\n\n我们已经看到了如何使用 `.invoke` 调用代理来获得最终响应。如果代理执行多个步骤，这可能需要一些时间。为了显示中间进度，我们可以将消息在发生时流式传输回来。"
      ]
    },
    {
      "cell_type": "code",
      "execution_count": 17,
      "id": "bd93812b-2350-4d7f-9643-34c753503754",
      "metadata": {},
      "outputs": [
        {
          "name": "stdout",
          "output_type": "stream",
          "text": [
            "================================\u001b[1m Human Message \u001b[0m=================================\n",
            "\n",
            "Search for the weather in SF\n",
            "==================================\u001b[1m Ai Message \u001b[0m==================================\n",
            "\n",
            "[{'text': \"I'll help you search for information about the weather in San Francisco.\", 'type': 'text'}, {'id': 'toolu_01DCPnJES53Fcr7YWnZ47kDG', 'input': {'query': 'current weather San Francisco'}, 'name': 'tavily_search', 'type': 'tool_use'}]\n",
            "Tool Calls:\n",
            "  tavily_search (toolu_01DCPnJES53Fcr7YWnZ47kDG)\n",
            " Call ID: toolu_01DCPnJES53Fcr7YWnZ47kDG\n",
            "  Args:\n",
            "    query: current weather San Francisco\n",
            "=================================\u001b[1m Tool Message \u001b[0m=================================\n",
            "Name: tavily_search\n",
            "\n",
            "{\"query\": \"current weather San Francisco\", \"follow_up_questions\": null, \"answer\": null, \"images\": [], \"results\": [{\"title\": \"Weather in San Francisco\", \"url\": \"https://www.weatherapi.com/\", \"content\": \"{'location': {'name': 'San Francisco', 'region': 'California', 'country': 'United States of America', 'lat': 37.775, 'lon': -122.4183, 'tz_id': 'America/Los_Angeles', 'localtime_epoch': 1750168506, 'localtime': '2025-06-17 06:55'}, 'current': {'last_updated_epoch': 1750167900, 'last_updated': '2025-06-17 06:45', 'temp_c': 11.7, 'temp_f': 53.1, 'is_day': 1, 'condition': {'text': 'Fog', 'icon': '//cdn.weatherapi.com/weather/64x64/day/248.png', 'code': 1135}, 'wind_mph': 4.0, 'wind_kph': 6.5, 'wind_degree': 215, 'wind_dir': 'SW', 'pressure_mb': 1017.0, 'pressure_in': 30.02, 'precip_mm': 0.0, 'precip_in': 0.0, 'humidity': 86, 'cloud': 0, 'feelslike_c': 11.3, 'feelslike_f': 52.4, 'windchill_c': 8.7, 'windchill_f': 47.7, 'heatindex_c': 9.8, 'heatindex_f': 49.7, 'dewpoint_c': 9.6, 'dewpoint_f': 49.2, 'vis_km': 16.0, 'vis_miles': 9.0, 'uv': 0.0, 'gust_mph': 6.3, 'gust_kph': 10.2}}\", \"score\": 0.9542825, \"raw_content\": null}, {\"title\": \"Weather in San Francisco in June 2025\", \"url\": \"https://world-weather.info/forecast/usa/san_francisco/june-2025/\", \"content\": \"Detailed ⚡ San Francisco Weather Forecast for June 2025 - day/night 🌡️ temperatures, precipitations - World-Weather.info. Add the current city. Search. Weather; Archive; Weather Widget °F. World; United States; California; Weather in San Francisco; ... 17 +64° +54° 18 +61° +54° 19\", \"score\": 0.8638634, \"raw_content\": null}], \"response_time\": 2.57}\n",
            "==================================\u001b[1m Ai Message \u001b[0m==================================\n",
            "\n",
            "Based on the search results, here's the current weather in San Francisco:\n",
            "- Temperature: 53.1°F (11.7°C)\n",
            "- Condition: Foggy\n",
            "- Wind: 4.0 mph from the Southwest\n",
            "- Humidity: 86%\n",
            "- Visibility: 9.0 miles\n",
            "- Feels like: 52.4°F (11.3°C)\n",
            "\n",
            "This is quite typical weather for San Francisco, which is known for its fog, especially during the morning hours. The city's proximity to the ocean and unique geographical features often result in mild temperatures and foggy conditions.\n"
          ]
        }
      ],
      "source": [
        "for step in agent_executor.stream({\"messages\": [input_message]}, stream_mode=\"values\"):\n",
        "    step[\"messages\"][-1].pretty_print()"
      ]
    },
    {
      "cell_type": "markdown",
      "id": "c72b3043",
      "metadata": {},
      "source": [
        "## 流式传输 tokens\n\n除了流式传输消息之外，流式传输 tokens 也很有用。\n我们可以通过指定 `stream_mode=\"messages\"` 来实现这一点。\n\n\n::: note\n\n下面我们使用 `message.text()`，这需要 `langchain-core>=0.3.37`。\n\n:::"
      ]
    },
    {
      "cell_type": "code",
      "execution_count": 18,
      "id": "63198158-380e-43a3-a2ad-d4288949c1d4",
      "metadata": {},
      "outputs": [
        {
          "name": "stdout",
          "output_type": "stream",
          "text": [
            "I|'ll help you search for information| about the weather in San Francisco.|Base|d on the search results, here|'s the current weather in| San Francisco:\n",
            "-| Temperature: 53.1°F (|11.7°C)\n",
            "-| Condition: Foggy\n",
            "- Wind:| 4.0 mph from| the Southwest\n",
            "- Humidity|: 86%|\n",
            "- Visibility: 9|.0 miles\n",
            "- Pressure: |30.02 in|Hg\n",
            "\n",
            "The weather| is characteristic of San Francisco, with| foggy conditions and mild temperatures|. The \"feels like\" temperature is slightly| lower at 52.4|°F (11.|3°C)| due to the wind chill effect|.|"
          ]
        }
      ],
      "source": [
        "for step, metadata in agent_executor.stream(\n",
        "    {\"messages\": [input_message]}, stream_mode=\"messages\"\n",
        "):\n",
        "    if metadata[\"langgraph_node\"] == \"agent\" and (text := step.text()):\n",
        "        print(text, end=\"|\")"
      ]
    },
    {
      "cell_type": "markdown",
      "id": "022cbc8a",
      "metadata": {},
      "source": [
        "## 添加内存\n\n如前所述，此代理是无状态的。这意味着它不记得先前的交互。为了给它提供内存，我们需要传入一个检查点（checkpointer）。在传入检查点时，我们还必须在调用代理时传入一个 `thread_id`（以便它知道要恢复哪个线程/对话）。"
      ]
    },
    {
      "cell_type": "code",
      "execution_count": 19,
      "id": "c4073e35",
      "metadata": {},
      "outputs": [],
      "source": [
        "from langgraph.checkpoint.memory import MemorySaver\n",
        "\n",
        "memory = MemorySaver()"
      ]
    },
    {
      "cell_type": "code",
      "execution_count": 20,
      "id": "e64a944e-f9ac-43cf-903c-d3d28d765377",
      "metadata": {},
      "outputs": [],
      "source": [
        "agent_executor = create_react_agent(model, tools, checkpointer=memory)\n",
        "\n",
        "config = {\"configurable\": {\"thread_id\": \"abc123\"}}"
      ]
    },
    {
      "cell_type": "code",
      "execution_count": 21,
      "id": "a13462d0-2d02-4474-921e-15a1ba1fa274",
      "metadata": {},
      "outputs": [
        {
          "name": "stdout",
          "output_type": "stream",
          "text": [
            "================================\u001b[1m Human Message \u001b[0m=================================\n",
            "\n",
            "Hi, I'm Bob!\n",
            "==================================\u001b[1m Ai Message \u001b[0m==================================\n",
            "\n",
            "Hello Bob! I'm an AI assistant who can help you search for information using specialized search tools. Is there anything specific you'd like to know about or search for? I'm happy to help you find accurate and up-to-date information on various topics.\n"
          ]
        }
      ],
      "source": [
        "input_message = {\"role\": \"user\", \"content\": \"Hi, I'm Bob!\"}\n",
        "for step in agent_executor.stream(\n",
        "    {\"messages\": [input_message]}, config, stream_mode=\"values\"\n",
        "):\n",
        "    step[\"messages\"][-1].pretty_print()"
      ]
    },
    {
      "cell_type": "code",
      "execution_count": 22,
      "id": "56d8028b-5dbc-40b2-86f5-ed60631d86a3",
      "metadata": {},
      "outputs": [
        {
          "name": "stdout",
          "output_type": "stream",
          "text": [
            "================================\u001b[1m Human Message \u001b[0m=================================\n",
            "\n",
            "What's my name?\n",
            "==================================\u001b[1m Ai Message \u001b[0m==================================\n",
            "\n",
            "Your name is Bob, as you introduced yourself earlier. I can remember information shared within our conversation without needing to search for it.\n"
          ]
        }
      ],
      "source": [
        "input_message = {\"role\": \"user\", \"content\": \"What's my name?\"}\n",
        "for step in agent_executor.stream(\n",
        "    {\"messages\": [input_message]}, config, stream_mode=\"values\"\n",
        "):\n",
        "    step[\"messages\"][-1].pretty_print()"
      ]
    },
    {
      "cell_type": "markdown",
      "id": "bda99754-0a11-4447-b408-e8db8f2e3517",
      "metadata": {},
      "source": [
        "示例 [LangSmith 追踪](https://smith.langchain.com/public/fa73960b-0f7d-4910-b73d-757a12f33b2b/r)"
      ]
    },
    {
      "cell_type": "markdown",
      "id": "ae908088",
      "metadata": {},
      "source": [
        " यदि आप एक नई बातचीत शुरू करना चाहते हैं, तो आपको केवल `thread_id` का उपयोग करना है"
      ]
    },
    {
      "cell_type": "code",
      "execution_count": 23,
      "id": "24460239",
      "metadata": {},
      "outputs": [
        {
          "name": "stdout",
          "output_type": "stream",
          "text": [
            "================================\u001b[1m Human Message \u001b[0m=================================\n",
            "\n",
            "What's my name?\n",
            "==================================\u001b[1m Ai Message \u001b[0m==================================\n",
            "\n",
            "I apologize, but I don't have access to any tools that would tell me your name. I can only assist you with searching for publicly available information using the tavily_search function. I don't have access to personal information about users. If you'd like to tell me your name, I'll be happy to address you by it.\n"
          ]
        }
      ],
      "source": [
        "# highlight-next-line\n",
        "config = {\"configurable\": {\"thread_id\": \"xyz123\"}}\n",
        "\n",
        "input_message = {\"role\": \"user\", \"content\": \"What's my name?\"}\n",
        "for step in agent_executor.stream(\n",
        "    {\"messages\": [input_message]}, config, stream_mode=\"values\"\n",
        "):\n",
        "    step[\"messages\"][-1].pretty_print()"
      ]
    },
    {
      "cell_type": "markdown",
      "id": "c029798f",
      "metadata": {},
      "source": [
        "## 结论\n\n本次快速入门介绍了一个简单的代理的创建方法。\n我们展示了如何流式传输响应——不仅包括中间步骤，还包括 token！\n我们还加入了内存功能，方便您与代理进行对话。\n代理是一个复杂的话题，有很多内容需要学习！\n\n有关代理的更多信息，请查看 [LangGraph](/docs/concepts/architecture/#langgraph) 文档。其中包含了一系列概念、教程和操作指南。"
      ]
    },
    {
      "cell_type": "code",
      "execution_count": null,
      "id": "e3ec3244",
      "metadata": {},
      "outputs": [],
      "source": []
    }
  ],
  "metadata": {
    "kernelspec": {
      "display_name": "Python 3 (ipykernel)",
      "language": "python",
      "name": "python3"
    },
    "language_info": {
      "codemirror_mode": {
        "name": "ipython",
        "version": 3
      },
      "file_extension": ".py",
      "mimetype": "text/x-python",
      "name": "python",
      "nbconvert_exporter": "python",
      "pygments_lexer": "ipython3",
      "version": "3.10.4"
    }
  },
  "nbformat": 4,
  "nbformat_minor": 5
}