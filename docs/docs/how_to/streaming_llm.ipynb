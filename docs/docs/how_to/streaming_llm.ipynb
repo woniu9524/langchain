{
  "cells": [
    {
      "cell_type": "markdown",
      "id": "fc37c39a-7406-4c13-a754-b8e95fd970a0",
      "metadata": {},
      "source": [
        "# 如何流式传输 LLM 的响应\n\n所有 `LLM` 都实现了 [Runnable 接口](https://python.langchain.com/api_reference/core/runnables/langchain_core.runnables.base.Runnable.html#langchain_core.runnables.base.Runnable)，该接口带有标准可运行方法的**默认**实现（即 `ainvoke`、`batch`、`abatch`、`stream`、`astream`、`astream_events`）。\n\n**默认**的流式传输实现提供了一个 `Iterator`（对于异步流式传输则是 `AsyncIterator`），它只 yields 一个值：底层聊天模型提供商的最终输出。\n\n逐个令牌流式传输输出的能力取决于提供商是否实现了适当的流式传输支持。\n\n在此处查看哪些 [集成支持令牌逐个流式传输](/docs/integrations/llms/)。\n\n:::note\n\n**默认**实现**不**支持令牌逐个流式传输，但它确保模型可以替换为任何其他模型，因为它支持相同的标准接口。\n\n:::"
      ]
    },
    {
      "cell_type": "markdown",
      "id": "2f13124a-7f9d-404f-b7ac-70d8ea49ef8e",
      "metadata": {},
      "source": [
        "## 同步流\n\n下方我们使用 `|` 来帮助可视化 token 之间的分隔符。"
      ]
    },
    {
      "cell_type": "code",
      "execution_count": 1,
      "id": "9baa0527-b97d-41d3-babd-472ec5e59e3e",
      "metadata": {
        "tags": []
      },
      "outputs": [
        {
          "name": "stdout",
          "output_type": "stream",
          "text": [
            "\n",
            "\n",
            "|Spark|ling| water|,| oh| so clear|\n",
            "|Bubbles dancing|,| without| fear|\n",
            "|Refreshing| taste|,| a| pure| delight|\n",
            "|Spark|ling| water|,| my| thirst|'s| delight||"
          ]
        }
      ],
      "source": [
        "from langchain_openai import OpenAI\n",
        "\n",
        "llm = OpenAI(model=\"gpt-3.5-turbo-instruct\", temperature=0, max_tokens=512)\n",
        "for chunk in llm.stream(\"Write me a 1 verse song about sparkling water.\"):\n",
        "    print(chunk, end=\"|\", flush=True)"
      ]
    },
    {
      "cell_type": "markdown",
      "id": "596e477b-a41d-4ff5-9b9a-a7bfb53c3680",
      "metadata": {},
      "source": [
        "## 异步流\n\n让我们看看如何使用 `astream` 在异步环境中进行流式传输。"
      ]
    },
    {
      "cell_type": "code",
      "execution_count": 2,
      "id": "d81140f2-384b-4470-bf93-957013c6620b",
      "metadata": {
        "tags": []
      },
      "outputs": [
        {
          "name": "stdout",
          "output_type": "stream",
          "text": [
            "\n",
            "\n",
            "|Spark|ling| water|,| oh| so clear|\n",
            "|Bubbles dancing|,| without| fear|\n",
            "|Refreshing| taste|,| a| pure| delight|\n",
            "|Spark|ling| water|,| my| thirst|'s| delight||"
          ]
        }
      ],
      "source": [
        "from langchain_openai import OpenAI\n",
        "\n",
        "llm = OpenAI(model=\"gpt-3.5-turbo-instruct\", temperature=0, max_tokens=512)\n",
        "async for chunk in llm.astream(\"Write me a 1 verse song about sparkling water.\"):\n",
        "    print(chunk, end=\"|\", flush=True)"
      ]
    },
    {
      "cell_type": "markdown",
      "id": "9ab11306-b0db-4459-a9de-ecefb821c9b1",
      "metadata": {
        "tags": []
      },
      "source": [
        "## 异步事件流\n\n\nLLM 也支持标准的 [astream events](https://python.langchain.com/api_reference/core/runnables/langchain_core.runnables.base.Runnable.html#langchain_core.runnables.base.Runnable.astream_events) 方法。\n\n:::tip\n\n当在包含多个步骤的大型 LLM 应用（例如涉及 `agent` 的应用）中实现流式传输时，`astream_events` 非常有用。\n:::"
      ]
    },
    {
      "cell_type": "code",
      "execution_count": null,
      "id": "399d74c7-4438-4093-ae05-47fed0255626",
      "metadata": {
        "tags": []
      },
      "outputs": [],
      "source": [
        "from langchain_openai import OpenAI\n",
        "\n",
        "llm = OpenAI(model=\"gpt-3.5-turbo-instruct\", temperature=0, max_tokens=512)\n",
        "\n",
        "idx = 0\n",
        "\n",
        "async for event in llm.astream_events(\n",
        "    \"Write me a 1 verse song about goldfish on the moon\", version=\"v1\"\n",
        "):\n",
        "    idx += 1\n",
        "    if idx >= 5:  # Truncate the output\n",
        "        print(\"...Truncated\")\n",
        "        break\n",
        "    print(event)"
      ]
    }
  ],
  "metadata": {
    "kernelspec": {
      "display_name": "Python 3 (ipykernel)",
      "language": "python",
      "name": "python3"
    },
    "language_info": {
      "codemirror_mode": {
        "name": "ipython",
        "version": 3
      },
      "file_extension": ".py",
      "mimetype": "text/x-python",
      "name": "python",
      "nbconvert_exporter": "python",
      "pygments_lexer": "ipython3",
      "version": "3.11.4"
    }
  },
  "nbformat": 4,
  "nbformat_minor": 5
}