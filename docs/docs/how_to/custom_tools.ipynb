{
  "cells": [
    {
      "cell_type": "markdown",
      "id": "5436020b",
      "metadata": {},
      "source": [
        "# 如何创建工具\n\n在构建 [代理](/docs/concepts/agents/) 时，您需要为其提供一个可供其使用的 [工具](/docs/concepts/tools/) 列表。除了实际调用的函数外，工具还包含几个组件：\n\n| 属性     | 类型                            | 描述                                                                                                                                                                             |\n| -------- | ------------------------------- | -------------------------------------------------------------------------------------------------------------------------------------------------------------------------------- |\n| name     | str                             | 在提供给 LLM 或代理的工具集中必须是唯一的。                                                                                                                                        |\n| description | str                             | 描述工具的功能。作为 LLM 或代理的上下文使用。                                                                                                                                     |\n| args_schema | pydantic.BaseModel | 可选但推荐，如果使用回调处理程序则必需。可用于提供更多信息（例如，少量示例）或对预期参数进行验证。                                                                                             |\n| return_direct | boolean                         | 仅与代理相关。如果设置为 True，则在调用给定工具后，代理将停止并将结果直接返回给用户。                                                                                                |\n\nLangChain 支持从以下来源创建工具：\n\n1. 函数；\n2. LangChain [可运行对象](/docs/concepts/runnables)；\n3. 通过继承 [BaseTool](https://python.langchain.com/api_reference/core/tools/langchain_core.tools.base.BaseTool.html) -- 这是最灵活的方法，它提供了最大的控制度，但需要更多的精力和代码。\n\n对于大多数用例，从函数创建工具可能就足够了，可以通过简单的 [\\`tool\\` 装饰器](https://python.langchain.com/api_reference/core/tools/langchain_core.tools.convert.tool.html) 来实现。如果需要更多配置，例如指定同步和异步实现，也可以使用 [StructuredTool.from_function](https://python.langchain.com/api_reference/core/tools/langchain_core.tools.structured.StructuredTool.html#langchain_core.tools.structured.StructuredTool.from_function) 类方法。\n\n在本指南中，我们将概述这些方法。\n\n:::tip\n\n如果工具具有精心选择的名称、描述和 JSON 模式，模型的性能会更好。\n:::"
      ]
    },
    {
      "cell_type": "markdown",
      "id": "c7326b23",
      "metadata": {},
      "source": [
        "## 从函数创建工具\n\n### `@tool` 装饰器\n\n`@tool` 装饰器是定义自定义工具最简单的方式。该装饰器默认使用函数名作为工具名，但也可以通过传递一个字符串作为第一个参数来覆盖默认设置。此外，该装饰器将使用函数的文档字符串作为工具的描述——因此必须提供文档字符串。"
      ]
    },
    {
      "cell_type": "code",
      "execution_count": 1,
      "id": "cc7005cd-072f-4d37-8453-6297468e5192",
      "metadata": {
        "execution": {
          "iopub.execute_input": "2024-09-10T20:25:52.645451Z",
          "iopub.status.busy": "2024-09-10T20:25:52.645081Z",
          "iopub.status.idle": "2024-09-10T20:25:53.030958Z",
          "shell.execute_reply": "2024-09-10T20:25:53.030669Z"
        }
      },
      "outputs": [
        {
          "name": "stdout",
          "output_type": "stream",
          "text": [
            "multiply\n",
            "Multiply two numbers.\n",
            "{'a': {'title': 'A', 'type': 'integer'}, 'b': {'title': 'B', 'type': 'integer'}}\n"
          ]
        }
      ],
      "source": [
        "from langchain_core.tools import tool\n",
        "\n",
        "\n",
        "@tool\n",
        "def multiply(a: int, b: int) -> int:\n",
        "    \"\"\"Multiply two numbers.\"\"\"\n",
        "    return a * b\n",
        "\n",
        "\n",
        "# Let's inspect some of the attributes associated with the tool.\n",
        "print(multiply.name)\n",
        "print(multiply.description)\n",
        "print(multiply.args)"
      ]
    },
    {
      "cell_type": "markdown",
      "id": "96698b67-993a-4c97-b867-333132e1eb14",
      "metadata": {},
      "source": [
        "或者创建一个 **异步** 实现，如下所示："
      ]
    },
    {
      "cell_type": "code",
      "execution_count": 2,
      "id": "0c0991db-b997-4611-be37-4346e660506b",
      "metadata": {
        "execution": {
          "iopub.execute_input": "2024-09-10T20:25:53.032544Z",
          "iopub.status.busy": "2024-09-10T20:25:53.032420Z",
          "iopub.status.idle": "2024-09-10T20:25:53.035349Z",
          "shell.execute_reply": "2024-09-10T20:25:53.035123Z"
        }
      },
      "outputs": [],
      "source": [
        "from langchain_core.tools import tool\n",
        "\n",
        "\n",
        "@tool\n",
        "async def amultiply(a: int, b: int) -> int:\n",
        "    \"\"\"Multiply two numbers.\"\"\"\n",
        "    return a * b"
      ]
    },
    {
      "cell_type": "markdown",
      "id": "8f0edc51-c586-414c-8941-c8abe779943f",
      "metadata": {},
      "source": [
        "请注意，`@tool` 支持注解的解析、嵌套 schemas 以及其他功能："
      ]
    },
    {
      "cell_type": "code",
      "execution_count": 3,
      "id": "5626423f-053e-4a66-adca-1d794d835397",
      "metadata": {
        "execution": {
          "iopub.execute_input": "2024-09-10T20:25:53.036658Z",
          "iopub.status.busy": "2024-09-10T20:25:53.036574Z",
          "iopub.status.idle": "2024-09-10T20:25:53.041154Z",
          "shell.execute_reply": "2024-09-10T20:25:53.040964Z"
        }
      },
      "outputs": [
        {
          "data": {
            "text/plain": [
              "{'description': 'Multiply a by the maximum of b.',\n",
              " 'properties': {'a': {'description': 'scale factor',\n",
              "   'title': 'A',\n",
              "   'type': 'integer'},\n",
              "  'b': {'description': 'list of ints over which to take maximum',\n",
              "   'items': {'type': 'integer'},\n",
              "   'title': 'B',\n",
              "   'type': 'array'}},\n",
              " 'required': ['a', 'b'],\n",
              " 'title': 'multiply_by_maxSchema',\n",
              " 'type': 'object'}"
            ]
          },
          "execution_count": 3,
          "metadata": {},
          "output_type": "execute_result"
        }
      ],
      "source": [
        "from typing import Annotated, List\n",
        "\n",
        "\n",
        "@tool\n",
        "def multiply_by_max(\n",
        "    a: Annotated[int, \"scale factor\"],\n",
        "    b: Annotated[List[int], \"list of ints over which to take maximum\"],\n",
        ") -> int:\n",
        "    \"\"\"Multiply a by the maximum of b.\"\"\"\n",
        "    return a * max(b)\n",
        "\n",
        "\n",
        "print(multiply_by_max.args_schema.model_json_schema())"
      ]
    },
    {
      "cell_type": "markdown",
      "id": "98d6eee9",
      "metadata": {},
      "source": [
        "您还可以通过将它们传递到工具装饰器中来定制工具名称和 JSON 参数。"
      ]
    },
    {
      "cell_type": "code",
      "execution_count": 4,
      "id": "9216d03a-f6ea-4216-b7e1-0661823a4c0b",
      "metadata": {
        "execution": {
          "iopub.execute_input": "2024-09-10T20:25:53.042516Z",
          "iopub.status.busy": "2024-09-10T20:25:53.042427Z",
          "iopub.status.idle": "2024-09-10T20:25:53.045217Z",
          "shell.execute_reply": "2024-09-10T20:25:53.045010Z"
        }
      },
      "outputs": [
        {
          "name": "stdout",
          "output_type": "stream",
          "text": [
            "multiplication-tool\n",
            "Multiply two numbers.\n",
            "{'a': {'description': 'first number', 'title': 'A', 'type': 'integer'}, 'b': {'description': 'second number', 'title': 'B', 'type': 'integer'}}\n",
            "True\n"
          ]
        }
      ],
      "source": [
        "from pydantic import BaseModel, Field\n",
        "\n",
        "\n",
        "class CalculatorInput(BaseModel):\n",
        "    a: int = Field(description=\"first number\")\n",
        "    b: int = Field(description=\"second number\")\n",
        "\n",
        "\n",
        "@tool(\"multiplication-tool\", args_schema=CalculatorInput, return_direct=True)\n",
        "def multiply(a: int, b: int) -> int:\n",
        "    \"\"\"Multiply two numbers.\"\"\"\n",
        "    return a * b\n",
        "\n",
        "\n",
        "# Let's inspect some of the attributes associated with the tool.\n",
        "print(multiply.name)\n",
        "print(multiply.description)\n",
        "print(multiply.args)\n",
        "print(multiply.return_direct)"
      ]
    },
    {
      "cell_type": "markdown",
      "id": "33a9e94d-0b60-48f3-a4c2-247dce096e66",
      "metadata": {},
      "source": [
        "#### Docstring 解析"
      ]
    },
    {
      "cell_type": "markdown",
      "id": "6d0cb586-93d4-4ff1-9779-71df7853cb68",
      "metadata": {},
      "source": [
        "`@tool` 可选择性地解析 [Google 风格文档字符串](https://google.github.io/styleguide/pyguide.html#383-functions-and-methods)，并将文档字符串组件（如参数描述）与工具模式的相关部分关联起来。要启用此行为，请指定 `parse_docstring`："
      ]
    },
    {
      "cell_type": "code",
      "execution_count": 5,
      "id": "336f5538-956e-47d5-9bde-b732559f9e61",
      "metadata": {
        "execution": {
          "iopub.execute_input": "2024-09-10T20:25:53.046526Z",
          "iopub.status.busy": "2024-09-10T20:25:53.046456Z",
          "iopub.status.idle": "2024-09-10T20:25:53.050045Z",
          "shell.execute_reply": "2024-09-10T20:25:53.049836Z"
        }
      },
      "outputs": [
        {
          "data": {
            "text/plain": [
              "{'description': 'The foo.',\n",
              " 'properties': {'bar': {'description': 'The bar.',\n",
              "   'title': 'Bar',\n",
              "   'type': 'string'},\n",
              "  'baz': {'description': 'The baz.', 'title': 'Baz', 'type': 'integer'}},\n",
              " 'required': ['bar', 'baz'],\n",
              " 'title': 'fooSchema',\n",
              " 'type': 'object'}"
            ]
          },
          "execution_count": 5,
          "metadata": {},
          "output_type": "execute_result"
        }
      ],
      "source": [
        "@tool(parse_docstring=True)\n",
        "def foo(bar: str, baz: int) -> str:\n",
        "    \"\"\"The foo.\n",
        "\n",
        "    Args:\n",
        "        bar: The bar.\n",
        "        baz: The baz.\n",
        "    \"\"\"\n",
        "    return bar\n",
        "\n",
        "\n",
        "print(foo.args_schema.model_json_schema())"
      ]
    },
    {
      "cell_type": "markdown",
      "id": "f18a2503-5393-421b-99fa-4a01dd824d0e",
      "metadata": {},
      "source": [
        ":::caution\n默认情况下，`@tool(parse_docstring=True)` 如果 docstring 未能正确解析，将引发 `ValueError`。有关详细信息和示例，请参阅 [API 参考](https://python.langchain.com/api_reference/core/tools/langchain_core.tools.convert.tool.html)。\n:::"
      ]
    },
    {
      "cell_type": "markdown",
      "id": "b63fcc3b",
      "metadata": {},
      "source": [
        "### StructuredTool\n\n`StructuredTool.from_function` 类方法比 `@tool` 装饰器提供了更多的可配置性，而无需编写大量额外的代码。"
      ]
    },
    {
      "cell_type": "code",
      "execution_count": 6,
      "id": "564fbe6f-11df-402d-b135-ef6ff25e1e63",
      "metadata": {
        "execution": {
          "iopub.execute_input": "2024-09-10T20:25:53.051302Z",
          "iopub.status.busy": "2024-09-10T20:25:53.051218Z",
          "iopub.status.idle": "2024-09-10T20:25:53.059704Z",
          "shell.execute_reply": "2024-09-10T20:25:53.059490Z"
        }
      },
      "outputs": [
        {
          "name": "stdout",
          "output_type": "stream",
          "text": [
            "6\n",
            "10\n"
          ]
        }
      ],
      "source": [
        "from langchain_core.tools import StructuredTool\n",
        "\n",
        "\n",
        "def multiply(a: int, b: int) -> int:\n",
        "    \"\"\"Multiply two numbers.\"\"\"\n",
        "    return a * b\n",
        "\n",
        "\n",
        "async def amultiply(a: int, b: int) -> int:\n",
        "    \"\"\"Multiply two numbers.\"\"\"\n",
        "    return a * b\n",
        "\n",
        "\n",
        "calculator = StructuredTool.from_function(func=multiply, coroutine=amultiply)\n",
        "\n",
        "print(calculator.invoke({\"a\": 2, \"b\": 3}))\n",
        "print(await calculator.ainvoke({\"a\": 2, \"b\": 5}))"
      ]
    },
    {
      "cell_type": "markdown",
      "id": "26b3712a-b38d-4582-b6e6-bc7cfb1d6680",
      "metadata": {},
      "source": [
        "要配置它："
      ]
    },
    {
      "cell_type": "code",
      "execution_count": 7,
      "id": "6bc055d4-1fbe-4db5-8881-9c382eba6b1b",
      "metadata": {
        "execution": {
          "iopub.execute_input": "2024-09-10T20:25:53.060971Z",
          "iopub.status.busy": "2024-09-10T20:25:53.060883Z",
          "iopub.status.idle": "2024-09-10T20:25:53.064615Z",
          "shell.execute_reply": "2024-09-10T20:25:53.064408Z"
        }
      },
      "outputs": [
        {
          "name": "stdout",
          "output_type": "stream",
          "text": [
            "6\n",
            "Calculator\n",
            "multiply numbers\n",
            "{'a': {'description': 'first number', 'title': 'A', 'type': 'integer'}, 'b': {'description': 'second number', 'title': 'B', 'type': 'integer'}}\n"
          ]
        }
      ],
      "source": [
        "class CalculatorInput(BaseModel):\n",
        "    a: int = Field(description=\"first number\")\n",
        "    b: int = Field(description=\"second number\")\n",
        "\n",
        "\n",
        "def multiply(a: int, b: int) -> int:\n",
        "    \"\"\"Multiply two numbers.\"\"\"\n",
        "    return a * b\n",
        "\n",
        "\n",
        "calculator = StructuredTool.from_function(\n",
        "    func=multiply,\n",
        "    name=\"Calculator\",\n",
        "    description=\"multiply numbers\",\n",
        "    args_schema=CalculatorInput,\n",
        "    return_direct=True,\n",
        "    # coroutine= ... <- you can specify an async method if desired as well\n",
        ")\n",
        "\n",
        "print(calculator.invoke({\"a\": 2, \"b\": 3}))\n",
        "print(calculator.name)\n",
        "print(calculator.description)\n",
        "print(calculator.args)"
      ]
    },
    {
      "cell_type": "markdown",
      "id": "5517995d-54e3-449b-8fdb-03561f5e4647",
      "metadata": {},
      "source": [
        "## 使用 Runnable 创建工具\n\nLangChain 的 [Runnables](/docs/concepts/runnables)（可接受字符串或 `dict` 作为输入的）可以通过 `as_tool` 方法转换为工具，该方法允许指定名称、描述和附加的参数模式信息。\n\n用法示例："
      ]
    },
    {
      "cell_type": "code",
      "execution_count": 8,
      "id": "8ef593c5-cf72-4c10-bfc9-7d21874a0c24",
      "metadata": {
        "execution": {
          "iopub.execute_input": "2024-09-10T20:25:53.065797Z",
          "iopub.status.busy": "2024-09-10T20:25:53.065733Z",
          "iopub.status.idle": "2024-09-10T20:25:53.130458Z",
          "shell.execute_reply": "2024-09-10T20:25:53.130229Z"
        }
      },
      "outputs": [
        {
          "name": "stderr",
          "output_type": "stream",
          "text": [
            "/var/folders/4j/2rz3865x6qg07tx43146py8h0000gn/T/ipykernel_95770/2548361071.py:14: LangChainBetaWarning: This API is in beta and may change in the future.\n",
            "  as_tool = chain.as_tool(\n"
          ]
        },
        {
          "data": {
            "text/plain": [
              "{'answer_style': {'title': 'Answer Style', 'type': 'string'}}"
            ]
          },
          "execution_count": 8,
          "metadata": {},
          "output_type": "execute_result"
        }
      ],
      "source": [
        "from langchain_core.language_models import GenericFakeChatModel\n",
        "from langchain_core.output_parsers import StrOutputParser\n",
        "from langchain_core.prompts import ChatPromptTemplate\n",
        "\n",
        "prompt = ChatPromptTemplate.from_messages(\n",
        "    [(\"human\", \"Hello. Please respond in the style of {answer_style}.\")]\n",
        ")\n",
        "\n",
        "# Placeholder LLM\n",
        "llm = GenericFakeChatModel(messages=iter([\"hello matey\"]))\n",
        "\n",
        "chain = prompt | llm | StrOutputParser()\n",
        "\n",
        "as_tool = chain.as_tool(\n",
        "    name=\"Style responder\", description=\"Description of when to use tool.\"\n",
        ")\n",
        "as_tool.args"
      ]
    },
    {
      "cell_type": "markdown",
      "id": "0521b787-a146-45a6-8ace-ae1ac4669dd7",
      "metadata": {},
      "source": [
        "请参阅[本指南](/docs/how_to/convert_runnable_to_tool)了解更多详情。"
      ]
    },
    {
      "cell_type": "markdown",
      "id": "b840074b-9c10-4ca0-aed8-626c52b2398f",
      "metadata": {},
      "source": [
        "## 继承 `BaseTool`\n\n你可以通过继承 `BaseTool` 来定义自定义工具。这提供了对工具定义的最高控制，但需要编写更多代码。"
      ]
    },
    {
      "cell_type": "code",
      "execution_count": null,
      "id": "1dad8f8e",
      "metadata": {
        "execution": {
          "iopub.execute_input": "2024-09-10T20:25:53.131904Z",
          "iopub.status.busy": "2024-09-10T20:25:53.131803Z",
          "iopub.status.idle": "2024-09-10T20:25:53.136797Z",
          "shell.execute_reply": "2024-09-10T20:25:53.136563Z"
        }
      },
      "outputs": [],
      "source": [
        "from typing import Optional\n",
        "\n",
        "from langchain_core.callbacks import (\n",
        "    AsyncCallbackManagerForToolRun,\n",
        "    CallbackManagerForToolRun,\n",
        ")\n",
        "from langchain_core.tools import BaseTool\n",
        "from langchain_core.tools.base import ArgsSchema\n",
        "from pydantic import BaseModel, Field\n",
        "\n",
        "\n",
        "class CalculatorInput(BaseModel):\n",
        "    a: int = Field(description=\"first number\")\n",
        "    b: int = Field(description=\"second number\")\n",
        "\n",
        "\n",
        "# Note: It's important that every field has type hints. BaseTool is a\n",
        "# Pydantic class and not having type hints can lead to unexpected behavior.\n",
        "class CustomCalculatorTool(BaseTool):\n",
        "    name: str = \"Calculator\"\n",
        "    description: str = \"useful for when you need to answer questions about math\"\n",
        "    args_schema: Optional[ArgsSchema] = CalculatorInput\n",
        "    return_direct: bool = True\n",
        "\n",
        "    def _run(\n",
        "        self, a: int, b: int, run_manager: Optional[CallbackManagerForToolRun] = None\n",
        "    ) -> int:\n",
        "        \"\"\"Use the tool.\"\"\"\n",
        "        return a * b\n",
        "\n",
        "    async def _arun(\n",
        "        self,\n",
        "        a: int,\n",
        "        b: int,\n",
        "        run_manager: Optional[AsyncCallbackManagerForToolRun] = None,\n",
        "    ) -> int:\n",
        "        \"\"\"Use the tool asynchronously.\"\"\"\n",
        "        # If the calculation is cheap, you can just delegate to the sync implementation\n",
        "        # as shown below.\n",
        "        # If the sync calculation is expensive, you should delete the entire _arun method.\n",
        "        # LangChain will automatically provide a better implementation that will\n",
        "        # kick off the task in a thread to make sure it doesn't block other async code.\n",
        "        return self._run(a, b, run_manager=run_manager.get_sync())"
      ]
    },
    {
      "cell_type": "code",
      "execution_count": 10,
      "id": "bb551c33",
      "metadata": {
        "execution": {
          "iopub.execute_input": "2024-09-10T20:25:53.138074Z",
          "iopub.status.busy": "2024-09-10T20:25:53.138007Z",
          "iopub.status.idle": "2024-09-10T20:25:53.141360Z",
          "shell.execute_reply": "2024-09-10T20:25:53.141158Z"
        }
      },
      "outputs": [
        {
          "name": "stdout",
          "output_type": "stream",
          "text": [
            "Calculator\n",
            "useful for when you need to answer questions about math\n",
            "{'a': {'description': 'first number', 'title': 'A', 'type': 'integer'}, 'b': {'description': 'second number', 'title': 'B', 'type': 'integer'}}\n",
            "True\n",
            "6\n",
            "6\n"
          ]
        }
      ],
      "source": [
        "multiply = CustomCalculatorTool()\n",
        "print(multiply.name)\n",
        "print(multiply.description)\n",
        "print(multiply.args)\n",
        "print(multiply.return_direct)\n",
        "\n",
        "print(multiply.invoke({\"a\": 2, \"b\": 3}))\n",
        "print(await multiply.ainvoke({\"a\": 2, \"b\": 3}))"
      ]
    },
    {
      "cell_type": "markdown",
      "id": "97aba6cc-4bdf-4fab-aff3-d89e7d9c3a09",
      "metadata": {},
      "source": [
        "## 如何创建异步工具\n\nLangChain 工具实现了 [Runnable 接口 🏃](https://python.langchain.com/api_reference/core/runnables/langchain_core.runnables.base.Runnable.html)。\n\n所有 Runnable 都公开 `invoke` 和 `ainvoke` 方法（以及 `batch`、`abatch`、`astream` 等其他方法）。\n\n因此，即使您只提供工具的同步实现，您仍然可以使用 `ainvoke` 接口，但有几点需要注意：\n\n* LangChain 默认提供了一个异步实现，它假设函数计算成本很高，因此会将执行委托给另一个线程。\n* 如果您正在使用异步代码库，您应该创建异步工具而不是同步工具，以避免由于那个线程而产生少量开销。\n* 如果您需要同步和异步实现，请使用 `StructuredTool.from_function` 或继承自 `BaseTool`。\n* 如果同时实现同步和异步，并且同步代码运行速度很快，请覆盖默认的 LangChain 异步实现并简单调用同步代码。\n* 您不能也不应该对异步工具使用同步的 `invoke`。"
      ]
    },
    {
      "cell_type": "code",
      "execution_count": 11,
      "id": "6615cb77-fd4c-4676-8965-f92cc71d4944",
      "metadata": {
        "execution": {
          "iopub.execute_input": "2024-09-10T20:25:53.142587Z",
          "iopub.status.busy": "2024-09-10T20:25:53.142504Z",
          "iopub.status.idle": "2024-09-10T20:25:53.147205Z",
          "shell.execute_reply": "2024-09-10T20:25:53.146995Z"
        }
      },
      "outputs": [
        {
          "name": "stdout",
          "output_type": "stream",
          "text": [
            "6\n",
            "10\n"
          ]
        }
      ],
      "source": [
        "from langchain_core.tools import StructuredTool\n",
        "\n",
        "\n",
        "def multiply(a: int, b: int) -> int:\n",
        "    \"\"\"Multiply two numbers.\"\"\"\n",
        "    return a * b\n",
        "\n",
        "\n",
        "calculator = StructuredTool.from_function(func=multiply)\n",
        "\n",
        "print(calculator.invoke({\"a\": 2, \"b\": 3}))\n",
        "print(\n",
        "    await calculator.ainvoke({\"a\": 2, \"b\": 5})\n",
        ")  # Uses default LangChain async implementation incurs small overhead"
      ]
    },
    {
      "cell_type": "code",
      "execution_count": 12,
      "id": "bb2af583-eadd-41f4-a645-bf8748bd3dcd",
      "metadata": {
        "execution": {
          "iopub.execute_input": "2024-09-10T20:25:53.148383Z",
          "iopub.status.busy": "2024-09-10T20:25:53.148307Z",
          "iopub.status.idle": "2024-09-10T20:25:53.152684Z",
          "shell.execute_reply": "2024-09-10T20:25:53.152486Z"
        }
      },
      "outputs": [
        {
          "name": "stdout",
          "output_type": "stream",
          "text": [
            "6\n",
            "10\n"
          ]
        }
      ],
      "source": [
        "from langchain_core.tools import StructuredTool\n",
        "\n",
        "\n",
        "def multiply(a: int, b: int) -> int:\n",
        "    \"\"\"Multiply two numbers.\"\"\"\n",
        "    return a * b\n",
        "\n",
        "\n",
        "async def amultiply(a: int, b: int) -> int:\n",
        "    \"\"\"Multiply two numbers.\"\"\"\n",
        "    return a * b\n",
        "\n",
        "\n",
        "calculator = StructuredTool.from_function(func=multiply, coroutine=amultiply)\n",
        "\n",
        "print(calculator.invoke({\"a\": 2, \"b\": 3}))\n",
        "print(\n",
        "    await calculator.ainvoke({\"a\": 2, \"b\": 5})\n",
        ")  # Uses use provided amultiply without additional overhead"
      ]
    },
    {
      "cell_type": "markdown",
      "id": "c80ffdaa-e4ba-4a70-8500-32bf4f60cc1a",
      "metadata": {},
      "source": [
        "当仅提供异步定义时，你不应该也不能使用 `.invoke`。"
      ]
    },
    {
      "cell_type": "code",
      "execution_count": 13,
      "id": "4ad0932c-8610-4278-8c57-f9218f654c8a",
      "metadata": {
        "execution": {
          "iopub.execute_input": "2024-09-10T20:25:53.153849Z",
          "iopub.status.busy": "2024-09-10T20:25:53.153773Z",
          "iopub.status.idle": "2024-09-10T20:25:53.158312Z",
          "shell.execute_reply": "2024-09-10T20:25:53.158130Z"
        }
      },
      "outputs": [
        {
          "name": "stdout",
          "output_type": "stream",
          "text": [
            "Raised not implemented error. You should not be doing this.\n"
          ]
        }
      ],
      "source": [
        "@tool\n",
        "async def multiply(a: int, b: int) -> int:\n",
        "    \"\"\"Multiply two numbers.\"\"\"\n",
        "    return a * b\n",
        "\n",
        "\n",
        "try:\n",
        "    multiply.invoke({\"a\": 2, \"b\": 3})\n",
        "except NotImplementedError:\n",
        "    print(\"Raised not implemented error. You should not be doing this.\")"
      ]
    },
    {
      "cell_type": "markdown",
      "id": "f9c746a7-88d7-4afb-bcb8-0e98b891e8b6",
      "metadata": {},
      "source": [
        "## 处理工具错误\n\n如果您正在使用带有 Agent 的工具，您将需要一个错误处理策略，以便 Agent 可以从错误中恢复并继续执行。\n\n一个简单的策略是从工具内部抛出 `ToolException`，并使用 `handle_tool_error` 指定错误处理器。\n\n当指定了错误处理器时，异常将被捕获，并且错误处理器将决定从工具返回哪个输出。\n\n您可以将 `handle_tool_error` 设置为 `True`、一个字符串值或一个函数。如果它是一个函数，该函数应以 `ToolException` 作为参数并返回一个值。\n\n请注意，仅抛出 `ToolException` 是无效的。您需要先设置工具的 `handle_tool_error`，因为它的默认值是 `False`。"
      ]
    },
    {
      "cell_type": "code",
      "execution_count": 14,
      "id": "7094c0e8-6192-4870-a942-aad5b5ae48fd",
      "metadata": {
        "execution": {
          "iopub.execute_input": "2024-09-10T20:25:53.159440Z",
          "iopub.status.busy": "2024-09-10T20:25:53.159364Z",
          "iopub.status.idle": "2024-09-10T20:25:53.160922Z",
          "shell.execute_reply": "2024-09-10T20:25:53.160712Z"
        }
      },
      "outputs": [],
      "source": [
        "from langchain_core.tools import ToolException\n",
        "\n",
        "\n",
        "def get_weather(city: str) -> int:\n",
        "    \"\"\"Get weather for the given city.\"\"\"\n",
        "    raise ToolException(f\"Error: There is no city by the name of {city}.\")"
      ]
    },
    {
      "cell_type": "markdown",
      "id": "9d93b217-1d44-4d31-8956-db9ea680ff4f",
      "metadata": {},
      "source": [
        "以下是具有默认 `handle_tool_error=True` 行为的示例。"
      ]
    },
    {
      "cell_type": "code",
      "execution_count": 15,
      "id": "b4d22022-b105-4ccc-a15b-412cb9ea3097",
      "metadata": {
        "execution": {
          "iopub.execute_input": "2024-09-10T20:25:53.162046Z",
          "iopub.status.busy": "2024-09-10T20:25:53.161968Z",
          "iopub.status.idle": "2024-09-10T20:25:53.165236Z",
          "shell.execute_reply": "2024-09-10T20:25:53.165052Z"
        }
      },
      "outputs": [
        {
          "data": {
            "text/plain": [
              "'Error: There is no city by the name of foobar.'"
            ]
          },
          "execution_count": 15,
          "metadata": {},
          "output_type": "execute_result"
        }
      ],
      "source": [
        "get_weather_tool = StructuredTool.from_function(\n",
        "    func=get_weather,\n",
        "    handle_tool_error=True,\n",
        ")\n",
        "\n",
        "get_weather_tool.invoke({\"city\": \"foobar\"})"
      ]
    },
    {
      "cell_type": "markdown",
      "id": "f91d6dc0-3271-4adc-a155-21f2e62ffa56",
      "metadata": {},
      "source": [
        "我们可以将 `handle_tool_error` 设置为一个始终会被返回的字符串。"
      ]
    },
    {
      "cell_type": "code",
      "execution_count": 16,
      "id": "3fad1728-d367-4e1b-9b54-3172981271cf",
      "metadata": {
        "execution": {
          "iopub.execute_input": "2024-09-10T20:25:53.166372Z",
          "iopub.status.busy": "2024-09-10T20:25:53.166294Z",
          "iopub.status.idle": "2024-09-10T20:25:53.169739Z",
          "shell.execute_reply": "2024-09-10T20:25:53.169553Z"
        }
      },
      "outputs": [
        {
          "data": {
            "text/plain": [
              "\"There is no such city, but it's probably above 0K there!\""
            ]
          },
          "execution_count": 16,
          "metadata": {},
          "output_type": "execute_result"
        }
      ],
      "source": [
        "get_weather_tool = StructuredTool.from_function(\n",
        "    func=get_weather,\n",
        "    handle_tool_error=\"There is no such city, but it's probably above 0K there!\",\n",
        ")\n",
        "\n",
        "get_weather_tool.invoke({\"city\": \"foobar\"})"
      ]
    },
    {
      "cell_type": "markdown",
      "id": "b0a640c1-e08f-4413-83b6-f599f304935f",
      "metadata": {},
      "source": [
        "使用函数处理错误："
      ]
    },
    {
      "cell_type": "code",
      "execution_count": 17,
      "id": "ebfe7c1f-318d-4e58-99e1-f31e69473c46",
      "metadata": {
        "execution": {
          "iopub.execute_input": "2024-09-10T20:25:53.170937Z",
          "iopub.status.busy": "2024-09-10T20:25:53.170859Z",
          "iopub.status.idle": "2024-09-10T20:25:53.174498Z",
          "shell.execute_reply": "2024-09-10T20:25:53.174304Z"
        }
      },
      "outputs": [
        {
          "data": {
            "text/plain": [
              "'The following errors occurred during tool execution: `Error: There is no city by the name of foobar.`'"
            ]
          },
          "execution_count": 17,
          "metadata": {},
          "output_type": "execute_result"
        }
      ],
      "source": [
        "def _handle_error(error: ToolException) -> str:\n",
        "    return f\"The following errors occurred during tool execution: `{error.args[0]}`\"\n",
        "\n",
        "\n",
        "get_weather_tool = StructuredTool.from_function(\n",
        "    func=get_weather,\n",
        "    handle_tool_error=_handle_error,\n",
        ")\n",
        "\n",
        "get_weather_tool.invoke({\"city\": \"foobar\"})"
      ]
    },
    {
      "cell_type": "markdown",
      "id": "1a8d8383-11b3-445e-956f-df4e96995e00",
      "metadata": {},
      "source": [
        "## 返回工具执行的构件\n\n有时，我们希望工具执行的某些构件（artifacts）能够被链或代理中的下游组件访问，同时又不暴露给模型本身。例如，如果一个工具返回自定义对象（如 Documents），我们可能希望将一些关于此输出的视图或元数据传递给模型，而不将原始输出传递给模型。同时，我们可能希望能够在其他地方访问此完整输出，例如在下游工具中。\n\n`Tool` 和 `[ToolMessage](https://python.langchain.com/api_reference/core/messages/langchain_core.messages.tool.ToolMessage.html)` 接口使得区分旨在提供给模型使用的工具输出部分（`ToolMessage.content`）和旨在模型外部使用的部分（`ToolMessage.artifact`）成为可能。\n\n:::info 要求 ``langchain-core >= 0.2.19``\n\n此功能已在 ``langchain-core == 0.2.19`` 中添加。请确保您的包已更新到最新版本。\n\n:::\n\n如果希望我们的工具区分消息内容和其他构件，我们需要在定义工具时指定 `response_format=\"content_and_artifact\"`，并确保返回一个元组 `(content, artifact)`："
      ]
    },
    {
      "cell_type": "code",
      "execution_count": 18,
      "id": "14905425-0334-43a0-9de9-5bcf622ede0e",
      "metadata": {
        "execution": {
          "iopub.execute_input": "2024-09-10T20:25:53.175683Z",
          "iopub.status.busy": "2024-09-10T20:25:53.175605Z",
          "iopub.status.idle": "2024-09-10T20:25:53.178798Z",
          "shell.execute_reply": "2024-09-10T20:25:53.178601Z"
        }
      },
      "outputs": [],
      "source": [
        "import random\n",
        "from typing import List, Tuple\n",
        "\n",
        "from langchain_core.tools import tool\n",
        "\n",
        "\n",
        "@tool(response_format=\"content_and_artifact\")\n",
        "def generate_random_ints(min: int, max: int, size: int) -> Tuple[str, List[int]]:\n",
        "    \"\"\"Generate size random ints in the range [min, max].\"\"\"\n",
        "    array = [random.randint(min, max) for _ in range(size)]\n",
        "    content = f\"Successfully generated array of {size} random ints in [{min}, {max}].\"\n",
        "    return content, array"
      ]
    },
    {
      "cell_type": "markdown",
      "id": "49f057a6-8938-43ea-8faf-ae41e797ceb8",
      "metadata": {},
      "source": [
        "如果我们直接使用工具参数来调用我们的工具，我们只会得到输出的内容部分："
      ]
    },
    {
      "cell_type": "code",
      "execution_count": 19,
      "id": "0f2e1528-404b-46e6-b87c-f0957c4b9217",
      "metadata": {
        "execution": {
          "iopub.execute_input": "2024-09-10T20:25:53.179881Z",
          "iopub.status.busy": "2024-09-10T20:25:53.179807Z",
          "iopub.status.idle": "2024-09-10T20:25:53.182100Z",
          "shell.execute_reply": "2024-09-10T20:25:53.181940Z"
        }
      },
      "outputs": [
        {
          "data": {
            "text/plain": [
              "'Successfully generated array of 10 random ints in [0, 9].'"
            ]
          },
          "execution_count": 19,
          "metadata": {},
          "output_type": "execute_result"
        }
      ],
      "source": [
        "generate_random_ints.invoke({\"min\": 0, \"max\": 9, \"size\": 10})"
      ]
    },
    {
      "cell_type": "markdown",
      "id": "1e62ebba-1737-4b97-b61a-7313ade4e8c2",
      "metadata": {},
      "source": [
        "如果我们调用我们的工具，并传入一个 ToolCall（类似由支持工具调用的模型生成的那些），我们会收到一个 ToolMessage，其中包含工具生成的 content 和 artifact："
      ]
    },
    {
      "cell_type": "code",
      "execution_count": 20,
      "id": "cc197777-26eb-46b3-a83b-c2ce116c6311",
      "metadata": {
        "execution": {
          "iopub.execute_input": "2024-09-10T20:25:53.183238Z",
          "iopub.status.busy": "2024-09-10T20:25:53.183170Z",
          "iopub.status.idle": "2024-09-10T20:25:53.185752Z",
          "shell.execute_reply": "2024-09-10T20:25:53.185567Z"
        }
      },
      "outputs": [
        {
          "data": {
            "text/plain": [
              "ToolMessage(content='Successfully generated array of 10 random ints in [0, 9].', name='generate_random_ints', tool_call_id='123', artifact=[4, 8, 2, 4, 1, 0, 9, 5, 8, 1])"
            ]
          },
          "execution_count": 20,
          "metadata": {},
          "output_type": "execute_result"
        }
      ],
      "source": [
        "generate_random_ints.invoke(\n",
        "    {\n",
        "        \"name\": \"generate_random_ints\",\n",
        "        \"args\": {\"min\": 0, \"max\": 9, \"size\": 10},\n",
        "        \"id\": \"123\",  # required\n",
        "        \"type\": \"tool_call\",  # required\n",
        "    }\n",
        ")"
      ]
    },
    {
      "cell_type": "markdown",
      "id": "dfdc1040-bf25-4790-b4c3-59452db84e11",
      "metadata": {},
      "source": [
        "我们可以通过继承 `BaseTool` 来实现相同的效果："
      ]
    },
    {
      "cell_type": "code",
      "execution_count": 21,
      "id": "fe1a09d1-378b-4b91-bb5e-0697c3d7eb92",
      "metadata": {
        "execution": {
          "iopub.execute_input": "2024-09-10T20:25:53.186884Z",
          "iopub.status.busy": "2024-09-10T20:25:53.186803Z",
          "iopub.status.idle": "2024-09-10T20:25:53.190718Z",
          "shell.execute_reply": "2024-09-10T20:25:53.190494Z"
        }
      },
      "outputs": [],
      "source": [
        "from langchain_core.tools import BaseTool\n",
        "\n",
        "\n",
        "class GenerateRandomFloats(BaseTool):\n",
        "    name: str = \"generate_random_floats\"\n",
        "    description: str = \"Generate size random floats in the range [min, max].\"\n",
        "    response_format: str = \"content_and_artifact\"\n",
        "\n",
        "    ndigits: int = 2\n",
        "\n",
        "    def _run(self, min: float, max: float, size: int) -> Tuple[str, List[float]]:\n",
        "        range_ = max - min\n",
        "        array = [\n",
        "            round(min + (range_ * random.random()), ndigits=self.ndigits)\n",
        "            for _ in range(size)\n",
        "        ]\n",
        "        content = f\"Generated {size} floats in [{min}, {max}], rounded to {self.ndigits} decimals.\"\n",
        "        return content, array\n",
        "\n",
        "    # Optionally define an equivalent async method\n",
        "\n",
        "    # async def _arun(self, min: float, max: float, size: int) -> Tuple[str, List[float]]:\n",
        "    #     ..."
      ]
    },
    {
      "cell_type": "code",
      "execution_count": 22,
      "id": "8c3d16f6-1c4a-48ab-b05a-38547c592e79",
      "metadata": {
        "execution": {
          "iopub.execute_input": "2024-09-10T20:25:53.191872Z",
          "iopub.status.busy": "2024-09-10T20:25:53.191794Z",
          "iopub.status.idle": "2024-09-10T20:25:53.194396Z",
          "shell.execute_reply": "2024-09-10T20:25:53.194184Z"
        }
      },
      "outputs": [
        {
          "data": {
            "text/plain": [
              "ToolMessage(content='Generated 3 floats in [0.1, 3.3333], rounded to 4 decimals.', name='generate_random_floats', tool_call_id='123', artifact=[1.5566, 0.5134, 2.7914])"
            ]
          },
          "execution_count": 22,
          "metadata": {},
          "output_type": "execute_result"
        }
      ],
      "source": [
        "rand_gen = GenerateRandomFloats(ndigits=4)\n",
        "\n",
        "rand_gen.invoke(\n",
        "    {\n",
        "        \"name\": \"generate_random_floats\",\n",
        "        \"args\": {\"min\": 0.1, \"max\": 3.3333, \"size\": 3},\n",
        "        \"id\": \"123\",\n",
        "        \"type\": \"tool_call\",\n",
        "    }\n",
        ")"
      ]
    }
  ],
  "metadata": {
    "kernelspec": {
      "display_name": "poetry-venv-311",
      "language": "python",
      "name": "poetry-venv-311"
    },
    "language_info": {
      "codemirror_mode": {
        "name": "ipython",
        "version": 3
      },
      "file_extension": ".py",
      "mimetype": "text/x-python",
      "name": "python",
      "nbconvert_exporter": "python",
      "pygments_lexer": "ipython3",
      "version": "3.11.9"
    },
    "vscode": {
      "interpreter": {
        "hash": "e90c8aa204a57276aa905271aff2d11799d0acb3547adabc5892e639a5e45e34"
      }
    }
  },
  "nbformat": 4,
  "nbformat_minor": 5
}