{
  "cells": [
    {
      "cell_type": "raw",
      "id": "45e0127d",
      "metadata": {},
      "source": [
        "---\n",
        "sidebar_position: 4\n",
        "---"
      ]
    },
    {
      "cell_type": "markdown",
      "id": "d8ca736e",
      "metadata": {},
      "source": [
        "# 如何部分格式化 Prompt 模板\n\n:::info 先决条件\n\n本指南假定您已熟悉以下概念：\n- [Prompt 模板](/docs/concepts/prompt_templates)\n\n:::\n\n如同部分绑定函数参数一样，对 [Prompt 模板](/docs/concepts/prompt_templates/) 进行“部分”操作也是有意义的——例如，传入所需值的一个子集，以此创建一个新的 Prompt 模板，该模板仅期望剩余的剩余值。\n\nLangChain 支持两种方式来实现这一点：\n\n1. 使用字符串值进行部分格式化。\n2. 使用返回字符串值的函数进行部分格式化。\n\n在下面的示例中，我们将探讨这两种用例的动机以及如何在 LangChain 中实现它。\n\n## 使用字符串进行部分格式化\n\n想要对 Prompt 模板进行部分格式化的一个常见用例是，如果您比其他变量更早地获得了 Prompt 中某些变量的访问权限。例如，假设您有一个 Prompt 模板，它需要两个变量 `foo` 和 `baz`。如果您在链的早期获得了 `foo` 的值，但在后期才获得 `baz` 的值，那么将这两个变量一直传递到链的末尾可能会很不方便。相反，您可以使用 `foo` 值对 Prompt 模板进行部分格式化，然后传递部分格式化后的 Prompt 模板，并仅使用它。下面是执行此操作的示例："
      ]
    },
    {
      "cell_type": "code",
      "execution_count": 1,
      "id": "5f1942bd",
      "metadata": {},
      "outputs": [
        {
          "name": "stdout",
          "output_type": "stream",
          "text": [
            "foobaz\n"
          ]
        }
      ],
      "source": [
        "from langchain_core.prompts import PromptTemplate\n",
        "\n",
        "prompt = PromptTemplate.from_template(\"{foo}{bar}\")\n",
        "partial_prompt = prompt.partial(foo=\"foo\")\n",
        "print(partial_prompt.format(bar=\"baz\"))"
      ]
    },
    {
      "cell_type": "markdown",
      "id": "79af4cea",
      "metadata": {},
      "source": [
        "你也可以直接用部分变量来初始化提示词。"
      ]
    },
    {
      "cell_type": "code",
      "execution_count": 2,
      "id": "572fa26f",
      "metadata": {},
      "outputs": [
        {
          "name": "stdout",
          "output_type": "stream",
          "text": [
            "foobaz\n"
          ]
        }
      ],
      "source": [
        "prompt = PromptTemplate(\n",
        "    template=\"{foo}{bar}\", input_variables=[\"bar\"], partial_variables={\"foo\": \"foo\"}\n",
        ")\n",
        "print(prompt.format(bar=\"baz\"))"
      ]
    },
    {
      "cell_type": "markdown",
      "id": "ab12d50d",
      "metadata": {},
      "source": [
        "## 使用函数进行部分应用\n\n另一种常见的用法是使用函数进行部分应用。这种用例适用于你有一个变量，你知道你总是希望以一种通用的方式获取它。一个典型的例子是日期或时间。想象一下你有一个提示，你总是希望它包含当前日期。你无法将其硬编码到提示中，并且与其他输入变量一起传递它很不方便。在这种情况下，能够使用一个始终返回当前日期的函数来部分应用（partial）该提示会非常方便。"
      ]
    },
    {
      "cell_type": "code",
      "execution_count": 4,
      "id": "c538703a",
      "metadata": {},
      "outputs": [
        {
          "name": "stdout",
          "output_type": "stream",
          "text": [
            "Tell me a funny joke about the day 04/21/2024, 19:43:57\n"
          ]
        }
      ],
      "source": [
        "from datetime import datetime\n",
        "\n",
        "\n",
        "def _get_datetime():\n",
        "    now = datetime.now()\n",
        "    return now.strftime(\"%m/%d/%Y, %H:%M:%S\")\n",
        "\n",
        "\n",
        "prompt = PromptTemplate(\n",
        "    template=\"Tell me a {adjective} joke about the day {date}\",\n",
        "    input_variables=[\"adjective\", \"date\"],\n",
        ")\n",
        "partial_prompt = prompt.partial(date=_get_datetime)\n",
        "print(partial_prompt.format(adjective=\"funny\"))"
      ]
    },
    {
      "cell_type": "markdown",
      "id": "da80290e",
      "metadata": {},
      "source": [
        "你也可以直接用部分变量初始化提示，这在这种工作流程中通常更合理。"
      ]
    },
    {
      "cell_type": "code",
      "execution_count": 5,
      "id": "f86fce6d",
      "metadata": {},
      "outputs": [
        {
          "name": "stdout",
          "output_type": "stream",
          "text": [
            "Tell me a funny joke about the day 04/21/2024, 19:43:57\n"
          ]
        }
      ],
      "source": [
        "prompt = PromptTemplate(\n",
        "    template=\"Tell me a {adjective} joke about the day {date}\",\n",
        "    input_variables=[\"adjective\"],\n",
        "    partial_variables={\"date\": _get_datetime},\n",
        ")\n",
        "print(prompt.format(adjective=\"funny\"))"
      ]
    },
    {
      "cell_type": "markdown",
      "id": "3895b210",
      "metadata": {},
      "source": [
        "## 后续步骤\n\n您现在已经学会了如何部分应用变量到您的提示模板。\n\n接下来，请查看本节中关于提示模板的其他操作指南，例如 [为您的提示模板添加少量示例](/docs/how_to/few_shot_examples_chat)。"
      ]
    }
  ],
  "metadata": {
    "kernelspec": {
      "display_name": "Python 3 (ipykernel)",
      "language": "python",
      "name": "python3"
    },
    "language_info": {
      "codemirror_mode": {
        "name": "ipython",
        "version": 3
      },
      "file_extension": ".py",
      "mimetype": "text/x-python",
      "name": "python",
      "nbconvert_exporter": "python",
      "pygments_lexer": "ipython3",
      "version": "3.9.1"
    }
  },
  "nbformat": 4,
  "nbformat_minor": 5
}