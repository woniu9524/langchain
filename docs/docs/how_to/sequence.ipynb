{
  "cells": [
    {
      "cell_type": "raw",
      "metadata": {
        "vscode": {
          "languageId": "raw"
        }
      },
      "source": [
        "---\n",
        "keywords: [Runnable, Runnables, RunnableSequence, LCEL, chain, chains, chaining]\n",
        "---"
      ]
    },
    {
      "cell_type": "markdown",
      "metadata": {},
      "source": [
        "# 如何链式运行 Runnable\n\n:::info 先决条件\n\n本指南假设您熟悉以下概念：\n- [LangChain 表达式语言 (LCEL)](/docs/concepts/lcel)\n- [Prompt 模板](/docs/concepts/prompt_templates)\n- [Chat 模型](/docs/concepts/chat_models)\n- [Output Parser](/docs/concepts/output_parsers)\n\n:::\n\n关于 [LangChain 表达式语言 (LCEL)](/docs/concepts/lcel) 的一点是，任何两个 Runnable 都可以被“链接”成序列。前一个 Runnable 的 `.invoke()` 调用的输出将作为输入传递给下一个 Runnable。这可以通过管道操作符 (`|`) 或更明确的 `.pipe()` 方法完成，它们的功能相同。\n\n生成的 [`RunnableSequence`](https://python.chain.com/api_reference/core/runnables/langchain_core.runnables.base.RunnableSequence.html) 本身就是一个 Runnable，这意味着它可以像任何其他 Runnable 一样被调用、流式传输或进一步链接。以这种方式链接 Runnable 的优点是高效的流式传输（序列将在可用时立即流式传输输出），以及使用 [LangSmith](/docs/how_to/debugging) 等工具进行调试和跟踪。\n\n## 管道操作符：`|`\n\n为了展示其工作原理，让我们看一个例子。我们将介绍 LangChain 中的一个常见模式：使用 [Prompt 模板](/docs/how_to#prompt-templates) 将输入格式化为 [Chat 模型](/docs/how_to#chat-models)，最后使用 [Output Parser](/docs/how_to#output-parsers) 将聊天消息输出转换为字符串。\n\nimport ChatModelTabs from \"@theme/ChatModelTabs\";\n\n<ChatModelTabs\n  customVarName=\"model\"\n/>"
      ]
    },
    {
      "cell_type": "code",
      "execution_count": 1,
      "metadata": {},
      "outputs": [],
      "source": [
        "# | output: false\n",
        "# | echo: false\n",
        "\n",
        "import os\n",
        "from getpass import getpass\n",
        "\n",
        "from langchain_anthropic import ChatAnthropic\n",
        "\n",
        "if \"ANTHROPIC_API_KEY\" not in os.environ:\n",
        "    os.environ[\"ANTHROPIC_API_KEY\"] = getpass()\n",
        "\n",
        "model = ChatAnthropic(model=\"claude-3-sonnet-20240229\", temperature=0)"
      ]
    },
    {
      "cell_type": "code",
      "execution_count": 2,
      "metadata": {},
      "outputs": [],
      "source": [
        "from langchain_core.output_parsers import StrOutputParser\n",
        "from langchain_core.prompts import ChatPromptTemplate\n",
        "\n",
        "prompt = ChatPromptTemplate.from_template(\"tell me a joke about {topic}\")\n",
        "\n",
        "chain = prompt | model | StrOutputParser()"
      ]
    },
    {
      "cell_type": "markdown",
      "metadata": {},
      "source": [
        "Prompt 和模型都是可运行的，并且 Prompt 调用产生的输出类型与 Chat 模型的输入类型相同，因此我们可以将它们链接在一起。然后，我们可以像调用其他 Runnable 一样调用由此产生的序列："
      ]
    },
    {
      "cell_type": "code",
      "execution_count": 3,
      "metadata": {},
      "outputs": [
        {
          "data": {
            "text/plain": [
              "\"Here's a bear joke for you:\\n\\nWhy did the bear dissolve in water?\\nBecause it was a polar bear!\""
            ]
          },
          "execution_count": 3,
          "metadata": {},
          "output_type": "execute_result"
        }
      ],
      "source": [
        "chain.invoke({\"topic\": \"bears\"})"
      ]
    },
    {
      "cell_type": "markdown",
      "metadata": {},
      "source": [
        "### 类型强制\n\n我们甚至可以将此链与其他可运行对象组合，以创建另一个链。这可能涉及使用其他类型的可运行对象进行一些输入/输出格式化，具体取决于链组件所需的输入和输出。\n\n例如，假设我们想将生成笑话的链与另一个评估生成的笑话是否好笑的链组合起来。\n\n我们需要仔细考虑如何将输入格式化到下一个链中。在下面的示例中，链中的字典会自动解析并转换为 [`RunnableParallel`](/docs/how_to/parallel)，它会并行运行所有值，并返回一个包含结果的字典。\n\n这恰好是下一个提示模板所期望的相同格式。以下是其运行效果："
      ]
    },
    {
      "cell_type": "code",
      "execution_count": 4,
      "metadata": {},
      "outputs": [
        {
          "data": {
            "text/plain": [
              "'Haha, that\\'s a clever play on words! Using \"polar\" to imply the bear dissolved or became polar/polarized when put in water. Not the most hilarious joke ever, but it has a cute, groan-worthy pun that makes it mildly amusing. I appreciate a good pun or wordplay joke.'"
            ]
          },
          "execution_count": 4,
          "metadata": {},
          "output_type": "execute_result"
        }
      ],
      "source": [
        "from langchain_core.output_parsers import StrOutputParser\n",
        "\n",
        "analysis_prompt = ChatPromptTemplate.from_template(\"is this a funny joke? {joke}\")\n",
        "\n",
        "composed_chain = {\"joke\": chain} | analysis_prompt | model | StrOutputParser()\n",
        "\n",
        "composed_chain.invoke({\"topic\": \"bears\"})"
      ]
    },
    {
      "cell_type": "markdown",
      "metadata": {},
      "source": [
        "函数也将被强制转换为可运行对象，因此您也可以在链中添加自定义逻辑。以下链与之前的逻辑流程相同："
      ]
    },
    {
      "cell_type": "code",
      "execution_count": 5,
      "metadata": {},
      "outputs": [
        {
          "data": {
            "text/plain": [
              "\"Haha, that's a cute and punny joke! I like how it plays on the idea of beets blushing or turning red like someone blushing. Food puns can be quite amusing. While not a total knee-slapper, it's a light-hearted, groan-worthy dad joke that would make me chuckle and shake my head. Simple vegetable humor!\""
            ]
          },
          "execution_count": 5,
          "metadata": {},
          "output_type": "execute_result"
        }
      ],
      "source": [
        "composed_chain_with_lambda = (\n",
        "    chain\n",
        "    | (lambda input: {\"joke\": input})\n",
        "    | analysis_prompt\n",
        "    | model\n",
        "    | StrOutputParser()\n",
        ")\n",
        "\n",
        "composed_chain_with_lambda.invoke({\"topic\": \"beets\"})"
      ]
    },
    {
      "cell_type": "markdown",
      "metadata": {},
      "source": [
        "但是，请记住，像这样使用函数可能会干扰流式处理等操作。有关更多信息，请参阅[此部分](/docs/how_to/functions)。"
      ]
    },
    {
      "cell_type": "markdown",
      "metadata": {},
      "source": [
        "## `.pipe()` 方法\n\n我们也可以使用 `.pipe()` 方法来组合相同的序列。看起来是这样的："
      ]
    },
    {
      "cell_type": "code",
      "execution_count": 6,
      "metadata": {},
      "outputs": [
        {
          "data": {
            "text/plain": [
              "\"I cannot reproduce any copyrighted material verbatim, but I can try to analyze the humor in the joke you provided without quoting it directly.\\n\\nThe joke plays on the idea that the Cylon raiders, who are the antagonists in the Battlestar Galactica universe, failed to locate the human survivors after attacking their home planets (the Twelve Colonies) due to using an outdated and poorly performing operating system (Windows Vista) for their targeting systems.\\n\\nThe humor stems from the juxtaposition of a futuristic science fiction setting with a relatable real-world frustration – the use of buggy, slow, or unreliable software or technology. It pokes fun at the perceived inadequacies of Windows Vista, which was widely criticized for its performance issues and other problems when it was released.\\n\\nBy attributing the Cylons' failure to locate the humans to their use of Vista, the joke creates an amusing and unexpected connection between a fictional advanced race of robots and a familiar technological annoyance experienced by many people in the real world.\\n\\nOverall, the joke relies on incongruity and relatability to generate humor, but without reproducing any copyrighted material directly.\""
            ]
          },
          "execution_count": 6,
          "metadata": {},
          "output_type": "execute_result"
        }
      ],
      "source": [
        "from langchain_core.runnables import RunnableParallel\n",
        "\n",
        "composed_chain_with_pipe = (\n",
        "    RunnableParallel({\"joke\": chain})\n",
        "    .pipe(analysis_prompt)\n",
        "    .pipe(model)\n",
        "    .pipe(StrOutputParser())\n",
        ")\n",
        "\n",
        "composed_chain_with_pipe.invoke({\"topic\": \"battlestar galactica\"})"
      ]
    },
    {
      "cell_type": "markdown",
      "metadata": {},
      "source": [
        "或者缩写："
      ]
    },
    {
      "cell_type": "code",
      "execution_count": null,
      "metadata": {},
      "outputs": [],
      "source": [
        "composed_chain_with_pipe = RunnableParallel({\"joke\": chain}).pipe(\n",
        "    analysis_prompt, model, StrOutputParser()\n",
        ")"
      ]
    },
    {
      "cell_type": "markdown",
      "metadata": {},
      "source": [
        "## 相关\n\n- [Streaming](/docs/how_to/streaming/): 查看流式处理指南，了解链的流式处理行为"
      ]
    }
  ],
  "metadata": {
    "kernelspec": {
      "display_name": "Python 3 (ipykernel)",
      "language": "python",
      "name": "python3"
    },
    "language_info": {
      "codemirror_mode": {
        "name": "ipython",
        "version": 3
      },
      "file_extension": ".py",
      "mimetype": "text/x-python",
      "name": "python",
      "nbconvert_exporter": "python",
      "pygments_lexer": "ipython3",
      "version": "3.9.1"
    }
  },
  "nbformat": 4,
  "nbformat_minor": 4
}