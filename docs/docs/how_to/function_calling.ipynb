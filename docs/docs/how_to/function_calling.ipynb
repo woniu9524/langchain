{
  "cells": [
    {
      "cell_type": "raw",
      "id": "a413ade7-48f0-4d43-a1f3-d87f550a8018",
      "metadata": {},
      "source": [
        "---\n",
        "sidebar_position: 2\n",
        "---"
      ]
    },
    {
      "cell_type": "markdown",
      "id": "50d59b14-c434-4359-be8e-4a21378e762f",
      "metadata": {},
      "source": [
        "# 如何进行工具/函数调用\n\n:::info\n我们将工具调用与函数调用互换使用。尽管函数调用有时指的是单个函数的调用，但我们对待所有模型的方式是，它们可以在每次消息中返回多个工具或函数调用。\n:::\n\n工具调用允许模型通过生成与用户定义的模式匹配的输出来响应给定提示。虽然名称暗示模型正在执行某些操作，但事实并非如此！模型只是想出了一个工具的参数，而实际运行该工具（或不运行）取决于用户——例如，如果您想从非结构化文本中[提取与某些模式匹配的输出](/docs/tutorials/extraction)，您可以给模型一个“提取”工具，该工具接受匹配所需模式的参数，然后将生成的输出视为最终结果。\n\n工具调用包含一个名称、一个参数字典和一个可选的标识符。参数字典的结构为 `{参数名: 参数值}`。\n\n包括 [Anthropic](https://www.anthropic.com/)、[Cohere](https://cohere.com/)、[Google](https://cloud.google.com/vertex-ai)、[Mistral](https://mistral.ai/)、[OpenAI](https://openai.com/) 等在内的许多 LLM 提供商都支持工具调用功能的变体。这些功能通常允许发送给 LLM 的请求包含可用的工具及其模式，并允许响应包含对这些工具的调用。例如，给定一个搜索引擎工具，LLM 可能会先发出一个对该搜索引擎的调用来处理查询。调用 LLM 的系统可以接收工具调用，执行它，然后将输出返回给 LLM 以告知其响应。LangChain 包含一套[内置工具](/docs/integrations/tools/)，并支持多种定义您自己的[自定义工具](/docs/how_to/custom_tools)的方法。工具调用对于构建[使用工具的链和代理](/docs/how_to#tools)以及更普遍地从模型中获取结构化输出来说都极其有用。\n\n提供商在格式化工具模式和工具调用方面采用了不同的约定。例如，Anthropic 将工具调用作为解析后的结构返回到更大的内容块中：\n```python\n[\n  {\n    \"text\": \"<thinking>\\nI should use a tool.\\n</thinking>\",\n    \"type\": \"text\"\n  },\n  {\n    \"id\": \"id_value\",\n    \"input\": {\"arg_name\": \"arg_value\"},\n    \"name\": \"tool_name\",\n    \"type\": \"tool_use\"\n  }\n]\n```\n而 OpenAI 则将工具调用分离到一个单独的参数中，参数是 JSON 字符串：\n```python\n{\n  \"tool_calls\": [\n    {\n      \"id\": \"id_value\",\n      \"function\": {\n        \"arguments\": '{\"arg_name\": \"arg_value\"}',\n        \"name\": \"tool_name\"\n      },\n      \"type\": \"function\"\n    }\n  ]\n}\n```\nLangChain 实现了定义工具、将它们传递给 LLM 以及表示工具调用的标准接口。\n\n## 将工具传递给 LLM\n\n支持工具调用功能的聊天模型实现了一个 `.bind_tools` 方法，该方法接收一个 LangChain [工具对象](https://python.langchain.com/api_reference/core/tools/langchain_core.tools.BaseTool.html#langchain_core.tools.BaseTool)列表，并将它们以其预期的格式绑定到聊天模型。随后对聊天模型的调用将在其对 LLM 的调用中包含工具模式。\n\n例如，我们可以使用 Python 函数上的 `@tool` 装饰器来定义自定义工具的模式："
      ]
    },
    {
      "cell_type": "code",
      "execution_count": 22,
      "id": "841dca72-1b57-4a42-8e22-da4835c4cfe0",
      "metadata": {},
      "outputs": [],
      "source": [
        "from langchain_core.tools import tool\n",
        "\n",
        "\n",
        "@tool\n",
        "def add(a: int, b: int) -> int:\n",
        "    \"\"\"Adds a and b.\"\"\"\n",
        "    return a + b\n",
        "\n",
        "\n",
        "@tool\n",
        "def multiply(a: int, b: int) -> int:\n",
        "    \"\"\"Multiplies a and b.\"\"\"\n",
        "    return a * b\n",
        "\n",
        "\n",
        "tools = [add, multiply]"
      ]
    },
    {
      "cell_type": "markdown",
      "id": "48058b7d-048d-48e6-a272-3931ad7ad146",
      "metadata": {},
      "source": [
        "或者，我们在下面使用 Pydantic 定义 schema："
      ]
    },
    {
      "cell_type": "code",
      "execution_count": 23,
      "id": "fca56328-85e4-4839-97b7-b5dc55920602",
      "metadata": {},
      "outputs": [],
      "source": [
        "from pydantic import BaseModel, Field\n",
        "\n",
        "\n",
        "# Note that the docstrings here are crucial, as they will be passed along\n",
        "# to the model along with the class name.\n",
        "class Add(BaseModel):\n",
        "    \"\"\"Add two integers together.\"\"\"\n",
        "\n",
        "    a: int = Field(..., description=\"First integer\")\n",
        "    b: int = Field(..., description=\"Second integer\")\n",
        "\n",
        "\n",
        "class Multiply(BaseModel):\n",
        "    \"\"\"Multiply two integers together.\"\"\"\n",
        "\n",
        "    a: int = Field(..., description=\"First integer\")\n",
        "    b: int = Field(..., description=\"Second integer\")\n",
        "\n",
        "\n",
        "tools = [Add, Multiply]"
      ]
    },
    {
      "cell_type": "markdown",
      "id": "ead9068d-11f6-42f3-a508-3c1830189947",
      "metadata": {},
      "source": [
        "我们可以按如下方式将它们绑定到聊天模型：\n\nimport ChatModelTabs from \"@theme/ChatModelTabs\";\n\n<ChatModelTabs\n  customVarName=\"llm\"\n  overrideParams={{fireworks: {model: \"accounts/fireworks/models/firefunction-v1\", kwargs: \"temperature=0\"}}}\n/>\n\n我们可以使用 `bind_tools()` 方法来处理将 `Multiply` 转换为“工具”并将其绑定到模型（即，每次调用模型时传递它）。"
      ]
    },
    {
      "cell_type": "code",
      "execution_count": 67,
      "id": "44eb8327-a03d-4c7c-945e-30f13f455346",
      "metadata": {},
      "outputs": [],
      "source": [
        "# | echo: false\n",
        "# | output: false\n",
        "\n",
        "from langchain_openai import ChatOpenAI\n",
        "\n",
        "llm = ChatOpenAI(model=\"gpt-4o-mini\", temperature=0)"
      ]
    },
    {
      "cell_type": "code",
      "execution_count": 68,
      "id": "af2a83ac-e43f-43ce-b107-9ed8376bfb75",
      "metadata": {},
      "outputs": [],
      "source": [
        "llm_with_tools = llm.bind_tools(tools)"
      ]
    },
    {
      "cell_type": "markdown",
      "id": "16208230-f64f-4935-9aa1-280a91f34ba3",
      "metadata": {},
      "source": [
        "## 工具调用\n\n如果语言模型响应中包含工具调用，它们将作为一系列 `tool call` 对象附加到相应的 [message](https://python.langchain.com/api_reference/core/messages/langchain_core.messages.ai.AIMessage.html#langchain_core.messages.ai.AIMessage) 或 [message chunk](https://python.langchain.com/api_reference/core/messages/langchain_core.messages.ai.AIMessageChunk.html#langchain_core.messages.ai.AIMessageChunk) 的 `.tool_calls` 属性中。`ToolCall` 是一个类型化的字典，包括工具名称、参数值字典以及（可选的）标识符。没有工具调用的消息在此属性上默认为空列表。\n\n示例："
      ]
    },
    {
      "cell_type": "code",
      "execution_count": 15,
      "id": "1640a4b4-c201-4b23-b257-738d854fb9fd",
      "metadata": {},
      "outputs": [
        {
          "data": {
            "text/plain": [
              "[{'name': 'Multiply',\n",
              "  'args': {'a': 3, 'b': 12},\n",
              "  'id': 'call_1Tdp5wUXbYQzpkBoagGXqUTo'},\n",
              " {'name': 'Add',\n",
              "  'args': {'a': 11, 'b': 49},\n",
              "  'id': 'call_k9v09vYioS3X0Qg35zESuUKI'}]"
            ]
          },
          "execution_count": 15,
          "metadata": {},
          "output_type": "execute_result"
        }
      ],
      "source": [
        "query = \"What is 3 * 12? Also, what is 11 + 49?\"\n",
        "\n",
        "llm_with_tools.invoke(query).tool_calls"
      ]
    },
    {
      "cell_type": "markdown",
      "id": "ac3ff0fe-5119-46b8-a578-530245bff23f",
      "metadata": {},
      "source": [
        "`.tool_calls` 属性应包含有效的工具调用。请注意，有时模型提供程序可能会输出格式错误的工具调用（例如，不是有效 JSON 的参数）。在这种情况下，如果解析失败，`.invalid_tool_calls` 属性将填充 `InvalidToolCall` 实例。`InvalidToolCall` 可以包含名称、字符串参数、标识符和错误消息。\n\n如果需要，[输出解析器](/docs/how_to#output-parsers) 可以进一步处理输出。例如，我们可以将其转换回原始 Pydantic 类："
      ]
    },
    {
      "cell_type": "code",
      "execution_count": 16,
      "id": "ca15fcad-74fe-4109-a1b1-346c3eefe238",
      "metadata": {},
      "outputs": [
        {
          "data": {
            "text/plain": [
              "[Multiply(a=3, b=12), Add(a=11, b=49)]"
            ]
          },
          "execution_count": 16,
          "metadata": {},
          "output_type": "execute_result"
        }
      ],
      "source": [
        "from langchain_core.output_parsers.openai_tools import PydanticToolsParser\n",
        "\n",
        "chain = llm_with_tools | PydanticToolsParser(tools=[Multiply, Add])\n",
        "chain.invoke(query)"
      ]
    },
    {
      "cell_type": "markdown",
      "id": "0ba3505d-f405-43ba-93c4-7fbd84f6464b",
      "metadata": {},
      "source": [
        "### 流式传输\n\n当在流式传输的上下文中调用工具时，[消息块](https://python.langchain.com/api_reference/core/messages/langchain_core.messages.ai.AIMessageChunk.html#langchain_core.messages.ai.AIMessageChunk) 将通过 `.tool_call_chunks` 属性的列表填充具有 [工具调用块](https://python.langchain.com/api_reference/core/messages/langchain_core.messages.tool.ToolCallChunk.html#langchain_core.messages.tool.ToolCallChunk) 对象的属性。`ToolCallChunk` 包含工具的 `name`、`args` 和 `id` 的可选字符串字段，以及一个可选的整数字段 `index`，可用于将块连接在一起。字段是可选的，因为工具调用的部分可能在不同的块之间流式传输（例如，包含参数子字符串的块可能对工具名称和 ID 具有空值）。\n\n由于消息块继承自其父消息类，因此包含工具调用块的 [AIMessageChunk](https://python.langchain.com/api_reference/core/messages/langchain_core.messages.ai.AIMessageChunk.html#langchain_core.messages.ai.AIMessageChunk) 还将包含 `.tool_calls` 和 `.invalid_tool_calls` 字段。这些字段是从消息的工具调用块中尽力解析的。\n\n请注意，并非所有提供商目前都支持工具调用的流式传输。\n\n示例："
      ]
    },
    {
      "cell_type": "code",
      "execution_count": 17,
      "id": "4f54a0de-74c7-4f2d-86c5-660aed23840d",
      "metadata": {},
      "outputs": [
        {
          "name": "stdout",
          "output_type": "stream",
          "text": [
            "[]\n",
            "[{'name': 'Multiply', 'args': '', 'id': 'call_d39MsxKM5cmeGJOoYKdGBgzc', 'index': 0}]\n",
            "[{'name': None, 'args': '{\"a\"', 'id': None, 'index': 0}]\n",
            "[{'name': None, 'args': ': 3, ', 'id': None, 'index': 0}]\n",
            "[{'name': None, 'args': '\"b\": 1', 'id': None, 'index': 0}]\n",
            "[{'name': None, 'args': '2}', 'id': None, 'index': 0}]\n",
            "[{'name': 'Add', 'args': '', 'id': 'call_QJpdxD9AehKbdXzMHxgDMMhs', 'index': 1}]\n",
            "[{'name': None, 'args': '{\"a\"', 'id': None, 'index': 1}]\n",
            "[{'name': None, 'args': ': 11,', 'id': None, 'index': 1}]\n",
            "[{'name': None, 'args': ' \"b\": ', 'id': None, 'index': 1}]\n",
            "[{'name': None, 'args': '49}', 'id': None, 'index': 1}]\n",
            "[]\n"
          ]
        }
      ],
      "source": [
        "async for chunk in llm_with_tools.astream(query):\n",
        "    print(chunk.tool_call_chunks)"
      ]
    },
    {
      "cell_type": "markdown",
      "id": "55046320-3466-4ec1-a1f8-336234ba9019",
      "metadata": {},
      "source": [
        "值得注意的是，添加 message chunks 会合并它们对应的 tool call chunks。这也是 LangChain 的各种 [tool output parsers](/docs/how_to/output_parser_structured) 支持流式输出的原理。\n\n例如，下面我们累积了 tool call chunks："
      ]
    },
    {
      "cell_type": "code",
      "execution_count": 18,
      "id": "0a944af0-eedd-43c8-8ff3-f4301f129d9b",
      "metadata": {},
      "outputs": [
        {
          "name": "stdout",
          "output_type": "stream",
          "text": [
            "[]\n",
            "[{'name': 'Multiply', 'args': '', 'id': 'call_erKtz8z3e681cmxYKbRof0NS', 'index': 0}]\n",
            "[{'name': 'Multiply', 'args': '{\"a\"', 'id': 'call_erKtz8z3e681cmxYKbRof0NS', 'index': 0}]\n",
            "[{'name': 'Multiply', 'args': '{\"a\": 3, ', 'id': 'call_erKtz8z3e681cmxYKbRof0NS', 'index': 0}]\n",
            "[{'name': 'Multiply', 'args': '{\"a\": 3, \"b\": 1', 'id': 'call_erKtz8z3e681cmxYKbRof0NS', 'index': 0}]\n",
            "[{'name': 'Multiply', 'args': '{\"a\": 3, \"b\": 12}', 'id': 'call_erKtz8z3e681cmxYKbRof0NS', 'index': 0}]\n",
            "[{'name': 'Multiply', 'args': '{\"a\": 3, \"b\": 12}', 'id': 'call_erKtz8z3e681cmxYKbRof0NS', 'index': 0}, {'name': 'Add', 'args': '', 'id': 'call_tYHYdEV2YBvzDcSCiFCExNvw', 'index': 1}]\n",
            "[{'name': 'Multiply', 'args': '{\"a\": 3, \"b\": 12}', 'id': 'call_erKtz8z3e681cmxYKbRof0NS', 'index': 0}, {'name': 'Add', 'args': '{\"a\"', 'id': 'call_tYHYdEV2YBvzDcSCiFCExNvw', 'index': 1}]\n",
            "[{'name': 'Multiply', 'args': '{\"a\": 3, \"b\": 12}', 'id': 'call_erKtz8z3e681cmxYKbRof0NS', 'index': 0}, {'name': 'Add', 'args': '{\"a\": 11,', 'id': 'call_tYHYdEV2YBvzDcSCiFCExNvw', 'index': 1}]\n",
            "[{'name': 'Multiply', 'args': '{\"a\": 3, \"b\": 12}', 'id': 'call_erKtz8z3e681cmxYKbRof0NS', 'index': 0}, {'name': 'Add', 'args': '{\"a\": 11, \"b\": ', 'id': 'call_tYHYdEV2YBvzDcSCiFCExNvw', 'index': 1}]\n",
            "[{'name': 'Multiply', 'args': '{\"a\": 3, \"b\": 12}', 'id': 'call_erKtz8z3e681cmxYKbRof0NS', 'index': 0}, {'name': 'Add', 'args': '{\"a\": 11, \"b\": 49}', 'id': 'call_tYHYdEV2YBvzDcSCiFCExNvw', 'index': 1}]\n",
            "[{'name': 'Multiply', 'args': '{\"a\": 3, \"b\": 12}', 'id': 'call_erKtz8z3e681cmxYKbRof0NS', 'index': 0}, {'name': 'Add', 'args': '{\"a\": 11, \"b\": 49}', 'id': 'call_tYHYdEV2YBvzDcSCiFCExNvw', 'index': 1}]\n"
          ]
        }
      ],
      "source": [
        "first = True\n",
        "async for chunk in llm_with_tools.astream(query):\n",
        "    if first:\n",
        "        gathered = chunk\n",
        "        first = False\n",
        "    else:\n",
        "        gathered = gathered + chunk\n",
        "\n",
        "    print(gathered.tool_call_chunks)"
      ]
    },
    {
      "cell_type": "code",
      "execution_count": 19,
      "id": "db4e3e3a-3553-44dc-bd31-149c0981a06a",
      "metadata": {},
      "outputs": [
        {
          "name": "stdout",
          "output_type": "stream",
          "text": [
            "<class 'str'>\n"
          ]
        }
      ],
      "source": [
        "print(type(gathered.tool_call_chunks[0][\"args\"]))"
      ]
    },
    {
      "cell_type": "markdown",
      "id": "95e92826-6e55-4684-9498-556f357f73ac",
      "metadata": {},
      "source": [
        "下面我们累积工具调用来演示部分解析："
      ]
    },
    {
      "cell_type": "code",
      "execution_count": 20,
      "id": "e9402bde-d4b5-4564-a99e-f88c9b46b28a",
      "metadata": {},
      "outputs": [
        {
          "name": "stdout",
          "output_type": "stream",
          "text": [
            "[]\n",
            "[]\n",
            "[{'name': 'Multiply', 'args': {}, 'id': 'call_BXqUtt6jYCwR1DguqpS2ehP0'}]\n",
            "[{'name': 'Multiply', 'args': {'a': 3}, 'id': 'call_BXqUtt6jYCwR1DguqpS2ehP0'}]\n",
            "[{'name': 'Multiply', 'args': {'a': 3, 'b': 1}, 'id': 'call_BXqUtt6jYCwR1DguqpS2ehP0'}]\n",
            "[{'name': 'Multiply', 'args': {'a': 3, 'b': 12}, 'id': 'call_BXqUtt6jYCwR1DguqpS2ehP0'}]\n",
            "[{'name': 'Multiply', 'args': {'a': 3, 'b': 12}, 'id': 'call_BXqUtt6jYCwR1DguqpS2ehP0'}]\n",
            "[{'name': 'Multiply', 'args': {'a': 3, 'b': 12}, 'id': 'call_BXqUtt6jYCwR1DguqpS2ehP0'}, {'name': 'Add', 'args': {}, 'id': 'call_UjSHJKROSAw2BDc8cp9cSv4i'}]\n",
            "[{'name': 'Multiply', 'args': {'a': 3, 'b': 12}, 'id': 'call_BXqUtt6jYCwR1DguqpS2ehP0'}, {'name': 'Add', 'args': {'a': 11}, 'id': 'call_UjSHJKROSAw2BDc8cp9cSv4i'}]\n",
            "[{'name': 'Multiply', 'args': {'a': 3, 'b': 12}, 'id': 'call_BXqUtt6jYCwR1DguqpS2ehP0'}, {'name': 'Add', 'args': {'a': 11}, 'id': 'call_UjSHJKROSAw2BDc8cp9cSv4i'}]\n",
            "[{'name': 'Multiply', 'args': {'a': 3, 'b': 12}, 'id': 'call_BXqUtt6jYCwR1DguqpS2ehP0'}, {'name': 'Add', 'args': {'a': 11, 'b': 49}, 'id': 'call_UjSHJKROSAw2BDc8cp9cSv4i'}]\n",
            "[{'name': 'Multiply', 'args': {'a': 3, 'b': 12}, 'id': 'call_BXqUtt6jYCwR1DguqpS2ehP0'}, {'name': 'Add', 'args': {'a': 11, 'b': 49}, 'id': 'call_UjSHJKROSAw2BDc8cp9cSv4i'}]\n"
          ]
        }
      ],
      "source": [
        "first = True\n",
        "async for chunk in llm_with_tools.astream(query):\n",
        "    if first:\n",
        "        gathered = chunk\n",
        "        first = False\n",
        "    else:\n",
        "        gathered = gathered + chunk\n",
        "\n",
        "    print(gathered.tool_calls)"
      ]
    },
    {
      "cell_type": "code",
      "execution_count": 21,
      "id": "8c2f21cc-0c6d-416a-871f-e854621c96e2",
      "metadata": {},
      "outputs": [
        {
          "name": "stdout",
          "output_type": "stream",
          "text": [
            "<class 'dict'>\n"
          ]
        }
      ],
      "source": [
        "print(type(gathered.tool_calls[0][\"args\"]))"
      ]
    },
    {
      "cell_type": "markdown",
      "id": "97a0c977-0c3c-4011-b49b-db98c609d0ce",
      "metadata": {},
      "source": [
        "## 將工具輸出傳遞給模型\n\n如果我們使用模型生成的工具調用來實際調用工具，並希望將工具結果傳遞回模型，我們可以使用 `ToolMessage` 來實現。"
      ]
    },
    {
      "cell_type": "code",
      "execution_count": 117,
      "id": "48049192-be28-42ab-9a44-d897924e67cd",
      "metadata": {},
      "outputs": [
        {
          "data": {
            "text/plain": [
              "[HumanMessage(content='What is 3 * 12? Also, what is 11 + 49?'),\n",
              " AIMessage(content='', additional_kwargs={'tool_calls': [{'id': 'call_K5DsWEmgt6D08EI9AFu9NaL1', 'function': {'arguments': '{\"a\": 3, \"b\": 12}', 'name': 'Multiply'}, 'type': 'function'}, {'id': 'call_qywVrsplg0ZMv7LHYYMjyG81', 'function': {'arguments': '{\"a\": 11, \"b\": 49}', 'name': 'Add'}, 'type': 'function'}]}, response_metadata={'token_usage': {'completion_tokens': 50, 'prompt_tokens': 105, 'total_tokens': 155}, 'model_name': 'gpt-3.5-turbo', 'system_fingerprint': 'fp_b28b39ffa8', 'finish_reason': 'tool_calls', 'logprobs': None}, id='run-1a0b8cdd-9221-4d94-b2ed-5701f67ce9fe-0', tool_calls=[{'name': 'Multiply', 'args': {'a': 3, 'b': 12}, 'id': 'call_K5DsWEmgt6D08EI9AFu9NaL1'}, {'name': 'Add', 'args': {'a': 11, 'b': 49}, 'id': 'call_qywVrsplg0ZMv7LHYYMjyG81'}]),\n",
              " ToolMessage(content='36', tool_call_id='call_K5DsWEmgt6D08EI9AFu9NaL1'),\n",
              " ToolMessage(content='60', tool_call_id='call_qywVrsplg0ZMv7LHYYMjyG81')]"
            ]
          },
          "execution_count": 117,
          "metadata": {},
          "output_type": "execute_result"
        }
      ],
      "source": [
        "from langchain_core.messages import HumanMessage, ToolMessage\n",
        "\n",
        "messages = [HumanMessage(query)]\n",
        "ai_msg = llm_with_tools.invoke(messages)\n",
        "messages.append(ai_msg)\n",
        "for tool_call in ai_msg.tool_calls:\n",
        "    selected_tool = {\"add\": add, \"multiply\": multiply}[tool_call[\"name\"].lower()]\n",
        "    tool_output = selected_tool.invoke(tool_call[\"args\"])\n",
        "    messages.append(ToolMessage(tool_output, tool_call_id=tool_call[\"id\"]))\n",
        "messages"
      ]
    },
    {
      "cell_type": "code",
      "execution_count": 118,
      "id": "611e0f36-d736-48d1-bca1-1cec51d223f3",
      "metadata": {},
      "outputs": [
        {
          "data": {
            "text/plain": [
              "AIMessage(content='3 * 12 is 36 and 11 + 49 is 60.', response_metadata={'token_usage': {'completion_tokens': 18, 'prompt_tokens': 171, 'total_tokens': 189}, 'model_name': 'gpt-3.5-turbo', 'system_fingerprint': 'fp_b28b39ffa8', 'finish_reason': 'stop', 'logprobs': None}, id='run-a6c8093c-b16a-4c92-8308-7c9ac998118c-0')"
            ]
          },
          "execution_count": 118,
          "metadata": {},
          "output_type": "execute_result"
        }
      ],
      "source": [
        "llm_with_tools.invoke(messages)"
      ]
    },
    {
      "cell_type": "markdown",
      "id": "a5937498-d6fe-400a-b192-ef35c314168e",
      "metadata": {},
      "source": [
        "## 少样本提示 (Few-shot prompting)\n\n对于更复杂的工具使用，在提示中添加少样本示例非常有用。我们可以通过向提示中添加带有 `ToolCall` 和相应 `ToolMessage` 的 `AIMessage` 来实现这一点。\n\n例如，即使有一些特殊的指令，我们的模型在处理运算顺序时也可能出错："
      ]
    },
    {
      "cell_type": "code",
      "execution_count": 112,
      "id": "5ef2e7c3-0925-49da-ab8f-e42c4fa40f29",
      "metadata": {},
      "outputs": [
        {
          "data": {
            "text/plain": [
              "[{'name': 'Multiply',\n",
              "  'args': {'a': 119, 'b': 8},\n",
              "  'id': 'call_Dl3FXRVkQCFW4sUNYOe4rFr7'},\n",
              " {'name': 'Add',\n",
              "  'args': {'a': 952, 'b': -20},\n",
              "  'id': 'call_n03l4hmka7VZTCiP387Wud2C'}]"
            ]
          },
          "execution_count": 112,
          "metadata": {},
          "output_type": "execute_result"
        }
      ],
      "source": [
        "llm_with_tools.invoke(\n",
        "    \"Whats 119 times 8 minus 20. Don't do any math yourself, only use tools for math. Respect order of operations\"\n",
        ").tool_calls"
      ]
    },
    {
      "cell_type": "markdown",
      "id": "a5249069-b5f8-40ac-ae74-30d67c4e9168",
      "metadata": {},
      "source": [
        "模型此时不应尝试添加任何内容，因为它在技术上还不知道 119 * 8 的结果。\n\n通过添加包含一些示例的提示，我们可以纠正此行为："
      ]
    },
    {
      "cell_type": "code",
      "execution_count": 107,
      "id": "7b2e8b19-270f-4e1a-8be7-7aad704c1cf4",
      "metadata": {},
      "outputs": [
        {
          "data": {
            "text/plain": [
              "[{'name': 'Multiply',\n",
              "  'args': {'a': 119, 'b': 8},\n",
              "  'id': 'call_MoSgwzIhPxhclfygkYaKIsGZ'}]"
            ]
          },
          "execution_count": 107,
          "metadata": {},
          "output_type": "execute_result"
        }
      ],
      "source": [
        "from langchain_core.messages import AIMessage\n",
        "from langchain_core.prompts import ChatPromptTemplate\n",
        "from langchain_core.runnables import RunnablePassthrough\n",
        "\n",
        "examples = [\n",
        "    HumanMessage(\n",
        "        \"What's the product of 317253 and 128472 plus four\", name=\"example_user\"\n",
        "    ),\n",
        "    AIMessage(\n",
        "        \"\",\n",
        "        name=\"example_assistant\",\n",
        "        tool_calls=[\n",
        "            {\"name\": \"Multiply\", \"args\": {\"x\": 317253, \"y\": 128472}, \"id\": \"1\"}\n",
        "        ],\n",
        "    ),\n",
        "    ToolMessage(\"16505054784\", tool_call_id=\"1\"),\n",
        "    AIMessage(\n",
        "        \"\",\n",
        "        name=\"example_assistant\",\n",
        "        tool_calls=[{\"name\": \"Add\", \"args\": {\"x\": 16505054784, \"y\": 4}, \"id\": \"2\"}],\n",
        "    ),\n",
        "    ToolMessage(\"16505054788\", tool_call_id=\"2\"),\n",
        "    AIMessage(\n",
        "        \"The product of 317253 and 128472 plus four is 16505054788\",\n",
        "        name=\"example_assistant\",\n",
        "    ),\n",
        "]\n",
        "\n",
        "system = \"\"\"You are bad at math but are an expert at using a calculator. \n",
        "\n",
        "Use past tool usage as an example of how to correctly use the tools.\"\"\"\n",
        "few_shot_prompt = ChatPromptTemplate.from_messages(\n",
        "    [\n",
        "        (\"system\", system),\n",
        "        *examples,\n",
        "        (\"human\", \"{query}\"),\n",
        "    ]\n",
        ")\n",
        "\n",
        "chain = {\"query\": RunnablePassthrough()} | few_shot_prompt | llm_with_tools\n",
        "chain.invoke(\"Whats 119 times 8 minus 20\").tool_calls"
      ]
    },
    {
      "cell_type": "markdown",
      "id": "19160e3e-3eb5-4e9a-ae56-74a2dce0af32",
      "metadata": {},
      "source": [
        "这次看起来我们得到了正确的输出。\n\n[LangSmith trace](https://smith.langchain.com/public/f70550a1-585f-4c9d-a643-13148ab1616f/r) 看起来是这样的。"
      ]
    },
    {
      "cell_type": "markdown",
      "id": "020cfd3b-0838-49d0-96bb-7cd919921833",
      "metadata": {},
      "source": [
        "## 后续步骤\n\n- **输出解析**: 请参阅 [OpenAI 工具输出解析器](/docs/how_to/output_parser_structured)，了解如何将函数调用 API 响应提取到各种格式。\n- **结构化输出链**: [某些模型提供了构造函数](/docs/how_to/structured_output)，可以为您处理创建结构化输出链。\n- **工具使用**: 在[这些指南](/docs/how_to#tools)中了解如何构建调用已调用工具的链和代理。"
      ]
    }
  ],
  "metadata": {
    "kernelspec": {
      "display_name": "Python 3 (ipykernel)",
      "language": "python",
      "name": "python3"
    },
    "language_info": {
      "codemirror_mode": {
        "name": "ipython",
        "version": 3
      },
      "file_extension": ".py",
      "mimetype": "text/x-python",
      "name": "python",
      "nbconvert_exporter": "python",
      "pygments_lexer": "ipython3",
      "version": "3.11.9"
    }
  },
  "nbformat": 4,
  "nbformat_minor": 5
}