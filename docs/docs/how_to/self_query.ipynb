{
  "cells": [
    {
      "cell_type": "markdown",
      "id": "c0bc3390-4bed-49d3-96ce-072badb4110b",
      "metadata": {},
      "source": [
        "# 如何实现“自查询”检索\n\n:::info\n\n前往 [Integrations](/docs/integrations/retrievers/self_query) 查看对内置支持自查询的向量存储的文档。\n\n:::\n\n自查询[检索器](/docs/concepts/retrievers/)顾名思义，它能够查询自身。具体来说，给定任何自然语言查询，检索器会使用一个查询构建 LLM 链来编写结构化查询，然后将该结构化查询应用于其底层的[向量存储](/docs/concepts/vectorstores/)。这使得检索器不仅可以使用用户输入的查询与存储文档的内容进行语义相似性比较，还可以从用户查询中提取关于存储文档元数据的过滤器并执行这些过滤器。\n\n![](../../static/img/self_querying.jpg)\n\n## 入门\n为了演示，我们将使用 `Chroma` 向量存储。我们创建了一组包含电影摘要的小型演示文档。\n\n**注意：** 自查询检索器需要您安装 `lark` 包。"
      ]
    },
    {
      "cell_type": "code",
      "execution_count": 1,
      "id": "e1486ca4-9785-4107-90bd-923505542167",
      "metadata": {},
      "outputs": [],
      "source": [
        "%pip install --upgrade --quiet  lark langchain-chroma"
      ]
    },
    {
      "cell_type": "code",
      "execution_count": 1,
      "id": "beec3e35-3750-408c-9f2a-d92cf0a9a321",
      "metadata": {},
      "outputs": [],
      "source": [
        "from langchain_chroma import Chroma\n",
        "from langchain_core.documents import Document\n",
        "from langchain_openai import OpenAIEmbeddings\n",
        "\n",
        "docs = [\n",
        "    Document(\n",
        "        page_content=\"A bunch of scientists bring back dinosaurs and mayhem breaks loose\",\n",
        "        metadata={\"year\": 1993, \"rating\": 7.7, \"genre\": \"science fiction\"},\n",
        "    ),\n",
        "    Document(\n",
        "        page_content=\"Leo DiCaprio gets lost in a dream within a dream within a dream within a ...\",\n",
        "        metadata={\"year\": 2010, \"director\": \"Christopher Nolan\", \"rating\": 8.2},\n",
        "    ),\n",
        "    Document(\n",
        "        page_content=\"A psychologist / detective gets lost in a series of dreams within dreams within dreams and Inception reused the idea\",\n",
        "        metadata={\"year\": 2006, \"director\": \"Satoshi Kon\", \"rating\": 8.6},\n",
        "    ),\n",
        "    Document(\n",
        "        page_content=\"A bunch of normal-sized women are supremely wholesome and some men pine after them\",\n",
        "        metadata={\"year\": 2019, \"director\": \"Greta Gerwig\", \"rating\": 8.3},\n",
        "    ),\n",
        "    Document(\n",
        "        page_content=\"Toys come alive and have a blast doing so\",\n",
        "        metadata={\"year\": 1995, \"genre\": \"animated\"},\n",
        "    ),\n",
        "    Document(\n",
        "        page_content=\"Three men walk into the Zone, three men walk out of the Zone\",\n",
        "        metadata={\n",
        "            \"year\": 1979,\n",
        "            \"director\": \"Andrei Tarkovsky\",\n",
        "            \"genre\": \"thriller\",\n",
        "            \"rating\": 9.9,\n",
        "        },\n",
        "    ),\n",
        "]\n",
        "vectorstore = Chroma.from_documents(docs, OpenAIEmbeddings())"
      ]
    },
    {
      "cell_type": "markdown",
      "id": "99771131-1efb-42e2-95f8-2aaa95f37677",
      "metadata": {},
      "source": [
        "### 创建我们的自查询检索器\n\n现在我们可以实例化我们的检索器。要做到这一点，我们需要预先提供一些关于我们的文档支持的元数据字段以及文档内容的简短描述。"
      ]
    },
    {
      "cell_type": "code",
      "execution_count": 2,
      "id": "7832ca43-cc17-4375-bf4e-679b99584568",
      "metadata": {},
      "outputs": [],
      "source": [
        "from langchain.chains.query_constructor.schema import AttributeInfo\n",
        "from langchain.retrievers.self_query.base import SelfQueryRetriever\n",
        "from langchain_openai import ChatOpenAI\n",
        "\n",
        "metadata_field_info = [\n",
        "    AttributeInfo(\n",
        "        name=\"genre\",\n",
        "        description=\"The genre of the movie. One of ['science fiction', 'comedy', 'drama', 'thriller', 'romance', 'action', 'animated']\",\n",
        "        type=\"string\",\n",
        "    ),\n",
        "    AttributeInfo(\n",
        "        name=\"year\",\n",
        "        description=\"The year the movie was released\",\n",
        "        type=\"integer\",\n",
        "    ),\n",
        "    AttributeInfo(\n",
        "        name=\"director\",\n",
        "        description=\"The name of the movie director\",\n",
        "        type=\"string\",\n",
        "    ),\n",
        "    AttributeInfo(\n",
        "        name=\"rating\", description=\"A 1-10 rating for the movie\", type=\"float\"\n",
        "    ),\n",
        "]\n",
        "document_content_description = \"Brief summary of a movie\"\n",
        "llm = ChatOpenAI(temperature=0)\n",
        "retriever = SelfQueryRetriever.from_llm(\n",
        "    llm,\n",
        "    vectorstore,\n",
        "    document_content_description,\n",
        "    metadata_field_info,\n",
        ")"
      ]
    },
    {
      "cell_type": "markdown",
      "id": "9c66f4c8-3682-46ac-8f17-0839194888a3",
      "metadata": {},
      "source": [
        "### 测试一下\n\n现在我们就可以实际尝试使用我们的检索器了！"
      ]
    },
    {
      "cell_type": "code",
      "execution_count": 3,
      "id": "21c5df28-ea78-4f4e-99d6-489c864d1a04",
      "metadata": {},
      "outputs": [
        {
          "data": {
            "text/plain": [
              "[Document(page_content='Three men walk into the Zone, three men walk out of the Zone', metadata={'director': 'Andrei Tarkovsky', 'genre': 'thriller', 'rating': 9.9, 'year': 1979}),\n",
              " Document(page_content='A psychologist / detective gets lost in a series of dreams within dreams within dreams and Inception reused the idea', metadata={'director': 'Satoshi Kon', 'rating': 8.6, 'year': 2006})]"
            ]
          },
          "execution_count": 3,
          "metadata": {},
          "output_type": "execute_result"
        }
      ],
      "source": [
        "# This example only specifies a filter\n",
        "retriever.invoke(\"I want to watch a movie rated higher than 8.5\")"
      ]
    },
    {
      "cell_type": "code",
      "execution_count": 4,
      "id": "228e5d70-d4cf-43bb-bc8e-3d6f11e784f2",
      "metadata": {},
      "outputs": [
        {
          "data": {
            "text/plain": [
              "[Document(page_content='A bunch of normal-sized women are supremely wholesome and some men pine after them', metadata={'director': 'Greta Gerwig', 'rating': 8.3, 'year': 2019})]"
            ]
          },
          "execution_count": 4,
          "metadata": {},
          "output_type": "execute_result"
        }
      ],
      "source": [
        "# This example specifies a query and a filter\n",
        "retriever.invoke(\"Has Greta Gerwig directed any movies about women\")"
      ]
    },
    {
      "cell_type": "code",
      "execution_count": 5,
      "id": "8244591e-97b5-4aba-b1e5-fe5e1996cb99",
      "metadata": {},
      "outputs": [
        {
          "data": {
            "text/plain": [
              "[Document(page_content='A psychologist / detective gets lost in a series of dreams within dreams within dreams and Inception reused the idea', metadata={'director': 'Satoshi Kon', 'rating': 8.6, 'year': 2006}),\n",
              " Document(page_content='Three men walk into the Zone, three men walk out of the Zone', metadata={'director': 'Andrei Tarkovsky', 'genre': 'thriller', 'rating': 9.9, 'year': 1979})]"
            ]
          },
          "execution_count": 5,
          "metadata": {},
          "output_type": "execute_result"
        }
      ],
      "source": [
        "# This example specifies a composite filter\n",
        "retriever.invoke(\"What's a highly rated (above 8.5) science fiction film?\")"
      ]
    },
    {
      "cell_type": "code",
      "execution_count": 6,
      "id": "420a6906-66fb-449f-8626-2e399ae5e6a8",
      "metadata": {},
      "outputs": [
        {
          "data": {
            "text/plain": [
              "[Document(page_content='Toys come alive and have a blast doing so', metadata={'genre': 'animated', 'year': 1995})]"
            ]
          },
          "execution_count": 6,
          "metadata": {},
          "output_type": "execute_result"
        }
      ],
      "source": [
        "# This example specifies a query and composite filter\n",
        "retriever.invoke(\n",
        "    \"What's a movie after 1990 but before 2005 that's all about toys, and preferably is animated\"\n",
        ")"
      ]
    },
    {
      "cell_type": "markdown",
      "id": "4f25a751-f1d2-405e-84d6-fe9e4f60ce95",
      "metadata": {},
      "source": [
        "### 过滤 k\n\n我们也可以使用 self query retriever 来指定 `k`：要获取的文档数量。\n\n我们可以通过将 `enable_limit=True` 传递给构造函数来实现此目的。"
      ]
    },
    {
      "cell_type": "code",
      "execution_count": 7,
      "id": "ab56595f-0fb4-4b7f-8fc1-e85eff13255a",
      "metadata": {},
      "outputs": [
        {
          "data": {
            "text/plain": [
              "[Document(page_content='A bunch of scientists bring back dinosaurs and mayhem breaks loose', metadata={'genre': 'science fiction', 'rating': 7.7, 'year': 1993}),\n",
              " Document(page_content='Toys come alive and have a blast doing so', metadata={'genre': 'animated', 'year': 1995})]"
            ]
          },
          "execution_count": 7,
          "metadata": {},
          "output_type": "execute_result"
        }
      ],
      "source": [
        "retriever = SelfQueryRetriever.from_llm(\n",
        "    llm,\n",
        "    vectorstore,\n",
        "    document_content_description,\n",
        "    metadata_field_info,\n",
        "    enable_limit=True,\n",
        ")\n",
        "\n",
        "# This example only specifies a relevant query\n",
        "retriever.invoke(\"What are two movies about dinosaurs\")"
      ]
    },
    {
      "cell_type": "markdown",
      "id": "51e144c4-cbf4-4540-92e7-9a68e05f2480",
      "metadata": {},
      "source": [
        "## 使用 LCEL 从零开始构建\n\n为了了解底层的工作原理，并获得更自定义的控制，我们可以从零开始重建检索器。\n\n首先，我们需要创建一个查询构建链。此链将接收用户查询并生成一个 `StructuredQuery` 对象，该对象捕获用户指定的过滤器。我们提供了一些用于创建提示和输出解析器的辅助函数。这些函数具有许多可调参数，为简单起见，我们此处将忽略它们。"
      ]
    },
    {
      "cell_type": "code",
      "execution_count": 8,
      "id": "c5f501ac-46c1-4a54-9d23-c0530e8c88f0",
      "metadata": {},
      "outputs": [],
      "source": [
        "from langchain.chains.query_constructor.base import (\n",
        "    StructuredQueryOutputParser,\n",
        "    get_query_constructor_prompt,\n",
        ")\n",
        "\n",
        "prompt = get_query_constructor_prompt(\n",
        "    document_content_description,\n",
        "    metadata_field_info,\n",
        ")\n",
        "output_parser = StructuredQueryOutputParser.from_components()\n",
        "query_constructor = prompt | llm | output_parser"
      ]
    },
    {
      "cell_type": "markdown",
      "id": "8deb5d44-632f-4f41-b139-fc811979e6e8",
      "metadata": {},
      "source": [
        "让我们来看看我们的提示："
      ]
    },
    {
      "cell_type": "code",
      "execution_count": 9,
      "id": "eed553cb-8575-486b-8349-0806b7817a8c",
      "metadata": {},
      "outputs": [
        {
          "name": "stdout",
          "output_type": "stream",
          "text": [
            "Your goal is to structure the user's query to match the request schema provided below.\n",
            "\n",
            "<< Structured Request Schema >>\n",
            "When responding use a markdown code snippet with a JSON object formatted in the following schema:\n",
            "\n",
            "```json\n",
            "{\n",
            "    \"query\": string \\ text string to compare to document contents\n",
            "    \"filter\": string \\ logical condition statement for filtering documents\n",
            "}\n",
            "```\n",
            "\n",
            "The query string should contain only text that is expected to match the contents of documents. Any conditions in the filter should not be mentioned in the query as well.\n",
            "\n",
            "A logical condition statement is composed of one or more comparison and logical operation statements.\n",
            "\n",
            "A comparison statement takes the form: `comp(attr, val)`:\n",
            "- `comp` (eq | ne | gt | gte | lt | lte | contain | like | in | nin): comparator\n",
            "- `attr` (string):  name of attribute to apply the comparison to\n",
            "- `val` (string): is the comparison value\n",
            "\n",
            "A logical operation statement takes the form `op(statement1, statement2, ...)`:\n",
            "- `op` (and | or | not): logical operator\n",
            "- `statement1`, `statement2`, ... (comparison statements or logical operation statements): one or more statements to apply the operation to\n",
            "\n",
            "Make sure that you only use the comparators and logical operators listed above and no others.\n",
            "Make sure that filters only refer to attributes that exist in the data source.\n",
            "Make sure that filters only use the attributed names with its function names if there are functions applied on them.\n",
            "Make sure that filters only use format `YYYY-MM-DD` when handling date data typed values.\n",
            "Make sure that filters take into account the descriptions of attributes and only make comparisons that are feasible given the type of data being stored.\n",
            "Make sure that filters are only used as needed. If there are no filters that should be applied return \"NO_FILTER\" for the filter value.\n",
            "\n",
            "<< Example 1. >>\n",
            "Data Source:\n",
            "```json\n",
            "{\n",
            "    \"content\": \"Lyrics of a song\",\n",
            "    \"attributes\": {\n",
            "        \"artist\": {\n",
            "            \"type\": \"string\",\n",
            "            \"description\": \"Name of the song artist\"\n",
            "        },\n",
            "        \"length\": {\n",
            "            \"type\": \"integer\",\n",
            "            \"description\": \"Length of the song in seconds\"\n",
            "        },\n",
            "        \"genre\": {\n",
            "            \"type\": \"string\",\n",
            "            \"description\": \"The song genre, one of \"pop\", \"rock\" or \"rap\"\"\n",
            "        }\n",
            "    }\n",
            "}\n",
            "```\n",
            "\n",
            "User Query:\n",
            "What are songs by Taylor Swift or Katy Perry about teenage romance under 3 minutes long in the dance pop genre\n",
            "\n",
            "Structured Request:\n",
            "```json\n",
            "{\n",
            "    \"query\": \"teenager love\",\n",
            "    \"filter\": \"and(or(eq(\\\"artist\\\", \\\"Taylor Swift\\\"), eq(\\\"artist\\\", \\\"Katy Perry\\\")), lt(\\\"length\\\", 180), eq(\\\"genre\\\", \\\"pop\\\"))\"\n",
            "}\n",
            "```\n",
            "\n",
            "\n",
            "<< Example 2. >>\n",
            "Data Source:\n",
            "```json\n",
            "{\n",
            "    \"content\": \"Lyrics of a song\",\n",
            "    \"attributes\": {\n",
            "        \"artist\": {\n",
            "            \"type\": \"string\",\n",
            "            \"description\": \"Name of the song artist\"\n",
            "        },\n",
            "        \"length\": {\n",
            "            \"type\": \"integer\",\n",
            "            \"description\": \"Length of the song in seconds\"\n",
            "        },\n",
            "        \"genre\": {\n",
            "            \"type\": \"string\",\n",
            "            \"description\": \"The song genre, one of \"pop\", \"rock\" or \"rap\"\"\n",
            "        }\n",
            "    }\n",
            "}\n",
            "```\n",
            "\n",
            "User Query:\n",
            "What are songs that were not published on Spotify\n",
            "\n",
            "Structured Request:\n",
            "```json\n",
            "{\n",
            "    \"query\": \"\",\n",
            "    \"filter\": \"NO_FILTER\"\n",
            "}\n",
            "```\n",
            "\n",
            "\n",
            "<< Example 3. >>\n",
            "Data Source:\n",
            "```json\n",
            "{\n",
            "    \"content\": \"Brief summary of a movie\",\n",
            "    \"attributes\": {\n",
            "    \"genre\": {\n",
            "        \"description\": \"The genre of the movie. One of ['science fiction', 'comedy', 'drama', 'thriller', 'romance', 'action', 'animated']\",\n",
            "        \"type\": \"string\"\n",
            "    },\n",
            "    \"year\": {\n",
            "        \"description\": \"The year the movie was released\",\n",
            "        \"type\": \"integer\"\n",
            "    },\n",
            "    \"director\": {\n",
            "        \"description\": \"The name of the movie director\",\n",
            "        \"type\": \"string\"\n",
            "    },\n",
            "    \"rating\": {\n",
            "        \"description\": \"A 1-10 rating for the movie\",\n",
            "        \"type\": \"float\"\n",
            "    }\n",
            "}\n",
            "}\n",
            "```\n",
            "\n",
            "User Query:\n",
            "dummy question\n",
            "\n",
            "Structured Request:\n",
            "\n"
          ]
        }
      ],
      "source": [
        "print(prompt.format(query=\"dummy question\"))"
      ]
    },
    {
      "cell_type": "markdown",
      "id": "00420512-c395-4661-8d07-c7f6f1b45793",
      "metadata": {},
      "source": [
        "而我们的完整链条会产生："
      ]
    },
    {
      "cell_type": "code",
      "execution_count": 10,
      "id": "139cce01-ca75-452b-8de2-033ceec27158",
      "metadata": {},
      "outputs": [
        {
          "data": {
            "text/plain": [
              "StructuredQuery(query='taxi driver', filter=Operation(operator=<Operator.AND: 'and'>, arguments=[Comparison(comparator=<Comparator.EQ: 'eq'>, attribute='genre', value='science fiction'), Operation(operator=<Operator.AND: 'and'>, arguments=[Comparison(comparator=<Comparator.GTE: 'gte'>, attribute='year', value=1990), Comparison(comparator=<Comparator.LT: 'lt'>, attribute='year', value=2000)]), Comparison(comparator=<Comparator.EQ: 'eq'>, attribute='director', value='Luc Besson')]), limit=None)"
            ]
          },
          "execution_count": 10,
          "metadata": {},
          "output_type": "execute_result"
        }
      ],
      "source": [
        "query_constructor.invoke(\n",
        "    {\n",
        "        \"query\": \"What are some sci-fi movies from the 90's directed by Luc Besson about taxi drivers\"\n",
        "    }\n",
        ")"
      ]
    },
    {
      "cell_type": "markdown",
      "id": "9582a5fa-ffed-4d50-ad74-9b12d7d94b2a",
      "metadata": {},
      "source": [
        "查询构造器是自查询检索器的关键要素。要构建一个出色的检索系统，您需要确保您的查询构造器能够良好地工作。这通常需要调整提示、提示中的示例、属性描述等。有关一个在酒店库存数据上细化查询构造器的示例，请参阅 [此 cookbook](https://github.com/langchain-ai/langchain/blob/master/cookbook/self_query_hotel_search.ipynb)。\n\n下一个关键要素是结构化查询翻译器。这是负责将通用的 `StructuredQuery` 对象翻译成您所使用的向量存储的元数据过滤器的对象。LangChain 提供了许多内置的翻译器。要查看所有翻译器，请前往 [集成部分](/docs/integrations/retrievers/self_query)。"
      ]
    },
    {
      "cell_type": "code",
      "execution_count": 11,
      "id": "05f07ead-9aac-4079-9dde-784cb7aa1a8a",
      "metadata": {},
      "outputs": [],
      "source": [
        "from langchain_community.query_constructors.chroma import ChromaTranslator\n",
        "\n",
        "retriever = SelfQueryRetriever(\n",
        "    query_constructor=query_constructor,\n",
        "    vectorstore=vectorstore,\n",
        "    structured_query_translator=ChromaTranslator(),\n",
        ")"
      ]
    },
    {
      "cell_type": "code",
      "execution_count": 12,
      "id": "0ee155c9-7b02-4fe9-8de3-e37385c465af",
      "metadata": {},
      "outputs": [
        {
          "data": {
            "text/plain": [
              "[Document(page_content='Toys come alive and have a blast doing so', metadata={'genre': 'animated', 'year': 1995})]"
            ]
          },
          "execution_count": 12,
          "metadata": {},
          "output_type": "execute_result"
        }
      ],
      "source": [
        "retriever.invoke(\n",
        "    \"What's a movie after 1990 but before 2005 that's all about toys, and preferably is animated\"\n",
        ")"
      ]
    }
  ],
  "metadata": {
    "kernelspec": {
      "display_name": "Python 3 (ipykernel)",
      "language": "python",
      "name": "python3"
    },
    "language_info": {
      "codemirror_mode": {
        "name": "ipython",
        "version": 3
      },
      "file_extension": ".py",
      "mimetype": "text/x-python",
      "name": "python",
      "nbconvert_exporter": "python",
      "pygments_lexer": "ipython3",
      "version": "3.10.1"
    }
  },
  "nbformat": 4,
  "nbformat_minor": 5
}