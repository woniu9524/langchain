{
  "cells": [
    {
      "cell_type": "markdown",
      "metadata": {},
      "source": [
        "# 如何禁用并行工具调用\n\n:::info 特定提供商\n\n此 API 目前仅由 OpenAI 和 Anthropic 支持。\n\n:::\n\nOpenAI 工具调用默认并行执行工具调用。这意味着如果我们问一个问题，例如“东京、纽约和芝加哥的天气如何？”，并且我们有一个获取天气的工具，它将并行调用该工具 3 次。我们可以使用 `parallel_tool_call` 参数强制它一次只调用一个工具。"
      ]
    },
    {
      "cell_type": "markdown",
      "metadata": {},
      "source": [
        "首先，让我们设置工具和模型："
      ]
    },
    {
      "cell_type": "code",
      "execution_count": null,
      "metadata": {},
      "outputs": [],
      "source": [
        "from langchain_core.tools import tool\n",
        "\n",
        "\n",
        "@tool\n",
        "def add(a: int, b: int) -> int:\n",
        "    \"\"\"Adds a and b.\"\"\"\n",
        "    return a + b\n",
        "\n",
        "\n",
        "@tool\n",
        "def multiply(a: int, b: int) -> int:\n",
        "    \"\"\"Multiplies a and b.\"\"\"\n",
        "    return a * b\n",
        "\n",
        "\n",
        "tools = [add, multiply]"
      ]
    },
    {
      "cell_type": "code",
      "execution_count": null,
      "metadata": {},
      "outputs": [],
      "source": [
        "import os\n",
        "from getpass import getpass\n",
        "\n",
        "from langchain.chat_models import init_chat_model\n",
        "\n",
        "if \"OPENAI_API_KEY\" not in os.environ:\n",
        "    os.environ[\"OPENAI_API_KEY\"] = getpass()\n",
        "\n",
        "llm = init_chat_model(\"openai:gpt-4.1-mini\")"
      ]
    },
    {
      "cell_type": "markdown",
      "metadata": {},
      "source": [
        "现在，我们来看一个禁用并行工具调用的快速示例："
      ]
    },
    {
      "cell_type": "code",
      "execution_count": null,
      "metadata": {},
      "outputs": [
        {
          "data": {
            "text/plain": [
              "[{'name': 'add',\n",
              "  'args': {'a': 2, 'b': 2},\n",
              "  'id': 'call_Hh4JOTCDM85Sm9Pr84VKrWu5'}]"
            ]
          },
          "metadata": {},
          "output_type": "display_data"
        }
      ],
      "source": [
        "llm_with_tools = llm.bind_tools(tools, parallel_tool_calls=False)\n",
        "llm_with_tools.invoke(\"Please call the first tool two times\").tool_calls"
      ]
    },
    {
      "cell_type": "markdown",
      "metadata": {},
      "source": [
        "正如我们所见，尽管我们明确指示模型调用两次工具，但通过禁用并行工具调用，模型被限制为只能调用一次。"
      ]
    },
    {
      "cell_type": "markdown",
      "metadata": {},
      "source": []
    }
  ],
  "metadata": {
    "kernelspec": {
      "display_name": "Python 3 (ipykernel)",
      "language": "python",
      "name": "python3"
    },
    "language_info": {
      "codemirror_mode": {
        "name": "ipython",
        "version": 3
      },
      "file_extension": ".py",
      "mimetype": "text/x-python",
      "name": "python",
      "nbconvert_exporter": "python",
      "pygments_lexer": "ipython3",
      "version": "3.10.4"
    }
  },
  "nbformat": 4,
  "nbformat_minor": 4
}