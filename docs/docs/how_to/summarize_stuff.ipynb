{
  "cells": [
    {
      "cell_type": "markdown",
      "id": "c47f5b2f-e14c-43e7-a0ab-d71562636624",
      "metadata": {},
      "source": [
        "---\nsidebar_position: 3\nkeywords: [总结, 摘要, stuff, create_stuff_documents_chain]\n---"
      ]
    },
    {
      "cell_type": "markdown",
      "id": "682a4f53-27db-43ef-a909-dd9ded76051b",
      "metadata": {},
      "source": [
        "# 如何在单次 LLM 调用中总结文本\n\nLLM 可以总结文本并提炼出所需信息，即使是大量文本。在许多情况下，尤其是对于具有更大上下文窗口的模型而言，这可以通过单次 LLM 调用来充分实现。\n\nLangChain 实现了一个简单的 [预构建链](https://python.langchain.com/api_reference/langchain/chains/langchain.chains.combine_documents.stuff.create_stuff_documents_chain.html)，它会将提示“塞入”用于摘要和其他目的所需内容。在本指南中，我们将演示如何使用该链。"
      ]
    },
    {
      "cell_type": "markdown",
      "id": "4aa52e84-d1b5-4b33-b4c4-541156686ef3",
      "metadata": {},
      "source": [
        "## 加载聊天模型\n\n我们先来加载一个[聊天模型](/docs/concepts/chat_models/)：\n\nimport ChatModelTabs from \"@theme/ChatModelTabs\";\n\n<ChatModelTabs\n  customVarName=\"llm\"\n/>"
      ]
    },
    {
      "cell_type": "code",
      "execution_count": 1,
      "id": "e5f426fc-cea6-4351-8931-1e422d3c8b69",
      "metadata": {},
      "outputs": [],
      "source": [
        "# | output: false\n",
        "# | echo: false\n",
        "\n",
        "from langchain_openai import ChatOpenAI\n",
        "\n",
        "llm = ChatOpenAI(model=\"gpt-4o-mini\", temperature=0)"
      ]
    },
    {
      "cell_type": "markdown",
      "id": "b137fe82-0a53-4910-b53e-b87a297f329d",
      "metadata": {},
      "source": [
        "## 加载文档"
      ]
    },
    {
      "cell_type": "markdown",
      "id": "a81dc91d-ae72-4996-b809-d4a9050e815e",
      "metadata": {},
      "source": [
        "接下来，我们需要一些文档来总结。下面，我们生成一些玩具文档以供说明。有关其他数据源，请参阅文档加载器 [操作指南](/docs/how_to/#document-loaders) 和 [集成页面](/docs/integrations/document_loaders/)。[摘要教程](/docs/tutorials/summarization) 还包括一个总结博客文章的示例。"
      ]
    },
    {
      "cell_type": "code",
      "execution_count": 2,
      "id": "27c8fed0-b2d7-4549-a086-f5ee657efc41",
      "metadata": {},
      "outputs": [],
      "source": [
        "from langchain_core.documents import Document\n",
        "\n",
        "documents = [\n",
        "    Document(page_content=\"Apples are red\", metadata={\"title\": \"apple_book\"}),\n",
        "    Document(page_content=\"Blueberries are blue\", metadata={\"title\": \"blueberry_book\"}),\n",
        "    Document(page_content=\"Bananas are yelow\", metadata={\"title\": \"banana_book\"}),\n",
        "]"
      ]
    },
    {
      "cell_type": "markdown",
      "id": "84216044-6f1e-4b90-b4fa-29ec305abf51",
      "metadata": {},
      "source": [
        "## 加载链\n\n下面，我们定义一个简单的提示，并用我们的聊天模型和文档来实例化该链："
      ]
    },
    {
      "cell_type": "code",
      "execution_count": 3,
      "id": "669afa40-2708-4fa1-841e-c74a67bd9175",
      "metadata": {},
      "outputs": [],
      "source": [
        "from langchain.chains.combine_documents import create_stuff_documents_chain\n",
        "from langchain_core.prompts import ChatPromptTemplate\n",
        "\n",
        "prompt = ChatPromptTemplate.from_template(\"Summarize this content: {context}\")\n",
        "chain = create_stuff_documents_chain(llm, prompt)"
      ]
    },
    {
      "cell_type": "markdown",
      "id": "74f3e276-f003-4112-ba14-c6952076c4f8",
      "metadata": {},
      "source": [
        "## 调用链\n\n由于该链是一个 [Runnable](/docs/concepts/runnables)，它实现了通常的调用方法："
      ]
    },
    {
      "cell_type": "code",
      "execution_count": 4,
      "id": "0701bb7d-fbc6-497e-a577-25d56e6e43c6",
      "metadata": {},
      "outputs": [
        {
          "data": {
            "text/plain": [
              "'The content describes the colors of three fruits: apples are red, blueberries are blue, and bananas are yellow.'"
            ]
          },
          "execution_count": 4,
          "metadata": {},
          "output_type": "execute_result"
        }
      ],
      "source": [
        "result = chain.invoke({\"context\": documents})\n",
        "result"
      ]
    },
    {
      "cell_type": "markdown",
      "id": "14fb5647-1458-43af-afb7-5aae7b8cab1d",
      "metadata": {},
      "source": [
        "### 流式传输\n\n请注意，该链还支持单独输出 token 的流式传输："
      ]
    },
    {
      "cell_type": "code",
      "execution_count": 6,
      "id": "0d7a5f67-2ec8-4f90-b085-2969fcb14dce",
      "metadata": {},
      "outputs": [
        {
          "name": "stdout",
          "output_type": "stream",
          "text": [
            "|The| content| describes| the| colors| of| three| fruits|:| apples| are| red|,| blueberries| are| blue|,| and| bananas| are| yellow|.||"
          ]
        }
      ],
      "source": [
        "for chunk in chain.stream({\"context\": documents}):\n",
        "    print(chunk, end=\"|\")"
      ]
    },
    {
      "cell_type": "markdown",
      "id": "f15c225a-db1d-48cf-b135-f588e7d615e6",
      "metadata": {},
      "source": [
        "## 后续步骤\n\n请参阅 [如何进行摘要](/docs/how_to/#summarization) 操作指南，了解其他摘要策略，包括专为大批量文本设计的策略。\n\n另请参阅 [此教程](/docs/tutorials/summarization)，了解更多关于摘要的详细信息。"
      ]
    }
  ],
  "metadata": {
    "kernelspec": {
      "display_name": "Python 3 (ipykernel)",
      "language": "python",
      "name": "python3"
    },
    "language_info": {
      "codemirror_mode": {
        "name": "ipython",
        "version": 3
      },
      "file_extension": ".py",
      "mimetype": "text/x-python",
      "name": "python",
      "nbconvert_exporter": "python",
      "pygments_lexer": "ipython3",
      "version": "3.10.4"
    }
  },
  "nbformat": 4,
  "nbformat_minor": 5
}