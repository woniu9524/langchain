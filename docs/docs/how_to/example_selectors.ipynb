{
  "cells": [
    {
      "cell_type": "raw",
      "id": "af408f61",
      "metadata": {},
      "source": [
        "---\n",
        "sidebar_position: 1\n",
        "---"
      ]
    },
    {
      "cell_type": "markdown",
      "id": "1a65e4c9",
      "metadata": {},
      "source": [
        "# 如何使用示例选择器\n\n如果你有大量的示例，你可能需要选择要包含在提示中的示例。[示例选择器](/docs/concepts/example_selectors/) 就是负责这项工作的类。\n\n基本接口定义如下：\n\n```python\nclass BaseExampleSelector(ABC):\n    \"\"\"用于选择要包含在提示中的示例的接口。\"\"\"\n\n    @abstractmethod\n    def select_examples(self, input_variables: Dict[str, str]) -> List[dict]:\n        \"\"\"根据输入选择要使用的示例。\"\"\"\n        \n    @abstractmethod\n    def add_example(self, example: Dict[str, str]) -> Any:\n        \"\"\"向存储中添加新示例。\"\"\"\n```\n\n唯一需要定义的方法是 ``select_examples``。它接收输入变量，然后返回一个示例列表。具体如何选择示例由每个特定的实现决定。\n\nLangChain 有几种不同类型的示例选择器。有关所有这些类型的概述，请参阅[下表](#example-selector-types)。\n\n在本指南中，我们将介绍如何创建一个自定义示例选择器。"
      ]
    },
    {
      "cell_type": "markdown",
      "id": "638e9039",
      "metadata": {},
      "source": [
        "## 示例\n\n为了使用示例选择器，我们需要创建一个示例列表。这些通常应该是示例输入和输出。为了演示目的，让我们假设我们正在选择如何将英语翻译成意大利语的示例。"
      ]
    },
    {
      "cell_type": "code",
      "execution_count": 36,
      "id": "48658d53",
      "metadata": {},
      "outputs": [],
      "source": [
        "examples = [\n",
        "    {\"input\": \"hi\", \"output\": \"ciao\"},\n",
        "    {\"input\": \"bye\", \"output\": \"arrivederci\"},\n",
        "    {\"input\": \"soccer\", \"output\": \"calcio\"},\n",
        "]"
      ]
    },
    {
      "cell_type": "markdown",
      "id": "c2830b49",
      "metadata": {},
      "source": [
        "## 自定义示例选择器\n\n让我们来写一个示例选择器，它根据单词的长度来选择要 Pick 的示例。"
      ]
    },
    {
      "cell_type": "code",
      "execution_count": 37,
      "id": "56b740a1",
      "metadata": {},
      "outputs": [],
      "source": [
        "from langchain_core.example_selectors.base import BaseExampleSelector\n",
        "\n",
        "\n",
        "class CustomExampleSelector(BaseExampleSelector):\n",
        "    def __init__(self, examples):\n",
        "        self.examples = examples\n",
        "\n",
        "    def add_example(self, example):\n",
        "        self.examples.append(example)\n",
        "\n",
        "    def select_examples(self, input_variables):\n",
        "        # This assumes knowledge that part of the input will be a 'text' key\n",
        "        new_word = input_variables[\"input\"]\n",
        "        new_word_length = len(new_word)\n",
        "\n",
        "        # Initialize variables to store the best match and its length difference\n",
        "        best_match = None\n",
        "        smallest_diff = float(\"inf\")\n",
        "\n",
        "        # Iterate through each example\n",
        "        for example in self.examples:\n",
        "            # Calculate the length difference with the first word of the example\n",
        "            current_diff = abs(len(example[\"input\"]) - new_word_length)\n",
        "\n",
        "            # Update the best match if the current one is closer in length\n",
        "            if current_diff < smallest_diff:\n",
        "                smallest_diff = current_diff\n",
        "                best_match = example\n",
        "\n",
        "        return [best_match]"
      ]
    },
    {
      "cell_type": "code",
      "execution_count": 38,
      "id": "ce928187",
      "metadata": {},
      "outputs": [],
      "source": [
        "example_selector = CustomExampleSelector(examples)"
      ]
    },
    {
      "cell_type": "code",
      "execution_count": 39,
      "id": "37ef3149",
      "metadata": {},
      "outputs": [
        {
          "data": {
            "text/plain": [
              "[{'input': 'bye', 'output': 'arrivederci'}]"
            ]
          },
          "execution_count": 39,
          "metadata": {},
          "output_type": "execute_result"
        }
      ],
      "source": [
        "example_selector.select_examples({\"input\": \"okay\"})"
      ]
    },
    {
      "cell_type": "code",
      "execution_count": 40,
      "id": "c5ad9f35",
      "metadata": {},
      "outputs": [],
      "source": [
        "example_selector.add_example({\"input\": \"hand\", \"output\": \"mano\"})"
      ]
    },
    {
      "cell_type": "code",
      "execution_count": 41,
      "id": "e4127fe0",
      "metadata": {},
      "outputs": [
        {
          "data": {
            "text/plain": [
              "[{'input': 'hand', 'output': 'mano'}]"
            ]
          },
          "execution_count": 41,
          "metadata": {},
          "output_type": "execute_result"
        }
      ],
      "source": [
        "example_selector.select_examples({\"input\": \"okay\"})"
      ]
    },
    {
      "cell_type": "markdown",
      "id": "786c920c",
      "metadata": {},
      "source": [
        "## 在 Prompt 中使用\n\n我们现在可以在 prompt 中使用这个示例选择器"
      ]
    },
    {
      "cell_type": "code",
      "execution_count": 42,
      "id": "619090e2",
      "metadata": {},
      "outputs": [],
      "source": [
        "from langchain_core.prompts.few_shot import FewShotPromptTemplate\n",
        "from langchain_core.prompts.prompt import PromptTemplate\n",
        "\n",
        "example_prompt = PromptTemplate.from_template(\"Input: {input} -> Output: {output}\")"
      ]
    },
    {
      "cell_type": "code",
      "execution_count": 43,
      "id": "5934c415",
      "metadata": {},
      "outputs": [
        {
          "name": "stdout",
          "output_type": "stream",
          "text": [
            "Translate the following words from English to Italian:\n",
            "\n",
            "Input: hand -> Output: mano\n",
            "\n",
            "Input: word -> Output:\n"
          ]
        }
      ],
      "source": [
        "prompt = FewShotPromptTemplate(\n",
        "    example_selector=example_selector,\n",
        "    example_prompt=example_prompt,\n",
        "    suffix=\"Input: {input} -> Output:\",\n",
        "    prefix=\"Translate the following words from English to Italian:\",\n",
        "    input_variables=[\"input\"],\n",
        ")\n",
        "\n",
        "print(prompt.format(input=\"word\"))"
      ]
    },
    {
      "cell_type": "markdown",
      "id": "e767f69d",
      "metadata": {},
      "source": [
        "## 范例选择器类型\n\n| 名称       | 描述                                                                                                |\n|------------|-----------------------------------------------------------------------------------------------------|\n| Similarity | 使用输入与范例之间的语义相似度来决定选择哪些范例。                                                              |\n| MMR        | 使用输入与范例之间的最大边际相关性来决定选择哪些范例。                                                               |\n| Length     | 根据能放入特定长度的范例数量来选择范例。                                                                    |\n| Ngram      | 使用输入与范例之间的 ngram 重叠来决定选择哪些范例。                                                               |"
      ]
    },
    {
      "cell_type": "code",
      "execution_count": null,
      "id": "8a6e0abe",
      "metadata": {},
      "outputs": [],
      "source": []
    }
  ],
  "metadata": {
    "kernelspec": {
      "display_name": "Python 3 (ipykernel)",
      "language": "python",
      "name": "python3"
    },
    "language_info": {
      "codemirror_mode": {
        "name": "ipython",
        "version": 3
      },
      "file_extension": ".py",
      "mimetype": "text/x-python",
      "name": "python",
      "nbconvert_exporter": "python",
      "pygments_lexer": "ipython3",
      "version": "3.10.1"
    }
  },
  "nbformat": 4,
  "nbformat_minor": 5
}