{
  "cells": [
    {
      "cell_type": "raw",
      "metadata": {},
      "source": [
        "---\n",
        "sidebar_position: 6\n",
        "keywords: [RunnablePassthrough, assign, LCEL]\n",
        "---"
      ]
    },
    {
      "cell_type": "markdown",
      "metadata": {},
      "source": [
        "# 如何向链的状态添加值\n\n:::info 先决条件\n\n本指南假设您熟悉以下概念：\n- [LangChain 表达式语言 (LCEL)](/docs/concepts/lcel)\n- [链式可运行对象](/docs/how_to/sequence/)\n- [并行调用可运行对象](/docs/how_to/parallel/)\n- [自定义函数](/docs/how_to/functions/)\n- [传递数据](/docs/how_to/passthrough)\n\n:::\n\n[传递数据](/docs/how_to/passthrough)通过链的步骤的另一种方法是保持链状态的当前值不变，同时在给定键下分配一个新值。[`RunnablePassthrough.assign()`](https://python.langchain.com/api_reference/core/runnables/langchain_core.runnables.passthrough.RunnablePassthrough.html#langchain_core.runnables.passthrough.RunnablePassthrough.assign) 静态方法接收一个输入值，并添加传递给 assign 函数的额外参数。\n\n这在常见的 [LangChain 表达式语言](/docs/concepts/lcel) 模式中很有用，即加性地创建一个字典以用作后续步骤的输入。\n\n这是一个例子："
      ]
    },
    {
      "cell_type": "code",
      "execution_count": null,
      "metadata": {},
      "outputs": [],
      "source": [
        "%pip install --upgrade --quiet langchain langchain-openai\n",
        "\n",
        "import os\n",
        "from getpass import getpass\n",
        "\n",
        "if \"OPENAI_API_KEY\" not in os.environ:\n",
        "    os.environ[\"OPENAI_API_KEY\"] = getpass()"
      ]
    },
    {
      "cell_type": "code",
      "execution_count": 2,
      "metadata": {},
      "outputs": [
        {
          "data": {
            "text/plain": [
              "{'extra': {'num': 1, 'mult': 3}, 'modified': 2}"
            ]
          },
          "execution_count": 2,
          "metadata": {},
          "output_type": "execute_result"
        }
      ],
      "source": [
        "from langchain_core.runnables import RunnableParallel, RunnablePassthrough\n",
        "\n",
        "runnable = RunnableParallel(\n",
        "    extra=RunnablePassthrough.assign(mult=lambda x: x[\"num\"] * 3),\n",
        "    modified=lambda x: x[\"num\"] + 1,\n",
        ")\n",
        "\n",
        "runnable.invoke({\"num\": 1})"
      ]
    },
    {
      "cell_type": "markdown",
      "metadata": {},
      "source": [
        "让我们分解一下这里发生的事情。\n\n- 链的输入是 `{\"num\": 1}`。这被传递给一个 `RunnableParallel`，它以该输入并行调用它接收到的 runnable。\n- `extra` 键下的值被调用。`RunnablePassthrough.assign()` 保留了输入字典中的原始键 (`{\"num\": 1}`)，并分配了一个名为 `mult` 的新键。其值为 `lambda x: x[\"num\"] * 3)`，即 `3`。因此，结果是 `{\"num\": 1, \"mult\": 3}`。\n- `{\"num\": 1, \"mult\": 3}` 被返回给 `RunnableParallel` 调用，并被设为 `extra` 键的值。\n- 同时，`modified` 键被调用。结果是 `2`，因为 lambda 函数从其输入中提取一个名为 `\"num\"` 的键并加一。\n\n因此，结果是 `{'extra': {'num': 1, 'mult': 3}, 'modified': 2}`。\n\n## 流式处理\n\n此方法的一个便捷之处在于，它允许值在可用时立即通过。为了展示这一点，我们将使用 `RunnablePassthrough.assign()` 在检索链中立即返回源文档："
      ]
    },
    {
      "cell_type": "code",
      "execution_count": 3,
      "metadata": {},
      "outputs": [
        {
          "name": "stdout",
          "output_type": "stream",
          "text": [
            "{'question': 'where did harrison work?'}\n",
            "{'context': [Document(page_content='harrison worked at kensho')]}\n",
            "{'output': ''}\n",
            "{'output': 'H'}\n",
            "{'output': 'arrison'}\n",
            "{'output': ' worked'}\n",
            "{'output': ' at'}\n",
            "{'output': ' Kens'}\n",
            "{'output': 'ho'}\n",
            "{'output': '.'}\n",
            "{'output': ''}\n"
          ]
        }
      ],
      "source": [
        "from langchain_community.vectorstores import FAISS\n",
        "from langchain_core.output_parsers import StrOutputParser\n",
        "from langchain_core.prompts import ChatPromptTemplate\n",
        "from langchain_core.runnables import RunnablePassthrough\n",
        "from langchain_openai import ChatOpenAI, OpenAIEmbeddings\n",
        "\n",
        "vectorstore = FAISS.from_texts(\n",
        "    [\"harrison worked at kensho\"], embedding=OpenAIEmbeddings()\n",
        ")\n",
        "retriever = vectorstore.as_retriever()\n",
        "template = \"\"\"Answer the question based only on the following context:\n",
        "{context}\n",
        "\n",
        "Question: {question}\n",
        "\"\"\"\n",
        "prompt = ChatPromptTemplate.from_template(template)\n",
        "model = ChatOpenAI()\n",
        "\n",
        "generation_chain = prompt | model | StrOutputParser()\n",
        "\n",
        "retrieval_chain = {\n",
        "    \"context\": retriever,\n",
        "    \"question\": RunnablePassthrough(),\n",
        "} | RunnablePassthrough.assign(output=generation_chain)\n",
        "\n",
        "stream = retrieval_chain.stream(\"where did harrison work?\")\n",
        "\n",
        "for chunk in stream:\n",
        "    print(chunk)"
      ]
    },
    {
      "cell_type": "markdown",
      "metadata": {},
      "source": [
        "我们可以看到第一个块包含原始的 `\"question\"`，因为它是即时可用的。第二个块包含 `\"context\"`，因为检索器是第二个完成的。最后，`generation_chain` 的输出会随着它的可用而以块的形式流式传输。\n\n## 下一步\n\n现在您已经学会了如何将数据传递通过链来帮助格式化在链中流动的数据。\n\n要了解更多信息，请参阅本节中关于 runnables 的其他操作指南。"
      ]
    },
    {
      "cell_type": "markdown",
      "metadata": {},
      "source": []
    }
  ],
  "metadata": {
    "kernelspec": {
      "display_name": "Python 3 (ipykernel)",
      "language": "python",
      "name": "python3"
    },
    "language_info": {
      "codemirror_mode": {
        "name": "ipython",
        "version": 3
      },
      "file_extension": ".py",
      "mimetype": "text/x-python",
      "name": "python",
      "nbconvert_exporter": "python",
      "pygments_lexer": "ipython3",
      "version": "3.9.1"
    }
  },
  "nbformat": 4,
  "nbformat_minor": 4
}