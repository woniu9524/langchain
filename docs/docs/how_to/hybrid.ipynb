{
  "cells": [
    {
      "cell_type": "markdown",
      "id": "14d3fd06",
      "metadata": {
        "id": "14d3fd06"
      },
      "source": [
        "# 混合搜索\n\nLangChain 中的标准搜索是通过向量相似性完成的。然而，许多 [向量存储](/docs/integrations/vectorstores/) 实现（Astra DB、ElasticSearch、Neo4J、AzureSearch、Qdrant 等）还支持更高级的搜索，它结合了向量相似性搜索和其他搜索技术（全文、BM25 等）。这通常被称为“混合”搜索。\n\n**步骤 1：确保您使用的向量存储支持混合搜索**\n\n目前，LangChain 中没有统一的方法来执行混合搜索。每种向量存储可能有自己的方法。这通常会作为在进行 `similarity_search` 时传递的关键字参数暴露出来。\n\n通过阅读文档或源代码，弄清楚您使用的向量存储是否支持混合搜索，如果支持，如何使用它。\n\n**步骤 2：为链添加该参数作为可配置字段**\n\n这将允许您在运行时轻松调用链并配置任何相关的标志。有关配置的更多信息，请参阅[此文档](/docs/how_to/configure)。\n\n**步骤 3：使用该可配置字段调用链**\n\n现在，在运行时，您可以使用该可配置字段调用此链。\n\n## 代码示例\n\n让我们通过一个具体的代码示例来看看这是什么样子。在本示例中，我们将使用 Astra DB 的 Cassandra/CQL 接口。\n\n安装以下 Python 包："
      ]
    },
    {
      "cell_type": "code",
      "execution_count": null,
      "id": "c2efe35eea197769",
      "metadata": {
        "id": "c2efe35eea197769",
        "outputId": "527275b4-076e-4b22-945c-e41a59188116"
      },
      "outputs": [],
      "source": [
        "!pip install \"cassio>=0.1.7\""
      ]
    },
    {
      "cell_type": "markdown",
      "id": "b4ef96d44341cd84",
      "metadata": {
        "collapsed": false,
        "id": "b4ef96d44341cd84"
      },
      "source": [
        "获取[连接密钥](https://docs.datastax.com/en/astra/astra-db-vector/get-started/quickstart.html)。\n\n初始化 cassio："
      ]
    },
    {
      "cell_type": "code",
      "execution_count": null,
      "id": "cb2cef097277c32e",
      "metadata": {
        "id": "cb2cef097277c32e",
        "outputId": "4c3d05a0-319a-44a0-8ec3-0a9c78453132"
      },
      "outputs": [],
      "source": [
        "import cassio\n",
        "\n",
        "cassio.init(\n",
        "    database_id=\"Your database ID\",\n",
        "    token=\"Your application token\",\n",
        "    keyspace=\"Your key space\",\n",
        ")"
      ]
    },
    {
      "cell_type": "markdown",
      "id": "e1e51444877f45eb",
      "metadata": {
        "collapsed": false,
        "id": "e1e51444877f45eb"
      },
      "source": [
        "使用标准的[索引分析器](https://docs.datastax.com/en/astra/astra-db-vector/cql/use-analyzers-with-cql.html)创建 Cassandra VectorStore。索引分析器对于启用词语匹配是必需的。"
      ]
    },
    {
      "cell_type": "code",
      "execution_count": null,
      "id": "7345de3c",
      "metadata": {
        "id": "7345de3c",
        "outputId": "d38bcee0-0134-4ac6-8d35-afcce282481b"
      },
      "outputs": [],
      "source": [
        "from cassio.table.cql import STANDARD_ANALYZER\n",
        "from langchain_community.vectorstores import Cassandra\n",
        "from langchain_openai import OpenAIEmbeddings\n",
        "\n",
        "embeddings = OpenAIEmbeddings()\n",
        "vectorstore = Cassandra(\n",
        "    embedding=embeddings,\n",
        "    table_name=\"test_hybrid\",\n",
        "    body_index_options=[STANDARD_ANALYZER],\n",
        "    session=None,\n",
        "    keyspace=None,\n",
        ")\n",
        "\n",
        "vectorstore.add_texts(\n",
        "    [\n",
        "        \"In 2023, I visited Paris\",\n",
        "        \"In 2022, I visited New York\",\n",
        "        \"In 2021, I visited New Orleans\",\n",
        "    ]\n",
        ")"
      ]
    },
    {
      "cell_type": "markdown",
      "id": "73887f23bbab978c",
      "metadata": {
        "collapsed": false,
        "id": "73887f23bbab978c"
      },
      "source": [
        "如果我们进行标准的相似性搜索，我们会得到所有文档："
      ]
    },
    {
      "cell_type": "code",
      "execution_count": null,
      "id": "3c2a39fa",
      "metadata": {
        "id": "3c2a39fa",
        "outputId": "5290085b-896c-4c81-9b40-c315331b7009"
      },
      "outputs": [
        {
          "data": {
            "text/plain": [
              "[Document(page_content='In 2022, I visited New York'),\n",
              "Document(page_content='In 2023, I visited Paris'),\n",
              "Document(page_content='In 2021, I visited New Orleans')]"
            ]
          },
          "execution_count": null,
          "metadata": {},
          "output_type": "execute_result"
        }
      ],
      "source": [
        "vectorstore.as_retriever().invoke(\"What city did I visit last?\")"
      ]
    },
    {
      "cell_type": "markdown",
      "id": "78d4c3c79e67d8c3",
      "metadata": {
        "collapsed": false,
        "id": "78d4c3c79e67d8c3"
      },
      "source": [
        "Astra DB vectorstore 的 `body_search` 参数可用于过滤搜索词 `new`。"
      ]
    },
    {
      "cell_type": "code",
      "execution_count": null,
      "id": "56393baa",
      "metadata": {
        "id": "56393baa",
        "outputId": "d1c939f3-342f-4df4-94a3-d25429b5a25e"
      },
      "outputs": [
        {
          "data": {
            "text/plain": [
              "[Document(page_content='In 2022, I visited New York'),\n",
              "Document(page_content='In 2021, I visited New Orleans')]"
            ]
          },
          "execution_count": null,
          "metadata": {},
          "output_type": "execute_result"
        }
      ],
      "source": [
        "vectorstore.as_retriever(search_kwargs={\"body_search\": \"new\"}).invoke(\n",
        "    \"What city did I visit last?\"\n",
        ")"
      ]
    },
    {
      "cell_type": "markdown",
      "id": "88ae97ed",
      "metadata": {
        "id": "88ae97ed"
      },
      "source": [
        "现在，我们可以创建用于问答的链了"
      ]
    },
    {
      "cell_type": "code",
      "execution_count": null,
      "id": "62707b4f",
      "metadata": {
        "id": "62707b4f"
      },
      "outputs": [],
      "source": [
        "from langchain_core.output_parsers import StrOutputParser\n",
        "from langchain_core.prompts import ChatPromptTemplate\n",
        "from langchain_core.runnables import (\n",
        "    ConfigurableField,\n",
        "    RunnablePassthrough,\n",
        ")\n",
        "from langchain_openai import ChatOpenAI"
      ]
    },
    {
      "cell_type": "markdown",
      "id": "b6778ffa",
      "metadata": {
        "id": "b6778ffa"
      },
      "source": [
        "这是一个基础的问答链设置。"
      ]
    },
    {
      "cell_type": "code",
      "execution_count": null,
      "id": "44a865f6",
      "metadata": {
        "id": "44a865f6"
      },
      "outputs": [],
      "source": [
        "template = \"\"\"Answer the question based only on the following context:\n",
        "{context}\n",
        "Question: {question}\n",
        "\"\"\"\n",
        "prompt = ChatPromptTemplate.from_template(template)\n",
        "\n",
        "model = ChatOpenAI()\n",
        "\n",
        "retriever = vectorstore.as_retriever()"
      ]
    },
    {
      "cell_type": "markdown",
      "id": "72125166",
      "metadata": {
        "id": "72125166"
      },
      "source": [
        "这里我们将检索器标记为具有可配置字段。所有向量存储检索器都有一个名为 `search_kwargs` 的字段。它就是一个字典，包含向量存储特定的字段。"
      ]
    },
    {
      "cell_type": "code",
      "execution_count": null,
      "id": "babbadff",
      "metadata": {
        "id": "babbadff"
      },
      "outputs": [],
      "source": [
        "configurable_retriever = retriever.configurable_fields(\n",
        "    search_kwargs=ConfigurableField(\n",
        "        id=\"search_kwargs\",\n",
        "        name=\"Search Kwargs\",\n",
        "        description=\"The search kwargs to use\",\n",
        "    )\n",
        ")"
      ]
    },
    {
      "cell_type": "markdown",
      "id": "2d481b70",
      "metadata": {
        "id": "2d481b70"
      },
      "source": [
        "现在我们可以使用我们可配置的检索器来创建链了。"
      ]
    },
    {
      "cell_type": "code",
      "execution_count": null,
      "id": "210b0446",
      "metadata": {
        "id": "210b0446"
      },
      "outputs": [],
      "source": [
        "chain = (\n",
        "    {\"context\": configurable_retriever, \"question\": RunnablePassthrough()}\n",
        "    | prompt\n",
        "    | model\n",
        "    | StrOutputParser()\n",
        ")"
      ]
    },
    {
      "cell_type": "code",
      "execution_count": null,
      "id": "a38037b2",
      "metadata": {
        "id": "a38037b2",
        "outputId": "1ea14996-5965-4a5e-9678-b9c35ce5c6de"
      },
      "outputs": [
        {
          "data": {
            "text/plain": [
              "Paris"
            ]
          },
          "execution_count": null,
          "metadata": {},
          "output_type": "execute_result"
        }
      ],
      "source": [
        "chain.invoke(\"What city did I visit last?\")"
      ]
    },
    {
      "cell_type": "markdown",
      "id": "7f6458c3",
      "metadata": {
        "id": "7f6458c3"
      },
      "source": [
        "现在我们可以用可配置的选项来调用链了。`search_kwargs` 是可配置字段的 id。该值是用于 Astra DB 的搜索 kwargs。"
      ]
    },
    {
      "cell_type": "code",
      "execution_count": null,
      "id": "9gYLqBTH8BFz",
      "metadata": {
        "id": "9gYLqBTH8BFz",
        "outputId": "4358a2e6-f306-48f1-dd5c-781ac8a33e89"
      },
      "outputs": [
        {
          "data": {
            "text/plain": [
              "New York"
            ]
          },
          "execution_count": null,
          "metadata": {},
          "output_type": "execute_result"
        }
      ],
      "source": [
        "chain.invoke(\n",
        "    \"What city did I visit last?\",\n",
        "    config={\"configurable\": {\"search_kwargs\": {\"body_search\": \"new\"}}},\n",
        ")"
      ]
    }
  ],
  "metadata": {
    "kernelspec": {
      "display_name": "Python 3 (ipykernel)",
      "language": "python",
      "name": "python3"
    },
    "language_info": {
      "codemirror_mode": {
        "name": "ipython",
        "version": 3
      },
      "file_extension": ".py",
      "mimetype": "text/x-python",
      "name": "python",
      "nbconvert_exporter": "python",
      "pygments_lexer": "ipython3",
      "version": "3.9.1"
    }
  },
  "nbformat": 4,
  "nbformat_minor": 5
}