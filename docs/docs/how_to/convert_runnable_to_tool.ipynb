{
  "cells": [
    {
      "cell_type": "markdown",
      "id": "9a8bceb3-95bd-4496-bb9e-57655136e070",
      "metadata": {},
      "source": [
        "# 如何将 Runnables 转换为 Tools\n\n:::info 先决条件\n\n本指南假设您熟悉以下概念：\n\n- [Runnables](/docs/concepts/runnables)\n- [Tools](/docs/concepts/tools)\n- [Agents](/docs/tutorials/agents)\n\n:::\n\n在这里，我们将演示如何将 LangChain `Runnable` 转换为可供 agents、chains 或 chat models 使用的 tool。\n\n## 依赖\n\n**注意**: 本指南需要 `langchain-core` >= 0.2.13。我们还将使用 [OpenAI](/docs/integrations/providers/openai/) 进行 embeddings，但任何 LangChain embeddings 都应该足够。我们将使用一个简单的 [LangGraph](https://langchain-ai.github.io/langgraph/) agent 作为演示。"
      ]
    },
    {
      "cell_type": "code",
      "execution_count": null,
      "id": "92341f48-2c29-4ce9-8ab8-0a7c7a7c98a1",
      "metadata": {},
      "outputs": [],
      "source": [
        "%%capture --no-stderr\n",
        "%pip install -U langchain-core langchain-openai langgraph"
      ]
    },
    {
      "cell_type": "markdown",
      "id": "2b0dcc1a-48e8-4a81-b920-3563192ce076",
      "metadata": {},
      "source": [
        "LangChain 的 [tools](/docs/concepts/tools) 是代理、链或聊天模型可以用来与世界进行交互的接口。有关工具调用、内置工具、自定义工具等更多信息，请参阅 [此处](/docs/how_to/#tools) 的操作指南。\n\nLangChain tools-- [BaseTool](https://python.langchain.com/api_reference/core/tools/langchain_core.tools.BaseTool.html) 的实例-- 是具有附加约束的 [Runnables](/docs/concepts/runnables)，这些约束使它们能够被语言模型有效地调用：\n\n- 它们的输入被限制为可序列化的，特别是字符串和 Python `dict` 对象；\n- 它们包含名称和描述，指明如何以及何时使用它们；\n- 它们可能包含一个详细的 [args_schema](https://python.langchain.com/docs/how_to/custom_tools/) 来描述它们的参数。也就是说，虽然一个工具（作为 `Runnable`）可能接受单个 `dict` 输入，但填充 `dict` 所需的具体键和类型信息应在 `args_schema` 中指定。\n\n接受字符串或 `dict` 输入的 Runnables 可以使用 [as_tool](https://python.langchain.com/api_reference/core/runnables/langchain_core.runnables.base.Runnable.html#langchain_core.runnables.base.Runnable.as_tool) 方法转换为工具，这允许指定名称、描述和额外的参数 schema 信息。"
      ]
    },
    {
      "cell_type": "markdown",
      "id": "b4d76680-1b6b-4862-8c4f-22766a1d41f2",
      "metadata": {},
      "source": [
        "## 基本用法\n\n使用类型化的 `dict` 输入："
      ]
    },
    {
      "cell_type": "code",
      "execution_count": 2,
      "id": "b2cc4231-64a3-4733-a284-932dcbf2fcc3",
      "metadata": {},
      "outputs": [],
      "source": [
        "from typing import List\n",
        "\n",
        "from langchain_core.runnables import RunnableLambda\n",
        "from typing_extensions import TypedDict\n",
        "\n",
        "\n",
        "class Args(TypedDict):\n",
        "    a: int\n",
        "    b: List[int]\n",
        "\n",
        "\n",
        "def f(x: Args) -> str:\n",
        "    return str(x[\"a\"] * max(x[\"b\"]))\n",
        "\n",
        "\n",
        "runnable = RunnableLambda(f)\n",
        "as_tool = runnable.as_tool(\n",
        "    name=\"My tool\",\n",
        "    description=\"Explanation of when to use tool.\",\n",
        ")"
      ]
    },
    {
      "cell_type": "code",
      "execution_count": 3,
      "id": "57f2d435-624d-459a-903d-8509fbbde610",
      "metadata": {},
      "outputs": [
        {
          "name": "stdout",
          "output_type": "stream",
          "text": [
            "Explanation of when to use tool.\n"
          ]
        },
        {
          "data": {
            "text/plain": [
              "{'properties': {'a': {'title': 'A', 'type': 'integer'},\n",
              "  'b': {'items': {'type': 'integer'}, 'title': 'B', 'type': 'array'}},\n",
              " 'required': ['a', 'b'],\n",
              " 'title': 'My tool',\n",
              " 'type': 'object'}"
            ]
          },
          "execution_count": 3,
          "metadata": {},
          "output_type": "execute_result"
        }
      ],
      "source": [
        "print(as_tool.description)\n",
        "\n",
        "as_tool.args_schema.model_json_schema()"
      ]
    },
    {
      "cell_type": "code",
      "execution_count": 4,
      "id": "54ae7384-a03d-4fa4-8cdf-9604a4bc39ee",
      "metadata": {},
      "outputs": [
        {
          "data": {
            "text/plain": [
              "'6'"
            ]
          },
          "execution_count": 4,
          "metadata": {},
          "output_type": "execute_result"
        }
      ],
      "source": [
        "as_tool.invoke({\"a\": 3, \"b\": [1, 2]})"
      ]
    },
    {
      "cell_type": "markdown",
      "id": "9038f587-4613-4f50-b349-135f9e7e3b15",
      "metadata": {},
      "source": [
        "在不键入信息的情况下，可以通过 `arg_types` 指定参数类型："
      ]
    },
    {
      "cell_type": "code",
      "execution_count": 5,
      "id": "169f733c-4936-497f-8577-ee769dc16b88",
      "metadata": {},
      "outputs": [],
      "source": [
        "from typing import Any, Dict\n",
        "\n",
        "\n",
        "def g(x: Dict[str, Any]) -> str:\n",
        "    return str(x[\"a\"] * max(x[\"b\"]))\n",
        "\n",
        "\n",
        "runnable = RunnableLambda(g)\n",
        "as_tool = runnable.as_tool(\n",
        "    name=\"My tool\",\n",
        "    description=\"Explanation of when to use tool.\",\n",
        "    arg_types={\"a\": int, \"b\": List[int]},\n",
        ")"
      ]
    },
    {
      "cell_type": "markdown",
      "id": "32b1a992-8997-4c98-8eb2-c9fe9431b799",
      "metadata": {},
      "source": [
        "或者，可以通过直接传递工具所需的 [args_schema](https://python.langchain.com/api_reference/core/tools/langchain_core.tools.BaseTool.html#langchain_core.tools.BaseTool.args_schema) 来完全指定 schema："
      ]
    },
    {
      "cell_type": "code",
      "execution_count": 6,
      "id": "eb102705-89b7-48dc-9158-d36d5f98ae8e",
      "metadata": {},
      "outputs": [],
      "source": [
        "from pydantic import BaseModel, Field\n",
        "\n",
        "\n",
        "class GSchema(BaseModel):\n",
        "    \"\"\"Apply a function to an integer and list of integers.\"\"\"\n",
        "\n",
        "    a: int = Field(..., description=\"Integer\")\n",
        "    b: List[int] = Field(..., description=\"List of ints\")\n",
        "\n",
        "\n",
        "runnable = RunnableLambda(g)\n",
        "as_tool = runnable.as_tool(GSchema)"
      ]
    },
    {
      "cell_type": "markdown",
      "id": "7c474d85-4e01-4fae-9bba-0c6c8c26475c",
      "metadata": {},
      "source": [
        "字符串输入也受支持："
      ]
    },
    {
      "cell_type": "code",
      "execution_count": 7,
      "id": "c475282a-58d6-4c2b-af7d-99b73b7d8a13",
      "metadata": {},
      "outputs": [],
      "source": [
        "def f(x: str) -> str:\n",
        "    return x + \"a\"\n",
        "\n",
        "\n",
        "def g(x: str) -> str:\n",
        "    return x + \"z\"\n",
        "\n",
        "\n",
        "runnable = RunnableLambda(f) | g\n",
        "as_tool = runnable.as_tool()"
      ]
    },
    {
      "cell_type": "code",
      "execution_count": 8,
      "id": "ad6d8d96-3a87-40bd-a2ac-44a8acde0a8e",
      "metadata": {},
      "outputs": [
        {
          "data": {
            "text/plain": [
              "'baz'"
            ]
          },
          "execution_count": 8,
          "metadata": {},
          "output_type": "execute_result"
        }
      ],
      "source": [
        "as_tool.invoke(\"b\")"
      ]
    },
    {
      "cell_type": "markdown",
      "id": "89fdb3a7-d228-48f0-8f73-262af4febb58",
      "metadata": {},
      "source": [
        "## 在 Agents 中\n\n下面我们将 LangChain Runnables 作为工具集成到 **agent** 应用中。我们将通过以下方式进行演示：\n\n- 文档 **retriever**；\n- 一个简单的 **RAG** 链，允许 agent 将相关查询委托给它。\n\n我们首先实例化一个支持 **tool calling** 的聊天模型：\n\nimport ChatModelTabs from \"@theme/ChatModelTabs\";\n\n<ChatModelTabs customVarName=\"llm\" />"
      ]
    },
    {
      "cell_type": "code",
      "execution_count": 9,
      "id": "d06c9f2a-4475-450f-9106-54db1d99623b",
      "metadata": {},
      "outputs": [],
      "source": [
        "# | output: false\n",
        "# | echo: false\n",
        "\n",
        "from langchain_openai import ChatOpenAI\n",
        "\n",
        "llm = ChatOpenAI(model=\"gpt-4o-mini\", temperature=0)"
      ]
    },
    {
      "cell_type": "markdown",
      "id": "e8a2038a-d762-4196-b5e3-fdb89c11e71d",
      "metadata": {},
      "source": [
        "遵循 [RAG 教程](/docs/tutorials/rag/)，我们首先构建一个检索器："
      ]
    },
    {
      "cell_type": "code",
      "execution_count": 10,
      "id": "23d2a47e-6712-4294-81c8-2c1d76b4bb81",
      "metadata": {},
      "outputs": [],
      "source": [
        "from langchain_core.documents import Document\n",
        "from langchain_core.vectorstores import InMemoryVectorStore\n",
        "from langchain_openai import OpenAIEmbeddings\n",
        "\n",
        "documents = [\n",
        "    Document(\n",
        "        page_content=\"Dogs are great companions, known for their loyalty and friendliness.\",\n",
        "    ),\n",
        "    Document(\n",
        "        page_content=\"Cats are independent pets that often enjoy their own space.\",\n",
        "    ),\n",
        "]\n",
        "\n",
        "vectorstore = InMemoryVectorStore.from_documents(\n",
        "    documents, embedding=OpenAIEmbeddings()\n",
        ")\n",
        "\n",
        "retriever = vectorstore.as_retriever(\n",
        "    search_type=\"similarity\",\n",
        "    search_kwargs={\"k\": 1},\n",
        ")"
      ]
    },
    {
      "cell_type": "markdown",
      "id": "9ba737ac-43a2-4a6f-b855-5bd0305017f1",
      "metadata": {},
      "source": [
        "我们接下来创建一个简单的预构建的 [LangGraph 代理](https://python.langchain.com/docs/tutorials/agents/)，并为其提供工具："
      ]
    },
    {
      "cell_type": "code",
      "execution_count": 11,
      "id": "c939cf2a-60e9-4afd-8b47-84d76ccb13f5",
      "metadata": {},
      "outputs": [],
      "source": [
        "from langgraph.prebuilt import create_react_agent\n",
        "\n",
        "tools = [\n",
        "    retriever.as_tool(\n",
        "        name=\"pet_info_retriever\",\n",
        "        description=\"Get information about pets.\",\n",
        "    )\n",
        "]\n",
        "agent = create_react_agent(llm, tools)"
      ]
    },
    {
      "cell_type": "code",
      "execution_count": 12,
      "id": "be29437b-a187-4a0a-9a5d-419c56f2434e",
      "metadata": {},
      "outputs": [
        {
          "name": "stdout",
          "output_type": "stream",
          "text": [
            "{'agent': {'messages': [AIMessage(content='', additional_kwargs={'tool_calls': [{'id': 'call_W8cnfOjwqEn4cFcg19LN9mYD', 'function': {'arguments': '{\"__arg1\":\"dogs\"}', 'name': 'pet_info_retriever'}, 'type': 'function'}]}, response_metadata={'token_usage': {'completion_tokens': 19, 'prompt_tokens': 60, 'total_tokens': 79}, 'model_name': 'gpt-4o-mini', 'system_fingerprint': None, 'finish_reason': 'tool_calls', 'logprobs': None}, id='run-d7f81de9-1fb7-4caf-81ed-16dcdb0b2ab4-0', tool_calls=[{'name': 'pet_info_retriever', 'args': {'__arg1': 'dogs'}, 'id': 'call_W8cnfOjwqEn4cFcg19LN9mYD'}], usage_metadata={'input_tokens': 60, 'output_tokens': 19, 'total_tokens': 79})]}}\n",
            "----\n",
            "{'tools': {'messages': [ToolMessage(content=\"[Document(id='86f835fe-4bbe-4ec6-aeb4-489a8b541707', page_content='Dogs are great companions, known for their loyalty and friendliness.')]\", name='pet_info_retriever', tool_call_id='call_W8cnfOjwqEn4cFcg19LN9mYD')]}}\n",
            "----\n",
            "{'agent': {'messages': [AIMessage(content='Dogs are known for being great companions, known for their loyalty and friendliness.', response_metadata={'token_usage': {'completion_tokens': 18, 'prompt_tokens': 134, 'total_tokens': 152}, 'model_name': 'gpt-4o-mini', 'system_fingerprint': None, 'finish_reason': 'stop', 'logprobs': None}, id='run-9ca5847a-a5eb-44c0-a774-84cc2c5bbc5b-0', usage_metadata={'input_tokens': 134, 'output_tokens': 18, 'total_tokens': 152})]}}\n",
            "----\n"
          ]
        }
      ],
      "source": [
        "for chunk in agent.stream({\"messages\": [(\"human\", \"What are dogs known for?\")]}):\n",
        "    print(chunk)\n",
        "    print(\"----\")"
      ]
    },
    {
      "cell_type": "markdown",
      "id": "96f2ac9c-36f4-4b7a-ae33-f517734c86aa",
      "metadata": {},
      "source": [
        "请参阅[LangSmith trace](https://smith.langchain.com/public/44e438e3-2faf-45bd-b397-5510fc145eb9/r) 以了解上述运行。"
      ]
    },
    {
      "cell_type": "markdown",
      "id": "a722fd8a-b957-4ba7-b408-35596b76835f",
      "metadata": {},
      "source": [
        "更进一步，我们可以创建一个简单的 [RAG](/docs/tutorials/rag/) 链，它接受一个附加参数——在这里是答案的“风格”。"
      ]
    },
    {
      "cell_type": "code",
      "execution_count": 13,
      "id": "bea518c9-c711-47c2-b8cc-dbd102f71f09",
      "metadata": {},
      "outputs": [],
      "source": [
        "from operator import itemgetter\n",
        "\n",
        "from langchain_core.output_parsers import StrOutputParser\n",
        "from langchain_core.prompts import ChatPromptTemplate\n",
        "from langchain_core.runnables import RunnablePassthrough\n",
        "\n",
        "system_prompt = \"\"\"\n",
        "You are an assistant for question-answering tasks.\n",
        "Use the below context to answer the question. If\n",
        "you don't know the answer, say you don't know.\n",
        "Use three sentences maximum and keep the answer\n",
        "concise.\n",
        "\n",
        "Answer in the style of {answer_style}.\n",
        "\n",
        "Question: {question}\n",
        "\n",
        "Context: {context}\n",
        "\"\"\"\n",
        "\n",
        "prompt = ChatPromptTemplate.from_messages([(\"system\", system_prompt)])\n",
        "\n",
        "rag_chain = (\n",
        "    {\n",
        "        \"context\": itemgetter(\"question\") | retriever,\n",
        "        \"question\": itemgetter(\"question\"),\n",
        "        \"answer_style\": itemgetter(\"answer_style\"),\n",
        "    }\n",
        "    | prompt\n",
        "    | llm\n",
        "    | StrOutputParser()\n",
        ")"
      ]
    },
    {
      "cell_type": "markdown",
      "id": "955a23db-5218-4c34-8486-450a2ddb3443",
      "metadata": {},
      "source": [
        "请注意，我们 chain 的输入 schema 包含了必需的参数，因此在没有进一步指定的情况下，它会被转换为一个工具："
      ]
    },
    {
      "cell_type": "code",
      "execution_count": 14,
      "id": "2c9f6e61-80ed-4abb-8e77-84de3ccbc891",
      "metadata": {},
      "outputs": [
        {
          "data": {
            "text/plain": [
              "{'properties': {'question': {'title': 'Question'},\n",
              "  'answer_style': {'title': 'Answer Style'}},\n",
              " 'required': ['question', 'answer_style'],\n",
              " 'title': 'RunnableParallel<context,question,answer_style>Input',\n",
              " 'type': 'object'}"
            ]
          },
          "execution_count": 14,
          "metadata": {},
          "output_type": "execute_result"
        }
      ],
      "source": [
        "rag_chain.input_schema.model_json_schema()"
      ]
    },
    {
      "cell_type": "code",
      "execution_count": 15,
      "id": "a3f9cf5b-8c71-4b0f-902b-f92e028780c9",
      "metadata": {},
      "outputs": [],
      "source": [
        "rag_tool = rag_chain.as_tool(\n",
        "    name=\"pet_expert\",\n",
        "    description=\"Get information about pets.\",\n",
        ")"
      ]
    },
    {
      "cell_type": "markdown",
      "id": "4570615b-8f96-4d97-ae01-1c08b14be584",
      "metadata": {},
      "source": [
        "下面我们再次调用代理。请注意，代理在其 `tool_calls` 中填充了必需的参数："
      ]
    },
    {
      "cell_type": "code",
      "execution_count": 18,
      "id": "06409913-a2ad-400f-a202-7b8dd2ef483a",
      "metadata": {},
      "outputs": [
        {
          "name": "stdout",
          "output_type": "stream",
          "text": [
            "{'agent': {'messages': [AIMessage(content='', additional_kwargs={'tool_calls': [{'id': 'call_17iLPWvOD23zqwd1QVQ00Y63', 'function': {'arguments': '{\"question\":\"What are dogs known for according to pirates?\",\"answer_style\":\"quote\"}', 'name': 'pet_expert'}, 'type': 'function'}]}, response_metadata={'token_usage': {'completion_tokens': 28, 'prompt_tokens': 59, 'total_tokens': 87}, 'model_name': 'gpt-4o-mini', 'system_fingerprint': None, 'finish_reason': 'tool_calls', 'logprobs': None}, id='run-7fef44f3-7bba-4e63-8c51-2ad9c5e65e2e-0', tool_calls=[{'name': 'pet_expert', 'args': {'question': 'What are dogs known for according to pirates?', 'answer_style': 'quote'}, 'id': 'call_17iLPWvOD23zqwd1QVQ00Y63'}], usage_metadata={'input_tokens': 59, 'output_tokens': 28, 'total_tokens': 87})]}}\n",
            "----\n",
            "{'tools': {'messages': [ToolMessage(content='\"Dogs are known for their loyalty and friendliness, making them great companions for pirates on long sea voyages.\"', name='pet_expert', tool_call_id='call_17iLPWvOD23zqwd1QVQ00Y63')]}}\n",
            "----\n",
            "{'agent': {'messages': [AIMessage(content='According to pirates, dogs are known for their loyalty and friendliness, making them great companions for pirates on long sea voyages.', response_metadata={'token_usage': {'completion_tokens': 27, 'prompt_tokens': 119, 'total_tokens': 146}, 'model_name': 'gpt-4o-mini', 'system_fingerprint': None, 'finish_reason': 'stop', 'logprobs': None}, id='run-5a30edc3-7be0-4743-b980-ca2f8cad9b8d-0', usage_metadata={'input_tokens': 119, 'output_tokens': 27, 'total_tokens': 146})]}}\n",
            "----\n"
          ]
        }
      ],
      "source": [
        "agent = create_react_agent(llm, [rag_tool])\n",
        "\n",
        "for chunk in agent.stream(\n",
        "    {\"messages\": [(\"human\", \"What would a pirate say dogs are known for?\")]}\n",
        "):\n",
        "    print(chunk)\n",
        "    print(\"----\")"
      ]
    },
    {
      "cell_type": "markdown",
      "id": "96cc9bc3-e79e-49a8-9915-428ea225358b",
      "metadata": {},
      "source": [
        "请参阅以上运行的 [LangSmith 跟踪](https://smith.langchain.com/public/147ae4e6-4dfb-4dd9-8ca0-5c5b954f08ac/r)。"
      ]
    }
  ],
  "metadata": {
    "kernelspec": {
      "display_name": "Python 3 (ipykernel)",
      "language": "python",
      "name": "python3"
    },
    "language_info": {
      "codemirror_mode": {
        "name": "ipython",
        "version": 3
      },
      "file_extension": ".py",
      "mimetype": "text/x-python",
      "name": "python",
      "nbconvert_exporter": "python",
      "pygments_lexer": "ipython3",
      "version": "3.10.4"
    }
  },
  "nbformat": 4,
  "nbformat_minor": 5
}