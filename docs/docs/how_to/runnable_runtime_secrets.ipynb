{
  "cells": [
    {
      "cell_type": "markdown",
      "id": "6fcd2994-0092-4fa3-9bb1-c9c84babadc5",
      "metadata": {},
      "source": [
        "# 如何将运行时密钥传递给 runnable\n\n:::info 需要 `langchain-core >= 0.2.22`\n\n:::\n\n我们可以使用 `RunnableConfig` 在运行时将密钥传递给我们的[runnable](/docs/concepts/runnables/)。具体来说，我们可以将带有 `__` 前缀的密钥传递给 `configurable` 字段。这将确保这些密钥不会被作为调用的一部分进行跟踪："
      ]
    },
    {
      "cell_type": "code",
      "execution_count": 6,
      "id": "92e42e91-c277-49de-aa7a-dfb5c993c817",
      "metadata": {},
      "outputs": [
        {
          "data": {
            "text/plain": [
              "7"
            ]
          },
          "execution_count": 6,
          "metadata": {},
          "output_type": "execute_result"
        }
      ],
      "source": [
        "from langchain_core.runnables import RunnableConfig\n",
        "from langchain_core.tools import tool\n",
        "\n",
        "\n",
        "@tool\n",
        "def foo(x: int, config: RunnableConfig) -> int:\n",
        "    \"\"\"Sum x and a secret int\"\"\"\n",
        "    return x + config[\"configurable\"][\"__top_secret_int\"]\n",
        "\n",
        "\n",
        "foo.invoke({\"x\": 5}, {\"configurable\": {\"__top_secret_int\": 2, \"traced_key\": \"bar\"}})"
      ]
    },
    {
      "cell_type": "markdown",
      "id": "ae3a4fb9-2ce7-46b2-b654-35dff0ae7197",
      "metadata": {},
      "source": [
        "在查看此运行的 LangSmith 跟踪时，我们可以看到“traced_key”被记录下来（作为元数据的一部分），而我们的机密整数没有被记录：https://smith.langchain.com/public/aa7e3289-49ca-422d-a408-f6b927210170/r"
      ]
    }
  ],
  "metadata": {
    "kernelspec": {
      "display_name": "poetry-venv-311",
      "language": "python",
      "name": "poetry-venv-311"
    },
    "language_info": {
      "codemirror_mode": {
        "name": "ipython",
        "version": 3
      },
      "file_extension": ".py",
      "mimetype": "text/x-python",
      "name": "python",
      "nbconvert_exporter": "python",
      "pygments_lexer": "ipython3",
      "version": "3.11.9"
    }
  },
  "nbformat": 4,
  "nbformat_minor": 5
}