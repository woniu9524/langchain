{
  "cells": [
    {
      "cell_type": "raw",
      "id": "7f219241",
      "metadata": {},
      "source": [
        "---\n",
        "sidebar_position: 4\n",
        "sidebar_class_name: hidden\n",
        "---"
      ]
    },
    {
      "attachments": {},
      "cell_type": "markdown",
      "id": "e8f68de0-7df7-4bfd-9207-3258431426ef",
      "metadata": {},
      "source": [
        "# 如何使用内置工具和工具包\n\n:::info 先决条件\n\n本指南假设您已熟悉以下概念：\n\n- [LangChain 工具](/docs/concepts/tools)\n- [LangChain 工具包](/docs/concepts/tools)\n\n:::\n\n## 工具\n\nLangChain 拥有大量第三方工具。请访问 [工具集成](/docs/integrations/tools/) 查看可用工具列表。\n\n:::important\n\n使用第三方工具时，请确保您了解该工具的工作原理及其拥有的权限。请仔细阅读其文档，并从安全角度检查是否需要您进行任何操作。请参阅我们的 [安全](https://python.langchain.com/docs/security/) 指南了解更多信息。\n\n:::\n\n让我们来试用一下 [Wikipedia 集成](/docs/integrations/tools/wikipedia/)。"
      ]
    },
    {
      "cell_type": "code",
      "execution_count": 1,
      "id": "84f70856-b865-4658-9930-7577fb4712ce",
      "metadata": {
        "execution": {
          "iopub.execute_input": "2024-09-11T03:01:11.847104Z",
          "iopub.status.busy": "2024-09-11T03:01:11.846727Z",
          "iopub.status.idle": "2024-09-11T03:01:13.200038Z",
          "shell.execute_reply": "2024-09-11T03:01:13.199355Z"
        }
      },
      "outputs": [],
      "source": [
        "!pip install -qU langchain-community wikipedia"
      ]
    },
    {
      "cell_type": "code",
      "execution_count": 2,
      "id": "b4eaed85-c5a6-4ba9-b401-40258b0131c2",
      "metadata": {
        "execution": {
          "iopub.execute_input": "2024-09-11T03:01:13.203356Z",
          "iopub.status.busy": "2024-09-11T03:01:13.202996Z",
          "iopub.status.idle": "2024-09-11T03:01:14.740686Z",
          "shell.execute_reply": "2024-09-11T03:01:14.739748Z"
        }
      },
      "outputs": [
        {
          "name": "stdout",
          "output_type": "stream",
          "text": [
            "Page: LangChain\n",
            "Summary: LangChain is a framework designed to simplify the creation of applications \n"
          ]
        }
      ],
      "source": [
        "from langchain_community.tools import WikipediaQueryRun\n",
        "from langchain_community.utilities import WikipediaAPIWrapper\n",
        "\n",
        "api_wrapper = WikipediaAPIWrapper(top_k_results=1, doc_content_chars_max=100)\n",
        "tool = WikipediaQueryRun(api_wrapper=api_wrapper)\n",
        "\n",
        "print(tool.invoke({\"query\": \"langchain\"}))"
      ]
    },
    {
      "cell_type": "markdown",
      "id": "cb870984-52d5-4453-be35-7072a08c6c14",
      "metadata": {},
      "source": [
        "该工具有以下与之关联的默认设置："
      ]
    },
    {
      "cell_type": "code",
      "execution_count": 3,
      "id": "7f094f01-2e98-4947-acc4-0846963a96e0",
      "metadata": {
        "execution": {
          "iopub.execute_input": "2024-09-11T03:01:14.745018Z",
          "iopub.status.busy": "2024-09-11T03:01:14.744347Z",
          "iopub.status.idle": "2024-09-11T03:01:14.752527Z",
          "shell.execute_reply": "2024-09-11T03:01:14.752112Z"
        }
      },
      "outputs": [
        {
          "name": "stdout",
          "output_type": "stream",
          "text": [
            "Name: wikipedia\n",
            "Description: A wrapper around Wikipedia. Useful for when you need to answer general questions about people, places, companies, facts, historical events, or other subjects. Input should be a search query.\n",
            "args schema: {'query': {'description': 'query to look up on wikipedia', 'title': 'Query', 'type': 'string'}}\n",
            "returns directly?: False\n"
          ]
        }
      ],
      "source": [
        "print(f\"Name: {tool.name}\")\n",
        "print(f\"Description: {tool.description}\")\n",
        "print(f\"args schema: {tool.args}\")\n",
        "print(f\"returns directly?: {tool.return_direct}\")"
      ]
    },
    {
      "cell_type": "markdown",
      "id": "19eee1d5",
      "metadata": {},
      "source": [
        "## 自定义默认工具\n\n我们还可以修改内置的名称、描述和参数的 JSON schema。\n\n在定义参数的 JSON schema 时，重要的是输入保持与函数相同，因此你不应该更改它。但是，你可以轻松地为每个输入定义自定义描述。"
      ]
    },
    {
      "cell_type": "code",
      "execution_count": 4,
      "id": "1365784c-e666-41c8-a1bb-e50f822b5936",
      "metadata": {
        "execution": {
          "iopub.execute_input": "2024-09-11T03:01:14.755274Z",
          "iopub.status.busy": "2024-09-11T03:01:14.755068Z",
          "iopub.status.idle": "2024-09-11T03:01:15.375704Z",
          "shell.execute_reply": "2024-09-11T03:01:15.374841Z"
        }
      },
      "outputs": [
        {
          "name": "stdout",
          "output_type": "stream",
          "text": [
            "Page: LangChain\n",
            "Summary: LangChain is a framework designed to simplify the creation of applications \n"
          ]
        }
      ],
      "source": [
        "from langchain_community.tools import WikipediaQueryRun\n",
        "from langchain_community.utilities import WikipediaAPIWrapper\n",
        "from pydantic import BaseModel, Field\n",
        "\n",
        "\n",
        "class WikiInputs(BaseModel):\n",
        "    \"\"\"Inputs to the wikipedia tool.\"\"\"\n",
        "\n",
        "    query: str = Field(\n",
        "        description=\"query to look up in Wikipedia, should be 3 or less words\"\n",
        "    )\n",
        "\n",
        "\n",
        "tool = WikipediaQueryRun(\n",
        "    name=\"wiki-tool\",\n",
        "    description=\"look up things in wikipedia\",\n",
        "    args_schema=WikiInputs,\n",
        "    api_wrapper=api_wrapper,\n",
        "    return_direct=True,\n",
        ")\n",
        "\n",
        "print(tool.run(\"langchain\"))"
      ]
    },
    {
      "cell_type": "code",
      "execution_count": 5,
      "id": "6e8850d6-6840-443e-a2be-adf64b30975c",
      "metadata": {
        "execution": {
          "iopub.execute_input": "2024-09-11T03:01:15.378598Z",
          "iopub.status.busy": "2024-09-11T03:01:15.378414Z",
          "iopub.status.idle": "2024-09-11T03:01:15.382248Z",
          "shell.execute_reply": "2024-09-11T03:01:15.381801Z"
        }
      },
      "outputs": [
        {
          "name": "stdout",
          "output_type": "stream",
          "text": [
            "Name: wiki-tool\n",
            "Description: look up things in wikipedia\n",
            "args schema: {'query': {'description': 'query to look up in Wikipedia, should be 3 or less words', 'title': 'Query', 'type': 'string'}}\n",
            "returns directly?: True\n"
          ]
        }
      ],
      "source": [
        "print(f\"Name: {tool.name}\")\n",
        "print(f\"Description: {tool.description}\")\n",
        "print(f\"args schema: {tool.args}\")\n",
        "print(f\"returns directly?: {tool.return_direct}\")"
      ]
    },
    {
      "attachments": {},
      "cell_type": "markdown",
      "id": "acf0c2f7-ddc6-4633-8cef-59f234321e5c",
      "metadata": {},
      "source": [
        "## 如何使用内置工具包\n\n工具包是为特定任务协同设计的工具集合。它们提供了便捷的加载方法。\n\n所有工具包都暴露一个 `get_tools` 方法，该方法返回一个工具列表。\n\n通常的使用方式如下：\n\n```python\n# 初始化一个工具包\ntoolkit = ExampleTookit(...)\n\n# 获取工具列表\ntools = toolkit.get_tools()\n```"
      ]
    }
  ],
  "metadata": {
    "kernelspec": {
      "display_name": "poetry-venv-311",
      "language": "python",
      "name": "poetry-venv-311"
    },
    "language_info": {
      "codemirror_mode": {
        "name": "ipython",
        "version": 3
      },
      "file_extension": ".py",
      "mimetype": "text/x-python",
      "name": "python",
      "nbconvert_exporter": "python",
      "pygments_lexer": "ipython3",
      "version": "3.11.9"
    }
  },
  "nbformat": 4,
  "nbformat_minor": 5
}