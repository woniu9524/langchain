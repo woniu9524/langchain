{
  "cells": [
    {
      "cell_type": "markdown",
      "metadata": {},
      "source": [
        "# 如何合并多个检索器的结果\n\n[EnsembleRetriever](https://python.langchain.com/api_reference/langchain/retrievers/langchain.retrievers.ensemble.EnsembleRetriever.html) 支持将多个 [retrievers](/docs/concepts/retrievers/) 的结果进行集成。它会使用一个 [BaseRetriever](https://python.langchain.com/api_reference/core/retrievers/langchain_core.retrievers.BaseRetriever.html) 对象列表进行初始化。EnsembleRetrievers 会根据 [Reciprocal Rank Fusion](https://plg.uwaterloo.ca/~gvcormac/cormacksigir09-rrf.pdf) 算法对各个检索器的结果进行重新排序。\n\n通过利用不同算法的优势，`EnsembleRetriever` 可以比任何单一算法获得更好的性能。\n\n最常见的模式是将稀疏检索器（如 BM25）与密集检索器（如嵌入相似性）结合起来，因为它们的优势是互补的。这也被称为“混合搜索”。稀疏检索器擅长根据关键词查找相关文档，而密集检索器则擅长根据语义相似性查找相关文档。\n\n## 基本用法\n\n下面我们演示如何将 [BM25Retriever](https://python.langchain.com/api_reference/community/retrievers/langchain_community.retrievers.bm25.BM25Retriever.html) 与派生自 [FAISS vector store](https://python.langchain.com/api_reference/community/vectorstores/langchain_community.vectorstores.faiss.FAISS.html) 的检索器进行集成。"
      ]
    },
    {
      "cell_type": "code",
      "execution_count": 9,
      "metadata": {},
      "outputs": [],
      "source": [
        "%pip install --upgrade --quiet  rank_bm25 > /dev/null"
      ]
    },
    {
      "cell_type": "code",
      "execution_count": 3,
      "metadata": {},
      "outputs": [],
      "source": [
        "from langchain.retrievers import EnsembleRetriever\n",
        "from langchain_community.retrievers import BM25Retriever\n",
        "from langchain_community.vectorstores import FAISS\n",
        "from langchain_openai import OpenAIEmbeddings\n",
        "\n",
        "doc_list_1 = [\n",
        "    \"I like apples\",\n",
        "    \"I like oranges\",\n",
        "    \"Apples and oranges are fruits\",\n",
        "]\n",
        "\n",
        "# initialize the bm25 retriever and faiss retriever\n",
        "bm25_retriever = BM25Retriever.from_texts(\n",
        "    doc_list_1, metadatas=[{\"source\": 1}] * len(doc_list_1)\n",
        ")\n",
        "bm25_retriever.k = 2\n",
        "\n",
        "doc_list_2 = [\n",
        "    \"You like apples\",\n",
        "    \"You like oranges\",\n",
        "]\n",
        "\n",
        "embedding = OpenAIEmbeddings()\n",
        "faiss_vectorstore = FAISS.from_texts(\n",
        "    doc_list_2, embedding, metadatas=[{\"source\": 2}] * len(doc_list_2)\n",
        ")\n",
        "faiss_retriever = faiss_vectorstore.as_retriever(search_kwargs={\"k\": 2})\n",
        "\n",
        "# initialize the ensemble retriever\n",
        "ensemble_retriever = EnsembleRetriever(\n",
        "    retrievers=[bm25_retriever, faiss_retriever], weights=[0.5, 0.5]\n",
        ")"
      ]
    },
    {
      "cell_type": "code",
      "execution_count": 4,
      "metadata": {},
      "outputs": [
        {
          "data": {
            "text/plain": [
              "[Document(page_content='I like apples', metadata={'source': 1}),\n",
              " Document(page_content='You like apples', metadata={'source': 2}),\n",
              " Document(page_content='Apples and oranges are fruits', metadata={'source': 1}),\n",
              " Document(page_content='You like oranges', metadata={'source': 2})]"
            ]
          },
          "execution_count": 4,
          "metadata": {},
          "output_type": "execute_result"
        }
      ],
      "source": [
        "docs = ensemble_retriever.invoke(\"apples\")\n",
        "docs"
      ]
    },
    {
      "cell_type": "markdown",
      "metadata": {},
      "source": [
        "## 运行时配置\n\n我们还可以使用[可配置字段](/docs/how_to/configure)在运行时配置各个检索器。下面我们专门为 FAISS 检索器更新“top-k”参数："
      ]
    },
    {
      "cell_type": "code",
      "execution_count": 5,
      "metadata": {},
      "outputs": [],
      "source": [
        "from langchain_core.runnables import ConfigurableField\n",
        "\n",
        "faiss_retriever = faiss_vectorstore.as_retriever(\n",
        "    search_kwargs={\"k\": 2}\n",
        ").configurable_fields(\n",
        "    search_kwargs=ConfigurableField(\n",
        "        id=\"search_kwargs_faiss\",\n",
        "        name=\"Search Kwargs\",\n",
        "        description=\"The search kwargs to use\",\n",
        "    )\n",
        ")\n",
        "\n",
        "ensemble_retriever = EnsembleRetriever(\n",
        "    retrievers=[bm25_retriever, faiss_retriever], weights=[0.5, 0.5]\n",
        ")"
      ]
    },
    {
      "cell_type": "code",
      "execution_count": 6,
      "metadata": {},
      "outputs": [
        {
          "data": {
            "text/plain": [
              "[Document(page_content='I like apples', metadata={'source': 1}),\n",
              " Document(page_content='You like apples', metadata={'source': 2}),\n",
              " Document(page_content='Apples and oranges are fruits', metadata={'source': 1})]"
            ]
          },
          "execution_count": 6,
          "metadata": {},
          "output_type": "execute_result"
        }
      ],
      "source": [
        "config = {\"configurable\": {\"search_kwargs_faiss\": {\"k\": 1}}}\n",
        "docs = ensemble_retriever.invoke(\"apples\", config=config)\n",
        "docs"
      ]
    },
    {
      "cell_type": "markdown",
      "metadata": {},
      "source": [
        "请注意，这将仅从 FAISS retriever 返回一个源，因为我们在运行时传递了相关配置。"
      ]
    },
    {
      "cell_type": "code",
      "execution_count": null,
      "metadata": {},
      "outputs": [],
      "source": []
    }
  ],
  "metadata": {
    "kernelspec": {
      "display_name": "Python 3 (ipykernel)",
      "language": "python",
      "name": "python3"
    },
    "language_info": {
      "codemirror_mode": {
        "name": "ipython",
        "version": 3
      },
      "file_extension": ".py",
      "mimetype": "text/x-python",
      "name": "python",
      "nbconvert_exporter": "python",
      "pygments_lexer": "ipython3",
      "version": "3.10.4"
    }
  },
  "nbformat": 4,
  "nbformat_minor": 4
}