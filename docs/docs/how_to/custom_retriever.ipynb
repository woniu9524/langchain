{
  "cells": [
    {
      "cell_type": "raw",
      "id": "b5fc1fc7-c4c5-418f-99da-006c604a7ea6",
      "metadata": {},
      "source": [
        "---\n",
        "title: Custom Retriever\n",
        "---"
      ]
    },
    {
      "cell_type": "markdown",
      "id": "ff6f3c79-0848-4956-9115-54f6b2134587",
      "metadata": {},
      "source": [
        "# 如何创建自定义检索器\n\n## 概述\n\n许多 LLM 应用涉及使用 [检索器](/docs/concepts/retrievers/) 从外部数据源检索信息。\n\n检索器负责检索与给定用户 `query` 相关的 [文档](https://python.langchain.com/api_reference/core/documents/langchain_core.documents.base.Document.html) 列表。\n\n检索到的文档通常会被格式化为传递给 LLM 的提示，使 LLM 能够利用知识库中的信息来生成适当的响应（例如，根据知识库回答用户问题）。\n\n## 接口\n\n要创建自己的检索器，您需要继承 `BaseRetriever` 类并实现以下方法：\n\n| 方法                         | 描述                                      | 必需/可选 |\n|--------------------------------|--------------------------------------------------|-------------------|\n| `_get_relevant_documents`      | 获取与查询相关的文档。               | 必需          |\n| `_aget_relevant_documents`     | 实现此方法可提供异步原生支持。       | 可选          |\n\n\n`_get_relevant_documents` 中的逻辑可以涉及使用 requests 调用数据库或 Web。\n\n:::tip\n通过继承 `BaseRetriever`，您的检索器将自动成为 LangChain 的 [可运行组件](/docs/concepts/runnables)，并立即获得标准的 Runnable 功能！\n:::\n\n\n:::info\n您可以使用 `RunnableLambda` 或 `RunnableGenerator` 来实现检索器。\n\n与 `RunnableLambda`（自定义 [可运行函数](/docs/how_to/functions)）相比，将检索器实现为 `BaseRetriever` 的主要好处是 `BaseRetriever` 是一个众所周知的 LangChain 实体，因此一些用于监控的工具可能会为检索器实现专门的行为。另一个区别是 `BaseRetriever` 在某些 API 中的行为将与 `RunnableLambda` 略有不同；例如，`astream_events` API 中的 `start` 事件将是 `on_retriever_start` 而不是 `on_chain_start`。\n:::"
      ]
    },
    {
      "cell_type": "markdown",
      "id": "2be9fe82-0757-41d1-a647-15bed11fd3bf",
      "metadata": {},
      "source": [
        "## 示例\n\n下面我们来实现一个简单的检索器，它会返回所有文档中包含用户查询文本的文档。"
      ]
    },
    {
      "cell_type": "code",
      "execution_count": 26,
      "id": "bdf61902-2984-493b-a002-d4fced6df590",
      "metadata": {},
      "outputs": [],
      "source": [
        "from typing import List\n",
        "\n",
        "from langchain_core.callbacks import CallbackManagerForRetrieverRun\n",
        "from langchain_core.documents import Document\n",
        "from langchain_core.retrievers import BaseRetriever\n",
        "\n",
        "\n",
        "class ToyRetriever(BaseRetriever):\n",
        "    \"\"\"A toy retriever that contains the top k documents that contain the user query.\n",
        "\n",
        "    This retriever only implements the sync method _get_relevant_documents.\n",
        "\n",
        "    If the retriever were to involve file access or network access, it could benefit\n",
        "    from a native async implementation of `_aget_relevant_documents`.\n",
        "\n",
        "    As usual, with Runnables, there's a default async implementation that's provided\n",
        "    that delegates to the sync implementation running on another thread.\n",
        "    \"\"\"\n",
        "\n",
        "    documents: List[Document]\n",
        "    \"\"\"List of documents to retrieve from.\"\"\"\n",
        "    k: int\n",
        "    \"\"\"Number of top results to return\"\"\"\n",
        "\n",
        "    def _get_relevant_documents(\n",
        "        self, query: str, *, run_manager: CallbackManagerForRetrieverRun\n",
        "    ) -> List[Document]:\n",
        "        \"\"\"Sync implementations for retriever.\"\"\"\n",
        "        matching_documents = []\n",
        "        for document in self.documents:\n",
        "            if len(matching_documents) > self.k:\n",
        "                return matching_documents\n",
        "\n",
        "            if query.lower() in document.page_content.lower():\n",
        "                matching_documents.append(document)\n",
        "        return matching_documents\n",
        "\n",
        "    # Optional: Provide a more efficient native implementation by overriding\n",
        "    # _aget_relevant_documents\n",
        "    # async def _aget_relevant_documents(\n",
        "    #     self, query: str, *, run_manager: AsyncCallbackManagerForRetrieverRun\n",
        "    # ) -> List[Document]:\n",
        "    #     \"\"\"Asynchronously get documents relevant to a query.\n",
        "\n",
        "    #     Args:\n",
        "    #         query: String to find relevant documents for\n",
        "    #         run_manager: The callbacks handler to use\n",
        "\n",
        "    #     Returns:\n",
        "    #         List of relevant documents\n",
        "    #     \"\"\""
      ]
    },
    {
      "cell_type": "markdown",
      "id": "2eac1f28-29c1-4888-b3aa-b4fa70c73b4c",
      "metadata": {},
      "source": [
        "## 测试它 🧪"
      ]
    },
    {
      "cell_type": "code",
      "execution_count": 21,
      "id": "ea868db5-48cc-4ec2-9b0a-1ab94c32b302",
      "metadata": {},
      "outputs": [],
      "source": [
        "documents = [\n",
        "    Document(\n",
        "        page_content=\"Dogs are great companions, known for their loyalty and friendliness.\",\n",
        "        metadata={\"type\": \"dog\", \"trait\": \"loyalty\"},\n",
        "    ),\n",
        "    Document(\n",
        "        page_content=\"Cats are independent pets that often enjoy their own space.\",\n",
        "        metadata={\"type\": \"cat\", \"trait\": \"independence\"},\n",
        "    ),\n",
        "    Document(\n",
        "        page_content=\"Goldfish are popular pets for beginners, requiring relatively simple care.\",\n",
        "        metadata={\"type\": \"fish\", \"trait\": \"low maintenance\"},\n",
        "    ),\n",
        "    Document(\n",
        "        page_content=\"Parrots are intelligent birds capable of mimicking human speech.\",\n",
        "        metadata={\"type\": \"bird\", \"trait\": \"intelligence\"},\n",
        "    ),\n",
        "    Document(\n",
        "        page_content=\"Rabbits are social animals that need plenty of space to hop around.\",\n",
        "        metadata={\"type\": \"rabbit\", \"trait\": \"social\"},\n",
        "    ),\n",
        "]\n",
        "retriever = ToyRetriever(documents=documents, k=3)"
      ]
    },
    {
      "cell_type": "code",
      "execution_count": 22,
      "id": "18be85e9-6ef0-4ee0-ae5d-a0810c38b254",
      "metadata": {},
      "outputs": [
        {
          "data": {
            "text/plain": [
              "[Document(page_content='Cats are independent pets that often enjoy their own space.', metadata={'type': 'cat', 'trait': 'independence'}),\n",
              " Document(page_content='Rabbits are social animals that need plenty of space to hop around.', metadata={'type': 'rabbit', 'trait': 'social'})]"
            ]
          },
          "execution_count": 22,
          "metadata": {},
          "output_type": "execute_result"
        }
      ],
      "source": [
        "retriever.invoke(\"that\")"
      ]
    },
    {
      "cell_type": "markdown",
      "id": "13f76f6e-cf2b-4f67-859b-0ef8be98abbe",
      "metadata": {},
      "source": [
        "这是一个 **runnable**，因此它将受益于标准的 Runnable 接口！🤩"
      ]
    },
    {
      "cell_type": "code",
      "execution_count": 23,
      "id": "3672e9fe-4365-4628-9d25-31924cfaf784",
      "metadata": {},
      "outputs": [
        {
          "data": {
            "text/plain": [
              "[Document(page_content='Cats are independent pets that often enjoy their own space.', metadata={'type': 'cat', 'trait': 'independence'}),\n",
              " Document(page_content='Rabbits are social animals that need plenty of space to hop around.', metadata={'type': 'rabbit', 'trait': 'social'})]"
            ]
          },
          "execution_count": 23,
          "metadata": {},
          "output_type": "execute_result"
        }
      ],
      "source": [
        "await retriever.ainvoke(\"that\")"
      ]
    },
    {
      "cell_type": "code",
      "execution_count": 24,
      "id": "e2c96eed-6813-421c-acf2-6554839840ee",
      "metadata": {},
      "outputs": [
        {
          "data": {
            "text/plain": [
              "[[Document(page_content='Dogs are great companions, known for their loyalty and friendliness.', metadata={'type': 'dog', 'trait': 'loyalty'})],\n",
              " [Document(page_content='Cats are independent pets that often enjoy their own space.', metadata={'type': 'cat', 'trait': 'independence'})]]"
            ]
          },
          "execution_count": 24,
          "metadata": {},
          "output_type": "execute_result"
        }
      ],
      "source": [
        "retriever.batch([\"dog\", \"cat\"])"
      ]
    },
    {
      "cell_type": "code",
      "execution_count": 25,
      "id": "978b6636-bf36-42c2-969c-207718f084cf",
      "metadata": {},
      "outputs": [
        {
          "name": "stdout",
          "output_type": "stream",
          "text": [
            "{'event': 'on_retriever_start', 'run_id': 'f96f268d-8383-4921-b175-ca583924d9ff', 'name': 'ToyRetriever', 'tags': [], 'metadata': {}, 'data': {'input': 'bar'}}\n",
            "{'event': 'on_retriever_stream', 'run_id': 'f96f268d-8383-4921-b175-ca583924d9ff', 'tags': [], 'metadata': {}, 'name': 'ToyRetriever', 'data': {'chunk': []}}\n",
            "{'event': 'on_retriever_end', 'name': 'ToyRetriever', 'run_id': 'f96f268d-8383-4921-b175-ca583924d9ff', 'tags': [], 'metadata': {}, 'data': {'output': []}}\n"
          ]
        }
      ],
      "source": [
        "async for event in retriever.astream_events(\"bar\", version=\"v1\"):\n",
        "    print(event)"
      ]
    },
    {
      "cell_type": "markdown",
      "id": "7b45c404-37bf-4370-bb7c-26556777ff46",
      "metadata": {},
      "source": [
        "## 贡献指南\n\n我们欢迎您贡献有趣的检索器！\n\n以下清单将帮助您确保您的贡献能够被添加到 LangChain 中：\n\n文档：\n\n*   检索器包含所有初始化参数的 doc-strings，因为这些将呈现在[API 参考](https://python.langchain.com/api_reference/langchain/index.html)中。\n*   模型的类 doc-string 应包含指向检索器使用的任何相关 API 的链接（例如，如果检索器从维基百科检索，最好链接到维基百科 API！）。\n\n测试：\n\n*   [ ] 添加单元测试或集成测试来验证 `invoke` 和 `ainvoke` 是否正常工作。\n\n优化：\n\n如果检索器连接到外部数据源（例如 API 或文件），它几乎肯定会受益于异步原生优化！\n\n*   [ ] 提供 `_aget_relevant_documents`（由 `ainvoke` 使用）的原生异步实现。"
      ]
    }
  ],
  "metadata": {
    "kernelspec": {
      "display_name": "Python 3 (ipykernel)",
      "language": "python",
      "name": "python3"
    },
    "language_info": {
      "codemirror_mode": {
        "name": "ipython",
        "version": 3
      },
      "file_extension": ".py",
      "mimetype": "text/x-python",
      "name": "python",
      "nbconvert_exporter": "python",
      "pygments_lexer": "ipython3",
      "version": "3.10.1"
    }
  },
  "nbformat": 4,
  "nbformat_minor": 5
}