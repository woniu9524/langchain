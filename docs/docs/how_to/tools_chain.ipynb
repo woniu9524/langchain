{
  "cells": [
    {
      "cell_type": "raw",
      "id": "500e8846-91c2-4716-9bd6-b9672c6daf78",
      "metadata": {},
      "source": [
        "---\n",
        "sidebar_position: 0\n",
        "---"
      ]
    },
    {
      "cell_type": "markdown",
      "id": "14b94240",
      "metadata": {},
      "source": [
        "# 如何在链中使用工具\n\n在本指南中，我们将介绍创建链（Chains）和代理（Agents）以调用[工具（Tools）](/docs/concepts/tools/) 的基本方法。工具几乎可以是任何东西——API、函数、数据库等。通过工具，我们可以将模型的[_能力_](/docs/concepts/capabilities/) 扩展到不仅仅是输出文本/消息。让模型使用工具的关键在于正确地[_提示模型_](/docs/concepts/llms/prompts/) 并[_解析其响应_](/docs/concepts/agent/parse-llm-response/)，以便模型能够选择正确的工具并为它们提供正确的输入。"
      ]
    },
    {
      "cell_type": "markdown",
      "id": "e6b79a42-0349-42c6-9ce8-72220e838e8d",
      "metadata": {},
      "source": [
        "## 设置\n\n本指南需要安装以下软件包："
      ]
    },
    {
      "cell_type": "code",
      "execution_count": null,
      "id": "f2274266-755a-4e90-b257-5180fb089af2",
      "metadata": {},
      "outputs": [],
      "source": [
        "%pip install --upgrade --quiet langchain"
      ]
    },
    {
      "cell_type": "markdown",
      "id": "36a9c6fc-8264-462f-b8d7-9c7bbec22ef9",
      "metadata": {},
      "source": [
        "如果你想在 [LangSmith](https://docs.smith.langchain.com/) 中跟踪你的运行，请取消注释并设置以下环境变量："
      ]
    },
    {
      "cell_type": "code",
      "execution_count": null,
      "id": "57a81b7a-4fd9-4f28-bc32-7b98b522e1b0",
      "metadata": {},
      "outputs": [],
      "source": [
        "import getpass\n",
        "import os\n",
        "\n",
        "# os.environ[\"LANGSMITH_TRACING\"] = \"true\"\n",
        "# os.environ[\"LANGSMITH_API_KEY\"] = getpass.getpass()"
      ]
    },
    {
      "cell_type": "markdown",
      "id": "68946881",
      "metadata": {},
      "source": [
        "## 创建一个工具\n\n首先，我们需要创建一个可供调用的工具。在本例中，我们将从一个函数创建一个自定义工具。有关创建自定义工具的更多信息，请参阅 [本指南](/docs/how_to/custom_tools)。"
      ]
    },
    {
      "cell_type": "code",
      "execution_count": 2,
      "id": "90187d07",
      "metadata": {},
      "outputs": [],
      "source": [
        "from langchain_core.tools import tool\n",
        "\n",
        "\n",
        "@tool\n",
        "def multiply(first_int: int, second_int: int) -> int:\n",
        "    \"\"\"Multiply two integers together.\"\"\"\n",
        "    return first_int * second_int"
      ]
    },
    {
      "cell_type": "code",
      "execution_count": 3,
      "id": "d7009e1a",
      "metadata": {},
      "outputs": [
        {
          "name": "stdout",
          "output_type": "stream",
          "text": [
            "multiply\n",
            "Multiply two integers together.\n",
            "{'first_int': {'title': 'First Int', 'type': 'integer'}, 'second_int': {'title': 'Second Int', 'type': 'integer'}}\n"
          ]
        }
      ],
      "source": [
        "print(multiply.name)\n",
        "print(multiply.description)\n",
        "print(multiply.args)"
      ]
    },
    {
      "cell_type": "code",
      "execution_count": 4,
      "id": "be77e780",
      "metadata": {},
      "outputs": [
        {
          "data": {
            "text/plain": [
              "20"
            ]
          },
          "execution_count": 4,
          "metadata": {},
          "output_type": "execute_result"
        }
      ],
      "source": [
        "multiply.invoke({\"first_int\": 4, \"second_int\": 5})"
      ]
    },
    {
      "cell_type": "markdown",
      "id": "19ba4d63",
      "metadata": {},
      "source": [
        "## 链（Chains）\n\n如果我们知道只需要固定次数地使用某个工具，那么我们可以创建一个链（chain）来完成这个任务。我们来创建一个简单的链，它仅用于计算用户指定的数字。\n\n![tool_chain](../../static/img/tool_chain.svg)\n\n### 工具/函数调用\n使用 LLM 来调用工具最可靠的方法之一是使用[工具调用](/docs/concepts/tool_calling/) API（有时也称为函数调用）。这仅适用于明确支持工具调用的模型。您可以在[此处](/docs/integrations/chat/)查看哪些模型支持工具调用，并在[本指南](/docs/how_to/function_calling)中了解更多关于如何使用工具调用的信息。\n\n首先我们将定义模型和工具。我们先从一个单独的工具开始，叫做 `multiply`。\n\nimport ChatModelTabs from \"@theme/ChatModelTabs\";\n\n<ChatModelTabs customVarName=\"llm\"/>"
      ]
    },
    {
      "cell_type": "code",
      "execution_count": 5,
      "id": "9bce8935-1465-45ac-8a93-314222c753c4",
      "metadata": {},
      "outputs": [],
      "source": [
        "# | echo: false\n",
        "# | output: false\n",
        "\n",
        "from langchain_openai.chat_models import ChatOpenAI\n",
        "\n",
        "llm = ChatOpenAI(model=\"gpt-4o-mini\", temperature=0)"
      ]
    },
    {
      "cell_type": "markdown",
      "id": "c22e6f0f-c5ad-4c0f-9514-e626704ea51c",
      "metadata": {},
      "source": [
        "我们将使用 `bind_tools`，将工具的定义作为每次调用模型的一部分进行传递，以便模型可以在适当的时候调用该工具："
      ]
    },
    {
      "cell_type": "code",
      "execution_count": 6,
      "id": "3bfe2cdc-7d72-457c-a9a1-5fa1e0bcde55",
      "metadata": {},
      "outputs": [],
      "source": [
        "llm_with_tools = llm.bind_tools([multiply])"
      ]
    },
    {
      "cell_type": "markdown",
      "id": "07fc830e-a6d2-4fac-904b-b94072e64018",
      "metadata": {},
      "source": [
        "当模型调用工具时，这将显示在输出的 `AIMessage.tool_calls` 属性中："
      ]
    },
    {
      "cell_type": "code",
      "execution_count": 7,
      "id": "68f30343-14ef-48f1-badd-b6a03977316d",
      "metadata": {},
      "outputs": [
        {
          "data": {
            "text/plain": [
              "[{'name': 'multiply',\n",
              "  'args': {'first_int': 5, 'second_int': 42},\n",
              "  'id': 'call_8QIg4QVFVAEeC1orWAgB2036',\n",
              "  'type': 'tool_call'}]"
            ]
          },
          "execution_count": 7,
          "metadata": {},
          "output_type": "execute_result"
        }
      ],
      "source": [
        "msg = llm_with_tools.invoke(\"whats 5 times forty two\")\n",
        "msg.tool_calls"
      ]
    },
    {
      "cell_type": "markdown",
      "id": "330015a3-a5a7-433a-826a-6277766f6c27",
      "metadata": {},
      "source": [
        "请查看[LangSmith trace 在此](https://smith.langchain.com/public/81ff0cbd-e05b-4720-bf61-2c9807edb708/r)。"
      ]
    },
    {
      "cell_type": "markdown",
      "id": "8ba1764d-0272-4f98-adcf-b48cb2c0a315",
      "metadata": {},
      "source": [
        "### 调用工具\n\n太棒了！我们已经能够生成工具调用。但是如果我们想实际调用这个工具呢？为此，我们需要将生成的工具参数传递给我们的工具。作为一个简单的例子，我们将只提取第一个 `tool_call` 的参数："
      ]
    },
    {
      "cell_type": "code",
      "execution_count": 8,
      "id": "4f5325ca-e5dc-4d1a-ba36-b085a029c90a",
      "metadata": {},
      "outputs": [
        {
          "data": {
            "text/plain": [
              "92"
            ]
          },
          "execution_count": 8,
          "metadata": {},
          "output_type": "execute_result"
        }
      ],
      "source": [
        "from operator import itemgetter\n",
        "\n",
        "chain = llm_with_tools | (lambda x: x.tool_calls[0][\"args\"]) | multiply\n",
        "chain.invoke(\"What's four times 23\")"
      ]
    },
    {
      "cell_type": "markdown",
      "id": "79a9eb63-383d-4dd4-a162-08b4a52ef4d9",
      "metadata": {},
      "source": [
        "在此处查看 [LangSmith trace](https://smith.langchain.com/public/16bbabb9-fc9b-41e5-a33d-487c42df4f85/r)。"
      ]
    },
    {
      "cell_type": "markdown",
      "id": "0521d3d5",
      "metadata": {},
      "source": [
        "## Agent\n\nChain 非常适合处理我们知道特定工具使用顺序的用户输入。但对于某些用例，我们使用工具的次数取决于输入。在这些情况下，我们希望让模型本身决定使用工具的次数和顺序。[Agent](/docs/concepts/agents/) 正是为此而设计的。\n\n我们将使用一个简单的 LangGraph agent 示例来演示。更多详细信息请参阅[本教程](/docs/tutorials/agents)。\n\n![agent](../../static/img/tool_agent.svg)"
      ]
    },
    {
      "cell_type": "code",
      "execution_count": null,
      "id": "86789cfb-f441-4453-adf8-961eeceb00bc",
      "metadata": {},
      "outputs": [],
      "source": [
        "!pip install -qU langgraph"
      ]
    },
    {
      "cell_type": "code",
      "execution_count": 9,
      "id": "21723cf4-9421-4a8d-92a6-eeeb8f4367f1",
      "metadata": {},
      "outputs": [],
      "source": [
        "from langgraph.prebuilt import create_react_agent"
      ]
    },
    {
      "cell_type": "markdown",
      "id": "616f9714-5b18-4eed-b88a-d38e4cb1de99",
      "metadata": {},
      "source": [
        "Agent 也非常棒，因为它们可以轻松使用多个工具。"
      ]
    },
    {
      "cell_type": "code",
      "execution_count": 10,
      "id": "95c86d32-ee45-4c87-a28c-14eff19b49e9",
      "metadata": {},
      "outputs": [],
      "source": [
        "@tool\n",
        "def add(first_int: int, second_int: int) -> int:\n",
        "    \"Add two integers.\"\n",
        "    return first_int + second_int\n",
        "\n",
        "\n",
        "@tool\n",
        "def exponentiate(base: int, exponent: int) -> int:\n",
        "    \"Exponentiate the base to the exponent power.\"\n",
        "    return base**exponent\n",
        "\n",
        "\n",
        "tools = [multiply, add, exponentiate]"
      ]
    },
    {
      "cell_type": "code",
      "execution_count": 11,
      "id": "17b09ac6-c9b7-4340-a8a0-3d3061f7888c",
      "metadata": {},
      "outputs": [],
      "source": [
        "# Construct the tool calling agent\n",
        "agent = create_react_agent(llm, tools)"
      ]
    },
    {
      "cell_type": "markdown",
      "id": "a6099ab6-2fa6-452d-b73c-7fb65daab451",
      "metadata": {},
      "source": [
        "使用代理，我们可以提出需要任意多次使用我们工具的问题："
      ]
    },
    {
      "cell_type": "code",
      "execution_count": 13,
      "id": "71c84594-d420-4703-8bdd-ca4eb7efefb6",
      "metadata": {},
      "outputs": [
        {
          "name": "stdout",
          "output_type": "stream",
          "text": [
            "================================\u001b[1m Human Message \u001b[0m=================================\n",
            "\n",
            "Take 3 to the fifth power and multiply that by the sum of twelve and three, then square the whole result.\n",
            "==================================\u001b[1m Ai Message \u001b[0m==================================\n",
            "Tool Calls:\n",
            "  exponentiate (call_EHGS8gnEVNCJQ9rVOk11KCQH)\n",
            " Call ID: call_EHGS8gnEVNCJQ9rVOk11KCQH\n",
            "  Args:\n",
            "    base: 3\n",
            "    exponent: 5\n",
            "  add (call_s2cxOrXEKqI6z7LWbMUG6s8c)\n",
            " Call ID: call_s2cxOrXEKqI6z7LWbMUG6s8c\n",
            "  Args:\n",
            "    first_int: 12\n",
            "    second_int: 3\n",
            "=================================\u001b[1m Tool Message \u001b[0m=================================\n",
            "Name: add\n",
            "\n",
            "15\n",
            "==================================\u001b[1m Ai Message \u001b[0m==================================\n",
            "Tool Calls:\n",
            "  multiply (call_25v5JEfDWuKNgmVoGBan0d7J)\n",
            " Call ID: call_25v5JEfDWuKNgmVoGBan0d7J\n",
            "  Args:\n",
            "    first_int: 243\n",
            "    second_int: 15\n",
            "=================================\u001b[1m Tool Message \u001b[0m=================================\n",
            "Name: multiply\n",
            "\n",
            "3645\n",
            "==================================\u001b[1m Ai Message \u001b[0m==================================\n",
            "Tool Calls:\n",
            "  exponentiate (call_x1yKEeBPrFYmCp2z5Kn8705r)\n",
            " Call ID: call_x1yKEeBPrFYmCp2z5Kn8705r\n",
            "  Args:\n",
            "    base: 3645\n",
            "    exponent: 2\n",
            "=================================\u001b[1m Tool Message \u001b[0m=================================\n",
            "Name: exponentiate\n",
            "\n",
            "13286025\n",
            "==================================\u001b[1m Ai Message \u001b[0m==================================\n",
            "\n",
            "The final result of taking 3 to the fifth power, multiplying it by the sum of twelve and three, and then squaring the whole result is **13,286,025**.\n"
          ]
        }
      ],
      "source": [
        "# Use the agent\n",
        "\n",
        "query = (\n",
        "    \"Take 3 to the fifth power and multiply that by the sum of twelve and \"\n",
        "    \"three, then square the whole result.\"\n",
        ")\n",
        "input_message = {\"role\": \"user\", \"content\": query}\n",
        "\n",
        "for step in agent.stream({\"messages\": [input_message]}, stream_mode=\"values\"):\n",
        "    step[\"messages\"][-1].pretty_print()"
      ]
    },
    {
      "cell_type": "markdown",
      "id": "8fdb0ed9-1763-4778-a7d6-026578cd9585",
      "metadata": {},
      "source": [
        "在此查看 [LangSmith trace](https://smith.langchain.com/public/eeeb27a4-a2f8-4f06-a3af-9c983f76146c/r)。"
      ]
    }
  ],
  "metadata": {
    "kernelspec": {
      "display_name": "Python 3 (ipykernel)",
      "language": "python",
      "name": "python3"
    },
    "language_info": {
      "codemirror_mode": {
        "name": "ipython",
        "version": 3
      },
      "file_extension": ".py",
      "mimetype": "text/x-python",
      "name": "python",
      "nbconvert_exporter": "python",
      "pygments_lexer": "ipython3",
      "version": "3.10.4"
    }
  },
  "nbformat": 4,
  "nbformat_minor": 5
}