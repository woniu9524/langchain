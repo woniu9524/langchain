{
  "cells": [
    {
      "cell_type": "markdown",
      "id": "ab3dc782-321e-4503-96ee-ac88a15e4b5e",
      "metadata": {},
      "source": [
        "# 如何保存和加载 LangChain 对象\n\nLangChain 类实现了标准的序列化方法。使用这些方法序列化 LangChain 对象具有一些优势：\n\n- 秘密信息（如 API 密钥）与其他参数分开，并在反序列化时可以加载回对象；\n- 反序列化在不同包版本之间保持兼容，因此用一个版本的 LangChain 序列化的对象可以使用另一个版本正确地反序列化。\n\n要使用此系统保存和加载 LangChain 对象，请使用 `langchain-core` 的 [load 模块](https://python.langchain.com/api_reference/core/load.html) 中的 `dumpd`、`dumps`、`load` 和 `loads` 函数。这些函数支持 JSON 和可 JSON 序列化的对象。\n\n所有继承自 [Serializable](https://python.langchain.com/api_reference/core/load/langchain_core.load.serializable.Serializable.html) 的 LangChain 对象都是可 JSON 序列化的。例如，像 [消息](https://python.langchain.com/api_reference//python/core_api_reference.html#module-langchain_core.messages)、[文档对象](https://python.langchain.com/api_reference/core/documents/langchain_core.documents.base.Document.html)（例如从 [检索器](/docs/concepts/retrievers) 返回的对象）以及大多数 [Runnables](/docs/concepts/lcel)，例如使用 LangChain Expression Language 实现的聊天模型、检索器和[链条](/docs/how_to/sequence)。\n\n下面我们将通过一个简单的 [LLM 链](/docs/tutorials/llm_chain) 的示例进行介绍。\n\n:::caution\n\n使用 `load` 和 `loads` 进行反序列化可以实例化任何可序列化的 LangChain 对象。请仅对受信任的输入使用此功能！\n\n反序列化是一项 Beta 功能，可能会发生变更。\n:::"
      ]
    },
    {
      "cell_type": "code",
      "execution_count": 12,
      "id": "f85d9e51-2a36-4f69-83b1-c716cd43f790",
      "metadata": {},
      "outputs": [],
      "source": [
        "from langchain_core.load import dumpd, dumps, load, loads\n",
        "from langchain_core.prompts import ChatPromptTemplate\n",
        "from langchain_openai import ChatOpenAI\n",
        "\n",
        "prompt = ChatPromptTemplate.from_messages(\n",
        "    [\n",
        "        (\"system\", \"Translate the following into {language}:\"),\n",
        "        (\"user\", \"{text}\"),\n",
        "    ],\n",
        ")\n",
        "\n",
        "llm = ChatOpenAI(model=\"gpt-4o-mini\", api_key=\"llm-api-key\")\n",
        "\n",
        "chain = prompt | llm"
      ]
    },
    {
      "cell_type": "markdown",
      "id": "356ea99f-5cb5-4433-9a6c-2443d2be9ed3",
      "metadata": {},
      "source": [
        "## 保存对象\n\n### 转换为JSON"
      ]
    },
    {
      "cell_type": "code",
      "execution_count": 2,
      "id": "26516764-d46b-4357-a6c6-bd8315bfa530",
      "metadata": {},
      "outputs": [
        {
          "name": "stdout",
          "output_type": "stream",
          "text": [
            "{\n",
            "  \"lc\": 1,\n",
            "  \"type\": \"constructor\",\n",
            "  \"id\": [\n",
            "    \"langchain\",\n",
            "    \"schema\",\n",
            "    \"runnable\",\n",
            "    \"RunnableSequence\"\n",
            "  ],\n",
            "  \"kwargs\": {\n",
            "    \"first\": {\n",
            "      \"lc\": 1,\n",
            "      \"type\": \"constructor\",\n",
            "      \"id\": [\n",
            "        \"langchain\",\n",
            "        \"prompts\",\n",
            "        \"chat\",\n",
            "        \"ChatPromptTemplate\"\n",
            "      ],\n",
            "      \"kwargs\": {\n",
            "        \"input_variables\": [\n",
            "          \"language\",\n",
            "          \"text\"\n",
            "        ],\n",
            "        \"messages\": [\n",
            "          {\n",
            "            \"lc\": 1,\n",
            "            \"type\": \"constructor\",\n",
            "         \n"
          ]
        }
      ],
      "source": [
        "string_representation = dumps(chain, pretty=True)\n",
        "print(string_representation[:500])"
      ]
    },
    {
      "cell_type": "markdown",
      "id": "bd425716-545d-466b-a4e5-dc9952cfd72a",
      "metadata": {},
      "source": [
        "### 转换为 JSON 可序列化的 Python 字典"
      ]
    },
    {
      "cell_type": "code",
      "execution_count": 3,
      "id": "6561a968-1741-4419-8c29-e705b9d0ef39",
      "metadata": {},
      "outputs": [
        {
          "name": "stdout",
          "output_type": "stream",
          "text": [
            "<class 'dict'>\n"
          ]
        }
      ],
      "source": [
        "dict_representation = dumpd(chain)\n",
        "\n",
        "print(type(dict_representation))"
      ]
    },
    {
      "cell_type": "markdown",
      "id": "711e986e-dd24-4839-9e38-c57903378a5f",
      "metadata": {},
      "source": [
        "### 写入磁盘"
      ]
    },
    {
      "cell_type": "code",
      "execution_count": 4,
      "id": "f818378b-f4d6-43a7-895b-76cf7359b157",
      "metadata": {},
      "outputs": [],
      "source": [
        "import json\n",
        "\n",
        "with open(\"/tmp/chain.json\", \"w\") as fp:\n",
        "    json.dump(string_representation, fp)"
      ]
    },
    {
      "cell_type": "markdown",
      "id": "1e621a32-ff5f-4627-ad59-88cacba73c6b",
      "metadata": {},
      "source": [
        "请注意，API 密钥已从序列化表示中隐藏。被视为秘密的参数由 LangChain 对象的 `.lc_secrets` 属性指定："
      ]
    },
    {
      "cell_type": "code",
      "execution_count": 5,
      "id": "8225e150-000a-4fbc-9f3d-09568f4b560b",
      "metadata": {},
      "outputs": [
        {
          "data": {
            "text/plain": [
              "{'openai_api_key': 'OPENAI_API_KEY'}"
            ]
          },
          "execution_count": 5,
          "metadata": {},
          "output_type": "execute_result"
        }
      ],
      "source": [
        "chain.last.lc_secrets"
      ]
    },
    {
      "cell_type": "markdown",
      "id": "6d090177-eb1c-4bfb-8c13-29286afe17d9",
      "metadata": {},
      "source": [
        "## 加载对象\n\n在 `load` 和 `loads` 中指定 `secrets_map` 会将对应的 secrets 加载到反序列化的 LangChain 对象上。\n\n### 从字符串加载"
      ]
    },
    {
      "cell_type": "code",
      "execution_count": 7,
      "id": "54a66267-5f3a-40a2-bfcc-8b44bb24c154",
      "metadata": {},
      "outputs": [],
      "source": [
        "chain = loads(string_representation, secrets_map={\"OPENAI_API_KEY\": \"llm-api-key\"})"
      ]
    },
    {
      "cell_type": "markdown",
      "id": "5ed9aff1-92cc-44ba-b2ec-4d12f924fa03",
      "metadata": {},
      "source": [
        "### 从字典"
      ]
    },
    {
      "cell_type": "code",
      "execution_count": 9,
      "id": "76979932-13de-4427-9f88-040fb05a6778",
      "metadata": {},
      "outputs": [],
      "source": [
        "chain = load(dict_representation, secrets_map={\"OPENAI_API_KEY\": \"llm-api-key\"})"
      ]
    },
    {
      "cell_type": "markdown",
      "id": "7dd81a2a-5163-414d-ab42-f1c35e30471b",
      "metadata": {},
      "source": [
        "### 从磁盘"
      ]
    },
    {
      "cell_type": "code",
      "execution_count": 10,
      "id": "033f62a7-3377-472a-be58-718baa6ab445",
      "metadata": {},
      "outputs": [],
      "source": [
        "with open(\"/tmp/chain.json\", \"r\") as fp:\n",
        "    chain = loads(json.load(fp), secrets_map={\"OPENAI_API_KEY\": \"llm-api-key\"})"
      ]
    },
    {
      "cell_type": "markdown",
      "id": "dc520fdb-035a-468f-a8a8-c3ffe8ed98eb",
      "metadata": {},
      "source": [
        "请注意，我们恢复了指南开头指定的 API 密钥："
      ]
    },
    {
      "cell_type": "code",
      "execution_count": 11,
      "id": "566b2475-d9b4-432b-8c3b-27c2f183624e",
      "metadata": {},
      "outputs": [
        {
          "data": {
            "text/plain": [
              "'llm-api-key'"
            ]
          },
          "execution_count": 11,
          "metadata": {},
          "output_type": "execute_result"
        }
      ],
      "source": [
        "chain.last.openai_api_key.get_secret_value()"
      ]
    },
    {
      "cell_type": "code",
      "execution_count": null,
      "id": "7b4cba53-e1d5-4979-927e-b5794a02afc3",
      "metadata": {},
      "outputs": [],
      "source": []
    }
  ],
  "metadata": {
    "kernelspec": {
      "display_name": "Python 3 (ipykernel)",
      "language": "python",
      "name": "python3"
    },
    "language_info": {
      "codemirror_mode": {
        "name": "ipython",
        "version": 3
      },
      "file_extension": ".py",
      "mimetype": "text/x-python",
      "name": "python",
      "nbconvert_exporter": "python",
      "pygments_lexer": "ipython3",
      "version": "3.10.4"
    }
  },
  "nbformat": 4,
  "nbformat_minor": 5
}