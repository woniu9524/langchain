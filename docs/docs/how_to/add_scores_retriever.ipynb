{
  "cells": [
    {
      "cell_type": "markdown",
      "id": "9d59582a-6473-4b34-929b-3e94cb443c3d",
      "metadata": {},
      "source": [
        "# 如何为检索器结果添加分数\n\n[检索器](/docs/concepts/retrievers/) 会返回一系列 [Document](https://python.langchain.com/api_reference/core/documents/langchain_core.documents.base.Document.html) 对象，这些对象默认不包含检索过程的任何信息（例如，与查询的相似度分数）。这里我们演示如何将检索分数添加到文档的 `.metadata` 中：\n1. 从 [向量存储检索器](/docs/how_to/vectorstore_retriever)；\n2. 从更高级别的 LangChain 检索器，例如 [SelfQueryRetriever](/docs/how_to/self_query) 或 [MultiVectorRetriever](/docs/how_to/multi_vector)。\n\n对于 (1)，我们将围绕相应的 [向量存储](/docs/concepts/vectorstores/) 实现一个简短的包装函数。对于 (2)，我们将更新相应类的某个方法。\n\n## 创建向量存储\n\n首先，我们用一些数据填充向量存储。我们将使用 [PineconeVectorStore](https://python.langchain.com/api_reference/pinecone/vectorstores/langchain_pinecone.vectorstores.PineconeVectorStore.html)，但本指南兼容任何实现了 `.similarity_search_with_score` 方法的 LangChain 向量存储。"
      ]
    },
    {
      "cell_type": "code",
      "execution_count": 2,
      "id": "b8cfcb1b-64ee-4b91-8d82-ce7803834985",
      "metadata": {},
      "outputs": [],
      "source": [
        "from langchain_core.documents import Document\n",
        "from langchain_openai import OpenAIEmbeddings\n",
        "from langchain_pinecone import PineconeVectorStore\n",
        "\n",
        "docs = [\n",
        "    Document(\n",
        "        page_content=\"A bunch of scientists bring back dinosaurs and mayhem breaks loose\",\n",
        "        metadata={\"year\": 1993, \"rating\": 7.7, \"genre\": \"science fiction\"},\n",
        "    ),\n",
        "    Document(\n",
        "        page_content=\"Leo DiCaprio gets lost in a dream within a dream within a dream within a ...\",\n",
        "        metadata={\"year\": 2010, \"director\": \"Christopher Nolan\", \"rating\": 8.2},\n",
        "    ),\n",
        "    Document(\n",
        "        page_content=\"A psychologist / detective gets lost in a series of dreams within dreams within dreams and Inception reused the idea\",\n",
        "        metadata={\"year\": 2006, \"director\": \"Satoshi Kon\", \"rating\": 8.6},\n",
        "    ),\n",
        "    Document(\n",
        "        page_content=\"A bunch of normal-sized women are supremely wholesome and some men pine after them\",\n",
        "        metadata={\"year\": 2019, \"director\": \"Greta Gerwig\", \"rating\": 8.3},\n",
        "    ),\n",
        "    Document(\n",
        "        page_content=\"Toys come alive and have a blast doing so\",\n",
        "        metadata={\"year\": 1995, \"genre\": \"animated\"},\n",
        "    ),\n",
        "    Document(\n",
        "        page_content=\"Three men walk into the Zone, three men walk out of the Zone\",\n",
        "        metadata={\n",
        "            \"year\": 1979,\n",
        "            \"director\": \"Andrei Tarkovsky\",\n",
        "            \"genre\": \"thriller\",\n",
        "            \"rating\": 9.9,\n",
        "        },\n",
        "    ),\n",
        "]\n",
        "\n",
        "vectorstore = PineconeVectorStore.from_documents(\n",
        "    docs, index_name=\"sample\", embedding=OpenAIEmbeddings()\n",
        ")"
      ]
    },
    {
      "cell_type": "markdown",
      "id": "22ac5ef6-ce18-427f-a91c-62b38a8b41e9",
      "metadata": {},
      "source": [
        "## Retriever\n\n要从向量存储检索器中获取分数，我们将底层向量存储的 `.similarity_search_with_score` 方法包装在一个简短的函数中，该函数将分数打包到关联文档的元数据中。\n\n我们为该函数添加了一个 `@chain` 装饰器，以创建一个可用于典型检索器的 [Runnable](/docs/concepts/lcel)。"
      ]
    },
    {
      "cell_type": "code",
      "execution_count": 3,
      "id": "7e5677c3-f6ee-4974-ab5f-a0f50c199d45",
      "metadata": {},
      "outputs": [],
      "source": [
        "from typing import List\n",
        "\n",
        "from langchain_core.documents import Document\n",
        "from langchain_core.runnables import chain\n",
        "\n",
        "\n",
        "@chain\n",
        "def retriever(query: str) -> List[Document]:\n",
        "    docs, scores = zip(*vectorstore.similarity_search_with_score(query))\n",
        "    for doc, score in zip(docs, scores):\n",
        "        doc.metadata[\"score\"] = score\n",
        "\n",
        "    return docs"
      ]
    },
    {
      "cell_type": "code",
      "execution_count": 4,
      "id": "c9cad75e-b955-4012-989c-3c1820b49ba9",
      "metadata": {},
      "outputs": [
        {
          "data": {
            "text/plain": [
              "(Document(page_content='A bunch of scientists bring back dinosaurs and mayhem breaks loose', metadata={'genre': 'science fiction', 'rating': 7.7, 'year': 1993.0, 'score': 0.84429127}),\n",
              " Document(page_content='Toys come alive and have a blast doing so', metadata={'genre': 'animated', 'year': 1995.0, 'score': 0.792038262}),\n",
              " Document(page_content='Three men walk into the Zone, three men walk out of the Zone', metadata={'director': 'Andrei Tarkovsky', 'genre': 'thriller', 'rating': 9.9, 'year': 1979.0, 'score': 0.751571238}),\n",
              " Document(page_content='A psychologist / detective gets lost in a series of dreams within dreams within dreams and Inception reused the idea', metadata={'director': 'Satoshi Kon', 'rating': 8.6, 'year': 2006.0, 'score': 0.747471571}))"
            ]
          },
          "execution_count": 4,
          "metadata": {},
          "output_type": "execute_result"
        }
      ],
      "source": [
        "result = retriever.invoke(\"dinosaur\")\n",
        "result"
      ]
    },
    {
      "cell_type": "markdown",
      "id": "6671308a-be8d-4c15-ae1f-5bd07b342560",
      "metadata": {},
      "source": [
        "请注意，检索步骤中的相似度分数已包含在上述文档的元数据中。"
      ]
    },
    {
      "cell_type": "markdown",
      "id": "af2e73a0-46a1-47e2-8103-68aaa637642a",
      "metadata": {},
      "source": [
        "## SelfQueryRetriever\n\n`SelfQueryRetriever` 将使用 LLM 生成一个可能结构化的查询——例如，除了通常的语义相似性驱动的选择之外，它还可以为检索构建过滤器。有关更多详细信息，请参阅[本指南](/docs/how_to/self_query)。\n\n`SelfQueryRetriever` 包括一个简短的（1-2 行）方法 `_get_docs_with_query`，用于执行 `vectorstore` 搜索。我们可以子类化 `SelfQueryRetriever` 并覆盖此方法以传播相似性分数。\n\n首先，按照[操作指南](/docs/how_to/self_query)，我们需要建立一些要过滤的元数据："
      ]
    },
    {
      "cell_type": "code",
      "execution_count": 5,
      "id": "8280b829-2e81-4454-8adc-9a0930047fa2",
      "metadata": {},
      "outputs": [],
      "source": [
        "from langchain.chains.query_constructor.base import AttributeInfo\n",
        "from langchain.retrievers.self_query.base import SelfQueryRetriever\n",
        "from langchain_openai import ChatOpenAI\n",
        "\n",
        "metadata_field_info = [\n",
        "    AttributeInfo(\n",
        "        name=\"genre\",\n",
        "        description=\"The genre of the movie. One of ['science fiction', 'comedy', 'drama', 'thriller', 'romance', 'action', 'animated']\",\n",
        "        type=\"string\",\n",
        "    ),\n",
        "    AttributeInfo(\n",
        "        name=\"year\",\n",
        "        description=\"The year the movie was released\",\n",
        "        type=\"integer\",\n",
        "    ),\n",
        "    AttributeInfo(\n",
        "        name=\"director\",\n",
        "        description=\"The name of the movie director\",\n",
        "        type=\"string\",\n",
        "    ),\n",
        "    AttributeInfo(\n",
        "        name=\"rating\", description=\"A 1-10 rating for the movie\", type=\"float\"\n",
        "    ),\n",
        "]\n",
        "document_content_description = \"Brief summary of a movie\"\n",
        "llm = ChatOpenAI(temperature=0)"
      ]
    },
    {
      "cell_type": "markdown",
      "id": "0a6c6fa8-1e2f-45ee-83e9-a6cbd82292d2",
      "metadata": {},
      "source": [
        "然后，我们重写 `_get_docs_with_query` 以使用底层向量存储的 `similarity_search_with_score` 方法："
      ]
    },
    {
      "cell_type": "code",
      "execution_count": 6,
      "id": "62c8f3fa-8b64-4afb-87c4-ccbbf9a8bc54",
      "metadata": {},
      "outputs": [],
      "source": [
        "from typing import Any, Dict\n",
        "\n",
        "\n",
        "class CustomSelfQueryRetriever(SelfQueryRetriever):\n",
        "    def _get_docs_with_query(\n",
        "        self, query: str, search_kwargs: Dict[str, Any]\n",
        "    ) -> List[Document]:\n",
        "        \"\"\"Get docs, adding score information.\"\"\"\n",
        "        docs, scores = zip(\n",
        "            *self.vectorstore.similarity_search_with_score(query, **search_kwargs)\n",
        "        )\n",
        "        for doc, score in zip(docs, scores):\n",
        "            doc.metadata[\"score\"] = score\n",
        "\n",
        "        return docs"
      ]
    },
    {
      "cell_type": "markdown",
      "id": "56e40109-1db6-44c7-a6e6-6989175e267c",
      "metadata": {},
      "source": [
        "调用此检索器现在将在文档元数据中包含相似性分数。请注意，`SelfQueryRetriever` 底层的结构化查询功能得以保留。"
      ]
    },
    {
      "cell_type": "code",
      "execution_count": 7,
      "id": "3359a1ee-34ff-41b6-bded-64c05785b333",
      "metadata": {},
      "outputs": [
        {
          "data": {
            "text/plain": [
              "(Document(page_content='A bunch of scientists bring back dinosaurs and mayhem breaks loose', metadata={'genre': 'science fiction', 'rating': 7.7, 'year': 1993.0, 'score': 0.84429127}),)"
            ]
          },
          "execution_count": 7,
          "metadata": {},
          "output_type": "execute_result"
        }
      ],
      "source": [
        "retriever = CustomSelfQueryRetriever.from_llm(\n",
        "    llm,\n",
        "    vectorstore,\n",
        "    document_content_description,\n",
        "    metadata_field_info,\n",
        ")\n",
        "\n",
        "\n",
        "result = retriever.invoke(\"dinosaur movie with rating less than 8\")\n",
        "result"
      ]
    },
    {
      "cell_type": "markdown",
      "id": "689ab3ba-3494-448b-836e-05fbe1ffd51c",
      "metadata": {},
      "source": [
        "## MultiVectorRetriever\n\n`MultiVectorRetriever` 允许您将多个向量与单个文档关联起来。这在许多应用程序中都可能很有用。例如，我们可以索引较大文档的小块，并在这些块上运行检索，但在调用检索器时返回较大的“父”文档。[`ParentDocumentRetriever`](/docs/how_to/parent_document_retriever/) 是 `MultiVectorRetriever` 的一个子类，它包含方便的方法来填充向量存储以支持此功能。更广泛的应用在本[操作指南](/docs/how_to/multi_vector/)中有详细介绍。\n\n要将相似度分数通过此检索器进行传播，我们可以再次创建一个 `MultiVectorRetriever` 的子类并覆盖一个方法。这次我们将覆盖 `_get_relevant_documents`。\n\n首先，我们准备一些模拟数据。我们生成模拟的“完整文档”并将它们存储在文档存储中；这里我们将使用一个简单的 [InMemoryStore](https://python.langchain.com/api_reference/core/stores/langchain_core.stores.InMemoryBaseStore.html)。"
      ]
    },
    {
      "cell_type": "code",
      "execution_count": 8,
      "id": "a112e545-7b53-4fcd-9c4a-7a42a5cc646d",
      "metadata": {},
      "outputs": [],
      "source": [
        "from langchain.storage import InMemoryStore\n",
        "from langchain_text_splitters import RecursiveCharacterTextSplitter\n",
        "\n",
        "# The storage layer for the parent documents\n",
        "docstore = InMemoryStore()\n",
        "fake_whole_documents = [\n",
        "    (\"fake_id_1\", Document(page_content=\"fake whole document 1\")),\n",
        "    (\"fake_id_2\", Document(page_content=\"fake whole document 2\")),\n",
        "]\n",
        "docstore.mset(fake_whole_documents)"
      ]
    },
    {
      "cell_type": "markdown",
      "id": "453b7415-4a6d-45d4-a329-9c1d7271d1b2",
      "metadata": {},
      "source": [
        "接下来，我们将向向量存储中添加一些伪“子文档”。我们可以通过填充其元数据中的 `\"doc_id\"` 键来将这些子文档链接到父文档。"
      ]
    },
    {
      "cell_type": "code",
      "execution_count": 9,
      "id": "314519c0-dde4-41ea-a1ab-d3cf1c17c63f",
      "metadata": {},
      "outputs": [
        {
          "data": {
            "text/plain": [
              "['62a85353-41ff-4346-bff7-be6c8ec2ed89',\n",
              " '5d4a0e83-4cc5-40f1-bc73-ed9cbad0ee15',\n",
              " '8c1d9a56-120f-45e4-ba70-a19cd19a38f4']"
            ]
          },
          "execution_count": 9,
          "metadata": {},
          "output_type": "execute_result"
        }
      ],
      "source": [
        "docs = [\n",
        "    Document(\n",
        "        page_content=\"A snippet from a larger document discussing cats.\",\n",
        "        metadata={\"doc_id\": \"fake_id_1\"},\n",
        "    ),\n",
        "    Document(\n",
        "        page_content=\"A snippet from a larger document discussing discourse.\",\n",
        "        metadata={\"doc_id\": \"fake_id_1\"},\n",
        "    ),\n",
        "    Document(\n",
        "        page_content=\"A snippet from a larger document discussing chocolate.\",\n",
        "        metadata={\"doc_id\": \"fake_id_2\"},\n",
        "    ),\n",
        "]\n",
        "\n",
        "vectorstore.add_documents(docs)"
      ]
    },
    {
      "cell_type": "markdown",
      "id": "e391f7f3-5a58-40fd-89fa-a0815c5146f7",
      "metadata": {},
      "source": [
        "为了传播得分，我们继承了 `MultiVectorRetriever` 并重写了它的 `_get_relevant_documents` 方法。在这里，我们将进行两处更改：\n\n1. 我们将使用上面提到的底层向量存储的 `similarity_search_with_score` 方法，将相似性得分添加到相应“子文档”的元数据中；\n2. 我们将在检索到的父文档的元数据中包含这些子文档的列表。这会展示通过检索识别出的文本片段及其对应的相似性得分。"
      ]
    },
    {
      "cell_type": "code",
      "execution_count": 10,
      "id": "1de61de7-1b58-41d6-9dea-939fef7d741d",
      "metadata": {},
      "outputs": [],
      "source": [
        "from collections import defaultdict\n",
        "\n",
        "from langchain.retrievers import MultiVectorRetriever\n",
        "from langchain_core.callbacks import CallbackManagerForRetrieverRun\n",
        "\n",
        "\n",
        "class CustomMultiVectorRetriever(MultiVectorRetriever):\n",
        "    def _get_relevant_documents(\n",
        "        self, query: str, *, run_manager: CallbackManagerForRetrieverRun\n",
        "    ) -> List[Document]:\n",
        "        \"\"\"Get documents relevant to a query.\n",
        "        Args:\n",
        "            query: String to find relevant documents for\n",
        "            run_manager: The callbacks handler to use\n",
        "        Returns:\n",
        "            List of relevant documents\n",
        "        \"\"\"\n",
        "        results = self.vectorstore.similarity_search_with_score(\n",
        "            query, **self.search_kwargs\n",
        "        )\n",
        "\n",
        "        # Map doc_ids to list of sub-documents, adding scores to metadata\n",
        "        id_to_doc = defaultdict(list)\n",
        "        for doc, score in results:\n",
        "            doc_id = doc.metadata.get(\"doc_id\")\n",
        "            if doc_id:\n",
        "                doc.metadata[\"score\"] = score\n",
        "                id_to_doc[doc_id].append(doc)\n",
        "\n",
        "        # Fetch documents corresponding to doc_ids, retaining sub_docs in metadata\n",
        "        docs = []\n",
        "        for _id, sub_docs in id_to_doc.items():\n",
        "            docstore_docs = self.docstore.mget([_id])\n",
        "            if docstore_docs:\n",
        "                if doc := docstore_docs[0]:\n",
        "                    doc.metadata[\"sub_docs\"] = sub_docs\n",
        "                    docs.append(doc)\n",
        "\n",
        "        return docs"
      ]
    },
    {
      "cell_type": "markdown",
      "id": "7af27b38-631c-463f-9d66-bcc985f06a4f",
      "metadata": {},
      "source": [
        "在调用此检索器后，我们可以看到它识别出了正确的父文档，并包含来自子文档的相关片段以及相似度得分。"
      ]
    },
    {
      "cell_type": "code",
      "execution_count": 11,
      "id": "dc42a1be-22e1-4ade-b1bd-bafb85f2424f",
      "metadata": {},
      "outputs": [
        {
          "data": {
            "text/plain": [
              "[Document(page_content='fake whole document 1', metadata={'sub_docs': [Document(page_content='A snippet from a larger document discussing cats.', metadata={'doc_id': 'fake_id_1', 'score': 0.831276655})]})]"
            ]
          },
          "execution_count": 11,
          "metadata": {},
          "output_type": "execute_result"
        }
      ],
      "source": [
        "retriever = CustomMultiVectorRetriever(vectorstore=vectorstore, docstore=docstore)\n",
        "\n",
        "retriever.invoke(\"cat\")"
      ]
    }
  ],
  "metadata": {
    "kernelspec": {
      "display_name": "Python 3 (ipykernel)",
      "language": "python",
      "name": "python3"
    },
    "language_info": {
      "codemirror_mode": {
        "name": "ipython",
        "version": 3
      },
      "file_extension": ".py",
      "mimetype": "text/x-python",
      "name": "python",
      "nbconvert_exporter": "python",
      "pygments_lexer": "ipython3",
      "version": "3.10.4"
    }
  },
  "nbformat": 4,
  "nbformat_minor": 5
}