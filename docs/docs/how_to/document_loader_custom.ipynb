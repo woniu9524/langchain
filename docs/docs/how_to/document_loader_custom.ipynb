{
  "cells": [
    {
      "cell_type": "raw",
      "id": "c5990f4f-4430-4bbb-8d25-9703d7d8e95c",
      "metadata": {},
      "source": [
        "---\n",
        "title: Custom Document Loader\n",
        "sidebar_position: 10\n",
        "---"
      ]
    },
    {
      "cell_type": "markdown",
      "id": "4be0aa7c-aee3-4e11-b7f4-059611ab8626",
      "metadata": {},
      "source": [
        "# 如何创建自定义文档加载器\n\n## 概述\n\n基于 LLM 的应用程序通常需要从数据库或文件（如 PDF）中提取数据，并将其转换为 LLM 可以使用的格式。在 LangChain 中，这通常涉及创建 `Document` 对象，这些对象封装了提取的文本（`page_content`）以及元数据（一个包含有关文档详细信息的字典，例如作者姓名或发布日期）。\n\n`Document` 对象通常会被格式化成提示，然后输入给 LLM，使 LLM 能够利用 `Document` 中的信息来生成所需的响应（例如，总结文档）。\n`Documents` 可以立即使用，也可以索引到向量存储中以供将来的检索和使用。\n\n[文档加载器](/docs/concepts/document_loaders/)的主要抽象是：\n\n| 组件        | 描述                                       |\n| ----------- | ------------------------------------------ |\n| Document    | 包含 `text` 和 `metadata`                  |\n| BaseLoader  | 用于将原始数据转换为 `Documents`             |\n| Blob        | 二进制数据的表示形式，位于文件或内存中       |\n| BaseBlobParser | 用于解析 `Blob` 以生成 `Document` 对象的逻辑 |\n\n本指南将演示如何编写自定义文档加载和文件解析逻辑；具体来说，我们将看到如何：\n\n1. 通过继承 `BaseLoader` 来创建标准的文档加载器。\n2. 使用 `BaseBlobParser` 创建一个解析器，并将其与 `Blob` 和 `BlobLoaders` 结合使用。这主要在处理文件时非常有用。"
      ]
    },
    {
      "cell_type": "markdown",
      "id": "20dc4c18-accc-4009-805c-961f3e8dc50a",
      "metadata": {},
      "source": [
        "## 标准文档加载器\n\n文档加载器可以通过继承 `BaseLoader` 来实现，`BaseLoader` 提供了加载文档的标准接口。\n\n### 接口\n\n| 方法名      | 解释                                                                                                                                                              |\n|-------------|-----------------------------------------------------------------------------------------------------------------------------------------------------------------|\n| lazy_load   | 用于**惰性地**逐个加载文档。用于生产代码。                                                                                                                                |\n| alazy_load  | `lazy_load` 的异步变体                                                                                                                                     |\n| load        | 用于**立即地**将所有文档加载到内存中。用于原型设计或交互式工作。                                                                                                                              |\n| aload       | 用于**立即地**将所有文档加载到内存中。用于原型设计或交互式工作。 **于 2024-04 添加至 LangChain。**                                                                                                    |\n\n* `load` 方法是一个便捷方法，仅用于原型设计工作——它仅调用 `list(self.lazy_load())`。\n* `alazy_load` 有一个默认实现，它会委托给 `lazy_load`。如果您使用异步，我们建议重写默认实现并提供原生的异步实现。\n\n:::important\n在实现文档加载器时，请**不要**通过 `lazy_load` 或 `alazy_load` 方法提供参数。\n\n所有配置都应通过初始化器（`__init__`）传递。这是 LangChain 做出的设计选择，以确保文档加载器在实例化后拥有加载文档所需的所有信息。\n:::"
      ]
    },
    {
      "cell_type": "markdown",
      "id": "520edbbabde7df6e",
      "metadata": {},
      "source": [
        "### 安装\n\n安装 `langchain-core` 和 `langchain_community`。"
      ]
    },
    {
      "cell_type": "code",
      "execution_count": null,
      "id": "936bd5fc",
      "metadata": {},
      "outputs": [],
      "source": [
        "%pip install -qU langchain_core langchain_community"
      ]
    },
    {
      "cell_type": "markdown",
      "id": "a93f17a87d323bdd",
      "metadata": {},
      "source": [
        "### 实现\n\n我们来创建一个标准的文档加载器示例，该加载器可以加载一个文件，并从文件中的每一行创建一个文档。"
      ]
    },
    {
      "cell_type": "code",
      "execution_count": 2,
      "id": "20f128c1-1a2c-43b9-9e7b-cf9b3a86d1db",
      "metadata": {
        "ExecuteTime": {
          "end_time": "2025-04-21T08:49:56.764714Z",
          "start_time": "2025-04-21T08:49:56.623508Z"
        },
        "tags": []
      },
      "outputs": [],
      "source": [
        "from typing import AsyncIterator, Iterator\n",
        "\n",
        "from langchain_core.document_loaders import BaseLoader\n",
        "from langchain_core.documents import Document\n",
        "\n",
        "\n",
        "class CustomDocumentLoader(BaseLoader):\n",
        "    \"\"\"An example document loader that reads a file line by line.\"\"\"\n",
        "\n",
        "    def __init__(self, file_path: str) -> None:\n",
        "        \"\"\"Initialize the loader with a file path.\n",
        "\n",
        "        Args:\n",
        "            file_path: The path to the file to load.\n",
        "        \"\"\"\n",
        "        self.file_path = file_path\n",
        "\n",
        "    def lazy_load(self) -> Iterator[Document]:  # <-- Does not take any arguments\n",
        "        \"\"\"A lazy loader that reads a file line by line.\n",
        "\n",
        "        When you're implementing lazy load methods, you should use a generator\n",
        "        to yield documents one by one.\n",
        "        \"\"\"\n",
        "        with open(self.file_path, encoding=\"utf-8\") as f:\n",
        "            line_number = 0\n",
        "            for line in f:\n",
        "                yield Document(\n",
        "                    page_content=line,\n",
        "                    metadata={\"line_number\": line_number, \"source\": self.file_path},\n",
        "                )\n",
        "                line_number += 1\n",
        "\n",
        "    # alazy_load is OPTIONAL.\n",
        "    # If you leave out the implementation, a default implementation which delegates to lazy_load will be used!\n",
        "    async def alazy_load(\n",
        "        self,\n",
        "    ) -> AsyncIterator[Document]:  # <-- Does not take any arguments\n",
        "        \"\"\"An async lazy loader that reads a file line by line.\"\"\"\n",
        "        # Requires aiofiles\n",
        "        # https://github.com/Tinche/aiofiles\n",
        "        import aiofiles\n",
        "\n",
        "        async with aiofiles.open(self.file_path, encoding=\"utf-8\") as f:\n",
        "            line_number = 0\n",
        "            async for line in f:\n",
        "                yield Document(\n",
        "                    page_content=line,\n",
        "                    metadata={\"line_number\": line_number, \"source\": self.file_path},\n",
        "                )\n",
        "                line_number += 1"
      ]
    },
    {
      "cell_type": "markdown",
      "id": "eb845512-3d46-44fa-a4c6-ff723533abbe",
      "metadata": {
        "tags": []
      },
      "source": [
        "### 测试 🧪\n\n要测试文档加载器，我们需要一个包含优质内容的文件的。"
      ]
    },
    {
      "cell_type": "code",
      "execution_count": 3,
      "id": "b1751198-c6dd-4149-95bd-6370ce8fa06f",
      "metadata": {
        "ExecuteTime": {
          "end_time": "2025-04-21T08:49:56.776521Z",
          "start_time": "2025-04-21T08:49:56.773511Z"
        },
        "tags": []
      },
      "outputs": [],
      "source": [
        "with open(\"./meow.txt\", \"w\", encoding=\"utf-8\") as f:\n",
        "    quality_content = \"meow meow🐱 \\n meow meow🐱 \\n meow😻😻\"\n",
        "    f.write(quality_content)\n",
        "\n",
        "loader = CustomDocumentLoader(\"./meow.txt\")"
      ]
    },
    {
      "cell_type": "code",
      "execution_count": null,
      "id": "c5210428",
      "metadata": {},
      "outputs": [],
      "source": [
        "%pip install -q aiofiles"
      ]
    },
    {
      "cell_type": "code",
      "execution_count": 5,
      "id": "71ef1482-f9de-4852-b5a4-0938f350612e",
      "metadata": {
        "ExecuteTime": {
          "end_time": "2025-04-21T08:49:57.972675Z",
          "start_time": "2025-04-21T08:49:57.969411Z"
        },
        "tags": []
      },
      "outputs": [
        {
          "name": "stdout",
          "output_type": "stream",
          "text": [
            "\n",
            "<class 'langchain_core.documents.base.Document'>\n",
            "page_content='meow meow🐱 \n",
            "' metadata={'line_number': 0, 'source': './meow.txt'}\n",
            "\n",
            "<class 'langchain_core.documents.base.Document'>\n",
            "page_content=' meow meow🐱 \n",
            "' metadata={'line_number': 1, 'source': './meow.txt'}\n",
            "\n",
            "<class 'langchain_core.documents.base.Document'>\n",
            "page_content=' meow😻😻' metadata={'line_number': 2, 'source': './meow.txt'}\n"
          ]
        }
      ],
      "source": [
        "## Test out the lazy load interface\n",
        "for doc in loader.lazy_load():\n",
        "    print()\n",
        "    print(type(doc))\n",
        "    print(doc)"
      ]
    },
    {
      "cell_type": "code",
      "execution_count": 6,
      "id": "1588e78c-e81a-4d40-b36c-634242c84a6a",
      "metadata": {
        "ExecuteTime": {
          "end_time": "2025-04-21T08:49:58.028989Z",
          "start_time": "2025-04-21T08:49:58.021972Z"
        },
        "tags": []
      },
      "outputs": [
        {
          "name": "stdout",
          "output_type": "stream",
          "text": [
            "\n",
            "<class 'langchain_core.documents.base.Document'>\n",
            "page_content='meow meow🐱 \n",
            "' metadata={'line_number': 0, 'source': './meow.txt'}\n",
            "\n",
            "<class 'langchain_core.documents.base.Document'>\n",
            "page_content=' meow meow🐱 \n",
            "' metadata={'line_number': 1, 'source': './meow.txt'}\n",
            "\n",
            "<class 'langchain_core.documents.base.Document'>\n",
            "page_content=' meow😻😻' metadata={'line_number': 2, 'source': './meow.txt'}\n"
          ]
        }
      ],
      "source": [
        "## Test out the async implementation\n",
        "async for doc in loader.alazy_load():\n",
        "    print()\n",
        "    print(type(doc))\n",
        "    print(doc)"
      ]
    },
    {
      "cell_type": "markdown",
      "id": "56cb443e-f987-4386-b4ec-975ee129adb2",
      "metadata": {},
      "source": [
        ":::tip\n\n`load()` 在交互式环境（例如 jupyter notebook）中可能很有用。\n\n请避免在生产代码中使用它，因为急切加载（eager loading）假设所有内容都可以放入内存，但这并非总是如此，尤其是对于企业级数据。\n:::"
      ]
    },
    {
      "cell_type": "code",
      "execution_count": 7,
      "id": "df5ad46a-9e00-4073-8505-489fc4f3799e",
      "metadata": {
        "ExecuteTime": {
          "end_time": "2025-04-21T08:49:58.078111Z",
          "start_time": "2025-04-21T08:49:58.071421Z"
        },
        "tags": []
      },
      "outputs": [
        {
          "data": {
            "text/plain": [
              "[Document(metadata={'line_number': 0, 'source': './meow.txt'}, page_content='meow meow🐱 \\n'),\n",
              " Document(metadata={'line_number': 1, 'source': './meow.txt'}, page_content=' meow meow🐱 \\n'),\n",
              " Document(metadata={'line_number': 2, 'source': './meow.txt'}, page_content=' meow😻😻')]"
            ]
          },
          "execution_count": 7,
          "metadata": {},
          "output_type": "execute_result"
        }
      ],
      "source": [
        "loader.load()"
      ]
    },
    {
      "cell_type": "markdown",
      "id": "639fe87c-b65f-4bef-8fe2-d10be85589f4",
      "metadata": {},
      "source": [
        "## 处理文件\n\n许多文档加载器涉及解析文件。这些加载器之间的区别通常源于文件的解析方式，而不是文件的加载方式。例如，你可以使用 `open` 来读取 PDF 或 markdown 文件的二进制内容，但你需要不同的解析逻辑才能将这些二进制数据转换为文本。\n\n因此，将解析逻辑与加载逻辑解耦会很有帮助，这样可以更容易地重用某个解析器，而无需考虑数据是如何加载的。\n\n### BaseBlobParser\n\n`BaseBlobParser` 是一个接受 `blob` 并输出 `Document` 对象列表的接口。`blob` 是存在于内存或文件中的数据的表示。LangChain Python 有一个 `Blob` 原语，其灵感来自 [Blob WebAPI 规范](https://developer.mozilla.org/en-US/docs/Web/API/Blob)。"
      ]
    },
    {
      "cell_type": "code",
      "execution_count": 8,
      "id": "209f6a91-2f15-4cb2-9237-f79fc9493b82",
      "metadata": {
        "ExecuteTime": {
          "end_time": "2025-04-21T08:49:58.124363Z",
          "start_time": "2025-04-21T08:49:58.120782Z"
        },
        "tags": []
      },
      "outputs": [],
      "source": [
        "from langchain_core.document_loaders import BaseBlobParser, Blob\n",
        "\n",
        "\n",
        "class MyParser(BaseBlobParser):\n",
        "    \"\"\"A simple parser that creates a document from each line.\"\"\"\n",
        "\n",
        "    def lazy_parse(self, blob: Blob) -> Iterator[Document]:\n",
        "        \"\"\"Parse a blob into a document line by line.\"\"\"\n",
        "        line_number = 0\n",
        "        with blob.as_bytes_io() as f:\n",
        "            for line in f:\n",
        "                line_number += 1\n",
        "                yield Document(\n",
        "                    page_content=line,\n",
        "                    metadata={\"line_number\": line_number, \"source\": blob.source},\n",
        "                )"
      ]
    },
    {
      "cell_type": "code",
      "execution_count": 9,
      "id": "b1275c59-06d4-458f-abd2-fcbad0bde442",
      "metadata": {
        "ExecuteTime": {
          "end_time": "2025-04-21T08:49:58.172506Z",
          "start_time": "2025-04-21T08:49:58.167416Z"
        },
        "tags": []
      },
      "outputs": [],
      "source": [
        "blob = Blob.from_path(\"./meow.txt\")\n",
        "parser = MyParser()"
      ]
    },
    {
      "cell_type": "code",
      "execution_count": 10,
      "id": "56a3d707-2086-413b-ae82-50e92ddb27f6",
      "metadata": {
        "ExecuteTime": {
          "end_time": "2025-04-21T08:49:58.218426Z",
          "start_time": "2025-04-21T08:49:58.214684Z"
        },
        "tags": []
      },
      "outputs": [
        {
          "data": {
            "text/plain": [
              "[Document(metadata={'line_number': 1, 'source': './meow.txt'}, page_content='meow meow🐱 \\n'),\n",
              " Document(metadata={'line_number': 2, 'source': './meow.txt'}, page_content=' meow meow🐱 \\n'),\n",
              " Document(metadata={'line_number': 3, 'source': './meow.txt'}, page_content=' meow😻😻')]"
            ]
          },
          "execution_count": 10,
          "metadata": {},
          "output_type": "execute_result"
        }
      ],
      "source": [
        "list(parser.lazy_parse(blob))"
      ]
    },
    {
      "cell_type": "markdown",
      "id": "433bfb7c-7767-43bc-b71e-42413d7494a8",
      "metadata": {},
      "source": [
        "使用 **blob** API 还允许直接从内存加载内容，而无需从文件中读取！"
      ]
    },
    {
      "cell_type": "code",
      "execution_count": 11,
      "id": "20d03092-ba35-47d7-b612-9d1631c261cd",
      "metadata": {
        "ExecuteTime": {
          "end_time": "2025-04-21T08:49:58.267755Z",
          "start_time": "2025-04-21T08:49:58.264369Z"
        },
        "tags": []
      },
      "outputs": [
        {
          "data": {
            "text/plain": [
              "[Document(metadata={'line_number': 1, 'source': None}, page_content='some data from memory\\n'),\n",
              " Document(metadata={'line_number': 2, 'source': None}, page_content='meow')]"
            ]
          },
          "execution_count": 11,
          "metadata": {},
          "output_type": "execute_result"
        }
      ],
      "source": [
        "blob = Blob(data=b\"some data from memory\\nmeow\")\n",
        "list(parser.lazy_parse(blob))"
      ]
    },
    {
      "cell_type": "markdown",
      "id": "d401c5e9-32cc-41e2-973f-c70d1cd3ba76",
      "metadata": {},
      "source": [
        "### Blob\n\n我们来快速浏览一下 Blob API 的一些内容。"
      ]
    },
    {
      "cell_type": "code",
      "execution_count": 12,
      "id": "a9e92e0e-c8da-401c-b8c6-f0676004cf58",
      "metadata": {
        "ExecuteTime": {
          "end_time": "2025-04-21T08:49:58.330432Z",
          "start_time": "2025-04-21T08:49:58.327223Z"
        },
        "tags": []
      },
      "outputs": [],
      "source": [
        "blob = Blob.from_path(\"./meow.txt\", metadata={\"foo\": \"bar\"})"
      ]
    },
    {
      "cell_type": "code",
      "execution_count": 13,
      "id": "6b559d30-8b0c-4e45-86b1-e4602d9aaa7e",
      "metadata": {
        "ExecuteTime": {
          "end_time": "2025-04-21T08:49:58.383905Z",
          "start_time": "2025-04-21T08:49:58.380658Z"
        },
        "tags": []
      },
      "outputs": [
        {
          "data": {
            "text/plain": [
              "'utf-8'"
            ]
          },
          "execution_count": 13,
          "metadata": {},
          "output_type": "execute_result"
        }
      ],
      "source": [
        "blob.encoding"
      ]
    },
    {
      "cell_type": "code",
      "execution_count": 14,
      "id": "2f7b145a-9c6f-47f9-9487-1f4b25aff46f",
      "metadata": {
        "ExecuteTime": {
          "end_time": "2025-04-21T08:49:58.443829Z",
          "start_time": "2025-04-21T08:49:58.440222Z"
        },
        "tags": []
      },
      "outputs": [
        {
          "data": {
            "text/plain": [
              "b'meow meow\\xf0\\x9f\\x90\\xb1 \\n meow meow\\xf0\\x9f\\x90\\xb1 \\n meow\\xf0\\x9f\\x98\\xbb\\xf0\\x9f\\x98\\xbb'"
            ]
          },
          "execution_count": 14,
          "metadata": {},
          "output_type": "execute_result"
        }
      ],
      "source": [
        "blob.as_bytes()"
      ]
    },
    {
      "cell_type": "code",
      "execution_count": 15,
      "id": "9b9482fa-c49c-42cd-a2ef-80bc93214631",
      "metadata": {
        "ExecuteTime": {
          "end_time": "2025-04-21T08:49:58.498609Z",
          "start_time": "2025-04-21T08:49:58.494903Z"
        },
        "tags": []
      },
      "outputs": [
        {
          "data": {
            "text/plain": [
              "'meow meow🐱 \\n meow meow🐱 \\n meow😻😻'"
            ]
          },
          "execution_count": 15,
          "metadata": {},
          "output_type": "execute_result"
        }
      ],
      "source": [
        "blob.as_string()"
      ]
    },
    {
      "cell_type": "code",
      "execution_count": 16,
      "id": "04cc7a81-290e-4ef8-b7e1-d885fcc59ece",
      "metadata": {
        "ExecuteTime": {
          "end_time": "2025-04-21T08:49:58.551353Z",
          "start_time": "2025-04-21T08:49:58.547518Z"
        },
        "tags": []
      },
      "outputs": [
        {
          "data": {
            "text/plain": [
              "<contextlib._GeneratorContextManager at 0x74b8d42e9940>"
            ]
          },
          "execution_count": 16,
          "metadata": {},
          "output_type": "execute_result"
        }
      ],
      "source": [
        "blob.as_bytes_io()"
      ]
    },
    {
      "cell_type": "code",
      "execution_count": 17,
      "id": "ec8de0ab-51d7-4e41-82c9-3ce0a6fdc2cd",
      "metadata": {
        "ExecuteTime": {
          "end_time": "2025-04-21T08:49:58.599576Z",
          "start_time": "2025-04-21T08:49:58.596567Z"
        },
        "tags": []
      },
      "outputs": [
        {
          "data": {
            "text/plain": [
              "{'foo': 'bar'}"
            ]
          },
          "execution_count": 17,
          "metadata": {},
          "output_type": "execute_result"
        }
      ],
      "source": [
        "blob.metadata"
      ]
    },
    {
      "cell_type": "code",
      "execution_count": 18,
      "id": "19eae991-ae48-43c2-8952-7347cdb76a34",
      "metadata": {
        "ExecuteTime": {
          "end_time": "2025-04-21T08:49:58.649634Z",
          "start_time": "2025-04-21T08:49:58.646313Z"
        },
        "tags": []
      },
      "outputs": [
        {
          "data": {
            "text/plain": [
              "'./meow.txt'"
            ]
          },
          "execution_count": 18,
          "metadata": {},
          "output_type": "execute_result"
        }
      ],
      "source": [
        "blob.source"
      ]
    },
    {
      "cell_type": "markdown",
      "id": "3ea67645-a367-48ce-b164-0d9f00c17370",
      "metadata": {},
      "source": [
        "### Blob 加载器\n\n解析器封装了将二进制数据解析成文档所需的逻辑，而 *blob 加载器* 则封装了从给定存储位置加载 blob 所必需的逻辑。\n\n目前，`LangChain` 支持 `FileSystemBlobLoader` 和 `CloudBlobLoader`。\n\n您可以使用 `FileSystemBlobLoader` 加载 blob，然后使用解析器解析它们。"
      ]
    },
    {
      "cell_type": "code",
      "execution_count": 19,
      "id": "c093becb-2e84-4329-89e3-956a3bd765e5",
      "metadata": {
        "ExecuteTime": {
          "end_time": "2025-04-21T08:49:58.718259Z",
          "start_time": "2025-04-21T08:49:58.705367Z"
        },
        "tags": []
      },
      "outputs": [],
      "source": [
        "from langchain_community.document_loaders.blob_loaders import FileSystemBlobLoader\n",
        "\n",
        "filesystem_blob_loader = FileSystemBlobLoader(\n",
        "    path=\".\", glob=\"*.mdx\", show_progress=True\n",
        ")"
      ]
    },
    {
      "cell_type": "code",
      "execution_count": null,
      "id": "21b91bad",
      "metadata": {},
      "outputs": [],
      "source": [
        "%pip install -q tqdm"
      ]
    },
    {
      "cell_type": "code",
      "execution_count": null,
      "id": "40be670b",
      "metadata": {},
      "outputs": [],
      "source": [
        "parser = MyParser()\n",
        "for blob in filesystem_blob_loader.yield_blobs():\n",
        "    for doc in parser.lazy_parse(blob):\n",
        "        print(doc)\n",
        "        break"
      ]
    },
    {
      "cell_type": "markdown",
      "id": "f016390c-d38b-4261-946d-34eefe546df7",
      "metadata": {},
      "source": [
        "或者，您可以使用 `CloudBlobLoader` 从云存储位置加载 Blob（支持 s3://, az://, gs://, file:// 协议）。"
      ]
    },
    {
      "cell_type": "code",
      "execution_count": null,
      "id": "8210714e",
      "metadata": {},
      "outputs": [],
      "source": [
        "%pip install -q 'cloudpathlib[s3]'"
      ]
    },
    {
      "cell_type": "markdown",
      "id": "d3f84501-b0aa-4a60-aad2-5109cbd37d4f",
      "metadata": {},
      "source": [
        "```python\nfrom cloudpathlib import S3Client, S3Path\nfrom langchain_community.document_loaders.blob_loaders import CloudBlobLoader\n\nclient = S3Client(no_sign_request=True)\nclient.set_as_default_client()\n\npath = S3Path(\n    \"s3://bucket-01\", client=client\n)  # 支持 s3://, az://, gs://, file:// 协议。\n\ncloud_loader = CloudBlobLoader(path, glob=\"**/*.pdf\", show_progress=True)\n\nfor blob in cloud_loader.yield_blobs():\n    print(blob)\n```"
      ]
    },
    {
      "cell_type": "markdown",
      "id": "40c361ba4cd30164",
      "metadata": {},
      "source": [
        "### 通用加载器\n\nLangChain 拥有一个 `GenericLoader` 抽象，它组合了 `BlobLoader` 和 `BaseBlobParser`。\n\n`GenericLoader` 旨在提供标准化的类方法，方便使用现有的 `BlobLoader` 实现。目前支持 `FileSystemBlobLoader` 和 `CloudBlobLoader`。请参阅下面的示例："
      ]
    },
    {
      "cell_type": "code",
      "execution_count": 24,
      "id": "5dfb2be02fe662c5",
      "metadata": {
        "ExecuteTime": {
          "end_time": "2025-04-21T08:50:16.244917Z",
          "start_time": "2025-04-21T08:50:15.527562Z"
        }
      },
      "outputs": [
        {
          "name": "stderr",
          "output_type": "stream",
          "text": [
            "100%|██████████| 7/7 [00:00<00:00, 1224.82it/s]"
          ]
        },
        {
          "name": "stdout",
          "output_type": "stream",
          "text": [
            "page_content='# Text embedding models\n",
            "' metadata={'line_number': 1, 'source': 'embed_text.mdx'}\n",
            "page_content='\n",
            "' metadata={'line_number': 2, 'source': 'embed_text.mdx'}\n",
            "page_content=':::info\n",
            "' metadata={'line_number': 3, 'source': 'embed_text.mdx'}\n",
            "page_content='Head to [Integrations](/docs/integrations/text_embedding/) for documentation on built-in integrations with text embedding model providers.\n",
            "' metadata={'line_number': 4, 'source': 'embed_text.mdx'}\n",
            "page_content=':::\n",
            "' metadata={'line_number': 5, 'source': 'embed_text.mdx'}\n",
            "... output truncated for demo purposes\n"
          ]
        },
        {
          "name": "stderr",
          "output_type": "stream",
          "text": [
            "\n"
          ]
        }
      ],
      "source": [
        "from langchain_community.document_loaders.generic import GenericLoader\n",
        "\n",
        "generic_loader_filesystem = GenericLoader(\n",
        "    blob_loader=filesystem_blob_loader, blob_parser=parser\n",
        ")\n",
        "for idx, doc in enumerate(generic_loader_filesystem.lazy_load()):\n",
        "    if idx < 5:\n",
        "        print(doc)\n",
        "\n",
        "print(\"... output truncated for demo purposes\")"
      ]
    },
    {
      "cell_type": "markdown",
      "id": "902048b7-ff04-46c0-97b5-935b40ff8511",
      "metadata": {},
      "source": [
        "#### 自定义通用加载器\n\n如果你喜欢创建类，可以进行子类继承并创建一个类来封装逻辑。\n\n你可以从此类进行子类继承，以使用现有的加载器加载内容。"
      ]
    },
    {
      "cell_type": "code",
      "execution_count": 28,
      "id": "23633102-dc44-4fed-a4e1-8159489101c8",
      "metadata": {
        "ExecuteTime": {
          "end_time": "2025-04-21T08:50:34.841862Z",
          "start_time": "2025-04-21T08:50:34.838375Z"
        },
        "tags": []
      },
      "outputs": [],
      "source": [
        "from typing import Any\n",
        "\n",
        "\n",
        "class MyCustomLoader(GenericLoader):\n",
        "    @staticmethod\n",
        "    def get_parser(**kwargs: Any) -> BaseBlobParser:\n",
        "        \"\"\"Override this method to associate a default parser with the class.\"\"\"\n",
        "        return MyParser()"
      ]
    },
    {
      "cell_type": "code",
      "execution_count": 29,
      "id": "dc95be85-4a29-4c6f-a260-08afa3c95538",
      "metadata": {
        "ExecuteTime": {
          "end_time": "2025-04-21T08:50:34.901734Z",
          "start_time": "2025-04-21T08:50:34.888098Z"
        },
        "tags": []
      },
      "outputs": [
        {
          "name": "stderr",
          "output_type": "stream",
          "text": [
            "100%|██████████| 7/7 [00:00<00:00, 814.86it/s]"
          ]
        },
        {
          "name": "stdout",
          "output_type": "stream",
          "text": [
            "page_content='# Text embedding models\n",
            "' metadata={'line_number': 1, 'source': 'embed_text.mdx'}\n",
            "page_content='\n",
            "' metadata={'line_number': 2, 'source': 'embed_text.mdx'}\n",
            "page_content=':::info\n",
            "' metadata={'line_number': 3, 'source': 'embed_text.mdx'}\n",
            "page_content='Head to [Integrations](/docs/integrations/text_embedding/) for documentation on built-in integrations with text embedding model providers.\n",
            "' metadata={'line_number': 4, 'source': 'embed_text.mdx'}\n",
            "page_content=':::\n",
            "' metadata={'line_number': 5, 'source': 'embed_text.mdx'}\n",
            "... output truncated for demo purposes\n"
          ]
        },
        {
          "name": "stderr",
          "output_type": "stream",
          "text": [
            "\n"
          ]
        }
      ],
      "source": [
        "loader = MyCustomLoader.from_filesystem(path=\".\", glob=\"*.mdx\", show_progress=True)\n",
        "\n",
        "for idx, doc in enumerate(loader.lazy_load()):\n",
        "    if idx < 5:\n",
        "        print(doc)\n",
        "\n",
        "print(\"... output truncated for demo purposes\")"
      ]
    }
  ],
  "metadata": {
    "kernelspec": {
      "display_name": "Python 3 (ipykernel)",
      "language": "python",
      "name": "python3"
    },
    "language_info": {
      "codemirror_mode": {
        "name": "ipython",
        "version": 3
      },
      "file_extension": ".py",
      "mimetype": "text/x-python",
      "name": "python",
      "nbconvert_exporter": "python",
      "pygments_lexer": "ipython3",
      "version": "3.10.4"
    }
  },
  "nbformat": 4,
  "nbformat_minor": 5
}