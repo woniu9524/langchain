{
  "cells": [
    {
      "cell_type": "markdown",
      "metadata": {},
      "source": [
        "# 如何绑定模型特定的工具\n\n提供商在格式化工具模式时会采用不同的约定。\n举例来说，OpenAI 使用类似以下的格式：\n\n- `type`: 工具的类型。在撰写本文时，这始终是 `\"function\"`。\n- `function`: 一个包含工具参数的对象。\n- `function.name`: 要输出的模式的名称。\n- `function.description`: 要输出模式的 वापरा描述。\n- `function.parameters`: 您想要提取的模式的嵌套详细信息，格式为 [JSON schema](https://json-schema.org/) 字典。\n\n如果用户偏好，我们也可以将这种模型特定的格式直接绑定到模型。下面是一个示例："
      ]
    },
    {
      "cell_type": "code",
      "execution_count": null,
      "metadata": {},
      "outputs": [
        {
          "data": {
            "text/plain": [
              "AIMessage(content='', additional_kwargs={'tool_calls': [{'id': 'call_mn4ELw1NbuE0DFYhIeK0GrPe', 'function': {'arguments': '{\"a\":119,\"b\":8}', 'name': 'multiply'}, 'type': 'function'}]}, response_metadata={'token_usage': {'completion_tokens': 17, 'prompt_tokens': 62, 'total_tokens': 79}, 'model_name': 'gpt-3.5-turbo', 'system_fingerprint': 'fp_c2295e73ad', 'finish_reason': 'tool_calls', 'logprobs': None}, id='run-353e8a9a-7125-4f94-8c68-4f3da4c21120-0', tool_calls=[{'name': 'multiply', 'args': {'a': 119, 'b': 8}, 'id': 'call_mn4ELw1NbuE0DFYhIeK0GrPe'}])"
            ]
          },
          "metadata": {},
          "output_type": "display_data"
        }
      ],
      "source": [
        "from langchain_openai import ChatOpenAI\n",
        "\n",
        "model = ChatOpenAI()\n",
        "\n",
        "model_with_tools = model.bind(\n",
        "    tools=[\n",
        "        {\n",
        "            \"type\": \"function\",\n",
        "            \"function\": {\n",
        "                \"name\": \"multiply\",\n",
        "                \"description\": \"Multiply two integers together.\",\n",
        "                \"parameters\": {\n",
        "                    \"type\": \"object\",\n",
        "                    \"properties\": {\n",
        "                        \"a\": {\"type\": \"number\", \"description\": \"First integer\"},\n",
        "                        \"b\": {\"type\": \"number\", \"description\": \"Second integer\"},\n",
        "                    },\n",
        "                    \"required\": [\"a\", \"b\"],\n",
        "                },\n",
        "            },\n",
        "        }\n",
        "    ]\n",
        ")\n",
        "\n",
        "model_with_tools.invoke(\"Whats 119 times 8?\")"
      ]
    },
    {
      "cell_type": "markdown",
      "metadata": {},
      "source": [
        "这在功能上等同于 `bind_tools()` 方法。"
      ]
    }
  ],
  "metadata": {
    "language_info": {
      "name": "python"
    }
  },
  "nbformat": 4,
  "nbformat_minor": 2
}