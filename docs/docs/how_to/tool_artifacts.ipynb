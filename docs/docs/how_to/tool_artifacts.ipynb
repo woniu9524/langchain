{
  "cells": [
    {
      "cell_type": "markdown",
      "id": "503e36ae-ca62-4f8a-880c-4fe78ff5df93",
      "metadata": {},
      "source": [
        "# 如何从工具返回构件\n\n:::info 先决条件\n本指南假定您熟悉下列概念：\n\n- [ToolMessage](/docs/concepts/messages/#toolmessage)\n- [Tools](/docs/concepts/tools)\n- [Function/tool calling](/docs/concepts/tool_calling)\n\n:::\n\n[Tools](/docs/concepts/tools/) 是可以 [被模型调用](/docs/concepts/tool_calling/) 的实用程序，其输出被设计为反馈给模型。然而，有时工具执行的构件，我们希望使其可被链或代理中的下游组件访问，但又不想将其暴露给模型本身。例如，如果一个工具返回一个自定义对象、一个数据帧或一个图像，我们可能希望将该输出的一些元数据传递给模型，而无需将实际输出传递给模型。同时，我们可能希望能够在其他地方访问这个完整的输出，例如在下游工具中。\n\nTool 和 [ToolMessage](https://python.langchain.com/api_reference/core/messages/langchain_core.messages.tool.ToolMessage.html) 接口使得区分工具输出中供模型使用的部分（即 ToolMessage.content）和供模型外部使用的部分（ToolMessage.artifact）成为可能。\n\n:::info 需要 ``langchain-core >= 0.2.19``\n\n此功能已添加到 ``langchain-core == 0.2.19`` 中。请确保您的包是最新的。\n\n:::\n\n## 定义工具\n\n如果我们希望我们的工具区分消息内容和其他构件，我们需要在定义工具时指定 `response_format=\"content_and_artifact\"` 并确保我们返回一个元组 (content, artifact)："
      ]
    },
    {
      "cell_type": "code",
      "execution_count": null,
      "id": "762b9199-885f-4946-9c98-cc54d72b0d76",
      "metadata": {},
      "outputs": [],
      "source": [
        "%pip install -qU \"langchain-core>=0.2.19\""
      ]
    },
    {
      "cell_type": "code",
      "execution_count": 2,
      "id": "b9eb179d-1f41-4748-9866-b3d3e8c73cd0",
      "metadata": {},
      "outputs": [],
      "source": [
        "import random\n",
        "from typing import List, Tuple\n",
        "\n",
        "from langchain_core.tools import tool\n",
        "\n",
        "\n",
        "@tool(response_format=\"content_and_artifact\")\n",
        "def generate_random_ints(min: int, max: int, size: int) -> Tuple[str, List[int]]:\n",
        "    \"\"\"Generate size random ints in the range [min, max].\"\"\"\n",
        "    array = [random.randint(min, max) for _ in range(size)]\n",
        "    content = f\"Successfully generated array of {size} random ints in [{min}, {max}].\"\n",
        "    return content, array"
      ]
    },
    {
      "cell_type": "markdown",
      "id": "0ab05d25-af4a-4e5a-afe2-f090416d7ee7",
      "metadata": {},
      "source": [
        "## 使用 ToolCall 调用工具\n\n如果我们直接只使用工具参数来调用我们的工具，您会注意到我们只会收到 Tool 输出的内容部分："
      ]
    },
    {
      "cell_type": "code",
      "execution_count": 3,
      "id": "5e7d5e77-3102-4a59-8ade-e4e699dd1817",
      "metadata": {},
      "outputs": [
        {
          "data": {
            "text/plain": [
              "'Successfully generated array of 10 random ints in [0, 9].'"
            ]
          },
          "execution_count": 3,
          "metadata": {},
          "output_type": "execute_result"
        }
      ],
      "source": [
        "generate_random_ints.invoke({\"min\": 0, \"max\": 9, \"size\": 10})"
      ]
    },
    {
      "cell_type": "markdown",
      "id": "30db7228-f04c-489e-afda-9a572eaa90a1",
      "metadata": {},
      "source": [
        "为了取回内容和 artifact，我们需要用 ToolCall 来调用我们的模型（它只是一个包含 \"name\"、\"args\"、\"id\" 和 \"type\" 键的字典），其中包含生成 ToolMessage 所需的附加信息，如工具调用 ID："
      ]
    },
    {
      "cell_type": "code",
      "execution_count": 4,
      "id": "da1d939d-a900-4b01-92aa-d19011a6b034",
      "metadata": {},
      "outputs": [
        {
          "data": {
            "text/plain": [
              "ToolMessage(content='Successfully generated array of 10 random ints in [0, 9].', name='generate_random_ints', tool_call_id='123', artifact=[2, 8, 0, 6, 0, 0, 1, 5, 0, 0])"
            ]
          },
          "execution_count": 4,
          "metadata": {},
          "output_type": "execute_result"
        }
      ],
      "source": [
        "generate_random_ints.invoke(\n",
        "    {\n",
        "        \"name\": \"generate_random_ints\",\n",
        "        \"args\": {\"min\": 0, \"max\": 9, \"size\": 10},\n",
        "        \"id\": \"123\",  # required\n",
        "        \"type\": \"tool_call\",  # required\n",
        "    }\n",
        ")"
      ]
    },
    {
      "cell_type": "markdown",
      "id": "a3cfc03d-020b-42c7-b0f8-c824af19e45e",
      "metadata": {},
      "source": [
        "## 与模型协同使用\n\n通过我们提供的 [工具调用模型](/docs/how_to/tool_calling/)，我们可以轻松地让模型调用我们的 `Tool` 并生成 `ToolMessage`：\n\nimport ChatModelTabs from \"@theme/ChatModelTabs\";\n\n<ChatModelTabs\n  customVarName=\"llm\"\n/>"
      ]
    },
    {
      "cell_type": "code",
      "execution_count": 5,
      "id": "74de0286-b003-4b48-9cdd-ecab435515ca",
      "metadata": {},
      "outputs": [],
      "source": [
        "# | echo: false\n",
        "# | output: false\n",
        "\n",
        "from langchain_anthropic import ChatAnthropic\n",
        "\n",
        "llm = ChatAnthropic(model=\"claude-3-5-sonnet-20240620\", temperature=0)"
      ]
    },
    {
      "cell_type": "code",
      "execution_count": 6,
      "id": "8a67424b-d19c-43df-ac7b-690bca42146c",
      "metadata": {},
      "outputs": [
        {
          "data": {
            "text/plain": [
              "[{'name': 'generate_random_ints',\n",
              "  'args': {'min': 1, 'max': 24, 'size': 6},\n",
              "  'id': 'toolu_01EtALY3Wz1DVYhv1TLvZGvE',\n",
              "  'type': 'tool_call'}]"
            ]
          },
          "execution_count": 6,
          "metadata": {},
          "output_type": "execute_result"
        }
      ],
      "source": [
        "llm_with_tools = llm.bind_tools([generate_random_ints])\n",
        "\n",
        "ai_msg = llm_with_tools.invoke(\"generate 6 positive ints less than 25\")\n",
        "ai_msg.tool_calls"
      ]
    },
    {
      "cell_type": "code",
      "execution_count": 7,
      "id": "00c4e906-3ca8-41e8-a0be-65cb0db7d574",
      "metadata": {},
      "outputs": [
        {
          "data": {
            "text/plain": [
              "ToolMessage(content='Successfully generated array of 6 random ints in [1, 24].', name='generate_random_ints', tool_call_id='toolu_01EtALY3Wz1DVYhv1TLvZGvE', artifact=[2, 20, 23, 8, 1, 15])"
            ]
          },
          "execution_count": 7,
          "metadata": {},
          "output_type": "execute_result"
        }
      ],
      "source": [
        "generate_random_ints.invoke(ai_msg.tool_calls[0])"
      ]
    },
    {
      "cell_type": "markdown",
      "id": "ddef2690-70de-4542-ab20-2337f77f3e46",
      "metadata": {},
      "source": [
        "如果我们只传入 tool call args，我们将只收到内容："
      ]
    },
    {
      "cell_type": "code",
      "execution_count": 8,
      "id": "f4a6c9a6-0ffc-4b0e-a59f-f3c3d69d824d",
      "metadata": {},
      "outputs": [
        {
          "data": {
            "text/plain": [
              "'Successfully generated array of 6 random ints in [1, 24].'"
            ]
          },
          "execution_count": 8,
          "metadata": {},
          "output_type": "execute_result"
        }
      ],
      "source": [
        "generate_random_ints.invoke(ai_msg.tool_calls[0][\"args\"])"
      ]
    },
    {
      "cell_type": "markdown",
      "id": "98d6443b-ff41-4d91-8523-b6274fc74ee5",
      "metadata": {},
      "source": [
        "如果我们想声明性地创建一个链，我们可以这样做："
      ]
    },
    {
      "cell_type": "code",
      "execution_count": 9,
      "id": "eb55ec23-95a4-464e-b886-d9679bf3aaa2",
      "metadata": {},
      "outputs": [
        {
          "data": {
            "text/plain": [
              "[ToolMessage(content='Successfully generated array of 1 random ints in [1, 5].', name='generate_random_ints', tool_call_id='toolu_01FwYhnkwDPJPbKdGq4ng6uD', artifact=[5])]"
            ]
          },
          "execution_count": 9,
          "metadata": {},
          "output_type": "execute_result"
        }
      ],
      "source": [
        "from operator import attrgetter\n",
        "\n",
        "chain = llm_with_tools | attrgetter(\"tool_calls\") | generate_random_ints.map()\n",
        "\n",
        "chain.invoke(\"give me a random number between 1 and 5\")"
      ]
    },
    {
      "cell_type": "markdown",
      "id": "4df46be2-babb-4bfe-a641-91cd3d03ffaf",
      "metadata": {},
      "source": [
        "## 从 BaseTool 类创建\n\n如果你想直接创建一个 BaseTool 对象，而不是使用 `@tool` 装饰器来装饰一个函数，你可以这样做："
      ]
    },
    {
      "cell_type": "code",
      "execution_count": 10,
      "id": "9a9129e1-6aee-4a10-ad57-62ef3bf0276c",
      "metadata": {},
      "outputs": [],
      "source": [
        "from langchain_core.tools import BaseTool\n",
        "\n",
        "\n",
        "class GenerateRandomFloats(BaseTool):\n",
        "    name: str = \"generate_random_floats\"\n",
        "    description: str = \"Generate size random floats in the range [min, max].\"\n",
        "    response_format: str = \"content_and_artifact\"\n",
        "\n",
        "    ndigits: int = 2\n",
        "\n",
        "    def _run(self, min: float, max: float, size: int) -> Tuple[str, List[float]]:\n",
        "        range_ = max - min\n",
        "        array = [\n",
        "            round(min + (range_ * random.random()), ndigits=self.ndigits)\n",
        "            for _ in range(size)\n",
        "        ]\n",
        "        content = f\"Generated {size} floats in [{min}, {max}], rounded to {self.ndigits} decimals.\"\n",
        "        return content, array\n",
        "\n",
        "    # Optionally define an equivalent async method\n",
        "\n",
        "    # async def _arun(self, min: float, max: float, size: int) -> Tuple[str, List[float]]:\n",
        "    #     ..."
      ]
    },
    {
      "cell_type": "code",
      "execution_count": 11,
      "id": "d7322619-f420-4b29-8ee5-023e693d0179",
      "metadata": {},
      "outputs": [
        {
          "data": {
            "text/plain": [
              "'Generated 3 floats in [0.1, 3.3333], rounded to 4 decimals.'"
            ]
          },
          "execution_count": 11,
          "metadata": {},
          "output_type": "execute_result"
        }
      ],
      "source": [
        "rand_gen = GenerateRandomFloats(ndigits=4)\n",
        "rand_gen.invoke({\"min\": 0.1, \"max\": 3.3333, \"size\": 3})"
      ]
    },
    {
      "cell_type": "code",
      "execution_count": 12,
      "id": "0892f277-23a6-4bb8-a0e9-59f533ac9750",
      "metadata": {},
      "outputs": [
        {
          "data": {
            "text/plain": [
              "ToolMessage(content='Generated 3 floats in [0.1, 3.3333], rounded to 4 decimals.', name='generate_random_floats', tool_call_id='123', artifact=[1.5789, 2.464, 2.2719])"
            ]
          },
          "execution_count": 12,
          "metadata": {},
          "output_type": "execute_result"
        }
      ],
      "source": [
        "rand_gen.invoke(\n",
        "    {\n",
        "        \"name\": \"generate_random_floats\",\n",
        "        \"args\": {\"min\": 0.1, \"max\": 3.3333, \"size\": 3},\n",
        "        \"id\": \"123\",\n",
        "        \"type\": \"tool_call\",\n",
        "    }\n",
        ")"
      ]
    }
  ],
  "metadata": {
    "kernelspec": {
      "display_name": "poetry-venv-311",
      "language": "python",
      "name": "poetry-venv-311"
    },
    "language_info": {
      "codemirror_mode": {
        "name": "ipython",
        "version": 3
      },
      "file_extension": ".py",
      "mimetype": "text/x-python",
      "name": "python",
      "nbconvert_exporter": "python",
      "pygments_lexer": "ipython3",
      "version": "3.11.9"
    }
  },
  "nbformat": 4,
  "nbformat_minor": 5
}