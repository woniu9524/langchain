{
  "cells": [
    {
      "cell_type": "raw",
      "id": "e2596041-9b76-4e74-836f-e6235086bbf0",
      "metadata": {},
      "source": [
        "---\n",
        "sidebar_position: 1\n",
        "keywords: [RunnableParallel, RunnableMap, LCEL]\n",
        "---"
      ]
    },
    {
      "cell_type": "markdown",
      "id": "b022ab74-794d-4c54-ad47-ff9549ddb9d2",
      "metadata": {},
      "source": [
        "# 如何并行调用 runnable\n\n:::info 先决条件\n\n本指南假定您熟悉以下概念：\n- [LangChain 表达式语言 (LCEL)](/docs/concepts/lcel)\n- [链接 runnables](/docs/how_to/sequence)\n\n:::\n\n[`RunnableParallel`](https://python.langchain.com/api_reference/core/runnables/langchain_core.runnables.base.RunnableParallel.html) 原始类型本质上是一个 dict，其值是 runnables（或可以被强制转换为 runnables 的东西，例如函数）。它并行运行所有值，并且每个值都使用 `RunnableParallel` 的整体输入进行调用。最终的返回值是一个 dict，其中包含每个值在其对应键下的结果。\n\n## 使用 `RunnableParallels` 进行格式化\n\n`RunnableParallels` 可用于并行化操作，也可用于将一个 Runnable 的输出格式化以匹配序列中下一个 Runnable 的输入格式。您可以使用它们来拆分或分叉链，以便多个组件可以并行处理输入。之后，其他组件可以合并结果来综合最终响应。这种类型的链创建了一个如下所示的计算图：\n\n```text\n     Input\n      / \\\n     /   \\\n Branch1 Branch2\n     \\   /\n      \\ /\n      Combine\n```\n\n下面，prompt 的输入预期是一个具有 `\"context\"` 和 `\"question\"` 键的 map。用户输入只是问题。因此，我们需要使用我们的检索器来获取上下文，并将用户输入作为 `\"question\"` 键传递。"
      ]
    },
    {
      "cell_type": "code",
      "execution_count": null,
      "id": "2627ffd7",
      "metadata": {},
      "outputs": [],
      "source": [
        "# | output: false\n",
        "# | echo: false\n",
        "\n",
        "%pip install -qU langchain langchain_openai\n",
        "\n",
        "import os\n",
        "from getpass import getpass\n",
        "\n",
        "if \"OPENAI_API_KEY\" not in os.environ:\n",
        "    os.environ[\"OPENAI_API_KEY\"] = getpass()"
      ]
    },
    {
      "cell_type": "code",
      "execution_count": 2,
      "id": "267d1460-53c1-4fdb-b2c3-b6a1eb7fccff",
      "metadata": {},
      "outputs": [
        {
          "data": {
            "text/plain": [
              "'Harrison worked at Kensho.'"
            ]
          },
          "execution_count": 2,
          "metadata": {},
          "output_type": "execute_result"
        }
      ],
      "source": [
        "from langchain_community.vectorstores import FAISS\n",
        "from langchain_core.output_parsers import StrOutputParser\n",
        "from langchain_core.prompts import ChatPromptTemplate\n",
        "from langchain_core.runnables import RunnablePassthrough\n",
        "from langchain_openai import ChatOpenAI, OpenAIEmbeddings\n",
        "\n",
        "vectorstore = FAISS.from_texts(\n",
        "    [\"harrison worked at kensho\"], embedding=OpenAIEmbeddings()\n",
        ")\n",
        "retriever = vectorstore.as_retriever()\n",
        "template = \"\"\"Answer the question based only on the following context:\n",
        "{context}\n",
        "\n",
        "Question: {question}\n",
        "\"\"\"\n",
        "\n",
        "# The prompt expects input with keys for \"context\" and \"question\"\n",
        "prompt = ChatPromptTemplate.from_template(template)\n",
        "\n",
        "model = ChatOpenAI()\n",
        "\n",
        "retrieval_chain = (\n",
        "    {\"context\": retriever, \"question\": RunnablePassthrough()}\n",
        "    | prompt\n",
        "    | model\n",
        "    | StrOutputParser()\n",
        ")\n",
        "\n",
        "retrieval_chain.invoke(\"where did harrison work?\")"
      ]
    },
    {
      "cell_type": "markdown",
      "id": "392cd4c4-e7ed-4ab8-934d-f7a4eca55ee1",
      "metadata": {},
      "source": [
        ":::tip\n请注意，当我们将 `RunnableParallel` 与另一个 `Runnable` 组合时，我们甚至不需要将字典再次包装在 `RunnableParallel` 类中 —— 类型转换已为我们处理。在链的上下文中，以下是等效的：\n:::\n\n```\n{\"context\": retriever, \"question\": RunnablePassthrough()}\n```\n\n```\nRunnableParallel({\"context\": retriever, \"question\": RunnablePassthrough()})\n```\n\n```\nRunnableParallel(context=retriever, question=RunnablePassthrough())\n```\n\n请参阅关于[强制类型转换的章节](/docs/how_to/sequence/#coercion)。"
      ]
    },
    {
      "cell_type": "markdown",
      "id": "7c1b8baa-3a80-44f0-bb79-d22f79815d3d",
      "metadata": {},
      "source": [
        "## 使用 itemgetter 作为简写\n\n请注意，在使用 `RunnableParallel` 时，您可以使用 Python 的 `itemgetter` 作为简写来从映射中提取数据。您可以在 [Python 文档](https://docs.python.org/3/library/operator.html#operator.itemgetter) 中找到关于 itemgetter 的更多信息。\n\n在下面的示例中，我们使用 itemgetter 从映射中提取特定键："
      ]
    },
    {
      "cell_type": "code",
      "execution_count": 3,
      "id": "84fc49e1-2daf-4700-ae33-a0a6ed47d5f6",
      "metadata": {},
      "outputs": [
        {
          "data": {
            "text/plain": [
              "'Harrison ha lavorato a Kensho.'"
            ]
          },
          "execution_count": 3,
          "metadata": {},
          "output_type": "execute_result"
        }
      ],
      "source": [
        "from operator import itemgetter\n",
        "\n",
        "from langchain_community.vectorstores import FAISS\n",
        "from langchain_core.output_parsers import StrOutputParser\n",
        "from langchain_core.prompts import ChatPromptTemplate\n",
        "from langchain_core.runnables import RunnablePassthrough\n",
        "from langchain_openai import ChatOpenAI, OpenAIEmbeddings\n",
        "\n",
        "vectorstore = FAISS.from_texts(\n",
        "    [\"harrison worked at kensho\"], embedding=OpenAIEmbeddings()\n",
        ")\n",
        "retriever = vectorstore.as_retriever()\n",
        "\n",
        "template = \"\"\"Answer the question based only on the following context:\n",
        "{context}\n",
        "\n",
        "Question: {question}\n",
        "\n",
        "Answer in the following language: {language}\n",
        "\"\"\"\n",
        "prompt = ChatPromptTemplate.from_template(template)\n",
        "\n",
        "chain = (\n",
        "    {\n",
        "        \"context\": itemgetter(\"question\") | retriever,\n",
        "        \"question\": itemgetter(\"question\"),\n",
        "        \"language\": itemgetter(\"language\"),\n",
        "    }\n",
        "    | prompt\n",
        "    | model\n",
        "    | StrOutputParser()\n",
        ")\n",
        "\n",
        "chain.invoke({\"question\": \"where did harrison work\", \"language\": \"italian\"})"
      ]
    },
    {
      "cell_type": "markdown",
      "id": "bc2f9847-39aa-4fe4-9049-3a8969bc4bce",
      "metadata": {},
      "source": [
        "## 并行化步骤\n\nRunnableParallels 可以轻松地并行执行多个 Runnables，并将这些 Runnables 的输出作为 Map 返回。"
      ]
    },
    {
      "cell_type": "code",
      "execution_count": 4,
      "id": "31f18442-f837-463f-bef4-8729368f5f8b",
      "metadata": {},
      "outputs": [
        {
          "data": {
            "text/plain": [
              "{'joke': AIMessage(content=\"Why don't bears like fast food? Because they can't catch it!\", response_metadata={'token_usage': {'completion_tokens': 15, 'prompt_tokens': 13, 'total_tokens': 28}, 'model_name': 'gpt-3.5-turbo', 'system_fingerprint': 'fp_d9767fc5b9', 'finish_reason': 'stop', 'logprobs': None}, id='run-fe024170-c251-4b7a-bfd4-64a3737c67f2-0'),\n",
              " 'poem': AIMessage(content='In the quiet of the forest, the bear roams free\\nMajestic and wild, a sight to see.', response_metadata={'token_usage': {'completion_tokens': 24, 'prompt_tokens': 15, 'total_tokens': 39}, 'model_name': 'gpt-3.5-turbo', 'system_fingerprint': 'fp_c2295e73ad', 'finish_reason': 'stop', 'logprobs': None}, id='run-2707913e-a743-4101-b6ec-840df4568a76-0')}"
            ]
          },
          "execution_count": 4,
          "metadata": {},
          "output_type": "execute_result"
        }
      ],
      "source": [
        "from langchain_core.prompts import ChatPromptTemplate\n",
        "from langchain_core.runnables import RunnableParallel\n",
        "from langchain_openai import ChatOpenAI\n",
        "\n",
        "model = ChatOpenAI()\n",
        "joke_chain = ChatPromptTemplate.from_template(\"tell me a joke about {topic}\") | model\n",
        "poem_chain = (\n",
        "    ChatPromptTemplate.from_template(\"write a 2-line poem about {topic}\") | model\n",
        ")\n",
        "\n",
        "map_chain = RunnableParallel(joke=joke_chain, poem=poem_chain)\n",
        "\n",
        "map_chain.invoke({\"topic\": \"bear\"})"
      ]
    },
    {
      "cell_type": "markdown",
      "id": "833da249-c0d4-4e5b-b3f8-cab549f0f7e1",
      "metadata": {},
      "source": [
        "## 并行\n\nRunnableParallel 也可用于并行运行独立的进程，因为映射中的每个 Runnable 都会并行执行。例如，我们可以看到我们之前的 `joke_chain`、`poem_chain` 和 `map_chain` 的运行时间都差不多，尽管 `map_chain` 同时执行了其他 দুটো。"
      ]
    },
    {
      "cell_type": "code",
      "execution_count": 5,
      "id": "38e47834-45af-4281-991f-86f150001510",
      "metadata": {},
      "outputs": [
        {
          "name": "stdout",
          "output_type": "stream",
          "text": [
            "610 ms ± 64 ms per loop (mean ± std. dev. of 7 runs, 1 loop each)\n"
          ]
        }
      ],
      "source": [
        "%%timeit\n",
        "\n",
        "joke_chain.invoke({\"topic\": \"bear\"})"
      ]
    },
    {
      "cell_type": "code",
      "execution_count": 6,
      "id": "d0cd40de-b37e-41fa-a2f6-8aaa49f368d6",
      "metadata": {},
      "outputs": [
        {
          "name": "stdout",
          "output_type": "stream",
          "text": [
            "599 ms ± 73.3 ms per loop (mean ± std. dev. of 7 runs, 1 loop each)\n"
          ]
        }
      ],
      "source": [
        "%%timeit\n",
        "\n",
        "poem_chain.invoke({\"topic\": \"bear\"})"
      ]
    },
    {
      "cell_type": "code",
      "execution_count": 7,
      "id": "799894e1-8e18-4a73-b466-f6aea6af3920",
      "metadata": {},
      "outputs": [
        {
          "name": "stdout",
          "output_type": "stream",
          "text": [
            "643 ms ± 77.8 ms per loop (mean ± std. dev. of 7 runs, 1 loop each)\n"
          ]
        }
      ],
      "source": [
        "%%timeit\n",
        "\n",
        "map_chain.invoke({\"topic\": \"bear\"})"
      ]
    },
    {
      "cell_type": "markdown",
      "id": "7d4492e1",
      "metadata": {},
      "source": [
        "## 后续步骤\n\n现在您已经了解了一些使用 `RunnableParallel` 来格式化和并行化链式操作的方法。\n\n如需了解更多信息，请参阅本节中关于可运行组件的其他操作指南。"
      ]
    },
    {
      "cell_type": "code",
      "execution_count": null,
      "id": "4af8bebd",
      "metadata": {},
      "outputs": [],
      "source": []
    }
  ],
  "metadata": {
    "kernelspec": {
      "display_name": "Python 3 (ipykernel)",
      "language": "python",
      "name": "python3"
    },
    "language_info": {
      "codemirror_mode": {
        "name": "ipython",
        "version": 3
      },
      "file_extension": ".py",
      "mimetype": "text/x-python",
      "name": "python",
      "nbconvert_exporter": "python",
      "pygments_lexer": "ipython3",
      "version": "3.9.1"
    }
  },
  "nbformat": 4,
  "nbformat_minor": 5
}