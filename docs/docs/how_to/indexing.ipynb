{
  "cells": [
    {
      "cell_type": "markdown",
      "id": "0fe57ac5-31c5-4dbb-b96c-78dead32e1bd",
      "metadata": {},
      "source": [
        "# 如何使用 LangChain 索引 API\n\n在这里，我们将了解使用 LangChain 索引 API 的基本索引工作流程。\n\n索引 API 允许您从任何来源加载文档并将其与[向量存储](/docs/concepts/vectorstores/)保持同步。具体来说，它有助于：\n\n* 避免将重复内容写入向量存储\n* 避免重写未更改的内容\n* 避免对未更改的内容重新计算嵌入\n\n所有这些都应该为您节省时间和金钱，并改善您的向量搜索结果。\n\n至关重要的是，索引 API 即使对于那些已经历了多个转换步骤（例如，通过文本分块）的文档，也能与原始源文档进行处理。\n\n## 工作原理\n\nLangChain 索引使用记录管理器 (`RecordManager`) 来跟踪写入向量存储的文档。\n\n在索引内容时，会为每个文档计算哈希值，并将以下信息存储在记录管理器中：\n\n- 文档哈希 (页面内容和元数据的哈希)\n- 写入时间\n- 源 ID -- 每个文档都应在其元数据中包含信息，以便我们能够确定该文档的最终来源\n\n## 删除模式\n\n在将文档索引到向量存储时，可能需要删除一些现有的文档。在某些情况下，您可能希望删除所有源自正在索引的新文档相同来源的现有文档。在其他情况下，您可能希望完全删除所有现有文档。索引 API 删除模式允许您选择所需行为：\n\n| 清理模式 | 去重内容 | 可并行 | 清理已删除的源文档 | 清理源文档及/或派生文档的变异 | 清理时机 |\n|---|---|---|---|---|---|\n| None | ✅ | ✅ | ❌ | ❌ | - |\n| Incremental | ✅ | ✅ | ❌ | ✅ | 持续进行 |\n| Full | ✅ | ❌ | ✅ | ✅ | 索引结束时 |\n| Scoped_Full | ✅ | ✅ | ❌ | ✅ | 索引结束时 |\n\n`None` 不执行任何自动清理，允许用户手动清理旧内容。\n\n`incremental`、`full` 和 `scoped_full` 提供以下自动化清理：\n\n* 如果源文档或派生文档的内容**已更改**，所有 3 种模式都将清理（删除）旧版本的内容。\n* 如果源文档已**删除**（意味着它未包含在当前正在索引的文档中），`full` 清理模式将正确地从向量存储中删除它，但 `incremental` 和 `scoped_full` 模式则不会。\n\n当内容发生变异时（例如，源 PDF 文件已修订），在索引期间会有一段时间，新旧版本都可能返回给用户。这发生在写入新内容之后，但在删除旧版本之前。\n\n* `incremental` 索引通过能够持续进行清理来最大限度地缩短此时间段，因为它在写入时同时进行清理。\n* `full` 和 `scoped_full` 模式在所有批次写入后进行清理。\n\n## 要求\n\n1. 请勿与已独立于索引 API 预先填充内容的存储一起使用，因为记录管理器将不知道记录之前已被插入。\n2. 仅适用于支持以下功能的 LangChain `vectorstore`：\n   * 按 ID 添加文档 (`add_documents` 方法，带有 `ids` 参数)\n   * 按 ID 删除 (`delete` 方法，带有 `ids` 参数)\n\n兼容的向量存储：`Aerospike`, `AnalyticDB`, `AstraDB`, `AwaDB`, `AzureCosmosDBNoSqlVectorSearch`, `AzureCosmosDBVectorSearch`, `AzureSearch`, `Bagel`, `Cassandra`, `Chroma`, `CouchbaseVectorStore`, `DashVector`, `DatabricksVectorSearch`, `DeepLake`, `Dingo`, `ElasticVectorSearch`, `ElasticsearchStore`, `FAISS`, `HanaDB`, `Milvus`, `MongoDBAtlasVectorSearch`, `MyScale`, `OpenSearchVectorSearch`, `PGVector`, `Pinecone`, `Qdrant`, `Redis`, `Rockset`, `ScaNN`, `SingleStoreDB`, `SupabaseVectorStore`, `SurrealDBStore`, `TimescaleVector`, `Vald`, `VDMS`, `Vearch`, `VespaStore`, `Weaviate`, `Yellowbrick`, `ZepVectorStore`, `TencentVectorDB`, `OpenSearchVectorSearch`.\n\n## 注意\n\n记录管理器依赖于基于时间的机制来确定在清理内容时（使用 `full`、`incremental` 或 `scoped_full` 清理模式时）可以清理哪些内容。\n\n如果两个任务连续运行，并且第一个任务在时钟时间更改之前完成，那么第二个任务可能无法清理内容。\n\n在实际场景中，这种情况不太可能成为问题，原因如下：\n\n1. 记录管理器使用更高分辨率的时间戳。\n2. 这两项任务之间的数据需要发生变化，如果任务之间的时间间隔很小，这种情况就不太可能发生。\n3. 索引任务通常需要超过几毫秒的时间。"
      ]
    },
    {
      "cell_type": "markdown",
      "id": "ec2109b4-cbcc-44eb-9dac-3f7345f971dc",
      "metadata": {},
      "source": [
        "## 快速入门"
      ]
    },
    {
      "cell_type": "code",
      "execution_count": 1,
      "id": "15f7263e-c82e-4914-874f-9699ea4de93e",
      "metadata": {},
      "outputs": [],
      "source": [
        "from langchain.indexes import SQLRecordManager, index\n",
        "from langchain_core.documents import Document\n",
        "from langchain_elasticsearch import ElasticsearchStore\n",
        "from langchain_openai import OpenAIEmbeddings"
      ]
    },
    {
      "cell_type": "markdown",
      "id": "f81201ab-d997-433c-9f18-ceea70e61cbd",
      "metadata": {},
      "source": [
        "初始化向量存储并设置嵌入："
      ]
    },
    {
      "cell_type": "code",
      "execution_count": 2,
      "id": "4ffc9659-91c0-41e0-ae4b-f7ff0d97292d",
      "metadata": {},
      "outputs": [],
      "source": [
        "collection_name = \"test_index\"\n",
        "\n",
        "embedding = OpenAIEmbeddings()\n",
        "\n",
        "vectorstore = ElasticsearchStore(\n",
        "    es_url=\"http://localhost:9200\", index_name=\"test_index\", embedding=embedding\n",
        ")"
      ]
    },
    {
      "cell_type": "markdown",
      "id": "b9b7564f-2334-428b-b513-13045a08b56c",
      "metadata": {},
      "source": [
        "初始化一个记录管理器，并附带一个合适的命名空间。\n\n**建议：** 使用一个命名空间，该命名空间应同时考虑到向量存储和向量存储中的集合名称；例如，“redis/my_docs”、“chromadb/my_docs”或“postgres/my_docs”。"
      ]
    },
    {
      "cell_type": "code",
      "execution_count": 3,
      "id": "498cc80e-c339-49ee-893b-b18d06346ef8",
      "metadata": {
        "tags": []
      },
      "outputs": [],
      "source": [
        "namespace = f\"elasticsearch/{collection_name}\"\n",
        "record_manager = SQLRecordManager(\n",
        "    namespace, db_url=\"sqlite:///record_manager_cache.sql\"\n",
        ")"
      ]
    },
    {
      "cell_type": "markdown",
      "id": "835c2c19-68ec-4086-9066-f7ba40877fd5",
      "metadata": {},
      "source": [
        "在启用记录管理器之前创建架构。"
      ]
    },
    {
      "cell_type": "code",
      "execution_count": 4,
      "id": "a4be2da3-3a5c-468a-a824-560157290f7f",
      "metadata": {},
      "outputs": [],
      "source": [
        "record_manager.create_schema()"
      ]
    },
    {
      "cell_type": "markdown",
      "id": "7f07c6bd-6ada-4b17-a8c5-fe5e4a5278fd",
      "metadata": {},
      "source": [
        "让我们索引一些测试文档："
      ]
    },
    {
      "cell_type": "code",
      "execution_count": 5,
      "id": "bbfdf314-14f9-4799-8fb6-d42de4d51287",
      "metadata": {},
      "outputs": [],
      "source": [
        "doc1 = Document(page_content=\"kitty\", metadata={\"source\": \"kitty.txt\"})\n",
        "doc2 = Document(page_content=\"doggy\", metadata={\"source\": \"doggy.txt\"})"
      ]
    },
    {
      "cell_type": "markdown",
      "id": "c7d572be-a913-4511-ab64-2864a252458a",
      "metadata": {},
      "source": [
        "在空向量存储中进行索引："
      ]
    },
    {
      "cell_type": "code",
      "execution_count": 6,
      "id": "67d2a5c8-f2bd-489a-b58e-2c7ba7fefe6f",
      "metadata": {},
      "outputs": [],
      "source": [
        "def _clear():\n",
        "    \"\"\"Hacky helper method to clear content. See the `full` mode section to to understand why it works.\"\"\"\n",
        "    index([], record_manager, vectorstore, cleanup=\"full\", source_id_key=\"source\")"
      ]
    },
    {
      "cell_type": "markdown",
      "id": "e5e92e76-f23f-4a61-8a2d-f16baf288700",
      "metadata": {},
      "source": [
        "### ``None`` 删除模式\n\n此模式不会自动清理内容的旧版本；但是，它仍然会处理内容的去重。"
      ]
    },
    {
      "cell_type": "code",
      "execution_count": 7,
      "id": "e2288cee-1738-4054-af72-23b5c5be8840",
      "metadata": {},
      "outputs": [],
      "source": [
        "_clear()"
      ]
    },
    {
      "cell_type": "code",
      "execution_count": 8,
      "id": "b253483b-5be0-4151-b732-ca93db4457b1",
      "metadata": {},
      "outputs": [
        {
          "data": {
            "text/plain": [
              "{'num_added': 1, 'num_updated': 0, 'num_skipped': 0, 'num_deleted': 0}"
            ]
          },
          "execution_count": 8,
          "metadata": {},
          "output_type": "execute_result"
        }
      ],
      "source": [
        "index(\n",
        "    [doc1, doc1, doc1, doc1, doc1],\n",
        "    record_manager,\n",
        "    vectorstore,\n",
        "    cleanup=None,\n",
        "    source_id_key=\"source\",\n",
        ")"
      ]
    },
    {
      "cell_type": "code",
      "execution_count": 9,
      "id": "7abaf351-bf5a-4d9e-95cd-4e3ecbfc1a84",
      "metadata": {},
      "outputs": [],
      "source": [
        "_clear()"
      ]
    },
    {
      "cell_type": "code",
      "execution_count": 10,
      "id": "55b6873c-5907-4fa6-84ca-df6cdf1810f0",
      "metadata": {},
      "outputs": [
        {
          "data": {
            "text/plain": [
              "{'num_added': 2, 'num_updated': 0, 'num_skipped': 0, 'num_deleted': 0}"
            ]
          },
          "execution_count": 10,
          "metadata": {},
          "output_type": "execute_result"
        }
      ],
      "source": [
        "index([doc1, doc2], record_manager, vectorstore, cleanup=None, source_id_key=\"source\")"
      ]
    },
    {
      "cell_type": "markdown",
      "id": "7be3e55a-5fe9-4f40-beff-577c2aa5e76a",
      "metadata": {},
      "source": [
        "第二次，所有内容都将被跳过："
      ]
    },
    {
      "cell_type": "code",
      "execution_count": 11,
      "id": "59d74ca1-2e3d-4b4c-ad88-a4907aa20081",
      "metadata": {},
      "outputs": [
        {
          "data": {
            "text/plain": [
              "{'num_added': 0, 'num_updated': 0, 'num_skipped': 2, 'num_deleted': 0}"
            ]
          },
          "execution_count": 11,
          "metadata": {},
          "output_type": "execute_result"
        }
      ],
      "source": [
        "index([doc1, doc2], record_manager, vectorstore, cleanup=None, source_id_key=\"source\")"
      ]
    },
    {
      "cell_type": "markdown",
      "id": "237a809e-575d-4f02-870e-5906a3643f30",
      "metadata": {},
      "source": [
        "### ``\"增量\"`` 删除模式"
      ]
    },
    {
      "cell_type": "code",
      "execution_count": 12,
      "id": "6bc91073-0ab4-465a-9302-e7f4bbd2285c",
      "metadata": {},
      "outputs": [],
      "source": [
        "_clear()"
      ]
    },
    {
      "cell_type": "code",
      "execution_count": 13,
      "id": "4a551091-6d46-4cdd-9af9-8672e5866a0a",
      "metadata": {},
      "outputs": [
        {
          "data": {
            "text/plain": [
              "{'num_added': 2, 'num_updated': 0, 'num_skipped': 0, 'num_deleted': 0}"
            ]
          },
          "execution_count": 13,
          "metadata": {},
          "output_type": "execute_result"
        }
      ],
      "source": [
        "index(\n",
        "    [doc1, doc2],\n",
        "    record_manager,\n",
        "    vectorstore,\n",
        "    cleanup=\"incremental\",\n",
        "    source_id_key=\"source\",\n",
        ")"
      ]
    },
    {
      "cell_type": "markdown",
      "id": "d0604ab8-318c-4706-959b-3907af438630",
      "metadata": {},
      "source": [
        "再次索引应该会导致这两个文档都被**跳过**——嵌入操作也会被跳过！"
      ]
    },
    {
      "cell_type": "code",
      "execution_count": 14,
      "id": "81785863-391b-4578-a6f6-63b3e5285488",
      "metadata": {},
      "outputs": [
        {
          "data": {
            "text/plain": [
              "{'num_added': 0, 'num_updated': 0, 'num_skipped': 2, 'num_deleted': 0}"
            ]
          },
          "execution_count": 14,
          "metadata": {},
          "output_type": "execute_result"
        }
      ],
      "source": [
        "index(\n",
        "    [doc1, doc2],\n",
        "    record_manager,\n",
        "    vectorstore,\n",
        "    cleanup=\"incremental\",\n",
        "    source_id_key=\"source\",\n",
        ")"
      ]
    },
    {
      "cell_type": "markdown",
      "id": "b205c1ba-f069-4a4e-af93-dc98afd5c9e6",
      "metadata": {},
      "source": [
        "如果我们提供空文档且采用增量索引模式，则不会有任何更改。"
      ]
    },
    {
      "cell_type": "code",
      "execution_count": 15,
      "id": "1f73ca85-7478-48ab-976c-17b00beec7bd",
      "metadata": {},
      "outputs": [
        {
          "data": {
            "text/plain": [
              "{'num_added': 0, 'num_updated': 0, 'num_skipped': 0, 'num_deleted': 0}"
            ]
          },
          "execution_count": 15,
          "metadata": {},
          "output_type": "execute_result"
        }
      ],
      "source": [
        "index([], record_manager, vectorstore, cleanup=\"incremental\", source_id_key=\"source\")"
      ]
    },
    {
      "cell_type": "markdown",
      "id": "b8c4ac96-8d60-4ade-8a94-e76ccb536442",
      "metadata": {},
      "source": [
        "如果我们修改文档，新版本将被写入，并且所有共享相同源的旧版本都将被删除。"
      ]
    },
    {
      "cell_type": "code",
      "execution_count": 16,
      "id": "27d05bcb-d96d-42eb-88a8-54b33d6cfcdc",
      "metadata": {},
      "outputs": [],
      "source": [
        "changed_doc_2 = Document(page_content=\"puppy\", metadata={\"source\": \"doggy.txt\"})"
      ]
    },
    {
      "cell_type": "code",
      "execution_count": 17,
      "id": "3809e379-5962-4267-add9-b10f43e24c66",
      "metadata": {},
      "outputs": [
        {
          "data": {
            "text/plain": [
              "{'num_added': 1, 'num_updated': 0, 'num_skipped': 0, 'num_deleted': 1}"
            ]
          },
          "execution_count": 17,
          "metadata": {},
          "output_type": "execute_result"
        }
      ],
      "source": [
        "index(\n",
        "    [changed_doc_2],\n",
        "    record_manager,\n",
        "    vectorstore,\n",
        "    cleanup=\"incremental\",\n",
        "    source_id_key=\"source\",\n",
        ")"
      ]
    },
    {
      "cell_type": "markdown",
      "id": "8bc75b9c-784a-4eb6-b5d6-688e3fbd4658",
      "metadata": {},
      "source": [
        "### ``\"full\"`` 删除模式\n\n在 `full` 模式下，用户应将索引的全部内容（即 `full` universe of content）传递给索引函数。\n\n任何未传递给索引函数但存在于 vectorstore 中的文档都将被删除！\n\n此行为有助于处理源文档的删除。"
      ]
    },
    {
      "cell_type": "code",
      "execution_count": 18,
      "id": "38a14a3d-11c7-43e2-b7f1-08e487961bb5",
      "metadata": {},
      "outputs": [],
      "source": [
        "_clear()"
      ]
    },
    {
      "cell_type": "code",
      "execution_count": 19,
      "id": "46b5d7b6-ce91-47d2-a9d0-f390e77d847f",
      "metadata": {},
      "outputs": [],
      "source": [
        "all_docs = [doc1, doc2]"
      ]
    },
    {
      "cell_type": "code",
      "execution_count": 20,
      "id": "06954765-6155-40a0-b95e-33ef87754c8d",
      "metadata": {},
      "outputs": [
        {
          "data": {
            "text/plain": [
              "{'num_added': 2, 'num_updated': 0, 'num_skipped': 0, 'num_deleted': 0}"
            ]
          },
          "execution_count": 20,
          "metadata": {},
          "output_type": "execute_result"
        }
      ],
      "source": [
        "index(all_docs, record_manager, vectorstore, cleanup=\"full\", source_id_key=\"source\")"
      ]
    },
    {
      "cell_type": "markdown",
      "id": "887c45c6-4363-4389-ac56-9cdad682b4c8",
      "metadata": {},
      "source": [
        "有人删除了第一个文档："
      ]
    },
    {
      "cell_type": "code",
      "execution_count": 21,
      "id": "35270e4e-9b03-4486-95de-e819ca5e469f",
      "metadata": {},
      "outputs": [],
      "source": [
        "del all_docs[0]"
      ]
    },
    {
      "cell_type": "code",
      "execution_count": 22,
      "id": "7d835a6a-f468-4d79-9a3d-47db187edbb8",
      "metadata": {},
      "outputs": [
        {
          "data": {
            "text/plain": [
              "[Document(page_content='doggy', metadata={'source': 'doggy.txt'})]"
            ]
          },
          "execution_count": 22,
          "metadata": {},
          "output_type": "execute_result"
        }
      ],
      "source": [
        "all_docs"
      ]
    },
    {
      "cell_type": "markdown",
      "id": "d940bcb4-cf6d-4c21-a565-e7f53f6dacf1",
      "metadata": {},
      "source": [
        "使用完整模式也会清理已删除的内容。"
      ]
    },
    {
      "cell_type": "code",
      "execution_count": 23,
      "id": "1b660eae-3bed-434d-a6f5-2aec96e5f0d6",
      "metadata": {},
      "outputs": [
        {
          "data": {
            "text/plain": [
              "{'num_added': 0, 'num_updated': 0, 'num_skipped': 1, 'num_deleted': 1}"
            ]
          },
          "execution_count": 23,
          "metadata": {},
          "output_type": "execute_result"
        }
      ],
      "source": [
        "index(all_docs, record_manager, vectorstore, cleanup=\"full\", source_id_key=\"source\")"
      ]
    },
    {
      "cell_type": "markdown",
      "id": "1a7ecdc9-df3c-4601-b2f3-50fdffc6e5f9",
      "metadata": {},
      "source": [
        "## 来源"
      ]
    },
    {
      "cell_type": "markdown",
      "id": "4002a4ac-02dd-4599-9b23-9b59f54237c8",
      "metadata": {},
      "source": [
        "`metadata` 属性包含一个名为 `source` 的字段。此 source 应指向与给定文档关联的*最终*来源。\n\n例如，如果这些文档代表某个父文档的块，那么这两个文档的 `source` 都应该相同，并引用父文档。\n\n通常情况下，`source` 应该始终指定。仅在您**从不**打算使用 `incremental` 模式，并且由于某种原因无法正确指定 `source` 字段时，才使用 `None`。"
      ]
    },
    {
      "cell_type": "code",
      "execution_count": 24,
      "id": "184d3051-7fd1-4db2-a1d5-218ac0e1e641",
      "metadata": {},
      "outputs": [],
      "source": [
        "from langchain_text_splitters import CharacterTextSplitter"
      ]
    },
    {
      "cell_type": "code",
      "execution_count": 25,
      "id": "11318248-ad2a-4ef0-bd9b-9d4dab97caba",
      "metadata": {},
      "outputs": [],
      "source": [
        "doc1 = Document(\n",
        "    page_content=\"kitty kitty kitty kitty kitty\", metadata={\"source\": \"kitty.txt\"}\n",
        ")\n",
        "doc2 = Document(page_content=\"doggy doggy the doggy\", metadata={\"source\": \"doggy.txt\"})"
      ]
    },
    {
      "cell_type": "code",
      "execution_count": 26,
      "id": "2cbf0902-d17b-44c9-8983-e8d0e831f909",
      "metadata": {},
      "outputs": [
        {
          "data": {
            "text/plain": [
              "[Document(page_content='kitty kit', metadata={'source': 'kitty.txt'}),\n",
              " Document(page_content='tty kitty ki', metadata={'source': 'kitty.txt'}),\n",
              " Document(page_content='tty kitty', metadata={'source': 'kitty.txt'}),\n",
              " Document(page_content='doggy doggy', metadata={'source': 'doggy.txt'}),\n",
              " Document(page_content='the doggy', metadata={'source': 'doggy.txt'})]"
            ]
          },
          "execution_count": 26,
          "metadata": {},
          "output_type": "execute_result"
        }
      ],
      "source": [
        "new_docs = CharacterTextSplitter(\n",
        "    separator=\"t\", keep_separator=True, chunk_size=12, chunk_overlap=2\n",
        ").split_documents([doc1, doc2])\n",
        "new_docs"
      ]
    },
    {
      "cell_type": "code",
      "execution_count": 27,
      "id": "0f9d9bc2-ea85-48ab-b4a2-351c8708b1d4",
      "metadata": {},
      "outputs": [],
      "source": [
        "_clear()"
      ]
    },
    {
      "cell_type": "code",
      "execution_count": 28,
      "id": "58781d81-f273-4aeb-8df6-540236826d00",
      "metadata": {},
      "outputs": [
        {
          "data": {
            "text/plain": [
              "{'num_added': 5, 'num_updated': 0, 'num_skipped': 0, 'num_deleted': 0}"
            ]
          },
          "execution_count": 28,
          "metadata": {},
          "output_type": "execute_result"
        }
      ],
      "source": [
        "index(\n",
        "    new_docs,\n",
        "    record_manager,\n",
        "    vectorstore,\n",
        "    cleanup=\"incremental\",\n",
        "    source_id_key=\"source\",\n",
        ")"
      ]
    },
    {
      "cell_type": "code",
      "execution_count": 29,
      "id": "11b81cb6-5f04-499b-b125-1abb22d353bf",
      "metadata": {},
      "outputs": [],
      "source": [
        "changed_doggy_docs = [\n",
        "    Document(page_content=\"woof woof\", metadata={\"source\": \"doggy.txt\"}),\n",
        "    Document(page_content=\"woof woof woof\", metadata={\"source\": \"doggy.txt\"}),\n",
        "]"
      ]
    },
    {
      "cell_type": "markdown",
      "id": "ab1c0915-3f9e-42ac-bdb5-3017935c6e7f",
      "metadata": {},
      "source": [
        "这将删除与 `doggy.txt` 源关联的旧文档版本，并用新版本替换它们。"
      ]
    },
    {
      "cell_type": "code",
      "execution_count": 30,
      "id": "fec71cb5-6757-4b92-a306-62509f6e867d",
      "metadata": {},
      "outputs": [
        {
          "data": {
            "text/plain": [
              "{'num_added': 2, 'num_updated': 0, 'num_skipped': 0, 'num_deleted': 2}"
            ]
          },
          "execution_count": 30,
          "metadata": {},
          "output_type": "execute_result"
        }
      ],
      "source": [
        "index(\n",
        "    changed_doggy_docs,\n",
        "    record_manager,\n",
        "    vectorstore,\n",
        "    cleanup=\"incremental\",\n",
        "    source_id_key=\"source\",\n",
        ")"
      ]
    },
    {
      "cell_type": "code",
      "execution_count": 31,
      "id": "876f5ab6-4b25-423e-8cff-f5a7a014395b",
      "metadata": {},
      "outputs": [
        {
          "data": {
            "text/plain": [
              "[Document(page_content='woof woof', metadata={'source': 'doggy.txt'}),\n",
              " Document(page_content='woof woof woof', metadata={'source': 'doggy.txt'}),\n",
              " Document(page_content='tty kitty', metadata={'source': 'kitty.txt'}),\n",
              " Document(page_content='tty kitty ki', metadata={'source': 'kitty.txt'}),\n",
              " Document(page_content='kitty kit', metadata={'source': 'kitty.txt'})]"
            ]
          },
          "execution_count": 31,
          "metadata": {},
          "output_type": "execute_result"
        }
      ],
      "source": [
        "vectorstore.similarity_search(\"dog\", k=30)"
      ]
    },
    {
      "cell_type": "markdown",
      "id": "c0af4d24-d735-4e5d-ad9b-a2e8b281f9f1",
      "metadata": {},
      "source": [
        "## 与加载器一起使用\n\n索引可以接受可迭代的文档，也可以接受任何加载器。\n\n**注意：**加载器**必须**正确设置源键。"
      ]
    },
    {
      "cell_type": "code",
      "execution_count": 32,
      "id": "08b68357-27c0-4f07-a51d-61c986aeb359",
      "metadata": {},
      "outputs": [],
      "source": [
        "from langchain_core.document_loaders import BaseLoader\n",
        "\n",
        "\n",
        "class MyCustomLoader(BaseLoader):\n",
        "    def lazy_load(self):\n",
        "        text_splitter = CharacterTextSplitter(\n",
        "            separator=\"t\", keep_separator=True, chunk_size=12, chunk_overlap=2\n",
        "        )\n",
        "        docs = [\n",
        "            Document(page_content=\"woof woof\", metadata={\"source\": \"doggy.txt\"}),\n",
        "            Document(page_content=\"woof woof woof\", metadata={\"source\": \"doggy.txt\"}),\n",
        "        ]\n",
        "        yield from text_splitter.split_documents(docs)\n",
        "\n",
        "    def load(self):\n",
        "        return list(self.lazy_load())"
      ]
    },
    {
      "cell_type": "code",
      "execution_count": 33,
      "id": "5dae8e11-c0d6-4fc6-aa0e-68f8d92b5087",
      "metadata": {},
      "outputs": [],
      "source": [
        "_clear()"
      ]
    },
    {
      "cell_type": "code",
      "execution_count": 34,
      "id": "d8d72f76-6d6e-4a7c-8fea-9bdec05af05b",
      "metadata": {},
      "outputs": [],
      "source": [
        "loader = MyCustomLoader()"
      ]
    },
    {
      "cell_type": "code",
      "execution_count": 35,
      "id": "945c45cc-5a8d-4bd7-9f36-4ebd4a50e08b",
      "metadata": {},
      "outputs": [
        {
          "data": {
            "text/plain": [
              "[Document(page_content='woof woof', metadata={'source': 'doggy.txt'}),\n",
              " Document(page_content='woof woof woof', metadata={'source': 'doggy.txt'})]"
            ]
          },
          "execution_count": 35,
          "metadata": {},
          "output_type": "execute_result"
        }
      ],
      "source": [
        "loader.load()"
      ]
    },
    {
      "cell_type": "code",
      "execution_count": 36,
      "id": "dcb1ba71-db49-4140-ab4a-c5d64fc2578a",
      "metadata": {},
      "outputs": [
        {
          "data": {
            "text/plain": [
              "{'num_added': 2, 'num_updated': 0, 'num_skipped': 0, 'num_deleted': 0}"
            ]
          },
          "execution_count": 36,
          "metadata": {},
          "output_type": "execute_result"
        }
      ],
      "source": [
        "index(loader, record_manager, vectorstore, cleanup=\"full\", source_id_key=\"source\")"
      ]
    },
    {
      "cell_type": "code",
      "execution_count": 37,
      "id": "441159c1-dd84-48d7-8599-37a65c9fb589",
      "metadata": {},
      "outputs": [
        {
          "data": {
            "text/plain": [
              "[Document(page_content='woof woof', metadata={'source': 'doggy.txt'}),\n",
              " Document(page_content='woof woof woof', metadata={'source': 'doggy.txt'})]"
            ]
          },
          "execution_count": 37,
          "metadata": {},
          "output_type": "execute_result"
        }
      ],
      "source": [
        "vectorstore.similarity_search(\"dog\", k=30)"
      ]
    }
  ],
  "metadata": {
    "kernelspec": {
      "display_name": "Python 3 (ipykernel)",
      "language": "python",
      "name": "python3"
    },
    "language_info": {
      "codemirror_mode": {
        "name": "ipython",
        "version": 3
      },
      "file_extension": ".py",
      "mimetype": "text/x-python",
      "name": "python",
      "nbconvert_exporter": "python",
      "pygments_lexer": "ipython3",
      "version": "3.10.1"
    }
  },
  "nbformat": 4,
  "nbformat_minor": 5
}