{
  "cells": [
    {
      "cell_type": "markdown",
      "id": "ea37db49-d389-4291-be73-885d06c1fb7e",
      "metadata": {},
      "source": [
        "# 如何仅使用提示（无需工具调用）进行提取\n\n生成结构化输出**无需**使用 LLM 的工具调用功能。能够很好地遵循提示指令的 LLM，可以被指示以给定格式输出信息。\n\n此方法依赖于设计良好的提示，然后解析 LLM 的输出来让它们很好地提取信息。\n\n要提取数据而不使用工具调用功能：\n\n1. 指示 LLM 按照预期的格式生成文本（例如，具有特定架构的 JSON）；\n2. 使用 [输出解析器](/docs/concepts/output_parsers) 将模型响应构造为所需的 Python 对象。\n\n首先我们选择一个 LLM：\n\nimport ChatModelTabs from \"@theme/ChatModelTabs\";\n\n<ChatModelTabs customVarName=\"model\" />"
      ]
    },
    {
      "cell_type": "code",
      "execution_count": 1,
      "id": "25487939-8713-4ec7-b774-e4a761ac8298",
      "metadata": {
        "execution": {
          "iopub.execute_input": "2024-09-10T20:35:44.442501Z",
          "iopub.status.busy": "2024-09-10T20:35:44.442044Z",
          "iopub.status.idle": "2024-09-10T20:35:44.872217Z",
          "shell.execute_reply": "2024-09-10T20:35:44.871897Z"
        }
      },
      "outputs": [],
      "source": [
        "# | output: false\n",
        "# | echo: false\n",
        "\n",
        "from langchain_anthropic.chat_models import ChatAnthropic\n",
        "\n",
        "model = ChatAnthropic(model_name=\"claude-3-sonnet-20240229\", temperature=0)"
      ]
    },
    {
      "cell_type": "markdown",
      "id": "3e412374-3beb-4bbf-966b-400c1f66a258",
      "metadata": {},
      "source": [
        ":::tip\n本教程旨在简单易懂，但总体来说，应包含参考示例以最大限度地提高性能！\n:::"
      ]
    },
    {
      "cell_type": "markdown",
      "id": "abc1a945-0f80-4953-add4-cd572b6f2a51",
      "metadata": {},
      "source": [
        "## 使用 PydanticOutputParser\n\n以下示例使用内置的 `PydanticOutputParser` 来解析聊天模型的输出。"
      ]
    },
    {
      "cell_type": "code",
      "execution_count": 2,
      "id": "497eb023-c043-443d-ac62-2d4ea85fe1b0",
      "metadata": {
        "execution": {
          "iopub.execute_input": "2024-09-10T20:35:44.873979Z",
          "iopub.status.busy": "2024-09-10T20:35:44.873840Z",
          "iopub.status.idle": "2024-09-10T20:35:44.878966Z",
          "shell.execute_reply": "2024-09-10T20:35:44.878718Z"
        }
      },
      "outputs": [],
      "source": [
        "from typing import List, Optional\n",
        "\n",
        "from langchain_core.output_parsers import PydanticOutputParser\n",
        "from langchain_core.prompts import ChatPromptTemplate\n",
        "from pydantic import BaseModel, Field, validator\n",
        "\n",
        "\n",
        "class Person(BaseModel):\n",
        "    \"\"\"Information about a person.\"\"\"\n",
        "\n",
        "    name: str = Field(..., description=\"The name of the person\")\n",
        "    height_in_meters: float = Field(\n",
        "        ..., description=\"The height of the person expressed in meters.\"\n",
        "    )\n",
        "\n",
        "\n",
        "class People(BaseModel):\n",
        "    \"\"\"Identifying information about all people in a text.\"\"\"\n",
        "\n",
        "    people: List[Person]\n",
        "\n",
        "\n",
        "# Set up a parser\n",
        "parser = PydanticOutputParser(pydantic_object=People)\n",
        "\n",
        "# Prompt\n",
        "prompt = ChatPromptTemplate.from_messages(\n",
        "    [\n",
        "        (\n",
        "            \"system\",\n",
        "            \"Answer the user query. Wrap the output in `json` tags\\n{format_instructions}\",\n",
        "        ),\n",
        "        (\"human\", \"{query}\"),\n",
        "    ]\n",
        ").partial(format_instructions=parser.get_format_instructions())"
      ]
    },
    {
      "cell_type": "markdown",
      "id": "c31aa2c8-05a9-4a12-80c5-ea1250dea0ae",
      "metadata": {},
      "source": [
        "让我们看看模型接收了哪些信息"
      ]
    },
    {
      "cell_type": "code",
      "execution_count": 3,
      "id": "20b99ffb-a114-49a9-a7be-154c525f8ada",
      "metadata": {
        "execution": {
          "iopub.execute_input": "2024-09-10T20:35:44.880355Z",
          "iopub.status.busy": "2024-09-10T20:35:44.880277Z",
          "iopub.status.idle": "2024-09-10T20:35:44.881834Z",
          "shell.execute_reply": "2024-09-10T20:35:44.881601Z"
        }
      },
      "outputs": [],
      "source": [
        "query = \"Anna is 23 years old and she is 6 feet tall\""
      ]
    },
    {
      "cell_type": "code",
      "execution_count": 4,
      "id": "4f3a66ce-de19-4571-9e54-67504ae3fba7",
      "metadata": {
        "execution": {
          "iopub.execute_input": "2024-09-10T20:35:44.883138Z",
          "iopub.status.busy": "2024-09-10T20:35:44.883049Z",
          "iopub.status.idle": "2024-09-10T20:35:44.885139Z",
          "shell.execute_reply": "2024-09-10T20:35:44.884801Z"
        }
      },
      "outputs": [
        {
          "name": "stdout",
          "output_type": "stream",
          "text": [
            "System: Answer the user query. Wrap the output in `json` tags\n",
            "The output should be formatted as a JSON instance that conforms to the JSON schema below.\n",
            "\n",
            "As an example, for the schema {\"properties\": {\"foo\": {\"title\": \"Foo\", \"description\": \"a list of strings\", \"type\": \"array\", \"items\": {\"type\": \"string\"}}}, \"required\": [\"foo\"]}\n",
            "the object {\"foo\": [\"bar\", \"baz\"]} is a well-formatted instance of the schema. The object {\"properties\": {\"foo\": [\"bar\", \"baz\"]}} is not well-formatted.\n",
            "\n",
            "Here is the output schema:\n",
            "```\n",
            "{\"$defs\": {\"Person\": {\"description\": \"Information about a person.\", \"properties\": {\"name\": {\"description\": \"The name of the person\", \"title\": \"Name\", \"type\": \"string\"}, \"height_in_meters\": {\"description\": \"The height of the person expressed in meters.\", \"title\": \"Height In Meters\", \"type\": \"number\"}}, \"required\": [\"name\", \"height_in_meters\"], \"title\": \"Person\", \"type\": \"object\"}}, \"description\": \"Identifying information about all people in a text.\", \"properties\": {\"people\": {\"items\": {\"$ref\": \"#/$defs/Person\"}, \"title\": \"People\", \"type\": \"array\"}}, \"required\": [\"people\"]}\n",
            "```\n",
            "Human: Anna is 23 years old and she is 6 feet tall\n"
          ]
        }
      ],
      "source": [
        "print(prompt.format_prompt(query=query).to_string())"
      ]
    },
    {
      "cell_type": "markdown",
      "id": "6f1048e0-1bfd-49f9-b697-74389a5ce69c",
      "metadata": {},
      "source": [
        "在定义了我们的 prompt 之后，我们只需将 prompt、model 和 output parser 链接在一起："
      ]
    },
    {
      "cell_type": "code",
      "execution_count": 5,
      "id": "7e0041eb-37dc-4384-9fe3-6dd8c356371e",
      "metadata": {
        "execution": {
          "iopub.execute_input": "2024-09-10T20:35:44.886765Z",
          "iopub.status.busy": "2024-09-10T20:35:44.886675Z",
          "iopub.status.idle": "2024-09-10T20:35:46.835960Z",
          "shell.execute_reply": "2024-09-10T20:35:46.835282Z"
        }
      },
      "outputs": [
        {
          "data": {
            "text/plain": [
              "People(people=[Person(name='Anna', height_in_meters=1.83)])"
            ]
          },
          "execution_count": 5,
          "metadata": {},
          "output_type": "execute_result"
        }
      ],
      "source": [
        "chain = prompt | model | parser\n",
        "chain.invoke({\"query\": query})"
      ]
    },
    {
      "cell_type": "markdown",
      "id": "dd492fe4-110a-4b83-a191-79fffbc1055a",
      "metadata": {},
      "source": [
        "查看相关的 [Langsmith 跟踪](https://smith.langchain.com/public/92ed52a3-92b9-45af-a663-0a9c00e5e396/r)。\n\n请注意，模式（schema）出现在两个地方：\n\n1.  在提示（prompt）中，通过 `parser.get_format_instructions()`；\n2.  在链（chain）中，用于接收格式化的输出并将其结构化为 Python 对象（在本例中为 Pydantic 对象 `People`）。"
      ]
    },
    {
      "cell_type": "markdown",
      "id": "815b3b87-3bc6-4b56-835e-c6b6703cef5d",
      "metadata": {},
      "source": [
        "## 自定义解析器\n\n如果需要，可以轻松地使用 `LangChain` 和 `LCEL` 创建自定义提示词和解析器。\n\n要创建自定义解析器，请定义一个函数来解析模型（通常是 [AIMessage](https://python.langchain.com/api_reference/core/messages/langchain_core.messages.ai.AIMessage.html)）的输出，并将其转换为您选择的对象。\n\n以下是一个 JSON 解析器的简单实现示例。"
      ]
    },
    {
      "cell_type": "code",
      "execution_count": 6,
      "id": "b1f11912-c1bb-4a2a-a482-79bf3996961f",
      "metadata": {
        "execution": {
          "iopub.execute_input": "2024-09-10T20:35:46.839577Z",
          "iopub.status.busy": "2024-09-10T20:35:46.839233Z",
          "iopub.status.idle": "2024-09-10T20:35:46.849663Z",
          "shell.execute_reply": "2024-09-10T20:35:46.849177Z"
        }
      },
      "outputs": [],
      "source": [
        "import json\n",
        "import re\n",
        "from typing import List, Optional\n",
        "\n",
        "from langchain_anthropic.chat_models import ChatAnthropic\n",
        "from langchain_core.messages import AIMessage\n",
        "from langchain_core.prompts import ChatPromptTemplate\n",
        "from pydantic import BaseModel, Field, validator\n",
        "\n",
        "\n",
        "class Person(BaseModel):\n",
        "    \"\"\"Information about a person.\"\"\"\n",
        "\n",
        "    name: str = Field(..., description=\"The name of the person\")\n",
        "    height_in_meters: float = Field(\n",
        "        ..., description=\"The height of the person expressed in meters.\"\n",
        "    )\n",
        "\n",
        "\n",
        "class People(BaseModel):\n",
        "    \"\"\"Identifying information about all people in a text.\"\"\"\n",
        "\n",
        "    people: List[Person]\n",
        "\n",
        "\n",
        "# Prompt\n",
        "prompt = ChatPromptTemplate.from_messages(\n",
        "    [\n",
        "        (\n",
        "            \"system\",\n",
        "            \"Answer the user query. Output your answer as JSON that  \"\n",
        "            \"matches the given schema: ```json\\n{schema}\\n```. \"\n",
        "            \"Make sure to wrap the answer in ```json and ``` tags\",\n",
        "        ),\n",
        "        (\"human\", \"{query}\"),\n",
        "    ]\n",
        ").partial(schema=People.schema())\n",
        "\n",
        "\n",
        "# Custom parser\n",
        "def extract_json(message: AIMessage) -> List[dict]:\n",
        "    \"\"\"Extracts JSON content from a string where JSON is embedded between ```json and ``` tags.\n",
        "\n",
        "    Parameters:\n",
        "        text (str): The text containing the JSON content.\n",
        "\n",
        "    Returns:\n",
        "        list: A list of extracted JSON strings.\n",
        "    \"\"\"\n",
        "    text = message.content\n",
        "    # Define the regular expression pattern to match JSON blocks\n",
        "    pattern = r\"```json(.*?)```\"\n",
        "\n",
        "    # Find all non-overlapping matches of the pattern in the string\n",
        "    matches = re.findall(pattern, text, re.DOTALL)\n",
        "\n",
        "    # Return the list of matched JSON strings, stripping any leading or trailing whitespace\n",
        "    try:\n",
        "        return [json.loads(match.strip()) for match in matches]\n",
        "    except Exception:\n",
        "        raise ValueError(f\"Failed to parse: {message}\")"
      ]
    },
    {
      "cell_type": "code",
      "execution_count": 7,
      "id": "9260d5e8-3b6c-4639-9f3b-fb2f90239e4b",
      "metadata": {
        "execution": {
          "iopub.execute_input": "2024-09-10T20:35:46.851870Z",
          "iopub.status.busy": "2024-09-10T20:35:46.851698Z",
          "iopub.status.idle": "2024-09-10T20:35:46.854786Z",
          "shell.execute_reply": "2024-09-10T20:35:46.854424Z"
        }
      },
      "outputs": [
        {
          "name": "stdout",
          "output_type": "stream",
          "text": [
            "System: Answer the user query. Output your answer as JSON that  matches the given schema: ```json\n",
            "{'$defs': {'Person': {'description': 'Information about a person.', 'properties': {'name': {'description': 'The name of the person', 'title': 'Name', 'type': 'string'}, 'height_in_meters': {'description': 'The height of the person expressed in meters.', 'title': 'Height In Meters', 'type': 'number'}}, 'required': ['name', 'height_in_meters'], 'title': 'Person', 'type': 'object'}}, 'description': 'Identifying information about all people in a text.', 'properties': {'people': {'items': {'$ref': '#/$defs/Person'}, 'title': 'People', 'type': 'array'}}, 'required': ['people'], 'title': 'People', 'type': 'object'}\n",
            "```. Make sure to wrap the answer in ```json and ``` tags\n",
            "Human: Anna is 23 years old and she is 6 feet tall\n"
          ]
        }
      ],
      "source": [
        "query = \"Anna is 23 years old and she is 6 feet tall\"\n",
        "print(prompt.format_prompt(query=query).to_string())"
      ]
    },
    {
      "cell_type": "code",
      "execution_count": 8,
      "id": "c523301d-ae0e-45e3-b195-7fd28c67a5c4",
      "metadata": {
        "execution": {
          "iopub.execute_input": "2024-09-10T20:35:46.856945Z",
          "iopub.status.busy": "2024-09-10T20:35:46.856769Z",
          "iopub.status.idle": "2024-09-10T20:35:48.373728Z",
          "shell.execute_reply": "2024-09-10T20:35:48.373079Z"
        }
      },
      "outputs": [
        {
          "name": "stderr",
          "output_type": "stream",
          "text": [
            "/Users/bagatur/langchain/.venv/lib/python3.11/site-packages/pydantic/_internal/_fields.py:201: UserWarning: Field name \"schema\" in \"PromptInput\" shadows an attribute in parent \"BaseModel\"\n",
            "  warnings.warn(\n"
          ]
        },
        {
          "data": {
            "text/plain": [
              "[{'people': [{'name': 'Anna', 'height_in_meters': 1.83}]}]"
            ]
          },
          "execution_count": 8,
          "metadata": {},
          "output_type": "execute_result"
        }
      ],
      "source": [
        "chain = prompt | model | extract_json\n",
        "chain.invoke({\"query\": query})"
      ]
    },
    {
      "cell_type": "markdown",
      "id": "d3601bde",
      "metadata": {},
      "source": [
        "## 其他库\n\n如果你打算通过解析方法进行提取，可以了解一下 [Kor](https://eyurtsev.github.io/kor/) 库。它由一位 `LangChain` 的维护者编写，可以帮助你构建一个考虑了示例的提示词，允许控制格式（例如 JSON 或 CSV），并使用 TypeScript 来表达 schema。它看起来效果相当不错！"
      ]
    }
  ],
  "metadata": {
    "kernelspec": {
      "display_name": "Python 3 (ipykernel)",
      "language": "python",
      "name": "python3"
    },
    "language_info": {
      "codemirror_mode": {
        "name": "ipython",
        "version": 3
      },
      "file_extension": ".py",
      "mimetype": "text/x-python",
      "name": "python",
      "nbconvert_exporter": "python",
      "pygments_lexer": "ipython3",
      "version": "3.11.9"
    }
  },
  "nbformat": 4,
  "nbformat_minor": 5
}