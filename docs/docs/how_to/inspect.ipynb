{
  "cells": [
    {
      "cell_type": "markdown",
      "id": "8c5eb99a",
      "metadata": {},
      "source": [
        "# 如何检查 runnables\n\n:::info 先决条件\n\n本指南假定您熟悉以下概念：\n- [LangChain 表达式语言 (LCEL)](/docs/concepts/lcel)\n- [链接 runnables](/docs/how_to/sequence/)\n\n:::\n\n一旦您使用 [LangChain 表达式语言](/docs/concepts/lcel) 创建了一个 runnable，您可能经常想检查它来更好地了解正在发生的事情。本笔记涵盖了一些方法。\n\n本指南介绍了一些您可以以编程方式内省链的内部步骤的方法。如果您有兴趣调试链中的问题，请参阅 [本节](/docs/how_to/debugging)。\n\n首先，让我们创建一个示例链。我们将创建一个执行检索的链："
      ]
    },
    {
      "cell_type": "code",
      "execution_count": null,
      "id": "d816e954",
      "metadata": {},
      "outputs": [],
      "source": [
        "%pip install -qU langchain langchain-openai faiss-cpu tiktoken"
      ]
    },
    {
      "cell_type": "code",
      "execution_count": 2,
      "id": "139228c2",
      "metadata": {},
      "outputs": [],
      "source": [
        "from langchain_community.vectorstores import FAISS\n",
        "from langchain_core.output_parsers import StrOutputParser\n",
        "from langchain_core.prompts import ChatPromptTemplate\n",
        "from langchain_core.runnables import RunnablePassthrough\n",
        "from langchain_openai import ChatOpenAI, OpenAIEmbeddings\n",
        "\n",
        "vectorstore = FAISS.from_texts(\n",
        "    [\"harrison worked at kensho\"], embedding=OpenAIEmbeddings()\n",
        ")\n",
        "retriever = vectorstore.as_retriever()\n",
        "\n",
        "template = \"\"\"Answer the question based only on the following context:\n",
        "{context}\n",
        "\n",
        "Question: {question}\n",
        "\"\"\"\n",
        "prompt = ChatPromptTemplate.from_template(template)\n",
        "\n",
        "model = ChatOpenAI()\n",
        "\n",
        "chain = (\n",
        "    {\"context\": retriever, \"question\": RunnablePassthrough()}\n",
        "    | prompt\n",
        "    | model\n",
        "    | StrOutputParser()\n",
        ")"
      ]
    },
    {
      "cell_type": "markdown",
      "id": "849e3c42",
      "metadata": {},
      "source": [
        "## 获取图\n\n您可以使用 `get_graph()` 方法来获取可运行对象的图表示："
      ]
    },
    {
      "cell_type": "code",
      "execution_count": null,
      "id": "2448b6c2",
      "metadata": {},
      "outputs": [],
      "source": [
        "chain.get_graph()"
      ]
    },
    {
      "cell_type": "markdown",
      "id": "065b02fb",
      "metadata": {},
      "source": [
        "## 打印图表\n\n虽然这样不够直观，但你可以使用 `print_ascii()` 方法来以一种更容易理解的方式显示该图表："
      ]
    },
    {
      "cell_type": "code",
      "execution_count": 5,
      "id": "d5ab1515",
      "metadata": {},
      "outputs": [
        {
          "name": "stdout",
          "output_type": "stream",
          "text": [
            "           +---------------------------------+         \n",
            "           | Parallel<context,question>Input |         \n",
            "           +---------------------------------+         \n",
            "                    **               **                \n",
            "                 ***                   ***             \n",
            "               **                         **           \n",
            "+----------------------+              +-------------+  \n",
            "| VectorStoreRetriever |              | Passthrough |  \n",
            "+----------------------+              +-------------+  \n",
            "                    **               **                \n",
            "                      ***         ***                  \n",
            "                         **     **                     \n",
            "           +----------------------------------+        \n",
            "           | Parallel<context,question>Output |        \n",
            "           +----------------------------------+        \n",
            "                             *                         \n",
            "                             *                         \n",
            "                             *                         \n",
            "                  +--------------------+               \n",
            "                  | ChatPromptTemplate |               \n",
            "                  +--------------------+               \n",
            "                             *                         \n",
            "                             *                         \n",
            "                             *                         \n",
            "                      +------------+                   \n",
            "                      | ChatOpenAI |                   \n",
            "                      +------------+                   \n",
            "                             *                         \n",
            "                             *                         \n",
            "                             *                         \n",
            "                   +-----------------+                 \n",
            "                   | StrOutputParser |                 \n",
            "                   +-----------------+                 \n",
            "                             *                         \n",
            "                             *                         \n",
            "                             *                         \n",
            "                +-----------------------+              \n",
            "                | StrOutputParserOutput |              \n",
            "                +-----------------------+              \n"
          ]
        }
      ],
      "source": [
        "chain.get_graph().print_ascii()"
      ]
    },
    {
      "cell_type": "markdown",
      "id": "2babf851",
      "metadata": {},
      "source": [
        "## 获取提示词\n\n您可能只想查看在链中使用到的提示词，可以使用 `get_prompts()` 方法："
      ]
    },
    {
      "cell_type": "code",
      "execution_count": 6,
      "id": "34b2118d",
      "metadata": {},
      "outputs": [
        {
          "data": {
            "text/plain": [
              "[ChatPromptTemplate(input_variables=['context', 'question'], messages=[HumanMessagePromptTemplate(prompt=PromptTemplate(input_variables=['context', 'question'], template='Answer the question based only on the following context:\\n{context}\\n\\nQuestion: {question}\\n'))])]"
            ]
          },
          "execution_count": 6,
          "metadata": {},
          "output_type": "execute_result"
        }
      ],
      "source": [
        "chain.get_prompts()"
      ]
    },
    {
      "cell_type": "markdown",
      "id": "c5a74bd5",
      "metadata": {},
      "source": [
        "## 下一步\n\n您现已学会了如何自省组合的 LCEL 链。\n\n接下来，请查阅本节中关于 runnables 的其他操作指南，或关于[调试链条](/docs/how_to/debugging)的相关操作指南。"
      ]
    },
    {
      "cell_type": "code",
      "execution_count": null,
      "id": "ed965769",
      "metadata": {},
      "outputs": [],
      "source": []
    }
  ],
  "metadata": {
    "kernelspec": {
      "display_name": "Python 3 (ipykernel)",
      "language": "python",
      "name": "python3"
    },
    "language_info": {
      "codemirror_mode": {
        "name": "ipython",
        "version": 3
      },
      "file_extension": ".py",
      "mimetype": "text/x-python",
      "name": "python",
      "nbconvert_exporter": "python",
      "pygments_lexer": "ipython3",
      "version": "3.9.1"
    }
  },
  "nbformat": 4,
  "nbformat_minor": 5
}