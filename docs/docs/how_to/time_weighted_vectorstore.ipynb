{
  "cells": [
    {
      "cell_type": "markdown",
      "id": "e239cc79",
      "metadata": {},
      "source": [
        "# 如何使用时间加权向量存储检索器\n\n此[检索器](/docs/concepts/retrievers/)结合了语义[相似度](/docs/concepts/embedding_models/#measure-similarity)和时间衰减。\n\n其评分算法为：\n\n```\nsemantic_similarity + (1.0 - decay_rate) ^ hours_passed\n```\n\n特别地，`hours_passed` 指的是自检索器中的对象**上次被访问**以来经过的小时数，而不是自其创建以来经过的小时数。这意味着经常被访问的对象会保持“新鲜”状态。"
      ]
    },
    {
      "cell_type": "code",
      "execution_count": 1,
      "id": "97e74400",
      "metadata": {},
      "outputs": [],
      "source": [
        "from datetime import datetime, timedelta\n",
        "\n",
        "import faiss\n",
        "from langchain.retrievers import TimeWeightedVectorStoreRetriever\n",
        "from langchain_community.docstore import InMemoryDocstore\n",
        "from langchain_community.vectorstores import FAISS\n",
        "from langchain_core.documents import Document\n",
        "from langchain_openai import OpenAIEmbeddings"
      ]
    },
    {
      "cell_type": "markdown",
      "id": "89635236",
      "metadata": {},
      "source": [
        "## 低衰减率\n\n较低的 `decay rate`（在此，为了极端化，我们将它设置为接近 0）意味着记忆会被“记住”更长时间。`decay rate` 为 0 意味着记忆永远不会被遗忘，这使得该检索器等同于向量查找。"
      ]
    },
    {
      "cell_type": "code",
      "execution_count": 2,
      "id": "d3a1778d",
      "metadata": {},
      "outputs": [],
      "source": [
        "# Define your embedding model\n",
        "embeddings_model = OpenAIEmbeddings()\n",
        "# Initialize the vectorstore as empty\n",
        "embedding_size = 1536\n",
        "index = faiss.IndexFlatL2(embedding_size)\n",
        "vectorstore = FAISS(embeddings_model, index, InMemoryDocstore({}), {})\n",
        "retriever = TimeWeightedVectorStoreRetriever(\n",
        "    vectorstore=vectorstore, decay_rate=0.0000000000000000000000001, k=1\n",
        ")"
      ]
    },
    {
      "cell_type": "code",
      "execution_count": 3,
      "id": "408fc114",
      "metadata": {},
      "outputs": [
        {
          "data": {
            "text/plain": [
              "['73679bc9-d425-49c2-9d74-de6356c73489']"
            ]
          },
          "execution_count": 3,
          "metadata": {},
          "output_type": "execute_result"
        }
      ],
      "source": [
        "yesterday = datetime.now() - timedelta(days=1)\n",
        "retriever.add_documents(\n",
        "    [Document(page_content=\"hello world\", metadata={\"last_accessed_at\": yesterday})]\n",
        ")\n",
        "retriever.add_documents([Document(page_content=\"hello foo\")])"
      ]
    },
    {
      "cell_type": "code",
      "execution_count": 4,
      "id": "8a5ed9ca",
      "metadata": {},
      "outputs": [
        {
          "data": {
            "text/plain": [
              "[Document(metadata={'last_accessed_at': datetime.datetime(2024, 10, 22, 16, 37, 40, 818583), 'created_at': datetime.datetime(2024, 10, 22, 16, 37, 37, 975074), 'buffer_idx': 0}, page_content='hello world')]"
            ]
          },
          "execution_count": 4,
          "metadata": {},
          "output_type": "execute_result"
        }
      ],
      "source": [
        "# \"Hello World\" is returned first because it is most salient, and the decay rate is close to 0., meaning it's still recent enough\n",
        "retriever.invoke(\"hello world\")"
      ]
    },
    {
      "cell_type": "markdown",
      "id": "d8bc4f96",
      "metadata": {},
      "source": [
        "## 高衰减率\n\n当 `decay rate` 较高时（例如有多个 9），`recency score` 会迅速变为 0！ 如果将其设置为 1，`recency` 对所有对象都将为 0，再次使其等同于向量查找。"
      ]
    },
    {
      "cell_type": "code",
      "execution_count": 5,
      "id": "e588d729",
      "metadata": {},
      "outputs": [],
      "source": [
        "# Define your embedding model\n",
        "embeddings_model = OpenAIEmbeddings()\n",
        "# Initialize the vectorstore as empty\n",
        "embedding_size = 1536\n",
        "index = faiss.IndexFlatL2(embedding_size)\n",
        "vectorstore = FAISS(embeddings_model, index, InMemoryDocstore({}), {})\n",
        "retriever = TimeWeightedVectorStoreRetriever(\n",
        "    vectorstore=vectorstore, decay_rate=0.999, k=1\n",
        ")"
      ]
    },
    {
      "cell_type": "code",
      "execution_count": 6,
      "id": "43b4afb3",
      "metadata": {},
      "outputs": [
        {
          "data": {
            "text/plain": [
              "['379631f0-42c2-4773-8cc2-d36201e1e610']"
            ]
          },
          "execution_count": 6,
          "metadata": {},
          "output_type": "execute_result"
        }
      ],
      "source": [
        "yesterday = datetime.now() - timedelta(days=1)\n",
        "retriever.add_documents(\n",
        "    [Document(page_content=\"hello world\", metadata={\"last_accessed_at\": yesterday})]\n",
        ")\n",
        "retriever.add_documents([Document(page_content=\"hello foo\")])"
      ]
    },
    {
      "cell_type": "code",
      "execution_count": 7,
      "id": "0677113c",
      "metadata": {},
      "outputs": [
        {
          "data": {
            "text/plain": [
              "[Document(metadata={'last_accessed_at': datetime.datetime(2024, 10, 22, 16, 37, 46, 553633), 'created_at': datetime.datetime(2024, 10, 22, 16, 37, 43, 927429), 'buffer_idx': 1}, page_content='hello foo')]"
            ]
          },
          "execution_count": 7,
          "metadata": {},
          "output_type": "execute_result"
        }
      ],
      "source": [
        "# \"Hello Foo\" is returned first because \"hello world\" is mostly forgotten\n",
        "retriever.invoke(\"hello world\")"
      ]
    },
    {
      "cell_type": "markdown",
      "id": "c8b0075a",
      "metadata": {},
      "source": [
        "## 虚拟时间\n\n您可以利用 LangChain 中的一些工具来模拟时间组件。"
      ]
    },
    {
      "cell_type": "code",
      "execution_count": 8,
      "id": "0b4188e7",
      "metadata": {},
      "outputs": [],
      "source": [
        "from langchain_core.utils import mock_now"
      ]
    },
    {
      "cell_type": "code",
      "execution_count": 9,
      "id": "95d55764",
      "metadata": {},
      "outputs": [
        {
          "name": "stdout",
          "output_type": "stream",
          "text": [
            "[Document(metadata={'last_accessed_at': MockDateTime(2024, 10, 23, 16, 38, 19, 66711), 'created_at': datetime.datetime(2024, 10, 22, 16, 37, 43, 599877), 'buffer_idx': 0}, page_content='hello world')]\n"
          ]
        }
      ],
      "source": [
        "# Notice the last access time is that date time\n",
        "\n",
        "tomorrow = datetime.now() + timedelta(days=1)\n",
        "\n",
        "with mock_now(tomorrow):\n",
        "    print(retriever.invoke(\"hello world\"))"
      ]
    },
    {
      "cell_type": "code",
      "execution_count": null,
      "id": "9a6da4c6",
      "metadata": {},
      "outputs": [],
      "source": []
    }
  ],
  "metadata": {
    "kernelspec": {
      "display_name": "Python 3 (ipykernel)",
      "language": "python",
      "name": "python3"
    },
    "language_info": {
      "codemirror_mode": {
        "name": "ipython",
        "version": 3
      },
      "file_extension": ".py",
      "mimetype": "text/x-python",
      "name": "python",
      "nbconvert_exporter": "python",
      "pygments_lexer": "ipython3",
      "version": "3.10.4"
    }
  },
  "nbformat": 4,
  "nbformat_minor": 5
}