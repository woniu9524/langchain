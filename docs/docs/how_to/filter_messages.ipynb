{
  "cells": [
    {
      "cell_type": "markdown",
      "id": "e389175d-8a65-4f0d-891c-dbdfabb3c3ef",
      "metadata": {},
      "source": [
        "# 如何过滤消息\n\n在更复杂的链和代理中，我们可能使用消息列表来跟踪状态。这个列表会累积来自多个不同模型、发言者、子链等的消息，而我们可能只想将这个完整消息列表的子集传递给链/代理中的每个模型调用。\n\n`filter_messages` 工具可以轻松地按类型、ID 或名称过滤消息。\n\n## 基本用法"
      ]
    },
    {
      "cell_type": "code",
      "execution_count": 1,
      "id": "f4ad2fd3-3cab-40d4-a989-972115865b8b",
      "metadata": {},
      "outputs": [
        {
          "data": {
            "text/plain": [
              "[HumanMessage(content='example input', name='example_user', id='2'),\n",
              " HumanMessage(content='real input', name='bob', id='4')]"
            ]
          },
          "execution_count": 1,
          "metadata": {},
          "output_type": "execute_result"
        }
      ],
      "source": [
        "from langchain_core.messages import (\n",
        "    AIMessage,\n",
        "    HumanMessage,\n",
        "    SystemMessage,\n",
        "    filter_messages,\n",
        ")\n",
        "\n",
        "messages = [\n",
        "    SystemMessage(\"you are a good assistant\", id=\"1\"),\n",
        "    HumanMessage(\"example input\", id=\"2\", name=\"example_user\"),\n",
        "    AIMessage(\"example output\", id=\"3\", name=\"example_assistant\"),\n",
        "    HumanMessage(\"real input\", id=\"4\", name=\"bob\"),\n",
        "    AIMessage(\"real output\", id=\"5\", name=\"alice\"),\n",
        "]\n",
        "\n",
        "filter_messages(messages, include_types=\"human\")"
      ]
    },
    {
      "cell_type": "code",
      "execution_count": 2,
      "id": "7b663a1e-a8ae-453e-a072-8dd75dfab460",
      "metadata": {},
      "outputs": [
        {
          "data": {
            "text/plain": [
              "[SystemMessage(content='you are a good assistant', id='1'),\n",
              " HumanMessage(content='real input', name='bob', id='4'),\n",
              " AIMessage(content='real output', name='alice', id='5')]"
            ]
          },
          "execution_count": 2,
          "metadata": {},
          "output_type": "execute_result"
        }
      ],
      "source": [
        "filter_messages(messages, exclude_names=[\"example_user\", \"example_assistant\"])"
      ]
    },
    {
      "cell_type": "code",
      "execution_count": 3,
      "id": "db170e46-03f8-4710-b967-23c70c3ac054",
      "metadata": {},
      "outputs": [
        {
          "data": {
            "text/plain": [
              "[HumanMessage(content='example input', name='example_user', id='2'),\n",
              " HumanMessage(content='real input', name='bob', id='4'),\n",
              " AIMessage(content='real output', name='alice', id='5')]"
            ]
          },
          "execution_count": 3,
          "metadata": {},
          "output_type": "execute_result"
        }
      ],
      "source": [
        "filter_messages(messages, include_types=[HumanMessage, AIMessage], exclude_ids=[\"3\"])"
      ]
    },
    {
      "cell_type": "markdown",
      "id": "b7c4e5ad-d1b4-4c18-b250-864adde8f0dd",
      "metadata": {},
      "source": [
        "## 链式调用\n\n`filter_messages` 可以被命令式地使用（如上所示），也可以声明式地使用，这使得它能够轻松地与链式调用中的其他组件组合："
      ]
    },
    {
      "cell_type": "code",
      "execution_count": null,
      "id": "cc39ae38",
      "metadata": {},
      "outputs": [],
      "source": [
        "%pip install -qU langchain-anthropic"
      ]
    },
    {
      "cell_type": "code",
      "execution_count": 4,
      "id": "675f8f79-db39-401c-a582-1df2478cba30",
      "metadata": {},
      "outputs": [
        {
          "data": {
            "text/plain": [
              "AIMessage(content=[], response_metadata={'id': 'msg_01Wz7gBHahAwkZ1KCBNtXmwA', 'model': 'claude-3-sonnet-20240229', 'stop_reason': 'end_turn', 'stop_sequence': None, 'usage': {'input_tokens': 16, 'output_tokens': 3}}, id='run-b5d8a3fe-004f-4502-a071-a6c025031827-0', usage_metadata={'input_tokens': 16, 'output_tokens': 3, 'total_tokens': 19})"
            ]
          },
          "execution_count": 4,
          "metadata": {},
          "output_type": "execute_result"
        }
      ],
      "source": [
        "from langchain_anthropic import ChatAnthropic\n",
        "\n",
        "llm = ChatAnthropic(model=\"claude-3-sonnet-20240229\", temperature=0)\n",
        "# Notice we don't pass in messages. This creates\n",
        "# a RunnableLambda that takes messages as input\n",
        "filter_ = filter_messages(exclude_names=[\"example_user\", \"example_assistant\"])\n",
        "chain = filter_ | llm\n",
        "chain.invoke(messages)"
      ]
    },
    {
      "cell_type": "markdown",
      "id": "4133ab28-f49c-480f-be92-b51eb6559153",
      "metadata": {},
      "source": [
        "在 LangSmith 追踪中，我们可以看到消息在传递给模型之前被过滤了：https://smith.langchain.com/public/f808a724-e072-438e-9991-657cc9e7e253/r\n\n只看 `filter_`，我们可以看到它是一个 Runnable 对象，可以像所有 Runnable 一样被调用："
      ]
    },
    {
      "cell_type": "code",
      "execution_count": 6,
      "id": "c090116a-1fef-43f6-a178-7265dff9db00",
      "metadata": {},
      "outputs": [
        {
          "data": {
            "text/plain": [
              "[HumanMessage(content='real input', name='bob', id='4'),\n",
              " AIMessage(content='real output', name='alice', id='5')]"
            ]
          },
          "execution_count": 6,
          "metadata": {},
          "output_type": "execute_result"
        }
      ],
      "source": [
        "filter_.invoke(messages)"
      ]
    },
    {
      "cell_type": "markdown",
      "id": "ff339066-d424-4042-8cca-cd4b007c1a8e",
      "metadata": {},
      "source": [
        "## API 参考\n\n有关所有参数的完整说明，请参阅 API 参考：https://python.langchain.com/api_reference/core/messages/langchain_core.messages.utils.filter_messages.html"
      ]
    }
  ],
  "metadata": {
    "kernelspec": {
      "display_name": "poetry-venv-2",
      "language": "python",
      "name": "poetry-venv-2"
    },
    "language_info": {
      "codemirror_mode": {
        "name": "ipython",
        "version": 3
      },
      "file_extension": ".py",
      "mimetype": "text/x-python",
      "name": "python",
      "nbconvert_exporter": "python",
      "pygments_lexer": "ipython3",
      "version": "3.9.1"
    }
  },
  "nbformat": 4,
  "nbformat_minor": 5
}