{
  "cells": [
    {
      "cell_type": "raw",
      "metadata": {},
      "source": [
        "---\n",
        "sidebar_position: 4\n",
        "---"
      ]
    },
    {
      "cell_type": "markdown",
      "metadata": {},
      "source": [
        "# 如何构建知识图谱\n\n在本指南中，我们将探讨基于非结构化文本构建知识图谱的基本方法。构建好的图谱随后可用作 [RAG](/docs/concepts/rag/) 应用中的知识库。\n\n## ⚠️ 安全须知 ⚠️\n\n构建知识图谱需要执行数据库写入操作。这其中存在固有风险。请确保在导入数据前进行验证和确认。有关常规安全最佳实践的更多信息，[请参见此处](/docs/security)。\n\n## 架构\n\n总体而言，从文本构建知识图谱的步骤包括：\n\n1. **从文本中提取结构化信息**：使用模型从文本中提取结构化的图谱信息。\n2. **存储到图数据库中**：将提取的结构化图谱信息存储到图数据库中，以便下游 RAG 应用使用。\n\n## 设置\n\n首先，获取所需软件包并设置环境变量。\n在本示例中，我们将使用 Neo4j 图数据库。"
      ]
    },
    {
      "cell_type": "code",
      "execution_count": 1,
      "metadata": {},
      "outputs": [
        {
          "name": "stdout",
          "output_type": "stream",
          "text": [
            "\n",
            "\u001b[1m[\u001b[0m\u001b[34;49mnotice\u001b[0m\u001b[1;39;49m]\u001b[0m\u001b[39;49m A new release of pip is available: \u001b[0m\u001b[31;49m24.0\u001b[0m\u001b[39;49m -> \u001b[0m\u001b[32;49m24.3.1\u001b[0m\n",
            "\u001b[1m[\u001b[0m\u001b[34;49mnotice\u001b[0m\u001b[1;39;49m]\u001b[0m\u001b[39;49m To update, run: \u001b[0m\u001b[32;49mpip install --upgrade pip\u001b[0m\n",
            "Note: you may need to restart the kernel to use updated packages.\n"
          ]
        }
      ],
      "source": [
        "%pip install --upgrade --quiet  langchain langchain-neo4j langchain-openai langchain-experimental neo4j"
      ]
    },
    {
      "cell_type": "markdown",
      "metadata": {},
      "source": [
        "在本指南中，我们将默认使用 OpenAI 模型。"
      ]
    },
    {
      "cell_type": "code",
      "execution_count": 2,
      "metadata": {},
      "outputs": [
        {
          "name": "stdout",
          "output_type": "stream",
          "text": [
            " ········\n"
          ]
        }
      ],
      "source": [
        "import getpass\n",
        "import os\n",
        "\n",
        "os.environ[\"OPENAI_API_KEY\"] = getpass.getpass()\n",
        "\n",
        "# Uncomment the below to use LangSmith. Not required.\n",
        "# os.environ[\"LANGSMITH_API_KEY\"] = getpass.getpass()\n",
        "# os.environ[\"LANGSMITH_TRACING\"] = \"true\""
      ]
    },
    {
      "cell_type": "markdown",
      "metadata": {},
      "source": [
        "接下来，我们需要定义 Neo4j 的凭证和连接。\n请按照[此处的安装步骤](https://neo4j.com/docs/operations-manual/current/installation/)来设置 Neo4j 数据库。"
      ]
    },
    {
      "cell_type": "code",
      "execution_count": 3,
      "metadata": {},
      "outputs": [],
      "source": [
        "import os\n",
        "\n",
        "from langchain_neo4j import Neo4jGraph\n",
        "\n",
        "os.environ[\"NEO4J_URI\"] = \"bolt://localhost:7687\"\n",
        "os.environ[\"NEO4J_USERNAME\"] = \"neo4j\"\n",
        "os.environ[\"NEO4J_PASSWORD\"] = \"password\"\n",
        "\n",
        "graph = Neo4jGraph(refresh_schema=False)"
      ]
    },
    {
      "cell_type": "markdown",
      "metadata": {},
      "source": [
        "## LLM 图表转换器\n\n从文本中提取图表数据能够将非结构化信息转化为结构化格式，从而有助于更深入地洞察和更有效地浏览复杂的关系和模式。`LLMGraphTransformer` 通过利用 LLM 来解析和分类实体及其关系，将文本文档转换为结构化图表文档。LLM 模型的选择通过决定提取的图表数据的准确性和细微差别，对输出产生重大影响。"
      ]
    },
    {
      "cell_type": "code",
      "execution_count": 4,
      "metadata": {},
      "outputs": [],
      "source": [
        "import os\n",
        "\n",
        "from langchain_experimental.graph_transformers import LLMGraphTransformer\n",
        "from langchain_openai import ChatOpenAI\n",
        "\n",
        "llm = ChatOpenAI(temperature=0, model_name=\"gpt-4-turbo\")\n",
        "\n",
        "llm_transformer = LLMGraphTransformer(llm=llm)"
      ]
    },
    {
      "cell_type": "markdown",
      "metadata": {},
      "source": [
        "现在我们可以传入示例文本并检查结果。"
      ]
    },
    {
      "cell_type": "code",
      "execution_count": 5,
      "metadata": {},
      "outputs": [
        {
          "name": "stdout",
          "output_type": "stream",
          "text": [
            "Nodes:[Node(id='Marie Curie', type='Person', properties={}), Node(id='Pierre Curie', type='Person', properties={}), Node(id='University Of Paris', type='Organization', properties={})]\n",
            "Relationships:[Relationship(source=Node(id='Marie Curie', type='Person', properties={}), target=Node(id='Pierre Curie', type='Person', properties={}), type='MARRIED', properties={}), Relationship(source=Node(id='Marie Curie', type='Person', properties={}), target=Node(id='University Of Paris', type='Organization', properties={}), type='PROFESSOR', properties={})]\n"
          ]
        }
      ],
      "source": [
        "from langchain_core.documents import Document\n",
        "\n",
        "text = \"\"\"\n",
        "Marie Curie, born in 1867, was a Polish and naturalised-French physicist and chemist who conducted pioneering research on radioactivity.\n",
        "She was the first woman to win a Nobel Prize, the first person to win a Nobel Prize twice, and the only person to win a Nobel Prize in two scientific fields.\n",
        "Her husband, Pierre Curie, was a co-winner of her first Nobel Prize, making them the first-ever married couple to win the Nobel Prize and launching the Curie family legacy of five Nobel Prizes.\n",
        "She was, in 1906, the first woman to become a professor at the University of Paris.\n",
        "\"\"\"\n",
        "documents = [Document(page_content=text)]\n",
        "graph_documents = await llm_transformer.aconvert_to_graph_documents(documents)\n",
        "print(f\"Nodes:{graph_documents[0].nodes}\")\n",
        "print(f\"Relationships:{graph_documents[0].relationships}\")"
      ]
    },
    {
      "cell_type": "markdown",
      "metadata": {},
      "source": [
        "检查下图，以便更好地理解生成知识图的结构。\n\n![graph_construction1.png](../../static/img/graph_construction1.png)\n\n请注意，由于我们使用的是 LLM，图的构建过程是非确定性的。因此，您每次执行的结果可能会略有不同。\n\n此外，您可以根据自己的需求灵活定义要提取的节点和关系的特定类型。"
      ]
    },
    {
      "cell_type": "code",
      "execution_count": 6,
      "metadata": {},
      "outputs": [
        {
          "name": "stdout",
          "output_type": "stream",
          "text": [
            "Nodes:[Node(id='Marie Curie', type='Person', properties={}), Node(id='Pierre Curie', type='Person', properties={}), Node(id='University Of Paris', type='Organization', properties={})]\n",
            "Relationships:[Relationship(source=Node(id='Marie Curie', type='Person', properties={}), target=Node(id='Pierre Curie', type='Person', properties={}), type='SPOUSE', properties={}), Relationship(source=Node(id='Marie Curie', type='Person', properties={}), target=Node(id='University Of Paris', type='Organization', properties={}), type='WORKED_AT', properties={})]\n"
          ]
        }
      ],
      "source": [
        "llm_transformer_filtered = LLMGraphTransformer(\n",
        "    llm=llm,\n",
        "    allowed_nodes=[\"Person\", \"Country\", \"Organization\"],\n",
        "    allowed_relationships=[\"NATIONALITY\", \"LOCATED_IN\", \"WORKED_AT\", \"SPOUSE\"],\n",
        ")\n",
        "graph_documents_filtered = await llm_transformer_filtered.aconvert_to_graph_documents(\n",
        "    documents\n",
        ")\n",
        "print(f\"Nodes:{graph_documents_filtered[0].nodes}\")\n",
        "print(f\"Relationships:{graph_documents_filtered[0].relationships}\")"
      ]
    },
    {
      "cell_type": "markdown",
      "metadata": {},
      "source": [
        "为了更精确地定义图谱 schema，可以考虑使用三元组（three-tuple）的方法来表示关系。在这种方法中，每个三元组包含三个元素：源节点（source node）、关系类型（relationship type）和目标节点（target node）。"
      ]
    },
    {
      "cell_type": "code",
      "execution_count": 7,
      "metadata": {},
      "outputs": [
        {
          "name": "stdout",
          "output_type": "stream",
          "text": [
            "Nodes:[Node(id='Marie Curie', type='Person', properties={}), Node(id='Pierre Curie', type='Person', properties={}), Node(id='University Of Paris', type='Organization', properties={})]\n",
            "Relationships:[Relationship(source=Node(id='Marie Curie', type='Person', properties={}), target=Node(id='Pierre Curie', type='Person', properties={}), type='SPOUSE', properties={}), Relationship(source=Node(id='Marie Curie', type='Person', properties={}), target=Node(id='University Of Paris', type='Organization', properties={}), type='WORKED_AT', properties={})]\n"
          ]
        }
      ],
      "source": [
        "allowed_relationships = [\n",
        "    (\"Person\", \"SPOUSE\", \"Person\"),\n",
        "    (\"Person\", \"NATIONALITY\", \"Country\"),\n",
        "    (\"Person\", \"WORKED_AT\", \"Organization\"),\n",
        "]\n",
        "\n",
        "llm_transformer_tuple = LLMGraphTransformer(\n",
        "    llm=llm,\n",
        "    allowed_nodes=[\"Person\", \"Country\", \"Organization\"],\n",
        "    allowed_relationships=allowed_relationships,\n",
        ")\n",
        "graph_documents_filtered = await llm_transformer_tuple.aconvert_to_graph_documents(\n",
        "    documents\n",
        ")\n",
        "print(f\"Nodes:{graph_documents_filtered[0].nodes}\")\n",
        "print(f\"Relationships:{graph_documents_filtered[0].relationships}\")"
      ]
    },
    {
      "cell_type": "markdown",
      "metadata": {},
      "source": [
        "为了更好地理解生成的图，我们可以再次对其进行可视化。\n\n![graph_construction2.png](../../static/img/graph_construction2.png)"
      ]
    },
    {
      "cell_type": "markdown",
      "metadata": {},
      "source": [
        "`node_properties` 参数支持提取节点属性，从而创建更详细的图。\n当设置为 `True` 时，LLM 会自主识别并从文本中提取相关的节点属性。\n反之，如果 `node_properties` 被定义为字符串列表，LLM 将仅检索文本中指定的属性。"
      ]
    },
    {
      "cell_type": "code",
      "execution_count": 8,
      "metadata": {},
      "outputs": [
        {
          "name": "stdout",
          "output_type": "stream",
          "text": [
            "Nodes:[Node(id='Marie Curie', type='Person', properties={'born_year': '1867'}), Node(id='Pierre Curie', type='Person', properties={}), Node(id='University Of Paris', type='Organization', properties={}), Node(id='Poland', type='Country', properties={}), Node(id='France', type='Country', properties={})]\n",
            "Relationships:[Relationship(source=Node(id='Marie Curie', type='Person', properties={}), target=Node(id='Poland', type='Country', properties={}), type='NATIONALITY', properties={}), Relationship(source=Node(id='Marie Curie', type='Person', properties={}), target=Node(id='France', type='Country', properties={}), type='NATIONALITY', properties={}), Relationship(source=Node(id='Marie Curie', type='Person', properties={}), target=Node(id='Pierre Curie', type='Person', properties={}), type='SPOUSE', properties={}), Relationship(source=Node(id='Marie Curie', type='Person', properties={}), target=Node(id='University Of Paris', type='Organization', properties={}), type='WORKED_AT', properties={})]\n"
          ]
        }
      ],
      "source": [
        "llm_transformer_props = LLMGraphTransformer(\n",
        "    llm=llm,\n",
        "    allowed_nodes=[\"Person\", \"Country\", \"Organization\"],\n",
        "    allowed_relationships=[\"NATIONALITY\", \"LOCATED_IN\", \"WORKED_AT\", \"SPOUSE\"],\n",
        "    node_properties=[\"born_year\"],\n",
        ")\n",
        "graph_documents_props = await llm_transformer_props.aconvert_to_graph_documents(\n",
        "    documents\n",
        ")\n",
        "print(f\"Nodes:{graph_documents_props[0].nodes}\")\n",
        "print(f\"Relationships:{graph_documents_props[0].relationships}\")"
      ]
    },
    {
      "cell_type": "markdown",
      "metadata": {},
      "source": [
        "## 存储到图数据库\n\n生成的图文档可以使用 `add_graph_documents` 方法存储到图数据库中。"
      ]
    },
    {
      "cell_type": "code",
      "execution_count": 9,
      "metadata": {},
      "outputs": [],
      "source": [
        "graph.add_graph_documents(graph_documents_props)"
      ]
    },
    {
      "cell_type": "markdown",
      "metadata": {},
      "source": [
        "大多数图数据库都支持索引来优化数据导入和检索。由于我们可能无法预先知道所有的节点标签，我们可以通过 `baseEntityLabel` 参数为每个节点添加一个次要的基础标签来处理这个问题。"
      ]
    },
    {
      "cell_type": "code",
      "execution_count": 10,
      "metadata": {},
      "outputs": [],
      "source": [
        "graph.add_graph_documents(graph_documents, baseEntityLabel=True)"
      ]
    },
    {
      "cell_type": "markdown",
      "metadata": {},
      "source": [
        "结果将如下所示：\n\n![graph_construction3.png](../../static/img/graph_construction3.png)\n\n最后一个选项是同时导入提取的节点和关系的源文档。这种方法使我们能够跟踪每个实体出现在哪些文档中。"
      ]
    },
    {
      "cell_type": "code",
      "execution_count": 11,
      "metadata": {},
      "outputs": [],
      "source": [
        "graph.add_graph_documents(graph_documents, include_source=True)"
      ]
    },
    {
      "cell_type": "markdown",
      "metadata": {},
      "source": [
        "图将具有以下结构：\n\n![graph_construction4.png](../../static/img/graph_construction4.png)"
      ]
    },
    {
      "cell_type": "markdown",
      "metadata": {},
      "source": [
        "在此可视化中，源文档以蓝色突出显示，从中提取的所有实体都通过 `MENTIONS` 关系连接。"
      ]
    },
    {
      "cell_type": "code",
      "execution_count": null,
      "metadata": {},
      "outputs": [],
      "source": []
    }
  ],
  "metadata": {
    "kernelspec": {
      "display_name": "Python 3 (ipykernel)",
      "language": "python",
      "name": "python3"
    },
    "language_info": {
      "codemirror_mode": {
        "name": "ipython",
        "version": 3
      },
      "file_extension": ".py",
      "mimetype": "text/x-python",
      "name": "python",
      "nbconvert_exporter": "python",
      "pygments_lexer": "ipython3",
      "version": "3.11.5"
    }
  },
  "nbformat": 4,
  "nbformat_minor": 4
}