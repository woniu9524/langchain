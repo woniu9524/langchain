{
  "cells": [
    {
      "cell_type": "raw",
      "metadata": {
        "vscode": {
          "languageId": "raw"
        }
      },
      "source": [
        "---\n",
        "keywords: [tool calling, tool call]\n",
        "---"
      ]
    },
    {
      "cell_type": "markdown",
      "metadata": {},
      "source": [
        "# 如何使用聊天模型调用工具\n\n:::info 先决条件\n\n本指南假定您熟悉以下概念：\n\n- [聊天模型](/docs/concepts/chat_models)\n- [工具调用](/docs/concepts/tool_calling)\n- [工具](/docs/concepts/tools)\n- [输出解析器](/docs/concepts/output_parsers)\n:::\n\n[工具调用](/docs/concepts/tool_calling)允许聊天模型通过“调用工具”来响应给定提示。\n\n请记住，虽然“工具调用”这个名称暗示模型正在直接执行某些操作，但实际上并非如此！模型只生成工具的参数，而实际运行工具（或不运行）则取决于用户。\n\n工具调用是一种生成模型结构化输出的通用技术，即使您不打算调用任何工具也可以使用它。一个使用案例是[从非结构化文本中提取信息](/docs/tutorials/extraction/)。\n\n![调用工具的图示](/img/tool_call.png)\n\n如果您想了解如何使用模型生成的工具调用来实际运行工具，请[查看本指南](/docs/how_to/tool_results_pass_to_model/)。\n\n:::note 支持的模型\n\n工具调用并非普遍支持，但许多流行的 LLM 提供商都支持。您可以在[此处找到所有支持工具调用的模型列表](/docs/integrations/chat/)。\n\n:::\n\nLangChain 为定义工具、将它们传递给 LLM 以及表示工具调用实现了标准接口。\n本指南将介绍如何将工具绑定到 LLM，然后调用 LLM 来生成这些参数。"
      ]
    },
    {
      "cell_type": "markdown",
      "metadata": {},
      "source": [
        "## 定义工具模式（Schema）\n\n要使模型能够调用工具，我们需要传入描述工具功能及其参数的工具模式。支持工具调用功能的聊天模型会实现 `.bind_tools()` 方法来传递工具模式。工具模式可以作为 Python 函数（带有类型提示和文档字符串）、Pydantic 模型、TypedDict 类或 LangChain [Tool 对象](https://python.langchain.com/api_reference/core/tools/langchain_core.tools.base.BaseTool.html#basetool) 来传递。后续的模型调用会连同提示一起传入这些工具模式。\n\n### Python 函数\n我们的工具模式可以是 Python 函数："
      ]
    },
    {
      "cell_type": "code",
      "execution_count": 1,
      "metadata": {
        "execution": {
          "iopub.execute_input": "2024-09-11T02:43:40.609832Z",
          "iopub.status.busy": "2024-09-11T02:43:40.609565Z",
          "iopub.status.idle": "2024-09-11T02:43:40.617860Z",
          "shell.execute_reply": "2024-09-11T02:43:40.617391Z"
        }
      },
      "outputs": [],
      "source": [
        "# The function name, type hints, and docstring are all part of the tool\n",
        "# schema that's passed to the model. Defining good, descriptive schemas\n",
        "# is an extension of prompt engineering and is an important part of\n",
        "# getting models to perform well.\n",
        "def add(a: int, b: int) -> int:\n",
        "    \"\"\"Add two integers.\n",
        "\n",
        "    Args:\n",
        "        a: First integer\n",
        "        b: Second integer\n",
        "    \"\"\"\n",
        "    return a + b\n",
        "\n",
        "\n",
        "def multiply(a: int, b: int) -> int:\n",
        "    \"\"\"Multiply two integers.\n",
        "\n",
        "    Args:\n",
        "        a: First integer\n",
        "        b: Second integer\n",
        "    \"\"\"\n",
        "    return a * b"
      ]
    },
    {
      "cell_type": "markdown",
      "metadata": {},
      "source": [
        "### LangChain 工具\n\nLangChain 还实现了一个 `@tool` 装饰器，该装饰器允许对工具模式进行进一步控制，例如工具名称和参数描述。有关详细信息，请参阅此处的[操作指南](/docs/how_to/custom_tools/#creating-tools-from-functions)。\n\n### Pydantic 类\n\n您可以使用 [Pydantic](https://docs.pydantic.dev) 等效地定义模式而无需配套函数。\n\n请注意，除非提供了默认值，否则所有字段都是`必需`的。"
      ]
    },
    {
      "cell_type": "code",
      "execution_count": 2,
      "metadata": {
        "execution": {
          "iopub.execute_input": "2024-09-11T02:43:40.620257Z",
          "iopub.status.busy": "2024-09-11T02:43:40.620084Z",
          "iopub.status.idle": "2024-09-11T02:43:40.689214Z",
          "shell.execute_reply": "2024-09-11T02:43:40.688938Z"
        }
      },
      "outputs": [],
      "source": [
        "from pydantic import BaseModel, Field\n",
        "\n",
        "\n",
        "class add(BaseModel):\n",
        "    \"\"\"Add two integers.\"\"\"\n",
        "\n",
        "    a: int = Field(..., description=\"First integer\")\n",
        "    b: int = Field(..., description=\"Second integer\")\n",
        "\n",
        "\n",
        "class multiply(BaseModel):\n",
        "    \"\"\"Multiply two integers.\"\"\"\n",
        "\n",
        "    a: int = Field(..., description=\"First integer\")\n",
        "    b: int = Field(..., description=\"Second integer\")"
      ]
    },
    {
      "cell_type": "markdown",
      "metadata": {},
      "source": [
        "### 泛型字典类\n\n:::info 需要 `langchain-core>=0.2.25`\n:::\n\n或者使用泛型字典（TypedDicts）和注解："
      ]
    },
    {
      "cell_type": "code",
      "execution_count": 3,
      "metadata": {
        "execution": {
          "iopub.execute_input": "2024-09-11T02:43:40.690850Z",
          "iopub.status.busy": "2024-09-11T02:43:40.690739Z",
          "iopub.status.idle": "2024-09-11T02:43:40.693436Z",
          "shell.execute_reply": "2024-09-11T02:43:40.693199Z"
        }
      },
      "outputs": [],
      "source": [
        "from typing_extensions import Annotated, TypedDict\n",
        "\n",
        "\n",
        "class add(TypedDict):\n",
        "    \"\"\"Add two integers.\"\"\"\n",
        "\n",
        "    # Annotations must have the type and can optionally include a default value and description (in that order).\n",
        "    a: Annotated[int, ..., \"First integer\"]\n",
        "    b: Annotated[int, ..., \"Second integer\"]\n",
        "\n",
        "\n",
        "class multiply(TypedDict):\n",
        "    \"\"\"Multiply two integers.\"\"\"\n",
        "\n",
        "    a: Annotated[int, ..., \"First integer\"]\n",
        "    b: Annotated[int, ..., \"Second integer\"]\n",
        "\n",
        "\n",
        "tools = [add, multiply]"
      ]
    },
    {
      "cell_type": "markdown",
      "metadata": {},
      "source": [
        "为了将这些模式实际绑定到聊天模型，我们将使用 `.bind_tools()` 方法。此方法负责将 `add` 和 `multiply` 模式转换为适合模型的正确格式。然后，每次调用模型时都会将工具模式传递给它。\n\nimport ChatModelTabs from \"@theme/ChatModelTabs\";\n\n<ChatModelTabs\n  customVarName=\"llm\"\n  overrideParams={{\n    fireworks: {\n      model: \"accounts/fireworks/models/firefunction-v1\",\n      kwargs: \"temperature=0\",\n    }\n  }}\n/>"
      ]
    },
    {
      "cell_type": "code",
      "execution_count": null,
      "metadata": {},
      "outputs": [],
      "source": [
        "# | output: false\n",
        "# | echo: false\n",
        "\n",
        "import os\n",
        "from getpass import getpass\n",
        "\n",
        "from langchain_openai import ChatOpenAI\n",
        "\n",
        "if \"OPENAI_API_KEY\" not in os.environ:\n",
        "    os.environ[\"OPENAI_API_KEY\"] = getpass()\n",
        "\n",
        "llm = ChatOpenAI(model=\"gpt-4o-mini\", temperature=0)"
      ]
    },
    {
      "cell_type": "code",
      "execution_count": 5,
      "metadata": {
        "execution": {
          "iopub.execute_input": "2024-09-11T02:43:42.447839Z",
          "iopub.status.busy": "2024-09-11T02:43:42.447760Z",
          "iopub.status.idle": "2024-09-11T02:43:43.181171Z",
          "shell.execute_reply": "2024-09-11T02:43:43.180680Z"
        }
      },
      "outputs": [
        {
          "data": {
            "text/plain": [
              "AIMessage(content='', additional_kwargs={'tool_calls': [{'id': 'call_iXj4DiW1p7WLjTAQMRO0jxMs', 'function': {'arguments': '{\"a\":3,\"b\":12}', 'name': 'multiply'}, 'type': 'function'}], 'refusal': None}, response_metadata={'token_usage': {'completion_tokens': 17, 'prompt_tokens': 80, 'total_tokens': 97}, 'model_name': 'gpt-4o-mini-2024-07-18', 'system_fingerprint': 'fp_483d39d857', 'finish_reason': 'tool_calls', 'logprobs': None}, id='run-0b620986-3f62-4df7-9ba3-4595089f9ad4-0', tool_calls=[{'name': 'multiply', 'args': {'a': 3, 'b': 12}, 'id': 'call_iXj4DiW1p7WLjTAQMRO0jxMs', 'type': 'tool_call'}], usage_metadata={'input_tokens': 80, 'output_tokens': 17, 'total_tokens': 97})"
            ]
          },
          "execution_count": 5,
          "metadata": {},
          "output_type": "execute_result"
        }
      ],
      "source": [
        "llm_with_tools = llm.bind_tools(tools)\n",
        "\n",
        "query = \"What is 3 * 12?\"\n",
        "\n",
        "llm_with_tools.invoke(query)"
      ]
    },
    {
      "cell_type": "markdown",
      "metadata": {},
      "source": [
        "正如我们所见，我们的 LLM 为工具生成了参数！您可以查阅 `bind_tools()` 的文档 [https://python.langchain.com/api_reference/openai/chat_models/langchain_openai.chat_models.base.BaseChatOpenAI.html#langchain_openai.chat_models.base.BaseChatOpenAI.bind_tools](https://python.langchain.com/api_reference/openai/chat_models/langchain_openai.chat_models.base.BaseChatOpenAI.html#langchain_openai.chat_models.base.BaseChatOpenAI.bind_tools) 来了解自定义 LLM 如何选择工具的所有方式，以及 [此指南，了解如何强制 LLM 调用工具](/docs/how_to/tool_choice/) 而不是让它自行决定。"
      ]
    },
    {
      "cell_type": "markdown",
      "metadata": {},
      "source": [
        "## 工具调用\n\n如果大语言模型响应中包含工具调用，它们将作为一系列 [tool call](https://python.langchain.com/api_reference/core/messages/langchain_core.messages.tool.ToolCall.html#langchain_core.messages.tool.ToolCall) 对象附加到相应的 [message](https://python.langchain.com/api_reference/core/messages/langchain_core.messages.ai.AIMessage.html#langchain_core.messages.ai.AIMessage) 或 [message chunk](https://python.langchain.com/api_reference/core/messages/langchain_core.messages.ai.AIMessageChunk.html#langchain_core.messages.ai.AIMessageChunk) 的 `.tool_calls` 属性中。\n\n请注意，聊天模型可以一次调用多个工具。\n\n`ToolCall` 是一个类型化字典，包含一个工具名称、一个参数值字典以及（可选）一个标识符。没有工具调用的消息默认将此属性设置为空列表。"
      ]
    },
    {
      "cell_type": "code",
      "execution_count": 6,
      "metadata": {
        "execution": {
          "iopub.execute_input": "2024-09-11T02:43:43.184004Z",
          "iopub.status.busy": "2024-09-11T02:43:43.183777Z",
          "iopub.status.idle": "2024-09-11T02:43:43.743024Z",
          "shell.execute_reply": "2024-09-11T02:43:43.742171Z"
        }
      },
      "outputs": [
        {
          "data": {
            "text/plain": [
              "[{'name': 'multiply',\n",
              "  'args': {'a': 3, 'b': 12},\n",
              "  'id': 'call_1fyhJAbJHuKQe6n0PacubGsL',\n",
              "  'type': 'tool_call'},\n",
              " {'name': 'add',\n",
              "  'args': {'a': 11, 'b': 49},\n",
              "  'id': 'call_fc2jVkKzwuPWyU7kS9qn1hyG',\n",
              "  'type': 'tool_call'}]"
            ]
          },
          "execution_count": 6,
          "metadata": {},
          "output_type": "execute_result"
        }
      ],
      "source": [
        "query = \"What is 3 * 12? Also, what is 11 + 49?\"\n",
        "\n",
        "llm_with_tools.invoke(query).tool_calls"
      ]
    },
    {
      "cell_type": "markdown",
      "metadata": {},
      "source": [
        "`.tool_calls` 属性应包含有效的工具调用。请注意，模型提供商有时可能会输出格式错误的工具调用（例如，无效的 JSON 参数）。在这些情况下，解析失败时，`.invalid_tool_calls` 属性中会填充 `InvalidToolCall` 的实例。`InvalidToolCall` 可以包含名称、字符串参数、标识符和错误消息。\n\n## 解析\n\n如果需要，[输出解析器](/docs/how_to#output-parsers) 可以进一步处理输出。例如，我们可以使用\n[PydanticToolsParser](https://python.langchain.com/api_reference/core/output_parsers/langchain_core.output_parsers.openai_tools.PydanticToolsParser.html) 将 `.tool_calls` 上已有的值转换为 Pydantic 对象："
      ]
    },
    {
      "cell_type": "code",
      "execution_count": 7,
      "metadata": {
        "execution": {
          "iopub.execute_input": "2024-09-11T02:43:43.746273Z",
          "iopub.status.busy": "2024-09-11T02:43:43.746020Z",
          "iopub.status.idle": "2024-09-11T02:43:44.586236Z",
          "shell.execute_reply": "2024-09-11T02:43:44.585619Z"
        }
      },
      "outputs": [
        {
          "data": {
            "text/plain": [
              "[multiply(a=3, b=12), add(a=11, b=49)]"
            ]
          },
          "execution_count": 7,
          "metadata": {},
          "output_type": "execute_result"
        }
      ],
      "source": [
        "from langchain_core.output_parsers import PydanticToolsParser\n",
        "from pydantic import BaseModel, Field\n",
        "\n",
        "\n",
        "class add(BaseModel):\n",
        "    \"\"\"Add two integers.\"\"\"\n",
        "\n",
        "    a: int = Field(..., description=\"First integer\")\n",
        "    b: int = Field(..., description=\"Second integer\")\n",
        "\n",
        "\n",
        "class multiply(BaseModel):\n",
        "    \"\"\"Multiply two integers.\"\"\"\n",
        "\n",
        "    a: int = Field(..., description=\"First integer\")\n",
        "    b: int = Field(..., description=\"Second integer\")\n",
        "\n",
        "\n",
        "chain = llm_with_tools | PydanticToolsParser(tools=[add, multiply])\n",
        "chain.invoke(query)"
      ]
    },
    {
      "cell_type": "markdown",
      "metadata": {},
      "source": [
        "## 后续步骤\n\n现在您已经学会了如何将工具模式（tool schemas）绑定到聊天模型（chat model）并让模型调用工具。\n\n接下来，请查看这篇关于通过调用函数并将结果传回模型来实际使用工具的指南：\n\n- 将[工具结果传回模型](/docs/how_to/tool_results_pass_to_model)\n\n您还可以查看一些更具体的工具调用用法：\n\n- 从模型获取[结构化输出](/docs/how_to/structured_output/)\n- [工具的](docs/how_to/tools_few_shot/)少量示例提示（Few shot prompting）\n- 流式传输[工具调用](/docs/how_to/tool_streaming/)\n- 将[运行时值传递给工具](/docs/how_to/tool_runtime)"
      ]
    }
  ],
  "metadata": {
    "kernelspec": {
      "display_name": "poetry-venv-311",
      "language": "python",
      "name": "poetry-venv-311"
    },
    "language_info": {
      "codemirror_mode": {
        "name": "ipython",
        "version": 3
      },
      "file_extension": ".py",
      "mimetype": "text/x-python",
      "name": "python",
      "nbconvert_exporter": "python",
      "pygments_lexer": "ipython3",
      "version": "3.11.9"
    }
  },
  "nbformat": 4,
  "nbformat_minor": 4
}