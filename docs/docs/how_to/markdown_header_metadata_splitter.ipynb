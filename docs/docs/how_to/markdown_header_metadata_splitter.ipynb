{
  "cells": [
    {
      "cell_type": "markdown",
      "id": "70e9b619",
      "metadata": {},
      "source": [
        "# 如何按标题分割 Markdown\n\n### 动机\n\n许多聊天或问答应用程序涉及在嵌入和向量存储之前对输入文档进行分块。\n\n[Pinecone 的这些笔记](https://www.pinecone.io/learn/chunking-strategies/) 提供了一些有用的技巧：\n\n```\n当整个段落或文档被嵌入时，嵌入过程会同时考虑整体上下文以及文本中句子和短语之间的关系。这可以产生更全面的向量表示，捕捉文本的广泛含义和主题。\n```\n \n正如前面提到的，分块通常旨在将具有共同上下文的文本保留在一起。考虑到这一点，我们可能希望特别遵循文档本身的结构。例如，markdown 文件是按标题组织的。在特定标题组内创建块是一个直观的想法。为了应对这一挑战，我们可以使用 [MarkdownHeaderTextSplitter](https://python.langchain.com/api_reference/text_splitters/markdown/langchain_text_splitters.markdown.MarkdownHeaderTextSplitter.html)。这将根据指定的标题集来分割 markdown 文件。\n\n例如，如果我们想分割这个 markdown：\n```\nmd = '# Foo\\n\\n ## Bar\\n\\nHi this is Jim  \\nHi this is Joe\\n\\n ## Baz\\n\\n Hi this is Molly' \n```\n \n我们可以指定要分割的标题：\n```\n[(\"#\", \"Header 1\"),(\"##\", \"Header 2\")]\n```\n\n内容将按通用标题进行分组或分割：\n```\n{'content': 'Hi this is Jim  \\nHi this is Joe', 'metadata': {'Header 1': 'Foo', 'Header 2': 'Bar'}}\n{'content': 'Hi this is Molly', 'metadata': {'Header 1': 'Foo', 'Header 2': 'Baz'}}\n```\n\n让我们看一些下面的例子。\n\n### 基本用法："
      ]
    },
    {
      "cell_type": "code",
      "execution_count": null,
      "id": "0cd11819-4d4e-4fc1-aa85-faf69d24db89",
      "metadata": {},
      "outputs": [],
      "source": [
        "%pip install -qU langchain-text-splitters"
      ]
    },
    {
      "cell_type": "code",
      "execution_count": 1,
      "id": "ceb3c1fb",
      "metadata": {
        "ExecuteTime": {
          "end_time": "2023-09-25T19:12:27.243781300Z",
          "start_time": "2023-09-25T19:12:24.943559400Z"
        }
      },
      "outputs": [],
      "source": [
        "from langchain_text_splitters import MarkdownHeaderTextSplitter"
      ]
    },
    {
      "cell_type": "code",
      "execution_count": 2,
      "id": "2ae3649b",
      "metadata": {
        "ExecuteTime": {
          "end_time": "2023-09-25T19:12:31.917013600Z",
          "start_time": "2023-09-25T19:12:31.905694500Z"
        }
      },
      "outputs": [
        {
          "data": {
            "text/plain": [
              "[Document(page_content='Hi this is Jim  \\nHi this is Joe', metadata={'Header 1': 'Foo', 'Header 2': 'Bar'}),\n",
              " Document(page_content='Hi this is Lance', metadata={'Header 1': 'Foo', 'Header 2': 'Bar', 'Header 3': 'Boo'}),\n",
              " Document(page_content='Hi this is Molly', metadata={'Header 1': 'Foo', 'Header 2': 'Baz'})]"
            ]
          },
          "execution_count": 2,
          "metadata": {},
          "output_type": "execute_result"
        }
      ],
      "source": [
        "markdown_document = \"# Foo\\n\\n    ## Bar\\n\\nHi this is Jim\\n\\nHi this is Joe\\n\\n ### Boo \\n\\n Hi this is Lance \\n\\n ## Baz\\n\\n Hi this is Molly\"\n",
        "\n",
        "headers_to_split_on = [\n",
        "    (\"#\", \"Header 1\"),\n",
        "    (\"##\", \"Header 2\"),\n",
        "    (\"###\", \"Header 3\"),\n",
        "]\n",
        "\n",
        "markdown_splitter = MarkdownHeaderTextSplitter(headers_to_split_on)\n",
        "md_header_splits = markdown_splitter.split_text(markdown_document)\n",
        "md_header_splits"
      ]
    },
    {
      "cell_type": "code",
      "execution_count": 3,
      "id": "aac1738c",
      "metadata": {
        "ExecuteTime": {
          "end_time": "2023-09-25T19:12:35.672077100Z",
          "start_time": "2023-09-25T19:12:35.666731400Z"
        }
      },
      "outputs": [
        {
          "data": {
            "text/plain": [
              "langchain_core.documents.base.Document"
            ]
          },
          "execution_count": 3,
          "metadata": {},
          "output_type": "execute_result"
        }
      ],
      "source": [
        "type(md_header_splits[0])"
      ]
    },
    {
      "cell_type": "markdown",
      "id": "102aad57-7bef-42d3-ab4e-b50d6dc11718",
      "metadata": {},
      "source": [
        "默认情况下，`MarkdownHeaderTextSplitter` 会从输出块的内容中移除被分割的标题。通过设置 `strip_headers = False` 可以禁用此功能。"
      ]
    },
    {
      "cell_type": "code",
      "execution_count": 4,
      "id": "9fce45ba-a4be-4a69-ad27-f5ff195c4fd7",
      "metadata": {},
      "outputs": [
        {
          "data": {
            "text/plain": [
              "[Document(page_content='# Foo  \\n## Bar  \\nHi this is Jim  \\nHi this is Joe', metadata={'Header 1': 'Foo', 'Header 2': 'Bar'}),\n",
              " Document(page_content='### Boo  \\nHi this is Lance', metadata={'Header 1': 'Foo', 'Header 2': 'Bar', 'Header 3': 'Boo'}),\n",
              " Document(page_content='## Baz  \\nHi this is Molly', metadata={'Header 1': 'Foo', 'Header 2': 'Baz'})]"
            ]
          },
          "execution_count": 4,
          "metadata": {},
          "output_type": "execute_result"
        }
      ],
      "source": [
        "markdown_splitter = MarkdownHeaderTextSplitter(headers_to_split_on, strip_headers=False)\n",
        "md_header_splits = markdown_splitter.split_text(markdown_document)\n",
        "md_header_splits"
      ]
    },
    {
      "cell_type": "markdown",
      "id": "fb3f834a",
      "metadata": {},
      "source": [
        ":::note\n\n默认的 `MarkdownHeaderTextSplitter` 会去除空格和换行符。要保留 Markdown 文档的原始格式，请查看 [ExperimentalMarkdownSyntaxTextSplitter](https://python.langchain.com/api_reference/text_splitters/markdown/langchain_text_splitters.markdown.ExperimentalMarkdownSyntaxTextSplitter.html)。\n\n:::"
      ]
    },
    {
      "cell_type": "markdown",
      "id": "aa67e0cc-d721-4536-9c7a-9fa3a7a69cbe",
      "metadata": {},
      "source": [
        "### 如何将 Markdown 行作为单独的文档返回\n\n默认情况下，`MarkdownHeaderTextSplitter` 会根据 `headers_to_split_on` 中指定的标题来聚合行。我们可以通过指定 `return_each_line` 来禁用此行为："
      ]
    },
    {
      "cell_type": "code",
      "execution_count": 5,
      "id": "940bb609-c9c3-4593-ac2d-d825c80ceb44",
      "metadata": {},
      "outputs": [
        {
          "data": {
            "text/plain": [
              "[Document(page_content='Hi this is Jim', metadata={'Header 1': 'Foo', 'Header 2': 'Bar'}),\n",
              " Document(page_content='Hi this is Joe', metadata={'Header 1': 'Foo', 'Header 2': 'Bar'}),\n",
              " Document(page_content='Hi this is Lance', metadata={'Header 1': 'Foo', 'Header 2': 'Bar', 'Header 3': 'Boo'}),\n",
              " Document(page_content='Hi this is Molly', metadata={'Header 1': 'Foo', 'Header 2': 'Baz'})]"
            ]
          },
          "execution_count": 5,
          "metadata": {},
          "output_type": "execute_result"
        }
      ],
      "source": [
        "markdown_splitter = MarkdownHeaderTextSplitter(\n",
        "    headers_to_split_on,\n",
        "    return_each_line=True,\n",
        ")\n",
        "md_header_splits = markdown_splitter.split_text(markdown_document)\n",
        "md_header_splits"
      ]
    },
    {
      "cell_type": "markdown",
      "id": "9bd8977a",
      "metadata": {},
      "source": [
        "需要注意的是，这里的头部信息保留在每个文档的 `metadata` 中。\n\n### 如何约束分块大小：\n\n在每个 markdown 组内，我们可以应用任何我们想要的文本分割器，例如 `RecursiveCharacterTextSplitter`，它允许进一步控制分块大小。"
      ]
    },
    {
      "cell_type": "code",
      "execution_count": 6,
      "id": "6f1f62bf-2653-4361-9bb0-964d86cb14db",
      "metadata": {},
      "outputs": [
        {
          "data": {
            "text/plain": [
              "[Document(page_content='# Intro  \\n## History  \\nMarkdown[9] is a lightweight markup language for creating formatted text using a plain-text editor. John Gruber created Markdown in 2004 as a markup language that is appealing to human readers in its source code form.[9]', metadata={'Header 1': 'Intro', 'Header 2': 'History'}),\n",
              " Document(page_content='Markdown is widely used in blogging, instant messaging, online forums, collaborative software, documentation pages, and readme files.', metadata={'Header 1': 'Intro', 'Header 2': 'History'}),\n",
              " Document(page_content='## Rise and divergence  \\nAs Markdown popularity grew rapidly, many Markdown implementations appeared, driven mostly by the need for  \\nadditional features such as tables, footnotes, definition lists,[note 1] and Markdown inside HTML blocks.', metadata={'Header 1': 'Intro', 'Header 2': 'Rise and divergence'}),\n",
              " Document(page_content='#### Standardization  \\nFrom 2012, a group of people, including Jeff Atwood and John MacFarlane, launched what Atwood characterised as a standardisation effort.', metadata={'Header 1': 'Intro', 'Header 2': 'Rise and divergence'}),\n",
              " Document(page_content='## Implementations  \\nImplementations of Markdown are available for over a dozen programming languages.', metadata={'Header 1': 'Intro', 'Header 2': 'Implementations'})]"
            ]
          },
          "execution_count": 6,
          "metadata": {},
          "output_type": "execute_result"
        }
      ],
      "source": [
        "markdown_document = \"# Intro \\n\\n    ## History \\n\\n Markdown[9] is a lightweight markup language for creating formatted text using a plain-text editor. John Gruber created Markdown in 2004 as a markup language that is appealing to human readers in its source code form.[9] \\n\\n Markdown is widely used in blogging, instant messaging, online forums, collaborative software, documentation pages, and readme files. \\n\\n ## Rise and divergence \\n\\n As Markdown popularity grew rapidly, many Markdown implementations appeared, driven mostly by the need for \\n\\n additional features such as tables, footnotes, definition lists,[note 1] and Markdown inside HTML blocks. \\n\\n #### Standardization \\n\\n From 2012, a group of people, including Jeff Atwood and John MacFarlane, launched what Atwood characterised as a standardisation effort. \\n\\n ## Implementations \\n\\n Implementations of Markdown are available for over a dozen programming languages.\"\n",
        "\n",
        "headers_to_split_on = [\n",
        "    (\"#\", \"Header 1\"),\n",
        "    (\"##\", \"Header 2\"),\n",
        "]\n",
        "\n",
        "# MD splits\n",
        "markdown_splitter = MarkdownHeaderTextSplitter(\n",
        "    headers_to_split_on=headers_to_split_on, strip_headers=False\n",
        ")\n",
        "md_header_splits = markdown_splitter.split_text(markdown_document)\n",
        "\n",
        "# Char-level splits\n",
        "from langchain_text_splitters import RecursiveCharacterTextSplitter\n",
        "\n",
        "chunk_size = 250\n",
        "chunk_overlap = 30\n",
        "text_splitter = RecursiveCharacterTextSplitter(\n",
        "    chunk_size=chunk_size, chunk_overlap=chunk_overlap\n",
        ")\n",
        "\n",
        "# Split\n",
        "splits = text_splitter.split_documents(md_header_splits)\n",
        "splits"
      ]
    }
  ],
  "metadata": {
    "kernelspec": {
      "display_name": "Python 3 (ipykernel)",
      "language": "python",
      "name": "python3"
    },
    "language_info": {
      "codemirror_mode": {
        "name": "ipython",
        "version": 3
      },
      "file_extension": ".py",
      "mimetype": "text/x-python",
      "name": "python",
      "nbconvert_exporter": "python",
      "pygments_lexer": "ipython3",
      "version": "3.10.4"
    }
  },
  "nbformat": 4,
  "nbformat_minor": 5
}