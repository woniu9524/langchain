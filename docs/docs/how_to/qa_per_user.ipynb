{
  "cells": [
    {
      "cell_type": "markdown",
      "id": "14d3fd06",
      "metadata": {},
      "source": [
        "# 如何进行用户个性化检索\n\n本指南演示了如何配置检索链的运行时属性。一个示例应用场景是根据用户限制可用于[检索器](/docs/concepts/retrievers/)的文档。\n\n在构建[检索应用](/docs/concepts/rag/)时，您通常需要考虑多个用户。这意味着您可能存储的不仅仅是一个用户的数据，而是许多不同用户的数据，并且他们不应该能够看到彼此的数据。这意味着您需要能够配置检索链，以便仅检索某些信息。这通常涉及两个步骤。\n\n**步骤 1：确保您使用的检索器支持多个用户**\n\n目前，LangChain 中没有统一的标志或过滤器来实现这一点。相反，每个向量存储和检索器可能有自己的方式，并且其名称可能不同（例如命名空间、多租户等）。对于向量存储，这通常通过在调用 `similarity_search` 时传递的关键字参数来暴露。通过阅读文档或源代码，确定您使用的检索器是否支持多个用户，如果支持，则了解如何使用它。\n\n注意：为不支持（或未记录）多用户的检索器添加文档和/或支持是为 LangChain 做出贡献的绝佳方式。\n\n**步骤 2：将该参数添加为链的可配置字段**\n\n这将允许您轻松调用链并在运行时配置任何相关标志。有关配置的更多信息，请参阅[此文档](/docs/how_to/configure)。\n\n现在，在运行时，您可以使用可配置字段调用此链。\n\n## 代码示例\n\n让我们通过一个具体的代码示例来看看这是什么样子的。我们将在此示例中使用 Pinecone。\n\n要配置 Pinecone，请设置以下环境变量：\n\n- `PINECONE_API_KEY`: 您的 Pinecone API 密钥"
      ]
    },
    {
      "cell_type": "code",
      "execution_count": 2,
      "id": "7345de3c",
      "metadata": {},
      "outputs": [
        {
          "data": {
            "text/plain": [
              "['f907aab7-77c7-4347-acc2-6859f8142f92']"
            ]
          },
          "execution_count": 2,
          "metadata": {},
          "output_type": "execute_result"
        }
      ],
      "source": [
        "from langchain_openai import OpenAIEmbeddings\n",
        "from langchain_pinecone import PineconeVectorStore\n",
        "\n",
        "embeddings = OpenAIEmbeddings()\n",
        "vectorstore = PineconeVectorStore(index_name=\"test-example\", embedding=embeddings)\n",
        "\n",
        "vectorstore.add_texts([\"I worked at Kensho\"], namespace=\"harrison\")\n",
        "vectorstore.add_texts([\"I worked at Facebook\"], namespace=\"ankush\")"
      ]
    },
    {
      "cell_type": "markdown",
      "id": "39c11920",
      "metadata": {},
      "source": [
        "`namespace` 参数可以用来分隔文档"
      ]
    },
    {
      "cell_type": "code",
      "execution_count": 4,
      "id": "51676afa-2c9b-4f35-b2f0-accf34bb93f1",
      "metadata": {},
      "outputs": [
        {
          "data": {
            "text/plain": [
              "[Document(id='f907aab7-77c7-4347-acc2-6859f8142f92', metadata={}, page_content='I worked at Facebook')]"
            ]
          },
          "execution_count": 4,
          "metadata": {},
          "output_type": "execute_result"
        }
      ],
      "source": [
        "# This will only get documents for Ankush\n",
        "vectorstore.as_retriever(search_kwargs={\"namespace\": \"ankush\"}).invoke(\n",
        "    \"where did i work?\"\n",
        ")"
      ]
    },
    {
      "cell_type": "code",
      "execution_count": 5,
      "id": "56393baa",
      "metadata": {},
      "outputs": [
        {
          "data": {
            "text/plain": [
              "[Document(id='16061fc5-c6fc-4f45-a3b3-23469d7996af', metadata={}, page_content='I worked at Kensho')]"
            ]
          },
          "execution_count": 5,
          "metadata": {},
          "output_type": "execute_result"
        }
      ],
      "source": [
        "# This will only get documents for Harrison\n",
        "vectorstore.as_retriever(search_kwargs={\"namespace\": \"harrison\"}).invoke(\n",
        "    \"where did i work?\"\n",
        ")"
      ]
    },
    {
      "cell_type": "markdown",
      "id": "88ae97ed",
      "metadata": {},
      "source": [
        "现在，我们可以创建将用于进行问答的链。\n\n首先，让我们选择一个 LLM。\n\nimport ChatModelTabs from \"@theme/ChatModelTabs\";\n\n<ChatModelTabs customVarName=\"llm\" />"
      ]
    },
    {
      "cell_type": "code",
      "execution_count": 6,
      "id": "68162d05",
      "metadata": {},
      "outputs": [],
      "source": [
        "# | output: false\n",
        "# | echo: false\n",
        "\n",
        "from langchain_openai import ChatOpenAI\n",
        "\n",
        "llm = ChatOpenAI(model=\"gpt-4o-mini\")"
      ]
    },
    {
      "cell_type": "markdown",
      "id": "b6778ffa",
      "metadata": {},
      "source": [
        "这将遵循 [RAG 教程](/docs/tutorials/rag) 中的基本实现，但我们将允许检索步骤可配置。"
      ]
    },
    {
      "cell_type": "code",
      "execution_count": 7,
      "id": "44a865f6",
      "metadata": {},
      "outputs": [],
      "source": [
        "from langchain_core.prompts import ChatPromptTemplate\n",
        "from langchain_core.runnables import ConfigurableField\n",
        "\n",
        "template = \"\"\"Answer the question based only on the following context:\n",
        "{context}\n",
        "Question: {question}\n",
        "\"\"\"\n",
        "prompt = ChatPromptTemplate.from_template(template)\n",
        "\n",
        "retriever = vectorstore.as_retriever()"
      ]
    },
    {
      "cell_type": "markdown",
      "id": "72125166",
      "metadata": {},
      "source": [
        "在这里，我们将检索器标记为一个具有可配置字段的对象。所有向量存储检索器都有一个 `search_kwargs` 字段。这只是一个字典，其中包含向量存储特定的字段。\n\n这将允许我们在调用链时传入 `search_kwargs` 的值。"
      ]
    },
    {
      "cell_type": "code",
      "execution_count": 8,
      "id": "babbadff",
      "metadata": {},
      "outputs": [],
      "source": [
        "configurable_retriever = retriever.configurable_fields(\n",
        "    search_kwargs=ConfigurableField(\n",
        "        id=\"search_kwargs\",\n",
        "        name=\"Search Kwargs\",\n",
        "        description=\"The search kwargs to use\",\n",
        "    )\n",
        ")"
      ]
    },
    {
      "cell_type": "markdown",
      "id": "2d481b70",
      "metadata": {},
      "source": [
        "现在，我们可以使用可配置的检索器来创建链。"
      ]
    },
    {
      "cell_type": "code",
      "execution_count": 9,
      "id": "b21d1ac6-a25c-416d-b411-bf33203b53d0",
      "metadata": {},
      "outputs": [],
      "source": [
        "from langchain_core.documents import Document\n",
        "from langchain_core.runnables import RunnableConfig\n",
        "from langgraph.graph import START, StateGraph\n",
        "from typing_extensions import List, TypedDict\n",
        "\n",
        "\n",
        "class State(TypedDict):\n",
        "    question: str\n",
        "    context: List[Document]\n",
        "    answer: str\n",
        "\n",
        "\n",
        "# highlight-next-line\n",
        "def retrieve(state: State, config: RunnableConfig):\n",
        "    # highlight-next-line\n",
        "    retrieved_docs = configurable_retriever.invoke(state[\"question\"], config)\n",
        "    return {\"context\": retrieved_docs}\n",
        "\n",
        "\n",
        "def generate(state: State):\n",
        "    docs_content = \"\\n\\n\".join(doc.page_content for doc in state[\"context\"])\n",
        "    messages = prompt.invoke({\"question\": state[\"question\"], \"context\": docs_content})\n",
        "    response = llm.invoke(messages)\n",
        "    return {\"answer\": response.content}\n",
        "\n",
        "\n",
        "graph_builder = StateGraph(State).add_sequence([retrieve, generate])\n",
        "graph_builder.add_edge(START, \"retrieve\")\n",
        "graph = graph_builder.compile()"
      ]
    },
    {
      "cell_type": "code",
      "execution_count": 10,
      "id": "067d0eaf-a8f8-4a2c-8f55-028b5ea93a55",
      "metadata": {},
      "outputs": [
        {
          "data": {
            "image/png": "[encoded data removed]",
            "text/plain": [
              "<IPython.core.display.Image object>"
            ]
          },
          "metadata": {},
          "output_type": "display_data"
        }
      ],
      "source": [
        "from IPython.display import Image, display\n",
        "\n",
        "display(Image(graph.get_graph().draw_mermaid_png()))"
      ]
    },
    {
      "cell_type": "markdown",
      "id": "eeaff86a-d9fe-4836-ad83-55490334f423",
      "metadata": {},
      "source": [
        "我们现在可以配置选项来调用链。`search_kwargs` 是可配置字段的 id。其值是用于 Pinecone 的搜索 kwargs。"
      ]
    },
    {
      "cell_type": "code",
      "execution_count": 13,
      "id": "d0eaa304-40da-489f-b79e-1c9329ad43ce",
      "metadata": {},
      "outputs": [
        {
          "data": {
            "text/plain": [
              "{'question': 'Where did the user work?',\n",
              " 'context': [Document(id='16061fc5-c6fc-4f45-a3b3-23469d7996af', metadata={}, page_content='I worked at Kensho')],\n",
              " 'answer': 'The user worked at Kensho.'}"
            ]
          },
          "execution_count": 13,
          "metadata": {},
          "output_type": "execute_result"
        }
      ],
      "source": [
        "result = graph.invoke(\n",
        "    {\"question\": \"Where did the user work?\"},\n",
        "    config={\"configurable\": {\"search_kwargs\": {\"namespace\": \"harrison\"}}},\n",
        ")\n",
        "\n",
        "result"
      ]
    },
    {
      "cell_type": "code",
      "execution_count": 14,
      "id": "3db2444a-c924-4f5c-b03f-a1a77b48c76f",
      "metadata": {},
      "outputs": [
        {
          "data": {
            "text/plain": [
              "{'question': 'Where did the user work?',\n",
              " 'context': [Document(id='f907aab7-77c7-4347-acc2-6859f8142f92', metadata={}, page_content='I worked at Facebook')],\n",
              " 'answer': 'The user worked at Facebook.'}"
            ]
          },
          "execution_count": 14,
          "metadata": {},
          "output_type": "execute_result"
        }
      ],
      "source": [
        "result = graph.invoke(\n",
        "    {\"question\": \"Where did the user work?\"},\n",
        "    config={\"configurable\": {\"search_kwargs\": {\"namespace\": \"ankush\"}}},\n",
        ")\n",
        "\n",
        "result"
      ]
    },
    {
      "cell_type": "markdown",
      "id": "44b4ae47-2bf8-4a9c-98f6-a8bd6ecbe4fd",
      "metadata": {},
      "source": [
        "如需了解操作特定向量存储的详细信息，请参阅[集成页面](/docs/integrations/vectorstores/)。"
      ]
    }
  ],
  "metadata": {
    "kernelspec": {
      "display_name": "Python 3 (ipykernel)",
      "language": "python",
      "name": "python3"
    },
    "language_info": {
      "codemirror_mode": {
        "name": "ipython",
        "version": 3
      },
      "file_extension": ".py",
      "mimetype": "text/x-python",
      "name": "python",
      "nbconvert_exporter": "python",
      "pygments_lexer": "ipython3",
      "version": "3.10.4"
    }
  },
  "nbformat": 4,
  "nbformat_minor": 5
}