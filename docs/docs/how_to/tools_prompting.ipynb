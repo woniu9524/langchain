{
  "cells": [
    {
      "cell_type": "raw",
      "id": "3243cb05-8243-421f-99fa-98201abb3094",
      "metadata": {},
      "source": [
        "---\n",
        "sidebar_position: 3\n",
        "---"
      ]
    },
    {
      "cell_type": "markdown",
      "id": "14b94240",
      "metadata": {},
      "source": [
        "# 如何为 LLM 和聊天模型添加临时工具调用功能\n\n:::caution\n\n一些模型已经针对工具调用进行了微调，并提供了专门的工具调用 API。通常，这类模型比未进行微调的模型在工具调用方面表现更好，建议用于需要工具调用的用例。有关更多信息，请参阅[如何使用聊天模型调用工具](/docs/how_to/tool_calling)指南。\n\n:::\n\n:::info 先决条件\n\n本指南假设您熟悉以下概念：\n\n- [LangChain 工具](/docs/concepts/tools)\n- [函数/工具调用](https://python.langchain.com/docs/concepts/tool_calling)\n- [聊天模型](/docs/concepts/chat_models)\n- [LLM](/docs/concepts/text_llms)\n\n:::\n\n在本指南中，我们将了解如何为聊天模型添加**临时**工具调用支持。如果您使用的模型不原生支持[工具调用](/docs/how_to/tool_calling)，则可以使用此方法来调用工具。\n\n我们将通过编写一个提示来实现这一点，该提示将让模型调用适当的工具。这是逻辑图：\n\n![chain](../../static/img/tool_chain.svg)"
      ]
    },
    {
      "cell_type": "markdown",
      "id": "a0a22cb8-19e7-450a-9d1b-6848d2c81cd1",
      "metadata": {},
      "source": [
        "## 设置\n\n我们需要安装以下包："
      ]
    },
    {
      "cell_type": "code",
      "execution_count": null,
      "id": "8c556c5e-b785-428b-8e7d-efd34a2a1adb",
      "metadata": {},
      "outputs": [],
      "source": [
        "%pip install --upgrade --quiet langchain langchain-community"
      ]
    },
    {
      "cell_type": "markdown",
      "id": "897bc01e-cc2b-4400-8a64-db4aa56085d3",
      "metadata": {},
      "source": [
        "如果你想使用 LangSmith，请取消下面的注释："
      ]
    },
    {
      "cell_type": "code",
      "execution_count": 26,
      "id": "5efb4170-b95b-4d29-8f57-09509f3ba6df",
      "metadata": {},
      "outputs": [],
      "source": [
        "import getpass\n",
        "import os\n",
        "# os.environ[\"LANGSMITH_TRACING\"] = \"true\"\n",
        "# os.environ[\"LANGSMITH_API_KEY\"] = getpass.getpass()"
      ]
    },
    {
      "cell_type": "markdown",
      "id": "7ec6409b-21e5-4d0a-8a46-c4ef0b055dd3",
      "metadata": {},
      "source": [
        "您可以为本操作指南选择任何提供的模型。请注意，其中大多数模型已[支持原生工具调用](/docs/integrations/chat/)，因此使用此处所示的提示策略对这些模型没有意义，您应该遵循[如何使用聊天模型调用工具](/docs/how_to/tool_calling)指南。\n\nimport ChatModelTabs from \"@theme/ChatModelTabs\";\n\n<ChatModelTabs overrideParams={{openai: {model: \"gpt-4\"}}} />\n\n为了说明这个想法，我们将通过 Ollama 使用 `phi3`，它**不**支持原生工具调用。如果您也想使用 `Ollama`，请遵循[这些说明](/docs/integrations/chat/ollama/)。"
      ]
    },
    {
      "cell_type": "code",
      "execution_count": 24,
      "id": "424be968-2806-4d1a-a6aa-5499ae20fac5",
      "metadata": {},
      "outputs": [],
      "source": [
        "from langchain_community.llms import Ollama\n",
        "\n",
        "model = Ollama(model=\"phi3\")"
      ]
    },
    {
      "cell_type": "markdown",
      "id": "68946881",
      "metadata": {},
      "source": [
        "要创建工具，您需要有一个包含 `name` 和 `description` 键的 JSON 对象。\n\n以下是创建 `add` 和 `multiply` 工具的示例：\n\n```json\n[\n  {\n    \"name\": \"add\",\n    \"description\": \"Adds two numbers together.\"\n  },\n  {\n    \"name\": \"multiply\",\n    \"description\": \"Multiplies two numbers"
      ]
    },
    {
      "cell_type": "code",
      "execution_count": 4,
      "id": "4548e6fa-0f9b-4d7a-8fa5-66cec0350e5f",
      "metadata": {},
      "outputs": [
        {
          "name": "stdout",
          "output_type": "stream",
          "text": [
            "--\n",
            "multiply\n",
            "Multiply two numbers together.\n",
            "{'x': {'title': 'X', 'type': 'number'}, 'y': {'title': 'Y', 'type': 'number'}}\n",
            "--\n",
            "add\n",
            "Add two numbers.\n",
            "{'x': {'title': 'X', 'type': 'integer'}, 'y': {'title': 'Y', 'type': 'integer'}}\n"
          ]
        }
      ],
      "source": [
        "from langchain_core.tools import tool\n",
        "\n",
        "\n",
        "@tool\n",
        "def multiply(x: float, y: float) -> float:\n",
        "    \"\"\"Multiply two numbers together.\"\"\"\n",
        "    return x * y\n",
        "\n",
        "\n",
        "@tool\n",
        "def add(x: int, y: int) -> int:\n",
        "    \"Add two numbers.\"\n",
        "    return x + y\n",
        "\n",
        "\n",
        "tools = [multiply, add]\n",
        "\n",
        "# Let's inspect the tools\n",
        "for t in tools:\n",
        "    print(\"--\")\n",
        "    print(t.name)\n",
        "    print(t.description)\n",
        "    print(t.args)"
      ]
    },
    {
      "cell_type": "code",
      "execution_count": 5,
      "id": "be77e780",
      "metadata": {},
      "outputs": [
        {
          "data": {
            "text/plain": [
              "20.0"
            ]
          },
          "execution_count": 5,
          "metadata": {},
          "output_type": "execute_result"
        }
      ],
      "source": [
        "multiply.invoke({\"x\": 4, \"y\": 5})"
      ]
    },
    {
      "cell_type": "markdown",
      "id": "15dd690e-e54d-4209-91a4-181f69a452ac",
      "metadata": {},
      "source": [
        "## 创建我们的提示词\n\n我们将编写一个提示词，用于指定模型可以使用的工具、这些工具的参数以及模型所需的输出格式。在本例中，我们将指示模型输出一个 JSON 块，其格式为 `{\"name\": \"...\", \"arguments\": {...}}`。"
      ]
    },
    {
      "cell_type": "code",
      "execution_count": 6,
      "id": "2063b564-25ca-4729-a45f-ba4633175b04",
      "metadata": {},
      "outputs": [
        {
          "name": "stdout",
          "output_type": "stream",
          "text": [
            "multiply(x: float, y: float) -> float - Multiply two numbers together.\n",
            "add(x: int, y: int) -> int - Add two numbers.\n"
          ]
        }
      ],
      "source": [
        "from langchain_core.output_parsers import JsonOutputParser\n",
        "from langchain_core.prompts import ChatPromptTemplate\n",
        "from langchain_core.tools import render_text_description\n",
        "\n",
        "rendered_tools = render_text_description(tools)\n",
        "print(rendered_tools)"
      ]
    },
    {
      "cell_type": "code",
      "execution_count": 17,
      "id": "f02f1dce-76e7-4ca9-9bac-5af496131fe1",
      "metadata": {},
      "outputs": [],
      "source": [
        "system_prompt = f\"\"\"\\\n",
        "You are an assistant that has access to the following set of tools. \n",
        "Here are the names and descriptions for each tool:\n",
        "\n",
        "{rendered_tools}\n",
        "\n",
        "Given the user input, return the name and input of the tool to use. \n",
        "Return your response as a JSON blob with 'name' and 'arguments' keys.\n",
        "\n",
        "The `arguments` should be a dictionary, with keys corresponding \n",
        "to the argument names and the values corresponding to the requested values.\n",
        "\"\"\"\n",
        "\n",
        "prompt = ChatPromptTemplate.from_messages(\n",
        "    [(\"system\", system_prompt), (\"user\", \"{input}\")]\n",
        ")"
      ]
    },
    {
      "cell_type": "code",
      "execution_count": 18,
      "id": "f8623e03-60eb-4439-b57b-ecbcebc61b58",
      "metadata": {},
      "outputs": [
        {
          "name": "stdout",
          "output_type": "stream",
          "text": [
            "{\n",
            "    \"name\": \"add\",\n",
            "    \"arguments\": {\n",
            "        \"x\": 3,\n",
            "        \"y\": 1132\n",
            "    }\n",
            "}\n"
          ]
        }
      ],
      "source": [
        "chain = prompt | model\n",
        "message = chain.invoke({\"input\": \"what's 3 plus 1132\"})\n",
        "\n",
        "# Let's take a look at the output from the model\n",
        "# if the model is an LLM (not a chat model), the output will be a string.\n",
        "if isinstance(message, str):\n",
        "    print(message)\n",
        "else:  # Otherwise it's a chat model\n",
        "    print(message.content)"
      ]
    },
    {
      "cell_type": "markdown",
      "id": "14df2cd5-b6fa-4b10-892d-e8692c7931e5",
      "metadata": {},
      "source": [
        "## 添加输出解析器\n\n我们将使用 `JsonOutputParser` 来将模型的输出解析为 JSON。"
      ]
    },
    {
      "cell_type": "code",
      "execution_count": 19,
      "id": "f129f5bd-127c-4c95-8f34-8f437da7ca8f",
      "metadata": {},
      "outputs": [
        {
          "data": {
            "text/plain": [
              "{'name': 'multiply', 'arguments': {'x': 13.0, 'y': 4.0}}"
            ]
          },
          "execution_count": 19,
          "metadata": {},
          "output_type": "execute_result"
        }
      ],
      "source": [
        "from langchain_core.output_parsers import JsonOutputParser\n",
        "\n",
        "chain = prompt | model | JsonOutputParser()\n",
        "chain.invoke({\"input\": \"what's thirteen times 4\"})"
      ]
    },
    {
      "cell_type": "markdown",
      "id": "e1f08255-f146-4f4a-be43-5c21c1d3ae83",
      "metadata": {},
      "source": [
        ":::important\n\n🎉 太棒了！🎉 我们现在已经指导模型如何**请求**调用工具了。\n\n现在，让我们来创建一些实际运行工具的逻辑！\n:::"
      ]
    },
    {
      "cell_type": "markdown",
      "id": "8e29dd4c-8eb5-457f-92d1-8add076404dc",
      "metadata": {},
      "source": [
        "## 调用工具 🏃\n\n模型现在可以请求调用工具了，接下来我们需要编写一个函数来实际调用该工具。\n\n该函数将根据名称选择合适的工具，并将模型选择的参数传递给它。"
      ]
    },
    {
      "cell_type": "code",
      "execution_count": 20,
      "id": "faee95e0-4095-4310-991f-9e9465c6738e",
      "metadata": {},
      "outputs": [],
      "source": [
        "from typing import Any, Dict, Optional, TypedDict\n",
        "\n",
        "from langchain_core.runnables import RunnableConfig\n",
        "\n",
        "\n",
        "class ToolCallRequest(TypedDict):\n",
        "    \"\"\"A typed dict that shows the inputs into the invoke_tool function.\"\"\"\n",
        "\n",
        "    name: str\n",
        "    arguments: Dict[str, Any]\n",
        "\n",
        "\n",
        "def invoke_tool(\n",
        "    tool_call_request: ToolCallRequest, config: Optional[RunnableConfig] = None\n",
        "):\n",
        "    \"\"\"A function that we can use the perform a tool invocation.\n",
        "\n",
        "    Args:\n",
        "        tool_call_request: a dict that contains the keys name and arguments.\n",
        "            The name must match the name of a tool that exists.\n",
        "            The arguments are the arguments to that tool.\n",
        "        config: This is configuration information that LangChain uses that contains\n",
        "            things like callbacks, metadata, etc.See LCEL documentation about RunnableConfig.\n",
        "\n",
        "    Returns:\n",
        "        output from the requested tool\n",
        "    \"\"\"\n",
        "    tool_name_to_tool = {tool.name: tool for tool in tools}\n",
        "    name = tool_call_request[\"name\"]\n",
        "    requested_tool = tool_name_to_tool[name]\n",
        "    return requested_tool.invoke(tool_call_request[\"arguments\"], config=config)"
      ]
    },
    {
      "cell_type": "markdown",
      "id": "f4957532-9e0c-47f6-bb62-0fd789ac1d3e",
      "metadata": {},
      "source": [
        "让我们来试试这个 🧪！"
      ]
    },
    {
      "cell_type": "code",
      "execution_count": 21,
      "id": "d0ea3b2a-8fb2-4016-83c8-a5d3e78fedbc",
      "metadata": {},
      "outputs": [
        {
          "data": {
            "text/plain": [
              "15.0"
            ]
          },
          "execution_count": 21,
          "metadata": {},
          "output_type": "execute_result"
        }
      ],
      "source": [
        "invoke_tool({\"name\": \"multiply\", \"arguments\": {\"x\": 3, \"y\": 5}})"
      ]
    },
    {
      "cell_type": "markdown",
      "id": "715af6e1-935d-4bc0-a3d2-646ecf8a329b",
      "metadata": {},
      "source": [
        "## 整合起来\n\n让我们将它们整合起来，创建一个既能进行加法又能进行乘法的计算器。"
      ]
    },
    {
      "cell_type": "code",
      "execution_count": 22,
      "id": "0555b384-fde6-4404-86e0-7ea199003d58",
      "metadata": {},
      "outputs": [
        {
          "data": {
            "text/plain": [
              "53.83784653"
            ]
          },
          "execution_count": 22,
          "metadata": {},
          "output_type": "execute_result"
        }
      ],
      "source": [
        "chain = prompt | model | JsonOutputParser() | invoke_tool\n",
        "chain.invoke({\"input\": \"what's thirteen times 4.14137281\"})"
      ]
    },
    {
      "cell_type": "markdown",
      "id": "b4a9c5aa-f60a-4017-af6f-1ff6e04bfb61",
      "metadata": {},
      "source": [
        "## 返回工具输入\n\n不仅返回工具输出，还能返回工具输入也是很有帮助的。我们可以通过使`RunnablePassthrough.assign`工具输出来轻松实现这一点。这将采用RunnablePassrthrough组件的输入（假定为一个字典），并在其中添加一个键，同时仍然传递输入中当前的所有内容："
      ]
    },
    {
      "cell_type": "code",
      "execution_count": 23,
      "id": "45404406-859d-4caa-8b9d-5838162c80a0",
      "metadata": {},
      "outputs": [
        {
          "data": {
            "text/plain": [
              "{'name': 'multiply',\n",
              " 'arguments': {'x': 13, 'y': 4.14137281},\n",
              " 'output': 53.83784653}"
            ]
          },
          "execution_count": 23,
          "metadata": {},
          "output_type": "execute_result"
        }
      ],
      "source": [
        "from langchain_core.runnables import RunnablePassthrough\n",
        "\n",
        "chain = (\n",
        "    prompt | model | JsonOutputParser() | RunnablePassthrough.assign(output=invoke_tool)\n",
        ")\n",
        "chain.invoke({\"input\": \"what's thirteen times 4.14137281\"})"
      ]
    },
    {
      "cell_type": "markdown",
      "id": "1797fe82-ea35-4cba-834a-1caf9740d184",
      "metadata": {},
      "source": [
        "## 接下来的步骤\n\n本操作指南展示了模型正确输出所有必需工具信息的“理想路径”。\n\n实际上，如果您使用更复杂的工具，您将开始遇到模型输出的错误，特别是对于未经微调以支持工具调用且能力较低的模型。\n\n您需要准备好添加策略来改进模型的输出；例如：\n\n1. 提供少样本示例。\n2. 添加错误处理（例如，捕获异常并将其反馈给 LLM，要求它纠正之前的输出）。"
      ]
    }
  ],
  "metadata": {
    "kernelspec": {
      "display_name": "Python 3 (ipykernel)",
      "language": "python",
      "name": "python3"
    },
    "language_info": {
      "codemirror_mode": {
        "name": "ipython",
        "version": 3
      },
      "file_extension": ".py",
      "mimetype": "text/x-python",
      "name": "python",
      "nbconvert_exporter": "python",
      "pygments_lexer": "ipython3",
      "version": "3.11.4"
    }
  },
  "nbformat": 4,
  "nbformat_minor": 5
}