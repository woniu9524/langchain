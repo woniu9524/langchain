{
  "cells": [
    {
      "cell_type": "raw",
      "id": "02a1c8fb",
      "metadata": {},
      "source": [
        "---\n",
        "sidebar_position: 5\n",
        "---"
      ]
    },
    {
      "cell_type": "markdown",
      "id": "4de4e022",
      "metadata": {},
      "source": [
        "# 如何组合提示词\n\n:::info 先决条件\n\n本指南假定您已熟悉以下概念：\n- [提示词模板](/docs/concepts/prompt_templates)\n\n:::\n\nLangChain 提供了一个用户友好的界面，用于将不同的 [提示词](/docs/concepts/prompt_templates/) 部分组合在一起。您可以使用字符串提示词或聊天提示词来完成此操作。通过这种方式构建提示词，可以方便地复用组件。"
      ]
    },
    {
      "cell_type": "markdown",
      "id": "c3190650",
      "metadata": {},
      "source": [
        "## 字符串提示组合\n\n在使用字符串提示时，每个模板会被连接在一起。你可以直接使用提示，或者使用字符串（列表中的第一个元素需要是一个提示）。"
      ]
    },
    {
      "cell_type": "code",
      "execution_count": 1,
      "id": "69b17f05",
      "metadata": {},
      "outputs": [
        {
          "data": {
            "text/plain": [
              "PromptTemplate(input_variables=['language', 'topic'], template='Tell me a joke about {topic}, make it funny\\n\\nand in {language}')"
            ]
          },
          "execution_count": 1,
          "metadata": {},
          "output_type": "execute_result"
        }
      ],
      "source": [
        "from langchain_core.prompts import PromptTemplate\n",
        "\n",
        "prompt = (\n",
        "    PromptTemplate.from_template(\"Tell me a joke about {topic}\")\n",
        "    + \", make it funny\"\n",
        "    + \"\\n\\nand in {language}\"\n",
        ")\n",
        "\n",
        "prompt"
      ]
    },
    {
      "cell_type": "code",
      "execution_count": 2,
      "id": "dbba24ba",
      "metadata": {},
      "outputs": [
        {
          "data": {
            "text/plain": [
              "'Tell me a joke about sports, make it funny\\n\\nand in spanish'"
            ]
          },
          "execution_count": 2,
          "metadata": {},
          "output_type": "execute_result"
        }
      ],
      "source": [
        "prompt.format(topic=\"sports\", language=\"spanish\")"
      ]
    },
    {
      "cell_type": "markdown",
      "id": "4e4f6a8a",
      "metadata": {},
      "source": [
        "## Chat 提示词组合\n\nHere's how to compose a"
      ]
    },
    {
      "cell_type": "markdown",
      "id": "8554bae5",
      "metadata": {},
      "source": [
        "聊天提示由消息列表组成。与上面的示例类似，我们可以串联聊天提示模板。每个新元素都是最终提示中的一条新消息。\n\n首先，我们使用 [`SystemMessage`](https://python.langchain.com/api_reference/core/messages/langchain_core.messages.system.SystemMessage.html) 初始化一个 [`ChatPromptTemplate`](https://python.langchain.com/api_reference/core/prompts/langchain_core.prompts.chat.ChatPromptTemplate.html)。"
      ]
    },
    {
      "cell_type": "code",
      "execution_count": 3,
      "id": "cab8dd65",
      "metadata": {},
      "outputs": [],
      "source": [
        "from langchain_core.messages import AIMessage, HumanMessage, SystemMessage\n",
        "\n",
        "prompt = SystemMessage(content=\"You are a nice pirate\")"
      ]
    },
    {
      "cell_type": "markdown",
      "id": "30656ef8",
      "metadata": {},
      "source": [
        "之后，你可以轻松地将它与其它消息或消息模板结合起来，创建一个管道。\n\n当没有需要格式化的变量时，使用 `Message`；当有需要格式化的变量时，使用 `MessageTemplate`。你也可以仅使用字符串（注意：这会自动推断为 [`HumanMessagePromptTemplate`](https://python.langchain.com/api_reference/core/prompts/langchain_core.prompts.chat.HumanMessagePromptTemplate.html)）。"
      ]
    },
    {
      "cell_type": "code",
      "execution_count": 4,
      "id": "a2ddd0a1",
      "metadata": {},
      "outputs": [],
      "source": [
        "new_prompt = (\n",
        "    prompt + HumanMessage(content=\"hi\") + AIMessage(content=\"what?\") + \"{input}\"\n",
        ")"
      ]
    },
    {
      "cell_type": "markdown",
      "id": "72294e1b",
      "metadata": {},
      "source": [
        "在底层，这会创建一个 `ChatPromptTemplate` 类的实例，所以你可以像之前一样使用它！"
      ]
    },
    {
      "cell_type": "code",
      "execution_count": 5,
      "id": "297932de",
      "metadata": {},
      "outputs": [
        {
          "data": {
            "text/plain": [
              "[SystemMessage(content='You are a nice pirate'),\n",
              " HumanMessage(content='hi'),\n",
              " AIMessage(content='what?'),\n",
              " HumanMessage(content='i said hi')]"
            ]
          },
          "execution_count": 5,
          "metadata": {},
          "output_type": "execute_result"
        }
      ],
      "source": [
        "new_prompt.format_messages(input=\"i said hi\")"
      ]
    },
    {
      "cell_type": "markdown",
      "id": "0e1d47e3-b05a-4aef-a58c-3057fa628c1c",
      "metadata": {},
      "source": [
        "## 使用 PipelinePrompt"
      ]
    },
    {
      "cell_type": "markdown",
      "id": "8ccadbae",
      "metadata": {},
      "source": [
        ":::warning 已弃用\n\nPipelinePromptTemplate 已弃用；有关更多信息，请参阅 [PipelinePromptTemplate](https://python.langchain.com/api_reference/core/prompts/langchain_core.prompts.pipeline.PipelinePromptTemplate.html)。\n\n:::"
      ]
    },
    {
      "cell_type": "markdown",
      "id": "0a5892f9-e4d8-4b7c-b6a5-4651539b9734",
      "metadata": {},
      "source": [
        "LangChain 包含一个名为 [`PipelinePromptTemplate`](https://python.langchain.com/api_reference/core/prompts/langchain_core.prompts.pipeline.PipelinePromptTemplate.html) 的类，当您想重用提示的某些部分时，它会很有用。PipelinePrompt 由两部分组成：\n\n- Final prompt: 返回的最终提示\n- Pipeline prompts: 一个元组列表，由一个字符串名称和一个提示模板组成。每个提示模板都会被格式化，然后作为同名变量传递给后续的提示模板。"
      ]
    },
    {
      "cell_type": "code",
      "execution_count": 6,
      "id": "4face631-74d7-49ca-93b1-1e6e66fa58e2",
      "metadata": {},
      "outputs": [
        {
          "data": {
            "text/plain": [
              "['person', 'example_a', 'example_q', 'input']"
            ]
          },
          "execution_count": 6,
          "metadata": {},
          "output_type": "execute_result"
        }
      ],
      "source": [
        "from langchain_core.prompts import PipelinePromptTemplate, PromptTemplate\n",
        "\n",
        "full_template = \"\"\"{introduction}\n",
        "\n",
        "{example}\n",
        "\n",
        "{start}\"\"\"\n",
        "full_prompt = PromptTemplate.from_template(full_template)\n",
        "\n",
        "introduction_template = \"\"\"You are impersonating {person}.\"\"\"\n",
        "introduction_prompt = PromptTemplate.from_template(introduction_template)\n",
        "\n",
        "example_template = \"\"\"Here's an example of an interaction:\n",
        "\n",
        "Q: {example_q}\n",
        "A: {example_a}\"\"\"\n",
        "example_prompt = PromptTemplate.from_template(example_template)\n",
        "\n",
        "start_template = \"\"\"Now, do this for real!\n",
        "\n",
        "Q: {input}\n",
        "A:\"\"\"\n",
        "start_prompt = PromptTemplate.from_template(start_template)\n",
        "\n",
        "input_prompts = [\n",
        "    (\"introduction\", introduction_prompt),\n",
        "    (\"example\", example_prompt),\n",
        "    (\"start\", start_prompt),\n",
        "]\n",
        "pipeline_prompt = PipelinePromptTemplate(\n",
        "    final_prompt=full_prompt, pipeline_prompts=input_prompts\n",
        ")\n",
        "\n",
        "pipeline_prompt.input_variables"
      ]
    },
    {
      "cell_type": "code",
      "execution_count": 7,
      "id": "c6cabb16-ea30-4de0-8548-dcce84df8421",
      "metadata": {},
      "outputs": [
        {
          "name": "stdout",
          "output_type": "stream",
          "text": [
            "You are impersonating Elon Musk.\n",
            "\n",
            "Here's an example of an interaction:\n",
            "\n",
            "Q: What's your favorite car?\n",
            "A: Tesla\n",
            "\n",
            "Now, do this for real!\n",
            "\n",
            "Q: What's your favorite social media site?\n",
            "A:\n"
          ]
        }
      ],
      "source": [
        "print(\n",
        "    pipeline_prompt.format(\n",
        "        person=\"Elon Musk\",\n",
        "        example_q=\"What's your favorite car?\",\n",
        "        example_a=\"Tesla\",\n",
        "        input=\"What's your favorite social media site?\",\n",
        "    )\n",
        ")"
      ]
    },
    {
      "cell_type": "markdown",
      "id": "96922030",
      "metadata": {},
      "source": [
        "## 后续步骤\n\n现在你已经学会了如何组合提示词。\n\n接下来，请查看本节中关于提示词模板的其它操作指南，例如[为提示词模板添加少样本示例](/docs/how_to/few_shot_examples_chat)。"
      ]
    }
  ],
  "metadata": {
    "kernelspec": {
      "display_name": "Python 3 (ipykernel)",
      "language": "python",
      "name": "python3"
    },
    "language_info": {
      "codemirror_mode": {
        "name": "ipython",
        "version": 3
      },
      "file_extension": ".py",
      "mimetype": "text/x-python",
      "name": "python",
      "nbconvert_exporter": "python",
      "pygments_lexer": "ipython3",
      "version": "3.9.1"
    }
  },
  "nbformat": 4,
  "nbformat_minor": 5
}