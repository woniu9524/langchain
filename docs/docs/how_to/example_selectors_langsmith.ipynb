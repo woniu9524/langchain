{
  "cells": [
    {
      "cell_type": "markdown",
      "id": "4f7e423b",
      "metadata": {},
      "source": [
        "# 如何从 LangSmith 数据集中选择示例\n\nimport Prerequisites from \"@theme/Prerequisites\";\nimport Compatibility from \"@theme/Compatibility\";\n\n<Prerequisites titlesAndLinks={[\n  [\"Chat models\", \"/docs/concepts/chat_models\"],\n  [\"Few-shot-prompting\", \"/docs/concepts/few-shot-prompting\"],\n  [\"LangSmith\", \"https://docs.smith.langchain.com/\"],\n]} />\n\n\n<Compatibility packagesAndVersions={[\n  [\"langsmith\", \"0.1.101\"],\n  [\"langchain-core\", \"0.2.34\"],\n]} />\n\n\n[LangSmith](https://docs.smith.langchain.com/) 数据集内置了对相似性搜索的支持，使其成为构建和查询 few-shot 示例的绝佳工具。\n\n在本指南中，我们将了解如何使用已索引的 LangSmith 数据集作为 few-shot 示例选择器。\n\n## 设置\n\n开始之前，请确保您已[创建 LangSmith 帐户](https://smith.langchain.com/)并设置了您的凭据："
      ]
    },
    {
      "cell_type": "code",
      "execution_count": 2,
      "id": "85445e0e",
      "metadata": {},
      "outputs": [
        {
          "name": "stdout",
          "output_type": "stream",
          "text": [
            "Set LangSmith API key:\n",
            "\n",
            "········\n"
          ]
        }
      ],
      "source": [
        "import getpass\n",
        "import os\n",
        "\n",
        "if not os.environ.get(\"LANGSMITH_API_KEY\"):\n",
        "    os.environ[\"LANGSMITH_API_KEY\"] = getpass.getpass(\"Set LangSmith API key:\\n\\n\")\n",
        "\n",
        "os.environ[\"LANGSMITH_TRACING\"] = \"true\""
      ]
    },
    {
      "cell_type": "markdown",
      "id": "ca899e29",
      "metadata": {},
      "source": [
        "我们需要安装 `langsmith` SDK。在本示例中，我们还将使用 `langchain`、`langchain-openai` 和 `langchain-benchmarks`："
      ]
    },
    {
      "cell_type": "code",
      "execution_count": null,
      "id": "b4fa7810",
      "metadata": {},
      "outputs": [],
      "source": [
        "%pip install -qU \"langsmith>=0.1.101\" \"langchain-core>=0.2.34\" langchain langchain-openai langchain-benchmarks"
      ]
    },
    {
      "cell_type": "markdown",
      "id": "fc716e12",
      "metadata": {},
      "source": [
        "现在我们将克隆一个公开数据集并为其启用索引。我们也可以通过 [LangSmith UI](https://docs.smith.langchain.com/how_to_guides/datasets/index_datasets_for_dynamic_few_shot_example_selection) 为数据集启用索引。\n\n我们将克隆 [Multiverse math few shot example dataset](https://blog.langchain.dev/few-shot-prompting-to-improve-tool-calling-performance/)。\n\n这将启用对数据集的搜索，并确保我们每次更新/添加示例时都会对其进行索引。"
      ]
    },
    {
      "cell_type": "code",
      "execution_count": null,
      "id": "cf53d280",
      "metadata": {},
      "outputs": [],
      "source": [
        "from langsmith import Client as LangSmith\n",
        "\n",
        "ls_client = LangSmith()\n",
        "\n",
        "dataset_name = \"multiverse-math-few-shot-examples-v2\"\n",
        "dataset_public_url = (\n",
        "    \"https://smith.langchain.com/public/620596ee-570b-4d2b-8c8f-f828adbe5242/d\"\n",
        ")\n",
        "\n",
        "ls_client.clone_public_dataset(dataset_public_url)\n",
        "\n",
        "dataset_id = ls_client.read_dataset(dataset_name=dataset_name).id\n",
        "\n",
        "ls_client.index_dataset(dataset_id=dataset_id)"
      ]
    },
    {
      "cell_type": "markdown",
      "id": "5767d171",
      "metadata": {},
      "source": [
        "## 查询数据集\n\n索引可能需要几秒钟。一旦数据集被索引，我们就可以搜索类似的示例。请注意，`similar_examples` 方法的输入必须与示例输入具有相同的模式。在这种情况下，我们的示例输入是一个带有“question”键的字典："
      ]
    },
    {
      "cell_type": "code",
      "execution_count": 12,
      "id": "5013a56f",
      "metadata": {},
      "outputs": [
        {
          "data": {
            "text/plain": [
              "3"
            ]
          },
          "execution_count": 12,
          "metadata": {},
          "output_type": "execute_result"
        }
      ],
      "source": [
        "examples = ls_client.similar_examples(\n",
        "    {\"question\": \"whats the negation of the negation of the negation of 3\"},\n",
        "    limit=3,\n",
        "    dataset_id=dataset_id,\n",
        ")\n",
        "len(examples)"
      ]
    },
    {
      "cell_type": "code",
      "execution_count": 13,
      "id": "a142db06",
      "metadata": {},
      "outputs": [
        {
          "data": {
            "text/plain": [
              "'evaluate the negation of -100'"
            ]
          },
          "execution_count": 13,
          "metadata": {},
          "output_type": "execute_result"
        }
      ],
      "source": [
        "examples[0].inputs[\"question\"]"
      ]
    },
    {
      "cell_type": "markdown",
      "id": "d2627125",
      "metadata": {},
      "source": [
        "对于这个数据集，输出是以 OpenAI 消息格式显示的对话，该对话是在问题之后发生的："
      ]
    },
    {
      "cell_type": "code",
      "execution_count": 14,
      "id": "af5b9191",
      "metadata": {},
      "outputs": [
        {
          "data": {
            "text/plain": [
              "[{'role': 'assistant',\n",
              "  'content': None,\n",
              "  'tool_calls': [{'id': 'toolu_01HTpq4cYNUac6F7omUc2Wz3',\n",
              "    'type': 'function',\n",
              "    'function': {'name': 'negate', 'arguments': '{\"a\": -100}'}}]},\n",
              " {'role': 'tool',\n",
              "  'content': '-100.0',\n",
              "  'tool_call_id': 'toolu_01HTpq4cYNUac6F7omUc2Wz3'},\n",
              " {'role': 'assistant', 'content': 'So the answer is 100.'},\n",
              " {'role': 'user',\n",
              "  'content': '100 is incorrect. Please refer to the output of your tool call.'},\n",
              " {'role': 'assistant',\n",
              "  'content': [{'text': \"You're right, my previous answer was incorrect. Let me re-evaluate using the tool output:\",\n",
              "    'type': 'text'}],\n",
              "  'tool_calls': [{'id': 'toolu_01XsJQboYghGDygQpPjJkeRq',\n",
              "    'type': 'function',\n",
              "    'function': {'name': 'negate', 'arguments': '{\"a\": -100}'}}]},\n",
              " {'role': 'tool',\n",
              "  'content': '-100.0',\n",
              "  'tool_call_id': 'toolu_01XsJQboYghGDygQpPjJkeRq'},\n",
              " {'role': 'assistant', 'content': 'The answer is -100.0'},\n",
              " {'role': 'user',\n",
              "  'content': 'You have the correct numerical answer but are returning additional text. Please only respond with the numerical answer.'},\n",
              " {'role': 'assistant', 'content': '-100.0'}]"
            ]
          },
          "execution_count": 14,
          "metadata": {},
          "output_type": "execute_result"
        }
      ],
      "source": [
        "examples[0].outputs[\"conversation\"]"
      ]
    },
    {
      "cell_type": "markdown",
      "id": "e852c8ef",
      "metadata": {},
      "source": [
        "## 创建动态少样本提示\n\n搜索会返回输入与查询输入最相似的示例。我们可以像这样将它们用于提示模型进行少样本学习："
      ]
    },
    {
      "cell_type": "code",
      "execution_count": 20,
      "id": "12cba1e1",
      "metadata": {},
      "outputs": [],
      "source": [
        "from langchain.chat_models import init_chat_model\n",
        "from langchain_benchmarks.tool_usage.tasks.multiverse_math import (\n",
        "    add,\n",
        "    cos,\n",
        "    divide,\n",
        "    log,\n",
        "    multiply,\n",
        "    negate,\n",
        "    pi,\n",
        "    power,\n",
        "    sin,\n",
        "    subtract,\n",
        ")\n",
        "from langchain_core.runnables import RunnableLambda\n",
        "from langsmith import AsyncClient as AsyncLangSmith\n",
        "\n",
        "async_ls_client = AsyncLangSmith()\n",
        "\n",
        "\n",
        "def similar_examples(input_: dict) -> dict:\n",
        "    examples = ls_client.similar_examples(input_, limit=5, dataset_id=dataset_id)\n",
        "    return {**input_, \"examples\": examples}\n",
        "\n",
        "\n",
        "async def asimilar_examples(input_: dict) -> dict:\n",
        "    examples = await async_ls_client.similar_examples(\n",
        "        input_, limit=5, dataset_id=dataset_id\n",
        "    )\n",
        "    return {**input_, \"examples\": examples}\n",
        "\n",
        "\n",
        "def construct_prompt(input_: dict) -> list:\n",
        "    instructions = \"\"\"You are great at using mathematical tools.\"\"\"\n",
        "    examples = []\n",
        "    for ex in input_[\"examples\"]:\n",
        "        examples.append({\"role\": \"user\", \"content\": ex.inputs[\"question\"]})\n",
        "        for msg in ex.outputs[\"conversation\"]:\n",
        "            if msg[\"role\"] == \"assistant\":\n",
        "                msg[\"name\"] = \"example_assistant\"\n",
        "            if msg[\"role\"] == \"user\":\n",
        "                msg[\"name\"] = \"example_user\"\n",
        "            examples.append(msg)\n",
        "    return [\n",
        "        {\"role\": \"system\", \"content\": instructions},\n",
        "        *examples,\n",
        "        {\"role\": \"user\", \"content\": input_[\"question\"]},\n",
        "    ]\n",
        "\n",
        "\n",
        "tools = [add, cos, divide, log, multiply, negate, pi, power, sin, subtract]\n",
        "llm = init_chat_model(\"gpt-4o-2024-08-06\")\n",
        "llm_with_tools = llm.bind_tools(tools)\n",
        "\n",
        "example_selector = RunnableLambda(func=similar_examples, afunc=asimilar_examples)\n",
        "\n",
        "chain = example_selector | construct_prompt | llm_with_tools"
      ]
    },
    {
      "cell_type": "code",
      "execution_count": 21,
      "id": "c423b367",
      "metadata": {},
      "outputs": [
        {
          "data": {
            "text/plain": [
              "[{'name': 'negate',\n",
              "  'args': {'a': 3},\n",
              "  'id': 'call_uMSdoTl6ehfHh5a6JQUb2NoZ',\n",
              "  'type': 'tool_call'}]"
            ]
          },
          "execution_count": 21,
          "metadata": {},
          "output_type": "execute_result"
        }
      ],
      "source": [
        "ai_msg = await chain.ainvoke({\"question\": \"whats the negation of the negation of 3\"})\n",
        "ai_msg.tool_calls"
      ]
    },
    {
      "cell_type": "markdown",
      "id": "94489b4a",
      "metadata": {},
      "source": [
        "查看 LangSmith 追踪，我们可以看到 `similar_examples` 步骤中拉取了相关示例，并将它们作为消息传递给了 ChatOpenAI：https://smith.langchain.com/public/9585e30f-765a-4ed9-b964-2211420cd2f8/r/fdea98d6-e90f-49d4-ac22-dfd012e9e0d9。"
      ]
    }
  ],
  "metadata": {
    "kernelspec": {
      "display_name": "poetry-venv-311",
      "language": "python",
      "name": "poetry-venv-311"
    },
    "language_info": {
      "codemirror_mode": {
        "name": "ipython",
        "version": 3
      },
      "file_extension": ".py",
      "mimetype": "text/x-python",
      "name": "python",
      "nbconvert_exporter": "python",
      "pygments_lexer": "ipython3",
      "version": "3.11.9"
    }
  },
  "nbformat": 4,
  "nbformat_minor": 5
}