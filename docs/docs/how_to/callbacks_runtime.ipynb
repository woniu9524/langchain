{
  "cells": [
    {
      "cell_type": "markdown",
      "metadata": {},
      "source": [
        "# 如何在运行时传递回调\n\n:::info 先决条件\n\n本指南假设您已熟悉以下概念：\n\n- [Callbacks](/docs/concepts/callbacks)\n- [Custom callback handlers](/docs/how_to/custom_callbacks)\n\n:::\n\n在许多情况下，在运行对象时传递处理程序会更具优势。当我们通过 [`CallbackHandlers`](https://python.langchain.com/api_reference/core/callbacks/langchain_core.callbacks.base.BaseCallbackHandler.html#langchain-core-callbacks-base-basecallbackhandler) 使用执行运行时的 `callbacks` 关键字参数时，这些处理程序将被执行所涉及的所有嵌套对象发出。例如，当处理程序传递给 Agent 时，它将用于与代理及其执行所涉及的所有对象（在此情况下为 Tools 和 LLM）相关的所有回调。\n\n这使我们不必手动将处理程序附加到每个单独的嵌套对象。以下是一个示例："
      ]
    },
    {
      "cell_type": "code",
      "execution_count": 1,
      "metadata": {},
      "outputs": [],
      "source": [
        "# | output: false\n",
        "# | echo: false\n",
        "\n",
        "%pip install -qU langchain langchain_anthropic\n",
        "\n",
        "import getpass\n",
        "import os\n",
        "\n",
        "os.environ[\"ANTHROPIC_API_KEY\"] = getpass.getpass()"
      ]
    },
    {
      "cell_type": "code",
      "execution_count": 4,
      "metadata": {},
      "outputs": [
        {
          "name": "stdout",
          "output_type": "stream",
          "text": [
            "Chain RunnableSequence started\n",
            "Chain ChatPromptTemplate started\n",
            "Chain ended, outputs: messages=[HumanMessage(content='What is 1 + 2?')]\n",
            "Chat model started\n",
            "Chat model ended, response: generations=[[ChatGeneration(text='1 + 2 = 3', message=AIMessage(content='1 + 2 = 3', response_metadata={'id': 'msg_01D8Tt5FdtBk5gLTfBPm2tac', 'model': 'claude-3-sonnet-20240229', 'stop_reason': 'end_turn', 'stop_sequence': None, 'usage': {'input_tokens': 16, 'output_tokens': 13}}, id='run-bb0dddd8-85f3-4e6b-8553-eaa79f859ef8-0'))]] llm_output={'id': 'msg_01D8Tt5FdtBk5gLTfBPm2tac', 'model': 'claude-3-sonnet-20240229', 'stop_reason': 'end_turn', 'stop_sequence': None, 'usage': {'input_tokens': 16, 'output_tokens': 13}} run=None\n",
            "Chain ended, outputs: content='1 + 2 = 3' response_metadata={'id': 'msg_01D8Tt5FdtBk5gLTfBPm2tac', 'model': 'claude-3-sonnet-20240229', 'stop_reason': 'end_turn', 'stop_sequence': None, 'usage': {'input_tokens': 16, 'output_tokens': 13}} id='run-bb0dddd8-85f3-4e6b-8553-eaa79f859ef8-0'\n"
          ]
        },
        {
          "data": {
            "text/plain": [
              "AIMessage(content='1 + 2 = 3', response_metadata={'id': 'msg_01D8Tt5FdtBk5gLTfBPm2tac', 'model': 'claude-3-sonnet-20240229', 'stop_reason': 'end_turn', 'stop_sequence': None, 'usage': {'input_tokens': 16, 'output_tokens': 13}}, id='run-bb0dddd8-85f3-4e6b-8553-eaa79f859ef8-0')"
            ]
          },
          "execution_count": 4,
          "metadata": {},
          "output_type": "execute_result"
        }
      ],
      "source": [
        "from typing import Any, Dict, List\n",
        "\n",
        "from langchain_anthropic import ChatAnthropic\n",
        "from langchain_core.callbacks import BaseCallbackHandler\n",
        "from langchain_core.messages import BaseMessage\n",
        "from langchain_core.outputs import LLMResult\n",
        "from langchain_core.prompts import ChatPromptTemplate\n",
        "\n",
        "\n",
        "class LoggingHandler(BaseCallbackHandler):\n",
        "    def on_chat_model_start(\n",
        "        self, serialized: Dict[str, Any], messages: List[List[BaseMessage]], **kwargs\n",
        "    ) -> None:\n",
        "        print(\"Chat model started\")\n",
        "\n",
        "    def on_llm_end(self, response: LLMResult, **kwargs) -> None:\n",
        "        print(f\"Chat model ended, response: {response}\")\n",
        "\n",
        "    def on_chain_start(\n",
        "        self, serialized: Dict[str, Any], inputs: Dict[str, Any], **kwargs\n",
        "    ) -> None:\n",
        "        print(f\"Chain {serialized.get('name')} started\")\n",
        "\n",
        "    def on_chain_end(self, outputs: Dict[str, Any], **kwargs) -> None:\n",
        "        print(f\"Chain ended, outputs: {outputs}\")\n",
        "\n",
        "\n",
        "callbacks = [LoggingHandler()]\n",
        "llm = ChatAnthropic(model=\"claude-3-sonnet-20240229\")\n",
        "prompt = ChatPromptTemplate.from_template(\"What is 1 + {number}?\")\n",
        "\n",
        "chain = prompt | llm\n",
        "\n",
        "chain.invoke({\"number\": \"2\"}, config={\"callbacks\": callbacks})"
      ]
    },
    {
      "cell_type": "markdown",
      "metadata": {},
      "source": [
        "如果模块已有回调，它们将与运行时传入的回调一起运行。\n\n## 后续步骤\n\n您现在已经学会了如何在运行时传递回调。\n\n接下来，请查看本节中的其他操作指南，例如如何[将回调传递到模块构造函数中](/docs/how_to/custom_callbacks)。"
      ]
    }
  ],
  "metadata": {
    "kernelspec": {
      "display_name": "Python 3",
      "language": "python",
      "name": "python3"
    },
    "language_info": {
      "codemirror_mode": {
        "name": "ipython",
        "version": 3
      },
      "file_extension": ".py",
      "mimetype": "text/x-python",
      "name": "python",
      "nbconvert_exporter": "python",
      "pygments_lexer": "ipython3",
      "version": "3.10.5"
    }
  },
  "nbformat": 4,
  "nbformat_minor": 2
}