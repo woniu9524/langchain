{
  "cells": [
    {
      "cell_type": "markdown",
      "id": "0c6c50fc-15e1-4767-925a-53a37c430b9b",
      "metadata": {},
      "source": [
        "# 如何加载 HTML\n\n超文本标记语言（HyperText Markup Language），简称 [HTML](https://en.wikipedia.org/wiki/HTML)，是为能在网页浏览器中显示而设计的文档的标准标记语言。\n\n本指南介绍了如何将 `HTML` 文档加载到 LangChain 的 [Document](https://python.langchain.com/api_reference/core/documents/langchain_core.documents.base.Document.html#langchain_core.documents.base.Document) 对象中，以便我们在后续流程中使用。\n\n解析 HTML 文件通常需要专门的工具。在这里，我们演示了通过 [Unstructured](https://docs.unstructured.io) 和 [BeautifulSoup4](https://beautiful-soup-4.readthedocs.io/en/latest/) 进行解析，这些工具都可以通过 pip 安装。您可以访问集成页面，查找与 [Azure AI Document Intelligence](/docs/integrations/document_loaders/azure_document_intelligence) 或 [FireCrawl](/docs/integrations/document_loaders/firecrawl) 等其他服务的集成。\n\n## 使用 Unstructured 加载 HTML"
      ]
    },
    {
      "cell_type": "code",
      "execution_count": null,
      "id": "617a5e2b-1e92-4bdd-bd04-95a4d2379410",
      "metadata": {},
      "outputs": [],
      "source": [
        "%pip install unstructured"
      ]
    },
    {
      "cell_type": "code",
      "execution_count": 2,
      "id": "7d167ca3-c7c7-4ef0-b509-080629f0f482",
      "metadata": {},
      "outputs": [
        {
          "name": "stdout",
          "output_type": "stream",
          "text": [
            "[Document(page_content='My First Heading\\n\\nMy first paragraph.', metadata={'source': '../../docs/integrations/document_loaders/example_data/fake-content.html'})]\n"
          ]
        }
      ],
      "source": [
        "from langchain_community.document_loaders import UnstructuredHTMLLoader\n",
        "\n",
        "file_path = \"../../docs/integrations/document_loaders/example_data/fake-content.html\"\n",
        "\n",
        "loader = UnstructuredHTMLLoader(file_path)\n",
        "data = loader.load()\n",
        "\n",
        "print(data)"
      ]
    },
    {
      "cell_type": "markdown",
      "id": "cc85f7e8-f62e-49bc-910e-d0b151c9d651",
      "metadata": {},
      "source": [
        "## 使用 BeautifulSoup4 加载 HTML\n\n我们也可以使用 `BSHTMLLoader` 来加载 HTML 文档。它会将 HTML 中的文本提取到 `page_content` 中，并将页面标题提取为 `title` 放到 `metadata` 中。"
      ]
    },
    {
      "cell_type": "code",
      "execution_count": null,
      "id": "06a5e555-8e1f-44a7-b921-4dd8aedd3bca",
      "metadata": {},
      "outputs": [],
      "source": [
        "%pip install bs4"
      ]
    },
    {
      "cell_type": "code",
      "execution_count": 4,
      "id": "0a2050a8-6df6-4696-9889-ba367d6f9caa",
      "metadata": {},
      "outputs": [
        {
          "name": "stdout",
          "output_type": "stream",
          "text": [
            "[Document(page_content='\\nTest Title\\n\\n\\nMy First Heading\\nMy first paragraph.\\n\\n\\n', metadata={'source': '../../docs/integrations/document_loaders/example_data/fake-content.html', 'title': 'Test Title'})]\n"
          ]
        }
      ],
      "source": [
        "from langchain_community.document_loaders import BSHTMLLoader\n",
        "\n",
        "loader = BSHTMLLoader(file_path)\n",
        "data = loader.load()\n",
        "\n",
        "print(data)"
      ]
    }
  ],
  "metadata": {
    "kernelspec": {
      "display_name": "Python 3 (ipykernel)",
      "language": "python",
      "name": "python3"
    },
    "language_info": {
      "codemirror_mode": {
        "name": "ipython",
        "version": 3
      },
      "file_extension": ".py",
      "mimetype": "text/x-python",
      "name": "python",
      "nbconvert_exporter": "python",
      "pygments_lexer": "ipython3",
      "version": "3.10.5"
    }
  },
  "nbformat": 4,
  "nbformat_minor": 5
}