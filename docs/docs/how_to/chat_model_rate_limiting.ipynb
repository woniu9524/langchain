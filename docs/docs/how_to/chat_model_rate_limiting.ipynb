{
  "cells": [
    {
      "cell_type": "markdown",
      "id": "dcf87b32",
      "metadata": {},
      "source": [
        "# 如何处理速率限制\n\n:::info 先决条件\n\n本指南假定您熟悉以下概念：\n- [Chat models](/docs/concepts/chat_models)\n- [LLMs](/docs/concepts/text_llms)\n:::\n\n\n您可能会发现自己处于因发出过多请求而被模型提供商 API 阻止速率限制的情况下。\n\n例如，如果您正在运行许多并行查询来在测试数据集上对聊天模型进行基准测试，则可能会发生这种情况。\n\n如果您遇到这种情况，可以使用速率限制器来帮助匹配您发送请求的速率与 API 允许的速率。\n\n:::info 需要 ``langchain-core >= 0.2.24``\n\n此功能已在 ``langchain-core == 0.2.24`` 中添加。请确保您的包已更新。\n:::"
      ]
    },
    {
      "cell_type": "markdown",
      "id": "cbc3c873-6109-4e03-b775-b73c1003faea",
      "metadata": {},
      "source": [
        "## 初始化速率限制器\n\nLangchain 自带了一个内存中的速率限制器。该速率限制器是线程安全的，可以在同一进程中的多个线程之间共享。\n\n提供的速率限制器只能限制每单位时间内的请求数量。如果你还需要根据请求的大小进行限制，它将无法提供帮助。"
      ]
    },
    {
      "cell_type": "code",
      "execution_count": 4,
      "id": "aa9c3c8c-0464-4190-a8c5-d69d173505a6",
      "metadata": {},
      "outputs": [],
      "source": [
        "from langchain_core.rate_limiters import InMemoryRateLimiter\n",
        "\n",
        "rate_limiter = InMemoryRateLimiter(\n",
        "    requests_per_second=0.1,  # <-- Super slow! We can only make a request once every 10 seconds!!\n",
        "    check_every_n_seconds=0.1,  # Wake up every 100 ms to check whether allowed to make a request,\n",
        "    max_bucket_size=10,  # Controls the maximum burst size.\n",
        ")"
      ]
    },
    {
      "cell_type": "markdown",
      "id": "8e058bde-9413-4b08-8cc6-0c9cb638f19f",
      "metadata": {},
      "source": [
        "## 选择一个模型\n\n选择任意模型，并通过 `rate_limiter` 属性将其传递给该模型。"
      ]
    },
    {
      "cell_type": "code",
      "execution_count": 2,
      "id": "0f880a3a-c047-4e94-a323-fff2a4c0e96d",
      "metadata": {},
      "outputs": [],
      "source": [
        "import os\n",
        "import time\n",
        "from getpass import getpass\n",
        "\n",
        "if \"ANTHROPIC_API_KEY\" not in os.environ:\n",
        "    os.environ[\"ANTHROPIC_API_KEY\"] = getpass()\n",
        "\n",
        "\n",
        "from langchain_anthropic import ChatAnthropic\n",
        "\n",
        "model = ChatAnthropic(model_name=\"claude-3-opus-20240229\", rate_limiter=rate_limiter)"
      ]
    },
    {
      "cell_type": "markdown",
      "id": "80c9ab3a-299a-460f-985c-90280a046f52",
      "metadata": {},
      "source": [
        "让我们确认一下速率限制器是否有效。我们应该每 10 秒只能调用模型一次。"
      ]
    },
    {
      "cell_type": "code",
      "execution_count": 3,
      "id": "d074265c-9f32-4c5f-b914-944148993c4d",
      "metadata": {},
      "outputs": [
        {
          "name": "stdout",
          "output_type": "stream",
          "text": [
            "11.599073648452759\n",
            "10.7502121925354\n",
            "10.244257926940918\n",
            "8.83088755607605\n",
            "11.645203590393066\n"
          ]
        }
      ],
      "source": [
        "for _ in range(5):\n",
        "    tic = time.time()\n",
        "    model.invoke(\"hello\")\n",
        "    toc = time.time()\n",
        "    print(toc - tic)"
      ]
    }
  ],
  "metadata": {
    "kernelspec": {
      "display_name": "Python 3 (ipykernel)",
      "language": "python",
      "name": "python3"
    },
    "language_info": {
      "codemirror_mode": {
        "name": "ipython",
        "version": 3
      },
      "file_extension": ".py",
      "mimetype": "text/x-python",
      "name": "python",
      "nbconvert_exporter": "python",
      "pygments_lexer": "ipython3",
      "version": "3.11.4"
    }
  },
  "nbformat": 4,
  "nbformat_minor": 5
}