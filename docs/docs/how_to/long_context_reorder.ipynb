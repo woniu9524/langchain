{
  "cells": [
    {
      "cell_type": "markdown",
      "id": "fc0db1bc",
      "metadata": {},
      "source": [
        "# 如何重新排序检索结果以缓解“中间遗失”效应\n\n在检索增强生成（[RAG](/docs/tutorials/rag)）应用中，随着检索文档数量的增加（例如超过十篇），会出现显著的性能下降，已有文献（如 [documentation](https://arxiv.org/abs/2307.03172)）对此进行了记录。简而言之：模型容易在长上下文的中间部分遗漏相关信息。\n\n相比之下，对向量存储的查询通常会按照相关性降序返回文档（例如，根据 [embeddings](/docs/concepts/embedding_models) 的余弦相似度进行衡量）。\n\n为了缓解“中间遗失”效应，您可以在检索后重新排序文档，将最相关的文档放置在最外侧（例如，上下文的第一段和最后一段），并将最不相关的文档放置在中间。在某些情况下，这有助于将最相关的信息呈现给大型语言模型。\n\n[LongContextReorder](https://python.langchain.com/api_reference/community/document_transformers/langchain_community.document_transformers.long_context_reorder.LongContextReorder.html) 文档转换器实现了这一重排序过程。下面我们演示一个示例。"
      ]
    },
    {
      "cell_type": "code",
      "execution_count": null,
      "id": "2074fdaa-edff-468a-970f-6f5f26e93d4a",
      "metadata": {},
      "outputs": [],
      "source": [
        "%pip install -qU langchain langchain-community langchain-openai"
      ]
    },
    {
      "cell_type": "markdown",
      "id": "c97eaaf2-34b7-4770-9949-e1abc4ca5226",
      "metadata": {},
      "source": [
        "首先，我们嵌入一些人工文档，并将它们索引到一个基本的内存向量存储中。我们将使用 [OpenAI](/docs/integrations/providers/openai/) 嵌入，但任何 LangChain 向量存储或嵌入模型都可以。"
      ]
    },
    {
      "cell_type": "code",
      "execution_count": 1,
      "id": "49cbcd8e",
      "metadata": {},
      "outputs": [
        {
          "name": "stdout",
          "output_type": "stream",
          "text": [
            "- The Celtics are my favourite team.\n",
            "- This is a document about the Boston Celtics\n",
            "- The Boston Celtics won the game by 20 points\n",
            "- L. Kornet is one of the best Celtics players.\n",
            "- Basquetball is a great sport.\n",
            "- Larry Bird was an iconic NBA player.\n",
            "- This is just a random text.\n",
            "- I simply love going to the movies\n",
            "- Fly me to the moon is one of my favourite songs.\n",
            "- Elden Ring is one of the best games in the last 15 years.\n"
          ]
        }
      ],
      "source": [
        "from langchain_core.vectorstores import InMemoryVectorStore\n",
        "from langchain_openai import OpenAIEmbeddings\n",
        "\n",
        "# Get embeddings.\n",
        "embeddings = OpenAIEmbeddings()\n",
        "\n",
        "texts = [\n",
        "    \"Basquetball is a great sport.\",\n",
        "    \"Fly me to the moon is one of my favourite songs.\",\n",
        "    \"The Celtics are my favourite team.\",\n",
        "    \"This is a document about the Boston Celtics\",\n",
        "    \"I simply love going to the movies\",\n",
        "    \"The Boston Celtics won the game by 20 points\",\n",
        "    \"This is just a random text.\",\n",
        "    \"Elden Ring is one of the best games in the last 15 years.\",\n",
        "    \"L. Kornet is one of the best Celtics players.\",\n",
        "    \"Larry Bird was an iconic NBA player.\",\n",
        "]\n",
        "\n",
        "# Create a retriever\n",
        "retriever = InMemoryVectorStore.from_texts(texts, embedding=embeddings).as_retriever(\n",
        "    search_kwargs={\"k\": 10}\n",
        ")\n",
        "query = \"What can you tell me about the Celtics?\"\n",
        "\n",
        "# Get relevant documents ordered by relevance score\n",
        "docs = retriever.invoke(query)\n",
        "for doc in docs:\n",
        "    print(f\"- {doc.page_content}\")"
      ]
    },
    {
      "cell_type": "markdown",
      "id": "175d031a-43fa-42f4-93c4-2ba52c3c3ee5",
      "metadata": {},
      "source": [
        "请注意，文档将按与查询的相关性降序返回。`LongContextReorder` 文档转换器将实现上述重新排序："
      ]
    },
    {
      "cell_type": "code",
      "execution_count": 2,
      "id": "555f7a0d-74d1-44f3-949d-6e758aa9f43a",
      "metadata": {},
      "outputs": [
        {
          "name": "stdout",
          "output_type": "stream",
          "text": [
            "- This is a document about the Boston Celtics\n",
            "- L. Kornet is one of the best Celtics players.\n",
            "- Larry Bird was an iconic NBA player.\n",
            "- I simply love going to the movies\n",
            "- Elden Ring is one of the best games in the last 15 years.\n",
            "- Fly me to the moon is one of my favourite songs.\n",
            "- This is just a random text.\n",
            "- Basquetball is a great sport.\n",
            "- The Boston Celtics won the game by 20 points\n",
            "- The Celtics are my favourite team.\n"
          ]
        }
      ],
      "source": [
        "from langchain_community.document_transformers import LongContextReorder\n",
        "\n",
        "# Reorder the documents:\n",
        "# Less relevant document will be at the middle of the list and more\n",
        "# relevant elements at beginning / end.\n",
        "reordering = LongContextReorder()\n",
        "reordered_docs = reordering.transform_documents(docs)\n",
        "\n",
        "# Confirm that the 4 relevant documents are at beginning and end.\n",
        "for doc in reordered_docs:\n",
        "    print(f\"- {doc.page_content}\")"
      ]
    },
    {
      "cell_type": "markdown",
      "id": "a8d2ef0c-c397-4d8d-8118-3f7acf86d241",
      "metadata": {},
      "source": [
        "下面，我们将展示如何将重新排序的文档整合到一个简单的问答链中："
      ]
    },
    {
      "cell_type": "code",
      "execution_count": 3,
      "id": "f533c74e-21cb-4f21-b063-4c66754a4122",
      "metadata": {},
      "outputs": [
        {
          "name": "stdout",
          "output_type": "stream",
          "text": [
            "The Boston Celtics are a professional basketball team known for their rich history and success in the NBA. L. Kornet is recognized as one of the best players on the team, and the Celtics recently won a game by 20 points. The Celtics are favored by some fans, as indicated by the statement, \"The Celtics are my favourite team.\" Overall, they have a strong following and are considered a significant part of basketball culture.\n"
          ]
        }
      ],
      "source": [
        "from langchain.chains.combine_documents import create_stuff_documents_chain\n",
        "from langchain_core.prompts import PromptTemplate\n",
        "from langchain_openai import ChatOpenAI\n",
        "\n",
        "llm = ChatOpenAI(model=\"gpt-4o-mini\")\n",
        "\n",
        "prompt_template = \"\"\"\n",
        "Given these texts:\n",
        "-----\n",
        "{context}\n",
        "-----\n",
        "Please answer the following question:\n",
        "{query}\n",
        "\"\"\"\n",
        "\n",
        "prompt = PromptTemplate(\n",
        "    template=prompt_template,\n",
        "    input_variables=[\"context\", \"query\"],\n",
        ")\n",
        "\n",
        "# Create and invoke the chain:\n",
        "chain = create_stuff_documents_chain(llm, prompt)\n",
        "response = chain.invoke({\"context\": reordered_docs, \"query\": query})\n",
        "print(response)"
      ]
    }
  ],
  "metadata": {
    "kernelspec": {
      "display_name": "Python 3 (ipykernel)",
      "language": "python",
      "name": "python3"
    },
    "language_info": {
      "codemirror_mode": {
        "name": "ipython",
        "version": 3
      },
      "file_extension": ".py",
      "mimetype": "text/x-python",
      "name": "python",
      "nbconvert_exporter": "python",
      "pygments_lexer": "ipython3",
      "version": "3.10.4"
    }
  },
  "nbformat": 4,
  "nbformat_minor": 5
}