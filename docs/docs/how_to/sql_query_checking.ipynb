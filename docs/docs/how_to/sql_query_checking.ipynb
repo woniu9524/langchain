{
  "cells": [
    {
      "cell_type": "markdown",
      "id": "4da7ae91-4973-4e97-a570-fa24024ec65d",
      "metadata": {},
      "source": [
        "# 如何在 SQL 问答中执行查询验证\n\n在任何 SQL 链或代理中，最容易出错的部分可能是编写有效且安全的 SQL 查询。在本指南中，我们将介绍一些验证查询和处理无效查询的策略。\n\n我们将涵盖：\n\n1. 在查询生成中添加一个“查询验证器”步骤；\n2. 通过提示工程减少错误发生的几率。\n\n## 设置\n\n首先，获取所需的包并设置环境变量："
      ]
    },
    {
      "cell_type": "code",
      "execution_count": null,
      "id": "5d40d5bc-3647-4b5d-808a-db470d40fe7a",
      "metadata": {},
      "outputs": [],
      "source": [
        "%pip install --upgrade --quiet  langchain langchain-community langchain-openai"
      ]
    },
    {
      "cell_type": "code",
      "execution_count": null,
      "id": "71f46270-e1c6-45b4-b36e-ea2e9f860eba",
      "metadata": {},
      "outputs": [],
      "source": [
        "# Uncomment the below to use LangSmith. Not required.\n",
        "# import os\n",
        "# os.environ[\"LANGSMITH_API_KEY\"] = getpass.getpass()\n",
        "# os.environ[\"LANGSMITH_TRACING\"] = \"true\""
      ]
    },
    {
      "cell_type": "markdown",
      "id": "a0a2151b-cecf-4559-92a1-ca48824fed18",
      "metadata": {},
      "source": [
        "下面的示例将使用 SQLite 连接和 Chinook 数据库。请按照[这些安装步骤](https://database.guide/2-sample-databases-sqlite/)在与此笔记本相同的目录中创建 `Chinook.db`：\n\n* 将[此文件](https://raw.githubusercontent.com/lerocha/chinook-database/master/ChinookDatabase/DataSources/Chinook_Sqlite.sql)保存为 `Chinook_Sqlite.sql`\n* 运行 `sqlite3 Chinook.db`\n* 运行 `.read Chinook_Sqlite.sql`\n* 测试 `SELECT * FROM Artist LIMIT 10;`\n\n现在，`Chinook.db` 就在我们的目录中，我们可以使用 SQLAlchemy 驱动的 `SQLDatabase` 类来访问它："
      ]
    },
    {
      "cell_type": "code",
      "execution_count": 1,
      "id": "8cedc936-5268-4bfa-b838-bdcc1ee9573c",
      "metadata": {},
      "outputs": [
        {
          "name": "stdout",
          "output_type": "stream",
          "text": [
            "sqlite\n",
            "['Album', 'Artist', 'Customer', 'Employee', 'Genre', 'Invoice', 'InvoiceLine', 'MediaType', 'Playlist', 'PlaylistTrack', 'Track']\n",
            "[(1, 'AC/DC'), (2, 'Accept'), (3, 'Aerosmith'), (4, 'Alanis Morissette'), (5, 'Alice In Chains'), (6, 'Antônio Carlos Jobim'), (7, 'Apocalyptica'), (8, 'Audioslave'), (9, 'BackBeat'), (10, 'Billy Cobham')]\n"
          ]
        }
      ],
      "source": [
        "from langchain_community.utilities import SQLDatabase\n",
        "\n",
        "db = SQLDatabase.from_uri(\"sqlite:///Chinook.db\")\n",
        "print(db.dialect)\n",
        "print(db.get_usable_table_names())\n",
        "print(db.run(\"SELECT * FROM Artist LIMIT 10;\"))"
      ]
    },
    {
      "cell_type": "markdown",
      "id": "2d203315-fab7-4621-80da-41e9bf82d803",
      "metadata": {},
      "source": [
        "## 查询检查器\n\n也许最简单的策略是让模型本身检查原始查询是否存在常见错误。假设我们有以下 SQL 查询链：\n\nimport ChatModelTabs from \"@theme/ChatModelTabs\";\n\n<ChatModelTabs customVarName=\"llm\" />"
      ]
    },
    {
      "cell_type": "code",
      "execution_count": 3,
      "id": "d81ebf69-75ad-4c92-baa9-fd152b8e622a",
      "metadata": {},
      "outputs": [],
      "source": [
        "# | output: false\n",
        "# | echo: false\n",
        "\n",
        "from langchain_openai import ChatOpenAI\n",
        "\n",
        "llm = ChatOpenAI()"
      ]
    },
    {
      "cell_type": "code",
      "execution_count": 4,
      "id": "ec66bb76-b1ad-48ad-a7d4-b518e9421b86",
      "metadata": {},
      "outputs": [],
      "source": [
        "from langchain.chains import create_sql_query_chain\n",
        "\n",
        "chain = create_sql_query_chain(llm, db)"
      ]
    },
    {
      "cell_type": "markdown",
      "id": "da01023d-cc05-43e3-a38d-ed9d56d3ad15",
      "metadata": {},
      "source": [
        "然后，我们希望验证其输出。我们可以通过用第二个提示和模型调用来扩展链来实现："
      ]
    },
    {
      "cell_type": "code",
      "execution_count": 5,
      "id": "16686750-d8ee-4c60-8d67-b28281cb6164",
      "metadata": {},
      "outputs": [],
      "source": [
        "from langchain_core.output_parsers import StrOutputParser\n",
        "from langchain_core.prompts import ChatPromptTemplate\n",
        "\n",
        "system = \"\"\"Double check the user's {dialect} query for common mistakes, including:\n",
        "- Using NOT IN with NULL values\n",
        "- Using UNION when UNION ALL should have been used\n",
        "- Using BETWEEN for exclusive ranges\n",
        "- Data type mismatch in predicates\n",
        "- Properly quoting identifiers\n",
        "- Using the correct number of arguments for functions\n",
        "- Casting to the correct data type\n",
        "- Using the proper columns for joins\n",
        "\n",
        "If there are any of the above mistakes, rewrite the query.\n",
        "If there are no mistakes, just reproduce the original query with no further commentary.\n",
        "\n",
        "Output the final SQL query only.\"\"\"\n",
        "prompt = ChatPromptTemplate.from_messages(\n",
        "    [(\"system\", system), (\"human\", \"{query}\")]\n",
        ").partial(dialect=db.dialect)\n",
        "validation_chain = prompt | llm | StrOutputParser()\n",
        "\n",
        "full_chain = {\"query\": chain} | validation_chain"
      ]
    },
    {
      "cell_type": "code",
      "execution_count": 10,
      "id": "28ef9c6e-21fa-4b62-8aa4-8cd398ce4c4d",
      "metadata": {},
      "outputs": [
        {
          "name": "stdout",
          "output_type": "stream",
          "text": [
            "SELECT AVG(i.Total) AS AverageInvoice\n",
            "FROM Invoice i\n",
            "JOIN Customer c ON i.CustomerId = c.CustomerId\n",
            "WHERE c.Country = 'USA'\n",
            "AND c.Fax IS NULL\n",
            "AND i.InvoiceDate >= '2003-01-01' \n",
            "AND i.InvoiceDate < '2010-01-01'\n"
          ]
        }
      ],
      "source": [
        "query = full_chain.invoke(\n",
        "    {\n",
        "        \"question\": \"What's the average Invoice from an American customer whose Fax is missing since 2003 but before 2010\"\n",
        "    }\n",
        ")\n",
        "print(query)"
      ]
    },
    {
      "cell_type": "markdown",
      "id": "228a1b87-4e44-4d86-bed7-fd2d7a91fb23",
      "metadata": {},
      "source": [
        "请注意，我们可以在[Langsmith 跟踪](https://smith.langchain.com/public/8a743295-a57c-4e4c-8625-bc7e36af9d74/r)中看到链的两个步骤。"
      ]
    },
    {
      "cell_type": "code",
      "execution_count": 38,
      "id": "d01d78b5-89a0-4c12-b743-707ebe64ba86",
      "metadata": {},
      "outputs": [
        {
          "data": {
            "text/plain": [
              "'[(6.632999999999998,)]'"
            ]
          },
          "execution_count": 38,
          "metadata": {},
          "output_type": "execute_result"
        }
      ],
      "source": [
        "db.run(query)"
      ]
    },
    {
      "cell_type": "markdown",
      "id": "6e133526-26bd-49da-9cfa-7adc0e59fd72",
      "metadata": {},
      "source": [
        "这种方法的明显缺点是，我们需要进行两次模型调用而不是一次来生成查询。为了解决这个问题，我们可以尝试在一次模型调用中执行查询生成和查询检查："
      ]
    },
    {
      "cell_type": "code",
      "execution_count": 13,
      "id": "7af0030a-549e-4e69-9298-3d0a038c2fdd",
      "metadata": {},
      "outputs": [
        {
          "name": "stdout",
          "output_type": "stream",
          "text": [
            "================================\u001b[1m System Message \u001b[0m================================\n",
            "\n",
            "You are a \u001b[33;1m\u001b[1;3m{dialect}\u001b[0m expert. Given an input question, create a syntactically correct \u001b[33;1m\u001b[1;3m{dialect}\u001b[0m query to run.\n",
            "Unless the user specifies in the question a specific number of examples to obtain, query for at most \u001b[33;1m\u001b[1;3m{top_k}\u001b[0m results using the LIMIT clause as per \u001b[33;1m\u001b[1;3m{dialect}\u001b[0m. You can order the results to return the most informative data in the database.\n",
            "Never query for all columns from a table. You must query only the columns that are needed to answer the question. Wrap each column name in double quotes (\") to denote them as delimited identifiers.\n",
            "Pay attention to use only the column names you can see in the tables below. Be careful to not query for columns that do not exist. Also, pay attention to which column is in which table.\n",
            "Pay attention to use date('now') function to get the current date, if the question involves \"today\".\n",
            "\n",
            "Only use the following tables:\n",
            "\u001b[33;1m\u001b[1;3m{table_info}\u001b[0m\n",
            "\n",
            "Write an initial draft of the query. Then double check the \u001b[33;1m\u001b[1;3m{dialect}\u001b[0m query for common mistakes, including:\n",
            "- Using NOT IN with NULL values\n",
            "- Using UNION when UNION ALL should have been used\n",
            "- Using BETWEEN for exclusive ranges\n",
            "- Data type mismatch in predicates\n",
            "- Properly quoting identifiers\n",
            "- Using the correct number of arguments for functions\n",
            "- Casting to the correct data type\n",
            "- Using the proper columns for joins\n",
            "\n",
            "Use format:\n",
            "\n",
            "First draft: <<FIRST_DRAFT_QUERY>>\n",
            "Final answer: <<FINAL_ANSWER_QUERY>>\n",
            "\n",
            "\n",
            "================================\u001b[1m Human Message \u001b[0m=================================\n",
            "\n",
            "\u001b[33;1m\u001b[1;3m{input}\u001b[0m\n"
          ]
        }
      ],
      "source": [
        "system = \"\"\"You are a {dialect} expert. Given an input question, create a syntactically correct {dialect} query to run.\n",
        "Unless the user specifies in the question a specific number of examples to obtain, query for at most {top_k} results using the LIMIT clause as per {dialect}. You can order the results to return the most informative data in the database.\n",
        "Never query for all columns from a table. You must query only the columns that are needed to answer the question. Wrap each column name in double quotes (\") to denote them as delimited identifiers.\n",
        "Pay attention to use only the column names you can see in the tables below. Be careful to not query for columns that do not exist. Also, pay attention to which column is in which table.\n",
        "Pay attention to use date('now') function to get the current date, if the question involves \"today\".\n",
        "\n",
        "Only use the following tables:\n",
        "{table_info}\n",
        "\n",
        "Write an initial draft of the query. Then double check the {dialect} query for common mistakes, including:\n",
        "- Using NOT IN with NULL values\n",
        "- Using UNION when UNION ALL should have been used\n",
        "- Using BETWEEN for exclusive ranges\n",
        "- Data type mismatch in predicates\n",
        "- Properly quoting identifiers\n",
        "- Using the correct number of arguments for functions\n",
        "- Casting to the correct data type\n",
        "- Using the proper columns for joins\n",
        "\n",
        "Use format:\n",
        "\n",
        "First draft: <<FIRST_DRAFT_QUERY>>\n",
        "Final answer: <<FINAL_ANSWER_QUERY>>\n",
        "\"\"\"\n",
        "prompt = ChatPromptTemplate.from_messages(\n",
        "    [(\"system\", system), (\"human\", \"{input}\")]\n",
        ").partial(dialect=db.dialect)\n",
        "\n",
        "\n",
        "def parse_final_answer(output: str) -> str:\n",
        "    return output.split(\"Final answer: \")[1]\n",
        "\n",
        "\n",
        "chain = create_sql_query_chain(llm, db, prompt=prompt) | parse_final_answer\n",
        "prompt.pretty_print()"
      ]
    },
    {
      "cell_type": "code",
      "execution_count": 14,
      "id": "806e27a2-e511-45ea-a4ed-8ce8fa6e1d58",
      "metadata": {},
      "outputs": [
        {
          "name": "stdout",
          "output_type": "stream",
          "text": [
            "\n",
            "\n",
            "SELECT AVG(i.\"Total\") AS \"AverageInvoice\"\n",
            "FROM \"Invoice\" i\n",
            "JOIN \"Customer\" c ON i.\"CustomerId\" = c.\"CustomerId\"\n",
            "WHERE c.\"Country\" = 'USA'\n",
            "AND c.\"Fax\" IS NULL\n",
            "AND i.\"InvoiceDate\" BETWEEN '2003-01-01' AND '2010-01-01';\n"
          ]
        }
      ],
      "source": [
        "query = chain.invoke(\n",
        "    {\n",
        "        \"question\": \"What's the average Invoice from an American customer whose Fax is missing since 2003 but before 2010\"\n",
        "    }\n",
        ")\n",
        "print(query)"
      ]
    },
    {
      "cell_type": "code",
      "execution_count": 47,
      "id": "70fff2fa-1f86-4f83-9fd2-e87a5234d329",
      "metadata": {},
      "outputs": [
        {
          "data": {
            "text/plain": [
              "'[(6.632999999999998,)]'"
            ]
          },
          "execution_count": 47,
          "metadata": {},
          "output_type": "execute_result"
        }
      ],
      "source": [
        "db.run(query)"
      ]
    },
    {
      "cell_type": "markdown",
      "id": "fc8af115-7c23-421a-8fd7-29bf1b6687a4",
      "metadata": {},
      "source": [
        "## 人工审核\n\n在某些情况下，我们的数据足够敏感，我们永远不希望在没有人工批准的情况下执行 SQL 查询。请前往 [工具使用：人工审核](/docs/how_to/tools_human) 页面了解如何为任何工具、链或代理添加人工审核。\n\n## 错误处理\n\n在某些时候，模型会犯错并生成无效的 SQL 查询。或者我们的数据库会出现问题。或者模型 API 会宕机。我们希望为我们的链和代理添加一些错误处理行为，以便在这些情况下能够优雅地失败，甚至可能自动恢复。要了解有关工具的错误处理，请前往 [工具使用：错误处理](/docs/how_to/tools_error) 页面。"
      ]
    }
  ],
  "metadata": {
    "kernelspec": {
      "display_name": "Python 3 (ipykernel)",
      "language": "python",
      "name": "python3"
    },
    "language_info": {
      "codemirror_mode": {
        "name": "ipython",
        "version": 3
      },
      "file_extension": ".py",
      "mimetype": "text/x-python",
      "name": "python",
      "nbconvert_exporter": "python",
      "pygments_lexer": "ipython3",
      "version": "3.10.4"
    }
  },
  "nbformat": 4,
  "nbformat_minor": 5
}