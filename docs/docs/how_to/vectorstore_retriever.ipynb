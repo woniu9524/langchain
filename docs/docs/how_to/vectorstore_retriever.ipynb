{
  "cells": [
    {
      "cell_type": "raw",
      "id": "ee14951b",
      "metadata": {},
      "source": [
        "---\n",
        "sidebar_position: 0\n",
        "---"
      ]
    },
    {
      "cell_type": "markdown",
      "id": "105cddce",
      "metadata": {},
      "source": [
        "# 如何使用向量存储作为检索器\n\n向量存储检索器是一种使用[向量存储](/docs/concepts/vectorstores/)来检索文档的[检索器](/docs/concepts/retrievers/)。它是一个围绕向量存储类的轻量级包装器，使其符合检索器[接口](/docs/concepts/runnables/)。\n它利用向量存储实现的搜索方法，如相似性搜索和MMR，来查询向量存储中的文本。\n\n本指南将涵盖：\n\n1. 如何从向量存储实例化检索器；\n2. 如何为检索器指定搜索类型；\n3. 如何指定额外的搜索参数，如阈值分数和 top-k。\n\n## 从向量存储创建检索器\n\n您可以使用向量存储的 [.as_retriever](https://python.langchain.com/api_reference/core/vectorstores/langchain_core.vectorstores.base.VectorStore.html#langchain_core.vectorstores.base.VectorStore.as_retriever) 方法从向量存储构建检索器。让我们通过一个例子来介绍。\n\n首先，我们实例化一个向量存储。我们将使用一个内存中的 [FAISS](https://python.langchain.com/api_reference/community/vectorstores/langchain_community.vectorstores.faiss.FAISS.html) 向量存储："
      ]
    },
    {
      "cell_type": "code",
      "execution_count": 1,
      "id": "174e3c69",
      "metadata": {},
      "outputs": [],
      "source": [
        "from langchain_community.document_loaders import TextLoader\n",
        "from langchain_community.vectorstores import FAISS\n",
        "from langchain_openai import OpenAIEmbeddings\n",
        "from langchain_text_splitters import CharacterTextSplitter\n",
        "\n",
        "loader = TextLoader(\"state_of_the_union.txt\")\n",
        "\n",
        "documents = loader.load()\n",
        "text_splitter = CharacterTextSplitter(chunk_size=1000, chunk_overlap=0)\n",
        "texts = text_splitter.split_documents(documents)\n",
        "embeddings = OpenAIEmbeddings()\n",
        "vectorstore = FAISS.from_documents(texts, embeddings)"
      ]
    },
    {
      "cell_type": "markdown",
      "id": "6f6e65a1-5eb4-4165-b06b-9bb40624a8d8",
      "metadata": {},
      "source": [
        "然后我们可以实例化一个检索器："
      ]
    },
    {
      "cell_type": "code",
      "execution_count": 2,
      "id": "52df5f55",
      "metadata": {},
      "outputs": [],
      "source": [
        "retriever = vectorstore.as_retriever()"
      ]
    },
    {
      "cell_type": "markdown",
      "id": "08f8b820-5912-49c1-9d76-40be0571dffb",
      "metadata": {},
      "source": [
        "这将创建一个检索器（具体来说是 [VectorStoreRetriever](https://python.langchain.com/api_reference/core/vectorstores/langchain_core.vectorstores.base.VectorStoreRetriever.html)），我们可以像平常一样使用它："
      ]
    },
    {
      "cell_type": "code",
      "execution_count": 3,
      "id": "32334fda",
      "metadata": {},
      "outputs": [],
      "source": [
        "docs = retriever.invoke(\"what did the president say about ketanji brown jackson?\")"
      ]
    },
    {
      "cell_type": "markdown",
      "id": "fd7b19f0",
      "metadata": {},
      "source": [
        "## 最大边际相关性检索\n默认情况下，向量存储检索器使用相似性搜索。如果底层向量存储支持最大边际相关性搜索，您可以将其指定为搜索类型。\n\n这实际上指定了底层向量存储使用的什么方法（例如，`similarity_search`、`max_marginal_relevance_search` 等）。"
      ]
    },
    {
      "cell_type": "code",
      "execution_count": 4,
      "id": "b286ac04",
      "metadata": {},
      "outputs": [],
      "source": [
        "retriever = vectorstore.as_retriever(search_type=\"mmr\")"
      ]
    },
    {
      "cell_type": "code",
      "execution_count": 5,
      "id": "07f937f7",
      "metadata": {},
      "outputs": [],
      "source": [
        "docs = retriever.invoke(\"what did the president say about ketanji brown jackson?\")"
      ]
    },
    {
      "cell_type": "markdown",
      "id": "6ce77789",
      "metadata": {},
      "source": [
        "## 传递搜索参数\n\n我们可以使用 `search_kwargs` 将参数传递给底层的向量存储的搜索方法。\n\n### 相似度分数阈值检索\n\n例如，我们可以设置一个相似度分数阈值，只返回分数高于该阈值的文档。"
      ]
    },
    {
      "cell_type": "code",
      "execution_count": 6,
      "id": "dbb38a03",
      "metadata": {},
      "outputs": [],
      "source": [
        "retriever = vectorstore.as_retriever(\n",
        "    search_type=\"similarity_score_threshold\", search_kwargs={\"score_threshold\": 0.5}\n",
        ")"
      ]
    },
    {
      "cell_type": "code",
      "execution_count": 7,
      "id": "56f6c9ae",
      "metadata": {},
      "outputs": [],
      "source": [
        "docs = retriever.invoke(\"what did the president say about ketanji brown jackson?\")"
      ]
    },
    {
      "cell_type": "markdown",
      "id": "329f5b26",
      "metadata": {},
      "source": [
        "### 指定 top k\n\n我们也可以限制检索器返回的文档数量 `k`。"
      ]
    },
    {
      "cell_type": "code",
      "execution_count": 8,
      "id": "d712c91d",
      "metadata": {},
      "outputs": [],
      "source": [
        "retriever = vectorstore.as_retriever(search_kwargs={\"k\": 1})"
      ]
    },
    {
      "cell_type": "code",
      "execution_count": 9,
      "id": "a79b573b",
      "metadata": {},
      "outputs": [
        {
          "data": {
            "text/plain": [
              "1"
            ]
          },
          "execution_count": 9,
          "metadata": {},
          "output_type": "execute_result"
        }
      ],
      "source": [
        "docs = retriever.invoke(\"what did the president say about ketanji brown jackson?\")\n",
        "len(docs)"
      ]
    }
  ],
  "metadata": {
    "kernelspec": {
      "display_name": "Python 3 (ipykernel)",
      "language": "python",
      "name": "python3"
    },
    "language_info": {
      "codemirror_mode": {
        "name": "ipython",
        "version": 3
      },
      "file_extension": ".py",
      "mimetype": "text/x-python",
      "name": "python",
      "nbconvert_exporter": "python",
      "pygments_lexer": "ipython3",
      "version": "3.10.4"
    }
  },
  "nbformat": 4,
  "nbformat_minor": 5
}