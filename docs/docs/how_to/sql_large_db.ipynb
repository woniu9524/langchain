{
  "cells": [
    {
      "cell_type": "markdown",
      "id": "6751831d-9b08-434f-829b-d0052a3b119f",
      "metadata": {},
      "source": [
        "# 大型数据库的 SQL 问答处理方法\n\n为了编写对数据库有效的查询，我们需要向模型提供表名、表模式和用于查询的特征值。当存在许多表、列和/或高基数（high-cardinality）列时，我们无法在每个提示中转储关于数据库的全部信息。相反，我们必须找到动态地将最相关信息插入提示的方法。\n\n在本指南中，我们将演示识别此类相关信息并将它们输入查询生成步骤的方法。我们将涵盖：\n\n1. 识别相关的表子集；\n2. 识别相关的列值子集。\n\n## 设置\n\n首先，获取所需的包并设置环境变量："
      ]
    },
    {
      "cell_type": "code",
      "execution_count": null,
      "id": "afd5c20e-c705-4ef4-b33b-71fa819215ce",
      "metadata": {},
      "outputs": [],
      "source": [
        "%pip install --upgrade --quiet  langchain langchain-community langchain-openai"
      ]
    },
    {
      "cell_type": "code",
      "execution_count": null,
      "id": "592e0c93-5396-44ec-92f0-1635ddd59a42",
      "metadata": {},
      "outputs": [],
      "source": [
        "# Uncomment the below to use LangSmith. Not required.\n",
        "# import os\n",
        "# os.environ[\"LANGSMITH_API_KEY\"] = getpass.getpass()\n",
        "# os.environ[\"LANGSMITH_TRACING\"] = \"true\""
      ]
    },
    {
      "cell_type": "markdown",
      "id": "590ee096-db88-42af-90d4-99b8149df753",
      "metadata": {},
      "source": [
        "以下示例将使用 SQLite 连接到 Chinook 数据库。请遵循 [这些安装步骤](https://database.guide/2-sample-databases-sqlite/)，在与此笔记本相同的目录中创建 `Chinook.db`：\n\n* 将 [此文件](https://raw.githubusercontent.com/lerocha/chinook-database/master/ChinookDatabase/DataSources/Chinook_Sqlite.sql) 保存为 `Chinook_Sqlite.sql`\n* 运行 `sqlite3 Chinook.db`\n* 运行 `.read Chinook_Sqlite.sql`\n* 测试 `SELECT * FROM Artist LIMIT 10;`\n\n现在，`Chinook.db` 已经位于我们的目录中，我们可以使用 SQLAlchemy 驱动的 [SQLDatabase](https://python.langchain.com/api_reference/community/utilities/langchain_community.utilities.sql_database.SQLDatabase.html) 类来与之交互："
      ]
    },
    {
      "cell_type": "code",
      "execution_count": 1,
      "id": "cebd3915-f58f-4e73-8459-265630ae8cd4",
      "metadata": {},
      "outputs": [
        {
          "name": "stdout",
          "output_type": "stream",
          "text": [
            "sqlite\n",
            "['Album', 'Artist', 'Customer', 'Employee', 'Genre', 'Invoice', 'InvoiceLine', 'MediaType', 'Playlist', 'PlaylistTrack', 'Track']\n",
            "[(1, 'AC/DC'), (2, 'Accept'), (3, 'Aerosmith'), (4, 'Alanis Morissette'), (5, 'Alice In Chains'), (6, 'Antônio Carlos Jobim'), (7, 'Apocalyptica'), (8, 'Audioslave'), (9, 'BackBeat'), (10, 'Billy Cobham')]\n"
          ]
        }
      ],
      "source": [
        "from langchain_community.utilities import SQLDatabase\n",
        "\n",
        "db = SQLDatabase.from_uri(\"sqlite:///Chinook.db\")\n",
        "print(db.dialect)\n",
        "print(db.get_usable_table_names())\n",
        "print(db.run(\"SELECT * FROM Artist LIMIT 10;\"))"
      ]
    },
    {
      "cell_type": "markdown",
      "id": "2e572e1f-99b5-46a2-9023-76d1e6256c0a",
      "metadata": {},
      "source": [
        "## 许多表\n\n我们需要在提示中包含的一个主要信息是相关表的模式。当我们有很多表时，无法将所有模式都包含在单个提示中。在这种情况下，我们可以首先提取与用户输入相关的表的名称，然后只包含它们的模式。\n\n一种简单可靠的方法是使用 [tool-calling](/docs/how_to/tool_calling)。下面，我们将展示如何使用此功能来获得符合所需格式的输出（在本例中为表名列表）。我们使用聊天模型的 `.bind_tools` 方法来绑定 Pydantic 格式的工具，并将其馈送到输出解析器中，以从模型的响应中重建对象。\n\nimport ChatModelTabs from \"@theme/ChatModelTabs\";\n\n<ChatModelTabs customVarName=\"llm\" />"
      ]
    },
    {
      "cell_type": "code",
      "execution_count": 3,
      "id": "d278de7e-9228-4265-abf2-7a5e214a7dd7",
      "metadata": {},
      "outputs": [],
      "source": [
        "# | output: false\n",
        "# | echo: false\n",
        "\n",
        "from langchain_openai import ChatOpenAI\n",
        "\n",
        "llm = ChatOpenAI()"
      ]
    },
    {
      "cell_type": "code",
      "execution_count": 4,
      "id": "dbfc94bb-1c64-4f77-9e65-fb2468f55a58",
      "metadata": {},
      "outputs": [
        {
          "data": {
            "text/plain": [
              "[Table(name='Genre')]"
            ]
          },
          "execution_count": 4,
          "metadata": {},
          "output_type": "execute_result"
        }
      ],
      "source": [
        "from langchain_core.output_parsers.openai_tools import PydanticToolsParser\n",
        "from langchain_core.prompts import ChatPromptTemplate\n",
        "from pydantic import BaseModel, Field\n",
        "\n",
        "\n",
        "class Table(BaseModel):\n",
        "    \"\"\"Table in SQL database.\"\"\"\n",
        "\n",
        "    name: str = Field(description=\"Name of table in SQL database.\")\n",
        "\n",
        "\n",
        "table_names = \"\\n\".join(db.get_usable_table_names())\n",
        "system = f\"\"\"Return the names of ALL the SQL tables that MIGHT be relevant to the user question. \\\n",
        "The tables are:\n",
        "\n",
        "{table_names}\n",
        "\n",
        "Remember to include ALL POTENTIALLY RELEVANT tables, even if you're not sure that they're needed.\"\"\"\n",
        "\n",
        "prompt = ChatPromptTemplate.from_messages(\n",
        "    [\n",
        "        (\"system\", system),\n",
        "        (\"human\", \"{input}\"),\n",
        "    ]\n",
        ")\n",
        "llm_with_tools = llm.bind_tools([Table])\n",
        "output_parser = PydanticToolsParser(tools=[Table])\n",
        "\n",
        "table_chain = prompt | llm_with_tools | output_parser\n",
        "\n",
        "table_chain.invoke({\"input\": \"What are all the genres of Alanis Morissette songs\"})"
      ]
    },
    {
      "cell_type": "markdown",
      "id": "1641dbba-d359-4cb2-ac52-82dfae99f392",
      "metadata": {},
      "source": [
        "这效果相当不错！不过，正如我们下面将看到的，我们实际上还需要几个其他的表格。仅凭用户问题，模型很难知道这一点。在这种情况下，我们或许可以考虑通过将表格分组来简化模型的任务。我们将只要求模型在“音乐”和“商业”两个类别之间进行选择，然后由模型来处理选取所有相关表的工作："
      ]
    },
    {
      "cell_type": "code",
      "execution_count": 5,
      "id": "0ccb0bf5-c580-428f-9cde-a58772ae784e",
      "metadata": {},
      "outputs": [
        {
          "data": {
            "text/plain": [
              "[Table(name='Music'), Table(name='Business')]"
            ]
          },
          "execution_count": 5,
          "metadata": {},
          "output_type": "execute_result"
        }
      ],
      "source": [
        "system = \"\"\"Return the names of any SQL tables that are relevant to the user question.\n",
        "The tables are:\n",
        "\n",
        "Music\n",
        "Business\n",
        "\"\"\"\n",
        "\n",
        "prompt = ChatPromptTemplate.from_messages(\n",
        "    [\n",
        "        (\"system\", system),\n",
        "        (\"human\", \"{input}\"),\n",
        "    ]\n",
        ")\n",
        "\n",
        "category_chain = prompt | llm_with_tools | output_parser\n",
        "category_chain.invoke({\"input\": \"What are all the genres of Alanis Morissette songs\"})"
      ]
    },
    {
      "cell_type": "code",
      "execution_count": 6,
      "id": "883eda7a-7d0f-4012-9658-6a1010c7cda9",
      "metadata": {},
      "outputs": [
        {
          "data": {
            "text/plain": [
              "['Album',\n",
              " 'Artist',\n",
              " 'Genre',\n",
              " 'MediaType',\n",
              " 'Playlist',\n",
              " 'PlaylistTrack',\n",
              " 'Track',\n",
              " 'Customer',\n",
              " 'Employee',\n",
              " 'Invoice',\n",
              " 'InvoiceLine']"
            ]
          },
          "execution_count": 6,
          "metadata": {},
          "output_type": "execute_result"
        }
      ],
      "source": [
        "from typing import List\n",
        "\n",
        "\n",
        "def get_tables(categories: List[Table]) -> List[str]:\n",
        "    tables = []\n",
        "    for category in categories:\n",
        "        if category.name == \"Music\":\n",
        "            tables.extend(\n",
        "                [\n",
        "                    \"Album\",\n",
        "                    \"Artist\",\n",
        "                    \"Genre\",\n",
        "                    \"MediaType\",\n",
        "                    \"Playlist\",\n",
        "                    \"PlaylistTrack\",\n",
        "                    \"Track\",\n",
        "                ]\n",
        "            )\n",
        "        elif category.name == \"Business\":\n",
        "            tables.extend([\"Customer\", \"Employee\", \"Invoice\", \"InvoiceLine\"])\n",
        "    return tables\n",
        "\n",
        "\n",
        "table_chain = category_chain | get_tables\n",
        "table_chain.invoke({\"input\": \"What are all the genres of Alanis Morissette songs\"})"
      ]
    },
    {
      "cell_type": "markdown",
      "id": "04d52d01-1ccf-4753-b34a-0dcbc4921f78",
      "metadata": {},
      "source": [
        "现在我们有了一个可以针对任何查询输出相关表的链，我们可以将其与我们的 [create_sql_query_chain](https://python.langchain.com/api_reference/langchain/chains/langchain.chains.sql_database.query.create_sql_query_chain.html) 结合起来，该链接受 `table_names_to_use` 列表来确定提示中包含哪些表的模式："
      ]
    },
    {
      "cell_type": "code",
      "execution_count": 7,
      "id": "79f2a5a2-eb99-47e3-9c2b-e5751a800174",
      "metadata": {},
      "outputs": [],
      "source": [
        "from operator import itemgetter\n",
        "\n",
        "from langchain.chains import create_sql_query_chain\n",
        "from langchain_core.runnables import RunnablePassthrough\n",
        "\n",
        "query_chain = create_sql_query_chain(llm, db)\n",
        "# Convert \"question\" key to the \"input\" key expected by current table_chain.\n",
        "table_chain = {\"input\": itemgetter(\"question\")} | table_chain\n",
        "# Set table_names_to_use using table_chain.\n",
        "full_chain = RunnablePassthrough.assign(table_names_to_use=table_chain) | query_chain"
      ]
    },
    {
      "cell_type": "code",
      "execution_count": 8,
      "id": "3c74b418-aa9a-4eb5-89dd-6e1a99a21344",
      "metadata": {},
      "outputs": [
        {
          "name": "stdout",
          "output_type": "stream",
          "text": [
            "SELECT DISTINCT \"g\".\"Name\"\n",
            "FROM \"Genre\" g\n",
            "JOIN \"Track\" t ON \"g\".\"GenreId\" = \"t\".\"GenreId\"\n",
            "JOIN \"Album\" a ON \"t\".\"AlbumId\" = \"a\".\"AlbumId\"\n",
            "JOIN \"Artist\" ar ON \"a\".\"ArtistId\" = \"ar\".\"ArtistId\"\n",
            "WHERE \"ar\".\"Name\" = 'Alanis Morissette'\n",
            "LIMIT 5;\n"
          ]
        }
      ],
      "source": [
        "query = full_chain.invoke(\n",
        "    {\"question\": \"What are all the genres of Alanis Morissette songs\"}\n",
        ")\n",
        "print(query)"
      ]
    },
    {
      "cell_type": "code",
      "execution_count": 9,
      "id": "ace7bdbf-728e-4f7b-a361-b44dae404481",
      "metadata": {},
      "outputs": [
        {
          "data": {
            "text/plain": [
              "\"[('Rock',)]\""
            ]
          },
          "execution_count": 9,
          "metadata": {},
          "output_type": "execute_result"
        }
      ],
      "source": [
        "db.run(query)"
      ]
    },
    {
      "cell_type": "markdown",
      "id": "7a717020-84c2-40f3-ba84-6624138d8e0c",
      "metadata": {},
      "source": [
        "我们可以看到本次运行的 LangSmith trace [在此](https://smith.langchain.com/public/4fbad408-3554-4f33-ab47-1e510a1b52a3/r)。\n\n我们已经看到了如何在链中的提示中动态包含表模式的子集。解决这个问题的另一种可能方法是让 Agent 自己决定何时查找表，方法是给它提供一个用于此目的的工具。您可以在 [SQL: Agents](/docs/tutorials/sql_qa/#agents) 指南中找到一个示例。"
      ]
    },
    {
      "cell_type": "markdown",
      "id": "cb9e54fd-64ca-4ed5-847c-afc635aae4f5",
      "metadata": {},
      "source": [
        "## 高基数性列\n\n为了过滤包含地址、歌曲名称或艺术家等专有名词的列，我们首先需要仔细检查拼写，以便正确地筛选数据。\n\n一个朴素的策略是创建一个包含数据库中所有不同专有名词的向量存储。然后，我们可以针对每个用户输入查询该向量存储，并将最相关的专有名词注入提示。\n\n首先，我们需要获取我们想要的每个实体的唯一值，为此我们定义了一个函数来解析结果为元素列表："
      ]
    },
    {
      "cell_type": "code",
      "execution_count": 10,
      "id": "dc97e6ba-6055-4677-b0cc-c5425d5d4c81",
      "metadata": {},
      "outputs": [
        {
          "data": {
            "text/plain": [
              "['AC/DC', 'Accept', 'Aerosmith', 'Alanis Morissette', 'Alice In Chains']"
            ]
          },
          "execution_count": 10,
          "metadata": {},
          "output_type": "execute_result"
        }
      ],
      "source": [
        "import ast\n",
        "import re\n",
        "\n",
        "\n",
        "def query_as_list(db, query):\n",
        "    res = db.run(query)\n",
        "    res = [el for sub in ast.literal_eval(res) for el in sub if el]\n",
        "    res = [re.sub(r\"\\b\\d+\\b\", \"\", string).strip() for string in res]\n",
        "    return res\n",
        "\n",
        "\n",
        "proper_nouns = query_as_list(db, \"SELECT Name FROM Artist\")\n",
        "proper_nouns += query_as_list(db, \"SELECT Title FROM Album\")\n",
        "proper_nouns += query_as_list(db, \"SELECT Name FROM Genre\")\n",
        "len(proper_nouns)\n",
        "proper_nouns[:5]"
      ]
    },
    {
      "cell_type": "markdown",
      "id": "22efa968-1879-4d7a-858f-7899dfa57454",
      "metadata": {},
      "source": [
        "现在我们可以将所有值嵌入并存储在向量数据库中了："
      ]
    },
    {
      "cell_type": "code",
      "execution_count": 11,
      "id": "ea50abce-545a-4dc3-8795-8d364f7d142a",
      "metadata": {},
      "outputs": [],
      "source": [
        "from langchain_community.vectorstores import FAISS\n",
        "from langchain_openai import OpenAIEmbeddings\n",
        "\n",
        "vector_db = FAISS.from_texts(proper_nouns, OpenAIEmbeddings())\n",
        "retriever = vector_db.as_retriever(search_kwargs={\"k\": 15})"
      ]
    },
    {
      "cell_type": "markdown",
      "id": "a5d1d5c0-0928-40a4-b961-f1afe03cd5d3",
      "metadata": {},
      "source": [
        "并构建一个查询构建链，该链首先从数据库中检索值，然后将它们插入到提示中："
      ]
    },
    {
      "cell_type": "code",
      "execution_count": 12,
      "id": "006b2955-4c06-4597-9c1d-442f77cd0261",
      "metadata": {},
      "outputs": [],
      "source": [
        "from operator import itemgetter\n",
        "\n",
        "from langchain_core.prompts import ChatPromptTemplate\n",
        "from langchain_core.runnables import RunnablePassthrough\n",
        "\n",
        "system = \"\"\"You are a SQLite expert. Given an input question, create a syntactically\n",
        "correct SQLite query to run. Unless otherwise specificed, do not return more than\n",
        "{top_k} rows.\n",
        "\n",
        "Only return the SQL query with no markup or explanation.\n",
        "\n",
        "Here is the relevant table info: {table_info}\n",
        "\n",
        "Here is a non-exhaustive list of possible feature values. If filtering on a feature\n",
        "value make sure to check its spelling against this list first:\n",
        "\n",
        "{proper_nouns}\n",
        "\"\"\"\n",
        "\n",
        "prompt = ChatPromptTemplate.from_messages([(\"system\", system), (\"human\", \"{input}\")])\n",
        "\n",
        "query_chain = create_sql_query_chain(llm, db, prompt=prompt)\n",
        "retriever_chain = (\n",
        "    itemgetter(\"question\")\n",
        "    | retriever\n",
        "    | (lambda docs: \"\\n\".join(doc.page_content for doc in docs))\n",
        ")\n",
        "chain = RunnablePassthrough.assign(proper_nouns=retriever_chain) | query_chain"
      ]
    },
    {
      "cell_type": "markdown",
      "id": "12b0ed60-2536-4f82-85df-e096a272072a",
      "metadata": {},
      "source": [
        "为了试用我们的链，让我们看看在不检索和检索的情况下，对 \"elenis moriset\"（艾拉妮丝·莫莉塞特拼写错误）进行过滤会发生什么情况："
      ]
    },
    {
      "cell_type": "code",
      "execution_count": 13,
      "id": "5ba81336-0853-43da-8b07-5a256b8ba0b6",
      "metadata": {},
      "outputs": [
        {
          "name": "stdout",
          "output_type": "stream",
          "text": [
            "SELECT DISTINCT g.Name \n",
            "FROM Track t\n",
            "JOIN Album a ON t.AlbumId = a.AlbumId\n",
            "JOIN Artist ar ON a.ArtistId = ar.ArtistId\n",
            "JOIN Genre g ON t.GenreId = g.GenreId\n",
            "WHERE ar.Name = 'Elenis Moriset';\n"
          ]
        },
        {
          "data": {
            "text/plain": [
              "''"
            ]
          },
          "execution_count": 13,
          "metadata": {},
          "output_type": "execute_result"
        }
      ],
      "source": [
        "# Without retrieval\n",
        "query = query_chain.invoke(\n",
        "    {\"question\": \"What are all the genres of elenis moriset songs\", \"proper_nouns\": \"\"}\n",
        ")\n",
        "print(query)\n",
        "db.run(query)"
      ]
    },
    {
      "cell_type": "code",
      "execution_count": 14,
      "id": "cbbff7cc-c616-41eb-bbf5-08bd42c6808e",
      "metadata": {},
      "outputs": [
        {
          "name": "stdout",
          "output_type": "stream",
          "text": [
            "SELECT DISTINCT g.Name\n",
            "FROM Genre g\n",
            "JOIN Track t ON g.GenreId = t.GenreId\n",
            "JOIN Album a ON t.AlbumId = a.AlbumId\n",
            "JOIN Artist ar ON a.ArtistId = ar.ArtistId\n",
            "WHERE ar.Name = 'Alanis Morissette';\n"
          ]
        },
        {
          "data": {
            "text/plain": [
              "\"[('Rock',)]\""
            ]
          },
          "execution_count": 14,
          "metadata": {},
          "output_type": "execute_result"
        }
      ],
      "source": [
        "# With retrieval\n",
        "query = chain.invoke({\"question\": \"What are all the genres of elenis moriset songs\"})\n",
        "print(query)\n",
        "db.run(query)"
      ]
    },
    {
      "cell_type": "markdown",
      "id": "7f99181b-a75c-4ff3-b37b-33f99a506581",
      "metadata": {},
      "source": [
        "我们可以看到，通过检索，我们能够将拼写从“Elenis Moriset”纠正为“Alanis Morissette”，并获得有效结果。\n\n解决这个问题的另一种可能方法是让 Agent 自己决定何时查找专有名词。你可以在 [SQL: Agents](/docs/tutorials/sql_qa/#agents) 指南中看到一个示例。"
      ]
    }
  ],
  "metadata": {
    "kernelspec": {
      "display_name": "Python 3 (ipykernel)",
      "language": "python",
      "name": "python3"
    },
    "language_info": {
      "codemirror_mode": {
        "name": "ipython",
        "version": 3
      },
      "file_extension": ".py",
      "mimetype": "text/x-python",
      "name": "python",
      "nbconvert_exporter": "python",
      "pygments_lexer": "ipython3",
      "version": "3.10.4"
    }
  },
  "nbformat": 4,
  "nbformat_minor": 5
}