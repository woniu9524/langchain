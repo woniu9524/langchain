{
  "cells": [
    {
      "attachments": {},
      "cell_type": "markdown",
      "id": "c160026f-aadb-4e9f-8642-b4a9e8479d77",
      "metadata": {},
      "source": [
        "# 自定义 Embeddings\n\nLangChain 已与许多 [第三方 embedding 模型](/docs/integrations/text_embedding/) 集成。在本指南中，我们将展示如何创建自定义 Embedding 类，以防内置类尚不存在。Embeddings 在自然语言处理应用中至关重要，因为它们将文本转换为算法可以理解的数值形式，从而支持各种应用，如相似性搜索、文本分类和聚类。\n\n使用标准的 [Embeddings](https://python.langchain.com/api_reference/core/embeddings/langchain_core.embeddings.embeddings.Embeddings.html) 接口实现 embeddings 将允许您的 embeddings 在现有的 `LangChain` 抽象中使用（例如，作为[VectorStore](https://python.langchain.com/api_reference/core/vectorstores/langchain_core.vectorstores.base.VectorStore.html) 的底层 embeddings 或使用 [CacheBackedEmbeddings](/docs/how_to/caching_embeddings/) 进行缓存）。\n\n## Interface\n\nLangChain 中当前的 `Embeddings` 抽象旨在处理文本数据。在此实现中，输入是单个字符串或字符串列表，输出是数值数组（向量）的列表，其中每个向量代表\n将输入文本嵌入到某个 n 维空间。\n\n您的自定义 embedding 必须实现以下方法：\n\n| 方法/属性                 | 描述                                       | 必需/可选 |\n|-----------------------------|--------------------------------------------|-----------|\n| `embed_documents(texts)`    | 为字符串列表生成 embeddings。              | 必需      |\n| `embed_query(text)`         | 为单个文本查询生成 embedding。             | 必需      |\n| `aembed_documents(texts)`   | 异步为字符串列表生成 embeddings。         | 可选      |\n| `aembed_query(text)`        | 异步为单个文本查询生成 embedding。        | 可选      |\n\n这些方法确保您的 embedding 模型可以无缝集成到 LangChain 框架中，提供同步和异步功能以优化可扩展性和性能。\n\n:::note\n`Embeddings` 目前不实现 [Runnable](/docs/concepts/runnables/) 接口，也不是 pydantic `BaseModel` 的实例。\n:::\n\n### Embedding 查询与文档\n\n`embed_query` 和 `embed_documents` 方法是必需的。这些方法都处理\n字符串输入。出于历史原因，vector store 使用 embedding 模型来访问 `Document.page_content` 属性。\n\n`embed_query` 接受单个字符串并返回一个单一的 embedding，表示为浮点数列表。\n如果您的模型在嵌入查询与底层文档方面有不同的模式，您可以\n实现此方法来处理这种情况。\n\n`embed_documents` 接受字符串列表并返回 embedding 列表，表示为浮点数列表的列表。\n\n:::note\n`embed_documents` 接受纯文本列表，而不是 LangChain `Document` 对象列表。此方法的名称\n可能在 LangChain 的未来版本中更改。\n:::"
      ]
    },
    {
      "cell_type": "markdown",
      "id": "2162547f-4577-47e8-b12f-e9aa3c243797",
      "metadata": {},
      "source": [
        "## 实现\n\n例如，我们将实现一个返回常量向量的简单嵌入模型。此模型仅用于说明目的。"
      ]
    },
    {
      "cell_type": "code",
      "execution_count": 1,
      "id": "6b838062-552c-43f8-94f8-d17e4ae4c221",
      "metadata": {},
      "outputs": [],
      "source": [
        "from typing import List\n",
        "\n",
        "from langchain_core.embeddings import Embeddings\n",
        "\n",
        "\n",
        "class ParrotLinkEmbeddings(Embeddings):\n",
        "    \"\"\"ParrotLink embedding model integration.\n",
        "\n",
        "    # TODO: Populate with relevant params.\n",
        "    Key init args — completion params:\n",
        "        model: str\n",
        "            Name of ParrotLink model to use.\n",
        "\n",
        "    See full list of supported init args and their descriptions in the params section.\n",
        "\n",
        "    # TODO: Replace with relevant init params.\n",
        "    Instantiate:\n",
        "        .. code-block:: python\n",
        "\n",
        "            from langchain_parrot_link import ParrotLinkEmbeddings\n",
        "\n",
        "            embed = ParrotLinkEmbeddings(\n",
        "                model=\"...\",\n",
        "                # api_key=\"...\",\n",
        "                # other params...\n",
        "            )\n",
        "\n",
        "    Embed single text:\n",
        "        .. code-block:: python\n",
        "\n",
        "            input_text = \"The meaning of life is 42\"\n",
        "            embed.embed_query(input_text)\n",
        "\n",
        "        .. code-block:: python\n",
        "\n",
        "            # TODO: Example output.\n",
        "\n",
        "    # TODO: Delete if token-level streaming isn't supported.\n",
        "    Embed multiple text:\n",
        "        .. code-block:: python\n",
        "\n",
        "             input_texts = [\"Document 1...\", \"Document 2...\"]\n",
        "            embed.embed_documents(input_texts)\n",
        "\n",
        "        .. code-block:: python\n",
        "\n",
        "            # TODO: Example output.\n",
        "\n",
        "    # TODO: Delete if native async isn't supported.\n",
        "    Async:\n",
        "        .. code-block:: python\n",
        "\n",
        "            await embed.aembed_query(input_text)\n",
        "\n",
        "            # multiple:\n",
        "            # await embed.aembed_documents(input_texts)\n",
        "\n",
        "        .. code-block:: python\n",
        "\n",
        "            # TODO: Example output.\n",
        "\n",
        "    \"\"\"\n",
        "\n",
        "    def __init__(self, model: str):\n",
        "        self.model = model\n",
        "\n",
        "    def embed_documents(self, texts: List[str]) -> List[List[float]]:\n",
        "        \"\"\"Embed search docs.\"\"\"\n",
        "        return [[0.5, 0.6, 0.7] for _ in texts]\n",
        "\n",
        "    def embed_query(self, text: str) -> List[float]:\n",
        "        \"\"\"Embed query text.\"\"\"\n",
        "        return self.embed_documents([text])[0]\n",
        "\n",
        "    # optional: add custom async implementations here\n",
        "    # you can also delete these, and the base class will\n",
        "    # use the default implementation, which calls the sync\n",
        "    # version in an async executor:\n",
        "\n",
        "    # async def aembed_documents(self, texts: List[str]) -> List[List[float]]:\n",
        "    #     \"\"\"Asynchronous Embed search docs.\"\"\"\n",
        "    #     ...\n",
        "\n",
        "    # async def aembed_query(self, text: str) -> List[float]:\n",
        "    #     \"\"\"Asynchronous Embed query text.\"\"\"\n",
        "    #     ..."
      ]
    },
    {
      "cell_type": "markdown",
      "id": "47a19044-5c3f-40da-889a-1a1cfffc137c",
      "metadata": {},
      "source": [
        "### 让我们来测试一下 \n\n🧪"
      ]
    },
    {
      "cell_type": "code",
      "execution_count": 2,
      "id": "21c218fe-8f91-437f-b523-c2b6e5cf749e",
      "metadata": {},
      "outputs": [
        {
          "name": "stdout",
          "output_type": "stream",
          "text": [
            "[[0.5, 0.6, 0.7], [0.5, 0.6, 0.7]]\n",
            "[0.5, 0.6, 0.7]\n"
          ]
        }
      ],
      "source": [
        "embeddings = ParrotLinkEmbeddings(\"test-model\")\n",
        "print(embeddings.embed_documents([\"Hello\", \"world\"]))\n",
        "print(embeddings.embed_query(\"Hello\"))"
      ]
    },
    {
      "cell_type": "markdown",
      "id": "de50f690-178e-4561-af98-14967b3c8501",
      "metadata": {},
      "source": [
        "## 贡献\n\n我们欢迎将 Embedding 模型贡献给 LangChain 代码库。\n\n如果您旨在为新的提供商（例如，具有新依赖项或 SDK 的提供商）贡献 Embedding 模型，我们鼓励您在单独的 `langchain-*` 集成包中发布您的实现。这将使您能够妥善管理依赖项并对您的包进行版本控制。请参阅我们的[贡献指南](/docs/contributing/how_to/integrations/)了解此过程的完整说明。"
      ]
    }
  ],
  "metadata": {
    "kernelspec": {
      "display_name": "Python 3 (ipykernel)",
      "language": "python",
      "name": "python3"
    },
    "language_info": {
      "codemirror_mode": {
        "name": "ipython",
        "version": 3
      },
      "file_extension": ".py",
      "mimetype": "text/x-python",
      "name": "python",
      "nbconvert_exporter": "python",
      "pygments_lexer": "ipython3",
      "version": "3.10.4"
    }
  },
  "nbformat": 4,
  "nbformat_minor": 5
}