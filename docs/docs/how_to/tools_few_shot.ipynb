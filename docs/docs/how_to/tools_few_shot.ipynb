{
  "cells": [
    {
      "cell_type": "markdown",
      "metadata": {},
      "source": [
        "# 如何使用少样本提示配合工具调用\n\n为了实现更复杂的工具使用，在提示种加入[少样本示例](/docs/concepts/few_shot_prompting/)会非常有帮助。我们可以通过向提示中添加包含 `ToolCall` 的 `AIMessage` 以及相应的 `ToolMessage` 来实现这一点。\n\n首先，让我们定义我们的工具和模型。"
      ]
    },
    {
      "cell_type": "code",
      "execution_count": null,
      "metadata": {},
      "outputs": [],
      "source": [
        "from langchain_core.tools import tool\n",
        "\n",
        "\n",
        "@tool\n",
        "def add(a: int, b: int) -> int:\n",
        "    \"\"\"Adds a and b.\"\"\"\n",
        "    return a + b\n",
        "\n",
        "\n",
        "@tool\n",
        "def multiply(a: int, b: int) -> int:\n",
        "    \"\"\"Multiplies a and b.\"\"\"\n",
        "    return a * b\n",
        "\n",
        "\n",
        "tools = [add, multiply]"
      ]
    },
    {
      "cell_type": "code",
      "execution_count": null,
      "metadata": {},
      "outputs": [],
      "source": [
        "import os\n",
        "from getpass import getpass\n",
        "\n",
        "from langchain_openai import ChatOpenAI\n",
        "\n",
        "if \"OPENAI_API_KEY\" not in os.environ:\n",
        "    os.environ[\"OPENAI_API_KEY\"] = getpass()\n",
        "\n",
        "llm = ChatOpenAI(model=\"gpt-4o-mini\", temperature=0)\n",
        "llm_with_tools = llm.bind_tools(tools)"
      ]
    },
    {
      "cell_type": "markdown",
      "metadata": {},
      "source": [
        "让我们运行我们的模型，以便我们注意到，即使有一些特殊的指令，我们的模型也会被运算顺序所困扰。"
      ]
    },
    {
      "cell_type": "code",
      "execution_count": null,
      "metadata": {},
      "outputs": [
        {
          "data": {
            "text/plain": [
              "[{'name': 'Multiply',\n",
              "  'args': {'a': 119, 'b': 8},\n",
              "  'id': 'call_T88XN6ECucTgbXXkyDeC2CQj'},\n",
              " {'name': 'Add',\n",
              "  'args': {'a': 952, 'b': -20},\n",
              "  'id': 'call_licdlmGsRqzup8rhqJSb1yZ4'}]"
            ]
          },
          "metadata": {},
          "output_type": "display_data"
        }
      ],
      "source": [
        "llm_with_tools.invoke(\n",
        "    \"Whats 119 times 8 minus 20. Don't do any math yourself, only use tools for math. Respect order of operations\"\n",
        ").tool_calls"
      ]
    },
    {
      "cell_type": "markdown",
      "metadata": {},
      "source": [
        "模型此时不应尝试进行任何添加，因为它实际上还不知道 119 * 8 的结果。\n\n通过添加包含一些示例文案的提示，我们可以纠正这种行为："
      ]
    },
    {
      "cell_type": "code",
      "execution_count": null,
      "metadata": {},
      "outputs": [
        {
          "data": {
            "text/plain": [
              "[{'name': 'Multiply',\n",
              "  'args': {'a': 119, 'b': 8},\n",
              "  'id': 'call_9MvuwQqg7dlJupJcoTWiEsDo'}]"
            ]
          },
          "metadata": {},
          "output_type": "display_data"
        }
      ],
      "source": [
        "from langchain_core.messages import AIMessage, HumanMessage, ToolMessage\n",
        "from langchain_core.prompts import ChatPromptTemplate\n",
        "from langchain_core.runnables import RunnablePassthrough\n",
        "\n",
        "examples = [\n",
        "    HumanMessage(\n",
        "        \"What's the product of 317253 and 128472 plus four\", name=\"example_user\"\n",
        "    ),\n",
        "    AIMessage(\n",
        "        \"\",\n",
        "        name=\"example_assistant\",\n",
        "        tool_calls=[\n",
        "            {\"name\": \"Multiply\", \"args\": {\"x\": 317253, \"y\": 128472}, \"id\": \"1\"}\n",
        "        ],\n",
        "    ),\n",
        "    ToolMessage(\"16505054784\", tool_call_id=\"1\"),\n",
        "    AIMessage(\n",
        "        \"\",\n",
        "        name=\"example_assistant\",\n",
        "        tool_calls=[{\"name\": \"Add\", \"args\": {\"x\": 16505054784, \"y\": 4}, \"id\": \"2\"}],\n",
        "    ),\n",
        "    ToolMessage(\"16505054788\", tool_call_id=\"2\"),\n",
        "    AIMessage(\n",
        "        \"The product of 317253 and 128472 plus four is 16505054788\",\n",
        "        name=\"example_assistant\",\n",
        "    ),\n",
        "]\n",
        "\n",
        "system = \"\"\"You are bad at math but are an expert at using a calculator. \n",
        "\n",
        "Use past tool usage as an example of how to correctly use the tools.\"\"\"\n",
        "few_shot_prompt = ChatPromptTemplate.from_messages(\n",
        "    [\n",
        "        (\"system\", system),\n",
        "        *examples,\n",
        "        (\"human\", \"{query}\"),\n",
        "    ]\n",
        ")\n",
        "\n",
        "chain = {\"query\": RunnablePassthrough()} | few_shot_prompt | llm_with_tools\n",
        "chain.invoke(\"Whats 119 times 8 minus 20\").tool_calls"
      ]
    },
    {
      "cell_type": "markdown",
      "metadata": {},
      "source": [
        "这次我们得到了正确的输出。\n\n这是 [LangSmith trace](https://smith.langchain.com/public/f70550a1-585f-4c9d-a643-13148ab1616f/r) 的样子。"
      ]
    }
  ],
  "metadata": {
    "language_info": {
      "name": "python"
    }
  },
  "nbformat": 4,
  "nbformat_minor": 2
}