{
  "cells": [
    {
      "cell_type": "markdown",
      "id": "72b1b316",
      "metadata": {},
      "source": [
        "# 如何解析 JSON 输出\n\n:::info 先决条件\n\n本指南假设您熟悉以下概念：\n- [聊天模型](/docs/concepts/chat_models)\n- [输出解析器](/docs/concepts/output_parsers)\n- [提示模板](/docs/concepts/prompt_templates)\n- [结构化输出](/docs/how_to/structured_output)\n- [链接运行器](/docs/how_to/sequence/)\n\n:::\n\n尽管某些模型提供商支持[返回结构化输出的内置方法](/docs/how_to/structured_output)，但并非所有提供商都支持。我们可以使用输出解析器来帮助用户通过提示指定任意 JSON schema，查询符合该 schema 的模型输出，并最终将该 schema 解析为 JSON。\n\n:::note\n请记住，大型语言模型是容易出错的抽象！您必须使用容量足够大的 LLM 来生成格式正确的 JSON。\n:::"
      ]
    },
    {
      "cell_type": "markdown",
      "id": "ae909b7a",
      "metadata": {},
      "source": [
        "`JsonOutputParser` 是一个内置选项，用于提示并解析 JSON 输出。虽然它的功能与 `PydanticOutputParser` 类似，但它还支持流式返回部分 JSON 对象。\n\n以下是一个将它与 [Pydantic](https://docs.pydantic.dev/) 一起使用的示例，可以方便地声明预期的 schema："
      ]
    },
    {
      "cell_type": "code",
      "execution_count": null,
      "id": "dd9d9110",
      "metadata": {},
      "outputs": [],
      "source": [
        "%pip install -qU langchain langchain-openai\n",
        "\n",
        "import os\n",
        "from getpass import getpass\n",
        "\n",
        "if \"OPENAI_API_KEY\" not in os.environ:\n",
        "    os.environ[\"OPENAI_API_KEY\"] = getpass()"
      ]
    },
    {
      "cell_type": "code",
      "execution_count": 2,
      "id": "4ccf45a3",
      "metadata": {},
      "outputs": [
        {
          "data": {
            "text/plain": [
              "{'setup': \"Why couldn't the bicycle stand up by itself?\",\n",
              " 'punchline': 'Because it was two tired!'}"
            ]
          },
          "execution_count": 2,
          "metadata": {},
          "output_type": "execute_result"
        }
      ],
      "source": [
        "from langchain_core.output_parsers import JsonOutputParser\n",
        "from langchain_core.prompts import PromptTemplate\n",
        "from langchain_openai import ChatOpenAI\n",
        "from pydantic import BaseModel, Field\n",
        "\n",
        "model = ChatOpenAI(temperature=0)\n",
        "\n",
        "\n",
        "# Define your desired data structure.\n",
        "class Joke(BaseModel):\n",
        "    setup: str = Field(description=\"question to set up a joke\")\n",
        "    punchline: str = Field(description=\"answer to resolve the joke\")\n",
        "\n",
        "\n",
        "# And a query intented to prompt a language model to populate the data structure.\n",
        "joke_query = \"Tell me a joke.\"\n",
        "\n",
        "# Set up a parser + inject instructions into the prompt template.\n",
        "parser = JsonOutputParser(pydantic_object=Joke)\n",
        "\n",
        "prompt = PromptTemplate(\n",
        "    template=\"Answer the user query.\\n{format_instructions}\\n{query}\\n\",\n",
        "    input_variables=[\"query\"],\n",
        "    partial_variables={\"format_instructions\": parser.get_format_instructions()},\n",
        ")\n",
        "\n",
        "chain = prompt | model | parser\n",
        "\n",
        "chain.invoke({\"query\": joke_query})"
      ]
    },
    {
      "cell_type": "markdown",
      "id": "51ffa2e3",
      "metadata": {},
      "source": [
        "请注意，我们正在将 `format_instructions` 从解析器直接传递到提示中。您可以并且应该尝试在提示的其他部分添加您自己的格式化提示，以增强或替换默认说明："
      ]
    },
    {
      "cell_type": "code",
      "execution_count": 3,
      "id": "72de9c82",
      "metadata": {},
      "outputs": [
        {
          "data": {
            "text/plain": [
              "'The output should be formatted as a JSON instance that conforms to the JSON schema below.\\n\\nAs an example, for the schema {\"properties\": {\"foo\": {\"title\": \"Foo\", \"description\": \"a list of strings\", \"type\": \"array\", \"items\": {\"type\": \"string\"}}}, \"required\": [\"foo\"]}\\nthe object {\"foo\": [\"bar\", \"baz\"]} is a well-formatted instance of the schema. The object {\"properties\": {\"foo\": [\"bar\", \"baz\"]}} is not well-formatted.\\n\\nHere is the output schema:\\n```\\n{\"properties\": {\"setup\": {\"title\": \"Setup\", \"description\": \"question to set up a joke\", \"type\": \"string\"}, \"punchline\": {\"title\": \"Punchline\", \"description\": \"answer to resolve the joke\", \"type\": \"string\"}}, \"required\": [\"setup\", \"punchline\"]}\\n```'"
            ]
          },
          "execution_count": 3,
          "metadata": {},
          "output_type": "execute_result"
        }
      ],
      "source": [
        "parser.get_format_instructions()"
      ]
    },
    {
      "cell_type": "markdown",
      "id": "37d801be",
      "metadata": {},
      "source": [
        "## 流式输出\n\n如上所述，`JsonOutputParser` 和 `PydanticOutputParser` 的一个关键区别是 `JsonOutputParser` 输出解析器支持流式输出的部分片段。具体如下："
      ]
    },
    {
      "cell_type": "code",
      "execution_count": 4,
      "id": "0309256d",
      "metadata": {},
      "outputs": [
        {
          "name": "stdout",
          "output_type": "stream",
          "text": [
            "{}\n",
            "{'setup': ''}\n",
            "{'setup': 'Why'}\n",
            "{'setup': 'Why couldn'}\n",
            "{'setup': \"Why couldn't\"}\n",
            "{'setup': \"Why couldn't the\"}\n",
            "{'setup': \"Why couldn't the bicycle\"}\n",
            "{'setup': \"Why couldn't the bicycle stand\"}\n",
            "{'setup': \"Why couldn't the bicycle stand up\"}\n",
            "{'setup': \"Why couldn't the bicycle stand up by\"}\n",
            "{'setup': \"Why couldn't the bicycle stand up by itself\"}\n",
            "{'setup': \"Why couldn't the bicycle stand up by itself?\"}\n",
            "{'setup': \"Why couldn't the bicycle stand up by itself?\", 'punchline': ''}\n",
            "{'setup': \"Why couldn't the bicycle stand up by itself?\", 'punchline': 'Because'}\n",
            "{'setup': \"Why couldn't the bicycle stand up by itself?\", 'punchline': 'Because it'}\n",
            "{'setup': \"Why couldn't the bicycle stand up by itself?\", 'punchline': 'Because it was'}\n",
            "{'setup': \"Why couldn't the bicycle stand up by itself?\", 'punchline': 'Because it was two'}\n",
            "{'setup': \"Why couldn't the bicycle stand up by itself?\", 'punchline': 'Because it was two tired'}\n",
            "{'setup': \"Why couldn't the bicycle stand up by itself?\", 'punchline': 'Because it was two tired!'}\n"
          ]
        }
      ],
      "source": [
        "for s in chain.stream({\"query\": joke_query}):\n",
        "    print(s)"
      ]
    },
    {
      "cell_type": "markdown",
      "id": "344bd968",
      "metadata": {},
      "source": [
        "## 无 Pydantic\n\n您也可以在不使用 Pydantic 的情况下使用 `JsonOutputParser`。这将提示模型返回 JSON，但不会提供关于 schema 具体应该是什么样的信息。"
      ]
    },
    {
      "cell_type": "code",
      "execution_count": 5,
      "id": "dd3806d1",
      "metadata": {},
      "outputs": [
        {
          "data": {
            "text/plain": [
              "{'response': \"Sure! Here's a joke for you: Why couldn't the bicycle stand up by itself? Because it was two tired!\"}"
            ]
          },
          "execution_count": 5,
          "metadata": {},
          "output_type": "execute_result"
        }
      ],
      "source": [
        "joke_query = \"Tell me a joke.\"\n",
        "\n",
        "parser = JsonOutputParser()\n",
        "\n",
        "prompt = PromptTemplate(\n",
        "    template=\"Answer the user query.\\n{format_instructions}\\n{query}\\n\",\n",
        "    input_variables=[\"query\"],\n",
        "    partial_variables={\"format_instructions\": parser.get_format_instructions()},\n",
        ")\n",
        "\n",
        "chain = prompt | model | parser\n",
        "\n",
        "chain.invoke({\"query\": joke_query})"
      ]
    },
    {
      "cell_type": "markdown",
      "id": "1eefe12b",
      "metadata": {},
      "source": [
        "## 后续步骤\n\n你现在已经学会了一种提示模型返回结构化 JSON 的方法。接下来，请查阅 [获取结构化输出的更广泛指南](/docs/how_to/structured_output) 来了解其他技术。"
      ]
    },
    {
      "cell_type": "code",
      "execution_count": null,
      "id": "a4d12261",
      "metadata": {},
      "outputs": [],
      "source": []
    }
  ],
  "metadata": {
    "kernelspec": {
      "display_name": "Python 3 (ipykernel)",
      "language": "python",
      "name": "python3"
    },
    "language_info": {
      "codemirror_mode": {
        "name": "ipython",
        "version": 3
      },
      "file_extension": ".py",
      "mimetype": "text/x-python",
      "name": "python",
      "nbconvert_exporter": "python",
      "pygments_lexer": "ipython3",
      "version": "3.9.1"
    }
  },
  "nbformat": 4,
  "nbformat_minor": 5
}