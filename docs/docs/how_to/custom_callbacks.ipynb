{
  "cells": [
    {
      "cell_type": "markdown",
      "metadata": {},
      "source": [
        "# 如何创建自定义回调处理器\n\n:::info 先决条件\n\n本指南假定您熟悉以下概念：\n\n- [回调](/docs/concepts/callbacks)\n\n:::\n\nLangChain 包含一些内置的回调处理器，但您通常会希望创建具有自定义逻辑的处理器。\n\n要创建自定义回调处理器，我们需要确定希望回调处理器处理的[事件](https://python.langchain.com/api_reference/core/callbacks/langchain_core.callbacks.base.BaseCallbackHandler.html#langchain-core-callbacks-base-basecallbackhandler)以及当事件触发时我们希望回调处理器做什么。然后，我们只需将回调处理器附加到对象上，例如通过[构造函数](/docs/how_to/callbacks_constructor)或[在运行时](/docs/how_to/callbacks_runtime)。\n\n在下面的示例中，我们将通过自定义处理器实现流式传输。\n\n在我们的自定义回调处理器 `MyCustomHandler` 中，我们实现了 `on_llm_new_token` 来打印我们刚刚收到的 token。然后，我们将自定义处理器作为构造函数回调附加到模型对象。"
      ]
    },
    {
      "cell_type": "code",
      "execution_count": null,
      "metadata": {},
      "outputs": [],
      "source": [
        "# | output: false\n",
        "# | echo: false\n",
        "\n",
        "%pip install -qU langchain langchain_anthropic\n",
        "\n",
        "import getpass\n",
        "import os\n",
        "\n",
        "os.environ[\"ANTHROPIC_API_KEY\"] = getpass.getpass()"
      ]
    },
    {
      "cell_type": "code",
      "execution_count": 3,
      "metadata": {},
      "outputs": [
        {
          "name": "stdout",
          "output_type": "stream",
          "text": [
            "My custom handler, token: Here\n",
            "My custom handler, token: 's\n",
            "My custom handler, token:  a\n",
            "My custom handler, token:  bear\n",
            "My custom handler, token:  joke\n",
            "My custom handler, token:  for\n",
            "My custom handler, token:  you\n",
            "My custom handler, token: :\n",
            "My custom handler, token: \n",
            "\n",
            "Why\n",
            "My custom handler, token:  di\n",
            "My custom handler, token: d the\n",
            "My custom handler, token:  bear\n",
            "My custom handler, token:  dissol\n",
            "My custom handler, token: ve\n",
            "My custom handler, token:  in\n",
            "My custom handler, token:  water\n",
            "My custom handler, token: ?\n",
            "My custom handler, token: \n",
            "Because\n",
            "My custom handler, token:  it\n",
            "My custom handler, token:  was\n",
            "My custom handler, token:  a\n",
            "My custom handler, token:  polar\n",
            "My custom handler, token:  bear\n",
            "My custom handler, token: !\n"
          ]
        }
      ],
      "source": [
        "from langchain_anthropic import ChatAnthropic\n",
        "from langchain_core.callbacks import BaseCallbackHandler\n",
        "from langchain_core.prompts import ChatPromptTemplate\n",
        "\n",
        "\n",
        "class MyCustomHandler(BaseCallbackHandler):\n",
        "    def on_llm_new_token(self, token: str, **kwargs) -> None:\n",
        "        print(f\"My custom handler, token: {token}\")\n",
        "\n",
        "\n",
        "prompt = ChatPromptTemplate.from_messages([\"Tell me a joke about {animal}\"])\n",
        "\n",
        "# To enable streaming, we pass in `streaming=True` to the ChatModel constructor\n",
        "# Additionally, we pass in our custom handler as a list to the callbacks parameter\n",
        "model = ChatAnthropic(\n",
        "    model=\"claude-3-sonnet-20240229\", streaming=True, callbacks=[MyCustomHandler()]\n",
        ")\n",
        "\n",
        "chain = prompt | model\n",
        "\n",
        "response = chain.invoke({\"animal\": \"bears\"})"
      ]
    },
    {
      "cell_type": "markdown",
      "metadata": {},
      "source": [
        "您可以在 [此参考页面](https://python.langchain.com/api_reference/core/callbacks/langchain_core.callbacks.base.BaseCallbackHandler.html#langchain-core-callbacks-base-basecallbackhandler) 查看您可以处理的事件列表。请注意，`handle_chain_*` 事件会针对大多数 LCEL 可运行对象运行。\n\n## 后续步骤\n\n您现在已经学会了如何创建自己的自定义回调处理程序。\n\n接下来，请查看本节中的其他操作指南，例如 [如何将回调附加到可运行对象](/docs/how_to/callbacks_attach)。"
      ]
    }
  ],
  "metadata": {
    "kernelspec": {
      "display_name": "Python 3",
      "language": "python",
      "name": "python3"
    },
    "language_info": {
      "codemirror_mode": {
        "name": "ipython",
        "version": 3
      },
      "file_extension": ".py",
      "mimetype": "text/x-python",
      "name": "python",
      "nbconvert_exporter": "python",
      "pygments_lexer": "ipython3",
      "version": "3.10.5"
    }
  },
  "nbformat": 4,
  "nbformat_minor": 2
}