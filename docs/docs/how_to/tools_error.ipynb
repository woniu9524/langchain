{
  "cells": [
    {
      "cell_type": "markdown",
      "id": "5d60cbb9-2a6a-43ea-a9e9-f67b16ddd2b2",
      "metadata": {},
      "source": [
        "# 如何处理工具错误\n\n:::info 先决条件\n\n本指南假设备您熟悉以下概念：\n- [Chat models](/docs/concepts/chat_models)\n- [LangChain Tools](/docs/concepts/tools)\n- [如何使用模型调用工具](/docs/how_to/tool_calling)\n\n:::\n\n使用 LLM [调用工具](/docs/concepts/tool_calling/) 通常比纯提示更可靠，但并非完美无缺。模型可能会尝试调用一个不存在的工具，或者无法返回与请求的 schema 匹配的参数。采用使 schema 保持简单、减少一次传递的工具数量，以及提供良好的名称和描述等策略可以帮助降低这种风险，但并非万无一失。\n\n本指南将介绍在 chains 中构建错误处理的一些方法，以缓解这些故障模式。"
      ]
    },
    {
      "cell_type": "markdown",
      "id": "712c774f-27c7-4351-a196-39900ca155f5",
      "metadata": {},
      "source": [
        "## 设置\n\n我们需要安装以下包："
      ]
    },
    {
      "cell_type": "code",
      "execution_count": null,
      "id": "63056c24-9834-4e3d-8bc5-54b1e6c5df86",
      "metadata": {},
      "outputs": [],
      "source": [
        "%pip install --upgrade --quiet langchain-core langchain-openai"
      ]
    },
    {
      "cell_type": "markdown",
      "id": "68107597-0c8c-4bb5-8c12-9992fabdf71a",
      "metadata": {},
      "source": [
        "如果你想在 [LangSmith](https://docs.smith.langchain.com/) 中追踪你的运行，请取消注释并设置以下环境变量："
      ]
    },
    {
      "cell_type": "code",
      "execution_count": 2,
      "id": "08785b6d-722d-4620-b6ec-36deb3842c69",
      "metadata": {
        "execution": {
          "iopub.execute_input": "2024-09-11T03:10:25.005243Z",
          "iopub.status.busy": "2024-09-11T03:10:25.005074Z",
          "iopub.status.idle": "2024-09-11T03:10:25.007679Z",
          "shell.execute_reply": "2024-09-11T03:10:25.007361Z"
        }
      },
      "outputs": [],
      "source": [
        "import getpass\n",
        "import os\n",
        "\n",
        "# os.environ[\"LANGSMITH_TRACING\"] = \"true\"\n",
        "# os.environ[\"LANGSMITH_API_KEY\"] = getpass.getpass()"
      ]
    },
    {
      "cell_type": "markdown",
      "id": "0a50f93a-5d6f-4691-8f98-27239a1c2f95",
      "metadata": {},
      "source": [
        "## Chain\n\n假设我们有以下（模拟的）工具和工具调用链。我们将故意让我们的工具变得复杂，以试图让模型出错。\n\nimport ChatModelTabs from \"@theme/ChatModelTabs\";\n\n<ChatModelTabs customVarName=\"llm\"/>"
      ]
    },
    {
      "cell_type": "code",
      "execution_count": 3,
      "id": "86258950-5e61-4340-81b9-84a5d26e8773",
      "metadata": {
        "execution": {
          "iopub.execute_input": "2024-09-11T03:10:25.009496Z",
          "iopub.status.busy": "2024-09-11T03:10:25.009371Z",
          "iopub.status.idle": "2024-09-11T03:10:25.552917Z",
          "shell.execute_reply": "2024-09-11T03:10:25.552592Z"
        }
      },
      "outputs": [],
      "source": [
        "# | echo: false\n",
        "# | output: false\n",
        "\n",
        "from langchain_openai import ChatOpenAI\n",
        "\n",
        "if \"OPENAI_API_KEY\" not in os.environ:\n",
        "    os.environ[\"OPENAI_API_KEY\"] = getpass.getpass()\n",
        "\n",
        "llm = ChatOpenAI(model=\"gpt-4o-mini\", temperature=0)"
      ]
    },
    {
      "cell_type": "code",
      "execution_count": 4,
      "id": "1d20604e-c4d1-4d21-841b-23e4f61aec36",
      "metadata": {
        "execution": {
          "iopub.execute_input": "2024-09-11T03:10:25.554543Z",
          "iopub.status.busy": "2024-09-11T03:10:25.554439Z",
          "iopub.status.idle": "2024-09-11T03:10:25.631610Z",
          "shell.execute_reply": "2024-09-11T03:10:25.631346Z"
        }
      },
      "outputs": [],
      "source": [
        "# Define tool\n",
        "from langchain_core.tools import tool\n",
        "\n",
        "\n",
        "@tool\n",
        "def complex_tool(int_arg: int, float_arg: float, dict_arg: dict) -> int:\n",
        "    \"\"\"Do something complex with a complex tool.\"\"\"\n",
        "    return int_arg * float_arg\n",
        "\n",
        "\n",
        "llm_with_tools = llm.bind_tools(\n",
        "    [complex_tool],\n",
        ")\n",
        "\n",
        "# Define chain\n",
        "chain = llm_with_tools | (lambda msg: msg.tool_calls[0][\"args\"]) | complex_tool"
      ]
    },
    {
      "cell_type": "markdown",
      "id": "c34f005e-63f0-4841-9461-ca36c36607fc",
      "metadata": {},
      "source": [
        "我们可以看到，当我们尝试使用一个相当明确的输入来调用这个链时，模型未能正确调用工具（它忘记了 `dict_arg` 参数）。"
      ]
    },
    {
      "cell_type": "code",
      "execution_count": 5,
      "id": "d354664c-ac44-4967-a35f-8912b3ad9477",
      "metadata": {
        "execution": {
          "iopub.execute_input": "2024-09-11T03:10:25.633050Z",
          "iopub.status.busy": "2024-09-11T03:10:25.632978Z",
          "iopub.status.idle": "2024-09-11T03:10:26.556508Z",
          "shell.execute_reply": "2024-09-11T03:10:26.556233Z"
        }
      },
      "outputs": [
        {
          "ename": "ValidationError",
          "evalue": "1 validation error for complex_toolSchema\ndict_arg\n  Field required [type=missing, input_value={'int_arg': 5, 'float_arg': 2.1}, input_type=dict]\n    For further information visit https://errors.pydantic.dev/2.8/v/missing",
          "output_type": "error",
          "traceback": [
            "\u001b[0;31m---------------------------------------------------------------------------\u001b[0m",
            "\u001b[0;31mValidationError\u001b[0m                           Traceback (most recent call last)",
            "Cell \u001b[0;32mIn[5], line 1\u001b[0m\n\u001b[0;32m----> 1\u001b[0m \u001b[43mchain\u001b[49m\u001b[38;5;241;43m.\u001b[39;49m\u001b[43minvoke\u001b[49m\u001b[43m(\u001b[49m\n\u001b[1;32m      2\u001b[0m \u001b[43m    \u001b[49m\u001b[38;5;124;43m\"\u001b[39;49m\u001b[38;5;124;43muse complex tool. the args are 5, 2.1, empty dictionary. don\u001b[39;49m\u001b[38;5;124;43m'\u001b[39;49m\u001b[38;5;124;43mt forget dict_arg\u001b[39;49m\u001b[38;5;124;43m\"\u001b[39;49m\n\u001b[1;32m      3\u001b[0m \u001b[43m)\u001b[49m\n",
            "File \u001b[0;32m~/langchain/.venv/lib/python3.11/site-packages/langchain_core/runnables/base.py:2998\u001b[0m, in \u001b[0;36mRunnableSequence.invoke\u001b[0;34m(self, input, config, **kwargs)\u001b[0m\n\u001b[1;32m   2996\u001b[0m             \u001b[38;5;28minput\u001b[39m \u001b[38;5;241m=\u001b[39m context\u001b[38;5;241m.\u001b[39mrun(step\u001b[38;5;241m.\u001b[39minvoke, \u001b[38;5;28minput\u001b[39m, config, \u001b[38;5;241m*\u001b[39m\u001b[38;5;241m*\u001b[39mkwargs)\n\u001b[1;32m   2997\u001b[0m         \u001b[38;5;28;01melse\u001b[39;00m:\n\u001b[0;32m-> 2998\u001b[0m             \u001b[38;5;28minput\u001b[39m \u001b[38;5;241m=\u001b[39m \u001b[43mcontext\u001b[49m\u001b[38;5;241;43m.\u001b[39;49m\u001b[43mrun\u001b[49m\u001b[43m(\u001b[49m\u001b[43mstep\u001b[49m\u001b[38;5;241;43m.\u001b[39;49m\u001b[43minvoke\u001b[49m\u001b[43m,\u001b[49m\u001b[43m \u001b[49m\u001b[38;5;28;43minput\u001b[39;49m\u001b[43m,\u001b[49m\u001b[43m \u001b[49m\u001b[43mconfig\u001b[49m\u001b[43m)\u001b[49m\n\u001b[1;32m   2999\u001b[0m \u001b[38;5;66;03m# finish the root run\u001b[39;00m\n\u001b[1;32m   3000\u001b[0m \u001b[38;5;28;01mexcept\u001b[39;00m \u001b[38;5;167;01mBaseException\u001b[39;00m \u001b[38;5;28;01mas\u001b[39;00m e:\n",
            "File \u001b[0;32m~/langchain/.venv/lib/python3.11/site-packages/langchain_core/tools/base.py:456\u001b[0m, in \u001b[0;36mBaseTool.invoke\u001b[0;34m(self, input, config, **kwargs)\u001b[0m\n\u001b[1;32m    449\u001b[0m \u001b[38;5;28;01mdef\u001b[39;00m \u001b[38;5;21minvoke\u001b[39m(\n\u001b[1;32m    450\u001b[0m     \u001b[38;5;28mself\u001b[39m,\n\u001b[1;32m    451\u001b[0m     \u001b[38;5;28minput\u001b[39m: Union[\u001b[38;5;28mstr\u001b[39m, Dict, ToolCall],\n\u001b[1;32m    452\u001b[0m     config: Optional[RunnableConfig] \u001b[38;5;241m=\u001b[39m \u001b[38;5;28;01mNone\u001b[39;00m,\n\u001b[1;32m    453\u001b[0m     \u001b[38;5;241m*\u001b[39m\u001b[38;5;241m*\u001b[39mkwargs: Any,\n\u001b[1;32m    454\u001b[0m ) \u001b[38;5;241m-\u001b[39m\u001b[38;5;241m>\u001b[39m Any:\n\u001b[1;32m    455\u001b[0m     tool_input, kwargs \u001b[38;5;241m=\u001b[39m _prep_run_args(\u001b[38;5;28minput\u001b[39m, config, \u001b[38;5;241m*\u001b[39m\u001b[38;5;241m*\u001b[39mkwargs)\n\u001b[0;32m--> 456\u001b[0m     \u001b[38;5;28;01mreturn\u001b[39;00m \u001b[38;5;28;43mself\u001b[39;49m\u001b[38;5;241;43m.\u001b[39;49m\u001b[43mrun\u001b[49m\u001b[43m(\u001b[49m\u001b[43mtool_input\u001b[49m\u001b[43m,\u001b[49m\u001b[43m \u001b[49m\u001b[38;5;241;43m*\u001b[39;49m\u001b[38;5;241;43m*\u001b[39;49m\u001b[43mkwargs\u001b[49m\u001b[43m)\u001b[49m\n",
            "File \u001b[0;32m~/langchain/.venv/lib/python3.11/site-packages/langchain_core/tools/base.py:659\u001b[0m, in \u001b[0;36mBaseTool.run\u001b[0;34m(self, tool_input, verbose, start_color, color, callbacks, tags, metadata, run_name, run_id, config, tool_call_id, **kwargs)\u001b[0m\n\u001b[1;32m    657\u001b[0m \u001b[38;5;28;01mif\u001b[39;00m error_to_raise:\n\u001b[1;32m    658\u001b[0m     run_manager\u001b[38;5;241m.\u001b[39mon_tool_error(error_to_raise)\n\u001b[0;32m--> 659\u001b[0m     \u001b[38;5;28;01mraise\u001b[39;00m error_to_raise\n\u001b[1;32m    660\u001b[0m output \u001b[38;5;241m=\u001b[39m _format_output(content, artifact, tool_call_id, \u001b[38;5;28mself\u001b[39m\u001b[38;5;241m.\u001b[39mname, status)\n\u001b[1;32m    661\u001b[0m run_manager\u001b[38;5;241m.\u001b[39mon_tool_end(output, color\u001b[38;5;241m=\u001b[39mcolor, name\u001b[38;5;241m=\u001b[39m\u001b[38;5;28mself\u001b[39m\u001b[38;5;241m.\u001b[39mname, \u001b[38;5;241m*\u001b[39m\u001b[38;5;241m*\u001b[39mkwargs)\n",
            "File \u001b[0;32m~/langchain/.venv/lib/python3.11/site-packages/langchain_core/tools/base.py:622\u001b[0m, in \u001b[0;36mBaseTool.run\u001b[0;34m(self, tool_input, verbose, start_color, color, callbacks, tags, metadata, run_name, run_id, config, tool_call_id, **kwargs)\u001b[0m\n\u001b[1;32m    620\u001b[0m context \u001b[38;5;241m=\u001b[39m copy_context()\n\u001b[1;32m    621\u001b[0m context\u001b[38;5;241m.\u001b[39mrun(_set_config_context, child_config)\n\u001b[0;32m--> 622\u001b[0m tool_args, tool_kwargs \u001b[38;5;241m=\u001b[39m \u001b[38;5;28;43mself\u001b[39;49m\u001b[38;5;241;43m.\u001b[39;49m\u001b[43m_to_args_and_kwargs\u001b[49m\u001b[43m(\u001b[49m\u001b[43mtool_input\u001b[49m\u001b[43m)\u001b[49m\n\u001b[1;32m    623\u001b[0m \u001b[38;5;28;01mif\u001b[39;00m signature(\u001b[38;5;28mself\u001b[39m\u001b[38;5;241m.\u001b[39m_run)\u001b[38;5;241m.\u001b[39mparameters\u001b[38;5;241m.\u001b[39mget(\u001b[38;5;124m\"\u001b[39m\u001b[38;5;124mrun_manager\u001b[39m\u001b[38;5;124m\"\u001b[39m):\n\u001b[1;32m    624\u001b[0m     tool_kwargs[\u001b[38;5;124m\"\u001b[39m\u001b[38;5;124mrun_manager\u001b[39m\u001b[38;5;124m\"\u001b[39m] \u001b[38;5;241m=\u001b[39m run_manager\n",
            "File \u001b[0;32m~/langchain/.venv/lib/python3.11/site-packages/langchain_core/tools/base.py:545\u001b[0m, in \u001b[0;36mBaseTool._to_args_and_kwargs\u001b[0;34m(self, tool_input)\u001b[0m\n\u001b[1;32m    544\u001b[0m \u001b[38;5;28;01mdef\u001b[39;00m \u001b[38;5;21m_to_args_and_kwargs\u001b[39m(\u001b[38;5;28mself\u001b[39m, tool_input: Union[\u001b[38;5;28mstr\u001b[39m, Dict]) \u001b[38;5;241m-\u001b[39m\u001b[38;5;241m>\u001b[39m Tuple[Tuple, Dict]:\n\u001b[0;32m--> 545\u001b[0m     tool_input \u001b[38;5;241m=\u001b[39m \u001b[38;5;28;43mself\u001b[39;49m\u001b[38;5;241;43m.\u001b[39;49m\u001b[43m_parse_input\u001b[49m\u001b[43m(\u001b[49m\u001b[43mtool_input\u001b[49m\u001b[43m)\u001b[49m\n\u001b[1;32m    546\u001b[0m     \u001b[38;5;66;03m# For backwards compatibility, if run_input is a string,\u001b[39;00m\n\u001b[1;32m    547\u001b[0m     \u001b[38;5;66;03m# pass as a positional argument.\u001b[39;00m\n\u001b[1;32m    548\u001b[0m     \u001b[38;5;28;01mif\u001b[39;00m \u001b[38;5;28misinstance\u001b[39m(tool_input, \u001b[38;5;28mstr\u001b[39m):\n",
            "File \u001b[0;32m~/langchain/.venv/lib/python3.11/site-packages/langchain_core/tools/base.py:487\u001b[0m, in \u001b[0;36mBaseTool._parse_input\u001b[0;34m(self, tool_input)\u001b[0m\n\u001b[1;32m    485\u001b[0m \u001b[38;5;28;01mif\u001b[39;00m input_args \u001b[38;5;129;01mis\u001b[39;00m \u001b[38;5;129;01mnot\u001b[39;00m \u001b[38;5;28;01mNone\u001b[39;00m:\n\u001b[1;32m    486\u001b[0m     \u001b[38;5;28;01mif\u001b[39;00m \u001b[38;5;28missubclass\u001b[39m(input_args, BaseModel):\n\u001b[0;32m--> 487\u001b[0m         result \u001b[38;5;241m=\u001b[39m \u001b[43minput_args\u001b[49m\u001b[38;5;241;43m.\u001b[39;49m\u001b[43mmodel_validate\u001b[49m\u001b[43m(\u001b[49m\u001b[43mtool_input\u001b[49m\u001b[43m)\u001b[49m\n\u001b[1;32m    488\u001b[0m         result_dict \u001b[38;5;241m=\u001b[39m result\u001b[38;5;241m.\u001b[39mmodel_dump()\n\u001b[1;32m    489\u001b[0m     \u001b[38;5;28;01melif\u001b[39;00m \u001b[38;5;28missubclass\u001b[39m(input_args, BaseModelV1):\n",
            "File \u001b[0;32m~/langchain/.venv/lib/python3.11/site-packages/pydantic/main.py:568\u001b[0m, in \u001b[0;36mBaseModel.model_validate\u001b[0;34m(cls, obj, strict, from_attributes, context)\u001b[0m\n\u001b[1;32m    566\u001b[0m \u001b[38;5;66;03m# `__tracebackhide__` tells pytest and some other tools to omit this function from tracebacks\u001b[39;00m\n\u001b[1;32m    567\u001b[0m __tracebackhide__ \u001b[38;5;241m=\u001b[39m \u001b[38;5;28;01mTrue\u001b[39;00m\n\u001b[0;32m--> 568\u001b[0m \u001b[38;5;28;01mreturn\u001b[39;00m \u001b[38;5;28;43mcls\u001b[39;49m\u001b[38;5;241;43m.\u001b[39;49m\u001b[43m__pydantic_validator__\u001b[49m\u001b[38;5;241;43m.\u001b[39;49m\u001b[43mvalidate_python\u001b[49m\u001b[43m(\u001b[49m\n\u001b[1;32m    569\u001b[0m \u001b[43m    \u001b[49m\u001b[43mobj\u001b[49m\u001b[43m,\u001b[49m\u001b[43m \u001b[49m\u001b[43mstrict\u001b[49m\u001b[38;5;241;43m=\u001b[39;49m\u001b[43mstrict\u001b[49m\u001b[43m,\u001b[49m\u001b[43m \u001b[49m\u001b[43mfrom_attributes\u001b[49m\u001b[38;5;241;43m=\u001b[39;49m\u001b[43mfrom_attributes\u001b[49m\u001b[43m,\u001b[49m\u001b[43m \u001b[49m\u001b[43mcontext\u001b[49m\u001b[38;5;241;43m=\u001b[39;49m\u001b[43mcontext\u001b[49m\n\u001b[1;32m    570\u001b[0m \u001b[43m\u001b[49m\u001b[43m)\u001b[49m\n",
            "\u001b[0;31mValidationError\u001b[0m: 1 validation error for complex_toolSchema\ndict_arg\n  Field required [type=missing, input_value={'int_arg': 5, 'float_arg': 2.1}, input_type=dict]\n    For further information visit https://errors.pydantic.dev/2.8/v/missing"
          ]
        }
      ],
      "source": [
        "chain.invoke(\n",
        "    \"use complex tool. the args are 5, 2.1, empty dictionary. don't forget dict_arg\"\n",
        ")"
      ]
    },
    {
      "cell_type": "markdown",
      "id": "890d989d-2d39-4571-9a55-d3496b9b5d27",
      "metadata": {},
      "source": [
        "## 尝试/异常工具调用\n\n更优雅地处理错误的简单方法是尝试/异常工具调用步骤，并在出错时返回一条有用的消息："
      ]
    },
    {
      "cell_type": "code",
      "execution_count": 6,
      "id": "8fedb550-683d-45ae-8876-ae7acb332019",
      "metadata": {
        "execution": {
          "iopub.execute_input": "2024-09-11T03:10:26.558131Z",
          "iopub.status.busy": "2024-09-11T03:10:26.558031Z",
          "iopub.status.idle": "2024-09-11T03:10:27.399844Z",
          "shell.execute_reply": "2024-09-11T03:10:27.399201Z"
        }
      },
      "outputs": [
        {
          "name": "stdout",
          "output_type": "stream",
          "text": [
            "Calling tool with arguments:\n",
            "\n",
            "{'int_arg': 5, 'float_arg': 2.1}\n",
            "\n",
            "raised the following error:\n",
            "\n",
            "<class 'pydantic_core._pydantic_core.ValidationError'>: 1 validation error for complex_toolSchema\n",
            "dict_arg\n",
            "  Field required [type=missing, input_value={'int_arg': 5, 'float_arg': 2.1}, input_type=dict]\n",
            "    For further information visit https://errors.pydantic.dev/2.8/v/missing\n"
          ]
        }
      ],
      "source": [
        "from typing import Any\n",
        "\n",
        "from langchain_core.runnables import Runnable, RunnableConfig\n",
        "\n",
        "\n",
        "def try_except_tool(tool_args: dict, config: RunnableConfig) -> Runnable:\n",
        "    try:\n",
        "        complex_tool.invoke(tool_args, config=config)\n",
        "    except Exception as e:\n",
        "        return f\"Calling tool with arguments:\\n\\n{tool_args}\\n\\nraised the following error:\\n\\n{type(e)}: {e}\"\n",
        "\n",
        "\n",
        "chain = llm_with_tools | (lambda msg: msg.tool_calls[0][\"args\"]) | try_except_tool\n",
        "\n",
        "print(\n",
        "    chain.invoke(\n",
        "        \"use complex tool. the args are 5, 2.1, empty dictionary. don't forget dict_arg\"\n",
        "    )\n",
        ")"
      ]
    },
    {
      "cell_type": "markdown",
      "id": "3b2f6393-cb47-49d0-921c-09550a049fe4",
      "metadata": {},
      "source": [
        "## 后备方案\n\n在工具调用出错时，我们还可以尝试回退到更好的模型。在这种情况下，我们将回退到使用 `gpt-4-1106-preview` 而不是 `gpt-3.5-turbo` 的相同链。"
      ]
    },
    {
      "cell_type": "code",
      "execution_count": 7,
      "id": "02cc4223-35fa-4240-976a-012299ca703c",
      "metadata": {
        "execution": {
          "iopub.execute_input": "2024-09-11T03:10:27.404122Z",
          "iopub.status.busy": "2024-09-11T03:10:27.403539Z",
          "iopub.status.idle": "2024-09-11T03:10:38.080547Z",
          "shell.execute_reply": "2024-09-11T03:10:38.079955Z"
        }
      },
      "outputs": [
        {
          "data": {
            "text/plain": [
              "10.5"
            ]
          },
          "execution_count": 7,
          "metadata": {},
          "output_type": "execute_result"
        }
      ],
      "source": [
        "chain = llm_with_tools | (lambda msg: msg.tool_calls[0][\"args\"]) | complex_tool\n",
        "\n",
        "better_model = ChatOpenAI(model=\"gpt-4-1106-preview\", temperature=0).bind_tools(\n",
        "    [complex_tool], tool_choice=\"complex_tool\"\n",
        ")\n",
        "\n",
        "better_chain = better_model | (lambda msg: msg.tool_calls[0][\"args\"]) | complex_tool\n",
        "\n",
        "chain_with_fallback = chain.with_fallbacks([better_chain])\n",
        "\n",
        "chain_with_fallback.invoke(\n",
        "    \"use complex tool. the args are 5, 2.1, empty dictionary. don't forget dict_arg\"\n",
        ")"
      ]
    },
    {
      "cell_type": "markdown",
      "id": "412f8c4e-cc83-4d87-84a1-5ba2f8edb1e9",
      "metadata": {},
      "source": [
        "查看此链运行的 [LangSmith trace](https://smith.langchain.com/public/00e91fc2-e1a4-4b0f-a82e-e6b3119d196c/r)，我们可以看到第一次链调用如预期失败，而回退成功了。"
      ]
    },
    {
      "cell_type": "markdown",
      "id": "304b59cd-cd25-4205-9769-36595c8f3b59",
      "metadata": {},
      "source": [
        "## 重试与异常\n\n为了进一步完善，我们可以尝试将异常传入并自动重新运行链，以便模型能够纠正其行为："
      ]
    },
    {
      "cell_type": "code",
      "execution_count": 8,
      "id": "b5659956-9454-468a-9753-a3ff9052b8f5",
      "metadata": {
        "execution": {
          "iopub.execute_input": "2024-09-11T03:10:38.083810Z",
          "iopub.status.busy": "2024-09-11T03:10:38.083623Z",
          "iopub.status.idle": "2024-09-11T03:10:38.090089Z",
          "shell.execute_reply": "2024-09-11T03:10:38.089682Z"
        }
      },
      "outputs": [],
      "source": [
        "from langchain_core.messages import AIMessage, HumanMessage, ToolCall, ToolMessage\n",
        "from langchain_core.prompts import ChatPromptTemplate\n",
        "\n",
        "\n",
        "class CustomToolException(Exception):\n",
        "    \"\"\"Custom LangChain tool exception.\"\"\"\n",
        "\n",
        "    def __init__(self, tool_call: ToolCall, exception: Exception) -> None:\n",
        "        super().__init__()\n",
        "        self.tool_call = tool_call\n",
        "        self.exception = exception\n",
        "\n",
        "\n",
        "def tool_custom_exception(msg: AIMessage, config: RunnableConfig) -> Runnable:\n",
        "    try:\n",
        "        return complex_tool.invoke(msg.tool_calls[0][\"args\"], config=config)\n",
        "    except Exception as e:\n",
        "        raise CustomToolException(msg.tool_calls[0], e)\n",
        "\n",
        "\n",
        "def exception_to_messages(inputs: dict) -> dict:\n",
        "    exception = inputs.pop(\"exception\")\n",
        "\n",
        "    # Add historical messages to the original input, so the model knows that it made a mistake with the last tool call.\n",
        "    messages = [\n",
        "        AIMessage(content=\"\", tool_calls=[exception.tool_call]),\n",
        "        ToolMessage(\n",
        "            tool_call_id=exception.tool_call[\"id\"], content=str(exception.exception)\n",
        "        ),\n",
        "        HumanMessage(\n",
        "            content=\"The last tool call raised an exception. Try calling the tool again with corrected arguments. Do not repeat mistakes.\"\n",
        "        ),\n",
        "    ]\n",
        "    inputs[\"last_output\"] = messages\n",
        "    return inputs\n",
        "\n",
        "\n",
        "# We add a last_output MessagesPlaceholder to our prompt which if not passed in doesn't\n",
        "# affect the prompt at all, but gives us the option to insert an arbitrary list of Messages\n",
        "# into the prompt if needed. We'll use this on retries to insert the error message.\n",
        "prompt = ChatPromptTemplate.from_messages(\n",
        "    [(\"human\", \"{input}\"), (\"placeholder\", \"{last_output}\")]\n",
        ")\n",
        "chain = prompt | llm_with_tools | tool_custom_exception\n",
        "\n",
        "# If the initial chain call fails, we rerun it withe the exception passed in as a message.\n",
        "self_correcting_chain = chain.with_fallbacks(\n",
        "    [exception_to_messages | chain], exception_key=\"exception\"\n",
        ")"
      ]
    },
    {
      "cell_type": "code",
      "execution_count": 9,
      "id": "4c45f5bd-cbb4-47d5-b4b6-aec50673c750",
      "metadata": {
        "execution": {
          "iopub.execute_input": "2024-09-11T03:10:38.092152Z",
          "iopub.status.busy": "2024-09-11T03:10:38.092021Z",
          "iopub.status.idle": "2024-09-11T03:10:39.592443Z",
          "shell.execute_reply": "2024-09-11T03:10:39.591990Z"
        }
      },
      "outputs": [
        {
          "data": {
            "text/plain": [
              "10.5"
            ]
          },
          "execution_count": 9,
          "metadata": {},
          "output_type": "execute_result"
        }
      ],
      "source": [
        "self_correcting_chain.invoke(\n",
        "    {\n",
        "        \"input\": \"use complex tool. the args are 5, 2.1, empty dictionary. don't forget dict_arg\"\n",
        "    }\n",
        ")"
      ]
    },
    {
      "cell_type": "markdown",
      "id": "50d269a9-3cab-4a37-ba2f-805296453627",
      "metadata": {},
      "source": [
        "我们的链成功了！查看 [LangSmith trace](https://smith.langchain.com/public/c11e804c-e14f-4059-bd09-64766f999c14/r)，我们可以看到我们的初始链确实仍然失败，只有在重试后链才成功。"
      ]
    },
    {
      "cell_type": "markdown",
      "id": "6b97af9f",
      "metadata": {},
      "source": [
        "## 后续步骤\n\n您已经了解了几种处理工具调用错误的方法。接下来，您可以了解更多关于如何使用工具的信息：\n\n- 示例提示（Few shot prompting）[结合工具](/docs/how_to/tools_few_shot/)\n- 流式传输 [工具调用](/docs/how_to/tool_streaming/)\n- 将 [运行时值传递给工具](/docs/how_to/tool_runtime)\n\n您还可以查看一些更具体的工具调用用法：\n\n- 从模型获取[结构化输出](/docs/how_to/structured_output/)"
      ]
    }
  ],
  "metadata": {
    "kernelspec": {
      "display_name": "Python 3 (ipykernel)",
      "language": "python",
      "name": "python3"
    },
    "language_info": {
      "codemirror_mode": {
        "name": "ipython",
        "version": 3
      },
      "file_extension": ".py",
      "mimetype": "text/x-python",
      "name": "python",
      "nbconvert_exporter": "python",
      "pygments_lexer": "ipython3",
      "version": "3.11.9"
    }
  },
  "nbformat": 4,
  "nbformat_minor": 5
}