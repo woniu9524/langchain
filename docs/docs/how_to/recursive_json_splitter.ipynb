{
  "cells": [
    {
      "cell_type": "markdown",
      "id": "a678d550",
      "metadata": {},
      "source": [
        "# 如何分割 JSON 数据\n\n这个 json 分割器 [分割](/docs/concepts/text_splitters/) json 数据，同时允许控制块大小。它会深度优先地遍历 json 数据并构建更小的 json 块。它会尝试保持嵌套的 json 对象完整，但如果需要，也会将它们分割以保持块大小在 min_chunk_size 和 max_chunk_size 之间。\n\n如果值不是嵌套的 json，而是非常大的字符串，则该字符串不会被分割。如果您需要对块大小设置硬性限制，请考虑将此与递归文本分割器组合使用来处理这些块。有一个可选的预处理步骤来分割列表，首先将它们转换为 json（dict），然后按此方式分割。\n\n1. 文本是如何被分割的：json 值。\n2. 块大小是如何衡量的：按字符数。"
      ]
    },
    {
      "cell_type": "code",
      "execution_count": null,
      "id": "3f335e05-e5ae-44cc-899d-749aa9031a58",
      "metadata": {},
      "outputs": [],
      "source": [
        "%pip install -qU langchain-text-splitters"
      ]
    },
    {
      "cell_type": "markdown",
      "id": "a2b3fe87-d230-4cbd-b3ae-01559c5351a3",
      "metadata": {},
      "source": [
        "首先，我们加载一些 JSON 数据："
      ]
    },
    {
      "cell_type": "code",
      "execution_count": 1,
      "id": "3390ae1d",
      "metadata": {},
      "outputs": [],
      "source": [
        "import json\n",
        "\n",
        "import requests\n",
        "\n",
        "# This is a large nested json object and will be loaded as a python dict\n",
        "json_data = requests.get(\"https://api.smith.langchain.com/openapi.json\").json()"
      ]
    },
    {
      "cell_type": "markdown",
      "id": "3cdc725d-f4b8-4725-9084-cb395d8ef48b",
      "metadata": {},
      "source": [
        "## 基本用法\n\n指定 `max_chunk_size` 来限制块大小："
      ]
    },
    {
      "cell_type": "code",
      "execution_count": 2,
      "id": "7bfe2c1e",
      "metadata": {},
      "outputs": [],
      "source": [
        "from langchain_text_splitters import RecursiveJsonSplitter\n",
        "\n",
        "splitter = RecursiveJsonSplitter(max_chunk_size=300)"
      ]
    },
    {
      "cell_type": "markdown",
      "id": "e03b79fb-b1c6-4324-a409-86cd3e40cb92",
      "metadata": {},
      "source": [
        "要获取 json 块，请使用 `.split_json` 方法："
      ]
    },
    {
      "cell_type": "code",
      "execution_count": 3,
      "id": "69250bc6-c0f5-40d0-b8ba-7a349236bfd2",
      "metadata": {},
      "outputs": [
        {
          "name": "stdout",
          "output_type": "stream",
          "text": [
            "{'openapi': '3.1.0', 'info': {'title': 'LangSmith', 'version': '0.1.0'}, 'servers': [{'url': 'https://api.smith.langchain.com', 'description': 'LangSmith API endpoint.'}]}\n",
            "{'paths': {'/api/v1/sessions/{session_id}': {'get': {'tags': ['tracer-sessions'], 'summary': 'Read Tracer Session', 'description': 'Get a specific session.', 'operationId': 'read_tracer_session_api_v1_sessions__session_id__get'}}}}\n",
            "{'paths': {'/api/v1/sessions/{session_id}': {'get': {'security': [{'API Key': []}, {'Tenant ID': []}, {'Bearer Auth': []}]}}}}\n"
          ]
        }
      ],
      "source": [
        "# Recursively split json data - If you need to access/manipulate the smaller json chunks\n",
        "json_chunks = splitter.split_json(json_data=json_data)\n",
        "\n",
        "for chunk in json_chunks[:3]:\n",
        "    print(chunk)"
      ]
    },
    {
      "cell_type": "markdown",
      "id": "3f05bc21-227e-4d2c-af51-16d69ad3cd7b",
      "metadata": {},
      "source": [
        "要获取 LangChain 的 [Document](https://python.langchain.com/api_reference/core/documents/langchain_core.documents.base.Document.html) 对象，请使用 `.create_documents` 方法："
      ]
    },
    {
      "cell_type": "code",
      "execution_count": 4,
      "id": "0839f4f0",
      "metadata": {},
      "outputs": [
        {
          "name": "stdout",
          "output_type": "stream",
          "text": [
            "page_content='{\"openapi\": \"3.1.0\", \"info\": {\"title\": \"LangSmith\", \"version\": \"0.1.0\"}, \"servers\": [{\"url\": \"https://api.smith.langchain.com\", \"description\": \"LangSmith API endpoint.\"}]}'\n",
            "page_content='{\"paths\": {\"/api/v1/sessions/{session_id}\": {\"get\": {\"tags\": [\"tracer-sessions\"], \"summary\": \"Read Tracer Session\", \"description\": \"Get a specific session.\", \"operationId\": \"read_tracer_session_api_v1_sessions__session_id__get\"}}}}'\n",
            "page_content='{\"paths\": {\"/api/v1/sessions/{session_id}\": {\"get\": {\"security\": [{\"API Key\": []}, {\"Tenant ID\": []}, {\"Bearer Auth\": []}]}}}}'\n"
          ]
        }
      ],
      "source": [
        "# The splitter can also output documents\n",
        "docs = splitter.create_documents(texts=[json_data])\n",
        "\n",
        "for doc in docs[:3]:\n",
        "    print(doc)"
      ]
    },
    {
      "cell_type": "markdown",
      "id": "677c3dd0-afc7-488a-a58d-b7943814f85d",
      "metadata": {},
      "source": [
        "或者使用 `.split_text` 直接获取字符串内容："
      ]
    },
    {
      "cell_type": "code",
      "execution_count": 5,
      "id": "fa0a4d66-b470-404e-918b-6728df3b88b0",
      "metadata": {},
      "outputs": [
        {
          "name": "stdout",
          "output_type": "stream",
          "text": [
            "{\"openapi\": \"3.1.0\", \"info\": {\"title\": \"LangSmith\", \"version\": \"0.1.0\"}, \"servers\": [{\"url\": \"https://api.smith.langchain.com\", \"description\": \"LangSmith API endpoint.\"}]}\n",
            "{\"paths\": {\"/api/v1/sessions/{session_id}\": {\"get\": {\"tags\": [\"tracer-sessions\"], \"summary\": \"Read Tracer Session\", \"description\": \"Get a specific session.\", \"operationId\": \"read_tracer_session_api_v1_sessions__session_id__get\"}}}}\n"
          ]
        }
      ],
      "source": [
        "texts = splitter.split_text(json_data=json_data)\n",
        "\n",
        "print(texts[0])\n",
        "print(texts[1])"
      ]
    },
    {
      "cell_type": "markdown",
      "id": "7070bf45-b885-4949-b8e0-7d1ea5205d2a",
      "metadata": {},
      "source": [
        "## 如何管理列表内容的块大小\n\n请注意，此示例中的一个块大于指定的 `max_chunk_size` 300。查看其中一个较大的块，我们看到其中有一个列表对象："
      ]
    },
    {
      "cell_type": "code",
      "execution_count": 6,
      "id": "86ef3195-375b-4db2-9804-f3fa5a249417",
      "metadata": {},
      "outputs": [
        {
          "name": "stdout",
          "output_type": "stream",
          "text": [
            "[171, 231, 126, 469, 210, 213, 237, 271, 191, 232]\n",
            "\n",
            "{\"paths\": {\"/api/v1/sessions/{session_id}\": {\"get\": {\"parameters\": [{\"name\": \"session_id\", \"in\": \"path\", \"required\": true, \"schema\": {\"type\": \"string\", \"format\": \"uuid\", \"title\": \"Session Id\"}}, {\"name\": \"include_stats\", \"in\": \"query\", \"required\": false, \"schema\": {\"type\": \"boolean\", \"default\": false, \"title\": \"Include Stats\"}}, {\"name\": \"accept\", \"in\": \"header\", \"required\": false, \"schema\": {\"anyOf\": [{\"type\": \"string\"}, {\"type\": \"null\"}], \"title\": \"Accept\"}}]}}}}\n"
          ]
        }
      ],
      "source": [
        "print([len(text) for text in texts][:10])\n",
        "print()\n",
        "print(texts[3])"
      ]
    },
    {
      "cell_type": "markdown",
      "id": "ddc98a1d-05df-48ab-8d17-6e4ee0d9d0cb",
      "metadata": {},
      "source": [
        "默认情况下，json 分割器不会分割列表。\n\n指定 `convert_lists=True` 以预处理 json，将列表内容转换为字典，其中列表的 `index:item` 作为 `key:val` 对："
      ]
    },
    {
      "cell_type": "code",
      "execution_count": 7,
      "id": "992477c2",
      "metadata": {},
      "outputs": [],
      "source": [
        "texts = splitter.split_text(json_data=json_data, convert_lists=True)"
      ]
    },
    {
      "cell_type": "markdown",
      "id": "912c20c2-8d05-47a6-bc03-f5c866761dff",
      "metadata": {},
      "source": [
        "我们来看看分块的大小。现在它们都低于最大值"
      ]
    },
    {
      "cell_type": "code",
      "execution_count": 8,
      "id": "7abd43f6-78ab-4a73-853a-a777ab268efc",
      "metadata": {},
      "outputs": [
        {
          "name": "stdout",
          "output_type": "stream",
          "text": [
            "[176, 236, 141, 203, 212, 221, 210, 213, 242, 291]\n"
          ]
        }
      ],
      "source": [
        "print([len(text) for text in texts][:10])"
      ]
    },
    {
      "cell_type": "markdown",
      "id": "3e5753bf-cede-4751-a1c0-c42aca56b88a",
      "metadata": {},
      "source": [
        "列表已被转换为字典，但保留了所有必要的上下文信息，即使它被拆分成多个块："
      ]
    },
    {
      "cell_type": "code",
      "execution_count": 9,
      "id": "d2c2773e",
      "metadata": {},
      "outputs": [
        {
          "name": "stdout",
          "output_type": "stream",
          "text": [
            "{\"paths\": {\"/api/v1/sessions/{session_id}\": {\"get\": {\"tags\": {\"0\": \"tracer-sessions\"}, \"summary\": \"Read Tracer Session\", \"description\": \"Get a specific session.\", \"operationId\": \"read_tracer_session_api_v1_sessions__session_id__get\"}}}}\n"
          ]
        }
      ],
      "source": [
        "print(texts[1])"
      ]
    },
    {
      "cell_type": "code",
      "execution_count": 10,
      "id": "8963b01a",
      "metadata": {},
      "outputs": [
        {
          "data": {
            "text/plain": [
              "Document(page_content='{\"paths\": {\"/api/v1/sessions/{session_id}\": {\"get\": {\"tags\": [\"tracer-sessions\"], \"summary\": \"Read Tracer Session\", \"description\": \"Get a specific session.\", \"operationId\": \"read_tracer_session_api_v1_sessions__session_id__get\"}}}}')"
            ]
          },
          "execution_count": 10,
          "metadata": {},
          "output_type": "execute_result"
        }
      ],
      "source": [
        "# We can also look at the documents\n",
        "docs[1]"
      ]
    }
  ],
  "metadata": {
    "kernelspec": {
      "display_name": "Python 3 (ipykernel)",
      "language": "python",
      "name": "python3"
    },
    "language_info": {
      "codemirror_mode": {
        "name": "ipython",
        "version": 3
      },
      "file_extension": ".py",
      "mimetype": "text/x-python",
      "name": "python",
      "nbconvert_exporter": "python",
      "pygments_lexer": "ipython3",
      "version": "3.10.4"
    }
  },
  "nbformat": 4,
  "nbformat_minor": 5
}