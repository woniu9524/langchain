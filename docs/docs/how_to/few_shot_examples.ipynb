{
  "cells": [
    {
      "cell_type": "raw",
      "id": "94c3ad61",
      "metadata": {},
      "source": [
        "---\n",
        "sidebar_position: 3\n",
        "---"
      ]
    },
    {
      "cell_type": "markdown",
      "id": "b91e03f1",
      "metadata": {},
      "source": [
        "# 如何使用少样本示例\n\n:::info 先决条件\n\n本指南假定您熟悉以下概念：\n- [Prompt templates](/docs/concepts/prompt_templates)\n- [Example selectors](/docs/concepts/example_selectors)\n- [LLMs](/docs/concepts/text_llms)\n- [Vectorstores](/docs/concepts/vectorstores)\n\n:::\n\n在本指南中，我们将学习如何创建一个简单的 prompt template，在生成时为模型提供示例输入和输出。为 LLM 提供一些这样的示例称为 [少样本（few-shotting）](/docs/concepts/few_shot_prompting/)，这是一种简单而强大的引导生成的方式，在某些情况下可以显著提高模型性能。\n\n少样本 prompt template 可以由一组示例构建，也可以由一个负责从已定义集合中选择示例子集的 [Example Selector](https://python.langchain.com/api_reference/core/example_selectors/langchain_core.example_selectors.base.BaseExampleSelector.html) 类构建。\n\n本指南将介绍如何使用字符串 prompt template 进行少样本。有关使用聊天消息进行少样本的指南，请参阅 [此处](/docs/how_to/few_shot_examples_chat/)。\n\n## 创建一个用于少样本示例的格式化器\n\n配置一个格式化器，它会将少样本示例格式化为字符串。此格式化器应为 `PromptTemplate` 对象。"
      ]
    },
    {
      "cell_type": "code",
      "execution_count": 1,
      "id": "4e70bce2",
      "metadata": {},
      "outputs": [],
      "source": [
        "from langchain_core.prompts import PromptTemplate\n",
        "\n",
        "example_prompt = PromptTemplate.from_template(\"Question: {question}\\n{answer}\")"
      ]
    },
    {
      "cell_type": "markdown",
      "id": "50846ad4",
      "metadata": {},
      "source": [
        "## 创建示例集\n\n接下来，我们将创建一个少样本示例列表。每个示例都应该是代表我们上面定义的格式化程序提示的示例输入的字典。"
      ]
    },
    {
      "cell_type": "code",
      "execution_count": 2,
      "id": "a44be840",
      "metadata": {},
      "outputs": [],
      "source": [
        "examples = [\n",
        "    {\n",
        "        \"question\": \"Who lived longer, Muhammad Ali or Alan Turing?\",\n",
        "        \"answer\": \"\"\"\n",
        "Are follow up questions needed here: Yes.\n",
        "Follow up: How old was Muhammad Ali when he died?\n",
        "Intermediate answer: Muhammad Ali was 74 years old when he died.\n",
        "Follow up: How old was Alan Turing when he died?\n",
        "Intermediate answer: Alan Turing was 41 years old when he died.\n",
        "So the final answer is: Muhammad Ali\n",
        "\"\"\",\n",
        "    },\n",
        "    {\n",
        "        \"question\": \"When was the founder of craigslist born?\",\n",
        "        \"answer\": \"\"\"\n",
        "Are follow up questions needed here: Yes.\n",
        "Follow up: Who was the founder of craigslist?\n",
        "Intermediate answer: Craigslist was founded by Craig Newmark.\n",
        "Follow up: When was Craig Newmark born?\n",
        "Intermediate answer: Craig Newmark was born on December 6, 1952.\n",
        "So the final answer is: December 6, 1952\n",
        "\"\"\",\n",
        "    },\n",
        "    {\n",
        "        \"question\": \"Who was the maternal grandfather of George Washington?\",\n",
        "        \"answer\": \"\"\"\n",
        "Are follow up questions needed here: Yes.\n",
        "Follow up: Who was the mother of George Washington?\n",
        "Intermediate answer: The mother of George Washington was Mary Ball Washington.\n",
        "Follow up: Who was the father of Mary Ball Washington?\n",
        "Intermediate answer: The father of Mary Ball Washington was Joseph Ball.\n",
        "So the final answer is: Joseph Ball\n",
        "\"\"\",\n",
        "    },\n",
        "    {\n",
        "        \"question\": \"Are both the directors of Jaws and Casino Royale from the same country?\",\n",
        "        \"answer\": \"\"\"\n",
        "Are follow up questions needed here: Yes.\n",
        "Follow up: Who is the director of Jaws?\n",
        "Intermediate Answer: The director of Jaws is Steven Spielberg.\n",
        "Follow up: Where is Steven Spielberg from?\n",
        "Intermediate Answer: The United States.\n",
        "Follow up: Who is the director of Casino Royale?\n",
        "Intermediate Answer: The director of Casino Royale is Martin Campbell.\n",
        "Follow up: Where is Martin Campbell from?\n",
        "Intermediate Answer: New Zealand.\n",
        "So the final answer is: No\n",
        "\"\"\",\n",
        "    },\n",
        "]"
      ]
    },
    {
      "cell_type": "markdown",
      "id": "3d1ec9d5",
      "metadata": {},
      "source": [
        "让我们用一个例子来测试格式化提示："
      ]
    },
    {
      "cell_type": "code",
      "execution_count": 13,
      "id": "8c6e48ad",
      "metadata": {},
      "outputs": [
        {
          "name": "stdout",
          "output_type": "stream",
          "text": [
            "Question: Who lived longer, Muhammad Ali or Alan Turing?\n",
            "\n",
            "Are follow up questions needed here: Yes.\n",
            "Follow up: How old was Muhammad Ali when he died?\n",
            "Intermediate answer: Muhammad Ali was 74 years old when he died.\n",
            "Follow up: How old was Alan Turing when he died?\n",
            "Intermediate answer: Alan Turing was 41 years old when he died.\n",
            "So the final answer is: Muhammad Ali\n",
            "\n"
          ]
        }
      ],
      "source": [
        "print(example_prompt.invoke(examples[0]).to_string())"
      ]
    },
    {
      "cell_type": "markdown",
      "id": "dad66af1",
      "metadata": {},
      "source": [
        "### 将示例和格式化器传递给 `FewShotPromptTemplate`\n\n最后，创建一个 [`FewShotPromptTemplate`](https://python.langchain.com/api_reference/core/prompts/langchain_core.prompts.few_shot.FewShotPromptTemplate.html) 对象。此对象接收少样本示例和少样本示例的格式化器。当此 `FewShotPromptTemplate` 被格式化时，它会使用 `example_prompt` 来格式化传入的示例，然后将它们添加到最终提示中，放在 `suffix` 之前："
      ]
    },
    {
      "cell_type": "code",
      "execution_count": 14,
      "id": "e76fa1ba",
      "metadata": {},
      "outputs": [
        {
          "name": "stdout",
          "output_type": "stream",
          "text": [
            "Question: Who lived longer, Muhammad Ali or Alan Turing?\n",
            "\n",
            "Are follow up questions needed here: Yes.\n",
            "Follow up: How old was Muhammad Ali when he died?\n",
            "Intermediate answer: Muhammad Ali was 74 years old when he died.\n",
            "Follow up: How old was Alan Turing when he died?\n",
            "Intermediate answer: Alan Turing was 41 years old when he died.\n",
            "So the final answer is: Muhammad Ali\n",
            "\n",
            "\n",
            "Question: When was the founder of craigslist born?\n",
            "\n",
            "Are follow up questions needed here: Yes.\n",
            "Follow up: Who was the founder of craigslist?\n",
            "Intermediate answer: Craigslist was founded by Craig Newmark.\n",
            "Follow up: When was Craig Newmark born?\n",
            "Intermediate answer: Craig Newmark was born on December 6, 1952.\n",
            "So the final answer is: December 6, 1952\n",
            "\n",
            "\n",
            "Question: Who was the maternal grandfather of George Washington?\n",
            "\n",
            "Are follow up questions needed here: Yes.\n",
            "Follow up: Who was the mother of George Washington?\n",
            "Intermediate answer: The mother of George Washington was Mary Ball Washington.\n",
            "Follow up: Who was the father of Mary Ball Washington?\n",
            "Intermediate answer: The father of Mary Ball Washington was Joseph Ball.\n",
            "So the final answer is: Joseph Ball\n",
            "\n",
            "\n",
            "Question: Are both the directors of Jaws and Casino Royale from the same country?\n",
            "\n",
            "Are follow up questions needed here: Yes.\n",
            "Follow up: Who is the director of Jaws?\n",
            "Intermediate Answer: The director of Jaws is Steven Spielberg.\n",
            "Follow up: Where is Steven Spielberg from?\n",
            "Intermediate Answer: The United States.\n",
            "Follow up: Who is the director of Casino Royale?\n",
            "Intermediate Answer: The director of Casino Royale is Martin Campbell.\n",
            "Follow up: Where is Martin Campbell from?\n",
            "Intermediate Answer: New Zealand.\n",
            "So the final answer is: No\n",
            "\n",
            "\n",
            "Question: Who was the father of Mary Ball Washington?\n"
          ]
        }
      ],
      "source": [
        "from langchain_core.prompts import FewShotPromptTemplate\n",
        "\n",
        "prompt = FewShotPromptTemplate(\n",
        "    examples=examples,\n",
        "    example_prompt=example_prompt,\n",
        "    suffix=\"Question: {input}\",\n",
        "    input_variables=[\"input\"],\n",
        ")\n",
        "\n",
        "print(\n",
        "    prompt.invoke({\"input\": \"Who was the father of Mary Ball Washington?\"}).to_string()\n",
        ")"
      ]
    },
    {
      "cell_type": "markdown",
      "id": "59c6f332",
      "metadata": {},
      "source": [
        "通过向模型提供此类示例，我们可以引导模型获得更好的响应。"
      ]
    },
    {
      "cell_type": "markdown",
      "id": "bbe1f843",
      "metadata": {},
      "source": [
        "## 使用示例选择器\n\n我们将复用上一节中的示例集和格式化器。但是，我们不会直接将示例馈送给 `FewShotPromptTemplate` 对象，而是将它们馈送给一个名为 `SemanticSimilarityExampleSelector` 的 `ExampleSelector` 实现实例。这个类根据输入与初始集合中示例的相似度来选择少样本示例。它使用一个嵌入模型来计算输入与少样本示例之间的相似度，并使用一个向量存储来执行最近邻搜索。\n\n为了展示它的作用，让我们初始化一个实例并单独调用它："
      ]
    },
    {
      "cell_type": "code",
      "execution_count": 4,
      "id": "80c5ac5c",
      "metadata": {},
      "outputs": [
        {
          "name": "stdout",
          "output_type": "stream",
          "text": [
            "Examples most similar to the input: Who was the father of Mary Ball Washington?\n",
            "\n",
            "\n",
            "answer: \n",
            "Are follow up questions needed here: Yes.\n",
            "Follow up: Who was the mother of George Washington?\n",
            "Intermediate answer: The mother of George Washington was Mary Ball Washington.\n",
            "Follow up: Who was the father of Mary Ball Washington?\n",
            "Intermediate answer: The father of Mary Ball Washington was Joseph Ball.\n",
            "So the final answer is: Joseph Ball\n",
            "\n",
            "question: Who was the maternal grandfather of George Washington?\n"
          ]
        }
      ],
      "source": [
        "from langchain_chroma import Chroma\n",
        "from langchain_core.example_selectors import SemanticSimilarityExampleSelector\n",
        "from langchain_openai import OpenAIEmbeddings\n",
        "\n",
        "example_selector = SemanticSimilarityExampleSelector.from_examples(\n",
        "    # This is the list of examples available to select from.\n",
        "    examples,\n",
        "    # This is the embedding class used to produce embeddings which are used to measure semantic similarity.\n",
        "    OpenAIEmbeddings(),\n",
        "    # This is the VectorStore class that is used to store the embeddings and do a similarity search over.\n",
        "    Chroma,\n",
        "    # This is the number of examples to produce.\n",
        "    k=1,\n",
        ")\n",
        "\n",
        "# Select the most similar example to the input.\n",
        "question = \"Who was the father of Mary Ball Washington?\"\n",
        "selected_examples = example_selector.select_examples({\"question\": question})\n",
        "print(f\"Examples most similar to the input: {question}\")\n",
        "for example in selected_examples:\n",
        "    print(\"\\n\")\n",
        "    for k, v in example.items():\n",
        "        print(f\"{k}: {v}\")"
      ]
    },
    {
      "cell_type": "markdown",
      "id": "89ac47fe",
      "metadata": {},
      "source": [
        "现在，我们来创建一个 `FewShotPromptTemplate` 对象。该对象接收示例选择器和用于少样本示例的格式化提示。"
      ]
    },
    {
      "cell_type": "code",
      "execution_count": 5,
      "id": "de69a214",
      "metadata": {},
      "outputs": [
        {
          "name": "stdout",
          "output_type": "stream",
          "text": [
            "Question: Who was the maternal grandfather of George Washington?\n",
            "\n",
            "Are follow up questions needed here: Yes.\n",
            "Follow up: Who was the mother of George Washington?\n",
            "Intermediate answer: The mother of George Washington was Mary Ball Washington.\n",
            "Follow up: Who was the father of Mary Ball Washington?\n",
            "Intermediate answer: The father of Mary Ball Washington was Joseph Ball.\n",
            "So the final answer is: Joseph Ball\n",
            "\n",
            "\n",
            "Question: Who was the father of Mary Ball Washington?\n"
          ]
        }
      ],
      "source": [
        "prompt = FewShotPromptTemplate(\n",
        "    example_selector=example_selector,\n",
        "    example_prompt=example_prompt,\n",
        "    suffix=\"Question: {input}\",\n",
        "    input_variables=[\"input\"],\n",
        ")\n",
        "\n",
        "print(\n",
        "    prompt.invoke({\"input\": \"Who was the father of Mary Ball Washington?\"}).to_string()\n",
        ")"
      ]
    },
    {
      "cell_type": "markdown",
      "id": "1b460794",
      "metadata": {},
      "source": [
        "## 后续步骤\n\n你现在已经学会了如何在提示中添加少样本示例。\n\n接下来，请查看本节中有关提示模板的其他操作指南、关于使用聊天模型进行少样本的[相关操作指南](/docs/how_to/few_shot_examples_chat)，或其他的[示例选择器操作指南](/docs/how_to/example_selectors/)。"
      ]
    },
    {
      "cell_type": "code",
      "execution_count": null,
      "id": "bf06d2a6",
      "metadata": {},
      "outputs": [],
      "source": []
    }
  ],
  "metadata": {
    "kernelspec": {
      "display_name": "Python 3 (ipykernel)",
      "language": "python",
      "name": "python3"
    },
    "language_info": {
      "codemirror_mode": {
        "name": "ipython",
        "version": 3
      },
      "file_extension": ".py",
      "mimetype": "text/x-python",
      "name": "python",
      "nbconvert_exporter": "python",
      "pygments_lexer": "ipython3",
      "version": "3.9.1"
    }
  },
  "nbformat": 4,
  "nbformat_minor": 5
}