{
  "cells": [
    {
      "cell_type": "markdown",
      "id": "ce8457ed-c0b1-4a74-abbd-9d3d2211270f",
      "metadata": {},
      "source": [
        "# 从 LLMChain 迁移\n\n[`LLMChain`](https://python.langchain.com/api_reference/langchain/chains/langchain.chains.llm.LLMChain.html) 将提示模板、LLM 和输出解析器组合成一个类。\n\n切换到 LCEL 实现的一些优势包括：\n\n- 内容和参数清晰明了。传统的 `LLMChain` 包含默认的输出解析器和其他选项。\n- 更方便的流式传输。`LLMChain` 只通过回调支持流式传输。\n- 如果需要，更容易访问原始消息输出。`LLMChain` 只通过参数或回调暴露这些。"
      ]
    },
    {
      "cell_type": "code",
      "execution_count": null,
      "id": "b99b47ec",
      "metadata": {},
      "outputs": [],
      "source": [
        "%pip install --upgrade --quiet langchain-openai"
      ]
    },
    {
      "cell_type": "code",
      "execution_count": 1,
      "id": "717c8673",
      "metadata": {},
      "outputs": [],
      "source": [
        "import os\n",
        "from getpass import getpass\n",
        "\n",
        "if \"OPENAI_API_KEY\" not in os.environ:\n",
        "    os.environ[\"OPENAI_API_KEY\"] = getpass()"
      ]
    },
    {
      "cell_type": "markdown",
      "id": "e3621b62-a037-42b8-8faa-59575608bb8b",
      "metadata": {},
      "source": [
        "## 旧版\n\n<details open>"
      ]
    },
    {
      "cell_type": "code",
      "execution_count": 5,
      "id": "f91c9809-8ee7-4e38-881d-0ace4f6ea883",
      "metadata": {},
      "outputs": [
        {
          "data": {
            "text/plain": [
              "{'adjective': 'funny',\n",
              " 'text': \"Why couldn't the bicycle stand up by itself?\\n\\nBecause it was two tired!\"}"
            ]
          },
          "execution_count": 5,
          "metadata": {},
          "output_type": "execute_result"
        }
      ],
      "source": [
        "from langchain.chains import LLMChain\n",
        "from langchain_core.prompts import ChatPromptTemplate\n",
        "from langchain_openai import ChatOpenAI\n",
        "\n",
        "prompt = ChatPromptTemplate.from_messages(\n",
        "    [(\"user\", \"Tell me a {adjective} joke\")],\n",
        ")\n",
        "\n",
        "legacy_chain = LLMChain(llm=ChatOpenAI(), prompt=prompt)\n",
        "\n",
        "legacy_result = legacy_chain({\"adjective\": \"funny\"})\n",
        "legacy_result"
      ]
    },
    {
      "cell_type": "markdown",
      "id": "9f89e97b",
      "metadata": {},
      "source": [
        "请注意，`LLMChain` 默认会返回一个包含输入和 `StrOutputParser` 输出的 `dict`，因此你需要通过访问 `\"text\"` 键来提取输出。"
      ]
    },
    {
      "cell_type": "code",
      "execution_count": 6,
      "id": "c7fa1618",
      "metadata": {},
      "outputs": [
        {
          "data": {
            "text/plain": [
              "\"Why couldn't the bicycle stand up by itself?\\n\\nBecause it was two tired!\""
            ]
          },
          "execution_count": 6,
          "metadata": {},
          "output_type": "execute_result"
        }
      ],
      "source": [
        "legacy_result[\"text\"]"
      ]
    },
    {
      "cell_type": "markdown",
      "id": "cdc3b527-c09e-4c77-9711-c3cc4506cd95",
      "metadata": {},
      "source": [
        "</details>\n\n## LCEL\n\n<details open>"
      ]
    },
    {
      "cell_type": "code",
      "execution_count": 3,
      "id": "f0903025-9aa8-4a53-8336-074341c00e59",
      "metadata": {},
      "outputs": [
        {
          "data": {
            "text/plain": [
              "'Why was the math book sad?\\n\\nBecause it had too many problems.'"
            ]
          },
          "execution_count": 3,
          "metadata": {},
          "output_type": "execute_result"
        }
      ],
      "source": [
        "from langchain_core.output_parsers import StrOutputParser\n",
        "from langchain_core.prompts import ChatPromptTemplate\n",
        "from langchain_openai import ChatOpenAI\n",
        "\n",
        "prompt = ChatPromptTemplate.from_messages(\n",
        "    [(\"user\", \"Tell me a {adjective} joke\")],\n",
        ")\n",
        "\n",
        "chain = prompt | ChatOpenAI() | StrOutputParser()\n",
        "\n",
        "chain.invoke({\"adjective\": \"funny\"})"
      ]
    },
    {
      "cell_type": "markdown",
      "id": "3c0b0513-77b8-4371-a20e-3e487cec7e7f",
      "metadata": {},
      "source": [
        "如果你想模仿 `LLMChain` 中输入和输出的 `dict` 打包方式，你可以使用 [`RunnablePassthrough.assign`](https://python.langchain.com/api_reference/core/runnables/langchain_core.runnables.passthrough.RunnablePassthrough.html) ，如下所示："
      ]
    },
    {
      "cell_type": "code",
      "execution_count": 4,
      "id": "20f11321-834a-485a-a8ad-85734d572902",
      "metadata": {},
      "outputs": [
        {
          "data": {
            "text/plain": [
              "{'adjective': 'funny',\n",
              " 'text': 'Why did the scarecrow win an award? Because he was outstanding in his field!'}"
            ]
          },
          "execution_count": 4,
          "metadata": {},
          "output_type": "execute_result"
        }
      ],
      "source": [
        "from langchain_core.runnables import RunnablePassthrough\n",
        "\n",
        "outer_chain = RunnablePassthrough().assign(text=chain)\n",
        "\n",
        "outer_chain.invoke({\"adjective\": \"funny\"})"
      ]
    },
    {
      "cell_type": "markdown",
      "id": "b2717810",
      "metadata": {},
      "source": [
        "</details>\n\n## 后续步骤\n\n请参阅[此教程](/docs/tutorials/llm_chain)，了解有关使用 prompt 模板、LLM 和输出解析器的更多详细信息。\n\n请查看[LCEL 概念文档](/docs/concepts/lcel)，获取更多背景信息。"
      ]
    }
  ],
  "metadata": {
    "kernelspec": {
      "display_name": "Python 3 (ipykernel)",
      "language": "python",
      "name": "python3"
    },
    "language_info": {
      "codemirror_mode": {
        "name": "ipython",
        "version": 3
      },
      "file_extension": ".py",
      "mimetype": "text/x-python",
      "name": "python",
      "nbconvert_exporter": "python",
      "pygments_lexer": "ipython3",
      "version": "3.11.4"
    }
  },
  "nbformat": 4,
  "nbformat_minor": 5
}