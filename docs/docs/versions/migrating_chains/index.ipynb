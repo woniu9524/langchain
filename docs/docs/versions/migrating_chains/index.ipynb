{
  "cells": [
    {
      "cell_type": "raw",
      "metadata": {
        "vscode": {
          "languageId": "raw"
        }
      },
      "source": [
        "---\n",
        "sidebar_position: 1\n",
        "---"
      ]
    },
    {
      "cell_type": "markdown",
      "metadata": {},
      "source": [
        "# 如何从 v0.0 链迁移\n\n自发布以来，LangChain 不断发展，许多最初的 \"Chain\" 类已被弃用，取而代之的是更灵活、更强大的 LCEL 和 LangGraph 框架。\n\n本指南将帮助您将现有的 v0.0 链迁移到新的抽象。\n\n:::info 已弃用的实现如何工作\n尽管许多这些实现已被弃用，但它们在代码库中**仍然受支持**。不过，我们不推荐在新开发中使用它们，并建议您使用以下指南进行重新实现！\n\n要查看每个已弃用实现计划移除的版本，请查看其 API 参考。\n:::\n\n:::info 先决条件\n\n这些指南假设您对以下概念有一定的了解：\n- [LangChain 表达式语言](/docs/concepts/lcel)\n- [LangGraph](https://langchain-ai.github.io/langgraph/)\n:::\n\nLangChain 维护了许多遗留抽象。其中许多可以通过 LCEL 和 LangGraph 的基本组件进行简短的组合来实现。\n\n### LCEL\n[LCEL](/docs/concepts/lcel) 旨在简化使用 LLM 构建实用应用和组合相关组件的过程。它通过提供以下功能来实现这一点：\n\n1. **统一接口**: 每个 LCEL 对象都实现了 `Runnable` 接口，该接口定义了一组通用的调用方法（`invoke`、`batch`、`stream`、`ainvoke` 等）。这使得能够自动且一致地支持流式中间步骤和批处理等有用操作，因为由 LCEL 对象组成的每个链本身也是一个 LCEL 对象。\n2. **组合原语**: LCEL 提供了一系列原语，可以轻松地组合链、并行化组件、添加回退、动态配置链的内部组件等等。\n\n### LangGraph\n[LangGraph](https://langchain-ai.github.io/langgraph/) 构建在 LCEL 之上，允许在保持代码简洁易读的同时，高性能地编排应用程序组件。它内置了持久性、支持循环，并优先考虑可控性。\n如果对于大型或更复杂的链来说，LCEL 变得难以管理，那么转向 LangGraph 实现可能会带来益处。\n\n### 优势\n为现有的 v0.0 链使用这些框架带来了一些优势：\n\n- 生成的链通常会实现完整的 `Runnable` 接口，包括在适当情况下的流式处理和异步支持；\n- 链可以更轻松地扩展或修改；\n- 相较于以前版本倾向于子类化且参数和内部机制不透明的情况，这些链的参数通常会被暴露出来以便于自定义（例如修改提示）；\n- 如果使用 LangGraph，链将支持内置持久性，从而通过“记忆”聊天历史来实现会话体验。\n- 如果使用 LangGraph，链的步骤可以进行流式处理，从而提供更高的控制力和可定制性。\n\n以下页面将协助您从各种特定链迁移到 LCEL 和 LangGraph：\n\n- [LLMChain](./llm_chain.ipynb)\n- [ConversationChain](./conversation_chain.ipynb)\n- [RetrievalQA](./retrieval_qa.ipynb)\n- [ConversationalRetrievalChain](./conversation_retrieval_chain.ipynb)\n- [StuffDocumentsChain](./stuff_docs_chain.ipynb)\n- [MapReduceDocumentsChain](./map_reduce_chain.ipynb)\n- [MapRerankDocumentsChain](./map_rerank_docs_chain.ipynb)\n- [RefineDocumentsChain](./refine_docs_chain.ipynb)\n- [LLMRouterChain](./llm_router_chain.ipynb)\n- [MultiPromptChain](./multi_prompt_chain.ipynb)\n- [LLMMathChain](./llm_math_chain.ipynb)\n- [ConstitutionalChain](./constitutional_chain.ipynb)\n\n请查看 [LCEL 概念文档](/docs/concepts/lcel) 和 [LangGraph 文档](https://langchain-ai.github.io/langgraph/) 以获取更多背景信息。"
      ]
    }
  ],
  "metadata": {
    "language_info": {
      "name": "python"
    }
  },
  "nbformat": 4,
  "nbformat_minor": 2
}