{
  "cells": [
    {
      "cell_type": "markdown",
      "id": "ed78c53c-55ad-4ea2-9cc2-a39a1963c098",
      "metadata": {},
      "source": [
        "# 从 StuffDocumentsChain 迁移\n\n[StuffDocumentsChain](https://python.langchain.com/api_reference/langchain/chains/langchain.chains.combine_documents.stuff.StuffDocumentsChain.html) 通过将文档串联到单个上下文窗口中来组合文档。它是用于问答、摘要和其他目的组合文档的一种直接有效的策略。\n\n[create_stuff_documents_chain](https://python.langchain.com/api_reference/langchain/chains/langchain.chains.combine_documents.stuff.create_stuff_documents_chain.html) 是推荐的替代方案。它的功能与 `StuffDocumentsChain` 相同，并对流和批处理功能提供了更好的支持。由于它是 [LCEL 原始组件](/docs/concepts/lcel) 的简单组合，因此也更容易扩展并集成到其他 LangChain 应用程序中。\n\n下面我们将通过一个简单的示例来详细介绍 `StuffDocumentsChain` 和 `create_stuff_documents_chain`。\n\n首先，让我们加载一个聊天模型：\n\nimport ChatModelTabs from \"@theme/ChatModelTabs\";\n\n<ChatModelTabs customVarName=\"llm\" />"
      ]
    },
    {
      "cell_type": "code",
      "execution_count": 1,
      "id": "dac0bef2-9453-46f2-a893-f7569b6a0170",
      "metadata": {},
      "outputs": [],
      "source": [
        "# | output: false\n",
        "# | echo: false\n",
        "\n",
        "from langchain_openai import ChatOpenAI\n",
        "\n",
        "llm = ChatOpenAI(model=\"gpt-4o-mini\", temperature=0)"
      ]
    },
    {
      "cell_type": "markdown",
      "id": "d4022d03-7b5e-4c81-98ff-5b82a2a4eaae",
      "metadata": {},
      "source": [
        "## 示例\n\n让我们通过一个分析文档集的示例。我们首先生成一些简单的文档以作说明："
      ]
    },
    {
      "cell_type": "code",
      "execution_count": 2,
      "id": "24fa0ba9-e245-47d1-bc2e-6286dd884117",
      "metadata": {},
      "outputs": [],
      "source": [
        "from langchain_core.documents import Document\n",
        "\n",
        "documents = [\n",
        "    Document(page_content=\"Apples are red\", metadata={\"title\": \"apple_book\"}),\n",
        "    Document(page_content=\"Blueberries are blue\", metadata={\"title\": \"blueberry_book\"}),\n",
        "    Document(page_content=\"Bananas are yelow\", metadata={\"title\": \"banana_book\"}),\n",
        "]"
      ]
    },
    {
      "cell_type": "markdown",
      "id": "3a769128-205f-417d-a25d-519e7cb03be7",
      "metadata": {},
      "source": [
        "### 旧版\n<details open>\n\n下面我们展示使用 `StuffDocumentsChain` 的实现。我们为摘要任务定义了提示模板，并为此实例化一个 [LLMChain](https://python.langchain.com/api_reference/langchain/chains/langchain.chains.llm.LLMChain.html) 对象。我们定义了文档如何格式化到提示中，并确保各种提示中的键保持一致。"
      ]
    },
    {
      "cell_type": "code",
      "execution_count": 15,
      "id": "9734c0f3-64e7-4ae6-8578-df03b3dabb26",
      "metadata": {},
      "outputs": [],
      "source": [
        "from langchain.chains import LLMChain, StuffDocumentsChain\n",
        "from langchain_core.prompts import ChatPromptTemplate, PromptTemplate\n",
        "\n",
        "# This controls how each document will be formatted. Specifically,\n",
        "# it will be passed to `format_document` - see that function for more\n",
        "# details.\n",
        "document_prompt = PromptTemplate(\n",
        "    input_variables=[\"page_content\"], template=\"{page_content}\"\n",
        ")\n",
        "document_variable_name = \"context\"\n",
        "# The prompt here should take as an input variable the\n",
        "# `document_variable_name`\n",
        "prompt = ChatPromptTemplate.from_template(\"Summarize this content: {context}\")\n",
        "\n",
        "llm_chain = LLMChain(llm=llm, prompt=prompt)\n",
        "chain = StuffDocumentsChain(\n",
        "    llm_chain=llm_chain,\n",
        "    document_prompt=document_prompt,\n",
        "    document_variable_name=document_variable_name,\n",
        ")"
      ]
    },
    {
      "cell_type": "markdown",
      "id": "0cb733bf-eb71-4fae-a8f4-d522924020cb",
      "metadata": {},
      "source": [
        "现在我们可以调用我们的链："
      ]
    },
    {
      "cell_type": "code",
      "execution_count": 19,
      "id": "d7d1ce10-bbee-4cb0-879d-7de4f69191c4",
      "metadata": {},
      "outputs": [
        {
          "data": {
            "text/plain": [
              "'This content describes the colors of different fruits: apples are red, blueberries are blue, and bananas are yellow.'"
            ]
          },
          "execution_count": 19,
          "metadata": {},
          "output_type": "execute_result"
        }
      ],
      "source": [
        "result = chain.invoke(documents)\n",
        "result[\"output_text\"]"
      ]
    },
    {
      "cell_type": "code",
      "execution_count": 20,
      "id": "79b10d40-1521-433b-9026-6ec836ffeeb3",
      "metadata": {},
      "outputs": [
        {
          "name": "stdout",
          "output_type": "stream",
          "text": [
            "{'input_documents': [Document(metadata={'title': 'apple_book'}, page_content='Apples are red'), Document(metadata={'title': 'blueberry_book'}, page_content='Blueberries are blue'), Document(metadata={'title': 'banana_book'}, page_content='Bananas are yelow')], 'output_text': 'This content describes the colors of different fruits: apples are red, blueberries are blue, and bananas are yellow.'}\n"
          ]
        }
      ],
      "source": [
        "for chunk in chain.stream(documents):\n",
        "    print(chunk)"
      ]
    },
    {
      "cell_type": "markdown",
      "id": "b4cb6a5b-37ea-48cc-a096-b948d3ff7e9f",
      "metadata": {},
      "source": [
        "</details>\n\n### LCEL\n\n<details open>\n\n下面我们展示使用 `create_stuff_documents_chain` 的实现："
      ]
    },
    {
      "cell_type": "code",
      "execution_count": 21,
      "id": "de38f27a-c648-44be-8c37-0a458c2920a9",
      "metadata": {},
      "outputs": [],
      "source": [
        "from langchain.chains.combine_documents import create_stuff_documents_chain\n",
        "from langchain_core.prompts import ChatPromptTemplate\n",
        "\n",
        "prompt = ChatPromptTemplate.from_template(\"Summarize this content: {context}\")\n",
        "chain = create_stuff_documents_chain(llm, prompt)"
      ]
    },
    {
      "cell_type": "markdown",
      "id": "9d0e6996-9bf8-4097-9c1a-1c539eac3ed1",
      "metadata": {},
      "source": [
        "调用链条，我们会获得与之前类似的结果："
      ]
    },
    {
      "cell_type": "code",
      "execution_count": 24,
      "id": "f2d2bdfb-3a6a-464b-b4c2-e4252b2e53a0",
      "metadata": {},
      "outputs": [
        {
          "data": {
            "text/plain": [
              "'This content describes the colors of different fruits: apples are red, blueberries are blue, and bananas are yellow.'"
            ]
          },
          "execution_count": 24,
          "metadata": {},
          "output_type": "execute_result"
        }
      ],
      "source": [
        "result = chain.invoke({\"context\": documents})\n",
        "result"
      ]
    },
    {
      "cell_type": "markdown",
      "id": "493e6270-c61d-46c5-91b3-0cf7740a88f9",
      "metadata": {},
      "source": [
        "请注意，此实现支持输出 token 的流式传输："
      ]
    },
    {
      "cell_type": "code",
      "execution_count": 26,
      "id": "b5adcabd-9bc1-4c91-a12b-7be82d64e457",
      "metadata": {},
      "outputs": [
        {
          "name": "stdout",
          "output_type": "stream",
          "text": [
            " | This |  content |  describes |  the |  colors |  of |  different |  fruits | : |  apples |  are |  red | , |  blue | berries |  are |  blue | , |  and |  bananas |  are |  yellow | . |  | "
          ]
        }
      ],
      "source": [
        "for chunk in chain.stream({\"context\": documents}):\n",
        "    print(chunk, end=\" | \")"
      ]
    },
    {
      "cell_type": "markdown",
      "id": "181c5633-38ea-4692-a869-32f4f78398e4",
      "metadata": {},
      "source": [
        "</details>\n\n## 后续步骤\n\n请查看 [LCEL 概念文档](/docs/concepts/lcel) 以获取更多背景信息。\n\n请参阅这些[操作指南](/docs/how_to/#qa-with-rag)，了解更多关于使用 RAG 进行问答任务的内容。\n\n请参阅[本教程](/docs/tutorials/summarization/)，了解更多基于 LLM 的摘要策略。"
      ]
    }
  ],
  "metadata": {
    "kernelspec": {
      "display_name": "Python 3 (ipykernel)",
      "language": "python",
      "name": "python3"
    },
    "language_info": {
      "codemirror_mode": {
        "name": "ipython",
        "version": 3
      },
      "file_extension": ".py",
      "mimetype": "text/x-python",
      "name": "python",
      "nbconvert_exporter": "python",
      "pygments_lexer": "ipython3",
      "version": "3.10.4"
    }
  },
  "nbformat": 4,
  "nbformat_minor": 5
}