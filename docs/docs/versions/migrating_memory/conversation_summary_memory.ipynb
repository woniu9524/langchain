{
  "cells": [
    {
      "cell_type": "markdown",
      "id": "ce8457ed-c0b1-4a74-abbd-9d3d2211270f",
      "metadata": {},
      "source": [
        "# 从 ConversationSummaryMemory 或 ConversationSummaryBufferMemory 迁移\n\n如果您正尝试从以下旧内存类迁移，请遵循本指南：\n\n| 内存类型                          | 描述                                                                                                                                          |\n|---------------------------------------|------------------------------------------------------------------------------------------------------------------------------------------------------|\n| `ConversationSummaryMemory`           | 持续总结对话历史。在每次对话轮次后更新摘要。该抽象返回对话历史的摘要。 |\n| `ConversationSummaryBufferMemory`     | 在总标记数不超过特定限制的约束下，提供对话的运行摘要以及最近的消息。 |\n\n请遵循 LangGraph 中关于摘要的以下[操作指南](https://langchain-ai.github.io/langgraph/how-tos/memory/add-summary-conversation-history/)。\n\n本指南展示了如何在丢弃旧消息的同时维护对话的运行摘要，确保它们在后续轮次中不会被重新处理。"
      ]
    }
  ],
  "metadata": {
    "kernelspec": {
      "display_name": "Python 3 (ipykernel)",
      "language": "python",
      "name": "python3"
    },
    "language_info": {
      "codemirror_mode": {
        "name": "ipython",
        "version": 3
      },
      "file_extension": ".py",
      "mimetype": "text/x-python",
      "name": "python",
      "nbconvert_exporter": "python",
      "pygments_lexer": "ipython3",
      "version": "3.11.4"
    }
  },
  "nbformat": 4,
  "nbformat_minor": 5
}