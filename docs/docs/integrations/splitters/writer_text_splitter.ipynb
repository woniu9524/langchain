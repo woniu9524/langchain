{
  "cells": [
    {
      "cell_type": "markdown",
      "id": "db23d51760310705",
      "metadata": {},
      "source": [
        "# Writer 文本分割器\n\n本笔记本提供了使用 Writer 的 [文本分割器](/docs/concepts/text_splitters/) 的快速入门指南。\n\nWriter 的 [上下文感知分割端点](https://dev.writer.com/api-guides/tools#context-aware-text-splitting) 为长文档（最多 4000 字）提供了智能文本分割功能。与简单的基于字符的分割不同，它保留了块之间的语义含义和上下文，非常适合处理长篇内容同时保持连贯性。在 `langchain-writer` 中，我们提供了 Writer 的上下文感知分割端点作为 LangChain 文本分割器的用法。\n\n## 概述\n\n### 集成详情\n| 类 | 包 | 本地 | 可序列化 | JS 支持 | 包下载次数 | 包最新版本 |\n|:-----------------------------------------------------------------------------------------------------------------------------------------|:-----------------| :---: | :---: |:----------:|:------------------------------------------------------------------------------------------------:|:---------------------------------------------------------------------------------------------:|\n| [WriterTextSplitter](https://github.com/writer/langchain-writer/blob/main/langchain_writer/text_splitter.py#L11) | [langchain-writer](https://pypi.org/project/langchain-writer/) |      ❌       |                                       ❌                                       | ❌ | ![PyPI - Downloads](https://img.shields.io/pypi/dm/langchain-writer?style=flat-square&label=%20) | ![PyPI - Version](https://img.shields.io/pypi/v/langchain-writer?style=flat-square&label=%20) |"
      ]
    },
    {
      "cell_type": "markdown",
      "id": "c5f08d23df5dc127",
      "metadata": {},
      "source": [
        "## 设置\n\n`WriterTextSplitter` 包在 `langchain-writer` 中可用："
      ]
    },
    {
      "cell_type": "code",
      "id": "a8d653f15b7ee32d",
      "metadata": {},
      "source": "%pip install --quiet -U langchain-writer",
      "outputs": [],
      "execution_count": null
    },
    {
      "cell_type": "markdown",
      "id": "3b9709c26797edf",
      "metadata": {},
      "source": [
        "### 凭证\n\n注册 [Writer AI Studio](https://app.writer.com/aistudio/signup?utm_campaign=devrel) 以生成 API 密钥（您可以遵循此 [快速入门指南](https://dev.writer.com/api-guides/quickstart)）。然后，设置 WRITER_API_KEY 环境变量："
      ]
    },
    {
      "cell_type": "code",
      "id": "2983e19c9d555e58",
      "metadata": {},
      "source": [
        "import getpass\n",
        "import os\n",
        "\n",
        "if not os.getenv(\"WRITER_API_KEY\"):\n",
        "    os.environ[\"WRITER_API_KEY\"] = getpass.getpass(\"Enter your Writer API key: \")"
      ],
      "outputs": [],
      "execution_count": null
    },
    {
      "cell_type": "markdown",
      "id": "92a22c77f03d43dc",
      "metadata": {},
      "source": [
        "设置 [LangSmith](https://smith.langchain.com/) 以获得一流的可观察性也很有帮助（但非必需）。如果您希望这样做，可以设置 `LANGSMITH_TRACING` 和 `LANGSMITH_API_KEY` 环境变量："
      ]
    },
    {
      "cell_type": "code",
      "id": "98d8422ecee77403",
      "metadata": {},
      "source": [
        "# os.environ[\"LANGSMITH_TRACING\"] = \"true\"\n",
        "# os.environ[\"LANGSMITH_API_KEY\"] = getpass.getpass()"
      ],
      "outputs": [],
      "execution_count": null
    },
    {
      "cell_type": "markdown",
      "id": "67ab78950a3da8ba",
      "metadata": {},
      "source": [
        "### 实例化\n\n实例化 `WriterTextSplitter`，并将 `strategy` 参数设置为以下选项之一：\n\n- `llm_split`：使用语言模型进行精确的语义分割\n- `fast_split`：使用基于启发式的方法进行快速分割\n- `hybrid_split`：结合了两种方法"
      ]
    },
    {
      "cell_type": "code",
      "id": "787b3ba8af32533f",
      "metadata": {},
      "source": [
        "from langchain_writer.text_splitter import WriterTextSplitter\n",
        "\n",
        "splitter = WriterTextSplitter(strategy=\"fast_split\")"
      ],
      "outputs": [],
      "execution_count": null
    },
    {
      "cell_type": "markdown",
      "id": "d91c6f752fd31cee",
      "metadata": {},
      "source": [
        "## 用法\n`WriterTextSplitter` 可同步或异步使用。\n\n### 同步用法\n要同步使用 `WriterTextSplitter`，请调用 `split_text` 方法并传入您想拆分的文本："
      ]
    },
    {
      "cell_type": "code",
      "id": "d1a24b81a8a96f09",
      "metadata": {},
      "source": [
        "text = \"\"\"Reeeeeeeeeeeeeeeeeeeeeaally long text you want to divide into smaller chunks. For example you can add a poem multiple times:\n",
        "Two roads diverged in a yellow wood,\n",
        "And sorry I could not travel both\n",
        "And be one traveler, long I stood\n",
        "And looked down one as far as I could\n",
        "To where it bent in the undergrowth;\n",
        "\n",
        "Then took the other, as just as fair,\n",
        "And having perhaps the better claim,\n",
        "Because it was grassy and wanted wear;\n",
        "Though as for that the passing there\n",
        "Had worn them really about the same,\n",
        "\n",
        "And both that morning equally lay\n",
        "In leaves no step had trodden black.\n",
        "Oh, I kept the first for another day!\n",
        "Yet knowing how way leads on to way,\n",
        "I doubted if I should ever come back.\n",
        "\n",
        "I shall be telling this with a sigh\n",
        "Somewhere ages and ages hence:\n",
        "Two roads diverged in a wood, and I—\n",
        "I took the one less traveled by,\n",
        "And that has made all the difference.\n",
        "\n",
        "Two roads diverged in a yellow wood,\n",
        "And sorry I could not travel both\n",
        "And be one traveler, long I stood\n",
        "And looked down one as far as I could\n",
        "To where it bent in the undergrowth;\n",
        "\n",
        "Then took the other, as just as fair,\n",
        "And having perhaps the better claim,\n",
        "Because it was grassy and wanted wear;\n",
        "Though as for that the passing there\n",
        "Had worn them really about the same,\n",
        "\n",
        "And both that morning equally lay\n",
        "In leaves no step had trodden black.\n",
        "Oh, I kept the first for another day!\n",
        "Yet knowing how way leads on to way,\n",
        "I doubted if I should ever come back.\n",
        "\n",
        "I shall be telling this with a sigh\n",
        "Somewhere ages and ages hence:\n",
        "Two roads diverged in a wood, and I—\n",
        "I took the one less traveled by,\n",
        "And that has made all the difference.\n",
        "\n",
        "Two roads diverged in a yellow wood,\n",
        "And sorry I could not travel both\n",
        "And be one traveler, long I stood\n",
        "And looked down one as far as I could\n",
        "To where it bent in the undergrowth;\n",
        "\n",
        "Then took the other, as just as fair,\n",
        "And having perhaps the better claim,\n",
        "Because it was grassy and wanted wear;\n",
        "Though as for that the passing there\n",
        "Had worn them really about the same,\n",
        "\n",
        "And both that morning equally lay\n",
        "In leaves no step had trodden black.\n",
        "Oh, I kept the first for another day!\n",
        "Yet knowing how way leads on to way,\n",
        "I doubted if I should ever come back.\n",
        "\n",
        "I shall be telling this with a sigh\n",
        "Somewhere ages and ages hence:\n",
        "Two roads diverged in a wood, and I—\n",
        "I took the one less traveled by,\n",
        "And that has made all the difference.\n",
        "\"\"\"\n",
        "\n",
        "chunks = splitter.split_text(text)\n",
        "chunks"
      ],
      "outputs": [],
      "execution_count": null
    },
    {
      "cell_type": "markdown",
      "id": "e6d09fcf",
      "metadata": {},
      "source": [
        "您可以打印块的长度，以查看创建了多少个块："
      ]
    },
    {
      "cell_type": "code",
      "id": "a470daa875d99006",
      "metadata": {},
      "source": [
        "print(len(chunks))"
      ],
      "outputs": [],
      "execution_count": null
    },
    {
      "cell_type": "markdown",
      "id": "f89c048c7d23807a",
      "metadata": {},
      "source": [
        "### 异步用法\n要异步使用 `WriterTextSplitter`，请调用 `asplit_text` 方法并传入您想要分割的文本："
      ]
    },
    {
      "cell_type": "code",
      "id": "e2f7fd52b7188c6c",
      "metadata": {},
      "source": [
        "async_chunks = await splitter.asplit_text(text)\n",
        "async_chunks"
      ],
      "outputs": [],
      "execution_count": null
    },
    {
      "cell_type": "markdown",
      "id": "cb669ce7",
      "metadata": {},
      "source": [
        "打印块的长度，以查看创建了多少块："
      ]
    },
    {
      "cell_type": "code",
      "id": "a1439db14e687fa4",
      "metadata": {},
      "source": [
        "print(len(async_chunks))"
      ],
      "outputs": [],
      "execution_count": null
    },
    {
      "cell_type": "markdown",
      "id": "ab25a3bed8437a05",
      "metadata": {},
      "source": [
        "## API 参考\n有关 `WriterTextSplitter` 所有功能和配置的详细文档，请前往 [API 参考](https://python.langchain.com/api_reference/writer/text_splitter/langchain_writer.text_splitter.WriterTextSplitter.html#langchain_writer.text_splitter.WriterTextSplitter)。\n\n## 其他资源\n您可以在 [Writer 文档](https://dev.writer.com/home) 中找到有关 Writer 模型（包括成本、上下文窗口和支持的输入类型）以及工具的信息。"
      ]
    }
  ],
  "metadata": {
    "kernelspec": {
      "display_name": "Python 3",
      "language": "python",
      "name": "python3"
    },
    "language_info": {
      "codemirror_mode": {
        "name": "ipython",
        "version": 2
      },
      "file_extension": ".py",
      "mimetype": "text/x-python",
      "name": "python",
      "nbconvert_exporter": "python",
      "pygments_lexer": "ipython2",
      "version": "2.7.6"
    }
  },
  "nbformat": 4,
  "nbformat_minor": 5
}