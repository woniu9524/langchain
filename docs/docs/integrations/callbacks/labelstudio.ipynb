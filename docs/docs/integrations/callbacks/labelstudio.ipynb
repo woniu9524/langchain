{
  "cells": [
    {
      "cell_type": "markdown",
      "metadata": {
        "collapsed": true,
        "jupyter": {
          "outputs_hidden": true
        },
        "pycharm": {
          "name": "#%% md\n"
        }
      },
      "source": [
        "# Label Studio\n\n\n>[Label Studio](https://labelstud.io/guide/get_started) 是一个开源数据标注平台，它为 LangChain 在微调大型语言模型（LLM）的数据标注方面提供了灵活性。它还可以用于准备自定义训练数据以及通过人类反馈收集和评估响应。\n\n在本指南中，您将学习如何将 LangChain 管道连接到 `Label Studio` 以便：\n\n- 将所有输入提示、对话和响应聚合到一个 `Label Studio` 项目中。这使得所有数据集中在一个地方，更便于标注和分析。\n- 精炼提示和响应，为监督微调（SFT）和人类反馈强化学习（RLHF）场景创建数据集。这些标注数据可用于进一步训练 LLM 以改进其性能。\n- 通过人类反馈评估模型响应。`Label Studio` 提供了一个界面，供人类审查和提供模型响应的反馈，从而实现评估和迭代。"
      ]
    },
    {
      "cell_type": "markdown",
      "metadata": {
        "pycharm": {
          "name": "#%% md\n"
        }
      },
      "source": [
        "## 安装与设置"
      ]
    },
    {
      "cell_type": "markdown",
      "metadata": {
        "pycharm": {
          "name": "#%% md\n"
        }
      },
      "source": [
        "首先，安装最新版本的 Label Studio 和 Label Studio API 客户端："
      ]
    },
    {
      "cell_type": "code",
      "execution_count": null,
      "metadata": {
        "pycharm": {
          "name": "#%%\n"
        }
      },
      "outputs": [],
      "source": [
        "%pip install --upgrade --quiet langchain label-studio label-studio-sdk langchain-openai langchain-community"
      ]
    },
    {
      "cell_type": "markdown",
      "metadata": {
        "pycharm": {
          "name": "#%% md\n"
        }
      },
      "source": [
        "接下来，在命令行中运行 `label-studio`，以在 `http://localhost:8080` 启动本地 LabelStudio 实例。有关更多选项，请参阅 [Label Studio 安装指南](https://labelstud.io/guide/install)。"
      ]
    },
    {
      "cell_type": "markdown",
      "metadata": {
        "pycharm": {
          "name": "#%% md\n"
        }
      },
      "source": [
        "您需要一个令牌才能进行 API 调用。\n\n在浏览器中打开您的 LabelStudio 实例，转到 `Account & Settings > Access Token` 并复制密钥。\n\n使用您的 LabelStudio URL、API 密钥和 OpenAI API 密钥设置环境变量："
      ]
    },
    {
      "cell_type": "code",
      "execution_count": null,
      "metadata": {
        "pycharm": {
          "name": "#%%\n"
        }
      },
      "outputs": [],
      "source": [
        "import os\n",
        "\n",
        "os.environ[\"LABEL_STUDIO_URL\"] = \"<YOUR-LABEL-STUDIO-URL>\"  # e.g. http://localhost:8080\n",
        "os.environ[\"LABEL_STUDIO_API_KEY\"] = \"<YOUR-LABEL-STUDIO-API-KEY>\"\n",
        "os.environ[\"OPENAI_API_KEY\"] = \"<YOUR-OPENAI-API-KEY>\""
      ]
    },
    {
      "cell_type": "markdown",
      "metadata": {
        "pycharm": {
          "name": "#%% md\n"
        }
      },
      "source": [
        "## 收集大型语言模型的提示和响应"
      ]
    },
    {
      "cell_type": "markdown",
      "metadata": {},
      "source": [
        "Label Studio 中用于标记的数据存储在项目内。每个项目都由一个 XML 配置进行标识，该配置详细说明了输入和输出数据的规范。\n\n创建这样一个项目，它接收文本格式的真人输入，并以文本区域的形式输出可编辑的 LLM 回复：\n\n```xml\n<View>\n<Style>\n    .prompt-box {\n        background-color: white;\n        border-radius: 10px;\n        box-shadow: 0px 4px 6px rgba(0, 0, 0, 0.1);\n        padding: 20px;\n    }\n</Style>\n<View className=\"root\">\n    <View className=\"prompt-box\">\n        <Text name=\"prompt\" value=\"$prompt\"/>\n    </View>\n    <TextArea name=\"response\" toName=\"prompt\"\n              maxSubmissions=\"1\" editable=\"true\"\n              required=\"true\"/>\n</View>\n<Header value=\"Rate the response:\"/>\n<Rating name=\"rating\" toName=\"prompt\"/>\n</View>\n```\n\n1. 要在 Label Studio 中创建项目，请点击“创建”按钮。\n2. 在“项目名称”字段中输入您的项目名称，例如 `My Project`。\n3. 导航至 `Labeling Setup > Custom Template` 并粘贴上面提供的 XML 配置。"
      ]
    },
    {
      "cell_type": "markdown",
      "metadata": {
        "pycharm": {
          "name": "#%% md\n"
        }
      },
      "source": [
        "您可以通过 `LabelStudioCallbackHandler` 将 LLM 提示和输出响应收集到 LabelStudio 项目中："
      ]
    },
    {
      "cell_type": "code",
      "execution_count": 1,
      "metadata": {
        "execution": {
          "iopub.execute_input": "2024-03-06T19:07:34.462103Z",
          "iopub.status.busy": "2024-03-06T19:07:34.461651Z",
          "iopub.status.idle": "2024-03-06T19:07:34.661936Z",
          "shell.execute_reply": "2024-03-06T19:07:34.661284Z",
          "shell.execute_reply.started": "2024-03-06T19:07:34.462067Z"
        }
      },
      "outputs": [],
      "source": [
        "from langchain_community.callbacks.labelstudio_callback import (\n",
        "    LabelStudioCallbackHandler,\n",
        ")"
      ]
    },
    {
      "cell_type": "code",
      "execution_count": null,
      "metadata": {
        "pycharm": {
          "name": "#%%\n"
        }
      },
      "outputs": [],
      "source": [
        "from langchain_openai import OpenAI\n",
        "\n",
        "llm = OpenAI(\n",
        "    temperature=0, callbacks=[LabelStudioCallbackHandler(project_name=\"My Project\")]\n",
        ")\n",
        "print(llm.invoke(\"Tell me a joke\"))"
      ]
    },
    {
      "cell_type": "markdown",
      "metadata": {
        "pycharm": {
          "name": "#%% md\n"
        }
      },
      "source": [
        "在 Label Studio 中，打开 `My Project`。您将看到提示、响应以及模型名称等元数据。"
      ]
    },
    {
      "cell_type": "markdown",
      "metadata": {
        "pycharm": {
          "name": "#%% md\n"
        }
      },
      "source": [
        "## 收集聊天模型对话"
      ]
    },
    {
      "cell_type": "markdown",
      "metadata": {},
      "source": [
        "您还可以通过 LabelStudio 跟踪和显示完整的聊天对话，并能够评分和修改最后的响应：\n\n1. 打开 Label Studio 并单击“Create”按钮。\n2. 在“Project Name”字段中输入项目名称，例如 `New Project with Chat`。\n3. 导航到 Labeling Setup > Custom Template 并粘贴以下 XML 配置：\n\n```xml\n<View>\n<View className=\"root\">\n     <Paragraphs name=\"dialogue\"\n               value=\"$prompt\"\n               layout=\"dialogue\"\n               textKey=\"content\"\n               nameKey=\"role\"\n               granularity=\"sentence\"/>\n  <Header value=\"Final response:\"/>\n    <TextArea name=\"response\" toName=\"dialogue\"\n              maxSubmissions=\"1\" editable=\"true\"\n              required=\"true\"/>\n</View>\n<Header value=\"Rate the response:\"/>\n<Rating name=\"rating\" toName=\"dialogue\"/>\n</View>\n```"
      ]
    },
    {
      "cell_type": "code",
      "execution_count": null,
      "metadata": {
        "pycharm": {
          "name": "#%%\n"
        }
      },
      "outputs": [],
      "source": [
        "from langchain_core.messages import HumanMessage, SystemMessage\n",
        "from langchain_openai import ChatOpenAI\n",
        "\n",
        "chat_llm = ChatOpenAI(\n",
        "    callbacks=[\n",
        "        LabelStudioCallbackHandler(\n",
        "            mode=\"chat\",\n",
        "            project_name=\"New Project with Chat\",\n",
        "        )\n",
        "    ]\n",
        ")\n",
        "llm_results = chat_llm.invoke(\n",
        "    [\n",
        "        SystemMessage(content=\"Always use a lot of emojis\"),\n",
        "        HumanMessage(content=\"Tell me a joke\"),\n",
        "    ]\n",
        ")"
      ]
    },
    {
      "cell_type": "markdown",
      "metadata": {},
      "source": [
        "在 Label Studio 中，打开“New Project with Chat”。单击已创建的任务以查看对话历史记录并编辑/注释响应。"
      ]
    },
    {
      "cell_type": "markdown",
      "metadata": {
        "pycharm": {
          "name": "#%% md\n"
        }
      },
      "source": [
        "## 自定义标签配置\n\nHere's a guide on how to configure custom labeling for"
      ]
    },
    {
      "cell_type": "markdown",
      "metadata": {
        "pycharm": {
          "name": "#%% md\n"
        }
      },
      "source": [
        "您可以在 LabelStudio 中修改默认的标注配置，以添加更多的目标标签，例如响应情感、相关性以及[其他类型的标注者反馈](https://labelstud.io/tags/)。\n\n可以通过用户界面添加新的标注配置：转到 `Settings > Labeling Interface`，然后设置自定义配置，并添加额外的标签，例如用于情感的 `Choices` 或用于相关性的 `Rating`。请记住，任何配置中都必须包含 [`TextArea` 标签](https://labelstud.io/tags/textarea)，以便显示 LLM 的响应。\n\n或者，您可以在项目创建之前的初始调用中指定标注配置："
      ]
    },
    {
      "cell_type": "code",
      "execution_count": null,
      "metadata": {
        "pycharm": {
          "name": "#%%\n"
        }
      },
      "outputs": [],
      "source": [
        "ls = LabelStudioCallbackHandler(\n",
        "    project_config=\"\"\"\n",
        "<View>\n",
        "<Text name=\"prompt\" value=\"$prompt\"/>\n",
        "<TextArea name=\"response\" toName=\"prompt\"/>\n",
        "<TextArea name=\"user_feedback\" toName=\"prompt\"/>\n",
        "<Rating name=\"rating\" toName=\"prompt\"/>\n",
        "<Choices name=\"sentiment\" toName=\"prompt\">\n",
        "    <Choice value=\"Positive\"/>\n",
        "    <Choice value=\"Negative\"/>\n",
        "</Choices>\n",
        "</View>\n",
        "\"\"\"\n",
        ")"
      ]
    },
    {
      "cell_type": "markdown",
      "metadata": {},
      "source": [
        "请注意，如果项目不存在，它将根据指定的标签配置被创建。"
      ]
    },
    {
      "cell_type": "markdown",
      "metadata": {
        "pycharm": {
          "name": "#%% md\n"
        }
      },
      "source": [
        "## 其他参数"
      ]
    },
    {
      "cell_type": "markdown",
      "metadata": {
        "pycharm": {
          "name": "#%% md\n"
        }
      },
      "source": [
        "`LabelStudioCallbackHandler` 接受多个可选参数：\n\n- **api_key** - Label Studio API 密钥。覆盖环境变量 `LABEL_STUDIO_API_KEY`。\n- **url** - Label Studio URL。覆盖环境变量 `LABEL_STUDIO_URL`，默认值为 `http://localhost:8080`。\n- **project_id** - 现有的 Label Studio 项目 ID。覆盖环境变量 `LABEL_STUDIO_PROJECT_ID`。数据将存储在此项目中。\n- **project_name** - 如果未指定项目 ID，则使用此项目名称。将创建一个新项目。默认值为使用当前日期格式化后的 `\"LangChain-%Y-%m-%d\"`。\n- **project_config** - [自定义标注配置](#custom-labeling-configuration)\n- **mode**: 使用此快捷方式可以从头开始创建目标配置：\n   - `\"prompt\"` - 单个提示，单个响应。为默认值。\n   - `\"chat\"` - 多轮对话模式。"
      ]
    }
  ],
  "metadata": {
    "kernelspec": {
      "display_name": "Python 3 (ipykernel)",
      "language": "python",
      "name": "python3"
    },
    "language_info": {
      "codemirror_mode": {
        "name": "ipython",
        "version": 3
      },
      "file_extension": ".py",
      "mimetype": "text/x-python",
      "name": "python",
      "nbconvert_exporter": "python",
      "pygments_lexer": "ipython3",
      "version": "3.10.12"
    }
  },
  "nbformat": 4,
  "nbformat_minor": 4
}