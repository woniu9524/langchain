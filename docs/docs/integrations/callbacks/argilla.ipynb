{
  "cells": [
    {
      "attachments": {},
      "cell_type": "markdown",
      "metadata": {},
      "source": [
        "# Argilla\n\n>[Argilla](https://argilla.io/) 是一个用于 LLM 的开源数据策展平台。\n> 使用 Argilla，每个人都可以通过结合人工和机器反馈，更快地进行数据策展，从而构建强大的语言模型。我们支持 MLOps 周期中的每一个步骤，\n> 从数据标注到模型监控。\n\n<a target=\"_blank\" href=\"https://colab.research.google.com/github/langchain-ai/langchain/blob/master/docs/docs/integrations/callbacks/argilla.ipynb\">\n  <img src=\"https://colab.research.google.com/assets/colab-badge.svg\" alt=\"Open In Colab\"/>\n</a>"
      ]
    },
    {
      "attachments": {},
      "cell_type": "markdown",
      "metadata": {},
      "source": [
        "在本指南中，我们将演示如何使用 `ArgillaCallbackHandler` 来跟踪您的 LLM 的输入和响应，以便在 Argilla 中生成数据集。\n\n跟踪 LLM 的输入和输出来为将来的微调生成数据集非常有用。当您使用 LLM 为特定任务（如问答、摘要或翻译）生成数据时，这一点尤其有用。"
      ]
    },
    {
      "attachments": {},
      "cell_type": "markdown",
      "metadata": {
        "tags": []
      },
      "source": [
        "## 安装和设置"
      ]
    },
    {
      "cell_type": "code",
      "execution_count": null,
      "metadata": {},
      "outputs": [],
      "source": [
        "%pip install --upgrade --quiet  langchain langchain-openai argilla"
      ]
    },
    {
      "attachments": {},
      "cell_type": "markdown",
      "metadata": {},
      "source": [
        "### 获取 API 凭证\n\n要获取 Argilla API 凭证，请按以下步骤操作：\n\n1. 转到您的 Argilla UI。\n2. 点击您的个人资料图片并转到“我的设置” (My settings)。\n3. 然后复制 API 密钥 (API Key)。\n\n在 Argilla 中，API URL 将与您的 Argilla UI 的 URL 相同。\n\n要获取 OpenAI API 凭证，请访问 https://platform.openai.com/account/api-keys"
      ]
    },
    {
      "cell_type": "code",
      "execution_count": 11,
      "metadata": {},
      "outputs": [],
      "source": [
        "import os\n",
        "\n",
        "os.environ[\"ARGILLA_API_URL\"] = \"...\"\n",
        "os.environ[\"ARGILLA_API_KEY\"] = \"...\"\n",
        "\n",
        "os.environ[\"OPENAI_API_KEY\"] = \"...\""
      ]
    },
    {
      "attachments": {},
      "cell_type": "markdown",
      "metadata": {},
      "source": [
        "### 设置 Argilla\n\n要使用 `ArgillaCallbackHandler`，我们需要在 Argilla 中创建一个新的 `FeedbackDataset` 来跟踪您的 LLM 实验。为此，请使用以下代码："
      ]
    },
    {
      "cell_type": "code",
      "execution_count": 3,
      "metadata": {},
      "outputs": [],
      "source": [
        "import argilla as rg"
      ]
    },
    {
      "cell_type": "code",
      "execution_count": 4,
      "metadata": {},
      "outputs": [],
      "source": [
        "from packaging.version import parse as parse_version\n",
        "\n",
        "if parse_version(rg.__version__) < parse_version(\"1.8.0\"):\n",
        "    raise RuntimeError(\n",
        "        \"`FeedbackDataset` is only available in Argilla v1.8.0 or higher, please \"\n",
        "        \"upgrade `argilla` as `pip install argilla --upgrade`.\"\n",
        "    )"
      ]
    },
    {
      "cell_type": "code",
      "execution_count": null,
      "metadata": {},
      "outputs": [],
      "source": [
        "dataset = rg.FeedbackDataset(\n",
        "    fields=[\n",
        "        rg.TextField(name=\"prompt\"),\n",
        "        rg.TextField(name=\"response\"),\n",
        "    ],\n",
        "    questions=[\n",
        "        rg.RatingQuestion(\n",
        "            name=\"response-rating\",\n",
        "            description=\"How would you rate the quality of the response?\",\n",
        "            values=[1, 2, 3, 4, 5],\n",
        "            required=True,\n",
        "        ),\n",
        "        rg.TextQuestion(\n",
        "            name=\"response-feedback\",\n",
        "            description=\"What feedback do you have for the response?\",\n",
        "            required=False,\n",
        "        ),\n",
        "    ],\n",
        "    guidelines=\"You're asked to rate the quality of the response and provide feedback.\",\n",
        ")\n",
        "\n",
        "rg.init(\n",
        "    api_url=os.environ[\"ARGILLA_API_URL\"],\n",
        "    api_key=os.environ[\"ARGILLA_API_KEY\"],\n",
        ")\n",
        "\n",
        "dataset.push_to_argilla(\"langchain-dataset\")"
      ]
    },
    {
      "attachments": {},
      "cell_type": "markdown",
      "metadata": {},
      "source": [
        "> 📌 注意：目前，只有 prompt-response 配对被支持为 `FeedbackDataset.fields`，所以 `ArgillaCallbackHandler` 只会跟踪 prompt（即 LLM 输入）和 response（即 LLM 输出）。"
      ]
    },
    {
      "attachments": {},
      "cell_type": "markdown",
      "metadata": {},
      "source": [
        "## 追踪"
      ]
    },
    {
      "attachments": {},
      "cell_type": "markdown",
      "metadata": {},
      "source": [
        "您可以使用以下代码来使用 `ArgillaCallbackHandler`，或者直接使用后面章节中的任一示例。"
      ]
    },
    {
      "cell_type": "code",
      "execution_count": null,
      "metadata": {},
      "outputs": [],
      "source": [
        "from langchain_community.callbacks.argilla_callback import ArgillaCallbackHandler\n",
        "\n",
        "argilla_callback = ArgillaCallbackHandler(\n",
        "    dataset_name=\"langchain-dataset\",\n",
        "    api_url=os.environ[\"ARGILLA_API_URL\"],\n",
        "    api_key=os.environ[\"ARGILLA_API_KEY\"],\n",
        ")"
      ]
    },
    {
      "attachments": {},
      "cell_type": "markdown",
      "metadata": {},
      "source": [
        "### 场景 1：跟踪一个 LLM\n\n首先，我们只运行一个 LLM 几次，并将生成的提示-响应对捕获到 Argilla 中。"
      ]
    },
    {
      "cell_type": "code",
      "execution_count": 7,
      "metadata": {},
      "outputs": [
        {
          "data": {
            "text/plain": [
              "LLMResult(generations=[[Generation(text='\\n\\nQ: What did the fish say when he hit the wall? \\nA: Dam.', generation_info={'finish_reason': 'stop', 'logprobs': None})], [Generation(text='\\n\\nThe Moon \\n\\nThe moon is high in the midnight sky,\\nSparkling like a star above.\\nThe night so peaceful, so serene,\\nFilling up the air with love.\\n\\nEver changing and renewing,\\nA never-ending light of grace.\\nThe moon remains a constant view,\\nA reminder of life’s gentle pace.\\n\\nThrough time and space it guides us on,\\nA never-fading beacon of hope.\\nThe moon shines down on us all,\\nAs it continues to rise and elope.', generation_info={'finish_reason': 'stop', 'logprobs': None})], [Generation(text='\\n\\nQ. What did one magnet say to the other magnet?\\nA. \"I find you very attractive!\"', generation_info={'finish_reason': 'stop', 'logprobs': None})], [Generation(text=\"\\n\\nThe world is charged with the grandeur of God.\\nIt will flame out, like shining from shook foil;\\nIt gathers to a greatness, like the ooze of oil\\nCrushed. Why do men then now not reck his rod?\\n\\nGenerations have trod, have trod, have trod;\\nAnd all is seared with trade; bleared, smeared with toil;\\nAnd wears man's smudge and shares man's smell: the soil\\nIs bare now, nor can foot feel, being shod.\\n\\nAnd for all this, nature is never spent;\\nThere lives the dearest freshness deep down things;\\nAnd though the last lights off the black West went\\nOh, morning, at the brown brink eastward, springs —\\n\\nBecause the Holy Ghost over the bent\\nWorld broods with warm breast and with ah! bright wings.\\n\\n~Gerard Manley Hopkins\", generation_info={'finish_reason': 'stop', 'logprobs': None})], [Generation(text='\\n\\nQ: What did one ocean say to the other ocean?\\nA: Nothing, they just waved.', generation_info={'finish_reason': 'stop', 'logprobs': None})], [Generation(text=\"\\n\\nA poem for you\\n\\nOn a field of green\\n\\nThe sky so blue\\n\\nA gentle breeze, the sun above\\n\\nA beautiful world, for us to love\\n\\nLife is a journey, full of surprise\\n\\nFull of joy and full of surprise\\n\\nBe brave and take small steps\\n\\nThe future will be revealed with depth\\n\\nIn the morning, when dawn arrives\\n\\nA fresh start, no reason to hide\\n\\nSomewhere down the road, there's a heart that beats\\n\\nBelieve in yourself, you'll always succeed.\", generation_info={'finish_reason': 'stop', 'logprobs': None})]], llm_output={'token_usage': {'completion_tokens': 504, 'total_tokens': 528, 'prompt_tokens': 24}, 'model_name': 'text-davinci-003'})"
            ]
          },
          "execution_count": 7,
          "metadata": {},
          "output_type": "execute_result"
        }
      ],
      "source": [
        "from langchain_core.callbacks.stdout import StdOutCallbackHandler\n",
        "from langchain_openai import OpenAI\n",
        "\n",
        "argilla_callback = ArgillaCallbackHandler(\n",
        "    dataset_name=\"langchain-dataset\",\n",
        "    api_url=os.environ[\"ARGILLA_API_URL\"],\n",
        "    api_key=os.environ[\"ARGILLA_API_KEY\"],\n",
        ")\n",
        "callbacks = [StdOutCallbackHandler(), argilla_callback]\n",
        "\n",
        "llm = OpenAI(temperature=0.9, callbacks=callbacks)\n",
        "llm.generate([\"Tell me a joke\", \"Tell me a poem\"] * 3)"
      ]
    },
    {
      "attachments": {},
      "cell_type": "markdown",
      "metadata": {},
      "source": [
        "![Argilla UI with LangChain LLM input-response](https://docs.argilla.io/en/latest/_images/llm.png)"
      ]
    },
    {
      "attachments": {},
      "cell_type": "markdown",
      "metadata": {},
      "source": [
        "### 场景 2：跟踪链式 LLM\n\n然后，我们可以使用提示模板创建一个链，并在 Argilla 中跟踪初始提示和最终响应。"
      ]
    },
    {
      "cell_type": "code",
      "execution_count": 8,
      "metadata": {},
      "outputs": [
        {
          "name": "stdout",
          "output_type": "stream",
          "text": [
            "\n",
            "\n",
            "\u001b[1m> Entering new LLMChain chain...\u001b[0m\n",
            "Prompt after formatting:\n",
            "\u001b[32;1m\u001b[1;3mYou are a playwright. Given the title of play, it is your job to write a synopsis for that title.\n",
            "Title: Documentary about Bigfoot in Paris\n",
            "Playwright: This is a synopsis for the above play:\u001b[0m\n",
            "\n",
            "\u001b[1m> Finished chain.\u001b[0m\n"
          ]
        },
        {
          "data": {
            "text/plain": [
              "[{'text': \"\\n\\nDocumentary about Bigfoot in Paris focuses on the story of a documentary filmmaker and their search for evidence of the legendary Bigfoot creature in the city of Paris. The play follows the filmmaker as they explore the city, meeting people from all walks of life who have had encounters with the mysterious creature. Through their conversations, the filmmaker unravels the story of Bigfoot and finds out the truth about the creature's presence in Paris. As the story progresses, the filmmaker learns more and more about the mysterious creature, as well as the different perspectives of the people living in the city, and what they think of the creature. In the end, the filmmaker's findings lead them to some surprising and heartwarming conclusions about the creature's existence and the importance it holds in the lives of the people in Paris.\"}]"
            ]
          },
          "execution_count": 8,
          "metadata": {},
          "output_type": "execute_result"
        }
      ],
      "source": [
        "from langchain.chains import LLMChain\n",
        "from langchain_core.callbacks.stdout import StdOutCallbackHandler\n",
        "from langchain_core.prompts import PromptTemplate\n",
        "from langchain_openai import OpenAI\n",
        "\n",
        "argilla_callback = ArgillaCallbackHandler(\n",
        "    dataset_name=\"langchain-dataset\",\n",
        "    api_url=os.environ[\"ARGILLA_API_URL\"],\n",
        "    api_key=os.environ[\"ARGILLA_API_KEY\"],\n",
        ")\n",
        "callbacks = [StdOutCallbackHandler(), argilla_callback]\n",
        "llm = OpenAI(temperature=0.9, callbacks=callbacks)\n",
        "\n",
        "template = \"\"\"You are a playwright. Given the title of play, it is your job to write a synopsis for that title.\n",
        "Title: {title}\n",
        "Playwright: This is a synopsis for the above play:\"\"\"\n",
        "prompt_template = PromptTemplate(input_variables=[\"title\"], template=template)\n",
        "synopsis_chain = LLMChain(llm=llm, prompt=prompt_template, callbacks=callbacks)\n",
        "\n",
        "test_prompts = [{\"title\": \"Documentary about Bigfoot in Paris\"}]\n",
        "synopsis_chain.apply(test_prompts)"
      ]
    },
    {
      "attachments": {},
      "cell_type": "markdown",
      "metadata": {},
      "source": [
        "![Argilla UI with LangChain Chain input-response](https://docs.argilla.io/en/latest/_images/chain.png)"
      ]
    },
    {
      "attachments": {},
      "cell_type": "markdown",
      "metadata": {},
      "source": [
        "### 场景 3：使用带有工具的 Agent\n\n最后，作为一种更高级的工作流，您可以创建一个使用一些工具的 Agent。这样 `ArgillaCallbackHandler` 将跟踪输入和输出，但不会跟踪中间步骤/思考过程，因此对于给定的提示，我们记录原始提示和对该给定提示的最终响应。"
      ]
    },
    {
      "attachments": {},
      "cell_type": "markdown",
      "metadata": {},
      "source": [
        "> 请注意，在此场景中我们将使用 Google Search API (Serp API)，因此您需要执行以下操作：\n>\n> 1.  使用 `pip install google-search-results` 安装 `google-search-results`。\n> 2.  将 Serp API 密钥设置为 `os.environ[\"SERPAPI_API_KEY\"] = \"...\"`（您可以在 https://serpapi.com/dashboard 找到它）。\n>\n> 否则，以下示例将无法工作。"
      ]
    },
    {
      "cell_type": "code",
      "execution_count": 10,
      "metadata": {},
      "outputs": [
        {
          "name": "stdout",
          "output_type": "stream",
          "text": [
            "\n",
            "\n",
            "\u001b[1m> Entering new AgentExecutor chain...\u001b[0m\n",
            "\u001b[32;1m\u001b[1;3m I need to answer a historical question\n",
            "Action: Search\n",
            "Action Input: \"who was the first president of the United States of America\" \u001b[0m\n",
            "Observation: \u001b[36;1m\u001b[1;3mGeorge Washington\u001b[0m\n",
            "Thought:\u001b[32;1m\u001b[1;3m George Washington was the first president\n",
            "Final Answer: George Washington was the first president of the United States of America.\u001b[0m\n",
            "\n",
            "\u001b[1m> Finished chain.\u001b[0m\n"
          ]
        },
        {
          "data": {
            "text/plain": [
              "'George Washington was the first president of the United States of America.'"
            ]
          },
          "execution_count": 10,
          "metadata": {},
          "output_type": "execute_result"
        }
      ],
      "source": [
        "from langchain.agents import AgentType, initialize_agent, load_tools\n",
        "from langchain_core.callbacks.stdout import StdOutCallbackHandler\n",
        "from langchain_openai import OpenAI\n",
        "\n",
        "argilla_callback = ArgillaCallbackHandler(\n",
        "    dataset_name=\"langchain-dataset\",\n",
        "    api_url=os.environ[\"ARGILLA_API_URL\"],\n",
        "    api_key=os.environ[\"ARGILLA_API_KEY\"],\n",
        ")\n",
        "callbacks = [StdOutCallbackHandler(), argilla_callback]\n",
        "llm = OpenAI(temperature=0.9, callbacks=callbacks)\n",
        "\n",
        "tools = load_tools([\"serpapi\"], llm=llm, callbacks=callbacks)\n",
        "agent = initialize_agent(\n",
        "    tools,\n",
        "    llm,\n",
        "    agent=AgentType.ZERO_SHOT_REACT_DESCRIPTION,\n",
        "    callbacks=callbacks,\n",
        ")\n",
        "agent.run(\"Who was the first president of the United States of America?\")"
      ]
    },
    {
      "attachments": {},
      "cell_type": "markdown",
      "metadata": {},
      "source": [
        "![Argilla UI with LangChain Agent input-response](https://docs.argilla.io/en/latest/_images/agent.png)"
      ]
    }
  ],
  "metadata": {
    "kernelspec": {
      "display_name": "Python 3 (ipykernel)",
      "language": "python",
      "name": "python3"
    },
    "language_info": {
      "codemirror_mode": {
        "name": "ipython",
        "version": 3
      },
      "file_extension": ".py",
      "mimetype": "text/x-python",
      "name": "python",
      "nbconvert_exporter": "python",
      "pygments_lexer": "ipython3",
      "version": "3.10.12"
    },
    "vscode": {
      "interpreter": {
        "hash": "a53ebf4a859167383b364e7e7521d0add3c2dbbdecce4edf676e8c4634ff3fbb"
      }
    }
  },
  "nbformat": 4,
  "nbformat_minor": 4
}