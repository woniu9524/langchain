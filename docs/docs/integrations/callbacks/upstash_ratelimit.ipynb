{
  "cells": [
    {
      "cell_type": "markdown",
      "metadata": {},
      "source": [
        "# Upstash Ratelimit 回调\n\n在本指南中，我们将介绍如何使用 `UpstashRatelimitHandler` 基于请求数量或 token 数量添加速率限制。此处理器使用了 [Upstash 的 ratelimit 库](https://github.com/upstash/ratelimit-py/)，该库利用了 [Upstash Redis](https://upstash.com/docs/redis/overall/getstarted)。\n\nUpstash Ratelimit 的工作原理是在每次调用 `limit` 方法时向 Upstash Redis 发送一个 HTTP 请求。检查并更新用户的剩余 token/请求数。根据剩余的 token 数，我们可以停止执行昂贵的操作，例如调用 LLM 或查询向量存储：\n\n```py\nresponse = ratelimit.limit()\nif response.allowed:\n    execute_costly_operation()\n```\n\n`UpstashRatelimitHandler` 允许您在几分钟内将速率限制逻辑集成到您的链中。\n\n首先，您需要访问 [Upstash 控制台](https://console.upstash.com/login) 并创建一个 Redis 数据库（[请参阅我们的文档](https://upstash.com/docs/redis/overall/getstarted)）。创建数据库后，您需要设置环境变量：\n\n```\nUPSTASH_REDIS_REST_URL=\"****\"\nUPSTASH_REDIS_REST_TOKEN=\"****\"\n```\n\n接下来，您需要通过以下方式安装 Upstash Ratelimit 和 Redis 库：\n\n```\npip install upstash-ratelimit upstash-redis\n```\n\n现在您可以开始为您的链添加速率限制了！\n\n## 按请求进行速率限制\n\n假设我们希望允许用户每分钟调用我们的链 10 次。实现这一点很简单："
      ]
    },
    {
      "cell_type": "code",
      "execution_count": 21,
      "metadata": {},
      "outputs": [
        {
          "name": "stderr",
          "output_type": "stream",
          "text": [
            "Error in UpstashRatelimitHandler.on_chain_start callback: UpstashRatelimitError('Request limit reached!')\n"
          ]
        },
        {
          "name": "stdout",
          "output_type": "stream",
          "text": [
            "Handling ratelimit. <class 'langchain_community.callbacks.upstash_ratelimit_callback.UpstashRatelimitError'>\n"
          ]
        }
      ],
      "source": [
        "# set env variables\n",
        "import os\n",
        "\n",
        "os.environ[\"UPSTASH_REDIS_REST_URL\"] = \"****\"\n",
        "os.environ[\"UPSTASH_REDIS_REST_TOKEN\"] = \"****\"\n",
        "\n",
        "from langchain_community.callbacks import UpstashRatelimitError, UpstashRatelimitHandler\n",
        "from langchain_core.runnables import RunnableLambda\n",
        "from upstash_ratelimit import FixedWindow, Ratelimit\n",
        "from upstash_redis import Redis\n",
        "\n",
        "# create ratelimit\n",
        "ratelimit = Ratelimit(\n",
        "    redis=Redis.from_env(),\n",
        "    # 10 requests per window, where window size is 60 seconds:\n",
        "    limiter=FixedWindow(max_requests=10, window=60),\n",
        ")\n",
        "\n",
        "# create handler\n",
        "user_id = \"user_id\"  # should be a method which gets the user id\n",
        "handler = UpstashRatelimitHandler(identifier=user_id, request_ratelimit=ratelimit)\n",
        "\n",
        "# create mock chain\n",
        "chain = RunnableLambda(str)\n",
        "\n",
        "# invoke chain with handler:\n",
        "try:\n",
        "    result = chain.invoke(\"Hello world!\", config={\"callbacks\": [handler]})\n",
        "except UpstashRatelimitError:\n",
        "    print(\"Handling ratelimit.\", UpstashRatelimitError)"
      ]
    },
    {
      "cell_type": "markdown",
      "metadata": {},
      "source": [
        "请注意，我们将 handler 传递给了 `invoke` 方法，而不是在定义 chain 时传递。\n\n对于 `FixedWindow` 以外的限流算法，请参阅 [upstash-ratelimit 文档](https://github.com/upstash/ratelimit-py?tab=readme-ov-file#ratelimiting-algorithms)。\n\n在执行我们 pipeline 中的任何步骤之前，ratelimit 会检查用户是否已达到请求限制。如果达到，将引发 `UpstashRatelimitError`。\n\n## 按 Token 限流\n\n另一个选项是基于以下内容对 chain 调用进行限流：\n1. prompt 中的 token 数量\n2. prompt 和 LLM completions 中的 token 数量\n\n这仅在您的 chain 中包含 LLM 时才有效。另一个要求是您使用的 LLM 应在其 `LLMOutput` 中返回 token 使用情况。\n\n### 工作原理\n\n在调用 LLM 之前，handler 将获取剩余的 token 数。如果剩余 token 数大于 0，则会调用 LLM。否则将引发 `UpstashRatelimitError`。\n\n调用 LLM 后，token 使用信息将用于从用户的剩余 token 中减去。在此 chain 阶段不会引发错误。\n\n### 配置\n\n对于第一种配置，只需像这样初始化 handler："
      ]
    },
    {
      "cell_type": "code",
      "execution_count": null,
      "metadata": {},
      "outputs": [],
      "source": [
        "ratelimit = Ratelimit(\n",
        "    redis=Redis.from_env(),\n",
        "    # 1000 tokens per window, where window size is 60 seconds:\n",
        "    limiter=FixedWindow(max_requests=1000, window=60),\n",
        ")\n",
        "\n",
        "handler = UpstashRatelimitHandler(identifier=user_id, token_ratelimit=ratelimit)"
      ]
    },
    {
      "cell_type": "markdown",
      "metadata": {},
      "source": [
        "对于第二个配置，初始化 handler 的方式如下："
      ]
    },
    {
      "cell_type": "code",
      "execution_count": null,
      "metadata": {},
      "outputs": [],
      "source": [
        "ratelimit = Ratelimit(\n",
        "    redis=Redis.from_env(),\n",
        "    # 1000 tokens per window, where window size is 60 seconds:\n",
        "    limiter=FixedWindow(max_requests=1000, window=60),\n",
        ")\n",
        "\n",
        "handler = UpstashRatelimitHandler(\n",
        "    identifier=user_id,\n",
        "    token_ratelimit=ratelimit,\n",
        "    include_output_tokens=True,  # set to True\n",
        ")"
      ]
    },
    {
      "cell_type": "markdown",
      "metadata": {},
      "source": [
        "你也可以通过同时传递 `request_ratelimit` 和 `token_ratelimit` 参数，来基于请求和 token 来实施速率限制。\n\n这是一个使用 LLM 的链的示例："
      ]
    },
    {
      "cell_type": "code",
      "execution_count": 22,
      "metadata": {},
      "outputs": [
        {
          "name": "stderr",
          "output_type": "stream",
          "text": [
            "Error in UpstashRatelimitHandler.on_llm_start callback: UpstashRatelimitError('Token limit reached!')\n"
          ]
        },
        {
          "name": "stdout",
          "output_type": "stream",
          "text": [
            "Handling ratelimit. <class 'langchain_community.callbacks.upstash_ratelimit_callback.UpstashRatelimitError'>\n"
          ]
        }
      ],
      "source": [
        "# set env variables\n",
        "import os\n",
        "\n",
        "os.environ[\"UPSTASH_REDIS_REST_URL\"] = \"****\"\n",
        "os.environ[\"UPSTASH_REDIS_REST_TOKEN\"] = \"****\"\n",
        "os.environ[\"OPENAI_API_KEY\"] = \"****\"\n",
        "\n",
        "from langchain_community.callbacks import UpstashRatelimitError, UpstashRatelimitHandler\n",
        "from langchain_core.runnables import RunnableLambda\n",
        "from langchain_openai import ChatOpenAI\n",
        "from upstash_ratelimit import FixedWindow, Ratelimit\n",
        "from upstash_redis import Redis\n",
        "\n",
        "# create ratelimit\n",
        "ratelimit = Ratelimit(\n",
        "    redis=Redis.from_env(),\n",
        "    # 500 tokens per window, where window size is 60 seconds:\n",
        "    limiter=FixedWindow(max_requests=500, window=60),\n",
        ")\n",
        "\n",
        "# create handler\n",
        "user_id = \"user_id\"  # should be a method which gets the user id\n",
        "handler = UpstashRatelimitHandler(identifier=user_id, token_ratelimit=ratelimit)\n",
        "\n",
        "# create mock chain\n",
        "as_str = RunnableLambda(str)\n",
        "model = ChatOpenAI()\n",
        "\n",
        "chain = as_str | model\n",
        "\n",
        "# invoke chain with handler:\n",
        "try:\n",
        "    result = chain.invoke(\"Hello world!\", config={\"callbacks\": [handler]})\n",
        "except UpstashRatelimitError:\n",
        "    print(\"Handling ratelimit.\", UpstashRatelimitError)"
      ]
    }
  ],
  "metadata": {
    "kernelspec": {
      "display_name": "lc39",
      "language": "python",
      "name": "python3"
    },
    "language_info": {
      "name": "python",
      "version": "3.9.19"
    }
  },
  "nbformat": 4,
  "nbformat_minor": 2
}