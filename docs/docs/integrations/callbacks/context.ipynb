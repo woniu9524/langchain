{
  "cells": [
    {
      "attachments": {},
      "cell_type": "markdown",
      "metadata": {},
      "source": [
        "# 背景\n\n>[Context](https://context.ai/) 为由 LLM 提供支持的产品和功能提供用户分析。\n\n通过 `Context`，您可以在不到 30 分钟的时间内开始了解您的用户并改善他们的体验。"
      ]
    },
    {
      "attachments": {},
      "cell_type": "markdown",
      "metadata": {},
      "source": [
        "在本指南中，我们将向您展示如何与 Context 集成。"
      ]
    },
    {
      "attachments": {},
      "cell_type": "markdown",
      "metadata": {
        "tags": []
      },
      "source": [
        "## 安装与设置"
      ]
    },
    {
      "cell_type": "code",
      "execution_count": null,
      "metadata": {},
      "outputs": [],
      "source": [
        "%pip install --upgrade --quiet  langchain langchain-openai langchain-community context-python"
      ]
    },
    {
      "attachments": {},
      "cell_type": "markdown",
      "metadata": {},
      "source": [
        "### 获取 API 凭证\n\n要获取您的 Context API 令牌：\n\n1. 前往您的 Context 账户内的设置页面 (https://with.context.ai/settings)。\n2. 生成一个新的 API 令牌。\n3. 将此令牌安全地存储在某个地方。"
      ]
    },
    {
      "attachments": {},
      "cell_type": "markdown",
      "metadata": {},
      "source": [
        "### 设置上下文\n\n要使用 `ContextCallbackHandler`，请从 Langchain 导入该处理器，并使用您的 Context API 令牌对其进行实例化。\n\n在使用该处理器之前，请确保您已安装 `context-python` 包。"
      ]
    },
    {
      "cell_type": "code",
      "execution_count": 1,
      "metadata": {
        "execution": {
          "iopub.execute_input": "2024-03-06T19:05:26.534124Z",
          "iopub.status.busy": "2024-03-06T19:05:26.533924Z",
          "iopub.status.idle": "2024-03-06T19:05:26.798727Z",
          "shell.execute_reply": "2024-03-06T19:05:26.798135Z",
          "shell.execute_reply.started": "2024-03-06T19:05:26.534109Z"
        }
      },
      "outputs": [],
      "source": [
        "from langchain_community.callbacks.context_callback import ContextCallbackHandler"
      ]
    },
    {
      "cell_type": "code",
      "execution_count": 3,
      "metadata": {},
      "outputs": [],
      "source": [
        "import os\n",
        "\n",
        "token = os.environ[\"CONTEXT_API_TOKEN\"]\n",
        "\n",
        "context_callback = ContextCallbackHandler(token)"
      ]
    },
    {
      "attachments": {},
      "cell_type": "markdown",
      "metadata": {},
      "source": [
        "## 用法\n### 在聊天模型中使用上下文回调\n\n可以使用 Context 回调处理器直接记录用户与 AI 助手之间的对话记录。"
      ]
    },
    {
      "cell_type": "code",
      "execution_count": 4,
      "metadata": {},
      "outputs": [],
      "source": [
        "import os\n",
        "\n",
        "from langchain_core.messages import HumanMessage, SystemMessage\n",
        "from langchain_openai import ChatOpenAI\n",
        "\n",
        "token = os.environ[\"CONTEXT_API_TOKEN\"]\n",
        "\n",
        "chat = ChatOpenAI(\n",
        "    headers={\"user_id\": \"123\"}, temperature=0, callbacks=[ContextCallbackHandler(token)]\n",
        ")\n",
        "\n",
        "messages = [\n",
        "    SystemMessage(\n",
        "        content=\"You are a helpful assistant that translates English to French.\"\n",
        "    ),\n",
        "    HumanMessage(content=\"I love programming.\"),\n",
        "]\n",
        "\n",
        "print(chat(messages))"
      ]
    },
    {
      "attachments": {},
      "cell_type": "markdown",
      "metadata": {},
      "source": [
        "### 链内的上下文回调\n\nContextCallbackHandler 也可以用于记录链的输入和输出。请注意，链的中间步骤不会被记录——只记录起始输入和最终输出。\n\n__请注意：__ 请确保将相同的上下文对象传递给聊天模型和链。\n\n错误：\n> ```python\n> chat = ChatOpenAI(temperature=0.9, callbacks=[ContextCallbackHandler(token)])\n> chain = LLMChain(llm=chat, prompt=chat_prompt_template, callbacks=[ContextCallbackHandler(token)])\n> ```\n\n正确：\n>```python\n>handler = ContextCallbackHandler(token)\n>chat = ChatOpenAI(temperature=0.9, callbacks=[callback])\n>chain = LLMChain(llm=chat, prompt=chat_prompt_template, callbacks=[callback])\n>```"
      ]
    },
    {
      "cell_type": "code",
      "execution_count": null,
      "metadata": {},
      "outputs": [],
      "source": [
        "import os\n",
        "\n",
        "from langchain.chains import LLMChain\n",
        "from langchain_core.prompts import PromptTemplate\n",
        "from langchain_core.prompts.chat import (\n",
        "    ChatPromptTemplate,\n",
        "    HumanMessagePromptTemplate,\n",
        ")\n",
        "from langchain_openai import ChatOpenAI\n",
        "\n",
        "token = os.environ[\"CONTEXT_API_TOKEN\"]\n",
        "\n",
        "human_message_prompt = HumanMessagePromptTemplate(\n",
        "    prompt=PromptTemplate(\n",
        "        template=\"What is a good name for a company that makes {product}?\",\n",
        "        input_variables=[\"product\"],\n",
        "    )\n",
        ")\n",
        "chat_prompt_template = ChatPromptTemplate.from_messages([human_message_prompt])\n",
        "callback = ContextCallbackHandler(token)\n",
        "chat = ChatOpenAI(temperature=0.9, callbacks=[callback])\n",
        "chain = LLMChain(llm=chat, prompt=chat_prompt_template, callbacks=[callback])\n",
        "print(chain.run(\"colorful socks\"))"
      ]
    }
  ],
  "metadata": {
    "kernelspec": {
      "display_name": "Python 3 (ipykernel)",
      "language": "python",
      "name": "python3"
    },
    "language_info": {
      "codemirror_mode": {
        "name": "ipython",
        "version": 3
      },
      "file_extension": ".py",
      "mimetype": "text/x-python",
      "name": "python",
      "nbconvert_exporter": "python",
      "pygments_lexer": "ipython3",
      "version": "3.10.12"
    },
    "vscode": {
      "interpreter": {
        "hash": "a53ebf4a859167383b364e7e7521d0add3c2dbbdecce4edf676e8c4634ff3fbb"
      }
    }
  },
  "nbformat": 4,
  "nbformat_minor": 4
}