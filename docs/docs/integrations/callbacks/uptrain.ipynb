{
  "cells": [
    {
      "cell_type": "markdown",
      "metadata": {},
      "source": [
        "<a target=\"_blank\" href=\"https://colab.research.google.com/github/langchain-ai/langchain/blob/master/docs/docs/integrations/callbacks/uptrain.ipynb\">\n  <img src=\"https://colab.research.google.com/assets/colab-badge.svg\" alt=\"在 Colab 中打开\"/>\n</a>"
      ]
    },
    {
      "cell_type": "markdown",
      "metadata": {},
      "source": [
        "# UpTrain\n\n> UpTrain [[github](https://github.com/uptrain-ai/uptrain) || [website](https://uptrain.ai/) || [docs](https://docs.uptrain.ai/getting-started/introduction)] 是一个开源平台，用于评估和改进 LLM 应用。它为 20 多个预配置的检查（涵盖语言、代码、嵌入式用例）提供评分，对失败案例进行根本原因分析，并提供解决它们的指导。"
      ]
    },
    {
      "cell_type": "markdown",
      "metadata": {},
      "source": [
        "## UpTrain 回调处理器\n\n本 Notebook 展示了 UpTrain 回调处理器如何无缝集成到您的 pipeline 中，从而实现多样化的评估。我们选择了一些我们认为适合评估链的评估。这些评估会自动运行，结果会显示在输出中。有关 UpTrain 评估的更多详细信息，请参阅 [此处](https://github.com/uptrain-ai/uptrain?tab=readme-ov-file#pre-built-evaluations-we-offer-)。\n\n为方便演示，重点介绍了 Langchain 中选定的检索器：\n\n### 1. **基础 RAG (Vanilla RAG)**:\nRAG 在检索上下文和生成响应方面发挥着至关重要的作用。为确保其性能和响应质量，我们进行了以下评估：\n\n- **[Context Relevance](https://docs.uptrain.ai/predefined-evaluations/context-awareness/context-relevance)**: 确定从查询中提取的上下文是否与响应相关。\n- **[Factual Accuracy](https://docs.uptrain.ai/predefined-evaluations/context-awareness/factual-accuracy)**: 评估 LLM 是否出现幻觉或提供错误信息。\n- **[Response Completeness](https://docs.uptrain.ai/predefined-evaluations/response-quality/response-completeness)**: 检查响应是否包含查询要求的所有信息。\n\n### 2. **多查询生成 (Multi Query Generation)**:\nMultiQueryRetriever 会创建原始问题具有相似含义的多个问题变体。考虑到其复杂性，我们包含了之前的评估并添加了：\n\n- **[Multi Query Accuracy](https://docs.uptrain.ai/predefined-evaluations/query-quality/multi-query-accuracy)**: 确保生成的多查询与原始查询具有相同的含义。\n\n### 3. **上下文压缩与重排序 (Context Compression and Reranking)**:\n重排序涉及根据与查询的相关性对节点进行重新排序，并选择前 n 个节点。由于完成重排序后节点数量可能会减少，因此我们执行以下评估：\n\n- **[Context Reranking](https://docs.uptrain.ai/predefined-evaluations/context-awareness/context-reranking)**: 检查重排序后的节点顺序是否比原始顺序更与查询相关。\n- **[Context Conciseness](https://docs.uptrain.ai/predefined-evaluations/context-awareness/context-conciseness)**: 检查减少后的节点数量是否仍然提供了所有必需的信息。\n\n这些评估共同确保了 RAG、MultiQueryRetriever 以及链中重排序过程的健壮性和有效性。"
      ]
    },
    {
      "cell_type": "markdown",
      "metadata": {},
      "source": [
        "## 安装依赖项"
      ]
    },
    {
      "cell_type": "code",
      "execution_count": 1,
      "metadata": {},
      "outputs": [
        {
          "name": "stderr",
          "output_type": "stream",
          "text": [
            "huggingface/tokenizers: The current process just got forked, after parallelism has already been used. Disabling parallelism to avoid deadlocks...\n",
            "To disable this warning, you can either:\n",
            "\t- Avoid using `tokenizers` before the fork if possible\n",
            "\t- Explicitly set the environment variable TOKENIZERS_PARALLELISM=(true | false)\n"
          ]
        },
        {
          "name": "stdout",
          "output_type": "stream",
          "text": [
            "\u001b[33mWARNING: There was an error checking the latest version of pip.\u001b[0m\u001b[33m\n",
            "\u001b[0mNote: you may need to restart the kernel to use updated packages.\n"
          ]
        }
      ],
      "source": [
        "%pip install -qU langchain langchain_openai langchain-community uptrain faiss-cpu flashrank"
      ]
    },
    {
      "cell_type": "markdown",
      "metadata": {},
      "source": [
        "注意：你也可以安装 `faiss-gpu` 来代替 `faiss-cpu`，如果你想使用 GPU 加速的版本的话。"
      ]
    },
    {
      "cell_type": "markdown",
      "metadata": {},
      "source": [
        "## 导入库"
      ]
    },
    {
      "cell_type": "code",
      "execution_count": 2,
      "metadata": {},
      "outputs": [],
      "source": [
        "from getpass import getpass\n",
        "\n",
        "from langchain.chains import RetrievalQA\n",
        "from langchain.retrievers import ContextualCompressionRetriever\n",
        "from langchain.retrievers.document_compressors import FlashrankRerank\n",
        "from langchain.retrievers.multi_query import MultiQueryRetriever\n",
        "from langchain_community.callbacks.uptrain_callback import UpTrainCallbackHandler\n",
        "from langchain_community.document_loaders import TextLoader\n",
        "from langchain_community.vectorstores import FAISS\n",
        "from langchain_core.output_parsers.string import StrOutputParser\n",
        "from langchain_core.prompts.chat import ChatPromptTemplate\n",
        "from langchain_core.runnables.passthrough import RunnablePassthrough\n",
        "from langchain_openai import ChatOpenAI, OpenAIEmbeddings\n",
        "from langchain_text_splitters import (\n",
        "    RecursiveCharacterTextSplitter,\n",
        ")"
      ]
    },
    {
      "cell_type": "markdown",
      "metadata": {},
      "source": [
        "## 加载文档"
      ]
    },
    {
      "cell_type": "code",
      "execution_count": 3,
      "metadata": {},
      "outputs": [],
      "source": [
        "loader = TextLoader(\"../../how_to/state_of_the_union.txt\")\n",
        "documents = loader.load()"
      ]
    },
    {
      "cell_type": "markdown",
      "metadata": {},
      "source": [
        "## 将文档拆分成块"
      ]
    },
    {
      "cell_type": "code",
      "execution_count": 4,
      "metadata": {},
      "outputs": [],
      "source": [
        "text_splitter = RecursiveCharacterTextSplitter(chunk_size=1000, chunk_overlap=0)\n",
        "chunks = text_splitter.split_documents(documents)"
      ]
    },
    {
      "cell_type": "markdown",
      "metadata": {},
      "source": [
        "## 创建检索器"
      ]
    },
    {
      "cell_type": "code",
      "execution_count": 5,
      "metadata": {},
      "outputs": [],
      "source": [
        "embeddings = OpenAIEmbeddings()\n",
        "db = FAISS.from_documents(chunks, embeddings)\n",
        "retriever = db.as_retriever()"
      ]
    },
    {
      "cell_type": "markdown",
      "metadata": {},
      "source": [
        "## 定义大语言模型"
      ]
    },
    {
      "cell_type": "code",
      "execution_count": 6,
      "metadata": {},
      "outputs": [],
      "source": [
        "llm = ChatOpenAI(temperature=0, model=\"gpt-4\")"
      ]
    },
    {
      "cell_type": "markdown",
      "metadata": {},
      "source": [
        "## 设置\n\nUpTrain 为您提供：\n1. 具有高级下钻和过滤选项的仪表板\n1. 失败案例中的见解和常见主题\n1. 对生产数据的可观测性和实时监控\n1. 通过与 CI/CD 管道的无缝集成进行回归测试\n\n您可以选择以下选项来评估使用 UpTrain：\n### 1. **UpTrain 的开源软件 (OSS)**：\n您可以使用开源评估服务来评估您的模型。在这种情况下，您需要提供 OpenAI API 密钥。UpTrain 使用 GPT 模型来评估 LLM 生成的响应。您可以在此处获取您的 API 密钥：[https://platform.openai.com/account/api-keys](https://platform.openai.com/account/api-keys)\n\n为了在 UpTrain 仪表板中查看您的评估，您需要通过在终端中运行以下命令来设置它：\n\n```bash\ngit clone https://github.com/uptrain-ai/uptrain\ncd uptrain\nbash run_uptrain.sh\n```\n\n这将启动您本地机器上的 UpTrain 仪表板。您可以通过 `http://localhost:3000/dashboard` 访问它。\n\n参数：\n- key_type=\"openai\"\n- api_key=\"OPENAI_API_KEY\"\n- project_name=\"PROJECT_NAME\"\n\n\n### 2. **UpTrain 托管服务和仪表板**：\n或者，您可以使用 UpTrain 的托管服务来评估您的模型。您可以在此处创建免费的 UpTrain 帐户：[https://uptrain.ai/](https://uptrain.ai/) 并获得免费试用积分。如果您需要更多试用积分，请在此处与 UpTrain 的维护者预约会议：[https://calendly.com/uptrain-sourabh/30min](https://calendly.com/uptrain-sourabh/30min)\n\n使用托管服务的优势包括：\n1. 无需在本地机器上设置 UpTrain 仪表板。\n1. 无需 API 密钥即可访问许多 LLM。\n\n执行评估后，您可以在 UpTrain 仪表板的 `https://dashboard.uptrain.ai/dashboard` 上查看它们。\n\n参数：\n- key_type=\"uptrain\"\n- api_key=\"UPTRAIN_API_KEY\"\n- project_name=\"PROJECT_NAME\"\n\n\n**注意：** `project_name` 将是 UpTrain 仪表板中用于显示所执行评估的项目名称。"
      ]
    },
    {
      "cell_type": "markdown",
      "metadata": {},
      "source": [
        "## 设置 API 密钥\n\n笔记本会提示您输入 API 密钥。您可以通过更改下方单元格中的 `key_type` 参数，在 OpenAI API 密钥或 UpTrain API 密钥之间进行选择。"
      ]
    },
    {
      "cell_type": "code",
      "execution_count": 7,
      "metadata": {},
      "outputs": [],
      "source": [
        "KEY_TYPE = \"openai\"  # or \"uptrain\"\n",
        "API_KEY = getpass()"
      ]
    },
    {
      "cell_type": "markdown",
      "metadata": {},
      "source": [
        "# 1. 原生 RAG"
      ]
    },
    {
      "cell_type": "markdown",
      "metadata": {},
      "source": [
        "UpTrain 回调处理程序将在生成查询、上下文和响应后自动捕获它们，并对响应运行以下三项评估 *(评分从 0 到 1)*：\n\n- **[Context Relevance](https://docs.uptrain.ai/predefined-evaluations/context-awareness/context-relevance)**：检查从查询中提取的上下文是否与响应相关。\n- **[Factual Accuracy](https://docs.uptrain.ai/predefined-evaluations/context-awareness/factual-accuracy)**：检查响应的事实准确性。\n- **[Response Completeness](https://docs.uptrain.ai/predefined-evaluations/response-quality/response-completeness)**：检查响应是否包含查询要求的所有信息。"
      ]
    },
    {
      "cell_type": "code",
      "execution_count": 8,
      "metadata": {},
      "outputs": [
        {
          "name": "stderr",
          "output_type": "stream",
          "text": [
            "\u001b[32m2024-04-17 17:03:44.969\u001b[0m | \u001b[1mINFO    \u001b[0m | \u001b[36muptrain.framework.evalllm\u001b[0m:\u001b[36mevaluate_on_server\u001b[0m:\u001b[36m378\u001b[0m - \u001b[1mSending evaluation request for rows 0 to <50 to the Uptrain\u001b[0m\n",
            "\u001b[32m2024-04-17 17:04:05.809\u001b[0m | \u001b[1mINFO    \u001b[0m | \u001b[36muptrain.framework.evalllm\u001b[0m:\u001b[36mevaluate\u001b[0m:\u001b[36m367\u001b[0m - \u001b[1mLocal server not running, start the server to log data and visualize in the dashboard!\u001b[0m\n"
          ]
        },
        {
          "name": "stdout",
          "output_type": "stream",
          "text": [
            "\n",
            "Question: What did the president say about Ketanji Brown Jackson\n",
            "Response: The president mentioned that he had nominated Ketanji Brown Jackson to serve on the United States Supreme Court 4 days ago. He described her as one of the nation's top legal minds who will continue Justice Breyer’s legacy of excellence. He also mentioned that she is a former top litigator in private practice, a former federal public defender, and comes from a family of public school educators and police officers. He described her as a consensus builder and noted that since her nomination, she has received a broad range of support from various groups, including the Fraternal Order of Police and former judges appointed by both Democrats and Republicans.\n",
            "\n",
            "Context Relevance Score: 1.0\n",
            "Factual Accuracy Score: 1.0\n",
            "Response Completeness Score: 1.0\n"
          ]
        }
      ],
      "source": [
        "# Create the RAG prompt\n",
        "template = \"\"\"Answer the question based only on the following context, which can include text and tables:\n",
        "{context}\n",
        "Question: {question}\n",
        "\"\"\"\n",
        "rag_prompt_text = ChatPromptTemplate.from_template(template)\n",
        "\n",
        "# Create the chain\n",
        "chain = (\n",
        "    {\"context\": retriever, \"question\": RunnablePassthrough()}\n",
        "    | rag_prompt_text\n",
        "    | llm\n",
        "    | StrOutputParser()\n",
        ")\n",
        "\n",
        "# Create the uptrain callback handler\n",
        "uptrain_callback = UpTrainCallbackHandler(key_type=KEY_TYPE, api_key=API_KEY)\n",
        "config = {\"callbacks\": [uptrain_callback]}\n",
        "\n",
        "# Invoke the chain with a query\n",
        "query = \"What did the president say about Ketanji Brown Jackson\"\n",
        "docs = chain.invoke(query, config=config)"
      ]
    },
    {
      "cell_type": "markdown",
      "metadata": {},
      "source": [
        "# 2. 多查询生成\n\n**MultiQueryRetriever** 用于解决 RAG 管道可能无法根据查询返回最佳文档集的问题。它会生成多个与原始查询含义相同的查询，然后为每个查询获取文档。\n\n为了评估此检索器，UpTrain 将运行以下评估：\n- **[多查询准确性](https://docs.uptrain.ai/predefined-evaluations/query-quality/multi-query-accuracy)**：检查生成的多查询是否与原始查询含义相同。"
      ]
    },
    {
      "cell_type": "code",
      "execution_count": 9,
      "metadata": {},
      "outputs": [
        {
          "name": "stderr",
          "output_type": "stream",
          "text": [
            "\u001b[32m2024-04-17 17:04:10.675\u001b[0m | \u001b[1mINFO    \u001b[0m | \u001b[36muptrain.framework.evalllm\u001b[0m:\u001b[36mevaluate_on_server\u001b[0m:\u001b[36m378\u001b[0m - \u001b[1mSending evaluation request for rows 0 to <50 to the Uptrain\u001b[0m\n",
            "\u001b[32m2024-04-17 17:04:16.804\u001b[0m | \u001b[1mINFO    \u001b[0m | \u001b[36muptrain.framework.evalllm\u001b[0m:\u001b[36mevaluate\u001b[0m:\u001b[36m367\u001b[0m - \u001b[1mLocal server not running, start the server to log data and visualize in the dashboard!\u001b[0m\n"
          ]
        },
        {
          "name": "stdout",
          "output_type": "stream",
          "text": [
            "\n",
            "Question: What did the president say about Ketanji Brown Jackson\n",
            "Multi Queries:\n",
            "  - How did the president comment on Ketanji Brown Jackson?\n",
            "  - What were the president's remarks regarding Ketanji Brown Jackson?\n",
            "  - What statements has the president made about Ketanji Brown Jackson?\n",
            "\n",
            "Multi Query Accuracy Score: 0.5\n"
          ]
        },
        {
          "name": "stderr",
          "output_type": "stream",
          "text": [
            "\u001b[32m2024-04-17 17:04:22.027\u001b[0m | \u001b[1mINFO    \u001b[0m | \u001b[36muptrain.framework.evalllm\u001b[0m:\u001b[36mevaluate_on_server\u001b[0m:\u001b[36m378\u001b[0m - \u001b[1mSending evaluation request for rows 0 to <50 to the Uptrain\u001b[0m\n",
            "\u001b[32m2024-04-17 17:04:44.033\u001b[0m | \u001b[1mINFO    \u001b[0m | \u001b[36muptrain.framework.evalllm\u001b[0m:\u001b[36mevaluate\u001b[0m:\u001b[36m367\u001b[0m - \u001b[1mLocal server not running, start the server to log data and visualize in the dashboard!\u001b[0m\n"
          ]
        },
        {
          "name": "stdout",
          "output_type": "stream",
          "text": [
            "\n",
            "Question: What did the president say about Ketanji Brown Jackson\n",
            "Response: The president mentioned that he had nominated Circuit Court of Appeals Judge Ketanji Brown Jackson to serve on the United States Supreme Court 4 days ago. He described her as one of the nation's top legal minds who will continue Justice Breyer’s legacy of excellence. He also mentioned that since her nomination, she has received a broad range of support—from the Fraternal Order of Police to former judges appointed by Democrats and Republicans.\n",
            "\n",
            "Context Relevance Score: 1.0\n",
            "Factual Accuracy Score: 1.0\n",
            "Response Completeness Score: 1.0\n"
          ]
        }
      ],
      "source": [
        "# Create the retriever\n",
        "multi_query_retriever = MultiQueryRetriever.from_llm(retriever=retriever, llm=llm)\n",
        "\n",
        "# Create the uptrain callback\n",
        "uptrain_callback = UpTrainCallbackHandler(key_type=KEY_TYPE, api_key=API_KEY)\n",
        "config = {\"callbacks\": [uptrain_callback]}\n",
        "\n",
        "# Create the RAG prompt\n",
        "template = \"\"\"Answer the question based only on the following context, which can include text and tables:\n",
        "{context}\n",
        "Question: {question}\n",
        "\"\"\"\n",
        "rag_prompt_text = ChatPromptTemplate.from_template(template)\n",
        "\n",
        "chain = (\n",
        "    {\"context\": multi_query_retriever, \"question\": RunnablePassthrough()}\n",
        "    | rag_prompt_text\n",
        "    | llm\n",
        "    | StrOutputParser()\n",
        ")\n",
        "\n",
        "# Invoke the chain with a query\n",
        "question = \"What did the president say about Ketanji Brown Jackson\"\n",
        "docs = chain.invoke(question, config=config)"
      ]
    },
    {
      "cell_type": "markdown",
      "metadata": {},
      "source": [
        "# 3. 上下文压缩与重排\n\n重排过程涉及到根据与查询的相关性对节点进行重新排序，并选择最重要的 n 个节点。由于重排完成后节点数量可能会减少，我们将进行以下评估：\n- **[上下文重排](https://docs.uptrain.ai/predefined-evaluations/context-awareness/context-reranking)**：检查重排后节点的顺序是否比原始顺序更相关于查询。\n- **[上下文简洁性](https://docs.uptrain.ai/predefined-evaluations/context-awareness/context-conciseness)**：检查减少后的节点数量是否仍提供了所有必需的信息。"
      ]
    },
    {
      "cell_type": "code",
      "execution_count": 10,
      "metadata": {},
      "outputs": [
        {
          "name": "stderr",
          "output_type": "stream",
          "text": [
            "\u001b[32m2024-04-17 17:04:46.462\u001b[0m | \u001b[1mINFO    \u001b[0m | \u001b[36muptrain.framework.evalllm\u001b[0m:\u001b[36mevaluate_on_server\u001b[0m:\u001b[36m378\u001b[0m - \u001b[1mSending evaluation request for rows 0 to <50 to the Uptrain\u001b[0m\n",
            "\u001b[32m2024-04-17 17:04:53.561\u001b[0m | \u001b[1mINFO    \u001b[0m | \u001b[36muptrain.framework.evalllm\u001b[0m:\u001b[36mevaluate\u001b[0m:\u001b[36m367\u001b[0m - \u001b[1mLocal server not running, start the server to log data and visualize in the dashboard!\u001b[0m\n"
          ]
        },
        {
          "name": "stdout",
          "output_type": "stream",
          "text": [
            "\n",
            "Question: What did the president say about Ketanji Brown Jackson\n",
            "\n",
            "Context Conciseness Score: 0.0\n",
            "Context Reranking Score: 1.0\n"
          ]
        },
        {
          "name": "stderr",
          "output_type": "stream",
          "text": [
            "\u001b[32m2024-04-17 17:04:56.947\u001b[0m | \u001b[1mINFO    \u001b[0m | \u001b[36muptrain.framework.evalllm\u001b[0m:\u001b[36mevaluate_on_server\u001b[0m:\u001b[36m378\u001b[0m - \u001b[1mSending evaluation request for rows 0 to <50 to the Uptrain\u001b[0m\n",
            "\u001b[32m2024-04-17 17:05:16.551\u001b[0m | \u001b[1mINFO    \u001b[0m | \u001b[36muptrain.framework.evalllm\u001b[0m:\u001b[36mevaluate\u001b[0m:\u001b[36m367\u001b[0m - \u001b[1mLocal server not running, start the server to log data and visualize in the dashboard!\u001b[0m\n"
          ]
        },
        {
          "name": "stdout",
          "output_type": "stream",
          "text": [
            "\n",
            "Question: What did the president say about Ketanji Brown Jackson\n",
            "Response: The President mentioned that he nominated Circuit Court of Appeals Judge Ketanji Brown Jackson to serve on the United States Supreme Court 4 days ago. He described her as one of the nation's top legal minds who will continue Justice Breyer’s legacy of excellence.\n",
            "\n",
            "Context Relevance Score: 1.0\n",
            "Factual Accuracy Score: 1.0\n",
            "Response Completeness Score: 0.5\n"
          ]
        }
      ],
      "source": [
        "# Create the retriever\n",
        "compressor = FlashrankRerank()\n",
        "compression_retriever = ContextualCompressionRetriever(\n",
        "    base_compressor=compressor, base_retriever=retriever\n",
        ")\n",
        "\n",
        "# Create the chain\n",
        "chain = RetrievalQA.from_chain_type(llm=llm, retriever=compression_retriever)\n",
        "\n",
        "# Create the uptrain callback\n",
        "uptrain_callback = UpTrainCallbackHandler(key_type=KEY_TYPE, api_key=API_KEY)\n",
        "config = {\"callbacks\": [uptrain_callback]}\n",
        "\n",
        "# Invoke the chain with a query\n",
        "query = \"What did the president say about Ketanji Brown Jackson\"\n",
        "result = chain.invoke(query, config=config)"
      ]
    },
    {
      "cell_type": "markdown",
      "metadata": {},
      "source": [
        "# UpTrain 的仪表板和洞察\n\n以下是展示仪表板和洞察的短视频：\n\n![langchain_uptrain.gif](https://uptrain-assets.s3.ap-south-1.amazonaws.com/images/langchain/langchain_uptrain.gif)"
      ]
    }
  ],
  "metadata": {
    "kernelspec": {
      "display_name": ".venv",
      "language": "python",
      "name": "python3"
    },
    "language_info": {
      "codemirror_mode": {
        "name": "ipython",
        "version": 3
      },
      "file_extension": ".py",
      "mimetype": "text/x-python",
      "name": "python",
      "nbconvert_exporter": "python",
      "pygments_lexer": "ipython3",
      "version": "3.11.7"
    }
  },
  "nbformat": 4,
  "nbformat_minor": 2
}