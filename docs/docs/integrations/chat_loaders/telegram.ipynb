{
  "cells": [
    {
      "cell_type": "markdown",
      "id": "735455a6-f82e-4252-b545-27385ef883f4",
      "metadata": {},
      "source": [
        "# Telegram\n\n本笔记本展示了如何使用 Telegram 聊天加载器。此类有助于将导出的 Telegram 对话映射到 LangChain 聊天消息。\n\n该过程包含三个步骤：\n1. 通过从 Telegram 应用复制聊天记录，然后将它们粘贴到本地计算机上的文件中来导出聊天 .txt 文件\n2. 创建 `TelegramChatLoader`，并将文件路径指向 JSON 文件或 JSON 文件目录\n3. 调用 `loader.load()`（或 `loader.lazy_load()`）执行转换。可以选择使用 `merge_chat_runs` 来合并来自同一发送者的连续消息，和/或使用 `map_ai_messages` 将来自指定发送者的消息转换为 \"AIMessage\" 类。\n\n## 1. 创建消息转储\n\n目前（2023/08/23），此加载器最支持从 [Telegram Desktop App](https://desktop.telegram.org/) 导出聊天记录所生成的格式的 JSON 文件。\n\n**重要提示：** 存在一些 Telegram 的“精简”版本，例如“Telegram for MacOS”，它们缺少导出功能。请确保您使用正确的应用程序来导出文件。\n\n进行导出：\n1. 下载并打开 Telegram Desktop\n2. 选择一个对话\n3. 导航到对话设置（目前是右上角的三个点）\n4. 点击“导出聊天记录”\n5. 取消选择照片和其他媒体。选择“机器可读的 JSON”格式进行导出。\n\n示例如下："
      ]
    },
    {
      "cell_type": "code",
      "execution_count": 1,
      "id": "285f2044-0f58-4b92-addb-9f8569076734",
      "metadata": {},
      "outputs": [
        {
          "name": "stdout",
          "output_type": "stream",
          "text": [
            "Overwriting telegram_conversation.json\n"
          ]
        }
      ],
      "source": [
        "%%writefile telegram_conversation.json\n",
        "{\n",
        " \"name\": \"Jiminy\",\n",
        " \"type\": \"personal_chat\",\n",
        " \"id\": 5965280513,\n",
        " \"messages\": [\n",
        "  {\n",
        "   \"id\": 1,\n",
        "   \"type\": \"message\",\n",
        "   \"date\": \"2023-08-23T13:11:23\",\n",
        "   \"date_unixtime\": \"1692821483\",\n",
        "   \"from\": \"Jiminy Cricket\",\n",
        "   \"from_id\": \"user123450513\",\n",
        "   \"text\": \"You better trust your conscience\",\n",
        "   \"text_entities\": [\n",
        "    {\n",
        "     \"type\": \"plain\",\n",
        "     \"text\": \"You better trust your conscience\"\n",
        "    }\n",
        "   ]\n",
        "  },\n",
        "  {\n",
        "   \"id\": 2,\n",
        "   \"type\": \"message\",\n",
        "   \"date\": \"2023-08-23T13:13:20\",\n",
        "   \"date_unixtime\": \"1692821600\",\n",
        "   \"from\": \"Batman & Robin\",\n",
        "   \"from_id\": \"user6565661032\",\n",
        "   \"text\": \"What did you just say?\",\n",
        "   \"text_entities\": [\n",
        "    {\n",
        "     \"type\": \"plain\",\n",
        "     \"text\": \"What did you just say?\"\n",
        "    }\n",
        "   ]\n",
        "  }\n",
        " ]\n",
        "}"
      ]
    },
    {
      "cell_type": "markdown",
      "id": "7cc109f4-4c92-4cd3-8143-c322776c3f03",
      "metadata": {},
      "source": [
        "## 2. 创建聊天加载器\n\n所需文件路径即可。您可以选择性地指定映射到 AI 消息的用户名，以及配置是否合并消息运行。"
      ]
    },
    {
      "cell_type": "code",
      "execution_count": 2,
      "id": "111f7767-573c-42d4-86f0-bd766bbaa071",
      "metadata": {},
      "outputs": [],
      "source": [
        "from langchain_community.chat_loaders.telegram import TelegramChatLoader"
      ]
    },
    {
      "cell_type": "code",
      "execution_count": 3,
      "id": "a4226efa-2640-4990-a20c-6861d1887329",
      "metadata": {},
      "outputs": [],
      "source": [
        "loader = TelegramChatLoader(\n",
        "    path=\"./telegram_conversation.json\",\n",
        ")"
      ]
    },
    {
      "cell_type": "markdown",
      "id": "71699fb7-7815-4c89-8d96-30e8fada6923",
      "metadata": {},
      "source": [
        "## 3. 加载消息\n\n`load()` (或 `lazy_load`) 方法会返回一个 \"ChatSessions\" 列表，目前该列表只包含每个已加载对话的消息列表。"
      ]
    },
    {
      "cell_type": "code",
      "execution_count": 4,
      "id": "81121efb-c875-4a77-ad1e-fe26b3d7e812",
      "metadata": {},
      "outputs": [],
      "source": [
        "from typing import List\n",
        "\n",
        "from langchain_community.chat_loaders.utils import (\n",
        "    map_ai_messages,\n",
        "    merge_chat_runs,\n",
        ")\n",
        "from langchain_core.chat_sessions import ChatSession\n",
        "\n",
        "raw_messages = loader.lazy_load()\n",
        "# Merge consecutive messages from the same sender into a single message\n",
        "merged_messages = merge_chat_runs(raw_messages)\n",
        "# Convert messages from \"Jiminy Cricket\" to AI messages\n",
        "messages: List[ChatSession] = list(\n",
        "    map_ai_messages(merged_messages, sender=\"Jiminy Cricket\")\n",
        ")"
      ]
    },
    {
      "cell_type": "markdown",
      "id": "b9089c05-7375-41ca-a2f9-672a845314e4",
      "metadata": {},
      "source": [
        "### 下一步\n\n然后，你可以根据自己的需要使用这些消息，例如微调模型、进行少样本示例选择或直接预测下一条消息。"
      ]
    },
    {
      "cell_type": "code",
      "execution_count": 5,
      "id": "637a6f5d-6944-4722-9361-a76ef5e9dd2a",
      "metadata": {},
      "outputs": [
        {
          "name": "stdout",
          "output_type": "stream",
          "text": [
            "I said, \"You better trust your conscience.\""
          ]
        }
      ],
      "source": [
        "from langchain_openai import ChatOpenAI\n",
        "\n",
        "llm = ChatOpenAI()\n",
        "\n",
        "for chunk in llm.stream(messages[0][\"messages\"]):\n",
        "    print(chunk.content, end=\"\", flush=True)"
      ]
    }
  ],
  "metadata": {
    "kernelspec": {
      "display_name": "Python 3 (ipykernel)",
      "language": "python",
      "name": "python3"
    },
    "language_info": {
      "codemirror_mode": {
        "name": "ipython",
        "version": 3
      },
      "file_extension": ".py",
      "mimetype": "text/x-python",
      "name": "python",
      "nbconvert_exporter": "python",
      "pygments_lexer": "ipython3",
      "version": "3.11.2"
    }
  },
  "nbformat": 4,
  "nbformat_minor": 5
}