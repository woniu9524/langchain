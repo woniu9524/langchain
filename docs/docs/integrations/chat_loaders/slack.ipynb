{
  "cells": [
    {
      "cell_type": "markdown",
      "id": "01fcfa2f-33a9-48f3-835a-b1956c394d6b",
      "metadata": {},
      "source": [
        "# Slack\n\n本笔记本演示了如何使用 Slack chat loader。此类有助于将导出的 Slack 对话映射到 LangChain 聊天消息。\n\n该过程有三个步骤：\n1. 按照[此处说明](https://slack.com/help/articles/1500001548241-Request-to-export-all-conversations)导出所需的对话线程。\n2. 使用指向 json 文件或 json 文件目录的文件路径创建 `SlackChatLoader`。\n3. 调用 `loader.load()`（或 `loader.lazy_load()`）以执行转换。可选择使用 `merge_chat_runs` 来合并来自同一发送者的连续消息，以及/或使用 `map_ai_messages` 将来自指定发送者的消息转换为“AIMessage”类。\n\n## 1. 创建消息转储\n\n当前（2023 年 8 月 23 日），此加载器最好支持从 Slack 导出直接消息对话时生成的格式的文件的 zip 目录。请按照 Slack 的最新说明进行操作。\n\n我们在 LangChain 代码库中有一个示例。"
      ]
    },
    {
      "cell_type": "code",
      "execution_count": 1,
      "id": "a79d35bf-5f21-4063-84bf-a60845c1c51f",
      "metadata": {},
      "outputs": [],
      "source": [
        "import requests\n",
        "\n",
        "permalink = \"https://raw.githubusercontent.com/langchain-ai/langchain/342087bdfa3ac31d622385d0f2d09cf5e06c8db3/libs/langchain/tests/integration_tests/examples/slack_export.zip\"\n",
        "response = requests.get(permalink)\n",
        "with open(\"slack_dump.zip\", \"wb\") as f:\n",
        "    f.write(response.content)"
      ]
    },
    {
      "cell_type": "markdown",
      "id": "cf60f703-76f1-4602-a723-02c59535c1af",
      "metadata": {},
      "source": [
        "## 2. 创建聊天加载器\n\n向加载器提供 zip 目录的文件路径。您可以选择指定映射到 AI 消息的用户 ID，以及配置是否合并消息运行。"
      ]
    },
    {
      "cell_type": "code",
      "execution_count": 2,
      "id": "4b8b432a-d2bc-49e1-b35f-761730a8fd6d",
      "metadata": {},
      "outputs": [],
      "source": [
        "from langchain_community.chat_loaders.slack import SlackChatLoader"
      ]
    },
    {
      "cell_type": "code",
      "execution_count": 3,
      "id": "8ec6661b-0aca-48ae-9e2b-6412856c287b",
      "metadata": {},
      "outputs": [],
      "source": [
        "loader = SlackChatLoader(\n",
        "    path=\"slack_dump.zip\",\n",
        ")"
      ]
    },
    {
      "cell_type": "markdown",
      "id": "8805a7c5-84b4-49f5-8989-0022f2054ace",
      "metadata": {},
      "source": [
        "## 3. 加载消息\n\n`load()` (或 `lazy_load`) 方法返回一个 \"ChatSessions\" 列表，目前该列表仅包含已加载对话的消息列表。"
      ]
    },
    {
      "cell_type": "code",
      "execution_count": 4,
      "id": "fcd69b3e-020d-4a15-8a0d-61c2d34e1ee1",
      "metadata": {},
      "outputs": [],
      "source": [
        "from typing import List\n",
        "\n",
        "from langchain_community.chat_loaders.utils import (\n",
        "    map_ai_messages,\n",
        "    merge_chat_runs,\n",
        ")\n",
        "from langchain_core.chat_sessions import ChatSession\n",
        "\n",
        "raw_messages = loader.lazy_load()\n",
        "# Merge consecutive messages from the same sender into a single message\n",
        "merged_messages = merge_chat_runs(raw_messages)\n",
        "# Convert messages from \"U0500003428\" to AI messages\n",
        "messages: List[ChatSession] = list(\n",
        "    map_ai_messages(merged_messages, sender=\"U0500003428\")\n",
        ")"
      ]
    },
    {
      "cell_type": "markdown",
      "id": "7d033f87-cd0c-4f44-a753-41b871c1e919",
      "metadata": {},
      "source": [
        "### 后续步骤\n\n然后，你可以根据需要使用这些消息，例如用于微调模型、少样本示例选择，或直接对下一条消息进行预测。"
      ]
    },
    {
      "cell_type": "code",
      "execution_count": 5,
      "id": "7d8a1629-5d9e-49b3-b978-3add57027d59",
      "metadata": {},
      "outputs": [
        {
          "name": "stdout",
          "output_type": "stream",
          "text": [
            "Hi, \n",
            "\n",
            "I hope you're doing well. I wanted to reach out and ask if you'd be available to meet up for coffee sometime next week. I'd love to catch up and hear about what's been going on in your life. Let me know if you're interested and we can find a time that works for both of us. \n",
            "\n",
            "Looking forward to hearing from you!\n",
            "\n",
            "Best, [Your Name]"
          ]
        }
      ],
      "source": [
        "from langchain_openai import ChatOpenAI\n",
        "\n",
        "llm = ChatOpenAI()\n",
        "\n",
        "for chunk in llm.stream(messages[1][\"messages\"]):\n",
        "    print(chunk.content, end=\"\", flush=True)"
      ]
    }
  ],
  "metadata": {
    "kernelspec": {
      "display_name": "Python 3 (ipykernel)",
      "language": "python",
      "name": "python3"
    },
    "language_info": {
      "codemirror_mode": {
        "name": "ipython",
        "version": 3
      },
      "file_extension": ".py",
      "mimetype": "text/x-python",
      "name": "python",
      "nbconvert_exporter": "python",
      "pygments_lexer": "ipython3",
      "version": "3.11.2"
    }
  },
  "nbformat": 4,
  "nbformat_minor": 5
}