{
  "cells": [
    {
      "cell_type": "markdown",
      "id": "b3d1705d",
      "metadata": {},
      "source": [
        "# GMail\n\n此加载器将介绍如何从 GMail 加载数据。您可能希望以多种方式从 GMail 加载数据。此加载器目前在如何实现方面相当有主见。它的做法是首先查找您发送的所有邮件。然后，它会查找您回复先前电子邮件的邮件。接着，它会获取该先前电子邮件，并将其与您的电子邮件一起创建一个训练示例。\n\n请注意，此处存在明显的局限性。例如，所有创建的示例都仅考虑上一封电子邮件的上下文。\n\n使用方法：\n\n- 设置 Google 开发者账户：前往 Google Developer Console，创建一个项目，并为该项目启用 Gmail API。这将为您提供一个 credentials.json 文件，您稍后会用到。\n\n- 安装 Google 客户端库：运行以下命令安装 Google 客户端库："
      ]
    },
    {
      "cell_type": "code",
      "execution_count": null,
      "id": "84578039",
      "metadata": {},
      "outputs": [],
      "source": [
        "%pip install --upgrade --quiet  google-auth google-auth-oauthlib google-auth-httplib2 google-api-python-client"
      ]
    },
    {
      "cell_type": "code",
      "execution_count": 6,
      "id": "be18f796",
      "metadata": {},
      "outputs": [],
      "source": [
        "import os.path\n",
        "\n",
        "from google.auth.transport.requests import Request\n",
        "from google.oauth2.credentials import Credentials\n",
        "from google_auth_oauthlib.flow import InstalledAppFlow\n",
        "\n",
        "SCOPES = [\"https://www.googleapis.com/auth/gmail.readonly\"]\n",
        "\n",
        "\n",
        "creds = None\n",
        "# The file token.json stores the user's access and refresh tokens, and is\n",
        "# created automatically when the authorization flow completes for the first\n",
        "# time.\n",
        "if os.path.exists(\"email_token.json\"):\n",
        "    creds = Credentials.from_authorized_user_file(\"email_token.json\", SCOPES)\n",
        "# If there are no (valid) credentials available, let the user log in.\n",
        "if not creds or not creds.valid:\n",
        "    if creds and creds.expired and creds.refresh_token:\n",
        "        creds.refresh(Request())\n",
        "    else:\n",
        "        flow = InstalledAppFlow.from_client_secrets_file(\n",
        "            # your creds file here. Please create json file as here https://cloud.google.com/docs/authentication/getting-started\n",
        "            \"creds.json\",\n",
        "            SCOPES,\n",
        "        )\n",
        "        creds = flow.run_local_server(port=0)\n",
        "    # Save the credentials for the next run\n",
        "    with open(\"email_token.json\", \"w\") as token:\n",
        "        token.write(creds.to_json())"
      ]
    },
    {
      "cell_type": "code",
      "execution_count": 7,
      "id": "a2793ba0",
      "metadata": {},
      "outputs": [],
      "source": [
        "from langchain_community.chat_loaders.gmail import GMailLoader"
      ]
    },
    {
      "cell_type": "code",
      "execution_count": 10,
      "id": "2154597f",
      "metadata": {},
      "outputs": [],
      "source": [
        "loader = GMailLoader(creds=creds, n=3)"
      ]
    },
    {
      "cell_type": "code",
      "execution_count": 11,
      "id": "0b7d11bd",
      "metadata": {},
      "outputs": [],
      "source": [
        "data = loader.load()"
      ]
    },
    {
      "cell_type": "code",
      "execution_count": 13,
      "id": "74764bc7",
      "metadata": {},
      "outputs": [
        {
          "data": {
            "text/plain": [
              "2"
            ]
          },
          "execution_count": 13,
          "metadata": {},
          "output_type": "execute_result"
        }
      ],
      "source": [
        "# Sometimes there can be errors which we silently ignore\n",
        "len(data)"
      ]
    },
    {
      "cell_type": "code",
      "execution_count": 14,
      "id": "d9360a85",
      "metadata": {},
      "outputs": [],
      "source": [
        "from langchain_community.chat_loaders.utils import (\n",
        "    map_ai_messages,\n",
        ")"
      ]
    },
    {
      "cell_type": "code",
      "execution_count": 17,
      "id": "a9646f7a",
      "metadata": {},
      "outputs": [],
      "source": [
        "# This makes messages sent by hchase@langchain.com the AI Messages\n",
        "# This means you will train an LLM to predict as if it's responding as hchase\n",
        "training_data = list(\n",
        "    map_ai_messages(data, sender=\"Harrison Chase <hchase@langchain.com>\")\n",
        ")"
      ]
    },
    {
      "cell_type": "code",
      "execution_count": null,
      "id": "d1a182f0",
      "metadata": {},
      "outputs": [],
      "source": []
    }
  ],
  "metadata": {
    "kernelspec": {
      "display_name": "Python 3 (ipykernel)",
      "language": "python",
      "name": "python3"
    },
    "language_info": {
      "codemirror_mode": {
        "name": "ipython",
        "version": 3
      },
      "file_extension": ".py",
      "mimetype": "text/x-python",
      "name": "python",
      "nbconvert_exporter": "python",
      "pygments_lexer": "ipython3",
      "version": "3.10.1"
    }
  },
  "nbformat": 4,
  "nbformat_minor": 5
}