{
  "cells": [
    {
      "cell_type": "markdown",
      "metadata": {},
      "source": [
        "# Dell PowerScale 文档加载器\n\n[Dell PowerScale](https://www.dell.com/en-us/shop/powerscale-family/sf/powerscale) 是一个企业级横向扩展存储系统，它托管行业领先的 OneFS 文件系统，可以部署在本地或云端。\n\n此文档加载器利用 PowerScale 的独特功能，可以确定自应用程序上次运行以来哪些文件已修改，并且仅返回修改过的文件以供处理。这将消除重新处理（分块和嵌入）未更改文件的需要，从而改进整体数据摄取工作流程。\n\n此加载器要求启用 PowerScale 的 MetadataIQ 功能。更多信息可在我们的 GitHub 仓库中找到：[https://github.com/dell/powerscale-rag-connector](https://github.com/dell/powerscale-rag-connector)\n\n## 概述\n### 集成详情\n\n| Class | Package | Local | Serializable | [JS support](https://js.langchain.com/docs/integrations/document_loaders/web_loaders/__module_name___loader)|\n| :--- | :--- | :---: | :---: |  :---: |\n| [PowerScaleDocumentLoader](https://github.com/dell/powerscale-rag-connector/blob/main/src/powerscale_rag_connector/PowerScaleDocumentLoader.py) | [powerscale-rag-connector](https://github.com/dell/powerscale-rag-connector) | ✅ | ❌ | ❌ | \n| [PowerScaleUnstructuredLoader](https://github.com/dell/powerscale-rag-connector/blob/main/src/powerscale_rag_connector/PowerScaleUnstructuredLoader.py) | [powerscale-rag-connector](https://github.com/dell/powerscale-rag-connector) | ✅ | ❌ | ❌ | \n### 加载器特性\n| Source | Document Lazy Loading | Native Async Support\n| :---: | :---: | :---: | \n| PowerScaleDocumentLoader | ✅ | ✅ | \n| PowerScaleUnstructuredLoader | ✅ | ✅ | \n\n## 设置\n\n此文档加载器要求使用启用了 MetadataIQ 的 Dell PowerScale 系统。更多信息可在我们的 github 页面找到：[https://github.com/dell/powerscale-rag-connector](https://github.com/dell/powerscale-rag-connector)"
      ]
    },
    {
      "cell_type": "markdown",
      "metadata": {},
      "source": [
        "### 安装\n\n文档加载器存在于一个外部 pip 包中，可以使用标准工具进行安装。"
      ]
    },
    {
      "cell_type": "code",
      "execution_count": null,
      "metadata": {},
      "outputs": [],
      "source": [
        "%pip install --upgrade --quiet  powerscale-rag-connector"
      ]
    },
    {
      "cell_type": "markdown",
      "metadata": {},
      "source": [
        "## 初始化\n\n现在我们可以实例化文档加载器："
      ]
    },
    {
      "cell_type": "markdown",
      "metadata": {},
      "source": [
        "### 通用文档加载器\n\n我们的通用文档加载器可以按以下方式用于逐步加载 PowerScale 中的所有文件："
      ]
    },
    {
      "cell_type": "code",
      "execution_count": null,
      "metadata": {},
      "outputs": [],
      "source": [
        "from powerscale_rag_connector import PowerScaleDocumentLoader\n",
        "\n",
        "loader = PowerScaleDocumentLoader(\n",
        "    es_host_url=\"http://elasticsearch:9200\",\n",
        "    es_index_name=\"metadataiq\",\n",
        "    es_api_key=\"your-api-key\",\n",
        "    folder_path=\"/ifs/data\",\n",
        ")"
      ]
    },
    {
      "cell_type": "markdown",
      "metadata": {},
      "source": [
        "### 非结构化加载器 Loader\n\n`PowerScaleUnstructuredLoader` 可选地用于定位已更改的文件，以及自动处理文件，生成源文件的元素。这是通过 LangChain 的 `UnstructuredLoader` 类完成的。"
      ]
    },
    {
      "cell_type": "code",
      "execution_count": null,
      "metadata": {},
      "outputs": [],
      "source": [
        "from powerscale_rag_connector import PowerScaleUnstructuredLoader\n",
        "\n",
        "# Or load files with the Unstructured Loader\n",
        "loader = PowerScaleUnstructuredLoader(\n",
        "    es_host_url=\"http://elasticsearch:9200\",\n",
        "    es_index_name=\"metadataiq\",\n",
        "    es_api_key=\"your-api-key\",\n",
        "    folder_path=\"/ifs/data\",\n",
        "    # 'elements' mode splits the document into more granular chunks\n",
        "    # Use 'single' mode if you want the entire document as a single chunk\n",
        "    mode=\"elements\",\n",
        ")"
      ]
    },
    {
      "cell_type": "markdown",
      "metadata": {},
      "source": [
        "字段：\n- `es_host_url` 是 MetadataIQ Elasticsearch 数据库的端点\n- `es_index_index` 是 PowerScale 写入其文件系统元数据的索引名称\n- `es_api_key` 是您的 Elasticsearch API 密钥的 **编码** 版本\n- `folder_path` 是要查询更改的 PowerScale 上的路径"
      ]
    },
    {
      "cell_type": "markdown",
      "metadata": {},
      "source": [
        "## 加载\n\n内部而言，PowerScale 和 MetadataIQ 的所有代码都是异步的，load 和 lazy load 方法将返回一个 Python 生成器。我们推荐使用 lazy load 函数。"
      ]
    },
    {
      "cell_type": "code",
      "execution_count": null,
      "metadata": {},
      "outputs": [
        {
          "data": {
            "text/plain": [
              "[Document(page_content='' metadata={'source': '/ifs/pdfs/1994-Graph.Theoretic.Obstacles.to.Perfect.Hashing.TR0257.pdf', 'snapshot': 20834, 'change_types': ['ENTRY_ADDED']}),\n",
              "Document(page_content='' metadata={'source': '/ifs/pdfs/New.sendfile-FreeBSD.20.Feb.2015.pdf', 'snapshot': 20920, 'change_types': ['ENTRY_MODIFIED']}),\n",
              "Document(page_content='' metadata={'source': '/ifs/pdfs/FAST-Fast.Architecture.Sensitive.Tree.Search.on.Modern.CPUs.and.GPUs-Slides.pdf', 'snapshot': 20924, 'change_types': ['ENTRY_ADDED']})]\n"
            ]
          },
          "metadata": {},
          "output_type": "display_data"
        }
      ],
      "source": [
        "for doc in loader.load():\n",
        "    print(doc)"
      ]
    },
    {
      "cell_type": "markdown",
      "metadata": {},
      "source": [
        "### 返回对象\n\n两个文档加载器都会跟踪先前返回给您应用程序的文件。再次调用文档加载器时，它将仅返回自上次运行以来新增或修改的文件。\n\n- 返回的 `Document` 中的 `metadata` 字段将显示包含修改文件的 PowerScale 路径。您将使用此路径通过 NFS（或 S3）读取数据，并在应用程序中处理数据（例如：创建块和嵌入）。\n- `source` 字段是 PowerScale 上的路径，不一定是您本地系统上的路径（取决于您的挂载策略）； OneFS 将整个存储系统表示为以 `/ifs` 为根的单个数**字**象。\n- `change_types` 属性将告知您自上次以来发生了什么变化——例如：新增、修改或删除。\n\n您的 RAG 应用程序可以使用来自 `change_types` 的信息来添加、更新或删除您块和向量存储中的条目。\n\n当使用 `PowerScaleUnstructuredLoader` 时，`page_content` 字段将填充来自非结构化加载器的数据。"
      ]
    },
    {
      "cell_type": "markdown",
      "metadata": {},
      "source": [
        "## 懒加载\n\n内部来说，PowerScale 和 MetadataIQ 的所有代码都是异步的，加载和懒加载方法将返回一个 python 生成器。我们推荐使用懒加载函数。"
      ]
    },
    {
      "cell_type": "code",
      "execution_count": null,
      "metadata": {},
      "outputs": [],
      "source": [
        "for doc in loader.lazy_load():\n",
        "    print(doc)  # do something specific with the document"
      ]
    },
    {
      "cell_type": "markdown",
      "metadata": {},
      "source": [
        "加载函数返回的 `Document` 与上面提到的所有属性都相同。"
      ]
    },
    {
      "cell_type": "markdown",
      "metadata": {},
      "source": [
        "## 更多示例\n\n您可以在我们的公共 github 网页上找到更多示例和代码：[https://github.com/dell/powerscale-rag-connector/tree/main/examples](https://github.com/dell/powerscale-rag-connector/tree/main/examples)，其中提供了完整的可用示例。\n\n - [PowerScale LangChain 文件加载器](https://github.com/dell/powerscale-rag-connector/blob/main/examples/powerscale_langchain_doc_loader.py) - 我们标准文件加载器的可用示例\n - [PowerScale LangChain 非结构化加载器](https://github.com/dell/powerscale-rag-connector/blob/main/examples/powerscale_langchain_unstructured_loader.py) - 使用非结构化加载器进行分块和嵌入的标准文件加载器可用示例\n - [PowerScale NVIDIA Retriever 微服务加载器](https://github.com/dell/powerscale-rag-connector/blob/main/examples/powerscale_nvingest_example.py) - 使用 NVIDIA NeMo Retriever 微服务进行分块和嵌入的文件加载器可用示例"
      ]
    },
    {
      "cell_type": "markdown",
      "metadata": {},
      "source": [
        "## API 参考\n\n有关 PowerScale Document Loader 所有功能和配置的详细文档，请访问 GitHub 页面：[https://github.com/dell/powerscale-rag-connector/](https://github.com/dell/powerscale-rag-connector/)"
      ]
    }
  ],
  "metadata": {
    "kernelspec": {
      "display_name": "Python 3 (ipykernel)",
      "language": "python",
      "name": "python3"
    },
    "language_info": {
      "codemirror_mode": {
        "name": "ipython",
        "version": 3
      },
      "file_extension": ".py",
      "mimetype": "text/x-python",
      "name": "python",
      "nbconvert_exporter": "python",
      "pygments_lexer": "ipython3",
      "version": "3.11.9"
    }
  },
  "nbformat": 4,
  "nbformat_minor": 4
}