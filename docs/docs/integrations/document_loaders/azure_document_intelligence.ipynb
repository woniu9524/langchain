{
  "cells": [
    {
      "attachments": {},
      "cell_type": "markdown",
      "metadata": {},
      "source": [
        "# Azure AI Document Intelligence"
      ]
    },
    {
      "attachments": {},
      "cell_type": "markdown",
      "metadata": {},
      "source": [
        ">[Azure AI Document Intelligence](https://aka.ms/doc-intelligence)（前身为 `Azure Form Recognizer`）是一种基于机器学习的服务，可以从数字或扫描的 PDF、图像、Office 和 HTML 文件中提取文本（包括手写体）、表格、文档结构（例如标题、章节标题等）以及键值对。\n\nDocument Intelligence 支持 `PDF`、`JPEG/JPG`、`PNG`、`BMP`、`TIFF`、`HEIF`、`DOCX`、`XLSX`、`PPTX` 和 `HTML`。\n\n此当前使用 `Document Intelligence` 的加载器实现可以逐页地合并内容，并将其转换为 LangChain 文档。默认输出格式为 markdown，可以轻松地与 `MarkdownHeaderTextSplitter` 链接以进行语义化文档分块。您还可以使用 `mode=\"single\"` 或 `mode=\"page\"` 来返回纯文本，在单个页面或按页面分割的文档中。"
      ]
    },
    {
      "cell_type": "markdown",
      "metadata": {},
      "source": [
        "## 先决条件\n\n在以下三个预览区域之一创建一个 Azure AI Document Intelligence 资源：**East US**、**West US2**、**West Europe** - 如果您还没有，请遵循[此文档](https://learn.microsoft.com/azure/ai-services/document-intelligence/create-document-intelligence-resource?view=doc-intel-4.0.0)进行创建。您将把 `<endpoint>` 和 `<key>` 作为参数传递给加载器。"
      ]
    },
    {
      "cell_type": "code",
      "execution_count": null,
      "metadata": {},
      "outputs": [],
      "source": [
        "%pip install --upgrade --quiet  langchain langchain-community azure-ai-documentintelligence"
      ]
    },
    {
      "attachments": {},
      "cell_type": "markdown",
      "metadata": {},
      "source": [
        "## 示例 1"
      ]
    },
    {
      "attachments": {},
      "cell_type": "markdown",
      "metadata": {},
      "source": [
        "第一个示例使用本地文件，该文件将被发送到 Azure AI Document Intelligence。"
      ]
    },
    {
      "attachments": {},
      "cell_type": "markdown",
      "metadata": {},
      "source": [
        "使用已初始化的文档分析客户端，我们可以继续创建一个 DocumentIntelligenceLoader 实例："
      ]
    },
    {
      "cell_type": "code",
      "execution_count": null,
      "metadata": {},
      "outputs": [],
      "source": [
        "from langchain_community.document_loaders import AzureAIDocumentIntelligenceLoader\n",
        "\n",
        "file_path = \"<filepath>\"\n",
        "endpoint = \"<endpoint>\"\n",
        "key = \"<key>\"\n",
        "loader = AzureAIDocumentIntelligenceLoader(\n",
        "    api_endpoint=endpoint, api_key=key, file_path=file_path, api_model=\"prebuilt-layout\"\n",
        ")\n",
        "\n",
        "documents = loader.load()"
      ]
    },
    {
      "attachments": {},
      "cell_type": "markdown",
      "metadata": {},
      "source": [
        "默认输出包含一个 LangChain 文档，其内容为 markdown 格式："
      ]
    },
    {
      "cell_type": "code",
      "execution_count": null,
      "metadata": {},
      "outputs": [],
      "source": [
        "documents"
      ]
    },
    {
      "cell_type": "markdown",
      "metadata": {},
      "source": [
        "## 示例 2\n输入文件也可以是公共 URL 路径。例如：https://raw.githubusercontent.com/Azure-Samples/cognitive-services-REST-api-samples/master/curl/form-recognizer/rest-api/layout.png。"
      ]
    },
    {
      "cell_type": "code",
      "execution_count": null,
      "metadata": {},
      "outputs": [],
      "source": [
        "url_path = \"<url>\"\n",
        "loader = AzureAIDocumentIntelligenceLoader(\n",
        "    api_endpoint=endpoint, api_key=key, url_path=url_path, api_model=\"prebuilt-layout\"\n",
        ")\n",
        "\n",
        "documents = loader.load()"
      ]
    },
    {
      "cell_type": "code",
      "execution_count": null,
      "metadata": {},
      "outputs": [],
      "source": [
        "documents"
      ]
    },
    {
      "cell_type": "markdown",
      "metadata": {},
      "source": [
        "## 示例 3\n你也可以指定 `mode=\"page\"` 来按页加载文档。"
      ]
    },
    {
      "cell_type": "code",
      "execution_count": null,
      "metadata": {},
      "outputs": [],
      "source": [
        "from langchain_community.document_loaders import AzureAIDocumentIntelligenceLoader\n",
        "\n",
        "file_path = \"<filepath>\"\n",
        "endpoint = \"<endpoint>\"\n",
        "key = \"<key>\"\n",
        "loader = AzureAIDocumentIntelligenceLoader(\n",
        "    api_endpoint=endpoint,\n",
        "    api_key=key,\n",
        "    file_path=file_path,\n",
        "    api_model=\"prebuilt-layout\",\n",
        "    mode=\"page\",\n",
        ")\n",
        "\n",
        "documents = loader.load()"
      ]
    },
    {
      "cell_type": "markdown",
      "metadata": {},
      "source": [
        "输出将是列表中的每个页面，每个页面都存储为一个单独的文档："
      ]
    },
    {
      "cell_type": "code",
      "execution_count": null,
      "metadata": {},
      "outputs": [],
      "source": [
        "for document in documents:\n",
        "    print(f\"Page Content: {document.page_content}\")\n",
        "    print(f\"Metadata: {document.metadata}\")"
      ]
    },
    {
      "cell_type": "markdown",
      "metadata": {},
      "source": [
        "## 示例 4\n您还可以指定 `analysis_feature=[\"ocrHighResolution\"]` 来启用附加功能。更多信息，请参阅：https://aka.ms/azsdk/python/documentintelligence/analysisfeature。"
      ]
    },
    {
      "cell_type": "code",
      "execution_count": null,
      "metadata": {},
      "outputs": [],
      "source": [
        "from langchain_community.document_loaders import AzureAIDocumentIntelligenceLoader\n",
        "\n",
        "file_path = \"<filepath>\"\n",
        "endpoint = \"<endpoint>\"\n",
        "key = \"<key>\"\n",
        "analysis_features = [\"ocrHighResolution\"]\n",
        "loader = AzureAIDocumentIntelligenceLoader(\n",
        "    api_endpoint=endpoint,\n",
        "    api_key=key,\n",
        "    file_path=file_path,\n",
        "    api_model=\"prebuilt-layout\",\n",
        "    analysis_features=analysis_features,\n",
        ")\n",
        "\n",
        "documents = loader.load()"
      ]
    },
    {
      "cell_type": "markdown",
      "metadata": {},
      "source": [
        "输出包含使用高分辨率识别的 LangChain 文档的附加功能："
      ]
    },
    {
      "cell_type": "code",
      "execution_count": null,
      "metadata": {},
      "outputs": [],
      "source": [
        "documents"
      ]
    }
  ],
  "metadata": {
    "kernelspec": {
      "display_name": "Python 3 (ipykernel)",
      "language": "python",
      "name": "python3"
    },
    "language_info": {
      "codemirror_mode": {
        "name": "ipython",
        "version": 3
      },
      "file_extension": ".py",
      "mimetype": "text/x-python",
      "name": "python",
      "nbconvert_exporter": "python",
      "pygments_lexer": "ipython3",
      "version": "3.10.12"
    },
    "vscode": {
      "interpreter": {
        "hash": "f9f85f796d01129d0dd105a088854619f454435301f6ffec2fea96ecbd9be4ac"
      }
    }
  },
  "nbformat": 4,
  "nbformat_minor": 4
}