{
  "cells": [
    {
      "attachments": {},
      "cell_type": "markdown",
      "id": "1dc7df1d",
      "metadata": {},
      "source": [
        "# Notion DB 2/2\n\n>[Notion](https://www.notion.so/) 是一个协作平台，支持修改后的 Markdown，并集成了看板、任务、维基和数据库。它是用于笔记、知识和数据管理以及项目和任务管理的“一切集成”工作空间。\n\n`NotionDBLoader` 是一个用于从 `Notion` 数据库加载内容的 Python 类。它从数据库检索页面，读取其内容，并返回 Document 对象列表。`NotionDirectoryLoader` 用于从 Notion 数据库转储加载数据。\n\n## Requirements\n\n- 一个 `Notion` 数据库\n- Notion 集成 Token\n\n## Setup\n\n### 1. 创建一个 Notion 表格数据库\n在 Notion 中创建一个新的表格数据库。您可以向数据库添加任何列，它们将被视为元数据。例如，您可以添加以下列：\n\n- Title：将 Title 设置为默认属性。\n- Categories：一个 Multi-select 属性，用于存储与页面关联的类别。\n- Keywords：一个 Multi-select 属性，用于存储与页面关联的关键词。\n\n将您的内容添加到数据库中每个页面的正文中。NotionDBLoader 将从这些页面中提取内容和元数据。\n\n## 2. 创建一个 Notion 集成\n要创建 Notion 集成，请遵循以下步骤：\n\n1. 访问 [Notion Developers](https://www.notion.com/my-integrations) 页面并使用您的 Notion 帐户登录。\n2. 点击“+ New integration”按钮。\n3. 为您的集成命名，并选择您的数据库所在的工区。\n4. 选择所需的功能，此扩展程序只需要 Read content 功能。\n5. 点击“Submit”按钮创建集成。\n集成创建后，您将获得一个 `Integration Token (API key)`。复制此令牌并妥善保管，因为您需要它来使用 NotionDBLoader。\n\n### 3. 将集成连接到数据库\n要将您的集成连接到数据库，请遵循以下步骤：\n\n1. 在 Notion 中打开您的数据库。\n2. 点击数据库视图右上角的三个点菜单图标。\n3. 点击“+ New integration”按钮。\n4. 找到您的集成，您可能需要在搜索框中输入其名称。\n5. 点击“Connect”按钮将集成连接到数据库。\n\n\n### 4. 获取数据库 ID\n要获取数据库 ID，请遵循以下步骤：\n\n1. 在 Notion 中打开您的数据库。\n2. 点击数据库视图右上角的三个点菜单图标。\n3. 从菜单中选择“Copy link”将数据库 URL 复制到剪贴板。\n4. 数据库 ID 是 URL 中找到的由字母数字字符组成的较长字符串。它通常看起来像这样：https://www.notion.so/username/8935f9d140a04f95a872520c4f123456?v=.... 在此示例中，数据库 ID 是 8935f9d140a04f95a872520c4f123456。\n\n在正确设置数据库并获得集成令牌和数据库 ID 后，您现在可以使用 NotionDBLoader 代码从 Notion 数据库加载内容和元数据。\n\n### 5. Installation\n\n安装 `langchain-community` 集成包。"
      ]
    },
    {
      "cell_type": "code",
      "execution_count": null,
      "id": "412b38dc",
      "metadata": {},
      "outputs": [],
      "source": [
        "%pip install -qU langchain-community"
      ]
    },
    {
      "cell_type": "markdown",
      "id": "cced2931",
      "metadata": {},
      "source": [
        "## Notion 数据库加载器\nNotionDBLoader 是 langchain 包中文档加载器的一部分。你可以如下方式使用它："
      ]
    },
    {
      "cell_type": "code",
      "execution_count": 12,
      "id": "6c3a314c",
      "metadata": {},
      "outputs": [
        {
          "name": "stdout",
          "output_type": "stream",
          "text": [
            "········\n",
            "········\n"
          ]
        }
      ],
      "source": [
        "from getpass import getpass\n",
        "\n",
        "NOTION_TOKEN = getpass()\n",
        "DATABASE_ID = getpass()"
      ]
    },
    {
      "cell_type": "code",
      "execution_count": 13,
      "id": "007c5cbf",
      "metadata": {},
      "outputs": [],
      "source": [
        "from langchain_community.document_loaders import NotionDBLoader"
      ]
    },
    {
      "cell_type": "code",
      "execution_count": 14,
      "id": "a1caec59",
      "metadata": {},
      "outputs": [],
      "source": [
        "loader = NotionDBLoader(\n",
        "    integration_token=NOTION_TOKEN,\n",
        "    database_id=DATABASE_ID,\n",
        "    request_timeout_sec=30,  # optional, defaults to 10\n",
        ")"
      ]
    },
    {
      "cell_type": "code",
      "execution_count": 15,
      "id": "b1c30ff7",
      "metadata": {},
      "outputs": [],
      "source": [
        "docs = loader.load()"
      ]
    },
    {
      "cell_type": "code",
      "execution_count": 17,
      "id": "4f5789a2",
      "metadata": {},
      "outputs": [
        {
          "name": "stdout",
          "output_type": "stream",
          "text": [
            "\n"
          ]
        }
      ],
      "source": [
        "print(docs)"
      ]
    },
    {
      "cell_type": "markdown",
      "id": "2b87ab5c",
      "metadata": {},
      "source": [
        "## Notion 目录加载器\n\n### 设置\n\n从 Notion 导出你的数据集。你可以通过点击右上角的三个点，然后点击 `导出` 来完成此操作。\n\n导出时，请确保选择 `Markdown & CSV` 格式选项。\n\n这将会在你的下载文件夹中生成一个 `.zip` 文件。将 `.zip` 文件移动到此存储库中。\n\n运行以下命令解压 zip 文件（如有必要，请将 `Export...` 替换为你自己的文件名）。\n\n```shell\nunzip Export-d3adfe0f-3131-4bf3-8987-a52017fc1bae.zip -d Notion_DB\n```\n\n### 用法\n\n运行以下命令来摄取你刚刚下载的数据。"
      ]
    },
    {
      "cell_type": "code",
      "execution_count": null,
      "id": "9debffdd",
      "metadata": {},
      "outputs": [],
      "source": [
        "from langchain_community.document_loaders import NotionDirectoryLoader\n",
        "\n",
        "loader = NotionDirectoryLoader(\"Notion_DB\")"
      ]
    },
    {
      "cell_type": "code",
      "execution_count": null,
      "id": "81008087",
      "metadata": {},
      "outputs": [],
      "source": [
        "docs = loader.load()"
      ]
    }
  ],
  "metadata": {
    "kernelspec": {
      "display_name": "Python 3 (ipykernel)",
      "language": "python",
      "name": "python3"
    },
    "language_info": {
      "codemirror_mode": {
        "name": "ipython",
        "version": 3
      },
      "file_extension": ".py",
      "mimetype": "text/x-python",
      "name": "python",
      "nbconvert_exporter": "python",
      "pygments_lexer": "ipython3",
      "version": "3.10.6"
    }
  },
  "nbformat": 4,
  "nbformat_minor": 5
}