{
  "cells": [
    {
      "cell_type": "markdown",
      "id": "4284970b",
      "metadata": {},
      "source": [
        "# TOML\n\n>[TOML](https://en.wikipedia.org/wiki/TOML) 是一种用于配置文件（configuration files）的文件格式。它旨在易于阅读和编写，并被设计成能够无歧义地映射到字典中。其规范是开源的。`TOML` 已在多种编程语言中实现。`TOML` 这个名字是一个首字母缩略词，意为“Tom 的显性、最小化语言”（Tom's Obvious, Minimal Language），以其创造者 Tom Preston-Werner 命名。\n\n如果您需要加载 `Toml` 文件，请使用 `TomlLoader`。"
      ]
    },
    {
      "cell_type": "code",
      "execution_count": 1,
      "id": "202fc42d",
      "metadata": {},
      "outputs": [],
      "source": [
        "from langchain_community.document_loaders import TomlLoader"
      ]
    },
    {
      "cell_type": "code",
      "execution_count": 2,
      "id": "7ecae98c",
      "metadata": {},
      "outputs": [],
      "source": [
        "loader = TomlLoader(\"example_data/fake_rule.toml\")"
      ]
    },
    {
      "cell_type": "code",
      "execution_count": 3,
      "id": "eb08c26e",
      "metadata": {},
      "outputs": [],
      "source": [
        "rule = loader.load()"
      ]
    },
    {
      "cell_type": "code",
      "execution_count": 4,
      "id": "405d36bc",
      "metadata": {},
      "outputs": [
        {
          "data": {
            "text/plain": [
              "[Document(page_content='{\"internal\": {\"creation_date\": \"2023-05-01\", \"updated_date\": \"2022-05-01\", \"release\": [\"release_type\"], \"min_endpoint_version\": \"some_semantic_version\", \"os_list\": [\"operating_system_list\"]}, \"rule\": {\"uuid\": \"some_uuid\", \"name\": \"Fake Rule Name\", \"description\": \"Fake description of rule\", \"query\": \"process where process.name : \\\\\"somequery\\\\\"\\\\n\", \"threat\": [{\"framework\": \"MITRE ATT&CK\", \"tactic\": {\"name\": \"Execution\", \"id\": \"TA0002\", \"reference\": \"https://attack.mitre.org/tactics/TA0002/\"}}]}}', metadata={'source': 'example_data/fake_rule.toml'})]"
            ]
          },
          "execution_count": 4,
          "metadata": {},
          "output_type": "execute_result"
        }
      ],
      "source": [
        "rule"
      ]
    },
    {
      "cell_type": "code",
      "execution_count": null,
      "id": "a896454d",
      "metadata": {},
      "outputs": [],
      "source": []
    }
  ],
  "metadata": {
    "kernelspec": {
      "display_name": "Python 3 (ipykernel)",
      "language": "python",
      "name": "python3"
    },
    "language_info": {
      "codemirror_mode": {
        "name": "ipython",
        "version": 3
      },
      "file_extension": ".py",
      "mimetype": "text/x-python",
      "name": "python",
      "nbconvert_exporter": "python",
      "pygments_lexer": "ipython3",
      "version": "3.10.6"
    }
  },
  "nbformat": 4,
  "nbformat_minor": 5
}