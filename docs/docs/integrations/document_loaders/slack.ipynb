{
  "cells": [
    {
      "cell_type": "markdown",
      "id": "1dc7df1d",
      "metadata": {},
      "source": [
        "# Slack\n\n>[Slack](https://slack.com/) 是一款即时通讯程序。\n\n本 Notebook 将介绍如何从 `Slack` 导出的 zip 文件中加载文档。\n\n要获取此 `Slack` 导出文件，请遵循以下说明：\n\n## 🧑 导入您自己数据集的说明\n\n导出您的 Slack 数据。您可以通过访问您的工作区管理页面，然后点击导入/导出选项（\\{your_slack_domain\\}.slack.com/services/export）来完成此操作。然后，选择正确的日期范围并点击 `开始导出`。导出准备就绪后，Slack 会向您发送电子邮件和私信。\n\n根据您的操作系统配置，下载的文件将生成一个 `.zip` 文件在您的下载文件夹中（或您下载文件的任何位置）。\n\n复制 `.zip` 文件的路径，并将其指定为以下的 `LOCAL_ZIPFILE`。"
      ]
    },
    {
      "cell_type": "code",
      "execution_count": null,
      "id": "007c5cbf",
      "metadata": {},
      "outputs": [],
      "source": [
        "from langchain_community.document_loaders import SlackDirectoryLoader"
      ]
    },
    {
      "cell_type": "code",
      "execution_count": null,
      "id": "a1caec59",
      "metadata": {},
      "outputs": [],
      "source": [
        "# Optionally set your Slack URL. This will give you proper URLs in the docs sources.\n",
        "SLACK_WORKSPACE_URL = \"https://xxx.slack.com\"\n",
        "LOCAL_ZIPFILE = \"\"  # Paste the local path to your Slack zip file here.\n",
        "\n",
        "loader = SlackDirectoryLoader(LOCAL_ZIPFILE, SLACK_WORKSPACE_URL)"
      ]
    },
    {
      "cell_type": "code",
      "execution_count": null,
      "id": "b1c30ff7",
      "metadata": {},
      "outputs": [],
      "source": [
        "docs = loader.load()\n",
        "docs"
      ]
    }
  ],
  "metadata": {
    "kernelspec": {
      "display_name": "Python 3 (ipykernel)",
      "language": "python",
      "name": "python3"
    },
    "language_info": {
      "codemirror_mode": {
        "name": "ipython",
        "version": 3
      },
      "file_extension": ".py",
      "mimetype": "text/x-python",
      "name": "python",
      "nbconvert_exporter": "python",
      "pygments_lexer": "ipython3",
      "version": "3.10.6"
    }
  },
  "nbformat": 4,
  "nbformat_minor": 5
}