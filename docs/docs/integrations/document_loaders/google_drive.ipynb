{
  "cells": [
    {
      "cell_type": "markdown",
      "id": "b0ed136e-6983-4893-ae1b-b75753af05f8",
      "metadata": {},
      "source": [
        "# Google Drive\n\n>[Google Drive](https://en.wikipedia.org/wiki/Google_Drive) 是由 Google 开发的文件存储和同步服务。\n\n本 Notebook 涵盖了如何从 `Google Drive` 加载文档。当前仅支持 `Google Docs`。\n\n## 前提条件\n\n1. 创建一个 Google Cloud 项目或使用现有项目\n1. 启用 [Google Drive API](https://console.cloud.google.com/flows/enableapi?apiid=drive.googleapis.com)\n1. [授权桌面应用凭据](https://developers.google.com/drive/api/quickstart/python#authorize_credentials_for_a_desktop_application)\n1. `pip install --upgrade google-api-python-client google-auth-httplib2 google-auth-oauthlib`\n\n## 🧑 提取 Google Docs 数据的说明\n将环境变量 `GOOGLE_APPLICATION_CREDENTIALS` 设置为空字符串 (`\"\"`)。\n\n默认情况下，`GoogleDriveLoader` 期望 `credentials.json` 文件位于 `~/.credentials/credentials.json`，但这可以通过 `credentials_path` 关键字参数进行配置。`token.json` 也是一样——默认路径：`~/.credentials/token.json`，构造函数参数：`token_path`。\n\n首次使用 `GoogleDriveLoader` 时，浏览器中会显示同意屏幕以进行用户身份验证。身份验证后，`token.json` 将在提供的或默认路径下自动创建。另外，如果该路径下已存在 `token.json`，则不会提示进行身份验证。\n\n`GoogleDriveLoader` 可以从 Google Docs 文档 ID 列表或文件夹 ID 加载。您可以从 URL 获取文件夹和文档 ID：\n\n* Folder: https://drive.google.com/drive/u/0/folders/1yucgL9WGgWZdM1TOuKkeghlPizuzMYb5 -> folder id is `\"1yucgL9WGgWZdM1TOuKkeghlPizuzMYb5\"`\n* Document: https://docs.google.com/document/d/1bfaMQ18_i56204VaQDVeAFpqEijJTgvurupdEDiaUQw/edit -> document id is `\"1bfaMQ18_i56204VaQDVeAFpqEijJTgvurupdEDiaUQw\"`"
      ]
    },
    {
      "cell_type": "code",
      "execution_count": null,
      "id": "6e40071c-3a65-4e26-b497-3e2be0bd86b9",
      "metadata": {},
      "outputs": [],
      "source": [
        "%pip install --upgrade --quiet langchain-google-community[drive]"
      ]
    },
    {
      "cell_type": "code",
      "execution_count": null,
      "id": "878928a6-a5ae-4f74-b351-64e3b01733fe",
      "metadata": {
        "tags": []
      },
      "outputs": [],
      "source": [
        "from langchain_google_community import GoogleDriveLoader"
      ]
    },
    {
      "cell_type": "code",
      "execution_count": null,
      "id": "2216c83f-68e4-4d2f-8ea2-5878fb18bbe7",
      "metadata": {
        "tags": []
      },
      "outputs": [],
      "source": [
        "loader = GoogleDriveLoader(\n",
        "    folder_id=\"1yucgL9WGgWZdM1TOuKkeghlPizuzMYb5\",\n",
        "    token_path=\"/path/where/you/want/token/to/be/created/google_token.json\",\n",
        "    # Optional: configure whether to recursively fetch files from subfolders. Defaults to False.\n",
        "    recursive=False,\n",
        ")"
      ]
    },
    {
      "cell_type": "code",
      "execution_count": null,
      "id": "8f3b6aa0-b45d-4e37-8c50-5bebe70fdb9d",
      "metadata": {
        "tags": []
      },
      "outputs": [],
      "source": [
        "docs = loader.load()"
      ]
    },
    {
      "cell_type": "markdown",
      "id": "2721ba8a",
      "metadata": {},
      "source": [
        "当你通过 `folder_id` 时，默认会加载所有类型为 document、sheet 和 pdf 的文件。你可以通过传递 `file_types` 参数来修改此行为。"
      ]
    },
    {
      "cell_type": "code",
      "execution_count": null,
      "id": "2ff83b4c",
      "metadata": {},
      "outputs": [],
      "source": [
        "loader = GoogleDriveLoader(\n",
        "    folder_id=\"1yucgL9WGgWZdM1TOuKkeghlPizuzMYb5\",\n",
        "    file_types=[\"document\", \"sheet\"],\n",
        "    recursive=False,\n",
        ")"
      ]
    },
    {
      "cell_type": "markdown",
      "id": "d6b80931",
      "metadata": {},
      "source": [
        "## 传入可选的文件加载器\n\n在处理 Google Docs 和 Google Sheets 以外的文件时，将可选的文件加载器传递给 `GoogleDriveLoader` 会很有帮助。如果传入了文件加载器，该文件加载器将用于没有 Google Docs 或 Google Sheets MIME 类型的文档。下面是如何使用文件加载器从 Google Drive 加载 Excel 文档的示例。"
      ]
    },
    {
      "cell_type": "code",
      "execution_count": null,
      "id": "94207e39",
      "metadata": {},
      "outputs": [],
      "source": [
        "from langchain_community.document_loaders import UnstructuredFileIOLoader\n",
        "from langchain_google_community import GoogleDriveLoader"
      ]
    },
    {
      "cell_type": "code",
      "execution_count": null,
      "id": "a15fbee0",
      "metadata": {},
      "outputs": [],
      "source": [
        "file_id = \"1x9WBtFPWMEAdjcJzPScRsjpjQvpSo_kz\"\n",
        "loader = GoogleDriveLoader(\n",
        "    file_ids=[file_id],\n",
        "    file_loader_cls=UnstructuredFileIOLoader,\n",
        "    file_loader_kwargs={\"mode\": \"elements\"},\n",
        ")"
      ]
    },
    {
      "cell_type": "code",
      "execution_count": null,
      "id": "98410bda",
      "metadata": {},
      "outputs": [],
      "source": [
        "docs = loader.load()"
      ]
    },
    {
      "cell_type": "code",
      "execution_count": null,
      "id": "e3e72221",
      "metadata": {},
      "outputs": [],
      "source": [
        "docs[0]"
      ]
    },
    {
      "cell_type": "markdown",
      "id": "238cd06f",
      "metadata": {},
      "source": [
        "您也可以使用下面的模式来处理混合了文件和 Google Docs/Sheets 的文件夹："
      ]
    },
    {
      "cell_type": "code",
      "execution_count": null,
      "id": "0e2d093f",
      "metadata": {},
      "outputs": [],
      "source": [
        "folder_id = \"1asMOHY1BqBS84JcRbOag5LOJac74gpmD\"\n",
        "loader = GoogleDriveLoader(\n",
        "    folder_id=folder_id,\n",
        "    file_loader_cls=UnstructuredFileIOLoader,\n",
        "    file_loader_kwargs={\"mode\": \"elements\"},\n",
        ")"
      ]
    },
    {
      "cell_type": "code",
      "execution_count": null,
      "id": "b35ddcc6",
      "metadata": {},
      "outputs": [],
      "source": [
        "docs = loader.load()"
      ]
    },
    {
      "cell_type": "code",
      "execution_count": null,
      "id": "3cc141e0",
      "metadata": {},
      "outputs": [],
      "source": [
        "docs[0]"
      ]
    },
    {
      "cell_type": "code",
      "execution_count": null,
      "id": "e312268a",
      "metadata": {},
      "outputs": [],
      "source": []
    },
    {
      "cell_type": "markdown",
      "id": "83ac576b-48c9-4aad-a35e-e978ea32f746",
      "metadata": {},
      "source": [
        "## 扩展用法\n一个外部（非官方）组件可以管理 Google Drive 的复杂性：`langchain-googledrive`\n它与 `langchain_community.document_loaders.GoogleDriveLoader` 兼容，可以\n替代它使用。\n\n为了兼容容器，认证使用环境变量 `GOOGLE_ACCOUNT_FILE` 来存储凭证文件（用户或服务）。"
      ]
    },
    {
      "cell_type": "code",
      "execution_count": null,
      "id": "b94f7119-bc1e-4ca3-907f-9d81e837ac59",
      "metadata": {},
      "outputs": [],
      "source": [
        "%pip install --upgrade --quiet  langchain-googledrive"
      ]
    },
    {
      "cell_type": "code",
      "execution_count": null,
      "id": "c4c7474e-49cb-48a1-b3a0-77fba8e2dd70",
      "metadata": {},
      "outputs": [],
      "source": [
        "folder_id = \"root\"\n",
        "# folder_id='1yucgL9WGgWZdM1TOuKkeghlPizuzMYb5'"
      ]
    },
    {
      "cell_type": "code",
      "execution_count": null,
      "id": "8357f7f1-e2b1-41ef-8e38-48fcc3897dba",
      "metadata": {},
      "outputs": [],
      "source": [
        "# Use the advanced version.\n",
        "from langchain_googledrive.document_loaders import GoogleDriveLoader"
      ]
    },
    {
      "cell_type": "code",
      "execution_count": null,
      "id": "16ab9d3d-1782-4cb9-ab56-d87edbb25a18",
      "metadata": {},
      "outputs": [],
      "source": [
        "loader = GoogleDriveLoader(\n",
        "    folder_id=folder_id,\n",
        "    recursive=False,\n",
        "    num_results=2,  # Maximum number of file to load\n",
        ")"
      ]
    },
    {
      "cell_type": "markdown",
      "id": "ebac43aa-dd64-4964-802a-a90172415fd1",
      "metadata": {},
      "source": [
        "默认情况下，所有具有这些mime 类型的文件都可以转换为 `Document`。\n- text/text\n- text/plain\n- text/html\n- text/csv\n- text/markdown\n- image/png\n- image/jpeg\n- application/epub+zip\n- application/pdf\n- application/rtf\n- application/vnd.google-apps.document (GDoc)\n- application/vnd.google-apps.presentation (GSlide)\n- application/vnd.google-apps.spreadsheet (GSheet)\n- application/vnd.google.colaboratory (Notebook colab)\n- application/vnd.openxmlformats-officedocument.presentationml.presentation (PPTX)\n- application/vnd.openxmlformats-officedocument.wordprocessingml.document (DOCX)\n\n可以更新或自定义此设置。请参阅 `GDriveLoader` 的文档。\n\n但必须安装相应的包。"
      ]
    },
    {
      "cell_type": "code",
      "execution_count": null,
      "id": "b4560f35-a37d-44e2-be0b-adaa245b3b3d",
      "metadata": {},
      "outputs": [],
      "source": [
        "%pip install --upgrade --quiet  unstructured"
      ]
    },
    {
      "cell_type": "code",
      "execution_count": null,
      "id": "6cb08da3-27df-46de-b60e-583bb7e31af4",
      "metadata": {},
      "outputs": [],
      "source": [
        "for doc in loader.load():\n",
        "    print(\"---\")\n",
        "    print(doc.page_content.strip()[:60] + \"...\")"
      ]
    },
    {
      "cell_type": "markdown",
      "id": "7bde486a",
      "metadata": {},
      "source": [
        "### 加载授权身份\n\nGoogle Drive Loader 摄取的每个文件的授权身份都可以与每个 Document 的元数据一起加载。"
      ]
    },
    {
      "cell_type": "code",
      "execution_count": null,
      "id": "e1d91045",
      "metadata": {},
      "outputs": [],
      "source": [
        "from langchain_google_community import GoogleDriveLoader\n",
        "\n",
        "loader = GoogleDriveLoader(\n",
        "    folder_id=folder_id,\n",
        "    load_auth=True,\n",
        "    # Optional: configure whether to load authorized identities for each Document.\n",
        ")\n",
        "\n",
        "doc = loader.load()"
      ]
    },
    {
      "cell_type": "markdown",
      "id": "83557b75",
      "metadata": {},
      "source": [
        "您可以传递 `load_auth=True`，将 Google Drive 文档访问身份添加到元数据中。"
      ]
    },
    {
      "cell_type": "code",
      "execution_count": null,
      "id": "7ac1a43b",
      "metadata": {},
      "outputs": [],
      "source": [
        "doc[0].metadata"
      ]
    },
    {
      "cell_type": "markdown",
      "id": "5ae0a525",
      "metadata": {},
      "source": [
        "### 加载扩展元数据\n以下额外字段也可以在每个 Document 的元数据中获取：\n- full_path - 文件在 Google Drive 中的完整路径。\n- owner - 文件所有者。\n- size - 文件大小。"
      ]
    },
    {
      "cell_type": "code",
      "execution_count": null,
      "id": "6c0db38c",
      "metadata": {},
      "outputs": [],
      "source": [
        "from langchain_google_community import GoogleDriveLoader\n",
        "\n",
        "loader = GoogleDriveLoader(\n",
        "    folder_id=folder_id,\n",
        "    load_extended_matadata=True,\n",
        "    # Optional: configure whether to load extended metadata for each Document.\n",
        ")\n",
        "\n",
        "doc = loader.load()"
      ]
    },
    {
      "cell_type": "markdown",
      "id": "826d88a7",
      "metadata": {},
      "source": [
        "您可以传递 `load_extended_matadata=True` 来为元数据添加 Google Drive 文档的扩展详细信息。"
      ]
    },
    {
      "cell_type": "code",
      "execution_count": null,
      "id": "fdaf04e4",
      "metadata": {},
      "outputs": [],
      "source": [
        "doc[0].metadata"
      ]
    },
    {
      "cell_type": "markdown",
      "id": "cd13d7d1-db7a-498d-ac98-76ccd9ad9019",
      "metadata": {},
      "source": [
        "### 自定义搜索模式\n\n所有与 Google [`list()`](https://developers.google.com/drive/api/v3/reference/files/list) API 兼容的参数都可以设置。\n\n要指定 Google 请求的新模式，您可以使用 `PromptTemplate()`。\n提示的变量可以在构造函数中使用 `kwargs` 设置。\n提供了一些预格式化的请求（使用 `{query}`、`{folder_id}` 和/或 `{mime_type}`）：\n\n您可以自定义用于选择文件的条件。提供了一组预定义的过滤器：\n\n| template                               | description                                                           |\n| -------------------------------------- | --------------------------------------------------------------------- |\n| gdrive-all-in-folder                   | 从 `folder_id` 返回所有兼容文件                                        |\n| gdrive-query                           | 在所有驱动器中搜索 `query`                                            |\n| gdrive-by-name                         | 按名称搜索文件 `query`                                                |\n| gdrive-query-in-folder                 | 在 `folder_id` 中搜索 `query`（如果 `recursive=true`，则包括子文件夹） |\n| gdrive-mime-type                       | 搜索特定的 `mime_type`                                                |\n| gdrive-mime-type-in-folder             | 在 `folder_id` 中搜索特定的 `mime_type`                               |\n| gdrive-query-with-mime-type            | 使用特定的 `mime_type` 搜索 `query`                                   |\n| gdrive-query-with-mime-type-and-folder | 使用特定的 `mime_type` 在 `folder_id` 中搜索 `query`                  |"
      ]
    },
    {
      "cell_type": "code",
      "execution_count": null,
      "id": "81348d59-8fd6-45d4-9de3-5df5cff5c7e2",
      "metadata": {},
      "outputs": [],
      "source": [
        "loader = GoogleDriveLoader(\n",
        "    folder_id=folder_id,\n",
        "    recursive=False,\n",
        "    template=\"gdrive-query\",  # Default template to use\n",
        "    query=\"machine learning\",\n",
        "    num_results=2,  # Maximum number of file to load\n",
        "    supportsAllDrives=False,  # GDrive `list()` parameter\n",
        ")\n",
        "for doc in loader.load():\n",
        "    print(\"---\")\n",
        "    print(doc.page_content.strip()[:60] + \"...\")"
      ]
    },
    {
      "cell_type": "markdown",
      "id": "46c6ba5b-d4b1-4f0f-9801-5c1314021605",
      "metadata": {},
      "source": [
        "您可以自定义您的模式。"
      ]
    },
    {
      "cell_type": "code",
      "execution_count": null,
      "id": "5a5a323b-8d96-46b7-b46a-fd69bd2c8e04",
      "metadata": {},
      "outputs": [],
      "source": [
        "from langchain_core.prompts.prompt import PromptTemplate\n",
        "\n",
        "loader = GoogleDriveLoader(\n",
        "    folder_id=folder_id,\n",
        "    recursive=False,\n",
        "    template=PromptTemplate(\n",
        "        input_variables=[\"query\", \"query_name\"],\n",
        "        template=\"fullText contains '{query}' and name contains '{query_name}' and trashed=false\",\n",
        "    ),  # Default template to use\n",
        "    query=\"machine learning\",\n",
        "    query_name=\"ML\",\n",
        "    num_results=2,  # Maximum number of file to load\n",
        ")\n",
        "for doc in loader.load():\n",
        "    print(\"---\")\n",
        "    print(doc.page_content.strip()[:60] + \"...\")"
      ]
    },
    {
      "cell_type": "markdown",
      "id": "375bb465-8f69-407b-94bd-ffa3718ef500",
      "metadata": {},
      "source": [
        "转换可以在 Markdown 格式中管理：\n- 项目符号\n- 链接\n- 表格\n- 标题\n\n将属性 `return_link` 设置为 `True` 以导出链接。\n\n#### GSlide 和 GSheet 的模式\n`mode` 参数接受不同的值：\n\n- \"document\"：返回每个文档的正文\n- \"snippets\"：返回每个文件的描述（在 Google Drive 文件元数据中设置）。\n\n\n`gslide_mode` 参数接受不同的值：\n\n- \"single\"：一个文档，包含 `<PAGE BREAK>`\n- \"slide\"：每个幻灯片一个文档\n- \"elements\"：每个元素一个文档。"
      ]
    },
    {
      "cell_type": "code",
      "execution_count": null,
      "id": "7493d7b0-0600-49af-8107-7f4597c92de7",
      "metadata": {},
      "outputs": [],
      "source": [
        "loader = GoogleDriveLoader(\n",
        "    template=\"gdrive-mime-type\",\n",
        "    mime_type=\"application/vnd.google-apps.presentation\",  # Only GSlide files\n",
        "    gslide_mode=\"slide\",\n",
        "    num_results=2,  # Maximum number of file to load\n",
        ")\n",
        "for doc in loader.load():\n",
        "    print(\"---\")\n",
        "    print(doc.page_content.strip()[:60] + \"...\")"
      ]
    },
    {
      "cell_type": "markdown",
      "id": "9bf338fb-02d7-452f-8679-c50419b13464",
      "metadata": {},
      "source": [
        "`gsheet_mode` 参数接受不同的值：\n\n- `\"single\"`：为每一行生成一个文档\n- `\"elements\"`：生成一个包含 markdown 数组以及 `<PAGE BREAK>` 标签的文档。"
      ]
    },
    {
      "cell_type": "code",
      "execution_count": null,
      "id": "469f5af0-67db-4f15-8aee-88cde480729b",
      "metadata": {},
      "outputs": [],
      "source": [
        "loader = GoogleDriveLoader(\n",
        "    template=\"gdrive-mime-type\",\n",
        "    mime_type=\"application/vnd.google-apps.spreadsheet\",  # Only GSheet files\n",
        "    gsheet_mode=\"elements\",\n",
        "    num_results=2,  # Maximum number of file to load\n",
        ")\n",
        "for doc in loader.load():\n",
        "    print(\"---\")\n",
        "    print(doc.page_content.strip()[:60] + \"...\")"
      ]
    },
    {
      "cell_type": "markdown",
      "id": "09acb864-e919-4add-9e06-deba6f7f0cd8",
      "metadata": {},
      "source": [
        "### 高级用法\n所有 Google 文件在元数据中都有一个 `description` 字段。此字段可用于存储文档摘要或其他索引标签（请参阅 `lazy_update_description_with_summary()` 方法）。\n\n如果使用 `mode=\"snippet\"`，则仅使用 description 作为正文。否则，将使用 `metadata['summary']` 字段。\n\n有时，可以使用特定的过滤器从文件名中提取信息，以根据特定标准选择某些文件。您可以使用过滤器。\n\n有时会返回许多文档。不必同时将所有文档保留在内存中。您可以使用方法的惰性版本，一次获取一个文档。最好使用复杂的查询而不是递归搜索。对于每个文件夹，如果启用了 `recursive=True`，则必须应用查询。"
      ]
    },
    {
      "cell_type": "code",
      "execution_count": null,
      "id": "a5e9c8eb-a266-4ae6-a760-d7826a0aa7c5",
      "metadata": {},
      "outputs": [],
      "source": [
        "import os\n",
        "\n",
        "loader = GoogleDriveLoader(\n",
        "    gdrive_api_file=os.environ[\"GOOGLE_ACCOUNT_FILE\"],\n",
        "    num_results=2,\n",
        "    template=\"gdrive-query\",\n",
        "    filter=lambda search, file: \"#test\" not in file.get(\"description\", \"\"),\n",
        "    query=\"machine learning\",\n",
        "    supportsAllDrives=False,\n",
        ")\n",
        "for doc in loader.load():\n",
        "    print(\"---\")\n",
        "    print(doc.page_content.strip()[:60] + \"...\")"
      ]
    }
  ],
  "metadata": {
    "kernelspec": {
      "display_name": "Python 3 (ipykernel)",
      "language": "python",
      "name": "python3"
    },
    "language_info": {
      "codemirror_mode": {
        "name": "ipython",
        "version": 3
      },
      "file_extension": ".py",
      "mimetype": "text/x-python",
      "name": "python",
      "nbconvert_exporter": "python",
      "pygments_lexer": "ipython3",
      "version": "3.11.5"
    }
  },
  "nbformat": 4,
  "nbformat_minor": 5
}