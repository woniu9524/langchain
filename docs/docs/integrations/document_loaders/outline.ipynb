{
  "cells": [
    {
      "cell_type": "markdown",
      "metadata": {},
      "source": [
        "# Outline 文档加载器\n\n>[Outline](https://www.getoutline.com/) 是一个开源协作知识库平台，专为团队信息共享而设计。\n\n本 Notebook 展示了如何从你的 Outline 集合中获取 Langchain 文档。"
      ]
    },
    {
      "cell_type": "markdown",
      "metadata": {},
      "source": [
        "## 概览\n[Outline Document Loader](https://github.com/10Pines/langchain-outline) 可用于将 Outline collections 加载为 LangChain Documents，以便集成到检索增强生成 (RAG) 工作流中。\n\n本示例演示了：\n\n* 设置一个 Document Loader 以加载来自 Outline 实例的所有文档。"
      ]
    },
    {
      "cell_type": "markdown",
      "metadata": {},
      "source": [
        "### 设置\n开始之前，请确保已设置以下环境变量：\n\n* OUTLINE_API_KEY：用于向你的 Outline 实例进行身份验证的 API 密钥 (https://www.getoutline.com/developers#section/Authentication)。\n* OUTLINE_INSTANCE_URL：你的 Outline 实例的 URL（包含协议）。"
      ]
    },
    {
      "cell_type": "code",
      "execution_count": null,
      "metadata": {},
      "outputs": [],
      "source": [
        "import os\n",
        "\n",
        "os.environ[\"OUTLINE_API_KEY\"] = \"ol_api_xyz123\"\n",
        "os.environ[\"OUTLINE_INSTANCE_URL\"] = \"https://app.getoutline.com\""
      ]
    },
    {
      "cell_type": "markdown",
      "metadata": {},
      "source": [
        "## 初始化\n要初始化 OutlineLoader，你需要以下参数：\n\n* outline_base_url：你的 Outline 实例的 URL（或者将从环境变量中获取）。\n* outline_api_key：用于认证你的 Outline 实例的 API 密钥（或者将从环境变量中获取）。\n* outline_collection_id_list：要检索的 collection ID 列表。如果为 None，将检索所有 collection。\n* page_size：由于 Outline API 使用分页结果，你可以配置每次 API 请求检索多少个结果（文档）。如果未指定此项，将使用默认值。"
      ]
    },
    {
      "cell_type": "markdown",
      "metadata": {},
      "source": [
        "## 实例化"
      ]
    },
    {
      "cell_type": "code",
      "execution_count": null,
      "metadata": {},
      "outputs": [],
      "source": [
        "# Option 1: Using environment variables (ensure they are set)\n",
        "from langchain_outline.document_loaders.outline import OutlineLoader\n",
        "\n",
        "loader = OutlineLoader()\n",
        "\n",
        "# Option 2: Passing parameters directly\n",
        "loader = OutlineLoader(\n",
        "    outline_base_url=\"YOUR_OUTLINE_URL\", outline_api_key=\"YOUR_API_KEY\"\n",
        ")"
      ]
    },
    {
      "cell_type": "markdown",
      "metadata": {},
      "source": [
        "## 加载\n加载并返回 Outline 实例中所有可用的文档。"
      ]
    },
    {
      "cell_type": "code",
      "execution_count": null,
      "metadata": {},
      "outputs": [],
      "source": [
        "loader.load()"
      ]
    },
    {
      "cell_type": "markdown",
      "metadata": {},
      "source": [
        "## 惰性加载\n`lazy_load` 方法允许你从 Outline 集合中迭代地加载文档，在获取到每个文档时将其返回："
      ]
    },
    {
      "cell_type": "code",
      "execution_count": null,
      "metadata": {},
      "outputs": [],
      "source": [
        "loader.lazy_load()"
      ]
    },
    {
      "cell_type": "markdown",
      "metadata": {},
      "source": [
        "## API 参考\n\n有关 `Outline` 所有功能和配置的详细文档，请参阅 API 参考：https://www.getoutline.com/developers"
      ]
    }
  ],
  "metadata": {
    "kernelspec": {
      "display_name": ".venv",
      "language": "python",
      "name": "python3"
    },
    "language_info": {
      "codemirror_mode": {
        "name": "ipython",
        "version": 3
      },
      "file_extension": ".py",
      "mimetype": "text/x-python",
      "name": "python",
      "nbconvert_exporter": "python",
      "pygments_lexer": "ipython3",
      "version": "3.11.9"
    }
  },
  "nbformat": 4,
  "nbformat_minor": 2
}