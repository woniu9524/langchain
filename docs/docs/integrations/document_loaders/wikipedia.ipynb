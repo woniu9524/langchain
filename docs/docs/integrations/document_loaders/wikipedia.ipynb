{
  "cells": [
    {
      "cell_type": "markdown",
      "id": "bda1f3f5",
      "metadata": {},
      "source": [
        "# Wikipedia\n\n>[Wikipedia](https://wikipedia.org/) 是一个多语言的免费在线百科全书，由称为维基百科人的志愿者社区通过开放协作编写和维护，并使用名为 MediaWiki 的维基式编辑系统。`Wikipedia` 是历史上最大、阅读量最多的参考资料。\n\n本 Notebook 展示了如何将 `wikipedia.org` 的维基百科页面加载到我们下游使用的 Document 格式中。"
      ]
    },
    {
      "cell_type": "markdown",
      "id": "1b7a1eef-7bf7-4e7d-8bfc-c4e27c9488cb",
      "metadata": {},
      "source": [
        "## Installation\n\n首先，你需要安装 `langchain_community` 和 `wikipedia` 这两个包。"
      ]
    },
    {
      "cell_type": "code",
      "execution_count": null,
      "id": "b674aaea-ed3a-4541-8414-260a8f67f623",
      "metadata": {
        "tags": []
      },
      "outputs": [],
      "source": [
        "%pip install -qU langchain_community wikipedia"
      ]
    },
    {
      "cell_type": "markdown",
      "id": "98342290",
      "metadata": {},
      "source": [
        "## 参数\n\n`WikipediaLoader` 具有以下参数：\n- `query`: 用于在 Wikipedia 中查找文档的自由文本\n- `lang` (可选): 默认=\"en\"。用于搜索特定语言的 Wikipedia\n- `load_max_docs` (可选): 默认=100。用于限制下载文档的数量。下载所有 100 个文档需要时间，因此请在实验中使用较小的数字。目前硬性限制为 300 个。\n- `load_all_available_meta` (可选): 默认=False。默认情况下，只下载最重要的字段：`title` 和 `summary`。如果设置为 `True`，则会下载所有可用的字段。\n- `doc_content_chars_max` (可选): 默认=4000。文档内容的最大字符数。"
      ]
    },
    {
      "cell_type": "markdown",
      "id": "95f05e1c-195e-4e2b-ae8e-8d6637f15be6",
      "metadata": {},
      "source": [
        "## 示例"
      ]
    },
    {
      "cell_type": "code",
      "execution_count": 1,
      "id": "9bfd5e46",
      "metadata": {},
      "outputs": [],
      "source": [
        "from langchain_community.document_loaders import WikipediaLoader"
      ]
    },
    {
      "cell_type": "code",
      "execution_count": 2,
      "id": "700e4ef2",
      "metadata": {},
      "outputs": [
        {
          "data": {
            "text/plain": [
              "2"
            ]
          },
          "execution_count": 2,
          "metadata": {},
          "output_type": "execute_result"
        }
      ],
      "source": [
        "docs = WikipediaLoader(query=\"HUNTER X HUNTER\", load_max_docs=2).load()\n",
        "len(docs)"
      ]
    },
    {
      "cell_type": "code",
      "execution_count": 3,
      "id": "8977bac0-0042-4f23-9754-247dbd32439b",
      "metadata": {
        "tags": []
      },
      "outputs": [
        {
          "data": {
            "text/plain": [
              "{'title': 'Hunter × Hunter',\n",
              " 'summary': 'Hunter × Hunter (pronounced \"hunter hunter\") is a Japanese manga series written and illustrated by Yoshihiro Togashi. It has been serialized in Shueisha\\'s shōnen manga magazine Weekly Shōnen Jump since March 1998, although the manga has frequently gone on extended hiatuses since 2006. Its chapters have been collected in 37 tankōbon volumes as of November 2022. The story focuses on a young boy named Gon Freecss who discovers that his father, who left him at a young age, is actually a world-renowned Hunter, a licensed professional who specializes in fantastical pursuits such as locating rare or unidentified animal species, treasure hunting, surveying unexplored enclaves, or hunting down lawless individuals. Gon departs on a journey to become a Hunter and eventually find his father. Along the way, Gon meets various other Hunters and encounters the paranormal.\\nHunter × Hunter was adapted into a 62-episode anime television series by Nippon Animation and directed by Kazuhiro Furuhashi, which ran on Fuji Television from October 1999 to March 2001. Three separate original video animations (OVAs) totaling 30 episodes were subsequently produced by Nippon Animation and released in Japan from 2002 to 2004. A second anime television series by Madhouse aired on Nippon Television from October 2011 to September 2014, totaling 148 episodes, with two animated theatrical films released in 2013. There are also numerous audio albums, video games, musicals, and other media based on Hunter × Hunter.\\nThe manga has been licensed for English release in North America by Viz Media since April 2005. Both television series have been also licensed by Viz Media, with the first series having aired on the Funimation Channel in 2009 and the second series broadcast on Adult Swim\\'s Toonami programming block from April 2016 to June 2019.\\nHunter × Hunter has been a huge critical and financial success and has become one of the best-selling manga series of all time, having over 84 million copies in circulation by July 2022.',\n",
              " 'source': 'https://en.wikipedia.org/wiki/Hunter_%C3%97_Hunter'}"
            ]
          },
          "execution_count": 3,
          "metadata": {},
          "output_type": "execute_result"
        }
      ],
      "source": [
        "docs[0].metadata  # metadata of the first document"
      ]
    },
    {
      "cell_type": "code",
      "execution_count": 4,
      "id": "46969806-45a9-4c4d-a61b-cfb9658fc9de",
      "metadata": {
        "tags": []
      },
      "outputs": [
        {
          "data": {
            "text/plain": [
              "'Hunter × Hunter (pronounced \"hunter hunter\") is a Japanese manga series written and illustrated by Yoshihiro Togashi. It has been serialized in Shueisha\\'s shōnen manga magazine Weekly Shōnen Jump since March 1998, although the manga has frequently gone on extended hiatuses since 2006. Its chapters have been collected in 37 tankōbon volumes as of November 2022. The story focuses on a young boy name'"
            ]
          },
          "execution_count": 4,
          "metadata": {},
          "output_type": "execute_result"
        }
      ],
      "source": [
        "docs[0].page_content[:400]  # a part of the page content"
      ]
    }
  ],
  "metadata": {
    "kernelspec": {
      "display_name": "Python 3 (ipykernel)",
      "language": "python",
      "name": "python3"
    },
    "language_info": {
      "codemirror_mode": {
        "name": "ipython",
        "version": 3
      },
      "file_extension": ".py",
      "mimetype": "text/x-python",
      "name": "python",
      "nbconvert_exporter": "python",
      "pygments_lexer": "ipython3",
      "version": "3.11.9"
    }
  },
  "nbformat": 4,
  "nbformat_minor": 5
}