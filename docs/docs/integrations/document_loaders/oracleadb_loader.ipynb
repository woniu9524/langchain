{
  "cells": [
    {
      "cell_type": "markdown",
      "source": [
        "# Oracle Autonomous Database\n\nOracle autonomous database 是一个云数据库，它利用机器学习来自动执行数据库调优、安全、备份、更新以及传统上由 DBA 执行的其他常规管理任务。\n\n本笔记本介绍了如何从 oracle autonomous database 加载文档，该加载器支持使用连接字符串或 tns 配置进行连接。\n\n## 先决条件\n1. 数据库以“Thin”模式运行：\n   https://python-oracledb.readthedocs.io/en/latest/user_guide/appendix_b.html\n2. `pip install oracledb`:\n   https://python-oracledb.readthedocs.io/en/latest/user_guide/installation.html"
      ],
      "metadata": {
        "collapsed": false
      }
    },
    {
      "cell_type": "markdown",
      "source": [
        "## 说明"
      ],
      "metadata": {
        "collapsed": false
      }
    },
    {
      "cell_type": "code",
      "execution_count": null,
      "outputs": [],
      "source": [
        "pip install oracledb"
      ],
      "metadata": {
        "collapsed": false
      }
    },
    {
      "cell_type": "code",
      "execution_count": null,
      "outputs": [],
      "source": [
        "from langchain_community.document_loaders import OracleAutonomousDatabaseLoader\n",
        "from settings import s"
      ],
      "metadata": {
        "collapsed": false
      }
    },
    {
      "cell_type": "markdown",
      "source": [
        "使用 mTLS（mutual TLS 身份验证），需要 wallet_location 和 wallet_password 来创建连接。用户可以通过提供连接字符串或 TNS 配置详细信息来创建连接。"
      ],
      "metadata": {
        "collapsed": false
      }
    },
    {
      "cell_type": "code",
      "execution_count": null,
      "outputs": [],
      "source": [
        "SQL_QUERY = \"select prod_id, time_id from sh.costs fetch first 5 rows only\"\n",
        "\n",
        "doc_loader_1 = OracleAutonomousDatabaseLoader(\n",
        "    query=SQL_QUERY,\n",
        "    user=s.USERNAME,\n",
        "    password=s.PASSWORD,\n",
        "    schema=s.SCHEMA,\n",
        "    config_dir=s.CONFIG_DIR,\n",
        "    wallet_location=s.WALLET_LOCATION,\n",
        "    wallet_password=s.PASSWORD,\n",
        "    tns_name=s.TNS_NAME,\n",
        ")\n",
        "doc_1 = doc_loader_1.load()\n",
        "\n",
        "doc_loader_2 = OracleAutonomousDatabaseLoader(\n",
        "    query=SQL_QUERY,\n",
        "    user=s.USERNAME,\n",
        "    password=s.PASSWORD,\n",
        "    schema=s.SCHEMA,\n",
        "    connection_string=s.CONNECTION_STRING,\n",
        "    wallet_location=s.WALLET_LOCATION,\n",
        "    wallet_password=s.PASSWORD,\n",
        ")\n",
        "doc_2 = doc_loader_2.load()"
      ],
      "metadata": {
        "collapsed": false
      }
    },
    {
      "cell_type": "markdown",
      "source": [
        "使用 TLS 身份验证时，不需要 wallet_location 和 wallet_password。\nBind variable 选项通过参数 \"parameters\" 提供。"
      ],
      "metadata": {
        "collapsed": false
      }
    },
    {
      "cell_type": "code",
      "execution_count": null,
      "outputs": [],
      "source": [
        "SQL_QUERY = \"select channel_id, channel_desc from sh.channels where channel_desc = :1 fetch first 5 rows only\"\n",
        "\n",
        "doc_loader_3 = OracleAutonomousDatabaseLoader(\n",
        "    query=SQL_QUERY,\n",
        "    user=s.USERNAME,\n",
        "    password=s.PASSWORD,\n",
        "    schema=s.SCHEMA,\n",
        "    config_dir=s.CONFIG_DIR,\n",
        "    tns_name=s.TNS_NAME,\n",
        "    parameters=[\"Direct Sales\"],\n",
        ")\n",
        "doc_3 = doc_loader_3.load()\n",
        "\n",
        "doc_loader_4 = OracleAutonomousDatabaseLoader(\n",
        "    query=SQL_QUERY,\n",
        "    user=s.USERNAME,\n",
        "    password=s.PASSWORD,\n",
        "    schema=s.SCHEMA,\n",
        "    connection_string=s.CONNECTION_STRING,\n",
        "    parameters=[\"Direct Sales\"],\n",
        ")\n",
        "doc_4 = doc_loader_4.load()"
      ],
      "metadata": {
        "collapsed": false
      }
    }
  ],
  "metadata": {
    "kernelspec": {
      "display_name": "Python 3",
      "language": "python",
      "name": "python3"
    },
    "language_info": {
      "codemirror_mode": {
        "name": "ipython",
        "version": 2
      },
      "file_extension": ".py",
      "mimetype": "text/x-python",
      "name": "python",
      "nbconvert_exporter": "python",
      "pygments_lexer": "ipython2",
      "version": "2.7.6"
    }
  },
  "nbformat": 4,
  "nbformat_minor": 0
}