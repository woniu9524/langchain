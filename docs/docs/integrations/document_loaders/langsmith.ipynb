{
  "cells": [
    {
      "cell_type": "raw",
      "metadata": {},
      "source": [
        "---\n",
        "sidebar_label: LangSmith\n",
        "---"
      ]
    },
    {
      "cell_type": "markdown",
      "metadata": {},
      "source": [
        "# LangSmithLoader\n\n本笔记本提供了 LangSmith [文档加载器](https://python.langchain.com/docs/concepts/document_loaders) 入门快速概述。有关 LangSmithLoader 所有功能和配置的详细文档，请参阅 [API 参考](https://python.langchain.com/api_reference/core/document_loaders/langchain_core.document_loaders.langsmith.LangSmithLoader.html)。\n\n## 概述\n### 集成详情\n\n| 类 | 包 | 本地 | 可序列化 | JS 支持|\n| :--- | :--- | :---: | :---: |  :---: |\n| [LangSmithLoader](https://python.langchain.com/api_reference/core/document_loaders/langchain_core.document_loaders.langsmith.LangSmithLoader.html) | [langchain-core](https://python.langchain.com/api_reference/core/index.html) | ❌ | ❌ | ❌ | \n\n### 加载器特性\n| 数据源 | 延迟加载 | 原生异步\n| :---: | :---: | :---: | \n| LangSmithLoader | ✅ | ❌ | \n\n## 设置\n\n要访问 LangSmith 文档加载器，您需要安装 `langchain-core`，创建一个 [LangSmith](https://langsmith.com) 帐户并获取 API 密钥。\n\n### 凭证\n\n在 https://langsmith.com 注册并生成一个 API 密钥。完成此操作后，设置 LANGSMITH_API_KEY 环境变量："
      ]
    },
    {
      "cell_type": "code",
      "execution_count": null,
      "metadata": {},
      "outputs": [],
      "source": [
        "import getpass\n",
        "import os\n",
        "\n",
        "if not os.environ.get(\"LANGSMITH_API_KEY\"):\n",
        "    os.environ[\"LANGSMITH_API_KEY\"] = getpass.getpass(\"Enter your LangSmith API key: \")"
      ]
    },
    {
      "cell_type": "markdown",
      "metadata": {},
      "source": [
        "如果你想获得自动化的最佳追踪功能，还可以开启 LangSmith 追踪："
      ]
    },
    {
      "cell_type": "code",
      "execution_count": 1,
      "metadata": {},
      "outputs": [],
      "source": [
        "# os.environ[\"LANGSMITH_TRACING\"] = \"true\""
      ]
    },
    {
      "cell_type": "markdown",
      "metadata": {},
      "source": [
        "### 安装\n\n安装 `langchain-core`："
      ]
    },
    {
      "cell_type": "code",
      "execution_count": null,
      "metadata": {},
      "outputs": [],
      "source": [
        "%pip install -qU langchain-core"
      ]
    },
    {
      "cell_type": "markdown",
      "metadata": {},
      "source": [
        "### 克隆示例数据集\n\n在此示例中，我们将克隆并加载一个公开的 LangSmith 数据集。克隆会在您的 LangSmith 账户上创建该数据集的副本。您只能加载您拥有个人副本的数据集。"
      ]
    },
    {
      "cell_type": "code",
      "execution_count": 10,
      "metadata": {},
      "outputs": [],
      "source": [
        "from langsmith import Client as LangSmithClient\n",
        "\n",
        "ls_client = LangSmithClient()\n",
        "\n",
        "dataset_name = \"LangSmith Few Shot Datasets Notebook\"\n",
        "dataset_public_url = (\n",
        "    \"https://smith.langchain.com/public/55658626-124a-4223-af45-07fb774a6212/d\"\n",
        ")\n",
        "\n",
        "ls_client.clone_public_dataset(dataset_public_url)"
      ]
    },
    {
      "cell_type": "markdown",
      "metadata": {},
      "source": [
        "## 初始化\n\n现在我们可以实例化文档加载器并加载文档了："
      ]
    },
    {
      "cell_type": "code",
      "execution_count": 11,
      "metadata": {},
      "outputs": [],
      "source": [
        "from langchain_core.document_loaders import LangSmithLoader\n",
        "\n",
        "loader = LangSmithLoader(\n",
        "    dataset_name=dataset_name,\n",
        "    content_key=\"question\",\n",
        "    limit=50,\n",
        "    # format_content=...,\n",
        "    # ...\n",
        ")"
      ]
    },
    {
      "cell_type": "markdown",
      "metadata": {},
      "source": [
        "## 加载"
      ]
    },
    {
      "cell_type": "code",
      "execution_count": 12,
      "metadata": {},
      "outputs": [
        {
          "name": "stdout",
          "output_type": "stream",
          "text": [
            "Show me an example using Weaviate, but customizing the vectorStoreRetriever to return the top 10 k nearest neighbors. \n"
          ]
        }
      ],
      "source": [
        "docs = loader.load()\n",
        "print(docs[0].page_content)"
      ]
    },
    {
      "cell_type": "code",
      "execution_count": 15,
      "metadata": {},
      "outputs": [
        {
          "name": "stdout",
          "output_type": "stream",
          "text": [
            "{'question': 'Show me an example using Weaviate, but customizing the vectorStoreRetriever to return the top 10 k nearest neighbors. '}\n"
          ]
        }
      ],
      "source": [
        "print(docs[0].metadata[\"inputs\"])"
      ]
    },
    {
      "cell_type": "code",
      "execution_count": 16,
      "metadata": {},
      "outputs": [
        {
          "name": "stdout",
          "output_type": "stream",
          "text": [
            "{'answer': 'To customize the Weaviate client and return the top 10 k nearest neighbors, you can utilize the `as_retriever` method with the appropriate parameters. Here\\'s how you can achieve this:\\n\\n```python\\n# Assuming you have imported the necessary modules and classes\\n\\n# Create the Weaviate client\\nclient = weaviate.Client(url=os.environ[\"WEAVIATE_URL\"], ...)\\n\\n# Initialize the Weaviate wrapper\\nweaviate = Weaviate(client, index_name, text_key)\\n\\n# Customize the client to return top 10 k nearest neighbors using as_retriever\\ncustom_retriever = weaviate.as_retriever(\\n    search_type=\"similarity\",\\n    search_kwargs={\\n        \\'k\\': 10  # Customize the value of k as needed\\n    }\\n)\\n\\n# Now you can use the custom_retriever to perform searches\\nresults = custom_retriever.search(query, ...)\\n```'}\n"
          ]
        }
      ],
      "source": [
        "print(docs[0].metadata[\"outputs\"])"
      ]
    },
    {
      "cell_type": "code",
      "execution_count": 19,
      "metadata": {},
      "outputs": [
        {
          "data": {
            "text/plain": [
              "['dataset_id',\n",
              " 'inputs',\n",
              " 'outputs',\n",
              " 'metadata',\n",
              " 'id',\n",
              " 'created_at',\n",
              " 'modified_at',\n",
              " 'runs',\n",
              " 'source_run_id']"
            ]
          },
          "execution_count": 19,
          "metadata": {},
          "output_type": "execute_result"
        }
      ],
      "source": [
        "list(docs[0].metadata.keys())"
      ]
    },
    {
      "cell_type": "markdown",
      "metadata": {},
      "source": [
        "## 懒加载"
      ]
    },
    {
      "cell_type": "code",
      "execution_count": 20,
      "metadata": {},
      "outputs": [
        {
          "data": {
            "text/plain": [
              "10"
            ]
          },
          "execution_count": 20,
          "metadata": {},
          "output_type": "execute_result"
        }
      ],
      "source": [
        "page = []\n",
        "for doc in loader.lazy_load():\n",
        "    page.append(doc)\n",
        "    if len(page) >= 10:\n",
        "        # do some paged operation, e.g.\n",
        "        # index.upsert(page)\n",
        "        # page = []\n",
        "        break\n",
        "len(page)"
      ]
    },
    {
      "cell_type": "markdown",
      "metadata": {},
      "source": [
        "## API 参考\n\n有关 LangSmithLoader 所有功能和配置的详细文档，请参阅 API 参考：https://python.langchain.com/api_reference/core/document_loaders/langchain_core.document_loaders.langsmith.LangSmithLoader.html"
      ]
    }
  ],
  "metadata": {
    "kernelspec": {
      "display_name": "poetry-venv-311",
      "language": "python",
      "name": "poetry-venv-311"
    },
    "language_info": {
      "codemirror_mode": {
        "name": "ipython",
        "version": 3
      },
      "file_extension": ".py",
      "mimetype": "text/x-python",
      "name": "python",
      "nbconvert_exporter": "python",
      "pygments_lexer": "ipython3",
      "version": "3.11.9"
    }
  },
  "nbformat": 4,
  "nbformat_minor": 4
}