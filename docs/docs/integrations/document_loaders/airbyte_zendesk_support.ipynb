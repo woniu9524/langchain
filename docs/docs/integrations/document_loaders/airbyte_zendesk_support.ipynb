{
  "cells": [
    {
      "cell_type": "raw",
      "id": "41200199",
      "metadata": {},
      "source": [
        "---\n",
        "sidebar_class_name: hidden\n",
        "---"
      ]
    },
    {
      "cell_type": "markdown",
      "id": "1f3a5ebf",
      "metadata": {},
      "source": [
        "# Airbyte Zendesk Support (已弃用)"
      ]
    },
    {
      "cell_type": "markdown",
      "id": "35ac77b1-449b-44f7-b8f3-3494d55c286e",
      "metadata": {},
      "source": [
        "注意：此连接器专用加载器已弃用。请使用 [`AirbyteLoader`](/docs/integrations/document_loaders/airbyte) 代替。\n\n>[Airbyte](https://github.com/airbytehq/airbyte) 是一个数据集成平台，用于从 API、数据库和文件到数据仓库和数据湖的 ELT 管道。它拥有最大的已连接到数据仓库和数据库的 ELT 连接器目录。\n\n此加载器将 Zendesk Support 连接器公开为文档加载器，允许您将各种对象加载为文档。"
      ]
    },
    {
      "cell_type": "markdown",
      "id": "6847a40c",
      "metadata": {},
      "source": []
    },
    {
      "cell_type": "markdown",
      "id": "3b06fbde",
      "metadata": {},
      "source": [
        "## 安装"
      ]
    },
    {
      "cell_type": "markdown",
      "id": "e3e9dc79",
      "metadata": {},
      "source": [
        "首先，你需要安装 `airbyte-source-zendesk-support` python 包。"
      ]
    },
    {
      "cell_type": "code",
      "execution_count": null,
      "id": "4d35e4e0",
      "metadata": {},
      "outputs": [],
      "source": [
        "%pip install --upgrade --quiet  airbyte-source-zendesk-support"
      ]
    },
    {
      "cell_type": "markdown",
      "id": "ae855210",
      "metadata": {},
      "source": [
        "## 示例"
      ]
    },
    {
      "cell_type": "markdown",
      "id": "02208f52",
      "metadata": {},
      "source": [
        "有关如何配置读取器的详细信息，请查看 [Airbyte 文档页面](https://docs.airbyte.com/integrations/sources/zendesk-support/)。\n配置对象应遵循的 JSON 模式可在 Github 上找到：[https://github.com/airbytehq/airbyte/blob/master/airbyte-integrations/connectors/source-zendesk-support/source_zendesk_support/spec.json](https://github.com/airbytehq/airbyte/blob/master/airbyte-integrations/connectors/source-zendesk-support/source_zendesk_support/spec.json)。\n\n大致结构如下：\n```python\n{\n  \"subdomain\": \"<your zendesk subdomain>\",\n  \"start_date\": \"<date from which to start retrieving records from in ISO format, e.g. 2020-10-20T00:00:00Z>\",\n  \"credentials\": {\n    \"credentials\": \"api_token\",\n    \"email\": \"<your email>\",\n    \"api_token\": \"<your api token>\"\n  }\n}\n```\n\n默认情况下，所有字段都存储在文档的元数据中，文本字段设置为空字符串。请通过转换读取器返回的文档来构建文档的文本。"
      ]
    },
    {
      "cell_type": "code",
      "execution_count": null,
      "id": "89a99e58",
      "metadata": {},
      "outputs": [],
      "source": [
        "from langchain_community.document_loaders.airbyte import AirbyteZendeskSupportLoader\n",
        "\n",
        "config = {\n",
        "    # your zendesk-support configuration\n",
        "}\n",
        "\n",
        "loader = AirbyteZendeskSupportLoader(\n",
        "    config=config, stream_name=\"tickets\"\n",
        ")  # check the documentation linked above for a list of all streams"
      ]
    },
    {
      "cell_type": "markdown",
      "id": "2cea23fc",
      "metadata": {},
      "source": [
        "现在，您可以按常规方式加载文档了"
      ]
    },
    {
      "cell_type": "code",
      "execution_count": null,
      "id": "dae75cdb",
      "metadata": {},
      "outputs": [],
      "source": [
        "docs = loader.load()"
      ]
    },
    {
      "cell_type": "markdown",
      "id": "4a93dc2a",
      "metadata": {},
      "source": [
        "由于 `load` 返回一个列表，它将阻塞直到所有文档都加载完毕。为了更好地控制这个过程，你也可以使用 `lazy_load` 方法，该方法返回一个迭代器："
      ]
    },
    {
      "cell_type": "code",
      "execution_count": null,
      "id": "1782db09",
      "metadata": {},
      "outputs": [],
      "source": [
        "docs_iterator = loader.lazy_load()"
      ]
    },
    {
      "cell_type": "markdown",
      "id": "3a124086",
      "metadata": {},
      "source": [
        "请注意，默认情况下，页面内容为空，而 metadata 对象包含来自记录的所有信息。要以不同的方式创建文档，请在创建加载器时传入一个 `record_handler` 函数："
      ]
    },
    {
      "cell_type": "code",
      "execution_count": null,
      "id": "5671395d",
      "metadata": {},
      "outputs": [],
      "source": [
        "from langchain_core.documents import Document\n",
        "\n",
        "\n",
        "def handle_record(record, id):\n",
        "    return Document(page_content=record.data[\"title\"], metadata=record.data)\n",
        "\n",
        "\n",
        "loader = AirbyteZendeskSupportLoader(\n",
        "    config=config, record_handler=handle_record, stream_name=\"tickets\"\n",
        ")\n",
        "docs = loader.load()"
      ]
    },
    {
      "cell_type": "markdown",
      "id": "223eb8bc",
      "metadata": {},
      "source": [
        "## 增量加载\n\n某些流支持增量加载，这意味着源会跟踪已同步的记录，而不会再次加载它们。这对于数据量大且频繁更新的源非常有用。\n\n为了利用这一点，请存储加载器的 `last_state` 属性，并在再次创建加载器时将其传入。这将确保只加载新记录。"
      ]
    },
    {
      "cell_type": "code",
      "execution_count": null,
      "id": "7061e735",
      "metadata": {},
      "outputs": [],
      "source": [
        "last_state = loader.last_state  # store safely\n",
        "\n",
        "incremental_loader = AirbyteZendeskSupportLoader(\n",
        "    config=config, stream_name=\"tickets\", state=last_state\n",
        ")\n",
        "\n",
        "new_docs = incremental_loader.load()"
      ]
    }
  ],
  "metadata": {
    "kernelspec": {
      "display_name": "Python 3 (ipykernel)",
      "language": "python",
      "name": "python3"
    },
    "language_info": {
      "codemirror_mode": {
        "name": "ipython",
        "version": 3
      },
      "file_extension": ".py",
      "mimetype": "text/x-python",
      "name": "python",
      "nbconvert_exporter": "python",
      "pygments_lexer": "ipython3",
      "version": "3.10.6"
    }
  },
  "nbformat": 4,
  "nbformat_minor": 5
}