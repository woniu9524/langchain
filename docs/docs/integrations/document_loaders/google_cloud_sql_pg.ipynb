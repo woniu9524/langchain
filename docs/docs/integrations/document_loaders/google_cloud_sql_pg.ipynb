{
  "cells": [
    {
      "cell_type": "markdown",
      "metadata": {
        "id": "E_RJy7C1bpCT"
      },
      "source": [
        "# Google Cloud SQL for PostgreSQL\n\n> [Cloud SQL for PostgreSQL](https://cloud.google.com/sql/docs/postgres) 是一个完全托管的数据库服务，可帮助您在 Google Cloud Platform 上设置、维护、管理和管理 PostgreSQL 关系数据库。通过利用 Cloud SQL for PostgreSQL 的 Langchain 集成来扩展您的数据库应用程序，从而构建由 AI 驱动的体验。\n\n本笔记本将介绍如何使用 `Cloud SQL for PostgreSQL` 通过 `PostgresLoader` 类加载 Documents。\n\n在 [GitHub](https://github.com/googleapis/langchain-google-cloud-sql-pg-python/) 上了解有关该软件包的更多信息。\n\n[![在 Colab 中打开](https://colab.research.google.com/assets/colab-badge.svg)](https://colab.research.google.com/github/googleapis/langchain-google-cloud-sql-pg-python/blob/main/docs/document_loader.ipynb)"
      ]
    },
    {
      "cell_type": "markdown",
      "metadata": {
        "id": "xjcxaw6--Xyy"
      },
      "source": [
        "## 开始之前\n\n要运行此笔记本，您需要完成以下操作：\n\n*   [创建 Google Cloud 项目](https://developers.google.com/workspace/guides/create-project)\n*   [启用 Cloud SQL Admin API。](https://console.cloud.google.com/marketplace/product/google/sqladmin.googleapis.com)\n*   [创建 Cloud SQL for PostgreSQL 实例。](https://cloud.google.com/sql/docs/postgres/create-instance)\n*   [创建 Cloud SQL for PostgreSQL 数据库。](https://cloud.google.com/sql/docs/postgres/create-manage-databases)\n*   [向数据库添加用户。](https://cloud.google.com/sql/docs/postgres/create-manage-users)"
      ]
    },
    {
      "cell_type": "markdown",
      "metadata": {
        "id": "IR54BmgvdHT_"
      },
      "source": [
        "### 🦜🔗 库安装\n安装集成库 `langchain_google_cloud_sql_pg`。"
      ]
    },
    {
      "cell_type": "code",
      "execution_count": null,
      "metadata": {
        "colab": {
          "base_uri": "https://localhost:8080/",
          "height": 1000
        },
        "id": "0ZITIDE160OD",
        "outputId": "90e0636e-ff34-4e1e-ad37-d2a6db4a317e"
      },
      "outputs": [],
      "source": [
        "%pip install --upgrade --quiet  langchain_google_cloud_sql_pg"
      ]
    },
    {
      "cell_type": "markdown",
      "metadata": {
        "id": "v40bB_GMcr9f"
      },
      "source": [
        "**仅限 Colab：** 取消注释以下单元格以重新启动内核，或使用按钮重新启动内核。对于 Vertex AI Workbench，您可以使用顶部的按钮重新启动终端。"
      ]
    },
    {
      "cell_type": "code",
      "execution_count": null,
      "metadata": {
        "id": "6o0iGVIdDD6K"
      },
      "outputs": [],
      "source": [
        "# # Automatically restart kernel after installs so that your environment can access the new packages\n",
        "# import IPython\n",
        "\n",
        "# app = IPython.Application.instance()\n",
        "# app.kernel.do_shutdown(True)"
      ]
    },
    {
      "cell_type": "markdown",
      "metadata": {
        "id": "cTXTbj4UltKf"
      },
      "source": [
        "### 🔐 身份验证\n使用此笔记本中登录的 IAM 用户身份验证到 Google Cloud，以便访问您的 Google Cloud 项目。\n\n* 如果您正在使用 Colab 来运行此笔记本，请使用下面的单元格并继续。\n* 如果您正在使用 Vertex AI Workbench，请在此处查看设置说明 ([https://github.com/GoogleCloudPlatform/generative-ai/tree/main/setup-env](https://github.com/GoogleCloudPlatform/generative-ai/tree/main/setup-env))。"
      ]
    },
    {
      "cell_type": "code",
      "execution_count": null,
      "metadata": {},
      "outputs": [],
      "source": [
        "from google.colab import auth\n",
        "\n",
        "auth.authenticate_user()"
      ]
    },
    {
      "cell_type": "markdown",
      "metadata": {
        "id": "Uj02bMRAc9_c"
      },
      "source": [
        "### ☁ 设置您的 Google Cloud 项目\n设置您的 Google Cloud 项目，以便在此 notebook 中利用 Google Cloud 资源。\n\n如果您不知道项目 ID，可以尝试以下方法：\n\n* 运行 `gcloud config list`。\n* 运行 `gcloud projects list`。\n* 查看支持页面：[查找项目 ID](https://support.google.com/googleapi/answer/7014113)。"
      ]
    },
    {
      "cell_type": "code",
      "execution_count": null,
      "metadata": {
        "colab": {
          "base_uri": "https://localhost:8080/"
        },
        "id": "wnp1R1PYc9_c",
        "outputId": "6502c721-a2fd-451f-b946-9f7b850d5966"
      },
      "outputs": [],
      "source": [
        "# @title Project { display-mode: \"form\" }\n",
        "PROJECT_ID = \"gcp_project_id\"  # @param {type:\"string\"}\n",
        "\n",
        "# Set the project id\n",
        "! gcloud config set project {PROJECT_ID}"
      ]
    },
    {
      "cell_type": "markdown",
      "id": "f8f2830ee9ca1e01",
      "metadata": {
        "id": "f8f2830ee9ca1e01"
      },
      "source": [
        "## 基本用法"
      ]
    },
    {
      "cell_type": "markdown",
      "id": "OMvzMWRrR6n7",
      "metadata": {
        "id": "OMvzMWRrR6n7"
      },
      "source": [
        "### 设置 Cloud SQL 数据库值\n在 [Cloud SQL 实例页面](https://console.cloud.google.com/sql/instances) 中找到您的数据库变量。"
      ]
    },
    {
      "cell_type": "code",
      "execution_count": 4,
      "id": "irl7eMFnSPZr",
      "metadata": {
        "id": "irl7eMFnSPZr"
      },
      "outputs": [],
      "source": [
        "# @title Set Your Values Here { display-mode: \"form\" }\n",
        "REGION = \"us-central1\"  # @param {type: \"string\"}\n",
        "INSTANCE = \"my-primary\"  # @param {type: \"string\"}\n",
        "DATABASE = \"my-database\"  # @param {type: \"string\"}\n",
        "TABLE_NAME = \"vector_store\"  # @param {type: \"string\"}"
      ]
    },
    {
      "cell_type": "markdown",
      "id": "QuQigs4UoFQ2",
      "metadata": {
        "id": "QuQigs4UoFQ2"
      },
      "source": [
        "### Cloud SQL 引擎\n\n将 PostgreSQL 设为文档加载器的要求和论点之一是 `PostgresEngine` 对象。`PostgresEngine` 配置连接池到您的 Cloud SQL for PostgreSQL 数据库，使您的应用程序能够成功连接并遵循行业最佳实践。\n\n要使用 `PostgresEngine.from_instance()` 创建 `PostgresEngine`，您只需要提供 4 项内容：\n\n1. `project_id` : Cloud SQL 实例所在的 Google Cloud 项目的项目 ID。\n1. `region` : Cloud SQL 实例所在的区域。\n1. `instance` : Cloud SQL 实例的名称。\n1. `database` : 要连接到 Cloud SQL 实例上的数据库的名称。\n\n默认情况下，将使用 [IAM 数据库身份验证](https://cloud.google.com/sql/docs/postgres/iam-authentication) 作为数据库身份验证方法。此库使用来自环境中 [应用程序默认凭据 (ADC)](https://cloud.google.com/docs/authentication/application-default-credentials) 的 IAM 主体。\n\n您还可以选择使用 [内置数据库身份验证](https://cloud.google.com/sql/docs/postgres/users) 通过用户名和密码访问 Cloud SQL 数据库。只需向 `PostgresEngine.from_instance()` 提供可选的 `user` 和 `password` 参数：\n\n* `user` : 用于内置数据库身份验证和登录的数据库用户\n* `password` : 用于内置数据库身份验证和登录的数据库密码。"
      ]
    },
    {
      "cell_type": "markdown",
      "metadata": {},
      "source": [
        "**注意**：本教程演示了异步接口。所有异步方法都有相应的同步方法。"
      ]
    },
    {
      "cell_type": "code",
      "execution_count": null,
      "metadata": {},
      "outputs": [],
      "source": [
        "from langchain_google_cloud_sql_pg import PostgresEngine\n",
        "\n",
        "engine = await PostgresEngine.afrom_instance(\n",
        "    project_id=PROJECT_ID,\n",
        "    region=REGION,\n",
        "    instance=INSTANCE,\n",
        "    database=DATABASE,\n",
        ")"
      ]
    },
    {
      "cell_type": "markdown",
      "metadata": {
        "id": "e1tl0aNx7SWy"
      },
      "source": [
        "### 创建 PostgresLoader"
      ]
    },
    {
      "cell_type": "code",
      "execution_count": null,
      "metadata": {
        "id": "z-AZyzAQ7bsf"
      },
      "outputs": [],
      "source": [
        "from langchain_google_cloud_sql_pg import PostgresLoader\n",
        "\n",
        "# Creating a basic PostgreSQL object\n",
        "loader = await PostgresLoader.create(engine, table_name=TABLE_NAME)"
      ]
    },
    {
      "cell_type": "markdown",
      "metadata": {
        "id": "PeOMpftjc9_e"
      },
      "source": [
        "### 通过默认表加载文档\n加载器使用表的第一列作为 page_content，并将所有其他列作为元数据，从而返回表中的文档列表。默认表将第一列作为 page_content，第二列作为元数据（JSON）。每一行都将成为一个文档。请注意，如果您希望文档具有 id，则需要将其添加到表中。"
      ]
    },
    {
      "cell_type": "code",
      "execution_count": null,
      "metadata": {
        "id": "cwvi_O5Wc9_e"
      },
      "outputs": [],
      "source": [
        "from langchain_google_cloud_sql_pg import PostgresLoader\n",
        "\n",
        "# Creating a basic PostgresLoader object\n",
        "loader = await PostgresLoader.create(engine, table_name=TABLE_NAME)\n",
        "\n",
        "docs = await loader.aload()\n",
        "print(docs)"
      ]
    },
    {
      "cell_type": "markdown",
      "metadata": {
        "id": "kSkL9l1Hc9_e"
      },
      "source": [
        "### 通过自定义表格/元数据或自定义页面内容列加载文档"
      ]
    },
    {
      "cell_type": "code",
      "execution_count": null,
      "metadata": {},
      "outputs": [],
      "source": [
        "loader = await PostgresLoader.create(\n",
        "    engine,\n",
        "    table_name=TABLE_NAME,\n",
        "    content_columns=[\"product_name\"],  # Optional\n",
        "    metadata_columns=[\"id\"],  # Optional\n",
        ")\n",
        "docs = await loader.aload()\n",
        "print(docs)"
      ]
    },
    {
      "cell_type": "markdown",
      "metadata": {
        "id": "5R6h0_Cvc9_f"
      },
      "source": [
        "### 设置页面内容格式\n加载器返回一个文档列表，每行一个文档，页面内容以指定的字符串格式返回，即文本（空格分隔的连接）、JSON、YAML、CSV 等。JSON 和 YAML 格式包含标题，而文本和 CSV 格式不包含字段标题。"
      ]
    },
    {
      "cell_type": "code",
      "execution_count": null,
      "metadata": {
        "id": "NGNdS7cqc9_f"
      },
      "outputs": [],
      "source": [
        "loader = await PostgresLoader.create(\n",
        "    engine,\n",
        "    table_name=\"products\",\n",
        "    content_columns=[\"product_name\", \"description\"],\n",
        "    format=\"YAML\",\n",
        ")\n",
        "docs = await loader.aload()\n",
        "print(docs)"
      ]
    }
  ],
  "metadata": {
    "colab": {
      "provenance": [],
      "toc_visible": true
    },
    "kernelspec": {
      "display_name": "Python 3 (ipykernel)",
      "language": "python",
      "name": "python3"
    },
    "language_info": {
      "codemirror_mode": {
        "name": "ipython",
        "version": 3
      },
      "file_extension": ".py",
      "mimetype": "text/x-python",
      "name": "python",
      "nbconvert_exporter": "python",
      "pygments_lexer": "ipython3",
      "version": "3.9.6"
    }
  },
  "nbformat": 4,
  "nbformat_minor": 4
}