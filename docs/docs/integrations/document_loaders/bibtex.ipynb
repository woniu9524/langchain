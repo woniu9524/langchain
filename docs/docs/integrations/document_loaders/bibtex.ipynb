{
  "cells": [
    {
      "cell_type": "markdown",
      "id": "bda1f3f5",
      "metadata": {},
      "source": [
        "# BibTeX\n\n>[BibTeX](https://www.ctan.org/pkg/bibtex) 是一种文件格式和文献管理系统，通常与 `LaTeX` 排版系统配合使用。它是一种用于组织和存储学术及研究文档参考文献的方式。\n\n`BibTeX` 文件具有 `.bib` 扩展名，并由纯文本条目组成，这些条目代表对各类出版物的引用，如书籍、文章、会议论文、学位论文等。每个 `BibTeX` 条目遵循特定的结构，并包含不同的文献详细信息字段，如作者姓名、出版物标题、期刊或书籍标题、出版年份、页码等。\n\nBibTeX 文件还可以存储文档的路径，例如可以检索到的 `.pdf` 文件。"
      ]
    },
    {
      "cell_type": "markdown",
      "id": "1b7a1eef-7bf7-4e7d-8bfc-c4e27c9488cb",
      "metadata": {},
      "source": [
        "## 安装\n首先，你需要安装 `bibtexparser` 和 `PyMuPDF`。"
      ]
    },
    {
      "cell_type": "code",
      "execution_count": 26,
      "id": "b674aaea-ed3a-4541-8414-260a8f67f623",
      "metadata": {
        "tags": []
      },
      "outputs": [],
      "source": [
        "%pip install --upgrade --quiet  bibtexparser pymupdf"
      ]
    },
    {
      "cell_type": "markdown",
      "id": "95f05e1c-195e-4e2b-ae8e-8d6637f15be6",
      "metadata": {},
      "source": [
        "## 示例"
      ]
    },
    {
      "cell_type": "markdown",
      "id": "e29b954c-1407-4797-ae21-6ba8937156be",
      "metadata": {},
      "source": [
        "`BibtexLoader` 具有以下参数：\n\n- `file_path`：`.bib` bibtex 文件的路径\n- 可选 `max_docs`：默认值 None，即不限制。用于限制检索到的文档数量。\n- 可选 `max_content_chars`：默认值 4000。用于限制单个文档中的字符数。\n- 可选 `load_extra_meta`：默认值 False。默认情况下，只加载 bibtex 条目中最重要的字段：`Published`（出版年份）、`Title`、`Authors`、`Summary`、`Journal`、`Keywords` 和 `URL`。如果设置为 True，它还将尝试加载并返回 `entry_id`、`note`、`doi` 和 `links` 字段。\n- 可选 `file_pattern`：默认值 `r'[^:]+\\.pdf'`。用于在 `file` 条目中查找文件的正则表达式模式。默认模式支持 `Zotero` 风格的 bibtex 和裸文件路径。"
      ]
    },
    {
      "cell_type": "code",
      "execution_count": 27,
      "id": "9bfd5e46",
      "metadata": {
        "tags": []
      },
      "outputs": [],
      "source": [
        "from langchain_community.document_loaders import BibtexLoader"
      ]
    },
    {
      "cell_type": "code",
      "execution_count": 28,
      "id": "01971b53",
      "metadata": {},
      "outputs": [],
      "source": [
        "# Create a dummy bibtex file and download a pdf.\n",
        "import urllib.request\n",
        "\n",
        "urllib.request.urlretrieve(\n",
        "    \"https://www.fourmilab.ch/etexts/einstein/specrel/specrel.pdf\", \"einstein1905.pdf\"\n",
        ")\n",
        "\n",
        "bibtex_text = \"\"\"\n",
        "    @article{einstein1915,\n",
        "        title={Die Feldgleichungen der Gravitation},\n",
        "        abstract={Die Grundgleichungen der Gravitation, die ich hier entwickeln werde, wurden von mir in einer Abhandlung: ,,Die formale Grundlage der allgemeinen Relativit{\\\"a}tstheorie`` in den Sitzungsberichten der Preu{\\ss}ischen Akademie der Wissenschaften 1915 ver{\\\"o}ffentlicht.},\n",
        "        author={Einstein, Albert},\n",
        "        journal={Sitzungsberichte der K{\\\"o}niglich Preu{\\ss}ischen Akademie der Wissenschaften},\n",
        "        volume={1915},\n",
        "        number={1},\n",
        "        pages={844--847},\n",
        "        year={1915},\n",
        "        doi={10.1002/andp.19163540702},\n",
        "        link={https://onlinelibrary.wiley.com/doi/abs/10.1002/andp.19163540702},\n",
        "        file={einstein1905.pdf}\n",
        "    }\n",
        "    \"\"\"\n",
        "# save bibtex_text to biblio.bib file\n",
        "with open(\"./biblio.bib\", \"w\") as file:\n",
        "    file.write(bibtex_text)"
      ]
    },
    {
      "cell_type": "code",
      "execution_count": 29,
      "id": "2631f46b",
      "metadata": {},
      "outputs": [],
      "source": [
        "docs = BibtexLoader(\"./biblio.bib\").load()"
      ]
    },
    {
      "cell_type": "code",
      "execution_count": 30,
      "id": "33ef1fb2",
      "metadata": {},
      "outputs": [
        {
          "data": {
            "text/plain": [
              "{'id': 'einstein1915',\n",
              " 'published_year': '1915',\n",
              " 'title': 'Die Feldgleichungen der Gravitation',\n",
              " 'publication': 'Sitzungsberichte der K{\"o}niglich Preu{\\\\ss}ischen Akademie der Wissenschaften',\n",
              " 'authors': 'Einstein, Albert',\n",
              " 'abstract': 'Die Grundgleichungen der Gravitation, die ich hier entwickeln werde, wurden von mir in einer Abhandlung: ,,Die formale Grundlage der allgemeinen Relativit{\"a}tstheorie`` in den Sitzungsberichten der Preu{\\\\ss}ischen Akademie der Wissenschaften 1915 ver{\"o}ffentlicht.',\n",
              " 'url': 'https://doi.org/10.1002/andp.19163540702'}"
            ]
          },
          "execution_count": 30,
          "metadata": {},
          "output_type": "execute_result"
        }
      ],
      "source": [
        "docs[0].metadata"
      ]
    },
    {
      "cell_type": "code",
      "execution_count": 31,
      "id": "46969806-45a9-4c4d-a61b-cfb9658fc9de",
      "metadata": {
        "tags": []
      },
      "outputs": [
        {
          "name": "stdout",
          "output_type": "stream",
          "text": [
            "ON THE ELECTRODYNAMICS OF MOVING\n",
            "BODIES\n",
            "By A. EINSTEIN\n",
            "June 30, 1905\n",
            "It is known that Maxwell’s electrodynamics—as usually understood at the\n",
            "present time—when applied to moving bodies, leads to asymmetries which do\n",
            "not appear to be inherent in the phenomena. Take, for example, the recipro-\n",
            "cal electrodynamic action of a magnet and a conductor. The observable phe-\n",
            "nomenon here depends only on the r\n"
          ]
        }
      ],
      "source": [
        "print(docs[0].page_content[:400])  # all pages of the pdf content"
      ]
    }
  ],
  "metadata": {
    "kernelspec": {
      "display_name": "Python 3 (ipykernel)",
      "language": "python",
      "name": "python3"
    },
    "language_info": {
      "codemirror_mode": {
        "name": "ipython",
        "version": 3
      },
      "file_extension": ".py",
      "mimetype": "text/x-python",
      "name": "python",
      "nbconvert_exporter": "python",
      "pygments_lexer": "ipython3",
      "version": "3.10.12"
    }
  },
  "nbformat": 4,
  "nbformat_minor": 5
}