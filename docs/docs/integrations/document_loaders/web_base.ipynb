{
  "cells": [
    {
      "cell_type": "markdown",
      "id": "bf920da0",
      "metadata": {},
      "source": [
        "# WebBaseLoader\n\n此内容涵盖了如何使用 `WebBaseLoader` 将 `HTML` 网页的全部文本加载到可供下游使用的文档格式中。有关加载网页的更多自定义逻辑，请查看一些子类示例，例如 `IMSDbLoader`、`AZLyricsLoader` 和 `CollegeConfidentialLoader`。\n\n如果您不想担心网站爬取、绕过 JS 阻止网站和数据清理，可以考虑使用 `FireCrawlLoader` 或更快的选项 `SpiderLoader`。\n\n## 概述\n### 集成详情\n\n- TODO: 填写表格的 features。\n- TODO: 如果不相关，则移除 JS support 的链接，否则请确保链接正确。\n- TODO: 确保 API 参考链接是正确的。\n\n| Class | Package | Local | Serializable | JS support|\n| :--- | :--- | :---: | :---: |  :---: |\n| [WebBaseLoader](https://python.langchain.com/api_reference/community/document_loaders/langchain_community.document_loaders.web_base.WebBaseLoader.html) | [langchain_community](https://python.langchain.com/api_reference/community/index.html) | ✅ | ❌ | ❌ |\n### Loader features\n| Source | Document Lazy Loading | Native Async Support\n| :---: | :---: | :---: |\n| WebBaseLoader | ✅ | ✅ |\n\n## 设置\n\n### 凭证\n\n`WebBaseLoader` 不需要任何凭证。\n\n### 安装\n\n要使用 `WebBaseLoader`，您首先需要安装 `langchain-community` python 包。"
      ]
    },
    {
      "cell_type": "code",
      "execution_count": null,
      "id": "50a6c9b6",
      "metadata": {},
      "outputs": [],
      "source": [
        "%pip install -qU langchain_community beautifulsoup4"
      ]
    },
    {
      "cell_type": "markdown",
      "id": "25465b06",
      "metadata": {},
      "source": [
        "## 初始化\n\n现在我们可以实例化我们的模型对象并加载文档："
      ]
    },
    {
      "cell_type": "code",
      "execution_count": 2,
      "id": "00b6de21",
      "metadata": {},
      "outputs": [],
      "source": [
        "from langchain_community.document_loaders import WebBaseLoader\n",
        "\n",
        "loader = WebBaseLoader(\"https://www.example.com/\")"
      ]
    },
    {
      "cell_type": "markdown",
      "id": "c162b300-5f4b-4e37-bab3-17f590fc07cc",
      "metadata": {},
      "source": [
        "为了在获取数据时绕过 SSL 验证错误，您可以设置“verify”选项：\n\n`loader.requests_kwargs = {'verify':False}`\n\n### 使用多个页面进行初始化\n\n您还可以传入一个页面列表进行加载。"
      ]
    },
    {
      "cell_type": "code",
      "execution_count": 3,
      "id": "e86c5d40",
      "metadata": {},
      "outputs": [],
      "source": [
        "loader_multiple_pages = WebBaseLoader(\n",
        "    [\"https://www.example.com/\", \"https://google.com\"]\n",
        ")"
      ]
    },
    {
      "cell_type": "markdown",
      "id": "1f61081e",
      "metadata": {},
      "source": [
        "## 加载"
      ]
    },
    {
      "cell_type": "code",
      "execution_count": 4,
      "id": "f06bdc4e",
      "metadata": {},
      "outputs": [
        {
          "data": {
            "text/plain": [
              "Document(metadata={'source': 'https://www.example.com/', 'title': 'Example Domain', 'language': 'No language found.'}, page_content='\\n\\n\\nExample Domain\\n\\n\\n\\n\\n\\n\\n\\nExample Domain\\nThis domain is for use in illustrative examples in documents. You may use this\\n    domain in literature without prior coordination or asking for permission.\\nMore information...\\n\\n\\n\\n')"
            ]
          },
          "execution_count": 4,
          "metadata": {},
          "output_type": "execute_result"
        }
      ],
      "source": [
        "docs = loader.load()\n",
        "\n",
        "docs[0]"
      ]
    },
    {
      "cell_type": "code",
      "execution_count": 5,
      "id": "a390d79f",
      "metadata": {},
      "outputs": [
        {
          "name": "stdout",
          "output_type": "stream",
          "text": [
            "{'source': 'https://www.example.com/', 'title': 'Example Domain', 'language': 'No language found.'}\n"
          ]
        }
      ],
      "source": [
        "print(docs[0].metadata)"
      ]
    },
    {
      "cell_type": "markdown",
      "id": "641be294",
      "metadata": {},
      "source": [
        "### 并发加载多个 URL\n\n您可以通过并发抓取和解析多个 URL 来加快抓取过程。\n\n并发请求有合理的限制，默认为每秒 2 个。如果您不介意做个“好公民”，或者您控制着正在抓取的服务器并且不在乎负载，您可以更改 `requests_per_second` 参数来增加最大并发请求数。请注意，虽然这会加快抓取过程，但可能会导致服务器阻止您。请小心！"
      ]
    },
    {
      "cell_type": "code",
      "execution_count": 6,
      "id": "9f9cf30f",
      "metadata": {},
      "outputs": [
        {
          "name": "stdout",
          "output_type": "stream",
          "text": [
            "Note: you may need to restart the kernel to use updated packages.\n"
          ]
        }
      ],
      "source": [
        "%pip install -qU  nest_asyncio\n",
        "\n",
        "# fixes a bug with asyncio and jupyter\n",
        "import nest_asyncio\n",
        "\n",
        "nest_asyncio.apply()"
      ]
    },
    {
      "cell_type": "code",
      "execution_count": 8,
      "id": "49586eac",
      "metadata": {},
      "outputs": [
        {
          "name": "stderr",
          "output_type": "stream",
          "text": [
            "Fetching pages: 100%|###########################################################################| 2/2 [00:00<00:00,  8.28it/s]\n"
          ]
        },
        {
          "data": {
            "text/plain": [
              "[Document(metadata={'source': 'https://www.example.com/', 'title': 'Example Domain', 'language': 'No language found.'}, page_content='\\n\\n\\nExample Domain\\n\\n\\n\\n\\n\\n\\n\\nExample Domain\\nThis domain is for use in illustrative examples in documents. You may use this\\n    domain in literature without prior coordination or asking for permission.\\nMore information...\\n\\n\\n\\n'),\n",
              " Document(metadata={'source': 'https://google.com', 'title': 'Google', 'description': \"Search the world's information, including webpages, images, videos and more. Google has many special features to help you find exactly what you're looking for.\", 'language': 'en'}, page_content='GoogleSearch Images Maps Play YouTube News Gmail Drive More »Web History | Settings | Sign in\\xa0Advanced search5 ways Gemini can help during the HolidaysAdvertisingBusiness SolutionsAbout Google© 2024 - Privacy - Terms  ')]"
            ]
          },
          "execution_count": 8,
          "metadata": {},
          "output_type": "execute_result"
        }
      ],
      "source": [
        "loader = WebBaseLoader([\"https://www.example.com/\", \"https://google.com\"])\n",
        "loader.requests_per_second = 1\n",
        "docs = loader.aload()\n",
        "docs"
      ]
    },
    {
      "cell_type": "markdown",
      "id": "e337b130",
      "metadata": {},
      "source": [
        "### 加载 xml 文件，或使用不同的 BeautifulSoup 解析器\n\n你也可以查看 `SitemapLoader` 来了解如何加载站点地图文件，这是一个使用此功能的示例。"
      ]
    },
    {
      "cell_type": "code",
      "execution_count": 9,
      "id": "16530c50",
      "metadata": {},
      "outputs": [
        {
          "data": {
            "text/plain": [
              "[Document(metadata={'source': 'https://www.govinfo.gov/content/pkg/CFR-2018-title10-vol3/xml/CFR-2018-title10-vol3-sec431-86.xml'}, page_content='\\n\\n10\\nEnergy\\n3\\n2018-01-01\\n2018-01-01\\nfalse\\nUniform test method for the measurement of energy efficiency of commercial packaged boilers.\\nÂ§ 431.86\\nSection Â§ 431.86\\n\\nEnergy\\nDEPARTMENT OF ENERGY\\nENERGY CONSERVATION\\nENERGY EFFICIENCY PROGRAM FOR CERTAIN COMMERCIAL AND INDUSTRIAL EQUIPMENT\\nCommercial Packaged Boilers\\nTest Procedures\\n\\n\\n\\n\\n§\\u2009431.86\\nUniform test method for the measurement of energy efficiency of commercial packaged boilers.\\n(a) Scope. This section provides test procedures, pursuant to the Energy Policy and Conservation Act (EPCA), as amended, which must be followed for measuring the combustion efficiency and/or thermal efficiency of a gas- or oil-fired commercial packaged boiler.\\n(b) Testing and Calculations. Determine the thermal efficiency or combustion efficiency of commercial packaged boilers by conducting the appropriate test procedure(s) indicated in Table 1 of this section.\\n\\nTable 1—Test Requirements for Commercial Packaged Boiler Equipment Classes\\n\\nEquipment category\\nSubcategory\\nCertified rated inputBtu/h\\n\\nStandards efficiency metric(§\\u2009431.87)\\n\\nTest procedure(corresponding to\\nstandards efficiency\\nmetric required\\nby §\\u2009431.87)\\n\\n\\n\\nHot Water\\nGas-fired\\n≥300,000 and ≤2,500,000\\nThermal Efficiency\\nAppendix A, Section 2.\\n\\n\\nHot Water\\nGas-fired\\n>2,500,000\\nCombustion Efficiency\\nAppendix A, Section 3.\\n\\n\\nHot Water\\nOil-fired\\n≥300,000 and ≤2,500,000\\nThermal Efficiency\\nAppendix A, Section 2.\\n\\n\\nHot Water\\nOil-fired\\n>2,500,000\\nCombustion Efficiency\\nAppendix A, Section 3.\\n\\n\\nSteam\\nGas-fired (all*)\\n≥300,000 and ≤2,500,000\\nThermal Efficiency\\nAppendix A, Section 2.\\n\\n\\nSteam\\nGas-fired (all*)\\n>2,500,000 and ≤5,000,000\\nThermal Efficiency\\nAppendix A, Section 2.\\n\\n\\n\\u2003\\n\\n>5,000,000\\nThermal Efficiency\\nAppendix A, Section 2.OR\\nAppendix A, Section 3 with Section 2.4.3.2.\\n\\n\\n\\nSteam\\nOil-fired\\n≥300,000 and ≤2,500,000\\nThermal Efficiency\\nAppendix A, Section 2.\\n\\n\\nSteam\\nOil-fired\\n>2,500,000 and ≤5,000,000\\nThermal Efficiency\\nAppendix A, Section 2.\\n\\n\\n\\u2003\\n\\n>5,000,000\\nThermal Efficiency\\nAppendix A, Section 2.OR\\nAppendix A, Section 3. with Section 2.4.3.2.\\n\\n\\n\\n*\\u2009Equipment classes for commercial packaged boilers as of July 22, 2009 (74 FR 36355) distinguish between gas-fired natural draft and all other gas-fired (except natural draft).\\n\\n(c) Field Tests. The field test provisions of appendix A may be used only to test a unit of commercial packaged boiler with rated input greater than 5,000,000 Btu/h.\\n[81 FR 89305, Dec. 9, 2016]\\n\\n\\nEnergy Efficiency Standards\\n\\n')]"
            ]
          },
          "execution_count": 9,
          "metadata": {},
          "output_type": "execute_result"
        }
      ],
      "source": [
        "loader = WebBaseLoader(\n",
        "    \"https://www.govinfo.gov/content/pkg/CFR-2018-title10-vol3/xml/CFR-2018-title10-vol3-sec431-86.xml\"\n",
        ")\n",
        "loader.default_parser = \"xml\"\n",
        "docs = loader.load()\n",
        "docs"
      ]
    },
    {
      "cell_type": "markdown",
      "id": "5fa40bb1",
      "metadata": {},
      "source": [
        "## 懒加载\n\n您可以使用懒加载一次只加载一个页面，以最大限度地减少内存需求。"
      ]
    },
    {
      "cell_type": "code",
      "execution_count": 10,
      "id": "303d2f4e",
      "metadata": {},
      "outputs": [
        {
          "name": "stdout",
          "output_type": "stream",
          "text": [
            "\n",
            "\n",
            "10\n",
            "Energy\n",
            "3\n",
            "2018-01-01\n",
            "2018-01-01\n",
            "false\n",
            "Uniform test method for the measurement of energy efficien\n",
            "{'source': 'https://www.govinfo.gov/content/pkg/CFR-2018-title10-vol3/xml/CFR-2018-title10-vol3-sec431-86.xml'}\n"
          ]
        }
      ],
      "source": [
        "pages = []\n",
        "for doc in loader.lazy_load():\n",
        "    pages.append(doc)\n",
        "\n",
        "print(pages[0].page_content[:100])\n",
        "print(pages[0].metadata)"
      ]
    },
    {
      "cell_type": "markdown",
      "id": "20e4cf2a-2e5d-4a1f-8c99-526d36e4b873",
      "metadata": {},
      "source": [
        "### 异步"
      ]
    },
    {
      "cell_type": "code",
      "execution_count": 12,
      "id": "0ab4286f-7b3c-4e4b-890d-7b39082b61b7",
      "metadata": {},
      "outputs": [
        {
          "name": "stderr",
          "output_type": "stream",
          "text": [
            "Fetching pages: 100%|###########################################################################| 1/1 [00:00<00:00, 10.51it/s]"
          ]
        },
        {
          "name": "stdout",
          "output_type": "stream",
          "text": [
            "\n",
            "\n",
            "10\n",
            "Energy\n",
            "3\n",
            "2018-01-01\n",
            "2018-01-01\n",
            "false\n",
            "Uniform test method for the measurement of energy efficien\n",
            "{'source': 'https://www.govinfo.gov/content/pkg/CFR-2018-title10-vol3/xml/CFR-2018-title10-vol3-sec431-86.xml'}\n"
          ]
        },
        {
          "name": "stderr",
          "output_type": "stream",
          "text": [
            "\n"
          ]
        }
      ],
      "source": [
        "pages = []\n",
        "async for doc in loader.alazy_load():\n",
        "    pages.append(doc)\n",
        "\n",
        "print(pages[0].page_content[:100])\n",
        "print(pages[0].metadata)"
      ]
    },
    {
      "cell_type": "markdown",
      "id": "672264ad",
      "metadata": {
        "collapsed": false,
        "jupyter": {
          "outputs_hidden": false
        }
      },
      "source": [
        "## 使用代理\n\n有时你可能需要使用代理来绕过 IP 封锁。你可以将代理字典传递给加载器（以及底层的 `requests`）来使用它们。"
      ]
    },
    {
      "cell_type": "code",
      "execution_count": null,
      "id": "9caf0310",
      "metadata": {
        "collapsed": false,
        "jupyter": {
          "outputs_hidden": false
        }
      },
      "outputs": [],
      "source": [
        "loader = WebBaseLoader(\n",
        "    \"https://www.walmart.com/search?q=parrots\",\n",
        "    proxies={\n",
        "        \"http\": \"http://{username}:{password}:@proxy.service.com:6666/\",\n",
        "        \"https\": \"https://{username}:{password}:@proxy.service.com:6666/\",\n",
        "    },\n",
        ")\n",
        "docs = loader.load()"
      ]
    },
    {
      "cell_type": "markdown",
      "id": "c8bdc93c",
      "metadata": {},
      "source": [
        "## API 参考\n\n要了解 `WebBaseLoader` 的所有功能和配置的详细文档，请访问 API 参考：https://python.langchain.com/api_reference/community/document_loaders/langchain_community.document_loaders.web_base.WebBaseLoader.html"
      ]
    }
  ],
  "metadata": {
    "kernelspec": {
      "display_name": "Python 3 (ipykernel)",
      "language": "python",
      "name": "python3"
    },
    "language_info": {
      "codemirror_mode": {
        "name": "ipython",
        "version": 3
      },
      "file_extension": ".py",
      "mimetype": "text/x-python",
      "name": "python",
      "nbconvert_exporter": "python",
      "pygments_lexer": "ipython3",
      "version": "3.10.4"
    }
  },
  "nbformat": 4,
  "nbformat_minor": 5
}