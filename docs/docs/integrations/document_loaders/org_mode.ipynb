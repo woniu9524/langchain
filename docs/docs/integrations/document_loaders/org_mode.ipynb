{
  "cells": [
    {
      "cell_type": "markdown",
      "metadata": {},
      "source": [
        "# Org-mode\n\n>一个 [Org Mode 文档](https://en.wikipedia.org/wiki/Org-mode) 是一个文档编辑、格式化和组织模式，专为自由软件文本编辑器 Emacs 中的笔记、规划和创作而设计。"
      ]
    },
    {
      "cell_type": "markdown",
      "metadata": {},
      "source": [
        "## `UnstructuredOrgModeLoader`\n\n您可以使用 `UnstructuredOrgModeLoader` 通过以下工作流加载 Org-mode 文件中的数据。"
      ]
    },
    {
      "cell_type": "code",
      "execution_count": 1,
      "metadata": {},
      "outputs": [
        {
          "name": "stdout",
          "output_type": "stream",
          "text": [
            "page_content='Example Docs' metadata={'source': './example_data/README.org', 'category_depth': 0, 'last_modified': '2023-12-19T13:42:18', 'languages': ['eng'], 'filetype': 'text/org', 'file_directory': './example_data', 'filename': 'README.org', 'category': 'Title'}\n"
          ]
        }
      ],
      "source": [
        "from langchain_community.document_loaders import UnstructuredOrgModeLoader\n",
        "\n",
        "loader = UnstructuredOrgModeLoader(\n",
        "    file_path=\"./example_data/README.org\", mode=\"elements\"\n",
        ")\n",
        "docs = loader.load()\n",
        "\n",
        "print(docs[0])"
      ]
    },
    {
      "cell_type": "code",
      "execution_count": null,
      "metadata": {},
      "outputs": [],
      "source": []
    }
  ],
  "metadata": {
    "kernelspec": {
      "display_name": "Python 3 (ipykernel)",
      "language": "python",
      "name": "python3"
    },
    "language_info": {
      "codemirror_mode": {
        "name": "ipython",
        "version": 3
      },
      "file_extension": ".py",
      "mimetype": "text/x-python",
      "name": "python",
      "nbconvert_exporter": "python",
      "pygments_lexer": "ipython3",
      "version": "3.10.5"
    }
  },
  "nbformat": 4,
  "nbformat_minor": 4
}