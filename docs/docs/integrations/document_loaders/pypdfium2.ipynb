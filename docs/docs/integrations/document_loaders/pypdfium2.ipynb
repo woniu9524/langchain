{
  "cells": [
    {
      "cell_type": "markdown",
      "metadata": {},
      "source": [
        "# PyPDFium2Loader\n\n本笔记本提供了 [`PyPDF`](https://python.langchain.com/docs/concepts/document_loaders) [文档加载器](https://python.langchain.com/docs/concepts/document_loaders) 的快速入门指南。有关所有 DocumentLoader 功能和配置的详细文档，请参阅 [API 参考](https://python.langchain.com/api_reference/community/document_loaders/langchain_community.document_loaders.pdf.PyPDFium2Loader.html)。\n\n## 概览\n### 集成详情\n\n| 类 | 包 | 本地 | 可序列化 | JS 支持 |\n| :--- | :--- | :---: | :---: |  :---: |\n| [PyPDFLoader](https://python.langchain.com/api_reference/community/document_loaders/langchain_community.document_loaders.pdf.PyPDFLoader.html) | [langchain_community](https://python.langchain.com/api_reference/community/index.html) | ✅ | ❌ | ❌ |   \n   \n---------   \n\n### 加载器功能\n\n| 源 | 文档延迟加载 | 原生异步支持 | 提取图像 | 提取表格 |\n|:-----------:| :---: | :---: | :---: |:---: |\n| PyPDFLoader | ✅ | ❌ | ✅ | ❌  |\n\n## 设置\n\n### 凭证\n\n使用 `PyPDFLoader` 无需凭证。"
      ]
    },
    {
      "cell_type": "markdown",
      "metadata": {},
      "source": "要启用模型调用的自动跟踪，请设置您的 [LangSmith](https://docs.smith.langchain.com/) API 密钥："
    },
    {
      "cell_type": "code",
      "execution_count": 1,
      "metadata": {
        "ExecuteTime": {
          "end_time": "2025-02-06T07:04:15.370257Z",
          "start_time": "2025-02-06T07:04:15.367300Z"
        }
      },
      "outputs": [],
      "source": [
        "# os.environ[\"LANGSMITH_API_KEY\"] = getpass.getpass(\"Enter your LangSmith API key: \")\n",
        "# os.environ[\"LANGSMITH_TRACING\"] = \"true\""
      ]
    },
    {
      "cell_type": "markdown",
      "metadata": {},
      "source": [
        "### 安装\n\n安装 **langchain_community** 和 **pypdf**。"
      ]
    },
    {
      "cell_type": "code",
      "execution_count": 2,
      "metadata": {
        "ExecuteTime": {
          "end_time": "2025-02-06T07:04:18.630037Z",
          "start_time": "2025-02-06T07:04:15.634391Z"
        }
      },
      "outputs": [
        {
          "name": "stdout",
          "output_type": "stream",
          "text": [
            "Note: you may need to restart the kernel to use updated packages.\n"
          ]
        }
      ],
      "source": "%pip install -qU langchain_community pypdfium2"
    },
    {
      "cell_type": "markdown",
      "metadata": {},
      "source": [
        "## 初始化\n\n现在，我们可以实例化我们的模型对象并加载文档了："
      ]
    },
    {
      "cell_type": "code",
      "execution_count": 3,
      "metadata": {
        "ExecuteTime": {
          "end_time": "2025-02-06T07:04:19.594910Z",
          "start_time": "2025-02-06T07:04:18.671508Z"
        }
      },
      "outputs": [],
      "source": [
        "from langchain_community.document_loaders import PyPDFium2Loader\n",
        "\n",
        "file_path = \"./example_data/layout-parser-paper.pdf\"\n",
        "loader = PyPDFium2Loader(file_path)"
      ]
    },
    {
      "cell_type": "markdown",
      "metadata": {},
      "source": [
        "## 加载"
      ]
    },
    {
      "cell_type": "code",
      "execution_count": 4,
      "metadata": {
        "ExecuteTime": {
          "end_time": "2025-02-06T07:04:19.717964Z",
          "start_time": "2025-02-06T07:04:19.607741Z"
        }
      },
      "outputs": [
        {
          "data": {
            "text/plain": [
              "Document(metadata={'title': '', 'author': '', 'subject': '', 'keywords': '', 'creator': 'LaTeX with hyperref', 'producer': 'pdfTeX-1.40.21', 'creationdate': '2021-06-22T01:27:10+00:00', 'moddate': '2021-06-22T01:27:10+00:00', 'source': './example_data/layout-parser-paper.pdf', 'total_pages': 16, 'page': 0}, page_content='LayoutParser: A Unified Toolkit for Deep\\nLearning Based Document Image Analysis\\nZejiang Shen\\n1\\n(), Ruochen Zhang\\n2\\n, Melissa Dell\\n3\\n, Benjamin Charles Germain\\nLee\\n4\\n, Jacob Carlson\\n3\\n, and Weining Li\\n5\\n1 Allen Institute for AI\\nshannons@allenai.org 2 Brown University\\nruochen zhang@brown.edu 3 Harvard University\\n{melissadell,jacob carlson\\n}@fas.harvard.edu\\n4 University of Washington\\nbcgl@cs.washington.edu 5 University of Waterloo\\nw422li@uwaterloo.ca\\nAbstract. Recent advances in document image analysis (DIA) have been\\nprimarily driven by the application of neural networks. Ideally, research\\noutcomes could be easily deployed in production and extended for further\\ninvestigation. However, various factors like loosely organized codebases\\nand sophisticated model configurations complicate the easy reuse of im\\x02portant innovations by a wide audience. Though there have been on-going\\nefforts to improve reusability and simplify deep learning (DL) model\\ndevelopment in disciplines like natural language processing and computer\\nvision, none of them are optimized for challenges in the domain of DIA.\\nThis represents a major gap in the existing toolkit, as DIA is central to\\nacademic research across a wide range of disciplines in the social sciences\\nand humanities. This paper introduces LayoutParser, an open-source\\nlibrary for streamlining the usage of DL in DIA research and applica\\x02tions. The core LayoutParser library comes with a set of simple and\\nintuitive interfaces for applying and customizing DL models for layout de\\x02tection, character recognition, and many other document processing tasks.\\nTo promote extensibility, LayoutParser also incorporates a community\\nplatform for sharing both pre-trained models and full document digiti\\x02zation pipelines. We demonstrate that LayoutParser is helpful for both\\nlightweight and large-scale digitization pipelines in real-word use cases.\\nThe library is publicly available at https://layout-parser.github.io.\\nKeywords: Document Image Analysis· Deep Learning· Layout Analysis\\n· Character Recognition· Open Source library· Toolkit.\\n1 Introduction\\nDeep Learning(DL)-based approaches are the state-of-the-art for a wide range of\\ndocument image analysis (DIA) tasks including document image classification [11,\\narXiv:2103.15348v2 [cs.CV] 21 Jun 2021\\n')"
            ]
          },
          "execution_count": 4,
          "metadata": {},
          "output_type": "execute_result"
        }
      ],
      "source": [
        "docs = loader.load()\n",
        "docs[0]"
      ]
    },
    {
      "cell_type": "code",
      "execution_count": 5,
      "metadata": {
        "ExecuteTime": {
          "end_time": "2025-02-06T07:04:19.784617Z",
          "start_time": "2025-02-06T07:04:19.782020Z"
        }
      },
      "outputs": [
        {
          "name": "stdout",
          "output_type": "stream",
          "text": [
            "{'title': '',\n",
            " 'author': '',\n",
            " 'subject': '',\n",
            " 'keywords': '',\n",
            " 'creator': 'LaTeX with hyperref',\n",
            " 'producer': 'pdfTeX-1.40.21',\n",
            " 'creationdate': '2021-06-22T01:27:10+00:00',\n",
            " 'moddate': '2021-06-22T01:27:10+00:00',\n",
            " 'source': './example_data/layout-parser-paper.pdf',\n",
            " 'total_pages': 16,\n",
            " 'page': 0}\n"
          ]
        }
      ],
      "source": [
        "import pprint\n",
        "\n",
        "pprint.pp(docs[0].metadata)"
      ]
    },
    {
      "cell_type": "markdown",
      "metadata": {},
      "source": [
        "## 延迟加载"
      ]
    },
    {
      "cell_type": "code",
      "execution_count": 6,
      "metadata": {
        "ExecuteTime": {
          "end_time": "2025-02-06T07:04:22.359295Z",
          "start_time": "2025-02-06T07:04:22.143306Z"
        }
      },
      "outputs": [
        {
          "data": {
            "text/plain": [
              "6"
            ]
          },
          "execution_count": 6,
          "metadata": {},
          "output_type": "execute_result"
        }
      ],
      "source": [
        "pages = []\n",
        "for doc in loader.lazy_load():\n",
        "    pages.append(doc)\n",
        "    if len(pages) >= 10:\n",
        "        # do some paged operation, e.g.\n",
        "        # index.upsert(page)\n",
        "\n",
        "        pages = []\n",
        "len(pages)"
      ]
    },
    {
      "cell_type": "code",
      "execution_count": 7,
      "metadata": {
        "ExecuteTime": {
          "end_time": "2025-02-06T07:04:23.200681Z",
          "start_time": "2025-02-06T07:04:23.189169Z"
        }
      },
      "outputs": [
        {
          "name": "stdout",
          "output_type": "stream",
          "text": [
            "LayoutParser: A Unified Toolkit for DL-Based DIA 11\n",
            "focuses on precision, efficiency, and robustness\n",
            "{'title': '',\n",
            " 'author': '',\n",
            " 'subject': '',\n",
            " 'keywords': '',\n",
            " 'creator': 'LaTeX with hyperref',\n",
            " 'producer': 'pdfTeX-1.40.21',\n",
            " 'creationdate': '2021-06-22T01:27:10+00:00',\n",
            " 'moddate': '2021-06-22T01:27:10+00:00',\n",
            " 'source': './example_data/layout-parser-paper.pdf',\n",
            " 'total_pages': 16,\n",
            " 'page': 10}\n"
          ]
        }
      ],
      "source": [
        "print(pages[0].page_content[:100])\n",
        "pprint.pp(pages[0].metadata)"
      ]
    },
    {
      "cell_type": "markdown",
      "metadata": {},
      "source": [
        "metadata 属性至少包含以下键：\n- source\n- page（如果在 *page* 模式下）\n- total_page\n- creationdate\n- creator\n- producer\n\n其他元数据特定于每个解析器。\n这些信息可能很有用（例如，用于对您的 PDF 进行分类）。"
      ]
    },
    {
      "cell_type": "markdown",
      "metadata": {},
      "source": "## 分割模式和自定义页面分隔符\n\nThis guide details how to use Splitting mode with custom `"
    },
    {
      "cell_type": "markdown",
      "metadata": {},
      "source": [
        "加载 PDF 文件时，可以有两种不同的分割方式：\n- 按页面分割\n- 作为单一文本流\n\n默认情况下，`PyPDFLoader` 会将 PDF 作为单一文本流进行分割。"
      ]
    },
    {
      "cell_type": "markdown",
      "metadata": {},
      "source": "### 按页提取 PDF。每页都提取为 langchain Document 对象："
    },
    {
      "cell_type": "code",
      "execution_count": 8,
      "metadata": {
        "ExecuteTime": {
          "end_time": "2025-02-06T07:04:27.102894Z",
          "start_time": "2025-02-06T07:04:26.941787Z"
        }
      },
      "outputs": [
        {
          "name": "stdout",
          "output_type": "stream",
          "text": [
            "16\n",
            "{'title': '',\n",
            " 'author': '',\n",
            " 'subject': '',\n",
            " 'keywords': '',\n",
            " 'creator': 'LaTeX with hyperref',\n",
            " 'producer': 'pdfTeX-1.40.21',\n",
            " 'creationdate': '2021-06-22T01:27:10+00:00',\n",
            " 'moddate': '2021-06-22T01:27:10+00:00',\n",
            " 'source': './example_data/layout-parser-paper.pdf',\n",
            " 'total_pages': 16,\n",
            " 'page': 0}\n"
          ]
        }
      ],
      "source": [
        "loader = PyPDFium2Loader(\n",
        "    \"./example_data/layout-parser-paper.pdf\",\n",
        "    mode=\"page\",\n",
        ")\n",
        "docs = loader.load()\n",
        "print(len(docs))\n",
        "pprint.pp(docs[0].metadata)"
      ]
    },
    {
      "cell_type": "markdown",
      "metadata": {},
      "source": "在此模式下，PDF 会按页面分割，生成的 Documents 元数据包含页码。但在某些情况下，我们可能希望将 PDF 作为单一文本流进行处理（这样可以避免将某些段落分割），这时您可以使用 *single* 模式："
    },
    {
      "cell_type": "markdown",
      "metadata": {},
      "source": "### 将整个 PDF 提取为单个 langchain Document 对象："
    },
    {
      "cell_type": "code",
      "execution_count": 9,
      "metadata": {
        "ExecuteTime": {
          "end_time": "2025-02-06T07:04:29.714085Z",
          "start_time": "2025-02-06T07:04:29.646263Z"
        }
      },
      "outputs": [
        {
          "name": "stdout",
          "output_type": "stream",
          "text": [
            "1\n",
            "{'title': '',\n",
            " 'author': '',\n",
            " 'subject': '',\n",
            " 'keywords': '',\n",
            " 'creator': 'LaTeX with hyperref',\n",
            " 'producer': 'pdfTeX-1.40.21',\n",
            " 'creationdate': '2021-06-22T01:27:10+00:00',\n",
            " 'moddate': '2021-06-22T01:27:10+00:00',\n",
            " 'source': './example_data/layout-parser-paper.pdf',\n",
            " 'total_pages': 16}\n"
          ]
        }
      ],
      "source": [
        "loader = PyPDFium2Loader(\n",
        "    \"./example_data/layout-parser-paper.pdf\",\n",
        "    mode=\"single\",\n",
        ")\n",
        "docs = loader.load()\n",
        "print(len(docs))\n",
        "pprint.pp(docs[0].metadata)"
      ]
    },
    {
      "cell_type": "markdown",
      "metadata": {},
      "source": "在逻辑上，在此模式下，“page_number”元数据会消失。以下是如何在文本流中清晰识别分页符位置的方法："
    },
    {
      "cell_type": "markdown",
      "metadata": {},
      "source": "### 添加自定义的 *pages_delimiter* 来识别 *single* 模式下的分页符："
    },
    {
      "cell_type": "code",
      "execution_count": 10,
      "metadata": {
        "ExecuteTime": {
          "end_time": "2025-02-06T07:04:33.462591Z",
          "start_time": "2025-02-06T07:04:33.299846Z"
        }
      },
      "outputs": [
        {
          "name": "stdout",
          "output_type": "stream",
          "text": [
            "LayoutParser: A Unified Toolkit for Deep\n",
            "Learning Based Document Image Analysis\n",
            "Zejiang Shen\n",
            "1\n",
            "(), Ruochen Zhang\n",
            "2\n",
            ", Melissa Dell\n",
            "3\n",
            ", Benjamin Charles Germain\n",
            "Lee\n",
            "4\n",
            ", Jacob Carlson\n",
            "3\n",
            ", and Weining Li\n",
            "5\n",
            "1 Allen Institute for AI\n",
            "shannons@allenai.org 2 Brown University\n",
            "ruochen zhang@brown.edu 3 Harvard University\n",
            "{melissadell,jacob carlson\n",
            "}@fas.harvard.edu\n",
            "4 University of Washington\n",
            "bcgl@cs.washington.edu 5 University of Waterloo\n",
            "w422li@uwaterloo.ca\n",
            "Abstract. Recent advances in document image analysis (DIA) have been\n",
            "primarily driven by the application of neural networks. Ideally, research\n",
            "outcomes could be easily deployed in production and extended for further\n",
            "investigation. However, various factors like loosely organized codebases\n",
            "and sophisticated model configurations complicate the easy reuse of im\u0002portant innovations by a wide audience. Though there have been on-going\n",
            "efforts to improve reusability and simplify deep learning (DL) model\n",
            "development in disciplines like natural language processing and computer\n",
            "vision, none of them are optimized for challenges in the domain of DIA.\n",
            "This represents a major gap in the existing toolkit, as DIA is central to\n",
            "academic research across a wide range of disciplines in the social sciences\n",
            "and humanities. This paper introduces LayoutParser, an open-source\n",
            "library for streamlining the usage of DL in DIA research and applica\u0002tions. The core LayoutParser library comes with a set of simple and\n",
            "intuitive interfaces for applying and customizing DL models for layout de\u0002tection, character recognition, and many other document processing tasks.\n",
            "To promote extensibility, LayoutParser also incorporates a community\n",
            "platform for sharing both pre-trained models and full document digiti\u0002zation pipelines. We demonstrate that LayoutParser is helpful for both\n",
            "lightweight and large-scale digitization pipelines in real-word use cases.\n",
            "The library is publicly available at https://layout-parser.github.io.\n",
            "Keywords: Document Image Analysis· Deep Learning· Layout Analysis\n",
            "· Character Recognition· Open Source library· Toolkit.\n",
            "1 Introduction\n",
            "Deep Learning(DL)-based approaches are the state-of-the-art for a wide range of\n",
            "document image analysis (DIA) tasks including document image classification [11,\n",
            "arXiv:2103.15348v2 [cs.CV] 21 Jun 2021\n",
            "-------THIS IS A CUSTOM END OF PAGE-------\n",
            "2 Z. Shen et al.\n",
            "37], layout detection [38, 22], table detection [26], and scene text detection [4].\n",
            "A generalized learning-based framework dramatically reduces the need for the\n",
            "manual specification of complicated rules, which is the status quo with traditional\n",
            "methods. DL has the potential to transform DIA pipelines and benefit a broad\n",
            "spectrum of large-scale document digitization projects.\n",
            "However, there are several practical difficulties for taking advantages of re\u0002cent advances in DL-based methods: 1) DL models are notoriously convoluted\n",
            "for reuse and extension. Existing models are developed using distinct frame\u0002works like TensorFlow [1] or PyTorch [24], and the high-level parameters can\n",
            "be obfuscated by implementation details [8]. It can be a time-consuming and\n",
            "frustrating experience to debug, reproduce, and adapt existing models for DIA,\n",
            "and many researchers who would benefit the most from using these methods lack\n",
            "the technical background to implement them from scratch. 2) Document images\n",
            "contain diverse and disparate patterns across domains, and customized training\n",
            "is often required to achieve a desirable detection accuracy. Currently there is no\n",
            "full-fledged infrastructure for easily curating the target document image datasets\n",
            "and fine-tuning or re-training the models. 3) DIA usually requires a sequence of\n",
            "models and other processing to obtain the final outputs. Often research teams use\n",
            "DL models and then perform further document analyses in separate processes,\n",
            "and these pipelines are not documented in any central location (and often not\n",
            "documented at all). This makes it difficult for research teams to learn about how\n",
            "full pipelines are implemented and leads them to invest significant resources in\n",
            "reinventing the DIA wheel.\n",
            "LayoutParser provides a unified toolkit to support DL-based document image\n",
            "analysis and processing. To address the aforementioned challenges, LayoutParser\n",
            "is built with the following components:\n",
            "1. An off-the-shelf toolkit for applying DL models for layout detection, character\n",
            "recognition, and other DIA tasks (Section 3)\n",
            "2. A rich repository of pre-trained neural network models (Model Zoo) that\n",
            "underlies the off-the-shelf usage\n",
            "3. Comprehensive tools for efficient document image data annotation and model\n",
            "tuning to support different levels of customization\n",
            "4. A DL model hub and community platform for the easy sharing, distribu\u0002tion, and discussion of DIA models and pipelines, to promote reusability,\n",
            "reproducibility, and extensibility (Section 4)\n",
            "The library implements simple and intuitive Python APIs without sacrificing\n",
            "generalizability and versatility, and can be easily installed via pip. Its convenient\n",
            "functions for handling document image data can be seamlessly integrated with\n",
            "existing DIA pipelines. With detailed documentations and carefully curated\n",
            "tutorials, we hope this tool will benefit a variety of end-users, and will lead to\n",
            "advances in applications in both industry and academic research.\n",
            "LayoutParser is well aligned with recent efforts for improving DL model\n",
            "reusability in other disciplines like natural language processing [8, 34] and com\u0002puter vision [35], but with a focus on unique challenges in DIA. We show\n",
            "LayoutParser can be applied in sophisticated and large-scale digitization projects\n",
            "-------THIS IS A CUSTOM END OF PAGE-------\n",
            "LayoutParser: A Unified Toolkit for DL-Based DIA 3\n",
            "that require precision, efficiency, and robustness, as well as \n"
          ]
        }
      ],
      "source": [
        "loader = PyPDFium2Loader(\n",
        "    \"./example_data/layout-parser-paper.pdf\",\n",
        "    mode=\"single\",\n",
        "    pages_delimiter=\"\\n-------THIS IS A CUSTOM END OF PAGE-------\\n\",\n",
        ")\n",
        "docs = loader.load()\n",
        "print(docs[0].page_content[:5780])"
      ]
    },
    {
      "cell_type": "markdown",
      "metadata": {},
      "source": "这可以很简单地使用 \\n，或者 \\f 来清晰地指示换页，或者使用 \\<!-- PAGE BREAK --> 来无缝地注入到 Markdown 查看器中，而不会产生视觉效果。"
    },
    {
      "cell_type": "markdown",
      "metadata": {},
      "source": "# 从 PDF 中提取图片"
    },
    {
      "cell_type": "markdown",
      "metadata": {},
      "source": [
        "您可以使用以下三种解决方案从 PDF 中提取图像：\n- rapidOCR（轻量级光学字符识别工具）\n- Tesseract（高精度 OCR 工具）\n- Multimodal language model\n\n您可以调整这些函数来选择提取图像的输出格式，可以是 *html*、*markdown* 或 *text*\n\n结果会插入到页面最后一段和倒数第二段文本之间。"
      ]
    },
    {
      "cell_type": "markdown",
      "metadata": {},
      "source": "### 使用 rapidOCR 从 PDF 中提取图像："
    },
    {
      "cell_type": "code",
      "execution_count": 11,
      "metadata": {
        "ExecuteTime": {
          "end_time": "2025-02-06T07:04:39.419623Z",
          "start_time": "2025-02-06T07:04:37.250297Z"
        }
      },
      "outputs": [
        {
          "name": "stdout",
          "output_type": "stream",
          "text": [
            "Note: you may need to restart the kernel to use updated packages.\n"
          ]
        }
      ],
      "source": [
        "%pip install -qU rapidocr-onnxruntime"
      ]
    },
    {
      "cell_type": "code",
      "execution_count": 12,
      "metadata": {
        "ExecuteTime": {
          "end_time": "2025-02-06T07:05:02.902374Z",
          "start_time": "2025-02-06T07:04:39.500569Z"
        }
      },
      "outputs": [
        {
          "name": "stdout",
          "output_type": "stream",
          "text": [
            "6 Z. Shen et al.\n",
            "Fig. 2: The relationship between the three types of layout data structures.\n",
            "Coordinate supports three kinds of variation; TextBlock consists of the co\u0002ordinate information and extra features like block text, types, and reading orders;\n",
            "a Layout object is a list of all possible layout elements, including other Layout\n",
            "objects. They all support the same set of transformation and operation APIs for\n",
            "maximum flexibility.\n",
            "Shown in Table 1, LayoutParser currently hosts 9 pre-trained models trained\n",
            "on 5 different datasets. Description of the training dataset is provided alongside\n",
            "with the trained models such that users can quickly identify the most suitable\n",
            "models for their tasks. Additionally, when such a model is not readily available,\n",
            "LayoutParser also supports training customized layout models and community\n",
            "sharing of the models (detailed in Section 3.5).\n",
            "3.2 Layout Data Structures\n",
            "A critical feature of LayoutParser is the implementation of a series of data\n",
            "structures and operations that can be used to efficiently process and manipulate\n",
            "the layout elements. In document image analysis pipelines, various post-processing\n",
            "on the layout analysis model outputs is usually required to obtain the final\n",
            "outputs. Traditionally, this requires exporting DL model outputs and then loading\n",
            "the results into other pipelines. All model outputs from LayoutParser will be\n",
            "stored in carefully engineered data types optimized for further processing, which\n",
            "makes it possible to build an end-to-end document digitization pipeline within\n",
            "LayoutParser. There are three key components in the data structure, namely\n",
            "the Coordinate system, the TextBlock, and the Layout. They provide different\n",
            "levels of abstraction for the layout data, and a set of APIs are supported for\n",
            "transformations or operations on these classes.\n",
            "\n",
            "\n",
            "\n",
            "![Coordinate\n",
            "(x1, y1)\n",
            "(X1, y1)\n",
            "(x2,y2)\n",
            "APIS\n",
            "x-interval\n",
            "tart\n",
            "end\n",
            "Quadrilateral\n",
            "operation\n",
            "Rectangle\n",
            "y-interval\n",
            "ena\n",
            "(x2, y2)\n",
            "(x4, y4)\n",
            "(x3, y3)\n",
            "and\n",
            "textblock\n",
            "Coordinate\n",
            "transformation\n",
            "+\n",
            "Block\n",
            "Block\n",
            "Reading\n",
            "Extra features\n",
            "Text\n",
            "Type\n",
            "Order\n",
            "coordinatel\n",
            "textblockl\n",
            "layout\n",
            " same\n",
            "textblock2\n",
            "layoutl\n",
            "The\n",
            "A list of the layout elements](#)\n",
            "\n"
          ]
        }
      ],
      "source": [
        "from langchain_community.document_loaders.parsers import RapidOCRBlobParser\n",
        "\n",
        "loader = PyPDFium2Loader(\n",
        "    \"./example_data/layout-parser-paper.pdf\",\n",
        "    mode=\"page\",\n",
        "    images_inner_format=\"markdown-img\",\n",
        "    images_parser=RapidOCRBlobParser(),\n",
        ")\n",
        "docs = loader.load()\n",
        "\n",
        "print(docs[5].page_content)"
      ]
    },
    {
      "cell_type": "markdown",
      "metadata": {},
      "source": "请注意，RapidOCR 是为处理中文和英文设计的，不适用于其他语言。"
    },
    {
      "cell_type": "markdown",
      "metadata": {},
      "source": "### 使用 Tesseract 从 PDF 中提取图像："
    },
    {
      "cell_type": "code",
      "execution_count": 13,
      "metadata": {
        "ExecuteTime": {
          "end_time": "2025-02-06T07:05:07.656993Z",
          "start_time": "2025-02-06T07:05:05.890565Z"
        }
      },
      "outputs": [
        {
          "name": "stdout",
          "output_type": "stream",
          "text": [
            "Note: you may need to restart the kernel to use updated packages.\n"
          ]
        }
      ],
      "source": [
        "%pip install -qU pytesseract"
      ]
    },
    {
      "cell_type": "code",
      "execution_count": 14,
      "metadata": {
        "ExecuteTime": {
          "end_time": "2025-02-06T07:05:16.677336Z",
          "start_time": "2025-02-06T07:05:07.724790Z"
        }
      },
      "outputs": [
        {
          "name": "stdout",
          "output_type": "stream",
          "text": [
            "6 Z. Shen et al.\n",
            "Fig. 2: The relationship between the three types of layout data structures.\n",
            "Coordinate supports three kinds of variation; TextBlock consists of the co\u0002ordinate information and extra features like block text, types, and reading orders;\n",
            "a Layout object is a list of all possible layout elements, including other Layout\n",
            "objects. They all support the same set of transformation and operation APIs for\n",
            "maximum flexibility.\n",
            "Shown in Table 1, LayoutParser currently hosts 9 pre-trained models trained\n",
            "on 5 different datasets. Description of the training dataset is provided alongside\n",
            "with the trained models such that users can quickly identify the most suitable\n",
            "models for their tasks. Additionally, when such a model is not readily available,\n",
            "LayoutParser also supports training customized layout models and community\n",
            "sharing of the models (detailed in Section 3.5).\n",
            "3.2 Layout Data Structures\n",
            "A critical feature of LayoutParser is the implementation of a series of data\n",
            "structures and operations that can be used to efficiently process and manipulate\n",
            "the layout elements. In document image analysis pipelines, various post-processing\n",
            "on the layout analysis model outputs is usually required to obtain the final\n",
            "outputs. Traditionally, this requires exporting DL model outputs and then loading\n",
            "the results into other pipelines. All model outputs from LayoutParser will be\n",
            "stored in carefully engineered data types optimized for further processing, which\n",
            "makes it possible to build an end-to-end document digitization pipeline within\n",
            "LayoutParser. There are three key components in the data structure, namely\n",
            "the Coordinate system, the TextBlock, and the Layout. They provide different\n",
            "levels of abstraction for the layout data, and a set of APIs are supported for\n",
            "transformations or operations on these classes.\n",
            "\n",
            "\n",
            "\n",
            "<img alt=\"Coordinate\n",
            "\n",
            "textblock\n",
            "\n",
            "x-interval\n",
            "\n",
            "JeAsaqul-A\n",
            "\n",
            "Coordinate\n",
            "+\n",
            "\n",
            "Extra features\n",
            "\n",
            "Rectangle\n",
            "\n",
            "Quadrilateral\n",
            "\n",
            "Block\n",
            "Text\n",
            "\n",
            "Block\n",
            "Type\n",
            "\n",
            "Reading\n",
            "Order\n",
            "\n",
            "layout\n",
            "\n",
            "[ coordinatel1 textblock1 |\n",
            "&#x27;\n",
            "\n",
            "“y textblock2 , layout1 ]\n",
            "\n",
            "A list of the layout elements\n",
            "\n",
            "The same transformation and operation APIs src=\"#\" />\n",
            "\n"
          ]
        }
      ],
      "source": [
        "from langchain_community.document_loaders.parsers import TesseractBlobParser\n",
        "\n",
        "loader = PyPDFium2Loader(\n",
        "    \"./example_data/layout-parser-paper.pdf\",\n",
        "    mode=\"page\",\n",
        "    images_inner_format=\"html-img\",\n",
        "    images_parser=TesseractBlobParser(),\n",
        ")\n",
        "docs = loader.load()\n",
        "print(docs[5].page_content)"
      ]
    },
    {
      "cell_type": "markdown",
      "metadata": {},
      "source": "### 使用多模态模型从 PDF 中提取图像："
    },
    {
      "cell_type": "code",
      "execution_count": 15,
      "metadata": {
        "ExecuteTime": {
          "end_time": "2025-02-06T07:05:57.591688Z",
          "start_time": "2025-02-06T07:05:54.591989Z"
        }
      },
      "outputs": [
        {
          "name": "stdout",
          "output_type": "stream",
          "text": [
            "Note: you may need to restart the kernel to use updated packages.\n"
          ]
        }
      ],
      "source": [
        "%pip install -qU langchain_openai"
      ]
    },
    {
      "cell_type": "code",
      "execution_count": 16,
      "metadata": {
        "ExecuteTime": {
          "end_time": "2025-02-06T07:05:58.280055Z",
          "start_time": "2025-02-06T07:05:58.180689Z"
        }
      },
      "outputs": [
        {
          "data": {
            "text/plain": [
              "True"
            ]
          },
          "execution_count": 16,
          "metadata": {},
          "output_type": "execute_result"
        }
      ],
      "source": [
        "import os\n",
        "\n",
        "from dotenv import load_dotenv\n",
        "\n",
        "load_dotenv()"
      ]
    },
    {
      "cell_type": "code",
      "execution_count": 17,
      "metadata": {
        "ExecuteTime": {
          "end_time": "2025-02-06T07:05:59.170560Z",
          "start_time": "2025-02-06T07:05:59.167117Z"
        }
      },
      "outputs": [],
      "source": [
        "from getpass import getpass\n",
        "\n",
        "if not os.environ.get(\"OPENAI_API_KEY\"):\n",
        "    os.environ[\"OPENAI_API_KEY\"] = getpass(\"OpenAI API key =\")"
      ]
    },
    {
      "cell_type": "code",
      "execution_count": 18,
      "metadata": {
        "ExecuteTime": {
          "end_time": "2025-02-06T07:07:05.416416Z",
          "start_time": "2025-02-06T07:06:00.694853Z"
        }
      },
      "outputs": [
        {
          "name": "stdout",
          "output_type": "stream",
          "text": [
            "6 Z. Shen et al.\n",
            "Fig. 2: The relationship between the three types of layout data structures.\n",
            "Coordinate supports three kinds of variation; TextBlock consists of the co\u0002ordinate information and extra features like block text, types, and reading orders;\n",
            "a Layout object is a list of all possible layout elements, including other Layout\n",
            "objects. They all support the same set of transformation and operation APIs for\n",
            "maximum flexibility.\n",
            "Shown in Table 1, LayoutParser currently hosts 9 pre-trained models trained\n",
            "on 5 different datasets. Description of the training dataset is provided alongside\n",
            "with the trained models such that users can quickly identify the most suitable\n",
            "models for their tasks. Additionally, when such a model is not readily available,\n",
            "LayoutParser also supports training customized layout models and community\n",
            "sharing of the models (detailed in Section 3.5).\n",
            "3.2 Layout Data Structures\n",
            "A critical feature of LayoutParser is the implementation of a series of data\n",
            "structures and operations that can be used to efficiently process and manipulate\n",
            "the layout elements. In document image analysis pipelines, various post-processing\n",
            "on the layout analysis model outputs is usually required to obtain the final\n",
            "outputs. Traditionally, this requires exporting DL model outputs and then loading\n",
            "the results into other pipelines. All model outputs from LayoutParser will be\n",
            "stored in carefully engineered data types optimized for further processing, which\n",
            "makes it possible to build an end-to-end document digitization pipeline within\n",
            "LayoutParser. There are three key components in the data structure, namely\n",
            "the Coordinate system, the TextBlock, and the Layout. They provide different\n",
            "levels of abstraction for the layout data, and a set of APIs are supported for\n",
            "transformations or operations on these classes.\n",
            "\n",
            "\n",
            "\n",
            "![**Image Summary**: Diagram showing a data structure for layout elements including coordinates (intervals, rectangles, quadrilaterals) and text blocks with extra features (block text, type, reading order). It illustrates a hierarchy from coordinates to text blocks and a list of layout elements.\n",
            "\n",
            "**Extracted Text**:\n",
            "```\n",
            "Coordinate \n",
            "Coordinate\n",
            "\n",
            "x-interval\n",
            "x1, y1\n",
            "(x1, y1)\n",
            "y-interval\n",
            "(x2, y2)\n",
            "(x2, y2)\n",
            "\n",
            "Rectangle\n",
            "Rectangle\n",
            "\n",
            "Quadrilateral\n",
            "\n",
            "textblock\n",
            "\n",
            "Coordinate\n",
            "Coordinate\n",
            "\n",
            "+ +\n",
            "Extra features\n",
            "Extra features\n",
            "\n",
            "Block Block Reading ...\n",
            "Block Text\n",
            "Block Type\n",
            "Reading Order\n",
            "...\n",
            "\n",
            "layout\n",
            "\n",
            "[coordinate1, textblock1, textblock2, layout1\\\\]\n",
            "...\n",
            "\n",
            "[\\\\]\n",
            "A list of the layout elements\n",
            "A list of the layout elements\n",
            "\n",
            "The same transformation and operation APIs\n",
            "The same transformation\n",
            "and operation APIs\n",
            "```](#)\n",
            "\n"
          ]
        }
      ],
      "source": [
        "from langchain_community.document_loaders.parsers import LLMImageBlobParser\n",
        "from langchain_openai import ChatOpenAI\n",
        "\n",
        "loader = PyPDFium2Loader(\n",
        "    \"./example_data/layout-parser-paper.pdf\",\n",
        "    mode=\"page\",\n",
        "    images_inner_format=\"markdown-img\",\n",
        "    images_parser=LLMImageBlobParser(model=ChatOpenAI(model=\"gpt-4o\", max_tokens=1024)),\n",
        ")\n",
        "docs = loader.load()\n",
        "print(docs[5].page_content)"
      ]
    },
    {
      "cell_type": "markdown",
      "metadata": {},
      "source": [
        "## 使用文件操作\n\n许多文档加载器都涉及解析文件。这类加载器之间的区别通常源于文件的解析方式，而不是文件本身的加载方式。例如，你可以使用 `open` 来读取 PDF 或 markdown 文件的二进制内容，但需要不同的解析逻辑才能将这些二进制数据转换为文本。\n\n因此，将解析逻辑与加载逻辑分离会很有帮助，这样可以更轻松地重用给定的解析器，而无需考虑数据加载方式。\n你可以使用此策略，以相同的解析参数来分析不同的文件。"
      ]
    },
    {
      "cell_type": "code",
      "execution_count": 19,
      "metadata": {
        "ExecuteTime": {
          "end_time": "2025-02-06T07:07:08.394894Z",
          "start_time": "2025-02-06T07:07:08.164047Z"
        }
      },
      "outputs": [
        {
          "name": "stdout",
          "output_type": "stream",
          "text": [
            "LayoutParser: A Unified Toolkit for Deep\n",
            "Learning Based Document Image Analysis\n",
            "Zejiang Shen\n",
            "1\n",
            "(), Ruochen Zhang\n",
            "2\n",
            ", Melissa Dell\n",
            "3\n",
            ", Benjamin Charles Germain\n",
            "Lee\n",
            "4\n",
            ", Jacob Carlson\n",
            "3\n",
            ", and Weining Li\n",
            "5\n",
            "1 Allen Institute for AI\n",
            "shannons@allenai.org 2 Brown University\n",
            "ruochen zhang@brown.edu 3 Harvard University\n",
            "{melissadell,jacob carlson\n",
            "}@fas.harvard.edu\n",
            "4 University of Washington\n",
            "bcgl@cs.washington.edu 5 University of Waterloo\n",
            "w422li@uwaterloo.ca\n",
            "Abstract. Recent advances in document image analysis (DIA) have been\n",
            "primarily driven by the application of neural networks. Ideally, research\n",
            "outcomes could be easily deployed in production and extended for further\n",
            "investigation. However, various factors like loosely organized codebases\n",
            "and sophisticated model configurations complicate the easy reuse of im\u0002portant innovations by a wide audience. Though there have been on-going\n",
            "efforts to improve reusability and simplify deep learning (DL) model\n",
            "development in disciplines like natural language processing and computer\n",
            "vision, none of them are optimized for challenges in the domain of DIA.\n",
            "This represents a major gap in the existing toolkit, as DIA is central to\n",
            "academic research across a wide range of disciplines in the social sciences\n",
            "and humanities. This paper introduces LayoutParser, an open-source\n",
            "library for streamlining the usage of DL in DIA research and applica\u0002tions. The core LayoutParser library comes with a set of simple and\n",
            "intuitive interfaces for applying and customizing DL models for layout de\u0002tection, character recognition, and many other document processing tasks.\n",
            "To promote extensibility, LayoutParser also incorporates a community\n",
            "platform for sharing both pre-trained models and full document digiti\u0002zation pipelines. We demonstrate that LayoutParser is helpful for both\n",
            "lightweight and large-scale digitization pipelines in real-word use cases.\n",
            "The library is publicly available at https://layout-parser.github.io.\n",
            "Keywords: Document Image Analysis· Deep Learning· Layout Analysis\n",
            "· Character Recognition· Open Source library· Toolkit.\n",
            "1 Introduction\n",
            "Deep Learning(DL)-based approaches are the state-of-the-art for a wide range of\n",
            "document image analysis (DIA) tasks including document image classification [11,\n",
            "arXiv:2103.15348v2 [cs.CV] 21 Jun 2021\n",
            "\n",
            "{'title': '',\n",
            " 'author': '',\n",
            " 'subject': '',\n",
            " 'keywords': '',\n",
            " 'creator': 'LaTeX with hyperref',\n",
            " 'producer': 'pdfTeX-1.40.21',\n",
            " 'creationdate': '2021-06-22T01:27:10+00:00',\n",
            " 'moddate': '2021-06-22T01:27:10+00:00',\n",
            " 'source': 'example_data/layout-parser-paper.pdf',\n",
            " 'total_pages': 16,\n",
            " 'page': 0}\n"
          ]
        }
      ],
      "source": [
        "from langchain_community.document_loaders import FileSystemBlobLoader\n",
        "from langchain_community.document_loaders.generic import GenericLoader\n",
        "from langchain_community.document_loaders.parsers import PyPDFium2Parser\n",
        "\n",
        "loader = GenericLoader(\n",
        "    blob_loader=FileSystemBlobLoader(\n",
        "        path=\"./example_data/\",\n",
        "        glob=\"*.pdf\",\n",
        "    ),\n",
        "    blob_parser=PyPDFium2Parser(),\n",
        ")\n",
        "docs = loader.load()\n",
        "print(docs[0].page_content)\n",
        "pprint.pp(docs[0].metadata)"
      ]
    },
    {
      "cell_type": "markdown",
      "metadata": {},
      "source": "可以与云存储中的文件进行协作。"
    },
    {
      "cell_type": "code",
      "execution_count": null,
      "metadata": {},
      "outputs": [],
      "source": [
        "from langchain_community.document_loaders import CloudBlobLoader\n",
        "from langchain_community.document_loaders.generic import GenericLoader\n",
        "\n",
        "loader = GenericLoader(\n",
        "    blob_loader=CloudBlobLoader(\n",
        "        url=\"s3://mybucket\",  # Supports s3://, az://, gs://, file:// schemes.\n",
        "        glob=\"*.pdf\",\n",
        "    ),\n",
        "    blob_parser=PyPDFium2Parser(),\n",
        ")\n",
        "docs = loader.load()\n",
        "print(docs[0].page_content)\n",
        "pprint.pp(docs[0].metadata)"
      ]
    },
    {
      "cell_type": "markdown",
      "metadata": {},
      "source": [
        "## API 参考\n\n如需了解 `PyPDFium2Loader` 所有功能和配置的详细文档，请访问 API 参考：https://python.langchain.com/api_reference/community/document_loaders/langchain_community.document_loaders.pdf.PyPDFium2Loader.html"
      ]
    }
  ],
  "metadata": {
    "kernelspec": {
      "display_name": "Python 3 (ipykernel)",
      "language": "python",
      "name": "python3"
    },
    "language_info": {
      "codemirror_mode": {
        "name": "ipython",
        "version": 3
      },
      "file_extension": ".py",
      "mimetype": "text/x-python",
      "name": "python",
      "nbconvert_exporter": "python",
      "pygments_lexer": "ipython3",
      "version": "3.10.1"
    }
  },
  "nbformat": 4,
  "nbformat_minor": 4
}