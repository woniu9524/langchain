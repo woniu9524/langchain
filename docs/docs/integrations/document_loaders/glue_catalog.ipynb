{
  "cells": [
    {
      "cell_type": "markdown",
      "metadata": {
        "id": "MwTWzDxYgbrR"
      },
      "source": [
        "# Glue Catalog\n\n\n[AWS Glue Data Catalog](https://docs.aws.amazon.com/en_en/glue/latest/dg/catalog-and-crawler.html) 是一个集中的元数据存储库，允许您管理、访问和共享有关存储在 AWS 中的数据的元数据。它充当数据资产的元数据存储，使各种 AWS 服务和您的应用程序能够高效地查询和连接到所需的数据。\n\n当您在 AWS Glue 中定义数据源、转换和目标时，有关这些元素的元数据会存储在 Data Catalog 中。这包括有关数据位置、模式定义、运行时指标等信息。它支持各种数据存储类型，例如 Amazon S3、Amazon RDS、Amazon Redshift 以及与 JDBC 兼容的外部数据库。它还直接与 Amazon Athena、Amazon Redshift Spectrum 和 Amazon EMR 集成，允许这些服务直接访问和查询数据。\n\nLangchain GlueCatalogLoader 将以与 Pandas dtype 相同的格式获取给定 Glue 数据库中所有表的模式。"
      ]
    },
    {
      "cell_type": "markdown",
      "metadata": {},
      "source": [
        "## 设置\n\n- 遵循 [设置 AWS 账户的说明](https://docs.aws.amazon.com/athena/latest/ug/setting-up.html)。\n- 安装 boto3 库：`pip install boto3`"
      ]
    },
    {
      "cell_type": "markdown",
      "metadata": {},
      "source": [
        "## 示例"
      ]
    },
    {
      "cell_type": "code",
      "execution_count": null,
      "metadata": {
        "id": "076NLjfngoWJ"
      },
      "outputs": [],
      "source": [
        "from langchain_community.document_loaders.glue_catalog import GlueCatalogLoader"
      ]
    },
    {
      "cell_type": "code",
      "execution_count": null,
      "metadata": {
        "id": "XpMRQwU9gu44"
      },
      "outputs": [],
      "source": [
        "database_name = \"my_database\"\n",
        "profile_name = \"my_profile\"\n",
        "\n",
        "loader = GlueCatalogLoader(\n",
        "    database=database_name,\n",
        "    profile_name=profile_name,\n",
        ")\n",
        "\n",
        "schemas = loader.load()\n",
        "print(schemas)"
      ]
    },
    {
      "cell_type": "markdown",
      "metadata": {},
      "source": [
        "## 带有表筛选的示例\n\n表筛选允许您为 Glue 数据库中的特定表子集选择性地检索架构信息。您可以使用 `table_filter` 参数精确指定您感兴趣的表，而不是加载所有表的架构。"
      ]
    },
    {
      "cell_type": "code",
      "execution_count": null,
      "metadata": {},
      "outputs": [],
      "source": [
        "from langchain_community.document_loaders.glue_catalog import GlueCatalogLoader"
      ]
    },
    {
      "cell_type": "code",
      "execution_count": null,
      "metadata": {},
      "outputs": [],
      "source": [
        "database_name = \"my_database\"\n",
        "profile_name = \"my_profile\"\n",
        "table_filter = [\"table1\", \"table2\", \"table3\"]\n",
        "\n",
        "loader = GlueCatalogLoader(\n",
        "    database=database_name, profile_name=profile_name, table_filter=table_filter\n",
        ")\n",
        "\n",
        "schemas = loader.load()\n",
        "print(schemas)"
      ]
    }
  ],
  "metadata": {
    "colab": {
      "provenance": []
    },
    "kernelspec": {
      "display_name": "Python 3",
      "name": "python3"
    },
    "language_info": {
      "name": "python"
    }
  },
  "nbformat": 4,
  "nbformat_minor": 0
}