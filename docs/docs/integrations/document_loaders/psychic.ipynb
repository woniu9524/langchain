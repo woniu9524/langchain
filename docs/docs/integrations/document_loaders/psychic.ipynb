{
  "cells": [
    {
      "cell_type": "markdown",
      "metadata": {},
      "source": [
        "# Psychic\n本 Notebook 涵盖了如何从 `Psychic` 加载文档。更多详情请参阅 [此处](/docs/integrations/providers/psychic)。\n\n## 先决条件\n1. 遵循 [本文档](/docs/integrations/providers/psychic) 中的快速入门部分\n2. 登录 [Psychic dashboard](https://dashboard.psychic.dev/) 并获取你的 secret key\n3. 将前端 react 库安装到你的 Web 应用中，并让用户验证连接。连接将使用你指定的 connection id 来创建。"
      ]
    },
    {
      "cell_type": "markdown",
      "metadata": {},
      "source": [
        "## 加载文档\n\n使用 `PsychicLoader` 类从连接中加载文档。每个连接都有一个连接器 ID（对应已连接的 SaaS 应用程序）和一个连接 ID（您传递给前端库的 ID）。"
      ]
    },
    {
      "cell_type": "code",
      "execution_count": 7,
      "metadata": {},
      "outputs": [
        {
          "name": "stdout",
          "output_type": "stream",
          "text": [
            "\n",
            "\u001b[1m[\u001b[0m\u001b[34;49mnotice\u001b[0m\u001b[1;39;49m]\u001b[0m\u001b[39;49m A new release of pip is available: \u001b[0m\u001b[31;49m23.0.1\u001b[0m\u001b[39;49m -> \u001b[0m\u001b[32;49m23.1.2\u001b[0m\n",
            "\u001b[1m[\u001b[0m\u001b[34;49mnotice\u001b[0m\u001b[1;39;49m]\u001b[0m\u001b[39;49m To update, run: \u001b[0m\u001b[32;49mpip install --upgrade pip\u001b[0m\n"
          ]
        }
      ],
      "source": [
        "# Uncomment this to install psychicapi if you don't already have it installed\n",
        "!poetry run pip -q install psychicapi langchain-chroma"
      ]
    },
    {
      "cell_type": "code",
      "execution_count": null,
      "metadata": {},
      "outputs": [],
      "source": [
        "from langchain_community.document_loaders import PsychicLoader\n",
        "from psychicapi import ConnectorId\n",
        "\n",
        "# Create a document loader for google drive. We can also load from other connectors by setting the connector_id to the appropriate value e.g. ConnectorId.notion.value\n",
        "# This loader uses our test credentials\n",
        "google_drive_loader = PsychicLoader(\n",
        "    api_key=\"7ddb61c1-8b6a-4d31-a58e-30d1c9ea480e\",\n",
        "    connector_id=ConnectorId.gdrive.value,\n",
        "    connection_id=\"google-test\",\n",
        ")\n",
        "\n",
        "documents = google_drive_loader.load()"
      ]
    },
    {
      "cell_type": "markdown",
      "metadata": {},
      "source": [
        "## 将文档转换为嵌入\n\n我们现在可以将这些文档转换为嵌入，并将其存储在像 Chroma 这样的向量数据库中。"
      ]
    },
    {
      "cell_type": "code",
      "execution_count": null,
      "metadata": {},
      "outputs": [],
      "source": [
        "from langchain.chains import RetrievalQAWithSourcesChain\n",
        "from langchain_chroma import Chroma\n",
        "from langchain_openai import OpenAI, OpenAIEmbeddings\n",
        "from langchain_text_splitters import CharacterTextSplitter"
      ]
    },
    {
      "cell_type": "code",
      "execution_count": null,
      "metadata": {},
      "outputs": [],
      "source": [
        "text_splitter = CharacterTextSplitter(chunk_size=1000, chunk_overlap=0)\n",
        "texts = text_splitter.split_documents(documents)\n",
        "\n",
        "embeddings = OpenAIEmbeddings()\n",
        "docsearch = Chroma.from_documents(texts, embeddings)\n",
        "chain = RetrievalQAWithSourcesChain.from_chain_type(\n",
        "    OpenAI(temperature=0), chain_type=\"stuff\", retriever=docsearch.as_retriever()\n",
        ")\n",
        "chain({\"question\": \"what is psychic?\"}, return_only_outputs=True)"
      ]
    }
  ],
  "metadata": {
    "kernelspec": {
      "display_name": "Python 3 (ipykernel)",
      "language": "python",
      "name": "python3"
    },
    "language_info": {
      "codemirror_mode": {
        "name": "ipython",
        "version": 3
      },
      "file_extension": ".py",
      "mimetype": "text/x-python",
      "name": "python",
      "nbconvert_exporter": "python",
      "pygments_lexer": "ipython3",
      "version": "3.10.1"
    },
    "vscode": {
      "interpreter": {
        "hash": "aee8b7b246df8f9039afb4144a1f6fd8d2ca17a180786b69acc140d282b71a49"
      }
    }
  },
  "nbformat": 4,
  "nbformat_minor": 2
}