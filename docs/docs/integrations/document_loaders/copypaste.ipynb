{
  "cells": [
    {
      "cell_type": "markdown",
      "id": "d9826810",
      "metadata": {},
      "source": [
        "# 复制粘贴\n\n本 Notebook 将介绍如何从您想要复制和粘贴的内容中加载一个文档对象。在这种情况下，您甚至不需要使用 DocumentLoader，而是可以直接构造 Document。"
      ]
    },
    {
      "cell_type": "code",
      "execution_count": 1,
      "id": "fd9e71a2",
      "metadata": {},
      "outputs": [],
      "source": [
        "from langchain_core.documents import Document"
      ]
    },
    {
      "cell_type": "code",
      "execution_count": 2,
      "id": "f40d3f30",
      "metadata": {},
      "outputs": [],
      "source": [
        "text = \"..... put the text you copy pasted here......\""
      ]
    },
    {
      "cell_type": "code",
      "execution_count": 3,
      "id": "d409bdba",
      "metadata": {},
      "outputs": [],
      "source": [
        "doc = Document(page_content=text)"
      ]
    },
    {
      "cell_type": "markdown",
      "id": "cc0eff72",
      "metadata": {},
      "source": [
        "## 元数据\n如果你想添加关于这段文本来源的元数据，可以使用 `metadata` 键轻松实现。"
      ]
    },
    {
      "cell_type": "code",
      "execution_count": 4,
      "id": "fe3aa5aa",
      "metadata": {},
      "outputs": [],
      "source": [
        "metadata = {\"source\": \"internet\", \"date\": \"Friday\"}"
      ]
    },
    {
      "cell_type": "code",
      "execution_count": 5,
      "id": "827d4e91",
      "metadata": {},
      "outputs": [],
      "source": [
        "doc = Document(page_content=text, metadata=metadata)"
      ]
    },
    {
      "cell_type": "code",
      "execution_count": null,
      "id": "c986a43d",
      "metadata": {},
      "outputs": [],
      "source": []
    }
  ],
  "metadata": {
    "kernelspec": {
      "display_name": "Python 3 (ipykernel)",
      "language": "python",
      "name": "python3"
    },
    "language_info": {
      "codemirror_mode": {
        "name": "ipython",
        "version": 3
      },
      "file_extension": ".py",
      "mimetype": "text/x-python",
      "name": "python",
      "nbconvert_exporter": "python",
      "pygments_lexer": "ipython3",
      "version": "3.10.6"
    }
  },
  "nbformat": 4,
  "nbformat_minor": 5
}