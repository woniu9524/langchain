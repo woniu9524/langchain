{
  "cells": [
    {
      "cell_type": "markdown",
      "id": "39af9ecd",
      "metadata": {},
      "source": [
        "# Microsoft Word\n\n>[Microsoft Word](https://www.microsoft.com/en-us/microsoft-365/word) 是一款由 Microsoft 开发的文字处理器。\n\n这涵盖了如何将 `Word` 文档加载到下游可用的文档格式中。"
      ]
    },
    {
      "cell_type": "markdown",
      "id": "9438686b",
      "metadata": {},
      "source": [
        "## 使用 Docx2txt\n\n使用 `Docx2txt` 将 .docx 加载到文档中。"
      ]
    },
    {
      "cell_type": "code",
      "execution_count": null,
      "id": "7b80ea891",
      "metadata": {},
      "outputs": [],
      "source": [
        "%pip install --upgrade --quiet  docx2txt"
      ]
    },
    {
      "cell_type": "code",
      "execution_count": 2,
      "id": "7b80ea89",
      "metadata": {},
      "outputs": [
        {
          "data": {
            "text/plain": [
              "[Document(page_content='Lorem ipsum dolor sit amet.', metadata={'source': './example_data/fake.docx'})]"
            ]
          },
          "execution_count": 2,
          "metadata": {},
          "output_type": "execute_result"
        }
      ],
      "source": [
        "from langchain_community.document_loaders import Docx2txtLoader\n",
        "\n",
        "loader = Docx2txtLoader(\"./example_data/fake.docx\")\n",
        "\n",
        "data = loader.load()\n",
        "\n",
        "data"
      ]
    },
    {
      "cell_type": "markdown",
      "id": "8d40727d",
      "metadata": {},
      "source": [
        "## 使用 Unstructured\n\n请参阅 [此指南](/docs/integrations/providers/unstructured/)，了解在本地设置 Unstructured 的更多说明，包括设置所需的系统依赖项。"
      ]
    },
    {
      "cell_type": "code",
      "execution_count": 3,
      "id": "721c48aa",
      "metadata": {},
      "outputs": [
        {
          "data": {
            "text/plain": [
              "[Document(page_content='Lorem ipsum dolor sit amet.', metadata={'source': 'example_data/fake.docx'})]"
            ]
          },
          "execution_count": 3,
          "metadata": {},
          "output_type": "execute_result"
        }
      ],
      "source": [
        "from langchain_community.document_loaders import UnstructuredWordDocumentLoader\n",
        "\n",
        "loader = UnstructuredWordDocumentLoader(\"example_data/fake.docx\")\n",
        "\n",
        "data = loader.load()\n",
        "\n",
        "data"
      ]
    },
    {
      "cell_type": "markdown",
      "id": "525d6b67",
      "metadata": {},
      "source": [
        "### 保留元素\n\n在底层，Unstructured 会为不同的文本块创建不同的“元素”。默认情况下，我们会将它们组合在一起，但您可以通过指定 `mode=\"elements\"` 来轻松地保留这种分离。"
      ]
    },
    {
      "cell_type": "code",
      "execution_count": 5,
      "id": "064f9162",
      "metadata": {},
      "outputs": [
        {
          "data": {
            "text/plain": [
              "Document(page_content='Lorem ipsum dolor sit amet.', metadata={'source': './example_data/fake.docx', 'category_depth': 0, 'file_directory': './example_data', 'filename': 'fake.docx', 'last_modified': '2023-12-19T13:42:18', 'languages': ['por', 'cat'], 'filetype': 'application/vnd.openxmlformats-officedocument.wordprocessingml.document', 'category': 'Title'})"
            ]
          },
          "execution_count": 5,
          "metadata": {},
          "output_type": "execute_result"
        }
      ],
      "source": [
        "loader = UnstructuredWordDocumentLoader(\"./example_data/fake.docx\", mode=\"elements\")\n",
        "\n",
        "data = loader.load()\n",
        "\n",
        "data[0]"
      ]
    },
    {
      "cell_type": "markdown",
      "id": "c1f3b83f",
      "metadata": {},
      "source": [
        "## 使用 Azure AI Document Intelligence\n\n>[Azure AI Document Intelligence](https://aka.ms/doc-intelligence) (以前称为 `Azure Form Recognizer`) 是一种基于机器学习的服务，可以从数字或扫描的 PDF、图像、Office 和 HTML 文件中提取文本（包括手写体）、表格、文档结构（例如标题、章节标题等）以及键值对。\n\nDocument Intelligence 支持 `PDF`、`JPEG/JPG`、`PNG`、`BMP`、`TIFF`、`HEIF`、`DOCX`、`XLSX`、`PPTX` 和 `HTML`。\n\n目前使用 `Document Intelligence` 的加载器的实现可以按页整合内容，并将其转换为 LangChain 文档。默认输出格式为 markdown，可以轻松地与 `MarkdownHeaderTextSplitter` 链接，以实现语义化的文档分块。您还可以使用 `mode=\"single\"` 或 `mode=\"page\"` 以单页纯文本或按页分割的文档形式返回。"
      ]
    },
    {
      "cell_type": "markdown",
      "id": "a5bd47c2",
      "metadata": {},
      "source": [
        "## 先决条件\n\n在以下 3 个预览区域之一中创建一个 Azure AI Document Intelligence 资源：**美国东部**、**美国西部 2**、**欧洲西部** - 如果您还没有资源，请遵循[此文档](https://learn.microsoft.com/azure/ai-services/document-intelligence/create-document-intelligence-resource?view=doc-intel-4.0.0)进行创建。您将把 `<endpoint>` 和 `<key>` 作为参数传递给加载程序。"
      ]
    },
    {
      "cell_type": "markdown",
      "id": "71cbdfe0",
      "metadata": {},
      "source": [
        "%pip install --upgrade --quiet  langchain langchain-community azure-ai-documentintelligence"
      ]
    },
    {
      "cell_type": "code",
      "execution_count": null,
      "id": "691bd9e8",
      "metadata": {},
      "outputs": [],
      "source": [
        "from langchain_community.document_loaders import AzureAIDocumentIntelligenceLoader\n",
        "\n",
        "file_path = \"<filepath>\"\n",
        "endpoint = \"<endpoint>\"\n",
        "key = \"<key>\"\n",
        "loader = AzureAIDocumentIntelligenceLoader(\n",
        "    api_endpoint=endpoint, api_key=key, file_path=file_path, api_model=\"prebuilt-layout\"\n",
        ")\n",
        "\n",
        "documents = loader.load()"
      ]
    }
  ],
  "metadata": {
    "kernelspec": {
      "display_name": "Python 3 (ipykernel)",
      "language": "python",
      "name": "python3"
    },
    "language_info": {
      "codemirror_mode": {
        "name": "ipython",
        "version": 3
      },
      "file_extension": ".py",
      "mimetype": "text/x-python",
      "name": "python",
      "nbconvert_exporter": "python",
      "pygments_lexer": "ipython3",
      "version": "3.10.5"
    }
  },
  "nbformat": 4,
  "nbformat_minor": 5
}