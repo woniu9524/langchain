{
  "cells": [
    {
      "cell_type": "markdown",
      "metadata": {
        "id": "MwTWzDxYgbrR"
      },
      "source": [
        "# Athena\n\n>[Amazon Athena](https://aws.amazon.com/athena/) 是一项基于开源框架构建的无服务器交互式分析服务，支持开放表和文件格式。`Athena` 提供了一种简化的、灵活的方式来分析其所在位置的 PB 级数据。使用 SQL 或 Python，可以分析数据或从 Amazon Simple Storage Service (S3) 数据湖和包括本地数据源或其他云系统在内的 30 个数据源构建应用程序。`Athena` 基于开源的 `Trino` 和 `Presto` 引擎以及 `Apache Spark` 框架构建，无需进行配置或设置。\n\n本笔记本将介绍如何从 `AWS Athena` 加载文档。"
      ]
    },
    {
      "cell_type": "markdown",
      "metadata": {},
      "source": [
        "## 设置\n\n请遵循 [设置 AWS 账户的说明](https://docs.aws.amazon.com/athena/latest/ug/setting-up.html)。\n\n安装一个 Python 库："
      ]
    },
    {
      "cell_type": "code",
      "execution_count": null,
      "metadata": {
        "id": "F0zaLR3xgWmO"
      },
      "outputs": [],
      "source": [
        "! pip install boto3"
      ]
    },
    {
      "cell_type": "markdown",
      "metadata": {},
      "source": [
        "## 示例"
      ]
    },
    {
      "cell_type": "code",
      "execution_count": null,
      "metadata": {
        "id": "076NLjfngoWJ"
      },
      "outputs": [],
      "source": [
        "from langchain_community.document_loaders.athena import AthenaLoader"
      ]
    },
    {
      "cell_type": "code",
      "execution_count": null,
      "metadata": {
        "id": "XpMRQwU9gu44"
      },
      "outputs": [],
      "source": [
        "database_name = \"my_database\"\n",
        "s3_output_path = \"s3://my_bucket/query_results/\"\n",
        "query = \"SELECT * FROM my_table\"\n",
        "profile_name = \"my_profile\"\n",
        "\n",
        "loader = AthenaLoader(\n",
        "    query=query,\n",
        "    database=database_name,\n",
        "    s3_output_uri=s3_output_path,\n",
        "    profile_name=profile_name,\n",
        ")\n",
        "\n",
        "documents = loader.load()\n",
        "print(documents)"
      ]
    },
    {
      "cell_type": "markdown",
      "metadata": {
        "id": "5IBapL3ejoEt"
      },
      "source": [
        "包含元数据列的示例"
      ]
    },
    {
      "cell_type": "code",
      "execution_count": null,
      "metadata": {
        "id": "wMx6nI1qjryD"
      },
      "outputs": [],
      "source": [
        "database_name = \"my_database\"\n",
        "s3_output_path = \"s3://my_bucket/query_results/\"\n",
        "query = \"SELECT * FROM my_table\"\n",
        "profile_name = \"my_profile\"\n",
        "metadata_columns = [\"_row\", \"_created_at\"]\n",
        "\n",
        "loader = AthenaLoader(\n",
        "    query=query,\n",
        "    database=database_name,\n",
        "    s3_output_uri=s3_output_path,\n",
        "    profile_name=profile_name,\n",
        "    metadata_columns=metadata_columns,\n",
        ")\n",
        "\n",
        "documents = loader.load()\n",
        "print(documents)"
      ]
    }
  ],
  "metadata": {
    "colab": {
      "provenance": []
    },
    "kernelspec": {
      "display_name": "Python 3 (ipykernel)",
      "language": "python",
      "name": "python3"
    },
    "language_info": {
      "codemirror_mode": {
        "name": "ipython",
        "version": 3
      },
      "file_extension": ".py",
      "mimetype": "text/x-python",
      "name": "python",
      "nbconvert_exporter": "python",
      "pygments_lexer": "ipython3",
      "version": "3.10.12"
    }
  },
  "nbformat": 4,
  "nbformat_minor": 4
}