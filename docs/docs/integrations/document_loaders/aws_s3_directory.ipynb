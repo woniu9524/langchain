{
  "cells": [
    {
      "cell_type": "markdown",
      "id": "a634365e",
      "metadata": {},
      "source": [
        "# AWS S3 目录\n\n>[Amazon Simple Storage Service (Amazon S3)](https://docs.aws.amazon.com/AmazonS3/latest/userguide/using-folders.html) 是一项对象存储服务\n\n>[AWS S3 目录](https://docs.aws.amazon.com/AmazonS3/latest/userguide/using-folders.html)\n\n本文介绍如何从 `AWS S3 目录` 对象加载文档对象。"
      ]
    },
    {
      "cell_type": "code",
      "execution_count": null,
      "id": "49815096",
      "metadata": {
        "tags": []
      },
      "outputs": [],
      "source": [
        "%pip install --upgrade --quiet  boto3"
      ]
    },
    {
      "cell_type": "code",
      "execution_count": 2,
      "id": "2f0cd6a5",
      "metadata": {
        "tags": []
      },
      "outputs": [],
      "source": [
        "from langchain_community.document_loaders import S3DirectoryLoader"
      ]
    },
    {
      "cell_type": "code",
      "execution_count": 3,
      "id": "321cc7f1",
      "metadata": {
        "tags": []
      },
      "outputs": [],
      "source": [
        "loader = S3DirectoryLoader(\"testing-hwc\")"
      ]
    },
    {
      "cell_type": "code",
      "execution_count": null,
      "id": "2b11d155",
      "metadata": {
        "tags": []
      },
      "outputs": [],
      "source": [
        "loader.load()"
      ]
    },
    {
      "cell_type": "markdown",
      "id": "0690c40a",
      "metadata": {},
      "source": [
        "## 指定前缀\n你还可以指定一个前缀，以对要加载的文件进行更精细化的控制。"
      ]
    },
    {
      "cell_type": "code",
      "execution_count": 5,
      "id": "72d44781",
      "metadata": {},
      "outputs": [],
      "source": [
        "loader = S3DirectoryLoader(\"testing-hwc\", prefix=\"fake\")"
      ]
    },
    {
      "cell_type": "code",
      "execution_count": 6,
      "id": "2d3c32db",
      "metadata": {},
      "outputs": [
        {
          "data": {
            "text/plain": [
              "[Document(page_content='Lorem ipsum dolor sit amet.', lookup_str='', metadata={'source': 's3://testing-hwc/fake.docx'}, lookup_index=0)]"
            ]
          },
          "execution_count": 6,
          "metadata": {},
          "output_type": "execute_result"
        }
      ],
      "source": [
        "loader.load()"
      ]
    },
    {
      "cell_type": "markdown",
      "id": "91a7ac07",
      "metadata": {},
      "source": [
        "## 配置 AWS Boto3 客户端\n您可以在创建 S3DirectoryLoader 时，通过传递具名参数来配置 AWS [Boto3](https://boto3.amazonaws.com/v1/documentation/api/latest/index.html) 客户端。\n当无法将 AWS 凭证设置为环境变量时，此功能非常有用。\n请参阅[可配置参数列表](https://boto3.amazonaws.com/v1/documentation/api/latest/reference/core/session.html#boto3.session.Session)。"
      ]
    },
    {
      "cell_type": "code",
      "execution_count": null,
      "id": "f485ec8c",
      "metadata": {},
      "outputs": [],
      "source": [
        "loader = S3DirectoryLoader(\n",
        "    \"testing-hwc\", aws_access_key_id=\"xxxx\", aws_secret_access_key=\"yyyy\"\n",
        ")"
      ]
    },
    {
      "cell_type": "code",
      "execution_count": null,
      "id": "c0fa76ae",
      "metadata": {},
      "outputs": [],
      "source": [
        "loader.load()"
      ]
    }
  ],
  "metadata": {
    "kernelspec": {
      "display_name": "Python 3 (ipykernel)",
      "language": "python",
      "name": "python3"
    },
    "language_info": {
      "codemirror_mode": {
        "name": "ipython",
        "version": 3
      },
      "file_extension": ".py",
      "mimetype": "text/x-python",
      "name": "python",
      "nbconvert_exporter": "python",
      "pygments_lexer": "ipython3",
      "version": "3.10.6"
    }
  },
  "nbformat": 4,
  "nbformat_minor": 5
}