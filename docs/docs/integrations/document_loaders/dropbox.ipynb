{
  "cells": [
    {
      "cell_type": "markdown",
      "metadata": {},
      "source": [
        "# Dropbox\n\n[Dropbox](https://en.wikipedia.org/wiki/Dropbox) 是一项文件托管服务，可将传统文件、云内容和网络快捷方式整合到同一个地方。\n\n本笔记本涵盖了如何从 *Dropbox* 加载文档。除了文本和 PDF 文件等常见文件外，它还支持 *Dropbox Paper* 文件。\n\n## 先决条件\n\n1. 创建一个 Dropbox 应用。\n2. 为应用授予以下范围权限：`files.metadata.read` 和 `files.content.read`。\n3. 生成访问令牌：https://www.dropbox.com/developers/apps/create。\n4. `pip install dropbox`（对于 PDF 文件类型，需要 `pip install \"unstructured[pdf]\"`）。\n\n## 说明\n\n`DropboxLoader` 要求您创建一个 Dropbox 应用并生成访问令牌。可以通过 https://www.dropbox.com/developers/apps/create 完成此操作。您还需要安装 Dropbox Python SDK (`pip install dropbox`)。\n\nDropboxLoader 可以从 Dropbox 文件路径列表或单个 Dropbox 文件夹路径加载数据。这两个路径都应相对于与访问令牌关联的 Dropbox 帐户的根目录。"
      ]
    },
    {
      "cell_type": "code",
      "execution_count": 1,
      "metadata": {},
      "outputs": [
        {
          "name": "stdout",
          "output_type": "stream",
          "text": [
            "Requirement already satisfied: dropbox in /Users/rbarragan/.local/share/virtualenvs/langchain-kv0dsrF5/lib/python3.11/site-packages (11.36.2)\n",
            "Requirement already satisfied: requests>=2.16.2 in /Users/rbarragan/.local/share/virtualenvs/langchain-kv0dsrF5/lib/python3.11/site-packages (from dropbox) (2.31.0)\n",
            "Requirement already satisfied: six>=1.12.0 in /Users/rbarragan/.local/share/virtualenvs/langchain-kv0dsrF5/lib/python3.11/site-packages (from dropbox) (1.16.0)\n",
            "Requirement already satisfied: stone>=2 in /Users/rbarragan/.local/share/virtualenvs/langchain-kv0dsrF5/lib/python3.11/site-packages (from dropbox) (3.3.1)\n",
            "Requirement already satisfied: charset-normalizer<4,>=2 in /Users/rbarragan/.local/share/virtualenvs/langchain-kv0dsrF5/lib/python3.11/site-packages (from requests>=2.16.2->dropbox) (3.2.0)\n",
            "Requirement already satisfied: idna<4,>=2.5 in /Users/rbarragan/.local/share/virtualenvs/langchain-kv0dsrF5/lib/python3.11/site-packages (from requests>=2.16.2->dropbox) (3.4)\n",
            "Requirement already satisfied: urllib3<3,>=1.21.1 in /Users/rbarragan/.local/share/virtualenvs/langchain-kv0dsrF5/lib/python3.11/site-packages (from requests>=2.16.2->dropbox) (2.0.4)\n",
            "Requirement already satisfied: certifi>=2017.4.17 in /Users/rbarragan/.local/share/virtualenvs/langchain-kv0dsrF5/lib/python3.11/site-packages (from requests>=2.16.2->dropbox) (2023.7.22)\n",
            "Requirement already satisfied: ply>=3.4 in /Users/rbarragan/.local/share/virtualenvs/langchain-kv0dsrF5/lib/python3.11/site-packages (from stone>=2->dropbox) (3.11)\n",
            "Note: you may need to restart the kernel to use updated packages.\n"
          ]
        }
      ],
      "source": [
        "pip install dropbox"
      ]
    },
    {
      "cell_type": "code",
      "execution_count": 2,
      "metadata": {},
      "outputs": [],
      "source": [
        "from langchain_community.document_loaders import DropboxLoader"
      ]
    },
    {
      "cell_type": "code",
      "execution_count": 3,
      "metadata": {},
      "outputs": [],
      "source": [
        "# Generate access token: https://www.dropbox.com/developers/apps/create.\n",
        "dropbox_access_token = \"<DROPBOX_ACCESS_TOKEN>\"\n",
        "# Dropbox root folder\n",
        "dropbox_folder_path = \"\""
      ]
    },
    {
      "cell_type": "code",
      "execution_count": 4,
      "metadata": {},
      "outputs": [],
      "source": [
        "loader = DropboxLoader(\n",
        "    dropbox_access_token=dropbox_access_token,\n",
        "    dropbox_folder_path=dropbox_folder_path,\n",
        "    recursive=False,\n",
        ")"
      ]
    },
    {
      "cell_type": "code",
      "execution_count": 5,
      "metadata": {},
      "outputs": [
        {
          "name": "stdout",
          "output_type": "stream",
          "text": [
            "File /JHSfLKn0.jpeg could not be decoded as text. Skipping.\n",
            "File /A REPORT ON WILES’ CAMBRIDGE LECTURES.pdf could not be decoded as text. Skipping.\n"
          ]
        }
      ],
      "source": [
        "documents = loader.load()"
      ]
    },
    {
      "cell_type": "code",
      "execution_count": null,
      "metadata": {},
      "outputs": [],
      "source": [
        "for document in documents:\n",
        "    print(document)"
      ]
    }
  ],
  "metadata": {
    "kernelspec": {
      "display_name": "Python 3 (ipykernel)",
      "language": "python",
      "name": "python3"
    },
    "language_info": {
      "codemirror_mode": {
        "name": "ipython",
        "version": 3
      },
      "file_extension": ".py",
      "mimetype": "text/x-python",
      "name": "python",
      "nbconvert_exporter": "python",
      "pygments_lexer": "ipython3",
      "version": "3.11.8"
    }
  },
  "nbformat": 4,
  "nbformat_minor": 4
}