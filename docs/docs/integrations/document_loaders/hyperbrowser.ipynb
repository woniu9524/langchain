{
  "cells": [
    {
      "cell_type": "markdown",
      "metadata": {},
      "source": [
        "# HyperbrowserLoader"
      ]
    },
    {
      "cell_type": "markdown",
      "metadata": {},
      "source": [
        "[Hyperbrowser](https://hyperbrowser.ai) 是一个用于运行和扩展无头浏览器的平台。它允许您大规模启动和管理浏览器会话，并为任何网页抓取需求提供易于使用的解决方案，例如抓取单个页面或爬取整个网站。\n\n主要功能：\n- 即时可扩展性 - 无需基础设施烦恼，即可在几秒钟内启动数百个浏览器会话\n- 简单集成 - 可与 Puppeteer 和 Playwright 等流行工具无缝协作\n- 强大的 API - 用于抓取/爬取任何网站的易于使用的 API，以及更多功能\n- 绕过反机器人措施 - 内置隐身模式、广告拦截、自动验证码解决和代理轮换\n\n本笔记本提供了使用 Hyperbrowser [文档加载器](https://python.langchain.com/docs/concepts/#document-loaders) 入门的快速概述。\n\n有关 Hyperbrowser 的更多信息，请访问 [Hyperbrowser 网站](https://hyperbrowser.ai) 或如果您想查看文档，可以访问 [Hyperbrowser 文档](https://docs.hyperbrowser.ai)。\n\n## 概述\n### 集成详情\n\n| 类名 | 包名 | 本地化 | 可序列化 | JS 支持 |\n| :--- | :--- | :---: | :---: |  :---: |\n| HyperbrowserLoader | langchain-hyperbrowser | ❌ | ❌ | ❌ | \n### 加载器功能\n| 数据源 | 文档延迟加载 | 原生异步支持 |\n| :---: | :---: | :---: | \n| HyperbrowserLoader | ✅ | ✅ | \n\n## 设置\n\n要访问 Hyperbrowser 文档加载器，您需要安装 `langchain-hyperbrowser` 集成包，并创建一个 Hyperbrowser 账户并获取 API 密钥。\n\n### 凭证\n\n前往 [Hyperbrowser](https://app.hyperbrowser.ai/) 注册并生成 API 密钥。完成此操作后，请设置 HYPERBROWSER_API_KEY 环境变量："
      ]
    },
    {
      "cell_type": "markdown",
      "metadata": {},
      "source": [
        "### 安装\n\n安装 **langchain-hyperbrowser**。"
      ]
    },
    {
      "cell_type": "code",
      "execution_count": null,
      "metadata": {},
      "outputs": [],
      "source": [
        "%pip install -qU langchain-hyperbrowser"
      ]
    },
    {
      "cell_type": "markdown",
      "metadata": {},
      "source": [
        "## 初始化\n\n现在我们可以实例化模型对象并加载文档了："
      ]
    },
    {
      "cell_type": "code",
      "execution_count": null,
      "metadata": {},
      "outputs": [],
      "source": [
        "from langchain_hyperbrowser import HyperbrowserLoader\n",
        "\n",
        "loader = HyperbrowserLoader(\n",
        "    urls=\"https://example.com\",\n",
        "    api_key=\"YOUR_API_KEY\",\n",
        ")"
      ]
    },
    {
      "cell_type": "markdown",
      "metadata": {},
      "source": [
        "## 加载"
      ]
    },
    {
      "cell_type": "code",
      "execution_count": null,
      "metadata": {},
      "outputs": [
        {
          "data": {
            "text/plain": [
              "Document(metadata={'title': 'Example Domain', 'viewport': 'width=device-width, initial-scale=1', 'sourceURL': 'https://example.com'}, page_content='Example Domain\\n\\n# Example Domain\\n\\nThis domain is for use in illustrative examples in documents. You may use this\\ndomain in literature without prior coordination or asking for permission.\\n\\n[More information...](https://www.iana.org/domains/example)')"
            ]
          },
          "execution_count": null,
          "metadata": {},
          "output_type": "execute_result"
        }
      ],
      "source": [
        "docs = loader.load()\n",
        "docs[0]"
      ]
    },
    {
      "cell_type": "code",
      "execution_count": null,
      "metadata": {},
      "outputs": [],
      "source": [
        "print(docs[0].metadata)"
      ]
    },
    {
      "cell_type": "markdown",
      "metadata": {},
      "source": [
        "## 懒加载"
      ]
    },
    {
      "cell_type": "code",
      "execution_count": null,
      "metadata": {},
      "outputs": [],
      "source": [
        "page = []\n",
        "for doc in loader.lazy_load():\n",
        "    page.append(doc)\n",
        "    if len(page) >= 10:\n",
        "        # do some paged operation, e.g.\n",
        "        # index.upsert(page)\n",
        "\n",
        "        page = []"
      ]
    },
    {
      "cell_type": "markdown",
      "metadata": {},
      "source": [
        "## 高级用法\n\n您可以指定加载器执行的操作。默认操作是 `scrape`。对于 `scrape`，您可以提供单个 URL 或 URL 列表进行抓取。对于 `crawl`，您只能提供单个 URL。`crawl` 操作将爬取提供的页面及其子页面，并为每个页面返回一个文档。"
      ]
    },
    {
      "cell_type": "code",
      "execution_count": null,
      "metadata": {},
      "outputs": [],
      "source": [
        "loader = HyperbrowserLoader(\n",
        "    urls=\"https://hyperbrowser.ai\", api_key=\"YOUR_API_KEY\", operation=\"crawl\"\n",
        ")"
      ]
    },
    {
      "cell_type": "markdown",
      "metadata": {},
      "source": [
        "加载器的可选参数也可以在 `params` 参数中提供。有关支持的参数的更多信息，请访问 https://docs.hyperbrowser.ai/reference/sdks/python/scrape#start-scrape-job-and-wait 或 https://docs.hyperbrowser.ai/reference/sdks/python/crawl#start-crawl-job-and-wait。"
      ]
    },
    {
      "cell_type": "code",
      "execution_count": null,
      "metadata": {},
      "outputs": [],
      "source": [
        "loader = HyperbrowserLoader(\n",
        "    urls=\"https://example.com\",\n",
        "    api_key=\"YOUR_API_KEY\",\n",
        "    operation=\"scrape\",\n",
        "    params={\"scrape_options\": {\"include_tags\": [\"h1\", \"h2\", \"p\"]}},\n",
        ")"
      ]
    },
    {
      "cell_type": "markdown",
      "metadata": {},
      "source": [
        "## API 参考\n\n- [GitHub](https://github.com/hyperbrowserai/langchain-hyperbrowser/)\n- [PyPi](https://pypi.org/project/langchain-hyperbrowser/)\n- [Hyperbrowser Docs](https://docs.hyperbrowser.ai/)"
      ]
    }
  ],
  "metadata": {
    "kernelspec": {
      "display_name": "Python 3 (ipykernel)",
      "language": "python",
      "name": "python3"
    },
    "language_info": {
      "codemirror_mode": {
        "name": "ipython",
        "version": 3
      },
      "file_extension": ".py",
      "mimetype": "text/x-python",
      "name": "python",
      "nbconvert_exporter": "python",
      "pygments_lexer": "ipython3",
      "version": "3.9.16"
    }
  },
  "nbformat": 4,
  "nbformat_minor": 4
}