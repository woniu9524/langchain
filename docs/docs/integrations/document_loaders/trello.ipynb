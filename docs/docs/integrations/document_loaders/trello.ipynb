{
  "cells": [
    {
      "cell_type": "markdown",
      "metadata": {},
      "source": [
        "# Trello\n\n>[Trello](https://www.atlassian.com/software/trello) 是一款基于网络的项目管理和协作工具，允许个人和团队组织和跟踪他们的任务和项目。它提供了一个称为“看板”（board）的视觉界面，用户可以在其中创建列表（lists）和卡片（cards）来表示他们的任务和活动。\n\nTrelloLoader 允许你加载 Trello 看板中的卡片，它基于 [py-trello](https://pypi.org/project/py-trello/) 实现。\n\n目前仅支持 `api_key/token`。\n\n1. 凭证生成：https://trello.com/power-ups/admin/\n\n2. 点击手动生成令牌链接获取令牌。\n\n要指定 API 密钥和令牌，你可以设置环境变量 ``TRELLO_API_KEY`` 和 ``TRELLO_TOKEN``，或者直接将 ``api_key`` 和 ``token`` 传递给 `from_credentials` 便利构造方法。\n\n此加载器允许你提供看板名称，以便将相应的卡片加载到 Document 对象中。\n\n请注意，看板的“名称”（name）在官方文档中也称为“标题”（title）：\n\nhttps://support.atlassian.com/trello/docs/changing-a-boards-title-and-description/\n\n你还可以指定多个加载参数，以包含/移除文档 page_content 属性和元数据中的不同字段。\n\n## 特性\n- 从 Trello 看板加载卡片。\n- 根据卡片状态（打开或关闭）过滤卡片。\n- 在加载的文档中包含卡片名称、评论和清单。\n- 自定义要包含在文档中的其他元数据字段。\n\n默认情况下，所有卡片字段都包含在内，相应地用于完整的文本 page_content 和元数据。"
      ]
    },
    {
      "cell_type": "code",
      "execution_count": 1,
      "metadata": {
        "tags": []
      },
      "outputs": [],
      "source": [
        "%pip install --upgrade --quiet  py-trello beautifulsoup4 lxml"
      ]
    },
    {
      "cell_type": "code",
      "execution_count": 11,
      "metadata": {},
      "outputs": [
        {
          "name": "stdout",
          "output_type": "stream",
          "text": [
            "········\n",
            "········\n"
          ]
        }
      ],
      "source": [
        "# If you have already set the API key and token using environment variables,\n",
        "# you can skip this cell and comment out the `api_key` and `token` named arguments\n",
        "# in the initialization steps below.\n",
        "from getpass import getpass\n",
        "\n",
        "API_KEY = getpass()\n",
        "TOKEN = getpass()"
      ]
    },
    {
      "cell_type": "code",
      "execution_count": 6,
      "metadata": {},
      "outputs": [
        {
          "name": "stdout",
          "output_type": "stream",
          "text": [
            "Review Tech partner pages\n",
            "Comments:\n",
            "{'title': 'Review Tech partner pages', 'id': '6475357890dc8d17f73f2dcc', 'url': 'https://trello.com/c/b0OTZwkZ/1-review-tech-partner-pages', 'labels': ['Demand Marketing'], 'list': 'Done', 'closed': False, 'due_date': ''}\n"
          ]
        }
      ],
      "source": [
        "from langchain_community.document_loaders import TrelloLoader\n",
        "\n",
        "# Get the open cards from \"Awesome Board\"\n",
        "loader = TrelloLoader.from_credentials(\n",
        "    \"Awesome Board\",\n",
        "    api_key=API_KEY,\n",
        "    token=TOKEN,\n",
        "    card_filter=\"open\",\n",
        ")\n",
        "documents = loader.load()\n",
        "\n",
        "print(documents[0].page_content)\n",
        "print(documents[0].metadata)"
      ]
    },
    {
      "cell_type": "code",
      "execution_count": 8,
      "metadata": {},
      "outputs": [
        {
          "name": "stdout",
          "output_type": "stream",
          "text": [
            "Review Tech partner pages\n",
            "Comments:\n",
            "{'title': 'Review Tech partner pages', 'id': '6475357890dc8d17f73f2dcc', 'url': 'https://trello.com/c/b0OTZwkZ/1-review-tech-partner-pages', 'list': 'Done'}\n"
          ]
        }
      ],
      "source": [
        "# Get all the cards from \"Awesome Board\" but only include the\n",
        "# card list(column) as extra metadata.\n",
        "loader = TrelloLoader.from_credentials(\n",
        "    \"Awesome Board\",\n",
        "    api_key=API_KEY,\n",
        "    token=TOKEN,\n",
        "    extra_metadata=(\"list\"),\n",
        ")\n",
        "documents = loader.load()\n",
        "\n",
        "print(documents[0].page_content)\n",
        "print(documents[0].metadata)"
      ]
    },
    {
      "cell_type": "code",
      "execution_count": null,
      "metadata": {},
      "outputs": [],
      "source": [
        "# Get the cards from \"Another Board\" and exclude the card name,\n",
        "# checklist and comments from the Document page_content text.\n",
        "loader = TrelloLoader.from_credentials(\n",
        "    \"test\",\n",
        "    api_key=API_KEY,\n",
        "    token=TOKEN,\n",
        "    include_card_name=False,\n",
        "    include_checklist=False,\n",
        "    include_comments=False,\n",
        ")\n",
        "documents = loader.load()\n",
        "\n",
        "print(\"Document: \" + documents[0].page_content)\n",
        "print(documents[0].metadata)"
      ]
    }
  ],
  "metadata": {
    "kernelspec": {
      "display_name": "Python 3 (ipykernel)",
      "language": "python",
      "name": "python3"
    },
    "language_info": {
      "codemirror_mode": {
        "name": "ipython",
        "version": 3
      },
      "file_extension": ".py",
      "mimetype": "text/x-python",
      "name": "python",
      "nbconvert_exporter": "python",
      "pygments_lexer": "ipython3",
      "version": "3.10.6"
    },
    "vscode": {
      "interpreter": {
        "hash": "cc99336516f23363341912c6723b01ace86f02e26b4290be1efc0677e2e2ec24"
      }
    }
  },
  "nbformat": 4,
  "nbformat_minor": 4
}