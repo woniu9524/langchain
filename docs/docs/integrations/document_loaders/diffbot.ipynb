{
  "cells": [
    {
      "cell_type": "markdown",
      "id": "2dfc4698",
      "metadata": {
        "id": "2dfc4698"
      },
      "source": [
        "# Diffbot\n\n>[Diffbot](https://docs.diffbot.com/docs/getting-started-with-diffbot) 是一套基于机器学习的产品，可以轻松地组织网页数据。\n\n>Diffbot 的 [Extract API](https://docs.diffbot.com/reference/extract-introduction) 是一项服务，用于组织和规范化网页数据。\n\n>与传统的网页抓取工具不同，`Diffbot Extract` 不需要任何规则即可读取页面上的内容。它使用计算机视觉模型将页面分类为 20 种可能的类型之一，然后将原始 HTML 标记转换为 JSON。生成的结构化 JSON 遵循一致的 [基于类型的本体](https://docs.diffbot.com/docs/ontology)，这使得用户可以轻松地使用相同的模式从多个不同的网页源提取数据。\n\n[![Open In Colab](https://colab.research.google.com/assets/colab-badge.svg)](https://colab.research.google.com/github/langchain-ai/langchain/blob/master/docs/docs/integrations/document_loaders/diffbot.ipynb)"
      ]
    },
    {
      "cell_type": "markdown",
      "id": "weuw9JFG4q97",
      "metadata": {
        "id": "weuw9JFG4q97"
      },
      "source": [
        "## 概览\n本指南介绍如何使用 [Diffbot Extract API](https://www.diffbot.com/products/extract/) 从 URL 列表中提取数据，并将其转换为结构化的 JSON，以便我们下游使用。"
      ]
    },
    {
      "cell_type": "markdown",
      "id": "6fffec88",
      "metadata": {
        "id": "6fffec88"
      },
      "source": [
        "## 设置\n\n首先，安装所需的软件包。"
      ]
    },
    {
      "cell_type": "code",
      "execution_count": 6,
      "id": "ACzXAS352vRc",
      "metadata": {
        "id": "ACzXAS352vRc"
      },
      "outputs": [],
      "source": [
        "%pip install --upgrade --quiet langchain-community"
      ]
    },
    {
      "cell_type": "markdown",
      "id": "EaIggS702wUJ",
      "metadata": {
        "id": "EaIggS702wUJ"
      },
      "source": [
        "Diffbot 的 Extract API 需要一个 API 令牌。请按照以下说明[获取免费 API 令牌](/docs/integrations/providers/diffbot#installation-and-setup)，然后设置环境变量。"
      ]
    },
    {
      "cell_type": "code",
      "execution_count": null,
      "id": "836fbac1",
      "metadata": {
        "id": "836fbac1"
      },
      "outputs": [],
      "source": [
        "%env DIFFBOT_API_TOKEN REPLACE_WITH_YOUR_TOKEN"
      ]
    },
    {
      "cell_type": "markdown",
      "id": "qtQun216x6Wy",
      "metadata": {
        "id": "qtQun216x6Wy"
      },
      "source": [
        "## 使用 Document Loader\n\n导入 DiffbotLoader 模块，并使用 URL 列表和你的 Diffbot token 进行实例化。"
      ]
    },
    {
      "cell_type": "code",
      "execution_count": 10,
      "id": "00f46fda",
      "metadata": {
        "id": "00f46fda"
      },
      "outputs": [],
      "source": [
        "import os\n",
        "\n",
        "from langchain_community.document_loaders import DiffbotLoader\n",
        "\n",
        "urls = [\n",
        "    \"https://python.langchain.com/\",\n",
        "]\n",
        "\n",
        "loader = DiffbotLoader(urls=urls, api_token=os.environ.get(\"DIFFBOT_API_TOKEN\"))"
      ]
    },
    {
      "cell_type": "markdown",
      "id": "e0ce8c05",
      "metadata": {
        "id": "e0ce8c05"
      },
      "source": [
        "使用 `.load()` 方法，您可以查看已加载的文档"
      ]
    },
    {
      "cell_type": "code",
      "execution_count": 11,
      "id": "b68a26b3",
      "metadata": {
        "colab": {
          "base_uri": "https://localhost:8080/"
        },
        "id": "b68a26b3",
        "outputId": "b97ab582-1c99-4b6c-f3fa-8e583177c4f7"
      },
      "outputs": [
        {
          "data": {
            "text/plain": [
              "[Document(page_content=\"LangChain is a framework for developing applications powered by large language models (LLMs).\\nLangChain simplifies every stage of the LLM application lifecycle:\\nDevelopment: Build your applications using LangChain's open-source building blocks and components. Hit the ground running using third-party integrations and Templates.\\nProductionization: Use LangSmith to inspect, monitor and evaluate your chains, so that you can continuously optimize and deploy with confidence.\\nDeployment: Turn any chain into an API with LangServe.\\nlangchain-core: Base abstractions and LangChain Expression Language.\\nlangchain-community: Third party integrations.\\nPartner packages (e.g. langchain-openai, langchain-anthropic, etc.): Some integrations have been further split into their own lightweight packages that only depend on langchain-core.\\nlangchain: Chains, agents, and retrieval strategies that make up an application's cognitive architecture.\\nlanggraph: Build robust and stateful multi-actor applications with LLMs by modeling steps as edges and nodes in a graph.\\nlangserve: Deploy LangChain chains as REST APIs.\\nThe broader ecosystem includes:\\nLangSmith: A developer platform that lets you debug, test, evaluate, and monitor LLM applications and seamlessly integrates with LangChain.\\nGet started\\nWe recommend following our Quickstart guide to familiarize yourself with the framework by building your first LangChain application.\\nSee here for instructions on how to install LangChain, set up your environment, and start building.\\nnote\\nThese docs focus on the Python LangChain library. Head here for docs on the JavaScript LangChain library.\\nUse cases\\nIf you're looking to build something specific or are more of a hands-on learner, check out our use-cases. They're walkthroughs and techniques for common end-to-end tasks, such as:\\nQuestion answering with RAG\\nExtracting structured output\\nChatbots\\nand more!\\nExpression Language\\nLangChain Expression Language (LCEL) is the foundation of many of LangChain's components, and is a declarative way to compose chains. LCEL was designed from day 1 to support putting prototypes in production, with no code changes, from the simplest “prompt + LLM” chain to the most complex chains.\\nGet started: LCEL and its benefits\\nRunnable interface: The standard interface for LCEL objects\\nPrimitives: More on the primitives LCEL includes\\nand more!\\nEcosystem\\n🦜🛠️ LangSmith\\nTrace and evaluate your language model applications and intelligent agents to help you move from prototype to production.\\n🦜🕸️ LangGraph\\nBuild stateful, multi-actor applications with LLMs, built on top of (and intended to be used with) LangChain primitives.\\n🦜🏓 LangServe\\nDeploy LangChain runnables and chains as REST APIs.\\nSecurity\\nRead up on our Security best practices to make sure you're developing safely with LangChain.\\nAdditional resources\\nComponents\\nLangChain provides standard, extendable interfaces and integrations for many different components, including:\\nIntegrations\\nLangChain is part of a rich ecosystem of tools that integrate with our framework and build on top of it. Check out our growing list of integrations.\\nGuides\\nBest practices for developing with LangChain.\\nAPI reference\\nHead to the reference section for full documentation of all classes and methods in the LangChain and LangChain Experimental Python packages.\\nContributing\\nCheck out the developer's guide for guidelines on contributing and help getting your dev environment set up.\\nHelp us out by providing feedback on this documentation page:\", metadata={'source': 'https://python.langchain.com/'})]"
            ]
          },
          "execution_count": 11,
          "metadata": {},
          "output_type": "execute_result"
        }
      ],
      "source": [
        "loader.load()"
      ]
    },
    {
      "cell_type": "markdown",
      "id": "c07U9jK45thF",
      "metadata": {
        "id": "c07U9jK45thF"
      },
      "source": [
        "## 将提取的文本转换为图文档\n\n结构化的页面内容可以通过 `DiffbotGraphTransformer` 进一步处理，以将实体和关系提取到图中。"
      ]
    },
    {
      "cell_type": "code",
      "execution_count": null,
      "id": "UtuZafDL6azi",
      "metadata": {
        "id": "UtuZafDL6azi"
      },
      "outputs": [],
      "source": [
        "%pip install --upgrade --quiet langchain-experimental"
      ]
    },
    {
      "cell_type": "code",
      "execution_count": 13,
      "id": "jS0bmVuE5FFJ",
      "metadata": {
        "id": "jS0bmVuE5FFJ"
      },
      "outputs": [],
      "source": [
        "from langchain_experimental.graph_transformers.diffbot import DiffbotGraphTransformer\n",
        "\n",
        "diffbot_nlp = DiffbotGraphTransformer(\n",
        "    diffbot_api_key=os.environ.get(\"DIFFBOT_API_TOKEN\")\n",
        ")\n",
        "graph_documents = diffbot_nlp.convert_to_graph_documents(loader.load())"
      ]
    },
    {
      "cell_type": "markdown",
      "id": "5nx2MXRe6_kr",
      "metadata": {
        "id": "5nx2MXRe6_kr"
      },
      "source": [
        "要继续将数据加载到知识图谱中，请遵循 [`DiffbotGraphTransformer` 指南](/docs/integrations/graphs/diffbot/#loading-the-data-into-a-knowledge-graph) 。"
      ]
    }
  ],
  "metadata": {
    "colab": {
      "provenance": []
    },
    "kernelspec": {
      "display_name": "Python 3 (ipykernel)",
      "language": "python",
      "name": "python3"
    },
    "language_info": {
      "codemirror_mode": {
        "name": "ipython",
        "version": 3
      },
      "file_extension": ".py",
      "mimetype": "text/x-python",
      "name": "python",
      "nbconvert_exporter": "python",
      "pygments_lexer": "ipython3",
      "version": "3.10.6"
    }
  },
  "nbformat": 4,
  "nbformat_minor": 5
}