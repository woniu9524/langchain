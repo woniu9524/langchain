{
  "cells": [
    {
      "cell_type": "markdown",
      "id": "2f1572a5-9f8c-44f1-82f3-ddeee8f55145",
      "metadata": {},
      "source": [
        "本笔记本展示了如何使用 RSpace 文档加载器将 RSpace Electronic Lab Notebook 中的研究笔记和文档導入 Langchain 管道。\n\n开始之前，您需要一个 RSpace 账户和一个 API 密钥。\n\n您可以在 [https://community.researchspace.com](https://community.researchspace.com) 注册一个免费账户，或使用您的机构 RSpace。\n\n您可以从账户的个人资料页面获取 RSpace API 令牌。"
      ]
    },
    {
      "cell_type": "code",
      "execution_count": null,
      "id": "9e5310d2-a864-4464-bdca-81f30c9d0bdb",
      "metadata": {},
      "outputs": [],
      "source": [
        "%pip install --upgrade --quiet  rspace_client"
      ]
    },
    {
      "cell_type": "markdown",
      "id": "61b1d1b7-a28c-4fba-83a3-df64baa8b6b8",
      "metadata": {},
      "source": [
        "最好将 RSpace API 密钥存储为环境变量。\n\n    RSPACE_API_KEY=&lt;YOUR_KEY&gt;\n\n您还需要设置 RSpace 安装的 URL，例如：\n\n    RSPACE_URL=https://community.researchspace.com\n\n如果您使用这些完全相同的环境变量名称，它们将自动被检测到。"
      ]
    },
    {
      "cell_type": "code",
      "execution_count": 5,
      "id": "13c19ea4-100f-417e-b52f-7e8730c7c1d1",
      "metadata": {},
      "outputs": [],
      "source": [
        "from langchain_community.document_loaders.rspace import RSpaceLoader"
      ]
    },
    {
      "cell_type": "markdown",
      "id": "4fd42831-0e79-4068-a5e1-7e2cfc242789",
      "metadata": {},
      "source": [
        "您可以从 RSpace 导入各种项目：\n\n* 单个 RSpace 结构化或基本文档。这将一对一映射到 Langchain 文档。\n* 文件夹或笔记本。笔记本或文件夹内的所有文档都将作为 Langchain 文档导入。\n* 如果您的 RSpace Gallery 中有 PDF 文件，也可以单独导入。底层将使用 Langchain 的 PDF 加载器，每个 PDF 页面创建一个 Langchain 文档。"
      ]
    },
    {
      "cell_type": "code",
      "execution_count": null,
      "id": "8e614357-5eca-401b-ab98-ea55b0465009",
      "metadata": {},
      "outputs": [],
      "source": [
        "## replace these ids with some from your own research notes.\n",
        "## Make sure to use  global ids (with the 2 character prefix). This helps the loader know which API calls to make\n",
        "## to RSpace API.\n",
        "\n",
        "rspace_ids = [\"NB1932027\", \"FL1921314\", \"SD1932029\", \"GL1932384\"]\n",
        "for rs_id in rspace_ids:\n",
        "    loader = RSpaceLoader(global_id=rs_id)\n",
        "    docs = loader.load()\n",
        "    for doc in docs:\n",
        "        ## the name and ID are added to the 'source' metadata property.\n",
        "        print(doc.metadata)\n",
        "        print(doc.page_content[:500])"
      ]
    },
    {
      "cell_type": "markdown",
      "id": "1b41758d-24e0-4994-a30f-3acccc7795e4",
      "metadata": {},
      "source": [
        "如果你不想使用上面提到的环境变量，可以将它们传递给 RSpaceLoader。"
      ]
    },
    {
      "cell_type": "code",
      "execution_count": null,
      "id": "aa079ca6-439d-4010-9edd-cd77d8884fab",
      "metadata": {},
      "outputs": [],
      "source": [
        "loader = RSpaceLoader(\n",
        "    global_id=rs_id, api_key=\"MY_API_KEY\", url=\"https://my.researchspace.com\"\n",
        ")"
      ]
    }
  ],
  "metadata": {
    "kernelspec": {
      "display_name": "Python 3 (ipykernel)",
      "language": "python",
      "name": "python3"
    },
    "language_info": {
      "codemirror_mode": {
        "name": "ipython",
        "version": 3
      },
      "file_extension": ".py",
      "mimetype": "text/x-python",
      "name": "python",
      "nbconvert_exporter": "python",
      "pygments_lexer": "ipython3",
      "version": "3.11.5"
    }
  },
  "nbformat": 4,
  "nbformat_minor": 5
}