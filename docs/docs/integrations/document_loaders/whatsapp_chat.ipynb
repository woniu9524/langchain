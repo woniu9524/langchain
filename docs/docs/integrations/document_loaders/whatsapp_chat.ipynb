{
  "cells": [
    {
      "cell_type": "markdown",
      "metadata": {},
      "source": [
        "# WhatsApp 聊天记录\n\n>[WhatsApp](https://www.whatsapp.com/)（也称为 `WhatsApp Messenger`）是一款免费、跨平台、中心化的即时通讯 (IM) 和网络语音通话 (VoIP) 服务。它允许用户发送文本和语音消息、进行语音和视频通话，以及分享图片、文档、用户位置和其他内容。\n\n本笔记本将介绍如何将 `WhatsApp Chats` 中的数据加载到 LangChain 中可以使用的格式。"
      ]
    },
    {
      "cell_type": "code",
      "execution_count": 1,
      "metadata": {},
      "outputs": [],
      "source": [
        "from langchain_community.document_loaders import WhatsAppChatLoader"
      ]
    },
    {
      "cell_type": "code",
      "execution_count": 2,
      "metadata": {},
      "outputs": [],
      "source": [
        "loader = WhatsAppChatLoader(\"example_data/whatsapp_chat.txt\")"
      ]
    },
    {
      "cell_type": "code",
      "execution_count": null,
      "metadata": {},
      "outputs": [],
      "source": [
        "loader.load()"
      ]
    }
  ],
  "metadata": {
    "kernelspec": {
      "display_name": "Python 3 (ipykernel)",
      "language": "python",
      "name": "python3"
    },
    "language_info": {
      "codemirror_mode": {
        "name": "ipython",
        "version": 3
      },
      "file_extension": ".py",
      "mimetype": "text/x-python",
      "name": "python",
      "nbconvert_exporter": "python",
      "pygments_lexer": "ipython3",
      "version": "3.10.6"
    },
    "vscode": {
      "interpreter": {
        "hash": "384707f4965e853a82006e90614c2e1a578ea1f6eb0ee07a1dd78a657d37dd67"
      }
    }
  },
  "nbformat": 4,
  "nbformat_minor": 4
}