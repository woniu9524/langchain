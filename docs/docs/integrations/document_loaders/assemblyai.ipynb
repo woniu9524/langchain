{
  "cells": [
    {
      "cell_type": "markdown",
      "metadata": {},
      "source": [
        "# AssemblyAI 音频转录\n\n`AssemblyAIAudioTranscriptLoader` 允许使用 [AssemblyAI API](https://www.assemblyai.com) 转录音频文件，并将转录文本加载到文档中。\n\n要使用它，您应该安装 `assemblyai` Python 包，并将\n环境变量 `ASSEMBLYAI_API_KEY` 设置为您的 API 密钥。或者，也可以将 API 密钥作为参数传递。\n\n更多关于 AssemblyAI 的信息：\n\n- [网站](https://www.assemblyai.com/)\n- [获取免费 API 密钥](https://www.assemblyai.com/dashboard/signup)\n- [AssemblyAI API 文档](https://www.assemblyai.com/docs)"
      ]
    },
    {
      "cell_type": "markdown",
      "metadata": {},
      "source": [
        "## 安装\n\n首先，你需要安装 `assemblyai` Python 包。\n\n你可以在 [assemblyai-python-sdk GitHub repo](https://github.com/AssemblyAI/assemblyai-python-sdk) 中找到更多相关信息。"
      ]
    },
    {
      "cell_type": "code",
      "execution_count": null,
      "metadata": {},
      "outputs": [],
      "source": [
        "%pip install --upgrade --quiet  assemblyai"
      ]
    },
    {
      "cell_type": "markdown",
      "metadata": {},
      "source": [
        "## 示例\n\n`AssemblyAIAudioTranscriptLoader` 至少需要 `file_path` 参数。音频文件可以指定为 URL 或本地文件路径。"
      ]
    },
    {
      "cell_type": "code",
      "execution_count": null,
      "metadata": {},
      "outputs": [],
      "source": [
        "from langchain_community.document_loaders import AssemblyAIAudioTranscriptLoader\n",
        "\n",
        "audio_file = \"https://storage.googleapis.com/aai-docs-samples/nbc.mp3\"\n",
        "# or a local file path: audio_file = \"./nbc.mp3\"\n",
        "\n",
        "loader = AssemblyAIAudioTranscriptLoader(file_path=audio_file)\n",
        "\n",
        "docs = loader.load()"
      ]
    },
    {
      "cell_type": "markdown",
      "metadata": {},
      "source": [
        "注意：调用 `loader.load()` 会阻塞直到转录完成。"
      ]
    },
    {
      "cell_type": "markdown",
      "metadata": {},
      "source": [
        "转录的文本可在 `page_content` 中找到："
      ]
    },
    {
      "cell_type": "code",
      "execution_count": null,
      "metadata": {},
      "outputs": [],
      "source": [
        "docs[0].page_content"
      ]
    },
    {
      "cell_type": "markdown",
      "metadata": {},
      "source": [
        "“就职典礼、新总统和新的国会构成。还是一成不变的……”"
      ]
    },
    {
      "cell_type": "markdown",
      "metadata": {},
      "source": [
        "`metadata` 包含完整的 JSON 响应，其中包含更多元信息："
      ]
    },
    {
      "cell_type": "code",
      "execution_count": null,
      "metadata": {},
      "outputs": [],
      "source": [
        "docs[0].metadata"
      ]
    },
    {
      "cell_type": "markdown",
      "metadata": {},
      "source": [
        "```\n{'language_code': <LanguageCode.en_us: 'en_us'>,\n 'audio_url': 'https://storage.googleapis.com/aai-docs-samples/nbc.mp3',\n 'punctuate': True,\n 'format_text': True,\n  ...\n}\n```"
      ]
    },
    {
      "cell_type": "markdown",
      "metadata": {},
      "source": [
        "## Transcription Formats\n\n您可以为不同的格式指定 `transcript_format` 参数。\n\n根据格式的不同，将返回一个或多个文档。以下是不同的 `TranscriptFormat` 选项：\n\n- `TEXT`：一个包含转录文本的文档\n- `SENTENCES`：多个文档，按每个句子分割转录内容\n- `PARAGRAPHS`：多个文档，按每个段落分割转录内容\n- `SUBTITLES_SRT`：一个按照 SRT 字幕格式导出的转录文档\n- `SUBTITLES_VTT`：一个按照 VTT 字幕格式导出的转录文档"
      ]
    },
    {
      "cell_type": "code",
      "execution_count": null,
      "metadata": {},
      "outputs": [],
      "source": [
        "from langchain_community.document_loaders.assemblyai import TranscriptFormat\n",
        "\n",
        "loader = AssemblyAIAudioTranscriptLoader(\n",
        "    file_path=\"./your_file.mp3\",\n",
        "    transcript_format=TranscriptFormat.SENTENCES,\n",
        ")\n",
        "\n",
        "docs = loader.load()"
      ]
    },
    {
      "cell_type": "markdown",
      "metadata": {},
      "source": [
        "## 转录配置\n\n你也可以指定 `config` 参数来使用不同的音频智能模型。\n\n访问 [AssemblyAI API 文档](https://www.assemblyai.com/docs) 来了解所有可用模型的概述！"
      ]
    },
    {
      "cell_type": "code",
      "execution_count": null,
      "metadata": {},
      "outputs": [],
      "source": [
        "import assemblyai as aai\n",
        "\n",
        "config = aai.TranscriptionConfig(\n",
        "    speaker_labels=True, auto_chapters=True, entity_detection=True\n",
        ")\n",
        "\n",
        "loader = AssemblyAIAudioTranscriptLoader(file_path=\"./your_file.mp3\", config=config)"
      ]
    },
    {
      "cell_type": "markdown",
      "metadata": {},
      "source": [
        "## 将 API密钥作为参数传递\n\n除了将 API 密钥设置为环境变量 `ASSEMBLYAI_API_KEY` 之外，也可以将其作为参数传递。"
      ]
    },
    {
      "cell_type": "code",
      "execution_count": null,
      "metadata": {},
      "outputs": [],
      "source": [
        "loader = AssemblyAIAudioTranscriptLoader(\n",
        "    file_path=\"./your_file.mp3\", api_key=\"YOUR_KEY\"\n",
        ")"
      ]
    }
  ],
  "metadata": {
    "language_info": {
      "name": "python"
    }
  },
  "nbformat": 4,
  "nbformat_minor": 2
}