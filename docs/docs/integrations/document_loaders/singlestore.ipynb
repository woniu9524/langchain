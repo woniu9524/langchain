{
  "cells": [
    {
      "cell_type": "markdown",
      "metadata": {},
      "source": [
        "---\nsidebar_label: SingleStore\n---"
      ]
    },
    {
      "cell_type": "markdown",
      "metadata": {},
      "source": [
        "# SingleStoreLoader\n\n`SingleStoreLoader` 允许您直接从 SingleStore 数据库表中加载文档。它是 `langchain-singlestore` 集成包的一部分。\n\n## 概述\n\n### 集成详情\n\n| 类 | 包 | JS 支持 |\n| :--- | :--- | :---: |\n| `SingleStoreLoader` | `langchain_singlestore` | ❌ |\n\n### 特性\n- 支持延迟加载文档，以高效处理大型数据集。\n- 支持原生异步操作。\n- 易于配置，可适应不同的数据库模式。\n\n## 设置\n\n要使用 `SingleStoreLoader`，您需要安装 `langchain-singlestore` 包。请遵循以下安装说明。"
      ]
    },
    {
      "cell_type": "markdown",
      "metadata": {},
      "source": [
        "### 安装\n\n安装 **langchain_singlestore**。"
      ]
    },
    {
      "cell_type": "code",
      "execution_count": null,
      "metadata": {},
      "outputs": [],
      "source": [
        "%pip install -qU langchain_singlestore"
      ]
    },
    {
      "cell_type": "markdown",
      "metadata": {},
      "source": [
        "## 初始化\n\n要初始化 `SingleStoreLoader`，您需要提供 SingleStore 数据库的连接参数，并指定要从中加载文档的表和字段。\n\n### 必需参数：\n- **host** (`str`): 数据库的主机名、IP 地址或 URL。\n- **table_name** (`str`): 要查询的表的名称。默认为 `embeddings`。\n- **content_field** (`str`): 包含文档内容的字段。默认为 `content`。\n- **metadata_field** (`str`): 包含文档元数据的字段。默认为 `metadata`。\n\n### 可选参数：\n- **id_field** (`str`): 包含文档 ID 的字段。默认为 `id`。\n\n### 连接池参数：\n- **pool_size** (`int`): 连接池中的活动连接数。默认为 `5`。\n- **max_overflow** (`int`): 超出 `pool_size` 的最大连接数。默认为 `10`。\n- **timeout** (`float`): 连接超时秒数。默认为 `30`。\n\n### 其他选项：\n- **pure_python** (`bool`): 启用纯 Python 模式。\n- **local_infile** (`bool`): 允许本地文件上传。\n- **charset** (`str`): 字符串值的字符集。\n- **ssl_key**, **ssl_cert**, **ssl_ca** (`str`): SSL 文件的路径。\n- **ssl_disabled** (`bool`): 禁用 SSL。\n- **ssl_verify_cert** (`bool`): 验证服务器的证书。\n- **ssl_verify_identity** (`bool`): 验证服务器的身份。\n- **autocommit** (`bool`): 启用自动提交。\n- **results_type** (`str`): 查询结果的结构（例如 `tuples`、`dicts`）。"
      ]
    },
    {
      "cell_type": "code",
      "execution_count": null,
      "metadata": {},
      "outputs": [],
      "source": [
        "from langchain_singlestore.document_loaders import SingleStoreLoader\n",
        "\n",
        "loader = SingleStoreLoader(\n",
        "    host=\"127.0.0.1:3306/db\",\n",
        "    table_name=\"documents\",\n",
        "    content_field=\"content\",\n",
        "    metadata_field=\"metadata\",\n",
        "    id_field=\"id\",\n",
        ")"
      ]
    },
    {
      "cell_type": "markdown",
      "metadata": {},
      "source": [
        "## 加载"
      ]
    },
    {
      "cell_type": "code",
      "execution_count": null,
      "metadata": {},
      "outputs": [],
      "source": [
        "docs = loader.load()\n",
        "docs[0]"
      ]
    },
    {
      "cell_type": "code",
      "execution_count": null,
      "metadata": {},
      "outputs": [],
      "source": [
        "print(docs[0].metadata)"
      ]
    },
    {
      "cell_type": "markdown",
      "metadata": {},
      "source": [
        "## 延迟加载"
      ]
    },
    {
      "cell_type": "code",
      "execution_count": null,
      "metadata": {},
      "outputs": [],
      "source": [
        "page = []\n",
        "for doc in loader.lazy_load():\n",
        "    page.append(doc)\n",
        "    if len(page) >= 10:\n",
        "        # do some paged operation, e.g.\n",
        "        # index.upsert(page)\n",
        "\n",
        "        page = []"
      ]
    },
    {
      "cell_type": "markdown",
      "metadata": {},
      "source": [
        "## API 参考\n\n有关所有 SingleStore Document Loader 功能和配置的详细文档，请访问 GitHub 页面：[https://github.com/singlestore-labs/langchain-singlestore/](https://github.com/singlestore-labs/langchain-singlestore/)"
      ]
    }
  ],
  "metadata": {
    "kernelspec": {
      "display_name": "Python 3 (ipykernel)",
      "language": "python",
      "name": "python3"
    },
    "language_info": {
      "codemirror_mode": {
        "name": "ipython",
        "version": 3
      },
      "file_extension": ".py",
      "mimetype": "text/x-python",
      "name": "python",
      "nbconvert_exporter": "python",
      "pygments_lexer": "ipython3",
      "version": "3.11.9"
    }
  },
  "nbformat": 4,
  "nbformat_minor": 4
}