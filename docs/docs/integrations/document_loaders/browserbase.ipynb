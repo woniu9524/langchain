{
  "cells": [
    {
      "cell_type": "markdown",
      "metadata": {},
      "source": [
        "# Browserbase\n\n[Browserbase](https://browserbase.com) 是一个开发者平台，用于可靠地运行、管理和监控无头浏览器。\n\n通过以下方式为您的 AI 数据检索提供支持：\n- [无服务器基础设施](https://docs.browserbase.com/under-the-hood)，提供可靠的浏览器，用于从复杂 UI 中提取数据\n- [隐身模式](https://docs.browserbase.com/features/stealth-mode)，包含指纹识别技术和自动验证码解决功能\n- [会话调试器](https://docs.browserbase.com/features/sessions)，通过网络时间线和日志检查您的浏览器会话\n- [实时调试](https://docs.browserbase.com/guides/session-debug-connection/browser-remote-control)，以快速调试您的自动化\n\n## 安装和设置\n\n- 从 [browserbase.com](https://browserbase.com) 获取 API 密钥和项目 ID，并将其设置为环境变量（`BROWSERBASE_API_KEY`、`BROWSERBASE_PROJECT_ID`）。\n- 安装 [Browserbase SDK](http://github.com/browserbase/python-sdk)："
      ]
    },
    {
      "cell_type": "code",
      "execution_count": null,
      "metadata": {},
      "outputs": [],
      "source": [
        "%pip install browserbase"
      ]
    },
    {
      "cell_type": "markdown",
      "metadata": {},
      "source": [
        "## 加载文档"
      ]
    },
    {
      "cell_type": "markdown",
      "metadata": {},
      "source": [
        "您可以使用 `BrowserbaseLoader` 将网页加载到 LangChain 中。您还可以选择设置 `text_content` 参数将页面转换为纯文本表示形式。"
      ]
    },
    {
      "cell_type": "code",
      "execution_count": null,
      "metadata": {},
      "outputs": [],
      "source": [
        "import os\n",
        "\n",
        "from langchain_community.document_loaders import BrowserbaseLoader\n",
        "\n",
        "load_dotenv()\n",
        "\n",
        "BROWSERBASE_API_KEY = os.getenv(\"BROWSERBASE_API_KEY\")\n",
        "BROWSERBASE_PROJECT_ID = os.getenv(\"BROWSERBASE_PROJECT_ID\")"
      ]
    },
    {
      "cell_type": "code",
      "execution_count": null,
      "metadata": {},
      "outputs": [],
      "source": [
        "loader = BrowserbaseLoader(\n",
        "    api_key=BROWSERBASE_API_KEY,\n",
        "    project_id=BROWSERBASE_PROJECT_ID,\n",
        "    urls=[\n",
        "        \"https://example.com\",\n",
        "    ],\n",
        "    # Text mode\n",
        "    text_content=False,\n",
        ")\n",
        "\n",
        "docs = loader.load()\n",
        "print(docs[0].page_content[:61])"
      ]
    },
    {
      "cell_type": "markdown",
      "metadata": {},
      "source": [
        "### 加载器选项\n\n- `urls` 必需。要获取的 URL 列表。\n- `text_content` 仅检索文本内容。默认为 `False`。\n- `api_key` Browserbase API 密钥。默认为 `BROWSERBASE_API_KEY` 环境变量。\n- `project_id` Browserbase 项目 ID。默认为 `BROWSERBASE_PROJECT_ID` 环境变量。\n- `session_id` 可选。提供现有的会话 ID。\n- `proxy` 可选。启用/禁用代理。"
      ]
    }
  ],
  "metadata": {
    "kernelspec": {
      "display_name": "Python 3",
      "language": "python",
      "name": "python3"
    },
    "language_info": {
      "name": "python",
      "version": "3.9.6"
    }
  },
  "nbformat": 4,
  "nbformat_minor": 2
}