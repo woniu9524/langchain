{
  "cells": [
    {
      "cell_type": "markdown",
      "id": "22a849cc",
      "metadata": {},
      "source": [
        "# Open Document Format (ODT)\n\n> [开放文档格式 (ODF)](https://en.wikipedia.org/wiki/OpenDocument)（也称为 `OpenDocument`）是一种用于文字处理文档、电子表格、演示文稿和图形的开放文件格式，使用 ZIP 压缩的 XML 文件。它旨在为办公应用程序提供一个基于 XML 的开放文件格式规范。\n\n> 该标准由结构化信息标准化推进组织 (`OASIS`) 联盟中的一个技术委员会开发和维护。它基于 Sun Microsystems 的 OpenOffice.org XML 规范，这是 `OpenOffice.org` 和 `LibreOffice` 的默认格式。它最初是为 `StarOffice` 开发的，“为办公文档提供开放标准”。\n\n`UnstructuredODTLoader` 用于加载 `Open Office ODT` 文件。"
      ]
    },
    {
      "cell_type": "code",
      "execution_count": 1,
      "id": "e6616e3a",
      "metadata": {},
      "outputs": [
        {
          "data": {
            "text/plain": [
              "Document(page_content='Lorem ipsum dolor sit amet.', metadata={'source': 'example_data/fake.odt', 'category_depth': 0, 'file_directory': 'example_data', 'filename': 'fake.odt', 'last_modified': '2023-12-19T13:42:18', 'languages': ['por', 'cat'], 'filetype': 'application/vnd.oasis.opendocument.text', 'category': 'Title'})"
            ]
          },
          "execution_count": 1,
          "metadata": {},
          "output_type": "execute_result"
        }
      ],
      "source": [
        "from langchain_community.document_loaders import UnstructuredODTLoader\n",
        "\n",
        "loader = UnstructuredODTLoader(\"example_data/fake.odt\", mode=\"elements\")\n",
        "docs = loader.load()\n",
        "docs[0]"
      ]
    },
    {
      "cell_type": "code",
      "execution_count": null,
      "id": "9ab94bde",
      "metadata": {},
      "outputs": [],
      "source": []
    }
  ],
  "metadata": {
    "kernelspec": {
      "display_name": "Python 3 (ipykernel)",
      "language": "python",
      "name": "python3"
    },
    "language_info": {
      "codemirror_mode": {
        "name": "ipython",
        "version": 3
      },
      "file_extension": ".py",
      "mimetype": "text/x-python",
      "name": "python",
      "nbconvert_exporter": "python",
      "pygments_lexer": "ipython3",
      "version": "3.10.5"
    }
  },
  "nbformat": 4,
  "nbformat_minor": 5
}