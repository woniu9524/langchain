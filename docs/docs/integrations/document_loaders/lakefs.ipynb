{
  "cells": [
    {
      "cell_type": "markdown",
      "metadata": {},
      "source": [
        "# lakeFS\n\n>[lakeFS](https://docs.lakefs.io/) 为数据湖提供了可扩展的版本控制，并使用类似 Git 的语义来创建和访问这些版本。\n\n本 notebook 涵盖了如何从 `lakeFS` 路径（无论是对象还是前缀）加载文档对象。"
      ]
    },
    {
      "cell_type": "markdown",
      "metadata": {
        "collapsed": false
      },
      "source": [
        "## 初始化 lakeFS 加载器\n\n将 `ENDPOINT`、`LAKEFS_ACCESS_KEY` 和 `LAKEFS_SECRET_KEY` 的值替换为您自己的。"
      ]
    },
    {
      "cell_type": "code",
      "execution_count": null,
      "metadata": {},
      "outputs": [],
      "source": [
        "from langchain_community.document_loaders import LakeFSLoader"
      ]
    },
    {
      "cell_type": "code",
      "execution_count": null,
      "metadata": {},
      "outputs": [],
      "source": [
        "ENDPOINT = \"\"\n",
        "LAKEFS_ACCESS_KEY = \"\"\n",
        "LAKEFS_SECRET_KEY = \"\"\n",
        "\n",
        "lakefs_loader = LakeFSLoader(\n",
        "    lakefs_access_key=LAKEFS_ACCESS_KEY,\n",
        "    lakefs_secret_key=LAKEFS_SECRET_KEY,\n",
        "    lakefs_endpoint=ENDPOINT,\n",
        ")"
      ]
    },
    {
      "cell_type": "markdown",
      "metadata": {
        "collapsed": false
      },
      "source": [
        "## 指定路径\n你可以指定一个前缀或一个完整的对象路径来控制要加载的文件。\n\n在相应的 `REPO`、`REF`（分支、提交 ID 或标签）和 `PATH` 中指定仓库、引用（分支、提交 ID 或标签）和路径，以加载其中的文档："
      ]
    },
    {
      "cell_type": "code",
      "execution_count": null,
      "metadata": {},
      "outputs": [],
      "source": [
        "REPO = \"\"\n",
        "REF = \"\"\n",
        "PATH = \"\"\n",
        "\n",
        "lakefs_loader.set_repo(REPO)\n",
        "lakefs_loader.set_ref(REF)\n",
        "lakefs_loader.set_path(PATH)\n",
        "\n",
        "docs = lakefs_loader.load()\n",
        "docs"
      ]
    }
  ],
  "metadata": {
    "kernelspec": {
      "display_name": "Python 3 (ipykernel)",
      "language": "python",
      "name": "python3"
    },
    "language_info": {
      "codemirror_mode": {
        "name": "ipython",
        "version": 3
      },
      "file_extension": ".py",
      "mimetype": "text/x-python",
      "name": "python",
      "nbconvert_exporter": "python",
      "pygments_lexer": "ipython3",
      "version": "3.9.1"
    }
  },
  "nbformat": 4,
  "nbformat_minor": 2
}