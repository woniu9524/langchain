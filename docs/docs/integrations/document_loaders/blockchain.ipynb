{
  "cells": [
    {
      "cell_type": "markdown",
      "metadata": {
        "id": "vm8vn9t8DvC_"
      },
      "source": [
        "# 区块链"
      ]
    },
    {
      "attachments": {},
      "cell_type": "markdown",
      "metadata": {
        "id": "juAmbgoWD17u"
      },
      "source": [
        "本 Notebook 的目的是提供一种测试 Langchain Document Loader for Blockchain 功能的方法。\n\n最初，此 Loader 支持：\n\n*   从 NFT 智能合约（ERC721 和 ERC1155）加载 NFT 作为 Documents\n*   Ethereum 主网、Ethereum 测试网、Polygon 主网、Polygon 测试网（默认为 eth-mainnet）\n*   Alchemy 的 getNFTsForCollection API\n\n如果社区认为此 Loader 有价值，可以对其进行扩展。具体来说：\n\n*   可以添加额外的 API（例如，与交易相关的 API）\n\n此 Document Loader 需要：\n\n*   一个免费的 [Alchemy API Key](https://www.alchemy.com/)\n\n输出格式如下：\n\n- pageContent=Individual NFT\n- metadata=\\{'source': '0x1a92f7381b9f03921564a437210bb9396471050c', 'blockchain': 'eth-mainnet', 'tokenId': '0x15'\\}"
      ]
    },
    {
      "cell_type": "markdown",
      "metadata": {},
      "source": [
        "## 将 NFT 加载到文档加载器"
      ]
    },
    {
      "cell_type": "code",
      "execution_count": null,
      "metadata": {},
      "outputs": [],
      "source": [
        "# get ALCHEMY_API_KEY from https://www.alchemy.com/\n",
        "\n",
        "alchemyApiKey = \"...\""
      ]
    },
    {
      "cell_type": "markdown",
      "metadata": {},
      "source": [
        "### 选项 1：以太坊主网 (默认 BlockchainType)"
      ]
    },
    {
      "cell_type": "code",
      "execution_count": null,
      "metadata": {
        "id": "J3LWHARC-Kn0"
      },
      "outputs": [],
      "source": [
        "from langchain_community.document_loaders.blockchain import (\n",
        "    BlockchainDocumentLoader,\n",
        "    BlockchainType,\n",
        ")\n",
        "\n",
        "contractAddress = \"0xbc4ca0eda7647a8ab7c2061c2e118a18a936f13d\"  # Bored Ape Yacht Club contract address\n",
        "\n",
        "blockchainType = BlockchainType.ETH_MAINNET  # default value, optional parameter\n",
        "\n",
        "blockchainLoader = BlockchainDocumentLoader(\n",
        "    contract_address=contractAddress, api_key=alchemyApiKey\n",
        ")\n",
        "\n",
        "nfts = blockchainLoader.load()\n",
        "\n",
        "nfts[:2]"
      ]
    },
    {
      "cell_type": "markdown",
      "metadata": {},
      "source": [
        "### 选项 2：Polygon 主网"
      ]
    },
    {
      "cell_type": "code",
      "execution_count": null,
      "metadata": {},
      "outputs": [],
      "source": [
        "contractAddress = (\n",
        "    \"0x448676ffCd0aDf2D85C1f0565e8dde6924A9A7D9\"  # Polygon Mainnet contract address\n",
        ")\n",
        "\n",
        "blockchainType = BlockchainType.POLYGON_MAINNET\n",
        "\n",
        "blockchainLoader = BlockchainDocumentLoader(\n",
        "    contract_address=contractAddress,\n",
        "    blockchainType=blockchainType,\n",
        "    api_key=alchemyApiKey,\n",
        ")\n",
        "\n",
        "nfts = blockchainLoader.load()\n",
        "\n",
        "nfts[:2]"
      ]
    }
  ],
  "metadata": {
    "colab": {
      "collapsed_sections": [
        "5WjXERXzFEhg"
      ],
      "provenance": []
    },
    "kernelspec": {
      "display_name": "Python 3 (ipykernel)",
      "language": "python",
      "name": "python3"
    },
    "language_info": {
      "codemirror_mode": {
        "name": "ipython",
        "version": 3
      },
      "file_extension": ".py",
      "mimetype": "text/x-python",
      "name": "python",
      "nbconvert_exporter": "python",
      "pygments_lexer": "ipython3",
      "version": "3.10.6"
    }
  },
  "nbformat": 4,
  "nbformat_minor": 4
}