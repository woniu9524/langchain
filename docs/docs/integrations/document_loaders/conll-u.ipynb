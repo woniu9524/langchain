{
  "cells": [
    {
      "cell_type": "markdown",
      "id": "9f98a15e",
      "metadata": {},
      "source": [
        "# CoNLL-U\n\n>[CoNLL-U](https://universaldependencies.org/format.html) 是 CoNLL-X 格式的修订版本。注释被编码在纯文本文件中（UTF-8，UTF-8 编码，NFC 规范化，仅使用 LF 字符作为换行符，并在文件末尾包含一个 LF 字符），包含三种类型的行：\n>- 词行，包含一个词/标记的注释，共 10 个字段，字段间用单个制表符分隔；如下所示。\n>- 空行，标记句子边界。\n>- 注释行，以井号（#）开头。\n\n这是加载 [CoNLL-U](https://universaldependencies.org/format.html) 格式文件的示例。整个文件被视为一个文档。示例数据（`conllu.conllu`）基于标准的 UD/CoNLL-U 示例之一。"
      ]
    },
    {
      "cell_type": "code",
      "execution_count": 1,
      "id": "d9b2e33e",
      "metadata": {
        "tags": []
      },
      "outputs": [],
      "source": [
        "from langchain_community.document_loaders import CoNLLULoader"
      ]
    },
    {
      "cell_type": "code",
      "execution_count": 2,
      "id": "5b5eec48",
      "metadata": {
        "tags": []
      },
      "outputs": [],
      "source": [
        "loader = CoNLLULoader(\"example_data/conllu.conllu\")"
      ]
    },
    {
      "cell_type": "code",
      "execution_count": 3,
      "id": "10f3f725",
      "metadata": {
        "tags": []
      },
      "outputs": [],
      "source": [
        "document = loader.load()"
      ]
    },
    {
      "cell_type": "code",
      "execution_count": 4,
      "id": "acbb3579",
      "metadata": {
        "tags": []
      },
      "outputs": [
        {
          "data": {
            "text/plain": [
              "[Document(page_content='They buy and sell books.', metadata={'source': 'example_data/conllu.conllu'})]"
            ]
          },
          "execution_count": 4,
          "metadata": {},
          "output_type": "execute_result"
        }
      ],
      "source": [
        "document"
      ]
    }
  ],
  "metadata": {
    "kernelspec": {
      "display_name": "Python 3 (ipykernel)",
      "language": "python",
      "name": "python3"
    },
    "language_info": {
      "codemirror_mode": {
        "name": "ipython",
        "version": 3
      },
      "file_extension": ".py",
      "mimetype": "text/x-python",
      "name": "python",
      "nbconvert_exporter": "python",
      "pygments_lexer": "ipython3",
      "version": "3.10.6"
    },
    "toc": {
      "base_numbering": 1,
      "nav_menu": {},
      "number_sections": true,
      "sideBar": true,
      "skip_h1_title": false,
      "title_cell": "Table of Contents",
      "title_sidebar": "Contents",
      "toc_cell": false,
      "toc_position": {},
      "toc_section_display": true,
      "toc_window_display": false
    },
    "varInspector": {
      "cols": {
        "lenName": 16,
        "lenType": 16,
        "lenVar": 40
      },
      "kernels_config": {
        "python": {
          "delete_cmd_postfix": "",
          "delete_cmd_prefix": "del ",
          "library": "var_list.py",
          "varRefreshCmd": "print(var_dic_list())"
        },
        "r": {
          "delete_cmd_postfix": ") ",
          "delete_cmd_prefix": "rm(",
          "library": "var_list.r",
          "varRefreshCmd": "cat(var_dic_list()) "
        }
      },
      "types_to_exclude": [
        "module",
        "function",
        "builtin_function_or_method",
        "instance",
        "_Feature"
      ],
      "window_display": false
    }
  },
  "nbformat": 4,
  "nbformat_minor": 5
}