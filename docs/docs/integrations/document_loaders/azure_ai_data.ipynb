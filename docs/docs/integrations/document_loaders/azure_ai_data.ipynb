{
  "cells": [
    {
      "cell_type": "markdown",
      "id": "a634365e",
      "metadata": {},
      "source": [
        "# Azure AI 数据\n\n>[Azure AI Studio](https://ai.azure.com/) 提供了将数据上传到云存储以及从以下来源注册现有数据资产的功能：\n>\n>- `Microsoft OneLake`\n>- `Azure Blob Storage`\n>- `Azure Data Lake gen 2`\n\n与 `AzureBlobStorageContainerLoader` 和 `AzureBlobStorageFileLoader` 相比，这种方法的优势在于可以无缝处理到云存储的身份验证。您可以使用基于*身份*的数据访问控制，或者使用基于*凭据*（例如 SAS 令牌、帐户密钥）的数据访问控制。对于基于凭据的数据访问，您无需在代码中指定密钥或设置密钥保管库——系统会为您处理这些。\n\n本笔记本将介绍如何从 AI Studio 中的数据资产加载文档对象。"
      ]
    },
    {
      "cell_type": "code",
      "execution_count": null,
      "id": "49815096",
      "metadata": {},
      "outputs": [],
      "source": [
        "%pip install --upgrade --quiet  azureml-fsspec, azure-ai-generative"
      ]
    },
    {
      "cell_type": "code",
      "execution_count": 1,
      "id": "2f0cd6a5",
      "metadata": {
        "tags": []
      },
      "outputs": [],
      "source": [
        "from azure.ai.resources.client import AIClient\n",
        "from azure.identity import DefaultAzureCredential\n",
        "from langchain_community.document_loaders import AzureAIDataLoader"
      ]
    },
    {
      "cell_type": "code",
      "execution_count": null,
      "id": "08d40b11-e87a-426e-a6b0-89f24e47ce2c",
      "metadata": {},
      "outputs": [],
      "source": [
        "# Create a connection to your project\n",
        "client = AIClient(\n",
        "    credential=DefaultAzureCredential(),\n",
        "    subscription_id=\"<subscription_id>\",\n",
        "    resource_group_name=\"<resource_group_name>\",\n",
        "    project_name=\"<project_name>\",\n",
        ")"
      ]
    },
    {
      "cell_type": "code",
      "execution_count": 3,
      "id": "321cc7f1",
      "metadata": {},
      "outputs": [],
      "source": [
        "# get the latest version of your data asset\n",
        "data_asset = client.data.get(name=\"<data_asset_name>\", label=\"latest\")"
      ]
    },
    {
      "cell_type": "code",
      "execution_count": null,
      "id": "25d91cea-c5f2-4a53-ac19-442810451ec6",
      "metadata": {},
      "outputs": [],
      "source": [
        "# load the data asset\n",
        "loader = AzureAIDataLoader(url=data_asset.path)"
      ]
    },
    {
      "cell_type": "code",
      "execution_count": 4,
      "id": "2b11d155",
      "metadata": {},
      "outputs": [
        {
          "data": {
            "text/plain": [
              "[Document(page_content='Lorem ipsum dolor sit amet.', lookup_str='', metadata={'source': '/var/folders/y6/8_bzdg295ld6s1_97_12m4lr0000gn/T/tmpaa9xl6ch/fake.docx'}, lookup_index=0)]"
            ]
          },
          "execution_count": 4,
          "metadata": {},
          "output_type": "execute_result"
        }
      ],
      "source": [
        "loader.load()"
      ]
    },
    {
      "cell_type": "markdown",
      "id": "0690c40a",
      "metadata": {},
      "source": [
        "## 指定 glob 模式\n你也可以指定一个 glob 模式来更精细地控制要加载哪些文件。在下面的示例中，将只加载具有 `pdf` 扩展名的文件。"
      ]
    },
    {
      "cell_type": "code",
      "execution_count": 5,
      "id": "72d44781",
      "metadata": {},
      "outputs": [],
      "source": [
        "loader = AzureAIDataLoader(url=data_asset.path, glob=\"*.pdf\")"
      ]
    },
    {
      "cell_type": "code",
      "execution_count": 6,
      "id": "2d3c32db",
      "metadata": {},
      "outputs": [
        {
          "data": {
            "text/plain": [
              "[Document(page_content='Lorem ipsum dolor sit amet.', lookup_str='', metadata={'source': '/var/folders/y6/8_bzdg295ld6s1_97_12m4lr0000gn/T/tmpujbkzf_l/fake.docx'}, lookup_index=0)]"
            ]
          },
          "execution_count": 6,
          "metadata": {},
          "output_type": "execute_result"
        }
      ],
      "source": [
        "loader.load()"
      ]
    },
    {
      "cell_type": "code",
      "execution_count": null,
      "id": "885dc280",
      "metadata": {},
      "outputs": [],
      "source": []
    }
  ],
  "metadata": {
    "kernelspec": {
      "display_name": "Python 3 (ipykernel)",
      "language": "python",
      "name": "python3"
    },
    "language_info": {
      "codemirror_mode": {
        "name": "ipython",
        "version": 3
      },
      "file_extension": ".py",
      "mimetype": "text/x-python",
      "name": "python",
      "nbconvert_exporter": "python",
      "pygments_lexer": "ipython3",
      "version": "3.10.12"
    }
  },
  "nbformat": 4,
  "nbformat_minor": 5
}