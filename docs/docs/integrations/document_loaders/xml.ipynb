{
  "cells": [
    {
      "cell_type": "markdown",
      "id": "72ccbe2b",
      "metadata": {},
      "source": [
        "# UnstructuredXMLLoader\n\n本指南将快速介绍如何开始使用 UnstructuredXMLLoader [文档加载器](https://python.langchain.com/docs/concepts/document_loaders)。`UnstructuredXMLLoader` 用于加载 `XML` 文件。该加载器可处理 `.xml` 文件。页面内容将是从 XML 标签中提取的文本。\n\n## 概览\n### 集成详情\n\n| Class | Package | Local | Serializable | [JS 支持](https://js.langchain.com/docs/integrations/document_loaders/file_loaders/unstructured/)|\n| :--- | :--- | :---: | :---: |  :---: |\n| [UnstructuredXMLLoader](https://python.langchain.com/api_reference/community/document_loaders/langchain_community.document_loaders.xml.UnstructuredXMLLoader.html) | [langchain_community](https://python.langchain.com/api_reference/community/index.html) | ✅ | ❌ | ✅ |\n### 加载器特性\n| Source | Document Lazy Loading | Native Async Support\n| :---: | :---: | :---: |\n| UnstructuredXMLLoader | ✅ | ❌ |\n\n## 设置\n\n要访问 UnstructuredXMLLoader 文档加载器，您需要安装 `langchain-community` 集成包。\n\n### 凭证\n\n使用 UnstructuredXMLLoader 无需凭证。"
      ]
    },
    {
      "cell_type": "markdown",
      "id": "fc4ba987",
      "metadata": {},
      "source": "要启用对模型调用的自动跟踪，请设置您的 [LangSmith](https://docs.smith.langchain.com/) API 密钥："
    },
    {
      "cell_type": "code",
      "execution_count": null,
      "id": "9fa4d5e5",
      "metadata": {},
      "outputs": [],
      "source": [
        "# os.environ[\"LANGSMITH_API_KEY\"] = getpass.getpass(\"Enter your LangSmith API key: \")\n",
        "# os.environ[\"LANGSMITH_TRACING\"] = \"true\""
      ]
    },
    {
      "cell_type": "markdown",
      "id": "38e53f22",
      "metadata": {},
      "source": [
        "### 安装\n\n安装 **langchain_community**。"
      ]
    },
    {
      "cell_type": "code",
      "execution_count": null,
      "id": "fcd320ec",
      "metadata": {},
      "outputs": [],
      "source": [
        "%pip install -qU langchain_community"
      ]
    },
    {
      "cell_type": "markdown",
      "id": "a102f199",
      "metadata": {},
      "source": [
        "## 初始化\n\n现在我们可以实例化我们的模型对象并加载文档了："
      ]
    },
    {
      "cell_type": "code",
      "execution_count": 2,
      "id": "2d198582",
      "metadata": {},
      "outputs": [],
      "source": [
        "from langchain_community.document_loaders import UnstructuredXMLLoader\n",
        "\n",
        "loader = UnstructuredXMLLoader(\n",
        "    \"./example_data/factbook.xml\",\n",
        ")"
      ]
    },
    {
      "cell_type": "markdown",
      "id": "9bbb463c",
      "metadata": {},
      "source": [
        "## 加载"
      ]
    },
    {
      "cell_type": "code",
      "execution_count": 3,
      "id": "cd875e75",
      "metadata": {},
      "outputs": [
        {
          "data": {
            "text/plain": [
              "Document(metadata={'source': './example_data/factbook.xml'}, page_content='United States\\n\\nWashington, DC\\n\\nJoe Biden\\n\\nBaseball\\n\\nCanada\\n\\nOttawa\\n\\nJustin Trudeau\\n\\nHockey\\n\\nFrance\\n\\nParis\\n\\nEmmanuel Macron\\n\\nSoccer\\n\\nTrinidad & Tobado\\n\\nPort of Spain\\n\\nKeith Rowley\\n\\nTrack & Field')"
            ]
          },
          "execution_count": 3,
          "metadata": {},
          "output_type": "execute_result"
        }
      ],
      "source": [
        "docs = loader.load()\n",
        "docs[0]"
      ]
    },
    {
      "cell_type": "code",
      "execution_count": 4,
      "id": "79b52cc0",
      "metadata": {},
      "outputs": [
        {
          "name": "stdout",
          "output_type": "stream",
          "text": [
            "{'source': './example_data/factbook.xml'}\n"
          ]
        }
      ],
      "source": [
        "print(docs[0].metadata)"
      ]
    },
    {
      "cell_type": "markdown",
      "id": "557608e5",
      "metadata": {},
      "source": [
        "## 懒加载"
      ]
    },
    {
      "cell_type": "code",
      "execution_count": 5,
      "id": "e3b9e75c",
      "metadata": {},
      "outputs": [],
      "source": [
        "page = []\n",
        "for doc in loader.lazy_load():\n",
        "    page.append(doc)\n",
        "    if len(page) >= 10:\n",
        "        # do some paged operation, e.g.\n",
        "        # index.upsert(page)\n",
        "\n",
        "        page = []"
      ]
    },
    {
      "cell_type": "markdown",
      "id": "712aa98f",
      "metadata": {},
      "source": [
        "## API 参考\n\n有关 __ModuleName__Loader 的所有功能和配置的详细文档，请访问 API 参考：https://python.langchain.com/api_reference/community/document_loaders/langchain_community.document_loaders.xml.UnstructuredXMLLoader.html"
      ]
    }
  ],
  "metadata": {
    "kernelspec": {
      "display_name": "Python 3 (ipykernel)",
      "language": "python",
      "name": "python3"
    },
    "language_info": {
      "codemirror_mode": {
        "name": "ipython",
        "version": 3
      },
      "file_extension": ".py",
      "mimetype": "text/x-python",
      "name": "python",
      "nbconvert_exporter": "python",
      "pygments_lexer": "ipython3",
      "version": "3.11.9"
    }
  },
  "nbformat": 4,
  "nbformat_minor": 5
}