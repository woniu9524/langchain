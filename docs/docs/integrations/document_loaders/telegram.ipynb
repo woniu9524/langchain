{
  "cells": [
    {
      "cell_type": "markdown",
      "id": "33205b12",
      "metadata": {},
      "source": [
        "# Telegram\n\n>[Telegram Messenger](https://web.telegram.org/a/) 是一款全球可访问的免费增值、跨平台、加密、云存储和集中式即时通讯服务。该应用程序还提供可选的端到端加密聊天和视频通话、VoIP、文件共享以及其他一些功能。\n\n本笔记涵盖如何从 `Telegram` 加载数据并将其转换为可被 LangChain 摄取（ingest）的格式。"
      ]
    },
    {
      "cell_type": "code",
      "execution_count": 1,
      "id": "90b69c94",
      "metadata": {},
      "outputs": [],
      "source": [
        "from langchain_community.document_loaders import (\n",
        "    TelegramChatApiLoader,\n",
        "    TelegramChatFileLoader,\n",
        ")"
      ]
    },
    {
      "cell_type": "code",
      "execution_count": 2,
      "id": "13deb0f5",
      "metadata": {},
      "outputs": [],
      "source": [
        "loader = TelegramChatFileLoader(\"example_data/telegram.json\")"
      ]
    },
    {
      "cell_type": "code",
      "execution_count": 3,
      "id": "9ccc1e2f",
      "metadata": {},
      "outputs": [
        {
          "data": {
            "text/plain": [
              "[Document(page_content=\"Henry on 2020-01-01T00:00:02: It's 2020...\\n\\nHenry on 2020-01-01T00:00:04: Fireworks!\\n\\nGrace ðŸ§¤ ðŸ\\x8d’ on 2020-01-01T00:00:05: You're a minute late!\\n\\n\", metadata={'source': 'example_data/telegram.json'})]"
            ]
          },
          "execution_count": 3,
          "metadata": {},
          "output_type": "execute_result"
        }
      ],
      "source": [
        "loader.load()"
      ]
    },
    {
      "cell_type": "markdown",
      "id": "3e64cac2",
      "metadata": {},
      "source": [
        "`TelegramChatApiLoader` 直接从 Telegram 的任何指定聊天中加载数据。要导出数据，你需要对你的 Telegram 账户进行身份验证。\n\n你可以从 https://my.telegram.org/auth?to=apps 获取 `API_HASH` 和 `API_ID`。\n\n`chat_entity` – 建议使用频道的 [entity](https://docs.telethon.dev/en/stable/concepts/entities.html?highlight=Entity#what-is-an-entity)。"
      ]
    },
    {
      "cell_type": "code",
      "execution_count": null,
      "id": "f05f75f3",
      "metadata": {},
      "outputs": [],
      "source": [
        "loader = TelegramChatApiLoader(\n",
        "    chat_entity=\"<CHAT_URL>\",  # recommended to use Entity here\n",
        "    api_hash=\"<API HASH >\",\n",
        "    api_id=\"<API_ID>\",\n",
        "    username=\"\",  # needed only for caching the session.\n",
        ")"
      ]
    },
    {
      "cell_type": "code",
      "execution_count": null,
      "id": "40039f7b",
      "metadata": {},
      "outputs": [],
      "source": [
        "loader.load()"
      ]
    },
    {
      "cell_type": "code",
      "execution_count": null,
      "id": "18e5af2b",
      "metadata": {},
      "outputs": [],
      "source": []
    }
  ],
  "metadata": {
    "kernelspec": {
      "display_name": "Python 3 (ipykernel)",
      "language": "python",
      "name": "python3"
    },
    "language_info": {
      "codemirror_mode": {
        "name": "ipython",
        "version": 3
      },
      "file_extension": ".py",
      "mimetype": "text/x-python",
      "name": "python",
      "nbconvert_exporter": "python",
      "pygments_lexer": "ipython3",
      "version": "3.10.6"
    }
  },
  "nbformat": 4,
  "nbformat_minor": 5
}