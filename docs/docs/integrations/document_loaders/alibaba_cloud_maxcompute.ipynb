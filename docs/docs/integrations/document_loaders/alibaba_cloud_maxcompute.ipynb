{
  "cells": [
    {
      "cell_type": "markdown",
      "id": "f08772b0",
      "metadata": {},
      "source": [
        "# 阿里云 MaxCompute\n\n>[阿里云 MaxCompute](https://www.alibabacloud.com/product/maxcompute) (前身为 ODPS) 是一个通用的、完全托管的、多租户的大规模数据仓库数据处理平台。MaxCompute 支持各种数据导入解决方案和分布式计算模型，使用户能够有效地查询海量数据集、降低生产成本并确保数据安全。\n\n`MaxComputeLoader` 允许您执行 MaxCompute SQL 查询，并将结果加载为每行一个文档。"
      ]
    },
    {
      "cell_type": "code",
      "execution_count": 7,
      "id": "067b7213",
      "metadata": {
        "tags": []
      },
      "outputs": [
        {
          "name": "stdout",
          "output_type": "stream",
          "text": [
            "Collecting pyodps\n",
            "  Downloading pyodps-0.11.4.post0-cp39-cp39-macosx_10_9_universal2.whl (2.0 MB)\n",
            "\u001b[2K     \u001b[90m━━━━━━━━━━━━━━━━━━━━━━━━━━━━━━━━━━━━━━━━\u001b[0m \u001b[32m2.0/2.0 MB\u001b[0m \u001b[31m1.7 MB/s\u001b[0m eta \u001b[36m0:00:00\u001b[0m00:01\u001b[0m00:01\u001b[0m0m\n",
            "\u001b[?25hRequirement already satisfied: charset-normalizer>=2 in /Users/newboy/anaconda3/envs/langchain/lib/python3.9/site-packages (from pyodps) (3.1.0)\n",
            "Requirement already satisfied: urllib3<2.0,>=1.26.0 in /Users/newboy/anaconda3/envs/langchain/lib/python3.9/site-packages (from pyodps) (1.26.15)\n",
            "Requirement already satisfied: idna>=2.5 in /Users/newboy/anaconda3/envs/langchain/lib/python3.9/site-packages (from pyodps) (3.4)\n",
            "Requirement already satisfied: certifi>=2017.4.17 in /Users/newboy/anaconda3/envs/langchain/lib/python3.9/site-packages (from pyodps) (2023.5.7)\n",
            "Installing collected packages: pyodps\n",
            "Successfully installed pyodps-0.11.4.post0\n"
          ]
        }
      ],
      "source": [
        "%pip install --upgrade --quiet  pyodps"
      ]
    },
    {
      "cell_type": "markdown",
      "id": "19641457",
      "metadata": {},
      "source": [
        "## 基本用法\n要实例化加载器，您需要一个要执行的 SQL 查询、您的 MaxCompute 端点和项目名称，以及您的访问 ID 和密钥。访问 ID 和密钥可以分别通过 `access_id` 和 `secret_access_key` 参数直接传递，或者设置为环境变量 `MAX_COMPUTE_ACCESS_ID` 和 `MAX_COMPUTE_SECRET_ACCESS_KEY`。"
      ]
    },
    {
      "cell_type": "code",
      "execution_count": 1,
      "id": "71a0da4b",
      "metadata": {
        "tags": []
      },
      "outputs": [],
      "source": [
        "from langchain_community.document_loaders import MaxComputeLoader"
      ]
    },
    {
      "cell_type": "code",
      "execution_count": 2,
      "id": "d4770c4a",
      "metadata": {},
      "outputs": [],
      "source": [
        "base_query = \"\"\"\n",
        "SELECT *\n",
        "FROM (\n",
        "    SELECT 1 AS id, 'content1' AS content, 'meta_info1' AS meta_info\n",
        "    UNION ALL\n",
        "    SELECT 2 AS id, 'content2' AS content, 'meta_info2' AS meta_info\n",
        "    UNION ALL\n",
        "    SELECT 3 AS id, 'content3' AS content, 'meta_info3' AS meta_info\n",
        ") mydata;\n",
        "\"\"\""
      ]
    },
    {
      "cell_type": "code",
      "execution_count": null,
      "id": "1616c174",
      "metadata": {},
      "outputs": [],
      "source": [
        "endpoint = \"<ENDPOINT>\"\n",
        "project = \"<PROJECT>\"\n",
        "ACCESS_ID = \"<ACCESS ID>\"\n",
        "SECRET_ACCESS_KEY = \"<SECRET ACCESS KEY>\""
      ]
    },
    {
      "cell_type": "code",
      "execution_count": 13,
      "id": "e5c25041",
      "metadata": {},
      "outputs": [],
      "source": [
        "loader = MaxComputeLoader.from_params(\n",
        "    base_query,\n",
        "    endpoint,\n",
        "    project,\n",
        "    access_id=ACCESS_ID,\n",
        "    secret_access_key=SECRET_ACCESS_KEY,\n",
        ")\n",
        "data = loader.load()"
      ]
    },
    {
      "cell_type": "code",
      "execution_count": 17,
      "id": "311e74ea",
      "metadata": {},
      "outputs": [
        {
          "name": "stdout",
          "output_type": "stream",
          "text": [
            "[Document(page_content='id: 1\\ncontent: content1\\nmeta_info: meta_info1', metadata={}), Document(page_content='id: 2\\ncontent: content2\\nmeta_info: meta_info2', metadata={}), Document(page_content='id: 3\\ncontent: content3\\nmeta_info: meta_info3', metadata={})]\n"
          ]
        }
      ],
      "source": [
        "print(data)"
      ]
    },
    {
      "cell_type": "code",
      "execution_count": 20,
      "id": "a4d8c388",
      "metadata": {},
      "outputs": [
        {
          "name": "stdout",
          "output_type": "stream",
          "text": [
            "id: 1\n",
            "content: content1\n",
            "meta_info: meta_info1\n"
          ]
        }
      ],
      "source": [
        "print(data[0].page_content)"
      ]
    },
    {
      "cell_type": "code",
      "execution_count": 21,
      "id": "f2422e6c",
      "metadata": {},
      "outputs": [
        {
          "name": "stdout",
          "output_type": "stream",
          "text": [
            "{}\n"
          ]
        }
      ],
      "source": [
        "print(data[0].metadata)"
      ]
    },
    {
      "cell_type": "markdown",
      "id": "85e07e28",
      "metadata": {},
      "source": [
        "## 指定哪些列是内容与元数据\n您可以使用 `page_content_columns` 和 `metadata_columns` 参数配置应该将哪些列子集加载为 Document 的内容，哪些作为元数据。"
      ]
    },
    {
      "cell_type": "code",
      "execution_count": 22,
      "id": "a7b9d726",
      "metadata": {},
      "outputs": [],
      "source": [
        "loader = MaxComputeLoader.from_params(\n",
        "    base_query,\n",
        "    endpoint,\n",
        "    project,\n",
        "    page_content_columns=[\"content\"],  # Specify Document page content\n",
        "    metadata_columns=[\"id\", \"meta_info\"],  # Specify Document metadata\n",
        "    access_id=ACCESS_ID,\n",
        "    secret_access_key=SECRET_ACCESS_KEY,\n",
        ")\n",
        "data = loader.load()"
      ]
    },
    {
      "cell_type": "code",
      "execution_count": 25,
      "id": "532c19e9",
      "metadata": {},
      "outputs": [
        {
          "name": "stdout",
          "output_type": "stream",
          "text": [
            "content: content1\n"
          ]
        }
      ],
      "source": [
        "print(data[0].page_content)"
      ]
    },
    {
      "cell_type": "code",
      "execution_count": 26,
      "id": "5fe4990a",
      "metadata": {},
      "outputs": [
        {
          "name": "stdout",
          "output_type": "stream",
          "text": [
            "{'id': 1, 'meta_info': 'meta_info1'}\n"
          ]
        }
      ],
      "source": [
        "print(data[0].metadata)"
      ]
    }
  ],
  "metadata": {
    "kernelspec": {
      "display_name": "Python 3 (ipykernel)",
      "language": "python",
      "name": "python3"
    },
    "language_info": {
      "codemirror_mode": {
        "name": "ipython",
        "version": 3
      },
      "file_extension": ".py",
      "mimetype": "text/x-python",
      "name": "python",
      "nbconvert_exporter": "python",
      "pygments_lexer": "ipython3",
      "version": "3.11.3"
    }
  },
  "nbformat": 4,
  "nbformat_minor": 5
}