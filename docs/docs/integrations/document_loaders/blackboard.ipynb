{
  "cells": [
    {
      "cell_type": "markdown",
      "metadata": {},
      "source": [
        "# Blackboard\n\n>[Blackboard Learn](https://en.wikipedia.org/wiki/Blackboard_Learn) (以前称为 Blackboard 学习管理系统) 是由 Blackboard Inc. 开发的基于 Web 的虚拟学习环境和学习管理系统。该软件具有课程管理、可定制的开放架构和可扩展的设计，允许与学生信息系统和身份验证协议集成。它可以安装在本地服务器上，由 `Blackboard ASP Solutions` 托管，或作为托管在 Amazon Web Services 上的软件即服务提供。其主要目的包括为传统面授课程中增加在线元素，以及开发很少或没有面授的完全在线课程。\n\n这涵盖了如何从 [Blackboard Learn](https://www.anthology.com/products/teaching-and-learning/learning-effectiveness/blackboard-learn) 实例加载数据。\n\n此加载器并非与所有 `Blackboard` 课程兼容。它仅\n    与使用新 `Blackboard` 界面的课程兼容。\n    要使用此加载器，您必须拥有 BbRouter cookie。您可以通过登录课程然后从浏览器开发者工具中复制 BbRouter cookie 的值来获取此 cookie。"
      ]
    },
    {
      "cell_type": "code",
      "execution_count": null,
      "metadata": {},
      "outputs": [],
      "source": [
        "from langchain_community.document_loaders import BlackboardLoader\n",
        "\n",
        "loader = BlackboardLoader(\n",
        "    blackboard_course_url=\"https://blackboard.example.com/webapps/blackboard/execute/announcement?method=search&context=course_entry&course_id=_123456_1\",\n",
        "    bbrouter=\"expires:12345...\",\n",
        "    load_all_recursively=True,\n",
        ")\n",
        "documents = loader.load()"
      ]
    }
  ],
  "metadata": {
    "kernelspec": {
      "display_name": "Python 3 (ipykernel)",
      "language": "python",
      "name": "python3"
    },
    "language_info": {
      "codemirror_mode": {
        "name": "ipython",
        "version": 3
      },
      "file_extension": ".py",
      "mimetype": "text/x-python",
      "name": "python",
      "nbconvert_exporter": "python",
      "pygments_lexer": "ipython3",
      "version": "3.10.6"
    }
  },
  "nbformat": 4,
  "nbformat_minor": 4
}