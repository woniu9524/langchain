{
  "cells": [
    {
      "cell_type": "markdown",
      "id": "20deed05",
      "metadata": {},
      "source": [
        "# Unstructured\n\n本 Notebook 将介绍如何使用 `Unstructured` [文档加载器](https://python.langchain.com/docs/concepts/document_loaders) 来加载多种类型的文件。`Unstructured` 目前支持文本文件、PowerPoint、HTML、PDF、图像等文件的加载。\n\n请参阅[此指南](../../integrations/providers/unstructured.mdx)以获取有关在本地设置 Unstructured 的更多说明，包括设置所需的系统依赖项。\n\n## 概览\n### 集成详情\n\n| 类 | 包 | 本地 | 可序列化 | [JS 支持](https://js.langchain.com/docs/integrations/document_loaders/file_loaders/unstructured/)|\n| :--- | :--- | :---: | :---: |  :---: |\n| [UnstructuredLoader](https://python.langchain.com/api_reference/unstructured/document_loaders/langchain_unstructured.document_loaders.UnstructuredLoader.html) | [langchain_unstructured](https://python.langchain.com/api_reference/unstructured/index.html) | ✅ | ❌ | ✅ |\n### 加载器功能\n| 来源 | 文档延迟加载 | 原生异步支持\n| :---: | :---: | :---: |\n| UnstructuredLoader | ✅ | ❌ |\n\n## 设置\n\n### 凭证\n\n默认情况下，`langchain-unstructured` 会安装一个占用空间较小的版本，该版本需要将分区逻辑卸载到 Unstructured API，这需要一个 API 密钥。如果您使用本地安装，则不需要 API 密钥。要获取您的 API 密钥，请访问[此网站](https://unstructured.io)并获取 API 密钥，然后在下面的单元格中设置它："
      ]
    },
    {
      "cell_type": "code",
      "execution_count": 1,
      "id": "2886982e",
      "metadata": {},
      "outputs": [],
      "source": [
        "import getpass\n",
        "import os\n",
        "\n",
        "if \"UNSTRUCTURED_API_KEY\" not in os.environ:\n",
        "    os.environ[\"UNSTRUCTURED_API_KEY\"] = getpass.getpass(\n",
        "        \"Enter your Unstructured API key: \"\n",
        "    )"
      ]
    },
    {
      "cell_type": "markdown",
      "id": "e75e2a6d",
      "metadata": {},
      "source": [
        "### 安装\n\n#### 标准安装\n\n运行此 notebook 的其余部分需要以下软件包。"
      ]
    },
    {
      "cell_type": "code",
      "execution_count": null,
      "id": "d9de83b3",
      "metadata": {},
      "outputs": [],
      "source": [
        "# Install package, compatible with API partitioning\n",
        "%pip install --upgrade --quiet langchain-unstructured unstructured-client unstructured \"unstructured[pdf]\" python-magic"
      ]
    },
    {
      "cell_type": "markdown",
      "id": "637eda35",
      "metadata": {},
      "source": [
        "#### 本地安装\n\n如果您想在本地运行分区逻辑，您需要安装一系列系统依赖项，具体请参见 [Unstructured 文档](https://docs.unstructured.io/open-source/installation/full-installation)。\n\n例如，在 Mac 上，您可以使用以下命令安装所需的依赖项：\n\n```bash\n# 基础依赖项\nbrew install libmagic poppler tesseract\n\n# 如果解析 xml / html 文档：\nbrew install libxml2 libxslt\n```\n\n您可以使用以下命令安装本地运行所需的 `pip` 依赖项：\n\n```bash\npip install \"langchain-unstructured[local]\"\n```"
      ]
    },
    {
      "cell_type": "markdown",
      "id": "a9c1c775",
      "metadata": {},
      "source": [
        "## 初始化\n\n`UnstructuredLoader` 允许从多种不同文件类型加载。要了解 `unstructured` 包的所有信息，请参阅其[文档](https://docs.unstructured.io/open-source/introduction/overview)/。在本例中，我们将展示如何从文本文件和 PDF 文件加载。"
      ]
    },
    {
      "cell_type": "code",
      "execution_count": 3,
      "id": "79d3e549",
      "metadata": {},
      "outputs": [],
      "source": [
        "from langchain_unstructured import UnstructuredLoader\n",
        "\n",
        "file_paths = [\n",
        "    \"./example_data/layout-parser-paper.pdf\",\n",
        "    \"./example_data/state_of_the_union.txt\",\n",
        "]\n",
        "\n",
        "\n",
        "loader = UnstructuredLoader(file_paths)"
      ]
    },
    {
      "cell_type": "markdown",
      "id": "8b68dcab",
      "metadata": {},
      "source": [
        "## Load"
      ]
    },
    {
      "cell_type": "code",
      "execution_count": 4,
      "id": "8da59ef8",
      "metadata": {},
      "outputs": [
        {
          "name": "stderr",
          "output_type": "stream",
          "text": [
            "INFO: pikepdf C++ to Python logger bridge initialized\n"
          ]
        },
        {
          "data": {
            "text/plain": [
              "Document(metadata={'source': './example_data/layout-parser-paper.pdf', 'coordinates': {'points': ((16.34, 213.36), (16.34, 253.36), (36.34, 253.36), (36.34, 213.36)), 'system': 'PixelSpace', 'layout_width': 612, 'layout_height': 792}, 'file_directory': './example_data', 'filename': 'layout-parser-paper.pdf', 'languages': ['eng'], 'last_modified': '2024-02-27T15:49:27', 'page_number': 1, 'filetype': 'application/pdf', 'category': 'UncategorizedText', 'element_id': 'd3ce55f220dfb75891b4394a18bcb973'}, page_content='1 2 0 2')"
            ]
          },
          "execution_count": 4,
          "metadata": {},
          "output_type": "execute_result"
        }
      ],
      "source": [
        "docs = loader.load()\n",
        "\n",
        "docs[0]"
      ]
    },
    {
      "cell_type": "code",
      "execution_count": 5,
      "id": "97f7aa1f",
      "metadata": {},
      "outputs": [
        {
          "name": "stdout",
          "output_type": "stream",
          "text": [
            "{'source': './example_data/layout-parser-paper.pdf', 'coordinates': {'points': ((16.34, 213.36), (16.34, 253.36), (36.34, 253.36), (36.34, 213.36)), 'system': 'PixelSpace', 'layout_width': 612, 'layout_height': 792}, 'file_directory': './example_data', 'filename': 'layout-parser-paper.pdf', 'languages': ['eng'], 'last_modified': '2024-02-27T15:49:27', 'page_number': 1, 'filetype': 'application/pdf', 'category': 'UncategorizedText', 'element_id': 'd3ce55f220dfb75891b4394a18bcb973'}\n"
          ]
        }
      ],
      "source": [
        "print(docs[0].metadata)"
      ]
    },
    {
      "cell_type": "markdown",
      "id": "0d7f991b",
      "metadata": {},
      "source": [
        "## 懒加载"
      ]
    },
    {
      "cell_type": "code",
      "execution_count": 6,
      "id": "b05604d2",
      "metadata": {},
      "outputs": [
        {
          "data": {
            "text/plain": [
              "Document(metadata={'source': './example_data/layout-parser-paper.pdf', 'coordinates': {'points': ((16.34, 213.36), (16.34, 253.36), (36.34, 253.36), (36.34, 213.36)), 'system': 'PixelSpace', 'layout_width': 612, 'layout_height': 792}, 'file_directory': './example_data', 'filename': 'layout-parser-paper.pdf', 'languages': ['eng'], 'last_modified': '2024-02-27T15:49:27', 'page_number': 1, 'filetype': 'application/pdf', 'category': 'UncategorizedText', 'element_id': 'd3ce55f220dfb75891b4394a18bcb973'}, page_content='1 2 0 2')"
            ]
          },
          "execution_count": 6,
          "metadata": {},
          "output_type": "execute_result"
        }
      ],
      "source": [
        "pages = []\n",
        "for doc in loader.lazy_load():\n",
        "    pages.append(doc)\n",
        "\n",
        "pages[0]"
      ]
    },
    {
      "cell_type": "markdown",
      "id": "1cf27fc8",
      "metadata": {},
      "source": [
        "## 后处理\n\n如果你需要在提取 `unstructured` 元素后进行后处理，可以在实例化 `UnstructuredLoader` 时，将一个 `str` 到 `str` 的函数列表传递给 `post_processors` 关键字参数。这同样适用于其他 Unstructured 加载器。下面是一个示例。"
      ]
    },
    {
      "cell_type": "code",
      "execution_count": 7,
      "id": "112e5538",
      "metadata": {},
      "outputs": [
        {
          "data": {
            "text/plain": [
              "[Document(metadata={'source': './example_data/layout-parser-paper.pdf', 'coordinates': {'points': ((16.34, 393.9), (16.34, 560.0), (36.34, 560.0), (36.34, 393.9)), 'system': 'PixelSpace', 'layout_width': 612, 'layout_height': 792}, 'file_directory': './example_data', 'filename': 'layout-parser-paper.pdf', 'languages': ['eng'], 'last_modified': '2024-02-27T15:49:27', 'page_number': 1, 'parent_id': '89565df026a24279aaea20dc08cedbec', 'filetype': 'application/pdf', 'category': 'UncategorizedText', 'element_id': 'e9fa370aef7ee5c05744eb7bb7d9981b'}, page_content='2 v 8 4 3 5 1 . 3 0 1 2 : v i X r a'),\n",
              " Document(metadata={'source': './example_data/layout-parser-paper.pdf', 'coordinates': {'points': ((157.62199999999999, 114.23496279999995), (157.62199999999999, 146.5141628), (457.7358962799999, 146.5141628), (457.7358962799999, 114.23496279999995)), 'system': 'PixelSpace', 'layout_width': 612, 'layout_height': 792}, 'file_directory': './example_data', 'filename': 'layout-parser-paper.pdf', 'languages': ['eng'], 'last_modified': '2024-02-27T15:49:27', 'page_number': 1, 'filetype': 'application/pdf', 'category': 'Title', 'element_id': 'bde0b230a1aa488e3ce837d33015181b'}, page_content='LayoutParser: A Uniﬁed Toolkit for Deep Learning Based Document Image Analysis'),\n",
              " Document(metadata={'source': './example_data/layout-parser-paper.pdf', 'coordinates': {'points': ((134.809, 168.64029940800003), (134.809, 192.2517444), (480.5464199080001, 192.2517444), (480.5464199080001, 168.64029940800003)), 'system': 'PixelSpace', 'layout_width': 612, 'layout_height': 792}, 'file_directory': './example_data', 'filename': 'layout-parser-paper.pdf', 'languages': ['eng'], 'last_modified': '2024-02-27T15:49:27', 'page_number': 1, 'parent_id': 'bde0b230a1aa488e3ce837d33015181b', 'filetype': 'application/pdf', 'category': 'UncategorizedText', 'element_id': '54700f902899f0c8c90488fa8d825bce'}, page_content='Zejiang Shen1 ((cid:0)), Ruochen Zhang2, Melissa Dell3, Benjamin Charles Germain Lee4, Jacob Carlson3, and Weining Li5'),\n",
              " Document(metadata={'source': './example_data/layout-parser-paper.pdf', 'coordinates': {'points': ((207.23000000000002, 202.57205439999996), (207.23000000000002, 311.8195408), (408.12676, 311.8195408), (408.12676, 202.57205439999996)), 'system': 'PixelSpace', 'layout_width': 612, 'layout_height': 792}, 'file_directory': './example_data', 'filename': 'layout-parser-paper.pdf', 'languages': ['eng'], 'last_modified': '2024-02-27T15:49:27', 'page_number': 1, 'parent_id': 'bde0b230a1aa488e3ce837d33015181b', 'filetype': 'application/pdf', 'category': 'UncategorizedText', 'element_id': 'b650f5867bad9bb4e30384282c79bcfe'}, page_content='1 Allen Institute for AI shannons@allenai.org 2 Brown University ruochen zhang@brown.edu 3 Harvard University {melissadell,jacob carlson}@fas.harvard.edu 4 University of Washington bcgl@cs.washington.edu 5 University of Waterloo w422li@uwaterloo.ca'),\n",
              " Document(metadata={'source': './example_data/layout-parser-paper.pdf', 'coordinates': {'points': ((162.779, 338.45008160000003), (162.779, 566.8455408), (454.0372021523199, 566.8455408), (454.0372021523199, 338.45008160000003)), 'system': 'PixelSpace', 'layout_width': 612, 'layout_height': 792}, 'file_directory': './example_data', 'filename': 'layout-parser-paper.pdf', 'languages': ['eng'], 'last_modified': '2024-02-27T15:49:27', 'links': [{'text': ':// layout - parser . github . io', 'url': 'https://layout-parser.github.io', 'start_index': 1477}], 'page_number': 1, 'parent_id': 'bde0b230a1aa488e3ce837d33015181b', 'filetype': 'application/pdf', 'category': 'NarrativeText', 'element_id': 'cfc957c94fe63c8fd7c7f4bcb56e75a7'}, page_content='Abstract. Recent advances in document image analysis (DIA) have been primarily driven by the application of neural networks. Ideally, research outcomes could be easily deployed in production and extended for further investigation. However, various factors like loosely organized codebases and sophisticated model conﬁgurations complicate the easy reuse of im- portant innovations by a wide audience. Though there have been on-going eﬀorts to improve reusability and simplify deep learning (DL) model development in disciplines like natural language processing and computer vision, none of them are optimized for challenges in the domain of DIA. This represents a major gap in the existing toolkit, as DIA is central to academic research across a wide range of disciplines in the social sciences and humanities. This paper introduces LayoutParser, an open-source library for streamlining the usage of DL in DIA research and applica- tions. The core LayoutParser library comes with a set of simple and intuitive interfaces for applying and customizing DL models for layout de- tection, character recognition, and many other document processing tasks. To promote extensibility, LayoutParser also incorporates a community platform for sharing both pre-trained models and full document digiti- zation pipelines. We demonstrate that LayoutParser is helpful for both lightweight and large-scale digitization pipelines in real-word use cases. The library is publicly available at https://layout-parser.github.io.')]"
            ]
          },
          "execution_count": 7,
          "metadata": {},
          "output_type": "execute_result"
        }
      ],
      "source": [
        "from langchain_unstructured import UnstructuredLoader\n",
        "from unstructured.cleaners.core import clean_extra_whitespace\n",
        "\n",
        "loader = UnstructuredLoader(\n",
        "    \"./example_data/layout-parser-paper.pdf\",\n",
        "    post_processors=[clean_extra_whitespace],\n",
        ")\n",
        "\n",
        "docs = loader.load()\n",
        "\n",
        "docs[5:10]"
      ]
    },
    {
      "cell_type": "markdown",
      "id": "b066cb5a",
      "metadata": {},
      "source": [
        "## 非结构化 API\n\n如果您想快速启动小型包并获得最新的分区，您可以 `pip install\nunstructured-client` 和 `pip install langchain-unstructured`。有关 `UnstructuredLoader` 的更多信息，请参阅\n[Unstructured 提供商页面](https://python.langchain.com/v0.1/docs/integrations/document_loaders/unstructured_file/)。\n\n当您传入 `api_key` 并设置 `partition_via_api=True` 时，加载器将使用托管的 Unstructured serverless API 处理您的文档。您可以在此处生成免费的\nUnstructured API 密钥：[https://unstructured.io/api-key/](https://unstructured.io/api-key/)。\n\n如果您想自托管 Unstructured API 或在本地运行它，请在此处查看说明：\n[https://github.com/Unstructured-IO/unstructured-api#dizzy-instructions-for-using-the-docker-image](https://github.com/Unstructured-IO/unstructured-api#dizzy-instructions-for-using-the-docker-image)。"
      ]
    },
    {
      "cell_type": "code",
      "execution_count": 8,
      "id": "386eb63c",
      "metadata": {},
      "outputs": [
        {
          "name": "stderr",
          "output_type": "stream",
          "text": [
            "INFO: Preparing to split document for partition.\n",
            "INFO: Given file doesn't have '.pdf' extension, so splitting is not enabled.\n",
            "INFO: Partitioning without split.\n",
            "INFO: Successfully partitioned the document.\n"
          ]
        },
        {
          "data": {
            "text/plain": [
              "Document(metadata={'source': 'example_data/fake.docx', 'category_depth': 0, 'filename': 'fake.docx', 'languages': ['por', 'cat'], 'filetype': 'application/vnd.openxmlformats-officedocument.wordprocessingml.document', 'category': 'Title', 'element_id': '56d531394823d81787d77a04462ed096'}, page_content='Lorem ipsum dolor sit amet.')"
            ]
          },
          "execution_count": 8,
          "metadata": {},
          "output_type": "execute_result"
        }
      ],
      "source": [
        "from langchain_unstructured import UnstructuredLoader\n",
        "\n",
        "loader = UnstructuredLoader(\n",
        "    file_path=\"example_data/fake.docx\",\n",
        "    api_key=os.getenv(\"UNSTRUCTURED_API_KEY\"),\n",
        "    partition_via_api=True,\n",
        ")\n",
        "\n",
        "docs = loader.load()\n",
        "docs[0]"
      ]
    },
    {
      "cell_type": "markdown",
      "id": "94158999",
      "metadata": {},
      "source": [
        "您还可以通过 Unstructured API，在一次 API 请求中批量处理多个文件，使用 `UnstructuredLoader`。"
      ]
    },
    {
      "cell_type": "code",
      "execution_count": 9,
      "id": "a3d7c846",
      "metadata": {},
      "outputs": [
        {
          "name": "stderr",
          "output_type": "stream",
          "text": [
            "INFO: Preparing to split document for partition.\n",
            "INFO: Given file doesn't have '.pdf' extension, so splitting is not enabled.\n",
            "INFO: Partitioning without split.\n",
            "INFO: Successfully partitioned the document.\n",
            "INFO: Preparing to split document for partition.\n",
            "INFO: Given file doesn't have '.pdf' extension, so splitting is not enabled.\n",
            "INFO: Partitioning without split.\n",
            "INFO: Successfully partitioned the document.\n"
          ]
        },
        {
          "name": "stdout",
          "output_type": "stream",
          "text": [
            "fake.docx :  Lorem ipsum dolor sit amet.\n",
            "fake-email.eml :  Violets are blue\n"
          ]
        }
      ],
      "source": [
        "loader = UnstructuredLoader(\n",
        "    file_path=[\"example_data/fake.docx\", \"example_data/fake-email.eml\"],\n",
        "    api_key=os.getenv(\"UNSTRUCTURED_API_KEY\"),\n",
        "    partition_via_api=True,\n",
        ")\n",
        "\n",
        "docs = loader.load()\n",
        "\n",
        "print(docs[0].metadata[\"filename\"], \": \", docs[0].page_content[:100])\n",
        "print(docs[-1].metadata[\"filename\"], \": \", docs[-1].page_content[:100])"
      ]
    },
    {
      "cell_type": "markdown",
      "id": "a324a0db",
      "metadata": {},
      "source": [
        "### 非结构化 SDK 客户端\n\n使用非结构化 API 进行分区依赖于 [非结构化 SDK 客户端](https://docs.unstructured.io/api-reference/api-services/accessing-unstructured-api)。\n\n如果你想自定义客户端，你需要将 `UnstructuredClient` 实例传递给 `UnstructuredLoader`。下面是一个示例，展示了如何自定义客户端的各项功能，例如使用你自己的 `requests.Session()`、传递替代的 `server_url` 以及自定义 `RetryConfig` 对象。有关自定义客户端的更多信息或 SDK 客户端接受的其他参数，请参阅 [非结构化 Python SDK](https://docs.unstructured.io/api-reference/api-services/sdk-python) 文档和 [API 参数](https://docs.unstructured.io/api-reference/api-services/api-parameters) 文档中关于客户端的部分。请注意，所有 API 参数都应传递给 `UnstructuredLoader`。"
      ]
    },
    {
      "cell_type": "markdown",
      "id": "ebb69c85",
      "metadata": {},
      "source": [
        "<div class=\"alert alert-block alert-warning\"><b>警告：</b>下面的示例可能未使用最新版本的 UnstructuredClient，并且未来的版本中可能存在重大更改。有关最新示例，请参阅 <a href=\"https://docs.unstructured.io/api-reference/api-services/sdk-python\">Unstructured Python SDK</a> 文档。</div>"
      ]
    },
    {
      "cell_type": "code",
      "execution_count": 10,
      "id": "58e55264",
      "metadata": {},
      "outputs": [
        {
          "name": "stderr",
          "output_type": "stream",
          "text": [
            "INFO: Preparing to split document for partition.\n",
            "INFO: Concurrency level set to 5\n",
            "INFO: Splitting pages 1 to 10 (10 total)\n",
            "INFO: Determined optimal split size of 2 pages.\n",
            "INFO: Partitioning 5 files with 2 page(s) each.\n",
            "INFO: Partitioning set #1 (pages 1-2).\n",
            "INFO: Partitioning set #2 (pages 3-4).\n",
            "INFO: Partitioning set #3 (pages 5-6).\n",
            "INFO: Partitioning set #4 (pages 7-8).\n",
            "INFO: Partitioning set #5 (pages 9-10).\n",
            "INFO: HTTP Request: POST https://api.unstructuredapp.io/general/v0/general \"HTTP/1.1 200 OK\"\n",
            "INFO: HTTP Request: POST https://api.unstructuredapp.io/general/v0/general \"HTTP/1.1 200 OK\"\n",
            "INFO: HTTP Request: POST https://api.unstructuredapp.io/general/v0/general \"HTTP/1.1 200 OK\"\n",
            "INFO: HTTP Request: POST https://api.unstructuredapp.io/general/v0/general \"HTTP/1.1 200 OK\"\n",
            "INFO: Successfully partitioned set #1, elements added to the final result.\n",
            "INFO: Successfully partitioned set #2, elements added to the final result.\n",
            "INFO: Successfully partitioned set #3, elements added to the final result.\n",
            "INFO: Successfully partitioned set #4, elements added to the final result.\n",
            "INFO: Successfully partitioned set #5, elements added to the final result.\n",
            "INFO: Successfully partitioned the document.\n"
          ]
        },
        {
          "name": "stdout",
          "output_type": "stream",
          "text": [
            "layout-parser-paper.pdf :  LayoutParser: A Uniﬁed Toolkit for Deep Learning Based Document Image Analysis\n"
          ]
        }
      ],
      "source": [
        "import requests\n",
        "from langchain_unstructured import UnstructuredLoader\n",
        "from unstructured_client import UnstructuredClient\n",
        "from unstructured_client.utils import BackoffStrategy, RetryConfig\n",
        "\n",
        "client = UnstructuredClient(\n",
        "    api_key_auth=os.getenv(\n",
        "        \"UNSTRUCTURED_API_KEY\"\n",
        "    ),  # Note: the client API param is \"api_key_auth\" instead of \"api_key\"\n",
        "    client=requests.Session(),  # Define your own requests session\n",
        "    server_url=\"https://api.unstructuredapp.io/general/v0/general\",  # Define your own api url\n",
        "    retry_config=RetryConfig(\n",
        "        strategy=\"backoff\",\n",
        "        retry_connection_errors=True,\n",
        "        backoff=BackoffStrategy(\n",
        "            initial_interval=500,\n",
        "            max_interval=60000,\n",
        "            exponent=1.5,\n",
        "            max_elapsed_time=900000,\n",
        "        ),\n",
        "    ),  # Define your own retry config\n",
        ")\n",
        "\n",
        "loader = UnstructuredLoader(\n",
        "    \"./example_data/layout-parser-paper.pdf\",\n",
        "    partition_via_api=True,\n",
        "    client=client,\n",
        "    split_pdf_page=True,\n",
        "    split_pdf_page_range=[1, 10],\n",
        ")\n",
        "\n",
        "docs = loader.load()\n",
        "\n",
        "print(docs[0].metadata[\"filename\"], \": \", docs[0].page_content[:100])"
      ]
    },
    {
      "cell_type": "markdown",
      "id": "c66fbeb3",
      "metadata": {},
      "source": [
        "## 分块\n\n`UnstructuredLoader` 不支持将 `mode` 作为参数来对文本进行分组，不像旧的加载器 `UnstructuredFileLoader` 和其他加载器那样。相反，它支持“分块”。Unstructured 中的分块与您可能熟悉的、基于纯文本特征（如表示段落边界或列表项边界的字符序列 \"\\n\\n\" 或 \"\\n\"）来形成块的其他分块机制不同。而是，所有文档都使用关于每个文档格式的特定知识进行拆分，将文档划分为语义单元（文档元素），我们只需要在单个元素超过所需的块的最大大小时进行文本拆分。总的来说，分块会合并连续的元素，形成尽可能大的块，但不会超过块的最大大。分块会生成 CompositeElement、Table 或 TableChunk 元素的序列。每个“块”是这三种类型之一的实例。\n\n有关分块选项的更多详细信息，请参阅此[页面](https://docs.unstructured.io/open-source/core-functionality/chunking)，但要重现与 `mode=\"single\"` 相同的行为，您可以设置 `chunking_strategy=\"basic\"`、`max_characters=<some-really-big-number>` 和 `include_orig_elements=False`。"
      ]
    },
    {
      "cell_type": "code",
      "execution_count": 11,
      "id": "e9f1c20d",
      "metadata": {},
      "outputs": [
        {
          "name": "stdout",
          "output_type": "stream",
          "text": [
            "Number of LangChain documents: 1\n",
            "Length of text in the document: 42772\n"
          ]
        }
      ],
      "source": [
        "from langchain_unstructured import UnstructuredLoader\n",
        "\n",
        "loader = UnstructuredLoader(\n",
        "    \"./example_data/layout-parser-paper.pdf\",\n",
        "    chunking_strategy=\"basic\",\n",
        "    max_characters=1000000,\n",
        "    include_orig_elements=False,\n",
        ")\n",
        "\n",
        "docs = loader.load()\n",
        "\n",
        "print(\"Number of LangChain documents:\", len(docs))\n",
        "print(\"Length of text in the document:\", len(docs[0].page_content))"
      ]
    },
    {
      "cell_type": "markdown",
      "id": "3ec3c22d-02cd-498b-921f-b839d1404f32",
      "metadata": {},
      "source": [
        "## 加载网页\n\n`UnstructuredLoader` 在本地运行时接受一个 `web_url` 关键字参数，该参数填充底层 Unstructured [partition](https://docs.unstructured.io/open-source/core-functionality/partitioning) 的 `url` 参数。这允许解析远程托管的文档，例如 HTML 网页。\n\n用法示例："
      ]
    },
    {
      "cell_type": "code",
      "execution_count": 6,
      "id": "bf9a8546-659d-4861-bff2-fdf1ad93ac65",
      "metadata": {},
      "outputs": [
        {
          "name": "stdout",
          "output_type": "stream",
          "text": [
            "page_content='Example Domain' metadata={'category_depth': 0, 'languages': ['eng'], 'filetype': 'text/html', 'url': 'https://www.example.com', 'category': 'Title', 'element_id': 'fdaa78d856f9d143aeeed85bf23f58f8'}\n",
            "\n",
            "page_content='This domain is for use in illustrative examples in documents. You may use this domain in literature without prior coordination or asking for permission.' metadata={'languages': ['eng'], 'parent_id': 'fdaa78d856f9d143aeeed85bf23f58f8', 'filetype': 'text/html', 'url': 'https://www.example.com', 'category': 'NarrativeText', 'element_id': '3652b8458b0688639f973fe36253c992'}\n",
            "\n",
            "page_content='More information...' metadata={'category_depth': 0, 'link_texts': ['More information...'], 'link_urls': ['https://www.iana.org/domains/example'], 'languages': ['eng'], 'filetype': 'text/html', 'url': 'https://www.example.com', 'category': 'Title', 'element_id': '793ab98565d6f6d6f3a6d614e3ace2a9'}\n",
            "\n"
          ]
        }
      ],
      "source": [
        "from langchain_unstructured import UnstructuredLoader\n",
        "\n",
        "loader = UnstructuredLoader(web_url=\"https://www.example.com\")\n",
        "docs = loader.load()\n",
        "\n",
        "for doc in docs:\n",
        "    print(f\"{doc}\\n\")"
      ]
    },
    {
      "cell_type": "markdown",
      "id": "ce01aa40",
      "metadata": {},
      "source": [
        "## API 参考\n\n有关 `UnstructuredLoader` 的所有功能和配置的详细文档，请访问 API 参考：https://python.langchain.com/api_reference/unstructured/document_loaders/langchain_unstructured.document_loaders.UnstructuredLoader.html"
      ]
    }
  ],
  "metadata": {
    "kernelspec": {
      "display_name": "Python 3 (ipykernel)",
      "language": "python",
      "name": "python3"
    },
    "language_info": {
      "codemirror_mode": {
        "name": "ipython",
        "version": 3
      },
      "file_extension": ".py",
      "mimetype": "text/x-python",
      "name": "python",
      "nbconvert_exporter": "python",
      "pygments_lexer": "ipython3",
      "version": "3.10.4"
    }
  },
  "nbformat": 4,
  "nbformat_minor": 5
}