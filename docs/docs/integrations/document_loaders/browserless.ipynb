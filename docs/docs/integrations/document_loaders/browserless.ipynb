{
  "cells": [
    {
      "attachments": {},
      "cell_type": "markdown",
      "metadata": {},
      "source": [
        "# Browserless\n\nBrowserless 是一项服务，允许您在云端运行无头 Chrome 实例。它是大规模运行基于浏览器的自动化的绝佳方式，无需担心管理自己的基础架构。\n\n要将 Browserless 用作文档加载器，请按照此 notebook 中的所示初始化一个 `BrowserlessLoader` 实例。请注意，默认情况下，`BrowserlessLoader` 返回页面 `body` 元素的 `innerText`。要禁用此功能并获取原始 HTML，请将 `text_content` 设置为 `False`。"
      ]
    },
    {
      "cell_type": "code",
      "execution_count": 11,
      "metadata": {},
      "outputs": [],
      "source": [
        "from langchain_community.document_loaders import BrowserlessLoader"
      ]
    },
    {
      "cell_type": "code",
      "execution_count": 12,
      "metadata": {},
      "outputs": [],
      "source": [
        "BROWSERLESS_API_TOKEN = \"YOUR_BROWSERLESS_API_TOKEN\""
      ]
    },
    {
      "cell_type": "code",
      "execution_count": 14,
      "metadata": {},
      "outputs": [
        {
          "name": "stdout",
          "output_type": "stream",
          "text": [
            "Jump to content\n",
            "Main menu\n",
            "Search\n",
            "Create account\n",
            "Log in\n",
            "Personal tools\n",
            "Toggle the table of contents\n",
            "Document classification\n",
            "17 languages\n",
            "Article\n",
            "Talk\n",
            "Read\n",
            "Edit\n",
            "View history\n",
            "Tools\n",
            "From Wikipedia, the free encyclopedia\n",
            "\n",
            "Document classification or document categorization is a problem in library science, information science and computer science. The task is to assign a document to one or more classes or categories. This may be done \"manually\" (or \"intellectually\") or algorithmically. The intellectual classification of documents has mostly been the province of library science, while the algorithmic classification of documents is mainly in information science and computer science. The problems are overlapping, however, and there is therefore interdisciplinary research on document classification.\n",
            "\n",
            "The documents to be classified may be texts, images, music, etc. Each kind of document possesses its special classification problems. When not otherwise specified, text classification is implied.\n",
            "\n",
            "Do\n"
          ]
        }
      ],
      "source": [
        "loader = BrowserlessLoader(\n",
        "    api_token=BROWSERLESS_API_TOKEN,\n",
        "    urls=[\n",
        "        \"https://en.wikipedia.org/wiki/Document_classification\",\n",
        "    ],\n",
        "    text_content=True,\n",
        ")\n",
        "\n",
        "documents = loader.load()\n",
        "\n",
        "print(documents[0].page_content[:1000])"
      ]
    }
  ],
  "metadata": {
    "kernelspec": {
      "display_name": "venv",
      "language": "python",
      "name": "python3"
    },
    "language_info": {
      "codemirror_mode": {
        "name": "ipython",
        "version": 3
      },
      "file_extension": ".py",
      "mimetype": "text/x-python",
      "name": "python",
      "nbconvert_exporter": "python",
      "pygments_lexer": "ipython3",
      "version": "3.10.9"
    }
  },
  "nbformat": 4,
  "nbformat_minor": 2
}