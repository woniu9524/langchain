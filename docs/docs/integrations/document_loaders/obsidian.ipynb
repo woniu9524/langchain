{
  "cells": [
    {
      "cell_type": "markdown",
      "id": "1dc7df1d",
      "metadata": {},
      "source": [
        "# Obsidian\n\n>[Obsidian](https://obsidian.md/) 是一个强大且可扩展的知识库，它可以在本地纯文本文件文件夹之上运行。\n\n本笔记介绍了如何从 `Obsidian` 数据库加载文档。\n\n由于 `Obsidian` 只是以 Markdown 文件文件夹的形式存储在磁盘上，因此加载器仅需要此目录的路径。\n\n`Obsidian` 文件有时还包含 [元数据](https://help.obsidian.md/Editing+and+formatting/Metadata)，这是文件顶部的 YAML 块。这些值将被添加到文档的元数据中。（`ObsidianLoader` 也可以传递 `collect_metadata=False` 参数来禁用此行为。）"
      ]
    },
    {
      "cell_type": "code",
      "execution_count": 1,
      "id": "007c5cbf",
      "metadata": {
        "tags": []
      },
      "outputs": [],
      "source": [
        "from langchain_community.document_loaders import ObsidianLoader"
      ]
    },
    {
      "cell_type": "code",
      "execution_count": null,
      "id": "a1caec59",
      "metadata": {},
      "outputs": [],
      "source": [
        "loader = ObsidianLoader(\"<path-to-obsidian>\")"
      ]
    },
    {
      "cell_type": "code",
      "execution_count": null,
      "id": "b1c30ff7",
      "metadata": {},
      "outputs": [],
      "source": [
        "docs = loader.load()"
      ]
    }
  ],
  "metadata": {
    "kernelspec": {
      "display_name": "Python 3 (ipykernel)",
      "language": "python",
      "name": "python3"
    },
    "language_info": {
      "codemirror_mode": {
        "name": "ipython",
        "version": 3
      },
      "file_extension": ".py",
      "mimetype": "text/x-python",
      "name": "python",
      "nbconvert_exporter": "python",
      "pygments_lexer": "ipython3",
      "version": "3.10.6"
    }
  },
  "nbformat": 4,
  "nbformat_minor": 5
}