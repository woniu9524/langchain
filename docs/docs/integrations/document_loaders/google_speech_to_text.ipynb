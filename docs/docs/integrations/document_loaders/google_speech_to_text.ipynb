{
  "cells": [
    {
      "cell_type": "markdown",
      "metadata": {},
      "source": [
        "# Google 语音转文本音频记录\n\n`SpeechToTextLoader` 允许使用 [Google Cloud 语音转文本 API](https://cloud.google.com/speech-to-text) 转录音频文件，并将转录的文本加载到文档中。\n\n要使用它，您应该已安装 `google-cloud-speech` Python 软件包，并拥有一个已启用 [语音转文本 API](https://cloud.google.com/speech-to-text/v2/docs/transcribe-client-libraries#before_you_begin) 的 Google Cloud 项目。\n\n- [将大型模型的强大功能引入 Google Cloud 语音 API](https://cloud.google.com/blog/products/ai-machine-learning/bringing-power-large-models-google-clouds-speech-api)"
      ]
    },
    {
      "cell_type": "markdown",
      "metadata": {},
      "source": [
        "## 安装和设置\n\n首先，你需要安装 `google-cloud-speech` Python 包。\n\n你可以在 [Speech-to-Text 客户端库](https://cloud.google.com/speech-to-text/v2/docs/libraries) 页面找到更多相关信息。\n\n请按照 Google Cloud 文档中的 [快速入门指南](https://cloud.google.com/speech-to-text/v2/docs/sync-recognize) 来创建项目并启用 API。"
      ]
    },
    {
      "cell_type": "code",
      "execution_count": null,
      "metadata": {},
      "outputs": [],
      "source": [
        "%pip install --upgrade --quiet langchain-google-community[speech]"
      ]
    },
    {
      "cell_type": "markdown",
      "metadata": {},
      "source": [
        "## 示例\n\n`SpeechToTextLoader` 必须包含 `project_id` 和 `file_path` 参数。音频文件可以指定为 Google Cloud Storage URI (`gs://...`) 或本地文件路径。\n\n该加载器仅支持同步请求，对于每个音频文件，其限制为 [60 秒或 10MB](https://cloud.google.com/speech-to-text/v2/docs/sync-recognize#:~:text=60%20seconds%20and/or%2010%20MB)。"
      ]
    },
    {
      "cell_type": "code",
      "execution_count": 2,
      "metadata": {},
      "outputs": [],
      "source": [
        "from langchain_google_community import SpeechToTextLoader\n",
        "\n",
        "project_id = \"<PROJECT_ID>\"\n",
        "file_path = \"gs://cloud-samples-data/speech/audio.flac\"\n",
        "# or a local file path: file_path = \"./audio.wav\"\n",
        "\n",
        "loader = SpeechToTextLoader(project_id=project_id, file_path=file_path)\n",
        "\n",
        "docs = loader.load()"
      ]
    },
    {
      "cell_type": "markdown",
      "metadata": {},
      "source": [
        "`注意：调用 loader.load() 会阻塞直到转录完成。`"
      ]
    },
    {
      "cell_type": "markdown",
      "metadata": {},
      "source": [
        "转录的文本在 `page_content` 中可用："
      ]
    },
    {
      "cell_type": "code",
      "execution_count": null,
      "metadata": {},
      "outputs": [],
      "source": [
        "docs[0].page_content"
      ]
    },
    {
      "cell_type": "markdown",
      "metadata": {},
      "source": [
        "```\n“布鲁克林大桥有多老？”\n```"
      ]
    },
    {
      "cell_type": "markdown",
      "metadata": {},
      "source": [
        "`metadata` 包含完整的 JSON 响应，其中包含更多元信息："
      ]
    },
    {
      "cell_type": "code",
      "execution_count": null,
      "metadata": {},
      "outputs": [],
      "source": [
        "docs[0].metadata"
      ]
    },
    {
      "cell_type": "markdown",
      "metadata": {},
      "source": [
        "```json\n{\n  'language_code': 'zh-CN',\n  'result_end_offset': datetime.timedelta(seconds=1)\n}\n```"
      ]
    },
    {
      "cell_type": "markdown",
      "metadata": {},
      "source": [
        "## 识别配置\n\n您可以指定 `config` 参数来使用不同的语音识别模型并启用特定功能。\n\n有关如何设置自定义配置的信息，请参阅 [Speech-to-Text recognizers 文档](https://cloud.google.com/speech-to-text/v2/docs/recognizers) 和 [`RecognizeRequest`](https://cloud.google.com/python/docs/reference/speech/latest/google.cloud.speech_v2.types.RecognizeRequest) API 参考。\n\n如果未指定 `config`，将自动选择以下选项：\n\n- Model: [Chirp Universal Speech Model](https://cloud.google.com/speech-to-text/v2/docs/chirp-model)\n- Language: `en-US`\n- Audio Encoding: 自动检测\n- Automatic Punctuation: 启用"
      ]
    },
    {
      "cell_type": "code",
      "execution_count": 6,
      "metadata": {},
      "outputs": [],
      "source": [
        "from google.cloud.speech_v2 import (\n",
        "    AutoDetectDecodingConfig,\n",
        "    RecognitionConfig,\n",
        "    RecognitionFeatures,\n",
        ")\n",
        "from langchain_google_community import SpeechToTextLoader\n",
        "\n",
        "project_id = \"<PROJECT_ID>\"\n",
        "location = \"global\"\n",
        "recognizer_id = \"<RECOGNIZER_ID>\"\n",
        "file_path = \"./audio.wav\"\n",
        "\n",
        "config = RecognitionConfig(\n",
        "    auto_decoding_config=AutoDetectDecodingConfig(),\n",
        "    language_codes=[\"en-US\"],\n",
        "    model=\"long\",\n",
        "    features=RecognitionFeatures(\n",
        "        enable_automatic_punctuation=False,\n",
        "        profanity_filter=True,\n",
        "        enable_spoken_punctuation=True,\n",
        "        enable_spoken_emojis=True,\n",
        "    ),\n",
        ")\n",
        "\n",
        "loader = SpeechToTextLoader(\n",
        "    project_id=project_id,\n",
        "    location=location,\n",
        "    recognizer_id=recognizer_id,\n",
        "    file_path=file_path,\n",
        "    config=config,\n",
        ")"
      ]
    }
  ],
  "metadata": {
    "kernelspec": {
      "display_name": ".venv",
      "language": "python",
      "name": "python3"
    },
    "language_info": {
      "codemirror_mode": {
        "name": "ipython",
        "version": 3
      },
      "file_extension": ".py",
      "mimetype": "text/x-python",
      "name": "python",
      "nbconvert_exporter": "python",
      "pygments_lexer": "ipython3",
      "version": "3.11.0"
    }
  },
  "nbformat": 4,
  "nbformat_minor": 2
}