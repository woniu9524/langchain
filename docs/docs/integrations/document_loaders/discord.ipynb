{
  "cells": [
    {
      "cell_type": "markdown",
      "metadata": {},
      "source": [
        "# Discord\n\n>[Discord](https://discord.com/) 是一个语音通话（VoIP）和即时消息社交平台。用户可以通过私聊或称为“服务器”的社区进行语音通话、视频通话、文本消息、媒体和文件交流。服务器是由一系列持久的聊天室和语音频道组成的，可以通过邀请链接访问。\n\n请按照以下步骤下载你的 `Discord` 数据：\n\n1. 前往你的 **用户设置 (User Settings)**\n2. 然后前往 **隐私与安全 (Privacy and Safety)**\n3. 找到 **请求我的所有数据 (Request all of my Data)** 并点击 **请求数据 (Request Data)** 按钮\n\n你的数据可能需要 30 天才能收到。你将收到一封邮件，发送至你在 Discord 注册的邮箱地址。该邮件将包含一个下载按钮，通过该按钮你可以下载你的个人 Discord 数据。"
      ]
    },
    {
      "cell_type": "code",
      "execution_count": null,
      "metadata": {},
      "outputs": [],
      "source": [
        "import os\n",
        "\n",
        "import pandas as pd"
      ]
    },
    {
      "cell_type": "code",
      "execution_count": null,
      "metadata": {},
      "outputs": [],
      "source": [
        "path = input('Please enter the path to the contents of the Discord \"messages\" folder: ')\n",
        "li = []\n",
        "for f in os.listdir(path):\n",
        "    expected_csv_path = os.path.join(path, f, \"messages.csv\")\n",
        "    csv_exists = os.path.isfile(expected_csv_path)\n",
        "    if csv_exists:\n",
        "        df = pd.read_csv(expected_csv_path, index_col=None, header=0)\n",
        "        li.append(df)\n",
        "\n",
        "df = pd.concat(li, axis=0, ignore_index=True, sort=False)"
      ]
    },
    {
      "cell_type": "code",
      "execution_count": null,
      "metadata": {},
      "outputs": [],
      "source": [
        "from langchain_community.document_loaders.discord import DiscordChatLoader"
      ]
    },
    {
      "cell_type": "code",
      "execution_count": null,
      "metadata": {},
      "outputs": [],
      "source": [
        "loader = DiscordChatLoader(df, user_id_col=\"ID\")\n",
        "print(loader.load())"
      ]
    }
  ],
  "metadata": {
    "kernelspec": {
      "display_name": "Python 3 (ipykernel)",
      "language": "python",
      "name": "python3"
    },
    "language_info": {
      "codemirror_mode": {
        "name": "ipython",
        "version": 3
      },
      "file_extension": ".py",
      "mimetype": "text/x-python",
      "name": "python",
      "nbconvert_exporter": "python",
      "pygments_lexer": "ipython3",
      "version": "3.10.6"
    }
  },
  "nbformat": 4,
  "nbformat_minor": 4
}