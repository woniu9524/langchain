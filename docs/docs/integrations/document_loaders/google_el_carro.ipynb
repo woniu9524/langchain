{
  "cells": [
    {
      "cell_type": "markdown",
      "metadata": {
        "id": "NKbPFu-GWFDV"
      },
      "source": [
        "# Google El Carro for Oracle Workloads\n\n> Google [El Carro Oracle Operator](https://github.com/GoogleCloudPlatform/elcarro-oracle-operator)\n提供了一种在 Kubernetes 中运行 Oracle 数据库的方式。它是一个可移植、开源、社区驱动且无供应商锁定锁定的容器编排系统。El Carro 提供了一个强大的声明式 API，用于全面的配置和一致的部署，以及实时操作和监控。\n利用 El Carro Langchain 集成，扩展您的 Oracle 数据库功能，构建由 AI 驱动的体验。\n\n本指南将介绍如何使用 El Carro Langchain 集成通过 `ElCarroLoader` 和 `ElCarroDocumentSaver`\n[保存、加载和删除 langchain 文档](/docs/how_to#document-loaders)。此集成适用于任何 Oracle 数据库，无论其运行位置如何。\n\n在此处了解有关该软件包的更多信息：[GitHub](https://github.com/googleapis/langchain-google-el-carro-python/)。\n\n[![Open In Colab](https://colab.research.google.com/assets/colab-badge.svg)](https://colab.research.google.com/github/googleapis/langchain-google-el-carro-python/blob/main/docs/document_loader.ipynb)"
      ]
    },
    {
      "cell_type": "markdown",
      "metadata": {
        "id": "ZqONzXRcWMJg"
      },
      "source": [
        "## 开始之前\n\n请完成 README 中的 [入门](https://github.com/googleapis/langchain-google-el-carro-python/tree/main/README.md#getting-started) 部分，以设置您的 El Carro Oracle 数据库。"
      ]
    },
    {
      "cell_type": "markdown",
      "metadata": {
        "id": "imbbHxKfWPso"
      },
      "source": [
        "### 🦜🔗 库安装\n\n集成位于我们自己的 `langchain-google-el-carro` 包中，因此我们需要安装它。"
      ]
    },
    {
      "cell_type": "code",
      "execution_count": null,
      "metadata": {
        "id": "Su5BMP2zWRwM"
      },
      "outputs": [],
      "source": [
        "%pip install --upgrade --quiet langchain-google-el-carro"
      ]
    },
    {
      "cell_type": "markdown",
      "metadata": {
        "id": "azV0k45WWSVI"
      },
      "source": [
        "## 基本用法\n\n### 设置 Oracle 数据库连接\n填写以下变量以提供您的 Oracle 数据库连接详细信息。"
      ]
    },
    {
      "cell_type": "code",
      "execution_count": null,
      "metadata": {
        "collapsed": false
      },
      "outputs": [],
      "source": [
        "# @title Set Your Values Here { display-mode: \"form\" }\n",
        "HOST = \"127.0.0.1\"  # @param {type: \"string\"}\n",
        "PORT = 3307  # @param {type: \"integer\"}\n",
        "DATABASE = \"my-database\"  # @param {type: \"string\"}\n",
        "TABLE_NAME = \"message_store\"  # @param {type: \"string\"}\n",
        "USER = \"my-user\"  # @param {type: \"string\"}\n",
        "PASSWORD = input(\"Please provide a password to be used for the database user: \")"
      ]
    },
    {
      "cell_type": "markdown",
      "metadata": {
        "collapsed": false
      },
      "source": [
        "如果你正在使用 El Carro，可以在 El Carro Kubernetes 实例的状态中找到主机名（hostname）和端口（port）值。\n请使用你为 PDB 创建的用户密码。\n\n示例输出："
      ]
    },
    {
      "cell_type": "markdown",
      "metadata": {
        "collapsed": false
      },
      "source": [
        "```\nkubectl get -w instances.oracle.db.anthosapis.com -n db\nNAME   DB ENGINE   VERSION   EDITION      ENDPOINT      URL                DB NAMES   BACKUP ID   READYSTATUS   READYREASON        DBREADYSTATUS   DBREADYREASON\n\nmydb   Oracle      18c       Express      mydb-svc.db   34.71.69.25:6021   ['pdbname']            TRUE          CreateComplete     True            CreateComplete\n```"
      ]
    },
    {
      "cell_type": "markdown",
      "metadata": {
        "collapsed": false
      },
      "source": [
        "### ElCarroEngine 连接池\n\n`ElCarroEngine` 配置您到 Oracle 数据库的连接池，使您的应用程序能够成功连接，并遵循行业最佳实践。"
      ]
    },
    {
      "cell_type": "code",
      "execution_count": null,
      "metadata": {
        "id": "xG1mYFkEWbkp"
      },
      "outputs": [],
      "source": [
        "from langchain_google_el_carro import ElCarroEngine\n",
        "\n",
        "elcarro_engine = ElCarroEngine.from_instance(\n",
        "    db_host=HOST,\n",
        "    db_port=PORT,\n",
        "    db_name=DATABASE,\n",
        "    db_user=USER,\n",
        "    db_password=PASSWORD,\n",
        ")"
      ]
    },
    {
      "cell_type": "markdown",
      "metadata": {
        "id": "ICW3k_qUWgyv"
      },
      "source": [
        "### 初始化表\n\n通过 `elcarro_engine.init_document_table(<table_name>)` 初始化一个默认 schema 的表。表字段：\n\n- page_content (类型: text)\n- langchain_metadata (类型: JSON)"
      ]
    },
    {
      "cell_type": "code",
      "execution_count": null,
      "metadata": {
        "id": "JmlGLukoWdfS"
      },
      "outputs": [],
      "source": [
        "elcarro_engine.drop_document_table(TABLE_NAME)\n",
        "elcarro_engine.init_document_table(\n",
        "    table_name=TABLE_NAME,\n",
        ")"
      ]
    },
    {
      "cell_type": "markdown",
      "metadata": {
        "id": "kaI3avj5Wn5O"
      },
      "source": [
        "### 保存文档\n\n使用 `ElCarroDocumentSaver.add_documents(<documents>)` 保存 langchain 文档。\n要初始化 `ElCarroDocumentSaver` 类，需要提供两样东西：\n\n1. `elcarro_engine` - `ElCarroEngine` 引擎的实例。\n2. `table_name` - 用于在 Oracle 数据库中存储 langchain 文档的表名。"
      ]
    },
    {
      "cell_type": "code",
      "execution_count": null,
      "metadata": {
        "id": "skaXpthSWpeg"
      },
      "outputs": [],
      "source": [
        "from langchain_core.documents import Document\n",
        "from langchain_google_el_carro import ElCarroDocumentSaver\n",
        "\n",
        "doc = Document(\n",
        "    page_content=\"Banana\",\n",
        "    metadata={\"type\": \"fruit\", \"weight\": 100, \"organic\": 1},\n",
        ")\n",
        "\n",
        "saver = ElCarroDocumentSaver(\n",
        "    elcarro_engine=elcarro_engine,\n",
        "    table_name=TABLE_NAME,\n",
        ")\n",
        "saver.add_documents([doc])"
      ]
    },
    {
      "cell_type": "markdown",
      "metadata": {
        "id": "owTYQdNyWs9s"
      },
      "source": [
        "### 加载文档\n\n使用 `ElCarroLoader.load()` 或 `ElCarroLoader.lazy_load()` 加载 Langchain 文档。\n`lazy_load` 返回一个生成器，该生成器仅在迭代期间查询数据库。\n要初始化 `ElCarroLoader` 类，您需要提供：\n\n1. `elcarro_engine` - `ElCarroEngine` 引擎的实例。\n2. `table_name` - Oracle 数据库中用于存储 Langchain 文档的表名。"
      ]
    },
    {
      "cell_type": "code",
      "execution_count": null,
      "metadata": {
        "id": "CM6p11amWvYp"
      },
      "outputs": [],
      "source": [
        "from langchain_google_el_carro import ElCarroLoader\n",
        "\n",
        "loader = ElCarroLoader(elcarro_engine=elcarro_engine, table_name=TABLE_NAME)\n",
        "docs = loader.lazy_load()\n",
        "for doc in docs:\n",
        "    print(\"Loaded documents:\", doc)"
      ]
    },
    {
      "cell_type": "markdown",
      "metadata": {
        "id": "OTIDGiZ8WyS3"
      },
      "source": [
        "### 通过查询加载文档\n\n除了从表中加载文档外，我们还可以选择从由 SQL 查询生成的视图加载文档。例如："
      ]
    },
    {
      "cell_type": "code",
      "execution_count": null,
      "metadata": {
        "id": "p3OB9AwgWzrq"
      },
      "outputs": [],
      "source": [
        "from langchain_google_el_carro import ElCarroLoader\n",
        "\n",
        "loader = ElCarroLoader(\n",
        "    elcarro_engine=elcarro_engine,\n",
        "    query=f\"SELECT * FROM {TABLE_NAME} WHERE json_value(langchain_metadata, '$.organic') = '1'\",\n",
        ")\n",
        "onedoc = loader.load()\n",
        "print(onedoc)"
      ]
    },
    {
      "cell_type": "markdown",
      "metadata": {
        "id": "E6Fl7YNvW3Ep"
      },
      "source": [
        "从 SQL 查询生成的视图可能具有与默认表不同的 schema。\n在这种情况下，ElCarroLoader 的行为与从具有非默认 schema 的表加载相同。请参阅\n[加载具有自定义文档页面内容和元数据的文档](#load-documents-with-customized-document-page-content--metadata) 部分。"
      ]
    },
    {
      "cell_type": "markdown",
      "metadata": {
        "id": "QgsP78MhW4wc"
      },
      "source": [
        "### 删除文档\n\n使用 `ElCarroDocumentSaver.delete(<documents>)` 从 Oracle 表中删除一组 Langchain 文档。\n\n对于具有默认架构（page_content, langchain_metadata）的表，删除标准是：\n\n如果列表中存在一个 `document`，则应删除该 `row`，条件如下：\n\n- `document.page_content` 等于 `row[page_content]`\n- `document.metadata` 等于 `row[langchain_metadata]`"
      ]
    },
    {
      "cell_type": "code",
      "execution_count": null,
      "metadata": {
        "id": "QSYRHGHXW6IN"
      },
      "outputs": [],
      "source": [
        "docs = loader.load()\n",
        "print(\"Documents before delete:\", docs)\n",
        "saver.delete(onedoc)\n",
        "print(\"Documents after delete:\", loader.load())"
      ]
    },
    {
      "cell_type": "markdown",
      "metadata": {
        "id": "RerPkBRAW8yR"
      },
      "source": [
        "## 高级用法\n\n### 使用自定义文档页面内容和元数据加载文档\n\n首先，我们准备一个具有非默认架构的示例表，并用一些任意数据填充它。"
      ]
    },
    {
      "cell_type": "code",
      "execution_count": null,
      "metadata": {
        "id": "u0Fd46aqW-8k"
      },
      "outputs": [],
      "source": [
        "import sqlalchemy\n",
        "\n",
        "create_table_query = f\"\"\"CREATE TABLE {TABLE_NAME} (\n",
        "    fruit_id NUMBER GENERATED BY DEFAULT AS IDENTITY (START WITH 1),\n",
        "    fruit_name VARCHAR2(100) NOT NULL,\n",
        "    variety VARCHAR2(50),\n",
        "    quantity_in_stock NUMBER(10) NOT NULL,\n",
        "    price_per_unit NUMBER(6,2) NOT NULL,\n",
        "    organic NUMBER(3) NOT NULL\n",
        ")\"\"\"\n",
        "elcarro_engine.drop_document_table(TABLE_NAME)\n",
        "\n",
        "with elcarro_engine.connect() as conn:\n",
        "    conn.execute(sqlalchemy.text(create_table_query))\n",
        "    conn.commit()\n",
        "    conn.execute(\n",
        "        sqlalchemy.text(\n",
        "            f\"\"\"\n",
        "            INSERT INTO {TABLE_NAME} (fruit_name, variety, quantity_in_stock, price_per_unit, organic)\n",
        "            VALUES ('Apple', 'Granny Smith', 150, 0.99, 1)\n",
        "            \"\"\"\n",
        "        )\n",
        "    )\n",
        "    conn.execute(\n",
        "        sqlalchemy.text(\n",
        "            f\"\"\"\n",
        "            INSERT INTO {TABLE_NAME} (fruit_name, variety, quantity_in_stock, price_per_unit, organic)\n",
        "            VALUES ('Banana', 'Cavendish', 200, 0.59, 0)\n",
        "            \"\"\"\n",
        "        )\n",
        "    )\n",
        "    conn.execute(\n",
        "        sqlalchemy.text(\n",
        "            f\"\"\"\n",
        "            INSERT INTO {TABLE_NAME} (fruit_name, variety, quantity_in_stock, price_per_unit, organic)\n",
        "            VALUES ('Orange', 'Navel', 80, 1.29, 1)\n",
        "            \"\"\"\n",
        "        )\n",
        "    )\n",
        "    conn.commit()"
      ]
    },
    {
      "cell_type": "markdown",
      "metadata": {
        "id": "hGPYiTu7XBh3"
      },
      "source": [
        "如果我们仍使用下面示例表中 `ElCarroLoader` 的默认参数加载 LangChain 文档，那么加载文档的 `page_content` 将是表格的第一列，而 `metadata` 将由所有其他列的键值对组成。"
      ]
    },
    {
      "cell_type": "code",
      "execution_count": null,
      "metadata": {
        "id": "eQbRapM_XC1S"
      },
      "outputs": [],
      "source": [
        "loader = ElCarroLoader(\n",
        "    elcarro_engine=elcarro_engine,\n",
        "    table_name=TABLE_NAME,\n",
        ")\n",
        "loaded_docs = loader.load()\n",
        "print(f\"Loaded Documents: [{loaded_docs}]\")"
      ]
    },
    {
      "cell_type": "markdown",
      "metadata": {
        "id": "tOH6i2jWXFqz"
      },
      "source": [
        "我们可以通过在初始化 `ElCarroLoader` 时设置 `content_columns` 和 `metadata_columns` 来指定我们想要加载的内容和元数据。\n\n1. `content_columns`：要写入文档 `page_content` 的列。\n2. `metadata_columns`：要写入文档 `metadata` 的列。\n\n例如，在这里，`content_columns` 中列的值将连接成一个以空格分隔的字符串，作为加载文档的 `page_content`，而加载文档的 `metadata` 将只包含在 `metadata_columns` 中指定的列的键值对。"
      ]
    },
    {
      "cell_type": "code",
      "execution_count": null,
      "metadata": {
        "id": "9gCFWqgGXHD3"
      },
      "outputs": [],
      "source": [
        "loader = ElCarroLoader(\n",
        "    elcarro_engine=elcarro_engine,\n",
        "    table_name=TABLE_NAME,\n",
        "    content_columns=[\n",
        "        \"variety\",\n",
        "        \"quantity_in_stock\",\n",
        "        \"price_per_unit\",\n",
        "        \"organic\",\n",
        "    ],\n",
        "    metadata_columns=[\"fruit_id\", \"fruit_name\"],\n",
        ")\n",
        "loaded_docs = loader.load()\n",
        "print(f\"Loaded Documents: [{loaded_docs}]\")"
      ]
    },
    {
      "cell_type": "markdown",
      "metadata": {
        "id": "4KlSfvPJXKgM"
      },
      "source": [
        "### 保存带有自定义页面内容和元数据的文档\n\n为了将 langchain 文档保存到具有自定义元数据字段的表中，我们首先需要通过 `ElCarroEngine.init_document_table()` 创建这样一个表，并指定我们想要的 `metadata_columns` 列表。在此示例中，创建的表将包含以下表列：\n\n- content (类型：text)：用于存储水果描述。\n- type (类型 VARCHAR2(200))：用于存储水果类型。\n- weight (类型 INT)：用于存储水果重量。\n- extra_json_metadata (类型：JSON)：用于存储水果的其他元数据信息。\n\n我们可以使用以下参数与 `elcarro_engine.init_document_table()` 一起创建表：\n\n1. `table_name`：存储 langchain 文档的 Oracle 数据库中的表名。\n2. `metadata_columns`：一个 `sqlalchemy.Column` 列表，指示所需的元数据列列表。\n3. `content_column`：用于存储 langchain 文档 `page_content` 的列名。默认为 `\"page_content\", \"VARCHAR2(4000)\"`\n4. `metadata_json_column`：用于存储 langchain 文档额外 JSON `metadata` 的列名。\n   默认为 `\"langchain_metadata\", \"VARCHAR2(4000)\"`。"
      ]
    },
    {
      "cell_type": "code",
      "execution_count": null,
      "metadata": {
        "id": "1Wqs05gpXMW9"
      },
      "outputs": [],
      "source": [
        "elcarro_engine.drop_document_table(TABLE_NAME)\n",
        "elcarro_engine.init_document_table(\n",
        "    table_name=TABLE_NAME,\n",
        "    metadata_columns=[\n",
        "        sqlalchemy.Column(\"type\", sqlalchemy.dialects.oracle.VARCHAR2(200)),\n",
        "        sqlalchemy.Column(\"weight\", sqlalchemy.INT),\n",
        "    ],\n",
        "    content_column=\"content\",\n",
        "    metadata_json_column=\"extra_json_metadata\",\n",
        ")"
      ]
    },
    {
      "cell_type": "markdown",
      "metadata": {
        "id": "bVEWHYU-XPFt"
      },
      "source": [
        "使用 `ElCarroDocumentSaver.add_documents(<documents>)` 保存文档。正如您在此示例中看到的：\n\n- `document.page_content` 将被保存在 `content` 列中。\n- `document.metadata.type` 将被保存在 `type` 列中。\n- `document.metadata.weight` 将被保存在 `weight` 列中。\n- `document.metadata.organic` 将以 JSON 格式保存在 `extra_json_metadata` 列中。"
      ]
    },
    {
      "cell_type": "code",
      "execution_count": null,
      "metadata": {
        "id": "Iy4wRZLPXQn5"
      },
      "outputs": [],
      "source": [
        "doc = Document(\n",
        "    page_content=\"Banana\",\n",
        "    metadata={\"type\": \"fruit\", \"weight\": 100, \"organic\": 1},\n",
        ")\n",
        "\n",
        "print(f\"Original Document: [{doc}]\")\n",
        "\n",
        "saver = ElCarroDocumentSaver(\n",
        "    elcarro_engine=elcarro_engine,\n",
        "    table_name=TABLE_NAME,\n",
        "    content_column=\"content\",\n",
        "    metadata_json_column=\"extra_json_metadata\",\n",
        ")\n",
        "saver.add_documents([doc])\n",
        "\n",
        "loader = ElCarroLoader(\n",
        "    elcarro_engine=elcarro_engine,\n",
        "    table_name=TABLE_NAME,\n",
        "    content_columns=[\"content\"],\n",
        "    metadata_columns=[\n",
        "        \"type\",\n",
        "        \"weight\",\n",
        "    ],\n",
        "    metadata_json_column=\"extra_json_metadata\",\n",
        ")\n",
        "\n",
        "loaded_docs = loader.load()\n",
        "print(f\"Loaded Document: [{loaded_docs[0]}]\")"
      ]
    },
    {
      "cell_type": "markdown",
      "metadata": {
        "id": "x0vkL7PKXUmU"
      },
      "source": [
        "### 删除具有自定义页面内容和元数据的文档\n\n我们还可以通过 `ElCarroDocumentSaver.delete(<documents>)` 从表中删除具有自定义元数据列的文档。删除标准是：\n\n如果列表中存在一个 `document`，使得\n\n- `document.page_content` 等于 `row[page_content]`\n- 对于 `document.metadata` 中的每个元数据字段 `k`\n    - `document.metadata[k]` 等于 `row[k]` 或 `document.metadata[k]`\n      等于 `row[langchain_metadata][k]`\n- `row` 中不存在 `document.metadata` 中没有的额外元数据字段。\n\n则应删除该 `row`。"
      ]
    },
    {
      "cell_type": "code",
      "execution_count": null,
      "metadata": {
        "id": "OcJPeCuKXWSa"
      },
      "outputs": [],
      "source": [
        "loader = ElCarroLoader(elcarro_engine=elcarro_engine, table_name=TABLE_NAME)\n",
        "saver.delete(loader.load())\n",
        "print(f\"Documents left: {len(loader.load())}\")"
      ]
    },
    {
      "cell_type": "markdown",
      "metadata": {
        "id": "S4SxUoY-XsPN"
      },
      "source": [
        "## 更多示例\n\n请参阅\n[demo_doc_loader_basic.py](https://github.com/googleapis/langchain-google-el-carro-python/tree/main/samples/demo_doc_loader_basic.py)\n和 [demo_doc_loader_advanced.py](https://github.com/googleapis/langchain-google-el-carro-python/tree/main/samples/demo_doc_loader_advanced.py)\n了解完整的代码示例。"
      ]
    }
  ],
  "metadata": {
    "colab": {
      "provenance": []
    },
    "kernelspec": {
      "display_name": "Python 3",
      "name": "python3"
    },
    "language_info": {
      "name": "python"
    }
  },
  "nbformat": 4,
  "nbformat_minor": 0
}