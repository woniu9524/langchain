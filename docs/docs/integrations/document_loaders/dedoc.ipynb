{
  "cells": [
    {
      "cell_type": "markdown",
      "id": "6b74f73d-1763-42d0-9c24-8f65f445bb72",
      "metadata": {},
      "source": [
        "# Dedoc\n\n本示例演示了如何将 `Dedoc` 与 `LangChain` 结合作为 `DocumentLoader` 使用。\n\n## 概述\n\n[Dedoc](https://dedoc.readthedocs.io) 是一个[开源](https://github.com/ispras/dedoc)\n库/服务，可从各种格式的文件中提取文本、表格、附件和文档结构（例如，标题、列表项等）。\n\n`Dedoc` 支持 `DOCX`、`XLSX`、`PPTX`、`EML`、`HTML`、`PDF`、图片等。\n支持的文件格式的完整列表可以在[此处](https://dedoc.readthedocs.io/en/latest/#id1)找到。\n\n\n### 集成详情\n\n| 类                                                                                                                                                   | 包                                                                                           | 本地 | 可序列化 | JS 支持 |\n|:-----------------------------------------------------------------------------------------------------------------------------------------------------|:-----------------------------------------------------------------------------------------------|:-----:|:------------:|:----------:|\n| [DedocFileLoader](https://python.langchain.com/api_reference/community/document_loaders/langchain_community.document_loaders.dedoc.DedocFileLoader.html)       | [langchain_community](https://python.langchain.com/api_reference/community/index.html) |   ❌   |     beta     |     ❌      |\n| [DedocPDFLoader](https://python.langchain.com/api_reference/community/document_loaders/langchain_community.document_loaders.pdf.DedocPDFLoader.html)           | [langchain_community](https://python.langchain.com/api_reference/community/index.html) |   ❌   |     beta     |     ❌      |\n| [DedocAPIFileLoader](https://python.langchain.com/api_reference/community/document_loaders/langchain_community.document_loaders.dedoc.DedocAPIFileLoader.html) | [langchain_community](https://python.langchain.com/api_reference/community/index.html) |   ❌   |     beta     |     ❌      |\n\n\n### 加载器功能\n\n提供了延迟加载和异步加载的方法，但实际上，文档加载是同步执行的。\n\n|       来源       | 文档延迟加载 | 异步支持 |\n|:------------------:|:---------------------:|:-------------:|\n|  DedocFileLoader   |           ❌           |       ❌       |\n|   DedocPDFLoader   |           ❌           |       ❌       |\n| DedocAPIFileLoader |           ❌           |       ❌       |\n\n## 设置\n\n* 要访问 `DedocFileLoader` 和 `DedocPDFLoader` 文档加载器，您需要安装 `dedoc` 集成包。\n* 要访问 `DedocAPIFileLoader`，您需要运行 `Dedoc` 服务，例如 `Docker` 容器（更多详情请参阅[文档](https://dedoc.readthedocs.io/en/latest/getting_started/installation.html#install-and-run-dedoc-using-docker)）。\n\n```bash\ndocker pull dedocproject/dedoc\ndocker run -p 1231:1231\n```\n\n`Dedoc` 的安装说明请参见[此处](https://dedoc.readthedocs.io/en/latest/getting_started/installation.html)。"
      ]
    },
    {
      "cell_type": "code",
      "execution_count": 1,
      "id": "511c109d-a5c3-42ba-914e-5d1b385bc40f",
      "metadata": {},
      "outputs": [
        {
          "name": "stdout",
          "output_type": "stream",
          "text": [
            "Note: you may need to restart the kernel to use updated packages.\n"
          ]
        }
      ],
      "source": [
        "# Install package\n",
        "%pip install --quiet \"dedoc[torch]\""
      ]
    },
    {
      "cell_type": "markdown",
      "id": "6820c0e9-d56d-4899-b8c8-374760360e2b",
      "metadata": {},
      "source": [
        "## 实例化"
      ]
    },
    {
      "cell_type": "code",
      "execution_count": 2,
      "id": "c1f98cae-71ec-4d60-87fb-96c1a76851d8",
      "metadata": {},
      "outputs": [],
      "source": [
        "from langchain_community.document_loaders import DedocFileLoader\n",
        "\n",
        "loader = DedocFileLoader(\"./example_data/state_of_the_union.txt\")"
      ]
    },
    {
      "cell_type": "markdown",
      "id": "5d7bc2b3-73a0-4cd6-8014-cc7184aa9d4a",
      "metadata": {},
      "source": [
        "## Load"
      ]
    },
    {
      "cell_type": "code",
      "execution_count": 3,
      "id": "b9097c14-6168-4726-819e-24abb9a63b13",
      "metadata": {},
      "outputs": [
        {
          "data": {
            "text/plain": [
              "'\\nMadam Speaker, Madam Vice President, our First Lady and Second Gentleman. Members of Congress and t'"
            ]
          },
          "execution_count": 3,
          "metadata": {},
          "output_type": "execute_result"
        }
      ],
      "source": [
        "docs = loader.load()\n",
        "docs[0].page_content[:100]"
      ]
    },
    {
      "cell_type": "markdown",
      "id": "9ed8bd46-0047-4ccc-b2d6-beb7761f7312",
      "metadata": {},
      "source": [
        "## 惰性加载"
      ]
    },
    {
      "cell_type": "code",
      "execution_count": 4,
      "id": "6ae12d7e-8105-4bbe-9031-0e968475f6bf",
      "metadata": {},
      "outputs": [
        {
          "name": "stdout",
          "output_type": "stream",
          "text": [
            "\n",
            "Madam Speaker, Madam Vice President, our First Lady and Second Gentleman. Members of Congress and t\n"
          ]
        }
      ],
      "source": [
        "docs = loader.lazy_load()\n",
        "\n",
        "for doc in docs:\n",
        "    print(doc.page_content[:100])\n",
        "    break"
      ]
    },
    {
      "cell_type": "markdown",
      "id": "8772ae40-6239-4751-bb2d-b4a9415c1ad1",
      "metadata": {},
      "source": [
        "## API 参考\n\n关于配置和调用 `Dedoc` 加载器的详细信息，请参阅 API 参考：\n\n* https://python.langchain.com/api_reference/community/document_loaders/langchain_community.document_loaders.dedoc.DedocFileLoader.html\n* https://python.langchain.com/api_reference/community/document_loaders/langchain_community.document_loaders.pdf.DedocPDFLoader.html\n* https://python.langchain.com/api_reference/community/document_loaders/langchain_community.document_loaders.dedoc.DedocAPIFileLoader.html"
      ]
    },
    {
      "cell_type": "markdown",
      "id": "c4d5e702-0e21-4cad-a4c3-b9b3bff77203",
      "metadata": {},
      "source": [
        "## 加载任意文件\n\n对于 [支持格式](https://dedoc.readthedocs.io/en/latest/#id1) 中任意文件的自动处理，\n`DedocFileLoader` 会很有用。\n文件加载器会自动检测具有正确扩展名的文件类型。\n\n文件解析过程可以通过在 `DedocFileLoader` 类初始化期间设置的 `dedoc_kwargs` 进行配置。\n这里给出了一些选项用法的基本示例，\n请参阅 `DedocFileLoader` 文档和\n[dedoc 文档](https://dedoc.readthedocs.io/en/latest/parameters/parameters.html)\n以获取有关配置参数的更多详细信息。"
      ]
    },
    {
      "cell_type": "markdown",
      "id": "de97d0ed-d6b1-44e0-b392-1f3d89c762f9",
      "metadata": {},
      "source": [
        "### 基本示例"
      ]
    },
    {
      "cell_type": "code",
      "execution_count": 5,
      "id": "50ffeeee-db12-4801-b208-7e32ea3d72ad",
      "metadata": {},
      "outputs": [
        {
          "data": {
            "text/plain": [
              "'\\nMadam Speaker, Madam Vice President, our First Lady and Second Gentleman. Members of Congress and the Cabinet. Justices of the Supreme Court. My fellow Americans.  \\n\\n\\n\\nLast year COVID-19 kept us apart. This year we are finally together again. \\n\\n\\n\\nTonight, we meet as Democrats Republicans and Independents. But most importantly as Americans. \\n\\n\\n\\nWith a duty to one another to the American people to '"
            ]
          },
          "execution_count": 5,
          "metadata": {},
          "output_type": "execute_result"
        }
      ],
      "source": [
        "from langchain_community.document_loaders import DedocFileLoader\n",
        "\n",
        "loader = DedocFileLoader(\"./example_data/state_of_the_union.txt\")\n",
        "\n",
        "docs = loader.load()\n",
        "\n",
        "docs[0].page_content[:400]"
      ]
    },
    {
      "cell_type": "markdown",
      "id": "457e5d4c-a4ee-4f31-ae74-3f75a1bbd0af",
      "metadata": {},
      "source": [
        "### 分割模式\n\n`DedocFileLoader` 支持将文档分割成不同类型 part（每个 part 单独返回）的功能。\n为此，可以使用 `split` 参数，其选项如下：\n* `document`（默认值）：文档文本将作为单个 langchain `Document` 对象返回（不分割）；\n* `page`：将文档文本分割成页面（适用于 `PDF`、`DJVU`、`PPTX`、`PPT`、`ODP`）；\n* `node`：将文档文本分割成 `Dedoc` 树节点（标题节点、列表项节点、纯文本节点）；\n* `line`：将文档文本分割成文本行。"
      ]
    },
    {
      "cell_type": "code",
      "execution_count": 6,
      "id": "eec54d31-ae7a-4a3c-aa10-4ae276b1e4c4",
      "metadata": {},
      "outputs": [
        {
          "data": {
            "text/plain": [
              "2"
            ]
          },
          "execution_count": 6,
          "metadata": {},
          "output_type": "execute_result"
        }
      ],
      "source": [
        "loader = DedocFileLoader(\n",
        "    \"./example_data/layout-parser-paper.pdf\",\n",
        "    split=\"page\",\n",
        "    pages=\":2\",\n",
        ")\n",
        "\n",
        "docs = loader.load()\n",
        "\n",
        "len(docs)"
      ]
    },
    {
      "cell_type": "markdown",
      "id": "61e11769-4780-4f77-b10e-27db6936f226",
      "metadata": {},
      "source": [
        "### 处理表格\n\n当在加载器初始化时将 `with_tables` 参数设置为 `True` 时（默认为 `with_tables=True`），`DedocFileLoader` 支持表格处理。\n\n表格不会被拆分——每个表格对应一个 langchain `Document` 对象。\n对于表格，`Document` 对象具有额外的 `metadata` 字段 `type=\"table\"` 和 `text_as_html`，其中包含表格的 `HTML` 表示。"
      ]
    },
    {
      "cell_type": "code",
      "execution_count": 7,
      "id": "bbeb2f8a-ac5e-4b59-8026-7ea3fc14c928",
      "metadata": {},
      "outputs": [
        {
          "data": {
            "text/plain": [
              "('table',\n",
              " '<table border=\"1\" style=\"border-collapse: collapse; width: 100%;\">\\n<tbody>\\n<tr>\\n<td colspan=\"1\" rowspan=\"1\">Team</td>\\n<td colspan=\"1\" rowspan=\"1\"> &quot;Payroll (millions)&quot;</td>\\n<td colspan=\"1\" r')"
            ]
          },
          "execution_count": 7,
          "metadata": {},
          "output_type": "execute_result"
        }
      ],
      "source": [
        "loader = DedocFileLoader(\"./example_data/mlb_teams_2012.csv\")\n",
        "\n",
        "docs = loader.load()\n",
        "\n",
        "docs[1].metadata[\"type\"], docs[1].metadata[\"text_as_html\"][:200]"
      ]
    },
    {
      "cell_type": "markdown",
      "id": "b4a2b872-2aba-4e4c-8b2f-83a5a81ee1da",
      "metadata": {},
      "source": [
        "### 处理附件\n\n`DedocFileLoader` 在初始化加载器时将 `with_attachments` 设置为 `True`（默认值为 `with_attachments=False`）时，支持处理附件。\n\n附件根据 `split` 参数进行拆分。\n对于附件，langchain 的 `Document` 对象有一个额外的元数据字段 `type=\"attachment\"`。"
      ]
    },
    {
      "cell_type": "code",
      "execution_count": 8,
      "id": "bb9d6c1c-e24c-4979-88a0-38d54abd6332",
      "metadata": {},
      "outputs": [
        {
          "data": {
            "text/plain": [
              "('attachment',\n",
              " '\\nContent-Type\\nmultipart/mixed; boundary=\"0000000000005d654405f082adb7\"\\nDate\\nFri, 23 Dec 2022 12:08:48 -0600\\nFrom\\nMallori Harrell <mallori@unstructured.io>\\nMIME-Version\\n1.0\\nMessage-ID\\n<CAPgNNXSzLVJ-d1OCX_TjFgJU7ugtQrjFybPtAMmmYZzphxNFYg@mail.gmail.com>\\nSubject\\nFake email with attachment\\nTo\\nMallori Harrell <mallori@unstructured.io>')"
            ]
          },
          "execution_count": 8,
          "metadata": {},
          "output_type": "execute_result"
        }
      ],
      "source": [
        "loader = DedocFileLoader(\n",
        "    \"./example_data/fake-email-attachment.eml\",\n",
        "    with_attachments=True,\n",
        ")\n",
        "\n",
        "docs = loader.load()\n",
        "\n",
        "docs[1].metadata[\"type\"], docs[1].page_content"
      ]
    },
    {
      "cell_type": "markdown",
      "id": "d435c3f6-703a-4064-8307-ace140de967a",
      "metadata": {},
      "source": [
        "## 加载 PDF 文件\n\n如果您只想处理 `PDF` 文档，可以使用 `DedocPDFLoader` 并仅启用 `PDF` 支持。\n该加载器支持文档拆分、表格和附件提取的相同参数。\n\n`Dedoc` 可以提取带有或不带文本层的 `PDF`，\n也可以自动检测其是否存在和正确性。\n有几种 `PDF` 处理程序可供选择，您可以使用 `pdf_with_text_layer`\n参数来选择其中一个。\n请参阅 [参数说明](https://dedoc.readthedocs.io/en/latest/parameters/pdf_handling.html)\n以获取更多详细信息。\n\n对于不带文本层的 `PDF`，应安装 `Tesseract OCR` 及其语言包。\n在这种情况下，[该说明](https://dedoc.readthedocs.io/en/latest/tutorials/add_new_language.html)会很有帮助。"
      ]
    },
    {
      "cell_type": "code",
      "execution_count": 9,
      "id": "0103a7f3-6b5e-4444-8f4d-83dd3724a9af",
      "metadata": {},
      "outputs": [
        {
          "data": {
            "text/plain": [
              "'\\n2\\n\\nZ. Shen et al.\\n\\n37], layout detection [38, 22], table detection [26], and scene text detection [4].\\n\\nA generalized learning-based framework dramatically reduces the need for the\\n\\nmanual speciﬁcation of complicated rules, which is the status quo with traditional\\n\\nmethods. DL has the potential to transform DIA pipelines and beneﬁt a broad\\n\\nspectrum of large-scale document digitization projects.\\n'"
            ]
          },
          "execution_count": 9,
          "metadata": {},
          "output_type": "execute_result"
        }
      ],
      "source": [
        "from langchain_community.document_loaders import DedocPDFLoader\n",
        "\n",
        "loader = DedocPDFLoader(\n",
        "    \"./example_data/layout-parser-paper.pdf\", pdf_with_text_layer=\"true\", pages=\"2:2\"\n",
        ")\n",
        "\n",
        "docs = loader.load()\n",
        "\n",
        "docs[0].page_content[:400]"
      ]
    },
    {
      "cell_type": "markdown",
      "id": "13061995-1805-40c2-a77a-a6cd80999e20",
      "metadata": {},
      "source": [
        "## Dedoc API\n\n如果您希望减少设置的复杂性就能立即开始使用，可以将 `Dedoc` 作为一项服务来使用。\n**`DedocAPIFileLoader` 无需安装 `dedoc` 库即可使用。**\n该加载器支持与 `DedocFileLoader` 相同的参数，并且\n还能自动检测输入文件类型。\n\n要使用 `DedocAPIFileLoader`，您需要运行 `Dedoc` 服务，例如使用 `Docker` 容器（请参阅[文档](https://dedoc.readthedocs.io/en/latest/getting_started/installation.html#install-and-run-dedoc-using-docker) \n了解更多详情）：\n\n```bash\ndocker pull dedocproject/dedoc\ndocker run -p 1231:1231\n```\n\n请不要在您的代码中使用我们的演示 URL `https://dedoc-readme.hf.space`。"
      ]
    },
    {
      "cell_type": "code",
      "execution_count": 10,
      "id": "211fc0b5-6080-4974-a6c1-f982bafd87d6",
      "metadata": {},
      "outputs": [
        {
          "data": {
            "text/plain": [
              "'\\nMadam Speaker, Madam Vice President, our First Lady and Second Gentleman. Members of Congress and the Cabinet. Justices of the Supreme Court. My fellow Americans.  \\n\\n\\n\\nLast year COVID-19 kept us apart. This year we are finally together again. \\n\\n\\n\\nTonight, we meet as Democrats Republicans and Independents. But most importantly as Americans. \\n\\n\\n\\nWith a duty to one another to the American people to '"
            ]
          },
          "execution_count": 10,
          "metadata": {},
          "output_type": "execute_result"
        }
      ],
      "source": [
        "from langchain_community.document_loaders import DedocAPIFileLoader\n",
        "\n",
        "loader = DedocAPIFileLoader(\n",
        "    \"./example_data/state_of_the_union.txt\",\n",
        "    url=\"https://dedoc-readme.hf.space\",\n",
        ")\n",
        "\n",
        "docs = loader.load()\n",
        "\n",
        "docs[0].page_content[:400]"
      ]
    },
    {
      "cell_type": "code",
      "execution_count": null,
      "id": "faaff475-5209-436f-bcde-97d58daed05c",
      "metadata": {},
      "outputs": [],
      "source": []
    }
  ],
  "metadata": {
    "kernelspec": {
      "display_name": "Python 3 (ipykernel)",
      "language": "python",
      "name": "python3"
    },
    "language_info": {
      "codemirror_mode": {
        "name": "ipython",
        "version": 3
      },
      "file_extension": ".py",
      "mimetype": "text/x-python",
      "name": "python",
      "nbconvert_exporter": "python",
      "pygments_lexer": "ipython3",
      "version": "3.11.9"
    }
  },
  "nbformat": 4,
  "nbformat_minor": 5
}