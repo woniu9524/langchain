{
  "cells": [
    {
      "cell_type": "markdown",
      "metadata": {},
      "source": [
        "# GitHub\n\n此笔记本展示了如何加载指定仓库的 issue 和 pull requests (PR)，以及如何加载指定仓库的文件。我们将以 LangChain Python 仓库为例。"
      ]
    },
    {
      "cell_type": "markdown",
      "metadata": {},
      "source": [
        "## 设置访问令牌"
      ]
    },
    {
      "cell_type": "markdown",
      "metadata": {},
      "source": [
        "要访问 GitHub API，您需要一个个人访问令牌 - 您可以在此处设置您的令牌：https://github.com/settings/tokens?type=beta 。您可以将此令牌设置为环境变量 ``GITHUB_PERSONAL_ACCESS_TOKEN``，它会自动拉取，或者在初始化时直接将其作为 ``access_token`` 命名参数传入。"
      ]
    },
    {
      "cell_type": "code",
      "execution_count": null,
      "metadata": {
        "tags": []
      },
      "outputs": [],
      "source": [
        "# If you haven't set your access token as an environment variable, pass it in here.\n",
        "from getpass import getpass\n",
        "\n",
        "ACCESS_TOKEN = getpass()"
      ]
    },
    {
      "cell_type": "markdown",
      "metadata": {},
      "source": [
        "## 加载问题和 PR"
      ]
    },
    {
      "cell_type": "code",
      "execution_count": null,
      "metadata": {
        "tags": []
      },
      "outputs": [],
      "source": [
        "from langchain_community.document_loaders import GitHubIssuesLoader"
      ]
    },
    {
      "cell_type": "code",
      "execution_count": null,
      "metadata": {},
      "outputs": [],
      "source": [
        "loader = GitHubIssuesLoader(\n",
        "    repo=\"langchain-ai/langchain\",\n",
        "    access_token=ACCESS_TOKEN,  # delete/comment out this argument if you've set the access token as an env var.\n",
        "    creator=\"UmerHA\",\n",
        ")"
      ]
    },
    {
      "cell_type": "markdown",
      "metadata": {},
      "source": [
        "让我们加载“UmerHA”创建的所有 issues 和 PRs。\n\n以下是您可以使用所有过滤器的列表：\n- include_prs\n- milestone\n- state\n- assignee\n- creator\n- mentioned\n- labels\n- sort\n- direction\n- since\n\n有关更多信息，请参阅 https://docs.github.com/en/rest/issues/issues?apiVersion=2022-11-28#list-repository-issues。"
      ]
    },
    {
      "cell_type": "code",
      "execution_count": null,
      "metadata": {},
      "outputs": [],
      "source": [
        "docs = loader.load()"
      ]
    },
    {
      "cell_type": "code",
      "execution_count": null,
      "metadata": {},
      "outputs": [],
      "source": [
        "print(docs[0].page_content)\n",
        "print(docs[0].metadata)"
      ]
    },
    {
      "cell_type": "markdown",
      "metadata": {},
      "source": [
        "## 只加载问题"
      ]
    },
    {
      "cell_type": "markdown",
      "metadata": {},
      "source": [
        "默认情况下，GitHub API 会将拉取请求也视为问题。要仅获取“纯粹”的问题（即没有拉取请求），请使用 `include_prs=False`。"
      ]
    },
    {
      "cell_type": "code",
      "execution_count": null,
      "metadata": {},
      "outputs": [],
      "source": [
        "loader = GitHubIssuesLoader(\n",
        "    repo=\"langchain-ai/langchain\",\n",
        "    access_token=ACCESS_TOKEN,  # delete/comment out this argument if you've set the access token as an env var.\n",
        "    creator=\"UmerHA\",\n",
        "    include_prs=False,\n",
        ")\n",
        "docs = loader.load()"
      ]
    },
    {
      "cell_type": "code",
      "execution_count": null,
      "metadata": {},
      "outputs": [],
      "source": [
        "print(docs[0].page_content)\n",
        "print(docs[0].metadata)"
      ]
    },
    {
      "cell_type": "markdown",
      "metadata": {},
      "source": [
        "## 加载 Github 文件内容\n\n对于下面的代码，它会加载 `langchain-ai/langchain`  仓库中的所有 markdown 文件。"
      ]
    },
    {
      "cell_type": "code",
      "execution_count": 1,
      "metadata": {
        "tags": []
      },
      "outputs": [],
      "source": [
        "from langchain_community.document_loaders import GithubFileLoader"
      ]
    },
    {
      "cell_type": "code",
      "execution_count": null,
      "metadata": {},
      "outputs": [],
      "source": [
        "loader = GithubFileLoader(\n",
        "    repo=\"langchain-ai/langchain\",  # the repo name\n",
        "    branch=\"master\",  # the branch name\n",
        "    access_token=ACCESS_TOKEN,\n",
        "    github_api_url=\"https://api.github.com\",\n",
        "    file_filter=lambda file_path: file_path.endswith(\n",
        "        \".md\"\n",
        "    ),  # load all markdowns files.\n",
        ")\n",
        "documents = loader.load()"
      ]
    },
    {
      "cell_type": "markdown",
      "metadata": {},
      "source": [
        "```json\ndocument.metadata: \n    {\n      \"path\": \"README.md\",\n      \"sha\": \"82f1c4ea88ecf8d2dfsfx06a700e84be4\",\n      \"source\": \"https://github.com/langchain-ai/langchain/blob/master/README.md\"\n    }\ndocument.content:\n    模拟内容\n```"
      ]
    }
  ],
  "metadata": {
    "kernelspec": {
      "display_name": "Python 3 (ipykernel)",
      "language": "python",
      "name": "python3"
    },
    "language_info": {
      "codemirror_mode": {
        "name": "ipython",
        "version": 3
      },
      "file_extension": ".py",
      "mimetype": "text/x-python",
      "name": "python",
      "nbconvert_exporter": "python",
      "pygments_lexer": "ipython3",
      "version": "3.9.1"
    }
  },
  "nbformat": 4,
  "nbformat_minor": 4
}