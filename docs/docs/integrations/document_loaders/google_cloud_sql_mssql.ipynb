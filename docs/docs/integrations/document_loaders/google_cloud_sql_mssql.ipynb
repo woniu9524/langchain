{
  "cells": [
    {
      "cell_type": "markdown",
      "metadata": {},
      "source": [
        "# Google Cloud SQL for SQL server\n\n> [Cloud SQL](https://cloud.google.com/sql) 是一项全托管式关系数据库服务，提供高性能、无缝集成和出色的可扩展性。它提供 [MySQL](https://cloud.google.com/sql/mysql)、[PostgreSQL](https://cloud.google.com/sql/postgres) 和 [SQL Server](https://cloud.google.com/sql/sqlserver) 数据库引擎。利用 Cloud SQL 的 Langchain 集成，扩展您的数据库应用程序以构建由 AI 驱动的体验。\n\n本 Notebook 介绍如何使用 [Cloud SQL for SQL server](https://cloud.google.com/sql/sqlserver) 通过 `MSSQLLoader` 和 `MSSQLDocumentSaver` 来 [保存、加载和删除 Langchain 文档](/docs/how_to#document-loaders)。\n\n在 [GitHub](https://github.com/googleapis/langchain-google-cloud-sql-mssql-python/) 上了解有关该软件包的更多信息。\n\n[![Open In Colab](https://colab.research.google.com/assets/colab-badge.svg)](https://colab.research.google.com/github/googleapis/langchain-google-cloud-sql-mssql-python/blob/main/docs/document_loader.ipynb)"
      ]
    },
    {
      "cell_type": "markdown",
      "metadata": {},
      "source": [
        "## 开始之前\n\n要运行此笔记本，您需要执行以下操作：\n\n* [创建 Google Cloud 项目](https://developers.google.com/workspace/guides/create-project)\n* [启用 Cloud SQL Admin API](https://console.cloud.google.com/marketplace/product/google/sqladmin.googleapis.com)\n* [创建 Cloud SQL for SQL server 实例](https://cloud.google.com/sql/docs/sqlserver/create-instance)\n* [创建 Cloud SQL 数据库](https://cloud.google.com/sql/docs/sqlserver/create-manage-databases)\n* [向数据库添加 IAM 数据库用户](https://cloud.google.com/sql/docs/sqlserver/create-manage-users)（可选）\n\n在笔记本的运行时环境中确认数据库访问权限后，请填充以下值并运行单元格，然后再运行示例脚本。"
      ]
    },
    {
      "cell_type": "code",
      "execution_count": 1,
      "metadata": {},
      "outputs": [],
      "source": [
        "# @markdown Please fill in the both the Google Cloud region and name of your Cloud SQL instance.\n",
        "REGION = \"us-central1\"  # @param {type:\"string\"}\n",
        "INSTANCE = \"test-instance\"  # @param {type:\"string\"}\n",
        "\n",
        "# @markdown Please fill in user name and password of your Cloud SQL instance.\n",
        "DB_USER = \"sqlserver\"  # @param {type:\"string\"}\n",
        "DB_PASS = \"password\"  # @param {type:\"string\"}\n",
        "\n",
        "# @markdown Please specify a database and a table for demo purpose.\n",
        "DATABASE = \"test\"  # @param {type:\"string\"}\n",
        "TABLE_NAME = \"test-default\"  # @param {type:\"string\"}"
      ]
    },
    {
      "cell_type": "markdown",
      "metadata": {},
      "source": [
        "### 🦜🔗 库安装\n\n集成存在于我们自己的 `langchain-google-cloud-sql-mssql` 包中，因此我们需要安装它。"
      ]
    },
    {
      "cell_type": "code",
      "execution_count": null,
      "metadata": {},
      "outputs": [],
      "source": [
        "%pip install --upgrade --quiet langchain-google-cloud-sql-mssql"
      ]
    },
    {
      "cell_type": "markdown",
      "metadata": {},
      "source": [
        "**仅限 Colab**: 取消注释下面的单元格以重启内核，或者使用按钮重启内核。对于 Vertex AI Workbench，您可以使用顶部的按钮重启终端。"
      ]
    },
    {
      "cell_type": "code",
      "execution_count": null,
      "metadata": {},
      "outputs": [],
      "source": [
        "# # Automatically restart kernel after installs so that your environment can access the new packages\n",
        "# import IPython\n",
        "\n",
        "# app = IPython.Application.instance()\n",
        "# app.kernel.do_shutdown(True)"
      ]
    },
    {
      "cell_type": "markdown",
      "metadata": {},
      "source": [
        "### 🔐 身份验证\n\n通过当前笔记本登录的 IAM 用户身份验证到 Google Cloud，以便访问您的 Google Cloud 项目。\n\n- 如果您使用 Colab 运行此笔记本，请使用下面的单元格并继续。\n- 如果您使用 Vertex AI Workbench，请参阅此处的设置说明：[https://github.com/GoogleCloudPlatform/generative-ai/tree/main/setup-env](https://github.com/GoogleCloudPlatform/generative-ai/tree/main/setup-env)。"
      ]
    },
    {
      "cell_type": "code",
      "execution_count": null,
      "metadata": {},
      "outputs": [],
      "source": [
        "from google.colab import auth\n",
        "\n",
        "auth.authenticate_user()"
      ]
    },
    {
      "cell_type": "markdown",
      "metadata": {},
      "source": [
        "### ☁ 设置您的 Google Cloud 项目\n设置您的 Google Cloud 项目，以便在本笔记本中利用 Google Cloud 资源。\n\n如果您不知道项目 ID，可以尝试以下方法：\n\n* 运行 `gcloud config list`。\n* 运行 `gcloud projects list`。\n* 查看支持页面：[查找项目 ID](https://support.google.com/googleapi/answer/7014113)。"
      ]
    },
    {
      "cell_type": "code",
      "execution_count": null,
      "metadata": {},
      "outputs": [],
      "source": [
        "# @markdown Please fill in the value below with your Google Cloud project ID and then run the cell.\n",
        "\n",
        "PROJECT_ID = \"my-project-id\"  # @param {type:\"string\"}\n",
        "\n",
        "# Set the project id\n",
        "!gcloud config set project {PROJECT_ID}"
      ]
    },
    {
      "cell_type": "markdown",
      "metadata": {},
      "source": [
        "### 💡 API 启用\n`langchain-google-cloud-sql-mssql` 包要求您在 Google Cloud 项目中 [启用 Cloud SQL Admin API](https://console.cloud.google.com/flows/enableapi?apiid=sqladmin.googleapis.com)。"
      ]
    },
    {
      "cell_type": "code",
      "execution_count": null,
      "metadata": {},
      "outputs": [],
      "source": [
        "# enable Cloud SQL Admin API\n",
        "!gcloud services enable sqladmin.googleapis.com"
      ]
    },
    {
      "cell_type": "markdown",
      "metadata": {},
      "source": [
        "## 基本用法"
      ]
    },
    {
      "cell_type": "markdown",
      "metadata": {},
      "source": [
        "### MSSQLEngine 连接池\n\n在从 MSSQL 表保存或加载文档之前，我们需要首先配置一个到 Cloud SQL 数据库的连接池。`MSSQLEngine` 会为您的 Cloud SQL 数据库配置一个 [SQLAlchemy 连接池](https://docs.sqlalchemy.org/en/20/core/pooling.html#module-sqlalchemy.pool)，从而使您的应用程序能够成功连接，并遵循行业最佳实践。\n\n要使用 `MSSQLEngine.from_instance()` 创建一个 `MSSQLEngine`，您只需要提供以下 4 项内容：\n\n1.  `project_id`：Cloud SQL 实例所在 Google Cloud 项目的项目 ID。\n1.  `region`：Cloud SQL 实例所在的区域。\n1.  `instance`：Cloud SQL 实例的名称。\n1.  `database`：要连接到 Cloud SQL 实例上的数据库的名称。\n1.  `user`：用于内置数据库身份验证和登录的数据库用户。\n1.  `password`：用于内置数据库身份验证和登录的数据库密码。"
      ]
    },
    {
      "cell_type": "code",
      "execution_count": null,
      "metadata": {},
      "outputs": [],
      "source": [
        "from langchain_google_cloud_sql_mssql import MSSQLEngine\n",
        "\n",
        "engine = MSSQLEngine.from_instance(\n",
        "    project_id=PROJECT_ID,\n",
        "    region=REGION,\n",
        "    instance=INSTANCE,\n",
        "    database=DATABASE,\n",
        "    user=DB_USER,\n",
        "    password=DB_PASS,\n",
        ")"
      ]
    },
    {
      "cell_type": "markdown",
      "metadata": {},
      "source": [
        "### 初始化表\n\n通过 `MSSQLEngine.init_document_table(<table_name>)` 初始化一个默认模式的表。表结构：\n\n- page_content (类型：text)\n- langchain_metadata (类型：JSON)\n\n`overwrite_existing=True` 标志表示新初始化的表将替换同名的现有表。"
      ]
    },
    {
      "cell_type": "code",
      "execution_count": null,
      "metadata": {},
      "outputs": [],
      "source": [
        "engine.init_document_table(TABLE_NAME, overwrite_existing=True)"
      ]
    },
    {
      "cell_type": "markdown",
      "metadata": {},
      "source": [
        "### 保存文档\n\n使用 `MSSQLDocumentSaver.add_documents(<documents>)` 保存Langchain文档。要初始化 `MSSQLDocumentSaver` 类，您需要提供两项：\n\n1. `engine` - `MSSQLEngine` 引擎的一个实例。\n2. `table_name` - 用于在 Cloud SQL 数据库中存储 Langchain 文档的表的名称。"
      ]
    },
    {
      "cell_type": "code",
      "execution_count": null,
      "metadata": {},
      "outputs": [],
      "source": [
        "from langchain_core.documents import Document\n",
        "from langchain_google_cloud_sql_mssql import MSSQLDocumentSaver\n",
        "\n",
        "test_docs = [\n",
        "    Document(\n",
        "        page_content=\"Apple Granny Smith 150 0.99 1\",\n",
        "        metadata={\"fruit_id\": 1},\n",
        "    ),\n",
        "    Document(\n",
        "        page_content=\"Banana Cavendish 200 0.59 0\",\n",
        "        metadata={\"fruit_id\": 2},\n",
        "    ),\n",
        "    Document(\n",
        "        page_content=\"Orange Navel 80 1.29 1\",\n",
        "        metadata={\"fruit_id\": 3},\n",
        "    ),\n",
        "]\n",
        "saver = MSSQLDocumentSaver(engine=engine, table_name=TABLE_NAME)\n",
        "saver.add_documents(test_docs)"
      ]
    },
    {
      "cell_type": "markdown",
      "metadata": {},
      "source": [
        "### 加载文档"
      ]
    },
    {
      "cell_type": "markdown",
      "metadata": {},
      "source": [
        "使用 `MSSQLLoader.load()` 或 `MSSQLLoader.lazy_load()` 加载 langchain 文档。`lazy_load` 返回一个生成器，该生成器仅在迭代期间查询数据库。要初始化 `MSSQLDocumentSaver` 类，您需要提供：\n\n1. `engine` - `MSSQLEngine` 引擎的实例。\n2. `table_name` - Cloud SQL 数据库中用于存储 langchain 文档的表名。"
      ]
    },
    {
      "cell_type": "code",
      "execution_count": null,
      "metadata": {},
      "outputs": [],
      "source": [
        "from langchain_google_cloud_sql_mssql import MSSQLLoader\n",
        "\n",
        "loader = MSSQLLoader(engine=engine, table_name=TABLE_NAME)\n",
        "docs = loader.lazy_load()\n",
        "for doc in docs:\n",
        "    print(\"Loaded documents:\", doc)"
      ]
    },
    {
      "cell_type": "markdown",
      "metadata": {},
      "source": [
        "### 通过查询加载文档"
      ]
    },
    {
      "cell_type": "markdown",
      "metadata": {},
      "source": [
        "除了从表中加载文档外，我们还可以选择从 SQL 查询生成的视图加载文档。例如："
      ]
    },
    {
      "cell_type": "code",
      "execution_count": null,
      "metadata": {},
      "outputs": [],
      "source": [
        "from langchain_google_cloud_sql_mssql import MSSQLLoader\n",
        "\n",
        "loader = MSSQLLoader(\n",
        "    engine=engine,\n",
        "    query=f\"select * from \\\"{TABLE_NAME}\\\" where JSON_VALUE(langchain_metadata, '$.fruit_id') = 1;\",\n",
        ")\n",
        "onedoc = loader.load()\n",
        "onedoc"
      ]
    },
    {
      "cell_type": "markdown",
      "metadata": {},
      "source": [
        "通过 SQL 查询生成的视图可以拥有与默认表不同的 schema。在这种情况下，MSSQLLoader 的行为与从具有非默认 schema 的表中加载的行为相同。请参阅 [加载具有自定义文档页面内容和元数据的文档](#load-documents-with-customized-document-page-content--metadata) 部分。"
      ]
    },
    {
      "cell_type": "markdown",
      "metadata": {},
      "source": [
        "### 删除文档"
      ]
    },
    {
      "cell_type": "markdown",
      "metadata": {},
      "source": [
        "使用 `MSSQLDocumentSaver.delete(<documents>)` 从 MSSQL 表中删除一组 langchain 文档。\n\n对于具有默认架构（page_content, langchain_metadata）的表，删除标准是：\n\n如果列表中存在一个 `document`，且满足以下条件，则应删除该 `row`：\n\n- `document.page_content` 等于 `row[page_content]`\n- `document.metadata` 等于 `row[langchain_metadata]`"
      ]
    },
    {
      "cell_type": "code",
      "execution_count": null,
      "metadata": {},
      "outputs": [],
      "source": [
        "from langchain_google_cloud_sql_mssql import MSSQLLoader\n",
        "\n",
        "loader = MSSQLLoader(engine=engine, table_name=TABLE_NAME)\n",
        "docs = loader.load()\n",
        "print(\"Documents before delete:\", docs)\n",
        "saver.delete(onedoc)\n",
        "print(\"Documents after delete:\", loader.load())"
      ]
    },
    {
      "cell_type": "markdown",
      "metadata": {},
      "source": [
        "## 高级用法"
      ]
    },
    {
      "cell_type": "markdown",
      "metadata": {},
      "source": [
        "### 使用自定义文档页面内容和元数据加载文档"
      ]
    },
    {
      "cell_type": "markdown",
      "metadata": {},
      "source": [
        "首先，我们准备一个具有非默认模式的示例表，并用一些任意数据填充它。"
      ]
    },
    {
      "cell_type": "code",
      "execution_count": null,
      "metadata": {},
      "outputs": [],
      "source": [
        "import sqlalchemy\n",
        "\n",
        "with engine.connect() as conn:\n",
        "    conn.execute(sqlalchemy.text(f'DROP TABLE IF EXISTS \"{TABLE_NAME}\"'))\n",
        "    conn.commit()\n",
        "    conn.execute(\n",
        "        sqlalchemy.text(\n",
        "            f\"\"\"\n",
        "            IF NOT EXISTS (SELECT * FROM sys.objects WHERE object_id = OBJECT_ID(N'[dbo].[{TABLE_NAME}]') AND type in (N'U'))\n",
        "                BEGIN\n",
        "                    CREATE TABLE [dbo].[{TABLE_NAME}](\n",
        "                        fruit_id INT IDENTITY(1,1) PRIMARY KEY,\n",
        "                        fruit_name VARCHAR(100) NOT NULL,\n",
        "                        variety VARCHAR(50),\n",
        "                        quantity_in_stock INT NOT NULL,\n",
        "                        price_per_unit DECIMAL(6,2) NOT NULL,\n",
        "                        organic BIT NOT NULL\n",
        "                    )\n",
        "                END\n",
        "            \"\"\"\n",
        "        )\n",
        "    )\n",
        "    conn.execute(\n",
        "        sqlalchemy.text(\n",
        "            f\"\"\"\n",
        "            INSERT INTO \"{TABLE_NAME}\" (fruit_name, variety, quantity_in_stock, price_per_unit, organic)\n",
        "            VALUES\n",
        "                ('Apple', 'Granny Smith', 150, 0.99, 1),\n",
        "                ('Banana', 'Cavendish', 200, 0.59, 0),\n",
        "                ('Orange', 'Navel', 80, 1.29, 1);\n",
        "            \"\"\"\n",
        "        )\n",
        "    )\n",
        "    conn.commit()"
      ]
    },
    {
      "cell_type": "markdown",
      "metadata": {},
      "source": [
        "如果我们仍然使用 `MSSQLLoader` 的默认参数从这个示例表中加载 langchain 文档，那么加载的文档的 `page_content` 将是表的第一列，而 `metadata` 将由所有其他列的键值对组成。"
      ]
    },
    {
      "cell_type": "code",
      "execution_count": null,
      "metadata": {},
      "outputs": [],
      "source": [
        "loader = MSSQLLoader(\n",
        "    engine=engine,\n",
        "    table_name=TABLE_NAME,\n",
        ")\n",
        "loader.load()"
      ]
    },
    {
      "cell_type": "markdown",
      "metadata": {},
      "source": [
        "我们可以通过在初始化 `MSSQLLoader` 时设置 `content_columns` 和 `metadata_columns` 来指定我们想要加载的内容和元数据。\n\n1. `content_columns`: 要写入文档 `page_content` 的列。\n2. `metadata_columns`: 要写入文档 `metadata` 的列。\n\n例如，在这里，`content_columns` 中列的值将被连接成一个以空格分隔的字符串，作为加载文档的 `page_content`，而加载文档的 `metadata` 将仅包含 `metadata_columns` 中指定列的键值对。"
      ]
    },
    {
      "cell_type": "code",
      "execution_count": null,
      "metadata": {},
      "outputs": [],
      "source": [
        "loader = MSSQLLoader(\n",
        "    engine=engine,\n",
        "    table_name=TABLE_NAME,\n",
        "    content_columns=[\n",
        "        \"variety\",\n",
        "        \"quantity_in_stock\",\n",
        "        \"price_per_unit\",\n",
        "        \"organic\",\n",
        "    ],\n",
        "    metadata_columns=[\"fruit_id\", \"fruit_name\"],\n",
        ")\n",
        "loader.load()"
      ]
    },
    {
      "cell_type": "markdown",
      "metadata": {},
      "source": [
        "### 使用自定义页面内容和元数据保存文档"
      ]
    },
    {
      "cell_type": "markdown",
      "metadata": {},
      "source": [
        "为了将 langchain 文档保存到具有自定义元数据字段的表中，我们首先需要通过 `MSSQLEngine.init_document_table()` 创建这样一个表，并指定我们想要的 `metadata_columns` 列表。在此示例中，创建的表将具有以下表列：\n\n- description (类型：text)：用于存储水果描述。\n- fruit_name (类型：text)：用于存储水果名称。\n- organic (类型：tinyint(1))：用于指示水果是否为有机水果。\n- other_metadata (类型：JSON)：用于存储水果的其他元数据信息。\n\n我们可以使用 `MSSQLEngine.init_document_table()` 的以下参数来创建表：\n\n1. `table_name`：用于在 Cloud SQL 数据库中存储 langchain 文档的表名。\n2. `metadata_columns`：一个 `sqlalchemy.Column` 列表，指示所需的元数据列列表。\n3. `content_column`：用于存储 langchain 文档的 `page_content` 的列名。默认为 `page_content`。\n4. `metadata_json_column`：用于存储 langchain 文档的额外 `metadata` 的 JSON 列名。默认为 `langchain_metadata`。"
      ]
    },
    {
      "cell_type": "code",
      "execution_count": null,
      "metadata": {},
      "outputs": [],
      "source": [
        "engine.init_document_table(\n",
        "    TABLE_NAME,\n",
        "    metadata_columns=[\n",
        "        sqlalchemy.Column(\n",
        "            \"fruit_name\",\n",
        "            sqlalchemy.UnicodeText,\n",
        "            primary_key=False,\n",
        "            nullable=True,\n",
        "        ),\n",
        "        sqlalchemy.Column(\n",
        "            \"organic\",\n",
        "            sqlalchemy.Boolean,\n",
        "            primary_key=False,\n",
        "            nullable=True,\n",
        "        ),\n",
        "    ],\n",
        "    content_column=\"description\",\n",
        "    metadata_json_column=\"other_metadata\",\n",
        "    overwrite_existing=True,\n",
        ")"
      ]
    },
    {
      "cell_type": "markdown",
      "metadata": {},
      "source": [
        "使用 `MSSQLDocumentSaver.add_documents(<documents>)` 保存文档。正如您在此示例中看到的：\n\n- `document.page_content` 将被保存在 `description` 列中。\n- `document.metadata.fruit_name` 将被保存在 `fruit_name` 列中。\n- `document.metadata.organic` 将被保存在 `organic` 列中。\n- `document.metadata.fruit_id` 将以 JSON 格式保存在 `other_metadata` 列中。"
      ]
    },
    {
      "cell_type": "code",
      "execution_count": null,
      "metadata": {},
      "outputs": [],
      "source": [
        "test_docs = [\n",
        "    Document(\n",
        "        page_content=\"Granny Smith 150 0.99\",\n",
        "        metadata={\"fruit_id\": 1, \"fruit_name\": \"Apple\", \"organic\": 1},\n",
        "    ),\n",
        "]\n",
        "saver = MSSQLDocumentSaver(\n",
        "    engine=engine,\n",
        "    table_name=TABLE_NAME,\n",
        "    content_column=\"description\",\n",
        "    metadata_json_column=\"other_metadata\",\n",
        ")\n",
        "saver.add_documents(test_docs)"
      ]
    },
    {
      "cell_type": "code",
      "execution_count": null,
      "metadata": {},
      "outputs": [],
      "source": [
        "with engine.connect() as conn:\n",
        "    result = conn.execute(sqlalchemy.text(f'select * from \"{TABLE_NAME}\";'))\n",
        "    print(result.keys())\n",
        "    print(result.fetchall())"
      ]
    },
    {
      "cell_type": "markdown",
      "metadata": {},
      "source": [
        "### 删除具有自定义页面内容和元数据的文档\n\nTo delete documents that include custom page content and metadata, you will need to create a `DeleteMany`"
      ]
    },
    {
      "cell_type": "markdown",
      "metadata": {},
      "source": [
        "我们也可以通过 `MSSQLDocumentSaver.delete(<documents>)` 从具有自定义元数据列的表中删除文档。删除标准是：\n\n如果列表中存在一个 `document`，使得：\n\n- `document.page_content` 等于 `row[page_content]`\n- 对于 `document.metadata` 中的每一个元数据字段 `k`：\n    - `document.metadata[k]` 等于 `row[k]` 或 `document.metadata[k]` 等于 `row[langchain_metadata][k]`\n- `row` 中没有存在但 `document.metadata` 中不存在的额外元数据字段。"
      ]
    },
    {
      "cell_type": "code",
      "execution_count": null,
      "metadata": {},
      "outputs": [],
      "source": [
        "loader = MSSQLLoader(engine=engine, table_name=TABLE_NAME)\n",
        "docs = loader.load()\n",
        "print(\"Documents before delete:\", docs)\n",
        "saver.delete(docs)\n",
        "print(\"Documents after delete:\", loader.load())"
      ]
    }
  ],
  "metadata": {
    "kernelspec": {
      "display_name": "Python 3 (ipykernel)",
      "language": "python",
      "name": "python3"
    },
    "language_info": {
      "codemirror_mode": {
        "name": "ipython",
        "version": 3
      },
      "file_extension": ".py",
      "mimetype": "text/x-python",
      "name": "python",
      "nbconvert_exporter": "python",
      "pygments_lexer": "ipython3",
      "version": "3.11.4"
    }
  },
  "nbformat": 4,
  "nbformat_minor": 4
}