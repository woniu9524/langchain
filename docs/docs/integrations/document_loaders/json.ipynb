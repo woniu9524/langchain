{
  "cells": [
    {
      "cell_type": "markdown",
      "metadata": {},
      "source": [
        "# JSONLoader\n\n本 Notebook 提供了使用 JSON [文档加载器](https://python.langchain.com/docs/concepts/document_loaders) 的快速入门指南。有关 JSONLoader 所有功能和配置的详细文档，请参阅[API 参考](https://python.langchain.com/api_reference/community/document_loaders/langchain_community.document_loaders.json_loader.JSONLoader.html)。\n\n- TODO：添加任何其他相关链接，例如有关底层 API 的信息等。\n\n## 概述\n### 集成详情\n\n| Class | Package | Local | Serializable | [JS 支持](https://js.langchain.com/docs/integrations/document_loaders/file_loaders/json/)|\n| :--- | :--- | :---: | :---: |  :---: |\n| [JSONLoader](https://python.langchain.com/api_reference/community/document_loaders/langchain_community.document_loaders.json_loader.JSONLoader.html) | [langchain_community](https://python.langchain.com/api_reference/community/index.html) | ✅ | ❌ | ✅ |\n### 加载器功能\n| Source | Document Lazy Loading | Native Async Support\n| :---: | :---: | :---: |\n| JSONLoader | ✅ | ❌ |\n\n## 设置\n\n要访问 JSON 文档加载器，您需要安装 `langchain-community` 集成包以及 ``jq`` Python 包。\n\n### 凭据\n\n使用 `JSONLoader` 类不需要凭据。"
      ]
    },
    {
      "cell_type": "markdown",
      "metadata": {},
      "source": "要启用模型调用的自动跟踪，请设置您的 [LangSmith](https://docs.smith.langchain.com/) API 密钥："
    },
    {
      "cell_type": "code",
      "execution_count": null,
      "metadata": {},
      "outputs": [],
      "source": [
        "# os.environ[\"LANGSMITH_API_KEY\"] = getpass.getpass(\"Enter your LangSmith API key: \")\n",
        "# os.environ[\"LANGSMITH_TRACING\"] = \"true\""
      ]
    },
    {
      "cell_type": "markdown",
      "metadata": {},
      "source": [
        "### 安装\n\n安装 **langchain\\_community** 和 **jq**:"
      ]
    },
    {
      "cell_type": "code",
      "execution_count": null,
      "metadata": {},
      "outputs": [],
      "source": [
        "%pip install -qU langchain_community jq "
      ]
    },
    {
      "cell_type": "markdown",
      "metadata": {},
      "source": [
        "## 初始化\n\n现在，我们可以实例化模型对象并加载文档了：\n\n- TODO：使用相关的参数更新模型实例化。"
      ]
    },
    {
      "cell_type": "code",
      "execution_count": 1,
      "metadata": {},
      "outputs": [],
      "source": [
        "from langchain_community.document_loaders import JSONLoader\n",
        "\n",
        "loader = JSONLoader(\n",
        "    file_path=\"./example_data/facebook_chat.json\",\n",
        "    jq_schema=\".messages[].content\",\n",
        "    text_content=False,\n",
        ")"
      ]
    },
    {
      "cell_type": "markdown",
      "metadata": {},
      "source": [
        "## 加载"
      ]
    },
    {
      "cell_type": "code",
      "execution_count": 2,
      "metadata": {},
      "outputs": [
        {
          "data": {
            "text/plain": [
              "Document(metadata={'source': '/Users/isaachershenson/Documents/langchain/docs/docs/integrations/document_loaders/example_data/facebook_chat.json', 'seq_num': 1}, page_content='Bye!')"
            ]
          },
          "execution_count": 2,
          "metadata": {},
          "output_type": "execute_result"
        }
      ],
      "source": [
        "docs = loader.load()\n",
        "docs[0]"
      ]
    },
    {
      "cell_type": "code",
      "execution_count": 3,
      "metadata": {},
      "outputs": [
        {
          "name": "stdout",
          "output_type": "stream",
          "text": [
            "{'source': '/Users/isaachershenson/Documents/langchain/docs/docs/integrations/document_loaders/example_data/facebook_chat.json', 'seq_num': 1}\n"
          ]
        }
      ],
      "source": [
        "print(docs[0].metadata)"
      ]
    },
    {
      "cell_type": "markdown",
      "metadata": {},
      "source": [
        "## 延迟加载"
      ]
    },
    {
      "cell_type": "code",
      "execution_count": 4,
      "metadata": {},
      "outputs": [],
      "source": [
        "pages = []\n",
        "for doc in loader.lazy_load():\n",
        "    pages.append(doc)\n",
        "    if len(pages) >= 10:\n",
        "        # do some paged operation, e.g.\n",
        "        # index.upsert(pages)\n",
        "\n",
        "        pages = []"
      ]
    },
    {
      "cell_type": "markdown",
      "metadata": {},
      "source": [
        "## 从 JSON Lines 文件读取\n\n如果想从 JSON Lines 文件加载文档，请传递 `json_lines=True` 并指定 `jq_schema` 来从单个 JSON 对象中提取 `page_content`。"
      ]
    },
    {
      "cell_type": "code",
      "execution_count": 5,
      "metadata": {},
      "outputs": [
        {
          "name": "stdout",
          "output_type": "stream",
          "text": [
            "page_content='Bye!' metadata={'source': '/Users/isaachershenson/Documents/langchain/docs/docs/integrations/document_loaders/example_data/facebook_chat_messages.jsonl', 'seq_num': 1}\n"
          ]
        }
      ],
      "source": [
        "loader = JSONLoader(\n",
        "    file_path=\"./example_data/facebook_chat_messages.jsonl\",\n",
        "    jq_schema=\".content\",\n",
        "    text_content=False,\n",
        "    json_lines=True,\n",
        ")\n",
        "\n",
        "docs = loader.load()\n",
        "print(docs[0])"
      ]
    },
    {
      "cell_type": "markdown",
      "metadata": {},
      "source": [
        "## 读取特定内容键\n\n另一种方法是设置 `jq_schema='.'`，并提供 `content_key` 以便仅加载特定内容："
      ]
    },
    {
      "cell_type": "code",
      "execution_count": 6,
      "metadata": {},
      "outputs": [
        {
          "name": "stdout",
          "output_type": "stream",
          "text": [
            "page_content='User 2' metadata={'source': '/Users/isaachershenson/Documents/langchain/docs/docs/integrations/document_loaders/example_data/facebook_chat_messages.jsonl', 'seq_num': 1}\n"
          ]
        }
      ],
      "source": [
        "loader = JSONLoader(\n",
        "    file_path=\"./example_data/facebook_chat_messages.jsonl\",\n",
        "    jq_schema=\".\",\n",
        "    content_key=\"sender_name\",\n",
        "    json_lines=True,\n",
        ")\n",
        "\n",
        "docs = loader.load()\n",
        "print(docs[0])"
      ]
    },
    {
      "cell_type": "markdown",
      "metadata": {},
      "source": [
        "## JSON 文件，包含 jq schema `content_key`\n\n要使用 jq schema 中的 `content_key` 加载 JSON 文件中的文档，请将 `is_content_key_jq_parsable` 设置为 `True`。请确保 `content_key` 兼容，并且可以使用 jq schema 进行解析。"
      ]
    },
    {
      "cell_type": "code",
      "execution_count": 7,
      "metadata": {},
      "outputs": [
        {
          "name": "stdout",
          "output_type": "stream",
          "text": [
            "page_content='Bye!' metadata={'source': '/Users/isaachershenson/Documents/langchain/docs/docs/integrations/document_loaders/example_data/facebook_chat.json', 'seq_num': 1}\n"
          ]
        }
      ],
      "source": [
        "loader = JSONLoader(\n",
        "    file_path=\"./example_data/facebook_chat.json\",\n",
        "    jq_schema=\".messages[]\",\n",
        "    content_key=\".content\",\n",
        "    is_content_key_jq_parsable=True,\n",
        ")\n",
        "\n",
        "docs = loader.load()\n",
        "print(docs[0])"
      ]
    },
    {
      "cell_type": "markdown",
      "metadata": {},
      "source": [
        "## 提取元数据\n\n通常，我们希望将 JSON 文件中提供的元数据包含在我们从内容创建的文档中。\n\n以下示例演示了如何使用 `JSONLoader` 提取元数据。\n\n有几个关键的变化需要注意。在先前未收集元数据的示例中，我们能够直接在 schema 中指定 `page_content` 的值来源。\n\n在此示例中，我们必须告诉加载器遍历 `messages` 字段中的记录。然后，`jq_schema` 必须是 `.messages[]`。\n\n这使我们能够将记录（dict）传递给必须实现的 `metadata_func`。`metadata_func` 负责识别记录中应包含在最终 `Document` 对象中存储的元数据中的信息片段。\n\n此外，现在我们必须通过 `content_key` 参数在加载器中明确指定，从记录中提取 `page_content` 值所需的键。"
      ]
    },
    {
      "cell_type": "code",
      "execution_count": 8,
      "metadata": {},
      "outputs": [
        {
          "name": "stdout",
          "output_type": "stream",
          "text": [
            "{'source': '/Users/isaachershenson/Documents/langchain/docs/docs/integrations/document_loaders/example_data/facebook_chat.json', 'seq_num': 1, 'sender_name': 'User 2', 'timestamp_ms': 1675597571851}\n"
          ]
        }
      ],
      "source": [
        "# Define the metadata extraction function.\n",
        "def metadata_func(record: dict, metadata: dict) -> dict:\n",
        "    metadata[\"sender_name\"] = record.get(\"sender_name\")\n",
        "    metadata[\"timestamp_ms\"] = record.get(\"timestamp_ms\")\n",
        "\n",
        "    return metadata\n",
        "\n",
        "\n",
        "loader = JSONLoader(\n",
        "    file_path=\"./example_data/facebook_chat.json\",\n",
        "    jq_schema=\".messages[]\",\n",
        "    content_key=\"content\",\n",
        "    metadata_func=metadata_func,\n",
        ")\n",
        "\n",
        "docs = loader.load()\n",
        "print(docs[0].metadata)"
      ]
    },
    {
      "cell_type": "markdown",
      "metadata": {},
      "source": [
        "## API 参考\n\n有关 JSONLoader 所有功能和配置的详细文档，请访问 API 参考：https://python.langchain.com/api_reference/community/document_loaders/langchain_community.document_loaders.json_loader.JSONLoader.html"
      ]
    }
  ],
  "metadata": {
    "kernelspec": {
      "display_name": "Python 3",
      "language": "python",
      "name": "python3"
    },
    "language_info": {
      "codemirror_mode": {
        "name": "ipython",
        "version": 3
      },
      "file_extension": ".py",
      "mimetype": "text/x-python",
      "name": "python",
      "nbconvert_exporter": "python",
      "pygments_lexer": "ipython3",
      "version": "3.11.9"
    }
  },
  "nbformat": 4,
  "nbformat_minor": 2
}