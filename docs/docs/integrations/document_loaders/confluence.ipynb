{
  "cells": [
    {
      "cell_type": "markdown",
      "metadata": {},
      "source": [
        "# Confluence\n\n[Confluence](https://www.atlassian.com/software/confluence) 是一个维基协作平台，旨在保存和组织所有项目相关的材料。作为知识库，Confluence 主要服务于内容管理活动。\n\n此加载器允许您获取 Confluence 页面并将其处理为 `Document` 对象。\n\n---\n\n## 认证方法\n\n支持以下认证方法：\n\n- `username/api_key`\n- `OAuth2 login`\n- `cookies`\n- 本地安装：`token` 认证\n\n---\n\n## 页面选择\n\n您可以使用以下方法指定要加载的页面：\n\n- **page_ids** (*list*):\n  一个 `page_id` 值列表，用于加载相应的页面。\n\n- **space_key** (*string*):\n  一个 `space_key` 值字符串，用于加载指定 Confluence 空间内的所有页面。\n\n如果同时提供了 `page_ids` 和 `space_key`，加载器将返回两者列表的并集。\n\n*提示：* `space_key` 和 `page_id` 都可以在 Confluence 页面的 URL 中找到：\n`https://yoursite.atlassian.com/wiki/spaces/{space_key}/pages/{page_id}`\n\n---\n\n## 附件\n\n您可以通过将布尔参数 **include_attachments** 设置为 `True`（默认值：`False`）来在加载的 `Document` 对象中包含附件。启用后，将下载所有附件并提取其文本内容，然后添加到 Document 中。\n\n**当前支持的附件类型：**\n\n- PDF (`.pdf`)\n- PNG (`.png`)\n- JPEG/JPG (`.jpeg`, `.jpg`)\n- SVG (`.svg`)\n- Word (`.doc`, `.docx`)\n- Excel (`.xls`, `.xlsx`)\n\n---"
      ]
    },
    {
      "cell_type": "markdown",
      "metadata": {},
      "source": [
        "在使用 ConfluenceLoader 之前，请确保您已安装最新版本的 atlassian-python-api 包："
      ]
    },
    {
      "cell_type": "code",
      "execution_count": 1,
      "metadata": {
        "tags": []
      },
      "outputs": [],
      "source": [
        "%pip install --upgrade --quiet  atlassian-python-api"
      ]
    },
    {
      "cell_type": "markdown",
      "metadata": {},
      "source": [
        "## 示例"
      ]
    },
    {
      "cell_type": "markdown",
      "metadata": {},
      "source": [
        "### 用户名和密码或用户名和 API Token（仅限 Atlassian Cloud）\n\n此示例使用用户名和密码进行身份验证，或者，如果你连接到 Confluence 的 Atlassian Cloud 托管版本，则使用用户名和 API Token。\n你可以在以下网址生成 API Token：https://id.atlassian.com/manage-profile/security/api-tokens。\n\n`limit` 参数指定单次调用将检索多少个文档，而不是总共检索多少个文档。\n默认情况下，代码将以 50 个文档的批次返回最多 1000 个文档。要控制文档总数，请使用 `max_pages` 参数。\n请注意，atlassian-python-api 包中 `limit` 参数的当前最大值为 100。"
      ]
    },
    {
      "cell_type": "code",
      "execution_count": null,
      "metadata": {},
      "outputs": [],
      "source": [
        "from langchain_community.document_loaders import ConfluenceLoader\n",
        "\n",
        "loader = ConfluenceLoader(\n",
        "    url=\"https://yoursite.atlassian.com/wiki\",\n",
        "    username=\"<your-confluence-username>\",\n",
        "    api_key=\"<your-api-token>\",\n",
        "    space_key=\"<your-space-key>\",\n",
        "    include_attachments=True,\n",
        "    limit=50,\n",
        ")\n",
        "documents = loader.load()"
      ]
    },
    {
      "cell_type": "markdown",
      "metadata": {},
      "source": [
        "### 个人访问令牌（仅限服务器/本地部署）\n\n此方法仅适用于数据中心/服务器本地部署版本。\n有关如何生成个人访问令牌 (PAT) 的更多信息，请参阅 Confluence 官方文档：https://confluence.atlassian.com/enterprise/using-personal-access-tokens-1026032365.html。\n使用 PAT 时，您只需提供令牌值，不能提供用户名。\n请注意，ConfluenceLoader 将以生成 PAT 的用户的权限运行，并且只能加载该用户有权访问的文档。"
      ]
    },
    {
      "cell_type": "code",
      "execution_count": null,
      "metadata": {},
      "outputs": [],
      "source": [
        "from langchain_community.document_loaders import ConfluenceLoader\n",
        "\n",
        "loader = ConfluenceLoader(\n",
        "    url=\"https://confluence.yoursite.com/\",\n",
        "    token=\"<your-personal-access-token>\",\n",
        "    space_key=\"<your-space-key>\",\n",
        "    include_attachments=True,\n",
        "    limit=50,\n",
        "    max_pages=50,\n",
        ")\n",
        "documents = loader.load()"
      ]
    }
  ],
  "metadata": {
    "kernelspec": {
      "display_name": "Python 3 (ipykernel)",
      "language": "python",
      "name": "python3"
    },
    "language_info": {
      "codemirror_mode": {
        "name": "ipython",
        "version": 3
      },
      "file_extension": ".py",
      "mimetype": "text/x-python",
      "name": "python",
      "nbconvert_exporter": "python",
      "pygments_lexer": "ipython3",
      "version": "3.9.1"
    },
    "vscode": {
      "interpreter": {
        "hash": "cc99336516f23363341912c6723b01ace86f02e26b4290be1efc0677e2e2ec24"
      }
    }
  },
  "nbformat": 4,
  "nbformat_minor": 4
}