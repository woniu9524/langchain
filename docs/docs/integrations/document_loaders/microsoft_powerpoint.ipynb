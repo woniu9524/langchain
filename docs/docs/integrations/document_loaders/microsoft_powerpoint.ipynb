{
  "cells": [
    {
      "cell_type": "markdown",
      "id": "39af9ecd",
      "metadata": {},
      "source": [
        "# Microsoft PowerPoint\n\n>[Microsoft PowerPoint](https://en.wikipedia.org/wiki/Microsoft_PowerPoint) 是微软推出的演示文稿程序。\n\n本文将介绍如何将 `Microsoft PowerPoint` 文档加载到一种可供下游使用的文档格式中。\n\n请参阅[此指南](/docs/integrations/providers/unstructured/)，了解有关本地设置 Unstructured 的更多说明，包括设置必需的系统依赖项。"
      ]
    },
    {
      "cell_type": "code",
      "execution_count": null,
      "id": "aef1500f",
      "metadata": {},
      "outputs": [],
      "source": [
        "# Install packages\n",
        "%pip install unstructured\n",
        "%pip install python-magic\n",
        "%pip install python-pptx"
      ]
    },
    {
      "cell_type": "code",
      "execution_count": 2,
      "id": "721c48aa",
      "metadata": {
        "tags": []
      },
      "outputs": [
        {
          "data": {
            "text/plain": [
              "[Document(page_content='Adding a Bullet Slide\\n\\nFind the bullet slide layout\\n\\nUse _TextFrame.text for first bullet\\n\\nUse _TextFrame.add_paragraph() for subsequent bullets\\n\\nHere is a lot of text!\\n\\nHere is some text in a text box!', metadata={'source': './example_data/fake-power-point.pptx'})]"
            ]
          },
          "execution_count": 2,
          "metadata": {},
          "output_type": "execute_result"
        }
      ],
      "source": [
        "from langchain_community.document_loaders import UnstructuredPowerPointLoader\n",
        "\n",
        "loader = UnstructuredPowerPointLoader(\"./example_data/fake-power-point.pptx\")\n",
        "\n",
        "data = loader.load()\n",
        "\n",
        "data"
      ]
    },
    {
      "cell_type": "markdown",
      "id": "525d6b67",
      "metadata": {},
      "source": [
        "### 保留元素\n\n在底层，`Unstructured` 会为不同的文本块创建不同的“元素”。默认情况下，我们会将它们组合在一起，但通过指定 `mode=\"elements\"`，您可以轻松地保持这种分离。"
      ]
    },
    {
      "cell_type": "code",
      "execution_count": 4,
      "id": "064f9162",
      "metadata": {},
      "outputs": [
        {
          "data": {
            "text/plain": [
              "Document(page_content='Adding a Bullet Slide', metadata={'source': './example_data/fake-power-point.pptx', 'category_depth': 0, 'file_directory': './example_data', 'filename': 'fake-power-point.pptx', 'last_modified': '2023-12-19T13:42:18', 'page_number': 1, 'languages': ['eng'], 'filetype': 'application/vnd.openxmlformats-officedocument.presentationml.presentation', 'category': 'Title'})"
            ]
          },
          "execution_count": 4,
          "metadata": {},
          "output_type": "execute_result"
        }
      ],
      "source": [
        "loader = UnstructuredPowerPointLoader(\n",
        "    \"./example_data/fake-power-point.pptx\", mode=\"elements\"\n",
        ")\n",
        "\n",
        "data = loader.load()\n",
        "\n",
        "data[0]"
      ]
    },
    {
      "cell_type": "markdown",
      "id": "b97180c2",
      "metadata": {},
      "source": [
        "## 使用 Azure AI Document Intelligence\n\n[Azure AI Document Intelligence](https://aka.ms/doc-intelligence)（以前称为 `Azure Form Recognizer`）是一项基于机器学习的服务，可从数字或扫描的 PDF、图像、Office 和 HTML 文件中提取文本（包括手写体）、表格、文档结构（例如标题、章节标题等）以及键值对。\n\nDocument Intelligence 支持 `PDF`、`JPEG/JPG`、`PNG`、`BMP`、`TIFF`、`HEIF`、`DOCX`、`XLSX`、`PPTX` 和 `HTML`。\n\n此加载器的当前实现使用 `Document Intelligence`，可以逐页地整合内容并将其转换为 LangChain 文档。默认输出格式为 markdown，可以轻松地与 `MarkdownHeaderTextSplitter` 链接以进行语义文档分块。您还可以使用 `mode=\"single\"` 或 `mode=\"page\"` 来返回纯文本，在一个页面中或按页面分割的文档中返回。"
      ]
    },
    {
      "cell_type": "markdown",
      "id": "11851fd0",
      "metadata": {},
      "source": [
        "## 先决条件\n\n需要一个 Azure AI Document Intelligence 资源，该资源位于以下三个预览区域之一：**美国东部 East US**、**美国西部 2 West US2** 或 **西欧 West Europe** - 如果您还没有该资源，请遵循[此文档](https://learn.microsoft.com/azure/ai-services/document-intelligence/create-document-intelligence-resource?view=doc-intel-4.0.0)进行创建。您将把 `<endpoint>` 和 `<key>` 作为参数传递给加载器。"
      ]
    },
    {
      "cell_type": "code",
      "execution_count": null,
      "id": "381d4139",
      "metadata": {},
      "outputs": [],
      "source": [
        "%pip install --upgrade --quiet  langchain langchain-community azure-ai-documentintelligence"
      ]
    },
    {
      "cell_type": "code",
      "execution_count": null,
      "id": "077525b8",
      "metadata": {},
      "outputs": [],
      "source": [
        "from langchain_community.document_loaders import AzureAIDocumentIntelligenceLoader\n",
        "\n",
        "file_path = \"<filepath>\"\n",
        "endpoint = \"<endpoint>\"\n",
        "key = \"<key>\"\n",
        "loader = AzureAIDocumentIntelligenceLoader(\n",
        "    api_endpoint=endpoint, api_key=key, file_path=file_path, api_model=\"prebuilt-layout\"\n",
        ")\n",
        "\n",
        "documents = loader.load()"
      ]
    }
  ],
  "metadata": {
    "kernelspec": {
      "display_name": "Python 3 (ipykernel)",
      "language": "python",
      "name": "python3"
    },
    "language_info": {
      "codemirror_mode": {
        "name": "ipython",
        "version": 3
      },
      "file_extension": ".py",
      "mimetype": "text/x-python",
      "name": "python",
      "nbconvert_exporter": "python",
      "pygments_lexer": "ipython3",
      "version": "3.10.5"
    }
  },
  "nbformat": 4,
  "nbformat_minor": 5
}