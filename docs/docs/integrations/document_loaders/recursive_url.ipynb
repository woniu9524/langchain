{
  "cells": [
    {
      "cell_type": "markdown",
      "id": "5a7cc773",
      "metadata": {},
      "source": [
        "# 递归 URL\n\n`RecursiveUrlLoader` 允许你从根 URL 递归地抓取所有子链接，并将它们解析成 Documents。\n\n## 概述\n### 集成详情\n\n| 类 | 包 | 本地 | 可序列化 | [JS 支持](https://js.langchain.com/docs/integrations/document_loaders/web_loaders/recursive_url_loader/)|\n| :--- | :--- | :---: | :---: |  :---: |\n| [RecursiveUrlLoader](https://python.langchain.com/api_reference/community/document_loaders/langchain_community.document_loaders.recursive_url_loader.RecursiveUrlLoader.html) | [langchain_community](https://python.langchain.com/api_reference/community/index.html) | ✅ | ❌ | ✅ |\n### 加载器特性\n| 源 | 文档延迟加载 | 本地异步支持\n| :---: | :---: | :---: |\n| RecursiveUrlLoader | ✅ | ❌ |"
      ]
    },
    {
      "cell_type": "markdown",
      "id": "947d29e7-3679-483d-973f-79ea3403a370",
      "metadata": {},
      "source": [
        "## 设置\n\n### 凭证\n\n要使用 `RecursiveUrlLoader`，无需提供凭证。\n\n### 安装\n\n`RecursiveUrlLoader` 位于 `langchain-community` 包中。没有其他必需的包，不过，如果你也安装了 `beautifulsoup4`，你将获得更丰富的默认文档元数据。"
      ]
    },
    {
      "cell_type": "code",
      "execution_count": null,
      "id": "23359ab0-8056-4dee-8bff-c38dc079f17f",
      "metadata": {},
      "outputs": [],
      "source": [
        "%pip install -qU langchain-community beautifulsoup4 lxml"
      ]
    },
    {
      "cell_type": "markdown",
      "id": "07985766-e4e9-4ea1-8a18-924fa4f294e5",
      "metadata": {},
      "source": [
        "## 实例化\n\n现在我们可以实例化文档加载器对象并加载文档了："
      ]
    },
    {
      "cell_type": "code",
      "execution_count": 1,
      "id": "cb208dcf-9ce9-4197-bc44-b80d20aa4e50",
      "metadata": {},
      "outputs": [],
      "source": [
        "from langchain_community.document_loaders import RecursiveUrlLoader\n",
        "\n",
        "loader = RecursiveUrlLoader(\n",
        "    \"https://docs.python.org/3.9/\",\n",
        "    # max_depth=2,\n",
        "    # use_async=False,\n",
        "    # extractor=None,\n",
        "    # metadata_extractor=None,\n",
        "    # exclude_dirs=(),\n",
        "    # timeout=10,\n",
        "    # check_response_status=True,\n",
        "    # continue_on_failure=True,\n",
        "    # prevent_outside=True,\n",
        "    # base_url=None,\n",
        "    # ...\n",
        ")"
      ]
    },
    {
      "cell_type": "markdown",
      "id": "0fac4425-735f-487d-a12b-c8ed2a209039",
      "metadata": {},
      "source": [
        "## 加载\n\n使用 ``.load()`` 同步将所有 Documents 加载到内存中，每个 Document 对应一个访问过的 URL。从初始 URL 开始，我们递归地查找所有链接的 URL，直到达到指定的 `max_depth`。\n\n让我们通过一个基本示例来演示如何在 [Python 3.9 文档](https://docs.python.org/3.9/)上使用 `RecursiveUrlLoader`。"
      ]
    },
    {
      "cell_type": "code",
      "execution_count": 2,
      "id": "a30843c8-4a59-43dc-bf60-f26532f0f8e1",
      "metadata": {},
      "outputs": [
        {
          "name": "stderr",
          "output_type": "stream",
          "text": [
            "/Users/bagatur/.pyenv/versions/3.9.1/lib/python3.9/html/parser.py:170: XMLParsedAsHTMLWarning: It looks like you're parsing an XML document using an HTML parser. If this really is an HTML document (maybe it's XHTML?), you can ignore or filter this warning. If it's XML, you should know that using an XML parser will be more reliable. To parse this document as XML, make sure you have the lxml package installed, and pass the keyword argument `features=\"xml\"` into the BeautifulSoup constructor.\n",
            "  k = self.parse_starttag(i)\n"
          ]
        },
        {
          "data": {
            "text/plain": [
              "{'source': 'https://docs.python.org/3.9/',\n",
              " 'content_type': 'text/html',\n",
              " 'title': '3.9.19 Documentation',\n",
              " 'language': None}"
            ]
          },
          "execution_count": 2,
          "metadata": {},
          "output_type": "execute_result"
        }
      ],
      "source": [
        "docs = loader.load()\n",
        "docs[0].metadata"
      ]
    },
    {
      "cell_type": "markdown",
      "id": "211856ed-6dd7-46c6-859e-11aaea9093db",
      "metadata": {},
      "source": [
        "太好了！第一个文档看起来是我们开始时的根页面。让我们看看下一个文档的元数据。"
      ]
    },
    {
      "cell_type": "code",
      "execution_count": 3,
      "id": "2d842c03-fab8-4097-9f4f-809b2e71c0ba",
      "metadata": {},
      "outputs": [
        {
          "data": {
            "text/plain": [
              "{'source': 'https://docs.python.org/3.9/using/index.html',\n",
              " 'content_type': 'text/html',\n",
              " 'title': 'Python Setup and Usage — Python 3.9.19 documentation',\n",
              " 'language': None}"
            ]
          },
          "execution_count": 3,
          "metadata": {},
          "output_type": "execute_result"
        }
      ],
      "source": [
        "docs[1].metadata"
      ]
    },
    {
      "cell_type": "markdown",
      "id": "f5714ace-7cc5-4c5c-9426-f68342880da0",
      "metadata": {},
      "source": [
        "这个 URL 看起来是我们根页面的子页面，太棒了！接下来，我们从元数据切换到查看我们其中一个文档的内容。"
      ]
    },
    {
      "cell_type": "code",
      "execution_count": 6,
      "id": "51dc6c67-6857-4298-9472-08b147f3a631",
      "metadata": {},
      "outputs": [
        {
          "name": "stdout",
          "output_type": "stream",
          "text": [
            "\n",
            "<!DOCTYPE html>\n",
            "\n",
            "<html xmlns=\"http://www.w3.org/1999/xhtml\">\n",
            "  <head>\n",
            "    <meta charset=\"utf-8\" /><title>3.9.19 Documentation</title><meta name=\"viewport\" content=\"width=device-width, initial-scale=1.0\">\n",
            "    \n",
            "    <link rel=\"stylesheet\" href=\"_static/pydoctheme.css\" type=\"text/css\" />\n",
            "    <link rel=\n"
          ]
        }
      ],
      "source": [
        "print(docs[0].page_content[:300])"
      ]
    },
    {
      "cell_type": "markdown",
      "id": "d87cc239",
      "metadata": {},
      "source": [
        "这看起来确实是我们期望从 URL https://docs.python.org/3.9/ 获取的 HTML。现在让我们看看一些可以对基本示例进行的修改，这些修改在不同情况下可能会有所帮助。"
      ]
    },
    {
      "cell_type": "markdown",
      "id": "b17b7202",
      "metadata": {},
      "source": [
        "## 延迟加载\n\n如果我们加载大量的 Documents，并且下游操作可以在所有已加载 Documents 的子集上完成，我们可以一次性延迟加载 Documents，从而最大限度地减少内存占用："
      ]
    },
    {
      "cell_type": "code",
      "execution_count": null,
      "id": "4b13e4d1",
      "metadata": {},
      "outputs": [
        {
          "name": "stderr",
          "output_type": "stream",
          "text": [
            "/var/folders/4j/2rz3865x6qg07tx43146py8h0000gn/T/ipykernel_73962/2110507528.py:6: XMLParsedAsHTMLWarning: It looks like you're parsing an XML document using an HTML parser. If this really is an HTML document (maybe it's XHTML?), you can ignore or filter this warning. If it's XML, you should know that using an XML parser will be more reliable. To parse this document as XML, make sure you have the lxml package installed, and pass the keyword argument `features=\"xml\"` into the BeautifulSoup constructor.\n",
            "  soup = BeautifulSoup(html, \"lxml\")\n"
          ]
        }
      ],
      "source": [
        "pages = []\n",
        "for doc in loader.lazy_load():\n",
        "    pages.append(doc)\n",
        "    if len(pages) >= 10:\n",
        "        # do some paged operation, e.g.\n",
        "        # index.upsert(page)\n",
        "\n",
        "        pages = []"
      ]
    },
    {
      "cell_type": "markdown",
      "id": "fb039682",
      "metadata": {},
      "source": [
        "在此示例中，我们一次最多只在内存中加载 10 个文档。"
      ]
    },
    {
      "cell_type": "markdown",
      "id": "8f41cc89",
      "metadata": {},
      "source": [
        "## 添加提取器\n\n默认情况下，加载器会将来自每个链接的原始 HTML 设置为 Document 页面的内容。要将此 HTML 解析为更适合人类/LLM 的格式，您可以传递一个自定义的 ``extractor`` 方法："
      ]
    },
    {
      "cell_type": "code",
      "execution_count": 21,
      "id": "33a6f5b8",
      "metadata": {},
      "outputs": [
        {
          "name": "stderr",
          "output_type": "stream",
          "text": [
            "/var/folders/td/vzm913rx77x21csd90g63_7c0000gn/T/ipykernel_10935/1083427287.py:6: XMLParsedAsHTMLWarning: It looks like you're parsing an XML document using an HTML parser. If this really is an HTML document (maybe it's XHTML?), you can ignore or filter this warning. If it's XML, you should know that using an XML parser will be more reliable. To parse this document as XML, make sure you have the lxml package installed, and pass the keyword argument `features=\"xml\"` into the BeautifulSoup constructor.\n",
            "  soup = BeautifulSoup(html, \"lxml\")\n",
            "/Users/isaachershenson/.pyenv/versions/3.11.9/lib/python3.11/html/parser.py:170: XMLParsedAsHTMLWarning: It looks like you're parsing an XML document using an HTML parser. If this really is an HTML document (maybe it's XHTML?), you can ignore or filter this warning. If it's XML, you should know that using an XML parser will be more reliable. To parse this document as XML, make sure you have the lxml package installed, and pass the keyword argument `features=\"xml\"` into the BeautifulSoup constructor.\n",
            "  k = self.parse_starttag(i)\n"
          ]
        },
        {
          "name": "stdout",
          "output_type": "stream",
          "text": [
            "3.9.19 Documentation\n",
            "\n",
            "Download\n",
            "Download these documents\n",
            "Docs by version\n",
            "\n",
            "Python 3.13 (in development)\n",
            "Python 3.12 (stable)\n",
            "Python 3.11 (security-fixes)\n",
            "Python 3.10 (security-fixes)\n",
            "Python 3.9 (securit\n"
          ]
        }
      ],
      "source": [
        "import re\n",
        "\n",
        "from bs4 import BeautifulSoup\n",
        "\n",
        "\n",
        "def bs4_extractor(html: str) -> str:\n",
        "    soup = BeautifulSoup(html, \"lxml\")\n",
        "    return re.sub(r\"\\n\\n+\", \"\\n\\n\", soup.text).strip()\n",
        "\n",
        "\n",
        "loader = RecursiveUrlLoader(\"https://docs.python.org/3.9/\", extractor=bs4_extractor)\n",
        "docs = loader.load()\n",
        "print(docs[0].page_content[:200])"
      ]
    },
    {
      "cell_type": "markdown",
      "id": "c8e8a826",
      "metadata": {},
      "source": [
        "这看起来漂亮多了！\n\n你同样可以传入一个 `metadata_extractor` 来自定义如何从 HTTP 响应中提取 Document 元数据。请参阅 [API reference](https://python.langchain.com/api_reference/community/document_loaders/langchain_community.document_loaders.recursive_url_loader.RecursiveUrlLoader.html) 以了解更多信息。"
      ]
    },
    {
      "cell_type": "markdown",
      "id": "3e4d1c8f",
      "metadata": {},
      "source": [
        "## API 参考\n\n这些示例仅展示了修改 `RecursiveUrlLoader` 默认行为的几种方式，但还有更多修改方式可以最适合您的用例。使用 `link_regex` 和 `exclude_dirs` 参数可以帮助您过滤掉不需要的 URL，`aload()` 和 `alazy_load()` 可用于异步加载，还有更多功能。\n\n有关配置和调用 ``RecursiveUrlLoader`` 的详细信息，请参阅 API 参考：https://python.langchain.com/api_reference/community/document_loaders/langchain_community.document_loaders.recursive_url_loader.RecursiveUrlLoader.html。"
      ]
    }
  ],
  "metadata": {
    "kernelspec": {
      "display_name": "Python 3 (ipykernel)",
      "language": "python",
      "name": "python3"
    },
    "language_info": {
      "codemirror_mode": {
        "name": "ipython",
        "version": 3
      },
      "file_extension": ".py",
      "mimetype": "text/x-python",
      "name": "python",
      "nbconvert_exporter": "python",
      "pygments_lexer": "ipython3",
      "version": "3.11.9"
    }
  },
  "nbformat": 4,
  "nbformat_minor": 5
}