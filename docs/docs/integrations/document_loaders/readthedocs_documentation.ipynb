{
  "cells": [
    {
      "cell_type": "markdown",
      "id": "17812129",
      "metadata": {},
      "source": [
        "# ReadTheDocs 文档\n\n>[Read the Docs](https://readthedocs.org/) 是一个开源免费软件文档托管平台。它由 `Sphinx` 文档生成器生成文档。\n\n本 notebook 介绍了如何加载通过 `Read-The-Docs` 构建生成的 HTML 内容。\n\n可以在[此处](https://github.com/langchain-ai/chat-langchain)找到实际应用示例。\n\n这假定 HTML 已经过抓取并保存在一个文件夹中。可以通过取消注释并运行以下命令来完成此操作"
      ]
    },
    {
      "cell_type": "code",
      "execution_count": null,
      "id": "3d153e07-8339-4cbe-8481-fc08644ba927",
      "metadata": {},
      "outputs": [],
      "source": [
        "%pip install --upgrade --quiet  beautifulsoup4"
      ]
    },
    {
      "cell_type": "code",
      "execution_count": null,
      "id": "84696e27",
      "metadata": {},
      "outputs": [],
      "source": [
        "#!wget -r -A.html -P rtdocs https://python.langchain.com/en/latest/"
      ]
    },
    {
      "cell_type": "code",
      "execution_count": 1,
      "id": "92dd950b",
      "metadata": {
        "tags": []
      },
      "outputs": [],
      "source": [
        "from langchain_community.document_loaders import ReadTheDocsLoader"
      ]
    },
    {
      "cell_type": "code",
      "execution_count": 3,
      "id": "494567c3",
      "metadata": {},
      "outputs": [],
      "source": [
        "loader = ReadTheDocsLoader(\"rtdocs\")"
      ]
    },
    {
      "cell_type": "code",
      "execution_count": null,
      "id": "e2e6d6f0",
      "metadata": {},
      "outputs": [],
      "source": [
        "docs = loader.load()"
      ]
    }
  ],
  "metadata": {
    "kernelspec": {
      "display_name": "Python 3 (ipykernel)",
      "language": "python",
      "name": "python3"
    },
    "language_info": {
      "codemirror_mode": {
        "name": "ipython",
        "version": 3
      },
      "file_extension": ".py",
      "mimetype": "text/x-python",
      "name": "python",
      "nbconvert_exporter": "python",
      "pygments_lexer": "ipython3",
      "version": "3.10.6"
    }
  },
  "nbformat": 4,
  "nbformat_minor": 5
}