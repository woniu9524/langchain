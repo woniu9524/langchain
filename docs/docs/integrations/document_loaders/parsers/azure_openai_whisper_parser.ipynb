{
  "cells": [
    {
      "cell_type": "markdown",
      "metadata": {},
      "source": [
        "# Azure OpenAI Whisper 解析器"
      ]
    },
    {
      "cell_type": "markdown",
      "metadata": {},
      "source": [
        ">[Azure OpenAI Whisper Parser](https://learn.microsoft.com/en-us/azure/ai-services/speech-service/whisper-overview) 是一个围绕 Azure OpenAI Whisper API 的封装器，它利用机器学习将音频文件转录为英文文本。\n\n该解析器支持 `.mp3`、`.mp4`、`.mpeg`、`.mpga`、`.m4a`、`.wav` 和 `.webm` 格式。\n\n当前的实现遵循 LangChain 核心原则，可以与其他加载器一起用于处理音频下载和解析。因此，该解析器将 `yield` 一个 `Iterator[Document]`。"
      ]
    },
    {
      "cell_type": "markdown",
      "metadata": {},
      "source": [
        "## 先决条件"
      ]
    },
    {
      "cell_type": "markdown",
      "metadata": {},
      "source": [
        "该服务需要 Azure 凭据、Azure 端点以及 Whisper Model 部署，您可以通过[此处](https://learn.microsoft.com/en-us/azure/ai-services/openai/whisper-quickstart?tabs=command-line%2Cpython-new%2Cjavascript&pivots=programming-language-python)的指南进行设置。此外，还必须安装所需的依赖项。"
      ]
    },
    {
      "cell_type": "code",
      "execution_count": null,
      "metadata": {},
      "outputs": [],
      "source": [
        "%pip install -Uq  langchain langchain-community openai"
      ]
    },
    {
      "cell_type": "markdown",
      "metadata": {},
      "source": [
        "## 示例 1"
      ]
    },
    {
      "cell_type": "markdown",
      "metadata": {},
      "source": [
        "`AzureOpenAIWhisperParser` 的 `.lazy_parse` 方法接受一个 `Blob` 对象作为参数，该对象包含要转录文件的文件路径。"
      ]
    },
    {
      "cell_type": "code",
      "execution_count": null,
      "metadata": {},
      "outputs": [],
      "source": [
        "from langchain_core.documents.base import Blob\n",
        "\n",
        "audio_path = \"path/to/your/audio/file\"\n",
        "audio_blob = Blob(path=audio_path)"
      ]
    },
    {
      "cell_type": "code",
      "execution_count": null,
      "metadata": {},
      "outputs": [],
      "source": [
        "from langchain_community.document_loaders.parsers.audio import AzureOpenAIWhisperParser\n",
        "\n",
        "endpoint = \"<your_endpoint>\"\n",
        "key = \"<your_api_key\"\n",
        "version = \"<your_api_version>\"\n",
        "name = \"<your_deployment_name>\"\n",
        "\n",
        "parser = AzureOpenAIWhisperParser(\n",
        "    api_key=key, azure_endpoint=endpoint, api_version=version, deployment_name=name\n",
        ")"
      ]
    },
    {
      "cell_type": "code",
      "execution_count": null,
      "metadata": {},
      "outputs": [],
      "source": [
        "documents = parser.lazy_parse(blob=audio_blob)"
      ]
    },
    {
      "cell_type": "code",
      "execution_count": null,
      "metadata": {},
      "outputs": [],
      "source": [
        "for doc in documents:\n",
        "    print(doc.page_content)"
      ]
    },
    {
      "cell_type": "markdown",
      "metadata": {},
      "source": [
        "## 示例 2"
      ]
    },
    {
      "cell_type": "markdown",
      "metadata": {},
      "source": [
        "`AzureOpenAIWhisperParser` 也可以与音频加载器结合使用，例如与 `GenericLoader` 一起使用的 `YoutubeAudioLoader`。"
      ]
    },
    {
      "cell_type": "code",
      "execution_count": null,
      "metadata": {},
      "outputs": [],
      "source": [
        "from langchain_community.document_loaders.blob_loaders.youtube_audio import (\n",
        "    YoutubeAudioLoader,\n",
        ")\n",
        "from langchain_community.document_loaders.generic import GenericLoader"
      ]
    },
    {
      "cell_type": "code",
      "execution_count": null,
      "metadata": {},
      "outputs": [],
      "source": [
        "# Must be a list\n",
        "url = [\"www.youtube.url.com\"]\n",
        "\n",
        "save_dir = \"save/directory/\""
      ]
    },
    {
      "cell_type": "code",
      "execution_count": null,
      "metadata": {},
      "outputs": [],
      "source": [
        "name = \"<your_deployment_name>\"\n",
        "\n",
        "loader = GenericLoader(\n",
        "    YoutubeAudioLoader(url, save_dir), AzureOpenAIWhisperParser(deployment_name=name)\n",
        ")\n",
        "\n",
        "docs = loader.load()"
      ]
    },
    {
      "cell_type": "code",
      "execution_count": null,
      "metadata": {},
      "outputs": [],
      "source": [
        "for doc in documents:\n",
        "    print(doc.page_content)"
      ]
    }
  ],
  "metadata": {
    "kernelspec": {
      "display_name": "Python 3",
      "language": "python",
      "name": "python3"
    },
    "language_info": {
      "codemirror_mode": {
        "name": "ipython",
        "version": 3
      },
      "file_extension": ".py",
      "mimetype": "text/x-python",
      "name": "python",
      "nbconvert_exporter": "python",
      "pygments_lexer": "ipython3",
      "version": "3.12.6"
    }
  },
  "nbformat": 4,
  "nbformat_minor": 2
}