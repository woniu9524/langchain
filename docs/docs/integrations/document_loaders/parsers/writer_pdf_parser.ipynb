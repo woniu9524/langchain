{
  "cells": [
    {
      "cell_type": "markdown",
      "id": "db23d51760310705",
      "metadata": {},
      "source": [
        "# Writer PDF 解析器\n\n本 Notebook 提供了 Writer `PDFParser` [文档加载器](/docs/concepts/document_loaders/) 的快速入门指南。\n\nWriter 的 [PDF 解析器](https://dev.writer.com/api-guides/api-reference/tool-api/pdf-parser#parse-pdf)可将 PDF 文档转换为文本或 Markdown 等其他格式。当您需要提取和处理 PDF 文件中的文本内容以进行进一步分析或集成到工作流程中时，这尤其有用。在 `langchain-writer` 中，我们提供了将 Writer 的 PDF 解析器作为 LangChain 文档解析器使用。\n\n## 概述\n\n### 集成详情\n| 类 | 包 | 本地 | 可序列化 | JS 支持 | 包下载 | 包最新版本 |\n|:---|:---|:---:|:---:|:---|:---|:---|\n| [PDFParser](https://github.com/writer/langchain-writer/blob/main/langchain_writer/pdf_parser.py#L55) | [langchain-writer](https://pypi.org/project/langchain-writer/) | ❌ | ❌ | ❌ | ![PyPI - Downloads](https://img.shields.io/pypi/dm/langchain-writer?style=flat-square&label=%20) | ![PyPI - Version](https://img.shields.io/pypi/v/langchain-writer?style=flat-square&label=%20) |"
      ]
    },
    {
      "cell_type": "markdown",
      "id": "c5f08d23df5dc127",
      "metadata": {},
      "source": [
        "## 设置\n\n`PDFParser` 可在 `langchain-writer` 包中使用："
      ]
    },
    {
      "cell_type": "code",
      "id": "a8d653f15b7ee32d",
      "metadata": {},
      "source": [
        "%pip install --quiet -U langchain-writer"
      ],
      "outputs": [],
      "execution_count": null
    },
    {
      "cell_type": "markdown",
      "id": "3b9709c26797edf",
      "metadata": {},
      "source": [
        "### 凭证\n\n注册 [Writer AI Studio](https://app.writer.com/aistudio/signup?utm_campaign=devrel) 以生成 API 密钥（您可以遵循此 [快速入门指南](https://dev.writer.com/api-guides/quickstart)）。然后，设置 WRITER_API_KEY 环境变量："
      ]
    },
    {
      "cell_type": "code",
      "id": "2983e19c9d555e58",
      "metadata": {},
      "source": [
        "import getpass\n",
        "import os\n",
        "\n",
        "if not os.getenv(\"WRITER_API_KEY\"):\n",
        "    os.environ[\"WRITER_API_KEY\"] = getpass.getpass(\"Enter your Writer API key: \")"
      ],
      "outputs": [],
      "execution_count": null
    },
    {
      "cell_type": "markdown",
      "id": "92a22c77f03d43dc",
      "metadata": {},
      "source": [
        "设置 [LangSmith](https://smith.langchain.com/) 以获得一流的可观察性也很有帮助（但非必需）。如果希望这样做，可以设置 `LANGSMITH_TRACING` 和 `LANGSMITH_API_KEY` 环境变量："
      ]
    },
    {
      "cell_type": "code",
      "id": "98d8422ecee77403",
      "metadata": {},
      "source": [
        "# os.environ[\"LANGSMITH_TRACING\"] = \"true\"\n",
        "# os.environ[\"LANGSMITH_API_KEY\"] = getpass.getpass()"
      ],
      "outputs": [],
      "execution_count": null
    },
    {
      "cell_type": "markdown",
      "id": "67ab78950a3da8ba",
      "metadata": {},
      "source": [
        "### 实例化\n\n接下来，实例化 Writer PDF Parser 并指定所需的输出格式："
      ]
    },
    {
      "cell_type": "code",
      "id": "787b3ba8af32533f",
      "metadata": {},
      "source": [
        "from langchain_writer.pdf_parser import PDFParser\n",
        "\n",
        "parser = PDFParser(format=\"markdown\")"
      ],
      "outputs": [],
      "execution_count": null
    },
    {
      "cell_type": "markdown",
      "id": "d91c6f752fd31cee",
      "metadata": {},
      "source": [
        "## 用法\n\n有两种使用 PDF 解析器的方法：同步或异步。在任何一种情况下，PDF 解析器都会返回一个 `Document` 对象列表，每个对象包含 PDF 文件中一页的解析内容。\n\n### 同步用法\n\n要同步调用 PDF 解析器，请将一个 `Blob` 对象传递给 `parse` 方法，该对象引用您想要解析的 PDF 文件："
      ]
    },
    {
      "cell_type": "code",
      "id": "d1a24b81a8a96f09",
      "metadata": {},
      "source": [
        "from langchain_core.documents.base import Blob\n",
        "\n",
        "file = Blob.from_path(\"../example_data/layout-parser-paper.pdf\")\n",
        "\n",
        "parsed_pages = parser.parse(blob=file)\n",
        "parsed_pages"
      ],
      "outputs": [],
      "execution_count": null
    },
    {
      "cell_type": "markdown",
      "id": "f89c048c7d23807a",
      "metadata": {},
      "source": [
        "### 异步使用\n\n要异步调用 PDF 解析器，请将 `Blob` 对象传递给 `aparse` 方法，该对象引用您要解析的 PDF 文件："
      ]
    },
    {
      "cell_type": "code",
      "id": "e2f7fd52b7188c6c",
      "metadata": {},
      "source": [
        "parsed_pages_async = await parser.aparse(blob=file)\n",
        "parsed_pages_async"
      ],
      "outputs": [],
      "execution_count": null
    },
    {
      "cell_type": "markdown",
      "id": "ab25a3bed8437a05",
      "metadata": {},
      "source": [
        "## API 参考\n\n如需 `PDFParser` 所有功能和配置的详细文档，请前往 [API 参考](https://python.langchain.com/api_reference/writer/pdf_parser/langchain_writer.pdf_parser.PDFParser.html#langchain_writer.pdf_parser.PDFParser)。\n\n## 附加资源\n您可以在 [Writer 文档](https://dev.writer.com/home) 中找到有关 Writer 模型（包括成本、上下文窗口和支持的输入类型）以及工具的信息。"
      ]
    }
  ],
  "metadata": {
    "kernelspec": {
      "display_name": "Python 3",
      "language": "python",
      "name": "python3"
    },
    "language_info": {
      "codemirror_mode": {
        "name": "ipython",
        "version": 2
      },
      "file_extension": ".py",
      "mimetype": "text/x-python",
      "name": "python",
      "nbconvert_exporter": "python",
      "pygments_lexer": "ipython2",
      "version": "2.7.6"
    }
  },
  "nbformat": 4,
  "nbformat_minor": 5
}