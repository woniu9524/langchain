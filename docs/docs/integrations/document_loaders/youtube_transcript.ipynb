{
  "cells": [
    {
      "attachments": {},
      "cell_type": "markdown",
      "id": "df770c72",
      "metadata": {},
      "source": [
        "# YouTube 转录\n\n>[YouTube](https://www.youtube.com/) 是由 Google 创建的在线视频分享和社交媒体平台。\n\n本笔记本介绍了如何从 `YouTube transcripts` 加载文档。"
      ]
    },
    {
      "cell_type": "code",
      "execution_count": null,
      "id": "427d5745",
      "metadata": {},
      "outputs": [],
      "source": [
        "from langchain_community.document_loaders import YoutubeLoader"
      ]
    },
    {
      "cell_type": "code",
      "execution_count": null,
      "id": "34a25b57",
      "metadata": {
        "scrolled": true
      },
      "outputs": [],
      "source": [
        "%pip install --upgrade --quiet  youtube-transcript-api"
      ]
    },
    {
      "cell_type": "code",
      "execution_count": null,
      "id": "bc8b308a",
      "metadata": {},
      "outputs": [],
      "source": [
        "loader = YoutubeLoader.from_youtube_url(\n",
        "    \"https://www.youtube.com/watch?v=QsYGlZkevEg\", add_video_info=False\n",
        ")"
      ]
    },
    {
      "cell_type": "code",
      "execution_count": null,
      "id": "d073dd36",
      "metadata": {},
      "outputs": [],
      "source": [
        "loader.load()"
      ]
    },
    {
      "attachments": {},
      "cell_type": "markdown",
      "id": "6b278a1b",
      "metadata": {},
      "source": [
        "### 添加视频信息"
      ]
    },
    {
      "cell_type": "code",
      "execution_count": null,
      "id": "ba28af69",
      "metadata": {},
      "outputs": [],
      "source": [
        "%pip install --upgrade --quiet  pytube"
      ]
    },
    {
      "cell_type": "code",
      "execution_count": null,
      "id": "9b8ea390",
      "metadata": {},
      "outputs": [],
      "source": [
        "loader = YoutubeLoader.from_youtube_url(\n",
        "    \"https://www.youtube.com/watch?v=QsYGlZkevEg\", add_video_info=True\n",
        ")\n",
        "loader.load()"
      ]
    },
    {
      "attachments": {},
      "cell_type": "markdown",
      "id": "fc417e31",
      "metadata": {},
      "source": [
        "### 添加语言偏好\n\n`language` 参数：一个语言代码列表，按优先级降序排列，默认为 `en`。\n\n`translation` 参数：一个翻译偏好设置，您可以将可用的字幕翻译成您喜欢的语言。"
      ]
    },
    {
      "cell_type": "code",
      "execution_count": null,
      "id": "08510625",
      "metadata": {},
      "outputs": [],
      "source": [
        "loader = YoutubeLoader.from_youtube_url(\n",
        "    \"https://www.youtube.com/watch?v=QsYGlZkevEg\",\n",
        "    add_video_info=True,\n",
        "    language=[\"en\", \"id\"],\n",
        "    translation=\"en\",\n",
        ")\n",
        "loader.load()"
      ]
    },
    {
      "cell_type": "markdown",
      "id": "69f4e399a9764d73",
      "metadata": {},
      "source": [
        "### 获取带时间戳的字幕块\n\n获取一个或多个 `Document` 对象，每个对象包含视频字幕的一个块。可以指定块的长度（以秒为单位）。每个块的元数据包含一个 YouTube 视频的 URL，该 URL 将从特定块的开头开始播放视频。\n\n`transcript_format` 参数：`langchain_community.document_loaders.youtube.TranscriptFormat` 的值之一。在此情况下为 `TranscriptFormat.CHUNKS`。\n\n`chunk_size_seconds` 参数：代表每个字幕数据块的视频秒数。默认为 120 秒。"
      ]
    },
    {
      "cell_type": "code",
      "execution_count": null,
      "id": "540bbf19182f38bc",
      "metadata": {},
      "outputs": [],
      "source": [
        "from langchain_community.document_loaders.youtube import TranscriptFormat\n",
        "\n",
        "loader = YoutubeLoader.from_youtube_url(\n",
        "    \"https://www.youtube.com/watch?v=TKCMw0utiak\",\n",
        "    add_video_info=True,\n",
        "    transcript_format=TranscriptFormat.CHUNKS,\n",
        "    chunk_size_seconds=30,\n",
        ")\n",
        "print(\"\\n\\n\".join(map(repr, loader.load())))"
      ]
    },
    {
      "attachments": {},
      "cell_type": "markdown",
      "id": "65796cc5",
      "metadata": {},
      "source": [
        "## YouTube 加载器，来自 Google Cloud\n\n### 先决条件\n\n1. 创建一个 Google Cloud 项目或使用现有项目\n1. 启用 [YouTube API](https://console.cloud.google.com/apis/enableflow?apiid=youtube.googleapis.com&project=sixth-grammar-344520)\n1. [授权桌面应用的凭据](https://developers.google.com/drive/api/quickstart/python#authorize_credentials_for_a_desktop_application)\n1. `pip install --upgrade google-api-python-client google-auth-httplib2 google-auth-oauthlib youtube-transcript-api`\n\n### 🧑 ingest 您的 Google Docs 数据的说明\n默认情况下，`GoogleDriveLoader` 期望 `credentials.json` 文件位于 `~/.credentials/credentials.json`，但这可以通过 `credentials_file` 关键字参数进行配置。`token.json` 同理。请注意，`token.json` 将在您首次使用加载器时自动创建。\n\n`GoogleApiYoutubeLoader` 可以从 Google Docs 文档 ID 列表或文件夹 ID 加载数据。您可以从 URL 获取您的文件夹和文档 ID：\n请注意，根据您的设置，可能需要设置 `service_account_path`。更多详情请参见 [此处](https://developers.google.com/drive/api/v3/quickstart/python)。"
      ]
    },
    {
      "cell_type": "code",
      "execution_count": null,
      "id": "c345bc43",
      "metadata": {},
      "outputs": [],
      "source": [
        "# Init the GoogleApiClient\n",
        "from pathlib import Path\n",
        "\n",
        "from langchain_community.document_loaders import GoogleApiClient, GoogleApiYoutubeLoader\n",
        "\n",
        "google_api_client = GoogleApiClient(credentials_path=Path(\"your_path_creds.json\"))\n",
        "\n",
        "\n",
        "# Use a Channel\n",
        "youtube_loader_channel = GoogleApiYoutubeLoader(\n",
        "    google_api_client=google_api_client,\n",
        "    channel_name=\"Reducible\",\n",
        "    captions_language=\"en\",\n",
        ")\n",
        "\n",
        "# Use Youtube Ids\n",
        "\n",
        "youtube_loader_ids = GoogleApiYoutubeLoader(\n",
        "    google_api_client=google_api_client, video_ids=[\"TrdevFK_am4\"], add_video_info=True\n",
        ")\n",
        "\n",
        "# returns a list of Documents\n",
        "youtube_loader_channel.load()"
      ]
    }
  ],
  "metadata": {
    "kernelspec": {
      "display_name": "Python 3 (ipykernel)",
      "language": "python",
      "name": "python3"
    },
    "language_info": {
      "codemirror_mode": {
        "name": "ipython",
        "version": 3
      },
      "file_extension": ".py",
      "mimetype": "text/x-python",
      "name": "python",
      "nbconvert_exporter": "python",
      "pygments_lexer": "ipython3",
      "version": "3.10.6"
    },
    "vscode": {
      "interpreter": {
        "hash": "604c1013f65d31a2eb1fca07aae054bedd5a5a0d272dbb31e502c81f0b254b99"
      }
    }
  },
  "nbformat": 4,
  "nbformat_minor": 5
}