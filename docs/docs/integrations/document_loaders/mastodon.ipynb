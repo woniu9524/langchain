{
  "cells": [
    {
      "cell_type": "markdown",
      "id": "66a7777e",
      "metadata": {},
      "source": [
        "# Mastodon\n\n>[Mastodon](https://joinmastodon.org/) 是一个联合的社交媒体和社交网络服务。\n\n此加载器使用 `Mastodon.py` Python 包，获取一组 `Mastodon` 账户的“toots”中的文本。\n\n默认情况下，可以查询公共账户而无需任何身份验证。如果查询非公共账户或实例，您需要为您的账户注册一个应用程序，该应用程序会为您生成一个访问令牌，并设置该令牌和您账户的 API 基础 URL。\n\n然后，您需要以 `@account@instance` 的格式传入您想要提取的 Mastodon 账户名称。"
      ]
    },
    {
      "cell_type": "code",
      "execution_count": null,
      "id": "9ec8a3b3",
      "metadata": {},
      "outputs": [],
      "source": [
        "from langchain_community.document_loaders import MastodonTootsLoader"
      ]
    },
    {
      "cell_type": "code",
      "execution_count": 2,
      "id": "43128d8d",
      "metadata": {},
      "outputs": [],
      "source": [
        "%pip install --upgrade --quiet  Mastodon.py"
      ]
    },
    {
      "cell_type": "code",
      "execution_count": 3,
      "id": "35d6809a",
      "metadata": {
        "pycharm": {
          "name": "#%%\n"
        }
      },
      "outputs": [],
      "source": [
        "loader = MastodonTootsLoader(\n",
        "    mastodon_accounts=[\"@Gargron@mastodon.social\"],\n",
        "    number_toots=50,  # Default value is 100\n",
        ")\n",
        "\n",
        "# Or set up access information to use a Mastodon app.\n",
        "# Note that the access token can either be passed into\n",
        "# constructor or you can set the environment \"MASTODON_ACCESS_TOKEN\".\n",
        "# loader = MastodonTootsLoader(\n",
        "#     access_token=\"<ACCESS TOKEN OF MASTODON APP>\",\n",
        "#     api_base_url=\"<API BASE URL OF MASTODON APP INSTANCE>\",\n",
        "#     mastodon_accounts=[\"@Gargron@mastodon.social\"],\n",
        "#     number_toots=50,  # Default value is 100\n",
        "# )"
      ]
    },
    {
      "cell_type": "code",
      "execution_count": 6,
      "id": "05fe33b9",
      "metadata": {
        "pycharm": {
          "name": "#%%\n"
        }
      },
      "outputs": [
        {
          "name": "stdout",
          "output_type": "stream",
          "text": [
            "<p>It is tough to leave this behind and go back to reality. And some people live here! I’m sure there are downsides but it sounds pretty good to me right now.</p>\n",
            "================================================================================\n",
            "<p>I wish we could stay here a little longer, but it is time to go home 🥲</p>\n",
            "================================================================================\n",
            "<p>Last day of the honeymoon. And it’s <a href=\"https://mastodon.social/tags/caturday\" class=\"mention hashtag\" rel=\"tag\">#<span>caturday</span></a>! This cute tabby came to the restaurant to beg for food and got some chicken.</p>\n",
            "================================================================================\n"
          ]
        }
      ],
      "source": [
        "documents = loader.load()\n",
        "for doc in documents[:3]:\n",
        "    print(doc.page_content)\n",
        "    print(\"=\" * 80)"
      ]
    },
    {
      "cell_type": "markdown",
      "id": "322bb6a1",
      "metadata": {},
      "source": [
        "toot 文本（文档的 `page_content`）默认是 Mastodon API 返回的 HTML。"
      ]
    }
  ],
  "metadata": {
    "kernelspec": {
      "display_name": "Python 3 (ipykernel)",
      "language": "python",
      "name": "python3"
    },
    "language_info": {
      "codemirror_mode": {
        "name": "ipython",
        "version": 3
      },
      "file_extension": ".py",
      "mimetype": "text/x-python",
      "name": "python",
      "nbconvert_exporter": "python",
      "pygments_lexer": "ipython3",
      "version": "3.11.3"
    }
  },
  "nbformat": 4,
  "nbformat_minor": 5
}