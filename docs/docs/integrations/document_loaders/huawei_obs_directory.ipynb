{
  "cells": [
    {
      "cell_type": "markdown",
      "id": "c83b6a4c",
      "metadata": {},
      "source": [
        "# Huawei OBS 目录\n以下代码展示了如何将华为 OBS（对象存储服务）中的对象作为文档进行加载。"
      ]
    },
    {
      "cell_type": "code",
      "execution_count": null,
      "id": "c2191935",
      "metadata": {},
      "outputs": [],
      "source": [
        "# Install the required package\n",
        "# pip install esdk-obs-python"
      ]
    },
    {
      "cell_type": "code",
      "execution_count": 1,
      "id": "55fca3b4",
      "metadata": {},
      "outputs": [],
      "source": [
        "from langchain_community.document_loaders import OBSDirectoryLoader"
      ]
    },
    {
      "cell_type": "code",
      "execution_count": 2,
      "id": "c3ed419f",
      "metadata": {},
      "outputs": [],
      "source": [
        "endpoint = \"your-endpoint\""
      ]
    },
    {
      "cell_type": "code",
      "execution_count": 3,
      "id": "3428fd4e",
      "metadata": {},
      "outputs": [],
      "source": [
        "# Configure your access credentials\\n\n",
        "config = {\"ak\": \"your-access-key\", \"sk\": \"your-secret-key\"}\n",
        "loader = OBSDirectoryLoader(\"your-bucket-name\", endpoint=endpoint, config=config)"
      ]
    },
    {
      "cell_type": "code",
      "execution_count": null,
      "id": "9beede9f",
      "metadata": {},
      "outputs": [],
      "source": [
        "loader.load()"
      ]
    },
    {
      "cell_type": "markdown",
      "id": "1e20a839",
      "metadata": {},
      "source": [
        "## 指定加载的前缀\n\n如果你想从存储桶中加载具有特定前缀的对象，可以使用以下代码："
      ]
    },
    {
      "cell_type": "code",
      "execution_count": 4,
      "id": "125f311d",
      "metadata": {},
      "outputs": [],
      "source": [
        "loader = OBSDirectoryLoader(\n",
        "    \"your-bucket-name\", endpoint=endpoint, config=config, prefix=\"test_prefix\"\n",
        ")"
      ]
    },
    {
      "cell_type": "code",
      "execution_count": null,
      "id": "b3488037",
      "metadata": {},
      "outputs": [],
      "source": [
        "loader.load()"
      ]
    },
    {
      "cell_type": "markdown",
      "id": "84c82c0a",
      "metadata": {},
      "source": [
        "## 从 ECS 获取认证信息\n如果您的 langchain 部署在华为云 ECS 上并已设置 [代理](https://support.huaweicloud.com/intl/zh-cn/usermanual-ecs/ecs_03_0166.html#section7)，加载器可以直接从 ECS 获取安全令牌，而无需访问密钥和密钥。"
      ]
    },
    {
      "cell_type": "code",
      "execution_count": 5,
      "id": "1db99969",
      "metadata": {},
      "outputs": [],
      "source": [
        "config = {\"get_token_from_ecs\": True}\n",
        "loader = OBSDirectoryLoader(\"your-bucket-name\", endpoint=endpoint, config=config)"
      ]
    },
    {
      "cell_type": "code",
      "execution_count": null,
      "id": "57dd9f35",
      "metadata": {},
      "outputs": [],
      "source": [
        "loader.load()"
      ]
    },
    {
      "cell_type": "markdown",
      "id": "30205d25",
      "metadata": {},
      "source": [
        "## 使用公共存储桶\n如果您的存储桶的存储桶策略允许匿名访问（匿名用户拥有 `listBucket` 和 `GetObject` 权限），您可以直接加载对象，无需配置 `config` 参数。"
      ]
    },
    {
      "cell_type": "code",
      "execution_count": 6,
      "id": "4dfa2ef0",
      "metadata": {},
      "outputs": [],
      "source": [
        "loader = OBSDirectoryLoader(\"your-bucket-name\", endpoint=endpoint)"
      ]
    },
    {
      "cell_type": "code",
      "execution_count": null,
      "id": "67d4c1d0",
      "metadata": {},
      "outputs": [],
      "source": [
        "loader.load()"
      ]
    }
  ],
  "metadata": {
    "kernelspec": {
      "display_name": "Python 3 (ipykernel)",
      "language": "python",
      "name": "python3"
    },
    "language_info": {
      "codemirror_mode": {
        "name": "ipython",
        "version": 3
      },
      "file_extension": ".py",
      "mimetype": "text/x-python",
      "name": "python",
      "nbconvert_exporter": "python",
      "pygments_lexer": "ipython3",
      "version": "3.10.7"
    }
  },
  "nbformat": 4,
  "nbformat_minor": 5
}