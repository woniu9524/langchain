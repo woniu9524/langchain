{
  "cells": [
    {
      "cell_type": "markdown",
      "id": "9fdbd55d",
      "metadata": {},
      "source": [
        "# 邮件\n\n本笔记本展示了如何加载电子邮件（`.eml`）或 `Microsoft Outlook`（`.msg`）文件。\n\n有关在本地设置 Unstructured 的更多说明，包括设置所需的系统依赖项，请参阅[本指南](/docs/integrations/providers/unstructured/)。"
      ]
    },
    {
      "cell_type": "markdown",
      "id": "89caa348",
      "metadata": {},
      "source": [
        "## 使用 Unstructured"
      ]
    },
    {
      "cell_type": "code",
      "execution_count": null,
      "id": "226e50aa-407d-43d9-a81d-f6706298b10c",
      "metadata": {
        "tags": []
      },
      "outputs": [],
      "source": [
        "%pip install --upgrade --quiet unstructured"
      ]
    },
    {
      "cell_type": "code",
      "execution_count": 3,
      "id": "2d20b852",
      "metadata": {
        "tags": []
      },
      "outputs": [
        {
          "data": {
            "text/plain": [
              "[Document(page_content='This is a test email to use for unit tests.\\n\\nImportant points:\\n\\nRoses are red\\n\\nViolets are blue', metadata={'source': './example_data/fake-email.eml'})]"
            ]
          },
          "execution_count": 3,
          "metadata": {},
          "output_type": "execute_result"
        }
      ],
      "source": [
        "from langchain_community.document_loaders import UnstructuredEmailLoader\n",
        "\n",
        "loader = UnstructuredEmailLoader(\"./example_data/fake-email.eml\")\n",
        "\n",
        "data = loader.load()\n",
        "\n",
        "data"
      ]
    },
    {
      "cell_type": "markdown",
      "id": "8bf50cba",
      "metadata": {},
      "source": [
        "### 保留元素\n\n在底层，Unstructured 会为不同的文本块创建不同的“元素”。默认情况下，我们会将它们合并在一起，但您可以通过指定 `mode=\"elements\"` 来轻松保持这种分离。"
      ]
    },
    {
      "cell_type": "code",
      "execution_count": 4,
      "id": "b9592eaf",
      "metadata": {},
      "outputs": [
        {
          "data": {
            "text/plain": [
              "Document(page_content='This is a test email to use for unit tests.', metadata={'source': 'example_data/fake-email.eml', 'file_directory': 'example_data', 'filename': 'fake-email.eml', 'last_modified': '2022-12-16T17:04:16-05:00', 'sent_from': ['Matthew Robinson <mrobinson@unstructured.io>'], 'sent_to': ['Matthew Robinson <mrobinson@unstructured.io>'], 'subject': 'Test Email', 'languages': ['eng'], 'filetype': 'message/rfc822', 'category': 'NarrativeText'})"
            ]
          },
          "execution_count": 4,
          "metadata": {},
          "output_type": "execute_result"
        }
      ],
      "source": [
        "loader = UnstructuredEmailLoader(\"example_data/fake-email.eml\", mode=\"elements\")\n",
        "\n",
        "data = loader.load()\n",
        "\n",
        "data[0]"
      ]
    },
    {
      "cell_type": "markdown",
      "id": "5021f20a",
      "metadata": {},
      "source": [
        "### 处理附件\n\n您可以通过在构造函数中设置 `process_attachments=True` 来使用 `UnstructuredEmailLoader` 处理附件。默认情况下，附件将使用 `unstructured` 中的 `partition` 函数进行分区。您可以通过将函数传递给 `attachment_partitioner` 关键字参数来使用不同的分区函数。"
      ]
    },
    {
      "cell_type": "code",
      "execution_count": 5,
      "id": "6539f166",
      "metadata": {},
      "outputs": [
        {
          "data": {
            "text/plain": [
              "Document(page_content='This is a test email to use for unit tests.', metadata={'source': 'example_data/fake-email.eml', 'file_directory': 'example_data', 'filename': 'fake-email.eml', 'last_modified': '2022-12-16T17:04:16-05:00', 'sent_from': ['Matthew Robinson <mrobinson@unstructured.io>'], 'sent_to': ['Matthew Robinson <mrobinson@unstructured.io>'], 'subject': 'Test Email', 'languages': ['eng'], 'filetype': 'message/rfc822', 'category': 'NarrativeText'})"
            ]
          },
          "execution_count": 5,
          "metadata": {},
          "output_type": "execute_result"
        }
      ],
      "source": [
        "loader = UnstructuredEmailLoader(\n",
        "    \"example_data/fake-email.eml\",\n",
        "    mode=\"elements\",\n",
        "    process_attachments=True,\n",
        ")\n",
        "\n",
        "data = loader.load()\n",
        "\n",
        "data[0]"
      ]
    },
    {
      "cell_type": "markdown",
      "id": "6a074515",
      "metadata": {},
      "source": [
        "## 使用 OutlookMessageLoader\n\nThis loader allows you to **load data from Outlook"
      ]
    },
    {
      "cell_type": "code",
      "execution_count": null,
      "id": "058e670e-9964-44ee-b888-44f23ffb9310",
      "metadata": {},
      "outputs": [],
      "source": [
        "%pip install --upgrade --quiet extract_msg"
      ]
    },
    {
      "cell_type": "code",
      "execution_count": 7,
      "id": "1e7a8444",
      "metadata": {},
      "outputs": [
        {
          "data": {
            "text/plain": [
              "Document(page_content='This is a test email to experiment with the MS Outlook MSG Extractor\\r\\n\\r\\n\\r\\n-- \\r\\n\\r\\n\\r\\nKind regards\\r\\n\\r\\n\\r\\n\\r\\n\\r\\nBrian Zhou\\r\\n\\r\\n', metadata={'source': 'example_data/fake-email.msg', 'subject': 'Test for TIF files', 'sender': 'Brian Zhou <brizhou@gmail.com>', 'date': datetime.datetime(2013, 11, 18, 0, 26, 24, tzinfo=zoneinfo.ZoneInfo(key='America/Los_Angeles'))})"
            ]
          },
          "execution_count": 7,
          "metadata": {},
          "output_type": "execute_result"
        }
      ],
      "source": [
        "from langchain_community.document_loaders import OutlookMessageLoader\n",
        "\n",
        "loader = OutlookMessageLoader(\"example_data/fake-email.msg\")\n",
        "\n",
        "data = loader.load()\n",
        "\n",
        "data[0]"
      ]
    },
    {
      "cell_type": "code",
      "execution_count": null,
      "id": "2b223ce2",
      "metadata": {},
      "outputs": [],
      "source": []
    }
  ],
  "metadata": {
    "kernelspec": {
      "display_name": "Python 3 (ipykernel)",
      "language": "python",
      "name": "python3"
    },
    "language_info": {
      "codemirror_mode": {
        "name": "ipython",
        "version": 3
      },
      "file_extension": ".py",
      "mimetype": "text/x-python",
      "name": "python",
      "nbconvert_exporter": "python",
      "pygments_lexer": "ipython3",
      "version": "3.10.5"
    }
  },
  "nbformat": 4,
  "nbformat_minor": 5
}