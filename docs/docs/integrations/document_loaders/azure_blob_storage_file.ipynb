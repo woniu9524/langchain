{
  "cells": [
    {
      "cell_type": "markdown",
      "id": "66a7777e",
      "metadata": {},
      "source": [
        "# Azure Blob Storage 文件\n\n>[Azure Files](https://learn.microsoft.com/en-us/azure/storage/files/storage-files-introduction) 提供完全托管的云文件共享，可通过行业标准的服务消息块（`SMB`）协议、网络文件系统（`NFS`）协议和 `Azure Files REST API` 进行访问。\n\n本部分将介绍如何从 Azure Files 加载文档对象。"
      ]
    },
    {
      "cell_type": "code",
      "execution_count": 1,
      "id": "43128d8d",
      "metadata": {
        "tags": []
      },
      "outputs": [],
      "source": [
        "%pip install --upgrade --quiet  azure-storage-blob"
      ]
    },
    {
      "cell_type": "code",
      "execution_count": 1,
      "id": "9ec8a3b3",
      "metadata": {},
      "outputs": [],
      "source": [
        "from langchain_community.document_loaders import AzureBlobStorageFileLoader"
      ]
    },
    {
      "cell_type": "code",
      "execution_count": 8,
      "id": "35d6809a",
      "metadata": {},
      "outputs": [],
      "source": [
        "loader = AzureBlobStorageFileLoader(\n",
        "    conn_str=\"<connection string>\",\n",
        "    container=\"<container name>\",\n",
        "    blob_name=\"<blob name>\",\n",
        ")"
      ]
    },
    {
      "cell_type": "code",
      "execution_count": 9,
      "id": "efd6be84",
      "metadata": {},
      "outputs": [
        {
          "data": {
            "text/plain": [
              "[Document(page_content='Lorem ipsum dolor sit amet.', lookup_str='', metadata={'source': '/var/folders/y6/8_bzdg295ld6s1_97_12m4lr0000gn/T/tmpxvave6wl/fake.docx'}, lookup_index=0)]"
            ]
          },
          "execution_count": 9,
          "metadata": {},
          "output_type": "execute_result"
        }
      ],
      "source": [
        "loader.load()"
      ]
    },
    {
      "cell_type": "code",
      "execution_count": null,
      "id": "93689594",
      "metadata": {},
      "outputs": [],
      "source": []
    }
  ],
  "metadata": {
    "kernelspec": {
      "display_name": "Python 3 (ipykernel)",
      "language": "python",
      "name": "python3"
    },
    "language_info": {
      "codemirror_mode": {
        "name": "ipython",
        "version": 3
      },
      "file_extension": ".py",
      "mimetype": "text/x-python",
      "name": "python",
      "nbconvert_exporter": "python",
      "pygments_lexer": "ipython3",
      "version": "3.10.6"
    }
  },
  "nbformat": 4,
  "nbformat_minor": 5
}