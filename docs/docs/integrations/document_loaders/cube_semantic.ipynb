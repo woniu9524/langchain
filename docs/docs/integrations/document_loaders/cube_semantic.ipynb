{
  "cells": [
    {
      "attachments": {},
      "cell_type": "markdown",
      "metadata": {},
      "source": [
        "# Cube 语义层"
      ]
    },
    {
      "attachments": {},
      "cell_type": "markdown",
      "metadata": {},
      "source": [
        "本笔记本演示了如何以适合传递给 LLM 作为嵌入（embeddings）的格式检索 Cube 的数据模型元数据，从而增强上下文信息。"
      ]
    },
    {
      "attachments": {},
      "cell_type": "markdown",
      "metadata": {},
      "source": [
        "### 关于 Cube"
      ]
    },
    {
      "attachments": {},
      "cell_type": "markdown",
      "metadata": {},
      "source": [
        "[Cube](https://cube.dev/) 是用于构建数据应用的语义层。它帮助数据工程师和应用开发者从现代数据存储访问数据，将其组织成一致的定义，并将其交付给每个应用。"
      ]
    },
    {
      "attachments": {},
      "cell_type": "markdown",
      "metadata": {},
      "source": [
        "Cube 的数据模型提供结构和定义，用作 LLM 理解数据和生成正确查询的上下文。LLM 不需要导航复杂的连接和指标计算，因为 Cube 对这些进行了抽象，并提供了一个简单的接口，该接口基于业务层面的术语进行操作，而不是 SQL 表和列名。这种简化有助于减少 LLM 的出错几率并避免事实错误。"
      ]
    },
    {
      "attachments": {},
      "cell_type": "markdown",
      "metadata": {},
      "source": [
        "### 示例"
      ]
    },
    {
      "attachments": {},
      "cell_type": "markdown",
      "metadata": {},
      "source": [
        "**必需的输入参数**\n\n`Cube Semantic Loader` 需要 2 个参数：\n\n- `cube_api_url`: 您 Cube 部署的 REST API 的 URL。请参阅 [Cube 文档](https://cube.dev/docs/http-api/rest#configuration-base-path) 了解配置基础路径的更多信息。\n\n- `cube_api_token`: 基于您的 Cube 的 API 密钥生成的身份验证令牌。请参阅 [Cube 文档](https://cube.dev/docs/security#generating-json-web-tokens-jwt) 获取有关生成 JSON Web Tokens (JWT) 的说明。\n\n**可选的输入参数**\n\n- `load_dimension_values`: 是否为每个字符串维度加载维度值。\n\n- `dimension_values_limit`: 要加载的维度值的最大数量。\n\n- `dimension_values_max_retries`: 加载维度值的最大重试次数。\n\n- `dimension_values_retry_delay`: 加载维度值重试之间的延迟时间。"
      ]
    },
    {
      "cell_type": "code",
      "execution_count": null,
      "metadata": {},
      "outputs": [],
      "source": [
        "import jwt\n",
        "from langchain_community.document_loaders import CubeSemanticLoader\n",
        "\n",
        "api_url = \"https://api-example.gcp-us-central1.cubecloudapp.dev/cubejs-api/v1/meta\"\n",
        "cubejs_api_secret = \"api-secret-here\"\n",
        "security_context = {}\n",
        "# Read more about security context here: https://cube.dev/docs/security\n",
        "api_token = jwt.encode(security_context, cubejs_api_secret, algorithm=\"HS256\")\n",
        "\n",
        "loader = CubeSemanticLoader(api_url, api_token)\n",
        "\n",
        "documents = loader.load()"
      ]
    },
    {
      "attachments": {},
      "cell_type": "markdown",
      "metadata": {},
      "source": [
        "返回一组具有以下属性的文档：\n\n- `page_content`\n- `metadata`\n  - `table_name`\n  - `column_name`\n  - `column_data_type`\n  - `column_title`\n  - `column_description`\n  - `column_values`\n  - `cube_data_obj_type`"
      ]
    },
    {
      "cell_type": "code",
      "execution_count": null,
      "metadata": {},
      "outputs": [],
      "source": [
        "# Given string containing page content\n",
        "page_content = \"Users View City, None\"\n",
        "\n",
        "# Given dictionary containing metadata\n",
        "metadata = {\n",
        "    \"table_name\": \"users_view\",\n",
        "    \"column_name\": \"users_view.city\",\n",
        "    \"column_data_type\": \"string\",\n",
        "    \"column_title\": \"Users View City\",\n",
        "    \"column_description\": \"None\",\n",
        "    \"column_member_type\": \"dimension\",\n",
        "    \"column_values\": [\n",
        "        \"Austin\",\n",
        "        \"Chicago\",\n",
        "        \"Los Angeles\",\n",
        "        \"Mountain View\",\n",
        "        \"New York\",\n",
        "        \"Palo Alto\",\n",
        "        \"San Francisco\",\n",
        "        \"Seattle\",\n",
        "    ],\n",
        "    \"cube_data_obj_type\": \"view\",\n",
        "}"
      ]
    }
  ],
  "metadata": {
    "language_info": {
      "name": "python"
    }
  },
  "nbformat": 4,
  "nbformat_minor": 2
}