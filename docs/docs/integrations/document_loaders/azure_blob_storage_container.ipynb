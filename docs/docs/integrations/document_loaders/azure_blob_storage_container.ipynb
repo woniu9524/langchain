{
  "cells": [
    {
      "cell_type": "markdown",
      "id": "a634365e",
      "metadata": {},
      "source": [
        "# Azure Blob Storage 容器\n\n>[Azure Blob Storage](https://learn.microsoft.com/en-us/azure/storage/blobs/storage-blobs-introduction) 是微软面向云的对象存储解决方案。Blob Storage 针对存储海量非结构化数据进行了优化。非结构化数据是指不遵循特定数据模型或定义的数据，例如文本或二进制数据。\n\n`Azure Blob Storage` 的设计用于：\n- 直接向浏览器提供图像或文档。\n- 存储用于分布式访问的文件。\n- 流式传输视频和音频。\n- 写入日志文件。\n- 存储用于备份和还原、灾难恢复以及归档的数据。\n- 存储供本地或 Azure 托管服务分析的数据。\n\n本 Notebook 涵盖了如何从 `Azure Blob Storage` 的容器加载文档对象。"
      ]
    },
    {
      "cell_type": "code",
      "execution_count": null,
      "id": "49815096",
      "metadata": {},
      "outputs": [],
      "source": [
        "%pip install --upgrade --quiet  azure-storage-blob"
      ]
    },
    {
      "cell_type": "code",
      "execution_count": 2,
      "id": "2f0cd6a5",
      "metadata": {
        "tags": []
      },
      "outputs": [],
      "source": [
        "from langchain_community.document_loaders import AzureBlobStorageContainerLoader"
      ]
    },
    {
      "cell_type": "code",
      "execution_count": 3,
      "id": "321cc7f1",
      "metadata": {},
      "outputs": [],
      "source": [
        "loader = AzureBlobStorageContainerLoader(conn_str=\"<conn_str>\", container=\"<container>\")"
      ]
    },
    {
      "cell_type": "code",
      "execution_count": 4,
      "id": "2b11d155",
      "metadata": {},
      "outputs": [
        {
          "data": {
            "text/plain": [
              "[Document(page_content='Lorem ipsum dolor sit amet.', lookup_str='', metadata={'source': '/var/folders/y6/8_bzdg295ld6s1_97_12m4lr0000gn/T/tmpaa9xl6ch/fake.docx'}, lookup_index=0)]"
            ]
          },
          "execution_count": 4,
          "metadata": {},
          "output_type": "execute_result"
        }
      ],
      "source": [
        "loader.load()"
      ]
    },
    {
      "cell_type": "markdown",
      "id": "0690c40a",
      "metadata": {},
      "source": [
        "## 指定前缀\n您还可以指定一个前缀，以更精细地控制要加载哪些文件。"
      ]
    },
    {
      "cell_type": "code",
      "execution_count": 5,
      "id": "72d44781",
      "metadata": {},
      "outputs": [],
      "source": [
        "loader = AzureBlobStorageContainerLoader(\n",
        "    conn_str=\"<conn_str>\", container=\"<container>\", prefix=\"<prefix>\"\n",
        ")"
      ]
    },
    {
      "cell_type": "code",
      "execution_count": 6,
      "id": "2d3c32db",
      "metadata": {},
      "outputs": [
        {
          "data": {
            "text/plain": [
              "[Document(page_content='Lorem ipsum dolor sit amet.', lookup_str='', metadata={'source': '/var/folders/y6/8_bzdg295ld6s1_97_12m4lr0000gn/T/tmpujbkzf_l/fake.docx'}, lookup_index=0)]"
            ]
          },
          "execution_count": 6,
          "metadata": {},
          "output_type": "execute_result"
        }
      ],
      "source": [
        "loader.load()"
      ]
    },
    {
      "cell_type": "code",
      "execution_count": null,
      "id": "885dc280",
      "metadata": {},
      "outputs": [],
      "source": []
    }
  ],
  "metadata": {
    "kernelspec": {
      "display_name": "Python 3 (ipykernel)",
      "language": "python",
      "name": "python3"
    },
    "language_info": {
      "codemirror_mode": {
        "name": "ipython",
        "version": 3
      },
      "file_extension": ".py",
      "mimetype": "text/x-python",
      "name": "python",
      "nbconvert_exporter": "python",
      "pygments_lexer": "ipython3",
      "version": "3.10.6"
    }
  },
  "nbformat": 4,
  "nbformat_minor": 5
}