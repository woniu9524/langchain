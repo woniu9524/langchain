{
  "cells": [
    {
      "attachments": {},
      "cell_type": "markdown",
      "id": "1dc7df1d",
      "metadata": {},
      "source": [
        "# Joplin\n\n>[Joplin](https://joplinapp.org/) 是一款开源笔记应用。捕捉你的想法，并从任何设备安全地访问它们。\n\n本笔记介绍了如何从 `Joplin` 数据库加载文档。\n\n`Joplin` 有一个 [REST API](https://joplinapp.org/api/references/rest_api/) 用于访问其本地数据库。此加载器使用该 API 来检索数据库中的所有笔记及其元数据。这需要一个访问令牌，可以通过以下步骤从应用中获取：\n\n1. 打开 `Joplin` 应用。加载文档时应用必须保持打开状态。\n2. 前往设置/选项，然后选择“Web Clipper”。\n3. 确保 Web Clipper 服务已启用。\n4. 在“高级选项”下，复制授权令牌。\n\n你可以直接使用访问令牌初始化加载器，或者将其存储在环境变量 JOPLIN_ACCESS_TOKEN 中。\n\n此方法的替代方法是将 `Joplin` 的笔记数据库导出为 Markdown 文件（也可选择包含 Front Matter 元数据），然后使用 Markdown 加载器（如 ObsidianLoader）来加载它们。"
      ]
    },
    {
      "cell_type": "code",
      "execution_count": 2,
      "id": "007c5cbf",
      "metadata": {
        "tags": []
      },
      "outputs": [],
      "source": [
        "from langchain_community.document_loaders import JoplinLoader"
      ]
    },
    {
      "cell_type": "code",
      "execution_count": 5,
      "id": "a1caec59",
      "metadata": {},
      "outputs": [],
      "source": [
        "loader = JoplinLoader(access_token=\"<access-token>\")"
      ]
    },
    {
      "cell_type": "code",
      "execution_count": 6,
      "id": "b1c30ff7",
      "metadata": {},
      "outputs": [],
      "source": [
        "docs = loader.load()"
      ]
    },
    {
      "cell_type": "code",
      "execution_count": null,
      "id": "fa93b965",
      "metadata": {},
      "outputs": [],
      "source": []
    }
  ],
  "metadata": {
    "kernelspec": {
      "display_name": "Python 3 (ipykernel)",
      "language": "python",
      "name": "python3"
    },
    "language_info": {
      "codemirror_mode": {
        "name": "ipython",
        "version": 3
      },
      "file_extension": ".py",
      "mimetype": "text/x-python",
      "name": "python",
      "nbconvert_exporter": "python",
      "pygments_lexer": "ipython3",
      "version": "3.10.11"
    }
  },
  "nbformat": 4,
  "nbformat_minor": 5
}