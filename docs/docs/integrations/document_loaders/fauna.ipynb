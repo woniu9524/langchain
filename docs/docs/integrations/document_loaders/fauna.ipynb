{
  "cells": [
    {
      "attachments": {},
      "cell_type": "markdown",
      "metadata": {},
      "source": [
        "# Fauna\n\n>[Fauna](https://fauna.com/) 是一个文档数据库。\n\n查询 `Fauna` 文档"
      ]
    },
    {
      "cell_type": "code",
      "execution_count": null,
      "metadata": {},
      "outputs": [],
      "source": [
        "%pip install --upgrade --quiet  fauna"
      ]
    },
    {
      "attachments": {},
      "cell_type": "markdown",
      "metadata": {},
      "source": [
        "## 查询数据示例"
      ]
    },
    {
      "cell_type": "code",
      "execution_count": null,
      "metadata": {},
      "outputs": [],
      "source": [
        "from langchain_community.document_loaders.fauna import FaunaLoader\n",
        "\n",
        "secret = \"<enter-valid-fauna-secret>\"\n",
        "query = \"Item.all()\"  # Fauna query. Assumes that the collection is called \"Item\"\n",
        "field = \"text\"  # The field that contains the page content. Assumes that the field is called \"text\"\n",
        "\n",
        "loader = FaunaLoader(query, field, secret)\n",
        "docs = loader.lazy_load()\n",
        "\n",
        "for value in docs:\n",
        "    print(value)"
      ]
    },
    {
      "attachments": {},
      "cell_type": "markdown",
      "metadata": {},
      "source": [
        "### 带分页的查询\n如果存在更多数据，您将获得一个 `after` 值。通过在查询中传递 `after` 字符串，您可以在光标之后获取值。\n\n要了解更多信息，请访问 [此链接](https://fqlx-beta--fauna-docs.netlify.app/fqlx/beta/reference/schema_entities/set/static-paginate)"
      ]
    },
    {
      "cell_type": "code",
      "execution_count": null,
      "metadata": {},
      "outputs": [],
      "source": [
        "query = \"\"\"\n",
        "Item.paginate(\"hs+DzoPOg ... aY1hOohozrV7A\")\n",
        "Item.all()\n",
        "\"\"\"\n",
        "loader = FaunaLoader(query, field, secret)"
      ]
    }
  ],
  "metadata": {
    "language_info": {
      "name": "python"
    }
  },
  "nbformat": 4,
  "nbformat_minor": 2
}