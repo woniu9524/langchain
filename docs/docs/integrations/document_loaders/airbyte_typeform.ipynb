{
  "cells": [
    {
      "cell_type": "raw",
      "id": "9a10cdcc",
      "metadata": {},
      "source": [
        "---\n",
        "sidebar_class_name: hidden\n",
        "---"
      ]
    },
    {
      "cell_type": "markdown",
      "id": "1f3a5ebf",
      "metadata": {},
      "source": [
        "# Airbyte Typeform (已弃用)"
      ]
    },
    {
      "cell_type": "markdown",
      "id": "35ac77b1-449b-44f7-b8f3-3494d55c286e",
      "metadata": {},
      "source": [
        "请注意：此特定于连接器的加载器已弃用。请改用 [`AirbyteLoader`](/docs/integrations/document_loaders/airbyte)。\n\n>[Airbyte](https://github.com/airbytehq/airbyte) 是一个数据集成平台，用于从 API、数据库和文件到数据仓库和湖泊的 ELT 管道。它拥有最大的数据仓库和数据库 ELT 连接器目录。\n\n此加载器将 Typeform 连接器公开为文档加载器，允许您将各种 Typeform 对象加载为文档。"
      ]
    },
    {
      "cell_type": "markdown",
      "id": "6847a40c",
      "metadata": {},
      "source": []
    },
    {
      "cell_type": "markdown",
      "id": "3b06fbde",
      "metadata": {},
      "source": [
        "## 安装"
      ]
    },
    {
      "cell_type": "markdown",
      "id": "e3e9dc79",
      "metadata": {},
      "source": [
        "首先，你需要安装 `airbyte-source-typeform` Python 包。"
      ]
    },
    {
      "cell_type": "code",
      "execution_count": null,
      "id": "4d35e4e0",
      "metadata": {},
      "outputs": [],
      "source": [
        "%pip install --upgrade --quiet  airbyte-source-typeform"
      ]
    },
    {
      "cell_type": "markdown",
      "id": "ae855210",
      "metadata": {},
      "source": [
        "## 示例"
      ]
    },
    {
      "cell_type": "markdown",
      "id": "02208f52",
      "metadata": {},
      "source": [
        "请查看：[Airbyte 文档页面](https://docs.airbyte.com/integrations/sources/typeform/)，了解如何配置读取器。\n\n配置对象应遵循的 JSON Schema 可以在 Github 上找到：[https://github.com/airbytehq/airbyte/blob/master/airbyte-integrations/connectors/source-typeform/source_typeform/spec.json](https://github.com/airbytehq/airbyte/blob/master/airbyte-integrations/connectors/source-typeform/source_typeform/spec.json)。\n\n总体结构如下：\n```python\n{\n  \"credentials\": {\n    \"auth_type\": \"Private Token\",\n    \"access_token\": \"<your auth token>\"\n  },\n  \"start_date\": \"<date from which to start retrieving records from in ISO format, e.g. 2020-10-20T00:00:00Z>\",\n  \"form_ids\": [\"<id of form to load records for>\"] # if omitted, records from all forms will be loaded\n}\n```\n\n默认情况下，所有字段都将作为元数据存储在文档中，文本字段将设置为空字符串。通过转换读取器返回的文档来构建文档文本。"
      ]
    },
    {
      "cell_type": "code",
      "execution_count": null,
      "id": "89a99e58",
      "metadata": {},
      "outputs": [],
      "source": [
        "from langchain_community.document_loaders.airbyte import AirbyteTypeformLoader\n",
        "\n",
        "config = {\n",
        "    # your typeform configuration\n",
        "}\n",
        "\n",
        "loader = AirbyteTypeformLoader(\n",
        "    config=config, stream_name=\"forms\"\n",
        ")  # check the documentation linked above for a list of all streams"
      ]
    },
    {
      "cell_type": "markdown",
      "id": "2cea23fc",
      "metadata": {},
      "source": [
        "现在你可以像往常一样加载文档了"
      ]
    },
    {
      "cell_type": "code",
      "execution_count": null,
      "id": "dae75cdb",
      "metadata": {},
      "outputs": [],
      "source": [
        "docs = loader.load()"
      ]
    },
    {
      "cell_type": "markdown",
      "id": "4a93dc2a",
      "metadata": {},
      "source": [
        "由于 `load` 返回的是一个列表，它会一直阻塞直到所有文档都加载完毕。为了更好地控制这个过程，您也可以使用 `lazy_load` 方法，该方法返回一个迭代器："
      ]
    },
    {
      "cell_type": "code",
      "execution_count": null,
      "id": "1782db09",
      "metadata": {},
      "outputs": [],
      "source": [
        "docs_iterator = loader.lazy_load()"
      ]
    },
    {
      "cell_type": "markdown",
      "id": "3a124086",
      "metadata": {},
      "source": [
        "请注意，默认情况下页面内容为空，并且 metadata 对象包含记录中的所有信息。要以其他方式创建文档，请在创建加载器时传入一个 record_handler 函数："
      ]
    },
    {
      "cell_type": "code",
      "execution_count": null,
      "id": "5671395d",
      "metadata": {},
      "outputs": [],
      "source": [
        "from langchain_core.documents import Document\n",
        "\n",
        "\n",
        "def handle_record(record, id):\n",
        "    return Document(page_content=record.data[\"title\"], metadata=record.data)\n",
        "\n",
        "\n",
        "loader = AirbyteTypeformLoader(\n",
        "    config=config, record_handler=handle_record, stream_name=\"forms\"\n",
        ")\n",
        "docs = loader.load()"
      ]
    },
    {
      "cell_type": "markdown",
      "id": "223eb8bc",
      "metadata": {},
      "source": [
        "## 增量加载\n\n某些流支持增量加载，这意味着源会跟踪已同步的记录，并且不会再次加载它们。这对于数据量大且频繁更新的源非常有用。\n\n要利用此功能，请存储加载器的 `last_state` 属性，并在重新创建加载器时传入它。这将确保只加载新记录。"
      ]
    },
    {
      "cell_type": "code",
      "execution_count": null,
      "id": "7061e735",
      "metadata": {},
      "outputs": [],
      "source": [
        "last_state = loader.last_state  # store safely\n",
        "\n",
        "incremental_loader = AirbyteTypeformLoader(\n",
        "    config=config, record_handler=handle_record, stream_name=\"forms\", state=last_state\n",
        ")\n",
        "\n",
        "new_docs = incremental_loader.load()"
      ]
    }
  ],
  "metadata": {
    "kernelspec": {
      "display_name": "Python 3 (ipykernel)",
      "language": "python",
      "name": "python3"
    },
    "language_info": {
      "codemirror_mode": {
        "name": "ipython",
        "version": 3
      },
      "file_extension": ".py",
      "mimetype": "text/x-python",
      "name": "python",
      "nbconvert_exporter": "python",
      "pygments_lexer": "ipython3",
      "version": "3.10.6"
    }
  },
  "nbformat": 4,
  "nbformat_minor": 5
}