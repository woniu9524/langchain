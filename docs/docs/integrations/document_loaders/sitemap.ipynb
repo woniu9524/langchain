{
  "cells": [
    {
      "cell_type": "markdown",
      "metadata": {},
      "source": [
        "# Sitemap\n\n`SitemapLoader` 扩展自 `WebBaseLoader`，它从给定的 URL 加载站点地图，然后抓取并加载站点地图中的所有页面，将每个页面作为一个 Document 返回。\n\n抓取过程是并发进行的。并发请求有合理的限制，默认为每秒 2 次。如果你不担心做个“好公民”，或者你控制被抓取的服务器，或者不关心负载，可以增加这个限制。请注意，虽然这会加快抓取过程，但可能会导致服务器阻止你。请小心！\n\n## 概览\n### 集成详情\n\n| 类 | 包 | 本地 | 可序列化 | [JS 支持](https://js.langchain.com/docs/integrations/document_loaders/web_loaders/sitemap/)|\n| :--- | :--- | :---: | :---: |  :---: |\n| [SiteMapLoader](https://python.langchain.com/api_reference/community/document_loaders/langchain_community.document_loaders.sitemap.SitemapLoader.html#langchain_community.document_loaders.sitemap.SitemapLoader) | [langchain_community](https://python.langchain.com/api_reference/community/index.html) | ✅ | ❌ | ✅ |\n### 加载器功能\n| 源 | 文档延迟加载 | 原生异步支持\n| :---: | :---: | :---: |\n| SiteMapLoader | ✅ | ❌ |\n\n## 设置\n\n要访问 SiteMap 文档加载器，你需要安装 `langchain-community` 集成包。\n\n### 凭证\n\n运行此程序不需要任何凭证。"
      ]
    },
    {
      "cell_type": "markdown",
      "metadata": {},
      "source": "为了启用模型调用的自动化追踪，请设置您的 [LangSmith](https://docs.smith.langchain.com/) API 密钥："
    },
    {
      "cell_type": "code",
      "execution_count": null,
      "metadata": {},
      "outputs": [],
      "source": [
        "# os.environ[\"LANGSMITH_API_KEY\"] = getpass.getpass(\"Enter your LangSmith API key: \")\n",
        "# os.environ[\"LANGSMITH_TRACING\"] = \"true\""
      ]
    },
    {
      "cell_type": "markdown",
      "metadata": {},
      "source": [
        "### 安装\n\n安装 **langchain_community**。"
      ]
    },
    {
      "cell_type": "code",
      "execution_count": null,
      "metadata": {},
      "outputs": [],
      "source": [
        "%pip install -qU langchain-community"
      ]
    },
    {
      "cell_type": "markdown",
      "metadata": {},
      "source": [
        "### 修复笔记本 asyncio 错误"
      ]
    },
    {
      "cell_type": "code",
      "execution_count": 4,
      "metadata": {},
      "outputs": [],
      "source": [
        "import nest_asyncio\n",
        "\n",
        "nest_asyncio.apply()"
      ]
    },
    {
      "cell_type": "markdown",
      "metadata": {},
      "source": [
        "## 初始化\n\n现在我们可以实例化模型对象并加载文档了："
      ]
    },
    {
      "cell_type": "code",
      "execution_count": null,
      "metadata": {},
      "outputs": [],
      "source": [
        "from langchain_community.document_loaders.sitemap import SitemapLoader"
      ]
    },
    {
      "cell_type": "code",
      "execution_count": null,
      "metadata": {},
      "outputs": [],
      "source": [
        "sitemap_loader = SitemapLoader(web_path=\"https://api.python.langchain.com/sitemap.xml\")"
      ]
    },
    {
      "cell_type": "markdown",
      "metadata": {},
      "source": [
        "## 加载"
      ]
    },
    {
      "cell_type": "code",
      "execution_count": 5,
      "metadata": {},
      "outputs": [
        {
          "name": "stderr",
          "output_type": "stream",
          "text": [
            "Fetching pages: 100%|##########| 28/28 [00:04<00:00,  6.83it/s]\n"
          ]
        },
        {
          "data": {
            "text/plain": [
              "Document(metadata={'source': 'https://api.python.langchain.com/en/stable/', 'loc': 'https://api.python.langchain.com/en/stable/', 'lastmod': '2024-05-15T00:29:42.163001+00:00', 'changefreq': 'weekly', 'priority': '1'}, page_content='\\n\\n\\n\\n\\n\\n\\n\\n\\n\\nLangChain Python API Reference Documentation.\\n\\n\\nYou will be automatically redirected to the new location of this page.\\n\\n')"
            ]
          },
          "execution_count": 5,
          "metadata": {},
          "output_type": "execute_result"
        }
      ],
      "source": [
        "docs = sitemap_loader.load()\n",
        "docs[0]"
      ]
    },
    {
      "cell_type": "code",
      "execution_count": 6,
      "metadata": {},
      "outputs": [
        {
          "name": "stdout",
          "output_type": "stream",
          "text": [
            "{'source': 'https://api.python.langchain.com/en/stable/', 'loc': 'https://api.python.langchain.com/en/stable/', 'lastmod': '2024-05-15T00:29:42.163001+00:00', 'changefreq': 'weekly', 'priority': '1'}\n"
          ]
        }
      ],
      "source": [
        "print(docs[0].metadata)"
      ]
    },
    {
      "attachments": {},
      "cell_type": "markdown",
      "metadata": {},
      "source": [
        "您可以更改 **`requests_per_second`**  参数来提高最大并发请求数，并使用 **`requests_kwargs`** 在发送请求时传递 kwargs。"
      ]
    },
    {
      "cell_type": "code",
      "execution_count": null,
      "metadata": {},
      "outputs": [],
      "source": [
        "sitemap_loader.requests_per_second = 2\n",
        "# Optional: avoid `[SSL: CERTIFICATE_VERIFY_FAILED]` issue\n",
        "sitemap_loader.requests_kwargs = {\"verify\": False}"
      ]
    },
    {
      "cell_type": "markdown",
      "metadata": {},
      "source": [
        "## 延迟加载\n\n您也可以延迟加载页面以最小化内存占用。"
      ]
    },
    {
      "cell_type": "code",
      "execution_count": 7,
      "metadata": {},
      "outputs": [
        {
          "name": "stderr",
          "output_type": "stream",
          "text": [
            "Fetching pages: 100%|##########| 28/28 [00:01<00:00, 19.06it/s]\n"
          ]
        }
      ],
      "source": [
        "page = []\n",
        "for doc in sitemap_loader.lazy_load():\n",
        "    page.append(doc)\n",
        "    if len(page) >= 10:\n",
        "        # do some paged operation, e.g.\n",
        "        # index.upsert(page)\n",
        "\n",
        "        page = []"
      ]
    },
    {
      "cell_type": "markdown",
      "metadata": {},
      "source": [
        "## 过滤站点地图 URL\n\n站点地图文件可能非常庞大，包含数千个 URL。通常情况下，您不需要它们中的每一个。您可以将字符串或正则表达式模式的列表传递给 `filter_urls` 参数来过滤 URL。只有匹配其中一个模式的 URL 才会被加载。"
      ]
    },
    {
      "cell_type": "code",
      "execution_count": null,
      "metadata": {},
      "outputs": [],
      "source": [
        "loader = SitemapLoader(\n",
        "    web_path=\"https://api.python.langchain.com/sitemap.xml\",\n",
        "    filter_urls=[\"https://api.python.langchain.com/en/latest\"],\n",
        ")\n",
        "documents = loader.load()"
      ]
    },
    {
      "cell_type": "code",
      "execution_count": 8,
      "metadata": {
        "scrolled": true
      },
      "outputs": [
        {
          "data": {
            "text/plain": [
              "Document(page_content='\\n\\n\\n\\n\\n\\n\\n\\n\\n\\nLangChain Python API Reference Documentation.\\n\\n\\nYou will be automatically redirected to the new location of this page.\\n\\n', metadata={'source': 'https://api.python.langchain.com/en/latest/', 'loc': 'https://api.python.langchain.com/en/latest/', 'lastmod': '2024-02-12T05:26:10.971077+00:00', 'changefreq': 'daily', 'priority': '0.9'})"
            ]
          },
          "execution_count": 8,
          "metadata": {},
          "output_type": "execute_result"
        }
      ],
      "source": [
        "documents[0]"
      ]
    },
    {
      "cell_type": "markdown",
      "metadata": {},
      "source": [
        "## 添加自定义抓取规则\n\n`SitemapLoader` 在抓取过程中使用 `beautifulsoup4`，默认情况下会抓取页面上的所有元素。`SitemapLoader` 构造函数接受一个自定义的抓取函数。此功能有助于根据您的特定需求定制抓取过程；例如，您可能希望避免抓取标题或导航元素。\n\n下面的示例展示了如何开发和使用自定义函数来避免导航和标题元素。"
      ]
    },
    {
      "cell_type": "markdown",
      "metadata": {},
      "source": [
        "导入 `beautifulsoup4` 库并定义自定义函数。"
      ]
    },
    {
      "cell_type": "code",
      "execution_count": null,
      "metadata": {},
      "outputs": [],
      "source": [
        "pip install beautifulsoup4"
      ]
    },
    {
      "cell_type": "code",
      "execution_count": 10,
      "metadata": {},
      "outputs": [],
      "source": [
        "from bs4 import BeautifulSoup\n",
        "\n",
        "\n",
        "def remove_nav_and_header_elements(content: BeautifulSoup) -> str:\n",
        "    # Find all 'nav' and 'header' elements in the BeautifulSoup object\n",
        "    nav_elements = content.find_all(\"nav\")\n",
        "    header_elements = content.find_all(\"header\")\n",
        "\n",
        "    # Remove each 'nav' and 'header' element from the BeautifulSoup object\n",
        "    for element in nav_elements + header_elements:\n",
        "        element.decompose()\n",
        "\n",
        "    return str(content.get_text())"
      ]
    },
    {
      "cell_type": "markdown",
      "metadata": {},
      "source": [
        "将你的自定义函数添加到 `SitemapLoader` 对象。"
      ]
    },
    {
      "cell_type": "code",
      "execution_count": 11,
      "metadata": {},
      "outputs": [],
      "source": [
        "loader = SitemapLoader(\n",
        "    \"https://api.python.langchain.com/sitemap.xml\",\n",
        "    filter_urls=[\"https://api.python.langchain.com/en/latest/\"],\n",
        "    parsing_function=remove_nav_and_header_elements,\n",
        ")"
      ]
    },
    {
      "cell_type": "markdown",
      "metadata": {},
      "source": [
        "##  локальная карта сайта\n\nЛокальный загрузчик карты сайта также может использоваться для загрузки локальных файлов."
      ]
    },
    {
      "cell_type": "code",
      "execution_count": null,
      "metadata": {},
      "outputs": [],
      "source": [
        "sitemap_loader = SitemapLoader(web_path=\"example_data/sitemap.xml\", is_local=True)\n",
        "\n",
        "docs = sitemap_loader.load()"
      ]
    },
    {
      "cell_type": "markdown",
      "metadata": {},
      "source": [
        "## API 参考\n\n有关 SiteMapLoader 所有功能和配置的详细文档，请访问 API 参考：https://python.langchain.com/api_reference/community/document_loaders/langchain_community.document_loaders.sitemap.SitemapLoader.html#langchain_community.document_loaders.sitemap.SitemapLoader"
      ]
    }
  ],
  "metadata": {
    "kernelspec": {
      "display_name": "Python 3 (ipykernel)",
      "language": "python",
      "name": "python3"
    },
    "language_info": {
      "codemirror_mode": {
        "name": "ipython",
        "version": 3
      },
      "file_extension": ".py",
      "mimetype": "text/x-python",
      "name": "python",
      "nbconvert_exporter": "python",
      "pygments_lexer": "ipython3",
      "version": "3.11.9"
    }
  },
  "nbformat": 4,
  "nbformat_minor": 4
}