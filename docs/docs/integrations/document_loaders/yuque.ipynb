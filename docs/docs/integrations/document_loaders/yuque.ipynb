{
  "cells": [
    {
      "cell_type": "markdown",
      "id": "66a7777e",
      "metadata": {},
      "source": [
        "# Yuque\n\n>[Yuque](https://www.yuque.com/) 是一个面向团队协作的专业云端知识库，用于文档管理。\n\n本笔记涵盖了如何从 `Yuque` 加载文档。\n\n您可以在 [个人设置](https://www.yuque.com/settings/tokens) 页面点击您的个人头像来获取个人访问令牌。"
      ]
    },
    {
      "cell_type": "code",
      "execution_count": 1,
      "id": "9ec8a3b3",
      "metadata": {
        "tags": []
      },
      "outputs": [],
      "source": [
        "from langchain_community.document_loaders import YuqueLoader"
      ]
    },
    {
      "cell_type": "code",
      "execution_count": 2,
      "id": "2ea958f0327ed6e8",
      "metadata": {
        "collapsed": false
      },
      "outputs": [],
      "source": [
        "loader = YuqueLoader(access_token=\"<your_personal_access_token>\")"
      ]
    },
    {
      "cell_type": "code",
      "execution_count": null,
      "id": "3470dadf",
      "metadata": {
        "collapsed": false,
        "pycharm": {
          "name": "#%%\n"
        }
      },
      "outputs": [],
      "source": [
        "docs = loader.load()"
      ]
    }
  ],
  "metadata": {
    "kernelspec": {
      "display_name": "Python 3 (ipykernel)",
      "language": "python",
      "name": "python3"
    },
    "language_info": {
      "codemirror_mode": {
        "name": "ipython",
        "version": 3
      },
      "file_extension": ".py",
      "mimetype": "text/x-python",
      "name": "python",
      "nbconvert_exporter": "python",
      "pygments_lexer": "ipython3",
      "version": "3.11.4"
    }
  },
  "nbformat": 4,
  "nbformat_minor": 5
}