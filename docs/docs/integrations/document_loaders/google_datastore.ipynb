{
  "cells": [
    {
      "cell_type": "markdown",
      "metadata": {},
      "source": [
        "# Google Firestore（Datastore 模式）\n\n> [Firestore（Datastore 模式）](https://cloud.google.com/datastore) 是一款为自动扩展、高性能和简易应用开发而构建的 NoSQL 文档数据库。利用 Datastore 的 Langchain 集成，扩展您的数据库应用以构建支持 AI 的体验。\n\n本 Notebook 将介绍如何使用 [Firestore（Datastore 模式）](https://cloud.google.com/datastore) 通过 `DatastoreLoader` 和 `DatastoreSaver` 来[保存、加载和删除 Langchain 文档](/docs/how_to#document-loaders)。\n\n在 [GitHub](https://github.com/googleapis/langchain-google-datastore-python/) 上了解更多关于该软件包的信息。\n\n[![在 Colab 中打开](https://colab.research.google.com/assets/colab-badge.svg)](https://colab.research.google.com/github/googleapis/langchain-google-datastore-python/blob/main/docs/document_loader.ipynb)"
      ]
    },
    {
      "cell_type": "markdown",
      "metadata": {},
      "source": [
        "## 开始之前\n\n要运行此笔记本，您需要完成以下操作：\n\n* [创建 Google Cloud 项目](https://developers.google.com/workspace/guides/create-project)\n* [启用 Datastore API](https://console.cloud.google.com/flows/enableapi?apiid=datastore.googleapis.com)\n* [创建 Datastore 模式的 Firestore 数据库](https://cloud.google.com/datastore/docs/manage-databases)\n\n在确认笔记本的运行时环境可以访问数据库后，请填充以下值并运行单元格，然后再运行示例脚本。"
      ]
    },
    {
      "cell_type": "markdown",
      "metadata": {},
      "source": [
        "### 🦜🔗 库安装\n\n集成位于我们自己的 `langchain-google-datastore` 包中，因此我们需要安装它。"
      ]
    },
    {
      "cell_type": "code",
      "execution_count": null,
      "metadata": {
        "tags": []
      },
      "outputs": [],
      "source": [
        "%pip install -upgrade --quiet langchain-google-datastore"
      ]
    },
    {
      "cell_type": "markdown",
      "metadata": {},
      "source": [
        "**仅限 Colab**: 取消注释以下单元格以重新启动内核，或使用按钮重新启动内核。对于 Vertex AI Workbench，您可以使用顶部的按钮重新启动终端。"
      ]
    },
    {
      "cell_type": "code",
      "execution_count": null,
      "metadata": {},
      "outputs": [],
      "source": [
        "# # Automatically restart kernel after installs so that your environment can access the new packages\n",
        "# import IPython\n",
        "\n",
        "# app = IPython.Application.instance()\n",
        "# app.kernel.do_shutdown(True)"
      ]
    },
    {
      "cell_type": "markdown",
      "metadata": {},
      "source": [
        "### ☁ 设置您的 Google Cloud 项目\n设置您的 Google Cloud 项目，以便在此 notebook 中利用 Google Cloud 资源。\n\n如果您不知道项目 ID，可以尝试以下方法：\n\n* 运行 `gcloud config list`。\n* 运行 `gcloud projects list`。\n* 查看支持页面：[查找项目 ID](https://support.google.com/googleapi/answer/7014113)。"
      ]
    },
    {
      "cell_type": "code",
      "execution_count": null,
      "metadata": {},
      "outputs": [],
      "source": [
        "# @markdown Please fill in the value below with your Google Cloud project ID and then run the cell.\n",
        "\n",
        "PROJECT_ID = \"my-project-id\"  # @param {type:\"string\"}\n",
        "\n",
        "# Set the project id\n",
        "!gcloud config set project {PROJECT_ID}"
      ]
    },
    {
      "cell_type": "markdown",
      "metadata": {},
      "source": [
        "### 🔐 身份验证\n\n以登录此笔记本的 IAM 用户身份验证到 Google Cloud，以便访问您的 Google Cloud 项目。\n\n- 如果您正在使用 Colab 运行此 Notebook，请使用下面的单元格并继续。\n- 如果您正在使用 Vertex AI Workbench，请查看此处的设置说明：[https://github.com/GoogleCloudPlatform/generative-ai/tree/main/setup-env](https://github.com/GoogleCloudPlatform/generative-ai/tree/main/setup-env)。"
      ]
    },
    {
      "cell_type": "code",
      "execution_count": null,
      "metadata": {},
      "outputs": [],
      "source": [
        "from google.colab import auth\n",
        "\n",
        "auth.authenticate_user()"
      ]
    },
    {
      "cell_type": "markdown",
      "metadata": {},
      "source": [
        "## 基本用法"
      ]
    },
    {
      "cell_type": "markdown",
      "metadata": {},
      "source": [
        "### 保存文档\n\n使用 `DatastoreSaver.upsert_documents(<documents>)` 保存 Langchain 文档。默认情况下，它会尝试从 `Document` 元数据中的 `key` 中提取实体键。"
      ]
    },
    {
      "cell_type": "code",
      "execution_count": null,
      "metadata": {},
      "outputs": [],
      "source": [
        "from langchain_core.documents import Document\n",
        "from langchain_google_datastore import DatastoreSaver\n",
        "\n",
        "saver = DatastoreSaver()\n",
        "\n",
        "data = [Document(page_content=\"Hello, World!\")]\n",
        "saver.upsert_documents(data)"
      ]
    },
    {
      "cell_type": "markdown",
      "metadata": {},
      "source": [
        "#### 无密钥保存文档\n\n如果指定了 `kind`，文档将使用自动生成的 ID 进行存储。"
      ]
    },
    {
      "cell_type": "code",
      "execution_count": null,
      "metadata": {},
      "outputs": [],
      "source": [
        "saver = DatastoreSaver(\"MyKind\")\n",
        "\n",
        "saver.upsert_documents(data)"
      ]
    },
    {
      "cell_type": "markdown",
      "metadata": {},
      "source": [
        "### 通过 Kind 加载文档\n\n使用 `DatastoreLoader.load()` 或 `DatastoreLoader.lazy_load()` 加载 langchain 文档。`lazy_load` 返回一个生成器，该生成器仅在迭代期间查询数据库。要初始化 `DatastoreLoader` 类，您需要提供：\n1. `source` - 加载文档的源。它可以是 Query 类的实例，也可以是要从中读取的 Datastore 的 kind 名称。"
      ]
    },
    {
      "cell_type": "code",
      "execution_count": 6,
      "metadata": {},
      "outputs": [],
      "source": [
        "from langchain_google_datastore import DatastoreLoader\n",
        "\n",
        "loader = DatastoreLoader(\"MyKind\")\n",
        "data = loader.load()"
      ]
    },
    {
      "cell_type": "markdown",
      "metadata": {},
      "source": [
        "### 通过查询加载文档\n\n除了从 kind 加载文档外，我们还可以选择从查询加载文档。例如："
      ]
    },
    {
      "cell_type": "code",
      "execution_count": null,
      "metadata": {},
      "outputs": [],
      "source": [
        "from google.cloud import datastore\n",
        "\n",
        "client = datastore.Client(database=\"non-default-db\", namespace=\"custom_namespace\")\n",
        "query_load = client.query(kind=\"MyKind\")\n",
        "query_load.add_filter(\"region\", \"=\", \"west_coast\")\n",
        "\n",
        "loader_document = DatastoreLoader(query_load)\n",
        "\n",
        "data = loader_document.load()"
      ]
    },
    {
      "cell_type": "markdown",
      "metadata": {},
      "source": [
        "### 删除文档\n\n使用 `DatastoreSaver.delete_documents(<documents>)` 从 Datastore 删除 langchain 文档列表。"
      ]
    },
    {
      "cell_type": "code",
      "execution_count": null,
      "metadata": {},
      "outputs": [],
      "source": [
        "saver = DatastoreSaver()\n",
        "\n",
        "saver.delete_documents(data)\n",
        "\n",
        "keys_to_delete = [\n",
        "    [\"Kind1\", \"identifier\"],\n",
        "    [\"Kind2\", 123],\n",
        "    [\"Kind3\", \"identifier\", \"NestedKind\", 456],\n",
        "]\n",
        "# The Documents will be ignored and only the document ids will be used.\n",
        "saver.delete_documents(data, keys_to_delete)"
      ]
    },
    {
      "cell_type": "markdown",
      "metadata": {},
      "source": [
        "## 高级用法"
      ]
    },
    {
      "cell_type": "markdown",
      "metadata": {},
      "source": [
        "### 使用自定义的文档页面内容和元数据加载文档\n\n`page_content_properties` 和 `metadata_properties` 的参数将指定要写入 LangChain Document 的 `page_content` 和 `metadata` 的实体属性。"
      ]
    },
    {
      "cell_type": "code",
      "execution_count": 8,
      "metadata": {},
      "outputs": [],
      "source": [
        "loader = DatastoreLoader(\n",
        "    source=\"MyKind\",\n",
        "    page_content_fields=[\"data_field\"],\n",
        "    metadata_fields=[\"metadata_field\"],\n",
        ")\n",
        "\n",
        "data = loader.load()"
      ]
    },
    {
      "cell_type": "markdown",
      "metadata": {},
      "source": [
        "### 自定义页面内容格式\n\n当 `page_content` 只包含一个字段时，信息将仅显示该字段的值。否则，`page_content` 将采用 JSON 格式。"
      ]
    },
    {
      "cell_type": "markdown",
      "metadata": {},
      "source": [
        "### 自定义连接与认证"
      ]
    },
    {
      "cell_type": "code",
      "execution_count": null,
      "metadata": {},
      "outputs": [],
      "source": [
        "from google.auth import compute_engine\n",
        "from google.cloud.firestore import Client\n",
        "\n",
        "client = Client(database=\"non-default-db\", creds=compute_engine.Credentials())\n",
        "loader = DatastoreLoader(\n",
        "    source=\"foo\",\n",
        "    client=client,\n",
        ")"
      ]
    }
  ],
  "metadata": {
    "kernelspec": {
      "display_name": "Python 3 (ipykernel)",
      "language": "python",
      "name": "python3"
    },
    "language_info": {
      "codemirror_mode": {
        "name": "ipython",
        "version": 3
      },
      "file_extension": ".py",
      "mimetype": "text/x-python",
      "name": "python",
      "nbconvert_exporter": "python",
      "pygments_lexer": "ipython3",
      "version": "3.10.6"
    }
  },
  "nbformat": 4,
  "nbformat_minor": 4
}