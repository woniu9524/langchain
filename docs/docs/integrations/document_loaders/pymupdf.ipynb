{
  "cells": [
    {
      "cell_type": "markdown",
      "metadata": {},
      "source": [
        "# PyMuPDFLoader\n\n本 Notebook 提供 `PyMuPDF` [文档加载器](https://python.langchain.com/docs/concepts/document_loaders) 的快速入门概览。有关 __ModuleName__Loader 所有功能和配置的详细文档，请查阅 [API 参考](https://python.langchain.com/api_reference/community/document_loaders/langchain_community.document_loaders.pdf.PyMuPDFLoader.html)。\n\n## 概览\n### 集成详情\n\n| 类 | 包 | 本地 | 可序列化 | JS 支持 |\n| :--- | :--- | :---: | :---: | :---: |\n| [PyMuPDFLoader](https://python.langchain.com/api_reference/community/document_loaders/langchain_community.document_loaders.pdf.PyMuPDFLoader.html) | [langchain_community](https://python.langchain.com/api_reference/community/index.html) | ✅ | ❌ | ❌ |\n\n---------   \n\n### 加载器功能\n\n| 来源 | 文档惰性加载 | 原生异步支持 | 提取图像 | 提取表格 |\n| :---: | :---: | :---: | :---: | :---: |\n| PyMuPDFLoader | ✅ | ❌ | ✅ | ✅ |\n\n## 设置\n\n### 凭证\n\n使用 PyMuPDFLoader 无需凭证"
      ]
    },
    {
      "metadata": {},
      "cell_type": "markdown",
      "source": "如果您想获得模型调用的自动化最佳类跟踪，您还可以通过取消注释以下内容来设置您的 [LangSmith](https://docs.smith.langchain.com/) API 密钥："
    },
    {
      "metadata": {
        "ExecuteTime": {
          "end_time": "2025-01-16T09:48:32.087401Z",
          "start_time": "2025-01-16T09:48:32.084843Z"
        }
      },
      "cell_type": "code",
      "source": [
        "# os.environ[\"LANGSMITH_API_KEY\"] = getpass.getpass(\"Enter your LangSmith API key: \")\n",
        "# os.environ[\"LANGSMITH_TRACING\"] = \"true\""
      ],
      "outputs": [],
      "execution_count": 1
    },
    {
      "cell_type": "markdown",
      "metadata": {},
      "source": [
        "### 安装\n\n安装 **langchain_community** 和 **pymupdf**。"
      ]
    },
    {
      "cell_type": "code",
      "metadata": {
        "ExecuteTime": {
          "end_time": "2025-01-16T09:48:34.720803Z",
          "start_time": "2025-01-16T09:48:33.057015Z"
        }
      },
      "source": "%pip install -qU langchain_community pymupdf",
      "outputs": [
        {
          "name": "stdout",
          "output_type": "stream",
          "text": [
            "Note: you may need to restart the kernel to use updated packages.\n"
          ]
        }
      ],
      "execution_count": 2
    },
    {
      "cell_type": "markdown",
      "metadata": {},
      "source": [
        "## 初始化\n\n现在我们可以实例化我们的模型对象并加载文档了："
      ]
    },
    {
      "cell_type": "code",
      "metadata": {
        "ExecuteTime": {
          "end_time": "2025-01-16T09:48:36.618850Z",
          "start_time": "2025-01-16T09:48:35.787958Z"
        }
      },
      "source": [
        "from langchain_community.document_loaders import PyMuPDFLoader\n",
        "\n",
        "file_path = \"./example_data/layout-parser-paper.pdf\"\n",
        "loader = PyMuPDFLoader(file_path)"
      ],
      "outputs": [],
      "execution_count": 3
    },
    {
      "cell_type": "markdown",
      "metadata": {},
      "source": [
        "## 加载"
      ]
    },
    {
      "cell_type": "code",
      "metadata": {
        "ExecuteTime": {
          "end_time": "2025-01-16T09:48:37.650774Z",
          "start_time": "2025-01-16T09:48:37.492137Z"
        }
      },
      "source": [
        "docs = loader.load()\n",
        "docs[0]"
      ],
      "outputs": [
        {
          "data": {
            "text/plain": [
              "Document(metadata={'producer': 'pdfTeX-1.40.21', 'creator': 'LaTeX with hyperref', 'creationdate': '2021-06-22T01:27:10+00:00', 'source': './example_data/layout-parser-paper.pdf', 'file_path': './example_data/layout-parser-paper.pdf', 'total_pages': 16, 'format': 'PDF 1.5', 'title': '', 'author': '', 'subject': '', 'keywords': '', 'moddate': '2021-06-22T01:27:10+00:00', 'trapped': '', 'page': 0}, page_content='LayoutParser: A Uniﬁed Toolkit for Deep\\nLearning Based Document Image Analysis\\nZejiang Shen1 (\\x00), Ruochen Zhang2, Melissa Dell3, Benjamin Charles Germain\\nLee4, Jacob Carlson3, and Weining Li5\\n1 Allen Institute for AI\\nshannons@allenai.org\\n2 Brown University\\nruochen zhang@brown.edu\\n3 Harvard University\\n{melissadell,jacob carlson}@fas.harvard.edu\\n4 University of Washington\\nbcgl@cs.washington.edu\\n5 University of Waterloo\\nw422li@uwaterloo.ca\\nAbstract. Recent advances in document image analysis (DIA) have been\\nprimarily driven by the application of neural networks. Ideally, research\\noutcomes could be easily deployed in production and extended for further\\ninvestigation. However, various factors like loosely organized codebases\\nand sophisticated model conﬁgurations complicate the easy reuse of im-\\nportant innovations by a wide audience. Though there have been on-going\\neﬀorts to improve reusability and simplify deep learning (DL) model\\ndevelopment in disciplines like natural language processing and computer\\nvision, none of them are optimized for challenges in the domain of DIA.\\nThis represents a major gap in the existing toolkit, as DIA is central to\\nacademic research across a wide range of disciplines in the social sciences\\nand humanities. This paper introduces LayoutParser, an open-source\\nlibrary for streamlining the usage of DL in DIA research and applica-\\ntions. The core LayoutParser library comes with a set of simple and\\nintuitive interfaces for applying and customizing DL models for layout de-\\ntection, character recognition, and many other document processing tasks.\\nTo promote extensibility, LayoutParser also incorporates a community\\nplatform for sharing both pre-trained models and full document digiti-\\nzation pipelines. We demonstrate that LayoutParser is helpful for both\\nlightweight and large-scale digitization pipelines in real-word use cases.\\nThe library is publicly available at https://layout-parser.github.io.\\nKeywords: Document Image Analysis · Deep Learning · Layout Analysis\\n· Character Recognition · Open Source library · Toolkit.\\n1\\nIntroduction\\nDeep Learning(DL)-based approaches are the state-of-the-art for a wide range of\\ndocument image analysis (DIA) tasks including document image classiﬁcation [11,\\narXiv:2103.15348v2  [cs.CV]  21 Jun 2021')"
            ]
          },
          "execution_count": 4,
          "metadata": {},
          "output_type": "execute_result"
        }
      ],
      "execution_count": 4
    },
    {
      "cell_type": "code",
      "metadata": {
        "ExecuteTime": {
          "end_time": "2025-01-16T09:48:38.072178Z",
          "start_time": "2025-01-16T09:48:38.069508Z"
        }
      },
      "source": [
        "import pprint\n",
        "\n",
        "pprint.pp(docs[0].metadata)"
      ],
      "outputs": [
        {
          "name": "stdout",
          "output_type": "stream",
          "text": [
            "{'producer': 'pdfTeX-1.40.21',\n",
            " 'creator': 'LaTeX with hyperref',\n",
            " 'creationdate': '2021-06-22T01:27:10+00:00',\n",
            " 'source': './example_data/layout-parser-paper.pdf',\n",
            " 'file_path': './example_data/layout-parser-paper.pdf',\n",
            " 'total_pages': 16,\n",
            " 'format': 'PDF 1.5',\n",
            " 'title': '',\n",
            " 'author': '',\n",
            " 'subject': '',\n",
            " 'keywords': '',\n",
            " 'moddate': '2021-06-22T01:27:10+00:00',\n",
            " 'trapped': '',\n",
            " 'page': 0}\n"
          ]
        }
      ],
      "execution_count": 5
    },
    {
      "cell_type": "markdown",
      "metadata": {},
      "source": [
        "## 延迟加载"
      ]
    },
    {
      "cell_type": "code",
      "metadata": {
        "ExecuteTime": {
          "end_time": "2025-01-16T09:48:39.349546Z",
          "start_time": "2025-01-16T09:48:39.295384Z"
        }
      },
      "source": [
        "pages = []\n",
        "for doc in loader.lazy_load():\n",
        "    pages.append(doc)\n",
        "    if len(pages) >= 10:\n",
        "        # do some paged operation, e.g.\n",
        "        # index.upsert(page)\n",
        "\n",
        "        pages = []\n",
        "len(pages)"
      ],
      "outputs": [
        {
          "data": {
            "text/plain": [
              "6"
            ]
          },
          "execution_count": 6,
          "metadata": {},
          "output_type": "execute_result"
        }
      ],
      "execution_count": 6
    },
    {
      "cell_type": "code",
      "metadata": {
        "ExecuteTime": {
          "end_time": "2025-01-16T09:48:39.991257Z",
          "start_time": "2025-01-16T09:48:39.987732Z"
        }
      },
      "source": [
        "print(pages[0].page_content[:100])\n",
        "pprint.pp(pages[0].metadata)"
      ],
      "outputs": [
        {
          "name": "stdout",
          "output_type": "stream",
          "text": [
            "LayoutParser: A Uniﬁed Toolkit for DL-Based DIA\n",
            "11\n",
            "focuses on precision, eﬃciency, and robustness. T\n",
            "{'producer': 'pdfTeX-1.40.21',\n",
            " 'creator': 'LaTeX with hyperref',\n",
            " 'creationdate': '2021-06-22T01:27:10+00:00',\n",
            " 'source': './example_data/layout-parser-paper.pdf',\n",
            " 'file_path': './example_data/layout-parser-paper.pdf',\n",
            " 'total_pages': 16,\n",
            " 'format': 'PDF 1.5',\n",
            " 'title': '',\n",
            " 'author': '',\n",
            " 'subject': '',\n",
            " 'keywords': '',\n",
            " 'moddate': '2021-06-22T01:27:10+00:00',\n",
            " 'trapped': '',\n",
            " 'page': 10}\n"
          ]
        }
      ],
      "execution_count": 7
    },
    {
      "cell_type": "markdown",
      "metadata": {},
      "source": [
        "metadata 属性至少包含以下键：\n- source\n- page (如果是 *page* 模式)\n- total_page\n- creationdate\n- creator\n- producer\n\n附加的 metadata 特定于每个解析器。\n这些信息可能很有用（例如，用于对 PDF 进行分类）。"
      ]
    },
    {
      "cell_type": "markdown",
      "metadata": {},
      "source": [
        "## 分割模式与自定义页面分隔符\n\nThis example demonstrates how you can configure the `next-md"
      ]
    },
    {
      "cell_type": "markdown",
      "metadata": {},
      "source": [
        "加载 PDF 文件时，您可以通过两种不同的方式进行拆分：\n\n- 按页面\n- 作为单一文本流\n\n默认情况下，PyMuPDFLoader 会按页面拆分 PDF。"
      ]
    },
    {
      "cell_type": "markdown",
      "metadata": {},
      "source": [
        "### 按页提取 PDF。每页提取为一个 langchain Document 对象："
      ]
    },
    {
      "cell_type": "code",
      "metadata": {
        "ExecuteTime": {
          "end_time": "2025-01-16T09:48:43.180738Z",
          "start_time": "2025-01-16T09:48:43.132909Z"
        }
      },
      "source": [
        "loader = PyMuPDFLoader(\n",
        "    \"./example_data/layout-parser-paper.pdf\",\n",
        "    mode=\"page\",\n",
        ")\n",
        "docs = loader.load()\n",
        "print(len(docs))\n",
        "pprint.pp(docs[0].metadata)"
      ],
      "outputs": [
        {
          "name": "stdout",
          "output_type": "stream",
          "text": [
            "16\n",
            "{'producer': 'pdfTeX-1.40.21',\n",
            " 'creator': 'LaTeX with hyperref',\n",
            " 'creationdate': '2021-06-22T01:27:10+00:00',\n",
            " 'source': './example_data/layout-parser-paper.pdf',\n",
            " 'file_path': './example_data/layout-parser-paper.pdf',\n",
            " 'total_pages': 16,\n",
            " 'format': 'PDF 1.5',\n",
            " 'title': '',\n",
            " 'author': '',\n",
            " 'subject': '',\n",
            " 'keywords': '',\n",
            " 'moddate': '2021-06-22T01:27:10+00:00',\n",
            " 'trapped': '',\n",
            " 'page': 0}\n"
          ]
        }
      ],
      "execution_count": 8
    },
    {
      "cell_type": "markdown",
      "metadata": {},
      "source": [
        "在此模式下，PDF 会按页面分割，生成的 Documents 元数据会包含页码。但有时我们希望将 PDF 作为单一文本流进行处理（这样就不会将某些段落截断）。在这种情况下，您可以使用 *single* 模式："
      ]
    },
    {
      "cell_type": "markdown",
      "metadata": {},
      "source": [
        "### 将整个 PDF 公司提取为单个 `langchain` Document 对象："
      ]
    },
    {
      "cell_type": "code",
      "metadata": {
        "ExecuteTime": {
          "end_time": "2025-01-16T09:48:45.358999Z",
          "start_time": "2025-01-16T09:48:45.305168Z"
        }
      },
      "source": [
        "loader = PyMuPDFLoader(\n",
        "    \"./example_data/layout-parser-paper.pdf\",\n",
        "    mode=\"single\",\n",
        ")\n",
        "docs = loader.load()\n",
        "print(len(docs))\n",
        "pprint.pp(docs[0].metadata)"
      ],
      "outputs": [
        {
          "name": "stdout",
          "output_type": "stream",
          "text": [
            "1\n",
            "{'producer': 'pdfTeX-1.40.21',\n",
            " 'creator': 'LaTeX with hyperref',\n",
            " 'creationdate': '2021-06-22T01:27:10+00:00',\n",
            " 'source': './example_data/layout-parser-paper.pdf',\n",
            " 'file_path': './example_data/layout-parser-paper.pdf',\n",
            " 'total_pages': 16,\n",
            " 'format': 'PDF 1.5',\n",
            " 'title': '',\n",
            " 'author': '',\n",
            " 'subject': '',\n",
            " 'keywords': '',\n",
            " 'moddate': '2021-06-22T01:27:10+00:00',\n",
            " 'trapped': ''}\n"
          ]
        }
      ],
      "execution_count": 9
    },
    {
      "cell_type": "markdown",
      "metadata": {},
      "source": [
        "从逻辑上讲，在此模式下，‘page_number’ 元数据将消失。以下是清晰识别页面在文本流中结束位置的方法："
      ]
    },
    {
      "metadata": {},
      "cell_type": "markdown",
      "source": "### 为 `single` 模式下的页面添加自定义的 `pages_delimiter` 来标识页面结束位置："
    },
    {
      "metadata": {},
      "cell_type": "code",
      "outputs": [],
      "execution_count": null,
      "source": [
        "loader = PyMuPDFLoader(\n",
        "    \"./example_data/layout-parser-paper.pdf\",\n",
        "    mode=\"single\",\n",
        "    pages_delimiter=\"\\n-------THIS IS A CUSTOM END OF PAGE-------\\n\",\n",
        ")\n",
        "docs = loader.load()\n",
        "print(docs[0].page_content[:5780])"
      ]
    },
    {
      "cell_type": "markdown",
      "metadata": {},
      "source": [
        "这可以简单地是 \\n，或者 \\f 来清楚地表示分页，或者 \\<!-- PAGE BREAK --> 来无缝地注入 Markdown 查看器中，而不会产生视觉效果。"
      ]
    },
    {
      "cell_type": "markdown",
      "metadata": {},
      "source": [
        "# 从 PDF 中提取图片"
      ]
    },
    {
      "cell_type": "markdown",
      "metadata": {},
      "source": [
        "您可以从 PDF 中提取图像，有三种不同的解决方案可供选择：\n- rapidOCR (轻量级光学字符识别工具)\n- Tesseract (高精度 OCR 工具)\n- 多模态语言模型\n\n您可以调整这些函数来选择提取图像的输出格式，支持 *html*、*markdown* 或 *text*。\n\n结果将插入到页面最后两个文本段落之间。"
      ]
    },
    {
      "cell_type": "markdown",
      "metadata": {},
      "source": [
        "### 使用 rapidOCR 从 PDF 中提取图像："
      ]
    },
    {
      "cell_type": "code",
      "metadata": {
        "ExecuteTime": {
          "end_time": "2025-01-16T09:48:52.381641Z",
          "start_time": "2025-01-16T09:48:50.979344Z"
        }
      },
      "source": [
        "%pip install -qU rapidocr-onnxruntime"
      ],
      "outputs": [
        {
          "name": "stdout",
          "output_type": "stream",
          "text": [
            "Note: you may need to restart the kernel to use updated packages.\n"
          ]
        }
      ],
      "execution_count": 11
    },
    {
      "metadata": {},
      "cell_type": "code",
      "outputs": [],
      "execution_count": null,
      "source": [
        "from langchain_community.document_loaders.parsers import RapidOCRBlobParser\n",
        "\n",
        "loader = PyMuPDFLoader(\n",
        "    \"./example_data/layout-parser-paper.pdf\",\n",
        "    mode=\"page\",\n",
        "    images_inner_format=\"markdown-img\",\n",
        "    images_parser=RapidOCRBlobParser(),\n",
        ")\n",
        "docs = loader.load()\n",
        "\n",
        "print(docs[5].page_content)"
      ]
    },
    {
      "cell_type": "markdown",
      "metadata": {},
      "source": [
        "请注意，RapidOCR 的设计是为了处理中文和英文，而不是其他语言。"
      ]
    },
    {
      "cell_type": "markdown",
      "metadata": {},
      "source": [
        "### 使用 Tesseract 从 PDF 中提取图像："
      ]
    },
    {
      "cell_type": "code",
      "metadata": {
        "ExecuteTime": {
          "end_time": "2025-01-15T09:03:07.148968Z",
          "start_time": "2025-01-15T09:03:05.580316Z"
        }
      },
      "source": [
        "%pip install -qU pytesseract"
      ],
      "outputs": [
        {
          "name": "stdout",
          "output_type": "stream",
          "text": [
            "Note: you may need to restart the kernel to use updated packages.\n"
          ]
        }
      ],
      "execution_count": 53
    },
    {
      "metadata": {},
      "cell_type": "code",
      "outputs": [],
      "execution_count": null,
      "source": [
        "from langchain_community.document_loaders.parsers import TesseractBlobParser\n",
        "\n",
        "loader = PyMuPDFLoader(\n",
        "    \"./example_data/layout-parser-paper.pdf\",\n",
        "    mode=\"page\",\n",
        "    images_inner_format=\"html-img\",\n",
        "    images_parser=TesseractBlobParser(),\n",
        ")\n",
        "docs = loader.load()\n",
        "print(docs[5].page_content)"
      ]
    },
    {
      "cell_type": "markdown",
      "metadata": {},
      "source": [
        "### 使用多模态模型从 PDF 中提取图像："
      ]
    },
    {
      "cell_type": "code",
      "metadata": {
        "ExecuteTime": {
          "end_time": "2025-01-16T07:14:05.692081Z",
          "start_time": "2025-01-16T07:14:04.251598Z"
        }
      },
      "source": [
        "%pip install -qU langchain_openai"
      ],
      "outputs": [
        {
          "name": "stdout",
          "output_type": "stream",
          "text": [
            "Note: you may need to restart the kernel to use updated packages.\n"
          ]
        }
      ],
      "execution_count": 15
    },
    {
      "cell_type": "code",
      "metadata": {
        "ExecuteTime": {
          "end_time": "2025-01-16T07:14:06.534821Z",
          "start_time": "2025-01-16T07:14:06.511587Z"
        }
      },
      "source": [
        "import os\n",
        "\n",
        "from dotenv import load_dotenv\n",
        "\n",
        "load_dotenv()"
      ],
      "outputs": [
        {
          "data": {
            "text/plain": [
              "True"
            ]
          },
          "execution_count": 16,
          "metadata": {},
          "output_type": "execute_result"
        }
      ],
      "execution_count": 16
    },
    {
      "cell_type": "code",
      "metadata": {
        "ExecuteTime": {
          "end_time": "2025-01-16T07:14:07.080591Z",
          "start_time": "2025-01-16T07:14:07.077724Z"
        }
      },
      "source": [
        "from getpass import getpass\n",
        "\n",
        "if not os.environ.get(\"OPENAI_API_KEY\"):\n",
        "    os.environ[\"OPENAI_API_KEY\"] = getpass(\"OpenAI API key =\")"
      ],
      "outputs": [],
      "execution_count": 17
    },
    {
      "metadata": {},
      "cell_type": "code",
      "outputs": [],
      "execution_count": null,
      "source": [
        "from langchain_community.document_loaders.parsers import LLMImageBlobParser\n",
        "from langchain_openai import ChatOpenAI\n",
        "\n",
        "loader = PyMuPDFLoader(\n",
        "    \"./example_data/layout-parser-paper.pdf\",\n",
        "    mode=\"page\",\n",
        "    images_inner_format=\"markdown-img\",\n",
        "    images_parser=LLMImageBlobParser(model=ChatOpenAI(model=\"gpt-4o\", max_tokens=1024)),\n",
        ")\n",
        "docs = loader.load()\n",
        "print(docs[5].page_content)"
      ]
    },
    {
      "cell_type": "markdown",
      "metadata": {},
      "source": [
        "# 从 PDF 中提取表格"
      ]
    },
    {
      "cell_type": "markdown",
      "metadata": {},
      "source": [
        "使用 PyMUPDF，您可以将 PDF 中的表格提取为 *html*、*markdown* 或 *csv* 格式："
      ]
    },
    {
      "cell_type": "code",
      "metadata": {
        "ExecuteTime": {
          "end_time": "2025-01-16T07:14:13.080261Z",
          "start_time": "2025-01-16T07:14:11.825744Z"
        }
      },
      "source": [
        "loader = PyMuPDFLoader(\n",
        "    \"./example_data/layout-parser-paper.pdf\",\n",
        "    mode=\"page\",\n",
        "    extract_tables=\"markdown\",\n",
        ")\n",
        "docs = loader.load()\n",
        "print(docs[4].page_content)"
      ],
      "outputs": [
        {
          "name": "stdout",
          "output_type": "stream",
          "text": [
            "LayoutParser: A Uniﬁed Toolkit for DL-Based DIA\n",
            "5\n",
            "Table 1: Current layout detection models in the LayoutParser model zoo\n",
            "Dataset\n",
            "Base Model1 Large Model\n",
            "Notes\n",
            "PubLayNet [38]\n",
            "F / M\n",
            "M\n",
            "Layouts of modern scientiﬁc documents\n",
            "PRImA [3]\n",
            "M\n",
            "-\n",
            "Layouts of scanned modern magazines and scientiﬁc reports\n",
            "Newspaper [17]\n",
            "F\n",
            "-\n",
            "Layouts of scanned US newspapers from the 20th century\n",
            "TableBank [18]\n",
            "F\n",
            "F\n",
            "Table region on modern scientiﬁc and business document\n",
            "HJDataset [31]\n",
            "F / M\n",
            "-\n",
            "Layouts of history Japanese documents\n",
            "1 For each dataset, we train several models of diﬀerent sizes for diﬀerent needs (the trade-oﬀbetween accuracy\n",
            "vs. computational cost). For “base model” and “large model”, we refer to using the ResNet 50 or ResNet 101\n",
            "backbones [13], respectively. One can train models of diﬀerent architectures, like Faster R-CNN [28] (F) and Mask\n",
            "R-CNN [12] (M). For example, an F in the Large Model column indicates it has a Faster R-CNN model trained\n",
            "using the ResNet 101 backbone. The platform is maintained and a number of additions will be made to the model\n",
            "zoo in coming months.\n",
            "layout data structures, which are optimized for eﬃciency and versatility. 3) When\n",
            "necessary, users can employ existing or customized OCR models via the uniﬁed\n",
            "API provided in the OCR module. 4) LayoutParser comes with a set of utility\n",
            "functions for the visualization and storage of the layout data. 5) LayoutParser\n",
            "is also highly customizable, via its integration with functions for layout data\n",
            "annotation and model training. We now provide detailed descriptions for each\n",
            "component.\n",
            "3.1\n",
            "Layout Detection Models\n",
            "In LayoutParser, a layout model takes a document image as an input and\n",
            "generates a list of rectangular boxes for the target content regions. Diﬀerent\n",
            "from traditional methods, it relies on deep convolutional neural networks rather\n",
            "than manually curated rules to identify content regions. It is formulated as an\n",
            "object detection problem and state-of-the-art models like Faster R-CNN [28] and\n",
            "Mask R-CNN [12] are used. This yields prediction results of high accuracy and\n",
            "makes it possible to build a concise, generalized interface for layout detection.\n",
            "LayoutParser, built upon Detectron2 [35], provides a minimal API that can\n",
            "perform layout detection with only four lines of code in Python:\n",
            "1 import\n",
            "layoutparser as lp\n",
            "2 image = cv2.imread(\"image_file\") # load\n",
            "images\n",
            "3 model = lp. Detectron2LayoutModel (\n",
            "4\n",
            "\"lp:// PubLayNet/ faster_rcnn_R_50_FPN_3x /config\")\n",
            "5 layout = model.detect(image)\n",
            "LayoutParser provides a wealth of pre-trained model weights using various\n",
            "datasets covering diﬀerent languages, time periods, and document types. Due to\n",
            "domain shift [7], the prediction performance can notably drop when models are ap-\n",
            "plied to target samples that are signiﬁcantly diﬀerent from the training dataset. As\n",
            "document structures and layouts vary greatly in diﬀerent domains, it is important\n",
            "to select models trained on a dataset similar to the test samples. A semantic syntax\n",
            "is used for initializing the model weights in LayoutParser, using both the dataset\n",
            "name and model name lp://<dataset-name>/<model-architecture-name>.\n",
            "\n",
            "\n",
            "|Dataset|Base Model1|Large Model|Notes|\n",
            "|---|---|---|---|\n",
            "|PubLayNet [38] PRImA [3] Newspaper [17] TableBank [18] HJDataset [31]|F / M M F F F / M|M &amp;#45; &amp;#45; F &amp;#45;|Layouts of modern scientific documents Layouts of scanned modern magazines and scientific reports Layouts of scanned US newspapers from the 20th century Table region on modern scientific and business document Layouts of history Japanese documents|\n"
          ]
        }
      ],
      "execution_count": 19
    },
    {
      "cell_type": "markdown",
      "metadata": {},
      "source": [
        "## 处理文件\n\n许多文档加载器都涉及解析文件。这类加载器之间的区别通常源于解析文件的方式，而不是加载文件的方式。例如，你可以使用 `open` 来读取 PDF 或 markdown 文件的二进制内容，但你需要不同的解析逻辑来将这些二进制数据转换为文本。\n\n因此，将解析逻辑与加载逻辑解耦会很有帮助，这样可以更轻松地重用给定的解析器，无论数据是如何加载的。\n你可以使用此策略来分析不同的文件，并使用相同的解析参数。"
      ]
    },
    {
      "cell_type": "code",
      "metadata": {
        "ExecuteTime": {
          "end_time": "2025-01-16T07:14:13.355746Z",
          "start_time": "2025-01-16T07:14:13.304456Z"
        }
      },
      "source": [
        "from langchain_community.document_loaders import FileSystemBlobLoader\n",
        "from langchain_community.document_loaders.generic import GenericLoader\n",
        "from langchain_community.document_loaders.parsers import PyMuPDFParser\n",
        "\n",
        "loader = GenericLoader(\n",
        "    blob_loader=FileSystemBlobLoader(\n",
        "        path=\"./example_data/\",\n",
        "        glob=\"*.pdf\",\n",
        "    ),\n",
        "    blob_parser=PyMuPDFParser(),\n",
        ")\n",
        "docs = loader.load()\n",
        "print(docs[0].page_content)\n",
        "pprint.pp(docs[0].metadata)"
      ],
      "outputs": [
        {
          "name": "stdout",
          "output_type": "stream",
          "text": [
            "LayoutParser: A Uniﬁed Toolkit for Deep\n",
            "Learning Based Document Image Analysis\n",
            "Zejiang Shen1 (\u0000), Ruochen Zhang2, Melissa Dell3, Benjamin Charles Germain\n",
            "Lee4, Jacob Carlson3, and Weining Li5\n",
            "1 Allen Institute for AI\n",
            "shannons@allenai.org\n",
            "2 Brown University\n",
            "ruochen zhang@brown.edu\n",
            "3 Harvard University\n",
            "{melissadell,jacob carlson}@fas.harvard.edu\n",
            "4 University of Washington\n",
            "bcgl@cs.washington.edu\n",
            "5 University of Waterloo\n",
            "w422li@uwaterloo.ca\n",
            "Abstract. Recent advances in document image analysis (DIA) have been\n",
            "primarily driven by the application of neural networks. Ideally, research\n",
            "outcomes could be easily deployed in production and extended for further\n",
            "investigation. However, various factors like loosely organized codebases\n",
            "and sophisticated model conﬁgurations complicate the easy reuse of im-\n",
            "portant innovations by a wide audience. Though there have been on-going\n",
            "eﬀorts to improve reusability and simplify deep learning (DL) model\n",
            "development in disciplines like natural language processing and computer\n",
            "vision, none of them are optimized for challenges in the domain of DIA.\n",
            "This represents a major gap in the existing toolkit, as DIA is central to\n",
            "academic research across a wide range of disciplines in the social sciences\n",
            "and humanities. This paper introduces LayoutParser, an open-source\n",
            "library for streamlining the usage of DL in DIA research and applica-\n",
            "tions. The core LayoutParser library comes with a set of simple and\n",
            "intuitive interfaces for applying and customizing DL models for layout de-\n",
            "tection, character recognition, and many other document processing tasks.\n",
            "To promote extensibility, LayoutParser also incorporates a community\n",
            "platform for sharing both pre-trained models and full document digiti-\n",
            "zation pipelines. We demonstrate that LayoutParser is helpful for both\n",
            "lightweight and large-scale digitization pipelines in real-word use cases.\n",
            "The library is publicly available at https://layout-parser.github.io.\n",
            "Keywords: Document Image Analysis · Deep Learning · Layout Analysis\n",
            "· Character Recognition · Open Source library · Toolkit.\n",
            "1\n",
            "Introduction\n",
            "Deep Learning(DL)-based approaches are the state-of-the-art for a wide range of\n",
            "document image analysis (DIA) tasks including document image classiﬁcation [11,\n",
            "arXiv:2103.15348v2  [cs.CV]  21 Jun 2021\n",
            "{'source': 'example_data/layout-parser-paper.pdf',\n",
            " 'file_path': 'example_data/layout-parser-paper.pdf',\n",
            " 'total_pages': 16,\n",
            " 'format': 'PDF 1.5',\n",
            " 'title': '',\n",
            " 'author': '',\n",
            " 'subject': '',\n",
            " 'keywords': '',\n",
            " 'creator': 'LaTeX with hyperref',\n",
            " 'producer': 'pdfTeX-1.40.21',\n",
            " 'creationdate': '2021-06-22T01:27:10+00:00',\n",
            " 'moddate': '2021-06-22T01:27:10+00:00',\n",
            " 'trapped': '',\n",
            " 'page': 0}\n"
          ]
        }
      ],
      "execution_count": 20
    },
    {
      "cell_type": "markdown",
      "metadata": {},
      "source": "与云存储中的文件进行交互是可能的。"
    },
    {
      "cell_type": "code",
      "metadata": {},
      "source": [
        "from langchain_community.document_loaders import CloudBlobLoader\n",
        "from langchain_community.document_loaders.generic import GenericLoader\n",
        "\n",
        "loader = GenericLoader(\n",
        "    blob_loader=CloudBlobLoader(\n",
        "        url=\"s3:/mybucket\",  # Supports s3://, az://, gs://, file:// schemes.\n",
        "        glob=\"*.pdf\",\n",
        "    ),\n",
        "    blob_parser=PyMuPDFParser(),\n",
        ")\n",
        "docs = loader.load()\n",
        "print(docs[0].page_content)\n",
        "pprint.pp(docs[0].metadata)"
      ],
      "outputs": [],
      "execution_count": null
    },
    {
      "cell_type": "markdown",
      "metadata": {},
      "source": [
        "## API 参考\n\n有关 `PyMuPDFLoader` 所有功能和配置的详细文档，请访问 API 参考：https://python.langchain.com/api_reference/community/document_loaders/langchain_community.document_loaders.pdf.PyMuPDFLoader.html"
      ]
    }
  ],
  "metadata": {
    "kernelspec": {
      "display_name": "Python 3 (ipykernel)",
      "language": "python",
      "name": "python3"
    },
    "language_info": {
      "codemirror_mode": {
        "name": "ipython",
        "version": 3
      },
      "file_extension": ".py",
      "mimetype": "text/x-python",
      "name": "python",
      "nbconvert_exporter": "python",
      "pygments_lexer": "ipython3",
      "version": "3.12.7"
    }
  },
  "nbformat": 4,
  "nbformat_minor": 4
}