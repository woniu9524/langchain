{
  "cells": [
    {
      "cell_type": "markdown",
      "id": "4bdaea79",
      "metadata": {},
      "source": [
        "# 副标题\n\n>[The SubRip file format](https://en.wikipedia.org/wiki/SubRip#SubRip_file_format) 在 `Matroska` 多媒体容器格式网站上被描述为“或许是最基本的所有字幕格式”。 `SubRip (SubRip Text)` 文件的扩展名为 `.srt`，并且包含格式化的纯文本行，这些行由空行分隔。字幕按顺序编号，从 1 开始。使用的时码格式是 `hours:minutes:seconds,milliseconds`，其中时间单位固定为两位零填充数字，小数部分固定为三位零填充数字 (00:00:00,000)。由于该程序是在法国编写的，因此使用逗号作为小数分隔符。\n\n如何从字幕 (`.srt`) 文件加载数据\n\n请在此处下载 [示例 .srt 文件](https://www.opensubtitles.org/en/subtitles/5575150/star-wars-the-clone-wars-crisis-at-the-heart-en)。"
      ]
    },
    {
      "cell_type": "code",
      "execution_count": null,
      "id": "c6eb0372-ad36-4747-8120-d1557fe632fd",
      "metadata": {
        "tags": []
      },
      "outputs": [],
      "source": [
        "%pip install --upgrade --quiet  pysrt"
      ]
    },
    {
      "cell_type": "code",
      "execution_count": 4,
      "id": "2cbb7f5c",
      "metadata": {
        "tags": []
      },
      "outputs": [],
      "source": [
        "from langchain_community.document_loaders import SRTLoader"
      ]
    },
    {
      "cell_type": "code",
      "execution_count": 5,
      "id": "865d8a14",
      "metadata": {
        "tags": []
      },
      "outputs": [],
      "source": [
        "loader = SRTLoader(\n",
        "    \"example_data/Star_Wars_The_Clone_Wars_S06E07_Crisis_at_the_Heart.srt\"\n",
        ")"
      ]
    },
    {
      "cell_type": "code",
      "execution_count": null,
      "id": "173a9234",
      "metadata": {
        "tags": []
      },
      "outputs": [],
      "source": [
        "docs = loader.load()"
      ]
    },
    {
      "cell_type": "code",
      "execution_count": 27,
      "id": "15e00030",
      "metadata": {},
      "outputs": [
        {
          "data": {
            "text/plain": [
              "'<i>Corruption discovered\\nat the core of the Banking Clan!</i> <i>Reunited, Rush Clovis\\nand Senator A'"
            ]
          },
          "execution_count": 27,
          "metadata": {},
          "output_type": "execute_result"
        }
      ],
      "source": [
        "docs[0].page_content[:100]"
      ]
    }
  ],
  "metadata": {
    "kernelspec": {
      "display_name": "Python 3 (ipykernel)",
      "language": "python",
      "name": "python3"
    },
    "language_info": {
      "codemirror_mode": {
        "name": "ipython",
        "version": 3
      },
      "file_extension": ".py",
      "mimetype": "text/x-python",
      "name": "python",
      "nbconvert_exporter": "python",
      "pygments_lexer": "ipython3",
      "version": "3.10.6"
    }
  },
  "nbformat": 4,
  "nbformat_minor": 5
}