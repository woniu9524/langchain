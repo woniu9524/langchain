{
  "cells": [
    {
      "cell_type": "markdown",
      "id": "0ef41fd4",
      "metadata": {},
      "source": [
        "# Google Cloud Storage 目录\n\n>[Google Cloud Storage](https://en.wikipedia.org/wiki/Google_Cloud_Storage) 是一项用于存储非结构化数据的托管服务。\n\n这涵盖了如何从 `Google Cloud Storage (GCS) 目录（存储桶）` 加载文档对象。"
      ]
    },
    {
      "cell_type": "code",
      "execution_count": 2,
      "id": "93a4d0f1",
      "metadata": {
        "scrolled": true
      },
      "outputs": [],
      "source": [
        "%pip install --upgrade --quiet  langchain-google-community[gcs]"
      ]
    },
    {
      "cell_type": "code",
      "execution_count": 1,
      "id": "5cfb25c9",
      "metadata": {},
      "outputs": [],
      "source": [
        "from langchain_google_community import GCSDirectoryLoader"
      ]
    },
    {
      "cell_type": "code",
      "execution_count": 3,
      "id": "633dc839",
      "metadata": {},
      "outputs": [],
      "source": [
        "loader = GCSDirectoryLoader(project_name=\"aist\", bucket=\"testing-hwc\")"
      ]
    },
    {
      "cell_type": "code",
      "execution_count": 4,
      "id": "a863467d",
      "metadata": {},
      "outputs": [
        {
          "name": "stderr",
          "output_type": "stream",
          "text": [
            "/Users/harrisonchase/workplace/langchain/.venv/lib/python3.10/site-packages/google/auth/_default.py:83: UserWarning: Your application has authenticated using end user credentials from Google Cloud SDK without a quota project. You might receive a \"quota exceeded\" or \"API not enabled\" error. We recommend you rerun `gcloud auth application-default login` and make sure a quota project is added. Or you can use service accounts instead. For more information about service accounts, see https://cloud.google.com/docs/authentication/\n",
            "  warnings.warn(_CLOUD_SDK_CREDENTIALS_WARNING)\n",
            "/Users/harrisonchase/workplace/langchain/.venv/lib/python3.10/site-packages/google/auth/_default.py:83: UserWarning: Your application has authenticated using end user credentials from Google Cloud SDK without a quota project. You might receive a \"quota exceeded\" or \"API not enabled\" error. We recommend you rerun `gcloud auth application-default login` and make sure a quota project is added. Or you can use service accounts instead. For more information about service accounts, see https://cloud.google.com/docs/authentication/\n",
            "  warnings.warn(_CLOUD_SDK_CREDENTIALS_WARNING)\n"
          ]
        },
        {
          "data": {
            "text/plain": [
              "[Document(page_content='Lorem ipsum dolor sit amet.', lookup_str='', metadata={'source': '/var/folders/y6/8_bzdg295ld6s1_97_12m4lr0000gn/T/tmpz37njh7u/fake.docx'}, lookup_index=0)]"
            ]
          },
          "execution_count": 4,
          "metadata": {},
          "output_type": "execute_result"
        }
      ],
      "source": [
        "loader.load()"
      ]
    },
    {
      "cell_type": "markdown",
      "id": "17c0dcbb",
      "metadata": {},
      "source": [
        "## 指定前缀\n你还可以指定一个前缀以更精细地控制要加载的文件——包括加载特定文件夹中的所有文件。"
      ]
    },
    {
      "cell_type": "code",
      "execution_count": 6,
      "id": "b3143c89",
      "metadata": {},
      "outputs": [],
      "source": [
        "loader = GCSDirectoryLoader(project_name=\"aist\", bucket=\"testing-hwc\", prefix=\"fake\")"
      ]
    },
    {
      "cell_type": "code",
      "execution_count": 7,
      "id": "226ac6f5",
      "metadata": {},
      "outputs": [
        {
          "name": "stderr",
          "output_type": "stream",
          "text": [
            "/Users/harrisonchase/workplace/langchain/.venv/lib/python3.10/site-packages/google/auth/_default.py:83: UserWarning: Your application has authenticated using end user credentials from Google Cloud SDK without a quota project. You might receive a \"quota exceeded\" or \"API not enabled\" error. We recommend you rerun `gcloud auth application-default login` and make sure a quota project is added. Or you can use service accounts instead. For more information about service accounts, see https://cloud.google.com/docs/authentication/\n",
            "  warnings.warn(_CLOUD_SDK_CREDENTIALS_WARNING)\n",
            "/Users/harrisonchase/workplace/langchain/.venv/lib/python3.10/site-packages/google/auth/_default.py:83: UserWarning: Your application has authenticated using end user credentials from Google Cloud SDK without a quota project. You might receive a \"quota exceeded\" or \"API not enabled\" error. We recommend you rerun `gcloud auth application-default login` and make sure a quota project is added. Or you can use service accounts instead. For more information about service accounts, see https://cloud.google.com/docs/authentication/\n",
            "  warnings.warn(_CLOUD_SDK_CREDENTIALS_WARNING)\n"
          ]
        },
        {
          "data": {
            "text/plain": [
              "[Document(page_content='Lorem ipsum dolor sit amet.', lookup_str='', metadata={'source': '/var/folders/y6/8_bzdg295ld6s1_97_12m4lr0000gn/T/tmpylg6291i/fake.docx'}, lookup_index=0)]"
            ]
          },
          "execution_count": 7,
          "metadata": {},
          "output_type": "execute_result"
        }
      ],
      "source": [
        "loader.load()"
      ]
    },
    {
      "cell_type": "markdown",
      "id": "f9c0734f",
      "metadata": {},
      "source": [
        "## 发生单个文件加载失败时继续\n\nGCS 存储桶中的文件在处理过程中可能会导致错误。启用 `continue_on_failure=True` 参数可允许静默失败。这意味着处理单个文件的失败不会中断函数，而是会记录一个警告。"
      ]
    },
    {
      "cell_type": "code",
      "execution_count": null,
      "id": "3d774795",
      "metadata": {},
      "outputs": [],
      "source": [
        "loader = GCSDirectoryLoader(\n",
        "    project_name=\"aist\", bucket=\"testing-hwc\", continue_on_failure=True\n",
        ")"
      ]
    },
    {
      "cell_type": "code",
      "execution_count": null,
      "id": "0d15f536",
      "metadata": {},
      "outputs": [],
      "source": [
        "loader.load()"
      ]
    }
  ],
  "metadata": {
    "kernelspec": {
      "display_name": "Python 3.10.6 64-bit",
      "language": "python",
      "name": "python3"
    },
    "language_info": {
      "codemirror_mode": {
        "name": "ipython",
        "version": 3
      },
      "file_extension": ".py",
      "mimetype": "text/x-python",
      "name": "python",
      "nbconvert_exporter": "python",
      "pygments_lexer": "ipython3",
      "version": "3.10.6"
    },
    "vscode": {
      "interpreter": {
        "hash": "5f90d085fc70553c85f15dd96b84c64a94d58988a621c9dbc38cac6a7e6079b3"
      }
    }
  },
  "nbformat": 4,
  "nbformat_minor": 5
}