{
  "cells": [
    {
      "cell_type": "markdown",
      "id": "22a849cc",
      "metadata": {},
      "source": [
        "# Microsoft Excel\n\n`UnstructuredExcelLoader` 用于加载 `Microsoft Excel` 文件。该加载器支持 `.xlsx` 和 `.xls` 文件。页面内容将是 Excel 文件的原始内容。如果您在 `\"elements\"` 模式下使用此加载器，文档元数据中将以 `text_as_html` 键的形式提供 Excel 文件的 HTML 表示。\n\n有关设置本地 Unstructured 的更多说明，包括设置所需的系统依赖项，请参阅[此指南](/docs/integrations/providers/unstructured/)。"
      ]
    },
    {
      "cell_type": "code",
      "execution_count": null,
      "id": "0b01ee46",
      "metadata": {},
      "outputs": [],
      "source": [
        "%pip install --upgrade --quiet langchain-community unstructured openpyxl"
      ]
    },
    {
      "cell_type": "code",
      "execution_count": 2,
      "id": "a654e4d9",
      "metadata": {},
      "outputs": [
        {
          "name": "stdout",
          "output_type": "stream",
          "text": [
            "4\n"
          ]
        },
        {
          "data": {
            "text/plain": [
              "[Document(page_content='Stanley Cups', metadata={'source': './example_data/stanley-cups.xlsx', 'file_directory': './example_data', 'filename': 'stanley-cups.xlsx', 'last_modified': '2023-12-19T13:42:18', 'page_name': 'Stanley Cups', 'page_number': 1, 'languages': ['eng'], 'filetype': 'application/vnd.openxmlformats-officedocument.spreadsheetml.sheet', 'category': 'Title'}),\n",
              " Document(page_content='\\n\\n\\nTeam\\nLocation\\nStanley Cups\\n\\n\\nBlues\\nSTL\\n1\\n\\n\\nFlyers\\nPHI\\n2\\n\\n\\nMaple Leafs\\nTOR\\n13\\n\\n\\n', metadata={'source': './example_data/stanley-cups.xlsx', 'file_directory': './example_data', 'filename': 'stanley-cups.xlsx', 'last_modified': '2023-12-19T13:42:18', 'page_name': 'Stanley Cups', 'page_number': 1, 'text_as_html': '<table border=\"1\" class=\"dataframe\">\\n  <tbody>\\n    <tr>\\n      <td>Team</td>\\n      <td>Location</td>\\n      <td>Stanley Cups</td>\\n    </tr>\\n    <tr>\\n      <td>Blues</td>\\n      <td>STL</td>\\n      <td>1</td>\\n    </tr>\\n    <tr>\\n      <td>Flyers</td>\\n      <td>PHI</td>\\n      <td>2</td>\\n    </tr>\\n    <tr>\\n      <td>Maple Leafs</td>\\n      <td>TOR</td>\\n      <td>13</td>\\n    </tr>\\n  </tbody>\\n</table>', 'languages': ['eng'], 'parent_id': '17e9a90f9616f2abed8cf32b5bd3810d', 'filetype': 'application/vnd.openxmlformats-officedocument.spreadsheetml.sheet', 'category': 'Table'}),\n",
              " Document(page_content='Stanley Cups Since 67', metadata={'source': './example_data/stanley-cups.xlsx', 'file_directory': './example_data', 'filename': 'stanley-cups.xlsx', 'last_modified': '2023-12-19T13:42:18', 'page_name': 'Stanley Cups Since 67', 'page_number': 2, 'languages': ['eng'], 'filetype': 'application/vnd.openxmlformats-officedocument.spreadsheetml.sheet', 'category': 'Title'}),\n",
              " Document(page_content='\\n\\n\\nTeam\\nLocation\\nStanley Cups\\n\\n\\nBlues\\nSTL\\n1\\n\\n\\nFlyers\\nPHI\\n2\\n\\n\\nMaple Leafs\\nTOR\\n0\\n\\n\\n', metadata={'source': './example_data/stanley-cups.xlsx', 'file_directory': './example_data', 'filename': 'stanley-cups.xlsx', 'last_modified': '2023-12-19T13:42:18', 'page_name': 'Stanley Cups Since 67', 'page_number': 2, 'text_as_html': '<table border=\"1\" class=\"dataframe\">\\n  <tbody>\\n    <tr>\\n      <td>Team</td>\\n      <td>Location</td>\\n      <td>Stanley Cups</td>\\n    </tr>\\n    <tr>\\n      <td>Blues</td>\\n      <td>STL</td>\\n      <td>1</td>\\n    </tr>\\n    <tr>\\n      <td>Flyers</td>\\n      <td>PHI</td>\\n      <td>2</td>\\n    </tr>\\n    <tr>\\n      <td>Maple Leafs</td>\\n      <td>TOR</td>\\n      <td>0</td>\\n    </tr>\\n  </tbody>\\n</table>', 'languages': ['eng'], 'parent_id': 'ee34bd8c186b57e3530d5443ffa58122', 'filetype': 'application/vnd.openxmlformats-officedocument.spreadsheetml.sheet', 'category': 'Table'})]"
            ]
          },
          "execution_count": 2,
          "metadata": {},
          "output_type": "execute_result"
        }
      ],
      "source": [
        "from langchain_community.document_loaders import UnstructuredExcelLoader\n",
        "\n",
        "loader = UnstructuredExcelLoader(\"./example_data/stanley-cups.xlsx\", mode=\"elements\")\n",
        "docs = loader.load()\n",
        "\n",
        "print(len(docs))\n",
        "\n",
        "docs"
      ]
    },
    {
      "cell_type": "markdown",
      "id": "729ab1a2",
      "metadata": {},
      "source": [
        "## 使用 Azure AI Document Intelligence\n\n>[Azure AI Document Intelligence](https://aka.ms/doc-intelligence) (原名 `Azure Form Recognizer`) 是一项基于机器学习的服务，可从数字或扫描的 PDF、图片、Office 和 HTML 文件中提取文本（包括手写体）、表格、文档结构（例如标题、章节标题等）以及键值对。\n\nDocument Intelligence 支持 `PDF`、`JPEG/JPG`、`PNG`、`BMP`、`TIFF`、`HEIF`、`DOCX`、`XLSX`、`PPTX` 和 `HTML`。\n\n当前使用 `Document Intelligence` 的 Loader 实现可以将内容按页纳入并将其转换为 LangChain 文档。默认输出格式为 markdown，可以轻松地与 `MarkdownHeaderTextSplitter` 结合进行语义文档分块。您还可以使用 `mode=\"single\"` 或 `mode=\"page\"` 返回纯文本，形式为单页或按页面分割的文档。"
      ]
    },
    {
      "cell_type": "markdown",
      "id": "fbe5c77d",
      "metadata": {},
      "source": [
        "### 先决条件\n\n在以下 3 个预览区域之一创建 Azure AI Document Intelligence 资源：**美国东部**、**美国西部 2**、**欧洲西部** - 如果您还没有，请遵循[此文档](https://learn.microsoft.com/azure/ai-services/document-intelligence/create-document-intelligence-resource?view=doc-intel-4.0.0)创建资源。您将把 `<endpoint>` 和 `<key>` 作为参数传递给加载器。"
      ]
    },
    {
      "cell_type": "code",
      "execution_count": null,
      "id": "fda529f8",
      "metadata": {},
      "outputs": [],
      "source": [
        "%pip install --upgrade --quiet langchain langchain-community azure-ai-documentintelligence"
      ]
    },
    {
      "cell_type": "code",
      "execution_count": null,
      "id": "aa008547",
      "metadata": {},
      "outputs": [],
      "source": [
        "from langchain_community.document_loaders import AzureAIDocumentIntelligenceLoader\n",
        "\n",
        "file_path = \"<filepath>\"\n",
        "endpoint = \"<endpoint>\"\n",
        "key = \"<key>\"\n",
        "loader = AzureAIDocumentIntelligenceLoader(\n",
        "    api_endpoint=endpoint, api_key=key, file_path=file_path, api_model=\"prebuilt-layout\"\n",
        ")\n",
        "\n",
        "documents = loader.load()"
      ]
    }
  ],
  "metadata": {
    "kernelspec": {
      "display_name": "Python 3 (ipykernel)",
      "language": "python",
      "name": "python3"
    },
    "language_info": {
      "codemirror_mode": {
        "name": "ipython",
        "version": 3
      },
      "file_extension": ".py",
      "mimetype": "text/x-python",
      "name": "python",
      "nbconvert_exporter": "python",
      "pygments_lexer": "ipython3",
      "version": "3.10.5"
    }
  },
  "nbformat": 4,
  "nbformat_minor": 5
}