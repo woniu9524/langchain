{
  "cells": [
    {
      "attachments": {},
      "cell_type": "markdown",
      "id": "1dc7df1d",
      "metadata": {},
      "source": [
        "# Roam\n\n>[ROAM](https://roamresearch.com/) 是一款用于网络化思考的笔记工具，旨在创建个人知识库。\n\n本笔记介绍了如何从 Roam 数据库加载文档。这受到了[此处](https://github.com/JimmyLv/roam-qa)示例仓库的许多启发。\n\n## 🧑 摄取您自己数据集的说明\n\n从 Roam Research 导出您的数据集。您可以通过单击右上角的三个点，然后单击 `Export` 来完成此操作。\n\n导出时，请确保选择 `Markdown & CSV` 格式选项。\n\n这将在您的 Downloads 文件夹中生成一个 `.zip` 文件。将 `.zip` 文件移动到此存储库中。\n\n运行以下命令解压缩 zip 文件（如有需要，请将 `Export...` 替换为您自己的文件名）。\n\n```shell\nunzip Roam-Export-1675782732639.zip -d Roam_DB\n```"
      ]
    },
    {
      "cell_type": "code",
      "execution_count": 1,
      "id": "007c5cbf",
      "metadata": {},
      "outputs": [],
      "source": [
        "from langchain_community.document_loaders import RoamLoader"
      ]
    },
    {
      "cell_type": "code",
      "execution_count": null,
      "id": "a1caec59",
      "metadata": {},
      "outputs": [],
      "source": [
        "loader = RoamLoader(\"Roam_DB\")"
      ]
    },
    {
      "cell_type": "code",
      "execution_count": null,
      "id": "b1c30ff7",
      "metadata": {},
      "outputs": [],
      "source": [
        "docs = loader.load()"
      ]
    }
  ],
  "metadata": {
    "kernelspec": {
      "display_name": "Python 3 (ipykernel)",
      "language": "python",
      "name": "python3"
    },
    "language_info": {
      "codemirror_mode": {
        "name": "ipython",
        "version": 3
      },
      "file_extension": ".py",
      "mimetype": "text/x-python",
      "name": "python",
      "nbconvert_exporter": "python",
      "pygments_lexer": "ipython3",
      "version": "3.10.6"
    }
  },
  "nbformat": 4,
  "nbformat_minor": 5
}