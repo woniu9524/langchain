{
  "cells": [
    {
      "cell_type": "markdown",
      "id": "4394a872",
      "metadata": {},
      "source": [
        "# 华为 OBS 文件\n以下代码演示了如何将华为 OBS（对象存储服务）中的对象加载为文档。"
      ]
    },
    {
      "cell_type": "code",
      "execution_count": null,
      "id": "c43d811b",
      "metadata": {},
      "outputs": [],
      "source": [
        "# Install the required package\n",
        "# pip install esdk-obs-python"
      ]
    },
    {
      "cell_type": "code",
      "execution_count": 1,
      "id": "5e16bae6",
      "metadata": {},
      "outputs": [],
      "source": [
        "from langchain_community.document_loaders.obs_file import OBSFileLoader"
      ]
    },
    {
      "cell_type": "code",
      "execution_count": 2,
      "id": "75cc7e7c",
      "metadata": {},
      "outputs": [],
      "source": [
        "endpoint = \"your-endpoint\""
      ]
    },
    {
      "cell_type": "code",
      "execution_count": 3,
      "id": "f9816984",
      "metadata": {},
      "outputs": [],
      "source": [
        "from obs import ObsClient\n",
        "\n",
        "obs_client = ObsClient(\n",
        "    access_key_id=\"your-access-key\",\n",
        "    secret_access_key=\"your-secret-key\",\n",
        "    server=endpoint,\n",
        ")\n",
        "loader = OBSFileLoader(\"your-bucket-name\", \"your-object-key\", client=obs_client)"
      ]
    },
    {
      "cell_type": "code",
      "execution_count": null,
      "id": "6143b39b",
      "metadata": {},
      "outputs": [],
      "source": [
        "loader.load()"
      ]
    },
    {
      "cell_type": "markdown",
      "id": "633e05ca",
      "metadata": {},
      "source": [
        "## 每个 Loader 使用独立的认证信息\n如果你不需要在不同的 Loaders 之间重用 OBS 连接，可以直接配置 `config`。Loader 将使用该配置信息初始化自己的 OBS client。"
      ]
    },
    {
      "cell_type": "code",
      "execution_count": 4,
      "id": "a5dd6a5d",
      "metadata": {},
      "outputs": [],
      "source": [
        "# Configure your access credentials\\n\n",
        "config = {\"ak\": \"your-access-key\", \"sk\": \"your-secret-key\"}\n",
        "loader = OBSFileLoader(\n",
        "    \"your-bucket-name\", \"your-object-key\", endpoint=endpoint, config=config\n",
        ")"
      ]
    },
    {
      "cell_type": "code",
      "execution_count": null,
      "id": "9a741f1c",
      "metadata": {},
      "outputs": [],
      "source": [
        "loader.load()"
      ]
    },
    {
      "cell_type": "markdown",
      "id": "1e2e611c",
      "metadata": {},
      "source": [
        "## 从 ECS 获取认证信息\n如果您的 langchain 部署在华为云 ECS 上，并且[设置了代理](https://support.huaweicloud.com/intl/en-us/usermanual-ecs/ecs_03_0166.html#section7)，那么加载器可以直接从 ECS 获取安全令牌，无需访问密钥和密钥。"
      ]
    },
    {
      "cell_type": "code",
      "execution_count": 5,
      "id": "338fafef",
      "metadata": {},
      "outputs": [],
      "source": [
        "config = {\"get_token_from_ecs\": True}\n",
        "loader = OBSFileLoader(\n",
        "    \"your-bucket-name\", \"your-object-key\", endpoint=endpoint, config=config\n",
        ")"
      ]
    },
    {
      "cell_type": "code",
      "execution_count": null,
      "id": "73976c55",
      "metadata": {},
      "outputs": [],
      "source": [
        "loader.load()"
      ]
    },
    {
      "cell_type": "markdown",
      "id": "b77aa18c",
      "metadata": {},
      "source": [
        "## 访问公共可访问对象\n如果希望访问的对象允许匿名用户访问（匿名用户拥有 `GetObject` 权限），您可以直接加载对象，无需配置 `config` 参数。"
      ]
    },
    {
      "cell_type": "code",
      "execution_count": 6,
      "id": "df83d121",
      "metadata": {},
      "outputs": [],
      "source": [
        "loader = OBSFileLoader(\"your-bucket-name\", \"your-object-key\", endpoint=endpoint)"
      ]
    },
    {
      "cell_type": "code",
      "execution_count": null,
      "id": "82a844ba",
      "metadata": {},
      "outputs": [],
      "source": [
        "loader.load()"
      ]
    }
  ],
  "metadata": {
    "kernelspec": {
      "display_name": "Python 3 (ipykernel)",
      "language": "python",
      "name": "python3"
    },
    "language_info": {
      "codemirror_mode": {
        "name": "ipython",
        "version": 3
      },
      "file_extension": ".py",
      "mimetype": "text/x-python",
      "name": "python",
      "nbconvert_exporter": "python",
      "pygments_lexer": "ipython3",
      "version": "3.10.7"
    }
  },
  "nbformat": 4,
  "nbformat_minor": 5
}