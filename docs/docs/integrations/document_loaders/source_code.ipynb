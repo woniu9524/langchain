{
  "cells": [
    {
      "cell_type": "markdown",
      "id": "213a38a2",
      "metadata": {},
      "source": [
        "# 源代码\n\n本笔记本介绍如何使用一种特殊的语言解析方法加载源代码文件：代码中的每个顶级函数和类都将被加载到单独的文档中。任何已加载函数和类之外的剩余顶级代码都将被加载到另一个单独的文档中。\n\n这种方法有可能提高 QA 模型处理源代码的准确性。\n\n支持的代码解析语言包括：\n\n- C (*)\n- C++ (*)\n- C# (*)\n- COBOL\n- Elixir\n- Go (*)\n- Java (*)\n- JavaScript (需要包 `esprima`)\n- Kotlin (*)\n- Lua (*)\n- Perl (*)\n- Python\n- Ruby (*)\n- Rust (*)\n- Scala (*)\n- TypeScript (*)\n\n标记为 (*) 的项目需要 `tree_sitter` 和 `tree_sitter_languages` 包。\n使用 `tree_sitter` 可以轻松地为其他语言添加支持，\n尽管目前这需要修改 LangChain。\n\n可以配置用于解析的语言，以及基于语法激活拆分的最小行数。\n\n如果未明确指定语言，`LanguageParser` 将从文件名扩展（如果存在）中推断出一种语言。"
      ]
    },
    {
      "cell_type": "code",
      "execution_count": null,
      "id": "7fa47b2e",
      "metadata": {},
      "outputs": [],
      "source": [
        "%pip install -qU esprima esprima tree_sitter tree_sitter_languages"
      ]
    },
    {
      "cell_type": "code",
      "execution_count": 1,
      "id": "beb55c2f",
      "metadata": {},
      "outputs": [],
      "source": [
        "import warnings\n",
        "\n",
        "warnings.filterwarnings(\"ignore\")\n",
        "from pprint import pprint\n",
        "\n",
        "from langchain_community.document_loaders.generic import GenericLoader\n",
        "from langchain_community.document_loaders.parsers import LanguageParser\n",
        "from langchain_text_splitters import Language"
      ]
    },
    {
      "cell_type": "code",
      "execution_count": 2,
      "id": "64056e07",
      "metadata": {},
      "outputs": [],
      "source": [
        "loader = GenericLoader.from_filesystem(\n",
        "    \"./example_data/source_code\",\n",
        "    glob=\"*\",\n",
        "    suffixes=[\".py\", \".js\"],\n",
        "    parser=LanguageParser(),\n",
        ")\n",
        "docs = loader.load()"
      ]
    },
    {
      "cell_type": "code",
      "execution_count": 3,
      "id": "8af79bd7",
      "metadata": {},
      "outputs": [
        {
          "data": {
            "text/plain": [
              "6"
            ]
          },
          "execution_count": 3,
          "metadata": {},
          "output_type": "execute_result"
        }
      ],
      "source": [
        "len(docs)"
      ]
    },
    {
      "cell_type": "code",
      "execution_count": 4,
      "id": "85edf3fc",
      "metadata": {},
      "outputs": [
        {
          "name": "stdout",
          "output_type": "stream",
          "text": [
            "{'content_type': 'functions_classes',\n",
            " 'language': <Language.PYTHON: 'python'>,\n",
            " 'source': 'example_data/source_code/example.py'}\n",
            "{'content_type': 'functions_classes',\n",
            " 'language': <Language.PYTHON: 'python'>,\n",
            " 'source': 'example_data/source_code/example.py'}\n",
            "{'content_type': 'simplified_code',\n",
            " 'language': <Language.PYTHON: 'python'>,\n",
            " 'source': 'example_data/source_code/example.py'}\n",
            "{'content_type': 'functions_classes',\n",
            " 'language': <Language.JS: 'js'>,\n",
            " 'source': 'example_data/source_code/example.js'}\n",
            "{'content_type': 'functions_classes',\n",
            " 'language': <Language.JS: 'js'>,\n",
            " 'source': 'example_data/source_code/example.js'}\n",
            "{'content_type': 'simplified_code',\n",
            " 'language': <Language.JS: 'js'>,\n",
            " 'source': 'example_data/source_code/example.js'}\n"
          ]
        }
      ],
      "source": [
        "for document in docs:\n",
        "    pprint(document.metadata)"
      ]
    },
    {
      "cell_type": "code",
      "execution_count": 7,
      "id": "f44e3e37",
      "metadata": {},
      "outputs": [
        {
          "name": "stdout",
          "output_type": "stream",
          "text": [
            "class MyClass:\n",
            "    def __init__(self, name):\n",
            "        self.name = name\n",
            "\n",
            "    def greet(self):\n",
            "        print(f\"Hello, {self.name}!\")\n",
            "\n",
            "--8<--\n",
            "\n",
            "def main():\n",
            "    name = input(\"Enter your name: \")\n",
            "    obj = MyClass(name)\n",
            "    obj.greet()\n",
            "\n",
            "--8<--\n",
            "\n",
            "# Code for: class MyClass:\n",
            "\n",
            "\n",
            "# Code for: def main():\n",
            "\n",
            "\n",
            "if __name__ == \"__main__\":\n",
            "    main()\n",
            "\n",
            "--8<--\n",
            "\n",
            "class MyClass {\n",
            "  constructor(name) {\n",
            "    this.name = name;\n",
            "  }\n",
            "\n",
            "  greet() {\n",
            "    console.log(`Hello, ${this.name}!`);\n",
            "  }\n",
            "}\n",
            "\n",
            "--8<--\n",
            "\n",
            "function main() {\n",
            "  const name = prompt(\"Enter your name:\");\n",
            "  const obj = new MyClass(name);\n",
            "  obj.greet();\n",
            "}\n",
            "\n",
            "--8<--\n",
            "\n",
            "// Code for: class MyClass {\n",
            "\n",
            "// Code for: function main() {\n",
            "\n",
            "main();\n"
          ]
        }
      ],
      "source": [
        "print(\"\\n\\n--8<--\\n\\n\".join([document.page_content for document in docs]))"
      ]
    },
    {
      "cell_type": "markdown",
      "id": "69aad0ed",
      "metadata": {},
      "source": [
        "解析器可以针对小型文件禁用。\n\n参数 `parser_threshold` 指示源文件必须具有的最小行数，才能使用解析器进行分段。"
      ]
    },
    {
      "cell_type": "code",
      "execution_count": 8,
      "id": "ae024794",
      "metadata": {},
      "outputs": [],
      "source": [
        "loader = GenericLoader.from_filesystem(\n",
        "    \"./example_data/source_code\",\n",
        "    glob=\"*\",\n",
        "    suffixes=[\".py\"],\n",
        "    parser=LanguageParser(language=Language.PYTHON, parser_threshold=1000),\n",
        ")\n",
        "docs = loader.load()"
      ]
    },
    {
      "cell_type": "code",
      "execution_count": 9,
      "id": "5d3b372a",
      "metadata": {},
      "outputs": [
        {
          "data": {
            "text/plain": [
              "1"
            ]
          },
          "execution_count": 9,
          "metadata": {},
          "output_type": "execute_result"
        }
      ],
      "source": [
        "len(docs)"
      ]
    },
    {
      "cell_type": "code",
      "execution_count": 10,
      "id": "89e546ad",
      "metadata": {},
      "outputs": [
        {
          "name": "stdout",
          "output_type": "stream",
          "text": [
            "class MyClass:\n",
            "    def __init__(self, name):\n",
            "        self.name = name\n",
            "\n",
            "    def greet(self):\n",
            "        print(f\"Hello, {self.name}!\")\n",
            "\n",
            "\n",
            "def main():\n",
            "    name = input(\"Enter your name: \")\n",
            "    obj = MyClass(name)\n",
            "    obj.greet()\n",
            "\n",
            "\n",
            "if __name__ == \"__main__\":\n",
            "    main()\n",
            "\n"
          ]
        }
      ],
      "source": [
        "print(docs[0].page_content)"
      ]
    },
    {
      "cell_type": "markdown",
      "id": "c9c71e61",
      "metadata": {},
      "source": [
        "## 分割\n\n对于那些过大的函数、类或脚本，可能还需要进行额外的分割。"
      ]
    },
    {
      "cell_type": "code",
      "execution_count": 11,
      "id": "adbaa79f",
      "metadata": {},
      "outputs": [],
      "source": [
        "loader = GenericLoader.from_filesystem(\n",
        "    \"./example_data/source_code\",\n",
        "    glob=\"*\",\n",
        "    suffixes=[\".js\"],\n",
        "    parser=LanguageParser(language=Language.JS),\n",
        ")\n",
        "docs = loader.load()"
      ]
    },
    {
      "cell_type": "code",
      "execution_count": 12,
      "id": "c44c0d3f",
      "metadata": {},
      "outputs": [],
      "source": [
        "from langchain_text_splitters import (\n",
        "    Language,\n",
        "    RecursiveCharacterTextSplitter,\n",
        ")"
      ]
    },
    {
      "cell_type": "code",
      "execution_count": 13,
      "id": "b1e0053d",
      "metadata": {},
      "outputs": [],
      "source": [
        "js_splitter = RecursiveCharacterTextSplitter.from_language(\n",
        "    language=Language.JS, chunk_size=60, chunk_overlap=0\n",
        ")"
      ]
    },
    {
      "cell_type": "code",
      "execution_count": 14,
      "id": "7dbe6188",
      "metadata": {},
      "outputs": [],
      "source": [
        "result = js_splitter.split_documents(docs)"
      ]
    },
    {
      "cell_type": "code",
      "execution_count": 15,
      "id": "8a80d089",
      "metadata": {},
      "outputs": [
        {
          "data": {
            "text/plain": [
              "7"
            ]
          },
          "execution_count": 15,
          "metadata": {},
          "output_type": "execute_result"
        }
      ],
      "source": [
        "len(result)"
      ]
    },
    {
      "cell_type": "code",
      "execution_count": 16,
      "id": "000a6011",
      "metadata": {},
      "outputs": [
        {
          "name": "stdout",
          "output_type": "stream",
          "text": [
            "class MyClass {\n",
            "  constructor(name) {\n",
            "    this.name = name;\n",
            "\n",
            "--8<--\n",
            "\n",
            "}\n",
            "\n",
            "--8<--\n",
            "\n",
            "greet() {\n",
            "    console.log(`Hello, ${this.name}!`);\n",
            "  }\n",
            "}\n",
            "\n",
            "--8<--\n",
            "\n",
            "function main() {\n",
            "  const name = prompt(\"Enter your name:\");\n",
            "\n",
            "--8<--\n",
            "\n",
            "const obj = new MyClass(name);\n",
            "  obj.greet();\n",
            "}\n",
            "\n",
            "--8<--\n",
            "\n",
            "// Code for: class MyClass {\n",
            "\n",
            "// Code for: function main() {\n",
            "\n",
            "--8<--\n",
            "\n",
            "main();\n"
          ]
        }
      ],
      "source": [
        "print(\"\\n\\n--8<--\\n\\n\".join([document.page_content for document in result]))"
      ]
    },
    {
      "cell_type": "markdown",
      "id": "7fb27b941602401d91542211134fc71a",
      "metadata": {},
      "source": [
        "## 使用 Tree-sitter 模板添加语言\n\n使用 Tree-Sitter 模板扩展语言支持涉及几个关键步骤：\n\n1. **创建新的语言文件**：\n    - 首先，在指定的目录 (langchain/libs/community/langchain_community/document_loaders/parsers/language) 中创建一个新文件。\n    - 以现有语言文件（如 **`cpp.py`**）的结构和解析逻辑为模型。\n    - 您还需要在 langchain 目录 (langchain/libs/langchain/langchain/document_loaders/parsers/language) 中创建一个文件。\n2. **解析语言特性**：\n    - 模仿 **`cpp.py`** 文件中使用的结构，并根据您要添加的语言进行调整。\n    - 主要的修改在于调整 chunk query 数组以适应您正在解析的语言的语法和结构。\n3. **测试语言解析器**：\n    - 为了进行全面验证，请为新语言生成一个特定的测试文件。在指定的目录 (langchain/libs/community/tests/unit_tests/document_loaders/parsers/language) 中创建 **`test_language.py`**。\n    - 遵循 **`test_cpp.py`** 的示例，为新语言中的解析元素建立基础测试。\n4. **集成到解析器和文本分割器中**：\n    - 在 **`language_parser.py`** 文件中集成您的新语言。请确保更新 LANGUAGE_EXTENSIONS 和 LANGUAGE_SEGMENTERS 以及 LanguageParser 的 docstring，以识别和处理已添加的语言。\n    - 同时，请确认您的语言已包含在 **`text_splitter.py`** 中的 Language 类里，以进行正确的解析。\n\n通过遵循这些步骤并确保全面的测试和集成，您将成功地使用 Tree-Sitter 模板扩展语言支持。\n\n祝您好运！"
      ]
    }
  ],
  "metadata": {
    "kernelspec": {
      "display_name": "Python 3 (ipykernel)",
      "language": "python",
      "name": "python3"
    },
    "language_info": {
      "codemirror_mode": {
        "name": "ipython",
        "version": 3
      },
      "file_extension": ".py",
      "mimetype": "text/x-python",
      "name": "python",
      "nbconvert_exporter": "python",
      "pygments_lexer": "ipython3",
      "version": "3.11.5"
    }
  },
  "nbformat": 4,
  "nbformat_minor": 5
}