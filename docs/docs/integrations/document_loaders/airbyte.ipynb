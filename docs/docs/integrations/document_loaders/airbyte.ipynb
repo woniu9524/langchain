{
  "cells": [
    {
      "cell_type": "markdown",
      "id": "1f3a5ebf",
      "metadata": {},
      "source": [
        "# AirbyteLoader"
      ]
    },
    {
      "cell_type": "markdown",
      "id": "35ac77b1-449b-44f7-b8f3-3494d55c286e",
      "metadata": {},
      "source": [
        ">[Airbyte](https://github.com/airbytehq/airbyte) 是一个数据集成平台，用于 ELT 管道，将数据从 API、数据库和文件集成到数据仓库和数据湖。它拥有最广泛的 ELT 连接器目录，支持各种数据仓库和数据库。\n\n这涵盖了如何将 Airbyte 的任何源加载到 LangChain 文档中。\n\n## 安装\n\n为了使用 `AirbyteLoader`，您需要安装 `langchain-airbyte` 集成包。"
      ]
    },
    {
      "cell_type": "code",
      "execution_count": 1,
      "id": "180c8b74",
      "metadata": {},
      "outputs": [],
      "source": [
        "%pip install -qU langchain-airbyte"
      ]
    },
    {
      "cell_type": "markdown",
      "id": "3dd92c62",
      "metadata": {},
      "source": [
        "注意：目前，`airbyte` 库不支持 Pydantic v2。\n请降级到 Pydantic v1 以使用此包。\n\n注意：此包目前还需要 Python 3.10+。\n\n## 加载文档\n\n默认情况下，`AirbyteLoader` 将从流中加载任何结构化数据，并输出 yaml 格式的文档。"
      ]
    },
    {
      "cell_type": "code",
      "execution_count": 6,
      "id": "721d9316",
      "metadata": {},
      "outputs": [
        {
          "name": "stdout",
          "output_type": "stream",
          "text": [
            "```yaml\n",
            "academic_degree: PhD\n",
            "address:\n",
            "  city: Lauderdale Lakes\n",
            "  country_code: FI\n",
            "  postal_code: '75466'\n",
            "  province: New Jersey\n",
            "  state: Hawaii\n",
            "  street_name: Stoneyford\n",
            "  street_number: '1112'\n",
            "age: 44\n",
            "blood_type: \"O\\u2212\"\n",
            "created_at: '2004-04-02T13:05:27+00:00'\n",
            "email: bread2099+1@outlook.com\n",
            "gender: Fluid\n",
            "height: '1.62'\n",
            "id: 1\n",
            "language: Belarusian\n",
            "name: Moses\n",
            "nationality: Dutch\n",
            "occupation: Track Worker\n",
            "telephone: 1-467-194-2318\n",
            "title: M.Sc.Tech.\n",
            "updated_at: '2024-02-27T16:41:01+00:00'\n",
            "weight: 6\n"
          ]
        }
      ],
      "source": [
        "from langchain_airbyte import AirbyteLoader\n",
        "\n",
        "loader = AirbyteLoader(\n",
        "    source=\"source-faker\",\n",
        "    stream=\"users\",\n",
        "    config={\"count\": 10},\n",
        ")\n",
        "docs = loader.load()\n",
        "print(docs[0].page_content[:500])"
      ]
    },
    {
      "cell_type": "markdown",
      "id": "fca024cb",
      "metadata": {
        "scrolled": true
      },
      "source": [
        "您还可以指定自定义提示模板来格式化文档："
      ]
    },
    {
      "cell_type": "code",
      "execution_count": 7,
      "id": "9fa002a5",
      "metadata": {},
      "outputs": [
        {
          "name": "stdout",
          "output_type": "stream",
          "text": [
            "My name is Verdie and I am 1.73 meters tall.\n"
          ]
        }
      ],
      "source": [
        "from langchain_core.prompts import PromptTemplate\n",
        "\n",
        "loader_templated = AirbyteLoader(\n",
        "    source=\"source-faker\",\n",
        "    stream=\"users\",\n",
        "    config={\"count\": 10},\n",
        "    template=PromptTemplate.from_template(\n",
        "        \"My name is {name} and I am {height} meters tall.\"\n",
        "    ),\n",
        ")\n",
        "docs_templated = loader_templated.load()\n",
        "print(docs_templated[0].page_content)"
      ]
    },
    {
      "cell_type": "markdown",
      "id": "d3e6d887",
      "metadata": {},
      "source": [
        "## 延迟加载文档\n\n`AirbyteLoader` 的强大功能之一是它能够从上游源加载大型文档。在处理大型数据集时，默认的 `.load()` 方法可能会速度缓慢且占用大量内存。为了避免这种情况，您可以使用 `.lazy_load()` 方法以更节省内存的方式加载文档。"
      ]
    },
    {
      "cell_type": "code",
      "execution_count": 11,
      "id": "684b9187",
      "metadata": {},
      "outputs": [
        {
          "name": "stdout",
          "output_type": "stream",
          "text": [
            "Just calling lazy load is quick! This took 0.0001 seconds\n"
          ]
        }
      ],
      "source": [
        "import time\n",
        "\n",
        "loader = AirbyteLoader(\n",
        "    source=\"source-faker\",\n",
        "    stream=\"users\",\n",
        "    config={\"count\": 3},\n",
        "    template=PromptTemplate.from_template(\n",
        "        \"My name is {name} and I am {height} meters tall.\"\n",
        "    ),\n",
        ")\n",
        "\n",
        "start_time = time.time()\n",
        "my_iterator = loader.lazy_load()\n",
        "print(\n",
        "    f\"Just calling lazy load is quick! This took {time.time() - start_time:.4f} seconds\"\n",
        ")"
      ]
    },
    {
      "cell_type": "markdown",
      "id": "6b24a64b",
      "metadata": {},
      "source": [
        "您可以遍历生成的文档："
      ]
    },
    {
      "cell_type": "code",
      "execution_count": 12,
      "id": "3e8355d0",
      "metadata": {},
      "outputs": [
        {
          "name": "stdout",
          "output_type": "stream",
          "text": [
            "My name is Andera and I am 1.91 meters tall.\n",
            "My name is Jody and I am 1.85 meters tall.\n",
            "My name is Zonia and I am 1.53 meters tall.\n"
          ]
        }
      ],
      "source": [
        "for doc in my_iterator:\n",
        "    print(doc.page_content)"
      ]
    },
    {
      "cell_type": "markdown",
      "id": "d1040d81",
      "metadata": {},
      "source": [
        "您还可以以异步方式使用 `.alazy_load()` 来延迟加载文档："
      ]
    },
    {
      "cell_type": "code",
      "execution_count": 13,
      "id": "dc5d0911",
      "metadata": {},
      "outputs": [
        {
          "name": "stdout",
          "output_type": "stream",
          "text": [
            "My name is Carmelina and I am 1.74 meters tall.\n",
            "My name is Ali and I am 1.90 meters tall.\n",
            "My name is Rochell and I am 1.83 meters tall.\n"
          ]
        }
      ],
      "source": [
        "loader = AirbyteLoader(\n",
        "    source=\"source-faker\",\n",
        "    stream=\"users\",\n",
        "    config={\"count\": 3},\n",
        "    template=PromptTemplate.from_template(\n",
        "        \"My name is {name} and I am {height} meters tall.\"\n",
        "    ),\n",
        ")\n",
        "\n",
        "my_async_iterator = loader.alazy_load()\n",
        "\n",
        "async for doc in my_async_iterator:\n",
        "    print(doc.page_content)"
      ]
    },
    {
      "cell_type": "markdown",
      "id": "ba4ede33",
      "metadata": {},
      "source": [
        "## 配置\n\n`AirbyteLoader` 可以通过以下选项进行配置：\n\n- `source` (str, 必需): 要从中加载的 Airbyte 源的名称。\n- `stream` (str, 必需): 要从中加载的流的名称 (Airbyte 源可以返回多个流)。\n- `config` (dict, 必需): Airbyte 源的配置。\n- `template` (PromptTemplate, 可选): 用于格式化文档的自定义提示模板。\n- `include_metadata` (bool, 可选, 默认为 True): 是否在输出文档中包含所有字段作为元数据。\n\n大部分配置将在 `config` 中，您可以在 [Airbyte 文档](https://docs.airbyte.com/integrations/) 中每个源的“配置字段参考”中找到特定的配置选项。"
      ]
    },
    {
      "cell_type": "markdown",
      "id": "2e2ed269",
      "metadata": {},
      "source": []
    }
  ],
  "metadata": {
    "kernelspec": {
      "display_name": "Python 3 (ipykernel)",
      "language": "python",
      "name": "python3"
    },
    "language_info": {
      "codemirror_mode": {
        "name": "ipython",
        "version": 3
      },
      "file_extension": ".py",
      "mimetype": "text/x-python",
      "name": "python",
      "nbconvert_exporter": "python",
      "pygments_lexer": "ipython3",
      "version": "3.11.4"
    }
  },
  "nbformat": 4,
  "nbformat_minor": 5
}