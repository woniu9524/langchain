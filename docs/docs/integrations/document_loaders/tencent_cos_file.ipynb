{
  "cells": [
    {
      "cell_type": "markdown",
      "id": "a634365e",
      "metadata": {},
      "source": [
        "# 腾讯 COS 文件\n\n>[腾讯云对象存储 (COS)](https://www.tencentcloud.com/products/cos) 是一种分布式存储服务，让您可以通过 HTTP/HTTPS 协议随时随地存储任意量的数据。\n>`COS` 对数据结构或格式没有任何限制。它也没有存储桶大小限制和分区管理，使其适用于几乎所有用例，例如数据交付、\n>数据处理和数据湖。`COS` 提供基于 Web 的控制台、多语言 SDK 和 API、命令行工具以及图形工具。它与 Amazon S3 API 兼容良好，\n>让您可以快速访问社区工具和插件。\n\n这涵盖了如何从 `Tencent COS File` 加载文档对象。"
      ]
    },
    {
      "cell_type": "code",
      "execution_count": null,
      "id": "85e97267",
      "metadata": {},
      "outputs": [],
      "source": [
        "%pip install --upgrade --quiet  cos-python-sdk-v5"
      ]
    },
    {
      "cell_type": "code",
      "execution_count": 2,
      "id": "2f0cd6a5",
      "metadata": {
        "tags": []
      },
      "outputs": [],
      "source": [
        "from langchain_community.document_loaders import TencentCOSFileLoader\n",
        "from qcloud_cos import CosConfig"
      ]
    },
    {
      "cell_type": "code",
      "execution_count": 3,
      "id": "321cc7f1",
      "metadata": {
        "tags": []
      },
      "outputs": [],
      "source": [
        "conf = CosConfig(\n",
        "    Region=\"your cos region\",\n",
        "    SecretId=\"your cos secret_id\",\n",
        "    SecretKey=\"your cos secret_key\",\n",
        ")\n",
        "loader = TencentCOSFileLoader(conf=conf, bucket=\"you_cos_bucket\", key=\"fake.docx\")"
      ]
    },
    {
      "cell_type": "code",
      "execution_count": null,
      "id": "4c50d2c7",
      "metadata": {},
      "outputs": [],
      "source": [
        "loader.load()"
      ]
    },
    {
      "cell_type": "markdown",
      "id": "0690c40a",
      "metadata": {},
      "source": []
    }
  ],
  "metadata": {
    "kernelspec": {
      "display_name": "Python 3 (ipykernel)",
      "language": "python",
      "name": "python3"
    },
    "language_info": {
      "codemirror_mode": {
        "name": "ipython",
        "version": 3
      },
      "file_extension": ".py",
      "mimetype": "text/x-python",
      "name": "python",
      "nbconvert_exporter": "python",
      "pygments_lexer": "ipython3",
      "version": "3.10.12"
    }
  },
  "nbformat": 4,
  "nbformat_minor": 5
}