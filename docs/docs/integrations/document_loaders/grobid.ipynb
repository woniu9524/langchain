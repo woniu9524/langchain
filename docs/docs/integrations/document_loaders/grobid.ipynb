{
  "cells": [
    {
      "cell_type": "markdown",
      "id": "bdccb278",
      "metadata": {},
      "source": [
        "# Grobid\n\nGROBID 是一个机器学习库，用于提取、解析和重构原始文档。\n\n它被设计并期望用于解析学术论文，并且在该领域的表现尤为出色。注意：如果提供给 Grobid 的文章是大型文档（例如学位论文），并且超出了某个元素数量的限制，则可能无法处理。\n\n此加载器使用 Grobid 将 PDF 解析为 `Documents`，这些文档保留了与文本片段相关的元数据。\n\n---\n最佳方法是通过 docker 安装 Grobid，参见 https://grobid.readthedocs.io/en/latest/Grobid-docker/。\n\n（注意：可以在[此处](/docs/integrations/providers/grobid)找到额外的说明。）\n\n一旦 grobid 启动并运行，您就可以按照下面的描述进行交互。"
      ]
    },
    {
      "cell_type": "markdown",
      "id": "4b41bfb1",
      "metadata": {},
      "source": [
        "现在，我们可以使用数据加载器了。"
      ]
    },
    {
      "cell_type": "code",
      "execution_count": null,
      "id": "640e9a4b",
      "metadata": {},
      "outputs": [],
      "source": [
        "from langchain_community.document_loaders.generic import GenericLoader\n",
        "from langchain_community.document_loaders.parsers import GrobidParser"
      ]
    },
    {
      "cell_type": "code",
      "execution_count": 4,
      "id": "ecdc1fb9",
      "metadata": {},
      "outputs": [],
      "source": [
        "loader = GenericLoader.from_filesystem(\n",
        "    \"../Papers/\",\n",
        "    glob=\"*\",\n",
        "    suffixes=[\".pdf\"],\n",
        "    parser=GrobidParser(segment_sentences=False),\n",
        ")\n",
        "docs = loader.load()"
      ]
    },
    {
      "cell_type": "code",
      "execution_count": 5,
      "id": "efe9e356",
      "metadata": {},
      "outputs": [
        {
          "data": {
            "text/plain": [
              "'Unlike Chinchilla, PaLM, or GPT-3, we only use publicly available data, making our work compatible with open-sourcing, while most existing models rely on data which is either not publicly available or undocumented (e.g.\"Books -2TB\" or \"Social media conversations\").There exist some exceptions, notably OPT (Zhang et al., 2022), GPT-NeoX (Black et al., 2022), BLOOM (Scao et al., 2022) and GLM (Zeng et al., 2022), but none that are competitive with PaLM-62B or Chinchilla.'"
            ]
          },
          "execution_count": 5,
          "metadata": {},
          "output_type": "execute_result"
        }
      ],
      "source": [
        "docs[3].page_content"
      ]
    },
    {
      "cell_type": "code",
      "execution_count": 6,
      "id": "5be03d17",
      "metadata": {},
      "outputs": [
        {
          "data": {
            "text/plain": [
              "{'text': 'Unlike Chinchilla, PaLM, or GPT-3, we only use publicly available data, making our work compatible with open-sourcing, while most existing models rely on data which is either not publicly available or undocumented (e.g.\"Books -2TB\" or \"Social media conversations\").There exist some exceptions, notably OPT (Zhang et al., 2022), GPT-NeoX (Black et al., 2022), BLOOM (Scao et al., 2022) and GLM (Zeng et al., 2022), but none that are competitive with PaLM-62B or Chinchilla.',\n",
              " 'para': '2',\n",
              " 'bboxes': \"[[{'page': '1', 'x': '317.05', 'y': '509.17', 'h': '207.73', 'w': '9.46'}, {'page': '1', 'x': '306.14', 'y': '522.72', 'h': '220.08', 'w': '9.46'}, {'page': '1', 'x': '306.14', 'y': '536.27', 'h': '218.27', 'w': '9.46'}, {'page': '1', 'x': '306.14', 'y': '549.82', 'h': '218.65', 'w': '9.46'}, {'page': '1', 'x': '306.14', 'y': '563.37', 'h': '136.98', 'w': '9.46'}], [{'page': '1', 'x': '446.49', 'y': '563.37', 'h': '78.11', 'w': '9.46'}, {'page': '1', 'x': '304.69', 'y': '576.92', 'h': '138.32', 'w': '9.46'}], [{'page': '1', 'x': '447.75', 'y': '576.92', 'h': '76.66', 'w': '9.46'}, {'page': '1', 'x': '306.14', 'y': '590.47', 'h': '219.63', 'w': '9.46'}, {'page': '1', 'x': '306.14', 'y': '604.02', 'h': '218.27', 'w': '9.46'}, {'page': '1', 'x': '306.14', 'y': '617.56', 'h': '218.27', 'w': '9.46'}, {'page': '1', 'x': '306.14', 'y': '631.11', 'h': '220.18', 'w': '9.46'}]]\",\n",
              " 'pages': \"('1', '1')\",\n",
              " 'section_title': 'Introduction',\n",
              " 'section_number': '1',\n",
              " 'paper_title': 'LLaMA: Open and Efficient Foundation Language Models',\n",
              " 'file_path': '/Users/31treehaus/Desktop/Papers/2302.13971.pdf'}"
            ]
          },
          "execution_count": 6,
          "metadata": {},
          "output_type": "execute_result"
        }
      ],
      "source": [
        "docs[3].metadata"
      ]
    }
  ],
  "metadata": {
    "kernelspec": {
      "display_name": "Python 3 (ipykernel)",
      "language": "python",
      "name": "python3"
    },
    "language_info": {
      "codemirror_mode": {
        "name": "ipython",
        "version": 3
      },
      "file_extension": ".py",
      "mimetype": "text/x-python",
      "name": "python",
      "nbconvert_exporter": "python",
      "pygments_lexer": "ipython3",
      "version": "3.9.16"
    }
  },
  "nbformat": 4,
  "nbformat_minor": 5
}