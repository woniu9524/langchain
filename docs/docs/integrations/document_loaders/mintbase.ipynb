{
  "cells": [
    {
      "cell_type": "markdown",
      "metadata": {
        "id": "vm8vn9t8DvC_"
      },
      "source": [
        "# Near 区块链"
      ]
    },
    {
      "attachments": {},
      "cell_type": "markdown",
      "metadata": {
        "id": "juAmbgoWD17u"
      },
      "source": [
        "本 Notebook 的目的是提供一种测试 Langchain Near 区块链Document Loader 功能的方法。\n\n最初，此 Loader 支持：\n\n*   从 NFT 智能合约（NEP-171 和 NEP-177）加载 NFT 作为 Documents\n*   Near 主网、Near 测试网（默认为主网）\n*   Mintbase 的图 API\n\n如果社区认为此 Loader 有价值，可以对其进行扩展。具体来说：\n\n*   可以添加额外的 API（例如，与交易相关的 API）\n\n此 Document Loader 需要：\n\n*   免费的 [Mintbase API 密钥](https://docs.mintbase.xyz/dev/mintbase-graph/)\n\n输出格式如下：\n\n- pageContent= Individual NFT\n- metadata=\\{'source': 'nft.yearofchef.near', 'blockchain': 'mainnet', 'tokenId': '1846'\\}"
      ]
    },
    {
      "cell_type": "markdown",
      "metadata": {},
      "source": [
        "## 将 NFT 加载到文档加载器中"
      ]
    },
    {
      "cell_type": "code",
      "execution_count": null,
      "metadata": {},
      "outputs": [],
      "source": [
        "# get MINTBASE_API_KEY from https://docs.mintbase.xyz/dev/mintbase-graph/\n",
        "\n",
        "mintbaseApiKey = \"...\""
      ]
    },
    {
      "cell_type": "markdown",
      "metadata": {},
      "source": [
        "### Option 1: 以太坊主网 (默认 BlockchainType)"
      ]
    },
    {
      "cell_type": "code",
      "execution_count": null,
      "metadata": {
        "id": "J3LWHARC-Kn0"
      },
      "outputs": [],
      "source": [
        "from MintbaseLoader import MintbaseDocumentLoader\n",
        "\n",
        "contractAddress = \"nft.yearofchef.near\"  # Year of chef contract address\n",
        "\n",
        "\n",
        "blockchainLoader = MintbaseDocumentLoader(\n",
        "    contract_address=contractAddress, blockchain_type=\"mainnet\", api_key=\"omni-site\"\n",
        ")\n",
        "\n",
        "nfts = blockchainLoader.load()\n",
        "\n",
        "print(nfts[:1])\n",
        "\n",
        "for doc in blockchainLoader.lazy_load():\n",
        "    print()\n",
        "    print(type(doc))\n",
        "    print(doc)"
      ]
    }
  ],
  "metadata": {
    "colab": {
      "collapsed_sections": [
        "5WjXERXzFEhg"
      ],
      "provenance": []
    },
    "kernelspec": {
      "display_name": "Python 3 (ipykernel)",
      "language": "python",
      "name": "python3"
    },
    "language_info": {
      "codemirror_mode": {
        "name": "ipython",
        "version": 3
      },
      "file_extension": ".py",
      "mimetype": "text/x-python",
      "name": "python",
      "nbconvert_exporter": "python",
      "pygments_lexer": "ipython3",
      "version": "3.10.6"
    }
  },
  "nbformat": 4,
  "nbformat_minor": 4
}