{
  "cells": [
    {
      "cell_type": "markdown",
      "id": "87067cdf",
      "metadata": {},
      "source": [
        "# mhtml\n\nMHTML 用于电子邮件和存档网页。MHTML，有时也称为 MHT，代表 MIME HTML，是一种用于存档整个网页的单一文件。当用户将网页保存为 MHTML 格式时，此文件扩展名将包含 HTML 代码、图像、音频文件、Flash 动画等。"
      ]
    },
    {
      "cell_type": "code",
      "execution_count": null,
      "id": "5d4c6174",
      "metadata": {},
      "outputs": [],
      "source": [
        "from langchain_community.document_loaders import MHTMLLoader"
      ]
    },
    {
      "cell_type": "code",
      "execution_count": 12,
      "id": "12dcebc8",
      "metadata": {},
      "outputs": [
        {
          "name": "stdout",
          "output_type": "stream",
          "text": [
            "page_content='LangChain\\nLANG CHAIN 🦜️🔗Official Home Page\\xa0\\n\\n\\n\\n\\n\\n\\n\\nIntegrations\\n\\n\\n\\nFeatures\\n\\n\\n\\n\\nBlog\\n\\n\\n\\nConceptual Guide\\n\\n\\n\\n\\nPython Repo\\n\\n\\nJavaScript Repo\\n\\n\\n\\nPython Documentation \\n\\n\\nJavaScript Documentation\\n\\n\\n\\n\\nPython ChatLangChain \\n\\n\\nJavaScript ChatLangChain\\n\\n\\n\\n\\nDiscord \\n\\n\\nTwitter\\n\\n\\n\\n\\nIf you have any comments about our WEB page, you can \\nwrite us at the address shown above.  However, due to \\nthe limited number of personnel in our corporate office, we are unable to \\nprovide a direct response.\\n\\nCopyright © 2023-2023 LangChain Inc.\\n\\n\\n' metadata={'source': '../../../../../../tests/integration_tests/examples/example.mht', 'title': 'LangChain'}\n"
          ]
        }
      ],
      "source": [
        "# Create a new loader object for the MHTML file\n",
        "loader = MHTMLLoader(\n",
        "    file_path=\"../../../../../../tests/integration_tests/examples/example.mht\"\n",
        ")\n",
        "\n",
        "# Load the document from the file\n",
        "documents = loader.load()\n",
        "\n",
        "# Print the documents to see the results\n",
        "for doc in documents:\n",
        "    print(doc)"
      ]
    }
  ],
  "metadata": {
    "kernelspec": {
      "display_name": "Python 3 (ipykernel)",
      "language": "python",
      "name": "python3"
    },
    "language_info": {
      "codemirror_mode": {
        "name": "ipython",
        "version": 3
      },
      "file_extension": ".py",
      "mimetype": "text/x-python",
      "name": "python",
      "nbconvert_exporter": "python",
      "pygments_lexer": "ipython3",
      "version": "3.9.16"
    }
  },
  "nbformat": 4,
  "nbformat_minor": 5
}