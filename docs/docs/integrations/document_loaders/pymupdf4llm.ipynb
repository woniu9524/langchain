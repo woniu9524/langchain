{
  "cells": [
    {
      "cell_type": "markdown",
      "metadata": {},
      "source": [
        "---\nsidebar_label: PyMuPDF4LLM\n---"
      ]
    },
    {
      "cell_type": "markdown",
      "metadata": {},
      "source": [
        "# PyMuPDF4LLM 加载器\n\n本 Notebook 提供了 PyMuPDF4LLM [文档加载器](https://python.langchain.com/docs/concepts/#document-loaders) 的快速入门概述。要获取 PyMuPDF4LLMLoader 所有功能和配置的详细文档，请访问 [GitHub 仓库](https://github.com/lakinduboteju/langchain-pymupdf4llm)。\n\n## 概述\n\n### 集成详情\n\n| 类 | 包 | 本地 | 可序列化 | JS 支持 |\n| :--- | :--- | :---: | :---: |  :---: |\n| [PyMuPDF4LLMLoader](https://github.com/lakinduboteju/langchain-pymupdf4llm) | [langchain_pymupdf4llm](https://pypi.org/project/langchain-pymupdf4llm) | ✅ | ❌ | ❌ |\n\n### 加载器功能\n\n| 源 | 文档延迟加载 | 原生异步支持 | 提取图片 | 提取表格 |\n| :---: | :---: | :---: | :---: | :---: |\n| PyMuPDF4LLMLoader | ✅ | ❌ | ✅ | ✅ |\n\n## 设置\n\n要访问 PyMuPDF4LLM 文档加载器，您需要安装 `langchain-pymupdf4llm` 集成包。\n\n### 凭证\n\n使用 PyMuPDF4LLMLoader 不需要任何凭证。"
      ]
    },
    {
      "cell_type": "markdown",
      "metadata": {},
      "source": "要启用模型调用的自动跟踪，请设置您的 [LangSmith](https://docs.smith.langchain.com/) API 密钥："
    },
    {
      "cell_type": "code",
      "execution_count": null,
      "metadata": {},
      "outputs": [],
      "source": [
        "# os.environ[\"LANGSMITH_API_KEY\"] = getpass.getpass(\"Enter your LangSmith API key: \")\n",
        "# os.environ[\"LANGSMITH_TRACING\"] = \"true\""
      ]
    },
    {
      "cell_type": "markdown",
      "metadata": {},
      "source": [
        "### 安装\n\n安装 **langchain_community** 和 **langchain-pymupdf4llm**。"
      ]
    },
    {
      "cell_type": "code",
      "execution_count": 1,
      "metadata": {},
      "outputs": [
        {
          "name": "stdout",
          "output_type": "stream",
          "text": [
            "Note: you may need to restart the kernel to use updated packages.\n"
          ]
        }
      ],
      "source": [
        "%pip install -qU langchain_community langchain-pymupdf4llm"
      ]
    },
    {
      "cell_type": "markdown",
      "metadata": {},
      "source": [
        "## 初始化\n\n现在我们可以实例化模型对象并加载文档了："
      ]
    },
    {
      "cell_type": "code",
      "execution_count": 3,
      "metadata": {},
      "outputs": [],
      "source": [
        "from langchain_pymupdf4llm import PyMuPDF4LLMLoader\n",
        "\n",
        "file_path = \"./example_data/layout-parser-paper.pdf\"\n",
        "loader = PyMuPDF4LLMLoader(file_path)"
      ]
    },
    {
      "cell_type": "markdown",
      "metadata": {},
      "source": [
        "## 加载"
      ]
    },
    {
      "cell_type": "code",
      "execution_count": 4,
      "metadata": {},
      "outputs": [
        {
          "data": {
            "text/plain": [
              "Document(metadata={'producer': 'pdfTeX-1.40.21', 'creator': 'LaTeX with hyperref', 'creationdate': '2021-06-22T01:27:10+00:00', 'source': './example_data/layout-parser-paper.pdf', 'file_path': './example_data/layout-parser-paper.pdf', 'total_pages': 16, 'format': 'PDF 1.5', 'title': '', 'author': '', 'subject': '', 'keywords': '', 'moddate': '2021-06-22T01:27:10+00:00', 'trapped': '', 'modDate': 'D:20210622012710Z', 'creationDate': 'D:20210622012710Z', 'page': 0}, page_content='```\\nLayoutParser: A Unified Toolkit for Deep\\n\\n## Learning Based Document Image Analysis\\n\\n```\\n\\nZejiang Shen[1] (�), Ruochen Zhang[2], Melissa Dell[3], Benjamin Charles Germain\\nLee[4], Jacob Carlson[3], and Weining Li[5]\\n\\n1 Allen Institute for AI\\n```\\n              shannons@allenai.org\\n\\n```\\n2 Brown University\\n```\\n             ruochen zhang@brown.edu\\n\\n```\\n3 Harvard University\\n_{melissadell,jacob carlson}@fas.harvard.edu_\\n4 University of Washington\\n```\\n              bcgl@cs.washington.edu\\n\\n```\\n5 University of Waterloo\\n```\\n              w422li@uwaterloo.ca\\n\\n```\\n\\n**Abstract. Recent advances in document image analysis (DIA) have been**\\nprimarily driven by the application of neural networks. Ideally, research\\noutcomes could be easily deployed in production and extended for further\\ninvestigation. However, various factors like loosely organized codebases\\nand sophisticated model configurations complicate the easy reuse of important innovations by a wide audience. Though there have been on-going\\nefforts to improve reusability and simplify deep learning (DL) model\\ndevelopment in disciplines like natural language processing and computer\\nvision, none of them are optimized for challenges in the domain of DIA.\\nThis represents a major gap in the existing toolkit, as DIA is central to\\nacademic research across a wide range of disciplines in the social sciences\\nand humanities. This paper introduces LayoutParser, an open-source\\nlibrary for streamlining the usage of DL in DIA research and applications. The core LayoutParser library comes with a set of simple and\\nintuitive interfaces for applying and customizing DL models for layout detection, character recognition, and many other document processing tasks.\\nTo promote extensibility, LayoutParser also incorporates a community\\nplatform for sharing both pre-trained models and full document digitization pipelines. We demonstrate that LayoutParser is helpful for both\\nlightweight and large-scale digitization pipelines in real-word use cases.\\n[The library is publicly available at https://layout-parser.github.io.](https://layout-parser.github.io)\\n\\n**Keywords: Document Image Analysis · Deep Learning · Layout Analysis**\\n\\n    - Character Recognition · Open Source library · Toolkit.\\n\\n### 1 Introduction\\n\\n\\nDeep Learning(DL)-based approaches are the state-of-the-art for a wide range of\\ndocument image analysis (DIA) tasks including document image classification [11,\\n\\n')"
            ]
          },
          "execution_count": 4,
          "metadata": {},
          "output_type": "execute_result"
        }
      ],
      "source": [
        "docs = loader.load()\n",
        "docs[0]"
      ]
    },
    {
      "cell_type": "code",
      "execution_count": 5,
      "metadata": {},
      "outputs": [
        {
          "name": "stdout",
          "output_type": "stream",
          "text": [
            "{'producer': 'pdfTeX-1.40.21',\n",
            " 'creator': 'LaTeX with hyperref',\n",
            " 'creationdate': '2021-06-22T01:27:10+00:00',\n",
            " 'source': './example_data/layout-parser-paper.pdf',\n",
            " 'file_path': './example_data/layout-parser-paper.pdf',\n",
            " 'total_pages': 16,\n",
            " 'format': 'PDF 1.5',\n",
            " 'title': '',\n",
            " 'author': '',\n",
            " 'subject': '',\n",
            " 'keywords': '',\n",
            " 'moddate': '2021-06-22T01:27:10+00:00',\n",
            " 'trapped': '',\n",
            " 'modDate': 'D:20210622012710Z',\n",
            " 'creationDate': 'D:20210622012710Z',\n",
            " 'page': 0}\n"
          ]
        }
      ],
      "source": [
        "import pprint\n",
        "\n",
        "pprint.pp(docs[0].metadata)"
      ]
    },
    {
      "cell_type": "markdown",
      "metadata": {},
      "source": [
        "## 延迟加载"
      ]
    },
    {
      "cell_type": "code",
      "execution_count": 6,
      "metadata": {},
      "outputs": [
        {
          "data": {
            "text/plain": [
              "6"
            ]
          },
          "execution_count": 6,
          "metadata": {},
          "output_type": "execute_result"
        }
      ],
      "source": [
        "pages = []\n",
        "for doc in loader.lazy_load():\n",
        "    pages.append(doc)\n",
        "    if len(pages) >= 10:\n",
        "        # do some paged operation, e.g.\n",
        "        # index.upsert(page)\n",
        "\n",
        "        pages = []\n",
        "len(pages)"
      ]
    },
    {
      "cell_type": "code",
      "execution_count": null,
      "metadata": {},
      "outputs": [],
      "source": [
        "from IPython.display import Markdown, display\n",
        "\n",
        "part = pages[0].page_content[778:1189]\n",
        "print(part)\n",
        "# Markdown rendering\n",
        "display(Markdown(part))"
      ]
    },
    {
      "cell_type": "code",
      "execution_count": 23,
      "metadata": {},
      "outputs": [
        {
          "name": "stdout",
          "output_type": "stream",
          "text": [
            "{'producer': 'pdfTeX-1.40.21',\n",
            " 'creator': 'LaTeX with hyperref',\n",
            " 'creationdate': '2021-06-22T01:27:10+00:00',\n",
            " 'source': './example_data/layout-parser-paper.pdf',\n",
            " 'file_path': './example_data/layout-parser-paper.pdf',\n",
            " 'total_pages': 16,\n",
            " 'format': 'PDF 1.5',\n",
            " 'title': '',\n",
            " 'author': '',\n",
            " 'subject': '',\n",
            " 'keywords': '',\n",
            " 'moddate': '2021-06-22T01:27:10+00:00',\n",
            " 'trapped': '',\n",
            " 'modDate': 'D:20210622012710Z',\n",
            " 'creationDate': 'D:20210622012710Z',\n",
            " 'page': 10}\n"
          ]
        }
      ],
      "source": [
        "pprint.pp(pages[0].metadata)"
      ]
    },
    {
      "cell_type": "markdown",
      "metadata": {},
      "source": [
        "metadata 属性至少包含以下键：\n- source\n- page (如果处于 *page* 模式)\n- total_page\n- creationdate\n- creator\n- producer\n\n其他元数据特定于每个解析器。\n这些信息可能很有帮助 (例如，用于对您的 PDF 进行分类)。"
      ]
    },
    {
      "cell_type": "markdown",
      "metadata": {},
      "source": [
        "## 分割模式和自定义页面分隔符"
      ]
    },
    {
      "cell_type": "markdown",
      "metadata": {},
      "source": [
        "加载 PDF 文件时，您可以通过两种不同的方式进行拆分：\n- 按页拆分\n- 作为单一文本流\n\n默认情况下，PyMuPDF4LLMLoader 将按页拆分 PDF。"
      ]
    },
    {
      "cell_type": "markdown",
      "metadata": {},
      "source": [
        "### 按页提取 PDF。每页提取为一个 langchain Document 对象："
      ]
    },
    {
      "cell_type": "code",
      "execution_count": null,
      "metadata": {},
      "outputs": [
        {
          "name": "stdout",
          "output_type": "stream",
          "text": [
            "16\n",
            "{'producer': 'pdfTeX-1.40.21',\n",
            " 'creator': 'LaTeX with hyperref',\n",
            " 'creationdate': '2021-06-22T01:27:10+00:00',\n",
            " 'source': './example_data/layout-parser-paper.pdf',\n",
            " 'file_path': './example_data/layout-parser-paper.pdf',\n",
            " 'total_pages': 16,\n",
            " 'format': 'PDF 1.5',\n",
            " 'title': '',\n",
            " 'author': '',\n",
            " 'subject': '',\n",
            " 'keywords': '',\n",
            " 'moddate': '2021-06-22T01:27:10+00:00',\n",
            " 'trapped': '',\n",
            " 'modDate': 'D:20210622012710Z',\n",
            " 'creationDate': 'D:20210622012710Z',\n",
            " 'page': 0}\n"
          ]
        }
      ],
      "source": [
        "loader = PyMuPDF4LLMLoader(\n",
        "    \"./example_data/layout-parser-paper.pdf\",\n",
        "    mode=\"page\",\n",
        ")\n",
        "docs = loader.load()\n",
        "\n",
        "print(len(docs))\n",
        "pprint.pp(docs[0].metadata)"
      ]
    },
    {
      "cell_type": "markdown",
      "metadata": {},
      "source": [
        "在此模式下，PDF 将按页面分割，生成的 Documents 元数据包含 `page`（页码）。但在某些情况下，我们可能希望将 PDF 作为单一文本流进行处理（这样可以避免将某些段落截断）。在这种情况下，您可以使用 *single* 模式："
      ]
    },
    {
      "cell_type": "markdown",
      "metadata": {},
      "source": [
        "### 将整个 PDF 文件提取为单个 langchain `Document` 对象："
      ]
    },
    {
      "cell_type": "code",
      "execution_count": null,
      "metadata": {},
      "outputs": [
        {
          "name": "stdout",
          "output_type": "stream",
          "text": [
            "1\n",
            "{'producer': 'pdfTeX-1.40.21',\n",
            " 'creator': 'LaTeX with hyperref',\n",
            " 'creationdate': '2021-06-22T01:27:10+00:00',\n",
            " 'source': './example_data/layout-parser-paper.pdf',\n",
            " 'file_path': './example_data/layout-parser-paper.pdf',\n",
            " 'total_pages': 16,\n",
            " 'format': 'PDF 1.5',\n",
            " 'title': '',\n",
            " 'author': '',\n",
            " 'subject': '',\n",
            " 'keywords': '',\n",
            " 'moddate': '2021-06-22T01:27:10+00:00',\n",
            " 'trapped': '',\n",
            " 'modDate': 'D:20210622012710Z',\n",
            " 'creationDate': 'D:20210622012710Z'}\n"
          ]
        }
      ],
      "source": [
        "loader = PyMuPDF4LLMLoader(\n",
        "    \"./example_data/layout-parser-paper.pdf\",\n",
        "    mode=\"single\",\n",
        ")\n",
        "docs = loader.load()\n",
        "\n",
        "print(len(docs))\n",
        "pprint.pp(docs[0].metadata)"
      ]
    },
    {
      "cell_type": "markdown",
      "metadata": {},
      "source": [
        "在逻辑上，在此模式下，`page`（页码）元数据会消失。以下是如何在文本流中清晰地识别页面结束位置的方法："
      ]
    },
    {
      "cell_type": "markdown",
      "metadata": {},
      "source": [
        "### 将自定义的 `pages_delimiter` 添加到 `single` 模式中，以识别页面结束的位置："
      ]
    },
    {
      "cell_type": "code",
      "execution_count": null,
      "metadata": {},
      "outputs": [],
      "source": [
        "loader = PyMuPDF4LLMLoader(\n",
        "    \"./example_data/layout-parser-paper.pdf\",\n",
        "    mode=\"single\",\n",
        "    pages_delimiter=\"\\n-------THIS IS A CUSTOM END OF PAGE-------\\n\\n\",\n",
        ")\n",
        "docs = loader.load()\n",
        "\n",
        "part = docs[0].page_content[10663:11317]\n",
        "print(part)\n",
        "display(Markdown(part))"
      ]
    },
    {
      "cell_type": "markdown",
      "metadata": {},
      "source": [
        "默认的 `pages_delimiter` 是 `\\n-----\\n\\n`。\n但也可以简单地使用 `\\n`，或者 `\\f` 来清晰地指示分页，或者使用 `<!-- PAGE BREAK -->` 来无缝地嵌入到 Markdown 查看器中，而不会产生视觉效果。"
      ]
    },
    {
      "cell_type": "markdown",
      "metadata": {},
      "source": [
        "# 从 PDF 中提取图像"
      ]
    },
    {
      "cell_type": "markdown",
      "metadata": {},
      "source": [
        "您可以通过三种不同的解决方案从 PDF 中提取图像（文本形式）：\n- rapidOCR（轻量级光学字符识别工具）\n- Tesseract（高精度 OCR 工具）\n- Multimodal language model\n\n结果将插入到页面文本的末尾。"
      ]
    },
    {
      "cell_type": "markdown",
      "metadata": {},
      "source": [
        "### 使用 rapidOCR 从 PDF 中提取图像："
      ]
    },
    {
      "cell_type": "code",
      "execution_count": 14,
      "metadata": {},
      "outputs": [
        {
          "name": "stdout",
          "output_type": "stream",
          "text": [
            "Note: you may need to restart the kernel to use updated packages.\n"
          ]
        }
      ],
      "source": [
        "%pip install -qU rapidocr-onnxruntime pillow"
      ]
    },
    {
      "cell_type": "code",
      "execution_count": null,
      "metadata": {},
      "outputs": [],
      "source": [
        "from langchain_community.document_loaders.parsers import RapidOCRBlobParser\n",
        "\n",
        "loader = PyMuPDF4LLMLoader(\n",
        "    \"./example_data/layout-parser-paper.pdf\",\n",
        "    mode=\"page\",\n",
        "    extract_images=True,\n",
        "    images_parser=RapidOCRBlobParser(),\n",
        ")\n",
        "docs = loader.load()\n",
        "\n",
        "part = docs[5].page_content[1863:]\n",
        "print(part)\n",
        "display(Markdown(part))"
      ]
    },
    {
      "cell_type": "markdown",
      "metadata": {},
      "source": [
        "请注意，RapidOCR 是为中文和英文设计的，不适用于其他语言。"
      ]
    },
    {
      "cell_type": "markdown",
      "metadata": {},
      "source": [
        "### 使用 Tesseract 从 PDF 中提取图像："
      ]
    },
    {
      "cell_type": "code",
      "execution_count": 16,
      "metadata": {},
      "outputs": [
        {
          "name": "stdout",
          "output_type": "stream",
          "text": [
            "Note: you may need to restart the kernel to use updated packages.\n"
          ]
        }
      ],
      "source": [
        "%pip install -qU pytesseract"
      ]
    },
    {
      "cell_type": "code",
      "execution_count": null,
      "metadata": {},
      "outputs": [],
      "source": [
        "from langchain_community.document_loaders.parsers import TesseractBlobParser\n",
        "\n",
        "loader = PyMuPDF4LLMLoader(\n",
        "    \"./example_data/layout-parser-paper.pdf\",\n",
        "    mode=\"page\",\n",
        "    extract_images=True,\n",
        "    images_parser=TesseractBlobParser(),\n",
        ")\n",
        "docs = loader.load()\n",
        "\n",
        "print(docs[5].page_content[1863:])"
      ]
    },
    {
      "cell_type": "markdown",
      "metadata": {},
      "source": [
        "### 使用多模态模型从 PDF 中提取图像："
      ]
    },
    {
      "cell_type": "code",
      "execution_count": 38,
      "metadata": {},
      "outputs": [
        {
          "name": "stdout",
          "output_type": "stream",
          "text": [
            "Note: you may need to restart the kernel to use updated packages.\n"
          ]
        }
      ],
      "source": [
        "%pip install -qU langchain_openai"
      ]
    },
    {
      "cell_type": "code",
      "execution_count": 39,
      "metadata": {},
      "outputs": [
        {
          "data": {
            "text/plain": [
              "True"
            ]
          },
          "execution_count": 39,
          "metadata": {},
          "output_type": "execute_result"
        }
      ],
      "source": [
        "import os\n",
        "\n",
        "from dotenv import load_dotenv\n",
        "\n",
        "load_dotenv()"
      ]
    },
    {
      "cell_type": "code",
      "execution_count": 40,
      "metadata": {},
      "outputs": [],
      "source": [
        "from getpass import getpass\n",
        "\n",
        "if not os.environ.get(\"OPENAI_API_KEY\"):\n",
        "    os.environ[\"OPENAI_API_KEY\"] = getpass(\"OpenAI API key =\")"
      ]
    },
    {
      "cell_type": "code",
      "execution_count": null,
      "metadata": {},
      "outputs": [],
      "source": [
        "from langchain_community.document_loaders.parsers import LLMImageBlobParser\n",
        "from langchain_openai import ChatOpenAI\n",
        "\n",
        "loader = PyMuPDF4LLMLoader(\n",
        "    \"./example_data/layout-parser-paper.pdf\",\n",
        "    mode=\"page\",\n",
        "    extract_images=True,\n",
        "    images_parser=LLMImageBlobParser(\n",
        "        model=ChatOpenAI(model=\"gpt-4o-mini\", max_tokens=1024)\n",
        "    ),\n",
        ")\n",
        "docs = loader.load()\n",
        "\n",
        "print(docs[5].page_content[1863:])"
      ]
    },
    {
      "cell_type": "markdown",
      "metadata": {},
      "source": [
        "# 从 PDF 中提取表格\n\n使用 PyMUPDF4LLM，您可以将 PDF 中的表格提取为 *markdown* 格式："
      ]
    },
    {
      "cell_type": "code",
      "execution_count": null,
      "metadata": {},
      "outputs": [],
      "source": [
        "loader = PyMuPDF4LLMLoader(\n",
        "    \"./example_data/layout-parser-paper.pdf\",\n",
        "    mode=\"page\",\n",
        "    # \"lines_strict\" is the default strategy and\n",
        "    # is the most accurate for tables with column and row lines,\n",
        "    # but may not work well with all documents.\n",
        "    # \"lines\" is a less strict strategy that may work better with\n",
        "    # some documents.\n",
        "    # \"text\" is the least strict strategy and may work better\n",
        "    # with documents that do not have tables with lines.\n",
        "    table_strategy=\"lines\",\n",
        ")\n",
        "docs = loader.load()\n",
        "\n",
        "part = docs[4].page_content[3210:]\n",
        "print(part)\n",
        "display(Markdown(part))"
      ]
    },
    {
      "cell_type": "markdown",
      "metadata": {},
      "source": [
        "## 处理文件\n\n许多文档加载器都涉及解析文件。这类加载器之间的区别通常源于文件的解析方式，而不是文件本身的加载方式。例如，你可以使用 `open` 来读取 PDF 或 markdown 文件的二进制内容，但你需要不同的解析逻辑才能将这些二进制数据转换为文本。\n\n因此，将解析逻辑与加载逻辑解耦会很有帮助，这样可以更轻松地重用给定的解析器，无论数据是如何加载的。\n你可以使用此策略来分析不同的文件，并应用相同的解析参数。"
      ]
    },
    {
      "cell_type": "code",
      "execution_count": null,
      "metadata": {},
      "outputs": [],
      "source": [
        "from langchain_community.document_loaders import FileSystemBlobLoader\n",
        "from langchain_community.document_loaders.generic import GenericLoader\n",
        "from langchain_pymupdf4llm import PyMuPDF4LLMParser\n",
        "\n",
        "loader = GenericLoader(\n",
        "    blob_loader=FileSystemBlobLoader(\n",
        "        path=\"./example_data/\",\n",
        "        glob=\"*.pdf\",\n",
        "    ),\n",
        "    blob_parser=PyMuPDF4LLMParser(),\n",
        ")\n",
        "docs = loader.load()\n",
        "\n",
        "part = docs[0].page_content[:562]\n",
        "print(part)\n",
        "display(Markdown(part))"
      ]
    },
    {
      "cell_type": "markdown",
      "metadata": {},
      "source": [
        "## API 参考\n\n有关 PyMuPDF4LLMLoader 所有功能和配置的详细文档，请访问 GitHub 仓库：https://github.com/lakinduboteju/langchain-pymupdf4llm"
      ]
    }
  ],
  "metadata": {
    "kernelspec": {
      "display_name": "Python 3 (ipykernel)",
      "language": "python",
      "name": "python3"
    },
    "language_info": {
      "codemirror_mode": {
        "name": "ipython",
        "version": 3
      },
      "file_extension": ".py",
      "mimetype": "text/x-python",
      "name": "python",
      "nbconvert_exporter": "python",
      "pygments_lexer": "ipython3",
      "version": "3.9.21"
    }
  },
  "nbformat": 4,
  "nbformat_minor": 4
}