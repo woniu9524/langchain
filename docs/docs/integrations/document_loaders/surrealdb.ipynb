{
  "cells": [
    {
      "cell_type": "markdown",
      "id": "5812b612-3e77-4be2-aefb-fbb16141ab79",
      "metadata": {},
      "source": [
        "# SurrealDB\n\n>[SurrealDB](https://surrealdb.com/) 是一款面向现代应用程序（包括 Web、移动、无服务器、Jamstack、后端和传统应用程序）的端到端云原生数据库。借助 SurrealDB，您可以简化数据库和 API 基础架构，缩短开发时间，并以经济高效的方式快速构建安全、高性能的应用程序。\n>\n>**SurrealDB 的主要特点包括：**\n>\n>* **缩短开发时间：** SurrealDB 通过消除大多数服务器端组件的需求，简化了您的数据库和 API 堆栈，使您能够更快、更经济地构建安全、高性能的应用程序。\n>* **实时协作 API 后端服务：** SurrealDB 同时充当数据库和 API 后端服务，支持实时协作。\n>* **支持多种查询语言：** SurrealDB 支持来自客户端设备的 SQL 查询、GraphQL、ACID 事务、WebSocket 连接、结构化和非结构化数据、图查询、全文索引和地理空间查询。\n>* **精细的访问控制：** SurrealDB 提供基于行级权限的访问控制，使您能够精确地管理数据访问。\n>\n>查看 [功能](https://surrealdb.com/features)、最新 [发布](https://surrealdb.com/releases) 和 [文档](https://surrealdb.com/docs)。\n\n本 Notebook 展示了如何使用与 `SurrealDBLoader` 相关的功能。"
      ]
    },
    {
      "cell_type": "markdown",
      "id": "f56ccec5-24b3-4762-91a6-91385e041fee",
      "metadata": {},
      "source": [
        "## 概述\n\nSurrealDB Document Loader 从 SurrealDB 数据库返回一系列 Langchain Documents。\n\nDocument Loader 接受以下可选参数：\n\n* `dburl`: 连接到 websocket 端点的连接字符串。默认值：`ws://localhost:8000/rpc`\n* `ns`: 命名空间的名称。默认值：`langchain`\n* `db`: 数据库的名称。默认值：`database`\n* `table`: 表的名称。默认值：`documents`\n* `db_user`: 如果需要，提供 SurrealDB 凭证：数据库用户名。\n* `db_pass`: 如果需要，提供 SurrealDB 凭证：数据库密码。\n* `filter_criteria`: 用于构造 `WHERE` 子句的字典，用于过滤表中的结果。\n\n输出的 `Document` 具有以下形状：\n```\nDocument(\n    page_content=<包含结果文档的 json 编码字符串>,\n    metadata={\n        'id': <文档 ID>,\n        'ns': <命名空间名称>,\n        'db': <数据库名称>,\n        'table': <表名称>,\n        ... <文档元数据属性中的其他字段>\n    }\n)\n```"
      ]
    },
    {
      "cell_type": "markdown",
      "id": "77b024e0-c804-4b19-9f5e-0099eb61ba79",
      "metadata": {},
      "source": [
        "## 设置\n\n取消注释下面的单元格以安装 surrealdb 和 langchain。"
      ]
    },
    {
      "cell_type": "code",
      "execution_count": 1,
      "id": "508bc4f3-3aa2-45d3-8e59-cd7d0ffec379",
      "metadata": {
        "tags": []
      },
      "outputs": [],
      "source": [
        "# %pip install --upgrade --quiet  surrealdb langchain langchain-community"
      ]
    },
    {
      "cell_type": "code",
      "execution_count": 1,
      "id": "3ee3d767-b9ba-4be4-9e80-8fa6376beaba",
      "metadata": {},
      "outputs": [],
      "source": [
        "# add this import for running in jupyter notebook\n",
        "import nest_asyncio\n",
        "\n",
        "nest_asyncio.apply()"
      ]
    },
    {
      "cell_type": "code",
      "execution_count": 2,
      "id": "1ec629f4-b99a-44f1-a938-29de7439f121",
      "metadata": {},
      "outputs": [],
      "source": [
        "import json\n",
        "\n",
        "from langchain_community.document_loaders.surrealdb import SurrealDBLoader"
      ]
    },
    {
      "cell_type": "code",
      "execution_count": 3,
      "id": "8deb90ac-7d4e-422c-a87a-8e6e41390a6d",
      "metadata": {},
      "outputs": [
        {
          "data": {
            "text/plain": [
              "42"
            ]
          },
          "execution_count": 3,
          "metadata": {},
          "output_type": "execute_result"
        }
      ],
      "source": [
        "loader = SurrealDBLoader(\n",
        "    dburl=\"ws://localhost:8000/rpc\",\n",
        "    ns=\"langchain\",\n",
        "    db=\"database\",\n",
        "    table=\"documents\",\n",
        "    db_user=\"root\",\n",
        "    db_pass=\"root\",\n",
        "    filter_criteria={},\n",
        ")\n",
        "docs = loader.load()\n",
        "len(docs)"
      ]
    },
    {
      "cell_type": "code",
      "execution_count": 4,
      "id": "0aa9d3f7-56b3-464d-9d3d-1df7164122ba",
      "metadata": {},
      "outputs": [
        {
          "data": {
            "text/plain": [
              "{'id': 'documents:zzz434sa584xl3b4ohvk',\n",
              " 'source': '../../how_to/state_of_the_union.txt',\n",
              " 'ns': 'langchain',\n",
              " 'db': 'database',\n",
              " 'table': 'documents'}"
            ]
          },
          "execution_count": 4,
          "metadata": {},
          "output_type": "execute_result"
        }
      ],
      "source": [
        "doc = docs[-1]\n",
        "doc.metadata"
      ]
    },
    {
      "cell_type": "code",
      "execution_count": 5,
      "id": "0378dd34-c690-4b8e-8816-90a8acc2f227",
      "metadata": {},
      "outputs": [
        {
          "data": {
            "text/plain": [
              "18078"
            ]
          },
          "execution_count": 5,
          "metadata": {},
          "output_type": "execute_result"
        }
      ],
      "source": [
        "len(doc.page_content)"
      ]
    },
    {
      "cell_type": "code",
      "execution_count": 6,
      "id": "f30f1141-329b-4674-acb4-36d9d5a9ef0a",
      "metadata": {},
      "outputs": [],
      "source": [
        "page_content = json.loads(doc.page_content)"
      ]
    },
    {
      "cell_type": "code",
      "execution_count": 7,
      "id": "2a58496f-a831-40ec-be6b-92ce70f78133",
      "metadata": {},
      "outputs": [
        {
          "data": {
            "text/plain": [
              "'When we use taxpayer dollars to rebuild America – we are going to Buy American: buy American products to support American jobs. \\n\\nThe federal government spends about $600 Billion a year to keep the country safe and secure. \\n\\nThere’s been a law on the books for almost a century \\nto make sure taxpayers’ dollars support American jobs and businesses. \\n\\nEvery Administration says they’ll do it, but we are actually doing it. \\n\\nWe will buy American to make sure everything from the deck of an aircraft carrier to the steel on highway guardrails are made in America. \\n\\nBut to compete for the best jobs of the future, we also need to level the playing field with China and other competitors. \\n\\nThat’s why it is so important to pass the Bipartisan Innovation Act sitting in Congress that will make record investments in emerging technologies and American manufacturing. \\n\\nLet me give you one example of why it’s so important to pass it.'"
            ]
          },
          "execution_count": 7,
          "metadata": {},
          "output_type": "execute_result"
        }
      ],
      "source": [
        "page_content[\"text\"]"
      ]
    }
  ],
  "metadata": {
    "kernelspec": {
      "display_name": "Python 3 (ipykernel)",
      "language": "python",
      "name": "python3"
    },
    "language_info": {
      "codemirror_mode": {
        "name": "ipython",
        "version": 3
      },
      "file_extension": ".py",
      "mimetype": "text/x-python",
      "name": "python",
      "nbconvert_exporter": "python",
      "pygments_lexer": "ipython3",
      "version": "3.10.12"
    }
  },
  "nbformat": 4,
  "nbformat_minor": 5
}