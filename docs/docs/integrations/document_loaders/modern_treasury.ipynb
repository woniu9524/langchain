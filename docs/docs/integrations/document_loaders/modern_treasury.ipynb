{
  "cells": [
    {
      "attachments": {},
      "cell_type": "markdown",
      "metadata": {},
      "source": [
        "# Modern Treasury\n\n>[Modern Treasury](https://www.moderntreasury.com/) 简化了复杂的支付操作。它是一个统一的平台，用于为资金流动的产品和流程提供支持。\n>- 连接银行和支付系统\n>- 实时跟踪交易和余额\n>- 自动化支付操作以实现扩展\n\n本 Notebook 将介绍如何将数据从 `Modern Treasury REST API` 加载到可被 LangChain 摄取的格式，并提供向量化的示例用法。"
      ]
    },
    {
      "cell_type": "code",
      "execution_count": 1,
      "metadata": {},
      "outputs": [],
      "source": [
        "from langchain.indexes import VectorstoreIndexCreator\n",
        "from langchain_community.document_loaders import ModernTreasuryLoader"
      ]
    },
    {
      "attachments": {},
      "cell_type": "markdown",
      "metadata": {},
      "source": [
        "Modern Treasury API 需要组织 ID 和 API 密钥，这些可以在 Modern Treasury 控制面板的开发者设置中找到。\n\n此文档加载器还需要一个 `resource` 选项，用于定义您想要加载的数据。\n\n以下资源可用：\n\n`payment_orders` [文档](https://docs.moderntreasury.com/reference/payment-order-object)\n\n`expected_payments` [文档](https://docs.moderntreasury.com/reference/expected-payment-object)\n\n`returns` [文档](https://docs.moderntreasury.com/reference/return-object)\n\n`incoming_payment_details` [文档](https://docs.moderntreasury.com/reference/incoming-payment-detail-object)\n\n`counterparties` [文档](https://docs.moderntreasury.com/reference/counterparty-object)\n\n`internal_accounts` [文档](https://docs.moderntreasury.com/reference/internal-account-object)\n\n`external_accounts` [文档](https://docs.moderntreasury.com/reference/external-account-object)\n\n`transactions` [文档](https://docs.moderntreasury.com/reference/transaction-object)\n\n`ledgers` [文档](https://docs.moderntreasury.com/reference/ledger-object)\n\n`ledger_accounts` [文档](https://docs.moderntreasury.com/reference/ledger-account-object)\n\n`ledger_transactions` [文档](https://docs.moderntreasury.com/reference/ledger-transaction-object)\n\n`events` [文档](https://docs.moderntreasury.com/reference/events)\n\n`invoices` [文档](https://docs.moderntreasury.com/reference/invoices)"
      ]
    },
    {
      "cell_type": "code",
      "execution_count": null,
      "metadata": {},
      "outputs": [],
      "source": [
        "modern_treasury_loader = ModernTreasuryLoader(\"payment_orders\")"
      ]
    },
    {
      "cell_type": "code",
      "execution_count": null,
      "metadata": {},
      "outputs": [],
      "source": [
        "# Create a vectorstore retriever from the loader\n",
        "# see https://python.langchain.com/en/latest/modules/data_connection/getting_started.html for more details\n",
        "\n",
        "index = VectorstoreIndexCreator().from_loaders([modern_treasury_loader])\n",
        "modern_treasury_doc_retriever = index.vectorstore.as_retriever()"
      ]
    }
  ],
  "metadata": {
    "kernelspec": {
      "display_name": "Python 3 (ipykernel)",
      "language": "python",
      "name": "python3"
    },
    "language_info": {
      "codemirror_mode": {
        "name": "ipython",
        "version": 3
      },
      "file_extension": ".py",
      "mimetype": "text/x-python",
      "name": "python",
      "nbconvert_exporter": "python",
      "pygments_lexer": "ipython3",
      "version": "3.10.6"
    }
  },
  "nbformat": 4,
  "nbformat_minor": 4
}