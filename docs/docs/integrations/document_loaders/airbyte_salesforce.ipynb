{
  "cells": [
    {
      "cell_type": "raw",
      "id": "e329385c",
      "metadata": {},
      "source": [
        "---\n",
        "sidebar_class_name: hidden\n",
        "---"
      ]
    },
    {
      "cell_type": "markdown",
      "id": "1f3a5ebf",
      "metadata": {},
      "source": [
        "# Airbyte Salesforce (已弃用)"
      ]
    },
    {
      "cell_type": "markdown",
      "id": "35ac77b1-449b-44f7-b8f3-3494d55c286e",
      "metadata": {},
      "source": [
        "请注意：此连接器特定加载器已弃用。请改用 [`AirbyteLoader`](/docs/integrations/document_loaders/airbyte)。\n\n>[Airbyte](https://github.com/airbytehq/airbyte) 是一个数据集成平台，用于从 API、数据库和文件到数据仓库和数据湖的 ELT 管道。它拥有最大的 ELT 连接器到数据仓库和数据库的目录。\n\n此加载器公开了 Salesforce 连接器作为文档加载器，允许您将各种 Salesforce 对象加载为文档。"
      ]
    },
    {
      "cell_type": "markdown",
      "id": "6847a40c",
      "metadata": {},
      "source": []
    },
    {
      "cell_type": "markdown",
      "id": "3b06fbde",
      "metadata": {},
      "source": [
        "## 安装"
      ]
    },
    {
      "cell_type": "markdown",
      "id": "e3e9dc79",
      "metadata": {},
      "source": [
        "首先，你需要安装 `airbyte-source-salesforce` 这个 Python 包。"
      ]
    },
    {
      "cell_type": "code",
      "execution_count": null,
      "id": "4d35e4e0",
      "metadata": {},
      "outputs": [],
      "source": [
        "%pip install --upgrade --quiet  airbyte-source-salesforce"
      ]
    },
    {
      "cell_type": "markdown",
      "id": "ae855210",
      "metadata": {},
      "source": [
        "## 示例"
      ]
    },
    {
      "cell_type": "markdown",
      "id": "02208f52",
      "metadata": {},
      "source": [
        "请查阅 [Airbyte 文档页面](https://docs.airbyte.com/integrations/sources/salesforce/) 以了解 Reader 的配置详情。\nConfig 对象应遵循的 JSON Schema 可以在 Github 上找到：[https://github.com/airbytehq/airbyte/blob/master/airbyte-integrations/connectors/source-salesforce/source_salesforce/spec.yaml](https://github.com/airbytehq/airbyte/blob/master/airbyte-integrations/connectors/source-salesforce/source_salesforce/spec.yaml)。\n\n大致结构如下：\n```python\n{\n  \"client_id\": \"<oauth client id>\",\n  \"client_secret\": \"<oauth client secret>\",\n  \"refresh_token\": \"<oauth refresh token>\",\n  \"start_date\": \"<要从中开始检索记录的日期，ISO 格式，例如 2020-10-20T00:00:00Z>\",\n  \"is_sandbox\": False, # 如果您使用的是沙盒环境，请设为 True\n  \"streams_criteria\": [ # 用于过滤应可加载的 Salesforce 对象的过滤器数组\n    {\"criteria\": \"exacts\", \"value\": \"Account\"}, # Salesforce 对象的精确名称\n    {\"criteria\": \"starts with\", \"value\": \"Asset\"}, # 名称前缀\n    # 其他允许的条件：ends with, contains, starts not with, ends not with, not contains, not exacts\n  ],\n}\n```\n\n默认情况下，所有字段都将作为元数据存储在文档中，文本内容将设置为空字符串。通过转换 Reader 返回的文档来构建文档的文本内容。"
      ]
    },
    {
      "cell_type": "code",
      "execution_count": null,
      "id": "89a99e58",
      "metadata": {},
      "outputs": [],
      "source": [
        "from langchain_community.document_loaders.airbyte import AirbyteSalesforceLoader\n",
        "\n",
        "config = {\n",
        "    # your salesforce configuration\n",
        "}\n",
        "\n",
        "loader = AirbyteSalesforceLoader(\n",
        "    config=config, stream_name=\"asset\"\n",
        ")  # check the documentation linked above for a list of all streams"
      ]
    },
    {
      "cell_type": "markdown",
      "id": "2cea23fc",
      "metadata": {},
      "source": [
        "现在您可以像往常一样加载文档了"
      ]
    },
    {
      "cell_type": "code",
      "execution_count": null,
      "id": "dae75cdb",
      "metadata": {},
      "outputs": [],
      "source": [
        "docs = loader.load()"
      ]
    },
    {
      "cell_type": "markdown",
      "id": "4a93dc2a",
      "metadata": {},
      "source": [
        "由于 `load` 返回一个列表，它会一直阻塞直到所有文档都被加载。为了对此过程有更好的控制，您也可以使用 `lazy_load` 方法，它会返回一个迭代器："
      ]
    },
    {
      "cell_type": "code",
      "execution_count": null,
      "id": "1782db09",
      "metadata": {},
      "outputs": [],
      "source": [
        "docs_iterator = loader.lazy_load()"
      ]
    },
    {
      "cell_type": "markdown",
      "id": "3a124086",
      "metadata": {},
      "source": [
        "请注意，默认情况下页面内容为空，并且 metadata 对象包含记录中的所有信息。若要以其他方式创建文档，请在创建加载器时传入一个 `record_handler` 函数："
      ]
    },
    {
      "cell_type": "code",
      "execution_count": null,
      "id": "5671395d",
      "metadata": {},
      "outputs": [],
      "source": [
        "from langchain_core.documents import Document\n",
        "\n",
        "\n",
        "def handle_record(record, id):\n",
        "    return Document(page_content=record.data[\"title\"], metadata=record.data)\n",
        "\n",
        "\n",
        "loader = AirbyteSalesforceLoader(\n",
        "    config=config, record_handler=handle_record, stream_name=\"asset\"\n",
        ")\n",
        "docs = loader.load()"
      ]
    },
    {
      "cell_type": "markdown",
      "id": "223eb8bc",
      "metadata": {},
      "source": [
        "## 增量加载\n\n某些流支持增量加载，这意味着源会跟踪已同步的记录，并且不会再次加载它们。这对于数据量大且频繁更新的源非常有用。\n\n要利用此功能，请存储加载器的 `last_state` 属性，并在再次创建加载器时将其传入。这将确保只加载新记录。"
      ]
    },
    {
      "cell_type": "code",
      "execution_count": null,
      "id": "7061e735",
      "metadata": {},
      "outputs": [],
      "source": [
        "last_state = loader.last_state  # store safely\n",
        "\n",
        "incremental_loader = AirbyteSalesforceLoader(\n",
        "    config=config, stream_name=\"asset\", state=last_state\n",
        ")\n",
        "\n",
        "new_docs = incremental_loader.load()"
      ]
    }
  ],
  "metadata": {
    "kernelspec": {
      "display_name": "Python 3 (ipykernel)",
      "language": "python",
      "name": "python3"
    },
    "language_info": {
      "codemirror_mode": {
        "name": "ipython",
        "version": 3
      },
      "file_extension": ".py",
      "mimetype": "text/x-python",
      "name": "python",
      "nbconvert_exporter": "python",
      "pygments_lexer": "ipython3",
      "version": "3.10.6"
    }
  },
  "nbformat": 4,
  "nbformat_minor": 5
}