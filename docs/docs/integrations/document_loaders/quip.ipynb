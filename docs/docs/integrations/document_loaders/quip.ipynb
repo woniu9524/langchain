{
  "cells": [
    {
      "cell_type": "markdown",
      "metadata": {},
      "source": [
        "# Quip\n\n>[Quip](https://quip.com) 是一款适用于移动和 Web 的协作生产力软件套件。它允许人们作为一个小组共同创建和编辑文档和电子表格，通常用于商业目的。\n\n一个用于加载 `Quip` 文档的加载器。\n\n请参见 [此处](https://quip.com/dev/automation/documentation/current#section/Authentication/Get-Access-to-Quip's-APIs) 以了解如何获取个人访问令牌。\n\n指定一个 `folder_ids` 和/或 `thread_ids` 列表，以便将相应的文档加载到 Document 对象中。如果两者都指定了，加载器将根据 `folder_ids` 获取属于该文件夹的所有 `thread_ids`，并与传入的 `thread_ids` 合并，返回两者的并集。\n\n* 如何知道 folder_id？\n  进入 Quip 文件夹，右键单击文件夹并复制链接，从链接中提取后缀即为 folder_id。提示： `https://example.quip.com/<folder_id>`\n* 如何知道 thread_id？\n  thread_id 就是文档 ID。进入 Quip 文档，右键单击文档并复制链接，从链接中提取后缀即为 thread_id。提示：`https://exmaple.quip.com/<thread_id>`\n\n您还可以将 `include_all_folders` 设置为 `True` 来获取 group_folder_ids。\n您还可以指定一个布尔值 `include_attachments` 来包含附件，默认情况下此项设置为 `False`。如果设置为 `True`，所有附件将被下载，QuipLoader 将从附件中提取文本并将其添加到 Document 对象中。目前支持的附件类型有：`PDF`、`PNG`、`JPEG/JPG`、`SVG`、`Word` 和 `Excel`。您还可以指定一个布尔值 `include_comments` 来包含文档中的评论，默认情况下此项设置为 `False`。如果设置为 `True`，将获取文档中的所有评论，并由 QuipLoader 将它们添加到 Document 对象中。"
      ]
    },
    {
      "cell_type": "markdown",
      "metadata": {},
      "source": [
        "在使用 QuipLoader 之前，请确保您已安装最新版本的 quip-api 包："
      ]
    },
    {
      "cell_type": "code",
      "execution_count": 1,
      "metadata": {
        "tags": []
      },
      "outputs": [],
      "source": [
        "%pip install --upgrade --quiet  quip-api"
      ]
    },
    {
      "cell_type": "markdown",
      "metadata": {},
      "source": [
        "## 示例"
      ]
    },
    {
      "cell_type": "markdown",
      "metadata": {},
      "source": [
        "### 个人访问令牌"
      ]
    },
    {
      "cell_type": "code",
      "execution_count": null,
      "metadata": {},
      "outputs": [],
      "source": [
        "from langchain_community.document_loaders.quip import QuipLoader\n",
        "\n",
        "loader = QuipLoader(\n",
        "    api_url=\"https://platform.quip.com\", access_token=\"change_me\", request_timeout=60\n",
        ")\n",
        "documents = loader.load(\n",
        "    folder_ids={\"123\", \"456\"},\n",
        "    thread_ids={\"abc\", \"efg\"},\n",
        "    include_attachments=False,\n",
        "    include_comments=False,\n",
        ")"
      ]
    }
  ],
  "metadata": {
    "kernelspec": {
      "display_name": "Python (Pyodide)",
      "language": "python",
      "name": "python"
    },
    "language_info": {
      "codemirror_mode": {
        "name": "ipython",
        "version": 3
      },
      "file_extension": ".py",
      "mimetype": "text/x-python",
      "name": "python",
      "nbconvert_exporter": "python",
      "pygments_lexer": "ipython3",
      "version": "3.9.1"
    },
    "vscode": {
      "interpreter": {
        "hash": "cc99336516f23363341912c6723b01ace86f02e26b4290be1efc0677e2e2ec24"
      }
    }
  },
  "nbformat": 4,
  "nbformat_minor": 4
}