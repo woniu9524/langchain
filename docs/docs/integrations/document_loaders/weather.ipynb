{
  "cells": [
    {
      "cell_type": "markdown",
      "id": "66a7777e",
      "metadata": {},
      "source": [
        "# 天气\n\n>[OpenWeatherMap](https://openweathermap.org/) 是一个开源天气服务提供商\n\n这个 loader 使用 pyowm Python 包从 OpenWeatherMap 的 OneCall API 获取天气数据。您必须使用您的 OpenWeatherMap API 令牌和您想要天气数据的城市名称来初始化 loader。"
      ]
    },
    {
      "cell_type": "code",
      "execution_count": null,
      "id": "9ec8a3b3",
      "metadata": {},
      "outputs": [],
      "source": [
        "from langchain_community.document_loaders import WeatherDataLoader"
      ]
    },
    {
      "cell_type": "code",
      "execution_count": null,
      "id": "43128d8d",
      "metadata": {},
      "outputs": [],
      "source": [
        "%pip install --upgrade --quiet  pyowm"
      ]
    },
    {
      "cell_type": "code",
      "execution_count": null,
      "id": "51b0f0db",
      "metadata": {},
      "outputs": [],
      "source": [
        "# Set API key either by passing it in to constructor directly\n",
        "# or by setting the environment variable \"OPENWEATHERMAP_API_KEY\".\n",
        "\n",
        "from getpass import getpass\n",
        "\n",
        "OPENWEATHERMAP_API_KEY = getpass()"
      ]
    },
    {
      "cell_type": "code",
      "execution_count": null,
      "id": "35d6809a",
      "metadata": {
        "pycharm": {
          "name": "#%%\n"
        }
      },
      "outputs": [],
      "source": [
        "loader = WeatherDataLoader.from_params(\n",
        "    [\"chennai\", \"vellore\"], openweathermap_api_key=OPENWEATHERMAP_API_KEY\n",
        ")"
      ]
    },
    {
      "cell_type": "code",
      "execution_count": null,
      "id": "05fe33b9",
      "metadata": {
        "pycharm": {
          "name": "#%%\n"
        }
      },
      "outputs": [],
      "source": [
        "documents = loader.load()\n",
        "documents"
      ]
    }
  ],
  "metadata": {
    "kernelspec": {
      "display_name": "Python 3 (ipykernel)",
      "language": "python",
      "name": "python3"
    },
    "language_info": {
      "codemirror_mode": {
        "name": "ipython",
        "version": 3
      },
      "file_extension": ".py",
      "mimetype": "text/x-python",
      "name": "python",
      "nbconvert_exporter": "python",
      "pygments_lexer": "ipython3",
      "version": "3.11.3"
    }
  },
  "nbformat": 4,
  "nbformat_minor": 5
}