{
  "cells": [
    {
      "cell_type": "markdown",
      "metadata": {
        "id": "xwiDq5fOuoRn"
      },
      "source": [
        "# Apify 数据集\n\n>[Apify Dataset](https://docs.apify.com/platform/storage/dataset) 是一种可扩展的、仅追加的存储，具有顺序访问功能，专为存储结构化的网页抓取结果而设计，例如产品列表或 Google SERPs，然后将它们导出为各种格式，如 JSON、CSV 或 Excel。数据集主要用于保存 [Apify Actors](https://apify.com/store) 的结果，这些是用于各种网页抓取、爬取和数据提取用例的无服务器云程序。\n\n本笔记本将展示如何将 Apify 数据集加载到 LangChain 中。\n\n## 先决条件\n\n您需要在 Apify 平台上拥有一个现有数据集。本示例将展示如何加载由 [Website Content Crawler](https://apify.com/apify/website-content-crawler) 生成的数据集。"
      ]
    },
    {
      "cell_type": "code",
      "execution_count": null,
      "metadata": {
        "id": "qRW2-mokuoRp",
        "tags": []
      },
      "outputs": [],
      "source": [
        "%pip install --upgrade --quiet langchain langchain-apify langchain-openai"
      ]
    },
    {
      "cell_type": "markdown",
      "metadata": {
        "id": "8jRVq16LuoRq"
      },
      "source": [
        "首先，将 `ApifyDatasetLoader` 导入到你的源代码中："
      ]
    },
    {
      "cell_type": "code",
      "execution_count": 2,
      "metadata": {
        "id": "umXQHqIJuoRq"
      },
      "outputs": [],
      "source": [
        "from langchain_apify import ApifyDatasetLoader\n",
        "from langchain_core.documents import Document"
      ]
    },
    {
      "cell_type": "markdown",
      "metadata": {
        "id": "NjGwKy59vz1X"
      },
      "source": [
        "找到您的 [Apify API 令牌](https://console.apify.com/account/integrations) 和 [OpenAI API 密钥](https://platform.openai.com/account/api-keys)，并将它们初始化到环境变量中："
      ]
    },
    {
      "cell_type": "code",
      "execution_count": 7,
      "metadata": {
        "id": "AvzNtyCxwDdr"
      },
      "outputs": [],
      "source": [
        "import os\n",
        "\n",
        "os.environ[\"APIFY_API_TOKEN\"] = \"your-apify-api-token\"\n",
        "os.environ[\"OPENAI_API_KEY\"] = \"your-openai-api-key\""
      ]
    },
    {
      "cell_type": "markdown",
      "metadata": {
        "id": "d1O-KL48uoRr"
      },
      "source": [
        "然后提供一个函数，将 Apify 数据集记录字段映射到 LangChain `Document` 格式。\n\n例如，如果你的数据集项结构如下：\n\n```json\n{\n    \"url\": \"https://apify.com\",\n    \"text\": \"Apify 是最佳的网页抓取和自动化平台。\"\n}\n```\n\n下面的代码中的映射函数会将它们转换为 LangChain `Document` 格式，以便你可以将它们进一步用于任何 LLM 模型（例如用于问答）。"
      ]
    },
    {
      "cell_type": "code",
      "execution_count": 8,
      "metadata": {
        "id": "m1SpA7XZuoRr"
      },
      "outputs": [],
      "source": [
        "loader = ApifyDatasetLoader(\n",
        "    dataset_id=\"your-dataset-id\",\n",
        "    dataset_mapping_function=lambda dataset_item: Document(\n",
        "        page_content=dataset_item[\"text\"], metadata={\"source\": dataset_item[\"url\"]}\n",
        "    ),\n",
        ")"
      ]
    },
    {
      "cell_type": "code",
      "execution_count": 9,
      "metadata": {
        "id": "0hWX7ABsuoRs"
      },
      "outputs": [],
      "source": [
        "data = loader.load()"
      ]
    },
    {
      "cell_type": "markdown",
      "metadata": {
        "id": "EJCVFVKNuoRs"
      },
      "source": [
        "## 一个带有问答的示例\n\n在这个示例中，我们使用数据集中的数据来回答一个问题。"
      ]
    },
    {
      "cell_type": "code",
      "execution_count": 14,
      "metadata": {
        "id": "sNisJKzZuoRt"
      },
      "outputs": [],
      "source": [
        "from langchain.indexes import VectorstoreIndexCreator\n",
        "from langchain_apify import ApifyWrapper\n",
        "from langchain_core.documents import Document\n",
        "from langchain_core.vectorstores import InMemoryVectorStore\n",
        "from langchain_openai import ChatOpenAI\n",
        "from langchain_openai.embeddings import OpenAIEmbeddings"
      ]
    },
    {
      "cell_type": "code",
      "execution_count": 15,
      "metadata": {
        "id": "qcfmnbdDuoRu"
      },
      "outputs": [],
      "source": [
        "loader = ApifyDatasetLoader(\n",
        "    dataset_id=\"your-dataset-id\",\n",
        "    dataset_mapping_function=lambda item: Document(\n",
        "        page_content=item[\"text\"] or \"\", metadata={\"source\": item[\"url\"]}\n",
        "    ),\n",
        ")"
      ]
    },
    {
      "cell_type": "code",
      "execution_count": 16,
      "metadata": {
        "id": "8b0xzKJxuoRv"
      },
      "outputs": [],
      "source": [
        "index = VectorstoreIndexCreator(\n",
        "    vectorstore_cls=InMemoryVectorStore, embedding=OpenAIEmbeddings()\n",
        ").from_loaders([loader])"
      ]
    },
    {
      "cell_type": "code",
      "execution_count": 17,
      "metadata": {
        "id": "7zPXGsVFwUGA"
      },
      "outputs": [],
      "source": [
        "llm = ChatOpenAI(model=\"gpt-4o-mini\")"
      ]
    },
    {
      "cell_type": "code",
      "execution_count": 23,
      "metadata": {
        "id": "ecWrdM4guoRv"
      },
      "outputs": [],
      "source": [
        "query = \"What is Apify?\"\n",
        "result = index.query_with_sources(query, llm=llm)"
      ]
    },
    {
      "cell_type": "code",
      "execution_count": null,
      "metadata": {
        "id": "QH8r44e9uoRv",
        "outputId": "361fe050-f75d-4d5a-c327-5e7bd190fba5"
      },
      "outputs": [
        {
          "name": "stdout",
          "output_type": "stream",
          "text": [
            " Apify is a platform for developing, running, and sharing serverless cloud programs. It enables users to create web scraping and automation tools and publish them on the Apify platform.\n",
            "\n",
            "https://docs.apify.com/platform/actors, https://docs.apify.com/platform/actors/running/actors-in-store, https://docs.apify.com/platform/security, https://docs.apify.com/platform/actors/examples\n"
          ]
        }
      ],
      "source": [
        "print(result[\"answer\"])\n",
        "print(result[\"sources\"])"
      ]
    }
  ],
  "metadata": {
    "colab": {
      "provenance": []
    },
    "kernelspec": {
      "display_name": "Python 3 (ipykernel)",
      "language": "python",
      "name": "python3"
    },
    "language_info": {
      "codemirror_mode": {
        "name": "ipython",
        "version": 3
      },
      "file_extension": ".py",
      "mimetype": "text/x-python",
      "name": "python",
      "nbconvert_exporter": "python",
      "pygments_lexer": "ipython3",
      "version": "3.11.3"
    }
  },
  "nbformat": 4,
  "nbformat_minor": 0
}