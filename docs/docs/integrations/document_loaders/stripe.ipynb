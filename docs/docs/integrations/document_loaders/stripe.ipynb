{
  "cells": [
    {
      "attachments": {},
      "cell_type": "markdown",
      "metadata": {},
      "source": [
        "# Stripe\n\n>[Stripe](https://stripe.com/en-ca) 是一家爱尔兰裔美国金融服务与软件即服务 (SaaS) 公司。它为电子商务网站和移动应用程序提供支付处理软件和应用程序编程接口。\n\n本 Notebook 涵盖了如何将 `Stripe REST API` 的数据加载到 LangChain 中可用的格式，并提供了向量化的示例用法。"
      ]
    },
    {
      "cell_type": "code",
      "execution_count": 1,
      "metadata": {},
      "outputs": [],
      "source": [
        "from langchain.indexes import VectorstoreIndexCreator\n",
        "from langchain_community.document_loaders import StripeLoader"
      ]
    },
    {
      "attachments": {},
      "cell_type": "markdown",
      "metadata": {},
      "source": [
        "Stripe API 需要一个访问令牌，您可以在 Stripe 后台中找到它。\n\n此文档加载器还需要一个 `resource` 选项，用于定义您想要加载的数据。\n\n提供以下资源：\n\n`balance_transations` [文档](https://stripe.com/docs/api/balance_transactions/list)\n\n`charges` [文档](https://stripe.com/docs/api/charges/list)\n\n`customers` [文档](https://stripe.com/docs/api/customers/list)\n\n`events` [文档](https://stripe.com/docs/api/events/list)\n\n`refunds` [文档](https://stripe.com/docs/api/refunds/list)\n\n`disputes` [文档](https://stripe.com/docs/api/disputes/list)"
      ]
    },
    {
      "cell_type": "code",
      "execution_count": null,
      "metadata": {},
      "outputs": [],
      "source": [
        "stripe_loader = StripeLoader(\"charges\")"
      ]
    },
    {
      "cell_type": "code",
      "execution_count": null,
      "metadata": {},
      "outputs": [],
      "source": [
        "# Create a vectorstore retriever from the loader\n",
        "# see https://python.langchain.com/en/latest/modules/data_connection/getting_started.html for more details\n",
        "\n",
        "index = VectorstoreIndexCreator().from_loaders([stripe_loader])\n",
        "stripe_doc_retriever = index.vectorstore.as_retriever()"
      ]
    }
  ],
  "metadata": {
    "kernelspec": {
      "display_name": "Python 3 (ipykernel)",
      "language": "python",
      "name": "python3"
    },
    "language_info": {
      "codemirror_mode": {
        "name": "ipython",
        "version": 3
      },
      "file_extension": ".py",
      "mimetype": "text/x-python",
      "name": "python",
      "nbconvert_exporter": "python",
      "pygments_lexer": "ipython3",
      "version": "3.10.6"
    }
  },
  "nbformat": 4,
  "nbformat_minor": 4
}