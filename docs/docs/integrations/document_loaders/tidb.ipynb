{
  "cells": [
    {
      "cell_type": "markdown",
      "metadata": {},
      "source": [
        "# TiDB\n\n> [TiDB Cloud](https://tidbcloud.com/) 是一个全面的数据库即服务 (DBaaS) 解决方案，提供专用和无服务器选项。TiDB Serverless 现已将内置的向量搜索集成到 MySQL 生态系统中。通过此增强功能，您可以使用 TiDB Serverless 无缝开发 AI 应用，而无需引入新数据库或额外的技术栈。立即加入私有 Beta 等待名单，体验抢先一步：https://tidb.cloud/ai。\n\n本笔记本将介绍如何在 langchain 中使用 `TiDBLoader` 从 TiDB 加载数据。"
      ]
    },
    {
      "cell_type": "markdown",
      "metadata": {},
      "source": [
        "## 先决条件\n\n在使用 `TiDBLoader` 之前，我们将安装以下依赖项："
      ]
    },
    {
      "cell_type": "code",
      "execution_count": null,
      "metadata": {},
      "outputs": [],
      "source": [
        "%pip install --upgrade --quiet langchain"
      ]
    },
    {
      "cell_type": "markdown",
      "metadata": {},
      "source": [
        "接着，我们将配置与 TiDB 的连接。在本笔记本中，我们将遵循 TiDB Cloud 提供的标准连接方法，以建立安全高效的数据库连接。"
      ]
    },
    {
      "cell_type": "code",
      "execution_count": 2,
      "metadata": {},
      "outputs": [],
      "source": [
        "import getpass\n",
        "\n",
        "# copy from tidb cloud console，replace it with your own\n",
        "tidb_connection_string_template = \"mysql+pymysql://<USER>:<PASSWORD>@<HOST>:4000/<DB>?ssl_ca=/etc/ssl/cert.pem&ssl_verify_cert=true&ssl_verify_identity=true\"\n",
        "tidb_password = getpass.getpass(\"Input your TiDB password:\")\n",
        "tidb_connection_string = tidb_connection_string_template.replace(\n",
        "    \"<PASSWORD>\", tidb_password\n",
        ")"
      ]
    },
    {
      "cell_type": "markdown",
      "metadata": {},
      "source": [
        "## 从 TiDB 加载数据\n\n以下是可用于自定义 `TiDBLoader` 行为的一些关键参数：\n\n- `query` (str): 这是将在 TiDB 数据库上执行的 SQL 查询。查询应选择您要加载到 `Document` 对象中的数据。\n例如，您可以使用类似 `\"SELECT * FROM my_table\"` 的查询来获取 `my_table` 中的所有数据。\n\n- `page_content_columns` (Optional[List[str]]): 指定应包含在每个 `Document` 对象的 `page_content` 中的列名列表。\n如果将其设置为 `None`（默认值），则查询返回的所有列都将包含在 `page_content` 中。这允许您根据数据的特定列来定制每个文档的内容。\n\n- `metadata_columns` (Optional[List[str]]): 指定应包含在每个 `Document` 对象的 `metadata` 中的列名列表。\n默认情况下，此列表为空，这意味着除非明确指定，否则不包含任何元数据。这对于包含有关每个文档的附加信息非常有用，这些信息不构成主要内容的一部分，但对于处理或分析仍然很有价值。"
      ]
    },
    {
      "cell_type": "code",
      "execution_count": 3,
      "metadata": {},
      "outputs": [],
      "source": [
        "from sqlalchemy import Column, Integer, MetaData, String, Table, create_engine\n",
        "\n",
        "# Connect to the database\n",
        "engine = create_engine(tidb_connection_string)\n",
        "metadata = MetaData()\n",
        "table_name = \"test_tidb_loader\"\n",
        "\n",
        "# Create a table\n",
        "test_table = Table(\n",
        "    table_name,\n",
        "    metadata,\n",
        "    Column(\"id\", Integer, primary_key=True),\n",
        "    Column(\"name\", String(255)),\n",
        "    Column(\"description\", String(255)),\n",
        ")\n",
        "metadata.create_all(engine)\n",
        "\n",
        "\n",
        "with engine.connect() as connection:\n",
        "    transaction = connection.begin()\n",
        "    try:\n",
        "        connection.execute(\n",
        "            test_table.insert(),\n",
        "            [\n",
        "                {\"name\": \"Item 1\", \"description\": \"Description of Item 1\"},\n",
        "                {\"name\": \"Item 2\", \"description\": \"Description of Item 2\"},\n",
        "                {\"name\": \"Item 3\", \"description\": \"Description of Item 3\"},\n",
        "            ],\n",
        "        )\n",
        "        transaction.commit()\n",
        "    except:\n",
        "        transaction.rollback()\n",
        "        raise"
      ]
    },
    {
      "cell_type": "code",
      "execution_count": 4,
      "metadata": {},
      "outputs": [
        {
          "name": "stdout",
          "output_type": "stream",
          "text": [
            "------------------------------\n",
            "content: name: Item 1\n",
            "description: Description of Item 1\n",
            "metada: {'id': 1}\n",
            "------------------------------\n",
            "content: name: Item 2\n",
            "description: Description of Item 2\n",
            "metada: {'id': 2}\n",
            "------------------------------\n",
            "content: name: Item 3\n",
            "description: Description of Item 3\n",
            "metada: {'id': 3}\n"
          ]
        }
      ],
      "source": [
        "from langchain_community.document_loaders import TiDBLoader\n",
        "\n",
        "# Setup TiDBLoader to retrieve data\n",
        "loader = TiDBLoader(\n",
        "    connection_string=tidb_connection_string,\n",
        "    query=f\"SELECT * FROM {table_name};\",\n",
        "    page_content_columns=[\"name\", \"description\"],\n",
        "    metadata_columns=[\"id\"],\n",
        ")\n",
        "\n",
        "# Load data\n",
        "documents = loader.load()\n",
        "\n",
        "# Display the loaded documents\n",
        "for doc in documents:\n",
        "    print(\"-\" * 30)\n",
        "    print(f\"content: {doc.page_content}\\nmetada: {doc.metadata}\")"
      ]
    },
    {
      "cell_type": "code",
      "execution_count": 5,
      "metadata": {},
      "outputs": [],
      "source": [
        "test_table.drop(bind=engine)"
      ]
    }
  ],
  "metadata": {
    "kernelspec": {
      "display_name": "langchain",
      "language": "python",
      "name": "python3"
    },
    "language_info": {
      "codemirror_mode": {
        "name": "ipython",
        "version": 3
      },
      "file_extension": ".py",
      "mimetype": "text/x-python",
      "name": "python",
      "nbconvert_exporter": "python",
      "pygments_lexer": "ipython3",
      "version": "3.10.13"
    }
  },
  "nbformat": 4,
  "nbformat_minor": 2
}