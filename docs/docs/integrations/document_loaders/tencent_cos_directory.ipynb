{
  "cells": [
    {
      "cell_type": "markdown",
      "id": "a634365e",
      "metadata": {},
      "source": [
        "# 腾讯云对象存储 (COS) 目录\n\n>[腾讯云对象存储 (COS)](https://www.tencentcloud.com/products/cos) 是一项分布式存储服务，\n> 允许您通过 HTTP/HTTPS 协议从任何地方存储任意数量的数据。 \n> `COS` 对数据结构或格式没有任何限制。它也没有存储桶大小限制和\n> 分区管理，这使其适用于几乎任何用例，例如数据分发、\n> 数据处理和数据湖。`COS` 提供基于 Web 的控制台、多语言 SDK 和 API、\n> 命令行工具以及图形化工具。它与 Amazon S3 API 兼容，允许您快速\n> 访问社区工具和插件。\n\n本指南将介绍如何从 `腾讯云对象存储 (COS) 目录` 加载文档对象。"
      ]
    },
    {
      "cell_type": "code",
      "execution_count": null,
      "id": "85e97267",
      "metadata": {},
      "outputs": [],
      "source": [
        "%pip install --upgrade --quiet  cos-python-sdk-v5"
      ]
    },
    {
      "cell_type": "code",
      "execution_count": 2,
      "id": "2f0cd6a5",
      "metadata": {
        "tags": []
      },
      "outputs": [],
      "source": [
        "from langchain_community.document_loaders import TencentCOSDirectoryLoader\n",
        "from qcloud_cos import CosConfig"
      ]
    },
    {
      "cell_type": "code",
      "execution_count": 3,
      "id": "321cc7f1",
      "metadata": {
        "tags": []
      },
      "outputs": [],
      "source": [
        "conf = CosConfig(\n",
        "    Region=\"your cos region\",\n",
        "    SecretId=\"your cos secret_id\",\n",
        "    SecretKey=\"your cos secret_key\",\n",
        ")\n",
        "loader = TencentCOSDirectoryLoader(conf=conf, bucket=\"you_cos_bucket\")"
      ]
    },
    {
      "cell_type": "code",
      "execution_count": null,
      "id": "4c50d2c7",
      "metadata": {},
      "outputs": [],
      "source": [
        "loader.load()"
      ]
    },
    {
      "cell_type": "markdown",
      "id": "0690c40a",
      "metadata": {},
      "source": [
        "## 指定前缀\n您还可以指定一个前缀以更精细地控制要加载的文件。"
      ]
    },
    {
      "cell_type": "code",
      "execution_count": 5,
      "id": "72d44781",
      "metadata": {},
      "outputs": [],
      "source": [
        "loader = TencentCOSDirectoryLoader(conf=conf, bucket=\"you_cos_bucket\", prefix=\"fake\")"
      ]
    },
    {
      "cell_type": "code",
      "execution_count": null,
      "id": "2d3c32db",
      "metadata": {
        "scrolled": true
      },
      "outputs": [],
      "source": [
        "loader.load()"
      ]
    }
  ],
  "metadata": {
    "kernelspec": {
      "display_name": "Python 3 (ipykernel)",
      "language": "python",
      "name": "python3"
    },
    "language_info": {
      "codemirror_mode": {
        "name": "ipython",
        "version": 3
      },
      "file_extension": ".py",
      "mimetype": "text/x-python",
      "name": "python",
      "nbconvert_exporter": "python",
      "pygments_lexer": "ipython3",
      "version": "3.10.12"
    }
  },
  "nbformat": 4,
  "nbformat_minor": 5
}