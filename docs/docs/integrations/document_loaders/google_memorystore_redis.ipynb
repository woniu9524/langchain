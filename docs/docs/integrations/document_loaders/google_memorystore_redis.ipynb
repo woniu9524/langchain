{
  "cells": [
    {
      "cell_type": "markdown",
      "metadata": {
        "id": "6-0_o3DxsFGi"
      },
      "source": [
        "# Google Memorystore for Redis\n\n> [Google Memorystore for Redis](https://cloud.google.com/memorystore/docs/redis/memorystore-for-redis-overview) 是一个完全托管的服务，由 Redis 内存数据存储提供支持，可用于构建提供亚毫秒级数据访问的应用缓存。通过 Memorystore for Redis 的 Langchain 集成，可以扩展您的数据库应用，构建由 AI 驱动的体验。\n\n本 Notebook 将介绍如何使用 [Memorystore for Redis](https://cloud.google.com/memorystore/docs/redis/memorystore-for-redis-overview) 通过 `MemorystoreDocumentLoader` 和 `MemorystoreDocumentSaver` 来[保存、加载和删除 Langchain 文档](/docs/how_to#document-loaders)。\n\n在 [GitHub](https://github.com/googleapis/langchain-google-memorystore-redis-python/) 上了解更多关于该软件包的信息。\n\n[![在 Colab 中打开](https://colab.research.google.com/assets/colab-badge.svg)](https://colab.research.google.com/github/googleapis/langchain-google-memorystore-redis-python/blob/main/docs/document_loader.ipynb)"
      ]
    },
    {
      "cell_type": "markdown",
      "metadata": {},
      "source": [
        "## 开始之前\n\n要运行此笔记本，您需要执行以下操作：\n\n* [创建 Google Cloud 项目](https://developers.google.com/workspace/guides/create-project)\n* [启用 Memorystore for Redis API](https://console.cloud.google.com/flows/enableapi?apiid=redis.googleapis.com)\n* [创建 Memorystore for Redis 实例](https://cloud.google.com/memorystore/docs/redis/create-instance-console)。确保版本大于或等于 5.0。\n\n在确认此笔记本的运行时环境可以访问数据库后，填写以下值并运行单元格，然后再运行示例脚本。"
      ]
    },
    {
      "cell_type": "code",
      "execution_count": null,
      "metadata": {},
      "outputs": [],
      "source": [
        "# @markdown Please specify an endpoint associated with the instance and a key prefix for demo purpose.\n",
        "ENDPOINT = \"redis://127.0.0.1:6379\"  # @param {type:\"string\"}\n",
        "KEY_PREFIX = \"doc:\"  # @param {type:\"string\"}"
      ]
    },
    {
      "cell_type": "markdown",
      "metadata": {},
      "source": [
        "### 🦜🔗 库安装\n\n集成存在于其自身的 `langchain-google-memorystore-redis` 包中，因此我们需要安装它。"
      ]
    },
    {
      "cell_type": "code",
      "execution_count": null,
      "metadata": {},
      "outputs": [],
      "source": [
        "%pip install -upgrade --quiet langchain-google-memorystore-redis"
      ]
    },
    {
      "cell_type": "markdown",
      "metadata": {},
      "source": [
        "**仅限 Colab**: 取消注释以下单元格以重启内核，或使用按钮重启内核。对于 Vertex AI Workbench，您可以使用顶部的按钮重启终端。"
      ]
    },
    {
      "cell_type": "code",
      "execution_count": null,
      "metadata": {},
      "outputs": [],
      "source": [
        "# # Automatically restart kernel after installs so that your environment can access the new packages\n",
        "# import IPython\n",
        "\n",
        "# app = IPython.Application.instance()\n",
        "# app.kernel.do_shutdown(True)"
      ]
    },
    {
      "cell_type": "markdown",
      "metadata": {},
      "source": [
        "### ☁ 设置您的 Google Cloud 项目\n设置您的 Google Cloud 项目，以便在此 notebook 中利用 Google Cloud 资源。\n\n如果您不知道您的项目 ID，可以尝试以下方法：\n\n* 运行 `gcloud config list`。\n* 运行 `gcloud projects list`。\n* 查看支持页面：[查找项目 ID](https://support.google.com/googleapi/answer/7014113)。"
      ]
    },
    {
      "cell_type": "code",
      "execution_count": null,
      "metadata": {},
      "outputs": [],
      "source": [
        "# @markdown Please fill in the value below with your Google Cloud project ID and then run the cell.\n",
        "\n",
        "PROJECT_ID = \"my-project-id\"  # @param {type:\"string\"}\n",
        "\n",
        "# Set the project id\n",
        "!gcloud config set project {PROJECT_ID}"
      ]
    },
    {
      "cell_type": "markdown",
      "metadata": {},
      "source": [
        "### 🔐 身份验证\n\n使用此笔记本中登录的 IAM 用户身份验证到 Google Cloud，以便访问您的 Google Cloud 项目。\n\n- 如果您正在使用 Colab 运行此笔记本，请使用下面的单元格继续操作。\n- 如果您正在使用 Vertex AI Workbench，请查看[此处](https://github.com/GoogleCloudPlatform/generative-ai/tree/main/setup-env)的设置说明。"
      ]
    },
    {
      "cell_type": "code",
      "execution_count": null,
      "metadata": {},
      "outputs": [],
      "source": [
        "from google.colab import auth\n",
        "\n",
        "auth.authenticate_user()"
      ]
    },
    {
      "cell_type": "markdown",
      "metadata": {
        "id": "2L7kMu__sFGl"
      },
      "source": [
        "## 基本用法"
      ]
    },
    {
      "cell_type": "markdown",
      "metadata": {},
      "source": [
        "### 保存文档\n\n使用 `MemorystoreDocumentSaver.add_documents(<documents>)` 保存 Langchain 文档。要初始化 `MemorystoreDocumentSaver` 类，您需要提供两项内容：\n\n1.  `client` - 一个 `redis.Redis` 客户端对象。\n1.  `key_prefix` - 用于在 Redis 中存储 Documents 的键的前缀。\n\nDocuments 将被存储在具有指定 `key_prefix` 的随机生成的键中。或者，您可以通过在 `add_documents` 方法中指定 `ids` 来指定键的后缀。"
      ]
    },
    {
      "cell_type": "code",
      "execution_count": null,
      "metadata": {},
      "outputs": [],
      "source": [
        "import redis\n",
        "from langchain_core.documents import Document\n",
        "from langchain_google_memorystore_redis import MemorystoreDocumentSaver\n",
        "\n",
        "test_docs = [\n",
        "    Document(\n",
        "        page_content=\"Apple Granny Smith 150 0.99 1\",\n",
        "        metadata={\"fruit_id\": 1},\n",
        "    ),\n",
        "    Document(\n",
        "        page_content=\"Banana Cavendish 200 0.59 0\",\n",
        "        metadata={\"fruit_id\": 2},\n",
        "    ),\n",
        "    Document(\n",
        "        page_content=\"Orange Navel 80 1.29 1\",\n",
        "        metadata={\"fruit_id\": 3},\n",
        "    ),\n",
        "]\n",
        "doc_ids = [f\"{i}\" for i in range(len(test_docs))]\n",
        "\n",
        "redis_client = redis.from_url(ENDPOINT)\n",
        "saver = MemorystoreDocumentSaver(\n",
        "    client=redis_client,\n",
        "    key_prefix=KEY_PREFIX,\n",
        "    content_field=\"page_content\",\n",
        ")\n",
        "saver.add_documents(test_docs, ids=doc_ids)"
      ]
    },
    {
      "cell_type": "markdown",
      "metadata": {
        "id": "A2fT1iEhsFGl"
      },
      "source": [
        "### 加载文档\n\n初始化一个加载器，该加载器将加载 Redis 实例中具有特定前缀的所有文档。\n\n使用 `MemorystoreDocumentLoader.load()` 或 `MemorystoreDocumentLoader.lazy_load()` 加载 Langchain 文档。`lazy_load` 返回一个仅在迭代期间查询数据库的生成器。要初始化 `MemorystoreDocumentLoader` 类，您需要提供：\n\n1. `client` - 一个 `redis.Redis` 客户端对象。\n1. `key_prefix` - 用于在 Redis 中存储文档的键的前缀。"
      ]
    },
    {
      "cell_type": "code",
      "execution_count": null,
      "metadata": {
        "id": "YEDKWR6asFGl"
      },
      "outputs": [],
      "source": [
        "import redis\n",
        "from langchain_google_memorystore_redis import MemorystoreDocumentLoader\n",
        "\n",
        "redis_client = redis.from_url(ENDPOINT)\n",
        "loader = MemorystoreDocumentLoader(\n",
        "    client=redis_client,\n",
        "    key_prefix=KEY_PREFIX,\n",
        "    content_fields=set([\"page_content\"]),\n",
        ")\n",
        "for doc in loader.lazy_load():\n",
        "    print(\"Loaded documents:\", doc)"
      ]
    },
    {
      "cell_type": "markdown",
      "metadata": {},
      "source": [
        "### 删除文档\n\n使用 `MemorystoreDocumentSaver.delete()` 在指定的 Memorystore for Redis 实例中删除具有指定前缀的所有键。如果你知道键的后缀，也可以指定它们。"
      ]
    },
    {
      "cell_type": "code",
      "execution_count": null,
      "metadata": {},
      "outputs": [],
      "source": [
        "docs = loader.load()\n",
        "print(\"Documents before delete:\", docs)\n",
        "\n",
        "saver.delete(ids=[0])\n",
        "print(\"Documents after delete:\", loader.load())\n",
        "\n",
        "saver.delete()\n",
        "print(\"Documents after delete all:\", loader.load())"
      ]
    },
    {
      "cell_type": "markdown",
      "metadata": {},
      "source": [
        "## 高级用法"
      ]
    },
    {
      "cell_type": "markdown",
      "metadata": {
        "id": "02xxvmzTsFGm"
      },
      "source": [
        "### 自定义文档页面内容和元数据\n\n当使用一个以上的 `content` 字段初始化加载器时，加载的文档的 `page_content` 将包含一个 JSON 编码的字符串，其顶层字段等于 `content_fields` 中指定的字段。\n\n如果指定了 `metadata_fields`，加载的文档的 `metadata` 字段将仅包含等于指定 `metadata_fields` 的顶层字段。如果任何元数据字段的值存储为 JSON 编码的字符串，它将在加载到元数据字段之前被解码。"
      ]
    },
    {
      "cell_type": "code",
      "execution_count": null,
      "metadata": {
        "id": "BvS3UFsysFGm"
      },
      "outputs": [],
      "source": [
        "loader = MemorystoreDocumentLoader(\n",
        "    client=redis_client,\n",
        "    key_prefix=KEY_PREFIX,\n",
        "    content_fields=set([\"content_field_1\", \"content_field_2\"]),\n",
        "    metadata_fields=set([\"title\", \"author\"]),\n",
        ")"
      ]
    }
  ],
  "metadata": {
    "colab": {
      "provenance": [
        {
          "file_id": "1kuFhDfyzOdzS1apxQ--1efXB1pJ79yVY",
          "timestamp": 1708033015250
        }
      ]
    },
    "kernelspec": {
      "display_name": "Python 3 (ipykernel)",
      "language": "python",
      "name": "python3"
    },
    "language_info": {
      "codemirror_mode": {
        "name": "ipython",
        "version": 3
      },
      "file_extension": ".py",
      "mimetype": "text/x-python",
      "name": "python",
      "nbconvert_exporter": "python",
      "pygments_lexer": "ipython3",
      "version": "3.11.6"
    }
  },
  "nbformat": 4,
  "nbformat_minor": 0
}