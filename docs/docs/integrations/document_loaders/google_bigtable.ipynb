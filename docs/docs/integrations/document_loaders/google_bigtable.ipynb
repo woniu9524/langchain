{
  "cells": [
    {
      "cell_type": "markdown",
      "metadata": {},
      "source": [
        "# Google Bigtable\n\n> [Bigtable](https://cloud.google.com/bigtable) 是一个键值存储和宽列存储，非常适合快速访问结构化、半结构化或非结构化数据。通过 Langchain 的集成，扩展您的数据库应用程序以构建支持 AI 的体验。\n\n本笔记本将介绍如何使用 `BigtableLoader` 和 `BigtableSaver` 通过 [Bigtable](https://cloud.google.com/bigtable) 来 [保存、加载和删除 langchain 文档](/docs/how_to#document-loaders)。\n\n在 [GitHub](https://github.com/googleapis/langchain-google-bigtable-python/) 上了解有关该软件包的更多信息。\n\n[![在 Colab 中打开](https://colab.research.google.com/assets/colab-badge.svg)](https://colab.research.google.com/github/googleapis/langchain-google-bigtable-python/blob/main/docs/document_loader.ipynb)"
      ]
    },
    {
      "cell_type": "markdown",
      "metadata": {},
      "source": [
        "## 开始之前\n\n要运行此笔记本，您需要执行以下操作：\n\n*   [创建 Google Cloud 项目](https://developers.google.com/workspace/guides/create-project)\n*   [启用 Bigtable API](https://console.cloud.google.com/flows/enableapi?apiid=bigtable.googleapis.com)\n*   [创建 Bigtable 实例](https://cloud.google.com/bigtable/docs/creating-instance)\n*   [创建 Bigtable 表](https://cloud.google.com/bigtable/docs/managing-tables)\n*   [创建 Bigtable 访问凭据](https://developers.google.com/workspace/guides/create-credentials)\n\n在确认笔记本运行时环境中的数据库访问权限后，请填写以下值并运行单元格，然后再运行示例脚本。"
      ]
    },
    {
      "cell_type": "code",
      "execution_count": null,
      "metadata": {},
      "outputs": [],
      "source": [
        "# @markdown Please specify an instance and a table for demo purpose.\n",
        "INSTANCE_ID = \"my_instance\"  # @param {type:\"string\"}\n",
        "TABLE_ID = \"my_table\"  # @param {type:\"string\"}"
      ]
    },
    {
      "cell_type": "markdown",
      "metadata": {},
      "source": [
        "### 🦜🔗 库安装\n\n集成 resides in its own `langchain-google-bigtable` package, 所以我们需要安装它。"
      ]
    },
    {
      "cell_type": "code",
      "execution_count": null,
      "metadata": {},
      "outputs": [],
      "source": [
        "%pip install -upgrade --quiet langchain-google-bigtable"
      ]
    },
    {
      "cell_type": "markdown",
      "metadata": {},
      "source": [
        "**仅限 Colab**: 取消注释下面的单元格以重启内核，或使用按钮重启内核。对于 Vertex AI Workbench，您可以使用顶部的按钮重启终端。"
      ]
    },
    {
      "cell_type": "code",
      "execution_count": null,
      "metadata": {},
      "outputs": [],
      "source": [
        "# # Automatically restart kernel after installs so that your environment can access the new packages\n",
        "# import IPython\n",
        "\n",
        "# app = IPython.Application.instance()\n",
        "# app.kernel.do_shutdown(True)"
      ]
    },
    {
      "cell_type": "markdown",
      "metadata": {},
      "source": [
        "### ☁ 设置您的 Google Cloud 项目\n设置您的 Google Cloud 项目，以便在此 notebook 中利用 Google Cloud 资源。\n\n如果您不知道您的项目 ID，可以尝试以下方法：\n\n* 运行 `gcloud config list`。\n* 运行 `gcloud projects list`。\n* 查看支持页面：[查找项目 ID](https://support.google.com/googleapi/answer/7014113)。"
      ]
    },
    {
      "cell_type": "code",
      "execution_count": null,
      "metadata": {},
      "outputs": [],
      "source": [
        "# @markdown Please fill in the value below with your Google Cloud project ID and then run the cell.\n",
        "\n",
        "PROJECT_ID = \"my-project-id\"  # @param {type:\"string\"}\n",
        "\n",
        "# Set the project id\n",
        "!gcloud config set project {PROJECT_ID}"
      ]
    },
    {
      "cell_type": "markdown",
      "metadata": {},
      "source": [
        "### 🔐 身份验证\n\n使用此 notebook 中登录的 IAM 用户身份验证到 Google Cloud，以便访问您的 Google Cloud 项目。\n\n- 如果您正在使用 Colab 运行此 notebook，请使用下面的单元格并继续。\n- 如果您正在使用 Vertex AI Workbench，请参阅此处 [here](https://github.com/GoogleCloudPlatform/generative-ai/tree/main/setup-env) 的设置说明。"
      ]
    },
    {
      "cell_type": "code",
      "execution_count": null,
      "metadata": {},
      "outputs": [],
      "source": [
        "from google.colab import auth\n",
        "\n",
        "auth.authenticate_user()"
      ]
    },
    {
      "cell_type": "markdown",
      "metadata": {},
      "source": [
        "## 基本用法"
      ]
    },
    {
      "cell_type": "markdown",
      "metadata": {},
      "source": [
        "### 使用 saver\n\n使用 `BigtableSaver.add_documents(<documents>)` 保存 langchain 文档。要初始化 `BigtableSaver` 类，您需要提供两项内容：\n\n1.  `instance_id` - Bigtable 的实例。\n2.  `table_id` - Bigtable 中用于存储 langchain 文档的表名。"
      ]
    },
    {
      "cell_type": "code",
      "execution_count": null,
      "metadata": {},
      "outputs": [],
      "source": [
        "from langchain_core.documents import Document\n",
        "from langchain_google_bigtable import BigtableSaver\n",
        "\n",
        "test_docs = [\n",
        "    Document(\n",
        "        page_content=\"Apple Granny Smith 150 0.99 1\",\n",
        "        metadata={\"fruit_id\": 1},\n",
        "    ),\n",
        "    Document(\n",
        "        page_content=\"Banana Cavendish 200 0.59 0\",\n",
        "        metadata={\"fruit_id\": 2},\n",
        "    ),\n",
        "    Document(\n",
        "        page_content=\"Orange Navel 80 1.29 1\",\n",
        "        metadata={\"fruit_id\": 3},\n",
        "    ),\n",
        "]\n",
        "\n",
        "saver = BigtableSaver(\n",
        "    instance_id=INSTANCE_ID,\n",
        "    table_id=TABLE_ID,\n",
        ")\n",
        "\n",
        "saver.add_documents(test_docs)"
      ]
    },
    {
      "cell_type": "markdown",
      "metadata": {},
      "source": [
        "### 从 Bigtable 查询文档\n有关连接到 Bigtable 表的更多详细信息，请参阅 [Python SDK 文档](https://cloud.google.com/python/docs/reference/bigtable/latest/client)。"
      ]
    },
    {
      "cell_type": "markdown",
      "metadata": {},
      "source": [
        "#### 从表中加载文档\n\n使用 `BigtableLoader.load()` 或 `BigtableLoader.lazy_load()` 加载 langchain 文档。`lazy_load` 返回一个生成器，该生成器仅在迭代期间查询数据库。要初始化 `BigtableLoader` 类，您需要提供：\n\n1.  `instance_id` - Bigtable 的一个实例。\n1.  `table_id` - Bigtable 中用于存储 langchain 文档的表名。"
      ]
    },
    {
      "cell_type": "code",
      "execution_count": null,
      "metadata": {},
      "outputs": [],
      "source": [
        "from langchain_google_bigtable import BigtableLoader\n",
        "\n",
        "loader = BigtableLoader(\n",
        "    instance_id=INSTANCE_ID,\n",
        "    table_id=TABLE_ID,\n",
        ")\n",
        "\n",
        "for doc in loader.lazy_load():\n",
        "    print(doc)\n",
        "    break"
      ]
    },
    {
      "cell_type": "markdown",
      "metadata": {},
      "source": [
        "### 删除文档\n\n使用 `BigtableSaver.delete(<documents>)` 从 Bigtable 表中删除一系列 langchain 文档。"
      ]
    },
    {
      "cell_type": "code",
      "execution_count": null,
      "metadata": {},
      "outputs": [],
      "source": [
        "from langchain_google_bigtable import BigtableSaver\n",
        "\n",
        "docs = loader.load()\n",
        "print(\"Documents before delete: \", docs)\n",
        "\n",
        "onedoc = test_docs[0]\n",
        "saver.delete([onedoc])\n",
        "print(\"Documents after delete: \", loader.load())"
      ]
    },
    {
      "cell_type": "markdown",
      "metadata": {},
      "source": [
        "## 高级用法"
      ]
    },
    {
      "cell_type": "markdown",
      "metadata": {},
      "source": [
        "### 限制返回的行数\n有两种方法可以限制返回的行数：\n\n1. 使用 [filter](https://cloud.google.com/python/docs/reference/bigtable/latest/row-filters)\n2. 使用 [row_set](https://cloud.google.com/python/docs/reference/bigtable/latest/row-set#google.cloud.bigtable.row_set.RowSet)"
      ]
    },
    {
      "cell_type": "code",
      "execution_count": null,
      "metadata": {},
      "outputs": [],
      "source": [
        "import google.cloud.bigtable.row_filters as row_filters\n",
        "\n",
        "filter_loader = BigtableLoader(\n",
        "    INSTANCE_ID, TABLE_ID, filter=row_filters.ColumnQualifierRegexFilter(b\"os_build\")\n",
        ")\n",
        "\n",
        "\n",
        "from google.cloud.bigtable.row_set import RowSet\n",
        "\n",
        "row_set = RowSet()\n",
        "row_set.add_row_range_from_keys(\n",
        "    start_key=\"phone#4c410523#20190501\", end_key=\"phone#4c410523#201906201\"\n",
        ")\n",
        "\n",
        "row_set_loader = BigtableLoader(\n",
        "    INSTANCE_ID,\n",
        "    TABLE_ID,\n",
        "    row_set=row_set,\n",
        ")"
      ]
    },
    {
      "cell_type": "markdown",
      "metadata": {},
      "source": [
        "### 自定义客户端\n默认创建的客户端是默认客户端，仅使用 `admin=True` 选项。要使用非默认客户端，可以将自定义客户端（[custom client](https://cloud.google.com/python/docs/reference/bigtable/latest/client#class-googlecloudbigtableclientclientprojectnone-credentialsnone-readonlyfalse-adminfalse-clientinfonone-clientoptionsnone-adminclientoptionsnone-channelnone)）传递给构造函数。"
      ]
    },
    {
      "cell_type": "code",
      "execution_count": null,
      "metadata": {},
      "outputs": [],
      "source": [
        "from google.cloud import bigtable\n",
        "\n",
        "custom_client_loader = BigtableLoader(\n",
        "    INSTANCE_ID,\n",
        "    TABLE_ID,\n",
        "    client=bigtable.Client(...),\n",
        ")"
      ]
    },
    {
      "cell_type": "markdown",
      "metadata": {},
      "source": [
        "### 自定义内容\nBigtableLoader 假设存在一个名为 `langchain` 的列族，其中包含一个名为 `content` 的列，其值使用 UTF-8 编码。这些默认设置可以按如下方式更改："
      ]
    },
    {
      "cell_type": "code",
      "execution_count": null,
      "metadata": {},
      "outputs": [],
      "source": [
        "from langchain_google_bigtable import Encoding\n",
        "\n",
        "custom_content_loader = BigtableLoader(\n",
        "    INSTANCE_ID,\n",
        "    TABLE_ID,\n",
        "    content_encoding=Encoding.ASCII,\n",
        "    content_column_family=\"my_content_family\",\n",
        "    content_column_name=\"my_content_column_name\",\n",
        ")"
      ]
    },
    {
      "cell_type": "markdown",
      "metadata": {},
      "source": [
        "### 元数据映射\n默认情况下，`Document` 对象上的 `metadata` 映射将包含一个键，即 `rowkey`，其值为行的 rowkey 值。要向该映射添加更多项，请使用 `metadata_mapping`。"
      ]
    },
    {
      "cell_type": "code",
      "execution_count": null,
      "metadata": {},
      "outputs": [],
      "source": [
        "import json\n",
        "\n",
        "from langchain_google_bigtable import MetadataMapping\n",
        "\n",
        "metadata_mapping_loader = BigtableLoader(\n",
        "    INSTANCE_ID,\n",
        "    TABLE_ID,\n",
        "    metadata_mappings=[\n",
        "        MetadataMapping(\n",
        "            column_family=\"my_int_family\",\n",
        "            column_name=\"my_int_column\",\n",
        "            metadata_key=\"key_in_metadata_map\",\n",
        "            encoding=Encoding.INT_BIG_ENDIAN,\n",
        "        ),\n",
        "        MetadataMapping(\n",
        "            column_family=\"my_custom_family\",\n",
        "            column_name=\"my_custom_column\",\n",
        "            metadata_key=\"custom_key\",\n",
        "            encoding=Encoding.CUSTOM,\n",
        "            custom_decoding_func=lambda input: json.loads(input.decode()),\n",
        "            custom_encoding_func=lambda input: str.encode(json.dumps(input)),\n",
        "        ),\n",
        "    ],\n",
        ")"
      ]
    },
    {
      "cell_type": "markdown",
      "metadata": {},
      "source": [
        "### 元数据作为 JSON\n\n如果 Bigtable 中的某个列包含您希望添加到输出文档元数据中的 JSON 字符串，则可以向 BigtableLoader 添加以下参数。请注意，`metadata_as_json_encoding` 的默认值为 UTF-8。"
      ]
    },
    {
      "cell_type": "code",
      "execution_count": null,
      "metadata": {},
      "outputs": [],
      "source": [
        "metadata_as_json_loader = BigtableLoader(\n",
        "    INSTANCE_ID,\n",
        "    TABLE_ID,\n",
        "    metadata_as_json_encoding=Encoding.ASCII,\n",
        "    metadata_as_json_family=\"my_metadata_as_json_family\",\n",
        "    metadata_as_json_name=\"my_metadata_as_json_column_name\",\n",
        ")"
      ]
    },
    {
      "cell_type": "markdown",
      "metadata": {},
      "source": [
        "### 自定义 BigtableSaver\n\n与 BigtableLoader 类似，BigtableSaver 也可以进行自定义。"
      ]
    },
    {
      "cell_type": "code",
      "execution_count": null,
      "metadata": {},
      "outputs": [],
      "source": [
        "saver = BigtableSaver(\n",
        "    INSTANCE_ID,\n",
        "    TABLE_ID,\n",
        "    client=bigtable.Client(...),\n",
        "    content_encoding=Encoding.ASCII,\n",
        "    content_column_family=\"my_content_family\",\n",
        "    content_column_name=\"my_content_column_name\",\n",
        "    metadata_mappings=[\n",
        "        MetadataMapping(\n",
        "            column_family=\"my_int_family\",\n",
        "            column_name=\"my_int_column\",\n",
        "            metadata_key=\"key_in_metadata_map\",\n",
        "            encoding=Encoding.INT_BIG_ENDIAN,\n",
        "        ),\n",
        "        MetadataMapping(\n",
        "            column_family=\"my_custom_family\",\n",
        "            column_name=\"my_custom_column\",\n",
        "            metadata_key=\"custom_key\",\n",
        "            encoding=Encoding.CUSTOM,\n",
        "            custom_decoding_func=lambda input: json.loads(input.decode()),\n",
        "            custom_encoding_func=lambda input: str.encode(json.dumps(input)),\n",
        "        ),\n",
        "    ],\n",
        "    metadata_as_json_encoding=Encoding.ASCII,\n",
        "    metadata_as_json_family=\"my_metadata_as_json_family\",\n",
        "    metadata_as_json_name=\"my_metadata_as_json_column_name\",\n",
        ")"
      ]
    }
  ],
  "metadata": {
    "kernelspec": {
      "display_name": "Python 3 (ipykernel)",
      "language": "python",
      "name": "python3"
    },
    "language_info": {
      "codemirror_mode": {
        "name": "ipython",
        "version": 3
      },
      "file_extension": ".py",
      "mimetype": "text/x-python",
      "name": "python",
      "nbconvert_exporter": "python",
      "pygments_lexer": "ipython3",
      "version": "3.11.5"
    }
  },
  "nbformat": 4,
  "nbformat_minor": 4
}