{
  "cells": [
    {
      "attachments": {},
      "cell_type": "markdown",
      "metadata": {},
      "source": [
        "# Iugu\n\n>[Iugu](https://www.iugu.com/) 是一家巴西的服务和软件即服务（SaaS）公司。它为电子商务网站和移动应用程序提供支付处理软件和应用程序编程接口。\n\n本notebook涵盖了如何将数据从 `Iugu REST API` 加载到可被 LangChain 摄取（ingest）的格式，并提供了向量化（vectorization）的示例用法。"
      ]
    },
    {
      "cell_type": "code",
      "execution_count": null,
      "metadata": {},
      "outputs": [],
      "source": [
        "from langchain.indexes import VectorstoreIndexCreator\n",
        "from langchain_community.document_loaders import IuguLoader"
      ]
    },
    {
      "attachments": {},
      "cell_type": "markdown",
      "metadata": {},
      "source": [
        "Iugu API 需要一个访问令牌，您可以在 Iugu 控制台中找到它。\n\n此文档加载器还需要一个 `resource` 选项来定义您想要加载的数据。\n\n可用的资源如下：\n\n`Documentation` [Documentation](https://dev.iugu.com/reference/metadados)"
      ]
    },
    {
      "cell_type": "code",
      "execution_count": null,
      "metadata": {},
      "outputs": [],
      "source": [
        "iugu_loader = IuguLoader(\"charges\")"
      ]
    },
    {
      "cell_type": "code",
      "execution_count": null,
      "metadata": {},
      "outputs": [],
      "source": [
        "# Create a vectorstore retriever from the loader\n",
        "# see https://python.langchain.com/en/latest/modules/data_connection/getting_started.html for more details\n",
        "\n",
        "index = VectorstoreIndexCreator().from_loaders([iugu_loader])\n",
        "iugu_doc_retriever = index.vectorstore.as_retriever()"
      ]
    }
  ],
  "metadata": {
    "kernelspec": {
      "display_name": "Python 3 (ipykernel)",
      "language": "python",
      "name": "python3"
    },
    "language_info": {
      "codemirror_mode": {
        "name": "ipython",
        "version": 3
      },
      "file_extension": ".py",
      "mimetype": "text/x-python",
      "name": "python",
      "nbconvert_exporter": "python",
      "pygments_lexer": "ipython3",
      "version": "3.9.12"
    }
  },
  "nbformat": 4,
  "nbformat_minor": 4
}