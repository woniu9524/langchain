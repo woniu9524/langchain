{
  "cells": [
    {
      "attachments": {},
      "cell_type": "markdown",
      "metadata": {
        "id": "vm8vn9t8DvC_"
      },
      "source": [
        "# Cassandra"
      ]
    },
    {
      "cell_type": "markdown",
      "metadata": {},
      "source": [
        "[Cassandra](https://cassandra.apache.org/) 是一种 NoSQL、面向行的、高度可扩展且可用性极高的数据库。从 5.0 版本开始，该数据库便内置了[向量搜索功能](https://cassandra.apache.org/doc/trunk/cassandra/vector-search/overview.html)。"
      ]
    },
    {
      "attachments": {},
      "cell_type": "markdown",
      "metadata": {
        "id": "5WjXERXzFEhg"
      },
      "source": [
        "## 概览"
      ]
    },
    {
      "attachments": {},
      "cell_type": "markdown",
      "metadata": {
        "id": "juAmbgoWD17u"
      },
      "source": [
        "Cassandra 文档加载器会从 Cassandra 数据库返回一个 Langchain 文档列表。\n\n你必须提供 CQL 查询或表名来检索文档。\n加载器接受以下参数：\n\n* `table`: (可选) 加载数据的表。\n* `session`: (可选) Cassandra 驱动程序会话。如果未提供，将使用 cassio 解析的会话。\n* `keyspace`: (可选) 表的键空间。如果未提供，将使用 cassio 解析的键空间。\n* `query`: (可选) 用于加载数据的查询。\n* `page_content_mapper`: (可选) 用于将行转换为页面内容的函数。默认是将行转换为 JSON。\n* `metadata_mapper`: (可选) 用于将行转换为元数据字典的函数。\n* `query_parameters`: (可选) 调用 `session.execute` 时使用的查询参数。\n* `query_timeout`: (可选) 调用 `session.execute` 时使用的查询超时。\n* `query_custom_payload`: (可选) 调用 `session.execute` 时使用的查询自定义负载。\n* `query_execution_profile`: (可选) 调用 `session.execute` 时使用的查询执行配置文件。\n* `query_host`: (可选) 调用 `session.execute` 时使用的查询主机。\n* `query_execute_as`: (可选) 调用 `session.execute` 时使用的查询 `execute_as`。"
      ]
    },
    {
      "attachments": {},
      "cell_type": "markdown",
      "metadata": {},
      "source": [
        "## 使用 Document Loader 加载文档"
      ]
    },
    {
      "cell_type": "code",
      "execution_count": null,
      "metadata": {},
      "outputs": [],
      "source": [
        "from langchain_community.document_loaders import CassandraLoader"
      ]
    },
    {
      "cell_type": "markdown",
      "metadata": {
        "collapsed": false,
        "jupyter": {
          "outputs_hidden": false
        }
      },
      "source": [
        "### 从 Cassandra 驱动的 Session 初始化\n\n你需要创建一个 `cassandra.cluster.Session` 对象，具体方法请参考[Cassandra 驱动文档](https://docs.datastax.com/en/developer/python-driver/latest/api/cassandra/cluster/#module-cassandra.cluster)。具体细节会有所不同（例如网络设置和身份验证），但可能类似如下："
      ]
    },
    {
      "cell_type": "code",
      "execution_count": null,
      "metadata": {
        "collapsed": false,
        "jupyter": {
          "outputs_hidden": false
        }
      },
      "outputs": [],
      "source": [
        "from cassandra.cluster import Cluster\n",
        "\n",
        "cluster = Cluster()\n",
        "session = cluster.connect()"
      ]
    },
    {
      "cell_type": "markdown",
      "metadata": {
        "collapsed": false,
        "jupyter": {
          "outputs_hidden": false
        }
      },
      "source": [
        "您需要提供 Cassandra 实例中现有 keyspace 的名称："
      ]
    },
    {
      "cell_type": "code",
      "execution_count": null,
      "metadata": {
        "collapsed": false,
        "jupyter": {
          "outputs_hidden": false
        }
      },
      "outputs": [],
      "source": [
        "CASSANDRA_KEYSPACE = input(\"CASSANDRA_KEYSPACE = \")"
      ]
    },
    {
      "cell_type": "markdown",
      "metadata": {
        "collapsed": false,
        "jupyter": {
          "outputs_hidden": false
        }
      },
      "source": [
        "创建文档加载器："
      ]
    },
    {
      "cell_type": "code",
      "execution_count": 16,
      "metadata": {
        "ExecuteTime": {
          "end_time": "2024-01-19T15:47:25.893037Z",
          "start_time": "2024-01-19T15:47:25.889398Z"
        }
      },
      "outputs": [],
      "source": [
        "loader = CassandraLoader(\n",
        "    table=\"movie_reviews\",\n",
        "    session=session,\n",
        "    keyspace=CASSANDRA_KEYSPACE,\n",
        ")"
      ]
    },
    {
      "cell_type": "code",
      "execution_count": 17,
      "metadata": {
        "ExecuteTime": {
          "end_time": "2024-01-19T15:47:26.399472Z",
          "start_time": "2024-01-19T15:47:26.389145Z"
        },
        "collapsed": false,
        "jupyter": {
          "outputs_hidden": false
        }
      },
      "outputs": [],
      "source": [
        "docs = loader.load()"
      ]
    },
    {
      "cell_type": "code",
      "execution_count": 19,
      "metadata": {
        "ExecuteTime": {
          "end_time": "2024-01-19T15:47:33.287783Z",
          "start_time": "2024-01-19T15:47:33.277862Z"
        }
      },
      "outputs": [
        {
          "data": {
            "text/plain": [
              "Document(page_content='Row(_id=\\'659bdffa16cbc4586b11a423\\', title=\\'Dangerous Men\\', reviewtext=\\'\"Dangerous Men,\"  the picture\\\\\\'s production notes inform, took 26 years to reach the big screen. After having seen it, I wonder: What was the rush?\\')', metadata={'table': 'movie_reviews', 'keyspace': 'default_keyspace'})"
            ]
          },
          "execution_count": 19,
          "metadata": {},
          "output_type": "execute_result"
        }
      ],
      "source": [
        "docs[0]"
      ]
    },
    {
      "cell_type": "markdown",
      "metadata": {
        "collapsed": false,
        "jupyter": {
          "outputs_hidden": false
        }
      },
      "source": [
        "### 从 cassio 初始化\n\n也可以使用 cassio 来配置 session 和 keyspace。"
      ]
    },
    {
      "cell_type": "code",
      "execution_count": null,
      "metadata": {
        "collapsed": false,
        "jupyter": {
          "outputs_hidden": false
        }
      },
      "outputs": [],
      "source": [
        "import cassio\n",
        "\n",
        "cassio.init(contact_points=\"127.0.0.1\", keyspace=CASSANDRA_KEYSPACE)\n",
        "\n",
        "loader = CassandraLoader(\n",
        "    table=\"movie_reviews\",\n",
        ")\n",
        "\n",
        "docs = loader.load()"
      ]
    },
    {
      "cell_type": "markdown",
      "metadata": {},
      "source": [
        "#### 归属声明\n\n> Apache Cassandra、Cassandra 和 Apache 是 Apache Software Foundation 在美国和/或其他国家的注册商标或商标。"
      ]
    }
  ],
  "metadata": {
    "colab": {
      "collapsed_sections": [
        "5WjXERXzFEhg"
      ],
      "provenance": []
    },
    "kernelspec": {
      "display_name": "Python 3 (ipykernel)",
      "language": "python",
      "name": "python3"
    },
    "language_info": {
      "codemirror_mode": {
        "name": "ipython",
        "version": 3
      },
      "file_extension": ".py",
      "mimetype": "text/x-python",
      "name": "python",
      "nbconvert_exporter": "python",
      "pygments_lexer": "ipython3",
      "version": "3.9.17"
    }
  },
  "nbformat": 4,
  "nbformat_minor": 4
}