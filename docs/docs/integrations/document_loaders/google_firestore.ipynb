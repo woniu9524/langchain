{
  "cells": [
    {
      "cell_type": "markdown",
      "metadata": {},
      "source": [
        "# Google Firestore (Native 模式)\n\n> [Firestore](https://cloud.google.com/firestore) 是一款无服务器文档导向数据库，可以根据任何需求进行扩展。利用 Firestore 的 Langchain 集成，扩展您的数据库应用程序以构建支持 AI 的体验。\n\n本 Notebook 将介绍如何使用 `FirestoreLoader` 和 `FirestoreSaver` 将 [Firestore](https://cloud.google.com/firestore) 用于 [保存、加载和删除 langchain 文档](/docs/how_to#document-loaders)。\n\n在 [GitHub](https://github.com/googleapis/langchain-google-firestore-python/) 上了解有关此软件包的更多信息。\n\n[![在 Colab 中打开](https://colab.research.google.com/assets/colab-badge.svg)](https://colab.research.google.com/github/googleapis/langchain-google-firestore-python/blob/main/docs/document_loader.ipynb)"
      ]
    },
    {
      "cell_type": "markdown",
      "metadata": {},
      "source": [
        "## 开始之前\n\n要运行此笔记本，您需要执行以下操作：\n\n* [创建 Google Cloud 项目](https://developers.google.com/workspace/guides/create-project)\n* [启用 Firestore API](https://console.cloud.google.com/flows/enableapi?apiid=firestore.googleapis.com)\n* [创建 Firestore 数据库](https://cloud.google.com/firestore/docs/manage-databases)\n\n在笔记本的运行时环境中确认数据库访问权限后，请填写以下值并运行单元格，然后再运行示例脚本。"
      ]
    },
    {
      "cell_type": "code",
      "execution_count": null,
      "metadata": {},
      "outputs": [],
      "source": [
        "# @markdown Please specify a source for demo purpose.\n",
        "SOURCE = \"test\"  # @param {type:\"Query\"|\"CollectionGroup\"|\"DocumentReference\"|\"string\"}"
      ]
    },
    {
      "cell_type": "markdown",
      "metadata": {},
      "source": [
        "### 🦜🔗 库安装\n\n集成位于其自有的 `langchain-google-firestore` 包中，所以我们需要安装它。"
      ]
    },
    {
      "cell_type": "code",
      "execution_count": null,
      "metadata": {
        "tags": []
      },
      "outputs": [],
      "source": [
        "%pip install --upgrade --quiet langchain-google-firestore"
      ]
    },
    {
      "cell_type": "markdown",
      "metadata": {},
      "source": [
        "**Colab 专属**: 取消注释下面的代码单元格以重启内核，或使用按钮重启内核。对于 Vertex AI Workbench，您可以使用顶部的按钮重启终端。"
      ]
    },
    {
      "cell_type": "code",
      "execution_count": null,
      "metadata": {},
      "outputs": [],
      "source": [
        "# # Automatically restart kernel after installs so that your environment can access the new packages\n",
        "# import IPython\n",
        "\n",
        "# app = IPython.Application.instance()\n",
        "# app.kernel.do_shutdown(True)"
      ]
    },
    {
      "cell_type": "markdown",
      "metadata": {},
      "source": [
        "### ☁ 设置您的 Google Cloud 项目\n设置您的 Google Cloud 项目，以便您可以在此笔记本中使用 Google Cloud 资源。\n\n如果您不知道您的项目 ID，可以尝试以下方法：\n\n* 运行 `gcloud config list`。\n* 运行 `gcloud projects list`。\n* 请参阅支持页面：[查找项目 ID](https://support.google.com/googleapi/answer/7014113)。"
      ]
    },
    {
      "cell_type": "code",
      "execution_count": null,
      "metadata": {},
      "outputs": [],
      "source": [
        "# @markdown Please fill in the value below with your Google Cloud project ID and then run the cell.\n",
        "\n",
        "PROJECT_ID = \"my-project-id\"  # @param {type:\"string\"}\n",
        "\n",
        "# Set the project id\n",
        "!gcloud config set project {PROJECT_ID}"
      ]
    },
    {
      "cell_type": "markdown",
      "metadata": {},
      "source": [
        "### 🔐 身份验证\n\n通过笔记本中的登录 IAM 用户验证到 Google Cloud，以便访问你的 Google Cloud 项目。\n\n- 如果你正在使用 Colab 运行此笔记本，请使用下面的代码单元格并继续。\n- 如果你正在使用 Vertex AI Workbench，请在此处查看设置说明：[https://github.com/GoogleCloudPlatform/generative-ai/tree/main/setup-env](https://github.com/GoogleCloudPlatform/generative-ai/tree/main/setup-env)。"
      ]
    },
    {
      "cell_type": "code",
      "execution_count": null,
      "metadata": {},
      "outputs": [],
      "source": [
        "from google.colab import auth\n",
        "\n",
        "auth.authenticate_user()"
      ]
    },
    {
      "cell_type": "markdown",
      "metadata": {},
      "source": [
        "## 基本用法"
      ]
    },
    {
      "cell_type": "markdown",
      "metadata": {},
      "source": [
        "### 保存文档\n\n`FirestoreSaver` 可以将 Documents 存储到 Firestore 中。默认情况下，它会尝试从元数据中提取 Document 引用。\n\n使用 `FirestoreSaver.upsert_documents(<documents>)` 保存 Langchain 文档。"
      ]
    },
    {
      "cell_type": "code",
      "execution_count": null,
      "metadata": {},
      "outputs": [],
      "source": [
        "from langchain_core.documents import Document\n",
        "from langchain_google_firestore import FirestoreSaver\n",
        "\n",
        "saver = FirestoreSaver()\n",
        "\n",
        "data = [Document(page_content=\"Hello, World!\")]\n",
        "\n",
        "saver.upsert_documents(data)"
      ]
    },
    {
      "cell_type": "markdown",
      "metadata": {},
      "source": [
        "#### 保存无引用的文档\n\n如果指定了 collection，文档将使用自动生成的 id 进行存储。"
      ]
    },
    {
      "cell_type": "code",
      "execution_count": null,
      "metadata": {},
      "outputs": [],
      "source": [
        "saver = FirestoreSaver(\"Collection\")\n",
        "\n",
        "saver.upsert_documents(data)"
      ]
    },
    {
      "cell_type": "markdown",
      "metadata": {},
      "source": [
        "#### 将文档与其它参考资料一同保存"
      ]
    },
    {
      "cell_type": "code",
      "execution_count": null,
      "metadata": {},
      "outputs": [],
      "source": [
        "doc_ids = [\"AnotherCollection/doc_id\", \"foo/bar\"]\n",
        "saver = FirestoreSaver()\n",
        "\n",
        "saver.upsert_documents(documents=data, document_ids=doc_ids)"
      ]
    },
    {
      "cell_type": "markdown",
      "metadata": {},
      "source": [
        "### 从集合或子集合加载"
      ]
    },
    {
      "cell_type": "markdown",
      "metadata": {},
      "source": [
        "使用 `FirestoreLoader.load()` 或 `Firestore.lazy_load()` 加载 langchain 文档。`lazy_load` 返回一个在迭代期间才查询数据库的生成器。要初始化 `FirestoreLoader` 类，你需要提供：\n\n1. `source` - 一个 `Query`、`CollectionGroup`、`DocumentReference` 实例，或者一个 Firestore 集合的单斜杠 `\\` 分隔路径。"
      ]
    },
    {
      "cell_type": "code",
      "execution_count": null,
      "metadata": {},
      "outputs": [],
      "source": [
        "from langchain_google_firestore import FirestoreLoader\n",
        "\n",
        "loader_collection = FirestoreLoader(\"Collection\")\n",
        "loader_subcollection = FirestoreLoader(\"Collection/doc/SubCollection\")\n",
        "\n",
        "\n",
        "data_collection = loader_collection.load()\n",
        "data_subcollection = loader_subcollection.load()"
      ]
    },
    {
      "cell_type": "markdown",
      "metadata": {},
      "source": [
        "### 加载单个文档"
      ]
    },
    {
      "cell_type": "code",
      "execution_count": null,
      "metadata": {},
      "outputs": [],
      "source": [
        "from google.cloud import firestore\n",
        "\n",
        "client = firestore.Client()\n",
        "doc_ref = client.collection(\"foo\").document(\"bar\")\n",
        "\n",
        "loader_document = FirestoreLoader(doc_ref)\n",
        "\n",
        "data = loader_document.load()"
      ]
    },
    {
      "cell_type": "markdown",
      "metadata": {},
      "source": [
        "### 从 CollectionGroup 或 Query 加载"
      ]
    },
    {
      "cell_type": "code",
      "execution_count": null,
      "metadata": {},
      "outputs": [],
      "source": [
        "from google.cloud.firestore import CollectionGroup, FieldFilter, Query\n",
        "\n",
        "col_ref = client.collection(\"col_group\")\n",
        "collection_group = CollectionGroup(col_ref)\n",
        "\n",
        "loader_group = FirestoreLoader(collection_group)\n",
        "\n",
        "col_ref = client.collection(\"collection\")\n",
        "query = col_ref.where(filter=FieldFilter(\"region\", \"==\", \"west_coast\"))\n",
        "\n",
        "loader_query = FirestoreLoader(query)"
      ]
    },
    {
      "cell_type": "markdown",
      "metadata": {},
      "source": [
        "### 删除文档\n\n使用 `FirestoreSaver.delete_documents(<documents>)` 从 Firestore 集合中删除一组 langchain 文档。\n\n如果提供了文档 ID，文档将被忽略。"
      ]
    },
    {
      "cell_type": "code",
      "execution_count": null,
      "metadata": {},
      "outputs": [],
      "source": [
        "saver = FirestoreSaver()\n",
        "\n",
        "saver.delete_documents(data)\n",
        "\n",
        "# The Documents will be ignored and only the document ids will be used.\n",
        "saver.delete_documents(data, doc_ids)"
      ]
    },
    {
      "cell_type": "markdown",
      "metadata": {},
      "source": [
        "## 高级用法"
      ]
    },
    {
      "cell_type": "markdown",
      "metadata": {},
      "source": [
        "### 使用自定义文档页面内容和元数据加载文档\n\n`page_content_fields` 和 `metadata_fields` 的参数将指定写入 LangChain Document 的 `page_content` 和 `metadata` 的 Firestore Document 字段。"
      ]
    },
    {
      "cell_type": "code",
      "execution_count": null,
      "metadata": {},
      "outputs": [],
      "source": [
        "loader = FirestoreLoader(\n",
        "    source=\"foo/bar/subcol\",\n",
        "    page_content_fields=[\"data_field\"],\n",
        "    metadata_fields=[\"metadata_field\"],\n",
        ")\n",
        "\n",
        "data = loader.load()"
      ]
    },
    {
      "cell_type": "markdown",
      "metadata": {},
      "source": [
        "#### 定制页面内容格式\n\n当 `page_content` 只包含一个字段时，信息将仅显示该字段的值。否则，`page_content` 将采用 JSON 格式。"
      ]
    },
    {
      "cell_type": "markdown",
      "metadata": {},
      "source": [
        "### 自定义连接和身份验证"
      ]
    },
    {
      "cell_type": "code",
      "execution_count": null,
      "metadata": {},
      "outputs": [],
      "source": [
        "from google.auth import compute_engine\n",
        "from google.cloud.firestore import Client\n",
        "\n",
        "client = Client(database=\"non-default-db\", creds=compute_engine.Credentials())\n",
        "loader = FirestoreLoader(\n",
        "    source=\"foo\",\n",
        "    client=client,\n",
        ")"
      ]
    }
  ],
  "metadata": {
    "kernelspec": {
      "display_name": "Python 3 (ipykernel)",
      "language": "python",
      "name": "python3"
    },
    "language_info": {
      "codemirror_mode": {
        "name": "ipython",
        "version": 3
      },
      "file_extension": ".py",
      "mimetype": "text/x-python",
      "name": "python",
      "nbconvert_exporter": "python",
      "pygments_lexer": "ipython3",
      "version": "3.10.6"
    }
  },
  "nbformat": 4,
  "nbformat_minor": 4
}