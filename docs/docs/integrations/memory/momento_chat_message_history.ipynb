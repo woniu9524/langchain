{
  "cells": [
    {
      "cell_type": "markdown",
      "id": "91c6a7ef",
      "metadata": {},
      "source": [
        "# Momento 缓存\n\n>[Momento Cache](https://docs.momentohq.com/) 是世界上第一个真正无服务器的缓存服务。它提供即时弹性、从零扩展能力和极快的性能。\n\n本 Notebook 将介绍如何使用 `MomentoChatMessageHistory` 类，通过 [Momento Cache](https://www.gomomento.com/services/cache) 来存储聊天消息历史记录。有关如何设置 Momento 的更多详细信息，请参阅 Momento [文档](https://docs.momentohq.com/getting-started)。\n\n请注意，默认情况下，如果具有给定名称的缓存不存在，我们将创建一个缓存。\n\n您需要获取 Momento API 密钥才能使用此类。您可以将其作为 `api_key` 命名参数传递给 momento.CacheClient（如果您想直接实例化它），或者传递给 `MomentoChatMessageHistory.from_client_params`，也可以将其设置为环境变量 `MOMENTO_API_KEY`。"
      ]
    },
    {
      "cell_type": "code",
      "execution_count": 5,
      "id": "d15e3302",
      "metadata": {},
      "outputs": [],
      "source": [
        "from datetime import timedelta\n",
        "\n",
        "from langchain_community.chat_message_histories import MomentoChatMessageHistory\n",
        "\n",
        "session_id = \"foo\"\n",
        "cache_name = \"langchain\"\n",
        "ttl = timedelta(days=1)\n",
        "history = MomentoChatMessageHistory.from_client_params(\n",
        "    session_id,\n",
        "    cache_name,\n",
        "    ttl,\n",
        ")\n",
        "\n",
        "history.add_user_message(\"hi!\")\n",
        "\n",
        "history.add_ai_message(\"whats up?\")"
      ]
    },
    {
      "cell_type": "code",
      "execution_count": 6,
      "id": "64fc465e",
      "metadata": {},
      "outputs": [
        {
          "data": {
            "text/plain": [
              "[HumanMessage(content='hi!', additional_kwargs={}, example=False),\n",
              " AIMessage(content='whats up?', additional_kwargs={}, example=False)]"
            ]
          },
          "execution_count": 6,
          "metadata": {},
          "output_type": "execute_result"
        }
      ],
      "source": [
        "history.messages"
      ]
    }
  ],
  "metadata": {
    "kernelspec": {
      "display_name": "Python 3 (ipykernel)",
      "language": "python",
      "name": "python3"
    },
    "language_info": {
      "codemirror_mode": {
        "name": "ipython",
        "version": 3
      },
      "file_extension": ".py",
      "mimetype": "text/x-python",
      "name": "python",
      "nbconvert_exporter": "python",
      "pygments_lexer": "ipython3",
      "version": "3.10.12"
    }
  },
  "nbformat": 4,
  "nbformat_minor": 5
}