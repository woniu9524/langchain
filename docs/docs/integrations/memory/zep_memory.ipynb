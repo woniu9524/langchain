{
  "cells": [
    {
      "cell_type": "markdown",
      "metadata": {
        "collapsed": false
      },
      "source": [
        "# Zep 开源记忆\n> 回忆、理解并提取聊天记录中的数据。赋能个性化 AI 体验。\n\n>[Zep](https://www.getzep.com) 是 AI 助手应用的长期记忆服务。\n> 通过 Zep，您可以为 AI 助手提供回忆过去对话的能力，无论对话多么久远，\n> 同时还能减少幻觉、延迟和成本。\n\n> 对 Zep Cloud 感兴趣？请参阅 [Zep Cloud 安装指南](https://help.getzep.com/sdks) 和 [Zep Cloud 记忆示例](https://help.getzep.com/langchain/examples/messagehistory-example)\n\n## 开源安装和设置\n\n> Zep 开源项目：[https://github.com/getzep/zep](https://github.com/getzep/zep)\n>\n> Zep 开源文档：[https://docs.getzep.com/](https://docs.getzep.com/)\n\n## 示例\n\n本笔记本演示了如何使用 [Zep](https://www.getzep.com/) 作为聊天机器人的记忆。\nZep 的 React Agent 聊天消息历史 - LLM 应用的长期记忆存储。\n\n我们将演示：\n\n1. 向 Zep 添加对话历史。\n2. 运行一个 Agent 并自动将消息添加到存储中。\n3. 查看增强后的消息。\n4. 对话历史进行向量搜索。"
      ]
    },
    {
      "cell_type": "code",
      "execution_count": 1,
      "metadata": {
        "ExecuteTime": {
          "end_time": "2024-05-10T03:25:26.191166Z",
          "start_time": "2024-05-10T03:25:25.641520Z"
        }
      },
      "outputs": [],
      "source": [
        "from uuid import uuid4\n",
        "\n",
        "from langchain.agents import AgentType, initialize_agent\n",
        "from langchain_community.memory.zep_memory import ZepMemory\n",
        "from langchain_community.retrievers import ZepRetriever\n",
        "from langchain_community.utilities import WikipediaAPIWrapper\n",
        "from langchain_core.messages import AIMessage, HumanMessage\n",
        "from langchain_core.tools import Tool\n",
        "from langchain_openai import OpenAI\n",
        "\n",
        "# Set this to your Zep server URL\n",
        "ZEP_API_URL = \"http://localhost:8000\"\n",
        "\n",
        "session_id = str(uuid4())  # This is a unique identifier for the user"
      ]
    },
    {
      "cell_type": "code",
      "execution_count": 1,
      "metadata": {
        "ExecuteTime": {
          "end_time": "2023-07-09T19:23:14.378234Z",
          "start_time": "2023-07-09T19:20:49.005041Z"
        }
      },
      "outputs": [],
      "source": [
        "# Provide your OpenAI key\n",
        "import getpass\n",
        "\n",
        "openai_key = getpass.getpass()"
      ]
    },
    {
      "cell_type": "code",
      "execution_count": 3,
      "metadata": {
        "ExecuteTime": {
          "end_time": "2023-07-09T19:23:16.329934Z",
          "start_time": "2023-07-09T19:23:14.345580Z"
        }
      },
      "outputs": [],
      "source": [
        "# Provide your Zep API key. Note that this is optional. See https://docs.getzep.com/deployment/auth\n",
        "\n",
        "zep_api_key = getpass.getpass()"
      ]
    },
    {
      "cell_type": "markdown",
      "metadata": {},
      "source": [
        "### 初始化 Zep 聊天消息历史记录类并初始化 Agent"
      ]
    },
    {
      "cell_type": "code",
      "execution_count": 4,
      "metadata": {
        "ExecuteTime": {
          "end_time": "2023-07-09T19:23:16.528212Z",
          "start_time": "2023-07-09T19:23:16.279045Z"
        }
      },
      "outputs": [],
      "source": [
        "search = WikipediaAPIWrapper()\n",
        "tools = [\n",
        "    Tool(\n",
        "        name=\"Search\",\n",
        "        func=search.run,\n",
        "        description=(\n",
        "            \"useful for when you need to search online for answers. You should ask\"\n",
        "            \" targeted questions\"\n",
        "        ),\n",
        "    ),\n",
        "]\n",
        "\n",
        "# Set up Zep Chat History\n",
        "memory = ZepMemory(\n",
        "    session_id=session_id,\n",
        "    url=ZEP_API_URL,\n",
        "    api_key=zep_api_key,\n",
        "    memory_key=\"chat_history\",\n",
        ")\n",
        "\n",
        "# Initialize the agent\n",
        "llm = OpenAI(temperature=0, openai_api_key=openai_key)\n",
        "agent_chain = initialize_agent(\n",
        "    tools,\n",
        "    llm,\n",
        "    agent=AgentType.CONVERSATIONAL_REACT_DESCRIPTION,\n",
        "    verbose=True,\n",
        "    memory=memory,\n",
        ")"
      ]
    },
    {
      "cell_type": "markdown",
      "metadata": {},
      "source": [
        "### 添加一些历史数据"
      ]
    },
    {
      "cell_type": "code",
      "execution_count": 5,
      "metadata": {
        "ExecuteTime": {
          "end_time": "2023-07-09T19:23:16.659484Z",
          "start_time": "2023-07-09T19:23:16.532090Z"
        }
      },
      "outputs": [],
      "source": [
        "# Preload some messages into the memory. The default message window is 12 messages. We want to push beyond this to demonstrate auto-summarization.\n",
        "test_history = [\n",
        "    {\"role\": \"human\", \"content\": \"Who was Octavia Butler?\"},\n",
        "    {\n",
        "        \"role\": \"ai\",\n",
        "        \"content\": (\n",
        "            \"Octavia Estelle Butler (June 22, 1947 – February 24, 2006) was an American\"\n",
        "            \" science fiction author.\"\n",
        "        ),\n",
        "    },\n",
        "    {\"role\": \"human\", \"content\": \"Which books of hers were made into movies?\"},\n",
        "    {\n",
        "        \"role\": \"ai\",\n",
        "        \"content\": (\n",
        "            \"The most well-known adaptation of Octavia Butler's work is the FX series\"\n",
        "            \" Kindred, based on her novel of the same name.\"\n",
        "        ),\n",
        "    },\n",
        "    {\"role\": \"human\", \"content\": \"Who were her contemporaries?\"},\n",
        "    {\n",
        "        \"role\": \"ai\",\n",
        "        \"content\": (\n",
        "            \"Octavia Butler's contemporaries included Ursula K. Le Guin, Samuel R.\"\n",
        "            \" Delany, and Joanna Russ.\"\n",
        "        ),\n",
        "    },\n",
        "    {\"role\": \"human\", \"content\": \"What awards did she win?\"},\n",
        "    {\n",
        "        \"role\": \"ai\",\n",
        "        \"content\": (\n",
        "            \"Octavia Butler won the Hugo Award, the Nebula Award, and the MacArthur\"\n",
        "            \" Fellowship.\"\n",
        "        ),\n",
        "    },\n",
        "    {\n",
        "        \"role\": \"human\",\n",
        "        \"content\": \"Which other women sci-fi writers might I want to read?\",\n",
        "    },\n",
        "    {\n",
        "        \"role\": \"ai\",\n",
        "        \"content\": \"You might want to read Ursula K. Le Guin or Joanna Russ.\",\n",
        "    },\n",
        "    {\n",
        "        \"role\": \"human\",\n",
        "        \"content\": (\n",
        "            \"Write a short synopsis of Butler's book, Parable of the Sower. What is it\"\n",
        "            \" about?\"\n",
        "        ),\n",
        "    },\n",
        "    {\n",
        "        \"role\": \"ai\",\n",
        "        \"content\": (\n",
        "            \"Parable of the Sower is a science fiction novel by Octavia Butler,\"\n",
        "            \" published in 1993. It follows the story of Lauren Olamina, a young woman\"\n",
        "            \" living in a dystopian future where society has collapsed due to\"\n",
        "            \" environmental disasters, poverty, and violence.\"\n",
        "        ),\n",
        "        \"metadata\": {\"foo\": \"bar\"},\n",
        "    },\n",
        "]\n",
        "\n",
        "for msg in test_history:\n",
        "    memory.chat_memory.add_message(\n",
        "        (\n",
        "            HumanMessage(content=msg[\"content\"])\n",
        "            if msg[\"role\"] == \"human\"\n",
        "            else AIMessage(content=msg[\"content\"])\n",
        "        ),\n",
        "        metadata=msg.get(\"metadata\", {}),\n",
        "    )"
      ]
    },
    {
      "cell_type": "markdown",
      "metadata": {},
      "source": [
        "### 运行代理\n\n这样做会将输入和响应自动添加到 Zep 内存中。"
      ]
    },
    {
      "cell_type": "code",
      "execution_count": 6,
      "metadata": {
        "ExecuteTime": {
          "end_time": "2023-07-09T19:23:19.348822Z",
          "start_time": "2023-07-09T19:23:16.660130Z"
        }
      },
      "outputs": [
        {
          "name": "stdout",
          "output_type": "stream",
          "text": [
            "\n",
            "\n",
            "\u001b[1m> Entering new  chain...\u001b[0m\n",
            "\u001b[32;1m\u001b[1;3mThought: Do I need to use a tool? No\n",
            "AI: Parable of the Sower is a prescient novel that speaks to the challenges facing contemporary society, such as climate change, inequality, and violence. It is a cautionary tale that warns of the dangers of unchecked greed and the need for individuals to take responsibility for their own lives and the lives of those around them.\u001b[0m\n",
            "\n",
            "\u001b[1m> Finished chain.\u001b[0m\n"
          ]
        },
        {
          "data": {
            "text/plain": [
              "'Parable of the Sower is a prescient novel that speaks to the challenges facing contemporary society, such as climate change, inequality, and violence. It is a cautionary tale that warns of the dangers of unchecked greed and the need for individuals to take responsibility for their own lives and the lives of those around them.'"
            ]
          },
          "execution_count": 6,
          "metadata": {},
          "output_type": "execute_result"
        }
      ],
      "source": [
        "agent_chain.run(\n",
        "    input=\"What is the book's relevance to the challenges facing contemporary society?\",\n",
        ")"
      ]
    },
    {
      "cell_type": "markdown",
      "metadata": {},
      "source": [
        "### 查看 Zep 内存\n\n请注意摘要，以及历史记录已通过 token 计数、UUID 和时间戳进行了丰富。\n\n摘要会偏向于最近的消息。"
      ]
    },
    {
      "cell_type": "code",
      "execution_count": 9,
      "metadata": {
        "ExecuteTime": {
          "end_time": "2023-07-09T19:23:41.042254Z",
          "start_time": "2023-07-09T19:23:41.016815Z"
        }
      },
      "outputs": [
        {
          "name": "stdout",
          "output_type": "stream",
          "text": [
            "The human inquires about Octavia Butler. The AI identifies her as an American science fiction author. The human then asks which books of hers were made into movies. The AI responds by mentioning the FX series Kindred, based on her novel of the same name. The human then asks about her contemporaries, and the AI lists Ursula K. Le Guin, Samuel R. Delany, and Joanna Russ.\n",
            "\n",
            "\n",
            "system :\n",
            " {'content': 'The human inquires about Octavia Butler. The AI identifies her as an American science fiction author. The human then asks which books of hers were made into movies. The AI responds by mentioning the FX series Kindred, based on her novel of the same name. The human then asks about her contemporaries, and the AI lists Ursula K. Le Guin, Samuel R. Delany, and Joanna Russ.', 'additional_kwargs': {}}\n",
            "human :\n",
            " {'content': 'What awards did she win?', 'additional_kwargs': {'uuid': '6b733f0b-6778-49ae-b3ec-4e077c039f31', 'created_at': '2023-07-09T19:23:16.611232Z', 'token_count': 8, 'metadata': {'system': {'entities': [], 'intent': 'The subject is inquiring about the awards that someone, whose identity is not specified, has won.'}}}, 'example': False}\n",
            "ai :\n",
            " {'content': 'Octavia Butler won the Hugo Award, the Nebula Award, and the MacArthur Fellowship.', 'additional_kwargs': {'uuid': '2f6d80c6-3c08-4fd4-8d4e-7bbee341ac90', 'created_at': '2023-07-09T19:23:16.618947Z', 'token_count': 21, 'metadata': {'system': {'entities': [{'Label': 'PERSON', 'Matches': [{'End': 14, 'Start': 0, 'Text': 'Octavia Butler'}], 'Name': 'Octavia Butler'}, {'Label': 'WORK_OF_ART', 'Matches': [{'End': 33, 'Start': 19, 'Text': 'the Hugo Award'}], 'Name': 'the Hugo Award'}, {'Label': 'EVENT', 'Matches': [{'End': 81, 'Start': 57, 'Text': 'the MacArthur Fellowship'}], 'Name': 'the MacArthur Fellowship'}], 'intent': 'The subject is stating that Octavia Butler received the Hugo Award, the Nebula Award, and the MacArthur Fellowship.'}}}, 'example': False}\n",
            "human :\n",
            " {'content': 'Which other women sci-fi writers might I want to read?', 'additional_kwargs': {'uuid': 'ccdcc901-ea39-4981-862f-6fe22ab9289b', 'created_at': '2023-07-09T19:23:16.62678Z', 'token_count': 14, 'metadata': {'system': {'entities': [], 'intent': 'The subject is seeking recommendations for additional women science fiction writers to explore.'}}}, 'example': False}\n",
            "ai :\n",
            " {'content': 'You might want to read Ursula K. Le Guin or Joanna Russ.', 'additional_kwargs': {'uuid': '7977099a-0c62-4c98-bfff-465bbab6c9c3', 'created_at': '2023-07-09T19:23:16.631721Z', 'token_count': 18, 'metadata': {'system': {'entities': [{'Label': 'ORG', 'Matches': [{'End': 40, 'Start': 23, 'Text': 'Ursula K. Le Guin'}], 'Name': 'Ursula K. Le Guin'}, {'Label': 'PERSON', 'Matches': [{'End': 55, 'Start': 44, 'Text': 'Joanna Russ'}], 'Name': 'Joanna Russ'}], 'intent': 'The subject is suggesting that the person should consider reading the works of Ursula K. Le Guin or Joanna Russ.'}}}, 'example': False}\n",
            "human :\n",
            " {'content': \"Write a short synopsis of Butler's book, Parable of the Sower. What is it about?\", 'additional_kwargs': {'uuid': 'e439b7e6-286a-4278-a8cb-dc260fa2e089', 'created_at': '2023-07-09T19:23:16.63623Z', 'token_count': 23, 'metadata': {'system': {'entities': [{'Label': 'ORG', 'Matches': [{'End': 32, 'Start': 26, 'Text': 'Butler'}], 'Name': 'Butler'}, {'Label': 'WORK_OF_ART', 'Matches': [{'End': 61, 'Start': 41, 'Text': 'Parable of the Sower'}], 'Name': 'Parable of the Sower'}], 'intent': 'The subject is requesting a brief summary or explanation of the book \"Parable of the Sower\" by Butler.'}}}, 'example': False}\n",
            "ai :\n",
            " {'content': 'Parable of the Sower is a science fiction novel by Octavia Butler, published in 1993. It follows the story of Lauren Olamina, a young woman living in a dystopian future where society has collapsed due to environmental disasters, poverty, and violence.', 'additional_kwargs': {'uuid': '6760489b-19c9-41aa-8b45-fae6cb1d7ee6', 'created_at': '2023-07-09T19:23:16.647524Z', 'token_count': 56, 'metadata': {'foo': 'bar', 'system': {'entities': [{'Label': 'GPE', 'Matches': [{'End': 20, 'Start': 15, 'Text': 'Sower'}], 'Name': 'Sower'}, {'Label': 'PERSON', 'Matches': [{'End': 65, 'Start': 51, 'Text': 'Octavia Butler'}], 'Name': 'Octavia Butler'}, {'Label': 'DATE', 'Matches': [{'End': 84, 'Start': 80, 'Text': '1993'}], 'Name': '1993'}, {'Label': 'PERSON', 'Matches': [{'End': 124, 'Start': 110, 'Text': 'Lauren Olamina'}], 'Name': 'Lauren Olamina'}], 'intent': 'The subject is providing information about the novel \"Parable of the Sower\" by Octavia Butler, including its genre, publication date, and a brief summary of the plot.'}}}, 'example': False}\n",
            "human :\n",
            " {'content': \"What is the book's relevance to the challenges facing contemporary society?\", 'additional_kwargs': {'uuid': '7dbbbb93-492b-4739-800f-cad2b6e0e764', 'created_at': '2023-07-09T19:23:19.315182Z', 'token_count': 15, 'metadata': {'system': {'entities': [], 'intent': 'The subject is asking about the relevance of a book to the challenges currently faced by society.'}}}, 'example': False}\n",
            "ai :\n",
            " {'content': 'Parable of the Sower is a prescient novel that speaks to the challenges facing contemporary society, such as climate change, inequality, and violence. It is a cautionary tale that warns of the dangers of unchecked greed and the need for individuals to take responsibility for their own lives and the lives of those around them.', 'additional_kwargs': {'uuid': '3e14ac8f-b7c1-4360-958b-9f3eae1f784f', 'created_at': '2023-07-09T19:23:19.332517Z', 'token_count': 66, 'metadata': {'system': {'entities': [{'Label': 'GPE', 'Matches': [{'End': 20, 'Start': 15, 'Text': 'Sower'}], 'Name': 'Sower'}], 'intent': 'The subject is providing an analysis and evaluation of the novel \"Parable of the Sower\" and highlighting its relevance to contemporary societal challenges.'}}}, 'example': False}\n"
          ]
        }
      ],
      "source": [
        "def print_messages(messages):\n",
        "    for m in messages:\n",
        "        print(m.type, \":\\n\", m.dict())\n",
        "\n",
        "\n",
        "print(memory.chat_memory.zep_summary)\n",
        "print(\"\\n\")\n",
        "print_messages(memory.chat_memory.messages)"
      ]
    },
    {
      "cell_type": "markdown",
      "metadata": {},
      "source": [
        "### 在 Zep 内存上进行向量搜索\n\nZep 通过 `ZepRetriever` 提供对历史对话内存的原生向量搜索。\n\n你可以将 `ZepRetriever` 与支持传入 Langchain `Retriever` 对象的链条一起使用。"
      ]
    },
    {
      "cell_type": "code",
      "execution_count": 11,
      "metadata": {
        "ExecuteTime": {
          "end_time": "2023-07-09T19:24:30.781893Z",
          "start_time": "2023-07-09T19:24:30.595650Z"
        }
      },
      "outputs": [
        {
          "name": "stdout",
          "output_type": "stream",
          "text": [
            "{'uuid': 'ccdcc901-ea39-4981-862f-6fe22ab9289b', 'created_at': '2023-07-09T19:23:16.62678Z', 'role': 'human', 'content': 'Which other women sci-fi writers might I want to read?', 'metadata': {'system': {'entities': [], 'intent': 'The subject is seeking recommendations for additional women science fiction writers to explore.'}}, 'token_count': 14} 0.9119619869747062\n",
            "{'uuid': '7977099a-0c62-4c98-bfff-465bbab6c9c3', 'created_at': '2023-07-09T19:23:16.631721Z', 'role': 'ai', 'content': 'You might want to read Ursula K. Le Guin or Joanna Russ.', 'metadata': {'system': {'entities': [{'Label': 'ORG', 'Matches': [{'End': 40, 'Start': 23, 'Text': 'Ursula K. Le Guin'}], 'Name': 'Ursula K. Le Guin'}, {'Label': 'PERSON', 'Matches': [{'End': 55, 'Start': 44, 'Text': 'Joanna Russ'}], 'Name': 'Joanna Russ'}], 'intent': 'The subject is suggesting that the person should consider reading the works of Ursula K. Le Guin or Joanna Russ.'}}, 'token_count': 18} 0.8534346954749745\n",
            "{'uuid': 'b05e2eb5-c103-4973-9458-928726f08655', 'created_at': '2023-07-09T19:23:16.603098Z', 'role': 'ai', 'content': \"Octavia Butler's contemporaries included Ursula K. Le Guin, Samuel R. Delany, and Joanna Russ.\", 'metadata': {'system': {'entities': [{'Label': 'PERSON', 'Matches': [{'End': 16, 'Start': 0, 'Text': \"Octavia Butler's\"}], 'Name': \"Octavia Butler's\"}, {'Label': 'ORG', 'Matches': [{'End': 58, 'Start': 41, 'Text': 'Ursula K. Le Guin'}], 'Name': 'Ursula K. Le Guin'}, {'Label': 'PERSON', 'Matches': [{'End': 76, 'Start': 60, 'Text': 'Samuel R. Delany'}], 'Name': 'Samuel R. Delany'}, {'Label': 'PERSON', 'Matches': [{'End': 93, 'Start': 82, 'Text': 'Joanna Russ'}], 'Name': 'Joanna Russ'}], 'intent': \"The subject is stating that Octavia Butler's contemporaries included Ursula K. Le Guin, Samuel R. Delany, and Joanna Russ.\"}}, 'token_count': 27} 0.8523831524040919\n",
            "{'uuid': 'e346f02b-f854-435d-b6ba-fb394a416b9b', 'created_at': '2023-07-09T19:23:16.556587Z', 'role': 'human', 'content': 'Who was Octavia Butler?', 'metadata': {'system': {'entities': [{'Label': 'PERSON', 'Matches': [{'End': 22, 'Start': 8, 'Text': 'Octavia Butler'}], 'Name': 'Octavia Butler'}], 'intent': 'The subject is asking for information about the identity or background of Octavia Butler.'}}, 'token_count': 8} 0.8236355436055457\n",
            "{'uuid': '42ff41d2-c63a-4d5b-b19b-d9a87105cfc3', 'created_at': '2023-07-09T19:23:16.578022Z', 'role': 'ai', 'content': 'Octavia Estelle Butler (June 22, 1947 – February 24, 2006) was an American science fiction author.', 'metadata': {'system': {'entities': [{'Label': 'PERSON', 'Matches': [{'End': 22, 'Start': 0, 'Text': 'Octavia Estelle Butler'}], 'Name': 'Octavia Estelle Butler'}, {'Label': 'DATE', 'Matches': [{'End': 37, 'Start': 24, 'Text': 'June 22, 1947'}], 'Name': 'June 22, 1947'}, {'Label': 'DATE', 'Matches': [{'End': 57, 'Start': 40, 'Text': 'February 24, 2006'}], 'Name': 'February 24, 2006'}, {'Label': 'NORP', 'Matches': [{'End': 74, 'Start': 66, 'Text': 'American'}], 'Name': 'American'}], 'intent': 'The subject is providing information about Octavia Estelle Butler, who was an American science fiction author.'}}, 'token_count': 31} 0.8206687242257686\n",
            "{'uuid': '2f6d80c6-3c08-4fd4-8d4e-7bbee341ac90', 'created_at': '2023-07-09T19:23:16.618947Z', 'role': 'ai', 'content': 'Octavia Butler won the Hugo Award, the Nebula Award, and the MacArthur Fellowship.', 'metadata': {'system': {'entities': [{'Label': 'PERSON', 'Matches': [{'End': 14, 'Start': 0, 'Text': 'Octavia Butler'}], 'Name': 'Octavia Butler'}, {'Label': 'WORK_OF_ART', 'Matches': [{'End': 33, 'Start': 19, 'Text': 'the Hugo Award'}], 'Name': 'the Hugo Award'}, {'Label': 'EVENT', 'Matches': [{'End': 81, 'Start': 57, 'Text': 'the MacArthur Fellowship'}], 'Name': 'the MacArthur Fellowship'}], 'intent': 'The subject is stating that Octavia Butler received the Hugo Award, the Nebula Award, and the MacArthur Fellowship.'}}, 'token_count': 21} 0.8199012397683285\n"
          ]
        }
      ],
      "source": [
        "retriever = ZepRetriever(\n",
        "    session_id=session_id,\n",
        "    url=ZEP_API_URL,\n",
        "    api_key=zep_api_key,\n",
        ")\n",
        "\n",
        "search_results = memory.chat_memory.search(\"who are some famous women sci-fi authors?\")\n",
        "for r in search_results:\n",
        "    if r.dist > 0.8:  # Only print results with similarity of 0.8 or higher\n",
        "        print(r.message, r.dist)"
      ]
    },
    {
      "cell_type": "code",
      "execution_count": null,
      "metadata": {
        "collapsed": false
      },
      "outputs": [],
      "source": []
    }
  ],
  "metadata": {
    "kernelspec": {
      "display_name": "Python 3 (ipykernel)",
      "language": "python",
      "name": "python3"
    },
    "language_info": {
      "codemirror_mode": {
        "name": "ipython",
        "version": 3
      },
      "file_extension": ".py",
      "mimetype": "text/x-python",
      "name": "python",
      "nbconvert_exporter": "python",
      "pygments_lexer": "ipython3",
      "version": "3.10.12"
    }
  },
  "nbformat": 4,
  "nbformat_minor": 4
}