{
  "cells": [
    {
      "cell_type": "markdown",
      "id": "a283d2fd-e26e-4811-a486-d3cf0ecf6749",
      "metadata": {},
      "source": [
        "# Couchbase\n> Couchbase 是一个屡获殊荣的分布式 NoSQL 云数据库，为您的所有云、移动、AI 和边缘计算应用程序提供无与伦比的多功能性、性能、可伸缩性和财务价值。Couchbase 通过为开发人员提供编码辅助和为其应用程序提供向量搜索来拥抱 AI。\n\n本笔记本将介绍如何使用 `CouchbaseChatMessageHistory` 类将聊天消息历史记录存储在 Couchbase 集群中。"
      ]
    },
    {
      "cell_type": "markdown",
      "id": "ff868a6c-3e17-4c3d-8d32-67b01f4d7bcc",
      "metadata": {},
      "source": [
        "## 设置 Couchbase 集群\n要运行此演示，您需要一个 Couchbase 集群。\n\n您可以同时使用 [Couchbase Capella](https://www.couchbase.com/products/capella/) 和您自管理的 Couchbase Server。"
      ]
    },
    {
      "cell_type": "markdown",
      "id": "41fa85e7-6968-45e4-a445-de305d80f332",
      "metadata": {},
      "source": [
        "## 安装依赖\n`CouchbaseChatMessageHistory` 位于 `langchain-couchbase` 包中。"
      ]
    },
    {
      "cell_type": "code",
      "execution_count": 1,
      "id": "b744ca05-b8c6-458c-91df-f50ca2c20b3c",
      "metadata": {},
      "outputs": [
        {
          "name": "stdout",
          "output_type": "stream",
          "text": [
            "Note: you may need to restart the kernel to use updated packages.\n"
          ]
        }
      ],
      "source": [
        "%pip install --upgrade --quiet langchain-couchbase"
      ]
    },
    {
      "cell_type": "markdown",
      "id": "41f29205-6452-493b-ba18-8a3b006bcca4",
      "metadata": {},
      "source": [
        "## 创建 Couchbase 连接对象\n我们首先创建到 Couchbase 集群的连接，然后将该集群对象传递给 Vector Store。\n\n这里我们使用用户名和密码进行连接。您也可以使用其他任何支持的方式连接到您的集群。\n\n有关连接到 Couchbase 集群的更多信息，请参阅 [Python SDK 文档](https://docs.couchbase.com/python-sdk/current/hello-world/start-using-sdk.html#connect)。"
      ]
    },
    {
      "cell_type": "code",
      "execution_count": 2,
      "id": "f394908e-f5fe-408a-84d7-b97fdebcfa26",
      "metadata": {},
      "outputs": [],
      "source": [
        "COUCHBASE_CONNECTION_STRING = (\n",
        "    \"couchbase://localhost\"  # or \"couchbases://localhost\" if using TLS\n",
        ")\n",
        "DB_USERNAME = \"Administrator\"\n",
        "DB_PASSWORD = \"Password\""
      ]
    },
    {
      "cell_type": "code",
      "execution_count": 3,
      "id": "ad4dce21-d80c-465a-b709-fd366ba5ce35",
      "metadata": {},
      "outputs": [],
      "source": [
        "from datetime import timedelta\n",
        "\n",
        "from couchbase.auth import PasswordAuthenticator\n",
        "from couchbase.cluster import Cluster\n",
        "from couchbase.options import ClusterOptions\n",
        "\n",
        "auth = PasswordAuthenticator(DB_USERNAME, DB_PASSWORD)\n",
        "options = ClusterOptions(auth)\n",
        "cluster = Cluster(COUCHBASE_CONNECTION_STRING, options)\n",
        "\n",
        "# Wait until the cluster is ready for use.\n",
        "cluster.wait_until_ready(timedelta(seconds=5))"
      ]
    },
    {
      "cell_type": "markdown",
      "id": "e3d0210c-e2e6-437a-86f3-7397a1899fef",
      "metadata": {},
      "source": [
        "我们现在将在您的 Couchbase 集群中设置您想要用于存储消息历史记录的 bucket、scope 和 collection 名称。\n\n请注意，在存储消息历史记录之前，bucket、scope 和 collection 需要已经存在。"
      ]
    },
    {
      "cell_type": "code",
      "execution_count": 4,
      "id": "e8c7f846-a5c4-4465-a40e-4a9a23ac71bd",
      "metadata": {},
      "outputs": [],
      "source": [
        "BUCKET_NAME = \"langchain-testing\"\n",
        "SCOPE_NAME = \"_default\"\n",
        "COLLECTION_NAME = \"conversational_cache\""
      ]
    },
    {
      "cell_type": "markdown",
      "id": "283959e1-6af7-4768-9211-5b0facc6ef65",
      "metadata": {},
      "source": [
        "## 使用方法\n为了存储消息，您需要以下内容：\n- Couchbase Cluster 对象：与 Couchbase 集群的有效连接\n- bucket_name：集群中用于存储聊天消息历史的存储桶\n- scope_name：存储桶中用于存储消息历史的范围\n- collection_name：范围中用于存储消息历史的集合\n- session_id：会话的唯一标识符\n\n您还可以配置以下可选项目：\n- session_id_key：在聊天消息文档中用于存储 `session_id` 的字段\n- message_key：在聊天消息文档中用于存储消息内容的字段\n- create_index：用于指定是否需要在集合上创建索引。默认情况下，会在文档的 `message_key` 和 `session_id_key` 上创建索引\n- ttl：用于指定文档的生存时间（以 `timedelta` 表示），之后它们将自动从存储中删除。"
      ]
    },
    {
      "cell_type": "code",
      "execution_count": 5,
      "id": "43c3b2d5-aae2-44a9-9e9f-f10adf054cfa",
      "metadata": {},
      "outputs": [],
      "source": [
        "from langchain_couchbase.chat_message_histories import CouchbaseChatMessageHistory\n",
        "\n",
        "message_history = CouchbaseChatMessageHistory(\n",
        "    cluster=cluster,\n",
        "    bucket_name=BUCKET_NAME,\n",
        "    scope_name=SCOPE_NAME,\n",
        "    collection_name=COLLECTION_NAME,\n",
        "    session_id=\"test-session\",\n",
        ")\n",
        "\n",
        "message_history.add_user_message(\"hi!\")\n",
        "\n",
        "message_history.add_ai_message(\"how are you doing?\")"
      ]
    },
    {
      "cell_type": "code",
      "execution_count": 6,
      "id": "e7e348ef-79e9-481c-aeef-969ae03dea6a",
      "metadata": {},
      "outputs": [
        {
          "data": {
            "text/plain": [
              "[HumanMessage(content='hi!'), AIMessage(content='how are you doing?')]"
            ]
          },
          "execution_count": 6,
          "metadata": {},
          "output_type": "execute_result"
        }
      ],
      "source": [
        "message_history.messages"
      ]
    },
    {
      "cell_type": "markdown",
      "id": "b993fe69-4462-4cb4-ad0a-eb31a1a4d7d9",
      "metadata": {},
      "source": [
        "## 指定聊天消息的生存时间（TTL）\n通过在初始化聊天消息历史记录存储时指定 `ttl` 参数，可以自动在指定的未来时间点删除已存储的消息。"
      ]
    },
    {
      "cell_type": "code",
      "execution_count": 7,
      "id": "d32d9302-de97-4319-a484-c83530bab508",
      "metadata": {},
      "outputs": [],
      "source": [
        "from langchain_couchbase.chat_message_histories import CouchbaseChatMessageHistory\n",
        "\n",
        "message_history = CouchbaseChatMessageHistory(\n",
        "    cluster=cluster,\n",
        "    bucket_name=BUCKET_NAME,\n",
        "    scope_name=SCOPE_NAME,\n",
        "    collection_name=COLLECTION_NAME,\n",
        "    session_id=\"test-session\",\n",
        "    ttl=timedelta(hours=24),\n",
        ")"
      ]
    },
    {
      "cell_type": "markdown",
      "id": "c8b942a7-93fa-4cd9-8414-d047135c2733",
      "metadata": {},
      "source": [
        "## 链式调用\n聊天记录类可以与 [LCEL 可运行对象](https://python.langchain.com/docs/how_to/message_history/) 结合使用"
      ]
    },
    {
      "cell_type": "code",
      "execution_count": 8,
      "id": "8a9f0d91-d1d6-481d-8137-ea11229f485a",
      "metadata": {},
      "outputs": [],
      "source": [
        "import getpass\n",
        "import os\n",
        "\n",
        "from langchain_core.prompts import ChatPromptTemplate, MessagesPlaceholder\n",
        "from langchain_core.runnables.history import RunnableWithMessageHistory\n",
        "from langchain_openai import ChatOpenAI\n",
        "\n",
        "os.environ[\"OPENAI_API_KEY\"] = getpass.getpass()"
      ]
    },
    {
      "cell_type": "code",
      "execution_count": 9,
      "id": "946d45aa-5a61-49ae-816b-1c3949c56d9a",
      "metadata": {},
      "outputs": [],
      "source": [
        "prompt = ChatPromptTemplate.from_messages(\n",
        "    [\n",
        "        (\"system\", \"You are a helpful assistant.\"),\n",
        "        MessagesPlaceholder(variable_name=\"history\"),\n",
        "        (\"human\", \"{question}\"),\n",
        "    ]\n",
        ")\n",
        "\n",
        "# Create the LCEL runnable\n",
        "chain = prompt | ChatOpenAI()"
      ]
    },
    {
      "cell_type": "code",
      "execution_count": 10,
      "id": "20dfd838-b549-42ed-b3ba-ac005f7e024c",
      "metadata": {},
      "outputs": [],
      "source": [
        "chain_with_history = RunnableWithMessageHistory(\n",
        "    chain,\n",
        "    lambda session_id: CouchbaseChatMessageHistory(\n",
        "        cluster=cluster,\n",
        "        bucket_name=BUCKET_NAME,\n",
        "        scope_name=SCOPE_NAME,\n",
        "        collection_name=COLLECTION_NAME,\n",
        "        session_id=session_id,\n",
        "    ),\n",
        "    input_messages_key=\"question\",\n",
        "    history_messages_key=\"history\",\n",
        ")"
      ]
    },
    {
      "cell_type": "code",
      "execution_count": 11,
      "id": "17bd09f4-896d-433d-bb9a-369a06e7aa8a",
      "metadata": {},
      "outputs": [],
      "source": [
        "# This is where we configure the session id\n",
        "config = {\"configurable\": {\"session_id\": \"testing\"}}"
      ]
    },
    {
      "cell_type": "code",
      "execution_count": 12,
      "id": "4bda1096-2fc2-40d7-a046-0d5d8e3a8f75",
      "metadata": {},
      "outputs": [
        {
          "data": {
            "text/plain": [
              "AIMessage(content='Hello, Bob! How can I assist you today?', additional_kwargs={'refusal': None}, response_metadata={'token_usage': {'completion_tokens': 11, 'prompt_tokens': 22, 'total_tokens': 33}, 'model_name': 'gpt-3.5-turbo-0125', 'system_fingerprint': None, 'finish_reason': 'stop', 'logprobs': None}, id='run-62e54e3d-db70-429d-9ee0-e5e8eb2489a1-0', usage_metadata={'input_tokens': 22, 'output_tokens': 11, 'total_tokens': 33})"
            ]
          },
          "execution_count": 12,
          "metadata": {},
          "output_type": "execute_result"
        }
      ],
      "source": [
        "chain_with_history.invoke({\"question\": \"Hi! I'm bob\"}, config=config)"
      ]
    },
    {
      "cell_type": "code",
      "execution_count": 13,
      "id": "1cfb31da-51bb-4c5f-909a-b7118b0ae08d",
      "metadata": {},
      "outputs": [
        {
          "data": {
            "text/plain": [
              "AIMessage(content='Your name is Bob.', additional_kwargs={'refusal': None}, response_metadata={'token_usage': {'completion_tokens': 5, 'prompt_tokens': 44, 'total_tokens': 49}, 'model_name': 'gpt-3.5-turbo-0125', 'system_fingerprint': None, 'finish_reason': 'stop', 'logprobs': None}, id='run-d84a570a-45f3-4931-814a-078761170bca-0', usage_metadata={'input_tokens': 44, 'output_tokens': 5, 'total_tokens': 49})"
            ]
          },
          "execution_count": 13,
          "metadata": {},
          "output_type": "execute_result"
        }
      ],
      "source": [
        "chain_with_history.invoke({\"question\": \"Whats my name\"}, config=config)"
      ]
    }
  ],
  "metadata": {
    "kernelspec": {
      "display_name": "Python 3 (ipykernel)",
      "language": "python",
      "name": "python3"
    },
    "language_info": {
      "codemirror_mode": {
        "name": "ipython",
        "version": 3
      },
      "file_extension": ".py",
      "mimetype": "text/x-python",
      "name": "python",
      "nbconvert_exporter": "python",
      "pygments_lexer": "ipython3",
      "version": "3.10.13"
    }
  },
  "nbformat": 4,
  "nbformat_minor": 5
}