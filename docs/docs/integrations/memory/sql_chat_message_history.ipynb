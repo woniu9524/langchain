{
  "cells": [
    {
      "cell_type": "markdown",
      "id": "f22eab3f84cbeb37",
      "metadata": {},
      "source": [
        "# SQL (SQLAlchemy)\n\n>[Structured Query Language (SQL)](https://en.wikipedia.org/wiki/SQL) 是一种用于编程的领域特定语言，旨在管理关系数据库管理系统 (RDBMS) 中存储的数据，或用于关系数据流管理系统 (RDSMS) 中的流处理。它在处理结构化数据方面特别有用，即包含实体和变量之间关系的数据。\n\n>[SQLAlchemy](https://github.com/sqlalchemy/sqlalchemy) 是一个开源的 `SQL` 工具包和对象关系映射器 (ORM)，适用于 Python 编程语言，遵循 MIT 协议发布。\n\n本笔记本将介绍 `SQLChatMessageHistory` 类，该类允许将聊天记录存储在 `SQLAlchemy` 支持的任何数据库中。\n\n请注意，要将其用于 `SQLite` 以外的数据库，您需要安装相应的数据库驱动程序。"
      ]
    },
    {
      "cell_type": "markdown",
      "id": "da400c79-a360-43e2-be60-401fd02b2819",
      "metadata": {},
      "source": [
        "## 设置\n\n集成位于 `langchain-community` 包中，因此我们需要安装它。我们还需要安装 `SQLAlchemy` 包。\n\n```bash\npip install -U langchain-community SQLAlchemy langchain-openai\n```"
      ]
    },
    {
      "cell_type": "markdown",
      "id": "70ed8354-ce96-46b5-a580-4cb7aac5c3d0",
      "metadata": {},
      "source": [
        "以下是翻译后的内容：\n\n在 LangSmith 上设置（可选，但推荐）以获得一流的可观测性。"
      ]
    },
    {
      "cell_type": "code",
      "execution_count": null,
      "id": "0976204d-c681-4288-bfe5-a550e0340f35",
      "metadata": {},
      "outputs": [],
      "source": [
        "# os.environ[\"LANGSMITH_TRACING\"] = \"true\"\n",
        "# os.environ[\"LANGSMITH_API_KEY\"] = getpass.getpass()"
      ]
    },
    {
      "cell_type": "markdown",
      "id": "f8f2830ee9ca1e01",
      "metadata": {},
      "source": [
        "## 使用方法\n\n要使用存储，您只需要提供两样东西：\n\n1. Session Id - 会话的唯一标识符，例如用户名、邮箱、聊天 ID 等。\n2. Connection string - 指定数据库连接的字符串。它将传递给 SQLAlchemy 的 create_engine 函数。"
      ]
    },
    {
      "cell_type": "code",
      "execution_count": 1,
      "id": "4576e914a866fb40",
      "metadata": {
        "ExecuteTime": {
          "end_time": "2023-08-28T10:04:38.077748Z",
          "start_time": "2023-08-28T10:04:36.105894Z"
        },
        "collapsed": false,
        "jupyter": {
          "outputs_hidden": false
        }
      },
      "outputs": [],
      "source": [
        "from langchain_community.chat_message_histories import SQLChatMessageHistory\n",
        "\n",
        "chat_message_history = SQLChatMessageHistory(\n",
        "    session_id=\"test_session\", connection_string=\"sqlite:///sqlite.db\"\n",
        ")\n",
        "\n",
        "chat_message_history.add_user_message(\"Hello\")\n",
        "chat_message_history.add_ai_message(\"Hi\")"
      ]
    },
    {
      "cell_type": "code",
      "execution_count": 2,
      "id": "b476688cbb32ba90",
      "metadata": {
        "ExecuteTime": {
          "end_time": "2023-08-28T10:04:38.929396Z",
          "start_time": "2023-08-28T10:04:38.915727Z"
        },
        "collapsed": false,
        "jupyter": {
          "outputs_hidden": false
        }
      },
      "outputs": [
        {
          "data": {
            "text/plain": [
              "[HumanMessage(content='Hello'), AIMessage(content='Hi')]"
            ]
          },
          "execution_count": 2,
          "metadata": {},
          "output_type": "execute_result"
        }
      ],
      "source": [
        "chat_message_history.messages"
      ]
    },
    {
      "cell_type": "markdown",
      "id": "2e5337719d5614fd",
      "metadata": {},
      "source": [
        "## 链式调用\n\n我们可以轻松地将此消息历史类与 [LCEL Runnables](/docs/how_to/message_history) 结合使用。\n\n为此，我们需要使用 OpenAI，因此需要安装它。"
      ]
    },
    {
      "cell_type": "code",
      "execution_count": 3,
      "id": "6558418b-0ece-4d01-9661-56d562d78f7a",
      "metadata": {},
      "outputs": [],
      "source": [
        "from langchain_core.prompts import ChatPromptTemplate, MessagesPlaceholder\n",
        "from langchain_core.runnables.history import RunnableWithMessageHistory\n",
        "from langchain_openai import ChatOpenAI"
      ]
    },
    {
      "cell_type": "code",
      "execution_count": 4,
      "id": "82149122-61d3-490d-9bdb-bb98606e8ba1",
      "metadata": {},
      "outputs": [],
      "source": [
        "prompt = ChatPromptTemplate.from_messages(\n",
        "    [\n",
        "        (\"system\", \"You are a helpful assistant.\"),\n",
        "        MessagesPlaceholder(variable_name=\"history\"),\n",
        "        (\"human\", \"{question}\"),\n",
        "    ]\n",
        ")\n",
        "\n",
        "chain = prompt | ChatOpenAI()"
      ]
    },
    {
      "cell_type": "code",
      "execution_count": 5,
      "id": "2df90853-b67c-490f-b7f8-b69d69270b9c",
      "metadata": {},
      "outputs": [],
      "source": [
        "chain_with_history = RunnableWithMessageHistory(\n",
        "    chain,\n",
        "    lambda session_id: SQLChatMessageHistory(\n",
        "        session_id=session_id, connection_string=\"sqlite:///sqlite.db\"\n",
        "    ),\n",
        "    input_messages_key=\"question\",\n",
        "    history_messages_key=\"history\",\n",
        ")"
      ]
    },
    {
      "cell_type": "code",
      "execution_count": 8,
      "id": "0ce596b8-3b78-48fd-9f92-46dccbbfd58b",
      "metadata": {},
      "outputs": [],
      "source": [
        "# This is where we configure the session id\n",
        "config = {\"configurable\": {\"session_id\": \"<SESSION_ID>\"}}"
      ]
    },
    {
      "cell_type": "code",
      "execution_count": 9,
      "id": "38e1423b-ba86-4496-9151-25932fab1a8b",
      "metadata": {},
      "outputs": [
        {
          "data": {
            "text/plain": [
              "AIMessage(content='Hello Bob! How can I assist you today?')"
            ]
          },
          "execution_count": 9,
          "metadata": {},
          "output_type": "execute_result"
        }
      ],
      "source": [
        "chain_with_history.invoke({\"question\": \"Hi! I'm bob\"}, config=config)"
      ]
    },
    {
      "cell_type": "code",
      "execution_count": 10,
      "id": "2ee4ee62-a216-4fb1-bf33-57476a84cf16",
      "metadata": {},
      "outputs": [
        {
          "data": {
            "text/plain": [
              "AIMessage(content='Your name is Bob! Is there anything specific you would like assistance with, Bob?')"
            ]
          },
          "execution_count": 10,
          "metadata": {},
          "output_type": "execute_result"
        }
      ],
      "source": [
        "chain_with_history.invoke({\"question\": \"Whats my name\"}, config=config)"
      ]
    }
  ],
  "metadata": {
    "kernelspec": {
      "display_name": "Python 3 (ipykernel)",
      "language": "python",
      "name": "python3"
    },
    "language_info": {
      "codemirror_mode": {
        "name": "ipython",
        "version": 3
      },
      "file_extension": ".py",
      "mimetype": "text/x-python",
      "name": "python",
      "nbconvert_exporter": "python",
      "pygments_lexer": "ipython3",
      "version": "3.10.12"
    }
  },
  "nbformat": 4,
  "nbformat_minor": 5
}