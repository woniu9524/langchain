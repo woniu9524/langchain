{
  "cells": [
    {
      "cell_type": "markdown",
      "id": "683953b3",
      "metadata": {
        "id": "683953b3"
      },
      "source": [
        "# Elasticsearch\n\n>[Elasticsearch](https://www.elastic.co/elasticsearch/) 是一个分布式、RESTful 的搜索和分析引擎，能够同时执行向量搜索和词汇搜索。它构建在 Apache Lucene 库之上。\n\n本笔记本展示了如何将聊天消息历史功能与 `Elasticsearch` 一同使用。"
      ]
    },
    {
      "cell_type": "markdown",
      "id": "3c7720c3",
      "metadata": {},
      "source": [
        "## 设置 Elasticsearch\n\n设置 Elasticsearch 实例主要有两种方式：\n\n1. **Elastic Cloud。** Elastic Cloud 是一项托管式 Elasticsearch 服务。在此进行 [免费试用](https://cloud.elastic.co/registration?storm=langchain-notebook) 注册。\n\n2. **本地 Elasticsearch 安装。** 通过本地运行来开始使用 Elasticsearch。最简单的方法是使用官方的 Elasticsearch Docker镜像。有关更多信息，请参阅 [Elasticsearch Docker 文档](https://www.elastic.co/guide/en/elasticsearch/reference/current/docker.html)。"
      ]
    },
    {
      "cell_type": "markdown",
      "id": "cdf1d2b7",
      "metadata": {},
      "source": [
        "## 安装依赖项"
      ]
    },
    {
      "cell_type": "code",
      "execution_count": null,
      "id": "e5bbffe2",
      "metadata": {},
      "outputs": [],
      "source": [
        "%pip install --upgrade --quiet  elasticsearch langchain langchain-community"
      ]
    },
    {
      "cell_type": "markdown",
      "id": "c46c216c",
      "metadata": {},
      "source": [
        "## Authentication\n\n### 如何获取默认的“elastic”用户的密码\n\n要获取 Elastic Cloud 默认的“elastic”用户的密码：\n1. 登录 [Elastic Cloud 控制台](https://cloud.elastic.co)\n2. 前往“Security” > “Users”\n3. 找到“elastic”用户并点击“Edit”\n4. 点击“Reset password”\n5. 按照提示重置密码\n\n\n### 使用用户名/密码\n\n```python\nes_username = os.environ.get(\"ES_USERNAME\", \"elastic\")\nes_password = os.environ.get(\"ES_PASSWORD\", \"change me...\")\n\nhistory = ElasticsearchChatMessageHistory(\n    es_url=es_url,\n    es_user=es_username,\n    es_password=es_password,\n    index=\"test-history\",\n    session_id=\"test-session\"\n)\n```\n\n### 如何获取 API 密钥\n\n要获取 API 密钥：\n1. 登录 [Elastic Cloud 控制台](https://cloud.elastic.co)\n2. 打开 `Kibana` 并前往 Stack Management > API Keys\n3. 点击“Create API key”\n4. 为 API 密钥输入一个名称并点击“Create”\n\n### 使用 API 密钥\n\n```python\nes_api_key = os.environ.get(\"ES_API_KEY\")\n\nhistory = ElasticsearchChatMessageHistory(\n    es_api_key=es_api_key,\n    index=\"test-history\",\n    session_id=\"test-session\"\n)\n```"
      ]
    },
    {
      "cell_type": "markdown",
      "id": "8be8fcc3",
      "metadata": {},
      "source": [
        "## 初始化 Elasticsearch 客户端和聊天消息历史"
      ]
    },
    {
      "cell_type": "code",
      "execution_count": 2,
      "id": "8e2ee0fa",
      "metadata": {},
      "outputs": [],
      "source": [
        "import os\n",
        "\n",
        "from langchain_community.chat_message_histories import (\n",
        "    ElasticsearchChatMessageHistory,\n",
        ")\n",
        "\n",
        "es_url = os.environ.get(\"ES_URL\", \"http://localhost:9200\")\n",
        "\n",
        "# If using Elastic Cloud:\n",
        "# es_cloud_id = os.environ.get(\"ES_CLOUD_ID\")\n",
        "\n",
        "# Note: see Authentication section for various authentication methods\n",
        "\n",
        "history = ElasticsearchChatMessageHistory(\n",
        "    es_url=es_url, index=\"test-history\", session_id=\"test-session\"\n",
        ")"
      ]
    },
    {
      "cell_type": "markdown",
      "id": "a63942e2",
      "metadata": {},
      "source": [
        "## 使用聊天消息历史记录"
      ]
    },
    {
      "cell_type": "code",
      "execution_count": 3,
      "id": "c1c7be79",
      "metadata": {},
      "outputs": [
        {
          "name": "stdout",
          "output_type": "stream",
          "text": [
            "indexing message content='hi!' additional_kwargs={} example=False\n",
            "indexing message content='whats up?' additional_kwargs={} example=False\n"
          ]
        }
      ],
      "source": [
        "history.add_user_message(\"hi!\")\n",
        "history.add_ai_message(\"whats up?\")"
      ]
    }
  ],
  "metadata": {
    "colab": {
      "provenance": []
    },
    "kernelspec": {
      "display_name": "Python 3 (ipykernel)",
      "language": "python",
      "name": "python3"
    },
    "language_info": {
      "codemirror_mode": {
        "name": "ipython",
        "version": 3
      },
      "file_extension": ".py",
      "mimetype": "text/x-python",
      "name": "python",
      "nbconvert_exporter": "python",
      "pygments_lexer": "ipython3",
      "version": "3.10.12"
    }
  },
  "nbformat": 4,
  "nbformat_minor": 5
}