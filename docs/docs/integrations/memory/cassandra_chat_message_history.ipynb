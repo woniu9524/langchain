{
  "cells": [
    {
      "cell_type": "markdown",
      "id": "90cd3ded",
      "metadata": {},
      "source": [
        "# Cassandra\n\n>[Apache Cassandra®](https://cassandra.apache.org) 是一个 `NoSQL`、面向行、高可扩展、高可用的数据库，非常适合存储大量数据。\n\n>选择 `Cassandra` 来存储聊天消息历史记录是个不错的选择，因为它易于扩展且能够处理大量写入操作。\n\n本 notebook 将介绍如何使用 Cassandra 来存储聊天消息历史记录。"
      ]
    },
    {
      "cell_type": "markdown",
      "id": "f507f58b-bf22-4a48-8daf-68d869bcd1ba",
      "metadata": {},
      "source": [
        "## 设置\n\n要运行此笔记本，您需要一个正在运行的 `Cassandra` 集群或一个在云端运行的 `DataStax Astra DB` 实例（您可以在 [datastax.com](https://astra.datastax.com) 免费获取一个）。有关更多信息，请查看 [cassio.org](https://cassio.org/start_here/)。"
      ]
    },
    {
      "cell_type": "code",
      "execution_count": null,
      "id": "d7092199",
      "metadata": {},
      "outputs": [],
      "source": [
        "%pip install --upgrade --quiet  \"cassio>=0.1.0 langchain-community\""
      ]
    },
    {
      "cell_type": "markdown",
      "id": "e3d97b65",
      "metadata": {},
      "source": [
        "### 设置数据库连接参数和密钥"
      ]
    },
    {
      "cell_type": "code",
      "execution_count": null,
      "id": "163d97f0",
      "metadata": {},
      "outputs": [],
      "source": [
        "import getpass\n",
        "\n",
        "database_mode = (input(\"\\n(C)assandra or (A)stra DB? \")).upper()\n",
        "\n",
        "keyspace_name = input(\"\\nKeyspace name? \")\n",
        "\n",
        "if database_mode == \"A\":\n",
        "    ASTRA_DB_APPLICATION_TOKEN = getpass.getpass('\\nAstra DB Token (\"AstraCS:...\") ')\n",
        "    #\n",
        "    ASTRA_DB_SECURE_BUNDLE_PATH = input(\"Full path to your Secure Connect Bundle? \")\n",
        "elif database_mode == \"C\":\n",
        "    CASSANDRA_CONTACT_POINTS = input(\n",
        "        \"Contact points? (comma-separated, empty for localhost) \"\n",
        "    ).strip()"
      ]
    },
    {
      "cell_type": "markdown",
      "id": "55860b2d",
      "metadata": {},
      "source": [
        "根据是本地的还是云端的 Astra DB，创建相应的数据库连接“Session”对象。"
      ]
    },
    {
      "cell_type": "code",
      "execution_count": null,
      "id": "8dff2798",
      "metadata": {},
      "outputs": [],
      "source": [
        "from cassandra.auth import PlainTextAuthProvider\n",
        "from cassandra.cluster import Cluster\n",
        "\n",
        "if database_mode == \"C\":\n",
        "    if CASSANDRA_CONTACT_POINTS:\n",
        "        cluster = Cluster(\n",
        "            [cp.strip() for cp in CASSANDRA_CONTACT_POINTS.split(\",\") if cp.strip()]\n",
        "        )\n",
        "    else:\n",
        "        cluster = Cluster()\n",
        "    session = cluster.connect()\n",
        "elif database_mode == \"A\":\n",
        "    ASTRA_DB_CLIENT_ID = \"token\"\n",
        "    cluster = Cluster(\n",
        "        cloud={\n",
        "            \"secure_connect_bundle\": ASTRA_DB_SECURE_BUNDLE_PATH,\n",
        "        },\n",
        "        auth_provider=PlainTextAuthProvider(\n",
        "            ASTRA_DB_CLIENT_ID,\n",
        "            ASTRA_DB_APPLICATION_TOKEN,\n",
        "        ),\n",
        "    )\n",
        "    session = cluster.connect()\n",
        "else:\n",
        "    raise NotImplementedError"
      ]
    },
    {
      "cell_type": "markdown",
      "id": "36c163e8",
      "metadata": {},
      "source": [
        "## 示例"
      ]
    },
    {
      "cell_type": "code",
      "execution_count": null,
      "id": "d15e3302",
      "metadata": {},
      "outputs": [],
      "source": [
        "from langchain_community.chat_message_histories import (\n",
        "    CassandraChatMessageHistory,\n",
        ")\n",
        "\n",
        "message_history = CassandraChatMessageHistory(\n",
        "    session_id=\"test-session\",\n",
        "    session=session,\n",
        "    keyspace=keyspace_name,\n",
        ")\n",
        "\n",
        "message_history.add_user_message(\"hi!\")\n",
        "\n",
        "message_history.add_ai_message(\"whats up?\")"
      ]
    },
    {
      "cell_type": "code",
      "execution_count": null,
      "id": "64fc465e",
      "metadata": {},
      "outputs": [],
      "source": [
        "message_history.messages"
      ]
    },
    {
      "cell_type": "markdown",
      "id": "59902d0f-e9ba-4e3d-a7e0-ce202b9d3c43",
      "metadata": {},
      "source": [
        "#### 归属声明\n\n> Apache Cassandra、Cassandra 和 Apache 是 Apache Software Foundation 在美国和/或其他国家的注册商标或商标。"
      ]
    },
    {
      "cell_type": "code",
      "execution_count": null,
      "id": "7efaa51c-e9ee-4dce-80a4-eb9280a0dbe5",
      "metadata": {},
      "outputs": [],
      "source": []
    }
  ],
  "metadata": {
    "kernelspec": {
      "display_name": "Python 3 (ipykernel)",
      "language": "python",
      "name": "python3"
    },
    "language_info": {
      "codemirror_mode": {
        "name": "ipython",
        "version": 3
      },
      "file_extension": ".py",
      "mimetype": "text/x-python",
      "name": "python",
      "nbconvert_exporter": "python",
      "pygments_lexer": "ipython3",
      "version": "3.10.12"
    }
  },
  "nbformat": 4,
  "nbformat_minor": 5
}