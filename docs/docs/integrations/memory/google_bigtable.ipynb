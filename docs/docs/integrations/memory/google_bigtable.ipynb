{
  "cells": [
    {
      "cell_type": "markdown",
      "metadata": {},
      "source": [
        "# Google Bigtable\n\n> [Google Cloud Bigtable](https://cloud.google.com/bigtable) 是一种键值和宽列存储，非常适合对结构化、半结构化或非结构化数据进行快速访问。通过 Bigtable 的 Langchain 集成，扩展您的数据库应用程序以构建支持 AI 的体验。\n\n本笔记本将介绍如何使用 `BigtableChatMessageHistory` 类通过 [Google Cloud Bigtable](https://cloud.google.com/bigtable) 存储聊天消息历史记录。\n\n在 [GitHub](https://github.com/googleapis/langchain-google-bigtable-python/) 上了解有关该软件包的更多信息。\n\n[![在 Colab 中打开](https://colab.research.google.com/assets/colab-badge.svg)](https://colab.research.google.com/github/googleapis/langchain-google-bigtable-python/blob/main/docs/chat_message_history.ipynb)"
      ]
    },
    {
      "cell_type": "markdown",
      "metadata": {},
      "source": [
        "## 开始之前\n\n要运行此笔记本，您需要执行以下操作：\n\n* [创建 Google Cloud 项目](https://developers.google.com/workspace/guides/create-project)\n* [启用 Bigtable API](https://console.cloud.google.com/flows/enableapi?apiid=bigtable.googleapis.com)\n* [创建 Bigtable 实例](https://cloud.google.com/bigtable/docs/creating-instance)\n* [创建 Bigtable 表](https://cloud.google.com/bigtable/docs/managing-tables)\n* [创建 Bigtable 访问凭据](https://developers.google.com/workspace/guides/create-credentials)"
      ]
    },
    {
      "cell_type": "markdown",
      "metadata": {},
      "source": [
        "### 🦜🔗 库安装\n\n该集成位于独立的 `langchain-google-bigtable` 包中，因此我们需要安装它。"
      ]
    },
    {
      "cell_type": "code",
      "execution_count": null,
      "metadata": {},
      "outputs": [],
      "source": [
        "%pip install -upgrade --quiet langchain-google-bigtable"
      ]
    },
    {
      "cell_type": "markdown",
      "metadata": {},
      "source": [
        "**仅限 Colab**：取消注释下面的单元格以重启内核，或者使用此按钮重启内核。对于 Vertex AI Workbench，您可以重启顶部的终端。"
      ]
    },
    {
      "cell_type": "code",
      "execution_count": null,
      "metadata": {},
      "outputs": [],
      "source": [
        "# # Automatically restart kernel after installs so that your environment can access the new packages\n",
        "# import IPython\n",
        "\n",
        "# app = IPython.Application.instance()\n",
        "# app.kernel.do_shutdown(True)"
      ]
    },
    {
      "cell_type": "markdown",
      "metadata": {},
      "source": [
        "### ☁ 设置您的 Google Cloud 项目\n设置您的 Google Cloud 项目，以便在本笔记本中利用 Google Cloud 资源。\n\n如果您不知道项目 ID，可以尝试以下方法：\n\n* 运行 `gcloud config list`。\n* 运行 `gcloud projects list`。\n* 查看支持页面：[查找项目 ID](https://support.google.com/googleapi/answer/7014113)。"
      ]
    },
    {
      "cell_type": "code",
      "execution_count": null,
      "metadata": {},
      "outputs": [],
      "source": [
        "# @markdown Please fill in the value below with your Google Cloud project ID and then run the cell.\n",
        "\n",
        "PROJECT_ID = \"my-project-id\"  # @param {type:\"string\"}\n",
        "\n",
        "# Set the project id\n",
        "!gcloud config set project {PROJECT_ID}"
      ]
    },
    {
      "cell_type": "markdown",
      "metadata": {},
      "source": [
        "### 🔐 身份验证\n\n通过笔记本中登录的 IAM 用户身份验证到 Google Cloud，以便访问您的 Google Cloud 项目。\n\n- 如果您正在使用 Colab 运行此笔记本，请使用下面的单元格并继续。\n- 如果您正在使用 Vertex AI Workbench，请查看此处的设置说明：[https://github.com/GoogleCloudPlatform/generative-ai/tree/main/setup-env](https://github.com/GoogleCloudPlatform/generative-ai/tree/main/setup-env)。"
      ]
    },
    {
      "cell_type": "code",
      "execution_count": null,
      "metadata": {},
      "outputs": [],
      "source": [
        "from google.colab import auth\n",
        "\n",
        "auth.authenticate_user()"
      ]
    },
    {
      "cell_type": "markdown",
      "metadata": {},
      "source": [
        "## 基本用法"
      ]
    },
    {
      "cell_type": "markdown",
      "metadata": {},
      "source": [
        "### 初始化 Bigtable 架构\n\n`BigtableChatMessageHistory` 的架构要求实例和表已存在，并且有一个名为 `langchain` 的列族。"
      ]
    },
    {
      "cell_type": "code",
      "execution_count": null,
      "metadata": {},
      "outputs": [],
      "source": [
        "# @markdown Please specify an instance and a table for demo purpose.\n",
        "INSTANCE_ID = \"my_instance\"  # @param {type:\"string\"}\n",
        "TABLE_ID = \"my_table\"  # @param {type:\"string\"}"
      ]
    },
    {
      "cell_type": "markdown",
      "metadata": {},
      "source": [
        "如果表或列族不存在，您可以使用以下函数来创建它们："
      ]
    },
    {
      "cell_type": "code",
      "execution_count": null,
      "metadata": {},
      "outputs": [],
      "source": [
        "from google.cloud import bigtable\n",
        "from langchain_google_bigtable import create_chat_history_table\n",
        "\n",
        "create_chat_history_table(\n",
        "    instance_id=INSTANCE_ID,\n",
        "    table_id=TABLE_ID,\n",
        ")"
      ]
    },
    {
      "cell_type": "markdown",
      "metadata": {},
      "source": [
        "### BigtableChatMessageHistory\n\n初始化 `BigtableChatMessageHistory` 类只需要提供以下 3 项：\n\n1.  `instance_id` - 用于聊天消息历史记录的 Bigtable 实例。\n2.  `table_id` - 用于存储聊天消息历史记录的 Bigtable 表。\n3.  `session_id` - 指定会话 ID 的唯一标识符字符串。"
      ]
    },
    {
      "cell_type": "code",
      "execution_count": null,
      "metadata": {},
      "outputs": [],
      "source": [
        "from langchain_google_bigtable import BigtableChatMessageHistory\n",
        "\n",
        "message_history = BigtableChatMessageHistory(\n",
        "    instance_id=INSTANCE_ID,\n",
        "    table_id=TABLE_ID,\n",
        "    session_id=\"user-session-id\",\n",
        ")\n",
        "\n",
        "message_history.add_user_message(\"hi!\")\n",
        "message_history.add_ai_message(\"whats up?\")"
      ]
    },
    {
      "cell_type": "code",
      "execution_count": null,
      "metadata": {},
      "outputs": [],
      "source": [
        "message_history.messages"
      ]
    },
    {
      "cell_type": "markdown",
      "metadata": {},
      "source": [
        "#### 清理\n\n当特定会话的历史记录不再需要且可以删除时，可以按以下方式进行。\n\n**注意：** 一旦删除，数据将不再存储在 Bigtable 中，并且将永久消失。"
      ]
    },
    {
      "cell_type": "code",
      "execution_count": null,
      "metadata": {},
      "outputs": [],
      "source": [
        "message_history.clear()"
      ]
    },
    {
      "cell_type": "markdown",
      "metadata": {},
      "source": [
        "## 高级用法"
      ]
    },
    {
      "cell_type": "markdown",
      "metadata": {},
      "source": [
        "### 自定义客户端\n默认创建的客户端是默认客户端，仅使用 `admin=True` 选项。要使用非默认客户端，可以将自定义客户端传递给构造函数。"
      ]
    },
    {
      "cell_type": "code",
      "execution_count": null,
      "metadata": {},
      "outputs": [],
      "source": [
        "from google.cloud import bigtable\n",
        "\n",
        "client = (bigtable.Client(...),)\n",
        "\n",
        "create_chat_history_table(\n",
        "    instance_id=\"my-instance\",\n",
        "    table_id=\"my-table\",\n",
        "    client=client,\n",
        ")\n",
        "\n",
        "custom_client_message_history = BigtableChatMessageHistory(\n",
        "    instance_id=\"my-instance\",\n",
        "    table_id=\"my-table\",\n",
        "    client=client,\n",
        ")"
      ]
    }
  ],
  "metadata": {
    "kernelspec": {
      "display_name": "Python 3 (ipykernel)",
      "language": "python",
      "name": "python3"
    },
    "language_info": {
      "codemirror_mode": {
        "name": "ipython",
        "version": 3
      },
      "file_extension": ".py",
      "mimetype": "text/x-python",
      "name": "python",
      "nbconvert_exporter": "python",
      "pygments_lexer": "ipython3",
      "version": "3.10.6"
    }
  },
  "nbformat": 4,
  "nbformat_minor": 4
}