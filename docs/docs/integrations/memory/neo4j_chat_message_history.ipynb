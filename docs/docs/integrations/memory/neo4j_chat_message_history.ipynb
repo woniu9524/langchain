{
  "cells": [
    {
      "cell_type": "markdown",
      "id": "91c6a7ef",
      "metadata": {},
      "source": [
        "# Neo4j\n\n[Neo4j](https://en.wikipedia.org/wiki/Neo4j) 是一个开源的图形数据库管理系统，以其高效管理高度连接数据的能力而闻名。与存储数据的传统表格数据库不同，Neo4j 使用节点、边和属性的图形结构来表示和存储数据。这种设计使得对复杂数据关系进行高性能查询成为可能。\n\n本笔记本将介绍如何使用 `Neo4j` 来存储聊天消息历史记录。"
      ]
    },
    {
      "cell_type": "code",
      "execution_count": null,
      "id": "d15e3302",
      "metadata": {},
      "outputs": [],
      "source": [
        "from langchain_neo4j import Neo4jChatMessageHistory\n",
        "\n",
        "history = Neo4jChatMessageHistory(\n",
        "    url=\"bolt://localhost:7687\",\n",
        "    username=\"neo4j\",\n",
        "    password=\"password\",\n",
        "    session_id=\"session_id_1\",\n",
        ")\n",
        "\n",
        "history.add_user_message(\"hi!\")\n",
        "\n",
        "history.add_ai_message(\"whats up?\")"
      ]
    },
    {
      "cell_type": "code",
      "execution_count": null,
      "id": "64fc465e",
      "metadata": {},
      "outputs": [],
      "source": [
        "history.messages"
      ]
    },
    {
      "cell_type": "code",
      "execution_count": null,
      "id": "8af285f8",
      "metadata": {},
      "outputs": [],
      "source": []
    }
  ],
  "metadata": {
    "kernelspec": {
      "display_name": "Python 3 (ipykernel)",
      "language": "python",
      "name": "python3"
    },
    "language_info": {
      "codemirror_mode": {
        "name": "ipython",
        "version": 3
      },
      "file_extension": ".py",
      "mimetype": "text/x-python",
      "name": "python",
      "nbconvert_exporter": "python",
      "pygments_lexer": "ipython3",
      "version": "3.10.12"
    }
  },
  "nbformat": 4,
  "nbformat_minor": 5
}