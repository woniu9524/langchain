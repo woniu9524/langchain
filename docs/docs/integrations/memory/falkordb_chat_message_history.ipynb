{
  "cells": [
    {
      "cell_type": "markdown",
      "metadata": {},
      "source": [
        "# FalkorDB\n\n<a href='https://docs.falkordb.com/' target='_blank'>FalkorDB</a> 是一款开源图数据库管理系统，以其高效管理高度连接数据而闻名。与以表格形式存储数据的传统数据库不同，FalkorDB 使用节点、边和属性的图结构来表示和存储数据。这种设计能够对复杂的数据关系进行高性能查询。\n\n本笔记本将介绍如何使用 `FalkorDB` 来存储聊天消息历史。\n\n**注意**: 您可以在本地使用 FalkorDB，也可以使用 FalkorDB Cloud。<a href='https://docs.falkordb.com/' target='blank'>查看安装说明</a>"
      ]
    },
    {
      "cell_type": "code",
      "execution_count": 6,
      "metadata": {},
      "outputs": [],
      "source": [
        "# For this example notebook we will be using FalkorDB locally\n",
        "host = \"localhost\"\n",
        "port = 6379"
      ]
    },
    {
      "cell_type": "code",
      "execution_count": 8,
      "metadata": {},
      "outputs": [],
      "source": [
        "from langchain_falkordb.message_history import (\n",
        "    FalkorDBChatMessageHistory,\n",
        ")\n",
        "\n",
        "history = FalkorDBChatMessageHistory(host=host, port=port, session_id=\"session_id_1\")\n",
        "\n",
        "history.add_user_message(\"hi!\")\n",
        "\n",
        "history.add_ai_message(\"whats up?\")"
      ]
    },
    {
      "cell_type": "code",
      "execution_count": 9,
      "metadata": {},
      "outputs": [
        {
          "data": {
            "text/plain": [
              "[HumanMessage(content='hi!', additional_kwargs={}, response_metadata={}),\n",
              " AIMessage(content='whats up?', additional_kwargs={}, response_metadata={})]"
            ]
          },
          "execution_count": 9,
          "metadata": {},
          "output_type": "execute_result"
        }
      ],
      "source": [
        "history.messages"
      ]
    }
  ],
  "metadata": {
    "language_info": {
      "name": "python"
    }
  },
  "nbformat": 4,
  "nbformat_minor": 2
}