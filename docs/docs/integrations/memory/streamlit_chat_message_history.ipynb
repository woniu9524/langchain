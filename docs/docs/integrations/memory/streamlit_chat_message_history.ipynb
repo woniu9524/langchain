{
  "cells": [
    {
      "cell_type": "markdown",
      "id": "91c6a7ef",
      "metadata": {},
      "source": [
        "# Streamlit\n\n>[Streamlit](https://docs.streamlit.io/) 是一个开源的 Python 库，可以轻松创建和共享精美的、定制化的 Web 应用，用于机器学习和数据科学。\n\n本教程将介绍如何在 `Streamlit` 应用中存储和使用聊天消息历史。`StreamlitChatMessageHistory` 将在指定的 `key=` 下将消息存储在\n[Streamlit session state](https://docs.streamlit.io/library/api-reference/session-state) 中。默认的 key 是 `\"langchain_messages\"`。\n\n- 注意，`StreamlitChatMessageHistory` 仅在 Streamlit 应用中运行时有效。\n- 您可能还对 LangChain 的 [StreamlitCallbackHandler](/docs/integrations/callbacks/streamlit) 感兴趣。\n- 有关 Streamlit 的更多信息，请查看其\n[入门文档](https://docs.streamlit.io/library/get-started)。\n\n该集成位于 `langchain-community` 包中，因此我们需要安装它。我们还需要安装 `streamlit`。\n\n```\npip install -U langchain-community streamlit\n```\n\n您可以在此处查看[完整的应用示例运行](https://langchain-st-memory.streamlit.app/)，并在\n[github.com/langchain-ai/streamlit-agent](https://github.com/langchain-ai/streamlit-agent) 中找到更多示例。"
      ]
    },
    {
      "cell_type": "code",
      "execution_count": null,
      "id": "d15e3302",
      "metadata": {},
      "outputs": [],
      "source": [
        "from langchain_community.chat_message_histories import (\n",
        "    StreamlitChatMessageHistory,\n",
        ")\n",
        "\n",
        "history = StreamlitChatMessageHistory(key=\"chat_messages\")\n",
        "\n",
        "history.add_user_message(\"hi!\")\n",
        "history.add_ai_message(\"whats up?\")"
      ]
    },
    {
      "cell_type": "code",
      "execution_count": null,
      "id": "64fc465e",
      "metadata": {},
      "outputs": [],
      "source": [
        "history.messages"
      ]
    },
    {
      "cell_type": "markdown",
      "id": "b60dc735",
      "metadata": {},
      "source": [
        "我们可以轻松地将此消息历史记录类与 [LCEL Runnables](/docs/how_to/message_history) 结合使用。\n\n在给定用户会话中，历史记录将在 Streamlit 应用的重新运行时得以保留。给定的 `StreamlitChatMessageHistory` 将不会在用户会话之间保留或共享。"
      ]
    },
    {
      "cell_type": "code",
      "execution_count": null,
      "id": "42ab5bf3",
      "metadata": {},
      "outputs": [],
      "source": [
        "# Optionally, specify your own session_state key for storing messages\n",
        "msgs = StreamlitChatMessageHistory(key=\"special_app_key\")\n",
        "\n",
        "if len(msgs.messages) == 0:\n",
        "    msgs.add_ai_message(\"How can I help you?\")"
      ]
    },
    {
      "cell_type": "code",
      "execution_count": null,
      "id": "a29252de",
      "metadata": {},
      "outputs": [],
      "source": [
        "from langchain_core.prompts import ChatPromptTemplate, MessagesPlaceholder\n",
        "from langchain_core.runnables.history import RunnableWithMessageHistory\n",
        "from langchain_openai import ChatOpenAI\n",
        "\n",
        "prompt = ChatPromptTemplate.from_messages(\n",
        "    [\n",
        "        (\"system\", \"You are an AI chatbot having a conversation with a human.\"),\n",
        "        MessagesPlaceholder(variable_name=\"history\"),\n",
        "        (\"human\", \"{question}\"),\n",
        "    ]\n",
        ")\n",
        "\n",
        "chain = prompt | ChatOpenAI()"
      ]
    },
    {
      "cell_type": "code",
      "execution_count": null,
      "id": "dac3d94f",
      "metadata": {},
      "outputs": [],
      "source": [
        "chain_with_history = RunnableWithMessageHistory(\n",
        "    chain,\n",
        "    lambda session_id: msgs,  # Always return the instance created earlier\n",
        "    input_messages_key=\"question\",\n",
        "    history_messages_key=\"history\",\n",
        ")"
      ]
    },
    {
      "cell_type": "markdown",
      "id": "7cd99b4b",
      "metadata": {},
      "source": [
        "诸如 \"Conversational Streamlit apps\" 这类应用，在每次重新运行时，通常会重绘之前的每一条聊天消息。通过遍历 `StreamlitChatMessageHistory.messages` 可以轻松实现这一点："
      ]
    },
    {
      "cell_type": "code",
      "execution_count": null,
      "id": "3bdb637b",
      "metadata": {},
      "outputs": [],
      "source": [
        "import streamlit as st\n",
        "\n",
        "for msg in msgs.messages:\n",
        "    st.chat_message(msg.type).write(msg.content)\n",
        "\n",
        "if prompt := st.chat_input():\n",
        "    st.chat_message(\"human\").write(prompt)\n",
        "\n",
        "    # As usual, new messages are added to StreamlitChatMessageHistory when the Chain is called.\n",
        "    config = {\"configurable\": {\"session_id\": \"any\"}}\n",
        "    response = chain_with_history.invoke({\"question\": prompt}, config)\n",
        "    st.chat_message(\"ai\").write(response.content)"
      ]
    },
    {
      "cell_type": "markdown",
      "id": "7adaf3d6",
      "metadata": {},
      "source": [
        "**[查看最终应用](https://langchain-st-memory.streamlit.app/)。**"
      ]
    }
  ],
  "metadata": {
    "kernelspec": {
      "display_name": "Python 3 (ipykernel)",
      "language": "python",
      "name": "python3"
    },
    "language_info": {
      "codemirror_mode": {
        "name": "ipython",
        "version": 3
      },
      "file_extension": ".py",
      "mimetype": "text/x-python",
      "name": "python",
      "nbconvert_exporter": "python",
      "pygments_lexer": "ipython3",
      "version": "3.10.12"
    }
  },
  "nbformat": 4,
  "nbformat_minor": 5
}