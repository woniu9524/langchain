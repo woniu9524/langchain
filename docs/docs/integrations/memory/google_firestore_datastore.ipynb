{
  "cells": [
    {
      "cell_type": "markdown",
      "metadata": {},
      "source": [
        "# Google Firestore (Datastore 模式)\n\n> [Google Cloud Firestore (Datastore 模式)](https://cloud.google.com/datastore) 是一种无服务器文档数据库，可根据任何需求进行扩展。利用 `Datastore` 的 Langchain 集成来扩展您的数据库应用程序，构建由 AI 提供支持的体验。\n\n本 Notebook 将介绍如何使用 `DatastoreChatMessageHistory` 类通过 [Google Cloud Firestore (Datastore 模式)](https://cloud.google.com/datastore) 来存储聊天消息记录。\n\n在 [GitHub](https://github.com/googleapis/langchain-google-datastore-python/) 上了解有关该包的更多信息。\n\n[![在 Colab 中打开](https://colab.research.google.com/assets/colab-badge.svg)](https://colab.research.google.com/github/googleapis/langchain-google-datastore-python/blob/main/docs/chat_message_history.ipynb)"
      ]
    },
    {
      "cell_type": "markdown",
      "metadata": {},
      "source": [
        "## 开始之前\n\n要运行此笔记本，您需要执行以下操作：\n\n* [创建 Google Cloud 项目](https://developers.google.com/workspace/guides/create-project)\n* [启用 Datastore API](https://console.cloud.google.com/flows/enableapi?apiid=datastore.googleapis.com)\n* [创建 Datastore 数据库](https://cloud.google.com/datastore/docs/manage-databases)\n\n在确认笔记本运行时环境中的数据库访问权限后，请填充以下值并运行单元格，然后再运行示例脚本。"
      ]
    },
    {
      "cell_type": "markdown",
      "metadata": {},
      "source": [
        "### 🦜🔗 库安装\n\n集成 reside 在我们自己的 `langchain-google-datastore` 包中，所以我们需要进行安装。"
      ]
    },
    {
      "cell_type": "code",
      "execution_count": null,
      "metadata": {
        "tags": []
      },
      "outputs": [],
      "source": [
        "%pip install -upgrade --quiet langchain-google-datastore"
      ]
    },
    {
      "cell_type": "markdown",
      "metadata": {},
      "source": [
        "**仅限 Colab**: 取消下面的单元格注释以重启内核，或使用按钮重启内核。对于 Vertex AI Workbench，您可以使用顶部的按钮重启终端。"
      ]
    },
    {
      "cell_type": "code",
      "execution_count": null,
      "metadata": {},
      "outputs": [],
      "source": [
        "# # Automatically restart kernel after installs so that your environment can access the new packages\n",
        "# import IPython\n",
        "\n",
        "# app = IPython.Application.instance()\n",
        "# app.kernel.do_shutdown(True)"
      ]
    },
    {
      "cell_type": "markdown",
      "metadata": {},
      "source": [
        "### ☁ 设置您的 Google Cloud 项目\n设置您的 Google Cloud 项目，以便您可以在此笔记本中利用 Google Cloud 资源。\n\n如果您不知道您的项目 ID，可以尝试以下方法：\n\n* 运行 `gcloud config list`。\n* 运行 `gcloud projects list`。\n* 查看支持页面：[查找项目 ID](https://support.google.com/googleapi/answer/7014113)。"
      ]
    },
    {
      "cell_type": "code",
      "execution_count": null,
      "metadata": {},
      "outputs": [],
      "source": [
        "# @markdown Please fill in the value below with your Google Cloud project ID and then run the cell.\n",
        "\n",
        "PROJECT_ID = \"my-project-id\"  # @param {type:\"string\"}\n",
        "\n",
        "# Set the project id\n",
        "!gcloud config set project {PROJECT_ID}"
      ]
    },
    {
      "cell_type": "markdown",
      "metadata": {},
      "source": [
        "### 🔐 身份验证\n\n以登录到此笔记本的 IAM 用户身份向 Google Cloud 进行身份验证，以便访问您的 Google Cloud 项目。\n\n- 如果您正在使用 Colab 运行此笔记本，请使用下面的单元格并继续。\n- 如果您正在使用 Vertex AI Workbench，请查看 [此处](https://github.com/GoogleCloudPlatform/generative-ai/tree/main/setup-env) 的设置说明。"
      ]
    },
    {
      "cell_type": "code",
      "execution_count": null,
      "metadata": {},
      "outputs": [],
      "source": [
        "from google.colab import auth\n",
        "\n",
        "auth.authenticate_user()"
      ]
    },
    {
      "cell_type": "markdown",
      "metadata": {},
      "source": [
        "### API 启用\n`langchain-google-datastore` 包要求您在 Google Cloud 项目中[启用 Datastore API](https://console.cloud.google.com/flows/enableapi?apiid=datastore.googleapis.com)。"
      ]
    },
    {
      "cell_type": "code",
      "execution_count": null,
      "metadata": {},
      "outputs": [],
      "source": [
        "# enable Datastore API\n",
        "!gcloud services enable datastore.googleapis.com"
      ]
    },
    {
      "cell_type": "markdown",
      "metadata": {},
      "source": [
        "## 基本用法"
      ]
    },
    {
      "cell_type": "markdown",
      "metadata": {},
      "source": [
        "### DatastoreChatMessageHistory\n\n要初始化 `DatastoreChatMessageHistory` 类，您只需提供三项：\n\n1.  `session_id` - 一个唯一的标识符字符串，用于指定会话的 ID。\n1.  `kind` - 要写入的 Datastore kind 的名称。这是一个可选值，默认将使用 `ChatHistory` 作为 kind。\n1.  `collection` - Datastore 集合的单 `/` 分隔路径。"
      ]
    },
    {
      "cell_type": "code",
      "execution_count": null,
      "metadata": {},
      "outputs": [],
      "source": [
        "from langchain_google_datastore import DatastoreChatMessageHistory\n",
        "\n",
        "chat_history = DatastoreChatMessageHistory(\n",
        "    session_id=\"user-session-id\", collection=\"HistoryMessages\"\n",
        ")\n",
        "\n",
        "chat_history.add_user_message(\"Hi!\")\n",
        "chat_history.add_ai_message(\"How can I help you?\")"
      ]
    },
    {
      "cell_type": "code",
      "execution_count": null,
      "metadata": {},
      "outputs": [],
      "source": [
        "chat_history.messages"
      ]
    },
    {
      "cell_type": "markdown",
      "metadata": {},
      "source": [
        "#### 清理\n当某个特定会话的历史记录已过时，可以从数据库和内存中删除时，可以按以下方式进行。\n\n**注意：** 删除后，数据将不再存储在 Datastore 中，并且将永久丢失。"
      ]
    },
    {
      "cell_type": "code",
      "execution_count": null,
      "metadata": {},
      "outputs": [],
      "source": [
        "chat_history.clear()"
      ]
    },
    {
      "cell_type": "markdown",
      "metadata": {},
      "source": [
        "### 自定义客户端\n\n客户端默认使用可用的环境变量创建。一个[自定义客户端](https://cloud.google.com/python/docs/reference/datastore/latest/client)可以传递给构造函数。"
      ]
    },
    {
      "cell_type": "code",
      "execution_count": null,
      "metadata": {},
      "outputs": [],
      "source": [
        "from google.auth import compute_engine\n",
        "from google.cloud import datastore\n",
        "\n",
        "client = datastore.Client(\n",
        "    project=\"project-custom\",\n",
        "    database=\"non-default-database\",\n",
        "    credentials=compute_engine.Credentials(),\n",
        ")\n",
        "\n",
        "history = DatastoreChatMessageHistory(\n",
        "    session_id=\"session-id\", collection=\"History\", client=client\n",
        ")\n",
        "\n",
        "history.add_user_message(\"New message\")\n",
        "\n",
        "history.messages\n",
        "\n",
        "history.clear()"
      ]
    }
  ],
  "metadata": {
    "kernelspec": {
      "display_name": "Python 3 (ipykernel)",
      "language": "python",
      "name": "python3"
    },
    "language_info": {
      "codemirror_mode": {
        "name": "ipython",
        "version": 3
      },
      "file_extension": ".py",
      "mimetype": "text/x-python",
      "name": "python",
      "nbconvert_exporter": "python",
      "pygments_lexer": "ipython3",
      "version": "3.10.12"
    }
  },
  "nbformat": 4,
  "nbformat_minor": 4
}