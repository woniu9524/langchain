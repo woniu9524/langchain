{
  "cells": [
    {
      "cell_type": "markdown",
      "id": "c21deb80-9cf7-4185-8205-a38110152d2c",
      "metadata": {},
      "source": [
        "# Kafka\n\n[Kafka](https://github.com/apache/kafka) 是一个分布式消息系统，用于发布和订阅记录流。\n此演示展示了如何使用 `KafkaChatMessageHistory` 在 Kafka 集群中存储和检索聊天消息。"
      ]
    },
    {
      "cell_type": "markdown",
      "id": "c7c4fc02-18ac-4285-b8d6-507357e2aa13",
      "metadata": {},
      "source": [
        "需要运行一个 Kafka 集群来运行此演示。您可以遵循[此说明](https://developer.confluent.io/get-started/python)在本地创建 Kafka 集群。"
      ]
    },
    {
      "cell_type": "code",
      "execution_count": null,
      "id": "f09f3b45-c4ff-4e59-bf79-238cc85d6465",
      "metadata": {},
      "outputs": [],
      "source": [
        "from langchain_community.chat_message_histories import KafkaChatMessageHistory\n",
        "\n",
        "chat_session_id = \"chat-message-history-kafka\"\n",
        "bootstrap_servers = \"localhost:64797\"  # host:port. `localhost:Plaintext Ports` if setup Kafka cluster locally\n",
        "history = KafkaChatMessageHistory(\n",
        "    chat_session_id,\n",
        "    bootstrap_servers,\n",
        ")"
      ]
    },
    {
      "cell_type": "markdown",
      "id": "109812d2-85c5-4a65-a8a0-2d16eb80347b",
      "metadata": {},
      "source": [
        "`KafkaChatMessageHistory` 的可选参数：\n - `ttl_ms`：聊天消息的生存时间（毫秒）。\n - `partition`：用于存储聊天消息的主题的分区数。\n - `replication_factor`：用于存储聊天消息的主题的副本系数。"
      ]
    },
    {
      "cell_type": "markdown",
      "id": "c8fba39f-650b-4192-94ea-1a2a89f5348d",
      "metadata": {},
      "source": [
        "`KafkaChatMessageHistory` 在内部使用 Kafka 消费者来读取聊天消息，并能够持久化标记已消费的位置。它具有以下检索聊天消息的方法：\n- `messages`: 从上一条消息继续消费聊天消息。\n- `messages_from_beginning`: 重置消费者到历史记录的开头并开始消费消息。可选参数：\n    1. `max_message_count`: 要读取的最大消息数。\n    2. `max_time_sec`: 要读取的最大时间（秒）。\n- `messages_from_latest`: 重置消费者到聊天历史记录的末尾并尝试消费消息。可选参数与上面相同。\n- `messages_from_last_consumed`: 继续返回从最后一条已消费的消息开始的消息，类似于 `messages`，但带有可选参数。\n\n`max_message_count` 和 `max_time_sec` 用于避免在检索消息时无限期阻塞。\n因此，`messages` 和其他检索消息的方法可能不会返回聊天历史中的所有消息。您需要指定 `max_message_count` 和 `max_time_sec` 以在单个批次中检索所有聊天历史。"
      ]
    },
    {
      "cell_type": "markdown",
      "id": "caf2176b-db7a-451a-a292-3d9fde585ded",
      "metadata": {},
      "source": [
        "添加消息并检索。"
      ]
    },
    {
      "cell_type": "code",
      "execution_count": 3,
      "id": "7e52a70d-3921-4614-b8cd-53b8d3c2deb4",
      "metadata": {},
      "outputs": [
        {
          "data": {
            "text/plain": [
              "[HumanMessage(content='hi!'), AIMessage(content='whats up?')]"
            ]
          },
          "execution_count": 3,
          "metadata": {},
          "output_type": "execute_result"
        }
      ],
      "source": [
        "history.add_user_message(\"hi!\")\n",
        "history.add_ai_message(\"whats up?\")\n",
        "\n",
        "history.messages"
      ]
    },
    {
      "cell_type": "markdown",
      "id": "874ce388-da8f-4796-b9ca-3ac114195b10",
      "metadata": {},
      "source": [
        "再次调用 `messages` 会返回一个空列表，因为消费者位于聊天记录的末尾。"
      ]
    },
    {
      "cell_type": "code",
      "execution_count": 4,
      "id": "f863618e-7da1-4f46-9182-7a1387b93b16",
      "metadata": {},
      "outputs": [
        {
          "data": {
            "text/plain": [
              "[]"
            ]
          },
          "execution_count": 4,
          "metadata": {},
          "output_type": "execute_result"
        }
      ],
      "source": [
        "history.messages"
      ]
    },
    {
      "cell_type": "markdown",
      "id": "e108255b-c240-44f7-9ecc-52bf04cd15b6",
      "metadata": {},
      "source": [
        "添加新消息并继续消费。"
      ]
    },
    {
      "cell_type": "code",
      "execution_count": 5,
      "id": "31aa7403-5392-4ad4-ba43-226020a274e3",
      "metadata": {},
      "outputs": [
        {
          "data": {
            "text/plain": [
              "[HumanMessage(content='hi again!'), AIMessage(content='whats up again?')]"
            ]
          },
          "execution_count": 5,
          "metadata": {},
          "output_type": "execute_result"
        }
      ],
      "source": [
        "history.add_user_message(\"hi again!\")\n",
        "history.add_ai_message(\"whats up again?\")\n",
        "history.messages"
      ]
    },
    {
      "cell_type": "markdown",
      "id": "5062fabc-c605-40dd-933b-c68de2727874",
      "metadata": {},
      "source": [
        "重置消费者并从头开始读取："
      ]
    },
    {
      "cell_type": "code",
      "execution_count": 6,
      "id": "005816ae-c8ed-4e41-9ecd-b6432578c8f1",
      "metadata": {},
      "outputs": [
        {
          "data": {
            "text/plain": [
              "[HumanMessage(content='hi again!'),\n",
              " AIMessage(content='whats up again?'),\n",
              " HumanMessage(content='hi!'),\n",
              " AIMessage(content='whats up?')]"
            ]
          },
          "execution_count": 6,
          "metadata": {},
          "output_type": "execute_result"
        }
      ],
      "source": [
        "history.messages_from_beginning()"
      ]
    },
    {
      "cell_type": "markdown",
      "id": "42cc7bed-5cd7-417f-94fd-fe2e511cc9c6",
      "metadata": {},
      "source": [
        "将消费者设置到聊天记录的末尾，添加几条新消息，然后进行消费："
      ]
    },
    {
      "cell_type": "code",
      "execution_count": 7,
      "id": "d8b4f1cd-fa47-461b-b1b6-278ad54e9ac5",
      "metadata": {},
      "outputs": [
        {
          "data": {
            "text/plain": [
              "[HumanMessage(content='HI!'), AIMessage(content='WHATS UP?')]"
            ]
          },
          "execution_count": 7,
          "metadata": {},
          "output_type": "execute_result"
        }
      ],
      "source": [
        "history.messages_from_latest()\n",
        "history.add_user_message(\"HI!\")\n",
        "history.add_ai_message(\"WHATS UP?\")\n",
        "history.messages"
      ]
    }
  ],
  "metadata": {
    "kernelspec": {
      "display_name": "Python 3 (ipykernel)",
      "language": "python",
      "name": "python3"
    },
    "language_info": {
      "codemirror_mode": {
        "name": "ipython",
        "version": 3
      },
      "file_extension": ".py",
      "mimetype": "text/x-python",
      "name": "python",
      "nbconvert_exporter": "python",
      "pygments_lexer": "ipython3",
      "version": "3.8.18"
    }
  },
  "nbformat": 4,
  "nbformat_minor": 5
}