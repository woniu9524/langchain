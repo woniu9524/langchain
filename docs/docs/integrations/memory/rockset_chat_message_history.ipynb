{
  "cells": [
    {
      "cell_type": "markdown",
      "metadata": {},
      "source": [
        "# Rockset\n\n>[Rockset](https://rockset.com/product/) 是一项实时分析数据库服务，能够大规模提供低延迟、高并发的分析查询。它为结构化和半结构化数据构建了 Converged Index™，并为向量嵌入提供了高效的存储。它支持对无模式（schemaless）数据运行 SQL，是使用元数据过滤进行向量搜索的理想选择。\n\n\n本笔记本将介绍如何使用 [Rockset](https://rockset.com/docs) 来存储聊天消息历史记录。"
      ]
    },
    {
      "cell_type": "markdown",
      "metadata": {},
      "source": [
        "## 设置"
      ]
    },
    {
      "cell_type": "code",
      "execution_count": null,
      "metadata": {},
      "outputs": [],
      "source": [
        "%pip install --upgrade --quiet  rockset langchain-community"
      ]
    },
    {
      "cell_type": "markdown",
      "metadata": {},
      "source": [
        "首先，从 [Rockset 控制台](https://console.rockset.com/apikeys) 获取您的 API 密钥。查找您的 Rockset [API 参考](https://rockset.com/docs/rest-api#introduction) 的 API 区域。"
      ]
    },
    {
      "cell_type": "markdown",
      "metadata": {},
      "source": [
        "## 示例"
      ]
    },
    {
      "cell_type": "code",
      "execution_count": null,
      "metadata": {
        "vscode": {
          "languageId": "plaintext"
        }
      },
      "outputs": [],
      "source": [
        "from langchain_community.chat_message_histories import (\n",
        "    RocksetChatMessageHistory,\n",
        ")\n",
        "from rockset import Regions, RocksetClient\n",
        "\n",
        "history = RocksetChatMessageHistory(\n",
        "    session_id=\"MySession\",\n",
        "    client=RocksetClient(\n",
        "        api_key=\"YOUR API KEY\",\n",
        "        host=Regions.usw2a1,  # us-west-2 Oregon\n",
        "    ),\n",
        "    collection=\"langchain_demo\",\n",
        "    sync=True,\n",
        ")\n",
        "history.add_user_message(\"hi!\")\n",
        "history.add_ai_message(\"whats up?\")\n",
        "print(history.messages)"
      ]
    },
    {
      "cell_type": "markdown",
      "metadata": {},
      "source": [
        "```python\n[\n    HumanMessage(content='你好！', additional_kwargs={'id': '2e62f1c2-e9f7-465e-b551-49bae07fe9f0'}, example=False), \n    AIMessage(content='怎么样？', additional_kwargs={'id': 'b9be8eda-4c18-4cf8-81c3-e91e876927d0'}, example=False)\n]\n```"
      ]
    }
  ],
  "metadata": {
    "kernelspec": {
      "display_name": "Python 3 (ipykernel)",
      "language": "python",
      "name": "python3"
    },
    "language_info": {
      "codemirror_mode": {
        "name": "ipython",
        "version": 3
      },
      "file_extension": ".py",
      "mimetype": "text/x-python",
      "name": "python",
      "nbconvert_exporter": "python",
      "pygments_lexer": "ipython3",
      "version": "3.10.12"
    }
  },
  "nbformat": 4,
  "nbformat_minor": 4
}