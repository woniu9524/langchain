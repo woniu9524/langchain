{
  "cells": [
    {
      "cell_type": "markdown",
      "metadata": {
        "collapsed": false,
        "jupyter": {
          "outputs_hidden": false
        }
      },
      "source": [
        "# Google Spanner\n> [Google Cloud Spanner](https://cloud.google.com/spanner) 是一个高度可扩展的数据库，将无限的可扩展性与关系语义相结合，例如二级索引、强一致性、模式和 SQL，在一个简单的解决方案中提供 99.999% 的可用性。\n\n本笔记本将介绍如何使用 `Spanner` 和 `SpannerChatMessageHistory` 类来存储聊天消息历史记录。\n在 [GitHub](https://github.com/googleapis/langchain-google-spanner-python/) 上了解有关该包的更多信息。\n\n[![Open In Colab](https://colab.research.google.com/assets/colab-badge.svg)](https://colab.research.google.com/github/googleapis/langchain-google-spanner-python/blob/main/samples/chat_message_history.ipynb)"
      ]
    },
    {
      "cell_type": "markdown",
      "metadata": {
        "collapsed": false,
        "jupyter": {
          "outputs_hidden": false
        }
      },
      "source": [
        "## 开始之前\n\n要运行此笔记本，您需要执行以下操作：\n\n*   [创建一个 Google Cloud 项目](https://developers.google.com/workspace/guides/create-project)\n*   [启用 Cloud Spanner API](https://console.cloud.google.com/flows/enableapi?apiid=spanner.googleapis.com)\n*   [创建一个 Spanner 实例](https://cloud.google.com/spanner/docs/create-manage-instances)\n*   [创建一个 Spanner 数据库](https://cloud.google.com/spanner/docs/create-manage-databases)"
      ]
    },
    {
      "cell_type": "markdown",
      "metadata": {},
      "source": [
        "### 🦜🔗 库安装\n集成位于其自身的 `langchain-google-spanner` 包中，因此我们需要安装它。"
      ]
    },
    {
      "cell_type": "code",
      "execution_count": null,
      "metadata": {},
      "outputs": [],
      "source": [
        "%pip install --upgrade --quiet langchain-google-spanner"
      ]
    },
    {
      "cell_type": "markdown",
      "metadata": {},
      "source": [
        "**仅限 Colab：** 取消注释以下单元格以重新启动内核，或使用按钮重新启动内核。对于 Vertex AI Workbench，您可以使用顶部的按钮重新启动终端。"
      ]
    },
    {
      "cell_type": "code",
      "execution_count": null,
      "metadata": {},
      "outputs": [],
      "source": [
        "# # Automatically restart kernel after installs so that your environment can access the new packages\n",
        "# import IPython\n",
        "\n",
        "# app = IPython.Application.instance()\n",
        "# app.kernel.do_shutdown(True)"
      ]
    },
    {
      "cell_type": "markdown",
      "metadata": {
        "id": "yygMe6rPWxHS"
      },
      "source": [
        "### 🔐 Authentication\n使用登录到此笔记本的 IAM 用户进行 Google Cloud 身份验证，以便访问您的 Google Cloud 项目。\n\n* 如果您正在使用 Colab 来运行此笔记本，请使用下面的单元格并继续。\n* 如果您正在使用 Vertex AI Workbench，请查看此处的设置说明：[https://github.com/GoogleCloudPlatform/generative-ai/tree/main/setup-env](https://github.com/GoogleCloudPlatform/generative-ai/tree/main/setup-env)。"
      ]
    },
    {
      "cell_type": "code",
      "execution_count": 1,
      "metadata": {
        "id": "PTXN1_DSXj2b"
      },
      "outputs": [],
      "source": [
        "from google.colab import auth\n",
        "\n",
        "auth.authenticate_user()"
      ]
    },
    {
      "cell_type": "markdown",
      "metadata": {
        "id": "NEvB9BoLEulY"
      },
      "source": [
        "### ☁ 设置您的 Google Cloud 项目\n设置您的 Google Cloud 项目，以便您可以在此笔记本中使用 Google Cloud 资源。\n\n如果您不知道您的项目 ID，可以尝试以下方法：\n\n* 运行 `gcloud config list`。\n* 运行 `gcloud projects list`。\n* 查看支持页面：[查找项目 ID](https://support.google.com/googleapi/answer/7014113)。"
      ]
    },
    {
      "cell_type": "code",
      "execution_count": null,
      "metadata": {
        "cellView": "form",
        "id": "gfkS3yVRE4_W"
      },
      "outputs": [],
      "source": [
        "# @markdown Please fill in the value below with your Google Cloud project ID and then run the cell.\n",
        "\n",
        "PROJECT_ID = \"my-project-id\"  # @param {type:\"string\"}\n",
        "\n",
        "# Set the project id\n",
        "!gcloud config set project {PROJECT_ID}"
      ]
    },
    {
      "cell_type": "markdown",
      "metadata": {
        "id": "rEWWNoNnKOgq"
      },
      "source": [
        "### 💡 API 启用\n`langchain-google-spanner` 包要求您在 Google Cloud 项目中 [启用 Spanner API](https://console.cloud.google.com/flows/enableapi?apiid=spanner.googleapis.com)。"
      ]
    },
    {
      "cell_type": "code",
      "execution_count": 3,
      "metadata": {
        "id": "5utKIdq7KYi5"
      },
      "outputs": [],
      "source": [
        "# enable Spanner API\n",
        "!gcloud services enable spanner.googleapis.com"
      ]
    },
    {
      "cell_type": "markdown",
      "metadata": {
        "id": "f8f2830ee9ca1e01"
      },
      "source": [
        "## 基本用法"
      ]
    },
    {
      "cell_type": "markdown",
      "metadata": {
        "id": "OMvzMWRrR6n7"
      },
      "source": [
        "### 设置 Spanner 数据库值\n在 [Spanner 实例页面](https://console.cloud.google.com/spanner) 中查找您的数据库值。"
      ]
    },
    {
      "cell_type": "code",
      "execution_count": 4,
      "metadata": {
        "id": "irl7eMFnSPZr"
      },
      "outputs": [],
      "source": [
        "# @title Set Your Values Here { display-mode: \"form\" }\n",
        "INSTANCE = \"my-instance\"  # @param {type: \"string\"}\n",
        "DATABASE = \"my-database\"  # @param {type: \"string\"}\n",
        "TABLE_NAME = \"message_store\"  # @param {type: \"string\"}"
      ]
    },
    {
      "cell_type": "markdown",
      "metadata": {
        "id": "qPV8WfWr7O54"
      },
      "source": [
        "### 初始化表\n`SpannerChatMessageHistory`类需要一个具有特定架构的数据库表，以便存储聊天消息历史记录。\n\n可以使用辅助方法 `init_chat_history_table()` 来为您创建具有适当架构的表。"
      ]
    },
    {
      "cell_type": "code",
      "execution_count": null,
      "metadata": {
        "id": "TEu4VHArRttE"
      },
      "outputs": [],
      "source": [
        "from langchain_google_spanner import (\n",
        "    SpannerChatMessageHistory,\n",
        ")\n",
        "\n",
        "SpannerChatMessageHistory.init_chat_history_table(table_name=TABLE_NAME)"
      ]
    },
    {
      "cell_type": "markdown",
      "metadata": {},
      "source": [
        "### SpannerChatMessageHistory\n\n要初始化 `SpannerChatMessageHistory` 类，您只需要提供 3 个参数：\n\n1. `instance_id` - Spanner 实例的名称\n1. `database_id` - Spanner 数据库的名称\n1. `session_id` - 一个唯一的标识符字符串，用于指定会话 ID。\n1. `table_name` - 数据库中用于存储聊天消息历史记录的表的名称。"
      ]
    },
    {
      "cell_type": "code",
      "execution_count": null,
      "metadata": {
        "collapsed": false,
        "jupyter": {
          "outputs_hidden": false
        }
      },
      "outputs": [],
      "source": [
        "message_history = SpannerChatMessageHistory(\n",
        "    instance_id=INSTANCE,\n",
        "    database_id=DATABASE,\n",
        "    table_name=TABLE_NAME,\n",
        "    session_id=\"user-session-id\",\n",
        ")\n",
        "\n",
        "message_history.add_user_message(\"hi!\")\n",
        "message_history.add_ai_message(\"whats up?\")"
      ]
    },
    {
      "cell_type": "code",
      "execution_count": null,
      "metadata": {},
      "outputs": [],
      "source": [
        "message_history.messages"
      ]
    },
    {
      "cell_type": "markdown",
      "metadata": {},
      "source": [
        "## 自定义客户端\n默认创建的客户端是默认客户端。要使用非默认客户端，可以将[自定义客户端](https://cloud.google.com/spanner/docs/samples/spanner-create-client-with-query-options#spanner_create_client_with_query_options-python)传递给构造函数。"
      ]
    },
    {
      "cell_type": "code",
      "execution_count": null,
      "metadata": {},
      "outputs": [],
      "source": [
        "from google.cloud import spanner\n",
        "\n",
        "custom_client_message_history = SpannerChatMessageHistory(\n",
        "    instance_id=\"my-instance\",\n",
        "    database_id=\"my-database\",\n",
        "    client=spanner.Client(...),\n",
        ")"
      ]
    },
    {
      "cell_type": "markdown",
      "metadata": {},
      "source": [
        "## 清理\n\n当特定会话的历史记录不再需要且可以删除时，可以按以下方式进行。\n注意：一旦删除，数据将不再存储在 Cloud Spanner 中，并且将永久丢失。"
      ]
    },
    {
      "cell_type": "code",
      "execution_count": null,
      "metadata": {},
      "outputs": [],
      "source": [
        "message_history = SpannerChatMessageHistory(\n",
        "    instance_id=INSTANCE,\n",
        "    database_id=DATABASE,\n",
        "    table_name=TABLE_NAME,\n",
        "    session_id=\"user-session-id\",\n",
        ")\n",
        "\n",
        "message_history.clear()"
      ]
    }
  ],
  "metadata": {
    "kernelspec": {
      "display_name": "Python 3 (ipykernel)",
      "language": "python",
      "name": "python3"
    },
    "language_info": {
      "codemirror_mode": {
        "name": "ipython",
        "version": 3
      },
      "file_extension": ".py",
      "mimetype": "text/x-python",
      "name": "python",
      "nbconvert_exporter": "python",
      "pygments_lexer": "ipython3",
      "version": "3.11.5"
    }
  },
  "nbformat": 4,
  "nbformat_minor": 4
}