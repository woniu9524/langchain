{
  "cells": [
    {
      "cell_type": "markdown",
      "id": "f22eab3f84cbeb37",
      "metadata": {
        "id": "f22eab3f84cbeb37"
      },
      "source": [
        "# Google SQL for PostgreSQL\n\n> [Google Cloud SQL](https://cloud.google.com/sql) 是一个完全托管的关系型数据库服务，具备高性能、无缝集成和卓越的可扩展性。它提供 `MySQL`、`PostgreSQL` 和 `SQL Server` 数据库引擎。通过 Langchain 集成 Cloud SQL，您可以扩展数据库应用以构建赋能 AI 的体验。\n\n本 Notebook 将介绍如何使用 `Google Cloud SQL for PostgreSQL` 类来存储聊天消息历史记录。\n\n在 [GitHub](https://github.com/googleapis/langchain-google-cloud-sql-pg-python/) 上了解更多关于该包的信息。\n\n[![Open In Colab](https://colab.research.google.com/assets/colab-badge.svg)](https://colab.research.google.com/github/googleapis/langchain-google-cloud-sql-pg-python/blob/main/docs/chat_message_history.ipynb)"
      ]
    },
    {
      "cell_type": "markdown",
      "id": "da400c79-a360-43e2-be60-401fd02b2819",
      "metadata": {
        "id": "da400c79-a360-43e2-be60-401fd02b2819"
      },
      "source": [
        "## 开始之前\n\n要运行此笔记本，您需要执行以下操作：\n\n * [创建 Google Cloud 项目](https://developers.google.com/workspace/guides/create-project)\n * [启用 Cloud SQL Admin API](https://console.cloud.google.com/marketplace/product/google/sqladmin.googleapis.com)\n * [创建 Cloud SQL for PostgreSQL 实例](https://cloud.google.com/sql/docs/postgres/create-instance)\n * [创建 Cloud SQL 数据库](https://cloud.google.com/sql/docs/mysql/create-manage-databases)\n * [为数据库添加 IAM 数据库用户](https://cloud.google.com/sql/docs/postgres/add-manage-iam-users#creating-a-database-user)（可选）"
      ]
    },
    {
      "cell_type": "markdown",
      "id": "Mm7-fG_LltD7",
      "metadata": {
        "id": "Mm7-fG_LltD7"
      },
      "source": [
        "### 🦜🔗 库安装\n集成位于其自身的 `langchain-google-cloud-sql-pg` 包中，因此我们需要安装它。"
      ]
    },
    {
      "cell_type": "code",
      "execution_count": null,
      "id": "1VELXvcj8AId",
      "metadata": {
        "id": "1VELXvcj8AId"
      },
      "outputs": [],
      "source": [
        "%pip install --upgrade --quiet langchain-google-cloud-sql-pg langchain-google-vertexai"
      ]
    },
    {
      "cell_type": "markdown",
      "id": "98TVoM3MNDHu",
      "metadata": {
        "id": "98TVoM3MNDHu"
      },
      "source": [
        "**仅限 Colab：** 取消注释以下单元格以重启内核，或使用按钮重启内核。对于 Vertex AI Workbench，您可以使用顶部的按钮重启终端。"
      ]
    },
    {
      "cell_type": "code",
      "execution_count": null,
      "id": "v6jBDnYnNM08",
      "metadata": {
        "id": "v6jBDnYnNM08"
      },
      "outputs": [],
      "source": [
        "# # Automatically restart kernel after installs so that your environment can access the new packages\n",
        "# import IPython\n",
        "\n",
        "# app = IPython.Application.instance()\n",
        "# app.kernel.do_shutdown(True)"
      ]
    },
    {
      "cell_type": "markdown",
      "id": "yygMe6rPWxHS",
      "metadata": {
        "id": "yygMe6rPWxHS"
      },
      "source": [
        "### 🔐 身份验证\n使用此笔记本登录的 IAM 用户身份验证到 Google Cloud，以访问您的 Google Cloud 项目。\n\n* 如果您正在使用 Colab 运行此笔记本，请使用下面的单元格并继续。\n* 如果您正在使用 Vertex AI Workbench，请在此处查看设置说明：[https://github.com/GoogleCloudPlatform/generative-ai/tree/main/setup-env](https://github.com/GoogleCloudPlatform/generative-ai/tree/main/setup-env)。"
      ]
    },
    {
      "cell_type": "code",
      "execution_count": 1,
      "id": "PTXN1_DSXj2b",
      "metadata": {
        "id": "PTXN1_DSXj2b"
      },
      "outputs": [],
      "source": [
        "from google.colab import auth\n",
        "\n",
        "auth.authenticate_user()"
      ]
    },
    {
      "cell_type": "markdown",
      "id": "NEvB9BoLEulY",
      "metadata": {
        "id": "NEvB9BoLEulY"
      },
      "source": [
        "### ☁ 设置您的 Google Cloud 项目\n设置您的 Google Cloud 项目，以便在此 notebook 中利用 Google Cloud 资源。\n\n如果您不知道您的项目 ID，可以尝试以下方法：\n\n* 运行 `gcloud config list`。\n* 运行 `gcloud projects list`。\n* 查看支持页面：[查找项目 ID](https://support.google.com/googleapi/answer/7014113)。"
      ]
    },
    {
      "cell_type": "code",
      "execution_count": null,
      "id": "gfkS3yVRE4_W",
      "metadata": {
        "cellView": "form",
        "id": "gfkS3yVRE4_W"
      },
      "outputs": [],
      "source": [
        "# @markdown Please fill in the value below with your Google Cloud project ID and then run the cell.\n",
        "\n",
        "PROJECT_ID = \"my-project-id\"  # @param {type:\"string\"}\n",
        "\n",
        "# Set the project id\n",
        "!gcloud config set project {PROJECT_ID}"
      ]
    },
    {
      "cell_type": "markdown",
      "id": "rEWWNoNnKOgq",
      "metadata": {
        "id": "rEWWNoNnKOgq"
      },
      "source": [
        "### 💡 API 启用\n`langchain-google-cloud-sql-pg` 包要求您在 Google Cloud 项目中[启用 Cloud SQL Admin API](https://console.cloud.google.com/flows/enableapi?apiid=sqladmin.googleapis.com)。"
      ]
    },
    {
      "cell_type": "code",
      "execution_count": 3,
      "id": "5utKIdq7KYi5",
      "metadata": {
        "id": "5utKIdq7KYi5"
      },
      "outputs": [],
      "source": [
        "# enable Cloud SQL Admin API\n",
        "!gcloud services enable sqladmin.googleapis.com"
      ]
    },
    {
      "cell_type": "markdown",
      "id": "f8f2830ee9ca1e01",
      "metadata": {
        "id": "f8f2830ee9ca1e01"
      },
      "source": [
        "## 基本用法"
      ]
    },
    {
      "cell_type": "markdown",
      "id": "OMvzMWRrR6n7",
      "metadata": {
        "id": "OMvzMWRrR6n7"
      },
      "source": [
        "### 设置 Cloud SQL 数据库值\n在 [Cloud SQL 实例页面](https://console.cloud.google.com/sql?_ga=2.223735448.2062268965.1707700487-2088871159.1707257687) 中查找您的数据库值。"
      ]
    },
    {
      "cell_type": "code",
      "execution_count": 4,
      "id": "irl7eMFnSPZr",
      "metadata": {
        "id": "irl7eMFnSPZr"
      },
      "outputs": [],
      "source": [
        "# @title Set Your Values Here { display-mode: \"form\" }\n",
        "REGION = \"us-central1\"  # @param {type: \"string\"}\n",
        "INSTANCE = \"my-postgresql-instance\"  # @param {type: \"string\"}\n",
        "DATABASE = \"my-database\"  # @param {type: \"string\"}\n",
        "TABLE_NAME = \"message_store\"  # @param {type: \"string\"}"
      ]
    },
    {
      "cell_type": "markdown",
      "id": "QuQigs4UoFQ2",
      "metadata": {
        "id": "QuQigs4UoFQ2"
      },
      "source": [
        "### PostgresEngine 连接池\n\n将 Cloud SQL 建立为 ChatMessageHistory 内存存储的要求和论据之一是 `PostgresEngine` 对象。`PostgresEngine` 配置到 Cloud SQL 数据库的连接池，从而能够从您的应用程序成功建立连接并遵循行业最佳实践。\n\n要使用 `PostgresEngine.from_instance()` 创建 `PostgresEngine`，您只需要提供 4 项内容：\n\n1.  `project_id`：Cloud SQL 实例所在的 Google Cloud 项目的项目 ID。\n1.  `region`：Cloud SQL 实例所在的区域。\n1.  `instance`：Cloud SQL 实例的名称。\n1.  `database`：要连接到 Cloud SQL 实例上的数据库的名称。\n\n默认情况下，将使用 [IAM 数据库身份验证](https://cloud.google.com/sql/docs/postgres/iam-authentication#iam-db-auth) 作为数据库身份验证方法。此库使用属于从环境变量加载的 [应用程序默认凭据 (ADC)](https://cloud.google.com/docs/authentication/application-default-credentials) 的 IAM 主体。\n\n有关 IAM 数据库身份验证的更多信息，请参阅：\n\n*   [为 IAM 数据库身份验证配置实例](https://cloud.google.com/sql/docs/postgres/create-edit-iam-instances)\n*   [使用 IAM 数据库身份验证管理用户](https://cloud.google.com/sql/docs/postgres/add-manage-iam-users)\n\n此外，还可以选择使用 [内置数据库身份验证](https://cloud.google.com/sql/docs/postgres/built-in-authentication)，通过用户名和密码访问 Cloud SQL 数据库。只需向 `PostgresEngine.from_instance()` 提供可选的 `user` 和 `password` 参数：\n\n*   `user`：用于内置数据库身份验证和登录的数据库用户\n*   `password`：用于内置数据库身份验证和登录的数据库密码。"
      ]
    },
    {
      "cell_type": "code",
      "execution_count": 5,
      "id": "4576e914a866fb40",
      "metadata": {
        "ExecuteTime": {
          "end_time": "2023-08-28T10:04:38.077748Z",
          "start_time": "2023-08-28T10:04:36.105894Z"
        },
        "collapsed": false,
        "id": "4576e914a866fb40",
        "jupyter": {
          "outputs_hidden": false
        }
      },
      "outputs": [],
      "source": [
        "from langchain_google_cloud_sql_pg import PostgresEngine\n",
        "\n",
        "engine = PostgresEngine.from_instance(\n",
        "    project_id=PROJECT_ID, region=REGION, instance=INSTANCE, database=DATABASE\n",
        ")"
      ]
    },
    {
      "cell_type": "markdown",
      "id": "qPV8WfWr7O54",
      "metadata": {
        "id": "qPV8WfWr7O54"
      },
      "source": [
        "### 初始化表\n`PostgresChatMessageHistory` 类需要一个具有特定架构的数据库表来存储聊天消息历史记录。\n\n`PostgresEngine` 引擎有一个名为 `init_chat_history_table()` 的辅助方法，可用于为您创建具有适当架构的表。"
      ]
    },
    {
      "cell_type": "code",
      "execution_count": null,
      "id": "TEu4VHArRttE",
      "metadata": {
        "id": "TEu4VHArRttE"
      },
      "outputs": [],
      "source": [
        "engine.init_chat_history_table(table_name=TABLE_NAME)"
      ]
    },
    {
      "cell_type": "markdown",
      "id": "zSYQTYf3UfOi",
      "metadata": {
        "id": "zSYQTYf3UfOi"
      },
      "source": [
        "### PostgresChatMessageHistory\n\n要初始化 `PostgresChatMessageHistory` 类，您只需要提供 3 个内容：\n\n1. `engine` - `PostgresEngine` 引擎的实例。\n1. `session_id` - 一个唯一的标识符字符串，用于指定会话的 ID。\n1. `table_name` : 用于存储聊天消息历史的 Cloud SQL 数据库中的表名。"
      ]
    },
    {
      "cell_type": "code",
      "execution_count": 10,
      "id": "Kq7RLtfOq0wi",
      "metadata": {
        "id": "Kq7RLtfOq0wi"
      },
      "outputs": [],
      "source": [
        "from langchain_google_cloud_sql_pg import PostgresChatMessageHistory\n",
        "\n",
        "history = PostgresChatMessageHistory.create_sync(\n",
        "    engine, session_id=\"test_session\", table_name=TABLE_NAME\n",
        ")\n",
        "history.add_user_message(\"hi!\")\n",
        "history.add_ai_message(\"whats up?\")"
      ]
    },
    {
      "cell_type": "code",
      "execution_count": 11,
      "id": "b476688cbb32ba90",
      "metadata": {
        "ExecuteTime": {
          "end_time": "2023-08-28T10:04:38.929396Z",
          "start_time": "2023-08-28T10:04:38.915727Z"
        },
        "colab": {
          "base_uri": "https://localhost:8080/"
        },
        "collapsed": false,
        "id": "b476688cbb32ba90",
        "jupyter": {
          "outputs_hidden": false
        },
        "outputId": "a19e5cd8-4225-476a-d28d-e870c6b838bb"
      },
      "outputs": [
        {
          "data": {
            "text/plain": [
              "[HumanMessage(content='hi!'), AIMessage(content='whats up?')]"
            ]
          },
          "execution_count": 11,
          "metadata": {},
          "output_type": "execute_result"
        }
      ],
      "source": [
        "history.messages"
      ]
    },
    {
      "cell_type": "markdown",
      "id": "ss6CbqcTTedr",
      "metadata": {
        "id": "ss6CbqcTTedr"
      },
      "source": [
        "#### 清理\n当特定会话的历史记录已过时且可以删除时，可以按以下方式进行。\n\n**注意：** 删除后，数据将不再存储在 Cloud SQL 中，并且将永久丢失。"
      ]
    },
    {
      "cell_type": "code",
      "execution_count": 12,
      "id": "3khxzFxYO7x6",
      "metadata": {
        "id": "3khxzFxYO7x6"
      },
      "outputs": [],
      "source": [
        "history.clear()"
      ]
    },
    {
      "cell_type": "markdown",
      "id": "2e5337719d5614fd",
      "metadata": {
        "id": "2e5337719d5614fd"
      },
      "source": [
        "## 🔗 链式调用\n\n我们可以轻松地将此消息历史记录类与 [LCEL Runnable](/docs/how_to/message_history) 结合使用\n\n为此，我们将使用 [Google 的 Vertex AI 聊天模型之一](/docs/integrations/chat/google_vertex_ai_palm)，这需要你在 Google Cloud 项目中[启用 Vertex AI API](https://console.cloud.google.com/flows/enableapi?apiid=aiplatform.googleapis.com)。"
      ]
    },
    {
      "cell_type": "code",
      "execution_count": 13,
      "id": "hYtHM3-TOMCe",
      "metadata": {
        "id": "hYtHM3-TOMCe"
      },
      "outputs": [],
      "source": [
        "# enable Vertex AI API\n",
        "!gcloud services enable aiplatform.googleapis.com"
      ]
    },
    {
      "cell_type": "code",
      "execution_count": 14,
      "id": "6558418b-0ece-4d01-9661-56d562d78f7a",
      "metadata": {
        "id": "6558418b-0ece-4d01-9661-56d562d78f7a"
      },
      "outputs": [],
      "source": [
        "from langchain_core.prompts import ChatPromptTemplate, MessagesPlaceholder\n",
        "from langchain_core.runnables.history import RunnableWithMessageHistory\n",
        "from langchain_google_vertexai import ChatVertexAI"
      ]
    },
    {
      "cell_type": "code",
      "execution_count": 15,
      "id": "82149122-61d3-490d-9bdb-bb98606e8ba1",
      "metadata": {
        "id": "82149122-61d3-490d-9bdb-bb98606e8ba1"
      },
      "outputs": [],
      "source": [
        "prompt = ChatPromptTemplate.from_messages(\n",
        "    [\n",
        "        (\"system\", \"You are a helpful assistant.\"),\n",
        "        MessagesPlaceholder(variable_name=\"history\"),\n",
        "        (\"human\", \"{question}\"),\n",
        "    ]\n",
        ")\n",
        "\n",
        "chain = prompt | ChatVertexAI(project=PROJECT_ID)"
      ]
    },
    {
      "cell_type": "code",
      "execution_count": 16,
      "id": "2df90853-b67c-490f-b7f8-b69d69270b9c",
      "metadata": {
        "id": "2df90853-b67c-490f-b7f8-b69d69270b9c"
      },
      "outputs": [],
      "source": [
        "chain_with_history = RunnableWithMessageHistory(\n",
        "    chain,\n",
        "    lambda session_id: PostgresChatMessageHistory.create_sync(\n",
        "        engine,\n",
        "        session_id=session_id,\n",
        "        table_name=TABLE_NAME,\n",
        "    ),\n",
        "    input_messages_key=\"question\",\n",
        "    history_messages_key=\"history\",\n",
        ")"
      ]
    },
    {
      "cell_type": "code",
      "execution_count": 17,
      "id": "0ce596b8-3b78-48fd-9f92-46dccbbfd58b",
      "metadata": {
        "id": "0ce596b8-3b78-48fd-9f92-46dccbbfd58b"
      },
      "outputs": [],
      "source": [
        "# This is where we configure the session id\n",
        "config = {\"configurable\": {\"session_id\": \"test_session\"}}"
      ]
    },
    {
      "cell_type": "code",
      "execution_count": 18,
      "id": "38e1423b-ba86-4496-9151-25932fab1a8b",
      "metadata": {
        "colab": {
          "base_uri": "https://localhost:8080/"
        },
        "id": "38e1423b-ba86-4496-9151-25932fab1a8b",
        "outputId": "d5c93570-4b0b-4fe8-d19c-4b361fe74291"
      },
      "outputs": [
        {
          "data": {
            "text/plain": [
              "AIMessage(content=' Hello Bob, how can I help you today?')"
            ]
          },
          "execution_count": 18,
          "metadata": {},
          "output_type": "execute_result"
        }
      ],
      "source": [
        "chain_with_history.invoke({\"question\": \"Hi! I'm bob\"}, config=config)"
      ]
    },
    {
      "cell_type": "code",
      "execution_count": 19,
      "id": "2ee4ee62-a216-4fb1-bf33-57476a84cf16",
      "metadata": {
        "colab": {
          "base_uri": "https://localhost:8080/"
        },
        "id": "2ee4ee62-a216-4fb1-bf33-57476a84cf16",
        "outputId": "288fe388-3f60-41b8-8edb-37cfbec18981"
      },
      "outputs": [
        {
          "data": {
            "text/plain": [
              "AIMessage(content=' Your name is Bob.')"
            ]
          },
          "execution_count": 19,
          "metadata": {},
          "output_type": "execute_result"
        }
      ],
      "source": [
        "chain_with_history.invoke({\"question\": \"Whats my name\"}, config=config)"
      ]
    }
  ],
  "metadata": {
    "colab": {
      "provenance": [],
      "toc_visible": true
    },
    "kernelspec": {
      "display_name": "Python 3 (ipykernel)",
      "language": "python",
      "name": "python3"
    },
    "language_info": {
      "codemirror_mode": {
        "name": "ipython",
        "version": 3
      },
      "file_extension": ".py",
      "mimetype": "text/x-python",
      "name": "python",
      "nbconvert_exporter": "python",
      "pygments_lexer": "ipython3",
      "version": "3.10.12"
    }
  },
  "nbformat": 4,
  "nbformat_minor": 5
}