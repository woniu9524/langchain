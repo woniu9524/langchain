{
  "cells": [
    {
      "cell_type": "markdown",
      "id": "f22eab3f84cbeb37",
      "metadata": {
        "id": "f22eab3f84cbeb37"
      },
      "source": [
        "# Google SQL for SQL Server\n\n> [Google Cloud SQL](https://cloud.google.com/sql) 是一项完全托管的关系数据库服务，具有高性能、无缝集成和出色的可扩展性。它提供 `MySQL`、`PostgreSQL` 和 `SQL Server` 数据库引擎。利用 Cloud SQL 的 Langchain 集成，扩展您的数据库应用程序以构建支持 AI 的体验。\n\n本笔记本将介绍如何使用 `Google Cloud SQL for SQL Server` 类来存储聊天消息历史记录。\n\n在 [GitHub](https://github.com/googleapis/langchain-google-cloud-sql-mssql-python/) 上了解更多关于该软件包的信息。\n\n[![Open In Colab](https://colab.research.google.com/assets/colab-badge.svg)](https://colab.research.google.com/github/googleapis/langchain-google-cloud-sql-mssql-python/blob/main/docs/chat_message_history.ipynb)"
      ]
    },
    {
      "cell_type": "markdown",
      "id": "da400c79-a360-43e2-be60-401fd02b2819",
      "metadata": {
        "id": "da400c79-a360-43e2-be60-401fd02b2819"
      },
      "source": [
        "## 开始之前\n\n要运行此Notebook，您需要执行以下操作：\n\n*   [创建 Google Cloud 项目](https://developers.google.com/workspace/guides/create-project)\n*   [启用 Cloud SQL Admin API。](https://console.cloud.google.com/marketplace/product/google/sqladmin.googleapis.com)\n*   [创建 Cloud SQL for SQL Server 实例](https://cloud.google.com/sql/docs/sqlserver/create-instance)\n*   [创建 Cloud SQL 数据库](https://cloud.google.com/sql/docs/sqlserver/create-manage-databases)\n*   [创建数据库用户](https://cloud.google.com/sql/docs/sqlserver/create-manage-users)（如果您选择使用 `sqlserver` 用户，则此步骤为可选）"
      ]
    },
    {
      "cell_type": "markdown",
      "id": "Mm7-fG_LltD7",
      "metadata": {
        "id": "Mm7-fG_LltD7"
      },
      "source": [
        "### 🦜🔗 库安装\n集成 resides in its own `langchain-google-cloud-sql-mssql` package, so we need to install it."
      ]
    },
    {
      "cell_type": "code",
      "execution_count": null,
      "id": "1VELXvcj8AId",
      "metadata": {
        "id": "1VELXvcj8AId"
      },
      "outputs": [],
      "source": [
        "%pip install --upgrade --quiet langchain-google-cloud-sql-mssql langchain-google-vertexai"
      ]
    },
    {
      "cell_type": "markdown",
      "id": "98TVoM3MNDHu",
      "metadata": {
        "id": "98TVoM3MNDHu"
      },
      "source": [
        "**仅限 Colab：** 取消注释以下单元格以重新启动内核，或使用按钮重新启动内核。对于 Vertex AI Workbench，您可以使用顶部的按钮重启终端。"
      ]
    },
    {
      "cell_type": "code",
      "execution_count": null,
      "id": "v6jBDnYnNM08",
      "metadata": {
        "id": "v6jBDnYnNM08"
      },
      "outputs": [],
      "source": [
        "# # Automatically restart kernel after installs so that your environment can access the new packages\n",
        "# import IPython\n",
        "\n",
        "# app = IPython.Application.instance()\n",
        "# app.kernel.do_shutdown(True)"
      ]
    },
    {
      "cell_type": "markdown",
      "id": "yygMe6rPWxHS",
      "metadata": {
        "id": "yygMe6rPWxHS"
      },
      "source": [
        "### 🔐 身份验证\n请登录到 Google Cloud，使用当前笔记本中登录的 IAM 用户来访问您的 Google Cloud 项目。\n\n* 如果您正在使用 Colab 运行此笔记本，请使用下面的单元格并继续。\n* 如果您正在使用 Vertex AI Workbench，请查看此处的设置说明：[here](https://github.com/GoogleCloudPlatform/generative-ai/tree/main/setup-env)。"
      ]
    },
    {
      "cell_type": "code",
      "execution_count": 1,
      "id": "PTXN1_DSXj2b",
      "metadata": {
        "id": "PTXN1_DSXj2b"
      },
      "outputs": [],
      "source": [
        "from google.colab import auth\n",
        "\n",
        "auth.authenticate_user()"
      ]
    },
    {
      "cell_type": "markdown",
      "id": "NEvB9BoLEulY",
      "metadata": {
        "id": "NEvB9BoLEulY"
      },
      "source": [
        "### ☁ 设置您的 Google Cloud 项目\n\n设置您的 Google Cloud 项目，以便在本笔记本中利用 Google Cloud 资源。\n\n如果您不知道您的项目 ID，可以尝试以下方法：\n\n* 运行 `gcloud config list`。\n* 运行 `gcloud projects list`。\n* 查看支持页面：[查找项目 ID](https://support.google.com/googleapi/answer/7014113)。"
      ]
    },
    {
      "cell_type": "code",
      "execution_count": null,
      "id": "gfkS3yVRE4_W",
      "metadata": {
        "cellView": "form",
        "id": "gfkS3yVRE4_W"
      },
      "outputs": [],
      "source": [
        "# @markdown Please fill in the value below with your Google Cloud project ID and then run the cell.\n",
        "\n",
        "PROJECT_ID = \"my-project-id\"  # @param {type:\"string\"}\n",
        "\n",
        "# Set the project id\n",
        "!gcloud config set project {PROJECT_ID}"
      ]
    },
    {
      "cell_type": "markdown",
      "id": "rEWWNoNnKOgq",
      "metadata": {
        "id": "rEWWNoNnKOgq"
      },
      "source": [
        "### 💡 API 启用\n`langchain-google-cloud-sql-mssql` 包要求您在 Google Cloud 项目中启用 [Cloud SQL Admin API](https://console.cloud.google.com/flows/enableapi?apiid=sqladmin.googleapis.com)。"
      ]
    },
    {
      "cell_type": "code",
      "execution_count": 3,
      "id": "5utKIdq7KYi5",
      "metadata": {
        "id": "5utKIdq7KYi5"
      },
      "outputs": [],
      "source": [
        "# enable Cloud SQL Admin API\n",
        "!gcloud services enable sqladmin.googleapis.com"
      ]
    },
    {
      "cell_type": "markdown",
      "id": "f8f2830ee9ca1e01",
      "metadata": {
        "id": "f8f2830ee9ca1e01"
      },
      "source": [
        "## 基本用法"
      ]
    },
    {
      "cell_type": "markdown",
      "id": "OMvzMWRrR6n7",
      "metadata": {
        "id": "OMvzMWRrR6n7"
      },
      "source": [
        "### 设置 Cloud SQL 数据库值\n在 [Cloud SQL 实例页面](https://console.cloud.google.com/sql?_ga=2.223735448.2062268965.1707700487-2088871159.1707257687) 中查找您的数据库值。"
      ]
    },
    {
      "cell_type": "code",
      "execution_count": 4,
      "id": "irl7eMFnSPZr",
      "metadata": {
        "id": "irl7eMFnSPZr"
      },
      "outputs": [],
      "source": [
        "# @title Set Your Values Here { display-mode: \"form\" }\n",
        "REGION = \"us-central1\"  # @param {type: \"string\"}\n",
        "INSTANCE = \"my-mssql-instance\"  # @param {type: \"string\"}\n",
        "DATABASE = \"my-database\"  # @param {type: \"string\"}\n",
        "DB_USER = \"my-username\"  # @param {type: \"string\"}\n",
        "DB_PASS = \"my-password\"  # @param {type: \"string\"}\n",
        "TABLE_NAME = \"message_store\"  # @param {type: \"string\"}"
      ]
    },
    {
      "cell_type": "markdown",
      "id": "QuQigs4UoFQ2",
      "metadata": {
        "id": "QuQigs4UoFQ2"
      },
      "source": [
        "### MSSQLEngine 连接池\n\n将 Cloud SQL 设置为 ChatMessageHistory 内存存储的要求和参数之一是 `MSSQLEngine` 对象。`MSSQLEngine` 配置连接池到您的 Cloud SQL 数据库，从而实现您应用程序的成功连接并遵循行业最佳实践。\n\n要使用 `MSSQLEngine.from_instance()` 创建 `MSSQLEngine`，您只需要提供 6 个项：\n\n1. `project_id`：Cloud SQL 实例所在的 Google Cloud 项目的项目 ID。\n1. `region`：Cloud SQL 实例所在的区域。\n1. `instance`：Cloud SQL 实例的名称。\n1. `database`：要连接到 Cloud SQL 实例上的数据库的名称。\n1. `user`：用于内置数据库身份验证和登录的数据库用户。\n1. `password`：用于内置数据库身份验证和登录的数据库密码。\n\n默认情况下，将使用[内置数据库身份验证](https://cloud.google.com/sql/docs/sqlserver/users)（使用用户名和密码访问 Cloud SQL 数据库）来进行数据库身份验证。"
      ]
    },
    {
      "cell_type": "code",
      "execution_count": 5,
      "id": "4576e914a866fb40",
      "metadata": {
        "ExecuteTime": {
          "end_time": "2023-08-28T10:04:38.077748Z",
          "start_time": "2023-08-28T10:04:36.105894Z"
        },
        "collapsed": false,
        "id": "4576e914a866fb40",
        "jupyter": {
          "outputs_hidden": false
        }
      },
      "outputs": [],
      "source": [
        "from langchain_google_cloud_sql_mssql import MSSQLEngine\n",
        "\n",
        "engine = MSSQLEngine.from_instance(\n",
        "    project_id=PROJECT_ID,\n",
        "    region=REGION,\n",
        "    instance=INSTANCE,\n",
        "    database=DATABASE,\n",
        "    user=DB_USER,\n",
        "    password=DB_PASS,\n",
        ")"
      ]
    },
    {
      "cell_type": "markdown",
      "id": "qPV8WfWr7O54",
      "metadata": {
        "id": "qPV8WfWr7O54"
      },
      "source": [
        "### 初始化表\n\n`MSSQLChatMessageHistory` 类需要一个具有特定架构的数据库表来存储聊天消息历史记录。\n\n`MSSQLEngine` 引擎有一个名为 `init_chat_history_table()` 的辅助方法，您可以使用它来为您创建具有适当架构的表。"
      ]
    },
    {
      "cell_type": "code",
      "execution_count": null,
      "id": "TEu4VHArRttE",
      "metadata": {
        "id": "TEu4VHArRttE"
      },
      "outputs": [],
      "source": [
        "engine.init_chat_history_table(table_name=TABLE_NAME)"
      ]
    },
    {
      "cell_type": "markdown",
      "id": "zSYQTYf3UfOi",
      "metadata": {
        "id": "zSYQTYf3UfOi"
      },
      "source": [
        "### MSSQLChatMessageHistory\n\n要初始化 `MSSQLChatMessageHistory` 类，您只需要提供三样东西：\n\n1. `engine` - `MSSQLEngine` 引擎的实例。\n1. `session_id` - 一个唯一的标识符字符串，用于指定会话 ID。\n1. `table_name` : Cloud SQL 数据库中用于存储聊天消息历史的表的名称。"
      ]
    },
    {
      "cell_type": "code",
      "execution_count": 7,
      "id": "Kq7RLtfOq0wi",
      "metadata": {
        "id": "Kq7RLtfOq0wi"
      },
      "outputs": [],
      "source": [
        "from langchain_google_cloud_sql_mssql import MSSQLChatMessageHistory\n",
        "\n",
        "history = MSSQLChatMessageHistory(\n",
        "    engine, session_id=\"test_session\", table_name=TABLE_NAME\n",
        ")\n",
        "history.add_user_message(\"hi!\")\n",
        "history.add_ai_message(\"whats up?\")"
      ]
    },
    {
      "cell_type": "code",
      "execution_count": 8,
      "id": "b476688cbb32ba90",
      "metadata": {
        "ExecuteTime": {
          "end_time": "2023-08-28T10:04:38.929396Z",
          "start_time": "2023-08-28T10:04:38.915727Z"
        },
        "colab": {
          "base_uri": "https://localhost:8080/"
        },
        "collapsed": false,
        "id": "b476688cbb32ba90",
        "jupyter": {
          "outputs_hidden": false
        },
        "outputId": "f8c170e8-ea9d-4905-a9f4-bc83f9726ac5"
      },
      "outputs": [
        {
          "data": {
            "text/plain": [
              "[HumanMessage(content='hi!'), AIMessage(content='whats up?')]"
            ]
          },
          "execution_count": 8,
          "metadata": {},
          "output_type": "execute_result"
        }
      ],
      "source": [
        "history.messages"
      ]
    },
    {
      "cell_type": "markdown",
      "id": "ss6CbqcTTedr",
      "metadata": {
        "id": "ss6CbqcTTedr"
      },
      "source": [
        "#### 清理\n当特定会话的历史记录已过时且可以删除时，可以通过以下方式进行。\n\n**注意：** 删除后，数据将不再存储在 Cloud SQL 中，并且将永久消失。"
      ]
    },
    {
      "cell_type": "code",
      "execution_count": 9,
      "id": "3khxzFxYO7x6",
      "metadata": {
        "id": "3khxzFxYO7x6"
      },
      "outputs": [],
      "source": [
        "history.clear()"
      ]
    },
    {
      "cell_type": "markdown",
      "id": "2e5337719d5614fd",
      "metadata": {
        "id": "2e5337719d5614fd"
      },
      "source": [
        "## 🔗 链式调用\n\n我们可以轻松地将此消息历史类与 [LCEL Runnables](/docs/how_to/message_history) 结合使用\n\n为此，我们将使用 [Google 的 Vertex AI 聊天模型](/docs/integrations/chat/google_vertex_ai_palm) 之一，该模型要求您在 Google Cloud 项目中 [启用 Vertex AI API](https://console.cloud.google.com/flows/enableapi?apiid=aiplatform.googleapis.com)。"
      ]
    },
    {
      "cell_type": "code",
      "execution_count": null,
      "id": "hYtHM3-TOMCe",
      "metadata": {
        "id": "hYtHM3-TOMCe"
      },
      "outputs": [],
      "source": [
        "# enable Vertex AI API\n",
        "!gcloud services enable aiplatform.googleapis.com"
      ]
    },
    {
      "cell_type": "code",
      "execution_count": 10,
      "id": "6558418b-0ece-4d01-9661-56d562d78f7a",
      "metadata": {
        "id": "6558418b-0ece-4d01-9661-56d562d78f7a"
      },
      "outputs": [],
      "source": [
        "from langchain_core.prompts import ChatPromptTemplate, MessagesPlaceholder\n",
        "from langchain_core.runnables.history import RunnableWithMessageHistory\n",
        "from langchain_google_vertexai import ChatVertexAI"
      ]
    },
    {
      "cell_type": "code",
      "execution_count": 11,
      "id": "82149122-61d3-490d-9bdb-bb98606e8ba1",
      "metadata": {
        "id": "82149122-61d3-490d-9bdb-bb98606e8ba1"
      },
      "outputs": [],
      "source": [
        "prompt = ChatPromptTemplate.from_messages(\n",
        "    [\n",
        "        (\"system\", \"You are a helpful assistant.\"),\n",
        "        MessagesPlaceholder(variable_name=\"history\"),\n",
        "        (\"human\", \"{question}\"),\n",
        "    ]\n",
        ")\n",
        "\n",
        "chain = prompt | ChatVertexAI(project=PROJECT_ID)"
      ]
    },
    {
      "cell_type": "code",
      "execution_count": 12,
      "id": "2df90853-b67c-490f-b7f8-b69d69270b9c",
      "metadata": {
        "id": "2df90853-b67c-490f-b7f8-b69d69270b9c"
      },
      "outputs": [],
      "source": [
        "chain_with_history = RunnableWithMessageHistory(\n",
        "    chain,\n",
        "    lambda session_id: MSSQLChatMessageHistory(\n",
        "        engine,\n",
        "        session_id=session_id,\n",
        "        table_name=TABLE_NAME,\n",
        "    ),\n",
        "    input_messages_key=\"question\",\n",
        "    history_messages_key=\"history\",\n",
        ")"
      ]
    },
    {
      "cell_type": "code",
      "execution_count": 13,
      "id": "0ce596b8-3b78-48fd-9f92-46dccbbfd58b",
      "metadata": {
        "id": "0ce596b8-3b78-48fd-9f92-46dccbbfd58b"
      },
      "outputs": [],
      "source": [
        "# This is where we configure the session id\n",
        "config = {\"configurable\": {\"session_id\": \"test_session\"}}"
      ]
    },
    {
      "cell_type": "code",
      "execution_count": 14,
      "id": "38e1423b-ba86-4496-9151-25932fab1a8b",
      "metadata": {
        "colab": {
          "base_uri": "https://localhost:8080/"
        },
        "id": "38e1423b-ba86-4496-9151-25932fab1a8b",
        "outputId": "750fcff4-6374-4978-defd-e30ee9bce05f"
      },
      "outputs": [
        {
          "data": {
            "text/plain": [
              "AIMessage(content=' Hello Bob, how can I help you today?')"
            ]
          },
          "execution_count": 14,
          "metadata": {},
          "output_type": "execute_result"
        }
      ],
      "source": [
        "chain_with_history.invoke({\"question\": \"Hi! I'm bob\"}, config=config)"
      ]
    },
    {
      "cell_type": "code",
      "execution_count": 15,
      "id": "2ee4ee62-a216-4fb1-bf33-57476a84cf16",
      "metadata": {
        "colab": {
          "base_uri": "https://localhost:8080/"
        },
        "id": "2ee4ee62-a216-4fb1-bf33-57476a84cf16",
        "outputId": "01fdc638-81f3-4350-edb4-7609c586d3a7"
      },
      "outputs": [
        {
          "data": {
            "text/plain": [
              "AIMessage(content=' Your name is Bob.')"
            ]
          },
          "execution_count": 15,
          "metadata": {},
          "output_type": "execute_result"
        }
      ],
      "source": [
        "chain_with_history.invoke({\"question\": \"Whats my name\"}, config=config)"
      ]
    }
  ],
  "metadata": {
    "colab": {
      "provenance": [],
      "toc_visible": true
    },
    "kernelspec": {
      "display_name": "Python 3 (ipykernel)",
      "language": "python",
      "name": "python3"
    },
    "language_info": {
      "codemirror_mode": {
        "name": "ipython",
        "version": 3
      },
      "file_extension": ".py",
      "mimetype": "text/x-python",
      "name": "python",
      "nbconvert_exporter": "python",
      "pygments_lexer": "ipython3",
      "version": "3.10.12"
    }
  },
  "nbformat": 4,
  "nbformat_minor": 5
}