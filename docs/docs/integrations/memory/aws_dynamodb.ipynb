{
  "cells": [
    {
      "cell_type": "markdown",
      "id": "91c6a7ef",
      "metadata": {},
      "source": [
        "# AWS DynamoDB\n\n>[Amazon AWS DynamoDB](https://awscli.amazonaws.com/v2/documentation/api/latest/reference/dynamodb/index.html) 是一个完全托管的 `NoSQL` 数据库服务，可提供快速且可预测的性能以及无缝的可扩展性。\n\n本笔记本将介绍如何使用 `DynamoDB` 通过 `DynamoDBChatMessageHistory` 类存储聊天消息历史记录。"
      ]
    },
    {
      "cell_type": "markdown",
      "id": "9bcbd170",
      "metadata": {},
      "source": [
        "## 设置\n\n首先，请确保您已正确配置 [AWS CLI](https://docs.aws.amazon.com/cli/latest/userguide/cli-chap-configure.html)。然后，请确保您已安装 `langchain-community` 包，我们需要安装它。同时，我们还需要安装 `boto3` 包。\n\n```bash\npip install -U langchain-community boto3\n```"
      ]
    },
    {
      "cell_type": "markdown",
      "id": "fdec429d",
      "metadata": {},
      "source": [
        "在 LangSmith 上设置好 LangSmith（https://smith.langchain.com/）以获得一流的可观测性也是有益的（但并非必需）。"
      ]
    },
    {
      "cell_type": "code",
      "execution_count": null,
      "id": "47d3f725",
      "metadata": {},
      "outputs": [],
      "source": [
        "# os.environ[\"LANGSMITH_TRACING\"] = \"true\"\n",
        "# os.environ[\"LANGSMITH_API_KEY\"] = getpass.getpass()"
      ]
    },
    {
      "cell_type": "code",
      "execution_count": null,
      "id": "0c68f434-0ccf-49a4-8313-e9f6064086a8",
      "metadata": {},
      "outputs": [],
      "source": [
        "from langchain_community.chat_message_histories import (\n",
        "    DynamoDBChatMessageHistory,\n",
        ")"
      ]
    },
    {
      "cell_type": "markdown",
      "id": "030d784f",
      "metadata": {},
      "source": [
        "## 创建表\n\n现在，创建我们将用于存储消息的 `DynamoDB` 表："
      ]
    },
    {
      "cell_type": "code",
      "execution_count": 10,
      "id": "93ce1811",
      "metadata": {},
      "outputs": [
        {
          "name": "stdout",
          "output_type": "stream",
          "text": [
            "0\n"
          ]
        }
      ],
      "source": [
        "import boto3\n",
        "\n",
        "# Get the service resource.\n",
        "dynamodb = boto3.resource(\"dynamodb\")\n",
        "\n",
        "# Create the DynamoDB table.\n",
        "table = dynamodb.create_table(\n",
        "    TableName=\"SessionTable\",\n",
        "    KeySchema=[{\"AttributeName\": \"SessionId\", \"KeyType\": \"HASH\"}],\n",
        "    AttributeDefinitions=[{\"AttributeName\": \"SessionId\", \"AttributeType\": \"S\"}],\n",
        "    BillingMode=\"PAY_PER_REQUEST\",\n",
        ")\n",
        "\n",
        "# Wait until the table exists.\n",
        "table.meta.client.get_waiter(\"table_exists\").wait(TableName=\"SessionTable\")\n",
        "\n",
        "# Print out some data about the table.\n",
        "print(table.item_count)"
      ]
    },
    {
      "cell_type": "markdown",
      "id": "1a9b310b",
      "metadata": {},
      "source": [
        "## DynamoDBChatMessageHistory"
      ]
    },
    {
      "cell_type": "code",
      "execution_count": 11,
      "id": "d15e3302",
      "metadata": {},
      "outputs": [],
      "source": [
        "history = DynamoDBChatMessageHistory(table_name=\"SessionTable\", session_id=\"0\")\n",
        "\n",
        "history.add_user_message(\"hi!\")\n",
        "\n",
        "history.add_ai_message(\"whats up?\")"
      ]
    },
    {
      "cell_type": "code",
      "execution_count": 5,
      "id": "64fc465e",
      "metadata": {},
      "outputs": [
        {
          "data": {
            "text/plain": [
              "[HumanMessage(content='hi!'), AIMessage(content='whats up?')]"
            ]
          },
          "execution_count": 5,
          "metadata": {},
          "output_type": "execute_result"
        }
      ],
      "source": [
        "history.messages"
      ]
    },
    {
      "cell_type": "markdown",
      "id": "955f1b15",
      "metadata": {},
      "source": [
        "## DynamoDBChatMessageHistory：自定义端点 URL\n\n有时指定连接到 AWS 端点的 URL 会非常有用。例如，当您在本地环境中运行，并通过 [Localstack](https://localstack.cloud/) 连接时。在这些情况下，您可以通过构造函数中的 `endpoint_url` 参数来指定 URL。"
      ]
    },
    {
      "cell_type": "code",
      "execution_count": 13,
      "id": "225713c8",
      "metadata": {},
      "outputs": [],
      "source": [
        "history = DynamoDBChatMessageHistory(\n",
        "    table_name=\"SessionTable\",\n",
        "    session_id=\"0\",\n",
        "    endpoint_url=\"http://localhost.localstack.cloud:4566\",\n",
        ")"
      ]
    },
    {
      "cell_type": "markdown",
      "id": "97f8578a",
      "metadata": {},
      "source": [
        "## DynamoDBChatMessageHistory 配合复合主键\nDynamoDBChatMessageHistory 的默认键是 ```{\"SessionId\": self.session_id}```，但您可以修改它以匹配您的表设计。\n\n### 主键名称\n您可以通过在构造函数中传入 `primary_key_name` 值来修改主键，从而得到以下结果：\n```{self.primary_key_name: self.session_id}```\n\n### 复合主键\n当使用现有的 DynamoDB 表时，您可能需要将键结构从默认值修改为包含排序键的内容。为此，您可以使用 `key` 参数。\n\n传递 `key` 参数的值将覆盖 `primary_key` 参数，由此产生的键结构将是传递的值。"
      ]
    },
    {
      "cell_type": "code",
      "execution_count": 14,
      "id": "088c037c",
      "metadata": {
        "collapsed": false,
        "jupyter": {
          "outputs_hidden": false
        }
      },
      "outputs": [
        {
          "name": "stdout",
          "output_type": "stream",
          "text": [
            "0\n"
          ]
        }
      ],
      "source": [
        "composite_table = dynamodb.create_table(\n",
        "    TableName=\"CompositeTable\",\n",
        "    KeySchema=[\n",
        "        {\"AttributeName\": \"PK\", \"KeyType\": \"HASH\"},\n",
        "        {\"AttributeName\": \"SK\", \"KeyType\": \"RANGE\"},\n",
        "    ],\n",
        "    AttributeDefinitions=[\n",
        "        {\"AttributeName\": \"PK\", \"AttributeType\": \"S\"},\n",
        "        {\"AttributeName\": \"SK\", \"AttributeType\": \"S\"},\n",
        "    ],\n",
        "    BillingMode=\"PAY_PER_REQUEST\",\n",
        ")\n",
        "\n",
        "# Wait until the table exists.\n",
        "composite_table.meta.client.get_waiter(\"table_exists\").wait(TableName=\"CompositeTable\")\n",
        "\n",
        "# Print out some data about the table.\n",
        "print(composite_table.item_count)"
      ]
    },
    {
      "cell_type": "code",
      "execution_count": 8,
      "id": "f462660f",
      "metadata": {},
      "outputs": [
        {
          "data": {
            "text/plain": [
              "[HumanMessage(content='hello, composite dynamodb table!')]"
            ]
          },
          "execution_count": 8,
          "metadata": {},
          "output_type": "execute_result"
        }
      ],
      "source": [
        "my_key = {\n",
        "    \"PK\": \"session_id::0\",\n",
        "    \"SK\": \"langchain_history\",\n",
        "}\n",
        "\n",
        "composite_key_history = DynamoDBChatMessageHistory(\n",
        "    table_name=\"CompositeTable\",\n",
        "    session_id=\"0\",\n",
        "    endpoint_url=\"http://localhost.localstack.cloud:4566\",\n",
        "    key=my_key,\n",
        ")\n",
        "\n",
        "composite_key_history.add_user_message(\"hello, composite dynamodb table!\")\n",
        "\n",
        "composite_key_history.messages"
      ]
    },
    {
      "cell_type": "markdown",
      "id": "131e42d2",
      "metadata": {},
      "source": [
        "## 链式调用\n\n我们可以轻松地将此消息历史类与 [LCEL Runnables](/docs/how_to/message_history) 结合使用。\n\n为此，我们将使用 OpenAI，因此我们需要安装它。"
      ]
    },
    {
      "cell_type": "code",
      "execution_count": null,
      "id": "cbd0e91e",
      "metadata": {},
      "outputs": [],
      "source": [
        "from langchain_core.prompts import ChatPromptTemplate, MessagesPlaceholder\n",
        "from langchain_core.runnables.history import RunnableWithMessageHistory\n",
        "from langchain_openai import ChatOpenAI"
      ]
    },
    {
      "cell_type": "code",
      "execution_count": null,
      "id": "d8cecb08",
      "metadata": {},
      "outputs": [],
      "source": [
        "prompt = ChatPromptTemplate.from_messages(\n",
        "    [\n",
        "        (\"system\", \"You are a helpful assistant.\"),\n",
        "        MessagesPlaceholder(variable_name=\"history\"),\n",
        "        (\"human\", \"{question}\"),\n",
        "    ]\n",
        ")\n",
        "\n",
        "chain = prompt | ChatOpenAI()"
      ]
    },
    {
      "cell_type": "code",
      "execution_count": null,
      "id": "88ec540f",
      "metadata": {},
      "outputs": [],
      "source": [
        "chain_with_history = RunnableWithMessageHistory(\n",
        "    chain,\n",
        "    lambda session_id: DynamoDBChatMessageHistory(\n",
        "        table_name=\"SessionTable\", session_id=session_id\n",
        "    ),\n",
        "    input_messages_key=\"question\",\n",
        "    history_messages_key=\"history\",\n",
        ")"
      ]
    },
    {
      "cell_type": "code",
      "execution_count": null,
      "id": "9e9969fb",
      "metadata": {},
      "outputs": [],
      "source": [
        "# This is where we configure the session id\n",
        "config = {\"configurable\": {\"session_id\": \"<SESSION_ID>\"}}"
      ]
    },
    {
      "cell_type": "code",
      "execution_count": 9,
      "id": "eb73f547",
      "metadata": {},
      "outputs": [
        {
          "data": {
            "text/plain": [
              "AIMessage(content='Hello Bob! How can I assist you today?')"
            ]
          },
          "execution_count": 9,
          "metadata": {},
          "output_type": "execute_result"
        }
      ],
      "source": [
        "chain_with_history.invoke({\"question\": \"Hi! I'm bob\"}, config=config)"
      ]
    },
    {
      "cell_type": "code",
      "execution_count": 10,
      "id": "7daa3508",
      "metadata": {},
      "outputs": [
        {
          "data": {
            "text/plain": [
              "AIMessage(content='Your name is Bob! Is there anything specific you would like assistance with, Bob?')"
            ]
          },
          "execution_count": 10,
          "metadata": {},
          "output_type": "execute_result"
        }
      ],
      "source": [
        "chain_with_history.invoke({\"question\": \"Whats my name\"}, config=config)"
      ]
    }
  ],
  "metadata": {
    "kernelspec": {
      "display_name": "Python 3 (ipykernel)",
      "language": "python",
      "name": "python3"
    },
    "language_info": {
      "codemirror_mode": {
        "name": "ipython",
        "version": 3
      },
      "file_extension": ".py",
      "mimetype": "text/x-python",
      "name": "python",
      "nbconvert_exporter": "python",
      "pygments_lexer": "ipython3",
      "version": "3.10.12"
    }
  },
  "nbformat": 4,
  "nbformat_minor": 5
}