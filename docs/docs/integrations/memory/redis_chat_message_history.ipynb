{
  "cells": [
    {
      "cell_type": "markdown",
      "metadata": {},
      "source": [
        "# Redis 聊天消息历史\n\n>[Redis (Remote Dictionary Server)](https://en.wikipedia.org/wiki/Redis) 是一种开源的内存存储，用作分布式内存键值数据库、缓存和消息代理，并可选持久化。`Redis` 提供低延迟的读写操作。Redis 是最受欢迎的 NoSQL 数据库之一，也是整体最受欢迎的数据库之一。\n\n本笔记本演示了如何使用 `langchain-redis` 包中的 `RedisChatMessageHistory` 类，通过 Redis 存储和管理聊天消息历史。"
      ]
    },
    {
      "cell_type": "markdown",
      "metadata": {},
      "source": [
        "## 设置\n\n首先，我们需要安装所需的依赖项，并确保我们有一个正在运行的 Redis 实例。"
      ]
    },
    {
      "cell_type": "code",
      "execution_count": null,
      "metadata": {},
      "outputs": [],
      "source": [
        "%pip install -qU langchain-redis langchain-openai redis"
      ]
    },
    {
      "cell_type": "markdown",
      "metadata": {},
      "source": [
        "确保您运行着一个 Redis 服务器。您可以使用 Docker，通过以下命令启动一个：\n\n```\ndocker run -d --name redis-stack -p 6379:6379 -p 8001:8001 redis/redis-stack:latest\n```\n\n或者，根据您操作系统的说明安装并在本地运行 Redis。"
      ]
    },
    {
      "cell_type": "code",
      "execution_count": 2,
      "metadata": {},
      "outputs": [
        {
          "name": "stdout",
          "output_type": "stream",
          "text": [
            "Connecting to Redis at: redis://redis:6379\n"
          ]
        }
      ],
      "source": [
        "import os\n",
        "\n",
        "# Use the environment variable if set, otherwise default to localhost\n",
        "REDIS_URL = os.getenv(\"REDIS_URL\", \"redis://localhost:6379\")\n",
        "print(f\"Connecting to Redis at: {REDIS_URL}\")"
      ]
    },
    {
      "cell_type": "markdown",
      "metadata": {},
      "source": [
        "## 导入所需库"
      ]
    },
    {
      "cell_type": "code",
      "execution_count": 3,
      "metadata": {},
      "outputs": [],
      "source": [
        "from langchain_core.chat_history import BaseChatMessageHistory\n",
        "from langchain_core.messages import AIMessage, HumanMessage\n",
        "from langchain_core.prompts import ChatPromptTemplate, MessagesPlaceholder\n",
        "from langchain_core.runnables.history import RunnableWithMessageHistory\n",
        "from langchain_openai import ChatOpenAI\n",
        "from langchain_redis import RedisChatMessageHistory"
      ]
    },
    {
      "cell_type": "markdown",
      "metadata": {},
      "source": [
        "## RedisChatMessageHistory 的基本用法\n\nThis example demonstrates how to use `RedisChatMessageHistory` to store and"
      ]
    },
    {
      "cell_type": "code",
      "execution_count": 4,
      "metadata": {},
      "outputs": [
        {
          "name": "stdout",
          "output_type": "stream",
          "text": [
            "Chat History:\n",
            "HumanMessage: Hello, AI assistant!\n",
            "AIMessage: Hello! How can I assist you today?\n"
          ]
        }
      ],
      "source": [
        "# Initialize RedisChatMessageHistory\n",
        "history = RedisChatMessageHistory(session_id=\"user_123\", redis_url=REDIS_URL)\n",
        "\n",
        "# Add messages to the history\n",
        "history.add_user_message(\"Hello, AI assistant!\")\n",
        "history.add_ai_message(\"Hello! How can I assist you today?\")\n",
        "\n",
        "# Retrieve messages\n",
        "print(\"Chat History:\")\n",
        "for message in history.messages:\n",
        "    print(f\"{type(message).__name__}: {message.content}\")"
      ]
    },
    {
      "cell_type": "markdown",
      "metadata": {},
      "source": [
        "## 将 RedisChatMessageHistory 与语言模型搭配使用\n\nThis guide shows you how to use `RedisChatMessageHistory` with your language models."
      ]
    },
    {
      "cell_type": "markdown",
      "metadata": {},
      "source": [
        "### 设置 OpenAI API 密钥"
      ]
    },
    {
      "cell_type": "code",
      "execution_count": 5,
      "metadata": {},
      "outputs": [
        {
          "name": "stdout",
          "output_type": "stream",
          "text": [
            "OpenAI API key not found in environment variables.\n"
          ]
        },
        {
          "name": "stdout",
          "output_type": "stream",
          "text": [
            "Please enter your OpenAI API key:  ········\n"
          ]
        },
        {
          "name": "stdout",
          "output_type": "stream",
          "text": [
            "OpenAI API key has been set for this session.\n"
          ]
        }
      ],
      "source": [
        "from getpass import getpass\n",
        "\n",
        "# Check if OPENAI_API_KEY is already set in the environment\n",
        "openai_api_key = os.getenv(\"OPENAI_API_KEY\")\n",
        "\n",
        "if not openai_api_key:\n",
        "    print(\"OpenAI API key not found in environment variables.\")\n",
        "    openai_api_key = getpass(\"Please enter your OpenAI API key: \")\n",
        "\n",
        "    # Set the API key for the current session\n",
        "    os.environ[\"OPENAI_API_KEY\"] = openai_api_key\n",
        "    print(\"OpenAI API key has been set for this session.\")\n",
        "else:\n",
        "    print(\"OpenAI API key found in environment variables.\")"
      ]
    },
    {
      "cell_type": "code",
      "execution_count": 6,
      "metadata": {},
      "outputs": [
        {
          "name": "stdout",
          "output_type": "stream",
          "text": [
            "AI Response 1: Hello Alice! How can I assist you today?\n",
            "AI Response 2: Your name is Alice.\n"
          ]
        }
      ],
      "source": [
        "# Create a prompt template\n",
        "prompt = ChatPromptTemplate.from_messages(\n",
        "    [\n",
        "        (\"system\", \"You are a helpful AI assistant.\"),\n",
        "        MessagesPlaceholder(variable_name=\"history\"),\n",
        "        (\"human\", \"{input}\"),\n",
        "    ]\n",
        ")\n",
        "\n",
        "# Initialize the language model\n",
        "llm = ChatOpenAI()\n",
        "\n",
        "# Create the conversational chain\n",
        "chain = prompt | llm\n",
        "\n",
        "\n",
        "# Function to get or create a RedisChatMessageHistory instance\n",
        "def get_redis_history(session_id: str) -> BaseChatMessageHistory:\n",
        "    return RedisChatMessageHistory(session_id, redis_url=REDIS_URL)\n",
        "\n",
        "\n",
        "# Create a runnable with message history\n",
        "chain_with_history = RunnableWithMessageHistory(\n",
        "    chain, get_redis_history, input_messages_key=\"input\", history_messages_key=\"history\"\n",
        ")\n",
        "\n",
        "# Use the chain in a conversation\n",
        "response1 = chain_with_history.invoke(\n",
        "    {\"input\": \"Hi, my name is Alice.\"},\n",
        "    config={\"configurable\": {\"session_id\": \"alice_123\"}},\n",
        ")\n",
        "print(\"AI Response 1:\", response1.content)\n",
        "\n",
        "response2 = chain_with_history.invoke(\n",
        "    {\"input\": \"What's my name?\"}, config={\"configurable\": {\"session_id\": \"alice_123\"}}\n",
        ")\n",
        "print(\"AI Response 2:\", response2.content)"
      ]
    },
    {
      "cell_type": "markdown",
      "metadata": {},
      "source": [
        "## 高级特性"
      ]
    },
    {
      "cell_type": "markdown",
      "metadata": {},
      "source": [
        "### 自定义 Redis 配置"
      ]
    },
    {
      "cell_type": "code",
      "execution_count": 7,
      "metadata": {},
      "outputs": [
        {
          "name": "stdout",
          "output_type": "stream",
          "text": [
            "Custom History: [HumanMessage(content='This is a message with custom configuration.')]\n"
          ]
        }
      ],
      "source": [
        "# Initialize with custom Redis configuration\n",
        "custom_history = RedisChatMessageHistory(\n",
        "    \"user_456\",\n",
        "    redis_url=REDIS_URL,\n",
        "    key_prefix=\"custom_prefix:\",\n",
        "    ttl=3600,  # Set TTL to 1 hour\n",
        "    index_name=\"custom_index\",\n",
        ")\n",
        "\n",
        "custom_history.add_user_message(\"This is a message with custom configuration.\")\n",
        "print(\"Custom History:\", custom_history.messages)"
      ]
    },
    {
      "cell_type": "markdown",
      "metadata": {},
      "source": [
        "### 搜索消息"
      ]
    },
    {
      "cell_type": "code",
      "execution_count": 8,
      "metadata": {},
      "outputs": [
        {
          "name": "stdout",
          "output_type": "stream",
          "text": [
            "Search Results:\n",
            "human: Tell me about artificial intelligence....\n",
            "ai: Artificial Intelligence (AI) is a branch of comput...\n"
          ]
        }
      ],
      "source": [
        "# Add more messages\n",
        "history.add_user_message(\"Tell me about artificial intelligence.\")\n",
        "history.add_ai_message(\n",
        "    \"Artificial Intelligence (AI) is a branch of computer science...\"\n",
        ")\n",
        "\n",
        "# Search for messages containing a specific term\n",
        "search_results = history.search_messages(\"artificial intelligence\")\n",
        "print(\"Search Results:\")\n",
        "for result in search_results:\n",
        "    print(f\"{result['type']}: {result['content'][:50]}...\")"
      ]
    },
    {
      "cell_type": "markdown",
      "metadata": {},
      "source": [
        "### 清除历史记录"
      ]
    },
    {
      "cell_type": "code",
      "execution_count": 9,
      "metadata": {},
      "outputs": [
        {
          "name": "stdout",
          "output_type": "stream",
          "text": [
            "Messages after clearing: []\n"
          ]
        }
      ],
      "source": [
        "# Clear the chat history\n",
        "history.clear()\n",
        "print(\"Messages after clearing:\", history.messages)"
      ]
    },
    {
      "cell_type": "markdown",
      "metadata": {},
      "source": [
        "## 结论\n\n本笔记本演示了 `langchain-redis` 包中的 `RedisChatMessageHistory` 的关键功能。它展示了如何初始化和使用聊天记录，将其与语言模型集成，并利用自定义配置和消息搜索等高级功能。Redis 为 AI 应用程序中的聊天记录管理提供了一种快速且可扩展的解决方案。"
      ]
    }
  ],
  "metadata": {
    "kernelspec": {
      "display_name": "Python 3 (ipykernel)",
      "language": "python",
      "name": "python3"
    },
    "language_info": {
      "codemirror_mode": {
        "name": "ipython",
        "version": 3
      },
      "file_extension": ".py",
      "mimetype": "text/x-python",
      "name": "python",
      "nbconvert_exporter": "python",
      "pygments_lexer": "ipython3",
      "version": "3.11.9"
    }
  },
  "nbformat": 4,
  "nbformat_minor": 4
}