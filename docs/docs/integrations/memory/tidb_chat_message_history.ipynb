{
  "cells": [
    {
      "cell_type": "markdown",
      "metadata": {},
      "source": [
        "# TiDB\n\n> [TiDB Cloud](https://www.pingcap.com/tidb-serverless/) 是一个全面的数据库即服务 (DBaaS) 解决方案，提供专享和无服务器选项。TiDB Serverless 正在将内置的向量搜索集成到 MySQL 生态系统中。通过此增强功能，您无需新的数据库或额外的技术栈，即可使用 TiDB Serverless 轻松开发 AI 应用。请在此处创建免费的 TiDB Serverless 集群并开始使用向量搜索功能：https://pingcap.com/ai。\n\n本笔记本将介绍如何使用 TiDB 存储聊天消息历史。"
      ]
    },
    {
      "cell_type": "markdown",
      "metadata": {},
      "source": [
        "## 设置\n\n首先，我们将安装以下依赖："
      ]
    },
    {
      "cell_type": "code",
      "execution_count": null,
      "metadata": {},
      "outputs": [],
      "source": [
        "%pip install --upgrade --quiet langchain langchain_openai langchain-community"
      ]
    },
    {
      "cell_type": "markdown",
      "metadata": {},
      "source": [
        "配置你的 OpenAI 密钥"
      ]
    },
    {
      "cell_type": "code",
      "execution_count": 1,
      "metadata": {},
      "outputs": [],
      "source": [
        "import getpass\n",
        "import os\n",
        "\n",
        "if \"OPENAI_API_KEY\" not in os.environ:\n",
        "    os.environ[\"OPENAI_API_KEY\"] = getpass.getpass(\"Input your OpenAI API key:\")"
      ]
    },
    {
      "cell_type": "markdown",
      "metadata": {},
      "source": [
        "最后，我们将配置与 TiDB 的连接。在本笔记本中，我们将遵循 TiDB Cloud 提供的标准连接方法来建立一个安全且高效的数据库连接。"
      ]
    },
    {
      "cell_type": "code",
      "execution_count": 2,
      "metadata": {},
      "outputs": [],
      "source": [
        "# copy from tidb cloud console\n",
        "tidb_connection_string_template = \"mysql+pymysql://<USER>:<PASSWORD>@<HOST>:4000/<DB>?ssl_ca=/etc/ssl/cert.pem&ssl_verify_cert=true&ssl_verify_identity=true\"\n",
        "tidb_password = getpass.getpass(\"Input your TiDB password:\")\n",
        "tidb_connection_string = tidb_connection_string_template.replace(\n",
        "    \"<PASSWORD>\", tidb_password\n",
        ")"
      ]
    },
    {
      "cell_type": "markdown",
      "metadata": {},
      "source": [
        "## 生成历史数据\n\n创建一套历史数据，这将是我们即将进行的演示的基础。"
      ]
    },
    {
      "cell_type": "code",
      "execution_count": 3,
      "metadata": {},
      "outputs": [],
      "source": [
        "from datetime import datetime\n",
        "\n",
        "from langchain_community.chat_message_histories import TiDBChatMessageHistory\n",
        "\n",
        "history = TiDBChatMessageHistory(\n",
        "    connection_string=tidb_connection_string,\n",
        "    session_id=\"code_gen\",\n",
        "    earliest_time=datetime.utcnow(),  # Optional to set earliest_time to load messages after this time point.\n",
        ")\n",
        "\n",
        "history.add_user_message(\"How's our feature going?\")\n",
        "history.add_ai_message(\n",
        "    \"It's going well. We are working on testing now. It will be released in Feb.\"\n",
        ")"
      ]
    },
    {
      "cell_type": "code",
      "execution_count": 4,
      "metadata": {},
      "outputs": [
        {
          "data": {
            "text/plain": [
              "[HumanMessage(content=\"How's our feature going?\"),\n",
              " AIMessage(content=\"It's going well. We are working on testing now. It will be released in Feb.\")]"
            ]
          },
          "execution_count": 4,
          "metadata": {},
          "output_type": "execute_result"
        }
      ],
      "source": [
        "history.messages"
      ]
    },
    {
      "cell_type": "markdown",
      "metadata": {},
      "source": [
        "## 使用历史数据进行聊天\n\n让我们基于之前生成的历史数据，创建一个动态的聊天交互。\n\n首先，使用 LangChain 创建一个聊天链："
      ]
    },
    {
      "cell_type": "code",
      "execution_count": 5,
      "metadata": {},
      "outputs": [],
      "source": [
        "from langchain_core.prompts import ChatPromptTemplate, MessagesPlaceholder\n",
        "from langchain_openai import ChatOpenAI\n",
        "\n",
        "prompt = ChatPromptTemplate.from_messages(\n",
        "    [\n",
        "        (\n",
        "            \"system\",\n",
        "            \"You're an assistant who's good at coding. You're helping a startup build\",\n",
        "        ),\n",
        "        MessagesPlaceholder(variable_name=\"history\"),\n",
        "        (\"human\", \"{question}\"),\n",
        "    ]\n",
        ")\n",
        "chain = prompt | ChatOpenAI()"
      ]
    },
    {
      "cell_type": "markdown",
      "metadata": {},
      "source": [
        "基于历史构建一个可运行的："
      ]
    },
    {
      "cell_type": "code",
      "execution_count": 6,
      "metadata": {},
      "outputs": [],
      "source": [
        "from langchain_core.runnables.history import RunnableWithMessageHistory\n",
        "\n",
        "chain_with_history = RunnableWithMessageHistory(\n",
        "    chain,\n",
        "    lambda session_id: TiDBChatMessageHistory(\n",
        "        session_id=session_id, connection_string=tidb_connection_string\n",
        "    ),\n",
        "    input_messages_key=\"question\",\n",
        "    history_messages_key=\"history\",\n",
        ")"
      ]
    },
    {
      "cell_type": "markdown",
      "metadata": {},
      "source": [
        "开始聊天："
      ]
    },
    {
      "cell_type": "code",
      "execution_count": 7,
      "metadata": {},
      "outputs": [
        {
          "data": {
            "text/plain": [
              "AIMessage(content='There are 31 days in January, so there are 30 days until our feature is released in February.')"
            ]
          },
          "execution_count": 7,
          "metadata": {},
          "output_type": "execute_result"
        }
      ],
      "source": [
        "response = chain_with_history.invoke(\n",
        "    {\"question\": \"Today is Jan 1st. How many days until our feature is released?\"},\n",
        "    config={\"configurable\": {\"session_id\": \"code_gen\"}},\n",
        ")\n",
        "response"
      ]
    },
    {
      "cell_type": "markdown",
      "metadata": {},
      "source": [
        "## 检查历史数据"
      ]
    },
    {
      "cell_type": "code",
      "execution_count": 8,
      "metadata": {},
      "outputs": [
        {
          "data": {
            "text/plain": [
              "[HumanMessage(content=\"How's our feature going?\"),\n",
              " AIMessage(content=\"It's going well. We are working on testing now. It will be released in Feb.\"),\n",
              " HumanMessage(content='Today is Jan 1st. How many days until our feature is released?'),\n",
              " AIMessage(content='There are 31 days in January, so there are 30 days until our feature is released in February.')]"
            ]
          },
          "execution_count": 8,
          "metadata": {},
          "output_type": "execute_result"
        }
      ],
      "source": [
        "history.reload_cache()\n",
        "history.messages"
      ]
    }
  ],
  "metadata": {
    "kernelspec": {
      "display_name": "Python 3 (ipykernel)",
      "language": "python",
      "name": "python3"
    },
    "language_info": {
      "codemirror_mode": {
        "name": "ipython",
        "version": 3
      },
      "file_extension": ".py",
      "mimetype": "text/x-python",
      "name": "python",
      "nbconvert_exporter": "python",
      "pygments_lexer": "ipython3",
      "version": "3.10.12"
    }
  },
  "nbformat": 4,
  "nbformat_minor": 4
}