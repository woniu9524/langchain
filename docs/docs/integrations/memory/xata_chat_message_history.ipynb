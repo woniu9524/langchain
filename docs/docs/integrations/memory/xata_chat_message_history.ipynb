{
  "cells": [
    {
      "cell_type": "markdown",
      "metadata": {},
      "source": [
        "# Xata\n\n>[Xata](https://xata.io) 是一个无服务器数据平台，基于 `PostgreSQL` 和 `Elasticsearch` 构建。它提供了一个 Python SDK 用于与数据库进行交互，并提供一个 UI 用于管理数据。使用 `XataChatMessageHistory` 类，您可以将 Xata 数据库用于聊天会话的长期持久化。\n\n本笔记本将涵盖：\n\n* 一个简单的示例，展示 `XataChatMessageHistory` 的功能。\n* 一个更复杂的示例，使用一个 REACT 代理，该代理能够根据知识库或文档（以向量存储的形式存储在 Xata 中）回答问题，并能对其过去的邮件进行长期可搜索的历史记录（以内存存储的形式存储在 Xata 中）"
      ]
    },
    {
      "cell_type": "markdown",
      "metadata": {},
      "source": [
        "## 设置\n\n### 创建数据库\n\n在 [Xata UI](https://app.xata.io) 中创建一个新数据库。你可以随意命名，在本记事本中，我们将使用 `langchain`。Langchain 集成可以自动创建用于存储记忆的表，这也是我们将在本示例中使用的。如果你想预先创建表，请确保它具有正确的 schema，并在创建类时将 `create_table` 设置为 `False`。预先创建表可以在每次会话初始化时节省一次到数据库的往返。"
      ]
    },
    {
      "cell_type": "markdown",
      "metadata": {},
      "source": [
        "让我们先安装依赖项："
      ]
    },
    {
      "cell_type": "code",
      "execution_count": null,
      "metadata": {},
      "outputs": [],
      "source": [
        "%pip install --upgrade --quiet  xata langchain-openai langchain langchain-community"
      ]
    },
    {
      "cell_type": "markdown",
      "metadata": {},
      "source": [
        "接下来，我们需要获取 Xata 的环境变量。你可以通过访问[账户设置](https://app.xata.io/settings)来创建一个新的 API 密钥。要找到数据库 URL，请前往你已创建数据库的设置页面。数据库 URL 应该看起来像这样：`https://demo-uni3q8.eu-west-1.xata.sh/db/langchain`。"
      ]
    },
    {
      "cell_type": "code",
      "execution_count": null,
      "metadata": {},
      "outputs": [],
      "source": [
        "import getpass\n",
        "\n",
        "api_key = getpass.getpass(\"Xata API key: \")\n",
        "db_url = input(\"Xata database URL (copy it from your DB settings):\")"
      ]
    },
    {
      "cell_type": "markdown",
      "metadata": {},
      "source": [
        "## 创建一个简单的内存存储\n\n为了单独测试内存存储功能，让我们使用以下代码片段："
      ]
    },
    {
      "cell_type": "code",
      "execution_count": null,
      "metadata": {},
      "outputs": [],
      "source": [
        "from langchain_community.chat_message_histories import XataChatMessageHistory\n",
        "\n",
        "history = XataChatMessageHistory(\n",
        "    session_id=\"session-1\", api_key=api_key, db_url=db_url, table_name=\"memory\"\n",
        ")\n",
        "\n",
        "history.add_user_message(\"hi!\")\n",
        "\n",
        "history.add_ai_message(\"whats up?\")"
      ]
    },
    {
      "cell_type": "markdown",
      "metadata": {},
      "source": [
        "上述代码创建了一个 ID 为 `session-1` 的会话，并向其中存储了两条消息。运行上述代码后，如果您访问 Xata UI，应该会看到一个名为 `memory` 的表，并且其中添加了两条消息。\n\n您可以使用以下代码检索特定会话的消息历史记录："
      ]
    },
    {
      "cell_type": "code",
      "execution_count": null,
      "metadata": {},
      "outputs": [],
      "source": [
        "history.messages"
      ]
    },
    {
      "cell_type": "markdown",
      "metadata": {},
      "source": [
        "## 利用记忆进行的会话式问答链\n\n现在，让我们来看一个更复杂的例子：结合 OpenAI、Xata Vector Store 集成和 Xata Memory Store 集成，创建一个基于您数据的问答聊天机器人，支持追问和历史记录。"
      ]
    },
    {
      "cell_type": "markdown",
      "metadata": {},
      "source": [
        "我们需要访问 OpenAI API，所以我们来配置 API 密钥："
      ]
    },
    {
      "cell_type": "code",
      "execution_count": null,
      "metadata": {},
      "outputs": [],
      "source": [
        "import os\n",
        "\n",
        "if \"OPENAI_API_KEY\" not in os.environ:\n",
        "    os.environ[\"OPENAI_API_KEY\"] = getpass.getpass(\"OpenAI API Key:\")"
      ]
    },
    {
      "cell_type": "markdown",
      "metadata": {},
      "source": [
        "为了存储聊天机器人将用于搜索答案的文档，请使用 Xata UI 在 `langchain` 数据库中添加一个名为 `docs` 的表，并添加以下列：\n\n* `content` 类型为 \"Text\"。此列用于存储 `Document.pageContent` 的值。\n* `embedding` 类型为 \"Vector\"。使用您计划使用的模型所使用的维度。在此笔记本中，我们使用的是 OpenAI embeddings，其维度为 1536。"
      ]
    },
    {
      "cell_type": "markdown",
      "metadata": {},
      "source": [
        "让我们创建向量存储并向其中添加一些示例文档："
      ]
    },
    {
      "cell_type": "code",
      "execution_count": null,
      "metadata": {},
      "outputs": [],
      "source": [
        "from langchain_community.vectorstores.xata import XataVectorStore\n",
        "from langchain_openai import OpenAIEmbeddings\n",
        "\n",
        "embeddings = OpenAIEmbeddings()\n",
        "\n",
        "texts = [\n",
        "    \"Xata is a Serverless Data platform based on PostgreSQL\",\n",
        "    \"Xata offers a built-in vector type that can be used to store and query vectors\",\n",
        "    \"Xata includes similarity search\",\n",
        "]\n",
        "\n",
        "vector_store = XataVectorStore.from_texts(\n",
        "    texts, embeddings, api_key=api_key, db_url=db_url, table_name=\"docs\"\n",
        ")"
      ]
    },
    {
      "cell_type": "markdown",
      "metadata": {},
      "source": [
        "运行上述命令后，如果您进入 Xata UI，您应该会在 `docs` 表中看到加载的文档及其嵌入。"
      ]
    },
    {
      "cell_type": "markdown",
      "metadata": {},
      "source": [
        "现在，让我们创建一个 ConversationBufferMemory 来存储来自用户和 AI 的聊天消息。"
      ]
    },
    {
      "cell_type": "code",
      "execution_count": null,
      "metadata": {},
      "outputs": [],
      "source": [
        "from uuid import uuid4\n",
        "\n",
        "from langchain.memory import ConversationBufferMemory\n",
        "\n",
        "chat_memory = XataChatMessageHistory(\n",
        "    session_id=str(uuid4()),  # needs to be unique per user session\n",
        "    api_key=api_key,\n",
        "    db_url=db_url,\n",
        "    table_name=\"memory\",\n",
        ")\n",
        "memory = ConversationBufferMemory(\n",
        "    memory_key=\"chat_history\", chat_memory=chat_memory, return_messages=True\n",
        ")"
      ]
    },
    {
      "cell_type": "markdown",
      "metadata": {},
      "source": [
        "现在是时候创建一个 Agent 来同时使用向量存储和聊天记忆了。"
      ]
    },
    {
      "cell_type": "code",
      "execution_count": null,
      "metadata": {},
      "outputs": [],
      "source": [
        "from langchain.agents import AgentType, initialize_agent\n",
        "from langchain.agents.agent_toolkits import create_retriever_tool\n",
        "from langchain_openai import ChatOpenAI\n",
        "\n",
        "tool = create_retriever_tool(\n",
        "    vector_store.as_retriever(),\n",
        "    \"search_docs\",\n",
        "    \"Searches and returns documents from the Xata manual. Useful when you need to answer questions about Xata.\",\n",
        ")\n",
        "tools = [tool]\n",
        "\n",
        "llm = ChatOpenAI(temperature=0)\n",
        "\n",
        "agent = initialize_agent(\n",
        "    tools,\n",
        "    llm,\n",
        "    agent=AgentType.CHAT_CONVERSATIONAL_REACT_DESCRIPTION,\n",
        "    verbose=True,\n",
        "    memory=memory,\n",
        ")"
      ]
    },
    {
      "cell_type": "markdown",
      "metadata": {},
      "source": [
        "为了进行测试，我们来告诉代理我们的名字："
      ]
    },
    {
      "cell_type": "code",
      "execution_count": null,
      "metadata": {},
      "outputs": [],
      "source": [
        "agent.run(input=\"My name is bob\")"
      ]
    },
    {
      "cell_type": "markdown",
      "metadata": {},
      "source": [
        "现在，让我们问问关于 Xata 的一些问题："
      ]
    },
    {
      "cell_type": "code",
      "execution_count": null,
      "metadata": {},
      "outputs": [],
      "source": [
        "agent.run(input=\"What is xata?\")"
      ]
    },
    {
      "cell_type": "markdown",
      "metadata": {},
      "source": [
        "请注意，它会根据存储在文档库中的数据进行回答。现在，让我们提出一个后续问题："
      ]
    },
    {
      "cell_type": "code",
      "execution_count": null,
      "metadata": {},
      "outputs": [],
      "source": [
        "agent.run(input=\"Does it support similarity search?\")"
      ]
    },
    {
      "cell_type": "markdown",
      "metadata": {},
      "source": [
        "现在我们来测试一下它的记忆："
      ]
    },
    {
      "cell_type": "code",
      "execution_count": null,
      "metadata": {},
      "outputs": [],
      "source": [
        "agent.run(input=\"Did I tell you my name? What is it?\")"
      ]
    }
  ],
  "metadata": {
    "kernelspec": {
      "display_name": "Python 3 (ipykernel)",
      "language": "python",
      "name": "python3"
    },
    "language_info": {
      "codemirror_mode": {
        "name": "ipython",
        "version": 3
      },
      "file_extension": ".py",
      "mimetype": "text/x-python",
      "name": "python",
      "nbconvert_exporter": "python",
      "pygments_lexer": "ipython3",
      "version": "3.10.12"
    }
  },
  "nbformat": 4,
  "nbformat_minor": 4
}