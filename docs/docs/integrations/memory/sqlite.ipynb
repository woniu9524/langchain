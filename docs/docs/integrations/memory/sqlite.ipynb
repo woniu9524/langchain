{
  "cells": [
    {
      "cell_type": "markdown",
      "id": "d464a12a",
      "metadata": {
        "id": "eg0Hwptz9g5q"
      },
      "source": [
        "# SQLite\n\n>[SQLite](https://en.wikipedia.org/wiki/SQLite) 是一个用 C 语言编写的数据库引擎。它不是一个独立的应用程序；相反，它是一个开发人员将其嵌入到应用程序中的库。因此，它属于嵌入式数据库系列。它是部署最广泛的数据库引擎，因为它是几个顶级网页浏览器、操作系统、手机和其他嵌入式系统所使用的。\n\n在本指南中，我们将创建一个简单的对话链，它使用由 `SqliteEntityStore` 支持的 `ConversationEntityMemory`。"
      ]
    },
    {
      "cell_type": "code",
      "execution_count": null,
      "id": "5c923f56-24a9-4f8f-9b91-138cc025c47e",
      "metadata": {},
      "outputs": [],
      "source": [
        "# os.environ[\"LANGSMITH_TRACING\"] = \"true\"\n",
        "# os.environ[\"LANGSMITH_API_KEY\"] = getpass.getpass()"
      ]
    },
    {
      "cell_type": "markdown",
      "id": "61fda020-23a2-4605-afad-58260535ec8c",
      "metadata": {},
      "source": [
        "## 用法\n\n要使用存储，你只需提供两样东西：\n\n1.  Session Id - 会话的唯一标识符，例如用户名、电子邮件、聊天 ID 等。\n2.  Connection string - 一个指定数据库连接的字符串。对于 SQLite，该字符串是 `slqlite:///` 加上数据库文件的名称。如果该文件不存在，则会被创建。"
      ]
    },
    {
      "cell_type": "code",
      "execution_count": 1,
      "id": "4576e914a866fb40",
      "metadata": {
        "ExecuteTime": {
          "end_time": "2023-08-28T10:04:38.077748Z",
          "start_time": "2023-08-28T10:04:36.105894Z"
        },
        "collapsed": false,
        "jupyter": {
          "outputs_hidden": false
        }
      },
      "outputs": [],
      "source": [
        "from langchain_community.chat_message_histories import SQLChatMessageHistory\n",
        "\n",
        "chat_message_history = SQLChatMessageHistory(\n",
        "    session_id=\"test_session_id\", connection_string=\"sqlite:///sqlite.db\"\n",
        ")\n",
        "\n",
        "chat_message_history.add_user_message(\"Hello\")\n",
        "chat_message_history.add_ai_message(\"Hi\")"
      ]
    },
    {
      "cell_type": "code",
      "execution_count": 2,
      "id": "b476688cbb32ba90",
      "metadata": {
        "ExecuteTime": {
          "end_time": "2023-08-28T10:04:38.929396Z",
          "start_time": "2023-08-28T10:04:38.915727Z"
        },
        "collapsed": false,
        "jupyter": {
          "outputs_hidden": false
        }
      },
      "outputs": [
        {
          "data": {
            "text/plain": [
              "[HumanMessage(content='Hello'), AIMessage(content='Hi')]"
            ]
          },
          "execution_count": 2,
          "metadata": {},
          "output_type": "execute_result"
        }
      ],
      "source": [
        "chat_message_history.messages"
      ]
    },
    {
      "cell_type": "markdown",
      "id": "e400509a-1957-4d1d-bbd6-01e8dc3dccb3",
      "metadata": {},
      "source": [
        "## 链式调用\n\n我们可以轻松地将此消息历史类与 [LCEL Runnables](/docs/how_to/message_history) 结合使用。\n\n为此，我们将使用 OpenAI，因此需要安装它。我们还需要将 OPENAI_API_KEY 环境变量设置为你的 OpenAI 密钥。\n\n```bash\npip install -U langchain-openai\n\nexport OPENAI_API_KEY='sk-xxxxxxx'\n```"
      ]
    },
    {
      "cell_type": "code",
      "execution_count": 3,
      "id": "6558418b-0ece-4d01-9661-56d562d78f7a",
      "metadata": {},
      "outputs": [],
      "source": [
        "from langchain_core.prompts import ChatPromptTemplate, MessagesPlaceholder\n",
        "from langchain_core.runnables.history import RunnableWithMessageHistory\n",
        "from langchain_openai import ChatOpenAI"
      ]
    },
    {
      "cell_type": "code",
      "execution_count": 4,
      "id": "82149122-61d3-490d-9bdb-bb98606e8ba1",
      "metadata": {},
      "outputs": [],
      "source": [
        "prompt = ChatPromptTemplate.from_messages(\n",
        "    [\n",
        "        (\"system\", \"You are a helpful assistant.\"),\n",
        "        MessagesPlaceholder(variable_name=\"history\"),\n",
        "        (\"human\", \"{question}\"),\n",
        "    ]\n",
        ")\n",
        "\n",
        "chain = prompt | ChatOpenAI()"
      ]
    },
    {
      "cell_type": "code",
      "execution_count": 5,
      "id": "2df90853-b67c-490f-b7f8-b69d69270b9c",
      "metadata": {},
      "outputs": [],
      "source": [
        "chain_with_history = RunnableWithMessageHistory(\n",
        "    chain,\n",
        "    lambda session_id: SQLChatMessageHistory(\n",
        "        session_id=session_id, connection_string=\"sqlite:///sqlite.db\"\n",
        "    ),\n",
        "    input_messages_key=\"question\",\n",
        "    history_messages_key=\"history\",\n",
        ")"
      ]
    },
    {
      "cell_type": "code",
      "execution_count": 8,
      "id": "0ce596b8-3b78-48fd-9f92-46dccbbfd58b",
      "metadata": {},
      "outputs": [],
      "source": [
        "# This is where we configure the session id\n",
        "config = {\"configurable\": {\"session_id\": \"<SQL_SESSION_ID>\"}}"
      ]
    },
    {
      "cell_type": "code",
      "execution_count": 9,
      "id": "38e1423b-ba86-4496-9151-25932fab1a8b",
      "metadata": {},
      "outputs": [
        {
          "data": {
            "text/plain": [
              "AIMessage(content='Hello Bob! How can I assist you today?')"
            ]
          },
          "execution_count": 9,
          "metadata": {},
          "output_type": "execute_result"
        }
      ],
      "source": [
        "chain_with_history.invoke({\"question\": \"Hi! I'm bob\"}, config=config)"
      ]
    },
    {
      "cell_type": "code",
      "execution_count": 10,
      "id": "2ee4ee62-a216-4fb1-bf33-57476a84cf16",
      "metadata": {},
      "outputs": [
        {
          "data": {
            "text/plain": [
              "AIMessage(content='Your name is Bob! Is there anything specific you would like assistance with, Bob?')"
            ]
          },
          "execution_count": 10,
          "metadata": {},
          "output_type": "execute_result"
        }
      ],
      "source": [
        "chain_with_history.invoke({\"question\": \"Whats my name\"}, config=config)"
      ]
    }
  ],
  "metadata": {
    "colab": {
      "provenance": []
    },
    "kernelspec": {
      "display_name": "Python 3 (ipykernel)",
      "language": "python",
      "name": "python3"
    },
    "language_info": {
      "codemirror_mode": {
        "name": "ipython",
        "version": 3
      },
      "file_extension": ".py",
      "mimetype": "text/x-python",
      "name": "python",
      "nbconvert_exporter": "python",
      "pygments_lexer": "ipython3",
      "version": "3.10.12"
    }
  },
  "nbformat": 4,
  "nbformat_minor": 5
}