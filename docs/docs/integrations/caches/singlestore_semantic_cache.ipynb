{
  "cells": [
    {
      "cell_type": "markdown",
      "id": "e49f1e0d",
      "metadata": {},
      "source": [
        "# SingleStoreSemanticCache\n\n本示例演示了如何开始使用 SingleStore 语义缓存。\n\n### 集成概述\n\n`SingleStoreSemanticCache` 利用 `SingleStoreVectorStore` 将 LLM 响应直接缓存到 SingleStore 数据库中，从而实现高效的语义检索和结果重用。\n\n### 集成详情\n\n\n\n| 类名 | 包名 | JS 支持 |\n| :--- | :--- |  :---: |\n| SingleStoreSemanticCache | langchain_singlestore | ❌ |"
      ]
    },
    {
      "cell_type": "markdown",
      "id": "0730d6a1-c893-4840-9817-5e5251676d5d",
      "metadata": {},
      "source": [
        "## 安装\n\n此缓存位于 `langchain-singlestore` 包中："
      ]
    },
    {
      "cell_type": "code",
      "execution_count": null,
      "id": "652d6238-1f87-422a-b135-f5abbb8652fc",
      "metadata": {},
      "outputs": [],
      "source": [
        "%pip install -qU langchain-singlestore"
      ]
    },
    {
      "cell_type": "markdown",
      "id": "5c5f2839-4020-424e-9fc9-07777eede442",
      "metadata": {},
      "source": [
        "## 用法"
      ]
    },
    {
      "cell_type": "code",
      "execution_count": null,
      "id": "51a60dbe-9f2e-4e04-bb62-23968f17164a",
      "metadata": {},
      "outputs": [],
      "source": [
        "from langchain_core.globals import set_llm_cache\n",
        "from langchain_singlestore import SingleStoreSemanticCache\n",
        "\n",
        "set_llm_cache(\n",
        "    SingleStoreSemanticCache(\n",
        "        embedding=YourEmbeddings(),\n",
        "        host=\"root:pass@localhost:3306/db\",\n",
        "    )\n",
        ")"
      ]
    },
    {
      "cell_type": "code",
      "execution_count": null,
      "id": "cddda8ef",
      "metadata": {},
      "outputs": [],
      "source": [
        "%%time\n",
        "# The first time, it is not yet in cache, so it should take longer\n",
        "llm.invoke(\"Tell me a joke\")"
      ]
    },
    {
      "cell_type": "code",
      "execution_count": null,
      "id": "c474168f",
      "metadata": {},
      "outputs": [],
      "source": [
        "%%time\n",
        "# The second time, while not a direct hit, the question is semantically similar to the original question,\n",
        "# so it uses the cached result!\n",
        "llm.invoke(\"Tell me one joke\")"
      ]
    }
  ],
  "metadata": {
    "kernelspec": {
      "display_name": "langchain-singlestore-BD1RbQ07-py3.11",
      "language": "python",
      "name": "python3"
    },
    "language_info": {
      "codemirror_mode": {
        "name": "ipython",
        "version": 3
      },
      "file_extension": ".py",
      "mimetype": "text/x-python",
      "name": "python",
      "nbconvert_exporter": "python",
      "pygments_lexer": "ipython3",
      "version": "3.11.11"
    }
  },
  "nbformat": 4,
  "nbformat_minor": 5
}