{
  "cells": [
    {
      "cell_type": "markdown",
      "metadata": {},
      "source": [
        "# LlamaEdge\n\n[LlamaEdge](https://github.com/second-state/LlamaEdge) 允许您与本地及通过聊天服务形式的 [GGUF](https://github.com/ggerganov/llama.cpp/blob/master/gguf-py/README.md) 格式 LLM 进行聊天。\n\n- `LlamaEdgeChatService` 为开发者提供了一个兼容 OpenAI API 的服务，可以通过 HTTP 请求与 LLM 聊天。\n\n- `LlamaEdgeChatLocal` 使开发者能够本地与 LLM 聊天（即将推出）。\n\n`LlamaEdgeChatService` 和 `LlamaEdgeChatLocal` 都运行在由 [WasmEdge Runtime](https://wasmedge.org/) 驱动的基础设施上，该运行时为 LLM 推理任务提供了轻量级且可移植的 WebAssembly 容器环境。\n\n## 通过 API 服务聊天\n\n`LlamaEdgeChatService` 工作在 `llama-api-server` 之上。按照 [llama-api-server quick-start](https://github.com/second-state/llama-utils/tree/main/api-server#readme) 中的步骤，您可以托管自己的 API 服务，这样只要有互联网连接，您就可以在任何设备上与任何您喜欢的模型随时随地聊天。"
      ]
    },
    {
      "cell_type": "code",
      "execution_count": 2,
      "metadata": {},
      "outputs": [],
      "source": [
        "from langchain_community.chat_models.llama_edge import LlamaEdgeChatService\n",
        "from langchain_core.messages import HumanMessage, SystemMessage"
      ]
    },
    {
      "cell_type": "markdown",
      "metadata": {},
      "source": [
        "### 使用非流式模式与 LLM 聊天"
      ]
    },
    {
      "cell_type": "code",
      "execution_count": 5,
      "metadata": {},
      "outputs": [
        {
          "name": "stdout",
          "output_type": "stream",
          "text": [
            "[Bot] Hello! The capital of France is Paris.\n"
          ]
        }
      ],
      "source": [
        "# service url\n",
        "service_url = \"https://b008-54-186-154-209.ngrok-free.app\"\n",
        "\n",
        "# create wasm-chat service instance\n",
        "chat = LlamaEdgeChatService(service_url=service_url)\n",
        "\n",
        "# create message sequence\n",
        "system_message = SystemMessage(content=\"You are an AI assistant\")\n",
        "user_message = HumanMessage(content=\"What is the capital of France?\")\n",
        "messages = [system_message, user_message]\n",
        "\n",
        "# chat with wasm-chat service\n",
        "response = chat.invoke(messages)\n",
        "\n",
        "print(f\"[Bot] {response.content}\")"
      ]
    },
    {
      "cell_type": "markdown",
      "metadata": {},
      "source": [
        "### 使用流式传输模式与大型语言模型聊天"
      ]
    },
    {
      "cell_type": "code",
      "execution_count": 4,
      "metadata": {},
      "outputs": [
        {
          "name": "stdout",
          "output_type": "stream",
          "text": [
            "[Bot]   Hello! I'm happy to help you with your question. The capital of Norway is Oslo.\n"
          ]
        }
      ],
      "source": [
        "# service url\n",
        "service_url = \"https://b008-54-186-154-209.ngrok-free.app\"\n",
        "\n",
        "# create wasm-chat service instance\n",
        "chat = LlamaEdgeChatService(service_url=service_url, streaming=True)\n",
        "\n",
        "# create message sequence\n",
        "system_message = SystemMessage(content=\"You are an AI assistant\")\n",
        "user_message = HumanMessage(content=\"What is the capital of Norway?\")\n",
        "messages = [\n",
        "    system_message,\n",
        "    user_message,\n",
        "]\n",
        "\n",
        "output = \"\"\n",
        "for chunk in chat.stream(messages):\n",
        "    # print(chunk.content, end=\"\", flush=True)\n",
        "    output += chunk.content\n",
        "\n",
        "print(f\"[Bot] {output}\")"
      ]
    }
  ],
  "metadata": {
    "kernelspec": {
      "display_name": "Python 3",
      "language": "python",
      "name": "python3"
    },
    "language_info": {
      "codemirror_mode": {
        "name": "ipython",
        "version": 3
      },
      "file_extension": ".py",
      "mimetype": "text/x-python",
      "name": "python",
      "nbconvert_exporter": "python",
      "pygments_lexer": "ipython3",
      "version": "3.11.7"
    }
  },
  "nbformat": 4,
  "nbformat_minor": 2
}