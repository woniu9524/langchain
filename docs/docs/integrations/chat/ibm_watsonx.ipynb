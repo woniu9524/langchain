{
  "cells": [
    {
      "cell_type": "raw",
      "id": "1c95cd76",
      "metadata": {
        "vscode": {
          "languageId": "raw"
        }
      },
      "source": [
        "---\n",
        "sidebar_label: IBM watsonx.ai\n",
        "---"
      ]
    },
    {
      "cell_type": "markdown",
      "id": "70996d8a",
      "metadata": {},
      "source": [
        "# ChatWatsonx\n\n>ChatWatsonx 是 IBM [watsonx.ai](https://www.ibm.com/products/watsonx-ai) 基础模型的封装。\n\n这些示例旨在展示如何使用 `LangChain` LLMs API 与 `watsonx.ai` 模型进行通信。"
      ]
    },
    {
      "cell_type": "markdown",
      "id": "ef7b088a",
      "metadata": {},
      "source": [
        "## 概览\n\n### 集成详情\n| 类 | 包 | 本地 | 可序列化 | [JS 支持](https://js.langchain.com/docs/integrations/chat/ibm/) | 包下载量 | 包最新版本 |\n| :--- | :--- | :---: | :---: |  :---: | :---: | :---: |\n| [ChatWatsonx](https://python.langchain.com/api_reference/ibm/chat_models/langchain_ibm.chat_models.ChatWatsonx.html) | [langchain-ibm](https://python.langchain.com/api_reference/ibm/index.html) | ❌ | ❌ | ✅ | ![PyPI - Downloads](https://img.shields.io/pypi/dm/langchain-ibm?style=flat-square&label=%20) | ![PyPI - Version](https://img.shields.io/pypi/v/langchain-ibm?style=flat-square&label=%20) |\n\n### 模型特性\n| [工具调用](/docs/how_to/tool_calling/) | [结构化输出](/docs/how_to/structured_output/) | JSON 模式 | 图像输入 | 音频输入 | 视频输入 | [Token 级流式传输](/docs/how_to/chat_streaming/) | 原生异步 | [Token 使用量](/docs/how_to/chat_token_usage_tracking/) | [Logprobs](/docs/how_to/logprobs/) |\n| :---: | :---: | :---: | :---: |  :---: | :---: | :---: | :---: | :---: | :---: |\n| ✅ | ✅ | ✅ | ✅ | ❌ | ❌ | ✅ | ❌ | ✅ | ✅ |"
      ]
    },
    {
      "cell_type": "markdown",
      "id": "f406e092",
      "metadata": {},
      "source": [
        "## 设置\n\n要访问 IBM watsonx.ai 模型，您需要创建一个 IBM watsonx.ai 账户，获取 API 密钥，并安装 `langchain-ibm` 集成包。\n\n### 凭证\n\n下面的代码单元定义了使用 watsonx 基础模型进行推理所需的凭证。\n\n**操作：** 提供 IBM Cloud 用户 API 密钥。有关详细信息，请参阅\n[管理用户 API 密钥](https://cloud.ibm.com/docs/account?topic=account-userapikey&interface=ui)。"
      ]
    },
    {
      "cell_type": "code",
      "execution_count": 2,
      "id": "11d572a1",
      "metadata": {},
      "outputs": [],
      "source": [
        "import os\n",
        "from getpass import getpass\n",
        "\n",
        "watsonx_api_key = getpass()\n",
        "os.environ[\"WATSONX_APIKEY\"] = watsonx_api_key"
      ]
    },
    {
      "cell_type": "markdown",
      "id": "c59782a7",
      "metadata": {},
      "source": [
        "此外，您还可以将其他密钥作为环境变量传递。"
      ]
    },
    {
      "cell_type": "code",
      "execution_count": null,
      "id": "f98c573c",
      "metadata": {},
      "outputs": [],
      "source": [
        "import os\n",
        "\n",
        "os.environ[\"WATSONX_URL\"] = \"your service instance url\"\n",
        "os.environ[\"WATSONX_TOKEN\"] = \"your token for accessing the CPD cluster\"\n",
        "os.environ[\"WATSONX_PASSWORD\"] = \"your password for accessing the CPD cluster\"\n",
        "os.environ[\"WATSONX_USERNAME\"] = \"your username for accessing the CPD cluster\"\n",
        "os.environ[\"WATSONX_INSTANCE_ID\"] = \"your instance_id for accessing the CPD cluster\""
      ]
    },
    {
      "cell_type": "markdown",
      "id": "b3dc9176",
      "metadata": {},
      "source": [
        "### 安装\n\nLangChain IBM 集成位于 `langchain-ibm` 包中："
      ]
    },
    {
      "cell_type": "code",
      "execution_count": null,
      "id": "387eda86",
      "metadata": {},
      "outputs": [],
      "source": [
        "!pip install -qU langchain-ibm"
      ]
    },
    {
      "cell_type": "markdown",
      "id": "e36acbef",
      "metadata": {},
      "source": [
        "## 实例化\n\n您可能需要为不同的模型或任务调整模型 `parameters`。有关详细信息，请参阅 [Available TextChatParameters](https://ibm.github.io/watsonx-ai-python-sdk/fm_schema.html#ibm_watsonx_ai.foundation_models.schema.TextChatParameters)。"
      ]
    },
    {
      "cell_type": "code",
      "execution_count": 5,
      "id": "407cd500",
      "metadata": {},
      "outputs": [],
      "source": [
        "parameters = {\n",
        "    \"temperature\": 0.9,\n",
        "    \"max_tokens\": 200,\n",
        "}"
      ]
    },
    {
      "cell_type": "markdown",
      "id": "2b586538",
      "metadata": {},
      "source": [
        "使用先前设置的参数初始化 `WatsonxLLM` 类。\n\n\n**注意**：\n\n- 要为 API 调用提供上下文，必须传入 `project_id` 或 `space_id`。要获取您的项目或空间 ID，请打开您的项目或空间，转到 **Manage** 选项卡，然后点击 **General**。有关更多信息，请参阅：[项目文档](https://www.ibm.com/docs/en/watsonx-as-a-service?topic=projects) 或 [部署空间文档](https://www.ibm.com/docs/en/watsonx/saas?topic=spaces-creating-deployment)。\n- 根据您提供的服务实例的区域，使用 [watsonx.ai API 身份验证](https://ibm.github.io/watsonx-ai-python-sdk/setup_cloud.html#authentication) 中列出的其中一个 URL。\n\n在此示例中，我们将使用 `project_id` 和 Dallas URL。\n\n\n您需要指定将用于推理的 `model_id`。您可以在 [支持的聊天模型](https://ibm.github.io/watsonx-ai-python-sdk/fm_helpers.html#ibm_watsonx_ai.foundation_models_manager.FoundationModelsManager.get_chat_model_specs) 中找到所有可用模型的列表。"
      ]
    },
    {
      "cell_type": "code",
      "execution_count": null,
      "id": "e3568e91",
      "metadata": {},
      "outputs": [],
      "source": [
        "from langchain_ibm import ChatWatsonx\n",
        "\n",
        "chat = ChatWatsonx(\n",
        "    model_id=\"ibm/granite-34b-code-instruct\",\n",
        "    url=\"https://us-south.ml.cloud.ibm.com\",\n",
        "    project_id=\"PASTE YOUR PROJECT_ID HERE\",\n",
        "    params=parameters,\n",
        ")"
      ]
    },
    {
      "cell_type": "markdown",
      "id": "2202f4e0",
      "metadata": {},
      "source": [
        "或者，您也可以使用 Cloud Pak for Data 凭据。有关详细信息，请参阅 [watsonx.ai 软件设置](https://ibm.github.io/watsonx-ai-python-sdk/setup_cpd.html)。"
      ]
    },
    {
      "cell_type": "code",
      "execution_count": null,
      "id": "243ecccb",
      "metadata": {},
      "outputs": [],
      "source": [
        "chat = ChatWatsonx(\n",
        "    model_id=\"ibm/granite-34b-code-instruct\",\n",
        "    url=\"PASTE YOUR URL HERE\",\n",
        "    username=\"PASTE YOUR USERNAME HERE\",\n",
        "    password=\"PASTE YOUR PASSWORD HERE\",\n",
        "    instance_id=\"openshift\",\n",
        "    version=\"4.8\",\n",
        "    project_id=\"PASTE YOUR PROJECT_ID HERE\",\n",
        "    params=parameters,\n",
        ")"
      ]
    },
    {
      "cell_type": "markdown",
      "id": "96ed13d4",
      "metadata": {},
      "source": [
        "您也可以传递先前[部署模型以引用提示模板](https://cloud.ibm.com/apidocs/watsonx-ai#deployments-text-chat)的 `deployment_id`，而不是 `model_id`。"
      ]
    },
    {
      "cell_type": "code",
      "execution_count": null,
      "id": "08e66c88",
      "metadata": {},
      "outputs": [],
      "source": [
        "chat = ChatWatsonx(\n",
        "    deployment_id=\"PASTE YOUR DEPLOYMENT_ID HERE\",\n",
        "    url=\"https://us-south.ml.cloud.ibm.com\",\n",
        "    project_id=\"PASTE YOUR PROJECT_ID HERE\",\n",
        "    params=parameters,\n",
        ")"
      ]
    },
    {
      "cell_type": "markdown",
      "id": "3d29767c",
      "metadata": {},
      "source": [
        "对于某些需求，可以将 IBM 的 [`APIClient`](https://ibm.github.io/watsonx-ai-python-sdk/base.html#apiclient) 对象传递给 `ChatWatsonx` 类。"
      ]
    },
    {
      "cell_type": "code",
      "execution_count": null,
      "id": "0ae9531e",
      "metadata": {},
      "outputs": [],
      "source": [
        "from ibm_watsonx_ai import APIClient\n",
        "\n",
        "api_client = APIClient(...)\n",
        "\n",
        "chat = ChatWatsonx(\n",
        "    model_id=\"ibm/granite-34b-code-instruct\",\n",
        "    watsonx_client=api_client,\n",
        ")"
      ]
    },
    {
      "cell_type": "markdown",
      "id": "f571001d",
      "metadata": {},
      "source": [
        "## 调用\n\n要获取补全内容，您可以使用字符串提示直接调用模型。"
      ]
    },
    {
      "cell_type": "code",
      "execution_count": 8,
      "id": "beea2b5b",
      "metadata": {},
      "outputs": [
        {
          "data": {
            "text/plain": [
              "AIMessage(content=\"J'adore que tu escois de écouter de la rock ! \", additional_kwargs={}, response_metadata={'token_usage': {'completion_tokens': 19, 'prompt_tokens': 34, 'total_tokens': 53}, 'model_name': 'ibm/granite-34b-code-instruct', 'system_fingerprint': '', 'finish_reason': 'stop'}, id='chat-ef888fc41f0d4b37903b622250ff7528', usage_metadata={'input_tokens': 34, 'output_tokens': 19, 'total_tokens': 53})"
            ]
          },
          "execution_count": 8,
          "metadata": {},
          "output_type": "execute_result"
        }
      ],
      "source": [
        "# Invocation\n",
        "\n",
        "messages = [\n",
        "    (\"system\", \"You are a helpful assistant that translates English to French.\"),\n",
        "    (\n",
        "        \"human\",\n",
        "        \"I love you for listening to Rock.\",\n",
        "    ),\n",
        "]\n",
        "\n",
        "chat.invoke(messages)"
      ]
    },
    {
      "cell_type": "code",
      "execution_count": 9,
      "id": "8ab1a25a",
      "metadata": {},
      "outputs": [
        {
          "data": {
            "text/plain": [
              "AIMessage(content='horses are quadrupedal mammals that are members of the family Equidae. They are typically farm animals, competing in horse racing and other forms of equine competition. With over 200 breeds, horses are diverse in their physical appearance and behavior. They are intelligent, social animals that are often used for transportation, food, and entertainment.', additional_kwargs={}, response_metadata={'token_usage': {'completion_tokens': 89, 'prompt_tokens': 29, 'total_tokens': 118}, 'model_name': 'ibm/granite-34b-code-instruct', 'system_fingerprint': '', 'finish_reason': 'stop'}, id='chat-9a6e28abb3d448aaa4f83b677a9fd653', usage_metadata={'input_tokens': 29, 'output_tokens': 89, 'total_tokens': 118})"
            ]
          },
          "execution_count": 9,
          "metadata": {},
          "output_type": "execute_result"
        }
      ],
      "source": [
        "# Invocation multiple chat\n",
        "from langchain_core.messages import (\n",
        "    HumanMessage,\n",
        "    SystemMessage,\n",
        ")\n",
        "\n",
        "system_message = SystemMessage(\n",
        "    content=\"You are a helpful assistant which telling short-info about provided topic.\"\n",
        ")\n",
        "human_message = HumanMessage(content=\"horse\")\n",
        "\n",
        "chat.invoke([system_message, human_message])"
      ]
    },
    {
      "cell_type": "markdown",
      "id": "20e4b568",
      "metadata": {},
      "source": [
        "## 链式调用\n创建 `ChatPromptTemplate` 对象，它们将负责创建一个随机问题。"
      ]
    },
    {
      "cell_type": "code",
      "execution_count": 10,
      "id": "dd919925",
      "metadata": {},
      "outputs": [],
      "source": [
        "from langchain_core.prompts import ChatPromptTemplate\n",
        "\n",
        "system = (\n",
        "    \"You are a helpful assistant that translates {input_language} to {output_language}.\"\n",
        ")\n",
        "human = \"{input}\"\n",
        "prompt = ChatPromptTemplate.from_messages([(\"system\", system), (\"human\", human)])"
      ]
    },
    {
      "cell_type": "markdown",
      "id": "1a013a53",
      "metadata": {},
      "source": [
        "输入内容并运行链条。"
      ]
    },
    {
      "cell_type": "code",
      "execution_count": 11,
      "id": "68160377",
      "metadata": {},
      "outputs": [
        {
          "data": {
            "text/plain": [
              "AIMessage(content='Ich liebe Python.', additional_kwargs={}, response_metadata={'token_usage': {'completion_tokens': 7, 'prompt_tokens': 28, 'total_tokens': 35}, 'model_name': 'ibm/granite-34b-code-instruct', 'system_fingerprint': '', 'finish_reason': 'stop'}, id='chat-fef871190b6047a7a3e68c58b3810c33', usage_metadata={'input_tokens': 28, 'output_tokens': 7, 'total_tokens': 35})"
            ]
          },
          "execution_count": 11,
          "metadata": {},
          "output_type": "execute_result"
        }
      ],
      "source": [
        "chain = prompt | chat\n",
        "chain.invoke(\n",
        "    {\n",
        "        \"input_language\": \"English\",\n",
        "        \"output_language\": \"German\",\n",
        "        \"input\": \"I love Python\",\n",
        "    }\n",
        ")"
      ]
    },
    {
      "cell_type": "markdown",
      "id": "d2c9da33",
      "metadata": {},
      "source": [
        "## 流式传输模型输出\n\n您可以流式传输模型输出。"
      ]
    },
    {
      "cell_type": "code",
      "execution_count": 12,
      "id": "3f63166a",
      "metadata": {},
      "outputs": [
        {
          "name": "stdout",
          "output_type": "stream",
          "text": [
            "The Moon is the fifth largest moon in the solar system and the largest relative to its host planet. It is the fifth brightest object in Earth's night sky after the Sun, the stars, the Milky Way, and the Moon itself. It orbits around the Earth at an average distance of 238,855 miles (384,400 kilometers). The Moon's gravity is about one-sixthth of Earth's and thus allows for the formation of tides on Earth. The Moon is thought to have formed around 4.5 billion years ago from debris from a collision between Earth and a Mars-sized body named Theia. The Moon is effectively immutable, with its current characteristics remaining from formation. Aside from Earth, the Moon is the only other natural satellite of Earth. The most widely accepted theory is that it formed from the debris of a collision"
          ]
        }
      ],
      "source": [
        "system_message = SystemMessage(\n",
        "    content=\"You are a helpful assistant which telling short-info about provided topic.\"\n",
        ")\n",
        "human_message = HumanMessage(content=\"moon\")\n",
        "\n",
        "for chunk in chat.stream([system_message, human_message]):\n",
        "    print(chunk.content, end=\"\")"
      ]
    },
    {
      "cell_type": "markdown",
      "id": "5a7a2aa1",
      "metadata": {},
      "source": [
        "## 批量处理模型输出\n\n您可以批量处理模型输出。"
      ]
    },
    {
      "cell_type": "code",
      "execution_count": 13,
      "id": "9e948729",
      "metadata": {},
      "outputs": [
        {
          "data": {
            "text/plain": [
              "[AIMessage(content='The cat is a popular domesticated carnivorous mammal that belongs to the family Felidae. Cats arefriendly, intelligent, and independent animals that are well-known for their playful behavior, agility, and ability to hunt prey. cats come in a wide range of breeds, each with their own unique physical and behavioral characteristics. They are kept as pets worldwide due to their affectionate nature and companionship. Cats are important members of the household and are often involved in everything from childcare to entertainment.', additional_kwargs={}, response_metadata={'token_usage': {'completion_tokens': 127, 'prompt_tokens': 28, 'total_tokens': 155}, 'model_name': 'ibm/granite-34b-code-instruct', 'system_fingerprint': '', 'finish_reason': 'stop'}, id='chat-fa452af0a0fa4a668b6a704aecd7d718', usage_metadata={'input_tokens': 28, 'output_tokens': 127, 'total_tokens': 155}),\n",
              " AIMessage(content='Dogs are domesticated animals that belong to the Canidae family, also known as wolves. They are one of the most popular pets worldwide, known for their loyalty and affection towards their owners. Dogs come in various breeds, each with unique characteristics, and are trained for different purposes such as hunting, herding, or guarding. They require a lot of exercise and mental stimulation to stay healthy and happy, and they need proper training and socialization to be well-behaved. Dogs are also known for their playful and energetic nature, making them great companions for people of all ages.', additional_kwargs={}, response_metadata={'token_usage': {'completion_tokens': 144, 'prompt_tokens': 28, 'total_tokens': 172}, 'model_name': 'ibm/granite-34b-code-instruct', 'system_fingerprint': '', 'finish_reason': 'stop'}, id='chat-cae7663c50cf4f3499726821cc2f0ec7', usage_metadata={'input_tokens': 28, 'output_tokens': 144, 'total_tokens': 172})]"
            ]
          },
          "execution_count": 13,
          "metadata": {},
          "output_type": "execute_result"
        }
      ],
      "source": [
        "message_1 = [\n",
        "    SystemMessage(\n",
        "        content=\"You are a helpful assistant which telling short-info about provided topic.\"\n",
        "    ),\n",
        "    HumanMessage(content=\"cat\"),\n",
        "]\n",
        "message_2 = [\n",
        "    SystemMessage(\n",
        "        content=\"You are a helpful assistant which telling short-info about provided topic.\"\n",
        "    ),\n",
        "    HumanMessage(content=\"dog\"),\n",
        "]\n",
        "\n",
        "chat.batch([message_1, message_2])"
      ]
    },
    {
      "cell_type": "markdown",
      "id": "c739e1fe",
      "metadata": {},
      "source": [
        "## 工具调用\n\n### ChatWatsonx.bind_tools()"
      ]
    },
    {
      "cell_type": "code",
      "execution_count": null,
      "id": "328fce76",
      "metadata": {},
      "outputs": [],
      "source": [
        "from langchain_ibm import ChatWatsonx\n",
        "\n",
        "chat = ChatWatsonx(\n",
        "    model_id=\"mistralai/mistral-large\",\n",
        "    url=\"https://us-south.ml.cloud.ibm.com\",\n",
        "    project_id=\"PASTE YOUR PROJECT_ID HERE\",\n",
        "    params=parameters,\n",
        ")"
      ]
    },
    {
      "cell_type": "code",
      "execution_count": 2,
      "id": "e1633a73",
      "metadata": {},
      "outputs": [],
      "source": [
        "from pydantic import BaseModel, Field\n",
        "\n",
        "\n",
        "class GetWeather(BaseModel):\n",
        "    \"\"\"Get the current weather in a given location\"\"\"\n",
        "\n",
        "    location: str = Field(..., description=\"The city and state, e.g. San Francisco, CA\")\n",
        "\n",
        "\n",
        "llm_with_tools = chat.bind_tools([GetWeather])"
      ]
    },
    {
      "cell_type": "code",
      "execution_count": 3,
      "id": "3bf9b8ab",
      "metadata": {},
      "outputs": [
        {
          "data": {
            "text/plain": [
              "AIMessage(content='', additional_kwargs={'tool_calls': [{'id': 'chatcmpl-tool-6c06a19bbe824d78a322eb193dbde12d', 'type': 'function', 'function': {'name': 'GetWeather', 'arguments': '{\"location\": \"Los Angeles, CA\"}'}}, {'id': 'chatcmpl-tool-493542e46f1141bfbfeb5deae6c9e086', 'type': 'function', 'function': {'name': 'GetWeather', 'arguments': '{\"location\": \"New York, NY\"}'}}]}, response_metadata={'token_usage': {'completion_tokens': 46, 'prompt_tokens': 95, 'total_tokens': 141}, 'model_name': 'mistralai/mistral-large', 'system_fingerprint': '', 'finish_reason': 'tool_calls'}, id='chat-027f2bdb217e4238909cb26d3e8a8fbf', tool_calls=[{'name': 'GetWeather', 'args': {'location': 'Los Angeles, CA'}, 'id': 'chatcmpl-tool-6c06a19bbe824d78a322eb193dbde12d', 'type': 'tool_call'}, {'name': 'GetWeather', 'args': {'location': 'New York, NY'}, 'id': 'chatcmpl-tool-493542e46f1141bfbfeb5deae6c9e086', 'type': 'tool_call'}], usage_metadata={'input_tokens': 95, 'output_tokens': 46, 'total_tokens': 141})"
            ]
          },
          "execution_count": 3,
          "metadata": {},
          "output_type": "execute_result"
        }
      ],
      "source": [
        "ai_msg = llm_with_tools.invoke(\n",
        "    \"Which city is hotter today: LA or NY?\",\n",
        ")\n",
        "ai_msg"
      ]
    },
    {
      "cell_type": "markdown",
      "id": "ba03dbf4",
      "metadata": {},
      "source": [
        "### AIMessage.tool_calls\n请注意，AIMessage 具有 `tool_calls` 属性。它以标准化的 ToolCall 格式包含内容，该格式独立于模型提供商。"
      ]
    },
    {
      "cell_type": "code",
      "execution_count": 4,
      "id": "38f10ba7",
      "metadata": {},
      "outputs": [
        {
          "data": {
            "text/plain": [
              "[{'name': 'GetWeather',\n",
              "  'args': {'location': 'Los Angeles, CA'},\n",
              "  'id': 'chatcmpl-tool-6c06a19bbe824d78a322eb193dbde12d',\n",
              "  'type': 'tool_call'},\n",
              " {'name': 'GetWeather',\n",
              "  'args': {'location': 'New York, NY'},\n",
              "  'id': 'chatcmpl-tool-493542e46f1141bfbfeb5deae6c9e086',\n",
              "  'type': 'tool_call'}]"
            ]
          },
          "execution_count": 4,
          "metadata": {},
          "output_type": "execute_result"
        }
      ],
      "source": [
        "ai_msg.tool_calls"
      ]
    },
    {
      "cell_type": "markdown",
      "id": "95fcbf93",
      "metadata": {},
      "source": [
        "## API 参考\n\n如需 `ChatWatsonx` 所有功能和配置的详细文档，请前往 [API 参考](https://python.langchain.com/api_reference/ibm/chat_models/langchain_ibm.chat_models.ChatWatsonx.html)。"
      ]
    }
  ],
  "metadata": {
    "kernelspec": {
      "display_name": "langchain_ibm",
      "language": "python",
      "name": "python3"
    },
    "language_info": {
      "codemirror_mode": {
        "name": "ipython",
        "version": 3
      },
      "file_extension": ".py",
      "mimetype": "text/x-python",
      "name": "python",
      "nbconvert_exporter": "python",
      "pygments_lexer": "ipython3",
      "version": "3.10.14"
    }
  },
  "nbformat": 4,
  "nbformat_minor": 5
}