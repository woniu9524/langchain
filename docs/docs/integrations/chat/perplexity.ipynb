{
  "cells": [
    {
      "cell_type": "raw",
      "id": "a016701c",
      "metadata": {},
      "source": [
        "---\n",
        "sidebar_label: Perplexity\n",
        "---"
      ]
    },
    {
      "cell_type": "markdown",
      "id": "bf733a38-db84-4363-89e2-de6735c37230",
      "metadata": {},
      "source": [
        "# ChatPerplexity\n\n本页面将帮助您开始使用 Perplexity [chat models](../../concepts/chat_models.mdx)。有关 `ChatPerplexity` 所有功能和配置的详细文档，请参阅 [API 参考](https://python.langchain.com/api_reference/perplexity/chat_models/langchain_perplexity.chat_models.ChatPerplexity.html)。\n\n## 概览\n### 集成详情\n\n| Class | Package | Local | Serializable | [JS support](https://js.langchain.com/docs/integrations/chat/xai) | Package downloads | Package latest |\n| :--- | :--- | :---: | :---: |  :---: | :---: | :---: |\n| [ChatPerplexity](https://python.langchain.com/api_reference/perplexity/chat_models/langchain_perplexity.chat_models.ChatPerplexity.html) | [langchain-perplexity](https://python.langchain.com/api_reference/perplexity/perplexity.html) | ❌ | beta | ❌ | ![PyPI - Downloads](https://img.shields.io/pypi/dm/langchain-perplexity?style=flat-square&label=%20) | ![PyPI - Version](https://img.shields.io/pypi/v/langchain-perplexity?style=flat-square&label=%20) |\n\n### 模型功能\n| [Tool calling](../../how_to/tool_calling.ipynb) | [Structured output](../../how_to/structured_output.ipynb) | JSON mode | [Image input](../../how_to/multimodal_inputs.ipynb) | Audio input | Video input | [Token-level streaming](../../how_to/chat_streaming.ipynb) | Native async | [Token usage](../../how_to/chat_token_usage_tracking.ipynb) | [Logprobs](../../how_to/logprobs.ipynb) |\n| :---: | :---: | :---: | :---: |  :---: | :---: | :---: | :---: | :---: | :---: |\n| ❌ | ✅ | ✅ | ❌ | ❌ | ❌ | ✅ | ❌ | ✅ | ❌ |\n\n## 设置\n\n要访问 Perplexity 模型，您需要创建一个 Perplexity 账户，获取 API 密钥，并安装 `langchain-perplexity` 集成包。\n\n### 凭证\n\n请访问 [此页面](https://www.perplexity.ai/) 注册 Perplexity 并生成 API 密钥。完成此操作后，请设置 `PPLX_API_KEY` 环境变量："
      ]
    },
    {
      "cell_type": "code",
      "execution_count": null,
      "id": "2243f329",
      "metadata": {},
      "outputs": [],
      "source": [
        "import getpass\n",
        "import os\n",
        "\n",
        "if \"PPLX_API_KEY\" not in os.environ:\n",
        "    os.environ[\"PPLX_API_KEY\"] = getpass.getpass(\"Enter your Perplexity API key: \")"
      ]
    },
    {
      "cell_type": "markdown",
      "id": "7dfe47c4",
      "metadata": {},
      "source": [
        "为启用模型调用的自动跟踪，请设置您的 [LangSmith](https://docs.smith.langchain.com/) API 密钥："
      ]
    },
    {
      "cell_type": "code",
      "execution_count": null,
      "id": "10a791fa",
      "metadata": {},
      "outputs": [],
      "source": [
        "# os.environ[\"LANGSMITH_API_KEY\"] = getpass.getpass(\"Enter your LangSmith API key: \")\n",
        "# os.environ[\"LANGSMITH_TRACING\"] = \"true\""
      ]
    },
    {
      "cell_type": "code",
      "execution_count": null,
      "id": "d4a7c55d-b235-4ca4-a579-c90cc9570da9",
      "metadata": {
        "ExecuteTime": {
          "end_time": "2024-01-19T11:25:00.590587Z",
          "start_time": "2024-01-19T11:25:00.127293Z"
        },
        "tags": []
      },
      "outputs": [],
      "source": [
        "from langchain_core.prompts import ChatPromptTemplate\n",
        "from langchain_perplexity import ChatPerplexity"
      ]
    },
    {
      "cell_type": "markdown",
      "id": "b26e2035-2f81-4451-ba44-fa2e2d5aeb62",
      "metadata": {},
      "source": [
        "提供的代码假定您的 PPLX_API_KEY 已在环境变量中设置。如果您想手动指定 API 密钥并选择不同的模型，可以使用以下代码："
      ]
    },
    {
      "cell_type": "code",
      "execution_count": null,
      "id": "d986aac6-1bae-4608-8514-d3ba5b35b10e",
      "metadata": {},
      "outputs": [],
      "source": [
        "chat = ChatPerplexity(temperature=0, pplx_api_key=\"YOUR_API_KEY\", model=\"sonar\")"
      ]
    },
    {
      "cell_type": "markdown",
      "id": "97a8ce3a",
      "metadata": {},
      "source": [
        "您可以在此处查看可用模型的列表（[https://docs.perplexity.ai/docs/model-cards](https://docs.perplexity.ai/docs/model-cards)）。为了保证结果的可复现性，我们可以通过将 API 密钥作为此 notebook 的输入来动态设置它。"
      ]
    },
    {
      "cell_type": "code",
      "execution_count": 3,
      "id": "70cf04e8-423a-4ff6-8b09-f11fb711c817",
      "metadata": {
        "ExecuteTime": {
          "end_time": "2024-01-19T11:25:04.349676Z",
          "start_time": "2024-01-19T11:25:03.964930Z"
        },
        "tags": []
      },
      "outputs": [],
      "source": [
        "chat = ChatPerplexity(temperature=0, model=\"sonar\")"
      ]
    },
    {
      "cell_type": "code",
      "execution_count": 4,
      "id": "8199ef8f-eb8b-4253-9ea0-6c24a013ca4c",
      "metadata": {
        "ExecuteTime": {
          "end_time": "2024-01-19T11:25:07.274418Z",
          "start_time": "2024-01-19T11:25:05.898031Z"
        },
        "tags": []
      },
      "outputs": [
        {
          "data": {
            "text/plain": [
              "'The Higgs Boson is an elementary subatomic particle that plays a crucial role in the Standard Model of particle physics, which accounts for three of the four fundamental forces governing the behavior of our universe: the strong and weak nuclear forces, electromagnetism, and gravity. The Higgs Boson is important for several reasons:\\n\\n1. **Final Elementary Particle**: The Higgs Boson is the last elementary particle waiting to be discovered under the Standard Model. Its detection helps complete the Standard Model and further our understanding of the fundamental forces in the universe.\\n\\n2. **Mass Generation**: The Higgs Boson is responsible for giving mass to other particles, a process that occurs through its interaction with the Higgs field. This mass generation is essential for the formation of atoms, molecules, and the visible matter we observe in the universe.\\n\\n3. **Implications for New Physics**: While the detection of the Higgs Boson has confirmed many aspects of the Standard Model, it also opens up new possibilities for discoveries beyond the Standard Model. Further research on the Higgs Boson could reveal insights into the nature of dark matter, supersymmetry, and other exotic phenomena.\\n\\n4. **Advancements in Technology**: The search for the Higgs Boson has led to significant advancements in technology, such as the development of artificial intelligence and machine learning algorithms used in particle accelerators like the Large Hadron Collider (LHC). These advancements have not only contributed to the discovery of the Higgs Boson but also have potential applications in various other fields.\\n\\nIn summary, the Higgs Boson is important because it completes the Standard Model, plays a crucial role in mass generation, hints at new physics phenomena beyond the Standard Model, and drives advancements in technology.\\n'"
            ]
          },
          "execution_count": 4,
          "metadata": {},
          "output_type": "execute_result"
        }
      ],
      "source": [
        "system = \"You are a helpful assistant.\"\n",
        "human = \"{input}\"\n",
        "prompt = ChatPromptTemplate.from_messages([(\"system\", system), (\"human\", human)])\n",
        "\n",
        "chain = prompt | chat\n",
        "response = chain.invoke({\"input\": \"Why is the Higgs Boson important?\"})\n",
        "response.content"
      ]
    },
    {
      "cell_type": "markdown",
      "id": "de6d8d5a",
      "metadata": {},
      "source": [
        "你可以像平常一样格式化和组织提示。在下面的示例中，我们要求模型讲一个关于猫的笑话。"
      ]
    },
    {
      "cell_type": "code",
      "execution_count": 5,
      "id": "c5fac0e9-05a4-4fc1-a3b3-e5bbb24b971b",
      "metadata": {
        "ExecuteTime": {
          "end_time": "2024-01-19T11:25:10.448733Z",
          "start_time": "2024-01-19T11:25:08.866277Z"
        },
        "tags": []
      },
      "outputs": [
        {
          "data": {
            "text/plain": [
              "'Here\\'s a joke about cats:\\n\\nWhy did the cat want math lessons from a mermaid?\\n\\nBecause it couldn\\'t find its \"core purpose\" in life!\\n\\nRemember, cats are unique and fascinating creatures, and each one has its own special traits and abilities. While some may see them as mysterious or even a bit aloof, they are still beloved pets that bring joy and companionship to their owners. So, if your cat ever seeks guidance from a mermaid, just remember that they are on their own journey to self-discovery!\\n'"
            ]
          },
          "execution_count": 5,
          "metadata": {},
          "output_type": "execute_result"
        }
      ],
      "source": [
        "chat = ChatPerplexity(temperature=0, model=\"sonar\")\n",
        "prompt = ChatPromptTemplate.from_messages([(\"human\", \"Tell me a joke about {topic}\")])\n",
        "chain = prompt | chat\n",
        "response = chain.invoke({\"topic\": \"cats\"})\n",
        "response.content"
      ]
    },
    {
      "cell_type": "markdown",
      "id": "a7f8f61b",
      "metadata": {},
      "source": [
        "## 通过 `ChatPerplexity` 使用 Perplexity 特定参数\n\n您还可以通过 ChatPerplexity 类使用 Perplexity 特定的参数。例如，可以使用 `extra_body` 参数来使用 `search_domain_filter`、`return_images`、`return_related_questions` 或 `search_recency_filter` 等参数，如下所示："
      ]
    },
    {
      "cell_type": "code",
      "execution_count": null,
      "id": "73960f51",
      "metadata": {},
      "outputs": [
        {
          "data": {
            "text/plain": [
              "\"Sure, here's a cat joke for you:\\n\\nWhy are cats bad storytellers?\\n\\nBecause they only have one tale. (Pun alert!)\\n\\nSource: OneLineFun.com [4]\""
            ]
          },
          "execution_count": 11,
          "metadata": {},
          "output_type": "execute_result"
        }
      ],
      "source": [
        "chat = ChatPerplexity(temperature=0.7, model=\"sonar\")\n",
        "response = chat.invoke(\n",
        "    \"Tell me a joke about cats\", extra_body={\"search_recency_filter\": \"week\"}\n",
        ")\n",
        "response.content"
      ]
    },
    {
      "cell_type": "markdown",
      "id": "13d93dc4",
      "metadata": {},
      "source": [
        "## `ChatPerplexity` 也支持流式处理功能："
      ]
    },
    {
      "cell_type": "code",
      "execution_count": 6,
      "id": "025be980-e50d-4a68-93dc-c9c7b500ce34",
      "metadata": {
        "ExecuteTime": {
          "end_time": "2024-01-19T11:25:24.438696Z",
          "start_time": "2024-01-19T11:25:14.687480Z"
        },
        "tags": []
      },
      "outputs": [
        {
          "name": "stdout",
          "output_type": "stream",
          "text": [
            "Here is a list of some famous tourist attractions in Pakistan:\n",
            "\n",
            "1. **Minar-e-Pakistan**: A 62-meter high minaret in Lahore that represents the history of Pakistan.\n",
            "2. **Badshahi Mosque**: A historic mosque in Lahore with a capacity of 10,000 worshippers.\n",
            "3. **Shalimar Gardens**: A beautiful garden in Lahore with landscaped grounds and a series of cascading pools.\n",
            "4. **Pakistan Monument**: A national monument in Islamabad representing the four provinces and three districts of Pakistan.\n",
            "5. **National Museum of Pakistan**: A museum in Karachi showcasing the country's cultural history.\n",
            "6. **Faisal Mosque**: A large mosque in Islamabad that can accommodate up to 300,000 worshippers.\n",
            "7. **Clifton Beach**: A popular beach in Karachi offering water activities and recreational facilities.\n",
            "8. **Kartarpur Corridor**: A visa-free border crossing and religious corridor connecting Gurdwara Darbar Sahib in Pakistan to Gurudwara Sri Kartarpur Sahib in India.\n",
            "9. **Mohenjo-daro**: An ancient Indus Valley civilization site in Sindh, Pakistan, dating back to around 2500 BCE.\n",
            "10. **Hunza Valley**: A picturesque valley in Gilgit-Baltistan known for its stunning mountain scenery and unique culture.\n",
            "\n",
            "These attractions showcase the rich history, diverse culture, and natural beauty of Pakistan, making them popular destinations for both local and international tourists.\n"
          ]
        }
      ],
      "source": [
        "chat = ChatPerplexity(temperature=0.7, model=\"sonar\")\n",
        "\n",
        "for chunk in chat.stream(\"Give me a list of famous tourist attractions in Pakistan\"):\n",
        "    print(chunk.content, end=\"\", flush=True)"
      ]
    },
    {
      "cell_type": "markdown",
      "id": "397c43de",
      "metadata": {},
      "source": [
        "## `ChatPerplexity` 为 Tier 3+ 用户提供结构化输出支持"
      ]
    },
    {
      "cell_type": "code",
      "execution_count": 6,
      "id": "1bae9b80-394a-4340-9c30-612c136b742a",
      "metadata": {},
      "outputs": [
        {
          "data": {
            "text/plain": [
              "AnswerFormat(first_name='Michael', last_name='Jordan', year_of_birth=1963, num_seasons_in_nba=15)"
            ]
          },
          "execution_count": 6,
          "metadata": {},
          "output_type": "execute_result"
        }
      ],
      "source": [
        "from pydantic import BaseModel\n",
        "\n",
        "\n",
        "class AnswerFormat(BaseModel):\n",
        "    first_name: str\n",
        "    last_name: str\n",
        "    year_of_birth: int\n",
        "    num_seasons_in_nba: int\n",
        "\n",
        "\n",
        "chat = ChatPerplexity(temperature=0.7, model=\"sonar-pro\")\n",
        "structured_chat = chat.with_structured_output(AnswerFormat)\n",
        "response = structured_chat.invoke(\n",
        "    \"Tell me about Michael Jordan. Return your answer \"\n",
        "    \"as JSON with keys first_name (str), last_name (str), \"\n",
        "    \"year_of_birth (int), and num_seasons_in_nba (int).\"\n",
        ")\n",
        "response"
      ]
    }
  ],
  "metadata": {
    "kernelspec": {
      "display_name": ".venv",
      "language": "python",
      "name": "python3"
    },
    "language_info": {
      "codemirror_mode": {
        "name": "ipython",
        "version": 3
      },
      "file_extension": ".py",
      "mimetype": "text/x-python",
      "name": "python",
      "nbconvert_exporter": "python",
      "pygments_lexer": "ipython3",
      "version": "3.11.11"
    }
  },
  "nbformat": 4,
  "nbformat_minor": 5
}