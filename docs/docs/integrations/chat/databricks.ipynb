{
  "cells": [
    {
      "cell_type": "raw",
      "metadata": {
        "vscode": {
          "languageId": "raw"
        }
      },
      "source": [
        "---\n",
        "sidebar_label: Databricks\n",
        "---"
      ]
    },
    {
      "cell_type": "markdown",
      "metadata": {},
      "source": [
        "# ChatDatabricks\n\n> [Databricks](https://www.databricks.com/) Lakehouse Platform 在一个平台上统一了数据、分析和人工智能。\n\n本笔记本提供了关于开始使用 Databricks [聊天模型](/docs/concepts/chat_models) 的快速概述。有关 ChatDatabricks 所有功能和配置的详细文档，请前往 [API 参考](https://python.langchain.com/api_reference/community/chat_models/langchain_community.chat_models.databricks.ChatDatabricks.html)。\n\n## 概述\n\n`ChatDatabricks` 类封装了托管在 [Databricks 模型服务](https://docs.databricks.com/en/machine-learning/model-serving/index.html) 上的聊天模型端点。这个示例笔记本展示了如何封装您的服务端点，并在 LangChain 应用程序中将其用作聊天模型。\n\n### 集成详情\n\n| 类 | 包 | 本地 | 可序列化 | 包下载次数 | 包最新版本 |\n| :--- | :--- | :---: | :---: |  :---: | :---: |\n| [ChatDatabricks](https://python.langchain.com/api_reference/community/chat_models/langchain_community.chat_models.databricks.ChatDatabricks.html) | [databricks-langchain](https://python.langchain.com/docs/integrations/providers/databricks/) | ❌ | beta | ![PyPI - Downloads](https://img.shields.io/pypi/dm/langchain-databricks?style=flat-square&label=%20) | ![PyPI - Version](https://img.shields.io/pypi/v/langchain-databricks?style=flat-square&label=%20) |\n\n### 模型特性\n| [工具调用](/docs/how_to/tool_calling/) | [结构化输出](/docs/how_to/structured_output/) | JSON 模式 | [图像输入](/docs/how_to/multimodal_inputs/) | 音频输入 | 视频输入 | [Token 级流式传输](/docs/how_to/chat_streaming/) | 原生异步 | [Token 使用量](/docs/how_to/chat_token_usage_tracking/) | [Logprobs](/docs/how_to/logprobs/) |\n| :---: | :---: | :---: | :---: |  :---: | :---: | :---: | :---: | :---: | :---: |\n| ✅ | ✅ | ✅ | ❌ | ❌ | ❌ |  ✅ | ✅ | ✅ | ❌ | \n\n### 支持的方法\n\n`ChatDatabricks` 支持 `ChatModel` 的所有方法，包括异步 API。\n\n### 端点要求\n\n`ChatDatabricks` 封装的服务端点必须具有与 OpenAI 兼容的聊天输入/输出格式（[参考](https://mlflow.org/docs/latest/llms/deployments/index.html#chat)）。只要输入格式兼容，`ChatDatabricks` 就可以用于托管在 [Databricks 模型服务](https://docs.databricks.com/en/machine-learning/model-serving/index.html) 上的任何端点类型：\n\n1. 基础模型 - 状态最先进的基础模型列表，例如 DRBX、Llama3、Mixtral-8x7B 等。这些端点无需任何设置即可在您的 Databricks 工作区中使用。\n2. 自定义模型 - 您还可以通过 MLflow 将自定义模型部署到服务终结点，并使用您选择的框架，如 LangChain、Pytorch、Transformers 等。\n3. 外部模型 - Databricks 端点可以作为代理来服务托管在 Databricks 外部的模型，例如专有的模型服务，如 OpenAI GPT4。"
      ]
    },
    {
      "cell_type": "markdown",
      "metadata": {
        "vscode": {
          "languageId": "plaintext"
        }
      },
      "source": [
        "## 设置\n\n要访问 Databricks 模型，您需要创建一个 Databricks 账户，设置凭证（仅当您在 Databricks 工作空间之外时），并安装必要的软件包。\n\n### 凭证（仅当您在 Databricks 之外时）\n\n如果您在 Databricks 中运行 LangChain 应用程序，则可以跳过此步骤。\n\n否则，您需要将 Databricks 工作空间主机名和个人访问令牌分别手动设置为 `DATABRICKS_HOST` 和 `DATABRICKS_TOKEN` 环境变量。有关如何获取访问令牌的说明，请参阅[身份验证文档](https://docs.databricks.com/en/dev-tools/auth/index.html#databricks-personal-access-tokens)。"
      ]
    },
    {
      "cell_type": "code",
      "execution_count": 2,
      "metadata": {},
      "outputs": [
        {
          "name": "stdout",
          "output_type": "stream",
          "text": [
            "Enter your Databricks access token:  ········\n"
          ]
        }
      ],
      "source": [
        "import getpass\n",
        "import os\n",
        "\n",
        "os.environ[\"DATABRICKS_HOST\"] = \"https://your-workspace.cloud.databricks.com\"\n",
        "if \"DATABRICKS_TOKEN\" not in os.environ:\n",
        "    os.environ[\"DATABRICKS_TOKEN\"] = getpass.getpass(\n",
        "        \"Enter your Databricks access token: \"\n",
        "    )"
      ]
    },
    {
      "cell_type": "markdown",
      "metadata": {},
      "source": [
        "### 安装\n\nLangChain Databricks 集成位于 `databricks-langchain` 包中。"
      ]
    },
    {
      "cell_type": "code",
      "execution_count": null,
      "metadata": {},
      "outputs": [],
      "source": [
        "%pip install -qU databricks-langchain"
      ]
    },
    {
      "cell_type": "markdown",
      "metadata": {},
      "source": [
        "我们首先演示如何使用 `ChatDatabricks` 查询托管为 Foundation Models 端点的 DBRX-instruct 模型。\n\n对于其他类型的端点，端点本身的设置方式有所不同，但一旦端点准备就绪，使用 `ChatDatabricks` 查询它的方式就没有区别。请参阅本笔记本底部有关其他类型端点的示例。"
      ]
    },
    {
      "cell_type": "markdown",
      "metadata": {},
      "source": [
        "## 实例化"
      ]
    },
    {
      "cell_type": "code",
      "execution_count": null,
      "metadata": {},
      "outputs": [],
      "source": [
        "from databricks_langchain import ChatDatabricks\n",
        "\n",
        "chat_model = ChatDatabricks(\n",
        "    endpoint=\"databricks-dbrx-instruct\",\n",
        "    temperature=0.1,\n",
        "    max_tokens=256,\n",
        "    # See https://python.langchain.com/api_reference/community/chat_models/langchain_community.chat_models.databricks.ChatDatabricks.html for other supported parameters\n",
        ")"
      ]
    },
    {
      "cell_type": "markdown",
      "metadata": {},
      "source": [
        "## 调用"
      ]
    },
    {
      "cell_type": "code",
      "execution_count": 5,
      "metadata": {},
      "outputs": [
        {
          "data": {
            "text/plain": [
              "AIMessage(content='MLflow is an open-source platform for managing end-to-end machine learning workflows. It was introduced by Databricks in 2018. MLflow provides tools for tracking experiments, packaging and sharing code, and deploying models. It is designed to work with any machine learning library and can be used in a variety of environments, including local machines, virtual machines, and cloud-based clusters. MLflow aims to streamline the machine learning development lifecycle, making it easier for data scientists and engineers to collaborate and deploy models into production.', response_metadata={'prompt_tokens': 229, 'completion_tokens': 104, 'total_tokens': 333}, id='run-d3fb4d06-3e10-4471-83c9-c282cc62b74d-0')"
            ]
          },
          "execution_count": 5,
          "metadata": {},
          "output_type": "execute_result"
        }
      ],
      "source": [
        "chat_model.invoke(\"What is MLflow?\")"
      ]
    },
    {
      "cell_type": "code",
      "execution_count": 6,
      "metadata": {},
      "outputs": [
        {
          "data": {
            "text/plain": [
              "AIMessage(content='Databricks Model Serving is a feature of the Databricks platform that allows data scientists and engineers to easily deploy machine learning models into production. With Model Serving, you can host, manage, and serve machine learning models as APIs, making it easy to integrate them into applications and business processes. It supports a variety of popular machine learning frameworks, including TensorFlow, PyTorch, and scikit-learn, and provides tools for monitoring and managing the performance of deployed models. Model Serving is designed to be scalable, secure, and easy to use, making it a great choice for organizations that want to quickly and efficiently deploy machine learning models into production.', response_metadata={'prompt_tokens': 35, 'completion_tokens': 130, 'total_tokens': 165}, id='run-b3feea21-223e-4105-8627-41d647d5ccab-0')"
            ]
          },
          "execution_count": 6,
          "metadata": {},
          "output_type": "execute_result"
        }
      ],
      "source": [
        "# You can also pass a list of messages\n",
        "messages = [\n",
        "    (\"system\", \"You are a chatbot that can answer questions about Databricks.\"),\n",
        "    (\"user\", \"What is Databricks Model Serving?\"),\n",
        "]\n",
        "chat_model.invoke(messages)"
      ]
    },
    {
      "cell_type": "markdown",
      "metadata": {},
      "source": [
        "## 链式调用\n与其它聊天模型类似，`ChatDatabricks` 也可以用作复杂链式调用的一部分。"
      ]
    },
    {
      "cell_type": "code",
      "execution_count": 6,
      "metadata": {},
      "outputs": [
        {
          "data": {
            "text/plain": [
              "AIMessage(content=\"Unity Catalog is a new data catalog feature in Databricks that allows you to discover, manage, and govern all your data assets across your data landscape, including data lakes, data warehouses, and data marts. It provides a centralized repository for storing and managing metadata, data lineage, and access controls for all your data assets. Unity Catalog enables data teams to easily discover and access the data they need, while ensuring compliance with data privacy and security regulations. It is designed to work seamlessly with Databricks' Lakehouse platform, providing a unified experience for managing and analyzing all your data.\", response_metadata={'prompt_tokens': 32, 'completion_tokens': 118, 'total_tokens': 150}, id='run-82d72624-f8df-4c0d-a976-919feec09a55-0')"
            ]
          },
          "execution_count": 6,
          "metadata": {},
          "output_type": "execute_result"
        }
      ],
      "source": [
        "from langchain_core.prompts import ChatPromptTemplate\n",
        "\n",
        "prompt = ChatPromptTemplate.from_messages(\n",
        "    [\n",
        "        (\n",
        "            \"system\",\n",
        "            \"You are a chatbot that can answer questions about {topic}.\",\n",
        "        ),\n",
        "        (\"user\", \"{question}\"),\n",
        "    ]\n",
        ")\n",
        "\n",
        "chain = prompt | chat_model\n",
        "chain.invoke(\n",
        "    {\n",
        "        \"topic\": \"Databricks\",\n",
        "        \"question\": \"What is Unity Catalog?\",\n",
        "    }\n",
        ")"
      ]
    },
    {
      "cell_type": "markdown",
      "metadata": {},
      "source": [
        "## 调用（流式）"
      ]
    },
    {
      "cell_type": "code",
      "execution_count": 5,
      "metadata": {},
      "outputs": [
        {
          "name": "stdout",
          "output_type": "stream",
          "text": [
            "I|'m| an| AI| and| don|'t| have| feelings|,| but| I|'m| here| and| ready| to| assist| you|.| How| can| I| help| you| today|?||"
          ]
        }
      ],
      "source": [
        "for chunk in chat_model.stream(\"How are you?\"):\n",
        "    print(chunk.content, end=\"|\")"
      ]
    },
    {
      "cell_type": "markdown",
      "metadata": {},
      "source": [
        "## 异步调用"
      ]
    },
    {
      "cell_type": "code",
      "execution_count": null,
      "metadata": {},
      "outputs": [],
      "source": [
        "import asyncio\n",
        "\n",
        "country = [\"Japan\", \"Italy\", \"Australia\"]\n",
        "futures = [chat_model.ainvoke(f\"Where is the capital of {c}?\") for c in country]\n",
        "await asyncio.gather(*futures)"
      ]
    },
    {
      "cell_type": "markdown",
      "metadata": {},
      "source": [
        "## 工具调用\n\nChatDatabricks 支持与 OpenAI 兼容的工具调用 API，允许你描述工具及其参数，模型将返回一个 JSON 对象，其中包含要调用的工具和该工具的输入。工具调用对于构建使用工具的链和代理以及更普遍地从模型获取结构化输出非常有用。\n\n通过 `ChatDatabricks.bind_tools`，我们可以轻松地将 Pydantic 类、字典模式、LangChain 工具，甚至是函数作为工具传递给模型。在底层这些会被转换为与 OpenAI 兼容的工具模式，看起来像这样：\n\n```\n{\n    \"name\": \"...\",\n    \"description\": \"...\",\n    \"parameters\": {...}  # JSONSchema\n}\n```\n\n并在每次模型调用时传递。"
      ]
    },
    {
      "cell_type": "code",
      "execution_count": 1,
      "metadata": {},
      "outputs": [],
      "source": [
        "from pydantic import BaseModel, Field\n",
        "\n",
        "\n",
        "class GetWeather(BaseModel):\n",
        "    \"\"\"Get the current weather in a given location\"\"\"\n",
        "\n",
        "    location: str = Field(..., description=\"The city and state, e.g. San Francisco, CA\")\n",
        "\n",
        "\n",
        "class GetPopulation(BaseModel):\n",
        "    \"\"\"Get the current population in a given location\"\"\"\n",
        "\n",
        "    location: str = Field(..., description=\"The city and state, e.g. San Francisco, CA\")\n",
        "\n",
        "\n",
        "llm_with_tools = chat_model.bind_tools([GetWeather, GetPopulation])\n",
        "ai_msg = llm_with_tools.invoke(\n",
        "    \"Which city is hotter today and which is bigger: LA or NY?\"\n",
        ")\n",
        "print(ai_msg.tool_calls)"
      ]
    },
    {
      "cell_type": "markdown",
      "metadata": {},
      "source": [
        "## 包装自定义模型终结点\n\n先决条件：\n\n*       已通过 MLflow 注册并部署了 LLM 到[Databricks 终结点](https://docs.databricks.com/machine-learning/model-serving/index.html)。该终结点必须具有与 OpenAI 兼容的聊天输入/输出格式（[参考](https://mlflow.org/docs/latest/llms/deployments/index.html#chat)）。\n*       您对该终结点拥有[\"Can Query\" 权限](https://docs.databricks.com/security/auth-authz/access-control/serving-endpoint-acl.html)。\n\n终结点准备就绪后，使用模式与 Foundation Models 相同。"
      ]
    },
    {
      "cell_type": "code",
      "execution_count": null,
      "metadata": {},
      "outputs": [],
      "source": [
        "chat_model_custom = ChatDatabricks(\n",
        "    endpoint=\"YOUR_ENDPOINT_NAME\",\n",
        "    temperature=0.1,\n",
        "    max_tokens=256,\n",
        ")\n",
        "\n",
        "chat_model_custom.invoke(\"How are you?\")"
      ]
    },
    {
      "cell_type": "markdown",
      "metadata": {},
      "source": [
        "## 封装外部模型"
      ]
    },
    {
      "cell_type": "markdown",
      "metadata": {},
      "source": [
        "先决条件：创建代理终结点\n\n首先，创建一个新的 Databricks 服务终结点，将请求代理到目标外部模型。代理外部模型时，创建此终结点应该会非常快。\n\n这需要在 Databricks 密钥管理器中注册你的 OpenAI API 密钥，如下所示：\n```sh\n# 将 `<scope>` 替换为你的作用域\ndatabricks secrets create-scope <scope>\ndatabricks secrets put-secret <scope> openai-api-key --string-value $OPENAI_API_KEY\n```\n\n有关如何设置 Databricks CLI 和管理密钥的信息，请参阅 https://docs.databricks.com/en/security/secrets/secrets.html"
      ]
    },
    {
      "cell_type": "code",
      "execution_count": null,
      "metadata": {},
      "outputs": [],
      "source": [
        "from mlflow.deployments import get_deploy_client\n",
        "\n",
        "client = get_deploy_client(\"databricks\")\n",
        "\n",
        "secret = \"secrets/<scope>/openai-api-key\"  # replace `<scope>` with your scope\n",
        "endpoint_name = \"my-chat\"  # rename this if my-chat already exists\n",
        "client.create_endpoint(\n",
        "    name=endpoint_name,\n",
        "    config={\n",
        "        \"served_entities\": [\n",
        "            {\n",
        "                \"name\": \"my-chat\",\n",
        "                \"external_model\": {\n",
        "                    \"name\": \"gpt-3.5-turbo\",\n",
        "                    \"provider\": \"openai\",\n",
        "                    \"task\": \"llm/v1/chat\",\n",
        "                    \"openai_config\": {\n",
        "                        \"openai_api_key\": \"{{\" + secret + \"}}\",\n",
        "                    },\n",
        "                },\n",
        "            }\n",
        "        ],\n",
        "    },\n",
        ")"
      ]
    },
    {
      "cell_type": "markdown",
      "metadata": {},
      "source": [
        "一旦端点状态变为“Ready”，您就可以像查询其他类型的端点一样查询该端点。"
      ]
    },
    {
      "cell_type": "code",
      "execution_count": null,
      "metadata": {},
      "outputs": [],
      "source": [
        "chat_model_external = ChatDatabricks(\n",
        "    endpoint=endpoint_name,\n",
        "    temperature=0.1,\n",
        "    max_tokens=256,\n",
        ")\n",
        "chat_model_external.invoke(\"How to use Databricks?\")"
      ]
    },
    {
      "cell_type": "markdown",
      "metadata": {},
      "source": [
        "## Databricks 上的函数调用"
      ]
    },
    {
      "cell_type": "markdown",
      "metadata": {},
      "source": [
        "Databricks 函数调用与 OpenAI 兼容，并且仅在作为 Foundation Model API 一部分的模型服务期间可用。\n\n有关支持的模型，请参阅 [Databricks 函数调用简介](https://docs.databricks.com/en/machine-learning/model-serving/function-calling.html#supported-models)。"
      ]
    },
    {
      "cell_type": "code",
      "execution_count": null,
      "metadata": {},
      "outputs": [],
      "source": [
        "llm = ChatDatabricks(endpoint=\"databricks-meta-llama-3-70b-instruct\")\n",
        "tools = [\n",
        "    {\n",
        "        \"type\": \"function\",\n",
        "        \"function\": {\n",
        "            \"name\": \"get_current_weather\",\n",
        "            \"description\": \"Get the current weather in a given location\",\n",
        "            \"parameters\": {\n",
        "                \"type\": \"object\",\n",
        "                \"properties\": {\n",
        "                    \"location\": {\n",
        "                        \"type\": \"string\",\n",
        "                        \"description\": \"The city and state, e.g. San Francisco, CA\",\n",
        "                    },\n",
        "                    \"unit\": {\"type\": \"string\", \"enum\": [\"celsius\", \"fahrenheit\"]},\n",
        "                },\n",
        "            },\n",
        "        },\n",
        "    }\n",
        "]\n",
        "\n",
        "# supported tool_choice values: \"auto\", \"required\", \"none\", function name in string format,\n",
        "# or a dictionary as {\"type\": \"function\", \"function\": {\"name\": <<tool_name>>}}\n",
        "model = llm.bind_tools(tools, tool_choice=\"auto\")\n",
        "\n",
        "messages = [{\"role\": \"user\", \"content\": \"What is the current temperature of Chicago?\"}]\n",
        "print(model.invoke(messages))"
      ]
    },
    {
      "cell_type": "markdown",
      "metadata": {},
      "source": [
        "请参阅 [Databricks Unity Catalog](docs/integrations/tools/databricks.ipynb)，了解如何在链中使用 UC 函数。"
      ]
    },
    {
      "cell_type": "markdown",
      "metadata": {},
      "source": [
        "## API 参考\n\n如需了解 ChatDatabricks 所有功能和配置的详细文档，请参阅 API 参考：https://api-docs.databricks.com/python/databricks-ai-bridge/latest/databricks_langchain.html#databricks_langchain.ChatDatabricks"
      ]
    }
  ],
  "metadata": {
    "kernelspec": {
      "display_name": "Python 3",
      "language": "python",
      "name": "python3"
    },
    "language_info": {
      "codemirror_mode": {
        "name": "ipython",
        "version": 3
      },
      "file_extension": ".py",
      "mimetype": "text/x-python",
      "name": "python",
      "nbconvert_exporter": "python",
      "pygments_lexer": "ipython3",
      "version": "3.10.12"
    }
  },
  "nbformat": 4,
  "nbformat_minor": 4
}