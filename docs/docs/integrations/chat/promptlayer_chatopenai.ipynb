{
  "cells": [
    {
      "cell_type": "raw",
      "id": "ce3672d3",
      "metadata": {},
      "source": [
        "---\n",
        "sidebar_label: PromptLayer ChatOpenAI\n",
        "---"
      ]
    },
    {
      "attachments": {},
      "cell_type": "markdown",
      "id": "959300d4",
      "metadata": {},
      "source": [
        "# PromptLayerChatOpenAI\n\n本示例展示了如何连接到 [PromptLayer](https://www.promptlayer.com) 来开始记录您的 ChatOpenAI 请求。"
      ]
    },
    {
      "attachments": {},
      "cell_type": "markdown",
      "id": "6a45943e",
      "metadata": {},
      "source": [
        "## 安装 PromptLayer\n使用 PromptLayer 和 OpenAI 需要安装 `promptlayer` 包。请使用 pip 安装 `promptlayer`。"
      ]
    },
    {
      "cell_type": "code",
      "execution_count": null,
      "id": "dbe09bd8",
      "metadata": {
        "vscode": {
          "languageId": "powershell"
        }
      },
      "outputs": [],
      "source": [
        "pip install promptlayer"
      ]
    },
    {
      "cell_type": "markdown",
      "id": "536c1dfa",
      "metadata": {},
      "source": [
        "## 导入"
      ]
    },
    {
      "cell_type": "code",
      "execution_count": 2,
      "id": "c16da3b5",
      "metadata": {},
      "outputs": [],
      "source": [
        "import os\n",
        "\n",
        "from langchain_community.chat_models import PromptLayerChatOpenAI\n",
        "from langchain_core.messages import HumanMessage"
      ]
    },
    {
      "attachments": {},
      "cell_type": "markdown",
      "id": "8564ce7d",
      "metadata": {},
      "source": [
        "## 设置环境变量 API 密钥\n你可以在 www.promptlayer.com 上创建一个 PromptLayer API 密钥，方法是点击导航栏中的设置齿轮图标。\n\n将其设置为名为 `PROMPTLAYER_API_KEY` 的环境变量。"
      ]
    },
    {
      "cell_type": "code",
      "execution_count": 5,
      "id": "46ba25dc",
      "metadata": {},
      "outputs": [],
      "source": [
        "os.environ[\"PROMPTLAYER_API_KEY\"] = \"**********\""
      ]
    },
    {
      "attachments": {},
      "cell_type": "markdown",
      "id": "bf0294de",
      "metadata": {},
      "source": [
        "## 正常使用 PromptLayerOpenAI LLM\n*您可以选择性地传递 `pl_tags` 以使用 PromptLayer 的标签功能跟踪您的请求。*"
      ]
    },
    {
      "cell_type": "code",
      "execution_count": 4,
      "id": "3acf0069",
      "metadata": {},
      "outputs": [
        {
          "data": {
            "text/plain": [
              "AIMessage(content='to take a nap in a cozy spot. I search around for a suitable place and finally settle on a soft cushion on the window sill. I curl up into a ball and close my eyes, relishing the warmth of the sun on my fur. As I drift off to sleep, I can hear the birds chirping outside and feel the gentle breeze blowing through the window. This is the life of a contented cat.', additional_kwargs={})"
            ]
          },
          "execution_count": 4,
          "metadata": {},
          "output_type": "execute_result"
        }
      ],
      "source": [
        "chat = PromptLayerChatOpenAI(pl_tags=[\"langchain\"])\n",
        "chat([HumanMessage(content=\"I am a cat and I want\")])"
      ]
    },
    {
      "attachments": {},
      "cell_type": "markdown",
      "id": "a2d76826",
      "metadata": {},
      "source": [
        "**以上请求现在应该会出现在你的 [PromptLayer dashboard](https://www.promptlayer.com) 上了。**"
      ]
    },
    {
      "attachments": {},
      "cell_type": "markdown",
      "id": "c43803d1",
      "metadata": {},
      "source": [
        "## 使用 PromptLayer Track\n\n如果您想使用任何 [PromptLayer 跟踪功能](https://magniv.notion.site/Track-4deee1b1f7a34c1680d085f82567dab9)，您需要在实例化 PromptLayer LLM 时传递 `return_pl_id` 参数以获取请求 ID。"
      ]
    },
    {
      "cell_type": "code",
      "execution_count": null,
      "id": "b7d4db01",
      "metadata": {},
      "outputs": [],
      "source": [
        "import promptlayer\n",
        "\n",
        "chat = PromptLayerChatOpenAI(return_pl_id=True)\n",
        "chat_results = chat.generate([[HumanMessage(content=\"I am a cat and I want\")]])\n",
        "\n",
        "for res in chat_results.generations:\n",
        "    pl_request_id = res[0].generation_info[\"pl_request_id\"]\n",
        "    promptlayer.track.score(request_id=pl_request_id, score=100)"
      ]
    },
    {
      "cell_type": "markdown",
      "id": "13e56507",
      "metadata": {},
      "source": [
        "使用此功能，您可以：\n\n*   在 PromptLayer 控制面板中跟踪模型的性能。\n*   如果您正在使用 prompt 模板，也可以将模板附加到请求中。\n\n总而言之，这使您有机会在 PromptLayer 控制面板中跟踪不同模板和模型的性能。"
      ]
    }
  ],
  "metadata": {
    "kernelspec": {
      "display_name": "Python 3 (ipykernel)",
      "language": "python",
      "name": "python3"
    },
    "language_info": {
      "codemirror_mode": {
        "name": "ipython",
        "version": 3
      },
      "file_extension": ".py",
      "mimetype": "text/x-python",
      "name": "python",
      "nbconvert_exporter": "python",
      "pygments_lexer": "ipython3",
      "version": "3.10.12"
    },
    "vscode": {
      "interpreter": {
        "hash": "8a5edab282632443219e051e4ade2d1d5bbc671c781051bf1437897cbdfea0f1"
      }
    }
  },
  "nbformat": 4,
  "nbformat_minor": 5
}