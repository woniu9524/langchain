{
  "cells": [
    {
      "cell_type": "raw",
      "id": "eb65deaa",
      "metadata": {},
      "source": [
        "---\n",
        "sidebar_label: vLLM Chat\n",
        "---"
      ]
    },
    {
      "cell_type": "markdown",
      "id": "8f82e243-f4ee-44e2-b417-099b6401ae3e",
      "metadata": {},
      "source": [
        "# vLLM 聊天\n\nvLLM 可以部署为一个模仿 OpenAI API 协议的服务器。这使得 vLLM 可以作为即插即用型替代方案，用于使用 OpenAI API 的应用程序。此服务器的查询格式与 OpenAI API 的查询格式相同。\n\n## 概览\n这将帮助您开始使用 vLLM [聊天模型](/docs/concepts/chat_models)，它利用了 `langchain-openai` 包。有关所有 `ChatOpenAI` 功能和配置的详细文档，请前往 [API 参考](https://python.langchain.com/api_reference/openai/chat_models/langchain_openai.chat_models.base.ChatOpenAI.html)。\n\n### 集成详情\n\n| 类 | 包 | 本地 | 可序列化 | JS 支持 | 包下载 | 包最新版本 |\n| :--- | :--- | :---: | :---: |  :---: | :---: | :---: |\n| [ChatOpenAI](https://python.langchain.com/api_reference/openai/chat_models/langchain_openai.chat_models.base.ChatOpenAI.html) | [langchain_openai](https://python.langchain.com/api_reference/openai/) | ✅ | beta | ❌ | ![PyPI - Downloads](https://img.shields.io/pypi/dm/langchain_openai?style=flat-square&label=%20) | ![PyPI - Version](https://img.shields.io/pypi/v/langchain_openai?style=flat-square&label=%20) |\n\n### 模型特性\n特定的模型特性，例如工具调用、多模态输入支持、Token 级别流式传输支持等，将取决于所托管的模型。\n\n## 设置\n\n请参阅 vLLM 文档 [此处](https://docs.vllm.ai/en/latest/)。\n\n要通过 LangChain 访问 vLLM 模型，您需要安装 `langchain-openai` 集成包。\n\n### 凭证\n\n身份验证将取决于推理服务器的具体情况。"
      ]
    },
    {
      "cell_type": "markdown",
      "id": "c3b1707a-cf2c-4367-94e3-436c43402503",
      "metadata": {},
      "source": "为了使您的模型调用能够被自动追踪，请设置您的 [LangSmith](https://docs.smith.langchain.com/) API 密钥："
    },
    {
      "cell_type": "code",
      "execution_count": null,
      "id": "1e40bd5e-cbaa-41ef-aaf9-0858eb207184",
      "metadata": {},
      "outputs": [],
      "source": [
        "# os.environ[\"LANGSMITH_TRACING\"] = \"true\"\n",
        "# os.environ[\"LANGSMITH_API_KEY\"] = getpass.getpass(\"Enter your LangSmith API key: \")"
      ]
    },
    {
      "cell_type": "markdown",
      "id": "0739b647-609b-46d3-bdd3-e86fe4463288",
      "metadata": {},
      "source": [
        "### 安装\n\nLangChain 的 vLLM 集成可以通过 `langchain-openai` 包访问："
      ]
    },
    {
      "cell_type": "code",
      "execution_count": null,
      "id": "7afcfbdc-56aa-4529-825a-8acbe7aa5241",
      "metadata": {},
      "outputs": [],
      "source": [
        "%pip install -qU langchain-openai"
      ]
    },
    {
      "cell_type": "markdown",
      "id": "2cf576d6-7b67-4937-bf99-39071e85720c",
      "metadata": {},
      "source": [
        "## 实例化\n\n现在我们可以实例化我们的模型对象并生成聊天补全："
      ]
    },
    {
      "cell_type": "code",
      "execution_count": 1,
      "id": "060a2e3d-d42f-4221-bd09-a9a06544dcd3",
      "metadata": {
        "tags": []
      },
      "outputs": [],
      "source": [
        "from langchain_core.messages import HumanMessage, SystemMessage\n",
        "from langchain_core.prompts.chat import (\n",
        "    ChatPromptTemplate,\n",
        "    HumanMessagePromptTemplate,\n",
        "    SystemMessagePromptTemplate,\n",
        ")\n",
        "from langchain_openai import ChatOpenAI"
      ]
    },
    {
      "cell_type": "code",
      "execution_count": 14,
      "id": "bf24d732-68a9-44fd-b05d-4903ce5620c6",
      "metadata": {
        "tags": []
      },
      "outputs": [],
      "source": [
        "inference_server_url = \"http://localhost:8000/v1\"\n",
        "\n",
        "llm = ChatOpenAI(\n",
        "    model=\"mosaicml/mpt-7b\",\n",
        "    openai_api_key=\"EMPTY\",\n",
        "    openai_api_base=inference_server_url,\n",
        "    max_tokens=5,\n",
        "    temperature=0,\n",
        ")"
      ]
    },
    {
      "cell_type": "markdown",
      "id": "34b18328-5e8b-4ff2-9b89-6fbb76b5c7f0",
      "metadata": {},
      "source": [
        "## 调用"
      ]
    },
    {
      "cell_type": "code",
      "execution_count": 15,
      "id": "aea4e363-5688-4b07-82ed-6aa8153c2377",
      "metadata": {
        "tags": []
      },
      "outputs": [
        {
          "data": {
            "text/plain": [
              "AIMessage(content=' Io amo programmare', additional_kwargs={}, example=False)"
            ]
          },
          "execution_count": 15,
          "metadata": {},
          "output_type": "execute_result"
        }
      ],
      "source": [
        "messages = [\n",
        "    SystemMessage(\n",
        "        content=\"You are a helpful assistant that translates English to Italian.\"\n",
        "    ),\n",
        "    HumanMessage(\n",
        "        content=\"Translate the following sentence from English to Italian: I love programming.\"\n",
        "    ),\n",
        "]\n",
        "llm.invoke(messages)"
      ]
    },
    {
      "cell_type": "markdown",
      "id": "a580a1e4-11a3-4277-bfba-bfb414ac7201",
      "metadata": {},
      "source": [
        "## 链式调用\n\n我们可以像这样将我们的模型与提示模板[链接](/docs/how_to/sequence/)起来："
      ]
    },
    {
      "cell_type": "code",
      "execution_count": null,
      "id": "dd0f4043-48bd-4245-8bdb-e7669666a277",
      "metadata": {},
      "outputs": [],
      "source": [
        "from langchain_core.prompts import ChatPromptTemplate\n",
        "\n",
        "prompt = ChatPromptTemplate(\n",
        "    [\n",
        "        (\n",
        "            \"system\",\n",
        "            \"You are a helpful assistant that translates {input_language} to {output_language}.\",\n",
        "        ),\n",
        "        (\"human\", \"{input}\"),\n",
        "    ]\n",
        ")\n",
        "\n",
        "chain = prompt | llm\n",
        "chain.invoke(\n",
        "    {\n",
        "        \"input_language\": \"English\",\n",
        "        \"output_language\": \"German\",\n",
        "        \"input\": \"I love programming.\",\n",
        "    }\n",
        ")"
      ]
    },
    {
      "cell_type": "markdown",
      "id": "265f5d51-0a76-4808-8d13-ef598ee6e366",
      "metadata": {},
      "source": [
        "## API 参考\n\n有关 `langchain-openai` 提供的所有功能和配置的详细文档，请参阅 API 参考：https://python.langchain.com/api_reference/openai/chat_models/langchain_openai.chat_models.base.ChatOpenAI.html\n\n另请参阅 vLLM 的 [文档](https://docs.vllm.ai/en/latest/)。"
      ]
    }
  ],
  "metadata": {
    "kernelspec": {
      "display_name": "Python 3 (ipykernel)",
      "language": "python",
      "name": "python3"
    },
    "language_info": {
      "codemirror_mode": {
        "name": "ipython",
        "version": 3
      },
      "file_extension": ".py",
      "mimetype": "text/x-python",
      "name": "python",
      "nbconvert_exporter": "python",
      "pygments_lexer": "ipython3",
      "version": "3.10.4"
    }
  },
  "nbformat": 4,
  "nbformat_minor": 5
}