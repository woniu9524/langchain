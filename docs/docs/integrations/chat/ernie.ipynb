{
  "cells": [
    {
      "cell_type": "raw",
      "metadata": {},
      "source": [
        "---\n",
        "sidebar_label: Ernie Bot Chat\n",
        "---"
      ]
    },
    {
      "cell_type": "markdown",
      "metadata": {},
      "source": [
        "# ErnieBotChat\n\n[ERNIE-Bot](https://cloud.baidu.com/doc/WENXINWORKSHOP/s/jlil56u11) 是百度开发的大型语言模型，涵盖了海量的中文数据。\n本 Notebook 涵盖了如何开始使用 ErnieBot 聊天模型。"
      ]
    },
    {
      "cell_type": "markdown",
      "metadata": {},
      "source": [
        "**弃用警告**\n\n我们建议用户从 `langchain_community.chat_models.ErnieBotChat` 切换到 `langchain_community.chat_models.QianfanChatEndpoint`。\n\n`QianfanChatEndpoint` 的文档请 [点击这里](/docs/integrations/chat/baidu_qianfan_endpoint/)。\n\n我们推荐用户使用 `QianfanChatEndpoint` 的原因有以下 4 点：\n\n1.  `QianfanChatEndpoint` 支持千帆平台上的更多大语言模型。\n2.  `QianfanChatEndpoint` 支持流式输出模式。\n3.  `QianfanChatEndpoint` 支持函数调用。\n4.  `ErnieBotChat` 将不再维护，已被弃用。"
      ]
    },
    {
      "cell_type": "markdown",
      "metadata": {},
      "source": [
        "迁移的一些建议：\n\n- 将 `ernie_client_id` 更改为 `qianfan_ak`，同时将 `ernie_client_secret` 更改为 `qianfan_sk`。\n- 安装 `qianfan` 包。例如 `pip install qianfan`\n- 将 `ErnieBotChat` 更改为 `QianfanChatEndpoint`。"
      ]
    },
    {
      "cell_type": "code",
      "execution_count": null,
      "metadata": {},
      "outputs": [],
      "source": [
        "from langchain_community.chat_models.baidu_qianfan_endpoint import QianfanChatEndpoint\n",
        "\n",
        "chat = QianfanChatEndpoint(\n",
        "    qianfan_ak=\"your qianfan ak\",\n",
        "    qianfan_sk=\"your qianfan sk\",\n",
        ")"
      ]
    },
    {
      "cell_type": "markdown",
      "metadata": {},
      "source": [
        "## 用法"
      ]
    },
    {
      "cell_type": "code",
      "execution_count": 13,
      "metadata": {},
      "outputs": [],
      "source": [
        "from langchain_community.chat_models import ErnieBotChat\n",
        "from langchain_core.messages import HumanMessage\n",
        "\n",
        "chat = ErnieBotChat(\n",
        "    ernie_client_id=\"YOUR_CLIENT_ID\", ernie_client_secret=\"YOUR_CLIENT_SECRET\"\n",
        ")"
      ]
    },
    {
      "cell_type": "markdown",
      "metadata": {},
      "source": [
        "或者，您可以在环境变量中设置 `client_id` 和 `client_secret`\n```bash\nexport ERNIE_CLIENT_ID=YOUR_CLIENT_ID\nexport ERNIE_CLIENT_SECRET=YOUR_CLIENT_SECRET\n```"
      ]
    },
    {
      "cell_type": "code",
      "execution_count": 15,
      "metadata": {},
      "outputs": [
        {
          "data": {
            "text/plain": [
              "AIMessage(content='Hello, I am an artificial intelligence language model. My purpose is to help users answer questions or provide information. What can I do for you?', additional_kwargs={}, example=False)"
            ]
          },
          "execution_count": 15,
          "metadata": {},
          "output_type": "execute_result"
        }
      ],
      "source": [
        "chat([HumanMessage(content=\"hello there, who are you?\")])"
      ]
    }
  ],
  "metadata": {
    "kernelspec": {
      "display_name": "Python 3 (ipykernel)",
      "language": "python",
      "name": "python3"
    },
    "language_info": {
      "codemirror_mode": {
        "name": "ipython",
        "version": 3
      },
      "file_extension": ".py",
      "mimetype": "text/x-python",
      "name": "python",
      "nbconvert_exporter": "python",
      "pygments_lexer": "ipython3",
      "version": "3.12.10"
    }
  },
  "nbformat": 4,
  "nbformat_minor": 4
}