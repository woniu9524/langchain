{
  "cells": [
    {
      "cell_type": "raw",
      "id": "59148044",
      "metadata": {
        "id": "59148044"
      },
      "source": [
        "---\n",
        "sidebar_label: LiteLLM\n",
        "---"
      ]
    },
    {
      "cell_type": "markdown",
      "id": "5bcea387",
      "metadata": {
        "id": "5bcea387"
      },
      "source": [
        "# ChatLiteLLM 与 ChatLiteLLMRouter\n\n[LiteLLM](https://github.com/BerriAI/litellm) 是一个简化了调用 Anthropic、Azure、Huggingface、Replicate 等服务的库。\n\n本Notebook 涵盖了如何开始使用 Langchain + LiteLLM I/O 库。\n\n此集成包含两个主要类：\n\n- ```ChatLiteLLM```：LiteLLM 的主要 Langchain封装，用于基本操作 ([docs](https://docs.litellm.ai/docs/))。\n- ```ChatLiteLLMRouter```：一个 ```ChatLiteLLM``` 的封装，利用了 LiteLLM 的 Router 功能 ([docs](https://docs.litellm.ai/docs/routing))。"
      ]
    },
    {
      "cell_type": "markdown",
      "id": "2ddb7fd3",
      "metadata": {},
      "source": [
        "## 目录\n1. [概述](#overview)\n   - [集成详情](#integration-details)\n   - [模型特性](#model-features)\n2. [设置](#setup)\n3. [凭证](#credentials)\n4. [安装](#installation)\n5. [实例化](#instantiation)\n   - [ChatLiteLLM](#chatlitellm)\n   - [ChatLiteLLMRouter](#chatlitellmrouter)\n6. [调用](#invocation)\n7. [异步和流式功能](#async-and-streaming-functionality)\n8. [API 参考](#api-reference)"
      ]
    },
    {
      "cell_type": "markdown",
      "id": "37be6ef8",
      "metadata": {},
      "source": [
        "## 概览\n### 集成详情\n\n| 类名 (Class) | 包名 (Package) | 本地 (Local) | 可序列化 (Serializable) | JS 支持 (JS support) | 包下载量 (Package downloads) | 包最新版本 (Package latest) |\n| :---  | :--- | :---: | :---: |  :---: | :---: | :---: |\n| [ChatLiteLLM](https://python.langchain.com/docs/integrations/chat/litellm/#chatlitellm) | [langchain-litellm](https://pypi.org/project/langchain-litellm/)| ❌ | ❌ | ❌ | ![PyPI - Downloads](https://img.shields.io/pypi/dm/langchain-litellm?style=flat-square&label=%20) | ![PyPI - Version](https://img.shields.io/pypi/v/langchain-litellm?style=flat-square&label=%20) |\n| [ChatLiteLLMRouter](https://python.langchain.com/docs/integrations/chat/litellm/#chatlitellmrouter) | [langchain-litellm](https://pypi.org/project/langchain-litellm/)| ❌ | ❌ | ❌ | ![PyPI - Downloads](https://img.shields.io/pypi/dm/langchain-litellm?style=flat-square&label=%20) | ![PyPI - Version](https://img.shields.io/pypi/v/langchain-litellm?style=flat-square&label=%20) |\n\n### 模型功能\n| [工具调用](https://python.langchain.com/docs/how_to/tool_calling/) | [结构化输出](https://python.langchain.com/docs/how_to/structured_output/) | JSON 模式 (JSON mode) | 图像输入 (Image input) | 音频输入 (Audio input) | 视频输入 (Video input) | [Token 级流式输出](https://python.langchain.com/docs/integrations/chat/litellm/#chatlitellm-also-supports-async-and-streaming-functionality) | [原生异步](https://python.langchain.com/docs/integrations/chat/litellm/#chatlitellm-also-supports-async-and-streaming-functionality) | [Token 使用量](https://python.langchain.com/docs/how_to/chat_token_usage_tracking/) | [Logprobs](https://python.langchain.com/docs/how_to/logprobs/) |\n| :---: | :---: | :---: | :---: |  :---: | :---: | :---: | :---: | :---: | :---: |\n| ✅ | ❌ | ❌ | ❌ | ❌ | ❌ | ✅ | ✅ | ✅ | ❌ |\n\n### 设置\n要访问 ```ChatLiteLLM``` 和 ```ChatLiteLLMRouter``` 模型，您需要安装 `langchain-litellm` 包，并创建一个 OpenAI、Anthropic、Azure、Replicate、OpenRouter、Hugging Face、Together AI 或 Cohere 账户。然后，获取您的 API 密钥并将其导出为环境变量。"
      ]
    },
    {
      "cell_type": "markdown",
      "id": "0a2f8164",
      "metadata": {
        "id": "0a2f8164"
      },
      "source": [
        "## 凭据\n\n您需要选择想要使用的 LLM 提供商，并与他们注册以获取其 API 密钥。\n\n### 示例 - Anthropic\n前往 https://console.anthropic.com/ 注册 Anthropic 并生成 API 密钥。完成此操作后，设置 ANTHROPIC_API_KEY 环境变量。\n\n### 示例 - OpenAI\n前往 https://platform.openai.com/api-keys 注册 OpenAI 并生成 API 密钥。完成此操作后，设置 OPENAI_API_KEY 环境变量。"
      ]
    },
    {
      "cell_type": "code",
      "execution_count": null,
      "id": "7595eddf",
      "metadata": {
        "id": "7595eddf"
      },
      "outputs": [],
      "source": [
        "## Set ENV variables\n",
        "import os\n",
        "\n",
        "os.environ[\"OPENAI_API_KEY\"] = \"your-openai-key\"\n",
        "os.environ[\"ANTHROPIC_API_KEY\"] = \"your-anthropic-key\""
      ]
    },
    {
      "cell_type": "markdown",
      "id": "74c3ad30",
      "metadata": {
        "id": "74c3ad30"
      },
      "source": [
        "### 安装\n\nLangChain LiteLLM 集成可在 `langchain-litellm` 包中使用："
      ]
    },
    {
      "cell_type": "code",
      "execution_count": 2,
      "id": "ca3f8a25",
      "metadata": {
        "id": "ca3f8a25"
      },
      "outputs": [],
      "source": [
        "%pip install -qU langchain-litellm"
      ]
    },
    {
      "cell_type": "markdown",
      "id": "bc1182b4",
      "metadata": {
        "id": "bc1182b4"
      },
      "source": [
        "## 实例化"
      ]
    },
    {
      "cell_type": "markdown",
      "id": "d439241a",
      "metadata": {},
      "source": [
        "### ChatLiteLLM\n您可以通过提供一个 ```LiteLLM``` [支持的模型名称](https://docs.litellm.ai/docs/providers) 来实例化 ```ChatLiteLLM``` 模型。"
      ]
    },
    {
      "cell_type": "code",
      "execution_count": null,
      "id": "d4a7c55d-b235-4ca4-a579-c90cc9570da9",
      "metadata": {
        "id": "d4a7c55d-b235-4ca4-a579-c90cc9570da9",
        "tags": []
      },
      "outputs": [],
      "source": [
        "from langchain_litellm import ChatLiteLLM\n",
        "\n",
        "llm = ChatLiteLLM(model=\"gpt-4.1-nano\", temperature=0.1)"
      ]
    },
    {
      "cell_type": "markdown",
      "id": "3d0ed306",
      "metadata": {},
      "source": [
        "### ChatLiteLLMRouter\n您还可以通过如[此处](https://docs.litellm.ai/docs/routing)指定的定义模型列表来利用 LiteLLM 的路由功能。"
      ]
    },
    {
      "cell_type": "code",
      "execution_count": null,
      "id": "8d26393a",
      "metadata": {},
      "outputs": [],
      "source": [
        "from langchain_litellm import ChatLiteLLMRouter\n",
        "from litellm import Router\n",
        "\n",
        "model_list = [\n",
        "    {\n",
        "        \"model_name\": \"gpt-4.1\",\n",
        "        \"litellm_params\": {\n",
        "            \"model\": \"azure/gpt-4.1\",\n",
        "            \"api_key\": \"<your-api-key>\",\n",
        "            \"api_version\": \"2024-10-21\",\n",
        "            \"api_base\": \"https://<your-endpoint>.openai.azure.com/\",\n",
        "        },\n",
        "    },\n",
        "    {\n",
        "        \"model_name\": \"gpt-4o\",\n",
        "        \"litellm_params\": {\n",
        "            \"model\": \"azure/gpt-4o\",\n",
        "            \"api_key\": \"<your-api-key>\",\n",
        "            \"api_version\": \"2024-10-21\",\n",
        "            \"api_base\": \"https://<your-endpoint>.openai.azure.com/\",\n",
        "        },\n",
        "    },\n",
        "]\n",
        "litellm_router = Router(model_list=model_list)\n",
        "llm = ChatLiteLLMRouter(router=litellm_router, model_name=\"gpt-4.1\", temperature=0.1)"
      ]
    },
    {
      "cell_type": "markdown",
      "id": "63d98454",
      "metadata": {
        "id": "63d98454"
      },
      "source": [
        "## 调用\n无论是实例化了 `ChatLiteLLM` 还是 `ChatLiteLLMRouter`，您现在都可以通过 Langchain 的 API 使用 ChatModel。"
      ]
    },
    {
      "cell_type": "code",
      "execution_count": 4,
      "id": "8199ef8f-eb8b-4253-9ea0-6c24a013ca4c",
      "metadata": {
        "colab": {
          "base_uri": "https://localhost:8080/"
        },
        "id": "8199ef8f-eb8b-4253-9ea0-6c24a013ca4c",
        "outputId": "a4c0e5f5-a859-43fa-dd78-74fc0922ecb2",
        "tags": []
      },
      "outputs": [
        {
          "name": "stdout",
          "output_type": "stream",
          "text": [
            "content='Neutral' additional_kwargs={} response_metadata={'token_usage': Usage(completion_tokens=2, prompt_tokens=30, total_tokens=32, completion_tokens_details=CompletionTokensDetailsWrapper(accepted_prediction_tokens=0, audio_tokens=0, reasoning_tokens=0, rejected_prediction_tokens=0, text_tokens=None), prompt_tokens_details=PromptTokensDetailsWrapper(audio_tokens=0, cached_tokens=0, text_tokens=None, image_tokens=None)), 'model': 'gpt-3.5-turbo', 'finish_reason': 'stop', 'model_name': 'gpt-3.5-turbo'} id='run-ab6a3b21-eae8-4c27-acb2-add65a38221a-0' usage_metadata={'input_tokens': 30, 'output_tokens': 2, 'total_tokens': 32}\n"
          ]
        }
      ],
      "source": [
        "response = await llm.ainvoke(\n",
        "    \"Classify the text into neutral, negative or positive. Text: I think the food was okay. Sentiment:\"\n",
        ")\n",
        "print(response)"
      ]
    },
    {
      "cell_type": "markdown",
      "id": "c361ab1e-8c0c-4206-9e3c-9d1424a12b9c",
      "metadata": {
        "id": "c361ab1e-8c0c-4206-9e3c-9d1424a12b9c"
      },
      "source": [
        "## 异步和流式功能\n`ChatLiteLLM` 和 `ChatLiteLLMRouter` 还支持异步和流式功能："
      ]
    },
    {
      "cell_type": "code",
      "execution_count": 5,
      "id": "c5fac0e9-05a4-4fc1-a3b3-e5bbb24b971b",
      "metadata": {
        "colab": {
          "base_uri": "https://localhost:8080/"
        },
        "id": "c5fac0e9-05a4-4fc1-a3b3-e5bbb24b971b",
        "outputId": "ee8cdda1-d992-4696-9ad0-aa146360a3ee",
        "tags": []
      },
      "outputs": [
        {
          "name": "stdout",
          "output_type": "stream",
          "text": [
            "Antibiotics are medications that fight bacterial infections in the body. They work by targeting specific bacteria and either killing them or preventing their growth and reproduction.\n",
            "\n",
            "There are several different mechanisms by which antibiotics work. Some antibiotics work by disrupting the cell walls of bacteria, causing them to burst and die. Others interfere with the protein synthesis of bacteria, preventing them from growing and reproducing. Some antibiotics target the DNA or RNA of bacteria, disrupting their ability to replicate.\n",
            "\n",
            "It is important to note that antibiotics only work against bacterial infections and not viral infections. It is also crucial to take antibiotics as prescribed by a healthcare professional and to complete the full course of treatment, even if symptoms improve before the medication is finished. This helps to prevent antibiotic resistance, where bacteria become resistant to the effects of antibiotics."
          ]
        }
      ],
      "source": [
        "async for token in llm.astream(\"Hello, please explain how antibiotics work\"):\n",
        "    print(token.text(), end=\"\")"
      ]
    },
    {
      "cell_type": "markdown",
      "id": "88af2a9b",
      "metadata": {
        "id": "88af2a9b"
      },
      "source": [
        "## API 参考\n有关 `ChatLiteLLM` 和 `ChatLiteLLMRouter` 所有功能和配置的详细文档，请访问 API 参考：https://github.com/Akshay-Dongare/langchain-litellm"
      ]
    }
  ],
  "metadata": {
    "colab": {
      "provenance": []
    },
    "kernelspec": {
      "display_name": "g6_alda",
      "language": "python",
      "name": "python3"
    },
    "language_info": {
      "codemirror_mode": {
        "name": "ipython",
        "version": 3
      },
      "file_extension": ".py",
      "mimetype": "text/x-python",
      "name": "python",
      "nbconvert_exporter": "python",
      "pygments_lexer": "ipython3",
      "version": "3.12.4"
    }
  },
  "nbformat": 4,
  "nbformat_minor": 5
}