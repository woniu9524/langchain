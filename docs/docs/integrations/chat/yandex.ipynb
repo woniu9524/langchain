{
  "cells": [
    {
      "cell_type": "raw",
      "id": "b4154fbe",
      "metadata": {},
      "source": [
        "---\n",
        "sidebar_label: YandexGPT\n",
        "---"
      ]
    },
    {
      "cell_type": "markdown",
      "id": "af63c9db-e4bd-4d3b-a4d7-7927f5541734",
      "metadata": {},
      "source": [
        "# ChatYandexGPT\n\n本笔记本介绍如何将 Langchain 与 [YandexGPT](https://cloud.yandex.com/en/services/yandexgpt) 聊天模型结合使用。\n\n要使用，您应该安装 `yandexcloud` Python 包。"
      ]
    },
    {
      "cell_type": "code",
      "execution_count": null,
      "id": "f3a8f9cb-ff03-4fb8-8185-ff19f2b8fc89",
      "metadata": {},
      "outputs": [],
      "source": [
        "%pip install --upgrade --quiet  yandexcloud"
      ]
    },
    {
      "cell_type": "markdown",
      "id": "95fa21fb-3669-43fb-bb92-91de7bc591bc",
      "metadata": {},
      "source": [
        "首先，您需要创建一个拥有 `ai.languageModels.user` 角色的 [服务账号](https://cloud.yandex.com/en/docs/iam/operations/sa/create)。\n\n接下来，您有两种身份验证选项：\n- [IAM token](https://cloud.yandex.com/en/docs/iam/operations/iam-token/create-for-sa)。\n    您可以在构造函数参数 `iam_token` 中指定 token，或者在环境变量 `YC_IAM_TOKEN` 中指定。\n\n- [API key](https://cloud.yandex.com/en/docs/iam/operations/api-key/create)\n    您可以在构造函数参数 `api_key` 中指定密钥，或者在环境变量 `YC_API_KEY` 中指定。\n\n要指定模型，您可以使用 `model_uri` 参数，有关更多详细信息，请参阅 [文档](https://cloud.yandex.com/en/docs/yandexgpt/concepts/models#yandexgpt-generation)。\n\n默认情况下，将使用 `folder_id` 参数或 `YC_FOLDER_ID` 环境变量中指定的文件夹内的最新版本 `yandexgpt-lite`。"
      ]
    },
    {
      "cell_type": "code",
      "execution_count": 1,
      "id": "eba2d63b-f871-4f61-b55f-f6092bdc297a",
      "metadata": {},
      "outputs": [],
      "source": [
        "from langchain_community.chat_models import ChatYandexGPT\n",
        "from langchain_core.messages import HumanMessage, SystemMessage"
      ]
    },
    {
      "cell_type": "code",
      "execution_count": 2,
      "id": "75905d9a-dfae-43aa-95b9-a160280e43f7",
      "metadata": {},
      "outputs": [],
      "source": [
        "chat_model = ChatYandexGPT()"
      ]
    },
    {
      "cell_type": "code",
      "execution_count": 3,
      "id": "40844fe7-7fe5-4679-b6c9-1b3238807bdc",
      "metadata": {},
      "outputs": [
        {
          "data": {
            "text/plain": [
              "AIMessage(content='Je adore le programmement.')"
            ]
          },
          "execution_count": 3,
          "metadata": {},
          "output_type": "execute_result"
        }
      ],
      "source": [
        "answer = chat_model.invoke(\n",
        "    [\n",
        "        SystemMessage(\n",
        "            content=\"You are a helpful assistant that translates English to French.\"\n",
        "        ),\n",
        "        HumanMessage(content=\"I love programming.\"),\n",
        "    ]\n",
        ")\n",
        "answer"
      ]
    }
  ],
  "metadata": {
    "kernelspec": {
      "display_name": "Python 3 (ipykernel)",
      "language": "python",
      "name": "python3"
    },
    "language_info": {
      "codemirror_mode": {
        "name": "ipython",
        "version": 3
      },
      "file_extension": ".py",
      "mimetype": "text/x-python",
      "name": "python",
      "nbconvert_exporter": "python",
      "pygments_lexer": "ipython3",
      "version": "3.10.13"
    }
  },
  "nbformat": 4,
  "nbformat_minor": 5
}