{
  "cells": [
    {
      "cell_type": "raw",
      "metadata": {},
      "source": [
        "---\n",
        "sidebar_label: Kinetica\n",
        "---"
      ]
    },
    {
      "cell_type": "markdown",
      "metadata": {},
      "source": [
        "# Kinetica 语言转 SQL 聊天模型\n\n本 Notebook 演示了如何使用 Kinetica 将自然语言转换为 SQL，并简化数据检索过程。本演示旨在展示创建和使用链（chain）的机制，而非 LLM 的功能。\n\n## 概述\n\n通过 Kinetica LLM 工作流程，您可以在数据库中创建一个 LLM 上下文，其中包含推理所需的信息，包括表、注释、规则和示例。调用 `ChatKinetica.load_messages_from_context()` 将从数据库中检索上下文信息，以便用于创建聊天提示。\n\n聊天提示由一个 `SystemMessage` 和成对的 `HumanMessage`/`AIMessage` 组成，其中包含“问题/SQL”对的示例。您可以向此列表追加示例对，但它并不旨在促进典型的自然语言对话。\n\n当您由此聊天提示创建链并执行它时，Kinetica LLM 将从输入生成 SQL。您可以选择使用 `KineticaSqlOutputParser` 执行 SQL 并将结果作为 DataFrame 返回。\n\n目前，支持 2 种用于 SQL 生成的 LLM：\n\n1.  **Kinetica SQL-GPT**: 此 LLM 基于 OpenAI ChatGPT API。\n2.  **Kinetica SqlAssist**: 此 LLM 是专门为与 Kinetica 数据库集成而构建的，并且可以在安全的客户环境中运行。\n\n在本演示中，我们将使用 **SqlAssist**。有关更多信息，请参阅 [Kinetica 文档站点](https://docs.kinetica.com/7.1/sql-gpt/concepts/)。\n\n## 先决条件\n\n要开始，您需要一个 Kinetica DB 实例。如果您还没有，可以获取一个[免费开发实例](https://cloud.kinetica.com/trynow)。\n\n您需要安装以下软件包……"
      ]
    },
    {
      "cell_type": "code",
      "execution_count": null,
      "metadata": {},
      "outputs": [],
      "source": [
        "# Install Langchain community and core packages\n",
        "%pip install --upgrade --quiet langchain-core langchain-community\n",
        "\n",
        "# Install Kinetica DB connection package\n",
        "%pip install --upgrade --quiet 'gpudb>=7.2.0.8' typeguard pandas tqdm\n",
        "\n",
        "# Install packages needed for this tutorial\n",
        "%pip install --upgrade --quiet faker ipykernel "
      ]
    },
    {
      "cell_type": "markdown",
      "metadata": {},
      "source": [
        "## 数据库连接\n\n您必须在以下环境变量中设置数据库连接。如果您正在使用虚拟环境，可以在项目的 `.env` 文件中设置它们：\n* `KINETICA_URL`: 数据库连接 URL\n* `KINETICA_USER`: 数据库用户\n* `KINETICA_PASSWD`: 安全密码。\n\n如果您能够创建 `KineticaChatLLM` 的实例，则表示您已成功连接。"
      ]
    },
    {
      "cell_type": "code",
      "execution_count": 1,
      "metadata": {},
      "outputs": [],
      "source": [
        "from langchain_community.chat_models.kinetica import ChatKinetica\n",
        "\n",
        "kinetica_llm = ChatKinetica()\n",
        "\n",
        "# Test table we will create\n",
        "table_name = \"demo.user_profiles\"\n",
        "\n",
        "# LLM Context we will create\n",
        "kinetica_ctx = \"demo.test_llm_ctx\""
      ]
    },
    {
      "cell_type": "markdown",
      "metadata": {},
      "source": [
        "## 创建测试数据\n\n在生成 SQL 之前，我们需要创建一个 Kinetica 表和一个可以对该表进行推理的 LLM 上下文。\n\n### 创建一些虚假用户配置文件\n\n我们将使用 `faker` 包创建一个包含 100 个虚假配置文件的 DataFrame。"
      ]
    },
    {
      "cell_type": "code",
      "execution_count": 11,
      "metadata": {},
      "outputs": [
        {
          "name": "stdout",
          "output_type": "stream",
          "text": [
            "         username             name sex  \\\n",
            "id                                       \n",
            "0       eduardo69       Haley Beck   F   \n",
            "1        lbarrera  Joshua Stephens   M   \n",
            "2         bburton     Paula Kaiser   F   \n",
            "3       melissa49      Wendy Reese   F   \n",
            "4   melissacarter      Manuel Rios   M   \n",
            "\n",
            "                                              address                    mail  \\\n",
            "id                                                                              \n",
            "0   59836 Carla Causeway Suite 939\\nPort Eugene, I...  meltondenise@yahoo.com   \n",
            "1   3108 Christina Forges\\nPort Timothychester, KY...     erica80@hotmail.com   \n",
            "2                    Unit 7405 Box 3052\\nDPO AE 09858  timothypotts@gmail.com   \n",
            "3   6408 Christopher Hill Apt. 459\\nNew Benjamin, ...        dadams@gmail.com   \n",
            "4    2241 Bell Gardens Suite 723\\nScottside, CA 38463  williamayala@gmail.com   \n",
            "\n",
            "    birthdate  \n",
            "id             \n",
            "0  1997-12-08  \n",
            "1  1924-08-03  \n",
            "2  1933-12-05  \n",
            "3  1988-10-26  \n",
            "4  1931-03-19  \n"
          ]
        }
      ],
      "source": [
        "from typing import Generator\n",
        "\n",
        "import pandas as pd\n",
        "from faker import Faker\n",
        "\n",
        "Faker.seed(5467)\n",
        "faker = Faker(locale=\"en-US\")\n",
        "\n",
        "\n",
        "def profile_gen(count: int) -> Generator:\n",
        "    for id in range(0, count):\n",
        "        rec = dict(id=id, **faker.simple_profile())\n",
        "        rec[\"birthdate\"] = pd.Timestamp(rec[\"birthdate\"])\n",
        "        yield rec\n",
        "\n",
        "\n",
        "load_df = pd.DataFrame.from_records(data=profile_gen(100), index=\"id\")\n",
        "print(load_df.head())"
      ]
    },
    {
      "cell_type": "markdown",
      "metadata": {},
      "source": [
        "### 从 Dataframe 创建 Kinetica 表"
      ]
    },
    {
      "cell_type": "code",
      "execution_count": 3,
      "metadata": {},
      "outputs": [
        {
          "name": "stdout",
          "output_type": "stream",
          "text": [
            "        name    type   properties\n",
            "0   username  string     [char32]\n",
            "1       name  string     [char32]\n",
            "2        sex  string      [char2]\n",
            "3    address  string     [char64]\n",
            "4       mail  string     [char32]\n",
            "5  birthdate    long  [timestamp]\n"
          ]
        }
      ],
      "source": [
        "from gpudb import GPUdbTable\n",
        "\n",
        "gpudb_table = GPUdbTable.from_df(\n",
        "    load_df,\n",
        "    db=kinetica_llm.kdbc,\n",
        "    table_name=table_name,\n",
        "    clear_table=True,\n",
        "    load_data=True,\n",
        ")\n",
        "\n",
        "# See the Kinetica column types\n",
        "print(gpudb_table.type_as_df())"
      ]
    },
    {
      "cell_type": "markdown",
      "metadata": {},
      "source": [
        "### 创建 LLM 上下文\n\n您可以使用 Kinetica Workbench UI 创建 LLM 上下文，也可以使用 `CREATE OR REPLACE CONTEXT` 语法手动创建。\n\n此处我们创建一个引用我们已创建表的 SQL 语法上下文。"
      ]
    },
    {
      "cell_type": "code",
      "execution_count": 7,
      "metadata": {},
      "outputs": [
        {
          "name": "stdout",
          "output_type": "stream",
          "text": [
            "CREATE OR REPLACE CONTEXT \"demo\".\"test_llm_ctx\" (\n",
            "    TABLE = \"demo\".\"user_profiles\",\n",
            "    COMMENT = 'Contains user profiles.'\n",
            "),\n",
            "(\n",
            "    SAMPLES = ( \n",
            "        'How many male users are there?' = 'select count(1) as num_users\n",
            "    from demo.user_profiles\n",
            "    where sex = ''M'';' )\n",
            ")\n"
          ]
        },
        {
          "data": {
            "text/plain": [
              "1"
            ]
          },
          "execution_count": 7,
          "metadata": {},
          "output_type": "execute_result"
        }
      ],
      "source": [
        "from gpudb import GPUdbSamplesClause, GPUdbSqlContext, GPUdbTableClause\n",
        "\n",
        "table_ctx = GPUdbTableClause(table=table_name, comment=\"Contains user profiles.\")\n",
        "\n",
        "samples_ctx = GPUdbSamplesClause(\n",
        "    samples=[\n",
        "        (\n",
        "            \"How many male users are there?\",\n",
        "            f\"\"\"\n",
        "            select count(1) as num_users\n",
        "                from {table_name}\n",
        "                where sex = 'M';\n",
        "            \"\"\",\n",
        "        )\n",
        "    ]\n",
        ")\n",
        "\n",
        "context_sql = GPUdbSqlContext(\n",
        "    name=kinetica_ctx, tables=[table_ctx], samples=samples_ctx\n",
        ").build_sql()\n",
        "\n",
        "print(context_sql)\n",
        "count_affected = kinetica_llm.kdbc.execute(context_sql)\n",
        "count_affected"
      ]
    },
    {
      "cell_type": "markdown",
      "metadata": {},
      "source": [
        "## 使用 Langchain 进行推理\n\n在下面的示例中，我们将使用之前创建的表和 LLM 上下文来创建一个链。此链将生成 SQL 并将结果数据作为数据框返回。\n\n### 从 Kinetica DB 加载聊天提示\n\n`load_messages_from_context()` 函数将从 DB 中检索上下文，并将其转换为我们用于创建 ``ChatPromptTemplate`` 的聊天消息列表。"
      ]
    },
    {
      "cell_type": "code",
      "execution_count": 8,
      "metadata": {},
      "outputs": [
        {
          "name": "stdout",
          "output_type": "stream",
          "text": [
            "================================\u001b[1m System Message \u001b[0m================================\n",
            "\n",
            "CREATE TABLE demo.user_profiles AS\n",
            "(\n",
            "   username VARCHAR (32) NOT NULL,\n",
            "   name VARCHAR (32) NOT NULL,\n",
            "   sex VARCHAR (2) NOT NULL,\n",
            "   address VARCHAR (64) NOT NULL,\n",
            "   mail VARCHAR (32) NOT NULL,\n",
            "   birthdate TIMESTAMP NOT NULL\n",
            ");\n",
            "COMMENT ON TABLE demo.user_profiles IS 'Contains user profiles.';\n",
            "\n",
            "================================\u001b[1m Human Message \u001b[0m=================================\n",
            "\n",
            "How many male users are there?\n",
            "\n",
            "==================================\u001b[1m Ai Message \u001b[0m==================================\n",
            "\n",
            "select count(1) as num_users\n",
            "    from demo.user_profiles\n",
            "    where sex = 'M';\n",
            "\n",
            "================================\u001b[1m Human Message \u001b[0m=================================\n",
            "\n",
            "\u001b[33;1m\u001b[1;3m{input}\u001b[0m\n"
          ]
        }
      ],
      "source": [
        "from langchain_core.prompts import ChatPromptTemplate\n",
        "\n",
        "# load the context from the database\n",
        "ctx_messages = kinetica_llm.load_messages_from_context(kinetica_ctx)\n",
        "\n",
        "# Add the input prompt. This is where input question will be substituted.\n",
        "ctx_messages.append((\"human\", \"{input}\"))\n",
        "\n",
        "# Create the prompt template.\n",
        "prompt_template = ChatPromptTemplate.from_messages(ctx_messages)\n",
        "prompt_template.pretty_print()"
      ]
    },
    {
      "cell_type": "markdown",
      "metadata": {},
      "source": [
        "### 创建链条\n\n这个链条的最后一个元素是 `KineticaSqlOutputParser`，它将执行 SQL 并返回一个数据帧。这是可选的，如果我们省略它，则只会返回 SQL。"
      ]
    },
    {
      "cell_type": "code",
      "execution_count": 9,
      "metadata": {},
      "outputs": [],
      "source": [
        "from langchain_community.chat_models.kinetica import (\n",
        "    KineticaSqlOutputParser,\n",
        "    KineticaSqlResponse,\n",
        ")\n",
        "\n",
        "chain = prompt_template | kinetica_llm | KineticaSqlOutputParser(kdbc=kinetica_llm.kdbc)"
      ]
    },
    {
      "cell_type": "markdown",
      "metadata": {},
      "source": [
        "### 生成 SQL\n\n我们创建的链将接收一个问题作为输入，并返回一个包含生成的 SQL 和数据的 ``KineticaSqlResponse``。这个问题必须与我们用于创建提示的 LLM 上下文相关。"
      ]
    },
    {
      "cell_type": "code",
      "execution_count": 10,
      "metadata": {},
      "outputs": [
        {
          "name": "stdout",
          "output_type": "stream",
          "text": [
            "SQL: SELECT username, name\n",
            "    FROM demo.user_profiles\n",
            "    WHERE sex = 'F'\n",
            "    ORDER BY username;\n",
            "      username               name\n",
            "0  alexander40       Tina Ramirez\n",
            "1      bburton       Paula Kaiser\n",
            "2      brian12  Stefanie Williams\n",
            "3    brownanna      Jennifer Rowe\n",
            "4       carl19       Amanda Potts\n"
          ]
        }
      ],
      "source": [
        "# Here you must ask a question relevant to the LLM context provided in the prompt template.\n",
        "response: KineticaSqlResponse = chain.invoke(\n",
        "    {\"input\": \"What are the female users ordered by username?\"}\n",
        ")\n",
        "\n",
        "print(f\"SQL: {response.sql}\")\n",
        "print(response.dataframe.head())"
      ]
    }
  ],
  "metadata": {
    "kernelspec": {
      "display_name": "langchain",
      "language": "python",
      "name": "python3"
    },
    "language_info": {
      "codemirror_mode": {
        "name": "ipython",
        "version": 3
      },
      "file_extension": ".py",
      "mimetype": "text/x-python",
      "name": "python",
      "nbconvert_exporter": "python",
      "pygments_lexer": "ipython3",
      "version": "3.9.19"
    }
  },
  "nbformat": 4,
  "nbformat_minor": 2
}