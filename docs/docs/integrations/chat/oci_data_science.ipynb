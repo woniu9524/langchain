{
  "cells": [
    {
      "cell_type": "raw",
      "metadata": {
        "vscode": {
          "languageId": "raw"
        }
      },
      "source": [
        "---\n",
        "sidebar_label: ChatOCIModelDeployment\n",
        "---"
      ]
    },
    {
      "cell_type": "markdown",
      "metadata": {},
      "source": [
        "# ChatOCIModelDeployment\n\n这将帮助您开始使用 OCIModelDeployment [聊天模型](/docs/concepts/chat_models)。有关 ChatOCIModelDeployment 功能和配置的详细文档，请参阅 [API 参考](https://python.langchain.com/api_reference/community/chat_models/langchain_community.chat_models.oci_data_science.ChatOCIModelDeployment.html)。\n\n[OCI Data Science](https://docs.oracle.com/en-us/iaas/data-science/using/home.htm) 是一个完全托管的无服务器平台，供数据科学团队在 Oracle Cloud Infrastructure 中构建、训练和管理机器学习模型。您可以使用 [AI Quick Actions](https://blogs.oracle.com/ai-and-datascience/post/ai-quick-actions-in-oci-data-science) 在 [OCI Data Science 模型部署服务](https://docs.oracle.com/en-us/iaas/data-science/using/model-dep-about.htm)上轻松部署 LLM。您可以选择使用流行的推理框架（如 vLLM 或 TGI）来部署模型。默认情况下，模型部署端点模仿 OpenAI API 协议。\n\n> 有关最新更新、示例和实验性功能，请参阅 [ADS LangChain 集成](https://accelerated-data-science.readthedocs.io/en/latest/user_guide/large_language_model/langchain_models.html)。\n\n## 概述\n### 集成详情\n\n| 类 | 包 | 本地 | 可序列化 | JS 支持 | 包下载 | 包最新 |\n| :--- | :--- | :---: | :---: |  :---: | :---: | :---: |\n| [ChatOCIModelDeployment](https://python.langchain.com/api_reference/community/chat_models/langchain_community.chat_models.oci_data_science.ChatOCIModelDeployment.html) | [langchain-community](https://python.langchain.com/api_reference/community/index.html) | ❌ | beta | ❌ | ![PyPI - Downloads](https://img.shields.io/pypi/dm/langchain-community?style=flat-square&label=%20) | ![PyPI - Version](https://img.shields.io/pypi/v/langchain-community?style=flat-square&label=%20) |\n\n### 模型功能\n\n| [工具调用](/docs/how_to/tool_calling) | [结构化输出](/docs/how_to/structured_output/) | JSON 模式 | [图像输入](/docs/how_to/multimodal_inputs/) | 音频输入 | 视频输入 | [令牌级流式传输](/docs/how_to/chat_streaming/) | 原生异步 | [令牌使用情况](/docs/how_to/chat_token_usage_tracking/) | [Logprobs](/docs/how_to/logprobs/) |\n| :---: | :---: | :---: | :---: |  :---: | :---: | :---: | :---: | :---: | :---: |\n| 依赖 | 依赖 | 依赖 | 依赖 | 依赖 | 依赖 | ✅ | ✅ | ✅ | ✅ |\n\n某些模型功能，包括工具调用、结构化输出、JSON 模式和多模态输入，取决于已部署的模型。\n\n## 设置\n\n要使用 ChatOCIModelDeployment，您需要部署一个具有聊天完成端点的聊天模型，并安装 `langchain-community`、`langchain-openai` 和 `oracle-ads` 集成包。\n\n您可以使用 OCI Data Science 模型部署上的 [AI Quick Actions](https://github.com/oracle-samples/oci-data-science-ai-samples/blob/main/ai-quick-actions/model-deployment-tips.md) 轻松部署基础模型。有关其他部署示例，请访问 [Oracle GitHub 示例存储库](https://github.com/oracle-samples/oci-data-science-ai-samples/tree/main/ai-quick-actions)。\n\n### 策略\n请确保您拥有访问 OCI Data Science 模型部署端点所需的[策略](https://docs.oracle.com/en-us/iaas/data-science/using/model-dep-policies-auth.htm#model_dep_policies_auth__predict-endpoint)。"
      ]
    },
    {
      "cell_type": "markdown",
      "metadata": {},
      "source": [
        "### 凭证\n\n您可以通过 Oracle ADS 设置身份验证。当您在 OCI Data Science Notebook Session 中工作时，可以利用资源主体来访问其他 OCI 资源。"
      ]
    },
    {
      "cell_type": "code",
      "execution_count": null,
      "metadata": {},
      "outputs": [],
      "source": [
        "import ads\n",
        "\n",
        "# Set authentication through ads\n",
        "# Use resource principal are operating within a\n",
        "# OCI service that has resource principal based\n",
        "# authentication configured\n",
        "ads.set_auth(\"resource_principal\")"
      ]
    },
    {
      "cell_type": "markdown",
      "metadata": {},
      "source": [
        "或者，您可以使用以下环境变量配置凭据。例如，要使用具有特定配置文件的 API 密钥："
      ]
    },
    {
      "cell_type": "code",
      "execution_count": null,
      "metadata": {},
      "outputs": [],
      "source": [
        "import os\n",
        "\n",
        "# Set authentication through environment variables\n",
        "# Use API Key setup when you are working from a local\n",
        "# workstation or on platform which does not support\n",
        "# resource principals.\n",
        "os.environ[\"OCI_IAM_TYPE\"] = \"api_key\"\n",
        "os.environ[\"OCI_CONFIG_PROFILE\"] = \"default\"\n",
        "os.environ[\"OCI_CONFIG_LOCATION\"] = \"~/.oci\""
      ]
    },
    {
      "cell_type": "markdown",
      "metadata": {},
      "source": [
        "请查看 [Oracle ADS 文档](https://accelerated-data-science.readthedocs.io/en/latest/user_guide/cli/authentication.html) 以了解更多选项。"
      ]
    },
    {
      "cell_type": "markdown",
      "metadata": {},
      "source": [
        "### 安装\n\nLangChain OCIModelDeployment 集成位于 `langchain-community` 包中。以下命令将安装 `langchain-community` 和所需的依赖项。"
      ]
    },
    {
      "cell_type": "code",
      "execution_count": null,
      "metadata": {},
      "outputs": [],
      "source": [
        "%pip install -qU langchain-community langchain-openai oracle-ads"
      ]
    },
    {
      "cell_type": "markdown",
      "metadata": {},
      "source": [
        "## 实例化\n\n您可以使用通用的 `ChatOCIModelDeployment` 或特定框架的类，如 `ChatOCIModelDeploymentVLLM` 来实例化模型。\n\n* 当您需要部署模型的通用入口点时，请使用 `ChatOCIModelDeployment`。您可以在实例化此类时通过 `model_kwargs` 传递模型参数。这提供了灵活性和便捷的配置，而无需依赖特定框架的细节。"
      ]
    },
    {
      "cell_type": "code",
      "execution_count": null,
      "metadata": {},
      "outputs": [],
      "source": [
        "from langchain_community.chat_models import ChatOCIModelDeployment\n",
        "\n",
        "# Create an instance of OCI Model Deployment Endpoint\n",
        "# Replace the endpoint uri with your own\n",
        "# Using generic class as entry point, you will be able\n",
        "# to pass model parameters through model_kwargs during\n",
        "# instantiation.\n",
        "chat = ChatOCIModelDeployment(\n",
        "    endpoint=\"https://modeldeployment.<region>.oci.customer-oci.com/<ocid>/predict\",\n",
        "    streaming=True,\n",
        "    max_retries=1,\n",
        "    model_kwargs={\n",
        "        \"temperature\": 0.2,\n",
        "        \"max_tokens\": 512,\n",
        "    },  # other model params...\n",
        "    default_headers={\n",
        "        \"route\": \"/v1/chat/completions\",\n",
        "        # other request headers ...\n",
        "    },\n",
        ")"
      ]
    },
    {
      "cell_type": "markdown",
      "metadata": {},
      "source": [
        "* 使用特定框架的类，如 `ChatOCIModelDeploymentVLLM`：当您使用特定框架（例如 `vLLM`）并需要直接通过构造函数传递模型参数时，这非常适用，可以简化设置过程。"
      ]
    },
    {
      "cell_type": "code",
      "execution_count": null,
      "metadata": {},
      "outputs": [],
      "source": [
        "from langchain_community.chat_models import ChatOCIModelDeploymentVLLM\n",
        "\n",
        "# Create an instance of OCI Model Deployment Endpoint\n",
        "# Replace the endpoint uri with your own\n",
        "# Using framework specific class as entry point, you will\n",
        "# be able to pass model parameters in constructor.\n",
        "chat = ChatOCIModelDeploymentVLLM(\n",
        "    endpoint=\"https://modeldeployment.<region>.oci.customer-oci.com/<md_ocid>/predict\",\n",
        ")"
      ]
    },
    {
      "cell_type": "markdown",
      "metadata": {},
      "source": [
        "## 调用"
      ]
    },
    {
      "cell_type": "code",
      "execution_count": 2,
      "metadata": {},
      "outputs": [
        {
          "data": {
            "text/plain": [
              "AIMessage(content=\"J'adore programmer.\", response_metadata={'token_usage': {'prompt_tokens': 44, 'total_tokens': 52, 'completion_tokens': 8}, 'model_name': 'odsc-llm', 'system_fingerprint': '', 'finish_reason': 'stop'}, id='run-ca145168-efa9-414c-9dd1-21d10766fdd3-0')"
            ]
          },
          "execution_count": 2,
          "metadata": {},
          "output_type": "execute_result"
        }
      ],
      "source": [
        "messages = [\n",
        "    (\n",
        "        \"system\",\n",
        "        \"You are a helpful assistant that translates English to French. Translate the user sentence.\",\n",
        "    ),\n",
        "    (\"human\", \"I love programming.\"),\n",
        "]\n",
        "\n",
        "ai_msg = chat.invoke(messages)\n",
        "ai_msg"
      ]
    },
    {
      "cell_type": "code",
      "execution_count": 3,
      "metadata": {},
      "outputs": [
        {
          "name": "stdout",
          "output_type": "stream",
          "text": [
            "\n",
            "J'adore programmer.\n"
          ]
        }
      ],
      "source": [
        "print(ai_msg.content)"
      ]
    },
    {
      "cell_type": "markdown",
      "metadata": {},
      "source": [
        "## Chaining"
      ]
    },
    {
      "cell_type": "code",
      "execution_count": 4,
      "metadata": {},
      "outputs": [
        {
          "data": {
            "text/plain": [
              "AIMessage(content='Ich liebe Programmierung.', response_metadata={'token_usage': {'prompt_tokens': 38, 'total_tokens': 48, 'completion_tokens': 10}, 'model_name': 'odsc-llm', 'system_fingerprint': '', 'finish_reason': 'stop'}, id='run-5dd936b0-b97e-490e-9869-2ad3dd524234-0')"
            ]
          },
          "execution_count": 4,
          "metadata": {},
          "output_type": "execute_result"
        }
      ],
      "source": [
        "from langchain_core.prompts import ChatPromptTemplate\n",
        "\n",
        "prompt = ChatPromptTemplate.from_messages(\n",
        "    [\n",
        "        (\n",
        "            \"system\",\n",
        "            \"You are a helpful assistant that translates {input_language} to {output_language}.\",\n",
        "        ),\n",
        "        (\"human\", \"{input}\"),\n",
        "    ]\n",
        ")\n",
        "\n",
        "chain = prompt | chat\n",
        "chain.invoke(\n",
        "    {\n",
        "        \"input_language\": \"English\",\n",
        "        \"output_language\": \"German\",\n",
        "        \"input\": \"I love programming.\",\n",
        "    }\n",
        ")"
      ]
    },
    {
      "cell_type": "markdown",
      "metadata": {},
      "source": [
        "## 异步调用"
      ]
    },
    {
      "cell_type": "code",
      "execution_count": 6,
      "metadata": {},
      "outputs": [
        {
          "data": {
            "text/plain": [
              "AIMessage(content='我喜欢编程', response_metadata={'token_usage': {'prompt_tokens': 37, 'total_tokens': 50, 'completion_tokens': 13}, 'model_name': 'odsc-llm', 'system_fingerprint': '', 'finish_reason': 'stop'}, id='run-a2dc9393-f269-41a4-b908-b1d8a92cf827-0')"
            ]
          },
          "execution_count": 6,
          "metadata": {},
          "output_type": "execute_result"
        }
      ],
      "source": [
        "from langchain_community.chat_models import ChatOCIModelDeployment\n",
        "\n",
        "system = \"You are a helpful translator that translates {input_language} to {output_language}.\"\n",
        "human = \"{text}\"\n",
        "prompt = ChatPromptTemplate.from_messages([(\"system\", system), (\"human\", human)])\n",
        "\n",
        "chat = ChatOCIModelDeployment(\n",
        "    endpoint=\"https://modeldeployment.us-ashburn-1.oci.customer-oci.com/<ocid>/predict\"\n",
        ")\n",
        "chain = prompt | chat\n",
        "\n",
        "await chain.ainvoke(\n",
        "    {\n",
        "        \"input_language\": \"English\",\n",
        "        \"output_language\": \"Chinese\",\n",
        "        \"text\": \"I love programming\",\n",
        "    }\n",
        ")"
      ]
    },
    {
      "cell_type": "markdown",
      "metadata": {},
      "source": [
        "## 流式通话"
      ]
    },
    {
      "cell_type": "code",
      "execution_count": 7,
      "metadata": {},
      "outputs": [
        {
          "name": "stdout",
          "output_type": "stream",
          "text": [
            "\n",
            "\n",
            "1. California\n",
            "2. Texas\n",
            "3. Florida\n",
            "4. New York\n",
            "5. Illinois"
          ]
        }
      ],
      "source": [
        "import os\n",
        "import sys\n",
        "\n",
        "from langchain_community.chat_models import ChatOCIModelDeployment\n",
        "from langchain_core.prompts import ChatPromptTemplate\n",
        "\n",
        "prompt = ChatPromptTemplate.from_messages(\n",
        "    [(\"human\", \"List out the 5 states in the United State.\")]\n",
        ")\n",
        "\n",
        "chat = ChatOCIModelDeployment(\n",
        "    endpoint=\"https://modeldeployment.us-ashburn-1.oci.customer-oci.com/<ocid>/predict\"\n",
        ")\n",
        "\n",
        "chain = prompt | chat\n",
        "\n",
        "for chunk in chain.stream({}):\n",
        "    sys.stdout.write(chunk.content)\n",
        "    sys.stdout.flush()"
      ]
    },
    {
      "cell_type": "markdown",
      "metadata": {},
      "source": [
        "## 结构化输出"
      ]
    },
    {
      "cell_type": "code",
      "execution_count": 8,
      "metadata": {},
      "outputs": [
        {
          "data": {
            "text/plain": [
              "{'setup': 'Why did the cat get stuck in the tree?',\n",
              " 'punchline': 'Because it was chasing its tail!'}"
            ]
          },
          "execution_count": null,
          "metadata": {},
          "output_type": "execute_result"
        }
      ],
      "source": [
        "from langchain_community.chat_models import ChatOCIModelDeployment\n",
        "from pydantic import BaseModel\n",
        "\n",
        "\n",
        "class Joke(BaseModel):\n",
        "    \"\"\"A setup to a joke and the punchline.\"\"\"\n",
        "\n",
        "    setup: str\n",
        "    punchline: str\n",
        "\n",
        "\n",
        "chat = ChatOCIModelDeployment(\n",
        "    endpoint=\"https://modeldeployment.us-ashburn-1.oci.customer-oci.com/<ocid>/predict\",\n",
        ")\n",
        "structured_llm = chat.with_structured_output(Joke, method=\"json_mode\")\n",
        "output = structured_llm.invoke(\n",
        "    \"Tell me a joke about cats, respond in JSON with `setup` and `punchline` keys\"\n",
        ")\n",
        "\n",
        "output.dict()"
      ]
    },
    {
      "cell_type": "markdown",
      "metadata": {},
      "source": [
        "## API 参考\n\n有关所有功能和配置的详细信息，请参阅每个类的 API 参考文档：\n\n* [ChatOCIModelDeployment](https://python.langchain.com/api_reference/community/chat_models/langchain_community.chat_models.oci_data_science.ChatOCIModelDeployment.html)\n* [ChatOCIModelDeploymentVLLM](https://python.langchain.com/api_reference/community/chat_models/langchain_community.chat_models.oci_data_science.ChatOCIModelDeploymentVLLM.html)\n* [ChatOCIModelDeploymentTGI](https://python.langchain.com/api_reference/community/chat_models/langchain_community.chat_models.oci_data_science.ChatOCIModelDeploymentTGI.html)"
      ]
    }
  ],
  "metadata": {
    "kernelspec": {
      "display_name": "langchain",
      "language": "python",
      "name": "python3"
    },
    "language_info": {
      "codemirror_mode": {
        "name": "ipython",
        "version": 3
      },
      "file_extension": ".py",
      "mimetype": "text/x-python",
      "name": "python",
      "nbconvert_exporter": "python",
      "pygments_lexer": "ipython3",
      "version": "3.9.18"
    }
  },
  "nbformat": 4,
  "nbformat_minor": 2
}