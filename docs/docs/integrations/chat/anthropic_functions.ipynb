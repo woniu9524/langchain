{
  "cells": [
    {
      "cell_type": "raw",
      "id": "b8782af6-f49e-40da-9f7a-4765113b17ed",
      "metadata": {},
      "source": [
        "---\n",
        "sidebar_class_name: hidden\n",
        "---"
      ]
    },
    {
      "cell_type": "markdown",
      "id": "5125a1e3",
      "metadata": {},
      "source": [
        "# [已弃用] 实验性 Anthropic 工具包装器\n\n:::warning\n\nAnthropic API 已正式支持工具调用，因此不再需要此变通方法。请使用 `langchain-anthropic>=0.1.15` 的 [ChatAnthropic](/docs/integrations/chat/anthropic)。\n\n:::\n\n本笔记本展示了如何使用围绕 Anthropic 的实验性包装器，为其提供工具调用和结构化输出功能。它遵循 Anthropic 的指南 [此处](https://docs.anthropic.com/claude/docs/functions-external-tools)。\n\n该包装器可从 `langchain-anthropic` 包获得，还需要可选的依赖项 `defusedxml` 来解析来自 llm 的 XML 输出。\n\n注意：这是一个 beta 功能，将被 Anthropic 对工具调用的正式实现所取代，但在此期间可用于测试和实验。"
      ]
    },
    {
      "cell_type": "code",
      "execution_count": 1,
      "id": "378be79b",
      "metadata": {},
      "outputs": [],
      "source": [
        "%pip install -qU langchain-anthropic defusedxml\n",
        "from langchain_anthropic.experimental import ChatAnthropicTools"
      ]
    },
    {
      "cell_type": "markdown",
      "id": "65499965",
      "metadata": {},
      "source": [
        "## 工具绑定\n\n`ChatAnthropicTools` 提供了一个 `bind_tools` 方法，允许您将 Pydantic 模型或 BaseTools 传递给 LLM。"
      ]
    },
    {
      "cell_type": "code",
      "execution_count": 3,
      "id": "e1d535f6",
      "metadata": {},
      "outputs": [
        {
          "data": {
            "text/plain": [
              "AIMessage(content='', additional_kwargs={'tool_calls': [{'function': {'name': 'Person', 'arguments': '{\"name\": \"Erick\", \"age\": \"27\"}'}, 'type': 'function'}]})"
            ]
          },
          "execution_count": 3,
          "metadata": {},
          "output_type": "execute_result"
        }
      ],
      "source": [
        "from pydantic import BaseModel\n",
        "\n",
        "\n",
        "class Person(BaseModel):\n",
        "    name: str\n",
        "    age: int\n",
        "\n",
        "\n",
        "model = ChatAnthropicTools(model=\"claude-3-opus-20240229\").bind_tools(tools=[Person])\n",
        "model.invoke(\"I am a 27 year old named Erick\")"
      ]
    },
    {
      "cell_type": "markdown",
      "id": "fcc9eaf4",
      "metadata": {},
      "source": [
        "## 结构化输出\n\n`ChatAnthropicTools` 还实现了 [`with_structured_output` 规范](/docs/how_to/structured_output) 来提取值。注意：这可能不如提供显式工具调用模型的稳定性好。"
      ]
    },
    {
      "cell_type": "code",
      "execution_count": 4,
      "id": "0779c320",
      "metadata": {},
      "outputs": [
        {
          "data": {
            "text/plain": [
              "Person(name='Erick', age=27)"
            ]
          },
          "execution_count": 4,
          "metadata": {},
          "output_type": "execute_result"
        }
      ],
      "source": [
        "chain = ChatAnthropicTools(model=\"claude-3-opus-20240229\").with_structured_output(\n",
        "    Person\n",
        ")\n",
        "chain.invoke(\"I am a 27 year old named Erick\")"
      ]
    }
  ],
  "metadata": {
    "kernelspec": {
      "display_name": ".venv",
      "language": "python",
      "name": "python3"
    },
    "language_info": {
      "codemirror_mode": {
        "name": "ipython",
        "version": 3
      },
      "file_extension": ".py",
      "mimetype": "text/x-python",
      "name": "python",
      "nbconvert_exporter": "python",
      "pygments_lexer": "ipython3",
      "version": "3.11.4"
    }
  },
  "nbformat": 4,
  "nbformat_minor": 5
}