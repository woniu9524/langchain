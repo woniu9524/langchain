{
  "cells": [
    {
      "cell_type": "raw",
      "metadata": {},
      "source": [
        "---\n",
        "sidebar_label: Alibaba Cloud PAI EAS\n",
        "---"
      ]
    },
    {
      "cell_type": "markdown",
      "metadata": {},
      "source": [
        "# 阿里云 PAI EAS\n\n>[阿里云 PAI（Platform for AI）](https://www.alibabacloud.com/help/en/pai/?spm=a2c63.p38356.0.0.c26a426ckrxUwZ)是一个轻量级且经济高效的机器学习平台，采用云原生技术。它为您提供端到端的建模服务。它基于数十亿特征和数千亿样本，在100多个场景中加速模型训练。\n\n>[阿里云机器学习平台](https://www.alibabacloud.com/help/en/machine-learning-platform-for-ai/latest/what-is-machine-learning-pai)是面向企业和开发者的机器学习或深度学习工程平台。它提供易于使用、经济高效、高性能、易于扩展的插件，可应用于各种行业场景。凭借140多种内置优化算法，`阿里云机器学习平台`提供了全流程的 AI 工程能力，包括数据标注（`PAI-iTAG`）、模型构建（`PAI-Designer` 和 `PAI-DSW`）、模型训练（`PAI-DLC`）、编译优化和推理部署（`PAI-EAS`）。\n>\n>`PAI-EAS`支持包括CPU和GPU在内的不同类型硬件资源，具有高吞吐量和低延迟的特点。它允许您通过几次点击即可部署大规模的复杂模型，并进行实时的弹性扩缩容。它还提供了一个全面的运维和监控系统。"
      ]
    },
    {
      "cell_type": "markdown",
      "metadata": {},
      "source": [
        "## 设置 EAS 服务\n\n设置环境变量以初始化 EAS 服务 URL 和令牌。\n有关更多信息，请参阅[此文档](https://www.alibabacloud.com/help/en/pai/user-guide/service-deployment/)。\n\n```bash\nexport EAS_SERVICE_URL=XXX\nexport EAS_SERVICE_TOKEN=XXX\n```\n另一种选择是使用此代码："
      ]
    },
    {
      "cell_type": "code",
      "execution_count": 9,
      "metadata": {},
      "outputs": [],
      "source": [
        "import os\n",
        "\n",
        "from langchain_community.chat_models import PaiEasChatEndpoint\n",
        "from langchain_core.language_models.chat_models import HumanMessage\n",
        "\n",
        "os.environ[\"EAS_SERVICE_URL\"] = \"Your_EAS_Service_URL\"\n",
        "os.environ[\"EAS_SERVICE_TOKEN\"] = \"Your_EAS_Service_Token\"\n",
        "chat = PaiEasChatEndpoint(\n",
        "    eas_service_url=os.environ[\"EAS_SERVICE_URL\"],\n",
        "    eas_service_token=os.environ[\"EAS_SERVICE_TOKEN\"],\n",
        ")"
      ]
    },
    {
      "cell_type": "markdown",
      "metadata": {},
      "source": [
        "## 运行聊天模型\n\n您可以使用默认设置调用 EAS 服务，如下所示："
      ]
    },
    {
      "cell_type": "code",
      "execution_count": null,
      "metadata": {},
      "outputs": [],
      "source": [
        "output = chat.invoke([HumanMessage(content=\"write a funny joke\")])\n",
        "print(\"output:\", output)"
      ]
    },
    {
      "cell_type": "markdown",
      "metadata": {},
      "source": [
        "或者，使用新的推理参数调用 EAS 服务："
      ]
    },
    {
      "cell_type": "code",
      "execution_count": null,
      "metadata": {},
      "outputs": [],
      "source": [
        "kwargs = {\"temperature\": 0.8, \"top_p\": 0.8, \"top_k\": 5}\n",
        "output = chat.invoke([HumanMessage(content=\"write a funny joke\")], **kwargs)\n",
        "print(\"output:\", output)"
      ]
    },
    {
      "cell_type": "markdown",
      "metadata": {},
      "source": [
        "或者，运行一个流调用以获得流式响应："
      ]
    },
    {
      "cell_type": "code",
      "execution_count": null,
      "metadata": {},
      "outputs": [],
      "source": [
        "outputs = chat.stream([HumanMessage(content=\"hi\")], streaming=True)\n",
        "for output in outputs:\n",
        "    print(\"stream output:\", output)"
      ]
    }
  ],
  "metadata": {
    "kernelspec": {
      "display_name": "Python 3 (ipykernel)",
      "language": "python",
      "name": "python3"
    },
    "language_info": {
      "codemirror_mode": {
        "name": "ipython",
        "version": 3
      },
      "file_extension": ".py",
      "mimetype": "text/x-python",
      "name": "python",
      "nbconvert_exporter": "python",
      "pygments_lexer": "ipython3",
      "version": "3.10.12"
    }
  },
  "nbformat": 4,
  "nbformat_minor": 4
}