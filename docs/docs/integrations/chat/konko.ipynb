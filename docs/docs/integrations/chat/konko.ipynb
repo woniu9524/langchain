{
  "cells": [
    {
      "cell_type": "raw",
      "metadata": {},
      "source": [
        "---\n",
        "sidebar_label: Konko\n",
        "---"
      ]
    },
    {
      "cell_type": "markdown",
      "metadata": {},
      "source": [
        "# ChatKonko\n\n# Konko\n\n>[Konko](https://www.konko.ai/) API 是一个完全托管的 Web API，旨在帮助应用程序开发人员：\n\n1. **选择**适合其应用程序的开源或专有大语言模型 (LLM)。\n2. **通过与领先的应用程序框架集成和完全托管的 API 来加速应用程序构建**。\n3. **微调**较小的开源大语言模型，以极低的成本实现行业领先的性能。\n4. **使用 Konko AI 的符合 SOC 2 标准的多云基础设施，在无需进行基础设施设置或管理的情况下，部署满足安全、隐私、吞吐量和延迟 SLA 的生产规模 API**。\n\n本示例将介绍如何使用 LangChain 与 `Konko` ChatCompletion [模型](https://docs.konko.ai/docs/list-of-models#konko-hosted-models-for-chatcompletion) 进行交互。\n\n要运行此 Notebook，您需要 Konko API 密钥。请登录我们的网络应用程序以[创建 API 密钥](https://platform.konko.ai/settings/api-keys)来访问模型。"
      ]
    },
    {
      "cell_type": "code",
      "execution_count": 1,
      "metadata": {
        "tags": []
      },
      "outputs": [],
      "source": [
        "from langchain_community.chat_models import ChatKonko\n",
        "from langchain_core.messages import HumanMessage, SystemMessage"
      ]
    },
    {
      "cell_type": "markdown",
      "metadata": {},
      "source": [
        "#### 设置环境变量\n\n1.您可以为以下项设置环境变量：\n    1. KONKO_API_KEY (必需)\n    2. OPENAI_API_KEY (可选)\n2.在当前 shell 会话中，使用 export 命令：\n\n```shell\nexport KONKO_API_KEY={your_KONKO_API_KEY_here}\nexport OPENAI_API_KEY={your_OPENAI_API_KEY_here} #Optional\n```"
      ]
    },
    {
      "cell_type": "markdown",
      "metadata": {},
      "source": [
        "## 调用模型\n\n在 [Konko 模型概览页面](https://docs.konko.ai/docs/list-of-models) 上查找模型。\n\n从 Konko 实例上运行的模型列表，还可以通过此 [端点](https://docs.konko.ai/reference/get-models) 获取。\n\n从这里，我们可以初始化我们的模型："
      ]
    },
    {
      "cell_type": "code",
      "execution_count": 2,
      "metadata": {},
      "outputs": [],
      "source": [
        "chat = ChatKonko(max_tokens=400, model=\"meta-llama/llama-2-13b-chat\")"
      ]
    },
    {
      "cell_type": "code",
      "execution_count": 3,
      "metadata": {},
      "outputs": [
        {
          "data": {
            "text/plain": [
              "AIMessage(content=\"  Sure thing! The Big Bang Theory is a scientific theory that explains the origins of the universe. In short, it suggests that the universe began as an infinitely hot and dense point around 13.8 billion years ago and expanded rapidly. This expansion continues to this day, and it's what makes the universe look the way it does.\\n\\nHere's a brief overview of the key points:\\n\\n1. The universe started as a singularity, a point of infinite density and temperature.\\n2. The singularity expanded rapidly, causing the universe to cool and expand.\\n3. As the universe expanded, particles began to form, including protons, neutrons, and electrons.\\n4. These particles eventually came together to form atoms, and later, stars and galaxies.\\n5. The universe is still expanding today, and the rate of this expansion is accelerating.\\n\\nThat's the Big Bang Theory in a nutshell! It's a pretty mind-blowing idea when you think about it, and it's supported by a lot of scientific evidence. Do you have any other questions about it?\")"
            ]
          },
          "execution_count": 3,
          "metadata": {},
          "output_type": "execute_result"
        }
      ],
      "source": [
        "messages = [\n",
        "    SystemMessage(content=\"You are a helpful assistant.\"),\n",
        "    HumanMessage(content=\"Explain Big Bang Theory briefly\"),\n",
        "]\n",
        "chat(messages)"
      ]
    }
  ],
  "metadata": {
    "kernelspec": {
      "display_name": "Python 3 (ipykernel)",
      "language": "python",
      "name": "python3"
    },
    "language_info": {
      "codemirror_mode": {
        "name": "ipython",
        "version": 3
      },
      "file_extension": ".py",
      "mimetype": "text/x-python",
      "name": "python",
      "nbconvert_exporter": "python",
      "pygments_lexer": "ipython3",
      "version": "3.11.3"
    },
    "vscode": {
      "interpreter": {
        "hash": "a0a0263b650d907a3bfe41c0f8d6a63a071b884df3cfdc1579f00cdc1aed6b03"
      }
    }
  },
  "nbformat": 4,
  "nbformat_minor": 4
}