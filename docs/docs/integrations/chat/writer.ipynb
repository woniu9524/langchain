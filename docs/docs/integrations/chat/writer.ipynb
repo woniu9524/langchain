{
  "cells": [
    {
      "cell_type": "markdown",
      "id": "e815de6298bf07ca",
      "metadata": {},
      "source": [
        "# Chat Writer\n\n本 Notebook 快速概述了如何开始使用 Writer 的 [Chat](/docs/concepts/chat_models/)。\n\nWriter 提供多种聊天模型。您可以在 [Writer 文档](https://dev.writer.com/home)中找到有关其最新模型、成本、上下文窗口和支持的输入类型的详细信息。\n\n\n## 概述\n\n### 集成详情\n| Class                                                                                                                    | Package          | Local | Serializable | JS support |                                        Package downloads                                         |                                        Package latest                                         |\n|:-------------------------------------------------------------------------------------------------------------------------|:-----------------| :---: | :---: |:----------:|:------------------------------------------------------------------------------------------------:|:---------------------------------------------------------------------------------------------:|\n| [ChatWriter](https://github.com/writer/langchain-writer/blob/main/langchain_writer/chat_models.py#L308) | [langchain-writer](https://pypi.org/project/langchain-writer/) |      ❌       |                                       ❌                                       | ❌ | ![PyPI - Downloads](https://img.shields.io/pypi/dm/langchain-writer?style=flat-square&label=%20) | ![PyPI - Version](https://img.shields.io/pypi/v/langchain-writer?style=flat-square&label=%20) |\n### 模型功能\n| [工具调用](/docs/how_to/tool_calling) | 结构化输出 | JSON 模式 | 图片输入 | 音频输入 | 视频输入 | [Token 级流式输出](/docs/how_to/chat_streaming/) | 原生异步 |         [Token 使用情况](/docs/how_to/chat_token_usage_tracking/)          | Logprobs |\n| :---: |:-----------------:| :---: | :---: |  :---: | :---: | :---: | :---: |:--------------------------------:|:--------:|\n| ✅ |         ❌         | ❌ | ❌ | ❌ | ❌ | ✅ | ✅ |                ✅                 |    ❌     |"
      ]
    },
    {
      "cell_type": "markdown",
      "id": "3fd9903e685808d9",
      "metadata": {},
      "source": [
        "### 凭证\n\n注册 [Writer AI Studio](https://app.writer.com/aistudio/signup?utm_campaign=devrel) 并按照此 [快速入门](https://dev.writer.com/api-guides/quickstart) 获取 API 密钥。然后，设置 WRITER_API_KEY 环境变量："
      ]
    },
    {
      "cell_type": "code",
      "id": "433e8d2b-9519-4b49-b2c4-7ab65b046c94",
      "metadata": {
        "jupyter": {
          "is_executing": true
        }
      },
      "source": [
        "import getpass\n",
        "import os\n",
        "\n",
        "if not os.getenv(\"WRITER_API_KEY\"):\n",
        "    os.environ[\"WRITER_API_KEY\"] = getpass.getpass(\"Enter your Writer API key: \")"
      ],
      "outputs": [],
      "execution_count": null
    },
    {
      "cell_type": "markdown",
      "id": "72ee0c4b-9764-423a-9dbf-95129e185210",
      "metadata": {},
      "source": [
        "如果你想自动跟踪你的模型调用，你也可以通过取消下面这行注释来设置你的 [LangSmith](https://docs.smith.langchain.com/) API 密钥："
      ]
    },
    {
      "cell_type": "code",
      "id": "a15d341e-3e26-4ca3-830b-5aab30ed66de",
      "metadata": {},
      "source": [
        "# os.environ[\"LANGSMITH_TRACING\"] = \"true\"\n",
        "# os.environ[\"LANGSMITH_API_KEY\"] = getpass.getpass(\"Enter your LangSmith API key: \")"
      ],
      "outputs": [],
      "execution_count": null
    },
    {
      "cell_type": "markdown",
      "id": "0730d6a1-c893-4840-9817-5e5251676d5d",
      "metadata": {},
      "source": [
        "### 安装\n\n`ChatWriter` 可从 `langchain-writer` 包获取。请使用以下命令进行安装："
      ]
    },
    {
      "cell_type": "code",
      "id": "652d6238-1f87-422a-b135-f5abbb8652fc",
      "metadata": {},
      "source": [
        "%pip install -qU langchain-writer"
      ],
      "outputs": [],
      "execution_count": null
    },
    {
      "cell_type": "markdown",
      "id": "a38cde65-254d-4219-a441-068766c0d4b5",
      "metadata": {},
      "source": [
        "### 实例化\n\n现在我们可以实例化模型对象来生成聊天补全："
      ]
    },
    {
      "cell_type": "code",
      "id": "cb09c344-1836-4e0c-acf8-11d13ac1dbae",
      "metadata": {},
      "source": [
        "from langchain_writer import ChatWriter\n",
        "\n",
        "llm = ChatWriter(\n",
        "    model=\"palmyra-x-004\",\n",
        "    temperature=0,\n",
        "    max_tokens=None,\n",
        "    timeout=None,\n",
        "    max_retries=2,\n",
        ")"
      ],
      "outputs": [],
      "execution_count": null
    },
    {
      "cell_type": "markdown",
      "id": "2b4f3e15",
      "metadata": {},
      "source": [
        "## 用法\n\n要使用该模型，你需要传入一个消息列表并调用 `invoke` 方法："
      ]
    },
    {
      "cell_type": "code",
      "id": "62e0dbc3",
      "metadata": {
        "tags": []
      },
      "source": [
        "messages = [\n",
        "    (\n",
        "        \"system\",\n",
        "        \"You are a helpful assistant that translates English to French. Translate the user sentence.\",\n",
        "    ),\n",
        "    (\"human\", \"I love programming.\"),\n",
        "]\n",
        "ai_msg = llm.invoke(messages)\n",
        "ai_msg"
      ],
      "outputs": [],
      "execution_count": null
    },
    {
      "cell_type": "markdown",
      "id": "5cf7293d",
      "metadata": {},
      "source": [
        "然后，你可以访问消息的内容："
      ]
    },
    {
      "cell_type": "code",
      "id": "d86145b3-bfef-46e8-b227-4dda5c9c2705",
      "metadata": {},
      "source": [
        "print(ai_msg.content)"
      ],
      "outputs": [],
      "execution_count": null
    },
    {
      "cell_type": "markdown",
      "id": "4391289ce0a80e19",
      "metadata": {},
      "source": [
        "## 流式输出\n\n你也可以流式输出响应。首先，创建一个流："
      ]
    },
    {
      "cell_type": "code",
      "id": "4a0f2112b3a4c79e",
      "metadata": {},
      "source": [
        "messages = [\n",
        "    (\n",
        "        \"system\",\n",
        "        \"You are a helpful assistant that translates English to French. Translate the user sentence.\",\n",
        "    ),\n",
        "    (\"human\", \"I love programming. Sing a song about it\"),\n",
        "]\n",
        "ai_stream = llm.stream(messages)\n",
        "ai_stream"
      ],
      "outputs": [],
      "execution_count": null
    },
    {
      "cell_type": "markdown",
      "id": "23cc74b6",
      "metadata": {},
      "source": [
        "然后，遍历流以获取块："
      ]
    },
    {
      "cell_type": "code",
      "id": "8c4b7b9b9308c757",
      "metadata": {},
      "source": [
        "for chunk in ai_stream:\n",
        "    print(chunk.content, end=\"\")"
      ],
      "outputs": [],
      "execution_count": null
    },
    {
      "cell_type": "markdown",
      "id": "e632bf7d0873f933",
      "metadata": {},
      "source": [
        "## 工具调用\n\nWriter 模型，例如 Palmyra X 004，支持 [工具调用](https://dev.writer.com/api-guides/tool-calling)，它允许您描述工具及其参数。模型将返回一个 JSON 对象，其中包含要调用的工具以及该工具的输入。\n\n### 绑定工具\n\n使用 `ChatWriter.bind_tools`，您可以轻松地将 Pydantic 类、字典模式、LangChain 工具，甚至函数传递给模型作为工具。在底层，它们被转换为工具模式，其外观如下：\n```\n{\n    \"name\": \"...\",\n    \"description\": \"...\",\n    \"parameters\": {...}  # JSONSchema\n}\n```\n这些会在每次模型调用时传递。\n\n例如，要使用一个获取给定位置的天气的工具，您可以定义一个 Pydantic 类并将其传递给 `ChatWriter.bind_tools`："
      ]
    },
    {
      "cell_type": "code",
      "id": "47e2f0faceca533",
      "metadata": {},
      "source": [
        "from pydantic import BaseModel, Field\n",
        "\n",
        "\n",
        "class GetWeather(BaseModel):\n",
        "    \"\"\"Get the current weather in a given location\"\"\"\n",
        "\n",
        "    location: str = Field(..., description=\"The city and state, e.g. San Francisco, CA\")\n",
        "\n",
        "\n",
        "llm.bind_tools([GetWeather])"
      ],
      "outputs": [],
      "execution_count": null
    },
    {
      "cell_type": "markdown",
      "id": "68e22d3b",
      "metadata": {},
      "source": [
        "然后，您可以使用该工具调用模型："
      ]
    },
    {
      "cell_type": "code",
      "id": "765527dd533ec967",
      "metadata": {},
      "source": [
        "ai_msg = llm.invoke(\n",
        "    \"what is the weather like in New York City\",\n",
        ")\n",
        "ai_msg"
      ],
      "outputs": [],
      "execution_count": null
    },
    {
      "cell_type": "markdown",
      "id": "57544bdf",
      "metadata": {},
      "source": [
        "最终，您可以访问工具调用，并着手执行您的函数："
      ]
    },
    {
      "cell_type": "code",
      "id": "f361c4769e772fe",
      "metadata": {},
      "source": [
        "print(ai_msg.tool_calls)"
      ],
      "outputs": [],
      "execution_count": null
    },
    {
      "cell_type": "markdown",
      "id": "3baf53021834d2ff",
      "metadata": {},
      "source": [
        "### 关于工具绑定的注意事项\n\n`ChatWriter.bind_tools()` 方法不会创建带有绑定工具的新实例，而是将接收到的 `tools` 和 `tool_choice` 存储在初始类实例属性中，以便在使用 `ChatWriter` 调用时将它们作为参数传递给 Palmyra LLM。这种方法支持不同的工具类型，例如 `function` 和 `graph`。`Graph` 是其中一个远程调用的 Writer Palmyra 工具。更多信息请访问我们的[文档](https://dev.writer.com/api-guides/knowledge-graph#knowledge-graph)。\n\n有关 LangChain 中工具 ব্যবহারের更多信息，请访问[LangChain 工具调用文档](https://python.langchain.com/docs/concepts/tool_calling/)。"
      ]
    },
    {
      "cell_type": "markdown",
      "id": "a4674b1b82ce9d1f",
      "metadata": {},
      "source": [
        "## 批量处理\n\n你也可以批量处理请求并设置 `max_concurrency`："
      ]
    },
    {
      "cell_type": "code",
      "id": "c8a217f6190747fe",
      "metadata": {},
      "source": [
        "ai_batch = llm.batch(\n",
        "    [\n",
        "        \"How to cook pancakes?\",\n",
        "        \"How to compose poem?\",\n",
        "        \"How to run faster?\",\n",
        "    ],\n",
        "    config={\"max_concurrency\": 3},\n",
        ")\n",
        "ai_batch"
      ],
      "outputs": [],
      "execution_count": null
    },
    {
      "cell_type": "markdown",
      "id": "2eb81e1d",
      "metadata": {},
      "source": [
        "然后，迭代批处理以获取结果："
      ]
    },
    {
      "cell_type": "code",
      "id": "b6a228d448f3df23",
      "metadata": {},
      "source": [
        "for batch in ai_batch:\n",
        "    print(batch.content)\n",
        "    print(\"-\" * 100)"
      ],
      "outputs": [],
      "execution_count": null
    },
    {
      "cell_type": "markdown",
      "id": "58a9ab241fe09a71",
      "metadata": {},
      "source": [
        "## 异步使用\n\n以上所有功能（调用、流式处理、批量处理、工具调用）都支持异步使用。"
      ]
    },
    {
      "cell_type": "markdown",
      "id": "18e2bfc0-7e78-4528-a73f-499ac150dca8",
      "metadata": {},
      "source": [
        "## Prompt 模板\n\n[Prompt 模板](https://python.langchain.com/docs/concepts/prompt_templates/) 帮助将用户输入和参数转换成语言模型的指令。你可以像这样在 `ChatWriter` 中使用 prompt 模板："
      ]
    },
    {
      "cell_type": "code",
      "id": "e197d1d7-a070-4c96-9f8a-a0e86d046e0b",
      "metadata": {},
      "source": [
        "from langchain_core.prompts import ChatPromptTemplate\n",
        "\n",
        "prompt = ChatPromptTemplate(\n",
        "    [\n",
        "        (\n",
        "            \"system\",\n",
        "            \"You are a helpful assistant that translates {input_language} to {output_language}.\",\n",
        "        ),\n",
        "        (\"human\", \"{input}\"),\n",
        "    ]\n",
        ")\n",
        "\n",
        "chain = prompt | llm\n",
        "chain.invoke(\n",
        "    {\n",
        "        \"input_language\": \"English\",\n",
        "        \"output_language\": \"German\",\n",
        "        \"input\": \"I love programming.\",\n",
        "    }\n",
        ")"
      ],
      "outputs": [],
      "execution_count": null
    },
    {
      "cell_type": "markdown",
      "id": "3a5bb5ca-c3ae-4a58-be67-2cd18574b9a3",
      "metadata": {},
      "source": [
        "## API 参考\n有关 ChatWriter 所有功能和配置的详细文档，请访问 [API 参考](https://python.langchain.com/api_reference/writer/chat_models/langchain_writer.chat_models.ChatWriter.html#langchain_writer.chat_models.ChatWriter)。\n\n## 其他资源\n您可以在 [Writer 文档](https://dev.writer.com/home) 中找到有关 Writer 模型（包括成本、上下文窗口和支持的输入类型）以及工具的信息。"
      ]
    }
  ],
  "metadata": {
    "kernelspec": {
      "display_name": "Python 3 (ipykernel)",
      "language": "python",
      "name": "python3"
    },
    "language_info": {
      "codemirror_mode": {
        "name": "ipython",
        "version": 3
      },
      "file_extension": ".py",
      "mimetype": "text/x-python",
      "name": "python",
      "nbconvert_exporter": "python",
      "pygments_lexer": "ipython3",
      "version": "3.11.9"
    }
  },
  "nbformat": 4,
  "nbformat_minor": 5
}