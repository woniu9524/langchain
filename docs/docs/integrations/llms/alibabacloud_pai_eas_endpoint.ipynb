{
  "cells": [
    {
      "cell_type": "markdown",
      "metadata": {},
      "source": [
        "# 阿里云 PAI EAS\n\n阿里云的 [机器学习平台](https://www.alibabacloud.com/help/en/pai) 是专为企业和开发者打造的机器学习或深度学习工程平台。它提供易于使用、经济高效、高性能且易于扩展的插件，可应用于各种行业场景。凭借超过 140 种内置优化算法，`机器学习平台` 提供了全流程 AI 工程能力，包括数据标注 (`PAI-iTAG`)、模型构建 (`PAI-Designer` 和 `PAI-DSW`)、模型训练 (`PAI-DLC`)、编译优化以及推理部署 (`PAI-EAS`)。`PAI-EAS` 支持 CPU 和 GPU 等不同类型的硬件资源，并具有高吞吐量和低延迟的特点。它允许您通过几次点击即可部署大规模复杂模型，并支持实时弹性伸缩。它还提供全面的运维和监控系统。"
      ]
    },
    {
      "cell_type": "code",
      "execution_count": null,
      "metadata": {},
      "outputs": [],
      "source": [
        "##Installing the langchain packages needed to use the integration\n",
        "%pip install -qU langchain-community"
      ]
    },
    {
      "cell_type": "code",
      "execution_count": 8,
      "metadata": {},
      "outputs": [],
      "source": [
        "from langchain.chains import LLMChain\n",
        "from langchain_community.llms.pai_eas_endpoint import PaiEasEndpoint\n",
        "from langchain_core.prompts import PromptTemplate\n",
        "\n",
        "template = \"\"\"Question: {question}\n",
        "\n",
        "Answer: Let's think step by step.\"\"\"\n",
        "\n",
        "prompt = PromptTemplate.from_template(template)"
      ]
    },
    {
      "cell_type": "markdown",
      "metadata": {},
      "source": [
        "要使用 EAS LLM，必须先设置 EAS 服务。当 EAS 服务启动后，可以获得 `EAS_SERVICE_URL` 和 `EAS_SERVICE_TOKEN`。用户可以参考 https://www.alibabacloud.com/help/en/pai/user-guide/service-deployment/ 获取更多信息。"
      ]
    },
    {
      "cell_type": "code",
      "execution_count": 9,
      "metadata": {},
      "outputs": [],
      "source": [
        "import os\n",
        "\n",
        "os.environ[\"EAS_SERVICE_URL\"] = \"Your_EAS_Service_URL\"\n",
        "os.environ[\"EAS_SERVICE_TOKEN\"] = \"Your_EAS_Service_Token\"\n",
        "llm = PaiEasEndpoint(\n",
        "    eas_service_url=os.environ[\"EAS_SERVICE_URL\"],\n",
        "    eas_service_token=os.environ[\"EAS_SERVICE_TOKEN\"],\n",
        ")"
      ]
    },
    {
      "cell_type": "code",
      "execution_count": null,
      "metadata": {},
      "outputs": [
        {
          "data": {
            "text/plain": [
              "'  Thank you for asking! However, I must respectfully point out that the question contains an error. Justin Bieber was born in 1994, and the Super Bowl was first played in 1967. Therefore, it is not possible for any NFL team to have won the Super Bowl in the year Justin Bieber was born.\\n\\nI hope this clarifies things! If you have any other questions, please feel free to ask.'"
            ]
          },
          "execution_count": 10,
          "metadata": {},
          "output_type": "execute_result"
        }
      ],
      "source": [
        "llm_chain = prompt | llm\n",
        "\n",
        "question = \"What NFL team won the Super Bowl in the year Justin Beiber was born?\"\n",
        "llm_chain.invoke({\"question\": question})"
      ]
    }
  ],
  "metadata": {
    "kernelspec": {
      "display_name": "Python 3 (ipykernel)",
      "language": "python",
      "name": "python3"
    },
    "language_info": {
      "codemirror_mode": {
        "name": "ipython",
        "version": 3
      },
      "file_extension": ".py",
      "mimetype": "text/x-python",
      "name": "python",
      "nbconvert_exporter": "python",
      "pygments_lexer": "ipython3",
      "version": "3.10.12"
    }
  },
  "nbformat": 4,
  "nbformat_minor": 4
}