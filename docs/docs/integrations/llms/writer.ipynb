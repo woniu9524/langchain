{
  "cells": [
    {
      "cell_type": "markdown",
      "metadata": {},
      "source": [
        "# Writer LLM\n\n[Writer](https://writer.com/) 是一个生成不同语言内容的平台。\n\n本示例将介绍如何使用 LangChain 与 `Writer` [模型](https://dev.writer.com/docs/models) 进行交互。\n\n## 设置\n\n要访问 Writer 模型，您需要创建一个 Writer 账户，获取 API 密钥，并安装 `writer-sdk` 和 `langchain-community` 软件包。\n\n### 凭证\n\n前往 [Writer AI Studio](https://app.writer.com/aistudio/signup?utm_campaign=devrel) 注册 OpenAI 并生成 API 密钥。完成此操作后，设置 WRITER_API_KEY 环境变量："
      ]
    },
    {
      "metadata": {
        "ExecuteTime": {
          "end_time": "2024-11-14T11:10:46.824961Z",
          "start_time": "2024-11-14T11:10:44.864137Z"
        }
      },
      "cell_type": "code",
      "source": [
        "import getpass\n",
        "import os\n",
        "\n",
        "if not os.environ.get(\"WRITER_API_KEY\"):\n",
        "    os.environ[\"WRITER_API_KEY\"] = getpass.getpass(\"Enter your Writer API key:\")"
      ],
      "outputs": [],
      "execution_count": 1
    },
    {
      "metadata": {},
      "cell_type": "markdown",
      "source": [
        "## 安装\n\nLangChain Writer 集成位于 `langchain-community` 包中："
      ]
    },
    {
      "metadata": {
        "ExecuteTime": {
          "end_time": "2024-11-14T11:10:48.297429Z",
          "start_time": "2024-11-14T11:10:46.843983Z"
        }
      },
      "cell_type": "code",
      "source": "%pip install -qU langchain-community writer-sdk",
      "outputs": [
        {
          "name": "stdout",
          "output_type": "stream",
          "text": [
            "\r\n",
            "\u001b[1m[\u001b[0m\u001b[34;49mnotice\u001b[0m\u001b[1;39;49m]\u001b[0m\u001b[39;49m A new release of pip is available: \u001b[0m\u001b[31;49m24.2\u001b[0m\u001b[39;49m -> \u001b[0m\u001b[32;49m24.3.1\u001b[0m\r\n",
            "\u001b[1m[\u001b[0m\u001b[34;49mnotice\u001b[0m\u001b[1;39;49m]\u001b[0m\u001b[39;49m To update, run: \u001b[0m\u001b[32;49mpip install --upgrade pip\u001b[0m\r\n",
            "Note: you may need to restart the kernel to use updated packages.\n"
          ]
        }
      ],
      "execution_count": 2
    },
    {
      "metadata": {},
      "cell_type": "markdown",
      "source": "现在我们可以初始化模型对象来与 writer LLM 进行交互了"
    },
    {
      "metadata": {
        "ExecuteTime": {
          "end_time": "2024-11-14T11:10:49.818902Z",
          "start_time": "2024-11-14T11:10:48.580516Z"
        }
      },
      "cell_type": "code",
      "source": [
        "from langchain_community.llms import Writer as WriterLLM\n",
        "\n",
        "llm = WriterLLM(\n",
        "    temperature=0.7,\n",
        "    max_tokens=1000,\n",
        "    # other params...\n",
        ")"
      ],
      "outputs": [],
      "execution_count": 3
    },
    {
      "metadata": {},
      "cell_type": "markdown",
      "source": "## 调用"
    },
    {
      "metadata": {
        "jupyter": {
          "is_executing": true
        },
        "ExecuteTime": {
          "start_time": "2024-11-14T11:10:49.832822Z"
        }
      },
      "cell_type": "code",
      "source": "response_text = llm.invoke(input=\"Write a poem\")",
      "outputs": [],
      "execution_count": null
    },
    {
      "metadata": {},
      "cell_type": "code",
      "source": "print(response_text)",
      "outputs": [],
      "execution_count": null
    },
    {
      "metadata": {},
      "cell_type": "markdown",
      "source": "## 流式传输"
    },
    {
      "metadata": {},
      "cell_type": "code",
      "source": "stream_response = llm.stream(input=\"Tell me a fairytale\")",
      "outputs": [],
      "execution_count": null
    },
    {
      "metadata": {},
      "cell_type": "code",
      "source": [
        "for chunk in stream_response:\n",
        "    print(chunk, end=\"\")"
      ],
      "outputs": [],
      "execution_count": null
    },
    {
      "metadata": {},
      "cell_type": "markdown",
      "source": [
        "## 异步\n\nWriter 支持通过 `ainvoke()` 和 `astream()` 方法进行异步调用。"
      ]
    },
    {
      "metadata": {},
      "cell_type": "markdown",
      "source": [
        "## API 参考\n\n有关 Writer 所有功能的详细文档，请访问我们的[API 参考](https://dev.writer.com/api-guides/api-reference/completion-api/text-generation#text-generation)。"
      ]
    }
  ],
  "metadata": {
    "kernelspec": {
      "display_name": "Python 3 (ipykernel)",
      "language": "python",
      "name": "python3"
    },
    "language_info": {
      "codemirror_mode": {
        "name": "ipython",
        "version": 3
      },
      "file_extension": ".py",
      "mimetype": "text/x-python",
      "name": "python",
      "nbconvert_exporter": "python",
      "pygments_lexer": "ipython3",
      "version": "3.10.6"
    },
    "vscode": {
      "interpreter": {
        "hash": "a0a0263b650d907a3bfe41c0f8d6a63a071b884df3cfdc1579f00cdc1aed6b03"
      }
    }
  },
  "nbformat": 4,
  "nbformat_minor": 4
}