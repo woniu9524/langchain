{
  "cells": [
    {
      "cell_type": "markdown",
      "id": "959300d4",
      "metadata": {},
      "source": [
        "# Hugging Face 本地管道\n\n可以通过 `HuggingFacePipeline` 类在本地运行 Hugging Face 模型。\n\n[Hugging Face Model Hub](https://huggingface.co/models) 托管了超过 120k 个模型、20k 个数据集和 50k 个演示应用程序 (Spaces)，所有这些都是开源且公开可用的，在一个在线平台上，人们可以轻松地一起进行协作和构建机器学习。\n\n这些可以通过本地管道包装器从 LangChain 调用，或者通过 HuggingFaceHub 类调用其托管的推理端点来调用。"
      ]
    },
    {
      "cell_type": "markdown",
      "id": "4c1b8450-5eaf-4d34-8341-2d785448a1ff",
      "metadata": {
        "tags": []
      },
      "source": [
        "要使用，您应该安装 ``transformers`` Python [软件包](https://pypi.org/project/transformers/)，以及 [pytorch](https://pytorch.org/get-started/locally/)。您也可以安装 `xformer` 以获得更节省内存的注意力实现。"
      ]
    },
    {
      "cell_type": "code",
      "execution_count": null,
      "id": "d772b637-de00-4663-bd77-9bc96d798db2",
      "metadata": {
        "tags": []
      },
      "outputs": [],
      "source": [
        "%pip install --upgrade --quiet transformers"
      ]
    },
    {
      "cell_type": "markdown",
      "id": "91ad075f-71d5-4bc8-ab91-cc0ad5ef16bb",
      "metadata": {},
      "source": [
        "### 模型加载\n\n模型可以通过 `from_model_id` 方法指定模型参数来加载。"
      ]
    },
    {
      "cell_type": "code",
      "execution_count": null,
      "id": "165ae236-962a-4763-8052-c4836d78a5d2",
      "metadata": {
        "tags": []
      },
      "outputs": [],
      "source": [
        "from langchain_huggingface.llms import HuggingFacePipeline\n",
        "\n",
        "hf = HuggingFacePipeline.from_model_id(\n",
        "    model_id=\"gpt2\",\n",
        "    task=\"text-generation\",\n",
        "    pipeline_kwargs={\"max_new_tokens\": 10},\n",
        ")"
      ]
    },
    {
      "cell_type": "markdown",
      "id": "00104b27-0c15-4a97-b198-4512337ee211",
      "metadata": {},
      "source": [
        "他们也可以通过直接传入现有的 `transformers` pipeline 来加载"
      ]
    },
    {
      "cell_type": "code",
      "execution_count": null,
      "id": "7f426a4f",
      "metadata": {},
      "outputs": [],
      "source": [
        "from langchain_huggingface.llms import HuggingFacePipeline\n",
        "from transformers import AutoModelForCausalLM, AutoTokenizer, pipeline\n",
        "\n",
        "model_id = \"gpt2\"\n",
        "tokenizer = AutoTokenizer.from_pretrained(model_id)\n",
        "model = AutoModelForCausalLM.from_pretrained(model_id)\n",
        "pipe = pipeline(\"text-generation\", model=model, tokenizer=tokenizer, max_new_tokens=10)\n",
        "hf = HuggingFacePipeline(pipeline=pipe)"
      ]
    },
    {
      "cell_type": "markdown",
      "id": "60e7ba8d",
      "metadata": {},
      "source": [
        "### 创建链\n\n模型加载到内存后，您可以将其与提示组合起来形成一个链。"
      ]
    },
    {
      "cell_type": "code",
      "execution_count": null,
      "id": "3acf0069",
      "metadata": {},
      "outputs": [],
      "source": [
        "from langchain_core.prompts import PromptTemplate\n",
        "\n",
        "template = \"\"\"Question: {question}\n",
        "\n",
        "Answer: Let's think step by step.\"\"\"\n",
        "prompt = PromptTemplate.from_template(template)\n",
        "\n",
        "chain = prompt | hf\n",
        "\n",
        "question = \"What is electroencephalography?\"\n",
        "\n",
        "print(chain.invoke({\"question\": question}))"
      ]
    },
    {
      "cell_type": "markdown",
      "id": "b4a31db5",
      "metadata": {},
      "source": [
        "要在没有提示的情况下获得响应，您可以将 `skip_prompt=True` 与 LLM 绑定。"
      ]
    },
    {
      "cell_type": "code",
      "execution_count": null,
      "id": "5e4aaad2",
      "metadata": {},
      "outputs": [],
      "source": [
        "chain = prompt | hf.bind(skip_prompt=True)\n",
        "\n",
        "question = \"What is electroencephalography?\"\n",
        "\n",
        "print(chain.invoke({\"question\": question}))"
      ]
    },
    {
      "cell_type": "markdown",
      "id": "5141dc4d",
      "metadata": {},
      "source": [
        "流式响应。"
      ]
    },
    {
      "cell_type": "code",
      "execution_count": null,
      "id": "f1819250-2db9-4143-b88a-12e92d4e2386",
      "metadata": {},
      "outputs": [],
      "source": [
        "for chunk in chain.stream(question):\n",
        "    print(chunk, end=\"\", flush=True)"
      ]
    },
    {
      "cell_type": "markdown",
      "id": "dbbc3a37",
      "metadata": {},
      "source": [
        "### GPU 推理\n\n当在带有 GPU 的机器上运行时，您可以指定 `device=n` 参数将模型置于指定的设备上。\n默认值为 `-1`，表示 CPU 推理。\n\n如果您有多个 GPU，或者模型过大无法装入单个 GPU，您可以指定 `device_map=\"auto\"`。这需要并使用 [Accelerate](https://huggingface.co/docs/accelerate/index) 库来自动确定如何加载模型权重。\n\n\\*注意\\*：`device` 和 `device_map` 不能同时指定，否则可能导致意外行为。"
      ]
    },
    {
      "cell_type": "code",
      "execution_count": null,
      "id": "703c91c8",
      "metadata": {},
      "outputs": [],
      "source": [
        "gpu_llm = HuggingFacePipeline.from_model_id(\n",
        "    model_id=\"gpt2\",\n",
        "    task=\"text-generation\",\n",
        "    device=0,  # replace with device_map=\"auto\" to use the accelerate library.\n",
        "    pipeline_kwargs={\"max_new_tokens\": 10},\n",
        ")\n",
        "\n",
        "gpu_chain = prompt | gpu_llm\n",
        "\n",
        "question = \"What is electroencephalography?\"\n",
        "\n",
        "print(gpu_chain.invoke({\"question\": question}))"
      ]
    },
    {
      "cell_type": "markdown",
      "id": "59276016",
      "metadata": {},
      "source": [
        "### Batch GPU 推理\n\n如果在带有 GPU 的设备上运行，您也可以在 GPU 上以批处理模式运行推理。"
      ]
    },
    {
      "cell_type": "code",
      "execution_count": null,
      "id": "097ba62f",
      "metadata": {},
      "outputs": [],
      "source": [
        "gpu_llm = HuggingFacePipeline.from_model_id(\n",
        "    model_id=\"bigscience/bloom-1b7\",\n",
        "    task=\"text-generation\",\n",
        "    device=0,  # -1 for CPU\n",
        "    batch_size=2,  # adjust as needed based on GPU map and model size.\n",
        "    model_kwargs={\"temperature\": 0, \"max_length\": 64},\n",
        ")\n",
        "\n",
        "gpu_chain = prompt | gpu_llm.bind(stop=[\"\\n\\n\"])\n",
        "\n",
        "questions = []\n",
        "for i in range(4):\n",
        "    questions.append({\"question\": f\"What is the number {i} in french?\"})\n",
        "\n",
        "answers = gpu_chain.batch(questions)\n",
        "for answer in answers:\n",
        "    print(answer)"
      ]
    },
    {
      "cell_type": "markdown",
      "id": "df1d41d9",
      "metadata": {},
      "source": [
        "### 使用 OpenVINO 后端进行推理\n\n要使用 OpenVINO 部署模型，您可以指定 `backend=\"openvino\"` 参数来触发 OpenVINO 作为后端推理框架。\n\n如果您的设备有 Intel GPU，您可以指定 `model_kwargs={\"device\": \"GPU\"}` 在 GPU 上运行推理。"
      ]
    },
    {
      "cell_type": "code",
      "execution_count": null,
      "id": "efb73dd7-77bf-4436-92e5-51306af45bd7",
      "metadata": {},
      "outputs": [],
      "source": [
        "%pip install --upgrade-strategy eager \"optimum[openvino,nncf]\" --quiet"
      ]
    },
    {
      "cell_type": "code",
      "execution_count": null,
      "id": "70f6826c",
      "metadata": {},
      "outputs": [],
      "source": [
        "ov_config = {\"PERFORMANCE_HINT\": \"LATENCY\", \"NUM_STREAMS\": \"1\", \"CACHE_DIR\": \"\"}\n",
        "\n",
        "ov_llm = HuggingFacePipeline.from_model_id(\n",
        "    model_id=\"gpt2\",\n",
        "    task=\"text-generation\",\n",
        "    backend=\"openvino\",\n",
        "    model_kwargs={\"device\": \"CPU\", \"ov_config\": ov_config},\n",
        "    pipeline_kwargs={\"max_new_tokens\": 10},\n",
        ")\n",
        "\n",
        "ov_chain = prompt | ov_llm\n",
        "\n",
        "question = \"What is electroencephalography?\"\n",
        "\n",
        "print(ov_chain.invoke({\"question\": question}))"
      ]
    },
    {
      "cell_type": "markdown",
      "id": "12524837-e9ab-455a-86be-66b95f4f893a",
      "metadata": {},
      "source": [
        "### 使用本地 OpenVINO 模型进行推理\n\n您可以 [将您的模型导出](https://github.com/huggingface/optimum-intel?tab=readme-ov-file#export) 为 OpenVINO IR 格式，并从本地文件夹加载模型。"
      ]
    },
    {
      "cell_type": "code",
      "execution_count": null,
      "id": "3d1104a2-79c7-43a6-aa1c-8076a5ad7747",
      "metadata": {},
      "outputs": [],
      "source": [
        "!optimum-cli export openvino --model gpt2 ov_model_dir"
      ]
    },
    {
      "cell_type": "markdown",
      "id": "0f7a6d21",
      "metadata": {},
      "source": [
        "建议应用 8 位或 4 位权重量化，以使用 `--weight-format` 降低推理延迟和模型占用的空间："
      ]
    },
    {
      "cell_type": "code",
      "execution_count": null,
      "id": "97088ea0",
      "metadata": {},
      "outputs": [],
      "source": [
        "!optimum-cli export openvino --model gpt2  --weight-format int8 ov_model_dir # for 8-bit quantization\n",
        "\n",
        "!optimum-cli export openvino --model gpt2  --weight-format int4 ov_model_dir # for 4-bit quantization"
      ]
    },
    {
      "cell_type": "code",
      "execution_count": null,
      "id": "ac71e60d-5595-454e-8602-03ebb0248205",
      "metadata": {},
      "outputs": [],
      "source": [
        "ov_llm = HuggingFacePipeline.from_model_id(\n",
        "    model_id=\"ov_model_dir\",\n",
        "    task=\"text-generation\",\n",
        "    backend=\"openvino\",\n",
        "    model_kwargs={\"device\": \"CPU\", \"ov_config\": ov_config},\n",
        "    pipeline_kwargs={\"max_new_tokens\": 10},\n",
        ")\n",
        "\n",
        "ov_chain = prompt | ov_llm\n",
        "\n",
        "question = \"What is electroencephalography?\"\n",
        "\n",
        "print(ov_chain.invoke({\"question\": question}))"
      ]
    },
    {
      "cell_type": "markdown",
      "id": "a2c5726c",
      "metadata": {},
      "source": [
        "您可以通过激活和 KV 缓存量化的动态量化获得额外的推理速度改进。这些选项可以通过 `ov_config` 启用，如下所示："
      ]
    },
    {
      "cell_type": "code",
      "execution_count": null,
      "id": "a1f9c2c5",
      "metadata": {},
      "outputs": [],
      "source": [
        "ov_config = {\n",
        "    \"KV_CACHE_PRECISION\": \"u8\",\n",
        "    \"DYNAMIC_QUANTIZATION_GROUP_SIZE\": \"32\",\n",
        "    \"PERFORMANCE_HINT\": \"LATENCY\",\n",
        "    \"NUM_STREAMS\": \"1\",\n",
        "    \"CACHE_DIR\": \"\",\n",
        "}"
      ]
    },
    {
      "cell_type": "markdown",
      "id": "da9a9239",
      "metadata": {},
      "source": [
        "有关更多信息，请参阅 [OpenVINO LLM 指南](https://docs.openvino.ai/2024/learn-openvino/llm_inference_guide.html) 和 [OpenVINO 本地管道笔记本](/docs/integrations/llms/openvino/)。"
      ]
    }
  ],
  "metadata": {
    "kernelspec": {
      "display_name": "Python 3 (ipykernel)",
      "language": "python",
      "name": "python3"
    },
    "language_info": {
      "codemirror_mode": {
        "name": "ipython",
        "version": 3
      },
      "file_extension": ".py",
      "mimetype": "text/x-python",
      "name": "python",
      "nbconvert_exporter": "python",
      "pygments_lexer": "ipython3",
      "version": "3.10.12"
    }
  },
  "nbformat": 4,
  "nbformat_minor": 5
}