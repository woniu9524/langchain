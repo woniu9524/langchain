{
  "cells": [
    {
      "cell_type": "markdown",
      "metadata": {},
      "source": [
        "# Yi\n[01.AI](https://www.lingyiwanwu.com/en) 由李开复博士创立，是一家处于 AI 2.0 前沿的全球性公司。他们提供尖端的​​大型语言模型，包括 Yi 系列，其参数量从 60 亿到数百亿不等。01.AI 还提供多模态模型、开放 API 平台以及 Yi-34B/9B/6B 和 Yi-VL 等开源选项。"
      ]
    },
    {
      "cell_type": "code",
      "execution_count": null,
      "metadata": {},
      "outputs": [],
      "source": [
        "## Installing the langchain packages needed to use the integration\n",
        "%pip install -qU langchain-community"
      ]
    },
    {
      "cell_type": "markdown",
      "metadata": {},
      "source": [
        "## 先决条件\n访问 Yi LLM API 需要 API 密钥。请访问 https://www.lingyiwanwu.com/ 获取您的 API 密钥。申请 API 密钥时，您需要指明是用于国内（中国）还是国际使用。"
      ]
    },
    {
      "cell_type": "markdown",
      "metadata": {},
      "source": [
        "## 使用 Yi LLM"
      ]
    },
    {
      "cell_type": "code",
      "execution_count": null,
      "metadata": {},
      "outputs": [],
      "source": [
        "import os\n",
        "\n",
        "os.environ[\"YI_API_KEY\"] = \"YOUR_API_KEY\"\n",
        "\n",
        "from langchain_community.llms import YiLLM\n",
        "\n",
        "# Load the model\n",
        "llm = YiLLM(model=\"yi-large\")\n",
        "\n",
        "# You can specify the region if needed (default is \"auto\")\n",
        "# llm = YiLLM(model=\"yi-large\", region=\"domestic\")  # or \"international\"\n",
        "\n",
        "# Basic usage\n",
        "res = llm.invoke(\"What's your name?\")\n",
        "print(res)"
      ]
    },
    {
      "cell_type": "code",
      "execution_count": null,
      "metadata": {},
      "outputs": [],
      "source": [
        "# Generate method\n",
        "res = llm.generate(\n",
        "    prompts=[\n",
        "        \"Explain the concept of large language models.\",\n",
        "        \"What are the potential applications of AI in healthcare?\",\n",
        "    ]\n",
        ")\n",
        "print(res)"
      ]
    },
    {
      "cell_type": "code",
      "execution_count": null,
      "metadata": {},
      "outputs": [],
      "source": [
        "# Streaming\n",
        "for chunk in llm.stream(\"Describe the key features of the Yi language model series.\"):\n",
        "    print(chunk, end=\"\", flush=True)"
      ]
    },
    {
      "cell_type": "code",
      "execution_count": null,
      "metadata": {},
      "outputs": [],
      "source": [
        "# Asynchronous streaming\n",
        "import asyncio\n",
        "\n",
        "\n",
        "async def run_aio_stream():\n",
        "    async for chunk in llm.astream(\n",
        "        \"Write a brief on the future of AI according to Dr. Kai-Fu Lee's vision.\"\n",
        "    ):\n",
        "        print(chunk, end=\"\", flush=True)\n",
        "\n",
        "\n",
        "asyncio.run(run_aio_stream())"
      ]
    },
    {
      "cell_type": "code",
      "execution_count": null,
      "metadata": {},
      "outputs": [],
      "source": [
        "# Adjusting parameters\n",
        "llm_with_params = YiLLM(\n",
        "    model=\"yi-large\",\n",
        "    temperature=0.7,\n",
        "    top_p=0.9,\n",
        ")\n",
        "\n",
        "res = llm_with_params(\n",
        "    \"Propose an innovative AI application that could benefit society.\"\n",
        ")\n",
        "print(res)"
      ]
    }
  ],
  "metadata": {
    "language_info": {
      "name": "python"
    }
  },
  "nbformat": 4,
  "nbformat_minor": 2
}