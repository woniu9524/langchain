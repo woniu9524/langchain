{
  "cells": [
    {
      "cell_type": "markdown",
      "id": "62bacc68-1976-44eb-9316-d5baf54bf595",
      "metadata": {},
      "source": [
        "# Javelin AI Gateway 教程\n\n本 Jupyter Notebook 将探讨如何使用 Python SDK 与 Javelin AI Gateway 进行交互。\nJavelin AI Gateway 通过提供安全统一的端点，促进了对 OpenAI、Cohere、Anthropic 等大型语言模型 (LLMs) 的利用。该网关本身提供了一个集中的机制，用于系统地推出模型、提供访问安全、策略和企业成本控制等功能。\n\n如需获取 Javelin 所有功能和优势的完整列表，请访问 www.getjavelin.io。"
      ]
    },
    {
      "cell_type": "markdown",
      "id": "e52185f8-132b-4585-b73d-6fee928ac199",
      "metadata": {},
      "source": [
        "## 第一步：简介\n[Javelin AI Gateway](https://www.getjavelin.io) 是一个面向 AI 应用的企业级 API 网关。它集成了强大的访问安全功能，确保与大型语言模型的安全交互。可在[官方文档](https://docs.getjavelin.io)中了解更多信息。"
      ]
    },
    {
      "cell_type": "markdown",
      "id": "2e2acdb3-e3b8-422b-b077-7a0d63d18349",
      "metadata": {},
      "source": [
        "## 步骤 2：安装\n在我们开始之前，必须安装 `javelin_sdk` 并将 Javelin API 密钥设置为环境变量。"
      ]
    },
    {
      "cell_type": "code",
      "execution_count": 5,
      "id": "e91518a4-43ce-443e-b4c0-dbc652eb749f",
      "metadata": {},
      "outputs": [
        {
          "name": "stdout",
          "output_type": "stream",
          "text": [
            "Requirement already satisfied: javelin_sdk in /usr/local/Caskroom/miniconda/base/lib/python3.11/site-packages (0.1.8)\n",
            "Requirement already satisfied: httpx<0.25.0,>=0.24.0 in /usr/local/Caskroom/miniconda/base/lib/python3.11/site-packages (from javelin_sdk) (0.24.1)\n",
            "Requirement already satisfied: pydantic<2.0.0,>=1.10.7 in /usr/local/Caskroom/miniconda/base/lib/python3.11/site-packages (from javelin_sdk) (1.10.12)\n",
            "Requirement already satisfied: certifi in /usr/local/Caskroom/miniconda/base/lib/python3.11/site-packages (from httpx<0.25.0,>=0.24.0->javelin_sdk) (2023.5.7)\n",
            "Requirement already satisfied: httpcore<0.18.0,>=0.15.0 in /usr/local/Caskroom/miniconda/base/lib/python3.11/site-packages (from httpx<0.25.0,>=0.24.0->javelin_sdk) (0.17.3)\n",
            "Requirement already satisfied: idna in /usr/local/Caskroom/miniconda/base/lib/python3.11/site-packages (from httpx<0.25.0,>=0.24.0->javelin_sdk) (3.4)\n",
            "Requirement already satisfied: sniffio in /usr/local/Caskroom/miniconda/base/lib/python3.11/site-packages (from httpx<0.25.0,>=0.24.0->javelin_sdk) (1.3.0)\n",
            "Requirement already satisfied: typing-extensions>=4.2.0 in /usr/local/Caskroom/miniconda/base/lib/python3.11/site-packages (from pydantic<2.0.0,>=1.10.7->javelin_sdk) (4.7.1)\n",
            "Requirement already satisfied: h11<0.15,>=0.13 in /usr/local/Caskroom/miniconda/base/lib/python3.11/site-packages (from httpcore<0.18.0,>=0.15.0->httpx<0.25.0,>=0.24.0->javelin_sdk) (0.14.0)\n",
            "Requirement already satisfied: anyio<5.0,>=3.0 in /usr/local/Caskroom/miniconda/base/lib/python3.11/site-packages (from httpcore<0.18.0,>=0.15.0->httpx<0.25.0,>=0.24.0->javelin_sdk) (3.7.1)\n",
            "Note: you may need to restart the kernel to use updated packages.\n"
          ]
        }
      ],
      "source": [
        "pip install 'javelin_sdk'"
      ]
    },
    {
      "cell_type": "markdown",
      "id": "53b546dc-9ca3-4602-9a7b-d733d99e8e2f",
      "metadata": {},
      "source": [
        "## 步骤 3：补全示例\n本节将演示如何与 Javelin AI 网关交互，以从大型语言模型获取补全。以下是一个演示此过程的 Python 脚本：\n\n(注) 假定您已在网关中设置了一个名为 'eng_dept03' 的路由。"
      ]
    },
    {
      "cell_type": "code",
      "execution_count": 6,
      "id": "d36949f0-5354-44ca-9a31-70c769344319",
      "metadata": {},
      "outputs": [
        {
          "ename": "ImportError",
          "evalue": "cannot import name 'JavelinAIGateway' from 'langchain.llms' (/usr/local/Caskroom/miniconda/base/lib/python3.11/site-packages/langchain/llms/__init__.py)",
          "output_type": "error",
          "traceback": [
            "\u001b[0;31m---------------------------------------------------------------------------\u001b[0m",
            "\u001b[0;31mImportError\u001b[0m                               Traceback (most recent call last)",
            "Cell \u001b[0;32mIn[6], line 2\u001b[0m\n\u001b[1;32m      1\u001b[0m \u001b[38;5;28;01mfrom\u001b[39;00m \u001b[38;5;21;01mlangchain\u001b[39;00m\u001b[38;5;21;01m.\u001b[39;00m\u001b[38;5;21;01mchains\u001b[39;00m \u001b[38;5;28;01mimport\u001b[39;00m LLMChain\n\u001b[0;32m----> 2\u001b[0m \u001b[38;5;28;01mfrom\u001b[39;00m \u001b[38;5;21;01mlangchain\u001b[39;00m\u001b[38;5;21;01m.\u001b[39;00m\u001b[38;5;21;01mllms\u001b[39;00m \u001b[38;5;28;01mimport\u001b[39;00m JavelinAIGateway\n\u001b[1;32m      3\u001b[0m \u001b[38;5;28;01mfrom\u001b[39;00m \u001b[38;5;21;01mlangchain\u001b[39;00m\u001b[38;5;21;01m.\u001b[39;00m\u001b[38;5;21;01mprompts\u001b[39;00m \u001b[38;5;28;01mimport\u001b[39;00m PromptTemplate\n\u001b[1;32m      5\u001b[0m route_completions \u001b[38;5;241m=\u001b[39m \u001b[38;5;124m\"\u001b[39m\u001b[38;5;124meng_dept03\u001b[39m\u001b[38;5;124m\"\u001b[39m\n",
            "\u001b[0;31mImportError\u001b[0m: cannot import name 'JavelinAIGateway' from 'langchain.llms' (/usr/local/Caskroom/miniconda/base/lib/python3.11/site-packages/langchain/llms/__init__.py)"
          ]
        }
      ],
      "source": [
        "from langchain.chains import LLMChain\n",
        "from langchain_community.llms import JavelinAIGateway\n",
        "from langchain_core.prompts import PromptTemplate\n",
        "\n",
        "route_completions = \"eng_dept03\"\n",
        "\n",
        "gateway = JavelinAIGateway(\n",
        "    gateway_uri=\"http://localhost:8000\",  # replace with service URL or host/port of Javelin\n",
        "    route=route_completions,\n",
        "    model_name=\"gpt-3.5-turbo-instruct\",\n",
        ")\n",
        "\n",
        "prompt = PromptTemplate(\"Translate the following English text to French: {text}\")\n",
        "\n",
        "llmchain = LLMChain(llm=gateway, prompt=prompt)\n",
        "result = llmchain.run(\"podcast player\")\n",
        "\n",
        "print(result)"
      ]
    },
    {
      "cell_type": "markdown",
      "id": "6b63fe93-2e77-4ea9-b8e7-dec2b96b8e95",
      "metadata": {},
      "source": [
        "# 步骤 4：嵌入示例\n本节将演示如何使用 Javelin AI Gateway 获取文本查询和文档的嵌入。下面是一个演示此过程的 Python 脚本：\n(note) 假设您已在网关中设置了一个名为 'embeddings' 的路由"
      ]
    },
    {
      "cell_type": "code",
      "execution_count": 9,
      "id": "878e6c1d-be7f-49de-825c-43c266c8714e",
      "metadata": {},
      "outputs": [
        {
          "ename": "ImportError",
          "evalue": "cannot import name 'JavelinAIGatewayEmbeddings' from 'langchain.embeddings' (/usr/local/Caskroom/miniconda/base/lib/python3.11/site-packages/langchain/embeddings/__init__.py)",
          "output_type": "error",
          "traceback": [
            "\u001b[0;31m---------------------------------------------------------------------------\u001b[0m",
            "\u001b[0;31mImportError\u001b[0m                               Traceback (most recent call last)",
            "Cell \u001b[0;32mIn[9], line 1\u001b[0m\n\u001b[0;32m----> 1\u001b[0m \u001b[38;5;28;01mfrom\u001b[39;00m \u001b[38;5;21;01mlangchain\u001b[39;00m\u001b[38;5;21;01m.\u001b[39;00m\u001b[38;5;21;01membeddings\u001b[39;00m \u001b[38;5;28;01mimport\u001b[39;00m JavelinAIGatewayEmbeddings\n\u001b[1;32m      2\u001b[0m \u001b[38;5;28;01mfrom\u001b[39;00m \u001b[38;5;21;01mlangchain\u001b[39;00m\u001b[38;5;21;01m.\u001b[39;00m\u001b[38;5;21;01membeddings\u001b[39;00m\u001b[38;5;21;01m.\u001b[39;00m\u001b[38;5;21;01mopenai\u001b[39;00m \u001b[38;5;28;01mimport\u001b[39;00m OpenAIEmbeddings\n\u001b[1;32m      4\u001b[0m embeddings \u001b[38;5;241m=\u001b[39m JavelinAIGatewayEmbeddings(\n\u001b[1;32m      5\u001b[0m     gateway_uri\u001b[38;5;241m=\u001b[39m\u001b[38;5;124m\"\u001b[39m\u001b[38;5;124mhttp://localhost:8000\u001b[39m\u001b[38;5;124m\"\u001b[39m, \u001b[38;5;66;03m# replace with service URL or host/port of Javelin\u001b[39;00m\n\u001b[1;32m      6\u001b[0m     route\u001b[38;5;241m=\u001b[39m\u001b[38;5;124m\"\u001b[39m\u001b[38;5;124membeddings\u001b[39m\u001b[38;5;124m\"\u001b[39m,\n\u001b[1;32m      7\u001b[0m )\n",
            "\u001b[0;31mImportError\u001b[0m: cannot import name 'JavelinAIGatewayEmbeddings' from 'langchain.embeddings' (/usr/local/Caskroom/miniconda/base/lib/python3.11/site-packages/langchain/embeddings/__init__.py)"
          ]
        }
      ],
      "source": [
        "from langchain_community.embeddings import JavelinAIGatewayEmbeddings\n",
        "\n",
        "embeddings = JavelinAIGatewayEmbeddings(\n",
        "    gateway_uri=\"http://localhost:8000\",  # replace with service URL or host/port of Javelin\n",
        "    route=\"embeddings\",\n",
        ")\n",
        "\n",
        "print(embeddings.embed_query(\"hello\"))\n",
        "print(embeddings.embed_documents([\"hello\"]))"
      ]
    },
    {
      "cell_type": "markdown",
      "id": "07c6691b-d333-4598-b2b7-c0933ed75937",
      "metadata": {},
      "source": [
        "# 步骤 5：聊天示例\n本节将说明如何与 Javelin AI Gateway 交互，以促进与大型语言模型的聊天。以下是一个演示此过程的 Python 脚本：\n（注意）假设您已在网关中设置了一个名为 'mychatbot_route' 的路由"
      ]
    },
    {
      "cell_type": "code",
      "execution_count": 8,
      "id": "653ef88c-36cd-4730-9c12-43c246b551f1",
      "metadata": {},
      "outputs": [
        {
          "ename": "ImportError",
          "evalue": "cannot import name 'ChatJavelinAIGateway' from 'langchain.chat_models' (/usr/local/Caskroom/miniconda/base/lib/python3.11/site-packages/langchain/chat_models/__init__.py)",
          "output_type": "error",
          "traceback": [
            "\u001b[0;31m---------------------------------------------------------------------------\u001b[0m",
            "\u001b[0;31mImportError\u001b[0m                               Traceback (most recent call last)",
            "Cell \u001b[0;32mIn[8], line 1\u001b[0m\n\u001b[0;32m----> 1\u001b[0m \u001b[38;5;28;01mfrom\u001b[39;00m \u001b[38;5;21;01mlangchain\u001b[39;00m\u001b[38;5;21;01m.\u001b[39;00m\u001b[38;5;21;01mchat_models\u001b[39;00m \u001b[38;5;28;01mimport\u001b[39;00m ChatJavelinAIGateway\n\u001b[1;32m      2\u001b[0m \u001b[38;5;28;01mfrom\u001b[39;00m \u001b[38;5;21;01mlangchain\u001b[39;00m\u001b[38;5;21;01m.\u001b[39;00m\u001b[38;5;21;01mschema\u001b[39;00m \u001b[38;5;28;01mimport\u001b[39;00m HumanMessage, SystemMessage\n\u001b[1;32m      4\u001b[0m messages \u001b[38;5;241m=\u001b[39m [\n\u001b[1;32m      5\u001b[0m     SystemMessage(\n\u001b[1;32m      6\u001b[0m         content\u001b[38;5;241m=\u001b[39m\u001b[38;5;124m\"\u001b[39m\u001b[38;5;124mYou are a helpful assistant that translates English to French.\u001b[39m\u001b[38;5;124m\"\u001b[39m\n\u001b[0;32m   (...)\u001b[0m\n\u001b[1;32m     10\u001b[0m     ),\n\u001b[1;32m     11\u001b[0m ]\n",
            "\u001b[0;31mImportError\u001b[0m: cannot import name 'ChatJavelinAIGateway' from 'langchain.chat_models' (/usr/local/Caskroom/miniconda/base/lib/python3.11/site-packages/langchain/chat_models/__init__.py)"
          ]
        }
      ],
      "source": [
        "from langchain_community.chat_models import ChatJavelinAIGateway\n",
        "from langchain_core.messages import HumanMessage, SystemMessage\n",
        "\n",
        "messages = [\n",
        "    SystemMessage(\n",
        "        content=\"You are a helpful assistant that translates English to French.\"\n",
        "    ),\n",
        "    HumanMessage(\n",
        "        content=\"Artificial Intelligence has the power to transform humanity and make the world a better place\"\n",
        "    ),\n",
        "]\n",
        "\n",
        "chat = ChatJavelinAIGateway(\n",
        "    gateway_uri=\"http://localhost:8000\",  # replace with service URL or host/port of Javelin\n",
        "    route=\"mychatbot_route\",\n",
        "    model_name=\"gpt-3.5-turbo\",\n",
        "    params={\"temperature\": 0.1},\n",
        ")\n",
        "\n",
        "print(chat(messages))"
      ]
    },
    {
      "cell_type": "markdown",
      "id": "6eb9cf33-6505-4e05-808b-645856463a8e",
      "metadata": {},
      "source": [
        "第六步：总结\n本教程介绍了 Javelin AI Gateway，并演示了如何使用 Python SDK 进行交互。\n\n记得查看 Javelin [Python SDK](https://www.github.com/getjavelin.io/javelin-python) 了解更多示例，并查阅官方文档以获取其他详细信息。\n\n编码愉快！"
      ]
    }
  ],
  "metadata": {
    "kernelspec": {
      "display_name": "Python 3 (ipykernel)",
      "language": "python",
      "name": "python3"
    },
    "language_info": {
      "codemirror_mode": {
        "name": "ipython",
        "version": 3
      },
      "file_extension": ".py",
      "mimetype": "text/x-python",
      "name": "python",
      "nbconvert_exporter": "python",
      "pygments_lexer": "ipython3",
      "version": "3.11.4"
    }
  },
  "nbformat": 4,
  "nbformat_minor": 5
}