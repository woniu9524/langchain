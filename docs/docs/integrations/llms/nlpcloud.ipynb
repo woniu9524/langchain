{
  "cells": [
    {
      "cell_type": "markdown",
      "id": "9597802c",
      "metadata": {},
      "source": [
        "# NLP Cloud\n\n[NLP Cloud](https://nlpcloud.io) 提供高性能的预训练模型或自定义模型，支持命名实体识别 (NER)、情感分析、分类、摘要、释义、语法和拼写校正、关键词和关键短语提取、聊天机器人、产品描述和广告生成、意图分类、文本生成、图像生成、博客文章生成、代码生成、问答、自动语音识别、机器翻译、语言检测、语义搜索、语义相似度、分词、词性标注 (POS tagging)、词嵌入 (embeddings) 和依存句法分析 (dependency parsing)。它已准备好投入生产，并通过 REST API 提供服务。\n\n\n本示例将介绍如何使用 LangChain 与 `NLP Cloud` 的[模型](https://docs.nlpcloud.com/#models)进行交互。"
      ]
    },
    {
      "cell_type": "code",
      "execution_count": null,
      "id": "8e94b1ca-6e84-44c4-91ca-df7364c007f0",
      "metadata": {
        "tags": []
      },
      "outputs": [],
      "source": [
        "%pip install --upgrade --quiet  nlpcloud"
      ]
    },
    {
      "cell_type": "code",
      "execution_count": 3,
      "id": "ea7adb58-cabe-4a2c-b0a2-988fc3aac012",
      "metadata": {
        "tags": []
      },
      "outputs": [
        {
          "name": "stdin",
          "output_type": "stream",
          "text": [
            " ········\n"
          ]
        }
      ],
      "source": [
        "# get a token: https://docs.nlpcloud.com/#authentication\n",
        "\n",
        "from getpass import getpass\n",
        "\n",
        "NLPCLOUD_API_KEY = getpass()"
      ]
    },
    {
      "cell_type": "code",
      "execution_count": 5,
      "id": "9cc2d68f-52a8-4a11-ba34-bb6c068e0b6a",
      "metadata": {
        "tags": []
      },
      "outputs": [],
      "source": [
        "import os\n",
        "\n",
        "os.environ[\"NLPCLOUD_API_KEY\"] = NLPCLOUD_API_KEY"
      ]
    },
    {
      "cell_type": "code",
      "execution_count": 6,
      "id": "6fb585dd",
      "metadata": {
        "tags": []
      },
      "outputs": [],
      "source": [
        "from langchain.chains import LLMChain\n",
        "from langchain_community.llms import NLPCloud\n",
        "from langchain_core.prompts import PromptTemplate"
      ]
    },
    {
      "cell_type": "code",
      "execution_count": 7,
      "id": "035dea0f",
      "metadata": {
        "tags": []
      },
      "outputs": [],
      "source": [
        "template = \"\"\"Question: {question}\n",
        "\n",
        "Answer: Let's think step by step.\"\"\"\n",
        "\n",
        "prompt = PromptTemplate.from_template(template)"
      ]
    },
    {
      "cell_type": "code",
      "execution_count": 8,
      "id": "3f3458d9",
      "metadata": {
        "tags": []
      },
      "outputs": [],
      "source": [
        "llm = NLPCloud()"
      ]
    },
    {
      "cell_type": "code",
      "execution_count": 9,
      "id": "a641dbd9",
      "metadata": {
        "tags": []
      },
      "outputs": [],
      "source": [
        "llm_chain = LLMChain(prompt=prompt, llm=llm)"
      ]
    },
    {
      "cell_type": "code",
      "execution_count": 10,
      "id": "9f844993",
      "metadata": {
        "tags": []
      },
      "outputs": [
        {
          "data": {
            "text/plain": [
              "' Justin Bieber was born in 1994, so the team that won the Super Bowl that year was the San Francisco 49ers.'"
            ]
          },
          "execution_count": 10,
          "metadata": {},
          "output_type": "execute_result"
        }
      ],
      "source": [
        "question = \"What NFL team won the Super Bowl in the year Justin Beiber was born?\"\n",
        "\n",
        "llm_chain.run(question)"
      ]
    }
  ],
  "metadata": {
    "kernelspec": {
      "display_name": "Python 3 (ipykernel)",
      "language": "python",
      "name": "python3"
    },
    "language_info": {
      "codemirror_mode": {
        "name": "ipython",
        "version": 3
      },
      "file_extension": ".py",
      "mimetype": "text/x-python",
      "name": "python",
      "nbconvert_exporter": "python",
      "pygments_lexer": "ipython3",
      "version": "3.10.6"
    },
    "vscode": {
      "interpreter": {
        "hash": "a0a0263b650d907a3bfe41c0f8d6a63a071b884df3cfdc1579f00cdc1aed6b03"
      }
    }
  },
  "nbformat": 4,
  "nbformat_minor": 5
}