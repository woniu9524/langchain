{
  "cells": [
    {
      "attachments": {},
      "cell_type": "markdown",
      "metadata": {},
      "source": [
        "# GPT4All\n\n[GitHub:nomic-ai/gpt4all](https://github.com/nomic-ai/gpt4all) 是一个开源聊天机器人生态系统，它在一个包含代码、故事和对话的海量干净的助手数据集上进行了训练。\n\n本示例将介绍如何使用 LangChain 与 `GPT4All` 模型进行交互。"
      ]
    },
    {
      "cell_type": "code",
      "execution_count": null,
      "metadata": {
        "tags": []
      },
      "outputs": [],
      "source": [
        "%pip install --upgrade --quiet langchain-community gpt4all"
      ]
    },
    {
      "attachments": {},
      "cell_type": "markdown",
      "metadata": {},
      "source": [
        "### 导入 GPT4All"
      ]
    },
    {
      "cell_type": "code",
      "execution_count": 2,
      "metadata": {
        "tags": []
      },
      "outputs": [],
      "source": [
        "from langchain_community.llms import GPT4All\n",
        "from langchain_core.prompts import PromptTemplate"
      ]
    },
    {
      "attachments": {},
      "cell_type": "markdown",
      "metadata": {},
      "source": [
        "### 设置要传递给 LLM 的问题"
      ]
    },
    {
      "cell_type": "code",
      "execution_count": 3,
      "metadata": {
        "tags": []
      },
      "outputs": [],
      "source": [
        "template = \"\"\"Question: {question}\n",
        "\n",
        "Answer: Let's think step by step.\"\"\"\n",
        "\n",
        "prompt = PromptTemplate.from_template(template)"
      ]
    },
    {
      "attachments": {},
      "cell_type": "markdown",
      "metadata": {},
      "source": [
        "### 指定模型\n\n要在本地运行，请下载兼容的 ggml 格式模型。\n\n[gpt4all 页面](https://gpt4all.io/index.html)有一个有用的 `模型浏览器` 部分：\n\n* 选择感兴趣的模型\n* 使用 UI 下载并将 `.bin` 文件移动到 `local_path`（如下文所述）\n\n有关更多信息，请访问 https://github.com/nomic-ai/gpt4all。\n\n---\n\n此集成尚不支持通过 `.stream()` 方法以块的形式进行流式传输。下面的示例使用带有 `streaming=True` 的回调处理程序："
      ]
    },
    {
      "cell_type": "code",
      "execution_count": 4,
      "metadata": {},
      "outputs": [],
      "source": [
        "local_path = (\n",
        "    \"./models/Meta-Llama-3-8B-Instruct.Q4_0.gguf\"  # replace with your local file path\n",
        ")"
      ]
    },
    {
      "cell_type": "code",
      "execution_count": 10,
      "metadata": {},
      "outputs": [
        {
          "name": "stdout",
          "output_type": "stream",
          "text": [
            "Token:  Justin\n",
            "Token:  Bieber\n",
            "Token:  was\n",
            "Token:  born\n",
            "Token:  on\n",
            "Token:  March\n",
            "Token:  \n",
            "Token: 1\n",
            "Token: ,\n",
            "Token:  \n"
          ]
        }
      ],
      "source": [
        "from langchain_core.callbacks import BaseCallbackHandler\n",
        "\n",
        "count = 0\n",
        "\n",
        "\n",
        "class MyCustomHandler(BaseCallbackHandler):\n",
        "    def on_llm_new_token(self, token: str, **kwargs) -> None:\n",
        "        global count\n",
        "        if count < 10:\n",
        "            print(f\"Token: {token}\")\n",
        "            count += 1\n",
        "\n",
        "\n",
        "# Verbose is required to pass to the callback manager\n",
        "llm = GPT4All(model=local_path, callbacks=[MyCustomHandler()], streaming=True)\n",
        "\n",
        "# If you want to use a custom model add the backend parameter\n",
        "# Check https://docs.gpt4all.io/gpt4all_python.html for supported backends\n",
        "# llm = GPT4All(model=local_path, backend=\"gptj\", callbacks=callbacks, streaming=True)\n",
        "\n",
        "chain = prompt | llm\n",
        "\n",
        "question = \"What NFL team won the Super Bowl in the year Justin Bieber was born?\"\n",
        "\n",
        "# Streamed tokens will be logged/aggregated via the passed callback\n",
        "res = chain.invoke({\"question\": question})"
      ]
    },
    {
      "cell_type": "code",
      "execution_count": null,
      "metadata": {},
      "outputs": [],
      "source": []
    }
  ],
  "metadata": {
    "kernelspec": {
      "display_name": "Python 3 (ipykernel)",
      "language": "python",
      "name": "python3"
    },
    "language_info": {
      "codemirror_mode": {
        "name": "ipython",
        "version": 3
      },
      "file_extension": ".py",
      "mimetype": "text/x-python",
      "name": "python",
      "nbconvert_exporter": "python",
      "pygments_lexer": "ipython3",
      "version": "3.9.16"
    }
  },
  "nbformat": 4,
  "nbformat_minor": 4
}