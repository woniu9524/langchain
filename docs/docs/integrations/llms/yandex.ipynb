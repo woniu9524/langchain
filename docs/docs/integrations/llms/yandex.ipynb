{
  "cells": [
    {
      "cell_type": "markdown",
      "metadata": {},
      "source": [
        "# YandexGPT\n\n本 Notebook 将介绍如何将 Langchain 与 [YandexGPT](https://cloud.yandex.com/en/services/yandexgpt) 结合使用。\n\n要使用，您应该已安装 `yandexcloud` python 包。"
      ]
    },
    {
      "cell_type": "code",
      "execution_count": null,
      "metadata": {},
      "outputs": [],
      "source": [
        "%pip install --upgrade --quiet  yandexcloud"
      ]
    },
    {
      "cell_type": "markdown",
      "metadata": {},
      "source": [
        "首先，您需要创建一个具有 `ai.languageModels.user` 角色的[服务账号](https://cloud.yandex.com/en/docs/iam/operations/sa/create)。\n\n接下来，您有两种身份验证选项：\n- [IAM token](https://cloud.yandex.com/en/docs/iam/operations/iam-token/create-for-sa)。\n    您可以在构造函数参数 `iam_token` 或环境变量 `YC_IAM_TOKEN` 中指定令牌。\n\n- [API key](https://cloud.yandex.com/en/docs/iam/operations/api-key/create)\n    您可以在构造函数参数 `api_key` 或环境变量 `YC_API_KEY` 中指定密钥。\n\n要指定模型，您可以使用 `model_uri` 参数，有关更多详细信息，请参阅[文档](https://cloud.yandex.com/en/docs/yandexgpt/concepts/models#yandexgpt-generation)。\n\n默认情况下，将使用 `folder_id` 参数或 `YC_FOLDER_ID` 环境变量中指定的文件夹内的最新版本的 `yandexgpt-lite`。"
      ]
    },
    {
      "cell_type": "code",
      "execution_count": 1,
      "metadata": {},
      "outputs": [],
      "source": [
        "from langchain.chains import LLMChain\n",
        "from langchain_community.llms import YandexGPT\n",
        "from langchain_core.prompts import PromptTemplate"
      ]
    },
    {
      "cell_type": "code",
      "execution_count": 2,
      "metadata": {},
      "outputs": [],
      "source": [
        "template = \"What is the capital of {country}?\"\n",
        "prompt = PromptTemplate.from_template(template)"
      ]
    },
    {
      "cell_type": "code",
      "execution_count": 3,
      "metadata": {},
      "outputs": [],
      "source": [
        "llm = YandexGPT()"
      ]
    },
    {
      "cell_type": "code",
      "execution_count": 4,
      "metadata": {},
      "outputs": [],
      "source": [
        "llm_chain = LLMChain(prompt=prompt, llm=llm)"
      ]
    },
    {
      "cell_type": "code",
      "execution_count": 5,
      "metadata": {},
      "outputs": [
        {
          "data": {
            "text/plain": [
              "'The capital of Russia is Moscow.'"
            ]
          },
          "execution_count": 5,
          "metadata": {},
          "output_type": "execute_result"
        }
      ],
      "source": [
        "country = \"Russia\"\n",
        "\n",
        "llm_chain.invoke(country)"
      ]
    }
  ],
  "metadata": {
    "kernelspec": {
      "display_name": "Python 3 (ipykernel)",
      "language": "python",
      "name": "python3"
    },
    "language_info": {
      "codemirror_mode": {
        "name": "ipython",
        "version": 3
      },
      "file_extension": ".py",
      "mimetype": "text/x-python",
      "name": "python",
      "nbconvert_exporter": "python",
      "pygments_lexer": "ipython3",
      "version": "3.10.13"
    }
  },
  "nbformat": 4,
  "nbformat_minor": 4
}