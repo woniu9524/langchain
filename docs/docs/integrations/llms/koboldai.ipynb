{
  "cells": [
    {
      "cell_type": "markdown",
      "metadata": {
        "id": "FPF4vhdZyJ7S"
      },
      "source": [
        "# KoboldAI API\n\n[KoboldAI](https://github.com/KoboldAI/KoboldAI-Client) 是一个“基于浏览器的 AI 辅助写作前端，支持多种本地和远程 AI 模型……”。它有一个公共和本地 API 可以与 langchain 一起使用。\n\n本示例将介绍如何将 LangChain 与该 API 配合使用。\n\n您可以在浏览器中通过在端点后添加 /api 来找到文档（即 http://127.0.0.1/:5000/api）。"
      ]
    },
    {
      "cell_type": "code",
      "execution_count": 1,
      "metadata": {
        "id": "lyzOsRRTf_Vr"
      },
      "outputs": [],
      "source": [
        "from langchain_community.llms import KoboldApiLLM"
      ]
    },
    {
      "cell_type": "markdown",
      "metadata": {
        "id": "1a_H7mvfy51O"
      },
      "source": [
        "将下面显示的端点替换为使用 `--api` 或 `--public-api` 启动 webui 后输出的端点。\n\n您也可以选择性地传入 `temperature` 或 `max_length` 等参数"
      ]
    },
    {
      "cell_type": "code",
      "execution_count": 2,
      "metadata": {
        "id": "g3vGebq8f_Vr"
      },
      "outputs": [],
      "source": [
        "llm = KoboldApiLLM(endpoint=\"http://192.168.1.144:5000\", max_length=80)"
      ]
    },
    {
      "cell_type": "code",
      "execution_count": null,
      "metadata": {
        "id": "sPxNGGiDf_Vr",
        "outputId": "024a1d62-3cd7-49a8-c6a8-5278224d02ef"
      },
      "outputs": [],
      "source": [
        "response = llm.invoke(\n",
        "    \"### Instruction:\\nWhat is the first book of the bible?\\n### Response:\"\n",
        ")"
      ]
    }
  ],
  "metadata": {
    "colab": {
      "provenance": []
    },
    "kernelspec": {
      "display_name": "venv",
      "language": "python",
      "name": "venv"
    },
    "language_info": {
      "codemirror_mode": {
        "name": "ipython",
        "version": 3
      },
      "file_extension": ".py",
      "mimetype": "text/x-python",
      "name": "python",
      "nbconvert_exporter": "python",
      "pygments_lexer": "ipython3",
      "version": "3.11.3"
    }
  },
  "nbformat": 4,
  "nbformat_minor": 1
}