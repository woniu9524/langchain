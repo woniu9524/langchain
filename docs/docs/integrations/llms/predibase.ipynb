{
  "cells": [
    {
      "cell_type": "markdown",
      "metadata": {},
      "source": [
        "# Predibase\n\n[Predibase](https://predibase.com/) 允许您训练、微调和部署任何 ML 模型——从线性回归到大型语言模型。\n\n本示例演示了如何使用 Langchain 和部署在 Predibase 上的模型"
      ]
    },
    {
      "cell_type": "markdown",
      "metadata": {},
      "source": [
        "# 设置\n\n要运行此笔记本，您需要一个 [Predibase 帐户](https://predibase.com/free-trial/?utm_source=langchain) 和一个 [API 密钥](https://docs.predibase.com/sdk-guide/intro)。\n\n您还需要安装 Predibase Python 包："
      ]
    },
    {
      "cell_type": "code",
      "execution_count": null,
      "metadata": {},
      "outputs": [],
      "source": [
        "%pip install --upgrade --quiet  predibase\n",
        "import os\n",
        "\n",
        "os.environ[\"PREDIBASE_API_TOKEN\"] = \"{PREDIBASE_API_TOKEN}\""
      ]
    },
    {
      "cell_type": "markdown",
      "metadata": {},
      "source": [
        "## 首次调用"
      ]
    },
    {
      "cell_type": "code",
      "execution_count": null,
      "metadata": {},
      "outputs": [],
      "source": [
        "from langchain_community.llms import Predibase\n",
        "\n",
        "model = Predibase(\n",
        "    model=\"mistral-7b\",\n",
        "    predibase_api_key=os.environ.get(\"PREDIBASE_API_TOKEN\"),\n",
        ")"
      ]
    },
    {
      "cell_type": "code",
      "execution_count": null,
      "metadata": {},
      "outputs": [],
      "source": [
        "from langchain_community.llms import Predibase\n",
        "\n",
        "# With a fine-tuned adapter hosted at Predibase (adapter_version must be specified).\n",
        "model = Predibase(\n",
        "    model=\"mistral-7b\",\n",
        "    predibase_api_key=os.environ.get(\"PREDIBASE_API_TOKEN\"),\n",
        "    predibase_sdk_version=None,  # optional parameter (defaults to the latest Predibase SDK version if omitted)\n",
        "    adapter_id=\"e2e_nlg\",\n",
        "    adapter_version=1,\n",
        "    **{\n",
        "        \"api_token\": os.environ.get(\"HUGGING_FACE_HUB_TOKEN\"),\n",
        "        \"max_new_tokens\": 5,  # default is 256\n",
        "    },\n",
        ")"
      ]
    },
    {
      "cell_type": "code",
      "execution_count": null,
      "metadata": {},
      "outputs": [],
      "source": [
        "from langchain_community.llms import Predibase\n",
        "\n",
        "# With a fine-tuned adapter hosted at HuggingFace (adapter_version does not apply and will be ignored).\n",
        "model = Predibase(\n",
        "    model=\"mistral-7b\",\n",
        "    predibase_api_key=os.environ.get(\"PREDIBASE_API_TOKEN\"),\n",
        "    predibase_sdk_version=None,  # optional parameter (defaults to the latest Predibase SDK version if omitted)\n",
        "    adapter_id=\"predibase/e2e_nlg\",\n",
        "    **{\n",
        "        \"api_token\": os.environ.get(\"HUGGING_FACE_HUB_TOKEN\"),\n",
        "        \"max_new_tokens\": 5,  # default is 256\n",
        "    },\n",
        ")"
      ]
    },
    {
      "cell_type": "code",
      "execution_count": null,
      "metadata": {},
      "outputs": [],
      "source": [
        "# Optionally use `kwargs` to dynamically overwrite \"generate()\" settings.\n",
        "response = model.invoke(\n",
        "    \"Can you recommend me a nice dry wine?\",\n",
        "    **{\"temperature\": 0.5, \"max_new_tokens\": 1024},\n",
        ")\n",
        "print(response)"
      ]
    },
    {
      "cell_type": "markdown",
      "metadata": {
        "vscode": {
          "languageId": "plaintext"
        }
      },
      "source": [
        "## 链式调用设置"
      ]
    },
    {
      "cell_type": "code",
      "execution_count": null,
      "metadata": {
        "vscode": {
          "languageId": "plaintext"
        }
      },
      "outputs": [],
      "source": [
        "from langchain_community.llms import Predibase\n",
        "\n",
        "model = Predibase(\n",
        "    model=\"mistral-7b\",\n",
        "    predibase_api_key=os.environ.get(\"PREDIBASE_API_TOKEN\"),\n",
        "    predibase_sdk_version=None,  # optional parameter (defaults to the latest Predibase SDK version if omitted)\n",
        "    **{\n",
        "        \"api_token\": os.environ.get(\"HUGGING_FACE_HUB_TOKEN\"),\n",
        "        \"max_new_tokens\": 5,  # default is 256\n",
        "    },\n",
        ")"
      ]
    },
    {
      "cell_type": "code",
      "execution_count": null,
      "metadata": {
        "vscode": {
          "languageId": "plaintext"
        }
      },
      "outputs": [],
      "source": [
        "# With a fine-tuned adapter hosted at Predibase (adapter_version must be specified).\n",
        "model = Predibase(\n",
        "    model=\"mistral-7b\",\n",
        "    predibase_api_key=os.environ.get(\"PREDIBASE_API_TOKEN\"),\n",
        "    predibase_sdk_version=None,  # optional parameter (defaults to the latest Predibase SDK version if omitted)\n",
        "    adapter_id=\"e2e_nlg\",\n",
        "    adapter_version=1,\n",
        "    **{\n",
        "        \"api_token\": os.environ.get(\"HUGGING_FACE_HUB_TOKEN\"),\n",
        "        \"max_new_tokens\": 5,  # default is 256\n",
        "    },\n",
        ")"
      ]
    },
    {
      "cell_type": "code",
      "execution_count": null,
      "metadata": {},
      "outputs": [],
      "source": [
        "# With a fine-tuned adapter hosted at HuggingFace (adapter_version does not apply and will be ignored).\n",
        "llm = Predibase(\n",
        "    model=\"mistral-7b\",\n",
        "    predibase_api_key=os.environ.get(\"PREDIBASE_API_TOKEN\"),\n",
        "    predibase_sdk_version=None,  # optional parameter (defaults to the latest Predibase SDK version if omitted)\n",
        "    adapter_id=\"predibase/e2e_nlg\",\n",
        "    **{\n",
        "        \"api_token\": os.environ.get(\"HUGGING_FACE_HUB_TOKEN\"),\n",
        "        \"max_new_tokens\": 5,  # default is 256\n",
        "    },\n",
        ")"
      ]
    },
    {
      "cell_type": "markdown",
      "metadata": {},
      "source": [
        "##  SequentialChain"
      ]
    },
    {
      "cell_type": "code",
      "execution_count": null,
      "metadata": {},
      "outputs": [],
      "source": [
        "from langchain.chains import LLMChain\n",
        "from langchain_core.prompts import PromptTemplate"
      ]
    },
    {
      "cell_type": "code",
      "execution_count": null,
      "metadata": {},
      "outputs": [],
      "source": [
        "# This is an LLMChain to write a synopsis given a title of a play.\n",
        "template = \"\"\"You are a playwright. Given the title of play, it is your job to write a synopsis for that title.\n",
        "\n",
        "Title: {title}\n",
        "Playwright: This is a synopsis for the above play:\"\"\"\n",
        "prompt_template = PromptTemplate(input_variables=[\"title\"], template=template)\n",
        "synopsis_chain = LLMChain(llm=llm, prompt=prompt_template)"
      ]
    },
    {
      "cell_type": "code",
      "execution_count": null,
      "metadata": {},
      "outputs": [],
      "source": [
        "# This is an LLMChain to write a review of a play given a synopsis.\n",
        "template = \"\"\"You are a play critic from the New York Times. Given the synopsis of play, it is your job to write a review for that play.\n",
        "\n",
        "Play Synopsis:\n",
        "{synopsis}\n",
        "Review from a New York Times play critic of the above play:\"\"\"\n",
        "prompt_template = PromptTemplate(input_variables=[\"synopsis\"], template=template)\n",
        "review_chain = LLMChain(llm=llm, prompt=prompt_template)"
      ]
    },
    {
      "cell_type": "code",
      "execution_count": null,
      "metadata": {},
      "outputs": [],
      "source": [
        "# This is the overall chain where we run these two chains in sequence.\n",
        "from langchain.chains import SimpleSequentialChain\n",
        "\n",
        "overall_chain = SimpleSequentialChain(\n",
        "    chains=[synopsis_chain, review_chain], verbose=True\n",
        ")"
      ]
    },
    {
      "cell_type": "code",
      "execution_count": null,
      "metadata": {},
      "outputs": [],
      "source": [
        "review = overall_chain.run(\"Tragedy at sunset on the beach\")"
      ]
    },
    {
      "cell_type": "markdown",
      "metadata": {},
      "source": [
        "## 微调 LLM（使用你自己的 Predibase 微调 LLM）"
      ]
    },
    {
      "cell_type": "code",
      "execution_count": null,
      "metadata": {},
      "outputs": [],
      "source": [
        "from langchain_community.llms import Predibase\n",
        "\n",
        "model = Predibase(\n",
        "    model=\"my-base-LLM\",\n",
        "    predibase_api_key=os.environ.get(\n",
        "        \"PREDIBASE_API_TOKEN\"\n",
        "    ),  # Adapter argument is optional.\n",
        "    predibase_sdk_version=None,  # optional parameter (defaults to the latest Predibase SDK version if omitted)\n",
        "    adapter_id=\"my-finetuned-adapter-id\",  # Supports both, Predibase-hosted and HuggingFace-hosted adapter repositories.\n",
        "    adapter_version=1,  # required for Predibase-hosted adapters (ignored for HuggingFace-hosted adapters)\n",
        "    **{\n",
        "        \"api_token\": os.environ.get(\"HUGGING_FACE_HUB_TOKEN\"),\n",
        "        \"max_new_tokens\": 5,  # default is 256\n",
        "    },\n",
        ")\n",
        "# replace my-base-LLM with the name of your choice of a serverless base model in Predibase"
      ]
    },
    {
      "cell_type": "code",
      "execution_count": null,
      "metadata": {},
      "outputs": [],
      "source": [
        "# Optionally use `kwargs` to dynamically overwrite \"generate()\" settings.\n",
        "# response = model.invoke(\"Can you help categorize the following emails into positive, negative, and neutral?\", **{\"temperature\": 0.5, \"max_new_tokens\": 1024})"
      ]
    }
  ],
  "metadata": {
    "kernelspec": {
      "display_name": "Python 3.8.9 64-bit",
      "language": "python",
      "name": "python3"
    },
    "language_info": {
      "codemirror_mode": {
        "name": "ipython",
        "version": 3
      },
      "file_extension": ".py",
      "mimetype": "text/x-python",
      "name": "python",
      "nbconvert_exporter": "python",
      "pygments_lexer": "ipython3",
      "version": "3.8.9"
    },
    "vscode": {
      "interpreter": {
        "hash": "31f2aee4e71d21fbe5cf8b01ff0e069b9275f58929596ceb00d14d90e3e16cd6"
      }
    }
  },
  "nbformat": 4,
  "nbformat_minor": 2
}