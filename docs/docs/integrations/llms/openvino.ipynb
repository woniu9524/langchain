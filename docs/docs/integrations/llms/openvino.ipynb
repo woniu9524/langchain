{
  "cells": [
    {
      "cell_type": "markdown",
      "id": "959300d4",
      "metadata": {},
      "source": [
        "# OpenVINO\n\n[OpenVINO™](https://github.com/openvinotoolkit/openvino) 是一个用于优化和部署 AI 推理的开源工具包。OpenVINO™ Runtime 能够支持在各种硬件 [设备](https://github.com/openvinotoolkit/openvino?tab=readme-ov-file#supported-hardware-matrix) 上运行经过优化的相同模型。在语言 + LLM、计算机视觉、自动语音识别等用例中加速您的深度学习性能。\n\n可以通过 `HuggingFacePipeline` [类](https://python.langchain.com/docs/integrations/llms/huggingface_pipeline) 在本地运行 OpenVINO 模型。要使用 OpenVINO 部署模型，您可以指定 `backend=\"openvino\"` 参数来将 OpenVINO 触发为后端推理框架。"
      ]
    },
    {
      "cell_type": "markdown",
      "id": "4c1b8450-5eaf-4d34-8341-2d785448a1ff",
      "metadata": {
        "tags": []
      },
      "source": [
        "要使用，您应该安装 ``optimum-intel`` 的 OpenVINO 加速器 Python [程序包](https://github.com/huggingface/optimum-intel?tab=readme-ov-file#installation)。"
      ]
    },
    {
      "cell_type": "code",
      "execution_count": null,
      "id": "d772b637-de00-4663-bd77-9bc96d798db2",
      "metadata": {
        "tags": []
      },
      "outputs": [],
      "source": [
        "%pip install --upgrade-strategy eager \"optimum[openvino,nncf]\" langchain-huggingface --quiet"
      ]
    },
    {
      "cell_type": "markdown",
      "id": "91ad075f-71d5-4bc8-ab91-cc0ad5ef16bb",
      "metadata": {},
      "source": [
        "### 模型加载\n\n模型可以通过指定 `from_model_id` 方法的模型参数来加载。\n\n如果您的设备是 Intel GPU，您可以指定 `model_kwargs={\"device\": \"GPU\"}` 以在 GPU 上运行推理。"
      ]
    },
    {
      "cell_type": "code",
      "execution_count": null,
      "id": "165ae236-962a-4763-8052-c4836d78a5d2",
      "metadata": {
        "tags": []
      },
      "outputs": [],
      "source": [
        "from langchain_huggingface import HuggingFacePipeline\n",
        "\n",
        "ov_config = {\"PERFORMANCE_HINT\": \"LATENCY\", \"NUM_STREAMS\": \"1\", \"CACHE_DIR\": \"\"}\n",
        "\n",
        "ov_llm = HuggingFacePipeline.from_model_id(\n",
        "    model_id=\"gpt2\",\n",
        "    task=\"text-generation\",\n",
        "    backend=\"openvino\",\n",
        "    model_kwargs={\"device\": \"CPU\", \"ov_config\": ov_config},\n",
        "    pipeline_kwargs={\"max_new_tokens\": 10},\n",
        ")"
      ]
    },
    {
      "cell_type": "markdown",
      "id": "00104b27-0c15-4a97-b198-4512337ee211",
      "metadata": {},
      "source": [
        "它们也可以通过传入现有的 [`optimum-intel`](https://huggingface.co/docs/optimum/main/en/intel/inference) pipeline 来加载"
      ]
    },
    {
      "cell_type": "code",
      "execution_count": null,
      "id": "7f426a4f",
      "metadata": {},
      "outputs": [],
      "source": [
        "from optimum.intel.openvino import OVModelForCausalLM\n",
        "from transformers import AutoTokenizer, pipeline\n",
        "\n",
        "model_id = \"gpt2\"\n",
        "device = \"CPU\"\n",
        "tokenizer = AutoTokenizer.from_pretrained(model_id)\n",
        "ov_model = OVModelForCausalLM.from_pretrained(\n",
        "    model_id, export=True, device=device, ov_config=ov_config\n",
        ")\n",
        "ov_pipe = pipeline(\n",
        "    \"text-generation\", model=ov_model, tokenizer=tokenizer, max_new_tokens=10\n",
        ")\n",
        "ov_llm = HuggingFacePipeline(pipeline=ov_pipe)"
      ]
    },
    {
      "cell_type": "markdown",
      "id": "60e7ba8d",
      "metadata": {},
      "source": [
        "### 创建链\n\n将模型加载到内存后，您可以将其与提示组合以形成链。"
      ]
    },
    {
      "cell_type": "code",
      "execution_count": null,
      "id": "3acf0069",
      "metadata": {},
      "outputs": [],
      "source": [
        "from langchain_core.prompts import PromptTemplate\n",
        "\n",
        "template = \"\"\"Question: {question}\n",
        "\n",
        "Answer: Let's think step by step.\"\"\"\n",
        "prompt = PromptTemplate.from_template(template)\n",
        "\n",
        "chain = prompt | ov_llm\n",
        "\n",
        "question = \"What is electroencephalography?\"\n",
        "\n",
        "print(chain.invoke({\"question\": question}))"
      ]
    },
    {
      "cell_type": "markdown",
      "id": "446a01e0",
      "metadata": {},
      "source": [
        "要获取无提示的响应，您可以将 `skip_prompt=True` 绑定到 LLM。"
      ]
    },
    {
      "cell_type": "code",
      "execution_count": null,
      "id": "e3baeab2",
      "metadata": {},
      "outputs": [],
      "source": [
        "chain = prompt | ov_llm.bind(skip_prompt=True)\n",
        "\n",
        "question = \"What is electroencephalography?\"\n",
        "\n",
        "print(chain.invoke({\"question\": question}))"
      ]
    },
    {
      "cell_type": "markdown",
      "id": "12524837-e9ab-455a-86be-66b95f4f893a",
      "metadata": {},
      "source": [
        "### 使用本地 OpenVINO 模型进行推理\n\n您可以使用 CLI 将模型[导出为 OpenVINO IR 格式](https://github.com/huggingface/optimum-intel?tab=readme-ov-file#export)，并从本地文件夹加载模型。"
      ]
    },
    {
      "cell_type": "code",
      "execution_count": null,
      "id": "3d1104a2-79c7-43a6-aa1c-8076a5ad7747",
      "metadata": {},
      "outputs": [],
      "source": [
        "!optimum-cli export openvino --model gpt2 ov_model_dir"
      ]
    },
    {
      "cell_type": "markdown",
      "id": "0f7a6d21",
      "metadata": {},
      "source": [
        "建议应用 8 位或 4 位权重量化，使用 `--weight-format` 来降低推理延迟和模型占用空间："
      ]
    },
    {
      "cell_type": "code",
      "execution_count": null,
      "id": "97088ea0",
      "metadata": {},
      "outputs": [],
      "source": [
        "!optimum-cli export openvino --model gpt2  --weight-format int8 ov_model_dir # for 8-bit quantization\n",
        "\n",
        "!optimum-cli export openvino --model gpt2  --weight-format int4 ov_model_dir # for 4-bit quantization"
      ]
    },
    {
      "cell_type": "code",
      "execution_count": null,
      "id": "ac71e60d-5595-454e-8602-03ebb0248205",
      "metadata": {},
      "outputs": [],
      "source": [
        "ov_llm = HuggingFacePipeline.from_model_id(\n",
        "    model_id=\"ov_model_dir\",\n",
        "    task=\"text-generation\",\n",
        "    backend=\"openvino\",\n",
        "    model_kwargs={\"device\": \"CPU\", \"ov_config\": ov_config},\n",
        "    pipeline_kwargs={\"max_new_tokens\": 10},\n",
        ")\n",
        "\n",
        "chain = prompt | ov_llm\n",
        "\n",
        "question = \"What is electroencephalography?\"\n",
        "\n",
        "print(chain.invoke({\"question\": question}))"
      ]
    },
    {
      "cell_type": "markdown",
      "id": "a2c5726c",
      "metadata": {},
      "source": [
        "您可以通过激活和 KV 缓存量化实现额外的推理速度提升。这些选项可以通过 `ov_config` 启用，如下所示："
      ]
    },
    {
      "cell_type": "code",
      "execution_count": null,
      "id": "a1f9c2c5",
      "metadata": {},
      "outputs": [],
      "source": [
        "ov_config = {\n",
        "    \"KV_CACHE_PRECISION\": \"u8\",\n",
        "    \"DYNAMIC_QUANTIZATION_GROUP_SIZE\": \"32\",\n",
        "    \"PERFORMANCE_HINT\": \"LATENCY\",\n",
        "    \"NUM_STREAMS\": \"1\",\n",
        "    \"CACHE_DIR\": \"\",\n",
        "}"
      ]
    },
    {
      "cell_type": "markdown",
      "id": "7574c6f0",
      "metadata": {},
      "source": [
        "### 流式输出\n\n你可以使用 `stream` 方法来获得 LLM 输出的流式传输。"
      ]
    },
    {
      "cell_type": "code",
      "execution_count": null,
      "id": "548c9489",
      "metadata": {},
      "outputs": [],
      "source": [
        "generation_config = {\"skip_prompt\": True, \"pipeline_kwargs\": {\"max_new_tokens\": 100}}\n",
        "chain = prompt | ov_llm.bind(**generation_config)\n",
        "\n",
        "for chunk in chain.stream(question):\n",
        "    print(chunk, end=\"\", flush=True)"
      ]
    },
    {
      "cell_type": "markdown",
      "id": "da9a9239",
      "metadata": {},
      "source": [
        "更多信息请参阅：\n\n* [OpenVINO LLM 指南](https://docs.openvino.ai/2024/learn-openvino/llm_inference_guide.html)。\n\n* [OpenVINO 文档](https://docs.openvino.ai/2024/home.html)。\n\n* [OpenVINO 入门指南](https://www.intel.com/content/www/us/en/content-details/819067/openvino-get-started-guide.html)。\n  \n* [使用 LangChain 的 RAG Notebook](https://github.com/openvinotoolkit/openvino_notebooks/tree/latest/notebooks/llm-rag-langchain)。"
      ]
    }
  ],
  "metadata": {
    "kernelspec": {
      "display_name": "Python 3 (ipykernel)",
      "language": "python",
      "name": "python3"
    },
    "language_info": {
      "codemirror_mode": {
        "name": "ipython",
        "version": 3
      },
      "file_extension": ".py",
      "mimetype": "text/x-python",
      "name": "python",
      "nbconvert_exporter": "python",
      "pygments_lexer": "ipython3",
      "version": "3.10.12"
    }
  },
  "nbformat": 4,
  "nbformat_minor": 5
}