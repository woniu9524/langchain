{
  "cells": [
    {
      "cell_type": "markdown",
      "metadata": {},
      "source": [
        "# Outlines\n\n这将帮助您开始使用 Outlines LLM。有关所有 Outlines 功能和配置的详细文档，请前往 [API 参考](https://python.langchain.com/api_reference/community/llms/langchain_community.llms.outlines.Outlines.html)。\n\n[Outlines](https://github.com/outlines-dev/outlines) 是一个用于受限语言生成的库。它允许您使用各种后端的语言模型 (LLMs)，同时对生成的输出应用约束。\n\n## 概述\n\n### 集成详情\n| Class | Package | Local | Serializable | JS support | Package downloads | Package latest |\n| :--- | :--- | :---: | :---: |  :---: | :---: | :---: |\n| [Outlines](https://python.langchain.com/api_reference/community/llms/langchain_community.llms.outlines.Outlines.html) | [langchain-community](https://python.langchain.com/api_reference/community/index.html) | ✅ | beta | ❌ | ![PyPI - Downloads](https://img.shields.io/pypi/dm/langchain-community?style=flat-square&label=%20) | ![PyPI - Version](https://img.shields.io/pypi/v/langchain-community?style=flat-square&label=%20) |\n\n## 设置\n\n要访问 Outlines 模型，您需要有互联网连接以下载模型权重（从 huggingface 下载）。根据您需要的后端安装相应的依赖项（请参阅 [Outlines 文档](https://dottxt-ai.github.io/outlines/latest/installation/)）\n\n### 凭据\n\nOutlines 没有内置的认证机制。\n\n## 安装\n\nLangChain 的 Outlines 集成位于 `langchain-community` 包中，需要 `outlines` 库："
      ]
    },
    {
      "cell_type": "code",
      "execution_count": null,
      "metadata": {
        "vscode": {
          "languageId": "shellscript"
        }
      },
      "outputs": [],
      "source": [
        "%pip install -qU langchain-community outlines"
      ]
    },
    {
      "cell_type": "markdown",
      "metadata": {},
      "source": [
        "## 实例化\n\n现在我们可以实例化我们的模型对象并生成聊天补全："
      ]
    },
    {
      "cell_type": "code",
      "execution_count": null,
      "metadata": {},
      "outputs": [],
      "source": [
        "from langchain_community.llms import Outlines\n",
        "\n",
        "# For use with llamacpp backend\n",
        "model = Outlines(model=\"microsoft/Phi-3-mini-4k-instruct\", backend=\"llamacpp\")\n",
        "\n",
        "# For use with vllm backend (not available on Mac)\n",
        "model = Outlines(model=\"microsoft/Phi-3-mini-4k-instruct\", backend=\"vllm\")\n",
        "\n",
        "# For use with mlxlm backend (only available on Mac)\n",
        "model = Outlines(model=\"microsoft/Phi-3-mini-4k-instruct\", backend=\"mlxlm\")\n",
        "\n",
        "# For use with huggingface transformers backend\n",
        "model = Outlines(\n",
        "    model=\"microsoft/Phi-3-mini-4k-instruct\"\n",
        ")  # defaults to backend=\"transformers\""
      ]
    },
    {
      "cell_type": "markdown",
      "metadata": {},
      "source": [
        "## 调用"
      ]
    },
    {
      "cell_type": "code",
      "execution_count": null,
      "metadata": {},
      "outputs": [],
      "source": [
        "model.invoke(\"Hello how are you?\")"
      ]
    },
    {
      "cell_type": "markdown",
      "metadata": {},
      "source": [
        "## 链式调用"
      ]
    },
    {
      "cell_type": "code",
      "execution_count": null,
      "metadata": {},
      "outputs": [],
      "source": [
        "from langchain_core.prompts import PromptTemplate\n",
        "\n",
        "prompt = PromptTemplate.from_template(\"How to say {input} in {output_language}:\\n\")\n",
        "\n",
        "chain = prompt | model\n",
        "chain.invoke(\n",
        "    {\n",
        "        \"output_language\": \"German\",\n",
        "        \"input\": \"I love programming.\",\n",
        "    }\n",
        ")"
      ]
    },
    {
      "cell_type": "markdown",
      "metadata": {},
      "source": [
        "### 流式传输\n\nOutlines 支持令牌的流式传输："
      ]
    },
    {
      "cell_type": "code",
      "execution_count": null,
      "metadata": {},
      "outputs": [],
      "source": [
        "for chunk in model.stream(\"Count to 10 in French:\"):\n",
        "    print(chunk, end=\"\", flush=True)"
      ]
    },
    {
      "cell_type": "markdown",
      "metadata": {},
      "source": [
        "### 受限生成\n\nOutlines 允许您对生成的输出应用各种约束：\n\n#### 正则表达式约束"
      ]
    },
    {
      "cell_type": "code",
      "execution_count": null,
      "metadata": {},
      "outputs": [],
      "source": [
        "model.regex = r\"((25[0-5]|2[0-4]\\d|[01]?\\d\\d?)\\.){3}(25[0-5]|2[0-4]\\d|[01]?\\d\\d?)\"\n",
        "response = model.invoke(\"What is the IP address of Google's DNS server?\")\n",
        "\n",
        "response"
      ]
    },
    {
      "cell_type": "markdown",
      "metadata": {},
      "source": [
        "### 类型约束"
      ]
    },
    {
      "cell_type": "code",
      "execution_count": null,
      "metadata": {},
      "outputs": [],
      "source": [
        "model.type_constraints = int\n",
        "response = model.invoke(\"What is the answer to life, the universe, and everything?\")"
      ]
    },
    {
      "cell_type": "markdown",
      "metadata": {},
      "source": [
        "#### JSON 模式"
      ]
    },
    {
      "cell_type": "code",
      "execution_count": null,
      "metadata": {},
      "outputs": [],
      "source": [
        "from pydantic import BaseModel\n",
        "\n",
        "\n",
        "class Person(BaseModel):\n",
        "    name: str\n",
        "\n",
        "\n",
        "model.json_schema = Person\n",
        "response = model.invoke(\"Who is the author of LangChain?\")\n",
        "person = Person.model_validate_json(response)\n",
        "\n",
        "person"
      ]
    },
    {
      "cell_type": "markdown",
      "metadata": {},
      "source": [
        "#### 语法约束"
      ]
    },
    {
      "cell_type": "code",
      "execution_count": null,
      "metadata": {},
      "outputs": [],
      "source": [
        "model.grammar = \"\"\"\n",
        "?start: expression\n",
        "?expression: term ((\"+\" | \"-\") term)\n",
        "?term: factor ((\"\" | \"/\") factor)\n",
        "?factor: NUMBER | \"-\" factor | \"(\" expression \")\"\n",
        "%import common.NUMBER\n",
        "%import common.WS\n",
        "%ignore WS\n",
        "\"\"\"\n",
        "response = model.invoke(\"Give me a complex arithmetic expression:\")\n",
        "\n",
        "response"
      ]
    },
    {
      "cell_type": "markdown",
      "metadata": {},
      "source": [
        "## API 参考\n\n如需了解 ChatOutlines 所有功能和配置的详细文档，请前往 API 参考：https://python.langchain.com/api_reference/community/chat_models/langchain_community.chat_models.outlines.ChatOutlines.html\n\n## Outlines 文档：\n\nhttps://dottxt-ai.github.io/outlines/latest/"
      ]
    }
  ],
  "metadata": {
    "kernelspec": {
      "display_name": ".venv",
      "language": "python",
      "name": "python3"
    },
    "language_info": {
      "codemirror_mode": {
        "name": "ipython",
        "version": 3
      },
      "file_extension": ".py",
      "mimetype": "text/x-python",
      "name": "python",
      "nbconvert_exporter": "python",
      "pygments_lexer": "ipython3",
      "version": "3.9.9"
    }
  },
  "nbformat": 4,
  "nbformat_minor": 2
}