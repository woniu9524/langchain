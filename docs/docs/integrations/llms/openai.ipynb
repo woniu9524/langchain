{
  "cells": [
    {
      "cell_type": "markdown",
      "id": "9597802c",
      "metadata": {},
      "source": [
        "# OpenAI\n\n:::caution\n您当前所在的页面记录了 OpenAI [文本补全模型](/docs/concepts/text_llms) 的用法。最新且最受欢迎的 OpenAI 模型是 [聊天补全模型](/docs/concepts/chat_models)。\n\n除非您专门在使用 `gpt-3.5-turbo-instruct`，否则您可能需要的是[此页面](/docs/integrations/chat/openai/)。\n:::\n\n[OpenAI](https://platform.openai.com/docs/introduction) 提供了一系列具有不同级别能力的模型，适用于不同的任务。\n\n此示例将介绍如何使用 LangChain 与 `OpenAI` [模型](https://platform.openai.com/docs/models) 进行交互。"
      ]
    },
    {
      "cell_type": "markdown",
      "id": "74312161",
      "metadata": {},
      "source": [
        "## 概述\n\n### 集成详情\n| 类 | 包 | 本地 | 可序列化 | [JS 支持](https://js.langchain.com/docs/integrations/chat/openai) | 包下载量 | 包最新版本 |\n| :--- | :--- | :---: | :---: |  :---: | :---: | :---: |\n| [ChatOpenAI](https://python.langchain.com/api_reference/openai/chat_models/langchain_openai.chat_models.base.ChatOpenAI.html) | [langchain-openai](https://python.langchain.com/api_reference/openai/index.html) | ❌ | beta | ✅ | ![PyPI - Downloads](https://img.shields.io/pypi/dm/langchain-openai?style=flat-square&label=%20) | ![PyPI - Version](https://img.shields.io/pypi/v/langchain-openai?style=flat-square&label=%20) |\n\n\n## 设置\n\n要访问 OpenAI 模型，您需要创建一个 OpenAI 账户、获取 API 密钥，并安装 `langchain-openai` 集成包。\n\n### 凭证\n\n前往 https://platform.openai.com 注册 OpenAI 并生成 API 密钥。完成此操作后，设置 OPENAI_API_KEY 环境变量："
      ]
    },
    {
      "cell_type": "code",
      "execution_count": 1,
      "id": "efcdb2b6",
      "metadata": {},
      "outputs": [],
      "source": [
        "import getpass\n",
        "import os\n",
        "\n",
        "if \"OPENAI_API_KEY\" not in os.environ:\n",
        "    os.environ[\"OPENAI_API_KEY\"] = getpass.getpass(\"Enter your OpenAI API key: \")"
      ]
    },
    {
      "cell_type": "markdown",
      "id": "f5d528fa",
      "metadata": {},
      "source": "为了启用模型调用的自动跟踪，请设置您的 [LangSmith](https://docs.smith.langchain.com/) API 密钥："
    },
    {
      "cell_type": "code",
      "execution_count": 2,
      "id": "52fa46e8",
      "metadata": {},
      "outputs": [],
      "source": [
        "# os.environ[\"LANGSMITH_API_KEY\"] = getpass.getpass(\"Enter your LangSmith API key: \")\n",
        "# os.environ[\"LANGSMITH_TRACING\"] = \"true\""
      ]
    },
    {
      "cell_type": "markdown",
      "id": "0fad78d8",
      "metadata": {},
      "source": [
        "### 安装\n\nLangChain 的 OpenAI 集成位于 `langchain-openai` 包："
      ]
    },
    {
      "cell_type": "code",
      "execution_count": null,
      "id": "2e300149",
      "metadata": {},
      "outputs": [],
      "source": [
        "%pip install -qU langchain-openai"
      ]
    },
    {
      "cell_type": "markdown",
      "id": "129a3275",
      "metadata": {},
      "source": [
        "如果您需要指定您的组织 ID，可以使用以下单元格。但是，如果您只属于一个组织或打算使用默认组织，则不需要指定。您可以在[此处](https://platform.openai.com/account/api-keys)查看您的默认组织。\n\n要指定您的组织，您可以使用：\n```python\nOPENAI_ORGANIZATION = getpass()\n\nos.environ[\"OPENAI_ORGANIZATION\"] = OPENAI_ORGANIZATION\n```\n\n## 实例化\n\n现在我们可以实例化模型对象并生成聊天补全："
      ]
    },
    {
      "cell_type": "code",
      "execution_count": 2,
      "id": "6fb585dd",
      "metadata": {
        "tags": []
      },
      "outputs": [],
      "source": [
        "from langchain_openai import OpenAI\n",
        "\n",
        "llm = OpenAI()"
      ]
    },
    {
      "cell_type": "markdown",
      "id": "464003c1",
      "metadata": {},
      "source": [
        "## 调用"
      ]
    },
    {
      "cell_type": "code",
      "execution_count": 3,
      "id": "85b49da0",
      "metadata": {},
      "outputs": [
        {
          "data": {
            "text/plain": [
              "'\\n\\nI am an AI and do not have emotions like humans do, so I am always functioning at my optimal level. Thank you for asking! How can I assist you today?'"
            ]
          },
          "execution_count": 3,
          "metadata": {},
          "output_type": "execute_result"
        }
      ],
      "source": [
        "llm.invoke(\"Hello how are you?\")"
      ]
    },
    {
      "cell_type": "markdown",
      "id": "2b7e0dfc",
      "metadata": {},
      "source": [
        "## Chaining"
      ]
    },
    {
      "cell_type": "code",
      "execution_count": 4,
      "id": "a641dbd9",
      "metadata": {
        "tags": []
      },
      "outputs": [
        {
          "data": {
            "text/plain": [
              "'\\nIch liebe Programmieren.'"
            ]
          },
          "execution_count": 4,
          "metadata": {},
          "output_type": "execute_result"
        }
      ],
      "source": [
        "from langchain_core.prompts import PromptTemplate\n",
        "\n",
        "prompt = PromptTemplate.from_template(\"How to say {input} in {output_language}:\\n\")\n",
        "\n",
        "chain = prompt | llm\n",
        "chain.invoke(\n",
        "    {\n",
        "        \"output_language\": \"German\",\n",
        "        \"input\": \"I love programming.\",\n",
        "    }\n",
        ")"
      ]
    },
    {
      "cell_type": "markdown",
      "id": "58a9ddb1",
      "metadata": {},
      "source": [
        "## 使用代理\n\n如果您位于显式代理后面，可以指定 `http_client` 来进行传递。"
      ]
    },
    {
      "cell_type": "code",
      "execution_count": null,
      "id": "55142cec",
      "metadata": {},
      "outputs": [],
      "source": [
        "%pip install httpx\n",
        "\n",
        "import httpx\n",
        "\n",
        "openai = OpenAI(\n",
        "    model_name=\"gpt-3.5-turbo-instruct\",\n",
        "    http_client=httpx.Client(proxies=\"http://proxy.yourcompany.com:8080\"),\n",
        ")"
      ]
    },
    {
      "cell_type": "raw",
      "id": "2fd99e97-013f-4c28-bb47-426faa42a2cf",
      "metadata": {},
      "source": [
        "## API reference\n",
        "\n",
        "For detailed documentation of all `OpenAI` llm features and configurations head to the API reference: https://python.langchain.com/api_reference/openai/llms/langchain_openai.llms.base.OpenAI.html"
      ]
    }
  ],
  "metadata": {
    "kernelspec": {
      "display_name": "Python 3 (ipykernel)",
      "language": "python",
      "name": "python3"
    },
    "language_info": {
      "codemirror_mode": {
        "name": "ipython",
        "version": 3
      },
      "file_extension": ".py",
      "mimetype": "text/x-python",
      "name": "python",
      "nbconvert_exporter": "python",
      "pygments_lexer": "ipython3",
      "version": "3.11.4"
    },
    "vscode": {
      "interpreter": {
        "hash": "e971737741ff4ec9aff7dc6155a1060a59a8a6d52c757dbbe66bf8ee389494b1"
      }
    }
  },
  "nbformat": 4,
  "nbformat_minor": 5
}