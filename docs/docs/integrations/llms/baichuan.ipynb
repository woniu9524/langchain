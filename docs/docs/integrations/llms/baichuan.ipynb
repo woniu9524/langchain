{
  "cells": [
    {
      "cell_type": "markdown",
      "metadata": {},
      "source": [
        "# Baichuan LLM\nBaichuan Inc. (https://www.baichuan-ai.com/) 是一家中国人工智能初创公司，致力于在通用人工智能时代，解决人类的基本需求：效率、健康和幸福。"
      ]
    },
    {
      "cell_type": "code",
      "execution_count": null,
      "metadata": {},
      "outputs": [],
      "source": [
        "##Installing the langchain packages needed to use the integration\n",
        "%pip install -qU langchain-community"
      ]
    },
    {
      "cell_type": "markdown",
      "metadata": {},
      "source": [
        "## 先决条件\n访问百川大模型 API 需要 API 密钥。请访问 https://platform.baichuan-ai.com/ 获取您的 API 密钥。"
      ]
    },
    {
      "cell_type": "markdown",
      "metadata": {},
      "source": [
        "## 使用百川大模型"
      ]
    },
    {
      "cell_type": "code",
      "execution_count": null,
      "metadata": {},
      "outputs": [],
      "source": [
        "import os\n",
        "\n",
        "os.environ[\"BAICHUAN_API_KEY\"] = \"YOUR_API_KEY\""
      ]
    },
    {
      "cell_type": "code",
      "execution_count": null,
      "metadata": {},
      "outputs": [],
      "source": [
        "from langchain_community.llms import BaichuanLLM\n",
        "\n",
        "# Load the model\n",
        "llm = BaichuanLLM()\n",
        "\n",
        "res = llm.invoke(\"What's your name?\")\n",
        "print(res)"
      ]
    },
    {
      "cell_type": "code",
      "execution_count": null,
      "metadata": {},
      "outputs": [],
      "source": [
        "res = llm.generate(prompts=[\"你好！\"])\n",
        "res"
      ]
    },
    {
      "cell_type": "code",
      "execution_count": null,
      "metadata": {},
      "outputs": [],
      "source": [
        "for res in llm.stream(\"Who won the second world war?\"):\n",
        "    print(res)"
      ]
    },
    {
      "cell_type": "code",
      "execution_count": null,
      "metadata": {},
      "outputs": [],
      "source": [
        "import asyncio\n",
        "\n",
        "\n",
        "async def run_aio_stream():\n",
        "    async for res in llm.astream(\"Write a poem about the sun.\"):\n",
        "        print(res)\n",
        "\n",
        "\n",
        "asyncio.run(run_aio_stream())"
      ]
    }
  ],
  "metadata": {
    "language_info": {
      "name": "python"
    }
  },
  "nbformat": 4,
  "nbformat_minor": 2
}