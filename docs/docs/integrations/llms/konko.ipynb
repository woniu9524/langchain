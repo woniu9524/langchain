{
  "cells": [
    {
      "cell_type": "raw",
      "id": "b5f24c75",
      "metadata": {
        "vscode": {
          "languageId": "raw"
        }
      },
      "source": [
        "---\n",
        "sidebar_label: Konko\n",
        "---"
      ]
    },
    {
      "cell_type": "markdown",
      "id": "136d9ba6-c42a-435b-9e19-77ebcc7a3145",
      "metadata": {},
      "source": [
        "# Konko\n\n>[Konko](https://www.konko.ai/) API 是一项全托管的 Web API，旨在帮助应用程序开发人员：\n\n1. **选择**适合其应用程序的开源或专有 LLM\n2. **通过与领先的应用程序框架和全托管 API 的集成，更快地构建**应用程序\n3. **微调**较小的开源 LLM，以更低的成本实现行业领先的性能\n4. **使用 Konko AI 的 SOC 2 合规、多云基础设施，部署生产级 API**，满足安全、隐私、吞吐量和延迟 SLA 的要求，无需基础设施设置或管理。\n\n本示例将介绍如何使用 LangChain 与 `Konko` 完成 [模型](https://docs.konko.ai/docs/list-of-models#konko-hosted-models-for-completion) 进行交互。\n\n要运行此笔记本，您需要 Konko API 密钥。请登录我们的 Web 应用程序以[创建 API 密钥](https://platform.konko.ai/settings/api-keys)来访问模型。\n\n#### 设置环境变量\n\n1. 您可以设置环境变量：\n   1. KONKO_API_KEY（必需）\n   2. OPENAI_API_KEY（可选）\n2. 在您当前的 shell 会话中，使用 export 命令：\n\n```shell\nexport KONKO_API_KEY={your_KONKO_API_KEY_here}\nexport OPENAI_API_KEY={your_OPENAI_API_KEY_here} #Optional\n```\n\n## 调用模型\n\n在 [Konko 概述页面](https://docs.konko.ai/docs/list-of-models)上查找模型。\n\n查找 Konko 实例上运行的模型列表的另一种方法是通过此[端点](https://docs.konko.ai/reference/get-models)。\n\n从这里，我们可以初始化我们的模型："
      ]
    },
    {
      "cell_type": "code",
      "execution_count": null,
      "id": "dd70bccb-7a65-42d0-a3f2-8116f3549da7",
      "metadata": {},
      "outputs": [
        {
          "name": "stdout",
          "output_type": "stream",
          "text": [
            "\n",
            "\n",
            "Answer:\n",
            "The Big Bang Theory is a theory that explains the origin of the universe. According to the theory, the universe began with a single point of infinite density and temperature. This point is called the singularity. The singularity exploded and expanded rapidly. The expansion of the universe is still continuing.\n",
            "The Big Bang Theory is a theory that explains the origin of the universe. According to the theory, the universe began with a single point of infinite density and temperature. This point is called the singularity. The singularity exploded and expanded rapidly. The expansion of the universe is still continuing.\n",
            "\n",
            "Question\n"
          ]
        }
      ],
      "source": [
        "from langchain_community.llms import Konko\n",
        "\n",
        "llm = Konko(model=\"mistralai/mistral-7b-v0.1\", temperature=0.1, max_tokens=128)\n",
        "\n",
        "input_ = \"\"\"You are a helpful assistant. Explain Big Bang Theory briefly.\"\"\"\n",
        "print(llm.invoke(input_))"
      ]
    }
  ],
  "metadata": {
    "kernelspec": {
      "display_name": "Python 3 (ipykernel)",
      "language": "python",
      "name": "python3"
    },
    "language_info": {
      "codemirror_mode": {
        "name": "ipython",
        "version": 3
      },
      "file_extension": ".py",
      "mimetype": "text/x-python",
      "name": "python",
      "nbconvert_exporter": "python",
      "pygments_lexer": "ipython3",
      "version": "3.11.4"
    }
  },
  "nbformat": 4,
  "nbformat_minor": 5
}