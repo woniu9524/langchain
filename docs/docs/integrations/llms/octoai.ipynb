{
  "cells": [
    {
      "cell_type": "markdown",
      "metadata": {},
      "source": [
        "# OctoAI\n\n[OctoAI](https://docs.octoai.cloud/docs) 提供便捷高效的计算访问，并使用户能够将他们选择的 AI 模型集成到应用程序中。`OctoAI` 计算服务可帮助您轻松运行、调整和扩展 AI 应用程序。\n\n本示例将介绍如何使用 LangChain 与 `OctoAI` 的 [LLM 端点](https://octoai.cloud/templates) 进行交互。\n\n## 设置\n\n要运行我们的示例应用程序，只需执行两个简单的步骤：\n\n1. 从[您的 OctoAI 账户页面](https://octoai.cloud/settings)获取 API Token。\n   \n2. 将您的 API 密钥粘贴到下面的代码单元格中。\n\n注意：如果您想使用不同的 LLM 模型，可以将其容器化并自行创建自定义 OctoAI 端点。请遵循[从 Python 构建容器](https://octo.ai/docs/bring-your-own-model/advanced-build-a-container-from-scratch-in-python)和[从容器创建自定义端点](https://octo.ai/docs/bring-your-own-model/create-custom-endpoints-from-a-container/create-custom-endpoints-from-a-container)的说明，然后更新您的 `OCTOAI_API_BASE` 环境变量。"
      ]
    },
    {
      "cell_type": "code",
      "execution_count": 6,
      "metadata": {},
      "outputs": [],
      "source": [
        "import os\n",
        "\n",
        "os.environ[\"OCTOAI_API_TOKEN\"] = \"OCTOAI_API_TOKEN\""
      ]
    },
    {
      "cell_type": "code",
      "execution_count": 7,
      "metadata": {},
      "outputs": [],
      "source": [
        "from langchain.chains import LLMChain\n",
        "from langchain_community.llms.octoai_endpoint import OctoAIEndpoint\n",
        "from langchain_core.prompts import PromptTemplate"
      ]
    },
    {
      "cell_type": "markdown",
      "metadata": {},
      "source": [
        "## 示例"
      ]
    },
    {
      "cell_type": "code",
      "execution_count": 8,
      "metadata": {},
      "outputs": [],
      "source": [
        "template = \"\"\"Below is an instruction that describes a task. Write a response that appropriately completes the request.\\n Instruction:\\n{question}\\n Response: \"\"\"\n",
        "prompt = PromptTemplate.from_template(template)"
      ]
    },
    {
      "cell_type": "code",
      "execution_count": 9,
      "metadata": {},
      "outputs": [],
      "source": [
        "llm = OctoAIEndpoint(\n",
        "    model_name=\"llama-2-13b-chat-fp16\",\n",
        "    max_tokens=200,\n",
        "    presence_penalty=0,\n",
        "    temperature=0.1,\n",
        "    top_p=0.9,\n",
        ")"
      ]
    },
    {
      "cell_type": "code",
      "execution_count": null,
      "metadata": {},
      "outputs": [],
      "source": [
        "question = \"Who was Leonardo da Vinci?\"\n",
        "\n",
        "chain = prompt | llm\n",
        "\n",
        "print(chain.invoke(question))"
      ]
    },
    {
      "cell_type": "markdown",
      "metadata": {},
      "source": [
        "列奥纳多·达·芬奇是一位真正的文艺复兴时期博学家。他于 1452 年出生在意大利的芬奇镇，以其在艺术、科学、工程和数学等多个领域的贡献而闻名。他被认为是史上最伟大的画家之一，其最著名的作品包括《蒙娜丽莎》和《最后的晚餐》。除了艺术，达·芬奇在工程学和解剖学方面也做出了重要贡献，他设计的机器和发明比他所处的时代领先数个世纪。他还以其详尽的笔记和图纸而闻名，这些为我们深入了解他的思想和想法提供了宝贵的见解。达·芬奇的遗产至今仍在激励和影响着世界各地的艺术家、科学家和思想家。"
      ]
    }
  ],
  "metadata": {
    "kernelspec": {
      "display_name": "Python 3 (ipykernel)",
      "language": "python",
      "name": "python3"
    },
    "language_info": {
      "codemirror_mode": {
        "name": "ipython",
        "version": 3
      },
      "file_extension": ".py",
      "mimetype": "text/x-python",
      "name": "python",
      "nbconvert_exporter": "python",
      "pygments_lexer": "ipython3",
      "version": "3.11.7"
    },
    "vscode": {
      "interpreter": {
        "hash": "97697b63fdcee0a640856f91cb41326ad601964008c341809e43189d1cab1047"
      }
    }
  },
  "nbformat": 4,
  "nbformat_minor": 4
}