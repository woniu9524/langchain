{
  "cells": [
    {
      "cell_type": "markdown",
      "metadata": {},
      "source": [
        "# Arcee\n本笔记本演示了如何使用 `Arcee` 类，通过 Arcee 的领域自适应语言模型 (DALMs) 来生成文本。"
      ]
    },
    {
      "cell_type": "code",
      "execution_count": null,
      "metadata": {},
      "outputs": [],
      "source": [
        "##Installing the langchain packages needed to use the integration\n",
        "%pip install -qU langchain-community"
      ]
    },
    {
      "cell_type": "markdown",
      "metadata": {},
      "source": [
        "### 设置\n\n在使用 Arcee 之前，请确保 Arcee API 密钥已设置为 `ARCEE_API_KEY` 环境变量。您也可以将 API 密钥作为命名参数传递。"
      ]
    },
    {
      "cell_type": "code",
      "execution_count": null,
      "metadata": {},
      "outputs": [],
      "source": [
        "from langchain_community.llms import Arcee\n",
        "\n",
        "# Create an instance of the Arcee class\n",
        "arcee = Arcee(\n",
        "    model=\"DALM-PubMed\",\n",
        "    # arcee_api_key=\"ARCEE-API-KEY\" # if not already set in the environment\n",
        ")"
      ]
    },
    {
      "cell_type": "markdown",
      "metadata": {},
      "source": [
        "### 其他配置\n\n您还可以根据需要配置 Arcee 的参数，例如 `arcee_api_url`、`arcee_app_url` 和 `model_kwargs`。\n在对象初始化时设置 `model_kwargs` 会将这些参数作为默认值应用于后续的所有生成响应的调用。"
      ]
    },
    {
      "cell_type": "code",
      "execution_count": null,
      "metadata": {},
      "outputs": [],
      "source": [
        "arcee = Arcee(\n",
        "    model=\"DALM-Patent\",\n",
        "    # arcee_api_key=\"ARCEE-API-KEY\", # if not already set in the environment\n",
        "    arcee_api_url=\"https://custom-api.arcee.ai\",  # default is https://api.arcee.ai\n",
        "    arcee_app_url=\"https://custom-app.arcee.ai\",  # default is https://app.arcee.ai\n",
        "    model_kwargs={\n",
        "        \"size\": 5,\n",
        "        \"filters\": [\n",
        "            {\n",
        "                \"field_name\": \"document\",\n",
        "                \"filter_type\": \"fuzzy_search\",\n",
        "                \"value\": \"Einstein\",\n",
        "            }\n",
        "        ],\n",
        "    },\n",
        ")"
      ]
    },
    {
      "cell_type": "markdown",
      "metadata": {},
      "source": [
        "### 生成文本\n\n您可以提供一个提示（prompt）来从 Arcee 生成文本。下面是一个示例："
      ]
    },
    {
      "cell_type": "code",
      "execution_count": null,
      "metadata": {},
      "outputs": [],
      "source": [
        "# Generate text\n",
        "prompt = \"Can AI-driven music therapy contribute to the rehabilitation of patients with disorders of consciousness?\"\n",
        "response = arcee(prompt)"
      ]
    },
    {
      "cell_type": "markdown",
      "metadata": {},
      "source": [
        "### 其他参数\n\nArcee 允许您应用 `filters` 并设置检索到的文档的数量（`size`）来辅助文本生成。Filters（过滤器）有助于缩小搜索结果的范围。以下是使用这些参数的方法："
      ]
    },
    {
      "cell_type": "code",
      "execution_count": null,
      "metadata": {},
      "outputs": [],
      "source": [
        "# Define filters\n",
        "filters = [\n",
        "    {\"field_name\": \"document\", \"filter_type\": \"fuzzy_search\", \"value\": \"Einstein\"},\n",
        "    {\"field_name\": \"year\", \"filter_type\": \"strict_search\", \"value\": \"1905\"},\n",
        "]\n",
        "\n",
        "# Generate text with filters and size params\n",
        "response = arcee(prompt, size=5, filters=filters)"
      ]
    }
  ],
  "metadata": {
    "kernelspec": {
      "display_name": ".venv",
      "language": "python",
      "name": "python3"
    },
    "language_info": {
      "codemirror_mode": {
        "name": "ipython",
        "version": 3
      },
      "file_extension": ".py",
      "mimetype": "text/x-python",
      "name": "python",
      "nbconvert_exporter": "python",
      "pygments_lexer": "ipython3",
      "version": "3.10.12"
    }
  },
  "nbformat": 4,
  "nbformat_minor": 2
}