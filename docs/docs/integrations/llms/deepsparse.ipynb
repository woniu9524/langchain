{
  "cells": [
    {
      "cell_type": "markdown",
      "id": "15d7ce70-8879-42a0-86d9-a3d604a3ec83",
      "metadata": {},
      "source": [
        "# DeepSparse\n\n此页面将介绍如何在 LangChain 中使用 [DeepSparse](https://github.com/neuralmagic/deepsparse) 推理运行时。\n它分为两部分：安装和设置，然后是 DeepSparse 用法示例。\n\n## 安装和设置\n\n- 使用 `pip install deepsparse` 安装 Python 包\n- 选择一个 [SparseZoo 模型](https://sparsezoo.neuralmagic.com/?useCase=text_generation) 或 [使用 Optimum](https://github.com/neuralmagic/notebooks/blob/main/notebooks/opt-text-generation-deepsparse-quickstart/OPT_Text_Generation_DeepSparse_Quickstart.ipynb) 将支持的模型导出为 ONNX。\n\n存在一个 DeepSparse LLM 包装器，它为所有模型提供了统一的接口："
      ]
    },
    {
      "cell_type": "code",
      "execution_count": null,
      "id": "79d24d37-737a-428c-b6c5-84c1633070d7",
      "metadata": {},
      "outputs": [],
      "source": [
        "from langchain_community.llms import DeepSparse\n",
        "\n",
        "llm = DeepSparse(\n",
        "    model=\"zoo:nlg/text_generation/codegen_mono-350m/pytorch/huggingface/bigpython_bigquery_thepile/base-none\"\n",
        ")\n",
        "\n",
        "print(llm.invoke(\"def fib():\"))"
      ]
    },
    {
      "cell_type": "markdown",
      "id": "ea7ea674-d6b0-49d9-9c2b-014032973be6",
      "metadata": {},
      "source": [
        "可以使用 `config` 参数传递附加参数："
      ]
    },
    {
      "cell_type": "code",
      "execution_count": null,
      "id": "ff61b845-41e6-4457-8625-6e21a11bfe7c",
      "metadata": {},
      "outputs": [],
      "source": [
        "config = {\"max_generated_tokens\": 256}\n",
        "\n",
        "llm = DeepSparse(\n",
        "    model=\"zoo:nlg/text_generation/codegen_mono-350m/pytorch/huggingface/bigpython_bigquery_thepile/base-none\",\n",
        "    config=config,\n",
        ")"
      ]
    }
  ],
  "metadata": {
    "kernelspec": {
      "display_name": "Python 3 (ipykernel)",
      "language": "python",
      "name": "python3"
    },
    "language_info": {
      "codemirror_mode": {
        "name": "ipython",
        "version": 3
      },
      "file_extension": ".py",
      "mimetype": "text/x-python",
      "name": "python",
      "nbconvert_exporter": "python",
      "pygments_lexer": "ipython3",
      "version": "3.9.1"
    }
  },
  "nbformat": 4,
  "nbformat_minor": 5
}