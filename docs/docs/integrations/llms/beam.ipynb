{
  "cells": [
    {
      "cell_type": "markdown",
      "id": "34803e5e",
      "metadata": {
        "id": "J-yvaDTmTTza"
      },
      "source": [
        "# Beam\n\n调用 Beam API 包装器来部署 gpt2 LLM 的一个实例并在云端运行，并允许后续调用。需要安装 Beam 库并注册 Beam Client ID 和 Client Secret。通过调用包装器，模型的一个实例会被创建并运行，返回的文本与提示相关。之后可以通过直接调用 Beam API 来进行其他调用。\n\n如果您还没有 Beam 账号，请先[创建账号](https://www.beam.cloud/)。从[仪表板](https://www.beam.cloud/dashboard/settings/api-keys)获取您的 API 密钥。"
      ]
    },
    {
      "cell_type": "markdown",
      "id": "76af7763",
      "metadata": {
        "id": "CfTmesWtTfTS"
      },
      "source": [
        "安装 Beam CLI"
      ]
    },
    {
      "cell_type": "code",
      "execution_count": null,
      "id": "ef012b8d",
      "metadata": {
        "id": "G_tCCurqR7Ik"
      },
      "outputs": [],
      "source": [
        "!curl https://raw.githubusercontent.com/slai-labs/get-beam/main/get-beam.sh -sSfL | sh"
      ]
    },
    {
      "cell_type": "markdown",
      "id": "74be8c2e",
      "metadata": {
        "id": "jJkcNqOdThQ7"
      },
      "source": [
        "注册 API 密钥并设置您的 beam 客户端 ID 和密钥环境变量："
      ]
    },
    {
      "cell_type": "code",
      "execution_count": null,
      "id": "2a176107",
      "metadata": {
        "id": "7gQd6fszSEaH"
      },
      "outputs": [],
      "source": [
        "import os\n",
        "\n",
        "beam_client_id = \"<Your beam client id>\"\n",
        "beam_client_secret = \"<Your beam client secret>\"\n",
        "\n",
        "# Set the environment variables\n",
        "os.environ[\"BEAM_CLIENT_ID\"] = beam_client_id\n",
        "os.environ[\"BEAM_CLIENT_SECRET\"] = beam_client_secret\n",
        "\n",
        "# Run the beam configure command\n",
        "!beam configure --clientId={beam_client_id} --clientSecret={beam_client_secret}"
      ]
    },
    {
      "cell_type": "markdown",
      "id": "64cc18b3",
      "metadata": {
        "id": "c20rkK18TrK2"
      },
      "source": [
        "安装 Beam SDK："
      ]
    },
    {
      "cell_type": "code",
      "execution_count": null,
      "id": "a0014676",
      "metadata": {
        "id": "CH2Vop6ISNIf"
      },
      "outputs": [],
      "source": [
        "%pip install --upgrade --quiet  beam-sdk"
      ]
    },
    {
      "cell_type": "markdown",
      "id": "a48d515c",
      "metadata": {
        "id": "XflOsp3bTwl1"
      },
      "source": [
        "**直接从 langchain 部署和调用 Beam！**\n\n请注意，首次启动可能需要几分钟才能返回响应，但后续调用会更快！"
      ]
    },
    {
      "cell_type": "code",
      "execution_count": null,
      "id": "c79e740b",
      "metadata": {
        "id": "KmaHxUqbSVnh"
      },
      "outputs": [],
      "source": [
        "from langchain_community.llms.beam import Beam\n",
        "\n",
        "llm = Beam(\n",
        "    model_name=\"gpt2\",\n",
        "    name=\"langchain-gpt2-test\",\n",
        "    cpu=8,\n",
        "    memory=\"32Gi\",\n",
        "    gpu=\"A10G\",\n",
        "    python_version=\"python3.8\",\n",
        "    python_packages=[\n",
        "        \"diffusers[torch]>=0.10\",\n",
        "        \"transformers\",\n",
        "        \"torch\",\n",
        "        \"pillow\",\n",
        "        \"accelerate\",\n",
        "        \"safetensors\",\n",
        "        \"xformers\",\n",
        "    ],\n",
        "    max_length=\"50\",\n",
        "    verbose=False,\n",
        ")\n",
        "\n",
        "llm._deploy()\n",
        "\n",
        "response = llm._call(\"Running machine learning on a remote GPU\")\n",
        "\n",
        "print(response)"
      ]
    }
  ],
  "metadata": {
    "colab": {
      "private_outputs": true,
      "provenance": []
    },
    "gpuClass": "standard",
    "kernelspec": {
      "display_name": "Python 3 (ipykernel)",
      "language": "python",
      "name": "python3"
    },
    "language_info": {
      "codemirror_mode": {
        "name": "ipython",
        "version": 3
      },
      "file_extension": ".py",
      "mimetype": "text/x-python",
      "name": "python",
      "nbconvert_exporter": "python",
      "pygments_lexer": "ipython3",
      "version": "3.11.3"
    }
  },
  "nbformat": 4,
  "nbformat_minor": 5
}