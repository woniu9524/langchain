{
  "cells": [
    {
      "cell_type": "markdown",
      "id": "9597802c",
      "metadata": {},
      "source": [
        "# Cohere\n\n:::caution\n您目前所在的页面记录了如何将 Cohere 模型用作[文本补全模型](/docs/concepts/text_llms)。许多流行的 Cohere 模型是[聊天补全模型](/docs/concepts/chat_models)。\n\n您可能应该查看[此页面](/docs/integrations/chat/cohere/)。\n:::\n\n>[Cohere](https://cohere.ai/about) 是一家加拿大初创公司，提供自然语言处理模型，帮助企业改进人机交互。\n\n前往[API 参考](https://python.langchain.com/api_reference/community/llms/langchain_community.llms.cohere.Cohere.html)查看所有属性和方法的详细文档。\n\n## 概述\n### 集成详情\n\n| 类 | 包 | 本地 | 可序列化 | [JS 支持](https://js.langchain.com/docs/integrations/llms/cohere/) | 包下载量 | 包最新版本 |\n| :--- | :--- | :---: | :---: |  :---: | :---: | :---: |\n| [Cohere](https://python.langchain.com/api_reference/community/llms/langchain_community.llms.cohere.Cohere.html) | [langchain_community](https://python.langchain.com/api_reference/community/index.html) | ❌ | beta | ✅ | ![PyPI - Downloads](https://img.shields.io/pypi/dm/langchain_community?style=flat-square&label=%20) | ![PyPI - Version](https://img.shields.io/pypi/v/langchain_community?style=flat-square&label=%20) |"
      ]
    },
    {
      "cell_type": "markdown",
      "id": "873eb81e-6049-4a68-b219-baa421d7cba8",
      "metadata": {
        "tags": []
      },
      "source": [
        "## 设置\n\n集成位于 `langchain-community` 包中。我们还需要安装 `cohere` 包本身。我们可以使用以下命令安装它们：\n\n### 凭证\n\n我们需要获取一个 [Cohere API 密钥](https://cohere.com/) 并设置 `COHERE_API_KEY` 环境变量："
      ]
    },
    {
      "cell_type": "code",
      "execution_count": null,
      "id": "3f5dc9d7-65e3-4b5b-9086-3327d016cfe0",
      "metadata": {
        "tags": []
      },
      "outputs": [],
      "source": [
        "import getpass\n",
        "import os\n",
        "\n",
        "if \"COHERE_API_KEY\" not in os.environ:\n",
        "    os.environ[\"COHERE_API_KEY\"] = getpass.getpass()"
      ]
    },
    {
      "cell_type": "markdown",
      "id": "ff211537",
      "metadata": {},
      "source": [
        "### 安装"
      ]
    },
    {
      "cell_type": "code",
      "execution_count": null,
      "id": "318454f9",
      "metadata": {},
      "outputs": [],
      "source": [
        "pip install -U langchain-community langchain-cohere"
      ]
    },
    {
      "cell_type": "markdown",
      "id": "c07a576d-e39d-4ca2-8f16-41df284d136c",
      "metadata": {},
      "source": [
        "设置 [LangSmith](https://smith.langchain.com/) 以获得一流的可观测性也很有帮助（但非必需）。"
      ]
    },
    {
      "cell_type": "code",
      "execution_count": null,
      "id": "5af022d3-d24a-49fa-b660-ec76f1bce9a9",
      "metadata": {},
      "outputs": [],
      "source": [
        "# os.environ[\"LANGSMITH_TRACING\"] = \"true\"\n",
        "# os.environ[\"LANGSMITH_API_KEY\"] = getpass.getpass()"
      ]
    },
    {
      "cell_type": "markdown",
      "id": "0b4e02bf-5beb-48af-a2a2-52cbcd8ebed6",
      "metadata": {},
      "source": [
        "## 调用\n\nCohere 支持所有 [LLM](/docs/how_to#llms) 功能："
      ]
    },
    {
      "cell_type": "code",
      "execution_count": 1,
      "id": "6fb585dd",
      "metadata": {
        "tags": []
      },
      "outputs": [],
      "source": [
        "from langchain_cohere import Cohere\n",
        "from langchain_core.messages import HumanMessage"
      ]
    },
    {
      "cell_type": "code",
      "execution_count": 2,
      "id": "be042d9f-c625-4316-b5e5-272b5ce8904f",
      "metadata": {},
      "outputs": [],
      "source": [
        "model = Cohere(max_tokens=256, temperature=0.75)"
      ]
    },
    {
      "cell_type": "code",
      "execution_count": 6,
      "id": "8cbfc906-4278-4bc9-8756-1681bb647752",
      "metadata": {},
      "outputs": [
        {
          "data": {
            "text/plain": [
              "\" Who's there?\""
            ]
          },
          "execution_count": 6,
          "metadata": {},
          "output_type": "execute_result"
        }
      ],
      "source": [
        "message = \"Knock knock\"\n",
        "model.invoke(message)"
      ]
    },
    {
      "cell_type": "code",
      "execution_count": 8,
      "id": "a9a9ffcf-5a74-4875-ad3e-d66d3b871f66",
      "metadata": {},
      "outputs": [
        {
          "data": {
            "text/plain": [
              "\" Who's there?\""
            ]
          },
          "execution_count": 8,
          "metadata": {},
          "output_type": "execute_result"
        }
      ],
      "source": [
        "await model.ainvoke(message)"
      ]
    },
    {
      "cell_type": "code",
      "execution_count": 9,
      "id": "ab3550b5-4271-4333-a75c-e4bce58c0452",
      "metadata": {},
      "outputs": [
        {
          "name": "stdout",
          "output_type": "stream",
          "text": [
            " Who's there?"
          ]
        }
      ],
      "source": [
        "for chunk in model.stream(message):\n",
        "    print(chunk, end=\"\", flush=True)"
      ]
    },
    {
      "cell_type": "code",
      "execution_count": 10,
      "id": "587c850d-76bd-4f74-bcf7-50cdacec538e",
      "metadata": {},
      "outputs": [
        {
          "data": {
            "text/plain": [
              "[\" Who's there?\"]"
            ]
          },
          "execution_count": 10,
          "metadata": {},
          "output_type": "execute_result"
        }
      ],
      "source": [
        "model.batch([message])"
      ]
    },
    {
      "cell_type": "markdown",
      "id": "39198f7d-6fc8-4662-954a-37ad38c4bec4",
      "metadata": {},
      "source": [
        "## 链式调用\n\n您还可以轻松地将其与 prompt 模板结合使用，以便轻松构建用户输入。我们可以使用 [LCEL](/docs/concepts/lcel) 来实现这一点。"
      ]
    },
    {
      "cell_type": "code",
      "execution_count": 12,
      "id": "7cbe3136-eff2-4e6a-807c-81cbf2a488a6",
      "metadata": {},
      "outputs": [],
      "source": [
        "from langchain_core.prompts import PromptTemplate\n",
        "\n",
        "prompt = PromptTemplate.from_template(\"Tell me a joke about {topic}\")\n",
        "chain = prompt | model"
      ]
    },
    {
      "cell_type": "code",
      "execution_count": 13,
      "id": "d08eb676-dc24-41ae-ba32-19a95e22d3bb",
      "metadata": {},
      "outputs": [
        {
          "data": {
            "text/plain": [
              "' Why did the teddy bear cross the road?\\nBecause he had bear crossings.\\n\\nWould you like to hear another joke? '"
            ]
          },
          "execution_count": 13,
          "metadata": {},
          "output_type": "execute_result"
        }
      ],
      "source": [
        "chain.invoke({\"topic\": \"bears\"})"
      ]
    },
    {
      "cell_type": "markdown",
      "id": "ac5fcbed",
      "metadata": {},
      "source": [
        "## API 参考\n\n有关 `Cohere` llm 的所有功能和配置的详细文档，请访问 API 参考：https://python.langchain.com/api_reference/community/llms/langchain_community.llms.cohere.Cohere.html"
      ]
    }
  ],
  "metadata": {
    "kernelspec": {
      "display_name": "Python 3 (ipykernel)",
      "language": "python",
      "name": "python3"
    },
    "language_info": {
      "codemirror_mode": {
        "name": "ipython",
        "version": 3
      },
      "file_extension": ".py",
      "mimetype": "text/x-python",
      "name": "python",
      "nbconvert_exporter": "python",
      "pygments_lexer": "ipython3",
      "version": "3.11.7"
    }
  },
  "nbformat": 4,
  "nbformat_minor": 5
}