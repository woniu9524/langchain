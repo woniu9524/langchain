{
  "cells": [
    {
      "cell_type": "markdown",
      "id": "9e9b7651",
      "metadata": {},
      "source": [
        "# Azure OpenAI\n\n:::caution\n您当前正在浏览关于如何使用 Azure OpenAI [文本补全模型](/docs/concepts/text_llms)的文档。最新且最受欢迎的 Azure OpenAI 模型是 [聊天补全模型](/docs/concepts/chat_models)。\n\n除非您专门使用 `gpt-3.5-turbo-instruct`，否则您很可能是在查找[此页面](/docs/integrations/chat/azure_chat_openai/)。\n:::\n\n此页面将介绍如何将 LangChain 与 [Azure OpenAI](https://aka.ms/azure-openai) 结合使用。\n\nAzure OpenAI API 与 OpenAI 的 API 兼容。`openai` Python 包可以轻松地同时使用 OpenAI 和 Azure OpenAI。您可以像调用 OpenAI 一样调用 Azure OpenAI，但需注意以下几点例外。\n\n## API 配置\n您可以通过环境变量配置 `openai` 包以使用 Azure OpenAI。以下是 `bash` 的配置示例：\n\n```bash\n# 您想使用的 API 版本：设置为 `2023-12-01-preview` 以使用已发布的版本。\nexport OPENAI_API_VERSION=2023-12-01-preview\n# 您的 Azure OpenAI 资源的基 URL。您可以在 Azure 门户中找到您的 Azure OpenAI 资源下的此信息。\nexport AZURE_OPENAI_ENDPOINT=https://your-resource-name.openai.azure.com\n# 您的 Azure OpenAI 资源的 API 密钥。您可以在 Azure 门户中找到您的 Azure OpenAI 资源下的此信息。\nexport AZURE_OPENAI_API_KEY=<your Azure OpenAI API key>\n```\n\n或者，您可以在运行的 Python 环境中直接配置 API：\n\n```python\nimport os\nos.environ[\"OPENAI_API_VERSION\"] = \"2023-12-01-preview\"\n```\n\n## Azure Active Directory 身份验证\n您可以通过两种方式向 Azure OpenAI 进行身份验证：\n- API 密钥\n- Azure Active Directory (AAD)\n\n使用 API 密钥是开始的最简单方法。您可以在 Azure 门户中找到您的 Azure OpenAI 资源的 API 密钥。\n\n但是，如果您有复杂的安全需求，则可能需要使用 Azure Active Directory。您可以在[此处](https://learn.microsoft.com/en-us/azure/ai-services/openai/how-to/managed-identity)找到有关如何将 AAD 与 Azure OpenAI 结合使用的更多信息。\n\n如果您在本地开发，则需要安装 Azure CLI 并登录。您可以在[此处](https://docs.microsoft.com/en-us/cli/azure/install-azure-cli)安装 Azure CLI。然后，运行 `az login` 进行登录。\n\n为您的 Azure OpenAI 资源范围内的 Azure 角色分配 `Cognitive Services OpenAI User` 的角色。这将允许您从 AAD 获取令牌以与 Azure OpenAI 一起使用。您可以将此角色分配给用户、组、服务主体或托管标识。有关 Azure OpenAI RBAC 角色的更多信息，请参见[此处](https://learn.microsoft.com/en-us/azure/ai-services/openai/how-to/role-based-access-control)。\n\n要在 Python 中使用 AAD 和 LangChain，请安装 `azure-identity` 包。然后，将 `OPENAI_API_TYPE` 设置为 `azure_ad`。接下来，使用 `DefaultAzureCredential` 类通过调用 `get_token` 从 AAD 获取令牌，如下所示。最后，将 `OPENAI_API_KEY` 环境变量设置为令牌值。\n\n```python\nimport os\nfrom azure.identity import DefaultAzureCredential\n\n# 获取 Azure 凭据\ncredential = DefaultAzureCredential()\n\n# 将 API 类型设置为 `azure_ad`\nos.environ[\"OPENAI_API_TYPE\"] = \"azure_ad\"\n# 将 API_KEY 设置为来自 Azure 凭据的令牌\nos.environ[\"OPENAI_API_KEY\"] = credential.get_token(\"https://cognitiveservices.azure.com/.default\").token\n```\n\n`DefaultAzureCredential` 类是开始使用 AAD 身份验证的简便方法。您也可以根据需要自定义凭据链。在下面的示例中，我们首先尝试托管标识，然后回退到 Azure CLI。如果您在 Azure 中运行代码，但希望在本地进行开发，这将非常有用。\n\n```python\nfrom azure.identity import ChainedTokenCredential, ManagedIdentityCredential, AzureCliCredential\n\ncredential = ChainedTokenCredential(\n    ManagedIdentityCredential(),\n    AzureCliCredential()\n)\n```\n\n## 部署\n使用 Azure OpenAI 时，您可以设置常见 GPT-3 和 Codex 模型的部署。调用 API 时，需要指定要使用的部署。\n\n_**注意**：本文档适用于 Azure 文本补全模型。GPT-4 等模型是聊天模型。它们具有略微不同的接口，可以通过 `AzureChatOpenAI` 类访问。有关 Azure 聊天模型的文档，请参阅[Azure 聊天 OpenAI 文档](/docs/integrations/chat/azure_chat_openai)。_\n\n假设您的部署名称是 `gpt-35-turbo-instruct-prod`。在 `openai` Python API 中，您可以使用 `engine` 参数指定此部署。例如：\n\n```python\nimport openai\n\nclient = openai.AzureOpenAI(\n    api_version=\"2023-12-01-preview\",\n)\n\nresponse = client.completions.create(\n    model=\"gpt-35-turbo-instruct-prod\",\n    prompt=\"Test prompt\"\n)\n```"
      ]
    },
    {
      "cell_type": "code",
      "execution_count": null,
      "id": "89fdb593-5a42-4098-87b7-1496fa511b1c",
      "metadata": {
        "tags": []
      },
      "outputs": [],
      "source": [
        "%pip install --upgrade --quiet  langchain-openai"
      ]
    },
    {
      "cell_type": "code",
      "execution_count": 1,
      "id": "faacfa54",
      "metadata": {},
      "outputs": [],
      "source": [
        "import os\n",
        "\n",
        "os.environ[\"OPENAI_API_VERSION\"] = \"2023-12-01-preview\"\n",
        "os.environ[\"AZURE_OPENAI_ENDPOINT\"] = \"...\"\n",
        "os.environ[\"AZURE_OPENAI_API_KEY\"] = \"...\""
      ]
    },
    {
      "cell_type": "code",
      "execution_count": 2,
      "id": "8fad2a6e",
      "metadata": {},
      "outputs": [],
      "source": [
        "# Import Azure OpenAI\n",
        "from langchain_openai import AzureOpenAI"
      ]
    },
    {
      "cell_type": "code",
      "execution_count": 3,
      "id": "8c80213a",
      "metadata": {},
      "outputs": [],
      "source": [
        "# Create an instance of Azure OpenAI\n",
        "# Replace the deployment name with your own\n",
        "llm = AzureOpenAI(\n",
        "    deployment_name=\"gpt-35-turbo-instruct-0914\",\n",
        ")"
      ]
    },
    {
      "cell_type": "code",
      "execution_count": 5,
      "id": "592dc404",
      "metadata": {},
      "outputs": [
        {
          "data": {
            "text/plain": [
              "\" Why couldn't the bicycle stand up by itself?\\n\\nBecause it was two-tired!\""
            ]
          },
          "execution_count": 5,
          "metadata": {},
          "output_type": "execute_result"
        }
      ],
      "source": [
        "# Run the LLM\n",
        "llm.invoke(\"Tell me a joke\")"
      ]
    },
    {
      "cell_type": "markdown",
      "id": "bbfebea1",
      "metadata": {},
      "source": [
        "我们还可以打印 LLM 并查看其自定义打印。"
      ]
    },
    {
      "cell_type": "code",
      "execution_count": 6,
      "id": "9c33fa19",
      "metadata": {},
      "outputs": [
        {
          "name": "stdout",
          "output_type": "stream",
          "text": [
            "\u001b[1mAzureOpenAI\u001b[0m\n",
            "Params: {'deployment_name': 'gpt-35-turbo-instruct-0914', 'model_name': 'gpt-3.5-turbo-instruct', 'temperature': 0.7, 'top_p': 1, 'frequency_penalty': 0, 'presence_penalty': 0, 'n': 1, 'logit_bias': {}, 'max_tokens': 256}\n"
          ]
        }
      ],
      "source": [
        "print(llm)"
      ]
    },
    {
      "cell_type": "code",
      "execution_count": null,
      "id": "5a8b5917",
      "metadata": {},
      "outputs": [],
      "source": []
    }
  ],
  "metadata": {
    "kernelspec": {
      "display_name": "Python 3 (ipykernel)",
      "language": "python",
      "name": "python3"
    },
    "language_info": {
      "codemirror_mode": {
        "name": "ipython",
        "version": 3
      },
      "file_extension": ".py",
      "mimetype": "text/x-python",
      "name": "python",
      "nbconvert_exporter": "python",
      "pygments_lexer": "ipython3",
      "version": "3.10.12"
    },
    "vscode": {
      "interpreter": {
        "hash": "3bae61d45a4f4d73ecea8149862d4bfbae7d4d4a2f71b6e609a1be8f6c8d4298"
      }
    }
  },
  "nbformat": 4,
  "nbformat_minor": 5
}