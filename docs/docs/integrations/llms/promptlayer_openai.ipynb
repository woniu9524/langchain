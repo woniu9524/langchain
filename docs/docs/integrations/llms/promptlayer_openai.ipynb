{
  "cells": [
    {
      "cell_type": "markdown",
      "id": "959300d4",
      "metadata": {},
      "source": [
        "# PromptLayer OpenAI\n\n`PromptLayer` 是首个允许您跟踪、管理和共享 GPT prompt 工程的平台。`PromptLayer` 在您的代码和 `OpenAI` 的 python 库之间充当中介。\n\n`PromptLayer` 记录您的所有 `OpenAI API` 请求，允许您在 `PromptLayer` 控制面板中搜索和浏览请求历史记录。\n\n此示例展示了如何连接到 [PromptLayer](https://www.promptlayer.com) 以开始记录您的 OpenAI 请求。\n\n另一个示例链接在此处：[here](/docs/integrations/providers/promptlayer)。"
      ]
    },
    {
      "cell_type": "markdown",
      "id": "6a45943e",
      "metadata": {},
      "source": [
        "## 安装 PromptLayer\n要将 PromptLayer 与 OpenAI 结合使用，需要安装 `promptlayer` 包。请使用 pip 安装 `promptlayer`。"
      ]
    },
    {
      "cell_type": "code",
      "execution_count": null,
      "id": "dbe09bd8",
      "metadata": {
        "tags": [],
        "vscode": {
          "languageId": "powershell"
        }
      },
      "outputs": [],
      "source": [
        "%pip install --upgrade --quiet  promptlayer"
      ]
    },
    {
      "cell_type": "markdown",
      "id": "536c1dfa",
      "metadata": {},
      "source": [
        "## Imports"
      ]
    },
    {
      "cell_type": "code",
      "execution_count": 3,
      "id": "c16da3b5",
      "metadata": {
        "tags": []
      },
      "outputs": [],
      "source": [
        "import os\n",
        "\n",
        "import promptlayer\n",
        "from langchain_community.llms import PromptLayerOpenAI"
      ]
    },
    {
      "cell_type": "markdown",
      "id": "8564ce7d",
      "metadata": {},
      "source": [
        "## 设置环境变量 API 密钥\n你可以在 www.promptlayer.com 上创建 PromptLayer API 密钥，只需点击导航栏中的设置图标即可。\n\n将其设置为名为 `PROMPTLAYER_API_KEY` 的环境变量。\n\n你还需要一个名为 `OPENAI_API_KEY` 的 OpenAI 密钥。"
      ]
    },
    {
      "cell_type": "code",
      "execution_count": 2,
      "id": "1df96674-a9fb-4126-bb87-541082782240",
      "metadata": {
        "tags": []
      },
      "outputs": [
        {
          "name": "stdin",
          "output_type": "stream",
          "text": [
            " ········\n"
          ]
        }
      ],
      "source": [
        "from getpass import getpass\n",
        "\n",
        "PROMPTLAYER_API_KEY = getpass()"
      ]
    },
    {
      "cell_type": "code",
      "execution_count": 9,
      "id": "46ba25dc",
      "metadata": {
        "tags": []
      },
      "outputs": [],
      "source": [
        "os.environ[\"PROMPTLAYER_API_KEY\"] = PROMPTLAYER_API_KEY"
      ]
    },
    {
      "cell_type": "code",
      "execution_count": 6,
      "id": "9aa68c46-4d88-45ba-8a83-18fa41b4daed",
      "metadata": {
        "tags": []
      },
      "outputs": [
        {
          "name": "stdin",
          "output_type": "stream",
          "text": [
            " ········\n"
          ]
        }
      ],
      "source": [
        "from getpass import getpass\n",
        "\n",
        "OPENAI_API_KEY = getpass()"
      ]
    },
    {
      "cell_type": "code",
      "execution_count": 7,
      "id": "6023b6fa-d9db-49d6-b713-0e19686119b0",
      "metadata": {
        "tags": []
      },
      "outputs": [],
      "source": [
        "os.environ[\"OPENAI_API_KEY\"] = OPENAI_API_KEY"
      ]
    },
    {
      "cell_type": "markdown",
      "id": "bf0294de",
      "metadata": {},
      "source": [
        "## 正常使用 PromptLayerOpenAI LLM\n*您可以选择性地传递 `pl_tags` 来使用 PromptLayer 的标记功能跟踪您的请求。*"
      ]
    },
    {
      "cell_type": "code",
      "execution_count": null,
      "id": "3acf0069",
      "metadata": {
        "tags": []
      },
      "outputs": [],
      "source": [
        "llm = PromptLayerOpenAI(pl_tags=[\"langchain\"])\n",
        "llm(\"I am a cat and I want\")"
      ]
    },
    {
      "cell_type": "markdown",
      "id": "a2d76826",
      "metadata": {},
      "source": [
        "**您现在的请求应该会显示在您的 [PromptLayer dashboard](https://www.promptlayer.com) 上。**"
      ]
    },
    {
      "cell_type": "markdown",
      "id": "05e9e2fe",
      "metadata": {},
      "source": [
        "## 使用 PromptLayer Track\n\n如果您想使用任何 [PromptLayer 跟踪功能](https://magniv.notion.site/Track-4deee1b1f7a34c1680d085f82567dab9)，您需要在实例化 PromptLayer LLM 时传递 `return_pl_id` 参数以获取请求 id。"
      ]
    },
    {
      "cell_type": "code",
      "execution_count": null,
      "id": "1a7315b9",
      "metadata": {},
      "outputs": [],
      "source": [
        "llm = PromptLayerOpenAI(return_pl_id=True)\n",
        "llm_results = llm.generate([\"Tell me a joke\"])\n",
        "\n",
        "for res in llm_results.generations:\n",
        "    pl_request_id = res[0].generation_info[\"pl_request_id\"]\n",
        "    promptlayer.track.score(request_id=pl_request_id, score=100)"
      ]
    },
    {
      "cell_type": "markdown",
      "id": "7eb19139",
      "metadata": {},
      "source": [
        "通过使用此功能，您可以在 PromptLayer 仪表板中跟踪模型的性能。如果您使用的是提示模板，也可以将模板附加到请求中。\n总而言之，这为您提供了在 PromptLayer 仪表板中跟踪不同模板和模型性能的机会。"
      ]
    }
  ],
  "metadata": {
    "kernelspec": {
      "display_name": "Python 3 (ipykernel)",
      "language": "python",
      "name": "python3"
    },
    "language_info": {
      "codemirror_mode": {
        "name": "ipython",
        "version": 3
      },
      "file_extension": ".py",
      "mimetype": "text/x-python",
      "name": "python",
      "nbconvert_exporter": "python",
      "pygments_lexer": "ipython3",
      "version": "3.11.6"
    },
    "vscode": {
      "interpreter": {
        "hash": "8a5edab282632443219e051e4ade2d1d5bbc671c781051bf1437897cbdfea0f1"
      }
    }
  },
  "nbformat": 4,
  "nbformat_minor": 5
}