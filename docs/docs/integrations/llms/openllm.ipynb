{
  "cells": [
    {
      "cell_type": "markdown",
      "id": "026cc336",
      "metadata": {},
      "source": [
        "# OpenLLM\n\n[🦾 OpenLLM](https://github.com/bentoml/OpenLLM) 让开发者只需**一条命令**即可将任何**开源 LLM** 运行为**兼容 OpenAI 的 API** 端点。\n\n- 🔬 为快速和生产用途而构建\n- 🚂 支持 llama3, qwen2, gemma 等模型，以及许多**量化**版本 [完整列表](https://github.com/bentoml/openllm-models)\n- ⛓️ 兼容 OpenAI 的 API\n- 💬 内置类似 ChatGPT 的 UI\n- 🔥 使用最先进的推理后端加速 LLM 解码\n- 🌥️ 可用于企业级云部署（Kubernetes, Docker 和 BentoCloud）"
      ]
    },
    {
      "cell_type": "markdown",
      "id": "da0ddca1",
      "metadata": {},
      "source": [
        "## 安装\n\n通过 [PyPI](https://pypi.org/project/openllm/) 安装 `openllm`"
      ]
    },
    {
      "cell_type": "code",
      "execution_count": null,
      "id": "6601c03b",
      "metadata": {},
      "outputs": [],
      "source": [
        "%pip install --upgrade --quiet  openllm"
      ]
    },
    {
      "cell_type": "markdown",
      "id": "90174fe3",
      "metadata": {},
      "source": [
        "## 在本地启动 OpenLLM 服务器\n\n要启动 LLM 服务器，请使用 `openllm hello` 命令：\n\n```bash\nopenllm hello\n```\n\n## Wrapper"
      ]
    },
    {
      "cell_type": "code",
      "execution_count": null,
      "id": "35b6bf60",
      "metadata": {},
      "outputs": [],
      "source": [
        "from langchain_community.llms import OpenLLM\n",
        "\n",
        "server_url = \"http://localhost:3000\"  # Replace with remote host if you are running on a remote server\n",
        "llm = OpenLLM(base_url=server_url, api_key=\"na\")"
      ]
    },
    {
      "cell_type": "code",
      "execution_count": null,
      "id": "56cb4bc0",
      "metadata": {},
      "outputs": [],
      "source": [
        "llm(\"To build a LLM from scratch, the following are the steps:\")"
      ]
    }
  ],
  "metadata": {
    "kernelspec": {
      "display_name": "Python 3 (ipykernel)",
      "language": "python",
      "name": "python3"
    },
    "language_info": {
      "codemirror_mode": {
        "name": "ipython",
        "version": 3
      },
      "file_extension": ".py",
      "mimetype": "text/x-python",
      "name": "python",
      "nbconvert_exporter": "python",
      "pygments_lexer": "ipython3",
      "version": "3.11.9"
    }
  },
  "nbformat": 4,
  "nbformat_minor": 5
}