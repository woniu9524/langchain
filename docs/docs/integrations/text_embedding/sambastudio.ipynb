{
  "cells": [
    {
      "cell_type": "raw",
      "id": "afaf8039",
      "metadata": {
        "vscode": {
          "languageId": "raw"
        }
      },
      "source": [
        "---\n",
        "sidebar_label: SambaStudio\n",
        "---"
      ]
    },
    {
      "cell_type": "markdown",
      "id": "9a3d6f34",
      "metadata": {},
      "source": [
        "# SambaStudioEmbeddings\n\n这将帮助您开始使用 LangChain 的 SambaNova's SambaStudio 嵌入模型。有关 `SambaStudioEmbeddings` 功能和配置选项的详细文档，请参阅 [API 参考](https://docs.sambanova.ai/sambastudio/latest/index.html)。\n\n**[SambaNova](https://sambanova.ai/)'s** [SambaStudio](https://sambanova.ai/technology/full-stack-ai-platform) 是一个运行您自己的开源模型的平台\n\n## 概述\n### 集成详情\n\n| Provider | Package |\n|:--------:|:-------:|\n| [SambaNova](/docs/integrations/providers/sambanova/) | [langchain-sambanova](https://python.langchain.com/docs/integrations/providers/sambanova/) |\n\n## 设置\n\n要访问 SambaStudio 模型，您需要在 SambaStudio 平台中 [部署一个端点](https://docs.sambanova.ai/sambastudio/latest/language-models.html)，并安装 `langchain_sambanova` 集成包。\n\n```bash\npip install langchain-sambanova\n```\n\n### 凭据\n\n从您的 SambaStudio 部署的端点获取 URL 和 API 密钥，并将它们添加到您的环境变量中：\n\n``` bash\nexport SAMBASTUDIO_URL=\"sambastudio-url-key-here\"\nexport SAMBASTUDIO_API_KEY=\"your-api-key-here\"\n```"
      ]
    },
    {
      "cell_type": "code",
      "execution_count": null,
      "id": "36521c2a",
      "metadata": {},
      "outputs": [],
      "source": [
        "import getpass\n",
        "import os\n",
        "\n",
        "if not os.getenv(\"SAMBASTUDIO_URL\"):\n",
        "    os.environ[\"SAMBASTUDIO_URL\"] = getpass.getpass(\n",
        "        \"Enter your SambaStudio endpoint URL: \"\n",
        "    )\n",
        "\n",
        "if not os.getenv(\"SAMBASTUDIO_API_KEY\"):\n",
        "    os.environ[\"SAMBASTUDIO_API_KEY\"] = getpass.getpass(\n",
        "        \"Enter your SambaStudio API key: \"\n",
        "    )"
      ]
    },
    {
      "cell_type": "markdown",
      "id": "c84fb993",
      "metadata": {},
      "source": [
        "如果你想获得模型调用的自动追踪，你也可以通过取消下面这行注释来设置你的 [LangSmith](https://docs.smith.langchain.com/) API 密钥："
      ]
    },
    {
      "cell_type": "code",
      "execution_count": null,
      "id": "39a4953b",
      "metadata": {},
      "outputs": [],
      "source": [
        "# os.environ[\"LANGCHAIN_TRACING_V2\"] = \"true\"\n",
        "# os.environ[\"LANGCHAIN_API_KEY\"] = getpass.getpass(\"Enter your LangSmith API key: \")"
      ]
    },
    {
      "cell_type": "markdown",
      "id": "d9664366",
      "metadata": {},
      "source": [
        "### 安装\n\nLangChain SambaNova 集成位于 `langchain-sambanova` 包中："
      ]
    },
    {
      "cell_type": "code",
      "execution_count": null,
      "id": "64853226",
      "metadata": {},
      "outputs": [],
      "source": [
        "%pip install -qU langchain-sambanova"
      ]
    },
    {
      "cell_type": "markdown",
      "id": "45dd1724",
      "metadata": {},
      "source": [
        "## 实例化\n\n现在我们可以实例化我们的模型对象并生成聊天补全："
      ]
    },
    {
      "cell_type": "code",
      "execution_count": null,
      "id": "9ea7a09b",
      "metadata": {},
      "outputs": [],
      "source": [
        "from langchain_sambanova import SambaStudioEmbeddings\n",
        "\n",
        "embeddings = SambaStudioEmbeddings(\n",
        "    model=\"e5-mistral-7b-instruct\",\n",
        ")"
      ]
    },
    {
      "cell_type": "markdown",
      "id": "77d271b6",
      "metadata": {},
      "source": [
        "## 索引与检索\n\n嵌入模型经常用于检索增强生成 (RAG) 的流程中，既可以作为索引数据的组成部分，也可以用于后续的检索。更多详细说明，请参阅我们的 [RAG 教程](/docs/tutorials/)。\n\n下方展示了如何使用我们上面初始化的 `embeddings` 对象来索引和检索数据。在此示例中，我们将索引并检索 `InMemoryVectorStore` 中的一个示例文档。"
      ]
    },
    {
      "cell_type": "code",
      "execution_count": null,
      "id": "d817716b",
      "metadata": {},
      "outputs": [],
      "source": [
        "# Create a vector store with a sample text\n",
        "from langchain_core.vectorstores import InMemoryVectorStore\n",
        "\n",
        "text = \"LangChain is the framework for building context-aware reasoning applications\"\n",
        "\n",
        "vectorstore = InMemoryVectorStore.from_texts(\n",
        "    [text],\n",
        "    embedding=embeddings,\n",
        ")\n",
        "\n",
        "# Use the vectorstore as a retriever\n",
        "retriever = vectorstore.as_retriever()\n",
        "\n",
        "# Retrieve the most similar text\n",
        "retrieved_documents = retriever.invoke(\"What is LangChain?\")\n",
        "\n",
        "# show the retrieved document's content\n",
        "retrieved_documents[0].page_content"
      ]
    },
    {
      "cell_type": "markdown",
      "id": "e02b9855",
      "metadata": {},
      "source": [
        "## 直接使用\n\n在底层，vectorstore 和 retriever 实现会分别调用 `embeddings.embed_documents(...)` 和 `embeddings.embed_query(...)` 来为 `from_texts` 和检索 `invoke` 操作中使用的文本创建 embedding。\n\n您可以直接调用这些方法来为自己的用例获取 embedding。\n\n### 嵌入单个文本\n\n您可以使用 `embed_query` 来嵌入单个文本或文档："
      ]
    },
    {
      "cell_type": "code",
      "execution_count": null,
      "id": "0d2befcd",
      "metadata": {},
      "outputs": [],
      "source": [
        "single_vector = embeddings.embed_query(text)\n",
        "print(str(single_vector)[:100])  # Show the first 100 characters of the vector"
      ]
    },
    {
      "cell_type": "markdown",
      "id": "1b5a7d03",
      "metadata": {},
      "source": [
        "### 嵌入多个文本\n\n您可以使用 `embed_documents` 来嵌入多个文本："
      ]
    },
    {
      "cell_type": "code",
      "execution_count": null,
      "id": "2f4d6e97",
      "metadata": {},
      "outputs": [],
      "source": [
        "text2 = (\n",
        "    \"LangGraph is a library for building stateful, multi-actor applications with LLMs\"\n",
        ")\n",
        "two_vectors = embeddings.embed_documents([text, text2])\n",
        "for vector in two_vectors:\n",
        "    print(str(vector)[:100])  # Show the first 100 characters of the vector"
      ]
    },
    {
      "cell_type": "markdown",
      "id": "98785c12",
      "metadata": {},
      "source": [
        "## API 参考\n\n关于 `SambaStudio` 功能和配置选项的详细文档，请参阅 [API 参考](https://docs.sambanova.ai/sambastudio/latest/api-ref-landing.html)。"
      ]
    }
  ],
  "metadata": {
    "kernelspec": {
      "display_name": "Python 3 (ipykernel)",
      "language": "python",
      "name": "python3"
    },
    "language_info": {
      "codemirror_mode": {
        "name": "ipython",
        "version": 3
      },
      "file_extension": ".py",
      "mimetype": "text/x-python",
      "name": "python",
      "nbconvert_exporter": "python",
      "pygments_lexer": "ipython3",
      "version": "3.10.5"
    }
  },
  "nbformat": 4,
  "nbformat_minor": 5
}