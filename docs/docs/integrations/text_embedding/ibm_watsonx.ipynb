{
  "cells": [
    {
      "cell_type": "markdown",
      "metadata": {},
      "source": [
        "# IBM watsonx.ai\n\n>WatsonxEmbeddings 是 IBM [watsonx.ai](https://www.ibm.com/products/watsonx-ai) 基础模型的封装器。\n\n此示例展示了如何使用 `LangChain` 与 `watsonx.ai` 模型进行通信。"
      ]
    },
    {
      "cell_type": "markdown",
      "metadata": {},
      "source": [
        "## 概览\n### 集成详情\n\nimport { ItemTable } from \"@theme/FeatureTables\";\n\n<ItemTable category=\"text_embedding\" item=\"IBM\" />"
      ]
    },
    {
      "cell_type": "markdown",
      "metadata": {},
      "source": [
        "## 设置\n\n要访问 IBM watsonx.ai 模型，您需要创建一个 IBM watsonx.ai 帐户、获取 API 密钥，并安装 `langchain-ibm` 集成包。\n\n### 凭证\n\n此单元格定义了使用 watsonx Embeddings 所需的 WML 凭证。\n\n**操作：** 提供 IBM Cloud 用户 API 密钥。有关详细信息，请参阅\n[文档](https://cloud.ibm.com/docs/account?topic=account-userapikey&interface=ui)。"
      ]
    },
    {
      "cell_type": "code",
      "execution_count": 1,
      "metadata": {},
      "outputs": [],
      "source": [
        "import os\n",
        "from getpass import getpass\n",
        "\n",
        "watsonx_api_key = getpass()\n",
        "os.environ[\"WATSONX_APIKEY\"] = watsonx_api_key"
      ]
    },
    {
      "cell_type": "markdown",
      "metadata": {},
      "source": [
        "您还可以将其他 Secret 作为环境变量传递。"
      ]
    },
    {
      "cell_type": "code",
      "execution_count": null,
      "metadata": {},
      "outputs": [],
      "source": [
        "import os\n",
        "\n",
        "os.environ[\"WATSONX_URL\"] = \"your service instance url\"\n",
        "os.environ[\"WATSONX_TOKEN\"] = \"your token for accessing the CPD cluster\"\n",
        "os.environ[\"WATSONX_PASSWORD\"] = \"your password for accessing the CPD cluster\"\n",
        "os.environ[\"WATSONX_USERNAME\"] = \"your username for accessing the CPD cluster\"\n",
        "os.environ[\"WATSONX_INSTANCE_ID\"] = \"your instance_id for accessing the CPD cluster\""
      ]
    },
    {
      "cell_type": "markdown",
      "metadata": {},
      "source": [
        "### 安装\n\nLangChain IBM 集成位于 `langchain-ibm` 包中："
      ]
    },
    {
      "cell_type": "code",
      "execution_count": null,
      "metadata": {},
      "outputs": [],
      "source": [
        "!pip install -qU langchain-ibm"
      ]
    },
    {
      "cell_type": "markdown",
      "metadata": {},
      "source": [
        "## 实例化\n\n你可能需要为不同的模型调整模型 `parameters`。"
      ]
    },
    {
      "cell_type": "code",
      "execution_count": 1,
      "metadata": {},
      "outputs": [],
      "source": [
        "from ibm_watsonx_ai.metanames import EmbedTextParamsMetaNames\n",
        "\n",
        "embed_params = {\n",
        "    EmbedTextParamsMetaNames.TRUNCATE_INPUT_TOKENS: 3,\n",
        "    EmbedTextParamsMetaNames.RETURN_OPTIONS: {\"input_text\": True},\n",
        "}"
      ]
    },
    {
      "cell_type": "markdown",
      "metadata": {},
      "source": [
        "初始化 `WatsonxEmbeddings` 类以使用先前设置的参数。\n\n\n**注意**:\n\n- 为 API 调用提供上下文，您必须添加 `project_id` 或 `space_id`。有关更多信息，请参阅 [文档](https://www.ibm.com/docs/en/watsonx-as-a-service?topic=projects)。\n- 根据您配置的服务实例的区域，使用此处所述的其中一个 url [链接](https://ibm.github.io/watsonx-ai-python-sdk/setup_cloud.html#authentication)。\n\n在此示例中，我们将使用 `project_id` 和达拉斯 url。\n\n\n您需要指定 `model_id` 以供推理使用。"
      ]
    },
    {
      "cell_type": "code",
      "execution_count": null,
      "metadata": {},
      "outputs": [],
      "source": [
        "from langchain_ibm import WatsonxEmbeddings\n",
        "\n",
        "watsonx_embedding = WatsonxEmbeddings(\n",
        "    model_id=\"ibm/granite-embedding-107m-multilingual\",\n",
        "    url=\"https://us-south.ml.cloud.ibm.com\",\n",
        "    project_id=\"PASTE YOUR PROJECT_ID HERE\",\n",
        "    params=embed_params,\n",
        ")"
      ]
    },
    {
      "cell_type": "markdown",
      "metadata": {},
      "source": [
        "或者，您也可以使用 Cloud Pak for Data 凭证。有关详细信息，请参阅[文档](https://ibm.github.io/watsonx-ai-python-sdk/setup_cpd.html)。"
      ]
    },
    {
      "cell_type": "code",
      "execution_count": null,
      "metadata": {},
      "outputs": [],
      "source": [
        "watsonx_embedding = WatsonxEmbeddings(\n",
        "    model_id=\"ibm/granite-embedding-107m-multilingual\",\n",
        "    url=\"PASTE YOUR URL HERE\",\n",
        "    username=\"PASTE YOUR USERNAME HERE\",\n",
        "    password=\"PASTE YOUR PASSWORD HERE\",\n",
        "    instance_id=\"openshift\",\n",
        "    version=\"4.8\",\n",
        "    project_id=\"PASTE YOUR PROJECT_ID HERE\",\n",
        "    params=embed_params,\n",
        ")"
      ]
    },
    {
      "cell_type": "markdown",
      "metadata": {},
      "source": [
        "对于某些要求，可以选择将 IBM 的 [`APIClient`](https://ibm.github.io/watsonx-ai-python-sdk/base.html#apiclient) 对象传递给 `WatsonxEmbeddings` 类。"
      ]
    },
    {
      "cell_type": "code",
      "execution_count": null,
      "metadata": {},
      "outputs": [],
      "source": [
        "from ibm_watsonx_ai import APIClient\n",
        "\n",
        "api_client = APIClient(...)\n",
        "\n",
        "watsonx_embedding = WatsonxEmbeddings(\n",
        "    model_id=\"ibm/granite-embedding-107m-multilingual\",\n",
        "    watsonx_client=api_client,\n",
        ")"
      ]
    },
    {
      "cell_type": "markdown",
      "metadata": {},
      "source": [
        "## 索引和检索\n\n嵌入模型通常用于检索增强生成（RAG）流程，既可以作为索引数据的一部分，也可以在之后检索数据。有关更详细的说明，请参阅我们的 [RAG 教程](/docs/tutorials/)。\n\n下面我们将展示如何使用上面初始化的 `embeddings` 对象来索引和检索数据。在此示例中，我们将在 `InMemoryVectorStore` 中索引和检索一个示例文档。"
      ]
    },
    {
      "cell_type": "code",
      "execution_count": 3,
      "metadata": {},
      "outputs": [
        {
          "data": {
            "text/plain": [
              "'LangChain is the framework for building context-aware reasoning applications'"
            ]
          },
          "execution_count": 3,
          "metadata": {},
          "output_type": "execute_result"
        }
      ],
      "source": [
        "# Create a vector store with a sample text\n",
        "from langchain_core.vectorstores import InMemoryVectorStore\n",
        "\n",
        "text = \"LangChain is the framework for building context-aware reasoning applications\"\n",
        "\n",
        "vectorstore = InMemoryVectorStore.from_texts(\n",
        "    [text],\n",
        "    embedding=watsonx_embedding,\n",
        ")\n",
        "\n",
        "# Use the vectorstore as a retriever\n",
        "retriever = vectorstore.as_retriever()\n",
        "\n",
        "# Retrieve the most similar text\n",
        "retrieved_documents = retriever.invoke(\"What is LangChain?\")\n",
        "\n",
        "# show the retrieved document's content\n",
        "retrieved_documents[0].page_content"
      ]
    },
    {
      "cell_type": "markdown",
      "metadata": {},
      "source": [
        "## 直接使用\n\n在底层，vectorstore 和 retriever 实现会分别调用 `embeddings.embed_documents(...)` 和 `embeddings.embed_query(...)` 来为 `from_texts` 和检索 `invoke` 操作中使用的文本创建嵌入。\n\n您可以直接调用这些方法来获取嵌入以满足您自己的用例。\n\n### 嵌入单个文本\n\n您可以使用 `embed_query` 来嵌入单个文本或文档："
      ]
    },
    {
      "cell_type": "code",
      "execution_count": 4,
      "metadata": {},
      "outputs": [
        {
          "data": {
            "text/plain": [
              "[0.009447193, -0.024981951, -0.026013248, -0.040483937, -0.05780445]"
            ]
          },
          "execution_count": 4,
          "metadata": {},
          "output_type": "execute_result"
        }
      ],
      "source": [
        "text = \"This is a test document.\"\n",
        "\n",
        "query_result = watsonx_embedding.embed_query(text)\n",
        "query_result[:5]"
      ]
    },
    {
      "cell_type": "markdown",
      "metadata": {},
      "source": [
        "### 嵌入多个文本\n\n您可以使用 `embed_documents` 来嵌入多个文本："
      ]
    },
    {
      "cell_type": "code",
      "execution_count": 5,
      "metadata": {},
      "outputs": [
        {
          "data": {
            "text/plain": [
              "[0.009447167, -0.024981938, -0.02601326, -0.04048393, -0.05780444]"
            ]
          },
          "execution_count": 5,
          "metadata": {},
          "output_type": "execute_result"
        }
      ],
      "source": [
        "texts = [\"This is a content of the document\", \"This is another document\"]\n",
        "\n",
        "doc_result = watsonx_embedding.embed_documents(texts)\n",
        "doc_result[0][:5]"
      ]
    },
    {
      "cell_type": "markdown",
      "metadata": {},
      "source": [
        "## API 参考\n\n有关 `WatsonxEmbeddings` 所有功能和配置的详细文档，请访问[API 参考](https://python.langchain.com/api_reference/ibm/embeddings/langchain_ibm.embeddings.WatsonxEmbeddings.html)。"
      ]
    }
  ],
  "metadata": {
    "kernelspec": {
      "display_name": "langchain_ibm",
      "language": "python",
      "name": "python3"
    },
    "language_info": {
      "codemirror_mode": {
        "name": "ipython",
        "version": 3
      },
      "file_extension": ".py",
      "mimetype": "text/x-python",
      "name": "python",
      "nbconvert_exporter": "python",
      "pygments_lexer": "ipython3",
      "version": "3.11.12"
    }
  },
  "nbformat": 4,
  "nbformat_minor": 2
}