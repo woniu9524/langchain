{
  "cells": [
    {
      "cell_type": "raw",
      "id": "afaf8039",
      "metadata": {},
      "source": [
        "---\n",
        "sidebar_label: Naver\n",
        "---"
      ]
    },
    {
      "cell_type": "markdown",
      "id": "e49f1e0d",
      "metadata": {},
      "source": [
        "# ClovaXEmbeddings\n\n本 Notebook 介绍了如何开始使用 CLOVA Studio 提供的嵌入模型。有关 `ClovaXEmbeddings` 功能和配置选项的详细文档，请参阅 [API 参考](https://guide.ncloud-docs.com/docs/clovastudio-dev-langchain#%EC%9E%84%EB%B2%A0%EB%94%A9%EB%8F%84%EA%B5%AC%EC%9D%B4%EC%9A%A9)。\n\n## 概述\n### 集成详情\n\n| 提供商 | 包 |\n|:--------:|:-------:|\n| [Naver](/docs/integrations/providers/naver.mdx) | [langchain-naver](https://pypi.org/project/langchain-naver/) |\n\n## 设置\n\n在使用 CLOVA Studio 提供的嵌入模型之前，您必须完成以下三个步骤。\n\n1. 创建 [NAVER Cloud Platform](https://www.ncloud.com/) 账户 \n2. 申请使用 [CLOVA Studio](https://www.ncloud.com/product/aiService/clovaStudio)\n3. 创建一个 CLOVA Studio 测试应用或服务应用以供使用（参见 [此处](https://guide.ncloud-docs.com/docs/clovastudio-explorer03#%ED%85%8C%EC%8A%A4%ED%8A%B8%EC%95%B1%EC%83%9D%EC%84%B1)。）\n4. 签发测试或服务 API 密钥（参见 [此处](https://guide.ncloud-docs.com/docs/clovastudio-explorer-testapp)。）\n\n### 凭证\n\n在 `CLOVASTUDIO_API_KEY` 环境变量中设置您的 API 密钥。"
      ]
    },
    {
      "cell_type": "code",
      "execution_count": null,
      "id": "c52e8a50-3e67-4272-bc80-3954d98f8dea",
      "metadata": {},
      "outputs": [],
      "source": [
        "import getpass\n",
        "import os\n",
        "\n",
        "if not os.getenv(\"CLOVASTUDIO_API_KEY\"):\n",
        "    os.environ[\"CLOVASTUDIO_API_KEY\"] = getpass.getpass(\"Enter CLOVA Studio API Key: \")"
      ]
    },
    {
      "cell_type": "markdown",
      "id": "ff00653e",
      "metadata": {},
      "source": [
        "### 安装\n\nClovaXEmbeddings 集成位于 `langchain_naver` 包中："
      ]
    },
    {
      "cell_type": "code",
      "execution_count": null,
      "id": "99400c9b",
      "metadata": {},
      "outputs": [],
      "source": [
        "# install package\n",
        "%pip install -qU langchain-naver"
      ]
    },
    {
      "cell_type": "markdown",
      "id": "2651e611-9d5b-4315-9bbd-f99f56be4e19",
      "metadata": {},
      "source": [
        "## 实例化\n\n现在我们可以实例化我们的 embeddings 对象，并嵌入查询或文档：\n\n- CLOVA Studio 中有几种可用的 embedding 模型。请参阅[此处](https://guide.ncloud-docs.com/docs/en/clovastudio-explorer03#임베딩API)了解更多详情。\n- 请注意，根据您的具体用例，您可能需要对 embeddings 进行归一化。"
      ]
    },
    {
      "cell_type": "code",
      "execution_count": null,
      "id": "62e0dbc3",
      "metadata": {
        "scrolled": true,
        "tags": []
      },
      "outputs": [],
      "source": [
        "from langchain_naver import ClovaXEmbeddings\n",
        "\n",
        "embeddings = ClovaXEmbeddings(\n",
        "    model=\"clir-emb-dolphin\"  # set with the model name of corresponding test/service app. Default is `clir-emb-dolphin`\n",
        ")"
      ]
    },
    {
      "cell_type": "markdown",
      "id": "0493b4a8",
      "metadata": {},
      "source": [
        "## 索引与检索\n\n嵌入模型常用于检索增强生成（RAG）流程中，既可用于索引数据，也可用于后续检索。更多详细说明，请参阅我们的 [RAG 教程](/docs/tutorials/)。\n\n下面将介绍如何使用我们上面初始化的 `embeddings` 对象来索引和检索数据。在本示例中，我们将会在 `InMemoryVectorStore` 中索引和检索一个示例文档。"
      ]
    },
    {
      "cell_type": "code",
      "execution_count": 8,
      "id": "d4d59653",
      "metadata": {},
      "outputs": [
        {
          "data": {
            "text/plain": [
              "'CLOVA Studio is an AI development tool that allows you to customize your own HyperCLOVA X models.'"
            ]
          },
          "execution_count": 8,
          "metadata": {},
          "output_type": "execute_result"
        }
      ],
      "source": [
        "# Create a vector store with a sample text\n",
        "from langchain_core.vectorstores import InMemoryVectorStore\n",
        "\n",
        "text = \"CLOVA Studio is an AI development tool that allows you to customize your own HyperCLOVA X models.\"\n",
        "\n",
        "vectorstore = InMemoryVectorStore.from_texts(\n",
        "    [text],\n",
        "    embedding=embeddings,\n",
        ")\n",
        "\n",
        "# Use the vectorstore as a retriever\n",
        "retriever = vectorstore.as_retriever()\n",
        "\n",
        "# Retrieve the most similar text\n",
        "retrieved_documents = retriever.invoke(\"What is CLOVA Studio?\")\n",
        "\n",
        "# show the retrieved document's content\n",
        "retrieved_documents[0].page_content"
      ]
    },
    {
      "cell_type": "markdown",
      "id": "b1a249e1",
      "metadata": {},
      "source": [
        "## 直接使用\n\n在底层，vectorstore 和 retriever 的实现会调用 `embeddings.embed_documents(...)` 和 `embeddings.embed_query(...)` 分别为 `from_texts` 和 retrieval `invoke` 操作中使用的文本创建 embeddings。\n\n你可以直接调用这些方法来为自己的用例获取 embeddings。\n\n### 嵌入单个文本\n\n你可以使用 `embed_query` 来嵌入单个文本或文档："
      ]
    },
    {
      "cell_type": "code",
      "execution_count": 9,
      "id": "12fcfb4b",
      "metadata": {},
      "outputs": [
        {
          "name": "stdout",
          "output_type": "stream",
          "text": [
            "[-0.094717406, -0.4077411, -0.5513184, 1.6024436, -1.3235079, -1.0720996, -0.44471845, 1.3665184, 0.\n"
          ]
        }
      ],
      "source": [
        "single_vector = embeddings.embed_query(text)\n",
        "print(str(single_vector)[:100])  # Show the first 100 characters of the vector"
      ]
    },
    {
      "cell_type": "markdown",
      "id": "8b383b53",
      "metadata": {},
      "source": [
        "### 嵌入多个文本\n\n您可以使用 `embed_documents` 来嵌入多个文本："
      ]
    },
    {
      "cell_type": "code",
      "execution_count": null,
      "id": "1f2e6104",
      "metadata": {},
      "outputs": [
        {
          "name": "stdout",
          "output_type": "stream",
          "text": [
            "[-0.094717406, -0.4077411, -0.5513184, 1.6024436, -1.3235079, -1.0720996, -0.44471845, 1.3665184, 0.\n",
            "[-0.25525448, -0.84877056, -0.6928286, 1.5867524, -1.2930486, -0.8166254, -0.17934391, 1.4236152, 0.\n"
          ]
        }
      ],
      "source": [
        "text2 = \"LangChain is a framework for building context-aware reasoning applications\"\n",
        "two_vectors = embeddings.embed_documents([text, text2])\n",
        "for vector in two_vectors:\n",
        "    print(str(vector)[:100])  # Show the first 100 characters of the vector"
      ]
    },
    {
      "cell_type": "markdown",
      "id": "1ddeaee9",
      "metadata": {},
      "source": [
        "## API 参考\n\n关于 `ClovaXEmbeddings` 的详细文档及其配置选项，请参考[API 参考](https://guide.ncloud-docs.com/docs/clovastudio-dev-langchain#%EC%9E%84%EB%B2%A0%EB%94%A9%EB%8F%84%EA%B5%AC%EC%9D%B4%EC%9A%A9)。"
      ]
    }
  ],
  "metadata": {
    "kernelspec": {
      "display_name": "Python 3 (ipykernel)",
      "language": "python",
      "name": "python3"
    },
    "language_info": {
      "codemirror_mode": {
        "name": "ipython",
        "version": 3
      },
      "file_extension": ".py",
      "mimetype": "text/x-python",
      "name": "python",
      "nbconvert_exporter": "python",
      "pygments_lexer": "ipython3",
      "version": "3.12.3"
    }
  },
  "nbformat": 4,
  "nbformat_minor": 5
}