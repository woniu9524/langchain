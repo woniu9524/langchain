{
  "cells": [
    {
      "cell_type": "raw",
      "id": "afaf8039",
      "metadata": {},
      "source": [
        "---\n",
        "sidebar_label: Nebius\n",
        "---"
      ]
    },
    {
      "cell_type": "markdown",
      "id": "2970dd75-8ebf-4b51-8282-9b454b8f356d",
      "metadata": {},
      "source": [
        "# Nebius 文本嵌入\n\n[Nebius AI Studio](https://studio.nebius.ai/) 通过统一的接口提供对高质量嵌入模型的 API 访问。Nebius 嵌入模型将文本转换为能够捕捉语义含义的数值向量，使其适用于语义搜索、聚类和推荐等各种应用。"
      ]
    },
    {
      "cell_type": "markdown",
      "id": "overview-section",
      "metadata": {},
      "source": [
        "## 概述\n\n`NebiusEmbeddings` 类通过 LangChain 提供对 Nebius AI Studio 嵌入模型的访问。这些嵌入可用于语义搜索、文档相似性以及其他需要文本向量表示的 NLP 任务。\n\n### 集成详情\n\n- **提供商**: Nebius AI Studio\n- **模型类型**: 文本嵌入模型\n- **主要用例**: 生成文本的向量表示，用于语义相似性和检索\n- **可用模型**: 包括 BAAI/bge-en-icl 在内的各种嵌入模型\n- **维度**: 因模型而异（通常为 1024-4096 维）"
      ]
    },
    {
      "cell_type": "markdown",
      "id": "setup-section",
      "metadata": {},
      "source": [
        "## 设置\n\n### 安装\n\nNebius 集成可以通过 pip 安装："
      ]
    },
    {
      "cell_type": "code",
      "execution_count": null,
      "id": "1ecdb29d",
      "metadata": {},
      "outputs": [],
      "source": [
        "%pip install --upgrade langchain-nebius"
      ]
    },
    {
      "cell_type": "markdown",
      "id": "89883202",
      "metadata": {},
      "source": [
        "### 凭证\n\nNebius 需要一个 API 密钥，该密钥可以通过初始化参数 `api_key` 传递，或者设置为环境变量 `NEBIUS_API_KEY`。您可以通过在 [Nebius AI Studio](https://studio.nebius.ai/) 创建账户来获取 API 密钥。"
      ]
    },
    {
      "cell_type": "code",
      "execution_count": 1,
      "id": "637bb53f",
      "metadata": {},
      "outputs": [],
      "source": [
        "import getpass\n",
        "import os\n",
        "\n",
        "# Make sure you've set your API key as an environment variable\n",
        "if \"NEBIUS_API_KEY\" not in os.environ:\n",
        "    os.environ[\"NEBIUS_API_KEY\"] = getpass.getpass(\"Enter your Nebius API key: \")"
      ]
    },
    {
      "cell_type": "markdown",
      "id": "instantiation-section",
      "metadata": {},
      "source": [
        "## 实例化\n\n`NebiusEmbeddings` 类可以通过可选的 API 密钥和模型名称参数进行实例化："
      ]
    },
    {
      "cell_type": "code",
      "execution_count": 2,
      "id": "37e9dc05",
      "metadata": {},
      "outputs": [],
      "source": [
        "from langchain_nebius import NebiusEmbeddings\n",
        "\n",
        "# Initialize the embeddings model\n",
        "embeddings = NebiusEmbeddings(\n",
        "    # api_key=\"YOUR_API_KEY\",  # You can pass the API key directly\n",
        "    model=\"BAAI/bge-en-icl\"  # The default embedding model\n",
        ")"
      ]
    },
    {
      "cell_type": "markdown",
      "id": "available-models",
      "metadata": {},
      "source": [
        "### 可用模型\n\n支持的模型列表可在 https://studio.nebius.com/?modality=embedding 找到"
      ]
    },
    {
      "cell_type": "markdown",
      "id": "indexing-retrieval-section",
      "metadata": {},
      "source": [
        "## 索引与检索\n\nEmbedding 模型常用于检索增强生成 (RAG) 工作流中，用于数据的索引和后续检索。下面的示例演示了如何将 `NebiusEmbeddings` 与向量存储库结合使用以进行文档检索。"
      ]
    },
    {
      "cell_type": "code",
      "execution_count": 3,
      "id": "123da4fb",
      "metadata": {},
      "outputs": [
        {
          "name": "stdout",
          "output_type": "stream",
          "text": [
            "Search results for query: How does the brain influence AI?\n",
            "Result 1: Neural networks are inspired by the human brain's structure\n",
            "Result 2: Deep learning uses neural networks with many layers\n"
          ]
        }
      ],
      "source": [
        "from langchain_community.vectorstores import FAISS\n",
        "from langchain_core.documents import Document\n",
        "\n",
        "# Prepare documents\n",
        "docs = [\n",
        "    Document(\n",
        "        page_content=\"Machine learning algorithms build mathematical models based on sample data\"\n",
        "    ),\n",
        "    Document(page_content=\"Deep learning uses neural networks with many layers\"),\n",
        "    Document(page_content=\"Climate change is a major global environmental challenge\"),\n",
        "    Document(\n",
        "        page_content=\"Neural networks are inspired by the human brain's structure\"\n",
        "    ),\n",
        "]\n",
        "\n",
        "# Create vector store\n",
        "vector_store = FAISS.from_documents(docs, embeddings)\n",
        "\n",
        "# Perform similarity search\n",
        "query = \"How does the brain influence AI?\"\n",
        "results = vector_store.similarity_search(query, k=2)\n",
        "\n",
        "print(\"Search results for query:\", query)\n",
        "for i, doc in enumerate(results):\n",
        "    print(f\"Result {i+1}: {doc.page_content}\")"
      ]
    },
    {
      "cell_type": "markdown",
      "id": "in-memory-vectorstore",
      "metadata": {},
      "source": [
        "### 与 InMemoryVectorStore 一起使用\n\n您也可以为轻量级应用程序使用 `InMemoryVectorStore`："
      ]
    },
    {
      "cell_type": "code",
      "execution_count": 4,
      "id": "vectorstore-example",
      "metadata": {},
      "outputs": [
        {
          "name": "stdout",
          "output_type": "stream",
          "text": [
            "Retrieved document: LangChain is a framework for developing applications powered by language models\n"
          ]
        }
      ],
      "source": [
        "from langchain_core.vectorstores import InMemoryVectorStore\n",
        "\n",
        "# Create a sample text\n",
        "text = \"LangChain is a framework for developing applications powered by language models\"\n",
        "\n",
        "# Create a vector store\n",
        "vectorstore = InMemoryVectorStore.from_texts(\n",
        "    [text],\n",
        "    embedding=embeddings,\n",
        ")\n",
        "\n",
        "# Use as a retriever\n",
        "retriever = vectorstore.as_retriever()\n",
        "\n",
        "# Retrieve similar documents\n",
        "docs = retriever.invoke(\"What is LangChain?\")\n",
        "print(f\"Retrieved document: {docs[0].page_content}\")"
      ]
    },
    {
      "cell_type": "markdown",
      "id": "direct-usage-section",
      "metadata": {},
      "source": [
        "## 直接使用\n\n您无需使用向量存储，即可直接使用 `NebiusEmbeddings` 类为文本生成嵌入。"
      ]
    },
    {
      "cell_type": "markdown",
      "id": "f5a731d2",
      "metadata": {},
      "source": [
        "### 嵌入单个文本\n\n您可以使用 `embed_query` 方法来嵌入单个文本："
      ]
    },
    {
      "cell_type": "code",
      "execution_count": 5,
      "id": "3ed26f78",
      "metadata": {},
      "outputs": [
        {
          "name": "stdout",
          "output_type": "stream",
          "text": [
            "Embedding dimension: 4096\n",
            "First few values: [0.007419586181640625, 0.002246856689453125, 0.00193023681640625, -0.0066070556640625, -0.0179901123046875]\n"
          ]
        }
      ],
      "source": [
        "query = \"What is machine learning?\"\n",
        "query_embedding = embeddings.embed_query(query)\n",
        "\n",
        "# Check the embedding dimension\n",
        "print(f\"Embedding dimension: {len(query_embedding)}\")\n",
        "print(f\"First few values: {query_embedding[:5]}\")"
      ]
    },
    {
      "cell_type": "markdown",
      "id": "72f31d5a",
      "metadata": {},
      "source": [
        "### 嵌入多个文档\n\n您可以使用 `embed_documents` 方法一次性嵌入多个文档："
      ]
    },
    {
      "cell_type": "code",
      "execution_count": 6,
      "id": "e7b7170d",
      "metadata": {},
      "outputs": [
        {
          "name": "stdout",
          "output_type": "stream",
          "text": [
            "Number of document embeddings: 3\n",
            "Each embedding has 4096 dimensions\n"
          ]
        }
      ],
      "source": [
        "documents = [\n",
        "    \"Machine learning is a branch of artificial intelligence\",\n",
        "    \"Deep learning is a subfield of machine learning\",\n",
        "    \"Natural language processing deals with interactions between computers and human language\",\n",
        "]\n",
        "\n",
        "document_embeddings = embeddings.embed_documents(documents)\n",
        "\n",
        "# Check the results\n",
        "print(f\"Number of document embeddings: {len(document_embeddings)}\")\n",
        "print(f\"Each embedding has {len(document_embeddings[0])} dimensions\")"
      ]
    },
    {
      "cell_type": "markdown",
      "id": "3e8a40f1",
      "metadata": {},
      "source": [
        "### 异步支持\n\nNebiusEmbeddings 支持异步操作："
      ]
    },
    {
      "cell_type": "code",
      "execution_count": 7,
      "id": "8fc36122",
      "metadata": {},
      "outputs": [
        {
          "name": "stdout",
          "output_type": "stream",
          "text": [
            "Async query embedding dimension: 4096\n",
            "Async document embeddings count: 3\n"
          ]
        }
      ],
      "source": [
        "import asyncio\n",
        "\n",
        "\n",
        "async def generate_embeddings_async():\n",
        "    # Embed a single query\n",
        "    query_result = await embeddings.aembed_query(\"What is the capital of France?\")\n",
        "    print(f\"Async query embedding dimension: {len(query_result)}\")\n",
        "\n",
        "    # Embed multiple documents\n",
        "    docs = [\n",
        "        \"Paris is the capital of France\",\n",
        "        \"Berlin is the capital of Germany\",\n",
        "        \"Rome is the capital of Italy\",\n",
        "    ]\n",
        "    docs_result = await embeddings.aembed_documents(docs)\n",
        "    print(f\"Async document embeddings count: {len(docs_result)}\")\n",
        "\n",
        "\n",
        "await generate_embeddings_async()"
      ]
    },
    {
      "cell_type": "markdown",
      "id": "4aa82e17",
      "metadata": {},
      "source": [
        "### 文档相似性示例"
      ]
    },
    {
      "cell_type": "code",
      "execution_count": 8,
      "id": "7e78e429",
      "metadata": {},
      "outputs": [
        {
          "name": "stdout",
          "output_type": "stream",
          "text": [
            "Document Similarity Matrix:\n",
            "Document 1: ['1.0000', '0.8282', '0.5811', '0.7985']\n",
            "Document 2: ['0.8282', '1.0000', '0.5897', '0.8315']\n",
            "Document 3: ['0.5811', '0.5897', '1.0000', '0.5918']\n",
            "Document 4: ['0.7985', '0.8315', '0.5918', '1.0000']\n"
          ]
        }
      ],
      "source": [
        "import numpy as np\n",
        "from scipy.spatial.distance import cosine\n",
        "\n",
        "# Create some documents\n",
        "documents = [\n",
        "    \"Machine learning algorithms build mathematical models based on sample data\",\n",
        "    \"Deep learning uses neural networks with many layers\",\n",
        "    \"Climate change is a major global environmental challenge\",\n",
        "    \"Neural networks are inspired by the human brain's structure\",\n",
        "]\n",
        "\n",
        "# Embed the documents\n",
        "embeddings_list = embeddings.embed_documents(documents)\n",
        "\n",
        "\n",
        "# Function to calculate similarity\n",
        "def calculate_similarity(embedding1, embedding2):\n",
        "    return 1 - cosine(embedding1, embedding2)\n",
        "\n",
        "\n",
        "# Print similarity matrix\n",
        "print(\"Document Similarity Matrix:\")\n",
        "for i, emb_i in enumerate(embeddings_list):\n",
        "    similarities = []\n",
        "    for j, emb_j in enumerate(embeddings_list):\n",
        "        similarity = calculate_similarity(emb_i, emb_j)\n",
        "        similarities.append(f\"{similarity:.4f}\")\n",
        "    print(f\"Document {i+1}: {similarities}\")"
      ]
    },
    {
      "cell_type": "markdown",
      "id": "f7a35f40",
      "metadata": {},
      "source": [
        "## API 参考\n\n有关 Nebius AI Studio API 的更多详细信息，请访问 [Nebius AI Studio 文档](https://studio.nebius.ai/docs/api-reference)。"
      ]
    },
    {
      "cell_type": "markdown",
      "id": "eb1eb70d",
      "metadata": {},
      "source": []
    }
  ],
  "metadata": {
    "kernelspec": {
      "display_name": ".venv",
      "language": "python",
      "name": "python3"
    },
    "language_info": {
      "codemirror_mode": {
        "name": "ipython",
        "version": 3
      },
      "file_extension": ".py",
      "mimetype": "text/x-python",
      "name": "python",
      "nbconvert_exporter": "python",
      "pygments_lexer": "ipython3",
      "version": "3.12.8"
    }
  },
  "nbformat": 4,
  "nbformat_minor": 5
}