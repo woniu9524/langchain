{
  "cells": [
    {
      "cell_type": "markdown",
      "metadata": {},
      "source": [
        "# YandexGPT\n\n本指南将介绍如何在 Langchain 中使用 [YandexGPT](https://cloud.yandex.com/en/services/yandexgpt) embeddings 模型。\n\n要使用，您应该已安装 `yandexcloud` python 包。"
      ]
    },
    {
      "cell_type": "code",
      "execution_count": null,
      "metadata": {},
      "outputs": [],
      "source": [
        "%pip install --upgrade --quiet  yandexcloud"
      ]
    },
    {
      "cell_type": "markdown",
      "metadata": {},
      "source": [
        "首先，您需要[创建服务账户](https://cloud.yandex.com/en/docs/iam/operations/sa/create)，并为其分配`ai.languageModels.user`角色。\n\n接下来，您有两种认证方式：\n- [IAM token](https://cloud.yandex.com/en/docs/iam/operations/iam-token/create-for-sa)。\n    您可以在构造函数参数 `iam_token` 或环境变量 `YC_IAM_TOKEN` 中指定 token。\n- [API key](https://cloud.yandex.com/en/docs/iam/operations/api-key/create)\n    您可以在构造函数参数 `api_key` 或环境变量 `YC_API_KEY` 中指定 key。\n\n要指定模型，您可以使用 `model_uri` 参数，更多详情请参阅[文档](https://cloud.yandex.com/en/docs/yandexgpt/concepts/models#yandexgpt-embeddings)。\n\n默认情况下，将使用 `folder_id` 参数或 `YC_FOLDER_ID` 环境变量中指定的文件夹内的最新版本的 `text-search-query`。"
      ]
    },
    {
      "cell_type": "code",
      "execution_count": 1,
      "metadata": {},
      "outputs": [],
      "source": [
        "from langchain_community.embeddings.yandex import YandexGPTEmbeddings"
      ]
    },
    {
      "cell_type": "code",
      "execution_count": 2,
      "metadata": {},
      "outputs": [],
      "source": [
        "embeddings = YandexGPTEmbeddings()"
      ]
    },
    {
      "cell_type": "code",
      "execution_count": 3,
      "metadata": {},
      "outputs": [],
      "source": [
        "text = \"This is a test document.\""
      ]
    },
    {
      "cell_type": "code",
      "execution_count": 4,
      "metadata": {},
      "outputs": [],
      "source": [
        "query_result = embeddings.embed_query(text)"
      ]
    },
    {
      "cell_type": "code",
      "execution_count": 5,
      "metadata": {},
      "outputs": [],
      "source": [
        "doc_result = embeddings.embed_documents([text])"
      ]
    },
    {
      "cell_type": "code",
      "execution_count": 6,
      "metadata": {},
      "outputs": [
        {
          "data": {
            "text/plain": [
              "[-0.021392822265625,\n",
              " 0.096435546875,\n",
              " -0.046966552734375,\n",
              " -0.0183258056640625,\n",
              " -0.00555419921875]"
            ]
          },
          "execution_count": 6,
          "metadata": {},
          "output_type": "execute_result"
        }
      ],
      "source": [
        "query_result[:5]"
      ]
    },
    {
      "cell_type": "code",
      "execution_count": 7,
      "metadata": {},
      "outputs": [
        {
          "data": {
            "text/plain": [
              "[-0.021392822265625,\n",
              " 0.096435546875,\n",
              " -0.046966552734375,\n",
              " -0.0183258056640625,\n",
              " -0.00555419921875]"
            ]
          },
          "execution_count": 7,
          "metadata": {},
          "output_type": "execute_result"
        }
      ],
      "source": [
        "doc_result[0][:5]"
      ]
    }
  ],
  "metadata": {
    "kernelspec": {
      "display_name": "Python 3 (ipykernel)",
      "language": "python",
      "name": "python3"
    },
    "language_info": {
      "codemirror_mode": {
        "name": "ipython",
        "version": 3
      },
      "file_extension": ".py",
      "mimetype": "text/x-python",
      "name": "python",
      "nbconvert_exporter": "python",
      "pygments_lexer": "ipython3",
      "version": "3.10.13"
    }
  },
  "nbformat": 4,
  "nbformat_minor": 4
}