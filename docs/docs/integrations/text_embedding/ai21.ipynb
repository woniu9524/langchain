{
  "cells": [
    {
      "cell_type": "raw",
      "id": "afaf8039",
      "metadata": {},
      "source": [
        "---\n",
        "sidebar_label: AI21\n",
        "---"
      ]
    },
    {
      "cell_type": "markdown",
      "id": "9a3d6f34",
      "metadata": {},
      "source": [
        "# AI21Embeddings\n\n:::caution 此服务已弃用。 :::\n\n这将帮助您开始使用 LangChain 的 AI21 嵌入模型。有关 `AI21Embeddings` 功能和配置选项的详细文档，请参阅[API 参考](https://python.langchain.com/api_reference/ai21/embeddings/langchain_ai21.embeddings.AI21Embeddings.html)。\n\n## 概述\n### 集成详情\n\nimport { ItemTable } from \"@theme/FeatureTables\";\n\n<ItemTable category=\"text_embedding\" item=\"AI21\" />\n\n## 设置\n\n要访问 AI21 嵌入模型，您需要创建一个 AI21 账户，获取 API 密钥，并安装 `langchain-ai21` 集成包。\n\n### 凭证\n\n请前往[https://docs.ai21.com/](https://docs.ai21.com/) 注册 AI21 并生成 API 密钥。完成此操作后，请设置 `AI21_API_KEY` 环境变量："
      ]
    },
    {
      "cell_type": "code",
      "execution_count": 2,
      "id": "36521c2a",
      "metadata": {},
      "outputs": [],
      "source": [
        "import getpass\n",
        "import os\n",
        "\n",
        "if not os.getenv(\"AI21_API_KEY\"):\n",
        "    os.environ[\"AI21_API_KEY\"] = getpass.getpass(\"Enter your AI21 API key: \")"
      ]
    },
    {
      "cell_type": "markdown",
      "id": "c84fb993",
      "metadata": {},
      "source": "为了启用对模型调用的自动跟踪，请设置您的 [LangSmith](https://docs.smith.langchain.com/) API 密钥："
    },
    {
      "cell_type": "code",
      "execution_count": 3,
      "id": "39a4953b",
      "metadata": {},
      "outputs": [],
      "source": [
        "# os.environ[\"LANGSMITH_TRACING\"] = \"true\"\n",
        "# os.environ[\"LANGSMITH_API_KEY\"] = getpass.getpass(\"Enter your LangSmith API key: \")"
      ]
    },
    {
      "cell_type": "markdown",
      "id": "d9664366",
      "metadata": {},
      "source": [
        "### 安装\n\nLangChain AI21 集成位于 `langchain-ai21` 包中："
      ]
    },
    {
      "cell_type": "code",
      "execution_count": null,
      "id": "64853226",
      "metadata": {},
      "outputs": [],
      "source": [
        "%pip install -qU langchain-ai21"
      ]
    },
    {
      "cell_type": "markdown",
      "id": "45dd1724",
      "metadata": {},
      "source": [
        "## 实例化\n\n现在我们可以实例化我们的模型对象并生成聊天补全："
      ]
    },
    {
      "cell_type": "code",
      "execution_count": 7,
      "id": "9ea7a09b",
      "metadata": {},
      "outputs": [],
      "source": [
        "from langchain_ai21 import AI21Embeddings\n",
        "\n",
        "embeddings = AI21Embeddings(\n",
        "    # Can optionally increase or decrease the batch_size\n",
        "    # to improve latency.\n",
        "    # Use larger batch sizes with smaller documents, and\n",
        "    # smaller batch sizes with larger documents.\n",
        "    # batch_size=256,\n",
        ")"
      ]
    },
    {
      "cell_type": "markdown",
      "id": "77d271b6",
      "metadata": {},
      "source": [
        "## 索引与检索\n\nEmbedding 模型常用于检索增强生成（RAG）流程中，既可用于索引数据，也可用于后续检索。更多详细说明，请参阅我们的 [RAG 教程](/docs/tutorials/)。\n\n下面将展示如何使用我们上面初始化的 `embeddings` 对象来索引和检索数据。在本例中，我们将在 `InMemoryVectorStore` 中索引和检索一个示例文档。"
      ]
    },
    {
      "cell_type": "code",
      "execution_count": 8,
      "id": "d817716b",
      "metadata": {},
      "outputs": [
        {
          "data": {
            "text/plain": [
              "'LangChain is the framework for building context-aware reasoning applications'"
            ]
          },
          "execution_count": 8,
          "metadata": {},
          "output_type": "execute_result"
        }
      ],
      "source": [
        "# Create a vector store with a sample text\n",
        "from langchain_core.vectorstores import InMemoryVectorStore\n",
        "\n",
        "text = \"LangChain is the framework for building context-aware reasoning applications\"\n",
        "\n",
        "vectorstore = InMemoryVectorStore.from_texts(\n",
        "    [text],\n",
        "    embedding=embeddings,\n",
        ")\n",
        "\n",
        "# Use the vectorstore as a retriever\n",
        "retriever = vectorstore.as_retriever()\n",
        "\n",
        "# Retrieve the most similar text\n",
        "retrieved_documents = retriever.invoke(\"What is LangChain?\")\n",
        "\n",
        "# show the retrieved document's content\n",
        "retrieved_documents[0].page_content"
      ]
    },
    {
      "cell_type": "markdown",
      "id": "e02b9855",
      "metadata": {},
      "source": [
        "## 直接使用\n\n在底层，vectorstore 和 retriever 的实现会分别调用 `embeddings.embed_documents(...)` 和 `embeddings.embed_query(...)` 来为 `from_texts` 和检索 `invoke` 操作中使用的文本创建 embeddings。\n\n你可以直接调用这些方法来获取 embeddings 以满足你自己的使用场景。\n\n### 嵌入单个文本\n\n你可以使用 `embed_query` 来嵌入单个文本或文档："
      ]
    },
    {
      "cell_type": "code",
      "execution_count": 9,
      "id": "0d2befcd",
      "metadata": {},
      "outputs": [
        {
          "name": "stdout",
          "output_type": "stream",
          "text": [
            "[0.01913362182676792, 0.004960147198289633, -0.01582135073840618, -0.042474791407585144, 0.040200788\n"
          ]
        }
      ],
      "source": [
        "single_vector = embeddings.embed_query(text)\n",
        "print(str(single_vector)[:100])  # Show the first 100 characters of the vector"
      ]
    },
    {
      "cell_type": "markdown",
      "id": "1b5a7d03",
      "metadata": {},
      "source": [
        "### 嵌入多个文本\n\n您可以使用 `embed_documents` 嵌入多个文本："
      ]
    },
    {
      "cell_type": "code",
      "execution_count": 10,
      "id": "2f4d6e97",
      "metadata": {},
      "outputs": [
        {
          "name": "stdout",
          "output_type": "stream",
          "text": [
            "[0.03029559925198555, 0.002908500377088785, -0.02700909972190857, -0.04616579785943031, 0.0382771529\n",
            "[0.018214847892522812, 0.011460083536803722, -0.03329407051205635, -0.04951060563325882, 0.032756105\n"
          ]
        }
      ],
      "source": [
        "text2 = (\n",
        "    \"LangGraph is a library for building stateful, multi-actor applications with LLMs\"\n",
        ")\n",
        "two_vectors = embeddings.embed_documents([text, text2])\n",
        "for vector in two_vectors:\n",
        "    print(str(vector)[:100])  # Show the first 100 characters of the vector"
      ]
    },
    {
      "cell_type": "markdown",
      "id": "98785c12",
      "metadata": {},
      "source": [
        "# API 参考文档\n\n有关 `AI21Embeddings` 功能和配置选项的详细文档，请参阅 [API 参考文档](https://python.langchain.com/api_reference/ai21/embeddings/langchain_ai21.embeddings.AI21Embeddings.html)。"
      ]
    }
  ],
  "metadata": {
    "kernelspec": {
      "display_name": "Python 3 (ipykernel)",
      "language": "python",
      "name": "python3"
    },
    "language_info": {
      "codemirror_mode": {
        "name": "ipython",
        "version": 3
      },
      "file_extension": ".py",
      "mimetype": "text/x-python",
      "name": "python",
      "nbconvert_exporter": "python",
      "pygments_lexer": "ipython3",
      "version": "3.9.6"
    }
  },
  "nbformat": 4,
  "nbformat_minor": 5
}