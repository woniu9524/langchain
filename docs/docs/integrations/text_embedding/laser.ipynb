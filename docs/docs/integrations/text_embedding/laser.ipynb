{
  "cells": [
    {
      "cell_type": "markdown",
      "id": "900fbd04-f6aa-4813-868f-1c54e3265385",
      "metadata": {},
      "source": [
        "# LASER Meta AI 的激光语言无关句子表示嵌入集\n\n>[LASER](https://github.com/facebookresearch/LASER/) 是由 Meta AI 研究团队开发的 Python 库，截至 2024 年 2 月 25 日，该库支持超过 147 种语言的多语言句子嵌入。\n>- 受支持的语言列表请访问 https://github.com/facebookresearch/flores/blob/main/flores200/README.md#languages-in-flores-200"
      ]
    },
    {
      "attachments": {},
      "cell_type": "markdown",
      "id": "2a773d8d",
      "metadata": {},
      "source": [
        "## 依赖\n\n要将 LaserEmbed 与 LangChain 一起使用，请安装 `laser_encoders` Python 包。"
      ]
    },
    {
      "cell_type": "code",
      "execution_count": null,
      "id": "91ea14ce-831d-409a-a88f-30353acdabd1",
      "metadata": {
        "tags": []
      },
      "outputs": [],
      "source": [
        "%pip install laser_encoders"
      ]
    },
    {
      "attachments": {},
      "cell_type": "markdown",
      "id": "426f1156",
      "metadata": {},
      "source": [
        "## 导入"
      ]
    },
    {
      "cell_type": "code",
      "execution_count": 2,
      "id": "3f5dc9d7-65e3-4b5b-9086-3327d016cfe0",
      "metadata": {
        "tags": []
      },
      "outputs": [],
      "source": [
        "from langchain_community.embeddings.laser import LaserEmbeddings"
      ]
    },
    {
      "cell_type": "markdown",
      "id": "8c77b0bb-2613-4167-a204-14d424b59105",
      "metadata": {},
      "source": [
        "## 实例化 Laser\n\n### 参数\n- `lang: Optional[str]`\n    >如果为空，则将默认使用多语言 LASER 编码器模型（称为“laser2”）。\n    您可以在[此处](https://github.com/facebookresearch/flores/blob/main/flores200/README.md#languages-in-flores-200)和[此处](https://github.com/facebookresearch/LASER/blob/main/laser_encoders/language_list.py)找到支持的语言和 lang_codes 列表。"
      ]
    },
    {
      "cell_type": "code",
      "execution_count": null,
      "id": "6fb585dd",
      "metadata": {
        "tags": []
      },
      "outputs": [],
      "source": [
        "# Ex Instantiationz\n",
        "embeddings = LaserEmbeddings(lang=\"eng_Latn\")"
      ]
    },
    {
      "cell_type": "markdown",
      "id": "119fbaad-9442-4fff-8214-c5f597bc8e77",
      "metadata": {},
      "source": [
        "## 用法\n\n### 生成文档嵌入"
      ]
    },
    {
      "cell_type": "code",
      "execution_count": null,
      "id": "62920051-cbd2-460d-ba24-0424c1ed395d",
      "metadata": {},
      "outputs": [],
      "source": [
        "document_embeddings = embeddings.embed_documents(\n",
        "    [\"This is a sentence\", \"This is some other sentence\"]\n",
        ")"
      ]
    },
    {
      "cell_type": "markdown",
      "id": "7fd10d96-baee-468f-a532-b70b16b78d1f",
      "metadata": {},
      "source": [
        "### 生成查询嵌入"
      ]
    },
    {
      "cell_type": "code",
      "execution_count": null,
      "id": "9f793bb6-609a-4a4a-a5c7-8e8597228915",
      "metadata": {},
      "outputs": [],
      "source": [
        "query_embeddings = embeddings.embed_query(\"This is a query\")"
      ]
    }
  ],
  "metadata": {
    "kernelspec": {
      "display_name": "Python 3 (ipykernel)",
      "language": "python",
      "name": "python3"
    },
    "language_info": {
      "codemirror_mode": {
        "name": "ipython",
        "version": 3
      },
      "file_extension": ".py",
      "mimetype": "text/x-python",
      "name": "python",
      "nbconvert_exporter": "python",
      "pygments_lexer": "ipython3",
      "version": "3.10.12"
    }
  },
  "nbformat": 4,
  "nbformat_minor": 5
}