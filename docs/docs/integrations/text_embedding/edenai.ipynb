{
  "cells": [
    {
      "cell_type": "markdown",
      "metadata": {},
      "source": [
        "# EDEN AI"
      ]
    },
    {
      "cell_type": "markdown",
      "metadata": {},
      "source": [
        "Eden AI 通过汇集顶尖的 AI 提供商，正在革新 AI 格局，使用户能够解锁无限可能，并发挥人工智能的真正潜力。通过一个全面且无忧的一站式平台，它允许用户以闪电般的速度将 AI 功能部署到生产环境中，通过单一 API 轻松访问各种 AI 功能。（官网：https://edenai.co/）"
      ]
    },
    {
      "cell_type": "markdown",
      "metadata": {},
      "source": [
        "本示例将介绍如何使用 LangChain 与 Eden AI embedding 模型进行交互。"
      ]
    },
    {
      "cell_type": "markdown",
      "metadata": {},
      "source": [
        "访问 EDENAI 的 API 需要一个 API 密钥，\n\n您可以通过创建账户 https://app.edenai.run/user/register 并访问此链接 https://app.edenai.run/admin/account/settings 来获取。\n\n拿到密钥后，我们可以通过运行以下命令将其设置为环境变量：\n\n```shell\nexport EDENAI_API_KEY=\"...\"\n```"
      ]
    },
    {
      "cell_type": "markdown",
      "metadata": {},
      "source": [
        "如果您不想设置环境变量，可以直接通过名为 `edenai_api_key` 的参数来传递密钥\n\n在初始化 EdenAI embedding 类时："
      ]
    },
    {
      "cell_type": "code",
      "execution_count": 1,
      "metadata": {},
      "outputs": [],
      "source": [
        "from langchain_community.embeddings.edenai import EdenAiEmbeddings"
      ]
    },
    {
      "cell_type": "code",
      "execution_count": 12,
      "metadata": {},
      "outputs": [],
      "source": [
        "embeddings = EdenAiEmbeddings(edenai_api_key=\"...\", provider=\"...\")"
      ]
    },
    {
      "cell_type": "markdown",
      "metadata": {},
      "source": [
        "## 调用模型"
      ]
    },
    {
      "cell_type": "markdown",
      "metadata": {},
      "source": [
        "EdenAI API 整合了多个提供商。\n\n要访问特定模型，你可以在调用时直接使用“provider”。"
      ]
    },
    {
      "cell_type": "code",
      "execution_count": 13,
      "metadata": {},
      "outputs": [],
      "source": [
        "embeddings = EdenAiEmbeddings(provider=\"openai\")"
      ]
    },
    {
      "cell_type": "code",
      "execution_count": 14,
      "metadata": {},
      "outputs": [],
      "source": [
        "docs = [\"It's raining right now\", \"cats are cute\"]\n",
        "document_result = embeddings.embed_documents(docs)"
      ]
    },
    {
      "cell_type": "code",
      "execution_count": 15,
      "metadata": {},
      "outputs": [],
      "source": [
        "query = \"my umbrella is broken\"\n",
        "query_result = embeddings.embed_query(query)"
      ]
    },
    {
      "cell_type": "code",
      "execution_count": 16,
      "metadata": {},
      "outputs": [
        {
          "name": "stdout",
          "output_type": "stream",
          "text": [
            "Cosine similarity between \"It's raining right now\" and query: 0.849261496107252\n",
            "Cosine similarity between \"cats are cute\" and query: 0.7525900655705218\n"
          ]
        }
      ],
      "source": [
        "import numpy as np\n",
        "\n",
        "query_numpy = np.array(query_result)\n",
        "for doc_res, doc in zip(document_result, docs):\n",
        "    document_numpy = np.array(doc_res)\n",
        "    similarity = np.dot(query_numpy, document_numpy) / (\n",
        "        np.linalg.norm(query_numpy) * np.linalg.norm(document_numpy)\n",
        "    )\n",
        "    print(f'Cosine similarity between \"{doc}\" and query: {similarity}')"
      ]
    }
  ],
  "metadata": {
    "kernelspec": {
      "display_name": ".venv",
      "language": "python",
      "name": "python3"
    },
    "language_info": {
      "codemirror_mode": {
        "name": "ipython",
        "version": 3
      },
      "file_extension": ".py",
      "mimetype": "text/x-python",
      "name": "python",
      "nbconvert_exporter": "python",
      "pygments_lexer": "ipython3",
      "version": "3.10.11"
    }
  },
  "nbformat": 4,
  "nbformat_minor": 2
}