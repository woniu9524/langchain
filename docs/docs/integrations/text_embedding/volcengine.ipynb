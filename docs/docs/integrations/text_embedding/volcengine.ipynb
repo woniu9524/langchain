{
  "cells": [
    {
      "cell_type": "markdown",
      "metadata": {
        "collapsed": false
      },
      "source": [
        "# Volc Engine\n\n本 Notebook 将指导您如何加载 Volcano Embedding 类。\n\n\n## API 初始化\n\n要使用基于 [VolcEngine](https://www.volcengine.com/docs/82379/1099455) 的 LLM 服务，您需要初始化以下参数：\n\n您可以选择在环境变量中初始化 AK、SK，或者直接作为参数初始化：\n\n```base\nexport VOLC_ACCESSKEY=XXX\nexport VOLC_SECRETKEY=XXX\n```"
      ]
    },
    {
      "cell_type": "code",
      "execution_count": 1,
      "metadata": {
        "ExecuteTime": {
          "start_time": "2023-12-14T03:05:29.857798Z"
        }
      },
      "outputs": [
        {
          "name": "stdout",
          "output_type": "stream",
          "text": [
            "embed_documents result:\n",
            " [0.02929673343896866, -0.009310632012784481, -0.060323506593704224, 0.0031018739100545645, -0.002218986628577113, -0.0023125179577618837, -0.04864659160375595, -2.062115163425915e-05]\n",
            " [0.01987231895327568, -0.026041055098176003, -0.08395249396562576, 0.020043574273586273, -0.028862033039331436, 0.004629664588719606, -0.023107370361685753, -0.0342753604054451]\n"
          ]
        }
      ],
      "source": [
        "\"\"\"For basic init and call\"\"\"\n",
        "import os\n",
        "\n",
        "from langchain_community.embeddings import VolcanoEmbeddings\n",
        "\n",
        "os.environ[\"VOLC_ACCESSKEY\"] = \"\"\n",
        "os.environ[\"VOLC_SECRETKEY\"] = \"\"\n",
        "\n",
        "embed = VolcanoEmbeddings(volcano_ak=\"\", volcano_sk=\"\")\n",
        "print(\"embed_documents result:\")\n",
        "res1 = embed.embed_documents([\"foo\", \"bar\"])\n",
        "for r in res1:\n",
        "    print(\"\", r[:8])"
      ]
    },
    {
      "cell_type": "code",
      "execution_count": 2,
      "metadata": {
        "ExecuteTime": {
          "start_time": "2023-12-14T03:05:29.859276Z"
        }
      },
      "outputs": [
        {
          "name": "stdout",
          "output_type": "stream",
          "text": [
            "embed_query result:\n",
            " [0.01987231895327568, -0.026041055098176003, -0.08395249396562576, 0.020043574273586273, -0.028862033039331436, 0.004629664588719606, -0.023107370361685753, -0.0342753604054451]\n"
          ]
        }
      ],
      "source": [
        "print(\"embed_query result:\")\n",
        "res2 = embed.embed_query(\"foo\")\n",
        "print(\"\", r[:8])"
      ]
    },
    {
      "cell_type": "code",
      "execution_count": null,
      "metadata": {
        "ExecuteTime": {
          "start_time": "2023-12-14T03:05:29.860282Z"
        }
      },
      "outputs": [],
      "source": []
    }
  ],
  "metadata": {
    "kernelspec": {
      "display_name": "Python 3 (ipykernel)",
      "language": "python",
      "name": "python3"
    },
    "language_info": {
      "codemirror_mode": {
        "name": "ipython",
        "version": 3
      },
      "file_extension": ".py",
      "mimetype": "text/x-python",
      "name": "python",
      "nbconvert_exporter": "python",
      "pygments_lexer": "ipython3",
      "version": "3.9.18"
    },
    "vscode": {
      "interpreter": {
        "hash": "6fa70026b407ae751a5c9e6bd7f7d482379da8ad616f98512780b705c84ee157"
      }
    }
  },
  "nbformat": 4,
  "nbformat_minor": 4
}