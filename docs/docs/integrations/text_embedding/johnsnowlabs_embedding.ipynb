{
  "cells": [
    {
      "cell_type": "markdown",
      "metadata": {
        "collapsed": false,
        "jupyter": {
          "outputs_hidden": false
        }
      },
      "source": [
        "# John Snow Labs\n\n>[John Snow Labs](https://nlp.johnsnowlabs.com/) 的 NLP 和 LLM 生态系统包含用于大规模前沿 AI、负责任 AI、无代码 AI 的软件库，以及用于医疗、法律、金融等领域的超过 20,000 个模型的访问权限。\n>\n>模型通过 [nlp.load](https://nlp.johnsnowlabs.com/docs/en/jsl/load_api) 加载，并且底层通过 [nlp.start()](https://nlp.johnsnowlabs.com/docs/en/jsl/start-a-sparksession) 启动 Spark 会话。\n>有关所有 24,000 多个模型，请参阅 [John Snow Labs 模型中心](https://nlp.johnsnowlabs.com/models)"
      ]
    },
    {
      "cell_type": "markdown",
      "metadata": {},
      "source": [
        "## 设置"
      ]
    },
    {
      "cell_type": "code",
      "execution_count": null,
      "metadata": {
        "collapsed": false,
        "jupyter": {
          "outputs_hidden": false
        }
      },
      "outputs": [],
      "source": [
        "%pip install --upgrade --quiet  johnsnowlabs"
      ]
    },
    {
      "cell_type": "code",
      "execution_count": null,
      "metadata": {
        "collapsed": false,
        "jupyter": {
          "outputs_hidden": false
        }
      },
      "outputs": [],
      "source": [
        "# If you have a enterprise license, you can run this to install enterprise features\n",
        "# from johnsnowlabs import nlp\n",
        "# nlp.install()"
      ]
    },
    {
      "cell_type": "markdown",
      "metadata": {},
      "source": [
        "## 示例"
      ]
    },
    {
      "cell_type": "code",
      "execution_count": null,
      "metadata": {
        "collapsed": false,
        "jupyter": {
          "outputs_hidden": false
        }
      },
      "outputs": [],
      "source": [
        "from langchain_community.embeddings.johnsnowlabs import JohnSnowLabsEmbeddings"
      ]
    },
    {
      "cell_type": "markdown",
      "metadata": {
        "collapsed": false,
        "jupyter": {
          "outputs_hidden": false
        }
      },
      "source": [
        "初始化 Johnsnowlabs Embeddings 和 Spark Session"
      ]
    },
    {
      "cell_type": "code",
      "execution_count": null,
      "metadata": {
        "collapsed": false,
        "jupyter": {
          "outputs_hidden": false
        }
      },
      "outputs": [],
      "source": [
        "embedder = JohnSnowLabsEmbeddings(\"en.embed_sentence.biobert.clinical_base_cased\")"
      ]
    },
    {
      "cell_type": "markdown",
      "metadata": {
        "collapsed": false,
        "jupyter": {
          "outputs_hidden": false
        }
      },
      "source": [
        "定义一些示例文本。这些可以是您想要分析的任何文档——例如，新闻文章、社交媒体帖子或产品评论。"
      ]
    },
    {
      "cell_type": "code",
      "execution_count": null,
      "metadata": {
        "collapsed": false,
        "jupyter": {
          "outputs_hidden": false
        }
      },
      "outputs": [],
      "source": [
        "texts = [\"Cancer is caused by smoking\", \"Antibiotics aren't painkiller\"]"
      ]
    },
    {
      "cell_type": "markdown",
      "metadata": {
        "collapsed": false,
        "jupyter": {
          "outputs_hidden": false
        }
      },
      "source": [
        "生成并打印文本的嵌入。JohnSnowLabsEmbeddings 类为每个文档生成一个嵌入，这是文档内容的数值表示。这些嵌入可用于各种自然语言处理任务，例如文档相似性比较或文本分类。"
      ]
    },
    {
      "cell_type": "code",
      "execution_count": null,
      "metadata": {
        "collapsed": false,
        "jupyter": {
          "outputs_hidden": false
        }
      },
      "outputs": [],
      "source": [
        "embeddings = embedder.embed_documents(texts)\n",
        "for i, embedding in enumerate(embeddings):\n",
        "    print(f\"Embedding for document {i+1}: {embedding}\")"
      ]
    },
    {
      "cell_type": "markdown",
      "metadata": {
        "collapsed": false,
        "jupyter": {
          "outputs_hidden": false
        }
      },
      "source": [
        "生成并打印单个文本的嵌入。您也可以为单个文本（例如搜索查询）生成嵌入。这对于信息检索等任务非常有用，您希望查找与给定查询相似的文档。"
      ]
    },
    {
      "cell_type": "code",
      "execution_count": null,
      "metadata": {
        "collapsed": false,
        "jupyter": {
          "outputs_hidden": false
        }
      },
      "outputs": [],
      "source": [
        "query = \"Cancer is caused by smoking\"\n",
        "query_embedding = embedder.embed_query(query)\n",
        "print(f\"Embedding for query: {query_embedding}\")"
      ]
    }
  ],
  "metadata": {
    "kernelspec": {
      "display_name": "Python 3 (ipykernel)",
      "language": "python",
      "name": "python3"
    },
    "language_info": {
      "codemirror_mode": {
        "name": "ipython",
        "version": 3
      },
      "file_extension": ".py",
      "mimetype": "text/x-python",
      "name": "python",
      "nbconvert_exporter": "python",
      "pygments_lexer": "ipython3",
      "version": "3.10.12"
    }
  },
  "nbformat": 4,
  "nbformat_minor": 4
}