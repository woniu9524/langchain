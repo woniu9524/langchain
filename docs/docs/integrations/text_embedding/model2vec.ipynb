{
  "cells": [
    {
      "cell_type": "markdown",
      "id": "e8712110",
      "metadata": {},
      "source": [
        "Model2Vec 是一种将任何句子转换器变成非常小的静态模型的技术。\n[model2vec](https://github.com/MinishLab/model2vec) 可用于生成嵌入。"
      ]
    },
    {
      "cell_type": "markdown",
      "id": "266dd424",
      "metadata": {},
      "source": [
        "## 设置\n\n```bash\npip install -U langchain-community\n```"
      ]
    },
    {
      "cell_type": "markdown",
      "id": "78ab91a6",
      "metadata": {},
      "source": [
        "## 实例化"
      ]
    },
    {
      "cell_type": "markdown",
      "id": "d06e7719",
      "metadata": {},
      "source": [
        "确保已安装 `model2vec`\n\n```bash\npip install -U model2vec\n```"
      ]
    },
    {
      "cell_type": "markdown",
      "id": "f8ea1ed5",
      "metadata": {},
      "source": [
        "## 索引和检索"
      ]
    },
    {
      "cell_type": "code",
      "execution_count": 2,
      "id": "d25dc22d-b656-46c6-a42d-eace958590cd",
      "metadata": {
        "ExecuteTime": {
          "end_time": "2023-05-24T15:13:17.176956Z",
          "start_time": "2023-05-24T15:13:15.399076Z"
        },
        "execution": {
          "iopub.execute_input": "2024-03-29T15:39:19.252281Z",
          "iopub.status.busy": "2024-03-29T15:39:19.252101Z",
          "iopub.status.idle": "2024-03-29T15:39:19.339106Z",
          "shell.execute_reply": "2024-03-29T15:39:19.338614Z",
          "shell.execute_reply.started": "2024-03-29T15:39:19.252260Z"
        }
      },
      "outputs": [],
      "source": [
        "from langchain_community.embeddings import Model2vecEmbeddings"
      ]
    },
    {
      "cell_type": "code",
      "execution_count": 3,
      "id": "8397b91f-a1f9-4be6-a699-fedaada7c37a",
      "metadata": {
        "ExecuteTime": {
          "end_time": "2023-05-24T15:13:17.193751Z",
          "start_time": "2023-05-24T15:13:17.182053Z"
        },
        "execution": {
          "iopub.execute_input": "2024-03-29T15:39:19.901573Z",
          "iopub.status.busy": "2024-03-29T15:39:19.900935Z",
          "iopub.status.idle": "2024-03-29T15:39:19.906540Z",
          "shell.execute_reply": "2024-03-29T15:39:19.905345Z",
          "shell.execute_reply.started": "2024-03-29T15:39:19.901529Z"
        }
      },
      "outputs": [],
      "source": [
        "embeddings = Model2vecEmbeddings(\"minishlab/potion-base-8M\")"
      ]
    },
    {
      "cell_type": "code",
      "execution_count": 4,
      "id": "abcf98b7-424c-4691-a1cd-862c3d53be11",
      "metadata": {
        "ExecuteTime": {
          "end_time": "2023-05-24T15:13:17.844903Z",
          "start_time": "2023-05-24T15:13:17.198751Z"
        },
        "execution": {
          "iopub.execute_input": "2024-03-29T15:39:20.434581Z",
          "iopub.status.busy": "2024-03-29T15:39:20.433117Z",
          "iopub.status.idle": "2024-03-29T15:39:22.178650Z",
          "shell.execute_reply": "2024-03-29T15:39:22.176058Z",
          "shell.execute_reply.started": "2024-03-29T15:39:20.434501Z"
        },
        "scrolled": true
      },
      "outputs": [],
      "source": [
        "query_text = \"This is a test query.\"\n",
        "query_result = embeddings.embed_query(query_text)"
      ]
    },
    {
      "cell_type": "code",
      "execution_count": 6,
      "id": "98897454-b280-4ee1-bbb9-2c6c15342f87",
      "metadata": {
        "ExecuteTime": {
          "end_time": "2023-05-24T15:13:18.605339Z",
          "start_time": "2023-05-24T15:13:17.845906Z"
        },
        "execution": {
          "iopub.execute_input": "2024-03-29T15:39:28.164009Z",
          "iopub.status.busy": "2024-03-29T15:39:28.161759Z",
          "iopub.status.idle": "2024-03-29T15:39:30.217232Z",
          "shell.execute_reply": "2024-03-29T15:39:30.215348Z",
          "shell.execute_reply.started": "2024-03-29T15:39:28.163876Z"
        },
        "scrolled": true
      },
      "outputs": [],
      "source": [
        "document_text = \"This is a test document.\"\n",
        "document_result = embeddings.embed_documents([document_text])"
      ]
    },
    {
      "cell_type": "markdown",
      "id": "11bac134",
      "metadata": {},
      "source": [
        "## 直接使用\n\n以下是如何直接使用 `model2vec`：\n\n```python\nfrom model2vec import StaticModel\n\n# 从 HuggingFace Hub 加载模型（在此示例中为 potion-base-8M 模型）\nmodel = StaticModel.from_pretrained(\"minishlab/potion-base-8M\")\n\n# 生成嵌入\nembeddings = model.encode([\"It's dangerous to go alone!\", \"It's a secret to everybody.\"])\n\n# 生成 token 嵌入序列\ntoken_embeddings = model.encode_as_sequence([\"It's dangerous to go alone!\", \"It's a secret to everybody.\"])\n```"
      ]
    },
    {
      "cell_type": "markdown",
      "id": "d81e21aa",
      "metadata": {},
      "source": [
        "## API 参考\n\n有关更多信息，请查看 model2vec 的 github [仓库](https://github.com/MinishLab/model2vec)"
      ]
    }
  ],
  "metadata": {
    "kernelspec": {
      "display_name": "Python 3 (ipykernel)",
      "language": "python",
      "name": "python3"
    },
    "language_info": {
      "codemirror_mode": {
        "name": "ipython",
        "version": 3
      },
      "file_extension": ".py",
      "mimetype": "text/x-python",
      "name": "python",
      "nbconvert_exporter": "python",
      "pygments_lexer": "ipython3",
      "version": "3.11.3"
    }
  },
  "nbformat": 4,
  "nbformat_minor": 5
}