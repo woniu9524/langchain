{
  "cells": [
    {
      "cell_type": "markdown",
      "id": "719619d3",
      "metadata": {},
      "source": [
        "# BGE 在 Hugging Face\n\n>[HuggingFace 上的 BGE 模型](https://huggingface.co/BAAI/bge-large-en-v1.5) 是[最好的开源嵌入模型](https://huggingface.co/spaces/mteb/leaderboard)之一。\n>BGE 模型由[北京人工智能研究院 (BAAI)](https://en.wikipedia.org/wiki/Beijing_Academy_of_Artificial_Intelligence) 创建。`BAAI` 是一个从事人工智能研究和开发的私营非营利组织。\n\n本 Notebook 展示了如何通过 `Hugging Face` 使用 `BGE Embeddings`"
      ]
    },
    {
      "cell_type": "code",
      "execution_count": null,
      "id": "f7a54279",
      "metadata": {
        "scrolled": true
      },
      "outputs": [],
      "source": [
        "%pip install --upgrade --quiet  sentence_transformers"
      ]
    },
    {
      "cell_type": "code",
      "execution_count": null,
      "id": "9e1d5b6b",
      "metadata": {},
      "outputs": [],
      "source": [
        "from langchain_community.embeddings import HuggingFaceBgeEmbeddings\n",
        "\n",
        "model_name = \"BAAI/bge-small-en\"\n",
        "model_kwargs = {\"device\": \"cpu\"}\n",
        "encode_kwargs = {\"normalize_embeddings\": True}\n",
        "hf = HuggingFaceBgeEmbeddings(\n",
        "    model_name=model_name, model_kwargs=model_kwargs, encode_kwargs=encode_kwargs\n",
        ")"
      ]
    },
    {
      "cell_type": "markdown",
      "id": "f35d54e529c4cb77",
      "metadata": {},
      "source": [
        "请注意，你需要为 `model_name=\"BAAI/bge-m3\"` 传递 `query_instruction=\"\"`，请参阅 [FAQ BGE M3](https://huggingface.co/BAAI/bge-m3#faq)。"
      ]
    },
    {
      "cell_type": "code",
      "execution_count": 5,
      "id": "e59d1a89",
      "metadata": {},
      "outputs": [
        {
          "data": {
            "text/plain": [
              "384"
            ]
          },
          "execution_count": 5,
          "metadata": {},
          "output_type": "execute_result"
        }
      ],
      "source": [
        "embedding = hf.embed_query(\"hi this is harrison\")\n",
        "len(embedding)"
      ]
    },
    {
      "cell_type": "code",
      "execution_count": null,
      "id": "e596315f",
      "metadata": {},
      "outputs": [],
      "source": []
    }
  ],
  "metadata": {
    "kernelspec": {
      "display_name": "Python 3 (ipykernel)",
      "language": "python",
      "name": "python3"
    },
    "language_info": {
      "codemirror_mode": {
        "name": "ipython",
        "version": 3
      },
      "file_extension": ".py",
      "mimetype": "text/x-python",
      "name": "python",
      "nbconvert_exporter": "python",
      "pygments_lexer": "ipython3",
      "version": "3.10.12"
    }
  },
  "nbformat": 4,
  "nbformat_minor": 5
}