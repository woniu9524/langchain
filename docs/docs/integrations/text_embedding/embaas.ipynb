{
  "cells": [
    {
      "cell_type": "markdown",
      "metadata": {},
      "source": [
        "# Embaas\n\n[embaas](https://embaas.io) 是一个完全托管的 NLP API 服务，提供诸如生成嵌入、文档文本提取、文档到嵌入等功能。您可以选择[多种预训练模型](https://embaas.io/docs/models/embeddings)。\n\n在本教程中，我们将向您展示如何使用 embaas Embeddings API 为给定文本生成嵌入。\n\n### 先决条件\n在 [https://embaas.io/register](https://embaas.io/register) 创建您的免费 embaas 账户，并生成一个[API 密钥](https://embaas.io/dashboard/api-keys)。"
      ]
    },
    {
      "cell_type": "code",
      "execution_count": null,
      "metadata": {},
      "outputs": [],
      "source": [
        "import os\n",
        "\n",
        "# Set API key\n",
        "embaas_api_key = \"YOUR_API_KEY\"\n",
        "# or set environment variable\n",
        "os.environ[\"EMBAAS_API_KEY\"] = \"YOUR_API_KEY\""
      ]
    },
    {
      "cell_type": "code",
      "execution_count": null,
      "metadata": {},
      "outputs": [],
      "source": [
        "from langchain_community.embeddings import EmbaasEmbeddings"
      ]
    },
    {
      "cell_type": "code",
      "execution_count": null,
      "metadata": {},
      "outputs": [],
      "source": [
        "embeddings = EmbaasEmbeddings()"
      ]
    },
    {
      "cell_type": "code",
      "execution_count": null,
      "metadata": {
        "ExecuteTime": {
          "end_time": "2023-06-10T11:17:55.940265Z",
          "start_time": "2023-06-10T11:17:55.938517Z"
        }
      },
      "outputs": [],
      "source": [
        "# Create embeddings for a single document\n",
        "doc_text = \"This is a test document.\"\n",
        "doc_text_embedding = embeddings.embed_query(doc_text)"
      ]
    },
    {
      "cell_type": "code",
      "execution_count": null,
      "metadata": {},
      "outputs": [],
      "source": [
        "# Print created embedding\n",
        "print(doc_text_embedding)"
      ]
    },
    {
      "cell_type": "code",
      "execution_count": 9,
      "metadata": {
        "ExecuteTime": {
          "end_time": "2023-06-10T11:19:25.237161Z",
          "start_time": "2023-06-10T11:19:25.235320Z"
        }
      },
      "outputs": [],
      "source": [
        "# Create embeddings for multiple documents\n",
        "doc_texts = [\"This is a test document.\", \"This is another test document.\"]\n",
        "doc_texts_embeddings = embeddings.embed_documents(doc_texts)"
      ]
    },
    {
      "cell_type": "code",
      "execution_count": null,
      "metadata": {},
      "outputs": [],
      "source": [
        "# Print created embeddings\n",
        "for i, doc_text_embedding in enumerate(doc_texts_embeddings):\n",
        "    print(f\"Embedding for document {i + 1}: {doc_text_embedding}\")"
      ]
    },
    {
      "cell_type": "code",
      "execution_count": 11,
      "metadata": {
        "ExecuteTime": {
          "end_time": "2023-06-10T11:22:26.139769Z",
          "start_time": "2023-06-10T11:22:26.138357Z"
        }
      },
      "outputs": [],
      "source": [
        "# Using a different model and/or custom instruction\n",
        "embeddings = EmbaasEmbeddings(\n",
        "    model=\"instructor-large\",\n",
        "    instruction=\"Represent the Wikipedia document for retrieval\",\n",
        ")"
      ]
    },
    {
      "cell_type": "markdown",
      "metadata": {},
      "source": [
        "如需了解关于 embaas Embeddings API 的更详细信息，请参阅[官方 embaas API 文档](https://embaas.io/api-reference)。"
      ]
    }
  ],
  "metadata": {
    "kernelspec": {
      "display_name": "Python 3 (ipykernel)",
      "language": "python",
      "name": "python3"
    },
    "language_info": {
      "codemirror_mode": {
        "name": "ipython",
        "version": 3
      },
      "file_extension": ".py",
      "mimetype": "text/x-python",
      "name": "python",
      "nbconvert_exporter": "python",
      "pygments_lexer": "ipython3",
      "version": "3.10.12"
    }
  },
  "nbformat": 4,
  "nbformat_minor": 4
}