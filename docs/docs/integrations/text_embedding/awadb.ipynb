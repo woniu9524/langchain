{
  "cells": [
    {
      "cell_type": "markdown",
      "id": "b14a24db",
      "metadata": {},
      "source": [
        "# AwaDB\n\n>[AwaDB](https://github.com/awa-ai/awadb) 是一个原生 AI 数据库，用于存储和搜索 LLM 应用使用的嵌入向量。\n\n本 Notebook 介绍如何在 LangChain 中使用 `AwaEmbeddings`。"
      ]
    },
    {
      "cell_type": "code",
      "execution_count": 1,
      "id": "0ab948fc",
      "metadata": {},
      "outputs": [],
      "source": [
        "# pip install awadb"
      ]
    },
    {
      "cell_type": "markdown",
      "id": "67c637ca",
      "metadata": {},
      "source": [
        "## 导入库"
      ]
    },
    {
      "cell_type": "code",
      "execution_count": 2,
      "id": "5709b030",
      "metadata": {},
      "outputs": [],
      "source": [
        "from langchain_community.embeddings import AwaEmbeddings"
      ]
    },
    {
      "cell_type": "code",
      "execution_count": 3,
      "id": "1756b1ba",
      "metadata": {},
      "outputs": [],
      "source": [
        "Embedding = AwaEmbeddings()"
      ]
    },
    {
      "cell_type": "markdown",
      "id": "4a2a098d",
      "metadata": {},
      "source": [
        "# 设置嵌入模型\n用户可以使用 `Embedding.set_model()` 来指定嵌入模型。\n此函数的输入是一个字符串，代表模型的名称。\n目前支持的模型列表可以在 [这里](https://github.com/awa-ai/awadb) 获取。\n\n**默认模型**是 `all-mpnet-base-v2`，无需设置即可使用。"
      ]
    },
    {
      "cell_type": "code",
      "execution_count": 4,
      "id": "584b9af5",
      "metadata": {},
      "outputs": [],
      "source": [
        "text = \"our embedding test\"\n",
        "\n",
        "Embedding.set_model(\"all-mpnet-base-v2\")"
      ]
    },
    {
      "cell_type": "code",
      "execution_count": 5,
      "id": "be18b873",
      "metadata": {},
      "outputs": [],
      "source": [
        "res_query = Embedding.embed_query(\"The test information\")\n",
        "res_document = Embedding.embed_documents([\"test1\", \"another test\"])"
      ]
    }
  ],
  "metadata": {
    "kernelspec": {
      "display_name": "Python 3 (ipykernel)",
      "language": "python",
      "name": "python3"
    },
    "language_info": {
      "codemirror_mode": {
        "name": "ipython",
        "version": 3
      },
      "file_extension": ".py",
      "mimetype": "text/x-python",
      "name": "python",
      "nbconvert_exporter": "python",
      "pygments_lexer": "ipython3",
      "version": "3.10.12"
    }
  },
  "nbformat": 4,
  "nbformat_minor": 5
}