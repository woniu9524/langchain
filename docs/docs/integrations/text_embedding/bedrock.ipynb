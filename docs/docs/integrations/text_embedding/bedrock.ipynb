{
  "cells": [
    {
      "cell_type": "markdown",
      "id": "75e378f5-55d7-44b6-8e2e-6d7b8b171ec4",
      "metadata": {},
      "source": [
        "# Bedrock\n\n>[Amazon Bedrock](https://aws.amazon.com/bedrock/) 是一项全托管服务，通过单一 API 提供来自 `AI21 Labs`、`Anthropic`、`Cohere`、`Meta`、`Stability AI` 和 `Amazon` 等领先人工智能公司的多种高性能基础模型 (FM)，以及构建生成式 AI 应用所需的广泛能力，涵盖安全、隐私和负责任的 AI。通过使用 `Amazon Bedrock`，您可以轻松地根据您的用例尝试和评估顶尖 FM，并使用微调和`检索增强生成` (`RAG`) 等技术，利用您自己的数据私有化定制它们，还可以构建使用您的企业系统和数据源执行任务的代理。由于 `Amazon Bedrock` 是无服务器的，您无需管理任何基础设施，并且可以使用您熟悉的 AWS 服务，安全地将生成式 AI 功能集成并部署到您的应用程序中。"
      ]
    },
    {
      "cell_type": "code",
      "execution_count": null,
      "id": "2dbe40fa-7c0b-4bcb-a712-230bf613a42f",
      "metadata": {},
      "outputs": [],
      "source": [
        "%pip install --upgrade --quiet  boto3"
      ]
    },
    {
      "cell_type": "code",
      "execution_count": null,
      "id": "282239c8-e03a-4abc-86c1-ca6120231a20",
      "metadata": {},
      "outputs": [],
      "source": [
        "from langchain_aws import BedrockEmbeddings\n",
        "\n",
        "embeddings = BedrockEmbeddings(\n",
        "    credentials_profile_name=\"bedrock-admin\", region_name=\"us-east-1\"\n",
        ")"
      ]
    },
    {
      "cell_type": "code",
      "execution_count": null,
      "id": "19a46868-4bed-40cd-89ca-9813fbfda9cb",
      "metadata": {},
      "outputs": [],
      "source": [
        "embeddings.embed_query(\"This is a content of the document\")"
      ]
    },
    {
      "cell_type": "code",
      "execution_count": null,
      "id": "cf0349c4-6408-4342-8691-69276a388784",
      "metadata": {},
      "outputs": [],
      "source": [
        "embeddings.embed_documents(\n",
        "    [\"This is a content of the document\", \"This is another document\"]\n",
        ")"
      ]
    },
    {
      "cell_type": "code",
      "execution_count": null,
      "id": "9f6b364d",
      "metadata": {},
      "outputs": [],
      "source": [
        "# async embed query\n",
        "await embeddings.aembed_query(\"This is a content of the document\")"
      ]
    },
    {
      "cell_type": "code",
      "execution_count": null,
      "id": "c9240a5a",
      "metadata": {},
      "outputs": [],
      "source": [
        "# async embed documents\n",
        "await embeddings.aembed_documents(\n",
        "    [\"This is a content of the document\", \"This is another document\"]\n",
        ")"
      ]
    }
  ],
  "metadata": {
    "kernelspec": {
      "display_name": "Python 3 (ipykernel)",
      "language": "python",
      "name": "python3"
    },
    "language_info": {
      "codemirror_mode": {
        "name": "ipython",
        "version": 3
      },
      "file_extension": ".py",
      "mimetype": "text/x-python",
      "name": "python",
      "nbconvert_exporter": "python",
      "pygments_lexer": "ipython3",
      "version": "3.10.12"
    }
  },
  "nbformat": 4,
  "nbformat_minor": 5
}