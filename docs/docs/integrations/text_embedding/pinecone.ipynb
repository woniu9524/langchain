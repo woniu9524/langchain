{
  "cells": [
    {
      "cell_type": "markdown",
      "id": "f4b5d823fee826c2",
      "metadata": {
        "collapsed": false
      },
      "source": [
        "# Pinecone Embeddings\n\nPinecone 的推理 API 可以通过 `PineconeEmbeddings` 来访问。通过 Pinecone 服务提供文本嵌入。我们首先安装必需的库："
      ]
    },
    {
      "cell_type": "code",
      "execution_count": null,
      "id": "3bc5d3a5ed7f5ce3",
      "metadata": {
        "collapsed": false
      },
      "outputs": [],
      "source": [
        "!pip install -qU \"langchain-pinecone>=0.2.0\" "
      ]
    },
    {
      "cell_type": "markdown",
      "id": "62a77d25c3fd8bd5",
      "metadata": {
        "collapsed": false
      },
      "source": [
        "接下来，我们 [注册/登录 Pinecone](https://app.pinecone.io) 来获取我们的 API 密钥："
      ]
    },
    {
      "cell_type": "code",
      "execution_count": null,
      "id": "8162dbcbcf7d3d55",
      "metadata": {
        "collapsed": false
      },
      "outputs": [],
      "source": [
        "import os\n",
        "from getpass import getpass\n",
        "\n",
        "os.environ[\"PINECONE_API_KEY\"] = os.getenv(\"PINECONE_API_KEY\") or getpass(\n",
        "    \"Enter your Pinecone API key: \"\n",
        ")"
      ]
    },
    {
      "cell_type": "markdown",
      "id": "98d860a0a2d8b907",
      "metadata": {
        "collapsed": false
      },
      "source": [
        "检查文档中可用的 [models](https://docs.pinecone.io/models/overview)。现在我们像这样初始化嵌入模型："
      ]
    },
    {
      "cell_type": "code",
      "execution_count": null,
      "id": "2b3adb72786a5275",
      "metadata": {
        "collapsed": false
      },
      "outputs": [],
      "source": [
        "from langchain_pinecone import PineconeEmbeddings\n",
        "\n",
        "embeddings = PineconeEmbeddings(model=\"multilingual-e5-large\")"
      ]
    },
    {
      "cell_type": "markdown",
      "id": "11e24da855517230",
      "metadata": {
        "collapsed": false
      },
      "source": [
        "从这里我们可以同步或异步地创建嵌入，让我们先从同步开始！我们使用 `embed_query` 来嵌入单个文本作为查询嵌入（即我们在 RAG 中搜索的内容）："
      ]
    },
    {
      "cell_type": "code",
      "execution_count": null,
      "id": "2da515e2a61ef7e9",
      "metadata": {
        "collapsed": false
      },
      "outputs": [],
      "source": [
        "docs = [\n",
        "    \"Apple is a popular fruit known for its sweetness and crisp texture.\",\n",
        "    \"The tech company Apple is known for its innovative products like the iPhone.\",\n",
        "    \"Many people enjoy eating apples as a healthy snack.\",\n",
        "    \"Apple Inc. has revolutionized the tech industry with its sleek designs and user-friendly interfaces.\",\n",
        "    \"An apple a day keeps the doctor away, as the saying goes.\",\n",
        "]"
      ]
    },
    {
      "cell_type": "code",
      "execution_count": null,
      "id": "2897e0d570c90b2f",
      "metadata": {
        "collapsed": false
      },
      "outputs": [],
      "source": [
        "doc_embeds = embeddings.embed_documents(docs)\n",
        "doc_embeds"
      ]
    },
    {
      "cell_type": "code",
      "execution_count": null,
      "id": "510784963c0e17a",
      "metadata": {
        "collapsed": false
      },
      "outputs": [],
      "source": [
        "query = \"Tell me about the tech company known as Apple\"\n",
        "query_embed = embeddings.embed_query(query)\n",
        "query_embed"
      ]
    }
  ],
  "metadata": {
    "kernelspec": {
      "display_name": "Python 3",
      "language": "python",
      "name": "python3"
    },
    "language_info": {
      "codemirror_mode": {
        "name": "ipython",
        "version": 2
      },
      "file_extension": ".py",
      "mimetype": "text/x-python",
      "name": "python",
      "nbconvert_exporter": "python",
      "pygments_lexer": "ipython2",
      "version": "2.7.6"
    }
  },
  "nbformat": 4,
  "nbformat_minor": 5
}