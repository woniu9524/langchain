{
  "cells": [
    {
      "cell_type": "markdown",
      "metadata": {},
      "source": [
        "# SpaCy\n\n>[spaCy](https://spacy.io/) 是一个用于高级自然语言处理的开源软件库，用 Python 和 Cython 编程语言编写。\n \n\n## 安装与设置"
      ]
    },
    {
      "cell_type": "code",
      "execution_count": null,
      "metadata": {},
      "outputs": [],
      "source": [
        "%pip install --upgrade --quiet  spacy"
      ]
    },
    {
      "cell_type": "markdown",
      "metadata": {},
      "source": [
        "导入必要的类"
      ]
    },
    {
      "cell_type": "code",
      "execution_count": null,
      "metadata": {},
      "outputs": [],
      "source": [
        "from langchain_community.embeddings.spacy_embeddings import SpacyEmbeddings"
      ]
    },
    {
      "cell_type": "markdown",
      "metadata": {},
      "source": [
        "##示例\n\n初始化 SpacyEmbeddings。这将把 Spacy 模型加载到内存中。"
      ]
    },
    {
      "cell_type": "code",
      "execution_count": null,
      "metadata": {},
      "outputs": [],
      "source": [
        "embedder = SpacyEmbeddings(model_name=\"en_core_web_sm\")"
      ]
    },
    {
      "cell_type": "markdown",
      "metadata": {},
      "source": [
        "定义一些示例文本。这些可以是您想分析的任何文档——例如，新闻文章、社交媒体帖子或产品评论。"
      ]
    },
    {
      "cell_type": "code",
      "execution_count": null,
      "metadata": {},
      "outputs": [],
      "source": [
        "texts = [\n",
        "    \"The quick brown fox jumps over the lazy dog.\",\n",
        "    \"Pack my box with five dozen liquor jugs.\",\n",
        "    \"How vexingly quick daft zebras jump!\",\n",
        "    \"Bright vixens jump; dozy fowl quack.\",\n",
        "]"
      ]
    },
    {
      "cell_type": "markdown",
      "metadata": {},
      "source": [
        "生成并打印文本的嵌入。SpacyEmbeddings 类为每个文档生成一个嵌入，这是文档内容的数值表示。这些嵌入可用于各种自然语言处理任务，例如文档相似性比较或文本分类。"
      ]
    },
    {
      "cell_type": "code",
      "execution_count": null,
      "metadata": {},
      "outputs": [],
      "source": [
        "embeddings = embedder.embed_documents(texts)\n",
        "for i, embedding in enumerate(embeddings):\n",
        "    print(f\"Embedding for document {i+1}: {embedding}\")"
      ]
    },
    {
      "cell_type": "markdown",
      "metadata": {},
      "source": [
        "生成并打印单个文本的嵌入。你也可以为单个文本（例如搜索查询）生成嵌入。这对于信息检索之类的任务很有用，因为你想查找与给定查询相似的文档。"
      ]
    },
    {
      "cell_type": "code",
      "execution_count": null,
      "metadata": {},
      "outputs": [],
      "source": [
        "query = \"Quick foxes and lazy dogs.\"\n",
        "query_embedding = embedder.embed_query(query)\n",
        "print(f\"Embedding for query: {query_embedding}\")"
      ]
    }
  ],
  "metadata": {
    "kernelspec": {
      "display_name": "Python 3 (ipykernel)",
      "language": "python",
      "name": "python3"
    },
    "language_info": {
      "codemirror_mode": {
        "name": "ipython",
        "version": 3
      },
      "file_extension": ".py",
      "mimetype": "text/x-python",
      "name": "python",
      "nbconvert_exporter": "python",
      "pygments_lexer": "ipython3",
      "version": "3.10.12"
    }
  },
  "nbformat": 4,
  "nbformat_minor": 4
}