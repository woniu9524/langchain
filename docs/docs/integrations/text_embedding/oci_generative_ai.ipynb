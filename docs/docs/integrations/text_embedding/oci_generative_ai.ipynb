{
  "cells": [
    {
      "cell_type": "markdown",
      "metadata": {},
      "source": [
        "# Oracle Cloud Infrastructure 生成式 AI"
      ]
    },
    {
      "cell_type": "markdown",
      "metadata": {},
      "source": [
        "Oracle Cloud Infrastructure (OCI) 生成式 AI 是一项全托管服务，提供了一系列最先进、可定制的大型语言模型 (LLM)，涵盖广泛用例，并通过单一 API 提供。\n使用 OCI 生成式 AI 服务，您可以访问现成的预训练模型，或者使用专用 AI 集群上的自有数据创建和托管您自己的微调定制模型。服务的详细文档和 API 可通过 __[此处](https://docs.oracle.com/en-us/iaas/Content/generative-ai/home.htm)__ 和 __[此处](https://docs.oracle.com/en-us/iaas/api/#/en/generative-ai/20231130/)__ 获取。\n\n本 Notebook 将介绍如何将 OCI 的生成式 AI 模型与 LangChain 配合使用。"
      ]
    },
    {
      "cell_type": "markdown",
      "metadata": {},
      "source": [
        "### 先决条件\n我们需要安装 oci sdk"
      ]
    },
    {
      "cell_type": "code",
      "execution_count": null,
      "metadata": {},
      "outputs": [],
      "source": [
        "!pip install -U oci"
      ]
    },
    {
      "cell_type": "markdown",
      "metadata": {},
      "source": [
        "### OCI 生成式 AI API 端点\nhttps://inference.generativeai.us-chicago-1.oci.oraclecloud.com"
      ]
    },
    {
      "cell_type": "markdown",
      "metadata": {},
      "source": [
        "## 身份验证\n此 Langchain 集成支持的身份验证方法包括：\n\n1. API 密钥\n2. 会话令牌\n3. 实例主体\n4. 资源主体\n\n这些方法遵循标准的 SDK 身份验证方法，详细信息请参见 __[此处](https://docs.oracle.com/en-us/iaas/Content/API/Concepts/sdk_authentication_methods.htm)__。"
      ]
    },
    {
      "cell_type": "markdown",
      "metadata": {},
      "source": [
        "## 用法"
      ]
    },
    {
      "cell_type": "code",
      "execution_count": null,
      "metadata": {},
      "outputs": [],
      "source": [
        "from langchain_community.embeddings import OCIGenAIEmbeddings\n",
        "\n",
        "# use default authN method API-key\n",
        "embeddings = OCIGenAIEmbeddings(\n",
        "    model_id=\"MY_EMBEDDING_MODEL\",\n",
        "    service_endpoint=\"https://inference.generativeai.us-chicago-1.oci.oraclecloud.com\",\n",
        "    compartment_id=\"MY_OCID\",\n",
        ")\n",
        "\n",
        "\n",
        "query = \"This is a query in English.\"\n",
        "response = embeddings.embed_query(query)\n",
        "print(response)\n",
        "\n",
        "documents = [\"This is a sample document\", \"and here is another one\"]\n",
        "response = embeddings.embed_documents(documents)\n",
        "print(response)"
      ]
    },
    {
      "cell_type": "code",
      "execution_count": null,
      "metadata": {},
      "outputs": [],
      "source": [
        "# Use Session Token to authN\n",
        "embeddings = OCIGenAIEmbeddings(\n",
        "    model_id=\"MY_EMBEDDING_MODEL\",\n",
        "    service_endpoint=\"https://inference.generativeai.us-chicago-1.oci.oraclecloud.com\",\n",
        "    compartment_id=\"MY_OCID\",\n",
        "    auth_type=\"SECURITY_TOKEN\",\n",
        "    auth_profile=\"MY_PROFILE\",  # replace with your profile name\n",
        "    auth_file_location=\"MY_CONFIG_FILE_LOCATION\",  # replace with file location where profile name configs present\n",
        ")\n",
        "\n",
        "\n",
        "query = \"This is a sample query\"\n",
        "response = embeddings.embed_query(query)\n",
        "print(response)\n",
        "\n",
        "documents = [\"This is a sample document\", \"and here is another one\"]\n",
        "response = embeddings.embed_documents(documents)\n",
        "print(response)"
      ]
    }
  ],
  "metadata": {
    "kernelspec": {
      "display_name": "oci_langchain",
      "language": "python",
      "name": "python3"
    },
    "language_info": {
      "codemirror_mode": {
        "name": "ipython",
        "version": 3
      },
      "file_extension": ".py",
      "mimetype": "text/x-python",
      "name": "python",
      "nbconvert_exporter": "python",
      "pygments_lexer": "ipython3",
      "version": "3.8.9"
    }
  },
  "nbformat": 4,
  "nbformat_minor": 2
}