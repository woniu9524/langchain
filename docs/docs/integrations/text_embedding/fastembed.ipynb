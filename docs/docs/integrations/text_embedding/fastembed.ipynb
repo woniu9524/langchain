{
  "cells": [
    {
      "cell_type": "markdown",
      "id": "900fbd04-f6aa-4813-868f-1c54e3265385",
      "metadata": {},
      "source": [
        "# FastEmbed by Qdrant\n\n>[FastEmbed](https://qdrant.github.io/fastembed/) 由 [Qdrant](https://qdrant.tech) 开发，是一个轻量级、快速的 Python 库，专为生成 embedding 而构建。\n>\n>- 量化模型权重\n>- ONNX Runtime，无 PyTorch 依赖\n>- CPU 优先设计\n>- 数据并行化，用于编码大型数据集。"
      ]
    },
    {
      "attachments": {},
      "cell_type": "markdown",
      "id": "2a773d8d",
      "metadata": {},
      "source": [
        "## 依赖\n\n要将 FastEmbed 与 LangChain 结合使用，请安装 `fastembed` Python 包。"
      ]
    },
    {
      "cell_type": "code",
      "execution_count": null,
      "id": "91ea14ce-831d-409a-a88f-30353acdabd1",
      "metadata": {
        "tags": []
      },
      "outputs": [],
      "source": [
        "%pip install --upgrade --quiet  fastembed"
      ]
    },
    {
      "attachments": {},
      "cell_type": "markdown",
      "id": "426f1156",
      "metadata": {},
      "source": [
        "## 导入"
      ]
    },
    {
      "cell_type": "code",
      "execution_count": 2,
      "id": "3f5dc9d7-65e3-4b5b-9086-3327d016cfe0",
      "metadata": {
        "tags": []
      },
      "outputs": [],
      "source": [
        "from langchain_community.embeddings.fastembed import FastEmbedEmbeddings"
      ]
    },
    {
      "cell_type": "markdown",
      "id": "8c77b0bb-2613-4167-a204-14d424b59105",
      "metadata": {},
      "source": [
        "## 实例化 FastEmbed\n   \n### 参数\n- `model_name: str` (默认值: \"BAAI/bge-small-en-v1.5\")\n    > 要使用的 FastEmbedding 模型名称。您可以在此处找到支持的模型列表：[here](https://qdrant.github.io/fastembed/examples/Supported_Models/)。\n\n- `max_length: int` (默认值: 512)\n    > token 的最大数量。值 > 512 的行为未知。\n\n- `cache_dir: Optional[str]` (默认值: None)\n    > 缓存目录的路径。默认为父目录下的 `local_cache`。\n\n- `threads: Optional[int]` (默认值: None)\n    > 单个 onnxruntime 会话可使用的线程数。\n\n- `doc_embed_type: Literal[\"default\", \"passage\"]` (默认值: \"default\")\n    > \"default\": 使用 FastEmbed 的默认嵌入方法。\n    \n    > \"passage\": 在嵌入前将文本加上 \"passage\" 前缀。\n\n- `batch_size: int` (默认值: 256)\n    > 编码的批处理大小。值越高，内存占用越多，但速度更快。\n\n- `parallel: Optional[int]` (默认值: None)\n\n    > 如果 `>1`，将使用数据并行编码，建议用于大型数据集的离线编码。\n    > 如果为 `0`，则使用所有可用核心。\n    > 如果为 `None`，则不使用数据并行处理，而是使用默认的 onnxruntime 线程处理。"
      ]
    },
    {
      "cell_type": "code",
      "execution_count": null,
      "id": "6fb585dd",
      "metadata": {
        "tags": []
      },
      "outputs": [],
      "source": [
        "embeddings = FastEmbedEmbeddings()"
      ]
    },
    {
      "cell_type": "markdown",
      "id": "119fbaad-9442-4fff-8214-c5f597bc8e77",
      "metadata": {},
      "source": [
        "## 用法\n\n### 生成文档嵌入"
      ]
    },
    {
      "cell_type": "code",
      "execution_count": null,
      "id": "62920051-cbd2-460d-ba24-0424c1ed395d",
      "metadata": {},
      "outputs": [],
      "source": [
        "document_embeddings = embeddings.embed_documents(\n",
        "    [\"This is a document\", \"This is some other document\"]\n",
        ")"
      ]
    },
    {
      "cell_type": "markdown",
      "id": "7fd10d96-baee-468f-a532-b70b16b78d1f",
      "metadata": {},
      "source": [
        "### 生成查询嵌入"
      ]
    },
    {
      "cell_type": "code",
      "execution_count": null,
      "id": "9f793bb6-609a-4a4a-a5c7-8e8597228915",
      "metadata": {},
      "outputs": [],
      "source": [
        "query_embeddings = embeddings.embed_query(\"This is a query\")"
      ]
    }
  ],
  "metadata": {
    "kernelspec": {
      "display_name": "Python 3 (ipykernel)",
      "language": "python",
      "name": "python3"
    },
    "language_info": {
      "codemirror_mode": {
        "name": "ipython",
        "version": 3
      },
      "file_extension": ".py",
      "mimetype": "text/x-python",
      "name": "python",
      "nbconvert_exporter": "python",
      "pygments_lexer": "ipython3",
      "version": "3.10.12"
    }
  },
  "nbformat": 4,
  "nbformat_minor": 5
}