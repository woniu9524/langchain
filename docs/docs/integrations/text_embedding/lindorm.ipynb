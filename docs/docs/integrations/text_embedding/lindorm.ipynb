{
  "cells": [
    {
      "cell_type": "raw",
      "id": "afaf8039",
      "metadata": {},
      "source": [
        "---\n",
        "sidebar_label: Lindorm\n",
        "---"
      ]
    },
    {
      "cell_type": "markdown",
      "id": "9a3d6f34",
      "metadata": {},
      "source": [
        "# LindormAIEmbeddings\n\n这将帮助你开始使用 LangChain 的 Lindorm 嵌入模型。\n\n## 概览\n### 集成详情\n\n| 提供商 |              包              |\n|:--------:|:---------------------------------:|\n| [Lindorm](/docs/integrations/providers/lindorm/) | [langchain-lindorm-integration](https://pypi.org/project/langchain-lindorm-integration/) |\n\n## 设置\n\n要访问 Lindorm 嵌入模型，你需要创建一个 Lindorm 账户，获取 AK&SK，并安装 `langchain-lindorm-integration` 集成包。\n\n### 认证信息\n\n你可以在[控制台](https://lindorm.console.aliyun.com/cn-hangzhou/clusterhou/cluster?spm=a2c4g.11186623.0.0.466534e93Xj6tt)获取你的认证信息。"
      ]
    },
    {
      "cell_type": "code",
      "execution_count": 1,
      "id": "36521c2a",
      "metadata": {
        "ExecuteTime": {
          "end_time": "2025-01-08T03:09:11.911612Z",
          "start_time": "2025-01-08T03:09:11.907582Z"
        }
      },
      "outputs": [],
      "source": [
        "import os\n",
        "\n",
        "\n",
        "class Config:\n",
        "    AI_LLM_ENDPOINT = os.environ.get(\"AI_ENDPOINT\", \"<AI_ENDPOINT>\")\n",
        "    AI_USERNAME = os.environ.get(\"AI_USERNAME\", \"root\")\n",
        "    AI_PWD = os.environ.get(\"AI_PASSWORD\", \"<PASSWORD>\")\n",
        "\n",
        "    AI_DEFAULT_EMBEDDING_MODEL = \"bge_m3_model\"  # set to your deployed model"
      ]
    },
    {
      "cell_type": "markdown",
      "id": "d9664366",
      "metadata": {},
      "source": [
        "### 安装\n\nLangChain Lindorm 集成位于 `langchain-lindorm-integration` 包中："
      ]
    },
    {
      "cell_type": "code",
      "execution_count": 2,
      "id": "64853226",
      "metadata": {
        "ExecuteTime": {
          "end_time": "2025-01-08T03:09:15.249326Z",
          "start_time": "2025-01-08T03:09:13.476557Z"
        }
      },
      "outputs": [
        {
          "name": "stdout",
          "output_type": "stream",
          "text": [
            "Note: you may need to restart the kernel to use updated packages.\n"
          ]
        }
      ],
      "source": [
        "%pip install -qU langchain-lindorm-integration"
      ]
    },
    {
      "cell_type": "markdown",
      "id": "45dd1724",
      "metadata": {},
      "source": [
        "## 实例化\n\n现在我们可以实例化我们的模型对象并生成聊天补全："
      ]
    },
    {
      "cell_type": "code",
      "execution_count": 3,
      "id": "9ea7a09b",
      "metadata": {
        "ExecuteTime": {
          "end_time": "2025-01-08T03:09:16.950069Z",
          "start_time": "2025-01-08T03:09:16.385033Z"
        }
      },
      "outputs": [],
      "source": [
        "from langchain_lindorm_integration import LindormAIEmbeddings\n",
        "\n",
        "embeddings = LindormAIEmbeddings(\n",
        "    endpoint=Config.AI_LLM_ENDPOINT,\n",
        "    username=Config.AI_USERNAME,\n",
        "    password=Config.AI_PWD,\n",
        "    model_name=Config.AI_DEFAULT_EMBEDDING_MODEL,\n",
        ")"
      ]
    },
    {
      "cell_type": "markdown",
      "id": "77d271b6",
      "metadata": {},
      "source": [
        "## 索引与检索\n\n嵌入模型通常在检索增强生成（RAG）流程中使用，既可以作为索引数据的组成部分，也可以用于后续的数据检索。有关更详细的说明，请参阅我们的 [RAG 教程](/docs/tutorials/)。\n\n下方将展示如何使用我们上面初始化的 `embeddings` 对象来索引和检索数据。在本示例中，我们将在 `InMemoryVectorStore` 中索引和检索一个示例文档。"
      ]
    },
    {
      "cell_type": "code",
      "execution_count": 4,
      "id": "d817716b",
      "metadata": {
        "ExecuteTime": {
          "end_time": "2025-01-08T03:09:18.822848Z",
          "start_time": "2025-01-08T03:09:18.085150Z"
        }
      },
      "outputs": [
        {
          "data": {
            "text/plain": [
              "'LangChain is the framework for building context-aware reasoning applications'"
            ]
          },
          "execution_count": 4,
          "metadata": {},
          "output_type": "execute_result"
        }
      ],
      "source": [
        "# Create a vector store with a sample text\n",
        "from langchain_core.vectorstores import InMemoryVectorStore\n",
        "\n",
        "text = \"LangChain is the framework for building context-aware reasoning applications\"\n",
        "\n",
        "vectorstore = InMemoryVectorStore.from_texts(\n",
        "    [text],\n",
        "    embedding=embeddings,\n",
        ")\n",
        "\n",
        "# Use the vectorstore as a retriever\n",
        "retriever = vectorstore.as_retriever()\n",
        "\n",
        "# Retrieve the most similar text\n",
        "retrieved_documents = retriever.invoke(\"What is LangChain?\")\n",
        "\n",
        "# show the retrieved document's content\n",
        "retrieved_documents[0].page_content"
      ]
    },
    {
      "cell_type": "markdown",
      "id": "e02b9855",
      "metadata": {},
      "source": [
        "## 直接使用\n\n在底层，vectorstore 和 retriever 的实现会分别调用 `embeddings.embed_documents(...)` 和 `embeddings.embed_query(...)` 来为 `from_texts` 和检索的 `invoke` 操作中使用的文本创建 embeddings。\n\n你可以直接调用这些方法来为你自己的用例获取 embeddings。\n\n### 嵌入单个文本\n\n你可以使用 `embed_query` 来嵌入单个文本或文档："
      ]
    },
    {
      "cell_type": "code",
      "execution_count": 5,
      "id": "0d2befcd",
      "metadata": {
        "ExecuteTime": {
          "end_time": "2025-01-08T03:09:23.634046Z",
          "start_time": "2025-01-08T03:09:23.432791Z"
        }
      },
      "outputs": [
        {
          "name": "stdout",
          "output_type": "stream",
          "text": [
            "[-0.016254117712378502, -0.01154549140483141, 0.0042558759450912476, -0.011416379362344742, -0.01770\n"
          ]
        }
      ],
      "source": [
        "single_vector = embeddings.embed_query(text)\n",
        "print(str(single_vector)[:100])  # Show the first 100 characters of the vector"
      ]
    },
    {
      "cell_type": "markdown",
      "id": "1b5a7d03",
      "metadata": {},
      "source": [
        "### 嵌入多个文本\n\n您可以使用 `embed_documents` 嵌入多个文本："
      ]
    },
    {
      "cell_type": "code",
      "execution_count": 6,
      "id": "2f4d6e97",
      "metadata": {
        "ExecuteTime": {
          "end_time": "2025-01-08T03:09:25.960291Z",
          "start_time": "2025-01-08T03:09:25.743941Z"
        }
      },
      "outputs": [
        {
          "name": "stdout",
          "output_type": "stream",
          "text": [
            "[-0.016254086047410965, -0.011545476503670216, 0.0042558712884783745, -0.011416426859796047, -0.0177\n",
            "[-0.07268096506595612, -3.236892371205613e-05, -0.0019329536007717252, -0.030644644051790237, -0.018\n"
          ]
        }
      ],
      "source": [
        "text2 = (\n",
        "    \"LangGraph is a library for building stateful, multi-actor applications with LLMs\"\n",
        ")\n",
        "two_vectors = embeddings.embed_documents([text, text2])\n",
        "for vector in two_vectors:\n",
        "    print(str(vector)[:100])  # Show the first 100 characters of the vector"
      ]
    },
    {
      "cell_type": "markdown",
      "id": "98785c12",
      "metadata": {},
      "source": [
        "## API 参考\n\n有关 `LindormEmbeddings` 功能和配置选项的详细文档，请参阅[API 参考](https://pypi.org/project/langchain-lindorm-integration/)。"
      ]
    }
  ],
  "metadata": {
    "kernelspec": {
      "display_name": "Python 3 (ipykernel)",
      "language": "python",
      "name": "python3"
    },
    "language_info": {
      "codemirror_mode": {
        "name": "ipython",
        "version": 3
      },
      "file_extension": ".py",
      "mimetype": "text/x-python",
      "name": "python",
      "nbconvert_exporter": "python",
      "pygments_lexer": "ipython3",
      "version": "3.10.5"
    }
  },
  "nbformat": 4,
  "nbformat_minor": 5
}