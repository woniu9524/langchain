{
  "cells": [
    {
      "attachments": {},
      "cell_type": "markdown",
      "id": "9597802c",
      "metadata": {},
      "source": [
        "# Clarifai\n\n>[Clarifai](https://www.clarifai.com/) 是一个 AI 平台，提供从数据探索、数据标注、模型训练、评估到推理的全流程 AI 生命周期。\n\n本示例将介绍如何使用 LangChain 与 `Clarifai` [模型](https://clarifai.com/explore/models)进行交互。特别是，文本嵌入模型可以在[此处](https://clarifai.com/explore/models?page=1&perPage=24&filterData=%5B%7B%22field%22%3A%22model_type_id%22%2C%22value%22%3A%5B%22text-embedder%22%5D%7D%5D)找到。\n\n要使用 Clarifai，您必须拥有一个账户和一个个人访问令牌 (PAT) 密钥。\n请在此[查看](https://clarifai.com/settings/security)以获取或创建 PAT。"
      ]
    },
    {
      "attachments": {},
      "cell_type": "markdown",
      "id": "2a773d8d",
      "metadata": {},
      "source": [
        "# 依赖项"
      ]
    },
    {
      "cell_type": "code",
      "execution_count": null,
      "id": "91ea14ce-831d-409a-a88f-30353acdabd1",
      "metadata": {
        "tags": []
      },
      "outputs": [],
      "source": [
        "# Install required dependencies\n",
        "%pip install --upgrade --quiet  clarifai"
      ]
    },
    {
      "attachments": {},
      "cell_type": "markdown",
      "id": "426f1156",
      "metadata": {},
      "source": [
        "# Imports\n我们将在这里设置个人访问令牌。你可以在 Clarifai 账户的 [settings/security](https://clarifai.clarifai.com/settings/security) 下找到你的 PAT。"
      ]
    },
    {
      "cell_type": "code",
      "execution_count": null,
      "id": "3f5dc9d7-65e3-4b5b-9086-3327d016cfe0",
      "metadata": {
        "tags": []
      },
      "outputs": [],
      "source": [
        "# Please login and get your API key from  https://clarifai.com/settings/security\n",
        "from getpass import getpass\n",
        "\n",
        "CLARIFAI_PAT = getpass()"
      ]
    },
    {
      "cell_type": "code",
      "execution_count": 3,
      "id": "6fb585dd",
      "metadata": {
        "tags": []
      },
      "outputs": [],
      "source": [
        "# Import the required modules\n",
        "from langchain.chains import LLMChain\n",
        "from langchain_community.embeddings import ClarifaiEmbeddings\n",
        "from langchain_core.prompts import PromptTemplate"
      ]
    },
    {
      "attachments": {},
      "cell_type": "markdown",
      "id": "16521ed2",
      "metadata": {},
      "source": [
        "创建用于 LLM Chain 的提示模板："
      ]
    },
    {
      "cell_type": "code",
      "execution_count": 4,
      "id": "035dea0f",
      "metadata": {
        "tags": []
      },
      "outputs": [],
      "source": [
        "template = \"\"\"Question: {question}\n",
        "\n",
        "Answer: Let's think step by step.\"\"\"\n",
        "\n",
        "prompt = PromptTemplate.from_template(template)"
      ]
    },
    {
      "attachments": {},
      "cell_type": "markdown",
      "id": "c8905eac",
      "metadata": {},
      "source": [
        "# 设置\n将用户 ID 和应用程序 ID 设置为模型所在的应用程序。您可以在 https://clarifai.com/explore/models 上找到公共模型的列表。\n\n您还必须初始化模型 ID，并在需要时初始化模型版本 ID。有些模型有许多版本，您可以根据任务选择合适的版本。"
      ]
    },
    {
      "cell_type": "code",
      "execution_count": 6,
      "id": "1fe9bf15",
      "metadata": {},
      "outputs": [],
      "source": [
        "USER_ID = \"clarifai\"\n",
        "APP_ID = \"main\"\n",
        "MODEL_ID = \"BAAI-bge-base-en-v15\"\n",
        "MODEL_URL = \"https://clarifai.com/clarifai/main/models/BAAI-bge-base-en-v15\"\n",
        "\n",
        "# Further you can also provide a specific model version as the model_version_id arg.\n",
        "# MODEL_VERSION_ID = \"MODEL_VERSION_ID\""
      ]
    },
    {
      "cell_type": "code",
      "execution_count": 7,
      "id": "3f3458d9",
      "metadata": {
        "tags": []
      },
      "outputs": [],
      "source": [
        "# Initialize a Clarifai embedding model\n",
        "embeddings = ClarifaiEmbeddings(user_id=USER_ID, app_id=APP_ID, model_id=MODEL_ID)\n",
        "\n",
        "# Initialize a clarifai embedding model using model URL\n",
        "embeddings = ClarifaiEmbeddings(model_url=MODEL_URL)\n",
        "\n",
        "# Alternatively you can initialize clarifai class with pat argument."
      ]
    },
    {
      "cell_type": "code",
      "execution_count": 5,
      "id": "a641dbd9",
      "metadata": {
        "tags": []
      },
      "outputs": [],
      "source": [
        "text = \"roses are red violets are blue.\"\n",
        "text2 = \"Make hay while the sun shines.\""
      ]
    },
    {
      "cell_type": "markdown",
      "id": "14544fbb-76df-43c9-b5ec-88941ff12889",
      "metadata": {},
      "source": [
        "您可以使用 `embed_query` 函数嵌入单行文本！"
      ]
    },
    {
      "cell_type": "code",
      "execution_count": 8,
      "id": "32b4d5f4-2b8e-4681-856f-19a3dd141ae4",
      "metadata": {},
      "outputs": [],
      "source": [
        "query_result = embeddings.embed_query(text)"
      ]
    },
    {
      "cell_type": "markdown",
      "id": "ab9140c7-19c7-48fd-9a28-0c2351e5d2c5",
      "metadata": {},
      "source": [
        "要嵌入文本/文档列表，请使用 `embed_documents` 函数。"
      ]
    },
    {
      "cell_type": "code",
      "execution_count": 9,
      "id": "47076457-1880-48ac-970f-872ead6f0d94",
      "metadata": {},
      "outputs": [],
      "source": [
        "doc_result = embeddings.embed_documents([text, text2])"
      ]
    }
  ],
  "metadata": {
    "kernelspec": {
      "display_name": "Python 3 (ipykernel)",
      "language": "python",
      "name": "python3"
    },
    "language_info": {
      "codemirror_mode": {
        "name": "ipython",
        "version": 3
      },
      "file_extension": ".py",
      "mimetype": "text/x-python",
      "name": "python",
      "nbconvert_exporter": "python",
      "pygments_lexer": "ipython3",
      "version": "3.9.10"
    }
  },
  "nbformat": 4,
  "nbformat_minor": 5
}