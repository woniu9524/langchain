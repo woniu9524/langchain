{
  "cells": [
    {
      "cell_type": "markdown",
      "metadata": {},
      "source": [
        "# Oracle AI Vector Search: 生成嵌入\nOracle AI Vector Search 专为人工智能 (AI) 工作负载而设计，允许您根据语义而非关键词查询数据。\nOracle AI Vector Search 的最大优势之一在于，可以将非结构化数据的语义搜索与业务数据的关系搜索结合在同一个系统中。\n这不仅功能强大，而且效果显著，因为您无需添加专门的向量数据库，从而消除了多系统间数据碎片化的烦恼。\n\n此外，您的向量还可以受益于 Oracle Database 所有最强大的功能，例如：\n\n * [分区支持](https://www.oracle.com/database/technologies/partitioning.html)\n * [Real Application Clusters 可扩展性](https://www.oracle.com/database/real-application-clusters/)\n * [Exadata 智能扫描](https://www.oracle.com/database/technologies/exadata/software/smartscan/)\n * [跨地理分布式数据库的分片处理](https://www.oracle.com/database/distributed-database/)\n * [事务](https://docs.oracle.com/en/database/oracle/oracle-database/23/cncpt/transactions.html)\n * [并行 SQL](https://docs.oracle.com/en/database/oracle/oracle-database/21/vldbg/parallel-exec-intro.html#GUID-D28717E4-0F77-44F5-BB4E-234C31D4E4BA)\n * [灾难恢复](https://www.oracle.com/database/data-guard/)\n * [安全性](https://www.oracle.com/security/database-security/)\n * [Oracle 机器学习](https://www.oracle.com/artificial-intelligence/database-machine-learning/)\n * [Oracle 图数据库](https://www.oracle.com/database/integrated-graph-database/)\n * [Oracle Spatial and Graph](https://www.oracle.com/database/spatial/)\n * [Oracle 区块链](https://docs.oracle.com/en/database/oracle/oracle-database/23/arpls/dbms_blockchain_table.html#GUID-B469E277-978E-4378-A8C1-26D3FF96C9A6)\n * [JSON](https://docs.oracle.com/en/database/oracle/oracle-database/23/adjsn/json-in-oracle-database.html)\n\n\n本指南演示了如何在 Oracle AI Vector Search 中使用嵌入功能，通过 OracleEmbeddings 为您的文档生成嵌入。"
      ]
    },
    {
      "cell_type": "markdown",
      "metadata": {},
      "source": [
        "如果您刚开始接触 Oracle Database，可以考虑探索 [免费的 Oracle 23 AI](https://www.oracle.com/database/free/#resources)，它提供了一个很好的入门环境来设置您的数据库环境。在处理数据库时，通常建议不要默认使用 system 用户；您可以创建自己的用户以增强安全性和自定义性。有关用户创建的详细步骤，请参阅我们的 [端到端指南](https://github.com/langchain-ai/langchain/blob/master/cookbook/oracleai_demo.ipynb)，其中还演示了如何在 Oracle 中设置用户。此外，了解用户权限对于有效管理数据库安全至关重要。您可以在官方的 [Oracle 指南](https://docs.oracle.com/en/database/oracle/oracle-database/19/admqs/administering-user-accounts-and-security.html#GUID-36B21D72-1BBB-46C9-A0C9-F0D2A8591B8D) 中了解有关用户账户和安全管理方面的更多信息。"
      ]
    },
    {
      "cell_type": "markdown",
      "metadata": {},
      "source": [
        "### 先决条件\n\n请确保已安装 Oracle Python 客户端驱动程序，以便将 Langchain 与 Oracle AI Vector Search 进行集成。"
      ]
    },
    {
      "cell_type": "code",
      "execution_count": null,
      "metadata": {},
      "outputs": [],
      "source": [
        "# pip install oracledb"
      ]
    },
    {
      "cell_type": "markdown",
      "metadata": {},
      "source": [
        "### 连接到 Oracle 数据库\n下面的示例代码将展示如何连接到 Oracle 数据库。默认情况下，python-oracledb 以“Thin”模式运行，该模式直接连接到 Oracle 数据库。此模式不需要 Oracle Client 库。但是，当 python-oracledb 使用 Oracle Client 库时，可以使用一些附加功能。当使用 Oracle Client 库时，python-oracledb 被称为处于“Thick”模式。两种模式都支持全面的功能，符合 Python Database API v2.0 规范。请参阅以下 [指南](https://python-oracledb.readthedocs.io/en/latest/user_guide/appendix_a.html#featuresummary)，其中介绍了每种模式支持的功能。如果无法使用 Thin 模式，您可能需要切换到 Thick 模式。"
      ]
    },
    {
      "cell_type": "code",
      "execution_count": null,
      "metadata": {},
      "outputs": [],
      "source": [
        "import sys\n",
        "\n",
        "import oracledb\n",
        "\n",
        "# Update the following variables with your Oracle database credentials and connection details\n",
        "username = \"<username>\"\n",
        "password = \"<password>\"\n",
        "dsn = \"<hostname>/<service_name>\"\n",
        "\n",
        "try:\n",
        "    conn = oracledb.connect(user=username, password=password, dsn=dsn)\n",
        "    print(\"Connection successful!\")\n",
        "except Exception as e:\n",
        "    print(\"Connection failed!\")\n",
        "    sys.exit(1)"
      ]
    },
    {
      "cell_type": "markdown",
      "metadata": {},
      "source": [
        "在嵌入生成方面，用户可以选择多种提供程序，包括数据库内的嵌入生成以及 OcigenAI、Hugging Face 和 OpenAI 等第三方服务。选择第三方提供程序的用户的凭据必须包含必需的身份验证信息。或者，如果用户选择“数据库”作为其提供程序，则需要将 ONNX 模型加载到 Oracle Database 中以方便生成嵌入。"
      ]
    },
    {
      "cell_type": "markdown",
      "metadata": {},
      "source": [
        "### 加载 ONNX 模型\n\nOracle 支持多种嵌入模型提供商，使用户可以在专有的数据库解决方案以及 OCIGENAI 和 HuggingFace 等第三方服务之间进行选择。此选择决定了生成和管理嵌入模型的方法。\n\n***重要***：如果用户选择数据库选项，则必须将 ONNX 模型上传到 Oracle 数据库。反之，如果选择第三方提供商进行嵌入模型生成，则无需将 ONNX 模型上传到 Oracle 数据库。\n\n直接在 Oracle 中使用 ONNX 模型的一个显著优势是它具有更高的安全性和性能，消除了将数据传输给外部方的需求。此外，此方法还避免了通常与网络或 REST API 调用相关的延迟。\n\n以下是将 ONNX 模型上传到 Oracle 数据库的示例代码："
      ]
    },
    {
      "cell_type": "code",
      "execution_count": null,
      "metadata": {},
      "outputs": [],
      "source": [
        "from langchain_community.embeddings.oracleai import OracleEmbeddings\n",
        "\n",
        "# Update the directory and file names for your ONNX model\n",
        "# make sure that you have onnx file in the system\n",
        "onnx_dir = \"DEMO_DIR\"\n",
        "onnx_file = \"tinybert.onnx\"\n",
        "model_name = \"demo_model\"\n",
        "\n",
        "try:\n",
        "    OracleEmbeddings.load_onnx_model(conn, onnx_dir, onnx_file, model_name)\n",
        "    print(\"ONNX model loaded.\")\n",
        "except Exception as e:\n",
        "    print(\"ONNX model loading failed!\")\n",
        "    sys.exit(1)"
      ]
    },
    {
      "cell_type": "markdown",
      "metadata": {},
      "source": [
        "### 创建凭证\n\n在选择第三方提供商生成嵌入时，用户需要建立凭证以安全地访问提供商的端点。\n\n***重要提示：*** 当选择“数据库”提供商生成嵌入时，不需要任何凭证。但是，如果用户决定使用第三方提供商，则必须创建特定于所选提供商的凭证。\n\n下面是一个示例："
      ]
    },
    {
      "cell_type": "code",
      "execution_count": null,
      "metadata": {},
      "outputs": [],
      "source": [
        "try:\n",
        "    cursor = conn.cursor()\n",
        "    cursor.execute(\n",
        "        \"\"\"\n",
        "       declare\n",
        "           jo json_object_t;\n",
        "       begin\n",
        "           -- HuggingFace\n",
        "           dbms_vector_chain.drop_credential(credential_name  => 'HF_CRED');\n",
        "           jo := json_object_t();\n",
        "           jo.put('access_token', '<access_token>');\n",
        "           dbms_vector_chain.create_credential(\n",
        "               credential_name   =>  'HF_CRED',\n",
        "               params            => json(jo.to_string));\n",
        "\n",
        "           -- OCIGENAI\n",
        "           dbms_vector_chain.drop_credential(credential_name  => 'OCI_CRED');\n",
        "           jo := json_object_t();\n",
        "           jo.put('user_ocid','<user_ocid>');\n",
        "           jo.put('tenancy_ocid','<tenancy_ocid>');\n",
        "           jo.put('compartment_ocid','<compartment_ocid>');\n",
        "           jo.put('private_key','<private_key>');\n",
        "           jo.put('fingerprint','<fingerprint>');\n",
        "           dbms_vector_chain.create_credential(\n",
        "               credential_name   => 'OCI_CRED',\n",
        "               params            => json(jo.to_string));\n",
        "       end;\n",
        "       \"\"\"\n",
        "    )\n",
        "    cursor.close()\n",
        "    print(\"Credentials created.\")\n",
        "except Exception as ex:\n",
        "    cursor.close()\n",
        "    raise"
      ]
    },
    {
      "cell_type": "markdown",
      "metadata": {},
      "source": [
        "### 生成嵌入\n\nOracle AI Vector Search 提供多种生成嵌入的方法，可利用本地托管的 ONNX 模型或第三方 API。有关配置这些替代方案的全面说明，请参阅 [Oracle AI Vector Search 指南](https://docs.oracle.com/en/database/oracle/oracle-database/23/arpls/dbms_vector_chain1.html#GUID-C6439E94-4E86-4ECD-954E-4B73D53579DE)。"
      ]
    },
    {
      "cell_type": "markdown",
      "metadata": {},
      "source": [
        "***注意：*** 用户可能需要配置代理才能利用第三方嵌入生成提供商，但不包括使用 ONNX 模型的 'database' 提供商。"
      ]
    },
    {
      "cell_type": "code",
      "execution_count": null,
      "metadata": {},
      "outputs": [],
      "source": [
        "# proxy to be used when we instantiate summary and embedder object\n",
        "proxy = \"<proxy>\""
      ]
    },
    {
      "cell_type": "markdown",
      "metadata": {},
      "source": [
        "以下示例代码将展示如何生成 embeddings："
      ]
    },
    {
      "cell_type": "code",
      "execution_count": null,
      "metadata": {},
      "outputs": [],
      "source": [
        "from langchain_community.embeddings.oracleai import OracleEmbeddings\n",
        "from langchain_core.documents import Document\n",
        "\n",
        "\"\"\"\n",
        "# using ocigenai\n",
        "embedder_params = {\n",
        "    \"provider\": \"ocigenai\",\n",
        "    \"credential_name\": \"OCI_CRED\",\n",
        "    \"url\": \"https://inference.generativeai.us-chicago-1.oci.oraclecloud.com/20231130/actions/embedText\",\n",
        "    \"model\": \"cohere.embed-english-light-v3.0\",\n",
        "}\n",
        "\n",
        "# using huggingface\n",
        "embedder_params = {\n",
        "    \"provider\": \"huggingface\", \n",
        "    \"credential_name\": \"HF_CRED\", \n",
        "    \"url\": \"https://api-inference.huggingface.co/pipeline/feature-extraction/\", \n",
        "    \"model\": \"sentence-transformers/all-MiniLM-L6-v2\", \n",
        "    \"wait_for_model\": \"true\"\n",
        "}\n",
        "\"\"\"\n",
        "\n",
        "# using ONNX model loaded to Oracle Database\n",
        "embedder_params = {\"provider\": \"database\", \"model\": \"demo_model\"}\n",
        "\n",
        "# If a proxy is not required for your environment, you can omit the 'proxy' parameter below\n",
        "embedder = OracleEmbeddings(conn=conn, params=embedder_params, proxy=proxy)\n",
        "embed = embedder.embed_query(\"Hello World!\")\n",
        "\n",
        "\"\"\" verify \"\"\"\n",
        "print(f\"Embedding generated by OracleEmbeddings: {embed}\")"
      ]
    },
    {
      "cell_type": "markdown",
      "metadata": {},
      "source": [
        "### 端到端演示\n\n请参考我们完整的演示指南 [Oracle AI Vector Search 端到端演示指南](https://github.com/langchain-ai/langchain/tree/master/cookbook/oracleai_demo.ipynb)，借助 Oracle AI Vector Search 构建端到端的 RAG 管道。"
      ]
    }
  ],
  "metadata": {
    "kernelspec": {
      "display_name": "Python 3 (ipykernel)",
      "language": "python",
      "name": "python3"
    },
    "language_info": {
      "codemirror_mode": {
        "name": "ipython",
        "version": 3
      },
      "file_extension": ".py",
      "mimetype": "text/x-python",
      "name": "python",
      "nbconvert_exporter": "python",
      "pygments_lexer": "ipython3",
      "version": "3.11.9"
    }
  },
  "nbformat": 4,
  "nbformat_minor": 4
}