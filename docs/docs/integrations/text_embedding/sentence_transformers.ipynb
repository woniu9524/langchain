{
  "cells": [
    {
      "cell_type": "markdown",
      "id": "ed47bb62",
      "metadata": {},
      "source": [
        "# Hugging Face 上的 Sentence Transformers\n\n>[Hugging Face sentence-transformers](https://huggingface.co/sentence-transformers) 是一个用于最先进的句子、文本和图像嵌入的 Python 框架。\n>你可以使用 `HuggingFaceEmbeddings` 类来使用这些嵌入模型。\n\n:::caution\n\n在本地运行 sentence-transformers 可能会受到你的操作系统和其他全局因素的影响。此操作仅推荐给有经验的用户。\n\n:::\n\n## 设置\n\n你需要安装 `langchain_huggingface` 包作为依赖："
      ]
    },
    {
      "cell_type": "code",
      "execution_count": null,
      "id": "06c9f47d",
      "metadata": {},
      "outputs": [],
      "source": [
        "%pip install -qU langchain-huggingface"
      ]
    },
    {
      "cell_type": "markdown",
      "id": "8fb16f74",
      "metadata": {},
      "source": [
        "## 用法"
      ]
    },
    {
      "cell_type": "code",
      "execution_count": 5,
      "id": "ff9be586",
      "metadata": {},
      "outputs": [
        {
          "name": "stdout",
          "output_type": "stream",
          "text": [
            "[-0.038338568061590195, 0.12346471101045609, -0.028642969205975533, 0.05365273356437683, 0.008845377...\n"
          ]
        }
      ],
      "source": [
        "from langchain_huggingface import HuggingFaceEmbeddings\n",
        "\n",
        "embeddings = HuggingFaceEmbeddings(model_name=\"all-MiniLM-L6-v2\")\n",
        "\n",
        "text = \"This is a test document.\"\n",
        "query_result = embeddings.embed_query(text)\n",
        "\n",
        "# show only the first 100 characters of the stringified vector\n",
        "print(str(query_result)[:100] + \"...\")"
      ]
    },
    {
      "cell_type": "code",
      "execution_count": 6,
      "id": "bb5e74c0",
      "metadata": {},
      "outputs": [
        {
          "name": "stdout",
          "output_type": "stream",
          "text": [
            "[[-0.038338497281074524, 0.12346471846103668, -0.028642890974879265, 0.05365274101495743, 0.00884535...\n"
          ]
        }
      ],
      "source": [
        "doc_result = embeddings.embed_documents([text, \"This is not a test document.\"])\n",
        "print(str(doc_result)[:100] + \"...\")"
      ]
    },
    {
      "cell_type": "markdown",
      "id": "1e6525cb",
      "metadata": {},
      "source": [
        "## 疑难解答\n\n如果您在使用 `accelerate` 包时遇到找不到或导入失败的问题，安装/升级它可能会有所帮助："
      ]
    },
    {
      "cell_type": "code",
      "execution_count": null,
      "id": "bbae70f7",
      "metadata": {},
      "outputs": [],
      "source": [
        "%pip install -qU accelerate"
      ]
    }
  ],
  "metadata": {
    "kernelspec": {
      "display_name": "Python 3 (ipykernel)",
      "language": "python",
      "name": "python3"
    },
    "language_info": {
      "codemirror_mode": {
        "name": "ipython",
        "version": 3
      },
      "file_extension": ".py",
      "mimetype": "text/x-python",
      "name": "python",
      "nbconvert_exporter": "python",
      "pygments_lexer": "ipython3",
      "version": "3.10.5"
    },
    "vscode": {
      "interpreter": {
        "hash": "7377c2ccc78bc62c2683122d48c8cd1fb85a53850a1b1fc29736ed39852c9885"
      }
    }
  },
  "nbformat": 4,
  "nbformat_minor": 5
}