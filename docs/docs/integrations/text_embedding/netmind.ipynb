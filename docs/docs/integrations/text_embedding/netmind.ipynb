{
  "cells": [
    {
      "cell_type": "raw",
      "id": "afaf8039",
      "metadata": {},
      "source": [
        "---\n",
        "sidebar_label: Netmind\n",
        "---"
      ]
    },
    {
      "cell_type": "markdown",
      "id": "9a3d6f34",
      "metadata": {},
      "source": [
        "# NetmindEmbeddings\n\n这将帮助你开始使用 LangChain 的 Netmind 嵌入模型。有关 `NetmindEmbeddings` 功能和配置选项的详细文档，请参阅 [API 参考](https://python.langchain.com/api_reference/)。\n\n## 概述\n### 集成详情\n\n| 提供商 | 包 |\n|:--------:|:-------:|\n| [Netmind](/docs/integrations/providers/netmind/) | [langchain-netmind](https://python.langchain.com/api_reference/) |\n\n## 设置\n\n要访问 Netmind 嵌入模型，你需要创建一个 Netmind 账户，获取一个 API 密钥，并安装 `langchain-netmind` 集成包。\n\n### 凭证\n\n前往 https://www.netmind.ai/ 注册 Netmind 并生成 API 密钥。完成此操作后，设置 NETMIND_API_KEY 环境变量："
      ]
    },
    {
      "cell_type": "code",
      "id": "36521c2a",
      "metadata": {
        "ExecuteTime": {
          "end_time": "2025-03-20T01:53:29.982962Z",
          "start_time": "2025-03-20T01:53:27.764291Z"
        }
      },
      "source": [
        "import getpass\n",
        "import os\n",
        "\n",
        "if not os.getenv(\"NETMIND_API_KEY\"):\n",
        "    os.environ[\"NETMIND_API_KEY\"] = getpass.getpass(\"Enter your Netmind API key: \")"
      ],
      "outputs": [],
      "execution_count": 1
    },
    {
      "cell_type": "markdown",
      "id": "c84fb993",
      "metadata": {},
      "source": [
        "如果你想获得模型调用的自动化追踪，也可以通过取消注释以下内容来设置你的 [LangSmith](https://docs.smith.langchain.com/) API 密钥："
      ]
    },
    {
      "cell_type": "code",
      "id": "39a4953b",
      "metadata": {
        "ExecuteTime": {
          "end_time": "2025-03-20T01:53:32.143687Z",
          "start_time": "2025-03-20T01:53:32.141858Z"
        }
      },
      "source": [
        "# os.environ[\"LANGCHAIN_TRACING_V2\"] = \"true\"\n",
        "# os.environ[\"LANGCHAIN_API_KEY\"] = getpass.getpass(\"Enter your LangSmith API key: \")"
      ],
      "outputs": [],
      "execution_count": 2
    },
    {
      "cell_type": "markdown",
      "id": "d9664366",
      "metadata": {},
      "source": [
        "### 安装\n\nLangChain Netmind 集成位于 `langchain-netmind` 包中："
      ]
    },
    {
      "cell_type": "code",
      "id": "64853226",
      "metadata": {
        "ExecuteTime": {
          "end_time": "2025-03-20T01:53:38.639440Z",
          "start_time": "2025-03-20T01:53:36.171640Z"
        }
      },
      "source": [
        "%pip install -qU langchain-netmind"
      ],
      "outputs": [
        {
          "name": "stdout",
          "output_type": "stream",
          "text": [
            "\r\n",
            "\u001b[1m[\u001b[0m\u001b[34;49mnotice\u001b[0m\u001b[1;39;49m]\u001b[0m\u001b[39;49m A new release of pip is available: \u001b[0m\u001b[31;49m24.0\u001b[0m\u001b[39;49m -> \u001b[0m\u001b[32;49m25.0.1\u001b[0m\r\n",
            "\u001b[1m[\u001b[0m\u001b[34;49mnotice\u001b[0m\u001b[1;39;49m]\u001b[0m\u001b[39;49m To update, run: \u001b[0m\u001b[32;49mpip install --upgrade pip\u001b[0m\r\n",
            "Note: you may need to restart the kernel to use updated packages.\n"
          ]
        }
      ],
      "execution_count": 3
    },
    {
      "cell_type": "markdown",
      "id": "45dd1724",
      "metadata": {},
      "source": [
        "## 实例化\n\n现在我们可以实例化我们的模型对象了："
      ]
    },
    {
      "cell_type": "code",
      "id": "9ea7a09b",
      "metadata": {
        "ExecuteTime": {
          "end_time": "2025-03-20T01:54:31.005334Z",
          "start_time": "2025-03-20T01:54:30.146876Z"
        }
      },
      "source": [
        "from langchain_netmind import NetmindEmbeddings\n",
        "\n",
        "embeddings = NetmindEmbeddings(\n",
        "    model=\"nvidia/NV-Embed-v2\",\n",
        ")"
      ],
      "outputs": [],
      "execution_count": 4
    },
    {
      "cell_type": "markdown",
      "id": "77d271b6",
      "metadata": {},
      "source": [
        "## 索引与检索\n\nEmbedding 模型常用于检索增强生成（RAG）流程中，既可用于索引数据，也可用于检索数据。更多详细说明，请参阅我们的 [RAG 教程](/docs/tutorials/)。\n\n下方展示了如何使用我们上面初始化的 `embeddings` 对象进行数据索引与检索。在本例中，我们将在 `InMemoryVectorStore` 中索引和检索一个示例文档。"
      ]
    },
    {
      "cell_type": "code",
      "id": "d817716b",
      "metadata": {
        "ExecuteTime": {
          "end_time": "2025-03-20T01:54:40.963137Z",
          "start_time": "2025-03-20T01:54:34.500805Z"
        }
      },
      "source": [
        "# Create a vector store with a sample text\n",
        "from langchain_core.vectorstores import InMemoryVectorStore\n",
        "\n",
        "text = \"LangChain is the framework for building context-aware reasoning applications\"\n",
        "\n",
        "vectorstore = InMemoryVectorStore.from_texts(\n",
        "    [text],\n",
        "    embedding=embeddings,\n",
        ")\n",
        "\n",
        "# Use the vectorstore as a retriever\n",
        "retriever = vectorstore.as_retriever()\n",
        "\n",
        "# Retrieve the most similar text\n",
        "retrieved_documents = retriever.invoke(\"What is LangChain?\")\n",
        "\n",
        "# show the retrieved document's content\n",
        "retrieved_documents[0].page_content"
      ],
      "outputs": [
        {
          "data": {
            "text/plain": [
              "'LangChain is the framework for building context-aware reasoning applications'"
            ]
          },
          "execution_count": 5,
          "metadata": {},
          "output_type": "execute_result"
        }
      ],
      "execution_count": 5
    },
    {
      "cell_type": "markdown",
      "id": "e02b9855",
      "metadata": {},
      "source": [
        "## 直接使用\n\n在底层，vectorstore 和 retriever 的实现会调用 `embeddings.embed_documents(...)` 和 `embeddings.embed_query(...)` 方法，分别用于在 `from_texts` 和检索 `invoke` 操作中为使用的文本创建 embeddings。\n\n您可以直接调用这些方法来获取用于您自己用例的 embeddings。\n\n### 嵌入单个文本\n\n您可以使用 `embed_query` 来嵌入单个文本或文档："
      ]
    },
    {
      "cell_type": "code",
      "id": "0d2befcd",
      "metadata": {
        "ExecuteTime": {
          "end_time": "2025-03-20T01:54:49.540750Z",
          "start_time": "2025-03-20T01:54:45.196528Z"
        }
      },
      "source": [
        "single_vector = embeddings.embed_query(text)\n",
        "print(str(single_vector)[:100])  # Show the first 100 characters of the vector"
      ],
      "outputs": [
        {
          "name": "stdout",
          "output_type": "stream",
          "text": [
            "[-0.0051240199245512486, -0.01726294495165348, 0.011966848745942116, -0.0018107350915670395, 0.01146\n"
          ]
        }
      ],
      "execution_count": 6
    },
    {
      "cell_type": "markdown",
      "id": "1b5a7d03",
      "metadata": {},
      "source": [
        "### 嵌入多个文本\n\n您可以使用 `embed_documents` 嵌入多个文本："
      ]
    },
    {
      "cell_type": "code",
      "id": "2f4d6e97",
      "metadata": {
        "ExecuteTime": {
          "end_time": "2025-03-20T01:54:57.089847Z",
          "start_time": "2025-03-20T01:54:52.468719Z"
        }
      },
      "source": [
        "text2 = (\n",
        "    \"LangGraph is a library for building stateful, multi-actor applications with LLMs\"\n",
        ")\n",
        "two_vectors = embeddings.embed_documents([text, text2])\n",
        "for vector in two_vectors:\n",
        "    print(str(vector)[:100])  # Show the first 100 characters of the vector"
      ],
      "outputs": [
        {
          "name": "stdout",
          "output_type": "stream",
          "text": [
            "[-0.0051240199245512486, -0.01726294495165348, 0.011966848745942116, -0.0018107350915670395, 0.01146\n",
            "[0.022523142397403717, -0.002223758026957512, -0.008578270673751831, -0.006029821466654539, 0.008752\n"
          ]
        }
      ],
      "execution_count": 7
    },
    {
      "cell_type": "markdown",
      "id": "98785c12",
      "metadata": {},
      "source": [
        "## API 参考\n\n有关 `NetmindEmbeddings` 功能的详细文档和配置选项，请参阅：\n* [API 参考](https://python.langchain.com/api_reference/)\n* [langchain-netmind](https://github.com/protagolabs/langchain-netmind)\n* [pypi](https://pypi.org/project/langchain-netmind/)"
      ]
    },
    {
      "metadata": {},
      "cell_type": "code",
      "outputs": [],
      "execution_count": null,
      "source": "",
      "id": "adb9e45c34733299"
    }
  ],
  "metadata": {
    "kernelspec": {
      "display_name": "Python 3 (ipykernel)",
      "language": "python",
      "name": "python3"
    },
    "language_info": {
      "codemirror_mode": {
        "name": "ipython",
        "version": 3
      },
      "file_extension": ".py",
      "mimetype": "text/x-python",
      "name": "python",
      "nbconvert_exporter": "python",
      "pygments_lexer": "ipython3",
      "version": "3.10.5"
    }
  },
  "nbformat": 4,
  "nbformat_minor": 5
}