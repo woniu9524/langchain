{
  "cells": [
    {
      "cell_type": "markdown",
      "metadata": {},
      "source": [
        "# 百川文本嵌入模型\n\n截至今日（2024年1月25日），百川文本嵌入模型在 CUB（中文多任务嵌入基准测试）排行榜上名列第一。"
      ]
    },
    {
      "cell_type": "markdown",
      "metadata": {},
      "source": [
        "排行榜 (位于 Overall -> Chinese 部分): https://huggingface.co/spaces/mteb/leaderboard"
      ]
    },
    {
      "cell_type": "markdown",
      "metadata": {},
      "source": [
        "官方网站：https://platform.baichuan-ai.com/docs/text-Embedding\n\n使用此嵌入模型需要 API 密钥。您可以通过在 https://platform.baichuan-ai.com/docs/text-Embedding 注册来获取一个。"
      ]
    },
    {
      "cell_type": "markdown",
      "metadata": {},
      "source": [
        "BaichuanTextEmbeddings 支持 512 token 窗口，并生成具有 1024 维的向量。"
      ]
    },
    {
      "cell_type": "markdown",
      "metadata": {},
      "source": [
        "请注意，BaichuanTextEmbeddings 仅支持中文文本嵌入。多语言支持即将推出。"
      ]
    },
    {
      "cell_type": "code",
      "execution_count": null,
      "metadata": {},
      "outputs": [],
      "source": [
        "from langchain_community.embeddings import BaichuanTextEmbeddings\n",
        "\n",
        "embeddings = BaichuanTextEmbeddings(baichuan_api_key=\"sk-*\")"
      ]
    },
    {
      "cell_type": "markdown",
      "metadata": {},
      "source": [
        "或者，您可以通过这种方式设置 API 密钥："
      ]
    },
    {
      "cell_type": "code",
      "execution_count": null,
      "metadata": {},
      "outputs": [],
      "source": [
        "import os\n",
        "\n",
        "os.environ[\"BAICHUAN_API_KEY\"] = \"YOUR_API_KEY\""
      ]
    },
    {
      "cell_type": "code",
      "execution_count": null,
      "metadata": {},
      "outputs": [],
      "source": [
        "text_1 = \"今天天气不错\"\n",
        "text_2 = \"今天阳光很好\"\n",
        "\n",
        "query_result = embeddings.embed_query(text_1)\n",
        "query_result"
      ]
    },
    {
      "cell_type": "code",
      "execution_count": null,
      "metadata": {},
      "outputs": [],
      "source": [
        "doc_result = embeddings.embed_documents([text_1, text_2])\n",
        "doc_result"
      ]
    }
  ],
  "metadata": {
    "language_info": {
      "name": "python"
    }
  },
  "nbformat": 4,
  "nbformat_minor": 2
}