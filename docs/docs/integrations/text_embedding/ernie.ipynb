{
  "cells": [
    {
      "cell_type": "markdown",
      "metadata": {},
      "source": [
        "# ERNIE\n\n[ERNIE Embedding-V1](https://cloud.baidu.com/doc/WENXINWORKSHOP/simg/alj562vvu) 是百度文心大模型技术驱动的文本表示模型，它将文本转换为数值形式的向量表示，应用于文本检索、信息推荐、知识挖掘等场景。"
      ]
    },
    {
      "cell_type": "markdown",
      "metadata": {},
      "source": [
        "**弃用警告**\n\n我们建议使用 `langchain_community.embeddings.ErnieEmbeddings` 的用户改用 `langchain_community.embeddings.QianfanEmbeddingsEndpoint`。\n\n`QianfanEmbeddingsEndpoint` 的文档请参见 [这里](/docs/integrations/text_embedding/baidu_qianfan_endpoint/)。\n\n我们推荐用户使用 `QianfanEmbeddingsEndpoint` 有两个原因：\n\n1. `QianfanEmbeddingsEndpoint` 支持千帆平台上的更多嵌入模型。\n2. `ErnieEmbeddings` 缺乏维护且已弃用。"
      ]
    },
    {
      "cell_type": "markdown",
      "metadata": {},
      "source": [
        "迁移的一些技巧："
      ]
    },
    {
      "cell_type": "code",
      "execution_count": null,
      "metadata": {},
      "outputs": [],
      "source": [
        "from langchain_community.embeddings import QianfanEmbeddingsEndpoint\n",
        "\n",
        "embeddings = QianfanEmbeddingsEndpoint(\n",
        "    qianfan_ak=\"your qianfan ak\",\n",
        "    qianfan_sk=\"your qianfan sk\",\n",
        ")"
      ]
    },
    {
      "cell_type": "markdown",
      "metadata": {},
      "source": [
        "## 用法"
      ]
    },
    {
      "cell_type": "code",
      "execution_count": null,
      "metadata": {},
      "outputs": [],
      "source": [
        "from langchain_community.embeddings import ErnieEmbeddings"
      ]
    },
    {
      "cell_type": "code",
      "execution_count": null,
      "metadata": {},
      "outputs": [],
      "source": [
        "embeddings = ErnieEmbeddings()"
      ]
    },
    {
      "cell_type": "code",
      "execution_count": null,
      "metadata": {},
      "outputs": [],
      "source": [
        "query_result = embeddings.embed_query(\"foo\")"
      ]
    },
    {
      "cell_type": "code",
      "execution_count": null,
      "metadata": {},
      "outputs": [],
      "source": [
        "doc_results = embeddings.embed_documents([\"foo\"])"
      ]
    }
  ],
  "metadata": {
    "kernelspec": {
      "display_name": "Python 3 (ipykernel)",
      "language": "python",
      "name": "python3"
    },
    "language_info": {
      "codemirror_mode": {
        "name": "ipython",
        "version": 3
      },
      "file_extension": ".py",
      "mimetype": "text/x-python",
      "name": "python",
      "nbconvert_exporter": "python",
      "pygments_lexer": "ipython3",
      "version": "3.10.12"
    }
  },
  "nbformat": 4,
  "nbformat_minor": 4
}