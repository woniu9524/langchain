{
  "cells": [
    {
      "cell_type": "markdown",
      "metadata": {},
      "source": [
        "# TextEmbed - Embedding 推理服务器\n\nTextEmbed 是一个高吞吐量、低延迟的 REST API，专为向量嵌入服务而设计。它支持广泛的 sentence-transformer 模型和框架，使其适用于自然语言处理的各种应用。\n\n## 特性\n\n- **高吞吐量 & 低延迟：** 旨在高效处理大量请求。\n- **灵活的模型支持：** 可与各种 sentence-transformer 模型协同工作。\n- **可扩展：** 可轻松集成到更大的系统中，并根据需求进行扩展。\n- **批量处理：** 支持批量处理，以实现更好、更快的推理。\n- **兼容 OpenAI 的 REST API 端点：** 提供兼容 OpenAI 的 REST API 端点。\n- **单行命令部署：** 通过单个命令部署多个模型，实现高效部署。\n- **支持嵌入格式：** 支持二进制、float16 和 float32 嵌入格式，以实现更快的检索。\n\n## 入门\n\n### 先决条件\n\n请确保已安装 Python 3.10 或更高版本。您还需要安装所需的依赖项。"
      ]
    },
    {
      "cell_type": "markdown",
      "metadata": {},
      "source": [
        "## 通过 PyPI 安装\n\n1. **安装所需的依赖项：**\n\n    ```bash\n    pip install -U textembed\n    ```\n\n2. **使用您想要的模型启动 TextEmbed 服务器：**\n\n    ```bash\n    python -m textembed.server --models sentence-transformers/all-MiniLM-L12-v2 --workers 4 --api-key TextEmbed\n    ```\n\n有关更多信息，请阅读[文档](https://github.com/kevaldekivadiya2415/textembed/blob/main/docs/setup.md)。"
      ]
    },
    {
      "cell_type": "markdown",
      "metadata": {},
      "source": [
        "### 导入"
      ]
    },
    {
      "cell_type": "code",
      "execution_count": 2,
      "metadata": {},
      "outputs": [],
      "source": [
        "from langchain_community.embeddings import TextEmbedEmbeddings"
      ]
    },
    {
      "cell_type": "code",
      "execution_count": 11,
      "metadata": {},
      "outputs": [],
      "source": [
        "embeddings = TextEmbedEmbeddings(\n",
        "    model=\"sentence-transformers/all-MiniLM-L12-v2\",\n",
        "    api_url=\"http://0.0.0.0:8000/v1\",\n",
        "    api_key=\"TextEmbed\",\n",
        ")"
      ]
    },
    {
      "cell_type": "markdown",
      "metadata": {},
      "source": [
        "### 嵌入您的文档"
      ]
    },
    {
      "cell_type": "code",
      "execution_count": 23,
      "metadata": {},
      "outputs": [],
      "source": [
        "# Define a list of documents\n",
        "documents = [\n",
        "    \"Data science involves extracting insights from data.\",\n",
        "    \"Artificial intelligence is transforming various industries.\",\n",
        "    \"Cloud computing provides scalable computing resources over the internet.\",\n",
        "    \"Big data analytics helps in understanding large datasets.\",\n",
        "    \"India has a diverse cultural heritage.\",\n",
        "]\n",
        "\n",
        "# Define a query\n",
        "query = \"What is the cultural heritage of India?\""
      ]
    },
    {
      "cell_type": "code",
      "execution_count": 24,
      "metadata": {},
      "outputs": [],
      "source": [
        "# Embed all documents\n",
        "document_embeddings = embeddings.embed_documents(documents)\n",
        "\n",
        "# Embed the query\n",
        "query_embedding = embeddings.embed_query(query)"
      ]
    },
    {
      "cell_type": "code",
      "execution_count": 25,
      "metadata": {},
      "outputs": [
        {
          "data": {
            "text/plain": [
              "{'Data science involves extracting insights from data.': 0.05121298956322118,\n",
              " 'Artificial intelligence is transforming various industries.': -0.0060612142358469345,\n",
              " 'Cloud computing provides scalable computing resources over the internet.': -0.04877402795301714,\n",
              " 'Big data analytics helps in understanding large datasets.': 0.016582168576929422,\n",
              " 'India has a diverse cultural heritage.': 0.7408992963028144}"
            ]
          },
          "execution_count": 25,
          "metadata": {},
          "output_type": "execute_result"
        }
      ],
      "source": [
        "# Compute Similarity\n",
        "import numpy as np\n",
        "\n",
        "scores = np.array(document_embeddings) @ np.array(query_embedding).T\n",
        "dict(zip(documents, scores))"
      ]
    },
    {
      "cell_type": "code",
      "execution_count": null,
      "metadata": {},
      "outputs": [],
      "source": []
    }
  ],
  "metadata": {
    "kernelspec": {
      "display_name": "check10",
      "language": "python",
      "name": "python3"
    },
    "language_info": {
      "codemirror_mode": {
        "name": "ipython",
        "version": 3
      },
      "file_extension": ".py",
      "mimetype": "text/x-python",
      "name": "python",
      "nbconvert_exporter": "python",
      "pygments_lexer": "ipython3",
      "version": "3.10.14"
    }
  },
  "nbformat": 4,
  "nbformat_minor": 2
}