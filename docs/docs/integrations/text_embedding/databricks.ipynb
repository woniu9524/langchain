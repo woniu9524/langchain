{
  "cells": [
    {
      "cell_type": "raw",
      "id": "afaf8039",
      "metadata": {},
      "source": [
        "---\n",
        "sidebar_label: Databricks\n",
        "---"
      ]
    },
    {
      "cell_type": "markdown",
      "id": "9a3d6f34",
      "metadata": {},
      "source": [
        "# DatabricksEmbeddings\n\n> [Databricks](https://www.databricks.com/) Lakehouse 平台在一个平台上统一了数据、分析和 AI。\n\n本笔记本提供了使用 Databricks [embedding models](/docs/concepts/embedding_models) 的快速入门指南。有关所有 `DatabricksEmbeddings` 功能和配置的详细文档，请参阅[API 参考](https://python.langchain.com/api_reference/community/embeddings/langchain_community.embeddings.databricks.DatabricksEmbeddings.html)。\n\n\n\n## 概述\n### 集成详情\n\n| Class | Package |\n| :--- | :--- |\n| [DatabricksEmbeddings](https://python.langchain.com/api_reference/community/embeddings/langchain_community.embeddings.databricks.DatabricksEmbeddings.html) | [databricks-langchain](https://python.langchain.com/docs/integrations/providers/databricks/) |\n\n### 支持的方法\n\n`DatabricksEmbeddings` 支持 `Embeddings` 类所有方法，包括异步 API。\n\n\n### Endpoint 要求\n\n`DatabricksEmbeddings` 封装的托管端点必须具有 OpenAI 兼容的embedding 输入/输出格式（[参考](https://mlflow.org/docs/latest/llms/deployments/index.html#embeddings)）。只要输入格式兼容，`DatabricksEmbeddings` 即可用于托管在 [Databricks Model Serving](https://docs.databricks.com/en/machine-learning/model-serving/index.html) 上的任何端点类型：\n\n1. 基础模型 - 目录中包含最先进的基础模型，如 BAAI 通用Embedding (BGE)。这些端点无需设置即可在您的 Databricks 工作区中使用。\n2. 自定义模型 - 您还可以通过 MLflow 部署自定义 embedding 模型到托管端点，支持您选择的框架，如 LangChain、Pytorch、Transformers 等。\n3. 外部模型 - Databricks 端点可以作为代理托管 Databricks 外部的模型，例如专有模型服务，如 OpenAI text-embedding-3。\n\n\n## 设置\n\n要访问 Databricks 模型，您需要创建一个 Databricks 帐户，设置凭证（仅当您不在 Databricks 工作区内时），并安装所需的包。\n\n### 凭证（仅当您不在 Databricks 内时）\n\n如果您在 Databricks 工作区内运行 LangChain 应用，则可以跳过此步骤。\n\n否则，您需要手动将 Databricks 工作区主机名和个人访问令牌分别设置为 `DATABRICKS_HOST` 和 `DATABRICKS_TOKEN` 环境变量。有关如何获取访问令牌，请参阅[身份验证文档](https://docs.databricks.com/en/dev-tools/auth/index.html#databricks-personal-access-tokens)。"
      ]
    },
    {
      "cell_type": "code",
      "execution_count": null,
      "id": "36521c2a",
      "metadata": {},
      "outputs": [],
      "source": [
        "import getpass\n",
        "import os\n",
        "\n",
        "os.environ[\"DATABRICKS_HOST\"] = \"https://your-workspace.cloud.databricks.com\"\n",
        "if \"DATABRICKS_TOKEN\" not in os.environ:\n",
        "    os.environ[\"DATABRICKS_TOKEN\"] = getpass.getpass(\n",
        "        \"Enter your Databricks access token: \"\n",
        "    )"
      ]
    },
    {
      "cell_type": "markdown",
      "id": "d9664366",
      "metadata": {},
      "source": [
        "### 安装\n\nLangChain Databricks 集成位于 `databricks-langchain` 包："
      ]
    },
    {
      "cell_type": "code",
      "execution_count": null,
      "id": "64853226",
      "metadata": {},
      "outputs": [],
      "source": [
        "%pip install -qU databricks-langchain"
      ]
    },
    {
      "cell_type": "markdown",
      "id": "45dd1724",
      "metadata": {},
      "source": [
        "## 实例化"
      ]
    },
    {
      "cell_type": "code",
      "execution_count": null,
      "id": "9ea7a09b",
      "metadata": {},
      "outputs": [],
      "source": [
        "from databricks_langchain import DatabricksEmbeddings\n",
        "\n",
        "embeddings = DatabricksEmbeddings(\n",
        "    endpoint=\"databricks-bge-large-en\",\n",
        "    # Specify parameters for embedding queries and documents if needed\n",
        "    # query_params={...},\n",
        "    # document_params={...},\n",
        ")"
      ]
    },
    {
      "cell_type": "markdown",
      "id": "77d271b6",
      "metadata": {},
      "source": [
        "## 索引和检索\n\n嵌入模型常用于检索增强生成 (RAG) 流程中，既可以作为索引数据的组成部分，也可以用于之后的检索。有关更详细的说明，请参阅我们的 [RAG 教程](/docs/tutorials/)。\n\n下面将展示如何使用我们上面初始化的 `embeddings` 对象来索引和检索数据。在本例中，我们将在 `InMemoryVectorStore` 中索引和检索一个示例文档。"
      ]
    },
    {
      "cell_type": "code",
      "execution_count": null,
      "id": "d817716b",
      "metadata": {},
      "outputs": [],
      "source": [
        "# Create a vector store with a sample text\n",
        "from langchain_core.vectorstores import InMemoryVectorStore\n",
        "\n",
        "text = \"LangChain is the framework for building context-aware reasoning applications\"\n",
        "\n",
        "vectorstore = InMemoryVectorStore.from_texts(\n",
        "    [text],\n",
        "    embedding=embeddings,\n",
        ")\n",
        "\n",
        "# Use the vectorstore as a retriever\n",
        "retriever = vectorstore.as_retriever()\n",
        "\n",
        "# Retrieve the most similar text\n",
        "retrieved_document = retriever.invoke(\"What is LangChain?\")\n",
        "\n",
        "# show the retrieved document's content\n",
        "retrieved_document[0].page_content"
      ]
    },
    {
      "cell_type": "markdown",
      "id": "e02b9855",
      "metadata": {},
      "source": [
        "## 直接使用\n\n在底层，vectorstore 和 retriever 实现会分别调用 `embeddings.embed_documents(...)` 和 `embeddings.embed_query(...)` 来为 `from_texts` 和检索 `invoke` 操作中使用的文本创建 embedding。\n\n你可以直接调用这些方法来为自己的用例获取 embedding。\n\n### 嵌入单个文本\n\n你可以使用 `embed_query` 来嵌入单个文本或文档："
      ]
    },
    {
      "cell_type": "code",
      "execution_count": null,
      "id": "0d2befcd",
      "metadata": {},
      "outputs": [],
      "source": [
        "single_vector = embeddings.embed_query(text)\n",
        "print(str(single_vector)[:100])  # Show the first 100 characters of the vector"
      ]
    },
    {
      "cell_type": "markdown",
      "id": "1b5a7d03",
      "metadata": {},
      "source": [
        "### 嵌入多个文本\n\n您可以使用 `embed_documents` 来嵌入多个文本："
      ]
    },
    {
      "cell_type": "code",
      "execution_count": null,
      "id": "2f4d6e97",
      "metadata": {},
      "outputs": [],
      "source": [
        "text2 = (\n",
        "    \"LangGraph is a library for building stateful, multi-actor applications with LLMs\"\n",
        ")\n",
        "two_vectors = embeddings.embed_documents([text, text2])\n",
        "for vector in two_vectors:\n",
        "    print(str(vector)[:100])  # Show the first 100 characters of the vector"
      ]
    },
    {
      "cell_type": "markdown",
      "id": "98785c12",
      "metadata": {},
      "source": [
        "### 异步用法\n\n您还可以使用 `aembed_query` 和 `aembed_documents` 来异步生成嵌入："
      ]
    },
    {
      "cell_type": "code",
      "execution_count": null,
      "id": "4c3bef91",
      "metadata": {},
      "outputs": [],
      "source": [
        "import asyncio\n",
        "\n",
        "\n",
        "async def async_example():\n",
        "    single_vector = await embeddings.aembed_query(text)\n",
        "    print(str(single_vector)[:100])  # Show the first 100 characters of the vector\n",
        "\n",
        "\n",
        "asyncio.run(async_example())"
      ]
    },
    {
      "cell_type": "markdown",
      "id": "0d053b64",
      "metadata": {},
      "source": [
        "## API 参考\n\n有关 `DatabricksEmbeddings` 功能和配置选项的详细文档，请参阅 [API 参考](https://python.langchain.com/api_reference/community/embeddings/langchain_community.embeddings.databricks.DatabricksEmbeddings.html)。"
      ]
    }
  ],
  "metadata": {
    "kernelspec": {
      "display_name": "Python 3 (ipykernel)",
      "language": "python",
      "name": "python3"
    },
    "language_info": {
      "codemirror_mode": {
        "name": "ipython",
        "version": 3
      },
      "file_extension": ".py",
      "mimetype": "text/x-python",
      "name": "python",
      "nbconvert_exporter": "python",
      "pygments_lexer": "ipython3",
      "version": "3.10.5"
    }
  },
  "nbformat": 4,
  "nbformat_minor": 5
}