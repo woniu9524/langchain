{
  "cells": [
    {
      "attachments": {},
      "cell_type": "markdown",
      "id": "278b6c63",
      "metadata": {},
      "source": [
        "# LocalAI\n\n:::info\n\n`langchain-localai` 是一个用于 LocalAI 的第三方集成包。它提供了一种在 Langchain 中使用 LocalAI 服务的方法。\n\n源代码可在 [Github](https://github.com/mkhludnev/langchain-localai) 上找到。\n\n:::\n\n让我们加载 LocalAI Embedding 类。为了使用 LocalAI Embedding 类，您需要在某个地方托管 LocalAI 服务并配置 embedding 模型。请参阅文档 https://localai.io/basics/getting_started/index.html 和 https://localai.io/features/embeddings/index.html。"
      ]
    },
    {
      "cell_type": "code",
      "execution_count": null,
      "id": "799d1f77",
      "metadata": {},
      "outputs": [],
      "source": [
        "%pip install -U langchain-localai"
      ]
    },
    {
      "cell_type": "code",
      "execution_count": 2,
      "id": "0be1af71",
      "metadata": {},
      "outputs": [],
      "source": [
        "from langchain_localai import LocalAIEmbeddings"
      ]
    },
    {
      "cell_type": "code",
      "execution_count": 3,
      "id": "2c66e5da",
      "metadata": {},
      "outputs": [],
      "source": [
        "embeddings = LocalAIEmbeddings(\n",
        "    openai_api_base=\"http://localhost:8080\", model=\"embedding-model-name\"\n",
        ")"
      ]
    },
    {
      "cell_type": "code",
      "execution_count": 4,
      "id": "01370375",
      "metadata": {},
      "outputs": [],
      "source": [
        "text = \"This is a test document.\""
      ]
    },
    {
      "cell_type": "code",
      "execution_count": null,
      "id": "bfb6142c",
      "metadata": {},
      "outputs": [],
      "source": [
        "query_result = embeddings.embed_query(text)"
      ]
    },
    {
      "cell_type": "code",
      "execution_count": 5,
      "id": "0356c3b7",
      "metadata": {},
      "outputs": [],
      "source": [
        "doc_result = embeddings.embed_documents([text])"
      ]
    },
    {
      "attachments": {},
      "cell_type": "markdown",
      "id": "bb61bbeb",
      "metadata": {},
      "source": [
        "让我们使用第一代模型（例如 text-search-ada-doc-001/text-search-ada-query-001）来加载 LocalAI Embedding 类。注意：不推荐使用这些模型 - 请参阅 [此处](https://platform.openai.com/docs/guides/embeddings/what-are-embeddings)"
      ]
    },
    {
      "cell_type": "code",
      "execution_count": null,
      "id": "c0b072cc",
      "metadata": {},
      "outputs": [],
      "source": [
        "from langchain_community.embeddings import LocalAIEmbeddings"
      ]
    },
    {
      "cell_type": "code",
      "execution_count": null,
      "id": "a56b70f5",
      "metadata": {},
      "outputs": [],
      "source": [
        "embeddings = LocalAIEmbeddings(\n",
        "    openai_api_base=\"http://localhost:8080\", model=\"embedding-model-name\"\n",
        ")"
      ]
    },
    {
      "cell_type": "code",
      "execution_count": null,
      "id": "14aefb64",
      "metadata": {},
      "outputs": [],
      "source": [
        "text = \"This is a test document.\""
      ]
    },
    {
      "cell_type": "code",
      "execution_count": null,
      "id": "3c39ed33",
      "metadata": {},
      "outputs": [],
      "source": [
        "query_result = embeddings.embed_query(text)"
      ]
    },
    {
      "cell_type": "code",
      "execution_count": null,
      "id": "e3221db6",
      "metadata": {},
      "outputs": [],
      "source": [
        "doc_result = embeddings.embed_documents([text])"
      ]
    },
    {
      "cell_type": "code",
      "execution_count": null,
      "id": "aaad49f8",
      "metadata": {},
      "outputs": [],
      "source": [
        "import os\n",
        "\n",
        "# if you are behind an explicit proxy, you can use the OPENAI_PROXY environment variable to pass through\n",
        "os.environ[\"OPENAI_PROXY\"] = \"http://proxy.yourcompany.com:8080\""
      ]
    }
  ],
  "metadata": {
    "kernelspec": {
      "display_name": ".venv",
      "language": "python",
      "name": "python3"
    },
    "language_info": {
      "codemirror_mode": {
        "name": "ipython",
        "version": 3
      },
      "file_extension": ".py",
      "mimetype": "text/x-python",
      "name": "python",
      "nbconvert_exporter": "python",
      "pygments_lexer": "ipython3",
      "version": "3.11.4"
    }
  },
  "nbformat": 4,
  "nbformat_minor": 5
}