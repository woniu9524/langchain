{
  "cells": [
    {
      "cell_type": "markdown",
      "metadata": {},
      "source": [
        "# PremAI\n\n[PremAI](https://premai.io/) 是一个一站式平台，可简化基于生成式 AI 构建的、功能强大的、可投入生产的应用程序的创建过程。通过精简开发流程，PremAI 使您能够专注于提升用户体验和推动应用程序的整体增长。您可以点击[此处](https://docs.premai.io/quick-start)快速开始使用我们的平台。\n\n### 安装和设置\n\n我们首先安装 `langchain` 和 `premai-sdk`。您可以输入以下命令进行安装：\n\n```bash\npip install premai langchain\n```\n\n在继续操作之前，请确保您已在 PremAI 上创建账户并已创建一个项目。如果尚未创建，请参阅[快速入门指南](https://docs.premai.io/introduction)开始使用 PremAI 平台。创建您的第一个项目并获取 API 密钥。"
      ]
    },
    {
      "cell_type": "markdown",
      "metadata": {},
      "source": [
        "## PremEmbeddings\n\n在本节中，我们将使用 `PremEmbeddings` 和 LangChain 来讨论如何访问不同的 embedding 模型。让我们先导入我们的模块并设置我们的 API 密钥。"
      ]
    },
    {
      "cell_type": "code",
      "execution_count": 1,
      "metadata": {},
      "outputs": [],
      "source": [
        "# Let's start by doing some imports and define our embedding object\n",
        "\n",
        "from langchain_community.embeddings import PremAIEmbeddings"
      ]
    },
    {
      "cell_type": "markdown",
      "metadata": {},
      "source": [
        "导入所需模块后，我们来设置客户端。目前我们假设 `project_id` 为 `8`。但请务必使用你自己的项目 ID，否则会报错。\n\n> 注意：与 [ChatPremAI](https://python.langchain.com/v0.1/docs/integrations/chat/premai/) 不同，为 PremAIEmbeddings 设置 `model_name` 参数是强制性的。"
      ]
    },
    {
      "cell_type": "code",
      "execution_count": 2,
      "metadata": {},
      "outputs": [],
      "source": [
        "import getpass\n",
        "import os\n",
        "\n",
        "if os.environ.get(\"PREMAI_API_KEY\") is None:\n",
        "    os.environ[\"PREMAI_API_KEY\"] = getpass.getpass(\"PremAI API Key:\")"
      ]
    },
    {
      "cell_type": "code",
      "execution_count": 3,
      "metadata": {},
      "outputs": [],
      "source": [
        "model = \"text-embedding-3-large\"\n",
        "embedder = PremAIEmbeddings(project_id=8, model=model)"
      ]
    },
    {
      "cell_type": "markdown",
      "metadata": {},
      "source": [
        "我们支持许多最先进的嵌入模型。您可以在[此处](https://docs.premai.io/get-started/supported-models)查看我们支持的 LLM 和嵌入模型列表。在本示例中，我们先选择 `text-embedding-3-large` 模型。"
      ]
    },
    {
      "cell_type": "code",
      "execution_count": 4,
      "metadata": {},
      "outputs": [
        {
          "name": "stdout",
          "output_type": "stream",
          "text": [
            "[-0.02129288576543331, 0.0008162345038726926, -0.004556538071483374, 0.02918623760342598, -0.02547479420900345]\n"
          ]
        }
      ],
      "source": [
        "query = \"Hello, this is a test query\"\n",
        "query_result = embedder.embed_query(query)\n",
        "\n",
        "# Let's print the first five elements of the query embedding vector\n",
        "\n",
        "print(query_result[:5])"
      ]
    },
    {
      "cell_type": "markdown",
      "metadata": {},
      "source": [
        "最后，我们嵌入一个文档"
      ]
    },
    {
      "cell_type": "code",
      "execution_count": 5,
      "metadata": {},
      "outputs": [
        {
          "name": "stdout",
          "output_type": "stream",
          "text": [
            "[-0.0030691148713231087, -0.045334383845329285, -0.0161729846149683, 0.04348714277148247, -0.0036920777056366205]\n"
          ]
        }
      ],
      "source": [
        "documents = [\"This is document1\", \"This is document2\", \"This is document3\"]\n",
        "\n",
        "doc_result = embedder.embed_documents(documents)\n",
        "\n",
        "# Similar to previous result, let's print the first five element\n",
        "# of the first document vector\n",
        "\n",
        "print(doc_result[0][:5])"
      ]
    }
  ],
  "metadata": {
    "kernelspec": {
      "display_name": "venv",
      "language": "python",
      "name": "python3"
    },
    "language_info": {
      "codemirror_mode": {
        "name": "ipython",
        "version": 3
      },
      "file_extension": ".py",
      "mimetype": "text/x-python",
      "name": "python",
      "nbconvert_exporter": "python",
      "pygments_lexer": "ipython3",
      "version": "3.10.12"
    }
  },
  "nbformat": 4,
  "nbformat_minor": 2
}