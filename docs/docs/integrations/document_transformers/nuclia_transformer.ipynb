{
  "cells": [
    {
      "attachments": {},
      "cell_type": "markdown",
      "metadata": {},
      "source": [
        "# Nuclia\n\n>[Nuclia](https://nuclia.com) 可自动索引来自任何内部和外部来源的非结构化数据，提供优化的搜索结果和生成式问答。它可以处理视频和音频转录、图像内容提取以及文档解析。\n\n`Nuclia Understanding API` 文档转换器会将文本分割成段落和句子，识别实体，提供文本摘要，并为所有句子生成嵌入向量。\n\n要使用 Nuclia Understanding API，您需要一个 Nuclia 账户。您可以在 [https://nuclia.cloud](https://nuclia.cloud) 免费创建一个账户，然后 [创建一个 NUA 密钥](https://docs.nuclia.dev/docs/docs/using/understanding/intro)。\n\nfrom langchain_community.document_transformers.nuclia_text_transform import NucliaTextTransformer"
      ]
    },
    {
      "cell_type": "code",
      "execution_count": 1,
      "metadata": {},
      "outputs": [],
      "source": [
        "%pip install --upgrade --quiet  protobuf\n",
        "%pip install --upgrade --quiet  nucliadb-protos"
      ]
    },
    {
      "cell_type": "code",
      "execution_count": null,
      "metadata": {},
      "outputs": [],
      "source": [
        "import os\n",
        "\n",
        "os.environ[\"NUCLIA_ZONE\"] = \"<YOUR_ZONE>\"  # e.g. europe-1\n",
        "os.environ[\"NUCLIA_NUA_KEY\"] = \"<YOUR_API_KEY>\""
      ]
    },
    {
      "attachments": {},
      "cell_type": "markdown",
      "metadata": {},
      "source": [
        "要使用 Nuclia 文档转换器，您需要实例化一个 `NucliaUnderstandingAPI` 工具，并将 `enable_ml` 设置为 `True`："
      ]
    },
    {
      "cell_type": "code",
      "execution_count": null,
      "metadata": {},
      "outputs": [],
      "source": [
        "from langchain_community.tools.nuclia import NucliaUnderstandingAPI\n",
        "\n",
        "nua = NucliaUnderstandingAPI(enable_ml=True)"
      ]
    },
    {
      "attachments": {},
      "cell_type": "markdown",
      "metadata": {},
      "source": [
        "Nuclia 文档转换器必须以异步模式调用，因此你需要使用 `atransform_documents` 方法："
      ]
    },
    {
      "cell_type": "code",
      "execution_count": null,
      "metadata": {},
      "outputs": [],
      "source": [
        "import asyncio\n",
        "\n",
        "from langchain_community.document_transformers.nuclia_text_transform import (\n",
        "    NucliaTextTransformer,\n",
        ")\n",
        "from langchain_core.documents import Document\n",
        "\n",
        "\n",
        "async def process():\n",
        "    documents = [\n",
        "        Document(page_content=\"<TEXT 1>\", metadata={}),\n",
        "        Document(page_content=\"<TEXT 2>\", metadata={}),\n",
        "        Document(page_content=\"<TEXT 3>\", metadata={}),\n",
        "    ]\n",
        "    nuclia_transformer = NucliaTextTransformer(nua)\n",
        "    transformed_documents = await nuclia_transformer.atransform_documents(documents)\n",
        "    print(transformed_documents)\n",
        "\n",
        "\n",
        "asyncio.run(process())"
      ]
    }
  ],
  "metadata": {
    "kernelspec": {
      "display_name": "Python 3 (ipykernel)",
      "language": "python",
      "name": "python3"
    },
    "language_info": {
      "codemirror_mode": {
        "name": "ipython",
        "version": 3
      },
      "file_extension": ".py",
      "mimetype": "text/x-python",
      "name": "python",
      "nbconvert_exporter": "python",
      "pygments_lexer": "ipython3",
      "version": "3.10.12"
    }
  },
  "nbformat": 4,
  "nbformat_minor": 4
}