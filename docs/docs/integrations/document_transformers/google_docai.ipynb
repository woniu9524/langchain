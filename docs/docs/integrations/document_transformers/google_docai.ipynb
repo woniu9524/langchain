{
  "cells": [
    {
      "cell_type": "markdown",
      "id": "b317191d",
      "metadata": {},
      "source": [
        "# Google Cloud Document AI"
      ]
    },
    {
      "cell_type": "markdown",
      "id": "a19e6f94",
      "metadata": {},
      "source": [
        "Document AI 是一个来自 Google Cloud 的文档理解平台，可将文档中的非结构化数据转换为结构化数据，从而更易于理解、分析和使用。\n\n了解更多：\n\n- [Document AI 概览](https://cloud.google.com/document-ai/docs/overview)\n- [Document AI 视频和实验](https://cloud.google.com/document-ai/docs/videos)\n- [立即试用！](https://cloud.google.com/document-ai/docs/drag-and-drop)"
      ]
    },
    {
      "cell_type": "markdown",
      "id": "184c0af8",
      "metadata": {},
      "source": [
        "该模块包含一个基于 Google Cloud DocAI 的 `PDF` 解析器。\n\n您需要安装两个库才能使用此解析器："
      ]
    },
    {
      "cell_type": "code",
      "execution_count": null,
      "id": "c86b2f59",
      "metadata": {},
      "outputs": [],
      "source": [
        "%pip install --upgrade --quiet  langchain-google-community[docai]"
      ]
    },
    {
      "cell_type": "markdown",
      "id": "51946817-798c-4d11-abd6-db2ae53a0270",
      "metadata": {},
      "source": [
        "首先，您需要设置一个 Google Cloud Storage (GCS) 存储桶并创建自己的光学字符识别 (OCR) 处理器，具体步骤如下：https://cloud.google.com/document-ai/docs/create-processor\n\n`GCS_OUTPUT_PATH` 应为 GCS 上某个文件夹的路径（以 `gs://` 开头），而 `PROCESSOR_NAME` 应类似于 `projects/PROJECT_NUMBER/locations/LOCATION/processors/PROCESSOR_ID` 或 `projects/PROJECT_NUMBER/locations/LOCATION/processors/PROCESSOR_ID/processorVersions/PROCESSOR_VERSION_ID`。您可以通过编程方式获取它，或者从 Google Cloud Console 的“处理器详情”标签页中的“预测端点”部分复制。"
      ]
    },
    {
      "cell_type": "code",
      "execution_count": 2,
      "id": "ac85f7f3-3ef6-41d5-920a-b55f2939c202",
      "metadata": {},
      "outputs": [],
      "source": [
        "GCS_OUTPUT_PATH = \"gs://BUCKET_NAME/FOLDER_PATH\"\n",
        "PROCESSOR_NAME = \"projects/PROJECT_NUMBER/locations/LOCATION/processors/PROCESSOR_ID\""
      ]
    },
    {
      "cell_type": "code",
      "execution_count": 1,
      "id": "48438efb-9f0d-473b-a91c-9f1e29c2539d",
      "metadata": {},
      "outputs": [],
      "source": [
        "from langchain_core.document_loaders.blob_loaders import Blob\n",
        "from langchain_google_community import DocAIParser"
      ]
    },
    {
      "cell_type": "markdown",
      "id": "fad2bcca-1c0e-4888-b82d-15823ba57e60",
      "metadata": {},
      "source": [
        "现在，创建一个 `DocAIParser`。"
      ]
    },
    {
      "cell_type": "code",
      "execution_count": 3,
      "id": "dcc0c65a-86c5-448d-8b21-2e564b1903b7",
      "metadata": {},
      "outputs": [],
      "source": [
        "parser = DocAIParser(\n",
        "    location=\"us\", processor_name=PROCESSOR_NAME, gcs_output_path=GCS_OUTPUT_PATH\n",
        ")"
      ]
    },
    {
      "cell_type": "markdown",
      "id": "b8b5a3ff-650a-4ad3-a73a-395f86e4c9e1",
      "metadata": {},
      "source": [
        "对于这个示例，您可以使用上传到公共 GCS 存储桶的 Alphabet 财报。\n\n[2022Q1_alphabet_earnings_release.pdf](https://storage.googleapis.com/cloud-samples-data/gen-app-builder/search/alphabet-investor-pdfs/2022Q1_alphabet_earnings_release.pdf)\n\n将文档传递给 `lazy_parse()` 方法以"
      ]
    },
    {
      "cell_type": "code",
      "execution_count": 4,
      "id": "373cc18e-a311-4c8d-8180-47e4ade1d2ad",
      "metadata": {},
      "outputs": [],
      "source": [
        "blob = Blob(\n",
        "    path=\"gs://cloud-samples-data/gen-app-builder/search/alphabet-investor-pdfs/2022Q1_alphabet_earnings_release.pdf\"\n",
        ")"
      ]
    },
    {
      "cell_type": "markdown",
      "id": "3f8e4ee1-e07d-4c29-a120-4d56aae91859",
      "metadata": {},
      "source": [
        "我们将每页获得一份文档，总共 11 份："
      ]
    },
    {
      "cell_type": "code",
      "execution_count": 8,
      "id": "343919f5-35d2-47fb-9790-de464649ebdf",
      "metadata": {},
      "outputs": [
        {
          "name": "stdout",
          "output_type": "stream",
          "text": [
            "11\n"
          ]
        }
      ],
      "source": [
        "docs = list(parser.lazy_parse(blob))\n",
        "print(len(docs))"
      ]
    },
    {
      "cell_type": "markdown",
      "id": "b104ae56-011b-4abe-ac07-e999c69494c5",
      "metadata": {},
      "source": [
        "您可以逐个运行 blob 的端到端解析。如果您有许多文档，也许将它们批量处理在一起，甚至将解析与处理解析结果分离开来，会是更好的方法。"
      ]
    },
    {
      "cell_type": "code",
      "execution_count": 9,
      "id": "9ecc1b99-5cef-47b0-a125-dbb2c41d2224",
      "metadata": {},
      "outputs": [
        {
          "name": "stdout",
          "output_type": "stream",
          "text": [
            "['projects/543079149601/locations/us/operations/16447136779727347991']\n"
          ]
        }
      ],
      "source": [
        "operations = parser.docai_parse([blob])\n",
        "print([op.operation.name for op in operations])"
      ]
    },
    {
      "cell_type": "markdown",
      "id": "a2d24d63-c2c7-454c-9df3-2a9cf51309a6",
      "metadata": {},
      "source": [
        "您可以检查操作是否完成："
      ]
    },
    {
      "cell_type": "code",
      "execution_count": 10,
      "id": "ab11efb0-e514-4f44-9ba5-3d638a59c9e6",
      "metadata": {},
      "outputs": [
        {
          "data": {
            "text/plain": [
              "True"
            ]
          },
          "execution_count": 10,
          "metadata": {},
          "output_type": "execute_result"
        }
      ],
      "source": [
        "parser.is_running(operations)"
      ]
    },
    {
      "cell_type": "markdown",
      "id": "602ca0bc-080a-4a4e-a413-0e705aeab189",
      "metadata": {},
      "source": [
        "然后，当他们完成时，你可以解析结果："
      ]
    },
    {
      "cell_type": "code",
      "execution_count": 11,
      "id": "ec1e6041-bc10-47d4-ba64-d09055c14f27",
      "metadata": {},
      "outputs": [
        {
          "data": {
            "text/plain": [
              "False"
            ]
          },
          "execution_count": 11,
          "metadata": {},
          "output_type": "execute_result"
        }
      ],
      "source": [
        "parser.is_running(operations)"
      ]
    },
    {
      "cell_type": "code",
      "execution_count": 12,
      "id": "95d89da4-1c8a-413d-8473-ddd4a39375a5",
      "metadata": {},
      "outputs": [
        {
          "name": "stdout",
          "output_type": "stream",
          "text": [
            "DocAIParsingResults(source_path='gs://vertex-pgt/examples/goog-exhibit-99-1-q1-2023-19.pdf', parsed_path='gs://vertex-pgt/test/run1/16447136779727347991/0')\n"
          ]
        }
      ],
      "source": [
        "results = parser.get_results(operations)\n",
        "print(results[0])"
      ]
    },
    {
      "cell_type": "markdown",
      "id": "87e5b606-1679-46c7-9577-4cf9bc93a752",
      "metadata": {},
      "source": [
        "现在我们可以根据解析结果生成文档了："
      ]
    },
    {
      "cell_type": "code",
      "execution_count": 15,
      "id": "08e8878d-889b-41ad-9500-2f772d38782f",
      "metadata": {},
      "outputs": [],
      "source": [
        "docs = list(parser.parse_from_results(results))"
      ]
    },
    {
      "cell_type": "code",
      "execution_count": 16,
      "id": "c59525fb-448d-444b-8f12-c4aea791e19b",
      "metadata": {},
      "outputs": [
        {
          "name": "stdout",
          "output_type": "stream",
          "text": [
            "11\n"
          ]
        }
      ],
      "source": [
        "print(len(docs))"
      ]
    }
  ],
  "metadata": {
    "environment": {
      "kernel": "python3",
      "name": "common-cpu.m109",
      "type": "gcloud",
      "uri": "gcr.io/deeplearning-platform-release/base-cpu:m109"
    },
    "kernelspec": {
      "display_name": "Python 3",
      "language": "python",
      "name": "python3"
    },
    "language_info": {
      "codemirror_mode": {
        "name": "ipython",
        "version": 3
      },
      "file_extension": ".py",
      "mimetype": "text/x-python",
      "name": "python",
      "nbconvert_exporter": "python",
      "pygments_lexer": "ipython3",
      "version": "3.10.11"
    }
  },
  "nbformat": 4,
  "nbformat_minor": 5
}