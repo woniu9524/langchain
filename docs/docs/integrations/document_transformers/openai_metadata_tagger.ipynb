{
  "cells": [
    {
      "cell_type": "markdown",
      "metadata": {},
      "source": [
        "# OpenAI 元数据标签器\n\n通常，将结构化元数据（例如文档的标题、语气或长度）作为标签添加到已摄取的文档中会很有用，以便以后进行更具针对性的相似性搜索。但是，对于大量的文档，手动进行此标注过程可能会很繁琐。\n\n`OpenAIMetadataTagger` 文档转换器通过根据提供的模式从每个提供的文档中提取元数据来自动化此过程。它在底层使用可配置的 “`OpenAI Functions`” 驱动的链，因此如果您传递自定义 LLM 实例，它必须是支持函数的 `OpenAI` 模型。\n\n**注意：**此文档转换器最适合处理完整的文档，因此最好先用完整文档运行它，然后再进行任何其他的拆分或处理！\n\n例如，假设您想索引一组电影评论。您可以通过以下方式使用有效的 `JSON Schema` 对象初始化文档转换器："
      ]
    },
    {
      "cell_type": "code",
      "execution_count": 1,
      "metadata": {},
      "outputs": [],
      "source": [
        "from langchain_community.document_transformers.openai_functions import (\n",
        "    create_metadata_tagger,\n",
        ")\n",
        "from langchain_core.documents import Document\n",
        "from langchain_openai import ChatOpenAI"
      ]
    },
    {
      "cell_type": "code",
      "execution_count": 2,
      "metadata": {},
      "outputs": [],
      "source": [
        "schema = {\n",
        "    \"properties\": {\n",
        "        \"movie_title\": {\"type\": \"string\"},\n",
        "        \"critic\": {\"type\": \"string\"},\n",
        "        \"tone\": {\"type\": \"string\", \"enum\": [\"positive\", \"negative\"]},\n",
        "        \"rating\": {\n",
        "            \"type\": \"integer\",\n",
        "            \"description\": \"The number of stars the critic rated the movie\",\n",
        "        },\n",
        "    },\n",
        "    \"required\": [\"movie_title\", \"critic\", \"tone\"],\n",
        "}\n",
        "\n",
        "# Must be an OpenAI model that supports functions\n",
        "llm = ChatOpenAI(temperature=0, model=\"gpt-3.5-turbo-0613\")\n",
        "\n",
        "document_transformer = create_metadata_tagger(metadata_schema=schema, llm=llm)"
      ]
    },
    {
      "cell_type": "markdown",
      "metadata": {},
      "source": [
        "然后，您只需将文档列表传递给文档转换器，它就可以从内容中提取元数据："
      ]
    },
    {
      "cell_type": "code",
      "execution_count": 3,
      "metadata": {},
      "outputs": [],
      "source": [
        "original_documents = [\n",
        "    Document(\n",
        "        page_content=\"Review of The Bee Movie\\nBy Roger Ebert\\n\\nThis is the greatest movie ever made. 4 out of 5 stars.\"\n",
        "    ),\n",
        "    Document(\n",
        "        page_content=\"Review of The Godfather\\nBy Anonymous\\n\\nThis movie was super boring. 1 out of 5 stars.\",\n",
        "        metadata={\"reliable\": False},\n",
        "    ),\n",
        "]\n",
        "\n",
        "enhanced_documents = document_transformer.transform_documents(original_documents)"
      ]
    },
    {
      "cell_type": "code",
      "execution_count": 4,
      "metadata": {},
      "outputs": [
        {
          "name": "stdout",
          "output_type": "stream",
          "text": [
            "Review of The Bee Movie\n",
            "By Roger Ebert\n",
            "\n",
            "This is the greatest movie ever made. 4 out of 5 stars.\n",
            "\n",
            "{\"movie_title\": \"The Bee Movie\", \"critic\": \"Roger Ebert\", \"tone\": \"positive\", \"rating\": 4}\n",
            "\n",
            "---------------\n",
            "\n",
            "Review of The Godfather\n",
            "By Anonymous\n",
            "\n",
            "This movie was super boring. 1 out of 5 stars.\n",
            "\n",
            "{\"movie_title\": \"The Godfather\", \"critic\": \"Anonymous\", \"tone\": \"negative\", \"rating\": 1, \"reliable\": false}\n"
          ]
        }
      ],
      "source": [
        "import json\n",
        "\n",
        "print(\n",
        "    *[d.page_content + \"\\n\\n\" + json.dumps(d.metadata) for d in enhanced_documents],\n",
        "    sep=\"\\n\\n---------------\\n\\n\",\n",
        ")"
      ]
    },
    {
      "cell_type": "markdown",
      "metadata": {},
      "source": [
        "然后，文档可以由文本分割器（text splitter）进一步处理，再加载到向量存储（vector store）中。提取的字段不会覆盖现有的元数据。\n\n您也可以使用 Pydantic schema 初始化文档转换器（document transformer）："
      ]
    },
    {
      "cell_type": "code",
      "execution_count": 5,
      "metadata": {},
      "outputs": [
        {
          "name": "stdout",
          "output_type": "stream",
          "text": [
            "Review of The Bee Movie\n",
            "By Roger Ebert\n",
            "\n",
            "This is the greatest movie ever made. 4 out of 5 stars.\n",
            "\n",
            "{\"movie_title\": \"The Bee Movie\", \"critic\": \"Roger Ebert\", \"tone\": \"positive\", \"rating\": 4}\n",
            "\n",
            "---------------\n",
            "\n",
            "Review of The Godfather\n",
            "By Anonymous\n",
            "\n",
            "This movie was super boring. 1 out of 5 stars.\n",
            "\n",
            "{\"movie_title\": \"The Godfather\", \"critic\": \"Anonymous\", \"tone\": \"negative\", \"rating\": 1, \"reliable\": false}\n"
          ]
        }
      ],
      "source": [
        "from typing import Literal\n",
        "\n",
        "from pydantic import BaseModel, Field\n",
        "\n",
        "\n",
        "class Properties(BaseModel):\n",
        "    movie_title: str\n",
        "    critic: str\n",
        "    tone: Literal[\"positive\", \"negative\"]\n",
        "    rating: int = Field(description=\"Rating out of 5 stars\")\n",
        "\n",
        "\n",
        "document_transformer = create_metadata_tagger(Properties, llm)\n",
        "enhanced_documents = document_transformer.transform_documents(original_documents)\n",
        "\n",
        "print(\n",
        "    *[d.page_content + \"\\n\\n\" + json.dumps(d.metadata) for d in enhanced_documents],\n",
        "    sep=\"\\n\\n---------------\\n\\n\",\n",
        ")"
      ]
    },
    {
      "cell_type": "markdown",
      "metadata": {},
      "source": [
        "## 自定义\n\n您可以在文档转换器构造函数中向底层的 tagging chain 传递标准的 LLMChain 参数。例如，如果您想让 LLM 专注于输入文档中的特定细节，或者以特定的样式提取元数据，您可以传递一个自定义的 prompt："
      ]
    },
    {
      "cell_type": "code",
      "execution_count": 6,
      "metadata": {},
      "outputs": [
        {
          "name": "stdout",
          "output_type": "stream",
          "text": [
            "Review of The Bee Movie\n",
            "By Roger Ebert\n",
            "\n",
            "This is the greatest movie ever made. 4 out of 5 stars.\n",
            "\n",
            "{\"movie_title\": \"The Bee Movie\", \"critic\": \"Roger Ebert\", \"tone\": \"positive\", \"rating\": 4}\n",
            "\n",
            "---------------\n",
            "\n",
            "Review of The Godfather\n",
            "By Anonymous\n",
            "\n",
            "This movie was super boring. 1 out of 5 stars.\n",
            "\n",
            "{\"movie_title\": \"The Godfather\", \"critic\": \"Roger Ebert\", \"tone\": \"negative\", \"rating\": 1, \"reliable\": false}\n"
          ]
        }
      ],
      "source": [
        "from langchain_core.prompts import ChatPromptTemplate\n",
        "\n",
        "prompt = ChatPromptTemplate.from_template(\n",
        "    \"\"\"Extract relevant information from the following text.\n",
        "Anonymous critics are actually Roger Ebert.\n",
        "\n",
        "{input}\n",
        "\"\"\"\n",
        ")\n",
        "\n",
        "document_transformer = create_metadata_tagger(schema, llm, prompt=prompt)\n",
        "enhanced_documents = document_transformer.transform_documents(original_documents)\n",
        "\n",
        "print(\n",
        "    *[d.page_content + \"\\n\\n\" + json.dumps(d.metadata) for d in enhanced_documents],\n",
        "    sep=\"\\n\\n---------------\\n\\n\",\n",
        ")"
      ]
    },
    {
      "cell_type": "code",
      "execution_count": null,
      "metadata": {},
      "outputs": [],
      "source": []
    }
  ],
  "metadata": {
    "kernelspec": {
      "display_name": "Python 3 (ipykernel)",
      "language": "python",
      "name": "python3"
    },
    "language_info": {
      "codemirror_mode": {
        "name": "ipython",
        "version": 3
      },
      "file_extension": ".py",
      "mimetype": "text/x-python",
      "name": "python",
      "nbconvert_exporter": "python",
      "pygments_lexer": "ipython3",
      "version": "3.10.12"
    }
  },
  "nbformat": 4,
  "nbformat_minor": 4
}