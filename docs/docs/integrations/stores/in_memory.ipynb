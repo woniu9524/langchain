{
  "cells": [
    {
      "cell_type": "raw",
      "metadata": {
        "vscode": {
          "languageId": "raw"
        }
      },
      "source": [
        "---\n",
        "sidebar_label: In-memory\n",
        "---"
      ]
    },
    {
      "cell_type": "markdown",
      "metadata": {},
      "source": [
        "# InMemoryByteStore\n\n本指南将帮助您开始使用内存中的[键值存储](/docs/concepts/key_value_stores)。有关 `InMemoryByteStore` 所有功能和配置的详细文档，请参阅[API 参考](https://python.langchain.com/api_reference/core/stores/langchain_core.stores.InMemoryByteStore.html)。\n\n## 概览\n\n`InMemoryByteStore` 是 `ByteStore` 的一个非持久化实现，它将所有内容存储在 Python 字典中。它适用于演示和不需要在 Python 进程生命周期之外进行持久化的场景。\n\n### 集成详情\n\n| 类 | 包 | 本地 | [JS 支持](https://js.langchain.com/docs/integrations/stores/in_memory/) | 包下载量 | 包最新版本 |\n| :--- | :--- | :---: | :---: |  :---: | :---: |\n| [InMemoryByteStore](https://python.langchain.com/api_reference/core/stores/langchain_core.stores.InMemoryByteStore.html) | [langchain_core](https://python.langchain.com/api_reference/core/index.html) | ✅ | ✅ | ![PyPI - Downloads](https://img.shields.io/pypi/dm/langchain_core?style=flat-square&label=%20) | ![PyPI - Version](https://img.shields.io/pypi/v/langchain_core?style=flat-square&label=%20) |"
      ]
    },
    {
      "cell_type": "markdown",
      "metadata": {},
      "source": [
        "### 安装\n\nLangChain 的 `InMemoryByteStore` 集成位于 `langchain_core` 包中："
      ]
    },
    {
      "cell_type": "code",
      "execution_count": null,
      "metadata": {},
      "outputs": [],
      "source": [
        "%pip install -qU langchain_core"
      ]
    },
    {
      "cell_type": "markdown",
      "metadata": {},
      "source": [
        "## 实例化\n\n现在您可以实例化您的 byte store："
      ]
    },
    {
      "cell_type": "code",
      "execution_count": 1,
      "metadata": {},
      "outputs": [],
      "source": [
        "from langchain_core.stores import InMemoryByteStore\n",
        "\n",
        "kv_store = InMemoryByteStore()"
      ]
    },
    {
      "cell_type": "markdown",
      "metadata": {},
      "source": [
        "## 用法\n\n你可以使用 `mset` 方法如下设置键下的数据："
      ]
    },
    {
      "cell_type": "code",
      "execution_count": 2,
      "metadata": {},
      "outputs": [
        {
          "data": {
            "text/plain": [
              "[b'value1', b'value2']"
            ]
          },
          "execution_count": 2,
          "metadata": {},
          "output_type": "execute_result"
        }
      ],
      "source": [
        "kv_store.mset(\n",
        "    [\n",
        "        [\"key1\", b\"value1\"],\n",
        "        [\"key2\", b\"value2\"],\n",
        "    ]\n",
        ")\n",
        "\n",
        "kv_store.mget(\n",
        "    [\n",
        "        \"key1\",\n",
        "        \"key2\",\n",
        "    ]\n",
        ")"
      ]
    },
    {
      "cell_type": "markdown",
      "metadata": {},
      "source": [
        "您还可以使用 `mdelete` 方法删除数据："
      ]
    },
    {
      "cell_type": "code",
      "execution_count": 3,
      "metadata": {},
      "outputs": [
        {
          "data": {
            "text/plain": [
              "[None, None]"
            ]
          },
          "execution_count": 3,
          "metadata": {},
          "output_type": "execute_result"
        }
      ],
      "source": [
        "kv_store.mdelete(\n",
        "    [\n",
        "        \"key1\",\n",
        "        \"key2\",\n",
        "    ]\n",
        ")\n",
        "\n",
        "kv_store.mget(\n",
        "    [\n",
        "        \"key1\",\n",
        "        \"key2\",\n",
        "    ]\n",
        ")"
      ]
    },
    {
      "cell_type": "markdown",
      "metadata": {},
      "source": [
        "## API 参考\n\n如需了解 `InMemoryByteStore` 所有功能和配置的详细文档，请访问 API 参考：https://python.langchain.com/api_reference/core/stores/langchain_core.stores.InMemoryByteStore.html"
      ]
    }
  ],
  "metadata": {
    "kernelspec": {
      "display_name": "Python 3",
      "language": "python",
      "name": "python3"
    },
    "language_info": {
      "codemirror_mode": {
        "name": "ipython",
        "version": 3
      },
      "file_extension": ".py",
      "mimetype": "text/x-python",
      "name": "python",
      "nbconvert_exporter": "python",
      "pygments_lexer": "ipython3",
      "version": "3.10.5"
    }
  },
  "nbformat": 4,
  "nbformat_minor": 2
}