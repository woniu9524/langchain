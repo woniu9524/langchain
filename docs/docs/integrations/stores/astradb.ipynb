{
  "cells": [
    {
      "cell_type": "raw",
      "metadata": {
        "vscode": {
          "languageId": "raw"
        }
      },
      "source": [
        "---\n",
        "sidebar_label: AstraDB\n",
        "---"
      ]
    },
    {
      "cell_type": "markdown",
      "metadata": {},
      "source": [
        "# AstraDBByteStore\n\n这将帮助你开始使用 Astra DB [键值存储](/docs/concepts/key_value_stores)。有关 `AstraDBByteStore` 所有功能和配置的详细文档，请前往 [API 参考](https://python.langchain.com/api_reference/astradb/storage/langchain_astradb.storage.AstraDBByteStore.html)。\n\n## 概述\n\n> [DataStax Astra DB](https://docs.datastax.com/en/astra-db-serverless/index.html) 是一个无服务器的、\n> 面向 AI 的数据库，它构建在 `Apache Cassandra®` 之上，并通过易于使用的 JSON API 方便地提供服务。\n\n### 集成详情\n\n| 类 | 包 | 本地 | JS 支持 | 包下载量 | 最新包 |\n| :--- | :--- | :---: | :---: |  :---: | :---: |\n| [AstraDBByteStore](https://python.langchain.com/api_reference/astradb/storage/langchain_astradb.storage.AstraDBByteStore.html) | [langchain_astradb](https://python.langchain.com/api_reference/astradb/index.html) | ❌ | ❌ | ![PyPI - Downloads](https://img.shields.io/pypi/dm/langchain_astradb?style=flat-square&label=%20) | ![PyPI - Version](https://img.shields.io/pypi/v/langchain_astradb?style=flat-square&label=%20) |\n\n## 设置\n\n要创建 `AstraDBByteStore` 字节存储，你需要[创建一个 DataStax 账户](https://www.datastax.com/products/datastax-astra)。\n\n### 凭据\n\n注册后，设置以下凭据："
      ]
    },
    {
      "cell_type": "code",
      "execution_count": 1,
      "metadata": {},
      "outputs": [],
      "source": [
        "from getpass import getpass\n",
        "\n",
        "ASTRA_DB_API_ENDPOINT = getpass(\"ASTRA_DB_API_ENDPOINT = \")\n",
        "ASTRA_DB_APPLICATION_TOKEN = getpass(\"ASTRA_DB_APPLICATION_TOKEN = \")"
      ]
    },
    {
      "cell_type": "markdown",
      "metadata": {},
      "source": [
        "### 安装\n\nLangChain AstraDB 集成位于 `langchain_astradb` 包中："
      ]
    },
    {
      "cell_type": "code",
      "execution_count": null,
      "metadata": {},
      "outputs": [],
      "source": [
        "%pip install -qU langchain_astradb"
      ]
    },
    {
      "cell_type": "markdown",
      "metadata": {},
      "source": [
        "## 实例化\n\n现在我们可以实例化我们的字节存储桶："
      ]
    },
    {
      "cell_type": "code",
      "execution_count": 5,
      "metadata": {},
      "outputs": [],
      "source": [
        "from langchain_astradb import AstraDBByteStore\n",
        "\n",
        "kv_store = AstraDBByteStore(\n",
        "    api_endpoint=ASTRA_DB_API_ENDPOINT,\n",
        "    token=ASTRA_DB_APPLICATION_TOKEN,\n",
        "    collection_name=\"my_store\",\n",
        ")"
      ]
    },
    {
      "cell_type": "markdown",
      "metadata": {},
      "source": [
        "## 用法\n\n你可以使用 `mset` 方法像这样在键下设置数据："
      ]
    },
    {
      "cell_type": "code",
      "execution_count": 6,
      "metadata": {},
      "outputs": [
        {
          "data": {
            "text/plain": [
              "[b'value1', b'value2']"
            ]
          },
          "execution_count": 6,
          "metadata": {},
          "output_type": "execute_result"
        }
      ],
      "source": [
        "kv_store.mset(\n",
        "    [\n",
        "        [\"key1\", b\"value1\"],\n",
        "        [\"key2\", b\"value2\"],\n",
        "    ]\n",
        ")\n",
        "\n",
        "kv_store.mget(\n",
        "    [\n",
        "        \"key1\",\n",
        "        \"key2\",\n",
        "    ]\n",
        ")"
      ]
    },
    {
      "cell_type": "markdown",
      "metadata": {},
      "source": [
        "你可以使用 `mdelete` 方法删除数据："
      ]
    },
    {
      "cell_type": "code",
      "execution_count": 7,
      "metadata": {},
      "outputs": [
        {
          "data": {
            "text/plain": [
              "[None, None]"
            ]
          },
          "execution_count": 7,
          "metadata": {},
          "output_type": "execute_result"
        }
      ],
      "source": [
        "kv_store.mdelete(\n",
        "    [\n",
        "        \"key1\",\n",
        "        \"key2\",\n",
        "    ]\n",
        ")\n",
        "\n",
        "kv_store.mget(\n",
        "    [\n",
        "        \"key1\",\n",
        "        \"key2\",\n",
        "    ]\n",
        ")"
      ]
    },
    {
      "cell_type": "markdown",
      "metadata": {},
      "source": [
        "你可以将 `AstraDBByteStore` 用在任何你可以使用其他 ByteStores 的地方，包括作为[ embeddings 的缓存](/docs/how_to/caching_embeddings)。"
      ]
    },
    {
      "cell_type": "markdown",
      "metadata": {},
      "source": [
        "## API 参考\n\n有关 `AstraDBByteStore` 所有功能和配置的详细文档，请访问 API 参考：https://python.langchain.com/api_reference/astradb/storage/langchain_astradb.storage.AstraDBByteStore.html"
      ]
    }
  ],
  "metadata": {
    "kernelspec": {
      "display_name": "Python 3",
      "language": "python",
      "name": "python3"
    },
    "language_info": {
      "name": "python",
      "version": "3.10.5"
    }
  },
  "nbformat": 4,
  "nbformat_minor": 2
}