{
  "cells": [
    {
      "cell_type": "raw",
      "metadata": {
        "vscode": {
          "languageId": "raw"
        }
      },
      "source": [
        "---\n",
        "sidebar_label: Elasticsearch\n",
        "---"
      ]
    },
    {
      "cell_type": "markdown",
      "metadata": {},
      "source": [
        "# ElasticsearchEmbeddingsCache\n\n这将帮助您开始使用 Elasticsearch [键值存储](/docs/concepts/key_value_stores)。有关 `ElasticsearchEmbeddingsCache` 功能和配置的详细文档，请参阅 [API 参考](https://python.langchain.com/api_reference/elasticsearch/cache/langchain_elasticsearch.cache.ElasticsearchEmbeddingsCache.html)。\n\n## 概述\n\n`ElasticsearchEmbeddingsCache` 是一个 `ByteStore` 实现，它使用您的 Elasticsearch 实例来高效地存储和检索嵌入。\n\n### 集成详情\n\n| 类 | 包 | 本地 | JS 支持 | 包下载量 | 最新版本 |\n| :--- | :--- | :---: | :---: |  :---: | :---: |\n| [ElasticsearchEmbeddingsCache](https://python.langchain.com/api_reference/elasticsearch/cache/langchain_elasticsearch.cache.ElasticsearchEmbeddingsCache.html) | [langchain_elasticsearch](https://python.langchain.com/api_reference/elasticsearch/index.html) | ✅ | ❌ | ![PyPI - Downloads](https://img.shields.io/pypi/dm/langchain_elasticsearch?style=flat-square&label=%20) | ![PyPI - Version](https://img.shields.io/pypi/v/langchain_elasticsearch?style=flat-square&label=%20) |\n\n## 设置\n\n要创建 `ElasticsearchEmbeddingsCache` 字节存储，您需要一个 Elasticsearch 集群。您可以 [在本地设置一个](https://www.elastic.co/downloads/elasticsearch) 或创建 [Elastic 账户](https://www.elastic.co/elasticsearch)。"
      ]
    },
    {
      "cell_type": "markdown",
      "metadata": {},
      "source": [
        "### 安装\n\nLangChain 的 `ElasticsearchEmbeddingsCache` 集成位于 `__package_name__` 包中："
      ]
    },
    {
      "cell_type": "code",
      "execution_count": null,
      "metadata": {},
      "outputs": [],
      "source": [
        "%pip install -qU langchain_elasticsearch"
      ]
    },
    {
      "cell_type": "markdown",
      "metadata": {},
      "source": [
        "## 实例化\n\n现在我们可以实例化我们的字节存储："
      ]
    },
    {
      "cell_type": "code",
      "execution_count": 4,
      "metadata": {},
      "outputs": [],
      "source": [
        "from langchain_elasticsearch import ElasticsearchEmbeddingsCache\n",
        "\n",
        "# Example config for a locally running Elasticsearch instance\n",
        "kv_store = ElasticsearchEmbeddingsCache(\n",
        "    es_url=\"https://localhost:9200\",\n",
        "    index_name=\"llm-chat-cache\",\n",
        "    metadata={\"project\": \"my_chatgpt_project\"},\n",
        "    namespace=\"my_chatgpt_project\",\n",
        "    es_user=\"elastic\",\n",
        "    es_password=\"<GENERATED PASSWORD>\",\n",
        "    es_params={\n",
        "        \"ca_certs\": \"~/http_ca.crt\",\n",
        "    },\n",
        ")"
      ]
    },
    {
      "cell_type": "markdown",
      "metadata": {},
      "source": [
        "## 用法\n\n您可以使用 `mset` 方法，像这样在键下设置数据："
      ]
    },
    {
      "cell_type": "code",
      "execution_count": 5,
      "metadata": {},
      "outputs": [
        {
          "data": {
            "text/plain": [
              "[b'value1', b'value2']"
            ]
          },
          "execution_count": 5,
          "metadata": {},
          "output_type": "execute_result"
        }
      ],
      "source": [
        "kv_store.mset(\n",
        "    [\n",
        "        [\"key1\", b\"value1\"],\n",
        "        [\"key2\", b\"value2\"],\n",
        "    ]\n",
        ")\n",
        "\n",
        "kv_store.mget(\n",
        "    [\n",
        "        \"key1\",\n",
        "        \"key2\",\n",
        "    ]\n",
        ")"
      ]
    },
    {
      "cell_type": "markdown",
      "metadata": {},
      "source": [
        "您还可以使用 `mdelete` 方法删除数据："
      ]
    },
    {
      "cell_type": "code",
      "execution_count": 6,
      "metadata": {},
      "outputs": [
        {
          "data": {
            "text/plain": [
              "[None, None]"
            ]
          },
          "execution_count": 6,
          "metadata": {},
          "output_type": "execute_result"
        }
      ],
      "source": [
        "kv_store.mdelete(\n",
        "    [\n",
        "        \"key1\",\n",
        "        \"key2\",\n",
        "    ]\n",
        ")\n",
        "\n",
        "kv_store.mget(\n",
        "    [\n",
        "        \"key1\",\n",
        "        \"key2\",\n",
        "    ]\n",
        ")"
      ]
    },
    {
      "cell_type": "markdown",
      "metadata": {},
      "source": [
        "## 用作嵌入缓存\n\n与其他 `ByteStores` 一样，您可以将 `ElasticsearchEmbeddingsCache` 实例用于[文档摄取中的持久化缓存](/docs/how_to/caching_embeddings/)，以实现 RAG。\n\n但是，默认情况下，缓存的向量将无法搜索。开发者可以通过自定义 Elasticsearch 文档的构建过程来添加索引的向量字段。\n\n这可以通过继承和重写方法来完成："
      ]
    },
    {
      "cell_type": "code",
      "execution_count": null,
      "metadata": {},
      "outputs": [],
      "source": [
        "from typing import Any, Dict, List\n",
        "\n",
        "\n",
        "class SearchableElasticsearchStore(ElasticsearchEmbeddingsCache):\n",
        "    @property\n",
        "    def mapping(self) -> Dict[str, Any]:\n",
        "        mapping = super().mapping\n",
        "        mapping[\"mappings\"][\"properties\"][\"vector\"] = {\n",
        "            \"type\": \"dense_vector\",\n",
        "            \"dims\": 1536,\n",
        "            \"index\": True,\n",
        "            \"similarity\": \"dot_product\",\n",
        "        }\n",
        "        return mapping\n",
        "\n",
        "    def build_document(self, llm_input: str, vector: List[float]) -> Dict[str, Any]:\n",
        "        body = super().build_document(llm_input, vector)\n",
        "        body[\"vector\"] = vector\n",
        "        return body"
      ]
    },
    {
      "cell_type": "markdown",
      "metadata": {},
      "source": [
        "当覆盖映射和文档构建时，请仅进行附加修改，保持基础映射不变。"
      ]
    },
    {
      "cell_type": "markdown",
      "metadata": {},
      "source": [
        "## API 参考\n\n有关 `ElasticsearchEmbeddingsCache` 所有功能和配置的详细文档，请访问 API 参考：https://python.langchain.com/api_reference/elasticsearch/cache/langchain_elasticsearch.cache.ElasticsearchEmbeddingsCache.html"
      ]
    }
  ],
  "metadata": {
    "kernelspec": {
      "display_name": "Python 3",
      "language": "python",
      "name": "python3"
    },
    "language_info": {
      "name": "python",
      "version": "3.10.5"
    }
  },
  "nbformat": 4,
  "nbformat_minor": 2
}