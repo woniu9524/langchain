{
  "cells": [
    {
      "cell_type": "raw",
      "metadata": {
        "vscode": {
          "languageId": "raw"
        }
      },
      "source": [
        "---\n",
        "sidebar_label: Upstash Redis\n",
        "---"
      ]
    },
    {
      "cell_type": "markdown",
      "metadata": {},
      "source": [
        "# UpstashRedisByteStore\n\n这将帮助你开始使用 Upstash 的 Redis [键值存储](/docs/concepts/key_value_stores)。有关 `UpstashRedisByteStore` 所有功能和配置的详细文档，请参阅 [API 参考](https://python.langchain.com/api_reference/community/storage/langchain_community.storage.upstash_redis.UpstashRedisByteStore.html)。\n\n## 概述\n\n`UpstashRedisStore` 是 `ByteStore` 的一个实现，它将所有内容存储在你 [Upstash](https://upstash.com/) 托管的 Redis 实例中。\n\n要改用基础的 `RedisStore`，请参阅 [本指南](/docs/integrations/stores/redis/)。\n\n### 集成详情\n\n| 类 | 包 | 本地 | [JS 支持](https://js.langchain.com/docs/integrations/stores/upstash_redis_storage) | 包下载量 | 包最新版本 |\n| :--- | :--- | :---: | :---: |  :---: | :---: |\n| [UpstashRedisByteStore](https://python.langchain.com/api_reference/community/storage/langchain_community.storage.upstash_redis.UpstashRedisByteStore.html) | [langchain_community](https://python.langchain.com/api_reference/community/index.html) | ❌ | ✅ | ![PyPI - Downloads](https://img.shields.io/pypi/dm/langchain_community?style=flat-square&label=%20) | ![PyPI - Version](https://img.shields.io/pypi/v/langchain_community?style=flat-square&label=%20) |\n\n## 设置\n\n你首先需要 [注册一个 Upstash 账户](https://upstash.com/docs/redis/overall/getstarted)。接下来，你需要创建一个 Redis 数据库来连接。\n\n### 凭证\n\n创建数据库后，获取你的数据库 URL（别忘了 `https://`！）和令牌："
      ]
    },
    {
      "cell_type": "code",
      "execution_count": 1,
      "metadata": {},
      "outputs": [],
      "source": [
        "from getpass import getpass\n",
        "\n",
        "URL = getpass(\"Enter your Upstash URL\")\n",
        "TOKEN = getpass(\"Enter your Upstash REST token\")"
      ]
    },
    {
      "cell_type": "markdown",
      "metadata": {},
      "source": [
        "### 安装\n\nLangChain Upstash 集成位于 `langchain_community` 包中。您还需要安装 `upstash-redis` 包作为对等依赖项："
      ]
    },
    {
      "cell_type": "code",
      "execution_count": null,
      "metadata": {},
      "outputs": [],
      "source": [
        "%pip install -qU langchain_community upstash-redis"
      ]
    },
    {
      "cell_type": "markdown",
      "metadata": {},
      "source": [
        "## 实例化\n\n现在我们可以实例化我们的字节存储区："
      ]
    },
    {
      "cell_type": "code",
      "execution_count": 3,
      "metadata": {},
      "outputs": [],
      "source": [
        "from langchain_community.storage import UpstashRedisByteStore\n",
        "from upstash_redis import Redis\n",
        "\n",
        "redis_client = Redis(url=URL, token=TOKEN)\n",
        "kv_store = UpstashRedisByteStore(client=redis_client, ttl=None, namespace=\"test-ns\")"
      ]
    },
    {
      "cell_type": "markdown",
      "metadata": {},
      "source": [
        "## 用法\n\n你可以使用 `mset` 方法来设置类似这样的键下的数据："
      ]
    },
    {
      "cell_type": "code",
      "execution_count": 4,
      "metadata": {},
      "outputs": [
        {
          "data": {
            "text/plain": [
              "[b'value1', b'value2']"
            ]
          },
          "execution_count": 4,
          "metadata": {},
          "output_type": "execute_result"
        }
      ],
      "source": [
        "kv_store.mset(\n",
        "    [\n",
        "        [\"key1\", b\"value1\"],\n",
        "        [\"key2\", b\"value2\"],\n",
        "    ]\n",
        ")\n",
        "\n",
        "kv_store.mget(\n",
        "    [\n",
        "        \"key1\",\n",
        "        \"key2\",\n",
        "    ]\n",
        ")"
      ]
    },
    {
      "cell_type": "markdown",
      "metadata": {},
      "source": [
        "您也可以使用 `mdelete` 方法删除数据："
      ]
    },
    {
      "cell_type": "code",
      "execution_count": 5,
      "metadata": {},
      "outputs": [
        {
          "data": {
            "text/plain": [
              "[None, None]"
            ]
          },
          "execution_count": 5,
          "metadata": {},
          "output_type": "execute_result"
        }
      ],
      "source": [
        "kv_store.mdelete(\n",
        "    [\n",
        "        \"key1\",\n",
        "        \"key2\",\n",
        "    ]\n",
        ")\n",
        "\n",
        "kv_store.mget(\n",
        "    [\n",
        "        \"key1\",\n",
        "        \"key2\",\n",
        "    ]\n",
        ")"
      ]
    },
    {
      "cell_type": "markdown",
      "metadata": {},
      "source": [
        "## API 参考\n\n有关 `UpstashRedisByteStore` 所有功能和配置的详细文档，请访问 API 参考：https://python.langchain.com/api_reference/community/storage/langchain_community.storage.upstash_redis.UpstashRedisByteStore.html"
      ]
    }
  ],
  "metadata": {
    "kernelspec": {
      "display_name": "Python 3",
      "language": "python",
      "name": "python3"
    },
    "language_info": {
      "name": "python",
      "version": "3.10.5"
    }
  },
  "nbformat": 4,
  "nbformat_minor": 2
}