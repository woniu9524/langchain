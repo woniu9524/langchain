{
  "cells": [
    {
      "cell_type": "raw",
      "metadata": {
        "vscode": {
          "languageId": "raw"
        }
      },
      "source": [
        "---\n",
        "sidebar_label: Cassandra\n",
        "---"
      ]
    },
    {
      "cell_type": "markdown",
      "metadata": {},
      "source": [
        "# CassandraByteStore\n\n这将帮助您开始使用 Cassandra [键值存储](/docs/concepts/key_value_stores)。有关 `CassandraByteStore` 所有功能和配置的详细文档，请参阅 [API 参考](https://python.langchain.com/api_reference/community/storage/langchain_community.storage.cassandra.CassandraByteStore.html)。\n\n## 概述\n\n[Cassandra](https://cassandra.apache.org/) 是一个 NoSQL、面向行、高可扩展性和高可用性的数据库。\n\n### 集成详情\n\n| 类 | 包 | 本地 | [JS 支持](https://js.langchain.com/docs/integrations/stores/cassandra_storage) | 包下载量 | 包最新版本 |\n| :--- | :--- | :---: | :---: |  :---: | :---: |\n| [CassandraByteStore](https://python.langchain.com/api_reference/community/storage/langchain_community.storage.cassandra.CassandraByteStore.html) | [langchain_community](https://python.langchain.com/api_reference/community/index.html) | ✅ | ✅ | ![PyPI - Downloads](https://img.shields.io/pypi/dm/langchain_community?style=flat-square&label=%20) | ![PyPI - Version](https://img.shields.io/pypi/v/langchain_community?style=flat-square&label=%20) |\n\n## 设置\n\n`CassandraByteStore` 是 `ByteStore` 的一个实现，它将数据存储在您的 Cassandra 实例中。\n存储键必须是字符串，并将映射到 Cassandra 表的 `row_id` 列。\n存储的 `bytes` 值将映射到 Cassandra 表的 `body_blob` 列。"
      ]
    },
    {
      "cell_type": "markdown",
      "metadata": {},
      "source": [
        "### 安装\n\nLangChain 的 `CassandraByteStore` 集成位于 `langchain_community` 包中。根据您使用的初始化方法，您还需要安装 `cassio` 包或 `cassandra-driver` 包作为对等依赖项："
      ]
    },
    {
      "cell_type": "code",
      "execution_count": null,
      "metadata": {},
      "outputs": [],
      "source": [
        "%pip install -qU langchain_community\n",
        "%pip install -qU cassandra-driver\n",
        "%pip install -qU cassio"
      ]
    },
    {
      "cell_type": "markdown",
      "metadata": {},
      "source": [
        "您还需要创建一个 `cassandra.cluster.Session` 对象，如 [Cassandra 驱动程序文档](https://docs.datastax.com/en/developer/python-driver/latest/api/cassandra/cluster/#module-cassandra.cluster)中所述。具体细节会有所不同（例如，网络设置和身份验证），但这可能类似于："
      ]
    },
    {
      "cell_type": "markdown",
      "metadata": {},
      "source": [
        "## 实例化\n\n首先需要创建一个 `cassandra.cluster.Session` 对象，具体方法如 [Cassandra 驱动程序文档](https://docs.datastax.com/en/developer/python-driver/latest/api/cassandra/cluster/#module-cassandra.cluster) 中所述。具体细节会有所不同（例如网络设置和身份验证），但这可能会是这样的："
      ]
    },
    {
      "cell_type": "code",
      "execution_count": null,
      "metadata": {},
      "outputs": [],
      "source": [
        "from cassandra.cluster import Cluster\n",
        "\n",
        "cluster = Cluster()\n",
        "session = cluster.connect()"
      ]
    },
    {
      "cell_type": "markdown",
      "metadata": {},
      "source": [
        "然后你就可以创建你的 store 了！你还需要提供一个 Cassandra 实例中现有 keyspace 的名称："
      ]
    },
    {
      "cell_type": "code",
      "execution_count": null,
      "metadata": {},
      "outputs": [],
      "source": [
        "from langchain_community.storage import CassandraByteStore\n",
        "\n",
        "kv_store = CassandraByteStore(\n",
        "    table=\"my_store\",\n",
        "    session=session,\n",
        "    keyspace=\"<YOUR KEYSPACE>\",\n",
        ")"
      ]
    },
    {
      "cell_type": "markdown",
      "metadata": {},
      "source": [
        "## 用法\n\n您可以使用 `mset` 方法，像这样在键下设置数据："
      ]
    },
    {
      "cell_type": "code",
      "execution_count": null,
      "metadata": {},
      "outputs": [],
      "source": [
        "kv_store.mset(\n",
        "    [\n",
        "        [\"key1\", b\"value1\"],\n",
        "        [\"key2\", b\"value2\"],\n",
        "    ]\n",
        ")\n",
        "\n",
        "kv_store.mget(\n",
        "    [\n",
        "        \"key1\",\n",
        "        \"key2\",\n",
        "    ]\n",
        ")"
      ]
    },
    {
      "cell_type": "markdown",
      "metadata": {},
      "source": [
        "您还可以使用 `mdelete` 方法删除数据："
      ]
    },
    {
      "cell_type": "code",
      "execution_count": null,
      "metadata": {},
      "outputs": [],
      "source": [
        "kv_store.mdelete(\n",
        "    [\n",
        "        \"key1\",\n",
        "        \"key2\",\n",
        "    ]\n",
        ")\n",
        "\n",
        "kv_store.mget(\n",
        "    [\n",
        "        \"key1\",\n",
        "        \"key2\",\n",
        "    ]\n",
        ")"
      ]
    },
    {
      "cell_type": "markdown",
      "metadata": {},
      "source": [
        "## 使用 `cassio` 初始化\n\n也可以使用 cassio 来配置 session 和 keyspace。"
      ]
    },
    {
      "cell_type": "code",
      "execution_count": null,
      "metadata": {},
      "outputs": [],
      "source": [
        "import cassio\n",
        "\n",
        "cassio.init(contact_points=\"127.0.0.1\", keyspace=\"<YOUR KEYSPACE>\")\n",
        "\n",
        "store = CassandraByteStore(\n",
        "    table=\"my_store\",\n",
        ")\n",
        "\n",
        "store.mset([(\"k1\", b\"v1\"), (\"k2\", b\"v2\")])\n",
        "print(store.mget([\"k1\", \"k2\"]))"
      ]
    },
    {
      "cell_type": "markdown",
      "metadata": {},
      "source": [
        "## API 参考\n\n要了解 `CassandraByteStore` 的所有功能和配置的详细文档，请访问 API 参考：https://python.langchain.com/api_reference/community/storage/langchain_community.storage.cassandra.CassandraByteStore.html"
      ]
    }
  ],
  "metadata": {
    "kernelspec": {
      "display_name": "Python 3",
      "language": "python",
      "name": "python3"
    },
    "language_info": {
      "name": "python",
      "version": "3.10.5"
    }
  },
  "nbformat": 4,
  "nbformat_minor": 2
}