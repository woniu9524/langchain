{
  "cells": [
    {
      "cell_type": "markdown",
      "metadata": {},
      "source": [
        "# Neo4j Vector Index\n\n>[Neo4j](https://neo4j.com/) 是一个开源图数据库，集成了对向量相似性搜索的支持。\n\n它支持：\n\n- 近似最近邻搜索\n- 欧氏相似度和余弦相似度\n- 结合向量和关键字搜索的混合搜索\n\n本 Notebook 展示了如何使用 Neo4j vector index (`Neo4jVector`)。"
      ]
    },
    {
      "cell_type": "markdown",
      "metadata": {},
      "source": [
        "请参阅 [安装说明](https://neo4j.com/docs/operations-manual/current/installation/)。"
      ]
    },
    {
      "cell_type": "code",
      "execution_count": null,
      "metadata": {
        "tags": []
      },
      "outputs": [],
      "source": [
        "# Pip install necessary package\n",
        "%pip install --upgrade --quiet  neo4j\n",
        "%pip install --upgrade --quiet  langchain-openai langchain-neo4j\n",
        "%pip install --upgrade --quiet  tiktoken"
      ]
    },
    {
      "cell_type": "markdown",
      "metadata": {},
      "source": [
        "我们要使用 `OpenAIEmbeddings`，所以需要获取 OpenAI API 密钥。"
      ]
    },
    {
      "cell_type": "code",
      "execution_count": 2,
      "metadata": {},
      "outputs": [
        {
          "name": "stdout",
          "output_type": "stream",
          "text": [
            "OpenAI API Key: ········\n"
          ]
        }
      ],
      "source": [
        "import getpass\n",
        "import os\n",
        "\n",
        "if \"OPENAI_API_KEY\" not in os.environ:\n",
        "    os.environ[\"OPENAI_API_KEY\"] = getpass.getpass(\"OpenAI API Key:\")"
      ]
    },
    {
      "cell_type": "code",
      "execution_count": 3,
      "metadata": {
        "tags": []
      },
      "outputs": [],
      "source": [
        "from langchain_community.document_loaders import TextLoader\n",
        "from langchain_core.documents import Document\n",
        "from langchain_neo4j import Neo4jVector\n",
        "from langchain_openai import OpenAIEmbeddings\n",
        "from langchain_text_splitters import CharacterTextSplitter"
      ]
    },
    {
      "cell_type": "code",
      "execution_count": 4,
      "metadata": {},
      "outputs": [],
      "source": [
        "loader = TextLoader(\"../../how_to/state_of_the_union.txt\")\n",
        "\n",
        "documents = loader.load()\n",
        "text_splitter = CharacterTextSplitter(chunk_size=1000, chunk_overlap=0)\n",
        "docs = text_splitter.split_documents(documents)\n",
        "\n",
        "embeddings = OpenAIEmbeddings()"
      ]
    },
    {
      "cell_type": "code",
      "execution_count": 5,
      "metadata": {},
      "outputs": [],
      "source": [
        "# Neo4jVector requires the Neo4j database credentials\n",
        "\n",
        "url = \"bolt://localhost:7687\"\n",
        "username = \"neo4j\"\n",
        "password = \"password\"\n",
        "\n",
        "# You can also use environment variables instead of directly passing named parameters\n",
        "# os.environ[\"NEO4J_URI\"] = \"bolt://localhost:7687\"\n",
        "# os.environ[\"NEO4J_USERNAME\"] = \"neo4j\"\n",
        "# os.environ[\"NEO4J_PASSWORD\"] = \"pleaseletmein\""
      ]
    },
    {
      "cell_type": "markdown",
      "metadata": {},
      "source": [
        "## 相似度搜索（余弦距离，默认）"
      ]
    },
    {
      "cell_type": "code",
      "execution_count": 6,
      "metadata": {},
      "outputs": [],
      "source": [
        "# The Neo4jVector Module will connect to Neo4j and create a vector index if needed.\n",
        "\n",
        "db = Neo4jVector.from_documents(\n",
        "    docs, OpenAIEmbeddings(), url=url, username=username, password=password\n",
        ")"
      ]
    },
    {
      "cell_type": "code",
      "execution_count": 7,
      "metadata": {},
      "outputs": [],
      "source": [
        "query = \"What did the president say about Ketanji Brown Jackson\"\n",
        "docs_with_score = db.similarity_search_with_score(query, k=2)"
      ]
    },
    {
      "cell_type": "code",
      "execution_count": 8,
      "metadata": {},
      "outputs": [
        {
          "name": "stdout",
          "output_type": "stream",
          "text": [
            "--------------------------------------------------------------------------------\n",
            "Score:  0.9076391458511353\n",
            "Tonight. I call on the Senate to: Pass the Freedom to Vote Act. Pass the John Lewis Voting Rights Act. And while you’re at it, pass the Disclose Act so Americans can know who is funding our elections. \n",
            "\n",
            "Tonight, I’d like to honor someone who has dedicated his life to serve this country: Justice Stephen Breyer—an Army veteran, Constitutional scholar, and retiring Justice of the United States Supreme Court. Justice Breyer, thank you for your service. \n",
            "\n",
            "One of the most serious constitutional responsibilities a President has is nominating someone to serve on the United States Supreme Court. \n",
            "\n",
            "And I did that 4 days ago, when I nominated Circuit Court of Appeals Judge Ketanji Brown Jackson. One of our nation’s top legal minds, who will continue Justice Breyer’s legacy of excellence.\n",
            "--------------------------------------------------------------------------------\n",
            "--------------------------------------------------------------------------------\n",
            "Score:  0.8912242650985718\n",
            "A former top litigator in private practice. A former federal public defender. And from a family of public school educators and police officers. A consensus builder. Since she’s been nominated, she’s received a broad range of support—from the Fraternal Order of Police to former judges appointed by Democrats and Republicans. \n",
            "\n",
            "And if we are to advance liberty and justice, we need to secure the Border and fix the immigration system. \n",
            "\n",
            "We can do both. At our border, we’ve installed new technology like cutting-edge scanners to better detect drug smuggling.  \n",
            "\n",
            "We’ve set up joint patrols with Mexico and Guatemala to catch more human traffickers.  \n",
            "\n",
            "We’re putting in place dedicated immigration judges so families fleeing persecution and violence can have their cases heard faster. \n",
            "\n",
            "We’re securing commitments and supporting partners in South and Central America to host more refugees and secure their own borders.\n",
            "--------------------------------------------------------------------------------\n"
          ]
        }
      ],
      "source": [
        "for doc, score in docs_with_score:\n",
        "    print(\"-\" * 80)\n",
        "    print(\"Score: \", score)\n",
        "    print(doc.page_content)\n",
        "    print(\"-\" * 80)"
      ]
    },
    {
      "cell_type": "markdown",
      "metadata": {},
      "source": [
        "## 使用向量存储\n\n上面我们从头开始创建了一个向量存储。然而，我们通常希望使用现有的向量存储。为了做到这一点，我们可以直接初始化它。"
      ]
    },
    {
      "cell_type": "code",
      "execution_count": 9,
      "metadata": {},
      "outputs": [],
      "source": [
        "index_name = \"vector\"  # default index name\n",
        "\n",
        "store = Neo4jVector.from_existing_index(\n",
        "    OpenAIEmbeddings(),\n",
        "    url=url,\n",
        "    username=username,\n",
        "    password=password,\n",
        "    index_name=index_name,\n",
        ")"
      ]
    },
    {
      "cell_type": "markdown",
      "metadata": {},
      "source": [
        "我们还可以使用`from_existing_graph`方法从现有图初始化vectorstore。此方法从数据库中提取相关的文本信息，计算文本embedding并将其存储回数据库。"
      ]
    },
    {
      "cell_type": "code",
      "execution_count": 10,
      "metadata": {},
      "outputs": [
        {
          "data": {
            "text/plain": [
              "[]"
            ]
          },
          "execution_count": 10,
          "metadata": {},
          "output_type": "execute_result"
        }
      ],
      "source": [
        "# First we create sample data in graph\n",
        "store.query(\n",
        "    \"CREATE (p:Person {name: 'Tomaz', location:'Slovenia', hobby:'Bicycle', age: 33})\"\n",
        ")"
      ]
    },
    {
      "cell_type": "code",
      "execution_count": 11,
      "metadata": {},
      "outputs": [],
      "source": [
        "# Now we initialize from existing graph\n",
        "existing_graph = Neo4jVector.from_existing_graph(\n",
        "    embedding=OpenAIEmbeddings(),\n",
        "    url=url,\n",
        "    username=username,\n",
        "    password=password,\n",
        "    index_name=\"person_index\",\n",
        "    node_label=\"Person\",\n",
        "    text_node_properties=[\"name\", \"location\"],\n",
        "    embedding_node_property=\"embedding\",\n",
        ")\n",
        "result = existing_graph.similarity_search(\"Slovenia\", k=1)"
      ]
    },
    {
      "cell_type": "code",
      "execution_count": 12,
      "metadata": {},
      "outputs": [
        {
          "data": {
            "text/plain": [
              "Document(page_content='\\nname: Tomaz\\nlocation: Slovenia', metadata={'age': 33, 'hobby': 'Bicycle'})"
            ]
          },
          "execution_count": 12,
          "metadata": {},
          "output_type": "execute_result"
        }
      ],
      "source": [
        "result[0]"
      ]
    },
    {
      "cell_type": "markdown",
      "metadata": {},
      "source": [
        "Neo4j 也支持关系向量索引，其中嵌入作为关系属性存储并进行索引。关系向量索引无法通过 LangChain 填充，但您可以将其连接到现有的关系向量索引。"
      ]
    },
    {
      "cell_type": "code",
      "execution_count": 13,
      "metadata": {},
      "outputs": [
        {
          "data": {
            "text/plain": [
              "[]"
            ]
          },
          "execution_count": 13,
          "metadata": {},
          "output_type": "execute_result"
        }
      ],
      "source": [
        "# First we create sample data and index in graph\n",
        "store.query(\n",
        "    \"MERGE (p:Person {name: 'Tomaz'}) \"\n",
        "    \"MERGE (p1:Person {name:'Leann'}) \"\n",
        "    \"MERGE (p1)-[:FRIEND {text:'example text', embedding:$embedding}]->(p2)\",\n",
        "    params={\"embedding\": OpenAIEmbeddings().embed_query(\"example text\")},\n",
        ")\n",
        "# Create a vector index\n",
        "relationship_index = \"relationship_vector\"\n",
        "store.query(\n",
        "    \"\"\"\n",
        "CREATE VECTOR INDEX $relationship_index\n",
        "IF NOT EXISTS\n",
        "FOR ()-[r:FRIEND]-() ON (r.embedding)\n",
        "OPTIONS {indexConfig: {\n",
        " `vector.dimensions`: 1536,\n",
        " `vector.similarity_function`: 'cosine'\n",
        "}}\n",
        "\"\"\",\n",
        "    params={\"relationship_index\": relationship_index},\n",
        ")"
      ]
    },
    {
      "cell_type": "code",
      "execution_count": 14,
      "metadata": {},
      "outputs": [
        {
          "data": {
            "text/plain": [
              "[Document(page_content='example text')]"
            ]
          },
          "execution_count": 14,
          "metadata": {},
          "output_type": "execute_result"
        }
      ],
      "source": [
        "relationship_vector = Neo4jVector.from_existing_relationship_index(\n",
        "    OpenAIEmbeddings(),\n",
        "    url=url,\n",
        "    username=username,\n",
        "    password=password,\n",
        "    index_name=relationship_index,\n",
        "    text_node_property=\"text\",\n",
        ")\n",
        "relationship_vector.similarity_search(\"Example\")"
      ]
    },
    {
      "cell_type": "markdown",
      "metadata": {},
      "source": [
        "### 元数据过滤\n\nNeo4j 向量存储还通过结合并行运行时和精确最近邻搜索来支持元数据过滤。\n_需要 Neo4j 5.18 或更高版本。_\n\n相等过滤具有以下语法。"
      ]
    },
    {
      "cell_type": "code",
      "execution_count": 15,
      "metadata": {},
      "outputs": [
        {
          "data": {
            "text/plain": [
              "[Document(page_content='\\nname: Tomaz\\nlocation: Slovenia', metadata={'age': 33, 'hobby': 'Bicycle'})]"
            ]
          },
          "execution_count": 15,
          "metadata": {},
          "output_type": "execute_result"
        }
      ],
      "source": [
        "existing_graph.similarity_search(\n",
        "    \"Slovenia\",\n",
        "    filter={\"hobby\": \"Bicycle\", \"name\": \"Tomaz\"},\n",
        ")"
      ]
    },
    {
      "cell_type": "markdown",
      "metadata": {},
      "source": [
        "元数据过滤还支持以下运算符：\n\n*   `$eq: 等于`\n*   `$ne: 不等于`\n*   `$lt: 小于`\n*   `$lte: 小于或等于`\n*   `$gt: 大于`\n*   `$gte: 大于或等于`\n*   `$in: 在值列表中`\n*   `$nin: 不在值列表中`\n*   `$between: 在两个值之间`\n*   `$like: 文本包含值`\n*   `$ilike: 忽略大小写的文本包含值`"
      ]
    },
    {
      "cell_type": "code",
      "execution_count": 16,
      "metadata": {},
      "outputs": [
        {
          "data": {
            "text/plain": [
              "[Document(page_content='\\nname: Tomaz\\nlocation: Slovenia', metadata={'age': 33, 'hobby': 'Bicycle'})]"
            ]
          },
          "execution_count": 16,
          "metadata": {},
          "output_type": "execute_result"
        }
      ],
      "source": [
        "existing_graph.similarity_search(\n",
        "    \"Slovenia\",\n",
        "    filter={\"hobby\": {\"$eq\": \"Bicycle\"}, \"age\": {\"$gt\": 15}},\n",
        ")"
      ]
    },
    {
      "cell_type": "markdown",
      "metadata": {},
      "source": [
        "你也可以在过滤器之间使用 `OR` 运算符"
      ]
    },
    {
      "cell_type": "code",
      "execution_count": 17,
      "metadata": {},
      "outputs": [
        {
          "data": {
            "text/plain": [
              "[Document(page_content='\\nname: Tomaz\\nlocation: Slovenia', metadata={'age': 33, 'hobby': 'Bicycle'})]"
            ]
          },
          "execution_count": 17,
          "metadata": {},
          "output_type": "execute_result"
        }
      ],
      "source": [
        "existing_graph.similarity_search(\n",
        "    \"Slovenia\",\n",
        "    filter={\"$or\": [{\"hobby\": {\"$eq\": \"Bicycle\"}}, {\"age\": {\"$gt\": 15}}]},\n",
        ")"
      ]
    },
    {
      "cell_type": "markdown",
      "metadata": {},
      "source": [
        "### 添加文档\n我们可以向现有的向量数据库中添加文档。"
      ]
    },
    {
      "cell_type": "code",
      "execution_count": 18,
      "metadata": {},
      "outputs": [
        {
          "data": {
            "text/plain": [
              "['acbd18db4cc2f85cedef654fccc4a4d8']"
            ]
          },
          "execution_count": 18,
          "metadata": {},
          "output_type": "execute_result"
        }
      ],
      "source": [
        "store.add_documents([Document(page_content=\"foo\")])"
      ]
    },
    {
      "cell_type": "code",
      "execution_count": 19,
      "metadata": {},
      "outputs": [],
      "source": [
        "docs_with_score = store.similarity_search_with_score(\"foo\")"
      ]
    },
    {
      "cell_type": "code",
      "execution_count": 20,
      "metadata": {
        "scrolled": true
      },
      "outputs": [
        {
          "data": {
            "text/plain": [
              "(Document(page_content='foo'), 0.9999997615814209)"
            ]
          },
          "execution_count": 20,
          "metadata": {},
          "output_type": "execute_result"
        }
      ],
      "source": [
        "docs_with_score[0]"
      ]
    },
    {
      "cell_type": "markdown",
      "metadata": {},
      "source": [
        "## 使用检索查询自定义响应\n\n您还可以使用自定义 Cypher 代码段来提取图中的其他信息，从而自定义响应。\n在底层，最终的 Cypher 语句构建如下：\n\n```\nread_query = (\n  \"CALL db.index.vector.queryNodes($index, $k, $embedding) \"\n  \"YIELD node, score \"\n) + retrieval_query\n```\n\n检索查询必须返回以下三列：\n\n* `text`: Union[str, Dict] = 用于填充文档 `page_content` 的值\n* `score`: Float = 相似度分数\n* `metadata`: Dict = 文档的附加元数据\n\n在此[博客文章](https://medium.com/neo4j/implementing-rag-how-to-write-a-graph-retrieval-query-in-langchain-74abf13044f2)中了解更多信息。"
      ]
    },
    {
      "cell_type": "code",
      "execution_count": 21,
      "metadata": {},
      "outputs": [
        {
          "data": {
            "text/plain": [
              "[Document(page_content='Name:Tomaz', metadata={'foo': 'bar'})]"
            ]
          },
          "execution_count": 21,
          "metadata": {},
          "output_type": "execute_result"
        }
      ],
      "source": [
        "retrieval_query = \"\"\"\n",
        "RETURN \"Name:\" + node.name AS text, score, {foo:\"bar\"} AS metadata\n",
        "\"\"\"\n",
        "retrieval_example = Neo4jVector.from_existing_index(\n",
        "    OpenAIEmbeddings(),\n",
        "    url=url,\n",
        "    username=username,\n",
        "    password=password,\n",
        "    index_name=\"person_index\",\n",
        "    retrieval_query=retrieval_query,\n",
        ")\n",
        "retrieval_example.similarity_search(\"Foo\", k=1)"
      ]
    },
    {
      "cell_type": "markdown",
      "metadata": {},
      "source": [
        "这是一个将除 `embedding` 之外的所有节点属性作为字典传递给 `text` 列的示例："
      ]
    },
    {
      "cell_type": "code",
      "execution_count": 22,
      "metadata": {},
      "outputs": [
        {
          "data": {
            "text/plain": [
              "[Document(page_content='name: Tomaz\\nage: 33\\nhobby: Bicycle\\n', metadata={'foo': 'bar'})]"
            ]
          },
          "execution_count": 22,
          "metadata": {},
          "output_type": "execute_result"
        }
      ],
      "source": [
        "retrieval_query = \"\"\"\n",
        "RETURN node {.name, .age, .hobby} AS text, score, {foo:\"bar\"} AS metadata\n",
        "\"\"\"\n",
        "retrieval_example = Neo4jVector.from_existing_index(\n",
        "    OpenAIEmbeddings(),\n",
        "    url=url,\n",
        "    username=username,\n",
        "    password=password,\n",
        "    index_name=\"person_index\",\n",
        "    retrieval_query=retrieval_query,\n",
        ")\n",
        "retrieval_example.similarity_search(\"Foo\", k=1)"
      ]
    },
    {
      "cell_type": "markdown",
      "metadata": {},
      "source": [
        "您还可以将 Cypher 参数传递给检索查询。\n参数可用于其他过滤、遍历等..."
      ]
    },
    {
      "cell_type": "code",
      "execution_count": 23,
      "metadata": {},
      "outputs": [
        {
          "data": {
            "text/plain": [
              "[Document(page_content='location: Slovenia\\nextra: ParamInfo\\nname: Tomaz\\nage: 33\\nhobby: Bicycle\\nembedding: None\\n', metadata={'foo': 'bar'})]"
            ]
          },
          "execution_count": 23,
          "metadata": {},
          "output_type": "execute_result"
        }
      ],
      "source": [
        "retrieval_query = \"\"\"\n",
        "RETURN node {.*, embedding:Null, extra: $extra} AS text, score, {foo:\"bar\"} AS metadata\n",
        "\"\"\"\n",
        "retrieval_example = Neo4jVector.from_existing_index(\n",
        "    OpenAIEmbeddings(),\n",
        "    url=url,\n",
        "    username=username,\n",
        "    password=password,\n",
        "    index_name=\"person_index\",\n",
        "    retrieval_query=retrieval_query,\n",
        ")\n",
        "retrieval_example.similarity_search(\"Foo\", k=1, params={\"extra\": \"ParamInfo\"})"
      ]
    },
    {
      "cell_type": "markdown",
      "metadata": {},
      "source": [
        "## 混合搜索（向量 + 关键词）\n\nNeo4j 集成了向量和关键词索引，这使您能够采用混合搜索方法"
      ]
    },
    {
      "cell_type": "code",
      "execution_count": 24,
      "metadata": {},
      "outputs": [],
      "source": [
        "# The Neo4jVector Module will connect to Neo4j and create a vector and keyword indices if needed.\n",
        "hybrid_db = Neo4jVector.from_documents(\n",
        "    docs,\n",
        "    OpenAIEmbeddings(),\n",
        "    url=url,\n",
        "    username=username,\n",
        "    password=password,\n",
        "    search_type=\"hybrid\",\n",
        ")"
      ]
    },
    {
      "cell_type": "markdown",
      "metadata": {},
      "source": [
        "要从现有索引加载混合搜索，您必须同时提供向量和关键字索引。"
      ]
    },
    {
      "cell_type": "code",
      "execution_count": 25,
      "metadata": {},
      "outputs": [],
      "source": [
        "index_name = \"vector\"  # default index name\n",
        "keyword_index_name = \"keyword\"  # default keyword index name\n",
        "\n",
        "store = Neo4jVector.from_existing_index(\n",
        "    OpenAIEmbeddings(),\n",
        "    url=url,\n",
        "    username=username,\n",
        "    password=password,\n",
        "    index_name=index_name,\n",
        "    keyword_index_name=keyword_index_name,\n",
        "    search_type=\"hybrid\",\n",
        ")"
      ]
    },
    {
      "cell_type": "markdown",
      "metadata": {},
      "source": [
        "##检索器（Retriever）选项\n\n本节将展示如何使用 `Neo4jVector` 作为检索器。"
      ]
    },
    {
      "cell_type": "code",
      "execution_count": 26,
      "metadata": {},
      "outputs": [
        {
          "data": {
            "text/plain": [
              "Document(page_content='Tonight. I call on the Senate to: Pass the Freedom to Vote Act. Pass the John Lewis Voting Rights Act. And while you’re at it, pass the Disclose Act so Americans can know who is funding our elections. \\n\\nTonight, I’d like to honor someone who has dedicated his life to serve this country: Justice Stephen Breyer—an Army veteran, Constitutional scholar, and retiring Justice of the United States Supreme Court. Justice Breyer, thank you for your service. \\n\\nOne of the most serious constitutional responsibilities a President has is nominating someone to serve on the United States Supreme Court. \\n\\nAnd I did that 4 days ago, when I nominated Circuit Court of Appeals Judge Ketanji Brown Jackson. One of our nation’s top legal minds, who will continue Justice Breyer’s legacy of excellence.', metadata={'source': '../../how_to/state_of_the_union.txt'})"
            ]
          },
          "execution_count": 26,
          "metadata": {},
          "output_type": "execute_result"
        }
      ],
      "source": [
        "retriever = store.as_retriever()\n",
        "retriever.invoke(query)[0]"
      ]
    },
    {
      "cell_type": "markdown",
      "metadata": {},
      "source": [
        "## 基于来源的问答\n\n本节介绍如何对索引进行基于来源的问答。它通过使用 `RetrievalQAWithSourcesChain` 来实现，该链负责从索引中查找文档。"
      ]
    },
    {
      "cell_type": "code",
      "execution_count": 27,
      "metadata": {},
      "outputs": [],
      "source": [
        "from langchain.chains import RetrievalQAWithSourcesChain\n",
        "from langchain_openai import ChatOpenAI"
      ]
    },
    {
      "cell_type": "code",
      "execution_count": 28,
      "metadata": {},
      "outputs": [],
      "source": [
        "chain = RetrievalQAWithSourcesChain.from_chain_type(\n",
        "    ChatOpenAI(temperature=0), chain_type=\"stuff\", retriever=retriever\n",
        ")"
      ]
    },
    {
      "cell_type": "code",
      "execution_count": 29,
      "metadata": {},
      "outputs": [
        {
          "data": {
            "text/plain": [
              "{'answer': 'The president honored Justice Stephen Breyer for his service to the country and mentioned his retirement from the United States Supreme Court.\\n',\n",
              " 'sources': '../../how_to/state_of_the_union.txt'}"
            ]
          },
          "execution_count": 29,
          "metadata": {},
          "output_type": "execute_result"
        }
      ],
      "source": [
        "chain.invoke(\n",
        "    {\"question\": \"What did the president say about Justice Breyer\"},\n",
        "    return_only_outputs=True,\n",
        ")"
      ]
    },
    {
      "cell_type": "code",
      "execution_count": null,
      "metadata": {},
      "outputs": [],
      "source": []
    }
  ],
  "metadata": {
    "kernelspec": {
      "display_name": "Python 3 (ipykernel)",
      "language": "python",
      "name": "python3"
    },
    "language_info": {
      "codemirror_mode": {
        "name": "ipython",
        "version": 3
      },
      "file_extension": ".py",
      "mimetype": "text/x-python",
      "name": "python",
      "nbconvert_exporter": "python",
      "pygments_lexer": "ipython3",
      "version": "3.9.18"
    }
  },
  "nbformat": 4,
  "nbformat_minor": 4
}