{
  "cells": [
    {
      "cell_type": "raw",
      "id": "1957f5cb",
      "metadata": {},
      "source": [
        "---\n",
        "sidebar_label: Databricks\n",
        "---"
      ]
    },
    {
      "cell_type": "markdown",
      "id": "ef1f0986",
      "metadata": {},
      "source": [
        "# DatabricksVectorSearch\n\n[Databricks Vector Search](https://docs.databricks.com/en/generative-ai/vector-search.html) 是一个无服务器的相似性搜索引擎，允许您在向量数据库中存储数据的向量表示，包括元数据。借助 Vector Search，您可以从 Unity Catalog 管理的 Delta 表创建自动更新的向量搜索索引，并通过简单的 API 查询它们以返回最相似的向量。\n\n本笔记本演示了如何将 LangChain 与 Databricks Vector Search 结合使用。"
      ]
    },
    {
      "cell_type": "markdown",
      "id": "36fdc060",
      "metadata": {},
      "source": [
        "## 设置\n\n要访问 Databricks 模型，您需要创建一个 Databricks 账户，设置凭据（仅当您不在 Databricks 工作空间内时），并安装所需的包。\n\n### 凭据（仅当您不在 Databricks 工作空间内时）\n\n如果您在 Databricks 内运行 LangChain 应用，则可以跳过此步骤。\n\n否则，您需要分别将 Databricks 工作空间主机名和个人访问令牌手动设置为 `DATABRICKS_HOST` 和 `DATABRICKS_TOKEN` 环境变量。有关如何获取访问令牌的说明，请参阅[认证文档](https://docs.databricks.com/en/dev-tools/auth/index.html#databricks-personal-access-tokens)。"
      ]
    },
    {
      "cell_type": "code",
      "execution_count": 1,
      "id": "5fb2788f",
      "metadata": {},
      "outputs": [],
      "source": [
        "import getpass\n",
        "import os\n",
        "\n",
        "os.environ[\"DATABRICKS_HOST\"] = \"https://your-databricks-workspace\"\n",
        "if \"DATABRICKS_TOKEN\" not in os.environ:\n",
        "    os.environ[\"DATABRICKS_TOKEN\"] = getpass.getpass(\n",
        "        \"Enter your Databricks access token: \"\n",
        "    )"
      ]
    },
    {
      "cell_type": "markdown",
      "id": "93df377e",
      "metadata": {},
      "source": [
        "### 安装\n\nLangChain Databricks 集成位于 `databricks-langchain` 包中。"
      ]
    },
    {
      "cell_type": "code",
      "execution_count": null,
      "id": "b03d22f1",
      "metadata": {
        "vscode": {
          "languageId": "shellscript"
        }
      },
      "outputs": [],
      "source": [
        "%pip install -qU databricks-langchain"
      ]
    },
    {
      "cell_type": "markdown",
      "id": "08c6ef75",
      "metadata": {
        "vscode": {
          "languageId": "raw"
        }
      },
      "source": [
        "### 创建向量搜索端点和索引（如果尚未创建）\n\n在本节中，我们将使用客户端 SDK 创建一个 Databricks 向量搜索端点和一个索引。\n\n如果您已经拥有端点和索引，可以跳过本节，直接进入“实例化”部分。"
      ]
    },
    {
      "cell_type": "markdown",
      "id": "db62918b",
      "metadata": {
        "vscode": {
          "languageId": "raw"
        }
      },
      "source": [
        "首先，实例化 Databricks VectorSearch 客户端："
      ]
    },
    {
      "cell_type": "code",
      "execution_count": null,
      "id": "c0f2957b",
      "metadata": {},
      "outputs": [],
      "source": [
        "from databricks.vector_search.client import VectorSearchClient\n",
        "\n",
        "client = VectorSearchClient()"
      ]
    },
    {
      "cell_type": "markdown",
      "id": "31311046",
      "metadata": {},
      "source": [
        "接下来，我们将创建一个新的 VectorSearch endpoint。"
      ]
    },
    {
      "cell_type": "code",
      "execution_count": 14,
      "id": "be8f7d3a",
      "metadata": {},
      "outputs": [],
      "source": [
        "endpoint_name = \"<your-endpoint-name>\"\n",
        "\n",
        "client.create_endpoint(name=endpoint_name, endpoint_type=\"STANDARD\")"
      ]
    },
    {
      "cell_type": "markdown",
      "id": "63498435",
      "metadata": {},
      "source": [
        "最后，我们将创建一个可以在端点上查询的索引。Databricks Vector Search 中有两种类型的索引，`DatabricksVectorSearch` 类支持这两种用例。\n\n*   **Delta Sync Index** 会自动与源 Delta 表同步，并在 Delta 表中的底层数据发生变化时自动增量更新索引。\n\n*   **Direct Vector Access Index** 支持直接读写向量和元数据。用户负责使用 REST API 或 Python SDK 更新此表。\n\n此外，对于 delta-sync 索引，您可以选择使用 Databricks 管理的嵌入（embeddings）或自管理的嵌入（通过 LangChain embeddings 类）。"
      ]
    },
    {
      "cell_type": "markdown",
      "id": "863d7218",
      "metadata": {},
      "source": [
        "以下代码创建了一个**直接访问**索引。有关创建其他类型索引的说明，请参阅 [Databricks 文档](https://docs.databricks.com/en/generative-ai/create-query-vector-search.html)。"
      ]
    },
    {
      "cell_type": "code",
      "execution_count": null,
      "id": "474aea5c",
      "metadata": {},
      "outputs": [],
      "source": [
        "index_name = \"<your-index-name>\"  # Format: \"<catalog>.<schema>.<index-name>\"\n",
        "\n",
        "index = client.create_direct_access_index(\n",
        "    endpoint_name=endpoint_name,\n",
        "    index_name=index_name,\n",
        "    primary_key=\"id\",\n",
        "    # Dimension of the embeddings. Please change according to the embedding model you are using.\n",
        "    embedding_dimension=3072,\n",
        "    # A column to store the embedding vectors for the text data\n",
        "    embedding_vector_column=\"text_vector\",\n",
        "    schema={\n",
        "        \"id\": \"string\",\n",
        "        \"text\": \"string\",\n",
        "        \"text_vector\": \"array<float>\",\n",
        "        # Optional metadata columns\n",
        "        \"source\": \"string\",\n",
        "    },\n",
        ")\n",
        "\n",
        "index.describe()"
      ]
    },
    {
      "cell_type": "markdown",
      "id": "979bea9b",
      "metadata": {
        "vscode": {
          "languageId": "raw"
        }
      },
      "source": [
        "## 实例化\n\n`DatabricksVectorSearch` 的实例化方式会略有不同，具体取决于您的索引使用的是 Databricks 管理的嵌入还是自带的嵌入，即您选择的 LangChain Embeddings 对象。"
      ]
    },
    {
      "cell_type": "markdown",
      "id": "d34c1b01",
      "metadata": {
        "vscode": {
          "languageId": "raw"
        }
      },
      "source": [
        "如果你在使用 Databricks 管理的 embedding 的增量同步索引："
      ]
    },
    {
      "cell_type": "code",
      "execution_count": null,
      "id": "dc37144c-208d-4ab3-9f3a-0407a69fe052",
      "metadata": {
        "tags": []
      },
      "outputs": [],
      "source": [
        "from databricks_langchain import DatabricksVectorSearch\n",
        "\n",
        "vector_store = DatabricksVectorSearch(\n",
        "    endpoint=endpoint_name,\n",
        "    index_name=index_name,\n",
        ")"
      ]
    },
    {
      "cell_type": "markdown",
      "id": "f48e4e85",
      "metadata": {},
      "source": [
        "如果您正在使用直接访问索引或 Delta-Sync 索引，并结合自管理的嵌入，那么您还需要在源表中提供用于嵌入的 embedding model 和 text column：\n\nimport EmbeddingTabs from \"@theme/EmbeddingTabs\";\n\n<EmbeddingTabs/>"
      ]
    },
    {
      "cell_type": "code",
      "execution_count": null,
      "id": "ec6288a7",
      "metadata": {},
      "outputs": [],
      "source": [
        "# | output: false\n",
        "# | echo: false\n",
        "from langchain_openai import OpenAIEmbeddings\n",
        "\n",
        "embeddings = OpenAIEmbeddings(model=\"text-embedding-3-large\")"
      ]
    },
    {
      "cell_type": "code",
      "execution_count": null,
      "id": "0b1bdbdf",
      "metadata": {},
      "outputs": [],
      "source": [
        "vector_store = DatabricksVectorSearch(\n",
        "    endpoint=endpoint_name,\n",
        "    index_name=index_name,\n",
        "    embedding=embeddings,\n",
        "    # The column name in the index that contains the text data to be embedded\n",
        "    text_column=\"document_content\",\n",
        ")"
      ]
    },
    {
      "cell_type": "markdown",
      "id": "ac6071d4",
      "metadata": {},
      "source": [
        "## 管理向量存储\n\n### 向向量存储添加项目\n\n注意：通过 `add_documents` 方法向向量存储添加项目仅支持**直接访问**索引。"
      ]
    },
    {
      "cell_type": "code",
      "execution_count": 20,
      "id": "17f5efc0",
      "metadata": {},
      "outputs": [
        {
          "data": {
            "text/plain": [
              "['1', '2', '3']"
            ]
          },
          "execution_count": 20,
          "metadata": {},
          "output_type": "execute_result"
        }
      ],
      "source": [
        "from langchain_core.documents import Document\n",
        "\n",
        "document_1 = Document(page_content=\"foo\", metadata={\"source\": \"https://example.com\"})\n",
        "\n",
        "document_2 = Document(page_content=\"bar\", metadata={\"source\": \"https://example.com\"})\n",
        "\n",
        "document_3 = Document(page_content=\"baz\", metadata={\"source\": \"https://example.com\"})\n",
        "\n",
        "documents = [document_1, document_2, document_3]\n",
        "\n",
        "vector_store.add_documents(documents=documents, ids=[\"1\", \"2\", \"3\"])"
      ]
    },
    {
      "cell_type": "markdown",
      "id": "dcf1b905",
      "metadata": {},
      "source": [
        "### 从向量存储中删除条目\n\n注意：通过 `delete` 方法删除到向量存储的条目仅支持 **直接访问（**direct-access**）** 索引。"
      ]
    },
    {
      "cell_type": "code",
      "execution_count": 21,
      "id": "ef61e188",
      "metadata": {},
      "outputs": [
        {
          "data": {
            "text/plain": [
              "True"
            ]
          },
          "execution_count": 21,
          "metadata": {},
          "output_type": "execute_result"
        }
      ],
      "source": [
        "vector_store.delete(ids=[\"3\"])"
      ]
    },
    {
      "cell_type": "markdown",
      "id": "c3620501",
      "metadata": {},
      "source": [
        "## 查询向量存储\n\n一旦你的向量存储创建完成并且已添加了相关文档，在运行你的链或代理时，你最有可能想查询它。\n\n### 直接查询\n\n可以通过以下方式执行简单的相似性搜索："
      ]
    },
    {
      "cell_type": "code",
      "execution_count": 23,
      "id": "aa0a16fa",
      "metadata": {},
      "outputs": [
        {
          "name": "stdout",
          "output_type": "stream",
          "text": [
            "* foo [{'id': '1'}]\n"
          ]
        }
      ],
      "source": [
        "results = vector_store.similarity_search(\n",
        "    query=\"thud\", k=1, filter={\"source\": \"https://example.com\"}\n",
        ")\n",
        "for doc in results:\n",
        "    print(f\"* {doc.page_content} [{doc.metadata}]\")"
      ]
    },
    {
      "cell_type": "markdown",
      "id": "562056dd",
      "metadata": {},
      "source": [
        "注意：默认情况下，相似性搜索仅返回主键和文本列。如果您想检索与文档关联的自定义元数据，请在初始化向量存储时在 `columns` 参数中传入额外的列。"
      ]
    },
    {
      "cell_type": "code",
      "execution_count": 35,
      "id": "a1c746a2",
      "metadata": {},
      "outputs": [
        {
          "name": "stdout",
          "output_type": "stream",
          "text": [
            "* foo [{'source': 'https://example.com', 'id': '1'}]\n"
          ]
        }
      ],
      "source": [
        "vector_store = DatabricksVectorSearch(\n",
        "    endpoint=endpoint_name,\n",
        "    index_name=index_name,\n",
        "    embedding=embeddings,\n",
        "    text_column=\"text\",\n",
        "    columns=[\"source\"],\n",
        ")\n",
        "\n",
        "results = vector_store.similarity_search(query=\"thud\", k=1)\n",
        "for doc in results:\n",
        "    print(f\"* {doc.page_content} [{doc.metadata}]\")"
      ]
    },
    {
      "cell_type": "markdown",
      "id": "3ed9d733",
      "metadata": {},
      "source": [
        "如果你想执行相似性搜索并接收相应的得分，可以运行："
      ]
    },
    {
      "cell_type": "code",
      "execution_count": 36,
      "id": "5efd2eaa",
      "metadata": {},
      "outputs": [
        {
          "name": "stdout",
          "output_type": "stream",
          "text": [
            "* [SIM=0.414035] foo [{'source': 'https://example.com', 'id': '1'}]\n"
          ]
        }
      ],
      "source": [
        "results = vector_store.similarity_search_with_score(\n",
        "    query=\"thud\", k=1, filter={\"source\": \"https://example.com\"}\n",
        ")\n",
        "for doc, score in results:\n",
        "    print(f\"* [SIM={score:3f}] {doc.page_content} [{doc.metadata}]\")"
      ]
    },
    {
      "cell_type": "markdown",
      "id": "0c235cdc",
      "metadata": {},
      "source": [
        "### 通过转化为检索器进行查询\n\n你也可以将向量存储转化为检索器以便在你的链中更方便地使用。"
      ]
    },
    {
      "cell_type": "code",
      "execution_count": 37,
      "id": "f3460093",
      "metadata": {},
      "outputs": [
        {
          "data": {
            "text/plain": [
              "[Document(metadata={'source': 'https://example.com', 'id': '1'}, page_content='foo')]"
            ]
          },
          "execution_count": 37,
          "metadata": {},
          "output_type": "execute_result"
        }
      ],
      "source": [
        "retriever = vector_store.as_retriever(search_type=\"mmr\", search_kwargs={\"k\": 1})\n",
        "retriever.invoke(\"thud\")"
      ]
    },
    {
      "cell_type": "markdown",
      "id": "901c75dc",
      "metadata": {},
      "source": [
        "## 使用检索增强生成（Retrieval-Augmented Generation）\n\n有关如何将此向量存储用于检索增强生成（RAG）的指南，请参阅以下部分：\n\n- [教程](/docs/tutorials/)\n- [操作指南：通过 RAG 进行问答](https://python.langchain.com/docs/how_to/#qa-with-rag)\n- [检索概念文档](https://python.langchain.com/docs/concepts/retrieval)"
      ]
    },
    {
      "cell_type": "markdown",
      "id": "8a27244f",
      "metadata": {},
      "source": [
        "## API 参考\n\n如需了解 DatabricksVectorSearch 所有功能和配置的详细文档，请访问 API 参考：https://api-docs.databricks.com/python/databricks-ai-bridge/latest/databricks_langchain.html#databricks_langchain.DatabricksVectorSearch"
      ]
    }
  ],
  "metadata": {
    "kernelspec": {
      "display_name": "langchain-dev",
      "language": "python",
      "name": "langchain-dev"
    },
    "language_info": {
      "codemirror_mode": {
        "name": "ipython",
        "version": 3
      },
      "file_extension": ".py",
      "mimetype": "text/x-python",
      "name": "python",
      "nbconvert_exporter": "python",
      "pygments_lexer": "ipython3",
      "version": "3.10.12"
    }
  },
  "nbformat": 4,
  "nbformat_minor": 5
}