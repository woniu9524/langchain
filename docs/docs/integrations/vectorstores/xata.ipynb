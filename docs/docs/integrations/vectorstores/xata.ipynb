{
  "cells": [
    {
      "cell_type": "markdown",
      "metadata": {},
      "source": [
        "# Xata\n\n> [Xata](https://xata.io) 是一个无服务器数据平台，基于 PostgreSQL。它提供了一个与数据库交互的 Python SDK，以及一个用于管理数据的 UI。\n> Xata 具有原生的向量类型，可以添加到任何表中，并支持相似性搜索。LangChain 将向量直接插入 Xata，并查询给定向量的最近邻居，以便您可以使用所有 LangChain Embeddings 与 Xata 的集成。"
      ]
    },
    {
      "cell_type": "markdown",
      "metadata": {},
      "source": [
        "本指南将指导您如何使用 Xata 作为 VectorStore。"
      ]
    },
    {
      "cell_type": "markdown",
      "metadata": {},
      "source": [
        "## 设置\n\n### 创建用于用作向量存储的数据库\n\n在 [Xata UI](https://app.xata.io) 中创建一个新数据库。您可以随意命名，在此记事本中，我们将使用 `langchain`。\n创建一个表，同样，您可以随意命名，但我们将使用 `vectors`。通过 UI 添加以下列：\n\n* `content` 类型为“Text”。这用于存储 `Document.pageContent` 的值。\n* `embedding` 类型为“Vector”。使用您计划使用的模型所使用的维度。在此笔记本中，我们使用 OpenAI 嵌入，其维度为 1536。\n* `source` 类型为“Text”。此列在此示例中用作元数据列。\n* 任何您希望用作元数据的其他列。它们是从 `Document.metadata` 对象填充的。例如，如果 `Document.metadata` 对象中有一个 `title` 属性，您可以创建一个 `title` 列，它将被填充。"
      ]
    },
    {
      "cell_type": "markdown",
      "metadata": {},
      "source": [
        "让我们先安装我们的依赖："
      ]
    },
    {
      "cell_type": "code",
      "execution_count": null,
      "metadata": {
        "collapsed": false,
        "jupyter": {
          "outputs_hidden": false
        }
      },
      "outputs": [],
      "source": [
        "%pip install --upgrade --quiet  xata langchain-openai langchain-community tiktoken langchain"
      ]
    },
    {
      "cell_type": "markdown",
      "metadata": {},
      "source": [
        "我们就把 OpenAI 密钥加载到环境中。如果你还没有密钥，可以创建一个 OpenAI 账户，并在[这个页面](https://platform.openai.com/account/api-keys)上创建密钥。"
      ]
    },
    {
      "cell_type": "code",
      "execution_count": null,
      "metadata": {
        "collapsed": false,
        "jupyter": {
          "outputs_hidden": false
        }
      },
      "outputs": [],
      "source": [
        "import getpass\n",
        "import os\n",
        "\n",
        "if \"OPENAI_API_KEY\" not in os.environ:\n",
        "    os.environ[\"OPENAI_API_KEY\"] = getpass.getpass(\"OpenAI API Key:\")"
      ]
    },
    {
      "cell_type": "markdown",
      "metadata": {},
      "source": [
        "同样，我们需要获取 Xata 的环境变量。您可以通过访问您的[账户设置](https://app.xata.io/settings)来创建新的 API 密钥。要查找数据库 URL，请转到您已创建的数据库的设置页面。数据库 URL 应如下所示：`https://demo-uni3q8.eu-west-1.xata.sh/db/langchain`。"
      ]
    },
    {
      "cell_type": "code",
      "execution_count": null,
      "metadata": {},
      "outputs": [],
      "source": [
        "api_key = getpass.getpass(\"Xata API key: \")\n",
        "db_url = input(\"Xata database URL (copy it from your DB settings):\")"
      ]
    },
    {
      "cell_type": "code",
      "execution_count": null,
      "metadata": {
        "collapsed": false,
        "jupyter": {
          "outputs_hidden": false
        }
      },
      "outputs": [],
      "source": [
        "from langchain_community.document_loaders import TextLoader\n",
        "from langchain_community.vectorstores.xata import XataVectorStore\n",
        "from langchain_openai import OpenAIEmbeddings\n",
        "from langchain_text_splitters import CharacterTextSplitter"
      ]
    },
    {
      "cell_type": "markdown",
      "metadata": {},
      "source": [
        "### 创建 Xata 向量存储\n让我们导入测试数据集："
      ]
    },
    {
      "cell_type": "code",
      "execution_count": null,
      "metadata": {
        "collapsed": false,
        "jupyter": {
          "outputs_hidden": false
        }
      },
      "outputs": [],
      "source": [
        "loader = TextLoader(\"../../how_to/state_of_the_union.txt\")\n",
        "documents = loader.load()\n",
        "text_splitter = CharacterTextSplitter(chunk_size=1000, chunk_overlap=0)\n",
        "docs = text_splitter.split_documents(documents)\n",
        "\n",
        "embeddings = OpenAIEmbeddings()"
      ]
    },
    {
      "cell_type": "markdown",
      "metadata": {},
      "source": [
        "现在创建实际的向量存储，由 Xata 表支持。"
      ]
    },
    {
      "cell_type": "code",
      "execution_count": null,
      "metadata": {
        "collapsed": false,
        "jupyter": {
          "outputs_hidden": false
        }
      },
      "outputs": [],
      "source": [
        "vector_store = XataVectorStore.from_documents(\n",
        "    docs, embeddings, api_key=api_key, db_url=db_url, table_name=\"vectors\"\n",
        ")"
      ]
    },
    {
      "cell_type": "markdown",
      "metadata": {},
      "source": [
        "运行上述命令后，如果您转到 Xata UI，您会看到加载的文档及其嵌入。\n要使用已包含向量内容的现有 Xata 表，请初始化 XataVectorStore 构造函数："
      ]
    },
    {
      "cell_type": "code",
      "execution_count": null,
      "metadata": {},
      "outputs": [],
      "source": [
        "vector_store = XataVectorStore(\n",
        "    api_key=api_key, db_url=db_url, embedding=embeddings, table_name=\"vectors\"\n",
        ")"
      ]
    },
    {
      "cell_type": "markdown",
      "metadata": {},
      "source": [
        "### 相似性搜索"
      ]
    },
    {
      "cell_type": "code",
      "execution_count": null,
      "metadata": {
        "collapsed": false,
        "jupyter": {
          "outputs_hidden": false
        }
      },
      "outputs": [],
      "source": [
        "query = \"What did the president say about Ketanji Brown Jackson\"\n",
        "found_docs = vector_store.similarity_search(query)\n",
        "print(found_docs)"
      ]
    },
    {
      "cell_type": "markdown",
      "metadata": {},
      "source": [
        "### 相似性搜索（带分数 - 向量距离）"
      ]
    },
    {
      "cell_type": "code",
      "execution_count": null,
      "metadata": {
        "collapsed": false,
        "jupyter": {
          "outputs_hidden": false
        }
      },
      "outputs": [],
      "source": [
        "query = \"What did the president say about Ketanji Brown Jackson\"\n",
        "result = vector_store.similarity_search_with_score(query)\n",
        "for doc, score in result:\n",
        "    print(f\"document={doc}, score={score}\")"
      ]
    }
  ],
  "metadata": {
    "kernelspec": {
      "display_name": "Python 3 (ipykernel)",
      "language": "python",
      "name": "python3"
    },
    "language_info": {
      "codemirror_mode": {
        "name": "ipython",
        "version": 3
      },
      "file_extension": ".py",
      "mimetype": "text/x-python",
      "name": "python",
      "nbconvert_exporter": "python",
      "pygments_lexer": "ipython3",
      "version": "3.10.12"
    }
  },
  "nbformat": 4,
  "nbformat_minor": 4
}