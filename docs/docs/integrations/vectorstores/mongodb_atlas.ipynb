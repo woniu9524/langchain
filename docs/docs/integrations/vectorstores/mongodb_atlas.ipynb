{
  "cells": [
    {
      "cell_type": "markdown",
      "id": "683953b3",
      "metadata": {},
      "source": [
        "# MongoDB Atlas\n\n本教程将介绍如何使用 `langchain-mongodb` 包在 LangChain 中使�?MongoDB Atlas 的向量搜索。\n\n>[MongoDB Atlas](https://www.mongodb.com/docs/atlas/) 是一个完全托管的云数据库，可�?AWS、Azure �?GCP 上使用。它支持�?MongoDB 文档数据上进行原生向量搜索、全文搜�?(BM25) 和混合搜索。\n\n>[MongoDB Atlas Vector Search](https://www.mongodb.com/products/platform/atlas-vector-search) 允许您将嵌入式向量存储在 MongoDB 文档中，创建向量搜索索引，并使用近似最近邻算法（`Hierarchical Navigable Small Worlds`）执�?KNN 搜索。它使用�?[$vectorSearch MQL 阶段](https://www.mongodb.com/docs/atlas/atlas-vector-search/vector-search-overview/)�?
      ]
    },
    {
      "cell_type": "markdown",
      "id": "359b8e9b",
      "metadata": {},
      "source": [
        "## 设置\n\n>*一个运�?MongoDB 版本 6.0.11�?.0.2 或更高版本（包括 RC 版）�?Atlas 集群。\n\n要使�?MongoDB Atlas，您必须先部署一个集群。我们提供免费托管的集群，您可以选择任何云服务商。开始之前，请访�?Atlas：[快速入门](https://www.mongodb.com/docs/atlas/getting-started/)。\n\n您需要安�?`langchain-mongodb` �?`pymongo` 才能使用此集成�?
      ]
    },
    {
      "cell_type": "code",
      "execution_count": null,
      "id": "73cf7c9f",
      "metadata": {},
      "outputs": [],
      "source": [
        "pip install -qU langchain-mongodb pymongo"
      ]
    },
    {
      "cell_type": "markdown",
      "id": "a61832ea",
      "metadata": {},
      "source": [
        "### 凭证\n\n对于此笔记本，您需要找到您�?MongoDB 集群 URI。\n\n有关查找集群 URI 的信息，请仔细阅读[此指南](https://www.mongodb.com/docs/manual/reference/connection-string/)�?
      ]
    },
    {
      "cell_type": "code",
      "execution_count": 33,
      "id": "7ef41b37",
      "metadata": {},
      "outputs": [],
      "source": [
        "import getpass\n",
        "\n",
        "MONGODB_ATLAS_CLUSTER_URI = getpass.getpass(\"MongoDB Atlas Cluster URI:\")"
      ]
    },
    {
      "cell_type": "markdown",
      "id": "1f23de23",
      "metadata": {},
      "source": [
        "如果你想获得同类最佳的模型调用自动化追踪，你也可以通过取消注释以下内容来设置你�?[LangSmith](https://docs.smith.langchain.com/) API 密钥�?
      ]
    },
    {
      "cell_type": "code",
      "execution_count": null,
      "id": "908e7772",
      "metadata": {},
      "outputs": [],
      "source": [
        "# os.environ[\"LANGSMITH_API_KEY\"] = getpass.getpass(\"Enter your LangSmith API key: \")\n",
        "# os.environ[\"LANGSMITH_TRACING\"] = \"true\""
      ]
    },
    {
      "cell_type": "markdown",
      "id": "a53673ae",
      "metadata": {},
      "source": [
        "## 初始化\n\nimport EmbeddingTabs from \"@theme/EmbeddingTabs\";\n\n<EmbeddingTabs/>"
      ]
    },
    {
      "cell_type": "code",
      "execution_count": 54,
      "id": "f5fed614",
      "metadata": {},
      "outputs": [],
      "source": [
        "# | output: false\n",
        "# | echo: false\n",
        "from langchain_openai import OpenAIEmbeddings\n",
        "\n",
        "embeddings = OpenAIEmbeddings()"
      ]
    },
    {
      "cell_type": "code",
      "execution_count": 56,
      "id": "00d78318",
      "metadata": {},
      "outputs": [],
      "source": [
        "from langchain_mongodb import MongoDBAtlasVectorSearch\n",
        "from pymongo import MongoClient\n",
        "\n",
        "# initialize MongoDB python client\n",
        "client = MongoClient(MONGODB_ATLAS_CLUSTER_URI)\n",
        "\n",
        "DB_NAME = \"langchain_test_db\"\n",
        "COLLECTION_NAME = \"langchain_test_vectorstores\"\n",
        "ATLAS_VECTOR_SEARCH_INDEX_NAME = \"langchain-test-index-vectorstores\"\n",
        "\n",
        "MONGODB_COLLECTION = client[DB_NAME][COLLECTION_NAME]\n",
        "\n",
        "vector_store = MongoDBAtlasVectorSearch(\n",
        "    collection=MONGODB_COLLECTION,\n",
        "    embedding=embeddings,\n",
        "    index_name=ATLAS_VECTOR_SEARCH_INDEX_NAME,\n",
        "    relevance_score_fn=\"cosine\",\n",
        ")\n",
        "\n",
        "# Create vector search index on the collection\n",
        "# Since we are using the default OpenAI embedding model (ada-v2) we need to specify the dimensions as 1536\n",
        "vector_store.create_vector_search_index(dimensions=1536)"
      ]
    },
    {
      "cell_type": "markdown",
      "id": "aec0bb58",
      "metadata": {},
      "source": [
        "[可选] 作为上述 `vector_store.create_vector_search_index` 命令的替代方法，您也可以使用 Atlas UI 创建向量搜索索引，索引定义如下：\n```json\n{\n  \"fields\":[\n    {\n      \"type\": \"vector\",\n      \"path\": \"embedding\",\n      \"numDimensions\": 1536,\n      \"similarity\": \"cosine\"\n    }\n  ]\n}\n```"
      ]
    },
    {
      "cell_type": "markdown",
      "id": "42873e5a",
      "metadata": {},
      "source": [
        "## 管理向量存储\n\n创建向量存储后，我们可以通过添加和删除不同的项目来与之交互。\n\n### 向向量存储添加项目\n\n我们可以使用 `add_documents` 函数向向量存储添加项目�?
      ]
    },
    {
      "cell_type": "code",
      "execution_count": 57,
      "id": "aac9563e",
      "metadata": {
        "tags": []
      },
      "outputs": [
        {
          "data": {
            "text/plain": [
              "['03ad81e8-32a0-46f0-b7d8-f5b977a6b52a',\n",
              " '8396a68d-f4a3-4176-a581-a1a8c303eea4',\n",
              " 'e7d95150-67f6-499f-b611-84367c50fa60',\n",
              " '8c31b84e-2636-48b6-8b99-9fccb47f7051',\n",
              " 'aa02e8a2-a811-446a-9785-8cea0faba7a9',\n",
              " '19bd72ff-9766-4c3b-b1fd-195c732c562b',\n",
              " '642d6f2f-3e34-4efa-a1ed-c4ba4ef0da8d',\n",
              " '7614bb54-4eb5-4b3b-990c-00e35cb31f99',\n",
              " '69e18c67-bf1b-43e5-8a6e-64fb3f240e52',\n",
              " '30d599a7-4a1a-47a9-bbf8-6ed393e2e33c']"
            ]
          },
          "execution_count": 57,
          "metadata": {},
          "output_type": "execute_result"
        }
      ],
      "source": [
        "from uuid import uuid4\n",
        "\n",
        "from langchain_core.documents import Document\n",
        "\n",
        "document_1 = Document(\n",
        "    page_content=\"I had chocolate chip pancakes and scrambled eggs for breakfast this morning.\",\n",
        "    metadata={\"source\": \"tweet\"},\n",
        ")\n",
        "\n",
        "document_2 = Document(\n",
        "    page_content=\"The weather forecast for tomorrow is cloudy and overcast, with a high of 62 degrees.\",\n",
        "    metadata={\"source\": \"news\"},\n",
        ")\n",
        "\n",
        "document_3 = Document(\n",
        "    page_content=\"Building an exciting new project with LangChain - come check it out!\",\n",
        "    metadata={\"source\": \"tweet\"},\n",
        ")\n",
        "\n",
        "document_4 = Document(\n",
        "    page_content=\"Robbers broke into the city bank and stole $1 million in cash.\",\n",
        "    metadata={\"source\": \"news\"},\n",
        ")\n",
        "\n",
        "document_5 = Document(\n",
        "    page_content=\"Wow! That was an amazing movie. I can't wait to see it again.\",\n",
        "    metadata={\"source\": \"tweet\"},\n",
        ")\n",
        "\n",
        "document_6 = Document(\n",
        "    page_content=\"Is the new iPhone worth the price? Read this review to find out.\",\n",
        "    metadata={\"source\": \"website\"},\n",
        ")\n",
        "\n",
        "document_7 = Document(\n",
        "    page_content=\"The top 10 soccer players in the world right now.\",\n",
        "    metadata={\"source\": \"website\"},\n",
        ")\n",
        "\n",
        "document_8 = Document(\n",
        "    page_content=\"LangGraph is the best framework for building stateful, agentic applications!\",\n",
        "    metadata={\"source\": \"tweet\"},\n",
        ")\n",
        "\n",
        "document_9 = Document(\n",
        "    page_content=\"The stock market is down 500 points today due to fears of a recession.\",\n",
        "    metadata={\"source\": \"news\"},\n",
        ")\n",
        "\n",
        "document_10 = Document(\n",
        "    page_content=\"I have a bad feeling I am going to get deleted :(\",\n",
        "    metadata={\"source\": \"tweet\"},\n",
        ")\n",
        "\n",
        "documents = [\n",
        "    document_1,\n",
        "    document_2,\n",
        "    document_3,\n",
        "    document_4,\n",
        "    document_5,\n",
        "    document_6,\n",
        "    document_7,\n",
        "    document_8,\n",
        "    document_9,\n",
        "    document_10,\n",
        "]\n",
        "uuids = [str(uuid4()) for _ in range(len(documents))]\n",
        "\n",
        "vector_store.add_documents(documents=documents, ids=uuids)"
      ]
    },
    {
      "cell_type": "markdown",
      "id": "639f29da",
      "metadata": {},
      "source": [
        "### 从向量数据库中删除条�?
      ]
    },
    {
      "cell_type": "code",
      "execution_count": 58,
      "id": "bbb5fd5c",
      "metadata": {},
      "outputs": [
        {
          "data": {
            "text/plain": [
              "True"
            ]
          },
          "execution_count": 58,
          "metadata": {},
          "output_type": "execute_result"
        }
      ],
      "source": [
        "vector_store.delete(ids=[uuids[-1]])"
      ]
    },
    {
      "cell_type": "markdown",
      "id": "d6111eb6",
      "metadata": {},
      "source": [
        "## 查询向量库\n\n创建好向量库并添加了相关文档后，您最有可能希望在链或代理运行时对其进行查询。\n\n### 直接查询\n\n#### 相似性搜索\n\n可以按以下方式执行简单的相似性搜索："
      ]
    },
    {
      "cell_type": "code",
      "execution_count": 62,
      "id": "19b60ac0",
      "metadata": {},
      "outputs": [
        {
          "name": "stdout",
          "output_type": "stream",
          "text": [
            "* Building an exciting new project with LangChain - come check it out! [{'_id': 'e7d95150-67f6-499f-b611-84367c50fa60', 'source': 'tweet'}]\n",
            "* LangGraph is the best framework for building stateful, agentic applications! [{'_id': '7614bb54-4eb5-4b3b-990c-00e35cb31f99', 'source': 'tweet'}]\n"
          ]
        }
      ],
      "source": [
        "results = vector_store.similarity_search(\n",
        "    \"LangChain provides abstractions to make working with LLMs easy\", k=2\n",
        ")\n",
        "for res in results:\n",
        "    print(f\"* {res.page_content} [{res.metadata}]\")"
      ]
    },
    {
      "cell_type": "markdown",
      "id": "6c624606",
      "metadata": {},
      "source": [
        "#### 按分数进行相似性搜索\n\n您也可以按分数进行搜索："
      ]
    },
    {
      "cell_type": "code",
      "execution_count": 63,
      "id": "e919fa51",
      "metadata": {},
      "outputs": [
        {
          "name": "stdout",
          "output_type": "stream",
          "text": [
            "* [SIM=0.784560] The weather forecast for tomorrow is cloudy and overcast, with a high of 62 degrees. [{'_id': '8396a68d-f4a3-4176-a581-a1a8c303eea4', 'source': 'news'}]\n"
          ]
        }
      ],
      "source": [
        "results = vector_store.similarity_search_with_score(\"Will it be hot tomorrow?\", k=1)\n",
        "for res, score in results:\n",
        "    print(f\"* [SIM={score:3f}] {res.page_content} [{res.metadata}]\")"
      ]
    },
    {
      "cell_type": "markdown",
      "id": "513a1416",
      "metadata": {},
      "source": [
        "### 使用相似性搜索进行预过滤"
      ]
    },
    {
      "cell_type": "markdown",
      "id": "ac58c6c7",
      "metadata": {},
      "source": [
        "Atlas Vector Search 支持使用 MQL Operators 进行预过滤。下面是一个索引和查询的示例，针对上面加载的相同数据，允许您对“page”字段进行元数据过滤。您可以更新现有索引，定义过滤器，并使用向量搜索进行预过滤�?
      ]
    },
    {
      "cell_type": "markdown",
      "id": "dacac7b8",
      "metadata": {},
      "source": [
        "要启用预过滤，您需要更新索引定义以包含一个过滤器字段。在此示例中，我们将使用 `source` 字段作为过滤器字段。\n\n这可以通过编程方式使用 `MongoDBAtlasVectorSearch.create_vector_search_index` 方法完成。\n\n```python\nvectorstore.create_vector_search_index(\n  dimensions=1536,\n  filters=[{\"type\":\"filter\", \"path\":\"source\"}],\n  update=True\n)\n```\n\n或者，您也可以使用 Atlas UI 和以下索引定义来更新索引：\n```json\n{\n  \"fields\":[\n    {\n      \"type\": \"vector\",\n      \"path\": \"embedding\",\n      \"numDimensions\": 1536,\n      \"similarity\": \"cosine\"\n    },\n    {\n      \"type\": \"filter\",\n      \"path\": \"source\"\n    }\n  ]\n}\n```\n\n然后，您可以运行如下的带过滤器的查询：\n\n```python\nresults = vector_store.similarity_search(query=\"foo\", k=1, pre_filter={\"source\": {\"$eq\": \"https://example.com\"}})\nfor doc in results:\n    print(f\"* {doc.page_content} [{doc.metadata}]\")\n```"
      ]
    },
    {
      "cell_type": "markdown",
      "id": "32b13a9b",
      "metadata": {},
      "source": [
        "#### 其他搜索方法\n\n此笔记本未涵盖各种其他搜索方法，例如 MMR 搜索或按向量搜索。有�?`MongoDBAtlasVectorStore` 可用的搜索功能的完整列表，请参阅[API 参考](https://python.langchain.com/api_reference/mongodb/vectorstores/langchain_mongodb.vectorstores.MongoDBAtlasVectorSearch.html)�?
      ]
    },
    {
      "cell_type": "markdown",
      "id": "01316a42",
      "metadata": {},
      "source": [
        "### 按需要检索转化的向量存储\n\n你也可以将向量存储转化为检索器，从而在你的链式应用中更方便地使用。\n\n以下是如何将你的向量存储转化为检索器，然后使用一个简单的查询和过滤器来调用检索器的示例�?
      ]
    },
    {
      "cell_type": "code",
      "execution_count": 65,
      "id": "8f246301",
      "metadata": {},
      "outputs": [
        {
          "data": {
            "text/plain": [
              "[Document(metadata={'_id': '8c31b84e-2636-48b6-8b99-9fccb47f7051', 'source': 'news'}, page_content='Robbers broke into the city bank and stole $1 million in cash.')]"
            ]
          },
          "execution_count": 65,
          "metadata": {},
          "output_type": "execute_result"
        }
      ],
      "source": [
        "retriever = vector_store.as_retriever(\n",
        "    search_type=\"similarity_score_threshold\",\n",
        "    search_kwargs={\"k\": 1, \"score_threshold\": 0.2},\n",
        ")\n",
        "retriever.invoke(\"Stealing from the bank is a crime\")"
      ]
    },
    {
      "cell_type": "markdown",
      "id": "72312657",
      "metadata": {},
      "source": [
        "## 用于检索增强生�?(Retrieval-Augmented Generation) 的用法\n\n有关如何将此向量存储用于检索增强生�?(RAG) 的指南，请参阅以下部分：\n\n- [教程](/docs/tutorials/)\n- [操作指南：使�?RAG 进行问答](https://python.langchain.com/docs/how_to/#qa-with-rag)\n- [检索概念文档](https://python.langchain.com/docs/concepts/retrieval)"
      ]
    },
    {
      "cell_type": "markdown",
      "id": "0ac44802",
      "metadata": {},
      "source": [
        "# 其他说明\n>* 更多文档可在 [MongoDB �?LangChain 文档](https://www.mongodb.com/docs/atlas/atlas-vector-search/ai-integrations/langchain/) 站点找到\n>* 此功能已全面可用，可用于生产部署。\n>* langchain 版本 0.0.305（[发布说明](https://github.com/langchain-ai/langchain/releases/tag/v0.0.305)）引入了�?$vectorSearch MQL 阶段的支持，该阶段在 MongoDB Atlas 6.0.11 �?7.0.2 中可用。使用早期版�?MongoDB Atlas 的用户需要将 LangChain 版本固定�?<=0.0.304\n>"
      ]
    },
    {
      "cell_type": "markdown",
      "id": "186ef502",
      "metadata": {},
      "source": [
        "## API 参考\n\n如需了解 `MongoDBAtlasVectorSearch` 所有功能和配置的详细文档，请访�?API 参考：https://python.langchain.com/api_reference/mongodb/index.html"
      ]
    }
  ],
  "metadata": {
    "kernelspec": {
      "display_name": "Python 3 (ipykernel)",
      "language": "python",
      "name": "python3"
    },
    "language_info": {
      "codemirror_mode": {
        "name": "ipython",
        "version": 3
      },
      "file_extension": ".py",
      "mimetype": "text/x-python",
      "name": "python",
      "nbconvert_exporter": "python",
      "pygments_lexer": "ipython3",
      "version": "3.11.9"
    }
  },
  "nbformat": 4,
  "nbformat_minor": 5
}
