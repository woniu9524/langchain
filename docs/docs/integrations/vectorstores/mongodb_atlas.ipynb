{
 "cells": [
  {
   "cell_type": "markdown",
   "id": "683953b3",
   "metadata": {},
   "source": [
    "# MongoDB Atlas\n",
    "\n",
    "本Jupyter Notebook介绍了如何在LangChain中使用`langchain-mongodb`包进行MongoDB Atlas向量搜索。\n",
    "\n",
    "[MongoDB Atlas](https://www.mongodb.com/docs/atlas/)是一个完全托管的云数据库，可在AWS、Azure和GCP上使用。它支持对MongoDB文档数据进行原生向量搜索、全文搜索（BM25）和混合搜索。\n",
    "\n",
    "[MongoDB Atlas向量搜索](https://www.mongodb.com/products/platform/atlas-vector-search)允许您将嵌入存储在MongoDB文档中，创建向量搜索索引，并使用近似最近邻算法（`分层可导航小世界`）执行KNN搜索。它使用[$vectorSearch MQL阶段](https://www.mongodb.com/docs/atlas/atlas-vector-search/vector-search-overview/)"
   ]
  },
  {
   "cell_type": "markdown",
   "id": "359b8e9b",
   "metadata": {},
   "source": [
    "## 设置\n",
    "\n",
    "运行MongoDB 6.0.11、7.0.2或更高版本（包括RCs）的Atlas集群。\n",
    "\n",
    "要使用MongoDB Atlas，您必须首先部署一个集群。我们提供一个免费层级的集群，您可以在选择的云上使用。要开始使用，请访问Atlas的[快速入门](https://www.mongodb.com/docs/atlas/getting-started/)。\n",
    "\n",
    "您需要安装`langchain-mongodb`和`pymongo`才能使用此集成。"
   ]
  },
  {
   "cell_type": "code",
   "execution_count": null,
   "id": "73cf7c9f",
   "metadata": {},
   "outputs": [],
   "source": [
    "pip install -qU langchain-mongodb pymongo"
   ]
  },
  {
   "cell_type": "markdown",
   "id": "a61832ea",
   "metadata": {},
   "source": [
    "### 凭据\n",
    "\n",
    "对于本Notebook，您需要找到您的MongoDB集群URI。\n",
    "\n",
    "有关查找集群URI的信息，请阅读[此指南](https://www.mongodb.com/docs/manual/reference/connection-string/)"
   ]
  },
  {
   "cell_type": "code",
   "execution_count": 33,
   "id": "7ef41b37",
   "metadata": {},
   "outputs": [],
   "source": [
    "import getpass\n",
    "\n",
    "MONGODB_ATLAS_CLUSTER_URI = getpass.getpass(\"MongoDB Atlas 集群 URI:\")"
   ]
  },
  {
   "cell_type": "markdown",
   "id": "1f23de23",
   "metadata": {},
   "source": [
    "如果您想获得一流的模型调用自动化追踪，您还可以通过取消注释以下内容来设置您的[LangSmith](https://docs.smith.langchain.com/) API密钥："
   ]
  },
  {
   "cell_type": "code",
   "execution_count": null,
   "id": "908e7772",
   "metadata": {},
   "outputs": [],
   "source": [
    "# os.environ[\"LANGSMITH_API_KEY\"] = getpass.getpass(\"请输入您的LangSmith API密钥：\")\n",
    "# os.environ[\"LANGSMITH_TRACING\"] = \"true\""
   ]
  },
  {
   "cell_type": "markdown",
   "id": "a53673ae",
   "metadata": {},
   "source": [
    "## 初始化\n",
    "```\n",
    "import EmbeddingTabs from \"@theme/EmbeddingTabs\";\n",
    "\n",
    "<EmbeddingTabs/>\n",
    "```"
   ]
  },
  {
   "cell_type": "code",
   "execution_count": 54,
   "id": "f5fed614",
   "metadata": {},
   "outputs": [],
   "source": [
    "# | output: false\n",
    "# | echo: false\n",
    "from langchain_openai import OpenAIEmbeddings\n",
    "\n",
    "embeddings = OpenAIEmbeddings()"
   ]
  },
  {
   "cell_type": "code",
   "execution_count": 56,
   "id": "00d78318",
   "metadata": {},
   "outputs": [],
   "source": [
    "from langchain_mongodb import MongoDBAtlasVectorSearch\n",
    "from pymongo import MongoClient\n",
    "\n",
    "# 初始化MongoDB Python客户端\n",
    "client = MongoClient(MONGODB_ATLAS_CLUSTER_URI)\n",
    "\n",
    "DB_NAME = \"langchain_test_db\"\n",
    "COLLECTION_NAME = \"langchain_test_vectorstores\"\n",
    "ATLAS_VECTOR_SEARCH_INDEX_NAME = \"langchain-test-index-vectorstores\"\n",
    "\n",
    "MONGODB_COLLECTION = client[DB_NAME][COLLECTION_NAME]\n",
    "\n",
    "vector_store = MongoDBAtlasVectorSearch(\n",
    "    collection=MONGODB_COLLECTION,\n",
    "    embedding=embeddings,\n",
    "    index_name=ATLAS_VECTOR_SEARCH_INDEX_NAME,\n",
    "    relevance_score_fn=\"cosine\",\n",
    ")\n",
    "\n",
    "# 在集合上创建向量搜索索引\n",
    "# 由于我们使用的是默认的OpenAI嵌入模型（ada-v2），因此需要将维度指定为1536\n",
    "vector_store.create_vector_search_index(dimensions=1536)"
   ]
  },
  {
   "cell_type": "markdown",
   "id": "aec0bb58",
   "metadata": {},
   "source": [
    "[可选] 除了上述`vector_store.create_vector_search_index`命令之外，您还可以使用Atlas UI并采用以下索引定义来创建向量搜索索引：\n",
    "```json\n",
    "{\n",
    "  \"fields\":[\n",
    "    {\n",
    "      \"type\": \"vector\",\n",
    "      \"path\": \"embedding\",\n",
    "      \"numDimensions\": 1536,\n",
    "      \"similarity\": \"cosine\"\n",
    "    }\n",
    "  ]\n",
    "}\n",
    "```"
   ]
  },
  {
   "cell_type": "markdown",
   "id": "42873e5a",
   "metadata": {},
   "source": [
    "## 管理向量存储\n",
    "\n",
    "创建向量存储后，我们可以通过添加和删除不同的项目来与其交互。\n",
    "\n",
    "### 向向量存储添加项目\n",
    "\n",
    "我们可以使用`add_documents`函数向向量存储添加项目。"
   ]
  },
  {
   "cell_type": "code",
   "execution_count": 57,
   "id": "aac9563e",
   "metadata": {
    "tags": []
   },
   "outputs": [
    {
     "data": {
      "text/plain": [
       "['03ad81e8-32a0-46f0-b7d8-f5b977a6b52a',\n",
       " '8396a68d-f4a3-4176-a581-a1a8c303eea4',\n",
       " 'e7d95150-67f6-499f-b611-84367c50fa60',\n",
       " '8c31b84e-2636-48b6-8b99-9fccb47f7051',\n",
       " 'aa02e8a2-a811-446a-9785-8cea0faba7a9',\n",
       " '19bd72ff-9766-4c3b-b1fd-195c732c562b',\n",
       " '642d6f2f-3e34-4efa-a1ed-c4ba4ef0da8d',\n",
       " '7614bb54-4eb5-4b3b-990c-00e35cb31f99',\n",
       " '69e18c67-bf1b-43e5-8a6e-64fb3f240e52',\n",
       " '30d599a7-4a1a-47a9-bbf8-6ed393e2e33c']"
      ]
     },
     "execution_count": 57,
     "metadata": {},
     "output_type": "execute_result"
    }
   ],
   "source": [
    "from uuid import uuid4\n",
    "\n",
    "from langchain_core.documents import Document\n",
    "\n",
    "document_1 = Document(\n",
    "    page_content=\"我今天早上吃了巧克力片煎饼和炒鸡蛋。\",\n",
    "    metadata={\"source\": \"推文\"},\n",
    ")\n",
    "\n",
    "document_2 = Document(\n",
    "    page_content=\"明天的天气预报是多云转阴，最高气温62华氏度。\",\n",
    "    metadata={\"source\": \"新闻\"},\n",
    ")\n",
    "\n",
    "document_3 = Document(\n",
    "    page_content=\"正在用LangChain构建一个令人兴奋的新项目——快来看看吧！\",\n",
    "    metadata={\"source\": \"推文\"},\n",
    ")\n",
    "\n",
    "document_4 = Document(\n",
    "    page_content=\"劫匪闯入市银行，偷走了100万美元现金。\",\n",
    "    metadata={\"source\": \"新闻\"},\n",
    ")\n",
    "\n",
    "document_5 = Document(\n",
    "    page_content=\"哇！那部电影太棒了。我等不及要再看一遍。\",\n",
    "    metadata={\"source\": \"推文\"},\n",
    ")\n",
    "\n",
    "document_6 = Document(\n",
    "    page_content=\"新款iPhone值得这个价格吗？阅读这篇评论来了解一下。\",\n",
    "    metadata={\"source\": \"网站\"},\n",
    ")\n",
    "\n",
    "document_7 = Document(\n",
    "    page_content=\"目前世界上排名前10的足球运动员。\",\n",
    "    metadata={\"source\": \"网站\"},\n",
    ")\n",
    "\n",
    "document_8 = Document(\n",
    "    page_content=\"LangGraph是构建有状态、代理式应用程序的最佳框架！\",\n",
    "    metadata={\"source\": \"推文\"},\n",
    ")\n",
    "\n",
    "document_9 = Document(\n",
    "    page_content=\"由于对经济衰退的担忧，今天股市下跌了500点。\",\n",
    "    metadata={\"source\": \"新闻\"},\n",
    ")\n",
    "\n",
    "document_10 = Document(\n",
    "    page_content=\"我有一种不好的预感，我会被删除 :(\",\n",
    "    metadata={\"source\": \"推文\"},\n",
    ")\n",
    "\n",
    "documents = [\n",
    "    document_1,\n",
    "    document_2,\n",
    "    document_3,\n",
    "    document_4,\n",
    "    document_5,\n",
    "    document_6,\n",
    "    document_7,\n",
    "    document_8,\n",
    "    document_9,\n",
    "    document_10,\n",
    "]\n",
    "uuids = [str(uuid4()) for _ in range(len(documents))]\n",
    "\n",
    "vector_store.add_documents(documents=documents, ids=uuids)"
   ]
  },
  {
   "cell_type": "markdown",
   "id": "639f29da",
   "metadata": {},
   "source": [
    "### 从向量存储中删除项目\n"
   ]
  },
  {
   "cell_type": "code",
   "execution_count": 58,
   "id": "bbb5fd5c",
   "metadata": {},
   "outputs": [
    {
     "data": {
      "text/plain": [
       "True"
      ]
     },
     "execution_count": 58,
     "metadata": {},
     "output_type": "execute_result"
    }
   ],
   "source": [
    "vector_store.delete(ids=[uuids[-1]])"
   ]
  },
  {
   "cell_type": "markdown",
   "id": "d6111eb6",
   "metadata": {},
   "source": [
    "## 查询向量存储\n",
    "\n",
    "一旦您的向量存储创建并添加了相关文档，您很可能希望在运行您的链或代理时对其进行查询。 \n",
    "\n",
    "### 直接查询\n",
    "\n",
    "#### 相似性搜索\n",
    "\n",
    "执行简单的相似性搜索可以按如下方式进行："
   ]
  },
  {
   "cell_type": "code",
   "execution_count": 62,
   "id": "19b60ac0",
   "metadata": {},
   "outputs": [
    {
     "name": "stdout",
     "output_type": "stream",
     "text": [
      "* 正在用LangChain构建一个令人兴奋的新项目——快来看看吧！ [{'_id': 'e7d95150-67f6-499f-b611-84367c50fa60', 'source': '推文'}]\n",
      "* LangGraph是构建有状态、代理式应用程序的最佳框架！ [{'_id': '7614bb54-4eb5-4b3b-990c-00e35cb31f99', 'source': '推文'}]\n"
     ]
    }
   ],
   "source": [
    "results = vector_store.similarity_search(\"LangChain提供了抽象层，使LLM的使用变得容易\", k=2)\n",
    "for res in results:\n",
    "    print(f\"* {res.page_content} [{res.metadata}]\")"
   ]
  },
  {
   "cell_type": "markdown",
   "id": "6c624606",
   "metadata": {},
   "source": [
    "#### 带分数的相似性搜索\n",
    "\n",
    "您还可以带分数进行搜索："
   ]
  },
  {
   "cell_type": "code",
   "execution_count": 63,
   "id": "e919fa51",
   "metadata": {},
   "outputs": [
    {
     "name": "stdout",
     "output_type": "stream",
     "text": [
      "* [SIM=0.784560] 明天的天气预报是多云转阴，最高气温62华氏度。 [{'_id': '8396a68d-f4a3-4176-a581-a1a8c303eea4', 'source': '新闻'}]\n"
     ]
    }
   ],
   "source": [
    "results = vector_store.similarity_search_with_score(\"明天会很热吗？\", k=1)\n",
    "for res, score in results:\n",
    "    print(f\"* [SIM={score:3f}] {res.page_content} [{res.metadata}]\")"
   ]
  },
  {
   "cell_type": "markdown",
   "id": "513a1416",
   "metadata": {},
   "source": [
    "### 带有预过滤的相似性搜索"
   ]
  },
  {
   "cell_type": "markdown",
   "id": "ac58c6c7",
   "metadata": {},
   "source": [
    "Atlas向量搜索支持使用MQL运算符进行预过滤。下面是一个在上述相同加载数据上进行索引和查询的示例，允许您对“page”字段进行元数据过滤。您可以更新现有索引以包含定义的过滤器，并使用向量搜索进行预过滤。"
   ]
  },
  {
   "cell_type": "markdown",
   "id": "dacac7b8",
   "metadata": {},
   "source": [
    "\n",
    "\n",
    "要启用预过滤，您需要更新索引定义以包含一个过滤器字段。在此示例中，我们将使用`source`字段作为过滤器字段。\n",
    "\n",
    "这可以通过编程方式使用`MongoDBAtlasVectorSearch.create_vector_search_index`方法完成。\n",
    "\n",
    "```python\n",
    "vectorstore.create_vector_search_index(\n",
    "  dimensions=1536,\n",
    "  filters=[{\"type\":\"filter\", \"path\":\"source\"}],\n",
    "  update=True\n",
    ")\n",
    "```\n",
    "\n",
    "或者，您也可以使用Atlas UI并通过以下索引定义来更新索引：\n",
    "```json\n",
    "{\n",
    "  \"fields\":[\n",
    "    {\n",
    "      \"type\": \"vector\",\n",
    "      \"path\": \"embedding\",\n",
    "      \"numDimensions\": 1536,\n",
    "      \"similarity\": \"cosine\"\n",
    "    },\n",
    "    {\n",
    "      \"type\": \"filter\",\n",
    "      \"path\": \"source\"\n",
    "    }\n",
    "  ]\n",
    "}\n",
    "```\n",
    "\n",
    "然后您可以按如下方式运行带过滤器的查询：\n",
    "\n",
    "```python\n",
    "results = vector_store.similarity_search(query=\"foo\", k=1, pre_filter={\"source\": {\"$eq\": \"https://example.com\"}})\n",
    "for doc in results:\n",
    "    print(f\"* {doc.page_content} [{doc.metadata}]\")\n",
    "```"
   ]
  },
  {
   "cell_type": "markdown",
   "id": "32b13a9b",
   "metadata": {},
   "source": [
    "#### 其他搜索方法\n",
    "\n",
    "本Notebook中未涵盖多种其他搜索方法，例如MMR搜索或按向量搜索。有关`MongoDBAtlasVectorStore`可用搜索功能的完整列表，请查看[API参考](https://python.langchain.com/api_reference/mongodb/vectorstores/langchain_mongodb.vectorstores.MongoDBAtlasVectorSearch.html)。"
   ]
  },
  {
   "cell_type": "markdown",
   "id": "01316a42",
   "metadata": {},
   "source": [
    "### 通过转换为检索器进行查询\n",
    "\n",
    "您还可以将向量存储转换为检索器，以便在您的链中更方便地使用。 \n",
    "\n",
    "以下是如何将向量存储转换为检索器，然后使用简单的查询和过滤器调用该检索器。"
   ]
  },
  {
   "cell_type": "code",
   "execution_count": 65,
   "id": "8f246301",
   "metadata": {},
   "outputs": [
    {
     "data": {
      "text/plain": [
       "[Document(metadata={'_id': '8c31b84e-2636-48b6-8b99-9fccb47f7051', 'source': '新闻'}, page_content='劫匪闯入市银行，偷走了100万美元现金。')]"
      ]
     },
     "execution_count": 65,
     "metadata": {},
     "output_type": "execute_result"
    }
   ],
   "source": [
    "retriever = vector_store.as_retriever(\n",
    "    search_type=\"similarity_score_threshold\",\n",
    "    search_kwargs={\"k\": 1, \"score_threshold\": 0.2},\n",
    ")\n",
    "retriever.invoke(\"从银行偷窃是犯罪行为\")"
   ]
  },
  {
   "cell_type": "markdown",
   "id": "72312657",
   "metadata": {},
   "source": [
    "## 用于检索增强生成（RAG）的用法\n",
    "\n",
    "有关如何将此向量存储用于检索增强生成（RAG）的指南，请参阅以下部分：\n",
    "\n",
    "- [教程](/docs/tutorials/)\n",
    "- [操作指南：使用RAG进行问答](https://python.langchain.com/docs/how_to/#qa-with-rag)\n",
    "- [检索概念文档](https://python.langchain.com/docs/concepts/retrieval)"
   ]
  },
  {
   "cell_type": "markdown",
   "id": "0ac44802",
   "metadata": {},
   "source": [
    "# 其他注意事项\n",
    "* 更多文档可在[MongoDB的LangChain文档](https://www.mongodb.com/docs/atlas/atlas-vector-search/ai-integrations/langchain/)网站上找到\n",
    "* 此功能已普遍可用，可用于生产部署。\n",
    "* Langchain `0.0.305`版本（[发行说明](https://github.com/langchain-ai/langchain/releases/tag/v0.0.305)）引入了对$vectorSearch MQL阶段的支持，该阶段适用于MongoDB Atlas `6.0.11`和`7.0.2`。使用早期MongoDB Atlas版本的用户需要将其LangChain版本固定到<=`0.0.304`。\n",
    "> "
   ]
  },
  {
   "cell_type": "markdown",
   "id": "186ef502",
   "metadata": {},
   "source": [
    "## API参考\n",
    "\n",
    "有关所有`MongoDBAtlasVectorSearch`功能和配置的详细文档，请前往API参考：https://python.langchain.com/api_reference/mongodb/index.html"
   ]
  }
 ],
 "metadata": {
  "kernelspec": {
   "display_name": "Python 3 (ipykernel)",
   "language": "python",
   "name": "python3"
  },
  "language_info": {
   "codemirror_mode": {
    "name": "ipython",
    "version": 3
   },
   "file_extension": ".py",
   "mimetype": "text/x-python",
   "name": "python",
   "nbconvert_exporter": "python",
   "pygments_lexer": "ipython3",
   "version": "3.11.9"
  }
 },
 "nbformat": 4,
 "nbformat_minor": 5
}
