{
  "cells": [
    {
      "cell_type": "markdown",
      "metadata": {},
      "source": [
        "# TiDB Vector\n\n> [TiDB Cloud](https://www.pingcap.com/tidb-serverless) 是一个全面的数据库即服务（DBaaS）解决方案，提供专用和无服务器选项。TiDB Serverless 现已将内置向量搜索集成到 MySQL 生态系统中。通过此增强功能，您可以在使用 TiDB Serverless 开发 AI 应用时无缝进行，无需新的数据库或额外的技术栈。创建一个免费的 TiDB Serverless 集群，并通过 https://pingcap.com/ai 开始使用向量搜索功能。\n\n本 Notebook 提供了使用 TiDB Vector 功能的详细指南，展示了其特性和实际应用。"
      ]
    },
    {
      "cell_type": "markdown",
      "metadata": {},
      "source": [
        "## 设置环境"
      ]
    },
    {
      "cell_type": "markdown",
      "metadata": {},
      "source": [
        "首先，安装所需的包。"
      ]
    },
    {
      "cell_type": "code",
      "execution_count": null,
      "metadata": {},
      "outputs": [],
      "source": [
        "%pip install langchain langchain-community\n",
        "%pip install langchain-openai\n",
        "%pip install pymysql\n",
        "%pip install tidb-vector"
      ]
    },
    {
      "cell_type": "markdown",
      "metadata": {},
      "source": [
        "配置您将需要的 OpenAI 和 TiDB 主机设置。在此 notebook 中，我们将遵循 TiDB Cloud 提供的标准连接方法，以建立安全高效的数据库连接。"
      ]
    },
    {
      "cell_type": "code",
      "execution_count": 2,
      "metadata": {},
      "outputs": [],
      "source": [
        "# Here we useimport getpass\n",
        "import getpass\n",
        "import os\n",
        "\n",
        "if \"OPENAI_API_KEY\" not in os.environ:\n",
        "    os.environ[\"OPENAI_API_KEY\"] = getpass.getpass(\"OpenAI API Key:\")\n",
        "# copy from tidb cloud console\n",
        "tidb_connection_string_template = \"mysql+pymysql://<USER>:<PASSWORD>@<HOST>:4000/<DB>?ssl_ca=/etc/ssl/cert.pem&ssl_verify_cert=true&ssl_verify_identity=true\"\n",
        "# tidb_connection_string_template = \"mysql+pymysql://root:<PASSWORD>@34.212.137.91:4000/test\"\n",
        "tidb_password = getpass.getpass(\"Input your TiDB password:\")\n",
        "tidb_connection_string = tidb_connection_string_template.replace(\n",
        "    \"<PASSWORD>\", tidb_password\n",
        ")"
      ]
    },
    {
      "cell_type": "markdown",
      "metadata": {},
      "source": [
        "准备以下数据"
      ]
    },
    {
      "cell_type": "code",
      "execution_count": 3,
      "metadata": {},
      "outputs": [],
      "source": [
        "from langchain_community.document_loaders import TextLoader\n",
        "from langchain_community.vectorstores import TiDBVectorStore\n",
        "from langchain_openai import OpenAIEmbeddings\n",
        "from langchain_text_splitters import CharacterTextSplitter"
      ]
    },
    {
      "cell_type": "code",
      "execution_count": 4,
      "metadata": {},
      "outputs": [],
      "source": [
        "loader = TextLoader(\"../../how_to/state_of_the_union.txt\")\n",
        "documents = loader.load()\n",
        "text_splitter = CharacterTextSplitter(chunk_size=1000, chunk_overlap=0)\n",
        "docs = text_splitter.split_documents(documents)\n",
        "\n",
        "embeddings = OpenAIEmbeddings()"
      ]
    },
    {
      "cell_type": "markdown",
      "metadata": {},
      "source": [
        "## 语义相似性搜索\n\nTiDB 支持余弦距离和欧氏距离（'cosine'，'l2'），其中 'cosine' 是默认选项。\n\n下面的代码片段在 TiDB 中创建了一个名为 `TABLE_NAME` 的表，该表针对向量搜索进行了优化。成功执行此代码后，您将能够直接在 TiDB 数据库中查看和访问 `TABLE_NAME` 表。"
      ]
    },
    {
      "cell_type": "code",
      "execution_count": 5,
      "metadata": {},
      "outputs": [],
      "source": [
        "TABLE_NAME = \"semantic_embeddings\"\n",
        "db = TiDBVectorStore.from_documents(\n",
        "    documents=docs,\n",
        "    embedding=embeddings,\n",
        "    table_name=TABLE_NAME,\n",
        "    connection_string=tidb_connection_string,\n",
        "    distance_strategy=\"cosine\",  # default, another option is \"l2\"\n",
        ")"
      ]
    },
    {
      "cell_type": "code",
      "execution_count": 6,
      "metadata": {},
      "outputs": [],
      "source": [
        "query = \"What did the president say about Ketanji Brown Jackson\"\n",
        "docs_with_score = db.similarity_search_with_score(query, k=3)"
      ]
    },
    {
      "cell_type": "markdown",
      "metadata": {},
      "source": [
        "请注意，较低的余弦距离表示较高的相似度。"
      ]
    },
    {
      "cell_type": "code",
      "execution_count": 7,
      "metadata": {},
      "outputs": [
        {
          "name": "stdout",
          "output_type": "stream",
          "text": [
            "--------------------------------------------------------------------------------\n",
            "Score:  0.18459301498220004\n",
            "Tonight. I call on the Senate to: Pass the Freedom to Vote Act. Pass the John Lewis Voting Rights Act. And while you’re at it, pass the Disclose Act so Americans can know who is funding our elections. \n",
            "\n",
            "Tonight, I’d like to honor someone who has dedicated his life to serve this country: Justice Stephen Breyer—an Army veteran, Constitutional scholar, and retiring Justice of the United States Supreme Court. Justice Breyer, thank you for your service. \n",
            "\n",
            "One of the most serious constitutional responsibilities a President has is nominating someone to serve on the United States Supreme Court. \n",
            "\n",
            "And I did that 4 days ago, when I nominated Circuit Court of Appeals Judge Ketanji Brown Jackson. One of our nation’s top legal minds, who will continue Justice Breyer’s legacy of excellence.\n",
            "--------------------------------------------------------------------------------\n",
            "--------------------------------------------------------------------------------\n",
            "Score:  0.2172729943284636\n",
            "A former top litigator in private practice. A former federal public defender. And from a family of public school educators and police officers. A consensus builder. Since she’s been nominated, she’s received a broad range of support—from the Fraternal Order of Police to former judges appointed by Democrats and Republicans. \n",
            "\n",
            "And if we are to advance liberty and justice, we need to secure the Border and fix the immigration system. \n",
            "\n",
            "We can do both. At our border, we’ve installed new technology like cutting-edge scanners to better detect drug smuggling.  \n",
            "\n",
            "We’ve set up joint patrols with Mexico and Guatemala to catch more human traffickers.  \n",
            "\n",
            "We’re putting in place dedicated immigration judges so families fleeing persecution and violence can have their cases heard faster. \n",
            "\n",
            "We’re securing commitments and supporting partners in South and Central America to host more refugees and secure their own borders.\n",
            "--------------------------------------------------------------------------------\n",
            "--------------------------------------------------------------------------------\n",
            "Score:  0.2262166799003692\n",
            "And for our LGBTQ+ Americans, let’s finally get the bipartisan Equality Act to my desk. The onslaught of state laws targeting transgender Americans and their families is wrong. \n",
            "\n",
            "As I said last year, especially to our younger transgender Americans, I will always have your back as your President, so you can be yourself and reach your God-given potential. \n",
            "\n",
            "While it often appears that we never agree, that isn’t true. I signed 80 bipartisan bills into law last year. From preventing government shutdowns to protecting Asian-Americans from still-too-common hate crimes to reforming military justice. \n",
            "\n",
            "And soon, we’ll strengthen the Violence Against Women Act that I first wrote three decades ago. It is important for us to show the nation that we can come together and do big things. \n",
            "\n",
            "So tonight I’m offering a Unity Agenda for the Nation. Four big things we can do together.  \n",
            "\n",
            "First, beat the opioid epidemic.\n",
            "--------------------------------------------------------------------------------\n"
          ]
        }
      ],
      "source": [
        "for doc, score in docs_with_score:\n",
        "    print(\"-\" * 80)\n",
        "    print(\"Score: \", score)\n",
        "    print(doc.page_content)\n",
        "    print(\"-\" * 80)"
      ]
    },
    {
      "cell_type": "markdown",
      "metadata": {},
      "source": [
        "此外，还可以使用 `similarity_search_with_relevance_scores` 方法来获取相关性得分，其中得分越高表示相似度越高。"
      ]
    },
    {
      "cell_type": "code",
      "execution_count": 8,
      "metadata": {},
      "outputs": [
        {
          "name": "stdout",
          "output_type": "stream",
          "text": [
            "--------------------------------------------------------------------------------\n",
            "Score:  0.8154069850178\n",
            "Tonight. I call on the Senate to: Pass the Freedom to Vote Act. Pass the John Lewis Voting Rights Act. And while you’re at it, pass the Disclose Act so Americans can know who is funding our elections. \n",
            "\n",
            "Tonight, I’d like to honor someone who has dedicated his life to serve this country: Justice Stephen Breyer—an Army veteran, Constitutional scholar, and retiring Justice of the United States Supreme Court. Justice Breyer, thank you for your service. \n",
            "\n",
            "One of the most serious constitutional responsibilities a President has is nominating someone to serve on the United States Supreme Court. \n",
            "\n",
            "And I did that 4 days ago, when I nominated Circuit Court of Appeals Judge Ketanji Brown Jackson. One of our nation’s top legal minds, who will continue Justice Breyer’s legacy of excellence.\n",
            "--------------------------------------------------------------------------------\n",
            "--------------------------------------------------------------------------------\n",
            "Score:  0.7827270056715364\n",
            "A former top litigator in private practice. A former federal public defender. And from a family of public school educators and police officers. A consensus builder. Since she’s been nominated, she’s received a broad range of support—from the Fraternal Order of Police to former judges appointed by Democrats and Republicans. \n",
            "\n",
            "And if we are to advance liberty and justice, we need to secure the Border and fix the immigration system. \n",
            "\n",
            "We can do both. At our border, we’ve installed new technology like cutting-edge scanners to better detect drug smuggling.  \n",
            "\n",
            "We’ve set up joint patrols with Mexico and Guatemala to catch more human traffickers.  \n",
            "\n",
            "We’re putting in place dedicated immigration judges so families fleeing persecution and violence can have their cases heard faster. \n",
            "\n",
            "We’re securing commitments and supporting partners in South and Central America to host more refugees and secure their own borders.\n",
            "--------------------------------------------------------------------------------\n"
          ]
        }
      ],
      "source": [
        "docs_with_relevance_score = db.similarity_search_with_relevance_scores(query, k=2)\n",
        "for doc, score in docs_with_relevance_score:\n",
        "    print(\"-\" * 80)\n",
        "    print(\"Score: \", score)\n",
        "    print(doc.page_content)\n",
        "    print(\"-\" * 80)"
      ]
    },
    {
      "cell_type": "markdown",
      "metadata": {},
      "source": [
        "# 使用元数据进行筛选\n\n执行使用元数据筛选器的搜索，以检索与已应用筛选器匹配的特定数量的 nearest-neighbor 结果。\n\n## 支持的元数据类型\n\nTiDB Vector Store 中的每个向量都可以与元数据配对，元数据结构化为 JSON 对象中的键值对。键是字符串，值可以是以下类型：\n\n- 字符串\n- 数字（整数或浮点数）\n- 布尔值（true，false）\n\n例如，考虑以下有效的元数据负载：\n\n```json\n{\n    \"page\": 12,\n    \"book_tile\": \"Siddhartha\"\n}\n```\n\n## 元数据筛选器语法\n\n可用的筛选器包括：\n\n- $or - 选择满足给定条件中任何一个的向量。\n- $and - 选择满足给定所有条件的向量。\n- $eq - 等于\n- $ne - 不等于\n- $gt - 大于\n- $gte - 大于或等于\n- $lt - 小于\n- $lte - 小于或等于\n- $in - 在数组中\n- $nin - 不在数组中\n\n假设有一个带有元数据的向量：\n```json\n{\n    \"page\": 12,\n    \"book_tile\": \"Siddhartha\"\n}\n```\n\n以下元数据筛选器将匹配该向量：\n\n```json\n{\"page\": 12}\n\n{\"page\":{\"$eq\": 12}}\n\n{\"page\":{\"$in\": [11, 12, 13]}}\n\n{\"page\":{\"$nin\": [13]}}\n\n{\"page\":{\"$lt\": 11}}\n\n{\n    \"$or\": [{\"page\": 11}, {\"page\": 12}],\n    \"$and\": [{\"page\": 12}, {\"page\": 13}],\n}\n```\n\n请注意，元数据筛选器中的每个键值对都被视为一个单独的筛选器子句，并且这些子句使用 AND 逻辑运算符组合。"
      ]
    },
    {
      "cell_type": "code",
      "execution_count": 9,
      "metadata": {},
      "outputs": [
        {
          "data": {
            "text/plain": [
              "[UUID('c782cb02-8eec-45be-a31f-fdb78914f0a7'),\n",
              " UUID('08dcd2ba-9f16-4f29-a9b7-18141f8edae3')]"
            ]
          },
          "execution_count": 9,
          "metadata": {},
          "output_type": "execute_result"
        }
      ],
      "source": [
        "db.add_texts(\n",
        "    texts=[\n",
        "        \"TiDB Vector offers advanced, high-speed vector processing capabilities, enhancing AI workflows with efficient data handling and analytics support.\",\n",
        "        \"TiDB Vector, starting as low as $10 per month for basic usage\",\n",
        "    ],\n",
        "    metadatas=[\n",
        "        {\"title\": \"TiDB Vector functionality\"},\n",
        "        {\"title\": \"TiDB Vector Pricing\"},\n",
        "    ],\n",
        ")"
      ]
    },
    {
      "cell_type": "code",
      "execution_count": 10,
      "metadata": {},
      "outputs": [
        {
          "name": "stdout",
          "output_type": "stream",
          "text": [
            "--------------------------------------------------------------------------------\n",
            "Score:  0.12761409169211535\n",
            "TiDB Vector offers advanced, high-speed vector processing capabilities, enhancing AI workflows with efficient data handling and analytics support.\n",
            "--------------------------------------------------------------------------------\n"
          ]
        }
      ],
      "source": [
        "docs_with_score = db.similarity_search_with_score(\n",
        "    \"Introduction to TiDB Vector\", filter={\"title\": \"TiDB Vector functionality\"}, k=4\n",
        ")\n",
        "for doc, score in docs_with_score:\n",
        "    print(\"-\" * 80)\n",
        "    print(\"Score: \", score)\n",
        "    print(doc.page_content)\n",
        "    print(\"-\" * 80)"
      ]
    },
    {
      "cell_type": "markdown",
      "metadata": {},
      "source": [
        "### 将其用作检索器\n\nRetraining a model is compute"
      ]
    },
    {
      "cell_type": "markdown",
      "metadata": {},
      "source": [
        "在 Langchain 中，检索器（retriever）是一个接口，用于根据非结构化查询检索文档，其功能比向量存储（vector store）更广泛。下面的代码演示了如何使用 TiDB Vector 作为检索器。"
      ]
    },
    {
      "cell_type": "code",
      "execution_count": 11,
      "metadata": {},
      "outputs": [
        {
          "name": "stdout",
          "output_type": "stream",
          "text": [
            "--------------------------------------------------------------------------------\n",
            "Tonight. I call on the Senate to: Pass the Freedom to Vote Act. Pass the John Lewis Voting Rights Act. And while you’re at it, pass the Disclose Act so Americans can know who is funding our elections. \n",
            "\n",
            "Tonight, I’d like to honor someone who has dedicated his life to serve this country: Justice Stephen Breyer—an Army veteran, Constitutional scholar, and retiring Justice of the United States Supreme Court. Justice Breyer, thank you for your service. \n",
            "\n",
            "One of the most serious constitutional responsibilities a President has is nominating someone to serve on the United States Supreme Court. \n",
            "\n",
            "And I did that 4 days ago, when I nominated Circuit Court of Appeals Judge Ketanji Brown Jackson. One of our nation’s top legal minds, who will continue Justice Breyer’s legacy of excellence.\n",
            "--------------------------------------------------------------------------------\n"
          ]
        }
      ],
      "source": [
        "retriever = db.as_retriever(\n",
        "    search_type=\"similarity_score_threshold\",\n",
        "    search_kwargs={\"k\": 3, \"score_threshold\": 0.8},\n",
        ")\n",
        "docs_retrieved = retriever.invoke(query)\n",
        "for doc in docs_retrieved:\n",
        "    print(\"-\" * 80)\n",
        "    print(doc.page_content)\n",
        "    print(\"-\" * 80)"
      ]
    },
    {
      "cell_type": "markdown",
      "metadata": {},
      "source": [
        "## 高级用例场景\n\n让我们来看一个高级用例——一位旅行社正在为希望获得干净休息室和素食选择等特定设施的机场的客户定制旅行报告。该过程包括：\n- 在机场评论中进行语义搜索，提取满足这些设施的机场代码。\n- 随后的 SQL 查询将这些代码与航线信息连接起来，详细说明符合客户偏好的航空公司和目的地。\n\n首先，让我们准备一些与机场相关的数据"
      ]
    },
    {
      "cell_type": "code",
      "execution_count": 12,
      "metadata": {},
      "outputs": [
        {
          "data": {
            "text/plain": [
              "[UUID('6dab390f-acd9-4c7d-b252-616606fbc89b'),\n",
              " UUID('9e811801-0e6b-4893-8886-60f4fb67ce69'),\n",
              " UUID('f426747c-0f7b-4c62-97ed-3eeb7c8dd76e')]"
            ]
          },
          "execution_count": 12,
          "metadata": {},
          "output_type": "execute_result"
        }
      ],
      "source": [
        "# create table to store airplan data\n",
        "db.tidb_vector_client.execute(\n",
        "    \"\"\"CREATE TABLE airplan_routes (\n",
        "        id INT AUTO_INCREMENT PRIMARY KEY,\n",
        "        airport_code VARCHAR(10),\n",
        "        airline_code VARCHAR(10),\n",
        "        destination_code VARCHAR(10),\n",
        "        route_details TEXT,\n",
        "        duration TIME,\n",
        "        frequency INT,\n",
        "        airplane_type VARCHAR(50),\n",
        "        price DECIMAL(10, 2),\n",
        "        layover TEXT\n",
        "    );\"\"\"\n",
        ")\n",
        "\n",
        "# insert some data into Routes and our vector table\n",
        "db.tidb_vector_client.execute(\n",
        "    \"\"\"INSERT INTO airplan_routes (\n",
        "        airport_code,\n",
        "        airline_code,\n",
        "        destination_code,\n",
        "        route_details,\n",
        "        duration,\n",
        "        frequency,\n",
        "        airplane_type,\n",
        "        price,\n",
        "        layover\n",
        "    ) VALUES \n",
        "    ('JFK', 'DL', 'LAX', 'Non-stop from JFK to LAX.', '06:00:00', 5, 'Boeing 777', 299.99, 'None'),\n",
        "    ('LAX', 'AA', 'ORD', 'Direct LAX to ORD route.', '04:00:00', 3, 'Airbus A320', 149.99, 'None'),\n",
        "    ('EFGH', 'UA', 'SEA', 'Daily flights from SFO to SEA.', '02:30:00', 7, 'Boeing 737', 129.99, 'None');\n",
        "    \"\"\"\n",
        ")\n",
        "db.add_texts(\n",
        "    texts=[\n",
        "        \"Clean lounges and excellent vegetarian dining options. Highly recommended.\",\n",
        "        \"Comfortable seating in lounge areas and diverse food selections, including vegetarian.\",\n",
        "        \"Small airport with basic facilities.\",\n",
        "    ],\n",
        "    metadatas=[\n",
        "        {\"airport_code\": \"JFK\"},\n",
        "        {\"airport_code\": \"LAX\"},\n",
        "        {\"airport_code\": \"EFGH\"},\n",
        "    ],\n",
        ")"
      ]
    },
    {
      "cell_type": "markdown",
      "metadata": {},
      "source": [
        "通过向量搜索查找设施清洁且提供素食选项的机场"
      ]
    },
    {
      "cell_type": "code",
      "execution_count": 13,
      "metadata": {},
      "outputs": [
        {
          "name": "stdout",
          "output_type": "stream",
          "text": [
            "--------------------------------------------------------------------------------\n",
            "Clean lounges and excellent vegetarian dining options. Highly recommended.\n",
            "{'airport_code': 'JFK'}\n",
            "--------------------------------------------------------------------------------\n",
            "--------------------------------------------------------------------------------\n",
            "Comfortable seating in lounge areas and diverse food selections, including vegetarian.\n",
            "{'airport_code': 'LAX'}\n",
            "--------------------------------------------------------------------------------\n"
          ]
        }
      ],
      "source": [
        "retriever = db.as_retriever(\n",
        "    search_type=\"similarity_score_threshold\",\n",
        "    search_kwargs={\"k\": 3, \"score_threshold\": 0.85},\n",
        ")\n",
        "semantic_query = \"Could you recommend a US airport with clean lounges and good vegetarian dining options?\"\n",
        "reviews = retriever.invoke(semantic_query)\n",
        "for r in reviews:\n",
        "    print(\"-\" * 80)\n",
        "    print(r.page_content)\n",
        "    print(r.metadata)\n",
        "    print(\"-\" * 80)"
      ]
    },
    {
      "cell_type": "code",
      "execution_count": 14,
      "metadata": {},
      "outputs": [
        {
          "data": {
            "text/plain": [
              "[(1, 'JFK', 'DL', 'LAX', 'Non-stop from JFK to LAX.', datetime.timedelta(seconds=21600), 5, 'Boeing 777', Decimal('299.99'), 'None'),\n",
              " (2, 'LAX', 'AA', 'ORD', 'Direct LAX to ORD route.', datetime.timedelta(seconds=14400), 3, 'Airbus A320', Decimal('149.99'), 'None')]"
            ]
          },
          "execution_count": 14,
          "metadata": {},
          "output_type": "execute_result"
        }
      ],
      "source": [
        "# Extracting airport codes from the metadata\n",
        "airport_codes = [review.metadata[\"airport_code\"] for review in reviews]\n",
        "\n",
        "# Executing a query to get the airport details\n",
        "search_query = \"SELECT * FROM airplan_routes WHERE airport_code IN :codes\"\n",
        "params = {\"codes\": tuple(airport_codes)}\n",
        "\n",
        "airport_details = db.tidb_vector_client.execute(search_query, params)\n",
        "airport_details.get(\"result\")"
      ]
    },
    {
      "cell_type": "markdown",
      "metadata": {},
      "source": [
        "或者，我们可以通过使用单个 SQL 查询一步完成搜索来简化此过程。"
      ]
    },
    {
      "cell_type": "code",
      "execution_count": 19,
      "metadata": {},
      "outputs": [
        {
          "data": {
            "text/plain": [
              "[(0.1219207353407008, 1, 'JFK', 'DL', 'LAX', 'Non-stop from JFK to LAX.', datetime.timedelta(seconds=21600), 5, 'Boeing 777', Decimal('299.99'), 'None', 'Clean lounges and excellent vegetarian dining options. Highly recommended.'),\n",
              " (0.14613754359804654, 2, 'LAX', 'AA', 'ORD', 'Direct LAX to ORD route.', datetime.timedelta(seconds=14400), 3, 'Airbus A320', Decimal('149.99'), 'None', 'Comfortable seating in lounge areas and diverse food selections, including vegetarian.'),\n",
              " (0.19840519342700513, 3, 'EFGH', 'UA', 'SEA', 'Daily flights from SFO to SEA.', datetime.timedelta(seconds=9000), 7, 'Boeing 737', Decimal('129.99'), 'None', 'Small airport with basic facilities.')]"
            ]
          },
          "execution_count": 19,
          "metadata": {},
          "output_type": "execute_result"
        }
      ],
      "source": [
        "search_query = f\"\"\"\n",
        "    SELECT \n",
        "        VEC_Cosine_Distance(se.embedding, :query_vector) as distance, \n",
        "        ar.*,\n",
        "        se.document as airport_review\n",
        "    FROM \n",
        "        airplan_routes ar\n",
        "    JOIN \n",
        "        {TABLE_NAME} se ON ar.airport_code = JSON_UNQUOTE(JSON_EXTRACT(se.meta, '$.airport_code'))\n",
        "    ORDER BY distance ASC \n",
        "    LIMIT 5;\n",
        "\"\"\"\n",
        "query_vector = embeddings.embed_query(semantic_query)\n",
        "params = {\"query_vector\": str(query_vector)}\n",
        "airport_details = db.tidb_vector_client.execute(search_query, params)\n",
        "airport_details.get(\"result\")"
      ]
    },
    {
      "cell_type": "code",
      "execution_count": 20,
      "metadata": {},
      "outputs": [
        {
          "data": {
            "text/plain": [
              "{'success': True, 'result': 0, 'error': None}"
            ]
          },
          "execution_count": 20,
          "metadata": {},
          "output_type": "execute_result"
        }
      ],
      "source": [
        "# clean up\n",
        "db.tidb_vector_client.execute(\"DROP TABLE airplan_routes\")"
      ]
    },
    {
      "cell_type": "markdown",
      "metadata": {},
      "source": [
        "# 删除\n\n您可以使用 `.drop_vectorstore()` 方法删除 TiDB Vector Store。"
      ]
    },
    {
      "cell_type": "code",
      "execution_count": 21,
      "metadata": {},
      "outputs": [],
      "source": [
        "db.drop_vectorstore()"
      ]
    }
  ],
  "metadata": {
    "kernelspec": {
      "display_name": "langchain",
      "language": "python",
      "name": "python3"
    },
    "language_info": {
      "codemirror_mode": {
        "name": "ipython",
        "version": 3
      },
      "file_extension": ".py",
      "mimetype": "text/x-python",
      "name": "python",
      "nbconvert_exporter": "python",
      "pygments_lexer": "ipython3",
      "version": "3.10.13"
    }
  },
  "nbformat": 4,
  "nbformat_minor": 2
}