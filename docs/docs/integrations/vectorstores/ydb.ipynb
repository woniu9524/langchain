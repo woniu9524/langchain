{
  "cells": [
    {
      "cell_type": "markdown",
      "id": "683953b3",
      "metadata": {},
      "source": [
        "# YDB\n\n> [YDB](https://ydb.tech/) 是一款通用的开源分布式 SQL 数据库，结合了高可用性、可扩展性与强一致性和 ACID 事务。它可以同时处理事务型（OLTP）、分析型（OLAP）和流式工作负载。\n\n本笔记本展示了如何使用与 `YDB` 向量存储相关的功能。\n\n## 设置\n\n首先，使用 Docker 设置本地 YDB："
      ]
    },
    {
      "cell_type": "code",
      "execution_count": null,
      "id": "da75f17c",
      "metadata": {},
      "outputs": [],
      "source": [
        "! docker run -d -p 2136:2136 --name ydb-langchain -e YDB_USE_IN_MEMORY_PDISKS=true -h localhost ydbplatform/local-ydb:trunk"
      ]
    },
    {
      "cell_type": "markdown",
      "id": "0acb2a8d",
      "metadata": {},
      "source": [
        "您需要安装 `langchain-ydb` 才能使用此集成"
      ]
    },
    {
      "cell_type": "code",
      "execution_count": null,
      "id": "d454fb7c",
      "metadata": {},
      "outputs": [],
      "source": [
        "! pip install -qU langchain-ydb"
      ]
    },
    {
      "cell_type": "markdown",
      "id": "3df5501b",
      "metadata": {},
      "source": [
        "### 凭证\n\n此笔记本无需凭证，只需确保已安装上述软件包。"
      ]
    },
    {
      "cell_type": "markdown",
      "id": "54d5276f",
      "metadata": {},
      "source": [
        "如果您想获得一流的自动化模型调用跟踪功能，也可以通过取消注释下方的内容来设置您的 [LangSmith](https://docs.smith.langchain.com/) API 密钥："
      ]
    },
    {
      "cell_type": "code",
      "execution_count": null,
      "id": "f6fd5b03",
      "metadata": {},
      "outputs": [],
      "source": [
        "# os.environ[\"LANGSMITH_API_KEY\"] = getpass.getpass(\"Enter your LangSmith API key: \")\n",
        "# os.environ[\"LANGSMITH_TRACING\"] = \"true\""
      ]
    },
    {
      "cell_type": "markdown",
      "id": "2b87fe34",
      "metadata": {},
      "source": [
        "## 初始化\n\nimport EmbeddingTabs from \"@theme/EmbeddingTabs\";\n\n<EmbeddingTabs/>"
      ]
    },
    {
      "cell_type": "code",
      "execution_count": null,
      "id": "60276097",
      "metadata": {},
      "outputs": [
        {
          "name": "stderr",
          "output_type": "stream",
          "text": [
            "/Users/ovcharuk/opensource/langchain/.venv/lib/python3.13/site-packages/tqdm/auto.py:21: TqdmWarning: IProgress not found. Please update jupyter and ipywidgets. See https://ipywidgets.readthedocs.io/en/stable/user_install.html\n",
            "  from .autonotebook import tqdm as notebook_tqdm\n"
          ]
        }
      ],
      "source": [
        "# | output: false\n",
        "# | echo: false\n",
        "from langchain_openai import OpenAIEmbeddings\n",
        "\n",
        "embeddings = OpenAIEmbeddings(model=\"text-embedding-3-large\")"
      ]
    },
    {
      "cell_type": "code",
      "execution_count": null,
      "id": "aac9563e",
      "metadata": {
        "ExecuteTime": {
          "end_time": "2023-06-03T08:33:31.554934Z",
          "start_time": "2023-06-03T08:33:31.549590Z"
        },
        "tags": []
      },
      "outputs": [],
      "source": [
        "from langchain_ydb.vectorstores import YDB, YDBSearchStrategy, YDBSettings\n",
        "\n",
        "settings = YDBSettings(\n",
        "    table=\"ydb_example\",\n",
        "    strategy=YDBSearchStrategy.COSINE_SIMILARITY,\n",
        ")\n",
        "vector_store = YDB(embeddings, config=settings)"
      ]
    },
    {
      "cell_type": "markdown",
      "id": "32dd3f67",
      "metadata": {},
      "source": [
        "## 管理向量存储\n\n创建向量存储后，可以通过添加和删除不同项来与之交互。\n\n### 向向量存储添加项\n\n准备要处理的文档："
      ]
    },
    {
      "cell_type": "code",
      "execution_count": 4,
      "id": "944743ee",
      "metadata": {},
      "outputs": [],
      "source": [
        "from uuid import uuid4\n",
        "\n",
        "from langchain_core.documents import Document\n",
        "\n",
        "document_1 = Document(\n",
        "    page_content=\"I had chocolate chip pancakes and scrambled eggs for breakfast this morning.\",\n",
        "    metadata={\"source\": \"tweet\"},\n",
        ")\n",
        "\n",
        "document_2 = Document(\n",
        "    page_content=\"The weather forecast for tomorrow is cloudy and overcast, with a high of 62 degrees.\",\n",
        "    metadata={\"source\": \"news\"},\n",
        ")\n",
        "\n",
        "document_3 = Document(\n",
        "    page_content=\"Building an exciting new project with LangChain - come check it out!\",\n",
        "    metadata={\"source\": \"tweet\"},\n",
        ")\n",
        "\n",
        "document_4 = Document(\n",
        "    page_content=\"Robbers broke into the city bank and stole $1 million in cash.\",\n",
        "    metadata={\"source\": \"news\"},\n",
        ")\n",
        "\n",
        "document_5 = Document(\n",
        "    page_content=\"Wow! That was an amazing movie. I can't wait to see it again.\",\n",
        "    metadata={\"source\": \"tweet\"},\n",
        ")\n",
        "\n",
        "document_6 = Document(\n",
        "    page_content=\"Is the new iPhone worth the price? Read this review to find out.\",\n",
        "    metadata={\"source\": \"website\"},\n",
        ")\n",
        "\n",
        "document_7 = Document(\n",
        "    page_content=\"The top 10 soccer players in the world right now.\",\n",
        "    metadata={\"source\": \"website\"},\n",
        ")\n",
        "\n",
        "document_8 = Document(\n",
        "    page_content=\"LangGraph is the best framework for building stateful, agentic applications!\",\n",
        "    metadata={\"source\": \"tweet\"},\n",
        ")\n",
        "\n",
        "document_9 = Document(\n",
        "    page_content=\"The stock market is down 500 points today due to fears of a recession.\",\n",
        "    metadata={\"source\": \"news\"},\n",
        ")\n",
        "\n",
        "document_10 = Document(\n",
        "    page_content=\"I have a bad feeling I am going to get deleted :(\",\n",
        "    metadata={\"source\": \"tweet\"},\n",
        ")\n",
        "\n",
        "documents = [\n",
        "    document_1,\n",
        "    document_2,\n",
        "    document_3,\n",
        "    document_4,\n",
        "    document_5,\n",
        "    document_6,\n",
        "    document_7,\n",
        "    document_8,\n",
        "    document_9,\n",
        "    document_10,\n",
        "]\n",
        "uuids = [str(uuid4()) for _ in range(len(documents))]"
      ]
    },
    {
      "cell_type": "markdown",
      "id": "c616b7f4",
      "metadata": {},
      "source": [
        "您可以使用 `add_documents` 函数将文档添加到您的 vector store 中。"
      ]
    },
    {
      "cell_type": "code",
      "execution_count": 5,
      "id": "3f632996",
      "metadata": {},
      "outputs": [
        {
          "name": "stderr",
          "output_type": "stream",
          "text": [
            "Inserting data...: 100%|██████████| 10/10 [00:00<00:00, 14.67it/s]\n"
          ]
        },
        {
          "data": {
            "text/plain": [
              "['947be6aa-d489-44c5-910e-62e4d58d2ffb',\n",
              " '7a62904d-9db3-412b-83b6-f01b34dd7de3',\n",
              " 'e5a49c64-c985-4ed7-ac58-5ffa31ade699',\n",
              " '99cf4104-36ab-4bd5-b0da-e210d260e512',\n",
              " '5810bcd0-b46e-443e-a663-e888c9e028d1',\n",
              " '190c193d-844e-4dbb-9a4b-b8f5f16cfae6',\n",
              " 'f8912944-f80a-4178-954e-4595bf59e341',\n",
              " '34fc7b09-6000-42c9-95f7-7d49f430b904',\n",
              " '0f6b6783-f300-4a4d-bb04-8025c4dfd409',\n",
              " '46c37ba9-7cf2-4ac8-9bd1-d84e2cb1155c']"
            ]
          },
          "execution_count": 5,
          "metadata": {},
          "output_type": "execute_result"
        }
      ],
      "source": [
        "vector_store.add_documents(documents=documents, ids=uuids)"
      ]
    },
    {
      "cell_type": "markdown",
      "id": "18af81cc",
      "metadata": {},
      "source": [
        "### 从向量存储中删除项目\n\n您可以使用 `delete` 函数通过 ID 从向量存储中删除项目。"
      ]
    },
    {
      "cell_type": "code",
      "execution_count": 6,
      "id": "12b32762",
      "metadata": {},
      "outputs": [
        {
          "data": {
            "text/plain": [
              "True"
            ]
          },
          "execution_count": 6,
          "metadata": {},
          "output_type": "execute_result"
        }
      ],
      "source": [
        "vector_store.delete(ids=[uuids[-1]])"
      ]
    },
    {
      "cell_type": "markdown",
      "id": "ada27577",
      "metadata": {},
      "source": [
        "## 查询向量存储\n\n一旦你的向量存储创建完成并且已添加了相关文档，你很可能希望在执行链或代理的过程中查询它。\n\n### 直接查询\n\n#### 相似性搜索\n\n简单的相似性搜索可以按如下方式执行："
      ]
    },
    {
      "cell_type": "code",
      "execution_count": 7,
      "id": "015831a3",
      "metadata": {},
      "outputs": [
        {
          "name": "stdout",
          "output_type": "stream",
          "text": [
            "* Building an exciting new project with LangChain - come check it out! [{'source': 'tweet'}]\n",
            "* LangGraph is the best framework for building stateful, agentic applications! [{'source': 'tweet'}]\n"
          ]
        }
      ],
      "source": [
        "results = vector_store.similarity_search(\n",
        "    \"LangChain provides abstractions to make working with LLMs easy\", k=2\n",
        ")\n",
        "for res in results:\n",
        "    print(f\"* {res.page_content} [{res.metadata}]\")"
      ]
    },
    {
      "cell_type": "markdown",
      "id": "623d3b9d",
      "metadata": {},
      "source": [
        "#### 相似性搜索与评分\n\n您也可以执行带评分的搜索："
      ]
    },
    {
      "cell_type": "code",
      "execution_count": 8,
      "id": "e7d43430",
      "metadata": {},
      "outputs": [
        {
          "name": "stdout",
          "output_type": "stream",
          "text": [
            "* [SIM=0.595] The weather forecast for tomorrow is cloudy and overcast, with a high of 62 degrees. [{'source': 'news'}]\n",
            "* [SIM=0.212] I had chocolate chip pancakes and scrambled eggs for breakfast this morning. [{'source': 'tweet'}]\n",
            "* [SIM=0.118] Wow! That was an amazing movie. I can't wait to see it again. [{'source': 'tweet'}]\n"
          ]
        }
      ],
      "source": [
        "results = vector_store.similarity_search_with_score(\"Will it be hot tomorrow?\", k=3)\n",
        "for res, score in results:\n",
        "    print(f\"* [SIM={score:.3f}] {res.page_content} [{res.metadata}]\")"
      ]
    },
    {
      "cell_type": "markdown",
      "id": "f5a90c12",
      "metadata": {},
      "source": [
        "### 筛选\n\n您可以按如下方式使用过滤器进行搜索："
      ]
    },
    {
      "cell_type": "code",
      "execution_count": 9,
      "id": "169d01d1",
      "metadata": {},
      "outputs": [
        {
          "name": "stdout",
          "output_type": "stream",
          "text": [
            "* I had chocolate chip pancakes and scrambled eggs for breakfast this morning. [{'source': 'tweet'}]\n",
            "* Wow! That was an amazing movie. I can't wait to see it again. [{'source': 'tweet'}]\n",
            "* Building an exciting new project with LangChain - come check it out! [{'source': 'tweet'}]\n",
            "* LangGraph is the best framework for building stateful, agentic applications! [{'source': 'tweet'}]\n"
          ]
        }
      ],
      "source": [
        "results = vector_store.similarity_search_with_score(\n",
        "    \"What did I eat for breakfast?\",\n",
        "    k=4,\n",
        "    filter={\"source\": \"tweet\"},\n",
        ")\n",
        "for res, _ in results:\n",
        "    print(f\"* {res.page_content} [{res.metadata}]\")"
      ]
    },
    {
      "cell_type": "markdown",
      "id": "afacfd4e",
      "metadata": {},
      "source": [
        "### 查询并将其转换为检索器\n\n你也可以将向量存储转换为检索器，以便在你的链中更方便地使用。\n\n下面将介绍如何将向量存储转换为检索器，然后使用一个简单的查询和过滤器来调用该检索器。"
      ]
    },
    {
      "cell_type": "code",
      "execution_count": 10,
      "id": "97187188",
      "metadata": {},
      "outputs": [
        {
          "name": "stdout",
          "output_type": "stream",
          "text": [
            "* Robbers broke into the city bank and stole $1 million in cash. [{'source': 'news'}]\n",
            "* The stock market is down 500 points today due to fears of a recession. [{'source': 'news'}]\n"
          ]
        }
      ],
      "source": [
        "retriever = vector_store.as_retriever(\n",
        "    search_kwargs={\"k\": 2},\n",
        ")\n",
        "results = retriever.invoke(\n",
        "    \"Stealing from the bank is a crime\", filter={\"source\": \"news\"}\n",
        ")\n",
        "for res in results:\n",
        "    print(f\"* {res.page_content} [{res.metadata}]\")"
      ]
    },
    {
      "cell_type": "markdown",
      "id": "57fade30",
      "metadata": {},
      "source": [
        "## 用于检索增强生成的使用方法\n\n有关如何将此向量存储用于检索增强生成 (RAG) 的指南，请参阅以下章节：\n\n- [教程](/docs/tutorials/)\n- [如何：使用 RAG 进行问答](https://python.langchain.com/docs/how_to/#qa-with-rag)\n- [检索概念文档](https://python.langchain.com/docs/concepts/retrieval)"
      ]
    },
    {
      "cell_type": "markdown",
      "id": "02452d34",
      "metadata": {},
      "source": [
        "## API 参考\n\n有关所有 `YDB` 功能和配置的详细文档，请访问 API 参考：https://python.langchain.com/api_reference/community/vectorstores/langchain_community.vectorstores.ydb.YDB.html"
      ]
    }
  ],
  "metadata": {
    "kernelspec": {
      "display_name": ".venv",
      "language": "python",
      "name": "python3"
    },
    "language_info": {
      "codemirror_mode": {
        "name": "ipython",
        "version": 3
      },
      "file_extension": ".py",
      "mimetype": "text/x-python",
      "name": "python",
      "nbconvert_exporter": "python",
      "pygments_lexer": "ipython3",
      "version": "3.13.2"
    }
  },
  "nbformat": 4,
  "nbformat_minor": 5
}