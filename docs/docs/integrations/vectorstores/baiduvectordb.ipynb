{
  "cells": [
    {
      "cell_type": "markdown",
      "metadata": {
        "collapsed": true,
        "jupyter": {
          "outputs_hidden": true
        }
      },
      "source": [
        "# 百度向量数据库\n\n>[百度向量数据库](https://cloud.baidu.com/product/vdb.html) 是百度智能云研发和运营的，开服即托管的企业级分布式向量数据库服务。它在存储、检索和分析多维向量数据方面表现出色。VectorDB 的核心是百度自研的“Mochow”向量数据库内核，这保证了其高性能、高可用性、高安全性，同时还兼具出色的可扩展性和易用性。\n\n>该数据库服务支持多种索引类型和相似度计算方法，以满足各种用例的需求。VectorDB 的一个突出特点是能够管理高达 100 亿的海量向量规模，同时保持令人印象深刻的查询性能，支持每秒数百万次查询（QPS），查询延迟达到毫秒级。\n\n您需要安装 `langchain-community` 才能使用此集成，命令为 `pip install -qU langchain-community`。\n\n本 notebook 展示了如何使用与百度向量数据库相关的各种功能。\n\n要运行它，您应该拥有一个 [数据库实例。](https://cloud.baidu.com/doc/VDB/s/hlrsoazuf)。"
      ]
    },
    {
      "cell_type": "code",
      "execution_count": null,
      "metadata": {},
      "outputs": [],
      "source": [
        "!pip3 install pymochow"
      ]
    },
    {
      "cell_type": "code",
      "execution_count": null,
      "metadata": {
        "scrolled": true
      },
      "outputs": [],
      "source": [
        "from langchain_community.document_loaders import TextLoader\n",
        "from langchain_community.embeddings.fake import FakeEmbeddings\n",
        "from langchain_community.vectorstores import BaiduVectorDB\n",
        "from langchain_community.vectorstores.baiduvectordb import ConnectionParams\n",
        "from langchain_text_splitters import CharacterTextSplitter"
      ]
    },
    {
      "cell_type": "code",
      "execution_count": null,
      "metadata": {},
      "outputs": [],
      "source": [
        "loader = TextLoader(\"../../how_to/state_of_the_union.txt\")\n",
        "documents = loader.load()\n",
        "text_splitter = CharacterTextSplitter(chunk_size=1000, chunk_overlap=0)\n",
        "docs = text_splitter.split_documents(documents)\n",
        "embeddings = FakeEmbeddings(size=128)"
      ]
    },
    {
      "cell_type": "code",
      "execution_count": null,
      "metadata": {},
      "outputs": [],
      "source": [
        "conn_params = ConnectionParams(\n",
        "    endpoint=\"http://192.168.xx.xx:xxxx\", account=\"root\", api_key=\"****\"\n",
        ")\n",
        "\n",
        "vector_db = BaiduVectorDB.from_documents(\n",
        "    docs, embeddings, connection_params=conn_params, drop_old=True\n",
        ")"
      ]
    },
    {
      "cell_type": "code",
      "execution_count": null,
      "metadata": {},
      "outputs": [],
      "source": [
        "query = \"What did the president say about Ketanji Brown Jackson\"\n",
        "docs = vector_db.similarity_search(query)\n",
        "docs[0].page_content"
      ]
    },
    {
      "cell_type": "code",
      "execution_count": null,
      "metadata": {},
      "outputs": [],
      "source": [
        "vector_db = BaiduVectorDB(embeddings, conn_params)\n",
        "vector_db.add_texts([\"Ankush went to Princeton\"])\n",
        "query = \"Where did Ankush go to college?\"\n",
        "docs = vector_db.max_marginal_relevance_search(query)\n",
        "docs[0].page_content"
      ]
    }
  ],
  "metadata": {
    "kernelspec": {
      "display_name": "Python 3 (ipykernel)",
      "language": "python",
      "name": "python3"
    },
    "language_info": {
      "codemirror_mode": {
        "name": "ipython",
        "version": 3
      },
      "file_extension": ".py",
      "mimetype": "text/x-python",
      "name": "python",
      "nbconvert_exporter": "python",
      "pygments_lexer": "ipython3",
      "version": "3.9.6"
    }
  },
  "nbformat": 4,
  "nbformat_minor": 4
}