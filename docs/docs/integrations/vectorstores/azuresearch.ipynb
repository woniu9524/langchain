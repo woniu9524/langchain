{
  "cells": [
    {
      "cell_type": "markdown",
      "metadata": {
        "collapsed": false
      },
      "source": [
        "# Azure AI Search\n\n[Azure AI Search](https://learn.microsoft.com/azure/search/search-what-is-azure-search)（以前称为 `Azure Search` 和 `Azure Cognitive Search`）是一项云搜索服务，为开发人员提供用于大规模信息检索（包括向量、关键字和混合查询）的基础设施、API 和工具。\n\n您需要安装 `langchain-community` 才能使用此集成，命令为 `pip install -qU langchain-community`。"
      ]
    },
    {
      "cell_type": "markdown",
      "metadata": {},
      "source": [
        "## 安装 Azure AI Search SDK\n\n请使用 azure-search-documents 包版本 11.4.0 或更高版本。"
      ]
    },
    {
      "cell_type": "code",
      "execution_count": null,
      "metadata": {},
      "outputs": [],
      "source": [
        "%pip install --upgrade --quiet  azure-search-documents\n",
        "%pip install --upgrade --quiet  azure-identity"
      ]
    },
    {
      "attachments": {},
      "cell_type": "markdown",
      "metadata": {},
      "source": [
        "## 导入所需库\n\n假定使用 `OpenAIEmbeddings`，但如果您使用的是 Azure OpenAI，请改用 `AzureOpenAIEmbeddings`。"
      ]
    },
    {
      "cell_type": "code",
      "execution_count": 2,
      "metadata": {},
      "outputs": [],
      "source": [
        "import os\n",
        "\n",
        "from langchain_community.vectorstores.azuresearch import AzureSearch\n",
        "from langchain_openai import AzureOpenAIEmbeddings, OpenAIEmbeddings"
      ]
    },
    {
      "attachments": {},
      "cell_type": "markdown",
      "metadata": {},
      "source": [
        "## 配置 OpenAI 设置\n为您的 OpenAI 供应商设置变量。您需要一个 [OpenAI 账户](https://platform.openai.com/docs/quickstart?context=python) 或一个 [Azure OpenAI 账户](https://learn.microsoft.com/en-us/azure/ai-services/openai/how-to/create-resource) 来生成 embeddings。"
      ]
    },
    {
      "cell_type": "code",
      "execution_count": 3,
      "metadata": {},
      "outputs": [],
      "source": [
        "# Option 1: use an OpenAI account\n",
        "openai_api_key: str = \"PLACEHOLDER FOR YOUR API KEY\"\n",
        "openai_api_version: str = \"2023-05-15\"\n",
        "model: str = \"text-embedding-ada-002\""
      ]
    },
    {
      "cell_type": "code",
      "execution_count": 27,
      "metadata": {},
      "outputs": [],
      "source": [
        "# Option 2: use an Azure OpenAI account with a deployment of an embedding model\n",
        "azure_endpoint: str = \"PLACEHOLDER FOR YOUR AZURE OPENAI ENDPOINT\"\n",
        "azure_openai_api_key: str = \"PLACEHOLDER FOR YOUR AZURE OPENAI KEY\"\n",
        "azure_openai_api_version: str = \"2023-05-15\"\n",
        "azure_deployment: str = \"text-embedding-ada-002\""
      ]
    },
    {
      "cell_type": "markdown",
      "metadata": {},
      "source": [
        "## 配置向量存储设置\n\n您需要一个 [Azure 订阅](https://azure.microsoft.com/en-us/free/search) 和 [Azure AI Search 服务](https://learn.microsoft.com/azure/search/search-create-service-portal) 才能使用此向量存储集成。对于小型和有限的工作负载，可以使用的免费版本。\n\n设置 Azure AI Search URL 和管理员 API 密钥的变量。您可以从 [Azure 门户](https://portal.azure.com/#blade/HubsExtension/BrowseResourceBlade/resourceType/Microsoft.Search%2FsearchServices) 获取这些变量。"
      ]
    },
    {
      "cell_type": "code",
      "execution_count": 24,
      "metadata": {},
      "outputs": [],
      "source": [
        "vector_store_address: str = \"YOUR_AZURE_SEARCH_ENDPOINT\"\n",
        "vector_store_password: str = \"YOUR_AZURE_SEARCH_ADMIN_KEY\""
      ]
    },
    {
      "cell_type": "markdown",
      "metadata": {},
      "source": [
        "## 创建 embeddings 和 vector store 实例\n \n创建 OpenAIEmbeddings 和 AzureSearch 类的实例。完成此步骤后，您的 Azure AI Search 资源上将有一个空的搜索索引。集成模块提供了默认架构。"
      ]
    },
    {
      "cell_type": "code",
      "execution_count": 6,
      "metadata": {},
      "outputs": [],
      "source": [
        "# Option 1: Use OpenAIEmbeddings with OpenAI account\n",
        "embeddings: OpenAIEmbeddings = OpenAIEmbeddings(\n",
        "    openai_api_key=openai_api_key, openai_api_version=openai_api_version, model=model\n",
        ")"
      ]
    },
    {
      "cell_type": "code",
      "execution_count": 29,
      "metadata": {},
      "outputs": [],
      "source": [
        "# Option 2: Use AzureOpenAIEmbeddings with an Azure account\n",
        "embeddings: AzureOpenAIEmbeddings = AzureOpenAIEmbeddings(\n",
        "    azure_deployment=azure_deployment,\n",
        "    openai_api_version=azure_openai_api_version,\n",
        "    azure_endpoint=azure_endpoint,\n",
        "    api_key=azure_openai_api_key,\n",
        ")"
      ]
    },
    {
      "cell_type": "markdown",
      "metadata": {},
      "source": [
        "## 创建向量存储实例\n \n使用上面的 Embeddings 创建 AzureSearch 类的实例"
      ]
    },
    {
      "cell_type": "code",
      "execution_count": 30,
      "metadata": {},
      "outputs": [],
      "source": [
        "index_name: str = \"langchain-vector-demo\"\n",
        "vector_store: AzureSearch = AzureSearch(\n",
        "    azure_search_endpoint=vector_store_address,\n",
        "    azure_search_key=vector_store_password,\n",
        "    index_name=index_name,\n",
        "    embedding_function=embeddings.embed_query,\n",
        ")"
      ]
    },
    {
      "cell_type": "code",
      "execution_count": null,
      "metadata": {},
      "outputs": [],
      "source": [
        "# Specify additional properties for the Azure client such as the following https://github.com/Azure/azure-sdk-for-python/blob/main/sdk/core/azure-core/README.md#configurations\n",
        "vector_store: AzureSearch = AzureSearch(\n",
        "    azure_search_endpoint=vector_store_address,\n",
        "    azure_search_key=vector_store_password,\n",
        "    index_name=index_name,\n",
        "    embedding_function=embeddings.embed_query,\n",
        "    # Configure max retries for the Azure client\n",
        "    additional_search_client_options={\"retry_total\": 4},\n",
        ")"
      ]
    },
    {
      "cell_type": "markdown",
      "metadata": {},
      "source": [
        "## 将文本和嵌入插入向量存储\n\n此步骤将加载、分块和矢量化示例文档，然后将内容索引到 Azure AI Search 上的搜索索引中。"
      ]
    },
    {
      "cell_type": "code",
      "execution_count": 31,
      "metadata": {},
      "outputs": [
        {
          "data": {
            "text/plain": [
              "['M2U1OGM4YzAtYjMxYS00Nzk5LTlhNDgtZTc3MGVkNTg1Mjc0',\n",
              " 'N2I2MGNiZDEtNDdmZS00YWNiLWJhYTYtYWEzMmFiYzU1ZjZm',\n",
              " 'YWFmNDViNTQtZTc4MS00MTdjLTkzZjQtYTJkNmY1MDU4Yzll',\n",
              " 'MjgwY2ExZDctYTUxYi00NjE4LTkxMjctZDA1NDQ1MzU4NmY1',\n",
              " 'NGE4NzhkNTAtZWYxOC00ZmI5LTg0MTItZDQ1NzMxMWVmMTIz',\n",
              " 'MTYwMWU3YjAtZDIzOC00NTYwLTgwMmEtNDI1NzA2MWVhMDYz',\n",
              " 'NGM5N2NlZjgtMTc5Ny00OGEzLWI5YTgtNDFiZWE2MjBlMzA0',\n",
              " 'OWQ4M2MyMTYtMmRkNi00ZDUxLWI0MDktOGE2NjMxNDFhYzFm',\n",
              " 'YWZmZGJkOTAtOGM3My00MmNiLTg5OWUtZGMwMDQwYTk1N2Vj',\n",
              " 'YTc3MTI2OTktYmVkMi00ZGU4LTgyNmUtNTY1YzZjMDg2YWI3',\n",
              " 'MTQwMmVlYjEtNDI0MS00N2E0LWEyN2ItZjhhYWU0YjllMjRk',\n",
              " 'NjJjYWY4ZjctMzgyNi00Y2I5LTkwY2UtZjRkMjJhNDQxYTFk',\n",
              " 'M2ZiM2NiYTMtM2ZiMS00YWJkLWE3ZmQtNDZiODcyOTMyYWYx',\n",
              " 'MzNmZTNkMWYtMjNmYS00Y2NmLTg3ZjQtYTZjOWM1YmJhZTRk',\n",
              " 'ZDY3MDc1NzYtY2YzZS00ZjExLWEyMjAtODhiYTRmNDUzMTBi',\n",
              " 'ZGIyYzA4NzUtZGM2Ni00MDUwLWEzZjYtNTg3MDYyOWQ5MWQy',\n",
              " 'NTA0MjBhMzYtOTYzMi00MDQ2LWExYWQtMzNiN2I4ODM4ZGZl',\n",
              " 'OTdjYzU2NGUtNWZjNC00N2ZmLWExMjQtNjhkYmZkODg4MTY3',\n",
              " 'OThhMWZmMjgtM2EzYS00OWZkLTk1NGEtZTdkNmRjNWYxYmVh',\n",
              " 'ZGVjMTQ0NzctNDVmZC00ZWY4LTg4N2EtMDQ1NWYxNWM5NDVh',\n",
              " 'MjRlYzE4YzItZTMxNy00OGY3LThmM2YtMjM0YmRhYTVmOGY3',\n",
              " 'MWU0NDA3ZDQtZDE4MS00OWMyLTlmMzktZjdkYzZhZmUwYWM3',\n",
              " 'ZGM2ZDhhY2MtM2NkNi00MzZhLWJmNTEtMmYzNjEwMzE3NmZl',\n",
              " 'YjBmMjkyZTItYTNlZC00MmY2LThiMzYtMmUxY2MyNDlhNGUw',\n",
              " 'OThmYTQ0YzEtNjk0MC00NWIyLWE1ZDQtNTI2MTZjN2NlODcw',\n",
              " 'NDdlOGU1ZGQtZTVkMi00M2MyLWExN2YtOTc2ODk3OWJmNmQw',\n",
              " 'MDVmZGNkYTUtNWI2OS00YjllLTk0YTItZDRmNWQxMWU3OTVj',\n",
              " 'YWFlNTVmNjMtMDZlNy00NmE5LWI0ODUtZTI3ZTFmZWRmNzU0',\n",
              " 'MmIzOTkxODQtODYxMi00YWM2LWFjY2YtNjRmMmEyM2JlNzMw',\n",
              " 'ZmI1NDhhNWItZWY0ZS00NTNhLWEyNDEtMTE2OWYyMjc4YTU2',\n",
              " 'YTllYTc5OTgtMzJiNC00ZjZjLWJiMzUtNWVhYzFjYzgxMjU2',\n",
              " 'ODZlZWUyOTctOGY4OS00ZjA3LWIyYTUtNDVlNDUyN2E4ZDFk',\n",
              " 'Y2M0MWRlM2YtZDU4Ny00MjZkLWE5NzgtZmRkMTNhZDg2YjEy',\n",
              " 'MDNjZWQ2ODEtMWZiMy00OTZjLTk3MzAtZjE4YjIzNWVhNTE1',\n",
              " 'OTE1NDY0NzMtODNkZS00MTk4LTk4NWQtZGVmYjQ2YjFlY2Q0',\n",
              " 'ZTgwYWQwMjEtN2ZlOS00NDk2LWIxNzUtNjk2ODE3N2U0Yzlj',\n",
              " 'ZDkxOTgzMGUtZGExMC00Yzg0LWJjMGItOWQ2ZmUwNWUwOGJj',\n",
              " 'ZGViMGI2NDEtZDdlNC00YjhiLTk0MDUtYjEyOTVlMGU1Y2I2',\n",
              " 'ODliZTYzZTctZjdlZS00YjBjLWFiZmYtMDJmNjQ0YjU3ZDcy',\n",
              " 'MDFjZGI1NzUtOTc0Ni00NWNmLThhYzYtYzRlZThkZjMwM2Vl',\n",
              " 'ZjY2ZmRiN2EtZWVhNS00ODViLTk4YjYtYjQ2Zjc4MDdkYjhk',\n",
              " 'ZTQ3NDMwODEtMTQwMy00NDFkLWJhZDQtM2UxN2RkOTU1MTdl']"
            ]
          },
          "execution_count": 31,
          "metadata": {},
          "output_type": "execute_result"
        }
      ],
      "source": [
        "from langchain_community.document_loaders import TextLoader\n",
        "from langchain_text_splitters import CharacterTextSplitter\n",
        "\n",
        "loader = TextLoader(\"../../how_to/state_of_the_union.txt\", encoding=\"utf-8\")\n",
        "\n",
        "documents = loader.load()\n",
        "text_splitter = CharacterTextSplitter(chunk_size=1000, chunk_overlap=0)\n",
        "docs = text_splitter.split_documents(documents)\n",
        "\n",
        "vector_store.add_documents(documents=docs)"
      ]
    },
    {
      "attachments": {},
      "cell_type": "markdown",
      "metadata": {},
      "source": [
        "## 执行向量相似性搜索\n \n使用 `similarity_search()` 方法执行纯向量相似性搜索："
      ]
    },
    {
      "cell_type": "code",
      "execution_count": 11,
      "metadata": {},
      "outputs": [
        {
          "name": "stdout",
          "output_type": "stream",
          "text": [
            "Tonight. I call on the Senate to: Pass the Freedom to Vote Act. Pass the John Lewis Voting Rights Act. And while you’re at it, pass the Disclose Act so Americans can know who is funding our elections. \n",
            "\n",
            "Tonight, I’d like to honor someone who has dedicated his life to serve this country: Justice Stephen Breyer—an Army veteran, Constitutional scholar, and retiring Justice of the United States Supreme Court. Justice Breyer, thank you for your service. \n",
            "\n",
            "One of the most serious constitutional responsibilities a President has is nominating someone to serve on the United States Supreme Court. \n",
            "\n",
            "And I did that 4 days ago, when I nominated Circuit Court of Appeals Judge Ketanji Brown Jackson. One of our nation’s top legal minds, who will continue Justice Breyer’s legacy of excellence.\n"
          ]
        }
      ],
      "source": [
        "# Perform a similarity search\n",
        "docs = vector_store.similarity_search(\n",
        "    query=\"What did the president say about Ketanji Brown Jackson\",\n",
        "    k=3,\n",
        "    search_type=\"similarity\",\n",
        ")\n",
        "print(docs[0].page_content)"
      ]
    },
    {
      "cell_type": "markdown",
      "metadata": {},
      "source": [
        "## 执行带有相关性得分的向量相似性搜索\n \n使用 `similarity_search_with_relevance_scores()` 方法执行纯向量相似性搜索。不符合阈值要求的查询将被排除。"
      ]
    },
    {
      "cell_type": "code",
      "execution_count": 12,
      "metadata": {},
      "outputs": [
        {
          "name": "stdout",
          "output_type": "stream",
          "text": [
            "[(Document(page_content='Tonight. I call on the Senate to: Pass the Freedom to Vote Act. Pass the John Lewis Voting Rights Act. And while you’re at it, pass the Disclose Act so Americans can know who is funding our elections. \\n\\nTonight, I’d like to honor someone who has dedicated his life to serve this country: Justice Stephen Breyer—an Army veteran, Constitutional scholar, and retiring Justice of the United States Supreme Court. Justice Breyer, thank you for your service. \\n\\nOne of the most serious constitutional responsibilities a President has is nominating someone to serve on the United States Supreme Court. \\n\\nAnd I did that 4 days ago, when I nominated Circuit Court of Appeals Judge Ketanji Brown Jackson. One of our nation’s top legal minds, who will continue Justice Breyer’s legacy of excellence.', metadata={'source': '../../how_to/state_of_the_union.txt'}),\n",
            "  0.84402436),\n",
            " (Document(page_content='A former top litigator in private practice. A former federal public defender. And from a family of public school educators and police officers. A consensus builder. Since she’s been nominated, she’s received a broad range of support—from the Fraternal Order of Police to former judges appointed by Democrats and Republicans. \\n\\nAnd if we are to advance liberty and justice, we need to secure the Border and fix the immigration system. \\n\\nWe can do both. At our border, we’ve installed new technology like cutting-edge scanners to better detect drug smuggling.  \\n\\nWe’ve set up joint patrols with Mexico and Guatemala to catch more human traffickers.  \\n\\nWe’re putting in place dedicated immigration judges so families fleeing persecution and violence can have their cases heard faster. \\n\\nWe’re securing commitments and supporting partners in South and Central America to host more refugees and secure their own borders.', metadata={'source': '../../how_to/state_of_the_union.txt'}),\n",
            "  0.82128483),\n",
            " (Document(page_content='And for our LGBTQ+ Americans, let’s finally get the bipartisan Equality Act to my desk. The onslaught of state laws targeting transgender Americans and their families is wrong. \\n\\nAs I said last year, especially to our younger transgender Americans, I will always have your back as your President, so you can be yourself and reach your God-given potential. \\n\\nWhile it often appears that we never agree, that isn’t true. I signed 80 bipartisan bills into law last year. From preventing government shutdowns to protecting Asian-Americans from still-too-common hate crimes to reforming military justice. \\n\\nAnd soon, we’ll strengthen the Violence Against Women Act that I first wrote three decades ago. It is important for us to show the nation that we can come together and do big things. \\n\\nSo tonight I’m offering a Unity Agenda for the Nation. Four big things we can do together.  \\n\\nFirst, beat the opioid epidemic.', metadata={'source': '../../how_to/state_of_the_union.txt'}),\n",
            "  0.8151042),\n",
            " (Document(page_content='Tonight, I’m announcing a crackdown on these companies overcharging American businesses and consumers. \\n\\nAnd as Wall Street firms take over more nursing homes, quality in those homes has gone down and costs have gone up.  \\n\\nThat ends on my watch. \\n\\nMedicare is going to set higher standards for nursing homes and make sure your loved ones get the care they deserve and expect. \\n\\nWe’ll also cut costs and keep the economy going strong by giving workers a fair shot, provide more training and apprenticeships, hire them based on their skills not degrees. \\n\\nLet’s pass the Paycheck Fairness Act and paid leave.  \\n\\nRaise the minimum wage to $15 an hour and extend the Child Tax Credit, so no one has to raise a family in poverty. \\n\\nLet’s increase Pell Grants and increase our historic support of HBCUs, and invest in what Jill—our First Lady who teaches full-time—calls America’s best-kept secret: community colleges.', metadata={'source': '../../how_to/state_of_the_union.txt'}),\n",
            "  0.8148832)]\n"
          ]
        }
      ],
      "source": [
        "docs_and_scores = vector_store.similarity_search_with_relevance_scores(\n",
        "    query=\"What did the president say about Ketanji Brown Jackson\",\n",
        "    k=4,\n",
        "    score_threshold=0.80,\n",
        ")\n",
        "from pprint import pprint\n",
        "\n",
        "pprint(docs_and_scores)"
      ]
    },
    {
      "attachments": {},
      "cell_type": "markdown",
      "metadata": {},
      "source": [
        "## 执行混合搜索\n\n使用 `search_type` 或 `hybrid_search()` 方法执行混合搜索。向量和非向量文本字段会并行查询，结果合并，并返回统一结果集中的顶部匹配项。"
      ]
    },
    {
      "cell_type": "code",
      "execution_count": 13,
      "metadata": {},
      "outputs": [
        {
          "name": "stdout",
          "output_type": "stream",
          "text": [
            "Tonight. I call on the Senate to: Pass the Freedom to Vote Act. Pass the John Lewis Voting Rights Act. And while you’re at it, pass the Disclose Act so Americans can know who is funding our elections. \n",
            "\n",
            "Tonight, I’d like to honor someone who has dedicated his life to serve this country: Justice Stephen Breyer—an Army veteran, Constitutional scholar, and retiring Justice of the United States Supreme Court. Justice Breyer, thank you for your service. \n",
            "\n",
            "One of the most serious constitutional responsibilities a President has is nominating someone to serve on the United States Supreme Court. \n",
            "\n",
            "And I did that 4 days ago, when I nominated Circuit Court of Appeals Judge Ketanji Brown Jackson. One of our nation’s top legal minds, who will continue Justice Breyer’s legacy of excellence.\n"
          ]
        }
      ],
      "source": [
        "# Perform a hybrid search using the search_type parameter\n",
        "docs = vector_store.similarity_search(\n",
        "    query=\"What did the president say about Ketanji Brown Jackson\",\n",
        "    k=3,\n",
        "    search_type=\"hybrid\",\n",
        ")\n",
        "print(docs[0].page_content)"
      ]
    },
    {
      "cell_type": "code",
      "execution_count": 14,
      "metadata": {},
      "outputs": [
        {
          "name": "stdout",
          "output_type": "stream",
          "text": [
            "Tonight. I call on the Senate to: Pass the Freedom to Vote Act. Pass the John Lewis Voting Rights Act. And while you’re at it, pass the Disclose Act so Americans can know who is funding our elections. \n",
            "\n",
            "Tonight, I’d like to honor someone who has dedicated his life to serve this country: Justice Stephen Breyer—an Army veteran, Constitutional scholar, and retiring Justice of the United States Supreme Court. Justice Breyer, thank you for your service. \n",
            "\n",
            "One of the most serious constitutional responsibilities a President has is nominating someone to serve on the United States Supreme Court. \n",
            "\n",
            "And I did that 4 days ago, when I nominated Circuit Court of Appeals Judge Ketanji Brown Jackson. One of our nation’s top legal minds, who will continue Justice Breyer’s legacy of excellence.\n"
          ]
        }
      ],
      "source": [
        "# Perform a hybrid search using the hybrid_search method\n",
        "docs = vector_store.hybrid_search(\n",
        "    query=\"What did the president say about Ketanji Brown Jackson\", k=3\n",
        ")\n",
        "print(docs[0].page_content)"
      ]
    },
    {
      "cell_type": "markdown",
      "metadata": {},
      "source": [
        "## 自定义 schema 和查询\n\n本节将向您展示如何用自定义 schema 替换默认 schema。"
      ]
    },
    {
      "cell_type": "markdown",
      "metadata": {},
      "source": [
        "### 创建具有自定义可筛选字段的新索引\n\n此架构展示了字段定义。这是默认架构，再加上被指定为可筛选的几个新字段。因为它使用了默认的向量配置，所以您在这里看不到向量配置或向量配置覆盖。默认向量配置的名称是“myHnswProfile”，它正在使用分层可导航小世界 (HNSW) 的向量配置来索引和查询 content_vector 字段。\n\n此步骤中没有此架构的数据。执行该单元格时，您应该会在 Azure AI Search 上获得一个空的索引。"
      ]
    },
    {
      "cell_type": "code",
      "execution_count": 15,
      "metadata": {},
      "outputs": [],
      "source": [
        "from azure.search.documents.indexes.models import (\n",
        "    ScoringProfile,\n",
        "    SearchableField,\n",
        "    SearchField,\n",
        "    SearchFieldDataType,\n",
        "    SimpleField,\n",
        "    TextWeights,\n",
        ")\n",
        "\n",
        "#  Replace OpenAIEmbeddings with AzureOpenAIEmbeddings if Azure OpenAI is your provider.\n",
        "embeddings: OpenAIEmbeddings = OpenAIEmbeddings(\n",
        "    openai_api_key=openai_api_key, openai_api_version=openai_api_version, model=model\n",
        ")\n",
        "embedding_function = embeddings.embed_query\n",
        "\n",
        "fields = [\n",
        "    SimpleField(\n",
        "        name=\"id\",\n",
        "        type=SearchFieldDataType.String,\n",
        "        key=True,\n",
        "        filterable=True,\n",
        "    ),\n",
        "    SearchableField(\n",
        "        name=\"content\",\n",
        "        type=SearchFieldDataType.String,\n",
        "        searchable=True,\n",
        "    ),\n",
        "    SearchField(\n",
        "        name=\"content_vector\",\n",
        "        type=SearchFieldDataType.Collection(SearchFieldDataType.Single),\n",
        "        searchable=True,\n",
        "        vector_search_dimensions=len(embedding_function(\"Text\")),\n",
        "        vector_search_profile_name=\"myHnswProfile\",\n",
        "    ),\n",
        "    SearchableField(\n",
        "        name=\"metadata\",\n",
        "        type=SearchFieldDataType.String,\n",
        "        searchable=True,\n",
        "    ),\n",
        "    # Additional field to store the title\n",
        "    SearchableField(\n",
        "        name=\"title\",\n",
        "        type=SearchFieldDataType.String,\n",
        "        searchable=True,\n",
        "    ),\n",
        "    # Additional field for filtering on document source\n",
        "    SimpleField(\n",
        "        name=\"source\",\n",
        "        type=SearchFieldDataType.String,\n",
        "        filterable=True,\n",
        "    ),\n",
        "]\n",
        "\n",
        "index_name: str = \"langchain-vector-demo-custom\"\n",
        "\n",
        "vector_store: AzureSearch = AzureSearch(\n",
        "    azure_search_endpoint=vector_store_address,\n",
        "    azure_search_key=vector_store_password,\n",
        "    index_name=index_name,\n",
        "    embedding_function=embedding_function,\n",
        "    fields=fields,\n",
        ")"
      ]
    },
    {
      "cell_type": "markdown",
      "metadata": {},
      "source": [
        "### 添加数据并执行包含过滤的查询\n\n此示例根据自定义 schema 向向量存储添加数据。它将文本加载到 `title` 和 `source` 字段中。`source` 字段是可过滤的。本节中的示例查询根据 `source` 字段中的内容过滤结果。"
      ]
    },
    {
      "cell_type": "code",
      "execution_count": 16,
      "metadata": {},
      "outputs": [
        {
          "data": {
            "text/plain": [
              "['ZjhmMTg0NTEtMjgwNC00N2M0LWFiZGEtMDllMGU1Mzk1NWRm',\n",
              " 'MzQwYWUwZDEtNDJkZC00MzgzLWIwMzItYzMwOGZkYTRiZGRi',\n",
              " 'ZjFmOWVlYTQtODRiMC00YTY3LTk2YjUtMzY1NDBjNjY5ZmQ2']"
            ]
          },
          "execution_count": 16,
          "metadata": {},
          "output_type": "execute_result"
        }
      ],
      "source": [
        "# Data in the metadata dictionary with a corresponding field in the index will be added to the index.\n",
        "# In this example, the metadata dictionary contains a title, a source, and a random field.\n",
        "# The title and the source are added to the index as separate fields, but the random value is ignored because it's not defined in the schema.\n",
        "# The random field is only stored in the metadata field.\n",
        "vector_store.add_texts(\n",
        "    [\"Test 1\", \"Test 2\", \"Test 3\"],\n",
        "    [\n",
        "        {\"title\": \"Title 1\", \"source\": \"A\", \"random\": \"10290\"},\n",
        "        {\"title\": \"Title 2\", \"source\": \"A\", \"random\": \"48392\"},\n",
        "        {\"title\": \"Title 3\", \"source\": \"B\", \"random\": \"32893\"},\n",
        "    ],\n",
        ")"
      ]
    },
    {
      "cell_type": "code",
      "execution_count": 17,
      "metadata": {},
      "outputs": [
        {
          "data": {
            "text/plain": [
              "[Document(page_content='Test 3', metadata={'title': 'Title 3', 'source': 'B', 'random': '32893'}),\n",
              " Document(page_content='Test 1', metadata={'title': 'Title 1', 'source': 'A', 'random': '10290'}),\n",
              " Document(page_content='Test 2', metadata={'title': 'Title 2', 'source': 'A', 'random': '48392'})]"
            ]
          },
          "execution_count": 17,
          "metadata": {},
          "output_type": "execute_result"
        }
      ],
      "source": [
        "res = vector_store.similarity_search(query=\"Test 3 source1\", k=3, search_type=\"hybrid\")\n",
        "res"
      ]
    },
    {
      "cell_type": "code",
      "execution_count": 18,
      "metadata": {},
      "outputs": [
        {
          "data": {
            "text/plain": [
              "[Document(page_content='Test 1', metadata={'title': 'Title 1', 'source': 'A', 'random': '10290'}),\n",
              " Document(page_content='Test 2', metadata={'title': 'Title 2', 'source': 'A', 'random': '48392'})]"
            ]
          },
          "execution_count": 18,
          "metadata": {},
          "output_type": "execute_result"
        }
      ],
      "source": [
        "res = vector_store.similarity_search(\n",
        "    query=\"Test 3 source1\", k=3, search_type=\"hybrid\", filters=\"source eq 'A'\"\n",
        ")\n",
        "res"
      ]
    },
    {
      "cell_type": "markdown",
      "metadata": {},
      "source": [
        "### 创建一个带评分配置的新索引\n\n这是另一个自定义模式，其中包含一个评分配置定义。评分配置用于非向量内容的智能调优，这在混合搜索场景中非常有用。"
      ]
    },
    {
      "cell_type": "code",
      "execution_count": 19,
      "metadata": {},
      "outputs": [],
      "source": [
        "from azure.search.documents.indexes.models import (\n",
        "    FreshnessScoringFunction,\n",
        "    FreshnessScoringParameters,\n",
        "    ScoringProfile,\n",
        "    SearchableField,\n",
        "    SearchField,\n",
        "    SearchFieldDataType,\n",
        "    SimpleField,\n",
        "    TextWeights,\n",
        ")\n",
        "\n",
        "#  Replace OpenAIEmbeddings with AzureOpenAIEmbeddings if Azure OpenAI is your provider.\n",
        "embeddings: OpenAIEmbeddings = OpenAIEmbeddings(\n",
        "    openai_api_key=openai_api_key, openai_api_version=openai_api_version, model=model\n",
        ")\n",
        "embedding_function = embeddings.embed_query\n",
        "\n",
        "fields = [\n",
        "    SimpleField(\n",
        "        name=\"id\",\n",
        "        type=SearchFieldDataType.String,\n",
        "        key=True,\n",
        "        filterable=True,\n",
        "    ),\n",
        "    SearchableField(\n",
        "        name=\"content\",\n",
        "        type=SearchFieldDataType.String,\n",
        "        searchable=True,\n",
        "    ),\n",
        "    SearchField(\n",
        "        name=\"content_vector\",\n",
        "        type=SearchFieldDataType.Collection(SearchFieldDataType.Single),\n",
        "        searchable=True,\n",
        "        vector_search_dimensions=len(embedding_function(\"Text\")),\n",
        "        vector_search_profile_name=\"myHnswProfile\",\n",
        "    ),\n",
        "    SearchableField(\n",
        "        name=\"metadata\",\n",
        "        type=SearchFieldDataType.String,\n",
        "        searchable=True,\n",
        "    ),\n",
        "    # Additional field to store the title\n",
        "    SearchableField(\n",
        "        name=\"title\",\n",
        "        type=SearchFieldDataType.String,\n",
        "        searchable=True,\n",
        "    ),\n",
        "    # Additional field for filtering on document source\n",
        "    SimpleField(\n",
        "        name=\"source\",\n",
        "        type=SearchFieldDataType.String,\n",
        "        filterable=True,\n",
        "    ),\n",
        "    # Additional data field for last doc update\n",
        "    SimpleField(\n",
        "        name=\"last_update\",\n",
        "        type=SearchFieldDataType.DateTimeOffset,\n",
        "        searchable=True,\n",
        "        filterable=True,\n",
        "    ),\n",
        "]\n",
        "# Adding a custom scoring profile with a freshness function\n",
        "sc_name = \"scoring_profile\"\n",
        "sc = ScoringProfile(\n",
        "    name=sc_name,\n",
        "    text_weights=TextWeights(weights={\"title\": 5}),\n",
        "    function_aggregation=\"sum\",\n",
        "    functions=[\n",
        "        FreshnessScoringFunction(\n",
        "            field_name=\"last_update\",\n",
        "            boost=100,\n",
        "            parameters=FreshnessScoringParameters(boosting_duration=\"P2D\"),\n",
        "            interpolation=\"linear\",\n",
        "        )\n",
        "    ],\n",
        ")\n",
        "\n",
        "index_name = \"langchain-vector-demo-custom-scoring-profile\"\n",
        "\n",
        "vector_store: AzureSearch = AzureSearch(\n",
        "    azure_search_endpoint=vector_store_address,\n",
        "    azure_search_key=vector_store_password,\n",
        "    index_name=index_name,\n",
        "    embedding_function=embeddings.embed_query,\n",
        "    fields=fields,\n",
        "    scoring_profiles=[sc],\n",
        "    default_scoring_profile=sc_name,\n",
        ")"
      ]
    },
    {
      "cell_type": "code",
      "execution_count": 20,
      "metadata": {},
      "outputs": [
        {
          "data": {
            "text/plain": [
              "['NjUwNGQ5ZDUtMGVmMy00OGM4LWIxMGYtY2Y2MDFmMTQ0MjE5',\n",
              " 'NWFjN2YwY2UtOWQ4Yi00OTNhLTg2MGEtOWE0NGViZTVjOGRh',\n",
              " 'N2Y2NWUyZjctMDBjZC00OGY4LWJlZDEtNTcxYjQ1MmI1NjYx']"
            ]
          },
          "execution_count": 20,
          "metadata": {},
          "output_type": "execute_result"
        }
      ],
      "source": [
        "# Adding same data with different last_update to show Scoring Profile effect\n",
        "from datetime import datetime, timedelta\n",
        "\n",
        "today = datetime.utcnow().strftime(\"%Y-%m-%dT%H:%M:%S-00:00\")\n",
        "yesterday = (datetime.utcnow() - timedelta(days=1)).strftime(\"%Y-%m-%dT%H:%M:%S-00:00\")\n",
        "one_month_ago = (datetime.utcnow() - timedelta(days=30)).strftime(\n",
        "    \"%Y-%m-%dT%H:%M:%S-00:00\"\n",
        ")\n",
        "\n",
        "vector_store.add_texts(\n",
        "    [\"Test 1\", \"Test 1\", \"Test 1\"],\n",
        "    [\n",
        "        {\n",
        "            \"title\": \"Title 1\",\n",
        "            \"source\": \"source1\",\n",
        "            \"random\": \"10290\",\n",
        "            \"last_update\": today,\n",
        "        },\n",
        "        {\n",
        "            \"title\": \"Title 1\",\n",
        "            \"source\": \"source1\",\n",
        "            \"random\": \"48392\",\n",
        "            \"last_update\": yesterday,\n",
        "        },\n",
        "        {\n",
        "            \"title\": \"Title 1\",\n",
        "            \"source\": \"source1\",\n",
        "            \"random\": \"32893\",\n",
        "            \"last_update\": one_month_ago,\n",
        "        },\n",
        "    ],\n",
        ")"
      ]
    },
    {
      "cell_type": "code",
      "execution_count": 21,
      "metadata": {},
      "outputs": [
        {
          "data": {
            "text/plain": [
              "[Document(page_content='Test 1', metadata={'title': 'Title 1', 'source': 'source1', 'random': '32893', 'last_update': '2024-01-24T22:18:51-00:00'}),\n",
              " Document(page_content='Test 1', metadata={'title': 'Title 1', 'source': 'source1', 'random': '48392', 'last_update': '2024-02-22T22:18:51-00:00'}),\n",
              " Document(page_content='Test 1', metadata={'title': 'Title 1', 'source': 'source1', 'random': '10290', 'last_update': '2024-02-23T22:18:51-00:00'})]"
            ]
          },
          "execution_count": 21,
          "metadata": {},
          "output_type": "execute_result"
        }
      ],
      "source": [
        "res = vector_store.similarity_search(query=\"Test 1\", k=3, search_type=\"similarity\")\n",
        "res"
      ]
    }
  ],
  "metadata": {
    "kernelspec": {
      "display_name": "Python 3.9.13 ('.venv': venv)",
      "language": "python",
      "name": "python3"
    },
    "language_info": {
      "codemirror_mode": {
        "name": "ipython",
        "version": 3
      },
      "file_extension": ".py",
      "mimetype": "text/x-python",
      "name": "python",
      "nbconvert_exporter": "python",
      "pygments_lexer": "ipython3",
      "version": "3.11.7"
    },
    "vscode": {
      "interpreter": {
        "hash": "645053d6307d413a1a75681b5ebb6449bb2babba4bcb0bf65a1ddc3dbefb108a"
      }
    }
  },
  "nbformat": 4,
  "nbformat_minor": 2
}