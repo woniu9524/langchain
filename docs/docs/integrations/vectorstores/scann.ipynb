{
  "cells": [
    {
      "cell_type": "markdown",
      "id": "e4afbbb6",
      "metadata": {},
      "source": [
        "# ScaNN\n\nScaNN (Scalable Nearest Neighbors) 是一种用于大规模高效向量相似性搜索的方法。\n\nScaNN 包括用于最大内积搜索的搜索空间剪枝和量化，同时也支持欧氏距离等其他距离函数。该实现针对支持 AVX2 的 x86 处理器进行了优化。更多详情请参见其 [Google Research github](https://github.com/google-research/google-research/tree/master/scann)。\n\n您需要安装 `langchain-community` 才能使用此集成，请运行 `pip install -qU langchain-community`。"
      ]
    },
    {
      "cell_type": "markdown",
      "id": "082f593e",
      "metadata": {},
      "source": [
        "## 安装\n\n通过 pip 安装 ScaNN。或者，您可以遵循 [ScaNN 网站](https://github.com/google-research/google-research/tree/master/scann#building-from-source) 上的说明从源代码进行安装。"
      ]
    },
    {
      "cell_type": "code",
      "execution_count": null,
      "id": "a35e4f09",
      "metadata": {},
      "outputs": [],
      "source": [
        "%pip install --upgrade --quiet  scann"
      ]
    },
    {
      "cell_type": "markdown",
      "id": "44bf38a8",
      "metadata": {},
      "source": [
        "##检索演示\n\n下面我们展示如何将 ScaNN 与 Huggingface Embeddings 结合使用。"
      ]
    },
    {
      "cell_type": "code",
      "execution_count": null,
      "id": "377bc723",
      "metadata": {},
      "outputs": [],
      "source": [
        "from langchain_community.document_loaders import TextLoader\n",
        "from langchain_community.vectorstores import ScaNN\n",
        "from langchain_huggingface import HuggingFaceEmbeddings\n",
        "from langchain_text_splitters import CharacterTextSplitter\n",
        "\n",
        "loader = TextLoader(\"state_of_the_union.txt\")\n",
        "documents = loader.load()\n",
        "text_splitter = CharacterTextSplitter(chunk_size=1000, chunk_overlap=0)\n",
        "docs = text_splitter.split_documents(documents)\n",
        "\n",
        "\n",
        "model_name = \"sentence-transformers/all-mpnet-base-v2\"\n",
        "embeddings = HuggingFaceEmbeddings(model_name=model_name)\n",
        "\n",
        "db = ScaNN.from_documents(docs, embeddings)\n",
        "query = \"What did the president say about Ketanji Brown Jackson\"\n",
        "docs = db.similarity_search(query)\n",
        "\n",
        "docs[0]"
      ]
    },
    {
      "cell_type": "markdown",
      "id": "9ad5b151",
      "metadata": {},
      "source": [
        "## RetrievalQA 演示\n\n接下来，我们将演示如何结合使用 ScaNN 和 Google PaLM API。\n\n您可以从 https://developers.generativeai.google/tutorials/setup 获取 API 密钥。"
      ]
    },
    {
      "cell_type": "code",
      "execution_count": null,
      "id": "fc27ad51",
      "metadata": {},
      "outputs": [],
      "source": [
        "from langchain.chains import RetrievalQA\n",
        "from langchain_community.chat_models.google_palm import ChatGooglePalm\n",
        "\n",
        "palm_client = ChatGooglePalm(google_api_key=\"YOUR_GOOGLE_PALM_API_KEY\")\n",
        "\n",
        "qa = RetrievalQA.from_chain_type(\n",
        "    llm=palm_client,\n",
        "    chain_type=\"stuff\",\n",
        "    retriever=db.as_retriever(search_kwargs={\"k\": 10}),\n",
        ")"
      ]
    },
    {
      "cell_type": "code",
      "execution_count": 10,
      "id": "5b77f919",
      "metadata": {},
      "outputs": [
        {
          "name": "stdout",
          "output_type": "stream",
          "text": [
            "The president said that Ketanji Brown Jackson is one of our nation's top legal minds, who will continue Justice Breyer's legacy of excellence.\n"
          ]
        }
      ],
      "source": [
        "print(qa.run(\"What did the president say about Ketanji Brown Jackson?\"))"
      ]
    },
    {
      "cell_type": "code",
      "execution_count": 11,
      "id": "0c6deec6",
      "metadata": {},
      "outputs": [
        {
          "name": "stdout",
          "output_type": "stream",
          "text": [
            "The president did not mention Michael Phelps in his speech.\n"
          ]
        }
      ],
      "source": [
        "print(qa.run(\"What did the president say about Michael Phelps?\"))"
      ]
    },
    {
      "cell_type": "markdown",
      "id": "8a49f4a6",
      "metadata": {},
      "source": [
        "## 保存及加载本地检索索引"
      ]
    },
    {
      "cell_type": "code",
      "execution_count": 22,
      "id": "6b7496b9",
      "metadata": {},
      "outputs": [],
      "source": [
        "db.save_local(\"/tmp/db\", \"state_of_union\")\n",
        "restored_db = ScaNN.load_local(\"/tmp/db\", embeddings, index_name=\"state_of_union\")"
      ]
    }
  ],
  "metadata": {
    "kernelspec": {
      "display_name": "Python 3 (ipykernel)",
      "language": "python",
      "name": "python3"
    },
    "language_info": {
      "codemirror_mode": {
        "name": "ipython",
        "version": 3
      },
      "file_extension": ".py",
      "mimetype": "text/x-python",
      "name": "python",
      "nbconvert_exporter": "python",
      "pygments_lexer": "ipython3",
      "version": "3.10.12"
    }
  },
  "nbformat": 4,
  "nbformat_minor": 5
}