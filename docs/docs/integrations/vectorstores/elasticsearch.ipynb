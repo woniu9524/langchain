{
  "cells": [
    {
      "cell_type": "markdown",
      "id": "683953b3",
      "metadata": {
        "id": "683953b3"
      },
      "source": [
        "# Elasticsearch\n\n>[Elasticsearch](https://www.elastic.co/elasticsearch/) 是一个分布式的、RESTful 的搜索和分析引擎，能够同时执行向量搜索和词汇搜索。它构建在 Apache Lucene 库之上。\n\n本笔记展示了如何使用与 `Elasticsearch` 向量存储相关的功能。\n\n## 设置\n\n要使用 `Elasticsearch` 向量搜索，您必须安装 `langchain-elasticsearch` 包。"
      ]
    },
    {
      "cell_type": "code",
      "execution_count": null,
      "id": "e5bbffe2",
      "metadata": {},
      "outputs": [],
      "source": [
        "%pip install -qU langchain-elasticsearch"
      ]
    },
    {
      "cell_type": "markdown",
      "id": "b66c12b2-2a07-4136-ac77-ce1c9fa7a409",
      "metadata": {
        "id": "b66c12b2-2a07-4136-ac77-ce1c9fa7a409",
        "tags": []
      },
      "source": [
        "### 凭据"
      ]
    },
    {
      "cell_type": "markdown",
      "id": "81f43794-f002-477c-9b68-4975df30e718",
      "metadata": {
        "id": "81f43794-f002-477c-9b68-4975df30e718"
      },
      "source": [
        "有两种主要方法可以设置 Elasticsearch 实例以供配合使用：\n\n1.  Elastic Cloud：Elastic Cloud 是一项托管的 Elasticsearch 服务。注册即可获得[免费试用](https://cloud.elastic.co/registration?utm_source=langchain&utm_content=documentation)。\n\n    若要连接到不需要登录凭证的 Elasticsearch 实例（启动已启用安全性的 docker 实例），请将 Elasticsearch URL 和索引名称与嵌入对象一起传递给构造函数。\n\n2.  本地安装 Elasticsearch：通过在本地运行 Elasticsearch 来开始使用。最简单的方法是使用官方 Elasticsearch Docker 镜像。有关更多信息，请参阅[Elasticsearch Docker 文档](https://www.elastic.co/guide/en/elasticsearch/reference/current/docker.html)。\n\n### 通过 Docker 运行 Elasticsearch\n示例：运行一个禁用了安全性的单节点 Elasticsearch 实例。不建议在生产环境中使用。"
      ]
    },
    {
      "cell_type": "code",
      "execution_count": null,
      "id": "22942b0c",
      "metadata": {},
      "outputs": [],
      "source": [
        "%docker run -p 9200:9200 -e \"discovery.type=single-node\" -e \"xpack.security.enabled=false\" -e \"xpack.security.http.ssl.enabled=false\" docker.elastic.co/elasticsearch/elasticsearch:8.12.1"
      ]
    },
    {
      "cell_type": "markdown",
      "id": "42e3846d",
      "metadata": {},
      "source": [
        "### 启用认证运行\n为了生产环境的运行安全，我们建议启用安全设置。您可以使用 `es_api_key` 或 `es_user` 和 `es_password` 参数来连接并提供登录凭证。\n\nimport EmbeddingTabs from \"@theme/EmbeddingTabs\";\n\n<EmbeddingTabs/>"
      ]
    },
    {
      "cell_type": "code",
      "execution_count": 1,
      "id": "91399482",
      "metadata": {},
      "outputs": [],
      "source": [
        "# | output: false\n",
        "# | echo: false\n",
        "from langchain_openai import OpenAIEmbeddings\n",
        "\n",
        "embeddings = OpenAIEmbeddings(model=\"text-embedding-3-large\")"
      ]
    },
    {
      "cell_type": "code",
      "execution_count": 4,
      "id": "3fa3cffa",
      "metadata": {},
      "outputs": [],
      "source": [
        "from langchain_elasticsearch import ElasticsearchStore\n",
        "\n",
        "elastic_vector_search = ElasticsearchStore(\n",
        "    es_url=\"http://localhost:9200\",\n",
        "    index_name=\"langchain_index\",\n",
        "    embedding=embeddings,\n",
        "    es_user=\"elastic\",\n",
        "    es_password=\"changeme\",\n",
        ")"
      ]
    },
    {
      "cell_type": "markdown",
      "id": "4d1fa432",
      "metadata": {},
      "source": [
        "#### 如何获取默认“elastic”用户的密码？\n\n要获取默认“elastic”用户的 Elastic Cloud 密码：\n1. 登录 Elastic Cloud 控制台 https://cloud.elastic.co\n2. 转到“Security”>“Users”\n3. 找到“elastic”用户并点击“Edit”\n4. 点击“Reset password”\n5. 按照提示重置密码\n\n#### 如何获取 API 密钥？\n\n要获取 API 密钥：\n1. 登录 Elastic Cloud 控制台 https://cloud.elastic.co\n2. 打开 Kibana 并转到 Stack Management > API Keys\n3. 点击“Create API key”\n4. 输入 API 密钥的名称并点击“Create”\n5. 复制 API 密钥并将其粘贴到 `api_key` 参数中\n\n### Elastic Cloud\n\n要连接到 Elastic Cloud 上的 Elasticsearch 实例，您可以使用 `es_cloud_id` 参数或 `es_url`。"
      ]
    },
    {
      "cell_type": "code",
      "execution_count": null,
      "id": "9a0cb623",
      "metadata": {},
      "outputs": [],
      "source": [
        "elastic_vector_search = ElasticsearchStore(\n",
        "    es_cloud_id=\"<cloud_id>\",\n",
        "    index_name=\"test_index\",\n",
        "    embedding=embeddings,\n",
        "    es_user=\"elastic\",\n",
        "    es_password=\"changeme\",\n",
        ")"
      ]
    },
    {
      "cell_type": "markdown",
      "id": "406eefe8",
      "metadata": {},
      "source": [
        "如果你想获得一流的模型调用自动化追踪，你也可以通过取消下面一行的注释来设置你的 [LangSmith](https://docs.smith.langchain.com/) API 密钥："
      ]
    },
    {
      "cell_type": "code",
      "execution_count": null,
      "id": "b109bf1a",
      "metadata": {},
      "outputs": [],
      "source": [
        "# os.environ[\"LANGSMITH_API_KEY\"] = getpass.getpass(\"Enter your LangSmith API key: \")\n",
        "# os.environ[\"LANGSMITH_TRACING\"] = \"true\""
      ]
    },
    {
      "cell_type": "markdown",
      "id": "f6030187-0bd7-4798-8372-a265036af5e0",
      "metadata": {
        "id": "f6030187-0bd7-4798-8372-a265036af5e0",
        "tags": []
      },
      "source": [
        "## 初始化\n\nElasticsearch 在本地 localhost:9200 上运行，使用了 [Docker](#running-elasticsearch-via-docker)。有关如何从 Elastic Cloud 连接到 Elasticsearch 的更多详细信息，请参阅上面的 [带身份验证的运行](#running-with-authentication)。"
      ]
    },
    {
      "cell_type": "code",
      "execution_count": 6,
      "id": "aac9563e",
      "metadata": {
        "id": "aac9563e",
        "tags": []
      },
      "outputs": [],
      "source": [
        "from langchain_elasticsearch import ElasticsearchStore\n",
        "\n",
        "vector_store = ElasticsearchStore(\n",
        "    \"langchain-demo\", embedding=embeddings, es_url=\"http://localhost:9201\"\n",
        ")"
      ]
    },
    {
      "cell_type": "markdown",
      "id": "eede246c",
      "metadata": {},
      "source": [
        "## 管理向量存储\n\n### 向向量存储添加条目"
      ]
    },
    {
      "cell_type": "code",
      "execution_count": 7,
      "id": "12eb86d8",
      "metadata": {
        "id": "12eb86d8",
        "tags": []
      },
      "outputs": [
        {
          "data": {
            "text/plain": [
              "['21cca03c-9089-42d2-b41c-3d156be2b519',\n",
              " 'a6ceb967-b552-4802-bb06-c0e95fce386e',\n",
              " '3a35fac4-e5f0-493b-bee0-9143b41aedae',\n",
              " '176da099-66b1-4d6a-811b-dfdfe0808d30',\n",
              " 'ecfa1a30-3c97-408b-80c0-5c43d68bf5ff',\n",
              " 'c0f08baa-e70b-4f83-b387-c6e0a0f36f73',\n",
              " '489b2c9c-1925-43e1-bcf0-0fa94cf1cbc4',\n",
              " '408c6503-9ba4-49fd-b1cc-95584cd914c5',\n",
              " '5248c899-16d5-4377-a9e9-736ca443ad4f',\n",
              " 'ca182769-c4fc-4e25-8f0a-8dd0a525955c']"
            ]
          },
          "execution_count": 7,
          "metadata": {},
          "output_type": "execute_result"
        }
      ],
      "source": [
        "from uuid import uuid4\n",
        "\n",
        "from langchain_core.documents import Document\n",
        "\n",
        "document_1 = Document(\n",
        "    page_content=\"I had chocolate chip pancakes and scrambled eggs for breakfast this morning.\",\n",
        "    metadata={\"source\": \"tweet\"},\n",
        ")\n",
        "\n",
        "document_2 = Document(\n",
        "    page_content=\"The weather forecast for tomorrow is cloudy and overcast, with a high of 62 degrees.\",\n",
        "    metadata={\"source\": \"news\"},\n",
        ")\n",
        "\n",
        "document_3 = Document(\n",
        "    page_content=\"Building an exciting new project with LangChain - come check it out!\",\n",
        "    metadata={\"source\": \"tweet\"},\n",
        ")\n",
        "\n",
        "document_4 = Document(\n",
        "    page_content=\"Robbers broke into the city bank and stole $1 million in cash.\",\n",
        "    metadata={\"source\": \"news\"},\n",
        ")\n",
        "\n",
        "document_5 = Document(\n",
        "    page_content=\"Wow! That was an amazing movie. I can't wait to see it again.\",\n",
        "    metadata={\"source\": \"tweet\"},\n",
        ")\n",
        "\n",
        "document_6 = Document(\n",
        "    page_content=\"Is the new iPhone worth the price? Read this review to find out.\",\n",
        "    metadata={\"source\": \"website\"},\n",
        ")\n",
        "\n",
        "document_7 = Document(\n",
        "    page_content=\"The top 10 soccer players in the world right now.\",\n",
        "    metadata={\"source\": \"website\"},\n",
        ")\n",
        "\n",
        "document_8 = Document(\n",
        "    page_content=\"LangGraph is the best framework for building stateful, agentic applications!\",\n",
        "    metadata={\"source\": \"tweet\"},\n",
        ")\n",
        "\n",
        "document_9 = Document(\n",
        "    page_content=\"The stock market is down 500 points today due to fears of a recession.\",\n",
        "    metadata={\"source\": \"news\"},\n",
        ")\n",
        "\n",
        "document_10 = Document(\n",
        "    page_content=\"I have a bad feeling I am going to get deleted :(\",\n",
        "    metadata={\"source\": \"tweet\"},\n",
        ")\n",
        "\n",
        "documents = [\n",
        "    document_1,\n",
        "    document_2,\n",
        "    document_3,\n",
        "    document_4,\n",
        "    document_5,\n",
        "    document_6,\n",
        "    document_7,\n",
        "    document_8,\n",
        "    document_9,\n",
        "    document_10,\n",
        "]\n",
        "uuids = [str(uuid4()) for _ in range(len(documents))]\n",
        "\n",
        "vector_store.add_documents(documents=documents, ids=uuids)"
      ]
    },
    {
      "cell_type": "markdown",
      "id": "2a549e3d",
      "metadata": {},
      "source": [
        "### 从向量库中删除条目"
      ]
    },
    {
      "cell_type": "code",
      "execution_count": 8,
      "id": "31c3b785",
      "metadata": {},
      "outputs": [
        {
          "data": {
            "text/plain": [
              "True"
            ]
          },
          "execution_count": 8,
          "metadata": {},
          "output_type": "execute_result"
        }
      ],
      "source": [
        "vector_store.delete(ids=[uuids[-1]])"
      ]
    },
    {
      "cell_type": "markdown",
      "id": "674bcab2",
      "metadata": {},
      "source": [
        "## 查询向量存储\n\n创建向量存储并将相关文档添加进去后，您很可能希望在链或代理运行时查询它。这些示例还展示了如何在搜索时使用过滤。\n\n### 直接查询\n\n#### 相似性搜索\n\n可以按以下方式执行带有元数据过滤的简单相似性搜索："
      ]
    },
    {
      "cell_type": "code",
      "execution_count": 10,
      "id": "da079ceb",
      "metadata": {},
      "outputs": [
        {
          "name": "stdout",
          "output_type": "stream",
          "text": [
            "* Building an exciting new project with LangChain - come check it out! [{'source': 'tweet'}]\n",
            "* LangGraph is the best framework for building stateful, agentic applications! [{'source': 'tweet'}]\n"
          ]
        }
      ],
      "source": [
        "results = vector_store.similarity_search(\n",
        "    query=\"LangChain provides abstractions to make working with LLMs easy\",\n",
        "    k=2,\n",
        "    filter=[{\"term\": {\"metadata.source.keyword\": \"tweet\"}}],\n",
        ")\n",
        "for res in results:\n",
        "    print(f\"* {res.page_content} [{res.metadata}]\")"
      ]
    },
    {
      "cell_type": "markdown",
      "id": "a0fda72e",
      "metadata": {},
      "source": [
        "#### 相似性搜索与评分\n\n如果你想执行相似性搜索并获得相应的评分，可以运行："
      ]
    },
    {
      "cell_type": "code",
      "execution_count": 11,
      "id": "1013c9e8",
      "metadata": {},
      "outputs": [
        {
          "name": "stdout",
          "output_type": "stream",
          "text": [
            "* [SIM=0.765887] The weather forecast for tomorrow is cloudy and overcast, with a high of 62 degrees. [{'source': 'news'}]\n"
          ]
        }
      ],
      "source": [
        "results = vector_store.similarity_search_with_score(\n",
        "    query=\"Will it be hot tomorrow\",\n",
        "    k=1,\n",
        "    filter=[{\"term\": {\"metadata.source.keyword\": \"news\"}}],\n",
        ")\n",
        "for doc, score in results:\n",
        "    print(f\"* [SIM={score:3f}] {doc.page_content} [{doc.metadata}]\")"
      ]
    },
    {
      "cell_type": "markdown",
      "id": "8f2c7b5c",
      "metadata": {},
      "source": [
        "### 查询并转换为检索器\n\n您还可以将向量存储转换为检索器，以便在链中使用更加方便。"
      ]
    },
    {
      "cell_type": "code",
      "execution_count": 12,
      "id": "2db8b6a5",
      "metadata": {},
      "outputs": [
        {
          "data": {
            "text/plain": [
              "[Document(metadata={'source': 'news'}, page_content='Robbers broke into the city bank and stole $1 million in cash.'),\n",
              " Document(metadata={'source': 'news'}, page_content='The stock market is down 500 points today due to fears of a recession.'),\n",
              " Document(metadata={'source': 'website'}, page_content='Is the new iPhone worth the price? Read this review to find out.'),\n",
              " Document(metadata={'source': 'tweet'}, page_content='Building an exciting new project with LangChain - come check it out!')]"
            ]
          },
          "execution_count": 12,
          "metadata": {},
          "output_type": "execute_result"
        }
      ],
      "source": [
        "retriever = vector_store.as_retriever(\n",
        "    search_type=\"similarity_score_threshold\", search_kwargs={\"score_threshold\": 0.2}\n",
        ")\n",
        "retriever.invoke(\"Stealing from the bank is a crime\")"
      ]
    },
    {
      "cell_type": "markdown",
      "id": "5828dda5",
      "metadata": {},
      "source": [
        "## 距离相似性算法\n\nElasticsearch 支持以下向量距离相似性算法：\n\n- cosine\n- euclidean\n- dot_product\n\ncosine 相似性算法是默认的。\n\n您可以通过 `similarity` 参数指定所需的相似性算法。\n\n**注意**：根据检索策略的不同，相似性算法在查询时无法更改。它需要在为字段创建索引映射时进行设置。如果需要更改相似性算法，您需要删除索引并使用正确的 `distance_strategy` 重新创建它。"
      ]
    },
    {
      "cell_type": "code",
      "execution_count": null,
      "id": "cec8b2ac",
      "metadata": {},
      "outputs": [],
      "source": [
        "db = ElasticsearchStore.from_documents(\n",
        "    docs,\n",
        "    embeddings,\n",
        "    es_url=\"http://localhost:9200\",\n",
        "    index_name=\"test\",\n",
        "    distance_strategy=\"COSINE\",\n",
        "    # distance_strategy=\"EUCLIDEAN_DISTANCE\"\n",
        "    # distance_strategy=\"DOT_PRODUCT\"\n",
        ")"
      ]
    },
    {
      "cell_type": "markdown",
      "id": "0c9fb8a0",
      "metadata": {},
      "source": [
        "## 检索策略\n\nElasticsearch 在支持广泛的检索策略方面，相对于其他仅支持向量的数据库具有巨大的优势。在本 Notebook 中，我们将配置 `ElasticsearchStore` 来支持一些最常见的检索策略。\n\n默认情况下，`ElasticsearchStore` 使用 `DenseVectorStrategy`（在 0.2.0 版本之前称为 `ApproxRetrievalStrategy`）。\n\n### DenseVectorStrategy\n\n这将返回与查询向量最相似的前 k 个向量。`k` 参数在初始化 `ElasticsearchStore` 时设置。默认值为 10。"
      ]
    },
    {
      "cell_type": "code",
      "execution_count": null,
      "id": "4d59a493",
      "metadata": {},
      "outputs": [],
      "source": [
        "from langchain_elasticsearch import DenseVectorStrategy\n",
        "\n",
        "db = ElasticsearchStore.from_documents(\n",
        "    docs,\n",
        "    embeddings,\n",
        "    es_url=\"http://localhost:9200\",\n",
        "    index_name=\"test\",\n",
        "    strategy=DenseVectorStrategy(),\n",
        ")\n",
        "\n",
        "docs = db.similarity_search(\n",
        "    query=\"What did the president say about Ketanji Brown Jackson?\", k=10\n",
        ")"
      ]
    },
    {
      "cell_type": "markdown",
      "id": "0cf5d3d2",
      "metadata": {},
      "source": [
        "#### 示例：密集向量和关键字搜索的混合检索\n\n本示例将展示如何配置 ElasticsearchStore 以执行混合检索，结合使用近似语义搜索和基于关键字的搜索。\n\n我们使用 RRF 来平衡来自不同检索方法的两个分数。\n\n要启用混合检索，我们需要在 `DenseVectorStrategy` 构造函数中设置 `hybrid=True`。"
      ]
    },
    {
      "cell_type": "code",
      "execution_count": null,
      "id": "109f992a",
      "metadata": {},
      "outputs": [],
      "source": [
        "db = ElasticsearchStore.from_documents(\n",
        "    docs,\n",
        "    embeddings,\n",
        "    es_url=\"http://localhost:9200\",\n",
        "    index_name=\"test\",\n",
        "    strategy=DenseVectorStrategy(hybrid=True),\n",
        ")"
      ]
    },
    {
      "cell_type": "markdown",
      "id": "b6e62ef0",
      "metadata": {},
      "source": [
        "当启用混合模式后，执行的查询将是近似语义搜索和基于关键字的搜索的组合。\n\n它将使用 rrf（Reciprocal Rank Fusion）来平衡来自不同检索方法的两个分数。\n\n**注意**：RRF 要求 Elasticsearch 8.9.0 或更高版本。"
      ]
    },
    {
      "cell_type": "code",
      "execution_count": null,
      "id": "9c07444e",
      "metadata": {},
      "outputs": [],
      "source": [
        "{\n",
        "    \"retriever\": {\n",
        "        \"rrf\": {\n",
        "            \"retrievers\": [\n",
        "                {\n",
        "                    \"standard\": {\n",
        "                        \"query\": {\n",
        "                            \"bool\": {\n",
        "                                \"filter\": [],\n",
        "                                \"must\": [{\"match\": {\"text\": {\"query\": \"foo\"}}}],\n",
        "                            }\n",
        "                        },\n",
        "                    },\n",
        "                },\n",
        "                {\n",
        "                    \"knn\": {\n",
        "                        \"field\": \"vector\",\n",
        "                        \"filter\": [],\n",
        "                        \"k\": 1,\n",
        "                        \"num_candidates\": 50,\n",
        "                        \"query_vector\": [1.0, ..., 0.0],\n",
        "                    },\n",
        "                },\n",
        "            ]\n",
        "        }\n",
        "    }\n",
        "}"
      ]
    },
    {
      "cell_type": "markdown",
      "id": "2822fbf7",
      "metadata": {},
      "source": [
        "#### 示例：在 Elasticsearch 中使用 Embedding Model 进行密集向量搜索\n\n本示例将展示如何配置 `ElasticsearchStore` 以在 Elasticsearch 中使用已部署的嵌入模型进行密集向量检索。\n\n要使用此功能，请通过 `query_model_id` 参数在 `DenseVectorStrategy` 构造函数中指定 `model_id`。\n\n**注意**: 这要求模型已部署并在 Elasticsearch ML 节点上运行。有关如何使用 `eland` 部署模型的说明，请参阅 [笔记本示例](https://github.com/elastic/elasticsearch-labs/blob/main/notebooks/integrations/hugging-face/loading-model-from-hugging-face.ipynb)。"
      ]
    },
    {
      "cell_type": "code",
      "execution_count": null,
      "id": "d97d9db4",
      "metadata": {},
      "outputs": [],
      "source": [
        "DENSE_SELF_DEPLOYED_INDEX_NAME = \"test-dense-self-deployed\"\n",
        "\n",
        "# Note: This does not have an embedding function specified\n",
        "# Instead, we will use the embedding model deployed in Elasticsearch\n",
        "db = ElasticsearchStore(\n",
        "    es_cloud_id=\"<your cloud id>\",\n",
        "    es_user=\"elastic\",\n",
        "    es_password=\"<your password>\",\n",
        "    index_name=DENSE_SELF_DEPLOYED_INDEX_NAME,\n",
        "    query_field=\"text_field\",\n",
        "    vector_query_field=\"vector_query_field.predicted_value\",\n",
        "    strategy=DenseVectorStrategy(model_id=\"sentence-transformers__all-minilm-l6-v2\"),\n",
        ")\n",
        "\n",
        "# Setup a Ingest Pipeline to perform the embedding\n",
        "# of the text field\n",
        "db.client.ingest.put_pipeline(\n",
        "    id=\"test_pipeline\",\n",
        "    processors=[\n",
        "        {\n",
        "            \"inference\": {\n",
        "                \"model_id\": \"sentence-transformers__all-minilm-l6-v2\",\n",
        "                \"field_map\": {\"query_field\": \"text_field\"},\n",
        "                \"target_field\": \"vector_query_field\",\n",
        "            }\n",
        "        }\n",
        "    ],\n",
        ")\n",
        "\n",
        "# creating a new index with the pipeline,\n",
        "# not relying on langchain to create the index\n",
        "db.client.indices.create(\n",
        "    index=DENSE_SELF_DEPLOYED_INDEX_NAME,\n",
        "    mappings={\n",
        "        \"properties\": {\n",
        "            \"text_field\": {\"type\": \"text\"},\n",
        "            \"vector_query_field\": {\n",
        "                \"properties\": {\n",
        "                    \"predicted_value\": {\n",
        "                        \"type\": \"dense_vector\",\n",
        "                        \"dims\": 384,\n",
        "                        \"index\": True,\n",
        "                        \"similarity\": \"l2_norm\",\n",
        "                    }\n",
        "                }\n",
        "            },\n",
        "        }\n",
        "    },\n",
        "    settings={\"index\": {\"default_pipeline\": \"test_pipeline\"}},\n",
        ")\n",
        "\n",
        "db.from_texts(\n",
        "    [\"hello world\"],\n",
        "    es_cloud_id=\"<cloud id>\",\n",
        "    es_user=\"elastic\",\n",
        "    es_password=\"<cloud password>\",\n",
        "    index_name=DENSE_SELF_DEPLOYED_INDEX_NAME,\n",
        "    query_field=\"text_field\",\n",
        "    vector_query_field=\"vector_query_field.predicted_value\",\n",
        "    strategy=DenseVectorStrategy(model_id=\"sentence-transformers__all-minilm-l6-v2\"),\n",
        ")\n",
        "\n",
        "# Perform search\n",
        "db.similarity_search(\"hello world\", k=10)"
      ]
    },
    {
      "cell_type": "markdown",
      "id": "b9651b01",
      "metadata": {},
      "source": [
        "### SparseVectorStrategy (ELSER)\n\n此策略使用 Elasticsearch 的稀疏向量检索来检索 top-k 结果。目前我们仅支持我们自己的“ELSER”嵌入模型。\n\n**注意**: 这要求 ELSER 模型已在 Elasticsearch ml 节点中部署并运行。\n\n要使用此策略，请在 `ElasticsearchStore` 构造函数中指定 `SparseVectorStrategy`（0.2.0 版本之前称为 `SparseVectorRetrievalStrategy`）。您需要提供模型 ID。"
      ]
    },
    {
      "cell_type": "code",
      "execution_count": null,
      "id": "c750ff57",
      "metadata": {},
      "outputs": [],
      "source": [
        "from langchain_elasticsearch import SparseVectorStrategy\n",
        "\n",
        "# Note that this example doesn't have an embedding function. This is because we infer the tokens at index time and at query time within Elasticsearch.\n",
        "# This requires the ELSER model to be loaded and running in Elasticsearch.\n",
        "db = ElasticsearchStore.from_documents(\n",
        "    docs,\n",
        "    es_cloud_id=\"<cloud id>\",\n",
        "    es_user=\"elastic\",\n",
        "    es_password=\"<cloud password>\",\n",
        "    index_name=\"test-elser\",\n",
        "    strategy=SparseVectorStrategy(model_id=\".elser_model_2\"),\n",
        ")\n",
        "\n",
        "db.client.indices.refresh(index=\"test-elser\")\n",
        "\n",
        "results = db.similarity_search(\n",
        "    \"What did the president say about Ketanji Brown Jackson\", k=4\n",
        ")\n",
        "print(results[0])"
      ]
    },
    {
      "cell_type": "markdown",
      "id": "416e224e",
      "metadata": {},
      "source": [
        "### DenseVectorScriptScoreStrategy\n\n此策略使用 Elasticsearch 的 script score 查询来执行精确向量检索（也称为暴力搜索），以检索 top-k 结果。（在 0.2.0 版本之前，此策略被称为 `ExactRetrievalStrategy`。）\n\n要使用此策略，请在 `ElasticsearchStore` 构造函数中指定 `DenseVectorScriptScoreStrategy`。"
      ]
    },
    {
      "cell_type": "code",
      "execution_count": null,
      "id": "ced32701",
      "metadata": {},
      "outputs": [],
      "source": [
        "from langchain_elasticsearch import SparseVectorStrategy\n",
        "\n",
        "db = ElasticsearchStore.from_documents(\n",
        "    docs,\n",
        "    embeddings,\n",
        "    es_url=\"http://localhost:9200\",\n",
        "    index_name=\"test\",\n",
        "    strategy=DenseVectorScriptScoreStrategy(),\n",
        ")"
      ]
    },
    {
      "cell_type": "markdown",
      "id": "92c9cc33",
      "metadata": {},
      "source": [
        "### BM25Strategy\n\n最后，您可以使用全文本关键词搜索。\n\n要使用此功能，请在 `ElasticsearchStore` 构造函数中指定 `BM25Strategy`。"
      ]
    },
    {
      "cell_type": "code",
      "execution_count": null,
      "id": "9fd59f69",
      "metadata": {},
      "outputs": [],
      "source": [
        "from langchain_elasticsearch import BM25Strategy\n",
        "\n",
        "db = ElasticsearchStore.from_documents(\n",
        "    docs,\n",
        "    es_url=\"http://localhost:9200\",\n",
        "    index_name=\"test\",\n",
        "    strategy=BM25Strategy(),\n",
        ")"
      ]
    },
    {
      "cell_type": "markdown",
      "id": "6556d3c6",
      "metadata": {},
      "source": [
        "### BM25RetrievalStrategy\n\n此策略允许用户执行纯 BM25 搜索，无需向量搜索。\n\n要使用此策略，请在 `ElasticsearchStore` 构造函数中指定 `BM25RetrievalStrategy`。\n\n请注意，在下面的示例中，没有指定 embedding 选项，这表明搜索是在不使用 embeddings 的情况下进行的。"
      ]
    },
    {
      "cell_type": "code",
      "execution_count": null,
      "id": "478af4bd",
      "metadata": {},
      "outputs": [],
      "source": [
        "from langchain_elasticsearch import ElasticsearchStore\n",
        "\n",
        "db = ElasticsearchStore(\n",
        "    es_url=\"http://localhost:9200\",\n",
        "    index_name=\"test_index\",\n",
        "    strategy=ElasticsearchStore.BM25RetrievalStrategy(),\n",
        ")\n",
        "\n",
        "db.add_texts(\n",
        "    [\"foo\", \"foo bar\", \"foo bar baz\", \"bar\", \"bar baz\", \"baz\"],\n",
        ")\n",
        "\n",
        "results = db.similarity_search(query=\"foo\", k=10)\n",
        "print(results)"
      ]
    },
    {
      "cell_type": "markdown",
      "id": "ed899034",
      "metadata": {},
      "source": [
        "## 自定义查询\n\n通过搜索中的 `custom_query` 参数，您可以调整用于从 Elasticsearch 检索文档的查询。如果您想使用更复杂的查询来支持字段的线性加权，这将非常有用。"
      ]
    },
    {
      "cell_type": "code",
      "execution_count": null,
      "id": "e0ab7c94",
      "metadata": {},
      "outputs": [],
      "source": [
        "# Example of a custom query thats just doing a BM25 search on the text field.\n",
        "def custom_query(query_body: dict, query: str):\n",
        "    \"\"\"Custom query to be used in Elasticsearch.\n",
        "    Args:\n",
        "        query_body (dict): Elasticsearch query body.\n",
        "        query (str): Query string.\n",
        "    Returns:\n",
        "        dict: Elasticsearch query body.\n",
        "    \"\"\"\n",
        "    print(\"Query Retriever created by the retrieval strategy:\")\n",
        "    print(query_body)\n",
        "    print()\n",
        "\n",
        "    new_query_body = {\"query\": {\"match\": {\"text\": query}}}\n",
        "\n",
        "    print(\"Query thats actually used in Elasticsearch:\")\n",
        "    print(new_query_body)\n",
        "    print()\n",
        "\n",
        "    return new_query_body\n",
        "\n",
        "\n",
        "results = db.similarity_search(\n",
        "    \"What did the president say about Ketanji Brown Jackson\",\n",
        "    k=4,\n",
        "    custom_query=custom_query,\n",
        ")\n",
        "print(\"Results:\")\n",
        "print(results[0])"
      ]
    },
    {
      "cell_type": "markdown",
      "id": "15ebbe22",
      "metadata": {},
      "source": [
        "## 自定义文档构建器\n\n通过搜索中的 `doc_builder` 参数，您可以调整使用从 ElasticSearch 检索的数据构建文档的方式。如果您拥有不是使用 Langchain 创建的索引，这将特别有用。"
      ]
    },
    {
      "cell_type": "code",
      "execution_count": null,
      "id": "4cf81750",
      "metadata": {},
      "outputs": [],
      "source": [
        "from typing import Dict\n",
        "\n",
        "from langchain_core.documents import Document\n",
        "\n",
        "\n",
        "def custom_document_builder(hit: Dict) -> Document:\n",
        "    src = hit.get(\"_source\", {})\n",
        "    return Document(\n",
        "        page_content=src.get(\"content\", \"Missing content!\"),\n",
        "        metadata={\n",
        "            \"page_number\": src.get(\"page_number\", -1),\n",
        "            \"original_filename\": src.get(\"original_filename\", \"Missing filename!\"),\n",
        "        },\n",
        "    )\n",
        "\n",
        "\n",
        "results = db.similarity_search(\n",
        "    \"What did the president say about Ketanji Brown Jackson\",\n",
        "    k=4,\n",
        "    doc_builder=custom_document_builder,\n",
        ")\n",
        "print(\"Results:\")\n",
        "print(results[0])"
      ]
    },
    {
      "cell_type": "markdown",
      "id": "17b509ae",
      "metadata": {},
      "source": [
        "## 用于检索增强生成的使用方法\n\n有关如何将此向量存储用于检索增强生成（RAG）的指南，请参阅以下部分：\n\n- [教程](/docs/tutorials/)\n- [操作指南：使用 RAG 进行问答](https://python.langchain.com/docs/how_to/#qa-with-rag)\n- [检索概念文档](https://python.langchain.com/docs/concepts/retrieval)"
      ]
    },
    {
      "cell_type": "markdown",
      "id": "3242fd42",
      "metadata": {},
      "source": [
        "# FAQ\n\n## 问题：在将文档索引到 Elasticsearch 时，我遇到了超时错误。如何解决？\n一个可能的原因是您的文档索引到 Elasticsearch 所需的时间较长。ElasticsearchStore 使用 Elasticsearch bulk API，该 API 具有一些默认设置，您可以进行调整以减少超时错误的发生几率。\n\n当您使用 SparseVectorRetrievalStrategy 时，这也是一个不错的选择。\n\n默认值如下：\n- `chunk_size`: 500\n- `max_chunk_bytes`: 100MB\n\n要调整这些设置，您可以将 `chunk_size` 和 `max_chunk_bytes` 参数传递给 ElasticsearchStore 的 `add_texts` 方法。\n\n```python\n    vector_store.add_texts(\n        texts,\n        bulk_kwargs={\n            \"chunk_size\": 50,\n            \"max_chunk_bytes\": 200000000\n        }\n    )\n```"
      ]
    },
    {
      "cell_type": "markdown",
      "id": "604c66ea",
      "metadata": {},
      "source": [
        "# 升级到 ElasticsearchStore\n\n如果你已经在基于 Langchain 的项目中使用了 Elasticsearch，你可能正在使用已弃用的旧实现：`ElasticVectorSearch` 和 `ElasticKNNSearch`。我们引入了一个名为 `ElasticsearchStore` 的新实现，它更灵活、更易于使用。本指南将引导你完成升级到新实现的过程。\n\n## 有什么新内容？\n\n新的实现现在合并为一个名为 `ElasticsearchStore` 的类，可以通过策略用于近似稠密向量、精确稠密向量、稀疏向量 (ELSER)、BM25 检索和混合检索。\n\n## 我正在使用 ElasticKNNSearch\n\n旧实现：\n\n```python\n\nfrom langchain_community.vectorstores.elastic_vector_search import ElasticKNNSearch\n\ndb = ElasticKNNSearch(\n  elasticsearch_url=\"http://localhost:9200\",\n  index_name=\"test_index\",\n  embedding=embedding\n)\n\n```\n\n新实现：\n\n```python\n\nfrom langchain_elasticsearch import ElasticsearchStore, DenseVectorStrategy\n\ndb = ElasticsearchStore(\n  es_url=\"http://localhost:9200\",\n  index_name=\"test_index\",\n  embedding=embedding,\n  # 如果你使用 model_id\n  # strategy=DenseVectorStrategy(model_id=\"test_model\")\n  # 如果你使用混合搜索\n  # strategy=DenseVectorStrategy(hybrid=True)\n)\n\n```\n\n## 我正在使用 ElasticVectorSearch\n\n旧实现：\n\n```python\n\nfrom langchain_community.vectorstores.elastic_vector_search import ElasticVectorSearch\n\ndb = ElasticVectorSearch(\n  elasticsearch_url=\"http://localhost:9200\",\n  index_name=\"test_index\",\n  embedding=embedding\n)\n\n```\n\n新实现：\n\n```python\n\nfrom langchain_elasticsearch import ElasticsearchStore, DenseVectorScriptScoreStrategy\n\ndb = ElasticsearchStore(\n  es_url=\"http://localhost:9200\",\n  index_name=\"test_index\",\n  embedding=embedding,\n  strategy=DenseVectorScriptScoreStrategy()\n)\n\n```\n\n```python\ndb.client.indices.delete(\n    index=\"test-metadata, test-elser, test-basic\",\n    ignore_unavailable=True,\n    allow_no_indices=True,\n)\n```"
      ]
    },
    {
      "cell_type": "markdown",
      "id": "33388871",
      "metadata": {},
      "source": [
        "## API 参考\n\n如需了解 `ElasticSearchStore` 所有功能和配置的详细文档，请参阅 API 参考：https://python.langchain.com/api_reference/elasticsearch/vectorstores/langchain_elasticsearch.vectorstores.ElasticsearchStore.html"
      ]
    }
  ],
  "metadata": {
    "colab": {
      "provenance": []
    },
    "kernelspec": {
      "display_name": "Python 3 (ipykernel)",
      "language": "python",
      "name": "python3"
    },
    "language_info": {
      "codemirror_mode": {
        "name": "ipython",
        "version": 3
      },
      "file_extension": ".py",
      "mimetype": "text/x-python",
      "name": "python",
      "nbconvert_exporter": "python",
      "pygments_lexer": "ipython3",
      "version": "3.11.9"
    }
  },
  "nbformat": 4,
  "nbformat_minor": 5
}