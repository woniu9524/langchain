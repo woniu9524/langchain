{
  "cells": [
    {
      "attachments": {},
      "cell_type": "markdown",
      "metadata": {},
      "source": [
        "# Epsilla\n\n>[Epsilla](https://www.epsilla.com) 是一个开源向量数据库，它利用先进的并行图遍历技术进行向量索引。Epsilla 的许可协议为 GPL-3.0。\n\n您需要安装 `langchain-community`（通过 `pip install -qU langchain-community`）才能使用此集成。\n\n本 Notebook 展示了如何使用与 `Epsilla` 向量数据库相关的功能。\n\n作为先决条件，您需要运行一个 Epsilla 向量数据库（例如，通过我们的 docker 镜像），并安装 `pyepsilla` 包。请访问 [文档](https://epsilla-inc.gitbook.io/epsilladb/quick-start) 查看完整文档。"
      ]
    },
    {
      "cell_type": "code",
      "execution_count": null,
      "metadata": {},
      "outputs": [],
      "source": [
        "!pip/pip3 install pyepsilla"
      ]
    },
    {
      "attachments": {},
      "cell_type": "markdown",
      "metadata": {},
      "source": [
        "我们想使用 OpenAIEmbeddings，所以我们需要获取 OpenAI API 密钥。"
      ]
    },
    {
      "cell_type": "code",
      "execution_count": null,
      "metadata": {},
      "outputs": [],
      "source": [
        "import getpass\n",
        "import os\n",
        "\n",
        "if \"OPENAI_API_KEY\" not in os.environ:\n",
        "    os.environ[\"OPENAI_API_KEY\"] = getpass.getpass(\"OpenAI API Key:\")"
      ]
    },
    {
      "attachments": {},
      "cell_type": "markdown",
      "metadata": {},
      "source": [
        "OpenAI API 密钥：········"
      ]
    },
    {
      "cell_type": "code",
      "execution_count": null,
      "metadata": {},
      "outputs": [],
      "source": [
        "from langchain_community.vectorstores import Epsilla\n",
        "from langchain_openai import OpenAIEmbeddings"
      ]
    },
    {
      "cell_type": "code",
      "execution_count": null,
      "metadata": {},
      "outputs": [],
      "source": [
        "from langchain_community.document_loaders import TextLoader\n",
        "from langchain_text_splitters import CharacterTextSplitter\n",
        "\n",
        "loader = TextLoader(\"../../how_to/state_of_the_union.txt\")\n",
        "documents = loader.load()\n",
        "\n",
        "documents = CharacterTextSplitter(chunk_size=1000, chunk_overlap=0).split_documents(\n",
        "    documents\n",
        ")\n",
        "\n",
        "embeddings = OpenAIEmbeddings()"
      ]
    },
    {
      "attachments": {},
      "cell_type": "markdown",
      "metadata": {},
      "source": [
        "Epsilla vectordb 正在以默认主机 \"localhost\" 和端口 \"8888\" 运行。我们使用了自定义的数据库路径、数据库名称和集合名称，而不是默认的。"
      ]
    },
    {
      "cell_type": "code",
      "execution_count": null,
      "metadata": {},
      "outputs": [],
      "source": [
        "from pyepsilla import vectordb\n",
        "\n",
        "client = vectordb.Client()\n",
        "vector_store = Epsilla.from_documents(\n",
        "    documents,\n",
        "    embeddings,\n",
        "    client,\n",
        "    db_path=\"/tmp/mypath\",\n",
        "    db_name=\"MyDB\",\n",
        "    collection_name=\"MyCollection\",\n",
        ")"
      ]
    },
    {
      "cell_type": "code",
      "execution_count": null,
      "metadata": {},
      "outputs": [],
      "source": [
        "query = \"What did the president say about Ketanji Brown Jackson\"\n",
        "docs = vector_store.similarity_search(query)\n",
        "print(docs[0].page_content)"
      ]
    },
    {
      "attachments": {},
      "cell_type": "markdown",
      "metadata": {},
      "source": [
        "在各州，新的法律不断通过，这些法律不仅是为了压制投票，更是为了颠覆整个选举。\n\n我们不能让这种事情发生。\n\n今晚，我呼吁参议院：通过《投票自由法案》。通过《约翰·刘易斯投票权法案》。另外，通过《披露法案》，让美国人民知道谁在资助我们的选举。\n\n今晚，我想纪念一位将毕生精力奉献于服务国家的人：史蒂芬·布雷耶大法官——他曾是陆军退伍军人、宪法学者，以及即将退休的美国最高法院大法官。布雷耶大法官，感谢您的服务。\n\n总统最严重的宪法职责之一是提名人选来担任美国最高法院大法官。\n\n四天前，我提名了巡回上诉法院法官凯坦吉·布朗·杰克逊，完成了这项工作。她是美国顶尖的法律人才之一，将延续布雷耶大法官卓越的法律遗产。"
      ]
    }
  ],
  "metadata": {
    "kernelspec": {
      "display_name": "langchain",
      "language": "python",
      "name": "python3"
    },
    "language_info": {
      "codemirror_mode": {
        "name": "ipython",
        "version": 3
      },
      "file_extension": ".py",
      "mimetype": "text/x-python",
      "name": "python",
      "nbconvert_exporter": "python",
      "pygments_lexer": "ipython3",
      "version": "3.9.17"
    }
  },
  "nbformat": 4,
  "nbformat_minor": 2
}