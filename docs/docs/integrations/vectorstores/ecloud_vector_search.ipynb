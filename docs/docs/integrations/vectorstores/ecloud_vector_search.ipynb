{
  "cells": [
    {
      "attachments": {},
      "cell_type": "markdown",
      "metadata": {},
      "source": [
        "# 中国移动ECloud ElasticSearch VectorSearch\n\n>[China Mobile ECloud VectorSearch](https://ecloud.10086.cn/portal/product/elasticsearch) 是一项全托管的企业级分布式搜索和分析服务。中国移动ECloud VectorSearch 为结构化/非结构化数据提供低成本、高绩效、高可靠性的检索和分析平台级产品服务。作为一个向量数据库，它支持多种索引类型和相似度距离计算方法。\n\n您需要使用 `pip install -qU langchain-community` 安装 `langchain-community` 才能使用此集成。\n\n本Notebook展示了如何使用与 `ECloud ElasticSearch VectorStore` 相关的功能。\n要运行，您需要有一个正在运行的 [China Mobile ECloud VectorSearch](https://ecloud.10086.cn/portal/product/elasticsearch) 实例。\n\n请阅读[帮助文档](https://ecloud.10086.cn/op-help-center/doc/category/1094)以快速熟悉和配置中国移动ECloud ElasticSearch实例。"
      ]
    },
    {
      "attachments": {},
      "cell_type": "markdown",
      "metadata": {},
      "source": [
        "实例启动并运行后，请按照以下步骤分割文档、获取嵌入、连接到百度云 Elasticsearch 实例、索引文档以及执行向量检索。"
      ]
    },
    {
      "cell_type": "code",
      "execution_count": 3,
      "metadata": {},
      "outputs": [],
      "source": [
        "#!pip install elasticsearch == 7.10.1"
      ]
    },
    {
      "attachments": {},
      "cell_type": "markdown",
      "metadata": {},
      "source": [
        "首先，我们想要使用 `OpenAIEmbeddings`，因此我们需要获取 OpenAI API 密钥。"
      ]
    },
    {
      "cell_type": "code",
      "execution_count": null,
      "metadata": {},
      "outputs": [],
      "source": [
        "import getpass\n",
        "import os\n",
        "\n",
        "if \"OPENAI_API_KEY\" not in os.environ:\n",
        "    os.environ[\"OPENAI_API_KEY\"] = getpass.getpass(\"OpenAI API Key:\")"
      ]
    },
    {
      "attachments": {},
      "cell_type": "markdown",
      "metadata": {},
      "source": [
        "其次，拆分文档并获取 embedding。"
      ]
    },
    {
      "cell_type": "code",
      "execution_count": null,
      "metadata": {},
      "outputs": [],
      "source": [
        "from langchain_community.document_loaders import TextLoader\n",
        "from langchain_community.vectorstores import EcloudESVectorStore\n",
        "from langchain_openai import OpenAIEmbeddings\n",
        "from langchain_text_splitters import CharacterTextSplitter"
      ]
    },
    {
      "cell_type": "code",
      "execution_count": null,
      "metadata": {},
      "outputs": [],
      "source": [
        "loader = TextLoader(\"../../../state_of_the_union.txt\")\n",
        "documents = loader.load()\n",
        "text_splitter = CharacterTextSplitter(chunk_size=1000, chunk_overlap=0)\n",
        "docs = text_splitter.split_documents(documents)\n",
        "\n",
        "embeddings = OpenAIEmbeddings()\n",
        "\n",
        "ES_URL = \"http://localhost:9200\"\n",
        "USER = \"your user name\"\n",
        "PASSWORD = \"your password\"\n",
        "indexname = \"your index name\""
      ]
    },
    {
      "cell_type": "markdown",
      "metadata": {},
      "source": [
        "然后，索引文档"
      ]
    },
    {
      "cell_type": "code",
      "execution_count": null,
      "metadata": {},
      "outputs": [],
      "source": [
        "docsearch = EcloudESVectorStore.from_documents(\n",
        "    docs,\n",
        "    embeddings,\n",
        "    es_url=ES_URL,\n",
        "    user=USER,\n",
        "    password=PASSWORD,\n",
        "    index_name=indexname,\n",
        "    refresh_indices=True,\n",
        ")"
      ]
    },
    {
      "attachments": {},
      "cell_type": "markdown",
      "metadata": {},
      "source": [
        "最后，查询和检索数据"
      ]
    },
    {
      "cell_type": "code",
      "execution_count": null,
      "metadata": {},
      "outputs": [],
      "source": [
        "query = \"What did the president say about Ketanji Brown Jackson\"\n",
        "docs = docsearch.similarity_search(query, k=10)\n",
        "print(docs[0].page_content)"
      ]
    },
    {
      "cell_type": "markdown",
      "metadata": {},
      "source": [
        "一个常用场景"
      ]
    },
    {
      "cell_type": "code",
      "execution_count": null,
      "metadata": {},
      "outputs": [],
      "source": [
        "def test_dense_float_vectore_lsh_cosine() -> None:\n",
        "    \"\"\"\n",
        "    Test indexing with vectore type knn_dense_float_vector and  model-similarity of lsh-cosine\n",
        "    this mapping is compatible with model of exact and similarity of l2/cosine\n",
        "    this mapping is compatible with model of lsh and similarity of cosine\n",
        "    \"\"\"\n",
        "    docsearch = EcloudESVectorStore.from_documents(\n",
        "        docs,\n",
        "        embeddings,\n",
        "        es_url=ES_URL,\n",
        "        user=USER,\n",
        "        password=PASSWORD,\n",
        "        index_name=indexname,\n",
        "        refresh_indices=True,\n",
        "        text_field=\"my_text\",\n",
        "        vector_field=\"my_vec\",\n",
        "        vector_type=\"knn_dense_float_vector\",\n",
        "        vector_params={\"model\": \"lsh\", \"similarity\": \"cosine\", \"L\": 99, \"k\": 1},\n",
        "    )\n",
        "\n",
        "    docs = docsearch.similarity_search(\n",
        "        query,\n",
        "        k=10,\n",
        "        search_params={\n",
        "            \"model\": \"exact\",\n",
        "            \"vector_field\": \"my_vec\",\n",
        "            \"text_field\": \"my_text\",\n",
        "        },\n",
        "    )\n",
        "    print(docs[0].page_content)\n",
        "\n",
        "    docs = docsearch.similarity_search(\n",
        "        query,\n",
        "        k=10,\n",
        "        search_params={\n",
        "            \"model\": \"exact\",\n",
        "            \"similarity\": \"l2\",\n",
        "            \"vector_field\": \"my_vec\",\n",
        "            \"text_field\": \"my_text\",\n",
        "        },\n",
        "    )\n",
        "    print(docs[0].page_content)\n",
        "\n",
        "    docs = docsearch.similarity_search(\n",
        "        query,\n",
        "        k=10,\n",
        "        search_params={\n",
        "            \"model\": \"exact\",\n",
        "            \"similarity\": \"cosine\",\n",
        "            \"vector_field\": \"my_vec\",\n",
        "            \"text_field\": \"my_text\",\n",
        "        },\n",
        "    )\n",
        "    print(docs[0].page_content)\n",
        "\n",
        "    docs = docsearch.similarity_search(\n",
        "        query,\n",
        "        k=10,\n",
        "        search_params={\n",
        "            \"model\": \"lsh\",\n",
        "            \"similarity\": \"cosine\",\n",
        "            \"candidates\": 10,\n",
        "            \"vector_field\": \"my_vec\",\n",
        "            \"text_field\": \"my_text\",\n",
        "        },\n",
        "    )\n",
        "    print(docs[0].page_content)"
      ]
    },
    {
      "cell_type": "markdown",
      "metadata": {},
      "source": [
        "支持筛选大小写"
      ]
    },
    {
      "cell_type": "code",
      "execution_count": null,
      "metadata": {},
      "outputs": [],
      "source": [
        "def test_dense_float_vectore_exact_with_filter() -> None:\n",
        "    \"\"\"\n",
        "    Test indexing with vectore type knn_dense_float_vector and default model/similarity\n",
        "    this mapping is compatible with model of exact and similarity of l2/cosine\n",
        "    \"\"\"\n",
        "    docsearch = EcloudESVectorStore.from_documents(\n",
        "        docs,\n",
        "        embeddings,\n",
        "        es_url=ES_URL,\n",
        "        user=USER,\n",
        "        password=PASSWORD,\n",
        "        index_name=indexname,\n",
        "        refresh_indices=True,\n",
        "        text_field=\"my_text\",\n",
        "        vector_field=\"my_vec\",\n",
        "        vector_type=\"knn_dense_float_vector\",\n",
        "    )\n",
        "    # filter={\"match_all\": {}} ,default\n",
        "    docs = docsearch.similarity_search(\n",
        "        query,\n",
        "        k=10,\n",
        "        filter={\"match_all\": {}},\n",
        "        search_params={\n",
        "            \"model\": \"exact\",\n",
        "            \"vector_field\": \"my_vec\",\n",
        "            \"text_field\": \"my_text\",\n",
        "        },\n",
        "    )\n",
        "    print(docs[0].page_content)\n",
        "\n",
        "    # filter={\"term\": {\"my_text\": \"Jackson\"}}\n",
        "    docs = docsearch.similarity_search(\n",
        "        query,\n",
        "        k=10,\n",
        "        filter={\"term\": {\"my_text\": \"Jackson\"}},\n",
        "        search_params={\n",
        "            \"model\": \"exact\",\n",
        "            \"vector_field\": \"my_vec\",\n",
        "            \"text_field\": \"my_text\",\n",
        "        },\n",
        "    )\n",
        "    print(docs[0].page_content)\n",
        "\n",
        "    # filter={\"term\": {\"my_text\": \"president\"}}\n",
        "    docs = docsearch.similarity_search(\n",
        "        query,\n",
        "        k=10,\n",
        "        filter={\"term\": {\"my_text\": \"president\"}},\n",
        "        search_params={\n",
        "            \"model\": \"exact\",\n",
        "            \"similarity\": \"l2\",\n",
        "            \"vector_field\": \"my_vec\",\n",
        "            \"text_field\": \"my_text\",\n",
        "        },\n",
        "    )\n",
        "    print(docs[0].page_content)"
      ]
    }
  ],
  "metadata": {
    "kernelspec": {
      "display_name": "Python 3 (ipykernel)",
      "language": "python",
      "name": "python3"
    },
    "language_info": {
      "codemirror_mode": {
        "name": "ipython",
        "version": 3
      },
      "file_extension": ".py",
      "mimetype": "text/x-python",
      "name": "python",
      "nbconvert_exporter": "python",
      "pygments_lexer": "ipython3",
      "version": "3.10.12"
    },
    "vscode": {
      "interpreter": {
        "hash": "aee8b7b246df8f9039afb4144a1f6fd8d2ca17a180786b69acc140d282b71a49"
      }
    }
  },
  "nbformat": 4,
  "nbformat_minor": 4
}