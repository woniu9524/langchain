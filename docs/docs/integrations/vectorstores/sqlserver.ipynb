{
  "cells": [
    {
      "attachments": {},
      "cell_type": "markdown",
      "metadata": {
        "azdata_cell_guid": "3fe4f4a9-8810-428c-90cb-147ad8563025",
        "language": "python"
      },
      "source": [
        "# SQL Server"
      ]
    },
    {
      "attachments": {},
      "cell_type": "markdown",
      "metadata": {
        "azdata_cell_guid": "f791e7da-9710-4f15-93f0-6ea61840a25f",
        "language": "python"
      },
      "source": [
        ">Azure SQL 提供了一个专用的 [Vector data type](https://learn.microsoft.com/sql/t-sql/data-types/vector-data-type?view=azuresqldb-current&viewFallbackFrom=sql-server-ver16&tabs=csharp-sample)，可简化关系数据库中向量嵌入的创建、存储和查询。这消除了对单独向量数据库和相关集成的需求，提高了解决方案的安全性，同时降低了总体复杂性。\n\nAzure SQL 是一项强大的服务，结合了可伸缩性、安全性和高可用性，提供了现代数据库解决方案的所有优势。它利用复杂的查询优化器和企业级功能，在执行传统 SQL 查询的同时执行向量相似性搜索，从而增强数据分析和决策制定。\n\n在以下链接中了解更多有关使用 [Intelligent applications with Azure SQL Database](https://learn.microsoft.com/azure/azure-sql/database/ai-artificial-intelligence-intelligent-applications?view=azuresql) 的信息\n\n本笔记本演示了如何利用此集成的 SQL [vector database](https://devblogs.microsoft.com/azure-sql/exciting-announcement-public-preview-of-native-vector-support-in-azure-sql-database/) 来存储文档，并使用余弦（余弦距离）、L2（欧几里得距离）和 IP（内积）执行向量搜索查询，以查找与查询向量接近的文档。"
      ]
    },
    {
      "attachments": {},
      "cell_type": "markdown",
      "metadata": {
        "azdata_cell_guid": "320f08b1-2fac-46fe-8e3a-273b6bf6ca8d",
        "language": "python"
      },
      "source": [
        "## 设置\n\n安装 `langchain-sqlserver` Python 包。\n\n代码位于一个名为 [langchain-sqlserver](https://github.com/langchain-ai/langchain-azure/tree/main/libs/sqlserver) 的集成包中。"
      ]
    },
    {
      "cell_type": "code",
      "execution_count": null,
      "metadata": {
        "azdata_cell_guid": "5fa6ff09-79d5-4023-9005-91a217f91a5b",
        "language": "python"
      },
      "outputs": [],
      "source": [
        "!pip install langchain-sqlserver==0.1.1"
      ]
    },
    {
      "cell_type": "markdown",
      "metadata": {},
      "source": [
        "## 凭证\n\n运行此笔记本不需要任何凭证，只需确保您已下载 `langchain_sqlserver` 包。\n如果您想获得一流的自动化模型调用跟踪，还可以通过取消注释下面的行来设置您的 [LangSmith](https://docs.smith.langchain.com/) API 密钥："
      ]
    },
    {
      "cell_type": "code",
      "execution_count": null,
      "metadata": {},
      "outputs": [],
      "source": [
        "# os.environ[\"LANGSMITH_API_KEY\"] = getpass.getpass(\"Enter your LangSmith API key: \")\n",
        "# os.environ[\"LANGSMITH_TRACING\"] = \"true\""
      ]
    },
    {
      "cell_type": "markdown",
      "metadata": {},
      "source": [
        "## 初始化"
      ]
    },
    {
      "cell_type": "code",
      "execution_count": null,
      "metadata": {
        "azdata_cell_guid": "4113da9c-b0fe-4e01-bc06-cafe05634fb6",
        "language": "python"
      },
      "outputs": [],
      "source": [
        "from langchain_sqlserver import SQLServer_VectorStore"
      ]
    },
    {
      "attachments": {},
      "cell_type": "markdown",
      "metadata": {
        "azdata_cell_guid": "458deaef-f985-4efe-957c-7840509fdfa3",
        "language": "python"
      },
      "source": [
        "在 Azure 门户中，于数据库设置下查找你的 Azure SQL 数据库连接字符串。\n\n详细信息：[连接到 Azure SQL 数据库 - Python](https://learn.microsoft.com/zh-cn/azure/azure-sql/database/connect-query-python?view=azuresql)"
      ]
    },
    {
      "cell_type": "code",
      "execution_count": 11,
      "metadata": {
        "azdata_cell_guid": "d3439463-899e-48aa-88a1-ba6bdedbdc9d",
        "language": "python"
      },
      "outputs": [],
      "source": [
        "import os\n",
        "\n",
        "import pyodbc\n",
        "\n",
        "# Define your SQLServer Connection String\n",
        "_CONNECTION_STRING = (\n",
        "    \"Driver={ODBC Driver 18 for SQL Server};\"\n",
        "    \"Server=<YOUR_DBSERVER>.database.windows.net,1433;\"\n",
        "    \"Database=test;\"\n",
        "    \"TrustServerCertificate=yes;\"\n",
        "    \"Connection Timeout=60;\"\n",
        "    \"LongAsMax=yes;\"\n",
        ")\n",
        "\n",
        "# Connection string can vary:\n",
        "# \"mssql+pyodbc://<username>:<password><servername>/<dbname>?driver=ODBC+Driver+18+for+SQL+Server\" -> With Username and Password specified\n",
        "# \"mssql+pyodbc://<servername>/<dbname>?driver=ODBC+Driver+18+for+SQL+Server&Trusted_connection=yes\" -> Uses Trusted connection\n",
        "# \"mssql+pyodbc://<servername>/<dbname>?driver=ODBC+Driver+18+for+SQL+Server\" -> Uses EntraID connection\n",
        "# \"mssql+pyodbc://<servername>/<dbname>?driver=ODBC+Driver+18+for+SQL+Server&Trusted_connection=no\" -> Uses EntraID connection"
      ]
    },
    {
      "attachments": {},
      "cell_type": "markdown",
      "metadata": {
        "azdata_cell_guid": "dcbdafc3-71ec-4e73-b768-ffb49dae2aee",
        "language": "python"
      },
      "source": [
        "在此示例中，我们使用 Azure OpenAI 来生成 embeddings，但您也可以使用 LangChain 中提供的不同 embeddings。\n\n您可以在 Azure 门户上按照此 [指南](https:\\learn.microsoft.com\\en-us\\azure\\ai-services\\openai\\how-to\\create-resource?pivots=web-portal) 部署一个 Azure OpenAI 实例。一旦您的实例运行起来，请确保您知道实例的名称和密钥。您可以在 Azure 门户的实例“密钥和终结点”部分找到密钥。"
      ]
    },
    {
      "cell_type": "code",
      "execution_count": null,
      "metadata": {
        "azdata_cell_guid": "a65110ff-cfa4-498c-bb7a-d937c04872c0",
        "language": "python"
      },
      "outputs": [],
      "source": [
        "!pip install langchain-openai"
      ]
    },
    {
      "cell_type": "code",
      "execution_count": null,
      "metadata": {
        "azdata_cell_guid": "3bd306b1-f346-4c01-93f4-039827e4f2e6",
        "language": "python"
      },
      "outputs": [],
      "source": [
        "# Import the necessary Libraries\n",
        "from langchain_openai import AzureChatOpenAI, AzureOpenAIEmbeddings\n",
        "\n",
        "# Set your AzureOpenAI details\n",
        "azure_endpoint = \"https://<YOUR_ENDPOINT>.openai.azure.com/\"\n",
        "azure_deployment_name_embedding = \"text-embedding-3-small\"\n",
        "azure_deployment_name_chatcompletion = \"chatcompletion\"\n",
        "azure_api_version = \"2023-05-15\"\n",
        "azure_api_key = \"YOUR_KEY\"\n",
        "\n",
        "\n",
        "# Use AzureChatOpenAI for chat completions\n",
        "llm = AzureChatOpenAI(\n",
        "    azure_endpoint=azure_endpoint,\n",
        "    azure_deployment=azure_deployment_name_chatcompletion,\n",
        "    openai_api_version=azure_api_version,\n",
        "    openai_api_key=azure_api_key,\n",
        ")\n",
        "\n",
        "# Use AzureOpenAIEmbeddings for embeddings\n",
        "embeddings = AzureOpenAIEmbeddings(\n",
        "    azure_endpoint=azure_endpoint,\n",
        "    azure_deployment=azure_deployment_name_embedding,\n",
        "    openai_api_version=azure_api_version,\n",
        "    openai_api_key=azure_api_key,\n",
        ")"
      ]
    },
    {
      "attachments": {},
      "cell_type": "markdown",
      "metadata": {
        "azdata_cell_guid": "f1f10145-06db-4cab-853f-9eb3b6fa8ada",
        "language": "python"
      },
      "source": [
        "## 管理向量存储"
      ]
    },
    {
      "cell_type": "code",
      "execution_count": 15,
      "metadata": {
        "azdata_cell_guid": "c4033f67-bea2-4859-af4d-b41f3b929978",
        "language": "python"
      },
      "outputs": [],
      "source": [
        "from langchain_community.vectorstores.utils import DistanceStrategy\n",
        "from langchain_sqlserver import SQLServer_VectorStore\n",
        "\n",
        "# Initialize the vector store\n",
        "vector_store = SQLServer_VectorStore(\n",
        "    connection_string=_CONNECTION_STRING,\n",
        "    distance_strategy=DistanceStrategy.COSINE,  # optional, if not provided, defaults to COSINE\n",
        "    embedding_function=embeddings,  # you can use different embeddings provided in LangChain\n",
        "    embedding_length=1536,\n",
        "    table_name=\"langchain_test_table\",  # using table with a custom name\n",
        ")"
      ]
    },
    {
      "attachments": {},
      "cell_type": "markdown",
      "metadata": {
        "azdata_cell_guid": "525f611b-2bd5-4fd4-9192-93d588c5ad0b",
        "language": "python"
      },
      "source": [
        "### 添加项到向量存储"
      ]
    },
    {
      "cell_type": "code",
      "execution_count": 16,
      "metadata": {
        "azdata_cell_guid": "6410813d-0ff1-44dd-b6bb-32fd74772e4f",
        "language": "python"
      },
      "outputs": [],
      "source": [
        "## we will use some artificial data for this example\n",
        "query = [\n",
        "    \"I have bought several of the Vitality canned dog food products and have found them all to be of good quality. The product looks more like a stew than a processed meat and it smells better. My Labrador is finicky and she appreciates this product better than  most.\",\n",
        "    \"The candy is just red , No flavor . Just  plan and chewy .  I would never buy them again\",\n",
        "    \"Arrived in 6 days and were so stale i could not eat any of the 6 bags!!\",\n",
        "    \"Got these on sale for roughly 25 cents per cup, which is half the price of my local grocery stores, plus they rarely stock the spicy flavors. These things are a GREAT snack for my office where time is constantly crunched and sometimes you can't escape for a real meal. This is one of my favorite flavors of Instant Lunch and will be back to buy every time it goes on sale.\",\n",
        "    \"If you are looking for a less messy version of licorice for the children, then be sure to try these!  They're soft, easy to chew, and they don't get your hands all sticky and gross in the car, in the summer, at the beach, etc. We love all the flavos and sometimes mix these in with the chocolate to have a very nice snack! Great item, great price too, highly recommend!\",\n",
        "    \"We had trouble finding this locally - delivery was fast, no more hunting up and down the flour aisle at our local grocery stores.\",\n",
        "    \"Too much of a good thing? We worked this kibble in over time, slowly shifting the percentage of Felidae to national junk-food brand until the bowl was all natural. By this time, the cats couldn't keep it in or down. What a mess. We've moved on.\",\n",
        "    \"Hey, the description says 360 grams - that is roughly 13 ounces at under $4.00 per can. No way - that is the approximate price for a 100 gram can.\",\n",
        "    \"The taste of these white cheddar flat breads is like a regular cracker - which is not bad, except that I bought them because I wanted a cheese taste.<br /><br />What was a HUGE disappointment? How misleading the packaging of the box is. The photo on the box (I bought these in store) makes it look like it is full of long flatbreads (expanding the length and width of the box). Wrong! The plastic tray that holds the crackers is about 2\"\n",
        "    \" smaller all around - leaving you with about 15 or so small flatbreads.<br /><br />What is also bad about this is that the company states they use biodegradable and eco-friendly packaging. FAIL! They used a HUGE box for a ridiculously small amount of crackers. Not ecofriendly at all.<br /><br />Would I buy these again? No - I feel ripped off. The other crackers (like Sesame Tarragon) give you a little<br />more bang for your buck and have more flavor.\",\n",
        "    \"I have used this product in smoothies for my son and he loves it. Additionally, I use this oil in the shower as a skin conditioner and it has made my skin look great. Some of the stretch marks on my belly has disappeared quickly. Highly recommend!!!\",\n",
        "    \"Been taking Coconut Oil for YEARS.  This is the best on the retail market.  I wish it was in glass, but this is the one.\",\n",
        "]\n",
        "\n",
        "query_metadata = [\n",
        "    {\"id\": 1, \"summary\": \"Good Quality Dog Food\"},\n",
        "    {\"id\": 8, \"summary\": \"Nasty No flavor\"},\n",
        "    {\"id\": 4, \"summary\": \"stale product\"},\n",
        "    {\"id\": 11, \"summary\": \"Great value and convenient ramen\"},\n",
        "    {\"id\": 5, \"summary\": \"Great for the kids!\"},\n",
        "    {\"id\": 2, \"summary\": \"yum falafel\"},\n",
        "    {\"id\": 9, \"summary\": \"Nearly killed the cats\"},\n",
        "    {\"id\": 6, \"summary\": \"Price cannot be correct\"},\n",
        "    {\"id\": 3, \"summary\": \"Taste is neutral, quantity is DECEITFUL!\"},\n",
        "    {\"id\": 7, \"summary\": \"This stuff is great\"},\n",
        "    {\"id\": 10, \"summary\": \"The reviews don't lie\"},\n",
        "]"
      ]
    },
    {
      "cell_type": "code",
      "execution_count": 19,
      "metadata": {
        "azdata_cell_guid": "03e8161a-6cdd-415d-8261-b6b99982726c",
        "language": "python"
      },
      "outputs": [
        {
          "data": {
            "text/plain": [
              "[1, 8, 4, 11, 5, 2, 9, 6, 3, 7, 10]"
            ]
          },
          "execution_count": 19,
          "metadata": {},
          "output_type": "execute_result"
        }
      ],
      "source": [
        "vector_store.add_texts(texts=query, metadatas=query_metadata)"
      ]
    },
    {
      "attachments": {},
      "cell_type": "markdown",
      "metadata": {
        "azdata_cell_guid": "a2838ad1-64a1-409e-b97d-7883b42a0b33",
        "language": "python"
      },
      "source": [
        "## 查询向量存储\n一旦创建了向量存储并添加了相关文档，您将最有可能希望在链或代理运行时查询它。\n\n执行简单的相似性搜索可以这样做："
      ]
    },
    {
      "cell_type": "code",
      "execution_count": 28,
      "metadata": {
        "azdata_cell_guid": "1baa2857-167e-4873-ad9c-e67649ef39bf",
        "language": "python"
      },
      "outputs": [
        {
          "name": "stdout",
          "output_type": "stream",
          "text": [
            "[Document(metadata={'id': 1, 'summary': 'Good Quality Dog Food'}, page_content='I have bought several of the Vitality canned dog food products and have found them all to be of good quality. The product looks more like a stew than a processed meat and it smells better. My Labrador is finicky and she appreciates this product better than  most.'), Document(metadata={'id': 7, 'summary': 'This stuff is great'}, page_content='I have used this product in smoothies for my son and he loves it. Additionally, I use this oil in the shower as a skin conditioner and it has made my skin look great. Some of the stretch marks on my belly has disappeared quickly. Highly recommend!!!'), Document(metadata={'id': 5, 'summary': 'Great for the kids!'}, page_content=\"If you are looking for a less messy version of licorice for the children, then be sure to try these!  They're soft, easy to chew, and they don't get your hands all sticky and gross in the car, in the summer, at the beach, etc. We love all the flavos and sometimes mix these in with the chocolate to have a very nice snack! Great item, great price too, highly recommend!\")]\n"
          ]
        }
      ],
      "source": [
        "# Perform a similarity search between the embedding of the query and the embeddings of the documents\n",
        "simsearch_result = vector_store.similarity_search(\"Good reviews\", k=3)\n",
        "print(simsearch_result)"
      ]
    },
    {
      "attachments": {},
      "cell_type": "markdown",
      "metadata": {
        "azdata_cell_guid": "f92f0a1b-19aa-46d1-ad1a-c2e52f9114d0",
        "language": "python"
      },
      "source": [
        "### 筛选支持：\n\n向量存储支持一组可以应用于文档元数据字段的过滤器。此功能使开发人员和数据分析师能够优化他们的查询，确保搜索结果准确地符合他们的需求。通过根据特定的元数据属性应用过滤器，用户可以限制其搜索范围，只关注最相关的数据子集。"
      ]
    },
    {
      "cell_type": "code",
      "execution_count": 29,
      "metadata": {
        "azdata_cell_guid": "24fabd60-0b29-4ed9-9d5e-38c68fe05dfa",
        "language": "python"
      },
      "outputs": [
        {
          "name": "stdout",
          "output_type": "stream",
          "text": [
            "[Document(metadata={'id': 7, 'summary': 'This stuff is great'}, page_content='I have used this product in smoothies for my son and he loves it. Additionally, I use this oil in the shower as a skin conditioner and it has made my skin look great. Some of the stretch marks on my belly has disappeared quickly. Highly recommend!!!'), Document(metadata={'id': 5, 'summary': 'Great for the kids!'}, page_content=\"If you are looking for a less messy version of licorice for the children, then be sure to try these!  They're soft, easy to chew, and they don't get your hands all sticky and gross in the car, in the summer, at the beach, etc. We love all the flavos and sometimes mix these in with the chocolate to have a very nice snack! Great item, great price too, highly recommend!\"), Document(metadata={'id': 3, 'summary': 'Taste is neutral, quantity is DECEITFUL!'}, page_content='The taste of these white cheddar flat breads is like a regular cracker - which is not bad, except that I bought them because I wanted a cheese taste.<br /><br />What was a HUGE disappointment? How misleading the packaging of the box is. The photo on the box (I bought these in store) makes it look like it is full of long flatbreads (expanding the length and width of the box). Wrong! The plastic tray that holds the crackers is about 2 smaller all around - leaving you with about 15 or so small flatbreads.<br /><br />What is also bad about this is that the company states they use biodegradable and eco-friendly packaging. FAIL! They used a HUGE box for a ridiculously small amount of crackers. Not ecofriendly at all.<br /><br />Would I buy these again? No - I feel ripped off. The other crackers (like Sesame Tarragon) give you a little<br />more bang for your buck and have more flavor.')]\n"
          ]
        }
      ],
      "source": [
        "# hybrid search -> filter for cases where id not equal to 1.\n",
        "hybrid_simsearch_result = vector_store.similarity_search(\n",
        "    \"Good reviews\", k=3, filter={\"id\": {\"$ne\": 1}}\n",
        ")\n",
        "print(hybrid_simsearch_result)"
      ]
    },
    {
      "attachments": {},
      "cell_type": "markdown",
      "metadata": {
        "azdata_cell_guid": "449c4cde-e303-4856-8deb-6e6ad56f9501",
        "language": "python"
      },
      "source": [
        "### 相似性搜索及得分：\n如果你想执行相似性搜索并获取相应的得分，可以运行："
      ]
    },
    {
      "cell_type": "code",
      "execution_count": 30,
      "metadata": {
        "azdata_cell_guid": "382fa5d4-6da1-46c1-987f-6d0ec050be99",
        "language": "python",
        "tags": [
          "hide_input"
        ]
      },
      "outputs": [
        {
          "name": "stdout",
          "output_type": "stream",
          "text": [
            "[(Document(metadata={'id': 3, 'summary': 'Taste is neutral, quantity is DECEITFUL!'}, page_content='The taste of these white cheddar flat breads is like a regular cracker - which is not bad, except that I bought them because I wanted a cheese taste.<br /><br />What was a HUGE disappointment? How misleading the packaging of the box is. The photo on the box (I bought these in store) makes it look like it is full of long flatbreads (expanding the length and width of the box). Wrong! The plastic tray that holds the crackers is about 2 smaller all around - leaving you with about 15 or so small flatbreads.<br /><br />What is also bad about this is that the company states they use biodegradable and eco-friendly packaging. FAIL! They used a HUGE box for a ridiculously small amount of crackers. Not ecofriendly at all.<br /><br />Would I buy these again? No - I feel ripped off. The other crackers (like Sesame Tarragon) give you a little<br />more bang for your buck and have more flavor.'), 0.651870006770711), (Document(metadata={'id': 8, 'summary': 'Nasty No flavor'}, page_content='The candy is just red , No flavor . Just  plan and chewy .  I would never buy them again'), 0.6908952973052638), (Document(metadata={'id': 4, 'summary': 'stale product'}, page_content='Arrived in 6 days and were so stale i could not eat any of the 6 bags!!'), 0.7360955776468822), (Document(metadata={'id': 1, 'summary': 'Good Quality Dog Food'}, page_content='I have bought several of the Vitality canned dog food products and have found them all to be of good quality. The product looks more like a stew than a processed meat and it smells better. My Labrador is finicky and she appreciates this product better than  most.'), 0.7408823529514486), (Document(metadata={'id': 9, 'summary': 'Nearly killed the cats'}, page_content=\"Too much of a good thing? We worked this kibble in over time, slowly shifting the percentage of Felidae to national junk-food brand until the bowl was all natural. By this time, the cats couldn't keep it in or down. What a mess. We've moved on.\"), 0.782995248991772), (Document(metadata={'id': 7, 'summary': 'This stuff is great'}, page_content='I have used this product in smoothies for my son and he loves it. Additionally, I use this oil in the shower as a skin conditioner and it has made my skin look great. Some of the stretch marks on my belly has disappeared quickly. Highly recommend!!!'), 0.7912681479906212), (Document(metadata={'id': 2, 'summary': 'yum falafel'}, page_content='We had trouble finding this locally - delivery was fast, no more hunting up and down the flour aisle at our local grocery stores.'), 0.809213468778896), (Document(metadata={'id': 10, 'summary': \"The reviews don't lie\"}, page_content='Been taking Coconut Oil for YEARS.  This is the best on the retail market.  I wish it was in glass, but this is the one.'), 0.8281482301097155), (Document(metadata={'id': 5, 'summary': 'Great for the kids!'}, page_content=\"If you are looking for a less messy version of licorice for the children, then be sure to try these!  They're soft, easy to chew, and they don't get your hands all sticky and gross in the car, in the summer, at the beach, etc. We love all the flavos and sometimes mix these in with the chocolate to have a very nice snack! Great item, great price too, highly recommend!\"), 0.8283754326400574), (Document(metadata={'id': 6, 'summary': 'Price cannot be correct'}, page_content='Hey, the description says 360 grams - that is roughly 13 ounces at under $4.00 per can. No way - that is the approximate price for a 100 gram can.'), 0.8323967822635847), (Document(metadata={'id': 11, 'summary': 'Great value and convenient ramen'}, page_content=\"Got these on sale for roughly 25 cents per cup, which is half the price of my local grocery stores, plus they rarely stock the spicy flavors. These things are a GREAT snack for my office where time is constantly crunched and sometimes you can't escape for a real meal. This is one of my favorite flavors of Instant Lunch and will be back to buy every time it goes on sale.\"), 0.8387189489406939)]\n"
          ]
        }
      ],
      "source": [
        "simsearch_with_score_result = vector_store.similarity_search_with_score(\n",
        "    \"Not a very good product\", k=12\n",
        ")\n",
        "print(simsearch_with_score_result)"
      ]
    },
    {
      "attachments": {},
      "cell_type": "markdown",
      "metadata": {
        "azdata_cell_guid": "620e29bd-02f8-4dc7-91a2-52537cb08886",
        "language": "python"
      },
      "source": [
        "如需执行 Azure SQL 向量存储上的各种搜索的完整列表，请参阅 [API 参考](https://python.langchain.com/api_reference/sqlserver/index.html)。"
      ]
    },
    {
      "attachments": {},
      "cell_type": "markdown",
      "metadata": {
        "azdata_cell_guid": "ff48b371-b94f-4a3a-bd66-cce856baf6c4",
        "language": "python"
      },
      "source": [
        "### 相似性搜索：当您已拥有想要搜索的嵌入时"
      ]
    },
    {
      "cell_type": "code",
      "execution_count": null,
      "metadata": {
        "azdata_cell_guid": "35afb4cd-0682-4525-9ba8-625fecc59bb4",
        "language": "python",
        "tags": []
      },
      "outputs": [
        {
          "name": "stdout",
          "output_type": "stream",
          "text": [
            "[Document(metadata={'id': 8, 'summary': 'Nasty No flavor'}, page_content='The candy is just red , No flavor . Just  plan and chewy .  I would never buy them again'), Document(metadata={'id': 4, 'summary': 'stale product'}, page_content='Arrived in 6 days and were so stale i could not eat any of the 6 bags!!'), Document(metadata={'id': 3, 'summary': 'Taste is neutral, quantity is DECEITFUL!'}, page_content='The taste of these white cheddar flat breads is like a regular cracker - which is not bad, except that I bought them because I wanted a cheese taste.<br /><br />What was a HUGE disappointment? How misleading the packaging of the box is. The photo on the box (I bought these in store) makes it look like it is full of long flatbreads (expanding the length and width of the box). Wrong! The plastic tray that holds the crackers is about 2 smaller all around - leaving you with about 15 or so small flatbreads.<br /><br />What is also bad about this is that the company states they use biodegradable and eco-friendly packaging. FAIL! They used a HUGE box for a ridiculously small amount of crackers. Not ecofriendly at all.<br /><br />Would I buy these again? No - I feel ripped off. The other crackers (like Sesame Tarragon) give you a little<br />more bang for your buck and have more flavor.'), Document(metadata={'id': 6, 'summary': 'Price cannot be correct'}, page_content='Hey, the description says 360 grams - that is roughly 13 ounces at under $4.00 per can. No way - that is the approximate price for a 100 gram can.')]\n"
          ]
        }
      ],
      "source": [
        "# if you already have embeddings you want to search on\n",
        "simsearch_by_vector = vector_store.similarity_search_by_vector(\n",
        "    [-0.0033353185281157494, -0.017689190804958344, -0.01590404286980629, ...]\n",
        ")\n",
        "print(simsearch_by_vector)"
      ]
    },
    {
      "cell_type": "code",
      "execution_count": null,
      "metadata": {
        "azdata_cell_guid": "8a7083fd-ddb2-4187-a315-744b7a623178",
        "language": "python"
      },
      "outputs": [
        {
          "name": "stdout",
          "output_type": "stream",
          "text": [
            "[(Document(metadata={'id': 8, 'summary': 'Nasty No flavor'}, page_content='The candy is just red , No flavor . Just  plan and chewy .  I would never buy them again'), 0.9648153551769503), (Document(metadata={'id': 4, 'summary': 'stale product'}, page_content='Arrived in 6 days and were so stale i could not eat any of the 6 bags!!'), 0.9655108580341948), (Document(metadata={'id': 3, 'summary': 'Taste is neutral, quantity is DECEITFUL!'}, page_content='The taste of these white cheddar flat breads is like a regular cracker - which is not bad, except that I bought them because I wanted a cheese taste.<br /><br />What was a HUGE disappointment? How misleading the packaging of the box is. The photo on the box (I bought these in store) makes it look like it is full of long flatbreads (expanding the length and width of the box). Wrong! The plastic tray that holds the crackers is about 2 smaller all around - leaving you with about 15 or so small flatbreads.<br /><br />What is also bad about this is that the company states they use biodegradable and eco-friendly packaging. FAIL! They used a HUGE box for a ridiculously small amount of crackers. Not ecofriendly at all.<br /><br />Would I buy these again? No - I feel ripped off. The other crackers (like Sesame Tarragon) give you a little<br />more bang for your buck and have more flavor.'), 0.9840511208615808), (Document(metadata={'id': 6, 'summary': 'Price cannot be correct'}, page_content='Hey, the description says 360 grams - that is roughly 13 ounces at under $4.00 per can. No way - that is the approximate price for a 100 gram can.'), 0.9915737524649991)]\n"
          ]
        }
      ],
      "source": [
        "# Similarity Search with Score if you already have embeddings you want to search on\n",
        "simsearch_by_vector_with_score = vector_store.similarity_search_by_vector_with_score(\n",
        "    [-0.0033353185281157494, -0.017689190804958344, -0.01590404286980629, ...]\n",
        ")\n",
        "print(simsearch_by_vector_with_score)"
      ]
    },
    {
      "cell_type": "markdown",
      "metadata": {},
      "source": [
        "## 从向量存储中删除项目"
      ]
    },
    {
      "attachments": {},
      "cell_type": "markdown",
      "metadata": {
        "azdata_cell_guid": "01f30a69-76cb-4137-bb80-1061abc095be",
        "language": "python"
      },
      "source": [
        "### 按 ID 删除行"
      ]
    },
    {
      "cell_type": "code",
      "execution_count": 35,
      "metadata": {
        "azdata_cell_guid": "1b42828c-0850-4d89-a1b5-a463bae0f143",
        "language": "python"
      },
      "outputs": [
        {
          "data": {
            "text/plain": [
              "True"
            ]
          },
          "execution_count": 35,
          "metadata": {},
          "output_type": "execute_result"
        }
      ],
      "source": [
        "# delete row by id\n",
        "vector_store.delete([\"3\", \"7\"])"
      ]
    },
    {
      "attachments": {},
      "cell_type": "markdown",
      "metadata": {
        "azdata_cell_guid": "51b9a47e-a17a-4427-8abe-90d87fd63389",
        "language": "python"
      },
      "source": [
        "### 删除向量存储"
      ]
    },
    {
      "cell_type": "code",
      "execution_count": null,
      "metadata": {
        "azdata_cell_guid": "cc9a281a-d204-4830-83d0-fcdd890c7f9c",
        "language": "python"
      },
      "outputs": [],
      "source": [
        "# drop vectorstore\n",
        "vector_store.drop()"
      ]
    },
    {
      "attachments": {},
      "cell_type": "markdown",
      "metadata": {
        "azdata_cell_guid": "2d1b942b-f1ca-4fb5-abb7-bb2855631962",
        "language": "python"
      },
      "source": [
        "## 从 Azure Blob Storage 加载文档"
      ]
    },
    {
      "attachments": {},
      "cell_type": "markdown",
      "metadata": {
        "azdata_cell_guid": "cab89a29-e5e3-44b6-8f29-b4470d26f5d4",
        "language": "python"
      },
      "source": [
        "下面是将文件从 Azure Blob Storage 容器加载到 SQL Vector 存储的示例，该文件已分割成多个块。\n[Azure Blog Storage](https://learn.microsoft.com/en-us/azure/storage/blobs/storage-blobs-introduction) 是 Microsoft 的云对象存储解决方案。Blob Storage 针对存储海量非结构化数据进行了优化。"
      ]
    },
    {
      "cell_type": "code",
      "execution_count": null,
      "metadata": {
        "azdata_cell_guid": "6cff6a17-89b6-4d73-a92d-cf289dea4294",
        "language": "python"
      },
      "outputs": [],
      "source": [
        "pip install azure-storage-blob"
      ]
    },
    {
      "cell_type": "code",
      "execution_count": 36,
      "metadata": {
        "azdata_cell_guid": "d9127900-0942-48f1-bd4d-081c7fa3fcae",
        "language": "python"
      },
      "outputs": [
        {
          "name": "stdout",
          "output_type": "stream",
          "text": [
            "Number of split documents: 528\n"
          ]
        }
      ],
      "source": [
        "from langchain.document_loaders import AzureBlobStorageFileLoader\n",
        "from langchain.text_splitter import RecursiveCharacterTextSplitter\n",
        "from langchain_core.documents import Document\n",
        "\n",
        "# Define your connection string and blob details\n",
        "conn_str = \"DefaultEndpointsProtocol=https;AccountName=<YourBlobName>;AccountKey=<YourAccountKey>==;EndpointSuffix=core.windows.net\"\n",
        "container_name = \"<YourContainerName\"\n",
        "blob_name = \"01 Harry Potter and the Sorcerers Stone.txt\"\n",
        "\n",
        "# Create an instance of AzureBlobStorageFileLoader\n",
        "loader = AzureBlobStorageFileLoader(\n",
        "    conn_str=conn_str, container=container_name, blob_name=blob_name\n",
        ")\n",
        "\n",
        "# Load the document from Azure Blob Storage\n",
        "documents = loader.load()\n",
        "\n",
        "# Split the document into smaller chunks if necessary\n",
        "text_splitter = RecursiveCharacterTextSplitter(chunk_size=1000, chunk_overlap=100)\n",
        "split_documents = text_splitter.split_documents(documents)\n",
        "\n",
        "# Print the number of split documents\n",
        "print(f\"Number of split documents: {len(split_documents)}\")"
      ]
    },
    {
      "attachments": {},
      "cell_type": "markdown",
      "metadata": {
        "azdata_cell_guid": "28319d6e-8e09-4355-85d5-da5cadd589d9"
      },
      "source": [
        "API 参考:[AzureBlobStorageContainerLoader](https://python.langchain.com/api_reference/community/document_loaders/langchain_community.document_loaders.azure_blob_storage_container.AzureBlobStorageContainerLoader.html)"
      ]
    },
    {
      "cell_type": "code",
      "execution_count": 39,
      "metadata": {
        "azdata_cell_guid": "d017cccc-9d8b-459c-a33d-06860360be1a",
        "language": "python"
      },
      "outputs": [
        {
          "name": "stdout",
          "output_type": "stream",
          "text": [
            "Documents added to the vector store successfully!\n"
          ]
        }
      ],
      "source": [
        "# # Initialize the vector store & insert the documents in AzureSQLDB with their embeddings\n",
        "vector_store = SQLServer_VectorStore(\n",
        "    connection_string=_CONNECTION_STRING,\n",
        "    distance_strategy=DistanceStrategy.COSINE,\n",
        "    embedding_function=embeddings,\n",
        "    embedding_length=1536,\n",
        "    table_name=\"harrypotter\",\n",
        ")  # Replace with your actual vector store initialization\n",
        "\n",
        "# Add split documents to the vector store individually\n",
        "for i, doc in enumerate(split_documents):\n",
        "    vector_store.add_documents(documents=[doc], ids=[f\"doc_{i}\"])\n",
        "\n",
        "print(\"Documents added to the vector store successfully!\")"
      ]
    },
    {
      "cell_type": "markdown",
      "metadata": {},
      "source": [
        "## 直接查询"
      ]
    },
    {
      "cell_type": "code",
      "execution_count": 46,
      "metadata": {
        "azdata_cell_guid": "fe5c369f-17b6-46f1-b946-081cb73d03c8",
        "language": "python"
      },
      "outputs": [
        {
          "name": "stdout",
          "output_type": "stream",
          "text": [
            "------------------------------------------------------------\n",
            "Score:  0.3626232679001803\n",
            "The Dursleys had everything they wanted, but they also had a secret, and their greatest fear was that somebody would discover it. They didn’t think they could bear it if anyone found out about the Potters. Mrs. Potter was Mrs. Dursley’s sister, but they hadn’t met for several years; in fact, Mrs. Dursley pretended she didn’t have a sister, because her sister and her good-for-nothing husband were as unDursleyish as it was possible to be. The Dursleys shuddered to think what the neighbors would say if the Potters arrived in the street. The Dursleys knew that the Potters had a small son, too, but they had never even seen him. This boy was another good reason for keeping the Potters away; they didn’t want Dudley mixing with a child like that.\n",
            "------------------------------------------------------------\n",
            "------------------------------------------------------------\n",
            "Score:  0.44752797298657554\n",
            "The Dursleys’ house had four bedrooms: one for Uncle Vernon and Aunt Petunia, one for visitors (usually Uncle Vernon’s sister, Marge), one where Dudley slept, and one where Dudley kept all the toys and things that wouldn’t fit into his first bedroom. It only took Harry one trip upstairs to move everything he owned from the cupboard to this room. He sat down on the bed and stared around him. Nearly everything in here was broken. The month-old video camera was lying on top of a small, working tank Dudley had once driven over the next door neighbor’s dog; in the corner was Dudley’s first-ever television set, which he’d put his foot through when his favorite program had been canceled; there was a large birdcage, which had once held a parrot that Dudley had swapped at school for a real air rifle, which was up on a shelf with the end all bent because Dudley had sat on it. Other shelves were full of books. They were the only things in the room that looked as though they’d never been touched.\n",
            "------------------------------------------------------------\n",
            "------------------------------------------------------------\n",
            "Score:  0.4652486419877385\n",
            "M r. and Mrs. Dursley, of number four, Privet Drive, were proud to say that they were perfectly normal, thank you very much. They were the last people you’d expect to be involved in anything strange or mysterious, because they just didn’t hold with such nonsense.\n",
            "\n",
            "Mr. Dursley was the director of a firm called Grunnings, which made drills. He was a big, beefy man with hardly any neck, although he did have a very large mustache. Mrs. Dursley was thin and blonde and had nearly twice the usual amount of neck, which came in very useful as she spent so much of her time craning over garden fences, spying on the neighbors. The Dursleys had a small son called Dudley and in their opinion there was no finer boy anywhere.\n",
            "------------------------------------------------------------\n",
            "------------------------------------------------------------\n",
            "Score:  0.4739086301927252\n",
            "Hagrid was watching him sadly.\n",
            "\n",
            "“Took yeh from the ruined house myself, on Dumbledore’s orders. Brought yeh ter this lot….”\n",
            "\n",
            "“Load of old tosh,” said Uncle Vernon. Harry jumped; he had almost forgotten that the Dursleys were there. Uncle Vernon certainly seemed to have got back his courage. He was glaring at Hagrid and his fists were clenched.\n",
            "\n",
            "“Now, you listen here, boy,” he snarled, “I accept there’s something strange about you, probably nothing a good beating wouldn’t have cured — and as for all this about your parents, well, they were weirdoes, no denying it, and the world’s better off without them in my opinion — asked for all they got, getting mixed up with these wizarding types — just what I expected, always knew they’d come to a sticky end —”\n",
            "\n",
            "But at that moment, Hagrid leapt from the sofa and drew a battered pink umbrella from inside his coat. Pointing this at Uncle Vernon like a sword, he said, “I’m warning you, Dursley — I’m warning you — one more word….”\n",
            "------------------------------------------------------------\n"
          ]
        }
      ],
      "source": [
        "from typing import List, Tuple\n",
        "\n",
        "# Perform similarity search\n",
        "query = \"Why did the Dursleys not want Harry in their house?\"\n",
        "docs_with_score: List[Tuple[Document, float]] = (\n",
        "    vector_store.similarity_search_with_score(query)\n",
        ")\n",
        "\n",
        "for doc, score in docs_with_score:\n",
        "    print(\"-\" * 60)\n",
        "    print(\"Score: \", score)\n",
        "    print(doc.page_content)\n",
        "    print(\"-\" * 60)"
      ]
    },
    {
      "attachments": {},
      "cell_type": "markdown",
      "metadata": {
        "azdata_cell_guid": "13ca400b-7883-45af-9e17-75f2f622dde1",
        "language": "python"
      },
      "source": [
        "## 使用检索增强生成\n\n#### 用例 1：基于故事书的问答系统\n\n问答功能允许用户就故事、角色和事件提出具体问题，并获得简洁、内容丰富的答案。这不仅能加深他们对书籍的理解，还能让他们感觉自己是魔法宇宙的一部分。\n\n## 通过转换为检索器进行查询\n\nLangChain 的 Vector store 通过启用高效的相似性搜索来简化复杂问答系统的构建，根据用户的查询找到排名前 10 的相关文档。**检索器** 是从**向量存储**创建的，然后使用 **create\\_stuff\\_documents\\_chain** 函数构建问答链。使用 **ChatPromptTemplate** 类精心制作一个提示模板，确保生成结构化且内容丰富的响应。在问答应用程序中，通常需要向用户展示用于生成答案的来源。LangChain 内置的 **create\\_retrieval\\_chain** 会将检索到的来源文档作为“context”键传播到输出：\n\n在此处阅读更多关于 Langchain RAG 的教程以及上面提到的术语（[https:/python.langchain.com/docs/tutorials/rag](https:/python.langchain.com/docs/tutorials/rag)）"
      ]
    },
    {
      "cell_type": "code",
      "execution_count": null,
      "metadata": {
        "azdata_cell_guid": "b60a1f0a-a767-413a-a537-61103439a26e",
        "language": "python"
      },
      "outputs": [],
      "source": [
        "from typing import List, Tuple\n",
        "\n",
        "import pandas as pd\n",
        "from langchain.chains import create_retrieval_chain\n",
        "from langchain.chains.combine_documents import create_stuff_documents_chain\n",
        "from langchain_core.prompts import ChatPromptTemplate\n",
        "\n",
        "\n",
        "# Define the function to perform the RAG chain invocation\n",
        "def get_answer_and_sources(user_query: str):\n",
        "    # Perform similarity search with scores\n",
        "    docs_with_score: List[Tuple[Document, float]] = (\n",
        "        vector_store.similarity_search_with_score(\n",
        "            user_query,\n",
        "            k=10,\n",
        "        )\n",
        "    )\n",
        "\n",
        "    # Extract the context from the top results\n",
        "    context = \"\\n\".join([doc.page_content for doc, score in docs_with_score])\n",
        "\n",
        "    # Define the system prompt\n",
        "    system_prompt = (\n",
        "        \"You are an assistant for question-answering tasks based on the story in the book. \"\n",
        "        \"Use the following pieces of retrieved context to answer the question. \"\n",
        "        \"If you don't know the answer, say that you don't know, but also suggest that the user can use the fan fiction function to generate fun stories. \"\n",
        "        \"Use 5 sentences maximum and keep the answer concise by also providing some background context of 1-2 sentences.\"\n",
        "        \"\\n\\n\"\n",
        "        \"{context}\"\n",
        "    )\n",
        "\n",
        "    # Create the prompt template\n",
        "    prompt = ChatPromptTemplate.from_messages(\n",
        "        [\n",
        "            (\"system\", system_prompt),\n",
        "            (\"human\", \"{input}\"),\n",
        "        ]\n",
        "    )\n",
        "\n",
        "    # Create the retriever and chains\n",
        "    retriever = vector_store.as_retriever()\n",
        "    question_answer_chain = create_stuff_documents_chain(llm, prompt)\n",
        "    rag_chain = create_retrieval_chain(retriever, question_answer_chain)\n",
        "\n",
        "    # Define the input\n",
        "    input_data = {\"input\": user_query}\n",
        "\n",
        "    # Invoke the RAG chain\n",
        "    response = rag_chain.invoke(input_data)\n",
        "\n",
        "    # Print the answer\n",
        "    print(\"Answer:\", response[\"answer\"])\n",
        "\n",
        "    # Prepare the data for the table\n",
        "    data = {\n",
        "        \"Doc ID\": [\n",
        "            doc.metadata.get(\"source\", \"N/A\").split(\"/\")[-1]\n",
        "            for doc in response[\"context\"]\n",
        "        ],\n",
        "        \"Content\": [\n",
        "            doc.page_content[:50] + \"...\"\n",
        "            if len(doc.page_content) > 100\n",
        "            else doc.page_content\n",
        "            for doc in response[\"context\"]\n",
        "        ],\n",
        "    }\n",
        "\n",
        "    # Create a DataFrame\n",
        "    df = pd.DataFrame(data)\n",
        "\n",
        "    # Print the table\n",
        "    print(\"\\nSources:\")\n",
        "    print(df.to_markdown(index=False))"
      ]
    },
    {
      "cell_type": "code",
      "execution_count": 1,
      "metadata": {
        "azdata_cell_guid": "3cab0661-2351-4164-952f-67670addd99b",
        "language": "python",
        "tags": []
      },
      "outputs": [
        {
          "name": "stdout",
          "output_type": "stream",
          "text": [
            "Answer: When Harry first learned that he was a wizard, he felt quite sure there had been a horrible mistake. He struggled to believe it because he had spent his life being bullied and mistreated by the Dursleys. If he was really a wizard, he wondered why he hadn't been able to use magic to defend himself. This disbelief and surprise were evident when he gasped, “I’m a what?”\n",
            "\n",
            "Sources:\n",
            "| Doc ID                                      | Content                                               |\n",
            "|:--------------------------------------------|:------------------------------------------------------|\n",
            "| 01 Harry Potter and the Sorcerers Stone.txt | Harry was wondering what a wizard did once he’d fi... |\n",
            "| 01 Harry Potter and the Sorcerers Stone.txt | Harry realized his mouth was open and closed it qu... |\n",
            "| 01 Harry Potter and the Sorcerers Stone.txt | “Most of us reckon he’s still out there somewhere ... |\n",
            "| 01 Harry Potter and the Sorcerers Stone.txt | “Ah, go boil yer heads, both of yeh,” said Hagrid.... |\n",
            "\n"
          ]
        }
      ],
      "source": [
        "# Define the user query\n",
        "user_query = \"How did Harry feel when he first learnt that he was a Wizard?\"\n",
        "\n",
        "# Call the function to get the answer and sources\n",
        "get_answer_and_sources(user_query)"
      ]
    },
    {
      "cell_type": "code",
      "execution_count": 2,
      "metadata": {
        "azdata_cell_guid": "1e1939d8-671f-4063-906c-89ee6813f12b",
        "language": "python"
      },
      "outputs": [
        {
          "name": "stdout",
          "output_type": "stream",
          "text": [
            "Yes, Harry had a pet owl named Hedwig. He decided to call her Hedwig after finding the name in a book titled *A History of Magic*.\n",
            "\n",
            "Sources:\n",
            "| Doc ID                                      | Content                                               |\n",
            "|:--------------------------------------------|:------------------------------------------------------|\n",
            "| 01 Harry Potter and the Sorcerers Stone.txt | Harry sank down next to the bowl of peas. “What di... |\n",
            "| 01 Harry Potter and the Sorcerers Stone.txt | Harry kept to his room, with his new owl for compa... |\n",
            "| 01 Harry Potter and the Sorcerers Stone.txt | As the snake slid swiftly past him, Harry could ha... |\n",
            "| 01 Harry Potter and the Sorcerers Stone.txt | Ron reached inside his jacket and pulled out a fat... |\n",
            "\n"
          ]
        }
      ],
      "source": [
        "# Define the user query\n",
        "user_query = \"Did Harry have a pet? What was it\"\n",
        "\n",
        "# Call the function to get the answer and sources\n",
        "get_answer_and_sources(user_query)"
      ]
    },
    {
      "attachments": {},
      "cell_type": "markdown",
      "metadata": {
        "azdata_cell_guid": "d1f01a01-1e1d-4af6-95a3-82bad34419fe"
      },
      "source": [
        "## API 参考\n\n如需了解 SQLServer Vectorstore 功能和配置的详细文档，请前往 API 参考：[https://python.langchain.com/api_reference/sqlserver/index.html](https://python.langchain.com/api_reference/sqlserver/index.html)"
      ]
    },
    {
      "attachments": {},
      "cell_type": "markdown",
      "metadata": {
        "azdata_cell_guid": "f04dd9d6-d4f2-4425-9c6c-2275ff65c594"
      },
      "source": [
        "## 相关\n- Vector store [概念指南](https://python.langchain.com/docs/concepts/vectorstores/)\n- Vector store [操作指南](https://python.langchain.com/docs/how_to/#vector-stores)"
      ]
    }
  ],
  "metadata": {
    "kernelspec": {
      "display_name": "Python 3",
      "language": "python",
      "name": "python3"
    },
    "language_info": {
      "codemirror_mode": {
        "name": "ipython",
        "version": 3
      },
      "file_extension": ".py",
      "mimetype": "text/x-python",
      "name": "python",
      "nbconvert_exporter": "python",
      "pygments_lexer": "ipython3",
      "version": "3.11.9"
    }
  },
  "nbformat": 4,
  "nbformat_minor": 2
}