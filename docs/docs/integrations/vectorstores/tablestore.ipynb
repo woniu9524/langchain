{
  "cells": [
    {
      "cell_type": "markdown",
      "metadata": {
        "pycharm": {
          "name": "#%% md\n"
        }
      },
      "source": [
        "# Tablestore\n\n[Tablestore](https://www.aliyun.com/product/ots) 是一项全托管的 NoSQL 云数据库服务。\n\nTablestore 能够存储海量的结构化和半结构化数据。\n\n本 Notebook 将展示如何使用与 `Tablestore` 向量数据库相关的功能。\n\n要使用 Tablestore，您必须创建一个实例。\n以下是[创建实例的说明](https://help.aliyun.com/zh/tablestore/getting-started/manage-the-wide-column-model-in-the-tablestore-console)。"
      ]
    },
    {
      "cell_type": "markdown",
      "metadata": {
        "pycharm": {
          "name": "#%% md\n"
        }
      },
      "source": "## 设置"
    },
    {
      "cell_type": "code",
      "execution_count": null,
      "metadata": {},
      "outputs": [],
      "source": [
        "%pip install --upgrade --quiet  langchain-community tablestore"
      ]
    },
    {
      "cell_type": "markdown",
      "metadata": {},
      "source": "## 初始化"
    },
    {
      "cell_type": "code",
      "execution_count": 1,
      "metadata": {
        "ExecuteTime": {
          "end_time": "2024-08-20T11:10:04.469458Z",
          "start_time": "2024-08-20T11:09:49.541150Z"
        },
        "pycharm": {
          "is_executing": true,
          "name": "#%%\n"
        }
      },
      "outputs": [],
      "source": [
        "import getpass\n",
        "import os\n",
        "\n",
        "os.environ[\"end_point\"] = getpass.getpass(\"Tablestore end_point:\")\n",
        "os.environ[\"instance_name\"] = getpass.getpass(\"Tablestore instance_name:\")\n",
        "os.environ[\"access_key_id\"] = getpass.getpass(\"Tablestore access_key_id:\")\n",
        "os.environ[\"access_key_secret\"] = getpass.getpass(\"Tablestore access_key_secret:\")"
      ]
    },
    {
      "cell_type": "markdown",
      "metadata": {},
      "source": "创建向量存储。"
    },
    {
      "cell_type": "code",
      "execution_count": 2,
      "metadata": {
        "ExecuteTime": {
          "end_time": "2024-08-20T11:10:07.911086Z",
          "start_time": "2024-08-20T11:10:07.351293Z"
        }
      },
      "outputs": [],
      "source": [
        "import tablestore\n",
        "from langchain_community.embeddings import FakeEmbeddings\n",
        "from langchain_community.vectorstores import TablestoreVectorStore\n",
        "from langchain_core.documents import Document\n",
        "\n",
        "test_embedding_dimension_size = 4\n",
        "embeddings = FakeEmbeddings(size=test_embedding_dimension_size)\n",
        "\n",
        "store = TablestoreVectorStore(\n",
        "    embedding=embeddings,\n",
        "    endpoint=os.getenv(\"end_point\"),\n",
        "    instance_name=os.getenv(\"instance_name\"),\n",
        "    access_key_id=os.getenv(\"access_key_id\"),\n",
        "    access_key_secret=os.getenv(\"access_key_secret\"),\n",
        "    vector_dimension=test_embedding_dimension_size,\n",
        "    # metadata mapping is used to filter non-vector fields.\n",
        "    metadata_mappings=[\n",
        "        tablestore.FieldSchema(\n",
        "            \"type\", tablestore.FieldType.KEYWORD, index=True, enable_sort_and_agg=True\n",
        "        ),\n",
        "        tablestore.FieldSchema(\n",
        "            \"time\", tablestore.FieldType.LONG, index=True, enable_sort_and_agg=True\n",
        "        ),\n",
        "    ],\n",
        ")"
      ]
    },
    {
      "cell_type": "markdown",
      "metadata": {},
      "source": "## 管理向量存储"
    },
    {
      "cell_type": "markdown",
      "metadata": {},
      "source": "创建表和索引。"
    },
    {
      "cell_type": "code",
      "execution_count": 3,
      "metadata": {
        "ExecuteTime": {
          "end_time": "2024-08-20T11:10:10.875422Z",
          "start_time": "2024-08-20T11:10:10.566400Z"
        }
      },
      "outputs": [],
      "source": [
        "store.create_table_if_not_exist()\n",
        "store.create_search_index_if_not_exist()"
      ]
    },
    {
      "cell_type": "markdown",
      "metadata": {},
      "source": "添加文档。"
    },
    {
      "cell_type": "code",
      "execution_count": 4,
      "metadata": {
        "ExecuteTime": {
          "end_time": "2024-08-20T11:10:14.974253Z",
          "start_time": "2024-08-20T11:10:14.894190Z"
        },
        "pycharm": {
          "is_executing": true,
          "name": "#%%\n"
        }
      },
      "outputs": [
        {
          "data": {
            "text/plain": [
              "['1', '2', '3', '4', '5']"
            ]
          },
          "execution_count": 4,
          "metadata": {},
          "output_type": "execute_result"
        }
      ],
      "source": [
        "store.add_documents(\n",
        "    [\n",
        "        Document(\n",
        "            id=\"1\", page_content=\"1 hello world\", metadata={\"type\": \"pc\", \"time\": 2000}\n",
        "        ),\n",
        "        Document(\n",
        "            id=\"2\", page_content=\"abc world\", metadata={\"type\": \"pc\", \"time\": 2009}\n",
        "        ),\n",
        "        Document(\n",
        "            id=\"3\", page_content=\"3 text world\", metadata={\"type\": \"sky\", \"time\": 2010}\n",
        "        ),\n",
        "        Document(\n",
        "            id=\"4\", page_content=\"hi world\", metadata={\"type\": \"sky\", \"time\": 2030}\n",
        "        ),\n",
        "        Document(\n",
        "            id=\"5\", page_content=\"hi world\", metadata={\"type\": \"sky\", \"time\": 2030}\n",
        "        ),\n",
        "    ]\n",
        ")"
      ]
    },
    {
      "cell_type": "markdown",
      "metadata": {
        "pycharm": {
          "name": "#%% md\n"
        }
      },
      "source": "删除文档。"
    },
    {
      "cell_type": "code",
      "execution_count": 5,
      "metadata": {
        "ExecuteTime": {
          "end_time": "2024-08-20T11:10:17.408739Z",
          "start_time": "2024-08-20T11:10:17.269593Z"
        },
        "pycharm": {
          "name": "#%%\n"
        }
      },
      "outputs": [
        {
          "data": {
            "text/plain": [
              "True"
            ]
          },
          "execution_count": 5,
          "metadata": {},
          "output_type": "execute_result"
        }
      ],
      "source": [
        "store.delete([\"3\"])"
      ]
    },
    {
      "cell_type": "markdown",
      "metadata": {
        "pycharm": {
          "name": "#%% md\n"
        }
      },
      "source": "获取文档。"
    },
    {
      "cell_type": "markdown",
      "metadata": {},
      "source": "## 查询向量存储"
    },
    {
      "cell_type": "code",
      "execution_count": 6,
      "metadata": {
        "ExecuteTime": {
          "end_time": "2024-08-20T11:10:19.379617Z",
          "start_time": "2024-08-20T11:10:19.339970Z"
        },
        "pycharm": {
          "name": "#%%\n"
        }
      },
      "outputs": [
        {
          "data": {
            "text/plain": [
              "[Document(id='1', metadata={'embedding': '[1.3296732307905934, 0.0037521341868022385, 0.9821875819319514, 2.5644103644492393]', 'time': 2000, 'type': 'pc'}, page_content='1 hello world'),\n",
              " None,\n",
              " Document(id='5', metadata={'embedding': '[1.4558082172139821, -1.6441137122167426, -0.13113098640337423, -1.889685473174525]', 'time': 2030, 'type': 'sky'}, page_content='hi world')]"
            ]
          },
          "execution_count": 6,
          "metadata": {},
          "output_type": "execute_result"
        }
      ],
      "source": [
        "store.get_by_ids([\"1\", \"3\", \"5\"])"
      ]
    },
    {
      "cell_type": "markdown",
      "metadata": {},
      "source": "相似性搜索。"
    },
    {
      "cell_type": "code",
      "execution_count": 7,
      "metadata": {
        "ExecuteTime": {
          "end_time": "2024-08-20T11:10:21.306717Z",
          "start_time": "2024-08-20T11:10:21.284244Z"
        }
      },
      "outputs": [
        {
          "data": {
            "text/plain": [
              "[Document(id='1', metadata={'embedding': [1.3296732307905934, 0.0037521341868022385, 0.9821875819319514, 2.5644103644492393], 'time': 2000, 'type': 'pc'}, page_content='1 hello world'),\n",
              " Document(id='4', metadata={'embedding': [-0.3310144199800685, 0.29250046478723635, -0.0646862290377582, -0.23664360156781225], 'time': 2030, 'type': 'sky'}, page_content='hi world')]"
            ]
          },
          "execution_count": 7,
          "metadata": {},
          "output_type": "execute_result"
        }
      ],
      "source": [
        "store.similarity_search(query=\"hello world\", k=2)"
      ]
    },
    {
      "cell_type": "markdown",
      "metadata": {},
      "source": "含过滤器的相似性搜索。"
    },
    {
      "cell_type": "code",
      "execution_count": 8,
      "metadata": {
        "ExecuteTime": {
          "end_time": "2024-08-20T11:10:23.231425Z",
          "start_time": "2024-08-20T11:10:23.213046Z"
        }
      },
      "outputs": [
        {
          "data": {
            "text/plain": [
              "[Document(id='5', metadata={'embedding': [1.4558082172139821, -1.6441137122167426, -0.13113098640337423, -1.889685473174525], 'time': 2030, 'type': 'sky'}, page_content='hi world'),\n",
              " Document(id='4', metadata={'embedding': [-0.3310144199800685, 0.29250046478723635, -0.0646862290377582, -0.23664360156781225], 'time': 2030, 'type': 'sky'}, page_content='hi world')]"
            ]
          },
          "execution_count": 8,
          "metadata": {},
          "output_type": "execute_result"
        }
      ],
      "source": [
        "store.similarity_search(\n",
        "    query=\"hello world\",\n",
        "    k=10,\n",
        "    tablestore_filter_query=tablestore.BoolQuery(\n",
        "        must_queries=[tablestore.TermQuery(field_name=\"type\", column_value=\"sky\")],\n",
        "        should_queries=[tablestore.RangeQuery(field_name=\"time\", range_from=2020)],\n",
        "        must_not_queries=[tablestore.TermQuery(field_name=\"type\", column_value=\"pc\")],\n",
        "    ),\n",
        ")"
      ]
    },
    {
      "cell_type": "markdown",
      "metadata": {},
      "source": [
        "## 用于检索增强生成的使用方法\n\n如需了解如何将此向量存储用于检索增强生成 (RAG)，请参阅以下部分：\n\n- [教程](/docs/tutorials/)\n- [操作方法：使用 RAG 进行问答](https://python.langchain.com/docs/how_to/#qa-with-rag)\n- [检索概念文档](https://python.langchain.com/docs/concepts/retrieval)"
      ]
    },
    {
      "cell_type": "markdown",
      "metadata": {},
      "source": [
        "## API 参考\n\n有关 `TablestoreVectorStore` 所有功能和配置的详细文档，请访问 API 参考：\n https://python.langchain.com/api_reference/community/vectorstores/langchain_community.vectorstores.tablestore.TablestoreVectorStore.html"
      ]
    }
  ],
  "metadata": {
    "kernelspec": {
      "display_name": "Python 3 (ipykernel)",
      "language": "python",
      "name": "python3"
    },
    "language_info": {
      "codemirror_mode": {
        "name": "ipython",
        "version": 3
      },
      "file_extension": ".py",
      "mimetype": "text/x-python",
      "name": "python",
      "nbconvert_exporter": "python",
      "pygments_lexer": "ipython3",
      "version": "3.11.6"
    }
  },
  "nbformat": 4,
  "nbformat_minor": 1
}