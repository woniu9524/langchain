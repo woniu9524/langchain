{
  "cells": [
    {
      "cell_type": "markdown",
      "id": "683953b3",
      "metadata": {},
      "source": [
        "# LLMRails\n\n>[LLMRails](https://www.llmrails.com/) 是一个用于构建 GenAI 应用程序的 API 平台。它提供了一个易于使用的 API，用于文档索引和查询，该 API 由 LLMRails 管理，并针对性能和准确性进行了优化。\n有关如何使用该 API 的更多信息，请参阅 [LLMRails API 文档](https://docs.llmrails.com/)。\n\n您需要安装 `langchain-community`，指令为 `pip install -qU langchain-community`，以使用此集成。\n\n本笔记展示了如何使用与 Langchain 集成的 `LLMRails` 相关的功能。\n请注意，与此类别中的许多其他集成不同，LLMRails 为检索增强生成提供了一个端到端的托管服务，其中包括：\n1. 一种从文档文件中提取文本并将其分割成句子的方法。\n2. 其 নিজস্ব 嵌入模型和向量存储 - 每个文本片段都被编码成向量嵌入并存储在 LLMRails 内部向量存储中。\n3. 一个查询服务，可自动将查询编码为嵌入，并检索最相关的文本片段（包括对 [混合搜索](https://docs.llmrails.com/datastores/search) 的支持）。\n\n所有这些功能都在此 LangChain 集成中得到支持。"
      ]
    },
    {
      "cell_type": "markdown",
      "id": "dc0f4344",
      "metadata": {},
      "source": [
        "# 设置\n\n你需要一个 LLMRails 账户才能在 LangChain 中使用 LLMRails。请按照以下步骤开始：\n1. 如果你还没有 LLMRails 账户，请先[注册](https://console.llmrails.com/signup)。\n2. 接下来你需要创建 API 密钥来访问 API。在语料库视图中点击 **“API Keys”** 标签页，然后点击 **“Create API Key”** 按钮。为你的密钥命名。点击“Create key”，你现在就拥有了一个激活的 API 密钥。请妥善保管此密钥。\n\n要在 LangChain 中使用 LLMRails，你需要以下值：`api_key`。\n你可以通过两种方式将这些值提供给 LangChain：\n\n1. 在你的环境中包含这两个变量：`LLM_RAILS_API_KEY`、`LLM_RAILS_DATASTORE_ID`。\n\n> 例如，你可以使用 `os.environ` 和 `getpass` 来设置这些变量，如下所示：\n\n```python\nimport os\nimport getpass\n\nos.environ[\"LLM_RAILS_API_KEY\"] = getpass.getpass(\"LLMRails API Key:\")\nos.environ[\"LLM_RAILS_DATASTORE_ID\"] = getpass.getpass(\"LLMRails Datastore Id:\")\n```\n\n1. 在创建 LLMRails vectorstore 对象时将它们作为参数提供：\n\n```python\nvectorstore = LLMRails(\n    api_key=llm_rails_api_key,\n    datastore_id=datastore_id\n)\n```"
      ]
    },
    {
      "cell_type": "markdown",
      "id": "d93c4fcd",
      "metadata": {},
      "source": [
        "## 添加文本\n\n要向您的数据存储添加文本，首先需要转到 [Datastores](https://console.llmrails.com/datastores) 页面并创建一个。点击“Create Datastore”按钮，然后为您的数据存储选择一个名称和嵌入模型。接着，从新创建的数据存储设置中获取您的数据存储 ID。"
      ]
    },
    {
      "cell_type": "code",
      "execution_count": 19,
      "id": "0fda552b",
      "metadata": {},
      "outputs": [
        {
          "name": "stdout",
          "output_type": "stream",
          "text": [
            "Collecting tika\n",
            "  Downloading tika-2.6.0.tar.gz (27 kB)\n",
            "  Preparing metadata (setup.py) ... \u001b[?25ldone\n",
            "\u001b[?25hRequirement already satisfied: setuptools in /Users/omaraly/anaconda3/lib/python3.11/site-packages (from tika) (68.2.2)\n",
            "Requirement already satisfied: requests in /Users/omaraly/anaconda3/lib/python3.11/site-packages (from tika) (2.31.0)\n",
            "Requirement already satisfied: charset-normalizer<4,>=2 in /Users/omaraly/anaconda3/lib/python3.11/site-packages (from requests->tika) (2.1.1)\n",
            "Requirement already satisfied: idna<4,>=2.5 in /Users/omaraly/anaconda3/lib/python3.11/site-packages (from requests->tika) (3.4)\n",
            "Requirement already satisfied: urllib3<3,>=1.21.1 in /Users/omaraly/anaconda3/lib/python3.11/site-packages (from requests->tika) (1.26.16)\n",
            "Requirement already satisfied: certifi>=2017.4.17 in /Users/omaraly/anaconda3/lib/python3.11/site-packages (from requests->tika) (2022.12.7)\n",
            "Building wheels for collected packages: tika\n",
            "  Building wheel for tika (setup.py) ... \u001b[?25ldone\n",
            "\u001b[?25h  Created wheel for tika: filename=tika-2.6.0-py3-none-any.whl size=32621 sha256=b3f03c9dbd7f347d712c49027704d48f1a368f31560be9b4ee131f79a52e176f\n",
            "  Stored in directory: /Users/omaraly/Library/Caches/pip/wheels/27/ba/2f/37420d1191bdae5e855d69b8e913673045bfd395cbd78ad697\n",
            "Successfully built tika\n",
            "Installing collected packages: tika\n",
            "Successfully installed tika-2.6.0\n",
            "\n",
            "\u001b[1m[\u001b[0m\u001b[34;49mnotice\u001b[0m\u001b[1;39;49m]\u001b[0m\u001b[39;49m A new release of pip is available: \u001b[0m\u001b[31;49m23.3.1\u001b[0m\u001b[39;49m -> \u001b[0m\u001b[32;49m23.3.2\u001b[0m\n",
            "\u001b[1m[\u001b[0m\u001b[34;49mnotice\u001b[0m\u001b[1;39;49m]\u001b[0m\u001b[39;49m To update, run: \u001b[0m\u001b[32;49mpip install --upgrade pip\u001b[0m\n",
            "Note: you may need to restart the kernel to use updated packages.\n"
          ]
        }
      ],
      "source": [
        "%pip install tika"
      ]
    },
    {
      "cell_type": "code",
      "execution_count": 37,
      "id": "920f4644",
      "metadata": {},
      "outputs": [],
      "source": [
        "import os\n",
        "\n",
        "from langchain_community.vectorstores import LLMRails\n",
        "\n",
        "os.environ[\"LLM_RAILS_DATASTORE_ID\"] = \"Your datastore id \"\n",
        "os.environ[\"LLM_RAILS_API_KEY\"] = \"Your API Key\"\n",
        "\n",
        "llm_rails = LLMRails.from_texts([\"Your text here\"])"
      ]
    },
    {
      "cell_type": "markdown",
      "id": "1f9215c8",
      "metadata": {
        "ExecuteTime": {
          "end_time": "2023-04-04T09:27:29.920258Z",
          "start_time": "2023-04-04T09:27:29.913714Z"
        }
      },
      "source": [
        "## 相似性搜索\n\nLLMRails 最简单的使用场景是执行相似性搜索。"
      ]
    },
    {
      "cell_type": "code",
      "execution_count": 39,
      "id": "a8c513ab",
      "metadata": {
        "ExecuteTime": {
          "end_time": "2023-04-04T10:51:25.204469Z",
          "start_time": "2023-04-04T10:51:24.855618Z"
        },
        "tags": []
      },
      "outputs": [],
      "source": [
        "query = \"What do you plan to do about national security?\"\n",
        "found_docs = llm_rails.similarity_search(query, k=5)"
      ]
    },
    {
      "cell_type": "code",
      "execution_count": 40,
      "id": "fc516993",
      "metadata": {
        "ExecuteTime": {
          "end_time": "2023-04-04T10:51:25.220984Z",
          "start_time": "2023-04-04T10:51:25.213943Z"
        },
        "tags": []
      },
      "outputs": [
        {
          "name": "stdout",
          "output_type": "stream",
          "text": [
            "6  N A T I O N A L S E C U R I T Y S T R A T E G Y Page 7 \n",
            "\n",
            "This National Security Strategy lays out our plan to achieve a better future of a free, open, secure, and prosperous world.\n",
            "\n",
            "Our strategy is rooted in our national interests: to protect the security of the American people; to expand economic prosperity and opportunity; and to realize and defend the democratic values at the heart of the American way of life.\n",
            "\n",
            "We can do none of this alone and we do not have to.\n",
            "\n",
            "Most nations around the world define their interests in ways that are compatible with ours.\n",
            "\n",
            "We will build the strongest and broadest possible coalition of nations that seek to cooperate with each other, while competing with those powers that offer a darker vision and thwarting their efforts to threaten our interests.\n",
            "\n",
            "Our Enduring Role The need for a strong and purposeful American role in the world has never been greater.\n",
            "\n",
            "The world is becoming more divided and unstable.\n",
            "\n",
            "Global increases in inflation since the COVID-19 pandemic began have made life more difficult for many.\n",
            "\n",
            "The basic laws and principles governing relations among nations, including the United Nations Charter and the protection it affords all states from being invaded by their neighbors or having their borders redrawn by force, are under attack.\n",
            "\n",
            "The risk of conflict between major powers is increasing.\n",
            "\n",
            "Democracies and autocracies are engaged in a contest to show which system of governance can best deliver for their people and the world.\n",
            "\n",
            "Competition to develop and deploy foundational technologies that will transform our security and economy is intensifying.\n",
            "\n",
            "Global cooperation on shared interests has frayed, even as the need for that cooperation takes on existential importance.\n",
            "\n",
            "The scale of these changes grows with each passing year, as do the risks of inaction.\n",
            "\n",
            "Although the international environment has become more contested, the United States remains the world’s leading power.\n"
          ]
        }
      ],
      "source": [
        "print(found_docs[0].page_content)"
      ]
    },
    {
      "cell_type": "markdown",
      "id": "1bda9bf5",
      "metadata": {},
      "source": [
        "## 相似性搜索及评分\n\n有时我们的目标是进行搜索，同时还需要获取相关性得分，以了解特定结果的好坏程度。"
      ]
    },
    {
      "cell_type": "code",
      "execution_count": 41,
      "id": "8804a21d",
      "metadata": {
        "ExecuteTime": {
          "end_time": "2023-04-04T10:51:25.631585Z",
          "start_time": "2023-04-04T10:51:25.227384Z"
        }
      },
      "outputs": [],
      "source": [
        "query = \"What is your approach to national defense\"\n",
        "found_docs = llm_rails.similarity_search_with_score(\n",
        "    query,\n",
        "    k=5,\n",
        ")"
      ]
    },
    {
      "cell_type": "code",
      "execution_count": 42,
      "id": "756a6887",
      "metadata": {
        "ExecuteTime": {
          "end_time": "2023-04-04T10:51:25.642282Z",
          "start_time": "2023-04-04T10:51:25.635947Z"
        }
      },
      "outputs": [
        {
          "name": "stdout",
          "output_type": "stream",
          "text": [
            "But we will do so as the last resort and only when the objectives and mission are clear and achievable, consistent with our values and laws, alongside non-military tools, and the mission is undertaken with the informed consent of the American people.\n",
            "\n",
            "Our approach to national defense is described in detail in the 2022 National Defense Strategy.\n",
            "\n",
            "Our starting premise is that a powerful U.S. military helps advance and safeguard vital U.S. national interests by backstopping diplomacy, confronting aggression, deterring conflict, projecting strength, and protecting the American people and their economic interests.\n",
            "\n",
            "Amid intensifying competition, the military’s role is to maintain and gain warfighting advantages while limiting those of our competitors.\n",
            "\n",
            "The military will act urgently to sustain and strengthen deterrence, with the PRC as its pacing challenge.\n",
            "\n",
            "We will make disciplined choices regarding our national defense and focus our attention on the military’s primary responsibilities: to defend the homeland, and deter attacks and aggression against the United States, our allies and partners, while being prepared to fight and win the Nation’s wars should diplomacy and deterrence fail.\n",
            "\n",
            "To do so, we will combine our strengths to achieve maximum effect in deterring acts of aggression—an approach we refer to as integrated deterrence (see text box on page 22).\n",
            "\n",
            "We will operate our military using a campaigning mindset—sequencing logically linked military activities to advance strategy-aligned priorities.\n",
            "\n",
            "And, we will build a resilient force and defense ecosystem to ensure we can perform these functions for decades to come.\n",
            "\n",
            "We ended America’s longest war in Afghanistan, and with it an era of major military operations to remake other societies, even as we have maintained the capacity to address terrorist threats to the American people as they emerge.\n",
            "\n",
            "20  NATIONAL SECURITY STRATEGY Page 21 \n",
            "\n",
            "A combat-credible military is the foundation of deterrence and America’s ability to prevail in conflict.\n",
            "\n",
            "Score: 0.5040982687179959\n"
          ]
        }
      ],
      "source": [
        "document, score = found_docs[0]\n",
        "print(document.page_content)\n",
        "print(f\"\\nScore: {score}\")"
      ]
    },
    {
      "cell_type": "markdown",
      "id": "691a82d6",
      "metadata": {},
      "source": [
        "## LLMRails 作为检索器\n\nLLMRails，如同其他 LangChain 的向量存储一样，通常被用作 LangChain 的检索器："
      ]
    },
    {
      "cell_type": "code",
      "execution_count": 43,
      "id": "9427195f",
      "metadata": {
        "ExecuteTime": {
          "end_time": "2023-04-04T10:51:26.031451Z",
          "start_time": "2023-04-04T10:51:26.018763Z"
        }
      },
      "outputs": [
        {
          "data": {
            "text/plain": [
              "LLMRailsRetriever(vectorstore=<langchain_community.vectorstores.llm_rails.LLMRails object at 0x1235b0e50>)"
            ]
          },
          "execution_count": 43,
          "metadata": {},
          "output_type": "execute_result"
        }
      ],
      "source": [
        "retriever = llm_rails.as_retriever()\n",
        "retriever"
      ]
    },
    {
      "cell_type": "code",
      "execution_count": 44,
      "id": "f3c70c31",
      "metadata": {
        "ExecuteTime": {
          "end_time": "2023-04-04T10:51:26.495652Z",
          "start_time": "2023-04-04T10:51:26.046407Z"
        }
      },
      "outputs": [
        {
          "data": {
            "text/plain": [
              "[Document(page_content='But we will do so as the last resort and only when the objectives and mission are clear and achievable, consistent with our values and laws, alongside non-military tools, and the mission is undertaken with the informed consent of the American people.\\n\\nOur approach to national defense is described in detail in the 2022 National Defense Strategy.\\n\\nOur starting premise is that a powerful U.S. military helps advance and safeguard vital U.S. national interests by backstopping diplomacy, confronting aggression, deterring conflict, projecting strength, and protecting the American people and their economic interests.\\n\\nAmid intensifying competition, the military’s role is to maintain and gain warfighting advantages while limiting those of our competitors.\\n\\nThe military will act urgently to sustain and strengthen deterrence, with the PRC as its pacing challenge.\\n\\nWe will make disciplined choices regarding our national defense and focus our attention on the military’s primary responsibilities: to defend the homeland, and deter attacks and aggression against the United States, our allies and partners, while being prepared to fight and win the Nation’s wars should diplomacy and deterrence fail.\\n\\nTo do so, we will combine our strengths to achieve maximum effect in deterring acts of aggression—an approach we refer to as integrated deterrence (see text box on page 22).\\n\\nWe will operate our military using a campaigning mindset—sequencing logically linked military activities to advance strategy-aligned priorities.\\n\\nAnd, we will build a resilient force and defense ecosystem to ensure we can perform these functions for decades to come.\\n\\nWe ended America’s longest war in Afghanistan, and with it an era of major military operations to remake other societies, even as we have maintained the capacity to address terrorist threats to the American people as they emerge.\\n\\n20  NATIONAL SECURITY STRATEGY Page 21 \\x90\\x90\\x90\\x90\\x90\\x90\\n\\nA combat-credible military is the foundation of deterrence and America’s ability to prevail in conflict.', metadata={'type': 'file', 'url': 'https://cdn.llmrails.com/dst_466092be-e79a-49f3-b3e6-50e51ddae186/a63892afdee3469d863520351bd5af9f', 'name': 'Biden-Harris-Administrations-National-Security-Strategy-10.2022.pdf', 'filters': {}}),\n",
              " Document(page_content='Your text here', metadata={'type': 'text', 'url': 'https://cdn.llmrails.com/dst_466092be-e79a-49f3-b3e6-50e51ddae186/63c17ac6395e4be1967c63a16356818e', 'name': '71370a91-7f58-4cc7-b2e7-546325960330', 'filters': {}}),\n",
              " Document(page_content='Page 1 NATIONAL SECURITY STRATEGY OCTOBER 2022 Page 2 October 12, 2022 From the earliest days of my Presidency, I have argued that our world is at an inflection point.\\n\\nHow we respond to the tremendous challenges and the unprecedented opportunities we face today will determine the direction of our world and impact the security and prosperity of the American people for generations to come.\\n\\nThe 2022 National Security Strategy outlines how my Administration will seize this decisive decade to advance America’s vital interests, position the United States to outmaneuver our geopolitical competitors, tackle shared challenges, and set our world firmly on a path toward a brighter and more hopeful tomorrow.\\n\\nAround the world, the need for American leadership is as great as it has ever been.\\n\\nWe are in the midst of a strategic competition to shape the future of the international order.\\n\\nMeanwhile, shared challenges that impact people everywhere demand increased global cooperation and nations stepping up to their responsibilities at a moment when this has become more difficult.\\n\\nIn response, the United States will lead with our values, and we will work in lockstep with our allies and partners and with all those who share our interests.\\n\\nWe will not leave our future vulnerable to the whims of those who do not share our vision for a world that is free, open, prosperous, and secure.\\n\\nAs the world continues to navigate the lingering impacts of the pandemic and global economic uncertainty, there is no nation better positioned to lead with strength and purpose than the United States of America.\\n\\nFrom the moment I took the oath of office, my Administration has focused on investing in America’s core strategic advantages.\\n\\nOur economy has added 10 million jobs and unemployment rates have reached near record lows.\\n\\nManufacturing jobs have come racing back to the United States.\\n\\nWe’re rebuilding our economy from the bottom up and the middle out.', metadata={'type': 'file', 'url': 'https://cdn.llmrails.com/dst_466092be-e79a-49f3-b3e6-50e51ddae186/a63892afdee3469d863520351bd5af9f', 'name': 'Biden-Harris-Administrations-National-Security-Strategy-10.2022.pdf', 'filters': {}}),\n",
              " Document(page_content='Your text here', metadata={'type': 'text', 'url': 'https://cdn.llmrails.com/dst_466092be-e79a-49f3-b3e6-50e51ddae186/8c414a9306e04d47a300f0289ba6e9cf', 'name': 'dacc29f5-8c63-46e0-b5aa-cab2d3c99fb7', 'filters': {}}),\n",
              " Document(page_content='To ensure our nuclear deterrent remains responsive to the threats we face, we are modernizing the nuclear Triad, nuclear command, control, and communications, and our nuclear weapons infrastructure, as well as strengthening our extended deterrence commitments to our Allies.\\n\\nWe remain equally committed to reducing the risks of nuclear war.\\n\\nThis includes taking further steps to reduce the role of nuclear weapons in our strategy and pursuing realistic goals for mutual, verifiable arms control, which contribute to our deterrence strategy and strengthen the global non-proliferation regime.\\n\\nThe most important investments are those made in the extraordinary All-Volunteer Force of the Army, Marine Corps, Navy, Air Force, Space Force, Coast Guard—together with our Department of Defense civilian workforce.\\n\\nOur service members are the backbone of America’s national defense and we are committed to their wellbeing and their families while in service and beyond.\\n\\nWe will maintain our foundational principle of civilian control of the military, recognizing that healthy civil-military relations rooted in mutual respect are essential to military effectiveness.\\n\\nWe will strengthen the effectiveness of the force by promoting diversity and inclusion; intensifying our suicide prevention efforts; eliminating the scourges of sexual assault, harassment, and other forms of violence, abuse, and discrimination; and rooting out violent extremism.\\n\\nWe will also uphold our Nation’s sacred obligation to care for veterans and their families when our troops return home.\\n\\nNATIONAL SECURITY STRATEGY 21 Page 22 \\x90\\x90\\x90\\x90\\x90\\x90\\n\\nIntegrated Deterrence The United States has a vital interest in deterring aggression by the PRC, Russia, and other states.\\n\\nMore capable competitors and new strategies of threatening behavior below and above the traditional threshold of conflict mean we cannot afford to rely solely on conventional forces and nuclear deterrence.\\n\\nOur defense strategy must sustain and strengthen deterrence, with the PRC as our pacing challenge.', metadata={'type': 'file', 'url': 'https://cdn.llmrails.com/dst_466092be-e79a-49f3-b3e6-50e51ddae186/a63892afdee3469d863520351bd5af9f', 'name': 'Biden-Harris-Administrations-National-Security-Strategy-10.2022.pdf', 'filters': {}})]"
            ]
          },
          "execution_count": 44,
          "metadata": {},
          "output_type": "execute_result"
        }
      ],
      "source": [
        "query = \"What is your approach to national defense\"\n",
        "retriever.invoke(query)"
      ]
    }
  ],
  "metadata": {
    "kernelspec": {
      "display_name": "Python 3 (ipykernel)",
      "language": "python",
      "name": "python3"
    },
    "language_info": {
      "codemirror_mode": {
        "name": "ipython",
        "version": 3
      },
      "file_extension": ".py",
      "mimetype": "text/x-python",
      "name": "python",
      "nbconvert_exporter": "python",
      "pygments_lexer": "ipython3",
      "version": "3.11.3"
    }
  },
  "nbformat": 4,
  "nbformat_minor": 5
}