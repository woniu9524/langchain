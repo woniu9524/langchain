{
  "cells": [
    {
      "cell_type": "markdown",
      "metadata": {
        "id": "E_RJy7C1bpCT"
      },
      "source": [
        "# Google BigQuery 向量搜索\n\n> [Google Cloud BigQuery 向量搜索](https://cloud.google.com/bigquery/docs/vector-search-intro) 可让您使用 GoogleSQL 进行语义搜索，使用向量索引获得快速的近似结果，或使用暴力搜索获得精确结果。\n\n本教程将介绍如何在 LangChain 中处理端到端数据和嵌入管理系统，并通过 `BigQueryVectorStore` 类在 BigQuery 中提供可扩展的语义搜索。此类是能够为 Google Cloud 提供统一数据存储和灵活向量搜索的 2 个类的一部分：\n\n- **BigQuery 向量搜索**: 使用 `BigQueryVectorStore` 类，非常适合无需基础设施设置即可进行快速原型设计和批量检索。\n- **Feature Store Online Store**: 使用 `VertexFSVectorStore` 类，通过手动或计划数据同步实现低延迟检索。非常适合生产就绪的用户面向的 GenAI 应用程序。"
      ]
    },
    {
      "cell_type": "markdown",
      "metadata": {
        "id": "25a003cd4edc"
      },
      "source": [
        "![Diagram BQ-VertexFS](data:image/png;base64,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)"
      ]
    },
    {
      "cell_type": "markdown",
      "metadata": {
        "id": "EmPJkpOCckyh"
      },
      "source": [
        "## 入门"
      ]
    },
    {
      "cell_type": "markdown",
      "metadata": {
        "id": "IR54BmgvdHT_"
      },
      "source": [
        "### 安装库"
      ]
    },
    {
      "cell_type": "code",
      "execution_count": null,
      "metadata": {
        "id": "0ZITIDE160OD"
      },
      "outputs": [],
      "source": [
        "%pip install --upgrade --quiet  langchain langchain-google-vertexai \"langchain-google-community[featurestore]\""
      ]
    },
    {
      "cell_type": "markdown",
      "metadata": {
        "id": "v40bB_GMcr9f"
      },
      "source": [
        "为了在此 Jupyter运行时中使用新安装的软件包，您必须重启运行时。您可以通过运行下面的单元格来完成此操作，这将重启当前的内核。"
      ]
    },
    {
      "cell_type": "code",
      "execution_count": null,
      "metadata": {
        "id": "6o0iGVIdDD6K"
      },
      "outputs": [],
      "source": [
        "import IPython\n",
        "\n",
        "app = IPython.Application.instance()\n",
        "app.kernel.do_shutdown(True)"
      ]
    },
    {
      "cell_type": "markdown",
      "metadata": {
        "id": "be453ee45565"
      },
      "source": [
        "## 开始之前"
      ]
    },
    {
      "cell_type": "markdown",
      "metadata": {
        "id": "fb8ebc778a77"
      },
      "source": [
        "#### 设置您的项目 ID\n\n如果您不知道您的项目 ID，请尝试以下方法：\n* 运行 `gcloud config list`。\n* 运行 `gcloud projects list`。\n* 查看支持页面：[查找项目 ID](https://support.google.com/googleapi/answer/7014113)。"
      ]
    },
    {
      "cell_type": "code",
      "execution_count": null,
      "metadata": {
        "id": "3f00771c2519"
      },
      "outputs": [],
      "source": [
        "PROJECT_ID = \"\"  # @param {type:\"string\"}\n",
        "\n",
        "# Set the project id\n",
        "! gcloud config set project {PROJECT_ID}"
      ]
    },
    {
      "cell_type": "markdown",
      "metadata": {
        "id": "0c8db9870db1"
      },
      "source": [
        "#### 设置区域\n\n您还可以更改 BigQuery 使用的 `REGION` 变量。 了解更多关于 [BigQuery 区域](https://cloud.google.com/bigquery/docs/locations#supported_locations) 的信息。"
      ]
    },
    {
      "cell_type": "code",
      "execution_count": null,
      "metadata": {
        "id": "afbc16ea31fc"
      },
      "outputs": [],
      "source": [
        "REGION = \"us-central1\"  # @param {type: \"string\"}"
      ]
    },
    {
      "cell_type": "markdown",
      "metadata": {
        "id": "1af54eb03565"
      },
      "source": [
        "#### 设置数据集和表名\n\n它们将是您的 BigQuery 向量商店。"
      ]
    },
    {
      "cell_type": "code",
      "execution_count": null,
      "metadata": {
        "id": "259862ba68b1"
      },
      "outputs": [],
      "source": [
        "DATASET = \"my_langchain_dataset\"  # @param {type: \"string\"}\n",
        "TABLE = \"doc_and_vectors\"  # @param {type: \"string\"}"
      ]
    },
    {
      "cell_type": "markdown",
      "metadata": {
        "id": "445325c9b3bb"
      },
      "source": [
        "### 验证你的笔记本环境\n\n- 如果你正在使用 **Colab** 运行此笔记本，请取消注释下面的单元格并继续。\n- 如果你正在使用 **Vertex AI Workbench**，请查看此处的设置说明：[https://github.com/GoogleCloudPlatform/generative-ai/tree/main/setup-env](https://github.com/GoogleCloudPlatform/generative-ai/tree/main/setup-env)。"
      ]
    },
    {
      "cell_type": "code",
      "execution_count": null,
      "metadata": {
        "id": "d9ff48bb5b3c"
      },
      "outputs": [],
      "source": [
        "# from google.colab import auth as google_auth\n",
        "\n",
        "# google_auth.authenticate_user()"
      ]
    },
    {
      "cell_type": "markdown",
      "metadata": {
        "id": "AD3yG49BdLlr"
      },
      "source": [
        "## Demo: BigQueryVectorStore"
      ]
    },
    {
      "cell_type": "markdown",
      "metadata": {
        "id": "7b62754dfe6b"
      },
      "source": [
        "### 创建 embedding 类实例\n\n您可能需要在项目中启用 Vertex AI API，方法是运行\n`gcloud services enable aiplatform.googleapis.com --project {PROJECT_ID}`\n（将 `{PROJECT_ID}` 替换为您的项目名称）。\n\n您可以使用任何 [LangChain 文本嵌入模型](/docs/integrations/text_embedding/)。"
      ]
    },
    {
      "cell_type": "code",
      "execution_count": null,
      "metadata": {
        "id": "Vb2RJocV9_LQ"
      },
      "outputs": [],
      "source": [
        "from langchain_google_vertexai import VertexAIEmbeddings\n",
        "\n",
        "embedding = VertexAIEmbeddings(\n",
        "    model_name=\"textembedding-gecko@latest\", project=PROJECT_ID\n",
        ")"
      ]
    },
    {
      "cell_type": "markdown",
      "metadata": {
        "id": "76be94ede55d"
      },
      "source": [
        "### 初始化 BigQueryVectorStore\n\n如果 BigQuery 数据集和表不存在，将会被自动创建。更多可选参数请参见此处的类定义：[here](https://github.com/langchain-ai/langchain-google/blob/main/libs/community/langchain_google_community/bq_storage_vectorstores/bigquery.py#L26)。"
      ]
    },
    {
      "cell_type": "code",
      "execution_count": null,
      "metadata": {
        "id": "14fccb04425d"
      },
      "outputs": [],
      "source": [
        "from langchain_google_community import BigQueryVectorStore\n",
        "\n",
        "store = BigQueryVectorStore(\n",
        "    project_id=PROJECT_ID,\n",
        "    dataset_name=DATASET,\n",
        "    table_name=TABLE,\n",
        "    location=REGION,\n",
        "    embedding=embedding,\n",
        ")"
      ]
    },
    {
      "cell_type": "markdown",
      "metadata": {
        "id": "d579f1a26c9a"
      },
      "source": [
        "### 添加文本"
      ]
    },
    {
      "cell_type": "code",
      "execution_count": null,
      "metadata": {
        "id": "ebe4f493008b"
      },
      "outputs": [],
      "source": [
        "all_texts = [\"Apples and oranges\", \"Cars and airplanes\", \"Pineapple\", \"Train\", \"Banana\"]\n",
        "metadatas = [{\"len\": len(t)} for t in all_texts]\n",
        "\n",
        "store.add_texts(all_texts, metadatas=metadatas)"
      ]
    },
    {
      "cell_type": "markdown",
      "metadata": {
        "id": "665e519e68bc"
      },
      "source": [
        "### 搜索文档"
      ]
    },
    {
      "cell_type": "code",
      "execution_count": null,
      "metadata": {
        "id": "649e43849f40"
      },
      "outputs": [],
      "source": [
        "query = \"I'd like a fruit.\"\n",
        "docs = store.similarity_search(query)\n",
        "print(docs)"
      ]
    },
    {
      "cell_type": "markdown",
      "metadata": {
        "id": "390820e4b286"
      },
      "source": [
        "### 按向量搜索文档"
      ]
    },
    {
      "cell_type": "code",
      "execution_count": null,
      "metadata": {
        "id": "78485da9655c"
      },
      "outputs": [],
      "source": [
        "query_vector = embedding.embed_query(query)\n",
        "docs = store.similarity_search_by_vector(query_vector, k=2)\n",
        "print(docs)"
      ]
    },
    {
      "cell_type": "markdown",
      "metadata": {
        "id": "20cf6074081b"
      },
      "source": [
        "### 使用元数据过滤器搜索文档\n向量存储支持两种在执行文档搜索时应用元数据字段过滤器的方法：\n\n-   基于字典的过滤器\n    -   您可以传递一个字典（dict），其中键代表元数据字段，值指定过滤条件。此方法在键和相应值之间应用相等性过滤器。当提供多个键值对时，它们将通过逻辑 AND 操作组合。\n-   基于 SQL 的过滤器\n    -   或者，您可以提供一个表示 SQL WHERE 子句的字符串来定义更复杂的过滤条件。这提供了更大的灵活性，支持诸如比较运算符和逻辑运算符之类的 SQL 表达式。了解更多关于 [BigQuery 运算符](https://cloud.google.com/bigquery/docs/reference/standard-sql/operators)的信息。"
      ]
    },
    {
      "cell_type": "code",
      "execution_count": null,
      "metadata": {
        "id": "5062f853c455"
      },
      "outputs": [],
      "source": [
        "# Dictionary-based Filters\n",
        "# This should only return \"Banana\" document.\n",
        "docs = store.similarity_search_by_vector(query_vector, filter={\"len\": 6})\n",
        "print(docs)"
      ]
    },
    {
      "cell_type": "code",
      "execution_count": null,
      "metadata": {},
      "outputs": [],
      "source": [
        "# SQL-based Filters\n",
        "# This should return \"Banana\", \"Apples and oranges\" and \"Cars and airplanes\" documents.\n",
        "docs = store.similarity_search_by_vector(query_vector, filter=\"len = 6 AND len > 17\")\n",
        "print(docs)"
      ]
    },
    {
      "cell_type": "markdown",
      "metadata": {
        "id": "b0308d680ee4"
      },
      "source": [
        "### 批量搜索\nBigQueryVectorStore 提供了 `batch_search` 方法，用于可扩展的向量相似性搜索。"
      ]
    },
    {
      "cell_type": "code",
      "execution_count": null,
      "metadata": {
        "id": "2790964dbc41"
      },
      "outputs": [],
      "source": [
        "results = store.batch_search(\n",
        "    embeddings=None,  # can pass embeddings or\n",
        "    queries=[\"search_query\", \"search_query\"],  # can pass queries\n",
        ")"
      ]
    },
    {
      "cell_type": "markdown",
      "metadata": {
        "id": "266a68de0e06"
      },
      "source": [
        "### 添加带有嵌入的文本\n\n您也可以使用 `add_texts_with_embeddings` 方法添加自己的嵌入。\n这对于可能需要自定义预处理才能生成嵌入的多模态数据特别有用。"
      ]
    },
    {
      "cell_type": "code",
      "execution_count": null,
      "metadata": {
        "id": "1b9e2f593813"
      },
      "outputs": [],
      "source": [
        "items = [\"some text\"]\n",
        "embs = embedding.embed(items)\n",
        "\n",
        "ids = store.add_texts_with_embeddings(\n",
        "    texts=[\"some text\"], embs=embs, metadatas=[{\"len\": 1}]\n",
        ")"
      ]
    },
    {
      "cell_type": "markdown",
      "metadata": {
        "id": "f6867d68e057"
      },
      "source": [
        "### 使用 Feature Store 实现低延迟服务\n您只需使用 `.to_vertex_fs_vector_store()` 方法即可获取 VertexFSVectorStore 对象，该对象为在线用例提供低延迟服务。所有强制性参数将自动从现有的 BigQueryVectorStore 类传输。有关您可以使用所有其他参数的信息，请参阅[类定义](https://github.com/langchain-ai/langchain-google/blob/main/libs/community/langchain_google_community/bq_storage_vectorstores/featurestore.py#L33)。\n\n使用 `.to_bq_vector_store()` 方法可以轻松地移回 BigQueryVectorStore。"
      ]
    },
    {
      "cell_type": "code",
      "execution_count": null,
      "metadata": {
        "id": "1d2d3f17dfde"
      },
      "outputs": [],
      "source": [
        "store.to_vertex_fs_vector_store()  # pass optional VertexFSVectorStore parameters as arguments"
      ]
    }
  ],
  "metadata": {
    "colab": {
      "name": "google_bigquery_vector_search.ipynb",
      "toc_visible": true
    },
    "kernelspec": {
      "display_name": "Python 3 (ipykernel)",
      "language": "python",
      "name": "python3"
    },
    "language_info": {
      "codemirror_mode": {
        "name": "ipython",
        "version": 3
      },
      "file_extension": ".py",
      "mimetype": "text/x-python",
      "name": "python",
      "nbconvert_exporter": "python",
      "pygments_lexer": "ipython3",
      "version": "3.10.9"
    }
  },
  "nbformat": 4,
  "nbformat_minor": 4
}