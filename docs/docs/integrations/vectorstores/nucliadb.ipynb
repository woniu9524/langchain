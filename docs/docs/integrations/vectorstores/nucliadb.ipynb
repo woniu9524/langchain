{
  "cells": [
    {
      "cell_type": "markdown",
      "metadata": {},
      "source": [
        "# NucliaDB\n\n您可以使用本地 NucliaDB 实例或使用 [Nuclia Cloud](https://nuclia.cloud)。\n\n当使用本地实例时，您需要一个 Nuclia Understanding API 密钥，以便您的文本能够被正确地向量化和索引。您可以访问 [https://nuclia.cloud](https://nuclia.cloud) 创建一个免费账户，然后 [创建 NUA 密钥](https://docs.nuclia.dev/docs/docs/using/understanding/intro) 来获取密钥。"
      ]
    },
    {
      "cell_type": "code",
      "execution_count": null,
      "metadata": {},
      "outputs": [],
      "source": [
        "%pip install --upgrade --quiet  langchain langchain-community nuclia"
      ]
    },
    {
      "cell_type": "markdown",
      "metadata": {},
      "source": [
        "## 在 nuclia.cloud 中使用"
      ]
    },
    {
      "cell_type": "code",
      "execution_count": null,
      "metadata": {},
      "outputs": [],
      "source": [
        "from langchain_community.vectorstores.nucliadb import NucliaDB\n",
        "\n",
        "API_KEY = \"YOUR_API_KEY\"\n",
        "\n",
        "ndb = NucliaDB(knowledge_box=\"YOUR_KB_ID\", local=False, api_key=API_KEY)"
      ]
    },
    {
      "cell_type": "markdown",
      "metadata": {},
      "source": [
        "## 本地实例使用方法\n\n注意：默认情况下，`backend` 设置为 `http://localhost:8080`。"
      ]
    },
    {
      "cell_type": "code",
      "execution_count": null,
      "metadata": {},
      "outputs": [],
      "source": [
        "from langchain_community.vectorstores.nucliadb import NucliaDB\n",
        "\n",
        "ndb = NucliaDB(knowledge_box=\"YOUR_KB_ID\", local=True, backend=\"http://my-local-server\")"
      ]
    },
    {
      "cell_type": "markdown",
      "metadata": {},
      "source": [
        "## 添加和删除知识库文本"
      ]
    },
    {
      "cell_type": "code",
      "execution_count": null,
      "metadata": {},
      "outputs": [],
      "source": [
        "ids = ndb.add_texts([\"This is a new test\", \"This is a second test\"])"
      ]
    },
    {
      "cell_type": "code",
      "execution_count": null,
      "metadata": {},
      "outputs": [],
      "source": [
        "ndb.delete(ids=ids)"
      ]
    },
    {
      "cell_type": "markdown",
      "metadata": {},
      "source": [
        "## 在您的知识库中搜索"
      ]
    },
    {
      "cell_type": "code",
      "execution_count": null,
      "metadata": {},
      "outputs": [],
      "source": [
        "results = ndb.similarity_search(\"Who was inspired by Ada Lovelace?\")\n",
        "print(results[0].page_content)"
      ]
    }
  ],
  "metadata": {
    "kernelspec": {
      "display_name": "Python 3 (ipykernel)",
      "language": "python",
      "name": "python3"
    },
    "language_info": {
      "codemirror_mode": {
        "name": "ipython",
        "version": 3
      },
      "file_extension": ".py",
      "mimetype": "text/x-python",
      "name": "python",
      "nbconvert_exporter": "python",
      "pygments_lexer": "ipython3",
      "version": "3.10.12"
    }
  },
  "nbformat": 4,
  "nbformat_minor": 4
}