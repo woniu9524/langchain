{
  "cells": [
    {
      "cell_type": "markdown",
      "id": "cffb482c-bbd8-4829-b185-0d930a5fe0bc",
      "metadata": {},
      "source": [
        "# Infinispan\n\nInfinispan 是一个开源键值数据网格，它可以作为单个节点运行，也可以分布式运行。\n\n自 15.x 版本起支持向量搜索\n更多信息请访问：[Infinispan Home](https://infinispan.org)"
      ]
    },
    {
      "cell_type": "code",
      "execution_count": null,
      "id": "03ec8f9a-7641-47ea-9fa0-f43ee9fc79a3",
      "metadata": {},
      "outputs": [],
      "source": [
        "# Ensure that all we need is installed\n",
        "# You may want to skip this\n",
        "%pip install sentence-transformers\n",
        "%pip install langchain\n",
        "%pip install langchain_core\n",
        "%pip install langchain_community"
      ]
    },
    {
      "cell_type": "markdown",
      "id": "180d172e-cca1-481c-87d5-c4f14684604d",
      "metadata": {},
      "source": [
        "# 设置\n\n要运行此演示，我们需要一个正在运行的 Infinispan 实例，该实例不需要身份验证，并且需要一个数据文件。\n在接下来的三个单元格中，我们将：\n- 下载数据文件\n- 创建配置\n- 在 docker 中运行 Infinispan"
      ]
    },
    {
      "cell_type": "code",
      "execution_count": null,
      "id": "9678d5ce-894c-4e28-bf68-20d45507122f",
      "metadata": {},
      "outputs": [],
      "source": [
        "%%bash\n",
        "#get an archive of news\n",
        "wget https://raw.githubusercontent.com/rigazilla/infinispan-vector/main/bbc_news.csv.gz"
      ]
    },
    {
      "cell_type": "code",
      "execution_count": null,
      "id": "b251e66e-f056-4e81-a6b4-5f4d95b6537d",
      "metadata": {},
      "outputs": [],
      "source": [
        "%%bash\n",
        "#create infinispan configuration file\n",
        "echo 'infinispan:\n",
        "  cache-container: \n",
        "    name: default\n",
        "    transport: \n",
        "      cluster: cluster \n",
        "      stack: tcp \n",
        "  server:\n",
        "    interfaces:\n",
        "      interface:\n",
        "        name: public\n",
        "        inet-address:\n",
        "          value: 0.0.0.0 \n",
        "    socket-bindings:\n",
        "      default-interface: public\n",
        "      port-offset: 0        \n",
        "      socket-binding:\n",
        "        name: default\n",
        "        port: 11222\n",
        "    endpoints:\n",
        "      endpoint:\n",
        "        socket-binding: default\n",
        "        rest-connector:\n",
        "' > infinispan-noauth.yaml"
      ]
    },
    {
      "cell_type": "code",
      "execution_count": null,
      "id": "009da6d1-9d1a-4392-90f1-5c654dd12654",
      "metadata": {},
      "outputs": [],
      "source": [
        "!docker rm --force infinispanvs-demo\n",
        "!docker run -d --name infinispanvs-demo -v $(pwd):/user-config  -p 11222:11222 infinispan/server:15.0 -c /user-config/infinispan-noauth.yaml"
      ]
    },
    {
      "cell_type": "markdown",
      "id": "b575cde9-4c62-47b3-af89-109ed39f56b6",
      "metadata": {},
      "source": [
        "# 代码\n\n## 选择一个嵌入模型\n\n在此演示中，我们使用的是 HuggingFace 的嵌入模型。"
      ]
    },
    {
      "cell_type": "code",
      "execution_count": null,
      "id": "d2c9f46f-3c78-4865-810b-52408dff5fb7",
      "metadata": {},
      "outputs": [],
      "source": [
        "from langchain_core.embeddings import Embeddings\n",
        "from langchain_huggingface import HuggingFaceEmbeddings\n",
        "\n",
        "model_name = \"sentence-transformers/all-MiniLM-L12-v2\"\n",
        "hf = HuggingFaceEmbeddings(model_name=model_name)"
      ]
    },
    {
      "cell_type": "markdown",
      "id": "61ce7e1f-51ee-4d3d-ad3c-97088b1120f6",
      "metadata": {},
      "source": [
        "## 配置 Infinispan 缓存\n\nInfinispan 是一个非常灵活的键值存储，它可以存储原始数据（raw bits）以及复杂的数据类型。\n用户可以完全自由地配置数据网格，但对于简单的数据类型，所有配置都由 Python 层自动完成。我们利用了这一特性，以便我们可以专注于我们的应用程序。"
      ]
    },
    {
      "cell_type": "markdown",
      "id": "456da9e7-baf4-472a-a9ee-8473aed8cabd",
      "metadata": {},
      "source": [
        "## 准备数据\n\n在此演示中，我们依赖于默认配置，因此文本、元数据和向量位于同一个缓存中。但也可以选择其他选项：例如，内容可以存储在其他地方，而向量存储可以仅包含对实际内容的引用。"
      ]
    },
    {
      "cell_type": "code",
      "execution_count": null,
      "id": "0f6a42d3-c5ec-44ec-9b57-ebe5ca8c301a",
      "metadata": {},
      "outputs": [],
      "source": [
        "import csv\n",
        "import gzip\n",
        "import time\n",
        "\n",
        "# Open the news file and process it as a csv\n",
        "with gzip.open(\"bbc_news.csv.gz\", \"rt\", newline=\"\") as csvfile:\n",
        "    spamreader = csv.reader(csvfile, delimiter=\",\", quotechar='\"')\n",
        "    i = 0\n",
        "    texts = []\n",
        "    metas = []\n",
        "    embeds = []\n",
        "    for row in spamreader:\n",
        "        # first and fifth values are joined to form the content\n",
        "        # to be processed\n",
        "        text = row[0] + \".\" + row[4]\n",
        "        texts.append(text)\n",
        "        # Store text and title as metadata\n",
        "        meta = {\"text\": row[4], \"title\": row[0]}\n",
        "        metas.append(meta)\n",
        "        i = i + 1\n",
        "        # Change this to change the number of news you want to load\n",
        "        if i >= 5000:\n",
        "            break"
      ]
    },
    {
      "cell_type": "markdown",
      "id": "a6b00299-94db-43ca-9da3-45d12cdf2db1",
      "metadata": {},
      "source": [
        "# 填充向量存储"
      ]
    },
    {
      "cell_type": "code",
      "execution_count": null,
      "id": "75e135a6-1b38-48eb-96ca-379b6f4a653f",
      "metadata": {},
      "outputs": [],
      "source": [
        "# add texts and fill vector db\n",
        "\n",
        "from langchain_community.vectorstores import InfinispanVS\n",
        "\n",
        "ispnvs = InfinispanVS.from_texts(texts, hf, metas)"
      ]
    },
    {
      "cell_type": "markdown",
      "id": "2bb6f053-208d-407e-b8b7-c6c6443522d8",
      "metadata": {},
      "source": [
        "# 用于打印结果文档的辅助函数\n\n默认情况下，InfinispanVS 会将 protobuf 的 `text` 字段返回到 `Document.page_content` 中，并将所有剩余的 protobuf 字段（除了向量）返回到 `metadata` 中。此行为可以通过在设置时使用 lambda 函数进行配置。"
      ]
    },
    {
      "cell_type": "code",
      "execution_count": null,
      "id": "594fad38-37f0-4dd4-9785-a99a2f009ae5",
      "metadata": {},
      "outputs": [],
      "source": [
        "def print_docs(docs):\n",
        "    for res, i in zip(docs, range(len(docs))):\n",
        "        print(\"----\" + str(i + 1) + \"----\")\n",
        "        print(\"TITLE: \" + res.metadata[\"title\"])\n",
        "        print(res.page_content)"
      ]
    },
    {
      "cell_type": "markdown",
      "id": "cfa517c7-e741-4f64-9736-6db7a6bd259a",
      "metadata": {},
      "source": [
        "# 试试看！！！\n\n以下是一些示例查询"
      ]
    },
    {
      "cell_type": "code",
      "execution_count": null,
      "id": "86e782b3-5a74-4ca1-a5d1-c0ee935a659e",
      "metadata": {},
      "outputs": [],
      "source": [
        "docs = ispnvs.similarity_search(\"European nations\", 5)\n",
        "print_docs(docs)"
      ]
    },
    {
      "cell_type": "code",
      "execution_count": null,
      "id": "b60847f9-ef34-4c79-b276-ac62170e2d6a",
      "metadata": {},
      "outputs": [],
      "source": [
        "print_docs(ispnvs.similarity_search(\"Milan fashion week begins\", 2))"
      ]
    },
    {
      "cell_type": "code",
      "execution_count": null,
      "id": "6cbb5607-da55-4879-92cf-79ac690cc0c5",
      "metadata": {},
      "outputs": [],
      "source": [
        "print_docs(ispnvs.similarity_search(\"Stock market is rising today\", 4))"
      ]
    },
    {
      "cell_type": "code",
      "execution_count": null,
      "id": "3bb94ca1-7b1e-41ed-9d8f-b845775d11c1",
      "metadata": {},
      "outputs": [],
      "source": [
        "print_docs(ispnvs.similarity_search(\"Why cats are so viral?\", 2))"
      ]
    },
    {
      "cell_type": "code",
      "execution_count": null,
      "id": "a4fca208-b580-483d-9be0-786b6b63a31d",
      "metadata": {},
      "outputs": [],
      "source": [
        "print_docs(ispnvs.similarity_search(\"How to stay young\", 5))"
      ]
    },
    {
      "cell_type": "code",
      "execution_count": null,
      "id": "d4a460b8-f0c8-4ae9-a7ff-cf550c3195f1",
      "metadata": {},
      "outputs": [],
      "source": [
        "!docker rm --force infinispanvs-demo"
      ]
    }
  ],
  "metadata": {
    "kernelspec": {
      "display_name": "Python 3 (ipykernel)",
      "language": "python",
      "name": "python3"
    },
    "language_info": {
      "codemirror_mode": {
        "name": "ipython",
        "version": 3
      },
      "file_extension": ".py",
      "mimetype": "text/x-python",
      "name": "python",
      "nbconvert_exporter": "python",
      "pygments_lexer": "ipython3",
      "version": "3.9.18"
    }
  },
  "nbformat": 4,
  "nbformat_minor": 5
}