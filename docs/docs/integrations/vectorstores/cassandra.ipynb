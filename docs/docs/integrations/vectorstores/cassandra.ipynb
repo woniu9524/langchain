{
  "cells": [
    {
      "cell_type": "markdown",
      "id": "d2d6ca14-fb7e-4172-9aa0-a3119a064b96",
      "metadata": {},
      "source": [
        "# Apache Cassandra\n\n本页面提供了一个使用 [Apache Cassandra®](https://cassandra.apache.org/) 作为向量存储的快速入门指南。"
      ]
    },
    {
      "cell_type": "markdown",
      "id": "6a1a562e-3d1a-4693-b55d-08bf90943a9a",
      "metadata": {},
      "source": [
        "> [Cassandra](https://cassandra.apache.org/) 是一个 NoSQL、面向行的、高度可扩展且高度可用的数据库。从 5.0 版本开始，该数据库附带了 [向量搜索功能](https://cassandra.apache.org/doc/trunk/cassandra/vector-search/overview.html)。"
      ]
    },
    {
      "cell_type": "markdown",
      "id": "9cf37d7f-c18e-4e63-adea-138e5e981475",
      "metadata": {},
      "source": [
        "_注意：除了访问数据库外，运行完整示例还需要 OpenAI API Key。_"
      ]
    },
    {
      "cell_type": "markdown",
      "id": "bb9be7ce-8c70-4d46-9f11-71c42a36e928",
      "metadata": {},
      "source": [
        "### 设置和通用依赖项"
      ]
    },
    {
      "cell_type": "markdown",
      "id": "dbe7c156-0413-47e3-9237-4769c4248869",
      "metadata": {},
      "source": [
        "集成使用需要以下 Python 包。"
      ]
    },
    {
      "cell_type": "code",
      "execution_count": null,
      "id": "8d00fcf4-9798-4289-9214-d9734690adfc",
      "metadata": {},
      "outputs": [],
      "source": [
        "%pip install --upgrade --quiet langchain-community \"cassio>=0.1.4\""
      ]
    },
    {
      "cell_type": "markdown",
      "id": "2453d83a-bc8f-41e1-a692-befe4dd90156",
      "metadata": {},
      "source": [
        "_注意：根据你的 LangChain 设置，你可能需要安装/升级此演示所需的其他依赖项_\n_(特别是，需要最新版本的 `datasets`、`openai`、`pypdf` 和 `tiktoken`，以及 `langchain-community`)。_"
      ]
    },
    {
      "cell_type": "code",
      "execution_count": null,
      "id": "b06619af-fea2-4863-8149-7f239a8c9c82",
      "metadata": {},
      "outputs": [],
      "source": [
        "import os\n",
        "from getpass import getpass\n",
        "\n",
        "from datasets import (\n",
        "    load_dataset,\n",
        ")\n",
        "from langchain_community.document_loaders import PyPDFLoader\n",
        "from langchain_core.documents import Document\n",
        "from langchain_core.output_parsers import StrOutputParser\n",
        "from langchain_core.prompts import ChatPromptTemplate\n",
        "from langchain_core.runnables import RunnablePassthrough\n",
        "from langchain_openai import ChatOpenAI, OpenAIEmbeddings\n",
        "from langchain_text_splitters import RecursiveCharacterTextSplitter"
      ]
    },
    {
      "cell_type": "code",
      "execution_count": null,
      "id": "1983f1da-0ae7-4a9b-bf4c-4ade328f7a3a",
      "metadata": {},
      "outputs": [],
      "source": [
        "if \"OPENAI_API_KEY\" not in os.environ:\n",
        "    os.environ[\"OPENAI_API_KEY\"] = getpass(\"OPENAI_API_KEY = \")"
      ]
    },
    {
      "cell_type": "code",
      "execution_count": null,
      "id": "c656df06-e938-4bc5-b570-440b8b7a0189",
      "metadata": {},
      "outputs": [],
      "source": [
        "embe = OpenAIEmbeddings()"
      ]
    },
    {
      "cell_type": "markdown",
      "id": "22866f09-e10d-4f05-a24b-b9420129462e",
      "metadata": {},
      "source": [
        "## 导入向量存储"
      ]
    },
    {
      "cell_type": "code",
      "execution_count": null,
      "id": "0b32730d-176e-414c-9d91-fd3644c54211",
      "metadata": {},
      "outputs": [],
      "source": [
        "from langchain_community.vectorstores import Cassandra"
      ]
    },
    {
      "cell_type": "markdown",
      "id": "68f61b01-3e09-47c1-9d67-5d6915c86626",
      "metadata": {},
      "source": [
        "## 连接参数\n\n本页所示的 Vector Store 集成可与 Cassandra 以及其他派生数据库（如 Astra DB）一起使用，这些数据库使用 CQL（Cassandra 查询语言）协议。\n\n> DataStax [Astra DB](https://docs.datastax.com/en/astra-serverless/docs/vector-search/quickstart.html) 是一个基于 Cassandra 构建的托管无服务器数据库，提供相同的接口和优势。\n\n根据您是通过 CQL 连接到 Cassandra 集群还是连接到 Astra DB，在创建 vector store 对象时将提供不同的参数。"
      ]
    },
    {
      "cell_type": "markdown",
      "id": "36bbb3d9-4d07-4f63-b23d-c52be03f8938",
      "metadata": {},
      "source": [
        "### 连接 Cassandra 集群\n\n您首先需要创建一个 `cassandra.cluster.Session` 对象，具体方法请参考[Cassandra 驱动程序文档](https://docs.datastax.com/en/developer/python-driver/latest/api/cassandra/cluster/#module-cassandra.cluster)。具体细节会有所不同（例如，涉及网络设置和身份验证），但这可能看起来像这样："
      ]
    },
    {
      "cell_type": "code",
      "execution_count": null,
      "id": "d95bb1d4-d8a6-4e66-89bc-776f9c6f962b",
      "metadata": {},
      "outputs": [],
      "source": [
        "from cassandra.cluster import Cluster\n",
        "\n",
        "cluster = Cluster([\"127.0.0.1\"])\n",
        "session = cluster.connect()"
      ]
    },
    {
      "cell_type": "markdown",
      "id": "8279aa78-96d6-43ad-aa21-79fd798d895d",
      "metadata": {},
      "source": [
        "您现在可以将会话以及所需的 keyspace 名称设置为全局 CassIO 参数："
      ]
    },
    {
      "cell_type": "code",
      "execution_count": null,
      "id": "29ececc4-e50b-4428-967f-4b6bbde12a14",
      "metadata": {},
      "outputs": [],
      "source": [
        "import cassio\n",
        "\n",
        "CASSANDRA_KEYSPACE = input(\"CASSANDRA_KEYSPACE = \")\n",
        "\n",
        "cassio.init(session=session, keyspace=CASSANDRA_KEYSPACE)"
      ]
    },
    {
      "cell_type": "markdown",
      "id": "0bd035a2-f0af-418f-94e5-0fbb4d51ac3c",
      "metadata": {},
      "source": [
        "现在，您可以创建向量存储："
      ]
    },
    {
      "cell_type": "code",
      "execution_count": null,
      "id": "eeb62cde-89fc-44d7-ba76-91e19cbc5898",
      "metadata": {},
      "outputs": [],
      "source": [
        "vstore = Cassandra(\n",
        "    embedding=embe,\n",
        "    table_name=\"cassandra_vector_demo\",\n",
        "    # session=None, keyspace=None  # Uncomment on older versions of LangChain\n",
        ")"
      ]
    },
    {
      "cell_type": "markdown",
      "id": "ce240555-e5fc-431d-ac0f-bcf2f6e6a5fb",
      "metadata": {},
      "source": [
        "_注意：您也可以在创建 vector store 时将 session 和 keyspace 直接作为参数传递。然而，如果您的应用程序以多种方式使用 Cassandra（例如，用于向量存储、聊天记忆和 LLM 响应缓存），那么使用全局 `cassio.init` 设置会很方便，因为它允许在一个地方集中管理凭据和数据库连接。_"
      ]
    },
    {
      "cell_type": "markdown",
      "id": "b598e5fa-eb62-4939-9734-091628e84db4",
      "metadata": {},
      "source": [
        "### 连接到 Astra DB\n\nAstra DB 非常适合使用 CQL（Cassandra 查询语言）进行"
      ]
    },
    {
      "cell_type": "markdown",
      "id": "2feec7c3-7092-4252-9a3f-05eda4babe74",
      "metadata": {},
      "source": [
        "在这种情况下，您可以使用以下连接参数初始化 CassIO：\n\n- 数据库 ID，例如 `01234567-89ab-cdef-0123-456789abcdef`\n- Token，例如 `AstraCS:6gBhNmsk135....` (必须是“数据库管理员” token)\n- 可选的 Keyspace 名称（如果省略，将使用数据库的默认 Keyspace）"
      ]
    },
    {
      "cell_type": "code",
      "execution_count": null,
      "id": "2f96147d-6d76-4101-bbb0-4a7f215c3d2d",
      "metadata": {},
      "outputs": [],
      "source": [
        "ASTRA_DB_ID = input(\"ASTRA_DB_ID = \")\n",
        "ASTRA_DB_APPLICATION_TOKEN = getpass(\"ASTRA_DB_APPLICATION_TOKEN = \")\n",
        "\n",
        "desired_keyspace = input(\"ASTRA_DB_KEYSPACE (optional, can be left empty) = \")\n",
        "if desired_keyspace:\n",
        "    ASTRA_DB_KEYSPACE = desired_keyspace\n",
        "else:\n",
        "    ASTRA_DB_KEYSPACE = None"
      ]
    },
    {
      "cell_type": "code",
      "execution_count": null,
      "id": "d653df1d-9dad-4980-ba52-76a47b4c5c1a",
      "metadata": {},
      "outputs": [],
      "source": [
        "import cassio\n",
        "\n",
        "cassio.init(\n",
        "    database_id=ASTRA_DB_ID,\n",
        "    token=ASTRA_DB_APPLICATION_TOKEN,\n",
        "    keyspace=ASTRA_DB_KEYSPACE,\n",
        ")"
      ]
    },
    {
      "cell_type": "markdown",
      "id": "e606b58b-d390-4fed-a2fc-65036c44860f",
      "metadata": {},
      "source": [
        "现在您可以创建向量存储："
      ]
    },
    {
      "cell_type": "code",
      "execution_count": null,
      "id": "9cb552d1-e888-4550-a350-6df06b1f5aae",
      "metadata": {},
      "outputs": [],
      "source": [
        "vstore = Cassandra(\n",
        "    embedding=embe,\n",
        "    table_name=\"cassandra_vector_demo\",\n",
        "    # session=None, keyspace=None  # Uncomment on older versions of LangChain\n",
        ")"
      ]
    },
    {
      "cell_type": "markdown",
      "id": "9a348678-b2f6-46ca-9a0d-2eb4cc6b66b1",
      "metadata": {},
      "source": [
        "## 加载数据集"
      ]
    },
    {
      "cell_type": "markdown",
      "id": "552e56b0-301a-4b06-99c7-57ba6faa966f",
      "metadata": {},
      "source": [
        "将源数据集中的每一项转换为 `Document`，然后将它们写入向量存储："
      ]
    },
    {
      "cell_type": "code",
      "execution_count": null,
      "id": "3a1f532f-ad63-4256-9730-a183841bd8e9",
      "metadata": {},
      "outputs": [],
      "source": [
        "philo_dataset = load_dataset(\"datastax/philosopher-quotes\")[\"train\"]\n",
        "\n",
        "docs = []\n",
        "for entry in philo_dataset:\n",
        "    metadata = {\"author\": entry[\"author\"]}\n",
        "    doc = Document(page_content=entry[\"quote\"], metadata=metadata)\n",
        "    docs.append(doc)\n",
        "\n",
        "inserted_ids = vstore.add_documents(docs)\n",
        "print(f\"\\nInserted {len(inserted_ids)} documents.\")"
      ]
    },
    {
      "cell_type": "markdown",
      "id": "79d4f436-ef04-4288-8f79-97c9abb983ed",
      "metadata": {},
      "source": [
        "在上面，`metadata` 字典是从源数据创建的，是 `Document` 的一部分。"
      ]
    },
    {
      "cell_type": "markdown",
      "id": "084d8802-ab39-4262-9a87-42eafb746f92",
      "metadata": {},
      "source": [
        "添加更多条目，这次使用 `add_texts`："
      ]
    },
    {
      "cell_type": "code",
      "execution_count": null,
      "id": "b6b157f5-eb31-4907-a78e-2e2b06893936",
      "metadata": {},
      "outputs": [],
      "source": [
        "texts = [\"I think, therefore I am.\", \"To the things themselves!\"]\n",
        "metadatas = [{\"author\": \"descartes\"}, {\"author\": \"husserl\"}]\n",
        "ids = [\"desc_01\", \"huss_xy\"]\n",
        "\n",
        "inserted_ids_2 = vstore.add_texts(texts=texts, metadatas=metadatas, ids=ids)\n",
        "print(f\"\\nInserted {len(inserted_ids_2)} documents.\")"
      ]
    },
    {
      "cell_type": "markdown",
      "id": "63840eb3-8b29-4017-bc2f-301bf5001f28",
      "metadata": {},
      "source": [
        "_注意：您可能需要通过提高这些批量操作的并发级别来加速 `add_texts` 和 `add_documents` 的执行 - 请查看方法的 `batch_size` 参数以获取更多详细信息。具体哪些参数配置最优，可能会因网络和客户端机器的具体规格而有所不同。_"
      ]
    },
    {
      "cell_type": "markdown",
      "id": "c031760a-1fc5-4855-adf2-02ed52fe2181",
      "metadata": {},
      "source": [
        "## 运行搜索"
      ]
    },
    {
      "cell_type": "markdown",
      "id": "02a77d8e-1aae-4054-8805-01c77947c49f",
      "metadata": {},
      "source": [
        "本节演示如何进行元数据过滤以及如何获取相似性分数："
      ]
    },
    {
      "cell_type": "code",
      "execution_count": null,
      "id": "1761806a-1afd-4491-867c-25a80d92b9fe",
      "metadata": {},
      "outputs": [],
      "source": [
        "results = vstore.similarity_search(\"Our life is what we make of it\", k=3)\n",
        "for res in results:\n",
        "    print(f\"* {res.page_content} [{res.metadata}]\")"
      ]
    },
    {
      "cell_type": "code",
      "execution_count": null,
      "id": "eebc4f7c-f61a-438e-b3c8-17e6888d8a0b",
      "metadata": {},
      "outputs": [],
      "source": [
        "results_filtered = vstore.similarity_search(\n",
        "    \"Our life is what we make of it\",\n",
        "    k=3,\n",
        "    filter={\"author\": \"plato\"},\n",
        ")\n",
        "for res in results_filtered:\n",
        "    print(f\"* {res.page_content} [{res.metadata}]\")"
      ]
    },
    {
      "cell_type": "code",
      "execution_count": null,
      "id": "11bbfe64-c0cd-40c6-866a-a5786538450e",
      "metadata": {},
      "outputs": [],
      "source": [
        "results = vstore.similarity_search_with_score(\"Our life is what we make of it\", k=3)\n",
        "for res, score in results:\n",
        "    print(f\"* [SIM={score:3f}] {res.page_content} [{res.metadata}]\")"
      ]
    },
    {
      "cell_type": "markdown",
      "id": "b14ea558-bfbe-41ce-807e-d70670060ada",
      "metadata": {},
      "source": [
        "### MMR（词项最大边际相关性）搜索"
      ]
    },
    {
      "cell_type": "code",
      "execution_count": null,
      "id": "76381ce8-780a-4e3b-97b1-056d6782d7d5",
      "metadata": {},
      "outputs": [],
      "source": [
        "results = vstore.max_marginal_relevance_search(\n",
        "    \"Our life is what we make of it\",\n",
        "    k=3,\n",
        "    filter={\"author\": \"aristotle\"},\n",
        ")\n",
        "for res in results:\n",
        "    print(f\"* {res.page_content} [{res.metadata}]\")"
      ]
    },
    {
      "cell_type": "markdown",
      "id": "1cc86edd-692b-4495-906c-ccfd13b03c23",
      "metadata": {},
      "source": [
        "## 删除已存储的文档"
      ]
    },
    {
      "cell_type": "code",
      "execution_count": null,
      "id": "38a70ec4-b522-4d32-9ead-c642864fca37",
      "metadata": {},
      "outputs": [],
      "source": [
        "delete_1 = vstore.delete(inserted_ids[:3])\n",
        "print(f\"all_succeed={delete_1}\")  # True, all documents deleted"
      ]
    },
    {
      "cell_type": "code",
      "execution_count": null,
      "id": "d4cf49ed-9d29-4ed9-bdab-51a308c41b8e",
      "metadata": {},
      "outputs": [],
      "source": [
        "delete_2 = vstore.delete(inserted_ids[2:5])\n",
        "print(f\"some_succeeds={delete_2}\")  # True, though some IDs were gone already"
      ]
    },
    {
      "cell_type": "markdown",
      "id": "847181ba-77d1-4a17-b7f9-9e2c3d8efd13",
      "metadata": {},
      "source": [
        "## 一个最小化的 RAG 链"
      ]
    },
    {
      "cell_type": "markdown",
      "id": "cd64b844-846f-43c5-a7dd-c26b9ed417d0",
      "metadata": {},
      "source": [
        "接下来的单元格将实现一个简单的 RAG 流水线：\n- 下载一个示例 PDF 文件并将其加载到 store 中；\n- 使用 LCEL（LangChain Expression Language）创建一个 RAG 链，核心是 vector store；\n- 运行问答链。"
      ]
    },
    {
      "cell_type": "code",
      "execution_count": null,
      "id": "5cbc4dba-0d5e-4038-8fc5-de6cadd1c2a9",
      "metadata": {},
      "outputs": [],
      "source": [
        "!curl -L \\\n",
        "    \"https://github.com/awesome-astra/datasets/blob/main/demo-resources/what-is-philosophy/what-is-philosophy.pdf?raw=true\" \\\n",
        "    -o \"what-is-philosophy.pdf\""
      ]
    },
    {
      "cell_type": "code",
      "execution_count": null,
      "id": "459385be-5e9c-47ff-ba53-2b7ae6166b09",
      "metadata": {},
      "outputs": [],
      "source": [
        "pdf_loader = PyPDFLoader(\"what-is-philosophy.pdf\")\n",
        "splitter = RecursiveCharacterTextSplitter(chunk_size=512, chunk_overlap=64)\n",
        "docs_from_pdf = pdf_loader.load_and_split(text_splitter=splitter)\n",
        "\n",
        "print(f\"Documents from PDF: {len(docs_from_pdf)}.\")\n",
        "inserted_ids_from_pdf = vstore.add_documents(docs_from_pdf)\n",
        "print(f\"Inserted {len(inserted_ids_from_pdf)} documents.\")"
      ]
    },
    {
      "cell_type": "code",
      "execution_count": null,
      "id": "5010a66c-4298-4e32-82b5-2da0d36a5c70",
      "metadata": {},
      "outputs": [],
      "source": [
        "retriever = vstore.as_retriever(search_kwargs={\"k\": 3})\n",
        "\n",
        "philo_template = \"\"\"\n",
        "You are a philosopher that draws inspiration from great thinkers of the past\n",
        "to craft well-thought answers to user questions. Use the provided context as the basis\n",
        "for your answers and do not make up new reasoning paths - just mix-and-match what you are given.\n",
        "Your answers must be concise and to the point, and refrain from answering about other topics than philosophy.\n",
        "\n",
        "CONTEXT:\n",
        "{context}\n",
        "\n",
        "QUESTION: {question}\n",
        "\n",
        "YOUR ANSWER:\"\"\"\n",
        "\n",
        "philo_prompt = ChatPromptTemplate.from_template(philo_template)\n",
        "\n",
        "llm = ChatOpenAI()\n",
        "\n",
        "chain = (\n",
        "    {\"context\": retriever, \"question\": RunnablePassthrough()}\n",
        "    | philo_prompt\n",
        "    | llm\n",
        "    | StrOutputParser()\n",
        ")"
      ]
    },
    {
      "cell_type": "code",
      "execution_count": null,
      "id": "fcbc1296-6c7c-478b-b55b-533ba4e54ddb",
      "metadata": {},
      "outputs": [],
      "source": [
        "chain.invoke(\"How does Russel elaborate on Peirce's idea of the security blanket?\")"
      ]
    },
    {
      "cell_type": "markdown",
      "id": "869ab448-a029-4692-aefc-26b85513314d",
      "metadata": {},
      "source": [
        "更多内容，请通过 CQL 在此[这里](https://github.com/langchain-ai/langchain/tree/master/templates/cassandra-entomology-rag)查看使用 Astra DB 的完整 RAG 模板。"
      ]
    },
    {
      "cell_type": "markdown",
      "id": "177610c7-50d0-4b7b-8634-b03338054c8e",
      "metadata": {},
      "source": [
        "## 清理"
      ]
    },
    {
      "cell_type": "markdown",
      "id": "0da4d19f-9878-4d3d-82c9-09cafca20322",
      "metadata": {},
      "source": [
        "这 essentially 使用 CassIO 中的 `Session` 对象，并用它运行一条 CQL `DROP TABLE` 语句：\n\n_(您将丢失其中存储的数据。)_"
      ]
    },
    {
      "cell_type": "code",
      "execution_count": null,
      "id": "fd405a13-6f71-46fa-87e6-167238e9c25e",
      "metadata": {},
      "outputs": [],
      "source": [
        "cassio.config.resolve_session().execute(\n",
        "    f\"DROP TABLE {cassio.config.resolve_keyspace()}.cassandra_vector_demo;\"\n",
        ")"
      ]
    },
    {
      "cell_type": "markdown",
      "id": "c10ece4d-ae06-42ab-baf4-4d0ac2051743",
      "metadata": {},
      "source": [
        "### 了解更多"
      ]
    },
    {
      "cell_type": "markdown",
      "id": "51ea8b69-7e15-458f-85aa-9fa199f95f9c",
      "metadata": {},
      "source": [
        "如需更多信息、扩展的快速入门指南和额外的用法示例，请访问 [CassIO 文档](https://cassio.org/frameworks/langchain/about/)，了解更多关于使用 LangChain `Cassandra` 向量存储的信息。"
      ]
    },
    {
      "cell_type": "markdown",
      "id": "3b8ee30c-2c84-42f3-9cff-e80dbc590490",
      "metadata": {},
      "source": [
        "#### 归属声明\n\n> Apache Cassandra、Cassandra 和 Apache 是 Apache 软件基金会（[Apache Software Foundation](http://www.apache.org/)）在美国和/或其他国家的注册商标或商标。"
      ]
    }
  ],
  "metadata": {
    "kernelspec": {
      "display_name": "Python 3 (ipykernel)",
      "language": "python",
      "name": "python3"
    },
    "language_info": {
      "codemirror_mode": {
        "name": "ipython",
        "version": 3
      },
      "file_extension": ".py",
      "mimetype": "text/x-python",
      "name": "python",
      "nbconvert_exporter": "python",
      "pygments_lexer": "ipython3",
      "version": "3.9.17"
    }
  },
  "nbformat": 4,
  "nbformat_minor": 5
}