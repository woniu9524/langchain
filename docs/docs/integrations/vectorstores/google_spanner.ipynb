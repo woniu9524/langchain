{
  "cells": [
    {
      "cell_type": "markdown",
      "metadata": {},
      "source": [
        "# Google Spanner\n> [Spanner](https://cloud.google.com/spanner) 是一个可高度扩展的数据库，它将无限的可扩展性与关系语义结合起来，例如二级索引、强一致性、模式和 SQL，在一个简单的解决方案中提供 99.999% 的可用性。\n\n本笔记将介绍如何使用 `Spanner` 和 `SpannerVectorStore` 类进行向量搜索。\n\n在 [GitHub](https://github.com/googleapis/langchain-google-spanner-python/) 上了解更多关于该包的信息。\n\n[![Open In Colab](https://colab.research.google.com/assets/colab-badge.svg)](https://colab.research.google.com/github/googleapis/langchain-google-spanner-python/blob/main/docs/vector_store.ipynb)"
      ]
    },
    {
      "cell_type": "markdown",
      "metadata": {},
      "source": [
        "## 开始之前\n\n要运行此笔记本，您需要执行以下操作：\n\n* [创建 Google Cloud 项目](https://developers.google.com/workspace/guides/create-project)\n* [启用 Cloud Spanner API](https://console.cloud.google.com/flows/enableapi?apiid=spanner.googleapis.com)\n* [创建 Spanner 实例](https://cloud.google.com/spanner/docs/create-manage-instances)\n* [创建 Spanner 数据库](https://cloud.google.com/spanner/docs/create-manage-databases)"
      ]
    },
    {
      "cell_type": "markdown",
      "metadata": {},
      "source": [
        "### 🦜🔗 库安装\n集成内容位于其自身的 `langchain-google-spanner` 包中，因此需要安装它。"
      ]
    },
    {
      "cell_type": "code",
      "execution_count": 1,
      "metadata": {
        "tags": []
      },
      "outputs": [
        {
          "name": "stdout",
          "output_type": "stream",
          "text": [
            "Note: you may need to restart the kernel to use updated packages.\n"
          ]
        }
      ],
      "source": [
        "%pip install --upgrade --quiet langchain-google-spanner langchain-google-vertexai"
      ]
    },
    {
      "cell_type": "markdown",
      "metadata": {},
      "source": [
        "**仅限 Colab：** 取消注释以下单元格以重启内核，或使用按钮重启内核。对于 Vertex AI Workbench，您可以使用顶部的按钮重启终端。"
      ]
    },
    {
      "cell_type": "code",
      "execution_count": 2,
      "metadata": {
        "tags": []
      },
      "outputs": [],
      "source": [
        "# # Automatically restart kernel after installs so that your environment can access the new packages\n",
        "# import IPython\n",
        "\n",
        "# app = IPython.Application.instance()\n",
        "# app.kernel.do_shutdown(True)"
      ]
    },
    {
      "cell_type": "markdown",
      "metadata": {},
      "source": [
        "### 🔐 身份验证\n使用当前登录到此笔记本的 IAM 用户身份验证到 Google Cloud，以便访问您的 Google Cloud 项目。\n\n* 如果您正在使用 Colab 运行此笔记本，请使用下面的单元格并继续操作。\n* 如果您正在使用 Vertex AI Workbench，请查看此处的设置说明：[https://github.com/GoogleCloudPlatform/generative-ai/tree/main/setup-env](https://github.com/GoogleCloudPlatform/generative-ai/tree/main/setup-env)。"
      ]
    },
    {
      "cell_type": "code",
      "execution_count": null,
      "metadata": {},
      "outputs": [],
      "source": [
        "from google.colab import auth\n",
        "\n",
        "auth.authenticate_user()"
      ]
    },
    {
      "cell_type": "markdown",
      "metadata": {},
      "source": [
        "### ☁ 设置您的 Google Cloud 项目\n设置您的 Google Cloud 项目，以便您可以在此笔记本中使用 Google Cloud 资源。\n\n如果您不知道您的项目 ID，可以尝试以下方法：\n\n* 运行 `gcloud config list`。\n* 运行 `gcloud projects list`。\n* 请参阅支持页面：[查找项目 ID](https://support.google.com/googleapi/answer/7014113)。"
      ]
    },
    {
      "cell_type": "code",
      "execution_count": null,
      "metadata": {},
      "outputs": [],
      "source": [
        "# @markdown Please fill in the value below with your Google Cloud project ID and then run the cell.\n",
        "\n",
        "PROJECT_ID = \"my-project-id\"  # @param {type:\"string\"}\n",
        "\n",
        "# Set the project id\n",
        "!gcloud config set project {PROJECT_ID}\n",
        "%env GOOGLE_CLOUD_PROJECT={PROJECT_ID}"
      ]
    },
    {
      "cell_type": "markdown",
      "metadata": {},
      "source": [
        "### 💡 API 启用\n`langchain-google-spanner` 包要求您在 Google Cloud 项目中[启用 Spanner API](https://console.cloud.google.com/flows/enableapi?apiid=spanner.googleapis.com)。"
      ]
    },
    {
      "cell_type": "code",
      "execution_count": null,
      "metadata": {},
      "outputs": [],
      "source": [
        "# enable Spanner API\n",
        "!gcloud services enable spanner.googleapis.com"
      ]
    },
    {
      "cell_type": "markdown",
      "metadata": {},
      "source": [
        "## 基本用法"
      ]
    },
    {
      "cell_type": "markdown",
      "metadata": {},
      "source": [
        "### 设置 Spanner 数据库值\n在 [Spanner 实例页面](https://console.cloud.google.com/spanner?_ga=2.223735448.2062268965.1707700487-2088871159.1707257687)查找您的数据库值。"
      ]
    },
    {
      "cell_type": "code",
      "execution_count": 4,
      "metadata": {},
      "outputs": [],
      "source": [
        "# @title Set Your Values Here { display-mode: \"form\" }\n",
        "INSTANCE = \"my-instance\"  # @param {type: \"string\"}\n",
        "DATABASE = \"my-database\"  # @param {type: \"string\"}\n",
        "TABLE_NAME = \"vectors_search_data\"  # @param {type: \"string\"}"
      ]
    },
    {
      "cell_type": "markdown",
      "metadata": {},
      "source": [
        "### 初始化表\n`SpannerVectorStore` 类实例需要一个包含 id、content 和 embeddings 列的数据库表。\n\n可以使用 `init_vector_store_table()` 辅助方法为您创建具有正确架构的表。"
      ]
    },
    {
      "cell_type": "code",
      "execution_count": null,
      "metadata": {},
      "outputs": [],
      "source": [
        "from langchain_google_spanner import SecondaryIndex, SpannerVectorStore, TableColumn\n",
        "\n",
        "SpannerVectorStore.init_vector_store_table(\n",
        "    instance_id=INSTANCE,\n",
        "    database_id=DATABASE,\n",
        "    table_name=TABLE_NAME,\n",
        "    # Customize the table creation\n",
        "    # id_column=\"row_id\",\n",
        "    # content_column=\"content_column\",\n",
        "    # metadata_columns=[\n",
        "    #     TableColumn(name=\"metadata\", type=\"JSON\", is_null=True),\n",
        "    #     TableColumn(name=\"title\", type=\"STRING(MAX)\", is_null=False),\n",
        "    # ],\n",
        "    # secondary_indexes=[\n",
        "    #     SecondaryIndex(index_name=\"row_id_and_title\", columns=[\"row_id\", \"title\"])\n",
        "    # ],\n",
        ")"
      ]
    },
    {
      "cell_type": "markdown",
      "metadata": {},
      "source": [
        "### 创建 embedding 实例\n\n您可以使用任何 [LangChain embedding 模型](/docs/integrations/text_embedding/)。\n您可能需要启用 Vertex AI API 才能使用 `VertexAIEmbeddings`。我们建议为生产环境设置 embedding 模型的版本，了解更多关于 [文本 embedding 模型](https://cloud.google.com/vertex-ai/docs/generative-ai/model-reference/text-embeddings) 的信息。"
      ]
    },
    {
      "cell_type": "code",
      "execution_count": null,
      "metadata": {},
      "outputs": [],
      "source": [
        "# enable Vertex AI API\n",
        "!gcloud services enable aiplatform.googleapis.com"
      ]
    },
    {
      "cell_type": "code",
      "execution_count": 5,
      "metadata": {},
      "outputs": [],
      "source": [
        "from langchain_google_vertexai import VertexAIEmbeddings\n",
        "\n",
        "embeddings = VertexAIEmbeddings(\n",
        "    model_name=\"textembedding-gecko@latest\", project=PROJECT_ID\n",
        ")"
      ]
    },
    {
      "cell_type": "markdown",
      "metadata": {},
      "source": [
        "### SpannerVectorStore\n\n初始化 `SpannerVectorStore` 类需要提供 4 个必需参数，其他参数为可选参数，仅在需要与默认值不同时才需传入。\n\n1.  `instance_id` - Spanner 实例的名称。\n1.  `database_id` - Spanner 数据库的名称。\n1.  `table_name` - 数据库中用于存储文档及其嵌入（embeddings）的表的名称。\n1.  `embedding_service` - 用于生成嵌入（embeddings）的 Embeddings 实现。"
      ]
    },
    {
      "cell_type": "code",
      "execution_count": null,
      "metadata": {},
      "outputs": [],
      "source": [
        "db = SpannerVectorStore(\n",
        "    instance_id=INSTANCE,\n",
        "    database_id=DATABASE,\n",
        "    table_name=TABLE_NAME,\n",
        "    embedding_service=embeddings,\n",
        "    # Connect to a custom vector store table\n",
        "    # id_column=\"row_id\",\n",
        "    # content_column=\"content\",\n",
        "    # metadata_columns=[\"metadata\", \"title\"],\n",
        ")"
      ]
    },
    {
      "cell_type": "markdown",
      "metadata": {},
      "source": [
        "#### 添加文档\n在向量存储中添加文档。"
      ]
    },
    {
      "cell_type": "code",
      "execution_count": null,
      "metadata": {},
      "outputs": [],
      "source": [
        "import uuid\n",
        "\n",
        "from langchain_community.document_loaders import HNLoader\n",
        "\n",
        "loader = HNLoader(\"https://news.ycombinator.com/item?id=34817881\")\n",
        "\n",
        "documents = loader.load()\n",
        "ids = [str(uuid.uuid4()) for _ in range(len(documents))]\n",
        "db.add_documents(documents, ids)"
      ]
    },
    {
      "cell_type": "markdown",
      "metadata": {},
      "source": [
        "#### 搜索文档\n使用相似性搜索在向量存储中搜索文档。"
      ]
    },
    {
      "cell_type": "code",
      "execution_count": null,
      "metadata": {},
      "outputs": [],
      "source": [
        "db.similarity_search(query=\"Explain me vector store?\", k=3)"
      ]
    },
    {
      "cell_type": "markdown",
      "metadata": {},
      "source": [
        "#### 搜索文档\n通过最大边际相关性搜索在向量存储中搜索文档。"
      ]
    },
    {
      "cell_type": "code",
      "execution_count": null,
      "metadata": {},
      "outputs": [],
      "source": [
        "db.max_marginal_relevance_search(\"Testing the langchain integration with spanner\", k=3)"
      ]
    },
    {
      "cell_type": "markdown",
      "metadata": {},
      "source": [
        "#### 删除文档\n要从向量存储中删除文档，请使用初始化 VectorStore 时对应 `row_id` 列中的值的 ID。"
      ]
    },
    {
      "cell_type": "code",
      "execution_count": null,
      "metadata": {},
      "outputs": [],
      "source": [
        "db.delete(ids=[\"id1\", \"id2\"])"
      ]
    },
    {
      "cell_type": "markdown",
      "metadata": {},
      "source": [
        "#### 删除文档\n要从向量存储中移除文档，可以使用这些文档本身。在初始化 VectorStore 时提供的 content 列和 metadata 列将用于查找与文档对应的行。任何匹配的行都将被删除。"
      ]
    },
    {
      "cell_type": "code",
      "execution_count": null,
      "metadata": {},
      "outputs": [],
      "source": [
        "db.delete(documents=[documents[0], documents[1]])"
      ]
    }
  ],
  "metadata": {
    "kernelspec": {
      "display_name": "Python 3 (ipykernel)",
      "language": "python",
      "name": "python3"
    },
    "language_info": {
      "codemirror_mode": {
        "name": "ipython",
        "version": 3
      },
      "file_extension": ".py",
      "mimetype": "text/x-python",
      "name": "python",
      "nbconvert_exporter": "python",
      "pygments_lexer": "ipython3",
      "version": "3.11.8"
    }
  },
  "nbformat": 4,
  "nbformat_minor": 4
}