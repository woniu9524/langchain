{
  "cells": [
    {
      "cell_type": "markdown",
      "metadata": {},
      "source": [
        "# Amazon MemoryDB\n\n>[Vector Search](https://docs.aws.amazon.com/memorydb/latest/devguide/vector-search.html/) 入门和 langchain 集成指南。\n\n## 什么是 Amazon MemoryDB？\n\nMemoryDB 与流行的开源数据存储 Redis OSS 兼容，使您能够利用其灵活且用户友好的 Redis OSS 数据结构、API 和命令快速构建应用程序。借助 MemoryDB，所有数据都存储在内存中，从而实现微秒级的读取延迟和个位数毫秒级的写入延迟以及高吞吐量。MemoryDB 还使用多可用区 (AZ) 事务日志将数据持久存储在多个可用区 (AZ) 中，从而实现快速故障转移、数据库恢复和节点重启。\n\n\n## MemoryDB 的向量搜索\n\nMemoryDB 的向量搜索扩展了 MemoryDB 的功能。向量搜索可与现有的 MemoryDB 功能结合使用。不使用向量搜索的应用程序不受其影响。MemoryDB 在所有可用区域都提供向量搜索。您可以使用现有的 MemoryDB 数据或 Redis OSS API 来构建机器学习和生成式 AI 用例，例如检索增强生成、异常检测、文档检索和实时推荐。\n\n* 对 Redis hashes 和 `JSON` 中的多个字段进行索引\n* 向量相似性搜索（支持 `HNSW` (ANN) 或 `FLAT` (KNN)）\n* 向量范围搜索（例如，查找查询向量半径范围内的所有向量）\n* 增量索引，无性能损失"
      ]
    },
    {
      "cell_type": "markdown",
      "metadata": {},
      "source": [
        "## 设置\n\n\n### 安装 Redis Python 客户端\n\n`Redis-py` 是一个可用于连接 MemoryDB 的 Python 客户端。"
      ]
    },
    {
      "cell_type": "code",
      "execution_count": null,
      "metadata": {
        "tags": []
      },
      "outputs": [],
      "source": [
        "%pip install --upgrade --quiet  redis langchain-aws"
      ]
    },
    {
      "cell_type": "code",
      "execution_count": 3,
      "metadata": {},
      "outputs": [],
      "source": [
        "from langchain_aws.embeddings import BedrockEmbeddings\n",
        "\n",
        "embeddings = BedrockEmbeddings()"
      ]
    },
    {
      "cell_type": "markdown",
      "metadata": {},
      "source": [
        "### MemoryDB 连接\n\n有效的 Redis URL 模式包括：\n1. `redis://`  - 连接到 Redis 集群，未加密\n2. `rediss://` - 连接到 Redis 集群，已启用 TLS 加密\n\n有关其他连接参数的更多信息，请参阅 [redis-py 文档](https://redis-py.readthedocs.io/en/stable/connections.html)。"
      ]
    },
    {
      "cell_type": "markdown",
      "metadata": {},
      "source": [
        "### 示例数据\n\n首先，我们将描述一些示例数据，以便演示 Redis 向量存储的各种属性。"
      ]
    },
    {
      "cell_type": "code",
      "execution_count": 4,
      "metadata": {},
      "outputs": [],
      "source": [
        "metadata = [\n",
        "    {\n",
        "        \"user\": \"john\",\n",
        "        \"age\": 18,\n",
        "        \"job\": \"engineer\",\n",
        "        \"credit_score\": \"high\",\n",
        "    },\n",
        "    {\n",
        "        \"user\": \"derrick\",\n",
        "        \"age\": 45,\n",
        "        \"job\": \"doctor\",\n",
        "        \"credit_score\": \"low\",\n",
        "    },\n",
        "    {\n",
        "        \"user\": \"nancy\",\n",
        "        \"age\": 94,\n",
        "        \"job\": \"doctor\",\n",
        "        \"credit_score\": \"high\",\n",
        "    },\n",
        "    {\n",
        "        \"user\": \"tyler\",\n",
        "        \"age\": 100,\n",
        "        \"job\": \"engineer\",\n",
        "        \"credit_score\": \"high\",\n",
        "    },\n",
        "    {\n",
        "        \"user\": \"joe\",\n",
        "        \"age\": 35,\n",
        "        \"job\": \"dentist\",\n",
        "        \"credit_score\": \"medium\",\n",
        "    },\n",
        "]\n",
        "texts = [\"foo\", \"foo\", \"foo\", \"bar\", \"bar\"]\n",
        "index_name = \"users\""
      ]
    },
    {
      "cell_type": "markdown",
      "metadata": {},
      "source": [
        "### 创建 MemoryDB 向量存储\n\nInMemoryVectorStore 实例可以使用以下方法进行初始化\n- ``InMemoryVectorStore.__init__`` - 直接初始化\n- ``InMemoryVectorStore.from_documents`` - 从 ``Langchain.docstore.Document`` 对象列表初始化\n- ``InMemoryVectorStore.from_texts`` - 从文本列表（可选带元数据）初始化\n- ``InMemoryVectorStore.from_existing_index`` - 从现有的 MemoryDB 索引初始化"
      ]
    },
    {
      "cell_type": "code",
      "execution_count": 7,
      "metadata": {
        "tags": []
      },
      "outputs": [],
      "source": [
        "from langchain_aws.vectorstores.inmemorydb import InMemoryVectorStore\n",
        "\n",
        "vds = InMemoryVectorStore.from_texts(\n",
        "    embeddings,\n",
        "    redis_url=\"rediss://cluster_endpoint:6379/ssl=True ssl_cert_reqs=none\",\n",
        ")"
      ]
    },
    {
      "cell_type": "code",
      "execution_count": 6,
      "metadata": {},
      "outputs": [
        {
          "data": {
            "text/plain": [
              "'users'"
            ]
          },
          "execution_count": 6,
          "metadata": {},
          "output_type": "execute_result"
        }
      ],
      "source": [
        "vds.index_name"
      ]
    },
    {
      "cell_type": "markdown",
      "metadata": {},
      "source": [
        "## 查询\n\n根据您的具体用例，有多种方法可以查询 ``InMemoryVectorStore`` 实现：\n\n- ``similarity_search``：查找给定向量最相似的向量。\n- ``similarity_search_with_score``：查找给定向量最相似的向量并返回向量距离。\n- ``similarity_search_limit_score``：查找给定向量最相似的向量，并将结果数量限制为 ``score_threshold``。\n- ``similarity_search_with_relevance_scores``：查找给定向量最相似的向量并返回向量相似度。\n- ``max_marginal_relevance_search``：查找给定向量最相似的向量，同时优化多样性。"
      ]
    },
    {
      "cell_type": "code",
      "execution_count": 10,
      "metadata": {},
      "outputs": [
        {
          "name": "stdout",
          "output_type": "stream",
          "text": [
            "foo\n"
          ]
        }
      ],
      "source": [
        "results = vds.similarity_search(\"foo\")\n",
        "print(results[0].page_content)"
      ]
    },
    {
      "cell_type": "code",
      "execution_count": 12,
      "metadata": {},
      "outputs": [
        {
          "name": "stdout",
          "output_type": "stream",
          "text": [
            "Content: foo --- Score: 0.0\n",
            "Content: foo --- Score: 0.0\n",
            "Content: foo --- Score: 0.0\n",
            "Content: bar --- Score: 0.1566\n",
            "Content: bar --- Score: 0.1566\n"
          ]
        }
      ],
      "source": [
        "# with scores (distances)\n",
        "results = vds.similarity_search_with_score(\"foo\", k=5)\n",
        "for result in results:\n",
        "    print(f\"Content: {result[0].page_content} --- Score: {result[1]}\")"
      ]
    },
    {
      "cell_type": "code",
      "execution_count": 13,
      "metadata": {},
      "outputs": [
        {
          "name": "stdout",
          "output_type": "stream",
          "text": [
            "Content: foo --- Score: 0.0\n",
            "Content: foo --- Score: 0.0\n",
            "Content: foo --- Score: 0.0\n"
          ]
        }
      ],
      "source": [
        "# limit the vector distance that can be returned\n",
        "results = vds.similarity_search_with_score(\"foo\", k=5, distance_threshold=0.1)\n",
        "for result in results:\n",
        "    print(f\"Content: {result[0].page_content} --- Score: {result[1]}\")"
      ]
    },
    {
      "cell_type": "code",
      "execution_count": 14,
      "metadata": {},
      "outputs": [
        {
          "name": "stdout",
          "output_type": "stream",
          "text": [
            "Content: foo --- Similiarity: 1.0\n",
            "Content: foo --- Similiarity: 1.0\n",
            "Content: foo --- Similiarity: 1.0\n",
            "Content: bar --- Similiarity: 0.8434\n",
            "Content: bar --- Similiarity: 0.8434\n"
          ]
        }
      ],
      "source": [
        "# with scores\n",
        "results = vds.similarity_search_with_relevance_scores(\"foo\", k=5)\n",
        "for result in results:\n",
        "    print(f\"Content: {result[0].page_content} --- Similiarity: {result[1]}\")"
      ]
    },
    {
      "cell_type": "code",
      "execution_count": 16,
      "metadata": {},
      "outputs": [
        {
          "data": {
            "text/plain": [
              "['doc:users:b9c71d62a0a34241a37950b448dafd38']"
            ]
          },
          "execution_count": 16,
          "metadata": {},
          "output_type": "execute_result"
        }
      ],
      "source": [
        "# you can also add new documents as follows\n",
        "new_document = [\"baz\"]\n",
        "new_metadata = [{\"user\": \"sam\", \"age\": 50, \"job\": \"janitor\", \"credit_score\": \"high\"}]\n",
        "# both the document and metadata must be lists\n",
        "vds.add_texts(new_document, new_metadata)"
      ]
    },
    {
      "cell_type": "markdown",
      "metadata": {},
      "source": [
        "## 将 MemoryDB 用作检索器\n\n在这里，我们将介绍使用向量存储作为检索器的不同选项。\n\n我们可以使用三种不同的搜索方法进行检索。默认情况下，它将使用语义相似度。"
      ]
    },
    {
      "cell_type": "code",
      "execution_count": 26,
      "metadata": {},
      "outputs": [
        {
          "name": "stdout",
          "output_type": "stream",
          "text": [
            "Content: foo  --- Score:  0.0\n",
            "Content: foo  --- Score:  0.0\n",
            "Content: foo  --- Score:  0.0\n"
          ]
        }
      ],
      "source": [
        "query = \"foo\"\n",
        "results = vds.similarity_search_with_score(query, k=3, return_metadata=True)\n",
        "\n",
        "for result in results:\n",
        "    print(\"Content:\", result[0].page_content, \" --- Score: \", result[1])"
      ]
    },
    {
      "cell_type": "code",
      "execution_count": 27,
      "metadata": {},
      "outputs": [],
      "source": [
        "retriever = vds.as_retriever(search_type=\"similarity\", search_kwargs={\"k\": 4})"
      ]
    },
    {
      "cell_type": "code",
      "execution_count": 28,
      "metadata": {},
      "outputs": [
        {
          "data": {
            "text/plain": [
              "[Document(page_content='foo', metadata={'id': 'doc:users_modified:988ecca7574048e396756efc0e79aeca', 'user': 'john', 'job': 'engineer', 'credit_score': 'high', 'age': '18'}),\n",
              " Document(page_content='foo', metadata={'id': 'doc:users_modified:009b1afeb4084cc6bdef858c7a99b48e', 'user': 'derrick', 'job': 'doctor', 'credit_score': 'low', 'age': '45'}),\n",
              " Document(page_content='foo', metadata={'id': 'doc:users_modified:7087cee9be5b4eca93c30fbdd09a2731', 'user': 'nancy', 'job': 'doctor', 'credit_score': 'high', 'age': '94'}),\n",
              " Document(page_content='bar', metadata={'id': 'doc:users_modified:01ef6caac12b42c28ad870aefe574253', 'user': 'tyler', 'job': 'engineer', 'credit_score': 'high', 'age': '100'})]"
            ]
          },
          "execution_count": 28,
          "metadata": {},
          "output_type": "execute_result"
        }
      ],
      "source": [
        "docs = retriever.invoke(query)\n",
        "docs"
      ]
    },
    {
      "cell_type": "markdown",
      "metadata": {},
      "source": [
        "还有一个 `similarity_distance_threshold` 检索器，它允许用户指定向量距离"
      ]
    },
    {
      "cell_type": "code",
      "execution_count": 29,
      "metadata": {},
      "outputs": [],
      "source": [
        "retriever = vds.as_retriever(\n",
        "    search_type=\"similarity_distance_threshold\",\n",
        "    search_kwargs={\"k\": 4, \"distance_threshold\": 0.1},\n",
        ")"
      ]
    },
    {
      "cell_type": "code",
      "execution_count": 30,
      "metadata": {},
      "outputs": [
        {
          "data": {
            "text/plain": [
              "[Document(page_content='foo', metadata={'id': 'doc:users_modified:988ecca7574048e396756efc0e79aeca', 'user': 'john', 'job': 'engineer', 'credit_score': 'high', 'age': '18'}),\n",
              " Document(page_content='foo', metadata={'id': 'doc:users_modified:009b1afeb4084cc6bdef858c7a99b48e', 'user': 'derrick', 'job': 'doctor', 'credit_score': 'low', 'age': '45'}),\n",
              " Document(page_content='foo', metadata={'id': 'doc:users_modified:7087cee9be5b4eca93c30fbdd09a2731', 'user': 'nancy', 'job': 'doctor', 'credit_score': 'high', 'age': '94'})]"
            ]
          },
          "execution_count": 30,
          "metadata": {},
          "output_type": "execute_result"
        }
      ],
      "source": [
        "docs = retriever.invoke(query)\n",
        "docs"
      ]
    },
    {
      "cell_type": "markdown",
      "metadata": {},
      "source": [
        "最后，`similarity_score_threshold` 允许用户定义相似文档的最低分数。"
      ]
    },
    {
      "cell_type": "code",
      "execution_count": 31,
      "metadata": {},
      "outputs": [],
      "source": [
        "retriever = vds.as_retriever(\n",
        "    search_type=\"similarity_score_threshold\",\n",
        "    search_kwargs={\"score_threshold\": 0.9, \"k\": 10},\n",
        ")"
      ]
    },
    {
      "cell_type": "code",
      "execution_count": 32,
      "metadata": {},
      "outputs": [
        {
          "data": {
            "text/plain": [
              "[Document(page_content='foo', metadata={'id': 'doc:users_modified:988ecca7574048e396756efc0e79aeca', 'user': 'john', 'job': 'engineer', 'credit_score': 'high', 'age': '18'}),\n",
              " Document(page_content='foo', metadata={'id': 'doc:users_modified:009b1afeb4084cc6bdef858c7a99b48e', 'user': 'derrick', 'job': 'doctor', 'credit_score': 'low', 'age': '45'}),\n",
              " Document(page_content='foo', metadata={'id': 'doc:users_modified:7087cee9be5b4eca93c30fbdd09a2731', 'user': 'nancy', 'job': 'doctor', 'credit_score': 'high', 'age': '94'})]"
            ]
          },
          "execution_count": 32,
          "metadata": {},
          "output_type": "execute_result"
        }
      ],
      "source": [
        "retriever.invoke(\"foo\")"
      ]
    },
    {
      "cell_type": "code",
      "execution_count": 13,
      "metadata": {},
      "outputs": [
        {
          "data": {
            "text/plain": [
              "[Document(page_content='foo', metadata={'id': 'doc:users:8f6b673b390647809d510112cde01a27', 'user': 'john', 'job': 'engineer', 'credit_score': 'high', 'age': '18'}),\n",
              " Document(page_content='bar', metadata={'id': 'doc:users:93521560735d42328b48c9c6f6418d6a', 'user': 'tyler', 'job': 'engineer', 'credit_score': 'high', 'age': '100'}),\n",
              " Document(page_content='foo', metadata={'id': 'doc:users:125ecd39d07845eabf1a699d44134a5b', 'user': 'nancy', 'job': 'doctor', 'credit_score': 'high', 'age': '94'}),\n",
              " Document(page_content='foo', metadata={'id': 'doc:users:d6200ab3764c466082fde3eaab972a2a', 'user': 'derrick', 'job': 'doctor', 'credit_score': 'low', 'age': '45'})]"
            ]
          },
          "execution_count": 13,
          "metadata": {},
          "output_type": "execute_result"
        }
      ],
      "source": [
        "retriever.invoke(\"foo\")"
      ]
    },
    {
      "cell_type": "markdown",
      "metadata": {},
      "source": [
        "## 删除索引"
      ]
    },
    {
      "cell_type": "markdown",
      "metadata": {},
      "source": [
        "要删除条目，您必须按其键来寻址。"
      ]
    },
    {
      "cell_type": "code",
      "execution_count": 34,
      "metadata": {},
      "outputs": [
        {
          "data": {
            "text/plain": [
              "True"
            ]
          },
          "execution_count": 34,
          "metadata": {},
          "output_type": "execute_result"
        }
      ],
      "source": [
        "# delete the indices too\n",
        "InMemoryVectorStore.drop_index(\n",
        "    index_name=\"users\", delete_documents=True, redis_url=\"redis://localhost:6379\"\n",
        ")\n",
        "InMemoryVectorStore.drop_index(\n",
        "    index_name=\"users_modified\",\n",
        "    delete_documents=True,\n",
        "    redis_url=\"redis://localhost:6379\",\n",
        ")"
      ]
    }
  ],
  "metadata": {
    "kernelspec": {
      "display_name": "Python 3 (ipykernel)",
      "language": "python",
      "name": "python3"
    },
    "language_info": {
      "codemirror_mode": {
        "name": "ipython",
        "version": 3
      },
      "file_extension": ".py",
      "mimetype": "text/x-python",
      "name": "python",
      "nbconvert_exporter": "python",
      "pygments_lexer": "ipython3",
      "version": "3.10.12"
    }
  },
  "nbformat": 4,
  "nbformat_minor": 4
}