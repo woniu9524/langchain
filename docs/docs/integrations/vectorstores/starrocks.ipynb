{
  "cells": [
    {
      "cell_type": "markdown",
      "id": "59723cea",
      "metadata": {},
      "source": [
        "# StarRocks\n\n>[StarRocks](https://www.starrocks.io/) 是一个高性能分析数据库。\n`StarRocks` 是新一代的亚秒级 MPP 数据库，适用于全分析场景，包括多维分析、实时分析和即席查询。\n\n>通常 `StarRocks` 被归类为 OLAP，并且在[ClickBench — 分析型数据库的基准测试](https://benchmark.clickhouse.com/)中表现出色。由于它拥有超快的向量化执行引擎，因此也可以用作快速的向量数据库。\n\n在这里，我们将展示如何使用 StarRocks Vector Store。"
      ]
    },
    {
      "cell_type": "markdown",
      "id": "1685854f",
      "metadata": {},
      "source": [
        "## 设置"
      ]
    },
    {
      "cell_type": "code",
      "execution_count": 1,
      "id": "311d44bb-4aca-4f3b-8f97-5e1f29238e40",
      "metadata": {},
      "outputs": [],
      "source": [
        "%pip install --upgrade --quiet  pymysql langchain-community"
      ]
    },
    {
      "cell_type": "markdown",
      "id": "2c891bba",
      "metadata": {},
      "source": [
        "在开头设置 `update_vectordb = False`。如果没有文档更新，我们就不需要重新构建文档的 embeddings。"
      ]
    },
    {
      "cell_type": "code",
      "execution_count": 1,
      "id": "3c85fb93",
      "metadata": {},
      "outputs": [
        {
          "name": "stderr",
          "output_type": "stream",
          "text": [
            "/Users/dirlt/utils/py3env/lib/python3.9/site-packages/requests/__init__.py:102: RequestsDependencyWarning: urllib3 (1.26.7) or chardet (5.1.0)/charset_normalizer (2.0.9) doesn't match a supported version!\n",
            "  warnings.warn(\"urllib3 ({}) or chardet ({})/charset_normalizer ({}) doesn't match a supported \"\n"
          ]
        }
      ],
      "source": [
        "from langchain.chains import RetrievalQA\n",
        "from langchain_community.document_loaders import (\n",
        "    DirectoryLoader,\n",
        "    UnstructuredMarkdownLoader,\n",
        ")\n",
        "from langchain_community.vectorstores import StarRocks\n",
        "from langchain_community.vectorstores.starrocks import StarRocksSettings\n",
        "from langchain_openai import OpenAI, OpenAIEmbeddings\n",
        "from langchain_text_splitters import TokenTextSplitter\n",
        "\n",
        "update_vectordb = False"
      ]
    },
    {
      "cell_type": "markdown",
      "id": "ee821c00",
      "metadata": {},
      "source": [
        "## 加载文档并将其分割成 token"
      ]
    },
    {
      "cell_type": "markdown",
      "id": "34ba0cfd",
      "metadata": {},
      "source": [
        "加载 `docs` 目录下的所有 markdown 文件\n\n对于 StarRocks 文档，你可以从 https://github.com/StarRocks/starrocks 克隆仓库，其中包含 `docs` 目录。"
      ]
    },
    {
      "cell_type": "code",
      "execution_count": 2,
      "id": "85912696",
      "metadata": {},
      "outputs": [],
      "source": [
        "loader = DirectoryLoader(\n",
        "    \"./docs\", glob=\"**/*.md\", loader_cls=UnstructuredMarkdownLoader\n",
        ")\n",
        "documents = loader.load()"
      ]
    },
    {
      "cell_type": "markdown",
      "id": "b415fe2a",
      "metadata": {},
      "source": [
        "将文档拆分为 token，并将 `update_vectordb` 设置为 `True`，因为有新的文档/token。"
      ]
    },
    {
      "cell_type": "code",
      "execution_count": 3,
      "id": "07e8acff",
      "metadata": {},
      "outputs": [],
      "source": [
        "# load text splitter and split docs into snippets of text\n",
        "text_splitter = TokenTextSplitter(chunk_size=400, chunk_overlap=50)\n",
        "split_docs = text_splitter.split_documents(documents)\n",
        "\n",
        "# tell vectordb to update text embeddings\n",
        "update_vectordb = True"
      ]
    },
    {
      "cell_type": "code",
      "execution_count": 4,
      "id": "1f365370",
      "metadata": {},
      "outputs": [
        {
          "data": {
            "text/plain": [
              "Document(page_content='Compile StarRocks with Docker\\n\\nThis topic describes how to compile StarRocks using Docker.\\n\\nOverview\\n\\nStarRocks provides development environment images for both Ubuntu 22.04 and CentOS 7.9. With the image, you can launch a Docker container and compile StarRocks in the container.\\n\\nStarRocks version and DEV ENV image\\n\\nDifferent branches of StarRocks correspond to different development environment images provided on StarRocks Docker Hub.\\n\\nFor Ubuntu 22.04:\\n\\n| Branch name | Image name              |\\n  | --------------- | ----------------------------------- |\\n  | main            | starrocks/dev-env-ubuntu:latest     |\\n  | branch-3.0      | starrocks/dev-env-ubuntu:3.0-latest |\\n  | branch-2.5      | starrocks/dev-env-ubuntu:2.5-latest |\\n\\nFor CentOS 7.9:\\n\\n| Branch name | Image name                       |\\n  | --------------- | ------------------------------------ |\\n  | main            | starrocks/dev-env-centos7:latest     |\\n  | branch-3.0      | starrocks/dev-env-centos7:3.0-latest |\\n  | branch-2.5      | starrocks/dev-env-centos7:2.5-latest |\\n\\nPrerequisites\\n\\nBefore compiling StarRocks, make sure the following requirements are satisfied:\\n\\nHardware\\n\\n', metadata={'source': 'docs/developers/build-starrocks/Build_in_docker.md'})"
            ]
          },
          "execution_count": 4,
          "metadata": {},
          "output_type": "execute_result"
        }
      ],
      "source": [
        "split_docs[-20]"
      ]
    },
    {
      "cell_type": "code",
      "execution_count": 5,
      "id": "50012b29",
      "metadata": {},
      "outputs": [
        {
          "name": "stdout",
          "output_type": "stream",
          "text": [
            "# docs  = 657, # splits = 2802\n"
          ]
        }
      ],
      "source": [
        "print(\"# docs  = %d, # splits = %d\" % (len(documents), len(split_docs)))"
      ]
    },
    {
      "cell_type": "markdown",
      "id": "5371f152",
      "metadata": {},
      "source": [
        "## 创建 vectordb 实例"
      ]
    },
    {
      "cell_type": "markdown",
      "id": "15702d9c",
      "metadata": {},
      "source": [
        "### 将 StarRocks 用作向量数据库"
      ]
    },
    {
      "cell_type": "code",
      "execution_count": 6,
      "id": "ced7dbe1",
      "metadata": {},
      "outputs": [],
      "source": [
        "def gen_starrocks(update_vectordb, embeddings, settings):\n",
        "    if update_vectordb:\n",
        "        docsearch = StarRocks.from_documents(split_docs, embeddings, config=settings)\n",
        "    else:\n",
        "        docsearch = StarRocks(embeddings, settings)\n",
        "    return docsearch"
      ]
    },
    {
      "cell_type": "markdown",
      "id": "15d86fda",
      "metadata": {},
      "source": [
        "## 将 Token 转换为嵌入并放入向量数据库"
      ]
    },
    {
      "cell_type": "markdown",
      "id": "ff1322ea",
      "metadata": {},
      "source": [
        "这里我们使用 StarRocks 作为向量数据库，你可以通过 `StarRocksSettings` 来配置 StarRocks 实例。\n\n配置 StarRocks 实例与配置 MySQL 实例非常相似。你需要指定：\n1. host/port\n2. 用户名（默认：'root'）\n3. 密码（默认：''）\n4. 数据库（默认：'default'）\n5. 表（默认：'langchain'）"
      ]
    },
    {
      "cell_type": "code",
      "execution_count": 8,
      "id": "26410d9b",
      "metadata": {},
      "outputs": [
        {
          "name": "stderr",
          "output_type": "stream",
          "text": [
            "Inserting data...: 100%|████████████████████████████████████████████████████████████████████████████████████████████████████████████████████| 2802/2802 [02:26<00:00, 19.11it/s]\n"
          ]
        },
        {
          "name": "stdout",
          "output_type": "stream",
          "text": [
            "\u001b[92m\u001b[1mzya.langchain @ 127.0.0.1:41003\u001b[0m\n",
            "\n",
            "\u001b[1musername: root\u001b[0m\n",
            "\n",
            "Table Schema:\n",
            "----------------------------------------------------------------------------\n",
            "|\u001b[94mname                    \u001b[0m|\u001b[96mtype                    \u001b[0m|\u001b[96mkey                     \u001b[0m|\n",
            "----------------------------------------------------------------------------\n",
            "|\u001b[94mid                      \u001b[0m|\u001b[96mvarchar(65533)          \u001b[0m|\u001b[96mtrue                    \u001b[0m|\n",
            "|\u001b[94mdocument                \u001b[0m|\u001b[96mvarchar(65533)          \u001b[0m|\u001b[96mfalse                   \u001b[0m|\n",
            "|\u001b[94membedding               \u001b[0m|\u001b[96marray<float>            \u001b[0m|\u001b[96mfalse                   \u001b[0m|\n",
            "|\u001b[94mmetadata                \u001b[0m|\u001b[96mvarchar(65533)          \u001b[0m|\u001b[96mfalse                   \u001b[0m|\n",
            "----------------------------------------------------------------------------\n",
            "\n"
          ]
        }
      ],
      "source": [
        "embeddings = OpenAIEmbeddings()\n",
        "\n",
        "# configure starrocks settings(host/port/user/pw/db)\n",
        "settings = StarRocksSettings()\n",
        "settings.port = 41003\n",
        "settings.host = \"127.0.0.1\"\n",
        "settings.username = \"root\"\n",
        "settings.password = \"\"\n",
        "settings.database = \"zya\"\n",
        "docsearch = gen_starrocks(update_vectordb, embeddings, settings)\n",
        "\n",
        "print(docsearch)\n",
        "\n",
        "update_vectordb = False"
      ]
    },
    {
      "cell_type": "markdown",
      "id": "bde66626",
      "metadata": {},
      "source": [
        "## 构建 QA 并向其提问"
      ]
    },
    {
      "cell_type": "code",
      "execution_count": 10,
      "id": "84921814",
      "metadata": {},
      "outputs": [
        {
          "name": "stdout",
          "output_type": "stream",
          "text": [
            " No, profile is not enabled by default. To enable profile, set the variable `enable_profile` to `true` using the command `set enable_profile = true;`\n"
          ]
        }
      ],
      "source": [
        "llm = OpenAI()\n",
        "qa = RetrievalQA.from_chain_type(\n",
        "    llm=llm, chain_type=\"stuff\", retriever=docsearch.as_retriever()\n",
        ")\n",
        "query = \"is profile enabled by default? if not, how to enable profile?\"\n",
        "resp = qa.run(query)\n",
        "print(resp)"
      ]
    }
  ],
  "metadata": {
    "kernelspec": {
      "display_name": "Python 3 (ipykernel)",
      "language": "python",
      "name": "python3"
    },
    "language_info": {
      "codemirror_mode": {
        "name": "ipython",
        "version": 3
      },
      "file_extension": ".py",
      "mimetype": "text/x-python",
      "name": "python",
      "nbconvert_exporter": "python",
      "pygments_lexer": "ipython3",
      "version": "3.10.6"
    }
  },
  "nbformat": 4,
  "nbformat_minor": 5
}