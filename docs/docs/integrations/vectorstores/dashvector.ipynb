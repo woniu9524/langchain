{
  "cells": [
    {
      "cell_type": "markdown",
      "metadata": {
        "pycharm": {
          "name": "#%% md\n"
        }
      },
      "source": [
        "# DashVector\n\n> [DashVector](https://help.aliyun.com/document_detail/2510225.html) 是一个全托管的向量数据库服务，支持高维稠密向量和稀疏向量，以及实时插入和过滤搜索。它旨在自动扩展，并能适应不同的应用需求。\n\n本 Notebook 展示了如何使用与 `DashVector` 向量数据库相关的各项功能。\n\n要使用 DashVector，必须拥有一个 API 密钥。\n以下是 [安装说明](https://help.aliyun.com/document_detail/2510223.html)。"
      ]
    },
    {
      "cell_type": "markdown",
      "metadata": {
        "pycharm": {
          "name": "#%% md\n"
        }
      },
      "source": [
        "## 安装"
      ]
    },
    {
      "cell_type": "code",
      "execution_count": null,
      "metadata": {
        "pycharm": {
          "name": "#%%\n"
        }
      },
      "outputs": [],
      "source": [
        "%pip install --upgrade --quiet  langchain-community dashvector dashscope"
      ]
    },
    {
      "cell_type": "markdown",
      "metadata": {
        "pycharm": {
          "name": "#%% md\n"
        }
      },
      "source": [
        "我们要使用 `DashScopeEmbeddings`，因此我们也需要获取 Dashscope API 密钥。"
      ]
    },
    {
      "cell_type": "code",
      "execution_count": 1,
      "metadata": {
        "ExecuteTime": {
          "end_time": "2023-08-11T10:37:15.091585Z",
          "start_time": "2023-08-11T10:36:51.859753Z"
        },
        "pycharm": {
          "is_executing": true,
          "name": "#%%\n"
        }
      },
      "outputs": [],
      "source": [
        "import getpass\n",
        "import os\n",
        "\n",
        "if \"DASHVECTOR_API_KEY\" not in os.environ:\n",
        "    os.environ[\"DASHVECTOR_API_KEY\"] = getpass.getpass(\"DashVector API Key:\")\n",
        "if \"DASHSCOPE_API_KEY\" not in os.environ:\n",
        "    os.environ[\"DASHSCOPE_API_KEY\"] = getpass.getpass(\"DashScope API Key:\")"
      ]
    },
    {
      "cell_type": "markdown",
      "metadata": {
        "pycharm": {
          "name": "#%% md\n"
        }
      },
      "source": [
        "## 示例"
      ]
    },
    {
      "cell_type": "code",
      "execution_count": 1,
      "metadata": {
        "ExecuteTime": {
          "end_time": "2023-08-11T10:42:30.243460Z",
          "start_time": "2023-08-11T10:42:27.783785Z"
        },
        "pycharm": {
          "is_executing": true,
          "name": "#%%\n"
        }
      },
      "outputs": [],
      "source": [
        "from langchain_community.embeddings.dashscope import DashScopeEmbeddings\n",
        "from langchain_community.vectorstores import DashVector\n",
        "from langchain_text_splitters import CharacterTextSplitter"
      ]
    },
    {
      "cell_type": "code",
      "execution_count": 2,
      "metadata": {
        "ExecuteTime": {
          "end_time": "2023-08-11T10:42:30.391580Z",
          "start_time": "2023-08-11T10:42:30.249021Z"
        },
        "pycharm": {
          "is_executing": true,
          "name": "#%%\n"
        }
      },
      "outputs": [],
      "source": [
        "from langchain_community.document_loaders import TextLoader\n",
        "\n",
        "loader = TextLoader(\"../../how_to/state_of_the_union.txt\")\n",
        "documents = loader.load()\n",
        "text_splitter = CharacterTextSplitter(chunk_size=1000, chunk_overlap=0)\n",
        "docs = text_splitter.split_documents(documents)\n",
        "\n",
        "embeddings = DashScopeEmbeddings()"
      ]
    },
    {
      "cell_type": "markdown",
      "metadata": {
        "pycharm": {
          "name": "#%% md\n"
        }
      },
      "source": [
        "我们可以从文档创建新的 DashVector。"
      ]
    },
    {
      "cell_type": "code",
      "execution_count": null,
      "metadata": {
        "pycharm": {
          "name": "#%%\n"
        }
      },
      "outputs": [],
      "source": [
        "dashvector = DashVector.from_documents(docs, embeddings)\n",
        "\n",
        "query = \"What did the president say about Ketanji Brown Jackson\"\n",
        "docs = dashvector.similarity_search(query)\n",
        "print(docs)"
      ]
    },
    {
      "cell_type": "markdown",
      "metadata": {
        "pycharm": {
          "name": "#%% md\n"
        }
      },
      "source": [
        "我们可以添加带有元数据和 ID 的文本，并通过元数据过滤器进行搜索。"
      ]
    },
    {
      "cell_type": "code",
      "execution_count": 4,
      "metadata": {
        "ExecuteTime": {
          "end_time": "2023-08-11T10:42:51.641309Z",
          "start_time": "2023-08-11T10:42:51.132109Z"
        },
        "pycharm": {
          "name": "#%%\n"
        }
      },
      "outputs": [
        {
          "name": "stdout",
          "output_type": "stream",
          "text": [
            "[Document(page_content='baz', metadata={'key': 2})]\n"
          ]
        }
      ],
      "source": [
        "texts = [\"foo\", \"bar\", \"baz\"]\n",
        "metadatas = [{\"key\": i} for i in range(len(texts))]\n",
        "ids = [\"0\", \"1\", \"2\"]\n",
        "\n",
        "dashvector.add_texts(texts, metadatas=metadatas, ids=ids)\n",
        "\n",
        "docs = dashvector.similarity_search(\"foo\", filter=\"key = 2\")\n",
        "print(docs)"
      ]
    },
    {
      "cell_type": "markdown",
      "metadata": {},
      "source": [
        "### 操作频段 `partition` 参数"
      ]
    },
    {
      "cell_type": "markdown",
      "metadata": {},
      "source": [
        "`partition` 参数的默认值为 `default`，如果传入不存在的 `partition` 参数，则会自动创建该 `partition`。"
      ]
    },
    {
      "cell_type": "code",
      "execution_count": null,
      "metadata": {},
      "outputs": [],
      "source": [
        "texts = [\"foo\", \"bar\", \"baz\"]\n",
        "metadatas = [{\"key\": i} for i in range(len(texts))]\n",
        "ids = [\"0\", \"1\", \"2\"]\n",
        "partition = \"langchain\"\n",
        "\n",
        "# add texts\n",
        "dashvector.add_texts(texts, metadatas=metadatas, ids=ids, partition=partition)\n",
        "\n",
        "# similarity search\n",
        "query = \"What did the president say about Ketanji Brown Jackson\"\n",
        "docs = dashvector.similarity_search(query, partition=partition)\n",
        "\n",
        "# delete\n",
        "dashvector.delete(ids=ids, partition=partition)"
      ]
    }
  ],
  "metadata": {
    "kernelspec": {
      "display_name": "Python 3 (ipykernel)",
      "language": "python",
      "name": "python3"
    },
    "language_info": {
      "codemirror_mode": {
        "name": "ipython",
        "version": 3
      },
      "file_extension": ".py",
      "mimetype": "text/x-python",
      "name": "python",
      "nbconvert_exporter": "python",
      "pygments_lexer": "ipython3",
      "version": "3.11.6"
    }
  },
  "nbformat": 4,
  "nbformat_minor": 1
}