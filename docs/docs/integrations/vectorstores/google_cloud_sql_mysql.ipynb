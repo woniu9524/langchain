{
  "cells": [
    {
      "cell_type": "markdown",
      "metadata": {},
      "source": [
        "# Google Cloud SQL for MySQL\n\n> [Cloud SQL](https://cloud.google.com/sql) 是一个完全托管的关系数据库服务，提供高吞吐量、无缝集成和出色的可扩展性。它提供 PostgreSQL、MySQL 和 SQL Server 数据库引擎。利用 Cloud SQL 的 LangChain 集成，扩展您的数据库应用程序以构建支持 AI 的体验。\n\n本笔记本将介绍如何使用 `Cloud SQL for MySQL` 通过 `MySQLVectorStore` 类来存储向量嵌入。\n\n在 [GitHub](https://github.com/googleapis/langchain-google-cloud-sql-mysql-python/) 上了解有关该软件包的更多信息。\n\n[![Open In Colab](https://colab.research.google.com/assets/colab-badge.svg)](https://colab.research.google.com/github/googleapis/langchain-google-cloud-sql-mysql-python/blob/main/docs/vector_store.ipynb)"
      ]
    },
    {
      "cell_type": "markdown",
      "metadata": {},
      "source": [
        "## 开始之前\n\n要运行此笔记本，您需要执行以下操作：\n\n* [创建 Google Cloud 项目](https://developers.google.com/workspace/guides/create-project)\n* [启用 Cloud SQL Admin API](https://console.cloud.google.com/flows/enableapi?apiid=sqladmin.googleapis.com)\n* [创建 Cloud SQL 实例](https://cloud.google.com/sql/docs/mysql/connect-instance-auth-proxy#create-instance)（版本必须 >= **8.0.36**，并且已将 **cloudsql_vector** 数据库标志配置为“On”）\n* [创建 Cloud SQL 数据库](https://cloud.google.com/sql/docs/mysql/create-manage-databases)\n* [向数据库添加用户](https://cloud.google.com/sql/docs/mysql/create-manage-users)"
      ]
    },
    {
      "cell_type": "markdown",
      "metadata": {},
      "source": [
        "### 🦜🔗 库安装\n安装集成库 `langchain-google-cloud-sql-mysql` 和嵌入服务库 `langchain-google-vertexai`。"
      ]
    },
    {
      "cell_type": "code",
      "execution_count": null,
      "metadata": {
        "id": "0ZITIDE160OD"
      },
      "outputs": [],
      "source": [
        "%pip install --upgrade --quiet langchain-google-cloud-sql-mysql langchain-google-vertexai"
      ]
    },
    {
      "cell_type": "markdown",
      "metadata": {
        "id": "v40bB_GMcr9f"
      },
      "source": [
        "**仅限 Colab：**取消注释下面的单元格以重启内核或使用按钮重启内核。对于 Vertex AI Workbench，您可以使用顶部的按钮重启终端。"
      ]
    },
    {
      "cell_type": "code",
      "execution_count": null,
      "metadata": {
        "id": "v6jBDnYnNM08"
      },
      "outputs": [],
      "source": [
        "# # Automatically restart kernel after installs so that your environment can access the new packages\n",
        "# import IPython\n",
        "\n",
        "# app = IPython.Application.instance()\n",
        "# app.kernel.do_shutdown(True)"
      ]
    },
    {
      "cell_type": "markdown",
      "metadata": {
        "id": "yygMe6rPWxHS"
      },
      "source": [
        "### 🔐 身份验证\n您需要使用登录到此笔记本的 IAM 用户身份向 Google Cloud 进行身份验证，才能访问您的 Google Cloud 项目。\n\n* 如果您是使用 Colab 运行此笔记本，请使用下面的单元格并继续。\n* 如果您是使用 Vertex AI Workbench，请在此处查看设置说明 ([https://github.com/GoogleCloudPlatform/generative-ai/tree/main/setup-env](https://github.com/GoogleCloudPlatform/generative-ai/tree/main/setup-env))。"
      ]
    },
    {
      "cell_type": "code",
      "execution_count": null,
      "metadata": {
        "id": "PTXN1_DSXj2b"
      },
      "outputs": [],
      "source": [
        "from google.colab import auth\n",
        "\n",
        "auth.authenticate_user()"
      ]
    },
    {
      "cell_type": "markdown",
      "metadata": {
        "id": "NEvB9BoLEulY"
      },
      "source": [
        "### ☁ 设置您的 Google Cloud 项目\n设置您的 Google Cloud 项目，以便在此笔记本中使用 Google Cloud 资源。\n\n如果您不知道项目 ID，请尝试以下方法：\n\n* 运行 `gcloud config list`。\n* 运行 `gcloud projects list`。\n* 查看支持页面：[查找项目 ID](https://support.google.com/googleapi/answer/7014113)。"
      ]
    },
    {
      "cell_type": "code",
      "execution_count": null,
      "metadata": {
        "cellView": "form",
        "id": "gfkS3yVRE4_W"
      },
      "outputs": [],
      "source": [
        "# @markdown Please fill in the value below with your Google Cloud project ID and then run the cell.\n",
        "\n",
        "PROJECT_ID = \"my-project-id\"  # @param {type:\"string\"}\n",
        "\n",
        "# Set the project id\n",
        "!gcloud config set project {PROJECT_ID}"
      ]
    },
    {
      "cell_type": "markdown",
      "metadata": {
        "id": "f8f2830ee9ca1e01"
      },
      "source": [
        "## 基本用法"
      ]
    },
    {
      "cell_type": "markdown",
      "metadata": {
        "id": "OMvzMWRrR6n7"
      },
      "source": [
        "### 设置 Cloud SQL 数据库值\n在 [Cloud SQL 实例页面](https://console.cloud.google.com/sql?_ga=2.223735448.2062268965.1707700487-2088871159.1707257687) 中找到您的数据库值。\n\n**注意：** MySQL 向量支持仅在版本 **>= 8.0.36** 的 MySQL 实例上可用。\n\n对于现有实例，您可能需要执行一次 [自助维护更新](https://cloud.google.com/sql/docs/mysql/self-service-maintenance)，将维护版本更新到 **MYSQL_8_0_36.R20240401.03_00** 或更高版本。更新后，[配置您的数据库标志](https://cloud.google.com/sql/docs/mysql/flags)，将新的 **cloudsql_vector** 标志设置为“On”。"
      ]
    },
    {
      "cell_type": "code",
      "execution_count": null,
      "metadata": {},
      "outputs": [],
      "source": [
        "# @title Set Your Values Here { display-mode: \"form\" }\n",
        "REGION = \"us-central1\"  # @param {type: \"string\"}\n",
        "INSTANCE = \"my-mysql-instance\"  # @param {type: \"string\"}\n",
        "DATABASE = \"my-database\"  # @param {type: \"string\"}\n",
        "TABLE_NAME = \"vector_store\"  # @param {type: \"string\"}"
      ]
    },
    {
      "cell_type": "markdown",
      "metadata": {
        "id": "QuQigs4UoFQ2"
      },
      "source": [
        "### MySQLEngine 连接池\n\n将 Cloud SQL 作为向量存储的一个要求和论点是 `MySQLEngine` 对象。`MySQLEngine` 会配置到您的 Cloud SQL 数据库的连接池，从而实现从您的应用程序成功连接，并遵循行业的最佳实践。\n\n要使用 `MySQLEngine.from_instance()` 创建 `MySQLEngine`，您只需要提供 4 个要素：\n\n1. `project_id`：Cloud SQL 实例所在 Google Cloud 项目的项目 ID。\n1. `region`：Cloud SQL 实例所在的区域。\n1. `instance`：Cloud SQL 实例的名称。\n1. `database`：要连接到 Cloud SQL 实例上的数据库的名称。\n\n默认情况下，[IAM 数据库身份验证](https://cloud.google.com/sql/docs/mysql/iam-authentication#iam-db-auth) 将被用作数据库身份验证的方法。此库使用属于[应用程序默认凭据 (ADC)](https://cloud.google.com/docs/authentication/application-default-credentials) 的 IAM 主体，该主体源自环境。\n\n有关 IAM 数据库身份验证的更多信息，请参阅：\n\n* [为 IAM 数据库身份验证配置实例](https://cloud.google.com/sql/docs/mysql/create-edit-iam-instances)\n* [使用 IAM 数据库身份验证管理用户](https://cloud.google.com/sql/docs/mysql/add-manage-iam-users)\n\n此外，还可以使用[内置数据库身份验证](https://cloud.google.com/sql/docs/mysql/built-in-authentication)，即使用用户名和密码访问 Cloud SQL 数据库。只需为 `MySQLEngine.from_instance()` 提供可选的 `user` 和 `password` 参数即可：\n\n* `user`：用于内置数据库身份验证和登录的数据库用户。\n* `password`：用于内置数据库身份验证和登录的数据库密码。"
      ]
    },
    {
      "cell_type": "code",
      "execution_count": null,
      "metadata": {
        "id": "guVURf1QLL53"
      },
      "outputs": [],
      "source": [
        "from langchain_google_cloud_sql_mysql import MySQLEngine\n",
        "\n",
        "engine = MySQLEngine.from_instance(\n",
        "    project_id=PROJECT_ID, region=REGION, instance=INSTANCE, database=DATABASE\n",
        ")"
      ]
    },
    {
      "cell_type": "markdown",
      "metadata": {},
      "source": [
        "### 初始化表\n`MySQLVectorStore` 类需要一个数据库表。`MySQLEngine` 类有一个名为 `init_vectorstore_table()` 的辅助方法，可以用来为您创建具有适当架构的表。"
      ]
    },
    {
      "cell_type": "code",
      "execution_count": null,
      "metadata": {
        "id": "avlyHEMn6gzU"
      },
      "outputs": [],
      "source": [
        "engine.init_vectorstore_table(\n",
        "    table_name=TABLE_NAME,\n",
        "    vector_size=768,  # Vector size for VertexAI model(textembedding-gecko@latest)\n",
        ")"
      ]
    },
    {
      "cell_type": "markdown",
      "metadata": {},
      "source": [
        "### 创建嵌入类实例\n\n您可以使用任何 [LangChain embeddings 模型](/docs/integrations/text_embedding/)。\n您可能需要启用 Vertex AI API 来使用 `VertexAIEmbeddings`。\n\n我们建议在生产环境中固定嵌入模型的版本，了解更多有关 [文本嵌入模型](https://cloud.google.com/vertex-ai/docs/generative-ai/model-reference/text-embeddings) 的信息。"
      ]
    },
    {
      "cell_type": "code",
      "execution_count": null,
      "metadata": {
        "id": "5utKIdq7KYi5"
      },
      "outputs": [],
      "source": [
        "# enable Vertex AI API\n",
        "!gcloud services enable aiplatform.googleapis.com"
      ]
    },
    {
      "cell_type": "code",
      "execution_count": null,
      "metadata": {
        "id": "Vb2RJocV9_LQ"
      },
      "outputs": [],
      "source": [
        "from langchain_google_vertexai import VertexAIEmbeddings\n",
        "\n",
        "embedding = VertexAIEmbeddings(\n",
        "    model_name=\"textembedding-gecko@latest\", project=PROJECT_ID\n",
        ")"
      ]
    },
    {
      "cell_type": "markdown",
      "metadata": {
        "id": "e1tl0aNx7SWy"
      },
      "source": [
        "### 初始化默认的 MySQLVectorStore\n\n要初始化 `MySQLVectorStore` 类，您只需要提供 3 个要素：\n\n1.  `engine` - `MySQLEngine` 引擎的实例。\n1.  `embedding_service` - LangChain 嵌入模型的实例。\n1.  `table_name`：Cloud SQL 数据库中用作向量存储的表名。"
      ]
    },
    {
      "cell_type": "code",
      "execution_count": null,
      "metadata": {
        "id": "z-AZyzAQ7bsf"
      },
      "outputs": [],
      "source": [
        "from langchain_google_cloud_sql_mysql import MySQLVectorStore\n",
        "\n",
        "store = MySQLVectorStore(\n",
        "    engine=engine,\n",
        "    embedding_service=embedding,\n",
        "    table_name=TABLE_NAME,\n",
        ")"
      ]
    },
    {
      "cell_type": "markdown",
      "metadata": {},
      "source": [
        "### 添加文本"
      ]
    },
    {
      "cell_type": "code",
      "execution_count": null,
      "metadata": {
        "id": "nrDvGWIOLL54"
      },
      "outputs": [],
      "source": [
        "import uuid\n",
        "\n",
        "all_texts = [\"Apples and oranges\", \"Cars and airplanes\", \"Pineapple\", \"Train\", \"Banana\"]\n",
        "metadatas = [{\"len\": len(t)} for t in all_texts]\n",
        "ids = [str(uuid.uuid4()) for _ in all_texts]\n",
        "\n",
        "store.add_texts(all_texts, metadatas=metadatas, ids=ids)"
      ]
    },
    {
      "cell_type": "markdown",
      "metadata": {},
      "source": [
        "### 删除文本\n\n通过 ID 从向量存储中删除向量。"
      ]
    },
    {
      "cell_type": "code",
      "execution_count": null,
      "metadata": {},
      "outputs": [],
      "source": [
        "store.delete([ids[1]])"
      ]
    },
    {
      "cell_type": "markdown",
      "metadata": {},
      "source": [
        "### 搜索文档"
      ]
    },
    {
      "cell_type": "code",
      "execution_count": 17,
      "metadata": {
        "colab": {
          "base_uri": "https://localhost:8080/"
        },
        "id": "fpqeZgUeLL54",
        "outputId": "f674a3af-452c-4d58-bb62-cbf514a9e1e3"
      },
      "outputs": [
        {
          "name": "stdout",
          "output_type": "stream",
          "text": [
            "Pineapple\n"
          ]
        }
      ],
      "source": [
        "query = \"I'd like a fruit.\"\n",
        "docs = store.similarity_search(query)\n",
        "print(docs[0].page_content)"
      ]
    },
    {
      "cell_type": "markdown",
      "metadata": {},
      "source": [
        "### 按向量搜索文档\n\n也可以使用 `similarity_search_by_vector` 来搜索与给定嵌入向量相似的文档，该函数接受一个嵌入向量作为参数而不是字符串。"
      ]
    },
    {
      "cell_type": "code",
      "execution_count": null,
      "metadata": {
        "colab": {
          "base_uri": "https://localhost:8080/"
        },
        "id": "N-NC5jgGLL55",
        "outputId": "69a1f9de-a830-450d-8a5e-118b36815a46"
      },
      "outputs": [
        {
          "name": "stdout",
          "output_type": "stream",
          "text": [
            "[Document(page_content='Pineapple', metadata={'len': 9}), Document(page_content='Banana', metadata={'len': 6})]\n"
          ]
        }
      ],
      "source": [
        "query_vector = embedding.embed_query(query)\n",
        "docs = store.similarity_search_by_vector(query_vector, k=2)\n",
        "print(docs)"
      ]
    },
    {
      "cell_type": "markdown",
      "metadata": {},
      "source": [
        "### 添加索引\n通过应用向量索引来加速向量搜索查询。了解更多关于 [MySQL 向量索引](https://github.com/googleapis/langchain-google-cloud-sql-mysql-python/blob/main/src/langchain_google_cloud_sql_mysql/indexes.py) 的信息。\n\n**注意：** 对于 IAM 数据库身份验证（默认用法），IAM 数据库用户需要被授权以下权限，才能对向量索引拥有完全控制权。这些权限需要由具有特权的数据库用户授予。\n\n```\nGRANT EXECUTE ON PROCEDURE mysql.create_vector_index TO 'your_iam_db_user'@'%';\nGRANT EXECUTE ON PROCEDURE mysql.alter_vector_index TO 'your_iam_db_user'@'%';\nGRANT EXECUTE ON PROCEDURE mysql.drop_vector_index TO 'your_iam_db_user'@'%';\nGRANT SELECT ON mysql.vector_indexes TO 'your_iam_db_user'@'%';\n```"
      ]
    },
    {
      "cell_type": "code",
      "execution_count": null,
      "metadata": {},
      "outputs": [],
      "source": [
        "from langchain_google_cloud_sql_mysql import VectorIndex\n",
        "\n",
        "store.apply_vector_index(VectorIndex())"
      ]
    },
    {
      "cell_type": "markdown",
      "metadata": {},
      "source": [
        "### 移除索引"
      ]
    },
    {
      "cell_type": "code",
      "execution_count": null,
      "metadata": {},
      "outputs": [],
      "source": [
        "store.drop_vector_index()"
      ]
    },
    {
      "cell_type": "markdown",
      "metadata": {},
      "source": [
        "## 高级用法"
      ]
    },
    {
      "cell_type": "markdown",
      "metadata": {},
      "source": [
        "### 使用自定义元数据创建 MySQLVectorStore\n\n向量存储可以利用关系数据来过滤相似性搜索。\n\n创建一个表和带有自定义元数据列的 `MySQLVectorStore` 实例。"
      ]
    },
    {
      "cell_type": "code",
      "execution_count": null,
      "metadata": {
        "id": "eANG7_8qLL55"
      },
      "outputs": [],
      "source": [
        "from langchain_google_cloud_sql_mysql import Column\n",
        "\n",
        "# set table name\n",
        "CUSTOM_TABLE_NAME = \"vector_store_custom\"\n",
        "\n",
        "engine.init_vectorstore_table(\n",
        "    table_name=CUSTOM_TABLE_NAME,\n",
        "    vector_size=768,  # VertexAI model: textembedding-gecko@latest\n",
        "    metadata_columns=[Column(\"len\", \"INTEGER\")],\n",
        ")\n",
        "\n",
        "\n",
        "# initialize MySQLVectorStore with custom metadata columns\n",
        "custom_store = MySQLVectorStore(\n",
        "    engine=engine,\n",
        "    embedding_service=embedding,\n",
        "    table_name=CUSTOM_TABLE_NAME,\n",
        "    metadata_columns=[\"len\"],\n",
        "    # connect to an existing VectorStore by customizing the table schema:\n",
        "    # id_column=\"uuid\",\n",
        "    # content_column=\"documents\",\n",
        "    # embedding_column=\"vectors\",\n",
        ")"
      ]
    },
    {
      "cell_type": "markdown",
      "metadata": {
        "id": "bj2d-c2sLL5-"
      },
      "source": [
        "### 使用元数据过滤器搜索文档\n\n在处理文档之前，对文档进行筛选会很有帮助。\n\n例如，可以使用 `filter` 参数根据元数据筛选文档。"
      ]
    },
    {
      "cell_type": "code",
      "execution_count": null,
      "metadata": {
        "colab": {
          "base_uri": "https://localhost:8080/"
        },
        "id": "Sqfgk6EOLL5-",
        "outputId": "a10c74e2-fe48-4cf9-ba2f-85aecb2490d0"
      },
      "outputs": [
        {
          "name": "stdout",
          "output_type": "stream",
          "text": [
            "[Document(page_content='Pineapple', metadata={'len': 9}), Document(page_content='Banana', metadata={'len': 6}), Document(page_content='Apples and oranges', metadata={'len': 18}), Document(page_content='Cars and airplanes', metadata={'len': 18})]\n"
          ]
        }
      ],
      "source": [
        "import uuid\n",
        "\n",
        "# add texts to the vector store\n",
        "all_texts = [\"Apples and oranges\", \"Cars and airplanes\", \"Pineapple\", \"Train\", \"Banana\"]\n",
        "metadatas = [{\"len\": len(t)} for t in all_texts]\n",
        "ids = [str(uuid.uuid4()) for _ in all_texts]\n",
        "custom_store.add_texts(all_texts, metadatas=metadatas, ids=ids)\n",
        "\n",
        "# use filter on search\n",
        "query_vector = embedding.embed_query(\"I'd like a fruit.\")\n",
        "docs = custom_store.similarity_search_by_vector(query_vector, filter=\"len >= 6\")\n",
        "\n",
        "print(docs)"
      ]
    }
  ],
  "metadata": {
    "colab": {
      "provenance": [],
      "toc_visible": true
    },
    "kernelspec": {
      "display_name": "Python 3",
      "name": "python3"
    },
    "language_info": {
      "codemirror_mode": {
        "name": "ipython",
        "version": 3
      },
      "file_extension": ".py",
      "mimetype": "text/x-python",
      "name": "python",
      "nbconvert_exporter": "python",
      "pygments_lexer": "ipython3",
      "version": "3.11.5"
    }
  },
  "nbformat": 4,
  "nbformat_minor": 0
}