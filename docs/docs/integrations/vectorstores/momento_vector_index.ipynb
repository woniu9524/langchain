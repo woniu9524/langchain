{
  "cells": [
    {
      "cell_type": "markdown",
      "id": "683953b3",
      "metadata": {},
      "source": [
        "# Momento Vector Index (MVI)\n\n>[MVI](https://gomomento.com)：您数据最高效、最易用的无服务器向量索引。开始使用 MVI，只需注册一个账户即可。无需处理基础设施、管理服务器或担心扩展问题。MVI 是一项可自动扩展以满足您需求的のでサービス。\n\n要注册并访问 MVI，请访问 [Momento Console](https://console.gomomento.com)。"
      ]
    },
    {
      "cell_type": "markdown",
      "id": "82581e78",
      "metadata": {},
      "source": [
        "# 设置"
      ]
    },
    {
      "cell_type": "markdown",
      "id": "3120d063",
      "metadata": {},
      "source": [
        "## 安装先决条件"
      ]
    },
    {
      "cell_type": "markdown",
      "id": "9d7e5fd5",
      "metadata": {},
      "source": [
        "您需要：\n- [`momento`](https://pypi.org/project/momento/) 包，用于与 MVI 交互，以及\n- `openai` 包，用于与 OpenAI API 交互。\n- `tiktoken` 包，用于对文本进行分词。"
      ]
    },
    {
      "cell_type": "code",
      "execution_count": null,
      "id": "a62cff8a-bcf7-4e33-bbbc-76999c2e3e20",
      "metadata": {
        "tags": []
      },
      "outputs": [],
      "source": [
        "%pip install --upgrade --quiet  momento langchain-openai langchain-community tiktoken"
      ]
    },
    {
      "cell_type": "markdown",
      "id": "8317b9df",
      "metadata": {},
      "source": [
        "## 输入 API 密钥"
      ]
    },
    {
      "cell_type": "code",
      "execution_count": 3,
      "id": "4b96eed5",
      "metadata": {},
      "outputs": [],
      "source": [
        "import getpass\n",
        "import os"
      ]
    },
    {
      "cell_type": "markdown",
      "id": "7ce4b6f7",
      "metadata": {},
      "source": [
        "### Momento：用于索引数据"
      ]
    },
    {
      "cell_type": "markdown",
      "id": "78b8b2ee",
      "metadata": {},
      "source": [
        "请访问 [Momento Console](https://console.gomomento.com) 获取您的 API 密钥。"
      ]
    },
    {
      "cell_type": "code",
      "execution_count": null,
      "id": "211407a8",
      "metadata": {},
      "outputs": [],
      "source": [
        "if \"MOMENTO_API_KEY\" not in os.environ:\n",
        "    os.environ[\"MOMENTO_API_KEY\"] = getpass.getpass(\"Momento API Key:\")"
      ]
    },
    {
      "cell_type": "markdown",
      "id": "08148c5f",
      "metadata": {},
      "source": [
        "### OpenAI：用于文本嵌入"
      ]
    },
    {
      "cell_type": "code",
      "execution_count": 18,
      "id": "8b6ed9cd-81b9-46e5-9c20-5aafca2844d0",
      "metadata": {
        "tags": []
      },
      "outputs": [],
      "source": [
        "if \"OPENAI_API_KEY\" not in os.environ:\n",
        "    os.environ[\"OPENAI_API_KEY\"] = getpass.getpass(\"OpenAI API Key:\")"
      ]
    },
    {
      "cell_type": "markdown",
      "id": "347932a6",
      "metadata": {},
      "source": [
        "# 加载你的数据"
      ]
    },
    {
      "cell_type": "markdown",
      "id": "2cfa2538",
      "metadata": {},
      "source": [
        "这里我们使用 Langchain 的范例数据集，即“国情咨文”。\n\n首先，我们加载相关的模块："
      ]
    },
    {
      "cell_type": "code",
      "execution_count": 12,
      "id": "aac9563e",
      "metadata": {
        "tags": []
      },
      "outputs": [],
      "source": [
        "from langchain_community.document_loaders import TextLoader\n",
        "from langchain_community.vectorstores import MomentoVectorIndex\n",
        "from langchain_openai import OpenAIEmbeddings\n",
        "from langchain_text_splitters import CharacterTextSplitter"
      ]
    },
    {
      "cell_type": "markdown",
      "id": "f75e1221",
      "metadata": {},
      "source": [
        "然后我们加载数据："
      ]
    },
    {
      "cell_type": "code",
      "execution_count": 24,
      "id": "a3c3999a",
      "metadata": {
        "tags": []
      },
      "outputs": [
        {
          "data": {
            "text/plain": [
              "1"
            ]
          },
          "execution_count": 24,
          "metadata": {},
          "output_type": "execute_result"
        }
      ],
      "source": [
        "loader = TextLoader(\"../../how_to/state_of_the_union.txt\")\n",
        "documents = loader.load()\n",
        "len(documents)"
      ]
    },
    {
      "cell_type": "markdown",
      "id": "31a90e56",
      "metadata": {},
      "source": [
        "请注意，数据是一个大型文件，因此只有一个文档："
      ]
    },
    {
      "cell_type": "code",
      "execution_count": 25,
      "id": "1926aaae",
      "metadata": {},
      "outputs": [
        {
          "data": {
            "text/plain": [
              "38539"
            ]
          },
          "execution_count": 25,
          "metadata": {},
          "output_type": "execute_result"
        }
      ],
      "source": [
        "len(documents[0].page_content)"
      ]
    },
    {
      "cell_type": "markdown",
      "id": "1ff35d84",
      "metadata": {},
      "source": [
        "因为这是一个大型文本文件，我们将其分割成块用于问答。这样，用户的问题将从最相关的块中得到解答。"
      ]
    },
    {
      "cell_type": "code",
      "execution_count": 26,
      "id": "1de69459",
      "metadata": {},
      "outputs": [
        {
          "data": {
            "text/plain": [
              "42"
            ]
          },
          "execution_count": 26,
          "metadata": {},
          "output_type": "execute_result"
        }
      ],
      "source": [
        "text_splitter = CharacterTextSplitter(chunk_size=1000, chunk_overlap=0)\n",
        "docs = text_splitter.split_documents(documents)\n",
        "len(docs)"
      ]
    },
    {
      "cell_type": "markdown",
      "id": "cb7854c1",
      "metadata": {},
      "source": [
        "# 索引你的数据"
      ]
    },
    {
      "cell_type": "markdown",
      "id": "42059ec1",
      "metadata": {},
      "source": [
        "将数据建立索引就像实例化 `MomentoVectorIndex` 对象一样简单。在这里，我们使用 `from_documents` 助手来实例化和索引数据："
      ]
    },
    {
      "cell_type": "code",
      "execution_count": 30,
      "id": "dcf88bdf",
      "metadata": {
        "tags": []
      },
      "outputs": [],
      "source": [
        "vector_db = MomentoVectorIndex.from_documents(\n",
        "    docs, OpenAIEmbeddings(), index_name=\"sotu\"\n",
        ")"
      ]
    },
    {
      "cell_type": "markdown",
      "id": "225cd0e2",
      "metadata": {},
      "source": [
        "这通过您的 API 密钥连接到 Momento Vector Index 服务并索引数据。如果之前索引不存在，此过程会为您创建它。数据现在可供搜索。"
      ]
    },
    {
      "cell_type": "markdown",
      "id": "ffb2c44e",
      "metadata": {},
      "source": [
        "# 查询你的数据"
      ]
    },
    {
      "cell_type": "markdown",
      "id": "e705a976",
      "metadata": {},
      "source": [
        "## 直接针对索引提问"
      ]
    },
    {
      "cell_type": "markdown",
      "id": "173185cd",
      "metadata": {},
      "source": [
        "查询数据的最直接方法是针对索引进行搜索。我们可以使用 `VectorStore` API 如下进行操作："
      ]
    },
    {
      "cell_type": "code",
      "execution_count": 21,
      "id": "a8c513ab",
      "metadata": {},
      "outputs": [],
      "source": [
        "query = \"What did the president say about Ketanji Brown Jackson\"\n",
        "docs = vector_db.similarity_search(query)"
      ]
    },
    {
      "cell_type": "code",
      "execution_count": 22,
      "id": "fc516993",
      "metadata": {},
      "outputs": [
        {
          "data": {
            "text/plain": [
              "'Tonight. I call on the Senate to: Pass the Freedom to Vote Act. Pass the John Lewis Voting Rights Act. And while you’re at it, pass the Disclose Act so Americans can know who is funding our elections. \\n\\nTonight, I’d like to honor someone who has dedicated his life to serve this country: Justice Stephen Breyer—an Army veteran, Constitutional scholar, and retiring Justice of the United States Supreme Court. Justice Breyer, thank you for your service. \\n\\nOne of the most serious constitutional responsibilities a President has is nominating someone to serve on the United States Supreme Court. \\n\\nAnd I did that 4 days ago, when I nominated Circuit Court of Appeals Judge Ketanji Brown Jackson. One of our nation’s top legal minds, who will continue Justice Breyer’s legacy of excellence.'"
            ]
          },
          "execution_count": 22,
          "metadata": {},
          "output_type": "execute_result"
        }
      ],
      "source": [
        "docs[0].page_content"
      ]
    },
    {
      "cell_type": "markdown",
      "id": "f03b7cf6",
      "metadata": {},
      "source": [
        "虽然这其中包含了关于 Ketanji Brown Jackson 的相关信息，但我们没有一个简洁、易于阅读的答案。我们将在下一节中解决这个问题。"
      ]
    },
    {
      "cell_type": "markdown",
      "id": "a8979022",
      "metadata": {},
      "source": [
        "## 使用 LLM 生成流利的答案"
      ]
    },
    {
      "cell_type": "markdown",
      "id": "d5d51797",
      "metadata": {},
      "source": [
        "通过在 MVI 中索引数据，我们可以与任何利用向量相似性搜索的链进行集成。在此，我们使用 `RetrievalQA` 链来演示如何从索引数据中回答问题。"
      ]
    },
    {
      "cell_type": "markdown",
      "id": "9f5a4386",
      "metadata": {},
      "source": [
        "首先，我们加载相关模块："
      ]
    },
    {
      "cell_type": "code",
      "execution_count": 27,
      "id": "7fa71a86",
      "metadata": {},
      "outputs": [],
      "source": [
        "from langchain.chains import RetrievalQA\n",
        "from langchain_openai import ChatOpenAI"
      ]
    },
    {
      "cell_type": "markdown",
      "id": "026cffe3",
      "metadata": {},
      "source": [
        "然后我们实例化检索问答链："
      ]
    },
    {
      "cell_type": "code",
      "execution_count": 31,
      "id": "3c0a7b2b",
      "metadata": {},
      "outputs": [],
      "source": [
        "llm = ChatOpenAI(model=\"gpt-3.5-turbo\", temperature=0)\n",
        "qa_chain = RetrievalQA.from_chain_type(llm, retriever=vector_db.as_retriever())"
      ]
    },
    {
      "cell_type": "code",
      "execution_count": 32,
      "id": "19c1a3c8",
      "metadata": {},
      "outputs": [
        {
          "data": {
            "text/plain": [
              "{'query': 'What did the president say about Ketanji Brown Jackson?',\n",
              " 'result': \"The President said that he nominated Circuit Court of Appeals Judge Ketanji Brown Jackson to serve on the United States Supreme Court. He described her as one of the nation's top legal minds and mentioned that she has received broad support from various groups, including the Fraternal Order of Police and former judges appointed by Democrats and Republicans.\"}"
            ]
          },
          "execution_count": 32,
          "metadata": {},
          "output_type": "execute_result"
        }
      ],
      "source": [
        "qa_chain({\"query\": \"What did the president say about Ketanji Brown Jackson?\"})"
      ]
    },
    {
      "cell_type": "markdown",
      "id": "d120efcf",
      "metadata": {},
      "source": [
        "# 下一步"
      ]
    },
    {
      "cell_type": "markdown",
      "id": "96a0cc66",
      "metadata": {},
      "source": [
        "好了！您现在已经索引了数据，并可以使用 Momento Vector Index 查询它。您可以使用相同的索引从任何支持向量相似性搜索的链中查询您的数据。\n\n使用 Momento，您不仅可以索引向量数据，还可以缓存 API 调用并存储聊天消息历史记录。查看其他的 Momento langchain 集成以了解更多信息。\n\n要了解有关 Momento Vector Index 的更多信息，请访问 [Momento 文档](https://docs.gomomento.com)。"
      ]
    },
    {
      "cell_type": "markdown",
      "id": "7f18e7b7",
      "metadata": {},
      "source": []
    }
  ],
  "metadata": {
    "kernelspec": {
      "display_name": "Python 3 (ipykernel)",
      "language": "python",
      "name": "python3"
    },
    "language_info": {
      "codemirror_mode": {
        "name": "ipython",
        "version": 3
      },
      "file_extension": ".py",
      "mimetype": "text/x-python",
      "name": "python",
      "nbconvert_exporter": "python",
      "pygments_lexer": "ipython3",
      "version": "3.11.2"
    }
  },
  "nbformat": 4,
  "nbformat_minor": 5
}