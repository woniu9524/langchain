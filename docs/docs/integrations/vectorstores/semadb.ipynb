{
  "cells": [
    {
      "cell_type": "markdown",
      "id": "fe1cf4b8-4fee-49d9-aad5-18adabaca692",
      "metadata": {},
      "source": [
        "# SemaDB\n\n> [SemaDB](https://www.semafind.com/products/semadb) 来自 [SemaFind](https://www.semafind.com)，它是一个简洁的向量相似性数据库，用于构建 AI 应用。托管的 `SemaDB Cloud` 提供了无忧的开发者体验，方便入门。\n\n完整的 API 文档、示例和交互式游乐场可在 [RapidAPI](https://rapidapi.com/semafind-semadb/api/semadb) 上找到。\n\n本笔记展示了 `SemaDB Cloud` 向量存储的使用方法。\n\n您需要运行 `pip install -qU langchain-community` 来安装 `langchain-community` 以使用此集成。"
      ]
    },
    {
      "cell_type": "markdown",
      "id": "aa8c1970-52f0-4834-8f06-3ca8f7fac857",
      "metadata": {},
      "source": [
        "## 加载文档嵌入\n\n要在本地运行，我们使用 [Sentence Transformers](https://www.sbert.net/)，这是一种常用的句子嵌入模型。您可以使用 LangChain 提供的任何嵌入模型。"
      ]
    },
    {
      "cell_type": "code",
      "execution_count": null,
      "id": "386a6b49-edee-45f2-9c0e-ebc125507ece",
      "metadata": {},
      "outputs": [],
      "source": [
        "%pip install --upgrade --quiet  sentence_transformers"
      ]
    },
    {
      "cell_type": "code",
      "execution_count": 2,
      "id": "5bd07a44-34fd-4318-8033-4c8dbd327559",
      "metadata": {},
      "outputs": [],
      "source": [
        "from langchain_huggingface import HuggingFaceEmbeddings\n",
        "\n",
        "model_name = \"sentence-transformers/all-mpnet-base-v2\"\n",
        "embeddings = HuggingFaceEmbeddings(model_name=model_name)"
      ]
    },
    {
      "cell_type": "code",
      "execution_count": 3,
      "id": "b0079bdf-b3cd-4856-85d5-f7787f5d93d5",
      "metadata": {},
      "outputs": [
        {
          "name": "stdout",
          "output_type": "stream",
          "text": [
            "114\n"
          ]
        }
      ],
      "source": [
        "from langchain_community.document_loaders import TextLoader\n",
        "from langchain_text_splitters import CharacterTextSplitter\n",
        "\n",
        "loader = TextLoader(\"../../how_to/state_of_the_union.txt\")\n",
        "documents = loader.load()\n",
        "text_splitter = CharacterTextSplitter(chunk_size=400, chunk_overlap=0)\n",
        "docs = text_splitter.split_documents(documents)\n",
        "print(len(docs))"
      ]
    },
    {
      "cell_type": "markdown",
      "id": "92ed5523-330d-4697-9008-c910044ac45a",
      "metadata": {},
      "source": [
        "## 连接到 SemaDB\n\nSemaDB Cloud 使用 [RapidAPI 密钥](https://rapidapi.com/semafind-semadb/api/semadb) 进行身份验证。您可以通过创建免费的 RapidAPI 账户来获取您的密钥。"
      ]
    },
    {
      "cell_type": "code",
      "execution_count": 4,
      "id": "c4ffeeef-e6f5-4bcc-8c97-0e4222ca8282",
      "metadata": {},
      "outputs": [
        {
          "name": "stdout",
          "output_type": "stream",
          "text": [
            "SemaDB API Key: ········\n"
          ]
        }
      ],
      "source": [
        "import getpass\n",
        "import os\n",
        "\n",
        "if \"SEMADB_API_KEY\" not in os.environ:\n",
        "    os.environ[\"SEMADB_API_KEY\"] = getpass.getpass(\"SemaDB API Key:\")"
      ]
    },
    {
      "cell_type": "code",
      "execution_count": 5,
      "id": "ba5f7a81-0f59-448a-93a8-5d8bf3bfc0f9",
      "metadata": {},
      "outputs": [],
      "source": [
        "from langchain_community.vectorstores import SemaDB\n",
        "from langchain_community.vectorstores.utils import DistanceStrategy"
      ]
    },
    {
      "cell_type": "markdown",
      "id": "320f743c-39ae-456c-8c20-0683196358a4",
      "metadata": {},
      "source": [
        "SemaDB 向量存储的参数直接 반영 了 API：\n\n*   \"mycollection\"：我们将在此存储向量的集合名称。\n*   768：向量的维度。在我们的示例中，sentence transformer 嵌入会产生 768 维的向量。\n*   API_KEY：你的 RapidAPI 密钥。\n*   embeddings：对应着文档、文本和查询的嵌入将如何生成。\n*   DistanceStrategy：使用的距离度量。如果使用 COSINE，包装器会自动标准化向量。"
      ]
    },
    {
      "cell_type": "code",
      "execution_count": 6,
      "id": "c1cb1f78-c25e-41a7-8001-6c84d51514ea",
      "metadata": {},
      "outputs": [
        {
          "data": {
            "text/plain": [
              "True"
            ]
          },
          "execution_count": 6,
          "metadata": {},
          "output_type": "execute_result"
        }
      ],
      "source": [
        "db = SemaDB(\"mycollection\", 768, embeddings, DistanceStrategy.COSINE)\n",
        "\n",
        "# Create collection if running for the first time. If the collection\n",
        "# already exists this will fail.\n",
        "db.create_collection()"
      ]
    },
    {
      "cell_type": "markdown",
      "id": "44348469-1d1f-4f3e-9af3-a955aec3dd71",
      "metadata": {},
      "source": [
        "SemaDB 矢量存储包装器会将文档文本作为点元数据添加以便之后收集。*不建议* 存储大块文本。如果您要索引大型集合，我们建议存储文档的引用，例如外部 ID。"
      ]
    },
    {
      "cell_type": "code",
      "execution_count": 7,
      "id": "9adca5d3-e534-4fd2-aace-f436de4630ed",
      "metadata": {},
      "outputs": [
        {
          "data": {
            "text/plain": [
              "['813c7ef3-9797-466b-8afa-587115592c6c',\n",
              " 'fc392f7f-082b-4932-bfcc-06800db5e017']"
            ]
          },
          "execution_count": 7,
          "metadata": {},
          "output_type": "execute_result"
        }
      ],
      "source": [
        "db.add_documents(docs)[:2]"
      ]
    },
    {
      "cell_type": "markdown",
      "id": "fb177b0d-148b-4cbc-86cc-b62dff135a9d",
      "metadata": {},
      "source": [
        "## 相似性搜索\n\n我们使用默认的 LangChain 相似性搜索接口来搜索最相似的句子。"
      ]
    },
    {
      "cell_type": "code",
      "execution_count": 8,
      "id": "7536aba2-a757-4a3f-beda-79cfee5c34cf",
      "metadata": {},
      "outputs": [
        {
          "name": "stdout",
          "output_type": "stream",
          "text": [
            "And I did that 4 days ago, when I nominated Circuit Court of Appeals Judge Ketanji Brown Jackson. One of our nation’s top legal minds, who will continue Justice Breyer’s legacy of excellence.\n"
          ]
        }
      ],
      "source": [
        "query = \"What did the president say about Ketanji Brown Jackson\"\n",
        "docs = db.similarity_search(query)\n",
        "print(docs[0].page_content)"
      ]
    },
    {
      "cell_type": "code",
      "execution_count": 9,
      "id": "a51e940e-487e-484d-9dc4-1aa1a6371660",
      "metadata": {},
      "outputs": [
        {
          "data": {
            "text/plain": [
              "(Document(page_content='And I did that 4 days ago, when I nominated Circuit Court of Appeals Judge Ketanji Brown Jackson. One of our nation’s top legal minds, who will continue Justice Breyer’s legacy of excellence.', metadata={'source': '../../how_to/state_of_the_union.txt', 'text': 'And I did that 4 days ago, when I nominated Circuit Court of Appeals Judge Ketanji Brown Jackson. One of our nation’s top legal minds, who will continue Justice Breyer’s legacy of excellence.'}),\n",
              " 0.42369342)"
            ]
          },
          "execution_count": 9,
          "metadata": {},
          "output_type": "execute_result"
        }
      ],
      "source": [
        "docs = db.similarity_search_with_score(query)\n",
        "docs[0]"
      ]
    },
    {
      "cell_type": "markdown",
      "id": "79aec3f4-d4d8-4c51-b4b2-074b6c22c3c0",
      "metadata": {},
      "source": [
        "## 清理\n\n您可以删除该 collection 来移除所有数据。"
      ]
    },
    {
      "cell_type": "code",
      "execution_count": 10,
      "id": "b00afad5-8ec1-4c19-be6b-1c2ae2d5fead",
      "metadata": {},
      "outputs": [
        {
          "data": {
            "text/plain": [
              "True"
            ]
          },
          "execution_count": 10,
          "metadata": {},
          "output_type": "execute_result"
        }
      ],
      "source": [
        "db.delete_collection()"
      ]
    },
    {
      "cell_type": "code",
      "execution_count": null,
      "id": "239a0bca-5c88-401f-9828-1cb0b652e7d0",
      "metadata": {},
      "outputs": [],
      "source": []
    }
  ],
  "metadata": {
    "kernelspec": {
      "display_name": "Python 3 (ipykernel)",
      "language": "python",
      "name": "python3"
    },
    "language_info": {
      "codemirror_mode": {
        "name": "ipython",
        "version": 3
      },
      "file_extension": ".py",
      "mimetype": "text/x-python",
      "name": "python",
      "nbconvert_exporter": "python",
      "pygments_lexer": "ipython3",
      "version": "3.10.12"
    }
  },
  "nbformat": 4,
  "nbformat_minor": 5
}