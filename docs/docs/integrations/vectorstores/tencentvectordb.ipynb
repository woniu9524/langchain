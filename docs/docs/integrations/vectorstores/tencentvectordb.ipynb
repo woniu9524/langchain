{
  "cells": [
    {
      "cell_type": "markdown",
      "metadata": {
        "collapsed": true
      },
      "source": [
        "# 腾讯云向量数据库\n\n>[腾讯云向量数据库](https://cloud.tencent.com/document/product/1709) 是一款全托管、自研的分布式数据库服务，专为存储、检索和分析多维向量数据而设计，面向企业级应用。该数据库支持多种索引类型和相似度计算方法。单个索引可支持高达 10 亿的向量规模，并能支撑千万级 QPS 和毫秒级查询延迟。腾讯云向量数据库不仅可以为大模型提供外部知识库，提升大模型回答的准确性，还可以广泛应用于推荐系统、NLP 服务、计算机视觉以及智能客服等 AI 领域。\n\n本 Notebook 展示了如何使用与腾讯云向量数据库相关的各项功能。\n\n要运行，您应该有一个 [数据库实例。](https://cloud.tencent.com/document/product/1709/95101)。\n\n## 基本用法"
      ]
    },
    {
      "cell_type": "code",
      "execution_count": null,
      "metadata": {},
      "outputs": [],
      "source": [
        "!pip3 install tcvectordb langchain-community"
      ]
    },
    {
      "cell_type": "code",
      "execution_count": 4,
      "metadata": {
        "ExecuteTime": {
          "end_time": "2024-03-27T10:15:08.594144Z",
          "start_time": "2024-03-27T10:15:08.588985Z"
        }
      },
      "outputs": [],
      "source": [
        "from langchain_community.document_loaders import TextLoader\n",
        "from langchain_community.embeddings.fake import FakeEmbeddings\n",
        "from langchain_community.vectorstores import TencentVectorDB\n",
        "from langchain_community.vectorstores.tencentvectordb import ConnectionParams\n",
        "from langchain_text_splitters import CharacterTextSplitter"
      ]
    },
    {
      "cell_type": "markdown",
      "metadata": {
        "collapsed": false
      },
      "source": [
        "加载文档，将它们分割成块。"
      ]
    },
    {
      "cell_type": "code",
      "execution_count": 5,
      "metadata": {
        "ExecuteTime": {
          "end_time": "2024-03-27T10:15:11.824060Z",
          "start_time": "2024-03-27T10:15:11.819351Z"
        }
      },
      "outputs": [],
      "source": [
        "loader = TextLoader(\"../../how_to/state_of_the_union.txt\")\n",
        "documents = loader.load()\n",
        "text_splitter = CharacterTextSplitter(chunk_size=1000, chunk_overlap=0)\n",
        "docs = text_splitter.split_documents(documents)"
      ]
    },
    {
      "cell_type": "markdown",
      "metadata": {
        "collapsed": false
      },
      "source": [
        "我们支持两种嵌入文档的方式：\n- 使用任何与 Langchain Embeddings 兼容的 Embeddings 模型。\n- 指定腾讯 VectorStore DB 的 Embedding 模型名称，可选的有：\n    - `bge-base-zh`，维度：768\n    - `m3e-base`，维度：768\n    - `text2vec-large-chinese`，维度：1024\n    - `e5-large-v2`，维度：1024\n    - `multilingual-e5-base`，维度：768\n\n以下代码展示了两种嵌入文档的方式，你可以通过注释掉其中一种来选用另一种："
      ]
    },
    {
      "cell_type": "code",
      "execution_count": 6,
      "metadata": {
        "ExecuteTime": {
          "end_time": "2024-03-27T10:15:14.949218Z",
          "start_time": "2024-03-27T10:15:14.946314Z"
        },
        "collapsed": false
      },
      "outputs": [],
      "source": [
        "##  you can use a Langchain Embeddings model, like OpenAIEmbeddings:\n",
        "\n",
        "# from langchain_community.embeddings.openai import OpenAIEmbeddings\n",
        "#\n",
        "# embeddings = OpenAIEmbeddings()\n",
        "# t_vdb_embedding = None\n",
        "\n",
        "## Or you can use a Tencent Embedding model, like `bge-base-zh`:\n",
        "\n",
        "t_vdb_embedding = \"bge-base-zh\"  # bge-base-zh is the default model\n",
        "embeddings = None"
      ]
    },
    {
      "cell_type": "markdown",
      "metadata": {
        "collapsed": false
      },
      "source": [
        "现在我们可以创建一个 TencentVectorDB 实例，你必须至少提供 `embeddings` 或 `t_vdb_embedding` 参数中的一个。如果两者都提供了，则会使用 `embeddings` 参数："
      ]
    },
    {
      "cell_type": "code",
      "execution_count": 7,
      "metadata": {
        "ExecuteTime": {
          "end_time": "2024-03-27T10:15:22.954428Z",
          "start_time": "2024-03-27T10:15:19.069173Z"
        }
      },
      "outputs": [],
      "source": [
        "conn_params = ConnectionParams(\n",
        "    url=\"http://10.0.X.X\",\n",
        "    key=\"eC4bLRy2va******************************\",\n",
        "    username=\"root\",\n",
        "    timeout=20,\n",
        ")\n",
        "\n",
        "vector_db = TencentVectorDB.from_documents(\n",
        "    docs, embeddings, connection_params=conn_params, t_vdb_embedding=t_vdb_embedding\n",
        ")"
      ]
    },
    {
      "cell_type": "code",
      "execution_count": 8,
      "metadata": {
        "ExecuteTime": {
          "end_time": "2024-03-27T10:15:27.030880Z",
          "start_time": "2024-03-27T10:15:26.996104Z"
        }
      },
      "outputs": [
        {
          "data": {
            "text/plain": [
              "'Tonight. I call on the Senate to: Pass the Freedom to Vote Act. Pass the John Lewis Voting Rights Act. And while you’re at it, pass the Disclose Act so Americans can know who is funding our elections. \\n\\nTonight, I’d like to honor someone who has dedicated his life to serve this country: Justice Stephen Breyer—an Army veteran, Constitutional scholar, and retiring Justice of the United States Supreme Court. Justice Breyer, thank you for your service. \\n\\nOne of the most serious constitutional responsibilities a President has is nominating someone to serve on the United States Supreme Court. \\n\\nAnd I did that 4 days ago, when I nominated Circuit Court of Appeals Judge Ketanji Brown Jackson. One of our nation’s top legal minds, who will continue Justice Breyer’s legacy of excellence.'"
            ]
          },
          "execution_count": 8,
          "metadata": {},
          "output_type": "execute_result"
        }
      ],
      "source": [
        "query = \"What did the president say about Ketanji Brown Jackson\"\n",
        "docs = vector_db.similarity_search(query)\n",
        "docs[0].page_content"
      ]
    },
    {
      "cell_type": "code",
      "execution_count": 9,
      "metadata": {
        "ExecuteTime": {
          "end_time": "2024-03-27T10:15:47.229114Z",
          "start_time": "2024-03-27T10:15:47.084162Z"
        }
      },
      "outputs": [
        {
          "data": {
            "text/plain": [
              "'Ankush went to Princeton'"
            ]
          },
          "execution_count": 9,
          "metadata": {},
          "output_type": "execute_result"
        }
      ],
      "source": [
        "vector_db = TencentVectorDB(embeddings, conn_params)\n",
        "\n",
        "vector_db.add_texts([\"Ankush went to Princeton\"])\n",
        "query = \"Where did Ankush go to college?\"\n",
        "docs = vector_db.max_marginal_relevance_search(query)\n",
        "docs[0].page_content"
      ]
    },
    {
      "cell_type": "markdown",
      "metadata": {
        "collapsed": false
      },
      "source": [
        "## 元数据与过滤\n\nTencent VectorDB 支持元数据和 [过滤](https://cloud.tencent.com/document/product/1709/95099#c6f6d3a3-02c5-4891-b0a1-30fe4daf18d8)。您可以为文档添加元数据，并根据元数据过滤搜索结果。\n\n接下来，我们将创建一个新的 TencentVectorDB 集合并添加元数据，然后演示如何根据元数据过滤搜索结果："
      ]
    },
    {
      "cell_type": "code",
      "execution_count": 2,
      "metadata": {
        "ExecuteTime": {
          "end_time": "2024-03-28T04:13:18.103028Z",
          "start_time": "2024-03-28T04:13:14.670032Z"
        },
        "collapsed": false
      },
      "outputs": [
        {
          "data": {
            "text/plain": [
              "[Document(page_content='The Dark Knight is a 2008 superhero film directed by Christopher Nolan.', metadata={'year': 2008, 'rating': '9.0', 'genre': 'superhero', 'director': 'Christopher Nolan'}),\n",
              " Document(page_content='The Dark Knight is a 2008 superhero film directed by Christopher Nolan.', metadata={'year': 2008, 'rating': '9.0', 'genre': 'superhero', 'director': 'Christopher Nolan'}),\n",
              " Document(page_content='The Dark Knight is a 2008 superhero film directed by Christopher Nolan.', metadata={'year': 2008, 'rating': '9.0', 'genre': 'superhero', 'director': 'Christopher Nolan'}),\n",
              " Document(page_content='Inception is a 2010 science fiction action film written and directed by Christopher Nolan.', metadata={'year': 2010, 'rating': '8.8', 'genre': 'science fiction', 'director': 'Christopher Nolan'})]"
            ]
          },
          "execution_count": 2,
          "metadata": {},
          "output_type": "execute_result"
        }
      ],
      "source": [
        "from langchain_community.vectorstores.tencentvectordb import (\n",
        "    META_FIELD_TYPE_STRING,\n",
        "    META_FIELD_TYPE_UINT64,\n",
        "    ConnectionParams,\n",
        "    MetaField,\n",
        "    TencentVectorDB,\n",
        ")\n",
        "from langchain_core.documents import Document\n",
        "\n",
        "meta_fields = [\n",
        "    MetaField(name=\"year\", data_type=META_FIELD_TYPE_UINT64, index=True),\n",
        "    MetaField(name=\"rating\", data_type=META_FIELD_TYPE_STRING, index=False),\n",
        "    MetaField(name=\"genre\", data_type=META_FIELD_TYPE_STRING, index=True),\n",
        "    MetaField(name=\"director\", data_type=META_FIELD_TYPE_STRING, index=True),\n",
        "]\n",
        "\n",
        "docs = [\n",
        "    Document(\n",
        "        page_content=\"The Shawshank Redemption is a 1994 American drama film written and directed by Frank Darabont.\",\n",
        "        metadata={\n",
        "            \"year\": 1994,\n",
        "            \"rating\": \"9.3\",\n",
        "            \"genre\": \"drama\",\n",
        "            \"director\": \"Frank Darabont\",\n",
        "        },\n",
        "    ),\n",
        "    Document(\n",
        "        page_content=\"The Godfather is a 1972 American crime film directed by Francis Ford Coppola.\",\n",
        "        metadata={\n",
        "            \"year\": 1972,\n",
        "            \"rating\": \"9.2\",\n",
        "            \"genre\": \"crime\",\n",
        "            \"director\": \"Francis Ford Coppola\",\n",
        "        },\n",
        "    ),\n",
        "    Document(\n",
        "        page_content=\"The Dark Knight is a 2008 superhero film directed by Christopher Nolan.\",\n",
        "        metadata={\n",
        "            \"year\": 2008,\n",
        "            \"rating\": \"9.0\",\n",
        "            \"genre\": \"superhero\",\n",
        "            \"director\": \"Christopher Nolan\",\n",
        "        },\n",
        "    ),\n",
        "    Document(\n",
        "        page_content=\"Inception is a 2010 science fiction action film written and directed by Christopher Nolan.\",\n",
        "        metadata={\n",
        "            \"year\": 2010,\n",
        "            \"rating\": \"8.8\",\n",
        "            \"genre\": \"science fiction\",\n",
        "            \"director\": \"Christopher Nolan\",\n",
        "        },\n",
        "    ),\n",
        "]\n",
        "\n",
        "vector_db = TencentVectorDB.from_documents(\n",
        "    docs,\n",
        "    None,\n",
        "    connection_params=ConnectionParams(\n",
        "        url=\"http://10.0.X.X\",\n",
        "        key=\"eC4bLRy2va******************************\",\n",
        "        username=\"root\",\n",
        "        timeout=20,\n",
        "    ),\n",
        "    collection_name=\"movies\",\n",
        "    meta_fields=meta_fields,\n",
        ")\n",
        "\n",
        "query = \"film about dream by Christopher Nolan\"\n",
        "\n",
        "# you can use the tencentvectordb filtering syntax with the `expr` parameter:\n",
        "result = vector_db.similarity_search(query, expr='director=\"Christopher Nolan\"')\n",
        "\n",
        "# you can either use the langchain filtering syntax with the `filter` parameter:\n",
        "# result = vector_db.similarity_search(query, filter='eq(\"director\", \"Christopher Nolan\")')\n",
        "\n",
        "result"
      ]
    }
  ],
  "metadata": {
    "kernelspec": {
      "display_name": "Python 3 (ipykernel)",
      "language": "python",
      "name": "python3"
    },
    "language_info": {
      "codemirror_mode": {
        "name": "ipython",
        "version": 3
      },
      "file_extension": ".py",
      "mimetype": "text/x-python",
      "name": "python",
      "nbconvert_exporter": "python",
      "pygments_lexer": "ipython3",
      "version": "3.9.1"
    }
  },
  "nbformat": 4,
  "nbformat_minor": 4
}