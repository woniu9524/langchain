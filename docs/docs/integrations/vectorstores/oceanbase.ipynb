{
  "cells": [
    {
      "cell_type": "raw",
      "id": "1957f5cb",
      "metadata": {},
      "source": [
        "---\n",
        "sidebar_label: Oceanbase\n",
        "---"
      ]
    },
    {
      "cell_type": "markdown",
      "id": "ef1f0986",
      "metadata": {},
      "source": [
        "# OceanbaseVectorStore\n\n本指南介绍如何开始使用 Oceanbase vector store。"
      ]
    },
    {
      "cell_type": "markdown",
      "id": "36fdc060",
      "metadata": {},
      "source": [
        "## 设置\n\n要访问 OceanBase 向量存储，您需要部署一个独立的 OceanBase 服务器："
      ]
    },
    {
      "cell_type": "raw",
      "id": "a7b92118",
      "metadata": {},
      "source": [
        "%docker run --name=ob433 -e MODE=mini -e OB_SERVER_IP=127.0.0.1 -p 2881:2881 -d quay.io/oceanbase/oceanbase-ce:4.3.3.1-101000012024102216"
      ]
    },
    {
      "cell_type": "markdown",
      "id": "5b687bdc",
      "metadata": {},
      "source": [
        "并安装 `langchain-oceanbase` 集成包。"
      ]
    },
    {
      "cell_type": "raw",
      "id": "64e28aa6",
      "metadata": {
        "vscode": {
          "languageId": "raw"
        }
      },
      "source": [
        "%pip install -qU \"langchain-oceanbase\""
      ]
    },
    {
      "cell_type": "markdown",
      "id": "ea850342",
      "metadata": {},
      "source": [
        "检查与 OceanBase 的连接并为向量数据设置内存使用率："
      ]
    },
    {
      "cell_type": "code",
      "execution_count": 14,
      "id": "066bbc79",
      "metadata": {},
      "outputs": [
        {
          "data": {
            "text/plain": [
              "<sqlalchemy.engine.cursor.CursorResult at 0x12696f2a0>"
            ]
          },
          "execution_count": 14,
          "metadata": {},
          "output_type": "execute_result"
        }
      ],
      "source": [
        "from pyobvector import ObVecClient\n",
        "\n",
        "tmp_client = ObVecClient()\n",
        "tmp_client.perform_raw_text_sql(\"ALTER SYSTEM ob_vector_memory_limit_percentage = 30\")"
      ]
    },
    {
      "cell_type": "markdown",
      "id": "93df377e",
      "metadata": {},
      "source": [
        "## 初始化\n\n配置嵌入模型的 API 密钥。这里我们以 `DashScopeEmbeddings` 为例。当按照上述描述使用 Docker 镜像部署 `Oceanbase` 时，只需按照下面的脚本设置 `host`、`port`、`user`、`password` 和 `database name`。对于其他部署方式，请根据实际情况设置这些参数。"
      ]
    },
    {
      "cell_type": "raw",
      "id": "ff29e3b7",
      "metadata": {},
      "source": [
        "%pip install dashscope"
      ]
    },
    {
      "cell_type": "code",
      "execution_count": 15,
      "id": "dc37144c-208d-4ab3-9f3a-0407a69fe052",
      "metadata": {
        "tags": []
      },
      "outputs": [],
      "source": [
        "import os\n",
        "\n",
        "from langchain_community.embeddings import DashScopeEmbeddings\n",
        "from langchain_oceanbase.vectorstores import OceanbaseVectorStore\n",
        "\n",
        "DASHSCOPE_API = os.environ.get(\"DASHSCOPE_API_KEY\", \"\")\n",
        "connection_args = {\n",
        "    \"host\": \"127.0.0.1\",\n",
        "    \"port\": \"2881\",\n",
        "    \"user\": \"root@test\",\n",
        "    \"password\": \"\",\n",
        "    \"db_name\": \"test\",\n",
        "}\n",
        "\n",
        "embeddings = DashScopeEmbeddings(\n",
        "    model=\"text-embedding-v1\", dashscope_api_key=DASHSCOPE_API\n",
        ")\n",
        "\n",
        "vector_store = OceanbaseVectorStore(\n",
        "    embedding_function=embeddings,\n",
        "    table_name=\"langchain_vector\",\n",
        "    connection_args=connection_args,\n",
        "    vidx_metric_type=\"l2\",\n",
        "    drop_old=True,\n",
        ")"
      ]
    },
    {
      "cell_type": "markdown",
      "id": "ac6071d4",
      "metadata": {},
      "source": [
        "## 管理向量存储\n\n### 将条目添加到向量存储\n\n- TODO: 编辑然后运行代码单元以生成输出"
      ]
    },
    {
      "cell_type": "code",
      "execution_count": 16,
      "id": "17f5efc0",
      "metadata": {},
      "outputs": [
        {
          "data": {
            "text/plain": [
              "['1', '2', '3']"
            ]
          },
          "execution_count": 16,
          "metadata": {},
          "output_type": "execute_result"
        }
      ],
      "source": [
        "from langchain_core.documents import Document\n",
        "\n",
        "document_1 = Document(page_content=\"foo\", metadata={\"source\": \"https://foo.com\"})\n",
        "document_2 = Document(page_content=\"bar\", metadata={\"source\": \"https://bar.com\"})\n",
        "document_3 = Document(page_content=\"baz\", metadata={\"source\": \"https://baz.com\"})\n",
        "\n",
        "documents = [document_1, document_2, document_3]\n",
        "\n",
        "vector_store.add_documents(documents=documents, ids=[\"1\", \"2\", \"3\"])"
      ]
    },
    {
      "cell_type": "markdown",
      "id": "c738c3e0",
      "metadata": {},
      "source": [
        "### 更新向量存储中的条目"
      ]
    },
    {
      "cell_type": "code",
      "execution_count": 17,
      "id": "f0aa8b71",
      "metadata": {},
      "outputs": [
        {
          "data": {
            "text/plain": [
              "['1']"
            ]
          },
          "execution_count": 17,
          "metadata": {},
          "output_type": "execute_result"
        }
      ],
      "source": [
        "updated_document = Document(\n",
        "    page_content=\"qux\", metadata={\"source\": \"https://another-example.com\"}\n",
        ")\n",
        "\n",
        "vector_store.add_documents(documents=[updated_document], ids=[\"1\"])"
      ]
    },
    {
      "cell_type": "markdown",
      "id": "dcf1b905",
      "metadata": {},
      "source": [
        "### 从向量存储中删除项目"
      ]
    },
    {
      "cell_type": "code",
      "execution_count": 18,
      "id": "ef61e188",
      "metadata": {},
      "outputs": [],
      "source": [
        "vector_store.delete(ids=[\"3\"])"
      ]
    },
    {
      "cell_type": "markdown",
      "id": "c3620501",
      "metadata": {},
      "source": [
        "## 查询向量存储\n\n一旦你的向量存储创建完成并且已经添加了相关文档，在链（chain）或代理（agent）运行期间，你很可能希望对其进行查询。\n\n### 直接查询\n\n进行简单的相似性搜索可以这样做："
      ]
    },
    {
      "cell_type": "code",
      "execution_count": 19,
      "id": "aa0a16fa",
      "metadata": {},
      "outputs": [
        {
          "name": "stdout",
          "output_type": "stream",
          "text": [
            "* bar [{'source': 'https://bar.com'}]\n"
          ]
        }
      ],
      "source": [
        "results = vector_store.similarity_search(\n",
        "    query=\"thud\", k=1, filter={\"source\": \"https://another-example.com\"}\n",
        ")\n",
        "for doc in results:\n",
        "    print(f\"* {doc.page_content} [{doc.metadata}]\")"
      ]
    },
    {
      "cell_type": "markdown",
      "id": "3ed9d733",
      "metadata": {},
      "source": [
        "如果你想执行相似性搜索并获得相应的得分，可以运行："
      ]
    },
    {
      "cell_type": "code",
      "execution_count": 20,
      "id": "5efd2eaa",
      "metadata": {},
      "outputs": [
        {
          "name": "stdout",
          "output_type": "stream",
          "text": [
            "* [SIM=133.452299] bar [{'source': 'https://bar.com'}]\n"
          ]
        }
      ],
      "source": [
        "results = vector_store.similarity_search_with_score(\n",
        "    query=\"thud\", k=1, filter={\"source\": \"https://example.com\"}\n",
        ")\n",
        "for doc, score in results:\n",
        "    print(f\"* [SIM={score:3f}] {doc.page_content} [{doc.metadata}]\")"
      ]
    },
    {
      "cell_type": "markdown",
      "id": "0c235cdc",
      "metadata": {},
      "source": [
        "### 查询转换为检索器\n\n你也可以将向量存储转换为检索器，以便在你的链中更方便地使用。"
      ]
    },
    {
      "cell_type": "code",
      "execution_count": 21,
      "id": "f3460093",
      "metadata": {},
      "outputs": [
        {
          "data": {
            "text/plain": [
              "[Document(metadata={'source': 'https://bar.com'}, page_content='bar')]"
            ]
          },
          "execution_count": 21,
          "metadata": {},
          "output_type": "execute_result"
        }
      ],
      "source": [
        "retriever = vector_store.as_retriever(search_kwargs={\"k\": 1})\n",
        "retriever.invoke(\"thud\")"
      ]
    },
    {
      "cell_type": "markdown",
      "id": "901c75dc",
      "metadata": {},
      "source": [
        "## 用于检索增强生成的使用方法\n\n有关如何将此向量存储用于检索增强生成 (RAG) 的指南，请参阅以下章节：\n\n- [教程](/docs/tutorials/)\n- [操作指南：使用 RAG 进行问答](https://python.langchain.com/docs/how_to/#qa-with-rag)\n- [检索概念文档](https://python.langchain.com/docs/concepts/#retrieval)"
      ]
    },
    {
      "cell_type": "markdown",
      "id": "8a27244f",
      "metadata": {},
      "source": [
        "## API 参考\n\n有关 OceanbaseVectorStore 的所有功能和配置的详细文档，请访问 API 参考：https://python.langchain.com/docs/integrations/vectorstores/oceanbase"
      ]
    }
  ],
  "metadata": {
    "kernelspec": {
      "display_name": "Python 3 (ipykernel)",
      "language": "python",
      "name": "python3"
    },
    "language_info": {
      "codemirror_mode": {
        "name": "ipython",
        "version": 3
      },
      "file_extension": ".py",
      "mimetype": "text/x-python",
      "name": "python",
      "nbconvert_exporter": "python",
      "pygments_lexer": "ipython3",
      "version": "3.11.10"
    }
  },
  "nbformat": 4,
  "nbformat_minor": 5
}