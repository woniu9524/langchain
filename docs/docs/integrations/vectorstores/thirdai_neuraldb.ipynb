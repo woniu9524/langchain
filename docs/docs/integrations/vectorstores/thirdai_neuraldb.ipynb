{
  "cells": [
    {
      "cell_type": "markdown",
      "metadata": {},
      "source": [
        "# ThirdAI NeuralDB\n\n>[NeuralDB](https://www.thirdai.com/neuraldb-enterprise/) 是由 [ThirdAI](https://www.thirdai.com/) 开发的、对 CPU 友好且可微调的向量存储库。\n\n## 初始化\n\n有两种初始化方法：\n- 从零开始：基础模型\n- 从检查点加载：加载先前保存的模型\n\n对于以下所有初始化方法，如果设置了 `THIRDAI_KEY` 环境变量，则可以省略 `thirdai_key` 参数。\n\nThirdAI API 密钥可在 https://www.thirdai.com/try-bolt/ 获取。\n\n您需要通过 `pip install -qU langchain-community` 安装 `langchain-community` 才能使用此集成。"
      ]
    },
    {
      "cell_type": "code",
      "execution_count": null,
      "metadata": {},
      "outputs": [],
      "source": [
        "from langchain_community.vectorstores import NeuralDBVectorStore\n",
        "\n",
        "# From scratch\n",
        "vectorstore = NeuralDBVectorStore.from_scratch(thirdai_key=\"your-thirdai-key\")\n",
        "\n",
        "# From checkpoint\n",
        "vectorstore = NeuralDBVectorStore.from_checkpoint(\n",
        "    # Path to a NeuralDB checkpoint. For example, if you call\n",
        "    # vectorstore.save(\"/path/to/checkpoint.ndb\") in one script, then you can\n",
        "    # call NeuralDBVectorStore.from_checkpoint(\"/path/to/checkpoint.ndb\") in\n",
        "    # another script to load the saved model.\n",
        "    checkpoint=\"/path/to/checkpoint.ndb\",\n",
        "    thirdai_key=\"your-thirdai-key\",\n",
        ")"
      ]
    },
    {
      "cell_type": "markdown",
      "metadata": {},
      "source": [
        "## 插入文档源"
      ]
    },
    {
      "cell_type": "code",
      "execution_count": null,
      "metadata": {},
      "outputs": [],
      "source": [
        "vectorstore.insert(\n",
        "    # If you have PDF, DOCX, or CSV files, you can directly pass the paths to the documents\n",
        "    sources=[\"/path/to/doc.pdf\", \"/path/to/doc.docx\", \"/path/to/doc.csv\"],\n",
        "    # When True this means that the underlying model in the NeuralDB will\n",
        "    # undergo unsupervised pretraining on the inserted files. Defaults to True.\n",
        "    train=True,\n",
        "    # Much faster insertion with a slight drop in performance. Defaults to True.\n",
        "    fast_mode=True,\n",
        ")\n",
        "\n",
        "from thirdai import neural_db as ndb\n",
        "\n",
        "vectorstore.insert(\n",
        "    # If you have files in other formats, or prefer to configure how\n",
        "    # your files are parsed, then you can pass in NeuralDB document objects\n",
        "    # like this.\n",
        "    sources=[\n",
        "        ndb.PDF(\n",
        "            \"/path/to/doc.pdf\",\n",
        "            version=\"v2\",\n",
        "            chunk_size=100,\n",
        "            metadata={\"published\": 2022},\n",
        "        ),\n",
        "        ndb.Unstructured(\"/path/to/deck.pptx\"),\n",
        "    ]\n",
        ")"
      ]
    },
    {
      "cell_type": "markdown",
      "metadata": {},
      "source": [
        "## 相似性搜索\n\n要查询向量存储，您可以使用标准的 LangChain 向量存储方法 `similarity_search`，它会返回一个 LangChain Document 对象列表。每个 Document 对象代表索引文件中的一段文本。例如，它可能包含来自已索引 PDF 文件之一的段落。除了文本之外，该文档的 metadata 字段还包含有关文档 ID、文档来源（来自哪个文件）以及文档得分等信息。"
      ]
    },
    {
      "cell_type": "code",
      "execution_count": null,
      "metadata": {},
      "outputs": [],
      "source": [
        "# This returns a list of LangChain Document objects\n",
        "documents = vectorstore.similarity_search(\"query\", k=10)"
      ]
    },
    {
      "cell_type": "markdown",
      "metadata": {},
      "source": [
        "## 微调\n\nNeuralDBVectorStore 可根据用户行为和领域特定知识进行微调。其微调方式有两种：\n1. 关联：vectorstore 将一个源短语与一个目标短语关联起来。当 vectorstore 遇到源短语时，它也会考虑与目标短语相关的结果。\n2. 提升权重：vectorstore 提升特定查询文档的分数。当您希望根据用户行为微调 vectorstore 时，此功能非常有用。例如，如果用户搜索“汽车是如何制造的”并且喜欢返回的 ID 为 52 的文档，那么我们可以提升 ID 为 52 的文档在“汽车是如何制造的”这个查询中的权重。"
      ]
    },
    {
      "cell_type": "code",
      "execution_count": null,
      "metadata": {},
      "outputs": [],
      "source": [
        "vectorstore.associate(source=\"source phrase\", target=\"target phrase\")\n",
        "vectorstore.associate_batch(\n",
        "    [\n",
        "        (\"source phrase 1\", \"target phrase 1\"),\n",
        "        (\"source phrase 2\", \"target phrase 2\"),\n",
        "    ]\n",
        ")\n",
        "\n",
        "vectorstore.upvote(query=\"how is a car manufactured\", document_id=52)\n",
        "vectorstore.upvote_batch(\n",
        "    [\n",
        "        (\"query 1\", 52),\n",
        "        (\"query 2\", 20),\n",
        "    ]\n",
        ")"
      ]
    }
  ],
  "metadata": {
    "kernelspec": {
      "display_name": "Python 3 (ipykernel)",
      "language": "python",
      "name": "python3"
    },
    "language_info": {
      "codemirror_mode": {
        "name": "ipython",
        "version": 3
      },
      "file_extension": ".py",
      "mimetype": "text/x-python",
      "name": "python",
      "nbconvert_exporter": "python",
      "pygments_lexer": "ipython3",
      "version": "3.10.12"
    }
  },
  "nbformat": 4,
  "nbformat_minor": 4
}