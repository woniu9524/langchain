{
  "cells": [
    {
      "attachments": {},
      "cell_type": "markdown",
      "metadata": {},
      "source": [
        "# Google Memorystore for Redis\n\n> [Google Memorystore for Redis](https://cloud.google.com/memorystore/docs/redis/memorystore-for-redis-overview) 是一项全托管服务，由 Redis 内存数据存储提供支持，可用于构建提供亚毫秒级数据访问的应用缓存。利用 Memorystore for Redis 的 Langchain 集成，可以扩展您的数据库应用以构建由 AI 驱动的体验。\n\n本笔记本将介绍如何使用 `MemorystoreVectorStore` 类将向量嵌入存储到 [Memorystore for Redis](https://cloud.google.com/memorystore/docs/redis/memorystore-for-redis-overview) 中。\n\n在 [GitHub](https://github.com/googleapis/langchain-google-memorystore-redis-python/) 上了解有关该软件包的更多信息。\n\n[![在 Colab 中打开](https://colab.research.google.com/assets/colab-badge.svg)](https://colab.research.google.com/github/googleapis/langchain-google-memorystore-redis-python/blob/main/docs/vector_store.ipynb)"
      ]
    },
    {
      "cell_type": "markdown",
      "metadata": {},
      "source": [
        "## 先决条件"
      ]
    },
    {
      "attachments": {},
      "cell_type": "markdown",
      "metadata": {},
      "source": [
        "## 开始之前\n\n要运行此笔记本，您需要执行以下操作：\n\n*   [创建 Google Cloud 项目](https://developers.google.com/workspace/guides/create-project)\n*   [启用 Memorystore for Redis API](https://console.cloud.google.com/flows/enableapi?apiid=redis.googleapis.com)\n*   [创建 Memorystore for Redis 实例](https://cloud.google.com/memorystore/docs/redis/create-instance-console)。请确保版本大于或等于 7.2。"
      ]
    },
    {
      "attachments": {},
      "cell_type": "markdown",
      "metadata": {},
      "source": [
        "### 🦜🔗 库安装\n\n该集成存在于自己的 `langchain-google-memorystore-redis` 包中，因此我们需要安装它。"
      ]
    },
    {
      "cell_type": "code",
      "execution_count": null,
      "metadata": {
        "tags": []
      },
      "outputs": [],
      "source": [
        "%pip install -upgrade --quiet langchain-google-memorystore-redis langchain"
      ]
    },
    {
      "cell_type": "markdown",
      "metadata": {},
      "source": [
        "**仅限 Colab：** 取消注释下面的单元格以重启内核，或使用按钮重启内核。对于 Vertex AI Workbench，您可以使用顶部的按钮重启终端。"
      ]
    },
    {
      "cell_type": "code",
      "execution_count": null,
      "metadata": {},
      "outputs": [],
      "source": [
        "# # Automatically restart kernel after installs so that your environment can access the new packages\n",
        "# import IPython\n",
        "\n",
        "# app = IPython.Application.instance()\n",
        "# app.kernel.do_shutdown(True)"
      ]
    },
    {
      "cell_type": "markdown",
      "metadata": {},
      "source": [
        "### ☁ 设置您的 Google Cloud 项目\n设置您的 Google Cloud 项目，以便在此 notebook 中利用 Google Cloud 资源。\n\n如果您不知道项目 ID，请尝试以下方法：\n\n* 运行 `gcloud config list`。\n* 运行 `gcloud projects list`。\n* 请参阅支持页面：[查找项目 ID](https://support.google.com/googleapi/answer/7014113)。"
      ]
    },
    {
      "cell_type": "code",
      "execution_count": null,
      "metadata": {},
      "outputs": [],
      "source": [
        "# @markdown Please fill in the value below with your Google Cloud project ID and then run the cell.\n",
        "\n",
        "PROJECT_ID = \"my-project-id\"  # @param {type:\"string\"}\n",
        "\n",
        "# Set the project id\n",
        "!gcloud config set project {PROJECT_ID}"
      ]
    },
    {
      "cell_type": "markdown",
      "metadata": {},
      "source": [
        "### 🔐 认证\n使用此笔记本中登录的 IAM 用户对 Google Cloud 进行身份验证，以便访问您的 Google Cloud 项目。\n\n* 如果你正在使用 Colab 运行此笔记本，请使用下面的单元格并继续。\n* 如果你正在使用 Vertex AI Workbench，请查看此处的设置说明：[https://github.com/GoogleCloudPlatform/generative-ai/tree/main/setup-env](https://github.com/GoogleCloudPlatform/generative-ai/tree/main/setup-env)。"
      ]
    },
    {
      "cell_type": "code",
      "execution_count": null,
      "metadata": {},
      "outputs": [],
      "source": [
        "from google.colab import auth\n",
        "\n",
        "auth.authenticate_user()"
      ]
    },
    {
      "cell_type": "markdown",
      "metadata": {},
      "source": [
        "## 基本用法"
      ]
    },
    {
      "attachments": {},
      "cell_type": "markdown",
      "metadata": {},
      "source": [
        "### 初始化向量索引"
      ]
    },
    {
      "cell_type": "code",
      "execution_count": 13,
      "metadata": {},
      "outputs": [],
      "source": [
        "import redis\n",
        "from langchain_google_memorystore_redis import (\n",
        "    DistanceStrategy,\n",
        "    HNSWConfig,\n",
        "    RedisVectorStore,\n",
        ")\n",
        "\n",
        "# Connect to a Memorystore for Redis instance\n",
        "redis_client = redis.from_url(\"redis://127.0.0.1:6379\")\n",
        "\n",
        "# Configure HNSW index with descriptive parameters\n",
        "index_config = HNSWConfig(\n",
        "    name=\"my_vector_index\", distance_strategy=DistanceStrategy.COSINE, vector_size=128\n",
        ")\n",
        "\n",
        "# Initialize/create the vector store index\n",
        "RedisVectorStore.init_index(client=redis_client, index_config=index_config)"
      ]
    },
    {
      "attachments": {},
      "cell_type": "markdown",
      "metadata": {},
      "source": [
        "### 准备文档\n\n文本在与向量存储交互之前需要进行处理和数值表示。这包括：\n\n* 加载文本：TextLoader 从文件（例如“state_of_the_union.txt”）获取文本数据。\n* 文本拆分：CharacterTextSplitter 将文本分解成更小的块，以适应嵌入模型。"
      ]
    },
    {
      "cell_type": "code",
      "execution_count": 14,
      "metadata": {},
      "outputs": [],
      "source": [
        "from langchain_community.document_loaders import TextLoader\n",
        "from langchain_text_splitters import CharacterTextSplitter\n",
        "\n",
        "loader = TextLoader(\"./state_of_the_union.txt\")\n",
        "documents = loader.load()\n",
        "text_splitter = CharacterTextSplitter(chunk_size=1000, chunk_overlap=0)\n",
        "docs = text_splitter.split_documents(documents)"
      ]
    },
    {
      "attachments": {},
      "cell_type": "markdown",
      "metadata": {},
      "source": [
        "### 将文档添加到向量数据库\n\n在文本准备和嵌入生成之后，以下方法会将它们插入到 Redis 向量数据库中。"
      ]
    },
    {
      "attachments": {},
      "cell_type": "markdown",
      "metadata": {},
      "source": [
        "#### 方法 1：用于直接插入的类方法\n\n此方法使用 `from_documents` 类方法将嵌入创建和插入合并为单个步骤："
      ]
    },
    {
      "cell_type": "code",
      "execution_count": null,
      "metadata": {},
      "outputs": [],
      "source": [
        "from langchain_community.embeddings.fake import FakeEmbeddings\n",
        "\n",
        "embeddings = FakeEmbeddings(size=128)\n",
        "redis_client = redis.from_url(\"redis://127.0.0.1:6379\")\n",
        "rvs = RedisVectorStore.from_documents(\n",
        "    docs, embedding=embeddings, client=redis_client, index_name=\"my_vector_index\"\n",
        ")"
      ]
    },
    {
      "attachments": {},
      "cell_type": "markdown",
      "metadata": {},
      "source": [
        "#### 方法二：基于实例的插入\n这种方法在处理新的或现有的 RedisVectorStore 时提供了灵活性：\n\n* [可选] 创建一个 RedisVectorStore 实例：实例化一个 RedisVectorStore 对象以进行自定义。如果您已经有一个实例，请继续下一步。\n* 添加带元数据的文本：向实例提供原始文本和元数据。嵌入生成和插入到向量存储中的过程会自动处理。"
      ]
    },
    {
      "cell_type": "code",
      "execution_count": null,
      "metadata": {},
      "outputs": [],
      "source": [
        "rvs = RedisVectorStore(\n",
        "    client=redis_client, index_name=\"my_vector_index\", embeddings=embeddings\n",
        ")\n",
        "ids = rvs.add_texts(\n",
        "    texts=[d.page_content for d in docs], metadatas=[d.metadata for d in docs]\n",
        ")"
      ]
    },
    {
      "attachments": {},
      "cell_type": "markdown",
      "metadata": {},
      "source": [
        "### 执行相似性搜索 (KNN)\n\n在填充了向量存储后，就可以搜索与查询在语义上相似的文本了。以下是如何使用带有默认设置的 KNN（K 最近邻）：\n\n* 构思查询：用自然语言提问来表达搜索意图（例如，“总统对 Ketanji Brown Jackson 发表了什么看法”）。\n* 检索相似结果：`similarity_search` 方法会查找向量存储中含义上最接近查询的项目。"
      ]
    },
    {
      "cell_type": "code",
      "execution_count": null,
      "metadata": {},
      "outputs": [],
      "source": [
        "import pprint\n",
        "\n",
        "query = \"What did the president say about Ketanji Brown Jackson\"\n",
        "knn_results = rvs.similarity_search(query=query)\n",
        "pprint.pprint(knn_results)"
      ]
    },
    {
      "attachments": {},
      "cell_type": "markdown",
      "metadata": {},
      "source": [
        "### 执行基于范围的相似性搜索\n\n范围查询通过指定期望的相似性阈值和查询文本来提供更多控制：\n\n*   制定查询：自然语言问题定义搜索意图。\n*   设置相似性阈值：`distance_threshold` 参数决定了匹配项在多大程度上被视为相关。\n*   检索结果：`similarity_search_with_score` 方法从向量存储中查找位于指定相似性阈值内的项。"
      ]
    },
    {
      "cell_type": "code",
      "execution_count": null,
      "metadata": {},
      "outputs": [],
      "source": [
        "rq_results = rvs.similarity_search_with_score(query=query, distance_threshold=0.8)\n",
        "pprint.pprint(rq_results)"
      ]
    },
    {
      "attachments": {},
      "cell_type": "markdown",
      "metadata": {},
      "source": [
        "### 执行最大边际相关性 (MMR) 搜索\n\nMMR 查询旨在查找与查询相关且彼此多样化的结果，从而减少搜索结果中的冗余。\n\n*   **构建查询**: 自然语言问题定义搜索意图。\n*   **平衡相关性和多样性**: `lambda_mult` 参数控制严格相关性与促进结果多样性之间的权衡。\n*   **检索 MMR 结果**: `max_marginal_relevance_search` 方法根据 lambda 设置返回优化相关性和多样性组合的条目。"
      ]
    },
    {
      "cell_type": "code",
      "execution_count": null,
      "metadata": {},
      "outputs": [],
      "source": [
        "mmr_results = rvs.max_marginal_relevance_search(query=query, lambda_mult=0.90)\n",
        "pprint.pprint(mmr_results)"
      ]
    },
    {
      "attachments": {},
      "cell_type": "markdown",
      "metadata": {},
      "source": [
        "## 将向量存储用作检索器\n\n为了与 LangChain 的其他组件无缝集成，可以将向量存储转换为检索器。这具有多种优势：\n\n* LangChain 兼容性：许多 LangChain 工具和方法都设计为直接与检索器交互。\n* 使用方便：`as_retriever()` 方法将向量存储转换为一种格式，简化了查询。"
      ]
    },
    {
      "cell_type": "code",
      "execution_count": null,
      "metadata": {},
      "outputs": [],
      "source": [
        "retriever = rvs.as_retriever()\n",
        "results = retriever.invoke(query)\n",
        "pprint.pprint(results)"
      ]
    },
    {
      "attachments": {},
      "cell_type": "markdown",
      "metadata": {},
      "source": [
        "## 清理"
      ]
    },
    {
      "attachments": {},
      "cell_type": "markdown",
      "metadata": {},
      "source": [
        "### 从向量存储中删除文档\n\n有时，有必要从向量存储中删除文档（及其关联的向量）。`delete` 方法提供了此功能。"
      ]
    },
    {
      "cell_type": "code",
      "execution_count": null,
      "metadata": {},
      "outputs": [],
      "source": [
        "rvs.delete(ids)"
      ]
    },
    {
      "attachments": {},
      "cell_type": "markdown",
      "metadata": {},
      "source": [
        "### 删除向量索引\n\n在某些情况下，需要删除现有的向量索引。常见原因包括：\n\n* 索引配置更改：如果需要修改索引参数，通常需要删除并重新创建索引。\n* 存储管理：删除未使用的索引有助于释放 Redis 实例中的空间。\n\n注意：删除向量索引是一项不可逆的操作。在继续之前，请确保不再需要存储的向量和搜索功能。"
      ]
    },
    {
      "cell_type": "code",
      "execution_count": 22,
      "metadata": {},
      "outputs": [],
      "source": [
        "# Delete the vector index\n",
        "RedisVectorStore.drop_index(client=redis_client, index_name=\"my_vector_index\")"
      ]
    }
  ],
  "metadata": {
    "kernelspec": {
      "display_name": "Python 3 (ipykernel)",
      "language": "python",
      "name": "python3"
    },
    "language_info": {
      "codemirror_mode": {
        "name": "ipython",
        "version": 3
      },
      "file_extension": ".py",
      "mimetype": "text/x-python",
      "name": "python",
      "nbconvert_exporter": "python",
      "pygments_lexer": "ipython3",
      "version": "3.11.6"
    }
  },
  "nbformat": 4,
  "nbformat_minor": 4
}