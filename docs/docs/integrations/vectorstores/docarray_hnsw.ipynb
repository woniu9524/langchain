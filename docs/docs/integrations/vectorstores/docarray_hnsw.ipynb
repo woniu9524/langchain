{
  "cells": [
    {
      "cell_type": "markdown",
      "id": "2ce41f46-5711-4311-b04d-2fe233ac5b1b",
      "metadata": {},
      "source": [
        "# DocArray HnswSearch\n\n>[DocArrayHnswSearch](https://docs.docarray.org/user_guide/storing/index_hnswlib/) 是 [Docarray](https://github.com/docarray/docarray) 提供的一个轻量级 Document Index 实现，它完全在本地运行，最适合中小型数据集。它将向量存储在磁盘上的 [hnswlib](https://github.com/nmslib/hnswlib) 中，并将所有其他数据存储在 [SQLite](https://www.sqlite.org/index.html) 中。\n\n您需要安装 `langchain-community` (`pip install -qU langchain-community`) 才能使用此集成。\n\n本 Notebook 展示了如何使用与 `DocArrayHnswSearch` 相关的功。"
      ]
    },
    {
      "cell_type": "markdown",
      "id": "7ee37d28",
      "metadata": {},
      "source": [
        "## 安装\n\n如果您尚未安装 DocArray，请取消注释下面的单元格以进行安装，以及获取/设置您的 OpenAI API 密钥。"
      ]
    },
    {
      "cell_type": "code",
      "execution_count": null,
      "id": "8ce1b8cb-dbf0-40c3-99ee-04f28143331b",
      "metadata": {
        "tags": []
      },
      "outputs": [],
      "source": [
        "%pip install --upgrade --quiet  \"docarray[hnswlib]\""
      ]
    },
    {
      "cell_type": "code",
      "execution_count": null,
      "id": "878f17df-100f-4854-9e87-472cf36d51f3",
      "metadata": {
        "scrolled": true,
        "tags": []
      },
      "outputs": [],
      "source": [
        "# Get an OpenAI token: https://platform.openai.com/account/api-keys\n",
        "\n",
        "# import os\n",
        "# from getpass import getpass\n",
        "\n",
        "# OPENAI_API_KEY = getpass()\n",
        "\n",
        "# os.environ[\"OPENAI_API_KEY\"] = OPENAI_API_KEY"
      ]
    },
    {
      "cell_type": "markdown",
      "id": "8dbb6de2",
      "metadata": {
        "tags": []
      },
      "source": [
        "## 使用 DocArrayHnswSearch\n\nThis section demonstrates how to"
      ]
    },
    {
      "cell_type": "code",
      "execution_count": null,
      "id": "b757afef-ef0a-465d-8e8a-9aadb9c32b88",
      "metadata": {
        "tags": []
      },
      "outputs": [],
      "source": [
        "from langchain_community.document_loaders import TextLoader\n",
        "from langchain_community.vectorstores import DocArrayHnswSearch\n",
        "from langchain_openai import OpenAIEmbeddings\n",
        "from langchain_text_splitters import CharacterTextSplitter"
      ]
    },
    {
      "cell_type": "code",
      "execution_count": 4,
      "id": "605e200e-e711-486b-b36e-cbe5dd2512d7",
      "metadata": {
        "tags": []
      },
      "outputs": [],
      "source": [
        "documents = TextLoader(\"../../how_to/state_of_the_union.txt\").load()\n",
        "text_splitter = CharacterTextSplitter(chunk_size=1000, chunk_overlap=0)\n",
        "docs = text_splitter.split_documents(documents)\n",
        "\n",
        "embeddings = OpenAIEmbeddings()\n",
        "\n",
        "db = DocArrayHnswSearch.from_documents(\n",
        "    docs, embeddings, work_dir=\"hnswlib_store/\", n_dim=1536\n",
        ")"
      ]
    },
    {
      "cell_type": "markdown",
      "id": "ed6f905b-4853-4a44-9730-614aa8e22b78",
      "metadata": {},
      "source": [
        "### 相似性搜索"
      ]
    },
    {
      "cell_type": "code",
      "execution_count": 5,
      "id": "4d7e742f-2002-449d-a10e-16046890906c",
      "metadata": {
        "tags": []
      },
      "outputs": [],
      "source": [
        "query = \"What did the president say about Ketanji Brown Jackson\"\n",
        "docs = db.similarity_search(query)"
      ]
    },
    {
      "cell_type": "code",
      "execution_count": 6,
      "id": "0da9e26f-1fc2-48e6-95a7-f692c853bbd3",
      "metadata": {
        "tags": []
      },
      "outputs": [
        {
          "name": "stdout",
          "output_type": "stream",
          "text": [
            "Tonight. I call on the Senate to: Pass the Freedom to Vote Act. Pass the John Lewis Voting Rights Act. And while you’re at it, pass the Disclose Act so Americans can know who is funding our elections. \n",
            "\n",
            "Tonight, I’d like to honor someone who has dedicated his life to serve this country: Justice Stephen Breyer—an Army veteran, Constitutional scholar, and retiring Justice of the United States Supreme Court. Justice Breyer, thank you for your service. \n",
            "\n",
            "One of the most serious constitutional responsibilities a President has is nominating someone to serve on the United States Supreme Court. \n",
            "\n",
            "And I did that 4 days ago, when I nominated Circuit Court of Appeals Judge Ketanji Brown Jackson. One of our nation’s top legal minds, who will continue Justice Breyer’s legacy of excellence.\n"
          ]
        }
      ],
      "source": [
        "print(docs[0].page_content)"
      ]
    },
    {
      "cell_type": "markdown",
      "id": "3febb987-e903-416f-af26-6897d84c8d61",
      "metadata": {},
      "source": [
        "### 相似性搜索与评分"
      ]
    },
    {
      "cell_type": "markdown",
      "id": "bb1df11a",
      "metadata": {},
      "source": [
        "返回的距离分数是余弦距离，因此分数越低越好。"
      ]
    },
    {
      "cell_type": "code",
      "execution_count": 7,
      "id": "40764fdd-357d-475a-8152-5f1979d61a45",
      "metadata": {
        "tags": []
      },
      "outputs": [],
      "source": [
        "docs = db.similarity_search_with_score(query)"
      ]
    },
    {
      "cell_type": "code",
      "execution_count": 8,
      "id": "a479fc46-b299-4330-89b9-e9b5a218ea03",
      "metadata": {
        "tags": []
      },
      "outputs": [
        {
          "data": {
            "text/plain": [
              "(Document(page_content='Tonight. I call on the Senate to: Pass the Freedom to Vote Act. Pass the John Lewis Voting Rights Act. And while you’re at it, pass the Disclose Act so Americans can know who is funding our elections. \\n\\nTonight, I’d like to honor someone who has dedicated his life to serve this country: Justice Stephen Breyer—an Army veteran, Constitutional scholar, and retiring Justice of the United States Supreme Court. Justice Breyer, thank you for your service. \\n\\nOne of the most serious constitutional responsibilities a President has is nominating someone to serve on the United States Supreme Court. \\n\\nAnd I did that 4 days ago, when I nominated Circuit Court of Appeals Judge Ketanji Brown Jackson. One of our nation’s top legal minds, who will continue Justice Breyer’s legacy of excellence.', metadata={}),\n",
              " 0.36962226)"
            ]
          },
          "execution_count": 8,
          "metadata": {},
          "output_type": "execute_result"
        }
      ],
      "source": [
        "docs[0]"
      ]
    },
    {
      "cell_type": "code",
      "execution_count": 9,
      "id": "4d3d4e97-5d2b-4571-8ff9-e3f6b6778714",
      "metadata": {
        "tags": []
      },
      "outputs": [],
      "source": [
        "import shutil\n",
        "\n",
        "# delete the dir\n",
        "shutil.rmtree(\"hnswlib_store\")"
      ]
    }
  ],
  "metadata": {
    "kernelspec": {
      "display_name": "Python 3 (ipykernel)",
      "language": "python",
      "name": "python3"
    },
    "language_info": {
      "codemirror_mode": {
        "name": "ipython",
        "version": 3
      },
      "file_extension": ".py",
      "mimetype": "text/x-python",
      "name": "python",
      "nbconvert_exporter": "python",
      "pygments_lexer": "ipython3",
      "version": "3.10.12"
    }
  },
  "nbformat": 4,
  "nbformat_minor": 5
}