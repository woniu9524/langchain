{
  "cells": [
    {
      "cell_type": "raw",
      "metadata": {
        "collapsed": false
      },
      "source": [
        "---\n",
        "sidebar_label: CloudflareVectorize\n",
        "---"
      ]
    },
    {
      "cell_type": "markdown",
      "metadata": {},
      "source": [
        "# CloudflareVectorizeVectorStore\n\n本笔记本介绍了如何开始使用 CloudflareVectorize vector store。"
      ]
    },
    {
      "cell_type": "markdown",
      "metadata": {
        "collapsed": false
      },
      "source": [
        "## 设置\n\n这个 Python 包是 Cloudflare REST API 的一个封装。要与 API 进行交互，您需要提供一个具有适当权限的 API 令牌。\n\n您可以在此处创建和管理 API 令牌：\n\nhttps://dash.cloudflare.com/YOUR-ACCT-NUMBER/api-tokens\n\n### 凭证\n\nCloudflareVectorize 依赖于 WorkersAI（如果您想将其用于 Embeddings）以及 D1（如果您使用它来存储和检索原始值）。\n\n虽然您可以创建一个具有所有必需资源（WorkersAI、Vectorize 和 D1）的编辑权限的单个 `api_token`，但您可能希望遵循“最小特权访问”原则，为每个服务创建单独的 API 令牌。\n\n**注意：** 这些特定于服务的令牌（如果提供）将优先于全局令牌。您可以提供这些令牌而不是全局令牌。\n\n您也可以将这些参数保留为环境变量。"
      ]
    },
    {
      "cell_type": "code",
      "execution_count": 7,
      "metadata": {
        "ExecuteTime": {
          "end_time": "2025-05-13T05:36:42.486012Z",
          "start_time": "2025-05-13T05:36:42.483123Z"
        },
        "collapsed": false
      },
      "outputs": [],
      "source": [
        "import os\n",
        "\n",
        "from dotenv import load_dotenv\n",
        "\n",
        "load_dotenv(\".env\")\n",
        "\n",
        "cf_acct_id = os.getenv(\"CF_ACCOUNT_ID\")\n",
        "\n",
        "# single \"globally scoped\" token with WorkersAI, Vectorize & D1\n",
        "api_token = os.getenv(\"CF_API_TOKEN\")\n",
        "\n",
        "# OR, separate tokens with access to each service\n",
        "cf_vectorize_token = os.getenv(\"CF_VECTORIZE_API_TOKEN\")\n",
        "cf_d1_token = os.getenv(\"CF_D1_API_TOKEN\")"
      ]
    },
    {
      "cell_type": "markdown",
      "metadata": {
        "collapsed": false
      },
      "source": [
        "## 初始化"
      ]
    },
    {
      "cell_type": "code",
      "execution_count": 9,
      "metadata": {
        "ExecuteTime": {
          "end_time": "2025-05-13T05:36:50.644426Z",
          "start_time": "2025-05-13T05:36:50.642087Z"
        },
        "collapsed": false
      },
      "outputs": [],
      "source": [
        "import asyncio\n",
        "import json\n",
        "import uuid\n",
        "import warnings\n",
        "\n",
        "from langchain_cloudflare.embeddings import (\n",
        "    CloudflareWorkersAIEmbeddings,\n",
        ")\n",
        "from langchain_cloudflare.vectorstores import (\n",
        "    CloudflareVectorize,\n",
        ")\n",
        "from langchain_community.document_loaders import WikipediaLoader\n",
        "from langchain_core.documents import Document\n",
        "from langchain_text_splitters import RecursiveCharacterTextSplitter\n",
        "\n",
        "warnings.filterwarnings(\"ignore\")"
      ]
    },
    {
      "cell_type": "code",
      "execution_count": 10,
      "metadata": {
        "ExecuteTime": {
          "end_time": "2025-05-13T05:36:52.026332Z",
          "start_time": "2025-05-13T05:36:52.024503Z"
        },
        "collapsed": false
      },
      "outputs": [],
      "source": [
        "# name your vectorize index\n",
        "vectorize_index_name = f\"test-langchain-{uuid.uuid4().hex}\""
      ]
    },
    {
      "cell_type": "markdown",
      "metadata": {
        "collapsed": false
      },
      "source": [
        "### Embeddings\n\n为了存储 embeddings、进行语义搜索和检索，您必须将原始值嵌入为 embeddings。请指定一个可用的 embedding 模型，该模型可在 WorkersAI 上使用。\n\n[https://developers.cloudflare.com/workers-ai/models/](https://developers.cloudflare.com/workers-ai/models/)"
      ]
    },
    {
      "cell_type": "code",
      "execution_count": 11,
      "metadata": {
        "ExecuteTime": {
          "end_time": "2025-05-13T05:36:53.716159Z",
          "start_time": "2025-05-13T05:36:53.714223Z"
        },
        "collapsed": false
      },
      "outputs": [],
      "source": [
        "MODEL_WORKERSAI = \"@cf/baai/bge-large-en-v1.5\""
      ]
    },
    {
      "cell_type": "code",
      "execution_count": 12,
      "metadata": {
        "ExecuteTime": {
          "end_time": "2025-05-13T05:36:54.740315Z",
          "start_time": "2025-05-13T05:36:54.738324Z"
        },
        "collapsed": false
      },
      "outputs": [],
      "source": [
        "cf_ai_token = os.getenv(\n",
        "    \"CF_AI_API_TOKEN\"\n",
        ")  # needed if you want to use workersAI for embeddings\n",
        "\n",
        "embedder = CloudflareWorkersAIEmbeddings(\n",
        "    account_id=cf_acct_id, api_token=cf_ai_token, model_name=MODEL_WORKERSAI\n",
        ")"
      ]
    },
    {
      "cell_type": "markdown",
      "metadata": {
        "collapsed": false
      },
      "source": [
        "### D1 中的原始值\n\nVectorize 只存储嵌入、元数据和命名空间。如果你想存储和检索原始值，你必须利用 Cloudflare 的 SQL 数据库 D1。\n\n你可以在这里创建一个数据库并获取其 ID：\n\nhttps://dash.cloudflare.com/YOUR-ACCT-NUMBER/workers/d1"
      ]
    },
    {
      "cell_type": "code",
      "execution_count": 13,
      "metadata": {
        "ExecuteTime": {
          "end_time": "2025-05-13T05:36:58.764589Z",
          "start_time": "2025-05-13T05:36:58.762832Z"
        },
        "collapsed": false
      },
      "outputs": [],
      "source": [
        "# provide the id of your D1 Database\n",
        "d1_database_id = os.getenv(\"CF_D1_DATABASE_ID\")"
      ]
    },
    {
      "cell_type": "markdown",
      "metadata": {
        "collapsed": false
      },
      "source": [
        "### CloudflareVectorize 类\n\n现在我们可以创建 CloudflareVectorize 实例。这里我们传入了：\n\n* 先前的 `embedding` 实例\n* account ID\n* 用于所有服务（WorkersAI、Vectorize、D1）的全局 API 令牌\n* 各服务的独立 API 令牌"
      ]
    },
    {
      "cell_type": "code",
      "execution_count": 14,
      "metadata": {
        "ExecuteTime": {
          "end_time": "2025-05-13T05:37:00.814955Z",
          "start_time": "2025-05-13T05:37:00.813043Z"
        },
        "collapsed": false
      },
      "outputs": [],
      "source": [
        "cfVect = CloudflareVectorize(\n",
        "    embedding=embedder,\n",
        "    account_id=cf_acct_id,\n",
        "    d1_api_token=cf_d1_token,  # (Optional if using global token)\n",
        "    vectorize_api_token=cf_vectorize_token,  # (Optional if using global token)\n",
        "    d1_database_id=d1_database_id,  # (Optional if not using D1)\n",
        ")"
      ]
    },
    {
      "cell_type": "markdown",
      "metadata": {},
      "source": [
        "### 清理\n在我们开始之前，让我们删除本次演练中拥有的所有 `test-langchain*` 索引"
      ]
    },
    {
      "cell_type": "code",
      "execution_count": 15,
      "metadata": {
        "ExecuteTime": {
          "end_time": "2025-05-13T05:37:04.023950Z",
          "start_time": "2025-05-13T05:37:03.446897Z"
        }
      },
      "outputs": [],
      "source": [
        "# depending on your notebook environment you might need to include:\n",
        "# import nest_asyncio\n",
        "# nest_asyncio.apply()\n",
        "\n",
        "arr_indexes = cfVect.list_indexes()\n",
        "arr_indexes = [x for x in arr_indexes if \"test-langchain\" in x.get(\"name\")]\n",
        "arr_async_requests = [\n",
        "    cfVect.adelete_index(index_name=x.get(\"name\")) for x in arr_indexes\n",
        "]\n",
        "await asyncio.gather(*arr_async_requests);"
      ]
    },
    {
      "cell_type": "markdown",
      "metadata": {
        "collapsed": false
      },
      "source": [
        "### 注意事项"
      ]
    },
    {
      "cell_type": "markdown",
      "metadata": {
        "collapsed": false
      },
      "source": [
        "D1 数据库 ID 已提供，但缺少全局 `api_token` 和 `d1_api_token`"
      ]
    },
    {
      "cell_type": "code",
      "execution_count": 16,
      "metadata": {
        "ExecuteTime": {
          "end_time": "2025-05-13T05:37:06.753333Z",
          "start_time": "2025-05-13T05:37:06.751132Z"
        },
        "collapsed": false
      },
      "outputs": [
        {
          "name": "stdout",
          "output_type": "stream",
          "text": [
            "`d1_database_id` provided, but no global `api_token` provided and no `d1_api_token` provided.\n"
          ]
        }
      ],
      "source": [
        "try:\n",
        "    cfVect = CloudflareVectorize(\n",
        "        embedding=embedder,\n",
        "        account_id=cf_acct_id,\n",
        "        # api_token=api_token, # (Optional if using service-specific token)\n",
        "        ai_api_token=cf_ai_token,  # (Optional if using global token)\n",
        "        # d1_api_token=cf_d1_token,  # (Optional if using global token)\n",
        "        vectorize_api_token=cf_vectorize_token,  # (Optional if using global token)\n",
        "        d1_database_id=d1_database_id,  # (Optional if not using D1)\n",
        "    )\n",
        "except Exception as e:\n",
        "    print(str(e))"
      ]
    },
    {
      "cell_type": "markdown",
      "metadata": {
        "collapsed": false
      },
      "source": [
        "## 管理向量存储\n\n### 创建索引\n\n让我们从创建索引开始这个示例（如果索引已存在则先将其删除）。如果索引不存在，Cloudflare 将会报错提示我们。"
      ]
    },
    {
      "cell_type": "code",
      "execution_count": 18,
      "metadata": {
        "ExecuteTime": {
          "end_time": "2025-05-13T05:38:00.879772Z",
          "start_time": "2025-05-13T05:38:00.877397Z"
        },
        "collapsed": false
      },
      "outputs": [],
      "source": [
        "%%capture\n",
        "\n",
        "try:\n",
        "    cfVect.delete_index(index_name=vectorize_index_name, wait=True)\n",
        "except Exception as e:\n",
        "    print(e)"
      ]
    },
    {
      "cell_type": "markdown",
      "metadata": {
        "collapsed": false
      },
      "source": []
    },
    {
      "cell_type": "code",
      "execution_count": 19,
      "metadata": {
        "ExecuteTime": {
          "end_time": "2025-05-13T05:38:12.634512Z",
          "start_time": "2025-05-13T05:38:03.195481Z"
        },
        "collapsed": false
      },
      "outputs": [
        {
          "name": "stdout",
          "output_type": "stream",
          "text": [
            "{'created_on': '2025-05-13T05:38:04.487284Z', 'modified_on': '2025-05-13T05:38:04.487284Z', 'name': 'test-langchain-5c177bb404f74d438c916462ad73d27a', 'description': 'A Test Vectorize Index', 'config': {'dimensions': 1024, 'metric': 'cosine'}}\n"
          ]
        }
      ],
      "source": [
        "r = cfVect.create_index(\n",
        "    index_name=vectorize_index_name, description=\"A Test Vectorize Index\", wait=True\n",
        ")\n",
        "print(r)"
      ]
    },
    {
      "cell_type": "markdown",
      "metadata": {
        "collapsed": false
      },
      "source": [
        "### 列出索引\n\n现在，我们可以在我们的账户上列出索引了"
      ]
    },
    {
      "cell_type": "code",
      "execution_count": 20,
      "metadata": {
        "ExecuteTime": {
          "end_time": "2025-05-13T05:38:12.798392Z",
          "start_time": "2025-05-13T05:38:12.635770Z"
        },
        "collapsed": false
      },
      "outputs": [
        {
          "name": "stdout",
          "output_type": "stream",
          "text": [
            "[{'created_on': '2025-05-13T05:38:04.487284Z', 'modified_on': '2025-05-13T05:38:04.487284Z', 'name': 'test-langchain-5c177bb404f74d438c916462ad73d27a', 'description': 'A Test Vectorize Index', 'config': {'dimensions': 1024, 'metric': 'cosine'}}]\n"
          ]
        }
      ],
      "source": [
        "indexes = cfVect.list_indexes()\n",
        "indexes = [x for x in indexes if \"test-langchain\" in x.get(\"name\")]\n",
        "print(indexes)"
      ]
    },
    {
      "cell_type": "markdown",
      "metadata": {
        "collapsed": false
      },
      "source": [
        "### 获取索引信息\n我们还可以获取特定索引并检索有关该索引的更详细信息。\n\n此调用返回 `processedUpToMutation`，可用于跟踪创建索引、添加或删除记录等操作的状态。"
      ]
    },
    {
      "cell_type": "code",
      "execution_count": 21,
      "metadata": {
        "ExecuteTime": {
          "end_time": "2025-05-13T05:38:15.143529Z",
          "start_time": "2025-05-13T05:38:14.890886Z"
        },
        "collapsed": false
      },
      "outputs": [
        {
          "name": "stdout",
          "output_type": "stream",
          "text": [
            "{'dimensions': 1024, 'vectorCount': 0}\n"
          ]
        }
      ],
      "source": [
        "r = cfVect.get_index_info(index_name=vectorize_index_name)\n",
        "print(r)"
      ]
    },
    {
      "cell_type": "markdown",
      "metadata": {
        "collapsed": false
      },
      "source": [
        "### 添加元数据索引\n\n在查询中提供元数据过滤器通常有助于检索。在 Vectorize 中，这首先通过在 Vectorize 索引上创建“元数据索引”来实现。我们将通过在我们文档的 `section` 字段上创建一个来完成我们示例中的操作。\n\n**参考资料：** [https://developers.cloudflare.com/vectorize/reference/metadata-filtering/](https://developers.cloudflare.com/vectorize/reference/metadata-filtering/)"
      ]
    },
    {
      "cell_type": "code",
      "execution_count": 22,
      "metadata": {
        "ExecuteTime": {
          "end_time": "2025-05-13T05:38:26.286211Z",
          "start_time": "2025-05-13T05:38:17.940331Z"
        },
        "collapsed": false
      },
      "outputs": [
        {
          "name": "stdout",
          "output_type": "stream",
          "text": [
            "{'mutationId': '7fc5f849-4d35-420c-bb3f-b950a79e48b6'}\n"
          ]
        }
      ],
      "source": [
        "r = cfVect.create_metadata_index(\n",
        "    property_name=\"section\",\n",
        "    index_type=\"string\",\n",
        "    index_name=vectorize_index_name,\n",
        "    wait=True,\n",
        ")\n",
        "print(r)"
      ]
    },
    {
      "cell_type": "markdown",
      "metadata": {},
      "source": [
        "### 列出元数据索引"
      ]
    },
    {
      "cell_type": "code",
      "execution_count": 23,
      "metadata": {
        "ExecuteTime": {
          "end_time": "2025-05-13T05:38:26.457619Z",
          "start_time": "2025-05-13T05:38:26.287551Z"
        }
      },
      "outputs": [
        {
          "name": "stdout",
          "output_type": "stream",
          "text": [
            "[{'propertyName': 'section', 'indexType': 'String'}]\n"
          ]
        }
      ],
      "source": [
        "r = cfVect.list_metadata_indexes(index_name=vectorize_index_name)\n",
        "print(r)"
      ]
    },
    {
      "cell_type": "markdown",
      "metadata": {
        "collapsed": false
      },
      "source": [
        "### 添加文档\n在本示例中，我们将使用 LangChain 的 Wikipedia 加载器来获取一篇关于 Cloudflare 的文章。我们将把它存储在 Vectorize 中，并在之后查询其内容。"
      ]
    },
    {
      "cell_type": "code",
      "execution_count": 24,
      "metadata": {
        "ExecuteTime": {
          "end_time": "2025-05-13T05:38:36.596620Z",
          "start_time": "2025-05-13T05:38:30.750758Z"
        },
        "collapsed": false
      },
      "outputs": [],
      "source": [
        "docs = WikipediaLoader(query=\"Cloudflare\", load_max_docs=2).load()"
      ]
    },
    {
      "cell_type": "markdown",
      "metadata": {
        "collapsed": false
      },
      "source": [
        "然后，我们将根据分块部分创建一些带有元数据的简单分块。"
      ]
    },
    {
      "cell_type": "code",
      "execution_count": 25,
      "metadata": {
        "ExecuteTime": {
          "end_time": "2025-05-13T05:38:36.601290Z",
          "start_time": "2025-05-13T05:38:36.597784Z"
        },
        "collapsed": false
      },
      "outputs": [],
      "source": [
        "text_splitter = RecursiveCharacterTextSplitter(\n",
        "    # Set a really small chunk size, just to show.\n",
        "    chunk_size=100,\n",
        "    chunk_overlap=20,\n",
        "    length_function=len,\n",
        "    is_separator_regex=False,\n",
        ")\n",
        "texts = text_splitter.create_documents([docs[0].page_content])\n",
        "\n",
        "running_section = \"\"\n",
        "for idx, text in enumerate(texts):\n",
        "    if text.page_content.startswith(\"=\"):\n",
        "        running_section = text.page_content\n",
        "        running_section = running_section.replace(\"=\", \"\").strip()\n",
        "    else:\n",
        "        if running_section == \"\":\n",
        "            text.metadata = {\"section\": \"Introduction\"}\n",
        "        else:\n",
        "            text.metadata = {\"section\": running_section}"
      ]
    },
    {
      "cell_type": "code",
      "execution_count": 26,
      "metadata": {
        "ExecuteTime": {
          "end_time": "2025-05-13T05:38:36.604198Z",
          "start_time": "2025-05-13T05:38:36.602147Z"
        },
        "collapsed": false
      },
      "outputs": [
        {
          "name": "stdout",
          "output_type": "stream",
          "text": [
            "55\n",
            "page_content='Cloudflare, Inc., is an American company that provides content delivery network services,' metadata={'section': 'Introduction'} \n",
            "\n",
            " page_content='attacks, Cloudflare ended up being attacked as well; Google and other companies eventually' metadata={'section': 'DDoS mitigation'}\n"
          ]
        }
      ],
      "source": [
        "print(len(texts))\n",
        "print(texts[0], \"\\n\\n\", texts[-1])"
      ]
    },
    {
      "cell_type": "markdown",
      "metadata": {
        "collapsed": false
      },
      "source": [
        "现在我们将为 Vectorize 索引添加文档。\n\n**注意：**\n将嵌入添加到 Vectorize 的过程是 `异步` 的。这意味着从添加嵌入到可以查询它们之间会有一个短暂的延迟。默认情况下，`add_documents` 函数有一个 `wait=True` 参数，该参数会在操作完成并返回响应之前等待。如果您不希望程序等待嵌入可用，可以将此参数设置为 `wait=False`。"
      ]
    },
    {
      "cell_type": "code",
      "execution_count": 27,
      "metadata": {
        "ExecuteTime": {
          "end_time": "2025-05-13T05:39:10.554800Z",
          "start_time": "2025-05-13T05:38:41.949203Z"
        },
        "collapsed": false
      },
      "outputs": [],
      "source": [
        "r = cfVect.add_documents(index_name=vectorize_index_name, documents=texts, wait=True)"
      ]
    },
    {
      "cell_type": "code",
      "execution_count": 28,
      "metadata": {
        "ExecuteTime": {
          "end_time": "2025-05-13T05:39:10.557903Z",
          "start_time": "2025-05-13T05:39:10.555869Z"
        },
        "collapsed": false
      },
      "outputs": [
        {
          "name": "stdout",
          "output_type": "stream",
          "text": [
            "[\"433a614a-2253-4c54-951f-0e40379a52c4\", \"608a9cb6-ab71-4e5c-8831-ebedeb9749e8\", \"40a0eead-a781-46a7-a6a3-1940ec57c9ae\", \"64081e01-12d1-4760-9b3c-84ee1e4ba199\", \"af465fb9-9e3b-49a6-b00a-6a9eec4fc623\", \"2898e362-b667-46ab-ac20-651d8e13f2bf\", \"a2c0095b-2cbc-4724-bbcb-86cd702bfa84\", \"cc659763-37cb-42cb\n"
          ]
        }
      ],
      "source": [
        "print(json.dumps(r)[:300])"
      ]
    },
    {
      "cell_type": "markdown",
      "metadata": {
        "collapsed": false
      },
      "source": [
        "## 查询向量存储\n\n我们将对嵌入进行一些搜索。我们可以指定我们的搜索 `query` 以及我们想要的返回结果的数量 `k`。"
      ]
    },
    {
      "cell_type": "code",
      "execution_count": 29,
      "metadata": {
        "ExecuteTime": {
          "end_time": "2025-05-13T05:39:15.044583Z",
          "start_time": "2025-05-13T05:39:10.558566Z"
        },
        "collapsed": false
      },
      "outputs": [
        {
          "name": "stdout",
          "output_type": "stream",
          "text": [
            "55 results:\n",
            "[Document(id='24405ae0-c125-4177-a1c2-8b1849c13ab7', metadata={}, page_content=\"In 2023, Cloudflare launched Workers AI, a framework allowing for use of Nvidia GPU's within\"), Document(id='ca33b19e-4e28-4e1b-8ed7-94f133dbf8a7', metadata={}, page_content='based on queries by leveraging Workers AI.Cloudflare announced plans in September 2024 to launch a'), Document(id='14602058-73fe-4307-a1c2-95956d6392ad', metadata={}, page_content='=== Artificial intelligence ===')]\n"
          ]
        }
      ],
      "source": [
        "query_documents = cfVect.similarity_search(\n",
        "    index_name=vectorize_index_name, query=\"Workers AI\", k=100, return_metadata=\"none\"\n",
        ")\n",
        "\n",
        "print(f\"{len(query_documents)} results:\\n{query_documents[:3]}\")"
      ]
    },
    {
      "cell_type": "markdown",
      "metadata": {
        "collapsed": false
      },
      "source": [
        "### 输出\n\n如果你想返回元数据，可以传递 `return_metadata=\"all\" | 'indexed'`。默认值为 `all`。\n\n如果你想返回 embeddings 值，可以传递 `return_values=True`。默认值为 `False`。Embeddings 将在 `metadata` 字段下的特殊 `_values` 字段中返回。\n\n**注意：** `return_metadata=\"none\"` 和 `return_values=True` 将只在 `metadata` 中返回 `_values` 字段。\n\n**注意：**\n如果你返回元数据或值，结果将限制在前 20 位。\n\nhttps://developers.cloudflare.com/vectorize/platform/limits/"
      ]
    },
    {
      "cell_type": "code",
      "execution_count": 30,
      "metadata": {
        "ExecuteTime": {
          "end_time": "2025-05-13T05:39:18.655452Z",
          "start_time": "2025-05-13T05:39:15.046279Z"
        },
        "collapsed": false
      },
      "outputs": [
        {
          "name": "stdout",
          "output_type": "stream",
          "text": [
            "20 results:\n",
            "page_content='In 2023, Cloudflare launched Workers AI, a framework allowing for use of Nvidia GPU's within' metadata={'section': 'Artificial intelligence', '_values': [0.014350891, 0.0053482056, -0.022354126, 0.002948761, 0.010406494, -0.016067505, -0.002029419, -0.023513794, 0.020141602, 0.023742676, 0.01361084, 0.003019333, 0.02748108, -0.023162842, 0.008979797, -0.029373169, -0.03643799, -0.03842163, -0.004463196, 0.021255493, 0.02192688, -0.005947113, -0.060272217, -0.055389404, -0.031188965\n"
          ]
        }
      ],
      "source": [
        "query_documents = cfVect.similarity_search(\n",
        "    index_name=vectorize_index_name,\n",
        "    query=\"Workers AI\",\n",
        "    return_values=True,\n",
        "    return_metadata=\"all\",\n",
        "    k=100,\n",
        ")\n",
        "print(f\"{len(query_documents)} results:\\n{str(query_documents[0])[:500]}\")"
      ]
    },
    {
      "cell_type": "markdown",
      "metadata": {
        "collapsed": false
      },
      "source": [
        "如果你希望返回相似度 `scores`，你可以使用 `similarity_search_with_score`"
      ]
    },
    {
      "cell_type": "code",
      "execution_count": 31,
      "metadata": {
        "ExecuteTime": {
          "end_time": "2025-05-13T05:39:21.773498Z",
          "start_time": "2025-05-13T05:39:18.656713Z"
        },
        "collapsed": false
      },
      "outputs": [
        {
          "name": "stdout",
          "output_type": "stream",
          "text": [
            "20 results:\n",
            "(Document(id='24405ae0-c125-4177-a1c2-8b1849c13ab7', metadata={'section': 'Artificial intelligence'}, page_content=\"In 2023, Cloudflare launched Workers AI, a framework allowing for use of Nvidia GPU's within\"), 0.7851709)\n"
          ]
        }
      ],
      "source": [
        "query_documents = cfVect.similarity_search_with_score(\n",
        "    index_name=vectorize_index_name,\n",
        "    query=\"Workers AI\",\n",
        "    k=100,\n",
        "    return_metadata=\"all\",\n",
        ")\n",
        "print(f\"{len(query_documents)} results:\\n{str(query_documents[0])[:500]}\")"
      ]
    },
    {
      "cell_type": "markdown",
      "metadata": {
        "collapsed": false
      },
      "source": [
        "### 包含 D1 以获取“原始值”\nCloudflare Vectorize 上的所有 `add` 和 `search` 方法都支持 `include_d1` 参数（默认为 True）。\n\n这是为了配置您是否要存储/检索原始值。\n\n如果您不想为此使用 D1，可以将其设置为 `include=False`。这将返回 `page_content` 字段为空的文档。\n\n**注意：** 您的 D1 表名必须与您的 vectorize 索引名匹配！如果您运行 `create_index` 并设置 `include_d1=True` 或 `cfVect(d1_database=...,)`，此 D1 表将与您的 Vectorize 索引一起创建。"
      ]
    },
    {
      "cell_type": "code",
      "execution_count": 32,
      "metadata": {
        "ExecuteTime": {
          "end_time": "2025-05-13T05:39:36.857527Z",
          "start_time": "2025-05-13T05:39:21.774272Z"
        },
        "collapsed": false
      },
      "outputs": [
        {
          "name": "stdout",
          "output_type": "stream",
          "text": [
            "20 results:\n",
            "(Document(id='64081e01-12d1-4760-9b3c-84ee1e4ba199', metadata={'section': 'Introduction'}, page_content=''), 0.60426825)\n"
          ]
        }
      ],
      "source": [
        "query_documents = cfVect.similarity_search_with_score(\n",
        "    index_name=vectorize_index_name,\n",
        "    query=\"california\",\n",
        "    k=100,\n",
        "    return_metadata=\"all\",\n",
        "    include_d1=False,\n",
        ")\n",
        "print(f\"{len(query_documents)} results:\\n{str(query_documents[0])[:500]}\")"
      ]
    },
    {
      "cell_type": "markdown",
      "metadata": {
        "collapsed": false
      },
      "source": [
        "### 查询转化为检索器\n\n您也可以将向量存储转化为检索器，以便在您的链（chains）中更轻松地使用。"
      ]
    },
    {
      "cell_type": "code",
      "execution_count": 33,
      "metadata": {
        "ExecuteTime": {
          "end_time": "2025-05-13T05:39:41.018102Z",
          "start_time": "2025-05-13T05:39:36.858445Z"
        },
        "collapsed": false
      },
      "outputs": [],
      "source": [
        "retriever = cfVect.as_retriever(\n",
        "    search_type=\"similarity\",\n",
        "    search_kwargs={\"k\": 1, \"index_name\": vectorize_index_name},\n",
        ")\n",
        "r = retriever.get_relevant_documents(\"california\")"
      ]
    },
    {
      "cell_type": "markdown",
      "metadata": {
        "collapsed": false
      },
      "source": [
        "### 使用元数据过滤进行搜索\n\n如前所述，Vectorize 支持通过索引元数据字段进行过滤搜索。下面是一个示例，我们在索引的 `section` 元数据字段中搜索 `Introduction` 值。\n\n有关在元数据字段上进行搜索的更多信息，请访问：[https://developers.cloudflare.com/vectorize/reference/metadata-filtering/](https://developers.cloudflare.com/vectorize/reference/metadata-filtering/)"
      ]
    },
    {
      "cell_type": "code",
      "execution_count": 34,
      "metadata": {
        "ExecuteTime": {
          "end_time": "2025-05-13T05:39:52.954655Z",
          "start_time": "2025-05-13T05:39:41.018945Z"
        },
        "collapsed": false
      },
      "outputs": [
        {
          "name": "stdout",
          "output_type": "stream",
          "text": [
            "6 results:\n",
            " - [(Document(id='64081e01-12d1-4760-9b3c-84ee1e4ba199', metadata={'section': 'Introduction'}, page_content=\"and other services. Cloudflare's headquarters are in San Francisco, California. According to\"), 0.60426825), (Document(id='608a9cb6-ab71-4e5c-8831-ebedeb9749e8', metadata={'section': 'Introduction'}, page_content='network services, cybersecurity, DDoS mitigation, wide area network services, reverse proxies,'), 0.52082914), (Document(id='433a614a-2253-4c54-951f-0e40379a52c4', metadata={'section': 'Introduction'}, page_content='Cloudflare, Inc., is an American company that provides content delivery network services,'), 0.50490546)]\n"
          ]
        }
      ],
      "source": [
        "query_documents = cfVect.similarity_search_with_score(\n",
        "    index_name=vectorize_index_name,\n",
        "    query=\"California\",\n",
        "    k=100,\n",
        "    md_filter={\"section\": \"Introduction\"},\n",
        "    return_metadata=\"all\",\n",
        ")\n",
        "print(f\"{len(query_documents)} results:\\n - {str(query_documents[:3])}\")"
      ]
    },
    {
      "cell_type": "markdown",
      "metadata": {},
      "source": [
        "你可以进行更复杂的过滤\n\nhttps://developers.cloudflare.com/vectorize/reference/metadata-filtering/#valid-filter-examples"
      ]
    },
    {
      "cell_type": "code",
      "execution_count": 35,
      "metadata": {
        "ExecuteTime": {
          "end_time": "2025-05-13T05:39:55.615643Z",
          "start_time": "2025-05-13T05:39:52.955740Z"
        }
      },
      "outputs": [
        {
          "name": "stdout",
          "output_type": "stream",
          "text": [
            "20 results:\n",
            " - [(Document(id='daeb7891-ec00-4c09-aa73-fc8e9a226ca8', metadata={}, page_content='== Products =='), 0.56540567), (Document(id='8c91ed93-d306-4cf9-ad1e-157e90a01ddf', metadata={'section': 'History'}, page_content='Since at least 2017, Cloudflare has been using a wall of lava lamps in their San Francisco'), 0.5604333), (Document(id='1400609f-0937-4700-acde-6e770d2dbd12', metadata={'section': 'History'}, page_content='their San Francisco headquarters as a source of randomness for encryption keys, alongside double'), 0.55573463)]\n"
          ]
        }
      ],
      "source": [
        "query_documents = cfVect.similarity_search_with_score(\n",
        "    index_name=vectorize_index_name,\n",
        "    query=\"California\",\n",
        "    k=100,\n",
        "    md_filter={\"section\": {\"$ne\": \"Introduction\"}},\n",
        "    return_metadata=\"all\",\n",
        ")\n",
        "print(f\"{len(query_documents)} results:\\n - {str(query_documents[:3])}\")"
      ]
    },
    {
      "cell_type": "code",
      "execution_count": 36,
      "metadata": {
        "ExecuteTime": {
          "end_time": "2025-05-13T05:40:04.151104Z",
          "start_time": "2025-05-13T05:39:55.618316Z"
        }
      },
      "outputs": [
        {
          "name": "stdout",
          "output_type": "stream",
          "text": [
            "20 results:\n",
            " - [(Document(id='253a0987-1118-4ab2-a444-b8a50f0b4a63', metadata={'section': 'Products'}, page_content='protocols such as DNS over HTTPS, SMTP, and HTTP/2 with support for HTTP/2 Server Push. As of 2023,'), 0.7205538), (Document(id='112b61d1-6c34-41d6-a22f-7871bf1cca7b', metadata={'section': 'Products'}, page_content='utilizing edge computing, reverse proxies for web traffic, data center interconnects, and a content'), 0.58178145), (Document(id='36929a30-32a9-482a-add7-6c109bbf8f82', metadata={'section': 'Products'}, page_content='and a content distribution network to serve content across its network of servers. It supports'), 0.5797795), (Document(id='485ac8dc-c2ad-443a-90fc-8be9e004eaee', metadata={'section': 'History'}, page_content='the New York Stock Exchange under the stock ticker NET. It opened for public trading on September'), 0.5678468), (Document(id='1c7581d5-0b06-45d6-874c-554907f4f7f7', metadata={'section': 'Products'}, page_content='Cloudflare provides network and security products for consumers and businesses, utilizing edge'), 0.55722594), (Document(id='f2fd02ac-3bab-4565-a6e2-14d9963e8fd9', metadata={'section': 'History'}, page_content='Cloudflare has acquired web-services and security companies, including StopTheHacker (February'), 0.5558441), (Document(id='1315a8ff-6509-4350-ae84-21e11da282b3', metadata={'section': 'Products'}, page_content='Push. As of 2023, Cloudflare handles an average of 45 million HTTP requests per second.'), 0.55429655), (Document(id='f5b0c9d0-89c2-43ec-a9b7-5a5b376a5a85', metadata={'section': 'Products'}, page_content='It supports transport layer protocols TCP, UDP, QUIC, and many application layer protocols such as'), 0.54969466), (Document(id='cc659763-37cb-42cb-bf09-465df1b5bc1a', metadata={'section': 'History'}, page_content='Cloudflare was founded in July 2009 by Matthew Prince, Lee Holloway, and Michelle Zatlyn. Prince'), 0.54691005), (Document(id='b467348b-9a9b-4bf1-9104-27570891c9e4', metadata={'section': 'History'}, page_content='2019, Cloudflare submitted its S-1 filing for an initial public offering on the New York Stock'), 0.533554), (Document(id='7966591b-ff56-4346-aca8-341daece01fc', metadata={'section': 'History'}, page_content='Networks (March 2024), BastionZero (May 2024), and Kivera (October 2024).'), 0.53296596), (Document(id='c7657276-c631-4331-98ec-af308387ea49', metadata={'section': 'Products'}, page_content='Verizon’s October 2024 outage.'), 0.53137076), (Document(id='9418e10c-426b-45fa-a1a4-672074310890', metadata={'section': 'Products'}, page_content='Cloudflare also provides analysis and reports on large-scale outages, including Verizon’s October'), 0.53107977), (Document(id='db5507e2-0103-4275-a9f8-466f977255c0', metadata={'section': 'History'}, page_content='a product of Unspam Technologies that served as some inspiration for the basis of Cloudflare. From'), 0.528889), (Document(id='9d840318-be0e-4cf7-8a60-eaab50d45c9e', metadata={'section': 'History'}, page_content='of Cloudflare. From 2009, the company was venture-capital funded. On August 15, 2019, Cloudflare'), 0.52717584), (Document(id='db9137cc-051b-4b20-8d49-8a32bb2b99a7', metadata={'section': 'History'}, page_content='(December 2021), Vectrix (February 2022), Area 1 Security (February 2022), Nefeli Networks (March'), 0.52209044), (Document(id='dfaffd2f-4492-444d-accf-180b1f841463', metadata={'section': 'Products'}, page_content='As of 2024, Cloudflare servers are powered by AMD EPYC 9684X processors.'), 0.5169676), (Document(id='65bbd754-22d1-435a-860a-9259f6cf7dea', metadata={'section': 'History'}, page_content='(February 2014), CryptoSeal (June 2014), Eager Platform Co. (December 2016), Neumob (November'), 0.5132974), (Document(id='1400609f-0937-4700-acde-6e770d2dbd12', metadata={'section': 'History'}, page_content='their San Francisco headquarters as a source of randomness for encryption keys, alongside double'), 0.50999177), (Document(id='b77cef8b-1140-4d92-891b-0048ea70ae3a', metadata={'section': 'History'}, page_content='Neumob (November 2017), S2 Systems (January 2020), Linc (December 2020), Zaraz (December 2021),'), 0.5092492)]\n"
          ]
        }
      ],
      "source": [
        "query_documents = cfVect.similarity_search_with_score(\n",
        "    index_name=vectorize_index_name,\n",
        "    query=\"DNS\",\n",
        "    k=100,\n",
        "    md_filter={\"section\": {\"$in\": [\"Products\", \"History\"]}},\n",
        "    return_metadata=\"all\",\n",
        ")\n",
        "print(f\"{len(query_documents)} results:\\n - {str(query_documents)}\")"
      ]
    },
    {
      "cell_type": "markdown",
      "metadata": {},
      "source": [
        "### 按命名空间搜索\n我们也可以通过 `namespace` 来搜索向量。 当将其添加到向量数据库时，我们只需将其添加到 `namespaces` 数组中。\n\nhttps://developers.cloudflare.com/vectorize/reference/metadata-filtering/#namespace-versus-metadata-filtering"
      ]
    },
    {
      "cell_type": "code",
      "execution_count": 37,
      "metadata": {
        "ExecuteTime": {
          "end_time": "2025-05-13T05:40:34.317910Z",
          "start_time": "2025-05-13T05:40:04.152057Z"
        }
      },
      "outputs": [],
      "source": [
        "namespace_name = f\"test-namespace-{uuid.uuid4().hex[:8]}\"\n",
        "\n",
        "new_documents = [\n",
        "    Document(\n",
        "        page_content=\"This is a new namespace specific document!\",\n",
        "        metadata={\"section\": \"Namespace Test1\"},\n",
        "    ),\n",
        "    Document(\n",
        "        page_content=\"This is another namespace specific document!\",\n",
        "        metadata={\"section\": \"Namespace Test2\"},\n",
        "    ),\n",
        "]\n",
        "\n",
        "r = cfVect.add_documents(\n",
        "    index_name=vectorize_index_name,\n",
        "    documents=new_documents,\n",
        "    namespaces=[namespace_name] * len(new_documents),\n",
        "    wait=True,\n",
        ")"
      ]
    },
    {
      "cell_type": "code",
      "execution_count": 38,
      "metadata": {
        "ExecuteTime": {
          "end_time": "2025-05-13T05:40:40.686003Z",
          "start_time": "2025-05-13T05:40:34.318561Z"
        }
      },
      "outputs": [
        {
          "name": "stdout",
          "output_type": "stream",
          "text": [
            "2 results:\n",
            " - [Document(id='65c4f7f4-aa4f-46b4-85ba-c90ea18dc7ed', metadata={'section': 'Namespace Test2', '_namespace': 'test-namespace-9cc13b96'}, page_content='This is another namespace specific document!'), Document(id='96350f98-7053-41c7-b6bb-5acdd3ab67bd', metadata={'section': 'Namespace Test1', '_namespace': 'test-namespace-9cc13b96'}, page_content='This is a new namespace specific document!')]\n"
          ]
        }
      ],
      "source": [
        "query_documents = cfVect.similarity_search(\n",
        "    index_name=vectorize_index_name,\n",
        "    query=\"California\",\n",
        "    namespace=namespace_name,\n",
        ")\n",
        "\n",
        "print(f\"{len(query_documents)} results:\\n - {str(query_documents)}\")"
      ]
    },
    {
      "cell_type": "markdown",
      "metadata": {
        "collapsed": false
      },
      "source": [
        "### 按 ID 搜索\n我们也可以检索特定 ID 的特定记录。为此，我们需要在 `index_name` Vectorize 状态参数中设置 vectorize 索引名称。\n\n这将返回 `_namespace` 和 `_values` 以及其他 `metadata`。"
      ]
    },
    {
      "cell_type": "code",
      "execution_count": 39,
      "metadata": {
        "ExecuteTime": {
          "end_time": "2025-05-13T05:40:40.694068Z",
          "start_time": "2025-05-13T05:40:40.688290Z"
        }
      },
      "outputs": [],
      "source": [
        "sample_ids = [x.id for x in query_documents]"
      ]
    },
    {
      "cell_type": "code",
      "execution_count": 40,
      "metadata": {
        "ExecuteTime": {
          "end_time": "2025-05-13T05:40:40.705385Z",
          "start_time": "2025-05-13T05:40:40.698526Z"
        }
      },
      "outputs": [],
      "source": [
        "cfVect.index_name = vectorize_index_name"
      ]
    },
    {
      "cell_type": "code",
      "execution_count": 41,
      "metadata": {
        "ExecuteTime": {
          "end_time": "2025-05-13T05:40:45.557475Z",
          "start_time": "2025-05-13T05:40:40.707940Z"
        },
        "collapsed": false
      },
      "outputs": [
        {
          "name": "stdout",
          "output_type": "stream",
          "text": [
            "[Document(id='65c4f7f4-aa4f-46b4-85ba-c90ea18dc7ed', metadata={'section': 'Namespace Test2', '_namespace': 'test-namespace-9cc13b96', '_values': [-0.0005841255, 0.014480591, 0.040771484, 0.005218506, 0.015579224, 0.0007543564, -0.005138397, -0.022720337, 0.021835327, 0.038970947, 0.017456055, 0.022705078, 0.013450623, -0.015686035, -0.019119263, -0.01512146, -0.017471313, -0.007183075, -0.054382324, -0.01914978, 0.0005302429, 0.018600464, -0.083740234, -0.006462097, 0.0005598068, 0.024230957, -0\n"
          ]
        }
      ],
      "source": [
        "query_documents = cfVect.get_by_ids(\n",
        "    sample_ids,\n",
        ")\n",
        "print(str(query_documents[:3])[:500])"
      ]
    },
    {
      "cell_type": "markdown",
      "metadata": {},
      "source": [
        "命名空间将包含在 `metadata` 的 `_namespace` 字段中，以及您的其他元数据（如果您在 `return_metadata` 中进行了请求）。"
      ]
    },
    {
      "cell_type": "markdown",
      "metadata": {},
      "source": [
        "**注意：** 您无法在 `metadata` 中设置 `_namespace` 或 `_values` 字段，因为它们是保留字段。它们将在插入过程中被剥离。"
      ]
    },
    {
      "cell_type": "markdown",
      "metadata": {},
      "source": [
        "### Upserts\n\nVectorize 支持 Upserts，你可以通过设置 `upsert=True` 来执行。"
      ]
    },
    {
      "cell_type": "code",
      "execution_count": 42,
      "metadata": {
        "ExecuteTime": {
          "end_time": "2025-05-13T05:40:45.562390Z",
          "start_time": "2025-05-13T05:40:45.558685Z"
        }
      },
      "outputs": [
        {
          "name": "stdout",
          "output_type": "stream",
          "text": [
            "Updated: This is another namespace specific document!\n"
          ]
        }
      ],
      "source": [
        "query_documents[0].page_content = \"Updated: \" + query_documents[0].page_content\n",
        "print(query_documents[0].page_content)"
      ]
    },
    {
      "cell_type": "code",
      "execution_count": 43,
      "metadata": {
        "ExecuteTime": {
          "end_time": "2025-05-13T05:40:45.569145Z",
          "start_time": "2025-05-13T05:40:45.564029Z"
        }
      },
      "outputs": [],
      "source": [
        "new_document_id = \"12345678910\"\n",
        "new_document = Document(\n",
        "    id=new_document_id,\n",
        "    page_content=\"This is a new document!\",\n",
        "    metadata={\"section\": \"Introduction\"},\n",
        ")"
      ]
    },
    {
      "cell_type": "code",
      "execution_count": 44,
      "metadata": {
        "ExecuteTime": {
          "end_time": "2025-05-13T05:41:04.904425Z",
          "start_time": "2025-05-13T05:40:45.570865Z"
        }
      },
      "outputs": [],
      "source": [
        "r = cfVect.add_documents(\n",
        "    index_name=vectorize_index_name,\n",
        "    documents=[new_document, query_documents[0]],\n",
        "    upsert=True,\n",
        "    wait=True,\n",
        ")"
      ]
    },
    {
      "cell_type": "code",
      "execution_count": 45,
      "metadata": {
        "ExecuteTime": {
          "end_time": "2025-05-13T05:41:06.539749Z",
          "start_time": "2025-05-13T05:41:04.905714Z"
        }
      },
      "outputs": [],
      "source": [
        "query_documents_updated = cfVect.get_by_ids([new_document_id, query_documents[0].id])"
      ]
    },
    {
      "cell_type": "code",
      "execution_count": 46,
      "metadata": {
        "ExecuteTime": {
          "end_time": "2025-05-13T05:41:06.542927Z",
          "start_time": "2025-05-13T05:41:06.540660Z"
        }
      },
      "outputs": [
        {
          "name": "stdout",
          "output_type": "stream",
          "text": [
            "page_content='This is a new document!' metadata={'section': 'Introduction', '_namespace': None, '_values': [-0.007522583, 0.0023021698, 0.009963989, 0.031051636, -0.021316528, 0.0048103333, 0.026046753, 0.01348114, 0.026306152, 0.040374756, 0.03225708, 0.007423401, 0.031021118, -0.007347107, -0.034179688, 0.002111435, -0.027191162, -0.020950317, -0.021636963, -0.0030593872, -0.04977417, 0.018859863, -0.08062744, -0.027679443, 0.012512207, 0.0053634644, 0.008079529, -0.010528564, 0.07312012, 0.02\n",
            "This is a new document!\n",
            "Updated: This is another namespace specific document!\n"
          ]
        }
      ],
      "source": [
        "print(str(query_documents_updated[0])[:500])\n",
        "print(query_documents_updated[0].page_content)\n",
        "print(query_documents_updated[1].page_content)"
      ]
    },
    {
      "cell_type": "markdown",
      "metadata": {
        "collapsed": false
      },
      "source": [
        "### 删除记录\n我们也可以通过 ID 来删除记录"
      ]
    },
    {
      "cell_type": "code",
      "execution_count": 47,
      "metadata": {
        "ExecuteTime": {
          "end_time": "2025-05-13T05:41:29.181103Z",
          "start_time": "2025-05-13T05:41:06.543465Z"
        },
        "collapsed": false
      },
      "outputs": [
        {
          "name": "stdout",
          "output_type": "stream",
          "text": [
            "True\n"
          ]
        }
      ],
      "source": [
        "r = cfVect.delete(index_name=vectorize_index_name, ids=sample_ids, wait=True)\n",
        "print(r)"
      ]
    },
    {
      "cell_type": "markdown",
      "metadata": {
        "collapsed": false
      },
      "source": [
        "以及确认删除"
      ]
    },
    {
      "cell_type": "code",
      "execution_count": 49,
      "metadata": {
        "ExecuteTime": {
          "end_time": "2025-05-13T05:43:17.713812Z",
          "start_time": "2025-05-13T05:43:10.741675Z"
        },
        "collapsed": false
      },
      "outputs": [],
      "source": [
        "query_documents = cfVect.get_by_ids(sample_ids)\n",
        "assert len(query_documents) == 0"
      ]
    },
    {
      "cell_type": "markdown",
      "metadata": {},
      "source": [
        "### 从文档创建\nLangChain 要求所有 vectorstores 都必须有一个 `from_documents` 方法，以便从文档实例化一个新的 Vectorstore。这比上面展示的单独的 `create`、`add` 步骤更简洁。\n\n您可以按照以下方式进行操作："
      ]
    },
    {
      "cell_type": "code",
      "execution_count": 50,
      "metadata": {
        "ExecuteTime": {
          "end_time": "2025-05-13T05:43:22.078653Z",
          "start_time": "2025-05-13T05:43:22.075918Z"
        },
        "collapsed": false
      },
      "outputs": [],
      "source": [
        "vectorize_index_name = \"test-langchain-from-docs\""
      ]
    },
    {
      "cell_type": "code",
      "execution_count": 51,
      "metadata": {
        "ExecuteTime": {
          "end_time": "2025-05-13T05:46:32.961234Z",
          "start_time": "2025-05-13T05:43:22.582050Z"
        },
        "collapsed": false
      },
      "outputs": [],
      "source": [
        "cfVect = CloudflareVectorize.from_documents(\n",
        "    account_id=cf_acct_id,\n",
        "    index_name=vectorize_index_name,\n",
        "    documents=texts,\n",
        "    embedding=embedder,\n",
        "    d1_database_id=d1_database_id,\n",
        "    d1_api_token=cf_d1_token,\n",
        "    vectorize_api_token=cf_vectorize_token,\n",
        "    wait=True,\n",
        ")"
      ]
    },
    {
      "cell_type": "code",
      "execution_count": 52,
      "metadata": {
        "ExecuteTime": {
          "end_time": "2025-05-13T05:46:36.767953Z",
          "start_time": "2025-05-13T05:46:32.962142Z"
        },
        "collapsed": false
      },
      "outputs": [
        {
          "name": "stdout",
          "output_type": "stream",
          "text": [
            "20 results:\n",
            "page_content='utilizing edge computing, reverse proxies for web traffic, data center interconnects, and a content' metadata={'section': 'Products'}\n"
          ]
        }
      ],
      "source": [
        "# query for documents\n",
        "query_documents = cfVect.similarity_search(\n",
        "    index_name=vectorize_index_name,\n",
        "    query=\"Edge Computing\",\n",
        ")\n",
        "\n",
        "print(f\"{len(query_documents)} results:\\n{str(query_documents[0])[:300]}\")"
      ]
    },
    {
      "cell_type": "markdown",
      "metadata": {
        "collapsed": false
      },
      "source": [
        "## 异步示例\n本节将展示一些异步示例"
      ]
    },
    {
      "cell_type": "markdown",
      "metadata": {
        "collapsed": false
      },
      "source": [
        "### 创建索引"
      ]
    },
    {
      "cell_type": "code",
      "execution_count": 55,
      "metadata": {
        "ExecuteTime": {
          "end_time": "2025-05-13T05:47:46.258496Z",
          "start_time": "2025-05-13T05:47:46.256052Z"
        }
      },
      "outputs": [],
      "source": [
        "vectorize_index_name1 = f\"test-langchain-{uuid.uuid4().hex}\"\n",
        "vectorize_index_name2 = f\"test-langchain-{uuid.uuid4().hex}\""
      ]
    },
    {
      "cell_type": "code",
      "execution_count": 56,
      "metadata": {
        "ExecuteTime": {
          "end_time": "2025-05-13T05:47:52.533905Z",
          "start_time": "2025-05-13T05:47:48.054530Z"
        },
        "collapsed": false
      },
      "outputs": [],
      "source": [
        "# depending on your notebook environment you might need to include these:\n",
        "# import nest_asyncio\n",
        "# nest_asyncio.apply()\n",
        "\n",
        "async_requests = [\n",
        "    cfVect.acreate_index(index_name=vectorize_index_name1),\n",
        "    cfVect.acreate_index(index_name=vectorize_index_name2),\n",
        "]\n",
        "\n",
        "res = await asyncio.gather(*async_requests);"
      ]
    },
    {
      "cell_type": "markdown",
      "metadata": {
        "collapsed": false
      },
      "source": [
        "### 创建元数据索引"
      ]
    },
    {
      "cell_type": "code",
      "execution_count": 57,
      "metadata": {
        "ExecuteTime": {
          "end_time": "2025-05-13T05:48:10.542021Z",
          "start_time": "2025-05-13T05:47:55.284495Z"
        },
        "collapsed": false
      },
      "outputs": [],
      "source": [
        "async_requests = [\n",
        "    cfVect.acreate_metadata_index(\n",
        "        property_name=\"section\",\n",
        "        index_type=\"string\",\n",
        "        index_name=vectorize_index_name1,\n",
        "        wait=True,\n",
        "    ),\n",
        "    cfVect.acreate_metadata_index(\n",
        "        property_name=\"section\",\n",
        "        index_type=\"string\",\n",
        "        index_name=vectorize_index_name2,\n",
        "        wait=True,\n",
        "    ),\n",
        "]\n",
        "\n",
        "await asyncio.gather(*async_requests);"
      ]
    },
    {
      "cell_type": "markdown",
      "metadata": {
        "collapsed": false
      },
      "source": [
        "### 添加文档"
      ]
    },
    {
      "cell_type": "code",
      "execution_count": 58,
      "metadata": {
        "ExecuteTime": {
          "end_time": "2025-05-13T05:48:50.706158Z",
          "start_time": "2025-05-13T05:48:17.442185Z"
        }
      },
      "outputs": [],
      "source": [
        "async_requests = [\n",
        "    cfVect.aadd_documents(index_name=vectorize_index_name1, documents=texts, wait=True),\n",
        "    cfVect.aadd_documents(index_name=vectorize_index_name2, documents=texts, wait=True),\n",
        "]\n",
        "\n",
        "await asyncio.gather(*async_requests);"
      ]
    },
    {
      "cell_type": "markdown",
      "metadata": {
        "collapsed": false
      },
      "source": [
        "### 查询/搜索"
      ]
    },
    {
      "cell_type": "code",
      "execution_count": 59,
      "metadata": {
        "ExecuteTime": {
          "end_time": "2025-05-13T05:48:56.430401Z",
          "start_time": "2025-05-13T05:48:50.706851Z"
        }
      },
      "outputs": [],
      "source": [
        "async_requests = [\n",
        "    cfVect.asimilarity_search(index_name=vectorize_index_name1, query=\"Workers AI\"),\n",
        "    cfVect.asimilarity_search(index_name=vectorize_index_name2, query=\"Edge Computing\"),\n",
        "]\n",
        "\n",
        "async_results = await asyncio.gather(*async_requests);"
      ]
    },
    {
      "cell_type": "code",
      "execution_count": 60,
      "metadata": {
        "ExecuteTime": {
          "end_time": "2025-05-13T05:48:56.433621Z",
          "start_time": "2025-05-13T05:48:56.431425Z"
        }
      },
      "outputs": [
        {
          "name": "stdout",
          "output_type": "stream",
          "text": [
            "20 results:\n",
            "page_content='In 2023, Cloudflare launched Workers AI, a framework allowing for use of Nvidia GPU's within'\n",
            "20 results:\n",
            "page_content='utilizing edge computing, reverse proxies for web traffic, data center interconnects, and a content'\n"
          ]
        }
      ],
      "source": [
        "print(f\"{len(async_results[0])} results:\\n{str(async_results[0][0])[:300]}\")\n",
        "print(f\"{len(async_results[1])} results:\\n{str(async_results[1][0])[:300]}\")"
      ]
    },
    {
      "cell_type": "markdown",
      "metadata": {
        "collapsed": false
      },
      "source": [
        "### 返回元数据/值"
      ]
    },
    {
      "cell_type": "code",
      "execution_count": 62,
      "metadata": {
        "ExecuteTime": {
          "end_time": "2025-05-13T05:49:13.545276Z",
          "start_time": "2025-05-13T05:49:11.373856Z"
        }
      },
      "outputs": [],
      "source": [
        "async_requests = [\n",
        "    cfVect.asimilarity_search(\n",
        "        index_name=vectorize_index_name1,\n",
        "        query=\"California\",\n",
        "        return_values=True,\n",
        "        return_metadata=\"all\",\n",
        "    ),\n",
        "    cfVect.asimilarity_search(\n",
        "        index_name=vectorize_index_name2,\n",
        "        query=\"California\",\n",
        "        return_values=True,\n",
        "        return_metadata=\"all\",\n",
        "    ),\n",
        "]\n",
        "\n",
        "async_results = await asyncio.gather(*async_requests);"
      ]
    },
    {
      "cell_type": "code",
      "execution_count": 63,
      "metadata": {
        "ExecuteTime": {
          "end_time": "2025-05-13T05:49:13.548757Z",
          "start_time": "2025-05-13T05:49:13.546263Z"
        }
      },
      "outputs": [
        {
          "name": "stdout",
          "output_type": "stream",
          "text": [
            "20 results:\n",
            "page_content='and other services. Cloudflare's headquarters are in San Francisco, California. According to' metadata={'section': 'Introduction', '_values': [-0.031219482, -0.018295288, -0.006000519, 0.017532349, 0.016403198, -0.029922485, -0.007133484, 0.004447937, 0.04559326, -0.011405945, 0.034820\n",
            "20 results:\n",
            "page_content='and other services. Cloudflare's headquarters are in San Francisco, California. According to' metadata={'section': 'Introduction', '_values': [-0.031219482, -0.018295288, -0.006000519, 0.017532349, 0.016403198, -0.029922485, -0.007133484, 0.004447937, 0.04559326, -0.011405945, 0.034820\n"
          ]
        }
      ],
      "source": [
        "print(f\"{len(async_results[0])} results:\\n{str(async_results[0][0])[:300]}\")\n",
        "print(f\"{len(async_results[1])} results:\\n{str(async_results[1][0])[:300]}\")"
      ]
    },
    {
      "cell_type": "markdown",
      "metadata": {},
      "source": [
        "### 使用元数据过滤搜索"
      ]
    },
    {
      "cell_type": "code",
      "execution_count": 64,
      "metadata": {
        "ExecuteTime": {
          "end_time": "2025-05-13T05:49:51.760893Z",
          "start_time": "2025-05-13T05:49:48.661638Z"
        }
      },
      "outputs": [],
      "source": [
        "async_requests = [\n",
        "    cfVect.asimilarity_search(\n",
        "        index_name=vectorize_index_name1,\n",
        "        query=\"Cloudflare services\",\n",
        "        k=2,\n",
        "        md_filter={\"section\": \"Products\"},\n",
        "        return_metadata=\"all\",\n",
        "        # return_values=True\n",
        "    ),\n",
        "    cfVect.asimilarity_search(\n",
        "        index_name=vectorize_index_name2,\n",
        "        query=\"Cloudflare services\",\n",
        "        k=2,\n",
        "        md_filter={\"section\": \"Products\"},\n",
        "        return_metadata=\"all\",\n",
        "        # return_values=True\n",
        "    ),\n",
        "]\n",
        "\n",
        "async_results = await asyncio.gather(*async_requests);"
      ]
    },
    {
      "cell_type": "code",
      "execution_count": 66,
      "metadata": {
        "ExecuteTime": {
          "end_time": "2025-05-13T05:49:55.359884Z",
          "start_time": "2025-05-13T05:49:55.357763Z"
        }
      },
      "outputs": [
        {
          "name": "stdout",
          "output_type": "stream",
          "text": [
            "9 results:\n",
            "page_content='It supports transport layer protocols TCP, UDP, QUIC, and many application layer protocols such as' metadata={'section': 'Products'}\n",
            "9 results:\n",
            "page_content='Cloudflare provides network and security products for consumers and businesses, utilizing edge' metadata={'section': 'Products'}\n"
          ]
        }
      ],
      "source": [
        "print(f\"{len(async_results[0])} results:\\n{str(async_results[0][-1])[:300]}\")\n",
        "print(f\"{len(async_results[1])} results:\\n{str(async_results[1][0])[:300]}\")"
      ]
    },
    {
      "cell_type": "markdown",
      "metadata": {},
      "source": [
        "## 清理\n我们将在笔记本的最后删除所有已创建的索引。"
      ]
    },
    {
      "cell_type": "code",
      "execution_count": 67,
      "metadata": {
        "ExecuteTime": {
          "end_time": "2025-05-13T05:50:07.381737Z",
          "start_time": "2025-05-13T05:50:05.330842Z"
        }
      },
      "outputs": [],
      "source": [
        "arr_indexes = cfVect.list_indexes()\n",
        "arr_indexes = [x for x in arr_indexes if \"test-langchain\" in x.get(\"name\")]"
      ]
    },
    {
      "cell_type": "code",
      "execution_count": 68,
      "metadata": {
        "ExecuteTime": {
          "end_time": "2025-05-13T05:50:10.440360Z",
          "start_time": "2025-05-13T05:50:07.382653Z"
        },
        "collapsed": false
      },
      "outputs": [],
      "source": [
        "arr_async_requests = [\n",
        "    cfVect.adelete_index(index_name=x.get(\"name\")) for x in arr_indexes\n",
        "]\n",
        "await asyncio.gather(*arr_async_requests);"
      ]
    },
    {
      "cell_type": "markdown",
      "metadata": {},
      "source": [
        "## API 参考"
      ]
    },
    {
      "cell_type": "markdown",
      "metadata": {},
      "source": [
        "https://developers.cloudflare.com/api/resources/vectorize/\n\nhttps://developers.cloudflare.com/vectorize/"
      ]
    }
  ],
  "metadata": {
    "kernelspec": {
      "display_name": "cc-langchain-G_cWTCcf-py3.11",
      "language": "python",
      "name": "python3"
    },
    "language_info": {
      "codemirror_mode": {
        "name": "ipython",
        "version": 3
      },
      "file_extension": ".py",
      "mimetype": "text/x-python",
      "name": "python",
      "nbconvert_exporter": "python",
      "pygments_lexer": "ipython3",
      "version": "3.11.0"
    }
  },
  "nbformat": 4,
  "nbformat_minor": 0
}