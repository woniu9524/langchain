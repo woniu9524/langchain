{
  "cells": [
    {
      "attachments": {},
      "cell_type": "markdown",
      "id": "683953b3",
      "metadata": {},
      "source": [
        "# Pinecone\n\n>[Pinecone](https://docs.pinecone.io/docs/overview) 是一个功能丰富的向量数据库。\n\n本 Notebook 展示了如何使用与 `PineconeVectorStore` 向量数据库相关的功能。\n\n## 设置\n\n要使用 `PineconeVectorStore`，您首先需要安装相应的包，以及本 Notebook 中将要使用的其他包。"
      ]
    },
    {
      "cell_type": "code",
      "execution_count": null,
      "id": "b4c41cad-08ef-4f72-a545-2151e4598efe",
      "metadata": {
        "tags": []
      },
      "outputs": [],
      "source": [
        "pip install -qU langchain langchain-pinecone langchain-openai"
      ]
    },
    {
      "cell_type": "markdown",
      "id": "1917d123",
      "metadata": {},
      "source": [
        "迁移注意事项：如果您正在从 `langchain_community.vectorstores` 迁移 Pinecone 实现，您可能需要在安装依赖于 `pinecone-client` v6 的 `langchain-pinecone` 之前，移除 `pinecone-client` v2 依赖。"
      ]
    },
    {
      "cell_type": "markdown",
      "id": "ef6dc4de",
      "metadata": {},
      "source": [
        "### 凭证\n\n创建一个新的 Pinecone 账户，或登录您现有的账户，并创建一个 API 密钥以供在此笔记本中使用。"
      ]
    },
    {
      "cell_type": "code",
      "execution_count": null,
      "id": "eb554814",
      "metadata": {},
      "outputs": [],
      "source": [
        "import getpass\n",
        "import os\n",
        "\n",
        "from pinecone import Pinecone\n",
        "\n",
        "if not os.getenv(\"PINECONE_API_KEY\"):\n",
        "    os.environ[\"PINECONE_API_KEY\"] = getpass.getpass(\"Enter your Pinecone API key: \")\n",
        "\n",
        "pinecone_api_key = os.environ.get(\"PINECONE_API_KEY\")\n",
        "\n",
        "pc = Pinecone(api_key=pinecone_api_key)"
      ]
    },
    {
      "cell_type": "markdown",
      "id": "6ef1d828",
      "metadata": {},
      "source": [
        "如果您想自动跟踪模型的调用，还可以通过取消注释以下行来设置您的 [LangSmith](https://docs.smith.langchain.com/) API 密钥："
      ]
    },
    {
      "cell_type": "code",
      "execution_count": 5,
      "id": "23b5ac5e",
      "metadata": {},
      "outputs": [],
      "source": [
        "# os.environ[\"LANGSMITH_API_KEY\"] = getpass.getpass(\"Enter your LangSmith API key: \")\n",
        "# os.environ[\"LANGSMITH_TRACING\"] = \"true\""
      ]
    },
    {
      "cell_type": "markdown",
      "id": "658706a3",
      "metadata": {},
      "source": [
        "## 初始化\n\n在初始化向量存储之前，让我们先连接到 Pinecone 索引。如果名为 `index_name` 的索引不存在，它将被创建。"
      ]
    },
    {
      "cell_type": "code",
      "execution_count": 4,
      "id": "276a06dd",
      "metadata": {},
      "outputs": [],
      "source": [
        "from pinecone import ServerlessSpec\n",
        "\n",
        "index_name = \"langchain-test-index\"  # change if desired\n",
        "\n",
        "if not pc.has_index(index_name):\n",
        "    pc.create_index(\n",
        "        name=index_name,\n",
        "        dimension=1536,\n",
        "        metric=\"cosine\",\n",
        "        spec=ServerlessSpec(cloud=\"aws\", region=\"us-east-1\"),\n",
        "    )\n",
        "\n",
        "index = pc.Index(index_name)"
      ]
    },
    {
      "cell_type": "code",
      "execution_count": 5,
      "id": "1485db56",
      "metadata": {},
      "outputs": [],
      "source": [
        "from langchain_openai import OpenAIEmbeddings\n",
        "\n",
        "embeddings = OpenAIEmbeddings(model=\"text-embedding-3-small\")"
      ]
    },
    {
      "cell_type": "code",
      "execution_count": 6,
      "id": "6e104aee",
      "metadata": {},
      "outputs": [],
      "source": [
        "from langchain_pinecone import PineconeVectorStore\n",
        "\n",
        "vector_store = PineconeVectorStore(index=index, embedding=embeddings)"
      ]
    },
    {
      "cell_type": "markdown",
      "id": "48721e29",
      "metadata": {},
      "source": [
        "## 管理向量存储\n\n创建完向量存储后，我们可以通过添加和删除不同的项与其进行交互。\n\n### 向向量存储添加项\n\n我们可以使用 `add_documents` 函数向向量存储添加项。"
      ]
    },
    {
      "cell_type": "code",
      "execution_count": null,
      "id": "70e688f4",
      "metadata": {},
      "outputs": [],
      "source": [
        "from uuid import uuid4\n",
        "\n",
        "from langchain_core.documents import Document\n",
        "\n",
        "document_1 = Document(\n",
        "    page_content=\"I had chocolate chip pancakes and scrambled eggs for breakfast this morning.\",\n",
        "    metadata={\"source\": \"tweet\"},\n",
        ")\n",
        "\n",
        "document_2 = Document(\n",
        "    page_content=\"The weather forecast for tomorrow is cloudy and overcast, with a high of 62 degrees.\",\n",
        "    metadata={\"source\": \"news\"},\n",
        ")\n",
        "\n",
        "document_3 = Document(\n",
        "    page_content=\"Building an exciting new project with LangChain - come check it out!\",\n",
        "    metadata={\"source\": \"tweet\"},\n",
        ")\n",
        "\n",
        "document_4 = Document(\n",
        "    page_content=\"Robbers broke into the city bank and stole $1 million in cash.\",\n",
        "    metadata={\"source\": \"news\"},\n",
        ")\n",
        "\n",
        "document_5 = Document(\n",
        "    page_content=\"Wow! That was an amazing movie. I can't wait to see it again.\",\n",
        "    metadata={\"source\": \"tweet\"},\n",
        ")\n",
        "\n",
        "document_6 = Document(\n",
        "    page_content=\"Is the new iPhone worth the price? Read this review to find out.\",\n",
        "    metadata={\"source\": \"website\"},\n",
        ")\n",
        "\n",
        "document_7 = Document(\n",
        "    page_content=\"The top 10 soccer players in the world right now.\",\n",
        "    metadata={\"source\": \"website\"},\n",
        ")\n",
        "\n",
        "document_8 = Document(\n",
        "    page_content=\"LangGraph is the best framework for building stateful, agentic applications!\",\n",
        "    metadata={\"source\": \"tweet\"},\n",
        ")\n",
        "\n",
        "document_9 = Document(\n",
        "    page_content=\"The stock market is down 500 points today due to fears of a recession.\",\n",
        "    metadata={\"source\": \"news\"},\n",
        ")\n",
        "\n",
        "document_10 = Document(\n",
        "    page_content=\"I have a bad feeling I am going to get deleted :(\",\n",
        "    metadata={\"source\": \"tweet\"},\n",
        ")\n",
        "\n",
        "documents = [\n",
        "    document_1,\n",
        "    document_2,\n",
        "    document_3,\n",
        "    document_4,\n",
        "    document_5,\n",
        "    document_6,\n",
        "    document_7,\n",
        "    document_8,\n",
        "    document_9,\n",
        "    document_10,\n",
        "]\n",
        "uuids = [str(uuid4()) for _ in range(len(documents))]\n",
        "vector_store.add_documents(documents=documents, ids=uuids)"
      ]
    },
    {
      "cell_type": "markdown",
      "id": "120922b3",
      "metadata": {},
      "source": [
        "### 从向量存储中删除项目"
      ]
    },
    {
      "cell_type": "code",
      "execution_count": 8,
      "id": "5b8437cd",
      "metadata": {},
      "outputs": [],
      "source": [
        "vector_store.delete(ids=[uuids[-1]])"
      ]
    },
    {
      "cell_type": "markdown",
      "id": "5ee21c89",
      "metadata": {},
      "source": [
        "## 查询向量存储\n\n一旦创建了向量存储并将相关文档添加进去，在运行你的链或代理的过程中，你很可能希望对其进行查询。\n\n### 直接查询\n\n执行简单的相似性搜索可以按以下方式完成："
      ]
    },
    {
      "cell_type": "code",
      "execution_count": 9,
      "id": "ffbcb3fb",
      "metadata": {},
      "outputs": [],
      "source": [
        "results = vector_store.similarity_search(\n",
        "    \"LangChain provides abstractions to make working with LLMs easy\",\n",
        "    k=2,\n",
        "    filter={\"source\": \"tweet\"},\n",
        ")\n",
        "for res in results:\n",
        "    print(f\"* {res.page_content} [{res.metadata}]\")"
      ]
    },
    {
      "cell_type": "markdown",
      "id": "79f3494d",
      "metadata": {},
      "source": [
        "#### 相似度搜索（含分数）\n\n您也可以使用分数进行搜索："
      ]
    },
    {
      "cell_type": "code",
      "execution_count": null,
      "id": "5fb24583",
      "metadata": {},
      "outputs": [],
      "source": [
        "results = vector_store.similarity_search_with_score(\n",
        "    \"Will it be hot tomorrow?\", k=1, filter={\"source\": \"news\"}\n",
        ")\n",
        "for res, score in results:\n",
        "    print(f\"* [SIM={score:3f}] {res.page_content} [{res.metadata}]\")"
      ]
    },
    {
      "cell_type": "markdown",
      "id": "1855941b",
      "metadata": {},
      "source": [
        "#### 其他搜索方法\n\n本笔记本中未列出更多搜索方法（例如 MMR），要查找所有这些方法，请务必阅读 [API 参考](https://python.langchain.com/api_reference/pinecone/vectorstores/langchain_pinecone.vectorstores.PineconeVectorStore.html)。\n\n### 通过转换为检索器进行查询\n\n您还可以将向量存储转换为检索器，以便在链中更轻松地使用。"
      ]
    },
    {
      "cell_type": "code",
      "execution_count": null,
      "id": "78140e87",
      "metadata": {},
      "outputs": [],
      "source": [
        "retriever = vector_store.as_retriever(\n",
        "    search_type=\"similarity_score_threshold\",\n",
        "    search_kwargs={\"k\": 1, \"score_threshold\": 0.4},\n",
        ")\n",
        "retriever.invoke(\"Stealing from the bank is a crime\", filter={\"source\": \"news\"})"
      ]
    },
    {
      "cell_type": "markdown",
      "id": "72990cb5",
      "metadata": {},
      "source": [
        "## 用于检索增强一代的使用方法\n\n有关如何将此向量存储用于检索增强生成（RAG）的指南，请参阅以下章节：\n\n- [教程](/docs/tutorials/)\n- [操作指南：使用 RAG 进行问答](https://python.langchain.com/docs/how_to/#qa-with-rag)\n- [检索概念文档](https://python.langchain.com/docs/concepts/retrieval)"
      ]
    },
    {
      "cell_type": "markdown",
      "id": "0d5722bc",
      "metadata": {},
      "source": [
        "## API 参考\n\n有关所有功能和配置的详细文档，请访问 API 参考：https://python.langchain.com/api_reference/pinecone/vectorstores/langchain_pinecone.vectorstores.PineconeVectorStore.html"
      ]
    }
  ],
  "metadata": {
    "kernelspec": {
      "display_name": ".venv",
      "language": "python",
      "name": "python3"
    },
    "language_info": {
      "codemirror_mode": {
        "name": "ipython",
        "version": 3
      },
      "file_extension": ".py",
      "mimetype": "text/x-python",
      "name": "python",
      "nbconvert_exporter": "python",
      "pygments_lexer": "ipython3",
      "version": "3.10.15"
    }
  },
  "nbformat": 4,
  "nbformat_minor": 5
}