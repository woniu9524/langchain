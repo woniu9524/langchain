{
  "cells": [
    {
      "cell_type": "markdown",
      "id": "559f8e0e",
      "metadata": {},
      "source": [
        "# Vectara\n\n[Vectara](https://vectara.com/) 是一个值得信赖的 AI 助手和代理平台，专注于企业级任务的关键应用就绪性。\nVectara 无服务器 RAG 即服务通过易于使用的 API 提供了 RAG 的所有组件，包括：\n1. 从文件（PDF、PPT、DOCX 等）提取文本的方法。\n2. 提供行业领先性能的基于 ML 的切块。\n3. [Boomerang](https://vectara.com/how-boomerang-takes-retrieval-augmented-generation-to-the-next-level-via-grounded-generation/) 嵌入模型。\n4. 其内部向量数据库，用于存储文本块和嵌入向量。\n5. 查询服务，自动将查询编码为嵌入，并检索最相关的文本片段，包括对 [混合搜索](https://docs.vectara.com/docs/api-reference/search-apis/lexical-matching) 的支持，以及多种重排选项，如 [多语言相关性重排器](https://www.vectara.com/blog/deep-dive-into-vectara-multilingual-reranker-v1-state-of-the-art-reranker-across-100-languages)、[MMR](https://vectara.com/get-diverse-results-and-comprehensive-summaries-with-vectaras-mmr-reranker/)、[UDF 重排器](https://vectara.com/blog/rag-with-user-defined-functions-based-reranking)。\n6. 一个 LLM，用于基于检索到的文档（上下文）创建 [生成式摘要](https://docs.vectara.com/docs/learn/grounded-generation/grounded-generation-overview)，包括引用。\n\n更多信息：\n- [文档](https://docs.vectara.com/docs/)\n- [API Playground](https://docs.vectara.com/docs/rest-api/)\n- [快速入门](https://docs.vectara.com/docs/quickstart)\n\n本 Notebook 展示了如何使用基本检索功能，将 Vectara 用作 Vector Store（不进行摘要），包括：`similarity_search` 和 `similarity_search_with_score`，以及使用 LangChain 的 `as_retriever` 功能。\n\n\n## 设置\n\n要使用 `VectaraVectorStore`，您首先需要安装配套包。"
      ]
    },
    {
      "cell_type": "code",
      "execution_count": null,
      "id": "dfdf03ba-d6f5-4b1e-86d3-a65c4bc99aa1",
      "metadata": {},
      "outputs": [],
      "source": [
        "!uv pip install -U pip && uv pip install -qU langchain-vectara"
      ]
    },
    {
      "cell_type": "markdown",
      "id": "e97dcf11",
      "metadata": {},
      "source": [
        "# 入门指南\n\n准备开始，请按照以下步骤操作：\n1. 如果还没有，请先[注册](https://www.vectara.com/integrations/langchain)以获取免费的 Vectara 试用版。\n2. 在您的账户中，您可以创建一个或多个语料库。每个语料库代表一个区域，用于在摄入输入文档时存储文本数据。要创建语料库，请使用 **“创建语料库”** 按钮。然后，为您创建的语料库提供一个名称和描述。您可以选择性地定义筛选属性并应用一些高级选项。如果您点击已创建的语料库，您可以在顶部看到其名称和语料库 ID。\n3. 接下来，您需要创建 API 密钥来访问该语料库。在语料库视图中点击 **“访问控制”** 选项卡，然后点击 **“创建 API 密钥”** 按钮。为您的密钥命名，并选择是只需要查询权限还是查询+索引权限。点击“创建”，您现在就拥有了一个有效的 API 密钥。请妥善保管此密钥。\n\n要将 LangChain 与 Vectara 结合使用，您需要获取这两个值：`corpus_key` 和 `api_key`。\n您可以通过两种方式将 `VECTARA_API_KEY` 提供给 LangChain：\n\n1. 在您的环境中包含这两个变量：`VECTARA_API_KEY`。\n\n   例如，您可以使用 `os.environ` 和 `getpass` 设置这些变量，如下所示：\n\n```python\nimport os\nimport getpass\n\nos.environ[\"VECTARA_API_KEY\"] = getpass.getpass(\"Vectara API Key:\")\n```\n\n2. 将它们添加到 `Vectara` 向量存储构造函数中：\n\n```python\nvectara = Vectara(\n    vectara_api_key=vectara_api_key\n)\n```\n\n在本笔记本中，我们假设它们已在环境中提供。"
      ]
    },
    {
      "cell_type": "code",
      "execution_count": 4,
      "id": "aac7a9a6",
      "metadata": {},
      "outputs": [],
      "source": [
        "import os\n",
        "\n",
        "os.environ[\"VECTARA_API_KEY\"] = \"<VECTARA_API_KEY>\"\n",
        "os.environ[\"VECTARA_CORPUS_KEY\"] = \"VECTARA_CORPUS_KEY\"\n",
        "\n",
        "from langchain_vectara import Vectara\n",
        "from langchain_vectara.vectorstores import (\n",
        "    ChainReranker,\n",
        "    CorpusConfig,\n",
        "    CustomerSpecificReranker,\n",
        "    File,\n",
        "    GenerationConfig,\n",
        "    MmrReranker,\n",
        "    SearchConfig,\n",
        "    VectaraQueryConfig,\n",
        ")\n",
        "\n",
        "vectara = Vectara(vectara_api_key=os.getenv(\"VECTARA_API_KEY\"))"
      ]
    },
    {
      "cell_type": "markdown",
      "id": "875ffb7e",
      "metadata": {},
      "source": [
        "首先，我们将 state-of-the-union 文本加载到 Vectara 中。\n\n请注意，我们使用的是 `add_files` 接口，该接口不需要任何本地处理或分块——Vectara 接收文件内容并执行所有必要的前期处理、分块和嵌入操作，将其存入其知识库。\n\n在本例中，我们使用的是 `.txt` 文件，但对于许多其他[文件类型](https://docs.vectara.com/docs/api-reference/indexing-apis/file-upload/file-upload-filetypes)，情况也同样适用。"
      ]
    },
    {
      "cell_type": "code",
      "execution_count": 5,
      "id": "be0a4973",
      "metadata": {},
      "outputs": [
        {
          "data": {
            "text/plain": [
              "['state_of_the_union.txt']"
            ]
          },
          "execution_count": 5,
          "metadata": {},
          "output_type": "execute_result"
        }
      ],
      "source": [
        "corpus_key = os.getenv(\"VECTARA_CORPUS_KEY\")\n",
        "file_obj = File(\n",
        "    file_path=\"../document_loaders/example_data/state_of_the_union.txt\",\n",
        "    metadata={\"source\": \"text_file\"},\n",
        ")\n",
        "vectara.add_files([file_obj], corpus_key)"
      ]
    },
    {
      "cell_type": "markdown",
      "id": "22a6b953",
      "metadata": {},
      "source": [
        "## Vectara RAG (检索增强生成)\n\n现在，我们创建一个 `VectaraQueryConfig` 对象来控制检索和摘要选项：\n* 我们启用摘要功能，指定希望 LLM 选择匹配度最高的 7 个块，并用英语进行回复。\n\n使用此配置，让我们创建一个 LangChain `Runnable` 对象，该对象封装了完整的 Vectara RAG 管道，使用了 `as_rag` 方法："
      ]
    },
    {
      "cell_type": "code",
      "execution_count": 6,
      "id": "9ecda054-96a8-4a91-aeae-32006efb1ac8",
      "metadata": {},
      "outputs": [
        {
          "data": {
            "text/plain": [
              "\"President Biden discussed several key issues in his recent statements. He emphasized the importance of keeping schools open and noted that with a high vaccination rate and reduced hospitalizations, most Americans can safely return to normal activities without masks [1]. He addressed the need to hold social media platforms accountable for their impact on children and called for stronger privacy protections and mental health services [2]. Biden also announced measures against Russian oligarchs, including closing American airspace to Russian flights and targeting their assets, as part of efforts to weaken Russia's economy [3], [7]. Additionally, he reaffirmed the need to protect women's rights, particularly the right to choose as affirmed in Roe v. Wade [5].\""
            ]
          },
          "execution_count": 6,
          "metadata": {},
          "output_type": "execute_result"
        }
      ],
      "source": [
        "generation_config = GenerationConfig(\n",
        "    max_used_search_results=7,\n",
        "    response_language=\"eng\",\n",
        "    generation_preset_name=\"vectara-summary-ext-24-05-med-omni\",\n",
        "    enable_factual_consistency_score=True,\n",
        ")\n",
        "search_config = SearchConfig(\n",
        "    corpora=[CorpusConfig(corpus_key=corpus_key)],\n",
        "    limit=25,\n",
        "    reranker=ChainReranker(\n",
        "        rerankers=[\n",
        "            CustomerSpecificReranker(reranker_id=\"rnk_272725719\", limit=100),\n",
        "            MmrReranker(diversity_bias=0.2, limit=100),\n",
        "        ]\n",
        "    ),\n",
        ")\n",
        "\n",
        "config = VectaraQueryConfig(\n",
        "    search=search_config,\n",
        "    generation=generation_config,\n",
        ")\n",
        "\n",
        "query_str = \"what did Biden say?\"\n",
        "\n",
        "rag = vectara.as_rag(config)\n",
        "rag.invoke(query_str)[\"answer\"]"
      ]
    },
    {
      "cell_type": "markdown",
      "id": "cd825d63-93a0-4e45-a455-bfabb01ee1a1",
      "metadata": {},
      "source": [
        "我们也可以像这样使用流式接口："
      ]
    },
    {
      "cell_type": "code",
      "execution_count": 7,
      "id": "27f01330-8917-4eff-b603-59ab2571a4d2",
      "metadata": {},
      "outputs": [
        {
          "name": "stdout",
          "output_type": "stream",
          "text": [
            "President Biden discussed several key issues in his recent statements. He emphasized the importance of keeping schools open and noted that with a high vaccination rate and reduced hospitalizations, most Americans can safely return to normal activities without masks [1]. He addressed the need to hold social media platforms accountable for their impact on children and called for stronger privacy protections and mental health services [2]. Biden also announced measures against Russia, including preventing its central bank from defending the Ruble and targeting Russian oligarchs' assets, as part of efforts to weaken Russia's economy and military [3]. Additionally, he reaffirmed the commitment to protect women's rights, particularly the right to choose as affirmed in Roe v. Wade [5]. Lastly, he advocated for funding the police with necessary resources and training to ensure community safety [6]."
          ]
        }
      ],
      "source": [
        "output = {}\n",
        "curr_key = None\n",
        "for chunk in rag.stream(query_str):\n",
        "    for key in chunk:\n",
        "        if key not in output:\n",
        "            output[key] = chunk[key]\n",
        "        else:\n",
        "            output[key] += chunk[key]\n",
        "        if key == \"answer\":\n",
        "            print(chunk[key], end=\"\", flush=True)\n",
        "        curr_key = key"
      ]
    },
    {
      "cell_type": "markdown",
      "id": "7eaf871d-eba2-46b1-bfa3-b9c82947d2be",
      "metadata": {},
      "source": [
        "## 幻觉检测与事实一致性评分\n\nVectara 推出了 [HHEM](https://huggingface.co/vectara/hallucination_evaluation_model) - 一个开源模型，可用于评估 RAG 响应的事实一致性。\n\n作为 Vectara RAG 的一部分，\"事实一致性评分\"（FCS），它是开源 HHEM 的改进版本，已通过 API 提供。这会自动包含在 RAG 管道的输出中。"
      ]
    },
    {
      "cell_type": "code",
      "execution_count": 8,
      "id": "b2e0aa2c-7c8e-4d79-8abc-66f5a1f961b3",
      "metadata": {},
      "outputs": [
        {
          "name": "stdout",
          "output_type": "stream",
          "text": [
            "President Biden discussed several key topics in his recent statements. He emphasized the importance of keeping schools open and noted that with a high vaccination rate and reduced hospitalizations, most Americans can safely return to normal activities without masks [1]. He addressed the need to hold social media platforms accountable for their impact on children and called for stronger privacy protections and mental health services [2]. Biden also announced measures against Russian oligarchs, including closing American airspace to Russian flights and targeting their assets, as part of efforts to weaken Russia's economy [3], [7]. Additionally, he reaffirmed the need to protect women's rights, particularly the right to choose as affirmed in Roe v. Wade [5].\n",
            "Vectara FCS = 0.61621094\n"
          ]
        }
      ],
      "source": [
        "resp = rag.invoke(query_str)\n",
        "print(resp[\"answer\"])\n",
        "print(f\"Vectara FCS = {resp['fcs']}\")"
      ]
    },
    {
      "cell_type": "markdown",
      "id": "b651396a-5726-4d49-bacf-c9d7a5ddcf7a",
      "metadata": {},
      "source": [
        "## Vectara 作为 Langchain 的检索器\n\nVectara 组件也可以用作检索器。\n\n在这种情况下，它的行为与其他任何 LangChain 检索器一样。此模式的主要用途是语义搜索，在此情况下我们禁用摘要功能："
      ]
    },
    {
      "cell_type": "code",
      "execution_count": 9,
      "id": "19cd2f86",
      "metadata": {},
      "outputs": [
        {
          "data": {
            "text/plain": [
              "[Document(metadata={'X-TIKA:Parsed-By': 'org.apache.tika.parser.csv.TextAndCSVParser', 'Content-Encoding': 'UTF-8', 'X-TIKA:detectedEncoding': 'UTF-8', 'X-TIKA:encodingDetector': 'UniversalEncodingDetector', 'Content-Type': 'text/plain; charset=UTF-8', 'source': 'text_file', 'framework': 'langchain'}, page_content='The U.S. Department of Justice is assembling a dedicated task force to go after the crimes of Russian oligarchs. We are joining with our European allies to find and seize your yachts your luxury apartments your private jets. We are coming for your ill-begotten gains. And tonight I am announcing that we will join our allies in closing off American air space to all Russian flights – further isolating Russia – and adding an additional squeeze –on their economy. The Ruble has lost 30% of its value.'),\n",
              " Document(metadata={'X-TIKA:Parsed-By': 'org.apache.tika.parser.csv.TextAndCSVParser', 'Content-Encoding': 'UTF-8', 'X-TIKA:detectedEncoding': 'UTF-8', 'X-TIKA:encodingDetector': 'UniversalEncodingDetector', 'Content-Type': 'text/plain; charset=UTF-8', 'source': 'text_file', 'framework': 'langchain'}, page_content='When they came home, many of the world’s fittest and best trained warriors were never the same. Dizziness. \\n\\nA cancer that would put them in a flag-draped coffin. I know. \\n\\nOne of those soldiers was my son Major Beau Biden. We don’t know for sure if a burn pit was the cause of his brain cancer, or the diseases of so many of our troops. But I’m committed to finding out everything we can.'),\n",
              " Document(metadata={'X-TIKA:Parsed-By': 'org.apache.tika.parser.csv.TextAndCSVParser', 'Content-Encoding': 'UTF-8', 'X-TIKA:detectedEncoding': 'UTF-8', 'X-TIKA:encodingDetector': 'UniversalEncodingDetector', 'Content-Type': 'text/plain; charset=UTF-8', 'source': 'text_file', 'framework': 'langchain'}, page_content='He rejected repeated efforts at diplomacy. He thought the West and NATO wouldn’t respond. And he thought he could divide us at home. We were ready.  Here is what we did. We prepared extensively and carefully.'),\n",
              " Document(metadata={'X-TIKA:Parsed-By': 'org.apache.tika.parser.csv.TextAndCSVParser', 'Content-Encoding': 'UTF-8', 'X-TIKA:detectedEncoding': 'UTF-8', 'X-TIKA:encodingDetector': 'UniversalEncodingDetector', 'Content-Type': 'text/plain; charset=UTF-8', 'source': 'text_file', 'framework': 'langchain'}, page_content='And while you’re at it, pass the Disclose Act so Americans can know who is funding our elections. Tonight, I’d like to honor someone who has dedicated his life to serve this country: Justice Stephen Breyer—an Army veteran, Constitutional scholar, and retiring Justice of the United States Supreme Court. Justice Breyer, thank you for your service. One of the most serious constitutional responsibilities a President has is nominating someone to serve on the United States Supreme Court. And I did that 4 days ago, when I nominated Circuit Court of Appeals Judge Ketanji Brown Jackson.'),\n",
              " Document(metadata={'X-TIKA:Parsed-By': 'org.apache.tika.parser.csv.TextAndCSVParser', 'Content-Encoding': 'UTF-8', 'X-TIKA:detectedEncoding': 'UTF-8', 'X-TIKA:encodingDetector': 'UniversalEncodingDetector', 'Content-Type': 'text/plain; charset=UTF-8', 'source': 'text_file', 'framework': 'langchain'}, page_content='Putin’s latest attack on Ukraine was premeditated and unprovoked. He rejected repeated efforts at diplomacy. He thought the West and NATO wouldn’t respond. And he thought he could divide us at home. We were ready.  Here is what we did.')]"
            ]
          },
          "execution_count": 9,
          "metadata": {},
          "output_type": "execute_result"
        }
      ],
      "source": [
        "config.generation = None\n",
        "config.search.limit = 5\n",
        "retriever = vectara.as_retriever(config=config)\n",
        "retriever.invoke(query_str)"
      ]
    },
    {
      "cell_type": "markdown",
      "id": "c49284ed",
      "metadata": {},
      "source": [
        "为了保持向后兼容，您也可以通过检索器启用摘要功能，在这种情况下，摘要将作为附加的 Document 对象添加："
      ]
    },
    {
      "cell_type": "code",
      "execution_count": 10,
      "id": "59268e9a-6089-4bb2-8c61-1ea6b956f83c",
      "metadata": {},
      "outputs": [
        {
          "data": {
            "text/plain": [
              "[Document(metadata={'X-TIKA:Parsed-By': 'org.apache.tika.parser.csv.TextAndCSVParser', 'Content-Encoding': 'UTF-8', 'X-TIKA:detectedEncoding': 'UTF-8', 'X-TIKA:encodingDetector': 'UniversalEncodingDetector', 'Content-Type': 'text/plain; charset=UTF-8', 'source': 'text_file', 'framework': 'langchain'}, page_content='We won’t be able to compete for the jobs of the 21st Century if we don’t fix that. That’s why it was so important to pass the Bipartisan Infrastructure Law—the most sweeping investment to rebuild America in history. This was a bipartisan effort, and I want to thank the members of both parties who worked to make it happen. We’re done talking about infrastructure weeks. We’re going to have an infrastructure decade.'),\n",
              " Document(metadata={'X-TIKA:Parsed-By': 'org.apache.tika.parser.csv.TextAndCSVParser', 'Content-Encoding': 'UTF-8', 'X-TIKA:detectedEncoding': 'UTF-8', 'X-TIKA:encodingDetector': 'UniversalEncodingDetector', 'Content-Type': 'text/plain; charset=UTF-8', 'source': 'text_file', 'framework': 'langchain'}, page_content='The U.S. Department of Justice is assembling a dedicated task force to go after the crimes of Russian oligarchs. We are joining with our European allies to find and seize your yachts your luxury apartments your private jets. We are coming for your ill-begotten gains. And tonight I am announcing that we will join our allies in closing off American air space to all Russian flights – further isolating Russia – and adding an additional squeeze –on their economy. The Ruble has lost 30% of its value.'),\n",
              " Document(metadata={'X-TIKA:Parsed-By': 'org.apache.tika.parser.csv.TextAndCSVParser', 'Content-Encoding': 'UTF-8', 'X-TIKA:detectedEncoding': 'UTF-8', 'X-TIKA:encodingDetector': 'UniversalEncodingDetector', 'Content-Type': 'text/plain; charset=UTF-8', 'source': 'text_file', 'framework': 'langchain'}, page_content='When they came home, many of the world’s fittest and best trained warriors were never the same. Dizziness. \\n\\nA cancer that would put them in a flag-draped coffin. I know. \\n\\nOne of those soldiers was my son Major Beau Biden. We don’t know for sure if a burn pit was the cause of his brain cancer, or the diseases of so many of our troops. But I’m committed to finding out everything we can.'),\n",
              " Document(metadata={'X-TIKA:Parsed-By': 'org.apache.tika.parser.csv.TextAndCSVParser', 'Content-Encoding': 'UTF-8', 'X-TIKA:detectedEncoding': 'UTF-8', 'X-TIKA:encodingDetector': 'UniversalEncodingDetector', 'Content-Type': 'text/plain; charset=UTF-8', 'source': 'text_file', 'framework': 'langchain'}, page_content='Preventing Russia’s central bank from defending the Russian Ruble making Putin’s $630 Billion “war fund” worthless. We are choking off Russia’s access to technology that will sap its economic strength and weaken its military for years to come. Tonight I say to the Russian oligarchs and corrupt leaders who have bilked billions of dollars off this violent regime no more. The U.S. Department of Justice is assembling a dedicated task force to go after the crimes of Russian oligarchs. We are joining with our European allies to find and seize your yachts your luxury apartments your private jets.'),\n",
              " Document(metadata={'X-TIKA:Parsed-By': 'org.apache.tika.parser.csv.TextAndCSVParser', 'Content-Encoding': 'UTF-8', 'X-TIKA:detectedEncoding': 'UTF-8', 'X-TIKA:encodingDetector': 'UniversalEncodingDetector', 'Content-Type': 'text/plain; charset=UTF-8', 'source': 'text_file', 'framework': 'langchain'}, page_content='He rejected repeated efforts at diplomacy. He thought the West and NATO wouldn’t respond. And he thought he could divide us at home. We were ready.  Here is what we did. We prepared extensively and carefully.'),\n",
              " Document(metadata={'X-TIKA:Parsed-By': 'org.apache.tika.parser.csv.TextAndCSVParser', 'Content-Encoding': 'UTF-8', 'X-TIKA:detectedEncoding': 'UTF-8', 'X-TIKA:encodingDetector': 'UniversalEncodingDetector', 'Content-Type': 'text/plain; charset=UTF-8', 'source': 'text_file', 'framework': 'langchain'}, page_content='It delivered immediate economic relief for tens of millions of Americans. Helped put food on their table, keep a roof over their heads, and cut the cost of health insurance. And as my Dad used to say, it gave people a little breathing room. And unlike the $2 Trillion tax cut passed in the previous administration that benefitted the top 1% of Americans, the American Rescue Plan helped working people—and left no one behind. Lots of jobs. \\n\\nIn fact—our economy created over 6.5 Million new jobs just last year, more jobs created in one year  \\nthan ever before in the history of America.'),\n",
              " Document(metadata={'X-TIKA:Parsed-By': 'org.apache.tika.parser.csv.TextAndCSVParser', 'Content-Encoding': 'UTF-8', 'X-TIKA:detectedEncoding': 'UTF-8', 'X-TIKA:encodingDetector': 'UniversalEncodingDetector', 'Content-Type': 'text/plain; charset=UTF-8', 'source': 'text_file', 'framework': 'langchain'}, page_content='And while you’re at it, pass the Disclose Act so Americans can know who is funding our elections. Tonight, I’d like to honor someone who has dedicated his life to serve this country: Justice Stephen Breyer—an Army veteran, Constitutional scholar, and retiring Justice of the United States Supreme Court. Justice Breyer, thank you for your service. One of the most serious constitutional responsibilities a President has is nominating someone to serve on the United States Supreme Court. And I did that 4 days ago, when I nominated Circuit Court of Appeals Judge Ketanji Brown Jackson.'),\n",
              " Document(metadata={'X-TIKA:Parsed-By': 'org.apache.tika.parser.csv.TextAndCSVParser', 'Content-Encoding': 'UTF-8', 'X-TIKA:detectedEncoding': 'UTF-8', 'X-TIKA:encodingDetector': 'UniversalEncodingDetector', 'Content-Type': 'text/plain; charset=UTF-8', 'source': 'text_file', 'framework': 'langchain'}, page_content='All told, we created 369,000 new manufacturing jobs in America just last year. Powered by people I’ve met like JoJo Burgess, from generations of union steelworkers from Pittsburgh, who’s here with us tonight. As Ohio Senator Sherrod Brown says, “It’s time to bury the label “Rust Belt.” It’s time. \\n\\nBut with all the bright spots in our economy, record job growth and higher wages, too many families are struggling to keep up with the bills. Inflation is robbing them of the gains they might otherwise feel.'),\n",
              " Document(metadata={'X-TIKA:Parsed-By': 'org.apache.tika.parser.csv.TextAndCSVParser', 'Content-Encoding': 'UTF-8', 'X-TIKA:detectedEncoding': 'UTF-8', 'X-TIKA:encodingDetector': 'UniversalEncodingDetector', 'Content-Type': 'text/plain; charset=UTF-8', 'source': 'text_file', 'framework': 'langchain'}, page_content='Putin’s latest attack on Ukraine was premeditated and unprovoked. He rejected repeated efforts at diplomacy. He thought the West and NATO wouldn’t respond. And he thought he could divide us at home. We were ready.  Here is what we did.'),\n",
              " Document(metadata={'X-TIKA:Parsed-By': 'org.apache.tika.parser.csv.TextAndCSVParser', 'Content-Encoding': 'UTF-8', 'X-TIKA:detectedEncoding': 'UTF-8', 'X-TIKA:encodingDetector': 'UniversalEncodingDetector', 'Content-Type': 'text/plain; charset=UTF-8', 'source': 'text_file', 'framework': 'langchain'}, page_content='Danielle says Heath was a fighter to the very end. He didn’t know how to stop fighting, and neither did she. Through her pain she found purpose to demand we do better. Tonight, Danielle—we are. The VA is pioneering new ways of linking toxic exposures to diseases, already helping more veterans get benefits.'),\n",
              " Document(metadata={'summary': True, 'fcs': (0.54785156,)}, page_content='President Biden spoke about several key issues. He emphasized the importance of the Bipartisan Infrastructure Law, calling it the most significant investment to rebuild America and highlighting it as a bipartisan effort [1]. He also announced measures against Russian oligarchs, including assembling a task force to seize their assets and closing American airspace to Russian flights, further isolating Russia economically [2]. Additionally, he expressed a commitment to investigating the health impacts of burn pits on military personnel, referencing his son, Major Beau Biden, who suffered from brain cancer [3].')]"
            ]
          },
          "execution_count": 10,
          "metadata": {},
          "output_type": "execute_result"
        }
      ],
      "source": [
        "config.generation = GenerationConfig()\n",
        "config.search.limit = 10\n",
        "retriever = vectara.as_retriever(config=config)\n",
        "retriever.invoke(query_str)"
      ]
    },
    {
      "cell_type": "markdown",
      "id": "8f16bf8d",
      "metadata": {},
      "source": [
        "## 使用 Vectara 进行高级 LangChain 查询预处理\n\nVectara 的“RAG 即服务”在创建问答或聊天机器人链方面做了大量繁重的工作。与 LangChain 的集成提供了使用其他功能（如查询预处理）的选项，例如 `SelfQueryRetriever` 或 `MultiQueryRetriever`。让我们来看一个使用 [MultiQueryRetriever](https://python.langchain.com/docs/modules/data_connection/retrievers/MultiQueryRetriever) 的示例。\n\n由于 MQR 使用 LLM，因此我们需要对其进行设置——在这里我们选择 `ChatOpenAI`："
      ]
    },
    {
      "cell_type": "code",
      "execution_count": 14,
      "id": "e14325b9",
      "metadata": {},
      "outputs": [
        {
          "data": {
            "text/plain": [
              "'The remarks made by Biden include his emphasis on the importance of the Bipartisan Infrastructure Law, which he describes as the most significant investment to rebuild America in history. He highlights the bipartisan effort involved in passing this law and expresses gratitude to members of both parties for their collaboration. Biden also mentions the transition from \"infrastructure weeks\" to an \"infrastructure decade\" [1]. Additionally, he shares a personal story about his father having to leave their home in Scranton, Pennsylvania, to find work, which influenced his decision to fight for the American Rescue Plan to help those in need [2].'"
            ]
          },
          "execution_count": 14,
          "metadata": {},
          "output_type": "execute_result"
        }
      ],
      "source": [
        "from langchain.retrievers.multi_query import MultiQueryRetriever\n",
        "from langchain_openai.chat_models import ChatOpenAI\n",
        "\n",
        "llm = ChatOpenAI(temperature=0)\n",
        "mqr = MultiQueryRetriever.from_llm(retriever=retriever, llm=llm)\n",
        "\n",
        "\n",
        "def get_summary(documents):\n",
        "    return documents[-1].page_content\n",
        "\n",
        "\n",
        "(mqr | get_summary).invoke(query_str)"
      ]
    },
    {
      "cell_type": "code",
      "execution_count": null,
      "id": "8060a423-b291-4166-8fd7-ba0e01692b51",
      "metadata": {},
      "outputs": [],
      "source": []
    }
  ],
  "metadata": {
    "kernelspec": {
      "display_name": "Python 3 (ipykernel)",
      "language": "python",
      "name": "python3"
    },
    "language_info": {
      "codemirror_mode": {
        "name": "ipython",
        "version": 3
      },
      "file_extension": ".py",
      "mimetype": "text/x-python",
      "name": "python",
      "nbconvert_exporter": "python",
      "pygments_lexer": "ipython3",
      "version": "3.12.0"
    }
  },
  "nbformat": 4,
  "nbformat_minor": 5
}