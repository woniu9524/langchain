{
  "cells": [
    {
      "cell_type": "markdown",
      "metadata": {},
      "source": [
        "# PGVecto.rs\n\n本 Notebook 展示了如何使用与 Postgres 向量数据库 ([pgvecto.rs](https://github.com/tensorchord/pgvecto.rs)) 相关的功。"
      ]
    },
    {
      "cell_type": "code",
      "execution_count": null,
      "metadata": {},
      "outputs": [],
      "source": [
        "%pip install \"pgvecto_rs[sdk]\" langchain-community"
      ]
    },
    {
      "cell_type": "code",
      "execution_count": null,
      "metadata": {},
      "outputs": [],
      "source": [
        "from typing import List\n",
        "\n",
        "from langchain_community.document_loaders import TextLoader\n",
        "from langchain_community.embeddings.fake import FakeEmbeddings\n",
        "from langchain_community.vectorstores.pgvecto_rs import PGVecto_rs\n",
        "from langchain_core.documents import Document\n",
        "from langchain_text_splitters import CharacterTextSplitter"
      ]
    },
    {
      "cell_type": "code",
      "execution_count": null,
      "metadata": {},
      "outputs": [],
      "source": [
        "loader = TextLoader(\"../../how_to/state_of_the_union.txt\")\n",
        "documents = loader.load()\n",
        "text_splitter = CharacterTextSplitter(chunk_size=1000, chunk_overlap=0)\n",
        "docs = text_splitter.split_documents(documents)\n",
        "\n",
        "embeddings = FakeEmbeddings(size=3)"
      ]
    },
    {
      "cell_type": "markdown",
      "metadata": {},
      "source": [
        "使用 [官方演示 Docker 镜像](https://github.com/tensorchord/pgvecto.rs#installation) 启动数据库。"
      ]
    },
    {
      "cell_type": "code",
      "execution_count": null,
      "metadata": {
        "vscode": {
          "languageId": "shellscript"
        }
      },
      "outputs": [],
      "source": [
        "! docker run --name pgvecto-rs-demo -e POSTGRES_PASSWORD=mysecretpassword -p 5432:5432 -d tensorchord/pgvecto-rs:latest"
      ]
    },
    {
      "cell_type": "markdown",
      "metadata": {},
      "source": [
        "然后构建数据库 URL"
      ]
    },
    {
      "cell_type": "code",
      "execution_count": null,
      "metadata": {},
      "outputs": [],
      "source": [
        "## PGVecto.rs needs the connection string to the database.\n",
        "## We will load it from the environment variables.\n",
        "import os\n",
        "\n",
        "PORT = os.getenv(\"DB_PORT\", 5432)\n",
        "HOST = os.getenv(\"DB_HOST\", \"localhost\")\n",
        "USER = os.getenv(\"DB_USER\", \"postgres\")\n",
        "PASS = os.getenv(\"DB_PASS\", \"mysecretpassword\")\n",
        "DB_NAME = os.getenv(\"DB_NAME\", \"postgres\")\n",
        "\n",
        "# Run tests with shell:\n",
        "URL = \"postgresql+psycopg://{username}:{password}@{host}:{port}/{db_name}\".format(\n",
        "    port=PORT,\n",
        "    host=HOST,\n",
        "    username=USER,\n",
        "    password=PASS,\n",
        "    db_name=DB_NAME,\n",
        ")"
      ]
    },
    {
      "cell_type": "markdown",
      "metadata": {},
      "source": [
        "最后，从文档中创建 VectorStore："
      ]
    },
    {
      "cell_type": "code",
      "execution_count": null,
      "metadata": {},
      "outputs": [],
      "source": [
        "db1 = PGVecto_rs.from_documents(\n",
        "    documents=docs,\n",
        "    embedding=embeddings,\n",
        "    db_url=URL,\n",
        "    # The table name is f\"collection_{collection_name}\", so that it should be unique.\n",
        "    collection_name=\"state_of_the_union\",\n",
        ")"
      ]
    },
    {
      "cell_type": "markdown",
      "metadata": {},
      "source": [
        "您稍后可以使用以下方式连接到表格："
      ]
    },
    {
      "cell_type": "code",
      "execution_count": null,
      "metadata": {},
      "outputs": [],
      "source": [
        "# Create new empty vectorstore with collection_name.\n",
        "# Or connect to an existing vectorstore in database if exists.\n",
        "# Arguments should be the same as when the vectorstore was created.\n",
        "db1 = PGVecto_rs.from_collection_name(\n",
        "    embedding=embeddings,\n",
        "    db_url=URL,\n",
        "    collection_name=\"state_of_the_union\",\n",
        ")"
      ]
    },
    {
      "cell_type": "markdown",
      "metadata": {},
      "source": [
        "请确保用户有创建表的权限。"
      ]
    },
    {
      "cell_type": "markdown",
      "metadata": {},
      "source": [
        "## 相似度搜索及分数"
      ]
    },
    {
      "cell_type": "markdown",
      "metadata": {},
      "source": [
        "### 相似性搜索（欧几里得距离，默认）"
      ]
    },
    {
      "cell_type": "code",
      "execution_count": null,
      "metadata": {},
      "outputs": [],
      "source": [
        "query = \"What did the president say about Ketanji Brown Jackson\"\n",
        "docs: List[Document] = db1.similarity_search(query, k=4)\n",
        "for doc in docs:\n",
        "    print(doc.page_content)\n",
        "    print(\"======================\")"
      ]
    },
    {
      "cell_type": "markdown",
      "metadata": {},
      "source": [
        "### 相似性搜索与过滤"
      ]
    },
    {
      "cell_type": "code",
      "execution_count": null,
      "metadata": {},
      "outputs": [],
      "source": [
        "from pgvecto_rs.sdk.filters import meta_contains\n",
        "\n",
        "query = \"What did the president say about Ketanji Brown Jackson\"\n",
        "docs: List[Document] = db1.similarity_search(\n",
        "    query, k=4, filter=meta_contains({\"source\": \"../../how_to/state_of_the_union.txt\"})\n",
        ")\n",
        "\n",
        "for doc in docs:\n",
        "    print(doc.page_content)\n",
        "    print(\"======================\")"
      ]
    },
    {
      "cell_type": "markdown",
      "metadata": {},
      "source": [
        "或者："
      ]
    },
    {
      "cell_type": "code",
      "execution_count": null,
      "metadata": {},
      "outputs": [],
      "source": [
        "query = \"What did the president say about Ketanji Brown Jackson\"\n",
        "docs: List[Document] = db1.similarity_search(\n",
        "    query, k=4, filter={\"source\": \"../../how_to/state_of_the_union.txt\"}\n",
        ")\n",
        "\n",
        "for doc in docs:\n",
        "    print(doc.page_content)\n",
        "    print(\"======================\")"
      ]
    }
  ],
  "metadata": {
    "kernelspec": {
      "display_name": "Python 3 (ipykernel)",
      "language": "python",
      "name": "python3"
    },
    "language_info": {
      "codemirror_mode": {
        "name": "ipython",
        "version": 3
      },
      "file_extension": ".py",
      "mimetype": "text/x-python",
      "name": "python",
      "nbconvert_exporter": "python",
      "pygments_lexer": "ipython3",
      "version": "3.11.6"
    }
  },
  "nbformat": 4,
  "nbformat_minor": 2
}