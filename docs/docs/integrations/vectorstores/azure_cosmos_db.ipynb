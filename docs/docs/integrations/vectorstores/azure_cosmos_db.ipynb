{
  "cells": [
    {
      "cell_type": "markdown",
      "id": "245c0aa70db77606",
      "metadata": {},
      "source": [
        "# Azure Cosmos DB Mongo vCore\n\n本 Notebook 展示了如何利用此集成 [向量数据库](https://learn.microsoft.com/en-us/azure/cosmos-db/vector-database) 来存储集合中的文档、创建索引并使用近似最近邻算法（如 COS（余弦距离）、L2（欧几里得距离）和 IP（内积））执行向量搜索查询，以查找与查询向量接近的文档。\n\nAzure Cosmos DB 是驱动 OpenAI 的 ChatGPT 服务的数据库。它提供个位数毫秒级的响应时间、自动即时可扩展性以及跨任何规模的性能保证。\n\nAzure Cosmos DB for MongoDB vCore ([https://learn.microsoft.com/en-us/azure/cosmos-db/mongodb/vcore/](https://learn.microsoft.com/en-us/azure/cosmos-db/mongodb/vcore/)) 为开发人员提供了一个完全托管的、与 MongoDB 兼容的数据库服务，可用于构建具有熟悉架构的现代应用程序。您可以通过将应用程序指向 API for MongoDB vCore 账户的连接字符串来应用您的 MongoDB 经验，并继续使用您喜欢的 MongoDB 驱动程序、SDK 和工具。\n\n[注册](https://azure.microsoft.com/en-us/free/)即可获得终身免费访问权限，立即开始。"
      ]
    },
    {
      "cell_type": "markdown",
      "id": "8c493e205ce1dda5",
      "metadata": {},
      "source": []
    },
    {
      "cell_type": "code",
      "execution_count": 1,
      "id": "ab8e45f5bd435ade",
      "metadata": {
        "ExecuteTime": {
          "end_time": "2024-02-08T18:25:05.278480Z",
          "start_time": "2024-02-08T18:24:51.560677Z"
        }
      },
      "outputs": [
        {
          "name": "stdout",
          "output_type": "stream",
          "text": [
            "Note: you may need to restart the kernel to use updated packages.\n"
          ]
        }
      ],
      "source": [
        "%pip install --upgrade --quiet  pymongo langchain-openai langchain-community"
      ]
    },
    {
      "cell_type": "code",
      "execution_count": 2,
      "id": "9c7ce9e7b26efbb0",
      "metadata": {
        "ExecuteTime": {
          "end_time": "2024-02-08T18:25:56.926147Z",
          "start_time": "2024-02-08T18:25:56.900087Z"
        }
      },
      "outputs": [],
      "source": [
        "import os\n",
        "\n",
        "CONNECTION_STRING = \"YOUR_CONNECTION_STRING\"\n",
        "INDEX_NAME = \"izzy-test-index\"\n",
        "NAMESPACE = \"izzy_test_db.izzy_test_collection\"\n",
        "DB_NAME, COLLECTION_NAME = NAMESPACE.split(\".\")"
      ]
    },
    {
      "cell_type": "markdown",
      "id": "f2e66b097c6ce2e3",
      "metadata": {},
      "source": [
        "我们要使用 `AzureOpenAIEmbeddings`，因此需要Alongside 其他环境变量一起设置我们的 Azure OpenAI API Key。"
      ]
    },
    {
      "cell_type": "code",
      "execution_count": 3,
      "id": "4a052d99c6b8a2a7",
      "metadata": {
        "ExecuteTime": {
          "end_time": "2024-02-08T18:26:06.558294Z",
          "start_time": "2024-02-08T18:26:06.550008Z"
        }
      },
      "outputs": [],
      "source": [
        "# Set up the OpenAI Environment Variables\n",
        "\n",
        "os.environ[\"AZURE_OPENAI_API_KEY\"] = \"YOUR_AZURE_OPENAI_API_KEY\"\n",
        "os.environ[\"AZURE_OPENAI_ENDPOINT\"] = \"YOUR_AZURE_OPENAI_ENDPOINT\"\n",
        "os.environ[\"AZURE_OPENAI_API_VERSION\"] = \"2023-05-15\"\n",
        "os.environ[\"OPENAI_EMBEDDINGS_MODEL_NAME\"] = \"text-embedding-ada-002\"  # the model name"
      ]
    },
    {
      "cell_type": "markdown",
      "id": "ebaa28c6e2b35063",
      "metadata": {},
      "source": [
        "现在，我们需要将文档加载到集合中，创建索引，然后针对索引运行查询以检索匹配项。\n\n如果您对某些参数有疑问，请参考[文档](https://learn.microsoft.com/en-us/azure/cosmos-db/mongodb/vcore/vector-search)。"
      ]
    },
    {
      "cell_type": "code",
      "execution_count": 4,
      "id": "183741cf8f4c7c53",
      "metadata": {
        "ExecuteTime": {
          "end_time": "2024-02-08T18:27:00.782280Z",
          "start_time": "2024-02-08T18:26:47.339151Z"
        }
      },
      "outputs": [],
      "source": [
        "from langchain_community.document_loaders import TextLoader\n",
        "from langchain_community.vectorstores.azure_cosmos_db import (\n",
        "    AzureCosmosDBVectorSearch,\n",
        "    CosmosDBSimilarityType,\n",
        "    CosmosDBVectorSearchType,\n",
        ")\n",
        "from langchain_openai import AzureOpenAIEmbeddings\n",
        "from langchain_text_splitters import CharacterTextSplitter\n",
        "\n",
        "SOURCE_FILE_NAME = \"../../how_to/state_of_the_union.txt\"\n",
        "\n",
        "loader = TextLoader(SOURCE_FILE_NAME)\n",
        "documents = loader.load()\n",
        "text_splitter = CharacterTextSplitter(chunk_size=1000, chunk_overlap=0)\n",
        "docs = text_splitter.split_documents(documents)\n",
        "\n",
        "# OpenAI Settings\n",
        "model_deployment = os.getenv(\n",
        "    \"OPENAI_EMBEDDINGS_DEPLOYMENT\", \"smart-agent-embedding-ada\"\n",
        ")\n",
        "model_name = os.getenv(\"OPENAI_EMBEDDINGS_MODEL_NAME\", \"text-embedding-ada-002\")\n",
        "\n",
        "\n",
        "openai_embeddings: AzureOpenAIEmbeddings = AzureOpenAIEmbeddings(\n",
        "    model=model_name, chunk_size=1\n",
        ")"
      ]
    },
    {
      "cell_type": "code",
      "execution_count": 5,
      "id": "f6c6ed80-7b91-4833-bab5-c9b2b5edcdec",
      "metadata": {},
      "outputs": [
        {
          "data": {
            "text/plain": [
              "Document(metadata={'source': '../../how_to/state_of_the_union.txt'}, page_content='Madam Speaker, Madam Vice President, our First Lady and Second Gentleman. Members of Congress and the Cabinet. Justices of the Supreme Court. My fellow Americans.  \\n\\nLast year COVID-19 kept us apart. This year we are finally together again. \\n\\nTonight, we meet as Democrats Republicans and Independents. But most importantly as Americans. \\n\\nWith a duty to one another to the American people to the Constitution. \\n\\nAnd with an unwavering resolve that freedom will always triumph over tyranny. \\n\\nSix days ago, Russia’s Vladimir Putin sought to shake the foundations of the free world thinking he could make it bend to his menacing ways. But he badly miscalculated. \\n\\nHe thought he could roll into Ukraine and the world would roll over. Instead he met a wall of strength he never imagined. \\n\\nHe met the Ukrainian people. \\n\\nFrom President Zelenskyy to every Ukrainian, their fearlessness, their courage, their determination, inspires the world.')"
            ]
          },
          "execution_count": 5,
          "metadata": {},
          "output_type": "execute_result"
        }
      ],
      "source": [
        "docs[0]"
      ]
    },
    {
      "cell_type": "code",
      "execution_count": 6,
      "id": "39ae6058c2f7fdf1",
      "metadata": {
        "ExecuteTime": {
          "end_time": "2024-02-08T18:31:13.486173Z",
          "start_time": "2024-02-08T18:30:54.175890Z"
        }
      },
      "outputs": [
        {
          "data": {
            "text/plain": [
              "'\\n# DiskANN vectorstore\\nmaxDegree = 40\\ndimensions = 1536\\nsimilarity_algorithm = CosmosDBSimilarityType.COS\\nkind = CosmosDBVectorSearchType.VECTOR_DISKANN\\nlBuild = 20\\n\\nvectorstore.create_index(\\n            dimensions=dimensions,\\n            similarity=similarity_algorithm,\\n            kind=kind ,\\n            max_degree=maxDegree,\\n            l_build=lBuild,\\n        )\\n\\n# -----------------------------------------------------------\\n\\n# HNSW vectorstore\\ndimensions = 1536\\nsimilarity_algorithm = CosmosDBSimilarityType.COS\\nkind = CosmosDBVectorSearchType.VECTOR_HNSW\\nm = 16\\nef_construction = 64\\n\\nvectorstore.create_index(\\n            dimensions=dimensions,\\n            similarity=similarity_algorithm,\\n            kind=kind ,\\n            m=m,\\n            ef_construction=ef_construction,\\n        )\\n'"
            ]
          },
          "execution_count": 6,
          "metadata": {},
          "output_type": "execute_result"
        }
      ],
      "source": [
        "from pymongo import MongoClient\n",
        "\n",
        "# INDEX_NAME = \"izzy-test-index-2\"\n",
        "# NAMESPACE = \"izzy_test_db.izzy_test_collection\"\n",
        "# DB_NAME, COLLECTION_NAME = NAMESPACE.split(\".\")\n",
        "\n",
        "client: MongoClient = MongoClient(CONNECTION_STRING)\n",
        "collection = client[DB_NAME][COLLECTION_NAME]\n",
        "\n",
        "model_deployment = os.getenv(\n",
        "    \"OPENAI_EMBEDDINGS_DEPLOYMENT\", \"smart-agent-embedding-ada\"\n",
        ")\n",
        "model_name = os.getenv(\"OPENAI_EMBEDDINGS_MODEL_NAME\", \"text-embedding-ada-002\")\n",
        "\n",
        "vectorstore = AzureCosmosDBVectorSearch.from_documents(\n",
        "    docs,\n",
        "    openai_embeddings,\n",
        "    collection=collection,\n",
        "    index_name=INDEX_NAME,\n",
        ")\n",
        "\n",
        "# Read more about these variables in detail here. https://learn.microsoft.com/en-us/azure/cosmos-db/mongodb/vcore/vector-search\n",
        "num_lists = 100\n",
        "dimensions = 1536\n",
        "similarity_algorithm = CosmosDBSimilarityType.COS\n",
        "kind = CosmosDBVectorSearchType.VECTOR_IVF\n",
        "m = 16\n",
        "ef_construction = 64\n",
        "ef_search = 40\n",
        "score_threshold = 0.1\n",
        "\n",
        "vectorstore.create_index(\n",
        "    num_lists, dimensions, similarity_algorithm, kind, m, ef_construction\n",
        ")\n",
        "\n",
        "\"\"\"\n",
        "# DiskANN vectorstore\n",
        "maxDegree = 40\n",
        "dimensions = 1536\n",
        "similarity_algorithm = CosmosDBSimilarityType.COS\n",
        "kind = CosmosDBVectorSearchType.VECTOR_DISKANN\n",
        "lBuild = 20\n",
        "\n",
        "vectorstore.create_index(\n",
        "            dimensions=dimensions,\n",
        "            similarity=similarity_algorithm,\n",
        "            kind=kind ,\n",
        "            max_degree=maxDegree,\n",
        "            l_build=lBuild,\n",
        "        )\n",
        "\n",
        "# -----------------------------------------------------------\n",
        "\n",
        "# HNSW vectorstore\n",
        "dimensions = 1536\n",
        "similarity_algorithm = CosmosDBSimilarityType.COS\n",
        "kind = CosmosDBVectorSearchType.VECTOR_HNSW\n",
        "m = 16\n",
        "ef_construction = 64\n",
        "\n",
        "vectorstore.create_index(\n",
        "            dimensions=dimensions,\n",
        "            similarity=similarity_algorithm,\n",
        "            kind=kind ,\n",
        "            m=m,\n",
        "            ef_construction=ef_construction,\n",
        "        )\n",
        "\"\"\""
      ]
    },
    {
      "cell_type": "code",
      "execution_count": 7,
      "id": "32c68d3246adc21f",
      "metadata": {
        "ExecuteTime": {
          "end_time": "2024-02-08T18:31:47.468902Z",
          "start_time": "2024-02-08T18:31:46.053602Z"
        }
      },
      "outputs": [],
      "source": [
        "# perform a similarity search between the embedding of the query and the embeddings of the documents\n",
        "query = \"What did the president say about Ketanji Brown Jackson\"\n",
        "docs = vectorstore.similarity_search(query)"
      ]
    },
    {
      "cell_type": "code",
      "execution_count": 8,
      "id": "8feeeb4364efb204",
      "metadata": {
        "ExecuteTime": {
          "end_time": "2024-02-08T18:31:50.982598Z",
          "start_time": "2024-02-08T18:31:50.977605Z"
        }
      },
      "outputs": [
        {
          "name": "stdout",
          "output_type": "stream",
          "text": [
            "Tonight. I call on the Senate to: Pass the Freedom to Vote Act. Pass the John Lewis Voting Rights Act. And while you’re at it, pass the Disclose Act so Americans can know who is funding our elections. \n",
            "\n",
            "Tonight, I’d like to honor someone who has dedicated his life to serve this country: Justice Stephen Breyer—an Army veteran, Constitutional scholar, and retiring Justice of the United States Supreme Court. Justice Breyer, thank you for your service. \n",
            "\n",
            "One of the most serious constitutional responsibilities a President has is nominating someone to serve on the United States Supreme Court. \n",
            "\n",
            "And I did that 4 days ago, when I nominated Circuit Court of Appeals Judge Ketanji Brown Jackson. One of our nation’s top legal minds, who will continue Justice Breyer’s legacy of excellence.\n"
          ]
        }
      ],
      "source": [
        "print(docs[0].page_content)"
      ]
    },
    {
      "cell_type": "markdown",
      "id": "37e4df8c7d7db851",
      "metadata": {},
      "source": [
        "文档加载并创建索引后，您现在可以直接实例化向量存储并针对索引运行查询。"
      ]
    },
    {
      "cell_type": "code",
      "execution_count": 9,
      "id": "3c218ab6f59301f7",
      "metadata": {
        "ExecuteTime": {
          "end_time": "2024-02-08T18:32:14.299599Z",
          "start_time": "2024-02-08T18:32:12.923464Z"
        }
      },
      "outputs": [
        {
          "name": "stdout",
          "output_type": "stream",
          "text": [
            "Tonight. I call on the Senate to: Pass the Freedom to Vote Act. Pass the John Lewis Voting Rights Act. And while you’re at it, pass the Disclose Act so Americans can know who is funding our elections. \n",
            "\n",
            "Tonight, I’d like to honor someone who has dedicated his life to serve this country: Justice Stephen Breyer—an Army veteran, Constitutional scholar, and retiring Justice of the United States Supreme Court. Justice Breyer, thank you for your service. \n",
            "\n",
            "One of the most serious constitutional responsibilities a President has is nominating someone to serve on the United States Supreme Court. \n",
            "\n",
            "And I did that 4 days ago, when I nominated Circuit Court of Appeals Judge Ketanji Brown Jackson. One of our nation’s top legal minds, who will continue Justice Breyer’s legacy of excellence.\n"
          ]
        }
      ],
      "source": [
        "vectorstore = AzureCosmosDBVectorSearch.from_connection_string(\n",
        "    CONNECTION_STRING, NAMESPACE, openai_embeddings, index_name=INDEX_NAME\n",
        ")\n",
        "\n",
        "# perform a similarity search between a query and the ingested documents\n",
        "query = \"What did the president say about Ketanji Brown Jackson\"\n",
        "docs = vectorstore.similarity_search(query)\n",
        "\n",
        "print(docs[0].page_content)"
      ]
    },
    {
      "cell_type": "code",
      "execution_count": 10,
      "id": "fd67e4d92c9ab32f",
      "metadata": {
        "ExecuteTime": {
          "end_time": "2024-02-08T18:32:24.021434Z",
          "start_time": "2024-02-08T18:32:22.867658Z"
        }
      },
      "outputs": [
        {
          "name": "stdout",
          "output_type": "stream",
          "text": [
            "Tonight. I call on the Senate to: Pass the Freedom to Vote Act. Pass the John Lewis Voting Rights Act. And while you’re at it, pass the Disclose Act so Americans can know who is funding our elections. \n",
            "\n",
            "Tonight, I’d like to honor someone who has dedicated his life to serve this country: Justice Stephen Breyer—an Army veteran, Constitutional scholar, and retiring Justice of the United States Supreme Court. Justice Breyer, thank you for your service. \n",
            "\n",
            "One of the most serious constitutional responsibilities a President has is nominating someone to serve on the United States Supreme Court. \n",
            "\n",
            "And I did that 4 days ago, when I nominated Circuit Court of Appeals Judge Ketanji Brown Jackson. One of our nation’s top legal minds, who will continue Justice Breyer’s legacy of excellence.\n"
          ]
        }
      ],
      "source": [
        "vectorstore = AzureCosmosDBVectorSearch(\n",
        "    collection, openai_embeddings, index_name=INDEX_NAME\n",
        ")\n",
        "\n",
        "# perform a similarity search between a query and the ingested documents\n",
        "query = \"What did the president say about Ketanji Brown Jackson\"\n",
        "docs = vectorstore.similarity_search(query)\n",
        "\n",
        "print(docs[0].page_content)"
      ]
    },
    {
      "cell_type": "markdown",
      "id": "b63c73c7e905001c",
      "metadata": {},
      "source": [
        "## 过滤向量搜索（预览版）\nAzure Cosmos DB for MongoDB 支持使用 $lt、 $lte、$eq、$neq、$gte、$gt、$in、$nin 和 $regex 进行预过滤。要使用此功能，请在 Azure 订阅的“预览功能”选项卡中启用“过滤向量搜索”。详细了解预览功能请访问[此处](https://learn.microsoft.com/azure/cosmos-db/mongodb/vcore/vector-search#filtered-vector-search-preview)。"
      ]
    },
    {
      "cell_type": "code",
      "execution_count": 29,
      "id": "19c43de6-47f9-45f0-a422-8d852a5d191f",
      "metadata": {},
      "outputs": [
        {
          "data": {
            "text/plain": [
              "{'raw': {'defaultShard': {'numIndexesBefore': 3,\n",
              "   'numIndexesAfter': 4,\n",
              "   'createdCollectionAutomatically': False,\n",
              "   'ok': 1}},\n",
              " 'ok': 1}"
            ]
          },
          "execution_count": 29,
          "metadata": {},
          "output_type": "execute_result"
        }
      ],
      "source": [
        "# create a filter index\n",
        "vectorstore.create_filter_index(\n",
        "    property_to_filter=\"metadata.source\", index_name=\"filter_index\"\n",
        ")"
      ]
    },
    {
      "cell_type": "code",
      "execution_count": 30,
      "id": "c7031279-dfb8-43f2-a7a8-d10a3786023b",
      "metadata": {},
      "outputs": [],
      "source": [
        "query = \"What did the president say about Ketanji Brown Jackson\"\n",
        "docs = vectorstore.similarity_search(\n",
        "    query, pre_filter={\"metadata.source\": {\"$ne\": \"filter content\"}}\n",
        ")"
      ]
    },
    {
      "cell_type": "code",
      "execution_count": 31,
      "id": "3860be72-d293-43b9-a727-425f166ff6c6",
      "metadata": {},
      "outputs": [
        {
          "data": {
            "text/plain": [
              "4"
            ]
          },
          "execution_count": 31,
          "metadata": {},
          "output_type": "execute_result"
        }
      ],
      "source": [
        "len(docs)"
      ]
    },
    {
      "cell_type": "code",
      "execution_count": 32,
      "id": "b7fb9800-b1cf-4315-af9d-e8c572d3e05f",
      "metadata": {},
      "outputs": [],
      "source": [
        "docs = vectorstore.similarity_search(\n",
        "    query,\n",
        "    pre_filter={\"metadata.source\": {\"$ne\": \"../../how_to/state_of_the_union.txt\"}},\n",
        ")"
      ]
    },
    {
      "cell_type": "code",
      "execution_count": 33,
      "id": "dba9d39e-6220-4fad-84fa-e123aa7ca6e4",
      "metadata": {},
      "outputs": [
        {
          "data": {
            "text/plain": [
              "0"
            ]
          },
          "execution_count": 33,
          "metadata": {},
          "output_type": "execute_result"
        }
      ],
      "source": [
        "len(docs)"
      ]
    },
    {
      "cell_type": "code",
      "execution_count": null,
      "id": "25ea7250-6e8f-48e6-aac9-196effbdc8d8",
      "metadata": {},
      "outputs": [],
      "source": []
    }
  ],
  "metadata": {
    "kernelspec": {
      "display_name": "Python 3 (ipykernel)",
      "language": "python",
      "name": "python3"
    },
    "language_info": {
      "codemirror_mode": {
        "name": "ipython",
        "version": 3
      },
      "file_extension": ".py",
      "mimetype": "text/x-python",
      "name": "python",
      "nbconvert_exporter": "python",
      "pygments_lexer": "ipython3",
      "version": "3.11.4"
    }
  },
  "nbformat": 4,
  "nbformat_minor": 5
}