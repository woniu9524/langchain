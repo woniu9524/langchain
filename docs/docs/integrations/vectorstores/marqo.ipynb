{
  "cells": [
    {
      "attachments": {},
      "cell_type": "markdown",
      "id": "683953b3",
      "metadata": {},
      "source": [
        "# Marqo\n\n此Notebook展示了如何使用与 Marqo 向量存储相关的功​​能。\n\n>[Marqo](https://www.marqo.ai/) 是一个开源的向量搜索引擎。Marqo 允许您存储和查询多模态数据，例如文本和图像。Marqo 使用大量开源模型为您创建向量，您也可以提供自己的微调模型，Marqo 将负责加载和推理。\n\n您需要通过 `pip install -qU langchain-community` 安装 `langchain-community` 才能使用此集成\n\n要使用我们的docker镜像运行此Notebook，请先运行以下命令来获取 Marqo：\n\n```\ndocker pull marqoai/marqo:latest\ndocker rm -f marqo\ndocker run --name marqo -it --privileged -p 8882:8882 --add-host host.docker.internal:host-gateway marqoai/marqo:latest\n```"
      ]
    },
    {
      "cell_type": "code",
      "execution_count": 1,
      "id": "aac9563e",
      "metadata": {},
      "outputs": [],
      "source": [
        "%pip install --upgrade --quiet  marqo"
      ]
    },
    {
      "cell_type": "code",
      "execution_count": 1,
      "id": "5d1489ec",
      "metadata": {},
      "outputs": [],
      "source": [
        "from langchain_community.document_loaders import TextLoader\n",
        "from langchain_community.vectorstores import Marqo\n",
        "from langchain_text_splitters import CharacterTextSplitter"
      ]
    },
    {
      "cell_type": "code",
      "execution_count": 2,
      "id": "a3c3999a",
      "metadata": {},
      "outputs": [],
      "source": [
        "from langchain_community.document_loaders import TextLoader\n",
        "\n",
        "loader = TextLoader(\"../../how_to/state_of_the_union.txt\")\n",
        "documents = loader.load()\n",
        "text_splitter = CharacterTextSplitter(chunk_size=1000, chunk_overlap=0)\n",
        "docs = text_splitter.split_documents(documents)"
      ]
    },
    {
      "cell_type": "code",
      "execution_count": 3,
      "id": "6e104aee",
      "metadata": {},
      "outputs": [
        {
          "name": "stdout",
          "output_type": "stream",
          "text": [
            "Index langchain-demo exists.\n"
          ]
        }
      ],
      "source": [
        "import marqo\n",
        "\n",
        "# initialize marqo\n",
        "marqo_url = \"http://localhost:8882\"  # if using marqo cloud replace with your endpoint (console.marqo.ai)\n",
        "marqo_api_key = \"\"  # if using marqo cloud replace with your api key (console.marqo.ai)\n",
        "\n",
        "client = marqo.Client(url=marqo_url, api_key=marqo_api_key)\n",
        "\n",
        "index_name = \"langchain-demo\"\n",
        "\n",
        "docsearch = Marqo.from_documents(docs, index_name=index_name)\n",
        "\n",
        "query = \"What did the president say about Ketanji Brown Jackson\"\n",
        "result_docs = docsearch.similarity_search(query)"
      ]
    },
    {
      "cell_type": "code",
      "execution_count": 4,
      "id": "9c608226",
      "metadata": {},
      "outputs": [
        {
          "name": "stdout",
          "output_type": "stream",
          "text": [
            "Tonight. I call on the Senate to: Pass the Freedom to Vote Act. Pass the John Lewis Voting Rights Act. And while you’re at it, pass the Disclose Act so Americans can know who is funding our elections. \n",
            "\n",
            "Tonight, I’d like to honor someone who has dedicated his life to serve this country: Justice Stephen Breyer—an Army veteran, Constitutional scholar, and retiring Justice of the United States Supreme Court. Justice Breyer, thank you for your service. \n",
            "\n",
            "One of the most serious constitutional responsibilities a President has is nominating someone to serve on the United States Supreme Court. \n",
            "\n",
            "And I did that 4 days ago, when I nominated Circuit Court of Appeals Judge Ketanji Brown Jackson. One of our nation’s top legal minds, who will continue Justice Breyer’s legacy of excellence.\n"
          ]
        }
      ],
      "source": [
        "print(result_docs[0].page_content)"
      ]
    },
    {
      "cell_type": "code",
      "execution_count": 5,
      "id": "98704b27",
      "metadata": {},
      "outputs": [
        {
          "name": "stdout",
          "output_type": "stream",
          "text": [
            "Tonight. I call on the Senate to: Pass the Freedom to Vote Act. Pass the John Lewis Voting Rights Act. And while you’re at it, pass the Disclose Act so Americans can know who is funding our elections. \n",
            "\n",
            "Tonight, I’d like to honor someone who has dedicated his life to serve this country: Justice Stephen Breyer—an Army veteran, Constitutional scholar, and retiring Justice of the United States Supreme Court. Justice Breyer, thank you for your service. \n",
            "\n",
            "One of the most serious constitutional responsibilities a President has is nominating someone to serve on the United States Supreme Court. \n",
            "\n",
            "And I did that 4 days ago, when I nominated Circuit Court of Appeals Judge Ketanji Brown Jackson. One of our nation’s top legal minds, who will continue Justice Breyer’s legacy of excellence.\n",
            "0.68647254\n"
          ]
        }
      ],
      "source": [
        "result_docs = docsearch.similarity_search_with_score(query)\n",
        "print(result_docs[0][0].page_content, result_docs[0][1], sep=\"\\n\")"
      ]
    },
    {
      "attachments": {},
      "cell_type": "markdown",
      "id": "eb3395b6",
      "metadata": {},
      "source": [
        "## 附加功能\n\nMarqo 作为向量存储的强大功能之一是您可以使用外部创建的索引。例如：\n\n+ 如果您有一个来自其他应用程序的图片和文本对数据库，您可以直接在 langchain 中使用 Marqo 向量存储来使用它。请注意，自带多模态索引将禁用 `add_texts` 方法。\n\n+ 如果您有一个文本文件数据库，您可以将其引入 langchain 框架并通过 `add_texts` 添加更多文本。\n\n返回的文档是通过将您自己的函数传递给搜索方法的 `page_content_builder` 回调函数来定制的。"
      ]
    },
    {
      "attachments": {},
      "cell_type": "markdown",
      "id": "35b99fef",
      "metadata": {},
      "source": [
        "#### 多模态示例"
      ]
    },
    {
      "cell_type": "code",
      "execution_count": 6,
      "id": "a359ed74",
      "metadata": {},
      "outputs": [
        {
          "data": {
            "text/plain": [
              "{'errors': False,\n",
              " 'processingTimeMs': 2090.2822139996715,\n",
              " 'index_name': 'langchain-multimodal-demo',\n",
              " 'items': [{'_id': 'aa92fc1c-1fb2-4d86-b027-feb507c419f7',\n",
              "   'result': 'created',\n",
              "   'status': 201},\n",
              "  {'_id': '5142c258-ef9f-4bf2-a1a6-2307280173a0',\n",
              "   'result': 'created',\n",
              "   'status': 201}]}"
            ]
          },
          "execution_count": 6,
          "metadata": {},
          "output_type": "execute_result"
        }
      ],
      "source": [
        "# use a new index\n",
        "index_name = \"langchain-multimodal-demo\"\n",
        "\n",
        "# incase the demo is re-run\n",
        "try:\n",
        "    client.delete_index(index_name)\n",
        "except Exception:\n",
        "    print(f\"Creating {index_name}\")\n",
        "\n",
        "# This index could have been created by another system\n",
        "settings = {\"treat_urls_and_pointers_as_images\": True, \"model\": \"ViT-L/14\"}\n",
        "client.create_index(index_name, **settings)\n",
        "client.index(index_name).add_documents(\n",
        "    [\n",
        "        # image of a bus\n",
        "        {\n",
        "            \"caption\": \"Bus\",\n",
        "            \"image\": \"https://raw.githubusercontent.com/marqo-ai/marqo/mainline/examples/ImageSearchGuide/data/image4.jpg\",\n",
        "        },\n",
        "        # image of a plane\n",
        "        {\n",
        "            \"caption\": \"Plane\",\n",
        "            \"image\": \"https://raw.githubusercontent.com/marqo-ai/marqo/mainline/examples/ImageSearchGuide/data/image2.jpg\",\n",
        "        },\n",
        "    ],\n",
        ")"
      ]
    },
    {
      "cell_type": "code",
      "execution_count": 7,
      "id": "368d1fab",
      "metadata": {},
      "outputs": [],
      "source": [
        "def get_content(res):\n",
        "    \"\"\"Helper to format Marqo's documents into text to be used as page_content\"\"\"\n",
        "    return f\"{res['caption']}: {res['image']}\"\n",
        "\n",
        "\n",
        "docsearch = Marqo(client, index_name, page_content_builder=get_content)\n",
        "\n",
        "\n",
        "query = \"vehicles that fly\"\n",
        "doc_results = docsearch.similarity_search(query)"
      ]
    },
    {
      "cell_type": "code",
      "execution_count": 8,
      "id": "eef4edf9",
      "metadata": {},
      "outputs": [
        {
          "name": "stdout",
          "output_type": "stream",
          "text": [
            "Plane: https://raw.githubusercontent.com/marqo-ai/marqo/mainline/examples/ImageSearchGuide/data/image2.jpg\n",
            "Bus: https://raw.githubusercontent.com/marqo-ai/marqo/mainline/examples/ImageSearchGuide/data/image4.jpg\n"
          ]
        }
      ],
      "source": [
        "for doc in doc_results:\n",
        "    print(doc.page_content)"
      ]
    },
    {
      "attachments": {},
      "cell_type": "markdown",
      "id": "c255f603",
      "metadata": {},
      "source": [
        "#### 仅文本示例"
      ]
    },
    {
      "cell_type": "code",
      "execution_count": 9,
      "id": "9e9a2b20",
      "metadata": {},
      "outputs": [
        {
          "data": {
            "text/plain": [
              "{'errors': False,\n",
              " 'processingTimeMs': 139.2144540004665,\n",
              " 'index_name': 'langchain-byo-index-demo',\n",
              " 'items': [{'_id': '27c05a1c-b8a9-49a5-ae73-fbf1eb51dc3f',\n",
              "   'result': 'created',\n",
              "   'status': 201},\n",
              "  {'_id': '6889afe0-e600-43c1-aa3b-1d91bf6db274',\n",
              "   'result': 'created',\n",
              "   'status': 201}]}"
            ]
          },
          "execution_count": 9,
          "metadata": {},
          "output_type": "execute_result"
        }
      ],
      "source": [
        "# use a new index\n",
        "index_name = \"langchain-byo-index-demo\"\n",
        "\n",
        "# incase the demo is re-run\n",
        "try:\n",
        "    client.delete_index(index_name)\n",
        "except Exception:\n",
        "    print(f\"Creating {index_name}\")\n",
        "\n",
        "# This index could have been created by another system\n",
        "client.create_index(index_name)\n",
        "client.index(index_name).add_documents(\n",
        "    [\n",
        "        {\n",
        "            \"Title\": \"Smartphone\",\n",
        "            \"Description\": \"A smartphone is a portable computer device that combines mobile telephone \"\n",
        "            \"functions and computing functions into one unit.\",\n",
        "        },\n",
        "        {\n",
        "            \"Title\": \"Telephone\",\n",
        "            \"Description\": \"A telephone is a telecommunications device that permits two or more users to\"\n",
        "            \"conduct a conversation when they are too far apart to be easily heard directly.\",\n",
        "        },\n",
        "    ],\n",
        ")"
      ]
    },
    {
      "cell_type": "code",
      "execution_count": 10,
      "id": "b2943ea9",
      "metadata": {},
      "outputs": [
        {
          "data": {
            "text/plain": [
              "['9986cc72-adcd-4080-9d74-265c173a9ec3']"
            ]
          },
          "execution_count": 10,
          "metadata": {},
          "output_type": "execute_result"
        }
      ],
      "source": [
        "# Note text indexes retain the ability to use add_texts despite different field names in documents\n",
        "# this is because the page_content_builder callback lets you handle these document fields as required\n",
        "\n",
        "\n",
        "def get_content(res):\n",
        "    \"\"\"Helper to format Marqo's documents into text to be used as page_content\"\"\"\n",
        "    if \"text\" in res:\n",
        "        return res[\"text\"]\n",
        "    return res[\"Description\"]\n",
        "\n",
        "\n",
        "docsearch = Marqo(client, index_name, page_content_builder=get_content)\n",
        "\n",
        "docsearch.add_texts([\"This is a document that is about elephants\"])"
      ]
    },
    {
      "cell_type": "code",
      "execution_count": 11,
      "id": "851450e9",
      "metadata": {},
      "outputs": [
        {
          "name": "stdout",
          "output_type": "stream",
          "text": [
            "A smartphone is a portable computer device that combines mobile telephone functions and computing functions into one unit.\n"
          ]
        }
      ],
      "source": [
        "query = \"modern communications devices\"\n",
        "doc_results = docsearch.similarity_search(query)\n",
        "\n",
        "print(doc_results[0].page_content)"
      ]
    },
    {
      "cell_type": "code",
      "execution_count": 12,
      "id": "9a438fec",
      "metadata": {},
      "outputs": [
        {
          "name": "stdout",
          "output_type": "stream",
          "text": [
            "This is a document that is about elephants\n"
          ]
        }
      ],
      "source": [
        "query = \"elephants\"\n",
        "doc_results = docsearch.similarity_search(query, page_content_builder=get_content)\n",
        "\n",
        "print(doc_results[0].page_content)"
      ]
    },
    {
      "attachments": {},
      "cell_type": "markdown",
      "id": "0d04c9d4",
      "metadata": {},
      "source": [
        "## 加权查询\n\n我们还公开了 marqos 的加权查询，这是组合复杂语义搜索的强大方法。"
      ]
    },
    {
      "cell_type": "code",
      "execution_count": 13,
      "id": "d42ba0d6",
      "metadata": {},
      "outputs": [
        {
          "name": "stdout",
          "output_type": "stream",
          "text": [
            "A smartphone is a portable computer device that combines mobile telephone functions and computing functions into one unit.\n"
          ]
        }
      ],
      "source": [
        "query = {\"communications devices\": 1.0}\n",
        "doc_results = docsearch.similarity_search(query)\n",
        "print(doc_results[0].page_content)"
      ]
    },
    {
      "cell_type": "code",
      "execution_count": 14,
      "id": "b5918a16",
      "metadata": {},
      "outputs": [
        {
          "name": "stdout",
          "output_type": "stream",
          "text": [
            "A telephone is a telecommunications device that permits two or more users toconduct a conversation when they are too far apart to be easily heard directly.\n"
          ]
        }
      ],
      "source": [
        "query = {\"communications devices\": 1.0, \"technology post 2000\": -1.0}\n",
        "doc_results = docsearch.similarity_search(query)\n",
        "print(doc_results[0].page_content)"
      ]
    },
    {
      "attachments": {},
      "cell_type": "markdown",
      "id": "2d026aa0",
      "metadata": {},
      "source": [
        "# 带来源的问答\n\n本节展示了如何将 Marqo 用作 `RetrievalQAWithSourcesChain` 的一部分。Marqo 将在数据源中执行信息检索。"
      ]
    },
    {
      "cell_type": "code",
      "execution_count": 15,
      "id": "e4ca223c",
      "metadata": {},
      "outputs": [
        {
          "name": "stdout",
          "output_type": "stream",
          "text": [
            "OpenAI API Key:········\n"
          ]
        }
      ],
      "source": [
        "import getpass\n",
        "import os\n",
        "\n",
        "from langchain.chains import RetrievalQAWithSourcesChain\n",
        "from langchain_openai import OpenAI\n",
        "\n",
        "if \"OPENAI_API_KEY\" not in os.environ:\n",
        "    os.environ[\"OPENAI_API_KEY\"] = getpass.getpass(\"OpenAI API Key:\")"
      ]
    },
    {
      "cell_type": "code",
      "execution_count": 16,
      "id": "5c6e45f9",
      "metadata": {},
      "outputs": [],
      "source": [
        "with open(\"../../how_to/state_of_the_union.txt\") as f:\n",
        "    state_of_the_union = f.read()\n",
        "text_splitter = CharacterTextSplitter(chunk_size=1000, chunk_overlap=0)\n",
        "texts = text_splitter.split_text(state_of_the_union)"
      ]
    },
    {
      "cell_type": "code",
      "execution_count": 17,
      "id": "70a7f320",
      "metadata": {},
      "outputs": [
        {
          "name": "stdout",
          "output_type": "stream",
          "text": [
            "Index langchain-qa-with-retrieval exists.\n"
          ]
        }
      ],
      "source": [
        "index_name = \"langchain-qa-with-retrieval\"\n",
        "docsearch = Marqo.from_documents(docs, index_name=index_name)"
      ]
    },
    {
      "cell_type": "code",
      "execution_count": 18,
      "id": "b3b008a4",
      "metadata": {},
      "outputs": [],
      "source": [
        "chain = RetrievalQAWithSourcesChain.from_chain_type(\n",
        "    OpenAI(temperature=0), chain_type=\"stuff\", retriever=docsearch.as_retriever()\n",
        ")"
      ]
    },
    {
      "cell_type": "code",
      "execution_count": 19,
      "id": "e1457716",
      "metadata": {},
      "outputs": [
        {
          "data": {
            "text/plain": [
              "{'answer': ' The president honored Justice Breyer, thanking him for his service and noting that he is a retiring Justice of the United States Supreme Court.\\n',\n",
              " 'sources': '../../../state_of_the_union.txt'}"
            ]
          },
          "execution_count": 19,
          "metadata": {},
          "output_type": "execute_result"
        }
      ],
      "source": [
        "chain(\n",
        "    {\"question\": \"What did the president say about Justice Breyer\"},\n",
        "    return_only_outputs=True,\n",
        ")"
      ]
    }
  ],
  "metadata": {
    "kernelspec": {
      "display_name": "Python 3 (ipykernel)",
      "language": "python",
      "name": "python3"
    },
    "language_info": {
      "codemirror_mode": {
        "name": "ipython",
        "version": 3
      },
      "file_extension": ".py",
      "mimetype": "text/x-python",
      "name": "python",
      "nbconvert_exporter": "python",
      "pygments_lexer": "ipython3",
      "version": "3.9.16"
    }
  },
  "nbformat": 4,
  "nbformat_minor": 5
}