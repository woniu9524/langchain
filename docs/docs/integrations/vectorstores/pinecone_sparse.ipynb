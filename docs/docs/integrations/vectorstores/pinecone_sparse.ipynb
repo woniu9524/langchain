{
  "cells": [
    {
      "cell_type": "markdown",
      "metadata": {},
      "source": [
        "# Pinecone (稀疏)\n\n>[Pinecone](https://docs.pinecone.io/docs/overview) 是一个具有广泛功能的向量数据库。\n\n本 Notebook 展示了如何使用与 `Pinecone` 向量数据库相关的功能。\n\n## 设置\n\n要使用 `PineconeSparseVectorStore`，您首先需要安装相应的包，以及本 Notebook 中使用的其他包。"
      ]
    },
    {
      "cell_type": "code",
      "execution_count": 1,
      "metadata": {
        "colab": {
          "base_uri": "https://localhost:8080/"
        },
        "id": "5g1-ZqcEONGD",
        "outputId": "2d49c259-683b-46c2-994f-642f35e30357"
      },
      "outputs": [
        {
          "name": "stdout",
          "output_type": "stream",
          "text": [
            "\u001b[33mWARNING: pinecone 6.0.2 does not provide the extra 'async'\u001b[0m\u001b[33m\n",
            "\u001b[0m"
          ]
        }
      ],
      "source": [
        "%pip install -qU \"langchain-pinecone==0.2.5\""
      ]
    },
    {
      "cell_type": "markdown",
      "metadata": {
        "id": "-1vfBVLhONGE"
      },
      "source": [
        "### 凭据\n创建一个新的 Pinecone 账户，或登录到您现有的账户，并创建一个 API 密钥以在本笔记本中使用。"
      ]
    },
    {
      "cell_type": "code",
      "execution_count": 2,
      "metadata": {
        "colab": {
          "base_uri": "https://localhost:8080/"
        },
        "id": "k_Dp_DIlONGF",
        "outputId": "01728754-8708-4f05-e53d-2e251541370e"
      },
      "outputs": [
        {
          "name": "stdout",
          "output_type": "stream",
          "text": [
            "Enter your Pinecone API key: ··········\n"
          ]
        }
      ],
      "source": [
        "import os\n",
        "from getpass import getpass\n",
        "\n",
        "from pinecone import Pinecone\n",
        "\n",
        "# get API key at app.pinecone.io\n",
        "os.environ[\"PINECONE_API_KEY\"] = os.getenv(\"PINECONE_API_KEY\") or getpass(\n",
        "    \"Enter your Pinecone API key: \"\n",
        ")\n",
        "\n",
        "# initialize client\n",
        "pc = Pinecone()"
      ]
    },
    {
      "cell_type": "markdown",
      "metadata": {
        "id": "OFqeT2xHONGF"
      },
      "source": [
        "## 初始化\n在初始化向量存储之前，让我们连接到 Pinecone 索引。如果名为 `index_name` 的索引不存在，它将被创建。"
      ]
    },
    {
      "cell_type": "code",
      "execution_count": 3,
      "metadata": {
        "colab": {
          "base_uri": "https://localhost:8080/"
        },
        "id": "9xNxmZsRONGF",
        "outputId": "b661d0af-26bd-43b2-f277-5366efd1d865"
      },
      "outputs": [
        {
          "name": "stdout",
          "output_type": "stream",
          "text": [
            "Index `langchain-sparse-vector-search` host: https://langchain-sparse-vector-search-yrrgefy.svc.aped-4627-b74a.pinecone.io\n"
          ]
        }
      ],
      "source": [
        "from pinecone import AwsRegion, CloudProvider, Metric, ServerlessSpec\n",
        "\n",
        "index_name = \"langchain-sparse-vector-search\"  # change if desired\n",
        "model_name = \"pinecone-sparse-english-v0\"\n",
        "\n",
        "if not pc.has_index(index_name):\n",
        "    pc.create_index_for_model(\n",
        "        name=index_name,\n",
        "        cloud=CloudProvider.AWS,\n",
        "        region=AwsRegion.US_EAST_1,\n",
        "        embed={\n",
        "            \"model\": model_name,\n",
        "            \"field_map\": {\"text\": \"chunk_text\"},\n",
        "            \"metric\": Metric.DOTPRODUCT,\n",
        "        },\n",
        "    )\n",
        "\n",
        "index = pc.Index(index_name)\n",
        "print(f\"Index `{index_name}` host: {index.config.host}\")"
      ]
    },
    {
      "cell_type": "markdown",
      "metadata": {
        "id": "E0fDNTF9ONGF"
      },
      "source": [
        "对于我们的稀疏嵌入模型，我们使用 [`pinecone-sparse-english-v0`](https://docs.pinecone.io/models/pinecone-sparse-english-v0)，初始化方式如下："
      ]
    },
    {
      "cell_type": "code",
      "execution_count": 4,
      "metadata": {
        "id": "swM_SFhOONGF"
      },
      "outputs": [],
      "source": [
        "from langchain_pinecone.embeddings import PineconeSparseEmbeddings\n",
        "\n",
        "sparse_embeddings = PineconeSparseEmbeddings(model=model_name)"
      ]
    },
    {
      "cell_type": "markdown",
      "metadata": {
        "id": "ZDL58ZRZONGF"
      },
      "source": [
        "现在我们的 Pinecone 索引和嵌入模型都已准备就绪，我们可以在 LangChain 中初始化我们的稀疏向量存储："
      ]
    },
    {
      "cell_type": "code",
      "execution_count": 5,
      "metadata": {
        "id": "GrBUli1VONGF"
      },
      "outputs": [],
      "source": [
        "from langchain_pinecone import PineconeSparseVectorStore\n",
        "\n",
        "vector_store = PineconeSparseVectorStore(index=index, embedding=sparse_embeddings)"
      ]
    },
    {
      "cell_type": "markdown",
      "metadata": {
        "id": "Bp8aeN4SONGG"
      },
      "source": [
        "## 管理向量存储\n创建向量存储后，我们可以通过添加和删除不同的项目来与之交互。\n\n### 向向量存储添加项目\n我们可以使用 `add_documents` 函数向向量存储添加项目。"
      ]
    },
    {
      "cell_type": "code",
      "execution_count": 6,
      "metadata": {
        "colab": {
          "base_uri": "https://localhost:8080/"
        },
        "id": "Ef0s0ovdONGG",
        "outputId": "bd61d82f-902d-4010-9701-b0e2ecb02d17"
      },
      "outputs": [
        {
          "data": {
            "text/plain": [
              "['95b598af-c3dc-4a8a-bdb7-5d21283e5a86',\n",
              " '838614a5-5635-4efd-9ac3-5237a37a542b',\n",
              " '093fd11f-c85b-4c83-83f0-117df64ff442',\n",
              " 'fb3ba32f-f802-410a-ad79-56f7bce938fe',\n",
              " '75cde9bf-7e91-4f06-8bae-c824dab16a08',\n",
              " '9de8f769-d604-4e56-b677-ee333cbc8e34',\n",
              " 'f5f4ae97-88e6-4669-bcf7-87072bb08550',\n",
              " 'f9f82811-187c-4b25-85b5-7a42b4da3bff',\n",
              " 'ce45957c-e8fc-41ef-819b-1bd52b6fc815',\n",
              " '66cacc6f-b8e2-441b-9f7f-468788aad88f']"
            ]
          },
          "execution_count": 6,
          "metadata": {},
          "output_type": "execute_result"
        }
      ],
      "source": [
        "from uuid import uuid4\n",
        "\n",
        "from langchain_core.documents import Document\n",
        "\n",
        "documents = [\n",
        "    Document(\n",
        "        page_content=\"I had chocolate chip pancakes and scrambled eggs for breakfast this morning.\",\n",
        "        metadata={\"source\": \"social\"},\n",
        "    ),\n",
        "    Document(\n",
        "        page_content=\"The weather forecast for tomorrow is cloudy and overcast, with a high of 62 degrees.\",\n",
        "        metadata={\"source\": \"news\"},\n",
        "    ),\n",
        "    Document(\n",
        "        page_content=\"Building an exciting new project with LangChain - come check it out!\",\n",
        "        metadata={\"source\": \"social\"},\n",
        "    ),\n",
        "    Document(\n",
        "        page_content=\"Robbers broke into the city bank and stole $1 million in cash.\",\n",
        "        metadata={\"source\": \"news\"},\n",
        "    ),\n",
        "    Document(\n",
        "        page_content=\"Wow! That was an amazing movie. I can't wait to see it again.\",\n",
        "        metadata={\"source\": \"social\"},\n",
        "    ),\n",
        "    Document(\n",
        "        page_content=\"Is the new iPhone worth the price? Read this review to find out.\",\n",
        "        metadata={\"source\": \"website\"},\n",
        "    ),\n",
        "    Document(\n",
        "        page_content=\"The top 10 soccer players in the world right now.\",\n",
        "        metadata={\"source\": \"website\"},\n",
        "    ),\n",
        "    Document(\n",
        "        page_content=\"LangGraph is the best framework for building stateful, agentic applications!\",\n",
        "        metadata={\"source\": \"social\"},\n",
        "    ),\n",
        "    Document(\n",
        "        page_content=\"The stock market is down 500 points today due to fears of a recession.\",\n",
        "        metadata={\"source\": \"news\"},\n",
        "    ),\n",
        "    Document(\n",
        "        page_content=\"I have a bad feeling I am going to get deleted :(\",\n",
        "        metadata={\"source\": \"social\"},\n",
        "    ),\n",
        "]\n",
        "\n",
        "uuids = [str(uuid4()) for _ in range(len(documents))]\n",
        "\n",
        "vector_store.add_documents(documents=documents, ids=uuids)"
      ]
    },
    {
      "cell_type": "markdown",
      "metadata": {
        "id": "KUIIEuYxONGG"
      },
      "source": [
        "### 从向量存储中删除项目"
      ]
    },
    {
      "cell_type": "markdown",
      "metadata": {
        "id": "pLFI8xEJONGG"
      },
      "source": [
        "我们可以使用 `delete` 方法，并提供一个要删除的文档 ID 列表，来从我们的向量存储中删除记录。"
      ]
    },
    {
      "cell_type": "code",
      "execution_count": 7,
      "metadata": {
        "id": "eboEnsbRONGG"
      },
      "outputs": [],
      "source": [
        "vector_store.delete(ids=[uuids[-1]])"
      ]
    },
    {
      "cell_type": "markdown",
      "metadata": {
        "id": "ggaQ5g4bONGG"
      },
      "source": [
        "## 查询向量存储\n\n一旦我们将文档加载到向量存储中，我们很可能就可以开始查询了。LangChain 中有多种执行此操作的方法。\n\n首先，我们将通过直接通过 `similarity_search` 方法查询我们的 `vector_store` 来执行简单的向量搜索："
      ]
    },
    {
      "cell_type": "code",
      "execution_count": 8,
      "metadata": {
        "colab": {
          "base_uri": "https://localhost:8080/"
        },
        "id": "QcIS_P8CONGG",
        "outputId": "774da46e-b919-4128-bc77-6c392e77f9f3"
      },
      "outputs": [
        {
          "name": "stdout",
          "output_type": "stream",
          "text": [
            "* Building an exciting new project with LangChain - come check it out! [{'source': 'social'}]\n",
            "* Building an exciting new project with LangChain - come check it out! [{'source': 'social'}]\n",
            "* LangGraph is the best framework for building stateful, agentic applications! [{'source': 'social'}]\n"
          ]
        }
      ],
      "source": [
        "results = vector_store.similarity_search(\"I'm building a new LangChain project!\", k=3)\n",
        "\n",
        "for res in results:\n",
        "    print(f\"* {res.page_content} [{res.metadata}]\")"
      ]
    },
    {
      "cell_type": "markdown",
      "metadata": {
        "id": "n-JlbidpONGG"
      },
      "source": [
        "我们还可以为查询添加[元数据过滤](https://docs.pinecone.io/guides/data/understanding-metadata#metadata-query-language)，以根据各种标准限制搜索。让我们尝试一个简单的过滤器，将搜索范围限制为仅包含 `source==\"social\"` 的记录："
      ]
    },
    {
      "cell_type": "code",
      "execution_count": 9,
      "metadata": {
        "colab": {
          "base_uri": "https://localhost:8080/"
        },
        "id": "N19HBLNCONGG",
        "outputId": "9c5e96c2-0b4e-4083-cd6a-dd6d8662df09"
      },
      "outputs": [
        {
          "name": "stdout",
          "output_type": "stream",
          "text": [
            "* Building an exciting new project with LangChain - come check it out! [{'source': 'social'}]\n",
            "* Building an exciting new project with LangChain - come check it out! [{'source': 'social'}]\n",
            "* LangGraph is the best framework for building stateful, agentic applications! [{'source': 'social'}]\n"
          ]
        }
      ],
      "source": [
        "results = vector_store.similarity_search(\n",
        "    \"I'm building a new LangChain project!\",\n",
        "    k=3,\n",
        "    filter={\"source\": \"social\"},\n",
        ")\n",
        "for res in results:\n",
        "    print(f\"* {res.page_content} [{res.metadata}]\")"
      ]
    },
    {
      "cell_type": "markdown",
      "metadata": {
        "id": "yEs4xmESONGG"
      },
      "source": [
        "在比较这些结果时，我们可以看到我们的第一个查询从 `\"website\"` 源返回了不同的记录。在后者（已过滤的）查询中，情况不再是这样。"
      ]
    },
    {
      "cell_type": "markdown",
      "metadata": {
        "id": "vWGkIfzCONGH"
      },
      "source": [
        "### 相似度搜索与得分\n\n我们也可以在搜索时返回相似度得分，结果是一个 `(文档, 分数)` 元组列表。其中 `文档` 是一个 LangChain 的 `Document` 对象，包含我们的文本内容和元数据。"
      ]
    },
    {
      "cell_type": "code",
      "execution_count": 10,
      "metadata": {
        "colab": {
          "base_uri": "https://localhost:8080/"
        },
        "id": "aRiHj8ADONGH",
        "outputId": "5649d70a-0bd0-446d-8e60-2348170da706"
      },
      "outputs": [
        {
          "name": "stdout",
          "output_type": "stream",
          "text": [
            "[SIM=12.959961] Building an exciting new project with LangChain - come check it out! [{'source': 'social'}]\n",
            "[SIM=12.959961] Building an exciting new project with LangChain - come check it out! [{'source': 'social'}]\n",
            "[SIM=1.942383] LangGraph is the best framework for building stateful, agentic applications! [{'source': 'social'}]\n"
          ]
        }
      ],
      "source": [
        "results = vector_store.similarity_search_with_score(\n",
        "    \"I'm building a new LangChain project!\", k=3, filter={\"source\": \"social\"}\n",
        ")\n",
        "for doc, score in results:\n",
        "    print(f\"[SIM={score:3f}] {doc.page_content} [{doc.metadata}]\")"
      ]
    },
    {
      "cell_type": "markdown",
      "metadata": {
        "id": "aqGelo6sONGH"
      },
      "source": [
        "### 作为检索器\n\n在我们的链和代理中，我们通常会将向量存储用作 `VectorStoreRetriever`。要创建它，我们使用 `as_retriever` 方法："
      ]
    },
    {
      "cell_type": "code",
      "execution_count": 11,
      "metadata": {
        "colab": {
          "base_uri": "https://localhost:8080/"
        },
        "id": "Tsn9--KsONGH",
        "outputId": "3da43258-49fb-4080-cbdd-f97101fb8099"
      },
      "outputs": [
        {
          "data": {
            "text/plain": [
              "VectorStoreRetriever(tags=['PineconeSparseVectorStore', 'PineconeSparseEmbeddings'], vectorstore=<langchain_pinecone.vectorstores_sparse.PineconeSparseVectorStore object at 0x7c8087b24290>, search_type='similarity_score_threshold', search_kwargs={'k': 3, 'score_threshold': 0.5})"
            ]
          },
          "execution_count": 11,
          "metadata": {},
          "output_type": "execute_result"
        }
      ],
      "source": [
        "retriever = vector_store.as_retriever(\n",
        "    search_type=\"similarity_score_threshold\",\n",
        "    search_kwargs={\"k\": 3, \"score_threshold\": 0.5},\n",
        ")\n",
        "retriever"
      ]
    },
    {
      "cell_type": "markdown",
      "metadata": {
        "id": "yDqb3q-VUY2t"
      },
      "source": [
        "我们现在可以使用 `invoke` 方法来查询我们的检索器："
      ]
    },
    {
      "cell_type": "code",
      "execution_count": 12,
      "metadata": {
        "colab": {
          "base_uri": "https://localhost:8080/"
        },
        "id": "mGV0p0TDUJyx",
        "outputId": "89db72c3-4ff2-4900-d302-482e54549b39"
      },
      "outputs": [
        {
          "name": "stderr",
          "output_type": "stream",
          "text": [
            "/usr/local/lib/python3.11/dist-packages/langchain_core/vectorstores/base.py:1082: UserWarning: Relevance scores must be between 0 and 1, got [(Document(id='093fd11f-c85b-4c83-83f0-117df64ff442', metadata={'source': 'social'}, page_content='Building an exciting new project with LangChain - come check it out!'), 6.97998045), (Document(id='54f8f645-9f77-4aab-b9fa-709fd91ae3b3', metadata={'source': 'social'}, page_content='Building an exciting new project with LangChain - come check it out!'), 6.97998045), (Document(id='f9f82811-187c-4b25-85b5-7a42b4da3bff', metadata={'source': 'social'}, page_content='LangGraph is the best framework for building stateful, agentic applications!'), 1.471191405)]\n",
            "  self.vectorstore.similarity_search_with_relevance_scores(\n"
          ]
        },
        {
          "data": {
            "text/plain": [
              "[Document(id='093fd11f-c85b-4c83-83f0-117df64ff442', metadata={'source': 'social'}, page_content='Building an exciting new project with LangChain - come check it out!'),\n",
              " Document(id='54f8f645-9f77-4aab-b9fa-709fd91ae3b3', metadata={'source': 'social'}, page_content='Building an exciting new project with LangChain - come check it out!'),\n",
              " Document(id='f9f82811-187c-4b25-85b5-7a42b4da3bff', metadata={'source': 'social'}, page_content='LangGraph is the best framework for building stateful, agentic applications!')]"
            ]
          },
          "execution_count": 12,
          "metadata": {},
          "output_type": "execute_result"
        }
      ],
      "source": [
        "retriever.invoke(\n",
        "    input=\"I'm building a new LangChain project!\", filter={\"source\": \"social\"}\n",
        ")"
      ]
    },
    {
      "cell_type": "markdown",
      "metadata": {},
      "source": [
        "## 用于检索增强生成的使用方法\n\n有关如何将此向量存储用于检索增强生成 (RAG) 的指南，请参阅以下章节：\n\n- [教程](/docs/tutorials/)\n- [如何：使用 RAG 进行问答](https://python.langchain.com/docs/how_to/#qa-with-rag)\n- [检索概念文档](https://python.langchain.com/docs/concepts/retrieval)"
      ]
    },
    {
      "cell_type": "markdown",
      "metadata": {},
      "source": [
        "## API 参考\n\n有关所有功能和配置的详细文档，请访问 API 参考：\nhttps://python.langchain.com/api_reference/pinecone/vectorstores_sparse/langchain_pinecone.vectorstores_sparse.PineconeSparseVectorStore.html#langchain_pinecone.vectorstores_sparse.PineconeSparseVectorStore\n\n稀疏嵌入：\nhttps://python.langchain.com/api_reference/pinecone/embeddings/langchain_pinecone.embeddings.PineconeSparseEmbeddings.html"
      ]
    }
  ],
  "metadata": {
    "colab": {
      "provenance": []
    },
    "kernelspec": {
      "display_name": ".venv",
      "language": "python",
      "name": "python3"
    },
    "language_info": {
      "codemirror_mode": {
        "name": "ipython",
        "version": 3
      },
      "file_extension": ".py",
      "mimetype": "text/x-python",
      "name": "python",
      "nbconvert_exporter": "python",
      "pygments_lexer": "ipython3",
      "version": "3.12.7"
    }
  },
  "nbformat": 4,
  "nbformat_minor": 0
}