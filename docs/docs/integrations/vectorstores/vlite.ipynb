{
  "cells": [
    {
      "cell_type": "markdown",
      "metadata": {},
      "source": [
        "# vlite\n\nVLite 是一个简单且极速的向量数据库，它允许您使用嵌入（embeddings）以语义方式存储和检索数据。VLite 使用 numpy 构建，是一个轻量级的“自带电池”数据库，可用于实现 RAG（检索增强生成）、相似性搜索和将嵌入集成到您的项目中。\n\n您需要安装 `langchain-community` 才能使用此集成：`pip install -qU langchain-community`\n\n## 安装\n\n要在 LangChain 中使用 VLite，您需要安装 `vlite` 包：\n\n```bash\n!pip install vlite\n```\n\n## 导入 VLite\n\n```python\nfrom langchain_community.vectorstores import VLite\n```\n\n## 基本示例\n\n在此基本示例中，我们加载一个文本文档，并将其存储在 VLite 向量数据库中。然后，我们执行相似性搜索以根据查询检索相关文档。\n\nVLite 会为您处理文本分块和嵌入，您可以通过预先分块文本和/或将这些分块嵌入到 VLite 数据库中来更改这些参数。\n\n```python\nfrom langchain.document_loaders import TextLoader\nfrom langchain.text_splitter import CharacterTextSplitter\n\n# 加载文档并将其分割成块\nloader = TextLoader(\"path/to/document.txt\")\ndocuments = loader.load()\n\n# 创建一个 VLite 实例\nvlite = VLite(collection=\"my_collection\")\n\n# 将文档添加到 VLite 向量数据库\nvlite.add_documents(documents)\n\n# 执行相似性搜索\nquery = \"What is the main topic of the document?\"\ndocs = vlite.similarity_search(query)\n\n# 打印最相关的文档\nprint(docs[0].page_content)\n```\n\n## 添加文本和文档\n\n您可以使用 `add_texts` 和 `add_documents` 方法分别将文本或文档添加到 VLite 向量数据库。\n\n```python\n# 将文本添加到 VLite 向量数据库\ntexts = [\"This is the first text.\", \"This is the second text.\"]\nvlite.add_texts(texts)\n\n# 将文档添加到 VLite 向量数据库\ndocuments = [Document(page_content=\"This is a document.\", metadata={\"source\": \"example.txt\"})]\nvlite.add_documents(documents)\n```\n\n## 相似性搜索\n\nVLite 提供了对存储文档执行相似性搜索的方法。\n\n```python\n# 执行相似性搜索\nquery = \"What is the main topic of the document?\"\ndocs = vlite.similarity_search(query, k=3)\n\n# 执行带有分数的相似性搜索\ndocs_with_scores = vlite.similarity_search_with_score(query, k=3)\n```\n\n## 最大边际相关性搜索 (Max Marginal Relevance Search)\n\nVLite 还支持最大边际相关性 (MMR) 搜索，它同时优化了与查询的相似性以及检索文档之间的多样性。\n\n```python\n# 执行 MMR 搜索\ndocs = vlite.max_marginal_relevance_search(query, k=3)\n```\n\n## 更新和删除文档\n\n您可以使用 `update_document` 和 `delete` 方法在 VLite 向量数据库中更新或删除文档。\n\n```python\n# 更新文档\ndocument_id = \"doc_id_1\"\nupdated_document = Document(page_content=\"Updated content\", metadata={\"source\": \"updated.txt\"})\nvlite.update_document(document_id, updated_document)\n\n# 删除文档\ndocument_ids = [\"doc_id_1\", \"doc_id_2\"]\nvlite.delete(document_ids)\n```\n\n## 检索文档\n\n您可以使用 `get` 方法根据 ID 或元数据从 VLite 向量数据库中检索文档。\n\n```python\n# 通过 ID 检索文档\ndocument_ids = [\"doc_id_1\", \"doc_id_2\"]\ndocs = vlite.get(ids=document_ids)\n\n# 通过元数据检索文档\nmetadata_filter = {\"source\": \"example.txt\"}\ndocs = vlite.get(where=metadata_filter)\n```\n\n## 创建 VLite 实例\n\n您可以使用多种方法创建 VLite 实例：\n\n```python\n# 从文本创建 VLite 实例\nvlite = VLite.from_texts(texts)\n\n# 从文档创建 VLite 实例\nvlite = VLite.from_documents(documents)\n\n# 从现有索引创建 VLite 实例\nvlite = VLite.from_existing_index(collection=\"existing_collection\")\n```\n\n## 附加功能\n\nVLite 提供了用于管理向量数据库的附加功能：\n\n```python\nfrom langchain.vectorstores import VLite\nvlite = VLite(collection=\"my_collection\")\n\n# 获取集合中的项目数量\ncount = vlite.count()\n\n# 保存集合\nvlite.save()\n\n# 清空集合\nvlite.clear()\n\n# 获取集合信息\nvlite.info()\n\n# 导出集合数据\ndata = vlite.dump()\n```"
      ]
    },
    {
      "cell_type": "markdown",
      "metadata": {},
      "source": []
    }
  ],
  "metadata": {
    "kernelspec": {
      "display_name": "Python 3 (ipykernel)",
      "language": "python",
      "name": "python3"
    },
    "language_info": {
      "codemirror_mode": {
        "name": "ipython",
        "version": 3
      },
      "file_extension": ".py",
      "mimetype": "text/x-python",
      "name": "python",
      "nbconvert_exporter": "python",
      "pygments_lexer": "ipython3",
      "version": "3.9.7"
    }
  },
  "nbformat": 4,
  "nbformat_minor": 4
}