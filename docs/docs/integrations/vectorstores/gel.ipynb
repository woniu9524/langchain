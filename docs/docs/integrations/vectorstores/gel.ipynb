{
  "cells": [
    {
      "cell_type": "markdown",
      "id": "7679dd7b-7ed4-4755-a499-824deadba708",
      "metadata": {},
      "source": [
        "# Gel\n\n> 使用 `gel` 作为后端实现的 LangChain 向量存储抽象。\n\n[Gel](https://www.geldata.com/) 是一个开源的 PostgreSQL 数据层，为从开发到生产的快速周期进行了优化。它提供了一个高级的、严格类型化的类图数据模型、可组合的分层查询语言、完整的 SQL 支持、迁移、Auth 和 AI 模块。\n\n代码位于一个名为 [langchain-gel](https://github.com/geldata/langchain-gel) 的集成包中。\n\n## 设置\n\n首先安装相关包："
      ]
    },
    {
      "cell_type": "code",
      "execution_count": null,
      "id": "92df32f0",
      "metadata": {},
      "outputs": [],
      "source": [
        "! pip install -qU gel langchain-gel "
      ]
    },
    {
      "cell_type": "markdown",
      "id": "68ef6ebb",
      "metadata": {},
      "source": [
        "## 初始化\n\n为了将 Gel 作为 `VectorStore` 的后端，你需要一个可用的 Gel 实例。\n幸运的是，这并不一定需要复杂的 Docker 容器或任何其他东西，除非你愿意！\n\n要设置本地实例，请运行："
      ]
    },
    {
      "cell_type": "code",
      "execution_count": null,
      "id": "b79938d3",
      "metadata": {},
      "outputs": [],
      "source": [
        "! gel project init --non-interactive"
      ]
    },
    {
      "cell_type": "markdown",
      "id": "08e79230",
      "metadata": {},
      "source": [
        "如果你正在使用 [Gel Cloud](https://cloud.geldata.com/)（你应该用！），请在命令中添加一个额外的参数：\n\n```bash\ngel project init --server-instance <org-name>/<instance-name>\n```\n\n要全面了解 Gel 的运行方式，请参阅参考文档中的 [Running Gel](https://docs.geldata.com/reference/running) 部分。\n\n### 设置 schema\n\n[Gel schema](https://docs.geldata.com/reference/datamodel) 是你应用程序数据模型的显式高级描述。\n除了让你精确定义数据布局方式外，它还驱动着 Gel 的许多强大功能，例如 links、access policies、functions、triggers、constraints、indexes 等等。\n\nLangChain 的 `VectorStore` 期望 schema 具有以下布局："
      ]
    },
    {
      "cell_type": "code",
      "execution_count": 14,
      "id": "9a7edd58",
      "metadata": {},
      "outputs": [],
      "source": [
        "schema_content = \"\"\"\n",
        "using extension pgvector;\n",
        "                                    \n",
        "module default {\n",
        "    scalar type EmbeddingVector extending ext::pgvector::vector<1536>;\n",
        "\n",
        "    type Record {\n",
        "        required collection: str;\n",
        "        text: str;\n",
        "        embedding: EmbeddingVector; \n",
        "        external_id: str {\n",
        "            constraint exclusive;\n",
        "        };\n",
        "        metadata: json;\n",
        "\n",
        "        index ext::pgvector::hnsw_cosine(m := 16, ef_construction := 128)\n",
        "            on (.embedding)\n",
        "    } \n",
        "}\n",
        "\"\"\".strip()\n",
        "\n",
        "with open(\"dbschema/default.gel\", \"w\") as f:\n",
        "    f.write(schema_content)"
      ]
    },
    {
      "cell_type": "markdown",
      "id": "90320ef1",
      "metadata": {},
      "source": [
        "为了将 schema 更改应用到数据库，请使用 Gel 的 [migration 机制](https://docs.geldata.com/reference/datamodel/migrations) 来运行迁移："
      ]
    },
    {
      "cell_type": "code",
      "execution_count": null,
      "id": "cdff483e",
      "metadata": {},
      "outputs": [],
      "source": [
        "! gel migration create --non-interactive\n",
        "! gel migrate"
      ]
    },
    {
      "cell_type": "markdown",
      "id": "b2290ef2",
      "metadata": {},
      "source": [
        "从这一点开始，`GelVectorStore` 可以作为 LangChain 中任何其他可用向量存储的即插即用替代品。"
      ]
    },
    {
      "cell_type": "markdown",
      "id": "ec44dfcc",
      "metadata": {},
      "source": [
        "## 实例化\n\nimport EmbeddingTabs from \"@theme/EmbeddingTabs\";\n\n<EmbeddingTabs/>"
      ]
    },
    {
      "cell_type": "code",
      "execution_count": 2,
      "id": "94f5c129",
      "metadata": {},
      "outputs": [],
      "source": [
        "# | output: false\n",
        "# | echo: false\n",
        "from langchain_openai import OpenAIEmbeddings\n",
        "\n",
        "embeddings = OpenAIEmbeddings(model=\"text-embedding-3-small\")"
      ]
    },
    {
      "cell_type": "code",
      "execution_count": 3,
      "id": "979a65bd-742f-4b0d-be1e-c0baae245ec6",
      "metadata": {
        "tags": []
      },
      "outputs": [],
      "source": [
        "from langchain_gel import GelVectorStore\n",
        "\n",
        "vector_store = GelVectorStore(\n",
        "    embeddings=embeddings,\n",
        ")"
      ]
    },
    {
      "cell_type": "markdown",
      "id": "61a224a1-d70b-4daf-86ba-ab6e43c08b50",
      "metadata": {},
      "source": [
        "## 管理向量存储\n\n### 向向量存储添加条目\n\n请注意，通过 ID 添加文档将覆盖所有匹配该 ID 的现有文档。"
      ]
    },
    {
      "cell_type": "code",
      "execution_count": null,
      "id": "88a288cc-ffd4-4800-b011-750c72b9fd10",
      "metadata": {
        "tags": []
      },
      "outputs": [],
      "source": [
        "from langchain_core.documents import Document\n",
        "\n",
        "docs = [\n",
        "    Document(\n",
        "        page_content=\"there are cats in the pond\",\n",
        "        metadata={\"id\": \"1\", \"location\": \"pond\", \"topic\": \"animals\"},\n",
        "    ),\n",
        "    Document(\n",
        "        page_content=\"ducks are also found in the pond\",\n",
        "        metadata={\"id\": \"2\", \"location\": \"pond\", \"topic\": \"animals\"},\n",
        "    ),\n",
        "    Document(\n",
        "        page_content=\"fresh apples are available at the market\",\n",
        "        metadata={\"id\": \"3\", \"location\": \"market\", \"topic\": \"food\"},\n",
        "    ),\n",
        "    Document(\n",
        "        page_content=\"the market also sells fresh oranges\",\n",
        "        metadata={\"id\": \"4\", \"location\": \"market\", \"topic\": \"food\"},\n",
        "    ),\n",
        "    Document(\n",
        "        page_content=\"the new art exhibit is fascinating\",\n",
        "        metadata={\"id\": \"5\", \"location\": \"museum\", \"topic\": \"art\"},\n",
        "    ),\n",
        "    Document(\n",
        "        page_content=\"a sculpture exhibit is also at the museum\",\n",
        "        metadata={\"id\": \"6\", \"location\": \"museum\", \"topic\": \"art\"},\n",
        "    ),\n",
        "    Document(\n",
        "        page_content=\"a new coffee shop opened on Main Street\",\n",
        "        metadata={\"id\": \"7\", \"location\": \"Main Street\", \"topic\": \"food\"},\n",
        "    ),\n",
        "    Document(\n",
        "        page_content=\"the book club meets at the library\",\n",
        "        metadata={\"id\": \"8\", \"location\": \"library\", \"topic\": \"reading\"},\n",
        "    ),\n",
        "    Document(\n",
        "        page_content=\"the library hosts a weekly story time for kids\",\n",
        "        metadata={\"id\": \"9\", \"location\": \"library\", \"topic\": \"reading\"},\n",
        "    ),\n",
        "    Document(\n",
        "        page_content=\"a cooking class for beginners is offered at the community center\",\n",
        "        metadata={\"id\": \"10\", \"location\": \"community center\", \"topic\": \"classes\"},\n",
        "    ),\n",
        "]\n",
        "\n",
        "vector_store.add_documents(docs, ids=[doc.metadata[\"id\"] for doc in docs])"
      ]
    },
    {
      "cell_type": "markdown",
      "id": "0c712fa3",
      "metadata": {},
      "source": [
        "### 从向量存储中删除项目"
      ]
    },
    {
      "cell_type": "code",
      "execution_count": 5,
      "id": "a5b2b71f-49eb-407d-b03a-dea4c0a517d6",
      "metadata": {
        "tags": []
      },
      "outputs": [],
      "source": [
        "vector_store.delete(ids=[\"3\"])"
      ]
    },
    {
      "cell_type": "markdown",
      "id": "59f82250-7903-4279-8300-062542c83416",
      "metadata": {},
      "source": [
        "## 查询向量库\n\n在创建了向量库并添加了相关文档后，你很可能希望在运行链或代理时进行查询。\n\n### 过滤支持\n\n向量库支持一组可以应用于文档元数据字段的过滤器。\n\n| 操作符 | 含义/类别               |\n|--------|--------------------------|\n| \\$eq   | 等于 (==)                |\n| \\$ne   | 不等于 (!=)              |\n| \\$lt   | 小于 (&lt;)               |\n| \\$lte  | 小于等于 (&lt;=)          |\n| \\$gt   | 大于 (>)                 |\n| \\$gte  | 大于等于 (>=)            |\n| \\$in   | 特殊情况 (in)            |\n| \\$nin  | 特殊情况 (not in)        |\n| \\$between | 特殊情况 (between)       |\n| \\$like | 文本 (like)              |\n| \\$ilike | 文本 (不区分大小写的 like) |\n| \\$and  | 逻辑 (and)               |\n| \\$or   | 逻辑 (or)                |\n\n### 直接查询\n\n进行简单的相似性搜索可以如下完成："
      ]
    },
    {
      "cell_type": "code",
      "execution_count": null,
      "id": "f15a2359-6dc3-4099-8214-785f167a9ca4",
      "metadata": {
        "tags": []
      },
      "outputs": [],
      "source": [
        "results = vector_store.similarity_search(\n",
        "    \"kitty\", k=10, filter={\"id\": {\"$in\": [\"1\", \"5\", \"2\", \"9\"]}}\n",
        ")\n",
        "for doc in results:\n",
        "    print(f\"* {doc.page_content} [{doc.metadata}]\")"
      ]
    },
    {
      "cell_type": "markdown",
      "id": "d92ea049-1b1f-4ae9-9525-35750fe2e52e",
      "metadata": {},
      "source": [
        "如果你提供一个包含多个字段但没有运算符的字典，顶层将被解释为逻辑 **AND** 过滤器"
      ]
    },
    {
      "cell_type": "code",
      "execution_count": null,
      "id": "88f919e4-e4b0-4b5f-99b3-24c675c26d33",
      "metadata": {
        "tags": []
      },
      "outputs": [],
      "source": [
        "vector_store.similarity_search(\n",
        "    \"ducks\",\n",
        "    k=10,\n",
        "    filter={\n",
        "        \"id\": {\"$in\": [\"1\", \"5\", \"2\", \"9\"]},\n",
        "        \"location\": {\"$in\": [\"pond\", \"market\"]},\n",
        "    },\n",
        ")"
      ]
    },
    {
      "cell_type": "code",
      "execution_count": null,
      "id": "88f423a4-6575-4fb8-9be2-a3da01106591",
      "metadata": {
        "tags": []
      },
      "outputs": [],
      "source": [
        "vector_store.similarity_search(\n",
        "    \"ducks\",\n",
        "    k=10,\n",
        "    filter={\n",
        "        \"$and\": [\n",
        "            {\"id\": {\"$in\": [\"1\", \"5\", \"2\", \"9\"]}},\n",
        "            {\"location\": {\"$in\": [\"pond\", \"market\"]}},\n",
        "        ]\n",
        "    },\n",
        ")"
      ]
    },
    {
      "cell_type": "markdown",
      "id": "2e65adc1",
      "metadata": {},
      "source": [
        "如果您想执行相似性搜索并获得相应的得分，可以运行："
      ]
    },
    {
      "cell_type": "code",
      "execution_count": null,
      "id": "7d92e7b3",
      "metadata": {},
      "outputs": [],
      "source": [
        "results = vector_store.similarity_search_with_score(query=\"cats\", k=1)\n",
        "for doc, score in results:\n",
        "    print(f\"* [SIM={score:3f}] {doc.page_content} [{doc.metadata}]\")"
      ]
    },
    {
      "cell_type": "markdown",
      "id": "8d40db8c",
      "metadata": {},
      "source": [
        "### 查询转换为检索器\n\n你也可以将向量存储转换为检索器，以便在你的链中使用。"
      ]
    },
    {
      "cell_type": "code",
      "execution_count": null,
      "id": "7cd1fb75",
      "metadata": {},
      "outputs": [],
      "source": [
        "retriever = vector_store.as_retriever(search_kwargs={\"k\": 1})\n",
        "retriever.invoke(\"kitty\")"
      ]
    },
    {
      "cell_type": "markdown",
      "id": "7ecd77a0",
      "metadata": {},
      "source": [
        "## 用于检索增强生成 (Retrieval-Augmented Generation) 的用法\n\n有关如何将此向量存储用于检索增强生成 (RAG) 的指南，请参阅以下部分：\n\n- [教程](/docs/tutorials/)\n- [操作指南：使用 RAG 进行问答](https://python.langchain.com/docs/how_to/#qa-with-rag)\n- [检索概念文档](https://python.langchain.com/docs/concepts/retrieval)"
      ]
    },
    {
      "cell_type": "markdown",
      "id": "33a5f0e6",
      "metadata": {},
      "source": [
        "## API 参考\n\n如需了解 GelVectorStore 的所有功能和配置的详细文档，请访问 API 参考：https://python.langchain.com/api_reference/"
      ]
    }
  ],
  "metadata": {
    "kernelspec": {
      "display_name": ".venv",
      "language": "python",
      "name": "python3"
    },
    "language_info": {
      "codemirror_mode": {
        "name": "ipython",
        "version": 3
      },
      "file_extension": ".py",
      "mimetype": "text/x-python",
      "name": "python",
      "nbconvert_exporter": "python",
      "pygments_lexer": "ipython3",
      "version": "3.13.2"
    }
  },
  "nbformat": 4,
  "nbformat_minor": 5
}