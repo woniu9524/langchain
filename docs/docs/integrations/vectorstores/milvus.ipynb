{
  "cells": [
    {
      "cell_type": "markdown",
      "id": "683953b3",
      "metadata": {
        "id": "683953b3"
      },
      "source": [
        "# Milvus\n\n>[Milvus](https://milvus.io/docs/overview.md) 是一个数据库，用于存储、索引和管理由深度神经网络和其他机器学习 (ML) 模型生成的海量 embedding 向量。\n\n本 Notebook 展示了如何使用与 Milvus 向量数据库相关的功能。\n\n## 设置\n\n您需要安装 `langchain-milvus`，命令为 `pip install -qU langchain-milvus`，才能使用此集成。"
      ]
    },
    {
      "cell_type": "code",
      "execution_count": 1,
      "id": "a62cff8a-bcf7-4e33-bbbc-76999c2e3e20",
      "metadata": {
        "id": "a62cff8a-bcf7-4e33-bbbc-76999c2e3e20",
        "tags": []
      },
      "outputs": [
        {
          "name": "stdout",
          "output_type": "stream",
          "text": [
            "Note: you may need to restart the kernel to use updated packages.\n"
          ]
        }
      ],
      "source": [
        "pip install -qU langchain_milvus"
      ]
    },
    {
      "cell_type": "markdown",
      "id": "dfd17253",
      "metadata": {},
      "source": [
        "### 凭证\n\n使用 `Milvus` 向量库不需要任何凭证。"
      ]
    },
    {
      "cell_type": "markdown",
      "id": "633addc3",
      "metadata": {
        "id": "633addc3"
      },
      "source": [
        "## 初始化\n\nimport EmbeddingTabs from \"@theme/EmbeddingTabs\";\n\n<EmbeddingTabs/>"
      ]
    },
    {
      "cell_type": "code",
      "execution_count": 2,
      "id": "a7dd253f",
      "metadata": {
        "id": "a7dd253f"
      },
      "outputs": [],
      "source": [
        "# | output: false\n",
        "# | echo: false\n",
        "from langchain_openai import OpenAIEmbeddings\n",
        "\n",
        "embeddings = OpenAIEmbeddings(model=\"text-embedding-3-large\")"
      ]
    },
    {
      "cell_type": "markdown",
      "id": "50e55d42",
      "metadata": {},
      "source": [
        "### Milvus Lite\n\n最简单的原型设计方法是使用 Milvus Lite，所有数据都存储在本地向量数据库文件中。只能使用 Flat 索引。"
      ]
    },
    {
      "cell_type": "code",
      "execution_count": 3,
      "id": "dcf88bdf",
      "metadata": {
        "id": "dcf88bdf",
        "tags": []
      },
      "outputs": [],
      "source": [
        "from langchain_milvus import Milvus\n",
        "\n",
        "URI = \"./milvus_example.db\"\n",
        "\n",
        "vector_store = Milvus(\n",
        "    embedding_function=embeddings,\n",
        "    connection_args={\"uri\": URI},\n",
        "    index_params={\"index_type\": \"FLAT\", \"metric_type\": \"L2\"},\n",
        ")"
      ]
    },
    {
      "cell_type": "markdown",
      "id": "df34e8f4",
      "metadata": {},
      "source": [
        "### Milvus 服务器\n\n如果您拥有大量数据（例如，超过一百万个向量），我们建议在 [Docker](https://milvus.io/docs/install_standalone-docker.md#Start-Milvus) 或 [Kubernetes](https://milvus.io/docs/install_cluster-milvusoperator.md) 上设置一个性能更高的 Milvus 服务器。\n\nMilvus 服务器支持多种[索引](https://milvus.io/docs/index.md?tab=floating)。利用这些不同的索引可以显著增强检索能力并加快检索过程，以满足您的特定需求。\n\n例如，以 Milvus Standalone 为例。要启动 Docker 容器，您可以运行以下命令："
      ]
    },
    {
      "cell_type": "code",
      "execution_count": null,
      "id": "0fddc9a6",
      "metadata": {},
      "outputs": [
        {
          "name": "stdout",
          "output_type": "stream",
          "text": [
            "Password:"
          ]
        }
      ],
      "source": [
        "!curl -sfL https://raw.githubusercontent.com/milvus-io/milvus/master/scripts/standalone_embed.sh -o standalone_embed.sh\n",
        "\n",
        "!bash standalone_embed.sh start"
      ]
    },
    {
      "cell_type": "markdown",
      "id": "9045ef4a",
      "metadata": {},
      "source": [
        "在此，我们创建一个 Milvus 数据库："
      ]
    },
    {
      "cell_type": "code",
      "execution_count": 15,
      "id": "fcff1834",
      "metadata": {},
      "outputs": [
        {
          "name": "stdout",
          "output_type": "stream",
          "text": [
            "Database 'milvus_demo' does not exist.\n",
            "Database 'milvus_demo' created successfully.\n"
          ]
        }
      ],
      "source": [
        "from pymilvus import Collection, MilvusException, connections, db, utility\n",
        "\n",
        "conn = connections.connect(host=\"127.0.0.1\", port=19530)\n",
        "\n",
        "# Check if the database exists\n",
        "db_name = \"milvus_demo\"\n",
        "try:\n",
        "    existing_databases = db.list_database()\n",
        "    if db_name in existing_databases:\n",
        "        print(f\"Database '{db_name}' already exists.\")\n",
        "\n",
        "        # Use the database context\n",
        "        db.using_database(db_name)\n",
        "\n",
        "        # Drop all collections in the database\n",
        "        collections = utility.list_collections()\n",
        "        for collection_name in collections:\n",
        "            collection = Collection(name=collection_name)\n",
        "            collection.drop()\n",
        "            print(f\"Collection '{collection_name}' has been dropped.\")\n",
        "\n",
        "        db.drop_database(db_name)\n",
        "        print(f\"Database '{db_name}' has been deleted.\")\n",
        "    else:\n",
        "        print(f\"Database '{db_name}' does not exist.\")\n",
        "        database = db.create_database(db_name)\n",
        "        print(f\"Database '{db_name}' created successfully.\")\n",
        "except MilvusException as e:\n",
        "    print(f\"An error occurred: {e}\")"
      ]
    },
    {
      "cell_type": "markdown",
      "id": "b50e3ff7",
      "metadata": {},
      "source": [
        "请注意下面 URI 的变化。实例初始化后，请导航至 http://127.0.0.1:9091/webui 查看本地 Web UI。\n\n以下是使用 Milvus 数据库服务创建向量存储实例的示例："
      ]
    },
    {
      "cell_type": "code",
      "execution_count": 16,
      "id": "07460732",
      "metadata": {},
      "outputs": [],
      "source": [
        "from langchain_milvus import BM25BuiltInFunction, Milvus\n",
        "\n",
        "URI = \"http://localhost:19530\"\n",
        "\n",
        "vectorstore = Milvus(\n",
        "    embedding_function=embeddings,\n",
        "    connection_args={\"uri\": URI, \"token\": \"root:Milvus\", \"db_name\": \"milvus_demo\"},\n",
        "    index_params={\"index_type\": \"FLAT\", \"metric_type\": \"L2\"},\n",
        "    consistency_level=\"Strong\",\n",
        "    drop_old=False,  # set to True if seeking to drop the collection with that name if it exists\n",
        ")"
      ]
    },
    {
      "cell_type": "markdown",
      "id": "6d5a9670",
      "metadata": {},
      "source": [
        "> 如果您想使用 Zilliz Cloud，即 Milvus 的全托管云服务，请调整 `uri` 和 `token`，它们分别对应 Zilliz Cloud 中的 [公共端点](https://docs.zilliz.com/docs/byoc/quick-start#free-cluster-details) 和 [API 密钥](https://docs.zilliz.com/docs/byoc/quick-start#free-cluster-details)。"
      ]
    },
    {
      "cell_type": "markdown",
      "id": "cae1a7d5",
      "metadata": {
        "id": "cae1a7d5"
      },
      "source": [
        "### 使用 Milvus Collection 对数据进行分区\n\n您可以在同一个 Milvus 实例中将不相关的文档存储在不同的 collection 中。\n\n以下是如何创建一个新的 collection："
      ]
    },
    {
      "cell_type": "code",
      "execution_count": null,
      "id": "c6f4973d",
      "metadata": {
        "id": "c6f4973d"
      },
      "outputs": [],
      "source": [
        "from langchain_core.documents import Document\n",
        "\n",
        "vector_store_saved = Milvus.from_documents(\n",
        "    [Document(page_content=\"foo!\")],\n",
        "    embeddings,\n",
        "    collection_name=\"langchain_example\",\n",
        "    connection_args={\"uri\": URI},\n",
        ")"
      ]
    },
    {
      "cell_type": "markdown",
      "id": "3b12df8c",
      "metadata": {
        "id": "3b12df8c"
      },
      "source": [
        "以下是检索已存储集合的方法："
      ]
    },
    {
      "cell_type": "code",
      "execution_count": null,
      "id": "12817d16",
      "metadata": {
        "id": "12817d16"
      },
      "outputs": [],
      "source": [
        "vector_store_loaded = Milvus(\n",
        "    embeddings,\n",
        "    connection_args={\"uri\": URI},\n",
        "    collection_name=\"langchain_example\",\n",
        ")"
      ]
    },
    {
      "cell_type": "markdown",
      "id": "f1fc3818",
      "metadata": {
        "id": "f1fc3818"
      },
      "source": [
        "## 管理向量库\n\n创建向量库后，我们可以通过添加和删除不同的项目与之交互。\n\n### 向向量库添加项目\n\n我们可以使用 `add_documents` 函数向向量库添加项目。"
      ]
    },
    {
      "cell_type": "code",
      "execution_count": null,
      "id": "3ced24f6",
      "metadata": {
        "id": "3ced24f6",
        "outputId": "9c57a6bb-86eb-456c-f007-6cabd6865299"
      },
      "outputs": [],
      "source": [
        "from uuid import uuid4\n",
        "\n",
        "from langchain_core.documents import Document\n",
        "\n",
        "document_1 = Document(\n",
        "    page_content=\"I had chocolate chip pancakes and scrambled eggs for breakfast this morning.\",\n",
        "    metadata={\"source\": \"tweet\"},\n",
        ")\n",
        "\n",
        "document_2 = Document(\n",
        "    page_content=\"The weather forecast for tomorrow is cloudy and overcast, with a high of 62 degrees.\",\n",
        "    metadata={\"source\": \"news\"},\n",
        ")\n",
        "\n",
        "document_3 = Document(\n",
        "    page_content=\"Building an exciting new project with LangChain - come check it out!\",\n",
        "    metadata={\"source\": \"tweet\"},\n",
        ")\n",
        "\n",
        "document_4 = Document(\n",
        "    page_content=\"Robbers broke into the city bank and stole $1 million in cash.\",\n",
        "    metadata={\"source\": \"news\"},\n",
        ")\n",
        "\n",
        "document_5 = Document(\n",
        "    page_content=\"Wow! That was an amazing movie. I can't wait to see it again.\",\n",
        "    metadata={\"source\": \"tweet\"},\n",
        ")\n",
        "\n",
        "document_6 = Document(\n",
        "    page_content=\"Is the new iPhone worth the price? Read this review to find out.\",\n",
        "    metadata={\"source\": \"website\"},\n",
        ")\n",
        "\n",
        "document_7 = Document(\n",
        "    page_content=\"The top 10 soccer players in the world right now.\",\n",
        "    metadata={\"source\": \"website\"},\n",
        ")\n",
        "\n",
        "document_8 = Document(\n",
        "    page_content=\"LangGraph is the best framework for building stateful, agentic applications!\",\n",
        "    metadata={\"source\": \"tweet\"},\n",
        ")\n",
        "\n",
        "document_9 = Document(\n",
        "    page_content=\"The stock market is down 500 points today due to fears of a recession.\",\n",
        "    metadata={\"source\": \"news\"},\n",
        ")\n",
        "\n",
        "document_10 = Document(\n",
        "    page_content=\"I have a bad feeling I am going to get deleted :(\",\n",
        "    metadata={\"source\": \"tweet\"},\n",
        ")\n",
        "\n",
        "documents = [\n",
        "    document_1,\n",
        "    document_2,\n",
        "    document_3,\n",
        "    document_4,\n",
        "    document_5,\n",
        "    document_6,\n",
        "    document_7,\n",
        "    document_8,\n",
        "    document_9,\n",
        "    document_10,\n",
        "]\n",
        "uuids = [str(uuid4()) for _ in range(len(documents))]\n",
        "\n",
        "vector_store.add_documents(documents=documents, ids=uuids)"
      ]
    },
    {
      "cell_type": "markdown",
      "id": "e23c22d8",
      "metadata": {
        "id": "e23c22d8"
      },
      "source": [
        "### 从向量存储中删除项目"
      ]
    },
    {
      "cell_type": "code",
      "execution_count": null,
      "id": "1f387fa8",
      "metadata": {
        "id": "1f387fa8",
        "outputId": "62fee30d-92c9-4efd-df8a-453545ff61d0"
      },
      "outputs": [
        {
          "data": {
            "text/plain": [
              "(insert count: 0, delete count: 1, upsert count: 0, timestamp: 0, success count: 0, err count: 0, cost: 0)"
            ]
          },
          "execution_count": 32,
          "metadata": {},
          "output_type": "execute_result"
        }
      ],
      "source": [
        "vector_store.delete(ids=[uuids[-1]])"
      ]
    },
    {
      "cell_type": "markdown",
      "id": "fb12fa75",
      "metadata": {
        "id": "fb12fa75"
      },
      "source": [
        "## 查询向量数据库\n\n一旦您的向量数据库创建完成并且已添加了相关文档，您很可能希望在链或代理运行时对其进行查询。\n\n### 直接查询\n\n#### 相似性搜索\n\n可以按如下方式使用元数据过滤执行简单的相似性搜索："
      ]
    },
    {
      "cell_type": "code",
      "execution_count": null,
      "id": "35801a55",
      "metadata": {
        "id": "35801a55",
        "outputId": "13865abb-11a2-41ae-9ad7-44e8586fd099"
      },
      "outputs": [
        {
          "name": "stdout",
          "output_type": "stream",
          "text": [
            "* Building an exciting new project with LangChain - come check it out! [{'pk': '9905001c-a4a3-455e-ab94-72d0ed11b476', 'source': 'tweet'}]\n",
            "* LangGraph is the best framework for building stateful, agentic applications! [{'pk': '1206d237-ee3a-484f-baf2-b5ac38eeb314', 'source': 'tweet'}]\n"
          ]
        }
      ],
      "source": [
        "results = vector_store.similarity_search(\n",
        "    \"LangChain provides abstractions to make working with LLMs easy\",\n",
        "    k=2,\n",
        "    expr='source == \"tweet\"',\n",
        ")\n",
        "for res in results:\n",
        "    print(f\"* {res.page_content} [{res.metadata}]\")"
      ]
    },
    {
      "cell_type": "markdown",
      "id": "35574409",
      "metadata": {
        "id": "35574409"
      },
      "source": [
        "#### 相似性搜索（带分数）\n\n您也可以按照分数进行搜索："
      ]
    },
    {
      "cell_type": "code",
      "execution_count": null,
      "id": "c360af3d",
      "metadata": {
        "id": "c360af3d",
        "outputId": "16cb1961-9f4a-494a-9500-27b98a1158d8"
      },
      "outputs": [
        {
          "name": "stdout",
          "output_type": "stream",
          "text": [
            "* [SIM=21192.628906] bar [{'pk': '2', 'source': 'https://example.com'}]\n"
          ]
        }
      ],
      "source": [
        "results = vector_store.similarity_search_with_score(\n",
        "    \"Will it be hot tomorrow?\", k=1, expr='source == \"news\"'\n",
        ")\n",
        "for res, score in results:\n",
        "    print(f\"* [SIM={score:3f}] {res.page_content} [{res.metadata}]\")"
      ]
    },
    {
      "cell_type": "markdown",
      "id": "14db337f",
      "metadata": {
        "id": "14db337f"
      },
      "source": [
        "要了解使用 `Milvus` 向量库的所有可用搜索选项的完整列表，您可以访问 [API 参考](https://python.langchain.com/api_reference/milvus/vectorstores/langchain_milvus.vectorstores.milvus.Milvus.html)。\n\n### 通过转换为 Retriever 进行查询\n\n您还可以将向量库转换为 Retriever，以便在您的链中更轻松地使用。"
      ]
    },
    {
      "cell_type": "code",
      "execution_count": null,
      "id": "f6d9357c",
      "metadata": {
        "id": "f6d9357c",
        "outputId": "bcaa7620-a1c0-418f-9f54-684a472b0b55"
      },
      "outputs": [
        {
          "data": {
            "text/plain": [
              "[Document(metadata={'pk': 'eacc7256-d7fa-4036-b1f7-83d7a4bee0c5', 'source': 'news'}, page_content='Robbers broke into the city bank and stole $1 million in cash.')]"
            ]
          },
          "execution_count": 34,
          "metadata": {},
          "output_type": "execute_result"
        }
      ],
      "source": [
        "retriever = vector_store.as_retriever(search_type=\"mmr\", search_kwargs={\"k\": 1})\n",
        "retriever.invoke(\"Stealing from the bank is a crime\", filter={\"source\": \"news\"})"
      ]
    },
    {
      "cell_type": "markdown",
      "id": "8edb47106e1a46a883d545849b8ab81b",
      "metadata": {
        "collapsed": false,
        "jupyter": {
          "outputs_hidden": false
        }
      },
      "source": [
        "## 混合搜索\n\n最常见的混合搜索场景是密集+稀疏的混合搜索，即使用语义向量相似性和精确的关键字匹配来检索候选结果。这两种方法的检索结果会被合并、重新排序，然后传递给 LLM 以生成最终答案。这种方法在精度和语义理解之间取得了平衡，对于各种查询场景都非常有效。\n\n### 全文搜索\n自 [Milvus 2.5](https://milvus.io/blog/introduce-milvus-2-5-full-text-search-powerful-metadata-filtering-and-more.md) 起，通过稀疏 BM25 方法原生支持全文搜索，即将 BM25 算法表示为稀疏向量。Milvus 接受原始文本作为输入，并自动将其转换为存储在指定字段中的稀疏向量，无需手动生成稀疏嵌入。\n\n对于全文搜索，Milvus VectorStore 接受一个 `builtin_function` 参数。通过此参数，您可以传入 `BM25BuiltInFunction` 的实例。这与通常将密集嵌入传递给 `VectorStore` 的语义搜索不同，\n\n以下是一个在 Milvus 中结合 OpenAI 密集嵌入进行语义搜索和 BM25 进行全文搜索的混合搜索简单示例："
      ]
    },
    {
      "cell_type": "code",
      "execution_count": 4,
      "id": "10185d26023b46108eb7d9f57d49d2b3",
      "metadata": {
        "collapsed": false,
        "jupyter": {
          "outputs_hidden": false
        },
        "pycharm": {
          "name": "#%%\n"
        }
      },
      "outputs": [],
      "source": [
        "from langchain_milvus import BM25BuiltInFunction, Milvus\n",
        "from langchain_openai import OpenAIEmbeddings\n",
        "\n",
        "vectorstore = Milvus.from_documents(\n",
        "    documents=documents,\n",
        "    embedding=OpenAIEmbeddings(),\n",
        "    builtin_function=BM25BuiltInFunction(),\n",
        "    # `dense` is for OpenAI embeddings, `sparse` is the output field of BM25 function\n",
        "    vector_field=[\"dense\", \"sparse\"],\n",
        "    connection_args={\n",
        "        \"uri\": URI,\n",
        "    },\n",
        "    consistency_level=\"Strong\",\n",
        "    drop_old=True,\n",
        ")"
      ]
    },
    {
      "cell_type": "markdown",
      "id": "8763a12b2bbd4a93a75aff182afb95dc",
      "metadata": {
        "collapsed": false,
        "jupyter": {
          "outputs_hidden": false
        }
      },
      "source": [
        "> - 使用 `BM25BuiltInFunction` 时，请注意，Milvus Standalone 和 Milvus Distributed 版本提供全文搜索功能，而 Milvus Lite 不支持（尽管该功能已列入未来规划）。它也将很快在 Zilliz Cloud（全托管 Milvus）中提供。如需更多信息，请联系 support@zilliz.com。\n\n在上面的代码中，我们定义了 `BM25BuiltInFunction` 的一个实例，并将其传递给 `Milvus` 对象。`BM25BuiltInFunction` 是 Milvus 中 [`Function`](https://milvus.io/docs/manage-collections.md#Function) 的一个轻量级包装类。我们可以使用它配合 `OpenAIEmbeddings` 来初始化一个密集向量 + 稀疏向量混合搜索的 Milvus 向量存储实例。\n\n`BM25BuiltInFunction` 不需要客户端传递语料或进行训练，所有这些都会在 Milvus 服务器端自动处理，因此用户无需关心任何词汇和语料。此外，用户还可以自定义 [analyzer](https://milvus.io/docs/analyzer-overview.md#Analyzer-Overview) 来在 BM25 中实现自定义文本处理。"
      ]
    },
    {
      "cell_type": "markdown",
      "id": "7623eae2785240b9bd12b16a66d81610",
      "metadata": {
        "collapsed": false,
        "jupyter": {
          "outputs_hidden": false
        }
      },
      "source": [
        "### 对候选集进行重新排序\n\n在检索的第一阶段之后，我们需要对候选集进行重新排序以获得更好的结果。您可以参考 [重新排序](https://milvus.io/docs/reranking.md#Reranking) 以获取更多信息。\n\n以下是一个加权重排的示例："
      ]
    },
    {
      "cell_type": "code",
      "execution_count": null,
      "id": "7cdc8c89c7104fffa095e18ddfef8986",
      "metadata": {
        "collapsed": false,
        "jupyter": {
          "outputs_hidden": false
        },
        "pycharm": {
          "name": "#%%\n"
        }
      },
      "outputs": [],
      "source": [
        "query = \"What are the novels Lila has written and what are their contents?\"\n",
        "\n",
        "vectorstore.similarity_search(\n",
        "    query, k=1, ranker_type=\"weighted\", ranker_params={\"weights\": [0.6, 0.4]}\n",
        ")"
      ]
    },
    {
      "cell_type": "markdown",
      "id": "8ac953f1",
      "metadata": {
        "id": "8ac953f1"
      },
      "source": [
        "## 用于检索增强生成的使用方法\n\n有关如何将此向量存储用于检索增强生成（RAG）的指南，请参阅以下部分：\n\n- [教程](/docs/tutorials/)\n- [操作指南：使用 RAG 进行问答](https://python.langchain.com/docs/how_to/#qa-with-rag)\n- [检索概念文档](https://python.langchain.com/docs/concepts/retrieval)"
      ]
    },
    {
      "cell_type": "markdown",
      "id": "7fb27b941602401d91542211134fc71a",
      "metadata": {
        "id": "7fb27b941602401d91542211134fc71a",
        "pycharm": {
          "name": "#%% md\n"
        }
      },
      "source": [
        "### 按用户检索\n\n在构建检索应用时，通常需要考虑多个用户。这意味着您可能存储的数据不仅限于一个用户，而是多个不同用户的数据，并且这些用户之间应该无法看到彼此的数据。\n\nMilvus 建议使用 [partition_key](https://milvus.io/docs/multi_tenancy.md#Partition-key-based-multi-tenancy) 来实现多租户。以下是一个示例：\n> Partition key 功能在 Milvus Lite 中不可用，如果您想使用它，需要启动 Milvus 服务器，如上所述。"
      ]
    },
    {
      "cell_type": "code",
      "execution_count": null,
      "id": "acae54e37e7d407bbb7b55eff062a284",
      "metadata": {
        "id": "acae54e37e7d407bbb7b55eff062a284",
        "pycharm": {
          "name": "#%%\n"
        }
      },
      "outputs": [],
      "source": [
        "from langchain_core.documents import Document\n",
        "\n",
        "docs = [\n",
        "    Document(page_content=\"i worked at kensho\", metadata={\"namespace\": \"harrison\"}),\n",
        "    Document(page_content=\"i worked at facebook\", metadata={\"namespace\": \"ankush\"}),\n",
        "]\n",
        "vectorstore = Milvus.from_documents(\n",
        "    docs,\n",
        "    embeddings,\n",
        "    connection_args={\"uri\": URI},\n",
        "    drop_old=True,\n",
        "    partition_key_field=\"namespace\",  # Use the \"namespace\" field as the partition key\n",
        ")"
      ]
    },
    {
      "cell_type": "markdown",
      "id": "9a63283cbaf04dbcab1f6479b197f3a8",
      "metadata": {
        "id": "9a63283cbaf04dbcab1f6479b197f3a8",
        "pycharm": {
          "name": "#%% md\n"
        }
      },
      "source": [
        "为了使用分区键进行搜索，您应该在搜索请求的布尔表达式中包含以下任一项：\n\n`search_kwargs={\"expr\": '<partition_key> == \"xxxx\"'}`\n\n`search_kwargs={\"expr\": '<partition_key> == in [\"xxx\", \"xxx\"]'}`\n\n请将 `<partition_key>` 替换为指定为分区键的字段名称。\n\nMilvus 根据指定的分区键进行分区更改，根据分区键过滤实体，并在过滤后的实体中进行搜索。"
      ]
    },
    {
      "cell_type": "code",
      "execution_count": null,
      "id": "8dd0d8092fe74a7c96281538738b07e2",
      "metadata": {
        "id": "8dd0d8092fe74a7c96281538738b07e2",
        "outputId": "e38ff0ea-1425-4f12-cfb5-7767d040397b",
        "pycharm": {
          "name": "#%%\n"
        }
      },
      "outputs": [
        {
          "data": {
            "text/plain": [
              "[Document(page_content='i worked at facebook', metadata={'namespace': 'ankush'})]"
            ]
          },
          "execution_count": 3,
          "metadata": {},
          "output_type": "execute_result"
        }
      ],
      "source": [
        "# This will only get documents for Ankush\n",
        "vectorstore.as_retriever(search_kwargs={\"expr\": 'namespace == \"ankush\"'}).invoke(\n",
        "    \"where did i work?\"\n",
        ")"
      ]
    },
    {
      "cell_type": "code",
      "execution_count": null,
      "id": "72eea5119410473aa328ad9291626812",
      "metadata": {
        "id": "72eea5119410473aa328ad9291626812",
        "outputId": "9d3ad63e-fcb9-4f9a-bdf1-1bc263ce832b",
        "pycharm": {
          "name": "#%%\n"
        }
      },
      "outputs": [
        {
          "data": {
            "text/plain": [
              "[Document(page_content='i worked at kensho', metadata={'namespace': 'harrison'})]"
            ]
          },
          "execution_count": 4,
          "metadata": {},
          "output_type": "execute_result"
        }
      ],
      "source": [
        "# This will only get documents for Harrison\n",
        "vectorstore.as_retriever(search_kwargs={\"expr\": 'namespace == \"harrison\"'}).invoke(\n",
        "    \"where did i work?\"\n",
        ")"
      ]
    },
    {
      "cell_type": "markdown",
      "id": "f1a873c5",
      "metadata": {
        "id": "f1a873c5"
      },
      "source": [
        "## API 参考\n\n如需了解 __ModuleName__VectorStore 所有功能和配置的详细文档，请前往 API 参考：https://python.langchain.com/api_reference/milvus/vectorstores/langchain_milvus.vectorstores.milvus.Milvus.html"
      ]
    }
  ],
  "metadata": {
    "colab": {
      "provenance": []
    },
    "kernelspec": {
      "display_name": "Python 3 (ipykernel)",
      "language": "python",
      "name": "python3"
    },
    "language_info": {
      "codemirror_mode": {
        "name": "ipython",
        "version": 3
      },
      "file_extension": ".py",
      "mimetype": "text/x-python",
      "name": "python",
      "nbconvert_exporter": "python",
      "pygments_lexer": "ipython3",
      "version": "3.13.2"
    }
  },
  "nbformat": 4,
  "nbformat_minor": 5
}