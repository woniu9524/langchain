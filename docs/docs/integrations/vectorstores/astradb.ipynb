{
  "cells": [
    {
      "cell_type": "markdown",
      "id": "66d0270a-b74f-4110-901e-7960b00297af",
      "metadata": {},
      "source": [
        "# Astra DB Vector Store\n\n本页提供了一个使用 Astra DB 作为 Vector Store 的快速入门指南。\n\n> [DataStax Astra DB](https://docs.datastax.com/en/astra-db-serverless/index.html) 是一个无服务器的、\n> 面向 AI 的数据库，它构建在 `Apache Cassandra®` 之上，并通过易于使用的 JSON API 提供便利。\n\n## 设置"
      ]
    },
    {
      "cell_type": "markdown",
      "id": "dbe7c156-0413-47e3-9237-4769c4248869",
      "metadata": {},
      "source": [
        "### 依赖项\n\n集成的使用需要 `langchain-astradb` 合作伙伴包："
      ]
    },
    {
      "cell_type": "code",
      "execution_count": null,
      "id": "8d00fcf4-9798-4289-9214-d9734690adfc",
      "metadata": {
        "scrolled": true
      },
      "outputs": [],
      "source": [
        "!pip install \\\n",
        "    \"langchain>=0.3.23,<0.4\" \\\n",
        "    \"langchain-core>=0.3.52,<0.4\" \\\n",
        "    \"langchain-astradb>=0.6,<0.7\""
      ]
    },
    {
      "cell_type": "markdown",
      "id": "319bf84b",
      "metadata": {},
      "source": [
        "### 参数凭证\n\n在使用 AstraDB 向量存储之前，您必须先访问 [AstraDB 网站](https://astra.datastax.com)，创建一个账户，然后创建一个新的数据库——初始化过程可能需要几分钟时间。\n\n数据库初始化完成后，请检索您的 [连接密钥](https://docs.datastax.com/en/astra-db-serverless/get-started/quickstart.html#create-a-database-and-store-your-credentials)，稍后会用到。这些密钥包括：\n- 一个 **`API Endpoint`**，例如 `\"https://01234567-89ab-cdef-0123-456789abcdef-us-east1.apps.astra.datastax.com/\"`\n- 以及一个 **`Database Token`**，例如 `\"AstraCS:aBcD123......\"`\n\n您可以选择性地提供一个 **`keyspace`**（在 LangChain 组件中称为“namespace”），您可以通过数据库仪表板的 `Data Explorer` 选项卡进行管理。如果需要，您可以在下面的提示中将其留空，以回退到默认的 keyspace。"
      ]
    },
    {
      "cell_type": "code",
      "execution_count": 1,
      "id": "b7843c22",
      "metadata": {},
      "outputs": [
        {
          "name": "stdin",
          "output_type": "stream",
          "text": [
            "ASTRA_DB_API_ENDPOINT =  https://01234567-89ab-cdef-0123-456789abcdef-us-east1.apps.astra.datastax.com\n",
            "ASTRA_DB_APPLICATION_TOKEN =  ········\n",
            "(optional) ASTRA_DB_KEYSPACE =  \n"
          ]
        }
      ],
      "source": [
        "import getpass\n",
        "\n",
        "ASTRA_DB_API_ENDPOINT = input(\"ASTRA_DB_API_ENDPOINT = \").strip()\n",
        "ASTRA_DB_APPLICATION_TOKEN = getpass.getpass(\"ASTRA_DB_APPLICATION_TOKEN = \").strip()\n",
        "\n",
        "desired_keyspace = input(\"(optional) ASTRA_DB_KEYSPACE = \").strip()\n",
        "if desired_keyspace:\n",
        "    ASTRA_DB_KEYSPACE = desired_keyspace\n",
        "else:\n",
        "    ASTRA_DB_KEYSPACE = None"
      ]
    },
    {
      "cell_type": "markdown",
      "id": "e1c5cd9e",
      "metadata": {},
      "source": [
        "如果你想获得一流的、自动化的模型调用追踪效果，你也可以通过取消注释以下行来设置你的 [LangSmith](https://docs.smith.langchain.com/) API 密钥："
      ]
    },
    {
      "cell_type": "code",
      "execution_count": 2,
      "id": "3cb739c0",
      "metadata": {},
      "outputs": [],
      "source": [
        "# os.environ[\"LANGSMITH_API_KEY\"] = getpass.getpass(\"Enter your LangSmith API key: \")\n",
        "# os.environ[\"LANGSMITH_TRACING\"] = \"true\""
      ]
    },
    {
      "cell_type": "markdown",
      "id": "22866f09-e10d-4f05-a24b-b9420129462e",
      "metadata": {},
      "source": [
        "## 初始化\n\n有多种方法可以创建 Astra DB 向量存储：\n\n#### 方法 1：显式嵌入\n\n您可以单独实例化 `langchain_core.embeddings.Embeddings` 类，并将其传递给 `AstraDBVectorStore` 构造函数，就像大多数其他 LangChain 向量存储一样。\n\n#### 方法 2：服务器端嵌入（'vectorize'）\n\n或者，您可以使用 Astra DB 的[服务器端嵌入计算](https://docs.datastax.com/en/astra-db-serverless/databases/embedding-generation.html)功能（“vectorize”），并在创建存储的服务器基础结构时简单地指定一个嵌入模型。然后，在后续的读写操作中，嵌入计算将完全在数据库内部处理。（要继续使用此方法，您必须已为您数据库启用了所需的嵌入集成，具体方法请参见[文档](https://docs.datastax.com/en/astra-db-serverless/databases/embedding-generation.html)。）\n\n#### 方法 3：从预先存在的集合自动检测\n\n您可能已经在 Astra DB 中拥有一个[集合](https://docs.datastax.com/en/astra-db-serverless/api-reference/collections.html)，可能通过其他方式（例如，通过 Astra UI 或第三方应用程序）预先填充了数据，并且只想在 LangChain 中开始查询它。在这种情况下，正确的方法是在向量存储构造函数中启用 `autodetect_collection` 模式，并让类自行处理细节。（当然，如果您的集合没有 'vectorize'，您仍然需要提供一个 `Embeddings` 对象）。\n\n#### 关于“混合搜索”的说明\n\nAstra DB 向量存储支持向量搜索中的元数据搜索；此外，0.6 版本通过[findAndRerank](https://docs.datastax.com/en/astra-db-serverless/api-reference/document-methods/find-and-rerank.html) 数据库原语完全支持_混合搜索_：文档同时从向量相似性搜索和基于关键字（“词汇”）的搜索中检索，然后通过重排器模型进行合并。这种完全在服务器端处理的搜索策略可以提高结果的准确性，从而改进您的 RAG 应用程序的质量。在可用时，向量存储会自动使用混合搜索（但如果您愿意，也可以对其进行手动控制）。\n\n#### 附加信息\n\n`AstraDBVectorStore` 可以通过多种方式进行配置；请参阅[API Reference](https://python.langchain.com/api_reference/astradb/vectorstores/langchain_astradb.vectorstores.AstraDBVectorStore.html) 以获取完整指南，其中涵盖了例如异步初始化；非 Astra-DB 数据库；自定义索引允许/拒绝列表；手动混合搜索控制；以及更多内容。"
      ]
    },
    {
      "cell_type": "markdown",
      "id": "8d7e33e0-f948-47b5-a9c2-6407fdde170e",
      "metadata": {},
      "source": [
        "### 显式嵌入程序初始化 (方法 1)\n\n使用显式嵌入程序类来实例化我们的向量存储：\n\nimport EmbeddingTabs from \"@theme/EmbeddingTabs\";\n\n<EmbeddingTabs/>"
      ]
    },
    {
      "cell_type": "code",
      "execution_count": 3,
      "id": "d71a1dcb",
      "metadata": {},
      "outputs": [],
      "source": [
        "# | output: false\n",
        "# | echo: false\n",
        "from langchain_openai import OpenAIEmbeddings\n",
        "\n",
        "embeddings = OpenAIEmbeddings(model=\"text-embedding-3-large\")"
      ]
    },
    {
      "cell_type": "code",
      "execution_count": 4,
      "id": "0b32730d-176e-414c-9d91-fd3644c54211",
      "metadata": {},
      "outputs": [],
      "source": [
        "from langchain_astradb import AstraDBVectorStore\n",
        "\n",
        "vector_store_explicit_embeddings = AstraDBVectorStore(\n",
        "    collection_name=\"astra_vector_langchain\",\n",
        "    embedding=embeddings,\n",
        "    api_endpoint=ASTRA_DB_API_ENDPOINT,\n",
        "    token=ASTRA_DB_APPLICATION_TOKEN,\n",
        "    namespace=ASTRA_DB_KEYSPACE,\n",
        ")"
      ]
    },
    {
      "cell_type": "markdown",
      "id": "84a1fe85-a42c-4f15-92e1-f79f1dd43ea2",
      "metadata": {},
      "source": [
        "### 服务器端嵌入初始化（“vectorize”，方法 2）\n\n在本示例代码中，假设您已完成以下操作：\n\n- 在 Astra DB 组织中启用了 OpenAI 集成。\n- 向集成添加了一个名为 `\"OPENAI_API_KEY\"` 的 API 密钥，并将其范围限定到您正在使用的数据库。\n\n有关更多详细信息，包括切换提供商/模型的说明，请参阅[文档](https://docs.datastax.com/en/astra-db-serverless/databases/embedding-generation.html)。"
      ]
    },
    {
      "cell_type": "code",
      "execution_count": 5,
      "id": "9d18455d-3fa6-4f9e-b687-3a2bc71c9a23",
      "metadata": {},
      "outputs": [],
      "source": [
        "from astrapy.info import VectorServiceOptions\n",
        "\n",
        "openai_vectorize_options = VectorServiceOptions(\n",
        "    provider=\"openai\",\n",
        "    model_name=\"text-embedding-3-small\",\n",
        "    authentication={\n",
        "        \"providerKey\": \"OPENAI_API_KEY\",\n",
        "    },\n",
        ")\n",
        "\n",
        "vector_store_integrated_embeddings = AstraDBVectorStore(\n",
        "    collection_name=\"astra_vectorize_langchain\",\n",
        "    api_endpoint=ASTRA_DB_API_ENDPOINT,\n",
        "    token=ASTRA_DB_APPLICATION_TOKEN,\n",
        "    namespace=ASTRA_DB_KEYSPACE,\n",
        "    collection_vector_service_options=openai_vectorize_options,\n",
        ")"
      ]
    },
    {
      "cell_type": "markdown",
      "id": "24508a60-9591-4b24-a9b7-ecc90ed71b68",
      "metadata": {},
      "source": [
        "### 自动检测初始化（方法三）\n\n如果集合已存在于数据库中，并且你的 `AstraDBVectorStore` 需要使用它（用于读写），你可以使用此模式。LangChain 组件将检查集合并确定相关细节。\n\n如果集合已经创建并且——最重要的是——是通过 LangChain 以外的工具填充的（例如通过 Astra DB Web 界面摄取的数据），这是推荐的方法。\n\n自动检测模式不能与 _集合_ 设置（如相似性度量等）共存；另一方面，如果没有使用服务器端嵌入，仍然需要向构造函数传递一个 `Embeddings` 对象。\n\n在下面的示例代码中，我们将“自动检测”由方法二（“vectorize”）创建的同一个集合。因此，不需要提供 `Embeddings` 对象。"
      ]
    },
    {
      "cell_type": "code",
      "execution_count": 6,
      "id": "683b0f6e-884f-4a09-bc3a-454bb1eefd30",
      "metadata": {},
      "outputs": [],
      "source": [
        "vector_store_autodetected = AstraDBVectorStore(\n",
        "    collection_name=\"astra_vectorize_langchain\",\n",
        "    api_endpoint=ASTRA_DB_API_ENDPOINT,\n",
        "    token=ASTRA_DB_APPLICATION_TOKEN,\n",
        "    namespace=ASTRA_DB_KEYSPACE,\n",
        "    autodetect_collection=True,\n",
        ")"
      ]
    },
    {
      "cell_type": "markdown",
      "id": "fbcfe8e8-2f4e-4fc7-a332-7a2fa2c401bf",
      "metadata": {},
      "source": [
        "## 管理向量库\n\n创建向量库后，可以通过添加和删除不同项来与之交互。\n\n所有与向量库的交互都独立于初始化方法：如果您想选择一个已创建的向量库进行测试，请**修改以下单元格**以进行选择。"
      ]
    },
    {
      "cell_type": "code",
      "execution_count": 7,
      "id": "54d63f59-1e6b-49b4-a7c1-ac7717c92ac0",
      "metadata": {},
      "outputs": [],
      "source": [
        "# If desired, uncomment a different line here:\n",
        "\n",
        "# vector_store = vector_store_explicit_embeddings\n",
        "vector_store = vector_store_integrated_embeddings\n",
        "# vector_store = vector_store_autodetected"
      ]
    },
    {
      "cell_type": "markdown",
      "id": "d3796b39",
      "metadata": {},
      "source": [
        "### 向向量库添加文档\n\n使用 `add_documents` 方法向向量库添加文档。\n\n_“id” 字段可以单独提供，在匹配的 `ids=[...]` 参数中传递给 `add_documents`，或者完全省略，让向量库自行生成 ID。_"
      ]
    },
    {
      "cell_type": "code",
      "execution_count": 8,
      "id": "afb3e155",
      "metadata": {},
      "outputs": [
        {
          "data": {
            "text/plain": [
              "['entry_00',\n",
              " 'entry_01',\n",
              " 'entry_02',\n",
              " 'entry_03',\n",
              " 'entry_04',\n",
              " 'entry_05',\n",
              " 'entry_06',\n",
              " 'entry_07',\n",
              " 'entry_08',\n",
              " 'entry_09',\n",
              " 'entry_10']"
            ]
          },
          "execution_count": 8,
          "metadata": {},
          "output_type": "execute_result"
        }
      ],
      "source": [
        "from langchain_core.documents import Document\n",
        "\n",
        "documents_to_insert = [\n",
        "    Document(\n",
        "        page_content=\"ZYX, just another tool in the world, is actually my agent-based superhero\",\n",
        "        metadata={\"source\": \"tweet\"},\n",
        "        id=\"entry_00\",\n",
        "    ),\n",
        "    Document(\n",
        "        page_content=\"I had chocolate chip pancakes and scrambled eggs \"\n",
        "        \"for breakfast this morning.\",\n",
        "        metadata={\"source\": \"tweet\"},\n",
        "        id=\"entry_01\",\n",
        "    ),\n",
        "    Document(\n",
        "        page_content=\"The weather forecast for tomorrow is cloudy and \"\n",
        "        \"overcast, with a high of 62 degrees.\",\n",
        "        metadata={\"source\": \"news\"},\n",
        "        id=\"entry_02\",\n",
        "    ),\n",
        "    Document(\n",
        "        page_content=\"Building an exciting new project with LangChain \"\n",
        "        \"- come check it out!\",\n",
        "        metadata={\"source\": \"tweet\"},\n",
        "        id=\"entry_03\",\n",
        "    ),\n",
        "    Document(\n",
        "        page_content=\"Robbers broke into the city bank and stole \"\n",
        "        \"$1 million in cash.\",\n",
        "        metadata={\"source\": \"news\"},\n",
        "        id=\"entry_04\",\n",
        "    ),\n",
        "    Document(\n",
        "        page_content=\"Thanks to her sophisticated language skills, the agent \"\n",
        "        \"managed to extract strategic information all right.\",\n",
        "        metadata={\"source\": \"tweet\"},\n",
        "        id=\"entry_05\",\n",
        "    ),\n",
        "    Document(\n",
        "        page_content=\"Is the new iPhone worth the price? Read this \"\n",
        "        \"review to find out.\",\n",
        "        metadata={\"source\": \"website\"},\n",
        "        id=\"entry_06\",\n",
        "    ),\n",
        "    Document(\n",
        "        page_content=\"The top 10 soccer players in the world right now.\",\n",
        "        metadata={\"source\": \"website\"},\n",
        "        id=\"entry_07\",\n",
        "    ),\n",
        "    Document(\n",
        "        page_content=\"LangGraph is the best framework for building stateful, \"\n",
        "        \"agentic applications!\",\n",
        "        metadata={\"source\": \"tweet\"},\n",
        "        id=\"entry_08\",\n",
        "    ),\n",
        "    Document(\n",
        "        page_content=\"The stock market is down 500 points today due to \"\n",
        "        \"fears of a recession.\",\n",
        "        metadata={\"source\": \"news\"},\n",
        "        id=\"entry_09\",\n",
        "    ),\n",
        "    Document(\n",
        "        page_content=\"I have a bad feeling I am going to get deleted :(\",\n",
        "        metadata={\"source\": \"tweet\"},\n",
        "        id=\"entry_10\",\n",
        "    ),\n",
        "]\n",
        "\n",
        "\n",
        "vector_store.add_documents(documents=documents_to_insert)"
      ]
    },
    {
      "cell_type": "markdown",
      "id": "dfce4edc",
      "metadata": {},
      "source": [
        "### 从向量存储中删除项目\n\n使用 `delete` 函数按 ID 删除项目。"
      ]
    },
    {
      "cell_type": "code",
      "execution_count": 9,
      "id": "d3f69315",
      "metadata": {},
      "outputs": [
        {
          "data": {
            "text/plain": [
              "True"
            ]
          },
          "execution_count": 9,
          "metadata": {},
          "output_type": "execute_result"
        }
      ],
      "source": [
        "vector_store.delete(ids=[\"entry_10\", \"entry_02\"])"
      ]
    },
    {
      "cell_type": "markdown",
      "id": "d12e1a07",
      "metadata": {},
      "source": [
        "## 查询向量存储\n\n一旦向量存储创建并填充完毕，你就可以查询它了（例如，作为你的链或代理的一部分）。\n\n### 直接查询\n\n#### 相似性搜索\n\n搜索与提供的文本相似的文档，如果需要，还可以添加额外的元数据过滤器："
      ]
    },
    {
      "cell_type": "code",
      "execution_count": 10,
      "id": "770b3467",
      "metadata": {},
      "outputs": [
        {
          "name": "stdout",
          "output_type": "stream",
          "text": [
            "* \"Building an exciting new project with LangChain - come check it out!\", metadata={'source': 'tweet'}\n",
            "* \"LangGraph is the best framework for building stateful, agentic applications!\", metadata={'source': 'tweet'}\n",
            "* \"Thanks to her sophisticated language skills, the agent managed to extract strategic information all right.\", metadata={'source': 'tweet'}\n"
          ]
        }
      ],
      "source": [
        "results = vector_store.similarity_search(\n",
        "    \"LangChain provides abstractions to make working with LLMs easy\",\n",
        "    k=3,\n",
        "    filter={\"source\": \"tweet\"},\n",
        ")\n",
        "for res in results:\n",
        "    print(f'* \"{res.page_content}\", metadata={res.metadata}')"
      ]
    },
    {
      "cell_type": "markdown",
      "id": "ce112165",
      "metadata": {},
      "source": [
        "#### 相似性搜索与分数\n\n您也可以返回相似度分数："
      ]
    },
    {
      "cell_type": "code",
      "execution_count": 11,
      "id": "5924309a",
      "metadata": {},
      "outputs": [
        {
          "name": "stdout",
          "output_type": "stream",
          "text": [
            "* [SIM=0.71] \"Building an exciting new project with LangChain - come check it out!\", metadata={'source': 'tweet'}\n",
            "* [SIM=0.70] \"LangGraph is the best framework for building stateful, agentic applications!\", metadata={'source': 'tweet'}\n",
            "* [SIM=0.61] \"Thanks to her sophisticated language skills, the agent managed to extract strategic information all right.\", metadata={'source': 'tweet'}\n"
          ]
        }
      ],
      "source": [
        "results = vector_store.similarity_search_with_score(\n",
        "    \"LangChain provides abstractions to make working with LLMs easy\",\n",
        "    k=3,\n",
        "    filter={\"source\": \"tweet\"},\n",
        ")\n",
        "for res, score in results:\n",
        "    print(f'* [SIM={score:.2f}] \"{res.page_content}\", metadata={res.metadata}')"
      ]
    },
    {
      "cell_type": "markdown",
      "id": "73b8f418-91a7-46d0-91c3-3c76e9586193",
      "metadata": {},
      "source": [
        "#### 指定不同的关键词查询（需要混合搜索）\n\n> 注意：此单元格仅能在集合支持 [`find-and-rerank`](https://docs.datastax.com/en/astra-db-serverless/api-reference/document-methods/find-and-rerank.html) 命令，并且向量存储已知晓此事实的情况下运行。\n\n如果向量存储正在使用支持混合搜索的集合并且已检测到此事实，则在默认情况下，它会在执行搜索时使用该功能。\n\n在这种情况下，相同的查询文本将同时用于 `find-and-rerank` 过程中的向量相似性和基于词汇的检索步骤，_除非您明确为后者提供不同的查询_："
      ]
    },
    {
      "cell_type": "code",
      "execution_count": 12,
      "id": "e282a48b-081a-4d94-9483-33407e8d6da7",
      "metadata": {},
      "outputs": [
        {
          "name": "stdout",
          "output_type": "stream",
          "text": [
            "* \"Building an exciting new project with LangChain - come check it out!\", metadata={'source': 'tweet'}\n",
            "* \"LangGraph is the best framework for building stateful, agentic applications!\", metadata={'source': 'tweet'}\n",
            "* \"ZYX, just another tool in the world, is actually my agent-based superhero\", metadata={'source': 'tweet'}\n"
          ]
        }
      ],
      "source": [
        "results = vector_store_autodetected.similarity_search(\n",
        "    \"LangChain provides abstractions to make working with LLMs easy\",\n",
        "    k=3,\n",
        "    filter={\"source\": \"tweet\"},\n",
        "    lexical_query=\"agent\",\n",
        ")\n",
        "for res in results:\n",
        "    print(f'* \"{res.page_content}\", metadata={res.metadata}')"
      ]
    },
    {
      "cell_type": "markdown",
      "id": "60688e8c-d74d-4921-b213-b48d88600f95",
      "metadata": {},
      "source": [
        "上面的示例硬编码了“自动检测到的”向量存储，该存储肯定检查了集合并确定了混合搜索是否可用。另一个选项是显式地向构造函数提供混合搜索参数（有关更多详细信息/示例，请参阅 API 参考）。"
      ]
    },
    {
      "cell_type": "markdown",
      "id": "fead7af5",
      "metadata": {},
      "source": [
        "#### 其他搜索方法\n\n本笔记本未涵盖各种其他搜索方法，例如 MMR 搜索和按向量搜索。\n\n要查看 `AstraDBVectorStore` 中可用的搜索模式的完整列表，请参阅 [API 参考](https://python.langchain.com/api_reference/astradb/vectorstores/langchain_astradb.vectorstores.AstraDBVectorStore.html)。"
      ]
    },
    {
      "cell_type": "markdown",
      "id": "7e40f714",
      "metadata": {},
      "source": [
        "### 查询并转换为检索器\n\n你也可以将向量存储转换为检索器，以便在你的链中使用。\n\n将向量存储转换为检索器，并使用简单的查询 + 元数据过滤器进行调用："
      ]
    },
    {
      "cell_type": "code",
      "execution_count": 13,
      "id": "dcee50e6",
      "metadata": {},
      "outputs": [
        {
          "data": {
            "text/plain": [
              "[Document(id='entry_04', metadata={'source': 'news'}, page_content='Robbers broke into the city bank and stole $1 million in cash.')]"
            ]
          },
          "execution_count": 13,
          "metadata": {},
          "output_type": "execute_result"
        }
      ],
      "source": [
        "retriever = vector_store.as_retriever(\n",
        "    search_type=\"similarity_score_threshold\",\n",
        "    search_kwargs={\"k\": 1, \"score_threshold\": 0.5},\n",
        ")\n",
        "retriever.invoke(\"Stealing from the bank is a crime\", filter={\"source\": \"news\"})"
      ]
    },
    {
      "cell_type": "markdown",
      "id": "734e683a",
      "metadata": {},
      "source": [
        "## 用于检索增强生成 (Retrieval-Augmented Generation)\n\n有关如何将此向量存储用于检索增强生成 (RAG) 的指南，请参阅以下部分：\n\n- [教程](/docs/tutorials/)\n- [操作指南：通过 RAG 进行问答](https://python.langchain.com/docs/how_to/#qa-with-rag)\n- [检索概念文档](https://python.langchain.com/docs/concepts/retrieval)"
      ]
    },
    {
      "cell_type": "markdown",
      "id": "869ab448-a029-4692-aefc-26b85513314d",
      "metadata": {},
      "source": [
        "要了解更多信息，请查看使用 Astra DB 的完整 RAG 模板：[here](https://github.com/langchain-ai/langchain/tree/master/templates/rag-astradb)。"
      ]
    },
    {
      "cell_type": "markdown",
      "id": "177610c7-50d0-4b7b-8634-b03338054c8e",
      "metadata": {},
      "source": [
        "## 清理向量存储"
      ]
    },
    {
      "cell_type": "markdown",
      "id": "0da4d19f-9878-4d3d-82c9-09cafca20322",
      "metadata": {},
      "source": [
        "如果你想完全删除 Astra DB 实例中的集合，请运行此命令。\\\n_(你存储在其中的数据将会丢失)_"
      ]
    },
    {
      "cell_type": "code",
      "execution_count": 14,
      "id": "fd405a13-6f71-46fa-87e6-167238e9c25e",
      "metadata": {},
      "outputs": [],
      "source": [
        "vector_store.delete_collection()"
      ]
    },
    {
      "cell_type": "markdown",
      "id": "a14c34be",
      "metadata": {},
      "source": [
        "## API 参考\n\n有关 `AstraDBVectorStore` 所有功能和配置的详细文档，请参阅 [API 参考](https://python.langchain.com/api_reference/astradb/vectorstores/langchain_astradb.vectorstores.AstraDBVectorStore.html)。"
      ]
    }
  ],
  "metadata": {
    "kernelspec": {
      "display_name": "Python 3 (ipykernel)",
      "language": "python",
      "name": "python3"
    },
    "language_info": {
      "codemirror_mode": {
        "name": "ipython",
        "version": 3
      },
      "file_extension": ".py",
      "mimetype": "text/x-python",
      "name": "python",
      "nbconvert_exporter": "python",
      "pygments_lexer": "ipython3",
      "version": "3.12.0"
    }
  },
  "nbformat": 4,
  "nbformat_minor": 5
}