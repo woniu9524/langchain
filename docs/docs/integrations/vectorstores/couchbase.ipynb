{
  "cells": [
    {
      "cell_type": "markdown",
      "id": "f63dfcf9-fd9d-4ac1-a0b3-c02d4dce7faf",
      "metadata": {},
      "source": [
        "# Couchbase\n[Couchbase](http://couchbase.com/) 是一款屡获殊荣的分布式 NoSQL 云数据库，为您的所有云、移动、AI 和边缘计算应用提供无与伦比的多功能性、性能、可扩展性和经济价值。Couchbase 通过为开发者提供编码辅助以及为应用程序提供向量搜索功能来拥抱 AI。\n\n向量搜索是 Couchbase 中 [全文搜索服务](https://docs.couchbase.com/server/current/learn/services-and-indexes/services/search-service.html)（搜索服务）的一部分。\n\n本教程将介绍如何在 Couchbase 中使用向量搜索。您可以选择使用 [Couchbase Capella](https://www.couchbase.com/products/capella/) 或您自行管理的 Couchbase Server。"
      ]
    },
    {
      "cell_type": "markdown",
      "id": "43326be4-4433-4de2-ad42-6eb91a722bad",
      "metadata": {},
      "source": [
        "## 安装\n\n要访问 `CouchbaseSearchVectorStore`，您首先需要安装 `langchain-couchbase` 合作伙伴包："
      ]
    },
    {
      "cell_type": "code",
      "execution_count": 1,
      "id": "bec8d532-fec7-4dc7-9be3-020aa7bdb01f",
      "metadata": {},
      "outputs": [],
      "source": [
        "pip install -qU langchain-couchbase"
      ]
    },
    {
      "cell_type": "markdown",
      "id": "30d6861e",
      "metadata": {},
      "source": [
        "### 凭证\n\n请访问 Couchbase [网站](https://cloud.couchbase.com)并创建一个新的连接，请务必保存您的数据库用户名和密码："
      ]
    },
    {
      "cell_type": "code",
      "execution_count": 2,
      "id": "d98e3baa",
      "metadata": {},
      "outputs": [
        {
          "name": "stdout",
          "output_type": "stream",
          "text": [
            "Enter the connection string for the Couchbase cluster:  ········\n",
            "Enter the username for the Couchbase cluster:  ········\n",
            "Enter the password for the Couchbase cluster:  ········\n"
          ]
        }
      ],
      "source": [
        "import getpass\n",
        "\n",
        "COUCHBASE_CONNECTION_STRING = getpass.getpass(\n",
        "    \"Enter the connection string for the Couchbase cluster: \"\n",
        ")\n",
        "DB_USERNAME = getpass.getpass(\"Enter the username for the Couchbase cluster: \")\n",
        "DB_PASSWORD = getpass.getpass(\"Enter the password for the Couchbase cluster: \")"
      ]
    },
    {
      "cell_type": "markdown",
      "id": "23ac2c64",
      "metadata": {},
      "source": [
        "如果你想获得一流的模型调用自动化跟踪，你也可以通过取消注释以下内容来设置你的 [LangSmith](https://docs.smith.langchain.com/) API 密钥："
      ]
    },
    {
      "cell_type": "code",
      "execution_count": null,
      "id": "9c25ec38",
      "metadata": {},
      "outputs": [],
      "source": [
        "# os.environ[\"LANGSMITH_TRACING\"] = \"true\"\n",
        "# os.environ[\"LANGSMITH_API_KEY\"] = getpass.getpass()"
      ]
    },
    {
      "cell_type": "markdown",
      "id": "acf1b168-622f-465c-a9a5-d27a6d7e7a8f",
      "metadata": {},
      "source": [
        "## 初始化\n\n在实例化之前，我们需要创建一个连接。"
      ]
    },
    {
      "cell_type": "markdown",
      "id": "3144ba02-1eaa-4449-853e-f034ca5706bf",
      "metadata": {},
      "source": [
        "### 创建 Couchbase 连接对象\n\n我们首先创建与 Couchbase 集群的连接，然后将集群对象传递给 Vector Store。\n\n在此示例中，我们使用上面的用户名和密码进行连接。您也可以使用其他支持的方式连接到您的集群。\n\n有关连接 Couchbase 集群的更多信息，请参阅[文档](https://docs.couchbase.com/python-sdk/current/hello-world/start-using-sdk.html#connect)。"
      ]
    },
    {
      "cell_type": "code",
      "execution_count": 3,
      "id": "9986c6b9",
      "metadata": {},
      "outputs": [],
      "source": [
        "from datetime import timedelta\n",
        "\n",
        "from couchbase.auth import PasswordAuthenticator\n",
        "from couchbase.cluster import Cluster\n",
        "from couchbase.options import ClusterOptions\n",
        "\n",
        "auth = PasswordAuthenticator(DB_USERNAME, DB_PASSWORD)\n",
        "options = ClusterOptions(auth)\n",
        "cluster = Cluster(COUCHBASE_CONNECTION_STRING, options)\n",
        "\n",
        "# Wait until the cluster is ready for use.\n",
        "cluster.wait_until_ready(timedelta(seconds=5))"
      ]
    },
    {
      "cell_type": "markdown",
      "id": "90c5dec9-f6cb-41eb-9f30-13cab7b107db",
      "metadata": {},
      "source": [
        "我们将设置用于向量搜索的 Couchbase 集中的 bucket、scope 和 collection 名称。\n\n在本示例中，我们使用的是默认的 scope 和 collections。"
      ]
    },
    {
      "cell_type": "code",
      "execution_count": 4,
      "id": "1b1d0a26-e9d4-4823-9800-9549d24d3d16",
      "metadata": {},
      "outputs": [],
      "source": [
        "BUCKET_NAME = \"langchain_bucket\"\n",
        "SCOPE_NAME = \"_default\"\n",
        "COLLECTION_NAME = \"_default\"\n",
        "SEARCH_INDEX_NAME = \"langchain-test-index\""
      ]
    },
    {
      "cell_type": "markdown",
      "id": "556dc68c-9089-4390-8dc9-b77051e7fc34",
      "metadata": {},
      "source": [
        "有关如何创建支持 Vector 字段的 Search 索引的详细信息，请参阅文档。\n\n- [Couchbase Capella](https://docs.couchbase.com/cloud/vector-search/create-vector-search-index-ui.html)\n  \n- [Couchbase Server](https://docs.couchbase.com/server/current/vector-search/create-vector-search-index-ui.html)"
      ]
    },
    {
      "cell_type": "markdown",
      "id": "75f4037d-e509-4de7-a8d1-63a05de24e9d",
      "metadata": {},
      "source": [
        "### 简单实例化\n\n下面，我们使用集群信息和搜索索引名称来创建向量存储对象。\n\nimport EmbeddingTabs from \"@theme/EmbeddingTabs\";\n\n<EmbeddingTabs/>"
      ]
    },
    {
      "cell_type": "code",
      "execution_count": 5,
      "id": "6706efdd",
      "metadata": {},
      "outputs": [],
      "source": [
        "# | output: false\n",
        "# | echo: false\n",
        "from langchain_openai import OpenAIEmbeddings\n",
        "\n",
        "embeddings = OpenAIEmbeddings(model=\"text-embedding-3-large\")"
      ]
    },
    {
      "cell_type": "code",
      "execution_count": 6,
      "id": "33db4670-76c5-49ba-94d6-a8fa35583058",
      "metadata": {},
      "outputs": [],
      "source": [
        "from langchain_couchbase.vectorstores import CouchbaseSearchVectorStore\n",
        "\n",
        "vector_store = CouchbaseSearchVectorStore(\n",
        "    cluster=cluster,\n",
        "    bucket_name=BUCKET_NAME,\n",
        "    scope_name=SCOPE_NAME,\n",
        "    collection_name=COLLECTION_NAME,\n",
        "    embedding=embeddings,\n",
        "    index_name=SEARCH_INDEX_NAME,\n",
        ")"
      ]
    },
    {
      "cell_type": "markdown",
      "id": "0aa98793-5ac2-4f76-bbba-2d40856c2d58",
      "metadata": {},
      "source": [
        "### 指定文本和嵌入字段\n\n您还可以使用 `text_key` 和 `embedding_key` 字段来指定文档的文本和嵌入字段。"
      ]
    },
    {
      "cell_type": "code",
      "execution_count": 7,
      "id": "49c38634",
      "metadata": {},
      "outputs": [],
      "source": [
        "vector_store_specific = CouchbaseSearchVectorStore(\n",
        "    cluster=cluster,\n",
        "    bucket_name=BUCKET_NAME,\n",
        "    scope_name=SCOPE_NAME,\n",
        "    collection_name=COLLECTION_NAME,\n",
        "    embedding=embeddings,\n",
        "    index_name=SEARCH_INDEX_NAME,\n",
        "    text_key=\"text\",\n",
        "    embedding_key=\"embedding\",\n",
        ")"
      ]
    },
    {
      "cell_type": "markdown",
      "id": "50e95fa6",
      "metadata": {},
      "source": [
        "## 管理向量存储\n\n创建向量存储后，我们可以通过添加和删除不同的项目与其进行交互。\n\n### 向向量存储添加项目\n\n我们可以使用 `add_documents` 函数向向量存储添加项目。"
      ]
    },
    {
      "cell_type": "code",
      "execution_count": 8,
      "id": "65a35f00",
      "metadata": {},
      "outputs": [
        {
          "data": {
            "text/plain": [
              "['f125b836-f555-4449-98dc-cbda4e77ae3f',\n",
              " 'a28fccde-fd32-4775-9ca8-6cdb22ca7031',\n",
              " 'b1037c4b-947f-497f-84db-63a4def5080b',\n",
              " 'c7082b74-b385-4c4b-bbe5-0740909c01db',\n",
              " 'a7e31f62-13a5-4109-b881-8631aff7d46c',\n",
              " '9fcc2894-fdb1-41bd-9a93-8547747650f4',\n",
              " 'a5b0632d-abaf-4802-99b3-df6b6c99be29',\n",
              " '0475592e-4b7f-425d-91fd-ac2459d48a36',\n",
              " '94c6db4e-ba07-43ff-aa96-3a5d577db43a',\n",
              " 'd21c7feb-ad47-4e7d-84c5-785afb189160']"
            ]
          },
          "execution_count": 8,
          "metadata": {},
          "output_type": "execute_result"
        }
      ],
      "source": [
        "from uuid import uuid4\n",
        "\n",
        "from langchain_core.documents import Document\n",
        "\n",
        "document_1 = Document(\n",
        "    page_content=\"I had chocolate chip pancakes and scrambled eggs for breakfast this morning.\",\n",
        "    metadata={\"source\": \"tweet\"},\n",
        ")\n",
        "\n",
        "document_2 = Document(\n",
        "    page_content=\"The weather forecast for tomorrow is cloudy and overcast, with a high of 62 degrees.\",\n",
        "    metadata={\"source\": \"news\"},\n",
        ")\n",
        "\n",
        "document_3 = Document(\n",
        "    page_content=\"Building an exciting new project with LangChain - come check it out!\",\n",
        "    metadata={\"source\": \"tweet\"},\n",
        ")\n",
        "\n",
        "document_4 = Document(\n",
        "    page_content=\"Robbers broke into the city bank and stole $1 million in cash.\",\n",
        "    metadata={\"source\": \"news\"},\n",
        ")\n",
        "\n",
        "document_5 = Document(\n",
        "    page_content=\"Wow! That was an amazing movie. I can't wait to see it again.\",\n",
        "    metadata={\"source\": \"tweet\"},\n",
        ")\n",
        "\n",
        "document_6 = Document(\n",
        "    page_content=\"Is the new iPhone worth the price? Read this review to find out.\",\n",
        "    metadata={\"source\": \"website\"},\n",
        ")\n",
        "\n",
        "document_7 = Document(\n",
        "    page_content=\"The top 10 soccer players in the world right now.\",\n",
        "    metadata={\"source\": \"website\"},\n",
        ")\n",
        "\n",
        "document_8 = Document(\n",
        "    page_content=\"LangGraph is the best framework for building stateful, agentic applications!\",\n",
        "    metadata={\"source\": \"tweet\"},\n",
        ")\n",
        "\n",
        "document_9 = Document(\n",
        "    page_content=\"The stock market is down 500 points today due to fears of a recession.\",\n",
        "    metadata={\"source\": \"news\"},\n",
        ")\n",
        "\n",
        "document_10 = Document(\n",
        "    page_content=\"I have a bad feeling I am going to get deleted :(\",\n",
        "    metadata={\"source\": \"tweet\"},\n",
        ")\n",
        "\n",
        "documents = [\n",
        "    document_1,\n",
        "    document_2,\n",
        "    document_3,\n",
        "    document_4,\n",
        "    document_5,\n",
        "    document_6,\n",
        "    document_7,\n",
        "    document_8,\n",
        "    document_9,\n",
        "    document_10,\n",
        "]\n",
        "uuids = [str(uuid4()) for _ in range(len(documents))]\n",
        "\n",
        "vector_store.add_documents(documents=documents, ids=uuids)"
      ]
    },
    {
      "cell_type": "markdown",
      "id": "dd33b030",
      "metadata": {},
      "source": [
        "### 从向量存储中删除项目"
      ]
    },
    {
      "cell_type": "code",
      "execution_count": 9,
      "id": "3a05f294",
      "metadata": {},
      "outputs": [
        {
          "data": {
            "text/plain": [
              "True"
            ]
          },
          "execution_count": 9,
          "metadata": {},
          "output_type": "execute_result"
        }
      ],
      "source": [
        "vector_store.delete(ids=[uuids[-1]])"
      ]
    },
    {
      "cell_type": "markdown",
      "id": "d2cc4126",
      "metadata": {},
      "source": [
        "## 查询向量数据库\n\n一旦你创建了向量数据库并将相关文档添加进去，在运行你的链（chain）或代理（agent）时，你很可能会希望查询它。\n\n### 直接查询\n\n#### 相似性搜索\n\n可以按以下方式执行简单的相似性搜索："
      ]
    },
    {
      "cell_type": "code",
      "execution_count": 10,
      "id": "8e00bb23",
      "metadata": {},
      "outputs": [
        {
          "name": "stdout",
          "output_type": "stream",
          "text": [
            "* Building an exciting new project with LangChain - come check it out! [{'source': 'tweet'}]\n",
            "* LangGraph is the best framework for building stateful, agentic applications! [{'source': 'tweet'}]\n"
          ]
        }
      ],
      "source": [
        "results = vector_store.similarity_search(\n",
        "    \"LangChain provides abstractions to make working with LLMs easy\",\n",
        "    k=2,\n",
        ")\n",
        "for res in results:\n",
        "    print(f\"* {res.page_content} [{res.metadata}]\")"
      ]
    },
    {
      "cell_type": "markdown",
      "id": "d9b46c93-65f6-4e4f-87a2-5cebea3b7a6b",
      "metadata": {},
      "source": [
        "#### 带分数的相似性搜索\n\n您还可以通过调用 `similarity_search_with_score` 方法来获取结果的分数。"
      ]
    },
    {
      "cell_type": "code",
      "execution_count": 11,
      "id": "24b146b2-55a2-4fe8-8659-3649032f5dc7",
      "metadata": {},
      "outputs": [
        {
          "name": "stdout",
          "output_type": "stream",
          "text": [
            "* [SIM=0.553112] The weather forecast for tomorrow is cloudy and overcast, with a high of 62 degrees. [{'source': 'news'}]\n"
          ]
        }
      ],
      "source": [
        "results = vector_store.similarity_search_with_score(\"Will it be hot tomorrow?\", k=1)\n",
        "for res, score in results:\n",
        "    print(f\"* [SIM={score:3f}] {res.page_content} [{res.metadata}]\")"
      ]
    },
    {
      "cell_type": "markdown",
      "id": "faa8ed12-989a-4cd4-90bf-6156f242f008",
      "metadata": {},
      "source": [
        "### 过滤结果\n\n您可以通过指定文档中的文本或元数据的任一过滤器来过滤搜索结果，这些过滤器均受 Couchbase Search 服务支持。\n\n`filter` 可以是 Couchbase Python SDK 支持的任何有效的 [SearchQuery](https://docs.couchbase.com/python-sdk/current/howtos/full-text-searching-with-sdk.html#search-queries)。这些过滤器在执行 Vector Search 之前应用。\n\n如果您想过滤元数据中的一个字段，您需要使用 `.` 来指定。\n\n例如，要获取元数据中的 `source` 字段，您需要指定 `metadata.source`。\n\n请注意，过滤器需要得到 Search Index 的支持。"
      ]
    },
    {
      "cell_type": "code",
      "execution_count": 12,
      "id": "b1c4d3ac-e3d2-4cba-b765-954bf45357aa",
      "metadata": {},
      "outputs": [
        {
          "name": "stdout",
          "output_type": "stream",
          "text": [
            "* The stock market is down 500 points today due to fears of a recession. [{'source': 'news'}] 0.3873019218444824\n",
            "* Robbers broke into the city bank and stole $1 million in cash. [{'source': 'news'}] 0.20637212693691254\n",
            "* The weather forecast for tomorrow is cloudy and overcast, with a high of 62 degrees. [{'source': 'news'}] 0.10404900461435318\n"
          ]
        }
      ],
      "source": [
        "from couchbase import search\n",
        "\n",
        "query = \"Are there any concerning financial news?\"\n",
        "filter_on_source = search.MatchQuery(\"news\", field=\"metadata.source\")\n",
        "results = vector_store.similarity_search_with_score(\n",
        "    query, fields=[\"metadata.source\"], filter=filter_on_source, k=5\n",
        ")\n",
        "for res, score in results:\n",
        "    print(f\"* {res.page_content} [{res.metadata}] {score}\")"
      ]
    },
    {
      "cell_type": "markdown",
      "id": "9983e83d-efd0-4b75-80db-150e0694e822",
      "metadata": {},
      "source": [
        "### 指定返回的字段\n\n您可以使用搜索中的 `fields` 参数指定要从文档返回的字段。这些字段将作为 `metadata` 对象的一部分返回在文档中。您可以获取存储在搜索索引中的任何字段。文档的 `text_key` 将作为文档的 `page_content` 返回。\n\n如果您不指定任何要获取的字段，将返回索引中存储的所有字段。\n\n如果您想获取元数据中的某个字段，需要使用 `.` 来指定。\n\n例如，要获取元数据中的 `source` 字段，您需要指定 `metadata.source`。"
      ]
    },
    {
      "cell_type": "code",
      "execution_count": 13,
      "id": "ffa743dc-4e89-405b-ad71-7390338889e6",
      "metadata": {},
      "outputs": [
        {
          "name": "stdout",
          "output_type": "stream",
          "text": [
            "page_content='I had chocolate chip pancakes and scrambled eggs for breakfast this morning.' metadata={'source': 'tweet'}\n"
          ]
        }
      ],
      "source": [
        "query = \"What did I eat for breakfast today?\"\n",
        "results = vector_store.similarity_search(query, fields=[\"metadata.source\"])\n",
        "print(results[0])"
      ]
    },
    {
      "cell_type": "markdown",
      "id": "2e01eb05-77fc-49f8-a552-8af3c5d4460c",
      "metadata": {},
      "source": [
        "### 通过检索器进行查询\n\n您还可以将向量存储转换为检索器，以便在链中使用。\n\n以下是将向量存储转换为检索器，然后使用简单的查询和过滤器调用检索器的方法。"
      ]
    },
    {
      "cell_type": "code",
      "execution_count": 14,
      "id": "3666265a",
      "metadata": {},
      "outputs": [
        {
          "data": {
            "text/plain": [
              "[Document(id='c7082b74-b385-4c4b-bbe5-0740909c01db', metadata={'source': 'news'}, page_content='Robbers broke into the city bank and stole $1 million in cash.')]"
            ]
          },
          "execution_count": 14,
          "metadata": {},
          "output_type": "execute_result"
        }
      ],
      "source": [
        "retriever = vector_store.as_retriever(\n",
        "    search_type=\"similarity\",\n",
        "    search_kwargs={\"k\": 1, \"score_threshold\": 0.5},\n",
        ")\n",
        "filter_on_source = search.MatchQuery(\"news\", field=\"metadata.source\")\n",
        "retriever.invoke(\"Stealing from the bank is a crime\", filter=filter_on_source)"
      ]
    },
    {
      "cell_type": "markdown",
      "id": "a5e45eb2-aa97-45df-bcc5-410e9626e506",
      "metadata": {},
      "source": [
        "### 混合查询\n\nCouchbase 允许您通过将向量搜索结果与文档的非向量字段（如 `metadata` 对象）上的搜索相结合来进行混合搜索。\n\n结果将基于向量搜索和 Search Service 支持的搜索这两者的结果组合。每个组件搜索的分数会累加起来以获得结果的总分数。\n\n要执行混合搜索，有一个可选参数 `search_options`，可以传递给所有相似性搜索。\n\n`search_options` 的不同搜索/查询可能性可以在[这里](https://docs.couchbase.com/server/current/search/search-request-params.html#query-object)找到。"
      ]
    },
    {
      "cell_type": "markdown",
      "id": "a5db3685-1918-4c63-8148-0bb3a71ea677",
      "metadata": {},
      "source": [
        "#### 为混合搜索创建多样化的元数据\n为了模拟混合搜索，让我们从现有文档中创建一些随机元数据。\n我们将三个字段均匀地添加到元数据中：`date` 在 2010 年至 2020 年之间，`rating` 在 1 至 5 之间，`author` 设置为 John Doe 或 Jane Doe。"
      ]
    },
    {
      "cell_type": "code",
      "execution_count": 15,
      "id": "7d2e607d-6bbc-4cef-83e3-b6a28bb269ea",
      "metadata": {},
      "outputs": [
        {
          "name": "stdout",
          "output_type": "stream",
          "text": [
            "{'author': 'John Doe', 'date': '2016-01-01', 'rating': 2, 'source': '../../how_to/state_of_the_union.txt'}\n"
          ]
        }
      ],
      "source": [
        "from langchain_community.document_loaders import TextLoader\n",
        "from langchain_text_splitters import CharacterTextSplitter\n",
        "\n",
        "loader = TextLoader(\"../../how_to/state_of_the_union.txt\")\n",
        "documents = loader.load()\n",
        "text_splitter = CharacterTextSplitter(chunk_size=500, chunk_overlap=0)\n",
        "docs = text_splitter.split_documents(documents)\n",
        "\n",
        "# Adding metadata to documents\n",
        "for i, doc in enumerate(docs):\n",
        "    doc.metadata[\"date\"] = f\"{range(2010, 2020)[i % 10]}-01-01\"\n",
        "    doc.metadata[\"rating\"] = range(1, 6)[i % 5]\n",
        "    doc.metadata[\"author\"] = [\"John Doe\", \"Jane Doe\"][i % 2]\n",
        "\n",
        "vector_store.add_documents(docs)\n",
        "\n",
        "query = \"What did the president say about Ketanji Brown Jackson\"\n",
        "results = vector_store.similarity_search(query)\n",
        "print(results[0].metadata)"
      ]
    },
    {
      "cell_type": "markdown",
      "id": "6cad893b-3977-4556-ab1d-d12bce68b306",
      "metadata": {},
      "source": [
        "### 按精确值查询\n我们可以搜索像 `metadata` 对象中的作者这样的文本字段的精确匹配。"
      ]
    },
    {
      "cell_type": "code",
      "execution_count": 16,
      "id": "dc06ba4a-8a6b-4c55-bb69-95cd92db273f",
      "metadata": {},
      "outputs": [
        {
          "name": "stdout",
          "output_type": "stream",
          "text": [
            "page_content='One of the most serious constitutional responsibilities a President has is nominating someone to serve on the United States Supreme Court. \n",
            "\n",
            "And I did that 4 days ago, when I nominated Circuit Court of Appeals Judge Ketanji Brown Jackson. One of our nation’s top legal minds, who will continue Justice Breyer’s legacy of excellence.' metadata={'author': 'John Doe'}\n"
          ]
        }
      ],
      "source": [
        "query = \"What did the president say about Ketanji Brown Jackson\"\n",
        "results = vector_store.similarity_search(\n",
        "    query,\n",
        "    search_options={\"query\": {\"field\": \"metadata.author\", \"match\": \"John Doe\"}},\n",
        "    fields=[\"metadata.author\"],\n",
        ")\n",
        "print(results[0])"
      ]
    },
    {
      "cell_type": "markdown",
      "id": "9106b594-b41e-4329-b98c-9b9f8a34d6f7",
      "metadata": {},
      "source": [
        "### 按部分匹配查询\n我们可以通过指定模糊度来搜索部分匹配项。当你想要搜索搜索查询的细微变化或拼写错误时，这会非常有用。\n\n在这里，“Jae”接近“Jane”（模糊度为 1）。"
      ]
    },
    {
      "cell_type": "code",
      "execution_count": 17,
      "id": "fd4749e6-ef4f-4cb5-95ff-37c4fa8283d8",
      "metadata": {},
      "outputs": [
        {
          "name": "stdout",
          "output_type": "stream",
          "text": [
            "page_content='A former top litigator in private practice. A former federal public defender. And from a family of public school educators and police officers. A consensus builder. Since she’s been nominated, she’s received a broad range of support—from the Fraternal Order of Police to former judges appointed by Democrats and Republicans. \n",
            "\n",
            "And if we are to advance liberty and justice, we need to secure the Border and fix the immigration system.' metadata={'author': 'Jane Doe'}\n"
          ]
        }
      ],
      "source": [
        "query = \"What did the president say about Ketanji Brown Jackson\"\n",
        "results = vector_store.similarity_search(\n",
        "    query,\n",
        "    search_options={\n",
        "        \"query\": {\"field\": \"metadata.author\", \"match\": \"Jae\", \"fuzziness\": 1}\n",
        "    },\n",
        "    fields=[\"metadata.author\"],\n",
        ")\n",
        "print(results[0])"
      ]
    },
    {
      "cell_type": "markdown",
      "id": "1bbf9449-6e30-4bd1-9eeb-f3b60952fcab",
      "metadata": {},
      "source": [
        "### 按日期范围查询\n\n我们可以搜索在日期字段（如 `metadata.date`）上执行日期范围查询的文档。"
      ]
    },
    {
      "cell_type": "code",
      "execution_count": 18,
      "id": "b7b47e7d-c32f-4999-bce9-3c3c3cebffd0",
      "metadata": {},
      "outputs": [
        {
          "name": "stdout",
          "output_type": "stream",
          "text": [
            "page_content='And with 75% of adult Americans fully vaccinated and hospitalizations down by 77%, most Americans can remove their masks, return to work, stay in the classroom, and move forward safely. \n",
            "\n",
            "We achieved this because we provided free vaccines, treatments, tests, and masks. \n",
            "\n",
            "Of course, continuing this costs money. \n",
            "\n",
            "I will soon send Congress a request. \n",
            "\n",
            "The vast majority of Americans have used these tools and may want to again, so I expect Congress to pass it quickly.' metadata={'author': 'Jane Doe', 'date': '2017-01-01', 'rating': 3, 'source': '../../how_to/state_of_the_union.txt'}\n"
          ]
        }
      ],
      "source": [
        "query = \"Any mention about independence?\"\n",
        "results = vector_store.similarity_search(\n",
        "    query,\n",
        "    search_options={\n",
        "        \"query\": {\n",
        "            \"start\": \"2016-12-31\",\n",
        "            \"end\": \"2017-01-02\",\n",
        "            \"inclusive_start\": True,\n",
        "            \"inclusive_end\": False,\n",
        "            \"field\": \"metadata.date\",\n",
        "        }\n",
        "    },\n",
        ")\n",
        "print(results[0])"
      ]
    },
    {
      "cell_type": "markdown",
      "id": "a18d4ea2-bfab-4f15-9839-674faf1c6f0d",
      "metadata": {},
      "source": [
        "### 按数值范围查询\n我们可以搜索在数值字段（如 `metadata.rating`）范围内内的文档。"
      ]
    },
    {
      "cell_type": "code",
      "execution_count": 19,
      "id": "7e8bf7c5-07d1-4c3f-86d7-1fa3a454dc7f",
      "metadata": {},
      "outputs": [
        {
          "name": "stdout",
          "output_type": "stream",
          "text": [
            "(Document(id='3a90405c0f5b4c09a6646259678f1f61', metadata={'author': 'John Doe', 'date': '2014-01-01', 'rating': 5, 'source': '../../how_to/state_of_the_union.txt'}, page_content='In this Capitol, generation after generation, Americans have debated great questions amid great strife, and have done great things. \\n\\nWe have fought for freedom, expanded liberty, defeated totalitarianism and terror. \\n\\nAnd built the strongest, freest, and most prosperous nation the world has ever known. \\n\\nNow is the hour. \\n\\nOur moment of responsibility. \\n\\nOur test of resolve and conscience, of history itself.'), 0.3573387440020518)\n"
          ]
        }
      ],
      "source": [
        "query = \"Any mention about independence?\"\n",
        "results = vector_store.similarity_search_with_score(\n",
        "    query,\n",
        "    search_options={\n",
        "        \"query\": {\n",
        "            \"min\": 3,\n",
        "            \"max\": 5,\n",
        "            \"inclusive_min\": True,\n",
        "            \"inclusive_max\": True,\n",
        "            \"field\": \"metadata.rating\",\n",
        "        }\n",
        "    },\n",
        ")\n",
        "print(results[0])"
      ]
    },
    {
      "cell_type": "markdown",
      "id": "0f16bf86-f01c-4a77-8406-275f7313f493",
      "metadata": {},
      "source": [
        "### 组合多个搜索查询\n可以使用 AND（合取）或 OR（析取）运算符组合不同的搜索查询。\n\n在此示例中，我们将查找评级在 3 到 4 之间且日期在 2015 到 2018 年之间的文档。"
      ]
    },
    {
      "cell_type": "code",
      "execution_count": 20,
      "id": "dd0fe7f1-aa40-4c6f-889b-99ad5efcd88b",
      "metadata": {},
      "outputs": [
        {
          "name": "stdout",
          "output_type": "stream",
          "text": [
            "(Document(id='7115a704877a46ad94d661dd9c81cbc3', metadata={'author': 'Jane Doe', 'date': '2017-01-01', 'rating': 3, 'source': '../../how_to/state_of_the_union.txt'}, page_content='And with 75% of adult Americans fully vaccinated and hospitalizations down by 77%, most Americans can remove their masks, return to work, stay in the classroom, and move forward safely. \\n\\nWe achieved this because we provided free vaccines, treatments, tests, and masks. \\n\\nOf course, continuing this costs money. \\n\\nI will soon send Congress a request. \\n\\nThe vast majority of Americans have used these tools and may want to again, so I expect Congress to pass it quickly.'), 0.6898253780130769)\n"
          ]
        }
      ],
      "source": [
        "query = \"Any mention about independence?\"\n",
        "results = vector_store.similarity_search_with_score(\n",
        "    query,\n",
        "    search_options={\n",
        "        \"query\": {\n",
        "            \"conjuncts\": [\n",
        "                {\"min\": 3, \"max\": 4, \"inclusive_max\": True, \"field\": \"metadata.rating\"},\n",
        "                {\"start\": \"2016-12-31\", \"end\": \"2017-01-02\", \"field\": \"metadata.date\"},\n",
        "            ]\n",
        "        }\n",
        "    },\n",
        ")\n",
        "print(results[0])"
      ]
    },
    {
      "cell_type": "markdown",
      "id": "65f9a24e-8c67-42e9-b995-6b4137da8c36",
      "metadata": {},
      "source": [
        "**注意**\n\n混合搜索结果可能包含不满足所有搜索条件的文档。这是由于 [评分计算方式](https://docs.couchbase.com/server/current/search/run-searches.html#scoring) 的原因。\n分数是向量搜索分数和混合搜索中查询的加总。如果向量搜索分数很高，组合分数就会超过那些匹配混合搜索中所有查询的结果。\n为避免这种情况，请使用 `filter` 参数，而不是混合搜索。"
      ]
    },
    {
      "cell_type": "markdown",
      "id": "334de7ac-8fd1-42b1-856e-834508af8738",
      "metadata": {},
      "source": [
        "### 结合混合搜索查询与筛选器\n混合搜索可以与筛选器结合使用，以获得混合搜索的最佳效果以及符合要求的筛选结果。\n\n在此示例中，我们将检查文档，要求其评分为 3 到 5 之间，并且在文本字段中匹配字符串 \"independence\"。"
      ]
    },
    {
      "cell_type": "code",
      "execution_count": 21,
      "id": "a360adba-03d2-4e25-877e-438538d2ea37",
      "metadata": {},
      "outputs": [
        {
          "name": "stdout",
          "output_type": "stream",
          "text": [
            "(Document(id='23bb51b4e4d54a94ab0a95e72be8428c', metadata={'author': 'John Doe', 'date': '2012-01-01', 'rating': 3, 'source': '../../how_to/state_of_the_union.txt'}, page_content='And we remain clear-eyed. The Ukrainians are fighting back with pure courage. But the next few days weeks, months, will be hard on them.  \\n\\nPutin has unleashed violence and chaos.  But while he may make gains on the battlefield – he will pay a continuing high price over the long run. \\n\\nAnd a proud Ukrainian people, who have known 30 years  of independence, have repeatedly shown that they will not tolerate anyone who tries to take their country backwards.'), 0.30549919644400614)\n"
          ]
        }
      ],
      "source": [
        "filter_text = search.MatchQuery(\"independence\", field=\"text\")\n",
        "\n",
        "query = \"Any mention about independence?\"\n",
        "results = vector_store.similarity_search_with_score(\n",
        "    query,\n",
        "    search_options={\n",
        "        \"query\": {\n",
        "            \"min\": 3,\n",
        "            \"max\": 5,\n",
        "            \"inclusive_min\": True,\n",
        "            \"inclusive_max\": True,\n",
        "            \"field\": \"metadata.rating\",\n",
        "        }\n",
        "    },\n",
        "    filter=filter_text,\n",
        ")\n",
        "\n",
        "print(results[0])"
      ]
    },
    {
      "cell_type": "markdown",
      "id": "39258571-3233-45c3-a6ad-5c3c90ea2b1c",
      "metadata": {},
      "source": [
        "### 其他查询\n同样，您可以在 `search_options` 参数中使用任何支持的查询方法，如 Geo Distance、Polygon Search、Wildcard、Regular Expressions 等。有关可用查询方法及其语法的更多详细信息，请参阅文档。\n\n- [Couchbase Capella](https://docs.couchbase.com/cloud/search/search-request-params.html#query-object)\n- [Couchbase Server](https://docs.couchbase.com/server/current/search/search-request-params.html#query-object)"
      ]
    },
    {
      "cell_type": "markdown",
      "id": "28ab35ec",
      "metadata": {},
      "source": [
        "## 用于检索增强生成 (Retrieval-Augmented Generation) 的用法\n\n有关如何将此向量存储用于检索增强生成 (RAG) 的指南，请参阅以下章节：\n\n- [教程](/docs/tutorials/)\n- [操作指南：使用 RAG 进行问答](https://python.langchain.com/docs/how_to/#qa-with-rag)\n- [检索概念文档](https://python.langchain.com/docs/concepts/retrieval)"
      ]
    },
    {
      "cell_type": "markdown",
      "id": "80958c2b-6a67-45e6-b7f0-fd2461d75e0f",
      "metadata": {},
      "source": [
        "## 常见问题"
      ]
    },
    {
      "cell_type": "markdown",
      "id": "4f7f9838-cc20-44bc-a72d-06f2cb6c3fca",
      "metadata": {},
      "source": [
        "### 问题：我应该在创建 `CouchbaseSearchVectorStore` 对象之前创建 Search 索引吗？\n是的，目前您需要在创建 `CouchbaseSearchVectorStore` 对象之前创建 Search 索引。"
      ]
    },
    {
      "cell_type": "markdown",
      "id": "3f0dbc1b-9e82-4ec3-9330-6b54de00661e",
      "metadata": {},
      "source": [
        "### 问题：我的搜索结果中没有显示我指定的所有字段。\n\n在 Couchbase 中，我们只能返回存储在搜索索引中的字段。请确保您尝试在搜索结果中访问的字段是搜索索引的一部分。\n\n处理此问题的一种方法是在索引中动态地索引和存储文档的字段。\n\n- 在 Capella 中，您需要转到“高级模式”，然后在“常规设置”的下拉菜单下，您可以勾选“[X] 存储动态字段”或“[X] 索引动态字段”。\n- 在 Couchbase Server 中，在索引编辑器（不是快速编辑器）的“高级”下拉菜单下，您可以勾选“[X] 存储动态字段”或“[X] 索引动态字段”。\n\n请注意，这些选项会增加索引的大小。\n\n有关动态映射的更多详细信息，请参阅[文档](https://docs.couchbase.com/cloud/search/customize-index.html)。"
      ]
    },
    {
      "cell_type": "markdown",
      "id": "0449a2e3-59d7-4b25-b09e-a2b062fef01f",
      "metadata": {},
      "source": [
        "### 问题：在搜索结果中看不到 metadata 对象。\n\n这很可能是因为文档中的 `metadata` 字段未被 Couchbase 搜索索引索引和/或存储。为了索引文档中的 `metadata` 字段，您需要将其作为子映射添加到索引中。\n\n如果您选择映射所有字段，您将能够搜索所有元数据字段。或者，为了优化索引，您可以选择 `metadata` 对象内的特定字段进行索引。您可以参考[文档](https://docs.couchbase.com/cloud/search/customize-index.html)了解更多关于索引子映射的信息。\n\n创建子映射\n\n* [Couchbase Capella](https://docs.couchbase.com/cloud/search/create-child-mapping.html)\n* [Couchbase Server](https://docs.couchbase.com/server/current/search/create-child-mapping.html)"
      ]
    },
    {
      "cell_type": "markdown",
      "id": "c9b8632e-9bce-41c8-b6aa-e527b41de9b2",
      "metadata": {},
      "source": [
        "### 问题：filter 与 search_options / hybrid queries 之间有什么区别？\nFilters 是[预过滤器](https://docs.couchbase.com/server/current/vector-search/pre-filtering-vector-search.html#about-pre-filtering)，用于限制在 Search 索引中搜索的文档。它在 Couchbase Server 7.6.4 及更高版本中可用。\n\nHybrid Queries 是额外的搜索查询，可用于优化从 Search 索引返回的结果。\n\nFilters 和 hybrid search queries 都具有相同的能力，只是语法略有不同。Filters 是 [SearchQuery](https://docs.couchbase.com/python-sdk/current/howtos/full-text-searching-with-sdk.html#search-queries) 对象，而 hybrid search queries 是[字典](https://docs.couchbase.com/server/current/search/search-request-params.html)。"
      ]
    },
    {
      "cell_type": "markdown",
      "id": "d876b769",
      "metadata": {},
      "source": [
        "## API 参考\n\n有关 `CouchbaseSearchVectorStore` 所有功能和配置的详细文档，请访问[API 参考](https://couchbase-ecosystem.github.io/langchain-couchbase/langchain_couchbase.html#module-langchain_couchbase.vectorstores.search_vector_store)"
      ]
    }
  ],
  "metadata": {
    "kernelspec": {
      "display_name": "Python 3 (ipykernel)",
      "language": "python",
      "name": "python3"
    },
    "language_info": {
      "codemirror_mode": {
        "name": "ipython",
        "version": 3
      },
      "file_extension": ".py",
      "mimetype": "text/x-python",
      "name": "python",
      "nbconvert_exporter": "python",
      "pygments_lexer": "ipython3",
      "version": "3.10.13"
    }
  },
  "nbformat": 4,
  "nbformat_minor": 5
}