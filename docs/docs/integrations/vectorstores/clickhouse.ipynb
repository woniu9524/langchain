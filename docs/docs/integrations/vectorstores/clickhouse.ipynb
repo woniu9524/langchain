{
  "cells": [
    {
      "cell_type": "markdown",
      "id": "683953b3",
      "metadata": {},
      "source": [
        "# ClickHouse\n\n> [ClickHouse](https://clickhouse.com/) 是最快、资源效率最高的开源数据库，适用于实时应用程序和分析，提供完整的 SQL 支持以及广泛的函数，可协助用户编写分析性查询。最近添加的数据结构和距离搜索函数（如 `L2Distance`）以及[近似最近邻搜索索引](https://clickhouse.com/docs/en/engines/table-engines/mergetree-family/annindexes) 使 ClickHouse 能够用作高性能、可扩展的向量数据库，以 SQL 的方式存储和搜索向量。\n\n本笔记本展示了如何使用与 `ClickHouse` 向量存储相关的功能。\n\n## 设置\n\n首先使用 docker 设置本地 clickhouse服务器："
      ]
    },
    {
      "cell_type": "code",
      "execution_count": null,
      "id": "8c4d2e16",
      "metadata": {},
      "outputs": [],
      "source": [
        "! docker run -d -p 8123:8123 -p9000:9000 --name langchain-clickhouse-server --ulimit nofile=262144:262144 clickhouse/clickhouse-server:24.7.6.8"
      ]
    },
    {
      "cell_type": "markdown",
      "id": "0acb2a8d",
      "metadata": {},
      "source": [
        "您需要安装 `langchain-community` 和 `clickhouse-connect` 才能使用此集成"
      ]
    },
    {
      "cell_type": "code",
      "execution_count": null,
      "id": "d454fb7c",
      "metadata": {},
      "outputs": [],
      "source": [
        "pip install -qU langchain-community clickhouse-connect"
      ]
    },
    {
      "cell_type": "markdown",
      "id": "3df5501b",
      "metadata": {},
      "source": [
        "### 凭据\n\n此Notebook无需凭据，只需确保已安装上述软件包。"
      ]
    },
    {
      "cell_type": "markdown",
      "id": "54d5276f",
      "metadata": {},
      "source": [
        "如果你希望获得一流的自动化模型调用跟踪，也可以通过取消注释以下内容来设置你的 [LangSmith](https://docs.smith.langchain.com/) API 密钥："
      ]
    },
    {
      "cell_type": "code",
      "execution_count": null,
      "id": "f6fd5b03",
      "metadata": {},
      "outputs": [],
      "source": [
        "# os.environ[\"LANGSMITH_API_KEY\"] = getpass.getpass(\"Enter your LangSmith API key: \")\n",
        "# os.environ[\"LANGSMITH_TRACING\"] = \"true\""
      ]
    },
    {
      "cell_type": "markdown",
      "id": "2b87fe34",
      "metadata": {},
      "source": [
        "## 实例化\n\nimport EmbeddingTabs from \"@theme/EmbeddingTabs\";\n\n<EmbeddingTabs/>"
      ]
    },
    {
      "cell_type": "code",
      "execution_count": null,
      "id": "60276097",
      "metadata": {},
      "outputs": [],
      "source": [
        "# | output: false\n",
        "# | echo: false\n",
        "from langchain_openai import OpenAIEmbeddings\n",
        "\n",
        "embeddings = OpenAIEmbeddings(model=\"text-embedding-3-large\")"
      ]
    },
    {
      "cell_type": "code",
      "execution_count": null,
      "id": "aac9563e",
      "metadata": {
        "ExecuteTime": {
          "end_time": "2023-06-03T08:33:31.554934Z",
          "start_time": "2023-06-03T08:33:31.549590Z"
        },
        "tags": []
      },
      "outputs": [],
      "source": [
        "from langchain_community.vectorstores import Clickhouse, ClickhouseSettings\n",
        "\n",
        "settings = ClickhouseSettings(table=\"clickhouse_example\")\n",
        "vector_store = Clickhouse(embeddings, config=settings)"
      ]
    },
    {
      "cell_type": "markdown",
      "id": "32dd3f67",
      "metadata": {},
      "source": [
        "## 管理向量存储\n\n创建向量存储后，我们可以通过添加和删除不同的项目与其进行交互。\n\n### 向向量存储添加项目\n\n我们可以使用 `add_documents` 函数向向量存储添加项目。"
      ]
    },
    {
      "cell_type": "code",
      "execution_count": null,
      "id": "944743ee",
      "metadata": {},
      "outputs": [],
      "source": [
        "from uuid import uuid4\n",
        "\n",
        "from langchain_core.documents import Document\n",
        "\n",
        "document_1 = Document(\n",
        "    page_content=\"I had chocolate chip pancakes and scrambled eggs for breakfast this morning.\",\n",
        "    metadata={\"source\": \"tweet\"},\n",
        ")\n",
        "\n",
        "document_2 = Document(\n",
        "    page_content=\"The weather forecast for tomorrow is cloudy and overcast, with a high of 62 degrees.\",\n",
        "    metadata={\"source\": \"news\"},\n",
        ")\n",
        "\n",
        "document_3 = Document(\n",
        "    page_content=\"Building an exciting new project with LangChain - come check it out!\",\n",
        "    metadata={\"source\": \"tweet\"},\n",
        ")\n",
        "\n",
        "document_4 = Document(\n",
        "    page_content=\"Robbers broke into the city bank and stole $1 million in cash.\",\n",
        "    metadata={\"source\": \"news\"},\n",
        ")\n",
        "\n",
        "document_5 = Document(\n",
        "    page_content=\"Wow! That was an amazing movie. I can't wait to see it again.\",\n",
        "    metadata={\"source\": \"tweet\"},\n",
        ")\n",
        "\n",
        "document_6 = Document(\n",
        "    page_content=\"Is the new iPhone worth the price? Read this review to find out.\",\n",
        "    metadata={\"source\": \"website\"},\n",
        ")\n",
        "\n",
        "document_7 = Document(\n",
        "    page_content=\"The top 10 soccer players in the world right now.\",\n",
        "    metadata={\"source\": \"website\"},\n",
        ")\n",
        "\n",
        "document_8 = Document(\n",
        "    page_content=\"LangGraph is the best framework for building stateful, agentic applications!\",\n",
        "    metadata={\"source\": \"tweet\"},\n",
        ")\n",
        "\n",
        "document_9 = Document(\n",
        "    page_content=\"The stock market is down 500 points today due to fears of a recession.\",\n",
        "    metadata={\"source\": \"news\"},\n",
        ")\n",
        "\n",
        "document_10 = Document(\n",
        "    page_content=\"I have a bad feeling I am going to get deleted :(\",\n",
        "    metadata={\"source\": \"tweet\"},\n",
        ")\n",
        "\n",
        "documents = [\n",
        "    document_1,\n",
        "    document_2,\n",
        "    document_3,\n",
        "    document_4,\n",
        "    document_5,\n",
        "    document_6,\n",
        "    document_7,\n",
        "    document_8,\n",
        "    document_9,\n",
        "    document_10,\n",
        "]\n",
        "uuids = [str(uuid4()) for _ in range(len(documents))]\n",
        "\n",
        "vector_store.add_documents(documents=documents, ids=uuids)"
      ]
    },
    {
      "cell_type": "markdown",
      "id": "18af81cc",
      "metadata": {},
      "source": [
        "### 从向量存储中删除项目\n\n我们可以使用 `delete` 函数通过 ID 从向量存储中删除项目。"
      ]
    },
    {
      "cell_type": "code",
      "execution_count": null,
      "id": "12b32762",
      "metadata": {},
      "outputs": [],
      "source": [
        "vector_store.delete(ids=uuids[-1])"
      ]
    },
    {
      "cell_type": "markdown",
      "id": "ada27577",
      "metadata": {},
      "source": [
        "## 查询向量存储\n\n一旦创建了向量存储并添加了相关文档，您最有可能希望在链或代理运行时查询它。\n\n### 直接查询\n\n#### Similarity search\n\n执行简单的相似性搜索，如下所示："
      ]
    },
    {
      "cell_type": "code",
      "execution_count": null,
      "id": "015831a3",
      "metadata": {},
      "outputs": [],
      "source": [
        "results = vector_store.similarity_search(\n",
        "    \"LangChain provides abstractions to make working with LLMs easy\", k=2\n",
        ")\n",
        "for res in results:\n",
        "    print(f\"* {res.page_content} [{res.metadata}]\")"
      ]
    },
    {
      "cell_type": "markdown",
      "id": "623d3b9d",
      "metadata": {},
      "source": [
        "#### 相似性搜索（含得分）\n\n您也可以通过得分进行搜索："
      ]
    },
    {
      "cell_type": "code",
      "execution_count": null,
      "id": "e7d43430",
      "metadata": {},
      "outputs": [],
      "source": [
        "results = vector_store.similarity_search_with_score(\"Will it be hot tomorrow?\", k=1)\n",
        "for res, score in results:\n",
        "    print(f\"* [SIM={score:3f}] {res.page_content} [{res.metadata}]\")"
      ]
    },
    {
      "cell_type": "markdown",
      "id": "f5a90c12",
      "metadata": {},
      "source": [
        "## 筛选\n\n您可以直接访问 ClickHouse SQL `WHERE` 语句。您可以按照标准 SQL 编写 `WHERE` 子句。\n\n**注意**: 请注意 SQL 注入的风险，此接口不得直接由最终用户调用。\n\n如果您在设置中自定义了 `column_map`，您可以像这样使用筛选器进行搜索："
      ]
    },
    {
      "cell_type": "code",
      "execution_count": null,
      "id": "169d01d1",
      "metadata": {},
      "outputs": [],
      "source": [
        "meta = vector_store.metadata_column\n",
        "results = vector_store.similarity_search_with_relevance_scores(\n",
        "    \"What did I eat for breakfast?\",\n",
        "    k=4,\n",
        "    where_str=f\"{meta}.source = 'tweet'\",\n",
        ")\n",
        "for res in results:\n",
        "    print(f\"* {res.page_content} [{res.metadata}]\")"
      ]
    },
    {
      "cell_type": "markdown",
      "id": "d86fa4bf",
      "metadata": {},
      "source": [
        "#### 其他搜索方法\n\n本笔记本未涵盖各种其他搜索方法，例如 MMR 搜索或按向量搜索。有关 `Clickhouse` vector store 可用的搜索功能的完整列表，请参阅 [API 参考](https://python.langchain.com/api_reference/community/vectorstores/langchain_community.vectorstores.clickhouse.Clickhouse.html)。"
      ]
    },
    {
      "cell_type": "markdown",
      "id": "afacfd4e",
      "metadata": {},
      "source": [
        "### 通过转换为检索器进行查询\n\n您也可以将向量存储转换为检索器，以便在链中使用更加便捷。\n\n以下是如何将向量存储转换为检索器，然后使用简单查询和过滤器调用检索器的方法。"
      ]
    },
    {
      "cell_type": "code",
      "execution_count": null,
      "id": "97187188",
      "metadata": {},
      "outputs": [],
      "source": [
        "retriever = vector_store.as_retriever(\n",
        "    search_type=\"similarity_score_threshold\",\n",
        "    search_kwargs={\"k\": 1, \"score_threshold\": 0.5},\n",
        ")\n",
        "retriever.invoke(\"Stealing from the bank is a crime\", filter={\"source\": \"news\"})"
      ]
    },
    {
      "cell_type": "markdown",
      "id": "57fade30",
      "metadata": {},
      "source": [
        "## 为检索增强生成而使用\n\n有关如何为此向量存储进行检索增强生成 (RAG) 的指南，请参阅以下章节：\n\n- [教程](/docs/tutorials/)\n- [操作方法：使用 RAG 进行问答](https://python.langchain.com/docs/how_to/#qa-with-rag)\n- [检索概念文档](https://python.langchain.com/docs/concepts/retrieval)"
      ]
    },
    {
      "cell_type": "markdown",
      "id": "db24787c",
      "metadata": {},
      "source": [
        "欲了解更多信息，请查看使用 Astra DB 的完整 RAG 模板：[here](https://github.com/langchain-ai/langchain/tree/master/templates/rag-astradb)。"
      ]
    },
    {
      "cell_type": "markdown",
      "id": "02452d34",
      "metadata": {},
      "source": [
        "## API 参考\n\n有关所有 `Clickhouse` 功能和配置的详细文档，请访问 API 参考：https://python.langchain.com/api_reference/community/vectorstores/langchain_community.vectorstores.clickhouse.Clickhouse.html"
      ]
    }
  ],
  "metadata": {
    "kernelspec": {
      "display_name": "Python 3 (ipykernel)",
      "language": "python",
      "name": "python3"
    },
    "language_info": {
      "codemirror_mode": {
        "name": "ipython",
        "version": 3
      },
      "file_extension": ".py",
      "mimetype": "text/x-python",
      "name": "python",
      "nbconvert_exporter": "python",
      "pygments_lexer": "ipython3",
      "version": "3.11.9"
    }
  },
  "nbformat": 4,
  "nbformat_minor": 5
}