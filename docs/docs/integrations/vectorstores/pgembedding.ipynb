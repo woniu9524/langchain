{
  "cells": [
    {
      "cell_type": "markdown",
      "id": "1292f057",
      "metadata": {},
      "source": [
        "# Postgres 嵌入\n\n> [Postgres Embedding](https://github.com/neondatabase/pg_embedding) 是一个开源的 Postgres 向量相似性搜索扩展，它使用 `Hierarchical Navigable Small Worlds (HNSW)` 进行近似最近邻搜索。\n\n>它支持：\n>- 使用 HNSW 进行精确和近似最近邻搜索\n>- L2 距离\n\n本 Notebook 展示了如何使用 Postgres 向量数据库 (`PGEmbedding`)。\n\n> PGEmbedding 集成会为您创建 pg_embedding 扩展，但您需要运行以下 Postgres 查询来添加它：\n```sql\nCREATE EXTENSION embedding;\n```"
      ]
    },
    {
      "cell_type": "code",
      "execution_count": null,
      "id": "a6214221",
      "metadata": {},
      "outputs": [],
      "source": [
        "# Pip install necessary package\n",
        "%pip install --upgrade --quiet  langchain-openai langchain-community\n",
        "%pip install --upgrade --quiet  psycopg2-binary\n",
        "%pip install --upgrade --quiet  tiktoken"
      ]
    },
    {
      "cell_type": "markdown",
      "id": "b2e49694",
      "metadata": {},
      "source": [
        "将 OpenAI API 密钥添加到环境变量中以使用 `OpenAIEmbeddings`。"
      ]
    },
    {
      "cell_type": "code",
      "execution_count": 2,
      "id": "1dcc8d99",
      "metadata": {},
      "outputs": [
        {
          "name": "stdout",
          "output_type": "stream",
          "text": [
            "OpenAI API Key:········\n"
          ]
        }
      ],
      "source": [
        "import getpass\n",
        "import os\n",
        "\n",
        "if \"OPENAI_API_KEY\" not in os.environ:\n",
        "    os.environ[\"OPENAI_API_KEY\"] = getpass.getpass(\"OpenAI API Key:\")"
      ]
    },
    {
      "cell_type": "code",
      "execution_count": 3,
      "id": "9719ea68",
      "metadata": {},
      "outputs": [],
      "source": [
        "## Loading Environment Variables\n",
        "from typing import List, Tuple"
      ]
    },
    {
      "cell_type": "code",
      "execution_count": null,
      "id": "dfd1f38d",
      "metadata": {},
      "outputs": [],
      "source": [
        "from langchain_community.document_loaders import TextLoader\n",
        "from langchain_community.vectorstores import PGEmbedding\n",
        "from langchain_core.documents import Document\n",
        "from langchain_openai import OpenAIEmbeddings\n",
        "from langchain_text_splitters import CharacterTextSplitter"
      ]
    },
    {
      "cell_type": "code",
      "execution_count": 5,
      "id": "8fab8cc2",
      "metadata": {},
      "outputs": [
        {
          "name": "stdout",
          "output_type": "stream",
          "text": [
            "Database Url:········\n"
          ]
        }
      ],
      "source": [
        "if \"DATABASE_URL\" not in os.environ:\n",
        "    os.environ[\"DATABASE_URL\"] = getpass.getpass(\"Database Url:\")"
      ]
    },
    {
      "cell_type": "code",
      "execution_count": 6,
      "id": "bef17115",
      "metadata": {},
      "outputs": [],
      "source": [
        "loader = TextLoader(\"state_of_the_union.txt\")\n",
        "documents = loader.load()\n",
        "text_splitter = CharacterTextSplitter(chunk_size=1000, chunk_overlap=0)\n",
        "docs = text_splitter.split_documents(documents)\n",
        "\n",
        "embeddings = OpenAIEmbeddings()\n",
        "connection_string = os.environ.get(\"DATABASE_URL\")\n",
        "collection_name = \"state_of_the_union\""
      ]
    },
    {
      "cell_type": "code",
      "execution_count": 13,
      "id": "743abfaa",
      "metadata": {},
      "outputs": [],
      "source": [
        "db = PGEmbedding.from_documents(\n",
        "    embedding=embeddings,\n",
        "    documents=docs,\n",
        "    collection_name=collection_name,\n",
        "    connection_string=connection_string,\n",
        ")\n",
        "\n",
        "query = \"What did the president say about Ketanji Brown Jackson\"\n",
        "docs_with_score: List[Tuple[Document, float]] = db.similarity_search_with_score(query)"
      ]
    },
    {
      "cell_type": "code",
      "execution_count": null,
      "id": "41ce4c4e",
      "metadata": {},
      "outputs": [],
      "source": [
        "for doc, score in docs_with_score:\n",
        "    print(\"-\" * 80)\n",
        "    print(\"Score: \", score)\n",
        "    print(doc.page_content)\n",
        "    print(\"-\" * 80)"
      ]
    },
    {
      "cell_type": "markdown",
      "id": "7ef7b052",
      "metadata": {},
      "source": [
        "## 在 Postgres 中使用 Vectorstore"
      ]
    },
    {
      "cell_type": "markdown",
      "id": "939151f7",
      "metadata": {},
      "source": [
        "### 在 PG 中上传向量库"
      ]
    },
    {
      "cell_type": "code",
      "execution_count": 32,
      "id": "595ac511",
      "metadata": {},
      "outputs": [],
      "source": [
        "db = PGEmbedding.from_documents(\n",
        "    embedding=embeddings,\n",
        "    documents=docs,\n",
        "    collection_name=collection_name,\n",
        "    connection_string=connection_string,\n",
        "    pre_delete_collection=False,\n",
        ")"
      ]
    },
    {
      "cell_type": "markdown",
      "id": "f9510e6b",
      "metadata": {},
      "source": [
        "### 创建 HNSW 索引\n默认情况下，该扩展执行顺序扫描搜索，召回率为 100%。您可以考虑创建一个 HNSW 索引来进行近似最近邻 (ANN) 搜索，以加快 `similarity_search_with_score` 的执行时间。要在向量列上创建 HNSW 索引，请使用 `create_hnsw_index` 函数："
      ]
    },
    {
      "cell_type": "code",
      "execution_count": null,
      "id": "2d1981fa",
      "metadata": {},
      "outputs": [],
      "source": [
        "PGEmbedding.create_hnsw_index(\n",
        "    max_elements=10000, dims=1536, m=8, ef_construction=16, ef_search=16\n",
        ")"
      ]
    },
    {
      "cell_type": "markdown",
      "id": "7adacf29",
      "metadata": {},
      "source": [
        "上面的函数等同于执行以下 SQL 查询：\n```sql\nCREATE INDEX ON vectors USING hnsw(vec) WITH (maxelements=10000, dims=1536, m=3, efconstruction=16, efsearch=16);\n```\n上面语句中使用的 HNSW 索引选项包括：\n\n- maxelements：定义索引的最大元素数量。这是一个必需参数。上面示例的值为 3。真实世界的示例值会大得多，例如 1000000。一个“元素”是指数据集中（向量）的一个数据点，在 HNSW 图中表示为一个节点。通常，您会将此选项设置为一个能够容纳您数据集中行数的数值。\n- dims：定义向量数据的维度数量。这是一个必需参数。上面示例中使用的值为小数值。如果您存储的是使用 OpenAI 的 text-embedding-ada-002 模型生成的数据，该模型支持 1536 个维度，那么您应定义值为 1536，例如。\n- m：定义在图构造过程中为每个节点创建的双向链接（也称为“边”）的最大数量。\n还支持以下附加索引选项：\n\n- efConstruction：定义在索引构造过程中考虑的最近邻数量。默认值为 32。\n- efsearch：定义在索引搜索过程中考虑的最近邻数量。默认值为 32。\n有关如何配置这些选项来影响 HNSW 算法的信息，请参阅 [Tuning the HNSW algorithm](https://neon.tech/docs/extensions/pg_embedding#tuning-the-hnsw-algorithm)。"
      ]
    },
    {
      "cell_type": "markdown",
      "id": "528893fb",
      "metadata": {},
      "source": [
        "### 在 PG 中检索向量存储区"
      ]
    },
    {
      "cell_type": "code",
      "execution_count": 15,
      "id": "b6162b1c",
      "metadata": {},
      "outputs": [],
      "source": [
        "store = PGEmbedding(\n",
        "    connection_string=connection_string,\n",
        "    embedding_function=embeddings,\n",
        "    collection_name=collection_name,\n",
        ")\n",
        "\n",
        "retriever = store.as_retriever()"
      ]
    },
    {
      "cell_type": "code",
      "execution_count": 16,
      "id": "1a5fedb1",
      "metadata": {},
      "outputs": [
        {
          "data": {
            "text/plain": [
              "VectorStoreRetriever(vectorstore=<langchain_community.vectorstores.pghnsw.HNSWVectoreStore object at 0x121d3c8b0>, search_type='similarity', search_kwargs={})"
            ]
          },
          "execution_count": 16,
          "metadata": {},
          "output_type": "execute_result"
        }
      ],
      "source": [
        "retriever"
      ]
    },
    {
      "cell_type": "code",
      "execution_count": 17,
      "id": "0cefc938",
      "metadata": {},
      "outputs": [],
      "source": [
        "db1 = PGEmbedding.from_existing_index(\n",
        "    embedding=embeddings,\n",
        "    collection_name=collection_name,\n",
        "    pre_delete_collection=False,\n",
        "    connection_string=connection_string,\n",
        ")\n",
        "\n",
        "query = \"What did the president say about Ketanji Brown Jackson\"\n",
        "docs_with_score: List[Tuple[Document, float]] = db1.similarity_search_with_score(query)"
      ]
    },
    {
      "cell_type": "code",
      "execution_count": null,
      "id": "85cde495",
      "metadata": {},
      "outputs": [],
      "source": [
        "for doc, score in docs_with_score:\n",
        "    print(\"-\" * 80)\n",
        "    print(\"Score: \", score)\n",
        "    print(doc.page_content)\n",
        "    print(\"-\" * 80)"
      ]
    }
  ],
  "metadata": {
    "kernelspec": {
      "display_name": "Python 3 (ipykernel)",
      "language": "python",
      "name": "python3"
    },
    "language_info": {
      "codemirror_mode": {
        "name": "ipython",
        "version": 3
      },
      "file_extension": ".py",
      "mimetype": "text/x-python",
      "name": "python",
      "nbconvert_exporter": "python",
      "pygments_lexer": "ipython3",
      "version": "3.10.12"
    }
  },
  "nbformat": 4,
  "nbformat_minor": 5
}