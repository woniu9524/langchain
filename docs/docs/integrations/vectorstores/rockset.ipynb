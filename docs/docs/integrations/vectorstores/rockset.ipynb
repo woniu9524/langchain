{
  "cells": [
    {
      "cell_type": "markdown",
      "id": "9787b308",
      "metadata": {},
      "source": [
        "# Rockset\n\n>[Rockset](https://rockset.com/) 是一个专为云构建的实时搜索和分析数据库。Rockset 使用 [Converged Index™](https://rockset.com/blog/converged-indexing-the-secret-sauce-behind-rocksets-fast-queries/) 和高效的向量嵌入存储，以大规模地提供低延迟、高并发的搜索查询。Rockset 完全支持元数据过滤，并处理持续更新的流数据的实时摄取。\n\n本笔记本演示了如何将 `Rockset` 用作 LangChain 中的向量存储。开始之前，请确保您拥有 `Rockset` 账户和可用的 API 密钥。[立即开始免费试用。](https://rockset.com/create/)\n\n您需要通过 `pip install -qU langchain-community` 安装 `langchain-community` 才能使用此集成。"
      ]
    },
    {
      "cell_type": "markdown",
      "id": "b823d64a",
      "metadata": {},
      "source": [
        "## 设置您的环境\n\n1. 利用 `Rockset` 控制台创建一个集合，并将 Write API 作为您的源。在本演练中，我们将创建一个名为 `langchain_demo` 的集合。\n    \n    配置以下 [ingest transformation](https://rockset.com/docs/ingest-transformation/) 来标记您的 embeddings 字段，并利用性能和存储优化：\n\n   (在本示例中，我们使用了 OpenAI 的 `text-embedding-ada-002`，其中 #length_of_vector_embedding = 1536)"
      ]
    },
    {
      "attachments": {},
      "cell_type": "markdown",
      "id": "382952d8-6bbd-447f-903c-4437ddbeec0c",
      "metadata": {
        "vscode": {
          "languageId": "sql"
        }
      },
      "source": [
        "```\nSELECT _input.* EXCEPT(_meta), \nVECTOR_ENFORCE(_input.description_embedding, #length_of_vector_embedding, 'float') as description_embedding \nFROM _input\n```\n\n2. 创建集合后，使用控制台检索 [API 密钥](https://rockset.com/docs/iam/#users-api-keys-and-roles)。在本笔记本中，我们假定您使用的是 `Oregon(us-west-2)` 区域。\n\n3. 安装 [rockset-python-client](https://github.com/rockset/rockset-python-client)，以便 LangChain 能够直接与 `Rockset` 通信。"
      ]
    },
    {
      "cell_type": "code",
      "execution_count": null,
      "id": "00d16b83",
      "metadata": {},
      "outputs": [],
      "source": [
        "%pip install --upgrade --quiet  rockset"
      ]
    },
    {
      "cell_type": "markdown",
      "id": "e79550eb",
      "metadata": {},
      "source": [
        "## LangChain 教程\n\n在您自己的 Python notebook 中进行操作，以生成向量嵌入并在 Rockset 中存储它们。\n开始使用 Rockset 来搜索与您的搜索查询相似的文档。\n\n### 1. 定义关键变量"
      ]
    },
    {
      "cell_type": "code",
      "execution_count": null,
      "id": "29505c1e",
      "metadata": {},
      "outputs": [],
      "source": [
        "import os\n",
        "\n",
        "import rockset\n",
        "\n",
        "ROCKSET_API_KEY = os.environ.get(\n",
        "    \"ROCKSET_API_KEY\"\n",
        ")  # Verify ROCKSET_API_KEY environment variable\n",
        "ROCKSET_API_SERVER = rockset.Regions.usw2a1  # Verify Rockset region\n",
        "rockset_client = rockset.RocksetClient(ROCKSET_API_SERVER, ROCKSET_API_KEY)\n",
        "\n",
        "COLLECTION_NAME = \"langchain_demo\"\n",
        "TEXT_KEY = \"description\"\n",
        "EMBEDDING_KEY = \"description_embedding\""
      ]
    },
    {
      "cell_type": "markdown",
      "id": "07625be2",
      "metadata": {},
      "source": [
        "### 2. 准备文档"
      ]
    },
    {
      "cell_type": "code",
      "execution_count": null,
      "id": "9740d8c4",
      "metadata": {},
      "outputs": [],
      "source": [
        "from langchain_community.document_loaders import TextLoader\n",
        "from langchain_community.vectorstores import Rockset\n",
        "from langchain_openai import OpenAIEmbeddings\n",
        "from langchain_text_splitters import CharacterTextSplitter\n",
        "\n",
        "loader = TextLoader(\"../../how_to/state_of_the_union.txt\")\n",
        "documents = loader.load()\n",
        "text_splitter = CharacterTextSplitter(chunk_size=1000, chunk_overlap=0)\n",
        "docs = text_splitter.split_documents(documents)"
      ]
    },
    {
      "cell_type": "markdown",
      "id": "a068be18",
      "metadata": {},
      "source": [
        "### 3. 插入文档"
      ]
    },
    {
      "cell_type": "code",
      "execution_count": null,
      "id": "85b6a6c5",
      "metadata": {},
      "outputs": [],
      "source": [
        "embeddings = OpenAIEmbeddings()  # Verify OPENAI_API_KEY environment variable\n",
        "\n",
        "docsearch = Rockset(\n",
        "    client=rockset_client,\n",
        "    embeddings=embeddings,\n",
        "    collection_name=COLLECTION_NAME,\n",
        "    text_key=TEXT_KEY,\n",
        "    embedding_key=EMBEDDING_KEY,\n",
        ")\n",
        "\n",
        "ids = docsearch.add_texts(\n",
        "    texts=[d.page_content for d in docs],\n",
        "    metadatas=[d.metadata for d in docs],\n",
        ")"
      ]
    },
    {
      "cell_type": "markdown",
      "id": "56eef48d",
      "metadata": {},
      "source": [
        "### 4. 搜索相似文档"
      ]
    },
    {
      "cell_type": "code",
      "execution_count": null,
      "id": "0bbf3df0",
      "metadata": {},
      "outputs": [],
      "source": [
        "query = \"What did the president say about Ketanji Brown Jackson\"\n",
        "output = docsearch.similarity_search_with_relevance_scores(\n",
        "    query, 4, Rockset.DistanceFunction.COSINE_SIM\n",
        ")\n",
        "print(\"output length:\", len(output))\n",
        "for d, dist in output:\n",
        "    print(dist, d.metadata, d.page_content[:20] + \"...\")\n",
        "\n",
        "##\n",
        "# output length: 4\n",
        "# 0.764990692109871 {'source': '../../../state_of_the_union.txt'} Madam Speaker, Madam...\n",
        "# 0.7485416901622112 {'source': '../../../state_of_the_union.txt'} And I’m taking robus...\n",
        "# 0.7468678973398306 {'source': '../../../state_of_the_union.txt'} And so many families...\n",
        "# 0.7436231261419488 {'source': '../../../state_of_the_union.txt'} Groups of citizens b..."
      ]
    },
    {
      "cell_type": "markdown",
      "id": "7037a22f",
      "metadata": {},
      "source": [
        "### 5. 搜索相似文档并进行筛选"
      ]
    },
    {
      "cell_type": "code",
      "execution_count": null,
      "id": "b64a290f",
      "metadata": {},
      "outputs": [],
      "source": [
        "output = docsearch.similarity_search_with_relevance_scores(\n",
        "    query,\n",
        "    4,\n",
        "    Rockset.DistanceFunction.COSINE_SIM,\n",
        "    where_str=\"{} NOT LIKE '%citizens%'\".format(TEXT_KEY),\n",
        ")\n",
        "print(\"output length:\", len(output))\n",
        "for d, dist in output:\n",
        "    print(dist, d.metadata, d.page_content[:20] + \"...\")\n",
        "\n",
        "##\n",
        "# output length: 4\n",
        "# 0.7651359650263554 {'source': '../../../state_of_the_union.txt'} Madam Speaker, Madam...\n",
        "# 0.7486265516824893 {'source': '../../../state_of_the_union.txt'} And I’m taking robus...\n",
        "# 0.7469625542348115 {'source': '../../../state_of_the_union.txt'} And so many families...\n",
        "# 0.7344177777547739 {'source': '../../../state_of_the_union.txt'} We see the unity amo..."
      ]
    },
    {
      "attachments": {},
      "cell_type": "markdown",
      "id": "13a52b38",
      "metadata": {},
      "source": [
        "### 6. [可选] 删除已插入的文档\n\n您必须拥有与每个文档关联的唯一 ID，才能从您的集合中删除它们。\n在插入文档时使用 `Rockset.add_texts()` 定义 ID。否则，Rockset 将为每个文档生成一个唯一的 ID。无论如何，`Rockset.add_texts()` 会返回已插入文档的 ID。\n\n要删除这些文档，只需使用 `Rockset.delete_texts()` 函数。"
      ]
    },
    {
      "cell_type": "code",
      "execution_count": null,
      "id": "1f755924",
      "metadata": {},
      "outputs": [],
      "source": [
        "docsearch.delete_texts(ids)"
      ]
    },
    {
      "cell_type": "markdown",
      "id": "d468f431",
      "metadata": {},
      "source": [
        "## 摘要\n\n在本教程中，我们成功创建了一个 `Rockset` 集合，`插入`了包含 OpenAI 嵌入的文档，并进行了带或不带元数据过滤器的相似文档搜索。\n\n请关注 https://rockset.com/ 以获取该领域的未来更新。"
      ]
    }
  ],
  "metadata": {
    "kernelspec": {
      "display_name": "Python 3 (ipykernel)",
      "language": "python",
      "name": "python3"
    },
    "language_info": {
      "codemirror_mode": {
        "name": "ipython",
        "version": 3
      },
      "file_extension": ".py",
      "mimetype": "text/x-python",
      "name": "python",
      "nbconvert_exporter": "python",
      "pygments_lexer": "ipython3",
      "version": "3.9.1"
    }
  },
  "nbformat": 4,
  "nbformat_minor": 5
}