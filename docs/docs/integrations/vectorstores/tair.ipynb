{
  "cells": [
    {
      "cell_type": "markdown",
      "metadata": {},
      "source": [
        "# Tair\n\n>[Tair](https://www.alibabacloud.com/help/en/tair/latest/what-is-tair) 是由 `Alibaba Cloud` 开发的一款云原生内存数据库服务。\n它提供了丰富的数据模型和企业级功能，以支持您的实时在线场景，同时保持与开源 `Redis` 的完全兼容。`Tair` 还推出了基于新型非易失性内存 (NVM) 存储介质的持久性内存优化实例。\n\n本 Notebook 展示了如何使用与 `Tair` 向量数据库相关的в功能。\n\n您需要通过 `pip install -qU langchain-community` 安装 `langchain-community` 才能使用此集成。\n\n要运行，您应该有一个正在运行的 `Tair` 实例。"
      ]
    },
    {
      "cell_type": "code",
      "execution_count": null,
      "metadata": {},
      "outputs": [],
      "source": [
        "from langchain_community.embeddings.fake import FakeEmbeddings\n",
        "from langchain_community.vectorstores import Tair\n",
        "from langchain_text_splitters import CharacterTextSplitter"
      ]
    },
    {
      "cell_type": "code",
      "execution_count": null,
      "metadata": {},
      "outputs": [],
      "source": [
        "from langchain_community.document_loaders import TextLoader\n",
        "\n",
        "loader = TextLoader(\"../../how_to/state_of_the_union.txt\")\n",
        "documents = loader.load()\n",
        "text_splitter = CharacterTextSplitter(chunk_size=1000, chunk_overlap=0)\n",
        "docs = text_splitter.split_documents(documents)\n",
        "\n",
        "embeddings = FakeEmbeddings(size=128)"
      ]
    },
    {
      "cell_type": "markdown",
      "metadata": {},
      "source": [
        "使用 `TAIR_URL` 环境变量连接到 Tair\n```\nexport TAIR_URL=\"redis://{username}:{password}@{tair_address}:{tair_port}\"\n```\n\n或者通过关键字参数 `tair_url` 进行连接。\n\n然后将文档和 embeddings 存储到 Tair 中。"
      ]
    },
    {
      "cell_type": "code",
      "execution_count": null,
      "metadata": {},
      "outputs": [],
      "source": [
        "tair_url = \"redis://localhost:6379\"\n",
        "\n",
        "# drop first if index already exists\n",
        "Tair.drop_index(tair_url=tair_url)\n",
        "\n",
        "vector_store = Tair.from_documents(docs, embeddings, tair_url=tair_url)"
      ]
    },
    {
      "cell_type": "markdown",
      "metadata": {},
      "source": [
        "查询相似文档。"
      ]
    },
    {
      "cell_type": "code",
      "execution_count": null,
      "metadata": {},
      "outputs": [],
      "source": [
        "query = \"What did the president say about Ketanji Brown Jackson\"\n",
        "docs = vector_store.similarity_search(query)\n",
        "docs[0]"
      ]
    },
    {
      "cell_type": "markdown",
      "metadata": {},
      "source": [
        "Tair Hybrid Search 索引构建"
      ]
    },
    {
      "cell_type": "code",
      "execution_count": null,
      "metadata": {},
      "outputs": [],
      "source": [
        "# drop first if index already exists\n",
        "Tair.drop_index(tair_url=tair_url)\n",
        "\n",
        "vector_store = Tair.from_documents(\n",
        "    docs, embeddings, tair_url=tair_url, index_params={\"lexical_algorithm\": \"bm25\"}\n",
        ")"
      ]
    },
    {
      "cell_type": "markdown",
      "metadata": {},
      "source": [
        "Tair 混合搜索"
      ]
    },
    {
      "cell_type": "code",
      "execution_count": null,
      "metadata": {},
      "outputs": [],
      "source": [
        "query = \"What did the president say about Ketanji Brown Jackson\"\n",
        "# hybrid_ratio: 0.5 hybrid search, 0.9999 vector search, 0.0001 text search\n",
        "kwargs = {\"TEXT\": query, \"hybrid_ratio\": 0.5}\n",
        "docs = vector_store.similarity_search(query, **kwargs)\n",
        "docs[0]"
      ]
    }
  ],
  "metadata": {
    "kernelspec": {
      "display_name": "Python 3 (ipykernel)",
      "language": "python",
      "name": "python3"
    },
    "language_info": {
      "codemirror_mode": {
        "name": "ipython",
        "version": 3
      },
      "file_extension": ".py",
      "mimetype": "text/x-python",
      "name": "python",
      "nbconvert_exporter": "python",
      "pygments_lexer": "ipython3",
      "version": "3.10.8"
    }
  },
  "nbformat": 4,
  "nbformat_minor": 4
}