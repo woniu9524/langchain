{
  "cells": [
    {
      "cell_type": "markdown",
      "id": "683953b3",
      "metadata": {},
      "source": [
        "# Faiss\n\n>[Facebook AI Similarity Search (FAISS)](https://engineering.fb.com/2017/03/29/data-infrastructure/faiss-a-library-for-efficient-similarity-search/) 是一个用于高效相似性搜索和密集向量聚类的库。它包含在任何大小的向量集中进行搜索的算法，甚至可以处理可能不适合放入内存的向量。它还包括用于评估和参数调整的支持代码。\n>\n>请参阅 [FAISS 库](https://arxiv.org/pdf/2401.08281) 论文。\n\n您可以在[此页面](https://faiss.ai/)上找到 FAISS 文档。\n\n本笔记本展示了如何使用与 `FAISS` 向量数据库相关的功​​能。它将展示此集成特有的功​​能。在学习之后，可以浏览[相关用例页面](/docs/how_to#qa-with-rag)以了解如何将此向量存储作为更大链的一部分来使用。"
      ]
    },
    {
      "cell_type": "markdown",
      "id": "601ac1d5-48a2-4e41-bf51-f1d5fdd5639d",
      "metadata": {
        "tags": []
      },
      "source": [
        "## 设置\n\n集成位于 `langchain-community` 包中。我们还需要安装 `faiss` 包本身。我们可以通过以下命令安装它们：\n\n请注意，如果您想使用支持 GPU 的版本，也可以安装 `faiss-gpu`"
      ]
    },
    {
      "cell_type": "code",
      "execution_count": null,
      "id": "08165d56",
      "metadata": {},
      "outputs": [],
      "source": [
        "pip install -qU langchain-community faiss-cpu"
      ]
    },
    {
      "cell_type": "markdown",
      "id": "408be78f-7b0e-44d4-8d48-56a6cb9b3fb9",
      "metadata": {},
      "source": [
        "如果您想获得一流的自动化模型调用跟踪，还可以通过取消注释以下内容来设置您的 [LangSmith](https://docs.smith.langchain.com/) API 密钥："
      ]
    },
    {
      "cell_type": "code",
      "execution_count": null,
      "id": "951c82cb-40bf-46ac-9f3f-d2fca7d204b8",
      "metadata": {},
      "outputs": [],
      "source": [
        "# os.environ[\"LANGSMITH_TRACING\"] = \"true\"\n",
        "# os.environ[\"LANGSMITH_API_KEY\"] = getpass.getpass()"
      ]
    },
    {
      "cell_type": "markdown",
      "id": "78dde98a-584f-4f2a-98d5-e776fd9558fa",
      "metadata": {},
      "source": [
        "## 初始化\n\nimport EmbeddingTabs from \"@theme/EmbeddingTabs\";\n\n<EmbeddingTabs/>"
      ]
    },
    {
      "cell_type": "code",
      "execution_count": 1,
      "id": "5b394da3",
      "metadata": {},
      "outputs": [],
      "source": [
        "# | output: false\n",
        "# | echo: false\n",
        "from langchain_openai import OpenAIEmbeddings\n",
        "\n",
        "embeddings = OpenAIEmbeddings(model=\"text-embedding-3-large\")"
      ]
    },
    {
      "cell_type": "code",
      "execution_count": 2,
      "id": "dc37144c-208d-4ab3-9f3a-0407a69fe052",
      "metadata": {
        "tags": []
      },
      "outputs": [],
      "source": [
        "import faiss\n",
        "from langchain_community.docstore.in_memory import InMemoryDocstore\n",
        "from langchain_community.vectorstores import FAISS\n",
        "\n",
        "index = faiss.IndexFlatL2(len(embeddings.embed_query(\"hello world\")))\n",
        "\n",
        "vector_store = FAISS(\n",
        "    embedding_function=embeddings,\n",
        "    index=index,\n",
        "    docstore=InMemoryDocstore(),\n",
        "    index_to_docstore_id={},\n",
        ")"
      ]
    },
    {
      "cell_type": "markdown",
      "id": "d8761614",
      "metadata": {},
      "source": [
        "## 管理向量存储\n\n### 向向量存储添加项目"
      ]
    },
    {
      "cell_type": "code",
      "execution_count": 3,
      "id": "3867e154",
      "metadata": {},
      "outputs": [
        {
          "data": {
            "text/plain": [
              "['22f5ce99-cd6f-4e0c-8dab-664128307c72',\n",
              " 'dc3f061b-5f88-4fa1-a966-413550c51891',\n",
              " 'd33d890b-baad-47f7-b7c1-175f5f7b4e59',\n",
              " '6e6c01d2-6020-4a7b-95da-ef43d43f01b5',\n",
              " 'e677223d-ad75-4c1a-bef6-b5912bd1de03',\n",
              " '47e2a168-6462-4ed2-b1d9-d9edfd7391d6',\n",
              " '1e4d66d6-e155-4891-9212-f7be97f36c6a',\n",
              " 'c0663096-e1a5-4665-b245-1c2e6c4fb653',\n",
              " '8297474a-7f7c-4006-9865-398c1781b1bc',\n",
              " '44e4be03-0a8d-4316-b3c4-f35f4bb2b532']"
            ]
          },
          "execution_count": 3,
          "metadata": {},
          "output_type": "execute_result"
        }
      ],
      "source": [
        "from uuid import uuid4\n",
        "\n",
        "from langchain_core.documents import Document\n",
        "\n",
        "document_1 = Document(\n",
        "    page_content=\"I had chocolate chip pancakes and scrambled eggs for breakfast this morning.\",\n",
        "    metadata={\"source\": \"tweet\"},\n",
        ")\n",
        "\n",
        "document_2 = Document(\n",
        "    page_content=\"The weather forecast for tomorrow is cloudy and overcast, with a high of 62 degrees.\",\n",
        "    metadata={\"source\": \"news\"},\n",
        ")\n",
        "\n",
        "document_3 = Document(\n",
        "    page_content=\"Building an exciting new project with LangChain - come check it out!\",\n",
        "    metadata={\"source\": \"tweet\"},\n",
        ")\n",
        "\n",
        "document_4 = Document(\n",
        "    page_content=\"Robbers broke into the city bank and stole $1 million in cash.\",\n",
        "    metadata={\"source\": \"news\"},\n",
        ")\n",
        "\n",
        "document_5 = Document(\n",
        "    page_content=\"Wow! That was an amazing movie. I can't wait to see it again.\",\n",
        "    metadata={\"source\": \"tweet\"},\n",
        ")\n",
        "\n",
        "document_6 = Document(\n",
        "    page_content=\"Is the new iPhone worth the price? Read this review to find out.\",\n",
        "    metadata={\"source\": \"website\"},\n",
        ")\n",
        "\n",
        "document_7 = Document(\n",
        "    page_content=\"The top 10 soccer players in the world right now.\",\n",
        "    metadata={\"source\": \"website\"},\n",
        ")\n",
        "\n",
        "document_8 = Document(\n",
        "    page_content=\"LangGraph is the best framework for building stateful, agentic applications!\",\n",
        "    metadata={\"source\": \"tweet\"},\n",
        ")\n",
        "\n",
        "document_9 = Document(\n",
        "    page_content=\"The stock market is down 500 points today due to fears of a recession.\",\n",
        "    metadata={\"source\": \"news\"},\n",
        ")\n",
        "\n",
        "document_10 = Document(\n",
        "    page_content=\"I have a bad feeling I am going to get deleted :(\",\n",
        "    metadata={\"source\": \"tweet\"},\n",
        ")\n",
        "\n",
        "documents = [\n",
        "    document_1,\n",
        "    document_2,\n",
        "    document_3,\n",
        "    document_4,\n",
        "    document_5,\n",
        "    document_6,\n",
        "    document_7,\n",
        "    document_8,\n",
        "    document_9,\n",
        "    document_10,\n",
        "]\n",
        "uuids = [str(uuid4()) for _ in range(len(documents))]\n",
        "\n",
        "vector_store.add_documents(documents=documents, ids=uuids)"
      ]
    },
    {
      "cell_type": "markdown",
      "id": "a410a2dc",
      "metadata": {},
      "source": [
        "### 从矢量存储中删除项目"
      ]
    },
    {
      "cell_type": "code",
      "execution_count": 4,
      "id": "c3db04bd",
      "metadata": {},
      "outputs": [
        {
          "data": {
            "text/plain": [
              "True"
            ]
          },
          "execution_count": 4,
          "metadata": {},
          "output_type": "execute_result"
        }
      ],
      "source": [
        "vector_store.delete(ids=[uuids[-1]])"
      ]
    },
    {
      "cell_type": "markdown",
      "id": "77de24ff",
      "metadata": {},
      "source": [
        "## 查询向量数据库\n\n一旦你创建了向量数据库并添加了相关文档，你很可能希望在运行链或代理时查询它。\n\n### 直接查询\n\n#### 相似性搜索\n\n可以通过以下方式进行带有元数据过滤的简单相似性搜索："
      ]
    },
    {
      "cell_type": "code",
      "execution_count": 5,
      "id": "53d95d3f",
      "metadata": {},
      "outputs": [
        {
          "name": "stdout",
          "output_type": "stream",
          "text": [
            "* Building an exciting new project with LangChain - come check it out! [{'source': 'tweet'}]\n",
            "* LangGraph is the best framework for building stateful, agentic applications! [{'source': 'tweet'}]\n"
          ]
        }
      ],
      "source": [
        "results = vector_store.similarity_search(\n",
        "    \"LangChain provides abstractions to make working with LLMs easy\",\n",
        "    k=2,\n",
        "    filter={\"source\": \"tweet\"},\n",
        ")\n",
        "for res in results:\n",
        "    print(f\"* {res.page_content} [{res.metadata}]\")"
      ]
    },
    {
      "cell_type": "markdown",
      "id": "39cb1496",
      "metadata": {},
      "source": [
        "可以使用一些 [MongoDB 查询和投影运算符](https://www.mongodb.com/docs/manual/reference/operator/query/) 来进行更高级的元数据过滤。当前支持的运算符列表如下：\n- `$eq` (等于)\n- `$neq` (不等于)\n- `$gt` (大于)\n- `$lt` (小于)\n- `$gte` (大于或等于)\n- `$lte` (小于或等于)\n- `$in` (在列表中)\n- `$nin` (不在列表中)\n- `$and` (所有条件必须匹配)\n- `$or` (任何条件必须匹配)\n- `$not` (条件取反)\n\n使用以下方法可以执行上面相同的带高级元数据过滤的相似性搜索："
      ]
    },
    {
      "cell_type": "code",
      "execution_count": null,
      "id": "1b3dd99d",
      "metadata": {},
      "outputs": [
        {
          "name": "stdout",
          "output_type": "stream",
          "text": [
            "* Building an exciting new project with LangChain - come check it out! [{'source': 'tweet'}]\n",
            "* LangGraph is the best framework for building stateful, agentic applications! [{'source': 'tweet'}]\n"
          ]
        }
      ],
      "source": [
        "results = vector_store.similarity_search(\n",
        "    \"LangChain provides abstractions to make working with LLMs easy\",\n",
        "    k=2,\n",
        "    filter={\"source\": {\"$eq\": \"tweet\"}},\n",
        ")\n",
        "for res in results:\n",
        "    print(f\"* {res.page_content} [{res.metadata}]\")"
      ]
    },
    {
      "cell_type": "markdown",
      "id": "5ae35069",
      "metadata": {},
      "source": [
        "#### 含分数的相似性搜索\n\n您也可以使用分数进行搜索："
      ]
    },
    {
      "cell_type": "code",
      "execution_count": 6,
      "id": "a9078ce9",
      "metadata": {},
      "outputs": [
        {
          "name": "stdout",
          "output_type": "stream",
          "text": [
            "* [SIM=0.893688] The weather forecast for tomorrow is cloudy and overcast, with a high of 62 degrees. [{'source': 'news'}]\n"
          ]
        }
      ],
      "source": [
        "results = vector_store.similarity_search_with_score(\n",
        "    \"Will it be hot tomorrow?\", k=1, filter={\"source\": \"news\"}\n",
        ")\n",
        "for res, score in results:\n",
        "    print(f\"* [SIM={score:3f}] {res.page_content} [{res.metadata}]\")"
      ]
    },
    {
      "cell_type": "markdown",
      "id": "e9091b1f",
      "metadata": {},
      "source": [
        "#### 其他搜索方法\n\n您还可以通过多种其他方式搜索 FAISS 向量存储。有关这些方法的完整列表，请参阅 [API 参考](https://python.langchain.com/api_reference/community/vectorstores/langchain_community.vectorstores.faiss.FAISS.html)。\n\n### 通过转换为检索器进行查询\n\n您还可以将向量存储转换为检索器，以便在链中更轻松地使用。"
      ]
    },
    {
      "cell_type": "code",
      "execution_count": 7,
      "id": "10da64fa",
      "metadata": {},
      "outputs": [
        {
          "data": {
            "text/plain": [
              "[Document(metadata={'source': 'news'}, page_content='Robbers broke into the city bank and stole $1 million in cash.')]"
            ]
          },
          "execution_count": 7,
          "metadata": {},
          "output_type": "execute_result"
        }
      ],
      "source": [
        "retriever = vector_store.as_retriever(search_type=\"mmr\", search_kwargs={\"k\": 1})\n",
        "retriever.invoke(\"Stealing from the bank is a crime\", filter={\"source\": \"news\"})"
      ]
    },
    {
      "cell_type": "markdown",
      "id": "5edd1909",
      "metadata": {},
      "source": [
        "## 用于检索增强生成的使用方法\n\n有关如何将此向量存储用于检索增强生成 (RAG) 的指南，请参阅以下部分：\n\n- [教程](/docs/tutorials/)\n- [操作指南：使用 RAG 进行问答](https://python.langchain.com/docs/how_to/#qa-with-rag)\n- [检索概念文档](https://python.langchain.com/docs/concepts/retrieval)"
      ]
    },
    {
      "cell_type": "markdown",
      "id": "31bda7fd",
      "metadata": {},
      "source": [
        "## 保存与加载\n您还可以保存和加载 FAISS 索引。这非常有用，因为您不必每次使用它时都重新创建它。"
      ]
    },
    {
      "cell_type": "code",
      "execution_count": 11,
      "id": "1b31fe27-e0b3-42c6-b17c-8270b517ee1f",
      "metadata": {},
      "outputs": [],
      "source": [
        "vector_store.save_local(\"faiss_index\")\n",
        "\n",
        "new_vector_store = FAISS.load_local(\n",
        "    \"faiss_index\", embeddings, allow_dangerous_deserialization=True\n",
        ")\n",
        "\n",
        "docs = new_vector_store.similarity_search(\"qux\")"
      ]
    },
    {
      "cell_type": "code",
      "execution_count": 12,
      "id": "98378c4e",
      "metadata": {},
      "outputs": [
        {
          "data": {
            "text/plain": [
              "Document(metadata={'source': 'tweet'}, page_content='Building an exciting new project with LangChain - come check it out!')"
            ]
          },
          "execution_count": 12,
          "metadata": {},
          "output_type": "execute_result"
        }
      ],
      "source": [
        "docs[0]"
      ]
    },
    {
      "cell_type": "markdown",
      "id": "57da60d4",
      "metadata": {},
      "source": [
        "## 合并\n你也可以合并两个 FAISS 向量存储"
      ]
    },
    {
      "cell_type": "code",
      "execution_count": 13,
      "id": "9b8f5e31-3f40-4e94-8d97-5883125efba7",
      "metadata": {},
      "outputs": [
        {
          "data": {
            "text/plain": [
              "{'b752e805-350e-4cf5-ba54-0883d46a3a44': Document(page_content='foo')}"
            ]
          },
          "execution_count": 13,
          "metadata": {},
          "output_type": "execute_result"
        }
      ],
      "source": [
        "db1 = FAISS.from_texts([\"foo\"], embeddings)\n",
        "db2 = FAISS.from_texts([\"bar\"], embeddings)\n",
        "\n",
        "db1.docstore._dict"
      ]
    },
    {
      "cell_type": "code",
      "execution_count": 14,
      "id": "83392605",
      "metadata": {},
      "outputs": [
        {
          "data": {
            "text/plain": [
              "{'08192d92-746d-4cd1-b681-bdfba411f459': Document(page_content='bar')}"
            ]
          },
          "execution_count": 14,
          "metadata": {},
          "output_type": "execute_result"
        }
      ],
      "source": [
        "db2.docstore._dict"
      ]
    },
    {
      "cell_type": "code",
      "execution_count": 15,
      "id": "a3fcc1c7",
      "metadata": {},
      "outputs": [],
      "source": [
        "db1.merge_from(db2)"
      ]
    },
    {
      "cell_type": "code",
      "execution_count": 16,
      "id": "41c51f89",
      "metadata": {},
      "outputs": [
        {
          "data": {
            "text/plain": [
              "{'b752e805-350e-4cf5-ba54-0883d46a3a44': Document(page_content='foo'),\n",
              " '08192d92-746d-4cd1-b681-bdfba411f459': Document(page_content='bar')}"
            ]
          },
          "execution_count": 16,
          "metadata": {},
          "output_type": "execute_result"
        }
      ],
      "source": [
        "db1.docstore._dict"
      ]
    },
    {
      "cell_type": "markdown",
      "id": "65654d80",
      "metadata": {},
      "source": [
        "## API 参考\n\n如需了解 `FAISS` 向量存储的所有功能和配置的详细文档，请访问 API 参考：https://python.langchain.com/api_reference/community/vectorstores/langchain_community.vectorstores.faiss.FAISS.html"
      ]
    }
  ],
  "metadata": {
    "kernelspec": {
      "display_name": "Python 3 (ipykernel)",
      "language": "python",
      "name": "python3"
    },
    "language_info": {
      "codemirror_mode": {
        "name": "ipython",
        "version": 3
      },
      "file_extension": ".py",
      "mimetype": "text/x-python",
      "name": "python",
      "nbconvert_exporter": "python",
      "pygments_lexer": "ipython3",
      "version": "3.10.12"
    }
  },
  "nbformat": 4,
  "nbformat_minor": 5
}