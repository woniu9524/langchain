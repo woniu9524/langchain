{
  "cells": [
    {
      "cell_type": "raw",
      "id": "1957f5cb",
      "metadata": {},
      "source": [
        "---\n",
        "sidebar_label: openGauss\n",
        "---"
      ]
    },
    {
      "cell_type": "markdown",
      "id": "ef1f0986",
      "metadata": {},
      "source": [
        "# openGauss VectorStore\n\n本 Notebook 将介绍 openGauss VectorStore 的入门方法。[openGauss](https://opengauss.org/en/) 是一个高性能的关系型数据库，具备原生的向量存储和检索能力。此次集成使得 LangChain 应用程序内的向量操作符合 ACID 标准，将传统的 SQL 功能与现代的 AI 驱动的相似性搜索相结合。\n vector store。"
      ]
    },
    {
      "cell_type": "markdown",
      "id": "36fdc060",
      "metadata": {},
      "source": [
        "## 设置\n\n### 启动 openGauss 容器"
      ]
    },
    {
      "metadata": {},
      "cell_type": "markdown",
      "source": [
        "```bash\ndocker run --name opengauss \\\n  -d \\\n  -e GS_PASSWORD='MyStrongPass@123' \\\n  -p 8888:5432 \\\n  opengauss/opengauss-server:latest\n```"
      ],
      "id": "e006fdc593107ef5"
    },
    {
      "cell_type": "markdown",
      "id": "a51b3f07b83b8a1d",
      "metadata": {},
      "source": "### 安装 langchain-opengauss"
    },
    {
      "cell_type": "raw",
      "id": "ad030f666e228cc8",
      "metadata": {},
      "source": [
        "```bash\n",
        "pip install langchain-opengauss\n",
        "```"
      ]
    },
    {
      "cell_type": "markdown",
      "id": "4d14f2f5f8ab0df7",
      "metadata": {},
      "source": [
        "**系统要求**:\n- openGauss ≥ 7.0.0\n- Python ≥ 3.8\n- psycopg2-binary"
      ]
    },
    {
      "cell_type": "markdown",
      "id": "9695dee7",
      "metadata": {},
      "source": [
        "### 凭据\n\n使用你的 openGauss 凭据"
      ]
    },
    {
      "cell_type": "markdown",
      "id": "93df377e",
      "metadata": {},
      "source": [
        "## 初始化\n\nimport EmbeddingTabs from \"@theme/EmbeddingTabs\";\n\n<EmbeddingTabs/>"
      ]
    },
    {
      "cell_type": "code",
      "execution_count": null,
      "id": "dc37144c-208d-4ab3-9f3a-0407a69fe052",
      "metadata": {
        "tags": []
      },
      "outputs": [],
      "source": [
        "from langchain_opengauss import OpenGauss, OpenGaussSettings\n",
        "\n",
        "# Configure with schema validation\n",
        "config = OpenGaussSettings(\n",
        "    table_name=\"test_langchain\",\n",
        "    embedding_dimension=384,\n",
        "    index_type=\"HNSW\",\n",
        "    distance_strategy=\"COSINE\",\n",
        ")\n",
        "vector_store = OpenGauss(embedding=embeddings, config=config)"
      ]
    },
    {
      "cell_type": "markdown",
      "id": "ac6071d4",
      "metadata": {},
      "source": [
        "## 管理向量存储\n\n### 向向量存储添加条目"
      ]
    },
    {
      "cell_type": "code",
      "execution_count": null,
      "id": "17f5efc0",
      "metadata": {},
      "outputs": [],
      "source": [
        "from langchain_core.documents import Document\n",
        "\n",
        "document_1 = Document(page_content=\"foo\", metadata={\"source\": \"https://example.com\"})\n",
        "\n",
        "document_2 = Document(page_content=\"bar\", metadata={\"source\": \"https://example.com\"})\n",
        "\n",
        "document_3 = Document(page_content=\"baz\", metadata={\"source\": \"https://example.com\"})\n",
        "\n",
        "documents = [document_1, document_2, document_3]\n",
        "\n",
        "vector_store.add_documents(documents=documents, ids=[\"1\", \"2\", \"3\"])"
      ]
    },
    {
      "cell_type": "markdown",
      "id": "c738c3e0",
      "metadata": {},
      "source": "### 更新向量存储中的条目"
    },
    {
      "cell_type": "code",
      "execution_count": null,
      "id": "f0aa8b71",
      "metadata": {},
      "outputs": [],
      "source": [
        "updated_document = Document(\n",
        "    page_content=\"qux\", metadata={\"source\": \"https://another-example.com\"}\n",
        ")\n",
        "\n",
        "# If the id is already exist, will update the document\n",
        "vector_store.add_documents(document_id=\"1\", document=updated_document)"
      ]
    },
    {
      "cell_type": "markdown",
      "id": "dcf1b905",
      "metadata": {},
      "source": "### 从向量存储中删除项目"
    },
    {
      "cell_type": "code",
      "execution_count": null,
      "id": "ef61e188",
      "metadata": {},
      "outputs": [],
      "source": [
        "vector_store.delete(ids=[\"3\"])"
      ]
    },
    {
      "cell_type": "markdown",
      "id": "c3620501",
      "metadata": {},
      "source": [
        "## 查询向量存储\n\n创建向量存储并添加相关文档后，你最有可能希望在链或代理运行时查询它。\n\n### 直接查询\n\n执行简单的相似性搜索可以这样做：\n\n- TODO: 编辑并运行代码单元以生成输出"
      ]
    },
    {
      "cell_type": "code",
      "execution_count": null,
      "id": "aa0a16fa",
      "metadata": {},
      "outputs": [],
      "source": [
        "results = vector_store.similarity_search(\n",
        "    query=\"thud\", k=1, filter={\"source\": \"https://another-example.com\"}\n",
        ")\n",
        "for doc in results:\n",
        "    print(f\"* {doc.page_content} [{doc.metadata}]\")"
      ]
    },
    {
      "cell_type": "markdown",
      "id": "3ed9d733",
      "metadata": {},
      "source": "如果你想执行相似性搜索并获得相应的得分，可以运行："
    },
    {
      "cell_type": "code",
      "execution_count": null,
      "id": "5efd2eaa",
      "metadata": {},
      "outputs": [],
      "source": [
        "results = vector_store.similarity_search_with_score(\n",
        "    query=\"thud\", k=1, filter={\"source\": \"https://example.com\"}\n",
        ")\n",
        "for doc, score in results:\n",
        "    print(f\"* [SIM={score:3f}] {doc.page_content} [{doc.metadata}]\")"
      ]
    },
    {
      "cell_type": "markdown",
      "id": "0c235cdc",
      "metadata": {},
      "source": [
        "### 通过转换向量存储为检索器\n\n你也可以将向量存储转换为检索器，以便在你的链中使用。\n\n- TODO: 编辑后运行代码单元以生成输出"
      ]
    },
    {
      "cell_type": "code",
      "execution_count": null,
      "id": "f3460093",
      "metadata": {},
      "outputs": [],
      "source": [
        "retriever = vector_store.as_retriever(search_type=\"mmr\", search_kwargs={\"k\": 1})\n",
        "retriever.invoke(\"thud\")"
      ]
    },
    {
      "cell_type": "markdown",
      "id": "901c75dc",
      "metadata": {},
      "source": [
        "## 用于检索增强生成的使用方法\n\n有关如何将此向量存储用于检索增强生成 (RAG) 的指南，请参阅以下章节：\n\n- [教程](/docs/tutorials/)\n- [操作方法：使用 RAG 进行问答](https://python.langchain.com/docs/how_to/#qa-with-rag)\n- [检索概念文档](https://python.langchain.com/docs/concepts/retrieval/)"
      ]
    },
    {
      "cell_type": "markdown",
      "id": "069f1b5f",
      "metadata": {},
      "source": [
        "## 配置\n\n### 连接设置\n| 参数           | 默认值                 | 描述                                                                                                                                                                                                                                                                                          |\n|-----------------|-------------------------|---------------------------------------------------------------------------------------------------------------------------------------------------------------------------------------------------------------------------------------------------------------------------------------------------------------|\n| `host`          | localhost               | 数据库服务器地址                                                                                                                                                                                                                                                                                              |\n| `port`          | 8888                    | 数据库连接端口                                                                                                                                                                                                                                                                                                |\n| `user`          | gaussdb                 | 数据库用户名                                                                                                                                                                                                                                                                                                  |\n| `password`      | -                       | 复杂密码字符串                                                                                                                                                                                                                                                                                              |\n| `database`      | postgres                | 默认数据库名称                                                                                                                                                                                                                                                                                                |\n| `min_connections` | 1                       | 连接池最小大小                                                                                                                                                                                                                                                                                                |\n| `max_connections` | 5                       | 连接池最大大小                                                                                                                                                                                                                                                                                                |\n| `table_name`    | langchain_docs          | 用于存储向量数据和元数据的表名                                                                                                                                                                                                                                                                                |\n| `index_type`    | IndexType.HNSW          | 向量索引算法类型。选项：HNSW 或 IVFFLAT\\n默认值为 HNSW。                                                                                                                                                                                                                                                        |\n| `vector_type`   | VectorType.vector       | 要使用的向量表示类型。默认值为 Vector。                                                                                                                                                                                                                                                                       |\n| `distance_strategy` | DistanceStrategy.COSINE | 用于检索的向量相似性度量。选项：euclidean（L2 距离）、cosine（角度距离，对文本嵌入效果最佳）、manhattan（L1 距离，适用于稀疏数据）、negative_inner_product（归一化向量的点积）。\\n默认值为 cosine。                                                                                                                                                                                     |\n|`embedding_dimension`| 1536                    | 向量嵌入的维度。                                                                                                                                                                                                                                                                                              |\n\n### 支持的组合\n\n| 向量类型 | 维度     | 索引类型  | 支持的距离策略                               |\n|---------|----------|----------|--------------------------------------------|\n| vector  | ≤2000    | HNSW/IVFFLAT | COSINE/EUCLIDEAN/MANHATTAN/INNER_PROD        |"
      ]
    },
    {
      "cell_type": "markdown",
      "id": "6a7b7b7c4f5a03e1",
      "metadata": {},
      "source": [
        "## 性能优化\n\n### 索引调优指南\n**HNSW 参数**:\n- `m`: 16-100 (召回率和内存的平衡)\n- `ef_construction`: 64-1000 (必须大于 2*m)\n\n**IVFFLAT 建议**:\n```python\nimport math\n\nlists = min(\n    int(math.sqrt(total_rows)) if total_rows > 1e6 else int(total_rows / 1000),\n    2000,  # openGauss maximum\n)\n```\n\n### 连接池\n```python\nOpenGaussSettings(min_connections=3, max_connections=20)\n```"
      ]
    },
    {
      "cell_type": "markdown",
      "id": "6b581b499ffed641",
      "metadata": {},
      "source": [
        "## 限制\n- `bit` 和 `sparsevec` 向量类型目前正在开发中\n- 最大向量维度：`vector` 类型为 2000"
      ]
    },
    {
      "cell_type": "markdown",
      "id": "8a27244f",
      "metadata": {},
      "source": [
        "## API 参考\n\n有关 __ModuleName__VectorStore 所有功能和配置的详细文档，请访问 API 参考：https://python.langchain.com/api_reference/en/latest/vectorstores/opengauss.OpenGuass.html"
      ]
    }
  ],
  "metadata": {
    "kernelspec": {
      "display_name": "Python 3 (ipykernel)",
      "language": "python",
      "name": "python3"
    },
    "language_info": {
      "codemirror_mode": {
        "name": "ipython",
        "version": 3
      },
      "file_extension": ".py",
      "mimetype": "text/x-python",
      "name": "python",
      "nbconvert_exporter": "python",
      "pygments_lexer": "ipython3",
      "version": "3.10.12"
    }
  },
  "nbformat": 4,
  "nbformat_minor": 5
}