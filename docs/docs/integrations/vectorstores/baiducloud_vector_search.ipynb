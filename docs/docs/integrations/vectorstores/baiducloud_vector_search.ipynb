{
  "cells": [
    {
      "attachments": {},
      "cell_type": "markdown",
      "metadata": {},
      "source": [
        "# 百度云 Elasticsearch VectorSearch\n\n>[百度云 VectorSearch](https://cloud.baidu.com/doc/BES/index.html?from=productToDoc) 是一项完全托管的企业级分布式搜索和分析服务，与开源版本 100% 兼容。百度云 VectorSearch 为结构化/非结构化数据提供低成本、高性能、高可靠性的检索和分析平台级产品服务。作为一款向量数据库，它支持多种索引类型和相似度距离方法。\n\n>`百度云 Elasticsearch` 提供权限管理机制，您可以自由配置集群权限，进一步确保数据安全。\n\n本 Notebook 展示了如何使用与 `Baidu Cloud ElasticSearch VectorStore` 相关的क्स्टra。要运行，您应该有一个正在运行的 [百度云 Elasticsearch](https://cloud.baidu.com/product/bes.html) 实例：\n\n请阅读[帮助文档](https://cloud.baidu.com/doc/BES/s/8llyn0hh4 )，以快速熟悉和配置百度云 Elasticsearch 实例。"
      ]
    },
    {
      "attachments": {},
      "cell_type": "markdown",
      "metadata": {},
      "source": [
        "实例启动和运行后，请按照以下步骤拆分文档、获取嵌入、连接到百度云 Elasticsearch 实例、索引文档以及执行向量检索。"
      ]
    },
    {
      "attachments": {},
      "cell_type": "markdown",
      "metadata": {},
      "source": [
        "我们首先需要安装以下 Python 包。"
      ]
    },
    {
      "cell_type": "code",
      "execution_count": null,
      "metadata": {},
      "outputs": [],
      "source": [
        "%pip install --upgrade --quiet langchain-community elasticsearch == 7.11.0"
      ]
    },
    {
      "attachments": {},
      "cell_type": "markdown",
      "metadata": {},
      "source": [
        "首先，我们要使用`QianfanEmbeddings`，因此需要获取Qianfan的AK和SK。关于QianFan的详细信息，请参考[Baidu Qianfan Workshop](https://cloud.baidu.com/product/wenxinworkshop)。"
      ]
    },
    {
      "cell_type": "code",
      "execution_count": null,
      "metadata": {},
      "outputs": [],
      "source": [
        "import getpass\n",
        "import os\n",
        "\n",
        "if \"QIANFAN_AK\" not in os.environ:\n",
        "    os.environ[\"QIANFAN_AK\"] = getpass.getpass(\"Your Qianfan AK:\")\n",
        "if \"QIANFAN_SK\" not in os.environ:\n",
        "    os.environ[\"QIANFAN_SK\"] = getpass.getpass(\"Your Qianfan SK:\")"
      ]
    },
    {
      "attachments": {},
      "cell_type": "markdown",
      "metadata": {},
      "source": [
        "其次，拆分文档并获取 embeddings。"
      ]
    },
    {
      "cell_type": "code",
      "execution_count": null,
      "metadata": {},
      "outputs": [],
      "source": [
        "from langchain_community.document_loaders import TextLoader\n",
        "from langchain_text_splitters import CharacterTextSplitter\n",
        "\n",
        "loader = TextLoader(\"../../../state_of_the_union.txt\")\n",
        "documents = loader.load()\n",
        "text_splitter = CharacterTextSplitter(chunk_size=1000, chunk_overlap=0)\n",
        "docs = text_splitter.split_documents(documents)\n",
        "\n",
        "from langchain_community.embeddings import QianfanEmbeddingsEndpoint\n",
        "\n",
        "embeddings = QianfanEmbeddingsEndpoint()"
      ]
    },
    {
      "attachments": {},
      "cell_type": "markdown",
      "metadata": {},
      "source": [
        "然后，创建一个百度 Elasticsearch 可访问的实例。"
      ]
    },
    {
      "cell_type": "code",
      "execution_count": null,
      "metadata": {},
      "outputs": [],
      "source": [
        "# Create a bes instance and index docs.\n",
        "from langchain_community.vectorstores import BESVectorStore\n",
        "\n",
        "bes = BESVectorStore.from_documents(\n",
        "    documents=docs,\n",
        "    embedding=embeddings,\n",
        "    bes_url=\"your bes cluster url\",\n",
        "    index_name=\"your vector index\",\n",
        ")\n",
        "bes.client.indices.refresh(index=\"your vector index\")"
      ]
    },
    {
      "attachments": {},
      "cell_type": "markdown",
      "metadata": {},
      "source": [
        "最后，查询和检索数据"
      ]
    },
    {
      "cell_type": "code",
      "execution_count": null,
      "metadata": {},
      "outputs": [],
      "source": [
        "query = \"What did the president say about Ketanji Brown Jackson\"\n",
        "docs = bes.similarity_search(query)\n",
        "print(docs[0].page_content)"
      ]
    },
    {
      "attachments": {},
      "cell_type": "markdown",
      "metadata": {},
      "source": [
        "如果您在使用过程中遇到任何问题，请随时联系 liuboyao@baidu.com 或 chenweixu01@baidu.com，我们将竭诚为您提供支持。"
      ]
    }
  ],
  "metadata": {
    "kernelspec": {
      "display_name": "Python 3 (ipykernel)",
      "language": "python",
      "name": "python3"
    },
    "language_info": {
      "codemirror_mode": {
        "name": "ipython",
        "version": 3
      },
      "file_extension": ".py",
      "mimetype": "text/x-python",
      "name": "python",
      "nbconvert_exporter": "python",
      "pygments_lexer": "ipython3",
      "version": "3.10.12"
    },
    "vscode": {
      "interpreter": {
        "hash": "aee8b7b246df8f9039afb4144a1f6fd8d2ca17a180786b69acc140d282b71a49"
      }
    }
  },
  "nbformat": 4,
  "nbformat_minor": 4
}