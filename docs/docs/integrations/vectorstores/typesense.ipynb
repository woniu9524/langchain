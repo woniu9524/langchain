{
  "cells": [
    {
      "cell_type": "markdown",
      "metadata": {},
      "source": [
        "# Typesense\n\n> [Typesense](https://typesense.org) 是一个开源、内存中的搜索引擎，你可以选择 [自行托管](https://typesense.org/docs/guide/install-typesense#option-2-local-machine-self-hosting) 或在 [Typesense Cloud](https://cloud.typesense.org/) 上运行。\n>\n> Typesense 通过将整个索引存储在 RAM 中（并在磁盘上备份）来专注于性能，同时通过简化可用选项和设置良好默认值来专注于提供开箱即用的开发体验。\n>\n> 它还允许你将基于属性的过滤与向量查询相结合，以获取最相关的文档。"
      ]
    },
    {
      "cell_type": "markdown",
      "metadata": {},
      "source": [
        "本笔记本将向您展示如何将 Typesense 用作您的 VectorStore。"
      ]
    },
    {
      "cell_type": "markdown",
      "metadata": {},
      "source": [
        "让我们先安装所需的依赖："
      ]
    },
    {
      "cell_type": "code",
      "execution_count": null,
      "metadata": {
        "collapsed": false,
        "jupyter": {
          "outputs_hidden": false
        }
      },
      "outputs": [],
      "source": [
        "%pip install --upgrade --quiet  typesense openapi-schema-pydantic langchain-openai langchain-community tiktoken"
      ]
    },
    {
      "cell_type": "markdown",
      "metadata": {},
      "source": [
        "我们想要使用 `OpenAIEmbeddings`，所以我们需要获取 OpenAI API 密钥。"
      ]
    },
    {
      "cell_type": "code",
      "execution_count": 2,
      "metadata": {
        "ExecuteTime": {
          "end_time": "2023-05-23T22:48:02.968822Z",
          "start_time": "2023-05-23T22:47:48.574094Z"
        },
        "collapsed": false,
        "jupyter": {
          "outputs_hidden": false
        }
      },
      "outputs": [],
      "source": [
        "import getpass\n",
        "import os\n",
        "\n",
        "if \"OPENAI_API_KEY\" not in os.environ:\n",
        "    os.environ[\"OPENAI_API_KEY\"] = getpass.getpass(\"OpenAI API Key:\")"
      ]
    },
    {
      "cell_type": "code",
      "execution_count": 6,
      "metadata": {
        "ExecuteTime": {
          "end_time": "2023-05-23T22:50:34.775893Z",
          "start_time": "2023-05-23T22:50:34.771889Z"
        },
        "collapsed": false,
        "jupyter": {
          "outputs_hidden": false
        }
      },
      "outputs": [],
      "source": [
        "from langchain_community.document_loaders import TextLoader\n",
        "from langchain_community.vectorstores import Typesense\n",
        "from langchain_openai import OpenAIEmbeddings\n",
        "from langchain_text_splitters import CharacterTextSplitter"
      ]
    },
    {
      "cell_type": "markdown",
      "metadata": {},
      "source": [
        "我们将导入我们的测试数据集："
      ]
    },
    {
      "cell_type": "code",
      "execution_count": 19,
      "metadata": {
        "ExecuteTime": {
          "end_time": "2023-05-23T22:56:19.093489Z",
          "start_time": "2023-05-23T22:56:19.089Z"
        },
        "collapsed": false,
        "jupyter": {
          "outputs_hidden": false
        }
      },
      "outputs": [],
      "source": [
        "loader = TextLoader(\"../../how_to/state_of_the_union.txt\")\n",
        "documents = loader.load()\n",
        "text_splitter = CharacterTextSplitter(chunk_size=1000, chunk_overlap=0)\n",
        "docs = text_splitter.split_documents(documents)\n",
        "\n",
        "embeddings = OpenAIEmbeddings()"
      ]
    },
    {
      "cell_type": "code",
      "execution_count": null,
      "metadata": {
        "collapsed": false,
        "jupyter": {
          "outputs_hidden": false
        }
      },
      "outputs": [],
      "source": [
        "docsearch = Typesense.from_documents(\n",
        "    docs,\n",
        "    embeddings,\n",
        "    typesense_client_params={\n",
        "        \"host\": \"localhost\",  # Use xxx.a1.typesense.net for Typesense Cloud\n",
        "        \"port\": \"8108\",  # Use 443 for Typesense Cloud\n",
        "        \"protocol\": \"http\",  # Use https for Typesense Cloud\n",
        "        \"typesense_api_key\": \"xyz\",\n",
        "        \"typesense_collection_name\": \"lang-chain\",\n",
        "    },\n",
        ")"
      ]
    },
    {
      "cell_type": "markdown",
      "metadata": {},
      "source": [
        "## 相似性搜索"
      ]
    },
    {
      "cell_type": "code",
      "execution_count": null,
      "metadata": {
        "collapsed": false,
        "jupyter": {
          "outputs_hidden": false
        }
      },
      "outputs": [],
      "source": [
        "query = \"What did the president say about Ketanji Brown Jackson\"\n",
        "found_docs = docsearch.similarity_search(query)"
      ]
    },
    {
      "cell_type": "code",
      "execution_count": null,
      "metadata": {
        "collapsed": false,
        "jupyter": {
          "outputs_hidden": false
        }
      },
      "outputs": [],
      "source": [
        "print(found_docs[0].page_content)"
      ]
    },
    {
      "cell_type": "markdown",
      "metadata": {},
      "source": [
        "## Typesense 作为检索器\n\nTypesense 和所有其他的向量数据库一样，是 LangChain 的一个检索器，使用余弦相似度进行检索。"
      ]
    },
    {
      "cell_type": "code",
      "execution_count": null,
      "metadata": {
        "collapsed": false,
        "jupyter": {
          "outputs_hidden": false
        }
      },
      "outputs": [],
      "source": [
        "retriever = docsearch.as_retriever()\n",
        "retriever"
      ]
    },
    {
      "cell_type": "code",
      "execution_count": null,
      "metadata": {
        "collapsed": false,
        "jupyter": {
          "outputs_hidden": false
        }
      },
      "outputs": [],
      "source": [
        "query = \"What did the president say about Ketanji Brown Jackson\"\n",
        "retriever.invoke(query)[0]"
      ]
    }
  ],
  "metadata": {
    "kernelspec": {
      "display_name": "Python 3 (ipykernel)",
      "language": "python",
      "name": "python3"
    },
    "language_info": {
      "codemirror_mode": {
        "name": "ipython",
        "version": 3
      },
      "file_extension": ".py",
      "mimetype": "text/x-python",
      "name": "python",
      "nbconvert_exporter": "python",
      "pygments_lexer": "ipython3",
      "version": "3.10.6"
    }
  },
  "nbformat": 4,
  "nbformat_minor": 4
}