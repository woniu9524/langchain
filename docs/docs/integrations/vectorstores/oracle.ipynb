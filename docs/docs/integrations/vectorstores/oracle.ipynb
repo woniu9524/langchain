{
  "cells": [
    {
      "cell_type": "markdown",
      "id": "dd33e9d5-9dba-4aac-9f7f-4cf9e6686593",
      "metadata": {},
      "source": [
        "# Oracle AI Vector Search：向量存储\n\nOracle AI Vector Search 专为人工智能（AI）工作负载而设计，允许您基于语义而非关键字来查询数据。\nOracle AI Vector Search 的最大优势之一在于，可以将对非结构化数据的语义搜索与对业务数据的关系型搜索结合在同一个系统中。\n这不仅功能强大，而且效果显著，因为您无需添加专门的向量数据库，从而消除了多系统间数据碎片化的烦恼。\n\n此外，您的向量还可以受益于 Oracle Database 所有最强大的功能，例如：\n\n* [分区支持](https://www.oracle.com/database/technologies/partitioning.html)\n* [Real Application Clusters 可扩展性](https://www.oracle.com/database/real-application-clusters/)\n* [Exadata 智能扫描](https://www.oracle.com/database/technologies/exadata/software/smartscan/)\n* [跨地域分布式数据库的分片处理](https://www.oracle.com/database/distributed-database/)\n* [事务](https://docs.oracle.com/en/database/oracle/oracle-database/23/cncpt/transactions.html)\n* [并行 SQL](https://docs.oracle.com/en/database/oracle/oracle-database/21/vldbg/parallel-exec-intro.html#GUID-D28717E4-0F77-44F5-BB4E-234C31D4E4BA)\n* [灾难恢复](https://www.oracle.com/database/data-guard/)\n* [安全性](https://www.oracle.com/security/database-security/)\n* [Oracle Machine Learning](https://www.oracle.com/artificial-intelligence/database-machine-learning/)\n* [Oracle Graph 数据库](https://www.oracle.com/database/integrated-graph-database/)\n* [Oracle Spatial and Graph](https://www.oracle.com/database/spatial/)\n* [Oracle Blockchain](https://docs.oracle.com/en/database/oracle/oracle-database/23/arpls/dbms_blockchain_table.html#GUID-B469E277-978E-4378-A8C1-26D3FF96C9A6)\n* [JSON](https://docs.oracle.com/en/database/oracle/oracle-database/23/adjsn/json-in-oracle-database.html)"
      ]
    },
    {
      "cell_type": "markdown",
      "id": "2b9645ac-8d05-4cd7-9b76-bacb6cf4fcf1",
      "metadata": {},
      "source": [
        "如果您刚开始接触 Oracle Database，可以考虑探索[免费的 Oracle 23 AI](https://www.oracle.com/database/free/#resources)，它能很好地帮助您入门数据库环境的设置。在使用数据库时，通常建议默认不要使用 system 用户；相反，您可以创建自己的用户以增强安全性和自定义性。有关用户创建的详细步骤，请参阅我们的[端到端指南](https://github.com/langchain-ai/langchain/blob/master/cookbook/oracleai_demo.ipynb)，其中还演示了如何在 Oracle 中设置用户。此外，了解用户权限对于有效管理数据库安全也至关重要。您可以在官方的[Oracle 用户账户和安全管理指南](https://docs.oracle.com/en/database/oracle/oracle-database/19/admqs/administering-user-accounts-and-security.html#GUID-36B21D72-1BBB-46C9-A0C9-F0D2A8591B8D)中了解更多关于此主题的内容。"
      ]
    },
    {
      "cell_type": "markdown",
      "id": "7bd80054-c803-47e1-a259-c40ed073c37d",
      "metadata": {},
      "source": [
        "### 使用 Langchain 与 Oracle AI Vector Search 的先决条件\n\n您需要安装 `langchain-community` (${code('pip install -qU langchain-community')}) 才能使用此集成。\n\n请安装 Oracle Python Client 驱动以使用 Langchain 与 Oracle AI Vector Search。"
      ]
    },
    {
      "cell_type": "code",
      "execution_count": null,
      "id": "2bbb989d-c6fb-4ab9-bafd-a95fd48538d0",
      "metadata": {},
      "outputs": [],
      "source": [
        "# pip install oracledb"
      ]
    },
    {
      "cell_type": "markdown",
      "id": "0fceaa5a-95da-4ebd-8b8d-5e73bb653172",
      "metadata": {},
      "source": [
        "### 连接到 Oracle AI Vector Search\n\n下面的示例代码将展示如何连接到 Oracle 数据库。默认情况下，python-oracledb 以“精简模式”运行，直接连接到 Oracle 数据库。此模式不需要 Oracle Client 库。但是，当 python-oracledb 使用这些库时，可以使用一些额外的功能。当使用 Oracle Client 库时，python-oracledb 被称为处于“完整模式”。两种模式都具有全面的功能，支持 Python Database API v2.0 规范。请参阅以下[指南](https://python-oracledb.readthedocs.io/en/latest/user_guide/appendix_a.html#featuresummary)，其中介绍了每种模式支持的功能。如果无法使用精简模式，您可能需要切换到完整模式。"
      ]
    },
    {
      "cell_type": "code",
      "execution_count": null,
      "id": "4421e4b7-2c7e-4bcd-82b3-9576595edd0f",
      "metadata": {},
      "outputs": [],
      "source": [
        "import oracledb\n",
        "\n",
        "username = \"username\"\n",
        "password = \"password\"\n",
        "dsn = \"ipaddress:port/orclpdb1\"\n",
        "\n",
        "try:\n",
        "    connection = oracledb.connect(user=username, password=password, dsn=dsn)\n",
        "    print(\"Connection successful!\")\n",
        "except Exception as e:\n",
        "    print(\"Connection failed!\")"
      ]
    },
    {
      "cell_type": "markdown",
      "id": "b11cf362-01b0-485d-8527-31b0fbb5028e",
      "metadata": {},
      "source": [
        "### 导入使用 Oracle AI Vector Search 所需的依赖项"
      ]
    },
    {
      "cell_type": "code",
      "execution_count": null,
      "id": "43ea59e3-2910-45a6-b195-5f06094bb7c9",
      "metadata": {},
      "outputs": [],
      "source": [
        "from langchain_community.vectorstores import oraclevs\n",
        "from langchain_community.vectorstores.oraclevs import OracleVS\n",
        "from langchain_community.vectorstores.utils import DistanceStrategy\n",
        "from langchain_core.documents import Document\n",
        "from langchain_huggingface import HuggingFaceEmbeddings"
      ]
    },
    {
      "cell_type": "markdown",
      "id": "0aac10dc-a9cc-4fdb-901c-1b7a4bbbe5a7",
      "metadata": {},
      "source": [
        "### 加载文档"
      ]
    },
    {
      "cell_type": "code",
      "execution_count": null,
      "id": "70ac6982-b13a-4e8c-9c47-57c6d136ac60",
      "metadata": {},
      "outputs": [],
      "source": [
        "# Define a list of documents (The examples below are 5 random documents from Oracle Concepts Manual )\n",
        "\n",
        "documents_json_list = [\n",
        "    {\n",
        "        \"id\": \"cncpt_15.5.3.2.2_P4\",\n",
        "        \"text\": \"If the answer to any preceding questions is yes, then the database stops the search and allocates space from the specified tablespace; otherwise, space is allocated from the database default shared temporary tablespace.\",\n",
        "        \"link\": \"https://docs.oracle.com/en/database/oracle/oracle-database/23/cncpt/logical-storage-structures.html#GUID-5387D7B2-C0CA-4C1E-811B-C7EB9B636442\",\n",
        "    },\n",
        "    {\n",
        "        \"id\": \"cncpt_15.5.5_P1\",\n",
        "        \"text\": \"A tablespace can be online (accessible) or offline (not accessible) whenever the database is open.\\nA tablespace is usually online so that its data is available to users. The SYSTEM tablespace and temporary tablespaces cannot be taken offline.\",\n",
        "        \"link\": \"https://docs.oracle.com/en/database/oracle/oracle-database/23/cncpt/logical-storage-structures.html#GUID-D02B2220-E6F5-40D9-AFB5-BC69BCEF6CD4\",\n",
        "    },\n",
        "    {\n",
        "        \"id\": \"cncpt_22.3.4.3.1_P2\",\n",
        "        \"text\": \"The database stores LOBs differently from other data types. Creating a LOB column implicitly creates a LOB segment and a LOB index. The tablespace containing the LOB segment and LOB index, which are always stored together, may be different from the tablespace containing the table.\\nSometimes the database can store small amounts of LOB data in the table itself rather than in a separate LOB segment.\",\n",
        "        \"link\": \"https://docs.oracle.com/en/database/oracle/oracle-database/23/cncpt/concepts-for-database-developers.html#GUID-3C50EAB8-FC39-4BB3-B680-4EACCE49E866\",\n",
        "    },\n",
        "    {\n",
        "        \"id\": \"cncpt_22.3.4.3.1_P3\",\n",
        "        \"text\": \"The LOB segment stores data in pieces called chunks. A chunk is a logically contiguous set of data blocks and is the smallest unit of allocation for a LOB. A row in the table stores a pointer called a LOB locator, which points to the LOB index. When the table is queried, the database uses the LOB index to quickly locate the LOB chunks.\",\n",
        "        \"link\": \"https://docs.oracle.com/en/database/oracle/oracle-database/23/cncpt/concepts-for-database-developers.html#GUID-3C50EAB8-FC39-4BB3-B680-4EACCE49E866\",\n",
        "    },\n",
        "]"
      ]
    },
    {
      "cell_type": "code",
      "execution_count": null,
      "id": "eaa942d6-5954-4898-8c32-3627b923a3a5",
      "metadata": {},
      "outputs": [],
      "source": [
        "# Create Langchain Documents\n",
        "\n",
        "documents_langchain = []\n",
        "\n",
        "for doc in documents_json_list:\n",
        "    metadata = {\"id\": doc[\"id\"], \"link\": doc[\"link\"]}\n",
        "    doc_langchain = Document(page_content=doc[\"text\"], metadata=metadata)\n",
        "    documents_langchain.append(doc_langchain)"
      ]
    },
    {
      "cell_type": "markdown",
      "id": "6823f5e6-997c-4f15-927b-bd44c61f105f",
      "metadata": {},
      "source": [
        "### 使用 AI Vector Search 创建具有不同距离度量的向量存储\n\n首先，我们将创建三个具有不同距离函数的向量存储。由于我们尚未在其中创建索引，因此目前它们只会创建表。稍后，我们将使用这些向量存储来创建 HNSW 索引。要了解更多关于 Oracle AI Vector Search 支持的各种索引类型，请参阅以下[指南](https://docs.oracle.com/en/database/oracle/oracle-database/23/vecse/manage-different-categories-vector-indexes.html)。\n\n您可以手动连接到 Oracle 数据库，并将看到三个表：\nDocuments_DOT, Documents_COSINE 和 Documents_EUCLIDEAN。\n\n然后，我们将创建另外三个表 Documents_DOT_IVF, Documents_COSINE_IVF 和 Documents_EUCLIDEAN_IVF，它们将用于在表上创建 IVF 索引，而不是 HNSW 索引。"
      ]
    },
    {
      "cell_type": "code",
      "execution_count": null,
      "id": "ed1b253e-5f5c-4a81-983c-74645213a170",
      "metadata": {},
      "outputs": [],
      "source": [
        "# Ingest documents into Oracle Vector Store using different distance strategies\n",
        "\n",
        "# When using our API calls, start by initializing your vector store with a subset of your documents\n",
        "# through from_documents(), then incrementally add more documents using add_texts().\n",
        "# This approach prevents system overload and ensures efficient document processing.\n",
        "\n",
        "model = HuggingFaceEmbeddings(model_name=\"sentence-transformers/all-mpnet-base-v2\")\n",
        "\n",
        "vector_store_dot = OracleVS.from_documents(\n",
        "    documents_langchain,\n",
        "    model,\n",
        "    client=connection,\n",
        "    table_name=\"Documents_DOT\",\n",
        "    distance_strategy=DistanceStrategy.DOT_PRODUCT,\n",
        ")\n",
        "vector_store_max = OracleVS.from_documents(\n",
        "    documents_langchain,\n",
        "    model,\n",
        "    client=connection,\n",
        "    table_name=\"Documents_COSINE\",\n",
        "    distance_strategy=DistanceStrategy.COSINE,\n",
        ")\n",
        "vector_store_euclidean = OracleVS.from_documents(\n",
        "    documents_langchain,\n",
        "    model,\n",
        "    client=connection,\n",
        "    table_name=\"Documents_EUCLIDEAN\",\n",
        "    distance_strategy=DistanceStrategy.EUCLIDEAN_DISTANCE,\n",
        ")\n",
        "\n",
        "# Ingest documents into Oracle Vector Store using different distance strategies\n",
        "vector_store_dot_ivf = OracleVS.from_documents(\n",
        "    documents_langchain,\n",
        "    model,\n",
        "    client=connection,\n",
        "    table_name=\"Documents_DOT_IVF\",\n",
        "    distance_strategy=DistanceStrategy.DOT_PRODUCT,\n",
        ")\n",
        "vector_store_max_ivf = OracleVS.from_documents(\n",
        "    documents_langchain,\n",
        "    model,\n",
        "    client=connection,\n",
        "    table_name=\"Documents_COSINE_IVF\",\n",
        "    distance_strategy=DistanceStrategy.COSINE,\n",
        ")\n",
        "vector_store_euclidean_ivf = OracleVS.from_documents(\n",
        "    documents_langchain,\n",
        "    model,\n",
        "    client=connection,\n",
        "    table_name=\"Documents_EUCLIDEAN_IVF\",\n",
        "    distance_strategy=DistanceStrategy.EUCLIDEAN_DISTANCE,\n",
        ")"
      ]
    },
    {
      "cell_type": "markdown",
      "id": "77c29505-8688-4b87-9a99-e648fbb2d425",
      "metadata": {},
      "source": [
        "### 演示文本的添加和删除操作，以及基本的相似度搜索"
      ]
    },
    {
      "cell_type": "code",
      "execution_count": null,
      "id": "306563ae-577b-4bc7-8a92-3dd6a59310f5",
      "metadata": {},
      "outputs": [],
      "source": [
        "def manage_texts(vector_stores):\n",
        "    \"\"\"\n",
        "    Adds texts to each vector store, demonstrates error handling for duplicate additions,\n",
        "    and performs deletion of texts. Showcases similarity searches and index creation for each vector store.\n",
        "\n",
        "    Args:\n",
        "    - vector_stores (list): A list of OracleVS instances.\n",
        "    \"\"\"\n",
        "    texts = [\"Rohan\", \"Shailendra\"]\n",
        "    metadata = [\n",
        "        {\"id\": \"100\", \"link\": \"Document Example Test 1\"},\n",
        "        {\"id\": \"101\", \"link\": \"Document Example Test 2\"},\n",
        "    ]\n",
        "\n",
        "    for i, vs in enumerate(vector_stores, start=1):\n",
        "        # Adding texts\n",
        "        try:\n",
        "            vs.add_texts(texts, metadata)\n",
        "            print(f\"\\n\\n\\nAdd texts complete for vector store {i}\\n\\n\\n\")\n",
        "        except Exception as ex:\n",
        "            print(f\"\\n\\n\\nExpected error on duplicate add for vector store {i}\\n\\n\\n\")\n",
        "\n",
        "        # Deleting texts using the value of 'id'\n",
        "        vs.delete([metadata[0][\"id\"]])\n",
        "        print(f\"\\n\\n\\nDelete texts complete for vector store {i}\\n\\n\\n\")\n",
        "\n",
        "        # Similarity search\n",
        "        results = vs.similarity_search(\"How are LOBS stored in Oracle Database\", 2)\n",
        "        print(f\"\\n\\n\\nSimilarity search results for vector store {i}: {results}\\n\\n\\n\")\n",
        "\n",
        "\n",
        "vector_store_list = [\n",
        "    vector_store_dot,\n",
        "    vector_store_max,\n",
        "    vector_store_euclidean,\n",
        "    vector_store_dot_ivf,\n",
        "    vector_store_max_ivf,\n",
        "    vector_store_euclidean_ivf,\n",
        "]\n",
        "manage_texts(vector_store_list)"
      ]
    },
    {
      "cell_type": "markdown",
      "id": "0980cb33-69cf-4547-842a-afdc4d6fa7d3",
      "metadata": {},
      "source": [
        "### 使用特定参数演示为每种距离策略创建索引"
      ]
    },
    {
      "cell_type": "code",
      "execution_count": null,
      "id": "46298a27-e309-456e-b2b8-771d9cb3be29",
      "metadata": {},
      "outputs": [],
      "source": [
        "def create_search_indices(connection):\n",
        "    \"\"\"\n",
        "    Creates search indices for the vector stores, each with specific parameters tailored to their distance strategy.\n",
        "    \"\"\"\n",
        "    # Index for DOT_PRODUCT strategy\n",
        "    # Notice we are creating a HNSW index with default parameters\n",
        "    # This will default to creating a HNSW index with 8 Parallel Workers and use the Default Accuracy used by Oracle AI Vector Search\n",
        "    oraclevs.create_index(\n",
        "        connection,\n",
        "        vector_store_dot,\n",
        "        params={\"idx_name\": \"hnsw_idx1\", \"idx_type\": \"HNSW\"},\n",
        "    )\n",
        "\n",
        "    # Index for COSINE strategy with specific parameters\n",
        "    # Notice we are creating a HNSW index with parallel 16 and Target Accuracy Specification as 97 percent\n",
        "    oraclevs.create_index(\n",
        "        connection,\n",
        "        vector_store_max,\n",
        "        params={\n",
        "            \"idx_name\": \"hnsw_idx2\",\n",
        "            \"idx_type\": \"HNSW\",\n",
        "            \"accuracy\": 97,\n",
        "            \"parallel\": 16,\n",
        "        },\n",
        "    )\n",
        "\n",
        "    # Index for EUCLIDEAN_DISTANCE strategy with specific parameters\n",
        "    # Notice we are creating a HNSW index by specifying Power User Parameters which are neighbors = 64 and efConstruction = 100\n",
        "    oraclevs.create_index(\n",
        "        connection,\n",
        "        vector_store_euclidean,\n",
        "        params={\n",
        "            \"idx_name\": \"hnsw_idx3\",\n",
        "            \"idx_type\": \"HNSW\",\n",
        "            \"neighbors\": 64,\n",
        "            \"efConstruction\": 100,\n",
        "        },\n",
        "    )\n",
        "\n",
        "    # Index for DOT_PRODUCT strategy with specific parameters\n",
        "    # Notice we are creating an IVF index with default parameters\n",
        "    # This will default to creating an IVF index with 8 Parallel Workers and use the Default Accuracy used by Oracle AI Vector Search\n",
        "    oraclevs.create_index(\n",
        "        connection,\n",
        "        vector_store_dot_ivf,\n",
        "        params={\n",
        "            \"idx_name\": \"ivf_idx1\",\n",
        "            \"idx_type\": \"IVF\",\n",
        "        },\n",
        "    )\n",
        "\n",
        "    # Index for COSINE strategy with specific parameters\n",
        "    # Notice we are creating an IVF index with parallel 32 and Target Accuracy Specification as 90 percent\n",
        "    oraclevs.create_index(\n",
        "        connection,\n",
        "        vector_store_max_ivf,\n",
        "        params={\n",
        "            \"idx_name\": \"ivf_idx2\",\n",
        "            \"idx_type\": \"IVF\",\n",
        "            \"accuracy\": 90,\n",
        "            \"parallel\": 32,\n",
        "        },\n",
        "    )\n",
        "\n",
        "    # Index for EUCLIDEAN_DISTANCE strategy with specific parameters\n",
        "    # Notice we are creating an IVF index by specifying Power User Parameters which is neighbor_part = 64\n",
        "    oraclevs.create_index(\n",
        "        connection,\n",
        "        vector_store_euclidean_ivf,\n",
        "        params={\"idx_name\": \"ivf_idx3\", \"idx_type\": \"IVF\", \"neighbor_part\": 64},\n",
        "    )\n",
        "\n",
        "    print(\"Index creation complete.\")\n",
        "\n",
        "\n",
        "create_search_indices(connection)"
      ]
    },
    {
      "cell_type": "markdown",
      "id": "7223d048-5c0b-4e91-a91b-a7daa9f86758",
      "metadata": {},
      "source": [
        "### 在所有六个向量存储上演示高级搜索，包含和不包含属性过滤——在过滤的情况下，我们只选择文档 ID 101，仅此而已"
      ]
    },
    {
      "cell_type": "code",
      "execution_count": null,
      "id": "37ca2e7d-9803-4260-95e7-62776d4fb820",
      "metadata": {},
      "outputs": [],
      "source": [
        "# Conduct advanced searches after creating the indices\n",
        "def conduct_advanced_searches(vector_stores):\n",
        "    query = \"How are LOBS stored in Oracle Database\"\n",
        "    # Constructing a filter for direct comparison against document metadata\n",
        "    # This filter aims to include documents whose metadata 'id' is exactly '2'\n",
        "    filter_criteria = {\"id\": [\"101\"]}  # Direct comparison filter\n",
        "\n",
        "    for i, vs in enumerate(vector_stores, start=1):\n",
        "        print(f\"\\n--- Vector Store {i} Advanced Searches ---\")\n",
        "        # Similarity search without a filter\n",
        "        print(\"\\nSimilarity search results without filter:\")\n",
        "        print(vs.similarity_search(query, 2))\n",
        "\n",
        "        # Similarity search with a filter\n",
        "        print(\"\\nSimilarity search results with filter:\")\n",
        "        print(vs.similarity_search(query, 2, filter=filter_criteria))\n",
        "\n",
        "        # Similarity search with relevance score\n",
        "        print(\"\\nSimilarity search with relevance score:\")\n",
        "        print(vs.similarity_search_with_score(query, 2))\n",
        "\n",
        "        # Similarity search with relevance score with filter\n",
        "        print(\"\\nSimilarity search with relevance score with filter:\")\n",
        "        print(vs.similarity_search_with_score(query, 2, filter=filter_criteria))\n",
        "\n",
        "        # Max marginal relevance search\n",
        "        print(\"\\nMax marginal relevance search results:\")\n",
        "        print(vs.max_marginal_relevance_search(query, 2, fetch_k=20, lambda_mult=0.5))\n",
        "\n",
        "        # Max marginal relevance search with filter\n",
        "        print(\"\\nMax marginal relevance search results with filter:\")\n",
        "        print(\n",
        "            vs.max_marginal_relevance_search(\n",
        "                query, 2, fetch_k=20, lambda_mult=0.5, filter=filter_criteria\n",
        "            )\n",
        "        )\n",
        "\n",
        "\n",
        "conduct_advanced_searches(vector_store_list)"
      ]
    },
    {
      "cell_type": "markdown",
      "id": "0da8c7e2-0db0-4363-b31b-a7a5e3f83717",
      "metadata": {},
      "source": [
        "### 端到端演示\n\n请参阅我们的完整演示指南 [Oracle AI Vector Search 端到端演示指南](https://github.com/langchain-ai/langchain/tree/master/cookbook/oracleai_demo.ipynb)，借助 Oracle AI Vector Search 构建端到端的 RAG 管道。"
      ]
    }
  ],
  "metadata": {
    "kernelspec": {
      "display_name": "Python 3 (ipykernel)",
      "language": "python",
      "name": "python3"
    },
    "language_info": {
      "codemirror_mode": {
        "name": "ipython",
        "version": 3
      },
      "file_extension": ".py",
      "mimetype": "text/x-python",
      "name": "python",
      "nbconvert_exporter": "python",
      "pygments_lexer": "ipython3",
      "version": "3.11.9"
    }
  },
  "nbformat": 4,
  "nbformat_minor": 5
}