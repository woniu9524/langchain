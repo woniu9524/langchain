{
  "cells": [
    {
      "attachments": {},
      "cell_type": "markdown",
      "id": "683953b3",
      "metadata": {},
      "source": [
        "# Qdrant\n\n>[Qdrant](https://qdrant.tech/documentation/) (“象限” 的发音) 是一个向量相似性搜索引擎。它提供了一个生产就绪的服务，拥有便捷的 API，用于存储、搜索和管理带有附加 payload 和扩展过滤支持的向量。这使其适用于各种神经网络或基于语义的匹配、分面搜索和其他应用。\n\n本文档演示了如何将 Qdrant 与 LangChain 结合用于稠密（即，基于嵌入）、稀疏（即，文本搜索）和混合检索。`QdrantVectorStore` 类通过 Qdrant 的新 [Query API](https://qdrant.tech/blog/qdrant-1.10.x/) 支持多种检索模式。它要求您运行 Qdrant v1.10.0 或更高版本。\n\n## 设置\n\n有多种模式可以运行 `Qdrant`，具体取决于您选择的模式，会存在一些细微的差别。选项包括：\n- 本地模式，无需服务器\n- Docker 部署\n- Qdrant Cloud\n\n请在此处查看安装说明：[https://qdrant.tech/documentation/install/](https://qdrant.tech/documentation/install/)"
      ]
    },
    {
      "cell_type": "code",
      "execution_count": null,
      "id": "e03e8460-8f32-4d1f-bb93-4f7636a476fa",
      "metadata": {
        "tags": []
      },
      "outputs": [],
      "source": [
        "pip install -qU langchain-qdrant"
      ]
    },
    {
      "cell_type": "markdown",
      "id": "7d387fea",
      "metadata": {},
      "source": [
        "### 凭证\n\n运行此笔记本中的代码不需要任何凭证。\n\n如果您想获得同类最佳的自动化模型调用跟踪，您还可以通过取消注释下面的内容来设置您的 [LangSmith](https://docs.smith.langchain.com/) API 密钥："
      ]
    },
    {
      "cell_type": "code",
      "execution_count": null,
      "id": "4912937d",
      "metadata": {},
      "outputs": [],
      "source": [
        "# os.environ[\"LANGSMITH_API_KEY\"] = getpass.getpass(\"Enter your LangSmith API key: \")\n",
        "# os.environ[\"LANGSMITH_TRACING\"] = \"true\""
      ]
    },
    {
      "attachments": {},
      "cell_type": "markdown",
      "id": "eeead681",
      "metadata": {},
      "source": [
        "## 初始化\n\n### 本地模式\n\nPython 客户端提供了一种不在 Qdrant 服务器上运行代码而是本地运行代码的选项。这对于测试、调试或只存储少量向量非常有用。嵌入可以完全保留在内存中，也可以持久化到磁盘上。\n\n#### 内存中\n\n对于一些测试场景和快速实验，你可能希望只将所有数据保留在内存中，这样当客户端被销毁时（通常在脚本/笔记本结束时）数据就会被清除。\n\nimport EmbeddingTabs from \"@theme/EmbeddingTabs\";\n\n<EmbeddingTabs/>"
      ]
    },
    {
      "cell_type": "code",
      "execution_count": 1,
      "id": "1df86797",
      "metadata": {},
      "outputs": [],
      "source": [
        "# | output: false\n",
        "# | echo: false\n",
        "from langchain_openai import OpenAIEmbeddings\n",
        "\n",
        "embeddings = OpenAIEmbeddings(model=\"text-embedding-3-large\")"
      ]
    },
    {
      "cell_type": "code",
      "execution_count": 6,
      "id": "8429667e",
      "metadata": {
        "ExecuteTime": {
          "end_time": "2023-04-04T10:51:22.525091Z",
          "start_time": "2023-04-04T10:51:22.522015Z"
        },
        "tags": []
      },
      "outputs": [],
      "source": [
        "from langchain_qdrant import QdrantVectorStore\n",
        "from qdrant_client import QdrantClient\n",
        "from qdrant_client.http.models import Distance, VectorParams\n",
        "\n",
        "client = QdrantClient(\":memory:\")\n",
        "\n",
        "client.create_collection(\n",
        "    collection_name=\"demo_collection\",\n",
        "    vectors_config=VectorParams(size=3072, distance=Distance.COSINE),\n",
        ")\n",
        "\n",
        "vector_store = QdrantVectorStore(\n",
        "    client=client,\n",
        "    collection_name=\"demo_collection\",\n",
        "    embedding=embeddings,\n",
        ")"
      ]
    },
    {
      "attachments": {},
      "cell_type": "markdown",
      "id": "59f0b954",
      "metadata": {},
      "source": [
        "#### 磁盘存储\n\n本地模式（不使用 Qdrant 服务器）也可以将您的向量存储在磁盘上，以便在运行之间持久化。"
      ]
    },
    {
      "cell_type": "code",
      "execution_count": 7,
      "id": "24b370e2",
      "metadata": {
        "ExecuteTime": {
          "end_time": "2023-04-04T10:51:24.827567Z",
          "start_time": "2023-04-04T10:51:22.529080Z"
        },
        "tags": []
      },
      "outputs": [],
      "source": [
        "client = QdrantClient(path=\"/tmp/langchain_qdrant\")\n",
        "\n",
        "client.create_collection(\n",
        "    collection_name=\"demo_collection\",\n",
        "    vectors_config=VectorParams(size=3072, distance=Distance.COSINE),\n",
        ")\n",
        "\n",
        "vector_store = QdrantVectorStore(\n",
        "    client=client,\n",
        "    collection_name=\"demo_collection\",\n",
        "    embedding=embeddings,\n",
        ")"
      ]
    },
    {
      "attachments": {},
      "cell_type": "markdown",
      "id": "749658ce",
      "metadata": {},
      "source": [
        "### 本地服务器部署\n\n无论您是选择使用 [Docker 容器](https://qdrant.tech/documentation/install/) 在本地启动 Qdrant，还是通过 [官方 Helm Chart](https://github.com/qdrant/qdrant-helm) 选择 Kubernetes 部署，连接到此类实例的方式都将是相同的。您需要提供一个指向该服务的 URL。"
      ]
    },
    {
      "cell_type": "code",
      "execution_count": 5,
      "id": "91e7f5ce",
      "metadata": {
        "ExecuteTime": {
          "end_time": "2023-04-04T10:51:24.832708Z",
          "start_time": "2023-04-04T10:51:24.829905Z"
        }
      },
      "outputs": [],
      "source": [
        "url = \"<---qdrant url here --->\"\n",
        "docs = []  # put docs here\n",
        "qdrant = QdrantVectorStore.from_documents(\n",
        "    docs,\n",
        "    embeddings,\n",
        "    url=url,\n",
        "    prefer_grpc=True,\n",
        "    collection_name=\"my_documents\",\n",
        ")"
      ]
    },
    {
      "attachments": {},
      "cell_type": "markdown",
      "id": "c9e21ce9",
      "metadata": {},
      "source": [
        "### Qdrant Cloud\n\n如果您不想费心管理基础设施，可以选择在 [Qdrant Cloud](https://cloud.qdrant.io/) 上设置一个全托管的 Qdrant 集群。其中包含一个永久免费的 1GB 集群供您试用。使用托管版 Qdrant 的主要区别在于，您需要提供一个 API 密钥来保护您的部署不被公开访问。该值也可以设置为 `QDRANT_API_KEY` 环境变量。"
      ]
    },
    {
      "cell_type": "code",
      "execution_count": 6,
      "id": "dcf88bdf",
      "metadata": {
        "ExecuteTime": {
          "end_time": "2023-04-04T10:51:24.837599Z",
          "start_time": "2023-04-04T10:51:24.834690Z"
        }
      },
      "outputs": [],
      "source": [
        "url = \"<---qdrant cloud cluster url here --->\"\n",
        "api_key = \"<---api key here--->\"\n",
        "qdrant = QdrantVectorStore.from_documents(\n",
        "    docs,\n",
        "    embeddings,\n",
        "    url=url,\n",
        "    prefer_grpc=True,\n",
        "    api_key=api_key,\n",
        "    collection_name=\"my_documents\",\n",
        ")"
      ]
    },
    {
      "cell_type": "markdown",
      "id": "825c7903",
      "metadata": {},
      "source": [
        "## 使用现有集合\n\nThis example shows how to use an existing collection with the"
      ]
    },
    {
      "cell_type": "markdown",
      "id": "3f772575",
      "metadata": {},
      "source": [
        "要获取 `langchain_qdrant.Qdrant` 的实例，而不加载任何新文档或文本，您可以使用 `Qdrant.from_existing_collection()` 方法。"
      ]
    },
    {
      "cell_type": "code",
      "execution_count": null,
      "id": "daf7a6e5",
      "metadata": {},
      "outputs": [],
      "source": [
        "qdrant = QdrantVectorStore.from_existing_collection(\n",
        "    embedding=embeddings,\n",
        "    collection_name=\"my_documents\",\n",
        "    url=\"http://localhost:6333\",\n",
        ")"
      ]
    },
    {
      "cell_type": "markdown",
      "id": "3cddef6e",
      "metadata": {},
      "source": [
        "## 管理向量存储\n\n创建向量存储后，我们可以通过添加和删除不同的项目来与之进行交互。\n\n### 向向量存储添加项目\n\n我们可以使用 `add_documents` 函数向向量存储添加项目。"
      ]
    },
    {
      "cell_type": "code",
      "execution_count": null,
      "id": "7697a362",
      "metadata": {},
      "outputs": [],
      "source": [
        "from uuid import uuid4\n",
        "\n",
        "from langchain_core.documents import Document\n",
        "\n",
        "document_1 = Document(\n",
        "    page_content=\"I had chocolate chip pancakes and scrambled eggs for breakfast this morning.\",\n",
        "    metadata={\"source\": \"tweet\"},\n",
        ")\n",
        "\n",
        "document_2 = Document(\n",
        "    page_content=\"The weather forecast for tomorrow is cloudy and overcast, with a high of 62 degrees Fahrenheit.\",\n",
        "    metadata={\"source\": \"news\"},\n",
        ")\n",
        "\n",
        "document_3 = Document(\n",
        "    page_content=\"Building an exciting new project with LangChain - come check it out!\",\n",
        "    metadata={\"source\": \"tweet\"},\n",
        ")\n",
        "\n",
        "document_4 = Document(\n",
        "    page_content=\"Robbers broke into the city bank and stole $1 million in cash.\",\n",
        "    metadata={\"source\": \"news\"},\n",
        ")\n",
        "\n",
        "document_5 = Document(\n",
        "    page_content=\"Wow! That was an amazing movie. I can't wait to see it again.\",\n",
        "    metadata={\"source\": \"tweet\"},\n",
        ")\n",
        "\n",
        "document_6 = Document(\n",
        "    page_content=\"Is the new iPhone worth the price? Read this review to find out.\",\n",
        "    metadata={\"source\": \"website\"},\n",
        ")\n",
        "\n",
        "document_7 = Document(\n",
        "    page_content=\"The top 10 soccer players in the world right now.\",\n",
        "    metadata={\"source\": \"website\"},\n",
        ")\n",
        "\n",
        "document_8 = Document(\n",
        "    page_content=\"LangGraph is the best framework for building stateful, agentic applications!\",\n",
        "    metadata={\"source\": \"tweet\"},\n",
        ")\n",
        "\n",
        "document_9 = Document(\n",
        "    page_content=\"The stock market is down 500 points today due to fears of a recession.\",\n",
        "    metadata={\"source\": \"news\"},\n",
        ")\n",
        "\n",
        "document_10 = Document(\n",
        "    page_content=\"I have a bad feeling I am going to get deleted :(\",\n",
        "    metadata={\"source\": \"tweet\"},\n",
        ")\n",
        "\n",
        "documents = [\n",
        "    document_1,\n",
        "    document_2,\n",
        "    document_3,\n",
        "    document_4,\n",
        "    document_5,\n",
        "    document_6,\n",
        "    document_7,\n",
        "    document_8,\n",
        "    document_9,\n",
        "    document_10,\n",
        "]\n",
        "uuids = [str(uuid4()) for _ in range(len(documents))]"
      ]
    },
    {
      "cell_type": "code",
      "execution_count": null,
      "id": "413c3d9a",
      "metadata": {},
      "outputs": [],
      "source": [
        "vector_store.add_documents(documents=documents, ids=uuids)"
      ]
    },
    {
      "cell_type": "markdown",
      "id": "5fd23102",
      "metadata": {},
      "source": [
        "### 从矢量存储中删除项目"
      ]
    },
    {
      "cell_type": "code",
      "execution_count": 37,
      "id": "999cafcc",
      "metadata": {},
      "outputs": [
        {
          "data": {
            "text/plain": [
              "True"
            ]
          },
          "execution_count": 37,
          "metadata": {},
          "output_type": "execute_result"
        }
      ],
      "source": [
        "vector_store.delete(ids=[uuids[-1]])"
      ]
    },
    {
      "attachments": {},
      "cell_type": "markdown",
      "id": "1f9215c8",
      "metadata": {
        "ExecuteTime": {
          "end_time": "2023-04-04T09:27:29.920258Z",
          "start_time": "2023-04-04T09:27:29.913714Z"
        }
      },
      "source": [
        "## 查询向量存储\n\n一旦您的向量存储创建完成并且相关的文档已添加，您很可能希望在链或代理运行时查询它。\n\n### 直接查询\n\n使用 Qdrant 向量存储最简单的场景是执行相似性搜索。在我们底层，查询将被编码成向量嵌入，并用于在 Qdrant 集合中查找相似的文档。"
      ]
    },
    {
      "cell_type": "code",
      "execution_count": 10,
      "id": "a8c513ab",
      "metadata": {
        "ExecuteTime": {
          "end_time": "2023-04-04T10:51:25.204469Z",
          "start_time": "2023-04-04T10:51:24.855618Z"
        },
        "tags": []
      },
      "outputs": [
        {
          "name": "stdout",
          "output_type": "stream",
          "text": [
            "* Building an exciting new project with LangChain - come check it out! [{'source': 'tweet', '_id': 'd3202666-6f2b-4186-ac43-e35389de8166', '_collection_name': 'demo_collection'}]\n",
            "* LangGraph is the best framework for building stateful, agentic applications! [{'source': 'tweet', '_id': '91ed6c56-fe53-49e2-8199-c3bb3c33c3eb', '_collection_name': 'demo_collection'}]\n"
          ]
        }
      ],
      "source": [
        "results = vector_store.similarity_search(\n",
        "    \"LangChain provides abstractions to make working with LLMs easy\", k=2\n",
        ")\n",
        "for res in results:\n",
        "    print(f\"* {res.page_content} [{res.metadata}]\")"
      ]
    },
    {
      "cell_type": "markdown",
      "id": "79bcb0ce",
      "metadata": {},
      "source": [
        "`QdrantVectorStore` 支持 3 种相似性搜索模式。可以通过 `retrieval_mode` 参数进行配置。\n\n- 密集向量搜索（默认）\n- 稀疏向量搜索\n- 混合搜索\n\n### 密集向量搜索\n\n密集向量搜索通过基于向量的嵌入来计算相似性。仅使用密集向量进行搜索：\n\n- `retrieval_mode` 参数应设置为 `RetrievalMode.DENSE`。这是默认行为。\n- 应为 `embedding` 参数提供 [密集嵌入](https://python.langchain.com/docs/integrations/text_embedding/) 值。"
      ]
    },
    {
      "cell_type": "code",
      "execution_count": null,
      "id": "5e097299",
      "metadata": {},
      "outputs": [],
      "source": [
        "from langchain_qdrant import QdrantVectorStore, RetrievalMode\n",
        "from qdrant_client import QdrantClient\n",
        "from qdrant_client.http.models import Distance, VectorParams\n",
        "\n",
        "# Create a Qdrant client for local storage\n",
        "client = QdrantClient(path=\"/tmp/langchain_qdrant\")\n",
        "\n",
        "# Create a collection with dense vectors\n",
        "client.create_collection(\n",
        "    collection_name=\"my_documents\",\n",
        "    vectors_config=VectorParams(size=3072, distance=Distance.COSINE),\n",
        ")\n",
        "\n",
        "qdrant = QdrantVectorStore(\n",
        "    client=client,\n",
        "    collection_name=\"my_documents\",\n",
        "    embedding=embeddings,\n",
        "    retrieval_mode=RetrievalMode.DENSE,\n",
        ")\n",
        "\n",
        "qdrant.add_documents(documents=documents, ids=uuids)\n",
        "\n",
        "query = \"How much money did the robbers steal?\"\n",
        "found_docs = qdrant.similarity_search(query)\n",
        "found_docs"
      ]
    },
    {
      "cell_type": "markdown",
      "id": "dbd93d85",
      "metadata": {},
      "source": [
        "### 稀疏向量搜索\n\n仅使用稀疏向量进行搜索：\n\n- `retrieval_mode` 参数应设置为 `RetrievalMode.SPARSE`。\n- 必须提供一个实现了 [`SparseEmbeddings`](https://github.com/langchain-ai/langchain/blob/master/libs/partners/qdrant/langchain_qdrant/sparse_embeddings.py) 接口的、使用任何稀疏向量提供商的实现，作为 `sparse_embedding` 参数的值。\n\n`langchain-qdrant` 包提供了基于 [FastEmbed](https://github.com/qdrant/fastembed) 的开箱即用型实现。\n\n要使用它，请安装 FastEmbed 包。"
      ]
    },
    {
      "cell_type": "code",
      "execution_count": null,
      "id": "8435c0f1",
      "metadata": {},
      "outputs": [],
      "source": [
        "%pip install -qU fastembed"
      ]
    },
    {
      "cell_type": "code",
      "execution_count": null,
      "id": "7cf1e3ef",
      "metadata": {},
      "outputs": [],
      "source": [
        "from langchain_qdrant import FastEmbedSparse, QdrantVectorStore, RetrievalMode\n",
        "from qdrant_client import QdrantClient, models\n",
        "from qdrant_client.http.models import Distance, SparseVectorParams, VectorParams\n",
        "\n",
        "sparse_embeddings = FastEmbedSparse(model_name=\"Qdrant/bm25\")\n",
        "\n",
        "# Create a Qdrant client for local storage\n",
        "client = QdrantClient(path=\"/tmp/langchain_qdrant\")\n",
        "\n",
        "# Create a collection with sparse vectors\n",
        "client.create_collection(\n",
        "    collection_name=\"my_documents\",\n",
        "    vectors_config={\"dense\": VectorParams(size=3072, distance=Distance.COSINE)},\n",
        "    sparse_vectors_config={\n",
        "        \"sparse\": SparseVectorParams(index=models.SparseIndexParams(on_disk=False))\n",
        "    },\n",
        ")\n",
        "\n",
        "qdrant = QdrantVectorStore(\n",
        "    client=client,\n",
        "    collection_name=\"my_documents\",\n",
        "    sparse_embedding=sparse_embeddings,\n",
        "    retrieval_mode=RetrievalMode.SPARSE,\n",
        "    sparse_vector_name=\"sparse\",\n",
        ")\n",
        "\n",
        "qdrant.add_documents(documents=documents, ids=uuids)\n",
        "\n",
        "query = \"How much money did the robbers steal?\"\n",
        "found_docs = qdrant.similarity_search(query)\n",
        "found_docs"
      ]
    },
    {
      "cell_type": "markdown",
      "id": "26e20c61",
      "metadata": {},
      "source": [
        "### 混合向量搜索\n\n要执行使用密集向量和稀疏向量通过分数融合进行的混合搜索，\n\n- `retrieval_mode` 参数应设置为 `RetrievalMode.HYBRID`。\n- 应向 `embedding` 参数提供[密集嵌入](https://python.langchain.com/docs/integrations/text_embedding/)值。\n- 必须提供一个使用任何稀疏嵌入提供程序的 [`SparseEmbeddings`](https://github.com/langchain-ai/langchain/blob/master/libs/partners/qdrant/langchain_qdrant/sparse_embeddings.py) 接口实现作为 `sparse_embedding` 参数的值。\n\n请注意，如果您已使用 `HYBRID` 模式添加了文档，则在搜索时可以切换到任何检索模式，因为密集向量和稀疏向量都可以在集合中找到。"
      ]
    },
    {
      "cell_type": "code",
      "execution_count": null,
      "id": "f37c8519",
      "metadata": {},
      "outputs": [],
      "source": [
        "from langchain_qdrant import FastEmbedSparse, QdrantVectorStore, RetrievalMode\n",
        "from qdrant_client import QdrantClient, models\n",
        "from qdrant_client.http.models import Distance, SparseVectorParams, VectorParams\n",
        "\n",
        "sparse_embeddings = FastEmbedSparse(model_name=\"Qdrant/bm25\")\n",
        "\n",
        "# Create a Qdrant client for local storage\n",
        "client = QdrantClient(path=\"/tmp/langchain_qdrant\")\n",
        "\n",
        "# Create a collection with both dense and sparse vectors\n",
        "client.create_collection(\n",
        "    collection_name=\"my_documents\",\n",
        "    vectors_config={\"dense\": VectorParams(size=3072, distance=Distance.COSINE)},\n",
        "    sparse_vectors_config={\n",
        "        \"sparse\": SparseVectorParams(index=models.SparseIndexParams(on_disk=False))\n",
        "    },\n",
        ")\n",
        "\n",
        "qdrant = QdrantVectorStore(\n",
        "    client=client,\n",
        "    collection_name=\"my_documents\",\n",
        "    embedding=embeddings,\n",
        "    sparse_embedding=sparse_embeddings,\n",
        "    retrieval_mode=RetrievalMode.HYBRID,\n",
        "    vector_name=\"dense\",\n",
        "    sparse_vector_name=\"sparse\",\n",
        ")\n",
        "\n",
        "qdrant.add_documents(documents=documents, ids=uuids)\n",
        "\n",
        "query = \"How much money did the robbers steal?\"\n",
        "found_docs = qdrant.similarity_search(query)\n",
        "found_docs"
      ]
    },
    {
      "attachments": {},
      "cell_type": "markdown",
      "id": "1bda9bf5",
      "metadata": {},
      "source": [
        "如果你想执行相似性搜索并获取相应的得分，可以运行："
      ]
    },
    {
      "cell_type": "code",
      "execution_count": 12,
      "id": "8804a21d",
      "metadata": {
        "ExecuteTime": {
          "end_time": "2023-04-04T10:51:25.631585Z",
          "start_time": "2023-04-04T10:51:25.227384Z"
        }
      },
      "outputs": [
        {
          "name": "stdout",
          "output_type": "stream",
          "text": [
            "* [SIM=0.531834] The weather forecast for tomorrow is cloudy and overcast, with a high of 62 degrees. [{'source': 'news', '_id': '9e6ba50c-794f-4b88-94e5-411f15052a02', '_collection_name': 'demo_collection'}]\n"
          ]
        }
      ],
      "source": [
        "results = vector_store.similarity_search_with_score(\n",
        "    query=\"Will it be hot tomorrow\", k=1\n",
        ")\n",
        "for doc, score in results:\n",
        "    print(f\"* [SIM={score:3f}] {doc.page_content} [{doc.metadata}]\")"
      ]
    },
    {
      "attachments": {},
      "cell_type": "markdown",
      "id": "525e3582",
      "metadata": {},
      "source": [
        "要查看 `QdrantVectorStore` 可用的所有搜索函数的完整列表，请阅读[API 参考](https://python.langchain.com/api_reference/qdrant/qdrant/langchain_qdrant.qdrant.QdrantVectorStore.html)。\n\n### 元数据过滤\n\nQdrant 拥有一个[广泛的过滤系统](https://qdrant.tech/documentation/concepts/filtering/)，并支持丰富的数据类型。通过向 `similarity_search_with_score` 和 `similarity_search` 方法传递附加参数，也可以在 Langchain 中使用这些过滤器。"
      ]
    },
    {
      "cell_type": "code",
      "execution_count": 14,
      "id": "dc7cffc8",
      "metadata": {},
      "outputs": [
        {
          "name": "stdout",
          "output_type": "stream",
          "text": [
            "* The top 10 soccer players in the world right now. [{'source': 'website', '_id': 'b0964ab5-5a14-47b4-a983-37fa5c5bd154', '_collection_name': 'demo_collection'}]\n"
          ]
        }
      ],
      "source": [
        "from qdrant_client import models\n",
        "\n",
        "results = vector_store.similarity_search(\n",
        "    query=\"Who are the best soccer players in the world?\",\n",
        "    k=1,\n",
        "    filter=models.Filter(\n",
        "        should=[\n",
        "            models.FieldCondition(\n",
        "                key=\"page_content\",\n",
        "                match=models.MatchValue(\n",
        "                    value=\"The top 10 soccer players in the world right now.\"\n",
        "                ),\n",
        "            ),\n",
        "        ]\n",
        "    ),\n",
        ")\n",
        "for doc in results:\n",
        "    print(f\"* {doc.page_content} [{doc.metadata}]\")"
      ]
    },
    {
      "attachments": {},
      "cell_type": "markdown",
      "id": "691a82d6",
      "metadata": {},
      "source": [
        "### 查询以检索器形式呈现\n\n您还可以将向量存储转换为检索器，以便在您的链中更轻松地使用。"
      ]
    },
    {
      "cell_type": "code",
      "execution_count": 15,
      "id": "9427195f",
      "metadata": {
        "ExecuteTime": {
          "end_time": "2023-04-04T10:51:26.031451Z",
          "start_time": "2023-04-04T10:51:26.018763Z"
        }
      },
      "outputs": [
        {
          "data": {
            "text/plain": [
              "[Document(metadata={'source': 'news', '_id': '50d8d6ee-69bf-4173-a6a2-b254e9928965', '_collection_name': 'demo_collection'}, page_content='Robbers broke into the city bank and stole $1 million in cash.')]"
            ]
          },
          "execution_count": 15,
          "metadata": {},
          "output_type": "execute_result"
        }
      ],
      "source": [
        "retriever = vector_store.as_retriever(search_type=\"mmr\", search_kwargs={\"k\": 1})\n",
        "retriever.invoke(\"Stealing from the bank is a crime\")"
      ]
    },
    {
      "cell_type": "markdown",
      "id": "6ac07288",
      "metadata": {},
      "source": [
        "## 用于检索增强生成的使用方法\n\n有关如何将此向量存储用于检索增强生成（RAG）的指南，请参阅以下几节：\n\n- [教程](/docs/tutorials/)\n- [操作指南：使用 RAG 进行问答](https://python.langchain.com/docs/how_to/#qa-with-rag)\n- [检索概念文档](https://python.langchain.com/docs/concepts/retrieval)"
      ]
    },
    {
      "attachments": {},
      "cell_type": "markdown",
      "id": "0358ecde",
      "metadata": {},
      "source": [
        "## 自定义 Qdrant\n\nLangChain 应用中有选项可以使用现有的 Qdrant collection。在这种情况下，您可能需要定义如何将 Qdrant point 映射到 LangChain `Document`。\n\n### 命名向量\n\nQdrant 通过命名向量支持 [每个 point 的多个向量](https://qdrant.tech/documentation/concepts/collections/#collection-with-multiple-vectors)。如果您使用外部创建的 collection，或者希望使用命名不同的向量，可以通过提供其名称来配置。"
      ]
    },
    {
      "cell_type": "code",
      "execution_count": null,
      "id": "1f11adf8",
      "metadata": {
        "collapsed": false
      },
      "outputs": [],
      "source": [
        "from langchain_qdrant import RetrievalMode\n",
        "\n",
        "QdrantVectorStore.from_documents(\n",
        "    docs,\n",
        "    embedding=embeddings,\n",
        "    sparse_embedding=sparse_embeddings,\n",
        "    location=\":memory:\",\n",
        "    collection_name=\"my_documents_2\",\n",
        "    retrieval_mode=RetrievalMode.HYBRID,\n",
        "    vector_name=\"custom_vector\",\n",
        "    sparse_vector_name=\"custom_sparse_vector\",\n",
        ")"
      ]
    },
    {
      "cell_type": "markdown",
      "id": "b2350093",
      "metadata": {
        "collapsed": false
      },
      "source": [
        "### 元数据\n\nQdrant 会将你的向量嵌入与可选的类 JSON 的载荷（payload）一起存储。载荷是可选的，但由于 LangChain 假定嵌入是根据文档生成的，我们会保留上下文数据，以便你也能提取原始文本。\n\n默认情况下，你的文档将以以下载荷结构存储：\n\n```json\n{\n    \"page_content\": \"Lorem ipsum dolor sit amet\",\n    \"metadata\": {\n        \"foo\": \"bar\"\n    }\n}\n```\n\n然而，你也可以决定为页面内容和元数据使用不同的键。如果你已有想重用的集合，这会很有用。"
      ]
    },
    {
      "cell_type": "code",
      "execution_count": null,
      "id": "e4d6baf9",
      "metadata": {
        "ExecuteTime": {
          "end_time": "2023-04-04T11:08:31.739141Z",
          "start_time": "2023-04-04T11:08:30.229748Z"
        }
      },
      "outputs": [],
      "source": [
        "QdrantVectorStore.from_documents(\n",
        "    docs,\n",
        "    embeddings,\n",
        "    location=\":memory:\",\n",
        "    collection_name=\"my_documents_2\",\n",
        "    content_payload_key=\"my_page_content_key\",\n",
        "    metadata_payload_key=\"my_meta\",\n",
        ")"
      ]
    },
    {
      "cell_type": "markdown",
      "id": "2300e785",
      "metadata": {},
      "source": [
        "## API 参考\n\n有关 `QdrantVectorStore` 所有功能和配置的详细文档，请访问 API 参考：https://python.langchain.com/api_reference/qdrant/qdrant/langchain_qdrant.qdrant.QdrantVectorStore.html"
      ]
    }
  ],
  "metadata": {
    "kernelspec": {
      "display_name": "Python 3 (ipykernel)",
      "language": "python",
      "name": "python3"
    },
    "language_info": {
      "codemirror_mode": {
        "name": "ipython",
        "version": 3
      },
      "file_extension": ".py",
      "mimetype": "text/x-python",
      "name": "python",
      "nbconvert_exporter": "python",
      "pygments_lexer": "ipython3",
      "version": "3.11.9"
    }
  },
  "nbformat": 4,
  "nbformat_minor": 5
}