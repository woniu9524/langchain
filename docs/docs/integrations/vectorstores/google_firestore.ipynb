{
  "cells": [
    {
      "cell_type": "raw",
      "id": "1957f5cb",
      "metadata": {},
      "source": [
        "---\n",
        "sidebar_label: Firestore\n",
        "---"
      ]
    },
    {
      "cell_type": "markdown",
      "id": "ef1f0986",
      "metadata": {},
      "source": [
        "# Google Firestore (原生模式)\n\n> [Firestore](https://cloud.google.com/firestore) 是一个无服务器的面向文档的数据库，可根据任何需求进行扩展。通过利用 Firestore 的 Langchain 集成，扩展您的数据库应用程序以构建 AI 驱动的体验。\n\n本笔记本将介绍如何使用 [Firestore](https://cloud.google.com/firestore) 来存储向量并使用 `FirestoreVectorStore` 类查询它们。\n\n[![在 Colab 中打开](https://colab.research.google.com/assets/colab-badge.svg)](https://colab.research.google.com/github/googleapis/langchain-google-firestore-python/blob/main/docs/vectorstores.ipynb)"
      ]
    },
    {
      "cell_type": "markdown",
      "id": "36fdc060",
      "metadata": {},
      "source": [
        "## 开始之前\n\n要运行此Notebook，您需要完成以下操作：\n\n*   [创建 Google Cloud 项目](https://developers.google.com/workspace/guides/create-project)\n*   [启用 Firestore API](https://console.cloud.google.com/flows/enableapi?apiid=firestore.googleapis.com)\n*   [创建 Firestore 数据库](https://cloud.google.com/firestore/docs/manage-databases)\n\n在 Notebook 的运行时环境中确认访问数据库后，填写以下值并运行单元格，然后再运行示例脚本。"
      ]
    },
    {
      "cell_type": "code",
      "execution_count": null,
      "id": "22e53b34",
      "metadata": {},
      "outputs": [],
      "source": [
        "# @markdown Please specify a source for demo purpose.\n",
        "COLLECTION_NAME = \"test\"  # @param {type:\"CollectionReference\"|\"string\"}"
      ]
    },
    {
      "cell_type": "markdown",
      "id": "e5d3d8e4",
      "metadata": {},
      "source": [
        "### 🦜🔗 库安装\n\n集成部分位于独立的 `langchain-google-firestore` 包中，因此我们需要安装它。在本笔记本中，我们还将安装 `langchain-google-genai` 来使用 Google Generative AI 嵌入。"
      ]
    },
    {
      "cell_type": "code",
      "execution_count": null,
      "id": "75510ef7",
      "metadata": {},
      "outputs": [],
      "source": [
        "%pip install -upgrade --quiet langchain-google-firestore langchain-google-vertexai"
      ]
    },
    {
      "cell_type": "markdown",
      "id": "2664ca45",
      "metadata": {},
      "source": [
        "**仅限 Colab**: 取消注释下面的单元格以重启内核，或使用按钮来重启内核。对于 Vertex AI Workbench，您可以使用顶部的按钮重启终端。"
      ]
    },
    {
      "cell_type": "code",
      "execution_count": null,
      "id": "ddfcd6b7",
      "metadata": {},
      "outputs": [],
      "source": [
        "# # Automatically restart kernel after installs so that your environment can access the new packages\n",
        "# import IPython\n",
        "\n",
        "# app = IPython.Application.instance()\n",
        "# app.kernel.do_shutdown(True)"
      ]
    },
    {
      "cell_type": "markdown",
      "id": "4ab63daa",
      "metadata": {},
      "source": [
        "### ☁ 设置您的 Google Cloud 项目\n设置您的 Google Cloud 项目，以便在此笔记本中利用 Google Cloud 资源。\n\n如果您不知道项目 ID，可以尝试以下方法：\n\n* 运行 `gcloud config list`。\n* 运行 `gcloud projects list`。\n* 查看支持页面：[查找项目 ID](https://support.google.com/googleapi/answer/7014113)。"
      ]
    },
    {
      "cell_type": "code",
      "execution_count": null,
      "id": "129f1f8d",
      "metadata": {},
      "outputs": [],
      "source": [
        "# @markdown Please fill in the value below with your Google Cloud project ID and then run the cell.\n",
        "\n",
        "PROJECT_ID = \"extensions-testing\"  # @param {type:\"string\"}\n",
        "\n",
        "# Set the project id\n",
        "!gcloud config set project {PROJECT_ID}"
      ]
    },
    {
      "cell_type": "markdown",
      "id": "ccd32ce5",
      "metadata": {},
      "source": [
        "### 🔐 身份验证\n\n验证您笔记本当前登录的 IAM 用户身份，以便访问您的 Google Cloud 项目。\n\n- 如果您正在使用 Colab 运行此笔记本，请使用下面的单元格并继续。\n- 如果您正在使用 Vertex AI Workbench，请参阅此处的设置说明：[https://github.com/GoogleCloudPlatform/generative-ai/tree/main/setup-env](https://github.com/GoogleCloudPlatform/generative-ai/tree/main/setup-env)。"
      ]
    },
    {
      "cell_type": "code",
      "execution_count": null,
      "id": "4b5793e7",
      "metadata": {},
      "outputs": [],
      "source": [
        "from google.colab import auth\n",
        "\n",
        "auth.authenticate_user()"
      ]
    },
    {
      "cell_type": "markdown",
      "id": "2cade39f",
      "metadata": {},
      "source": [
        "# 基本用法"
      ]
    },
    {
      "cell_type": "markdown",
      "id": "580e6f96",
      "metadata": {},
      "source": [
        "### 初始化 FirestoreVectorStore\n\n`FirestoreVectorStore` 允许您将新向量存储在 Firestore 数据库中。您可以使用它来存储来自任何模型的嵌入，包括来自 Google Generative AI 的模型。"
      ]
    },
    {
      "cell_type": "code",
      "execution_count": null,
      "id": "dc37144c-208d-4ab3-9f3a-0407a69fe052",
      "metadata": {
        "tags": []
      },
      "outputs": [],
      "source": [
        "from langchain_google_firestore import FirestoreVectorStore\n",
        "from langchain_google_vertexai import VertexAIEmbeddings\n",
        "\n",
        "embedding = VertexAIEmbeddings(\n",
        "    model_name=\"textembedding-gecko@latest\",\n",
        "    project=PROJECT_ID,\n",
        ")\n",
        "\n",
        "# Sample data\n",
        "ids = [\"apple\", \"banana\", \"orange\"]\n",
        "fruits_texts = ['{\"name\": \"apple\"}', '{\"name\": \"banana\"}', '{\"name\": \"orange\"}']\n",
        "\n",
        "# Create a vector store\n",
        "vector_store = FirestoreVectorStore(\n",
        "    collection=\"fruits\",\n",
        "    embedding=embedding,\n",
        ")\n",
        "\n",
        "# Add the fruits to the vector store\n",
        "vector_store.add_texts(fruits_texts, ids=ids)"
      ]
    },
    {
      "cell_type": "markdown",
      "id": "f8a4d7f7",
      "metadata": {},
      "source": [
        "作为一种简写方式，您可以使用 `from_texts` 和 `from_documents` 方法在单个步骤中初始化并添加向量。"
      ]
    },
    {
      "cell_type": "code",
      "execution_count": null,
      "id": "0bb6745e",
      "metadata": {},
      "outputs": [],
      "source": [
        "vector_store = FirestoreVectorStore.from_texts(\n",
        "    collection=\"fruits\",\n",
        "    texts=fruits_texts,\n",
        "    embedding=embedding,\n",
        ")"
      ]
    },
    {
      "cell_type": "code",
      "execution_count": null,
      "id": "f86024b9",
      "metadata": {},
      "outputs": [],
      "source": [
        "from langchain_core.documents import Document\n",
        "\n",
        "fruits_docs = [Document(page_content=fruit) for fruit in fruits_texts]\n",
        "\n",
        "vector_store = FirestoreVectorStore.from_documents(\n",
        "    collection=\"fruits\",\n",
        "    documents=fruits_docs,\n",
        "    embedding=embedding,\n",
        ")"
      ]
    },
    {
      "cell_type": "markdown",
      "id": "942911a8",
      "metadata": {},
      "source": [
        "### 删除向量"
      ]
    },
    {
      "cell_type": "markdown",
      "id": "ee1d8090",
      "metadata": {},
      "source": [
        "您可以使用 `delete` 方法从数据库中删除带有向量的文档。您需要提供要删除的向量的文档 ID。这将从数据库中删除整个文档，包括它可能拥有的任何其他字段。"
      ]
    },
    {
      "cell_type": "code",
      "execution_count": null,
      "id": "901f2ae7",
      "metadata": {},
      "outputs": [],
      "source": [
        "vector_store.delete(ids)"
      ]
    },
    {
      "cell_type": "markdown",
      "id": "bc8e555f",
      "metadata": {},
      "source": [
        "### 更新向量"
      ]
    },
    {
      "cell_type": "markdown",
      "id": "af734e8f",
      "metadata": {},
      "source": [
        "更新向量与添加向量类似。您可以使用 `add` 方法，通过提供文档 ID 和新向量来更新文档的向量。"
      ]
    },
    {
      "cell_type": "code",
      "execution_count": null,
      "id": "cb2aadb7",
      "metadata": {},
      "outputs": [],
      "source": [
        "fruit_to_update = ['{\"name\": \"apple\",\"price\": 12}']\n",
        "apple_id = \"apple\"\n",
        "\n",
        "vector_store.add_texts(fruit_to_update, ids=[apple_id])"
      ]
    },
    {
      "cell_type": "markdown",
      "id": "16342b7a",
      "metadata": {},
      "source": [
        "## 相似性搜索\n\n您可以使用 `FirestoreVectorStore` 对存储的向量执行相似性搜索。这对于查找相似的文档或文本非常有用。"
      ]
    },
    {
      "cell_type": "code",
      "execution_count": null,
      "id": "44d1b94e",
      "metadata": {},
      "outputs": [],
      "source": [
        "vector_store.similarity_search(\"I like fuji apples\", k=3)"
      ]
    },
    {
      "cell_type": "code",
      "execution_count": null,
      "id": "acb2f640",
      "metadata": {},
      "outputs": [],
      "source": [
        "vector_store.max_marginal_relevance_search(\"fuji\", 5)"
      ]
    },
    {
      "cell_type": "markdown",
      "id": "4ac1d391",
      "metadata": {},
      "source": [
        "您可以通过使用 `filters` 参数来添加搜索的预筛选。这对于按特定字段或值进行筛选非常有用。"
      ]
    },
    {
      "cell_type": "code",
      "execution_count": null,
      "id": "cd864d4f",
      "metadata": {},
      "outputs": [],
      "source": [
        "from google.cloud.firestore_v1.base_query import FieldFilter\n",
        "\n",
        "vector_store.max_marginal_relevance_search(\n",
        "    \"fuji\", 5, filters=FieldFilter(\"content\", \"==\", \"apple\")\n",
        ")"
      ]
    },
    {
      "cell_type": "markdown",
      "id": "9988c71d",
      "metadata": {},
      "source": [
        "### 自定义连接与认证"
      ]
    },
    {
      "cell_type": "code",
      "execution_count": null,
      "id": "6b9dfc65",
      "metadata": {},
      "outputs": [],
      "source": [
        "from google.api_core.client_options import ClientOptions\n",
        "from google.cloud import firestore\n",
        "from langchain_google_firestore import FirestoreVectorStore\n",
        "\n",
        "client_options = ClientOptions()\n",
        "client = firestore.Client(client_options=client_options)\n",
        "\n",
        "# Create a vector store\n",
        "vector_store = FirestoreVectorStore(\n",
        "    collection=\"fruits\",\n",
        "    embedding=embedding,\n",
        "    client=client,\n",
        ")"
      ]
    }
  ],
  "metadata": {
    "kernelspec": {
      "display_name": "Python 3 (ipykernel)",
      "language": "python",
      "name": "python3"
    },
    "language_info": {
      "codemirror_mode": {
        "name": "ipython",
        "version": 3
      },
      "file_extension": ".py",
      "mimetype": "text/x-python",
      "name": "python",
      "nbconvert_exporter": "python",
      "pygments_lexer": "ipython3",
      "version": "3.11.7"
    }
  },
  "nbformat": 4,
  "nbformat_minor": 5
}