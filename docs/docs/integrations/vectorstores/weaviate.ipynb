{
  "cells": [
    {
      "cell_type": "raw",
      "id": "1957f5cb",
      "metadata": {},
      "source": [
        "---\n",
        "sidebar_label: Weaviate\n",
        "---"
      ]
    },
    {
      "cell_type": "markdown",
      "id": "ef1f0986",
      "metadata": {},
      "source": [
        "# Weaviate\n\n本笔记本将介绍如何使用 `langchain-weaviate` 包在 LangChain 中开始使用 Weaviate 向量存储。\n\n> [Weaviate](https://weaviate.io/) 是一个开源向量数据库。它允许您存储来自您喜爱的 ML 模型的数据对象和向量嵌入，并无缝扩展到数十亿的数据对象。\n\n要使用此集成，您需要有一个正在运行的 Weaviate 数据库实例。\n\n## 最低版本要求\n\n此模块要求 Weaviate 版本为 `1.23.7` 或更高。但我们建议您使用最新版本的 Weaviate。\n\n## 连接到 Weaviate\n\n在本笔记本中，我们假设您有一个本地 Weaviate 实例运行在 `http://localhost:8080` 上，并且 50051 端口已开放用于 [gRPC 流量](https://weaviate.io/blog/grpc-performance-improvements)。因此，我们将使用以下方式连接到 Weaviate：\n\n```python\nweaviate_client = weaviate.connect_to_local()\n```\n\n### 其他部署选项\n\nWeaviate 可以通过 [多种方式部署](https://weaviate.io/developers/weaviate/starter-guides/which-weaviate)，例如使用 [Weaviate Cloud Services (WCS)](https://console.weaviate.cloud)，[Docker](https://weaviate.io/developers/weaviate/installation/docker-compose) 或 [Kubernetes](https://weaviate.io/developers/weaviate/installation/kubernetes)。\n\n如果您的 Weaviate 实例以其他方式部署，请在此处 [阅读更多](https://weaviate.io/developers/weaviate/client-libraries/python#instantiate-a-client) 关于连接到 Weaviate 的不同方法。您可以使用不同的 [帮助函数](https://weaviate.io/developers/weaviate/client-libraries/python#python-client-v4-helper-functions) 或 [创建自定义实例](https://weaviate.io/developers/weaviate/client-libraries/python#python-client-v4-explicit-connection)。\n\n> 请注意，您需要一个 `v4` 客户端 API，它将创建一个 `weaviate.WeaviateClient` 对象。\n\n### 身份验证\n\n某些 Weaviate 实例，例如在 WCS 上运行的实例，启用了身份验证，例如 API 密钥和/或用户名+密码身份验证。\n\n有关更多信息，请阅读 [客户端身份验证指南](https://weaviate.io/developers/weaviate/client-libraries/python#authentication)，以及 [深入的身份验证配置页面](https://weaviate.io/developers/weaviate/configuration/authentication)。"
      ]
    },
    {
      "cell_type": "markdown",
      "id": "4a8437b1",
      "metadata": {},
      "source": [
        "## 安装"
      ]
    },
    {
      "cell_type": "code",
      "execution_count": 1,
      "id": "d97b55c2",
      "metadata": {},
      "outputs": [],
      "source": [
        "# install package\n",
        "# %pip install -Uqq langchain-weaviate\n",
        "# %pip install openai tiktoken langchain"
      ]
    },
    {
      "cell_type": "markdown",
      "id": "36fdc060",
      "metadata": {},
      "source": [
        "## 环境设置\n\n本 Notebook 通过 `OpenAIEmbeddings` 使用 OpenAI API。我们建议您获取一个 OpenAI API 密钥，并将其导出为名为 `OPENAI_API_KEY` 的环境变量。\n\n完成此操作后，您的 OpenAI API 密钥将被自动读取。如果您不熟悉环境变量，请在此处 [here](https://docs.python.org/3/library/os.html#os.environ) 或在此指南 [this guide](https://www.twilio.com/en-us/blog/environment-variables-python) 中了解更多。"
      ]
    },
    {
      "cell_type": "markdown",
      "id": "a8e3a83f",
      "metadata": {},
      "source": [
        "# 用法"
      ]
    },
    {
      "cell_type": "markdown",
      "id": "6efee7cd",
      "metadata": {},
      "source": [
        "## 按相似度查找对象"
      ]
    },
    {
      "cell_type": "markdown",
      "id": "dc37144c-208d-4ab3-9f3a-0407a69fe052",
      "metadata": {
        "tags": []
      },
      "source": [
        "下面是一个如何根据与查询的相似性来查找对象的示例，涵盖了从数据导入到查询 Weaviate 实例的整个过程。\n\n### 第一步：数据导入\n\n首先，我们将通过加载和分块长文本文件的内容来创建需要添加到 `Weaviate` 的数据。"
      ]
    },
    {
      "cell_type": "code",
      "execution_count": 2,
      "id": "9d0ab00c",
      "metadata": {},
      "outputs": [],
      "source": [
        "from langchain_community.document_loaders import TextLoader\n",
        "from langchain_openai import OpenAIEmbeddings\n",
        "from langchain_text_splitters import CharacterTextSplitter"
      ]
    },
    {
      "cell_type": "code",
      "execution_count": 3,
      "id": "4618779d",
      "metadata": {},
      "outputs": [
        {
          "name": "stderr",
          "output_type": "stream",
          "text": [
            "/workspaces/langchain-weaviate/.venv/lib/python3.12/site-packages/langchain_core/_api/deprecation.py:117: LangChainDeprecationWarning: The class `langchain_community.embeddings.openai.OpenAIEmbeddings` was deprecated in langchain-community 0.1.0 and will be removed in 0.2.0. An updated version of the class exists in the langchain-openai package and should be used instead. To use it run `pip install -U langchain-openai` and import as `from langchain_openai import OpenAIEmbeddings`.\n",
            "  warn_deprecated(\n"
          ]
        }
      ],
      "source": [
        "loader = TextLoader(\"state_of_the_union.txt\")\n",
        "documents = loader.load()\n",
        "text_splitter = CharacterTextSplitter(chunk_size=1000, chunk_overlap=0)\n",
        "docs = text_splitter.split_documents(documents)\n",
        "\n",
        "embeddings = OpenAIEmbeddings()"
      ]
    },
    {
      "cell_type": "markdown",
      "id": "ae774cf5",
      "metadata": {},
      "source": [
        "现在，我们可以导入数据了。\n\n为此，请连接到 Weaviate 实例并使用返回的 `weaviate_client` 对象。例如，可以按如下方式导入文档："
      ]
    },
    {
      "cell_type": "code",
      "execution_count": 4,
      "id": "3fbda8c4",
      "metadata": {},
      "outputs": [],
      "source": [
        "import weaviate\n",
        "from langchain_weaviate.vectorstores import WeaviateVectorStore"
      ]
    },
    {
      "cell_type": "code",
      "execution_count": 5,
      "id": "e06f64b7",
      "metadata": {},
      "outputs": [
        {
          "name": "stderr",
          "output_type": "stream",
          "text": [
            "/workspaces/langchain-weaviate/.venv/lib/python3.12/site-packages/pydantic/main.py:1024: PydanticDeprecatedSince20: The `dict` method is deprecated; use `model_dump` instead. Deprecated in Pydantic V2.0 to be removed in V3.0. See Pydantic V2 Migration Guide at https://errors.pydantic.dev/2.6/migration/\n",
            "  warnings.warn('The `dict` method is deprecated; use `model_dump` instead.', category=PydanticDeprecatedSince20)\n"
          ]
        }
      ],
      "source": [
        "weaviate_client = weaviate.connect_to_local()\n",
        "db = WeaviateVectorStore.from_documents(docs, embeddings, client=weaviate_client)"
      ]
    },
    {
      "cell_type": "markdown",
      "id": "abe29115",
      "metadata": {},
      "source": [
        "### 步骤 2：执行搜索"
      ]
    },
    {
      "cell_type": "markdown",
      "id": "2799f5a3",
      "metadata": {},
      "source": [
        "现在我们可以执行相似性搜索了。这将根据存储在 Weaviate 中的 embedding 和从查询文本生成的等效 embedding，返回与查询文本最相似的文档。"
      ]
    },
    {
      "cell_type": "code",
      "execution_count": 6,
      "id": "ebc3aa1e",
      "metadata": {},
      "outputs": [
        {
          "name": "stdout",
          "output_type": "stream",
          "text": [
            "\n",
            "Document 1:\n",
            "Tonight. I call on the Senate to: Pass the Freedom to Vote Act. Pass the John Lewis Voting Rights Ac...\n",
            "\n",
            "Document 2:\n",
            "And so many families are living paycheck to paycheck, struggling to keep up with the rising cost of ...\n",
            "\n",
            "Document 3:\n",
            "Vice President Harris and I ran for office with a new economic vision for America. \n",
            "\n",
            "Invest in Ameri...\n",
            "\n",
            "Document 4:\n",
            "A former top litigator in private practice. A former federal public defender. And from a family of p...\n"
          ]
        }
      ],
      "source": [
        "query = \"What did the president say about Ketanji Brown Jackson\"\n",
        "docs = db.similarity_search(query)\n",
        "\n",
        "# Print the first 100 characters of each result\n",
        "for i, doc in enumerate(docs):\n",
        "    print(f\"\\nDocument {i+1}:\")\n",
        "    print(doc.page_content[:100] + \"...\")"
      ]
    },
    {
      "cell_type": "markdown",
      "id": "ca1134ef",
      "metadata": {},
      "source": [
        "您还可以添加过滤器，根据过滤条件包含或排除结果。（请参阅[更多过滤器示例](https://weaviate.io/developers/weaviate/search/filters)）。"
      ]
    },
    {
      "cell_type": "code",
      "execution_count": 7,
      "id": "d1210f90",
      "metadata": {},
      "outputs": [
        {
          "name": "stdout",
          "output_type": "stream",
          "text": [
            "0\n",
            "4\n"
          ]
        }
      ],
      "source": [
        "from weaviate.classes.query import Filter\n",
        "\n",
        "for filter_str in [\"blah.txt\", \"state_of_the_union.txt\"]:\n",
        "    search_filter = Filter.by_property(\"source\").equal(filter_str)\n",
        "    filtered_search_results = db.similarity_search(query, filters=search_filter)\n",
        "    print(len(filtered_search_results))\n",
        "    if filter_str == \"state_of_the_union.txt\":\n",
        "        assert len(filtered_search_results) > 0  # There should be at least one result\n",
        "    else:\n",
        "        assert len(filtered_search_results) == 0  # There should be no results"
      ]
    },
    {
      "cell_type": "markdown",
      "id": "2646a25f",
      "metadata": {},
      "source": [
        "还可以提供 `k`，即返回结果的上限数量。"
      ]
    },
    {
      "cell_type": "code",
      "execution_count": 8,
      "id": "6e53d7d5",
      "metadata": {},
      "outputs": [],
      "source": [
        "search_filter = Filter.by_property(\"source\").equal(\"state_of_the_union.txt\")\n",
        "filtered_search_results = db.similarity_search(query, filters=search_filter, k=3)\n",
        "assert len(filtered_search_results) <= 3"
      ]
    },
    {
      "cell_type": "markdown",
      "id": "26bfd9bc",
      "metadata": {},
      "source": [
        "### 量化结果相似度"
      ]
    },
    {
      "cell_type": "markdown",
      "id": "3b286d60",
      "metadata": {},
      "source": [
        "您可以选择性地检索相关性“分数”。这是一个相对分数，表示在搜索结果池中特定搜索结果的优劣程度。\n\n请注意，这是一个相对分数，这意味着它不应用于确定相关性的阈值。但是，它可以用于比较整个搜索结果集中不同搜索结果的相关性。"
      ]
    },
    {
      "cell_type": "code",
      "execution_count": 9,
      "id": "b3b4a2f4",
      "metadata": {},
      "outputs": [
        {
          "name": "stdout",
          "output_type": "stream",
          "text": [
            "0.935 : For that purpose we’ve mobilized American ground forces, air squadrons, and ship deployments to prot...\n",
            "0.500 : And built the strongest, freest, and most prosperous nation the world has ever known. \n",
            "\n",
            "Now is the h...\n",
            "0.462 : If you travel 20 miles east of Columbus, Ohio, you’ll find 1,000 empty acres of land. \n",
            "\n",
            "It won’t loo...\n",
            "0.450 : And my report is this: the State of the Union is strong—because you, the American people, are strong...\n",
            "0.442 : Tonight. I call on the Senate to: Pass the Freedom to Vote Act. Pass the John Lewis Voting Rights Ac...\n"
          ]
        }
      ],
      "source": [
        "docs = db.similarity_search_with_score(\"country\", k=5)\n",
        "\n",
        "for doc in docs:\n",
        "    print(f\"{doc[1]:.3f}\", \":\", doc[0].page_content[:100] + \"...\")"
      ]
    },
    {
      "cell_type": "markdown",
      "id": "8abf9adc",
      "metadata": {},
      "source": [
        "## 搜索机制"
      ]
    },
    {
      "cell_type": "markdown",
      "id": "d2d5b24a",
      "metadata": {},
      "source": [
        "`similarity_search` 使用 Weaviate 的 [混合搜索](https://weaviate.io/developers/weaviate/api/graphql/search-operators#hybrid)。\n\n混合搜索结合了向量搜索和关键词搜索，其中 `alpha` 是向量搜索的权重。`similarity_search` 函数允许您通过 kwargs 传递其他参数。有关可用参数，请参阅此 [参考文档](https://weaviate.io/developers/weaviate/api/graphql/search-operators#hybrid)。\n\n因此，您可以通过添加 `alpha=0` 来执行纯关键词搜索，如下所示："
      ]
    },
    {
      "cell_type": "code",
      "execution_count": 10,
      "id": "74a7bae0",
      "metadata": {},
      "outputs": [
        {
          "data": {
            "text/plain": [
              "Document(page_content='Tonight. I call on the Senate to: Pass the Freedom to Vote Act. Pass the John Lewis Voting Rights Act. And while you’re at it, pass the Disclose Act so Americans can know who is funding our elections. \\n\\nTonight, I’d like to honor someone who has dedicated his life to serve this country: Justice Stephen Breyer—an Army veteran, Constitutional scholar, and retiring Justice of the United States Supreme Court. Justice Breyer, thank you for your service. \\n\\nOne of the most serious constitutional responsibilities a President has is nominating someone to serve on the United States Supreme Court. \\n\\nAnd I did that 4 days ago, when I nominated Circuit Court of Appeals Judge Ketanji Brown Jackson. One of our nation’s top legal minds, who will continue Justice Breyer’s legacy of excellence.', metadata={'source': 'state_of_the_union.txt'})"
            ]
          },
          "execution_count": 10,
          "metadata": {},
          "output_type": "execute_result"
        }
      ],
      "source": [
        "docs = db.similarity_search(query, alpha=0)\n",
        "docs[0]"
      ]
    },
    {
      "cell_type": "markdown",
      "id": "a2b75761",
      "metadata": {},
      "source": [
        "## 持久化"
      ]
    },
    {
      "cell_type": "markdown",
      "id": "5f298bc0",
      "metadata": {},
      "source": [
        "通过 `langchain-weaviate` 添加的任何数据都将根据其配置在 Weaviate 中持久化。\n\n例如，WCS 实例被配置为无限期地持久化数据，而 Docker 实例可以设置为将数据持久化到卷中。了解更多关于 [Weaviate 的持久化](https://weaviate.io/developers/weaviate/configuration/persistence) 的信息。"
      ]
    },
    {
      "cell_type": "markdown",
      "id": "da874a61",
      "metadata": {},
      "source": [
        "## 多租户"
      ]
    },
    {
      "cell_type": "markdown",
      "id": "67a0719f",
      "metadata": {},
      "source": [
        "[多租户](https://weaviate.io/developers/weaviate/concepts/data#multi-tenancy)允许你在单个 Weaviate 实例中拥有大量隔离的数据集合，这些集合具有相同的集合配置。这对于多用户环境非常有用，例如构建 SaaS 应用，其中每个最终用户都将拥有自己的隔离数据集合。\n\n要使用多租户，矢量存储需要感知 `tenant` 参数。\n\n因此，在添加任何数据时，请提供 `tenant` 参数，如下所示。"
      ]
    },
    {
      "cell_type": "code",
      "execution_count": 11,
      "id": "8d365855",
      "metadata": {},
      "outputs": [
        {
          "name": "stderr",
          "output_type": "stream",
          "text": [
            "2024-Mar-26 03:40 PM - langchain_weaviate.vectorstores - INFO - Tenant Foo does not exist in index LangChain_30b9273d43b3492db4fb2aba2e0d6871. Creating tenant.\n"
          ]
        }
      ],
      "source": [
        "db_with_mt = WeaviateVectorStore.from_documents(\n",
        "    docs, embeddings, client=weaviate_client, tenant=\"Foo\"\n",
        ")"
      ]
    },
    {
      "cell_type": "markdown",
      "id": "2b3e6107",
      "metadata": {},
      "source": [
        "在执行查询时，也请提供 `tenant` 参数。"
      ]
    },
    {
      "cell_type": "code",
      "execution_count": 12,
      "id": "49659eb3",
      "metadata": {},
      "outputs": [
        {
          "data": {
            "text/plain": [
              "[Document(page_content='Tonight. I call on the Senate to: Pass the Freedom to Vote Act. Pass the John Lewis Voting Rights Act. And while you’re at it, pass the Disclose Act so Americans can know who is funding our elections. \\n\\nTonight, I’d like to honor someone who has dedicated his life to serve this country: Justice Stephen Breyer—an Army veteran, Constitutional scholar, and retiring Justice of the United States Supreme Court. Justice Breyer, thank you for your service. \\n\\nOne of the most serious constitutional responsibilities a President has is nominating someone to serve on the United States Supreme Court. \\n\\nAnd I did that 4 days ago, when I nominated Circuit Court of Appeals Judge Ketanji Brown Jackson. One of our nation’s top legal minds, who will continue Justice Breyer’s legacy of excellence.', metadata={'source': 'state_of_the_union.txt'}),\n",
              " Document(page_content='And so many families are living paycheck to paycheck, struggling to keep up with the rising cost of food, gas, housing, and so much more. \\n\\nI understand. \\n\\nI remember when my Dad had to leave our home in Scranton, Pennsylvania to find work. I grew up in a family where if the price of food went up, you felt it. \\n\\nThat’s why one of the first things I did as President was fight to pass the American Rescue Plan.  \\n\\nBecause people were hurting. We needed to act, and we did. \\n\\nFew pieces of legislation have done more in a critical moment in our history to lift us out of crisis. \\n\\nIt fueled our efforts to vaccinate the nation and combat COVID-19. It delivered immediate economic relief for tens of millions of Americans.  \\n\\nHelped put food on their table, keep a roof over their heads, and cut the cost of health insurance. \\n\\nAnd as my Dad used to say, it gave people a little breathing room.', metadata={'source': 'state_of_the_union.txt'}),\n",
              " Document(page_content='He and his Dad both have Type 1 diabetes, which means they need insulin every day. Insulin costs about $10 a vial to make.  \\n\\nBut drug companies charge families like Joshua and his Dad up to 30 times more. I spoke with Joshua’s mom. \\n\\nImagine what it’s like to look at your child who needs insulin and have no idea how you’re going to pay for it.  \\n\\nWhat it does to your dignity, your ability to look your child in the eye, to be the parent you expect to be. \\n\\nJoshua is here with us tonight. Yesterday was his birthday. Happy birthday, buddy.  \\n\\nFor Joshua, and for the 200,000 other young people with Type 1 diabetes, let’s cap the cost of insulin at $35 a month so everyone can afford it.  \\n\\nDrug companies will still do very well. And while we’re at it let Medicare negotiate lower prices for prescription drugs, like the VA already does.', metadata={'source': 'state_of_the_union.txt'}),\n",
              " Document(page_content='Putin’s latest attack on Ukraine was premeditated and unprovoked. \\n\\nHe rejected repeated efforts at diplomacy. \\n\\nHe thought the West and NATO wouldn’t respond. And he thought he could divide us at home. Putin was wrong. We were ready.  Here is what we did.   \\n\\nWe prepared extensively and carefully. \\n\\nWe spent months building a coalition of other freedom-loving nations from Europe and the Americas to Asia and Africa to confront Putin. \\n\\nI spent countless hours unifying our European allies. We shared with the world in advance what we knew Putin was planning and precisely how he would try to falsely justify his aggression.  \\n\\nWe countered Russia’s lies with truth.   \\n\\nAnd now that he has acted the free world is holding him accountable. \\n\\nAlong with twenty-seven members of the European Union including France, Germany, Italy, as well as countries like the United Kingdom, Canada, Japan, Korea, Australia, New Zealand, and many others, even Switzerland.', metadata={'source': 'state_of_the_union.txt'})]"
            ]
          },
          "execution_count": 12,
          "metadata": {},
          "output_type": "execute_result"
        }
      ],
      "source": [
        "db_with_mt.similarity_search(query, tenant=\"Foo\")"
      ]
    },
    {
      "cell_type": "markdown",
      "id": "24ecf858",
      "metadata": {},
      "source": [
        "## 检索器选项"
      ]
    },
    {
      "cell_type": "markdown",
      "id": "68e3757a",
      "metadata": {},
      "source": [
        "Weaviate 也可以用作检索器"
      ]
    },
    {
      "cell_type": "markdown",
      "id": "f2a8712d",
      "metadata": {},
      "source": [
        "### 最大化边际相关性搜索 (MMR)"
      ]
    },
    {
      "cell_type": "markdown",
      "id": "c92add51",
      "metadata": {},
      "source": [
        "除了在 retriever 对象中使用 similaritysearch 外，你还可以使用 `mmr`。"
      ]
    },
    {
      "cell_type": "code",
      "execution_count": 13,
      "id": "cb302651",
      "metadata": {},
      "outputs": [
        {
          "name": "stderr",
          "output_type": "stream",
          "text": [
            "/workspaces/langchain-weaviate/.venv/lib/python3.12/site-packages/pydantic/main.py:1024: PydanticDeprecatedSince20: The `dict` method is deprecated; use `model_dump` instead. Deprecated in Pydantic V2.0 to be removed in V3.0. See Pydantic V2 Migration Guide at https://errors.pydantic.dev/2.6/migration/\n",
            "  warnings.warn('The `dict` method is deprecated; use `model_dump` instead.', category=PydanticDeprecatedSince20)\n"
          ]
        },
        {
          "data": {
            "text/plain": [
              "Document(page_content='Tonight. I call on the Senate to: Pass the Freedom to Vote Act. Pass the John Lewis Voting Rights Act. And while you’re at it, pass the Disclose Act so Americans can know who is funding our elections. \\n\\nTonight, I’d like to honor someone who has dedicated his life to serve this country: Justice Stephen Breyer—an Army veteran, Constitutional scholar, and retiring Justice of the United States Supreme Court. Justice Breyer, thank you for your service. \\n\\nOne of the most serious constitutional responsibilities a President has is nominating someone to serve on the United States Supreme Court. \\n\\nAnd I did that 4 days ago, when I nominated Circuit Court of Appeals Judge Ketanji Brown Jackson. One of our nation’s top legal minds, who will continue Justice Breyer’s legacy of excellence.', metadata={'source': 'state_of_the_union.txt'})"
            ]
          },
          "execution_count": 13,
          "metadata": {},
          "output_type": "execute_result"
        }
      ],
      "source": [
        "retriever = db.as_retriever(search_type=\"mmr\")\n",
        "retriever.invoke(query)[0]"
      ]
    },
    {
      "cell_type": "markdown",
      "id": "22f52ca4",
      "metadata": {},
      "source": [
        "# 与 LangChain 一起使用"
      ]
    },
    {
      "cell_type": "markdown",
      "id": "66690c78",
      "metadata": {},
      "source": [
        "大型语言模型（LLMs）的一个已知局限性是，它们的训练数据可能已过时，或者不包含您所需的特定领域知识。\n\n请看下面的示例："
      ]
    },
    {
      "cell_type": "code",
      "execution_count": 14,
      "id": "f74e20d8",
      "metadata": {},
      "outputs": [
        {
          "name": "stderr",
          "output_type": "stream",
          "text": [
            "/workspaces/langchain-weaviate/.venv/lib/python3.12/site-packages/langchain_core/_api/deprecation.py:117: LangChainDeprecationWarning: The class `langchain_community.chat_models.openai.ChatOpenAI` was deprecated in langchain-community 0.0.10 and will be removed in 0.2.0. An updated version of the class exists in the langchain-openai package and should be used instead. To use it run `pip install -U langchain-openai` and import as `from langchain_openai import ChatOpenAI`.\n",
            "  warn_deprecated(\n",
            "/workspaces/langchain-weaviate/.venv/lib/python3.12/site-packages/langchain_core/_api/deprecation.py:117: LangChainDeprecationWarning: The function `predict` was deprecated in LangChain 0.1.7 and will be removed in 0.2.0. Use invoke instead.\n",
            "  warn_deprecated(\n",
            "/workspaces/langchain-weaviate/.venv/lib/python3.12/site-packages/pydantic/main.py:1024: PydanticDeprecatedSince20: The `dict` method is deprecated; use `model_dump` instead. Deprecated in Pydantic V2.0 to be removed in V3.0. See Pydantic V2 Migration Guide at https://errors.pydantic.dev/2.6/migration/\n",
            "  warnings.warn('The `dict` method is deprecated; use `model_dump` instead.', category=PydanticDeprecatedSince20)\n"
          ]
        },
        {
          "data": {
            "text/plain": [
              "\"I'm sorry, I cannot provide real-time information as my responses are generated based on a mixture of licensed data, data created by human trainers, and publicly available data. The last update was in October 2021.\""
            ]
          },
          "execution_count": 14,
          "metadata": {},
          "output_type": "execute_result"
        }
      ],
      "source": [
        "from langchain_openai import ChatOpenAI\n",
        "\n",
        "llm = ChatOpenAI(model=\"gpt-3.5-turbo\", temperature=0)\n",
        "llm.predict(\"What did the president say about Justice Breyer\")"
      ]
    },
    {
      "cell_type": "markdown",
      "id": "829720ad",
      "metadata": {},
      "source": [
        "向量数据库通过提供一种存储和检索相关信息的方式来补充 LLM。这使得您能够结合 LLM 的推理和语言能力以及向量数据库检索相关信息的能力，从而结合两者的优势。\n\n结合 LLM 和向量数据库的两个著名应用是：\n- 问题解答\n- 检索增强生成 (RAG)"
      ]
    },
    {
      "cell_type": "markdown",
      "id": "0ae85eb4",
      "metadata": {},
      "source": [
        "### 回答问题（包含来源）"
      ]
    },
    {
      "cell_type": "markdown",
      "id": "902d8ba7",
      "metadata": {},
      "source": [
        "在 langchain 中，可以通过使用向量存储来增强问答功能。让我们来看看如何做到这一点。\n\n本节将使用 `RetrievalQAWithSourcesChain`，它会从索引中查找文档。\n\n首先，我们将再次对文本进行分块，并将它们导入 Weaviate 向量存储。"
      ]
    },
    {
      "cell_type": "code",
      "execution_count": 15,
      "id": "ad91ded1",
      "metadata": {},
      "outputs": [],
      "source": [
        "from langchain.chains import RetrievalQAWithSourcesChain\n",
        "from langchain_openai import OpenAI"
      ]
    },
    {
      "cell_type": "code",
      "execution_count": 16,
      "id": "2438d702",
      "metadata": {},
      "outputs": [],
      "source": [
        "with open(\"state_of_the_union.txt\") as f:\n",
        "    state_of_the_union = f.read()\n",
        "text_splitter = CharacterTextSplitter(chunk_size=1000, chunk_overlap=0)\n",
        "texts = text_splitter.split_text(state_of_the_union)"
      ]
    },
    {
      "cell_type": "code",
      "execution_count": 17,
      "id": "b0e106ab",
      "metadata": {},
      "outputs": [],
      "source": [
        "docsearch = WeaviateVectorStore.from_texts(\n",
        "    texts,\n",
        "    embeddings,\n",
        "    client=weaviate_client,\n",
        "    metadatas=[{\"source\": f\"{i}-pl\"} for i in range(len(texts))],\n",
        ")"
      ]
    },
    {
      "cell_type": "markdown",
      "id": "546bc958",
      "metadata": {},
      "source": [
        "现在我们可以构建链条，并指定 retriever："
      ]
    },
    {
      "cell_type": "code",
      "execution_count": 18,
      "id": "86bbb953",
      "metadata": {},
      "outputs": [
        {
          "name": "stderr",
          "output_type": "stream",
          "text": [
            "/workspaces/langchain-weaviate/.venv/lib/python3.12/site-packages/langchain_core/_api/deprecation.py:117: LangChainDeprecationWarning: The class `langchain_community.llms.openai.OpenAI` was deprecated in langchain-community 0.0.10 and will be removed in 0.2.0. An updated version of the class exists in the langchain-openai package and should be used instead. To use it run `pip install -U langchain-openai` and import as `from langchain_openai import OpenAI`.\n",
            "  warn_deprecated(\n"
          ]
        }
      ],
      "source": [
        "chain = RetrievalQAWithSourcesChain.from_chain_type(\n",
        "    OpenAI(temperature=0), chain_type=\"stuff\", retriever=docsearch.as_retriever()\n",
        ")"
      ]
    },
    {
      "cell_type": "markdown",
      "id": "f8371444",
      "metadata": {},
      "source": [
        "然后运行链条，提出问题："
      ]
    },
    {
      "cell_type": "code",
      "execution_count": 19,
      "id": "5c38cc39",
      "metadata": {},
      "outputs": [
        {
          "name": "stderr",
          "output_type": "stream",
          "text": [
            "/workspaces/langchain-weaviate/.venv/lib/python3.12/site-packages/langchain_core/_api/deprecation.py:117: LangChainDeprecationWarning: The function `__call__` was deprecated in LangChain 0.1.0 and will be removed in 0.2.0. Use invoke instead.\n",
            "  warn_deprecated(\n",
            "/workspaces/langchain-weaviate/.venv/lib/python3.12/site-packages/pydantic/main.py:1024: PydanticDeprecatedSince20: The `dict` method is deprecated; use `model_dump` instead. Deprecated in Pydantic V2.0 to be removed in V3.0. See Pydantic V2 Migration Guide at https://errors.pydantic.dev/2.6/migration/\n",
            "  warnings.warn('The `dict` method is deprecated; use `model_dump` instead.', category=PydanticDeprecatedSince20)\n",
            "/workspaces/langchain-weaviate/.venv/lib/python3.12/site-packages/pydantic/main.py:1024: PydanticDeprecatedSince20: The `dict` method is deprecated; use `model_dump` instead. Deprecated in Pydantic V2.0 to be removed in V3.0. See Pydantic V2 Migration Guide at https://errors.pydantic.dev/2.6/migration/\n",
            "  warnings.warn('The `dict` method is deprecated; use `model_dump` instead.', category=PydanticDeprecatedSince20)\n"
          ]
        },
        {
          "data": {
            "text/plain": [
              "{'answer': ' The president thanked Justice Stephen Breyer for his service and announced his nomination of Judge Ketanji Brown Jackson to the Supreme Court.\\n',\n",
              " 'sources': '31-pl'}"
            ]
          },
          "execution_count": 19,
          "metadata": {},
          "output_type": "execute_result"
        }
      ],
      "source": [
        "chain(\n",
        "    {\"question\": \"What did the president say about Justice Breyer\"},\n",
        "    return_only_outputs=True,\n",
        ")"
      ]
    },
    {
      "cell_type": "markdown",
      "id": "fecab3b5",
      "metadata": {},
      "source": [
        "### 检索增强生成\n\n大型语言模型和向量存储库相结合的另一个非常流行的应用是检索增强生成（RAG）。 这是一种利用检索器从向量存储库中查找相关信息，然后利用大型语言模型根据检索到的数据和提示生成输出的技术。\n\n我们从类似的设置开始："
      ]
    },
    {
      "cell_type": "code",
      "execution_count": 20,
      "id": "33b0a9d3",
      "metadata": {},
      "outputs": [],
      "source": [
        "with open(\"state_of_the_union.txt\") as f:\n",
        "    state_of_the_union = f.read()\n",
        "text_splitter = CharacterTextSplitter(chunk_size=1000, chunk_overlap=0)\n",
        "texts = text_splitter.split_text(state_of_the_union)"
      ]
    },
    {
      "cell_type": "code",
      "execution_count": 21,
      "id": "d2ade6ae",
      "metadata": {},
      "outputs": [],
      "source": [
        "docsearch = WeaviateVectorStore.from_texts(\n",
        "    texts,\n",
        "    embeddings,\n",
        "    client=weaviate_client,\n",
        "    metadatas=[{\"source\": f\"{i}-pl\"} for i in range(len(texts))],\n",
        ")\n",
        "\n",
        "retriever = docsearch.as_retriever()"
      ]
    },
    {
      "cell_type": "markdown",
      "id": "39413671",
      "metadata": {},
      "source": [
        "我们需要为 RAG 模型构建一个模板，以便将检索到的信息填充到模板中。"
      ]
    },
    {
      "cell_type": "code",
      "execution_count": 22,
      "id": "578570b8",
      "metadata": {},
      "outputs": [
        {
          "name": "stdout",
          "output_type": "stream",
          "text": [
            "input_variables=['context', 'question'] messages=[HumanMessagePromptTemplate(prompt=PromptTemplate(input_variables=['context', 'question'], template=\"You are an assistant for question-answering tasks. Use the following pieces of retrieved context to answer the question. If you don't know the answer, just say that you don't know. Use three sentences maximum and keep the answer concise.\\nQuestion: {question}\\nContext: {context}\\nAnswer:\\n\"))]\n"
          ]
        }
      ],
      "source": [
        "from langchain_core.prompts import ChatPromptTemplate\n",
        "\n",
        "template = \"\"\"You are an assistant for question-answering tasks. Use the following pieces of retrieved context to answer the question. If you don't know the answer, just say that you don't know. Use three sentences maximum and keep the answer concise.\n",
        "Question: {question}\n",
        "Context: {context}\n",
        "Answer:\n",
        "\"\"\"\n",
        "prompt = ChatPromptTemplate.from_template(template)\n",
        "\n",
        "print(prompt)"
      ]
    },
    {
      "cell_type": "code",
      "execution_count": 23,
      "id": "74982155",
      "metadata": {},
      "outputs": [],
      "source": [
        "from langchain_openai import ChatOpenAI\n",
        "\n",
        "llm = ChatOpenAI(model=\"gpt-3.5-turbo\", temperature=0)"
      ]
    },
    {
      "cell_type": "markdown",
      "id": "e47abe3a",
      "metadata": {},
      "source": [
        "运行单元格后，我们得到了非常相似的输出。"
      ]
    },
    {
      "cell_type": "code",
      "execution_count": 24,
      "id": "fe129bdd",
      "metadata": {},
      "outputs": [
        {
          "name": "stderr",
          "output_type": "stream",
          "text": [
            "/workspaces/langchain-weaviate/.venv/lib/python3.12/site-packages/pydantic/main.py:1024: PydanticDeprecatedSince20: The `dict` method is deprecated; use `model_dump` instead. Deprecated in Pydantic V2.0 to be removed in V3.0. See Pydantic V2 Migration Guide at https://errors.pydantic.dev/2.6/migration/\n",
            "  warnings.warn('The `dict` method is deprecated; use `model_dump` instead.', category=PydanticDeprecatedSince20)\n",
            "/workspaces/langchain-weaviate/.venv/lib/python3.12/site-packages/pydantic/main.py:1024: PydanticDeprecatedSince20: The `dict` method is deprecated; use `model_dump` instead. Deprecated in Pydantic V2.0 to be removed in V3.0. See Pydantic V2 Migration Guide at https://errors.pydantic.dev/2.6/migration/\n",
            "  warnings.warn('The `dict` method is deprecated; use `model_dump` instead.', category=PydanticDeprecatedSince20)\n"
          ]
        },
        {
          "data": {
            "text/plain": [
              "\"The president honored Justice Stephen Breyer for his service to the country as an Army veteran, Constitutional scholar, and retiring Justice of the United States Supreme Court. The president also mentioned nominating Circuit Court of Appeals Judge Ketanji Brown Jackson to continue Justice Breyer's legacy of excellence. The president expressed gratitude towards Justice Breyer and highlighted the importance of nominating someone to serve on the United States Supreme Court.\""
            ]
          },
          "execution_count": 24,
          "metadata": {},
          "output_type": "execute_result"
        }
      ],
      "source": [
        "from langchain_core.output_parsers import StrOutputParser\n",
        "from langchain_core.runnables import RunnablePassthrough\n",
        "\n",
        "rag_chain = (\n",
        "    {\"context\": retriever, \"question\": RunnablePassthrough()}\n",
        "    | prompt\n",
        "    | llm\n",
        "    | StrOutputParser()\n",
        ")\n",
        "\n",
        "rag_chain.invoke(\"What did the president say about Justice Breyer\")"
      ]
    },
    {
      "cell_type": "markdown",
      "id": "ce5a2553",
      "metadata": {},
      "source": [
        "但请注意，由于模板由您来构建，您可以根据自己的需求进行自定义。"
      ]
    },
    {
      "cell_type": "markdown",
      "id": "e7417ac5",
      "metadata": {},
      "source": [
        "### 总结与资源\n\nWeaviate 是一个可扩展、生产就绪的向量数据库。\n\n此次集成允许 Weaviate 与 LangChain 结合使用，通过强大的数据存储增强大型语言模型的能力。其可扩展性和生产就绪性使其成为 LangChain 应用程序的理想向量数据库选择，并将缩短您的产品上市时间。"
      ]
    }
  ],
  "metadata": {
    "kernelspec": {
      "display_name": "Python 3 (ipykernel)",
      "language": "python",
      "name": "python3"
    },
    "language_info": {
      "codemirror_mode": {
        "name": "ipython",
        "version": 3
      },
      "file_extension": ".py",
      "mimetype": "text/x-python",
      "name": "python",
      "nbconvert_exporter": "python",
      "pygments_lexer": "ipython3",
      "version": "3.10.12"
    }
  },
  "nbformat": 4,
  "nbformat_minor": 5
}