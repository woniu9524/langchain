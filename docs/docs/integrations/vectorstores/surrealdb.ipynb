{
  "cells": [
    {
      "cell_type": "markdown",
      "id": "ef1f0986",
      "metadata": {},
      "source": [
        "# SurrealDBVectorStore\n\n> [SurrealDB](https://surrealdb.com) 是一个统一的多模型数据库，专为人工智能系统而构建。它将结构化和非结构化数据（包括向量搜索、图遍历、关系查询、全文搜索、文档存储和时间序列数据）整合到一个支持 ACID 的单一引擎中，可从 3MB 的边缘二进制文件扩展到云端 PB 级集群。通过消除对多个专用存储的需求，SurrealDB 简化了架构，降低了延迟，并确保了 AI 工作负载的一致性。\n>\n> **SurrealDB 对 GenAI 系统的意义**\n> - **存储和内存的单一引擎：** 在单一系统中结合持久化存储和快速、对代理友好的内存，提供代理所需的所有数据，无需同步多个系统。\n> - **代理的单跳内存：** 在单个查询中运行向量搜索、图遍历、语义连接和事务性写入，使 LLM 代理能够快速、一致地访问内存，而无需将关系型、图形和向量数据库拼接在一起。\n> - **原地推理和实时更新：** SurrealDB 使代理能够紧邻数据进行推理，并接收毫秒级的新鲜更新，这对于实时推理和协作至关重要。\n> - **版本化的持久化上下文：** SurrealDB 支持时间旅行查询和版本化记录，允许代理审计或“重放”过去的 상태 以实现一致、可解释的推理。\n> - **即插即用的代理内存：** 将 AI 内存作为原生概念公开，可以轻松地将 SurrealDB 用作 AI 框架的即插即用后端。\n\n本笔记本介绍了如何开始使用 SurrealDB 向量存储。"
      ]
    },
    {
      "cell_type": "markdown",
      "id": "255057477211075c",
      "metadata": {},
      "source": [
        "## 设置\n\n您可以本地运行 SurrealDB，或者先注册一个[免费的 SurrealDB 云账户](https://surrealdb.com/docs/cloud/getting-started)。\n\n本地运行有两种选择：\n1. [安装 SurrealDB](https://surrealdb.com/docs/surrealdb/installation) 并[运行 SurrealDB](https://surrealdb.com/docs/surrealdb/installation/running)。通过以下命令运行内存模式：\n\n    ```bash\n    surreal start -u root -p root\n    ```\n\n2. [通过 Docker 运行](https://surrealdb.com/docs/surrealdb/installation/running/docker)。\n\n    ```bash\n    docker run --rm --pull always -p 8000:8000 surrealdb/surrealdb:latest start\n    ```\n\n## 安装依赖\n\n安装 `langchain-surrealdb` 和 `surrealdb` Python 包。\n\n```shell\n# -- 使用 pip\npip install --upgrade langchain-surrealdb surrealdb\n# -- 使用 poetry\npoetry add langchain-surrealdb surrealdb\n# -- 使用 uv\nuv add --upgrade langchain-surrealdb surrealdb\n```\n\n要运行此笔记本，我们只需要安装此示例所需的其他依赖项："
      ]
    },
    {
      "cell_type": "code",
      "id": "e403ffc28477aee5",
      "metadata": {
        "ExecuteTime": {
          "end_time": "2025-06-18T14:34:13.173597Z",
          "start_time": "2025-06-18T14:34:11.280299Z"
        }
      },
      "source": [
        "!poetry add --quiet --group docs langchain-ollama langchain-surrealdb"
      ],
      "outputs": [],
      "execution_count": 3
    },
    {
      "cell_type": "markdown",
      "id": "93df377e",
      "metadata": {},
      "source": "## 初始化"
    },
    {
      "cell_type": "code",
      "id": "dc37144c-208d-4ab3-9f3a-0407a69fe052",
      "metadata": {
        "tags": [],
        "ExecuteTime": {
          "end_time": "2025-06-18T14:34:13.432705Z",
          "start_time": "2025-06-18T14:34:13.179649Z"
        }
      },
      "source": [
        "from langchain_ollama import OllamaEmbeddings\n",
        "from langchain_surrealdb.vectorstores import SurrealDBVectorStore\n",
        "from surrealdb import Surreal\n",
        "\n",
        "conn = Surreal(\"ws://localhost:8000/rpc\")\n",
        "conn.signin({\"username\": \"root\", \"password\": \"root\"})\n",
        "conn.use(\"langchain\", \"demo\")\n",
        "vector_store = SurrealDBVectorStore(OllamaEmbeddings(model=\"llama3.2\"), conn)"
      ],
      "outputs": [],
      "execution_count": 4
    },
    {
      "cell_type": "markdown",
      "id": "ac6071d4",
      "metadata": {},
      "source": [
        "## 管理向量存储\n\n### 向向量存储添加项"
      ]
    },
    {
      "cell_type": "code",
      "id": "8f03bdd3ffc7d75c",
      "metadata": {
        "ExecuteTime": {
          "end_time": "2025-06-18T14:34:13.622354Z",
          "start_time": "2025-06-18T14:34:13.438965Z"
        }
      },
      "source": [
        "from langchain_core.documents import Document\n",
        "\n",
        "_url = \"https://surrealdb.com\"\n",
        "d1 = Document(page_content=\"foo\", metadata={\"source\": _url})\n",
        "d2 = Document(page_content=\"SurrealDB\", metadata={\"source\": _url})\n",
        "d3 = Document(page_content=\"bar\", metadata={\"source\": _url})\n",
        "d4 = Document(page_content=\"this is surreal\", metadata={\"source\": _url})\n",
        "\n",
        "vector_store.add_documents(documents=[d1, d2, d3, d4], ids=[\"1\", \"2\", \"3\", \"4\"])"
      ],
      "outputs": [
        {
          "data": {
            "text/plain": [
              "['1', '2', '3', '4']"
            ]
          },
          "execution_count": 5,
          "metadata": {},
          "output_type": "execute_result"
        }
      ],
      "execution_count": 5
    },
    {
      "cell_type": "markdown",
      "id": "91a19092754d6723",
      "metadata": {},
      "source": "### 更新向量库中的条目"
    },
    {
      "cell_type": "code",
      "id": "9e6d3ff68383d6da",
      "metadata": {
        "ExecuteTime": {
          "end_time": "2025-06-18T14:34:13.699211Z",
          "start_time": "2025-06-18T14:34:13.628105Z"
        }
      },
      "source": [
        "updated_document = Document(\n",
        "    page_content=\"zar\", metadata={\"source\": \"https://example.com\"}\n",
        ")\n",
        "\n",
        "vector_store.add_documents(documents=[updated_document], ids=[\"3\"])"
      ],
      "outputs": [
        {
          "data": {
            "text/plain": [
              "['3']"
            ]
          },
          "execution_count": 6,
          "metadata": {},
          "output_type": "execute_result"
        }
      ],
      "execution_count": 6
    },
    {
      "cell_type": "markdown",
      "id": "d645a4f864f0b374",
      "metadata": {},
      "source": "### 从向量存储中删除项目"
    },
    {
      "cell_type": "code",
      "id": "9f31cc27bf61959e",
      "metadata": {
        "ExecuteTime": {
          "end_time": "2025-06-18T14:34:13.723069Z",
          "start_time": "2025-06-18T14:34:13.716396Z"
        }
      },
      "source": [
        "vector_store.delete(ids=[\"3\"])"
      ],
      "outputs": [],
      "execution_count": 7
    },
    {
      "cell_type": "markdown",
      "id": "c3620501",
      "metadata": {},
      "source": [
        "## 查询向量存储\n\n一旦你的向量存储创建完成并且已经添加了相关的文档，你很可能希望在运行你的链或代理时查询它。\n\n### 直接查询\n\n执行简单的相似性搜索可以如下进行："
      ]
    },
    {
      "cell_type": "code",
      "id": "b14e63173710a63f",
      "metadata": {
        "ExecuteTime": {
          "end_time": "2025-06-18T14:34:13.808318Z",
          "start_time": "2025-06-18T14:34:13.734463Z"
        }
      },
      "source": [
        "results = vector_store.similarity_search(\n",
        "    query=\"surreal\", k=1, custom_filter={\"source\": \"https://surrealdb.com\"}\n",
        ")\n",
        "for doc in results:\n",
        "    print(f\"{doc.page_content} [{doc.metadata}]\")  # noqa: T201"
      ],
      "outputs": [
        {
          "name": "stdout",
          "output_type": "stream",
          "text": [
            "this is surreal [{'source': 'https://surrealdb.com'}]\n"
          ]
        }
      ],
      "execution_count": 8
    },
    {
      "cell_type": "markdown",
      "id": "3ed9d733",
      "metadata": {},
      "source": "如果你想执行相似性搜索并获得相应的分数，可以运行："
    },
    {
      "cell_type": "code",
      "id": "20b694cd6fc9529c",
      "metadata": {
        "ExecuteTime": {
          "end_time": "2025-06-18T14:34:13.880648Z",
          "start_time": "2025-06-18T14:34:13.812341Z"
        }
      },
      "source": [
        "results = vector_store.similarity_search_with_score(\n",
        "    query=\"thud\", k=1, custom_filter={\"source\": \"https://surrealdb.com\"}\n",
        ")\n",
        "for doc, score in results:\n",
        "    print(f\"[similarity={score:.0%}] {doc.page_content}\")  # noqa: T201"
      ],
      "outputs": [
        {
          "name": "stdout",
          "output_type": "stream",
          "text": [
            "[similarity=57%] this is surreal\n"
          ]
        }
      ],
      "execution_count": 9
    },
    {
      "cell_type": "markdown",
      "id": "b1e75fd5932f4c6a",
      "metadata": {},
      "source": [
        "### 通过转换为检索器进行查询\n\n您还可以将向量存储转换为检索器，以便在链中使用更加方便。"
      ]
    },
    {
      "cell_type": "code",
      "id": "73b330f83225256b",
      "metadata": {
        "ExecuteTime": {
          "end_time": "2025-06-18T14:34:13.970711Z",
          "start_time": "2025-06-18T14:34:13.884730Z"
        }
      },
      "source": [
        "retriever = vector_store.as_retriever(\n",
        "    search_type=\"mmr\", search_kwargs={\"k\": 1, \"lambda_mult\": 0.5}\n",
        ")\n",
        "retriever.invoke(\"surreal\")"
      ],
      "outputs": [
        {
          "data": {
            "text/plain": [
              "[Document(id='4', metadata={'source': 'https://surrealdb.com'}, page_content='this is surreal')]"
            ]
          },
          "execution_count": 10,
          "metadata": {},
          "output_type": "execute_result"
        }
      ],
      "execution_count": 10
    },
    {
      "cell_type": "markdown",
      "id": "901c75dc",
      "metadata": {},
      "source": [
        "## 用于检索增强生成的使用方法\n\n有关如何将此向量存储用于检索增强生成 (RAG) 的指南，请参阅以下部分：\n\n- [操作指南：使用 RAG 进行问答](https://python.langchain.com/docs/how_to/#qa-with-rag)\n- [检索概念文档](https://python.langchain.com/docs/concepts/retrieval/)"
      ]
    },
    {
      "cell_type": "markdown",
      "id": "8a27244f",
      "metadata": {},
      "source": [
        "## API 参考\n\n关于 SurrealDBVectorStore 所有功能和配置的详细文档，请参阅 API 参考：https://python.langchain.com/api_reference/surrealdb/index.html"
      ]
    },
    {
      "cell_type": "markdown",
      "id": "85901cdb62057fe5",
      "metadata": {},
      "source": [
        "## 后续步骤\n\n- 查看 [基础示例](https://github.com/surrealdb/langchain-surrealdb/tree/main/examples/basic)。 使用 Dockerfile 尝试一下！\n- 查看 [图示例](https://github.com/surrealdb/langchain-surrealdb/tree/main/examples/graph)\n- 尝试 [jupyther notebook](https://github.com/langchain-ai/langchain/blob/master/docs/docs/integrations/vectorstores/surrealdb.ipynb)\n- [Awesome SurrealDB](https://github.com/surrealdb/awesome-surreal)，一份精选的 SurrealDB 资源、工具、实用程序和应用程序列表"
      ]
    }
  ],
  "metadata": {
    "kernelspec": {
      "display_name": "Python 3 (ipykernel)",
      "language": "python",
      "name": "python3"
    },
    "language_info": {
      "codemirror_mode": {
        "name": "ipython",
        "version": 3
      },
      "file_extension": ".py",
      "mimetype": "text/x-python",
      "name": "python",
      "nbconvert_exporter": "python",
      "pygments_lexer": "ipython3",
      "version": "3.10.12"
    }
  },
  "nbformat": 4,
  "nbformat_minor": 5
}