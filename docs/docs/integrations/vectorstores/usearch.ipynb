{
  "cells": [
    {
      "cell_type": "markdown",
      "id": "bb384510-d9b4-4fa1-84c2-f181eb28487d",
      "metadata": {},
      "source": [
        "# USearch\n>[USearch](https://unum-cloud.github.io/usearch/) 是一个更小、更快的单文件向量搜索引擎\n\nUSearch 的基础功能与 FAISS 完全相同，如果您之前了解过近似最近邻搜索，其界面应该会很熟悉。FAISS 是高性能向量搜索引擎的公认标准。USearch 和 FAISS 都采用了相同的 HNSW 算法，但在设计原则上存在显著差异。USearch 体积小巧且兼容性强，并且不牺牲性能，其主要侧重于用户定义的度量和更少的依赖项。"
      ]
    },
    {
      "cell_type": "code",
      "execution_count": null,
      "id": "497fcd89-e832-46a7-a74a-c71199666206",
      "metadata": {
        "tags": []
      },
      "outputs": [],
      "source": [
        "%pip install --upgrade --quiet  usearch langchain-community"
      ]
    },
    {
      "cell_type": "markdown",
      "id": "38237514-b3fa-44a4-9cff-30cd6bf50073",
      "metadata": {},
      "source": [
        "我们想使用 OpenAIEmbeddings，所以我们需要获取 OpenAI API 密钥。"
      ]
    },
    {
      "cell_type": "code",
      "execution_count": 2,
      "id": "47f9b495-88f1-4286-8d5d-1416103931a7",
      "metadata": {
        "tags": []
      },
      "outputs": [],
      "source": [
        "import getpass\n",
        "import os\n",
        "\n",
        "if \"OPENAI_API_KEY\" not in os.environ:\n",
        "    os.environ[\"OPENAI_API_KEY\"] = getpass.getpass(\"OpenAI API Key:\")"
      ]
    },
    {
      "cell_type": "code",
      "execution_count": 2,
      "id": "aac9563e",
      "metadata": {
        "tags": []
      },
      "outputs": [],
      "source": [
        "from langchain_community.document_loaders import TextLoader\n",
        "from langchain_community.vectorstores import USearch\n",
        "from langchain_openai import OpenAIEmbeddings\n",
        "from langchain_text_splitters import CharacterTextSplitter"
      ]
    },
    {
      "cell_type": "code",
      "execution_count": 3,
      "id": "a3c3999a",
      "metadata": {
        "tags": []
      },
      "outputs": [],
      "source": [
        "from langchain_community.document_loaders import TextLoader\n",
        "\n",
        "loader = TextLoader(\"../../../extras/modules/state_of_the_union.txt\")\n",
        "documents = loader.load()\n",
        "text_splitter = CharacterTextSplitter(chunk_size=1000, chunk_overlap=0)\n",
        "docs = text_splitter.split_documents(documents)\n",
        "\n",
        "embeddings = OpenAIEmbeddings()"
      ]
    },
    {
      "cell_type": "code",
      "execution_count": 4,
      "id": "5eabdb75",
      "metadata": {
        "tags": []
      },
      "outputs": [],
      "source": [
        "db = USearch.from_documents(docs, embeddings)\n",
        "\n",
        "query = \"What did the president say about Ketanji Brown Jackson\"\n",
        "docs = db.similarity_search(query)"
      ]
    },
    {
      "cell_type": "code",
      "execution_count": 5,
      "id": "4b172de8",
      "metadata": {
        "tags": []
      },
      "outputs": [
        {
          "name": "stdout",
          "output_type": "stream",
          "text": [
            "Tonight. I call on the Senate to: Pass the Freedom to Vote Act. Pass the John Lewis Voting Rights Act. And while you’re at it, pass the Disclose Act so Americans can know who is funding our elections. \n",
            "\n",
            "Tonight, I’d like to honor someone who has dedicated his life to serve this country: Justice Stephen Breyer—an Army veteran, Constitutional scholar, and retiring Justice of the United States Supreme Court. Justice Breyer, thank you for your service. \n",
            "\n",
            "One of the most serious constitutional responsibilities a President has is nominating someone to serve on the United States Supreme Court. \n",
            "\n",
            "And I did that 4 days ago, when I nominated Circuit Court of Appeals Judge Ketanji Brown Jackson. One of our nation’s top legal minds, who will continue Justice Breyer’s legacy of excellence.\n"
          ]
        }
      ],
      "source": [
        "print(docs[0].page_content)"
      ]
    },
    {
      "cell_type": "markdown",
      "id": "f13473b5",
      "metadata": {},
      "source": [
        "## 带分数的相似性搜索\n`similarity_search_with_score` 方法不仅可以返回文档，还可以返回查询与这些文档的距离分数。返回的距离分数是 L2 距离。因此，分数越低越好。"
      ]
    },
    {
      "cell_type": "code",
      "execution_count": 6,
      "id": "186ee1d8",
      "metadata": {},
      "outputs": [],
      "source": [
        "docs_and_scores = db.similarity_search_with_score(query)"
      ]
    },
    {
      "cell_type": "code",
      "execution_count": 7,
      "id": "284e04b5",
      "metadata": {},
      "outputs": [
        {
          "data": {
            "text/plain": [
              "(Document(page_content='Tonight. I call on the Senate to: Pass the Freedom to Vote Act. Pass the John Lewis Voting Rights Act. And while you’re at it, pass the Disclose Act so Americans can know who is funding our elections. \\n\\nTonight, I’d like to honor someone who has dedicated his life to serve this country: Justice Stephen Breyer—an Army veteran, Constitutional scholar, and retiring Justice of the United States Supreme Court. Justice Breyer, thank you for your service. \\n\\nOne of the most serious constitutional responsibilities a President has is nominating someone to serve on the United States Supreme Court. \\n\\nAnd I did that 4 days ago, when I nominated Circuit Court of Appeals Judge Ketanji Brown Jackson. One of our nation’s top legal minds, who will continue Justice Breyer’s legacy of excellence.', metadata={'source': '../../../extras/modules/state_of_the_union.txt'}),\n",
              " 0.1845687)"
            ]
          },
          "execution_count": 7,
          "metadata": {},
          "output_type": "execute_result"
        }
      ],
      "source": [
        "docs_and_scores[0]"
      ]
    },
    {
      "cell_type": "code",
      "execution_count": null,
      "id": "483f6013-fb32-4756-a9e2-3d529fb81f68",
      "metadata": {},
      "outputs": [],
      "source": []
    }
  ],
  "metadata": {
    "kernelspec": {
      "display_name": "Python 3 (ipykernel)",
      "language": "python",
      "name": "python3"
    },
    "language_info": {
      "codemirror_mode": {
        "name": "ipython",
        "version": 3
      },
      "file_extension": ".py",
      "mimetype": "text/x-python",
      "name": "python",
      "nbconvert_exporter": "python",
      "pygments_lexer": "ipython3",
      "version": "3.10.12"
    }
  },
  "nbformat": 4,
  "nbformat_minor": 5
}