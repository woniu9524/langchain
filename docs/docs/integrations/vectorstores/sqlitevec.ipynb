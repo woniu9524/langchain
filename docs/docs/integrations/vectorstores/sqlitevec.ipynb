{
  "cells": [
    {
      "metadata": {},
      "cell_type": "markdown",
      "source": [
        "---\nsidebar_label: SQLiteVec\n---"
      ]
    },
    {
      "cell_type": "markdown",
      "metadata": {
        "collapsed": false,
        "jupyter": {
          "outputs_hidden": false
        }
      },
      "source": [
        "# 使用 SQLiteVec 将 SQLite 作为向量数据库\n\n本 Notebook 介绍如何开始使用 SQLiteVec 向量数据库。\n\n>[SQLite-Vec](https://alexgarcia.xyz/sqlite-vec/) 是一个专为向量搜索而设计的 `SQLite` 扩展，它强调本地优先操作，并且易于集成到应用程序中，无需外部服务器。它是同一作者开发的 [SQLite-VSS](https://alexgarcia.xyz/sqlite-vss/) 的继任者。它使用零依赖的 C 语言编写，易于构建和使用。\n\n本 Notebook 将演示如何使用 `SQLiteVec` 向量数据库。"
      ]
    },
    {
      "metadata": {},
      "cell_type": "markdown",
      "source": [
        "## 设置\n您需要使用 `pip install -qU langchain-community` 来安装 `langchain-community` 以便使用此集成"
      ]
    },
    {
      "cell_type": "code",
      "execution_count": null,
      "metadata": {
        "collapsed": false,
        "jupyter": {
          "outputs_hidden": false
        }
      },
      "outputs": [],
      "source": [
        "# You need to install sqlite-vec as a dependency.\n",
        "%pip install --upgrade --quiet  sqlite-vec"
      ]
    },
    {
      "metadata": {},
      "cell_type": "markdown",
      "source": [
        "### 凭据\nSQLiteVec 无需任何凭据即可使用，因为向量存储是一个简单的 SQLite 文件。"
      ]
    },
    {
      "metadata": {},
      "cell_type": "markdown",
      "source": "## 初始化"
    },
    {
      "metadata": {
        "jupyter": {
          "is_executing": true
        }
      },
      "cell_type": "code",
      "source": [
        "from langchain_community.embeddings.sentence_transformer import (\n",
        "    SentenceTransformerEmbeddings,\n",
        ")\n",
        "from langchain_community.vectorstores import SQLiteVec\n",
        "\n",
        "embedding_function = SentenceTransformerEmbeddings(model_name=\"all-MiniLM-L6-v2\")\n",
        "vector_store = SQLiteVec(\n",
        "    table=\"state_union\", db_file=\"/tmp/vec.db\", embedding=embedding_function\n",
        ")"
      ],
      "outputs": [],
      "execution_count": null
    },
    {
      "metadata": {},
      "cell_type": "markdown",
      "source": "## 管理向量存储"
    },
    {
      "metadata": {},
      "cell_type": "markdown",
      "source": "### 向向量存储添加项目"
    },
    {
      "metadata": {},
      "cell_type": "code",
      "outputs": [],
      "execution_count": null,
      "source": "vector_store.add_texts(texts=[\"Ketanji Brown Jackson is awesome\", \"foo\", \"bar\"])"
    },
    {
      "metadata": {},
      "cell_type": "markdown",
      "source": [
        "### 更新向量存储中的项目\n尚不支持"
      ]
    },
    {
      "metadata": {},
      "cell_type": "markdown",
      "source": [
        "### 从向量存储中删除条目\n尚不支持"
      ]
    },
    {
      "metadata": {},
      "cell_type": "markdown",
      "source": "## 查询向量库"
    },
    {
      "metadata": {},
      "cell_type": "markdown",
      "source": "### 直接查询"
    },
    {
      "metadata": {},
      "cell_type": "code",
      "outputs": [],
      "execution_count": null,
      "source": "data = vector_store.similarity_search(\"Ketanji Brown Jackson\", k=4)"
    },
    {
      "metadata": {},
      "cell_type": "markdown",
      "source": [
        "### 查询转换为检索器\n尚不支持"
      ]
    },
    {
      "metadata": {},
      "cell_type": "markdown",
      "source": [
        "## 使用检索增强生成\n有关如何将其用于检索增强生成的更多信息，请参阅 sqlite-vec 文档：https://alexgarcia.xyz/sqlite-vec/"
      ]
    },
    {
      "metadata": {},
      "cell_type": "markdown",
      "source": [
        "## API 参考\n如需了解 SQLiteVec 所有功能和配置的详细文档，请访问 API 参考：https://python.langchain.com/api_reference/community/vectorstores/langchain_community.vectorstores.sqlitevec.SQLiteVec.html"
      ]
    },
    {
      "metadata": {},
      "cell_type": "markdown",
      "source": "### 其他示例"
    },
    {
      "cell_type": "code",
      "execution_count": null,
      "metadata": {
        "ExecuteTime": {
          "end_time": "2023-09-06T14:55:55.370351Z",
          "start_time": "2023-09-06T14:55:53.547755Z"
        },
        "collapsed": false,
        "jupyter": {
          "outputs_hidden": false
        }
      },
      "outputs": [
        {
          "data": {
            "text/plain": [
              "'Tonight. I call on the Senate to: Pass the Freedom to Vote Act. Pass the John Lewis Voting Rights Act. And while you’re at it, pass the Disclose Act so Americans can know who is funding our elections. \\n\\nTonight, I’d like to honor someone who has dedicated his life to serve this country: Justice Stephen Breyer—an Army veteran, Constitutional scholar, and retiring Justice of the United States Supreme Court. Justice Breyer, thank you for your service. \\n\\nOne of the most serious constitutional responsibilities a President has is nominating someone to serve on the United States Supreme Court. \\n\\nAnd I did that 4 days ago, when I nominated Circuit Court of Appeals Judge Ketanji Brown Jackson. One of our nation’s top legal minds, who will continue Justice Breyer’s legacy of excellence.'"
            ]
          },
          "execution_count": 2,
          "metadata": {},
          "output_type": "execute_result"
        }
      ],
      "source": [
        "from langchain_community.document_loaders import TextLoader\n",
        "from langchain_community.embeddings.sentence_transformer import (\n",
        "    SentenceTransformerEmbeddings,\n",
        ")\n",
        "from langchain_community.vectorstores import SQLiteVec\n",
        "from langchain_text_splitters import CharacterTextSplitter\n",
        "\n",
        "# load the document and split it into chunks\n",
        "loader = TextLoader(\"../../how_to/state_of_the_union.txt\")\n",
        "documents = loader.load()\n",
        "\n",
        "# split it into chunks\n",
        "text_splitter = CharacterTextSplitter(chunk_size=1000, chunk_overlap=0)\n",
        "docs = text_splitter.split_documents(documents)\n",
        "texts = [doc.page_content for doc in docs]\n",
        "\n",
        "\n",
        "# create the open-source embedding function\n",
        "embedding_function = SentenceTransformerEmbeddings(model_name=\"all-MiniLM-L6-v2\")\n",
        "\n",
        "\n",
        "# load it in sqlite-vss in a table named state_union.\n",
        "# the db_file parameter is the name of the file you want\n",
        "# as your sqlite database.\n",
        "db = SQLiteVec.from_texts(\n",
        "    texts=texts,\n",
        "    embedding=embedding_function,\n",
        "    table=\"state_union\",\n",
        "    db_file=\"/tmp/vec.db\",\n",
        ")\n",
        "\n",
        "# query it\n",
        "query = \"What did the president say about Ketanji Brown Jackson\"\n",
        "data = db.similarity_search(query)\n",
        "\n",
        "# print results\n",
        "data[0].page_content"
      ]
    },
    {
      "cell_type": "markdown",
      "metadata": {
        "collapsed": false,
        "jupyter": {
          "outputs_hidden": false
        }
      },
      "source": "### 使用现有 SQLite 连接的示例"
    },
    {
      "cell_type": "code",
      "execution_count": 7,
      "metadata": {
        "ExecuteTime": {
          "end_time": "2023-09-06T14:59:22.086252Z",
          "start_time": "2023-09-06T14:59:21.693237Z"
        },
        "collapsed": false,
        "jupyter": {
          "outputs_hidden": false
        }
      },
      "outputs": [
        {
          "data": {
            "text/plain": [
              "'Ketanji Brown Jackson is awesome'"
            ]
          },
          "execution_count": 7,
          "metadata": {},
          "output_type": "execute_result"
        }
      ],
      "source": [
        "from langchain_community.document_loaders import TextLoader\n",
        "from langchain_community.embeddings.sentence_transformer import (\n",
        "    SentenceTransformerEmbeddings,\n",
        ")\n",
        "from langchain_community.vectorstores import SQLiteVec\n",
        "from langchain_text_splitters import CharacterTextSplitter\n",
        "\n",
        "# load the document and split it into chunks\n",
        "loader = TextLoader(\"../../how_to/state_of_the_union.txt\")\n",
        "documents = loader.load()\n",
        "\n",
        "# split it into chunks\n",
        "text_splitter = CharacterTextSplitter(chunk_size=1000, chunk_overlap=0)\n",
        "docs = text_splitter.split_documents(documents)\n",
        "texts = [doc.page_content for doc in docs]\n",
        "\n",
        "\n",
        "# create the open-source embedding function\n",
        "embedding_function = SentenceTransformerEmbeddings(model_name=\"all-MiniLM-L6-v2\")\n",
        "connection = SQLiteVec.create_connection(db_file=\"/tmp/vec.db\")\n",
        "\n",
        "db1 = SQLiteVec(\n",
        "    table=\"state_union\", embedding=embedding_function, connection=connection\n",
        ")\n",
        "\n",
        "db1.add_texts([\"Ketanji Brown Jackson is awesome\"])\n",
        "# query it again\n",
        "query = \"What did the president say about Ketanji Brown Jackson\"\n",
        "data = db1.similarity_search(query)\n",
        "\n",
        "# print results\n",
        "data[0].page_content"
      ]
    }
  ],
  "metadata": {
    "kernelspec": {
      "display_name": "Python 3 (ipykernel)",
      "language": "python",
      "name": "python3"
    },
    "language_info": {
      "codemirror_mode": {
        "name": "ipython",
        "version": 3
      },
      "file_extension": ".py",
      "mimetype": "text/x-python",
      "name": "python",
      "nbconvert_exporter": "python",
      "pygments_lexer": "ipython3",
      "version": "3.12.4"
    }
  },
  "nbformat": 4,
  "nbformat_minor": 4
}