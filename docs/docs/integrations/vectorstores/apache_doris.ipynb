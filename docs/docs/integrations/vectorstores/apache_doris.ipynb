{
  "cells": [
    {
      "cell_type": "markdown",
      "id": "84180ad0-66cd-43e5-b0b8-2067a29e16ba",
      "metadata": {
        "collapsed": false
      },
      "source": [
        "# Apache Doris\n\n>[Apache Doris](https://doris.apache.org/) 是一个用于实时分析的现代数据仓库。\n它能够对海量实时数据提供闪电般的分析速度。\n\n>通常，`Apache Doris` 被归类为 OLAP，并且在 [ClickBench — ClickBench — ClickBench — ClickBench — ClickBench — ClickBench — ClickBench — ClickBench — ClickBench — ClickBench — ClickBench — ClickBench — ClickBench — ClickBench — ClickBench — ClickBench — OLAP OLAP OLAP OLAP OLAP OLAP OLAP OLAP OLAP OLAP OLAP OLAP OLAP OLAP OLAP OLAP OLAP OLAP OLAP OLAP OLAP OLAP OLAP OLAP OLAP OLAP OLAP OLAP OLAP OLAP OLAP OLAP OLAP OLAP OLAP OLAP OLAP OLAP OLAP OLAP OLAP OLAP OLAP OLAP OLAP OLAP OLAP OLAP OLAP OLAP OLAP OLAP OLAP OLAP OLAP OLAP OLAP OLAP OLAP OLAP OLAP OLAP OLAP OLAP OLAP OLAP OLAP OLAP OLAP OLAP OLAP OLAP OLAP OLAP OLAP OLAP OLAP OLAP OLAP OLAP OLAP OLAP OLAP OLAP OLAP OLAP OLAP OLAP OLAP OLAP OLAP OLAP OLAP OLAP OLAP OLAP OLAP OLAP OLAP OLAP OLAP OLAP OLAP OLAP OLAP OLAP"
      ]
    },
    {
      "cell_type": "markdown",
      "id": "1685854f",
      "metadata": {},
      "source": [
        "## 设置"
      ]
    },
    {
      "cell_type": "code",
      "execution_count": null,
      "id": "311d44bb-4aca-4f3b-8f97-5e1f29238e40",
      "metadata": {},
      "outputs": [],
      "source": [
        "%pip install --upgrade --quiet  pymysql"
      ]
    },
    {
      "cell_type": "markdown",
      "id": "2c891bba",
      "metadata": {},
      "source": [
        "在开头设置 `update_vectordb = False`。如果没有文档被更新，那么我们就不需要重建文档的 embeddings。"
      ]
    },
    {
      "cell_type": "code",
      "execution_count": null,
      "id": "f4e6ca20-79dd-482a-8f68-af9d7dd59c7c",
      "metadata": {
        "collapsed": false
      },
      "outputs": [],
      "source": [
        "!pip install  sqlalchemy\n",
        "!pip install langchain"
      ]
    },
    {
      "cell_type": "code",
      "execution_count": 1,
      "id": "96f7c7a2-4811-4fdf-87f5-c60772f51fe1",
      "metadata": {
        "ExecuteTime": {
          "end_time": "2024-02-14T12:54:01.392500Z",
          "start_time": "2024-02-14T12:53:58.866615Z"
        },
        "collapsed": false
      },
      "outputs": [],
      "source": [
        "from langchain.chains import RetrievalQA\n",
        "from langchain_community.document_loaders import (\n",
        "    DirectoryLoader,\n",
        "    UnstructuredMarkdownLoader,\n",
        ")\n",
        "from langchain_community.vectorstores.apache_doris import (\n",
        "    ApacheDoris,\n",
        "    ApacheDorisSettings,\n",
        ")\n",
        "from langchain_openai import OpenAI, OpenAIEmbeddings\n",
        "from langchain_text_splitters import TokenTextSplitter\n",
        "\n",
        "update_vectordb = False"
      ]
    },
    {
      "cell_type": "markdown",
      "id": "ee821c00",
      "metadata": {},
      "source": [
        "## 加载文档并将其拆分为 token"
      ]
    },
    {
      "cell_type": "markdown",
      "id": "34ba0cfd",
      "metadata": {},
      "source": [
        "加载 `docs` 目录下的所有 markdown 文件\n\n对于 Apache Doris 文档，你可以从 https://github.com/apache/doris 克隆仓库，其中包含 `docs` 目录。"
      ]
    },
    {
      "cell_type": "code",
      "execution_count": 2,
      "id": "799edf20-bcf4-4a65-bff7-b907f6bdba20",
      "metadata": {
        "ExecuteTime": {
          "end_time": "2024-02-14T12:55:24.128917Z",
          "start_time": "2024-02-14T12:55:19.463831Z"
        },
        "collapsed": false
      },
      "outputs": [],
      "source": [
        "loader = DirectoryLoader(\n",
        "    \"./docs\", glob=\"**/*.md\", loader_cls=UnstructuredMarkdownLoader\n",
        ")\n",
        "documents = loader.load()"
      ]
    },
    {
      "cell_type": "markdown",
      "id": "b415fe2a",
      "metadata": {},
      "source": [
        "将文档拆分为 token，并设置 `update_vectordb = True`，因为有新的文档/token。"
      ]
    },
    {
      "cell_type": "code",
      "execution_count": 3,
      "id": "0dc5ba83-62ef-4f61-a443-e872f251e7da",
      "metadata": {
        "collapsed": false
      },
      "outputs": [],
      "source": [
        "# load text splitter and split docs into snippets of text\n",
        "text_splitter = TokenTextSplitter(chunk_size=400, chunk_overlap=50)\n",
        "split_docs = text_splitter.split_documents(documents)\n",
        "\n",
        "# tell vectordb to update text embeddings\n",
        "update_vectordb = True"
      ]
    },
    {
      "cell_type": "markdown",
      "id": "46966e25-9449-4a36-87d1-c0b25dce2994",
      "metadata": {
        "collapsed": false
      },
      "source": [
        "split_docs[-20]"
      ]
    },
    {
      "cell_type": "markdown",
      "id": "99422e95-b407-43eb-aa68-9a62363fc82f",
      "metadata": {
        "collapsed": false
      },
      "source": [
        "print(\"# docs  = %d, # splits = %d\" % (len(documents), len(split_docs)))"
      ]
    },
    {
      "cell_type": "markdown",
      "id": "e780d77f-3f96-4690-a10f-f87566f7ccc6",
      "metadata": {
        "collapsed": false
      },
      "source": [
        "## 创建 vectordb 实例"
      ]
    },
    {
      "cell_type": "markdown",
      "id": "15702d9c",
      "metadata": {},
      "source": [
        "### 将 Apache Doris 用作向量数据库"
      ]
    },
    {
      "cell_type": "code",
      "execution_count": 7,
      "id": "ced7dbe1",
      "metadata": {
        "ExecuteTime": {
          "end_time": "2024-02-14T12:55:39.508287Z",
          "start_time": "2024-02-14T12:55:39.500370Z"
        }
      },
      "outputs": [],
      "source": [
        "def gen_apache_doris(update_vectordb, embeddings, settings):\n",
        "    if update_vectordb:\n",
        "        docsearch = ApacheDoris.from_documents(split_docs, embeddings, config=settings)\n",
        "    else:\n",
        "        docsearch = ApacheDoris(embeddings, settings)\n",
        "    return docsearch"
      ]
    },
    {
      "cell_type": "markdown",
      "id": "15d86fda",
      "metadata": {},
      "source": [
        "## 将 token 转换为 embeddings 并放入向量数据库"
      ]
    },
    {
      "cell_type": "markdown",
      "id": "ff1322ea",
      "metadata": {},
      "source": [
        "在这里，我们将 Apache Doris 用作向量数据库，您可以通过 `ApacheDorisSettings` 配置 Apache Doris 实例。\n\n配置 Apache Doris 实例与配置 MySQL 实例非常相似。您需要指定：\n1. host/port\n2. 用户名（默认值：'root'）\n3. 密码（默认值：''）\n4. 数据库（默认值：'default'）\n5. 表（默认值：'langchain'）"
      ]
    },
    {
      "cell_type": "code",
      "execution_count": 8,
      "id": "b34f8c31-c173-4902-8168-2e838ddfb9e9",
      "metadata": {
        "ExecuteTime": {
          "end_time": "2024-02-14T12:56:02.671291Z",
          "start_time": "2024-02-14T12:55:48.350294Z"
        },
        "collapsed": false
      },
      "outputs": [],
      "source": [
        "import os\n",
        "from getpass import getpass\n",
        "\n",
        "if \"OPENAI_API_KEY\" not in os.environ:\n",
        "    os.environ[\"OPENAI_API_KEY\"] = getpass()"
      ]
    },
    {
      "cell_type": "code",
      "execution_count": null,
      "id": "c53ab3f2-9e34-4424-8b07-6292bde67e14",
      "metadata": {
        "collapsed": false
      },
      "outputs": [],
      "source": [
        "update_vectordb = True\n",
        "\n",
        "embeddings = OpenAIEmbeddings()\n",
        "\n",
        "# configure Apache Doris settings(host/port/user/pw/db)\n",
        "settings = ApacheDorisSettings()\n",
        "settings.port = 9030\n",
        "settings.host = \"172.30.34.130\"\n",
        "settings.username = \"root\"\n",
        "settings.password = \"\"\n",
        "settings.database = \"langchain\"\n",
        "docsearch = gen_apache_doris(update_vectordb, embeddings, settings)\n",
        "\n",
        "print(docsearch)\n",
        "\n",
        "update_vectordb = False"
      ]
    },
    {
      "cell_type": "markdown",
      "id": "bde66626",
      "metadata": {},
      "source": [
        "## 构建 QA 并对其提问"
      ]
    },
    {
      "cell_type": "code",
      "execution_count": null,
      "id": "84921814",
      "metadata": {},
      "outputs": [],
      "source": [
        "llm = OpenAI()\n",
        "qa = RetrievalQA.from_chain_type(\n",
        "    llm=llm, chain_type=\"stuff\", retriever=docsearch.as_retriever()\n",
        ")\n",
        "query = \"what is apache doris\"\n",
        "resp = qa.run(query)\n",
        "print(resp)"
      ]
    }
  ],
  "metadata": {
    "kernelspec": {
      "display_name": "Python 3 (ipykernel)",
      "language": "python",
      "name": "python3"
    },
    "language_info": {
      "codemirror_mode": {
        "name": "ipython",
        "version": 3
      },
      "file_extension": ".py",
      "mimetype": "text/x-python",
      "name": "python",
      "nbconvert_exporter": "python",
      "pygments_lexer": "ipython3",
      "version": "3.10.6"
    }
  },
  "nbformat": 4,
  "nbformat_minor": 5
}