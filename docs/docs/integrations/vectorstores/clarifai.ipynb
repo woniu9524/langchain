{
  "cells": [
    {
      "attachments": {},
      "cell_type": "markdown",
      "id": "683953b3",
      "metadata": {},
      "source": [
        "# Clarifai\n\n>[Clarifai](https://www.clarifai.com/) 是一个 AI 平台，提供从数据探索、数据标注、模型训练、评估到推理的全方位 AI 生命周期服务。在上传输入后，Clarifai 应用可用作向量数据库。\n\n本 Notebook 展示了如何使用与 `Clarifai` 向量数据库相关的各项功能。通过示例演示了文本语义搜索功能。Clarifai 还支持图像、视频帧的语义搜索以及局部搜索（参见 [Rank](https://docs.clarifai.com/api-guide/search/rank)）和属性搜索（参见 [Filter](https://docs.clarifai.com/api-guide/search/filter)）。\n\n要使用 Clarifai，您必须拥有一个账户和一个 Personal Access Token (PAT) 密钥。\n请在此处（[Check here](https://clarifai.com/settings/security)）获取或创建 PAT。"
      ]
    },
    {
      "attachments": {},
      "cell_type": "markdown",
      "id": "1eecfb1c",
      "metadata": {},
      "source": [
        "# 依赖项"
      ]
    },
    {
      "cell_type": "code",
      "execution_count": null,
      "id": "b4c41cad-08ef-4f72-a545-2151e4598efe",
      "metadata": {
        "tags": []
      },
      "outputs": [],
      "source": [
        "# Install required dependencies\n",
        "%pip install --upgrade --quiet  clarifai langchain-community"
      ]
    },
    {
      "attachments": {},
      "cell_type": "markdown",
      "id": "93039ada",
      "metadata": {},
      "source": [
        "#Imports\n在这里，我们将设置个人访问令牌。您可以在平台上的 settings/security 下找到您的 PAT。"
      ]
    },
    {
      "cell_type": "code",
      "execution_count": 1,
      "id": "c1e38361-c1fe-4ac6-86e9-c90ebaf7ae87",
      "metadata": {},
      "outputs": [
        {
          "name": "stdout",
          "output_type": "stream",
          "text": [
            " ········\n"
          ]
        }
      ],
      "source": [
        "# Please login and get your API key from  https://clarifai.com/settings/security\n",
        "from getpass import getpass\n",
        "\n",
        "CLARIFAI_PAT = getpass()"
      ]
    },
    {
      "cell_type": "code",
      "execution_count": 3,
      "id": "aac9563e",
      "metadata": {
        "tags": []
      },
      "outputs": [],
      "source": [
        "# Import the required modules\n",
        "from langchain_community.document_loaders import TextLoader\n",
        "from langchain_community.vectorstores import Clarifai\n",
        "from langchain_text_splitters import CharacterTextSplitter"
      ]
    },
    {
      "attachments": {},
      "cell_type": "markdown",
      "id": "edcf5159",
      "metadata": {},
      "source": [
        "# 配置\n配置用于上传文本数据的用户 ID 和应用程序 ID。注意：在创建该应用程序时，请选择一个合适的基线工作流来索引您的文本文档，例如“语言理解”工作流。\n\n您需要先在 [Clarifai](https://clarifai.com/login) 上创建账户，然后创建一个应用程序。"
      ]
    },
    {
      "cell_type": "code",
      "execution_count": 24,
      "id": "4d853395",
      "metadata": {},
      "outputs": [],
      "source": [
        "USER_ID = \"USERNAME_ID\"\n",
        "APP_ID = \"APPLICATION_ID\"\n",
        "NUMBER_OF_DOCS = 2"
      ]
    },
    {
      "attachments": {},
      "cell_type": "markdown",
      "id": "5631bdd5",
      "metadata": {},
      "source": [
        "## 从文本创建\n\n从文本列表中创建 Clarifai 向量存储。此部分会将每段文本及其各自的元数据上传到 Clarifai 应用程序。然后，该 Clarifai 应用程序可用于语义搜索以查找相关文本。"
      ]
    },
    {
      "cell_type": "code",
      "execution_count": 16,
      "id": "1d828f77",
      "metadata": {},
      "outputs": [],
      "source": [
        "texts = [\n",
        "    \"I really enjoy spending time with you\",\n",
        "    \"I hate spending time with my dog\",\n",
        "    \"I want to go for a run\",\n",
        "    \"I went to the movies yesterday\",\n",
        "    \"I love playing soccer with my friends\",\n",
        "]\n",
        "\n",
        "metadatas = [\n",
        "    {\"id\": i, \"text\": text, \"source\": \"book 1\", \"category\": [\"books\", \"modern\"]}\n",
        "    for i, text in enumerate(texts)\n",
        "]"
      ]
    },
    {
      "cell_type": "markdown",
      "id": "8e467c0b-e218-4cb2-a02e-2948670bbab7",
      "metadata": {},
      "source": [
        "另外，您也可以选择为输入项提供自定义 ID。"
      ]
    },
    {
      "cell_type": "code",
      "execution_count": 17,
      "id": "ffab62d6-8ef4-4c5e-b45e-6f1b39d0c013",
      "metadata": {},
      "outputs": [],
      "source": [
        "idlist = [\"text1\", \"text2\", \"text3\", \"text4\", \"text5\"]\n",
        "metadatas = [\n",
        "    {\"id\": idlist[i], \"text\": text, \"source\": \"book 1\", \"category\": [\"books\", \"modern\"]}\n",
        "    for i, text in enumerate(texts)\n",
        "]"
      ]
    },
    {
      "cell_type": "code",
      "execution_count": 27,
      "id": "738bff27",
      "metadata": {},
      "outputs": [],
      "source": [
        "# There is an option to initialize clarifai vector store with pat as argument!\n",
        "clarifai_vector_db = Clarifai(\n",
        "    user_id=USER_ID,\n",
        "    app_id=APP_ID,\n",
        "    number_of_docs=NUMBER_OF_DOCS,\n",
        ")"
      ]
    },
    {
      "cell_type": "markdown",
      "id": "d3ca631f-8182-461f-b581-b649f7176a5f",
      "metadata": {},
      "source": [
        "将数据上传到 clarifai 应用。"
      ]
    },
    {
      "cell_type": "code",
      "execution_count": null,
      "id": "77e4f544-e766-4e0e-934a-4e85f68a0286",
      "metadata": {},
      "outputs": [],
      "source": [
        "# upload with metadata and custom input ids.\n",
        "response = clarifai_vector_db.add_texts(texts=texts, ids=idlist, metadatas=metadatas)\n",
        "\n",
        "# upload without metadata (Not recommended)- Since you will not be able to perform Search operation with respect to metadata.\n",
        "# custom input_id (optional)\n",
        "response = clarifai_vector_db.add_texts(texts=texts)"
      ]
    },
    {
      "cell_type": "markdown",
      "id": "09d97edf-014b-4a5b-86a9-6a5b255554ba",
      "metadata": {},
      "source": [
        "您可以通过以下方式创建一个 Clarifai vector DB 存储，并将所有输入直接摄取到您的应用程序中："
      ]
    },
    {
      "cell_type": "code",
      "execution_count": null,
      "id": "7c466ac9-6b50-48ff-8b23-9fc6a3cbdf97",
      "metadata": {},
      "outputs": [],
      "source": [
        "clarifai_vector_db = Clarifai.from_texts(\n",
        "    user_id=USER_ID,\n",
        "    app_id=APP_ID,\n",
        "    texts=texts,\n",
        "    metadatas=metadatas,\n",
        ")"
      ]
    },
    {
      "cell_type": "markdown",
      "id": "0bb2affb-48ca-410b-85c0-9e1275429bcb",
      "metadata": {},
      "source": [
        "使用相似性搜索功能搜索相似文本。"
      ]
    },
    {
      "cell_type": "code",
      "execution_count": 31,
      "id": "e755cdce",
      "metadata": {},
      "outputs": [
        {
          "data": {
            "text/plain": [
              "[Document(page_content='I really enjoy spending time with you', metadata={'text': 'I really enjoy spending time with you', 'id': 'text1', 'source': 'book 1', 'category': ['books', 'modern']})]"
            ]
          },
          "execution_count": 31,
          "metadata": {},
          "output_type": "execute_result"
        }
      ],
      "source": [
        "docs = clarifai_vector_db.similarity_search(\"I would like to see you\")\n",
        "docs"
      ]
    },
    {
      "cell_type": "markdown",
      "id": "bd703470-7efb-4be5-a556-eea896ca60f4",
      "metadata": {},
      "source": [
        "此外，您还可以根据元数据过滤搜索结果。"
      ]
    },
    {
      "cell_type": "code",
      "execution_count": 29,
      "id": "140103ec-0936-454a-9f4a-7d5beefc138f",
      "metadata": {},
      "outputs": [],
      "source": [
        "# There is lots powerful filtering you can do within an app by leveraging metadata filters.\n",
        "# This one will limit the similarity query to only the texts that have key of \"source\" matching value of \"book 1\"\n",
        "book1_similar_docs = clarifai_vector_db.similarity_search(\n",
        "    \"I would love to see you\", filter={\"source\": \"book 1\"}\n",
        ")\n",
        "\n",
        "# you can also use lists in the input's metadata and then select things that match an item in the list. This is useful for categories like below:\n",
        "book_category_similar_docs = clarifai_vector_db.similarity_search(\n",
        "    \"I would love to see you\", filter={\"category\": [\"books\"]}\n",
        ")"
      ]
    },
    {
      "attachments": {},
      "cell_type": "markdown",
      "id": "c39504e4",
      "metadata": {},
      "source": [
        "## 从文档创建\n\n从文档列表中创建 Clarifai 向量存储。本节将上传每个文档及其各自的元数据到 Clarifai Application。然后，Clarifai Application 可用于语义搜索以查找相关文档。"
      ]
    },
    {
      "cell_type": "code",
      "execution_count": null,
      "id": "a3c3999a",
      "metadata": {},
      "outputs": [],
      "source": [
        "loader = TextLoader(\"your_local_file_path.txt\")\n",
        "documents = loader.load()\n",
        "text_splitter = CharacterTextSplitter(chunk_size=1000, chunk_overlap=0)\n",
        "docs = text_splitter.split_documents(documents)"
      ]
    },
    {
      "cell_type": "code",
      "execution_count": 10,
      "id": "40bf1305",
      "metadata": {},
      "outputs": [],
      "source": [
        "USER_ID = \"USERNAME_ID\"\n",
        "APP_ID = \"APPLICATION_ID\"\n",
        "NUMBER_OF_DOCS = 4"
      ]
    },
    {
      "cell_type": "markdown",
      "id": "52d86f01-3462-440e-8960-3c0c17b98f09",
      "metadata": {},
      "source": [
        "创建一个 clarifai 向量数据库类，并将所有文档摄入 clarifai App。"
      ]
    },
    {
      "cell_type": "code",
      "execution_count": null,
      "id": "6e104aee",
      "metadata": {},
      "outputs": [],
      "source": [
        "clarifai_vector_db = Clarifai.from_documents(\n",
        "    user_id=USER_ID,\n",
        "    app_id=APP_ID,\n",
        "    documents=docs,\n",
        "    number_of_docs=NUMBER_OF_DOCS,\n",
        ")"
      ]
    },
    {
      "cell_type": "code",
      "execution_count": null,
      "id": "9c608226",
      "metadata": {},
      "outputs": [],
      "source": [
        "docs = clarifai_vector_db.similarity_search(\"Texts related to population\")\n",
        "docs"
      ]
    },
    {
      "attachments": {},
      "cell_type": "markdown",
      "id": "7b332ca4-416b-4ea6-99da-b6949f399d72",
      "metadata": {},
      "source": [
        "## 从现有应用导入\n\n在 Clarifai 中，我们提供了强大的工具，可以通过 API 或 UI 向应用程序（本质上是项目）添加数据。大多数用户在与 LangChain 交互之前就已经完成了这一步，因此本示例将利用现有应用程序中的数据执行搜索。请查看我们的 [API 文档](https://docs.clarifai.com/api-guide/data/create-get-update-delete) 和 [UI 文档](https://docs.clarifai.com/portal-guide/data)。然后，Clarifai 应用程序可用于语义搜索，以查找相关文档。"
      ]
    },
    {
      "cell_type": "code",
      "execution_count": 7,
      "id": "807c1141-591b-436d-abaa-f2c325e66d39",
      "metadata": {},
      "outputs": [],
      "source": [
        "USER_ID = \"USERNAME_ID\"\n",
        "APP_ID = \"APPLICATION_ID\"\n",
        "NUMBER_OF_DOCS = 4"
      ]
    },
    {
      "cell_type": "code",
      "execution_count": 9,
      "id": "762d74ef-f7df-43d6-b121-4980c4059fc0",
      "metadata": {},
      "outputs": [],
      "source": [
        "clarifai_vector_db = Clarifai(\n",
        "    user_id=USER_ID,\n",
        "    app_id=APP_ID,\n",
        "    number_of_docs=NUMBER_OF_DOCS,\n",
        ")"
      ]
    },
    {
      "cell_type": "code",
      "execution_count": null,
      "id": "f7636b0f-68ab-4b8f-ba0f-3c27061e3631",
      "metadata": {},
      "outputs": [],
      "source": [
        "docs = clarifai_vector_db.similarity_search(\n",
        "    \"Texts related to ammuniction and president wilson\"\n",
        ")"
      ]
    },
    {
      "cell_type": "code",
      "execution_count": 51,
      "id": "55ee5fc7-94c4-45d0-84ca-00defeca871e",
      "metadata": {},
      "outputs": [
        {
          "data": {
            "text/plain": [
              "\"President Wilson, generally acclaimed as the leader of the world's democracies,\\nphrased for civilization the arguments against autocracy in the great peace conference\\nafter the war. The President headed the American delegation to that conclave of world\\nre-construction. With him as delegates to the conference were Robert Lansing, Secretary\\nof State; Henry White, former Ambassador to France and Italy; Edward M. House and\\nGeneral Tasker H. Bliss.\\nRepresenting American Labor at the International Labor conference held in Paris\\nsimultaneously with the Peace Conference were Samuel Gompers, president of the\\nAmerican Federation of Labor; William Green, secretary-treasurer of the United Mine\\nWorkers of America; John R. Alpine, president of the Plumbers' Union; James Duncan,\\npresident of the International Association of Granite Cutters; Frank Duffy, president of\\nthe United Brotherhood of Carpenters and Joiners, and Frank Morrison, secretary of the\\nAmerican Federation of Labor.\\nEstimating the share of each Allied nation in the great victory, mankind will\\nconclude that the heaviest cost in proportion to prewar population and treasure was paid\\nby the nations that first felt the shock of war, Belgium, Serbia, Poland and France. All\\nfour were the battle-grounds of huge armies, oscillating in a bloody frenzy over once\\nfertile fields and once prosperous towns.\\nBelgium, with a population of 8,000,000, had a casualty list of more than 350,000;\\nFrance, with its casualties of 4,000,000 out of a population (including its colonies) of\\n90,000,000, is really the martyr nation of the world. Her gallant poilus showed the world\\nhow cheerfully men may die in defense of home and liberty. Huge Russia, including\\nhapless Poland, had a casualty list of 7,000,000 out of its entire population of\\n180,000,000. The United States out of a population of 110,000,000 had a casualty list of\\n236,117 for nineteen months of war; of these 53,169 were killed or died of disease;\\n179,625 were wounded; and 3,323 prisoners or missing.\""
            ]
          },
          "execution_count": 51,
          "metadata": {},
          "output_type": "execute_result"
        }
      ],
      "source": [
        "docs[0].page_content"
      ]
    },
    {
      "cell_type": "code",
      "execution_count": null,
      "id": "aa7b3260-2ee3-4619-836f-da64370a855c",
      "metadata": {},
      "outputs": [],
      "source": []
    }
  ],
  "metadata": {
    "kernelspec": {
      "display_name": "Python 3 (ipykernel)",
      "language": "python",
      "name": "python3"
    },
    "language_info": {
      "codemirror_mode": {
        "name": "ipython",
        "version": 3
      },
      "file_extension": ".py",
      "mimetype": "text/x-python",
      "name": "python",
      "nbconvert_exporter": "python",
      "pygments_lexer": "ipython3",
      "version": "3.9.10"
    }
  },
  "nbformat": 4,
  "nbformat_minor": 5
}