{
  "cells": [
    {
      "cell_type": "raw",
      "id": "1957f5cb",
      "metadata": {},
      "source": [
        "---\n",
        "sidebar_label: Lindorm\n",
        "---"
      ]
    },
    {
      "cell_type": "markdown",
      "id": "ef1f0986",
      "metadata": {},
      "source": [
        "# LindormVectorStore\n\n本笔记本介绍了如何开始使用 Lindorm 向量存储。"
      ]
    },
    {
      "cell_type": "markdown",
      "id": "36fdc060",
      "metadata": {},
      "source": [
        "## 设置\n\n要访问 Lindorm 向量数据库，您需要创建一个 Lindorm 账户，获取 ak/sk，并安装 `langchain-lindorm-integration` 集成包。"
      ]
    },
    {
      "metadata": {},
      "cell_type": "code",
      "outputs": [],
      "execution_count": null,
      "source": "%pip install -qU \"langchain-lindorm-integration\"",
      "id": "beaec7d673c569f2"
    },
    {
      "cell_type": "markdown",
      "id": "9695dee7",
      "metadata": {},
      "source": [
        "### 凭证\n\n前往 [此处](https://help.aliyun.com/document_detail/2773369.html?spm=a2c4g.11186623.help-menu-172543.d_2_5_0.2a383f96gr5N3M&scm=20140722.H_2773369._.OR_help-T_cn~zh-V_1) 注册 Lindorm 并生成 ak/sk。"
      ]
    },
    {
      "cell_type": "code",
      "execution_count": 1,
      "id": "894c30e4",
      "metadata": {
        "ExecuteTime": {
          "end_time": "2025-01-08T03:05:01.792898Z",
          "start_time": "2025-01-08T03:05:01.786082Z"
        }
      },
      "outputs": [],
      "source": [
        "import os\n",
        "\n",
        "\n",
        "class Config:\n",
        "    SEARCH_ENDPOINT = os.environ.get(\"SEARCH_ENDPOINT\", \"SEARCH_ENDPOINT\")\n",
        "    SEARCH_USERNAME = os.environ.get(\"SEARCH_USERNAME\", \"root\")\n",
        "    SEARCH_PWD = os.environ.get(\"SEARCH_PASSWORD\", \"<PASSWORD>\")\n",
        "    AI_LLM_ENDPOINT = os.environ.get(\"AI_ENDPOINT\", \"<AI_ENDPOINT>\")\n",
        "    AI_USERNAME = os.environ.get(\"AI_USERNAME\", \"root\")\n",
        "    AI_PWD = os.environ.get(\"AI_PASSWORD\", \"<PASSWORD>\")\n",
        "    AI_DEFAULT_EMBEDDING_MODEL = \"bge_m3_model\"  # set to your model"
      ]
    },
    {
      "cell_type": "markdown",
      "id": "93df377e",
      "metadata": {},
      "source": [
        "## 初始化\n\n这里我们使用部署在Lindorm AI服务上的嵌入模型。"
      ]
    },
    {
      "cell_type": "code",
      "execution_count": 2,
      "id": "dc37144c-208d-4ab3-9f3a-0407a69fe052",
      "metadata": {
        "ExecuteTime": {
          "end_time": "2025-01-08T03:05:06.907334Z",
          "start_time": "2025-01-08T03:05:02.922523Z"
        },
        "tags": []
      },
      "outputs": [],
      "source": [
        "from langchain_lindorm_integration.embeddings import LindormAIEmbeddings\n",
        "from langchain_lindorm_integration.vectorstores import LindormVectorStore\n",
        "\n",
        "embeddings = LindormAIEmbeddings(\n",
        "    endpoint=Config.AI_LLM_ENDPOINT,\n",
        "    username=Config.AI_USERNAME,\n",
        "    password=Config.AI_PWD,\n",
        "    model_name=Config.AI_DEFAULT_EMBEDDING_MODEL,\n",
        ")\n",
        "\n",
        "index = \"test_index\"\n",
        "vector = embeddings.embed_query(\"hello word\")\n",
        "dimension = len(vector)\n",
        "vector_store = LindormVectorStore(\n",
        "    lindorm_search_url=Config.SEARCH_ENDPOINT,\n",
        "    embedding=embeddings,\n",
        "    http_auth=(Config.SEARCH_USERNAME, Config.SEARCH_PWD),\n",
        "    dimension=dimension,\n",
        "    embeddings=embeddings,\n",
        "    index_name=index,\n",
        ")"
      ]
    },
    {
      "cell_type": "markdown",
      "id": "ac6071d4",
      "metadata": {},
      "source": [
        "## 管理向量存储\n\n### 向向量存储添加条目"
      ]
    },
    {
      "cell_type": "code",
      "execution_count": 3,
      "id": "17f5efc0",
      "metadata": {
        "ExecuteTime": {
          "end_time": "2025-01-08T03:05:18.586696Z",
          "start_time": "2025-01-08T03:05:10.531559Z"
        }
      },
      "outputs": [
        {
          "data": {
            "text/plain": [
              "['1', '2', '3']"
            ]
          },
          "execution_count": 3,
          "metadata": {},
          "output_type": "execute_result"
        }
      ],
      "source": [
        "from langchain_core.documents import Document\n",
        "\n",
        "document_1 = Document(page_content=\"foo\", metadata={\"source\": \"https://example.com\"})\n",
        "\n",
        "document_2 = Document(page_content=\"bar\", metadata={\"source\": \"https://example.com\"})\n",
        "\n",
        "document_3 = Document(page_content=\"baz\", metadata={\"source\": \"https://example.com\"})\n",
        "\n",
        "documents = [document_1, document_2, document_3]\n",
        "\n",
        "vector_store.add_documents(documents=documents, ids=[\"1\", \"2\", \"3\"])"
      ]
    },
    {
      "cell_type": "markdown",
      "id": "dcf1b905",
      "metadata": {},
      "source": "### 从向量数据库删除项目"
    },
    {
      "cell_type": "code",
      "execution_count": 5,
      "id": "ef61e188",
      "metadata": {
        "ExecuteTime": {
          "end_time": "2025-01-08T03:06:14.829559Z",
          "start_time": "2025-01-08T03:06:14.323751Z"
        }
      },
      "outputs": [
        {
          "data": {
            "text/plain": [
              "{'took': 400,\n",
              " 'timed_out': False,\n",
              " 'total': 1,\n",
              " 'deleted': 1,\n",
              " 'batches': 1,\n",
              " 'version_conflicts': 0,\n",
              " 'noops': 0,\n",
              " 'retries': {'bulk': 0, 'search': 0},\n",
              " 'throttled_millis': 0,\n",
              " 'requests_per_second': -1.0,\n",
              " 'throttled_until_millis': 0,\n",
              " 'failures': []}"
            ]
          },
          "execution_count": 5,
          "metadata": {},
          "output_type": "execute_result"
        }
      ],
      "source": [
        "vector_store.delete(ids=[\"3\"])"
      ]
    },
    {
      "cell_type": "markdown",
      "id": "c3620501",
      "metadata": {},
      "source": [
        "## 查询向量存储\n\n一旦您的向量存储创建完毕并且已添加相关文档，您最有可能希望在链或代理运行时查询它。\n\n### 直接查询\n\n可以执行简单的相似性搜索，如下所示："
      ]
    },
    {
      "cell_type": "code",
      "execution_count": 8,
      "id": "aa0a16fa",
      "metadata": {
        "ExecuteTime": {
          "end_time": "2025-01-08T03:07:47.248796Z",
          "start_time": "2025-01-08T03:07:46.939607Z"
        }
      },
      "outputs": [
        {
          "name": "stdout",
          "output_type": "stream",
          "text": [
            "* foo [{'source': 'https://example.com'}]\n"
          ]
        }
      ],
      "source": [
        "results = vector_store.similarity_search(query=\"thud\", k=1)\n",
        "for doc in results:\n",
        "    print(f\"* {doc.page_content} [{doc.metadata}]\")"
      ]
    },
    {
      "cell_type": "markdown",
      "id": "3ed9d733",
      "metadata": {},
      "source": "如果您想执行相似性搜索并获取相应的得分，您可以运行："
    },
    {
      "cell_type": "code",
      "execution_count": 9,
      "id": "5efd2eaa",
      "metadata": {
        "ExecuteTime": {
          "end_time": "2025-01-08T03:08:02.758719Z",
          "start_time": "2025-01-08T03:08:02.501683Z"
        }
      },
      "outputs": [
        {
          "name": "stdout",
          "output_type": "stream",
          "text": [
            "* [SIM=0.671268] foo [{'source': 'https://example.com'}]\n"
          ]
        }
      ],
      "source": [
        "results = vector_store.similarity_search_with_score(query=\"thud\", k=1)\n",
        "for doc, score in results:\n",
        "    print(f\"* [SIM={score:3f}] {doc.page_content} [{doc.metadata}]\")"
      ]
    },
    {
      "cell_type": "markdown",
      "id": "901c75dc",
      "metadata": {},
      "source": [
        "## 生成的检索增强用法\n\n如需了解如何将此向量存储用于检索增强生成（RAG）的指南，请参阅以下部分：\n\n- [教程](/docs/tutorials/)\n- [如何操作：使用 RAG 进行问答](https://python.langchain.com/docs/how_to/#qa-with-rag)\n- [检索概念文档](https://python.langchain.com/docs/concepts/#retrieval)"
      ]
    },
    {
      "cell_type": "markdown",
      "id": "8a27244f",
      "metadata": {},
      "source": [
        "## API 参考\n\n如需了解 LindormVectorStore 所有特性和配置的详细文档，请访问 [API 参考](https://pypi.org/project/langchain-lindorm-integration/)。"
      ]
    }
  ],
  "metadata": {
    "kernelspec": {
      "display_name": "Python 3 (ipykernel)",
      "language": "python",
      "name": "python3"
    },
    "language_info": {
      "codemirror_mode": {
        "name": "ipython",
        "version": 3
      },
      "file_extension": ".py",
      "mimetype": "text/x-python",
      "name": "python",
      "nbconvert_exporter": "python",
      "pygments_lexer": "ipython3",
      "version": "3.10.12"
    }
  },
  "nbformat": 4,
  "nbformat_minor": 5
}