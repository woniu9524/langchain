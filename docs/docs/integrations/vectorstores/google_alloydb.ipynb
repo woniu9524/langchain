{
  "cells": [
    {
      "cell_type": "markdown",
      "metadata": {},
      "source": [
        "# Google AlloyDB for PostgreSQL\n\n> [AlloyDB](https://cloud.google.com/alloydb) 是一种完全托管的关系型数据库服务，提供高吞吐量、无缝集成和出色的可扩展性。AlloyDB 与 PostgreSQL 100% 兼容。利用 AlloyDB 的 Langchain 集成，扩展您的数据库应用程序以构建由 AI 驱动的体验。\n\n本笔记本将介绍如何使用 `AlloyDB for PostgreSQL` 通过 `AlloyDBVectorStore` 类存储向量嵌入。\n\n在 [GitHub](https://github.com/googleapis/langchain-google-alloydb-pg-python/) 上了解有关该软件包的更多信息。\n\n[![Open In Colab](https://colab.research.google.com/assets/colab-badge.svg)](https://colab.research.google.com/github/googleapis/langchain-google-alloydb-pg-python/blob/main/docs/vector_store.ipynb)"
      ]
    },
    {
      "cell_type": "markdown",
      "metadata": {},
      "source": [
        "## 开始之前\n\n要运行此笔记本，您需要执行以下操作：\n\n*   [创建 Google Cloud 项目](https://developers.google.com/workspace/guides/create-project)\n*   [启用 AlloyDB API](https://console.cloud.google.com/flows/enableapi?apiid=alloydb.googleapis.com)\n*   [创建 AlloyDB 集群和实例](https://cloud.google.com/alloydb/docs/cluster-create)\n*   [创建 AlloyDB 数据库](https://cloud.google.com/alloydb/docs/quickstart/create-and-connect)\n*   [向数据库添加用户](https://cloud.google.com/alloydb/docs/database-users/about)"
      ]
    },
    {
      "cell_type": "markdown",
      "metadata": {
        "id": "IR54BmgvdHT_"
      },
      "source": [
        "### 🦜🔗 库安装\n安装集成库 `langchain-google-alloydb-pg` 以及嵌入服务库 `langchain-google-vertexai`。"
      ]
    },
    {
      "cell_type": "code",
      "execution_count": null,
      "metadata": {
        "colab": {
          "base_uri": "https://localhost:8080/",
          "height": 1000
        },
        "id": "0ZITIDE160OD",
        "outputId": "e184bc0d-6541-4e0a-82d2-1e216db00a2d"
      },
      "outputs": [],
      "source": [
        "%pip install --upgrade --quiet  langchain-google-alloydb-pg langchain-google-vertexai"
      ]
    },
    {
      "cell_type": "markdown",
      "metadata": {
        "id": "v40bB_GMcr9f"
      },
      "source": [
        "**仅限 Colab：** 取消注释下面的单元格以重启内核，或使用按钮重启内核。对于 Vertex AI Workbench，您可以使用顶部的按钮重启终端。"
      ]
    },
    {
      "cell_type": "code",
      "execution_count": null,
      "id": "v6jBDnYnNM08",
      "metadata": {
        "id": "v6jBDnYnNM08"
      },
      "outputs": [],
      "source": [
        "# # Automatically restart kernel after installs so that your environment can access the new packages\n",
        "# import IPython\n",
        "\n",
        "# app = IPython.Application.instance()\n",
        "# app.kernel.do_shutdown(True)"
      ]
    },
    {
      "cell_type": "markdown",
      "id": "yygMe6rPWxHS",
      "metadata": {
        "id": "yygMe6rPWxHS"
      },
      "source": [
        "### 🔐 身份验证\n通过笔记本中登录的 IAM 用户身份验证到 Google Cloud，以便访问您的 Google Cloud 项目。\n\n* 如果您正在使用 Colab 运行此笔记本，请使用下面的单元格并继续。\n* 如果您正在使用 Vertex AI Workbench，请查看此处的设置说明：[https://github.com/GoogleCloudPlatform/generative-ai/tree/main/setup-env](https://github.com/GoogleCloudPlatform/generative-ai/tree/main/setup-env)。"
      ]
    },
    {
      "cell_type": "code",
      "execution_count": 1,
      "id": "PTXN1_DSXj2b",
      "metadata": {
        "id": "PTXN1_DSXj2b"
      },
      "outputs": [],
      "source": [
        "from google.colab import auth\n",
        "\n",
        "auth.authenticate_user()"
      ]
    },
    {
      "cell_type": "markdown",
      "id": "NEvB9BoLEulY",
      "metadata": {
        "id": "NEvB9BoLEulY"
      },
      "source": [
        "### ☁ 设置您的 Google Cloud 项目\n设置您的 Google Cloud 项目，以便您在此 notebook 中利用 Google Cloud 资源。\n\n如果您不知道您的项目 ID，可以尝试以下方法：\n\n* 运行 `gcloud config list`。\n* 运行 `gcloud projects list`。\n* 请参阅支持页面：[查找项目 ID](https://support.google.com/googleapi/answer/7014113)。"
      ]
    },
    {
      "cell_type": "code",
      "execution_count": null,
      "id": "gfkS3yVRE4_W",
      "metadata": {
        "cellView": "form",
        "id": "gfkS3yVRE4_W"
      },
      "outputs": [],
      "source": [
        "# @markdown Please fill in the value below with your Google Cloud project ID and then run the cell.\n",
        "\n",
        "PROJECT_ID = \"my-project-id\"  # @param {type:\"string\"}\n",
        "\n",
        "# Set the project id\n",
        "!gcloud config set project {PROJECT_ID}"
      ]
    },
    {
      "cell_type": "markdown",
      "id": "f8f2830ee9ca1e01",
      "metadata": {
        "id": "f8f2830ee9ca1e01"
      },
      "source": [
        "## 基本用法"
      ]
    },
    {
      "cell_type": "markdown",
      "id": "OMvzMWRrR6n7",
      "metadata": {
        "id": "OMvzMWRrR6n7"
      },
      "source": [
        "### 设置 AlloyDB 数据库值\n在 [AlloyDB实例页面](https://console.cloud.google.com/alloydb/clusters) 中查找您的数据库值。"
      ]
    },
    {
      "cell_type": "code",
      "execution_count": 4,
      "id": "irl7eMFnSPZr",
      "metadata": {
        "id": "irl7eMFnSPZr"
      },
      "outputs": [],
      "source": [
        "# @title Set Your Values Here { display-mode: \"form\" }\n",
        "REGION = \"us-central1\"  # @param {type: \"string\"}\n",
        "CLUSTER = \"my-cluster\"  # @param {type: \"string\"}\n",
        "INSTANCE = \"my-primary\"  # @param {type: \"string\"}\n",
        "DATABASE = \"my-database\"  # @param {type: \"string\"}\n",
        "TABLE_NAME = \"vector_store\"  # @param {type: \"string\"}"
      ]
    },
    {
      "cell_type": "markdown",
      "id": "QuQigs4UoFQ2",
      "metadata": {
        "id": "QuQigs4UoFQ2"
      },
      "source": [
        "### AlloyDB 引擎连接池\n\n将 AlloyDB 作为向量存储的基本要求之一是需要一个 `AlloyDBEngine` 对象。`AlloyDBEngine` 用于配置到您的 AlloyDB 数据库的连接池，从而实现从您的应用程序成功连接，并遵循行业最佳实践。\n\n要使用 `AlloyDBEngine.from_instance()` 创建一个 `AlloyDBEngine`，您只需要提供 5 个信息：\n\n1. `project_id`: AlloyDB 实例所在 Google Cloud 项目的项目 ID。\n1. `region`: AlloyDB 实例所在的区域。\n1. `cluster`: AlloyDB 集群的名称。\n1. `instance`: AlloyDB 实例的名称。\n1. `database`: 要连接的 AlloyDB 实例上的数据库名称。\n\n默认情况下，将使用 [IAM 数据库身份验证](https://cloud.google.com/alloydb/docs/connect-iam) 作为数据库身份验证方法。此库会使用源自环境的 [应用程序默认凭据（ADC）](https://cloud.google.com/docs/authentication/application-default-credentials) 所属的 IAM 主体。\n\n您还可以选择使用[内置数据库身份验证](https://cloud.google.com/alloydb/docs/database-users/about)，通过用户名和密码来访问 AlloyDB 数据库。只需向 `AlloyDBEngine.from_instance()` 提供可选的 `user` 和 `password` 参数即可：\n\n* `user`: 用于内置数据库身份验证和登录的数据库用户。\n* `password`: 用于内置数据库身份验证和登录的数据库密码。"
      ]
    },
    {
      "cell_type": "markdown",
      "metadata": {},
      "source": [
        "**注意：**本教程演示了异步接口。所有异步方法都有对应的同步方法。"
      ]
    },
    {
      "cell_type": "code",
      "execution_count": null,
      "metadata": {},
      "outputs": [],
      "source": [
        "from langchain_google_alloydb_pg import AlloyDBEngine\n",
        "\n",
        "engine = await AlloyDBEngine.afrom_instance(\n",
        "    project_id=PROJECT_ID,\n",
        "    region=REGION,\n",
        "    cluster=CLUSTER,\n",
        "    instance=INSTANCE,\n",
        "    database=DATABASE,\n",
        ")"
      ]
    },
    {
      "cell_type": "markdown",
      "metadata": {
        "id": "D9Xs2qhm6X56"
      },
      "source": [
        "### 初始化表\n\n`AlloyDBVectorStore` 类需要一个数据库表。`AlloyDBEngine` 引擎有一个辅助方法 `init_vectorstore_table()`，可用于为您创建具有正确架构的表。"
      ]
    },
    {
      "cell_type": "code",
      "execution_count": 34,
      "metadata": {
        "id": "avlyHEMn6gzU"
      },
      "outputs": [],
      "source": [
        "await engine.ainit_vectorstore_table(\n",
        "    table_name=TABLE_NAME,\n",
        "    vector_size=768,  # Vector size for VertexAI model(textembedding-gecko@latest)\n",
        ")"
      ]
    },
    {
      "cell_type": "markdown",
      "metadata": {},
      "source": [
        "### 创建嵌入类实例\n\n您可以使用任何 [LangChain 嵌入模型](/docs/integrations/text_embedding/)。\n您可能需要启用 Vertex AI API 来使用 `VertexAIEmbeddings`。我们建议在生产环境中设置嵌入模型的版本，详细了解 [文本嵌入模型](https://cloud.google.com/vertex-ai/docs/generative-ai/model-reference/text-embeddings)。"
      ]
    },
    {
      "cell_type": "code",
      "execution_count": 3,
      "id": "5utKIdq7KYi5",
      "metadata": {
        "id": "5utKIdq7KYi5"
      },
      "outputs": [],
      "source": [
        "# enable Vertex AI API\n",
        "!gcloud services enable aiplatform.googleapis.com"
      ]
    },
    {
      "cell_type": "code",
      "execution_count": 16,
      "metadata": {
        "colab": {
          "base_uri": "https://localhost:8080/"
        },
        "id": "Vb2RJocV9_LQ",
        "outputId": "37f5dc74-2512-47b2-c135-f34c10afdcf4"
      },
      "outputs": [],
      "source": [
        "from langchain_google_vertexai import VertexAIEmbeddings\n",
        "\n",
        "embedding = VertexAIEmbeddings(\n",
        "    model_name=\"textembedding-gecko@latest\", project=PROJECT_ID\n",
        ")"
      ]
    },
    {
      "cell_type": "markdown",
      "metadata": {
        "id": "e1tl0aNx7SWy"
      },
      "source": [
        "### 初始化默认 AlloyDB 向量存储"
      ]
    },
    {
      "cell_type": "code",
      "execution_count": null,
      "metadata": {
        "id": "z-AZyzAQ7bsf"
      },
      "outputs": [],
      "source": [
        "from langchain_google_alloydb_pg import AlloyDBVectorStore\n",
        "\n",
        "store = await AlloyDBVectorStore.create(\n",
        "    engine=engine,\n",
        "    table_name=TABLE_NAME,\n",
        "    embedding_service=embedding,\n",
        ")"
      ]
    },
    {
      "cell_type": "markdown",
      "metadata": {},
      "source": [
        "### 添加文本"
      ]
    },
    {
      "cell_type": "code",
      "execution_count": null,
      "metadata": {},
      "outputs": [],
      "source": [
        "import uuid\n",
        "\n",
        "all_texts = [\"Apples and oranges\", \"Cars and airplanes\", \"Pineapple\", \"Train\", \"Banana\"]\n",
        "metadatas = [{\"len\": len(t)} for t in all_texts]\n",
        "ids = [str(uuid.uuid4()) for _ in all_texts]\n",
        "\n",
        "await store.aadd_texts(all_texts, metadatas=metadatas, ids=ids)"
      ]
    },
    {
      "cell_type": "markdown",
      "metadata": {},
      "source": [
        "### 清除文本"
      ]
    },
    {
      "cell_type": "code",
      "execution_count": null,
      "metadata": {},
      "outputs": [],
      "source": [
        "await store.adelete([ids[1]])"
      ]
    },
    {
      "cell_type": "markdown",
      "metadata": {},
      "source": [
        "### 搜索文档"
      ]
    },
    {
      "cell_type": "code",
      "execution_count": null,
      "metadata": {},
      "outputs": [],
      "source": [
        "query = \"I'd like a fruit.\"\n",
        "docs = await store.asimilarity_search(query)\n",
        "print(docs)"
      ]
    },
    {
      "cell_type": "markdown",
      "metadata": {},
      "source": [
        "### 按向量搜索文档"
      ]
    },
    {
      "cell_type": "code",
      "execution_count": null,
      "metadata": {},
      "outputs": [],
      "source": [
        "query_vector = embedding.embed_query(query)\n",
        "docs = await store.asimilarity_search_by_vector(query_vector, k=2)\n",
        "print(docs)"
      ]
    },
    {
      "cell_type": "markdown",
      "metadata": {},
      "source": [
        "## 添加索引\n\n通过应用向量索引来加速向量搜索查询。详细了解 [向量索引](https://cloud.google.com/blog/products/databases/faster-similarity-search-performance-with-pgvector-indexes)。"
      ]
    },
    {
      "cell_type": "code",
      "execution_count": null,
      "metadata": {},
      "outputs": [],
      "source": [
        "from langchain_google_alloydb_pg.indexes import IVFFlatIndex\n",
        "\n",
        "index = IVFFlatIndex()\n",
        "await store.aapply_vector_index(index)"
      ]
    },
    {
      "cell_type": "markdown",
      "metadata": {},
      "source": [
        "### 重新索引"
      ]
    },
    {
      "cell_type": "code",
      "execution_count": null,
      "metadata": {},
      "outputs": [],
      "source": [
        "await store.areindex()  # Re-index using default index name"
      ]
    },
    {
      "cell_type": "markdown",
      "metadata": {},
      "source": [
        "### 删除索引"
      ]
    },
    {
      "cell_type": "code",
      "execution_count": null,
      "metadata": {},
      "outputs": [],
      "source": [
        "await store.adrop_vector_index()  # Delete index using default name"
      ]
    },
    {
      "cell_type": "markdown",
      "metadata": {},
      "source": [
        "## 创建自定义向量存储 (Vector Store)\n\n向量存储可以利用关系数据来过滤相似性搜索。\n\n创建一个包含自定义元数据列的表。"
      ]
    },
    {
      "cell_type": "code",
      "execution_count": null,
      "metadata": {},
      "outputs": [],
      "source": [
        "from langchain_google_alloydb_pg import Column\n",
        "\n",
        "# Set table name\n",
        "TABLE_NAME = \"vectorstore_custom\"\n",
        "\n",
        "await engine.ainit_vectorstore_table(\n",
        "    table_name=TABLE_NAME,\n",
        "    vector_size=768,  # VertexAI model: textembedding-gecko@latest\n",
        "    metadata_columns=[Column(\"len\", \"INTEGER\")],\n",
        ")\n",
        "\n",
        "\n",
        "# Initialize AlloyDBVectorStore\n",
        "custom_store = await AlloyDBVectorStore.create(\n",
        "    engine=engine,\n",
        "    table_name=TABLE_NAME,\n",
        "    embedding_service=embedding,\n",
        "    metadata_columns=[\"len\"],\n",
        "    # Connect to a existing VectorStore by customizing the table schema:\n",
        "    # id_column=\"uuid\",\n",
        "    # content_column=\"documents\",\n",
        "    # embedding_column=\"vectors\",\n",
        ")"
      ]
    },
    {
      "cell_type": "markdown",
      "metadata": {},
      "source": [
        "### 按元数据筛选搜索文档"
      ]
    },
    {
      "cell_type": "code",
      "execution_count": null,
      "metadata": {},
      "outputs": [],
      "source": [
        "import uuid\n",
        "\n",
        "# Add texts to the Vector Store\n",
        "all_texts = [\"Apples and oranges\", \"Cars and airplanes\", \"Pineapple\", \"Train\", \"Banana\"]\n",
        "metadatas = [{\"len\": len(t)} for t in all_texts]\n",
        "ids = [str(uuid.uuid4()) for _ in all_texts]\n",
        "await store.aadd_texts(all_texts, metadatas=metadatas, ids=ids)\n",
        "\n",
        "# Use filter on search\n",
        "docs = await custom_store.asimilarity_search_by_vector(query_vector, filter=\"len >= 6\")\n",
        "\n",
        "print(docs)"
      ]
    }
  ],
  "metadata": {
    "colab": {
      "provenance": [],
      "toc_visible": true
    },
    "kernelspec": {
      "display_name": "Python 3",
      "name": "python3"
    },
    "language_info": {
      "codemirror_mode": {
        "name": "ipython",
        "version": 3
      },
      "file_extension": ".py",
      "mimetype": "text/x-python",
      "name": "python",
      "nbconvert_exporter": "python",
      "pygments_lexer": "ipython3",
      "version": "3.11.5"
    }
  },
  "nbformat": 4,
  "nbformat_minor": 0
}