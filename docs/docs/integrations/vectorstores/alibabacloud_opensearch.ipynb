{
  "cells": [
    {
      "cell_type": "markdown",
      "metadata": {},
      "source": [
        "# 阿里云 OpenSearch\n\n>[阿里云 Opensearch](https://www.alibabacloud.com/product/opensearch) 是一个用于开发智能搜索服务的一站式平台。`OpenSearch` 构建于`阿里巴巴`开发的分布式搜索引擎之上。`OpenSearch` 服务于阿里巴巴集团超过 500 个业务场景和数千家阿里云客户。`OpenSearch` 帮助在不同搜索场景下开发搜索服务，包括电子商务、O2O、多媒体、内容行业、社区和论坛以及企业大数据查询。\n\n>`OpenSearch` 帮助您开发高质量、免维护、高性能的智能搜索服务，为您的用户提供高搜索效率和准确性。\n\n>`OpenSearch` 提供向量搜索功能。在特定场景下，尤其是在试题搜索和图像搜索场景下，您可以将向量搜索功能与多模态搜索功能结合使用，以提高搜索结果的准确性。\n\n本笔记本展示了如何使用与`阿里云 OpenSearch 向量搜索版`相关的功能。"
      ]
    },
    {
      "cell_type": "markdown",
      "metadata": {},
      "source": [
        "## 设置\n\n\n### 购买并配置实例\n\n从 [阿里云](https://opensearch.console.aliyun.com) 购买 OpenSearch Vector Search Edition，并按照帮助 [文档](https://help.aliyun.com/document_detail/463198.html?spm=a2c4g.465092.0.0.2cd15002hdwavO) 配置实例。\n\n要运行，您需要有一个正在运行的 [OpenSearch Vector Search Edition](https://opensearch.console.aliyun.com) 实例。\n\n### `AlibabaCloudOpenSearch` 类\n`AlibabaCloudOpenSearch` 类支持以下函数：\n- `add_texts`\n- `add_documents`\n- `from_texts`\n- `from_documents`\n- `similarity_search`\n- `asimilarity_search`\n- `similarity_search_by_vector`\n- `asimilarity_search_by_vector`\n- `similarity_search_with_relevance_scores`\n- `delete_doc_by_texts`\n\n请阅读 [帮助文档](https://www.alibabacloud.com/help/en/opensearch/latest/vector-search)，快速熟悉并配置 OpenSearch Vector Search Edition 实例。\n\n如果在使用的过程中遇到任何问题，请随时联系 xingshaomin.xsm@alibaba-inc.com，我们将尽力为您提供帮助和支持。"
      ]
    },
    {
      "cell_type": "markdown",
      "metadata": {
        "jupyter": {
          "outputs_hidden": false
        }
      },
      "source": [
        "实例启动并运行后，请按照以下步骤拆分文档、获取嵌入、连接到阿里云 OpenSearch 实例、索引文档以及执行向量检索。"
      ]
    },
    {
      "cell_type": "markdown",
      "metadata": {
        "jupyter": {
          "outputs_hidden": false
        }
      },
      "source": [
        "首先，我们需要安装以下 Python 包。"
      ]
    },
    {
      "cell_type": "code",
      "execution_count": 1,
      "metadata": {},
      "outputs": [],
      "source": [
        "%pip install --upgrade --quiet  langchain-community alibabacloud_ha3engine_vector"
      ]
    },
    {
      "cell_type": "markdown",
      "metadata": {
        "jupyter": {
          "outputs_hidden": false
        }
      },
      "source": [
        "我们想使用 `OpenAIEmbeddings`，所以必须获取 OpenAI API 密钥。"
      ]
    },
    {
      "cell_type": "code",
      "execution_count": null,
      "metadata": {
        "jupyter": {
          "outputs_hidden": false
        },
        "pycharm": {
          "name": "#%%\n"
        }
      },
      "outputs": [],
      "source": [
        "import getpass\n",
        "import os\n",
        "\n",
        "if \"OPENAI_API_KEY\" not in os.environ:\n",
        "    os.environ[\"OPENAI_API_KEY\"] = getpass.getpass(\"OpenAI API Key:\")"
      ]
    },
    {
      "cell_type": "markdown",
      "metadata": {},
      "source": [
        "## 示例"
      ]
    },
    {
      "cell_type": "code",
      "execution_count": null,
      "metadata": {
        "jupyter": {
          "outputs_hidden": false
        },
        "pycharm": {
          "name": "#%%\n"
        }
      },
      "outputs": [],
      "source": [
        "from langchain_community.vectorstores import (\n",
        "    AlibabaCloudOpenSearch,\n",
        "    AlibabaCloudOpenSearchSettings,\n",
        ")\n",
        "from langchain_openai import OpenAIEmbeddings\n",
        "from langchain_text_splitters import CharacterTextSplitter"
      ]
    },
    {
      "cell_type": "markdown",
      "metadata": {},
      "source": [
        "拆分文档并获取嵌入。"
      ]
    },
    {
      "cell_type": "code",
      "execution_count": null,
      "metadata": {
        "jupyter": {
          "outputs_hidden": false
        },
        "pycharm": {
          "name": "#%%\n"
        }
      },
      "outputs": [],
      "source": [
        "from langchain_community.document_loaders import TextLoader\n",
        "\n",
        "loader = TextLoader(\"../../../state_of_the_union.txt\")\n",
        "documents = loader.load()\n",
        "text_splitter = CharacterTextSplitter(chunk_size=1000, chunk_overlap=0)\n",
        "docs = text_splitter.split_documents(documents)\n",
        "\n",
        "embeddings = OpenAIEmbeddings()"
      ]
    },
    {
      "cell_type": "markdown",
      "metadata": {
        "pycharm": {
          "name": "#%% md\n"
        }
      },
      "source": [
        "创建 opensearch 设置。"
      ]
    },
    {
      "cell_type": "code",
      "execution_count": null,
      "metadata": {
        "jupyter": {
          "outputs_hidden": false
        },
        "pycharm": {
          "name": "#%%\n"
        }
      },
      "outputs": [],
      "source": [
        "settings = AlibabaCloudOpenSearchSettings(\n",
        "    endpoint=\" The endpoint of opensearch instance, You can find it from the console of Alibaba Cloud OpenSearch.\",\n",
        "    instance_id=\"The identify of opensearch instance, You can find it from the console of Alibaba Cloud OpenSearch.\",\n",
        "    protocol=\"Communication Protocol between SDK and Server, default is http.\",\n",
        "    username=\"The username specified when purchasing the instance.\",\n",
        "    password=\"The password specified when purchasing the instance.\",\n",
        "    namespace=\"The instance data will be partitioned based on the namespace field. If the namespace is enabled, you need to specify the namespace field name during initialization. Otherwise, the queries cannot be executed correctly.\",\n",
        "    tablename=\"The table name specified during instance configuration.\",\n",
        "    embedding_field_separator=\"Delimiter specified for writing vector field data, default is comma.\",\n",
        "    output_fields=\"Specify the field list returned when invoking OpenSearch, by default it is the value list of the field mapping field.\",\n",
        "    field_name_mapping={\n",
        "        \"id\": \"id\",  # The id field name mapping of index document.\n",
        "        \"document\": \"document\",  # The text field name mapping of index document.\n",
        "        \"embedding\": \"embedding\",  # The embedding field name mapping of index document.\n",
        "        \"name_of_the_metadata_specified_during_search\": \"opensearch_metadata_field_name,=\",\n",
        "        # The metadata field name mapping of index document, could specify multiple, The value field contains mapping name and operator, the operator would be used when executing metadata filter query,\n",
        "        # Currently supported logical operators are: > (greater than), < (less than), = (equal to), <= (less than or equal to), >= (greater than or equal to), != (not equal to).\n",
        "        # Refer to this link: https://help.aliyun.com/zh/open-search/vector-search-edition/filter-expression\n",
        "    },\n",
        ")\n",
        "\n",
        "# for example\n",
        "\n",
        "# settings = AlibabaCloudOpenSearchSettings(\n",
        "#     endpoint='ha-cn-5yd3fhdm102.public.ha.aliyuncs.com',\n",
        "#     instance_id='ha-cn-5yd3fhdm102',\n",
        "#     username='instance user name',\n",
        "#     password='instance password',\n",
        "#     table_name='test_table',\n",
        "#     field_name_mapping={\n",
        "#         \"id\": \"id\",\n",
        "#         \"document\": \"document\",\n",
        "#         \"embedding\": \"embedding\",\n",
        "#         \"string_field\": \"string_filed,=\",\n",
        "#         \"int_field\": \"int_filed,=\",\n",
        "#         \"float_field\": \"float_field,=\",\n",
        "#         \"double_field\": \"double_field,=\"\n",
        "#\n",
        "#     },\n",
        "# )"
      ]
    },
    {
      "cell_type": "markdown",
      "metadata": {},
      "source": [
        "通过设置创建 OpenSearch 访问实例。"
      ]
    },
    {
      "cell_type": "code",
      "execution_count": null,
      "metadata": {
        "jupyter": {
          "outputs_hidden": false
        },
        "pycharm": {
          "name": "#%%\n"
        }
      },
      "outputs": [],
      "source": [
        "# Create an opensearch instance and index docs.\n",
        "opensearch = AlibabaCloudOpenSearch.from_texts(\n",
        "    texts=docs, embedding=embeddings, config=settings\n",
        ")"
      ]
    },
    {
      "cell_type": "markdown",
      "metadata": {},
      "source": [
        "或"
      ]
    },
    {
      "cell_type": "code",
      "execution_count": null,
      "metadata": {
        "jupyter": {
          "outputs_hidden": false
        },
        "pycharm": {
          "name": "#%%\n"
        }
      },
      "outputs": [],
      "source": [
        "# Create an opensearch instance.\n",
        "opensearch = AlibabaCloudOpenSearch(embedding=embeddings, config=settings)"
      ]
    },
    {
      "cell_type": "markdown",
      "metadata": {},
      "source": [
        "添加文本并构建索引。"
      ]
    },
    {
      "cell_type": "code",
      "execution_count": null,
      "metadata": {
        "jupyter": {
          "outputs_hidden": false
        },
        "pycharm": {
          "name": "#%%\n"
        }
      },
      "outputs": [],
      "source": [
        "metadatas = [\n",
        "    {\"string_field\": \"value1\", \"int_field\": 1, \"float_field\": 1.0, \"double_field\": 2.0},\n",
        "    {\"string_field\": \"value2\", \"int_field\": 2, \"float_field\": 3.0, \"double_field\": 4.0},\n",
        "    {\"string_field\": \"value3\", \"int_field\": 3, \"float_field\": 5.0, \"double_field\": 6.0},\n",
        "]\n",
        "# the key of metadatas must match field_name_mapping in settings.\n",
        "opensearch.add_texts(texts=docs, ids=[], metadatas=metadatas)"
      ]
    },
    {
      "cell_type": "markdown",
      "metadata": {},
      "source": [
        "查询和检索数据。"
      ]
    },
    {
      "cell_type": "code",
      "execution_count": null,
      "metadata": {
        "jupyter": {
          "outputs_hidden": false
        },
        "pycharm": {
          "name": "#%%\n"
        }
      },
      "outputs": [],
      "source": [
        "query = \"What did the president say about Ketanji Brown Jackson\"\n",
        "docs = opensearch.similarity_search(query)\n",
        "print(docs[0].page_content)"
      ]
    },
    {
      "cell_type": "markdown",
      "metadata": {},
      "source": [
        "查询并检索带有元数据的数据。"
      ]
    },
    {
      "cell_type": "code",
      "execution_count": null,
      "metadata": {
        "jupyter": {
          "outputs_hidden": false
        },
        "pycharm": {
          "name": "#%%\n"
        }
      },
      "outputs": [],
      "source": [
        "query = \"What did the president say about Ketanji Brown Jackson\"\n",
        "metadata = {\n",
        "    \"string_field\": \"value1\",\n",
        "    \"int_field\": 1,\n",
        "    \"float_field\": 1.0,\n",
        "    \"double_field\": 2.0,\n",
        "}\n",
        "docs = opensearch.similarity_search(query, filter=metadata)\n",
        "print(docs[0].page_content)"
      ]
    },
    {
      "cell_type": "markdown",
      "metadata": {
        "pycharm": {
          "name": "#%% md\n"
        }
      },
      "source": [
        "如果您在使用过程中遇到任何问题，请随时联系 xingshaomin.xsm@alibaba-inc.com，我们将竭诚为您提供帮助和支持。"
      ]
    }
  ],
  "metadata": {
    "kernelspec": {
      "display_name": "Python 3 (ipykernel)",
      "language": "python",
      "name": "python3"
    },
    "language_info": {
      "codemirror_mode": {
        "name": "ipython",
        "version": 3
      },
      "file_extension": ".py",
      "mimetype": "text/x-python",
      "name": "python",
      "nbconvert_exporter": "python",
      "pygments_lexer": "ipython3",
      "version": "3.10.1"
    }
  },
  "nbformat": 4,
  "nbformat_minor": 4
}