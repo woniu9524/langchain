{
  "cells": [
    {
      "cell_type": "markdown",
      "id": "683953b3",
      "metadata": {},
      "source": [
        "# Chroma\n\n本笔记本介绍了如何开始使用 `Chroma` 向量存储。\n\n>[Chroma](https://docs.trychroma.com/getting-started) 是一个 AI 原生开源向量数据库，专注于开发者的生产力和满意度。Chroma 在 Apache 2.0 许可下发布。请在[此页面](https://docs.trychroma.com/reference/py-collection)查看 `Chroma` 的完整文档，并在此[此页面](https://python.langchain.com/api_reference/chroma/vectorstores/langchain_chroma.vectorstores.Chroma.html)查找 LangChain 集成的 API 参考。\n\n## 设置\n\n要访问 `Chroma` 向量存储，您需要安装 `langchain-chroma` 集成包。"
      ]
    },
    {
      "cell_type": "code",
      "execution_count": null,
      "id": "83a43688",
      "metadata": {},
      "outputs": [],
      "source": [
        "pip install -qU \"langchain-chroma>=0.1.2\""
      ]
    },
    {
      "cell_type": "markdown",
      "id": "2b5ffbf8",
      "metadata": {},
      "source": [
        "### 认证信息\n\n您可以直接使用 `Chroma` 向量存储，无需任何认证信息，只需安装上述的包即可！"
      ]
    },
    {
      "cell_type": "markdown",
      "id": "cd17cfed",
      "metadata": {},
      "source": [
        "如果你想获得一流的针对你的模型调用的自动化跟踪，你也可以通过取消下面的注释来设置你的 [LangSmith](https://docs.smith.langchain.com/) API 密钥："
      ]
    },
    {
      "cell_type": "code",
      "execution_count": null,
      "id": "dd7e1243",
      "metadata": {},
      "outputs": [],
      "source": [
        "# os.environ[\"LANGSMITH_API_KEY\"] = getpass.getpass(\"Enter your LangSmith API key: \")\n",
        "# os.environ[\"LANGSMITH_TRACING\"] = \"true\""
      ]
    },
    {
      "cell_type": "markdown",
      "id": "f47f73f4",
      "metadata": {},
      "source": [
        "## 初始化\n\n### 基本初始化 \n\n下面是一个基本初始化示例，包括使用一个目录来本地保存数据。\n\nimport EmbeddingTabs from \"@theme/EmbeddingTabs\";\n\n<EmbeddingTabs/>"
      ]
    },
    {
      "cell_type": "code",
      "execution_count": 1,
      "id": "d3ed0a9a",
      "metadata": {},
      "outputs": [],
      "source": [
        "# | output: false\n",
        "# | echo: false\n",
        "from langchain_openai import OpenAIEmbeddings\n",
        "\n",
        "embeddings = OpenAIEmbeddings(model=\"text-embedding-3-large\")"
      ]
    },
    {
      "cell_type": "code",
      "execution_count": 16,
      "id": "3ea11a7b",
      "metadata": {},
      "outputs": [],
      "source": [
        "from langchain_chroma import Chroma\n",
        "\n",
        "vector_store = Chroma(\n",
        "    collection_name=\"example_collection\",\n",
        "    embedding_function=embeddings,\n",
        "    persist_directory=\"./chroma_langchain_db\",  # Where to save data locally, remove if not necessary\n",
        ")"
      ]
    },
    {
      "cell_type": "markdown",
      "id": "ccb62a8c",
      "metadata": {},
      "source": [
        "### 从客户端初始化\n\n你也可以从 `Chroma` 客户端进行初始化，如果你想更方便地访问底层数据库，这将特别有用。"
      ]
    },
    {
      "cell_type": "code",
      "execution_count": 3,
      "id": "3fe4457f",
      "metadata": {},
      "outputs": [],
      "source": [
        "import chromadb\n",
        "\n",
        "persistent_client = chromadb.PersistentClient()\n",
        "collection = persistent_client.get_or_create_collection(\"collection_name\")\n",
        "collection.add(ids=[\"1\", \"2\", \"3\"], documents=[\"a\", \"b\", \"c\"])\n",
        "\n",
        "vector_store_from_client = Chroma(\n",
        "    client=persistent_client,\n",
        "    collection_name=\"collection_name\",\n",
        "    embedding_function=embeddings,\n",
        ")"
      ]
    },
    {
      "cell_type": "markdown",
      "id": "9d037340",
      "metadata": {},
      "source": [
        "## 管理向量存储\n\n创建向量存储后，我们可以通过添加和删除不同项来与之交互。\n\n### 向向量存储添加项\n\n我们可以使用 `add_documents` 函数向向量存储添加项。"
      ]
    },
    {
      "cell_type": "code",
      "execution_count": 17,
      "id": "da279339",
      "metadata": {},
      "outputs": [
        {
          "data": {
            "text/plain": [
              "['f22ed484-6db3-4b76-adb1-18a777426cd6',\n",
              " 'e0d5bab4-6453-4511-9a37-023d9d288faa',\n",
              " '877d76b8-3580-4d9e-a13f-eed0fa3d134a',\n",
              " '26eaccab-81ce-4c0a-8e76-bf542647df18',\n",
              " 'bcaa8239-7986-4050-bf40-e14fb7dab997',\n",
              " 'cdc44b38-a83f-4e49-b249-7765b334e09d',\n",
              " 'a7a35354-2687-4bc2-8242-3849a4d18d34',\n",
              " '8780caf1-d946-4f27-a707-67d037e9e1d8',\n",
              " 'dec6af2a-7326-408f-893d-7d7d717dfda9',\n",
              " '3b18e210-bb59-47a0-8e17-c8e51176ea5e']"
            ]
          },
          "execution_count": 17,
          "metadata": {},
          "output_type": "execute_result"
        }
      ],
      "source": [
        "from uuid import uuid4\n",
        "\n",
        "from langchain_core.documents import Document\n",
        "\n",
        "document_1 = Document(\n",
        "    page_content=\"I had chocolate chip pancakes and scrambled eggs for breakfast this morning.\",\n",
        "    metadata={\"source\": \"tweet\"},\n",
        "    id=1,\n",
        ")\n",
        "\n",
        "document_2 = Document(\n",
        "    page_content=\"The weather forecast for tomorrow is cloudy and overcast, with a high of 62 degrees.\",\n",
        "    metadata={\"source\": \"news\"},\n",
        "    id=2,\n",
        ")\n",
        "\n",
        "document_3 = Document(\n",
        "    page_content=\"Building an exciting new project with LangChain - come check it out!\",\n",
        "    metadata={\"source\": \"tweet\"},\n",
        "    id=3,\n",
        ")\n",
        "\n",
        "document_4 = Document(\n",
        "    page_content=\"Robbers broke into the city bank and stole $1 million in cash.\",\n",
        "    metadata={\"source\": \"news\"},\n",
        "    id=4,\n",
        ")\n",
        "\n",
        "document_5 = Document(\n",
        "    page_content=\"Wow! That was an amazing movie. I can't wait to see it again.\",\n",
        "    metadata={\"source\": \"tweet\"},\n",
        "    id=5,\n",
        ")\n",
        "\n",
        "document_6 = Document(\n",
        "    page_content=\"Is the new iPhone worth the price? Read this review to find out.\",\n",
        "    metadata={\"source\": \"website\"},\n",
        "    id=6,\n",
        ")\n",
        "\n",
        "document_7 = Document(\n",
        "    page_content=\"The top 10 soccer players in the world right now.\",\n",
        "    metadata={\"source\": \"website\"},\n",
        "    id=7,\n",
        ")\n",
        "\n",
        "document_8 = Document(\n",
        "    page_content=\"LangGraph is the best framework for building stateful, agentic applications!\",\n",
        "    metadata={\"source\": \"tweet\"},\n",
        "    id=8,\n",
        ")\n",
        "\n",
        "document_9 = Document(\n",
        "    page_content=\"The stock market is down 500 points today due to fears of a recession.\",\n",
        "    metadata={\"source\": \"news\"},\n",
        "    id=9,\n",
        ")\n",
        "\n",
        "document_10 = Document(\n",
        "    page_content=\"I have a bad feeling I am going to get deleted :(\",\n",
        "    metadata={\"source\": \"tweet\"},\n",
        "    id=10,\n",
        ")\n",
        "\n",
        "documents = [\n",
        "    document_1,\n",
        "    document_2,\n",
        "    document_3,\n",
        "    document_4,\n",
        "    document_5,\n",
        "    document_6,\n",
        "    document_7,\n",
        "    document_8,\n",
        "    document_9,\n",
        "    document_10,\n",
        "]\n",
        "uuids = [str(uuid4()) for _ in range(len(documents))]\n",
        "\n",
        "vector_store.add_documents(documents=documents, ids=uuids)"
      ]
    },
    {
      "cell_type": "markdown",
      "id": "7add6366",
      "metadata": {},
      "source": [
        "### 更新向量存储中的文档\n\n现在我们已经向向量存储添加了文档，可以使用 `update_documents` 函数更新现有文档。"
      ]
    },
    {
      "cell_type": "code",
      "execution_count": 5,
      "id": "ef5dbd1e",
      "metadata": {},
      "outputs": [],
      "source": [
        "updated_document_1 = Document(\n",
        "    page_content=\"I had chocolate chip pancakes and fried eggs for breakfast this morning.\",\n",
        "    metadata={\"source\": \"tweet\"},\n",
        "    id=1,\n",
        ")\n",
        "\n",
        "updated_document_2 = Document(\n",
        "    page_content=\"The weather forecast for tomorrow is sunny and warm, with a high of 82 degrees.\",\n",
        "    metadata={\"source\": \"news\"},\n",
        "    id=2,\n",
        ")\n",
        "\n",
        "vector_store.update_document(document_id=uuids[0], document=updated_document_1)\n",
        "# You can also update multiple documents at once\n",
        "vector_store.update_documents(\n",
        "    ids=uuids[:2], documents=[updated_document_1, updated_document_2]\n",
        ")"
      ]
    },
    {
      "cell_type": "markdown",
      "id": "74b9a13a",
      "metadata": {},
      "source": [
        "### 从向量存储中删除项目\n\n我们也可以像下面这样从向量存储中删除项目："
      ]
    },
    {
      "cell_type": "code",
      "execution_count": 6,
      "id": "56f17791",
      "metadata": {},
      "outputs": [],
      "source": [
        "vector_store.delete(ids=uuids[-1])"
      ]
    },
    {
      "cell_type": "markdown",
      "id": "213acf08",
      "metadata": {},
      "source": [
        "## 查询向量仓库\n\n一旦你创建了向量仓库并将相关文档添加进去，你最有可能希望在链或代理运行时查询它。\n\n### 直接查询\n\n#### 相似性搜索\n\n执行简单的相似性搜索可以这样做："
      ]
    },
    {
      "cell_type": "code",
      "execution_count": 7,
      "id": "e2b96fcf",
      "metadata": {},
      "outputs": [
        {
          "name": "stdout",
          "output_type": "stream",
          "text": [
            "* Building an exciting new project with LangChain - come check it out! [{'source': 'tweet'}]\n",
            "* LangGraph is the best framework for building stateful, agentic applications! [{'source': 'tweet'}]\n"
          ]
        }
      ],
      "source": [
        "results = vector_store.similarity_search(\n",
        "    \"LangChain provides abstractions to make working with LLMs easy\",\n",
        "    k=2,\n",
        "    filter={\"source\": \"tweet\"},\n",
        ")\n",
        "for res in results:\n",
        "    print(f\"* {res.page_content} [{res.metadata}]\")"
      ]
    },
    {
      "cell_type": "markdown",
      "id": "cdd117ea",
      "metadata": {},
      "source": [
        "#### 带分数的相似性搜索\n\n如果你想执行一个相似性搜索并获得相应的分数，你可以运行："
      ]
    },
    {
      "cell_type": "code",
      "execution_count": 8,
      "id": "2768a331",
      "metadata": {},
      "outputs": [
        {
          "name": "stdout",
          "output_type": "stream",
          "text": [
            "* [SIM=1.726390] The stock market is down 500 points today due to fears of a recession. [{'source': 'news'}]\n"
          ]
        }
      ],
      "source": [
        "results = vector_store.similarity_search_with_score(\n",
        "    \"Will it be hot tomorrow?\", k=1, filter={\"source\": \"news\"}\n",
        ")\n",
        "for res, score in results:\n",
        "    print(f\"* [SIM={score:3f}] {res.page_content} [{res.metadata}]\")"
      ]
    },
    {
      "cell_type": "markdown",
      "id": "92b436c8",
      "metadata": {},
      "source": [
        "#### 按向量搜索\n\n您也可以通过向量进行搜索："
      ]
    },
    {
      "cell_type": "code",
      "execution_count": 9,
      "id": "8ea434a5",
      "metadata": {},
      "outputs": [
        {
          "name": "stdout",
          "output_type": "stream",
          "text": [
            "* I had chocolate chip pancakes and fried eggs for breakfast this morning. [{'source': 'tweet'}]\n"
          ]
        }
      ],
      "source": [
        "results = vector_store.similarity_search_by_vector(\n",
        "    embedding=embeddings.embed_query(\"I love green eggs and ham!\"), k=1\n",
        ")\n",
        "for doc in results:\n",
        "    print(f\"* {doc.page_content} [{doc.metadata}]\")"
      ]
    },
    {
      "cell_type": "markdown",
      "id": "9c1c1e6f",
      "metadata": {},
      "source": [
        "#### 其他搜索方法\n\n本笔记本未涵盖各种其他搜索方法，例如 MMR 搜索或按向量搜索。如需 `AstraDBVectorStore` 可用的搜索功能列表，请参阅 [API 参考](https://python.langchain.com/api_reference/astradb/vectorstores/langchain_astradb.vectorstores.AstraDBVectorStore.html)。\n\n### 通过转换为检索器进行查询\n\n您还可以将向量存储转换为检索器，以便在链中更轻松地使用。有关您可以传递的不同搜索类型和 kwargs 的更多信息，请访问 [此处](https://python.langchain.com/api_reference/chroma/vectorstores/langchain_chroma.vectorstores.Chroma.html#langchain_chroma.vectorstores.Chroma.as_retriever) 的 API 参考。"
      ]
    },
    {
      "cell_type": "code",
      "execution_count": 12,
      "id": "7b6f7867",
      "metadata": {},
      "outputs": [
        {
          "data": {
            "text/plain": [
              "[Document(metadata={'source': 'news'}, page_content='Robbers broke into the city bank and stole $1 million in cash.')]"
            ]
          },
          "execution_count": 12,
          "metadata": {},
          "output_type": "execute_result"
        }
      ],
      "source": [
        "retriever = vector_store.as_retriever(\n",
        "    search_type=\"mmr\", search_kwargs={\"k\": 1, \"fetch_k\": 5}\n",
        ")\n",
        "retriever.invoke(\"Stealing from the bank is a crime\", filter={\"source\": \"news\"})"
      ]
    },
    {
      "cell_type": "markdown",
      "id": "a2b7b73c",
      "metadata": {},
      "source": [
        "## 用于检索增强生成的使用方法\n\n有关如何将此向量存储用于检索增强生成 (RAG) 的指南，请参阅以下章节：\n\n- [教程](/docs/tutorials/)\n- [操作方法：使用 RAG 进行问答](https://python.langchain.com/docs/how_to/#qa-with-rag)\n- [检索概念文档](https://python.langchain.com/docs/concepts/retrieval)"
      ]
    },
    {
      "cell_type": "markdown",
      "id": "fed28359",
      "metadata": {},
      "source": [
        "## API 参考\n\n有关所有 `Chroma` 向量存储功能和配置的详细文档，请访问 API 参考：https://python.langchain.com/api_reference/chroma/vectorstores/langchain_chroma.vectorstores.Chroma.html"
      ]
    }
  ],
  "metadata": {
    "kernelspec": {
      "display_name": "Python 3 (ipykernel)",
      "language": "python",
      "name": "python3"
    },
    "language_info": {
      "codemirror_mode": {
        "name": "ipython",
        "version": 3
      },
      "file_extension": ".py",
      "mimetype": "text/x-python",
      "name": "python",
      "nbconvert_exporter": "python",
      "pygments_lexer": "ipython3",
      "version": "3.11.9"
    }
  },
  "nbformat": 4,
  "nbformat_minor": 5
}