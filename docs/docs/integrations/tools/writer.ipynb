{
  "cells": [
    {
      "cell_type": "markdown",
      "id": "a6f91f20",
      "metadata": {},
      "source": [
        "# Writer 工具\n\n本 Notebook 快速概述了如何开始使用 Writer 的 [tools](https://python.langchain.com/docs/concepts/tools/)。如需了解所有 Writer 功能和配置的详细文档，请前往 [Writer 文档](https://dev.writer.com/home)。\n\n## 概述\n\n### 集成详情\n\n| 类                                                                                                         | 包裹           | 本地 | 可序列化 | JS 支持 |                                                                    包裹下载                                                                    |                                                                    最新包裹                                                                    |\n|:-----------------------------------------------------------------------------------------------------------|:---------------|:----:|:-------:|:-------:|:------------------------------------------------------------------------------------------------------------------------------------------------------------------------------------------------:|:---------------------------------------------------------------------------------------------------------------------------------------------------------------------------------------------------------------:|\n| [GraphTool](https://github.com/writer/langchain-writer/blob/main/langchain_writer/tools.py#L9) | [langchain-writer](https://pypi.org/project/langchain-writer/) |  ❌   |    ❌    |   ❌    | ![PyPI - Downloads](https://img.shields.io/pypi/dm/langchain-writer?style=flat-square&label=%20) | ![PyPI - Version](https://img.shields.io/pypi/v/langchain-writer?style=flat-square&label=%20) |\n\n### 功能\n\n我们提供了两种工具供 `ChatWriter` 使用：`function` 和 `graph`。\n\n#### Function\n\n函数是最常见的工具类型，它允许 LLM 调用外部 API、从数据库获取数据以及执行任何您想要执行的外部操作。请访问我们的 [工具调用文档](https://dev.writer.com/api-guides/tool-calling#tool-calling) 获取更多信息。\n\n#### Graph\n\n`Graph` 工具是 Writer 的基于图的检索增强生成 (RAG)，称为知识图谱。此工具使开发人员能够仅将图谱 ID 传递给模型，模型将返回提示中问题的答案。要了解更多信息，请参阅我们的 [知识图谱 API 文档](https://dev.writer.com/api-guides/knowledge-graph)。"
      ]
    },
    {
      "cell_type": "markdown",
      "id": "40136062a4c267f3",
      "metadata": {},
      "source": [
        "## 设置\n\n注册 [Writer AI Studio](https://app.writer.com/aistudio/signup?utm_campaign=devrel) 以生成 API 密钥（您可以遵循此 [快速入门指南](https://dev.writer.com/api-guides/quickstart)）。然后，设置 WRITER_API_KEY 环境变量："
      ]
    },
    {
      "cell_type": "code",
      "id": "80d4e1a791aaa8",
      "metadata": {},
      "source": [
        "import getpass\n",
        "import os\n",
        "\n",
        "if not os.getenv(\"WRITER_API_KEY\"):\n",
        "    os.environ[\"WRITER_API_KEY\"] = getpass.getpass(\"Enter your Writer API key: \")"
      ],
      "outputs": [],
      "execution_count": null
    },
    {
      "cell_type": "markdown",
      "id": "1c97218f-f366-479d-8bf7-fe9f2f6df73f",
      "metadata": {},
      "source": [
        "## 用法\n\n您可以将图表或函数工具绑定到 `ChatWriter`。"
      ]
    },
    {
      "cell_type": "markdown",
      "id": "570e4abffc12774",
      "metadata": {},
      "source": [
        "### 图工具\n\n要绑定图工具，首先使用您想用作源的 `graph_ids` 创建并初始化一个 `GraphTool` 实例："
      ]
    },
    {
      "cell_type": "code",
      "id": "6faaae25509f0f28",
      "metadata": {},
      "source": [
        "from langchain_writer.chat_models import ChatWriter\n",
        "from langchain_writer.tools import GraphTool\n",
        "\n",
        "chat = ChatWriter()\n",
        "\n",
        "graph_id = getpass.getpass(\"Enter Writer Knowledge Graph ID: \")\n",
        "graph_tool = GraphTool(graph_ids=[graph_id])"
      ],
      "outputs": [],
      "execution_count": null
    },
    {
      "cell_type": "markdown",
      "id": "50ea16fc3a382cf",
      "metadata": {},
      "source": "## 实例化"
    },
    {
      "cell_type": "code",
      "id": "e98d7deedb0e5c6f",
      "metadata": {},
      "source": [
        "from typing import Optional\n",
        "\n",
        "from langchain_core.tools import tool\n",
        "from pydantic import BaseModel, Field\n",
        "\n",
        "\n",
        "@tool\n",
        "def get_supercopa_trophies_count(club_name: str) -> Optional[int]:\n",
        "    \"\"\"Returns information about supercopa trophies count.\n",
        "\n",
        "    Args:\n",
        "        club_name: Club you want to investigate info of supercopa trophies about\n",
        "\n",
        "    Returns:\n",
        "        Number of supercopa trophies or None if there is no info about requested club\n",
        "    \"\"\"\n",
        "\n",
        "    if club_name == \"Barcelona\":\n",
        "        return 15\n",
        "    elif club_name == \"Real Madrid\":\n",
        "        return 13\n",
        "    elif club_name == \"Atletico Madrid\":\n",
        "        return 2\n",
        "    else:\n",
        "        return None\n",
        "\n",
        "\n",
        "class GetWeather(BaseModel):\n",
        "    \"\"\"Get the current weather in a given location\"\"\"\n",
        "\n",
        "    location: str = Field(..., description=\"The city and state, e.g. San Francisco, CA\")\n",
        "\n",
        "\n",
        "get_product_info = {\n",
        "    \"type\": \"function\",\n",
        "    \"function\": {\n",
        "        \"name\": \"get_product_info\",\n",
        "        \"description\": \"Get information about a product by its id\",\n",
        "        \"parameters\": {\n",
        "            \"type\": \"object\",\n",
        "            \"properties\": {\n",
        "                \"product_id\": {\n",
        "                    \"type\": \"number\",\n",
        "                    \"description\": \"The unique identifier of the product to retrieve information for\",\n",
        "                }\n",
        "            },\n",
        "            \"required\": [\"product_id\"],\n",
        "        },\n",
        "    },\n",
        "}"
      ],
      "outputs": [],
      "execution_count": null
    },
    {
      "cell_type": "markdown",
      "id": "1753ca46",
      "metadata": {},
      "source": [
        "### 绑定工具\n然后，你可以简单地将所有工具绑定到 `ChatWriter` 实例："
      ]
    },
    {
      "cell_type": "code",
      "id": "a4833f2597a87777",
      "metadata": {},
      "source": [
        "chat.bind_tools(\n",
        "    [graph_tool, get_supercopa_trophies_count, GetWeather, get_product_info]\n",
        ")"
      ],
      "outputs": [],
      "execution_count": null
    },
    {
      "cell_type": "markdown",
      "id": "a300614e244f4aaf",
      "metadata": {},
      "source": [
        "所有工具都存储在 `ChatWriter` 实例的 `tools` 属性中："
      ]
    },
    {
      "cell_type": "code",
      "id": "ccb61b945a56672b",
      "metadata": {},
      "source": [
        "chat.tools"
      ],
      "outputs": [],
      "execution_count": null
    },
    {
      "cell_type": "markdown",
      "id": "52dfec8a",
      "metadata": {},
      "source": [
        "`tool_choice` 属性存储着工具选择模式，默认值为 `auto`："
      ]
    },
    {
      "cell_type": "code",
      "id": "381f0d4b9a8357a4",
      "metadata": {},
      "source": [
        "chat.tool_choice"
      ],
      "outputs": [],
      "execution_count": null
    },
    {
      "cell_type": "markdown",
      "id": "74147a1a",
      "metadata": {},
      "source": [
        "## 调用\n\n模型将在调用时自动选择工具，所有模式（流式/非流式、同步/异步）均支持。"
      ]
    },
    {
      "cell_type": "code",
      "id": "74df06b58b5dc2e9",
      "metadata": {},
      "source": [
        "from langchain_core.messages import HumanMessage\n",
        "\n",
        "messages = [\n",
        "    HumanMessage(\n",
        "        \"Use knowledge graph tool to compose this answer. Tell me what th first line of documents stored in your KG. Also I want to know: how many SuperCopa trophies have Barcelona won?\"\n",
        "    )\n",
        "]\n",
        "\n",
        "response = chat.invoke(messages)\n",
        "messages.append(response)"
      ],
      "outputs": [],
      "execution_count": null
    },
    {
      "cell_type": "markdown",
      "id": "b015fdb2",
      "metadata": {},
      "source": [
        "在函数工具的情况下，您将收到一个包含工具调用请求的助手消息。"
      ]
    },
    {
      "cell_type": "code",
      "id": "e271e0fc677446b2",
      "metadata": {},
      "source": [
        "print(response.tool_calls)"
      ],
      "outputs": [],
      "execution_count": null
    },
    {
      "cell_type": "markdown",
      "id": "aeff6a17ce3176b1",
      "metadata": {},
      "source": [
        "然后，您可以手动处理工具调用请求，将其发送给模型并接收最终响应："
      ]
    },
    {
      "cell_type": "code",
      "id": "156b58108aa9b367",
      "metadata": {},
      "source": [
        "for tool_call in response.tool_calls:\n",
        "    selected_tool = {\n",
        "        \"get_supercopa_trophies_count\": get_supercopa_trophies_count,\n",
        "    }[tool_call[\"name\"].lower()]\n",
        "    tool_msg = selected_tool.invoke(tool_call)\n",
        "    messages.append(tool_msg)\n",
        "\n",
        "response = chat.invoke(messages)\n",
        "print(response.content)"
      ],
      "outputs": [],
      "execution_count": null
    },
    {
      "cell_type": "markdown",
      "id": "ff9347b2",
      "metadata": {},
      "source": [
        "通过 `GraphTool`，模型将远程调用它，并在 `additional_kwargs` 中 `graph_data` 键下返回使用信息："
      ]
    },
    {
      "cell_type": "code",
      "id": "4b3c6f05096fc9e3",
      "metadata": {},
      "source": [
        "print(response.additional_kwargs[\"graph_data\"])"
      ],
      "outputs": [],
      "execution_count": null
    },
    {
      "cell_type": "markdown",
      "id": "f001d2ca",
      "metadata": {},
      "source": [
        "`content` 属性包含最终响应："
      ]
    },
    {
      "cell_type": "code",
      "id": "eb6e0da74b10b8fc",
      "metadata": {},
      "source": [
        "print(response.content)"
      ],
      "outputs": [],
      "execution_count": null
    },
    {
      "cell_type": "markdown",
      "id": "602631cd878e5dbe",
      "metadata": {},
      "source": [
        "## 链式调用\n\n由于 Writer Graph 工具的特殊性（您无需手动调用它，Writer 服务器会自行调用并返回基于 RAG 的生成结果），无法单独调用它，因此 GraphTool 不能作为链的一部分使用。"
      ]
    },
    {
      "cell_type": "markdown",
      "id": "4ac8146c",
      "metadata": {},
      "source": [
        "## API 参考\n有关 `GraphTool` 的所有功能和配置的详细文档，请访问 [API 参考](https://python.langchain.com/api_reference/writer/tools/langchain_writer.tools.GraphTool.html#langchain_writer.tools.GraphTool)。"
      ]
    }
  ],
  "metadata": {
    "kernelspec": {
      "display_name": "Python 3 (ipykernel)",
      "language": "python",
      "name": "python3"
    },
    "language_info": {
      "codemirror_mode": {
        "name": "ipython",
        "version": 3
      },
      "file_extension": ".py",
      "mimetype": "text/x-python",
      "name": "python",
      "nbconvert_exporter": "python",
      "pygments_lexer": "ipython3",
      "version": "3.11.9"
    }
  },
  "nbformat": 4,
  "nbformat_minor": 5
}