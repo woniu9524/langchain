{
  "cells": [
    {
      "cell_type": "markdown",
      "id": "9363398d",
      "metadata": {},
      "source": [
        "# PowerBI 工具包\n\n本笔记本展示了一个与 `Power BI Dataset` 交互的代理。该代理能够回答关于数据集的一般性问题，并且可以从错误中恢复。\n\n请注意，由于此代理尚处于积极开发阶段，所有答案可能并不完全正确。它通过 [executequery endpoint](https://learn.microsoft.com/en-us/rest/api/power-bi/datasets/execute-queries) 运行，该端点不允许删除操作。\n\n### 注意事项：\n- 它依赖于 `azure.identity` 包进行身份验证，可以使用 `pip install azure-identity` 进行安装。或者，您也可以使用字符串令牌创建 Power BI 数据集，而无需提供凭据。\n- 您还可以提供一个用户名，用于模拟启用 RLS 的数据集。\n- 该工具包使用 LLM 从问题中创建查询，代理则使用 LLM 进行整体执行。\n- 测试主要针对 `gpt-3.5-turbo-instruct` 模型进行，codex 模型表现似乎不佳。"
      ]
    },
    {
      "cell_type": "markdown",
      "id": "0725445e",
      "metadata": {
        "tags": []
      },
      "source": [
        "## 初始化"
      ]
    },
    {
      "cell_type": "code",
      "execution_count": null,
      "id": "c82f33e9",
      "metadata": {
        "tags": []
      },
      "outputs": [],
      "source": [
        "from azure.identity import DefaultAzureCredential\n",
        "from langchain_community.agent_toolkits import PowerBIToolkit, create_pbi_agent\n",
        "from langchain_community.utilities.powerbi import PowerBIDataset\n",
        "from langchain_openai import ChatOpenAI"
      ]
    },
    {
      "cell_type": "code",
      "execution_count": null,
      "id": "0b2c5853",
      "metadata": {
        "tags": []
      },
      "outputs": [],
      "source": [
        "fast_llm = ChatOpenAI(\n",
        "    temperature=0.5, max_tokens=1000, model_name=\"gpt-3.5-turbo\", verbose=True\n",
        ")\n",
        "smart_llm = ChatOpenAI(temperature=0, max_tokens=100, model_name=\"gpt-4\", verbose=True)\n",
        "\n",
        "toolkit = PowerBIToolkit(\n",
        "    powerbi=PowerBIDataset(\n",
        "        dataset_id=\"<dataset_id>\",\n",
        "        table_names=[\"table1\", \"table2\"],\n",
        "        credential=DefaultAzureCredential(),\n",
        "    ),\n",
        "    llm=smart_llm,\n",
        ")\n",
        "\n",
        "agent_executor = create_pbi_agent(\n",
        "    llm=fast_llm,\n",
        "    toolkit=toolkit,\n",
        "    verbose=True,\n",
        ")"
      ]
    },
    {
      "cell_type": "markdown",
      "id": "80c92be3",
      "metadata": {},
      "source": [
        "## 示例：描述表格"
      ]
    },
    {
      "cell_type": "code",
      "execution_count": null,
      "id": "90f236cb",
      "metadata": {
        "tags": []
      },
      "outputs": [],
      "source": [
        "agent_executor.run(\"Describe table1\")"
      ]
    },
    {
      "cell_type": "markdown",
      "id": "b464930f",
      "metadata": {},
      "source": [
        "## 示例：查询表中的简单数据\n在此示例中，代理程序实际能够找出正确的查询，以获取表的行数。"
      ]
    },
    {
      "cell_type": "code",
      "execution_count": null,
      "id": "b668c907",
      "metadata": {
        "tags": []
      },
      "outputs": [],
      "source": [
        "agent_executor.run(\"How many records are in table1?\")"
      ]
    },
    {
      "cell_type": "markdown",
      "id": "f2229a2f",
      "metadata": {},
      "source": [
        "## 示例：运行查询"
      ]
    },
    {
      "cell_type": "code",
      "execution_count": null,
      "id": "865a420f",
      "metadata": {
        "tags": []
      },
      "outputs": [],
      "source": [
        "agent_executor.run(\"How many records are there by dimension1 in table2?\")"
      ]
    },
    {
      "cell_type": "code",
      "execution_count": null,
      "id": "120cd49a",
      "metadata": {
        "tags": []
      },
      "outputs": [],
      "source": [
        "agent_executor.run(\"What unique values are there for dimensions2 in table2\")"
      ]
    },
    {
      "cell_type": "markdown",
      "id": "ac584fb2",
      "metadata": {},
      "source": [
        "## 示例：添加您自己的少量样本提示"
      ]
    },
    {
      "cell_type": "code",
      "execution_count": null,
      "id": "ffa66827",
      "metadata": {},
      "outputs": [],
      "source": [
        "# fictional example\n",
        "few_shots = \"\"\"\n",
        "Question: How many rows are in the table revenue?\n",
        "DAX: EVALUATE ROW(\"Number of rows\", COUNTROWS(revenue_details))\n",
        "----\n",
        "Question: How many rows are in the table revenue where year is not empty?\n",
        "DAX: EVALUATE ROW(\"Number of rows\", COUNTROWS(FILTER(revenue_details, revenue_details[year] <> \"\")))\n",
        "----\n",
        "Question: What was the average of value in revenue in dollars?\n",
        "DAX: EVALUATE ROW(\"Average\", AVERAGE(revenue_details[dollar_value]))\n",
        "----\n",
        "\"\"\"\n",
        "toolkit = PowerBIToolkit(\n",
        "    powerbi=PowerBIDataset(\n",
        "        dataset_id=\"<dataset_id>\",\n",
        "        table_names=[\"table1\", \"table2\"],\n",
        "        credential=DefaultAzureCredential(),\n",
        "    ),\n",
        "    llm=smart_llm,\n",
        "    examples=few_shots,\n",
        ")\n",
        "agent_executor = create_pbi_agent(\n",
        "    llm=fast_llm,\n",
        "    toolkit=toolkit,\n",
        "    verbose=True,\n",
        ")"
      ]
    },
    {
      "cell_type": "code",
      "execution_count": null,
      "id": "3be44685",
      "metadata": {},
      "outputs": [],
      "source": [
        "agent_executor.run(\"What was the maximum of value in revenue in dollars in 2022?\")"
      ]
    }
  ],
  "metadata": {
    "interpreter": {
      "hash": "397704579725e15f5c7cb49fe5f0341eb7531c82d19f2c29d197e8b64ab5776b"
    },
    "kernelspec": {
      "display_name": "Python 3 (ipykernel)",
      "language": "python",
      "name": "python3"
    },
    "language_info": {
      "codemirror_mode": {
        "name": "ipython",
        "version": 3
      },
      "file_extension": ".py",
      "mimetype": "text/x-python",
      "name": "python",
      "nbconvert_exporter": "python",
      "pygments_lexer": "ipython3",
      "version": "3.10.12"
    }
  },
  "nbformat": 4,
  "nbformat_minor": 5
}