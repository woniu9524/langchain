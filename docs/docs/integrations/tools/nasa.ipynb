{
  "cells": [
    {
      "cell_type": "markdown",
      "id": "e6fd05db-21c2-4227-9900-0840bc62cb31",
      "metadata": {},
      "source": [
        "# NASA 工具包\n\n本笔记本展示了如何使用代理与 NASA 工具包进行交互。该工具包提供对 NASA 图像和视频库 API 的访问，并有望在未来迭代中扩展并包含其他可访问的 NASA API。\n\n**注意：当未指定所需的媒体结果数量时，NASA 图像和视频库的搜索查询可能导致响应过大。在将代理与 LLM令牌预算一起使用之前，请考虑这一点。**"
      ]
    },
    {
      "cell_type": "markdown",
      "id": "7d93e6bd-03d7-4d3c-b915-8b73164e2ad8",
      "metadata": {},
      "source": [
        "## 示例用法：\n---\n### 初始化 agent"
      ]
    },
    {
      "cell_type": "code",
      "execution_count": null,
      "id": "e304b602",
      "metadata": {},
      "outputs": [],
      "source": [
        "%pip install -qU langchain-community"
      ]
    },
    {
      "cell_type": "code",
      "execution_count": null,
      "id": "648a2cb2-308e-4b2e-9b73-37109be4e258",
      "metadata": {},
      "outputs": [],
      "source": [
        "from langchain.agents import AgentType, initialize_agent\n",
        "from langchain_community.agent_toolkits.nasa.toolkit import NasaToolkit\n",
        "from langchain_community.utilities.nasa import NasaAPIWrapper\n",
        "from langchain_openai import OpenAI\n",
        "\n",
        "llm = OpenAI(temperature=0, openai_api_key=\"\")\n",
        "nasa = NasaAPIWrapper()\n",
        "toolkit = NasaToolkit.from_nasa_api_wrapper(nasa)\n",
        "agent = initialize_agent(\n",
        "    toolkit.get_tools(), llm, agent=AgentType.ZERO_SHOT_REACT_DESCRIPTION, verbose=True\n",
        ")"
      ]
    },
    {
      "cell_type": "markdown",
      "id": "71f05fc9-d80d-4614-b9a3-e0a5e43cbbbb",
      "metadata": {},
      "source": [
        "### 查询媒体资源"
      ]
    },
    {
      "cell_type": "code",
      "execution_count": null,
      "id": "b97409f3-dc87-425d-b555-406cf8466a28",
      "metadata": {},
      "outputs": [],
      "source": [
        "agent.run(\n",
        "    \"Can you find three pictures of the moon published between the years 2014 and 2020?\"\n",
        ")"
      ]
    },
    {
      "cell_type": "markdown",
      "id": "a86ce5ff-de45-4206-86ca-07ae03f36bdf",
      "metadata": {},
      "source": [
        "### 查询媒体资源的详细信息"
      ]
    },
    {
      "cell_type": "code",
      "execution_count": null,
      "id": "80e86b49-749e-4026-b025-db32ed0bcc7e",
      "metadata": {},
      "outputs": [],
      "source": [
        "output = agent.run(\n",
        "    \"I've just queried an image of the moon with the NASA id NHQ_2019_0311_Go Forward to the Moon.\"\n",
        "    \" Where can I find the metadata manifest for this asset?\"\n",
        ")"
      ]
    }
  ],
  "metadata": {
    "kernelspec": {
      "display_name": "Python 3 (ipykernel)",
      "language": "python",
      "name": "python3"
    },
    "language_info": {
      "codemirror_mode": {
        "name": "ipython",
        "version": 3
      },
      "file_extension": ".py",
      "mimetype": "text/x-python",
      "name": "python",
      "nbconvert_exporter": "python",
      "pygments_lexer": "ipython3",
      "version": "3.11.5"
    }
  },
  "nbformat": 4,
  "nbformat_minor": 5
}