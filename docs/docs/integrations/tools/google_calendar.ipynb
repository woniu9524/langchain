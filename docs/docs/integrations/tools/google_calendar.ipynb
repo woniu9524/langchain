{
  "cells": [
    {
      "cell_type": "markdown",
      "metadata": {
        "vscode": {
          "languageId": "plaintext"
        }
      },
      "source": [
        "# Google 日历工具集\n\n> [Google 日历](https://workspace.google.com/intl/en-419/products/calendar/) 是 Google Workspace 的一款产品，可让用户整理日程和活动。这是一个基于云的日历，允许用户创建、编辑和删除活动。它还允许用户与其他用户共享他们的日历。\n\n## 概述\n\n本笔记本将帮助您开始使用 Google 日历工具集。此工具集可与 Google 日历 API 交互，对日历执行各种操作。它允许您：\n\n- 创建活动。\n- 搜索活动。\n- 更新活动。\n- 将活动移至不同的日历。\n- 删除活动。\n- 列出活动。\n\n## 设置\n\n要使用此工具集，您需要：\n\n1. 拥有一个有权访问 Google 日历的 Google 帐户。\n2. 按照[Google 日历 API 文档](https://developers.google.com/calendar/api/quickstart/python#authorize_credentials_for_a_desktop_application)中的说明设置您的凭据。下载 `credentials.json` 文件后，您就可以开始使用 Google 日历 API 了。\n\n要启用对单个工具的自动化跟踪，请设置您的 [LangSmith](https://docs.smith.langchain.com/) API 密钥："
      ]
    },
    {
      "cell_type": "code",
      "execution_count": null,
      "metadata": {},
      "outputs": [],
      "source": [
        "# os.environ[\"LANGSMITH_TRACING\"] = \"true\"\n",
        "# os.environ[\"LANGSMITH_API_KEY\"] = getpass.getpass(\"Enter your LangSmith API key: \")"
      ]
    },
    {
      "cell_type": "markdown",
      "metadata": {},
      "source": [
        "### 安装\n\n此工具包位于 [langchain-google](https://github.com/langchain-ai/langchain-google) 仓库的 `langchain-google-community` 包中。我们需要 `calendar` 扩展："
      ]
    },
    {
      "cell_type": "code",
      "execution_count": null,
      "metadata": {},
      "outputs": [],
      "source": [
        "%pip install -qU langchain-google-community\\[calendar\\]"
      ]
    },
    {
      "cell_type": "markdown",
      "metadata": {},
      "source": [
        "##实例化\n\n默认情况下，工具包会读取本地的 `credentials.json` 文件。您也可以手动提供一个 `Credentials` 对象。"
      ]
    },
    {
      "cell_type": "code",
      "execution_count": null,
      "metadata": {},
      "outputs": [],
      "source": [
        "from langchain_google_community import CalendarToolkit\n",
        "\n",
        "toolkit = CalendarToolkit()"
      ]
    },
    {
      "cell_type": "markdown",
      "metadata": {},
      "source": [
        "### 自定义认证\n\n在后台，`googleapi` 资源是使用以下方法创建的。你可以手动构建一个 `googleapi` 资源以获得更多认证控制。"
      ]
    },
    {
      "cell_type": "code",
      "execution_count": 2,
      "metadata": {},
      "outputs": [],
      "source": [
        "from langchain_google_community import CalendarToolkit\n",
        "from langchain_google_community.calendar.utils import (\n",
        "    build_resource_service,\n",
        "    get_google_credentials,\n",
        ")\n",
        "\n",
        "# Can review scopes here: https://developers.google.com/calendar/api/auth\n",
        "# For instance, readonly scope is https://www.googleapis.com/auth/calendar.readonly\n",
        "credentials = get_google_credentials(\n",
        "    token_file=\"token.json\",\n",
        "    scopes=[\"https://www.googleapis.com/auth/calendar\"],\n",
        "    client_secrets_file=\"credentials.json\",\n",
        ")\n",
        "\n",
        "api_resource = build_resource_service(credentials=credentials)\n",
        "toolkit = CalendarToolkit(api_resource=api_resource)"
      ]
    },
    {
      "cell_type": "markdown",
      "metadata": {},
      "source": [
        "## 工具\n查看可用工具："
      ]
    },
    {
      "cell_type": "code",
      "execution_count": 5,
      "metadata": {},
      "outputs": [
        {
          "data": {
            "text/plain": [
              "[CalendarCreateEvent(api_resource=<googleapiclient.discovery.Resource object at 0x10ad13fb0>),\n",
              " CalendarSearchEvents(api_resource=<googleapiclient.discovery.Resource object at 0x10ad13fb0>),\n",
              " CalendarUpdateEvent(api_resource=<googleapiclient.discovery.Resource object at 0x10ad13fb0>),\n",
              " GetCalendarsInfo(api_resource=<googleapiclient.discovery.Resource object at 0x10ad13fb0>),\n",
              " CalendarMoveEvent(api_resource=<googleapiclient.discovery.Resource object at 0x10ad13fb0>),\n",
              " CalendarDeleteEvent(api_resource=<googleapiclient.discovery.Resource object at 0x10ad13fb0>),\n",
              " GetCurrentDatetime(api_resource=<googleapiclient.discovery.Resource object at 0x10ad13fb0>)]"
            ]
          },
          "execution_count": 5,
          "metadata": {},
          "output_type": "execute_result"
        }
      ],
      "source": [
        "tools = toolkit.get_tools()\n",
        "tools"
      ]
    },
    {
      "cell_type": "markdown",
      "metadata": {},
      "source": [
        "- [CalendarCreateEvent](https://python.langchain.com/api_reference/google_community/calendar/langchain_google_community.calendar.create_event.CalendarCreateEvent.html)\n- [CalendarSearchEvents](https://python.langchain.com/api_reference/google_community/calendar/langchain_google_community.calendar.search_events.CalendarSearchEvents.html)\n- [CalendarUpdateEvent](https://python.langchain.com/api_reference/google_community/calendar/langchain_google_community.calendar.update_event.CalendarUpdateEvent.html)\n- [GetCalendarsInfo](https://python.langchain.com/api_reference/google_community/calendar/langchain_google_community.calendar.get_calendars_info.GetCalendarsInfo.html)\n- [CalendarMoveEvent](https://python.langchain.com/api_reference/google_community/calendar/langchain_google_community.calendar.move_event.CalendarMoveEvent.html)\n- [CalendarDeleteEvent](https://python.langchain.com/api_reference/google_community/calendar/langchain_google_community.calendar.delete_event.CalendarDeleteEvent.html)\n- [GetCurrentDatetime](https://python.langchain.com/api_reference/google_community/calendar/langchain_google_community.calendar.current_datetime.GetCurrentDatetime.html)"
      ]
    },
    {
      "cell_type": "markdown",
      "metadata": {},
      "source": [
        "## 调用\n\n### [直接使用参数调用](/docs/concepts/tools/#use-the-tool-directly)\n\n你可以通过传递字典格式的必需参数来直接调用该工具。以下是使用 `CalendarCreateEvent` 工具创建新事件的示例。"
      ]
    },
    {
      "cell_type": "code",
      "execution_count": null,
      "metadata": {},
      "outputs": [
        {
          "data": {
            "text/plain": [
              "'Event created: https://www.google.com/calendar/event?eid=amoxdjVsM2UzMW51Yjk2czc4ajhvaGdkcGcgam9yZ2VhbmczM0Bt'"
            ]
          },
          "execution_count": 7,
          "metadata": {},
          "output_type": "execute_result"
        }
      ],
      "source": [
        "from langchain_google_community.calendar.create_event import CalendarCreateEvent\n",
        "\n",
        "tool = CalendarCreateEvent()\n",
        "tool.invoke(\n",
        "    {\n",
        "        \"summary\": \"Calculus exam\",\n",
        "        \"start_datetime\": \"2025-07-11 11:00:00\",\n",
        "        \"end_datetime\": \"2025-07-11 13:00:00\",\n",
        "        \"timezone\": \"America/Mexico_City\",\n",
        "        \"location\": \"UAM Cuajimalpa\",\n",
        "        \"description\": \"Event created from the LangChain toolkit\",\n",
        "        \"reminders\": [{\"method\": \"popup\", \"minutes\": 60}],\n",
        "        \"conference_data\": True,\n",
        "        \"color_id\": \"5\",\n",
        "    }\n",
        ")"
      ]
    },
    {
      "cell_type": "markdown",
      "metadata": {},
      "source": [
        "## 在 Agent 中使用\n\n下面我们将展示如何将该工具包整合到 [Agent](/docs/tutorials/agents) 中。\n\n我们需要一个 LLM 或聊天模型：\n\nimport ChatModelTabs from \"@theme/ChatModelTabs\";\n\n<ChatModelTabs customVarName=\"llm\" />"
      ]
    },
    {
      "cell_type": "code",
      "execution_count": null,
      "metadata": {},
      "outputs": [],
      "source": [
        "# | output: false\n",
        "# | echo: false\n",
        "\n",
        "from langchain_openai import ChatOpenAI\n",
        "\n",
        "llm = ChatOpenAI(model=\"gpt-4o-mini\", temperature=0)"
      ]
    },
    {
      "cell_type": "code",
      "execution_count": 8,
      "metadata": {},
      "outputs": [],
      "source": [
        "from langgraph.prebuilt import create_react_agent\n",
        "\n",
        "agent_executor = create_react_agent(llm, tools)"
      ]
    },
    {
      "cell_type": "code",
      "execution_count": 10,
      "metadata": {},
      "outputs": [
        {
          "name": "stdout",
          "output_type": "stream",
          "text": [
            "================================\u001b[1m Human Message \u001b[0m=================================\n",
            "\n",
            "Create a green event for this afternoon to go for a 30-minute run.\n",
            "==================================\u001b[1m Ai Message \u001b[0m==================================\n",
            "Tool Calls:\n",
            "  get_current_datetime (call_drHRRhm6pdvcAuqagONUEKs5)\n",
            " Call ID: call_drHRRhm6pdvcAuqagONUEKs5\n",
            "  Args:\n",
            "=================================\u001b[1m Tool Message \u001b[0m=================================\n",
            "Name: get_current_datetime\n",
            "\n",
            "Time zone: America/Mexico_City, Date and time: 2025-04-02 19:07:30\n",
            "==================================\u001b[1m Ai Message \u001b[0m==================================\n",
            "Tool Calls:\n",
            "  create_calendar_event (call_p60zSVMmmjTy5Ctezzmlb9zD)\n",
            " Call ID: call_p60zSVMmmjTy5Ctezzmlb9zD\n",
            "  Args:\n",
            "    summary: Run\n",
            "    start_datetime: 2025-04-02 19:30:00\n",
            "    end_datetime: 2025-04-02 20:00:00\n",
            "    timezone: America/Mexico_City\n",
            "    color_id: 2\n",
            "=================================\u001b[1m Tool Message \u001b[0m=================================\n",
            "Name: create_calendar_event\n",
            "\n",
            "Event created: https://www.google.com/calendar/event?eid=czZyZHVpcG43ajNiY241dmJmNWwycjE0NWsgam9yZ2VhbmczM0Bt\n",
            "==================================\u001b[1m Ai Message \u001b[0m==================================\n",
            "\n",
            "I have created a green event for your run this afternoon. You can view it [here](https://www.google.com/calendar/event?eid=czZyZHVpcG43ajNiY241dmJmNWwycjE0NWsgam9yZ2VhbmczM0Bt). Enjoy your run!\n"
          ]
        }
      ],
      "source": [
        "example_query = \"Create a green event for this afternoon to go for a 30-minute run.\"\n",
        "\n",
        "events = agent_executor.stream(\n",
        "    {\"messages\": [(\"user\", example_query)]},\n",
        "    stream_mode=\"values\",\n",
        ")\n",
        "for event in events:\n",
        "    event[\"messages\"][-1].pretty_print()"
      ]
    },
    {
      "cell_type": "markdown",
      "metadata": {},
      "source": [
        "## API 参考\n\n- 请参阅 [Google Calendar API 概览](https://developers.google.com/calendar/api/guides/overview) 以获取 Google Calendar API 的更多详细信息。\n- 有关所有 Google Calendar Toolkit 功能和配置的详细文档，请前往 [calendar 文档](https://python.langchain.com/api_reference/google_community/calendar.html)。"
      ]
    }
  ],
  "metadata": {
    "kernelspec": {
      "display_name": ".venv",
      "language": "python",
      "name": "python3"
    },
    "language_info": {
      "codemirror_mode": {
        "name": "ipython",
        "version": 3
      },
      "file_extension": ".py",
      "mimetype": "text/x-python",
      "name": "python",
      "nbconvert_exporter": "python",
      "pygments_lexer": "ipython3",
      "version": "3.12.8"
    }
  },
  "nbformat": 4,
  "nbformat_minor": 2
}