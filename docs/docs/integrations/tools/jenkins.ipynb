{
  "cells": [
    {
      "cell_type": "markdown",
      "metadata": {},
      "source": [
        "# Jenkins\n\n用于与 [Jenkins](https://www.jenkins.io/) 交互的工具。"
      ]
    },
    {
      "cell_type": "markdown",
      "metadata": {},
      "source": [
        "## 概述\n\n`langchain-jenkins` 包允许您使用 Jenkins 执行和控制 CI/CD 管道。"
      ]
    },
    {
      "cell_type": "markdown",
      "metadata": {},
      "source": [
        "### 设置\n\n安装 `langchain-jenkins`:"
      ]
    },
    {
      "cell_type": "code",
      "execution_count": null,
      "metadata": {
        "vscode": {
          "languageId": "shellscript"
        }
      },
      "outputs": [],
      "source": [
        "%pip install --upgrade --quiet langchain-jenkins"
      ]
    },
    {
      "cell_type": "markdown",
      "metadata": {},
      "source": [
        "### 凭据\n\n您需要设置或获取授权才能访问 Jenkins 服务器。"
      ]
    },
    {
      "cell_type": "code",
      "execution_count": null,
      "metadata": {
        "vscode": {
          "languageId": "shellscript"
        }
      },
      "outputs": [],
      "source": [
        "import getpass\n",
        "import os\n",
        "\n",
        "\n",
        "def _set_env(var: str):\n",
        "    if not os.environ.get(var):\n",
        "        os.environ[var] = getpass.getpass(f\"{var}: \")\n",
        "\n",
        "\n",
        "_set_env(\"PASSWORD\")"
      ]
    },
    {
      "cell_type": "markdown",
      "metadata": {},
      "source": [
        "## 实例化\n要禁用 SSL 验证，请将 `os.environ[\"PYTHONHTTPSVERIFY\"]` 设置为 `\"0\"`"
      ]
    },
    {
      "cell_type": "code",
      "execution_count": null,
      "metadata": {},
      "outputs": [],
      "source": [
        "from langchain_jenkins import JenkinsAPIWrapper, JenkinsJobRun\n",
        "\n",
        "tools = [\n",
        "    JenkinsJobRun(\n",
        "        api_wrapper=JenkinsAPIWrapper(\n",
        "            jenkins_server=\"https://example.com\",\n",
        "            username=\"admin\",\n",
        "            password=os.environ[\"PASSWORD\"],\n",
        "        )\n",
        "    )\n",
        "]"
      ]
    },
    {
      "cell_type": "markdown",
      "metadata": {},
      "source": [
        "## 调用\n您现在可以调用 `invoke` 并传递参数。"
      ]
    },
    {
      "cell_type": "markdown",
      "metadata": {},
      "source": [
        "1. 创建 Jenkins 作业"
      ]
    },
    {
      "cell_type": "code",
      "execution_count": null,
      "metadata": {},
      "outputs": [],
      "source": [
        "jenkins_job_content = \"\"\n",
        "src_file = \"job1.xml\"\n",
        "with open(src_file) as fread:\n",
        "    jenkins_job_content = fread.read()\n",
        "tools[0].invoke({\"job\": \"job01\", \"config_xml\": jenkins_job_content, \"action\": \"create\"})"
      ]
    },
    {
      "cell_type": "markdown",
      "metadata": {},
      "source": [
        "2. 运行 Jenkins Job"
      ]
    },
    {
      "cell_type": "code",
      "execution_count": null,
      "metadata": {},
      "outputs": [],
      "source": [
        "tools[0].invoke({\"job\": \"job01\", \"parameters\": {}, \"action\": \"run\"})"
      ]
    },
    {
      "cell_type": "markdown",
      "metadata": {},
      "source": [
        "3. 获取工作信息"
      ]
    },
    {
      "cell_type": "code",
      "execution_count": null,
      "metadata": {},
      "outputs": [],
      "source": [
        "resp = tools[0].invoke({\"job\": \"job01\", \"number\": 1, \"action\": \"status\"})\n",
        "if not resp[\"inProgress\"]:\n",
        "    print(resp[\"result\"])"
      ]
    },
    {
      "cell_type": "markdown",
      "metadata": {},
      "source": [
        "4. 删除 jenkins 任务"
      ]
    },
    {
      "cell_type": "code",
      "execution_count": null,
      "metadata": {},
      "outputs": [],
      "source": [
        "tools[0].invoke({\"job\": \"job01\", \"action\": \"delete\"})"
      ]
    },
    {
      "cell_type": "markdown",
      "metadata": {},
      "source": [
        "## 链接\n\n待办事项。"
      ]
    },
    {
      "cell_type": "markdown",
      "metadata": {},
      "source": [
        "## API 参考\n\n有关详细文档，请参阅 [API 参考](https://python.langchain.com/docs/integrations/tools/jenkins/)"
      ]
    }
  ],
  "metadata": {
    "kernelspec": {
      "display_name": "Python 3 (ipykernel)",
      "language": "python",
      "name": "python3"
    },
    "language_info": {
      "codemirror_mode": {
        "name": "ipython",
        "version": 3
      },
      "file_extension": ".py",
      "mimetype": "text/x-python",
      "name": "python",
      "nbconvert_exporter": "python",
      "pygments_lexer": "ipython3",
      "version": "3.9.1"
    },
    "vscode": {
      "interpreter": {
        "hash": "3929050b09828356c9f5ebaf862d05c053d8228eddbc70f990c168e54dd824ba"
      }
    }
  },
  "nbformat": 4,
  "nbformat_minor": 4
}