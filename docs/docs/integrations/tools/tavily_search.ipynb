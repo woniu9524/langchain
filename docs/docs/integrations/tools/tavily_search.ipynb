{
  "cells": [
    {
      "cell_type": "markdown",
      "id": "a6f91f20",
      "metadata": {},
      "source": [
        "# Tavily 搜索"
      ]
    },
    {
      "cell_type": "markdown",
      "id": "5e24a889",
      "metadata": {},
      "source": [
        "[Tavily 的 Search API](https://tavily.com) 是一个专为 AI 代理 (LLMs) 构建的搜索引擎，能够快速提供实时、准确、事实性的结果。\n\n## 概览\n\n### 集成详情\n| 类 | 包 | 可序列化 | [JS 支持](https://js.langchain.com/docs/integrations/tools/tavily_search) |  最新包 |\n|:--------------------------------------------------------------|:---------------------------------------------------------------| :---: | :---: | :---: |\n| [TavilySearch](https://github.com/tavily-ai/langchain-tavily) | [langchain-tavily](https://pypi.org/project/langchain-tavily/) | ✅ | ✅  |  ![PyPI - Version](https://img.shields.io/pypi/v/langchain-tavily?style=flat-square&label=%20) |\n\n### 工具特色\n| [返回工件](/docs/how_to/tool_artifacts/) | 原生异步 |                       返回数据                        | 定价 |\n| :---: | :---: |:--------------------------------------------------------:| :---: |\n| ❌ | ✅ | title, URL, content snippet, raw_content, answer, images | 每月 1,000 次免费搜索 |\n\n\n## 设置\n\n该集成位于 `langchain-tavily` 包中。"
      ]
    },
    {
      "cell_type": "code",
      "execution_count": null,
      "id": "5536649f-e73d-42f2-8d57-80b7a790b7eb",
      "metadata": {},
      "outputs": [],
      "source": [
        "%pip install -qU langchain-tavily"
      ]
    },
    {
      "cell_type": "markdown",
      "id": "b15e9266",
      "metadata": {},
      "source": [
        "### 凭证\n\n我们还需要设置 Tavily API 密钥。你可以访问 [此网站](https://app.tavily.com/sign-in) 并创建一个账户来获取 API 密钥。"
      ]
    },
    {
      "cell_type": "code",
      "execution_count": 2,
      "id": "e0b178a2-8816-40ca-b57c-ccdd86dde9c9",
      "metadata": {
        "ExecuteTime": {
          "end_time": "2025-03-19T16:43:32.810957Z",
          "start_time": "2025-03-19T16:43:15.570Z"
        }
      },
      "outputs": [],
      "source": [
        "import getpass\n",
        "import os\n",
        "\n",
        "if not os.environ.get(\"TAVILY_API_KEY\"):\n",
        "    os.environ[\"TAVILY_API_KEY\"] = getpass.getpass(\"Tavily API key:\\n\")"
      ]
    },
    {
      "metadata": {},
      "cell_type": "markdown",
      "source": [
        "## 实例化\n\n在此，我们将展示如何实例化 Tavily 搜索工具。该工具接受各种参数来自定义搜索。实例化后，我们将使用一个简单的查询来调用该工具。此工具允许您通过 Tavily 的 Search API 端点完成搜索查询。\n\n实例化\n该工具在实例化时接受多种参数：\n\n- max_results (可选, int): 返回搜索结果的最大数量。默认为 5。\n- topic (可选, str): 搜索的类别。可以是 \"general\"（通用）、\"news\"（新闻）或 \"finance\"（财经）。默认为 \"general\"。\n- include_answer (可选, bool): 在结果中包含对原始查询的回答。默认为 False。\n- include_raw_content (可选, bool): 包含每个搜索结果的已清理和解析的 HTML。默认为 False。\n- include_images (可选, bool): 在响应中包含查询相关图片的列表。默认为 False。\n- include_image_descriptions (可选, bool): 包含每张图片的描述性文字。默认为 False。\n- search_depth (可选, str): 搜索深度，可以是 \"basic\"（基本）或 \"advanced\"（高级）。默认为 \"basic\"。\n- time_range (可选, str): 从当前日期回溯以过滤结果的时间范围 - \"day\"（天）、\"week\"（周）、\"month\"（月）或 \"year\"（年）。默认为 None。\n- include_domains (可选, List[str]): 要特别包含的域名列表。默认为 None。\n- exclude_domains (可选, List[str]): 要特别排除的域名列表。默认为 None。\n\n有关可用参数的全面概述，请参阅 [Tavily Search API 文档](https://docs.tavily.com/documentation/api-reference/endpoint/search)。"
      ],
      "id": "72461be913bfaf2b"
    },
    {
      "metadata": {},
      "cell_type": "code",
      "outputs": [],
      "execution_count": null,
      "source": [
        "from langchain_tavily import TavilySearch\n",
        "\n",
        "tool = TavilySearch(\n",
        "    max_results=5,\n",
        "    topic=\"general\",\n",
        "    # include_answer=False,\n",
        "    # include_raw_content=False,\n",
        "    # include_images=False,\n",
        "    # include_image_descriptions=False,\n",
        "    # search_depth=\"basic\",\n",
        "    # time_range=\"day\",\n",
        "    # include_domains=None,\n",
        "    # exclude_domains=None\n",
        ")"
      ],
      "id": "dc382e5426394836"
    },
    {
      "metadata": {},
      "cell_type": "markdown",
      "source": [
        "## 调用\n\n### [直接用参数调用](/docs/concepts/tools)\n\nTavily 搜索工具在调用时接受以下参数：\n- `query` (必需)：自然语言搜索查询\n- 以下参数也可以在调用时设置：`include_images`、`search_depth`、`time_range`、`include_domains`、`exclude_domains`、`include_images`\n- 出于可靠性和性能原因，某些影响响应大小的参数在调用时无法修改：“include_answer”和“include_raw_content”。这些限制可以防止意外的上下文窗口问题并确保结果的一致性。\n\n注意：可选参数供代理动态设置，如果您在实例化过程中设置了某个参数，然后在调用工具时使用不同的值，则该工具将使用您在调用过程中传递的值。"
      ],
      "id": "f997d2733b63f655"
    },
    {
      "metadata": {},
      "cell_type": "code",
      "outputs": [],
      "execution_count": null,
      "source": "tool.invoke({\"query\": \"What happened at the last wimbledon\"})",
      "id": "5e75399230ab9fc1"
    },
    {
      "cell_type": "markdown",
      "id": "d6e73897",
      "metadata": {},
      "source": [
        "### [使用 ToolCall 调用](/docs/concepts/tools)\n\n我们也可以使用模型生成的 ToolCall 来调用工具，在这种情况下会返回一个 ToolMessage："
      ]
    },
    {
      "cell_type": "code",
      "execution_count": 5,
      "id": "f90e33a7",
      "metadata": {},
      "outputs": [
        {
          "name": "stdout",
          "output_type": "stream",
          "text": [
            "{\"query\": \"euro 2024 host nation\", \"follow_up_questions\": null, \"answer\": null, \"images\": [], \"results\": [{\"title\": \"UEFA Euro 2024 - Wikipedia\", \"url\": \"https://en.wikipedia.org/wiki/UEFA_Euro_2024\", \"content\": \"Tournament details Host country Germany Dates 14 June – 14 July Teams 24 Venue(s) 10 (in 10 host cities) Final positions Champions Spain (4th title) Runners-up England Tournament statisti\n"
          ]
        }
      ],
      "source": [
        "# This is usually generated by a model, but we'll create a tool call directly for demo purposes.\n",
        "model_generated_tool_call = {\n",
        "    \"args\": {\"query\": \"euro 2024 host nation\"},\n",
        "    \"id\": \"1\",\n",
        "    \"name\": \"tavily\",\n",
        "    \"type\": \"tool_call\",\n",
        "}\n",
        "tool_msg = tool.invoke(model_generated_tool_call)\n",
        "\n",
        "# The content is a JSON string of results\n",
        "print(tool_msg.content[:400])"
      ]
    },
    {
      "cell_type": "markdown",
      "id": "659f9fbd-6fcf-445f-aa8c-72d8e60154bd",
      "metadata": {},
      "source": [
        "## 在 Agent 中使用\n\n我们可以通过将工具绑定到 Agent 来直接在 Agent Executor 中使用我们的工具。这使得 Agent 能够动态地为 Tavily 搜索工具设置可用参数。\n\n在下面的示例中，当我们要求 Agent 查找“哪个国家主办了 2024 年欧洲杯？仅包括维基百科来源。”时，Agent 将动态设置参数并调用 Tavily 搜索工具：调用 `tavily_search` 并使用 `{'query': 'Euro 2024 host nation', 'include_domains': ['wikipedia.org']`\n\nimport ChatModelTabs from \"@theme/ChatModelTabs\";\n\n<ChatModelTabs customVarName=\"llm\" />"
      ]
    },
    {
      "cell_type": "code",
      "execution_count": 10,
      "id": "b14d41f2",
      "metadata": {},
      "outputs": [],
      "source": [
        "if not os.environ.get(\"OPENAI_API_KEY\"):\n",
        "    os.environ[\"OPENAI_API_KEY\"] = getpass.getpass(\"OPENAI_API_KEY:\\n\")"
      ]
    },
    {
      "cell_type": "code",
      "execution_count": 1,
      "id": "af3123ad-7a02-40e5-b58e-7d56e23e5830",
      "metadata": {},
      "outputs": [],
      "source": [
        "# | output: false\n",
        "# | echo: false\n",
        "\n",
        "# !pip install -qU langchain langchain-openai\n",
        "from langchain.chat_models import init_chat_model\n",
        "\n",
        "llm = init_chat_model(model=\"gpt-4o\", model_provider=\"openai\", temperature=0)"
      ]
    },
    {
      "cell_type": "markdown",
      "id": "1020a506-473b-4e6a-a563-7aaf92c4d183",
      "metadata": {},
      "source": [
        "我们需要安装 langgraph："
      ]
    },
    {
      "cell_type": "code",
      "execution_count": null,
      "id": "53ddaebb-dcd0-4e84-89c2-e9a85085f16b",
      "metadata": {},
      "outputs": [],
      "source": [
        "%pip install -qU langgraph"
      ]
    },
    {
      "cell_type": "code",
      "execution_count": 2,
      "id": "fdbf35b5-3aaf-4947-9ec6-48c21533fb95",
      "metadata": {},
      "outputs": [
        {
          "name": "stdout",
          "output_type": "stream",
          "text": [
            "================================\u001b[1m Human Message \u001b[0m=================================\n",
            "\n",
            "What nation hosted the Euro 2024? Include only wikipedia sources.\n",
            "==================================\u001b[1m Ai Message \u001b[0m==================================\n",
            "Tool Calls:\n",
            "  tavily_search (call_yxmR4K2uadsQ8LKoyi8JyoLD)\n",
            " Call ID: call_yxmR4K2uadsQ8LKoyi8JyoLD\n",
            "  Args:\n",
            "    query: Euro 2024 host nation\n",
            "    include_domains: ['wikipedia.org']\n",
            "=================================\u001b[1m Tool Message \u001b[0m=================================\n",
            "Name: tavily_search\n",
            "\n",
            "{\"query\": \"Euro 2024 host nation\", \"follow_up_questions\": null, \"answer\": null, \"images\": [], \"results\": [{\"title\": \"UEFA Euro 2024 - Wikipedia\", \"url\": \"https://en.wikipedia.org/wiki/UEFA_Euro_2024\", \"content\": \"Tournament details Host country Germany Dates 14 June – 14 July Teams 24 Venue(s) 10 (in 10 host cities) Final positions Champions Spain (4th title) Runners-up England Tournament statistics Matches played 51 Goals scored 117 (2.29 per match) Attendance 2,681,288 (52,574 per match) Top scorer(s) Harry Kane Georges Mikautadze Jamal Musiala Cody Gakpo Ivan Schranz Dani Olmo (3 goals each) Best player(s) Rodri Best young player Lamine Yamal ← 2020 2028 → The 2024 UEFA European Football Championship, commonly referred to as UEFA Euro 2024 (stylised as UEFA EURO 2024) or simply Euro 2024, was the 17th UEFA European Championship, the quadrennial international football championship organised by UEFA for the European men's national teams of their member associations. Germany hosted the tournament, which took place from 14 June to 14 July 2024. The tournament involved 24 teams, with Georgia making their European Championship debut. [4] Host nation Germany were eliminated by Spain in the quarter-finals; Spain went on to win the tournament for a record fourth time after defeating England 2–1 in the final.\", \"score\": 0.9104262, \"raw_content\": null}, {\"title\": \"UEFA Euro 2024 - Simple English Wikipedia, the free encyclopedia\", \"url\": \"https://simple.wikipedia.org/wiki/UEFA_Euro_2024\", \"content\": \"The 2024 UEFA European Football Championship, also known as UEFA Euro 2024 or simply Euro 2024, was the 17th edition of the UEFA European Championship. Germany was hosting the tournament. ... The UEFA Executive Committee voted for the host in a secret ballot, with only a simple majority (more than half of the valid votes) required to determine\", \"score\": 0.81418616, \"raw_content\": null}, {\"title\": \"Championnat d'Europe de football 2024 — Wikipédia\", \"url\": \"https://fr.wikipedia.org/wiki/Championnat_d'Europe_de_football_2024\", \"content\": \"Le Championnat d'Europe de l'UEFA de football 2024 est la 17 e édition du Championnat d'Europe de football, communément abrégé en Euro 2024, compétition organisée par l'UEFA et rassemblant les meilleures équipes nationales masculines européennes. L'Allemagne est désignée pays organisateur de la compétition le 27 septembre 2018. C'est la troisième fois que des matches du Championnat\", \"score\": 0.8055255, \"raw_content\": null}, {\"title\": \"UEFA Euro 2024 bids - Wikipedia\", \"url\": \"https://en.wikipedia.org/wiki/UEFA_Euro_2024_bids\", \"content\": \"The bidding process of UEFA Euro 2024 ended on 27 September 2018 in Nyon, Switzerland, when Germany was announced to be the host. [1] Two bids came before the deadline, 3 March 2017, which were Germany and Turkey as single bids. ... Press agencies revealed on 24 October 2013, that the European football governing body UEFA would have decided on\", \"score\": 0.7882741, \"raw_content\": null}, {\"title\": \"2024 UEFA European Under-19 Championship - Wikipedia\", \"url\": \"https://en.wikipedia.org/wiki/2024_UEFA_European_Under-19_Championship\", \"content\": \"The 2024 UEFA European Under-19 Championship (also known as UEFA Under-19 Euro 2024) was the 21st edition of the UEFA European Under-19 Championship (71st edition if the Under-18 and Junior eras are included), the annual international youth football championship organised by UEFA for the men's under-19 national teams of Europe. Northern Ireland hosted the tournament from 15 to 28 July 2024.\", \"score\": 0.7783298, \"raw_content\": null}], \"response_time\": 1.67}\n",
            "==================================\u001b[1m Ai Message \u001b[0m==================================\n",
            "\n",
            "The nation that hosted Euro 2024 was Germany. You can find more information on the [Wikipedia page for UEFA Euro 2024](https://en.wikipedia.org/wiki/UEFA_Euro_2024).\n"
          ]
        }
      ],
      "source": [
        "from langchain_tavily import TavilySearch\n",
        "from langgraph.prebuilt import create_react_agent\n",
        "\n",
        "# Initialize Tavily Search Tool\n",
        "tavily_search_tool = TavilySearch(\n",
        "    max_results=5,\n",
        "    topic=\"general\",\n",
        ")\n",
        "\n",
        "agent = create_react_agent(llm, [tavily_search_tool])\n",
        "\n",
        "user_input = \"What nation hosted the Euro 2024? Include only wikipedia sources.\"\n",
        "\n",
        "for step in agent.stream(\n",
        "    {\"messages\": user_input},\n",
        "    stream_mode=\"values\",\n",
        "):\n",
        "    step[\"messages\"][-1].pretty_print()"
      ]
    },
    {
      "cell_type": "markdown",
      "id": "4ac8146c",
      "metadata": {},
      "source": [
        "## API 参考\n\n有关 Tavily Search API 所有功能和配置的详细文档，请访问 API 参考：https://docs.tavily.com/documentation/api-reference/endpoint/search"
      ]
    }
  ],
  "metadata": {
    "kernelspec": {
      "display_name": "Python 3 (ipykernel)",
      "language": "python",
      "name": "python3"
    },
    "language_info": {
      "codemirror_mode": {
        "name": "ipython",
        "version": 3
      },
      "file_extension": ".py",
      "mimetype": "text/x-python",
      "name": "python",
      "nbconvert_exporter": "python",
      "pygments_lexer": "ipython3",
      "version": "3.10.4"
    }
  },
  "nbformat": 4,
  "nbformat_minor": 5
}