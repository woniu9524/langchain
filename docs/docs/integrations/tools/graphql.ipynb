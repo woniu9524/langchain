{
  "cells": [
    {
      "cell_type": "markdown",
      "metadata": {},
      "source": [
        "# GraphQL\n\n>[GraphQL](https://graphql.org/) 是一种用于 API 的查询语言，也是在你的数据上执行这些查询的运行时。`GraphQL` 提供了对你 API 中数据的完整且易于理解的描述，使客户端能够请求他们所需的确切内容，不多也不少，从而更轻松地随着时间的推移演进 API，并支持强大的开发工具。\n\n通过将 `BaseGraphQLTool` 包含在提供给 Agent 的工具列表中，你可以授予 Agent 的能力，使其能够根据你的任何需求从 GraphQL API 查询数据。\n\n本 Jupyter Notebook 演示了如何将 `GraphQLAPIWrapper` 组件与 Agent 一起使用。\n\n在本例中，我们将使用公开的 `Star Wars GraphQL API`，其端点为：https://swapi-graphql.netlify.app/graphql 。\n\n首先，你需要安装 `httpx` 和 `gql` Python 包。"
      ]
    },
    {
      "cell_type": "code",
      "execution_count": 1,
      "metadata": {
        "vscode": {
          "languageId": "shellscript"
        }
      },
      "outputs": [
        {
          "name": "stdout",
          "output_type": "stream",
          "text": [
            "Note: you may need to restart the kernel to use updated packages.\n"
          ]
        }
      ],
      "source": [
        "pip install httpx gql > /dev/null"
      ]
    },
    {
      "cell_type": "code",
      "execution_count": 2,
      "metadata": {
        "vscode": {
          "languageId": "shellscript"
        }
      },
      "outputs": [
        {
          "name": "stdout",
          "output_type": "stream",
          "text": [
            "Note: you may need to restart the kernel to use updated packages.\n"
          ]
        }
      ],
      "source": [
        "%pip install --upgrade --quiet  langchain-community"
      ]
    },
    {
      "cell_type": "markdown",
      "metadata": {},
      "source": [
        "现在，让我们创建一个具有指定星球大战 API 端点的 `BaseGraphQLTool` 实例，并用该工具初始化一个 `Agent`。"
      ]
    },
    {
      "cell_type": "code",
      "execution_count": 3,
      "metadata": {},
      "outputs": [],
      "source": [
        "import os\n",
        "\n",
        "os.environ[\"OPENAI_API_KEY\"] = \"\""
      ]
    },
    {
      "cell_type": "code",
      "execution_count": 4,
      "metadata": {},
      "outputs": [],
      "source": [
        "from langchain_community.agent_toolkits.load_tools import load_tools\n",
        "\n",
        "tools = load_tools(\n",
        "    [\"graphql\"],\n",
        "    graphql_endpoint=\"https://swapi-graphql.netlify.app/graphql\",\n",
        ")"
      ]
    },
    {
      "cell_type": "code",
      "execution_count": 5,
      "metadata": {},
      "outputs": [],
      "source": [
        "from langgraph.prebuilt import create_react_agent\n",
        "\n",
        "agent = create_react_agent(\"openai:gpt-4.1-mini\", tools)"
      ]
    },
    {
      "cell_type": "markdown",
      "metadata": {},
      "source": [
        "现在，我们可以使用 Agent 对 Star Wars GraphQL API 运行查询。让我们让 Agent 列出所有的星球大战电影及其发行日期。"
      ]
    },
    {
      "cell_type": "code",
      "execution_count": 6,
      "metadata": {},
      "outputs": [
        {
          "name": "stdout",
          "output_type": "stream",
          "text": [
            "================================\u001b[1m Human Message \u001b[0m=================================\n",
            "\n",
            "Search for the titles of all the stawars films stored in the graphql database that has this schema allFilms {\n",
            "    films {\n",
            "      title\n",
            "      director\n",
            "      releaseDate\n",
            "      speciesConnection {\n",
            "        species {\n",
            "          name\n",
            "          classification\n",
            "          homeworld {\n",
            "            name\n",
            "          }\n",
            "        }\n",
            "      }\n",
            "    }\n",
            "  }\n",
            "\n",
            "\n",
            "==================================\u001b[1m Ai Message \u001b[0m==================================\n",
            "Tool Calls:\n",
            "  query_graphql (call_tN5A0dBbfOMewuw8Yy13bYpW)\n",
            " Call ID: call_tN5A0dBbfOMewuw8Yy13bYpW\n",
            "  Args:\n",
            "    tool_input: query { allFilms { films { title } } }\n",
            "=================================\u001b[1m Tool Message \u001b[0m=================================\n",
            "Name: query_graphql\n",
            "\n",
            "\"{\\n  \\\"allFilms\\\": {\\n    \\\"films\\\": [\\n      {\\n        \\\"title\\\": \\\"A New Hope\\\"\\n      },\\n      {\\n        \\\"title\\\": \\\"The Empire Strikes Back\\\"\\n      },\\n      {\\n        \\\"title\\\": \\\"Return of the Jedi\\\"\\n      },\\n      {\\n        \\\"title\\\": \\\"The Phantom Menace\\\"\\n      },\\n      {\\n        \\\"title\\\": \\\"Attack of the Clones\\\"\\n      },\\n      {\\n        \\\"title\\\": \\\"Revenge of the Sith\\\"\\n      }\\n    ]\\n  }\\n}\"\n",
            "==================================\u001b[1m Ai Message \u001b[0m==================================\n",
            "\n",
            "The titles of all the Star Wars films stored in the database are:\n",
            "1. A New Hope\n",
            "2. The Empire Strikes Back\n",
            "3. Return of the Jedi\n",
            "4. The Phantom Menace\n",
            "5. Attack of the Clones\n",
            "6. Revenge of the Sith\n",
            "\n",
            "If you would like more information about any of these films, please let me know!\n"
          ]
        }
      ],
      "source": [
        "graphql_fields = \"\"\"allFilms {\n",
        "    films {\n",
        "      title\n",
        "      director\n",
        "      releaseDate\n",
        "      speciesConnection {\n",
        "        species {\n",
        "          name\n",
        "          classification\n",
        "          homeworld {\n",
        "            name\n",
        "          }\n",
        "        }\n",
        "      }\n",
        "    }\n",
        "  }\n",
        "\n",
        "\"\"\"\n",
        "\n",
        "suffix = \"Search for the titles of all the stawars films stored in the graphql database that has this schema \"\n",
        "\n",
        "input_message = {\n",
        "    \"role\": \"user\",\n",
        "    \"content\": suffix + graphql_fields,\n",
        "}\n",
        "\n",
        "for step in agent.stream(\n",
        "    {\"messages\": [input_message]},\n",
        "    stream_mode=\"values\",\n",
        "):\n",
        "    step[\"messages\"][-1].pretty_print()"
      ]
    },
    {
      "cell_type": "code",
      "execution_count": null,
      "metadata": {},
      "outputs": [],
      "source": []
    }
  ],
  "metadata": {
    "interpreter": {
      "hash": "f85209c3c4c190dca7367d6a1e623da50a9a4392fd53313a7cf9d4bda9c4b85b"
    },
    "kernelspec": {
      "display_name": "Python 3 (ipykernel)",
      "language": "python",
      "name": "python3"
    },
    "language_info": {
      "codemirror_mode": {
        "name": "ipython",
        "version": 3
      },
      "file_extension": ".py",
      "mimetype": "text/x-python",
      "name": "python",
      "nbconvert_exporter": "python",
      "pygments_lexer": "ipython3",
      "version": "3.12.4"
    }
  },
  "nbformat": 4,
  "nbformat_minor": 4
}