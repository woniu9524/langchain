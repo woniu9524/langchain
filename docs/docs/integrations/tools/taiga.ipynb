{
  "cells": [
    {
      "cell_type": "raw",
      "id": "10238e62-3465-4973-9279-606cbb7ccf16",
      "metadata": {},
      "source": [
        "---\n",
        "sidebar_label: Taiga\n",
        "---"
      ]
    },
    {
      "metadata": {},
      "cell_type": "markdown",
      "source": [
        "# Taiga\n\n本 Notebook 提供了在 [langchain_taiga](https://github.com/Shikenso-Analytics/langchain-taiga/blob/main/docs/tools.ipynb) 中开始使用 Taiga 工具的快速概览。有关每个工具和配置的更多详细信息，请参阅您仓库中的 docstrings 或相关的文档页面。\n\n\n\n## 概览\n\n### 集成详情\n\n| 类                                                                                                   | 包                                                                           | 可序列化 | JS 支持 |                                        最新包                                         |\n| :--------------------------------------------------------------------------------------------------- | :--------------------------------------------------------------------------- | :---:    | :------------------------------------------------------------------------------: | :-------------------------------------------------------------------------------------------: |\n| `create_entity_tool`, `search_entities_tool`, `get_entity_by_ref_tool`, `update_entity_by_ref_tool` , `add_comment_by_ref_tool`, `add_attachment_by_ref_tool` | [langchain-taiga](https://github.com/Shikenso-Analytics/langchain-taiga)   | N/A      |                                      TBD                                       | ![PyPI - Version](https://img.shields.io/pypi/v/langchain-taiga?style=flat-square&label=%20) |\n\n### 工具功能\n\n- **`create_entity_tool`**: 在 Taiga 中创建用户故事、任务和问题。\n- **`search_entities_tool`**: 搜索 Taiga 中的用户故事、任务和问题。\n- **`get_entity_by_ref_tool`**: 通过参照获取用户故事、任务或问题。\n- **`update_entity_by_ref_tool`**: 通过参照更新用户故事、任务或问题。\n- **`add_comment_by_ref_tool`**: 向用户故事、任务或问题添加评论。\n- **`add_attachment_by_ref_tool`**: 向用户故事、任务或问题添加附件。\n\n## 设置\n\n该集成位于 `langchain-taiga` 包中。"
      ],
      "id": "41616bfd02d989a6"
    },
    {
      "cell_type": "code",
      "id": "f85b4089",
      "metadata": {
        "ExecuteTime": {
          "end_time": "2025-02-28T12:43:23.290414Z",
          "start_time": "2025-02-28T12:43:23.162563Z"
        }
      },
      "source": "%pip install --quiet -U langchain-taiga",
      "outputs": [
        {
          "name": "stdout",
          "output_type": "stream",
          "text": [
            "/home/henlein/Workspace/PyCharm/langchain/.venv/bin/python: No module named pip\r\n",
            "Note: you may need to restart the kernel to use updated packages.\n"
          ]
        }
      ],
      "execution_count": 3
    },
    {
      "cell_type": "markdown",
      "id": "b15e9266",
      "metadata": {},
      "source": [
        "### 凭据\n\n此集成需要您将 `TAIGA_URL`、`TAIGA_API_URL`、`TAIGA_USERNAME`、`TAIGA_PASSWORD` 和 `OPENAI_API_KEY` 设置为环境变量，以便与 Taiga 进行身份验证。\n\n```bash\nexport TAIGA_URL=\"https://taiga.xyz.org/\"\nexport TAIGA_API_URL=\"https://taiga.xyz.org/\"\nexport TAIGA_USERNAME=\"username\"\nexport TAIGA_PASSWORD=\"pw\"\nexport OPENAI_API_KEY=\"OPENAI_API_KEY\"\n```"
      ]
    },
    {
      "cell_type": "markdown",
      "id": "bc5ab717-fd27-4c59-b912-bdd099541478",
      "metadata": {},
      "source": [
        "设置 [LangSmith](https://smith.langchain.com/) 以获得一流的可观测性也很有帮助（但非必需）："
      ]
    },
    {
      "cell_type": "code",
      "id": "a6c2f136-6367-4f1f-825d-ae741e1bf281",
      "metadata": {
        "ExecuteTime": {
          "end_time": "2025-02-28T12:43:23.295879Z",
          "start_time": "2025-02-28T12:43:23.293809Z"
        }
      },
      "source": [
        "# os.environ[\"LANGSMITH_TRACING\"] = \"true\"\n",
        "# os.environ[\"LANGSMITH_API_KEY\"] = getpass.getpass()"
      ],
      "outputs": [],
      "execution_count": 4
    },
    {
      "metadata": {},
      "cell_type": "markdown",
      "source": [
        "## 实例化\n\n下面是一个展示如何在 `langchain_taiga` 中实例化 Taiga 工具的示例。请根据您的具体使用情况进行调整。"
      ],
      "id": "d6eab61edeeb40a5"
    },
    {
      "metadata": {},
      "cell_type": "code",
      "outputs": [],
      "execution_count": null,
      "source": [
        "from langchain_taiga.tools.discord_read_messages import create_entity_tool\n",
        "from langchain_taiga.tools.discord_send_messages import search_entities_tool\n",
        "\n",
        "create_tool = create_entity_tool\n",
        "search_tool = search_entities_tool"
      ],
      "id": "8ae97a3413cd040e"
    },
    {
      "cell_type": "markdown",
      "id": "74147a1a",
      "metadata": {},
      "source": [
        "## 调用\n\n### 使用参数直接调用\n\n下面是一个在字典中使用关键字参数调用工具的简单示例。"
      ]
    },
    {
      "cell_type": "code",
      "id": "65310a8b-eb0c-4d9e-a618-4f4abe2414fc",
      "metadata": {},
      "source": [
        "from langchain_taiga.tools.taiga_tools import (\n",
        "    add_attachment_by_ref_tool,\n",
        "    add_comment_by_ref_tool,\n",
        "    create_entity_tool,\n",
        "    get_entity_by_ref_tool,\n",
        "    search_entities_tool,\n",
        "    update_entity_by_ref_tool,\n",
        ")\n",
        "\n",
        "response = create_entity_tool.invoke(\n",
        "    {\n",
        "        \"project_slug\": \"slug\",\n",
        "        \"entity_type\": \"us\",\n",
        "        \"subject\": \"subject\",\n",
        "        \"status\": \"new\",\n",
        "        \"description\": \"desc\",\n",
        "        \"parent_ref\": 5,\n",
        "        \"assign_to\": \"user\",\n",
        "        \"due_date\": \"2022-01-01\",\n",
        "        \"tags\": [\"tag1\", \"tag2\"],\n",
        "    }\n",
        ")\n",
        "\n",
        "response = search_entities_tool.invoke(\n",
        "    {\"project_slug\": \"slug\", \"query\": \"query\", \"entity_type\": \"task\"}\n",
        ")\n",
        "\n",
        "response = get_entity_by_ref_tool.invoke(\n",
        "    {\"entity_type\": \"user_story\", \"project_id\": 1, \"ref\": \"1\"}\n",
        ")\n",
        "\n",
        "response = update_entity_by_ref_tool.invoke(\n",
        "    {\"project_slug\": \"slug\", \"entity_ref\": 555, \"entity_type\": \"us\"}\n",
        ")\n",
        "\n",
        "\n",
        "response = add_comment_by_ref_tool.invoke(\n",
        "    {\"project_slug\": \"slug\", \"entity_ref\": 3, \"entity_type\": \"us\", \"comment\": \"new\"}\n",
        ")\n",
        "\n",
        "response = add_attachment_by_ref_tool.invoke(\n",
        "    {\n",
        "        \"project_slug\": \"slug\",\n",
        "        \"entity_ref\": 3,\n",
        "        \"entity_type\": \"us\",\n",
        "        \"attachment_url\": \"url\",\n",
        "        \"content_type\": \"png\",\n",
        "        \"description\": \"desc\",\n",
        "    }\n",
        ")"
      ],
      "outputs": [],
      "execution_count": null
    },
    {
      "cell_type": "markdown",
      "id": "d6e73897",
      "metadata": {},
      "source": [
        "### 结合 ToolCall 调用\n\n如果你有一个模型生成的 `ToolCall`，请按照下面的格式将其传递给 `tool.invoke()`。"
      ]
    },
    {
      "cell_type": "code",
      "execution_count": null,
      "id": "f90e33a7",
      "metadata": {},
      "outputs": [],
      "source": [
        "# This is usually generated by a model, but we'll create a tool call directly for demo purposes.\n",
        "model_generated_tool_call = {\n",
        "    \"args\": {\"project_slug\": \"slug\", \"query\": \"query\", \"entity_type\": \"task\"},\n",
        "    \"id\": \"1\",\n",
        "    \"name\": search_entities_tool.name,\n",
        "    \"type\": \"tool_call\",\n",
        "}\n",
        "tool.invoke(model_generated_tool_call)"
      ]
    },
    {
      "metadata": {},
      "cell_type": "markdown",
      "source": [
        "## 链式调用\n\n下面是一个更完整的示例，展示了如何在链或代理与 LLM 的集成中，将 `create_entity_tool` 和 `search_entities_tool` 工具结合使用。本示例假设您有一个函数（如 `create_react_agent`），该函数可以设置一个 LangChain 风格的代理，使其能够在适当的时候调用工具。\n\n\n```python\n# 示例：在代理中使用 Taiga 工具\n\nfrom langgraph.prebuilt import create_react_agent\nfrom langchain_taiga.tools.taiga_tools import create_entity_tool, search_entities_tool\n\n# 1. 实例化或配置您的语言模型\n# (请替换为您实际的 LLM，例如 ChatOpenAI(temperature=0))\nllm = ...\n\n# 2. 构建一个能够访问这些工具的代理\nagent_executor = create_react_agent(llm, [create_entity_tool, search_entities_tool])\n\n# 4. 制定一个可能调用一个或两个工具的用户查询\nexample_query = \"Please create a new user story with the subject 'subject' in slug project: 'slug'\"\n\n# 5. 以流式模式执行代理（或根据您的代码结构进行执行）\nevents = agent_executor.stream(\n    {\"messages\": [(\"user\", example_query)]},\n    stream_mode=\"values\",\n)\n\n# 6. 打印模型响应（以及任何工具输出）\nfor event in events:\n    event[\"messages\"][-1].pretty_print()\n```"
      ],
      "id": "8cafefef7c8bd43e"
    },
    {
      "metadata": {},
      "cell_type": "markdown",
      "source": [
        "## API 参考\n\n请参阅以下文档字符串中的使用详情、参数和高级配置：\n- [taiga_tools.py](https://github.com/Shikenso-Analytics/langchain-taiga/blob/main/langchain_taiga/tools/taiga_tools.py)\n- [toolkits.py](https://github.com/Shikenso-Analytics/langchain-taiga/blob/main/langchain_taiga/toolkits.py)"
      ],
      "id": "4ac8146c"
    }
  ],
  "metadata": {
    "kernelspec": {
      "display_name": "Python 3 (ipykernel)",
      "language": "python",
      "name": "python3"
    },
    "language_info": {
      "codemirror_mode": {
        "name": "ipython",
        "version": 3
      },
      "file_extension": ".py",
      "mimetype": "text/x-python",
      "name": "python",
      "nbconvert_exporter": "python",
      "pygments_lexer": "ipython3",
      "version": "3.11.9"
    }
  },
  "nbformat": 4,
  "nbformat_minor": 5
}