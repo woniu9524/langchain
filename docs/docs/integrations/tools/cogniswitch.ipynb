{
  "cells": [
    {
      "cell_type": "markdown",
      "id": "19062701",
      "metadata": {},
      "source": [
        "# Cogniswitch Toolkit\n\nCogniSwitch 用于构建可无缝消耗、整理和检索知识的生产就绪型应用程序。利用您选择的框架（在本例中为 Langchain），CogniSwitch 有助于缓解在选择正确的存储和检索格式方面的决策压力。它还消除了生成响应时的可靠性问题和幻觉。\n\n## 设置\n\n请访问 [此页面](https://www.cogniswitch.ai/developer?utm_source=langchain&utm_medium=langchainbuild&utm_id=dev) 注册 Cogniswitch 账户。\n\n- 使用您的电子邮件进行注册并验证您的注册\n\n- 您将收到一封包含平台令牌和 OAuth 令牌的邮件，用于使用各项服务。"
      ]
    },
    {
      "cell_type": "code",
      "execution_count": null,
      "id": "bfe4510e",
      "metadata": {},
      "outputs": [],
      "source": [
        "%pip install -qU langchain-community"
      ]
    },
    {
      "cell_type": "markdown",
      "id": "1435b193",
      "metadata": {},
      "source": [
        "## 导入必要的库"
      ]
    },
    {
      "cell_type": "code",
      "execution_count": 1,
      "id": "8d86323b",
      "metadata": {},
      "outputs": [],
      "source": [
        "import warnings\n",
        "\n",
        "warnings.filterwarnings(\"ignore\")\n",
        "\n",
        "import os\n",
        "\n",
        "from langchain.agents.agent_toolkits import create_conversational_retrieval_agent\n",
        "from langchain_community.agent_toolkits import CogniswitchToolkit\n",
        "from langchain_openai import ChatOpenAI"
      ]
    },
    {
      "cell_type": "markdown",
      "id": "6e6acf0e",
      "metadata": {},
      "source": [
        "## Cogniswitch 平台令牌、OAuth 令牌和 OpenAI API 密钥\n\nThis article describes the use of tokens and API keys in the Cogniswitch"
      ]
    },
    {
      "cell_type": "code",
      "execution_count": 2,
      "id": "3d2dfc9f",
      "metadata": {},
      "outputs": [],
      "source": [
        "cs_token = \"Your CogniSwitch token\"\n",
        "OAI_token = \"Your OpenAI API token\"\n",
        "oauth_token = \"Your CogniSwitch authentication token\"\n",
        "\n",
        "os.environ[\"OPENAI_API_KEY\"] = OAI_token"
      ]
    },
    {
      "cell_type": "markdown",
      "id": "320e02fc",
      "metadata": {},
      "source": [
        "## 使用凭据实例化 cogniswitch 工具包"
      ]
    },
    {
      "cell_type": "code",
      "execution_count": 3,
      "id": "89f58167",
      "metadata": {},
      "outputs": [],
      "source": [
        "cogniswitch_toolkit = CogniswitchToolkit(\n",
        "    cs_token=cs_token, OAI_token=OAI_token, apiKey=oauth_token\n",
        ")"
      ]
    },
    {
      "cell_type": "markdown",
      "id": "16901682",
      "metadata": {},
      "source": [
        "### 获取 cogniswitch 工具列表"
      ]
    },
    {
      "cell_type": "code",
      "execution_count": 4,
      "id": "288d07f6",
      "metadata": {},
      "outputs": [],
      "source": [
        "tool_lst = cogniswitch_toolkit.get_tools()"
      ]
    },
    {
      "cell_type": "markdown",
      "id": "4aae43a3",
      "metadata": {},
      "source": [
        "## 实例化 LLM"
      ]
    },
    {
      "cell_type": "code",
      "execution_count": 6,
      "id": "4d67e5bb",
      "metadata": {},
      "outputs": [],
      "source": [
        "llm = ChatOpenAI(\n",
        "    temperature=0,\n",
        "    openai_api_key=OAI_token,\n",
        "    max_tokens=1500,\n",
        "    model_name=\"gpt-3.5-turbo-0613\",\n",
        ")"
      ]
    },
    {
      "cell_type": "markdown",
      "id": "04179282",
      "metadata": {},
      "source": [
        "## 使用 LangChain 工具包\n\n### 创建一个包含 LangChain 和工具包的代理"
      ]
    },
    {
      "cell_type": "code",
      "execution_count": 7,
      "id": "2153e758",
      "metadata": {},
      "outputs": [],
      "source": [
        "agent_executor = create_conversational_retrieval_agent(llm, tool_lst, verbose=False)"
      ]
    },
    {
      "cell_type": "markdown",
      "id": "42c9890e",
      "metadata": {},
      "source": [
        "### 调用代理以上传 URL"
      ]
    },
    {
      "cell_type": "code",
      "execution_count": 9,
      "id": "794b4fba",
      "metadata": {},
      "outputs": [
        {
          "name": "stdout",
          "output_type": "stream",
          "text": [
            "The URL https://cogniswitch.ai/developer has been uploaded successfully. The status of the document is currently being processed. You will receive an email notification once the processing is complete.\n"
          ]
        }
      ],
      "source": [
        "response = agent_executor.invoke(\"upload this url https://cogniswitch.ai/developer\")\n",
        "\n",
        "print(response[\"output\"])"
      ]
    },
    {
      "cell_type": "markdown",
      "id": "544fe8f9",
      "metadata": {},
      "source": [
        "### 调用 Agent 上传文件"
      ]
    },
    {
      "cell_type": "code",
      "execution_count": 10,
      "id": "fd0addfc",
      "metadata": {},
      "outputs": [
        {
          "name": "stdout",
          "output_type": "stream",
          "text": [
            "The file example_file.txt has been uploaded successfully. The status of the document is currently being processed. You will receive an email notification once the processing is complete.\n"
          ]
        }
      ],
      "source": [
        "response = agent_executor.invoke(\"upload this file example_file.txt\")\n",
        "\n",
        "print(response[\"output\"])"
      ]
    },
    {
      "cell_type": "markdown",
      "id": "02827e1b",
      "metadata": {},
      "source": [
        "### 调用代理以获取文档状态"
      ]
    },
    {
      "cell_type": "code",
      "execution_count": 11,
      "id": "f424e6c5",
      "metadata": {},
      "outputs": [
        {
          "name": "stdout",
          "output_type": "stream",
          "text": [
            "The status of the document example_file.txt is as follows:\n",
            "\n",
            "- Created On: 2024-01-22T19:07:42.000+00:00\n",
            "- Modified On: 2024-01-22T19:07:42.000+00:00\n",
            "- Document Entry ID: 153\n",
            "- Status: 0 (Processing)\n",
            "- Original File Name: example_file.txt\n",
            "- Saved File Name: 1705950460069example_file29393011.txt\n",
            "\n",
            "The document is currently being processed.\n"
          ]
        }
      ],
      "source": [
        "response = agent_executor.invoke(\"Tell me the status of this document example_file.txt\")\n",
        "\n",
        "print(response[\"output\"])"
      ]
    },
    {
      "cell_type": "markdown",
      "id": "0ba9aca9",
      "metadata": {},
      "source": [
        "### 调用代理以获取查询答案"
      ]
    },
    {
      "cell_type": "code",
      "execution_count": 12,
      "id": "e73e963f",
      "metadata": {
        "scrolled": true
      },
      "outputs": [
        {
          "name": "stdout",
          "output_type": "stream",
          "text": [
            "CogniSwitch can help develop GenAI applications in several ways:\n",
            "\n",
            "1. Knowledge Extraction: CogniSwitch can extract knowledge from various sources such as documents, websites, and databases. It can analyze and store data from these sources, making it easier to access and utilize the information for GenAI applications.\n",
            "\n",
            "2. Natural Language Processing: CogniSwitch has advanced natural language processing capabilities. It can understand and interpret human language, allowing GenAI applications to interact with users in a more conversational and intuitive manner.\n",
            "\n",
            "3. Sentiment Analysis: CogniSwitch can analyze the sentiment of text data, such as customer reviews or social media posts. This can be useful in developing GenAI applications that can understand and respond to the emotions and opinions of users.\n",
            "\n",
            "4. Knowledge Base Integration: CogniSwitch can integrate with existing knowledge bases or create new ones. This allows GenAI applications to access a vast amount of information and provide accurate and relevant responses to user queries.\n",
            "\n",
            "5. Document Analysis: CogniSwitch can analyze documents and extract key information such as entities, relationships, and concepts. This can be valuable in developing GenAI applications that can understand and process large amounts of textual data.\n",
            "\n",
            "Overall, CogniSwitch provides a range of AI-powered capabilities that can enhance the development of GenAI applications by enabling knowledge extraction, natural language processing, sentiment analysis, knowledge base integration, and document analysis.\n"
          ]
        }
      ],
      "source": [
        "response = agent_executor.invoke(\"How can cogniswitch help develop GenAI applications?\")\n",
        "\n",
        "print(response[\"output\"])"
      ]
    }
  ],
  "metadata": {
    "kernelspec": {
      "display_name": "langchain_repo",
      "language": "python",
      "name": "langchain_repo"
    },
    "language_info": {
      "codemirror_mode": {
        "name": "ipython",
        "version": 3
      },
      "file_extension": ".py",
      "mimetype": "text/x-python",
      "name": "python",
      "nbconvert_exporter": "python",
      "pygments_lexer": "ipython3",
      "version": "3.9.17"
    }
  },
  "nbformat": 4,
  "nbformat_minor": 5
}