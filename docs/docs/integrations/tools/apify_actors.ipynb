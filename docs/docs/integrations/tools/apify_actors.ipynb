{
  "cells": [
    {
      "cell_type": "markdown",
      "metadata": {
        "id": "_9MNj58sIkGN"
      },
      "source": [
        "# Apify Actor\n\n>[Apify Actors](https://docs.apify.com/platform/actors) 是为各种网络抓取、爬取和数据提取任务设计的云程序。这些 actor 促进了从网络自动收集数据，使用户能够高效地提取、处理和存储信息。Actor 可用于执行诸如抓取电商网站的产品详情、监控价格变动或收集搜索引擎结果之类的任务。它们与 [Apify Datasets](https://docs.apify.com/platform/storage/dataset) 无缝集成，使得 actor 收集的结构化数据能够以 JSON、CSV 或 Excel 等格式存储、管理和导出，以供进一步分析或使用。\n\n## 概览\n\n本 Notebook 将引导您了解如何将 [Apify Actors](https://docs.apify.com/platform/actors) 与 LangChain 结合使用，以自动化网络抓取和数据提取。`langchain-apify` 包将 Apify 的云工具与 LangChain Agents 集成，为 AI 应用程序实现高效的数据收集和处理。"
      ]
    },
    {
      "cell_type": "markdown",
      "metadata": {
        "id": "OHLF9t9v9HCb"
      },
      "source": [
        "## 设置\n\n此集成位于 `langchain-apify` 包中。可以使用 pip 来安装该包。"
      ]
    },
    {
      "cell_type": "code",
      "execution_count": null,
      "metadata": {
        "id": "4DdGmBn5IbXz"
      },
      "outputs": [],
      "source": [
        "%pip install langchain-apify"
      ]
    },
    {
      "cell_type": "markdown",
      "metadata": {
        "id": "rEAwonXqwggR"
      },
      "source": [
        "### 先决条件\n\n- **Apify 账户**: 在 [此处](https://console.apify.com/sign-up) 注册您的免费 Apify 账户。\n- **Apify API 令牌**: 在 [Apify 文档](https://docs.apify.com/platform/integrations/api) 中了解如何获取您的 API 令牌。"
      ]
    },
    {
      "cell_type": "code",
      "execution_count": null,
      "metadata": {
        "id": "9nJOl4MBMkcR"
      },
      "outputs": [],
      "source": [
        "import os\n",
        "\n",
        "os.environ[\"APIFY_API_TOKEN\"] = \"your-apify-api-token\"\n",
        "os.environ[\"OPENAI_API_KEY\"] = \"your-openai-api-key\""
      ]
    },
    {
      "cell_type": "markdown",
      "metadata": {
        "id": "UfoQxAlCxR9q"
      },
      "source": [
        "## 实例化"
      ]
    },
    {
      "cell_type": "markdown",
      "metadata": {
        "id": "qG9KtXtLM8i7"
      },
      "source": [
        "我们实例化 `ApifyActorsTool` 以便调用 [RAG Web Browser](https://apify.com/apify/rag-web-browser) Apify Actor。此 Actor 为 AI 和 LLM 应用程序提供网页浏览功能，类似于 ChatGPT 中的网页浏览功能。[Apify Store](https://apify.com/store) 中的任何 Actor 都可以这样使用。"
      ]
    },
    {
      "cell_type": "code",
      "execution_count": null,
      "metadata": {
        "id": "cyxeTlPnM4Ya"
      },
      "outputs": [],
      "source": [
        "from langchain_apify import ApifyActorsTool\n",
        "\n",
        "tool = ApifyActorsTool(\"apify/rag-web-browser\")"
      ]
    },
    {
      "cell_type": "markdown",
      "metadata": {
        "id": "fGDLvDCqyKWO"
      },
      "source": [
        "## 调用\n\n`ApifyActorsTool` 接受一个参数，即 `run_input` - 一个字典，它将被传递给 Actor 作为运行输入。运行输入模式文档可以在 Actor 详情页的输入部分找到。请参阅 [RAG Web Browser 输入模式](https://apify.com/apify/rag-web-browser/input-schema)。"
      ]
    },
    {
      "cell_type": "code",
      "execution_count": null,
      "metadata": {
        "id": "nTWy6Hx1yk04"
      },
      "outputs": [],
      "source": [
        "tool.invoke({\"run_input\": {\"query\": \"what is apify?\", \"maxResults\": 2}})"
      ]
    },
    {
      "cell_type": "markdown",
      "metadata": {
        "id": "kQsa27hoO58S"
      },
      "source": [
        "## 链式调用\n\n我们可以将创建的工具提供给一个[代理（agent）](https://python.langchain.com/docs/tutorials/agents/)。当代理被要求搜索信息时，它将调用 Apify Actor，该 Actor 会搜索网络，然后检索搜索结果。"
      ]
    },
    {
      "cell_type": "code",
      "execution_count": null,
      "metadata": {
        "id": "YySvLskW72Y8"
      },
      "outputs": [],
      "source": [
        "%pip install langgraph langchain-openai"
      ]
    },
    {
      "cell_type": "code",
      "execution_count": null,
      "metadata": {
        "id": "QEDz07btO5Gi"
      },
      "outputs": [],
      "source": [
        "from langchain_core.messages import ToolMessage\n",
        "from langchain_openai import ChatOpenAI\n",
        "from langgraph.prebuilt import create_react_agent\n",
        "\n",
        "model = ChatOpenAI(model=\"gpt-4o\")\n",
        "tools = [tool]\n",
        "graph = create_react_agent(model, tools=tools)"
      ]
    },
    {
      "cell_type": "code",
      "execution_count": null,
      "metadata": {
        "colab": {
          "base_uri": "https://localhost:8080/"
        },
        "id": "XS1GEyNkQxGu",
        "outputId": "195273d7-034c-425b-f3f9-95c0a9fb0c9e"
      },
      "outputs": [
        {
          "name": "stdout",
          "output_type": "stream",
          "text": [
            "================================\u001b[1m Human Message \u001b[0m=================================\n",
            "\n",
            "search for what is Apify\n",
            "==================================\u001b[1m Ai Message \u001b[0m==================================\n",
            "Tool Calls:\n",
            "  apify_actor_apify_rag-web-browser (call_27mjHLzDzwa5ZaHWCMH510lm)\n",
            " Call ID: call_27mjHLzDzwa5ZaHWCMH510lm\n",
            "  Args:\n",
            "    run_input: {\"run_input\":{\"query\":\"Apify\",\"maxResults\":3,\"outputFormats\":[\"markdown\"]}}\n",
            "==================================\u001b[1m Ai Message \u001b[0m==================================\n",
            "\n",
            "Apify is a comprehensive platform for web scraping, browser automation, and data extraction. It offers a wide array of tools and services that cater to developers and businesses looking to extract data from websites efficiently and effectively. Here's an overview of Apify:\n",
            "\n",
            "1. **Ecosystem and Tools**:\n",
            "   - Apify provides an ecosystem where developers can build, deploy, and publish data extraction and web automation tools called Actors.\n",
            "   - The platform supports various use cases such as extracting data from social media platforms, conducting automated browser-based tasks, and more.\n",
            "\n",
            "2. **Offerings**:\n",
            "   - Apify offers over 3,000 ready-made scraping tools and code templates.\n",
            "   - Users can also build custom solutions or hire Apify's professional services for more tailored data extraction needs.\n",
            "\n",
            "3. **Technology and Integration**:\n",
            "   - The platform supports integration with popular tools and services like Zapier, GitHub, Google Sheets, Pinecone, and more.\n",
            "   - Apify supports open-source tools and technologies such as JavaScript, Python, Puppeteer, Playwright, Selenium, and its own Crawlee library for web crawling and browser automation.\n",
            "\n",
            "4. **Community and Learning**:\n",
            "   - Apify hosts a community on Discord where developers can get help and share expertise.\n",
            "   - It offers educational resources through the Web Scraping Academy to help users become proficient in data scraping and automation.\n",
            "\n",
            "5. **Enterprise Solutions**:\n",
            "   - Apify provides enterprise-grade web data extraction solutions with high reliability, 99.95% uptime, and compliance with SOC2, GDPR, and CCPA standards.\n",
            "\n",
            "For more information, you can visit [Apify's official website](https://apify.com/) or their [GitHub page](https://github.com/apify) which contains their code repositories and further details about their projects.\n"
          ]
        }
      ],
      "source": [
        "inputs = {\"messages\": [(\"user\", \"search for what is Apify\")]}\n",
        "for s in graph.stream(inputs, stream_mode=\"values\"):\n",
        "    message = s[\"messages\"][-1]\n",
        "    # skip tool messages\n",
        "    if isinstance(message, ToolMessage):\n",
        "        continue\n",
        "    message.pretty_print()"
      ]
    },
    {
      "cell_type": "markdown",
      "metadata": {
        "id": "WYXuQIQx8AvG"
      },
      "source": [
        "## API 参考\n\n有关如何使用此集成的更多信息，请参阅 [git 存储库](https://github.com/apify/langchain-apify) 或 [Apify 集成文档](https://docs.apify.com/platform/integrations/langgraph)。"
      ]
    },
    {
      "cell_type": "code",
      "execution_count": null,
      "metadata": {
        "id": "f1NnMik78oib"
      },
      "outputs": [],
      "source": []
    }
  ],
  "metadata": {
    "colab": {
      "provenance": [],
      "toc_visible": true
    },
    "kernelspec": {
      "display_name": "Python 3",
      "name": "python3"
    },
    "language_info": {
      "name": "python"
    }
  },
  "nbformat": 4,
  "nbformat_minor": 0
}