{
  "cells": [
    {
      "cell_type": "markdown",
      "id": "245a954a",
      "metadata": {},
      "source": [
        "# Naver 搜索\n\nNaver Search 工具提供了搜索 Naver 并获取结果的简便接口。\n\n### 集成详情\n\n| 类 | 包 | 可序列化 | JS 支持 | 包最新 |\n| :--- | :--- | :---: | :---: | :---: |\n| NaverSearchResults | [langchain-naver-community](https://pypi.org/project/langchain-naver-community/) | ❌ | ❌ |  ![PyPI - Version](https://img.shields.io/pypi/v/langchain-naver-community?style=flat-square&label=%20) |\n\n### 工具功能\n\n**搜索**：Naver Search 工具提供了搜索 Naver 并获取结果的简便接口。\n\n## 设置\n### 设置 API 凭证\n要使用 Naver Search，您需要获取 API 凭证。请遵循以下步骤：\n\n登录 [Naver Developers 门户](https://developers.naver.com/main/)。\n创建新应用程序并启用 Search API。\n从“应用程序列表”部分获取您的 **NAVER_CLIENT_ID** 和 **NAVER_CLIENT_SECRET**。\n\n### 设置环境变量\n获取凭证后，在您的脚本中将它们设置为环境变量："
      ]
    },
    {
      "cell_type": "code",
      "execution_count": null,
      "id": "a2998f9c",
      "metadata": {},
      "outputs": [],
      "source": [
        "%pip install --upgrade --quiet  langchain-naver-community"
      ]
    },
    {
      "cell_type": "code",
      "execution_count": 2,
      "id": "30692b20",
      "metadata": {},
      "outputs": [],
      "source": [
        "import getpass\n",
        "import os\n",
        "\n",
        "if not os.environ.get(\"NAVER_CLIENT_ID\"):\n",
        "    os.environ[\"NAVER_CLIENT_ID\"] = getpass.getpass(\"Enter your Naver Client ID:\\n\")\n",
        "\n",
        "if not os.environ.get(\"NAVER_CLIENT_SECRET\"):\n",
        "    os.environ[\"NAVER_CLIENT_SECRET\"] = getpass.getpass(\n",
        "        \"Enter your Naver Client Secret:\\n\"\n",
        "    )"
      ]
    },
    {
      "cell_type": "markdown",
      "id": "c43917d5",
      "metadata": {},
      "source": [
        "## 实例化"
      ]
    },
    {
      "cell_type": "code",
      "execution_count": null,
      "id": "3d2be578",
      "metadata": {},
      "outputs": [],
      "source": [
        "from langchain_naver_community.utils import NaverSearchAPIWrapper\n",
        "\n",
        "search = NaverSearchAPIWrapper()"
      ]
    },
    {
      "cell_type": "markdown",
      "id": "c97b3f7a",
      "metadata": {},
      "source": [
        "## 调用"
      ]
    },
    {
      "cell_type": "code",
      "execution_count": 5,
      "id": "ac4910f8",
      "metadata": {},
      "outputs": [
        {
          "data": {
            "text/plain": [
              "[{'title': 'Seoul shares rise for 4th day on tech gains; won at 2-week low',\n",
              "  'link': 'https://n.news.naver.com/mnews/article/001/0015277717?sid=104',\n",
              "  'description': 'stocks-summary Seoul shares rise for 4th day on tech gains; won at 2-week low SEOUL, March 20 (Yonhap) -- Seoul shares extended their winning streak to a fourth day Thursday on the back of gains... ',\n",
              "  'pubDate': 'Thu, 20 Mar 2025 16:09:00 +0900'},\n",
              " {'title': \"Seoul Mayor Oh's residence, office raided over alleged ties to shadowy po...\",\n",
              "  'link': 'https://n.news.naver.com/mnews/article/640/0000067073?sid=100',\n",
              "  'description': 'Prosecutors on Thursday raided Seoul Mayor Oh Se-hoon’s official residence and the City Hall... The raid came as part of the Seoul Central District Prosecutors’ Office’s probe into... ',\n",
              "  'pubDate': 'Thu, 20 Mar 2025 19:12:00 +0900'},\n",
              " {'title': 'Education can heal divides: Seoul schools chief',\n",
              "  'link': 'https://n.news.naver.com/mnews/article/044/0000267866?sid=104',\n",
              "  'description': 'Jung Keun-sik, Superintendent of Seoul Metropolitan Office of Education speaks during an interview with The Korea Herald at his office on March 13. (Lim Se-jun/ The Korea Herald) Seoul education... ',\n",
              "  'pubDate': 'Thu, 20 Mar 2025 14:35:00 +0900'}]"
            ]
          },
          "execution_count": 5,
          "metadata": {},
          "output_type": "execute_result"
        }
      ],
      "source": [
        "search.results(\"Seoul\")[:3]"
      ]
    },
    {
      "cell_type": "markdown",
      "id": "2511982a",
      "metadata": {},
      "source": [
        "## 工具使用"
      ]
    },
    {
      "cell_type": "code",
      "execution_count": 19,
      "id": "e17126e7",
      "metadata": {},
      "outputs": [
        {
          "data": {
            "text/plain": [
              "[{'title': \"2025 is here. Here's what to watch out for\",\n",
              "  'link': 'https://n.news.naver.com/mnews/article/044/0000265707?sid=104',\n",
              "  'description': 'The trend was predicted in &quot;Trend Korea 2025,&quot; written by Kim Ran-do, a professor of consumer science at Seoul National University, and his team. The annually published book also predicts that... ',\n",
              "  'pubDate': 'Sat, 18 Jan 2025 16:01:00 +0900'},\n",
              " {'title': '[INTERVIEW] Korea to overhaul weather prediction model against climate ch...',\n",
              "  'link': 'https://www.koreatimes.co.kr/www/nation/2023/06/371_353628.html?utm_source=na',\n",
              "  'description': 'western Seoul to protest its confusing weather predictions, false forecasting is hardly accepted compared to what Yoo saw in Oklahoma. The administrator hopes the Korean public would understand... ',\n",
              "  'pubDate': 'Sun, 25 Jun 2023 17:22:00 +0900'}]"
            ]
          },
          "execution_count": 19,
          "metadata": {},
          "output_type": "execute_result"
        }
      ],
      "source": [
        "from langchain_naver_community.tool import NaverSearchResults\n",
        "from langchain_naver_community.utils import NaverSearchAPIWrapper\n",
        "\n",
        "search = NaverSearchAPIWrapper()\n",
        "\n",
        "tool = NaverSearchResults(api_wrapper=search)\n",
        "\n",
        "tool.invoke(\"what is the weather in seoul?\")[3:5]"
      ]
    },
    {
      "cell_type": "markdown",
      "id": "74295cb5",
      "metadata": {},
      "source": [
        "## 在 Agent 中使用\n\nNaver Search 工具可以集成到 LangChain Agent 中以执行更复杂的任务。下面我们演示如何设置一个 Agent，该 Agent 可以搜索 Naver 以获取当前信息。"
      ]
    },
    {
      "cell_type": "code",
      "execution_count": null,
      "id": "386e19b0",
      "metadata": {},
      "outputs": [],
      "source": [
        "from langchain_openai import ChatOpenAI\n",
        "\n",
        "llm = ChatOpenAI(model=\"gpt-4o-mini\")\n",
        "\n",
        "system_prompt = \"\"\"\n",
        "You are a helpful assistant that can search the web for information.\n",
        "\"\"\""
      ]
    },
    {
      "cell_type": "code",
      "execution_count": null,
      "id": "70da8682",
      "metadata": {},
      "outputs": [],
      "source": [
        "from langchain_naver_community.tool import NaverNewsSearch\n",
        "from langgraph.prebuilt import create_react_agent\n",
        "\n",
        "tools = [NaverNewsSearch()]\n",
        "\n",
        "agent_executor = create_react_agent(\n",
        "    llm,\n",
        "    tools,\n",
        "    prompt=system_prompt,\n",
        ")"
      ]
    },
    {
      "cell_type": "markdown",
      "id": "4b73dbaf",
      "metadata": {},
      "source": [
        "现在我们可以用一个查询来运行 agent 了。"
      ]
    },
    {
      "cell_type": "code",
      "execution_count": null,
      "id": "726e575a",
      "metadata": {},
      "outputs": [],
      "source": [
        "query = \"What is the weather in Seoul?\"\n",
        "result = agent_executor.invoke({\"messages\": [(\"human\", query)]})\n",
        "result[\"messages\"][-1].content"
      ]
    },
    {
      "cell_type": "markdown",
      "id": "d566a4c0",
      "metadata": {},
      "source": [
        "## API 参考"
      ]
    }
  ],
  "metadata": {
    "kernelspec": {
      "display_name": "Python 3",
      "language": "python",
      "name": "python3"
    },
    "language_info": {
      "codemirror_mode": {
        "name": "ipython",
        "version": 3
      },
      "file_extension": ".py",
      "mimetype": "text/x-python",
      "name": "python",
      "nbconvert_exporter": "python",
      "pygments_lexer": "ipython3",
      "version": "3.11.10"
    }
  },
  "nbformat": 4,
  "nbformat_minor": 5
}