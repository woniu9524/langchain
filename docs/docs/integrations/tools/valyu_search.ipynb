{
  "cells": [
    {
      "cell_type": "markdown",
      "metadata": {},
      "source": [
        "# ValyuContext\n\n>[Valyu](https://www.valyu.network/) 允许 AI 应用程序和代理搜索互联网和专有数据源，以获取相关的 LLM 就绪信息。\n\n本笔记将介绍如何在 LangChain 中使用 Valyu context 工具。\n\n首先，获取 Valyu API 密钥并将其添加为环境变量。通过[在此处注册](https://platform.valyu.network/)即可获得 10 美元的免费积分。\n\n## 概览\n\n### 集成详情\n| Class                                                         | Package                                                        | Serializable | JS support |  Package latest |\n|:--------------------------------------------------------------|:---------------------------------------------------------------| :---: | :---: | :---: |\n| [Valyu Search](https://github.com/valyu-network/langchain-valyu) | [langchain-valyu](https://pypi.org/project/langchain-valyu/) | ✅ | ❌  |  ![PyPI - Version](https://img.shields.io/pypi/v/langchain-valyu?style=flat-square&label=%20) |\n\n\n\n\n## 设置\n\n该集成位于 `langchain-valyu` 包中。"
      ]
    },
    {
      "cell_type": "code",
      "execution_count": null,
      "metadata": {
        "vscode": {
          "languageId": "plaintext"
        }
      },
      "outputs": [],
      "source": [
        "%pip install -qU langchain-valyu"
      ]
    },
    {
      "cell_type": "markdown",
      "metadata": {},
      "source": [
        "为了使用该包，您还需要将 `VALYU_API_KEY` 环境变量设置为您的 Valyu API 密钥。"
      ]
    },
    {
      "cell_type": "code",
      "execution_count": null,
      "metadata": {},
      "outputs": [],
      "source": [
        "import getpass\n",
        "import os\n",
        "\n",
        "if not os.environ.get(\"VALYU_API_KEY\"):\n",
        "    os.environ[\"VALYU_API_KEY\"] = getpass.getpass(\"Valyu API key:\\n\")"
      ]
    },
    {
      "cell_type": "markdown",
      "metadata": {},
      "source": [
        "## 实例化\n\n这里我们展示如何实例化 Valyu 搜索工具。该工具允许您通过 Valyu 的 Context API 端点完成搜索查询。"
      ]
    },
    {
      "cell_type": "code",
      "execution_count": null,
      "metadata": {},
      "outputs": [],
      "source": [
        "from langchain_valyu import ValyuSearchTool\n",
        "\n",
        "tool = ValyuSearchTool()"
      ]
    },
    {
      "cell_type": "markdown",
      "metadata": {},
      "source": [
        "## 调用\n\n### 直接使用参数调用\n\nValyu 搜索工具在调用时接受以下参数：\n- `query` (必需): 自然语言搜索查询\n- `search_type` (可选): 搜索类型，例如 \"all\"\n- `max_num_results` (可选): 返回结果的最大数量\n- `similarity_threshold` (可选): 结果的相似度阈值\n- `query_rewrite` (可选): 是否重写查询\n- `max_price` (可选): 搜索的最大价格\n\n出于可靠性和性能原因，某些参数可能是必需的或受限的。有关详情，请参阅 [Valyu API 文档](https://docs.valyu.network/overview)。"
      ]
    },
    {
      "cell_type": "code",
      "execution_count": null,
      "metadata": {},
      "outputs": [],
      "source": [
        "search_results = tool._run(\n",
        "    query=\"What are agentic search-enhanced large reasoning models?\",\n",
        "    search_type=\"all\",\n",
        "    max_num_results=5,\n",
        "    similarity_threshold=0.4,\n",
        "    query_rewrite=False,\n",
        "    max_price=20.0,\n",
        ")\n",
        "\n",
        "print(\"Search Results:\", search_results)"
      ]
    },
    {
      "cell_type": "markdown",
      "metadata": {},
      "source": [
        "## 在 Agent 中使用\n\n我们可以通过将工具绑定到 agent 来直接在 agent executor 中使用我们的工具。这使得 agent 能够动态地为 Valyu 搜索工具设置可用参数。"
      ]
    },
    {
      "cell_type": "code",
      "execution_count": null,
      "metadata": {},
      "outputs": [],
      "source": [
        "if not os.environ.get(\"OPENAI_API_KEY\"):\n",
        "    os.environ[\"OPENAI_API_KEY\"] = getpass.getpass(\"OPENAI_API_KEY:\\n\")"
      ]
    },
    {
      "cell_type": "code",
      "execution_count": null,
      "metadata": {},
      "outputs": [],
      "source": [
        "# | output: false\n",
        "# | echo: false\n",
        "\n",
        "# !pip install -qU langchain langchain-openai\n",
        "from langchain.chat_models import init_chat_model\n",
        "\n",
        "llm = init_chat_model(model=\"gpt-4o\", model_provider=\"openai\", temperature=0)"
      ]
    },
    {
      "cell_type": "code",
      "execution_count": null,
      "metadata": {},
      "outputs": [],
      "source": [
        "from langchain_valyu import ValyuSearchTool\n",
        "from langgraph.prebuilt import create_react_agent\n",
        "\n",
        "valyu_search_tool = ValyuSearchTool()\n",
        "\n",
        "agent = create_react_agent(llm, [valyu_search_tool])\n",
        "\n",
        "user_input = \"What are the key factors driving recent stock market volatility, and how do macroeconomic indicators influence equity prices across different sectors?\"\n",
        "\n",
        "for step in agent.stream(\n",
        "    {\"messages\": user_input},\n",
        "    stream_mode=\"values\",\n",
        "):\n",
        "    step[\"messages\"][-1].pretty_print()"
      ]
    },
    {
      "cell_type": "markdown",
      "metadata": {},
      "source": [
        "## API 参考\n\n有关所有 Valyu Context API 功能和配置的详细文档，请参阅 API 参考：https://docs.valyu.network/overview"
      ]
    }
  ],
  "metadata": {
    "language_info": {
      "name": "python"
    }
  },
  "nbformat": 4,
  "nbformat_minor": 2
}