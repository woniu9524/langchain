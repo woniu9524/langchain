{
  "cells": [
    {
      "cell_type": "markdown",
      "metadata": {},
      "source": [
        "# Gmail 工具集\n\n这将帮助您开始使用 GMail [工具集](/docs/concepts/tools/#toolkits)。此工具集与 GMail API 交互，以读取邮件、起草和发送邮件等等。有关所有 GmailToolkit 功能和配置的详细文档，请前往 [API 参考](https://python.langchain.com/api_reference/google_community/gmail/langchain_google_community.gmail.toolkit.GmailToolkit.html)。\n\n## 设置\n\n要使用此工具集，您需要设置您的凭据，具体说明请参阅 [Gmail API 文档](https://developers.google.com/gmail/api/quickstart/python#authorize_credentials_for_a_desktop_application)。下载 `credentials.json` 文件后，您就可以开始使用 Gmail API 了。"
      ]
    },
    {
      "cell_type": "markdown",
      "metadata": {},
      "source": [
        "### 安装\n\n此工具包位于 `langchain-google-community` 包中。我们需要 `gmail` 附加组件："
      ]
    },
    {
      "cell_type": "code",
      "execution_count": null,
      "metadata": {},
      "outputs": [],
      "source": [
        "%pip install -qU langchain-google-community\\[gmail\\]"
      ]
    },
    {
      "cell_type": "markdown",
      "metadata": {},
      "source": "要启用对单个工具的自动跟踪，请设置您的 [LangSmith](https://docs.smith.langchain.com/) API 密钥："
    },
    {
      "cell_type": "code",
      "execution_count": null,
      "metadata": {},
      "outputs": [],
      "source": [
        "# os.environ[\"LANGSMITH_TRACING\"] = \"true\"\n",
        "# os.environ[\"LANGSMITH_API_KEY\"] = getpass.getpass(\"Enter your LangSmith API key: \")"
      ]
    },
    {
      "cell_type": "markdown",
      "metadata": {},
      "source": [
        "## 实例化\n\n默认情况下，工具包会读取本地的 `credentials.json` 文件。您也可以手动提供一个 `Credentials` 对象。"
      ]
    },
    {
      "cell_type": "code",
      "execution_count": null,
      "metadata": {},
      "outputs": [],
      "source": [
        "from langchain_google_community import GmailToolkit\n",
        "\n",
        "toolkit = GmailToolkit()"
      ]
    },
    {
      "cell_type": "markdown",
      "metadata": {},
      "source": [
        "### 自定义身份验证\n\n在后台，会使用以下方法创建一个 `googleapi` 资源。您也可以手动构建一个 `googleapi` 资源以获得更多身份验证控制。"
      ]
    },
    {
      "cell_type": "code",
      "execution_count": 4,
      "metadata": {
        "tags": []
      },
      "outputs": [],
      "source": [
        "from langchain_google_community.gmail.utils import (\n",
        "    build_resource_service,\n",
        "    get_gmail_credentials,\n",
        ")\n",
        "\n",
        "# Can review scopes here https://developers.google.com/gmail/api/auth/scopes\n",
        "# For instance, readonly scope is 'https://www.googleapis.com/auth/gmail.readonly'\n",
        "credentials = get_gmail_credentials(\n",
        "    token_file=\"token.json\",\n",
        "    scopes=[\"https://mail.google.com/\"],\n",
        "    client_secrets_file=\"credentials.json\",\n",
        ")\n",
        "api_resource = build_resource_service(credentials=credentials)\n",
        "toolkit = GmailToolkit(api_resource=api_resource)"
      ]
    },
    {
      "cell_type": "markdown",
      "metadata": {},
      "source": [
        "## 工具集\n\n查看可用工具集："
      ]
    },
    {
      "cell_type": "code",
      "execution_count": 2,
      "metadata": {
        "tags": []
      },
      "outputs": [
        {
          "data": {
            "text/plain": [
              "[GmailCreateDraft(api_resource=<googleapiclient.discovery.Resource object at 0x1094509d0>),\n",
              " GmailSendMessage(api_resource=<googleapiclient.discovery.Resource object at 0x1094509d0>),\n",
              " GmailSearch(api_resource=<googleapiclient.discovery.Resource object at 0x1094509d0>),\n",
              " GmailGetMessage(api_resource=<googleapiclient.discovery.Resource object at 0x1094509d0>),\n",
              " GmailGetThread(api_resource=<googleapiclient.discovery.Resource object at 0x1094509d0>)]"
            ]
          },
          "execution_count": 2,
          "metadata": {},
          "output_type": "execute_result"
        }
      ],
      "source": [
        "tools = toolkit.get_tools()\n",
        "tools"
      ]
    },
    {
      "cell_type": "markdown",
      "metadata": {},
      "source": [
        "- [GmailCreateDraft](https://python.langchain.com/api_reference/google_community/gmail/langchain_google_community.gmail.create_draft.GmailCreateDraft.html)\n- [GmailSendMessage](https://python.langchain.com/api_reference/google_community/gmail/langchain_google_community.gmail.send_message.GmailSendMessage.html)\n- [GmailSearch](https://python.langchain.com/api_reference/google_community/gmail/langchain_google_community.gmail.search.GmailSearch.html)\n- [GmailGetMessage](https://python.langchain.com/api_reference/google_community/gmail/langchain_google_community.gmail.get_message.GmailGetMessage.html)\n- [GmailGetThread](https://python.langchain.com/api_reference/google_community/gmail/langchain_google_community.gmail.get_thread.GmailGetThread.html)"
      ]
    },
    {
      "cell_type": "markdown",
      "metadata": {},
      "source": [
        "## 在 Agent 中使用\n\n下面我们展示如何将工具包整合到 [Agent](/docs/tutorials/agents) 中。\n\n我们需要一个 LLM 或聊天模型：\n\nimport ChatModelTabs from \"@theme/ChatModelTabs\";\n\n<ChatModelTabs customVarName=\"llm\" />"
      ]
    },
    {
      "cell_type": "code",
      "execution_count": 3,
      "metadata": {},
      "outputs": [],
      "source": [
        "# | output: false\n",
        "# | echo: false\n",
        "\n",
        "from langchain_openai import ChatOpenAI\n",
        "\n",
        "llm = ChatOpenAI(model=\"gpt-4o-mini\", temperature=0)"
      ]
    },
    {
      "cell_type": "code",
      "execution_count": 4,
      "metadata": {},
      "outputs": [],
      "source": [
        "from langgraph.prebuilt import create_react_agent\n",
        "\n",
        "agent_executor = create_react_agent(llm, tools)"
      ]
    },
    {
      "cell_type": "code",
      "execution_count": 5,
      "metadata": {},
      "outputs": [
        {
          "name": "stdout",
          "output_type": "stream",
          "text": [
            "================================\u001b[1m Human Message \u001b[0m=================================\n",
            "\n",
            "Draft an email to fake@fake.com thanking them for coffee.\n",
            "==================================\u001b[1m Ai Message \u001b[0m==================================\n",
            "Tool Calls:\n",
            "  create_gmail_draft (call_slGkYKZKA6h3Mf1CraUBzs6M)\n",
            " Call ID: call_slGkYKZKA6h3Mf1CraUBzs6M\n",
            "  Args:\n",
            "    message: Dear Fake,\n",
            "\n",
            "I wanted to take a moment to thank you for the coffee yesterday. It was a pleasure catching up with you. Let's do it again soon!\n",
            "\n",
            "Best regards,\n",
            "[Your Name]\n",
            "    to: ['fake@fake.com']\n",
            "    subject: Thank You for the Coffee\n",
            "=================================\u001b[1m Tool Message \u001b[0m=================================\n",
            "Name: create_gmail_draft\n",
            "\n",
            "Draft created. Draft Id: r-7233782721440261513\n",
            "==================================\u001b[1m Ai Message \u001b[0m==================================\n",
            "\n",
            "I have drafted an email to fake@fake.com thanking them for the coffee. You can review and send it from your email draft with the subject \"Thank You for the Coffee\".\n"
          ]
        }
      ],
      "source": [
        "example_query = \"Draft an email to fake@fake.com thanking them for coffee.\"\n",
        "\n",
        "events = agent_executor.stream(\n",
        "    {\"messages\": [(\"user\", example_query)]},\n",
        "    stream_mode=\"values\",\n",
        ")\n",
        "for event in events:\n",
        "    event[\"messages\"][-1].pretty_print()"
      ]
    },
    {
      "cell_type": "markdown",
      "metadata": {},
      "source": [
        "## API 参考\n\n有关 `GmailToolkit` 所有功能和配置的详细文档，请访问 [API 参考](https://python.langchain.com/api_reference/community/agent_toolkits/langchain_community.agent_toolkits.gmail.toolkit.GmailToolkit.html)。"
      ]
    }
  ],
  "metadata": {
    "kernelspec": {
      "display_name": "Python 3 (ipykernel)",
      "language": "python",
      "name": "python3"
    },
    "language_info": {
      "codemirror_mode": {
        "name": "ipython",
        "version": 3
      },
      "file_extension": ".py",
      "mimetype": "text/x-python",
      "name": "python",
      "nbconvert_exporter": "python",
      "pygments_lexer": "ipython3",
      "version": "3.10.4"
    }
  },
  "nbformat": 4,
  "nbformat_minor": 4
}