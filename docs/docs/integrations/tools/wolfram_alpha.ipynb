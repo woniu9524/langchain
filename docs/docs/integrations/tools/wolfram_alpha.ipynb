{
  "cells": [
    {
      "attachments": {},
      "cell_type": "markdown",
      "id": "245a954a",
      "metadata": {},
      "source": [
        "# Wolfram Alpha\n\n本 Notebook 将介绍如何使用 Wolfram Alpha 组件。\n\n首先，您需要设置您的 Wolfram Alpha 开发者账户并获取 APP ID：\n\n1. 前往 Wolfram Alpha 并在此处注册开发者账户：[https://developer.wolframalpha.com/](https://developer.wolframalpha.com/)\n2. 创建一个应用程序并获取您的 APP ID\n3. pip install wolframalpha\n\n然后我们需要设置一些环境变量：\n1. 将您的 APP ID 保存到 WOLFRAM_ALPHA_APPID 环境变量中"
      ]
    },
    {
      "cell_type": "code",
      "execution_count": null,
      "id": "961b3689",
      "metadata": {
        "vscode": {
          "languageId": "shellscript"
        }
      },
      "outputs": [],
      "source": [
        "pip install wolframalpha"
      ]
    },
    {
      "cell_type": "code",
      "execution_count": 6,
      "id": "34bb5968",
      "metadata": {},
      "outputs": [],
      "source": [
        "import os\n",
        "\n",
        "os.environ[\"WOLFRAM_ALPHA_APPID\"] = \"\""
      ]
    },
    {
      "cell_type": "code",
      "execution_count": 9,
      "id": "ac4910f8",
      "metadata": {},
      "outputs": [],
      "source": [
        "from langchain_community.utilities.wolfram_alpha import WolframAlphaAPIWrapper"
      ]
    },
    {
      "cell_type": "code",
      "execution_count": 10,
      "id": "84b8f773",
      "metadata": {},
      "outputs": [],
      "source": [
        "wolfram = WolframAlphaAPIWrapper()"
      ]
    },
    {
      "cell_type": "code",
      "execution_count": 11,
      "id": "068991a6",
      "metadata": {},
      "outputs": [
        {
          "data": {
            "text/plain": [
              "'x = 2/5'"
            ]
          },
          "execution_count": 11,
          "metadata": {},
          "output_type": "execute_result"
        }
      ],
      "source": [
        "wolfram.run(\"What is 2x+5 = -3x + 7?\")"
      ]
    },
    {
      "cell_type": "code",
      "execution_count": null,
      "id": "028f4cba",
      "metadata": {},
      "outputs": [],
      "source": []
    }
  ],
  "metadata": {
    "kernelspec": {
      "display_name": ".venv",
      "language": "python",
      "name": "python3"
    },
    "language_info": {
      "codemirror_mode": {
        "name": "ipython",
        "version": 3
      },
      "file_extension": ".py",
      "mimetype": "text/x-python",
      "name": "python",
      "nbconvert_exporter": "python",
      "pygments_lexer": "ipython3",
      "version": "3.9.7"
    },
    "vscode": {
      "interpreter": {
        "hash": "53f3bc57609c7a84333bb558594977aa5b4026b1d6070b93987956689e367341"
      }
    }
  },
  "nbformat": 4,
  "nbformat_minor": 5
}