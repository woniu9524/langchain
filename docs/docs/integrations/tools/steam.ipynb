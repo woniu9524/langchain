{
  "cells": [
    {
      "cell_type": "markdown",
      "metadata": {},
      "source": [
        "# Steam 工具包\n\n>[Steam (Wikipedia)](https://en.wikipedia.org/wiki/Steam_(service)) 是由 `Valve Corporation` 开发的视频游戏数字发行服务和店面。它为 Valve 的游戏提供自动更新，并扩展到分发第三方游戏。`Steam` 提供各种功能，例如带有 Valve 反作弊措施的游戏服务器匹配、社交网络和游戏流媒体服务。\n\n>[Steam](https://store.steampowered.com/about/) 是玩游戏、讨论游戏和创作游戏的终极目的地。\n\nSteam 工具包有两个工具：\n- `Game Details`\n- `Recommended Games`\n\n本笔记本将引导您了解如何使用 LangChain 和 Steam API，根据您当前的 Steam 游戏库存检索 Steam 游戏推荐，或收集您提供的一些 Steam 游戏的信息。\n\n## 设置\n\n我们需要安装两个 Python 库。"
      ]
    },
    {
      "cell_type": "markdown",
      "metadata": {},
      "source": [
        "## Imports"
      ]
    },
    {
      "cell_type": "code",
      "execution_count": 1,
      "metadata": {},
      "outputs": [
        {
          "name": "stdout",
          "output_type": "stream",
          "text": [
            "Note: you may need to restart the kernel to use updated packages.\n"
          ]
        }
      ],
      "source": [
        "%pip install --upgrade --quiet python-steam-api python-decouple steamspypi"
      ]
    },
    {
      "cell_type": "markdown",
      "metadata": {},
      "source": [
        "## 分配环境变量\n要使用此工具包，请准备好您的 OpenAI API 密钥、Steam API 密钥（来自 [此处](https://steamcommunity.com/dev/apikey)）以及您自己的 SteamID。一旦收到 Steam API 密钥，您就可以在下方将其作为环境变量输入。\n该工具包将读取 \"STEAM_KEY\" API 密钥作为环境变量以进行身份验证，因此请在此处进行设置。您还需要设置您的 \"OPENAI_API_KEY\" 和您的 \"STEAM_ID\"。"
      ]
    },
    {
      "cell_type": "code",
      "execution_count": 2,
      "metadata": {},
      "outputs": [],
      "source": [
        "import os\n",
        "\n",
        "os.environ[\"STEAM_KEY\"] = \"\"\n",
        "os.environ[\"STEAM_ID\"] = \"\"\n",
        "os.environ[\"OPENAI_API_KEY\"] = \"\""
      ]
    },
    {
      "cell_type": "markdown",
      "metadata": {},
      "source": [
        "## 初始化：\n初始化 LLM，SteamWebAPIWrapper，SteamToolkit，以及最重要的是 langchain agent 来处理您的查询！\n## 示例"
      ]
    },
    {
      "cell_type": "code",
      "execution_count": 3,
      "metadata": {},
      "outputs": [],
      "source": [
        "from langchain_community.agent_toolkits.steam.toolkit import SteamToolkit\n",
        "from langchain_community.utilities.steam import SteamWebAPIWrapper\n",
        "\n",
        "steam = SteamWebAPIWrapper()\n",
        "tools = [steam.run]"
      ]
    },
    {
      "cell_type": "code",
      "execution_count": 4,
      "metadata": {},
      "outputs": [],
      "source": [
        "from langgraph.prebuilt import create_react_agent\n",
        "\n",
        "agent = create_react_agent(\"openai:gpt-4.1-mini\", tools)"
      ]
    },
    {
      "cell_type": "code",
      "execution_count": 5,
      "metadata": {},
      "outputs": [
        {
          "name": "stdout",
          "output_type": "stream",
          "text": [
            "================================\u001b[1m Human Message \u001b[0m=================================\n",
            "\n",
            "can you give the information about the game Terraria?\n",
            "==================================\u001b[1m Ai Message \u001b[0m==================================\n",
            "Tool Calls:\n",
            "  run (call_6vHAXSIL2MPugXxlv5uyf9Xk)\n",
            " Call ID: call_6vHAXSIL2MPugXxlv5uyf9Xk\n",
            "  Args:\n",
            "    mode: get_games_details\n",
            "    game: Terraria\n",
            "=================================\u001b[1m Tool Message \u001b[0m=================================\n",
            "Name: run\n",
            "\n",
            "The id is: [105600]\n",
            "The link is: https://store.steampowered.com/app/105600/Terraria/?snr=1_7_15__13\n",
            "The price is: $9.99\n",
            "The summary of the game is: Dig, Fight, Explore, Build:  The very world is at your fingertips as you fight for survival, fortune, and glory.   Will you delve deep into cavernous expanses in search of treasure and raw materials with which to craft ever-evolving gear, machinery, and aesthetics?   Perhaps you will choose instead to seek out ever-greater foes to test your mettle in combat?   Maybe you will decide to construct your own city to house the host of mysterious allies you may encounter along your travels? In the World of Terraria, the choice is yours!Blending elements of classic action games with the freedom of sandbox-style creativity, Terraria is a unique gaming experience where both the journey and the destination are completely in the player’s control.   The Terraria adventure is truly as unique as the players themselves!  Are you up for the monumental task of exploring, creating, and defending a world of your own?   Key features: Sandbox Play  Randomly generated worlds Free Content Updates \n",
            "The supported languages of the game are: English, French, Italian, German, Spanish - Spain, Polish, Portuguese - Brazil, Russian, Simplified Chinese\n",
            "\n",
            "==================================\u001b[1m Ai Message \u001b[0m==================================\n",
            "\n",
            "Terraria is a game where you can dig, fight, explore, and build in a world that is totally at your fingertips. The game gives you the freedom to survive, seek fortune, and achieve glory. You can explore cavernous expanses in search of treasure and materials to craft various gear, machinery, and aesthetic items. Alternatively, you can challenge powerful foes or construct your own city to house mysterious allies you may encounter. The game blends classic action elements with sandbox-style creativity, offering a unique experience where your journey and destination are controlled by you.\n",
            "\n",
            "Key features of Terraria include sandbox play, randomly generated worlds, and free content updates.\n",
            "\n",
            "The game is priced at $9.99 and supports multiple languages including English, French, Italian, German, Spanish (Spain), Polish, Portuguese (Brazil), Russian, and Simplified Chinese.\n",
            "\n",
            "You can find more information and purchase it here: [Terraria on Steam](https://store.steampowered.com/app/105600/Terraria/?snr=1_7_15__13).\n"
          ]
        }
      ],
      "source": [
        "events = agent.stream(\n",
        "    {\"messages\": [(\"user\", \"can you give the information about the game Terraria?\")]},\n",
        "    stream_mode=\"values\",\n",
        ")\n",
        "for event in events:\n",
        "    event[\"messages\"][-1].pretty_print()"
      ]
    },
    {
      "cell_type": "code",
      "execution_count": null,
      "metadata": {},
      "outputs": [],
      "source": []
    }
  ],
  "metadata": {
    "kernelspec": {
      "display_name": "Python 3 (ipykernel)",
      "language": "python",
      "name": "python3"
    },
    "language_info": {
      "codemirror_mode": {
        "name": "ipython",
        "version": 3
      },
      "file_extension": ".py",
      "mimetype": "text/x-python",
      "name": "python",
      "nbconvert_exporter": "python",
      "pygments_lexer": "ipython3",
      "version": "3.12.4"
    }
  },
  "nbformat": 4,
  "nbformat_minor": 4
}