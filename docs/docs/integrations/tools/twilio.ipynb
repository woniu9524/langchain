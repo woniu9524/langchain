{
  "cells": [
    {
      "attachments": {},
      "cell_type": "markdown",
      "id": "dc23c48e",
      "metadata": {},
      "source": [
        "# Twilio\n\n本 Notebook 将介绍如何使用 [Twilio](https://www.twilio.com) API 包装器通过 SMS 或 [Twilio Messaging Channels](https://www.twilio.com/docs/messaging/channels) 发送消息。\n\nTwilio Messaging Channels 便于与第三方消息应用集成，并允许您通过 WhatsApp Business Platform (GA)、Facebook Messenger (Public Beta) 和 Google Business Messages (Private Beta) 发送消息。"
      ]
    },
    {
      "attachments": {},
      "cell_type": "markdown",
      "id": "c1a33b13",
      "metadata": {},
      "source": [
        "## 设置\n\n要使用此工具，您需要安装 Python Twilio 包 `twilio`"
      ]
    },
    {
      "cell_type": "code",
      "execution_count": 1,
      "id": "98b544b9",
      "metadata": {},
      "outputs": [],
      "source": [
        "%pip install --upgrade --quiet  twilio"
      ]
    },
    {
      "attachments": {},
      "cell_type": "markdown",
      "id": "f7e883ae",
      "metadata": {},
      "source": [
        "您还需要设置一个 Twilio 账户并获取您的凭据。您需要您的账户字符串标识符 (SID) 和您的 Auth Token。您还需要一个用于发送消息的号码。\n\n您可以将这些作为命名参数 `account_sid`、`auth_token`、`from_number` 传递给 TwilioAPIWrapper，或者设置环境变量 `TWILIO_ACCOUNT_SID`、`TWILIO_AUTH_TOKEN`、`TWILIO_FROM_NUMBER`。"
      ]
    },
    {
      "attachments": {},
      "cell_type": "markdown",
      "id": "36c133be",
      "metadata": {},
      "source": [
        "## 发送短信"
      ]
    },
    {
      "cell_type": "code",
      "execution_count": 1,
      "id": "54bf5afd",
      "metadata": {},
      "outputs": [],
      "source": [
        "from langchain_community.utilities.twilio import TwilioAPIWrapper"
      ]
    },
    {
      "cell_type": "code",
      "execution_count": 2,
      "id": "31f8f382",
      "metadata": {},
      "outputs": [],
      "source": [
        "twilio = TwilioAPIWrapper(\n",
        "    #     account_sid=\"foo\",\n",
        "    #     auth_token=\"bar\",\n",
        "    #     from_number=\"baz,\"\n",
        ")"
      ]
    },
    {
      "cell_type": "code",
      "execution_count": null,
      "id": "5009d763",
      "metadata": {},
      "outputs": [],
      "source": [
        "twilio.run(\"hello world\", \"+16162904619\")"
      ]
    },
    {
      "attachments": {},
      "cell_type": "markdown",
      "id": "de022dc9",
      "metadata": {},
      "source": [
        "## 发送 WhatsApp 消息"
      ]
    },
    {
      "attachments": {},
      "cell_type": "markdown",
      "id": "a594d0bc",
      "metadata": {},
      "source": [
        "您需要将WhatsApp商业账户与Twilio关联。您还需要确保用于发送消息的号码在Twilio上被配置为WhatsApp启用发件人，并已在WhatsApp中注册。"
      ]
    },
    {
      "cell_type": "code",
      "execution_count": null,
      "id": "94508aa0",
      "metadata": {},
      "outputs": [],
      "source": [
        "from langchain_community.utilities.twilio import TwilioAPIWrapper"
      ]
    },
    {
      "cell_type": "code",
      "execution_count": null,
      "id": "e4b81750",
      "metadata": {},
      "outputs": [],
      "source": [
        "twilio = TwilioAPIWrapper(\n",
        "    #     account_sid=\"foo\",\n",
        "    #     auth_token=\"bar\",\n",
        "    #     from_number=\"whatsapp: baz,\"\n",
        ")"
      ]
    },
    {
      "cell_type": "code",
      "execution_count": null,
      "id": "1181041b",
      "metadata": {},
      "outputs": [],
      "source": [
        "twilio.run(\"hello world\", \"whatsapp: +16162904619\")"
      ]
    }
  ],
  "metadata": {
    "kernelspec": {
      "display_name": "Python 3 (ipykernel)",
      "language": "python",
      "name": "python3"
    },
    "language_info": {
      "codemirror_mode": {
        "name": "ipython",
        "version": 3
      },
      "file_extension": ".py",
      "mimetype": "text/x-python",
      "name": "python",
      "nbconvert_exporter": "python",
      "pygments_lexer": "ipython3",
      "version": "3.11.3"
    }
  },
  "nbformat": 4,
  "nbformat_minor": 5
}