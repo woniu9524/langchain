{
  "cells": [
    {
      "cell_type": "markdown",
      "metadata": {},
      "source": [
        "# Connery 工具包和工具\n\n使用 Connery 工具包和工具，您可以将 Connery Actions 集成到您的 LangChain agent 中。\n\n## 什么是 Connery？\n\nConnery 是一个开源的 AI 插件基础设施。\n\n使用 Connery，您可以轻松创建具有一组自定义 actions 的插件，并将其无缝集成到您的 LangChain agent 中。\nConnery 将负责处理运行时、授权、密钥管理、访问管理、审计日志和其他关键功能等重要方面。\n\n此外，在社区的支持下，Connery 还提供了各种即用型开源插件，以增加便利性。\n\n了解更多关于 Connery 的信息：\n\n- GitHub: https://github.com/connery-io/connery\n- 文档: https://docs.connery.io\n\n## 设置\n\n### 安装\n\n您需要安装 `langchain_community` 包才能使用 Connery 工具。"
      ]
    },
    {
      "cell_type": "code",
      "execution_count": null,
      "metadata": {},
      "outputs": [],
      "source": [
        "%pip install -qU langchain-community"
      ]
    },
    {
      "cell_type": "markdown",
      "metadata": {},
      "source": [
        "### 凭据\n\n要在 LangChain 代理中使用 Connery Actions，您需要做一些准备工作：\n\n1. 使用[快速入门](https://docs.connery.io/docs/runner/quick-start/)指南设置 Connery runner。\n2. 安装所有您想在代理中使用的 Action 的插件。\n3. 设置环境变量 `CONNERY_RUNNER_URL` 和 `CONNERY_RUNNER_API_KEY`，以便工具包能够与 Connery Runner 通信。"
      ]
    },
    {
      "cell_type": "code",
      "execution_count": null,
      "metadata": {},
      "outputs": [],
      "source": [
        "import getpass\n",
        "import os\n",
        "\n",
        "for key in [\"CONNERY_RUNNER_URL\", \"CONNERY_RUNNER_API_KEY\"]:\n",
        "    if key not in os.environ:\n",
        "        os.environ[key] = getpass.getpass(f\"Please enter the value for {key}: \")"
      ]
    },
    {
      "cell_type": "markdown",
      "metadata": {},
      "source": [
        "## 工具包\n\n在下面的示例中，我们创建了一个代理，该代理使用两个 Connery Action 来总结公共网页并将摘要通过电子邮件发送出去：\n\n1. 来自 [Summarization](https://github.com/connery-io/summarization-plugin) 插件的 **Summarize public webpage**（总结公共网页）操作。\n2. 来自 [Gmail](https://github.com/connery-io/gmail) 插件的 **Send email**（发送电子邮件）操作。\n\n您可以在此处 [here](https://smith.langchain.com/public/4af5385a-afe9-46f6-8a53-57fe2d63c5bc/r) 查看此示例的 LangSmith 跟踪。"
      ]
    },
    {
      "cell_type": "code",
      "execution_count": 1,
      "metadata": {},
      "outputs": [
        {
          "name": "stdout",
          "output_type": "stream",
          "text": [
            "\n",
            "\n",
            "\u001b[1m> Entering new AgentExecutor chain...\u001b[0m\n",
            "\u001b[32;1m\u001b[1;3m\n",
            "Invoking: `CA72DFB0AB4DF6C830B43E14B0782F70` with `{'publicWebpageUrl': 'http://www.paulgraham.com/vb.html'}`\n",
            "\n",
            "\n",
            "\u001b[0m\u001b[33;1m\u001b[1;3m{'summary': 'The author reflects on the concept of life being short and how having children made them realize the true brevity of life. They discuss how time can be converted into discrete quantities and how limited certain experiences are. The author emphasizes the importance of prioritizing and eliminating unnecessary things in life, as well as actively pursuing meaningful experiences. They also discuss the negative impact of getting caught up in online arguments and the need to be aware of how time is being spent. The author suggests pruning unnecessary activities, not waiting to do things that matter, and savoring the time one has.'}\u001b[0m\u001b[32;1m\u001b[1;3m\n",
            "Invoking: `CABC80BB79C15067CA983495324AE709` with `{'recipient': 'test@example.com', 'subject': 'Summary of the webpage', 'body': 'Here is a short summary of the webpage http://www.paulgraham.com/vb.html:\\n\\nThe author reflects on the concept of life being short and how having children made them realize the true brevity of life. They discuss how time can be converted into discrete quantities and how limited certain experiences are. The author emphasizes the importance of prioritizing and eliminating unnecessary things in life, as well as actively pursuing meaningful experiences. They also discuss the negative impact of getting caught up in online arguments and the need to be aware of how time is being spent. The author suggests pruning unnecessary activities, not waiting to do things that matter, and savoring the time one has.\\n\\nYou can find the full webpage [here](http://www.paulgraham.com/vb.html).'}`\n",
            "\n",
            "\n",
            "\u001b[0m\u001b[33;1m\u001b[1;3m{'messageId': '<2f04b00e-122d-c7de-c91e-e78e0c3276d6@gmail.com>'}\u001b[0m\u001b[32;1m\u001b[1;3mI have sent the email with the summary of the webpage to test@example.com. Please check your inbox.\u001b[0m\n",
            "\n",
            "\u001b[1m> Finished chain.\u001b[0m\n",
            "I have sent the email with the summary of the webpage to test@example.com. Please check your inbox.\n"
          ]
        }
      ],
      "source": [
        "import os\n",
        "\n",
        "from langchain.agents import AgentType, initialize_agent\n",
        "from langchain_community.agent_toolkits.connery import ConneryToolkit\n",
        "from langchain_community.tools.connery import ConneryService\n",
        "from langchain_openai import ChatOpenAI\n",
        "\n",
        "# Specify your Connery Runner credentials.\n",
        "os.environ[\"CONNERY_RUNNER_URL\"] = \"\"\n",
        "os.environ[\"CONNERY_RUNNER_API_KEY\"] = \"\"\n",
        "\n",
        "# Specify OpenAI API key.\n",
        "os.environ[\"OPENAI_API_KEY\"] = \"\"\n",
        "\n",
        "# Specify your email address to receive the email with the summary from example below.\n",
        "recepient_email = \"test@example.com\"\n",
        "\n",
        "# Create a Connery Toolkit with all the available actions from the Connery Runner.\n",
        "connery_service = ConneryService()\n",
        "connery_toolkit = ConneryToolkit.create_instance(connery_service)\n",
        "\n",
        "# Use OpenAI Functions agent to execute the prompt using actions from the Connery Toolkit.\n",
        "llm = ChatOpenAI(temperature=0)\n",
        "agent = initialize_agent(\n",
        "    connery_toolkit.get_tools(), llm, AgentType.OPENAI_FUNCTIONS, verbose=True\n",
        ")\n",
        "result = agent.run(\n",
        "    f\"\"\"Make a short summary of the webpage http://www.paulgraham.com/vb.html in three sentences\n",
        "and send it to {recepient_email}. Include the link to the webpage into the body of the email.\"\"\"\n",
        ")\n",
        "print(result)"
      ]
    },
    {
      "cell_type": "markdown",
      "metadata": {},
      "source": [
        "在以下内容中，我将把英文 MDX 翻译成简体中文，同时保持代码和非文本元素的英文原文不变。\n\n---\n\n注意：Connery Action 是一个结构化工具，因此您只能在支持结构化工具的代理中使用它。\n\n## Tool"
      ]
    },
    {
      "cell_type": "code",
      "execution_count": null,
      "metadata": {},
      "outputs": [],
      "source": [
        "import os\n",
        "\n",
        "from langchain.agents import AgentType, initialize_agent\n",
        "from langchain_community.tools.connery import ConneryService\n",
        "from langchain_openai import ChatOpenAI\n",
        "\n",
        "# Specify your Connery Runner credentials.\n",
        "os.environ[\"CONNERY_RUNNER_URL\"] = \"\"\n",
        "os.environ[\"CONNERY_RUNNER_API_KEY\"] = \"\"\n",
        "\n",
        "# Specify OpenAI API key.\n",
        "os.environ[\"OPENAI_API_KEY\"] = \"\"\n",
        "\n",
        "# Specify your email address to receive the emails from examples below.\n",
        "recepient_email = \"test@example.com\"\n",
        "\n",
        "# Get the SendEmail action from the Connery Runner by ID.\n",
        "connery_service = ConneryService()\n",
        "send_email_action = connery_service.get_action(\"CABC80BB79C15067CA983495324AE709\")"
      ]
    },
    {
      "cell_type": "markdown",
      "metadata": {},
      "source": [
        "手动运行操作。"
      ]
    },
    {
      "cell_type": "code",
      "execution_count": null,
      "metadata": {},
      "outputs": [],
      "source": [
        "manual_run_result = send_email_action.run(\n",
        "    {\n",
        "        \"recipient\": recepient_email,\n",
        "        \"subject\": \"Test email\",\n",
        "        \"body\": \"This is a test email sent from Connery.\",\n",
        "    }\n",
        ")\n",
        "print(manual_run_result)"
      ]
    },
    {
      "cell_type": "markdown",
      "metadata": {},
      "source": [
        "使用 OpenAI Functions Agent 运行此操作。\n\n您可以在 LangSmith 中查看此示例的跟踪记录：[https://smith.langchain.com/public/a37d216f-c121-46da-a428-0e09dc19b1dc/r](https://smith.langchain.com/public/a37d216f-c121-4"
      ]
    },
    {
      "cell_type": "code",
      "execution_count": null,
      "metadata": {},
      "outputs": [
        {
          "name": "stdout",
          "output_type": "stream",
          "text": [
            "\n",
            "\n",
            "\u001b[1m> Entering new AgentExecutor chain...\u001b[0m\n",
            "\u001b[32;1m\u001b[1;3m\n",
            "Invoking: `CABC80BB79C15067CA983495324AE709` with `{'recipient': 'test@example.com', 'subject': 'Late for Meeting', 'body': 'Dear Team,\\n\\nI wanted to inform you that I will be late for the meeting today. I apologize for any inconvenience caused. Please proceed with the meeting without me and I will join as soon as I can.\\n\\nBest regards,\\n[Your Name]'}`\n",
            "\n",
            "\n",
            "\u001b[0m\u001b[36;1m\u001b[1;3m{'messageId': '<d34a694d-50e0-3988-25da-e86b4c51d7a7@gmail.com>'}\u001b[0m\u001b[32;1m\u001b[1;3mI have sent an email to test@example.com informing them that you will be late for the meeting.\u001b[0m\n",
            "\n",
            "\u001b[1m> Finished chain.\u001b[0m\n",
            "I have sent an email to test@example.com informing them that you will be late for the meeting.\n"
          ]
        }
      ],
      "source": [
        "llm = ChatOpenAI(temperature=0)\n",
        "agent = initialize_agent(\n",
        "    [send_email_action], llm, AgentType.OPENAI_FUNCTIONS, verbose=True\n",
        ")\n",
        "agent_run_result = agent.run(\n",
        "    f\"Send an email to the {recepient_email} and say that I will be late for the meeting.\"\n",
        ")\n",
        "print(agent_run_result)"
      ]
    },
    {
      "cell_type": "markdown",
      "metadata": {},
      "source": [
        "注意：Connery Action 是一个结构化工具，因此您只能在支持结构化工具的代理中使用它。"
      ]
    },
    {
      "cell_type": "markdown",
      "metadata": {},
      "source": [
        "## API 参考\n\n有关 Connery 所有功能和配置的详细文档，请参阅 API 参考：\n\n- 工具集：https://python.langchain.com/api_reference/community/agent_toolkits/langchain_community.agent_toolkits.connery.toolkit.ConneryToolkit.html\n- 工具：https://python.langchain.com/api_reference/community/tools/langchain_community.tools.connery.service.ConneryService.html"
      ]
    }
  ],
  "metadata": {
    "kernelspec": {
      "display_name": "Python 3",
      "language": "python",
      "name": "python3"
    },
    "language_info": {
      "codemirror_mode": {
        "name": "ipython",
        "version": 3
      },
      "file_extension": ".py",
      "mimetype": "text/x-python",
      "name": "python",
      "nbconvert_exporter": "python",
      "pygments_lexer": "ipython3",
      "version": "3.10.13"
    }
  },
  "nbformat": 4,
  "nbformat_minor": 2
}