{
  "cells": [
    {
      "cell_type": "markdown",
      "metadata": {},
      "source": [
        "# AWS Lambda"
      ]
    },
    {
      "cell_type": "markdown",
      "metadata": {},
      "source": [
        ">[`Amazon AWS Lambda`](https://aws.amazon.com/pm/lambda/) 是 [`Amazon Web Services`](https://aws.amazon.com/pm/lambda/) (`AWS`) 提供的一项无服务器计算服务。它帮助开发者在不配置或不管理服务器的情况下构建和运行应用程序及服务。这种无服务器架构使您能够专注于编写和部署代码，而 AWS 会自动处理运行应用程序所需的基础设施的扩展、修补和管理。\n\n本 Notebook 将介绍如何使用 `AWS Lambda` 工具。\n\n通过将 `AWS Lambda` 工具包含在提供给 Agent 的工具列表中，您可以授权您的 Agent 调用您 AWS 云中运行的代码，以满足您的任何需求。\n\n当 Agent 使用 `AWS Lambda` 工具时，它将提供一个字符串类型的参数，该参数将通过 `event` 参数传递到 Lambda 函数中。\n\n首先，您需要安装 `boto3` python 包。"
      ]
    },
    {
      "cell_type": "code",
      "execution_count": null,
      "metadata": {
        "vscode": {
          "languageId": "shellscript"
        }
      },
      "outputs": [],
      "source": [
        "%pip install --upgrade --quiet  boto3 > /dev/null\n",
        "%pip install --upgrade --quiet langchain-community"
      ]
    },
    {
      "cell_type": "markdown",
      "metadata": {},
      "source": [
        "要让代理使用该工具，您必须为其提供与您的 lambda 函数逻辑的功能相匹配的名称和描述。\n\n您还必须提供函数的名称。"
      ]
    },
    {
      "cell_type": "markdown",
      "metadata": {},
      "source": [
        "请注意，由于此工具实际上只是 boto3 库的包装器，您需要运行 `aws configure` 才能使用该工具。有关更多详细信息，请参阅 [此处](https://docs.aws.amazon.com/cli/index.html)"
      ]
    },
    {
      "cell_type": "code",
      "execution_count": null,
      "metadata": {
        "vscode": {
          "languageId": "shellscript"
        }
      },
      "outputs": [],
      "source": [
        "from langchain.agents import AgentType, initialize_agent, load_tools\n",
        "from langchain_openai import OpenAI\n",
        "\n",
        "llm = OpenAI(temperature=0)\n",
        "\n",
        "tools = load_tools(\n",
        "    [\"awslambda\"],\n",
        "    awslambda_tool_name=\"email-sender\",\n",
        "    awslambda_tool_description=\"sends an email with the specified content to test@testing123.com\",\n",
        "    function_name=\"testFunction1\",\n",
        ")\n",
        "\n",
        "agent = initialize_agent(\n",
        "    tools, llm, agent=AgentType.ZERO_SHOT_REACT_DESCRIPTION, verbose=True\n",
        ")\n",
        "\n",
        "agent.run(\"Send an email to test@testing123.com saying hello world.\")"
      ]
    },
    {
      "cell_type": "code",
      "execution_count": null,
      "metadata": {
        "vscode": {
          "languageId": "shellscript"
        }
      },
      "outputs": [],
      "source": []
    }
  ],
  "metadata": {
    "kernelspec": {
      "display_name": "Python 3 (ipykernel)",
      "language": "python",
      "name": "python3"
    },
    "language_info": {
      "codemirror_mode": {
        "name": "ipython",
        "version": 3
      },
      "file_extension": ".py",
      "mimetype": "text/x-python",
      "name": "python",
      "nbconvert_exporter": "python",
      "pygments_lexer": "ipython3",
      "version": "3.10.12"
    }
  },
  "nbformat": 4,
  "nbformat_minor": 4
}