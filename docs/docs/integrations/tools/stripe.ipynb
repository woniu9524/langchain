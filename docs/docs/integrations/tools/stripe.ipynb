{
  "cells": [
    {
      "cell_type": "raw",
      "id": "10238e62-3465-4973-9279-606cbb7ccf16",
      "metadata": {},
      "source": [
        "---\n",
        "sidebar_label: Stripe\n",
        "---"
      ]
    },
    {
      "cell_type": "markdown",
      "id": "a6f91f20",
      "metadata": {},
      "source": [
        "# StripeAgentToolkit\n\n本 Notebook 提供了 Stripe Agent Toolkit 的快速入门概述。\n\n您可以在 [Stripe 的发布博客](https://stripe.dev/blog/adding-payments-to-your-agentic-workflows) 或项目的 [PyPi 页面](https://pypi.org/project/stripe-agent-toolkit/) 上了解更多关于 `StripeAgentToolkit` 的信息。\n\n## 概述\n\n### 集成详情\n\n| 类名 | 包名 | 可序列化 | [JS 支持](https://github.com/stripe/agent-toolkit?tab=readme-ov-file#typescript) |  最新包 |\n| :--- | :--- | :---: | :---: | :---: |\n| StripeAgentToolkit | [stripe-agent-toolkit](https://pypi.org/project/stripe-agent-toolkit) | ❌ | ✅ |  ![PyPI - Version](https://img.shields.io/pypi/v/stripe-agent-toolkit?style=flat-square&label=%20) |\n\n\n## 设置\n\n这个外部管理包托管在 `stripe-agent-toolkit` 项目中，该项目由 Stripe 团队管理。\n\n您可以配合 langgraph 为以下示例安装它，使用 `pip`："
      ]
    },
    {
      "cell_type": "code",
      "execution_count": 1,
      "id": "f85b4089",
      "metadata": {},
      "outputs": [
        {
          "name": "stdout",
          "output_type": "stream",
          "text": [
            "\n",
            "\u001b[1m[\u001b[0m\u001b[34;49mnotice\u001b[0m\u001b[1;39;49m]\u001b[0m\u001b[39;49m A new release of pip is available: \u001b[0m\u001b[31;49m24.2\u001b[0m\u001b[39;49m -> \u001b[0m\u001b[32;49m24.3.1\u001b[0m\n",
            "\u001b[1m[\u001b[0m\u001b[34;49mnotice\u001b[0m\u001b[1;39;49m]\u001b[0m\u001b[39;49m To update, run: \u001b[0m\u001b[32;49mpip install --upgrade pip\u001b[0m\n",
            "Note: you may need to restart the kernel to use updated packages.\n"
          ]
        }
      ],
      "source": [
        "%pip install --quiet -U langgraph stripe-agent-toolkit"
      ]
    },
    {
      "cell_type": "markdown",
      "id": "b15e9266",
      "metadata": {},
      "source": [
        "### 凭证\n\n除了安装该包，您还需要配置集成，将您的 Stripe 账户的密钥（可在您的 [Stripe Dashboard](https://dashboard.stripe.com/apikeys) 中找到）添加进去。"
      ]
    },
    {
      "cell_type": "code",
      "execution_count": null,
      "id": "e0b178a2-8816-40ca-b57c-ccdd86dde9c9",
      "metadata": {},
      "outputs": [],
      "source": [
        "import getpass\n",
        "import os\n",
        "\n",
        "if not os.environ.get(\"STRIPE_SECRET_KEY\"):\n",
        "    os.environ[\"STRIPE_SECRET_KEY\"] = getpass.getpass(\"STRIPE API key:\\n\")"
      ]
    },
    {
      "cell_type": "markdown",
      "id": "bc5ab717-fd27-4c59-b912-bdd099541478",
      "metadata": {},
      "source": [
        "设置 [LangSmith](https://smith.langchain.com/) 以获得一流的可观察性也很有帮助（但非必需）："
      ]
    },
    {
      "cell_type": "code",
      "execution_count": 3,
      "id": "a6c2f136-6367-4f1f-825d-ae741e1bf281",
      "metadata": {},
      "outputs": [],
      "source": [
        "# os.environ[\"LANGSMITH_TRACING\"] = \"true\"\n",
        "# os.environ[\"LANGSMITH_API_KEY\"] = getpass.getpass()"
      ]
    },
    {
      "cell_type": "markdown",
      "id": "1c97218f-f366-479d-8bf7-fe9f2f6df73f",
      "metadata": {},
      "source": [
        "## 实例化\n\n这里我们演示如何创建 Stripe Toolkit 的实例"
      ]
    },
    {
      "cell_type": "code",
      "execution_count": null,
      "id": "8b3ddfe9-ca79-494c-a7ab-1f56d9407a64",
      "metadata": {},
      "outputs": [],
      "source": [
        "from stripe_agent_toolkit.crewai.toolkit import StripeAgentToolkit\n",
        "\n",
        "stripe_agent_toolkit = StripeAgentToolkit(\n",
        "    secret_key=os.getenv(\"STRIPE_SECRET_KEY\"),\n",
        "    configuration={\n",
        "        \"actions\": {\n",
        "            \"payment_links\": {\n",
        "                \"create\": True,\n",
        "            },\n",
        "        }\n",
        "    },\n",
        ")"
      ]
    },
    {
      "cell_type": "markdown",
      "id": "4f53188e",
      "metadata": {},
      "source": [
        "## Agent\n\nHere's how to use the toolkit to create a basic agent in langgraph:"
      ]
    },
    {
      "cell_type": "code",
      "execution_count": null,
      "id": "4975924e",
      "metadata": {},
      "outputs": [],
      "source": [
        "from langchain_anthropic import ChatAnthropic\n",
        "from langgraph.prebuilt import create_react_agent\n",
        "\n",
        "llm = ChatAnthropic(\n",
        "    model=\"claude-3-5-sonnet-20240620\",\n",
        ")\n",
        "\n",
        "langgraph_agent_executor = create_react_agent(llm, stripe_agent_toolkit.get_tools())\n",
        "\n",
        "input_state = {\n",
        "    \"messages\": \"\"\"\n",
        "        Create a payment link for a new product called 'test' with a price\n",
        "        of $100. Come up with a funny description about buy bots,\n",
        "        maybe a haiku.\n",
        "    \"\"\",\n",
        "}\n",
        "\n",
        "output_state = langgraph_agent_executor.invoke(input_state)\n",
        "\n",
        "print(output_state[\"messages\"][-1].content)"
      ]
    }
  ],
  "metadata": {
    "kernelspec": {
      "display_name": ".venv",
      "language": "python",
      "name": "python3"
    },
    "language_info": {
      "codemirror_mode": {
        "name": "ipython",
        "version": 3
      },
      "file_extension": ".py",
      "mimetype": "text/x-python",
      "name": "python",
      "nbconvert_exporter": "python",
      "pygments_lexer": "ipython3",
      "version": "3.11.4"
    }
  },
  "nbformat": 4,
  "nbformat_minor": 5
}