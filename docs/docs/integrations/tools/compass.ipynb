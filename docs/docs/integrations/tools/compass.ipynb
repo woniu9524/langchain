{
  "cells": [
   {
    "cell_type": "raw",
    "id": "afaf8039",
    "metadata": {},
    "source": [
     "---\n",
     "sidebar_label: Compass DeFi 工具包\n",
     "---"
    ]
   },
   {
    "cell_type": "markdown",
    "id": "e49f1e0d",
    "metadata": {},
    "source": [
     "# Compass LangChain 工具包\n",
     "\n",
     "与各种 DeFi 协议进行交互。非托管。",
     "工具返回*未签名交易*。此工具包建立在通用 DeFi API（[Compass API](https://api.compasslabs.ai/)）之上，允许代理执行金融操作，例如：\n",
     "\n",
     "- 在 Uniswap 和 Aerodrome 上**交换代币**\n",
     "- 使用 Aave 上的协议**借出**或**借入**资产\n",
     "- 在 Aerodrome 和 Uniswap 上**提供流动性**\n",
     "- 在钱包之间**转移资金**\n",
     "- 查询余额、投资组合和**监控头寸**\n",
     "\n",
     "## 概述\n",
     "\n",
     "### 集成详情\n",
     "\n",
     "| 类                    | 包             | 可序列化 | JS 支持 |                                         包最新版本                                         |\n",
     "|:-------------------------|:--------------------| :---: | :---: |:----------------------------------------------------------------------------------------------:|\n",
     "| LangchainCompassToolkit  | `langchain-compass` | ❌ | ❌ | ![PyPI - Version](https://img.shields.io/pypi/v/langchain-compass?style=flat-square&label=%20) |\n",
     "\n",
     "### 工具功能\n",
     "\n",
     "以下是此工具包提供的一些工具示例（每日可能更改）：\n",
     "\n",
     "- `aave_supply`: 向 Aave 供应资产以赚取利息。\n",
     "- `aave_borrow`: 使用抵押品从 Aave 借入资产。\n",
     "- `uniswap_swap_sell_exactly`: 在 Uniswap 上精确交换特定数量的代币。\n",
     "- `generic_portfolio_get`: 以美元和代币余额形式检索钱包的投资组合。\n",
     "- `generic_transfer_erc20`: 在地址之间转移 ERC20 代币。\n",
     "\n",
     "\n",
     "## 设置\n",
     "\n",
     "我们将在此处：\n",
     "\n",
     "1. 安装 langchain 包\n",
     "2. 导入并实例化工具包\n",
     "3. 使用 `toolkit.get_tools()` 将工具传递给您的代理"
    ]
   },
   {
    "cell_type": "markdown",
    "id": "0730d6a1",
    "metadata": {},
    "source": [
     "### 安装\n",
     "\n",
     "此工具包位于 `langchain-compass` 包中："
    ]
   },
   {
    "metadata": {},
    "cell_type": "code",
    "outputs": [],
    "execution_count": null,
    "source": "%pip install -qU langchain-compass",
    "id": "652d6238"
   },
   {
    "cell_type": "markdown",
    "id": "a38cde65",
    "metadata": {},
    "source": [
     "#### 环境设置\n",
     "\n",
     "要运行这些示例，请确保 LangChain 可以访问 LLM 服务。例如，如果您正在使用 GPT-4o，请创建一个包含以下内容的 `.env` 文件：\n",
     "\n",
     "```plaintext\n",
     "# .env 文件\n",
     "OPENAI_API_KEY=<您的_openai_api_key_在此处>\n",
     "```"
    ]
   },
   {
    "cell_type": "markdown",
    "id": "5c5f2839",
    "metadata": {},
    "source": [
     "### 实例化\n",
     "\n",
     "现在我们可以实例化我们的工具包："
    ]
   },
   {
    "metadata": {
     "ExecuteTime": {
      "end_time": "2025-04-16T15:00:25.188941Z",
      "start_time": "2025-04-16T15:00:23.842165Z"
     }
    },
    "cell_type": "code",
    "outputs": [],
    "execution_count": 3,
    "source": [
     "from langchain_compass.toolkits import LangchainCompassToolkit\n",
     "\n",
     "toolkit = LangchainCompassToolkit(compass_api_key=None)"
    ],
    "id": "51a60dbe"
   },
   {
    "cell_type": "markdown",
    "id": "d11245ad",
    "metadata": {},
    "source": [
     "### 工具\n",
     "\n",
     "查看[可用工具](#tool-features)："
    ]
   },
   {
    "cell_type": "code",
    "id": "310bf18e",
    "metadata": {},
    "source": [
     "tools = toolkit.get_tools()\n",
     "for tool in tools:\n",
     "    print(tool.name)"
    ],
    "outputs": [],
    "execution_count": null
   },
   {
    "metadata": {},
    "cell_type": "markdown",
    "source": [
     "```\n",
     "# 预期输出：\n",
     "\n",
     "aave_supply\n",
     "aave_borrow\n",
     "aave_repay\n",
     "aave_withdraw\n",
     "aave_asset_price_get\n",
     "aave_liquidity_change_get\n",
     "aave_user_position_summary_get\n",
     "...\n",
     "```"
    ],
    "id": "c3fd41b52c203e03"
   },
   {
    "metadata": {},
    "cell_type": "markdown",
    "source": [
     "## 调用\n",
     "\n",
     "以编程方式调用单个工具："
    ],
    "id": "73b871e54cf1996"
   },
   {
    "metadata": {
     "ExecuteTime": {
      "end_time": "2025-04-16T15:16:33.924523Z",
      "start_time": "2025-04-16T15:16:33.564016Z"
     }
    },
    "cell_type": "code",
    "source": [
     "tool_name = \"generic_ens_get\"\n",
     "tool = next(tool for tool in tools if tool.name == tool_name)\n",
     "tool.invoke({\"ens_name\": \"vitalik.eth\", \"chain\": \"ethereum:mainnet\"})"
    ],
    "id": "e384e604c38f07de",
    "outputs": [
     {
      "data": {
       "text/plain": [
        "EnsNameInfoResponse(wallet_address='0xd8dA6BF26964aF9D7eEd9e03E53415D37aA96045', registrant='0xd8dA6BF26964aF9D7eEd9e03E53415D37aA96045')"
       ]
      },
      "execution_count": 13,
      "metadata": {},
      "output_type": "execute_result"
     }
    ],
    "execution_count": 13
   },
   {
    "cell_type": "markdown",
    "id": "23e11cc9",
    "metadata": {},
    "source": [
     "## 在代理中使用\n",
     "\n",
     "我们需要一个 LLM 或聊天模型："
    ]
   },
   {
    "metadata": {
     "ExecuteTime": {
      "end_time": "2025-04-16T15:00:27.027533Z",
      "start_time": "2025-04-16T15:00:26.364789Z"
     }
    },
    "cell_type": "code",
    "outputs": [],
    "execution_count": 5,
    "source": [
     "from dotenv import load_dotenv\n",
     "from langchain_openai import ChatOpenAI\n",
     "\n",
     "load_dotenv()\n",
     "\n",
     "llm = ChatOpenAI(model=\"gpt-4o\")"
    ],
    "id": "d1ee55bc"
   },
   {
    "cell_type": "markdown",
    "id": "3a5bb5ca",
    "metadata": {},
    "source": [
     "使用工具初始化代理："
    ]
   },
   {
    "metadata": {
     "ExecuteTime": {
      "end_time": "2025-04-16T15:00:27.948912Z",
      "start_time": "2025-04-16T15:00:27.033842Z"
     }
    },
    "cell_type": "code",
    "outputs": [],
    "execution_count": 6,
    "source": [
     "from langgraph.prebuilt import create_react_agent\n",
     "\n",
     "tools = toolkit.get_tools()\n",
     "agent_executor = create_react_agent(llm, tools)"
    ],
    "id": "f8a2c4b1"
   },
   {
    "cell_type": "markdown",
    "id": "b4a7c9d2",
    "metadata": {},
    "source": "示例用法："
   },
   {
    "metadata": {},
    "cell_type": "code",
    "outputs": [],
    "execution_count": null,
    "source": [
     "example_query = \"please set an allowance on Uniswap of 10 WETH for vitalic.eth.\"  # 故意拼写错误\n",
     "\n",
     "events = agent_executor.stream(\n",
     "    {\"messages\": [(\"user\", example_query)]},\n",
     "    stream_mode=\"values\",\n",
     ")\n",
     "for event in events:\n",
     "    event[\"messages\"][-1].pretty_print()"
    ],
    "id": "c9a8e4f3"
   },
   {
    "cell_type": "markdown",
    "id": "e5a7c9d4",
    "metadata": {},
    "source": [
     "预期输出：\n",
     "```\n",
     "================================\u001B[1m Human Message \u001B[0m=================================\n",
     "\n",
     "please set an allowance on Uniswap of 10 WETH for vitalic.eth.\n",
     "==================================\u001B[1m Ai Message \u001B[0m==================================\n",
     "工具调用：\n",
     "  generic_ens_get (call_MHIXRXxWH0L7iUEYHwvDUdU1)\n",
     " 调用 ID: call_MHIXRXxWH0L7iUEYHwvDUdU1\n",
     "  参数：\n",
     "    链: ethereum:mainnet\n",
     "    ENS 名称: vitalic.eth\n",
     "=================================\u001B[1m Tool Message \u001B[0m=================================\n",
     "名称: generic_ens_get\n",
     "\n",
     "wallet_address='0x44761Ef63FaD902D8f8dC77e559Ab116929881Db' registrant='0x44761Ef63FaD902D8f8dC77e559Ab116929881Db'\n",
     "==================================\u001B[1m Ai Message \u001B[0m==================================\n",
     "工具调用：\n",
     "  generic_allowance_set (call_IEBftbtBfKCkI1zFXXtEY8tq)\n",
     " 调用 ID: call_IEBftbtBfKCkI1zFXXtEY8tq\n",
     "  参数：\n",
     "    数量: 10\n",
     "    链: ethereum:mainnet\n",
     "    合约名称: UniswapV3Router\n",
     "    发送者: 0x44761Ef63FaD902D8f8dC77e559Ab116929881Db\n",
     "    代币: WETH\n",
     "=================================\u001B[1m Tool Message \u001B[0m=================================\n",
     "名称: generic_allowance_set\n",
     "\n",
     "{\"type\": \"unsigned_transaction\", \"content\": {\"chainId\": 1, \"data\": \"0x095ea7b300000000000000000000000068b3465833fb72a70ecdf485e0e4c7bd8665fc450000000000000000000000000000000000000000000000008ac7230489e80000\", \"from\": \"0x44761Ef63FaD902D8f8dC77e559Ab116929881Db\", \"gas\": 46434, \"to\": \"0xC02aaA39b223FE8D0A0e5C4F27eAD9083C756Cc2\", \"value\": 0, \"nonce\": 79, \"maxFeePerGas\": 2265376912, \"maxPriorityFeePerGas\": 6400594}}\n",
     "\n",
     "```"
    ]
   },
   {
    "metadata": {},
    "cell_type": "markdown",
    "source": [
     "## API 参考\n",
     "\n",
     "`langchain-compass` 建立在 Compass API 之上。每个工具都对应一个 API 端点。[请在此处查看文档](https://api.compasslabs.ai/)"
    ],
    "id": "2fe1ec8c22e5e79f"
   }
  ],
  "metadata": {
   "kernelspec": {
    "display_name": "Python 3 (ipykernel)",
    "language": "python",
    "name": "python3"
   },
   "language_info": {
    "codemirror_mode": {
     "name": "ipython",
     "version": 3
    },
    "file_extension": ".py",
    "mimetype": "text/x-python",
    "name": "python",
    "nbconvert_exporter": "python",
    "pygments_lexer": "ipython3",
    "version": "3.10.4"
   }
  },
  "nbformat": 4,
  "nbformat_minor": 5
 }