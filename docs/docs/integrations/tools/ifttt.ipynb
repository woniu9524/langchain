{
  "cells": [
    {
      "cell_type": "markdown",
      "id": "16763ed3",
      "metadata": {},
      "source": [
        "# IFTTT WebHooks\n\n本笔记本展示了如何使用 IFTTT Webhooks。\n\n来自 https://github.com/SidU/teams-langchain-js/wiki/Connecting-IFTTT-Services。\n\n## 创建一个 webhook\n- 前往 https://ifttt.com/create\n\n## 配置“If This”\n- 点击 IFTTT 界面中的“If This”按钮。\n- 在搜索栏中搜索“Webhooks”。\n- 选择第一个选项“Receive a web request with a JSON payload.”（接收带有 JSON 负载的 Web 请求）。\n- 选择一个 Event Name，该 Event Name 应特定于您计划连接的服务。\n这将使您更容易管理 webhook URL。\n例如，如果您连接到 Spotify，可以将“Spotify”作为您的\nEvent Name。\n- 点击“Create Trigger”按钮保存您的设置并创建您的 webhook。\n\n## 配置“Then That”\n- 点击 IFTTT 界面中的“Then That”按钮。\n- 搜索您想要连接的服务，例如 Spotify。\n- 从服务中选择一个操作，例如“Add track to a playlist”（将歌曲添加到播放列表）。\n- 通过指定必要详细信息来配置操作，例如播放列表名称，\n例如，“Songs from AI”。\n- 在操作中引用 Webhook 收到的 JSON Payload。对于 Spotify\n场景，选择 `{{JsonPayload}}` 作为您的搜索查询。\n- 点击“Create Action”按钮保存您的操作设置。\n- 配置完操作后，点击“Finish”按钮完成设置。\n- 恭喜！您已成功将 Webhook 连接到所需的服务，现在可以开始接收数据和触发操作了 🎉\n\n## 完成\n- 要获取您的 webhook URL，请访问 https://ifttt.com/maker_webhooks/settings\n- 从那里复制 IFTTT key 值。URL 的形式为\nhttps://maker.ifttt.com/use/YOUR_IFTTT_KEY。获取 YOUR_IFTTT_KEY 值。"
      ]
    },
    {
      "cell_type": "code",
      "execution_count": null,
      "id": "d356bc92",
      "metadata": {},
      "outputs": [],
      "source": [
        "%pip install --upgrade --quiet  langchain-community"
      ]
    },
    {
      "cell_type": "code",
      "execution_count": 1,
      "id": "10a46e7e",
      "metadata": {},
      "outputs": [],
      "source": [
        "from langchain_community.tools.ifttt import IFTTTWebhook"
      ]
    },
    {
      "cell_type": "code",
      "execution_count": 2,
      "id": "12003d72",
      "metadata": {},
      "outputs": [],
      "source": [
        "import os\n",
        "\n",
        "key = os.environ[\"IFTTTKey\"]\n",
        "url = f\"https://maker.ifttt.com/trigger/spotify/json/with/key/{key}\"\n",
        "tool = IFTTTWebhook(\n",
        "    name=\"Spotify\", description=\"Add a song to spotify playlist\", url=url\n",
        ")"
      ]
    },
    {
      "cell_type": "code",
      "execution_count": 3,
      "id": "6e68f846",
      "metadata": {},
      "outputs": [
        {
          "data": {
            "text/plain": [
              "\"Congratulations! You've fired the spotify JSON event\""
            ]
          },
          "execution_count": 3,
          "metadata": {},
          "output_type": "execute_result"
        }
      ],
      "source": [
        "tool.run(\"taylor swift\")"
      ]
    },
    {
      "cell_type": "code",
      "execution_count": null,
      "id": "a7e599c9",
      "metadata": {},
      "outputs": [],
      "source": []
    }
  ],
  "metadata": {
    "kernelspec": {
      "display_name": "Python 3 (ipykernel)",
      "language": "python",
      "name": "python3"
    },
    "language_info": {
      "codemirror_mode": {
        "name": "ipython",
        "version": 3
      },
      "file_extension": ".py",
      "mimetype": "text/x-python",
      "name": "python",
      "nbconvert_exporter": "python",
      "pygments_lexer": "ipython3",
      "version": "3.9.1"
    }
  },
  "nbformat": 4,
  "nbformat_minor": 5
}