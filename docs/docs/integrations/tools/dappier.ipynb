{
  "cells": [
    {
      "cell_type": "markdown",
      "metadata": {
        "id": "BJB3NSYqUWl4"
      },
      "source": [
        "# Dappier\n\n[Dappier](https://dappier.com) 将任何 LLM 或您的 Agentic AI 连接到来自可信来源的实时、已获授权的专有数据，让您的 AI 成为任何领域的专家。我们的专业模型包括实时网络搜索、新闻、体育、金融股市数据、加密货币数据，以及来自高端出版商的独家内容。请访问 [marketplace.dappier.com](https://marketplace.dappier.com) 浏览我们市场中的各类数据模型。\n\n[Dappier](https://dappier.com) 提供丰富、即时可用且与上下文相关的字符串数据，经过优化，可与 LangChain 无缝集成。无论您是在构建会话式 AI、推荐引擎还是智能搜索，Dappier 的 LLM 无关 RAG 模型都能确保您的 AI 能够访问经过验证的最新数据——无需构建和管理自己的检索管道的复杂性。"
      ]
    },
    {
      "cell_type": "markdown",
      "metadata": {
        "id": "MAbkvI8pUb7R"
      },
      "source": [
        "# Dappier 工具\n\n这将帮助你开始使用 Dappier [工具](https://python.langchain.com/docs/concepts/tools/)。如需了解 DappierRetriever 所有功能和配置的详细文档，请前往[API 参考](https://python.langchain.com/en/latest/tools/langchain_dappier.tools.Dappier.DappierRealTimeSearchTool.html)。\n\n## 概览\n\nDappierRealTimeSearchTool 和 DappierAIRecommendationTool 为 AI 应用提供实时数据和 AI 驱动的洞察力。前者提供对新闻、天气、旅游和金融市场最新信息的访问，而后者则通过 Dappier 的预训练 RAG 模型和自然语言 API 支持的新闻、金融和体育等领域的基于事实的高级内容来增强应用程序。"
      ]
    },
    {
      "cell_type": "markdown",
      "metadata": {
        "id": "ouA6p-E-aF34"
      },
      "source": [
        "### 设置\n\n该工具位于 `langchain-dappier` 包中。"
      ]
    },
    {
      "cell_type": "code",
      "execution_count": null,
      "metadata": {
        "id": "tNhKB0BUaneq"
      },
      "outputs": [],
      "source": [
        "%pip install -qU langchain-dappier"
      ]
    },
    {
      "cell_type": "markdown",
      "metadata": {
        "id": "oBLVZpnoYshG"
      },
      "source": [
        "### 凭证\n\n我们还需要设置Dappier API凭证，可以在[Dappier 网站](https://platform.dappier.com/profile/api-keys)上生成凭证。"
      ]
    },
    {
      "cell_type": "code",
      "execution_count": null,
      "metadata": {
        "id": "UrmBR_JyY9I6"
      },
      "outputs": [],
      "source": [
        "import getpass\n",
        "import os\n",
        "\n",
        "if not os.environ.get(\"DAPPIER_API_KEY\"):\n",
        "    os.environ[\"DAPPIER_API_KEY\"] = getpass.getpass(\"Dappier API key:\\n\")"
      ]
    },
    {
      "cell_type": "markdown",
      "metadata": {
        "id": "x_3712yIXTGc"
      },
      "source": [
        "如果你想获取来自单个查询的自动化跟踪，你也可以通过取消注释下面这行来设置你的 [LangSmith](https://docs.smith.langchain.com/) API 密钥："
      ]
    },
    {
      "cell_type": "code",
      "execution_count": 18,
      "metadata": {
        "id": "S1Tuwpq-XVaX"
      },
      "outputs": [],
      "source": [
        "# os.environ[\"LANGSMITH_API_KEY\"] = getpass.getpass(\"Enter your LangSmith API key: \")\n",
        "# os.environ[\"LANGSMITH_TRACING\"] = \"true\""
      ]
    },
    {
      "cell_type": "markdown",
      "metadata": {
        "id": "IgPgQ12wcA4i"
      },
      "source": [
        "## DappierRealTimeSearchTool\n\n获取实时的谷歌搜索结果，包括最新新闻、天气、旅行和优惠信息，以及来自 polygon.io 的最新财经新闻、股票价格和交易信息，所有这些都由 AI 洞察技术提供支持，让您时刻保持知情。"
      ]
    },
    {
      "cell_type": "markdown",
      "metadata": {
        "id": "W8QBSmDvbL69"
      },
      "source": [
        "### 实例化\n\n- ai_model_id: str\n    要用于查询的 AI 模型 ID。AI 模型 ID 始终以 \"am_\" 前缀开头。\n\n    默认为 \"am_01j06ytn18ejftedz6dyhz2b15\"。\n\n    有多个可用的 AI 模型 ID，可以在以下位置找到：\n    https://marketplace.dappier.com/marketplace"
      ]
    },
    {
      "cell_type": "code",
      "execution_count": 4,
      "metadata": {
        "id": "tw1edqrLbiJ4"
      },
      "outputs": [],
      "source": [
        "from langchain_dappier import DappierRealTimeSearchTool\n",
        "\n",
        "tool = DappierRealTimeSearchTool(\n",
        "    # ai_model_id=\"...\",     # overwrite default ai_model_id\n",
        "    # name=\"...\",            # overwrite default tool name\n",
        "    # description=\"...\",     # overwrite default tool description\n",
        "    # args_schema=...,       # overwrite default args_schema: BaseModel\n",
        ")"
      ]
    },
    {
      "cell_type": "markdown",
      "metadata": {
        "id": "nTatJ6F8b0sV"
      },
      "source": [
        "### 调用\n\n#### [直接使用参数调用](/docs/concepts/tools)\n\n`DappierRealTimeSearchTool` 接受一个名为 \"query\" 的参数，该参数应为自然语言查询："
      ]
    },
    {
      "cell_type": "code",
      "execution_count": 5,
      "metadata": {
        "colab": {
          "base_uri": "https://localhost:8080/",
          "height": 53
        },
        "id": "ASCcnvUCdIvz",
        "outputId": "91538fac-f515-4a8e-adb6-0a7aa42f704c"
      },
      "outputs": [
        {
          "data": {
            "application/vnd.google.colaboratory.intrinsic+json": {
              "type": "string"
            },
            "text/plain": [
              "\"At the last Wimbledon in 2024, Carlos Alcaraz won the title by defeating Novak Djokovic. This victory marked Alcaraz's fourth Grand Slam title at just 21 years old! 🎉🏆🎾\""
            ]
          },
          "execution_count": 5,
          "metadata": {},
          "output_type": "execute_result"
        }
      ],
      "source": [
        "tool.invoke({\"query\": \"What happened at the last wimbledon\"})"
      ]
    },
    {
      "cell_type": "markdown",
      "metadata": {
        "id": "Jcbi44TRdL3D"
      },
      "source": [
        "### [使用 ToolCall 调用](/docs/concepts/tools)\n\n我们也可以使用模型生成的 ToolCall 来调用工具，在这种情况下将返回一个 ToolMessage："
      ]
    },
    {
      "cell_type": "code",
      "execution_count": 6,
      "metadata": {
        "colab": {
          "base_uri": "https://localhost:8080/"
        },
        "id": "FCTpjujpdQst",
        "outputId": "e184c25b-0089-4896-fbb4-1fbe09ea2f6b"
      },
      "outputs": [
        {
          "name": "stdout",
          "output_type": "stream",
          "text": [
            "Euro 2024 is being hosted by Germany! 🇩🇪 The tournament runs from June 14 to July 14, 2024, featuring 24 teams competing across various cities like Berlin and Munich. It's going to be an exciting summer of football! ⚽️🏆\n"
          ]
        }
      ],
      "source": [
        "# This is usually generated by a model, but we'll create a tool call directly for demo purposes.\n",
        "model_generated_tool_call = {\n",
        "    \"args\": {\"query\": \"euro 2024 host nation\"},\n",
        "    \"id\": \"1\",\n",
        "    \"name\": \"dappier\",\n",
        "    \"type\": \"tool_call\",\n",
        "}\n",
        "tool_msg = tool.invoke(model_generated_tool_call)\n",
        "\n",
        "# The content is a JSON string of results\n",
        "print(tool_msg.content[:400])"
      ]
    },
    {
      "cell_type": "markdown",
      "metadata": {
        "id": "PTBiq_2JdfjK"
      },
      "source": [
        "### 链式调用\n\n我们可以通过先将我们的工具绑定到[工具调用模型](/docs/how_to/tool_calling/)，然后调用它来实现链式调用：\n\nimport ChatModelTabs from \"@theme/ChatModelTabs\";\n\n<ChatModelTabs customVarName=\"llm\" />"
      ]
    },
    {
      "cell_type": "code",
      "execution_count": 11,
      "metadata": {
        "id": "_XImV9NtdoJq"
      },
      "outputs": [],
      "source": [
        "# | output: false\n",
        "# | echo: false\n",
        "\n",
        "# !pip install -qU langchain langchain-openai\n",
        "from langchain.chat_models import init_chat_model\n",
        "\n",
        "llm = init_chat_model(model=\"gpt-4o\", model_provider=\"openai\", temperature=0)"
      ]
    },
    {
      "cell_type": "code",
      "execution_count": 12,
      "metadata": {
        "colab": {
          "base_uri": "https://localhost:8080/"
        },
        "id": "i5P5DgJOdwPI",
        "outputId": "70e14f71-637e-422d-80ac-62e93b3686a9"
      },
      "outputs": [
        {
          "data": {
            "text/plain": [
              "AIMessage(content=\"Barbora Krejčíková won the women's singles title at Wimbledon 2024, defeating Jasmine Paolini in the final with a score of 6–2, 2–6, 6–4. This victory marked her first Wimbledon singles title and her second major singles title overall! 🎉🏆🎾\", additional_kwargs={'refusal': None}, response_metadata={'token_usage': {'completion_tokens': 69, 'prompt_tokens': 222, 'total_tokens': 291, 'completion_tokens_details': {'accepted_prediction_tokens': 0, 'audio_tokens': 0, 'reasoning_tokens': 0, 'rejected_prediction_tokens': 0}, 'prompt_tokens_details': {'audio_tokens': 0, 'cached_tokens': 0}}, 'model_name': 'gpt-4o-2024-08-06', 'system_fingerprint': 'fp_4691090a87', 'finish_reason': 'stop', 'logprobs': None}, id='run-87a385dd-103b-4344-a3be-2d6fd1dcfdf5-0', usage_metadata={'input_tokens': 222, 'output_tokens': 69, 'total_tokens': 291, 'input_token_details': {'audio': 0, 'cache_read': 0}, 'output_token_details': {'audio': 0, 'reasoning': 0}})"
            ]
          },
          "execution_count": 12,
          "metadata": {},
          "output_type": "execute_result"
        }
      ],
      "source": [
        "import datetime\n",
        "\n",
        "from langchain_core.prompts import ChatPromptTemplate\n",
        "from langchain_core.runnables import RunnableConfig, chain\n",
        "\n",
        "today = datetime.datetime.today().strftime(\"%D\")\n",
        "prompt = ChatPromptTemplate(\n",
        "    [\n",
        "        (\"system\", f\"You are a helpful assistant. The date today is {today}.\"),\n",
        "        (\"human\", \"{user_input}\"),\n",
        "        (\"placeholder\", \"{messages}\"),\n",
        "    ]\n",
        ")\n",
        "\n",
        "# specifying tool_choice will force the model to call this tool.\n",
        "llm_with_tools = llm.bind_tools([tool])\n",
        "\n",
        "llm_chain = prompt | llm_with_tools\n",
        "\n",
        "\n",
        "@chain\n",
        "def tool_chain(user_input: str, config: RunnableConfig):\n",
        "    input_ = {\"user_input\": user_input}\n",
        "    ai_msg = llm_chain.invoke(input_, config=config)\n",
        "    tool_msgs = tool.batch(ai_msg.tool_calls, config=config)\n",
        "    return llm_chain.invoke({**input_, \"messages\": [ai_msg, *tool_msgs]}, config=config)\n",
        "\n",
        "\n",
        "tool_chain.invoke(\"who won the last womens singles wimbledon\")"
      ]
    },
    {
      "cell_type": "markdown",
      "metadata": {
        "id": "TycbUKZsfRQy"
      },
      "source": [
        "## DappierAIRecommendationTool\n\n使用 Dappier 预训练的 RAG 模型和自然语言 API，为您的 AI 应用注入强大动力，通过涵盖新闻、金融、体育、天气等多个垂直领域的高质量内容提供商，提供事实准确且最新的响应。"
      ]
    },
    {
      "cell_type": "markdown",
      "metadata": {
        "id": "x1XfwHzHfvUN"
      },
      "source": [
        "### 初始化\n\n- data_model_id: str  \n  用于推荐的数据模型 ID。数据模型 ID 始终以 \"dm_\" 前缀开头。默认值为 \"dm_01j0pb465keqmatq9k83dthx34\"。  \n  有多个数据模型 ID 可供选择，可在 [Dappier marketplace](https://marketplace.dappier.com/marketplace) 找到。  \n\n- similarity_top_k: int  \n  根据相似度检索的顶部文档数量。默认值为 \"9\"。  \n\n- ref: Optional[str]\n  应显示 AI 推荐的网站域名。默认为 \"None\"。  \n\n- num_articles_ref: int\n  从指定的参考域名 (\"ref\") 返回的最小文章数。其余文章将来自 RAG 模型中的其他网站。默认为 \"0\"。  \n\n- search_algorithm: Literal[\"most_recent\", \"semantic\", \"most_recent_semantic\", \"trending\"]\n  用于检索文章的搜索算法。默认为 \"most_recent\"。"
      ]
    },
    {
      "cell_type": "code",
      "execution_count": 15,
      "metadata": {
        "id": "-t9rS-TBhNss"
      },
      "outputs": [],
      "source": [
        "from langchain_dappier import DappierAIRecommendationTool\n",
        "\n",
        "tool = DappierAIRecommendationTool(\n",
        "    data_model_id=\"dm_01j0pb465keqmatq9k83dthx34\",\n",
        "    similarity_top_k=3,\n",
        "    ref=\"sportsnaut.com\",\n",
        "    num_articles_ref=2,\n",
        "    search_algorithm=\"most_recent\",\n",
        "    # name=\"...\",            # overwrite default tool name\n",
        "    # description=\"...\",     # overwrite default tool description\n",
        "    # args_schema=...,       # overwrite default args_schema: BaseModel\n",
        ")"
      ]
    },
    {
      "cell_type": "markdown",
      "metadata": {
        "id": "ad3anWusg9BI"
      },
      "source": [
        "### 调用\n\n#### [直接使用参数调用](/docs/concepts/tools)\n\n`DappierAIRecommendationTool` 接受一个名为 \"query\" 的参数，它应该是一个自然语言查询："
      ]
    },
    {
      "cell_type": "code",
      "execution_count": 16,
      "metadata": {
        "colab": {
          "base_uri": "https://localhost:8080/"
        },
        "id": "UQ08UkTMhI17",
        "outputId": "5fd145b8-a547-4caa-ba06-ab0bfac3b104"
      },
      "outputs": [
        {
          "data": {
            "text/plain": [
              "[{'author': 'Matt Weaver',\n",
              "  'image_url': 'https://images.dappier.com/dm_01j0pb465keqmatq9k83dthx34/Screenshot_20250117_021643_Gallery_.jpg?width=428&height=321',\n",
              "  'pubdate': 'Fri, 17 Jan 2025 08:04:03 +0000',\n",
              "  'source_url': 'https://sportsnaut.com/chili-bowl-thursday-bell-column/',\n",
              "  'summary': \"The article highlights the thrilling unpredictability of the Chili Bowl Midget Nationals, focusing on the dramatic shifts in fortune for drivers like Christopher Bell, Tanner Thorson, and Karter Sarff during Thursday's events. Key moments included Sarff's unfortunate pull-off and a last-lap crash that allowed Ryan Bernal to capitalize and improve his standing, showcasing the chaotic nature of the race and the importance of strategy and luck.\\n\\nAs the competition intensifies leading up to Championship Saturday, Bell faces the challenge of racing from a Last Chance Race, reflecting on the excitement and difficulties of the sport. The article emphasizes the emotional highs and lows experienced by racers, with insights from Bell and Bernal on the unpredictable nature of racing. Overall, it captures the camaraderie and passion that define the Chili Bowl, illustrating how each moment contributes to the event's narrative.\",\n",
              "  'title': 'Thursday proves why every lap of Chili Bowl is so consequential'},\n",
              " {'author': 'Matt Higgins',\n",
              "  'image_url': 'https://images.dappier.com/dm_01j0pb465keqmatq9k83dthx34/Pete-Alonso-24524027_.jpg?width=428&height=321',\n",
              "  'pubdate': 'Fri, 17 Jan 2025 02:48:42 +0000',\n",
              "  'source_url': 'https://sportsnaut.com/new-york-mets-news-pete-alonso-rejected-last-ditch-contract-offer/',\n",
              "  'summary': \"The New York Mets are likely parting ways with star first baseman Pete Alonso after failing to finalize a contract agreement. Alonso rejected a last-minute three-year offer worth between $68 and $70 million, leading the Mets to redirect funds towards acquiring a top reliever. With Alonso's free-agent options dwindling, speculation arises about his potential signing with another team for the 2025 season, while the Mets plan to shift Mark Vientos to first base.\\n\\nIn a strategic move, the Mets are also considering a trade for Toronto Blue Jays' star first baseman Vladimir Guerrero Jr. This potential acquisition aims to enhance the Mets' competitiveness as they reshape their roster. Guerrero's impressive offensive stats make him a valuable target, and discussions are in the early stages. Fans and analysts are keenly watching the situation, as a trade involving such a prominent player could significantly impact both teams.\",\n",
              "  'title': 'MLB insiders reveal New York Mets’ last-ditch contract offer that Pete Alonso rejected'},\n",
              " {'author': 'Jim Cerny',\n",
              "  'image_url': 'https://images.dappier.com/dm_01j0pb465keqmatq9k83dthx34/NHL-New-York-Rangers-at-Utah-25204492_.jpg?width=428&height=321',\n",
              "  'pubdate': 'Fri, 17 Jan 2025 05:10:39 +0000',\n",
              "  'source_url': 'https://www.foreverblueshirts.com/new-york-rangers-news/stirring-5-3-comeback-win-utah-close-road-trip/',\n",
              "  'summary': \"The New York Rangers achieved a thrilling 5-3 comeback victory against the Utah Hockey Club, showcasing their resilience after a prior overtime loss. The Rangers scored three unanswered goals in the third period, with key contributions from Reilly Smith, Chris Kreider, and Artemi Panarin, who sealed the win with an empty-net goal. This victory marked their first win of the season when trailing after two periods and capped off a successful road trip, improving their record to 21-20-3.\\n\\nIgor Shesterkin's strong performance in goal, along with Arthur Kaliyev's first goal for the team, helped the Rangers overcome an early deficit. The game featured multiple lead changes, highlighting the competitive nature of both teams. As the Rangers prepare for their next game against the Columbus Blue Jackets, they aim to close the gap in the playoff race, with the Blue Jackets currently holding a five-point lead in the Eastern Conference standings.\",\n",
              "  'title': 'Rangers score 3 times in 3rd period for stirring 5-3 comeback win against Utah to close road trip'}]"
            ]
          },
          "execution_count": 16,
          "metadata": {},
          "output_type": "execute_result"
        }
      ],
      "source": [
        "tool.invoke({\"query\": \"latest sports news\"})"
      ]
    },
    {
      "cell_type": "markdown",
      "metadata": {
        "id": "dzorKILbiOyy"
      },
      "source": [
        "### [使用 ToolCall 调用](/docs/concepts/tools)\n\n我们也可以使用模型生成的 ToolCall 来调用工具，在这种情况下将返回一个 ToolMessage："
      ]
    },
    {
      "cell_type": "code",
      "execution_count": 17,
      "metadata": {
        "colab": {
          "base_uri": "https://localhost:8080/"
        },
        "id": "wUu-awo0iP3P",
        "outputId": "af1a9679-06ae-4432-a49f-769330c1e32f"
      },
      "outputs": [
        {
          "name": "stdout",
          "output_type": "stream",
          "text": [
            "[{\"author\": \"Matt Johnson\", \"image_url\": \"https://images.dappier.com/dm_01j0pb465keqmatq9k83dthx34/MLB-New-York-Mets-at-Colorado-Rockies-23948644_.jpg?width=428&height=321\", \"pubdate\": \"Fri, 17 Jan 2025 13:31:02 +0000\", \"source_url\": \"https://sportsnaut.com/new-york-mets-rumors-vladimir-guerrero-jr-news/\", \"summary\": \"The New York Mets are refocusing their strategy after failing to extend a contra\n"
          ]
        }
      ],
      "source": [
        "# This is usually generated by a model, but we'll create a tool call directly for demo purposes.\n",
        "model_generated_tool_call = {\n",
        "    \"args\": {\"query\": \"top 3 news articles\"},\n",
        "    \"id\": \"1\",\n",
        "    \"name\": \"dappier\",\n",
        "    \"type\": \"tool_call\",\n",
        "}\n",
        "tool_msg = tool.invoke(model_generated_tool_call)\n",
        "\n",
        "# The content is a JSON string of results\n",
        "print(tool_msg.content[:400])"
      ]
    },
    {
      "cell_type": "markdown",
      "metadata": {
        "id": "quFltDcDd2T8"
      },
      "source": [
        "## API 参考\n\n有关 DappierRealTimeSearchTool 所有功能和配置的详细文档，请访问 [API 参考](https://python.langchain.com/api_reference/community/tools/langchain_dappier.tools.dappier.tool.DappierRealTimeSearchTool.html)。"
      ]
    }
  ],
  "metadata": {
    "colab": {
      "provenance": []
    },
    "kernelspec": {
      "display_name": "Python 3",
      "name": "python3"
    },
    "language_info": {
      "name": "python"
    }
  },
  "nbformat": 4,
  "nbformat_minor": 0
}