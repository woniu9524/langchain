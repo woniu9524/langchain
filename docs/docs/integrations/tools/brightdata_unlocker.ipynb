{
  "cells": [
    {
      "cell_type": "markdown",
      "metadata": {},
      "source": [
        "# BrightData解锁器"
      ]
    },
    {
      "cell_type": "markdown",
      "metadata": {},
      "source": [
        "[Bright Data](https://brightdata.com/) 提供强大的 Web Unlocker API，允许您访问可能受到反机器人措施、地理限制或其他访问限制保护的网站，这对于需要可靠 Web 内容提取的 AI 代理尤其有用。"
      ]
    },
    {
      "cell_type": "markdown",
      "metadata": {},
      "source": [
        "## 概览"
      ]
    },
    {
      "cell_type": "markdown",
      "metadata": {},
      "source": [
        "### 集成详情"
      ]
    },
    {
      "cell_type": "markdown",
      "metadata": {},
      "source": [
        "| 类 | 包 | 可序列化 | JS 支持 | 最新包 |\n|:--|:--|:-:|:-:|:-:|\n|[BrightDataUnlocker](https://pypi.org/project/langchain-brightdata/)|[langchain-brightdata](https://pypi.org/project/langchain-brightdata/)|✅|❌|![PyPI - Version](https://img.shields.io/pypi/v/langchain-brightdata?style=flat-square&label=%20)|"
      ]
    },
    {
      "cell_type": "markdown",
      "metadata": {},
      "source": [
        "### 工具功能"
      ]
    },
    {
      "cell_type": "markdown",
      "metadata": {},
      "source": [
        "|原生异步|返回制品|返回数据|定价|\n|:-:|:-:|:--|:-:|\n|❌|❌|HTML, Markdown, 或网页截图|需要 Bright Data 账户|"
      ]
    },
    {
      "cell_type": "markdown",
      "metadata": {},
      "source": [
        "## 设置"
      ]
    },
    {
      "cell_type": "markdown",
      "metadata": {},
      "source": [
        "集成位于 `langchain-brightdata` 包中。"
      ]
    },
    {
      "cell_type": "code",
      "execution_count": null,
      "metadata": {
        "vscode": {
          "languageId": "plaintext"
        }
      },
      "outputs": [],
      "source": [
        "pip install langchain-brightdata"
      ]
    },
    {
      "cell_type": "markdown",
      "metadata": {},
      "source": [
        "您需要一个 Bright Data API 密钥才能使用此工具。您可以将其设置为环境变量："
      ]
    },
    {
      "cell_type": "code",
      "execution_count": null,
      "metadata": {
        "vscode": {
          "languageId": "plaintext"
        }
      },
      "outputs": [],
      "source": [
        "import os\n",
        "\n",
        "os.environ[\"BRIGHT_DATA_API_KEY\"] = \"your-api-key\""
      ]
    },
    {
      "cell_type": "markdown",
      "metadata": {},
      "source": [
        "或者在初始化工具时直接传递："
      ]
    },
    {
      "cell_type": "code",
      "execution_count": null,
      "metadata": {
        "vscode": {
          "languageId": "plaintext"
        }
      },
      "outputs": [],
      "source": [
        "from langchain_brightdata import BrightDataUnlocker\n",
        "\n",
        "unlocker_tool = BrightDataUnlocker(bright_data_api_key=\"your-api-key\")"
      ]
    },
    {
      "cell_type": "markdown",
      "metadata": {},
      "source": [
        "## 实例化\n\n在此我们展示如何实例化 BrightDataUnlocker 工具。此工具允许您访问那些可能受到反机器人措施、地理限制或其他访问限制保护的网站，它使用了 Bright Data 的 Web Unlocker 服务。\n\n该工具在实例化时接受多种参数：\n\n- `bright_data_api_key` (必需, str): 您用于身份验证的 Bright Data API 密钥。\n- `format` (可选, Literal[\"raw\"]): 响应内容的格式。默认为 \"raw\"。\n- `country` (可选, str): 用于地理位置特定访问的两位字母国家代码（例如 \"us\", \"gb\", \"de\", \"jp\"）。当您需要像从特定国家/地区访问一样查看网站时，请设置此项。默认为 None。\n- `zone` (可选, str): 请求使用的 Bright Data 区域。 \"unlocker\" 区域针对访问可能阻止常规请求的网站进行了优化。默认为 \"unlocker\"。\n- `data_format` (可选, Literal[\"html\", \"markdown\", \"screenshot\"]): 检索内容的输出格式。选项包括：\n    - \"html\" - 返回标准的 HTML 内容（默认）\n    - \"markdown\" - 返回转换为 markdown 格式的内容\n    - \"screenshot\" - 返回渲染页面的 PNG 截图"
      ]
    },
    {
      "cell_type": "markdown",
      "metadata": {},
      "source": [
        "## 调用"
      ]
    },
    {
      "cell_type": "markdown",
      "metadata": {},
      "source": [
        "### 基本用法"
      ]
    },
    {
      "cell_type": "code",
      "execution_count": null,
      "metadata": {
        "vscode": {
          "languageId": "plaintext"
        }
      },
      "outputs": [],
      "source": [
        "from langchain_brightdata import BrightDataUnlocker\n",
        "\n",
        "# Initialize the tool\n",
        "unlocker_tool = BrightDataUnlocker(\n",
        "    bright_data_api_key=\"your-api-key\"  # Optional if set in environment variables\n",
        ")\n",
        "\n",
        "# Access a webpage\n",
        "result = unlocker_tool.invoke(\"https://example.com\")\n",
        "\n",
        "print(result)"
      ]
    },
    {
      "cell_type": "markdown",
      "metadata": {},
      "source": [
        "### 高级用法与参数"
      ]
    },
    {
      "cell_type": "code",
      "execution_count": null,
      "metadata": {
        "vscode": {
          "languageId": "plaintext"
        }
      },
      "outputs": [],
      "source": [
        "from langchain_brightdata import BrightDataUnlocker\n",
        "\n",
        "unlocker_tool = BrightDataUnlocker(\n",
        "    bright_data_api_key=\"your-api-key\",\n",
        ")\n",
        "\n",
        "# Access a webpage with specific parameters\n",
        "result = unlocker_tool.invoke(\n",
        "    {\n",
        "        \"url\": \"https://example.com/region-restricted-content\",\n",
        "        \"country\": \"gb\",  # Access as if from Great Britain\n",
        "        \"data_format\": \"html\",  # Get content in markdown format\n",
        "        \"zone\": \"unlocker\",  # Use the unlocker zone\n",
        "    }\n",
        ")\n",
        "\n",
        "print(result)"
      ]
    },
    {
      "cell_type": "markdown",
      "metadata": {},
      "source": [
        "## 定制选项"
      ]
    },
    {
      "cell_type": "markdown",
      "metadata": {},
      "source": [
        "BrightDataUnlocker 工具接受多个参数以进行自定义：\n\n| 参数 | 类型 | 描述 |\n| :-- | :-- | :-- |\n| `url` | str | 要访问的 URL |\n| `format` | str | 响应内容的格式（默认值：“raw”） |\n| `country` | str | 用于地理区域特定访问的两位字母国家代码（例如，“us”、“gb”） |\n| `zone` | str | 要使用的 Bright Data 区域（默认值：“unlocker”） |\n| `data_format` | str | 输出格式：None（HTML）、“markdown”或“screenshot” |"
      ]
    },
    {
      "cell_type": "markdown",
      "metadata": {},
      "source": [
        "## 数据格式选项\n\n`data_format` 参数允许您指定内容的返回方式：\n\n- `None` 或 `\"html\"`（默认）：返回页面的标准 HTML 内容。\n- `\"markdown\"`：将内容转换为 markdown 格式返回，这对于直接输入到 LLM 非常有用。\n- `\"screenshot\"`：返回渲染后页面的 PNG 屏幕截图，对于可视化分析非常有用。"
      ]
    },
    {
      "cell_type": "markdown",
      "metadata": {},
      "source": [
        "## 在 Agent 中使用\n\nHere's how to use"
      ]
    },
    {
      "cell_type": "code",
      "execution_count": null,
      "metadata": {
        "vscode": {
          "languageId": "plaintext"
        }
      },
      "outputs": [],
      "source": [
        "from langchain_brightdata import BrightDataUnlocker\n",
        "from langchain_google_genai import ChatGoogleGenerativeAI\n",
        "from langgraph.prebuilt import create_react_agent\n",
        "\n",
        "# Initialize the LLM\n",
        "llm = ChatGoogleGenerativeAI(model=\"gemini-2.0-flash\", google_api_key=\"your-api-key\")\n",
        "\n",
        "# Initialize the tool\n",
        "bright_data_tool = BrightDataUnlocker(bright_data_api_key=\"your-api-key\")\n",
        "\n",
        "# Create the agent\n",
        "agent = create_react_agent(llm, [bright_data_tool])\n",
        "\n",
        "# Input URLs or prompt\n",
        "user_input = \"Get the content from https://example.com/region-restricted-page - access it from GB\"\n",
        "\n",
        "# Stream the agent's output step by step\n",
        "for step in agent.stream(\n",
        "    {\"messages\": user_input},\n",
        "    stream_mode=\"values\",\n",
        "):\n",
        "    step[\"messages\"][-1].pretty_print()"
      ]
    },
    {
      "cell_type": "markdown",
      "metadata": {},
      "source": [
        "## API 参考\n\n- [Bright Data API 文档](https://docs.brightdata.com/scraping-automation/web-unlocker/introduction)"
      ]
    }
  ],
  "metadata": {
    "language_info": {
      "name": "python"
    }
  },
  "nbformat": 4,
  "nbformat_minor": 2
}