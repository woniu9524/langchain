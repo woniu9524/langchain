{
  "cells": [
    {
      "cell_type": "raw",
      "id": "afaf8039",
      "metadata": {},
      "source": [
        "---\n",
        "sidebar_label: Memgraph\n",
        "---"
      ]
    },
    {
      "cell_type": "markdown",
      "id": "e49f1e0d",
      "metadata": {},
      "source": [
        "# MemgraphToolkit\n\n这将帮助您开始使用 Memgraph [toolkit](/docs/concepts/tools/#toolkits)。\n\n`MemgraphToolkit` 中的工具旨在与 `Memgraph` 数据库进行交互。\n\n## 设置\n\n为了能够遵循以下步骤，请确保您在本地主机上有一个正在运行的 Memgraph 实例。有关如何运行 Memgraph 的更多详细信息，请参阅 [Memgraph 文档](https://memgraph.com/docs/getting-started)"
      ]
    },
    {
      "cell_type": "markdown",
      "id": "72ee0c4b-9764-423a-9dbf-95129e185210",
      "metadata": {},
      "source": [
        "如果你想获取单个工具运行的自动化追踪，你也可以通过取消下面一行的注释来设置你的 [LangSmith](https://docs.smith.langchain.com/) API 密钥："
      ]
    },
    {
      "cell_type": "code",
      "execution_count": null,
      "id": "a15d341e-3e26-4ca3-830b-5aab30ed66de",
      "metadata": {},
      "outputs": [],
      "source": [
        "# os.environ[\"LANGSMITH_API_KEY\"] = getpass.getpass(\"Enter your LangSmith API key: \")\n",
        "# os.environ[\"LANGSMITH_TRACING\"] = \"true\""
      ]
    },
    {
      "cell_type": "markdown",
      "id": "0730d6a1-c893-4840-9817-5e5251676d5d",
      "metadata": {},
      "source": [
        "### 安装\n\n该工具包位于 `langchain-memgraph` 包中："
      ]
    },
    {
      "cell_type": "code",
      "execution_count": null,
      "id": "652d6238-1f87-422a-b135-f5abbb8652fc",
      "metadata": {},
      "outputs": [],
      "source": [
        "%pip install -qU langchain-memgraph "
      ]
    },
    {
      "cell_type": "markdown",
      "id": "a38cde65-254d-4219-a441-068766c0d4b5",
      "metadata": {},
      "source": [
        "## 实例化\n\n现在我们可以实例化我们的工具包了："
      ]
    },
    {
      "cell_type": "code",
      "execution_count": null,
      "id": "cb09c344-1836-4e0c-acf8-11d13ac1dbae",
      "metadata": {},
      "outputs": [],
      "source": [
        "from langchain.chat_models import init_chat_model\n",
        "from langchain_memgraph import MemgraphToolkit\n",
        "from langchain_memgraph.graphs.memgraph import MemgraphLangChain\n",
        "\n",
        "db = MemgraphLangChain(url=url, username=username, password=password)\n",
        "\n",
        "llm = init_chat_model(\"gpt-4o-mini\", model_provider=\"openai\")\n",
        "\n",
        "toolkit = MemgraphToolkit(\n",
        "    db=db,  # Memgraph instance\n",
        "    llm=llm,  # LLM chat model for LLM operations\n",
        ")"
      ]
    },
    {
      "cell_type": "markdown",
      "id": "5c5f2839-4020-424e-9fc9-07777eede442",
      "metadata": {},
      "source": [
        "## 工具\n\n查看可用工具："
      ]
    },
    {
      "cell_type": "code",
      "execution_count": null,
      "id": "51a60dbe-9f2e-4e04-bb62-23968f17164a",
      "metadata": {},
      "outputs": [],
      "source": [
        "toolkit.get_tools()"
      ]
    },
    {
      "cell_type": "markdown",
      "id": "608af19d",
      "metadata": {},
      "source": [
        "## 调用\n\n可以通过传递参数来单独调用工具，对于 QueryMemgraphTool，它将是："
      ]
    },
    {
      "cell_type": "code",
      "execution_count": null,
      "id": "ffa944db",
      "metadata": {},
      "outputs": [],
      "source": [
        "from langchain_memgraph.tools import QueryMemgraphTool\n",
        "\n",
        "# Rest of the code omitted for brevity\n",
        "\n",
        "tool.invoke({QueryMemgraphTool({\"query\": \"MATCH (n) RETURN n LIMIT 5\"})})"
      ]
    },
    {
      "cell_type": "markdown",
      "id": "dfe8aad4-8626-4330-98a9-7ea1ca5d2e0e",
      "metadata": {},
      "source": [
        "## 在代理中使用\n\nThis example shows how to use this"
      ]
    },
    {
      "cell_type": "code",
      "execution_count": null,
      "id": "310bf18e-6c9a-4072-b86e-47bc1fcca29d",
      "metadata": {},
      "outputs": [],
      "source": [
        "from langgraph.prebuilt import create_react_agent\n",
        "\n",
        "agent_executor = create_react_agent(llm, tools)"
      ]
    },
    {
      "cell_type": "code",
      "execution_count": null,
      "id": "23e11cc9-abd6-4855-a7eb-799f45ca01ae",
      "metadata": {},
      "outputs": [],
      "source": [
        "example_query = \"MATCH (n) RETURN n LIMIT 1\"\n",
        "\n",
        "events = agent_executor.stream(\n",
        "    {\"messages\": [(\"user\", example_query)]},\n",
        "    stream_mode=\"values\",\n",
        ")\n",
        "for event in events:\n",
        "    event[\"messages\"][-1].pretty_print()"
      ]
    },
    {
      "cell_type": "markdown",
      "id": "29ca615b",
      "metadata": {},
      "source": [
        "## API 参考\n\n有关更多 API 详情，请访问 [Memgraph 集成文档](https://memgraph.com/docs/ai-ecosystem/integrations#langchain)"
      ]
    }
  ],
  "metadata": {
    "kernelspec": {
      "display_name": "Python 3 (ipykernel)",
      "language": "python",
      "name": "python3"
    },
    "language_info": {
      "codemirror_mode": {
        "name": "ipython",
        "version": 3
      },
      "file_extension": ".py",
      "mimetype": "text/x-python",
      "name": "python",
      "nbconvert_exporter": "python",
      "pygments_lexer": "ipython3",
      "version": "3.10.4"
    }
  },
  "nbformat": 4,
  "nbformat_minor": 5
}