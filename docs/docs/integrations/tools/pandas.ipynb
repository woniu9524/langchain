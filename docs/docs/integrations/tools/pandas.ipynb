{
  "cells": [
    {
      "cell_type": "markdown",
      "id": "c81da886",
      "metadata": {},
      "source": [
        "# Pandas Dataframe\n\n本 Notebook 展示了如何使用 Agent 与 `Pandas DataFrame` 进行交互。它主要针对问答进行了优化。\n\n**注意：此 Agent 在底层调用 `Python` Agent，该 Agent 会执行 LLM 生成的 Python 代码——如果 LLM 生成的 Python 代码有害，可能会带来风险。请谨慎使用。**\n\n**注意：由于 langchain 已迁移到 v0.3，您应该升级 langchain_openai 和 langchain。这将避免导入错误。**\n\npip install --upgrade langchain_openai\npip install --upgrade langchain"
      ]
    },
    {
      "cell_type": "code",
      "execution_count": 1,
      "id": "0cdd9bf5",
      "metadata": {},
      "outputs": [],
      "source": [
        "from langchain.agents.agent_types import AgentType\n",
        "from langchain_experimental.agents.agent_toolkits import create_pandas_dataframe_agent\n",
        "from langchain_openai import ChatOpenAI"
      ]
    },
    {
      "cell_type": "code",
      "execution_count": 2,
      "id": "051ebe84",
      "metadata": {},
      "outputs": [],
      "source": [
        "import pandas as pd\n",
        "from langchain_openai import OpenAI\n",
        "\n",
        "df = pd.read_csv(\n",
        "    \"https://raw.githubusercontent.com/pandas-dev/pandas/main/doc/data/titanic.csv\"\n",
        ")"
      ]
    },
    {
      "cell_type": "markdown",
      "id": "a62858e2",
      "metadata": {},
      "source": [
        "## 使用 `ZERO_SHOT_REACT_DESCRIPTION`\n\n这展示了如何使用 `ZERO_SHOT_REACT_DESCRIPTION` 代理类型来初始化代理。"
      ]
    },
    {
      "cell_type": "code",
      "execution_count": 3,
      "id": "4185ff46",
      "metadata": {},
      "outputs": [],
      "source": [
        "agent = create_pandas_dataframe_agent(OpenAI(temperature=0), df, verbose=True)"
      ]
    },
    {
      "cell_type": "markdown",
      "id": "7233ab56",
      "metadata": {},
      "source": [
        "## 使用 OpenAI Functions\n\n这展示了如何使用 OPENAI_FUNCTIONS 代理类型来初始化代理。请注意，这是上述方法的替代方案。"
      ]
    },
    {
      "cell_type": "code",
      "execution_count": 4,
      "id": "a8ea710e",
      "metadata": {},
      "outputs": [],
      "source": [
        "agent = create_pandas_dataframe_agent(\n",
        "    ChatOpenAI(temperature=0, model=\"gpt-3.5-turbo-0613\"),\n",
        "    df,\n",
        "    verbose=True,\n",
        "    agent_type=AgentType.OPENAI_FUNCTIONS,\n",
        ")"
      ]
    },
    {
      "cell_type": "code",
      "execution_count": 5,
      "id": "a9207a2e",
      "metadata": {},
      "outputs": [
        {
          "name": "stdout",
          "output_type": "stream",
          "text": [
            "\n",
            "\n",
            "\u001b[1m> Entering new  chain...\u001b[0m\n",
            "\u001b[32;1m\u001b[1;3m\n",
            "Invoking: `python_repl_ast` with `df.shape[0]`\n",
            "\n",
            "\n",
            "\u001b[0m\u001b[36;1m\u001b[1;3m891\u001b[0m\u001b[32;1m\u001b[1;3mThere are 891 rows in the dataframe.\u001b[0m\n",
            "\n",
            "\u001b[1m> Finished chain.\u001b[0m\n"
          ]
        },
        {
          "data": {
            "text/plain": [
              "'There are 891 rows in the dataframe.'"
            ]
          },
          "execution_count": 5,
          "metadata": {},
          "output_type": "execute_result"
        }
      ],
      "source": [
        "agent.invoke(\"how many rows are there?\")"
      ]
    },
    {
      "cell_type": "code",
      "execution_count": 5,
      "id": "bd43617c",
      "metadata": {},
      "outputs": [
        {
          "name": "stdout",
          "output_type": "stream",
          "text": [
            "\n",
            "\n",
            "\u001b[1m> Entering new AgentExecutor chain...\u001b[0m\n",
            "\u001b[32;1m\u001b[1;3mThought: I need to count the number of people with more than 3 siblings\n",
            "Action: python_repl_ast\n",
            "Action Input: df[df['SibSp'] > 3].shape[0]\u001b[0m\n",
            "Observation: \u001b[36;1m\u001b[1;3m30\u001b[0m\n",
            "Thought:\u001b[32;1m\u001b[1;3m I now know the final answer\n",
            "Final Answer: 30 people have more than 3 siblings.\u001b[0m\n",
            "\n",
            "\u001b[1m> Finished chain.\u001b[0m\n"
          ]
        },
        {
          "data": {
            "text/plain": [
              "'30 people have more than 3 siblings.'"
            ]
          },
          "execution_count": 5,
          "metadata": {},
          "output_type": "execute_result"
        }
      ],
      "source": [
        "agent.invoke(\"how many people have more than 3 siblings\")"
      ]
    },
    {
      "cell_type": "code",
      "execution_count": 6,
      "id": "94e64b58",
      "metadata": {},
      "outputs": [
        {
          "name": "stdout",
          "output_type": "stream",
          "text": [
            "\n",
            "\n",
            "\u001b[1m> Entering new AgentExecutor chain...\u001b[0m\n",
            "\u001b[32;1m\u001b[1;3mThought: I need to calculate the average age first\n",
            "Action: python_repl_ast\n",
            "Action Input: df['Age'].mean()\u001b[0m\n",
            "Observation: \u001b[36;1m\u001b[1;3m29.69911764705882\u001b[0m\n",
            "Thought:\u001b[32;1m\u001b[1;3m I now need to calculate the square root of the average age\n",
            "Action: python_repl_ast\n",
            "Action Input: math.sqrt(df['Age'].mean())\u001b[0m\n",
            "Observation: \u001b[36;1m\u001b[1;3mNameError(\"name 'math' is not defined\")\u001b[0m\n",
            "Thought:\u001b[32;1m\u001b[1;3m I need to import the math library\n",
            "Action: python_repl_ast\n",
            "Action Input: import math\u001b[0m\n",
            "Observation: \u001b[36;1m\u001b[1;3m\u001b[0m\n",
            "Thought:\u001b[32;1m\u001b[1;3m I now need to calculate the square root of the average age\n",
            "Action: python_repl_ast\n",
            "Action Input: math.sqrt(df['Age'].mean())\u001b[0m\n",
            "Observation: \u001b[36;1m\u001b[1;3m5.449689683556195\u001b[0m\n",
            "Thought:\u001b[32;1m\u001b[1;3m I now know the final answer\n",
            "Final Answer: The square root of the average age is 5.449689683556195.\u001b[0m\n",
            "\n",
            "\u001b[1m> Finished chain.\u001b[0m\n"
          ]
        },
        {
          "data": {
            "text/plain": [
              "'The square root of the average age is 5.449689683556195.'"
            ]
          },
          "execution_count": 6,
          "metadata": {},
          "output_type": "execute_result"
        }
      ],
      "source": [
        "agent.invoke(\"whats the square root of the average age?\")"
      ]
    },
    {
      "cell_type": "markdown",
      "id": "c4bc0584",
      "metadata": {},
      "source": [
        "## 多 DataFrame 示例\n\n接下来这部分展示了代理如何与作为列表传入的多个 DataFrame 进行交互。"
      ]
    },
    {
      "cell_type": "code",
      "execution_count": 7,
      "id": "42a15bd9",
      "metadata": {},
      "outputs": [],
      "source": [
        "df1 = df.copy()\n",
        "df1[\"Age\"] = df1[\"Age\"].fillna(df1[\"Age\"].mean())"
      ]
    },
    {
      "cell_type": "code",
      "execution_count": 8,
      "id": "eba13b4d",
      "metadata": {},
      "outputs": [
        {
          "name": "stdout",
          "output_type": "stream",
          "text": [
            "\n",
            "\n",
            "\u001b[1m> Entering new AgentExecutor chain...\u001b[0m\n",
            "\u001b[32;1m\u001b[1;3mThought: I need to compare the age columns in both dataframes\n",
            "Action: python_repl_ast\n",
            "Action Input: len(df1[df1['Age'] != df2['Age']])\u001b[0m\n",
            "Observation: \u001b[36;1m\u001b[1;3m177\u001b[0m\n",
            "Thought:\u001b[32;1m\u001b[1;3m I now know the final answer\n",
            "Final Answer: 177 rows in the age column are different.\u001b[0m\n",
            "\n",
            "\u001b[1m> Finished chain.\u001b[0m\n"
          ]
        },
        {
          "data": {
            "text/plain": [
              "'177 rows in the age column are different.'"
            ]
          },
          "execution_count": 8,
          "metadata": {},
          "output_type": "execute_result"
        }
      ],
      "source": [
        "agent = create_pandas_dataframe_agent(OpenAI(temperature=0), [df, df1], verbose=True)\n",
        "agent.invoke(\"how many rows in the age column are different?\")"
      ]
    },
    {
      "cell_type": "code",
      "execution_count": null,
      "id": "60d08a56",
      "metadata": {},
      "outputs": [],
      "source": []
    }
  ],
  "metadata": {
    "kernelspec": {
      "display_name": "Python 3 (ipykernel)",
      "language": "python",
      "name": "python3"
    },
    "language_info": {
      "codemirror_mode": {
        "name": "ipython",
        "version": 3
      },
      "file_extension": ".py",
      "mimetype": "text/x-python",
      "name": "python",
      "nbconvert_exporter": "python",
      "pygments_lexer": "ipython3",
      "version": "3.11.7"
    }
  },
  "nbformat": 4,
  "nbformat_minor": 5
}