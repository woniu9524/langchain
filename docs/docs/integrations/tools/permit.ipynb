{
  "cells": [
    {
      "cell_type": "raw",
      "id": "10238e62-3465-4973-9279-606cbb7ccf16",
      "metadata": {},
      "source": [
        "---\n",
        "sidebar_label: Permit\n",
        "---"
      ]
    },
    {
      "cell_type": "markdown",
      "id": "a6f91f20",
      "metadata": {},
      "source": [
        "# Permit\n\nPermit 是一个访问控制平台，使用 RBAC、ABAC 和 ReBAC 等各种模型提供细粒度的实时权限管理。它使组织能够在应用程序中强制执行动态策略，确保只有授权用户才能访问特定资源。\n\n## 概述\n\n此包提供了两个用于使用 Permit 进行 JWT 验证和权限检查的 Langchain 工具：\n\n* LangchainJWTValidationTool：根据 JWKS 端点验证 JWT 令牌\n\n* LangchainPermissionsCheckTool：使用 Permit 检查用户权限\n\n\n## 设置\n\n设置以下环境变量：\n\n```bash\nPERMIT_API_KEY=your_permit_api_key\nJWKS_URL=your_jwks_endpoint_url\nPERMIT_PDP_URL=your_permit_pdp_url  # 本地开发通常是 http://localhost:7766 或您的实际部署地址\n```\n\n确保您的 PDP（策略决策点）正在 PERMIT_PDP_URL 上运行。\n有关策略设置以及如何启动 PDP 容器的详细信息，请参阅 [Permit 文档](https://docs.permit.io/concepts/pdp/overview/)。"
      ]
    },
    {
      "cell_type": "markdown",
      "id": "b15e9266",
      "metadata": {},
      "source": [
        "### 凭证\n\n```bash\nPERMIT_API_KEY=\nJWKS_URL=your_jwks_endpoint_url # 或你的部署 URL\nPERMIT_PDP_URL=your_pdp_url # 或你的部署 URL\nTEST_JWT_TOKEN= # 用于快速测试\n```"
      ]
    },
    {
      "cell_type": "markdown",
      "id": "bc5ab717-fd27-4c59-b912-bdd099541478",
      "metadata": {},
      "source": [
        "在最先进的观察能力方面，设置 [LangSmith](https://smith.langchain.com/) 也是有帮助的（但非必需的）："
      ]
    },
    {
      "cell_type": "markdown",
      "id": "1c97218f-f366-479d-8bf7-fe9f2f6df73f",
      "metadata": {},
      "source": [
        "## 实例化\n\n### JWT 验证工具\nJWT 验证工具使用 JWKS (JSON Web Key Set) 端点来验证 JWT 令牌。\n\n```python\nfrom langchain_permit.tools import LangchainJWTValidationTool\n\n# 初始化工具\njwt_validator = LangchainJWTValidationTool(\n    jwks_url=#your url endpoint\n)\n```\n\n### 配置选项\n您可以使用以下任一方式初始化工具：\n\n* JWKS URL\n* 直接 JWKS JSON 数据\n* 环境变量 (JWKS_URL)\n\n```python\n# 使用直接 JWKS JSON\njwt_validator = LangchainJWTValidationTool(\n    jwks_json={\n        \"keys\": [\n            {\n                \"kid\": \"key-id\",\n                \"kty\": \"RSA\",\n                ...\n            }\n        ]\n    }\n)\n```\n\n### 权限检查工具\n权限检查工具集成了 Permit.io，用于验证用户对资源的权限。\n\n```python\nfrom permit import Permit\nfrom langchain_permit.tools import LangchainPermissionsCheckTool\n\n# 初始化 Permit 客户端\npermit_client = Permit(\n    token=\"your_permit_api_key\",\n    pdp=# Your PDP URL\n)\n\n# 初始化工具\npermissions_checker = LangchainPermissionsCheckTool(\n    permit=permit_client\n)\n```\n\n本文档展示了这两个工具的关键功能和使用模式。"
      ]
    },
    {
      "cell_type": "markdown",
      "id": "74147a1a",
      "metadata": {},
      "source": [
        "## 调用\n\n### [直接使用参数调用](https://docs.permit.io/)\n\n### JWT 验证工具\n\n```python\n# 验证一个 token\nasync def validate_token():\n    claims = await jwt_validator._arun(\n        \"...\"  # 你的 JWT token\n    )\n    print(\"已验证 Claims:\", claims)\n```\n\n### 权限检查工具\n\n```python\n# 检查权限\nasync def check_user_permission():\n    result = await permissions_checker._arun(\n        user={\n            \"key\": \"user-123\",\n            \"firstName\": \"John\"\n        },\n        action=\"read\",\n        resource={\n            \"type\": \"Document\",\n            \"tenant\": \"default\"\n        }\n    )\n    print(\"权限已授予:\", result)\n```\n\n#### 输入格式\n权限检查器接受不同的输入格式：\n\n1. 用户简单字符串（将转换为用户 key）：\n\n```python\nresult = await permissions_checker._arun(\n    user=\"user-123\",\n    action=\"read\",\n    resource=\"Document\"\n)\n```\n\n2. 用户完整对象：\n\n```python\nresult = await permissions_checker._arun(\n    user={\n        \"key\": \"user-123\",\n        \"firstName\": \"John\",\n        \"lastName\": \"Doe\",\n        \"email\": \"john@example.com\",\n        \"attributes\": {\"department\": \"IT\"}\n    },\n    action=\"read\",\n    resource={\n        \"type\": \"Document\",\n        \"key\": \"doc-123\",\n        \"tenant\": \"techcorp\",\n        \"attributes\": {\"confidentiality\": \"high\"}\n    }\n)\n```"
      ]
    },
    {
      "cell_type": "markdown",
      "id": "d6e73897",
      "metadata": {},
      "source": [
        "### [Invoke with ToolCall](https://docs.permit.io/)\n\n(待办)"
      ]
    },
    {
      "cell_type": "markdown",
      "id": "659f9fbd-6fcf-445f-aa8c-72d8e60154bd",
      "metadata": {},
      "source": [
        "## 链式调用\n\n- TODO: 添加用户问题和运行单元格\n\n我们可以通过先将工具绑定到[工具调用模型](https://docs.permit.io/)，然后调用它来使用链式调用中的工具：\n\nimport ChatModelTabs from \"@theme/ChatModelTabs\";\n\n<ChatModelTabs customVarName=\"llm\" />"
      ]
    },
    {
      "cell_type": "markdown",
      "id": "c1306ac4",
      "metadata": {
        "vscode": {
          "languageId": "raw"
        }
      },
      "source": [
        "### 附加演示脚本\n\n要获取完整的可运行演示，请查看此 [仓库](https://github.com/permitio/langchain-permit) 中的 `/langchain_permit/examples/demo_scripts` 文件夹。您会找到：\n\n* demo\\_jwt\\_validation.py – 一个快速脚本，展示如何使用 LangchainJWTValidationTool 验证 JWT。\n\n* demo\\_permissions\\_check.py – 一个脚本，使用 LangchainPermissionsCheckTool 执行 Permit.io 权限检查。\n\n只需运行 `python demo_jwt_validation.py` 或 `python demo_permissions_check.py`（在设置好环境变量后），即可看到这些工具的实际应用。"
      ]
    },
    {
      "cell_type": "markdown",
      "id": "4ac8146c",
      "metadata": {},
      "source": [
        "## API 参考\n\n如需了解 Permit 所有功能和配置的详细文档，请前往 API 参考：https://docs.permit.io/"
      ]
    }
  ],
  "metadata": {
    "kernelspec": {
      "display_name": "poetry-venv-311",
      "language": "python",
      "name": "poetry-venv-311"
    },
    "language_info": {
      "codemirror_mode": {
        "name": "ipython",
        "version": 3
      },
      "file_extension": ".py",
      "mimetype": "text/x-python",
      "name": "python",
      "nbconvert_exporter": "python",
      "pygments_lexer": "ipython3",
      "version": "3.11.9"
    }
  },
  "nbformat": 4,
  "nbformat_minor": 5
}