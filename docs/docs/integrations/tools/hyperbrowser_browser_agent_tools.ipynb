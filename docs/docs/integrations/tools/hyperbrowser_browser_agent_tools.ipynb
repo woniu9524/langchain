{
  "cells": [
    {
      "cell_type": "markdown",
      "metadata": {},
      "source": [
        "---\nsidebar_label: Hyperbrowser 浏览器代理工具\n---"
      ]
    },
    {
      "cell_type": "markdown",
      "metadata": {},
      "source": [
        "# Hyperbrowser 浏览器代理工具\n\n[Hyperbrowser](https://hyperbrowser.ai) 是一个用于运行、托管浏览器代理和扩展无头浏览器的平台。它使您能够大规模启动和管理浏览器会话，并为任何网页抓取需求提供易于使用的解决方案，例如抓取单个页面或爬取整个网站。\n\n主要特点：\n- 即时可扩展性 - 在几秒钟内启动数百个浏览器会话，无需基础设施烦恼\n- 简单集成 - 可与 Puppeteer 和 Playwright 等流行工具无缝协作\n- 强大的 API - 用于抓取/爬取任何网站的易于使用的 API，以及更多功能\n- 绕过反机器人措施 - 内置隐身模式、广告拦截、自动验证码解决和代理轮换\n\n本笔记本提供了 Hyperbrowser 工具入门的快速概述。\n\n有关 Hyperbrowser 的更多信息，请访问 [Hyperbrowser 网站](https://hyperbrowser.ai)；如果您想查看文档，可以访问 [Hyperbrowser 文档](https://docs.hyperbrowser.ai)。\n\n\n## 浏览器代理\n\nHyperbrowser 提供强大的浏览器代理工具，使 AI 模型能够以编程方式与 Web 浏览器进行交互。这些浏览器代理可以导航网站、填充表单、单击按钮、提取数据以及执行复杂的 Web 自动化任务。\n\n浏览器代理特别适用于：\n- 从复杂的网站进行网页抓取和数据提取\n- 自动化重复性的 Web 任务\n- 与需要身份验证的 Web 应用程序进行交互\n- 跨多个网站执行研究\n- 测试 Web 应用程序\n\nHyperbrowser 提供三种类型的浏览器代理工具：\n- **Browser Use Tool**：一个通用浏览器自动化工具\n- **OpenAI CUA Tool**：与 OpenAI 的 Computer Use Agent 集成\n- **Claude Computer Use Tool**：与 Anthropic 的 Claude 计算机使用集成\n\n\n## 概述\n\n### 集成详情\n\n| 工具                      | 包裹                | 本地 | 可序列化 | JS 支持 |\n| :-----------------------  | :------------------ | :--: | :------: | :-----: |\n| Browser Use Tool          | langchain-hyperbrowser |  ❌  |    ❌    |   ❌    |\n| OpenAI CUA Tool           | langchain-hyperbrowser |  ❌  |    ❌    |   ❌    |\n| Claude Computer Use Tool  | langchain-hyperbrowser |  ❌  |    ❌    |   ❌    |"
      ]
    },
    {
      "cell_type": "markdown",
      "metadata": {},
      "source": [
        "## 设置\n\n要访问 Hyperbrowser 工具，您需要安装 `langchain-hyperbrowser` 集成包，并创建一个 Hyperbrowser 账户并获取 API 密钥。\n\n### 凭证\n\n前往 [Hyperbrowser](https://app.hyperbrowser.ai/) 注册并生成 API 密钥。完成此操作后，设置 HYPERBROWSER_API_KEY 环境变量：\n\n```bash\nexport HYPERBROWSER_API_KEY=<your-api-key>\n```\n\n### 安装\n\n安装 **langchain-hyperbrowser**。"
      ]
    },
    {
      "cell_type": "code",
      "execution_count": null,
      "metadata": {},
      "outputs": [],
      "source": [
        "%pip install -qU langchain-hyperbrowser"
      ]
    },
    {
      "cell_type": "markdown",
      "metadata": {},
      "source": [
        "## 实例化\n\n### 浏览器使用工具\n\n`HyperbrowserBrowserUseTool` 是一个用于执行 Web 自动化任务的工具，它使用浏览器代理，特别是 Browser-Use 代理。\n\n```python\nfrom langchain_hyperbrowser import HyperbrowserBrowserUseTool\ntool = HyperbrowserBrowserUseTool()\n```\n\n### OpenAI CUA 工具\n\n`HyperbrowserOpenAICUATool` 是一个专门的工具，它通过 Hyperbrowser 利用 OpenAI 的计算机使用代理 (CUA) 功能。\n\n```python\nfrom langchain_hyperbrowser import HyperbrowserOpenAICUATool\ntool = HyperbrowserOpenAICUATool()\n```\n\n### Claude 计算机使用工具\n\n`HyperbrowserClaudeComputerUseTool` 是一个专门的工具，它通过 Hyperbrowser 利用 Claude 的计算机使用能力。\n\n```python\nfrom langchain_hyperbrowser import HyperbrowserClaudeComputerUseTool\ntool = HyperbrowserClaudeComputerUseTool()\n```"
      ]
    },
    {
      "cell_type": "markdown",
      "metadata": {},
      "source": [
        "## 调用\n\n### 基本用法\n\n#### 浏览器使用工具"
      ]
    },
    {
      "cell_type": "code",
      "execution_count": null,
      "metadata": {},
      "outputs": [
        {
          "name": "stdout",
          "output_type": "stream",
          "text": [
            "{'data': 'The top 5 posts on Hacker News right now are:\\n1. Stop Syncing Everything - https://sqlsync.dev/posts/stop-syncing-everything/\\n2. Move fast, break things: A review of Abundance by Ezra Klein and Derek Thompson - https://networked.substack.com/p/move-fast-and-break-things\\n3. DEDA – Tracking Dots Extraction, Decoding and Anonymisation Toolkit - https://github.com/dfd-tud/deda\\n4. Electron band structure in germanium, my ass (2001) - https://pages.cs.wisc.edu/~kovar/hall.html\\n5. Show HN: I vibecoded a 35k LoC recipe app - https://www.recipeninja.ai', 'error': None}\n"
          ]
        }
      ],
      "source": [
        "from langchain_hyperbrowser import HyperbrowserBrowserUseTool\n",
        "\n",
        "tool = HyperbrowserBrowserUseTool()\n",
        "result = tool.run({\"task\": \"Go to Hacker News and summarize the top 5 posts right now\"})\n",
        "print(result)"
      ]
    },
    {
      "cell_type": "markdown",
      "metadata": {},
      "source": [
        "#### OpenAI CUA 工具"
      ]
    },
    {
      "cell_type": "code",
      "execution_count": null,
      "metadata": {},
      "outputs": [
        {
          "name": "stdout",
          "output_type": "stream",
          "text": [
            "{'data': 'Here are the titles of the top 5 posts on Hacker News right now:\\n\\n1. \"DEDA – Tracking Dots Extraction, Decoding and Anonymisation Toolkit\"\\n2. \"A man powers home for eight years using a thousand old laptop batteries\"\\n3. \"Electron band structure in Germanium, my ass\"\\n4. \"Bletchley code breaker Betty Webb dies aged 101\"\\n5. \"Show HN: Zig Topological Sort Library for Parallel Processing\"', 'error': None}\n"
          ]
        }
      ],
      "source": [
        "from langchain_hyperbrowser import HyperbrowserOpenAICUATool\n",
        "\n",
        "tool = HyperbrowserOpenAICUATool()\n",
        "result = tool.run(\n",
        "    {\"task\": \"Go to Hacker News and get me the title of the top 5 posts right now\"}\n",
        ")\n",
        "print(result)"
      ]
    },
    {
      "cell_type": "markdown",
      "metadata": {},
      "source": [
        "#### Claude 电脑使用工具"
      ]
    },
    {
      "cell_type": "code",
      "execution_count": null,
      "metadata": {},
      "outputs": [
        {
          "name": "stdout",
          "output_type": "stream",
          "text": [
            "{'data': \"Now I'll summarize the top 5 posts on Hacker News as of April 1, 2025:\\n\\n### Top 5 Hacker News Posts Summary\\n\\n1. **A man powers home for eight years using a thousand old laptop batteries** (techoreon.com)\\n   - 267 points, posted 5 hours ago\\n   - An innovative DIY project where someone managed to power their home using recycled laptop batteries for an extended period.\\n\\n2. **Electron band structure in germanium, my ass** (wisc.edu)\\n   - 611 points, posted 8 hours ago\\n   - Academic or technical discussion about electron band structure in germanium, possibly with a controversial or humorous take given the title.\\n\\n3. **Bletchley code breaker Betty Webb dies aged 101** (bbc.com)\\n   - 575 points, posted 8 hours ago\\n   - Obituary for Betty Webb, who worked as a code breaker at Bletchley Park during WWII, passing away at the age of 101.\\n\\n4. **Show HN: Zig Topological Sort Library for Parallel Processing** (github.com/williamw520)\\n   - 55 points, posted 3 hours ago\\n   - A developer sharing a library written in Zig programming language for topological sorting that supports parallel processing.\\n\\n5. **The Myst Graph: A New Perspective on Myst** (githr.com)\\n   - 107 points, posted 5 hours ago\\n   - An article presenting a new analysis or visualization of the classic video game Myst, likely using graph theory.\\n\\nThese are the top 5 posts currently trending on Hacker News as of April 1, 2025.\", 'error': None}\n"
          ]
        }
      ],
      "source": [
        "from langchain_hyperbrowser import HyperbrowserClaudeComputerUseTool\n",
        "\n",
        "tool = HyperbrowserClaudeComputerUseTool()\n",
        "result = tool.run({\"task\": \"Go to Hacker News and summarize the top 5 posts right now\"})\n",
        "print(result)"
      ]
    },
    {
      "cell_type": "markdown",
      "metadata": {},
      "source": [
        "### 使用自定义的会话选项\n\n所有工具都支持自定义的会话选项："
      ]
    },
    {
      "cell_type": "code",
      "execution_count": null,
      "metadata": {},
      "outputs": [
        {
          "name": "stdout",
          "output_type": "stream",
          "text": [
            "{'data': 'I have found that the react package was last published 11 hours ago. This is the most recently updated package I could find.', 'error': None}\n"
          ]
        }
      ],
      "source": [
        "result = tool.run(\n",
        "    {\n",
        "        \"task\": \"Go to npmjs.com, and tell me when react package was last updated.\",\n",
        "        \"session_options\": {\n",
        "            \"session_options\": {\"use_proxy\": True, \"accept_cookies\": True}\n",
        "        },\n",
        "    }\n",
        ")\n",
        "print(result)"
      ]
    },
    {
      "cell_type": "markdown",
      "metadata": {},
      "source": [
        "### 异步使用\n\n所有工具都支持异步使用："
      ]
    },
    {
      "cell_type": "code",
      "execution_count": null,
      "metadata": {},
      "outputs": [
        {
          "name": "stdout",
          "output_type": "stream",
          "text": [
            "{'data': 'The page displays information about the \"Example Domain,\" stating that it is used for illustrative purposes and can be utilized without permission. There\\'s a link to \"More information...\" but no specific contact details are provided.', 'error': None}\n"
          ]
        }
      ],
      "source": [
        "async def browse_website():\n",
        "    tool = HyperbrowserBrowserUseTool()\n",
        "    result = await tool.arun(\n",
        "        {\n",
        "            \"task\": \"Go to npmjs.com, click the first visible package, and tell me when it was updated\"\n",
        "        }\n",
        "    )\n",
        "    return result\n",
        "\n",
        "\n",
        "result = await browse_website()"
      ]
    },
    {
      "cell_type": "markdown",
      "metadata": {},
      "source": [
        "## 在代理中使用\n\n以下是如何在代理中使用任何 Hyperbrowser 工具："
      ]
    },
    {
      "cell_type": "code",
      "execution_count": 4,
      "metadata": {},
      "outputs": [
        {
          "name": "stdout",
          "output_type": "stream",
          "text": [
            "================================\u001b[1m Human Message \u001b[0m=================================\n",
            "\n",
            "Go to npmjs.com, and tell me when react package was last updated.\n",
            "==================================\u001b[1m Ai Message \u001b[0m==================================\n",
            "Tool Calls:\n",
            "  hyperbrowser_browser_use (call_pkAaDjn6kKH9yT3rHDb4hmET)\n",
            " Call ID: call_pkAaDjn6kKH9yT3rHDb4hmET\n",
            "  Args:\n",
            "    task: Go to npmjs.com and find the last updated date of the React package.\n",
            "    session_options: None\n",
            "=================================\u001b[1m Tool Message \u001b[0m=================================\n",
            "Name: hyperbrowser_browser_use\n",
            "\n",
            "{\"data\": \"The last updated date of the React package is a day ago.\", \"error\": null}\n",
            "==================================\u001b[1m Ai Message \u001b[0m==================================\n",
            "\n",
            "The React package was last updated a day ago.\n"
          ]
        }
      ],
      "source": [
        "from langchain.prompts import ChatPromptTemplate, MessagesPlaceholder\n",
        "from langchain_hyperbrowser import browser_use_tool\n",
        "from langchain_openai import ChatOpenAI\n",
        "from langgraph.prebuilt import create_react_agent\n",
        "\n",
        "llm = ChatOpenAI(temperature=0)\n",
        "\n",
        "# You can use any of the three tools here\n",
        "browser_use_tool = HyperbrowserBrowserUseTool()\n",
        "agent = create_react_agent(llm, [browser_use_tool])\n",
        "\n",
        "user_input = \"Go to npmjs.com, and tell me when react package was last updated.\"\n",
        "for step in agent.stream(\n",
        "    {\"messages\": user_input},\n",
        "    stream_mode=\"values\",\n",
        "):\n",
        "    step[\"messages\"][-1].pretty_print()"
      ]
    },
    {
      "cell_type": "markdown",
      "metadata": {},
      "source": [
        "## 配置选项\n\nClaude Computer Use、OpenAI CUA 和 Browser Use 有以下可用参数：\n\n- `task`：执行代理任务的参数\n- `max_steps`：代理完成任务所允许的最大交互步数\n- `session_options`：浏览器会话配置\n\n有关详细信息，请参阅相应的 API 参考：\n- [Browser Use API Reference](https://docs.hyperbrowser.ai/reference/api-reference/agents/browser-use)\n- [OpenAI CUA API Reference](https://docs.hyperbrowser.ai/reference/api-reference/agents/openai-cua)\n- [Claude Computer Use API Reference](https://docs.hyperbrowser.ai/reference/api-reference/agents/claude-computer-use)"
      ]
    },
    {
      "cell_type": "markdown",
      "metadata": {},
      "source": [
        "## API 参考\n\n- [GitHub](https://github.com/hyperbrowserai/langchain-hyperbrowser/)\n- [PyPi](https://pypi.org/project/langchain-hyperbrowser/)\n- [Hyperbrowser Docs](https://docs.hyperbrowser.ai/)"
      ]
    }
  ],
  "metadata": {
    "kernelspec": {
      "display_name": "langchain-hyperbrowser-AlekOQAq-py3.12",
      "language": "python",
      "name": "python3"
    },
    "language_info": {
      "codemirror_mode": {
        "name": "ipython",
        "version": 3
      },
      "file_extension": ".py",
      "mimetype": "text/x-python",
      "name": "python",
      "nbconvert_exporter": "python",
      "pygments_lexer": "ipython3",
      "version": "3.12.3"
    }
  },
  "nbformat": 4,
  "nbformat_minor": 4
}