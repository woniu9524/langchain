{
  "cells": [
    {
      "cell_type": "markdown",
      "id": "bf0c1ab2",
      "metadata": {},
      "source": [
        "# Prolog\n\n使用 Prolog 规则生成答案的 LangChain 工具。\n\n## 概述\n\nPrologTool 类允许生成使用 Prolog 规则生成答案的 langchain 工具。\n\n## 设置\n\n让我们在 family.pl 文件中使用以下 Prolog 规则：\n\nparent(john, bianca, mary).\\\nparent(john, bianca, michael).\\\nparent(peter, patricia, jennifer).\\\npartner(X, Y) :- parent(X, Y, _)."
      ]
    },
    {
      "cell_type": "code",
      "execution_count": 1,
      "id": "60f0e3d4",
      "metadata": {},
      "outputs": [],
      "source": [
        "#!pip install langchain-prolog\n",
        "\n",
        "from langchain_prolog import PrologConfig, PrologRunnable, PrologTool\n",
        "\n",
        "TEST_SCRIPT = \"family.pl\""
      ]
    },
    {
      "cell_type": "markdown",
      "id": "b50700d4",
      "metadata": {},
      "source": [
        "## 实例化\n\n首先创建 Prolog 工具："
      ]
    },
    {
      "cell_type": "code",
      "execution_count": 2,
      "id": "9b9a2015",
      "metadata": {},
      "outputs": [],
      "source": [
        "schema = PrologRunnable.create_schema(\"parent\", [\"men\", \"women\", \"child\"])\n",
        "config = PrologConfig(\n",
        "    rules_file=TEST_SCRIPT,\n",
        "    query_schema=schema,\n",
        ")\n",
        "prolog_tool = PrologTool(\n",
        "    prolog_config=config,\n",
        "    name=\"family_query\",\n",
        "    description=\"\"\"\n",
        "        Query family relationships using Prolog.\n",
        "        parent(X, Y, Z) implies only that Z is a child of X and Y.\n",
        "        Input can be a query string like 'parent(john, X, Y)' or 'john, X, Y'\"\n",
        "        You have to specify 3 parameters: men, woman, child. Do not use quotes.\n",
        "    \"\"\",\n",
        ")"
      ]
    },
    {
      "cell_type": "markdown",
      "id": "c3363f7d",
      "metadata": {},
      "source": [
        "## 调用\n\n### 使用带函数调用的 Prolog 工具和 LLM"
      ]
    },
    {
      "cell_type": "code",
      "execution_count": 3,
      "id": "68709aa2",
      "metadata": {},
      "outputs": [],
      "source": [
        "#!pip install python-dotenv\n",
        "\n",
        "from dotenv import find_dotenv, load_dotenv\n",
        "\n",
        "load_dotenv(find_dotenv(), override=True)\n",
        "\n",
        "#!pip install langchain-openai\n",
        "\n",
        "from langchain_core.messages import HumanMessage\n",
        "from langchain_openai import ChatOpenAI"
      ]
    },
    {
      "cell_type": "markdown",
      "id": "9d23b2c5",
      "metadata": {},
      "source": [
        "要使用该工具，请将其绑定到 LLM 模型："
      ]
    },
    {
      "cell_type": "code",
      "execution_count": 4,
      "id": "3ce4479d",
      "metadata": {},
      "outputs": [],
      "source": [
        "llm = ChatOpenAI(model=\"gpt-4o-mini\")\n",
        "llm_with_tools = llm.bind_tools([prolog_tool])"
      ]
    },
    {
      "cell_type": "markdown",
      "id": "74767c7c",
      "metadata": {},
      "source": [
        "然后查询模型："
      ]
    },
    {
      "cell_type": "code",
      "execution_count": 5,
      "id": "affb960e",
      "metadata": {},
      "outputs": [],
      "source": [
        "query = \"Who are John's children?\"\n",
        "messages = [HumanMessage(query)]\n",
        "response = llm_with_tools.invoke(messages)"
      ]
    },
    {
      "cell_type": "markdown",
      "id": "50154355",
      "metadata": {},
      "source": [
        "LLM 将会响应一个工具调用请求："
      ]
    },
    {
      "cell_type": "code",
      "execution_count": 6,
      "id": "5676fe7e",
      "metadata": {},
      "outputs": [
        {
          "data": {
            "text/plain": [
              "{'name': 'family_query',\n",
              " 'args': {'men': 'john', 'women': None, 'child': None},\n",
              " 'id': 'call_gH8rWamYXITrkfvRP2s5pkbF',\n",
              " 'type': 'tool_call'}"
            ]
          },
          "execution_count": 6,
          "metadata": {},
          "output_type": "execute_result"
        }
      ],
      "source": [
        "messages.append(response)\n",
        "response.tool_calls[0]"
      ]
    },
    {
      "cell_type": "markdown",
      "id": "f774d582",
      "metadata": {},
      "source": [
        "该工具会接收此请求并查询 Prolog 数据库："
      ]
    },
    {
      "cell_type": "code",
      "execution_count": 7,
      "id": "66516c4e",
      "metadata": {},
      "outputs": [],
      "source": [
        "tool_msg = prolog_tool.invoke(response.tool_calls[0])"
      ]
    },
    {
      "cell_type": "markdown",
      "id": "0fca8ec2",
      "metadata": {},
      "source": [
        "该工具会返回一个列表，其中包含查询的所有解决方案："
      ]
    },
    {
      "cell_type": "code",
      "execution_count": 8,
      "id": "33f779bc",
      "metadata": {},
      "outputs": [
        {
          "data": {
            "text/plain": [
              "ToolMessage(content='[{\"Women\": \"bianca\", \"Child\": \"mary\"}, {\"Women\": \"bianca\", \"Child\": \"michael\"}]', name='family_query', tool_call_id='call_gH8rWamYXITrkfvRP2s5pkbF')"
            ]
          },
          "execution_count": 8,
          "metadata": {},
          "output_type": "execute_result"
        }
      ],
      "source": [
        "messages.append(tool_msg)\n",
        "tool_msg"
      ]
    },
    {
      "cell_type": "markdown",
      "id": "b520745e",
      "metadata": {},
      "source": [
        "然后我们将其传递给 LLM，LLM 利用工具响应来回答原始查询："
      ]
    },
    {
      "cell_type": "code",
      "execution_count": 9,
      "id": "f997186a",
      "metadata": {},
      "outputs": [
        {
          "name": "stdout",
          "output_type": "stream",
          "text": [
            "John has two children: Mary and Michael, with Bianca as their mother.\n"
          ]
        }
      ],
      "source": [
        "answer = llm_with_tools.invoke(messages)\n",
        "print(answer.content)"
      ]
    },
    {
      "cell_type": "markdown",
      "id": "0f7ce937",
      "metadata": {},
      "source": [
        "## 链式调用\n\n### 将 Prolog 工具与 Agent 结合使用"
      ]
    },
    {
      "cell_type": "markdown",
      "id": "37cd7ef8",
      "metadata": {},
      "source": [
        "要将 prolog 工具与代理一起使用，请将其传递给代理的构造函数："
      ]
    },
    {
      "cell_type": "code",
      "execution_count": 10,
      "id": "8957d420",
      "metadata": {},
      "outputs": [],
      "source": [
        "#!pip install langgraph\n",
        "\n",
        "from langgraph.prebuilt import create_react_agent\n",
        "\n",
        "agent_executor = create_react_agent(llm, [prolog_tool])"
      ]
    },
    {
      "cell_type": "markdown",
      "id": "3e866895",
      "metadata": {},
      "source": [
        "代理接收查询，并在需要时使用 Prolog 工具："
      ]
    },
    {
      "cell_type": "code",
      "execution_count": 11,
      "id": "acad8d33",
      "metadata": {
        "scrolled": true
      },
      "outputs": [],
      "source": [
        "messages = agent_executor.invoke({\"messages\": [(\"human\", query)]})"
      ]
    },
    {
      "cell_type": "markdown",
      "id": "92e71ffa",
      "metadata": {},
      "source": [
        "然后代理接收工具的响应并生成答案："
      ]
    },
    {
      "cell_type": "code",
      "execution_count": 12,
      "id": "36a464f4",
      "metadata": {},
      "outputs": [
        {
          "name": "stdout",
          "output_type": "stream",
          "text": [
            "==================================\u001b[1m Ai Message \u001b[0m==================================\n",
            "\n",
            "John has two children: Mary and Michael, with Bianca as their mother.\n"
          ]
        }
      ],
      "source": [
        "messages[\"messages\"][-1].pretty_print()"
      ]
    },
    {
      "cell_type": "markdown",
      "id": "baee74e3",
      "metadata": {},
      "source": [
        "## API 参考\n\n详情请参见 https://langchain-prolog.readthedocs.io/en/latest/modules.html。"
      ]
    },
    {
      "cell_type": "code",
      "execution_count": null,
      "id": "a95afa82",
      "metadata": {},
      "outputs": [],
      "source": []
    }
  ],
  "metadata": {
    "kernelspec": {
      "display_name": "Python 3.10 (test-again)",
      "language": "python",
      "name": "test-again"
    },
    "language_info": {
      "codemirror_mode": {
        "name": "ipython",
        "version": 3
      },
      "file_extension": ".py",
      "mimetype": "text/x-python",
      "name": "python",
      "nbconvert_exporter": "python",
      "pygments_lexer": "ipython3",
      "version": "3.10.16"
    }
  },
  "nbformat": 4,
  "nbformat_minor": 5
}