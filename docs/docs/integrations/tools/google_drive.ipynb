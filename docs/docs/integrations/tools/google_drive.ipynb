{
  "cells": [
    {
      "cell_type": "markdown",
      "metadata": {},
      "source": [
        "# Google Drive\n\n本 Notebook 将指导您如何将 LangChain 连接到 `Google Drive API`。\n\n## 先决条件\n\n1. 创建一个 Google Cloud 项目或使用现有项目\n1. 启用 [Google Drive API](https://console.cloud.google.com/flows/enableapi?apiid=drive.googleapis.com)\n1. [授权桌面应用的凭据](https://developers.google.com/drive/api/quickstart/python#authorize_credentials_for_a_desktop_application)\n1. `pip install --upgrade google-api-python-client google-auth-httplib2 google-auth-oauthlib`\n\n## 获取 Google Docs 数据的说明\n默认情况下，`GoogleDriveTools` 和 `GoogleDriveWrapper` 期望 `credentials.json` 文件位于 `~/.credentials/credentials.json`，但这可以通过将 `GOOGLE_ACCOUNT_FILE` 环境变量设置为您的 `custom/path/to/credentials.json` 来进行配置。\n`token.json` 的位置使用相同的目录（或使用参数 `token_path`）。请注意，`token.json` 将在您首次使用该工具时自动创建。\n\n`GoogleDriveSearchTool` 可以根据某些请求检索文件。\n\n默认情况下，如果您使用 `folder_id`，则该文件夹内的所有文件都可以检索到 `Document`，前提是文件名与查询匹配。"
      ]
    },
    {
      "cell_type": "code",
      "execution_count": null,
      "metadata": {},
      "outputs": [],
      "source": [
        "%pip install --upgrade --quiet  google-api-python-client google-auth-httplib2 google-auth-oauthlib langchain-community"
      ]
    },
    {
      "cell_type": "markdown",
      "metadata": {},
      "source": [
        "您可以通过 URL 获取您的文件夹和文档 ID：\n\n* 文件夹：https://drive.google.com/drive/u/0/folders/1yucgL9WGgWZdM1TOuKkeghlPizuzMYb5 -> 文件夹 ID 是 `\"1yucgL9WGgWZdM1TOuKkeghlPizuzMYb5\"`\n* 文档：https://docs.google.com/document/d/1bfaMQ18_i56204VaQDVeAFpqEijJTgvurupdEDiaUQw/edit -> 文档 ID 是 `\"1bfaMQ18_i56204VaQDVeAFpqEijJTgvurupdEDiaUQw\"`\n\n特殊值 `root` 指的是您的个人根目录。"
      ]
    },
    {
      "cell_type": "code",
      "execution_count": 1,
      "metadata": {},
      "outputs": [],
      "source": [
        "folder_id = \"root\"\n",
        "# folder_id='1yucgL9WGgWZdM1TOuKkeghlPizuzMYb5'"
      ]
    },
    {
      "cell_type": "markdown",
      "metadata": {},
      "source": [
        "默认情况下，所有具有以下 MIME 类型的文件的都可以转换为 `Document`。\n- text/text\n- text/plain\n- text/html\n- text/csv\n- text/markdown\n- image/png\n- image/jpeg\n- application/epub+zip\n- application/pdf\n- application/rtf\n- application/vnd.google-apps.document (GDoc)\n- application/vnd.google-apps.presentation (GSlide)\n- application/vnd.google-apps.spreadsheet (GSheet)\n- application/vnd.google.colaboratory (Notebook colab)\n- application/vnd.openxmlformats-officedocument.presentationml.presentation (PPTX)\n- application/vnd.openxmlformats-officedocument.wordprocessingml.document (DOCX)\n\n可以更新或自定义此设置。请参阅 `GoogleDriveAPIWrapper` 的文档。\n\n但是，必须安装相应的软件包。"
      ]
    },
    {
      "cell_type": "code",
      "execution_count": null,
      "metadata": {},
      "outputs": [],
      "source": [
        "%pip install --upgrade --quiet  unstructured langchain-googledrive"
      ]
    },
    {
      "cell_type": "code",
      "execution_count": null,
      "metadata": {
        "tags": []
      },
      "outputs": [],
      "source": [
        "import os\n",
        "\n",
        "from langchain_googledrive.tools.google_drive.tool import GoogleDriveSearchTool\n",
        "from langchain_googledrive.utilities.google_drive import GoogleDriveAPIWrapper\n",
        "\n",
        "os.environ[\"GOOGLE_ACCOUNT_FILE\"] = \"custom/path/to/credentials.json\"\n",
        "\n",
        "# By default, search only in the filename.\n",
        "tool = GoogleDriveSearchTool(\n",
        "    api_wrapper=GoogleDriveAPIWrapper(\n",
        "        folder_id=folder_id,\n",
        "        num_results=2,\n",
        "        template=\"gdrive-query-in-folder\",  # Search in the body of documents\n",
        "    )\n",
        ")"
      ]
    },
    {
      "cell_type": "code",
      "execution_count": 3,
      "metadata": {},
      "outputs": [],
      "source": [
        "import logging\n",
        "\n",
        "logging.basicConfig(level=logging.INFO)"
      ]
    },
    {
      "cell_type": "code",
      "execution_count": null,
      "metadata": {},
      "outputs": [],
      "source": [
        "tool.run(\"machine learning\")"
      ]
    },
    {
      "cell_type": "code",
      "execution_count": 5,
      "metadata": {},
      "outputs": [
        {
          "data": {
            "text/plain": [
              "\"A wrapper around Google Drive Search. Useful for when you need to find a document in google drive. The input should be formatted as a list of entities separated with a space. As an example, a list of keywords is 'hello word'.\""
            ]
          },
          "execution_count": 5,
          "metadata": {},
          "output_type": "execute_result"
        }
      ],
      "source": [
        "tool.description"
      ]
    },
    {
      "cell_type": "markdown",
      "metadata": {},
      "source": [
        "## 在 ReAct 代理中使用工具"
      ]
    },
    {
      "cell_type": "markdown",
      "metadata": {},
      "source": [
        "为了创建一个使用 Google Jobs 工具的代理，请安装 Langgraph"
      ]
    },
    {
      "cell_type": "code",
      "execution_count": null,
      "metadata": {},
      "outputs": [],
      "source": [
        "%pip install --upgrade --quiet langgraph langchain-openai"
      ]
    },
    {
      "cell_type": "markdown",
      "metadata": {},
      "source": [
        "并使用 `create_react_agent` 功能来初始化 ReAct 代理。您还需要设置您的 OPEN_API_KEY（请访问 https://platform.openai.com）来访问 OpenAI 的聊天模型。"
      ]
    },
    {
      "cell_type": "code",
      "execution_count": null,
      "metadata": {
        "tags": []
      },
      "outputs": [],
      "source": [
        "import os\n",
        "\n",
        "from langchain.chat_models import init_chat_model\n",
        "from langgraph.prebuilt import create_react_agent\n",
        "\n",
        "os.environ[\"OPENAI_API_KEY\"] = \"your-openai-api-key\"\n",
        "\n",
        "\n",
        "llm = init_chat_model(\"gpt-4o-mini\", model_provider=\"openai\", temperature=0)\n",
        "agent = create_react_agent(llm, tools=[tool])\n",
        "\n",
        "events = agent.stream(\n",
        "    {\"messages\": [(\"user\", \"Search in google drive, who is 'Yann LeCun' ?\")]},\n",
        "    stream_mode=\"values\",\n",
        ")\n",
        "for event in events:\n",
        "    event[\"messages\"][-1].pretty_print()"
      ]
    }
  ],
  "metadata": {
    "kernelspec": {
      "display_name": "venv",
      "language": "python",
      "name": "python3"
    },
    "language_info": {
      "codemirror_mode": {
        "name": "ipython",
        "version": 3
      },
      "file_extension": ".py",
      "mimetype": "text/x-python",
      "name": "python",
      "nbconvert_exporter": "python",
      "pygments_lexer": "ipython3",
      "version": "3.12.7"
    }
  },
  "nbformat": 4,
  "nbformat_minor": 4
}