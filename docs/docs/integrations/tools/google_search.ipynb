{
  "cells": [
    {
      "cell_type": "markdown",
      "id": "245a954a",
      "metadata": {},
      "source": [
        "# Google 搜索\n\n本 Notebook 将介绍如何使用 Google 搜索组件。\n\n首先，您需要设置正确的 API 密钥和环境变量。要进行设置，请在 Google Cloud 凭证控制台（https://console.cloud.google.com/apis/credentials）创建 GOOGLE_API_KEY，并使用可编程搜索引​擎（https://programmablesearchengine.google.com/controlpanel/create）创建 GOOGLE_CSE_ID。接下来，最好按照[此处](https://stackoverflow.com/questions/37083058/programmatically-searching-google-in-python-using-custom-search)的说明进行操作。\n\n然后，我们需要设置一些环境变量。"
      ]
    },
    {
      "cell_type": "code",
      "execution_count": null,
      "id": "a2998f9c",
      "metadata": {},
      "outputs": [],
      "source": [
        "%pip install --upgrade --quiet  langchain-google-community"
      ]
    },
    {
      "cell_type": "code",
      "execution_count": 1,
      "id": "34bb5968",
      "metadata": {},
      "outputs": [],
      "source": [
        "import os\n",
        "\n",
        "os.environ[\"GOOGLE_CSE_ID\"] = \"\"\n",
        "os.environ[\"GOOGLE_API_KEY\"] = \"\""
      ]
    },
    {
      "cell_type": "code",
      "execution_count": 2,
      "id": "ac4910f8",
      "metadata": {},
      "outputs": [],
      "source": [
        "from langchain_core.tools import Tool\n",
        "from langchain_google_community import GoogleSearchAPIWrapper\n",
        "\n",
        "search = GoogleSearchAPIWrapper()\n",
        "\n",
        "tool = Tool(\n",
        "    name=\"google_search\",\n",
        "    description=\"Search Google for recent results.\",\n",
        "    func=search.run,\n",
        ")"
      ]
    },
    {
      "cell_type": "code",
      "execution_count": 3,
      "id": "84b8f773",
      "metadata": {},
      "outputs": [
        {
          "data": {
            "text/plain": [
              "\"STATE OF HAWAII. 1 Child's First Name. (Type or print). 2. Sex. BARACK. 3. This Birth. CERTIFICATE OF LIVE BIRTH. FILE. NUMBER 151 le. lb. Middle Name. Barack Hussein Obama II is an American former politician who served as the 44th president of the United States from 2009 to 2017. A member of the Democratic\\xa0... When Barack Obama was elected president in 2008, he became the first African American to hold ... The Middle East remained a key foreign policy challenge. Jan 19, 2017 ... Jordan Barack Treasure, New York City, born in 2008 ... Jordan Barack Treasure made national news when he was the focus of a New York newspaper\\xa0... Portrait of George Washington, the 1st President of the United States ... Portrait of Barack Obama, the 44th President of the United States\\xa0... His full name is Barack Hussein Obama II. Since the “II” is simply because he was named for his father, his last name is Obama. Mar 22, 2008 ... Barry Obama decided that he didn't like his nickname. A few of his friends at Occidental College had already begun to call him Barack (his\\xa0... Aug 18, 2017 ... It took him several seconds and multiple clues to remember former President Barack Obama's first name. Miller knew that every answer had to\\xa0... Feb 9, 2015 ... Michael Jordan misspelled Barack Obama's first name on 50th-birthday gift ... Knowing Obama is a Chicagoan and huge basketball fan,\\xa0... 4 days ago ... Barack Obama, in full Barack Hussein Obama II, (born August 4, 1961, Honolulu, Hawaii, U.S.), 44th president of the United States (2009–17) and\\xa0...\""
            ]
          },
          "execution_count": 3,
          "metadata": {},
          "output_type": "execute_result"
        }
      ],
      "source": [
        "tool.run(\"Obama's first name?\")"
      ]
    },
    {
      "cell_type": "markdown",
      "id": "074b7f07",
      "metadata": {},
      "source": [
        "## 结果数量\n您可以使用 `k` 参数来设置结果数量"
      ]
    },
    {
      "cell_type": "code",
      "execution_count": 4,
      "id": "5083fbdd",
      "metadata": {},
      "outputs": [],
      "source": [
        "search = GoogleSearchAPIWrapper(k=1)\n",
        "\n",
        "tool = Tool(\n",
        "    name=\"I'm Feeling Lucky\",\n",
        "    description=\"Search Google and return the first result.\",\n",
        "    func=search.run,\n",
        ")"
      ]
    },
    {
      "cell_type": "code",
      "execution_count": 5,
      "id": "77aaa857",
      "metadata": {},
      "outputs": [
        {
          "data": {
            "text/plain": [
              "'The official home of the Python Programming Language.'"
            ]
          },
          "execution_count": 5,
          "metadata": {},
          "output_type": "execute_result"
        }
      ],
      "source": [
        "tool.run(\"python\")"
      ]
    },
    {
      "cell_type": "markdown",
      "id": "11c8d94f",
      "metadata": {},
      "source": [
        "Python 编程语言的官方主页。"
      ]
    },
    {
      "cell_type": "markdown",
      "id": "73473110",
      "metadata": {},
      "source": [
        "## 元数据结果"
      ]
    },
    {
      "cell_type": "markdown",
      "id": "109fe796",
      "metadata": {},
      "source": [
        "通过 GoogleSearch 运行查询，并返回 snippet（摘要）、title（标题）和 link（链接）元数据。\n\n- Snippet：结果的描述。\n- Title：结果的标题。\n- Link：结果的链接。"
      ]
    },
    {
      "cell_type": "code",
      "execution_count": 6,
      "id": "028f4cba",
      "metadata": {},
      "outputs": [],
      "source": [
        "search = GoogleSearchAPIWrapper()\n",
        "\n",
        "\n",
        "def top5_results(query):\n",
        "    return search.results(query, 5)\n",
        "\n",
        "\n",
        "tool = Tool(\n",
        "    name=\"Google Search Snippets\",\n",
        "    description=\"Search Google for recent results.\",\n",
        "    func=top5_results,\n",
        ")"
      ]
    },
    {
      "cell_type": "code",
      "execution_count": null,
      "id": "4d7f92e1",
      "metadata": {},
      "outputs": [],
      "source": []
    }
  ],
  "metadata": {
    "kernelspec": {
      "display_name": "Python 3 (ipykernel)",
      "language": "python",
      "name": "python3"
    },
    "language_info": {
      "codemirror_mode": {
        "name": "ipython",
        "version": 3
      },
      "file_extension": ".py",
      "mimetype": "text/x-python",
      "name": "python",
      "nbconvert_exporter": "python",
      "pygments_lexer": "ipython3",
      "version": "3.10.12"
    },
    "vscode": {
      "interpreter": {
        "hash": "a0a0263b650d907a3bfe41c0f8d6a63a071b884df3cfdc1579f00cdc1aed6b03"
      }
    }
  },
  "nbformat": 4,
  "nbformat_minor": 5
}