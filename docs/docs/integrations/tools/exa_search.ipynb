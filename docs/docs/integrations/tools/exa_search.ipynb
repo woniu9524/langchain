{
  "cells": [
    {
      "cell_type": "markdown",
      "metadata": {
        "id": "4x4kQ0VcodAC"
      },
      "source": [
        "# Exa 搜索"
      ]
    },
    {
      "cell_type": "markdown",
      "metadata": {
        "id": "V1x8wEUhodAH"
      },
      "source": [
        "Exa 是一个专为大型语言模型 (LLM) 设计的搜索引擎。使用**自然语言查询**在互联网上搜索文档，然后从所需的文档中检索**干净的 HTML 内容**。\n\n与基于关键词的搜索 (Google) 不同，Exa 的神经搜索能力使其能够语义理解查询并返回相关的文档。例如，我们可以搜索 `\"fascinating article about cats\"` 并比较 [Google](https://www.google.com/search?q=fascinating+article+about+cats) 和 [Exa](https://search.exa.ai/search?q=fascinating%20article%20about%20cats&autopromptString=Here%20is%20a%20fascinating%20article%20about%20cats%3A) 的搜索结果。Google 返回基于关键词“fascinating”的 SEO 优化列表。Exa 则直接有效。\n\n本笔记本将介绍如何将 Exa Search 与 LangChain 结合使用。"
      ]
    },
    {
      "cell_type": "markdown",
      "metadata": {},
      "source": [
        "## 设置\n\n### 安装\n\n安装 LangChain Exa 集成包："
      ]
    },
    {
      "cell_type": "code",
      "execution_count": null,
      "metadata": {},
      "outputs": [],
      "source": [
        "%pip install --upgrade --quiet langchain-exa \n",
        "\n",
        "# and some deps for this notebook\n",
        "%pip install --upgrade --quiet langchain langchain-openai langchain-community"
      ]
    },
    {
      "cell_type": "markdown",
      "metadata": {},
      "source": [
        "### 凭证\n\n您需要一个 Exa API 密钥才能使用此集成。通过[在此处注册](https://dashboard.exa.ai/)，您可以获得 10 美元的免费积分（通过完成某些操作，例如首次搜索，还可以获得更多积分）。"
      ]
    },
    {
      "cell_type": "code",
      "execution_count": null,
      "metadata": {},
      "outputs": [],
      "source": [
        "import getpass\n",
        "import os\n",
        "\n",
        "if not os.environ.get(\"EXA_API_KEY\"):\n",
        "    os.environ[\"EXA_API_KEY\"] = getpass.getpass(\"Exa API key:\\n\")"
      ]
    },
    {
      "cell_type": "markdown",
      "metadata": {},
      "source": [
        "## 使用 ExaSearchResults 工具\n\nExaSearchResults 是一个可与 LangChain 代理配合使用的工具，用于执行 Exa 搜索。它为搜索操作提供了一个更结构化的接口："
      ]
    },
    {
      "cell_type": "code",
      "execution_count": null,
      "metadata": {},
      "outputs": [],
      "source": [
        "from langchain_exa import ExaSearchResults\n",
        "\n",
        "# Initialize the ExaSearchResults tool\n",
        "search_tool = ExaSearchResults(exa_api_key=os.environ[\"EXA_API_KEY\"])\n",
        "\n",
        "# Perform a search query\n",
        "search_results = search_tool._run(\n",
        "    query=\"When was the last time the New York Knicks won the NBA Championship?\",\n",
        "    num_results=5,\n",
        "    text_contents_options=True,\n",
        "    highlights=True,\n",
        ")\n",
        "\n",
        "print(\"Search Results:\", search_results)"
      ]
    },
    {
      "cell_type": "markdown",
      "metadata": {},
      "source": [
        "### ExaSearchResults 的高级功能\n\n您可以使用高级搜索选项，例如控制搜索类型、实时爬取和内容过滤："
      ]
    },
    {
      "cell_type": "code",
      "execution_count": null,
      "metadata": {},
      "outputs": [],
      "source": [
        "# Perform a search query with advanced options\n",
        "search_results = search_tool._run(\n",
        "    query=\"Latest AI research papers\",\n",
        "    num_results=10,  # Number of results (1-100)\n",
        "    type=\"auto\",  # Can be \"neural\", \"keyword\", or \"auto\"\n",
        "    livecrawl=\"always\",  # Can be \"always\", \"fallback\", or \"never\"\n",
        "    text_contents_options={\"max_characters\": 2000},  # Limit text length\n",
        "    summary={\"query\": \"generate one liner\"},  # Custom summary prompt\n",
        ")\n",
        "\n",
        "print(\"Advanced Search Results:\")\n",
        "print(search_results)"
      ]
    },
    {
      "cell_type": "markdown",
      "metadata": {},
      "source": [
        "## 使用 ExaFindSimilarResults 工具\n\nExaFindSimilarResults 允许您查找与给定 URL 相似的网页。这有助于查找相关内容或进行竞争分析："
      ]
    },
    {
      "cell_type": "code",
      "execution_count": null,
      "metadata": {},
      "outputs": [],
      "source": [
        "from langchain_exa import ExaFindSimilarResults\n",
        "\n",
        "# Initialize the ExaFindSimilarResults tool\n",
        "find_similar_tool = ExaFindSimilarResults(exa_api_key=os.environ[\"EXA_API_KEY\"])\n",
        "\n",
        "# Find similar results based on a URL\n",
        "similar_results = find_similar_tool._run(\n",
        "    url=\"http://espn.com\", num_results=5, text_contents_options=True, highlights=True\n",
        ")\n",
        "\n",
        "print(\"Similar Results:\", similar_results)"
      ]
    },
    {
      "cell_type": "markdown",
      "metadata": {},
      "source": [
        "## 在 Agent 中使用\n\n我们可以将 ExaSearchResults 和 ExaFindSimilarResults 工具与 LangGraph Agent 一起使用。这使得 Agent 能够根据用户的查询动态地搜索信息和查找相似内容。\n\n首先，我们来设置语言模型。您需要提供您的 OpenAI API 密钥："
      ]
    },
    {
      "cell_type": "code",
      "execution_count": null,
      "metadata": {
        "id": "0CsJFtuFodAK"
      },
      "outputs": [],
      "source": [
        "import getpass\n",
        "\n",
        "if not os.environ.get(\"OPENAI_API_KEY\"):\n",
        "    os.environ[\"OPENAI_API_KEY\"] = getpass.getpass(\"OpenAI API key:\\n\")"
      ]
    },
    {
      "cell_type": "markdown",
      "metadata": {
        "id": "sVe2ca9OodAO"
      },
      "source": [
        "我们需要安装 langgraph："
      ]
    },
    {
      "cell_type": "code",
      "execution_count": null,
      "metadata": {},
      "outputs": [],
      "source": [
        "%pip install -qU langgraph"
      ]
    },
    {
      "cell_type": "code",
      "execution_count": null,
      "metadata": {
        "id": "e3FHjxT-RoIH"
      },
      "outputs": [],
      "source": [
        "from langchain.chat_models import init_chat_model\n",
        "from langchain_exa import ExaFindSimilarResults, ExaSearchResults\n",
        "from langgraph.prebuilt import create_react_agent\n",
        "\n",
        "# Initialize the language model\n",
        "llm = init_chat_model(model=\"gpt-4o\", model_provider=\"openai\", temperature=0)\n",
        "\n",
        "# Initialize Exa Tools\n",
        "exa_search = ExaSearchResults(\n",
        "    exa_api_key=os.environ[\"EXA_API_KEY\"],\n",
        "    max_results=5,\n",
        ")\n",
        "\n",
        "exa_find_similar = ExaFindSimilarResults(\n",
        "    exa_api_key=os.environ[\"EXA_API_KEY\"],\n",
        "    max_results=5,\n",
        ")\n",
        "\n",
        "# Create agent with both tools\n",
        "agent = create_react_agent(llm, [exa_search, exa_find_similar])\n",
        "\n",
        "# Example 1: Basic search\n",
        "user_input = \"What are the latest developments in quantum computing?\"\n",
        "\n",
        "for step in agent.stream(\n",
        "    {\"messages\": user_input},\n",
        "    stream_mode=\"values\",\n",
        "):\n",
        "    step[\"messages\"][-1].pretty_print()"
      ]
    },
    {
      "cell_type": "markdown",
      "metadata": {},
      "source": [
        "## 使用 ExaSearchRetriever\n\nExaSearchRetriever 是一个使用 Exa Search 来检索相关文档的检索器。\n\n:::note\n\n**TextContentsOptions** 的 `max_characters` 参数以前被称为 `max_length`，现已弃用。请确保使用 `max_characters`。\n\n:::\n\n### 基本用法\n\n以下是使用 ExaSearchRetriever 的简单示例："
      ]
    },
    {
      "cell_type": "code",
      "execution_count": null,
      "metadata": {},
      "outputs": [],
      "source": [
        "from langchain_exa import ExaSearchRetriever\n",
        "\n",
        "# Create a new instance of the ExaSearchRetriever\n",
        "exa = ExaSearchRetriever(exa_api_key=os.environ[\"EXA_API_KEY\"])\n",
        "\n",
        "# Search for a query and save the results\n",
        "results = exa.invoke(\"What is the capital of France?\")\n",
        "\n",
        "# Print the results\n",
        "print(results)"
      ]
    },
    {
      "cell_type": "markdown",
      "metadata": {},
      "source": [
        "### 高级功能\n\n您可以使用高级功能，例如控制结果数量、搜索类型、实时抓取、摘要以及文本内容选项："
      ]
    },
    {
      "cell_type": "code",
      "execution_count": null,
      "metadata": {},
      "outputs": [],
      "source": [
        "from langchain_exa import ExaSearchRetriever\n",
        "\n",
        "# Create a new instance with advanced options\n",
        "exa = ExaSearchRetriever(\n",
        "    exa_api_key=os.environ[\"EXA_API_KEY\"],\n",
        "    k=20,  # Number of results (1-100)\n",
        "    type=\"auto\",  # Can be \"neural\", \"keyword\", or \"auto\"\n",
        "    livecrawl=\"always\",  # Can be \"always\", \"fallback\", or \"never\"\n",
        "    text_contents_options={\"max_characters\": 3000},  # Limit text length\n",
        "    # Custom prompt for an LLM generated summary of page content\n",
        "    summary={\"query\": \"generate one line summary in simple words.\"},\n",
        ")\n",
        "\n",
        "# Search with advanced options\n",
        "results = exa.invoke(\"Latest developments in quantum computing\")\n",
        "print(f\"Found {len(results)} results\")\n",
        "for result in results[:3]:  # Print first 3 results\n",
        "    print(f\"Title: {result.metadata.get('title', 'N/A')}\")\n",
        "    print(f\"URL: {result.metadata.get('url', 'N/A')}\")\n",
        "    print(f\"Summary: {result.metadata.get('summary', 'N/A')}\")\n",
        "    print(\"-\" * 80)"
      ]
    },
    {
      "cell_type": "markdown",
      "metadata": {},
      "source": [
        "## API 参考\n\n有关所有 Exa API 功能和配置的详细文档，请访问 [Exa API 文档](https://docs.exa.ai/)。"
      ]
    }
  ],
  "metadata": {
    "colab": {
      "provenance": []
    },
    "kernelspec": {
      "display_name": ".venv",
      "language": "python",
      "name": "python3"
    },
    "language_info": {
      "codemirror_mode": {
        "name": "ipython",
        "version": 3
      },
      "file_extension": ".py",
      "mimetype": "text/x-python",
      "name": "python",
      "nbconvert_exporter": "python",
      "pygments_lexer": "ipython3",
      "version": "3.13.2"
    }
  },
  "nbformat": 4,
  "nbformat_minor": 0
}