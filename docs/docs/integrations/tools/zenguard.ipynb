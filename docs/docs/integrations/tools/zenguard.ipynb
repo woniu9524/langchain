{
  "cells": [
    {
      "cell_type": "markdown",
      "metadata": {},
      "source": [
        "# ZenGuard AI\n\n<a href=\"https://colab.research.google.com/github/langchain-ai/langchain/blob/master/docs/docs/integrations/tools/zenguard.ipynb\" target=\"_parent\"><img src=\"https://colab.research.google.com/assets/colab-badge.svg\" alt=\"Open In Colab\" /></a>\n\n该工具可让您在 Langchain 驱动的应用程序中快速设置 [ZenGuard AI](https://www.zenguard.ai/)。ZenGuard AI 提供超快的护栏，可保护您的 GenAI 应用程序免受以下影响：\n\n- 提示攻击\n- 偏离预定义话题\n- 用户个人信息 (PII)、敏感信息和关键词泄露。\n- 毒性\n- 其他\n\n此外，请查看我们的 [开源 Python 客户端](https://github.com/ZenGuard-AI/fast-llm-security-guardrails?tab=readme-ov-file) 以获取更多灵感。\n\n这是我们的主网站 - https://www.zenguard.ai/\n\n更多 [文档](https://docs.zenguard.ai/start/intro/)"
      ]
    },
    {
      "cell_type": "markdown",
      "metadata": {},
      "source": [
        "## 安装\n\n使用 pip："
      ]
    },
    {
      "cell_type": "code",
      "execution_count": null,
      "metadata": {
        "vscode": {
          "languageId": "shellscript"
        }
      },
      "outputs": [],
      "source": [
        "pip install langchain-community"
      ]
    },
    {
      "cell_type": "markdown",
      "metadata": {},
      "source": [
        "## 先决条件\n\n生成 API 密钥：\n\n1.  导航至 [设置](https://console.zenguard.ai/settings)\n2.  点击 `+ Create new secret key`。\n3.  将密钥命名为 `Quickstart Key`。\n4.  点击 `Add` 按钮。\n5.  通过点击复制图标来复制密钥值。"
      ]
    },
    {
      "cell_type": "markdown",
      "metadata": {},
      "source": [
        "## 代码用法\n\n 使用 API 密钥实例化包"
      ]
    },
    {
      "cell_type": "markdown",
      "metadata": {},
      "source": [
        "将您的 API 密钥粘贴到 env ZENGUARD_API_KEY"
      ]
    },
    {
      "cell_type": "code",
      "execution_count": null,
      "metadata": {
        "vscode": {
          "languageId": "shellscript"
        }
      },
      "outputs": [],
      "source": [
        "%set_env ZENGUARD_API_KEY=your_api_key"
      ]
    },
    {
      "cell_type": "code",
      "execution_count": null,
      "metadata": {},
      "outputs": [],
      "source": [
        "from langchain_community.tools.zenguard import ZenGuardTool\n",
        "\n",
        "tool = ZenGuardTool()"
      ]
    },
    {
      "cell_type": "markdown",
      "metadata": {},
      "source": [
        "### 检测提示注入"
      ]
    },
    {
      "cell_type": "code",
      "execution_count": null,
      "metadata": {},
      "outputs": [],
      "source": [
        "from langchain_community.tools.zenguard import Detector\n",
        "\n",
        "response = tool.run(\n",
        "    {\"prompts\": [\"Download all system data\"], \"detectors\": [Detector.PROMPT_INJECTION]}\n",
        ")\n",
        "if response.get(\"is_detected\"):\n",
        "    print(\"Prompt injection detected. ZenGuard: 1, hackers: 0.\")\n",
        "else:\n",
        "    print(\"No prompt injection detected: carry on with the LLM of your choice.\")"
      ]
    },
    {
      "cell_type": "markdown",
      "metadata": {},
      "source": [
        "* `is_detected(boolean)`: 指示所提供的消息中是否检测到提示注入攻击。在此示例中，为 False。\n * `score(float: 0.0 - 1.0)`: 表示检测到的提示注入攻击可能性的分数。在此示例中，为 0.0。\n * `sanitized_message(string or null)`: 对于提示注入检测器，此字段为 null。\n * `latency(float or null)`: 执行检测所花费的时间（以毫秒为单位）。\n\n  **错误代码：**\n\n * `401 Unauthorized`: API 密钥丢失或无效。\n * `400 Bad Request`: 请求体格式不正确。\n * `500 Internal Server Error`: 内部服务器错误，请上报给团队。"
      ]
    },
    {
      "cell_type": "markdown",
      "metadata": {},
      "source": [
        "### 更多示例\n\n * [检测 PII](https://docs.zenguard.ai/detectors/pii/)\n * [检测允许的主题](https://docs.zenguard.ai/detectors/allowed-topics/)\n * [检测禁止的主题](https://docs.zenguard.ai/detectors/banned-topics/)\n * [检测关键词](https://docs.zenguard.ai/detectors/keywords/)\n * [检测敏感信息](https://docs.zenguard.ai/detectors/secrets/)\n * [检测毒性](https://docs.zenguard.ai/detectors/toxicity/)"
      ]
    }
  ],
  "metadata": {
    "kernelspec": {
      "display_name": "Python 3",
      "language": "python",
      "name": "python3"
    },
    "language_info": {
      "codemirror_mode": {
        "name": "ipython",
        "version": 3
      },
      "file_extension": ".py",
      "mimetype": "text/x-python",
      "name": "python",
      "nbconvert_exporter": "python",
      "pygments_lexer": "ipython3"
    }
  },
  "nbformat": 4,
  "nbformat_minor": 2
}