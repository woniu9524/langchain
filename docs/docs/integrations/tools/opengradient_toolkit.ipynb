{
  "cells": [
    {
      "cell_type": "raw",
      "id": "afaf8039",
      "metadata": {},
      "source": [
        "---\n",
        "sidebar_label: OpenGradient\n",
        "---"
      ]
    },
    {
      "cell_type": "markdown",
      "id": "e49f1e0d",
      "metadata": {},
      "source": [
        "# OpenGradientToolkit\n\n本 Notebook 展示了如何使用 OpenGradient toolkit 构建工具。该 toolkit 使用户能够基于 [OpenGradient network](https://www.opengradient.ai/) 上的模型和工作流创建自定义工具。\n\n## 设置\n\n为访问 OpenGradient network，请确保您拥有一个 OpenGradient API 密钥。如果您已有 API 密钥，只需设置环境变量："
      ]
    },
    {
      "cell_type": "code",
      "execution_count": null,
      "id": "8f7303e1",
      "metadata": {},
      "outputs": [],
      "source": [
        "!export OPENGRADIENT_PRIVATE_KEY=\"your-api-key\""
      ]
    },
    {
      "cell_type": "markdown",
      "id": "0a7af45e",
      "metadata": {},
      "source": [
        "如果你需要设置一个新的 API 密钥，请下载 opengradient SDK 并按照说明初始化一个新的配置。"
      ]
    },
    {
      "cell_type": "code",
      "execution_count": null,
      "id": "a7777f1e",
      "metadata": {
        "vscode": {
          "languageId": "shellscript"
        }
      },
      "outputs": [],
      "source": [
        "!pip install opengradient\n",
        "!opengradient config init"
      ]
    },
    {
      "cell_type": "markdown",
      "id": "0730d6a1-c893-4840-9817-5e5251676d5d",
      "metadata": {},
      "source": [
        "### 安装\n\n该工具包位于 `langchain-opengradient` 包中："
      ]
    },
    {
      "cell_type": "code",
      "execution_count": null,
      "id": "652d6238-1f87-422a-b135-f5abbb8652fc",
      "metadata": {},
      "outputs": [],
      "source": [
        "%pip install -qU langchain-opengradient"
      ]
    },
    {
      "cell_type": "markdown",
      "id": "a38cde65-254d-4219-a441-068766c0d4b5",
      "metadata": {},
      "source": [
        "## 实例化\n\n现在我们可以用之前获取的 API 密钥来实例化我们的工具集。"
      ]
    },
    {
      "cell_type": "code",
      "execution_count": null,
      "id": "cb09c344-1836-4e0c-acf8-11d13ac1dbae",
      "metadata": {},
      "outputs": [],
      "source": [
        "from langchain_opengradient import OpenGradientToolkit\n",
        "\n",
        "toolkit = OpenGradientToolkit(\n",
        "    # Not required if you have already set the environment variable OPENGRADIENT_PRIVATE_KEY\n",
        "    private_key=\"your-api-key\"\n",
        ")"
      ]
    },
    {
      "cell_type": "markdown",
      "id": "ad986625",
      "metadata": {},
      "source": [
        "## 构建你自己的工具\nOpenGradient Toolkit 提供了两种主要的方法来创建自定义工具：\n\n### 1. 创建用于运行机器学习模型的工具\n你可以创建利用部署在 [OpenGradient model hub](https://hub.opengradient.ai/) 上的机器学习模型的工具。用户创建的模型可以通过 [OpenGradient SDK](https://docs.opengradient.ai/developers/sdk/model_management.html) 上传、推理并分享到 model hub。"
      ]
    },
    {
      "cell_type": "code",
      "execution_count": null,
      "id": "f7a03746",
      "metadata": {},
      "outputs": [],
      "source": [
        "import opengradient as og\n",
        "from pydantic import BaseModel, Field\n",
        "\n",
        "\n",
        "# Example 1: Simple tool with no input schema\n",
        "def price_data_provider():\n",
        "    \"\"\"Function that provides input data to the model.\"\"\"\n",
        "    return {\n",
        "        \"open_high_low_close\": [\n",
        "            [2535.79, 2535.79, 2505.37, 2515.36],\n",
        "            [2515.37, 2516.37, 2497.27, 2506.94],\n",
        "            [2506.94, 2515, 2506.35, 2508.77],\n",
        "            [2508.77, 2519, 2507.55, 2518.79],\n",
        "            [2518.79, 2522.1, 2513.79, 2517.92],\n",
        "            [2517.92, 2521.4, 2514.65, 2518.13],\n",
        "            [2518.13, 2525.4, 2517.2, 2522.6],\n",
        "            [2522.59, 2528.81, 2519.49, 2526.12],\n",
        "            [2526.12, 2530, 2524.11, 2529.99],\n",
        "            [2529.99, 2530.66, 2525.29, 2526],\n",
        "        ]\n",
        "    }\n",
        "\n",
        "\n",
        "def format_volatility(inference_result):\n",
        "    \"\"\"Function that formats the model output.\"\"\"\n",
        "    return format(float(inference_result.model_output[\"Y\"].item()), \".3%\")\n",
        "\n",
        "\n",
        "# Create the tool\n",
        "volatility_tool = toolkit.create_run_model_tool(\n",
        "    model_cid=\"QmRhcpDXfYCKsimTmJYrAVM4Bbvck59Zb2onj3MHv9Kw5N\",\n",
        "    tool_name=\"eth_volatility\",\n",
        "    model_input_provider=price_data_provider,\n",
        "    model_output_formatter=format_volatility,\n",
        "    tool_description=\"Generates volatility measurement for ETH/USDT trading pair\",\n",
        "    inference_mode=og.InferenceMode.VANILLA,\n",
        ")\n",
        "\n",
        "\n",
        "# Example 2: Tool with input schema from the agent\n",
        "class TokenInputSchema(BaseModel):\n",
        "    token: str = Field(description=\"Token name (ethereum or bitcoin)\")\n",
        "\n",
        "\n",
        "def token_data_provider(**inputs):\n",
        "    \"\"\"Dynamic function that changes behavior based on agent input.\"\"\"\n",
        "    token = inputs.get(\"token\")\n",
        "    if token == \"bitcoin\":\n",
        "        return {\"price_series\": [100001.1, 100013.2, 100149.2, 99998.1]}\n",
        "    else:  # ethereum\n",
        "        return {\"price_series\": [2010.1, 2012.3, 2020.1, 2019.2]}\n",
        "\n",
        "\n",
        "# Create the tool with schema\n",
        "token_tool = toolkit.create_run_model_tool(\n",
        "    model_cid=\"QmZdSfHWGJyzBiB2K98egzu3MypPcv4R1ASypUxwZ1MFUG\",\n",
        "    tool_name=\"token_volatility\",\n",
        "    model_input_provider=token_data_provider,\n",
        "    model_output_formatter=lambda x: format(float(x.model_output[\"std\"].item()), \".3%\"),\n",
        "    tool_input_schema=TokenInputSchema,\n",
        "    tool_description=\"Measures return volatility for a specified token\",\n",
        ")\n",
        "\n",
        "# Add tools to the toolkit\n",
        "toolkit.add_tool(volatility_tool)\n",
        "toolkit.add_tool(token_tool)"
      ]
    },
    {
      "cell_type": "markdown",
      "id": "45627b99",
      "metadata": {},
      "source": [
        "### 2. 创建一个读取工作流结果的工具\n\n读取工作流（Read workflows）是计划好的推断（scheduled inferences），它们定期使用来自实时价格预言机（live oracle data）的链上模型（models stored on smart-contracts）进行运行。更多关于这些的信息可以在 [此处](https://docs.opengradient.ai/developers/sdk/ml_workflows.html) 找到。\n\n您可以创建读取工作流智能合约（workflow smart contracts）结果的工具："
      ]
    },
    {
      "cell_type": "code",
      "execution_count": null,
      "id": "197cccbd",
      "metadata": {},
      "outputs": [],
      "source": [
        "# Create a tool to read from a workflow\n",
        "forecast_tool = toolkit.create_read_workflow_tool(\n",
        "    workflow_contract_address=\"0x58826c6dc9A608238d9d57a65bDd50EcaE27FE99\",\n",
        "    tool_name=\"ETH_Price_Forecast\",\n",
        "    tool_description=\"Reads latest forecast for ETH price from deployed workflow\",\n",
        "    output_formatter=lambda x: f\"Price change forecast: {format(float(x.numbers['regression_output'].item()), '.2%')}\",\n",
        ")\n",
        "\n",
        "# Add the tool to the toolkit\n",
        "toolkit.add_tool(forecast_tool)"
      ]
    },
    {
      "cell_type": "markdown",
      "id": "5c5f2839-4020-424e-9fc9-07777eede442",
      "metadata": {},
      "source": [
        "## 工具\n\n使用内置的 `get_tools()` 方法可以查看 OpenGradient 工具包中可用工具的列表。"
      ]
    },
    {
      "cell_type": "code",
      "execution_count": null,
      "id": "51a60dbe-9f2e-4e04-bb62-23968f17164a",
      "metadata": {},
      "outputs": [],
      "source": [
        "tools = toolkit.get_tools()\n",
        "\n",
        "# View tools\n",
        "for tool in tools:\n",
        "    print(tool)"
      ]
    },
    {
      "cell_type": "markdown",
      "id": "dfe8aad4-8626-4330-98a9-7ea1ca5d2e0e",
      "metadata": {},
      "source": [
        "## 在代理 (agent) 中使用\n\n以下是如何将你的 OpenGradient 工具与 LangChain 代理 (agent) 一同使用的示例："
      ]
    },
    {
      "cell_type": "code",
      "execution_count": null,
      "id": "310bf18e-6c9a-4072-b86e-47bc1fcca29d",
      "metadata": {},
      "outputs": [],
      "source": [
        "from langchain_openai import ChatOpenAI\n",
        "from langgraph.prebuilt import create_react_agent\n",
        "\n",
        "# Initialize LLM\n",
        "llm = ChatOpenAI(model=\"gpt-4o\")\n",
        "\n",
        "# Create tools from the toolkit\n",
        "tools = toolkit.get_tools()\n",
        "\n",
        "# Create agent\n",
        "agent_executor = create_react_agent(llm, tools)\n",
        "\n",
        "# Example query for the agent\n",
        "example_query = \"What's the current volatility of ETH?\"\n",
        "\n",
        "# Execute the agent\n",
        "events = agent_executor.stream(\n",
        "    {\"messages\": [(\"user\", example_query)]},\n",
        "    stream_mode=\"values\",\n",
        ")\n",
        "for event in events:\n",
        "    event[\"messages\"][-1].pretty_print()"
      ]
    },
    {
      "cell_type": "markdown",
      "id": "2bb2b716",
      "metadata": {},
      "source": [
        "以下是所有内容组合在一起的示例输出：\n\n```\n================================ Human Message =================================\n\nETH 当前的波动性是多少？\n================================== Ai Message ==================================\nTool Calls:\n  eth_volatility (chatcmpl-tool-d66ab9ee8f2c40e5a2634d90c7aeb17d)\n Call ID: chatcmpl-tool-d66ab9ee8f2c40e5a2634d90c7aeb17d\n  Args:\n================================= Tool Message =================================\nName: eth_volatility\n\n0.038%\n================================== Ai Message ==================================\n\nETH/USDT 交易对的当前波动性为 0.038%。\n```"
      ]
    },
    {
      "cell_type": "markdown",
      "id": "268bc64a",
      "metadata": {},
      "source": [
        "## API 参考\n\n更多详情请参阅 [Github 页面](https://github.com/OpenGradient/og-langchain)。"
      ]
    }
  ],
  "metadata": {
    "kernelspec": {
      "display_name": "Python 3",
      "language": "python",
      "name": "python3"
    },
    "language_info": {
      "codemirror_mode": {
        "name": "ipython",
        "version": 3
      },
      "file_extension": ".py",
      "mimetype": "text/x-python",
      "name": "python",
      "nbconvert_exporter": "python",
      "pygments_lexer": "ipython3",
      "version": "3.12.9"
    }
  },
  "nbformat": 4,
  "nbformat_minor": 5
}