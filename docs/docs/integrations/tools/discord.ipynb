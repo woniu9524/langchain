{
  "cells": [
    {
      "cell_type": "raw",
      "id": "10238e62-3465-4973-9279-606cbb7ccf16",
      "metadata": {},
      "source": [
        "---\n",
        "sidebar_label: Discord\n",
        "---"
      ]
    },
    {
      "cell_type": "markdown",
      "id": "a6f91f20",
      "metadata": {},
      "source": [
        "# Discord\n\n本笔记本提供了在 [langchain_discord](/docs/integrations/tools/) 中开始使用 Discord 工具的快速概述。有关每个工具和配置的更多详细信息，请参阅您仓库中的 docstrings 或相关文档页面。\n\n## 概述\n\n### 集成详情\n\n| Class                                | Package                                                                 | Serializable | [JS 支持](https://js.langchain.com/docs/integrations/tools/langchain_discord) |                                             Package 最低版本                                              |\n| :----------------------------------- |:------------------------------------------------------------------------| :---:        | :---:                                                                           |:-------------------------------------------------------------------------------------------------------:|\n| `DiscordReadMessages`, `DiscordSendMessage` | [langchain-discord-shikenso](https://github.com/Shikenso-Analytics/langchain-discord) | N/A          | TBD                                                                             | ![PyPI - Version](https://img.shields.io/pypi/v/langchain-discord-shikenso?style=flat-square&label=%20) |\n\n### 工具特性\n\n- **`DiscordReadMessages`**: 从指定频道读取消息。\n- **`DiscordSendMessage`**: 将消息发送到指定频道。\n\n## 设置\n\n该集成由 `langchain-discord-shikenso` 包提供。请按以下方式安装它："
      ]
    },
    {
      "cell_type": "code",
      "execution_count": null,
      "id": "f85b4089",
      "metadata": {},
      "outputs": [],
      "source": [
        "%pip install --quiet -U langchain-discord-shikenso"
      ]
    },
    {
      "cell_type": "markdown",
      "id": "b15e9266",
      "metadata": {},
      "source": [
        "### 凭据\n\n此集成要求您将 `DISCORD_BOT_TOKEN` 设置为环境变量，以通过 Discord API 进行身份验证。\n\n```bash\nexport DISCORD_BOT_TOKEN=\"your-bot-token\"\n```"
      ]
    },
    {
      "cell_type": "code",
      "execution_count": null,
      "id": "e0b178a2-8816-40ca-b57c-ccdd86dde9c9",
      "metadata": {},
      "outputs": [],
      "source": [
        "import getpass\n",
        "import os\n",
        "\n",
        "# Example prompt to set your token if not already set:\n",
        "# if not os.environ.get(\"DISCORD_BOT_TOKEN\"):\n",
        "#     os.environ[\"DISCORD_BOT_TOKEN\"] = getpass.getpass(\"DISCORD Bot Token:\\n\")"
      ]
    },
    {
      "cell_type": "markdown",
      "id": "bc5ab717-fd27-4c59-b912-bdd099541478",
      "metadata": {},
      "source": "您可以选择设置 [LangSmith](https://smith.langchain.com/) 来进行追踪或观察："
    },
    {
      "cell_type": "code",
      "execution_count": null,
      "id": "a6c2f136-6367-4f1f-825d-ae741e1bf281",
      "metadata": {},
      "outputs": [],
      "source": [
        "# os.environ[\"LANGSMITH_TRACING\"] = \"true\"\n",
        "# os.environ[\"LANGSMITH_API_KEY\"] = getpass.getpass()"
      ]
    },
    {
      "cell_type": "markdown",
      "id": "1c97218f-f366-479d-8bf7-fe9f2f6df73f",
      "metadata": {},
      "source": [
        "## 实例化\n\n下面是一个如何实例化 `langchain_discord` 中的 Discord 工具的示例。请根据您的具体使用情况进行调整。"
      ]
    },
    {
      "cell_type": "code",
      "execution_count": null,
      "id": "8b3ddfe9-ca79-494c-a7ab-1f56d9407a64",
      "metadata": {},
      "outputs": [],
      "source": [
        "from langchain_discord.tools.discord_read_messages import DiscordReadMessages\n",
        "from langchain_discord.tools.discord_send_messages import DiscordSendMessage\n",
        "\n",
        "read_tool = DiscordReadMessages()\n",
        "send_tool = DiscordSendMessage()\n",
        "\n",
        "# Example usage:\n",
        "# response = read_tool({\"channel_id\": \"1234567890\", \"limit\": 5})\n",
        "# print(response)\n",
        "#\n",
        "# send_result = send_tool({\"message\": \"Hello from notebook!\", \"channel_id\": \"1234567890\"})\n",
        "# print(send_result)"
      ]
    },
    {
      "cell_type": "markdown",
      "id": "74147a1a",
      "metadata": {},
      "source": [
        "## 调用\n\n### 使用参数直接调用\n\n下面是一个使用字典中的关键字参数调用工具的简单示例。"
      ]
    },
    {
      "cell_type": "code",
      "execution_count": null,
      "id": "65310a8b-eb0c-4d9e-a618-4f4abe2414fc",
      "metadata": {},
      "outputs": [],
      "source": [
        "invocation_args = {\"channel_id\": \"1234567890\", \"limit\": 3}\n",
        "response = read_tool(invocation_args)\n",
        "response"
      ]
    },
    {
      "cell_type": "markdown",
      "id": "d6e73897",
      "metadata": {},
      "source": [
        "### 使用 ToolCall 调用\n\n如果你有一个由模型生成的 `ToolCall`，请将其以如下格式传递给 `tool.invoke()`。"
      ]
    },
    {
      "cell_type": "code",
      "execution_count": null,
      "id": "f90e33a7",
      "metadata": {},
      "outputs": [],
      "source": [
        "tool_call = {\n",
        "    \"args\": {\"channel_id\": \"1234567890\", \"limit\": 2},\n",
        "    \"id\": \"1\",\n",
        "    \"name\": read_tool.name,\n",
        "    \"type\": \"tool_call\",\n",
        "}\n",
        "\n",
        "tool.invoke(tool_call)"
      ]
    },
    {
      "metadata": {},
      "cell_type": "markdown",
      "source": [
        "## 链式调用\n\n下面是一个更完整的示例，展示了如何在链或代理与 LLM 中集成 `DiscordReadMessages` 和 `DiscordSendMessage` 工具。此示例假设您有一个函数（如 `create_react_agent`），该函数设置了一个 LangChain 风格的代理，能够适时调用工具。\n\n```python\n# 示例：在代理中使用 Discord 工具\n\nfrom langgraph.prebuilt import create_react_agent\nfrom langchain_discord.tools.discord_read_messages import DiscordReadMessages\nfrom langchain_discord.tools.discord_send_messages import DiscordSendMessage\n\n# 1. 实例化或配置您的语言模型\n# （用您实际的 LLM 替换，例如 ChatOpenAI(temperature=0)）\nllm = ...\n\n# 2. 创建 Discord 工具的实例\nread_tool = DiscordReadMessages()\nsend_tool = DiscordSendMessage()\n\n# 3. 构建一个可以使用这些工具的代理\nagent_executor = create_react_agent(llm, [read_tool, send_tool])\n\n# 4. 制定一个可能调用一个或两个工具的用户查询\nexample_query = \"请读取频道 1234567890 中最后 5 条消息\"\n\n# 5. 以流式模式执行代理（或您的代码结构中的任何方式）\nevents = agent_executor.stream(\n    {\"messages\": [(\"user\", example_query)]},\n    stream_mode=\"values\",\n)\n\n# 6. 打印模型响应（以及任何工具输出） arrival 时\nfor event in events:\n    event[\"messages\"][-1].pretty_print()\n```"
      ],
      "id": "659f9fbd-6fcf-445f-aa8c-72d8e60154bd"
    },
    {
      "cell_type": "markdown",
      "id": "4c01b53ad063d2c",
      "metadata": {},
      "source": [
        "## API 参考\n\n请参阅以下文件的文档字符串以了解使用详情、参数和高级配置：\n- [discord_read_messages.py](https://github.com/Shikenso-Analytics/langchain-discord/blob/main/langchain_discord/tools/discord_read_messages.py)\n- [discord_send_messages.py](https://github.com/Shikenso-Analytics/langchain-discord/blob/main/langchain_discord/tools/discord_send_messages.py)\n- [toolkits.py](https://github.com/Shikenso-Analytics/langchain-discord/blob/main/langchain_discord/toolkits.py)"
      ]
    }
  ],
  "metadata": {
    "kernelspec": {
      "display_name": "poetry-venv-311",
      "language": "python",
      "name": "poetry-venv-311"
    },
    "language_info": {
      "codemirror_mode": {
        "name": "ipython",
        "version": 3
      },
      "file_extension": ".py",
      "mimetype": "text/x-python",
      "name": "python",
      "nbconvert_exporter": "python",
      "pygments_lexer": "ipython3",
      "version": "3.11.9"
    }
  },
  "nbformat": 4,
  "nbformat_minor": 5
}