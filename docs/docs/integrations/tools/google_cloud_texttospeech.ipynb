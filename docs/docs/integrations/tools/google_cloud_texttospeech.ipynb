{
  "cells": [
    {
      "cell_type": "markdown",
      "id": "a991a6f8-1897-4f49-a191-ae3bdaeda856",
      "metadata": {},
      "source": [
        "# Google Cloud 文本转语音\n\n>[Google Cloud 文本转语音](https://cloud.google.com/text-to-speech) 使开发者能够合成听起来自然的语音，提供 100 多种嗓音，支持多种语言和变体。它应用了 DeepMind 在 WaveNet 方面的开创性研究以及 Google 的强大神经网络，以提供可能实现的最高保真度。\n>\n>它支持多种语言，包括英语、德语、波兰语、西班牙语、意大利语、法语、葡萄牙语和印地语。\n\n本 Notebook 展示了如何与 `Google Cloud Text-to-Speech API` 进行交互以实现语音合成功能。"
      ]
    },
    {
      "cell_type": "markdown",
      "id": "9eeb311e-e1bd-4959-8536-4d267f302eb3",
      "metadata": {},
      "source": [
        "首先，您需要设置一个 Google Cloud 项目。您可以遵循[此处](https://cloud.google.com/text-to-speech/docs/before-you-begin)的说明进行操作。"
      ]
    },
    {
      "cell_type": "code",
      "execution_count": null,
      "id": "0a309c0e-5310-4eaa-8af9-bcbc252e45da",
      "metadata": {},
      "outputs": [],
      "source": [
        "!pip install --upgrade langchain-google-community[texttospeech]"
      ]
    },
    {
      "cell_type": "markdown",
      "id": "5b86ad38-ac8a-4f0a-a492-01a6e3090c8c",
      "metadata": {},
      "source": [
        "## 实例化"
      ]
    },
    {
      "cell_type": "code",
      "execution_count": 8,
      "id": "e2efded2-894b-4683-89ed-2a6948913fa9",
      "metadata": {
        "execution": {
          "iopub.execute_input": "2024-09-01T17:47:31.565221Z",
          "iopub.status.busy": "2024-09-01T17:47:31.564804Z",
          "iopub.status.idle": "2024-09-01T17:47:31.570600Z",
          "shell.execute_reply": "2024-09-01T17:47:31.569764Z",
          "shell.execute_reply.started": "2024-09-01T17:47:31.565188Z"
        }
      },
      "outputs": [],
      "source": [
        "from langchain_google_community import TextToSpeechTool"
      ]
    },
    {
      "cell_type": "markdown",
      "id": "434b2454-2bff-484d-822c-4026a9dc1383",
      "metadata": {},
      "source": [
        "## 已弃用 GoogleCloudTextToSpeechTool"
      ]
    },
    {
      "cell_type": "code",
      "execution_count": 10,
      "id": "2f57a647-9214-4562-a8cf-f263a15d1f40",
      "metadata": {
        "execution": {
          "iopub.execute_input": "2024-09-01T17:51:28.763915Z",
          "iopub.status.busy": "2024-09-01T17:51:28.763664Z",
          "iopub.status.idle": "2024-09-01T17:51:28.779073Z",
          "shell.execute_reply": "2024-09-01T17:51:28.778477Z",
          "shell.execute_reply.started": "2024-09-01T17:51:28.763897Z"
        }
      },
      "outputs": [],
      "source": [
        "from langchain_community.tools import GoogleCloudTextToSpeechTool"
      ]
    },
    {
      "cell_type": "code",
      "execution_count": null,
      "id": "a2647bc5-e494-41f9-9f53-4a278ea30cc1",
      "metadata": {},
      "outputs": [],
      "source": [
        "text_to_speak = \"Hello world!\"\n",
        "\n",
        "tts = GoogleCloudTextToSpeechTool()\n",
        "tts.name"
      ]
    },
    {
      "cell_type": "markdown",
      "id": "d4613fed-66f0-47c6-be50-7e7670654427",
      "metadata": {},
      "source": [
        "我们可以生成音频，将其保存到临时文件，然后播放。"
      ]
    },
    {
      "cell_type": "code",
      "execution_count": 7,
      "id": "f1984844-aa75-4f83-9d42-1c8052d87cc0",
      "metadata": {},
      "outputs": [],
      "source": [
        "speech_file = tts.run(text_to_speak)"
      ]
    }
  ],
  "metadata": {
    "kernelspec": {
      "display_name": "Python 3 (ipykernel)",
      "language": "python",
      "name": "python3"
    },
    "language_info": {
      "codemirror_mode": {
        "name": "ipython",
        "version": 3
      },
      "file_extension": ".py",
      "mimetype": "text/x-python",
      "name": "python",
      "nbconvert_exporter": "python",
      "pygments_lexer": "ipython3",
      "version": "3.10.12"
    }
  },
  "nbformat": 4,
  "nbformat_minor": 5
}