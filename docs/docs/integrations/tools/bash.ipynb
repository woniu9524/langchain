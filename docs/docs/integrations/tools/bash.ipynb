{
  "cells": [
    {
      "cell_type": "markdown",
      "id": "8f210ec3",
      "metadata": {},
      "source": [
        "# Shell (bash)\n\n授予代理访问 shell 的能力非常强大（尽管在沙箱环境之外存在风险）。\n\nLLM 可以使用它来执行任何 shell 命令。一个常见的用例是让 LLM 与你的本地文件系统进行交互。\n\n**注意：** Shell 工具不适用于 Windows 操作系统。"
      ]
    },
    {
      "cell_type": "code",
      "execution_count": null,
      "id": "a83d2ea9",
      "metadata": {},
      "outputs": [],
      "source": [
        "%pip install --upgrade --quiet langchain-community"
      ]
    },
    {
      "cell_type": "code",
      "execution_count": 1,
      "id": "f7b3767b",
      "metadata": {
        "tags": []
      },
      "outputs": [],
      "source": [
        "from langchain_community.tools import ShellTool\n",
        "\n",
        "shell_tool = ShellTool()"
      ]
    },
    {
      "cell_type": "code",
      "execution_count": 2,
      "id": "c92ac832-556b-4f66-baa4-b78f965dfba0",
      "metadata": {
        "tags": []
      },
      "outputs": [
        {
          "name": "stdout",
          "output_type": "stream",
          "text": [
            "Hello World!\n",
            "\n",
            "real\t0m0.000s\n",
            "user\t0m0.000s\n",
            "sys\t0m0.000s\n",
            "\n"
          ]
        },
        {
          "name": "stderr",
          "output_type": "stream",
          "text": [
            "/Users/wfh/code/lc/lckg/langchain/tools/shell/tool.py:34: UserWarning: The shell tool has no safeguards by default. Use at your own risk.\n",
            "  warnings.warn(\n"
          ]
        }
      ],
      "source": [
        "print(shell_tool.run({\"commands\": [\"echo 'Hello World!'\", \"time\"]}))"
      ]
    },
    {
      "cell_type": "markdown",
      "id": "2fa952fc",
      "metadata": {},
      "source": [
        "### 与 Agent 配合使用\n\n与所有工具一样，可以将它们提供给 Agent 以完成更复杂的任务。让 Agent 从网页中抓取一些链接。"
      ]
    },
    {
      "cell_type": "code",
      "execution_count": null,
      "id": "7f056cc3-628d-46ba-b394-ee1d89f8650a",
      "metadata": {},
      "outputs": [
        {
          "name": "stdout",
          "output_type": "stream",
          "text": [
            "================================\u001b[1m Human Message \u001b[0m=================================\n",
            "\n",
            "Download the README here and identify the link for LangChain tutorials: https://raw.githubusercontent.com/langchain-ai/langchain/master/README.md\n",
            "==================================\u001b[1m Ai Message \u001b[0m==================================\n",
            "Tool Calls:\n",
            "  terminal (call_mr86V0d6E9nQiJZT7Xw5fH0G)\n",
            " Call ID: call_mr86V0d6E9nQiJZT7Xw5fH0G\n",
            "  Args:\n",
            "    commands: ['curl -o README.md https://raw.githubusercontent.com/langchain-ai/langchain/master/README.md']\n",
            "Executing command:\n",
            " ['curl -o README.md https://raw.githubusercontent.com/langchain-ai/langchain/master/README.md']\n",
            "=================================\u001b[1m Tool Message \u001b[0m=================================\n",
            "Name: terminal\n",
            "\n",
            "  % Total    % Received % Xferd  Average Speed   Time    Time     Time  Current\n",
            "                                 Dload  Upload   Total   Spent    Left  Speed\n",
            "100  5169  100  5169    0     0   114k      0 --:--:-- --:--:-- --:--:--  114k\n",
            "\n"
          ]
        },
        {
          "name": "stderr",
          "output_type": "stream",
          "text": [
            "/langchain/libs/community/langchain_community/tools/shell/tool.py:33: UserWarning: The shell tool has no safeguards by default. Use at your own risk.\n",
            "  warnings.warn(\n"
          ]
        },
        {
          "name": "stdout",
          "output_type": "stream",
          "text": [
            "==================================\u001b[1m Ai Message \u001b[0m==================================\n",
            "Tool Calls:\n",
            "  terminal (call_LF8TGrgS84WvUvaazYnVfib8)\n",
            " Call ID: call_LF8TGrgS84WvUvaazYnVfib8\n",
            "  Args:\n",
            "    commands: [\"grep -i 'tutorial' README.md\"]\n",
            "Executing command:\n",
            " [\"grep -i 'tutorial' README.md\"]\n",
            "=================================\u001b[1m Tool Message \u001b[0m=================================\n",
            "Name: terminal\n",
            "\n",
            "- [Tutorials](https://python.langchain.com/docs/tutorials/): Simple walkthroughs with\n",
            "\n"
          ]
        },
        {
          "name": "stderr",
          "output_type": "stream",
          "text": [
            "/langchain/libs/community/langchain_community/tools/shell/tool.py:33: UserWarning: The shell tool has no safeguards by default. Use at your own risk.\n",
            "  warnings.warn(\n"
          ]
        },
        {
          "name": "stdout",
          "output_type": "stream",
          "text": [
            "==================================\u001b[1m Ai Message \u001b[0m==================================\n",
            "\n",
            "The link for LangChain tutorials in the README is: https://python.langchain.com/docs/tutorials/\n"
          ]
        }
      ],
      "source": [
        "from langgraph.prebuilt import create_react_agent\n",
        "\n",
        "tools = [shell_tool]\n",
        "agent = create_react_agent(\"openai:gpt-4.1-mini\", tools)\n",
        "\n",
        "input_message = {\n",
        "    \"role\": \"user\",\n",
        "    \"content\": (\n",
        "        \"Download the README here and identify the link for LangChain tutorials: \"\n",
        "        \"https://raw.githubusercontent.com/langchain-ai/langchain/master/README.md\"\n",
        "    ),\n",
        "}\n",
        "\n",
        "for step in agent.stream(\n",
        "    {\"messages\": [input_message]},\n",
        "    stream_mode=\"values\",\n",
        "):\n",
        "    step[\"messages\"][-1].pretty_print()"
      ]
    },
    {
      "cell_type": "code",
      "execution_count": null,
      "id": "8d0ea3ac-0890-4e39-9cec-74bd80b4b8b8",
      "metadata": {},
      "outputs": [],
      "source": []
    }
  ],
  "metadata": {
    "kernelspec": {
      "display_name": "Python 3 (ipykernel)",
      "language": "python",
      "name": "python3"
    },
    "language_info": {
      "codemirror_mode": {
        "name": "ipython",
        "version": 3
      },
      "file_extension": ".py",
      "mimetype": "text/x-python",
      "name": "python",
      "nbconvert_exporter": "python",
      "pygments_lexer": "ipython3",
      "version": "3.10.4"
    }
  },
  "nbformat": 4,
  "nbformat_minor": 5
}