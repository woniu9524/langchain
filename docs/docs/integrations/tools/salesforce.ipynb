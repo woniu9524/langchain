{
  "cells": [
    {
      "cell_type": "markdown",
      "id": "563f3174",
      "metadata": {},
      "source": [
        "# Salesforce\n\n使用 LangChain 与 Salesforce CRM 交互的工具。\n\n## 概览\n\n`langchain-salesforce` 包将 LangChain 与 Salesforce CRM 集成，\n允许您从 LangChain 应用程序查询数据、管理记录和探索对象模式。\n\n### 主要功能\n\n- **SOQL 查询**: 执行 Salesforce 对象查询语言 (SOQL) 查询\n- **对象管理**: 对 Salesforce 对象执行创建、读取、更新和删除 (CRUD) 操作\n- **模式探索**: 描述对象模式并列出可用对象\n- **异步支持**: 支持异步操作\n- **错误处理**: 详细的错误消息\n- **环境变量支持**: 从环境变量加载凭据"
      ]
    },
    {
      "cell_type": "markdown",
      "id": "7fb27b941602401d91542211134fc71a",
      "metadata": {},
      "source": [
        "## 设置\n\n安装所需的依赖项：\n \n```bash\n pip install langchain-salesforce\n ```\n \n## 身份验证设置\n\n集成会自动检索这些环境变量。\n \n## 获取您的安全令牌\n \n如果您需要安全令牌：\n 1. 登录 Salesforce\n 2. 转到 设置 (Settings)\n 3. 在“我的个人信息 (My Personal Information)”下点击“重置我的安全令牌 (Reset My Security Token)”\n 4. 检查您的电子邮件以获取新令牌\n \n### 环境变量（推荐）\n \n 将您的 Salesforce 凭据设置为环境变量：\n \n ```bash\n export SALESFORCE_USERNAME=\"your-username@company.com\"\n export SALESFORCE_PASSWORD=\"your-password\"\n export SALESFORCE_SECURITY_TOKEN=\"your-security-token\"\n export SALESFORCE_DOMAIN=\"login\"  # 沙盒环境请使用 \"test\"\n ```"
      ]
    },
    {
      "cell_type": "markdown",
      "id": "dd32d0d8",
      "metadata": {},
      "source": [
        "## 实例化"
      ]
    },
    {
      "cell_type": "code",
      "execution_count": null,
      "id": "117ecaf8",
      "metadata": {},
      "outputs": [],
      "source": [
        "import os\n",
        "\n",
        "from langchain_salesforce import SalesforceTool\n",
        "\n",
        "username = os.getenv(\"SALESFORCE_USERNAME\", \"your-username\")\n",
        "password = os.getenv(\"SALESFORCE_PASSWORD\", \"your-password\")\n",
        "security_token = os.getenv(\"SALESFORCE_SECURITY_TOKEN\", \"your-security-token\")\n",
        "domain = os.getenv(\"SALESFORCE_DOMAIN\", \"login\")\n",
        "\n",
        "tool = SalesforceTool(\n",
        "    username=username, password=password, security_token=security_token, domain=domain\n",
        ")"
      ]
    },
    {
      "cell_type": "markdown",
      "id": "28c1a13e",
      "metadata": {},
      "source": [
        "## 调用"
      ]
    },
    {
      "cell_type": "code",
      "execution_count": null,
      "id": "e75623af",
      "metadata": {},
      "outputs": [],
      "source": [
        "def execute_salesforce_operation(\n",
        "    operation, object_name=None, query=None, record_data=None, record_id=None\n",
        "):\n",
        "    \"\"\"Executes a given Salesforce operation.\"\"\"\n",
        "    request = {\"operation\": operation}\n",
        "    if object_name:\n",
        "        request[\"object_name\"] = object_name\n",
        "    if query:\n",
        "        request[\"query\"] = query\n",
        "    if record_data:\n",
        "        request[\"record_data\"] = record_data\n",
        "    if record_id:\n",
        "        request[\"record_id\"] = record_id\n",
        "    result = tool.invoke(request)\n",
        "    return result"
      ]
    },
    {
      "cell_type": "markdown",
      "id": "d761883a",
      "metadata": {},
      "source": [
        "## 查询\n此示例从 Salesforce 查询 5 位联系人。"
      ]
    },
    {
      "cell_type": "code",
      "execution_count": null,
      "id": "5fb2e42b",
      "metadata": {},
      "outputs": [],
      "source": [
        "query_result = execute_salesforce_operation(\n",
        "    operation=\"query\", query=\"SELECT Id, Name, Email FROM Contact LIMIT 5\"\n",
        ")"
      ]
    },
    {
      "cell_type": "markdown",
      "id": "b917c89e",
      "metadata": {},
      "source": [
        "## 描述对象\n获取特定 Salesforce 对象的元数据。"
      ]
    },
    {
      "cell_type": "code",
      "execution_count": null,
      "id": "ef6ca50c",
      "metadata": {},
      "outputs": [],
      "source": [
        "describe_result = execute_salesforce_operation(\n",
        "    operation=\"describe\", object_name=\"Account\"\n",
        ")"
      ]
    },
    {
      "cell_type": "markdown",
      "id": "40ed4656",
      "metadata": {},
      "source": [
        "## 列出可用对象\n检索 Salesforce 实例中所有可用的对象。"
      ]
    },
    {
      "cell_type": "code",
      "execution_count": null,
      "id": "a7114bbc",
      "metadata": {},
      "outputs": [],
      "source": [
        "list_objects_result = execute_salesforce_operation(operation=\"list_objects\")"
      ]
    },
    {
      "cell_type": "markdown",
      "id": "6619fe12",
      "metadata": {},
      "source": [
        "## 创建新联系人\n在 Salesforce 中创建新的联系人记录。"
      ]
    },
    {
      "cell_type": "code",
      "execution_count": null,
      "id": "1e15980d",
      "metadata": {},
      "outputs": [],
      "source": [
        "create_result = execute_salesforce_operation(\n",
        "    operation=\"create\",\n",
        "    object_name=\"Contact\",\n",
        "    record_data={\"LastName\": \"Doe\", \"Email\": \"doe@example.com\"},\n",
        ")"
      ]
    },
    {
      "cell_type": "markdown",
      "id": "f8801882",
      "metadata": {},
      "source": [
        "## 更新联系人\n更新现有的联系人记录。"
      ]
    },
    {
      "cell_type": "code",
      "execution_count": null,
      "id": "2f4bd54c",
      "metadata": {},
      "outputs": [],
      "source": [
        "update_result = execute_salesforce_operation(\n",
        "    operation=\"update\",\n",
        "    object_name=\"Contact\",\n",
        "    record_id=\"003XXXXXXXXXXXXXXX\",\n",
        "    record_data={\"Email\": \"updated@example.com\"},\n",
        ")"
      ]
    },
    {
      "cell_type": "markdown",
      "id": "46dd7178",
      "metadata": {},
      "source": [
        "## 删除联系人\n从 Salesforce 中删除联系人记录。"
      ]
    },
    {
      "cell_type": "code",
      "execution_count": null,
      "id": "31830f80",
      "metadata": {},
      "outputs": [],
      "source": [
        "delete_result = execute_salesforce_operation(\n",
        "    operation=\"delete\", object_name=\"Contact\", record_id=\"003XXXXXXXXXXXXXXX\"\n",
        ")"
      ]
    },
    {
      "cell_type": "markdown",
      "id": "7f094544",
      "metadata": {},
      "source": [
        "## Chaining"
      ]
    },
    {
      "cell_type": "code",
      "execution_count": null,
      "id": "0e997f71",
      "metadata": {},
      "outputs": [],
      "source": [
        "from langchain_anthropic import ChatAnthropic\n",
        "from langchain_core.messages import HumanMessage\n",
        "from langchain_salesforce import SalesforceTool\n",
        "\n",
        "# Initialize the Salesforce tool\n",
        "tool = SalesforceTool(\n",
        "    username=username, password=password, security_token=security_token, domain=domain\n",
        ")\n",
        "\n",
        "# Initialize Anthropic LLM\n",
        "llm = ChatAnthropic(model=\"claude-sonnet-4-20250514\")\n",
        "\n",
        "# First, let's query some contacts to get real data\n",
        "contacts_query = {\n",
        "    \"operation\": \"query\",\n",
        "    \"query\": \"SELECT Id, Name, Email, Phone FROM Contact LIMIT 3\",\n",
        "}\n",
        "\n",
        "contacts_result = tool.invoke(contacts_query)\n",
        "\n",
        "# Now let's use the LLM to analyze and summarize the contact data\n",
        "if contacts_result and \"records\" in contacts_result:\n",
        "    contact_data = contacts_result[\"records\"]\n",
        "\n",
        "    # Create a message asking the LLM to analyze the contact data\n",
        "    analysis_prompt = f\"\"\"\n",
        "    Please analyze the following Salesforce contact data and provide insights:\n",
        "    \n",
        "    Contact Data: {contact_data}\n",
        "    \n",
        "    Please provide:\n",
        "    1. A summary of the contacts\n",
        "    2. Any patterns you notice\n",
        "    3. Suggestions for data quality improvements\n",
        "    \"\"\"\n",
        "\n",
        "    message = HumanMessage(content=analysis_prompt)\n",
        "    analysis_result = llm.invoke([message])\n",
        "\n",
        "    print(\"\\nLLM Analysis:\")\n",
        "    print(analysis_result.content)"
      ]
    },
    {
      "cell_type": "markdown",
      "id": "b8467ae7",
      "metadata": {},
      "source": [
        "## API Reference\n\n如需完整的文档和 API 参考，请参阅：\n\n- [langchain-salesforce README](https://github.com/colesmcintosh/langchain-salesforce/blob/main/README.md)\n- [Simple Salesforce Documentation](https://simple-salesforce.readthedocs.io/en/latest/)\n\n## 其他资源\n\n- [Salesforce SOQL Reference](https://developer.salesforce.com/docs/atlas.en-us.soql_sosl.meta/soql_sosl/)\n- [Salesforce REST API Developer Guide](https://developer.salesforce.com/docs/atlas.en-us.api_rest.meta/api_rest/)"
      ]
    }
  ],
  "metadata": {
    "kernelspec": {
      "display_name": ".venv",
      "language": "python",
      "name": "python3"
    },
    "language_info": {
      "codemirror_mode": {
        "name": "ipython",
        "version": 3
      },
      "file_extension": ".py",
      "mimetype": "text/x-python",
      "name": "python",
      "nbconvert_exporter": "python",
      "pygments_lexer": "ipython3",
      "version": "3.13.2"
    }
  },
  "nbformat": 4,
  "nbformat_minor": 5
}