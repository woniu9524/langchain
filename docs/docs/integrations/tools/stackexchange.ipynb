{
  "cells": [
    {
      "cell_type": "markdown",
      "metadata": {},
      "source": [
        "# StackExchange\n\n>[Stack Exchange](https://stackexchange.com/) 是一个问答 (Q&A) 网站网络，涵盖各个领域的 Q&A，每个网站专注于特定主题，其问题、答案和用户须经历声望奖励流程。声望系统使得网站能够自我管理。\n\n``StackExchange`` 组件将 StackExchange API 集成到 LangChain 中，允许访问 Stack Exchange 网络中的 [StackOverflow](https://stackoverflow.com/) 网站。Stack Overflow 专注于计算机编程。\n\n本笔记将介绍如何使用 ``StackExchange`` 组件。"
      ]
    },
    {
      "cell_type": "markdown",
      "metadata": {},
      "source": [
        "我们首先需要安装实现 Stack Exchange API 的 Python 包 stackapi。"
      ]
    },
    {
      "cell_type": "code",
      "execution_count": null,
      "metadata": {},
      "outputs": [],
      "source": [
        "pip install --upgrade stackapi"
      ]
    },
    {
      "cell_type": "code",
      "execution_count": null,
      "metadata": {},
      "outputs": [],
      "source": [
        "from langchain_community.utilities import StackExchangeAPIWrapper\n",
        "\n",
        "stackexchange = StackExchangeAPIWrapper()\n",
        "\n",
        "stackexchange.run(\"zsh: command not found: python\")"
      ]
    }
  ],
  "metadata": {
    "kernelspec": {
      "display_name": "Python 3 (ipykernel)",
      "language": "python",
      "name": "python3"
    },
    "language_info": {
      "codemirror_mode": {
        "name": "ipython",
        "version": 3
      },
      "file_extension": ".py",
      "mimetype": "text/x-python",
      "name": "python",
      "nbconvert_exporter": "python",
      "pygments_lexer": "ipython3",
      "version": "3.9.6"
    }
  },
  "nbformat": 4,
  "nbformat_minor": 2
}