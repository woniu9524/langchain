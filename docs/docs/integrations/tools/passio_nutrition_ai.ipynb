{
  "cells": [
    {
      "cell_type": "markdown",
      "id": "f4c03f40-1328-412d-8a48-1db0cd481b77",
      "metadata": {},
      "source": [
        "# Passio NutritionAI\n\n为了最好地了解 NutritionAI 如何赋予您的代理超强的食品营养能力，让我们构建一个通过 Passio NutritionAI 查找该信息的代理。\n\n## 定义工具\n\n我们首先需要创建 [Passio NutritionAI 工具](/docs/integrations/tools/passio_nutrition_ai)。"
      ]
    },
    {
      "cell_type": "markdown",
      "id": "c335d1bf",
      "metadata": {},
      "source": [
        "### [Passio Nutrition AI](/docs/integrations/tools/passio_nutrition_ai)\n\n在 LangChain 中，我们提供了一个内置工具，可以轻松使用 Passio NutritionAI 来查找食物营养成分。\n请注意，这需要 API 密钥 - 他们提供免费套餐。\n\n创建 API 密钥后，您需要将其导出为：\n\n```bash\nexport NUTRITIONAI_SUBSCRIPTION_KEY=\"...\"\n```\n\n或者通过其他方式（例如 `dotenv` 包）提供给您的 Python 环境。您也可以通过构造函数调用明确控制密钥。"
      ]
    },
    {
      "cell_type": "code",
      "execution_count": 10,
      "id": "482ce13d",
      "metadata": {},
      "outputs": [],
      "source": [
        "from dotenv import load_dotenv\n",
        "from langchain_core.utils import get_from_env\n",
        "\n",
        "load_dotenv()\n",
        "\n",
        "nutritionai_subscription_key = get_from_env(\n",
        "    \"nutritionai_subscription_key\", \"NUTRITIONAI_SUBSCRIPTION_KEY\"\n",
        ")"
      ]
    },
    {
      "cell_type": "code",
      "execution_count": 11,
      "id": "9cc86c0b",
      "metadata": {},
      "outputs": [],
      "source": [
        "from langchain_community.tools.passio_nutrition_ai import NutritionAI\n",
        "from langchain_community.utilities.passio_nutrition_ai import NutritionAIAPI"
      ]
    },
    {
      "cell_type": "code",
      "execution_count": 12,
      "id": "a94938a6",
      "metadata": {},
      "outputs": [],
      "source": [
        "nutritionai_search = NutritionAI(api_wrapper=NutritionAIAPI())"
      ]
    },
    {
      "cell_type": "code",
      "execution_count": null,
      "id": "873492ae-a44d-42ea-bd8a-52ada3b87c7c",
      "metadata": {},
      "outputs": [],
      "source": [
        "nutritionai_search.invoke(\"chicken tikka masala\")"
      ]
    },
    {
      "cell_type": "code",
      "execution_count": null,
      "id": "b3dc4aef-90b6-48db-ab66-e493609a6fe0",
      "metadata": {},
      "outputs": [],
      "source": [
        "nutritionai_search.invoke(\"Schnuck Markets sliced pepper jack cheese\")"
      ]
    },
    {
      "cell_type": "markdown",
      "id": "c3b47c1d",
      "metadata": {},
      "source": [
        "### 工具\n\n现在我们有了工具，就可以创建一份我们将在下游使用的工具列表。"
      ]
    },
    {
      "cell_type": "code",
      "execution_count": 15,
      "id": "b8e8e710",
      "metadata": {},
      "outputs": [],
      "source": [
        "tools = [nutritionai_search]"
      ]
    },
    {
      "cell_type": "markdown",
      "id": "40ccec80",
      "metadata": {},
      "source": [
        "## 创建代理\n\n现在我们已经定义了工具，就可以创建代理了。我们将使用一个 OpenAI Functions 代理——有关此类代理以及其他选项的更多信息，请参阅[本指南](/docs/concepts/agents)\n\n首先，我们选择想要指导代理的 LLM。"
      ]
    },
    {
      "cell_type": "code",
      "execution_count": 16,
      "id": "f70b0fad",
      "metadata": {},
      "outputs": [],
      "source": [
        "from langchain_openai import ChatOpenAI\n",
        "\n",
        "llm = ChatOpenAI(model=\"gpt-3.5-turbo\", temperature=0)"
      ]
    },
    {
      "cell_type": "markdown",
      "id": "5d1a95ce",
      "metadata": {},
      "source": [
        "接下来，我们选择要用于指导代理的 prompt。"
      ]
    },
    {
      "cell_type": "code",
      "execution_count": 17,
      "id": "af83d3e3",
      "metadata": {},
      "outputs": [
        {
          "data": {
            "text/plain": [
              "[SystemMessagePromptTemplate(prompt=PromptTemplate(input_variables=[], template='You are a helpful assistant')),\n",
              " MessagesPlaceholder(variable_name='chat_history', optional=True),\n",
              " HumanMessagePromptTemplate(prompt=PromptTemplate(input_variables=['input'], template='{input}')),\n",
              " MessagesPlaceholder(variable_name='agent_scratchpad')]"
            ]
          },
          "execution_count": 17,
          "metadata": {},
          "output_type": "execute_result"
        }
      ],
      "source": [
        "from langchain import hub\n",
        "\n",
        "# Get the prompt to use - you can modify this!\n",
        "prompt = hub.pull(\"hwchase17/openai-functions-agent\")\n",
        "prompt.messages"
      ]
    },
    {
      "cell_type": "markdown",
      "id": "f8014c9d",
      "metadata": {},
      "source": [
        "现在，我们可以使用 LLM、提示和工具初始化 agent。agent 负责接收输入并决定采取什么操作。至关重要的是，Agent 不会执行这些操作——这些操作由 AgentExecutor 执行（下一步）。有关如何理解这些组件的更多信息，请参阅我们的[概念指南](/docs/concepts/agents)"
      ]
    },
    {
      "cell_type": "code",
      "execution_count": 18,
      "id": "89cf72b4-6046-4b47-8f27-5522d8cb8036",
      "metadata": {},
      "outputs": [],
      "source": [
        "from langchain.agents import create_openai_functions_agent\n",
        "\n",
        "agent = create_openai_functions_agent(llm, tools, prompt)"
      ]
    },
    {
      "cell_type": "markdown",
      "id": "1a58c9f8",
      "metadata": {},
      "source": [
        "最后，我们将代理（大脑）与工具组合在 `AgentExecutor` 中（它将反复调用代理并执行工具）。有关如何理解这些组件的更多信息，请参阅我们的[概念指南](/docs/concepts/agents)"
      ]
    },
    {
      "cell_type": "code",
      "execution_count": 19,
      "id": "ce33904a",
      "metadata": {},
      "outputs": [],
      "source": [
        "from langchain.agents import AgentExecutor\n",
        "\n",
        "agent_executor = AgentExecutor(agent=agent, tools=tools, verbose=True)"
      ]
    },
    {
      "cell_type": "markdown",
      "id": "e4df0e06",
      "metadata": {},
      "source": [
        "## 运行代理 (agent)\n\n我们现在可以用几个查询来运行代理了！请注意，目前这些都是**无状态**查询（它不会记住之前的交互）。"
      ]
    },
    {
      "cell_type": "code",
      "execution_count": 20,
      "id": "114ba50d",
      "metadata": {},
      "outputs": [
        {
          "name": "stdout",
          "output_type": "stream",
          "text": [
            "\n",
            "\n",
            "\u001b[1m> Entering new AgentExecutor chain...\u001b[0m\n",
            "\u001b[32;1m\u001b[1;3mHello! How can I assist you today?\u001b[0m\n",
            "\n",
            "\u001b[1m> Finished chain.\u001b[0m\n"
          ]
        },
        {
          "data": {
            "text/plain": [
              "{'input': 'hi!', 'output': 'Hello! How can I assist you today?'}"
            ]
          },
          "execution_count": 20,
          "metadata": {},
          "output_type": "execute_result"
        }
      ],
      "source": [
        "agent_executor.invoke({\"input\": \"hi!\"})"
      ]
    },
    {
      "cell_type": "code",
      "execution_count": null,
      "id": "35341a3a-e660-4b6e-a84b-da6037e13e1e",
      "metadata": {},
      "outputs": [],
      "source": [
        "agent_executor.invoke({\"input\": \"how many calories are in a slice pepperoni pizza?\"})"
      ]
    },
    {
      "cell_type": "markdown",
      "id": "07b3bcf2",
      "metadata": {},
      "source": [
        "如果想自动跟踪这些消息，我们可以将其包装在 `RunnableWithMessageHistory` 中。有关如何使用它的更多信息，请参阅[本指南](/docs/how_to/message_history)。"
      ]
    },
    {
      "cell_type": "code",
      "execution_count": null,
      "id": "504b5056-2d20-49f9-b617-0c8a7698cfb3",
      "metadata": {},
      "outputs": [],
      "source": [
        "agent_executor.invoke(\n",
        "    {\"input\": \"I had bacon and eggs for breakfast.  How many calories is that?\"}\n",
        ")"
      ]
    },
    {
      "cell_type": "code",
      "execution_count": null,
      "id": "eb7074df-be99-4679-9b0a-c1d2f6d6937b",
      "metadata": {},
      "outputs": [],
      "source": [
        "agent_executor.invoke(\n",
        "    {\n",
        "        \"input\": \"I had sliced pepper jack cheese for a snack.  How much protein did I have?\"\n",
        "    }\n",
        ")"
      ]
    },
    {
      "cell_type": "code",
      "execution_count": null,
      "id": "0527196b-ba22-4535-aec7-101e56ad4aa1",
      "metadata": {},
      "outputs": [],
      "source": [
        "agent_executor.invoke(\n",
        "    {\n",
        "        \"input\": \"I had sliced colby cheese for a snack. Give me calories for this Schnuck Markets product.\"\n",
        "    }\n",
        ")"
      ]
    },
    {
      "cell_type": "code",
      "execution_count": null,
      "id": "6a23529b-b0f8-4030-af64-fe85b221df0e",
      "metadata": {},
      "outputs": [],
      "source": [
        "agent_executor.invoke(\n",
        "    {\n",
        "        \"input\": \"I had chicken tikka masala for dinner.  how much calories, protein, and fat did I have with default quantity?\"\n",
        "    }\n",
        ")"
      ]
    },
    {
      "cell_type": "markdown",
      "id": "c029798f",
      "metadata": {},
      "source": [
        "## 结论\n\n本次内容到此结束！在本快速入门指南中，我们学习了如何创建一个简单的代理，该代理能够将食物营养信息融入其回答中。代理是一个复杂的话题，有很多需要学习的地方！"
      ]
    },
    {
      "cell_type": "markdown",
      "id": "1d20cebd",
      "metadata": {},
      "source": []
    }
  ],
  "metadata": {
    "kernelspec": {
      "display_name": "Python 3 (ipykernel)",
      "language": "python",
      "name": "python3"
    },
    "language_info": {
      "codemirror_mode": {
        "name": "ipython",
        "version": 3
      },
      "file_extension": ".py",
      "mimetype": "text/x-python",
      "name": "python",
      "nbconvert_exporter": "python",
      "pygments_lexer": "ipython3",
      "version": "3.11.8"
    }
  },
  "nbformat": 4,
  "nbformat_minor": 5
}