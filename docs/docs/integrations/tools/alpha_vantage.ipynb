{
  "cells": [
    {
      "cell_type": "markdown",
      "id": "245a954a",
      "metadata": {
        "id": "245a954a"
      },
      "source": [
        "# Alpha Vantage\n\n>[Alpha Vantage](https://www.alphavantage.co) Alpha Vantage 通过一套强大且对开发者友好的数据 API 和电子表格提供实时和历史金融市场数据。\n\n使用 ``AlphaVantageAPIWrapper`` 获取货币汇率。"
      ]
    },
    {
      "cell_type": "code",
      "execution_count": 1,
      "id": "34bb5968",
      "metadata": {
        "id": "34bb5968"
      },
      "outputs": [],
      "source": [
        "import getpass\n",
        "import os\n",
        "\n",
        "os.environ[\"ALPHAVANTAGE_API_KEY\"] = getpass.getpass()"
      ]
    },
    {
      "cell_type": "code",
      "execution_count": 2,
      "id": "ac4910f8",
      "metadata": {
        "id": "ac4910f8"
      },
      "outputs": [],
      "source": [
        "from langchain_community.utilities.alpha_vantage import AlphaVantageAPIWrapper"
      ]
    },
    {
      "cell_type": "code",
      "execution_count": 3,
      "id": "84b8f773",
      "metadata": {
        "id": "84b8f773"
      },
      "outputs": [
        {
          "data": {
            "text/plain": [
              "{'Realtime Currency Exchange Rate': {'1. From_Currency Code': 'USD',\n",
              "  '2. From_Currency Name': 'United States Dollar',\n",
              "  '3. To_Currency Code': 'JPY',\n",
              "  '4. To_Currency Name': 'Japanese Yen',\n",
              "  '5. Exchange Rate': '148.19900000',\n",
              "  '6. Last Refreshed': '2023-11-30 21:43:02',\n",
              "  '7. Time Zone': 'UTC',\n",
              "  '8. Bid Price': '148.19590000',\n",
              "  '9. Ask Price': '148.20420000'}}"
            ]
          },
          "execution_count": 3,
          "metadata": {},
          "output_type": "execute_result"
        }
      ],
      "source": [
        "alpha_vantage = AlphaVantageAPIWrapper()\n",
        "alpha_vantage._get_exchange_rate(\"USD\", \"JPY\")"
      ]
    },
    {
      "cell_type": "markdown",
      "id": "8309d09d",
      "metadata": {},
      "source": [
        "`_get_time_series_daily` 方法返回指定全球股权的日期、每日开盘价、每日最高价、每日最低价、每日收盘价和每日交易量，涵盖最近 100 个数据点。"
      ]
    },
    {
      "cell_type": "code",
      "execution_count": null,
      "id": "811ae207",
      "metadata": {},
      "outputs": [],
      "source": [
        "alpha_vantage._get_time_series_daily(\"IBM\")"
      ]
    },
    {
      "cell_type": "markdown",
      "id": "b5e46a71",
      "metadata": {},
      "source": [
        "`_get_time_series_weekly` 方法返回指定全球股票上周的最后一个交易日、周开盘价、周最高价、周最低价、周收盘价以及周交易量，涵盖了 20 多年的历史数据。"
      ]
    },
    {
      "cell_type": "code",
      "execution_count": null,
      "id": "f0dfe35b",
      "metadata": {},
      "outputs": [],
      "source": [
        "alpha_vantage._get_time_series_weekly(\"IBM\")"
      ]
    },
    {
      "cell_type": "markdown",
      "id": "66cc06a7",
      "metadata": {},
      "source": [
        "`_get_quote_endpoint` 方法是时间序列 API 的一个轻量级替代方案，它返回指定代码的最新价格和成交量信息。"
      ]
    },
    {
      "cell_type": "code",
      "execution_count": 6,
      "id": "98d012ef",
      "metadata": {},
      "outputs": [
        {
          "data": {
            "text/plain": [
              "{'Global Quote': {'01. symbol': 'IBM',\n",
              "  '02. open': '156.9000',\n",
              "  '03. high': '158.6000',\n",
              "  '04. low': '156.8900',\n",
              "  '05. price': '158.5400',\n",
              "  '06. volume': '6640217',\n",
              "  '07. latest trading day': '2023-11-30',\n",
              "  '08. previous close': '156.4100',\n",
              "  '09. change': '2.1300',\n",
              "  '10. change percent': '1.3618%'}}"
            ]
          },
          "execution_count": 6,
          "metadata": {},
          "output_type": "execute_result"
        }
      ],
      "source": [
        "alpha_vantage._get_quote_endpoint(\"IBM\")"
      ]
    },
    {
      "cell_type": "markdown",
      "id": "3429ce50",
      "metadata": {},
      "source": [
        "`search_symbol` 方法根据输入的文本返回符号列表以及匹配的公司信息。"
      ]
    },
    {
      "cell_type": "code",
      "execution_count": null,
      "id": "0ccd55b0",
      "metadata": {},
      "outputs": [],
      "source": [
        "alpha_vantage.search_symbols(\"IB\")"
      ]
    },
    {
      "cell_type": "markdown",
      "id": "96e1fd97",
      "metadata": {},
      "source": [
        "`_get_market_news_sentiment` 方法为指定资产返回实时和历史市场新闻情绪。"
      ]
    },
    {
      "cell_type": "code",
      "execution_count": null,
      "id": "42995acb",
      "metadata": {},
      "outputs": [],
      "source": [
        "alpha_vantage._get_market_news_sentiment(\"IBM\")"
      ]
    },
    {
      "cell_type": "markdown",
      "id": "2fdbd888",
      "metadata": {},
      "source": [
        "`_get_top_gainers_losers` 方法返回美国市场中前 20 名的上涨股、下跌股和最活跃股票。"
      ]
    },
    {
      "cell_type": "code",
      "execution_count": null,
      "id": "61c3cb1c",
      "metadata": {},
      "outputs": [],
      "source": [
        "alpha_vantage._get_top_gainers_losers()"
      ]
    },
    {
      "cell_type": "markdown",
      "id": "3d1cf3d8",
      "metadata": {},
      "source": [
        "wrapper 的 `run` 方法接受以下参数：from_currency, to_currency。\n\n它获取给定货币对的货币兑换汇率。"
      ]
    },
    {
      "cell_type": "code",
      "execution_count": 9,
      "id": "068991a6",
      "metadata": {
        "id": "068991a6",
        "outputId": "c5cdc6ec-03cf-4084-cc6f-6ae792d91d39"
      },
      "outputs": [
        {
          "data": {
            "text/plain": [
              "{'1. From_Currency Code': 'USD',\n",
              " '2. From_Currency Name': 'United States Dollar',\n",
              " '3. To_Currency Code': 'JPY',\n",
              " '4. To_Currency Name': 'Japanese Yen',\n",
              " '5. Exchange Rate': '148.19900000',\n",
              " '6. Last Refreshed': '2023-11-30 21:43:02',\n",
              " '7. Time Zone': 'UTC',\n",
              " '8. Bid Price': '148.19590000',\n",
              " '9. Ask Price': '148.20420000'}"
            ]
          },
          "execution_count": 9,
          "metadata": {},
          "output_type": "execute_result"
        }
      ],
      "source": [
        "alpha_vantage.run(\"USD\", \"JPY\")"
      ]
    }
  ],
  "metadata": {
    "colab": {
      "provenance": []
    },
    "kernelspec": {
      "display_name": "Python 3 (ipykernel)",
      "language": "python",
      "name": "python3"
    },
    "language_info": {
      "codemirror_mode": {
        "name": "ipython",
        "version": 3
      },
      "file_extension": ".py",
      "mimetype": "text/x-python",
      "name": "python",
      "nbconvert_exporter": "python",
      "pygments_lexer": "ipython3",
      "version": "3.9.1"
    },
    "vscode": {
      "interpreter": {
        "hash": "53f3bc57609c7a84333bb558594977aa5b4026b1d6070b93987956689e367341"
      }
    }
  },
  "nbformat": 4,
  "nbformat_minor": 5
}