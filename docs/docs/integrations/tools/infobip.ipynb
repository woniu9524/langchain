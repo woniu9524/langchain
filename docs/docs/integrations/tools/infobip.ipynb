{
  "cells": [
    {
      "cell_type": "markdown",
      "metadata": {},
      "source": [
        "# Infobip\n本笔记本展示了如何使用 [Infobip](https://www.infobip.com/) API 包装器发送短信、电子邮件。\n\nInfobip 提供多项服务，但本笔记本将重点关注短信和电子邮件服务。您可以在[此处](https://www.infobip.com/docs/api)找到有关 API 和其他渠道的更多信息。"
      ]
    },
    {
      "cell_type": "markdown",
      "metadata": {},
      "source": [
        "## 设置\n\n要使用此工具，您需要拥有一个 Infobip 账户。您可以创建一个[免费试用账户](https://www.infobip.com/docs/essentials/free-trial)。\n\n`InfobipAPIWrapper` 使用命名参数，您可以在其中提供凭据：\n\n- `infobip_api_key` - 您可以在[开发者工具](https://portal.infobip.com/dev/api-keys)中找到的[API 密钥](https://www.infobip.com/docs/essentials/api-authentication#api-key-header)\n- `infobip_base_url` - Infobip API 的[基础 URL](https://www.infobip.com/docs/essentials/base-url)。您可以使用默认值 `https://api.infobip.com/`。\n\n您也可以将 `infobip_api_key` 和 `infobip_base_url` 作为环境变量 `INFOBIP_API_KEY` 和 `INFOBIP_BASE_URL` 提供。"
      ]
    },
    {
      "cell_type": "markdown",
      "metadata": {},
      "source": [
        "## 发送短信"
      ]
    },
    {
      "cell_type": "code",
      "execution_count": null,
      "metadata": {
        "vscode": {
          "languageId": "plaintext"
        }
      },
      "outputs": [],
      "source": [
        "from langchain_community.utilities.infobip import InfobipAPIWrapper\n",
        "\n",
        "infobip: InfobipAPIWrapper = InfobipAPIWrapper()\n",
        "\n",
        "infobip.run(\n",
        "    to=\"41793026727\",\n",
        "    text=\"Hello, World!\",\n",
        "    sender=\"Langchain\",\n",
        "    channel=\"sms\",\n",
        ")"
      ]
    },
    {
      "cell_type": "markdown",
      "metadata": {},
      "source": [
        "## 发送电子邮件"
      ]
    },
    {
      "cell_type": "code",
      "execution_count": null,
      "metadata": {
        "vscode": {
          "languageId": "plaintext"
        }
      },
      "outputs": [],
      "source": [
        "from langchain_community.utilities.infobip import InfobipAPIWrapper\n",
        "\n",
        "infobip: InfobipAPIWrapper = InfobipAPIWrapper()\n",
        "\n",
        "infobip.run(\n",
        "    to=\"test@example.com\",\n",
        "    sender=\"test@example.com\",\n",
        "    subject=\"example\",\n",
        "    body=\"example\",\n",
        "    channel=\"email\",\n",
        ")"
      ]
    },
    {
      "cell_type": "markdown",
      "metadata": {},
      "source": [
        "# 如何在 Agent 中使用它"
      ]
    },
    {
      "cell_type": "code",
      "execution_count": null,
      "metadata": {
        "vscode": {
          "languageId": "plaintext"
        }
      },
      "outputs": [],
      "source": [
        "from langchain import hub\n",
        "from langchain.agents import AgentExecutor, create_openai_functions_agent\n",
        "from langchain_community.utilities.infobip import InfobipAPIWrapper\n",
        "from langchain_core.tools import StructuredTool\n",
        "from langchain_openai import ChatOpenAI\n",
        "from pydantic import BaseModel, Field\n",
        "\n",
        "instructions = \"You are a coding teacher. You are teaching a student how to code. The student asks you a question. You answer the question.\"\n",
        "base_prompt = hub.pull(\"langchain-ai/openai-functions-template\")\n",
        "prompt = base_prompt.partial(instructions=instructions)\n",
        "llm = ChatOpenAI(temperature=0)\n",
        "\n",
        "\n",
        "class EmailInput(BaseModel):\n",
        "    body: str = Field(description=\"Email body text\")\n",
        "    to: str = Field(description=\"Email address to send to. Example: email@example.com\")\n",
        "    sender: str = Field(\n",
        "        description=\"Email address to send from, must be 'validemail@example.com'\"\n",
        "    )\n",
        "    subject: str = Field(description=\"Email subject\")\n",
        "    channel: str = Field(description=\"Email channel, must be 'email'\")\n",
        "\n",
        "\n",
        "infobip_api_wrapper: InfobipAPIWrapper = InfobipAPIWrapper()\n",
        "infobip_tool = StructuredTool.from_function(\n",
        "    name=\"infobip_email\",\n",
        "    description=\"Send Email via Infobip. If you need to send email, use infobip_email\",\n",
        "    func=infobip_api_wrapper.run,\n",
        "    args_schema=EmailInput,\n",
        ")\n",
        "tools = [infobip_tool]\n",
        "\n",
        "agent = create_openai_functions_agent(llm, tools, prompt)\n",
        "agent_executor = AgentExecutor(\n",
        "    agent=agent,\n",
        "    tools=tools,\n",
        "    verbose=True,\n",
        ")\n",
        "\n",
        "agent_executor.invoke(\n",
        "    {\n",
        "        \"input\": \"Hi, can you please send me an example of Python recursion to my email email@example.com\"\n",
        "    }\n",
        ")"
      ]
    },
    {
      "cell_type": "markdown",
      "metadata": {},
      "source": [
        "```bash\n> 正在进入新的 AgentExecutor 链...\n\n正在调用: `infobip_email` 使用 `{'body': '你好，\\n\\n这是一个简单的 Python 递归函数示例：\\n\\n```\\ndef factorial(n):\\n    if n == 1:\\n        return 1\\n    else:\\n        return n * factorial(n-1)\\n```\\n\\n此函数用于计算数字的阶乘。数字的阶乘是所有小于等于该数的正整数的乘积。该函数使用较小的参数调用自身，直到达到 n 等于 1 的基本情况。\\n\\n祝好，\\nCoding Teacher', 'to': 'email@example.com', 'sender': 'validemail@example.com', 'subject': 'Python 递归示例', 'channel': 'email'}`\n\n\n我已将 Python 递归示例发送到您的邮箱。请查收您的收件箱。\n\n> 已完成链。\n```"
      ]
    }
  ],
  "metadata": {
    "language_info": {
      "name": "python"
    }
  },
  "nbformat": 4,
  "nbformat_minor": 2
}