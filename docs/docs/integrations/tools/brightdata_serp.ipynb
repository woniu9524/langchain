{
  "cells": [
    {
      "cell_type": "markdown",
      "id": "a6f91f20",
      "metadata": {},
      "source": [
        "# BrightDataSERP\n\n[Bright Data](https://brightdata.com/) 提供了一个强大的 SERP API，允许您使用地理定位和高级自定义选项查询搜索引擎（Google、Bing、DuckDuckGo、Yandex），这对于需要实时网络信息的 AI 代理特别有用。\n\n## 概览\n\n### 集成详情\n\n| 类 | 包 | 可序列化 | JS 支持 | 包最新版本 |\n| :-- | :-- | :--: | :--: | :--: |\n| [BrightDataSERP](https://pypi.org/project/langchain-brightdata/) | [langchain-brightdata](https://pypi.org/project/langchain-brightdata/) | ✅ | ❌ | ![PyPI - Version](https://img.shields.io/pypi/v/langchain-brightdata?style=flat-square&label=%20) |\n\n### 工具特性\n\n| 原生异步 | 返回工件 | 返回数据 | 定价 |\n| :--: | :--: | :-- | :-- |\n| ❌ | ❌ | 标题、URL、摘要、位置和其他搜索结果数据 | 需要 Bright Data 账户 |\n\n## 设置\n\n该集成位于 `langchain-brightdata` 包中。"
      ]
    },
    {
      "cell_type": "raw",
      "id": "f85b4089",
      "metadata": {},
      "source": [
        "pip install langchain-brightdata"
      ]
    },
    {
      "cell_type": "markdown",
      "id": "b15e9266",
      "metadata": {},
      "source": [
        "### 凭证\n\n您需要一个 Bright Data API 密钥才能使用此工具。您可以将其设置为环境变量："
      ]
    },
    {
      "cell_type": "code",
      "execution_count": 2,
      "id": "e0b178a2-8816-40ca-b57c-ccdd86dde9c9",
      "metadata": {},
      "outputs": [],
      "source": [
        "import os\n",
        "\n",
        "os.environ[\"BRIGHT_DATA_API_KEY\"] = \"your-api-key\""
      ]
    },
    {
      "cell_type": "markdown",
      "id": "bc5ab717-fd27-4c59-b912-bdd099541478",
      "metadata": {},
      "source": [
        "或者在初始化工具时直接传递："
      ]
    },
    {
      "cell_type": "code",
      "execution_count": 3,
      "id": "a6c2f136-6367-4f1f-825d-ae741e1bf281",
      "metadata": {},
      "outputs": [],
      "source": [
        "from langchain_brightdata import BrightDataSERP\n",
        "\n",
        "serp_tool = BrightDataSERP(bright_data_api_key=\"your-api-key\")"
      ]
    },
    {
      "cell_type": "markdown",
      "id": "eed8cfcc",
      "metadata": {},
      "source": [
        "## 实例化\n\n这里我们展示如何实例化 BrightDataSERP 工具的实例。该工具允许您执行搜索引擎查询，并提供各种自定义选项，包括地理定位、语言偏好、设备类型模拟以及使用 Bright Data 的 SERP API 进行特定类型的搜索。\n\n该工具在实例化时接受各种参数：\n\n- `bright_data_api_key` (必需, str): 用于身份验证的 Bright Data API 密钥。\n- `search_engine` (可选, str): 用于查询的搜索引擎。默认为 \"google\"。其他选项包括 \"bing\", \"yahoo\", \"yandex\", \"DuckDuckGo\" 等。\n- `country` (可选, str): 用于本地化搜索结果的两位字母国家代码（例如 \"us\", \"gb\", \"de\", \"jp\"）。默认为 \"us\"。\n- `language` (可选, str): 用于搜索结果的两位字母语言代码（例如 \"en\", \"es\", \"fr\", \"de\"）。默认为 \"en\"。\n- `results_count` (可选, int): 要返回的搜索结果数量。默认为 10。最大值通常为 100。\n- `search_type` (可选, str): 要执行的搜索类型。选项包括：\n    - None (默认): 常规网页搜索\n    - \"isch\": 图片搜索\n    - \"shop\": 购物搜索\n    - \"nws\": 新闻搜索\n    - \"jobs\": 工作搜索\n- `device_type` (可选, str): 要模拟用于搜索的设备类型。选项包括：\n    - None (默认): 桌面设备\n    - \"mobile\": 通用移动设备\n    - \"ios\": iOS 设备 (iPhone)\n    - \"android\": Android 设备\n- `parse_results` (可选, bool): 是否返回解析后的 JSON 结果。默认为 False，这将返回原始 HTML 响应。"
      ]
    },
    {
      "cell_type": "markdown",
      "id": "1c97218f-f366-479d-8bf7-fe9f2f6df73f",
      "metadata": {},
      "source": [
        "## 调用"
      ]
    },
    {
      "cell_type": "markdown",
      "id": "902dc1fd",
      "metadata": {},
      "source": [
        "### 基本用法"
      ]
    },
    {
      "cell_type": "code",
      "execution_count": null,
      "id": "8b3ddfe9-ca79-494c-a7ab-1f56d9407a64",
      "metadata": {},
      "outputs": [],
      "source": [
        "from langchain_brightdata import BrightDataSERP\n",
        "\n",
        "# Initialize the tool\n",
        "serp_tool = BrightDataSERP(\n",
        "    bright_data_api_key=\"your-api-key\"  # Optional if set in environment variables\n",
        ")\n",
        "\n",
        "# Run a basic search\n",
        "results = serp_tool.invoke(\"latest AI research papers\")\n",
        "\n",
        "print(results)"
      ]
    },
    {
      "cell_type": "markdown",
      "id": "74147a1a",
      "metadata": {},
      "source": [
        "### 高级用法及参数"
      ]
    },
    {
      "cell_type": "code",
      "execution_count": null,
      "id": "65310a8b-eb0c-4d9e-a618-4f4abe2414fc",
      "metadata": {},
      "outputs": [],
      "source": [
        "from langchain_brightdata import BrightDataSERP\n",
        "\n",
        "# Initialize with default parameters\n",
        "serp_tool = BrightDataSERP(\n",
        "    bright_data_api_key=\"your-api-key\",\n",
        "    search_engine=\"google\",  # Default\n",
        "    country=\"us\",  # Default\n",
        "    language=\"en\",  # Default\n",
        "    results_count=10,  # Default\n",
        "    parse_results=True,  # Get structured JSON results\n",
        ")\n",
        "\n",
        "# Use with specific parameters for this search\n",
        "results = serp_tool.invoke(\n",
        "    {\n",
        "        \"query\": \"best electric vehicles\",\n",
        "        \"country\": \"de\",  # Get results as if searching from Germany\n",
        "        \"language\": \"de\",  # Get results in German\n",
        "        \"search_type\": \"shop\",  # Get shopping results\n",
        "        \"device_type\": \"mobile\",  # Simulate a mobile device\n",
        "        \"results_count\": 15,\n",
        "    }\n",
        ")\n",
        "\n",
        "print(results)"
      ]
    },
    {
      "cell_type": "markdown",
      "id": "d6e73897",
      "metadata": {},
      "source": [
        "## 自定义选项\n\nBrightDataSERP 工具接受几个参数进行自定义：\n\n|参数|类型|描述|\n|:--|:--|:--|\n|`query`|str|要执行的搜索查询|\n|`search_engine`|str|要使用的搜索引擎（默认值：“google”）|\n|`country`|str|用于本地化结果的两位国家代码（默认值：“us”）|\n|`language`|str|两位语言代码（默认值：“en”）|\n|`results_count`|int|要返回的结果数（默认值：10）|\n|`search_type`|str|搜索类型：None（网页）、\"isch\"（图片）、\"shop\"（商店）、\"nws\"（新闻）、\"jobs\"（职位）|\n|`device_type`|str|设备类型：None（桌面）、\"mobile\"（移动设备）、\"ios\"、\"android\"|\n|`parse_results`|bool|是否返回结构化 JSON（默认值：False）|"
      ]
    },
    {
      "cell_type": "markdown",
      "id": "e3353ce6",
      "metadata": {},
      "source": [
        "## 在代理中使用\n\nThis section explains how to integrate **"
      ]
    },
    {
      "cell_type": "code",
      "execution_count": null,
      "id": "8c91c32f",
      "metadata": {},
      "outputs": [],
      "source": [
        "from langchain_brightdata import BrightDataSERP\n",
        "from langchain_google_genai import ChatGoogleGenerativeAI\n",
        "from langgraph.prebuilt import create_react_agent\n",
        "\n",
        "# Initialize the LLM\n",
        "llm = ChatGoogleGenerativeAI(model=\"gemini-2.0-flash\", google_api_key=\"your-api-key\")\n",
        "\n",
        "# Initialize the Bright Data SERP tool\n",
        "serp_tool = BrightDataSERP(\n",
        "    bright_data_api_key=\"your-api-key\",\n",
        "    search_engine=\"google\",\n",
        "    country=\"us\",\n",
        "    language=\"en\",\n",
        "    results_count=10,\n",
        "    parse_results=True,\n",
        ")\n",
        "\n",
        "# Create the agent\n",
        "agent = create_react_agent(llm, [serp_tool])\n",
        "\n",
        "# Provide a user query\n",
        "user_input = \"Search for 'best electric vehicles' shopping results in Germany in German using mobile.\"\n",
        "\n",
        "# Stream the agent's output step-by-step\n",
        "for step in agent.stream(\n",
        "    {\"messages\": user_input},\n",
        "    stream_mode=\"values\",\n",
        "):\n",
        "    step[\"messages\"][-1].pretty_print()"
      ]
    },
    {
      "cell_type": "markdown",
      "id": "e8dec55a",
      "metadata": {},
      "source": [
        "## API 参考\n\n- [Bright Data API 文档](https://docs.brightdata.com/scraping-automation/serp-api/introduction)"
      ]
    }
  ],
  "metadata": {
    "kernelspec": {
      "display_name": "Python 3",
      "language": "python",
      "name": "python3"
    },
    "language_info": {
      "codemirror_mode": {
        "name": "ipython",
        "version": 3
      },
      "file_extension": ".py",
      "mimetype": "text/x-python",
      "name": "python",
      "nbconvert_exporter": "python",
      "pygments_lexer": "ipython3",
      "version": "3.10.16"
    }
  },
  "nbformat": 4,
  "nbformat_minor": 5
}