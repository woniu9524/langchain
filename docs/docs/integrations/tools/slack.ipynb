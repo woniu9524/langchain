{
  "cells": [
    {
      "cell_type": "markdown",
      "metadata": {},
      "source": [
        "# Slack 工具包\n\n这将帮助您开始使用 Slack [工具包](/docs/concepts/tools/#toolkits)。有关所有 SlackToolkit 功能和配置的详细文档，请参阅 [API 参考](https://python.langchain.com/api_reference/community/agent_toolkits/langchain_community.agent_toolkits.slack.toolkit.SlackToolkit.html)。\n\n## 设置\n\n要使用此工具包，您需要按照 [Slack API 文档](https://api.slack.com/tutorials/tracks/getting-a-token) 中的说明获取令牌。收到 SLACK_USER_TOKEN 后，您可以在下方将其作为环境变量输入。"
      ]
    },
    {
      "cell_type": "code",
      "execution_count": null,
      "metadata": {},
      "outputs": [],
      "source": [
        "import getpass\n",
        "import os\n",
        "\n",
        "if not os.getenv(\"SLACK_USER_TOKEN\"):\n",
        "    os.environ[\"SLACK_USER_TOKEN\"] = getpass.getpass(\"Enter your Slack user token: \")"
      ]
    },
    {
      "cell_type": "markdown",
      "metadata": {},
      "source": "要启用对单个工具的自动跟踪，请设置您的 [LangSmith](https://docs.smith.langchain.com/) API 密钥："
    },
    {
      "cell_type": "code",
      "execution_count": null,
      "metadata": {},
      "outputs": [],
      "source": [
        "# os.environ[\"LANGSMITH_API_KEY\"] = getpass.getpass(\"Enter your LangSmith API key: \")\n",
        "# os.environ[\"LANGSMITH_TRACING\"] = \"true\""
      ]
    },
    {
      "cell_type": "markdown",
      "metadata": {},
      "source": [
        "### 安装\n\n此工具包位于 `langchain-community` 包中。我们还需要 Slack SDK："
      ]
    },
    {
      "cell_type": "code",
      "execution_count": null,
      "metadata": {},
      "outputs": [],
      "source": [
        "%pip install -qU langchain-community slack_sdk"
      ]
    },
    {
      "cell_type": "markdown",
      "metadata": {},
      "source": [
        "我们也可以选择安装 beautifulsoup4 来辅助解析 HTML 消息："
      ]
    },
    {
      "cell_type": "code",
      "execution_count": null,
      "metadata": {},
      "outputs": [],
      "source": [
        "%pip install -qU beautifulsoup4 # This is optional but is useful for parsing HTML messages"
      ]
    },
    {
      "cell_type": "markdown",
      "metadata": {},
      "source": [
        "## 实例化\n\n现在我们可以实例化我们的工具集："
      ]
    },
    {
      "cell_type": "code",
      "execution_count": 2,
      "metadata": {},
      "outputs": [],
      "source": [
        "from langchain_community.agent_toolkits import SlackToolkit\n",
        "\n",
        "toolkit = SlackToolkit()"
      ]
    },
    {
      "cell_type": "markdown",
      "metadata": {},
      "source": [
        "## 工具\n\n查看可用工具："
      ]
    },
    {
      "cell_type": "code",
      "execution_count": 3,
      "metadata": {},
      "outputs": [
        {
          "data": {
            "text/plain": [
              "[SlackGetChannel(client=<slack_sdk.web.client.WebClient object at 0x113caa8c0>),\n",
              " SlackGetMessage(client=<slack_sdk.web.client.WebClient object at 0x113caa4d0>),\n",
              " SlackScheduleMessage(client=<slack_sdk.web.client.WebClient object at 0x113caa440>),\n",
              " SlackSendMessage(client=<slack_sdk.web.client.WebClient object at 0x113caa410>)]"
            ]
          },
          "execution_count": 3,
          "metadata": {},
          "output_type": "execute_result"
        }
      ],
      "source": [
        "tools = toolkit.get_tools()\n",
        "\n",
        "tools"
      ]
    },
    {
      "cell_type": "markdown",
      "metadata": {},
      "source": [
        "此工具包加载：\n\n- [SlackGetChannel](https://python.langchain.com/api_reference/community/tools/langchain_community.tools.slack.get_channel.SlackGetChannel.html)\n- [SlackGetMessage](https://python.langchain.com/api_reference/community/tools/langchain_community.tools.slack.get_message.SlackGetMessage.html)\n- [SlackScheduleMessage](https://python.langchain.com/api_reference/community/tools/langchain_community.tools.slack.schedule_message.SlackScheduleMessage.html)\n- [SlackSendMessage](https://python.langchain.com/api_reference/community/tools/langchain_community.tools.slack.send_message.SlackSendMessage.html)"
      ]
    },
    {
      "cell_type": "markdown",
      "metadata": {},
      "source": [
        "## 在 Agent 中使用\n\n让我们为 Agent 装备 Slack 工具包，并查询有关频道的信息。"
      ]
    },
    {
      "cell_type": "code",
      "execution_count": 7,
      "metadata": {},
      "outputs": [],
      "source": [
        "from langchain_openai import ChatOpenAI\n",
        "from langgraph.prebuilt import create_react_agent\n",
        "\n",
        "llm = ChatOpenAI(model=\"gpt-4o-mini\")\n",
        "\n",
        "agent_executor = create_react_agent(llm, tools)"
      ]
    },
    {
      "cell_type": "code",
      "execution_count": 5,
      "metadata": {},
      "outputs": [
        {
          "name": "stdout",
          "output_type": "stream",
          "text": [
            "================================\u001b[1m Human Message \u001b[0m=================================\n",
            "\n",
            "When was the #general channel created?\n",
            "==================================\u001b[1m Ai Message \u001b[0m==================================\n",
            "Tool Calls:\n",
            "  get_channelid_name_dict (call_NXDkALjoOx97uF1v0CoZTqtJ)\n",
            " Call ID: call_NXDkALjoOx97uF1v0CoZTqtJ\n",
            "  Args:\n",
            "==================================\u001b[1m Ai Message \u001b[0m==================================\n",
            "\n",
            "The #general channel was created on timestamp 1671043305.\n"
          ]
        }
      ],
      "source": [
        "example_query = \"When was the #general channel created?\"\n",
        "\n",
        "events = agent_executor.stream(\n",
        "    {\"messages\": [(\"user\", example_query)]},\n",
        "    stream_mode=\"values\",\n",
        ")\n",
        "for event in events:\n",
        "    message = event[\"messages\"][-1]\n",
        "    if message.type != \"tool\":  # mask sensitive information\n",
        "        event[\"messages\"][-1].pretty_print()"
      ]
    },
    {
      "cell_type": "code",
      "execution_count": 13,
      "metadata": {},
      "outputs": [
        {
          "name": "stdout",
          "output_type": "stream",
          "text": [
            "================================\u001b[1m Human Message \u001b[0m=================================\n",
            "\n",
            "Send a friendly greeting to channel C072Q1LP4QM.\n",
            "==================================\u001b[1m Ai Message \u001b[0m==================================\n",
            "Tool Calls:\n",
            "  send_message (call_xQxpv4wFeAZNZgSBJRIuaizi)\n",
            " Call ID: call_xQxpv4wFeAZNZgSBJRIuaizi\n",
            "  Args:\n",
            "    message: Hello! Have a great day!\n",
            "    channel: C072Q1LP4QM\n",
            "==================================\u001b[1m Ai Message \u001b[0m==================================\n",
            "\n",
            "I have sent a friendly greeting to the channel C072Q1LP4QM.\n"
          ]
        }
      ],
      "source": [
        "example_query = \"Send a friendly greeting to channel C072Q1LP4QM.\"\n",
        "\n",
        "events = agent_executor.stream(\n",
        "    {\"messages\": [(\"user\", example_query)]},\n",
        "    stream_mode=\"values\",\n",
        ")\n",
        "for event in events:\n",
        "    message = event[\"messages\"][-1]\n",
        "    if message.type != \"tool\":  # mask sensitive information\n",
        "        event[\"messages\"][-1].pretty_print()"
      ]
    },
    {
      "cell_type": "markdown",
      "metadata": {},
      "source": [
        "## API 参考\n\n有关 `SlackToolkit` 所有功能和配置的详细文档，请访问 [API 参考](https://python.langchain.com/api_reference/community/agent_toolkits/langchain_community.agent_toolkits.slack.toolkit.SlackToolkit.html)。"
      ]
    }
  ],
  "metadata": {
    "kernelspec": {
      "display_name": "Python 3 (ipykernel)",
      "language": "python",
      "name": "python3"
    },
    "language_info": {
      "codemirror_mode": {
        "name": "ipython",
        "version": 3
      },
      "file_extension": ".py",
      "mimetype": "text/x-python",
      "name": "python",
      "nbconvert_exporter": "python",
      "pygments_lexer": "ipython3",
      "version": "3.10.4"
    }
  },
  "nbformat": 4,
  "nbformat_minor": 4
}