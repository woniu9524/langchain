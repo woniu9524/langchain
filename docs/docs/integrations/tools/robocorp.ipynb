{
  "cells": [
    {
      "cell_type": "markdown",
      "id": "e49f1e0d",
      "metadata": {},
      "source": [
        "# Robocorp Toolkit\n\n此笔记本涵盖了如何开始使用 [Robocorp Action Server](https://github.com/robocorp/robocorp) action toolkit 和 LangChain。\n\nRobocorp 是将 AI 代理、助手和副驾驶的功能扩展到自定义操作的最简单方法。\n\n## 安装\n\n首先，请参阅 [Robocorp Quickstart](https://github.com/robocorp/robocorp#quickstart)，了解如何设置 `Action Server` 和创建你的 Actions。\n\n在你的 LangChain 应用程序中，安装 `langchain-robocorp` 包："
      ]
    },
    {
      "cell_type": "code",
      "execution_count": null,
      "id": "4c3bef91",
      "metadata": {
        "scrolled": true
      },
      "outputs": [],
      "source": [
        "# Install package\n",
        "%pip install --upgrade --quiet langchain-robocorp"
      ]
    },
    {
      "cell_type": "markdown",
      "id": "dd53ad19-4a62-46d1-a2f7-151cfd282590",
      "metadata": {},
      "source": [
        "当你按照上面的快速入门创建新的 `Action Server` 时。\n\n它将创建一个包含文件的目录，其中有 `action.py`。\n\n我们可以添加 Python 函数作为 action，如[此处](https://github.com/robocorp/robocorp/tree/master/actions#describe-your-action)所示。\n\n我们来为 `action.py` 添加一个虚拟函数。\n\n```python\n@action\ndef get_weather_forecast(city: str, days: int, scale: str = \"celsius\") -> str:\n    \"\"\"\n    Returns weather conditions forecast for a given city.\n\n    Args:\n        city (str): Target city to get the weather conditions for\n        days: How many day forecast to return\n        scale (str): Temperature scale to use, should be one of \"celsius\" or \"fahrenheit\"\n\n    Returns:\n        str: The requested weather conditions forecast\n    \"\"\"\n    return \"75F and sunny :)\"\n```\n\n然后我们启动服务器：\n\n```bash\naction-server start\n```\n\n然后我们就可以看到：\n\n```\nFound new action: get_weather_forecast\n\n```\n\n在本地测试，请访问正在运行的服务器 `http://localhost:8080`，并使用 UI 来运行该函数。"
      ]
    },
    {
      "cell_type": "markdown",
      "id": "2b4f3e15",
      "metadata": {},
      "source": [
        "## 环境设置\n\n您还可以选择设置以下环境变量：\n\n- `LANGSMITH_TRACING=true`：启用 LangSmith 日志运行跟踪，该跟踪也可以绑定到相应的 Action Server 操作运行日志。更多信息请参阅 [LangSmith 文档](https://docs.smith.langchain.com/tracing#log-runs)。\n\n## 用法\n\n我们已经启动了本地操作服务器，如下所示，运行在 `http://localhost:8080`。"
      ]
    },
    {
      "cell_type": "code",
      "execution_count": 7,
      "id": "62e0dbc3",
      "metadata": {
        "tags": []
      },
      "outputs": [
        {
          "name": "stdout",
          "output_type": "stream",
          "text": [
            "\n",
            "\n",
            "\u001b[1m> Entering new AgentExecutor chain...\u001b[0m\n",
            "\u001b[32;1m\u001b[1;3m\n",
            "Invoking: `robocorp_action_server_get_weather_forecast` with `{'city': 'San Francisco', 'days': 1, 'scale': 'fahrenheit'}`\n",
            "\n",
            "\n",
            "\u001b[0m\u001b[33;1m\u001b[1;3m\"75F and sunny :)\"\u001b[0m\u001b[32;1m\u001b[1;3mThe current weather today in San Francisco is 75F and sunny.\u001b[0m\n",
            "\n",
            "\u001b[1m> Finished chain.\u001b[0m\n"
          ]
        },
        {
          "data": {
            "text/plain": [
              "{'input': 'What is the current weather today in San Francisco in fahrenheit?',\n",
              " 'output': 'The current weather today in San Francisco is 75F and sunny.'}"
            ]
          },
          "execution_count": 7,
          "metadata": {},
          "output_type": "execute_result"
        }
      ],
      "source": [
        "from langchain.agents import AgentExecutor, OpenAIFunctionsAgent\n",
        "from langchain_core.messages import SystemMessage\n",
        "from langchain_openai import ChatOpenAI\n",
        "from langchain_robocorp import ActionServerToolkit\n",
        "\n",
        "# Initialize LLM chat model\n",
        "llm = ChatOpenAI(model=\"gpt-4\", temperature=0)\n",
        "\n",
        "# Initialize Action Server Toolkit\n",
        "toolkit = ActionServerToolkit(url=\"http://localhost:8080\", report_trace=True)\n",
        "tools = toolkit.get_tools()\n",
        "\n",
        "# Initialize Agent\n",
        "system_message = SystemMessage(content=\"You are a helpful assistant\")\n",
        "prompt = OpenAIFunctionsAgent.create_prompt(system_message)\n",
        "agent = OpenAIFunctionsAgent(llm=llm, prompt=prompt, tools=tools)\n",
        "\n",
        "executor = AgentExecutor(agent=agent, tools=tools, verbose=True)\n",
        "\n",
        "executor.invoke(\"What is the current weather today in San Francisco in fahrenheit?\")"
      ]
    },
    {
      "cell_type": "markdown",
      "id": "aa9fbbf5",
      "metadata": {},
      "source": [
        "### 单输入工具\n\n默认情况下，`toolkit.get_tools()` 将返回结构化工具形式的动作。\n\n要返回单输入工具，请传递一个用于处理输入的 Chat 模型。"
      ]
    },
    {
      "cell_type": "code",
      "execution_count": 9,
      "id": "1dc7db86",
      "metadata": {},
      "outputs": [],
      "source": [
        "# Initialize single input Action Server Toolkit\n",
        "toolkit = ActionServerToolkit(url=\"http://localhost:8080\")\n",
        "tools = toolkit.get_tools(llm=llm)"
      ]
    }
  ],
  "metadata": {
    "kernelspec": {
      "display_name": "Python 3 (ipykernel)",
      "language": "python",
      "name": "python3"
    },
    "language_info": {
      "codemirror_mode": {
        "name": "ipython",
        "version": 3
      },
      "file_extension": ".py",
      "mimetype": "text/x-python",
      "name": "python",
      "nbconvert_exporter": "python",
      "pygments_lexer": "ipython3",
      "version": "3.10.12"
    }
  },
  "nbformat": 4,
  "nbformat_minor": 5
}