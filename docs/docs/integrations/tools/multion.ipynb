{
  "cells": [
    {
      "cell_type": "markdown",
      "metadata": {},
      "source": [
        "# MultiOn 工具包\n \n[MultiON](https://www.multion.ai/blog/multion-building-a-brighter-future-for-humanity-with-ai-agents) 构建了一个可以与广泛的 Web 服务和应用程序交互的 AI 代理。\n \n本笔记本将引导您在浏览器中将 LangChain 连接到 `MultiOn` 客户端。\n \n这将实现利用 MultiON 代理功能定制的代理工作流。\n \n要使用此工具包，您需要在浏览器中添加 `MultiOn 扩展`：\n \n* 创建一个 [MultiON 账户](https://app.multion.ai/login?callbackUrl=%2Fprofile)。\n* 添加 [MultiOn Chrome 扩展](https://multion.notion.site/Download-MultiOn-ddddcfe719f94ab182107ca2612c07a5)。"
      ]
    },
    {
      "cell_type": "code",
      "execution_count": null,
      "metadata": {
        "scrolled": true
      },
      "outputs": [],
      "source": [
        "%pip install --upgrade --quiet  multion langchain -q"
      ]
    },
    {
      "cell_type": "code",
      "execution_count": null,
      "metadata": {},
      "outputs": [],
      "source": [
        "%pip install -qU langchain-community"
      ]
    },
    {
      "cell_type": "code",
      "execution_count": 37,
      "metadata": {},
      "outputs": [
        {
          "data": {
            "text/plain": [
              "MultionToolkit()"
            ]
          },
          "execution_count": 37,
          "metadata": {},
          "output_type": "execute_result"
        }
      ],
      "source": [
        "from langchain_community.agent_toolkits import MultionToolkit\n",
        "\n",
        "toolkit = MultionToolkit()\n",
        "toolkit"
      ]
    },
    {
      "cell_type": "code",
      "execution_count": 38,
      "metadata": {},
      "outputs": [
        {
          "data": {
            "text/plain": [
              "[MultionCreateSession(), MultionUpdateSession(), MultionCloseSession()]"
            ]
          },
          "execution_count": 38,
          "metadata": {},
          "output_type": "execute_result"
        }
      ],
      "source": [
        "tools = toolkit.get_tools()\n",
        "tools"
      ]
    },
    {
      "cell_type": "markdown",
      "metadata": {},
      "source": [
        "## MultiOn 设置\n\n创建账户后，请前往 https://app.multion.ai/ 创建一个 API 密钥。\n\n登录以建立与您扩展程序的连接。"
      ]
    },
    {
      "cell_type": "code",
      "execution_count": 39,
      "metadata": {},
      "outputs": [
        {
          "name": "stdout",
          "output_type": "stream",
          "text": [
            "Logged in.\n"
          ]
        }
      ],
      "source": [
        "# Authorize connection to your Browser extention\n",
        "import multion\n",
        "\n",
        "multion.login()"
      ]
    },
    {
      "cell_type": "markdown",
      "metadata": {},
      "source": [
        "## 在 Agent 中使用 Multion Toolkit\n\n这将使用 MultiON Chrome 扩展来执行所需的操作。\n\n我们可以运行以下命令，并查看 [trace](https://smith.langchain.com/public/34aaf36d-204a-4ce3-a54e-4a0976f09670/r) 来了解：\n\n* Agent 使用 `create_multion_session` 工具\n* 然后使用 MultiON 执行查询"
      ]
    },
    {
      "cell_type": "code",
      "execution_count": 40,
      "metadata": {},
      "outputs": [],
      "source": [
        "from langchain import hub\n",
        "from langchain.agents import AgentExecutor, create_openai_functions_agent\n",
        "from langchain_openai import ChatOpenAI"
      ]
    },
    {
      "cell_type": "code",
      "execution_count": 41,
      "metadata": {},
      "outputs": [],
      "source": [
        "# Prompt\n",
        "instructions = \"\"\"You are an assistant.\"\"\"\n",
        "base_prompt = hub.pull(\"langchain-ai/openai-functions-template\")\n",
        "prompt = base_prompt.partial(instructions=instructions)"
      ]
    },
    {
      "cell_type": "code",
      "execution_count": 32,
      "metadata": {},
      "outputs": [],
      "source": [
        "# LLM\n",
        "llm = ChatOpenAI(temperature=0)"
      ]
    },
    {
      "cell_type": "code",
      "execution_count": 42,
      "metadata": {},
      "outputs": [],
      "source": [
        "# Agent\n",
        "agent = create_openai_functions_agent(llm, toolkit.get_tools(), prompt)\n",
        "agent_executor = AgentExecutor(\n",
        "    agent=agent,\n",
        "    tools=toolkit.get_tools(),\n",
        "    verbose=False,\n",
        ")"
      ]
    },
    {
      "cell_type": "code",
      "execution_count": 46,
      "metadata": {},
      "outputs": [
        {
          "name": "stdout",
          "output_type": "stream",
          "text": [
            "WARNING: 'new_session' is deprecated and will be removed in a future version. Use 'create_session' instead.\n",
            "WARNING: 'update_session' is deprecated and will be removed in a future version. Use 'step_session' instead.\n",
            "WARNING: 'update_session' is deprecated and will be removed in a future version. Use 'step_session' instead.\n",
            "WARNING: 'update_session' is deprecated and will be removed in a future version. Use 'step_session' instead.\n",
            "WARNING: 'update_session' is deprecated and will be removed in a future version. Use 'step_session' instead.\n"
          ]
        },
        {
          "data": {
            "text/plain": [
              "{'input': 'Use multion to how AlphaCodium works, a recently released code language model.',\n",
              " 'output': 'AlphaCodium is a recently released code language model that is designed to assist developers in writing code more efficiently. It is based on advanced machine learning techniques and natural language processing. AlphaCodium can understand and generate code in multiple programming languages, making it a versatile tool for developers.\\n\\nThe model is trained on a large dataset of code snippets and programming examples, allowing it to learn patterns and best practices in coding. It can provide suggestions and auto-complete code based on the context and the desired outcome.\\n\\nAlphaCodium also has the ability to analyze code and identify potential errors or bugs. It can offer recommendations for improving code quality and performance.\\n\\nOverall, AlphaCodium aims to enhance the coding experience by providing intelligent assistance and reducing the time and effort required to write high-quality code.\\n\\nFor more detailed information, you can visit the official AlphaCodium website or refer to the documentation and resources available online.\\n\\nI hope this helps! Let me know if you have any other questions.'}"
            ]
          },
          "execution_count": 46,
          "metadata": {},
          "output_type": "execute_result"
        }
      ],
      "source": [
        "agent_executor.invoke(\n",
        "    {\n",
        "        \"input\": \"Use multion to explain how AlphaCodium works, a recently released code language model.\"\n",
        "    }\n",
        ")"
      ]
    }
  ],
  "metadata": {
    "kernelspec": {
      "display_name": "Python 3 (ipykernel)",
      "language": "python",
      "name": "python3"
    },
    "language_info": {
      "codemirror_mode": {
        "name": "ipython",
        "version": 3
      },
      "file_extension": ".py",
      "mimetype": "text/x-python",
      "name": "python",
      "nbconvert_exporter": "python",
      "pygments_lexer": "ipython3",
      "version": "3.9.16"
    }
  },
  "nbformat": 4,
  "nbformat_minor": 4
}