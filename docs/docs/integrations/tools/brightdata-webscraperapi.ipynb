{
  "cells": [
    {
      "cell_type": "markdown",
      "metadata": {},
      "source": [
        "# BrightDataWebScraperAPI"
      ]
    },
    {
      "cell_type": "markdown",
      "metadata": {},
      "source": [
        "[Bright Data](https://brightdata.com/) 提供了一个强大的 Web Scraper API，可以让你从 100 多个热门域名提取结构化数据，包括 Amazon 产品详情、LinkedIn 个人资料等，这对于需要可靠结构化网络数据源的 AI 代理来说尤其有用。"
      ]
    },
    {
      "cell_type": "markdown",
      "metadata": {},
      "source": [
        "## 概述"
      ]
    },
    {
      "cell_type": "markdown",
      "metadata": {},
      "source": [
        "### 集成详情\n\n|类名|包名|可序列化|JS 支持|包最新版本|\n|:--|:--|:-:|:-:|:-:|\n|![BrightDataWebScraperAPI](https://pypi.org/project/langchain-brightdata/)|![langchain-brightdata](https://pypi.org/project/langchain-brightdata/)|✅|❌|![PyPI - Version](https://img.shields.io/pypi/v/langchain-brightdata?style=flat-square&label=%20)|\n\n### 工具特性\n\n|原生异步支持|返回工件|返回数据|定价|\n|:-:|:-:|:--|:-:|\n|❌|❌|网站结构化数据（亚马逊产品、领英个人资料等）|需要 Bright Data 账户|"
      ]
    },
    {
      "cell_type": "markdown",
      "metadata": {},
      "source": [
        "## 设置\n\n集成位于 `langchain-brightdata` 包中。"
      ]
    },
    {
      "cell_type": "code",
      "execution_count": null,
      "metadata": {
        "vscode": {
          "languageId": "plaintext"
        }
      },
      "outputs": [],
      "source": [
        "pip install langchain-brightdata"
      ]
    },
    {
      "cell_type": "markdown",
      "metadata": {},
      "source": [
        "您需要一个 Bright Data API 密钥才能使用此工具。您可以将其设置为环境变量："
      ]
    },
    {
      "cell_type": "code",
      "execution_count": null,
      "metadata": {
        "vscode": {
          "languageId": "plaintext"
        }
      },
      "outputs": [],
      "source": [
        "import os\n",
        "\n",
        "os.environ[\"BRIGHT_DATA_API_KEY\"] = \"your-api-key\""
      ]
    },
    {
      "cell_type": "markdown",
      "metadata": {},
      "source": [
        "或者直接在初始化工具时传入："
      ]
    },
    {
      "cell_type": "code",
      "execution_count": null,
      "metadata": {
        "vscode": {
          "languageId": "plaintext"
        }
      },
      "outputs": [],
      "source": [
        "from langchain_brightdata import BrightDataWebScraperAPI\n",
        "\n",
        "scraper_tool = BrightDataWebScraperAPI(bright_data_api_key=\"your-api-key\")"
      ]
    },
    {
      "cell_type": "markdown",
      "metadata": {},
      "source": [
        "## 实例化\n\n此处展示了如何实例化一个 BrightDataWebScraperAPI 工具实例。该工具允许您从各类网站提取结构化数据，包括亚马逊产品详情、领英个人主页等，全部使用 Bright Data 的数据集 API。\n\n该工具在实例化时接受多个参数：\n\n- `bright_data_api_key` (必需, str): 您的 Bright Data API 密钥，用于身份验证。\n- `dataset_mapping` (可选, Dict[str, str]): 一个字典，用于将数据集类型映射到其对应的 Bright Data 数据集 ID。默认映射包括：\n    - \"amazon_product\": \"gd_l7q7dkf244hwjntr0\"\n    - \"amazon_product_reviews\": \"gd_le8e811kzy4ggddlq\"\n    - \"linkedin_person_profile\": \"gd_l1viktl72bvl7bjuj0\"\n    - \"linkedin_company_profile\": \"gd_l1vikfnt1wgvvqz95w\""
      ]
    },
    {
      "cell_type": "markdown",
      "metadata": {},
      "source": [
        "## 调用\n\n### 基本用法"
      ]
    },
    {
      "cell_type": "code",
      "execution_count": null,
      "metadata": {
        "vscode": {
          "languageId": "plaintext"
        }
      },
      "outputs": [],
      "source": [
        "from langchain_brightdata import BrightDataWebScraperAPI\n",
        "\n",
        "# Initialize the tool\n",
        "scraper_tool = BrightDataWebScraperAPI(\n",
        "    bright_data_api_key=\"your-api-key\"  # Optional if set in environment variables\n",
        ")\n",
        "\n",
        "# Extract Amazon product data\n",
        "results = scraper_tool.invoke(\n",
        "    {\"url\": \"https://www.amazon.com/dp/B08L5TNJHG\", \"dataset_type\": \"amazon_product\"}\n",
        ")\n",
        "\n",
        "print(results)"
      ]
    },
    {
      "cell_type": "markdown",
      "metadata": {},
      "source": [
        "### 带参数的高级用法"
      ]
    },
    {
      "cell_type": "code",
      "execution_count": null,
      "metadata": {
        "vscode": {
          "languageId": "plaintext"
        }
      },
      "outputs": [],
      "source": [
        "from langchain_brightdata import BrightDataWebScraperAPI\n",
        "\n",
        "# Initialize with default parameters\n",
        "scraper_tool = BrightDataWebScraperAPI(bright_data_api_key=\"your-api-key\")\n",
        "\n",
        "# Extract Amazon product data with location-specific pricing\n",
        "results = scraper_tool.invoke(\n",
        "    {\n",
        "        \"url\": \"https://www.amazon.com/dp/B08L5TNJHG\",\n",
        "        \"dataset_type\": \"amazon_product\",\n",
        "        \"zipcode\": \"10001\",  # Get pricing for New York City\n",
        "    }\n",
        ")\n",
        "\n",
        "print(results)\n",
        "\n",
        "# Extract LinkedIn profile data\n",
        "linkedin_results = scraper_tool.invoke(\n",
        "    {\n",
        "        \"url\": \"https://www.linkedin.com/in/satyanadella/\",\n",
        "        \"dataset_type\": \"linkedin_person_profile\",\n",
        "    }\n",
        ")\n",
        "\n",
        "print(linkedin_results)"
      ]
    },
    {
      "cell_type": "markdown",
      "metadata": {},
      "source": [
        "## Customization Options\n\nThe BrightDataWebScraperAPI tool accepts several parameters for customization:\n\n|Parameter|Type|Description|\n|:--|:--|:--|\n|`url`|str|The URL to extract data from|\n|`dataset_type`|str|Type of dataset to use (e.g., \"amazon_product\")|\n|`zipcode`|str|Optional zipcode for location-specific data|\n"
      ]
    },
    {
      "cell_type": "markdown",
      "metadata": {},
      "source": [
        "## 可用的数据集类型\n\n该工具支持以下结构化数据提取的数据集类型：\n\n| 数据集类型 | 描述 |\n| :-- | :-- |\n| `amazon_product` | 提取详细的亚马逊产品数据 |\n| `amazon_product_reviews` | 提取亚马逊产品评论 |\n| `linkedin_person_profile` | 提取领英个人资料数据 |\n| `linkedin_company_profile` | 提取领英公司资料数据 |"
      ]
    },
    {
      "cell_type": "markdown",
      "metadata": {},
      "source": [
        "## 在 Agent 中使用"
      ]
    },
    {
      "cell_type": "code",
      "execution_count": null,
      "metadata": {
        "vscode": {
          "languageId": "plaintext"
        }
      },
      "outputs": [],
      "source": [
        "from langchain_brightdata import BrightDataWebScraperAPI\n",
        "from langchain_google_genai import ChatGoogleGenerativeAI\n",
        "from langgraph.prebuilt import create_react_agent\n",
        "\n",
        "# Initialize the LLM\n",
        "llm = ChatGoogleGenerativeAI(model=\"gemini-2.0-flash\", google_api_key=\"your-api-key\")\n",
        "\n",
        "# Initialize the Bright Data Web Scraper API tool\n",
        "scraper_tool = BrightDataWebScraperAPI(bright_data_api_key=\"your-api-key\")\n",
        "\n",
        "# Create the agent with the tool\n",
        "agent = create_react_agent(llm, [scraper_tool])\n",
        "\n",
        "# Provide a user query\n",
        "user_input = \"Scrape Amazon product data for https://www.amazon.com/dp/B0D2Q9397Y?th=1 in New York (zipcode 10001).\"\n",
        "\n",
        "# Stream the agent's step-by-step output\n",
        "for step in agent.stream(\n",
        "    {\"messages\": user_input},\n",
        "    stream_mode=\"values\",\n",
        "):\n",
        "    step[\"messages\"][-1].pretty_print()"
      ]
    },
    {
      "cell_type": "markdown",
      "metadata": {},
      "source": [
        "## API 参考\n\n- [Bright Data API 文档](https://docs.brightdata.com/scraping-automation/web-scraper-api/overview)"
      ]
    }
  ],
  "metadata": {
    "language_info": {
      "name": "python"
    }
  },
  "nbformat": 4,
  "nbformat_minor": 2
}