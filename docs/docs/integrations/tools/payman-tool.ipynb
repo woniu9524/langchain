{
  "cells": [
    {
      "cell_type": "markdown",
      "metadata": {},
      "source": [
        "# PaymanAI\n\nPaymanAI 提供代表 AI Agent 进行支付（法币和加密货币）的功能。开始之前：\n\n1. 在 app.paymanai.com **注册**以创建 AI Agent 并获取您的 **API Key**。\n2. **设置**环境变量（`PAYMAN_API_SECRET` 用于您的 API Key，`PAYMAN_ENVIRONMENT` 用于沙盒或生产环境）。\n\n本 Notebook 提供了将 PaymanAI 集成到 LangChain 作为工具的快速概述。如需完整参考，请参阅 API 文档。\n\n## 概述\n\nPaymanAI 集成是 `langchain-community`（或您自定义的）包的一部分。它允许您：\n\n- 向加密货币地址或银行账户**发送**支付 (`send_payment`)。\n- **搜索**收款人 (`search_payees`)。\n- **添加**新的收款人 (`add_payee`)。\n- 使用托管的结账链接向客户**收款** (`ask_for_money`)。\n- **检查** Agent 或客户的余额 (`get_balance`)。\n\n这些可以被包装成 **LangChain Tools**，供基于 LLM 的 Agent 自动调用。\n\n### 集成详情\n\n| Class | Package | Serializable | JS support | Package latest |\n| :--- | :--- | :---: | :---: | :--- |\n| PaymanAI | `langchain_community` | ❌ | ❌ | [PyPI Version] |\n\n如果您只是调用 PaymanAI SDK，可以直接调用，也可以通过 LangChain 中的 **Tool** 接口进行调用。\n\n## 设置\n\n1. **安装** `langchain-community`（或等效的）包：\n\n```bash\npip install --quiet -U langchain-community\n```\n\n2. **安装** PaymanAI SDK：\n```bash\npip install paymanai\n```\n\n3. **设置**环境变量：\n```bash\nexport PAYMAN_API_SECRET=\"YOUR_SECRET_KEY\"\nexport PAYMAN_ENVIRONMENT=\"sandbox\"\n```\n\n您的 `PAYMAN_API_SECRET` 应为 app.paymanai.com 提供的密钥。`PAYMAN_ENVIRONMENT` 可以是 `sandbox` 或 `production`，具体取决于您的使用场景。\n\n## 实例化\n\n以下是实例化 PaymanAI 工具的示例。如果您有多个 Payman 方法，可以创建多个工具。\n\n```python\nfrom langchain_community.tools.langchain_payman_tool.tool import PaymanAI\n\n# 实例化 PaymanAI 工具（示例）\ntool = PaymanAI(\n    name=\"send_payment\",\n    description=\"将支付发送给指定的收款人。\",\n)\n```\n\n## 调用\n\n### 直接带参数调用\n\n您可以调用 `tool.invoke(...)` 并传递一个与工具预期字段匹配的字典。例如：\n\n```python\nresponse = tool.invoke({\n    \"amount_decimal\": 10.00,\n    \"payment_destination_id\": \"abc123\",\n    \"customer_id\": \"cust_001\",\n    \"memo\": \"为发票 #XYZ 付款\"\n})\n```\n\n### 使用 ToolCall 调用\n\n在 AI 工作流中使用时，LLM 可能会生成一个 `ToolCall` 字典。您可以按如下方式模拟它：\n\n```python\nmodel_generated_tool_call = {\n    \"args\": {\n        \"amount_decimal\": 10.00,\n        \"payment_destination_id\": \"abc123\"\n    },\n    \"id\": \"1\",\n    \"name\": tool.name,\n    \"type\": \"tool_call\",\n}\ntool.invoke(model_generated_tool_call)\n```\n\n## 在 Chain 或 Agent 中使用工具\n\n您可以将 PaymanAI 工具绑定到支持工具调用的 LangChain Agent 或 Chain。\n\n## 快速入门摘要\n\n1. 在 app.paymanai.com **注册**以获取您的 **API Key**。\n2. **安装**依赖项：\n   ```bash\n   pip install paymanai langchain-community\n   ```\n3. **导出**环境变量：\n   ```bash\n   export PAYMAN_API_SECRET=\"YOUR_SECRET_KEY\"\n   export PAYMAN_ENVIRONMENT=\"sandbox\"\n   ```\n4. **实例化**一个 PaymanAI 工具，并传入您想要的名称/描述。\n5. 使用 `.invoke(...)` **调用**该工具，或将其集成到 Chain 或 Agent 中。"
      ]
    },
    {
      "cell_type": "markdown",
      "metadata": {},
      "source": [
        "## API 参考文献\n\n您可以在以下位置找到 PaymanAI 的完整 API 文档：\n\n- [Langchain-Payman Python 参考](https://pypi.org/project/langchain-payman-tool/)\n- [Payman 文档](https://docs.paymanai.com)"
      ]
    },
    {
      "cell_type": "markdown",
      "metadata": {},
      "source": [
        "## 链式调用\n\n```python\nfrom langchain_core.prompts import ChatPromptTemplate\nfrom langchain_core.runnables import RunnableConfig, chain\nfrom langchain.chat_models import init_chat_model\n\n# 假设我们已经导入了你的 PaymanAITool 或多个 Payman AI 工具\npayman_tool = PaymanAITool(name=\"send_payment\")\n\n# 构建一个提示\nprompt = ChatPromptTemplate([\n    (\"system\", \"你是一个乐于助人的人工智能，可以根据要求发送付款。\"),\n    (\"human\", \"{user_input}\"),\n    (\"placeholder\", \"{messages}\"),\n])\n\nllm = init_chat_model(model=\"gpt-4\", model_provider=\"openai\")\nllm_with_tools = llm.bind_tools([payman_tool], tool_choice=payman_tool.name)\n\nllm_chain = prompt | llm_with_tools\n\n@chain\ndef tool_chain(user_input: str, config: RunnableConfig):\n    input_ = {\"user_input\": user_input}\n    ai_msg = llm_chain.invoke(input_, config=config)\n    tool_msgs = payman_tool.batch(ai_msg.tool_calls, config=config)\n    return llm_chain.invoke({**input_, \"messages\": [ai_msg, *tool_msgs]}, config=config)\n\n# 示例用法：\nresponse = tool_chain.invoke(\"向 payee123 发送 10 美元。\")\nprint(response)```\n\n## API 参考\n\n您可以在以下位置找到 PaymanAI 的完整 API 文档：\n\n- [Python 参考](https://python.langchain.com/v0.2/api_reference/community/tools/langchain_community.tools.langchain_payman_tool.tool.PaymanAI.html)\n- (任何其他相关的参考或文档链接)"
      ]
    }
  ],
  "metadata": {
    "language_info": {
      "name": "python"
    }
  },
  "nbformat": 4,
  "nbformat_minor": 2
}