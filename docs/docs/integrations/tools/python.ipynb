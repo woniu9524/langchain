{
  "cells": [
    {
      "cell_type": "markdown",
      "id": "984a8fca",
      "metadata": {},
      "source": [
        "# Python REPL\n\n有时，对于复杂的计算，与其直接让 LLM 生成答案，不如让 LLM 生成代码来计算答案，然后运行该代码来获得答案。为了方便地做到这一点，我们提供了一个简单的 Python REPL 来执行命令。\n\n此接口只返回被打印出来的东西——因此，如果你想用它来计算答案，请确保它打印出答案。\n\n\n:::caution\nPython REPL 可以在主机上执行任意代码（例如，删除文件、发起网络请求）。请谨慎使用。\n\n有关更通用的安全指南，请参阅 https://python.langchain.com/docs/security/。\n:::"
      ]
    },
    {
      "cell_type": "code",
      "execution_count": 1,
      "id": "0196a12d-f716-4622-84e4-86fc27fa797c",
      "metadata": {},
      "outputs": [],
      "source": [
        "from langchain_core.tools import Tool\n",
        "from langchain_experimental.utilities import PythonREPL"
      ]
    },
    {
      "cell_type": "code",
      "execution_count": 2,
      "id": "b4058942-c31f-45c6-8bb7-30402f6cc193",
      "metadata": {},
      "outputs": [],
      "source": [
        "python_repl = PythonREPL()"
      ]
    },
    {
      "cell_type": "code",
      "execution_count": 3,
      "id": "b1bcfa15-ff35-49bf-a986-c40eec3b65fb",
      "metadata": {},
      "outputs": [
        {
          "name": "stderr",
          "output_type": "stream",
          "text": [
            "Python REPL can execute arbitrary code. Use with caution.\n"
          ]
        },
        {
          "data": {
            "text/plain": [
              "'2\\n'"
            ]
          },
          "execution_count": 3,
          "metadata": {},
          "output_type": "execute_result"
        }
      ],
      "source": [
        "python_repl.run(\"print(1+1)\")"
      ]
    },
    {
      "cell_type": "code",
      "execution_count": 4,
      "id": "488542d8-5566-4f28-aaf7-b28a3373ab62",
      "metadata": {
        "tags": []
      },
      "outputs": [],
      "source": [
        "# You can create the tool to pass to an agent\n",
        "repl_tool = Tool(\n",
        "    name=\"python_repl\",\n",
        "    description=\"A Python shell. Use this to execute python commands. Input should be a valid python command. If you want to see the output of a value, you should print it out with `print(...)`.\",\n",
        "    func=python_repl.run,\n",
        ")"
      ]
    }
  ],
  "metadata": {
    "kernelspec": {
      "display_name": "Python 3 (ipykernel)",
      "language": "python",
      "name": "python3"
    },
    "language_info": {
      "codemirror_mode": {
        "name": "ipython",
        "version": 3
      },
      "file_extension": ".py",
      "mimetype": "text/x-python",
      "name": "python",
      "nbconvert_exporter": "python",
      "pygments_lexer": "ipython3",
      "version": "3.11.4"
    }
  },
  "nbformat": 4,
  "nbformat_minor": 5
}