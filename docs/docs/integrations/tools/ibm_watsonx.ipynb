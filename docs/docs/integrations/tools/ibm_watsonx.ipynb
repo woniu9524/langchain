{
  "cells": [
    {
      "cell_type": "raw",
      "metadata": {},
      "source": [
        "---\n",
        "sidebar_label: IBM watsonx.ai\n",
        "---"
      ]
    },
    {
      "cell_type": "markdown",
      "metadata": {},
      "source": [
        "# IBM watsonx.ai\n\n>WatsonxToolkit是IBM [watsonx.ai](https://www.ibm.com/products/watsonx-ai) Toolkit的封装。\n\n此示例演示如何使用`LangChain`来使用`watsonx.ai toolkit`。"
      ]
    },
    {
      "cell_type": "markdown",
      "metadata": {},
      "source": [
        "## 概述\n\n### 集成详情\n\n| 类 | 包 | 可序列化 | [JS 支持](https://js.langchain.com/docs/integrations/toolkits/ibm/) | 包下载量 | 最新包版本 |\n| :--- | :--- | :---: | :---: | :---: | :---: |\n| [WatsonxToolkit](https://python.langchain.com/api_reference/ibm/toolkit/langchain_ibm.toolkit.WatsonxToolkit.html) | [langchain-ibm](https://python.langchain.com/api_reference/ibm/index.html) | ❌ | ✅ | ![PyPI - Downloads](https://img.shields.io/pypi/dm/langchain-ibm?style=flat-square&label=%20) | ![PyPI - Version](https://img.shields.io/pypi/v/langchain-ibm?style=flat-square&label=%20) |"
      ]
    },
    {
      "cell_type": "markdown",
      "metadata": {},
      "source": [
        "## 设置\n\n要访问 IBM watsonx.ai 工具包，您需要创建一个 IBM watsonx.ai 账户，获取 API 密钥，并安装 `langchain-ibm` 集成包。\n\n### 认证信息\n\n此单元格定义了使用 watsonx Toolkit 所需的 WML 认证信息。\n\n**操作：** 提供 IBM Cloud 用户 API 密钥。有关详细信息，请参阅\n[文档](https://cloud.ibm.com/docs/account?topic=account-userapikey&interface=ui)。"
      ]
    },
    {
      "cell_type": "code",
      "execution_count": 1,
      "metadata": {},
      "outputs": [],
      "source": [
        "import os\n",
        "from getpass import getpass\n",
        "\n",
        "watsonx_api_key = getpass()\n",
        "os.environ[\"WATSONX_APIKEY\"] = watsonx_api_key"
      ]
    },
    {
      "cell_type": "markdown",
      "metadata": {},
      "source": [
        "此外，您还可以将其他秘密作为环境变量传递。"
      ]
    },
    {
      "cell_type": "code",
      "execution_count": null,
      "metadata": {},
      "outputs": [],
      "source": [
        "import os\n",
        "\n",
        "os.environ[\"WATSONX_URL\"] = \"your service instance url\"\n",
        "os.environ[\"WATSONX_TOKEN\"] = \"your token for accessing the service instance\""
      ]
    },
    {
      "cell_type": "markdown",
      "metadata": {},
      "source": [
        "### 安装\n\nLangChain IBM 集成位于 `langchain-ibm` 包中："
      ]
    },
    {
      "cell_type": "code",
      "execution_count": null,
      "metadata": {},
      "outputs": [],
      "source": [
        "!pip install -qU langchain-ibm"
      ]
    },
    {
      "cell_type": "markdown",
      "metadata": {},
      "source": [
        "## 实例化"
      ]
    },
    {
      "cell_type": "markdown",
      "metadata": {},
      "source": [
        "初始化 `WatsonxToolkit` 类。"
      ]
    },
    {
      "cell_type": "code",
      "execution_count": 2,
      "metadata": {},
      "outputs": [],
      "source": [
        "from langchain_ibm import WatsonxToolkit\n",
        "\n",
        "watsonx_toolkit = WatsonxToolkit(\n",
        "    url=\"https://us-south.ml.cloud.ibm.com\",\n",
        ")"
      ]
    },
    {
      "cell_type": "markdown",
      "metadata": {},
      "source": [
        "对于某些需求，可以选择将 IBM 的 [`APIClient`](https://ibm.github.io/watsonx-ai-python-sdk/base.html#apiclient) 对象传递给 `WatsonxToolkit` 类。"
      ]
    },
    {
      "cell_type": "code",
      "execution_count": null,
      "metadata": {},
      "outputs": [],
      "source": [
        "from ibm_watsonx_ai import APIClient\n",
        "\n",
        "api_client = APIClient(...)\n",
        "\n",
        "watsonx_toolkit = WatsonxToolkit(\n",
        "    watsonx_client=api_client,\n",
        ")"
      ]
    },
    {
      "cell_type": "markdown",
      "metadata": {},
      "source": [
        "## 工具"
      ]
    },
    {
      "cell_type": "markdown",
      "metadata": {},
      "source": [
        "### 获取所有工具\n\n可以通过一个 `WatsonxTool` 对象列表来获取所有可用的工具。"
      ]
    },
    {
      "cell_type": "code",
      "execution_count": null,
      "metadata": {},
      "outputs": [
        {
          "name": "stdout",
          "output_type": "stream",
          "text": [
            "\n",
            "[WatsonxTool(name='GoogleSearch', description='Search for online trends, news, current events, real-time information, or research topics.', args_schema=<class 'langchain_ibm.toolkit.ToolArgsSchema'>, agent_description='Search for online trends, news, current events, real-time information, or research topics.', tool_config_schema={'title': 'config schema for GoogleSearch tool', 'type': 'object', 'properties': {'maxResults': {'title': 'Max number of results to return', 'type': 'integer', 'minimum': 1, 'maximum': 20}}}, watsonx_client=<ibm_watsonx_ai.client.APIClient object at 0x127e0f490>),\n",
            " WatsonxTool(name='WebCrawler', description='Useful for when you need to summarize a webpage. Do not use for Web search.', args_schema=<class 'langchain_ibm.toolkit.ToolArgsSchema'>, agent_description='Useful for when you need to summarize a webpage. Do not use for Web search.', tool_input_schema={'type': 'object', 'properties': {'url': {'title': 'url', 'description': 'URL for the webpage to be scraped', 'type': 'string', 'pattern': '^(https?:\\/\\/)?([\\da-z\\.-]+)\\.([a-z\\.]{2,6})([\\/\\w \\.-]*)*\\/?$'}}, 'required': ['url']}, watsonx_client=<ibm_watsonx_ai.client.APIClient object at 0x127e0f490>),\n",
            " WatsonxTool(name='SDXLTurbo', description='Generate an image from text using Stability.ai', args_schema=<class 'langchain_ibm.toolkit.ToolArgsSchema'>, agent_description='Generate an image from text. Not for image refining. Use very precise language about the desired image, including setting, lighting, style, filters and lenses used. Do not ask the tool to refine an image.', watsonx_client=<ibm_watsonx_ai.client.APIClient object at 0x127e0f490>),\n",
            " WatsonxTool(name='Weather', description='Find the weather for a city.', args_schema=<class 'langchain_ibm.toolkit.ToolArgsSchema'>, agent_description='Find the weather for a city.', tool_input_schema={'type': 'object', 'properties': {'location': {'title': 'location', 'description': 'Name of the location', 'type': 'string'}, 'country': {'title': 'country', 'description': 'Name of the state or country', 'type': 'string'}}, 'required': ['location']}, watsonx_client=<ibm_watsonx_ai.client.APIClient object at 0x127e0f490>),\n",
            " WatsonxTool(name='RAGQuery', description='Search the documents in a vector index.', args_schema=<class 'langchain_ibm.toolkit.ToolArgsSchema'>, agent_description='Search information in documents to provide context to a user query. Useful when asked to ground the answer in specific knowledge about {indexName}', tool_config_schema={'title': 'config schema for RAGQuery tool', 'type': 'object', 'properties': {'vectorIndexId': {'title': 'Vector index identifier', 'type': 'string'}, 'projectId': {'title': 'Project identifier', 'type': 'string'}, 'spaceId': {'title': 'Space identifier', 'type': 'string'}}, 'required': ['vectorIndexId'], 'oneOf': [{'required': ['projectId']}, {'required': ['spaceId']}]}, watsonx_client=<ibm_watsonx_ai.client.APIClient object at 0x127e0f490>)]\n",
            "\n"
          ]
        }
      ],
      "source": [
        "watsonx_toolkit.get_tools()"
      ]
    },
    {
      "cell_type": "markdown",
      "metadata": {},
      "source": [
        "### 获取工具\n您也可以通过名称获取特定的 `WatsonxTool`。"
      ]
    },
    {
      "cell_type": "code",
      "execution_count": 4,
      "metadata": {},
      "outputs": [],
      "source": [
        "google_search = watsonx_toolkit.get_tool(tool_name=\"GoogleSearch\")"
      ]
    },
    {
      "cell_type": "markdown",
      "metadata": {},
      "source": [
        "## 调用"
      ]
    },
    {
      "cell_type": "markdown",
      "metadata": {},
      "source": [
        "### 调用工具并输入简单内容"
      ]
    },
    {
      "cell_type": "code",
      "execution_count": 5,
      "metadata": {},
      "outputs": [
        {
          "data": {
            "text/plain": [
              "{'output': '[{\"title\":\"IBM - United States\",\"description\":\"Technology & Consulting. From next-generation AI to cutting edge hybrid cloud solutions to the deep expertise of IBM Consulting, IBM has what it takes to help\\xa0...\",\"url\":\"https://www.ibm.com/us-en\"},{\"title\":\"IBM - Wikipedia\",\"description\":\"International Business Machines Corporation (using the trademark IBM), nicknamed Big Blue, is an American multinational technology company headquartered in\\xa0...\",\"url\":\"https://en.wikipedia.org/wiki/IBM\"},{\"title\":\"IBM Envizi ESG Suite\",\"description\":\"Envizi systemizes the capture, transformation and consolidation of disparate sustainability data into a single source of truth and delivers actionable insights.\",\"url\":\"https://www.ibm.com/products/envizi\"},{\"title\":\"IBM Research\",\"description\":\"Tools + Code · BeeAI Framework. Open-source framework for building, deploying, and serving powerful agentic workflows at scale. · Docling. An open-source tool\\xa0...\",\"url\":\"https://research.ibm.com/\"},{\"title\":\"IBM SkillsBuild: Free Skills-Based Learning From Technology Experts\",\"description\":\"IBM SkillsBuildPower your future in tech with job skills, courses, and credentials—for free. Power your future in tech with job skills, courses, and credentials\\xa0...\",\"url\":\"https://skillsbuild.org/\"},{\"title\":\"IBM | LinkedIn\",\"description\":\"Locations · Primary. International Business Machines Corp. · 590 Madison Ave · 90 Grayston Dr · Plaza Independencia 721 · 388 Phahon Yothin Road · Jalan Prof.\",\"url\":\"https://www.linkedin.com/company/ibm\"},{\"title\":\"International Business Machines Corporation (IBM)\",\"description\":\"PROFITABILITY_AND_INCOME_STATEMENT · 9.60% · (TTM). 3.06% · (TTM). 24.06% · (TTM). 62.75B · (TTM). 6.02B · (TTM). 6.41. BALANCE_SHEET_AND_CASH_FLOW. (MRQ).\",\"url\":\"https://finance.yahoo.com/quote/IBM/\"},{\"title\":\"Zurich - IBM Research\",\"description\":\"The location in Zurich is one of IBM\\'s 12 global research labs. IBM has maintained a research laboratory in Switzerland since 1956.\",\"url\":\"https://research.ibm.com/labs/zurich\"},{\"title\":\"IBM (@ibm) • Instagram photos and videos\",\"description\":\"Science, Technology & Engineering. We partner with developers, data scientists, CTOs and other creators to make the world work better.\",\"url\":\"https://www.instagram.com/ibm/?hl=en\"},{\"title\":\"IBM Newsroom\",\"description\":\"News and press releases from around the IBM world. Media contacts. Sources by topic and by region. IBM Media center. Explore IBM\\'s latest and most popular\\xa0...\",\"url\":\"https://newsroom.ibm.com/\"}]'}"
            ]
          },
          "execution_count": 5,
          "metadata": {},
          "output_type": "execute_result"
        }
      ],
      "source": [
        "search_result = google_search.invoke(input=\"IBM\")\n",
        "search_result"
      ]
    },
    {
      "cell_type": "markdown",
      "metadata": {},
      "source": [
        "要获取已收到的结果列表，您可以执行以下单元格。"
      ]
    },
    {
      "cell_type": "code",
      "execution_count": null,
      "metadata": {},
      "outputs": [],
      "source": [
        "import json\n",
        "\n",
        "output = json.loads(search_result.get(\"output\"))\n",
        "output"
      ]
    },
    {
      "cell_type": "markdown",
      "metadata": {},
      "source": [
        "### 使用配置调用工具"
      ]
    },
    {
      "cell_type": "markdown",
      "metadata": {},
      "source": [
        "您可以通过查看工具的 `tool_config_schema` 来检查工具是否具有配置模式并查看其属性。\n\n在此示例中，该工具具有一个配置模式，其中包含 `maxResults` 参数，用于设置返回结果的最大数量。"
      ]
    },
    {
      "cell_type": "code",
      "execution_count": 7,
      "metadata": {},
      "outputs": [
        {
          "data": {
            "text/plain": [
              "{'title': 'config schema for GoogleSearch tool',\n",
              " 'type': 'object',\n",
              " 'properties': {'maxResults': {'title': 'Max number of results to return',\n",
              "   'type': 'integer',\n",
              "   'minimum': 1,\n",
              "   'maximum': 20}}}"
            ]
          },
          "execution_count": 7,
          "metadata": {},
          "output_type": "execute_result"
        }
      ],
      "source": [
        "google_search.tool_config_schema"
      ]
    },
    {
      "cell_type": "markdown",
      "metadata": {},
      "source": [
        "要设置 `tool_config` 参数，您需要使用 `set_tool_config()` 方法，并根据上面的 `tool_config_schema` 传递正确的 `dict`。"
      ]
    },
    {
      "cell_type": "code",
      "execution_count": 8,
      "metadata": {},
      "outputs": [],
      "source": [
        "import json\n",
        "\n",
        "config = {\"maxResults\": 3}\n",
        "google_search.set_tool_config(config)\n",
        "\n",
        "search_result = google_search.invoke(input=\"IBM\")\n",
        "output = json.loads(search_result.get(\"output\"))"
      ]
    },
    {
      "cell_type": "markdown",
      "metadata": {},
      "source": [
        "最多应该有 3 个结果。"
      ]
    },
    {
      "cell_type": "code",
      "execution_count": 9,
      "metadata": {},
      "outputs": [
        {
          "name": "stdout",
          "output_type": "stream",
          "text": [
            "3\n"
          ]
        }
      ],
      "source": [
        "print(len(output))"
      ]
    },
    {
      "cell_type": "markdown",
      "metadata": {},
      "source": [
        "### 使用输入模式调用工具\n\n我们需要另外一个工具（带有一个输入模式）用于示例目的。"
      ]
    },
    {
      "cell_type": "code",
      "execution_count": 10,
      "metadata": {},
      "outputs": [],
      "source": [
        "weather_tool = watsonx_toolkit.get_tool(\"Weather\")"
      ]
    },
    {
      "cell_type": "markdown",
      "metadata": {},
      "source": [
        "要检查工具是否具有输入 schema 并查看其属性，您可以查看工具的 `tool_input_schema`。\n\n在此示例中，该工具的输入 schema 包含一个必需参数和一个可选参数。"
      ]
    },
    {
      "cell_type": "code",
      "execution_count": 11,
      "metadata": {},
      "outputs": [
        {
          "data": {
            "text/plain": [
              "{'type': 'object',\n",
              " 'properties': {'location': {'title': 'location',\n",
              "   'description': 'Name of the location',\n",
              "   'type': 'string'},\n",
              "  'country': {'title': 'country',\n",
              "   'description': 'Name of the state or country',\n",
              "   'type': 'string'}},\n",
              " 'required': ['location']}"
            ]
          },
          "execution_count": 11,
          "metadata": {},
          "output_type": "execute_result"
        }
      ],
      "source": [
        "weather_tool.tool_input_schema"
      ]
    },
    {
      "cell_type": "markdown",
      "metadata": {},
      "source": [
        "要正确地将输入传递给 `invoke()`，你需要创建一个 `invoke_input` 字典，其中包含必需的参数作为键，以及它们的值。"
      ]
    },
    {
      "cell_type": "code",
      "execution_count": 12,
      "metadata": {},
      "outputs": [
        {
          "data": {
            "text/plain": [
              "{'output': 'Current weather in New York:\\nTemperature: 0°C\\nRain: 0mm\\nRelative humidity: 63%\\nWind: 7.6km/h\\n'}"
            ]
          },
          "execution_count": 12,
          "metadata": {},
          "output_type": "execute_result"
        }
      ],
      "source": [
        "invoke_input = {\n",
        "    \"location\": \"New York\",\n",
        "}\n",
        "\n",
        "weather_result = weather_tool.invoke(input=invoke_input)\n",
        "weather_result"
      ]
    },
    {
      "cell_type": "markdown",
      "metadata": {},
      "source": [
        "本次输出的是单个字符串值。您可以执行以下单元格来获取并打印它。"
      ]
    },
    {
      "cell_type": "code",
      "execution_count": 13,
      "metadata": {},
      "outputs": [
        {
          "name": "stdout",
          "output_type": "stream",
          "text": [
            "Current weather in New York:\n",
            "Temperature: 0°C\n",
            "Rain: 0mm\n",
            "Relative humidity: 63%\n",
            "Wind: 7.6km/h\n",
            "\n"
          ]
        }
      ],
      "source": [
        "output = weather_result.get(\"output\")\n",
        "print(output)"
      ]
    },
    {
      "cell_type": "markdown",
      "metadata": {},
      "source": [
        "### 使用 ToolCall 调用工具\n\n我们也可以使用 ToolCall 来调用工具，在这种情况下将返回一个 ToolMessage："
      ]
    },
    {
      "cell_type": "code",
      "execution_count": 14,
      "metadata": {},
      "outputs": [
        {
          "data": {
            "text/plain": [
              "ToolMessage(content='{\"output\": \"Current weather in Los Angeles:\\\\nTemperature: 8.6°C\\\\nRain: 0mm\\\\nRelative humidity: 61%\\\\nWind: 8.4km/h\\\\n\"}', name='Weather', tool_call_id='1')"
            ]
          },
          "execution_count": 14,
          "metadata": {},
          "output_type": "execute_result"
        }
      ],
      "source": [
        "invoke_input = {\n",
        "    \"location\": \"Los Angeles\",\n",
        "}\n",
        "tool_call = dict(\n",
        "    args=invoke_input,\n",
        "    id=\"1\",\n",
        "    name=weather_tool.name,\n",
        "    type=\"tool_call\",\n",
        ")\n",
        "weather_tool.invoke(input=tool_call)"
      ]
    },
    {
      "cell_type": "markdown",
      "metadata": {},
      "source": [
        "## 在 Agent 中使用"
      ]
    },
    {
      "cell_type": "code",
      "execution_count": null,
      "metadata": {},
      "outputs": [],
      "source": [
        "from langchain_ibm import ChatWatsonx\n",
        "\n",
        "llm = ChatWatsonx(\n",
        "    model_id=\"meta-llama/llama-3-3-70b-instruct\",\n",
        "    url=\"https://us-south.ml.cloud.ibm.com\",\n",
        "    project_id=\"PASTE YOUR PROJECT_ID HERE\",\n",
        ")"
      ]
    },
    {
      "cell_type": "code",
      "execution_count": 16,
      "metadata": {},
      "outputs": [],
      "source": [
        "from langgraph.prebuilt import create_react_agent\n",
        "\n",
        "tools = [weather_tool]\n",
        "agent = create_react_agent(llm, tools)"
      ]
    },
    {
      "cell_type": "code",
      "execution_count": 17,
      "metadata": {},
      "outputs": [
        {
          "name": "stdout",
          "output_type": "stream",
          "text": [
            "================================\u001b[1m Human Message \u001b[0m=================================\n",
            "\n",
            "What is the weather in Boston?\n",
            "==================================\u001b[1m Ai Message \u001b[0m==================================\n",
            "Tool Calls:\n",
            "  Weather (chatcmpl-tool-6a6c21402c824e43bdd2e8ba390af4a8)\n",
            " Call ID: chatcmpl-tool-6a6c21402c824e43bdd2e8ba390af4a8\n",
            "  Args:\n",
            "    location: Boston\n",
            "=================================\u001b[1m Tool Message \u001b[0m=================================\n",
            "Name: Weather\n",
            "\n",
            "{\"output\": \"Current weather in Boston:\\nTemperature: -1°C\\nRain: 0mm\\nRelative humidity: 53%\\nWind: 8.3km/h\\n\"}\n",
            "==================================\u001b[1m Ai Message \u001b[0m==================================\n",
            "\n",
            "The current weather in Boston is -1°C with 0mm of rain, a relative humidity of 53%, and a wind speed of 8.3km/h.\n"
          ]
        }
      ],
      "source": [
        "example_query = \"What is the weather in Boston?\"\n",
        "\n",
        "events = agent.stream(\n",
        "    {\"messages\": [(\"user\", example_query)]},\n",
        "    stream_mode=\"values\",\n",
        ")\n",
        "for event in events:\n",
        "    event[\"messages\"][-1].pretty_print()"
      ]
    },
    {
      "cell_type": "markdown",
      "metadata": {},
      "source": [
        "## API 参考\n\n有关所有 `WatsonxToolkit` 功能和配置的详细文档，请访问 [API 参考](https://python.langchain.com/api_reference/ibm/toolkit/langchain_ibm.toolkit.WatsonxToolkit.html)。"
      ]
    }
  ],
  "metadata": {
    "kernelspec": {
      "display_name": "langchain_env",
      "language": "python",
      "name": "python3"
    },
    "language_info": {
      "codemirror_mode": {
        "name": "ipython",
        "version": 3
      },
      "file_extension": ".py",
      "mimetype": "text/x-python",
      "name": "python",
      "nbconvert_exporter": "python",
      "pygments_lexer": "ipython3",
      "version": "3.11.11"
    }
  },
  "nbformat": 4,
  "nbformat_minor": 2
}