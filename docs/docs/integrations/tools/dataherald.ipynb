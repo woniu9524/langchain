{
  "cells": [
    {
      "attachments": {},
      "cell_type": "markdown",
      "id": "245a954a",
      "metadata": {},
      "source": [
        "# Dataherald\n\n本 notebook 将介绍如何使用 dataherald 组件。\n\n首先，您需要设置您的 Dataherald 账户并获取您的 API KEY：\n\n1. 前往 dataherald 并在此处 [注册](https://www.dataherald.com/)\n2. 登录您的 Admin Console 后，创建一个 API KEY\n3. pip install dataherald\n\n然后，我们需要设置一些环境变量：\n1. 将您的 API KEY 保存到 DATAHERALD_API_KEY 环境变量中"
      ]
    },
    {
      "cell_type": "code",
      "execution_count": null,
      "id": "961b3689",
      "metadata": {
        "vscode": {
          "languageId": "shellscript"
        }
      },
      "outputs": [],
      "source": [
        "pip install dataherald\n",
        "%pip install --upgrade --quiet langchain-community"
      ]
    },
    {
      "cell_type": "code",
      "execution_count": 6,
      "id": "34bb5968",
      "metadata": {},
      "outputs": [],
      "source": [
        "import os\n",
        "\n",
        "os.environ[\"DATAHERALD_API_KEY\"] = \"\""
      ]
    },
    {
      "cell_type": "code",
      "execution_count": 9,
      "id": "ac4910f8",
      "metadata": {},
      "outputs": [],
      "source": [
        "from langchain_community.utilities.dataherald import DataheraldAPIWrapper"
      ]
    },
    {
      "cell_type": "code",
      "execution_count": 10,
      "id": "84b8f773",
      "metadata": {},
      "outputs": [],
      "source": [
        "dataherald = DataheraldAPIWrapper(db_connection_id=\"65fb766367dd22c99ce1a12d\")"
      ]
    },
    {
      "cell_type": "code",
      "execution_count": 11,
      "id": "068991a6",
      "metadata": {},
      "outputs": [
        {
          "data": {
            "text/plain": [
              "'select COUNT(*) from employees'"
            ]
          },
          "execution_count": 11,
          "metadata": {},
          "output_type": "execute_result"
        }
      ],
      "source": [
        "dataherald.run(\"How many employees are in the company?\")"
      ]
    }
  ],
  "metadata": {
    "kernelspec": {
      "display_name": ".venv",
      "language": "python",
      "name": "python3"
    },
    "language_info": {
      "codemirror_mode": {
        "name": "ipython",
        "version": 3
      },
      "file_extension": ".py",
      "mimetype": "text/x-python",
      "name": "python",
      "nbconvert_exporter": "python",
      "pygments_lexer": "ipython3",
      "version": "3.9.7"
    },
    "vscode": {
      "interpreter": {
        "hash": "53f3bc57609c7a84333bb558594977aa5b4026b1d6070b93987956689e367341"
      }
    }
  },
  "nbformat": 4,
  "nbformat_minor": 5
}