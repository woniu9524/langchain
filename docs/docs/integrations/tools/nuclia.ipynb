{
  "cells": [
    {
      "cell_type": "markdown",
      "metadata": {},
      "source": [
        "# Nuclia 理解\n\n>[Nuclia](https://nuclia.com) 可自动索引来自任何内部和外部源的非结构化数据，提供优化的搜索结果和生成式答案。它可以处理视频和音频转录、图像内容提取和文档解析。\n\n`Nuclia 理解 API` 支持对非结构化数据进行处理，包括文本、网页、文档以及音频/视频内容。它会提取文本内容（必要时使用语音转文本或 OCR），识别实体，提取元数据、嵌入文件（如 PDF 中的图片）以及网页链接。它还可以提供内容摘要。\n\n要使用 `Nuclia 理解 API`，您需要拥有一个 `Nuclia` 账户。您可以在 [https://nuclia.cloud](https://nuclia.cloud) 免费创建账户，然后[创建 NUA 密钥](https://docs.nuclia.dev/docs/docs/using/understanding/intro)。"
      ]
    },
    {
      "cell_type": "code",
      "execution_count": null,
      "metadata": {},
      "outputs": [],
      "source": [
        "%pip install --upgrade --quiet  protobuf\n",
        "%pip install --upgrade --quiet  nucliadb-protos"
      ]
    },
    {
      "cell_type": "code",
      "execution_count": null,
      "metadata": {},
      "outputs": [],
      "source": [
        "import os\n",
        "\n",
        "os.environ[\"NUCLIA_ZONE\"] = \"<YOUR_ZONE>\"  # e.g. europe-1\n",
        "os.environ[\"NUCLIA_NUA_KEY\"] = \"<YOUR_API_KEY>\""
      ]
    },
    {
      "cell_type": "code",
      "execution_count": null,
      "metadata": {},
      "outputs": [],
      "source": [
        "from langchain_community.tools.nuclia import NucliaUnderstandingAPI\n",
        "\n",
        "nua = NucliaUnderstandingAPI(enable_ml=False)"
      ]
    },
    {
      "cell_type": "markdown",
      "metadata": {},
      "source": [
        "您可以使用 `push` 操作将文件推送到 Nuclia Understanding API。由于处理是异步进行的，结果可能与您推送文件的顺序不同。因此，您需要提供一个 `id` 来匹配结果和相应的文件。"
      ]
    },
    {
      "cell_type": "code",
      "execution_count": null,
      "metadata": {},
      "outputs": [],
      "source": [
        "nua.run({\"action\": \"push\", \"id\": \"1\", \"path\": \"./report.docx\"})\n",
        "nua.run({\"action\": \"push\", \"id\": \"2\", \"path\": \"./interview.mp4\"})"
      ]
    },
    {
      "cell_type": "markdown",
      "metadata": {},
      "source": [
        "现在，你可以循环调用 `pull` 操作，直到获得 JSON 格式的结果。"
      ]
    },
    {
      "cell_type": "code",
      "execution_count": null,
      "metadata": {},
      "outputs": [],
      "source": [
        "import time\n",
        "\n",
        "pending = True\n",
        "data = None\n",
        "while pending:\n",
        "    time.sleep(15)\n",
        "    data = nua.run({\"action\": \"pull\", \"id\": \"1\", \"path\": None})\n",
        "    if data:\n",
        "        print(data)\n",
        "        pending = False\n",
        "    else:\n",
        "        print(\"waiting...\")"
      ]
    },
    {
      "cell_type": "markdown",
      "metadata": {},
      "source": [
        "你也可以在 `async` 模式下一步完成，你只需要执行一个 push 操作，它会等待结果被 pull："
      ]
    },
    {
      "cell_type": "code",
      "execution_count": null,
      "metadata": {},
      "outputs": [],
      "source": [
        "import asyncio\n",
        "\n",
        "\n",
        "async def process():\n",
        "    data = await nua.arun(\n",
        "        {\"action\": \"push\", \"id\": \"1\", \"path\": \"./talk.mp4\", \"text\": None}\n",
        "    )\n",
        "    print(data)\n",
        "\n",
        "\n",
        "asyncio.run(process())"
      ]
    },
    {
      "cell_type": "markdown",
      "metadata": {},
      "source": [
        "## 检索到的信息\n\nNuclia 返回以下信息：\n\n- 文件元数据\n- 提取的文本\n- 嵌套文本（例如嵌入在图片中的文本）\n- 摘要（仅当 `enable_ml` 设置为 `True` 时）\n- 段落和句子拆分（通过其首尾字符的位置以及视频或音频文件的开始和结束时间定义）\n- 命名实体：人物、日期、地点、组织等（仅当 `enable_ml` 设置为 `True` 时）\n- 链接\n- 缩略图\n- 嵌入式文件\n- 文本的向量表示（仅当 `enable_ml` 设置为 `True` 时）\n\n注意：\n\n  生成的文件（缩略图、提取的嵌入式文件等）将以 token 的形式提供。您可以使用 [`/processing/download` 端点](https://docs.nuclia.dev/docs/api#operation/Download_binary_file_processing_download_get) 下载它们。\n\n  此外，在任何层级，如果某个属性的大小超过一定限制，它将被放入一个可下载文件中，并在文档中被文件指针替换。文件指针将由 `{\"file\": {\"uri\": \"JWT_TOKEN\"}}` 组成。规则是，如果消息大小超过 1000000 个字符，最大的部分将被移至可下载文件中。首先，压缩过程将以向量为目标。如果这还不够，它将以大型字段元数据为目标，最后将以提取的文本为目标。"
      ]
    }
  ],
  "metadata": {
    "kernelspec": {
      "display_name": "Python 3 (ipykernel)",
      "language": "python",
      "name": "python3"
    },
    "language_info": {
      "codemirror_mode": {
        "name": "ipython",
        "version": 3
      },
      "file_extension": ".py",
      "mimetype": "text/x-python",
      "name": "python",
      "nbconvert_exporter": "python",
      "pygments_lexer": "ipython3",
      "version": "3.10.12"
    }
  },
  "nbformat": 4,
  "nbformat_minor": 4
}