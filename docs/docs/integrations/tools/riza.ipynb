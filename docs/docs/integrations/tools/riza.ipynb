{
  "cells": [
    {
      "cell_type": "markdown",
      "id": "7d143c73",
      "metadata": {},
      "source": [
        "# Riza Code Interpreter\n\n> Riza Code Interpreter 是一个基于 WASM 的隔离沙箱环境，用于运行由 AI 代理生成的 Python 或 JavaScript 代码。\n\n在本 Notebook 中，我们将创建一个代理示例，该代理将使用 Python 来解决 LLM 无法独立完成的问题：\n计算单词 \"strawberry\" 中字母 \"r\" 的数量。\n\n开始之前，请从 [Riza dashboard](https://dashboard.riza.io) 获取你的 API 密钥。如需更多指南和完整的 API 参考，请访问 [Riza Code Interpreter API documentation](https://docs.riza.io)。"
      ]
    },
    {
      "cell_type": "markdown",
      "id": "894aa87a",
      "metadata": {},
      "source": [
        "请确保已安装必要的依赖项。"
      ]
    },
    {
      "cell_type": "code",
      "execution_count": null,
      "id": "8265cf7f",
      "metadata": {},
      "outputs": [],
      "source": [
        "%pip install --upgrade --quiet langchain-community rizaio"
      ]
    },
    {
      "cell_type": "markdown",
      "id": "e085eb51",
      "metadata": {},
      "source": [
        "将 API 密钥设置为环境变量。"
      ]
    },
    {
      "cell_type": "code",
      "execution_count": null,
      "id": "45ba8936",
      "metadata": {},
      "outputs": [],
      "source": [
        "%env ANTHROPIC_API_KEY=<your_anthropic_api_key_here>\n",
        "%env RIZA_API_KEY=<your_riza_api_key_here>"
      ]
    },
    {
      "cell_type": "code",
      "execution_count": 13,
      "id": "efe26fd9-6e33-4f5f-b49b-ea74fa6c4915",
      "metadata": {},
      "outputs": [],
      "source": [
        "from langchain_community.tools.riza.command import ExecPython"
      ]
    },
    {
      "cell_type": "code",
      "execution_count": 14,
      "id": "cd5b952e",
      "metadata": {},
      "outputs": [],
      "source": [
        "from langchain.agents import AgentExecutor, create_tool_calling_agent\n",
        "from langchain_anthropic import ChatAnthropic\n",
        "from langchain_core.prompts import ChatPromptTemplate"
      ]
    },
    {
      "cell_type": "markdown",
      "id": "7bd0b610",
      "metadata": {},
      "source": [
        "初始化 `ExecPython` 工具。"
      ]
    },
    {
      "cell_type": "code",
      "execution_count": 15,
      "id": "32f1543f",
      "metadata": {},
      "outputs": [],
      "source": [
        "tools = [ExecPython()]"
      ]
    },
    {
      "cell_type": "markdown",
      "id": "24f952d5",
      "metadata": {},
      "source": [
        "使用 Anthropic 的 Claude Haiku 模型初始化一个 agent。"
      ]
    },
    {
      "cell_type": "code",
      "execution_count": 16,
      "id": "71831ea8",
      "metadata": {},
      "outputs": [],
      "source": [
        "llm = ChatAnthropic(model=\"claude-3-haiku-20240307\", temperature=0)\n",
        "\n",
        "prompt_template = ChatPromptTemplate.from_messages(\n",
        "    [\n",
        "        (\n",
        "            \"system\",\n",
        "            \"You are a helpful assistant. Make sure to use a tool if you need to solve a problem.\",\n",
        "        ),\n",
        "        (\"human\", \"{input}\"),\n",
        "        (\"placeholder\", \"{agent_scratchpad}\"),\n",
        "    ]\n",
        ")\n",
        "\n",
        "agent = create_tool_calling_agent(llm, tools, prompt_template)\n",
        "agent_executor = AgentExecutor(agent=agent, tools=tools, verbose=True)"
      ]
    },
    {
      "cell_type": "code",
      "execution_count": 34,
      "id": "36b24036",
      "metadata": {},
      "outputs": [
        {
          "name": "stdout",
          "output_type": "stream",
          "text": [
            "\n",
            "\n",
            "\u001b[1m> Entering new AgentExecutor chain...\u001b[0m\n",
            "\u001b[32;1m\u001b[1;3m\n",
            "Invoking: `riza_exec_python` with `{'code': 'word = \"strawberry\"\\nprint(word.count(\"r\"))'}`\n",
            "responded: [{'id': 'toolu_01JwPLAAqqCNCjVuEnK8Fgut', 'input': {}, 'name': 'riza_exec_python', 'type': 'tool_use', 'index': 0, 'partial_json': '{\"code\": \"word = \\\\\"strawberry\\\\\"\\\\nprint(word.count(\\\\\"r\\\\\"))\"}'}]\n",
            "\n",
            "\u001b[0m\u001b[36;1m\u001b[1;3m3\n",
            "\u001b[0m\u001b[32;1m\u001b[1;3m[{'text': '\\n\\nThe word \"strawberry\" contains 3 \"r\" characters.', 'type': 'text', 'index': 0}]\u001b[0m\n",
            "\n",
            "\u001b[1m> Finished chain.\u001b[0m\n",
            "\n",
            "\n",
            "The word \"strawberry\" contains 3 \"r\" characters.\n"
          ]
        }
      ],
      "source": [
        "# Ask a tough question\n",
        "result = agent_executor.invoke({\"input\": \"how many rs are in strawberry?\"})\n",
        "print(result[\"output\"][0][\"text\"])"
      ]
    }
  ],
  "metadata": {
    "kernelspec": {
      "display_name": "Python 3 (ipykernel)",
      "language": "python",
      "name": "python3"
    },
    "language_info": {
      "codemirror_mode": {
        "name": "ipython",
        "version": 3
      },
      "file_extension": ".py",
      "mimetype": "text/x-python",
      "name": "python",
      "nbconvert_exporter": "python",
      "pygments_lexer": "ipython3",
      "version": "3.12.3"
    }
  },
  "nbformat": 4,
  "nbformat_minor": 5
}