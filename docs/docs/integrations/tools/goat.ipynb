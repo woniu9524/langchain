{
  "cells": [
    {
      "cell_type": "raw",
      "id": "afaf8039",
      "metadata": {
        "vscode": {
          "languageId": "raw"
        }
      },
      "source": [
        "---\n",
        "sidebar_label: GOAT\n",
        "---"
      ]
    },
    {
      "cell_type": "markdown",
      "id": "e49f1e0d",
      "metadata": {},
      "source": [
        "# GOAT\n\n[GOAT](https://github.com/goat-sdk/goat) 是 AI 代理的金融工具包。\n\n## 概览\n\n创建能够执行以下操作的代理：\n\n- 发送和接收付款\n- 购买实体和数字商品及服务\n- 参与各种投资策略：\n  - 赚取收益\n  - 预测市场投注\n- 购买加密资产\n- 代币化任何资产\n- 获取金融洞察\n\n### 工作原理\nGOAT 利用区块链、加密货币（如稳定币）和钱包作为基础设施，赋能代理成为经济参与者：\n\n1. 为您的代理提供一个 [钱包](https://github.com/goat-sdk/goat/tree/main#chains-and-wallets)\n2. 允许它在 [任何地方](https://github.com/goat-sdk/goat/tree/main#chains-and-wallets) 进行交易\n3. 使用超过 200 种 [工具](https://github.com/goat-sdk/goat/tree/main#tools)\n\n在此处 [查看 GOAT 支持的所有内容](https://github.com/goat-sdk/goat/tree/main#chains-and-wallets)。\n\n**轻量级且可扩展**\n与其他工具包不同，GOAT 的设计理念是轻量级且可扩展，其核心极其精简，允许您仅安装所需的工具。\n\n如果您在我们超过 200 个集成中找不到所需内容，您可以轻松地：\n\n- 创建自己的插件\n- 集成新的链\n- 集成新的钱包\n- 集成新的代理框架\n\n在此处 [查看如何操作](https://github.com/goat-sdk/goat/tree/main#-contributing)。"
      ]
    },
    {
      "cell_type": "markdown",
      "id": "0730d6a1-c893-4840-9817-5e5251676d5d",
      "metadata": {},
      "source": [
        "### 快速入门\n\n入门的最佳方式是参考下面的快速入门指南。了解如何配置 GOAT 以实现以下任一用例。\n\n- **按用例分类**\n  - **资金转账**\n    - 发送和接收付款 [[EVM](https://github.com/goat-sdk/goat/tree/main/python/examples/by-use-case/evm-send-and-receive-tokens), [Solana](https://github.com/goat-sdk/goat/tree/main/python/examples/by-use-case/solana-send-and-receive-tokens)]\n  - **投资**\n    - 赚取收益 [[Solana](https://github.com/goat-sdk/goat/tree/main/python/examples/by-use-case/solana-usdc-yield-deposit)]\n    - 购买加密资产 [[EVM](https://github.com/goat-sdk/goat/tree/main/python/examples/by-use-case/evm-swap-tokens), [Solana](https://github.com/goat-sdk/goat/tree/main/python/examples/by-use-case/solana-swap-tokens)]\n- **按钱包分类**\n  - [Crossmint](https://github.com/goat-sdk/goat/tree/main/python/examples/by-wallet/crossmint)\n- **在此处查看所有 python 快速入门指南 [here](https://github.com/goat-sdk/goat/tree/main/python/examples)。**"
      ]
    },
    {
      "cell_type": "markdown",
      "id": "abd26764",
      "metadata": {},
      "source": [
        "## 设置\n\n1. 安装核心包和 langchain 适配器：\n\n```bash\npip install goat-sdk goat-sdk-adapter-langchain\n```\n\n2. 安装您想使用的钱包类型（例如 Solana）：\n\n```bash\npip install goat-sdk-wallet-solana\n```\n\n3. 安装您想在該链中使用的插件：\n\n```bash\npip install goat-sdk-plugin-spl-token\n```\n\n## 实例化\n\n现在我们可以实例化我们的工具包：\n\n```python\nfrom goat_adapters.langchain import get_on_chain_tools\nfrom goat_wallets.solana import solana, send_solana\nfrom goat_plugins.spl_token import spl_token, SplTokenPluginOptions\nfrom goat_plugins.spl_token.tokens import SPL_TOKENS\n\n# 初始化 Solana 客户端\nclient = SolanaClient(os.getenv(\"SOLANA_RPC_ENDPOINT\"))\n\n# 初始化常规 Solana 钱包\nkeypair = Keypair.from_base58_string(os.getenv(\"SOLANA_WALLET_SEED\") or \"\")\nwallet = solana(client, keypair)\n\ntools = get_on_chain_tools(\n        wallet=wallet,\n        plugins=[\n            send_solana(),\n            spl_token(SplTokenPluginOptions(\n                network=\"mainnet\",  # 在 .env 中指定使用 devnet\n                tokens=SPL_TOKENS\n            )),\n        ],\n    )\n```\n\n## 调用\n```python\ntools[\"get_balance\"].invoke({ \"address\": \"0x1234567890123456789012345678901234567890\" })\n```\n\n## 在 agent 中使用\n\n```python\nimport os\nimport asyncio\nfrom dotenv import load_dotenv\n\n# 加载环境变量\nload_dotenv()\n\nfrom solana.rpc.api import Client as SolanaClient\nfrom solders.keypair import Keypair\n\nfrom goat_adapters.langchain import get_on_chain_tools\nfrom goat_wallets.solana import solana, send_solana\nfrom goat_plugins.spl_token import spl_token, SplTokenPluginOptions\nfrom goat_plugins.spl_token.tokens import SPL_TOKENS\n\n# 初始化 Solana 客户端\nclient = SolanaClient(os.getenv(\"SOLANA_RPC_ENDPOINT\"))\n\n# 初始化常规 Solana 钱包\nkeypair = Keypair.from_base58_string(os.getenv(\"SOLANA_WALLET_SEED\") or \"\")\nwallet = solana(client, keypair)\n\n# 初始化 LLM\nllm = ChatOpenAI(model=\"gpt-4o-mini\")\n\ndef main():\n    # 使用 Solana 钱包初始化工具\n    tools = get_on_chain_tools(\n        wallet=wallet,\n        plugins=[\n            send_solana(),\n            spl_token(SplTokenPluginOptions(\n                network=\"mainnet\",  # 在 .env 中指定使用 devnet\n                tokens=SPL_TOKENS\n            )),\n        ],\n    )\n\n    # 初始化 agent\n    # 在此处添加您的 agent 代码\n\n\nif __name__ == \"__main__\":\n    main()\n```\n\n## API 参考\n\n- 有关工具的完整列表，请参阅 [GOAT SDK 文档](https://github.com/goat-sdk/goat)。"
      ]
    }
  ],
  "metadata": {
    "kernelspec": {
      "display_name": "Python 3 (ipykernel)",
      "language": "python",
      "name": "python3"
    },
    "language_info": {
      "codemirror_mode": {
        "name": "ipython",
        "version": 3
      },
      "file_extension": ".py",
      "mimetype": "text/x-python",
      "name": "python",
      "nbconvert_exporter": "python",
      "pygments_lexer": "ipython3",
      "version": "3.10.4"
    }
  },
  "nbformat": 4,
  "nbformat_minor": 5
}