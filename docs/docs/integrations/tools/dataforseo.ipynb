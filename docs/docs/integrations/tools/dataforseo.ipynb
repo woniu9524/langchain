{
  "cells": [
    {
      "cell_type": "markdown",
      "metadata": {},
      "source": [
        "# DataForSEO\n\n>[DataForSeo](https://dataforseo.com/) 通过 API 提供全面的 SEO 和数字营销数据解决方案。\n\n> `DataForSeo API` 可以从最受欢迎的搜索引擎（如 `Google`、`Bing`、`Yahoo`）检索 `SERP`。它还可以获取不同类型搜索引擎（如 `Maps`、`News`、`Events` 等）的 SERP。\n\n本笔记本演示了如何使用 [DataForSeo API](https://dataforseo.com/apis) 获取搜索引擎结果。"
      ]
    },
    {
      "cell_type": "code",
      "execution_count": null,
      "metadata": {},
      "outputs": [],
      "source": [
        "%pip install --upgrade --quiet langchain-community"
      ]
    },
    {
      "cell_type": "code",
      "execution_count": null,
      "metadata": {},
      "outputs": [],
      "source": [
        "from langchain_community.utilities.dataforseo_api_search import DataForSeoAPIWrapper"
      ]
    },
    {
      "cell_type": "markdown",
      "metadata": {},
      "source": [
        "## 设置 API 凭证\n\n您可以通过在 `DataForSeo` 网站上注册来获取您的 API 凭证。"
      ]
    },
    {
      "cell_type": "code",
      "execution_count": null,
      "metadata": {},
      "outputs": [],
      "source": [
        "import os\n",
        "\n",
        "os.environ[\"DATAFORSEO_LOGIN\"] = \"your_api_access_username\"\n",
        "os.environ[\"DATAFORSEO_PASSWORD\"] = \"your_api_access_password\"\n",
        "\n",
        "wrapper = DataForSeoAPIWrapper()"
      ]
    },
    {
      "cell_type": "markdown",
      "metadata": {},
      "source": [
        "run 方法将返回以下任一元素中的首个结果片段：answer_box、knowledge_graph、featured_snippet、shopping、organic。"
      ]
    },
    {
      "cell_type": "code",
      "execution_count": null,
      "metadata": {},
      "outputs": [],
      "source": [
        "wrapper.run(\"Weather in Los Angeles\")"
      ]
    },
    {
      "cell_type": "markdown",
      "metadata": {},
      "source": [
        "## `run` 和 `results` 的区别\n`run` 和 `results` 是 `DataForSeoAPIWrapper` 类提供的两种方法。\n\n`run` 方法执行搜索，并返回来自答案框、知识图谱、精选摘要、购物或自然排名的第一个结果摘要。这些元素按优先级从高到低排序。\n\n`results` 方法根据封装器中设置的参数返回一个配置好的 JSON 响应。这使得在返回 API 数据方面具有更大的灵活性。"
      ]
    },
    {
      "cell_type": "markdown",
      "metadata": {},
      "source": [
        "## 获取 JSON 格式的结果\n您可以自定义要在 JSON 响应中返回的结果类型和字段。您还可以为要返回的置顶结果数量设置一个最大计数。"
      ]
    },
    {
      "cell_type": "code",
      "execution_count": null,
      "metadata": {},
      "outputs": [],
      "source": [
        "json_wrapper = DataForSeoAPIWrapper(\n",
        "    json_result_types=[\"organic\", \"knowledge_graph\", \"answer_box\"],\n",
        "    json_result_fields=[\"type\", \"title\", \"description\", \"text\"],\n",
        "    top_count=3,\n",
        ")"
      ]
    },
    {
      "cell_type": "code",
      "execution_count": null,
      "metadata": {},
      "outputs": [],
      "source": [
        "json_wrapper.results(\"Bill Gates\")"
      ]
    },
    {
      "cell_type": "markdown",
      "metadata": {},
      "source": [
        "## 自定义地点和语言\n你可以通过向 API 封装器传递附加参数来指定搜索结果的地点和语言。"
      ]
    },
    {
      "cell_type": "code",
      "execution_count": null,
      "metadata": {},
      "outputs": [],
      "source": [
        "customized_wrapper = DataForSeoAPIWrapper(\n",
        "    top_count=10,\n",
        "    json_result_types=[\"organic\", \"local_pack\"],\n",
        "    json_result_fields=[\"title\", \"description\", \"type\"],\n",
        "    params={\"location_name\": \"Germany\", \"language_code\": \"en\"},\n",
        ")\n",
        "customized_wrapper.results(\"coffee near me\")"
      ]
    },
    {
      "cell_type": "markdown",
      "metadata": {},
      "source": [
        "## 自定义搜索引擎\n您还可以指定要使用的搜索引擎。"
      ]
    },
    {
      "cell_type": "code",
      "execution_count": null,
      "metadata": {},
      "outputs": [],
      "source": [
        "customized_wrapper = DataForSeoAPIWrapper(\n",
        "    top_count=10,\n",
        "    json_result_types=[\"organic\", \"local_pack\"],\n",
        "    json_result_fields=[\"title\", \"description\", \"type\"],\n",
        "    params={\"location_name\": \"Germany\", \"language_code\": \"en\", \"se_name\": \"bing\"},\n",
        ")\n",
        "customized_wrapper.results(\"coffee near me\")"
      ]
    },
    {
      "cell_type": "markdown",
      "metadata": {},
      "source": [
        "## 自定义搜索类型\nAPI 包装器还允许您指定要执行的搜索类型。例如，您可以执行地图搜索。"
      ]
    },
    {
      "cell_type": "code",
      "execution_count": null,
      "metadata": {},
      "outputs": [],
      "source": [
        "maps_search = DataForSeoAPIWrapper(\n",
        "    top_count=10,\n",
        "    json_result_fields=[\"title\", \"value\", \"address\", \"rating\", \"type\"],\n",
        "    params={\n",
        "        \"location_coordinate\": \"52.512,13.36,12z\",\n",
        "        \"language_code\": \"en\",\n",
        "        \"se_type\": \"maps\",\n",
        "    },\n",
        ")\n",
        "maps_search.results(\"coffee near me\")"
      ]
    },
    {
      "cell_type": "markdown",
      "metadata": {},
      "source": [
        "## 与 Langchain Agent 的集成\n您可以使用 `langchain.agents` 模块中的 `Tool` 类将 `DataForSeoAPIWrapper` 与 langchain agent 集成。`Tool` 类封装了 agent 可以调用的函数。"
      ]
    },
    {
      "cell_type": "code",
      "execution_count": null,
      "metadata": {},
      "outputs": [],
      "source": [
        "from langchain_core.tools import Tool\n",
        "\n",
        "search = DataForSeoAPIWrapper(\n",
        "    top_count=3,\n",
        "    json_result_types=[\"organic\"],\n",
        "    json_result_fields=[\"title\", \"description\", \"type\"],\n",
        ")\n",
        "tool = Tool(\n",
        "    name=\"google-search-answer\",\n",
        "    description=\"My new answer tool\",\n",
        "    func=search.run,\n",
        ")\n",
        "json_tool = Tool(\n",
        "    name=\"google-search-json\",\n",
        "    description=\"My new json tool\",\n",
        "    func=search.results,\n",
        ")"
      ]
    }
  ],
  "metadata": {
    "kernelspec": {
      "display_name": "Python 3 (ipykernel)",
      "language": "python",
      "name": "python3"
    },
    "language_info": {
      "codemirror_mode": {
        "name": "ipython",
        "version": 3
      },
      "file_extension": ".py",
      "mimetype": "text/x-python",
      "name": "python",
      "nbconvert_exporter": "python",
      "pygments_lexer": "ipython3",
      "version": "3.10.12"
    }
  },
  "nbformat": 4,
  "nbformat_minor": 4
}