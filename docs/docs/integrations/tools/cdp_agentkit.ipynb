{
  "cells": [
    {
      "cell_type": "raw",
      "id": "afaf8039",
      "metadata": {},
      "source": [
        "---\n",
        "sidebar_label: CDP\n",
        "---"
      ]
    },
    {
      "cell_type": "markdown",
      "id": "e49f1e0d",
      "metadata": {},
      "source": [
        "# CDP Agentkit 工具包\n\n`CDP Agentkit` 工具包包含使 LLM Agent 能够与 [Coinbase Developer Platform](https://docs.cdp.coinbase.com/) 交互的工具。该工具包提供了一个 CDP SDK 的包装器，允许 Agent 执行链上操作，如转账、交易和智能合约交互。\n\n## 概述\n\n### 集成详情\n\n| 类 | 包 | 可序列化 | JS 支持 | 包最新 |\n| :--- | :--- | :---: | :---: | :---: |\n| CdpToolkit | `cdp-langchain` | ❌ | ❌ |  ![PyPI - Version](https://img.shields.io/pypi/v/cdp-langchain?style=flat-square&label=%20) |\n\n### 工具功能\n\n该工具包提供以下工具：\n\n1. **get_wallet_details** - 获取 MPC 钱包的详细信息\n2. **get_balance** - 获取特定资产的余额\n3. **request_faucet_funds** - 从水龙头请求测试代币\n4. **transfer** - 在地址之间转账资产\n5. **trade** - 交易资产（仅限主网）\n6. **deploy_token** - 部署 ERC-20 代币合约\n7. **mint_nft** - 从现有合约铸造 NFT\n8. **deploy_nft** - 部署新的 NFT 合约\n9. **register_basename** - 为钱包注册一个基本名称\n\n我们鼓励您添加自己的工具，包括 CDP 和 web2 API，以创建满足您需求的定制 Agent。\n\n## 设置\n\n总体来说，我们将执行以下操作：\n\n1. 安装 langchain 包\n2. 设置您的 CDP API 凭证\n3. 初始化 CDP 包装器和工具包\n4. 使用 `toolkit.get_tools()` 将工具传递给您的 Agent"
      ]
    },
    {
      "cell_type": "markdown",
      "id": "72ee0c4b",
      "metadata": {},
      "source": "要启用对单个工具的自动追踪，请设置您的 [LangSmith](https://docs.smith.langchain.com/) API 密钥："
    },
    {
      "cell_type": "code",
      "execution_count": null,
      "id": "a15d341e",
      "metadata": {},
      "outputs": [],
      "source": [
        "# os.environ[\"LANGSMITH_API_KEY\"] = getpass.getpass(\"Enter your LangSmith API key: \")\n",
        "# os.environ[\"LANGSMITH_TRACING\"] = \"true\""
      ]
    },
    {
      "cell_type": "markdown",
      "id": "0730d6a1",
      "metadata": {},
      "source": [
        "### 安装\n\n此工具包位于 `cdp-langchain` 包中："
      ]
    },
    {
      "cell_type": "code",
      "execution_count": null,
      "id": "652d6238",
      "metadata": {},
      "outputs": [],
      "source": [
        "%pip install -qU cdp-langchain"
      ]
    },
    {
      "cell_type": "markdown",
      "id": "a38cde65",
      "metadata": {},
      "source": [
        "#### 设置环境变量\n\n要使用此工具包，您必须先设置以下环境变量，以访问[CDP API](https://docs.cdp.coinbase.com/mpc-wallet/docs/quickstart) 来创建钱包和进行链上交互。您可以在[CDP Portal](https://cdp.coinbase.com/)上免费注册 API 密钥："
      ]
    },
    {
      "cell_type": "code",
      "execution_count": null,
      "id": "cb09c344",
      "metadata": {},
      "outputs": [],
      "source": [
        "import getpass\n",
        "import os\n",
        "\n",
        "for env_var in [\n",
        "    \"CDP_API_KEY_NAME\",\n",
        "    \"CDP_API_KEY_PRIVATE_KEY\",\n",
        "]:\n",
        "    if not os.getenv(env_var):\n",
        "        os.environ[env_var] = getpass.getpass(f\"Enter your {env_var}: \")\n",
        "\n",
        "# Optional: Set network (defaults to base-sepolia)\n",
        "os.environ[\"NETWORK_ID\"] = \"base-sepolia\"  # or \"base-mainnet\""
      ]
    },
    {
      "cell_type": "markdown",
      "id": "5c5f2839",
      "metadata": {},
      "source": [
        "## 实例化\n\n现在我们可以实例化我们的工具集："
      ]
    },
    {
      "cell_type": "code",
      "execution_count": null,
      "id": "51a60dbe",
      "metadata": {},
      "outputs": [],
      "source": [
        "from cdp_langchain.agent_toolkits import CdpToolkit\n",
        "from cdp_langchain.utils import CdpAgentkitWrapper\n",
        "\n",
        "# Initialize CDP wrapper\n",
        "cdp = CdpAgentkitWrapper()\n",
        "\n",
        "# Create toolkit from wrapper\n",
        "toolkit = CdpToolkit.from_cdp_agentkit_wrapper(cdp)"
      ]
    },
    {
      "cell_type": "markdown",
      "id": "d11245ad",
      "metadata": {},
      "source": [
        "## 工具\n\n查看[可用工具](#tool-features)："
      ]
    },
    {
      "cell_type": "code",
      "execution_count": null,
      "id": "310bf18e",
      "metadata": {},
      "outputs": [],
      "source": [
        "tools = toolkit.get_tools()\n",
        "for tool in tools:\n",
        "    print(tool.name)"
      ]
    },
    {
      "cell_type": "markdown",
      "id": "23e11cc9",
      "metadata": {},
      "source": [
        "## 在代理中使用\n\n我们需要一个 LLM 或聊天模型："
      ]
    },
    {
      "cell_type": "code",
      "execution_count": null,
      "id": "d1ee55bc",
      "metadata": {},
      "outputs": [],
      "source": [
        "from langchain_openai import ChatOpenAI\n",
        "\n",
        "llm = ChatOpenAI(model=\"gpt-4o-mini\")"
      ]
    },
    {
      "cell_type": "markdown",
      "id": "3a5bb5ca",
      "metadata": {},
      "source": [
        "初始化代理，使用以下工具："
      ]
    },
    {
      "cell_type": "code",
      "execution_count": null,
      "id": "f8a2c4b1",
      "metadata": {},
      "outputs": [],
      "source": [
        "from langgraph.prebuilt import create_react_agent\n",
        "\n",
        "tools = toolkit.get_tools()\n",
        "agent_executor = create_react_agent(llm, tools)"
      ]
    },
    {
      "cell_type": "markdown",
      "id": "b4a7c9d2",
      "metadata": {},
      "source": [
        "示例用法："
      ]
    },
    {
      "cell_type": "code",
      "execution_count": null,
      "id": "c9a8e4f3",
      "metadata": {},
      "outputs": [],
      "source": [
        "example_query = \"Send 0.005 ETH to john2879.base.eth\"\n",
        "\n",
        "events = agent_executor.stream(\n",
        "    {\"messages\": [(\"user\", example_query)]},\n",
        "    stream_mode=\"values\",\n",
        ")\n",
        "for event in events:\n",
        "    event[\"messages\"][-1].pretty_print()"
      ]
    },
    {
      "cell_type": "markdown",
      "id": "e5a7c9d4",
      "metadata": {},
      "source": [
        "已将 0.005 eth 转账至 john2879.base.eth。\n转账交易哈希：0x78c7c2878659a0de216d0764fc87eff0d38b47f3315fa02ba493a83d8e782d1e\n转账交易链接：https://sepolia.basescan.org/tx/0x78c7c2878659a0de216d0764fc87eff0d38b47f3315fa02ba493a83d8e782d1"
      ]
    },
    {
      "cell_type": "markdown",
      "id": "f5a7c9d5",
      "metadata": {},
      "source": [
        "## CDP 工具包特定功能\n\n### 钱包管理\n\n该工具包维护一个 MPC 钱包。钱包数据可以导出和导入，以便在会话之间持久化："
      ]
    },
    {
      "cell_type": "code",
      "execution_count": null,
      "id": "g5a7c9d6",
      "metadata": {},
      "outputs": [],
      "source": [
        "# Export wallet data\n",
        "wallet_data = cdp.export_wallet()\n",
        "\n",
        "# Import wallet data\n",
        "values = {\"cdp_wallet_data\": wallet_data}\n",
        "cdp = CdpAgentkitWrapper(**values)"
      ]
    },
    {
      "cell_type": "markdown",
      "id": "h5a7c9d7",
      "metadata": {},
      "source": [
        "### 网络支持\n\n该工具包支持[多个网络](https://docs.cdp.coinbase.com/cdp-sdk/docs/networks)\n\n### 无Gas费交易\n\n部分操作支持在Base主网上进行无Gas费交易：\n- USDC 转账\n- EURC 转账\n- cbBTC 转账"
      ]
    },
    {
      "cell_type": "markdown",
      "id": "i5a7c9d8",
      "metadata": {},
      "source": [
        "## API 参考\n\n有关所有 CDP 功能和配置的详细文档，请访问 [CDP 文档](https://docs.cdp.coinbase.com/mpc-wallet/docs/welcome)。"
      ]
    }
  ],
  "metadata": {
    "kernelspec": {
      "display_name": "Python 3 (ipykernel)",
      "language": "python",
      "name": "python3"
    },
    "language_info": {
      "codemirror_mode": {
        "name": "ipython",
        "version": 3
      },
      "file_extension": ".py",
      "mimetype": "text/x-python",
      "name": "python",
      "nbconvert_exporter": "python",
      "pygments_lexer": "ipython3",
      "version": "3.10.4"
    }
  },
  "nbformat": 4,
  "nbformat_minor": 5
}