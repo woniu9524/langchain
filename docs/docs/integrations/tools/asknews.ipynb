{
  "cells": [
    {
      "cell_type": "markdown",
      "id": "a6f91f20",
      "metadata": {},
      "source": [
        "# AskNews"
      ]
    },
    {
      "cell_type": "markdown",
      "id": "5e24a889",
      "metadata": {},
      "source": [
        "> [AskNews](https://asknews.app) 使用单一的自然语言查询，即可为任何 LLM 提供最新的全球新闻（或历史新闻）。具体来说，AskNews 每天翻译、总结、提取实体并将它们索引到热点和冷数据向量数据库中，从而丰富 300,000 多篇文章。AskNews 将这些向量数据库置于低延迟端点上，供您使用。当您查询 AskNews 时，会收到一个经过提示优化的字符串，其中包含所有最相关的丰富信息（例如，实体、分类、翻译、摘要）。这意味着您无需管理自己的新闻 RAG，也无需担心如何以精炼的方式将新闻信息正确地传达给您的 LLM。\n> AskNews 还致力于透明度，因此我们的报道覆盖了数百个国家、13 种语言和 50,000 个来源，并对此进行了监控和多样化。如果您想跟踪我们的来源覆盖情况，可以访问我们的[透明度仪表板](https://asknews.app/en/transparency)。\n\n## Setup\n\n集成存在于 `langchain-community` 包中。我们还需要安装 `asknews` 包本身。\n\n```bash\npip install -U langchain-community asknews\n```\n\n我们还需要设置我们的 AskNews API 凭证，您可以在[AskNews 控制台](https://my.asknews.app)获取。"
      ]
    },
    {
      "cell_type": "code",
      "execution_count": 1,
      "id": "e0b178a2-8816-40ca-b57c-ccdd86dde9c9",
      "metadata": {},
      "outputs": [],
      "source": [
        "import getpass\n",
        "import os\n",
        "\n",
        "os.environ[\"ASKNEWS_CLIENT_ID\"] = getpass.getpass()\n",
        "os.environ[\"ASKNEWS_CLIENT_SECRET\"] = getpass.getpass()"
      ]
    },
    {
      "cell_type": "markdown",
      "id": "1c97218f-f366-479d-8bf7-fe9f2f6df73f",
      "metadata": {},
      "source": [
        "## 用法\n\n在此我们展示如何单独使用该工具。"
      ]
    },
    {
      "cell_type": "code",
      "execution_count": 11,
      "id": "8b3ddfe9-ca79-494c-a7ab-1f56d9407a64",
      "metadata": {},
      "outputs": [
        {
          "data": {
            "text/plain": [
              "\"\\n<doc>\\n[1]:\\ntitle: Market Awaits Comments From Key Fed Official\\nsummary: The market is awaiting comments from Fed Governor Christopher Waller, but it's not expected to move markets significantly. The recent Consumer Price Index (CPI) report showed slimming inflation figures, leading to a conclusion that inflation is being curbed. This has led to a 'soft landing' narrative, causing bullish sentiment in the stock market, with the Dow, S&P 500, Nasdaq, and Russell 2000 indices near all-time highs. NVIDIA is set to report earnings next week, and despite its 95% year-to-date growth, it remains a Zacks Rank #1 (Strong Buy) stock. The article also mentions upcoming economic data releases, including New and Existing Home Sales, S&P flash PMI Services and Manufacturing, Durable Goods, and Weekly Jobless Claims.\\nsource: Yahoo\\npublished: May 17 2024 14:53\\nOrganization: Nasdaq, Fed, NVIDIA, Zacks\\nPerson: Christopher Waller\\nEvent: Weekly Jobless Claims\\nclassification: Business\\nsentiment: 0\\n</doc>\\n\\n<doc>\\n[2]:\\ntitle: US futures flat as Fed comments cool rate cut optimism\\nsummary: US stock index futures remained flat on Thursday evening, following a weak finish on Wall Street, as Federal Reserve officials warned that bets on interest rate cuts were potentially premature. The Fed officials, including Atlanta Fed President Raphael Bostic, New York Fed President John Williams, and Cleveland Fed President Loretta Mester, stated that the central bank still needed more confidence to cut interest rates, and that the timing of the move remained uncertain. As a result, investors slightly trimmed their expectations for a September rate cut, and the S&P 500 and Nasdaq 100 indexes fell 0.2% and 0.3%, respectively. Meanwhile, Reddit surged 11% after announcing a partnership with OpenAI, while Take-Two Interactive and DXC Technology fell after issuing disappointing earnings guidance.\\nsource: Yahoo\\npublished: May 16 2024 20:08\\nLocation: US, Wall Street\\nDate: September, Thursday\\nOrganization: Atlanta Fed, Cleveland Fed, New York Fed, Fed, Reddit, Take-Two Interactive, DXC Technology, OpenAI, Federal Reserve\\nTitle: President\\nPerson: Loretta Mester, Raphael Bostic, John Williams\\nclassification: Business\\nsentiment: 0\\n</doc>\\n\""
            ]
          },
          "execution_count": 11,
          "metadata": {},
          "output_type": "execute_result"
        }
      ],
      "source": [
        "from langchain_community.tools.asknews import AskNewsSearch\n",
        "\n",
        "tool = AskNewsSearch(max_results=2)\n",
        "tool.invoke({\"query\": \"Effect of fed policy on tech sector\"})"
      ]
    },
    {
      "cell_type": "markdown",
      "id": "21c5b56f-0da0-485f-b6f5-38950bae4fd0",
      "metadata": {},
      "source": [
        "## 链式调用\n我们在这里展示如何将其用作 agent 的一部分。我们将使用 OpenAI Functions Agent，因此需要为其设置和安装所需的依赖项。我们还将使用 [LangSmith Hub](https://smith.langchain.com/hub) 来获取 prompt，因此需要安装它。\n\n```bash\npip install -U langchain-openai langchainhub\n```"
      ]
    },
    {
      "cell_type": "code",
      "execution_count": 4,
      "id": "a1c8ea19-7100-407d-8e8c-f037f9317255",
      "metadata": {},
      "outputs": [],
      "source": [
        "import getpass\n",
        "import os\n",
        "\n",
        "os.environ[\"OPENAI_API_KEY\"] = getpass.getpass()"
      ]
    },
    {
      "cell_type": "code",
      "execution_count": 10,
      "id": "520767b8-9e61-4485-840a-d16f1da5eb3a",
      "metadata": {
        "ExecuteTime": {
          "end_time": "2023-10-21T13:15:37.974229Z",
          "start_time": "2023-10-21T13:15:10.007898Z"
        }
      },
      "outputs": [
        {
          "data": {
            "text/plain": [
              "{'input': 'How is the tech sector being affected by fed policy?',\n",
              " 'output': 'The tech sector is being affected by federal policy in various ways, particularly in relation to artificial intelligence (AI) regulation and investment. Here are some recent news articles related to the tech sector and federal policy:\\n\\n1. The US Senate has released a bipartisan AI policy roadmap, addressing areas of consensus and disagreement on AI use and development. The roadmap includes recommendations for intellectual property reforms, funding for AI research, sector-specific rules, and transparency requirements. It also emphasizes the need for increased funding for AI innovation and investments in national defense. [Source: The National Law Review]\\n\\n2. A bipartisan group of US senators, led by Senate Majority Leader Chuck Schumer, has proposed allocating at least $32 billion over the next three years to develop AI and establish safeguards around it. The proposal aims to regulate and promote AI development to maintain US competitiveness and improve quality of life. [Source: Cointelegraph]\\n\\n3. The US administration is planning to restrict the export of advanced AI models to prevent China and Russia from accessing the technology. This move is part of efforts to protect national security and prevent the misuse of AI by foreign powers. [Source: O Cafezinho]\\n\\n4. The US and China have discussed the risks of AI technologies, with the US taking the lead in the AI arms race. The US has proposed a $32 billion increase in federal spending on AI to maintain its lead, despite concerns about stifling innovation. [Source: AOL]\\n\\nThese articles highlight the ongoing discussions and actions related to AI regulation, investment, and export restrictions that are impacting the tech sector in response to federal policy decisions.'}"
            ]
          },
          "execution_count": 10,
          "metadata": {},
          "output_type": "execute_result"
        }
      ],
      "source": [
        "from langchain import hub\n",
        "from langchain.agents import AgentExecutor, create_openai_functions_agent\n",
        "from langchain_community.tools.asknews import AskNewsSearch\n",
        "from langchain_openai import ChatOpenAI\n",
        "\n",
        "prompt = hub.pull(\"hwchase17/openai-functions-agent\")\n",
        "llm = ChatOpenAI(temperature=0)\n",
        "asknews_tool = AskNewsSearch()\n",
        "tools = [asknews_tool]\n",
        "agent = create_openai_functions_agent(llm, tools, prompt)\n",
        "agent_executor = AgentExecutor(agent=agent, tools=tools)\n",
        "agent_executor.invoke({\"input\": \"How is the tech sector being affected by fed policy?\"})"
      ]
    },
    {
      "cell_type": "code",
      "execution_count": null,
      "id": "917f2045",
      "metadata": {},
      "outputs": [],
      "source": []
    }
  ],
  "metadata": {
    "kernelspec": {
      "display_name": "Python 3 (ipykernel)",
      "language": "python",
      "name": "python3"
    },
    "language_info": {
      "codemirror_mode": {
        "name": "ipython",
        "version": 3
      },
      "file_extension": ".py",
      "mimetype": "text/x-python",
      "name": "python",
      "nbconvert_exporter": "python",
      "pygments_lexer": "ipython3",
      "version": "3.11.9"
    }
  },
  "nbformat": 4,
  "nbformat_minor": 5
}