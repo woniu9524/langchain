{
  "cells": [
    {
      "cell_type": "markdown",
      "metadata": {},
      "source": [
        "# 文件系统\n\nLangChain 开箱即用地提供了与本地文件系统交互的工具。本教程将介绍其中的一些。\n\n**注意：**不建议在沙箱环境外使用这些工具！"
      ]
    },
    {
      "cell_type": "code",
      "execution_count": null,
      "metadata": {},
      "outputs": [],
      "source": [
        "%pip install -qU langchain-community"
      ]
    },
    {
      "cell_type": "markdown",
      "metadata": {},
      "source": [
        "首先，我们将导入工具。"
      ]
    },
    {
      "cell_type": "code",
      "execution_count": null,
      "metadata": {
        "tags": []
      },
      "outputs": [],
      "source": [
        "from tempfile import TemporaryDirectory\n",
        "\n",
        "from langchain_community.agent_toolkits import FileManagementToolkit\n",
        "\n",
        "# We'll make a temporary directory to avoid clutter\n",
        "working_directory = TemporaryDirectory()"
      ]
    },
    {
      "cell_type": "markdown",
      "metadata": {},
      "source": [
        "## FileManagementToolkit\n\n如果你想为代理提供所有文件工具，使用此工具包可以轻松实现。我们将临时目录作为根目录传递进来，作为 LLM 的工作空间。\n\n建议始终传入一个根目录，因为如果没有根目录，LLM 很容易污染工作目录，并且没有任何针对直接提示注入的验证。"
      ]
    },
    {
      "cell_type": "code",
      "execution_count": null,
      "metadata": {
        "tags": []
      },
      "outputs": [
        {
          "data": {
            "text/plain": [
              "[CopyFileTool(root_dir='/tmp/tmprdvsw3tg'),\n",
              " DeleteFileTool(root_dir='/tmp/tmprdvsw3tg'),\n",
              " FileSearchTool(root_dir='/tmp/tmprdvsw3tg'),\n",
              " MoveFileTool(root_dir='/tmp/tmprdvsw3tg'),\n",
              " ReadFileTool(root_dir='/tmp/tmprdvsw3tg'),\n",
              " WriteFileTool(root_dir='/tmp/tmprdvsw3tg'),\n",
              " ListDirectoryTool(root_dir='/tmp/tmprdvsw3tg')]"
            ]
          },
          "execution_count": 2,
          "metadata": {},
          "output_type": "execute_result"
        }
      ],
      "source": [
        "toolkit = FileManagementToolkit(\n",
        "    root_dir=str(working_directory.name)\n",
        ")  # If you don't provide a root_dir, operations will default to the current working directory\n",
        "toolkit.get_tools()"
      ]
    },
    {
      "cell_type": "markdown",
      "metadata": {},
      "source": [
        "### 选择文件系统工具\n\n如果您只想选择某些工具，可以在初始化工具包时将它们作为参数传入，也可以单独初始化所需的工具。"
      ]
    },
    {
      "cell_type": "code",
      "execution_count": null,
      "metadata": {
        "tags": []
      },
      "outputs": [
        {
          "data": {
            "text/plain": [
              "[ReadFileTool(root_dir='/tmp/tmprdvsw3tg'),\n",
              " WriteFileTool(root_dir='/tmp/tmprdvsw3tg'),\n",
              " ListDirectoryTool(root_dir='/tmp/tmprdvsw3tg')]"
            ]
          },
          "execution_count": 3,
          "metadata": {},
          "output_type": "execute_result"
        }
      ],
      "source": [
        "tools = FileManagementToolkit(\n",
        "    root_dir=str(working_directory.name),\n",
        "    selected_tools=[\"read_file\", \"write_file\", \"list_directory\"],\n",
        ").get_tools()\n",
        "tools"
      ]
    },
    {
      "cell_type": "code",
      "execution_count": null,
      "metadata": {},
      "outputs": [
        {
          "data": {
            "text/plain": [
              "'File written successfully to example.txt.'"
            ]
          },
          "execution_count": 4,
          "metadata": {},
          "output_type": "execute_result"
        }
      ],
      "source": [
        "read_tool, write_tool, list_tool = tools\n",
        "write_tool.invoke({\"file_path\": \"example.txt\", \"text\": \"Hello World!\"})"
      ]
    },
    {
      "cell_type": "code",
      "execution_count": null,
      "metadata": {},
      "outputs": [
        {
          "data": {
            "text/plain": [
              "'example.txt'"
            ]
          },
          "execution_count": 5,
          "metadata": {},
          "output_type": "execute_result"
        }
      ],
      "source": [
        "# List files in the working directory\n",
        "list_tool.invoke({})"
      ]
    },
    {
      "cell_type": "code",
      "execution_count": null,
      "metadata": {},
      "outputs": [],
      "source": []
    }
  ],
  "metadata": {
    "kernelspec": {
      "display_name": "Python 3 (ipykernel)",
      "language": "python",
      "name": "python3"
    },
    "language_info": {
      "codemirror_mode": {
        "name": "ipython",
        "version": 3
      },
      "file_extension": ".py",
      "mimetype": "text/x-python",
      "name": "python",
      "nbconvert_exporter": "python",
      "pygments_lexer": "ipython3",
      "version": "3.9.18"
    }
  },
  "nbformat": 4,
  "nbformat_minor": 4
}