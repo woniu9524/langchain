{
  "cells": [
    {
      "cell_type": "markdown",
      "id": "65142ccb18a6add5",
      "metadata": {},
      "source": "# Oxylabs"
    },
    {
      "cell_type": "markdown",
      "id": "19976df355f9c461",
      "metadata": {},
      "source": [
        ">[Oxylabs](https://oxylabs.io/) 是市场领先的网络情报收集平台，以最高的商业、道德和合规标准为驱动，赋能全球企业解锁数据驱动的洞察。\n\n## 概览\n\n此包包含 LangChain 与 Oxylabs 的集成，提供了使用 LangChain 框架通过 Oxylabs Web Scraper API 抓取 Google 搜索结果的工具。\n\n此包提供以下类：\n- `OxylabsSearchRun` - 一个返回格式化文本的 Google 搜索结果的工具\n- `OxylabsSearchResults` - 一个返回 JSON 格式的 Google 搜索结果的工具\n- `OxylabsSearchAPIWrapper` - 用于初始化 Oxylabs API 的 API 封装器"
      ]
    },
    {
      "cell_type": "markdown",
      "id": "76e6d8030199710d",
      "metadata": {},
      "source": [
        "|             定价             |\n|:-------------------------------:|\n| ✅ 免费 5,000 次结果，有效期 1 周 |"
      ]
    },
    {
      "cell_type": "markdown",
      "id": "eb59c5f3051be9d4",
      "metadata": {},
      "source": "## 设置"
    },
    {
      "cell_type": "markdown",
      "id": "45951d881c460419",
      "metadata": {},
      "source": "安装所需的依赖项。"
    },
    {
      "cell_type": "code",
      "id": "576e08c41f16ceda",
      "metadata": {},
      "source": [
        "%pip install -qU langchain-oxylabs"
      ],
      "outputs": [],
      "execution_count": null
    },
    {
      "cell_type": "markdown",
      "id": "ce19bb3a52a3ab60",
      "metadata": {},
      "source": "### 凭证"
    },
    {
      "cell_type": "markdown",
      "id": "b8330dfd5861482e",
      "metadata": {},
      "source": "设置正确的 API 密钥和环境变量。创建您的 API 用户凭据：在 [Oxylabs dashboard](https://dashboard.oxylabs.io/en/registration) 注册免费试用或购买产品，以创建您的 API 用户凭据（OXYLABS_USERNAME 和 OXYLABS_PASSWORD）。"
    },
    {
      "cell_type": "code",
      "id": "474b6eaf6e35efda",
      "metadata": {},
      "source": [
        "import getpass\n",
        "import os\n",
        "\n",
        "os.environ[\"OXYLABS_USERNAME\"] = getpass.getpass(\"Enter your Oxylabs username: \")\n",
        "os.environ[\"OXYLABS_PASSWORD\"] = getpass.getpass(\"Enter your Oxylabs password: \")"
      ],
      "outputs": [],
      "execution_count": null
    },
    {
      "cell_type": "markdown",
      "id": "ae310f86b113bd78",
      "metadata": {},
      "source": "## 实例化"
    },
    {
      "cell_type": "code",
      "id": "69ea8139f6152b48",
      "metadata": {},
      "source": [
        "from langchain_oxylabs import OxylabsSearchAPIWrapper, OxylabsSearchRun\n",
        "\n",
        "oxylabs_wrapper = OxylabsSearchAPIWrapper()\n",
        "tool_ = OxylabsSearchRun(wrapper=oxylabs_wrapper)"
      ],
      "outputs": [],
      "execution_count": null
    },
    {
      "cell_type": "markdown",
      "id": "636efff6267b9bc1",
      "metadata": {},
      "source": "## 调用"
    },
    {
      "cell_type": "markdown",
      "id": "272f5fdaed5fa000",
      "metadata": {},
      "source": "### 使用参数直接调用"
    },
    {
      "cell_type": "markdown",
      "id": "3c26724911f6cfdf",
      "metadata": {},
      "source": "`OxylabsSearchRun` 工具接受一个名为 \"query\" 的参数，该参数应该是一个自然语言查询，并以组合字符串格式返回结果："
    },
    {
      "cell_type": "code",
      "id": "b5f4d423cb3abf",
      "metadata": {},
      "source": [
        "tool_.invoke({\"query\": \"Restaurants in Paris.\"})"
      ],
      "outputs": [],
      "execution_count": null
    },
    {
      "cell_type": "markdown",
      "id": "784aad18bba31062",
      "metadata": {},
      "source": "### 使用 ToolCall 调用"
    },
    {
      "cell_type": "code",
      "id": "8afd1652e2c4e7c9",
      "metadata": {},
      "source": [
        "tool_ = OxylabsSearchRun(\n",
        "    wrapper=oxylabs_wrapper,\n",
        "    kwargs={\n",
        "        \"result_categories\": [\n",
        "            \"local_information\",\n",
        "            \"combined_search_result\",\n",
        "        ]\n",
        "    },\n",
        ")"
      ],
      "outputs": [],
      "execution_count": null
    },
    {
      "cell_type": "code",
      "id": "1b903fb2f8272df2",
      "metadata": {},
      "source": [
        "from pprint import pprint\n",
        "\n",
        "model_generated_tool_call = {\n",
        "    \"args\": {\n",
        "        \"query\": \"Visit restaurants in Vilnius.\",\n",
        "        \"geo_location\": \"Vilnius,Lithuania\",\n",
        "    },\n",
        "    \"id\": \"1\",\n",
        "    \"name\": \"oxylabs_search\",\n",
        "    \"type\": \"tool_call\",\n",
        "}\n",
        "tool_call_result = tool_.invoke(model_generated_tool_call)\n",
        "\n",
        "# The content is a JSON string of results\n",
        "pprint(tool_call_result.content)"
      ],
      "outputs": [],
      "execution_count": null
    },
    {
      "cell_type": "markdown",
      "id": "a436fc39ce17b6da",
      "metadata": {},
      "source": [
        "## 在 Agent 中使用\n安装所需的依赖。"
      ]
    },
    {
      "cell_type": "code",
      "id": "a6f23e65092e8d27",
      "metadata": {},
      "source": "%pip install -qU \"langchain[openai]\" langgraph",
      "outputs": [],
      "execution_count": null
    },
    {
      "cell_type": "code",
      "id": "21078a0c265759ff",
      "metadata": {},
      "source": [
        "import getpass\n",
        "import os\n",
        "\n",
        "from langchain.chat_models import init_chat_model\n",
        "\n",
        "os.environ[\"OPENAI_API_KEY\"] = getpass.getpass(\"Enter API key for OpenAI: \")\n",
        "llm = init_chat_model(\"gpt-4o-mini\", model_provider=\"openai\")"
      ],
      "outputs": [],
      "execution_count": null
    },
    {
      "cell_type": "code",
      "id": "396548ee2f08fb30",
      "metadata": {},
      "source": [
        "from langgraph.prebuilt import create_react_agent\n",
        "\n",
        "# Initialize OxylabsSearchRun tool\n",
        "tool_ = OxylabsSearchRun(wrapper=oxylabs_wrapper)\n",
        "\n",
        "agent = create_react_agent(llm, [tool_])\n",
        "\n",
        "user_input = \"What happened in the latest Burning Man floods?\"\n",
        "\n",
        "for step in agent.stream(\n",
        "    {\"messages\": user_input},\n",
        "    stream_mode=\"values\",\n",
        "):\n",
        "    step[\"messages\"][-1].pretty_print()"
      ],
      "outputs": [],
      "execution_count": null
    },
    {
      "cell_type": "markdown",
      "id": "b10bbcf5ce299fd5",
      "metadata": {},
      "source": [
        "## JSON 结果\n`OxylabsSearchResults` 工具可以作为 `OxylabsSearchRun` 的替代品，以 JSON 格式检索结果："
      ]
    },
    {
      "cell_type": "code",
      "id": "ef0d856f571c4938",
      "metadata": {},
      "source": [
        "import json\n",
        "\n",
        "from langchain_oxylabs import OxylabsSearchResults\n",
        "\n",
        "tool_ = OxylabsSearchResults(wrapper=oxylabs_wrapper)\n",
        "\n",
        "response_results = tool_.invoke({\"query\": \"What are the most famous artists?\"})\n",
        "response_results = json.loads(response_results)\n",
        "\n",
        "for result in response_results:\n",
        "    for key, value in result.items():\n",
        "        print(f\"{key}: {value}\")"
      ],
      "outputs": [],
      "execution_count": null
    },
    {
      "cell_type": "markdown",
      "id": "7f16702d224dabb2",
      "metadata": {},
      "source": [
        "## API 参考\n有关此集成包的更多信息，请访问：https://github.com/oxylabs/langchain-oxylabs\n\nOxylabs Web Scraper API 文档：https://developers.oxylabs.io/scraper-apis/web-scraper-api"
      ]
    }
  ],
  "metadata": {
    "kernelspec": {
      "display_name": "Python 3",
      "language": "python",
      "name": "python3"
    },
    "language_info": {
      "codemirror_mode": {
        "name": "ipython",
        "version": 2
      },
      "file_extension": ".py",
      "mimetype": "text/x-python",
      "name": "python",
      "nbconvert_exporter": "python",
      "pygments_lexer": "ipython2",
      "version": "2.7.6"
    }
  },
  "nbformat": 4,
  "nbformat_minor": 5
}