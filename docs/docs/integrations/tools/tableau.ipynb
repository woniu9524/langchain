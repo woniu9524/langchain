{
  "cells": [
    {
      "cell_type": "markdown",
      "id": "1f302499-eb05-4296-8716-950babc0f10e",
      "metadata": {},
      "source": [
        "# Tableau\n\n本手册提供一个快速入门指南，介绍如何使用 [Tableau](https://help.tableau.com/current/api/vizql-data-service/en-us/index.html)。"
      ]
    },
    {
      "cell_type": "markdown",
      "id": "4d57b913-819e-4676-9f6e-3afe0a80030e",
      "metadata": {},
      "source": [
        "### 概述\n\nTableau 的 VizQL 数据服务（又名 VDS）为开发人员提供了对其 Tableau 已发布数据源的编程访问权限，使他们能够为任何自定义工作负载或应用程序（包括 AI Agent）扩展其业务语义。`simple_datasource_qa` 工具将 VDS 添加到 Langchain 框架。本笔记本展示了如何使用它来构建基于企业语义模型回答分析问题的代理（Agents）。\n\n请关注 [tableau-langchain](https://github.com/Tab-SE/tableau_langchain) 项目，了解即将推出的更多工具！"
      ]
    },
    {
      "cell_type": "markdown",
      "id": "311bce64",
      "metadata": {},
      "source": [
        "#### 设置\n请确保您正在运行并可以访问以下环境：\n1. Python 3.12.2 或更高版本\n2. Tableau Cloud 或 Server 环境，并且至少有一个已发布的数据源\n\n通过安装和/或导入所需的包即可开始"
      ]
    },
    {
      "cell_type": "code",
      "execution_count": null,
      "id": "9b178e95-ffae-4f04-ad77-1fdc2ab05edf",
      "metadata": {},
      "outputs": [],
      "source": [
        "# %pip install langchain-openai"
      ]
    },
    {
      "cell_type": "code",
      "execution_count": null,
      "id": "8605e87a-2253-4c89-992a-ecdbec955ef6",
      "metadata": {},
      "outputs": [],
      "source": [
        "# %pip install langgraph"
      ]
    },
    {
      "cell_type": "code",
      "execution_count": null,
      "id": "c13dca76",
      "metadata": {},
      "outputs": [
        {
          "name": "stdout",
          "output_type": "stream",
          "text": [
            "Requirement already satisfied: regex>=2022.1.18 in /Users/joe.constantino/.pyenv/versions/3.12.2/lib/python3.12/site-packages (from tiktoken<1,>=0.7->langchain-openai->langchain-tableau) (2024.11.6)\r\n",
            "Requirement already satisfied: httpcore==1.* in /Users/joe.constantino/.pyenv/versions/3.12.2/lib/python3.12/site-packages (from httpx>=0.25.2->langgraph-sdk<0.2.0,>=0.1.42->langgraph->langchain-tableau) (1.0.7)\r\n",
            "Requirement already satisfied: h11<0.15,>=0.13 in /Users/joe.constantino/.pyenv/versions/3.12.2/lib/python3.12/site-packages (from httpcore==1.*->httpx>=0.25.2->langgraph-sdk<0.2.0,>=0.1.42->langgraph->langchain-tableau) (0.14.0)\r\n"
          ]
        }
      ],
      "source": [
        "# %pip install langchain-tableau --upgrade"
      ]
    },
    {
      "cell_type": "markdown",
      "id": "bbaa05f4",
      "metadata": {},
      "source": [
        "请注意，使用更新的包可能需要重新启动内核。"
      ]
    },
    {
      "cell_type": "markdown",
      "id": "80473fcc",
      "metadata": {},
      "source": [
        "### 凭证\n\n你可以显式声明环境变量，如本文档中的多个示例所示。但是，如果未提供这些参数，simple_datasource_qa 工具将尝试从环境变量中自动读取它们。\n\n对于你选择查询的数据源，请确保已在 Tableau 中更新 VizqlDataApiAccess 权限，允许 VDS API 通过 REST 访问该数据源。更多信息请参见[此处](https://help.tableau.com/current/server/en-us/permissions_capabilities.htm#data-sources)。"
      ]
    },
    {
      "cell_type": "code",
      "execution_count": 1,
      "id": "310d21b3",
      "metadata": {},
      "outputs": [],
      "source": [
        "# langchain package imports\n",
        "from langchain_openai import ChatOpenAI\n",
        "\n",
        "# langchain_tableau and langgraph imports\n",
        "from langchain_tableau.tools.simple_datasource_qa import initialize_simple_datasource_qa\n",
        "from langgraph.prebuilt import create_react_agent"
      ]
    },
    {
      "cell_type": "markdown",
      "id": "596d6718-f2e1-44bb-b614-65447862661c",
      "metadata": {},
      "source": [
        "## 认证变量\n\n你可以像本手册中的几个例子那样，显式声明你的环境变量。但是，如果未提供这些参数，simple_datasource_qa 工具将尝试从环境变量中自动读取它们。\n\n对于你选择的数据源，请确保你已更新 Tableau 中的 `VizqlDataApiAccess` 权限，允许 VDS API 通过 REST 访问该数据源。更多信息请参见[此处](https://help.tableau.com/current/server/en-us/permissions_capabilities.htm#data-sources\n)。"
      ]
    },
    {
      "cell_type": "code",
      "execution_count": null,
      "id": "ccfb4159-34ac-4816-a8f0-795c5442c0b2",
      "metadata": {},
      "outputs": [],
      "source": [
        "import os\n",
        "\n",
        "from dotenv import load_dotenv\n",
        "\n",
        "load_dotenv()\n",
        "\n",
        "tableau_server = \"https://stage-dataplane2.tableau.sfdc-shbmgi.svc.sfdcfc.net/\"  # replace with your Tableau server name\n",
        "tableau_site = \"vizqldataservicestage02\"  # replace with your Tableau site\n",
        "tableau_jwt_client_id = os.getenv(\n",
        "    \"TABLEAU_JWT_CLIENT_ID\"\n",
        ")  # a JWT client ID (obtained through Tableau's admin UI)\n",
        "tableau_jwt_secret_id = os.getenv(\n",
        "    \"TABLEAU_JWT_SECRET_ID\"\n",
        ")  # a JWT secret ID (obtained through Tableau's admin UI)\n",
        "tableau_jwt_secret = os.getenv(\n",
        "    \"TABLEAU_JWT_SECRET\"\n",
        ")  # a JWT secret ID (obtained through Tableau's admin UI)\n",
        "tableau_api_version = \"3.21\"  # the current Tableau REST API Version\n",
        "tableau_user = \"joe.constantino@salesforce.com\"  # enter the username querying the target Tableau Data Source\n",
        "\n",
        "# For this cookbook we are connecting to the Superstore dataset that comes by default with every Tableau server\n",
        "datasource_luid = (\n",
        "    \"0965e61b-a072-43cf-994c-8c6cf526940d\"  # the target data source for this Tool\n",
        ")\n",
        "model_provider = \"openai\"  # the name of the model provider you are using for your Agent\n",
        "# Add variables to control LLM models for the Agent and Tools\n",
        "os.environ[\"OPENAI_API_KEY\"]  # set an your model API key as an environment variable\n",
        "tooling_llm_model = \"gpt-4o-mini\""
      ]
    },
    {
      "cell_type": "markdown",
      "id": "64d08107",
      "metadata": {},
      "source": [
        "## 实例化\n`initialize_simple_datasource_qa` 初始化了 Langgraph 工具 [simple_datasource_qa](https://github.com/Tab-SE/tableau_langchain/blob/3ff9047414479cd55d797c18a78f834d57860761/pip_package/langchain_tableau/tools/simple_datasource_qa.py#L101)，该工具可用于 Tableau 数据源上的分析问答。\n\n此初始化器函数：\n1. 使用 Tableau 的 connected-app 框架（基于 JWT 的身份验证）向 Tableau 进行身份验证。所有必需的变量必须在运行时或作为环境变量定义。\n2. 异步查询指定 `datasource_luid` 变量的目标数据源的字段元数据。\n3. 利用目标数据源的元数据，将自然语言问题转换为 VDS 查询数据源请求所需的 JSON 格式查询负载。\n4. 执行 POST 请求到 VDS。\n5. 以结构化的响应格式化并返回结果。"
      ]
    },
    {
      "cell_type": "code",
      "execution_count": 6,
      "id": "72ee3eca",
      "metadata": {},
      "outputs": [],
      "source": [
        "# Initialize simple_datasource_qa for querying Tableau Datasources through VDS\n",
        "analyze_datasource = initialize_simple_datasource_qa(\n",
        "    domain=tableau_server,\n",
        "    site=tableau_site,\n",
        "    jwt_client_id=tableau_jwt_client_id,\n",
        "    jwt_secret_id=tableau_jwt_secret_id,\n",
        "    jwt_secret=tableau_jwt_secret,\n",
        "    tableau_api_version=tableau_api_version,\n",
        "    tableau_user=tableau_user,\n",
        "    datasource_luid=datasource_luid,\n",
        "    tooling_llm_model=tooling_llm_model,\n",
        "    model_provider=model_provider,\n",
        ")\n",
        "\n",
        "# load the List of Tools to be used by the Agent. In this case we will just load our data source Q&A tool.\n",
        "tools = [analyze_datasource]"
      ]
    },
    {
      "cell_type": "markdown",
      "id": "0ac5daa0-4336-48d0-9c26-20bf2c252bad",
      "metadata": {},
      "source": [
        "## 调用 - Langgraph 示例\n首先，我们将初始化我们选择的 LLM。然后，我们使用 langgraph 代理构造类定义一个代理，并使用与目标数据源相关的查询来调用它。"
      ]
    },
    {
      "cell_type": "code",
      "execution_count": null,
      "id": "06a1d3f7-79a8-452e-b37e-9070d15445b0",
      "metadata": {},
      "outputs": [],
      "source": [
        "from IPython.display import Markdown, display\n",
        "\n",
        "model = ChatOpenAI(model=\"gpt-4o\", temperature=0)\n",
        "\n",
        "tableauAgent = create_react_agent(model, tools)\n",
        "\n",
        "# Run the agent\n",
        "messages = tableauAgent.invoke(\n",
        "    {\n",
        "        \"messages\": [\n",
        "            (\n",
        "                \"human\",\n",
        "                \"what's going on with table sales?\",\n",
        "            )\n",
        "        ]\n",
        "    }\n",
        ")\n",
        "messages\n",
        "# display(Markdown(messages['messages'][3].content)) #display a nicely formatted answer for successful generations"
      ]
    },
    {
      "cell_type": "markdown",
      "id": "e6b20093",
      "metadata": {},
      "source": [
        "## 链式调用\n\n待办事项。"
      ]
    },
    {
      "cell_type": "markdown",
      "id": "12ab3d7b",
      "metadata": {},
      "source": [
        "## API 参考\n\n待办事项。"
      ]
    }
  ],
  "metadata": {
    "kernelspec": {
      "display_name": "Python 3",
      "language": "python",
      "name": "python3"
    },
    "language_info": {
      "codemirror_mode": {
        "name": "ipython",
        "version": 3
      },
      "file_extension": ".py",
      "mimetype": "text/x-python",
      "name": "python",
      "nbconvert_exporter": "python",
      "pygments_lexer": "ipython3",
      "version": "3.12.2"
    }
  },
  "nbformat": 4,
  "nbformat_minor": 5
}