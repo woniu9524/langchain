{
  "cells": [
    {
      "cell_type": "markdown",
      "metadata": {},
      "source": [
        "# Arcee\n\n>[Arcee](https://www.arcee.ai/about/about-us) 致力于开发 SLM——小巧、专业化、安全且可扩展的语言模型。\n\n本 Notebook 演示了如何使用 `ArceeRetriever` 类来检索与 Arcee 的 `Domain Adapted Language Models` (`DALMs`) 相关的文档。"
      ]
    },
    {
      "cell_type": "markdown",
      "metadata": {},
      "source": [
        "### 设置\n\n在使用 `ArceeRetriever` 之前，请确保 Arcee API 密钥已设置为 `ARCEE_API_KEY` 环境变量。您也可以将 api 密钥作为命名参数传递。"
      ]
    },
    {
      "cell_type": "code",
      "execution_count": null,
      "metadata": {},
      "outputs": [],
      "source": [
        "from langchain_community.retrievers import ArceeRetriever\n",
        "\n",
        "retriever = ArceeRetriever(\n",
        "    model=\"DALM-PubMed\",\n",
        "    # arcee_api_key=\"ARCEE-API-KEY\" # if not already set in the environment\n",
        ")"
      ]
    },
    {
      "cell_type": "markdown",
      "metadata": {},
      "source": [
        "### 其他配置\n\n你还可以根据需要配置 `ArceeRetriever` 的参数，例如 `arcee_api_url`、`arcee_app_url` 和 `model_kwargs`。\n在对象初始化时设置 `model_kwargs` 会将过滤器和大小作为默认值应用于所有后续检索。"
      ]
    },
    {
      "cell_type": "code",
      "execution_count": null,
      "metadata": {},
      "outputs": [],
      "source": [
        "retriever = ArceeRetriever(\n",
        "    model=\"DALM-PubMed\",\n",
        "    # arcee_api_key=\"ARCEE-API-KEY\", # if not already set in the environment\n",
        "    arcee_api_url=\"https://custom-api.arcee.ai\",  # default is https://api.arcee.ai\n",
        "    arcee_app_url=\"https://custom-app.arcee.ai\",  # default is https://app.arcee.ai\n",
        "    model_kwargs={\n",
        "        \"size\": 5,\n",
        "        \"filters\": [\n",
        "            {\n",
        "                \"field_name\": \"document\",\n",
        "                \"filter_type\": \"fuzzy_search\",\n",
        "                \"value\": \"Einstein\",\n",
        "            }\n",
        "        ],\n",
        "    },\n",
        ")"
      ]
    },
    {
      "cell_type": "markdown",
      "metadata": {},
      "source": [
        "### 检索文档\n您可以通过提供查询来从上传的上下文中检索相关文档。以下是一个示例："
      ]
    },
    {
      "cell_type": "code",
      "execution_count": null,
      "metadata": {},
      "outputs": [],
      "source": [
        "query = \"Can AI-driven music therapy contribute to the rehabilitation of patients with disorders of consciousness?\"\n",
        "documents = retriever.invoke(query)"
      ]
    },
    {
      "cell_type": "markdown",
      "metadata": {},
      "source": [
        "### 附加参数\n\nArcee 允许您应用 `filters` 并设置检索文档的大小（按计数）。Filters 有助于缩小搜索范围。以下是如何使用这些参数："
      ]
    },
    {
      "cell_type": "code",
      "execution_count": null,
      "metadata": {},
      "outputs": [],
      "source": [
        "# Define filters\n",
        "filters = [\n",
        "    {\"field_name\": \"document\", \"filter_type\": \"fuzzy_search\", \"value\": \"Music\"},\n",
        "    {\"field_name\": \"year\", \"filter_type\": \"strict_search\", \"value\": \"1905\"},\n",
        "]\n",
        "\n",
        "# Retrieve documents with filters and size params\n",
        "documents = retriever.invoke(query, size=5, filters=filters)"
      ]
    }
  ],
  "metadata": {
    "kernelspec": {
      "display_name": "Python 3 (ipykernel)",
      "language": "python",
      "name": "python3"
    },
    "language_info": {
      "codemirror_mode": {
        "name": "ipython",
        "version": 3
      },
      "file_extension": ".py",
      "mimetype": "text/x-python",
      "name": "python",
      "nbconvert_exporter": "python",
      "pygments_lexer": "ipython3",
      "version": "3.10.12"
    }
  },
  "nbformat": 4,
  "nbformat_minor": 4
}