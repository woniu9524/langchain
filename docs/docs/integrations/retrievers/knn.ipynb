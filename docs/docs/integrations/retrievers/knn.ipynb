{
  "cells": [
    {
      "cell_type": "markdown",
      "id": "ab66dd43",
      "metadata": {},
      "source": [
        "# kNN\n\n>在统计学中，[k-近邻算法 (k-NN)](https://en.wikipedia.org/wiki/K-nearest_neighbors_algorithm) 是一种非参数监督学习方法，最初由 `Evelyn Fix` 和 `Joseph Hodges` 于 1951 年开发，后由 `Thomas Cover` 扩展。它用于分类和回归。\n\n本 Notebook 将介绍如何使用底层采用 kNN 的检索器。\n\n很大程度上基于 [Andrej Karpathy](https://github.com/karpathy/randomfun/blob/master/knn_vs_svm.html) 的代码。"
      ]
    },
    {
      "cell_type": "code",
      "execution_count": null,
      "id": "393ac030",
      "metadata": {},
      "outputs": [],
      "source": [
        "from langchain_community.retrievers import KNNRetriever\n",
        "from langchain_openai import OpenAIEmbeddings"
      ]
    },
    {
      "cell_type": "markdown",
      "id": "aaf80e7f",
      "metadata": {},
      "source": [
        "## 创建包含文本的新检索器"
      ]
    },
    {
      "cell_type": "code",
      "execution_count": 2,
      "id": "98b1c017",
      "metadata": {},
      "outputs": [],
      "source": [
        "retriever = KNNRetriever.from_texts(\n",
        "    [\"foo\", \"bar\", \"world\", \"hello\", \"foo bar\"], OpenAIEmbeddings()\n",
        ")"
      ]
    },
    {
      "cell_type": "markdown",
      "id": "08437fa2",
      "metadata": {},
      "source": [
        "## 使用检索器\n\n我们现在就可以使用检索器了！"
      ]
    },
    {
      "cell_type": "code",
      "execution_count": 3,
      "id": "c0455218",
      "metadata": {},
      "outputs": [],
      "source": [
        "result = retriever.invoke(\"foo\")"
      ]
    },
    {
      "cell_type": "code",
      "execution_count": 4,
      "id": "7dfa5c29",
      "metadata": {},
      "outputs": [
        {
          "data": {
            "text/plain": [
              "[Document(page_content='foo', metadata={}),\n",
              " Document(page_content='foo bar', metadata={}),\n",
              " Document(page_content='hello', metadata={}),\n",
              " Document(page_content='bar', metadata={})]"
            ]
          },
          "execution_count": 4,
          "metadata": {},
          "output_type": "execute_result"
        }
      ],
      "source": [
        "result"
      ]
    }
  ],
  "metadata": {
    "kernelspec": {
      "display_name": "Python 3 (ipykernel)",
      "language": "python",
      "name": "python3"
    },
    "language_info": {
      "codemirror_mode": {
        "name": "ipython",
        "version": 3
      },
      "file_extension": ".py",
      "mimetype": "text/x-python",
      "name": "python",
      "nbconvert_exporter": "python",
      "pygments_lexer": "ipython3",
      "version": "3.10.12"
    }
  },
  "nbformat": 4,
  "nbformat_minor": 5
}