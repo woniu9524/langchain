{
  "cells": [
    {
      "cell_type": "markdown",
      "id": "ce0f17b9",
      "metadata": {},
      "source": [
        "# Vespa\n\n>[Vespa](https://vespa.ai/) 是一个功能齐全的搜索引擎和向量数据库。它支持向量搜索 (ANN)、词汇搜索以及结构化数据搜索，所有操作都可以在同一个查询中完成。\n\n本 notebook 演示了如何使用 `Vespa.ai` 作为 LangChain 的检索器。\n\n为了创建检索器，我们使用 [pyvespa](https://pyvespa.readthedocs.io/en/latest/index.html) 来\n创建与 `Vespa` 服务的连接。"
      ]
    },
    {
      "cell_type": "code",
      "execution_count": null,
      "id": "7e6a11ab-38bd-4920-ba11-60cb2f075754",
      "metadata": {
        "tags": []
      },
      "outputs": [],
      "source": [
        "%pip install --upgrade --quiet  pyvespa"
      ]
    },
    {
      "cell_type": "code",
      "execution_count": 2,
      "id": "c10dd962",
      "metadata": {
        "tags": []
      },
      "outputs": [],
      "source": [
        "from vespa.application import Vespa\n",
        "\n",
        "vespa_app = Vespa(url=\"https://doc-search.vespa.oath.cloud\")"
      ]
    },
    {
      "cell_type": "markdown",
      "id": "3df4ce53",
      "metadata": {},
      "source": [
        "这会创建一个与 `Vespa` 服务的连接，这里是 Vespa 文档搜索服务。\n使用 `pyvespa` 包，您还可以连接到\n[Vespa Cloud 实例](https://pyvespa.readthedocs.io/en/latest/deploy-vespa-cloud.html)\n或本地\n[Docker 实例](https://pyvespa.readthedocs.io/en/latest/deploy-docker.html)。\n\n\n连接到服务后，您可以设置检索器："
      ]
    },
    {
      "cell_type": "code",
      "execution_count": null,
      "id": "7ccca1f4",
      "metadata": {
        "pycharm": {
          "name": "#%%\n"
        }
      },
      "outputs": [],
      "source": [
        "from langchain_community.retrievers import VespaRetriever\n",
        "\n",
        "vespa_query_body = {\n",
        "    \"yql\": \"select content from paragraph where userQuery()\",\n",
        "    \"hits\": 5,\n",
        "    \"ranking\": \"documentation\",\n",
        "    \"locale\": \"en-us\",\n",
        "}\n",
        "vespa_content_field = \"content\"\n",
        "retriever = VespaRetriever(vespa_app, vespa_query_body, vespa_content_field)"
      ]
    },
    {
      "cell_type": "markdown",
      "id": "1e7e34e1",
      "metadata": {
        "pycharm": {
          "name": "#%% md\n"
        }
      },
      "source": [
        "此设置创建了一个 LangChain Retriever，用于从 Vespa 应用程序中获取文档。\n在这里，使用 `doumentation` 作为排名方法，从 `paragraph` 文档类型的 `content` 字段中检索最多 5 个结果。 `userQuery()` 会被替换为从 LangChain 传入的实际查询。\n\n更多信息请参考 [pyvespa 文档](https://pyvespa.readthedocs.io/en/latest/getting-started-pyvespa.html#Query)。\n\n现在您可以返回结果并在 LangChain 中继续使用这些结果。"
      ]
    },
    {
      "cell_type": "code",
      "execution_count": 2,
      "id": "f47a2bfe",
      "metadata": {
        "pycharm": {
          "name": "#%%\n"
        }
      },
      "outputs": [],
      "source": [
        "retriever.invoke(\"what is vespa?\")"
      ]
    }
  ],
  "metadata": {
    "kernelspec": {
      "display_name": "Python 3 (ipykernel)",
      "language": "python",
      "name": "python3"
    },
    "language_info": {
      "codemirror_mode": {
        "name": "ipython",
        "version": 3
      },
      "file_extension": ".py",
      "mimetype": "text/x-python",
      "name": "python",
      "nbconvert_exporter": "python",
      "pygments_lexer": "ipython3",
      "version": "3.10.12"
    }
  },
  "nbformat": 4,
  "nbformat_minor": 5
}