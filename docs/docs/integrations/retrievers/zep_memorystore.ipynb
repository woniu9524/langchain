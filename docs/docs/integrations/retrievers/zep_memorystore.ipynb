{
  "cells": [
    {
      "cell_type": "markdown",
      "metadata": {
        "collapsed": false
      },
      "source": [
        "# Zep 开源\n## Zep 的检索器示例 [Zep](https://docs.getzep.com/)\n\n> 从聊天记录中回忆、理解和提取数据。赋能个性化 AI 体验。\n\n> [Zep](https://www.getzep.com) 是 AI 助手应用的长期记忆服务。\n> 使用 Zep，您可以让 AI 助手回忆起过去的对话，无论多久远，\n> 同时还能减少幻觉、延迟和成本。\n\n> 有兴趣了解 Zep Cloud？请参阅 [Zep Cloud 安装指南](https://help.getzep.com/sdks) 和 [Zep Cloud 检索器示例](https://help.getzep.com/langchain/examples/rag-message-history-example)\n\n## 开源安装和设置\n\n> Zep 开源项目：[https://github.com/getzep/zep](https://github.com/getzep/zep)\n> Zep 开源文档：[https://docs.getzep.com/](https://docs.getzep.com/)"
      ]
    },
    {
      "attachments": {},
      "cell_type": "markdown",
      "metadata": {},
      "source": [
        "## Retriever 示例\n\n本笔记本演示如何使用 [Zep Long-term Memory Store](https://getzep.github.io/) 搜索历史聊天记录。\n\n我们将演示：\n\n1. 将对话历史添加到 Zep 内存存储中。\n2. 对话历史的向量搜索：\n    1. 对聊天消息进行相似性搜索\n    2. 使用最大边际相关性对聊天消息搜索进行重新排序\n    3. 使用元数据过滤器过滤搜索\n    4. 对聊天消息摘要进行相似性搜索\n    5. 使用最大边际相关性对摘要搜索进行重新排序"
      ]
    },
    {
      "cell_type": "code",
      "execution_count": 1,
      "metadata": {
        "ExecuteTime": {
          "end_time": "2023-08-11T20:31:12.231459Z",
          "start_time": "2023-08-11T20:31:11.211176Z"
        },
        "collapsed": false
      },
      "outputs": [],
      "source": [
        "import getpass\n",
        "import time\n",
        "from uuid import uuid4\n",
        "\n",
        "from langchain_community.memory.zep_memory import ZepMemory\n",
        "from langchain_core.messages import AIMessage, HumanMessage\n",
        "\n",
        "# Set this to your Zep server URL\n",
        "ZEP_API_URL = \"http://localhost:8000\""
      ]
    },
    {
      "attachments": {},
      "cell_type": "markdown",
      "metadata": {},
      "source": [
        "### 初始化 Zep Chat Message History 类并向 memory store 添加聊天消息历史\n\n**注意：** 与其他 Retriever 不同，Zep Retriever 返回的内容是会话/用户特定的。初始化 Retriever 时需要 `session_id`。"
      ]
    },
    {
      "cell_type": "code",
      "execution_count": 2,
      "metadata": {
        "ExecuteTime": {
          "end_time": "2023-08-11T20:31:12.237545Z",
          "start_time": "2023-08-11T20:31:12.232416Z"
        }
      },
      "outputs": [],
      "source": [
        "# Provide your Zep API key. Note that this is optional. See https://docs.getzep.com/deployment/auth\n",
        "AUTHENTICATE = False\n",
        "\n",
        "zep_api_key = None\n",
        "if AUTHENTICATE:\n",
        "    zep_api_key = getpass.getpass()"
      ]
    },
    {
      "cell_type": "code",
      "execution_count": 3,
      "metadata": {
        "ExecuteTime": {
          "end_time": "2023-08-11T20:31:12.342790Z",
          "start_time": "2023-08-11T20:31:12.235291Z"
        },
        "collapsed": false
      },
      "outputs": [],
      "source": [
        "session_id = str(uuid4())  # This is a unique identifier for the user/session\n",
        "\n",
        "# Initialize the Zep Memory Class\n",
        "zep_memory = ZepMemory(session_id=session_id, url=ZEP_API_URL, api_key=zep_api_key)"
      ]
    },
    {
      "cell_type": "code",
      "execution_count": 4,
      "metadata": {
        "ExecuteTime": {
          "end_time": "2023-08-11T20:31:14.455269Z",
          "start_time": "2023-08-11T20:31:12.345635Z"
        },
        "collapsed": false
      },
      "outputs": [],
      "source": [
        "# Preload some messages into the memory. The default message window is 12 messages. We want to push beyond this to demonstrate auto-summarization.\n",
        "test_history = [\n",
        "    {\"role\": \"human\", \"content\": \"Who was Octavia Butler?\"},\n",
        "    {\n",
        "        \"role\": \"ai\",\n",
        "        \"content\": (\n",
        "            \"Octavia Estelle Butler (June 22, 1947 – February 24, 2006) was an American\"\n",
        "            \" science fiction author.\"\n",
        "        ),\n",
        "    },\n",
        "    {\"role\": \"human\", \"content\": \"Which books of hers were made into movies?\"},\n",
        "    {\n",
        "        \"role\": \"ai\",\n",
        "        \"content\": (\n",
        "            \"The most well-known adaptation of Octavia Butler's work is the FX series\"\n",
        "            \" Kindred, based on her novel of the same name.\"\n",
        "        ),\n",
        "    },\n",
        "    {\"role\": \"human\", \"content\": \"Who were her contemporaries?\"},\n",
        "    {\n",
        "        \"role\": \"ai\",\n",
        "        \"content\": (\n",
        "            \"Octavia Butler's contemporaries included Ursula K. Le Guin, Samuel R.\"\n",
        "            \" Delany, and Joanna Russ.\"\n",
        "        ),\n",
        "    },\n",
        "    {\"role\": \"human\", \"content\": \"What awards did she win?\"},\n",
        "    {\n",
        "        \"role\": \"ai\",\n",
        "        \"content\": (\n",
        "            \"Octavia Butler won the Hugo Award, the Nebula Award, and the MacArthur\"\n",
        "            \" Fellowship.\"\n",
        "        ),\n",
        "    },\n",
        "    {\n",
        "        \"role\": \"human\",\n",
        "        \"content\": \"Which other women sci-fi writers might I want to read?\",\n",
        "    },\n",
        "    {\n",
        "        \"role\": \"ai\",\n",
        "        \"content\": \"You might want to read Ursula K. Le Guin or Joanna Russ.\",\n",
        "    },\n",
        "    {\n",
        "        \"role\": \"human\",\n",
        "        \"content\": (\n",
        "            \"Write a short synopsis of Butler's book, Parable of the Sower. What is it\"\n",
        "            \" about?\"\n",
        "        ),\n",
        "    },\n",
        "    {\n",
        "        \"role\": \"ai\",\n",
        "        \"content\": (\n",
        "            \"Parable of the Sower is a science fiction novel by Octavia Butler,\"\n",
        "            \" published in 1993. It follows the story of Lauren Olamina, a young woman\"\n",
        "            \" living in a dystopian future where society has collapsed due to\"\n",
        "            \" environmental disasters, poverty, and violence.\"\n",
        "        ),\n",
        "    },\n",
        "    {\"role\": \"human\", \"content\": \"What is the setting of the book?\"},\n",
        "    {\n",
        "        \"role\": \"ai\",\n",
        "        \"content\": (\n",
        "            \"The book is set in a dystopian future in the 2020s, where society has\"\n",
        "            \" collapsed due to climate change and economic crises.\"\n",
        "        ),\n",
        "    },\n",
        "    {\"role\": \"human\", \"content\": \"Who is the protagonist?\"},\n",
        "    {\n",
        "        \"role\": \"ai\",\n",
        "        \"content\": (\n",
        "            \"The protagonist of the book is Lauren Olamina, a young woman who possesses\"\n",
        "            \" 'hyperempathy', the ability to feel pain and other sensations she\"\n",
        "            \" witnesses.\"\n",
        "        ),\n",
        "    },\n",
        "    {\"role\": \"human\", \"content\": \"What is the main theme of the book?\"},\n",
        "    {\n",
        "        \"role\": \"ai\",\n",
        "        \"content\": (\n",
        "            \"The main theme of the book is survival in the face of drastic societal\"\n",
        "            \" change and collapse. It also explores themes of adaptability, community,\"\n",
        "            \" and the human capacity for change.\"\n",
        "        ),\n",
        "    },\n",
        "    {\"role\": \"human\", \"content\": \"What is the 'Parable of the Sower'?\"},\n",
        "    {\n",
        "        \"role\": \"ai\",\n",
        "        \"content\": (\n",
        "            \"The 'Parable of the Sower' is a biblical parable that Butler uses as a\"\n",
        "            \" metaphor in the book. In the parable, a sower scatters seeds, some of\"\n",
        "            \" which fall on fertile ground and grow, while others fall on rocky ground\"\n",
        "            \" or among thorns and fail to grow. The parable is used to illustrate the\"\n",
        "            \" importance of receptivity and preparedness in the face of change.\"\n",
        "        ),\n",
        "    },\n",
        "    {\"role\": \"human\", \"content\": \"What is Butler's writing style like?\"},\n",
        "    {\n",
        "        \"role\": \"ai\",\n",
        "        \"content\": (\n",
        "            \"Butler's writing style is known for its clarity, directness, and\"\n",
        "            \" psychological insight. Her narratives often involve complex, diverse\"\n",
        "            \" characters and explore themes of race, gender, and power.\"\n",
        "        ),\n",
        "    },\n",
        "    {\"role\": \"human\", \"content\": \"What other books has she written?\"},\n",
        "    {\n",
        "        \"role\": \"ai\",\n",
        "        \"content\": (\n",
        "            \"In addition to 'Parable of the Sower', Butler has written several other\"\n",
        "            \" notable works, including 'Kindred', 'Dawn', and 'Parable of the Talents'.\"\n",
        "        ),\n",
        "    },\n",
        "]\n",
        "\n",
        "for msg in test_history:\n",
        "    zep_memory.chat_memory.add_message(\n",
        "        HumanMessage(content=msg[\"content\"])\n",
        "        if msg[\"role\"] == \"human\"\n",
        "        else AIMessage(content=msg[\"content\"])\n",
        "    )\n",
        "\n",
        "time.sleep(\n",
        "    10\n",
        ")  # Wait for the messages to be embedded and summarized. Speed depends on OpenAI API latency and your rate limits."
      ]
    },
    {
      "attachments": {},
      "cell_type": "markdown",
      "metadata": {},
      "source": [
        "### 使用 Zep Retriever 对 Zep 内存进行 벡터 搜索\n\nZep 提供对历史对话内存的本地 벡터 搜索。嵌入是自动发生的。\n\n注意：消息的嵌入是异步发生的，因此第一次查询可能不会返回结果。随着嵌入的生成，后续查询将返回结果。"
      ]
    },
    {
      "cell_type": "code",
      "execution_count": 5,
      "metadata": {
        "ExecuteTime": {
          "end_time": "2023-08-11T20:31:14.758738Z",
          "start_time": "2023-08-11T20:31:14.458850Z"
        },
        "collapsed": false
      },
      "outputs": [
        {
          "data": {
            "text/plain": [
              "[Document(page_content=\"What is the 'Parable of the Sower'?\", metadata={'score': 0.9250216484069824, 'uuid': '4cbfb1c0-6027-4678-af43-1e18acb224bb', 'created_at': '2023-11-01T00:32:40.224256Z', 'updated_at': '0001-01-01T00:00:00Z', 'role': 'human', 'metadata': {'system': {'entities': [{'Label': 'WORK_OF_ART', 'Matches': [{'End': 34, 'Start': 13, 'Text': \"Parable of the Sower'\"}], 'Name': \"Parable of the Sower'\"}]}}, 'token_count': 13}),\n",
              " Document(page_content='Parable of the Sower is a science fiction novel by Octavia Butler, published in 1993. It follows the story of Lauren Olamina, a young woman living in a dystopian future where society has collapsed due to environmental disasters, poverty, and violence.', metadata={'score': 0.8897348046302795, 'uuid': '3dd9f5ed-9dc9-4427-9da6-aba1b8278a5c', 'created_at': '2023-11-01T00:32:40.192527Z', 'updated_at': '0001-01-01T00:00:00Z', 'role': 'ai', 'metadata': {'system': {'entities': [{'Label': 'GPE', 'Matches': [{'End': 20, 'Start': 15, 'Text': 'Sower'}], 'Name': 'Sower'}, {'Label': 'PERSON', 'Matches': [{'End': 65, 'Start': 51, 'Text': 'Octavia Butler'}], 'Name': 'Octavia Butler'}, {'Label': 'DATE', 'Matches': [{'End': 84, 'Start': 80, 'Text': '1993'}], 'Name': '1993'}, {'Label': 'PERSON', 'Matches': [{'End': 124, 'Start': 110, 'Text': 'Lauren Olamina'}], 'Name': 'Lauren Olamina'}], 'intent': 'Providing information'}}, 'token_count': 56}),\n",
              " Document(page_content=\"Write a short synopsis of Butler's book, Parable of the Sower. What is it about?\", metadata={'score': 0.8856019973754883, 'uuid': '81761dcb-38f3-4686-a4f5-6cb1007eaf29', 'created_at': '2023-11-01T00:32:40.187543Z', 'updated_at': '0001-01-01T00:00:00Z', 'role': 'human', 'metadata': {'system': {'entities': [{'Label': 'ORG', 'Matches': [{'End': 32, 'Start': 26, 'Text': 'Butler'}], 'Name': 'Butler'}, {'Label': 'WORK_OF_ART', 'Matches': [{'End': 61, 'Start': 41, 'Text': 'Parable of the Sower'}], 'Name': 'Parable of the Sower'}], 'intent': \"The subject is asking for a brief summary of Butler's book, Parable of the Sower, and what it is about.\"}}, 'token_count': 23}),\n",
              " Document(page_content=\"The 'Parable of the Sower' is a biblical parable that Butler uses as a metaphor in the book. In the parable, a sower scatters seeds, some of which fall on fertile ground and grow, while others fall on rocky ground or among thorns and fail to grow. The parable is used to illustrate the importance of receptivity and preparedness in the face of change.\", metadata={'score': 0.8781436681747437, 'uuid': '1a8c5f99-2fec-425d-bc37-176ab91e7080', 'created_at': '2023-11-01T00:32:40.22836Z', 'updated_at': '0001-01-01T00:00:00Z', 'role': 'ai', 'metadata': {'system': {'entities': [{'Label': 'WORK_OF_ART', 'Matches': [{'End': 26, 'Start': 5, 'Text': \"Parable of the Sower'\"}], 'Name': \"Parable of the Sower'\"}, {'Label': 'ORG', 'Matches': [{'End': 60, 'Start': 54, 'Text': 'Butler'}], 'Name': 'Butler'}]}}, 'token_count': 84}),\n",
              " Document(page_content=\"In addition to 'Parable of the Sower', Butler has written several other notable works, including 'Kindred', 'Dawn', and 'Parable of the Talents'.\", metadata={'score': 0.8745182752609253, 'uuid': '45d8aa08-85ab-432f-8902-81712fe363b9', 'created_at': '2023-11-01T00:32:40.245081Z', 'updated_at': '0001-01-01T00:00:00Z', 'role': 'ai', 'metadata': {'system': {'entities': [{'Label': 'WORK_OF_ART', 'Matches': [{'End': 37, 'Start': 16, 'Text': \"Parable of the Sower'\"}], 'Name': \"Parable of the Sower'\"}, {'Label': 'ORG', 'Matches': [{'End': 45, 'Start': 39, 'Text': 'Butler'}], 'Name': 'Butler'}, {'Label': 'GPE', 'Matches': [{'End': 105, 'Start': 98, 'Text': 'Kindred'}], 'Name': 'Kindred'}, {'Label': 'WORK_OF_ART', 'Matches': [{'End': 144, 'Start': 121, 'Text': \"Parable of the Talents'\"}], 'Name': \"Parable of the Talents'\"}]}}, 'token_count': 39})]"
            ]
          },
          "execution_count": 5,
          "metadata": {},
          "output_type": "execute_result"
        }
      ],
      "source": [
        "from langchain_community.retrievers.zep import SearchScope, SearchType, ZepRetriever\n",
        "\n",
        "zep_retriever = ZepRetriever(\n",
        "    session_id=session_id,  # Ensure that you provide the session_id when instantiating the Retriever\n",
        "    url=ZEP_API_URL,\n",
        "    top_k=5,\n",
        "    api_key=zep_api_key,\n",
        ")\n",
        "\n",
        "await zep_retriever.ainvoke(\"Who wrote Parable of the Sower?\")"
      ]
    },
    {
      "attachments": {},
      "cell_type": "markdown",
      "metadata": {},
      "source": [
        "我们也可以使用 Zep sync API 来检索结果："
      ]
    },
    {
      "cell_type": "code",
      "execution_count": 6,
      "metadata": {
        "ExecuteTime": {
          "end_time": "2023-08-11T20:31:14.922838Z",
          "start_time": "2023-08-11T20:31:14.751737Z"
        },
        "collapsed": false
      },
      "outputs": [
        {
          "data": {
            "text/plain": [
              "[Document(page_content=\"What is the 'Parable of the Sower'?\", metadata={'score': 0.9250596761703491, 'uuid': '4cbfb1c0-6027-4678-af43-1e18acb224bb', 'created_at': '2023-11-01T00:32:40.224256Z', 'updated_at': '0001-01-01T00:00:00Z', 'role': 'human', 'metadata': {'system': {'entities': [{'Label': 'WORK_OF_ART', 'Matches': [{'End': 34, 'Start': 13, 'Text': \"Parable of the Sower'\"}], 'Name': \"Parable of the Sower'\"}]}}, 'token_count': 13}),\n",
              " Document(page_content='Parable of the Sower is a science fiction novel by Octavia Butler, published in 1993. It follows the story of Lauren Olamina, a young woman living in a dystopian future where society has collapsed due to environmental disasters, poverty, and violence.', metadata={'score': 0.8897120952606201, 'uuid': '3dd9f5ed-9dc9-4427-9da6-aba1b8278a5c', 'created_at': '2023-11-01T00:32:40.192527Z', 'updated_at': '0001-01-01T00:00:00Z', 'role': 'ai', 'metadata': {'system': {'entities': [{'Label': 'GPE', 'Matches': [{'End': 20, 'Start': 15, 'Text': 'Sower'}], 'Name': 'Sower'}, {'Label': 'PERSON', 'Matches': [{'End': 65, 'Start': 51, 'Text': 'Octavia Butler'}], 'Name': 'Octavia Butler'}, {'Label': 'DATE', 'Matches': [{'End': 84, 'Start': 80, 'Text': '1993'}], 'Name': '1993'}, {'Label': 'PERSON', 'Matches': [{'End': 124, 'Start': 110, 'Text': 'Lauren Olamina'}], 'Name': 'Lauren Olamina'}], 'intent': 'Providing information'}}, 'token_count': 56}),\n",
              " Document(page_content=\"Write a short synopsis of Butler's book, Parable of the Sower. What is it about?\", metadata={'score': 0.885666012763977, 'uuid': '81761dcb-38f3-4686-a4f5-6cb1007eaf29', 'created_at': '2023-11-01T00:32:40.187543Z', 'updated_at': '0001-01-01T00:00:00Z', 'role': 'human', 'metadata': {'system': {'entities': [{'Label': 'ORG', 'Matches': [{'End': 32, 'Start': 26, 'Text': 'Butler'}], 'Name': 'Butler'}, {'Label': 'WORK_OF_ART', 'Matches': [{'End': 61, 'Start': 41, 'Text': 'Parable of the Sower'}], 'Name': 'Parable of the Sower'}], 'intent': \"The subject is asking for a brief summary of Butler's book, Parable of the Sower, and what it is about.\"}}, 'token_count': 23}),\n",
              " Document(page_content=\"The 'Parable of the Sower' is a biblical parable that Butler uses as a metaphor in the book. In the parable, a sower scatters seeds, some of which fall on fertile ground and grow, while others fall on rocky ground or among thorns and fail to grow. The parable is used to illustrate the importance of receptivity and preparedness in the face of change.\", metadata={'score': 0.878172755241394, 'uuid': '1a8c5f99-2fec-425d-bc37-176ab91e7080', 'created_at': '2023-11-01T00:32:40.22836Z', 'updated_at': '0001-01-01T00:00:00Z', 'role': 'ai', 'metadata': {'system': {'entities': [{'Label': 'WORK_OF_ART', 'Matches': [{'End': 26, 'Start': 5, 'Text': \"Parable of the Sower'\"}], 'Name': \"Parable of the Sower'\"}, {'Label': 'ORG', 'Matches': [{'End': 60, 'Start': 54, 'Text': 'Butler'}], 'Name': 'Butler'}]}}, 'token_count': 84}),\n",
              " Document(page_content=\"In addition to 'Parable of the Sower', Butler has written several other notable works, including 'Kindred', 'Dawn', and 'Parable of the Talents'.\", metadata={'score': 0.8745154142379761, 'uuid': '45d8aa08-85ab-432f-8902-81712fe363b9', 'created_at': '2023-11-01T00:32:40.245081Z', 'updated_at': '0001-01-01T00:00:00Z', 'role': 'ai', 'metadata': {'system': {'entities': [{'Label': 'WORK_OF_ART', 'Matches': [{'End': 37, 'Start': 16, 'Text': \"Parable of the Sower'\"}], 'Name': \"Parable of the Sower'\"}, {'Label': 'ORG', 'Matches': [{'End': 45, 'Start': 39, 'Text': 'Butler'}], 'Name': 'Butler'}, {'Label': 'GPE', 'Matches': [{'End': 105, 'Start': 98, 'Text': 'Kindred'}], 'Name': 'Kindred'}, {'Label': 'WORK_OF_ART', 'Matches': [{'End': 144, 'Start': 121, 'Text': \"Parable of the Talents'\"}], 'Name': \"Parable of the Talents'\"}]}}, 'token_count': 39})]"
            ]
          },
          "execution_count": 6,
          "metadata": {},
          "output_type": "execute_result"
        }
      ],
      "source": [
        "zep_retriever.invoke(\"Who wrote Parable of the Sower?\")"
      ]
    },
    {
      "attachments": {},
      "cell_type": "markdown",
      "metadata": {},
      "source": [
        "### 使用 MMR (Maximal Marginal Relevance) 进行重排\n\nZep 原生支持使用 SIMD 加速的 MMR 进行重排。这对于消除结果中的冗余非常有用。"
      ]
    },
    {
      "cell_type": "code",
      "execution_count": 7,
      "metadata": {
        "ExecuteTime": {
          "end_time": "2023-08-11T20:31:14.923032Z",
          "start_time": "2023-08-11T20:31:14.918181Z"
        },
        "collapsed": false
      },
      "outputs": [
        {
          "data": {
            "text/plain": [
              "[Document(page_content=\"What is the 'Parable of the Sower'?\", metadata={'score': 0.9250596761703491, 'uuid': '4cbfb1c0-6027-4678-af43-1e18acb224bb', 'created_at': '2023-11-01T00:32:40.224256Z', 'updated_at': '0001-01-01T00:00:00Z', 'role': 'human', 'metadata': {'system': {'entities': [{'Label': 'WORK_OF_ART', 'Matches': [{'End': 34, 'Start': 13, 'Text': \"Parable of the Sower'\"}], 'Name': \"Parable of the Sower'\"}]}}, 'token_count': 13}),\n",
              " Document(page_content='What other books has she written?', metadata={'score': 0.77488774061203, 'uuid': '1b3c5079-9cab-46f3-beae-fb56c572e0fd', 'created_at': '2023-11-01T00:32:40.240135Z', 'updated_at': '0001-01-01T00:00:00Z', 'role': 'human', 'token_count': 9}),\n",
              " Document(page_content=\"In addition to 'Parable of the Sower', Butler has written several other notable works, including 'Kindred', 'Dawn', and 'Parable of the Talents'.\", metadata={'score': 0.8745154142379761, 'uuid': '45d8aa08-85ab-432f-8902-81712fe363b9', 'created_at': '2023-11-01T00:32:40.245081Z', 'updated_at': '0001-01-01T00:00:00Z', 'role': 'ai', 'metadata': {'system': {'entities': [{'Label': 'WORK_OF_ART', 'Matches': [{'End': 37, 'Start': 16, 'Text': \"Parable of the Sower'\"}], 'Name': \"Parable of the Sower'\"}, {'Label': 'ORG', 'Matches': [{'End': 45, 'Start': 39, 'Text': 'Butler'}], 'Name': 'Butler'}, {'Label': 'GPE', 'Matches': [{'End': 105, 'Start': 98, 'Text': 'Kindred'}], 'Name': 'Kindred'}, {'Label': 'WORK_OF_ART', 'Matches': [{'End': 144, 'Start': 121, 'Text': \"Parable of the Talents'\"}], 'Name': \"Parable of the Talents'\"}]}}, 'token_count': 39}),\n",
              " Document(page_content='Parable of the Sower is a science fiction novel by Octavia Butler, published in 1993. It follows the story of Lauren Olamina, a young woman living in a dystopian future where society has collapsed due to environmental disasters, poverty, and violence.', metadata={'score': 0.8897120952606201, 'uuid': '3dd9f5ed-9dc9-4427-9da6-aba1b8278a5c', 'created_at': '2023-11-01T00:32:40.192527Z', 'updated_at': '0001-01-01T00:00:00Z', 'role': 'ai', 'metadata': {'system': {'entities': [{'Label': 'GPE', 'Matches': [{'End': 20, 'Start': 15, 'Text': 'Sower'}], 'Name': 'Sower'}, {'Label': 'PERSON', 'Matches': [{'End': 65, 'Start': 51, 'Text': 'Octavia Butler'}], 'Name': 'Octavia Butler'}, {'Label': 'DATE', 'Matches': [{'End': 84, 'Start': 80, 'Text': '1993'}], 'Name': '1993'}, {'Label': 'PERSON', 'Matches': [{'End': 124, 'Start': 110, 'Text': 'Lauren Olamina'}], 'Name': 'Lauren Olamina'}], 'intent': 'Providing information'}}, 'token_count': 56}),\n",
              " Document(page_content='Who is the protagonist?', metadata={'score': 0.7858647704124451, 'uuid': 'ee514b37-a0b0-4d24-b0c9-3e9f8ad9d52d', 'created_at': '2023-11-01T00:32:40.203891Z', 'updated_at': '0001-01-01T00:00:00Z', 'role': 'human', 'metadata': {'system': {'intent': 'The subject is asking about the identity of the protagonist in a specific context, such as a story, movie, or game.'}}, 'token_count': 7})]"
            ]
          },
          "execution_count": 7,
          "metadata": {},
          "output_type": "execute_result"
        }
      ],
      "source": [
        "zep_retriever = ZepRetriever(\n",
        "    session_id=session_id,  # Ensure that you provide the session_id when instantiating the Retriever\n",
        "    url=ZEP_API_URL,\n",
        "    top_k=5,\n",
        "    api_key=zep_api_key,\n",
        "    search_type=SearchType.mmr,\n",
        "    mmr_lambda=0.5,\n",
        ")\n",
        "\n",
        "await zep_retriever.ainvoke(\"Who wrote Parable of the Sower?\")"
      ]
    },
    {
      "attachments": {},
      "cell_type": "markdown",
      "metadata": {},
      "source": [
        "### 使用元数据过滤器优化搜索结果\n\nZep 支持按元数据过滤结果。这对于按实体类型或其他元数据过滤结果非常有用。\n\n更多信息请参见：https://docs.getzep.com/sdk/search_query/"
      ]
    },
    {
      "cell_type": "code",
      "execution_count": 8,
      "metadata": {},
      "outputs": [
        {
          "data": {
            "text/plain": [
              "[Document(page_content=\"What is the 'Parable of the Sower'?\", metadata={'score': 0.9251098036766052, 'uuid': '4cbfb1c0-6027-4678-af43-1e18acb224bb', 'created_at': '2023-11-01T00:32:40.224256Z', 'updated_at': '0001-01-01T00:00:00Z', 'role': 'human', 'metadata': {'system': {'entities': [{'Label': 'WORK_OF_ART', 'Matches': [{'End': 34, 'Start': 13, 'Text': \"Parable of the Sower'\"}], 'Name': \"Parable of the Sower'\"}]}}, 'token_count': 13}),\n",
              " Document(page_content='What other books has she written?', metadata={'score': 0.7747920155525208, 'uuid': '1b3c5079-9cab-46f3-beae-fb56c572e0fd', 'created_at': '2023-11-01T00:32:40.240135Z', 'updated_at': '0001-01-01T00:00:00Z', 'role': 'human', 'token_count': 9}),\n",
              " Document(page_content=\"In addition to 'Parable of the Sower', Butler has written several other notable works, including 'Kindred', 'Dawn', and 'Parable of the Talents'.\", metadata={'score': 0.8745266795158386, 'uuid': '45d8aa08-85ab-432f-8902-81712fe363b9', 'created_at': '2023-11-01T00:32:40.245081Z', 'updated_at': '0001-01-01T00:00:00Z', 'role': 'ai', 'metadata': {'system': {'entities': [{'Label': 'WORK_OF_ART', 'Matches': [{'End': 37, 'Start': 16, 'Text': \"Parable of the Sower'\"}], 'Name': \"Parable of the Sower'\"}, {'Label': 'ORG', 'Matches': [{'End': 45, 'Start': 39, 'Text': 'Butler'}], 'Name': 'Butler'}, {'Label': 'GPE', 'Matches': [{'End': 105, 'Start': 98, 'Text': 'Kindred'}], 'Name': 'Kindred'}, {'Label': 'WORK_OF_ART', 'Matches': [{'End': 144, 'Start': 121, 'Text': \"Parable of the Talents'\"}], 'Name': \"Parable of the Talents'\"}]}}, 'token_count': 39}),\n",
              " Document(page_content='Parable of the Sower is a science fiction novel by Octavia Butler, published in 1993. It follows the story of Lauren Olamina, a young woman living in a dystopian future where society has collapsed due to environmental disasters, poverty, and violence.', metadata={'score': 0.8897372484207153, 'uuid': '3dd9f5ed-9dc9-4427-9da6-aba1b8278a5c', 'created_at': '2023-11-01T00:32:40.192527Z', 'updated_at': '0001-01-01T00:00:00Z', 'role': 'ai', 'metadata': {'system': {'entities': [{'Label': 'GPE', 'Matches': [{'End': 20, 'Start': 15, 'Text': 'Sower'}], 'Name': 'Sower'}, {'Label': 'PERSON', 'Matches': [{'End': 65, 'Start': 51, 'Text': 'Octavia Butler'}], 'Name': 'Octavia Butler'}, {'Label': 'DATE', 'Matches': [{'End': 84, 'Start': 80, 'Text': '1993'}], 'Name': '1993'}, {'Label': 'PERSON', 'Matches': [{'End': 124, 'Start': 110, 'Text': 'Lauren Olamina'}], 'Name': 'Lauren Olamina'}], 'intent': 'Providing information'}}, 'token_count': 56}),\n",
              " Document(page_content='Who is the protagonist?', metadata={'score': 0.7858127355575562, 'uuid': 'ee514b37-a0b0-4d24-b0c9-3e9f8ad9d52d', 'created_at': '2023-11-01T00:32:40.203891Z', 'updated_at': '0001-01-01T00:00:00Z', 'role': 'human', 'metadata': {'system': {'intent': 'The subject is asking about the identity of the protagonist in a specific context, such as a story, movie, or game.'}}, 'token_count': 7})]"
            ]
          },
          "execution_count": 8,
          "metadata": {},
          "output_type": "execute_result"
        }
      ],
      "source": [
        "filter = {\"where\": {\"jsonpath\": '$[*] ? (@.Label == \"WORK_OF_ART\")'}}\n",
        "\n",
        "await zep_retriever.ainvoke(\"Who wrote Parable of the Sower?\", metadata=filter)"
      ]
    },
    {
      "cell_type": "markdown",
      "metadata": {},
      "source": [
        "### 使用 MMR 重排进行摘要搜索\n\nZep 会自动生成聊天记录的摘要。这些摘要可以使用 Zep Retriever 进行搜索。由于摘要是对话的提炼，它们更有可能匹配您的搜索查询，并为 LLM 提供丰富、简洁的上下文。\n\n连续的摘要可能包含相似的内容，Zep 的相似性搜索会返回匹配度最高的几个结果，但多样性不足。\nMMR 会对结果进行重排，以确保您填充到提示中的摘要既相关，又能为 LLM 提供额外信息。"
      ]
    },
    {
      "cell_type": "code",
      "execution_count": 9,
      "metadata": {},
      "outputs": [
        {
          "data": {
            "text/plain": [
              "[Document(page_content='The human asks about Octavia Butler and the AI informs them that she was an American science fiction author. The human\\nasks which of her books were made into movies and the AI mentions the FX series Kindred. The human then asks about her\\ncontemporaries and the AI lists Ursula K. Le Guin, Samuel R. Delany, and Joanna Russ. The human also asks about the awards\\nshe won and the AI mentions the Hugo Award, the Nebula Award, and the MacArthur Fellowship. The human asks about other women sci-fi writers to read and the AI suggests Ursula K. Le Guin and Joanna Russ. The human then asks for a synopsis of Butler\\'s book \"Parable of the Sower\" and the AI describes it.', metadata={'score': 0.7882999777793884, 'uuid': '3c95a29a-52dc-4112-b8a7-e6b1dc414d45', 'created_at': '2023-11-01T00:32:47.76449Z', 'token_count': 155}),\n",
              " Document(page_content='The human asks about Octavia Butler. The AI informs the human that Octavia Estelle Butler was an American science \\nfiction author. The human then asks which books of hers were made into movies and the AI mentions the FX series Kindred, \\nbased on her novel of the same name.', metadata={'score': 0.7407922744750977, 'uuid': '0e027f4d-d71f-42ae-977f-696b8948b8bf', 'created_at': '2023-11-01T00:32:41.637098Z', 'token_count': 59}),\n",
              " Document(page_content='The human asks about Octavia Butler and the AI informs them that she was an American science fiction author. The human\\nasks which of her books were made into movies and the AI mentions the FX series Kindred. The human then asks about her\\ncontemporaries and the AI lists Ursula K. Le Guin, Samuel R. Delany, and Joanna Russ. The human also asks about the awards\\nshe won and the AI mentions the Hugo Award, the Nebula Award, and the MacArthur Fellowship.', metadata={'score': 0.7436535358428955, 'uuid': 'b3500d1b-1a78-4aef-9e24-6b196cfa83cb', 'created_at': '2023-11-01T00:32:44.24744Z', 'token_count': 104})]"
            ]
          },
          "execution_count": 9,
          "metadata": {},
          "output_type": "execute_result"
        }
      ],
      "source": [
        "zep_retriever = ZepRetriever(\n",
        "    session_id=session_id,  # Ensure that you provide the session_id when instantiating the Retriever\n",
        "    url=ZEP_API_URL,\n",
        "    top_k=3,\n",
        "    api_key=zep_api_key,\n",
        "    search_scope=SearchScope.summary,\n",
        "    search_type=SearchType.mmr,\n",
        "    mmr_lambda=0.5,\n",
        ")\n",
        "\n",
        "await zep_retriever.ainvoke(\"Who wrote Parable of the Sower?\")"
      ]
    },
    {
      "cell_type": "code",
      "execution_count": null,
      "metadata": {},
      "outputs": [],
      "source": []
    }
  ],
  "metadata": {
    "kernelspec": {
      "display_name": "Python 3 (ipykernel)",
      "language": "python",
      "name": "python3"
    },
    "language_info": {
      "codemirror_mode": {
        "name": "ipython",
        "version": 3
      },
      "file_extension": ".py",
      "mimetype": "text/x-python",
      "name": "python",
      "nbconvert_exporter": "python",
      "pygments_lexer": "ipython3",
      "version": "3.10.12"
    }
  },
  "nbformat": 4,
  "nbformat_minor": 4
}