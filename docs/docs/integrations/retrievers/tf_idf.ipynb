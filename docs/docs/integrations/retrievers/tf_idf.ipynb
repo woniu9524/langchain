{
  "cells": [
    {
      "cell_type": "markdown",
      "id": "ab66dd43",
      "metadata": {},
      "source": [
        "# TF-IDF\n\n>[TF-IDF](https://scikit-learn.org/stable/modules/feature_extraction.html#tfidf-term-weighting) 的意思是词频（term frequency）乘以逆文档频率（inverse document-frequency）。\n\n本笔记将介绍如何使用一个检索器，该检索器在底层使用 `scikit-learn` 包中的 [TF-IDF](https://en.wikipedia.org/wiki/Tf%E2%80%93idf)。\n\n有关 TF-IDF 详细信息的更多内容，请参阅 [这篇博文](https://medium.com/data-science-bootcamp/tf-idf-basics-of-information-retrieval-48de122b2a4c)。"
      ]
    },
    {
      "cell_type": "code",
      "execution_count": 2,
      "id": "a801b57c",
      "metadata": {},
      "outputs": [],
      "source": [
        "%pip install --upgrade --quiet  scikit-learn"
      ]
    },
    {
      "cell_type": "code",
      "execution_count": 3,
      "id": "393ac030",
      "metadata": {
        "tags": []
      },
      "outputs": [],
      "source": [
        "from langchain_community.retrievers import TFIDFRetriever"
      ]
    },
    {
      "cell_type": "markdown",
      "id": "aaf80e7f",
      "metadata": {},
      "source": [
        "## 使用文本创建新的检索器"
      ]
    },
    {
      "cell_type": "code",
      "execution_count": 4,
      "id": "98b1c017",
      "metadata": {
        "tags": []
      },
      "outputs": [],
      "source": [
        "retriever = TFIDFRetriever.from_texts([\"foo\", \"bar\", \"world\", \"hello\", \"foo bar\"])"
      ]
    },
    {
      "cell_type": "markdown",
      "id": "c016b266",
      "metadata": {},
      "source": [
        "## 使用文档创建新的检索器\n\n您现在可以使用创建的文档来创建一个新的检索器。"
      ]
    },
    {
      "cell_type": "code",
      "execution_count": 5,
      "id": "53af4f00",
      "metadata": {},
      "outputs": [],
      "source": [
        "from langchain_core.documents import Document\n",
        "\n",
        "retriever = TFIDFRetriever.from_documents(\n",
        "    [\n",
        "        Document(page_content=\"foo\"),\n",
        "        Document(page_content=\"bar\"),\n",
        "        Document(page_content=\"world\"),\n",
        "        Document(page_content=\"hello\"),\n",
        "        Document(page_content=\"foo bar\"),\n",
        "    ]\n",
        ")"
      ]
    },
    {
      "cell_type": "markdown",
      "id": "08437fa2",
      "metadata": {},
      "source": [
        "## 使用检索器\n\n现在我们可以使用检索器了！"
      ]
    },
    {
      "cell_type": "code",
      "execution_count": 6,
      "id": "c0455218",
      "metadata": {
        "tags": []
      },
      "outputs": [],
      "source": [
        "result = retriever.invoke(\"foo\")"
      ]
    },
    {
      "cell_type": "code",
      "execution_count": 7,
      "id": "7dfa5c29",
      "metadata": {
        "tags": []
      },
      "outputs": [
        {
          "data": {
            "text/plain": [
              "[Document(page_content='foo', metadata={}),\n",
              " Document(page_content='foo bar', metadata={}),\n",
              " Document(page_content='hello', metadata={}),\n",
              " Document(page_content='world', metadata={})]"
            ]
          },
          "execution_count": 7,
          "metadata": {},
          "output_type": "execute_result"
        }
      ],
      "source": [
        "result"
      ]
    },
    {
      "cell_type": "markdown",
      "id": "363f3c04",
      "metadata": {},
      "source": [
        "## 保存与加载\n\n您可以轻松地保存和加载此检索器，这对于本地开发非常有用！"
      ]
    },
    {
      "cell_type": "code",
      "execution_count": 8,
      "id": "10c90d03",
      "metadata": {},
      "outputs": [],
      "source": [
        "retriever.save_local(\"testing.pkl\")"
      ]
    },
    {
      "cell_type": "code",
      "execution_count": 9,
      "id": "fb3b153c",
      "metadata": {},
      "outputs": [],
      "source": [
        "retriever_copy = TFIDFRetriever.load_local(\"testing.pkl\")"
      ]
    },
    {
      "cell_type": "code",
      "execution_count": 10,
      "id": "c03ff3c7",
      "metadata": {},
      "outputs": [
        {
          "data": {
            "text/plain": [
              "[Document(page_content='foo', metadata={}),\n",
              " Document(page_content='foo bar', metadata={}),\n",
              " Document(page_content='hello', metadata={}),\n",
              " Document(page_content='world', metadata={})]"
            ]
          },
          "execution_count": 10,
          "metadata": {},
          "output_type": "execute_result"
        }
      ],
      "source": [
        "retriever_copy.invoke(\"foo\")"
      ]
    },
    {
      "cell_type": "code",
      "execution_count": null,
      "id": "2d7c5728",
      "metadata": {},
      "outputs": [],
      "source": []
    }
  ],
  "metadata": {
    "kernelspec": {
      "display_name": "Python 3 (ipykernel)",
      "language": "python",
      "name": "python3"
    },
    "language_info": {
      "codemirror_mode": {
        "name": "ipython",
        "version": 3
      },
      "file_extension": ".py",
      "mimetype": "text/x-python",
      "name": "python",
      "nbconvert_exporter": "python",
      "pygments_lexer": "ipython3",
      "version": "3.10.12"
    }
  },
  "nbformat": 4,
  "nbformat_minor": 5
}