{
  "cells": [
    {
      "metadata": {},
      "cell_type": "raw",
      "source": [
        "---\n",
        "sidebar_label: Vectorize\n",
        "---"
      ]
    },
    {
      "cell_type": "markdown",
      "metadata": {
        "id": "zvHrM3wa7IE1"
      },
      "source": [
        "# VectorizeRetriever\n\n本 Notebook 展示了 LangChain Vectorize Retriever 的用法。\n\n> [Vectorize](https://vectorize.io/) 可帮助您更快、更轻松地构建 AI 应用。\n> 它可自动化数据提取，使用 RAG 评估找到最佳向量化策略，\n> 并允许您为非结构化数据快速部署实时 RAG 管道。\n> 您的向量搜索索引将保持最新，并且它可以与您现有的向量数据库集成，\n> 因此您可以完全控制您的数据。\n> Vectorize 负责繁重的工作，让您可以专注于构建强大的 AI 解决方案，而不必陷入数据管理的泥潭。"
      ]
    },
    {
      "cell_type": "markdown",
      "metadata": {
        "id": "r-RswOO5o4K_"
      },
      "source": [
        "## 设置\n\n在接下来的步骤中，我们将设置 Vectorize 环境并创建一个 RAG 管道。"
      ]
    },
    {
      "cell_type": "markdown",
      "metadata": {
        "id": "FhvmvFKh4Rlh"
      },
      "source": [
        "### 创建 Vectorize 账户并获取访问令牌\n\n在此处 [https://platform.vectorize.io/](https://platform.vectorize.io/) 注册一个免费的 Vectorize 账户\n在 [访问令牌](https://docs.vectorize.io/rag-pipelines/retrieval-endpoint#access-tokens) 部分生成一个访问令牌\n收集您的组织 ID。从浏览器 URL 中，提取 `/organization/` 之后的 UUID"
      ]
    },
    {
      "cell_type": "markdown",
      "metadata": {
        "id": "L2SULMfWpWFX"
      },
      "source": [
        "### 配置 token 和组织 ID"
      ]
    },
    {
      "cell_type": "code",
      "execution_count": null,
      "metadata": {
        "id": "BnF8KoDZpg2O"
      },
      "outputs": [],
      "source": [
        "import getpass\n",
        "\n",
        "VECTORIZE_ORG_ID = getpass.getpass(\"Enter Vectorize organization ID: \")\n",
        "VECTORIZE_API_TOKEN = getpass.getpass(\"Enter Vectorize API Token: \")"
      ]
    },
    {
      "metadata": {
        "id": "JdZ5vlzjoDVr"
      },
      "cell_type": "markdown",
      "source": [
        "### 安装\n\n此检索器位于 `langchain-vectorize` 包中："
      ]
    },
    {
      "metadata": {
        "id": "IJFmtvDLn5R3"
      },
      "cell_type": "code",
      "outputs": [],
      "execution_count": null,
      "source": "!pip install -qU langchain-vectorize"
    },
    {
      "cell_type": "markdown",
      "metadata": {
        "id": "Oj10Moznpz67"
      },
      "source": "### 下载 PDF 文件"
    },
    {
      "cell_type": "code",
      "execution_count": null,
      "metadata": {
        "id": "eLbbTPytrgNw"
      },
      "outputs": [],
      "source": "!wget \"https://raw.githubusercontent.com/vectorize-io/vectorize-clients/refs/tags/python-0.1.3/tests/python/tests/research.pdf\""
    },
    {
      "cell_type": "markdown",
      "metadata": {
        "id": "7g54J6awtshs"
      },
      "source": "### 初始化 vectorize 客户端"
    },
    {
      "cell_type": "code",
      "execution_count": null,
      "metadata": {
        "id": "9Fr4yz5CrFWP"
      },
      "outputs": [],
      "source": [
        "import vectorize_client as v\n",
        "\n",
        "api = v.ApiClient(v.Configuration(access_token=VECTORIZE_API_TOKEN))"
      ]
    },
    {
      "cell_type": "markdown",
      "metadata": {
        "id": "wPDoeqETxJrS"
      },
      "source": "### 创建文件上传源连接器"
    },
    {
      "cell_type": "code",
      "execution_count": null,
      "metadata": {
        "id": "9yEARIcFue5N"
      },
      "outputs": [],
      "source": [
        "import json\n",
        "import os\n",
        "\n",
        "import urllib3\n",
        "\n",
        "connectors_api = v.ConnectorsApi(api)\n",
        "response = connectors_api.create_source_connector(\n",
        "    VECTORIZE_ORG_ID, [{\"type\": \"FILE_UPLOAD\", \"name\": \"From API\"}]\n",
        ")\n",
        "source_connector_id = response.connectors[0].id"
      ]
    },
    {
      "cell_type": "markdown",
      "metadata": {
        "id": "yU3lS6dpxZnQ"
      },
      "source": "### 上传 PDF 文件"
    },
    {
      "cell_type": "code",
      "execution_count": null,
      "metadata": {
        "id": "OIiMIZ8ZxUYF"
      },
      "outputs": [],
      "source": [
        "file_path = \"research.pdf\"\n",
        "\n",
        "http = urllib3.PoolManager()\n",
        "uploads_api = v.UploadsApi(api)\n",
        "metadata = {\"created-from-api\": True}\n",
        "\n",
        "upload_response = uploads_api.start_file_upload_to_connector(\n",
        "    VECTORIZE_ORG_ID,\n",
        "    source_connector_id,\n",
        "    v.StartFileUploadToConnectorRequest(\n",
        "        name=file_path.split(\"/\")[-1],\n",
        "        content_type=\"application/pdf\",\n",
        "        # add additional metadata that will be stored along with each chunk in the vector database\n",
        "        metadata=json.dumps(metadata),\n",
        "    ),\n",
        ")\n",
        "\n",
        "with open(file_path, \"rb\") as f:\n",
        "    response = http.request(\n",
        "        \"PUT\",\n",
        "        upload_response.upload_url,\n",
        "        body=f,\n",
        "        headers={\n",
        "            \"Content-Type\": \"application/pdf\",\n",
        "            \"Content-Length\": str(os.path.getsize(file_path)),\n",
        "        },\n",
        "    )\n",
        "\n",
        "if response.status != 200:\n",
        "    print(\"Upload failed: \", response.data)\n",
        "else:\n",
        "    print(\"Upload successful\")"
      ]
    },
    {
      "cell_type": "markdown",
      "metadata": {
        "id": "PdJJfOhfxiIo"
      },
      "source": "### 连接到 AI 平台和向量数据库"
    },
    {
      "cell_type": "code",
      "execution_count": null,
      "metadata": {
        "id": "0ZSGhXJfxjBb"
      },
      "outputs": [],
      "source": [
        "ai_platforms = connectors_api.get_ai_platform_connectors(VECTORIZE_ORG_ID)\n",
        "builtin_ai_platform = [\n",
        "    c.id for c in ai_platforms.ai_platform_connectors if c.type == \"VECTORIZE\"\n",
        "][0]\n",
        "\n",
        "vector_databases = connectors_api.get_destination_connectors(VECTORIZE_ORG_ID)\n",
        "builtin_vector_db = [\n",
        "    c.id for c in vector_databases.destination_connectors if c.type == \"VECTORIZE\"\n",
        "][0]"
      ]
    },
    {
      "cell_type": "markdown",
      "metadata": {
        "id": "JWoL-kqQxs5H"
      },
      "source": "### 配置和部署管道"
    },
    {
      "cell_type": "code",
      "execution_count": null,
      "metadata": {
        "id": "hze9vJbQxvqA"
      },
      "outputs": [],
      "source": [
        "pipelines = v.PipelinesApi(api)\n",
        "response = pipelines.create_pipeline(\n",
        "    VECTORIZE_ORG_ID,\n",
        "    v.PipelineConfigurationSchema(\n",
        "        source_connectors=[\n",
        "            v.SourceConnectorSchema(\n",
        "                id=source_connector_id, type=\"FILE_UPLOAD\", config={}\n",
        "            )\n",
        "        ],\n",
        "        destination_connector=v.DestinationConnectorSchema(\n",
        "            id=builtin_vector_db, type=\"VECTORIZE\", config={}\n",
        "        ),\n",
        "        ai_platform=v.AIPlatformSchema(\n",
        "            id=builtin_ai_platform, type=\"VECTORIZE\", config={}\n",
        "        ),\n",
        "        pipeline_name=\"My Pipeline From API\",\n",
        "        schedule=v.ScheduleSchema(type=\"manual\"),\n",
        "    ),\n",
        ")\n",
        "pipeline_id = response.data.id"
      ]
    },
    {
      "metadata": {},
      "cell_type": "markdown",
      "source": [
        "### 配置跟踪（可选）\n\n如果你想从单个查询中获取自动化跟踪，还可以通过取消注释以下内容来设置你的 [LangSmith](https://docs.smith.langchain.com/) API 密钥："
      ]
    },
    {
      "metadata": {},
      "cell_type": "code",
      "outputs": [],
      "execution_count": null,
      "source": [
        "# os.environ[\"LANGSMITH_API_KEY\"] = getpass.getpass(\"Enter your LangSmith API key: \")\n",
        "# os.environ[\"LANGSMITH_TRACING\"] = \"true\""
      ]
    },
    {
      "cell_type": "markdown",
      "metadata": {
        "id": "5ULion9wyj6T"
      },
      "source": "## 实例化"
    },
    {
      "cell_type": "code",
      "execution_count": null,
      "metadata": {
        "id": "9D-QfiW7yoe0"
      },
      "outputs": [],
      "source": [
        "from langchain_vectorize.retrievers import VectorizeRetriever\n",
        "\n",
        "retriever = VectorizeRetriever(\n",
        "    api_token=VECTORIZE_API_TOKEN,\n",
        "    organization=VECTORIZE_ORG_ID,\n",
        "    pipeline_id=pipeline_id,\n",
        ")"
      ]
    },
    {
      "metadata": {},
      "cell_type": "markdown",
      "source": [
        "## 用法"
      ]
    },
    {
      "metadata": {},
      "cell_type": "code",
      "outputs": [],
      "execution_count": null,
      "source": [
        "query = \"Apple Shareholders equity\"\n",
        "retriever.invoke(query, num_results=2)"
      ]
    },
    {
      "metadata": {},
      "cell_type": "markdown",
      "source": [
        "## 在链中使用\n\n与其他检索器一样，VectorizeRetriever 可以通过[链](/docs/how_to/sequence/)集成到 LLM 应用程序中。\n\n我们需要一个 LLM 或聊天模型：\n\nimport ChatModelTabs from \"@theme/ChatModelTabs\";\n\n<ChatModelTabs customVarName=\"llm\" />"
      ]
    },
    {
      "metadata": {},
      "cell_type": "code",
      "outputs": [],
      "execution_count": null,
      "source": [
        "# | output: false\n",
        "# | echo: false\n",
        "\n",
        "from langchain_openai import ChatOpenAI\n",
        "\n",
        "llm = ChatOpenAI(model=\"gpt-3.5-turbo-0125\", temperature=0)"
      ]
    },
    {
      "metadata": {},
      "cell_type": "code",
      "outputs": [],
      "execution_count": null,
      "source": [
        "from langchain_core.output_parsers import StrOutputParser\n",
        "from langchain_core.prompts import ChatPromptTemplate\n",
        "from langchain_core.runnables import RunnablePassthrough\n",
        "\n",
        "prompt = ChatPromptTemplate.from_template(\n",
        "    \"\"\"Answer the question based only on the context provided.\n",
        "\n",
        "Context: {context}\n",
        "\n",
        "Question: {question}\"\"\"\n",
        ")\n",
        "\n",
        "\n",
        "def format_docs(docs):\n",
        "    return \"\\n\\n\".join(doc.page_content for doc in docs)\n",
        "\n",
        "\n",
        "chain = (\n",
        "    {\"context\": retriever | format_docs, \"question\": RunnablePassthrough()}\n",
        "    | prompt\n",
        "    | llm\n",
        "    | StrOutputParser()\n",
        ")"
      ]
    },
    {
      "metadata": {},
      "cell_type": "code",
      "outputs": [],
      "execution_count": null,
      "source": "chain.invoke(\"...\")"
    },
    {
      "metadata": {},
      "cell_type": "markdown",
      "source": [
        "## API 参考\n\n有关 VectorizeRetriever 的所有功能和配置的详细文档，请访问 [API 参考](https://python.langchain.com/api_reference/vectorize/langchain_vectorize.retrievers.VectorizeRetriever.html)。"
      ]
    }
  ],
  "metadata": {
    "colab": {
      "provenance": []
    },
    "kernelspec": {
      "display_name": "Python 3",
      "name": "python3"
    },
    "language_info": {
      "name": "python"
    }
  },
  "nbformat": 4,
  "nbformat_minor": 0
}