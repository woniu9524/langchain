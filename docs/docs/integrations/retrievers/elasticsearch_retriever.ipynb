{
  "cells": [
    {
      "cell_type": "raw",
      "id": "41ccce84-f6d9-4ba0-8281-22cbf29f20d3",
      "metadata": {},
      "source": [
        "---\n",
        "sidebar_label: Elasticsearch\n",
        "---"
      ]
    },
    {
      "cell_type": "markdown",
      "id": "54c4d916-05db-4e01-9893-c711904205b3",
      "metadata": {},
      "source": [
        "# ElasticsearchRetriever\n\n>[Elasticsearch](https://www.elastic.co/elasticsearch/) 是一个分布式、RESTful 的搜索和分析引擎。它提供了一个分布式的、支持多租户的全文搜索引擎，具有 HTTP Web 接口和无模式的 JSON 文档。它支持关键词搜索、向量搜索、混合搜索和复杂过滤。\n\n`ElasticsearchRetriever` 是一个通用的包装器，通过 [Query DSL](https://www.elastic.co/guide/en/elasticsearch/reference/current/query-dsl.html) 实现对所有 `Elasticsearch` 功能的灵活访问。对于大多数用例，其他类 (`ElasticsearchStore`、`ElasticsearchEmbeddings` 等) 应该已经足够，但如果它们不能满足你的需求，你可以使用 `ElasticsearchRetriever`。\n\n本指南将帮助你开始使用 Elasticsearch [retriever](/docs/concepts/retrievers)。有关 `ElasticsearchRetriever` 所有功能和配置的详细文档，请参阅 [API 参考](https://python.langchain.com/api_reference/elasticsearch/retrievers/langchain_elasticsearch.retrievers.ElasticsearchRetriever.html)。\n\n### 集成详情\n\nimport {ItemTable} from \"@theme/FeatureTables\";\n\n<ItemTable category=\"document_retrievers\" item=\"ElasticsearchRetriever\" />\n\n\n## 设置\n\n设置 Elasticsearch 实例主要有两种方式：\n\n- Elastic Cloud：[Elastic Cloud](https://cloud.elastic.co/) 是一个托管的 Elasticsearch 服务。注册一个 [免费试用](https://www.elastic.co/cloud/cloud-trial-overview)。\n若要连接到不需要登录凭据的 Elasticsearch 实例（在启用了安全的情况下启动 docker 实例），请将 Elasticsearch URL 和索引名称与 embedding 对象一起传递给构造函数。\n\n- 本地安装 Elasticsearch：通过在本地运行 Elasticsearch 来入门。最简单的方法是使用官方 Elasticsearch Docker 镜像。有关更多信息，请参阅 [Elasticsearch Docker 文档](https://www.elastic.co/guide/en/elasticsearch/reference/current/docker.html)。"
      ]
    },
    {
      "cell_type": "markdown",
      "id": "e13a7b58-3a56-4ce6-a4d5-81a8dd2080df",
      "metadata": {},
      "source": [
        "如果你想从单个查询中获得自动化跟踪，你也可以通过取消下面一行的注释来设置你的 [LangSmith](https://docs.smith.langchain.com/) API 密钥："
      ]
    },
    {
      "cell_type": "code",
      "execution_count": null,
      "id": "492b81d0-c85b-4693-ae4f-3f33da571ddd",
      "metadata": {},
      "outputs": [],
      "source": [
        "# os.environ[\"LANGSMITH_API_KEY\"] = getpass.getpass(\"Enter your LangSmith API key: \")\n",
        "# os.environ[\"LANGSMITH_TRACING\"] = \"true\""
      ]
    },
    {
      "cell_type": "markdown",
      "id": "78335745-f14d-411d-9c06-64ff83eb9358",
      "metadata": {},
      "source": [
        "### 安装\n\n此检索器位于 `langchain-elasticsearch` 包中。为方便演示，我们还将安装 `langchain-community` 来生成文本[embeddings](/docs/concepts/embedding_models)。"
      ]
    },
    {
      "cell_type": "code",
      "execution_count": null,
      "id": "51b49135-a61a-49e8-869d-7c1d76794cd7",
      "metadata": {
        "tags": []
      },
      "outputs": [],
      "source": [
        "%pip install -qU langchain-community langchain-elasticsearch"
      ]
    },
    {
      "cell_type": "code",
      "execution_count": 2,
      "id": "393ac030",
      "metadata": {
        "tags": []
      },
      "outputs": [],
      "source": [
        "from typing import Any, Dict, Iterable\n",
        "\n",
        "from elasticsearch import Elasticsearch\n",
        "from elasticsearch.helpers import bulk\n",
        "from langchain_community.embeddings import DeterministicFakeEmbedding\n",
        "from langchain_core.documents import Document\n",
        "from langchain_core.embeddings import Embeddings\n",
        "from langchain_elasticsearch import ElasticsearchRetriever"
      ]
    },
    {
      "cell_type": "markdown",
      "id": "24c0d140",
      "metadata": {},
      "source": [
        "### 配置\n\n在此处定义与 Elasticsearch 的连接。在此示例中，我们使用本地运行的实例。或者，您也可以在 [Elastic Cloud](https://cloud.elastic.co/) 上注册一个账户并开始 [免费试用](https://www.elastic.co/cloud/cloud-trial-overview)。"
      ]
    },
    {
      "cell_type": "code",
      "execution_count": null,
      "id": "fbb2f592",
      "metadata": {},
      "outputs": [],
      "source": [
        "es_url = \"http://localhost:9200\"\n",
        "es_client = Elasticsearch(hosts=[es_url])\n",
        "es_client.info()"
      ]
    },
    {
      "cell_type": "markdown",
      "id": "60aa7c20",
      "metadata": {},
      "source": [
        "为了进行向量搜索，我们将仅出于说明目的而使用随机嵌入。对于实际用例，请选择 LangChain [Embeddings](/docs/integrations/text_embedding) 类中的一个。"
      ]
    },
    {
      "cell_type": "code",
      "execution_count": 4,
      "id": "8e2997f3",
      "metadata": {},
      "outputs": [],
      "source": [
        "embeddings = DeterministicFakeEmbedding(size=3)"
      ]
    },
    {
      "cell_type": "markdown",
      "id": "b4eea654",
      "metadata": {},
      "source": [
        "#### 定义示例数据"
      ]
    },
    {
      "cell_type": "code",
      "execution_count": 21,
      "id": "166331fd",
      "metadata": {},
      "outputs": [],
      "source": [
        "index_name = \"test-langchain-retriever\"\n",
        "text_field = \"text\"\n",
        "dense_vector_field = \"fake_embedding\"\n",
        "num_characters_field = \"num_characters\"\n",
        "texts = [\n",
        "    \"foo\",\n",
        "    \"bar\",\n",
        "    \"world\",\n",
        "    \"hello world\",\n",
        "    \"hello\",\n",
        "    \"foo bar\",\n",
        "    \"bla bla foo\",\n",
        "]"
      ]
    },
    {
      "cell_type": "markdown",
      "id": "1c518c42",
      "metadata": {},
      "source": [
        "#### 索引数据\n\n通常，当用户已经在 Elasticsearch 索引中拥有数据时，他们会使用 `ElasticsearchRetriever`。这里我们索引了一些示例文本文件。如果您已经使用 `ElasticsearchStore.from_documents` 等方式创建了索引，那也是可以的。"
      ]
    },
    {
      "cell_type": "code",
      "execution_count": 17,
      "id": "cbc15217",
      "metadata": {},
      "outputs": [],
      "source": [
        "def create_index(\n",
        "    es_client: Elasticsearch,\n",
        "    index_name: str,\n",
        "    text_field: str,\n",
        "    dense_vector_field: str,\n",
        "    num_characters_field: str,\n",
        "):\n",
        "    es_client.indices.create(\n",
        "        index=index_name,\n",
        "        mappings={\n",
        "            \"properties\": {\n",
        "                text_field: {\"type\": \"text\"},\n",
        "                dense_vector_field: {\"type\": \"dense_vector\"},\n",
        "                num_characters_field: {\"type\": \"integer\"},\n",
        "            }\n",
        "        },\n",
        "    )\n",
        "\n",
        "\n",
        "def index_data(\n",
        "    es_client: Elasticsearch,\n",
        "    index_name: str,\n",
        "    text_field: str,\n",
        "    dense_vector_field: str,\n",
        "    embeddings: Embeddings,\n",
        "    texts: Iterable[str],\n",
        "    refresh: bool = True,\n",
        ") -> None:\n",
        "    create_index(\n",
        "        es_client, index_name, text_field, dense_vector_field, num_characters_field\n",
        "    )\n",
        "\n",
        "    vectors = embeddings.embed_documents(list(texts))\n",
        "    requests = [\n",
        "        {\n",
        "            \"_op_type\": \"index\",\n",
        "            \"_index\": index_name,\n",
        "            \"_id\": i,\n",
        "            text_field: text,\n",
        "            dense_vector_field: vector,\n",
        "            num_characters_field: len(text),\n",
        "        }\n",
        "        for i, (text, vector) in enumerate(zip(texts, vectors))\n",
        "    ]\n",
        "\n",
        "    bulk(es_client, requests)\n",
        "\n",
        "    if refresh:\n",
        "        es_client.indices.refresh(index=index_name)\n",
        "\n",
        "    return len(requests)"
      ]
    },
    {
      "cell_type": "code",
      "execution_count": 18,
      "id": "0a46bb52",
      "metadata": {},
      "outputs": [
        {
          "data": {
            "text/plain": [
              "7"
            ]
          },
          "execution_count": 18,
          "metadata": {},
          "output_type": "execute_result"
        }
      ],
      "source": [
        "index_data(es_client, index_name, text_field, dense_vector_field, embeddings, texts)"
      ]
    },
    {
      "cell_type": "markdown",
      "id": "08437fa2",
      "metadata": {},
      "source": [
        "## 实例化\n\n### 向量搜索\n\n本示例中使用伪造的 embedding 进行密集向量检索。"
      ]
    },
    {
      "cell_type": "code",
      "execution_count": 22,
      "id": "9e80ec4b",
      "metadata": {},
      "outputs": [
        {
          "data": {
            "text/plain": [
              "[Document(page_content='foo', metadata={'_index': 'test-langchain-index', '_id': '0', '_score': 1.0, '_source': {'fake_embedding': [-2.336764233933763, 0.27510289545940503, -0.7957597268194339], 'num_characters': 3}}),\n",
              " Document(page_content='world', metadata={'_index': 'test-langchain-index', '_id': '2', '_score': 0.6770179, '_source': {'fake_embedding': [-0.7041151202179595, -1.4652961969276497, -0.25786766898672847], 'num_characters': 5}}),\n",
              " Document(page_content='hello world', metadata={'_index': 'test-langchain-index', '_id': '3', '_score': 0.4816144, '_source': {'fake_embedding': [0.42728413221815387, -1.1889908285425348, -1.445433230084671], 'num_characters': 11}}),\n",
              " Document(page_content='hello', metadata={'_index': 'test-langchain-index', '_id': '4', '_score': 0.46853775, '_source': {'fake_embedding': [-0.28560441330564046, 0.9958894823084921, 1.5489829880195058], 'num_characters': 5}}),\n",
              " Document(page_content='foo bar', metadata={'_index': 'test-langchain-index', '_id': '5', '_score': 0.2086992, '_source': {'fake_embedding': [0.2533670476638539, 0.08100381646160418, 0.7763644080870179], 'num_characters': 7}})]"
            ]
          },
          "execution_count": 22,
          "metadata": {},
          "output_type": "execute_result"
        }
      ],
      "source": [
        "def vector_query(search_query: str) -> Dict:\n",
        "    vector = embeddings.embed_query(search_query)  # same embeddings as for indexing\n",
        "    return {\n",
        "        \"knn\": {\n",
        "            \"field\": dense_vector_field,\n",
        "            \"query_vector\": vector,\n",
        "            \"k\": 5,\n",
        "            \"num_candidates\": 10,\n",
        "        }\n",
        "    }\n",
        "\n",
        "\n",
        "vector_retriever = ElasticsearchRetriever.from_es_params(\n",
        "    index_name=index_name,\n",
        "    body_func=vector_query,\n",
        "    content_field=text_field,\n",
        "    url=es_url,\n",
        ")\n",
        "\n",
        "vector_retriever.invoke(\"foo\")"
      ]
    },
    {
      "cell_type": "markdown",
      "id": "74bd9256",
      "metadata": {},
      "source": [
        "### BM25\n\n传统的关键词匹配。"
      ]
    },
    {
      "cell_type": "code",
      "execution_count": 11,
      "id": "e2dd95c8",
      "metadata": {},
      "outputs": [
        {
          "data": {
            "text/plain": [
              "[Document(page_content='foo', metadata={'_index': 'test-langchain-index', '_id': '0', '_score': 0.9711467, '_source': {'fake_embedding': [-2.336764233933763, 0.27510289545940503, -0.7957597268194339], 'num_characters': 3}}),\n",
              " Document(page_content='foo bar', metadata={'_index': 'test-langchain-index', '_id': '5', '_score': 0.7437035, '_source': {'fake_embedding': [0.2533670476638539, 0.08100381646160418, 0.7763644080870179], 'num_characters': 7}}),\n",
              " Document(page_content='bla bla foo', metadata={'_index': 'test-langchain-index', '_id': '6', '_score': 0.6025789, '_source': {'fake_embedding': [1.7365927060137358, -0.5230400847844948, 0.7978339724186192], 'num_characters': 11}})]"
            ]
          },
          "execution_count": 11,
          "metadata": {},
          "output_type": "execute_result"
        }
      ],
      "source": [
        "def bm25_query(search_query: str) -> Dict:\n",
        "    return {\n",
        "        \"query\": {\n",
        "            \"match\": {\n",
        "                text_field: search_query,\n",
        "            },\n",
        "        },\n",
        "    }\n",
        "\n",
        "\n",
        "bm25_retriever = ElasticsearchRetriever.from_es_params(\n",
        "    index_name=index_name,\n",
        "    body_func=bm25_query,\n",
        "    content_field=text_field,\n",
        "    url=es_url,\n",
        ")\n",
        "\n",
        "bm25_retriever.invoke(\"foo\")"
      ]
    },
    {
      "cell_type": "markdown",
      "id": "ed19b62c",
      "metadata": {},
      "source": [
        "### 混合搜索\n\n将向量搜索与 BM25 搜索相结合，并使用 [互逆文档排名融合](https://www.elastic.co/guide/en/elasticsearch/reference/current/rrf.html) (RRF) 来合并结果集。"
      ]
    },
    {
      "cell_type": "code",
      "execution_count": 12,
      "id": "6a672180",
      "metadata": {},
      "outputs": [
        {
          "data": {
            "text/plain": [
              "[Document(page_content='foo', metadata={'_index': 'test-langchain-index', '_id': '0', '_score': 0.9711467, '_source': {'fake_embedding': [-2.336764233933763, 0.27510289545940503, -0.7957597268194339], 'num_characters': 3}}),\n",
              " Document(page_content='foo bar', metadata={'_index': 'test-langchain-index', '_id': '5', '_score': 0.7437035, '_source': {'fake_embedding': [0.2533670476638539, 0.08100381646160418, 0.7763644080870179], 'num_characters': 7}}),\n",
              " Document(page_content='bla bla foo', metadata={'_index': 'test-langchain-index', '_id': '6', '_score': 0.6025789, '_source': {'fake_embedding': [1.7365927060137358, -0.5230400847844948, 0.7978339724186192], 'num_characters': 11}})]"
            ]
          },
          "execution_count": 12,
          "metadata": {},
          "output_type": "execute_result"
        }
      ],
      "source": [
        "def hybrid_query(search_query: str) -> Dict:\n",
        "    vector = embeddings.embed_query(search_query)  # same embeddings as for indexing\n",
        "    return {\n",
        "        \"retriever\": {\n",
        "            \"rrf\": {\n",
        "                \"retrievers\": [\n",
        "                    {\n",
        "                        \"standard\": {\n",
        "                            \"query\": {\n",
        "                                \"match\": {\n",
        "                                    text_field: search_query,\n",
        "                                }\n",
        "                            }\n",
        "                        }\n",
        "                    },\n",
        "                    {\n",
        "                        \"knn\": {\n",
        "                            \"field\": dense_vector_field,\n",
        "                            \"query_vector\": vector,\n",
        "                            \"k\": 5,\n",
        "                            \"num_candidates\": 10,\n",
        "                        }\n",
        "                    },\n",
        "                ]\n",
        "            }\n",
        "        }\n",
        "    }\n",
        "\n",
        "\n",
        "hybrid_retriever = ElasticsearchRetriever.from_es_params(\n",
        "    index_name=index_name,\n",
        "    body_func=hybrid_query,\n",
        "    content_field=text_field,\n",
        "    url=es_url,\n",
        ")\n",
        "\n",
        "hybrid_retriever.invoke(\"foo\")"
      ]
    },
    {
      "cell_type": "markdown",
      "id": "766b6da9",
      "metadata": {},
      "source": [
        "### 模糊匹配\n\n支持容错的关键词匹配。"
      ]
    },
    {
      "cell_type": "code",
      "execution_count": 13,
      "id": "9605b00a",
      "metadata": {},
      "outputs": [
        {
          "data": {
            "text/plain": [
              "[Document(page_content='foo', metadata={'_index': 'test-langchain-index', '_id': '0', '_score': 0.6474311, '_source': {'fake_embedding': [-2.336764233933763, 0.27510289545940503, -0.7957597268194339], 'num_characters': 3}}),\n",
              " Document(page_content='foo bar', metadata={'_index': 'test-langchain-index', '_id': '5', '_score': 0.49580228, '_source': {'fake_embedding': [0.2533670476638539, 0.08100381646160418, 0.7763644080870179], 'num_characters': 7}}),\n",
              " Document(page_content='bla bla foo', metadata={'_index': 'test-langchain-index', '_id': '6', '_score': 0.40171927, '_source': {'fake_embedding': [1.7365927060137358, -0.5230400847844948, 0.7978339724186192], 'num_characters': 11}})]"
            ]
          },
          "execution_count": 13,
          "metadata": {},
          "output_type": "execute_result"
        }
      ],
      "source": [
        "def fuzzy_query(search_query: str) -> Dict:\n",
        "    return {\n",
        "        \"query\": {\n",
        "            \"match\": {\n",
        "                text_field: {\n",
        "                    \"query\": search_query,\n",
        "                    \"fuzziness\": \"AUTO\",\n",
        "                }\n",
        "            },\n",
        "        },\n",
        "    }\n",
        "\n",
        "\n",
        "fuzzy_retriever = ElasticsearchRetriever.from_es_params(\n",
        "    index_name=index_name,\n",
        "    body_func=fuzzy_query,\n",
        "    content_field=text_field,\n",
        "    url=es_url,\n",
        ")\n",
        "\n",
        "fuzzy_retriever.invoke(\"fox\")  # note the character tolernace"
      ]
    },
    {
      "cell_type": "markdown",
      "id": "16949537",
      "metadata": {},
      "source": [
        "### 复杂筛选\n\n对不同字段进行筛选组合。"
      ]
    },
    {
      "cell_type": "code",
      "execution_count": 14,
      "id": "d9e64ce5",
      "metadata": {},
      "outputs": [
        {
          "data": {
            "text/plain": [
              "[Document(page_content='foo bar', metadata={'_index': 'test-langchain-index', '_id': '5', '_score': 1.7437035, '_source': {'fake_embedding': [0.2533670476638539, 0.08100381646160418, 0.7763644080870179], 'num_characters': 7}}),\n",
              " Document(page_content='world', metadata={'_index': 'test-langchain-index', '_id': '2', '_score': 1.0, '_source': {'fake_embedding': [-0.7041151202179595, -1.4652961969276497, -0.25786766898672847], 'num_characters': 5}}),\n",
              " Document(page_content='hello world', metadata={'_index': 'test-langchain-index', '_id': '3', '_score': 1.0, '_source': {'fake_embedding': [0.42728413221815387, -1.1889908285425348, -1.445433230084671], 'num_characters': 11}}),\n",
              " Document(page_content='hello', metadata={'_index': 'test-langchain-index', '_id': '4', '_score': 1.0, '_source': {'fake_embedding': [-0.28560441330564046, 0.9958894823084921, 1.5489829880195058], 'num_characters': 5}})]"
            ]
          },
          "execution_count": 14,
          "metadata": {},
          "output_type": "execute_result"
        }
      ],
      "source": [
        "def filter_query_func(search_query: str) -> Dict:\n",
        "    return {\n",
        "        \"query\": {\n",
        "            \"bool\": {\n",
        "                \"must\": [\n",
        "                    {\"range\": {num_characters_field: {\"gte\": 5}}},\n",
        "                ],\n",
        "                \"must_not\": [\n",
        "                    {\"prefix\": {text_field: \"bla\"}},\n",
        "                ],\n",
        "                \"should\": [\n",
        "                    {\"match\": {text_field: search_query}},\n",
        "                ],\n",
        "            }\n",
        "        }\n",
        "    }\n",
        "\n",
        "\n",
        "filtering_retriever = ElasticsearchRetriever.from_es_params(\n",
        "    index_name=index_name,\n",
        "    body_func=filter_query_func,\n",
        "    content_field=text_field,\n",
        "    url=es_url,\n",
        ")\n",
        "\n",
        "filtering_retriever.invoke(\"foo\")"
      ]
    },
    {
      "cell_type": "markdown",
      "id": "b415cfc0",
      "metadata": {},
      "source": [
        "请注意，查询匹配位于顶部。通过过滤的其他文档也包含在结果集中，但它们的得分均相同。"
      ]
    },
    {
      "cell_type": "markdown",
      "id": "c57b7bb1",
      "metadata": {},
      "source": [
        "### 自定义文档映射器\n\n可以通过自定义函数将 Elasticsearch 的结果（命中项）映射到 LangChain 文档。"
      ]
    },
    {
      "cell_type": "code",
      "execution_count": 15,
      "id": "df679007",
      "metadata": {},
      "outputs": [
        {
          "data": {
            "text/plain": [
              "[Document(page_content='This document has 7 characters', metadata={'text_content': 'foo bar'}),\n",
              " Document(page_content='This document has 5 characters', metadata={'text_content': 'world'}),\n",
              " Document(page_content='This document has 11 characters', metadata={'text_content': 'hello world'}),\n",
              " Document(page_content='This document has 5 characters', metadata={'text_content': 'hello'})]"
            ]
          },
          "execution_count": 15,
          "metadata": {},
          "output_type": "execute_result"
        }
      ],
      "source": [
        "def num_characters_mapper(hit: Dict[str, Any]) -> Document:\n",
        "    num_chars = hit[\"_source\"][num_characters_field]\n",
        "    content = hit[\"_source\"][text_field]\n",
        "    return Document(\n",
        "        page_content=f\"This document has {num_chars} characters\",\n",
        "        metadata={\"text_content\": content},\n",
        "    )\n",
        "\n",
        "\n",
        "custom_mapped_retriever = ElasticsearchRetriever.from_es_params(\n",
        "    index_name=index_name,\n",
        "    body_func=filter_query_func,\n",
        "    document_mapper=num_characters_mapper,\n",
        "    url=es_url,\n",
        ")\n",
        "\n",
        "custom_mapped_retriever.invoke(\"foo\")"
      ]
    },
    {
      "cell_type": "markdown",
      "id": "1663feff-4527-4fb0-9395-b28af5c9ec99",
      "metadata": {},
      "source": [
        "## 用法\n\n遵循上面的示例，我们使用 `.invoke` 来发出单个查询。因为检索器是可运行的（Runnables），所以我们也可以使用 [Runnable 接口](/docs/concepts/runnables) 中的任何方法，例如 `.batch`。"
      ]
    },
    {
      "cell_type": "markdown",
      "id": "f4f946ed-ff3a-43d7-9e0d-7983ff13c868",
      "metadata": {},
      "source": [
        "## 在链中使用\n\n我们还可以将检索器整合到 [链](/docs/how_to/sequence/) 中，以构建更大的应用程序，例如一个简单的 [RAG](/docs/tutorials/rag/) 应用程序。出于演示目的，我们也实例化了一个 OpenAI 聊天模型。"
      ]
    },
    {
      "cell_type": "code",
      "execution_count": null,
      "id": "19302ef1-dd49-4f9c-8d87-4ea23b8296e2",
      "metadata": {},
      "outputs": [],
      "source": [
        "%pip install -qU langchain-openai"
      ]
    },
    {
      "cell_type": "code",
      "execution_count": null,
      "id": "832857a7-3b16-4a85-acc7-28efe6ebdae8",
      "metadata": {},
      "outputs": [],
      "source": [
        "from langchain_core.output_parsers import StrOutputParser\n",
        "from langchain_core.prompts import ChatPromptTemplate\n",
        "from langchain_core.runnables import RunnablePassthrough\n",
        "from langchain_openai import ChatOpenAI\n",
        "\n",
        "prompt = ChatPromptTemplate.from_template(\n",
        "    \"\"\"Answer the question based only on the context provided.\n",
        "\n",
        "Context: {context}\n",
        "\n",
        "Question: {question}\"\"\"\n",
        ")\n",
        "\n",
        "llm = ChatOpenAI(model=\"gpt-4o-mini\")\n",
        "\n",
        "\n",
        "def format_docs(docs):\n",
        "    return \"\\n\\n\".join(doc.page_content for doc in docs)\n",
        "\n",
        "\n",
        "chain = (\n",
        "    {\"context\": vector_retriever | format_docs, \"question\": RunnablePassthrough()}\n",
        "    | prompt\n",
        "    | llm\n",
        "    | StrOutputParser()\n",
        ")"
      ]
    },
    {
      "cell_type": "code",
      "execution_count": null,
      "id": "7317942b-7c9a-477d-ba11-3421da804a22",
      "metadata": {},
      "outputs": [],
      "source": [
        "chain.invoke(\"what is foo?\")"
      ]
    },
    {
      "cell_type": "markdown",
      "id": "eeb49714-ba5a-4b10-8e58-67d061a486d1",
      "metadata": {},
      "source": [
        "## API 参考\n\n有关 `ElasticsearchRetriever` 所有功能和配置的详细文档，请访问 [API 参考](https://python.langchain.com/api_reference/elasticsearch/retrievers/langchain_elasticsearch.retrievers.ElasticsearchRetriever.html)。"
      ]
    }
  ],
  "metadata": {
    "kernelspec": {
      "display_name": "Python 3 (ipykernel)",
      "language": "python",
      "name": "python3"
    },
    "language_info": {
      "codemirror_mode": {
        "name": "ipython",
        "version": 3
      },
      "file_extension": ".py",
      "mimetype": "text/x-python",
      "name": "python",
      "nbconvert_exporter": "python",
      "pygments_lexer": "ipython3",
      "version": "3.10.4"
    }
  },
  "nbformat": 4,
  "nbformat_minor": 5
}