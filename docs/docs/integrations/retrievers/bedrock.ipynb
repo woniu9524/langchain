{
  "cells": [
    {
      "cell_type": "raw",
      "id": "b0872249-1af5-4d54-b816-1babad7a8c9e",
      "metadata": {},
      "source": [
        "---\n",
        "sidebar_label: Bedrock (Knowledge Bases)\n",
        "---"
      ]
    },
    {
      "cell_type": "markdown",
      "id": "b6636c27-35da-4ba7-8313-eca21660cab3",
      "metadata": {},
      "source": [
        "# Bedrock (知识库) 检索器\n\n本指南将帮助您开始使用 AWS 知识库 [检索器](/docs/concepts/retrievers)。\n\n[Amazon Bedrock 的知识库](https://aws.amazon.com/bedrock/knowledge-bases/) 是亚马逊网络服务 (AWS) 提供的一项服务，可让您通过使用私有数据来定制 FM 响应，从而快速构建 RAG 应用程序。\n\n实施 `RAG` 需要组织执行多个繁琐的步骤，将数据转换为嵌入（向量），将嵌入存储在专门的向量数据库中，并构建到数据库的自定义集成，以搜索和检索与用户查询相关的文本。这可能既耗时又效率低下。\n\n借助 `Amazon Bedrock 的知识库`，您只需指向 `Amazon S3` 中数据的存储位置，`Amazon Bedrock 的知识库` 就会负责将所有数据摄取到您的向量数据库中。如果您没有现有的向量数据库，Amazon Bedrock 会为您创建一个 Amazon OpenSearch Serverless 向量存储。对于检索，请通过 Retrieve API 使用 Langchain - Amazon Bedrock 集成，从知识库中检索与用户查询相关的结果。\n\n### 集成详情\n\nimport {ItemTable} from \"@theme/FeatureTables\";\n\n<ItemTable category=\"document_retrievers\" item=\"AmazonKnowledgeBasesRetriever\" />"
      ]
    },
    {
      "cell_type": "markdown",
      "id": "cd092536-61bd-4b3f-9050-076daccc9e72",
      "metadata": {},
      "source": [
        "## 设置\n\n知识库可以通过 [AWS 管理控制台](https://aws.amazon.com/console/) 或使用 [AWS SDK](https://aws.amazon.com/developer/tools/) 进行配置。我们需要 `knowledge_base_id` 来实例化检索器。"
      ]
    },
    {
      "cell_type": "markdown",
      "id": "238c0ceb-d4b6-409e-bed9-d30143d2f2c9",
      "metadata": {},
      "source": [
        "如果你希望从单个查询中获得自动化追踪，你也可以通过取消注释下方来设置你的 [LangSmith](https://docs.smith.langchain.com/) API 密钥："
      ]
    },
    {
      "cell_type": "code",
      "execution_count": null,
      "id": "e4426098-820c-48dc-9826-056a91bebe9e",
      "metadata": {},
      "outputs": [],
      "source": [
        "# os.environ[\"LANGSMITH_API_KEY\"] = getpass.getpass(\"Enter your LangSmith API key: \")\n",
        "# os.environ[\"LANGSMITH_TRACING\"] = \"true\""
      ]
    },
    {
      "cell_type": "markdown",
      "id": "4ede6277-ea56-45f6-8ef4-fe14734ee279",
      "metadata": {},
      "source": [
        "### 安装\n\n此检索器位于 `langchain-aws` 包中："
      ]
    },
    {
      "cell_type": "code",
      "execution_count": null,
      "id": "4db1af24-0969-43bd-8438-af5e3024b0d0",
      "metadata": {},
      "outputs": [],
      "source": [
        "%pip install -qU langchain-aws"
      ]
    },
    {
      "cell_type": "markdown",
      "id": "b34c8cbe-c6e5-4398-adf1-4925204bcaed",
      "metadata": {},
      "source": [
        "## 实例化\n\n现在我们可以实例化我们的检索器："
      ]
    },
    {
      "cell_type": "code",
      "execution_count": 1,
      "id": "30337664-8844-4dfe-97db-077abb51af68",
      "metadata": {},
      "outputs": [],
      "source": [
        "from langchain_aws.retrievers import AmazonKnowledgeBasesRetriever\n",
        "\n",
        "retriever = AmazonKnowledgeBasesRetriever(\n",
        "    knowledge_base_id=\"PUIJP4EQUA\",\n",
        "    retrieval_config={\"vectorSearchConfiguration\": {\"numberOfResults\": 4}},\n",
        ")"
      ]
    },
    {
      "cell_type": "markdown",
      "id": "9dff39f8-b6ba-41bf-b95b-d345928ed07d",
      "metadata": {},
      "source": [
        "## 用法"
      ]
    },
    {
      "cell_type": "code",
      "execution_count": null,
      "id": "f9fefa50-f0fb-40e3-b4e4-67c5b232a090",
      "metadata": {},
      "outputs": [],
      "source": [
        "query = \"What did the president say about Ketanji Brown?\"\n",
        "\n",
        "retriever.invoke(query)"
      ]
    },
    {
      "cell_type": "markdown",
      "id": "7de9b61b-597b-4aba-95fb-49d11e84510e",
      "metadata": {},
      "source": [
        "## 在链式调用中使用"
      ]
    },
    {
      "cell_type": "code",
      "execution_count": null,
      "id": "0fd71709-aaed-42b5-a990-e3067bfa7143",
      "metadata": {},
      "outputs": [],
      "source": [
        "from botocore.client import Config\n",
        "from langchain.chains import RetrievalQA\n",
        "from langchain_aws import Bedrock\n",
        "\n",
        "model_kwargs_claude = {\"temperature\": 0, \"top_k\": 10, \"max_tokens_to_sample\": 3000}\n",
        "\n",
        "llm = Bedrock(model_id=\"anthropic.claude-v2\", model_kwargs=model_kwargs_claude)\n",
        "\n",
        "qa = RetrievalQA.from_chain_type(\n",
        "    llm=llm, retriever=retriever, return_source_documents=True\n",
        ")\n",
        "\n",
        "qa(query)"
      ]
    },
    {
      "cell_type": "markdown",
      "id": "22e2538a-e042-4997-bb81-b68ecb27d665",
      "metadata": {},
      "source": [
        "## API 参考\n\n有关 `AmazonKnowledgeBasesRetriever` 所有功能和配置的详细文档，请前往 [API 参考](https://python.langchain.com/api_reference/aws/retrievers/langchain_aws.retrievers.bedrock.AmazonKnowledgeBasesRetriever.html)。"
      ]
    }
  ],
  "metadata": {
    "kernelspec": {
      "display_name": "Python 3 (ipykernel)",
      "language": "python",
      "name": "python3"
    },
    "language_info": {
      "codemirror_mode": {
        "name": "ipython",
        "version": 3
      },
      "file_extension": ".py",
      "mimetype": "text/x-python",
      "name": "python",
      "nbconvert_exporter": "python",
      "pygments_lexer": "ipython3",
      "version": "3.10.4"
    }
  },
  "nbformat": 4,
  "nbformat_minor": 5
}