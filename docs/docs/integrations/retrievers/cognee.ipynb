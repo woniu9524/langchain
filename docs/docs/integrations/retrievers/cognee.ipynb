{
  "cells": [
    {
      "cell_type": "raw",
      "id": "afaf8039",
      "metadata": {},
      "source": [
        "---\n",
        "sidebar_label: Cognee\n",
        "---"
      ]
    },
    {
      "cell_type": "markdown",
      "id": "e49f1e0d",
      "metadata": {},
      "source": [
        "# CogneeRetriever\n\n这将帮助您开始使用 Cognee [检索器](/docs/concepts/retrievers)。有关所有 CogneeRetriever 功能和配置的详细文档，请参阅 [API 参考](https://python.langchain.com/api_reference/community/retrievers/langchain_community.retrievers.cognee.CogneeRetriever.html)。\n\n### 集成详情\n\n自带数据（即索引和搜索自定义文档语料库）：\n\n| Retriever | Self-host | Cloud offering | Package |\n| :--- | :--- | :---: | :---: |\n[CogneeRetriever](https://python.langchain.com/api_reference/community/retrievers/langchain_community.retrievers.cognee.CogneeRetriever.html) | ✅ | ❌ | langchain-cognee |\n\n## 设置\n\n对于 cognee 的默认设置，您唯一需要的是您的 OpenAI API 密钥。"
      ]
    },
    {
      "cell_type": "markdown",
      "id": "72ee0c4b-9764-423a-9dbf-95129e185210",
      "metadata": {},
      "source": [
        "如果你想要从单个查询中获取自动化跟踪信息，你也可以通过取消下面这行注释来设置你的 [LangSmith](https://docs.smith.langchain.com/) API 密钥："
      ]
    },
    {
      "cell_type": "code",
      "execution_count": null,
      "id": "a15d341e-3e26-4ca3-830b-5aab30ed66de",
      "metadata": {},
      "outputs": [],
      "source": [
        "# os.environ[\"LANGSMITH_API_KEY\"] = getpass.getpass(\"Enter your LangSmith API key: \")\n",
        "# os.environ[\"LANGSMITH_TRACING\"] = \"true\""
      ]
    },
    {
      "cell_type": "markdown",
      "id": "0730d6a1-c893-4840-9817-5e5251676d5d",
      "metadata": {},
      "source": [
        "### 安装\n\n此检索器存在于 `langchain-cognee` 包中："
      ]
    },
    {
      "cell_type": "code",
      "execution_count": null,
      "id": "652d6238-1f87-422a-b135-f5abbb8652fc",
      "metadata": {},
      "outputs": [],
      "source": [
        "%pip install -qU langchain-cognee"
      ]
    },
    {
      "cell_type": "code",
      "execution_count": null,
      "id": "b8bcb1e7",
      "metadata": {},
      "outputs": [],
      "source": [
        "import nest_asyncio\n",
        "\n",
        "nest_asyncio.apply()"
      ]
    },
    {
      "cell_type": "markdown",
      "id": "a38cde65-254d-4219-a441-068766c0d4b5",
      "metadata": {},
      "source": [
        "## 实例化\n\n现在我们可以实例化我们的检索器（retriever）了："
      ]
    },
    {
      "cell_type": "code",
      "execution_count": null,
      "id": "70cc8e65-2a02-408a-bbc6-8ef649057d82",
      "metadata": {},
      "outputs": [],
      "source": [
        "from langchain_cognee import CogneeRetriever\n",
        "\n",
        "retriever = CogneeRetriever(\n",
        "    llm_api_key=\"sk-\",  # OpenAI API Key\n",
        "    dataset_name=\"my_dataset\",\n",
        "    k=3,\n",
        ")"
      ]
    },
    {
      "cell_type": "markdown",
      "id": "5c5f2839-4020-424e-9fc9-07777eede442",
      "metadata": {},
      "source": [
        "## 用法\n\n添加一些文档，处理它们，然后运行查询。Cognee 会检索与你的查询相关的知识，并生成最终答案。"
      ]
    },
    {
      "cell_type": "code",
      "execution_count": null,
      "id": "51a60dbe-9f2e-4e04-bb62-23968f17164a",
      "metadata": {},
      "outputs": [],
      "source": [
        "# Example of adding and processing documents\n",
        "from langchain_core.documents import Document\n",
        "\n",
        "docs = [\n",
        "    Document(page_content=\"Elon Musk is the CEO of SpaceX.\"),\n",
        "    Document(page_content=\"SpaceX focuses on rockets and space travel.\"),\n",
        "]\n",
        "\n",
        "retriever.add_documents(docs)\n",
        "retriever.process_data()\n",
        "\n",
        "# Now let's query the retriever\n",
        "query = \"Tell me about Elon Musk\"\n",
        "results = retriever.invoke(query)\n",
        "\n",
        "for idx, doc in enumerate(results, start=1):\n",
        "    print(f\"Doc {idx}: {doc.page_content}\")"
      ]
    },
    {
      "cell_type": "markdown",
      "id": "dfe8aad4-8626-4330-98a9-7ea1ca5d2e0e",
      "metadata": {},
      "source": [
        "## 在链中使用\n\n与其它检索器一样，CogneeRetriever 可以通过 [链](/docs/how_to/sequence/) 被整合到 LLM 应用中。\n\n我们需要一个 LLM 或聊天模型：\n\nimport ChatModelTabs from \"@theme/ChatModelTabs\";\n\n<ChatModelTabs customVarName=\"llm\" />"
      ]
    },
    {
      "cell_type": "code",
      "execution_count": null,
      "id": "25b647a3-f8f2-4541-a289-7a241e43f9df",
      "metadata": {},
      "outputs": [],
      "source": [
        "from langchain_openai import ChatOpenAI\n",
        "\n",
        "llm = ChatOpenAI(model=\"gpt-4o-mini\", temperature=0)"
      ]
    },
    {
      "cell_type": "code",
      "execution_count": null,
      "id": "23e11cc9-abd6-4855-a7eb-799f45ca01ae",
      "metadata": {},
      "outputs": [],
      "source": [
        "from langchain_cognee import CogneeRetriever\n",
        "from langchain_core.documents import Document\n",
        "from langchain_core.output_parsers import StrOutputParser\n",
        "from langchain_core.prompts import ChatPromptTemplate\n",
        "from langchain_core.runnables import RunnablePassthrough\n",
        "\n",
        "# Instantiate the retriever with your Cognee config\n",
        "retriever = CogneeRetriever(llm_api_key=\"sk-\", dataset_name=\"my_dataset\", k=3)\n",
        "\n",
        "# Optionally, prune/reset the dataset for a clean slate\n",
        "retriever.prune()\n",
        "\n",
        "# Add some documents\n",
        "docs = [\n",
        "    Document(page_content=\"Elon Musk is the CEO of SpaceX.\"),\n",
        "    Document(page_content=\"SpaceX focuses on space travel.\"),\n",
        "]\n",
        "retriever.add_documents(docs)\n",
        "retriever.process_data()\n",
        "\n",
        "\n",
        "prompt = ChatPromptTemplate.from_template(\n",
        "    \"\"\"Answer the question based only on the context provided.\n",
        "\n",
        "Context: {context}\n",
        "\n",
        "Question: {question}\"\"\"\n",
        ")\n",
        "\n",
        "\n",
        "def format_docs(docs):\n",
        "    return \"\\n\\n\".join(doc.page_content for doc in docs)\n",
        "\n",
        "\n",
        "chain = (\n",
        "    {\"context\": retriever | format_docs, \"question\": RunnablePassthrough()}\n",
        "    | prompt\n",
        "    | llm\n",
        "    | StrOutputParser()\n",
        ")"
      ]
    },
    {
      "cell_type": "code",
      "execution_count": null,
      "id": "d47c37dd-5c11-416c-a3b6-bec413cd70e8",
      "metadata": {},
      "outputs": [],
      "source": [
        "answer = chain.invoke(\"What companies do Elon Musk own?\")\n",
        "\n",
        "print(\"\\nFinal chain answer:\\n\", answer)"
      ]
    },
    {
      "cell_type": "markdown",
      "id": "3a5bb5ca-c3ae-4a58-be67-2cd18574b9a3",
      "metadata": {},
      "source": [
        "## API 参考\n\nTODO：添加 API 参考链接。"
      ]
    },
    {
      "cell_type": "markdown",
      "id": "a8dbdd72",
      "metadata": {},
      "source": []
    }
  ],
  "metadata": {
    "kernelspec": {
      "display_name": "langchain-cognee-wqM4bUfz-py3.11",
      "language": "python",
      "name": "python3"
    },
    "language_info": {
      "codemirror_mode": {
        "name": "ipython",
        "version": 3
      },
      "file_extension": ".py",
      "mimetype": "text/x-python",
      "name": "python",
      "nbconvert_exporter": "python",
      "pygments_lexer": "ipython3",
      "version": "3.11.5"
    }
  },
  "nbformat": 4,
  "nbformat_minor": 5
}