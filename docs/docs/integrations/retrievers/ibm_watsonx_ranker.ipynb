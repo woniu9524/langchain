{
  "cells": [
    {
      "cell_type": "raw",
      "id": "5a18a9c7",
      "metadata": {
        "vscode": {
          "languageId": "raw"
        }
      },
      "source": [
        "---\n",
        "sidebar_label: IBM watsonx.ai\n",
        "---"
      ]
    },
    {
      "cell_type": "markdown",
      "id": "fc0db1bc",
      "metadata": {},
      "source": [
        "# WatsonxRerank\n\n> WatsonxRerank 是 IBM [watsonx.ai](https://www.ibm.com/products/watsonx-ai) 基础模型的封装器。\n\n该 Notebook 展示如何在检索器中使用 [watsonx 的 rerank 端点](https://cloud.ibm.com/apidocs/watsonx-ai#text-rerank)。这建立在 [ContextualCompressionRetriever](/docs/how_to/contextual_compression) 的思想之上。"
      ]
    },
    {
      "cell_type": "markdown",
      "id": "398667f7",
      "metadata": {},
      "source": [
        "## 概览\n\n### 集成详情\n\n| 类 | 包 | [JS 支持](https://js.langchain.com/docs/integrations/document_compressors/ibm/) | 包下载量 | 包最新版本 |\n| :--- | :--- | :---: | :---: | :---: |\n| [WatsonxRerank](https://python.langchain.com/api_reference/ibm/rerank/langchain_ibm.rerank.WatsonxRerank.html) | [langchain-ibm](https://python.langchain.com/api_reference/ibm/index.html) | ✅ | ![PyPI - Downloads](https://img.shields.io/pypi/dm/langchain-ibm?style=flat-square&label=%20) | ![PyPI - Version](https://img.shields.io/pypi/v/langchain-ibm?style=flat-square&label=%20) |"
      ]
    },
    {
      "cell_type": "markdown",
      "id": "4049caf1",
      "metadata": {},
      "source": [
        "## 设置\n\n要访问 IBM watsonx.ai 模型，您需要创建一个 IBM watsonx.ai 账户，获取 API 密钥，并安装 `langchain-ibm` 集成包。\n\n### 凭证\n\n下面的单元格定义了使用 watsonx 基础模型推理所需的凭证。\n\n**操作：** 提供 IBM Cloud 用户 API 密钥。有关详细信息，请参阅\n[管理用户 API 密钥](https://cloud.ibm.com/docs/account?topic=account-userapikey&interface=ui)。"
      ]
    },
    {
      "cell_type": "code",
      "execution_count": null,
      "id": "4b658a43",
      "metadata": {},
      "outputs": [],
      "source": [
        "import os\n",
        "from getpass import getpass\n",
        "\n",
        "watsonx_api_key = getpass()\n",
        "os.environ[\"WATSONX_APIKEY\"] = watsonx_api_key"
      ]
    },
    {
      "cell_type": "markdown",
      "id": "6947421a",
      "metadata": {},
      "source": [
        "此外，您还可以将额外的 secrets 作为环境变量传递。"
      ]
    },
    {
      "cell_type": "code",
      "execution_count": null,
      "id": "f599671b",
      "metadata": {},
      "outputs": [],
      "source": [
        "import os\n",
        "\n",
        "os.environ[\"WATSONX_URL\"] = \"your service instance url\"\n",
        "os.environ[\"WATSONX_TOKEN\"] = \"your token for accessing the CPD cluster\"\n",
        "os.environ[\"WATSONX_PASSWORD\"] = \"your password for accessing the CPD cluster\"\n",
        "os.environ[\"WATSONX_USERNAME\"] = \"your username for accessing the CPD cluster\"\n",
        "os.environ[\"WATSONX_INSTANCE_ID\"] = \"your instance_id for accessing the CPD cluster\""
      ]
    },
    {
      "cell_type": "markdown",
      "id": "0f2c4918",
      "metadata": {},
      "source": [
        "### 安装\n\nLangChain IBM 集成位于 `langchain-ibm` 包中："
      ]
    },
    {
      "cell_type": "code",
      "execution_count": 1,
      "id": "4f5973bb-7897-4340-a8ce-c3365ee73b2f",
      "metadata": {},
      "outputs": [],
      "source": [
        "!pip install -qU langchain-ibm\n",
        "!pip install -qU langchain-community\n",
        "!pip install -qU langchain_text_splitters"
      ]
    },
    {
      "cell_type": "markdown",
      "id": "da97c16c",
      "metadata": {},
      "source": [
        "为了实验目的，请同时安装 `faiss` 或 `faiss-cpu` 包："
      ]
    },
    {
      "cell_type": "code",
      "execution_count": null,
      "id": "b37bd138-4f3c-4d2c-bc4b-be705ce27a09",
      "metadata": {
        "tags": []
      },
      "outputs": [],
      "source": [
        "!pip install --upgrade --quiet  faiss\n",
        "\n",
        "# OR  (depending on Python version)\n",
        "\n",
        "!pip install --upgrade --quiet  faiss-cpu"
      ]
    },
    {
      "cell_type": "markdown",
      "id": "5bab56bf",
      "metadata": {},
      "source": [
        "用于打印文档的辅助函数"
      ]
    },
    {
      "cell_type": "code",
      "execution_count": 8,
      "id": "6fa3d916",
      "metadata": {
        "jp-MarkdownHeadingCollapsed": true,
        "tags": []
      },
      "outputs": [],
      "source": [
        "def pretty_print_docs(docs):\n",
        "    print(\n",
        "        f\"\\n{'-' * 100}\\n\".join(\n",
        "            [f\"Document {i+1}:\\n\\n\" + d.page_content for i, d in enumerate(docs)]\n",
        "        )\n",
        "    )"
      ]
    },
    {
      "cell_type": "markdown",
      "id": "f5057385",
      "metadata": {
        "jp-MarkdownHeadingCollapsed": true,
        "tags": []
      },
      "source": [
        "## 实例化\n\n### 设置基础向量存储检索器\n让我们开始初始化一个简单的向量存储检索器，并存储 2023 年国情咨文（分块）。我们可以将检索器设置为检索大量（20 个）文档。\n\n初始化 `WatsonxEmbeddings`。有关更多详细信息，请参阅 [WatsonxEmbeddings](/docs/integrations/text_embedding/ibm_watsonx)。\n\n**注意**：\n\n- 为 API 调用提供上下文时，必须添加 `project_id` 或 `space_id`。有关更多信息，请参阅[文档](https://www.ibm.com/docs/en/watsonx-as-a-service?topic=projects)。\n- 根据您提供的服务实例的区域，使用此处描述的 URL 之一[此处](https://ibm.github.io/watsonx-ai-python-sdk/setup_cloud.html#authentication)。\n\n在此示例中，我们将使用 `project_id` 和 Dallas URL。\n\n您需要指定将用于嵌入的 `model_id`。所有可用模型都可以在[文档](https://ibm.github.io/watsonx-ai-python-sdk/fm_embeddings.html#EmbeddingModels)中找到。"
      ]
    },
    {
      "cell_type": "code",
      "execution_count": null,
      "id": "029dc5e7",
      "metadata": {},
      "outputs": [],
      "source": [
        "from langchain_ibm import WatsonxEmbeddings\n",
        "\n",
        "wx_embeddings = WatsonxEmbeddings(\n",
        "    model_id=\"ibm/slate-125m-english-rtrvr\",\n",
        "    url=\"https://us-south.ml.cloud.ibm.com\",\n",
        "    project_id=\"PASTE YOUR PROJECT_ID HERE\",\n",
        ")"
      ]
    },
    {
      "cell_type": "code",
      "execution_count": 22,
      "id": "b7648612",
      "metadata": {},
      "outputs": [
        {
          "name": "stdout",
          "output_type": "stream",
          "text": [
            "Document 1:\n",
            "\n",
            "One of the most serious constitutional responsibilities a President has is nominating someone to serve on the United States Supreme Court. \n",
            "\n",
            "And I did that 4 days ago, when I nominated Circuit Court of Appeals Judge Ketanji Brown Jackson. One of our nation’s top legal minds, who will continue Justice Breyer’s legacy of excellence.\n",
            "----------------------------------------------------------------------------------------------------\n",
            "Document 2:\n",
            "\n",
            "I spoke with their families and told them that we are forever in debt for their sacrifice, and we will carry on their mission to restore the trust and safety every community deserves. \n",
            "\n",
            "I’ve worked on these issues a long time. \n",
            "\n",
            "I know what works: Investing in crime prevention and community police officers who’ll walk the beat, who’ll know the neighborhood, and who can restore trust and safety. \n",
            "\n",
            "So let’s not abandon our streets. Or choose between safety and equal justice.\n",
            "----------------------------------------------------------------------------------------------------\n",
            "Document 3:\n",
            "\n",
            "He met the Ukrainian people. \n",
            "\n",
            "From President Zelenskyy to every Ukrainian, their fearlessness, their courage, their determination, inspires the world. \n",
            "\n",
            "Groups of citizens blocking tanks with their bodies. Everyone from students to retirees teachers turned soldiers defending their homeland. \n",
            "\n",
            "In this struggle as President Zelenskyy said in his speech to the European Parliament “Light will win over darkness.” The Ukrainian Ambassador to the United States is here tonight.\n",
            "----------------------------------------------------------------------------------------------------\n",
            "Document 4:\n",
            "\n",
            "As I said last year, especially to our younger transgender Americans, I will always have your back as your President, so you can be yourself and reach your God-given potential. \n",
            "\n",
            "While it often appears that we never agree, that isn’t true. I signed 80 bipartisan bills into law last year. From preventing government shutdowns to protecting Asian-Americans from still-too-common hate crimes to reforming military justice.\n",
            "----------------------------------------------------------------------------------------------------\n",
            "Document 5:\n",
            "\n",
            "To all Americans, I will be honest with you, as I’ve always promised. A Russian dictator, invading a foreign country, has costs around the world. \n",
            "\n",
            "And I’m taking robust action to make sure the pain of our sanctions  is targeted at Russia’s economy. And I will use every tool at our disposal to protect American businesses and consumers. \n",
            "\n",
            "Tonight, I can announce that the United States has worked with 30 other countries to release 60 Million barrels of oil from reserves around the world.\n"
          ]
        }
      ],
      "source": [
        "from langchain_community.document_loaders import TextLoader\n",
        "from langchain_community.vectorstores import FAISS\n",
        "from langchain_text_splitters import RecursiveCharacterTextSplitter\n",
        "\n",
        "documents = TextLoader(\"../../how_to/state_of_the_union.txt\").load()\n",
        "text_splitter = RecursiveCharacterTextSplitter(chunk_size=500, chunk_overlap=100)\n",
        "texts = text_splitter.split_documents(documents)\n",
        "retriever = FAISS.from_documents(texts, wx_embeddings).as_retriever(\n",
        "    search_kwargs={\"k\": 20}\n",
        ")\n",
        "\n",
        "query = \"What did the president say about Ketanji Brown Jackson\"\n",
        "docs = retriever.invoke(query)\n",
        "pretty_print_docs(docs[:5])  # Printing the first 5 documents"
      ]
    },
    {
      "cell_type": "markdown",
      "id": "f230c065",
      "metadata": {},
      "source": [
        "## 用法\n\n### 使用 WatsonxRerank 进行重排序\n现在我们用 `ContextualCompressionRetriever` 来包装我们的基础检索器。我们将添加一个 `WatsonxRerank`，它使用 watsonx rerank 端点来重排序返回的结果。\n请注意，在 WatsonxRerank 中指定模型名称是强制性的！"
      ]
    },
    {
      "cell_type": "code",
      "execution_count": null,
      "id": "a6705dda",
      "metadata": {},
      "outputs": [],
      "source": [
        "from langchain_ibm import WatsonxRerank\n",
        "\n",
        "wx_rerank = WatsonxRerank(\n",
        "    model_id=\"cross-encoder/ms-marco-minilm-l-12-v2\",\n",
        "    url=\"https://us-south.ml.cloud.ibm.com\",\n",
        "    project_id=\"PASTE YOUR PROJECT_ID HERE\",\n",
        ")"
      ]
    },
    {
      "cell_type": "code",
      "execution_count": 23,
      "id": "b83dfedb",
      "metadata": {},
      "outputs": [
        {
          "name": "stdout",
          "output_type": "stream",
          "text": [
            "Document 1:\n",
            "\n",
            "One of the most serious constitutional responsibilities a President has is nominating someone to serve on the United States Supreme Court. \n",
            "\n",
            "And I did that 4 days ago, when I nominated Circuit Court of Appeals Judge Ketanji Brown Jackson. One of our nation’s top legal minds, who will continue Justice Breyer’s legacy of excellence.\n",
            "----------------------------------------------------------------------------------------------------\n",
            "Document 2:\n",
            "\n",
            "As I said last year, especially to our younger transgender Americans, I will always have your back as your President, so you can be yourself and reach your God-given potential. \n",
            "\n",
            "While it often appears that we never agree, that isn’t true. I signed 80 bipartisan bills into law last year. From preventing government shutdowns to protecting Asian-Americans from still-too-common hate crimes to reforming military justice.\n",
            "----------------------------------------------------------------------------------------------------\n",
            "Document 3:\n",
            "\n",
            "To all Americans, I will be honest with you, as I’ve always promised. A Russian dictator, invading a foreign country, has costs around the world. \n",
            "\n",
            "And I’m taking robust action to make sure the pain of our sanctions  is targeted at Russia’s economy. And I will use every tool at our disposal to protect American businesses and consumers. \n",
            "\n",
            "Tonight, I can announce that the United States has worked with 30 other countries to release 60 Million barrels of oil from reserves around the world.\n",
            "----------------------------------------------------------------------------------------------------\n",
            "Document 4:\n",
            "\n",
            "I spoke with their families and told them that we are forever in debt for their sacrifice, and we will carry on their mission to restore the trust and safety every community deserves. \n",
            "\n",
            "I’ve worked on these issues a long time. \n",
            "\n",
            "I know what works: Investing in crime prevention and community police officers who’ll walk the beat, who’ll know the neighborhood, and who can restore trust and safety. \n",
            "\n",
            "So let’s not abandon our streets. Or choose between safety and equal justice.\n",
            "----------------------------------------------------------------------------------------------------\n",
            "Document 5:\n",
            "\n",
            "He met the Ukrainian people. \n",
            "\n",
            "From President Zelenskyy to every Ukrainian, their fearlessness, their courage, their determination, inspires the world. \n",
            "\n",
            "Groups of citizens blocking tanks with their bodies. Everyone from students to retirees teachers turned soldiers defending their homeland. \n",
            "\n",
            "In this struggle as President Zelenskyy said in his speech to the European Parliament “Light will win over darkness.” The Ukrainian Ambassador to the United States is here tonight.\n"
          ]
        }
      ],
      "source": [
        "from langchain.retrievers.contextual_compression import ContextualCompressionRetriever\n",
        "\n",
        "compression_retriever = ContextualCompressionRetriever(\n",
        "    base_compressor=wx_rerank, base_retriever=retriever\n",
        ")\n",
        "\n",
        "compressed_docs = compression_retriever.invoke(\n",
        "    \"What did the president say about Ketanji Jackson Brown\"\n",
        ")\n",
        "pretty_print_docs(compressed_docs[:5])  # Printing the first 5 compressed documents"
      ]
    },
    {
      "cell_type": "markdown",
      "id": "70727c2f",
      "metadata": {},
      "source": [
        "## 在链中使用\n\n当然，你可以在 QA 管道中使用这个检索器。\n\n初始化 `ChatWatsonx`。更多详情请参阅 [ChatWatsonx](/docs/integrations/chat/ibm_watsonx)。"
      ]
    },
    {
      "cell_type": "code",
      "execution_count": null,
      "id": "08d2616a",
      "metadata": {},
      "outputs": [],
      "source": [
        "from langchain_ibm import ChatWatsonx\n",
        "\n",
        "wx_chat = ChatWatsonx(\n",
        "    model_id=\"meta-llama/llama-3-1-70b-instruct\",\n",
        "    url=\"https://us-south.ml.cloud.ibm.com\",\n",
        "    project_id=\"PASTE YOUR PROJECT_ID HERE\",\n",
        ")"
      ]
    },
    {
      "cell_type": "code",
      "execution_count": 19,
      "id": "ae697ca4",
      "metadata": {},
      "outputs": [],
      "source": [
        "from langchain.chains import RetrievalQA\n",
        "\n",
        "chain = RetrievalQA.from_chain_type(llm=wx_chat, retriever=compression_retriever)"
      ]
    },
    {
      "cell_type": "code",
      "execution_count": 20,
      "id": "31f5ca54",
      "metadata": {},
      "outputs": [
        {
          "data": {
            "text/plain": [
              "{'query': 'What did the president say about Ketanji Brown Jackson',\n",
              " 'result': 'The President said that he had nominated Circuit Court of Appeals Judge Ketanji Brown Jackson to serve on the United States Supreme Court, and described her as \"one of our nation\\'s top legal minds\" who will continue Justice Breyer\\'s legacy of excellence.'}"
            ]
          },
          "execution_count": 20,
          "metadata": {},
          "output_type": "execute_result"
        }
      ],
      "source": [
        "chain.invoke(query)"
      ]
    },
    {
      "cell_type": "markdown",
      "id": "a2d2d396",
      "metadata": {},
      "source": [
        "## API 参考\n\n有关 `WatsonxRerank` 所有功能和配置的详细文档，请前往 [API 参考](https://python.langchain.com/api_reference/ibm/chat_models/langchain_ibm.rerank.WatsonxRerank.html)。"
      ]
    }
  ],
  "metadata": {
    "kernelspec": {
      "display_name": "langchain_ibm",
      "language": "python",
      "name": "python3"
    },
    "language_info": {
      "codemirror_mode": {
        "name": "ipython",
        "version": 3
      },
      "file_extension": ".py",
      "mimetype": "text/x-python",
      "name": "python",
      "nbconvert_exporter": "python",
      "pygments_lexer": "ipython3",
      "version": "3.10.14"
    }
  },
  "nbformat": 4,
  "nbformat_minor": 5
}