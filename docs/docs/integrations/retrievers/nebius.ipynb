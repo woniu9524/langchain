{
  "cells": [
    {
      "cell_type": "raw",
      "id": "afaf8039",
      "metadata": {},
      "source": [
        "---\n",
        "sidebar_label: Nebius\n",
        "---"
      ]
    },
    {
      "cell_type": "markdown",
      "id": "2970dd75-8ebf-4b51-8282-9b454b8f356d",
      "metadata": {},
      "source": [
        "# Nebius Retriever\n\n`NebiusRetriever` 可通过 [Nebius AI Studio](https://studio.nebius.ai/) 的 embedding 实现高效的相似性搜索。它利用高质量的 embedding 模型，为您提供文档的语义搜索能力。\n\n此检索器适用于需要在文档集合上执行相似性搜索，但又无需将向量持久化到向量数据库的场景。它通过矩阵运算在内存中执行向量相似性搜索，对于中等规模的文档集合来说非常高效。"
      ]
    },
    {
      "cell_type": "markdown",
      "id": "1c47fc36",
      "metadata": {},
      "source": [
        "## 设置\n\n### 安装\n\n您可以通过 pip 来安装 Nebius 集成："
      ]
    },
    {
      "cell_type": "code",
      "execution_count": null,
      "id": "1ecdb29d",
      "metadata": {},
      "outputs": [],
      "source": [
        "%pip install --upgrade langchain-nebius"
      ]
    },
    {
      "cell_type": "markdown",
      "id": "89883202",
      "metadata": {},
      "source": [
        "### 凭证\n\nNebius 需要一个 API 密钥，该密钥可以通过初始化参数 `api_key` 传递，或者设置为环境变量 `NEBIUS_API_KEY`。您可以通过在 [Nebius AI Studio](https://studio.nebius.ai/) 上创建账户来获取 API 密钥。"
      ]
    },
    {
      "cell_type": "code",
      "execution_count": 11,
      "id": "637bb53f",
      "metadata": {},
      "outputs": [],
      "source": [
        "import getpass\n",
        "import os\n",
        "\n",
        "# Make sure you've set your API key as an environment variable\n",
        "if \"NEBIUS_API_KEY\" not in os.environ:\n",
        "    os.environ[\"NEBIUS_API_KEY\"] = getpass.getpass(\"Enter your Nebius API key: \")"
      ]
    },
    {
      "cell_type": "markdown",
      "id": "8304b4d9",
      "metadata": {},
      "source": [
        "## 实例化\n\n`NebiusRetriever` 需要一个 `NebiusEmbeddings` 实例和文档列表。以下是如何初始化它："
      ]
    },
    {
      "cell_type": "code",
      "execution_count": 12,
      "id": "37e9dc05",
      "metadata": {},
      "outputs": [],
      "source": [
        "from langchain_core.documents import Document\n",
        "from langchain_nebius import NebiusEmbeddings, NebiusRetriever\n",
        "\n",
        "# Create sample documents\n",
        "docs = [\n",
        "    Document(\n",
        "        page_content=\"Paris is the capital of France\", metadata={\"country\": \"France\"}\n",
        "    ),\n",
        "    Document(\n",
        "        page_content=\"Berlin is the capital of Germany\", metadata={\"country\": \"Germany\"}\n",
        "    ),\n",
        "    Document(\n",
        "        page_content=\"Rome is the capital of Italy\", metadata={\"country\": \"Italy\"}\n",
        "    ),\n",
        "    Document(\n",
        "        page_content=\"Madrid is the capital of Spain\", metadata={\"country\": \"Spain\"}\n",
        "    ),\n",
        "    Document(\n",
        "        page_content=\"London is the capital of the United Kingdom\",\n",
        "        metadata={\"country\": \"UK\"},\n",
        "    ),\n",
        "    Document(\n",
        "        page_content=\"Moscow is the capital of Russia\", metadata={\"country\": \"Russia\"}\n",
        "    ),\n",
        "    Document(\n",
        "        page_content=\"Washington DC is the capital of the United States\",\n",
        "        metadata={\"country\": \"USA\"},\n",
        "    ),\n",
        "    Document(\n",
        "        page_content=\"Tokyo is the capital of Japan\", metadata={\"country\": \"Japan\"}\n",
        "    ),\n",
        "    Document(\n",
        "        page_content=\"Beijing is the capital of China\", metadata={\"country\": \"China\"}\n",
        "    ),\n",
        "    Document(\n",
        "        page_content=\"Canberra is the capital of Australia\",\n",
        "        metadata={\"country\": \"Australia\"},\n",
        "    ),\n",
        "]\n",
        "\n",
        "# Initialize embeddings\n",
        "embeddings = NebiusEmbeddings()\n",
        "\n",
        "# Create retriever\n",
        "retriever = NebiusRetriever(\n",
        "    embeddings=embeddings,\n",
        "    docs=docs,\n",
        "    k=3,  # Number of documents to return\n",
        ")"
      ]
    },
    {
      "cell_type": "markdown",
      "id": "f5a731d2",
      "metadata": {},
      "source": [
        "## 用法\n\n### 检索相关文档\n\n您可以使用检索器根据查询查找相关文档："
      ]
    },
    {
      "cell_type": "code",
      "execution_count": 13,
      "id": "3ed26f78",
      "metadata": {},
      "outputs": [
        {
          "name": "stdout",
          "output_type": "stream",
          "text": [
            "Query: What are some capitals in Europe?\n",
            "Top 3 results:\n",
            "1. Paris is the capital of France (Country: France)\n",
            "2. Berlin is the capital of Germany (Country: Germany)\n",
            "3. Rome is the capital of Italy (Country: Italy)\n"
          ]
        }
      ],
      "source": [
        "# Query for European capitals\n",
        "query = \"What are some capitals in Europe?\"\n",
        "results = retriever.invoke(query)\n",
        "\n",
        "print(f\"Query: {query}\")\n",
        "print(f\"Top {len(results)} results:\")\n",
        "for i, doc in enumerate(results):\n",
        "    print(f\"{i+1}. {doc.page_content} (Country: {doc.metadata['country']})\")"
      ]
    },
    {
      "cell_type": "markdown",
      "id": "72f31d5a",
      "metadata": {},
      "source": [
        "### 使用 `get_relevant_documents`\n\n你也可以直接使用 `get_relevant_documents` 方法（尽管 `invoke` 是首选接口）："
      ]
    },
    {
      "cell_type": "code",
      "execution_count": 14,
      "id": "e7b7170d",
      "metadata": {},
      "outputs": [
        {
          "name": "stdout",
          "output_type": "stream",
          "text": [
            "Query: What are the capitals in Asia?\n",
            "Top 3 results:\n",
            "1. Beijing is the capital of China (Country: China)\n",
            "2. Tokyo is the capital of Japan (Country: Japan)\n",
            "3. Canberra is the capital of Australia (Country: Australia)\n"
          ]
        }
      ],
      "source": [
        "# Query for Asian countries\n",
        "query = \"What are the capitals in Asia?\"\n",
        "results = retriever.get_relevant_documents(query)\n",
        "\n",
        "print(f\"Query: {query}\")\n",
        "print(f\"Top {len(results)} results:\")\n",
        "for i, doc in enumerate(results):\n",
        "    print(f\"{i+1}. {doc.page_content} (Country: {doc.metadata['country']})\")"
      ]
    },
    {
      "cell_type": "markdown",
      "id": "8d6a31c2",
      "metadata": {},
      "source": [
        "### 自定义结果数量\n\n您可以通过传递 `k` 作为参数，在查询时调整结果的数量："
      ]
    },
    {
      "cell_type": "code",
      "execution_count": 15,
      "id": "5d81af33",
      "metadata": {},
      "outputs": [
        {
          "name": "stdout",
          "output_type": "stream",
          "text": [
            "Query: Where is France?\n",
            "Top 1 result:\n",
            "1. Paris is the capital of France (Country: France)\n"
          ]
        }
      ],
      "source": [
        "# Query for a specific country, with custom k\n",
        "query = \"Where is France?\"\n",
        "results = retriever.invoke(query, k=1)  # Override default k\n",
        "\n",
        "print(f\"Query: {query}\")\n",
        "print(f\"Top {len(results)} result:\")\n",
        "for i, doc in enumerate(results):\n",
        "    print(f\"{i+1}. {doc.page_content} (Country: {doc.metadata['country']})\")"
      ]
    },
    {
      "cell_type": "markdown",
      "id": "3e8a40f1",
      "metadata": {},
      "source": [
        "### 异步支持\n\nNebiusRetriever 支持异步操作："
      ]
    },
    {
      "cell_type": "code",
      "execution_count": 16,
      "id": "8fc36122",
      "metadata": {},
      "outputs": [
        {
          "name": "stdout",
          "output_type": "stream",
          "text": [
            "Async query: What are some capital cities?\n",
            "Top 3 results:\n",
            "1. Washington DC is the capital of the United States (Country: USA)\n",
            "2. Canberra is the capital of Australia (Country: Australia)\n",
            "3. Paris is the capital of France (Country: France)\n"
          ]
        }
      ],
      "source": [
        "import asyncio\n",
        "\n",
        "\n",
        "async def retrieve_async():\n",
        "    query = \"What are some capital cities?\"\n",
        "    results = await retriever.ainvoke(query)\n",
        "\n",
        "    print(f\"Async query: {query}\")\n",
        "    print(f\"Top {len(results)} results:\")\n",
        "    for i, doc in enumerate(results):\n",
        "        print(f\"{i+1}. {doc.page_content} (Country: {doc.metadata['country']})\")\n",
        "\n",
        "\n",
        "await retrieve_async()"
      ]
    },
    {
      "cell_type": "markdown",
      "id": "d5bc71e5",
      "metadata": {},
      "source": [
        "### 处理空文档"
      ]
    },
    {
      "cell_type": "code",
      "execution_count": 17,
      "id": "123da4fb",
      "metadata": {},
      "outputs": [
        {
          "name": "stdout",
          "output_type": "stream",
          "text": [
            "Number of results: 0\n"
          ]
        }
      ],
      "source": [
        "# Create a retriever with empty documents\n",
        "empty_retriever = NebiusRetriever(\n",
        "    embeddings=embeddings,\n",
        "    docs=[],\n",
        "    k=2,  # Empty document list\n",
        ")\n",
        "\n",
        "# Test the retriever with empty docs\n",
        "results = empty_retriever.invoke(\"What are the capitals of European countries?\")\n",
        "print(f\"Number of results: {len(results)}\")"
      ]
    },
    {
      "cell_type": "markdown",
      "id": "9db2f342",
      "metadata": {},
      "source": [
        "## 在链中使用\n\nNebiusRetriever 在 LangChain RAG 管道中无缝工作。以下是一个使用 NebiusRetriever 创建简单 RAG 链的示例："
      ]
    },
    {
      "cell_type": "code",
      "execution_count": 18,
      "id": "e1e8c9f2",
      "metadata": {},
      "outputs": [
        {
          "name": "stdout",
          "output_type": "stream",
          "text": [
            "Based on the context provided, three European capitals are:\n",
            "\n",
            "1. Paris\n",
            "2. Berlin\n",
            "3. Rome\n"
          ]
        }
      ],
      "source": [
        "from langchain_core.output_parsers import StrOutputParser\n",
        "from langchain_core.prompts import ChatPromptTemplate\n",
        "from langchain_core.runnables import RunnablePassthrough\n",
        "from langchain_nebius import ChatNebius\n",
        "\n",
        "# Initialize LLM\n",
        "llm = ChatNebius(model=\"meta-llama/Llama-3.3-70B-Instruct-fast\")\n",
        "\n",
        "# Create a prompt template\n",
        "prompt = ChatPromptTemplate.from_template(\n",
        "    \"\"\"\n",
        "Answer the question based only on the following context:\n",
        "\n",
        "Context:\n",
        "{context}\n",
        "\n",
        "Question: {question}\n",
        "\"\"\"\n",
        ")\n",
        "\n",
        "\n",
        "# Format documents function\n",
        "def format_docs(docs):\n",
        "    return \"\\n\\n\".join(doc.page_content for doc in docs)\n",
        "\n",
        "\n",
        "# Create RAG chain\n",
        "rag_chain = (\n",
        "    {\"context\": retriever | format_docs, \"question\": RunnablePassthrough()}\n",
        "    | prompt\n",
        "    | llm\n",
        "    | StrOutputParser()\n",
        ")\n",
        "\n",
        "# Run the chain\n",
        "answer = rag_chain.invoke(\"What are three European capitals?\")\n",
        "print(answer)"
      ]
    },
    {
      "cell_type": "markdown",
      "id": "b3a6f2c4",
      "metadata": {},
      "source": [
        "### 创建搜索工具\n\n您可以使用 `NebiusRetrievalTool` 为 agent 创建一个工具："
      ]
    },
    {
      "cell_type": "code",
      "execution_count": 19,
      "id": "784d53c4",
      "metadata": {},
      "outputs": [
        {
          "name": "stdout",
          "output_type": "stream",
          "text": [
            "Tool results:\n",
            "Document 1:\n",
            "Paris is the capital of France\n",
            "\n",
            "Document 2:\n",
            "Berlin is the capital of Germany\n",
            "\n",
            "Document 3:\n",
            "Rome is the capital of Italy\n",
            "\n"
          ]
        }
      ],
      "source": [
        "from langchain_nebius import NebiusRetrievalTool\n",
        "\n",
        "# Create a retrieval tool\n",
        "tool = NebiusRetrievalTool(\n",
        "    retriever=retriever,\n",
        "    name=\"capital_search\",\n",
        "    description=\"Search for information about capital cities around the world\",\n",
        ")\n",
        "\n",
        "# Use the tool\n",
        "result = tool.invoke({\"query\": \"capitals in Europe\", \"k\": 3})\n",
        "print(\"Tool results:\")\n",
        "print(result)"
      ]
    },
    {
      "cell_type": "markdown",
      "id": "5a4a3453",
      "metadata": {},
      "source": [
        "## 工作原理\n\nNebiusRetriever 的工作流程如下：\n\n1. 初始化时：\n   - 存储提供的文档\n   - 使用提供的 NebiusEmbeddings 计算所有文档的 embedding\n   - 将这些 embedding 存储在内存中以便快速检索\n\n2. 检索时（`invoke` 或 `get_relevant_documents`）：\n   - 使用相同的 embedding 模型对查询进行 embedding\n   - 计算查询 embedding 与所有文档 embedding 之间的相似度分数\n   - 根据相似度返回 top-k 个文档\n\n这种方法对于中等规模的文档集合非常有效，因为它避免了单独使用向量数据库的需要，同时仍能提供高质量的语义搜索。"
      ]
    },
    {
      "cell_type": "markdown",
      "id": "f7a35f40",
      "metadata": {},
      "source": [
        "## API 参考\n\n有关 Nebius AI Studio API 的更多详细信息，请访问 [Nebius AI Studio 文档](https://studio.nebius.com/api-reference)。"
      ]
    },
    {
      "cell_type": "markdown",
      "id": "96439983",
      "metadata": {},
      "source": []
    }
  ],
  "metadata": {
    "kernelspec": {
      "display_name": ".venv",
      "language": "python",
      "name": "python3"
    },
    "language_info": {
      "codemirror_mode": {
        "name": "ipython",
        "version": 3
      },
      "file_extension": ".py",
      "mimetype": "text/x-python",
      "name": "python",
      "nbconvert_exporter": "python",
      "pygments_lexer": "ipython3",
      "version": "3.12.8"
    }
  },
  "nbformat": 4,
  "nbformat_minor": 5
}