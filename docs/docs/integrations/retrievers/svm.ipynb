{
  "cells": [
    {
      "cell_type": "markdown",
      "id": "ab66dd43",
      "metadata": {},
      "source": [
        "# SVM\n\n>[支持向量机 (SVMs)](https://scikit-learn.org/stable/modules/svm.html#support-vector-machines) 是一组用于分类、回归和异常值检测的监督学习方法。\n\n本笔记本将介绍如何使用一个底层使用 `scikit-learn` 包中的 `SVM` 的检索器。\n\n很大程度上基于 https://github.com/karpathy/randomfun/blob/master/knn_vs_svm.html"
      ]
    },
    {
      "cell_type": "code",
      "execution_count": null,
      "id": "a801b57c",
      "metadata": {
        "tags": []
      },
      "outputs": [],
      "source": [
        "%pip install --upgrade --quiet  scikit-learn"
      ]
    },
    {
      "cell_type": "code",
      "execution_count": null,
      "id": "05b33419-fd3e-49c6-bae3-f20195d09c0c",
      "metadata": {
        "tags": []
      },
      "outputs": [],
      "source": [
        "%pip install --upgrade --quiet  lark"
      ]
    },
    {
      "cell_type": "markdown",
      "id": "cc5e2d59-9510-40b2-a810-74af28e5a5e8",
      "metadata": {
        "tags": []
      },
      "source": [
        "我们想使用 `OpenAIEmbeddings`，所以我们需要获取 OpenAI API 密钥。"
      ]
    },
    {
      "cell_type": "code",
      "execution_count": 4,
      "id": "f9936d67-0471-4a82-954b-033c46ddb303",
      "metadata": {
        "tags": []
      },
      "outputs": [
        {
          "name": "stdin",
          "output_type": "stream",
          "text": [
            "OpenAI API Key: ········\n"
          ]
        }
      ],
      "source": [
        "import getpass\n",
        "import os\n",
        "\n",
        "if \"OPENAI_API_KEY\" not in os.environ:\n",
        "    os.environ[\"OPENAI_API_KEY\"] = getpass.getpass(\"OpenAI API Key:\")"
      ]
    },
    {
      "cell_type": "code",
      "execution_count": 5,
      "id": "393ac030",
      "metadata": {
        "tags": []
      },
      "outputs": [],
      "source": [
        "from langchain_community.retrievers import SVMRetriever\n",
        "from langchain_openai import OpenAIEmbeddings"
      ]
    },
    {
      "cell_type": "markdown",
      "id": "aaf80e7f",
      "metadata": {},
      "source": [
        "## 使用文本创建新的检索器"
      ]
    },
    {
      "cell_type": "code",
      "execution_count": 6,
      "id": "98b1c017",
      "metadata": {
        "tags": []
      },
      "outputs": [],
      "source": [
        "retriever = SVMRetriever.from_texts(\n",
        "    [\"foo\", \"bar\", \"world\", \"hello\", \"foo bar\"], OpenAIEmbeddings()\n",
        ")"
      ]
    },
    {
      "cell_type": "markdown",
      "id": "08437fa2",
      "metadata": {},
      "source": [
        "## 使用检索器\n\n现在我们可以使用检索器了！"
      ]
    },
    {
      "cell_type": "code",
      "execution_count": 9,
      "id": "c0455218",
      "metadata": {
        "tags": []
      },
      "outputs": [],
      "source": [
        "result = retriever.invoke(\"foo\")"
      ]
    },
    {
      "cell_type": "code",
      "execution_count": 10,
      "id": "7dfa5c29",
      "metadata": {
        "tags": []
      },
      "outputs": [
        {
          "data": {
            "text/plain": [
              "[Document(page_content='foo', metadata={}),\n",
              " Document(page_content='foo bar', metadata={}),\n",
              " Document(page_content='hello', metadata={}),\n",
              " Document(page_content='world', metadata={})]"
            ]
          },
          "execution_count": 10,
          "metadata": {},
          "output_type": "execute_result"
        }
      ],
      "source": [
        "result"
      ]
    },
    {
      "cell_type": "code",
      "execution_count": null,
      "id": "74bd9256",
      "metadata": {},
      "outputs": [],
      "source": []
    }
  ],
  "metadata": {
    "kernelspec": {
      "display_name": "Python 3 (ipykernel)",
      "language": "python",
      "name": "python3"
    },
    "language_info": {
      "codemirror_mode": {
        "name": "ipython",
        "version": 3
      },
      "file_extension": ".py",
      "mimetype": "text/x-python",
      "name": "python",
      "nbconvert_exporter": "python",
      "pygments_lexer": "ipython3",
      "version": "3.10.12"
    }
  },
  "nbformat": 4,
  "nbformat_minor": 5
}