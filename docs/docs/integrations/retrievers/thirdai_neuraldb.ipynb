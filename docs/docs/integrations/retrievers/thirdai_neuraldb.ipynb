{
  "cells": [
    {
      "cell_type": "markdown",
      "metadata": {},
      "source": [
        "# **NeuralDB**\nNeuralDB 是 ThirdAI 开发的一款对 CPU 友好且可微调的检索引擎。\n\n### **初始化**\n有两种初始化方法：\n- 从零开始：基础模型\n- 从Checkpoint：加载先前保存的模型\n\n对于以下所有初始化方法，如果设置了 `THIRDAI_KEY` 环境变量，则可以省略 `thirdai_key` 参数。\n\nThirdAI API 密钥可在 https://www.thirdai.com/try-bolt/ 获取"
      ]
    },
    {
      "cell_type": "code",
      "execution_count": null,
      "metadata": {},
      "outputs": [],
      "source": [
        "from langchain_community.retrievers import NeuralDBRetriever\n",
        "\n",
        "# From scratch\n",
        "retriever = NeuralDBRetriever.from_scratch(thirdai_key=\"your-thirdai-key\")\n",
        "\n",
        "# From checkpoint\n",
        "retriever = NeuralDBRetriever.from_checkpoint(\n",
        "    # Path to a NeuralDB checkpoint. For example, if you call\n",
        "    # retriever.save(\"/path/to/checkpoint.ndb\") in one script, then you can\n",
        "    # call NeuralDBRetriever.from_checkpoint(\"/path/to/checkpoint.ndb\") in\n",
        "    # another script to load the saved model.\n",
        "    checkpoint=\"/path/to/checkpoint.ndb\",\n",
        "    thirdai_key=\"your-thirdai-key\",\n",
        ")"
      ]
    },
    {
      "cell_type": "markdown",
      "metadata": {},
      "source": [
        "### **插入文档源**"
      ]
    },
    {
      "cell_type": "code",
      "execution_count": null,
      "metadata": {},
      "outputs": [],
      "source": [
        "retriever.insert(\n",
        "    # If you have PDF, DOCX, or CSV files, you can directly pass the paths to the documents\n",
        "    sources=[\"/path/to/doc.pdf\", \"/path/to/doc.docx\", \"/path/to/doc.csv\"],\n",
        "    # When True this means that the underlying model in the NeuralDB will\n",
        "    # undergo unsupervised pretraining on the inserted files. Defaults to True.\n",
        "    train=True,\n",
        "    # Much faster insertion with a slight drop in performance. Defaults to True.\n",
        "    fast_mode=True,\n",
        ")\n",
        "\n",
        "from thirdai import neural_db as ndb\n",
        "\n",
        "retriever.insert(\n",
        "    # If you have files in other formats, or prefer to configure how\n",
        "    # your files are parsed, then you can pass in NeuralDB document objects\n",
        "    # like this.\n",
        "    sources=[\n",
        "        ndb.PDF(\n",
        "            \"/path/to/doc.pdf\",\n",
        "            version=\"v2\",\n",
        "            chunk_size=100,\n",
        "            metadata={\"published\": 2022},\n",
        "        ),\n",
        "        ndb.Unstructured(\"/path/to/deck.pptx\"),\n",
        "    ]\n",
        ")"
      ]
    },
    {
      "cell_type": "markdown",
      "metadata": {},
      "source": [
        "### **检索文档**\n要查询检索器，您可以使用标准的 LangChain 检索器方法 `get_relevant_documents`，它会返回一个 LangChain Document 对象列表。每个文档对象代表索引文件中一段文本。例如，它可能包含索引的 PDF 文件中的一个段落。除了文本之外，文档的元数据字段还包含文档 ID、文档来源（来自哪个文件）以及文档分数等信息。"
      ]
    },
    {
      "cell_type": "code",
      "execution_count": null,
      "metadata": {},
      "outputs": [],
      "source": [
        "# This returns a list of LangChain Document objects\n",
        "documents = retriever.invoke(\"query\", top_k=10)"
      ]
    },
    {
      "cell_type": "markdown",
      "metadata": {},
      "source": [
        "### **微调**\nNeuralDBRetriever 可以根据用户行为和领域特定知识进行微调。可以通过两种方式进行微调：\n1. 关联：检索器将源短语与目标短语关联起来。当检索器看到源短语时，它还会考虑与目标短语相关的结果。\n2. 点赞：检索器会提高特定查询文档的分数。当您想根据用户行为微调检索器时，此功能非常有用。例如，如果用户搜索“汽车是如何制造的”并且喜欢返回的 id 为 52 的文档，那么我们可以为查询“汽车是如何制造的”点赞 id 为 52 的文档。"
      ]
    },
    {
      "cell_type": "code",
      "execution_count": null,
      "metadata": {},
      "outputs": [],
      "source": [
        "retriever.associate(source=\"source phrase\", target=\"target phrase\")\n",
        "retriever.associate_batch(\n",
        "    [\n",
        "        (\"source phrase 1\", \"target phrase 1\"),\n",
        "        (\"source phrase 2\", \"target phrase 2\"),\n",
        "    ]\n",
        ")\n",
        "\n",
        "retriever.upvote(query=\"how is a car manufactured\", document_id=52)\n",
        "retriever.upvote_batch(\n",
        "    [\n",
        "        (\"query 1\", 52),\n",
        "        (\"query 2\", 20),\n",
        "    ]\n",
        ")"
      ]
    }
  ],
  "metadata": {
    "kernelspec": {
      "display_name": "langchain",
      "language": "python",
      "name": "python3"
    },
    "language_info": {
      "name": "python",
      "version": "3.10.0"
    }
  },
  "nbformat": 4,
  "nbformat_minor": 2
}