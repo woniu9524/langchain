{
  "cells": [
    {
      "cell_type": "markdown",
      "id": "e6e1e5d5",
      "metadata": {
        "id": "e6e1e5d5"
      },
      "source": [
        "# Dappier\n\n[Dappier](https://dappier.com) 将任何 LLM 或您的 Agentic AI 连接到来自可信来源的实时、已获授权的专有数据，使您的 AI 在任何领域都成为专家。我们的专业模型包括实时网络搜索、新闻、体育、金融股市数据、加密货币数据以及来自优质出版商的独家内容。请在我们的 marketplace.dappier.com 市场探索各种数据模型。\n\n[Dappier](https://dappier.com) 提供经过优化、易于集成到 LangChain 的丰富、即时响应且具有情境相关性的数据字符串。无论您是构建会话式 AI、推荐引擎还是智能搜索，Dappier 的 LLM-agnostic RAG 模型都能确保您的 AI 访问经过验证的最新数据——无需您自行构建和管理检索流程的复杂性。"
      ]
    },
    {
      "cell_type": "markdown",
      "id": "e49f1e0d",
      "metadata": {
        "id": "e49f1e0d"
      },
      "source": [
        "# DappierRetriever\n\n这将帮助您开始使用 Dappier 的 [retriever](https://python.langchain.com/docs/concepts/retrievers/)。有关 DappierRetriever 所有功能和配置的详细文档，请访问 [API 参考](https://python.langchain.com/en/latest/retrievers/langchain_dappier.retrievers.Dappier.DappierRetriever.html)。\n\n### 设置\n\n安装 ``langchain-dappier`` 并设置环境变量 ``DAPPIER_API_KEY``。\n\n```bash\npip install -U langchain-dappier\nexport DAPPIER_API_KEY=\"your-api-key\"\n```\n\n我们还需要设置 Dappier API 凭据，这些凭据可以在 [Dappier 网站](https://platform.dappier.com/profile/api-keys) 上生成。\n\n我们可以在 [Dappier 市场](https://platform.dappier.com/marketplace) 上查找支持的数据模型。"
      ]
    },
    {
      "cell_type": "markdown",
      "id": "72ee0c4b-9764-423a-9dbf-95129e185210",
      "metadata": {
        "id": "72ee0c4b-9764-423a-9dbf-95129e185210"
      },
      "source": [
        "如果您想从单个查询中获取自动化跟踪，您还可以通过取消注释以下内容来设置您的 [LangSmith](https://docs.smith.langchain.com/) API 密钥："
      ]
    },
    {
      "cell_type": "code",
      "execution_count": null,
      "id": "a15d341e-3e26-4ca3-830b-5aab30ed66de",
      "metadata": {
        "id": "a15d341e-3e26-4ca3-830b-5aab30ed66de"
      },
      "outputs": [],
      "source": [
        "# os.environ[\"LANGSMITH_API_KEY\"] = getpass.getpass(\"Enter your LangSmith API key: \")\n",
        "# os.environ[\"LANGSMITH_TRACING\"] = \"true\""
      ]
    },
    {
      "cell_type": "markdown",
      "id": "0730d6a1-c893-4840-9817-5e5251676d5d",
      "metadata": {
        "id": "0730d6a1-c893-4840-9817-5e5251676d5d"
      },
      "source": [
        "### 安装\n\n此检索器位于 `langchain-dappier` 包中："
      ]
    },
    {
      "cell_type": "code",
      "execution_count": null,
      "id": "652d6238-1f87-422a-b135-f5abbb8652fc",
      "metadata": {
        "colab": {
          "base_uri": "https://localhost:8080/"
        },
        "id": "652d6238-1f87-422a-b135-f5abbb8652fc",
        "outputId": "d1bb87dd-860d-4255-d5a8-b3f42da1d76e"
      },
      "outputs": [],
      "source": [
        "%pip install -qU langchain-dappier"
      ]
    },
    {
      "cell_type": "markdown",
      "id": "a38cde65-254d-4219-a441-068766c0d4b5",
      "metadata": {
        "id": "a38cde65-254d-4219-a441-068766c0d4b5"
      },
      "source": [
        "## 实例化\n\n- data_model_id: str\n    数据模型 ID，以 `dm_` 开头。\n    您可以在此处找到可用的数据模型 ID：\n    [Dappier 市场。](https://platform.dappier.com/marketplace)\n- k: int\n    要返回的文档数量。\n- ref: Optional[str]\n    显示 AI 推荐的网站域名。\n- num_articles_ref: int\n    指定的 `ref` 域名文章的最小数量。\n    其余文章将来自 RAG 模型中的其他网站。\n- search_algorithm: Literal[\n    \"most_recent\",\n    \"most_recent_semantic\",\n    \"semantic\",\n    \"trending\"\n]\n    用于检索文章的搜索算法。\n- api_key: Optional[str]\n    用于与 Dappier API 交互的 API 密钥。"
      ]
    },
    {
      "cell_type": "code",
      "execution_count": 2,
      "id": "70cc8e65-2a02-408a-bbc6-8ef649057d82",
      "metadata": {
        "id": "70cc8e65-2a02-408a-bbc6-8ef649057d82"
      },
      "outputs": [],
      "source": [
        "from langchain_dappier import DappierRetriever\n",
        "\n",
        "retriever = DappierRetriever(data_model_id=\"dm_01jagy9nqaeer9hxx8z1sk1jx6\")"
      ]
    },
    {
      "cell_type": "markdown",
      "id": "5c5f2839-4020-424e-9fc9-07777eede442",
      "metadata": {
        "id": "5c5f2839-4020-424e-9fc9-07777eede442"
      },
      "source": [
        "## 用法"
      ]
    },
    {
      "cell_type": "code",
      "execution_count": 3,
      "id": "51a60dbe-9f2e-4e04-bb62-23968f17164a",
      "metadata": {
        "colab": {
          "base_uri": "https://localhost:8080/"
        },
        "id": "51a60dbe-9f2e-4e04-bb62-23968f17164a",
        "outputId": "f85bcf8e-4b51-4f82-8e48-582a9643fa0a"
      },
      "outputs": [
        {
          "data": {
            "text/plain": [
              "[Document(metadata={'title': 'Man shot and killed on Wells Street near downtown Fort Wayne', 'author': 'Gregg Montgomery', 'source_url': 'https://www.wishtv.com/news/indiana-news/man-shot-dies-fort-wayne-december-25-2024/', 'image_url': 'https://images.dappier.com/dm_01jagy9nqaeer9hxx8z1sk1jx6/fort-wayne-police-department-vehicle-via-Flickr_.jpg?width=428&height=321', 'pubdata': 'Thu, 26 Dec 2024 01:00:33 +0000'}, page_content='A man was shot and killed on December 25, 2024, in Fort Wayne, Indiana, near West Fourth and Wells streets. Police arrived shortly after 6:30 p.m. following reports of gunfire and found the victim in the 1600 block of Wells Street, where he was pronounced dead. The area features a mix of businesses, including a daycare and restaurants.\\n\\nAs of the latest updates, police have not provided details on the safety of the area, potential suspects, or the motive for the shooting. Authorities are encouraging anyone with information to reach out to the Fort Wayne Police Department or Crime Stoppers.'),\n",
              " Document(metadata={'title': 'House cat dies from bird flu in pet food, prompting recall', 'author': 'Associated Press', 'source_url': 'https://www.wishtv.com/news/business/house-cat-bird-flu-pet-food-recall/', 'image_url': 'https://images.dappier.com/dm_01jagy9nqaeer9hxx8z1sk1jx6/BACKGROUND-Northwest-Naturals-cat-food_.jpg?width=428&height=321', 'pubdata': 'Wed, 25 Dec 2024 23:12:41 +0000'}, page_content='An Oregon house cat has died after eating pet food contaminated with the H5N1 bird flu virus, prompting a nationwide recall of Northwest Naturals\\' 2-pound Feline Turkey Recipe raw frozen pet food. The Oregon Department of Agriculture confirmed that the strictly indoor cat contracted the virus solely from the food, which has \"best if used by\" dates of May 21, 2026, and June 23, 2026. \\n\\nThe affected product was distributed across several states, including Arizona, California, and Florida, as well as British Columbia, Canada. Consumers are urged to dispose of the recalled food and seek refunds. This incident raises concerns about the spread of bird flu and its potential impact on domestic animals, particularly as California has declared a state of emergency due to the outbreak affecting various bird species.'),\n",
              " Document(metadata={'title': '20 big cats die from bird flu at Washington sanctuary', 'author': 'Nic F. Anderson, CNN', 'source_url': 'https://www.wishtv.com/news/national/bird-flu-outbreak-wild-felid-center-2024/', 'image_url': 'https://images.dappier.com/dm_01jagy9nqaeer9hxx8z1sk1jx6/BACKGROUND-Amur-Bengal-tiger-at-Wild-Felid-Advocacy-Center-of-Washington-FB-post_.jpg?width=428&height=321', 'pubdata': 'Wed, 25 Dec 2024 23:04:34 +0000'}, page_content='The Wild Felid Advocacy Center in Washington state has experienced a devastating bird flu outbreak, resulting in the deaths of 20 big cats, over half of its population. The first death was reported around Thanksgiving, affecting various species, including cougars and a tiger mix. The sanctuary is currently under quarantine, closed to the public, and working with animal health officials to disinfect enclosures and implement prevention strategies.\\n\\nAs the situation unfolds, the Washington Department of Fish and Wildlife has noted an increase in bird flu cases statewide, including infections in cougars. While human infections from bird flu through contact with mammals are rare, the CDC acknowledges the potential risk. The sanctuary hopes to reopen in the new year, focusing on the recovery of the remaining animals and taking measures to prevent further outbreaks, marking an unprecedented challenge in its 20-year history.')]"
            ]
          },
          "execution_count": 3,
          "metadata": {},
          "output_type": "execute_result"
        }
      ],
      "source": [
        "query = \"latest tech news\"\n",
        "\n",
        "retriever.invoke(query)"
      ]
    },
    {
      "cell_type": "markdown",
      "id": "dfe8aad4-8626-4330-98a9-7ea1ca5d2e0e",
      "metadata": {
        "id": "dfe8aad4-8626-4330-98a9-7ea1ca5d2e0e"
      },
      "source": [
        "## 在链中使用\n\n与其它检索器一样，DappierRetriever 可以通过 [链](/docs/how_to/sequence/) 被整合到 LLM 应用中。\n\n我们需要一个 LLM 或聊天模型："
      ]
    },
    {
      "cell_type": "code",
      "execution_count": 6,
      "id": "25b647a3-f8f2-4541-a289-7a241e43f9df",
      "metadata": {
        "id": "25b647a3-f8f2-4541-a289-7a241e43f9df"
      },
      "outputs": [],
      "source": [
        "from langchain_openai import ChatOpenAI\n",
        "\n",
        "llm = ChatOpenAI(model=\"gpt-3.5-turbo-0125\", temperature=0)"
      ]
    },
    {
      "cell_type": "code",
      "execution_count": 7,
      "id": "23e11cc9-abd6-4855-a7eb-799f45ca01ae",
      "metadata": {
        "id": "23e11cc9-abd6-4855-a7eb-799f45ca01ae"
      },
      "outputs": [],
      "source": [
        "from langchain_core.output_parsers import StrOutputParser\n",
        "from langchain_core.prompts import ChatPromptTemplate\n",
        "from langchain_core.runnables import RunnablePassthrough\n",
        "\n",
        "prompt = ChatPromptTemplate.from_template(\n",
        "    \"\"\"Answer the question based only on the context provided.\n",
        "\n",
        "Context: {context}\n",
        "\n",
        "Question: {question}\"\"\"\n",
        ")\n",
        "\n",
        "\n",
        "def format_docs(docs):\n",
        "    return \"\\n\\n\".join(doc.page_content for doc in docs)\n",
        "\n",
        "\n",
        "chain = (\n",
        "    {\"context\": retriever | format_docs, \"question\": RunnablePassthrough()}\n",
        "    | prompt\n",
        "    | llm\n",
        "    | StrOutputParser()\n",
        ")"
      ]
    },
    {
      "cell_type": "code",
      "execution_count": 8,
      "id": "d47c37dd-5c11-416c-a3b6-bec413cd70e8",
      "metadata": {
        "colab": {
          "base_uri": "https://localhost:8080/",
          "height": 143
        },
        "id": "d47c37dd-5c11-416c-a3b6-bec413cd70e8",
        "outputId": "f23f18a9-d138-4684-cb5b-b92e0895b5f2"
      },
      "outputs": [
        {
          "data": {
            "application/vnd.google.colaboratory.intrinsic+json": {
              "type": "string"
            },
            "text/plain": [
              "\"The key highlights and outcomes from the latest events covered in the article include:\\n\\n1. An Israeli airstrike in Gaza killed five journalists from Al-Quds Today Television, leading to condemnation from their outlet and raising concerns about violence against media professionals in the region.\\n2. The Committee to Protect Journalists reported that since October 7, 2023, at least 141 journalists have been killed in the region, marking the deadliest period for journalists since 1992, with the majority being Palestinians in Gaza.\\n3. A man was shot and killed in Fort Wayne, Indiana, with police not providing details on suspects, motive, or the safety of the area.\\n4. An Oregon house cat died after eating pet food contaminated with the H5N1 bird flu virus, leading to a nationwide recall of Northwest Naturals' Feline Turkey Recipe raw frozen pet food and raising concerns about the spread of bird flu among domestic animals.\""
            ]
          },
          "execution_count": 8,
          "metadata": {},
          "output_type": "execute_result"
        }
      ],
      "source": [
        "chain.invoke(\n",
        "    \"What are the key highlights and outcomes from the latest events covered in the article?\"\n",
        ")"
      ]
    },
    {
      "cell_type": "markdown",
      "id": "3a5bb5ca-c3ae-4a58-be67-2cd18574b9a3",
      "metadata": {
        "id": "3a5bb5ca-c3ae-4a58-be67-2cd18574b9a3"
      },
      "source": [
        "## API 参考\n\n有关 DappierRetriever 所有功能和配置的详细文档，请前往 [API 参考](https://python.langchain.com/en/latest/retrievers/langchain_dappier.retrievers.Dappier.DappierRetriever.html)。"
      ]
    }
  ],
  "metadata": {
    "colab": {
      "provenance": []
    },
    "kernelspec": {
      "display_name": "Python 3 (ipykernel)",
      "language": "python",
      "name": "python3"
    },
    "language_info": {
      "codemirror_mode": {
        "name": "ipython",
        "version": 3
      },
      "file_extension": ".py",
      "mimetype": "text/x-python",
      "name": "python",
      "nbconvert_exporter": "python",
      "pygments_lexer": "ipython3",
      "version": "3.12.6"
    }
  },
  "nbformat": 4,
  "nbformat_minor": 5
}