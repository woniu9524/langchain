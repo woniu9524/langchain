{
  "cells": [
    {
      "cell_type": "markdown",
      "id": "b0ed136e-6983-4893-ae1b-b75753af05f8",
      "metadata": {},
      "source": [
        "# Google云端硬盘\n\n本笔记本介绍如何从 `Google Drive` 中检索文档。\n\n## 先决条件\n\n1. 创建一个 Google Cloud 项目或使用现有项目\n1. 启用 [Google Drive API](https://console.cloud.google.com/flows/enableapi?apiid=drive.googleapis.com)\n1. [授权桌面应用的凭据](https://developers.google.com/drive/api/quickstart/python#authorize_credentials_for_a_desktop_application)\n1. `pip install --upgrade google-api-python-client google-auth-httplib2 google-auth-oauthlib`\n\n## 检索 Google 文档\n\n默认情况下，`GoogleDriveRetriever` 期望 `credentials.json` 文件位于 `~/.credentials/credentials.json`，但这可以通过 `GOOGLE_ACCOUNT_FILE` 环境变量进行配置。\n`token.json` 的位置使用相同的目录（或使用参数 `token_path`）。请注意，`token.json` 将在您首次使用检索器时自动创建。\n\n`GoogleDriveRetriever` 可以检索一些选定的文件。\n\n默认情况下，如果您使用 `folder_id`，此文件夹中的所有文件都可以检索到 `Document`。"
      ]
    },
    {
      "cell_type": "markdown",
      "id": "35b94a93-97de-4af8-9cca-de9ffb7930c3",
      "metadata": {},
      "source": [
        "您可以从 URL 获取您的文件夹和文档 ID：\n\n* 文件夹：https://drive.google.com/drive/u/0/folders/1yucgL9WGgWZdM1TOuKkeghlPizuzMYb5 -> 文件夹 ID 是 `\"1yucgL9WGgWZdM1TOuKkeghlPizuzMYb5\"`\n* 文档：https://docs.google.com/document/d/1bfaMQ18_i56204VaQDVeAFpqEijJTgvurupdEDiaUQw/edit -> 文档 ID 是 `\"1bfaMQ18_i56204VaQDVeAFpqEijJTgvurupdEDiaUQw\"`\n\n特殊值 `root` 用于您的个人主页。"
      ]
    },
    {
      "cell_type": "code",
      "execution_count": null,
      "id": "2216c83f-68e4-4d2f-8ea2-5878fb18bbe7",
      "metadata": {
        "ExecuteTime": {
          "end_time": "2023-05-09T10:45:59.795842403Z",
          "start_time": "2023-05-09T10:45:59.445262457Z"
        },
        "tags": []
      },
      "outputs": [],
      "source": [
        "from langchain_googledrive.retrievers import GoogleDriveRetriever\n",
        "\n",
        "folder_id = \"root\"\n",
        "# folder_id='1yucgL9WGgWZdM1TOuKkeghlPizuzMYb5'\n",
        "\n",
        "retriever = GoogleDriveRetriever(\n",
        "    num_results=2,\n",
        ")"
      ]
    },
    {
      "cell_type": "markdown",
      "id": "fa339ca0-f478-440c-ba80-0e5f41a19ce1",
      "metadata": {},
      "source": [
        "默认情况下，所有具有以下 MIME 类型的文档都可以转换为 `Document`。\n\n- `text/text`\n- `text/plain`\n- `text/html`\n- `text/csv`\n- `text/markdown`\n- `image/png`\n- `image/jpeg`\n- `application/epub+zip`\n- `application/pdf`\n- `application/rtf`\n- `application/vnd.google-apps.document` (GDoc)\n- `application/vnd.google-apps.presentation` (GSlide)\n- `application/vnd.google-apps.spreadsheet` (GSheet)\n- `application/vnd.google.colaboratory` (Notebook colab)\n- `application/vnd.openxmlformats-officedocument.presentationml.presentation` (PPTX)\n- `application/vnd.openxmlformats-officedocument.wordprocessingml.document` (DOCX)\n\n这是可以更新或自定义的。请参阅 `GoogleDriveRetriever` 的文档。\n\n但是，必须安装相应的软件包。"
      ]
    },
    {
      "cell_type": "code",
      "execution_count": null,
      "id": "9dadec48",
      "metadata": {},
      "outputs": [],
      "source": [
        "%pip install --upgrade --quiet  unstructured"
      ]
    },
    {
      "cell_type": "code",
      "execution_count": null,
      "id": "8f3b6aa0-b45d-4e37-8c50-5bebe70fdb9d",
      "metadata": {
        "ExecuteTime": {
          "end_time": "2023-05-09T10:46:00.990310466Z",
          "start_time": "2023-05-09T10:45:59.798774595Z"
        },
        "tags": []
      },
      "outputs": [],
      "source": [
        "retriever.invoke(\"machine learning\")"
      ]
    },
    {
      "cell_type": "markdown",
      "id": "8ff33817-8619-4897-8742-2216b9934d2a",
      "metadata": {},
      "source": [
        "您可以自定义选择文件的标准。系统提供了一组预定义的过滤器：\n\n| 模板                                     | 描述                                                               |\n| --------------------------------------   | ------------------------------------------------------------------ |\n| `gdrive-all-in-folder`                   | 返回 `folder_id` 中的所有兼容文件                                     |\n| `gdrive-query`                           | 在所有驱动器中搜索 `query`                                           |\n| `gdrive-by-name`                         | 按名称搜索文件 `query`                                               |\n| `gdrive-query-in-folder`                 | 在 `folder_id` 中搜索 `query`（可在 `_recursive=true` 中搜索子文件夹） |\n| `gdrive-mime-type`                       | 搜索特定的 `mime_type`                                               |\n| `gdrive-mime-type-in-folder`             | 在 `folder_id` 中搜索特定的 `mime_type`                               |\n| `gdrive-query-with-mime-type`            | 使用特定的 `mime_type` 搜索 `query`                                   |\n| `gdrive-query-with-mime-type-and-folder` | 使用特定的 `mime_type` 并在 `folder_id` 中搜索 `query`                 |"
      ]
    },
    {
      "cell_type": "code",
      "execution_count": null,
      "id": "9977c712-9659-4959-b508-f59cc7d49d44",
      "metadata": {
        "tags": []
      },
      "outputs": [],
      "source": [
        "retriever = GoogleDriveRetriever(\n",
        "    template=\"gdrive-query\",  # Search everywhere\n",
        "    num_results=2,  # But take only 2 documents\n",
        ")\n",
        "for doc in retriever.invoke(\"machine learning\"):\n",
        "    print(\"---\")\n",
        "    print(doc.page_content.strip()[:60] + \"...\")"
      ]
    },
    {
      "cell_type": "markdown",
      "id": "a5a0f3ef-26fb-4a5c-85f0-5aba90b682b1",
      "metadata": {},
      "source": [
        "否则，您可以使用专用的 `PromptTemplate` 来自定义提示。"
      ]
    },
    {
      "cell_type": "code",
      "execution_count": null,
      "id": "b0bbebde-0487-4d20-9d77-8070e4f0e0d6",
      "metadata": {
        "tags": []
      },
      "outputs": [],
      "source": [
        "from langchain_core.prompts import PromptTemplate\n",
        "\n",
        "retriever = GoogleDriveRetriever(\n",
        "    template=PromptTemplate(\n",
        "        input_variables=[\"query\"],\n",
        "        # See https://developers.google.com/drive/api/guides/search-files\n",
        "        template=\"(fullText contains '{query}') \"\n",
        "        \"and mimeType='application/vnd.google-apps.document' \"\n",
        "        \"and modifiedTime > '2000-01-01T00:00:00' \"\n",
        "        \"and trashed=false\",\n",
        "    ),\n",
        "    num_results=2,\n",
        "    # See https://developers.google.com/drive/api/v3/reference/files/list\n",
        "    includeItemsFromAllDrives=False,\n",
        "    supportsAllDrives=False,\n",
        ")\n",
        "for doc in retriever.invoke(\"machine learning\"):\n",
        "    print(f\"{doc.metadata['name']}:\")\n",
        "    print(\"---\")\n",
        "    print(doc.page_content.strip()[:60] + \"...\")"
      ]
    },
    {
      "cell_type": "markdown",
      "id": "9b6fed29-1666-452e-b677-401613270388",
      "metadata": {},
      "source": [
        "## 使用 Google Drive 的 `description` 元数据\n\n每个 Google Drive 文件都在元数据中有一个 `description` 字段（参见 *文件的详情*）。\n使用 `snippets` 模式即可返回选定文件的描述。"
      ]
    },
    {
      "cell_type": "code",
      "execution_count": null,
      "id": "342dbe12-ed83-40f4-8957-0cc8c4609542",
      "metadata": {
        "tags": []
      },
      "outputs": [],
      "source": [
        "retriever = GoogleDriveRetriever(\n",
        "    template=\"gdrive-mime-type-in-folder\",\n",
        "    folder_id=folder_id,\n",
        "    mime_type=\"application/vnd.google-apps.document\",  # Only Google Docs\n",
        "    num_results=2,\n",
        "    mode=\"snippets\",\n",
        "    includeItemsFromAllDrives=False,\n",
        "    supportsAllDrives=False,\n",
        ")\n",
        "retriever.invoke(\"machine learning\")"
      ]
    }
  ],
  "metadata": {
    "kernelspec": {
      "display_name": "Python 3 (ipykernel)",
      "language": "python",
      "name": "python3"
    },
    "language_info": {
      "codemirror_mode": {
        "name": "ipython",
        "version": 3
      },
      "file_extension": ".py",
      "mimetype": "text/x-python",
      "name": "python",
      "nbconvert_exporter": "python",
      "pygments_lexer": "ipython3",
      "version": "3.10.12"
    }
  },
  "nbformat": 4,
  "nbformat_minor": 5
}