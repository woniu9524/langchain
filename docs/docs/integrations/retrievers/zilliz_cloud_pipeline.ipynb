{
  "cells": [
    {
      "cell_type": "markdown",
      "metadata": {},
      "source": [
        "# Zilliz 云管道\n\n> [Zilliz Cloud Pipelines](https://docs.zilliz.com/docs/pipelines) 将您的非结构化数据转换为可搜索的向量集合，对您的数据进行嵌入、摄取、搜索和删除的链式处理。\n> \n> Zilliz Cloud Pipelines 可在 Zilliz Cloud Console 中通过 RESTful API 获取。\n\n本 Notebook 演示了如何准备 Zilliz Cloud Pipelines 并通过 LangChain Retriever 使用它们。"
      ]
    },
    {
      "cell_type": "markdown",
      "metadata": {},
      "source": [
        "## 准备 Zilliz Cloud 管道\n\n要为 LangChain Retriever 准备管道，您需要在 Zilliz Cloud 中创建并配置服务。"
      ]
    },
    {
      "cell_type": "markdown",
      "metadata": {},
      "source": [
        "**1. 设置数据库**\n\n- [注册 Zilliz Cloud](https://docs.zilliz.com/docs/register-with-zilliz-cloud)\n- [创建集群](https://docs.zilliz.com/docs/create-cluster)"
      ]
    },
    {
      "cell_type": "markdown",
      "metadata": {},
      "source": [
        "**2. 创建管道**\n\n- [文档的引入、搜索和删除](https://docs.zilliz.com/docs/pipelines-doc-data)\n- [文本的引入、搜索和删除](https://docs.zilliz.com/docs/pipelines-text-data)"
      ]
    },
    {
      "cell_type": "markdown",
      "metadata": {},
      "source": [
        "## 使用 LangChain Retriever"
      ]
    },
    {
      "cell_type": "code",
      "execution_count": 1,
      "metadata": {
        "vscode": {
          "languageId": "shellscript"
        }
      },
      "outputs": [],
      "source": [
        "%pip install --upgrade --quiet langchain-milvus"
      ]
    },
    {
      "cell_type": "code",
      "execution_count": 1,
      "metadata": {},
      "outputs": [],
      "source": [
        "from langchain_milvus import ZillizCloudPipelineRetriever\n",
        "\n",
        "retriever = ZillizCloudPipelineRetriever(\n",
        "    pipeline_ids={\n",
        "        \"ingestion\": \"<YOUR_INGESTION_PIPELINE_ID>\",  # skip this line if you do NOT need to add documents\n",
        "        \"search\": \"<YOUR_SEARCH_PIPELINE_ID>\",  # skip this line if you do NOT need to get relevant documents\n",
        "        \"deletion\": \"<YOUR_DELETION_PIPELINE_ID>\",  # skip this line if you do NOT need to delete documents\n",
        "    },\n",
        "    token=\"<YOUR_ZILLIZ_CLOUD_API_KEY>\",\n",
        ")"
      ]
    },
    {
      "cell_type": "markdown",
      "metadata": {},
      "source": [
        "### 添加文档\n\n您可以 O使用 `add_texts` 或 `add_doc_url` 方法来添加文档，这些方法可以将来自文本列表或预签名/公共 URL 的文档连同相应的元数据一起插入到存储中。"
      ]
    },
    {
      "cell_type": "markdown",
      "metadata": {},
      "source": [
        "- 如果使用 **文本摄取管道**，则可以使用 `add_texts` 方法，该方法会将一批文本及其相应的元数据插入到 Zilliz Cloud 存储中。\n\n    **参数:**\n    - `texts`: 文本字符串列表。\n    - `metadata`: 一个键值元数据字典，将作为摄取管道所需的保留字段插入。默认为 None。"
      ]
    },
    {
      "cell_type": "code",
      "execution_count": 3,
      "metadata": {},
      "outputs": [],
      "source": [
        "# retriever.add_texts(\n",
        "#     texts = [\"example text 1e\", \"example text 2\"],\n",
        "#     metadata={\"<FIELD_NAME>\": \"<FIELD_VALUE>\"}  # skip this line if no preserved field is required by the ingestion pipeline\n",
        "#     )"
      ]
    },
    {
      "cell_type": "markdown",
      "metadata": {},
      "source": [
        "- 如果使用 **文档摄取管道**，可以使用 `add_doc_url` 方法，该方法会将来自 url 的文档及相应的元数据插入 Zilliz Cloud 存储。\n\n    **参数:**\n    - `doc_url`: 文档 url。\n    - `metadata`: 一个键值元数据字典，将作为摄取管道所需的保留字段插入。默认为 None。\n\n以下示例适用于文档摄取管道，该管道需要将 Milvus 版本作为元数据。我们将使用一个[示例文档](https://publicdataset.zillizcloud.com/milvus_doc.md)，该文档描述了如何在 Milvus v2.3.x 中删除实体。"
      ]
    },
    {
      "cell_type": "code",
      "execution_count": 5,
      "metadata": {},
      "outputs": [
        {
          "data": {
            "text/plain": [
              "{'token_usage': 1247, 'doc_name': 'milvus_doc.md', 'num_chunks': 6}"
            ]
          },
          "execution_count": 5,
          "metadata": {},
          "output_type": "execute_result"
        }
      ],
      "source": [
        "retriever.add_doc_url(\n",
        "    doc_url=\"https://publicdataset.zillizcloud.com/milvus_doc.md\",\n",
        "    metadata={\"version\": \"v2.3.x\"},\n",
        ")"
      ]
    },
    {
      "cell_type": "markdown",
      "metadata": {},
      "source": [
        "### 获取相关文档\n\n要查询检索器，您可以使用 `get_relevant_documents` 方法，该方法返回一个 LangChain `Document` 对象列表。\n\n**参数：**\n- `query`: 用于查找相关文档的字符串。\n- `top_k`: 结果的数量。默认为 10。\n- `offset`: 在搜索结果中要跳过的记录数。默认为 0。\n- `output_fields`: 在输出中呈现的额外字段。\n- `filter`: 用于过滤搜索结果的 Milvus 表达式。默认为 \"\"。\n- `run_manager`: 要使用的回调处理程序。"
      ]
    },
    {
      "cell_type": "code",
      "execution_count": 2,
      "metadata": {},
      "outputs": [
        {
          "data": {
            "text/plain": [
              "[Document(page_content='# Delete Entities\\nThis topic describes how to delete entities in Milvus.  \\nMilvus supports deleting entities by primary key or complex boolean expressions. Deleting entities by primary key is much faster and lighter than deleting them by complex boolean expressions. This is because Milvus executes queries first when deleting data by complex boolean expressions.  \\nDeleted entities can still be retrieved immediately after the deletion if the consistency level is set lower than Strong.\\nEntities deleted beyond the pre-specified span of time for Time Travel cannot be retrieved again.\\nFrequent deletion operations will impact the system performance.  \\nBefore deleting entities by comlpex boolean expressions, make sure the collection has been loaded.\\nDeleting entities by complex boolean expressions is not an atomic operation. Therefore, if it fails halfway through, some data may still be deleted.\\nDeleting entities by complex boolean expressions is supported only when the consistency is set to Bounded. For details, see Consistency.\\\\\\n\\\\\\n# Delete Entities\\n## Prepare boolean expression\\nPrepare the boolean expression that filters the entities to delete.  \\nMilvus supports deleting entities by primary key or complex boolean expressions. For more information on expression rules and supported operators, see Boolean Expression Rules.', metadata={'id': 448986959321277978, 'distance': 0.7871403694152832}),\n",
              " Document(page_content='# Delete Entities\\n## Prepare boolean expression\\n### Simple boolean expression\\nUse a simple expression to filter data with primary key values of 0 and 1:  \\n```python\\nexpr = \"book_id in [0,1]\"\\n```\\\\\\n\\\\\\n# Delete Entities\\n## Prepare boolean expression\\n### Complex boolean expression\\nTo filter entities that meet specific conditions, define complex boolean expressions.  \\nFilter entities whose word_count is greater than or equal to 11000:  \\n```python\\nexpr = \"word_count >= 11000\"\\n```  \\nFilter entities whose book_name is not Unknown:  \\n```python\\nexpr = \"book_name != Unknown\"\\n```  \\nFilter entities whose primary key values are greater than 5 and word_count is smaller than or equal to 9999:  \\n```python\\nexpr = \"book_id > 5 && word_count <= 9999\"\\n```', metadata={'id': 448986959321277979, 'distance': 0.7775762677192688}),\n",
              " Document(page_content='# Delete Entities\\n## Delete entities\\nDelete the entities with the boolean expression you created. Milvus returns the ID list of the deleted entities.\\n```python\\nfrom pymilvus import Collection\\ncollection = Collection(\"book\")      # Get an existing collection.\\ncollection.delete(expr)\\n```  \\nParameter\\tDescription\\nexpr\\tBoolean expression that specifies the entities to delete.\\npartition_name (optional)\\tName of the partition to delete entities from.\\\\\\n\\\\\\n# Upsert Entities\\nThis topic describes how to upsert entities in Milvus.  \\nUpserting is a combination of insert and delete operations. In the context of a Milvus vector database, an upsert is a data-level operation that will overwrite an existing entity if a specified field already exists in a collection, and insert a new entity if the specified value doesn’t already exist.  \\nThe following example upserts 3,000 rows of randomly generated data as the example data. When performing upsert operations, it\\'s important to note that the operation may compromise performance. This is because the operation involves deleting data during execution.', metadata={'id': 448986959321277980, 'distance': 0.680284857749939}),\n",
              " Document(page_content='# Upsert Entities\\n## Flush data\\nWhen data is upserted into Milvus it is updated and inserted into segments. Segments have to reach a certain size to be sealed and indexed. Unsealed segments will be searched brute force. In order to avoid this with any remainder data, it is best to call flush(). The flush() call will seal any remaining segments and send them for indexing. It is important to only call this method at the end of an upsert session. Calling it too often will cause fragmented data that will need to be cleaned later on.\\\\\\n\\\\\\n# Upsert Entities\\n## Limits\\nUpdating primary key fields is not supported by upsert().\\nupsert() is not applicable and an error can occur if autoID is set to True for primary key fields.', metadata={'id': 448986959321277983, 'distance': 0.5672488212585449}),\n",
              " Document(page_content='# Upsert Entities\\n## Prepare data\\nFirst, prepare the data to upsert. The type of data to upsert must match the schema of the collection, otherwise Milvus will raise an exception.  \\nMilvus supports default values for scalar fields, excluding a primary key field. This indicates that some fields can be left empty during data inserts or upserts. For more information, refer to Create a Collection.  \\n```python\\n# Generate data to upsert\\n\\nimport random\\nnb = 3000\\ndim = 8\\nvectors = [[random.random() for _ in range(dim)] for _ in range(nb)]\\ndata = [\\n[i for i in range(nb)],\\n[str(i) for i in range(nb)],\\n[i for i in range(10000, 10000+nb)],\\nvectors,\\n[str(\"dy\"*i) for i in range(nb)]\\n]\\n```', metadata={'id': 448986959321277981, 'distance': 0.5107149481773376}),\n",
              " Document(page_content='# Upsert Entities\\n## Upsert data\\nUpsert the data to the collection.  \\n```python\\nfrom pymilvus import Collection\\ncollection = Collection(\"book\") # Get an existing collection.\\nmr = collection.upsert(data)\\n```  \\nParameter\\tDescription\\ndata\\tData to upsert into Milvus.\\npartition_name (optional)\\tName of the partition to upsert data into.\\ntimeout (optional)\\tAn optional duration of time in seconds to allow for the RPC. If it is set to None, the client keeps waiting until the server responds or error occurs.\\nAfter upserting entities into a collection that has previously been indexed, you do not need to re-index the collection, as Milvus will automatically create an index for the newly upserted data. For more information, refer to Can indexes be created after inserting vectors?', metadata={'id': 448986959321277982, 'distance': 0.4341375529766083})]"
            ]
          },
          "execution_count": 2,
          "metadata": {},
          "output_type": "execute_result"
        }
      ],
      "source": [
        "retriever.get_relevant_documents(\n",
        "    \"Can users delete entities by complex boolean expressions?\"\n",
        ")"
      ]
    },
    {
      "cell_type": "markdown",
      "metadata": {},
      "source": []
    }
  ],
  "metadata": {
    "kernelspec": {
      "display_name": "develop",
      "language": "python",
      "name": "python3"
    },
    "language_info": {
      "codemirror_mode": {
        "name": "ipython",
        "version": 3
      },
      "file_extension": ".py",
      "mimetype": "text/x-python",
      "name": "python",
      "nbconvert_exporter": "python",
      "pygments_lexer": "ipython3",
      "version": "3.8.18"
    }
  },
  "nbformat": 4,
  "nbformat_minor": 2
}