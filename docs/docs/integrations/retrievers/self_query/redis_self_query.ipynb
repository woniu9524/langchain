{
  "cells": [
    {
      "cell_type": "markdown",
      "id": "13afcae7",
      "metadata": {},
      "source": [
        "# Redis\n\n>[Redis](https://redis.com) 是一个开源键值存储，可用作缓存、消息代理、数据库、向量数据库等。\n\n在本笔记本中，我们将演示围绕 `Redis` 向量存储包装的 `SelfQueryRetriever`。"
      ]
    },
    {
      "cell_type": "markdown",
      "id": "68e75fb9",
      "metadata": {},
      "source": [
        "## 创建 Redis 向量存储\n首先，我们将创建一个 Redis 向量存储并填充一些数据。我们创建了一组小型演示文档，其中包含电影摘要。\n\n**注意：** Self-query retriever 要求您安装 `lark`（`pip install lark`）以及特定于集成的要求。"
      ]
    },
    {
      "cell_type": "code",
      "execution_count": 1,
      "id": "63a8af5b",
      "metadata": {
        "tags": []
      },
      "outputs": [],
      "source": [
        "%pip install --upgrade --quiet  redis redisvl langchain-openai tiktoken lark"
      ]
    },
    {
      "cell_type": "markdown",
      "id": "83811610-7df3-4ede-b268-68a6a83ba9e2",
      "metadata": {},
      "source": [
        "我们想使用 `OpenAIEmbeddings`，所以我们需要获取 OpenAI API 密钥。"
      ]
    },
    {
      "cell_type": "code",
      "execution_count": 2,
      "id": "dd01b61b-7d32-4a55-85d6-b2d2d4f18840",
      "metadata": {
        "tags": []
      },
      "outputs": [],
      "source": [
        "import getpass\n",
        "import os\n",
        "\n",
        "if \"OPENAI_API_KEY\" not in os.environ:\n",
        "    os.environ[\"OPENAI_API_KEY\"] = getpass.getpass(\"OpenAI API Key:\")"
      ]
    },
    {
      "cell_type": "code",
      "execution_count": 3,
      "id": "cb4a5787",
      "metadata": {
        "tags": []
      },
      "outputs": [],
      "source": [
        "from langchain_community.vectorstores import Redis\n",
        "from langchain_core.documents import Document\n",
        "from langchain_openai import OpenAIEmbeddings\n",
        "\n",
        "embeddings = OpenAIEmbeddings()"
      ]
    },
    {
      "cell_type": "code",
      "execution_count": 4,
      "id": "bcbe04d9",
      "metadata": {
        "tags": []
      },
      "outputs": [],
      "source": [
        "docs = [\n",
        "    Document(\n",
        "        page_content=\"A bunch of scientists bring back dinosaurs and mayhem breaks loose\",\n",
        "        metadata={\n",
        "            \"year\": 1993,\n",
        "            \"rating\": 7.7,\n",
        "            \"director\": \"Steven Spielberg\",\n",
        "            \"genre\": \"science fiction\",\n",
        "        },\n",
        "    ),\n",
        "    Document(\n",
        "        page_content=\"Leo DiCaprio gets lost in a dream within a dream within a dream within a ...\",\n",
        "        metadata={\n",
        "            \"year\": 2010,\n",
        "            \"director\": \"Christopher Nolan\",\n",
        "            \"genre\": \"science fiction\",\n",
        "            \"rating\": 8.2,\n",
        "        },\n",
        "    ),\n",
        "    Document(\n",
        "        page_content=\"A psychologist / detective gets lost in a series of dreams within dreams within dreams and Inception reused the idea\",\n",
        "        metadata={\n",
        "            \"year\": 2006,\n",
        "            \"director\": \"Satoshi Kon\",\n",
        "            \"genre\": \"science fiction\",\n",
        "            \"rating\": 8.6,\n",
        "        },\n",
        "    ),\n",
        "    Document(\n",
        "        page_content=\"A bunch of normal-sized women are supremely wholesome and some men pine after them\",\n",
        "        metadata={\n",
        "            \"year\": 2019,\n",
        "            \"director\": \"Greta Gerwig\",\n",
        "            \"genre\": \"drama\",\n",
        "            \"rating\": 8.3,\n",
        "        },\n",
        "    ),\n",
        "    Document(\n",
        "        page_content=\"Toys come alive and have a blast doing so\",\n",
        "        metadata={\n",
        "            \"year\": 1995,\n",
        "            \"director\": \"John Lasseter\",\n",
        "            \"genre\": \"animated\",\n",
        "            \"rating\": 9.1,\n",
        "        },\n",
        "    ),\n",
        "    Document(\n",
        "        page_content=\"Three men walk into the Zone, three men walk out of the Zone\",\n",
        "        metadata={\n",
        "            \"year\": 1979,\n",
        "            \"rating\": 9.9,\n",
        "            \"director\": \"Andrei Tarkovsky\",\n",
        "            \"genre\": \"science fiction\",\n",
        "        },\n",
        "    ),\n",
        "]"
      ]
    },
    {
      "cell_type": "code",
      "execution_count": 5,
      "id": "393aff3b",
      "metadata": {},
      "outputs": [
        {
          "name": "stderr",
          "output_type": "stream",
          "text": [
            "`index_schema` does not match generated metadata schema.\n",
            "If you meant to manually override the schema, please ignore this message.\n",
            "index_schema: {'tag': [{'name': 'genre'}], 'text': [{'name': 'director'}], 'numeric': [{'name': 'year'}, {'name': 'rating'}]}\n",
            "generated_schema: {'text': [{'name': 'director'}, {'name': 'genre'}], 'numeric': [{'name': 'year'}, {'name': 'rating'}], 'tag': []}\n",
            "\n"
          ]
        }
      ],
      "source": [
        "index_schema = {\n",
        "    \"tag\": [{\"name\": \"genre\"}],\n",
        "    \"text\": [{\"name\": \"director\"}],\n",
        "    \"numeric\": [{\"name\": \"year\"}, {\"name\": \"rating\"}],\n",
        "}\n",
        "\n",
        "vectorstore = Redis.from_documents(\n",
        "    docs,\n",
        "    embeddings,\n",
        "    redis_url=\"redis://localhost:6379\",\n",
        "    index_name=\"movie_reviews\",\n",
        "    index_schema=index_schema,\n",
        ")"
      ]
    },
    {
      "cell_type": "markdown",
      "id": "5ecaab6d",
      "metadata": {},
      "source": [
        "## 创建我们的自查询检索器\n现在我们可以实例化我们的检索器了。为此，我们需要预先提供一些关于我们的文档支持的元数据字段以及文档内容的简短描述。"
      ]
    },
    {
      "cell_type": "code",
      "execution_count": 6,
      "id": "86e34dbf",
      "metadata": {
        "tags": []
      },
      "outputs": [],
      "source": [
        "from langchain.chains.query_constructor.schema import AttributeInfo\n",
        "from langchain.retrievers.self_query.base import SelfQueryRetriever\n",
        "from langchain_openai import OpenAI\n",
        "\n",
        "metadata_field_info = [\n",
        "    AttributeInfo(\n",
        "        name=\"genre\",\n",
        "        description=\"The genre of the movie\",\n",
        "        type=\"string or list[string]\",\n",
        "    ),\n",
        "    AttributeInfo(\n",
        "        name=\"year\",\n",
        "        description=\"The year the movie was released\",\n",
        "        type=\"integer\",\n",
        "    ),\n",
        "    AttributeInfo(\n",
        "        name=\"director\",\n",
        "        description=\"The name of the movie director\",\n",
        "        type=\"string\",\n",
        "    ),\n",
        "    AttributeInfo(\n",
        "        name=\"rating\", description=\"A 1-10 rating for the movie\", type=\"float\"\n",
        "    ),\n",
        "]\n",
        "document_content_description = \"Brief summary of a movie\""
      ]
    },
    {
      "cell_type": "code",
      "execution_count": 7,
      "id": "ea1126cb",
      "metadata": {},
      "outputs": [],
      "source": [
        "llm = OpenAI(temperature=0)\n",
        "retriever = SelfQueryRetriever.from_llm(\n",
        "    llm, vectorstore, document_content_description, metadata_field_info, verbose=True\n",
        ")"
      ]
    },
    {
      "cell_type": "markdown",
      "id": "ea9df8d4",
      "metadata": {},
      "source": [
        "## 测试一下\n现在我们可以尝试实际使用我们的检索器了！"
      ]
    },
    {
      "cell_type": "code",
      "execution_count": 8,
      "id": "38a126e9",
      "metadata": {},
      "outputs": [
        {
          "name": "stderr",
          "output_type": "stream",
          "text": [
            "/Users/bagatur/langchain/libs/langchain/langchain/chains/llm.py:278: UserWarning: The predict_and_parse method is deprecated, instead pass an output parser directly to LLMChain.\n",
            "  warnings.warn(\n"
          ]
        },
        {
          "name": "stdout",
          "output_type": "stream",
          "text": [
            "query='dinosaur' filter=None limit=None\n"
          ]
        },
        {
          "data": {
            "text/plain": [
              "[Document(page_content='A bunch of scientists bring back dinosaurs and mayhem breaks loose', metadata={'id': 'doc:movie_reviews:7b5481d753bc4135851b66fa61def7fb', 'director': 'Steven Spielberg', 'genre': 'science fiction', 'year': '1993', 'rating': '7.7'}),\n",
              " Document(page_content='Toys come alive and have a blast doing so', metadata={'id': 'doc:movie_reviews:9e4e84daa0374941a6aa4274e9bbb607', 'director': 'John Lasseter', 'genre': 'animated', 'year': '1995', 'rating': '9.1'}),\n",
              " Document(page_content='Three men walk into the Zone, three men walk out of the Zone', metadata={'id': 'doc:movie_reviews:2cc66f38bfbd438eb3a045d90a1a4088', 'director': 'Andrei Tarkovsky', 'genre': 'science fiction', 'year': '1979', 'rating': '9.9'}),\n",
              " Document(page_content='A psychologist / detective gets lost in a series of dreams within dreams within dreams and Inception reused the idea', metadata={'id': 'doc:movie_reviews:edf567b1d5334e02b2a4c692d853c80c', 'director': 'Satoshi Kon', 'genre': 'science fiction', 'year': '2006', 'rating': '8.6'})]"
            ]
          },
          "execution_count": 8,
          "metadata": {},
          "output_type": "execute_result"
        }
      ],
      "source": [
        "# This example only specifies a relevant query\n",
        "retriever.invoke(\"What are some movies about dinosaurs\")"
      ]
    },
    {
      "cell_type": "code",
      "execution_count": 9,
      "id": "fc3f1e6e",
      "metadata": {},
      "outputs": [
        {
          "name": "stdout",
          "output_type": "stream",
          "text": [
            "query=' ' filter=Comparison(comparator=<Comparator.GT: 'gt'>, attribute='rating', value=8.4) limit=None\n"
          ]
        },
        {
          "data": {
            "text/plain": [
              "[Document(page_content='Toys come alive and have a blast doing so', metadata={'id': 'doc:movie_reviews:9e4e84daa0374941a6aa4274e9bbb607', 'director': 'John Lasseter', 'genre': 'animated', 'year': '1995', 'rating': '9.1'}),\n",
              " Document(page_content='Three men walk into the Zone, three men walk out of the Zone', metadata={'id': 'doc:movie_reviews:2cc66f38bfbd438eb3a045d90a1a4088', 'director': 'Andrei Tarkovsky', 'genre': 'science fiction', 'year': '1979', 'rating': '9.9'}),\n",
              " Document(page_content='A psychologist / detective gets lost in a series of dreams within dreams within dreams and Inception reused the idea', metadata={'id': 'doc:movie_reviews:edf567b1d5334e02b2a4c692d853c80c', 'director': 'Satoshi Kon', 'genre': 'science fiction', 'year': '2006', 'rating': '8.6'})]"
            ]
          },
          "execution_count": 9,
          "metadata": {},
          "output_type": "execute_result"
        }
      ],
      "source": [
        "# This example only specifies a filter\n",
        "retriever.invoke(\"I want to watch a movie rated higher than 8.4\")"
      ]
    },
    {
      "cell_type": "code",
      "execution_count": 10,
      "id": "b19d4da0",
      "metadata": {},
      "outputs": [
        {
          "name": "stdout",
          "output_type": "stream",
          "text": [
            "query='women' filter=Comparison(comparator=<Comparator.EQ: 'eq'>, attribute='director', value='Greta Gerwig') limit=None\n"
          ]
        },
        {
          "data": {
            "text/plain": [
              "[Document(page_content='A bunch of normal-sized women are supremely wholesome and some men pine after them', metadata={'id': 'doc:movie_reviews:bb899807b93c442083fd45e75a4779d5', 'director': 'Greta Gerwig', 'genre': 'drama', 'year': '2019', 'rating': '8.3'})]"
            ]
          },
          "execution_count": 10,
          "metadata": {},
          "output_type": "execute_result"
        }
      ],
      "source": [
        "# This example specifies a query and a filter\n",
        "retriever.invoke(\"Has Greta Gerwig directed any movies about women\")"
      ]
    },
    {
      "cell_type": "code",
      "execution_count": 11,
      "id": "f900e40e",
      "metadata": {},
      "outputs": [
        {
          "name": "stdout",
          "output_type": "stream",
          "text": [
            "query=' ' filter=Operation(operator=<Operator.AND: 'and'>, arguments=[Comparison(comparator=<Comparator.GTE: 'gte'>, attribute='rating', value=8.5), Comparison(comparator=<Comparator.CONTAIN: 'contain'>, attribute='genre', value='science fiction')]) limit=None\n"
          ]
        },
        {
          "data": {
            "text/plain": [
              "[Document(page_content='Three men walk into the Zone, three men walk out of the Zone', metadata={'id': 'doc:movie_reviews:2cc66f38bfbd438eb3a045d90a1a4088', 'director': 'Andrei Tarkovsky', 'genre': 'science fiction', 'year': '1979', 'rating': '9.9'}),\n",
              " Document(page_content='A psychologist / detective gets lost in a series of dreams within dreams within dreams and Inception reused the idea', metadata={'id': 'doc:movie_reviews:edf567b1d5334e02b2a4c692d853c80c', 'director': 'Satoshi Kon', 'genre': 'science fiction', 'year': '2006', 'rating': '8.6'})]"
            ]
          },
          "execution_count": 11,
          "metadata": {},
          "output_type": "execute_result"
        }
      ],
      "source": [
        "# This example specifies a composite filter\n",
        "retriever.invoke(\"What's a highly rated (above 8.5) science fiction film?\")"
      ]
    },
    {
      "cell_type": "code",
      "execution_count": 12,
      "id": "12a51522",
      "metadata": {},
      "outputs": [
        {
          "name": "stdout",
          "output_type": "stream",
          "text": [
            "query='toys' filter=Operation(operator=<Operator.AND: 'and'>, arguments=[Comparison(comparator=<Comparator.GT: 'gt'>, attribute='year', value=1990), Comparison(comparator=<Comparator.LT: 'lt'>, attribute='year', value=2005), Comparison(comparator=<Comparator.CONTAIN: 'contain'>, attribute='genre', value='animated')]) limit=None\n"
          ]
        },
        {
          "data": {
            "text/plain": [
              "[Document(page_content='Toys come alive and have a blast doing so', metadata={'id': 'doc:movie_reviews:9e4e84daa0374941a6aa4274e9bbb607', 'director': 'John Lasseter', 'genre': 'animated', 'year': '1995', 'rating': '9.1'})]"
            ]
          },
          "execution_count": 12,
          "metadata": {},
          "output_type": "execute_result"
        }
      ],
      "source": [
        "# This example specifies a query and composite filter\n",
        "retriever.invoke(\n",
        "    \"What's a movie after 1990 but before 2005 that's all about toys, and preferably is animated\"\n",
        ")"
      ]
    },
    {
      "cell_type": "markdown",
      "id": "39bd1de1-b9fe-4a98-89da-58d8a7a6ae51",
      "metadata": {},
      "source": [
        "## 筛选 k\n\n我们也可以使用自查询检索器来指定 `k`，即要获取的文档数量。\n\n我们可以通过向构造函数传递 `enable_limit=True` 来实现这一点。"
      ]
    },
    {
      "cell_type": "code",
      "execution_count": 13,
      "id": "bff36b88-b506-4877-9c63-e5a1a8d78e64",
      "metadata": {
        "tags": []
      },
      "outputs": [],
      "source": [
        "retriever = SelfQueryRetriever.from_llm(\n",
        "    llm,\n",
        "    vectorstore,\n",
        "    document_content_description,\n",
        "    metadata_field_info,\n",
        "    enable_limit=True,\n",
        "    verbose=True,\n",
        ")"
      ]
    },
    {
      "cell_type": "code",
      "execution_count": 14,
      "id": "2758d229-4f97-499c-819f-888acaf8ee10",
      "metadata": {
        "tags": []
      },
      "outputs": [
        {
          "name": "stdout",
          "output_type": "stream",
          "text": [
            "query='dinosaur' filter=None limit=2\n"
          ]
        },
        {
          "data": {
            "text/plain": [
              "[Document(page_content='A bunch of scientists bring back dinosaurs and mayhem breaks loose', metadata={'id': 'doc:movie_reviews:7b5481d753bc4135851b66fa61def7fb', 'director': 'Steven Spielberg', 'genre': 'science fiction', 'year': '1993', 'rating': '7.7'}),\n",
              " Document(page_content='Toys come alive and have a blast doing so', metadata={'id': 'doc:movie_reviews:9e4e84daa0374941a6aa4274e9bbb607', 'director': 'John Lasseter', 'genre': 'animated', 'year': '1995', 'rating': '9.1'})]"
            ]
          },
          "execution_count": 14,
          "metadata": {},
          "output_type": "execute_result"
        }
      ],
      "source": [
        "# This example only specifies a relevant query\n",
        "retriever.invoke(\"what are two movies about dinosaurs\")"
      ]
    }
  ],
  "metadata": {
    "kernelspec": {
      "display_name": "Python 3 (ipykernel)",
      "language": "python",
      "name": "python3"
    },
    "language_info": {
      "codemirror_mode": {
        "name": "ipython",
        "version": 3
      },
      "file_extension": ".py",
      "mimetype": "text/x-python",
      "name": "python",
      "nbconvert_exporter": "python",
      "pygments_lexer": "ipython3",
      "version": "3.10.12"
    }
  },
  "nbformat": 4,
  "nbformat_minor": 5
}