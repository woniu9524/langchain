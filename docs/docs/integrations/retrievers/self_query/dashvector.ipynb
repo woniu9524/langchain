{
  "cells": [
    {
      "cell_type": "markdown",
      "id": "59895c73d1a0f3ca",
      "metadata": {
        "collapsed": false,
        "jupyter": {
          "outputs_hidden": false
        }
      },
      "source": [
        "# DashVector\n\n> [DashVector](https://help.aliyun.com/document_detail/2510225.html) 是一项完全托管的向量数据库服务，支持高维稠密和稀疏向量、实时插入和过滤搜索。它旨在自动扩展并适应不同的应用需求。\n> 向量检索服务 `DashVector` 基于由 `DAMO Academy` 自主研发的高效向量引擎核心 `Proxima`，\n> 提供云原生、完全托管并具备水平扩展能力的向量检索服务。\n> `DashVector` 通过简单易用的 SDK/API 接口，暴露其强大的向量管理、向量查询等多元化能力，可被上层 AI 应用快速集成，从而为大模型生态、多模态 AI 搜索、分子结构分析等多种应用场景，提供所需的向量高效检索能力。\n\n在本 Notebook 中，我们将演示如何配合 `DashVector` 向量存储使用 `SelfQueryRetriever`。"
      ]
    },
    {
      "cell_type": "markdown",
      "id": "539ae9367e45a178",
      "metadata": {
        "collapsed": false,
        "jupyter": {
          "outputs_hidden": false
        }
      },
      "source": [
        "## 创建 DashVector 向量库\n\n首先，我们将创建一个 `DashVector` 向量库并用数据填充。我们创建了一组包含电影摘要的小型演示文档。\n\n要使用 DashVector，您必须安装 `dashvector` 包，并且必须拥有 API 密钥和环境。这是[安装说明](https://help.aliyun.com/document_detail/2510223.html)。\n\n注意：self-query retriever 要求您安装 `lark` 包。"
      ]
    },
    {
      "cell_type": "code",
      "execution_count": 1,
      "id": "67df7e1f8dc8cdd0",
      "metadata": {
        "collapsed": false,
        "jupyter": {
          "outputs_hidden": false
        }
      },
      "outputs": [],
      "source": [
        "%pip install --upgrade --quiet  lark dashvector"
      ]
    },
    {
      "cell_type": "code",
      "execution_count": 1,
      "id": "ff61eaf13973b5fe",
      "metadata": {
        "ExecuteTime": {
          "end_time": "2023-08-24T02:58:46.905337Z",
          "start_time": "2023-08-24T02:58:46.252566Z"
        },
        "collapsed": false,
        "jupyter": {
          "outputs_hidden": false
        }
      },
      "outputs": [],
      "source": [
        "import os\n",
        "\n",
        "import dashvector\n",
        "\n",
        "client = dashvector.Client(api_key=os.environ[\"DASHVECTOR_API_KEY\"])"
      ]
    },
    {
      "cell_type": "code",
      "execution_count": null,
      "id": "de5c77957ee42d14",
      "metadata": {
        "collapsed": false,
        "jupyter": {
          "outputs_hidden": false
        }
      },
      "outputs": [],
      "source": [
        "from langchain_community.embeddings import DashScopeEmbeddings\n",
        "from langchain_community.vectorstores import DashVector\n",
        "from langchain_core.documents import Document\n",
        "\n",
        "embeddings = DashScopeEmbeddings()\n",
        "\n",
        "# create DashVector collection\n",
        "client.create(\"langchain-self-retriever-demo\", dimension=1536)"
      ]
    },
    {
      "cell_type": "code",
      "execution_count": 3,
      "id": "8f40605548a4550",
      "metadata": {
        "ExecuteTime": {
          "end_time": "2023-08-24T02:59:08.090031Z",
          "start_time": "2023-08-24T02:59:05.660295Z"
        },
        "collapsed": false,
        "jupyter": {
          "outputs_hidden": false
        }
      },
      "outputs": [],
      "source": [
        "docs = [\n",
        "    Document(\n",
        "        page_content=\"A bunch of scientists bring back dinosaurs and mayhem breaks loose\",\n",
        "        metadata={\"year\": 1993, \"rating\": 7.7, \"genre\": \"action\"},\n",
        "    ),\n",
        "    Document(\n",
        "        page_content=\"Leo DiCaprio gets lost in a dream within a dream within a dream within a ...\",\n",
        "        metadata={\"year\": 2010, \"director\": \"Christopher Nolan\", \"rating\": 8.2},\n",
        "    ),\n",
        "    Document(\n",
        "        page_content=\"A psychologist / detective gets lost in a series of dreams within dreams within dreams and Inception reused the idea\",\n",
        "        metadata={\"year\": 2006, \"director\": \"Satoshi Kon\", \"rating\": 8.6},\n",
        "    ),\n",
        "    Document(\n",
        "        page_content=\"A bunch of normal-sized women are supremely wholesome and some men pine after them\",\n",
        "        metadata={\"year\": 2019, \"director\": \"Greta Gerwig\", \"rating\": 8.3},\n",
        "    ),\n",
        "    Document(\n",
        "        page_content=\"Toys come alive and have a blast doing so\",\n",
        "        metadata={\"year\": 1995, \"genre\": \"animated\"},\n",
        "    ),\n",
        "    Document(\n",
        "        page_content=\"Three men walk into the Zone, three men walk out of the Zone\",\n",
        "        metadata={\n",
        "            \"year\": 1979,\n",
        "            \"director\": \"Andrei Tarkovsky\",\n",
        "            \"genre\": \"science fiction\",\n",
        "            \"rating\": 9.9,\n",
        "        },\n",
        "    ),\n",
        "]\n",
        "vectorstore = DashVector.from_documents(\n",
        "    docs, embeddings, collection_name=\"langchain-self-retriever-demo\"\n",
        ")"
      ]
    },
    {
      "cell_type": "markdown",
      "id": "eb1340adafac8993",
      "metadata": {
        "collapsed": false,
        "jupyter": {
          "outputs_hidden": false
        }
      },
      "source": [
        "## 创建自查询检索器\n\n现在我们可以实例化我们的检索器了。为了做到这一点，我们需要预先提供一些关于我们的文档支持的元数据字段以及文档内容的简短描述。"
      ]
    },
    {
      "cell_type": "code",
      "execution_count": 4,
      "id": "d65233dc044f95a7",
      "metadata": {
        "ExecuteTime": {
          "end_time": "2023-08-24T02:59:11.003940Z",
          "start_time": "2023-08-24T02:59:10.476722Z"
        },
        "collapsed": false,
        "jupyter": {
          "outputs_hidden": false
        }
      },
      "outputs": [],
      "source": [
        "from langchain.chains.query_constructor.schema import AttributeInfo\n",
        "from langchain.retrievers.self_query.base import SelfQueryRetriever\n",
        "from langchain_community.llms import Tongyi\n",
        "\n",
        "metadata_field_info = [\n",
        "    AttributeInfo(\n",
        "        name=\"genre\",\n",
        "        description=\"The genre of the movie\",\n",
        "        type=\"string or list[string]\",\n",
        "    ),\n",
        "    AttributeInfo(\n",
        "        name=\"year\",\n",
        "        description=\"The year the movie was released\",\n",
        "        type=\"integer\",\n",
        "    ),\n",
        "    AttributeInfo(\n",
        "        name=\"director\",\n",
        "        description=\"The name of the movie director\",\n",
        "        type=\"string\",\n",
        "    ),\n",
        "    AttributeInfo(\n",
        "        name=\"rating\", description=\"A 1-10 rating for the movie\", type=\"float\"\n",
        "    ),\n",
        "]\n",
        "document_content_description = \"Brief summary of a movie\"\n",
        "llm = Tongyi(temperature=0)\n",
        "retriever = SelfQueryRetriever.from_llm(\n",
        "    llm, vectorstore, document_content_description, metadata_field_info, verbose=True\n",
        ")"
      ]
    },
    {
      "cell_type": "markdown",
      "id": "a54af0d67b473db6",
      "metadata": {
        "collapsed": false,
        "jupyter": {
          "outputs_hidden": false
        }
      },
      "source": [
        "## 测试\n\n现在我们可以尝试实际使用我们的检索器了！"
      ]
    },
    {
      "cell_type": "code",
      "execution_count": 6,
      "id": "dad9da670a267fe7",
      "metadata": {
        "ExecuteTime": {
          "end_time": "2023-08-24T02:59:28.577901Z",
          "start_time": "2023-08-24T02:59:26.780184Z"
        },
        "collapsed": false,
        "jupyter": {
          "outputs_hidden": false
        }
      },
      "outputs": [
        {
          "name": "stdout",
          "output_type": "stream",
          "text": [
            "query='dinosaurs' filter=None limit=None\n"
          ]
        },
        {
          "data": {
            "text/plain": [
              "[Document(page_content='A bunch of scientists bring back dinosaurs and mayhem breaks loose', metadata={'year': 1993, 'rating': 7.699999809265137, 'genre': 'action'}),\n",
              " Document(page_content='Toys come alive and have a blast doing so', metadata={'year': 1995, 'genre': 'animated'}),\n",
              " Document(page_content='Leo DiCaprio gets lost in a dream within a dream within a dream within a ...', metadata={'year': 2010, 'director': 'Christopher Nolan', 'rating': 8.199999809265137}),\n",
              " Document(page_content='A psychologist / detective gets lost in a series of dreams within dreams within dreams and Inception reused the idea', metadata={'year': 2006, 'director': 'Satoshi Kon', 'rating': 8.600000381469727})]"
            ]
          },
          "execution_count": 6,
          "metadata": {},
          "output_type": "execute_result"
        }
      ],
      "source": [
        "# This example only specifies a relevant query\n",
        "retriever.invoke(\"What are some movies about dinosaurs\")"
      ]
    },
    {
      "cell_type": "code",
      "execution_count": 7,
      "id": "d486a64316153d52",
      "metadata": {
        "ExecuteTime": {
          "end_time": "2023-08-24T02:59:32.370774Z",
          "start_time": "2023-08-24T02:59:30.614252Z"
        },
        "collapsed": false,
        "jupyter": {
          "outputs_hidden": false
        }
      },
      "outputs": [
        {
          "name": "stdout",
          "output_type": "stream",
          "text": [
            "query=' ' filter=Comparison(comparator=<Comparator.GTE: 'gte'>, attribute='rating', value=8.5) limit=None\n"
          ]
        },
        {
          "data": {
            "text/plain": [
              "[Document(page_content='Three men walk into the Zone, three men walk out of the Zone', metadata={'year': 1979, 'director': 'Andrei Tarkovsky', 'rating': 9.899999618530273, 'genre': 'science fiction'}),\n",
              " Document(page_content='A psychologist / detective gets lost in a series of dreams within dreams within dreams and Inception reused the idea', metadata={'year': 2006, 'director': 'Satoshi Kon', 'rating': 8.600000381469727})]"
            ]
          },
          "execution_count": 7,
          "metadata": {},
          "output_type": "execute_result"
        }
      ],
      "source": [
        "# This example only specifies a filter\n",
        "retriever.invoke(\"I want to watch a movie rated higher than 8.5\")"
      ]
    },
    {
      "cell_type": "code",
      "execution_count": 8,
      "id": "e05919cdead7bd4a",
      "metadata": {
        "ExecuteTime": {
          "end_time": "2023-08-24T02:59:35.353439Z",
          "start_time": "2023-08-24T02:59:33.278255Z"
        },
        "collapsed": false,
        "jupyter": {
          "outputs_hidden": false
        }
      },
      "outputs": [
        {
          "name": "stdout",
          "output_type": "stream",
          "text": [
            "query='Greta Gerwig' filter=Comparison(comparator=<Comparator.EQ: 'eq'>, attribute='director', value='Greta Gerwig') limit=None\n"
          ]
        },
        {
          "data": {
            "text/plain": [
              "[Document(page_content='A bunch of normal-sized women are supremely wholesome and some men pine after them', metadata={'year': 2019, 'director': 'Greta Gerwig', 'rating': 8.300000190734863})]"
            ]
          },
          "execution_count": 8,
          "metadata": {},
          "output_type": "execute_result"
        }
      ],
      "source": [
        "# This example specifies a query and a filter\n",
        "retriever.invoke(\"Has Greta Gerwig directed any movies about women\")"
      ]
    },
    {
      "cell_type": "code",
      "execution_count": 9,
      "id": "ac2c7012379e918e",
      "metadata": {
        "ExecuteTime": {
          "end_time": "2023-08-24T02:59:38.913707Z",
          "start_time": "2023-08-24T02:59:36.659271Z"
        },
        "collapsed": false,
        "jupyter": {
          "outputs_hidden": false
        }
      },
      "outputs": [
        {
          "name": "stdout",
          "output_type": "stream",
          "text": [
            "query='science fiction' filter=Operation(operator=<Operator.AND: 'and'>, arguments=[Comparison(comparator=<Comparator.EQ: 'eq'>, attribute='genre', value='science fiction'), Comparison(comparator=<Comparator.GT: 'gt'>, attribute='rating', value=8.5)]) limit=None\n"
          ]
        },
        {
          "data": {
            "text/plain": [
              "[Document(page_content='Three men walk into the Zone, three men walk out of the Zone', metadata={'year': 1979, 'director': 'Andrei Tarkovsky', 'rating': 9.899999618530273, 'genre': 'science fiction'})]"
            ]
          },
          "execution_count": 9,
          "metadata": {},
          "output_type": "execute_result"
        }
      ],
      "source": [
        "# This example specifies a composite filter\n",
        "retriever.invoke(\"What's a highly rated (above 8.5) science fiction film?\")"
      ]
    },
    {
      "cell_type": "markdown",
      "id": "af6aa93ae44af414",
      "metadata": {
        "collapsed": false,
        "jupyter": {
          "outputs_hidden": false
        }
      },
      "source": [
        "## Filter k\n\n我们还可以使用 self query retriever 来指定 `k`：要获取的文档数量。\n\n我们可以通过向构造函数传递 `enable_limit=True` 来实现这一点。"
      ]
    },
    {
      "cell_type": "code",
      "execution_count": 10,
      "id": "a8c8f09bf5702767",
      "metadata": {
        "ExecuteTime": {
          "end_time": "2023-08-24T02:59:41.594073Z",
          "start_time": "2023-08-24T02:59:41.563323Z"
        },
        "collapsed": false,
        "jupyter": {
          "outputs_hidden": false
        }
      },
      "outputs": [],
      "source": [
        "retriever = SelfQueryRetriever.from_llm(\n",
        "    llm,\n",
        "    vectorstore,\n",
        "    document_content_description,\n",
        "    metadata_field_info,\n",
        "    enable_limit=True,\n",
        "    verbose=True,\n",
        ")"
      ]
    },
    {
      "cell_type": "code",
      "execution_count": 11,
      "id": "b1089a6043980b84",
      "metadata": {
        "ExecuteTime": {
          "end_time": "2023-08-24T02:59:48.450506Z",
          "start_time": "2023-08-24T02:59:46.252944Z"
        },
        "collapsed": false,
        "jupyter": {
          "outputs_hidden": false
        }
      },
      "outputs": [
        {
          "name": "stdout",
          "output_type": "stream",
          "text": [
            "query='dinosaurs' filter=None limit=2\n"
          ]
        },
        {
          "data": {
            "text/plain": [
              "[Document(page_content='A bunch of scientists bring back dinosaurs and mayhem breaks loose', metadata={'year': 1993, 'rating': 7.699999809265137, 'genre': 'action'}),\n",
              " Document(page_content='Toys come alive and have a blast doing so', metadata={'year': 1995, 'genre': 'animated'})]"
            ]
          },
          "execution_count": 11,
          "metadata": {},
          "output_type": "execute_result"
        }
      ],
      "source": [
        "# This example only specifies a relevant query\n",
        "retriever.invoke(\"what are two movies about dinosaurs\")"
      ]
    },
    {
      "cell_type": "code",
      "execution_count": null,
      "id": "6d2d64e2ebb17d30",
      "metadata": {
        "collapsed": false,
        "jupyter": {
          "outputs_hidden": false
        }
      },
      "outputs": [],
      "source": []
    }
  ],
  "metadata": {
    "kernelspec": {
      "display_name": "Python 3 (ipykernel)",
      "language": "python",
      "name": "python3"
    },
    "language_info": {
      "codemirror_mode": {
        "name": "ipython",
        "version": 3
      },
      "file_extension": ".py",
      "mimetype": "text/x-python",
      "name": "python",
      "nbconvert_exporter": "python",
      "pygments_lexer": "ipython3",
      "version": "3.10.12"
    }
  },
  "nbformat": 4,
  "nbformat_minor": 5
}