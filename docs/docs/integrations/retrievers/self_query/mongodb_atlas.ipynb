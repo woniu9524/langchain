{
  "cells": [
    {
      "cell_type": "markdown",
      "metadata": {},
      "source": [
        "# MongoDB Atlas\n\n>[MongoDB Atlas](https://www.mongodb.com/) 是一个文档数据库，可用作向量数据库。\n\n在本指南中，我们将演示带 `MongoDB Atlas` 向量存储的 `SelfQueryRetriever`。"
      ]
    },
    {
      "cell_type": "markdown",
      "metadata": {},
      "source": [
        "## 创建 MongoDB Atlas 向量数据库\n首先，我们将创建一个 MongoDB Atlas 向量数据库并填充一些数据。我们创建了一个包含电影摘要的小型演示文档集。\n\n注意：自查询检索器要求您安装 `lark`（`pip install lark`）。我们还需要 `pymongo` 包。"
      ]
    },
    {
      "cell_type": "code",
      "execution_count": 5,
      "metadata": {},
      "outputs": [],
      "source": [
        "%pip install --upgrade --quiet  lark pymongo"
      ]
    },
    {
      "cell_type": "markdown",
      "metadata": {},
      "source": [
        "我们想要使用 `OpenAIEmbeddings`，所以我们需要获取 OpenAI API 密钥。"
      ]
    },
    {
      "cell_type": "code",
      "execution_count": null,
      "metadata": {},
      "outputs": [],
      "source": [
        "import os\n",
        "\n",
        "OPENAI_API_KEY = \"Use your OpenAI key\"\n",
        "\n",
        "os.environ[\"OPENAI_API_KEY\"] = OPENAI_API_KEY"
      ]
    },
    {
      "cell_type": "code",
      "execution_count": null,
      "metadata": {},
      "outputs": [],
      "source": [
        "from langchain_community.vectorstores import MongoDBAtlasVectorSearch\n",
        "from langchain_core.documents import Document\n",
        "from langchain_openai import OpenAIEmbeddings\n",
        "from pymongo import MongoClient\n",
        "\n",
        "CONNECTION_STRING = \"Use your MongoDB Atlas connection string\"\n",
        "DB_NAME = \"Name of your MongoDB Atlas database\"\n",
        "COLLECTION_NAME = \"Name of your collection in the database\"\n",
        "INDEX_NAME = \"Name of a search index defined on the collection\"\n",
        "\n",
        "MongoClient = MongoClient(CONNECTION_STRING)\n",
        "collection = MongoClient[DB_NAME][COLLECTION_NAME]\n",
        "\n",
        "embeddings = OpenAIEmbeddings()"
      ]
    },
    {
      "cell_type": "code",
      "execution_count": null,
      "metadata": {},
      "outputs": [],
      "source": [
        "docs = [\n",
        "    Document(\n",
        "        page_content=\"A bunch of scientists bring back dinosaurs and mayhem breaks loose\",\n",
        "        metadata={\"year\": 1993, \"rating\": 7.7, \"genre\": \"action\"},\n",
        "    ),\n",
        "    Document(\n",
        "        page_content=\"Leo DiCaprio gets lost in a dream within a dream within a dream within a ...\",\n",
        "        metadata={\"year\": 2010, \"genre\": \"thriller\", \"rating\": 8.2},\n",
        "    ),\n",
        "    Document(\n",
        "        page_content=\"A bunch of normal-sized women are supremely wholesome and some men pine after them\",\n",
        "        metadata={\"year\": 2019, \"rating\": 8.3, \"genre\": \"drama\"},\n",
        "    ),\n",
        "    Document(\n",
        "        page_content=\"Three men walk into the Zone, three men walk out of the Zone\",\n",
        "        metadata={\"year\": 1979, \"rating\": 9.9, \"genre\": \"science fiction\"},\n",
        "    ),\n",
        "    Document(\n",
        "        page_content=\"A psychologist / detective gets lost in a series of dreams within dreams within dreams and Inception reused the idea\",\n",
        "        metadata={\"year\": 2006, \"genre\": \"thriller\", \"rating\": 9.0},\n",
        "    ),\n",
        "    Document(\n",
        "        page_content=\"Toys come alive and have a blast doing so\",\n",
        "        metadata={\"year\": 1995, \"genre\": \"animated\", \"rating\": 9.3},\n",
        "    ),\n",
        "]\n",
        "\n",
        "vectorstore = MongoDBAtlasVectorSearch.from_documents(\n",
        "    docs,\n",
        "    embeddings,\n",
        "    collection=collection,\n",
        "    index_name=INDEX_NAME,\n",
        ")"
      ]
    },
    {
      "cell_type": "markdown",
      "metadata": {},
      "source": [
        "现在，让我们在集群上创建一个向量搜索索引。在下面的示例中，`embedding` 是包含嵌入向量的字段的名称。请参阅[文档](https://www.mongodb.com/docs/atlas/atlas-search/field-types/knn-vector)以获取有关如何定义 Atlas Vector Search 索引的更多详细信息。\n您可以将索引命名为 `{COLLECTION_NAME}`，并在命名空间 `{DB_NAME}.{COLLECTION_NAME}` 上创建索引。最后，在 MongoDB Atlas 的 JSON 编辑器中写入以下定义：\n\n```json\n{\n  \"mappings\": {\n    \"dynamic\": true,\n    \"fields\": {\n      \"embedding\": {\n        \"dimensions\": 1536,\n        \"similarity\": \"cosine\",\n        \"type\": \"knnVector\"\n      },\n      \"genre\": {\n        \"type\": \"token\"\n      },\n      \"ratings\": {\n        \"type\": \"number\"\n      },\n      \"year\": {\n        \"type\": \"number\"\n      }\n    }\n  }\n}\n```"
      ]
    },
    {
      "cell_type": "markdown",
      "metadata": {},
      "source": [
        "## 创建我们自查询的检索器\n现在我们可以实例化我们的检索器了。要做到这一点，我们需要提前提供一些有关我们的文档所支持的元数据字段以及文档内容的简短描述的信息。"
      ]
    },
    {
      "cell_type": "code",
      "execution_count": null,
      "metadata": {},
      "outputs": [],
      "source": [
        "from langchain.chains.query_constructor.schema import AttributeInfo\n",
        "from langchain.retrievers.self_query.base import SelfQueryRetriever\n",
        "from langchain_openai import OpenAI\n",
        "\n",
        "metadata_field_info = [\n",
        "    AttributeInfo(\n",
        "        name=\"genre\",\n",
        "        description=\"The genre of the movie\",\n",
        "        type=\"string\",\n",
        "    ),\n",
        "    AttributeInfo(\n",
        "        name=\"year\",\n",
        "        description=\"The year the movie was released\",\n",
        "        type=\"integer\",\n",
        "    ),\n",
        "    AttributeInfo(\n",
        "        name=\"rating\", description=\"A 1-10 rating for the movie\", type=\"float\"\n",
        "    ),\n",
        "]\n",
        "document_content_description = \"Brief summary of a movie\""
      ]
    },
    {
      "cell_type": "code",
      "execution_count": null,
      "metadata": {},
      "outputs": [],
      "source": [
        "llm = OpenAI(temperature=0)\n",
        "retriever = SelfQueryRetriever.from_llm(\n",
        "    llm, vectorstore, document_content_description, metadata_field_info, verbose=True\n",
        ")"
      ]
    },
    {
      "cell_type": "markdown",
      "metadata": {},
      "source": [
        "## 测试一下\n现在我们可以试试实际使用我们的检索器了！"
      ]
    },
    {
      "cell_type": "code",
      "execution_count": null,
      "metadata": {},
      "outputs": [],
      "source": [
        "# This example only specifies a relevant query\n",
        "retriever.invoke(\"What are some movies about dinosaurs\")"
      ]
    },
    {
      "cell_type": "code",
      "execution_count": null,
      "metadata": {},
      "outputs": [],
      "source": [
        "# This example specifies a filter\n",
        "retriever.invoke(\"What are some highly rated movies (above 9)?\")"
      ]
    },
    {
      "cell_type": "code",
      "execution_count": null,
      "metadata": {},
      "outputs": [],
      "source": [
        "# This example only specifies a query and a filter\n",
        "retriever.invoke(\"I want to watch a movie about toys rated higher than 9\")"
      ]
    },
    {
      "cell_type": "code",
      "execution_count": null,
      "metadata": {},
      "outputs": [],
      "source": [
        "# This example specifies a composite filter\n",
        "retriever.invoke(\"What's a highly rated (above or equal 9) thriller film?\")"
      ]
    },
    {
      "cell_type": "code",
      "execution_count": null,
      "metadata": {},
      "outputs": [],
      "source": [
        "# This example specifies a query and composite filter\n",
        "retriever.invoke(\n",
        "    \"What's a movie after 1990 but before 2005 that's all about dinosaurs, \\\n",
        "    and preferably has a lot of action\"\n",
        ")"
      ]
    },
    {
      "cell_type": "markdown",
      "metadata": {},
      "source": [
        "## 过滤 k\n\n我们还可以使用自查询检索器来指定 `k`：要获取的文档数量。\n\n我们可以通过向构造函数传递 `enable_limit=True` 来实现此目的。"
      ]
    },
    {
      "cell_type": "code",
      "execution_count": null,
      "metadata": {},
      "outputs": [],
      "source": [
        "retriever = SelfQueryRetriever.from_llm(\n",
        "    llm,\n",
        "    vectorstore,\n",
        "    document_content_description,\n",
        "    metadata_field_info,\n",
        "    verbose=True,\n",
        "    enable_limit=True,\n",
        ")"
      ]
    },
    {
      "cell_type": "code",
      "execution_count": null,
      "metadata": {},
      "outputs": [],
      "source": [
        "# This example only specifies a relevant query\n",
        "retriever.invoke(\"What are two movies about dinosaurs?\")"
      ]
    }
  ],
  "metadata": {
    "kernelspec": {
      "display_name": "Python 3 (ipykernel)",
      "language": "python",
      "name": "python3"
    },
    "language_info": {
      "codemirror_mode": {
        "name": "ipython",
        "version": 3
      },
      "file_extension": ".py",
      "mimetype": "text/x-python",
      "name": "python",
      "nbconvert_exporter": "python",
      "pygments_lexer": "ipython3",
      "version": "3.10.12"
    }
  },
  "nbformat": 4,
  "nbformat_minor": 4
}