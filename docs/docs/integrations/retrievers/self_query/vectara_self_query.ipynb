{
  "cells": [
    {
      "cell_type": "markdown",
      "id": "13afcae7",
      "metadata": {},
      "source": [
        "# Vectara 自主查询\n\n[Vectara](https://vectara.com/) 是一家值得信赖的 AI 助手和代理平台，专注于为关键任务应用程序提供企业级就绪服务。\nVectara 无服务器 RAG 即服务通过易于使用的 API 提供了 RAG 的所有组件，包括：\n1. 从文件（PDF、PPT、DOCX 等）提取文本的方法\n2. 提供最先进性能的基于 ML 的分块。\n3. [Boomerang](https://vectara.com/how-boomerang-takes-retrieval-augmented-generation-to-the-next-level-via-grounded-generation/) 嵌入模型。\n4. 用于存储文本分块和嵌入向量的内部向量数据库。\n5. 一个查询服务，可自动将查询编码为嵌入，并检索最相关的文本片段，包括对[混合搜索](https://docs.vectara.com/docs/api-reference/search-apis/lexical-matching)以及多种重新排序选项的支持，例如[多语言相关性重新排序器](https://www.vectara.com/blog/deep-dive-into-vectara-multilingual-reranker-v1-state-of-the-art-reranker-across-100-languages)、[MMR](https://vectara.com/get-diverse-results-and-comprehensive-summaries-with-vectaras-mmr-reranker/)、[UDF 重新排序器](https://www.vectara.com/blog/rag-with-user-defined-functions-based-reranking/)。\n6. 一个 LLM，用于根据检索到的文档（上下文）创建[生成性摘要](https://docs.vectara.com/docs/learn/grounded-generation/grounded-generation-overview)，包括引用。\n\n更多信息：\n- [文档](https://docs.vectara.com/docs/)\n- [API Playground](https://docs.vectara.com/docs/rest-api/)\n- [快速入门](https://docs.vectara.com/docs/quickstart)\n\n本 Notebook 展示了如何使用 `Vectara` 作为 `SelfQueryRetriever`。\n\n## 设置\n\n要使用 `VectaraVectorStore`，您首先需要安装相关软件包。\n"
      ]
    },
    {
      "cell_type": "code",
      "execution_count": null,
      "id": "07f3f1a4-f552-4d07-ba48-18fb5d8641c6",
      "metadata": {},
      "outputs": [],
      "source": [
        "!uv pip install -U pip && uv pip install -qU langchain-vectara"
      ]
    },
    {
      "cell_type": "markdown",
      "id": "68e75fb9",
      "metadata": {},
      "source": [
        "# 入门\n\n开始之前，请按照以下步骤操作：\n1. 如果您还没有账号，请[注册](https://www.vectara.com/integrations/langchain)免费试用 Vectara。\n2. 在您的账户中，您可以创建一个或多个语料库。每个语料库代表一个在摄取输入文档时存储文本数据的区域。要创建语料库，请使用“**创建语料库**”按钮。然后为您的语料库提供一个名称和描述。您还可以选择定义过滤属性并应用一些高级选项。如果单击您创建的语料库，您可以在顶部看到其名称和语料库 ID。\n3. 接下来，您需要创建 API 密钥来访问语料库。在语料库视图中单击“**访问控制**”选项卡，然后单击“**创建 API 密钥**”按钮。为您的密钥命名，并选择您想要查询专用权限还是查询+索引权限。单击“创建”，您现在就拥有一个活动的 API 密钥。请保密此密钥。\n\n要将 LangChain 与 Vectara 结合使用，您需要获取这两个值：`corpus_key` 和 `api_key`。\n您可以通过两种方式将 `VECTARA_API_KEY` 提供给 LangChain：\n\n1. 在您的环境中包含这两个变量：`VECTARA_API_KEY`。\n\n   例如，您可以使用 os.environ 和 getpass 进行如下设置：\n\n```python\nimport os\nimport getpass\n\nos.environ[\"VECTARA_API_KEY\"] = getpass.getpass(\"Vectara API Key:\")\n```\n\n2. 将它们添加到 `Vectara` vectorstore 构造函数中：\n\n```python\nvectara = Vectara(\n    vectara_api_key=vectara_api_key\n)\n```\n\n在本笔记本中，我们假设它们已在环境中提供。"
      ]
    },
    {
      "cell_type": "markdown",
      "id": "742ac16d",
      "metadata": {},
      "source": [
        "## 从 LangChain 连接到 Vectara\n\n在此示例中，我们假设您已创建帐户和语料库，并将 `VECTARA_CORPUS_KEY` 和 `VECTARA_API_KEY`（已授予索引和查询权限）设置为环境变量。\n\n我们进一步假设该语料库定义了 4 个字段作为可过滤的元数据属性：`year`、`director`、`rating` 和 `genre`。"
      ]
    },
    {
      "cell_type": "code",
      "execution_count": 2,
      "id": "9d3aa44f",
      "metadata": {},
      "outputs": [],
      "source": [
        "import os\n",
        "\n",
        "from langchain_core.documents import Document\n",
        "\n",
        "os.environ[\"VECTARA_API_KEY\"] = \"VECTARA_API_KEY\"\n",
        "os.environ[\"VECTARA_CORPUS_KEY\"] = \"VECTARA_CORPUS_KEY\"\n",
        "\n",
        "from langchain_vectara import Vectara"
      ]
    },
    {
      "cell_type": "markdown",
      "id": "13a6be33-de3c-4628-acc8-b94102c275b7",
      "metadata": {},
      "source": [
        "## 数据集\n\n我们首先定义一个电影示例数据集，并将其与元数据一起上传到语料库："
      ]
    },
    {
      "cell_type": "code",
      "execution_count": 6,
      "id": "bcbe04d9",
      "metadata": {
        "tags": []
      },
      "outputs": [],
      "source": [
        "docs = [\n",
        "    Document(\n",
        "        page_content=\"A bunch of scientists bring back dinosaurs and mayhem breaks loose\",\n",
        "        metadata={\"year\": 1993, \"rating\": 7.7, \"genre\": \"science fiction\"},\n",
        "    ),\n",
        "    Document(\n",
        "        page_content=\"Leo DiCaprio gets lost in a dream within a dream within a dream within a ...\",\n",
        "        metadata={\"year\": 2010, \"director\": \"Christopher Nolan\", \"rating\": 8.2},\n",
        "    ),\n",
        "    Document(\n",
        "        page_content=\"A psychologist / detective gets lost in a series of dreams within dreams within dreams and Inception reused the idea\",\n",
        "        metadata={\"year\": 2006, \"director\": \"Satoshi Kon\", \"rating\": 8.6},\n",
        "    ),\n",
        "    Document(\n",
        "        page_content=\"A bunch of normal-sized women are supremely wholesome and some men pine after them\",\n",
        "        metadata={\"year\": 2019, \"director\": \"Greta Gerwig\", \"rating\": 8.3},\n",
        "    ),\n",
        "    Document(\n",
        "        page_content=\"Toys come alive and have a blast doing so\",\n",
        "        metadata={\"year\": 1995, \"genre\": \"animated\"},\n",
        "    ),\n",
        "    Document(\n",
        "        page_content=\"Three men walk into the Zone, three men walk out of the Zone\",\n",
        "        metadata={\n",
        "            \"year\": 1979,\n",
        "            \"rating\": 9.9,\n",
        "            \"director\": \"Andrei Tarkovsky\",\n",
        "            \"genre\": \"science fiction\",\n",
        "        },\n",
        "    ),\n",
        "]\n",
        "\n",
        "corpus_key = os.getenv(\"VECTARA_CORPUS_KEY\")\n",
        "vectara = Vectara()\n",
        "for doc in docs:\n",
        "    vectara.add_texts(\n",
        "        [doc.page_content], corpus_key=corpus_key, doc_metadata=doc.metadata\n",
        "    )"
      ]
    },
    {
      "cell_type": "markdown",
      "id": "5ecaab6d",
      "metadata": {},
      "source": [
        "## 使用 Vectara 进行自查询\n您无需通过 LangChain 机制进行自查询——在 Vectara 平台上启用 `intelligent_query_rewriting` 即可达到相同的结果。\nVectara 提供智能查询重写选项，该选项通过从自然语言查询自动生成元数据过滤器表达式来提高搜索精度。此功能分析用户查询，提取相关的元数据过滤器，并重写查询以专注于核心信息需求。更多[详情](https://docs.vectara.com/docs/search-and-retrieval/intelligent-query-rewriting)。\n\n通过将 `VectaraQueryConfig` 中的 `intelligent_query_rewriting` 参数设置为 `true`，按每次查询启用智能查询重写。"
      ]
    },
    {
      "cell_type": "code",
      "execution_count": 7,
      "id": "86e34dbf",
      "metadata": {
        "tags": []
      },
      "outputs": [],
      "source": [
        "from langchain_vectara.vectorstores import (\n",
        "    CorpusConfig,\n",
        "    SearchConfig,\n",
        "    VectaraQueryConfig,\n",
        ")\n",
        "\n",
        "config = VectaraQueryConfig(\n",
        "    search=SearchConfig(corpora=[CorpusConfig(corpus_key=corpus_key)]),\n",
        "    generation=None,\n",
        "    intelligent_query_rewriting=True,\n",
        ")"
      ]
    },
    {
      "cell_type": "markdown",
      "id": "ea9df8d4",
      "metadata": {},
      "source": [
        "## 查询\n现在我们可以尝试实际使用我们的 vectara_queries 方法了！"
      ]
    },
    {
      "cell_type": "code",
      "execution_count": 8,
      "id": "38a126e9",
      "metadata": {},
      "outputs": [
        {
          "data": {
            "text/plain": [
              "[(Document(metadata={'year': 1995, 'genre': 'animated', 'source': 'langchain'}, page_content='Toys come alive and have a blast doing so'),\n",
              "  0.4141285717487335),\n",
              " (Document(metadata={'year': 1979, 'rating': 9.9, 'director': 'Andrei Tarkovsky', 'genre': 'science fiction', 'source': 'langchain'}, page_content='Three men walk into the Zone, three men walk out of the Zone'),\n",
              "  0.4046250879764557),\n",
              " (Document(metadata={'year': 2010, 'director': 'Christopher Nolan', 'rating': 8.2, 'source': 'langchain'}, page_content='Leo DiCaprio gets lost in a dream within a dream within a dream within a ...'),\n",
              "  0.227469339966774),\n",
              " (Document(metadata={'year': 2019, 'director': 'Greta Gerwig', 'rating': 8.3, 'source': 'langchain'}, page_content='A bunch of normal-sized women are supremely wholesome and some men pine after them'),\n",
              "  0.19208428263664246),\n",
              " (Document(metadata={'year': 1993, 'rating': 7.7, 'genre': 'science fiction', 'source': 'langchain'}, page_content='A bunch of scientists bring back dinosaurs and mayhem breaks loose'),\n",
              "  0.1902722418308258),\n",
              " (Document(metadata={'year': 2006, 'director': 'Satoshi Kon', 'rating': 8.6, 'source': 'langchain'}, page_content='A psychologist / detective gets lost in a series of dreams within dreams within dreams and Inception reused the idea'),\n",
              "  0.08151976019144058)]"
            ]
          },
          "execution_count": 8,
          "metadata": {},
          "output_type": "execute_result"
        }
      ],
      "source": [
        "# This example only specifies a relevant query\n",
        "vectara.vectara_query(\"What are movies about scientists\", config)"
      ]
    },
    {
      "cell_type": "code",
      "execution_count": 9,
      "id": "fc3f1e6e",
      "metadata": {},
      "outputs": [
        {
          "data": {
            "text/plain": [
              "[(Document(metadata={'year': 2006, 'director': 'Satoshi Kon', 'rating': 8.6, 'source': 'langchain'}, page_content='A psychologist / detective gets lost in a series of dreams within dreams within dreams and Inception reused the idea'),\n",
              "  0.34279149770736694),\n",
              " (Document(metadata={'year': 1979, 'rating': 9.9, 'director': 'Andrei Tarkovsky', 'genre': 'science fiction', 'source': 'langchain'}, page_content='Three men walk into the Zone, three men walk out of the Zone'),\n",
              "  0.242923304438591)]"
            ]
          },
          "execution_count": 9,
          "metadata": {},
          "output_type": "execute_result"
        }
      ],
      "source": [
        "# This example only specifies a filter\n",
        "vectara.vectara_query(\"I want to watch a movie rated higher than 8.5\", config)"
      ]
    },
    {
      "cell_type": "code",
      "execution_count": 12,
      "id": "b19d4da0",
      "metadata": {},
      "outputs": [
        {
          "data": {
            "text/plain": [
              "[(Document(metadata={'year': 2019, 'director': 'Greta Gerwig', 'rating': 8.3, 'source': 'langchain'}, page_content='A bunch of normal-sized women are supremely wholesome and some men pine after them'),\n",
              "  0.10141132771968842)]"
            ]
          },
          "execution_count": 12,
          "metadata": {},
          "output_type": "execute_result"
        }
      ],
      "source": [
        "# This example specifies a query and a filter\n",
        "vectara.vectara_query(\"Has Greta Gerwig directed any movies about women\", config)"
      ]
    },
    {
      "cell_type": "code",
      "execution_count": 14,
      "id": "f900e40e",
      "metadata": {},
      "outputs": [
        {
          "data": {
            "text/plain": [
              "[(Document(metadata={'year': 1979, 'rating': 9.9, 'director': 'Andrei Tarkovsky', 'genre': 'science fiction', 'source': 'langchain'}, page_content='Three men walk into the Zone, three men walk out of the Zone'),\n",
              "  0.9508692026138306)]"
            ]
          },
          "execution_count": 14,
          "metadata": {},
          "output_type": "execute_result"
        }
      ],
      "source": [
        "# This example specifies a composite filter\n",
        "vectara.vectara_query(\"What's a highly rated (above 8.5) science fiction film?\", config)"
      ]
    },
    {
      "cell_type": "code",
      "execution_count": 15,
      "id": "12a51522",
      "metadata": {},
      "outputs": [
        {
          "data": {
            "text/plain": [
              "[(Document(metadata={'year': 1995, 'genre': 'animated', 'source': 'langchain'}, page_content='Toys come alive and have a blast doing so'),\n",
              "  0.7290377616882324),\n",
              " (Document(metadata={'year': 1993, 'rating': 7.7, 'genre': 'science fiction', 'source': 'langchain'}, page_content='A bunch of scientists bring back dinosaurs and mayhem breaks loose'),\n",
              "  0.4838160574436188)]"
            ]
          },
          "execution_count": 15,
          "metadata": {},
          "output_type": "execute_result"
        }
      ],
      "source": [
        "# This example specifies a query and composite filter\n",
        "vectara.vectara_query(\n",
        "    \"What's a movie after 1990 but before 2005 that's all about toys, and preferably is animated\",\n",
        "    config,\n",
        ")"
      ]
    },
    {
      "cell_type": "code",
      "execution_count": null,
      "id": "ed4b9dbc-e3cd-442d-b108-705295f51fa1",
      "metadata": {},
      "outputs": [],
      "source": []
    }
  ],
  "metadata": {
    "kernelspec": {
      "display_name": "Python 3 (ipykernel)",
      "language": "python",
      "name": "python3"
    },
    "language_info": {
      "codemirror_mode": {
        "name": "ipython",
        "version": 3
      },
      "file_extension": ".py",
      "mimetype": "text/x-python",
      "name": "python",
      "nbconvert_exporter": "python",
      "pygments_lexer": "ipython3",
      "version": "3.12.0"
    }
  },
  "nbformat": 4,
  "nbformat_minor": 5
}