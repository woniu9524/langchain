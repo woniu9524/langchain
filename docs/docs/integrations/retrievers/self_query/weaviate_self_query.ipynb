{
  "cells": [
    {
      "cell_type": "markdown",
      "id": "13afcae7",
      "metadata": {},
      "source": [
        "# Weaviate\n\n>[Weaviate](https://weaviate.io/) 是一个开源向量数据库。它允许您存储来自您喜爱的机器学习模型的\n>数据对象和向量嵌入，并能无缝扩展到数十亿个数据对象。\n\n在本笔记本中，我们将演示围绕 `Weaviate` 向量存储包装的 `SelfQueryRetriever`。"
      ]
    },
    {
      "cell_type": "markdown",
      "id": "68e75fb9",
      "metadata": {},
      "source": [
        "## 创建 Weaviate 向量存储\n首先，我们将创建 Weaviate 向量存储并为其填充一些数据。我们创建了一个小型演示文档集，其中包含电影摘要。\n\n**注意：** 自查询检索器要求您安装 `lark`（`pip install lark`）。我们还需要 `weaviate-client` 包。"
      ]
    },
    {
      "cell_type": "code",
      "execution_count": null,
      "id": "63a8af5b",
      "metadata": {
        "tags": []
      },
      "outputs": [],
      "source": [
        "%pip install --upgrade --quiet  lark weaviate-client"
      ]
    },
    {
      "cell_type": "code",
      "execution_count": 10,
      "id": "cb4a5787",
      "metadata": {
        "tags": []
      },
      "outputs": [],
      "source": [
        "from langchain_community.vectorstores import Weaviate\n",
        "from langchain_core.documents import Document\n",
        "from langchain_openai import OpenAIEmbeddings\n",
        "\n",
        "embeddings = OpenAIEmbeddings()"
      ]
    },
    {
      "cell_type": "code",
      "execution_count": 22,
      "id": "bcbe04d9",
      "metadata": {
        "tags": []
      },
      "outputs": [],
      "source": [
        "docs = [\n",
        "    Document(\n",
        "        page_content=\"A bunch of scientists bring back dinosaurs and mayhem breaks loose\",\n",
        "        metadata={\"year\": 1993, \"rating\": 7.7, \"genre\": \"science fiction\"},\n",
        "    ),\n",
        "    Document(\n",
        "        page_content=\"Leo DiCaprio gets lost in a dream within a dream within a dream within a ...\",\n",
        "        metadata={\"year\": 2010, \"director\": \"Christopher Nolan\", \"rating\": 8.2},\n",
        "    ),\n",
        "    Document(\n",
        "        page_content=\"A psychologist / detective gets lost in a series of dreams within dreams within dreams and Inception reused the idea\",\n",
        "        metadata={\"year\": 2006, \"director\": \"Satoshi Kon\", \"rating\": 8.6},\n",
        "    ),\n",
        "    Document(\n",
        "        page_content=\"A bunch of normal-sized women are supremely wholesome and some men pine after them\",\n",
        "        metadata={\"year\": 2019, \"director\": \"Greta Gerwig\", \"rating\": 8.3},\n",
        "    ),\n",
        "    Document(\n",
        "        page_content=\"Toys come alive and have a blast doing so\",\n",
        "        metadata={\"year\": 1995, \"genre\": \"animated\"},\n",
        "    ),\n",
        "    Document(\n",
        "        page_content=\"Three men walk into the Zone, three men walk out of the Zone\",\n",
        "        metadata={\n",
        "            \"year\": 1979,\n",
        "            \"director\": \"Andrei Tarkovsky\",\n",
        "            \"genre\": \"science fiction\",\n",
        "            \"rating\": 9.9,\n",
        "        },\n",
        "    ),\n",
        "]\n",
        "vectorstore = Weaviate.from_documents(\n",
        "    docs, embeddings, weaviate_url=\"http://127.0.0.1:8080\"\n",
        ")"
      ]
    },
    {
      "cell_type": "markdown",
      "id": "5ecaab6d",
      "metadata": {},
      "source": [
        "## 创建我们自查询检索器\n现在我们可以实例化我们的检索器了。为此，我们需要预先提供一些关于我们的文档支持的元数据字段以及文档内容的简短描述的信息。"
      ]
    },
    {
      "cell_type": "code",
      "execution_count": 23,
      "id": "86e34dbf",
      "metadata": {
        "tags": []
      },
      "outputs": [],
      "source": [
        "from langchain.chains.query_constructor.schema import AttributeInfo\n",
        "from langchain.retrievers.self_query.base import SelfQueryRetriever\n",
        "from langchain_openai import OpenAI\n",
        "\n",
        "metadata_field_info = [\n",
        "    AttributeInfo(\n",
        "        name=\"genre\",\n",
        "        description=\"The genre of the movie\",\n",
        "        type=\"string or list[string]\",\n",
        "    ),\n",
        "    AttributeInfo(\n",
        "        name=\"year\",\n",
        "        description=\"The year the movie was released\",\n",
        "        type=\"integer\",\n",
        "    ),\n",
        "    AttributeInfo(\n",
        "        name=\"director\",\n",
        "        description=\"The name of the movie director\",\n",
        "        type=\"string\",\n",
        "    ),\n",
        "    AttributeInfo(\n",
        "        name=\"rating\", description=\"A 1-10 rating for the movie\", type=\"float\"\n",
        "    ),\n",
        "]\n",
        "document_content_description = \"Brief summary of a movie\"\n",
        "llm = OpenAI(temperature=0)\n",
        "retriever = SelfQueryRetriever.from_llm(\n",
        "    llm, vectorstore, document_content_description, metadata_field_info, verbose=True\n",
        ")"
      ]
    },
    {
      "cell_type": "markdown",
      "id": "ea9df8d4",
      "metadata": {},
      "source": [
        "## 测试一下\n现在我们可以尝试实际使用我们的检索器了！"
      ]
    },
    {
      "cell_type": "code",
      "execution_count": 24,
      "id": "38a126e9",
      "metadata": {},
      "outputs": [
        {
          "name": "stdout",
          "output_type": "stream",
          "text": [
            "query='dinosaur' filter=None limit=None\n"
          ]
        },
        {
          "data": {
            "text/plain": [
              "[Document(page_content='A bunch of scientists bring back dinosaurs and mayhem breaks loose', metadata={'genre': 'science fiction', 'rating': 7.7, 'year': 1993}),\n",
              " Document(page_content='Toys come alive and have a blast doing so', metadata={'genre': 'animated', 'rating': None, 'year': 1995}),\n",
              " Document(page_content='Three men walk into the Zone, three men walk out of the Zone', metadata={'genre': 'science fiction', 'rating': 9.9, 'year': 1979}),\n",
              " Document(page_content='A psychologist / detective gets lost in a series of dreams within dreams within dreams and Inception reused the idea', metadata={'genre': None, 'rating': 8.6, 'year': 2006})]"
            ]
          },
          "execution_count": 24,
          "metadata": {},
          "output_type": "execute_result"
        }
      ],
      "source": [
        "# This example only specifies a relevant query\n",
        "retriever.invoke(\"What are some movies about dinosaurs\")"
      ]
    },
    {
      "cell_type": "code",
      "execution_count": 26,
      "id": "b19d4da0",
      "metadata": {},
      "outputs": [
        {
          "name": "stdout",
          "output_type": "stream",
          "text": [
            "query='women' filter=Comparison(comparator=<Comparator.EQ: 'eq'>, attribute='director', value='Greta Gerwig') limit=None\n"
          ]
        },
        {
          "data": {
            "text/plain": [
              "[Document(page_content='A bunch of normal-sized women are supremely wholesome and some men pine after them', metadata={'genre': None, 'rating': 8.3, 'year': 2019})]"
            ]
          },
          "execution_count": 26,
          "metadata": {},
          "output_type": "execute_result"
        }
      ],
      "source": [
        "# This example specifies a query and a filter\n",
        "retriever.invoke(\"Has Greta Gerwig directed any movies about women\")"
      ]
    },
    {
      "cell_type": "markdown",
      "id": "39bd1de1-b9fe-4a98-89da-58d8a7a6ae51",
      "metadata": {},
      "source": [
        "## 筛选 k\n\n我们也可以使用自查询检索器来指定 `k`：即要获取的文档数量。\n\n我们可以在构造函数中传递 `enable_limit=True` 来实现这一点。"
      ]
    },
    {
      "cell_type": "code",
      "execution_count": 27,
      "id": "bff36b88-b506-4877-9c63-e5a1a8d78e64",
      "metadata": {
        "tags": []
      },
      "outputs": [],
      "source": [
        "retriever = SelfQueryRetriever.from_llm(\n",
        "    llm,\n",
        "    vectorstore,\n",
        "    document_content_description,\n",
        "    metadata_field_info,\n",
        "    enable_limit=True,\n",
        "    verbose=True,\n",
        ")"
      ]
    },
    {
      "cell_type": "code",
      "execution_count": 28,
      "id": "2758d229-4f97-499c-819f-888acaf8ee10",
      "metadata": {
        "tags": []
      },
      "outputs": [
        {
          "name": "stdout",
          "output_type": "stream",
          "text": [
            "query='dinosaur' filter=None limit=2\n"
          ]
        },
        {
          "data": {
            "text/plain": [
              "[Document(page_content='A bunch of scientists bring back dinosaurs and mayhem breaks loose', metadata={'genre': 'science fiction', 'rating': 7.7, 'year': 1993}),\n",
              " Document(page_content='Toys come alive and have a blast doing so', metadata={'genre': 'animated', 'rating': None, 'year': 1995})]"
            ]
          },
          "execution_count": 28,
          "metadata": {},
          "output_type": "execute_result"
        }
      ],
      "source": [
        "# This example only specifies a relevant query\n",
        "retriever.invoke(\"what are two movies about dinosaurs\")"
      ]
    }
  ],
  "metadata": {
    "kernelspec": {
      "display_name": "Python 3 (ipykernel)",
      "language": "python",
      "name": "python3"
    },
    "language_info": {
      "codemirror_mode": {
        "name": "ipython",
        "version": 3
      },
      "file_extension": ".py",
      "mimetype": "text/x-python",
      "name": "python",
      "nbconvert_exporter": "python",
      "pygments_lexer": "ipython3",
      "version": "3.10.12"
    }
  },
  "nbformat": 4,
  "nbformat_minor": 5
}