{
  "cells": [
    {
      "cell_type": "markdown",
      "id": "13afcae7",
      "metadata": {},
      "source": [
        "# MyScale\n\n>[MyScale](https://docs.myscale.com/en/) 是一个集成的数据库。你可以通过 SQL 和 LangChain 访问你的数据库。\n>`MyScale` 可以利用[各种数据类型和函数进行过滤](https://blog.myscale.com/2023/06/06/why-integrated-database-solution-can-boost-your-llm-apps/#filter-on-anything-without-constraints)。无论你是扩展数据还是将系统扩展到更广泛的应用，它都能提升你的 LLM 应用。\n\n在本 notebook 中，我们将演示围绕 `MyScale` 向量存储包装的 `SelfQueryRetriever`，以及我们为 LangChain 贡献的一些额外功能。\n\n简而言之，可以归纳为 4 点：\n1. 添加 `contain` 比较器，以匹配包含一个以上元素的列表\n2. 添加 `timestamp` 数据类型以进行日期时间匹配（ISO 格式或 YYYY-MM-DD）\n3. 添加 `like` 比较器以进行字符串模式搜索\n4. 添加任意函数功能"
      ]
    },
    {
      "cell_type": "markdown",
      "id": "68e75fb9",
      "metadata": {},
      "source": [
        "## 创建 MyScale 向量存储\nMyScale 已集成到 LangChain 中一段时间了。因此，您可以按照[本笔记本](/docs/integrations/vectorstores/myscale)创建自己的向量存储以用于自查询检索器。\n\n**注意：**所有自查询检索器都需要安装 `lark` (`pip install lark`)。我们使用 `lark` 进行语法定义。在进行下一步之前，我们还要提醒您，还需要 `clickhouse-connect` 来与您的 MyScale 后端进行交互。"
      ]
    },
    {
      "cell_type": "code",
      "execution_count": null,
      "id": "63a8af5b",
      "metadata": {
        "tags": []
      },
      "outputs": [],
      "source": [
        "%pip install --upgrade --quiet  lark clickhouse-connect"
      ]
    },
    {
      "cell_type": "markdown",
      "id": "83811610-7df3-4ede-b268-68a6a83ba9e2",
      "metadata": {},
      "source": [
        "在本教程中，我们遵循其他示例的设置并使用 `OpenAIEmbeddings`。请记住，您需要获取一个 OpenAI API 密钥才能有效访问 LLMs。"
      ]
    },
    {
      "cell_type": "code",
      "execution_count": null,
      "id": "dd01b61b-7d32-4a55-85d6-b2d2d4f18840",
      "metadata": {
        "tags": []
      },
      "outputs": [],
      "source": [
        "import getpass\n",
        "import os\n",
        "\n",
        "if \"OPENAI_API_KEY\" not in os.environ:\n",
        "    os.environ[\"OPENAI_API_KEY\"] = getpass.getpass(\"OpenAI API Key:\")\n",
        "if \"MYSCALE_HOST\" not in os.environ:\n",
        "    os.environ[\"MYSCALE_HOST\"] = getpass.getpass(\"MyScale URL:\")\n",
        "if \"MYSCALE_PORT\" not in os.environ:\n",
        "    os.environ[\"MYSCALE_PORT\"] = getpass.getpass(\"MyScale Port:\")\n",
        "if \"MYSCALE_USERNAME\" not in os.environ:\n",
        "    os.environ[\"MYSCALE_USERNAME\"] = getpass.getpass(\"MyScale Username:\")\n",
        "if \"MYSCALE_PASSWORD\" not in os.environ:\n",
        "    os.environ[\"MYSCALE_PASSWORD\"] = getpass.getpass(\"MyScale Password:\")"
      ]
    },
    {
      "cell_type": "code",
      "execution_count": null,
      "id": "cb4a5787",
      "metadata": {
        "tags": []
      },
      "outputs": [],
      "source": [
        "from langchain_community.vectorstores import MyScale\n",
        "from langchain_core.documents import Document\n",
        "from langchain_openai import OpenAIEmbeddings\n",
        "\n",
        "embeddings = OpenAIEmbeddings()"
      ]
    },
    {
      "cell_type": "markdown",
      "id": "bf7f6fc4",
      "metadata": {},
      "source": [
        "## 创建一些示例数据\n正如你所见，我们创建的数据与其他的 self-query retrievers 相比有一些不同之处。我们将关键字 `year` 替换为 `date`，这让你对时间戳有更精细化的控制。我们还将关键字 `gerne` 的类型更改为字符串列表，在这里，LLM 可以使用新的 `contain` 比较器来构建过滤器。我们还为过滤器提供了 `like` 比较器和任意函数支持，这些将在接下来的几个单元格中介绍。\n\n现在让我们先看看数据。"
      ]
    },
    {
      "cell_type": "code",
      "execution_count": null,
      "id": "bcbe04d9",
      "metadata": {
        "tags": []
      },
      "outputs": [],
      "source": [
        "docs = [\n",
        "    Document(\n",
        "        page_content=\"A bunch of scientists bring back dinosaurs and mayhem breaks loose\",\n",
        "        metadata={\"date\": \"1993-07-02\", \"rating\": 7.7, \"genre\": [\"science fiction\"]},\n",
        "    ),\n",
        "    Document(\n",
        "        page_content=\"Leo DiCaprio gets lost in a dream within a dream within a dream within a ...\",\n",
        "        metadata={\"date\": \"2010-12-30\", \"director\": \"Christopher Nolan\", \"rating\": 8.2},\n",
        "    ),\n",
        "    Document(\n",
        "        page_content=\"A psychologist / detective gets lost in a series of dreams within dreams within dreams and Inception reused the idea\",\n",
        "        metadata={\"date\": \"2006-04-23\", \"director\": \"Satoshi Kon\", \"rating\": 8.6},\n",
        "    ),\n",
        "    Document(\n",
        "        page_content=\"A bunch of normal-sized women are supremely wholesome and some men pine after them\",\n",
        "        metadata={\"date\": \"2019-08-22\", \"director\": \"Greta Gerwig\", \"rating\": 8.3},\n",
        "    ),\n",
        "    Document(\n",
        "        page_content=\"Toys come alive and have a blast doing so\",\n",
        "        metadata={\"date\": \"1995-02-11\", \"genre\": [\"animated\"]},\n",
        "    ),\n",
        "    Document(\n",
        "        page_content=\"Three men walk into the Zone, three men walk out of the Zone\",\n",
        "        metadata={\n",
        "            \"date\": \"1979-09-10\",\n",
        "            \"director\": \"Andrei Tarkovsky\",\n",
        "            \"genre\": [\"science fiction\", \"adventure\"],\n",
        "            \"rating\": 9.9,\n",
        "        },\n",
        "    ),\n",
        "]\n",
        "vectorstore = MyScale.from_documents(\n",
        "    docs,\n",
        "    embeddings,\n",
        ")"
      ]
    },
    {
      "cell_type": "markdown",
      "id": "5ecaab6d",
      "metadata": {},
      "source": [
        "## 创建我们的自查询检索器\n就像其他检索器一样……简单而nice。"
      ]
    },
    {
      "cell_type": "code",
      "execution_count": null,
      "id": "86e34dbf",
      "metadata": {
        "tags": []
      },
      "outputs": [],
      "source": [
        "from langchain.chains.query_constructor.schema import AttributeInfo\n",
        "from langchain.retrievers.self_query.base import SelfQueryRetriever\n",
        "from langchain_openai import ChatOpenAI\n",
        "\n",
        "metadata_field_info = [\n",
        "    AttributeInfo(\n",
        "        name=\"genre\",\n",
        "        description=\"The genres of the movie. \"\n",
        "        \"It only supports equal and contain comparisons. \"\n",
        "        \"Here are some examples: genre = [' A '], genre = [' A ', 'B'], contain (genre, 'A')\",\n",
        "        type=\"list[string]\",\n",
        "    ),\n",
        "    # If you want to include length of a list, just define it as a new column\n",
        "    # This will teach the LLM to use it as a column when constructing filter.\n",
        "    AttributeInfo(\n",
        "        name=\"length(genre)\",\n",
        "        description=\"The length of genres of the movie\",\n",
        "        type=\"integer\",\n",
        "    ),\n",
        "    # Now you can define a column as timestamp. By simply set the type to timestamp.\n",
        "    AttributeInfo(\n",
        "        name=\"date\",\n",
        "        description=\"The date the movie was released\",\n",
        "        type=\"timestamp\",\n",
        "    ),\n",
        "    AttributeInfo(\n",
        "        name=\"director\",\n",
        "        description=\"The name of the movie director\",\n",
        "        type=\"string\",\n",
        "    ),\n",
        "    AttributeInfo(\n",
        "        name=\"rating\", description=\"A 1-10 rating for the movie\", type=\"float\"\n",
        "    ),\n",
        "]\n",
        "document_content_description = \"Brief summary of a movie\"\n",
        "llm = ChatOpenAI(temperature=0, model_name=\"gpt-4o\")\n",
        "retriever = SelfQueryRetriever.from_llm(\n",
        "    llm, vectorstore, document_content_description, metadata_field_info, verbose=True\n",
        ")"
      ]
    },
    {
      "cell_type": "markdown",
      "id": "ea9df8d4",
      "metadata": {},
      "source": [
        "## 使用自查询检索器的现有功能进行测试\n现在我们可以尝试实际使用我们的检索器了！"
      ]
    },
    {
      "cell_type": "code",
      "execution_count": null,
      "id": "38a126e9",
      "metadata": {},
      "outputs": [],
      "source": [
        "# This example only specifies a relevant query\n",
        "retriever.invoke(\"What are some movies about dinosaurs\")"
      ]
    },
    {
      "cell_type": "code",
      "execution_count": null,
      "id": "fc3f1e6e",
      "metadata": {},
      "outputs": [],
      "source": [
        "# This example only specifies a filter\n",
        "retriever.invoke(\"I want to watch a movie rated higher than 8.5\")"
      ]
    },
    {
      "cell_type": "code",
      "execution_count": null,
      "id": "b19d4da0",
      "metadata": {},
      "outputs": [],
      "source": [
        "# This example specifies a query and a filter\n",
        "retriever.invoke(\"Has Greta Gerwig directed any movies about women\")"
      ]
    },
    {
      "cell_type": "code",
      "execution_count": null,
      "id": "f900e40e",
      "metadata": {},
      "outputs": [],
      "source": [
        "# This example specifies a composite filter\n",
        "retriever.invoke(\"What's a highly rated (above 8.5) science fiction film?\")"
      ]
    },
    {
      "cell_type": "code",
      "execution_count": null,
      "id": "12a51522",
      "metadata": {},
      "outputs": [],
      "source": [
        "# This example specifies a query and composite filter\n",
        "retriever.invoke(\n",
        "    \"What's a movie after 1990 but before 2005 that's all about toys, and preferably is animated\"\n",
        ")"
      ]
    },
    {
      "cell_type": "markdown",
      "id": "86371ac8",
      "metadata": {},
      "source": [
        "# 等等……还有什么？\n\n带有 MyScale 的自查询检索器还能做更多！让我们一起来看看吧。"
      ]
    },
    {
      "cell_type": "code",
      "execution_count": null,
      "id": "1d043096",
      "metadata": {},
      "outputs": [],
      "source": [
        "# You can use length(genres) to do anything you want\n",
        "retriever.invoke(\"What's a movie that have more than 1 genres?\")"
      ]
    },
    {
      "cell_type": "code",
      "execution_count": null,
      "id": "d570d33c",
      "metadata": {},
      "outputs": [],
      "source": [
        "# Fine-grained datetime? You got it already.\n",
        "retriever.invoke(\"What's a movie that release after feb 1995?\")"
      ]
    },
    {
      "cell_type": "code",
      "execution_count": null,
      "id": "fbe0b21b",
      "metadata": {},
      "outputs": [],
      "source": [
        "# Don't know what your exact filter should be? Use string pattern match!\n",
        "retriever.invoke(\"What's a movie whose name is like Andrei?\")"
      ]
    },
    {
      "cell_type": "code",
      "execution_count": null,
      "id": "6a514104",
      "metadata": {},
      "outputs": [],
      "source": [
        "# Contain works for lists: so you can match a list with contain comparator!\n",
        "retriever.invoke(\"What's a movie who has genres science fiction and adventure?\")"
      ]
    },
    {
      "cell_type": "markdown",
      "id": "39bd1de1-b9fe-4a98-89da-58d8a7a6ae51",
      "metadata": {},
      "source": [
        "## Filter k\n\n我们还可以使用 self query retriever 来指定 `k`：要获取的文档数量。\n\n我们可以通过向构造函数传递 `enable_limit=True` 来实现这一点。"
      ]
    },
    {
      "cell_type": "code",
      "execution_count": null,
      "id": "bff36b88-b506-4877-9c63-e5a1a8d78e64",
      "metadata": {
        "tags": []
      },
      "outputs": [],
      "source": [
        "retriever = SelfQueryRetriever.from_llm(\n",
        "    llm,\n",
        "    vectorstore,\n",
        "    document_content_description,\n",
        "    metadata_field_info,\n",
        "    enable_limit=True,\n",
        "    verbose=True,\n",
        ")"
      ]
    },
    {
      "cell_type": "code",
      "execution_count": null,
      "id": "2758d229-4f97-499c-819f-888acaf8ee10",
      "metadata": {
        "tags": []
      },
      "outputs": [],
      "source": [
        "# This example only specifies a relevant query\n",
        "retriever.invoke(\"what are two movies about dinosaurs\")"
      ]
    }
  ],
  "metadata": {
    "kernelspec": {
      "display_name": "Python 3 (ipykernel)",
      "language": "python",
      "name": "python3"
    },
    "language_info": {
      "codemirror_mode": {
        "name": "ipython",
        "version": 3
      },
      "file_extension": ".py",
      "mimetype": "text/x-python",
      "name": "python",
      "nbconvert_exporter": "python",
      "pygments_lexer": "ipython3",
      "version": "3.10.12"
    }
  },
  "nbformat": 4,
  "nbformat_minor": 5
}