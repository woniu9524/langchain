{
  "cells": [
    {
      "attachments": {},
      "cell_type": "markdown",
      "id": "13afcae7",
      "metadata": {},
      "source": [
        "# Deep Lake\n\n>[Deep Lake](https://www.activeloop.ai) 是一个用于构建 AI 应用程序的多模态数据库\n>[Deep Lake](https://github.com/activeloopai/deeplake) 是一个面向 AI 的数据库。\n>存储 Vectors、Images、Texts、Videos 等。可与 LLMs/LangChain 配合使用。存储、查询、管理版本\n>和可视化任何 AI 数据。实时流式传输数据到 PyTorch/TensorFlow。\n\n在本 Notebook 中，我们将演示围绕 `Deep Lake` 向量存储包装的 `SelfQueryRetriever`。"
      ]
    },
    {
      "attachments": {},
      "cell_type": "markdown",
      "id": "68e75fb9",
      "metadata": {},
      "source": [
        "## 创建 Deep Lake 向量存储\n首先，我们将创建一个 Deep Lake 向量存储并为其填充数据。我们创建了一组包含电影摘要的小型演示文档。\n\n**注意：** 自查询检索器要求你安装 `lark`（`pip install lark`）。我们还需要 `deeplake` 包。"
      ]
    },
    {
      "cell_type": "code",
      "execution_count": null,
      "id": "a798fe66",
      "metadata": {},
      "outputs": [],
      "source": [
        "%pip install --upgrade --quiet  lark"
      ]
    },
    {
      "cell_type": "code",
      "execution_count": 2,
      "id": "43821a8e",
      "metadata": {},
      "outputs": [],
      "source": [
        "# in case if some queries fail consider installing libdeeplake manually\n",
        "%pip install --upgrade --quiet  libdeeplake"
      ]
    },
    {
      "attachments": {},
      "cell_type": "markdown",
      "id": "83811610-7df3-4ede-b268-68a6a83ba9e2",
      "metadata": {},
      "source": [
        "我们想使用 `OpenAIEmbeddings`，所以我们需要获取 OpenAI API 密钥。"
      ]
    },
    {
      "cell_type": "code",
      "execution_count": 4,
      "id": "dd01b61b-7d32-4a55-85d6-b2d2d4f18840",
      "metadata": {
        "tags": []
      },
      "outputs": [],
      "source": [
        "import getpass\n",
        "import os\n",
        "\n",
        "if \"OPENAI_API_KEY\" not in os.environ:\n",
        "    os.environ[\"OPENAI_API_KEY\"] = getpass.getpass(\"OpenAI API Key:\")\n",
        "if \"ACTIVELOOP_TOKEN\" not in os.environ:\n",
        "    os.environ[\"ACTIVELOOP_TOKEN\"] = getpass.getpass(\"Activeloop token:\")"
      ]
    },
    {
      "cell_type": "code",
      "execution_count": 5,
      "id": "cb4a5787",
      "metadata": {
        "tags": []
      },
      "outputs": [],
      "source": [
        "from langchain_community.vectorstores import DeepLake\n",
        "from langchain_core.documents import Document\n",
        "from langchain_openai import OpenAIEmbeddings\n",
        "\n",
        "embeddings = OpenAIEmbeddings()"
      ]
    },
    {
      "cell_type": "code",
      "execution_count": 6,
      "id": "bcbe04d9",
      "metadata": {
        "tags": []
      },
      "outputs": [
        {
          "name": "stdout",
          "output_type": "stream",
          "text": [
            "Your Deep Lake dataset has been successfully created!\n"
          ]
        },
        {
          "name": "stderr",
          "output_type": "stream",
          "text": [
            "/"
          ]
        },
        {
          "name": "stdout",
          "output_type": "stream",
          "text": [
            "Dataset(path='hub://adilkhan/self_queery', tensors=['embedding', 'id', 'metadata', 'text'])\n",
            "\n",
            "  tensor      htype      shape     dtype  compression\n",
            "  -------    -------    -------   -------  ------- \n",
            " embedding  embedding  (6, 1536)  float32   None   \n",
            "    id        text      (6, 1)      str     None   \n",
            " metadata     json      (6, 1)      str     None   \n",
            "   text       text      (6, 1)      str     None   \n"
          ]
        },
        {
          "name": "stderr",
          "output_type": "stream",
          "text": [
            " \r"
          ]
        }
      ],
      "source": [
        "docs = [\n",
        "    Document(\n",
        "        page_content=\"A bunch of scientists bring back dinosaurs and mayhem breaks loose\",\n",
        "        metadata={\"year\": 1993, \"rating\": 7.7, \"genre\": \"science fiction\"},\n",
        "    ),\n",
        "    Document(\n",
        "        page_content=\"Leo DiCaprio gets lost in a dream within a dream within a dream within a ...\",\n",
        "        metadata={\"year\": 2010, \"director\": \"Christopher Nolan\", \"rating\": 8.2},\n",
        "    ),\n",
        "    Document(\n",
        "        page_content=\"A psychologist / detective gets lost in a series of dreams within dreams within dreams and Inception reused the idea\",\n",
        "        metadata={\"year\": 2006, \"director\": \"Satoshi Kon\", \"rating\": 8.6},\n",
        "    ),\n",
        "    Document(\n",
        "        page_content=\"A bunch of normal-sized women are supremely wholesome and some men pine after them\",\n",
        "        metadata={\"year\": 2019, \"director\": \"Greta Gerwig\", \"rating\": 8.3},\n",
        "    ),\n",
        "    Document(\n",
        "        page_content=\"Toys come alive and have a blast doing so\",\n",
        "        metadata={\"year\": 1995, \"genre\": \"animated\"},\n",
        "    ),\n",
        "    Document(\n",
        "        page_content=\"Three men walk into the Zone, three men walk out of the Zone\",\n",
        "        metadata={\n",
        "            \"year\": 1979,\n",
        "            \"director\": \"Andrei Tarkovsky\",\n",
        "            \"genre\": \"science fiction\",\n",
        "            \"rating\": 9.9,\n",
        "        },\n",
        "    ),\n",
        "]\n",
        "username_or_org = \"<USERNAME_OR_ORG>\"\n",
        "vectorstore = DeepLake.from_documents(\n",
        "    docs,\n",
        "    embeddings,\n",
        "    dataset_path=f\"hub://{username_or_org}/self_queery\",\n",
        "    overwrite=True,\n",
        ")"
      ]
    },
    {
      "attachments": {},
      "cell_type": "markdown",
      "id": "5ecaab6d",
      "metadata": {},
      "source": [
        "## 创建我们的自查询检索器\n现在我们可以实例化我们的检索器了。为此，我们需要预先提供一些关于我们的文档所支持的元数据字段的信息，以及对文档内容的简短描述。"
      ]
    },
    {
      "cell_type": "code",
      "execution_count": 7,
      "id": "c90b0b40",
      "metadata": {},
      "outputs": [],
      "source": [
        "from langchain.chains.query_constructor.schema import AttributeInfo\n",
        "from langchain.retrievers.self_query.base import SelfQueryRetriever\n",
        "from langchain_openai import OpenAI\n",
        "\n",
        "metadata_field_info = [\n",
        "    AttributeInfo(\n",
        "        name=\"genre\",\n",
        "        description=\"The genre of the movie\",\n",
        "        type=\"string or list[string]\",\n",
        "    ),\n",
        "    AttributeInfo(\n",
        "        name=\"year\",\n",
        "        description=\"The year the movie was released\",\n",
        "        type=\"integer\",\n",
        "    ),\n",
        "    AttributeInfo(\n",
        "        name=\"director\",\n",
        "        description=\"The name of the movie director\",\n",
        "        type=\"string\",\n",
        "    ),\n",
        "    AttributeInfo(\n",
        "        name=\"rating\", description=\"A 1-10 rating for the movie\", type=\"float\"\n",
        "    ),\n",
        "]\n",
        "document_content_description = \"Brief summary of a movie\"\n",
        "llm = OpenAI(temperature=0)\n",
        "retriever = SelfQueryRetriever.from_llm(\n",
        "    llm, vectorstore, document_content_description, metadata_field_info, verbose=True\n",
        ")"
      ]
    },
    {
      "attachments": {},
      "cell_type": "markdown",
      "id": "ea9df8d4",
      "metadata": {},
      "source": [
        "## 测试一下\n现在我们可以真正尝试使用我们的检索器了！"
      ]
    },
    {
      "cell_type": "code",
      "execution_count": 8,
      "id": "38a126e9",
      "metadata": {},
      "outputs": [
        {
          "name": "stderr",
          "output_type": "stream",
          "text": [
            "/home/ubuntu/langchain_activeloop/langchain/libs/langchain/langchain/chains/llm.py:279: UserWarning: The predict_and_parse method is deprecated, instead pass an output parser directly to LLMChain.\n",
            "  warnings.warn(\n"
          ]
        },
        {
          "name": "stdout",
          "output_type": "stream",
          "text": [
            "query='dinosaur' filter=None limit=None\n"
          ]
        },
        {
          "data": {
            "text/plain": [
              "[Document(page_content='A bunch of scientists bring back dinosaurs and mayhem breaks loose', metadata={'year': 1993, 'rating': 7.7, 'genre': 'science fiction'}),\n",
              " Document(page_content='Toys come alive and have a blast doing so', metadata={'year': 1995, 'genre': 'animated'}),\n",
              " Document(page_content='Three men walk into the Zone, three men walk out of the Zone', metadata={'year': 1979, 'rating': 9.9, 'director': 'Andrei Tarkovsky', 'genre': 'science fiction'}),\n",
              " Document(page_content='A psychologist / detective gets lost in a series of dreams within dreams within dreams and Inception reused the idea', metadata={'year': 2006, 'director': 'Satoshi Kon', 'rating': 8.6})]"
            ]
          },
          "execution_count": 8,
          "metadata": {},
          "output_type": "execute_result"
        }
      ],
      "source": [
        "# This example only specifies a relevant query\n",
        "retriever.invoke(\"What are some movies about dinosaurs\")"
      ]
    },
    {
      "cell_type": "code",
      "execution_count": 9,
      "id": "fc3f1e6e",
      "metadata": {},
      "outputs": [
        {
          "name": "stdout",
          "output_type": "stream",
          "text": [
            "query=' ' filter=Comparison(comparator=<Comparator.GT: 'gt'>, attribute='rating', value=8.5) limit=None\n"
          ]
        },
        {
          "data": {
            "text/plain": [
              "[Document(page_content='A psychologist / detective gets lost in a series of dreams within dreams within dreams and Inception reused the idea', metadata={'year': 2006, 'director': 'Satoshi Kon', 'rating': 8.6}),\n",
              " Document(page_content='Three men walk into the Zone, three men walk out of the Zone', metadata={'year': 1979, 'rating': 9.9, 'director': 'Andrei Tarkovsky', 'genre': 'science fiction'})]"
            ]
          },
          "execution_count": 9,
          "metadata": {},
          "output_type": "execute_result"
        }
      ],
      "source": [
        "# This example only specifies a filter\n",
        "retriever.invoke(\"I want to watch a movie rated higher than 8.5\")\n",
        "\n",
        "# in case if this example errored out, consider installing libdeeplake manually: `pip install libdeeplake`, and then restart notebook."
      ]
    },
    {
      "cell_type": "code",
      "execution_count": 10,
      "id": "b19d4da0",
      "metadata": {},
      "outputs": [
        {
          "name": "stdout",
          "output_type": "stream",
          "text": [
            "query='women' filter=Comparison(comparator=<Comparator.EQ: 'eq'>, attribute='director', value='Greta Gerwig') limit=None\n"
          ]
        },
        {
          "data": {
            "text/plain": [
              "[Document(page_content='A bunch of normal-sized women are supremely wholesome and some men pine after them', metadata={'year': 2019, 'director': 'Greta Gerwig', 'rating': 8.3})]"
            ]
          },
          "execution_count": 10,
          "metadata": {},
          "output_type": "execute_result"
        }
      ],
      "source": [
        "# This example specifies a query and a filter\n",
        "retriever.invoke(\"Has Greta Gerwig directed any movies about women\")"
      ]
    },
    {
      "cell_type": "code",
      "execution_count": 11,
      "id": "f900e40e",
      "metadata": {},
      "outputs": [
        {
          "name": "stdout",
          "output_type": "stream",
          "text": [
            "query=' ' filter=Operation(operator=<Operator.AND: 'and'>, arguments=[Comparison(comparator=<Comparator.GTE: 'gte'>, attribute='rating', value=8.5), Comparison(comparator=<Comparator.EQ: 'eq'>, attribute='genre', value='science fiction')]) limit=None\n"
          ]
        },
        {
          "data": {
            "text/plain": [
              "[Document(page_content='Three men walk into the Zone, three men walk out of the Zone', metadata={'year': 1979, 'rating': 9.9, 'director': 'Andrei Tarkovsky', 'genre': 'science fiction'})]"
            ]
          },
          "execution_count": 11,
          "metadata": {},
          "output_type": "execute_result"
        }
      ],
      "source": [
        "# This example specifies a composite filter\n",
        "retriever.invoke(\"What's a highly rated (above 8.5) science fiction film?\")"
      ]
    },
    {
      "cell_type": "code",
      "execution_count": 12,
      "id": "12a51522",
      "metadata": {},
      "outputs": [
        {
          "name": "stdout",
          "output_type": "stream",
          "text": [
            "query='toys' filter=Operation(operator=<Operator.AND: 'and'>, arguments=[Comparison(comparator=<Comparator.GT: 'gt'>, attribute='year', value=1990), Comparison(comparator=<Comparator.LT: 'lt'>, attribute='year', value=2005), Comparison(comparator=<Comparator.EQ: 'eq'>, attribute='genre', value='animated')]) limit=None\n"
          ]
        },
        {
          "data": {
            "text/plain": [
              "[Document(page_content='Toys come alive and have a blast doing so', metadata={'year': 1995, 'genre': 'animated'})]"
            ]
          },
          "execution_count": 12,
          "metadata": {},
          "output_type": "execute_result"
        }
      ],
      "source": [
        "# This example specifies a query and composite filter\n",
        "retriever.invoke(\n",
        "    \"What's a movie after 1990 but before 2005 that's all about toys, and preferably is animated\"\n",
        ")"
      ]
    },
    {
      "attachments": {},
      "cell_type": "markdown",
      "id": "39bd1de1-b9fe-4a98-89da-58d8a7a6ae51",
      "metadata": {},
      "source": [
        "## Filter k\n\n我们还可以使用 self query retriever 来指定 `k`：要获取的文档数量。\n\n我们可以通过将 `enable_limit=True` 传递给构造函数来实现此目的。"
      ]
    },
    {
      "cell_type": "code",
      "execution_count": 13,
      "id": "bff36b88-b506-4877-9c63-e5a1a8d78e64",
      "metadata": {
        "tags": []
      },
      "outputs": [],
      "source": [
        "retriever = SelfQueryRetriever.from_llm(\n",
        "    llm,\n",
        "    vectorstore,\n",
        "    document_content_description,\n",
        "    metadata_field_info,\n",
        "    enable_limit=True,\n",
        "    verbose=True,\n",
        ")"
      ]
    },
    {
      "cell_type": "code",
      "execution_count": 14,
      "id": "2758d229-4f97-499c-819f-888acaf8ee10",
      "metadata": {
        "tags": []
      },
      "outputs": [
        {
          "name": "stdout",
          "output_type": "stream",
          "text": [
            "query='dinosaur' filter=None limit=2\n"
          ]
        },
        {
          "data": {
            "text/plain": [
              "[Document(page_content='A bunch of scientists bring back dinosaurs and mayhem breaks loose', metadata={'year': 1993, 'rating': 7.7, 'genre': 'science fiction'}),\n",
              " Document(page_content='Toys come alive and have a blast doing so', metadata={'year': 1995, 'genre': 'animated'})]"
            ]
          },
          "execution_count": 14,
          "metadata": {},
          "output_type": "execute_result"
        }
      ],
      "source": [
        "# This example only specifies a relevant query\n",
        "retriever.invoke(\"what are two movies about dinosaurs\")"
      ]
    }
  ],
  "metadata": {
    "kernelspec": {
      "display_name": "Python 3 (ipykernel)",
      "language": "python",
      "name": "python3"
    },
    "language_info": {
      "codemirror_mode": {
        "name": "ipython",
        "version": 3
      },
      "file_extension": ".py",
      "mimetype": "text/x-python",
      "name": "python",
      "nbconvert_exporter": "python",
      "pygments_lexer": "ipython3",
      "version": "3.10.12"
    }
  },
  "nbformat": 4,
  "nbformat_minor": 5
}