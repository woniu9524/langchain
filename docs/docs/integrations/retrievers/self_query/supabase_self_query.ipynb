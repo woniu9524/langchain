{
  "cells": [
    {
      "cell_type": "markdown",
      "id": "13afcae7",
      "metadata": {},
      "source": [
        "# Supabase (Postgres)\n\n>[Supabase](https://supabase.com/docs) 是一个开源的 `Firebase` 替代品。\n> `Supabase` 构建在 `PostgreSQL` 之上，它提供了强大的 `SQL` 查询能力，并支持与现有工具和框架的简单集成。\n\n>[PostgreSQL](https://en.wikipedia.org/wiki/PostgreSQL)，也称为 `Postgres`，\n>是一个免费且开源的关系数据库管理系统（RDBMS），其特点是可扩展性和 `SQL` 合规性。\n>\n>[Supabase](https://supabase.com/docs/guides/ai) 提供了一个开源工具包，用于使用 Postgres 和 pgvector 开发 AI 应用程序。\n>使用 Supabase 客户端库可以大规模地存储、索引和查询您的向量嵌入。\n\n在本笔记本中，我们将演示围绕 `Supabase` 向量存储包装的 `SelfQueryRetriever`。\n\n具体来说，我们将：\n1. 创建一个 Supabase 数据库\n2. 启用 `pgvector` 扩展\n3. 创建一个 `documents` 表和 `match_documents` 函数，供 `SupabaseVectorStore` 使用\n4. 将示例文档加载到向量存储（数据库表）中\n5. 构建并测试一个自查询检索器"
      ]
    },
    {
      "cell_type": "markdown",
      "id": "347935ad",
      "metadata": {},
      "source": [
        "## 设置 Supabase 数据库\n\n1. 前往 https://database.new 预配你的 Supabase 数据库。\n2. 在 Studio 中，跳转到 [SQL 编辑器](https://supabase.com/dashboard/project/_/sql/new) 并运行以下脚本来启用 `pgvector` 并将你的数据库设置为向量存储：\n    ```sql\n    -- Enable the pgvector extension to work with embedding vectors\n    create extension if not exists vector;\n\n    -- Create a table to store your documents\n    create table\n      documents (\n        id uuid primary key,\n        content text, -- corresponds to Document.pageContent\n        metadata jsonb, -- corresponds to Document.metadata\n        embedding vector (1536) -- 1536 works for OpenAI embeddings, change if needed\n      );\n\n    -- Create a function to search for documents\n    create function match_documents (\n      query_embedding vector (1536),\n      filter jsonb default '{}'\n    ) returns table (\n      id uuid,\n      content text,\n      metadata jsonb,\n      similarity float\n    ) language plpgsql as $$\n    #variable_conflict use_column\n    begin\n      return query\n      select\n        id,\n        content,\n        metadata,\n        1 - (documents.embedding <=> query_embedding) as similarity\n      from documents\n      where metadata @> filter\n      order by documents.embedding <=> query_embedding;\n    end;\n    $$;\n    ```"
      ]
    },
    {
      "cell_type": "markdown",
      "id": "68e75fb9",
      "metadata": {},
      "source": [
        "## 创建 Supabase 向量存储\n接下来，我们将创建 Supabase 向量存储并为其填充数据。我们创建了一组包含电影摘要的小型演示文档。\n\n请确保安装最新版本的 `langchain` 并支持 `openai`："
      ]
    },
    {
      "cell_type": "code",
      "execution_count": null,
      "id": "78546fd7",
      "metadata": {},
      "outputs": [],
      "source": [
        "%pip install --upgrade --quiet  langchain langchain-openai tiktoken"
      ]
    },
    {
      "cell_type": "markdown",
      "id": "e06df198",
      "metadata": {},
      "source": [
        "self-query retriever 要求您安装 `lark`："
      ]
    },
    {
      "cell_type": "code",
      "execution_count": null,
      "id": "63a8af5b",
      "metadata": {
        "tags": []
      },
      "outputs": [],
      "source": [
        "%pip install --upgrade --quiet  lark"
      ]
    },
    {
      "cell_type": "markdown",
      "id": "114f768f",
      "metadata": {},
      "source": [
        "我们还需要 `supabase` 包："
      ]
    },
    {
      "cell_type": "code",
      "execution_count": null,
      "id": "22431060-52c4-48a7-a97b-9f542b8b0928",
      "metadata": {
        "tags": []
      },
      "outputs": [],
      "source": [
        "%pip install --upgrade --quiet  supabase"
      ]
    },
    {
      "cell_type": "markdown",
      "id": "83811610-7df3-4ede-b268-68a6a83ba9e2",
      "metadata": {},
      "source": [
        "由于我们使用了 `SupabaseVectorStore` 和 `OpenAIEmbeddings`，因此需要加载它们的 API 密钥。\n\n- 要查找你的 `SUPABASE_URL` 和 `SUPABASE_SERVICE_KEY`，请前往你的 Supabase 项目的 [API 设置](https://supabase.com/dashboard/project/_/settings/api)。\n  - `SUPABASE_URL` 对应于 Project URL\n  - `SUPABASE_SERVICE_KEY` 对应于 `service_role` API 密钥\n\n- 要获取你的 `OPENAI_API_KEY`，请前往 OpenAI 账户中的 [API keys](https://platform.openai.com/account/api-keys) 并创建一个新的密钥。"
      ]
    },
    {
      "cell_type": "code",
      "execution_count": 1,
      "id": "dd01b61b-7d32-4a55-85d6-b2d2d4f18840",
      "metadata": {
        "tags": []
      },
      "outputs": [],
      "source": [
        "import getpass\n",
        "import os\n",
        "\n",
        "if \"SUPABASE_URL\" not in os.environ:\n",
        "    os.environ[\"SUPABASE_URL\"] = getpass.getpass(\"Supabase URL:\")\n",
        "if \"SUPABASE_SERVICE_KEY\" not in os.environ:\n",
        "    os.environ[\"SUPABASE_SERVICE_KEY\"] = getpass.getpass(\"Supabase Service Key:\")\n",
        "if \"OPENAI_API_KEY\" not in os.environ:\n",
        "    os.environ[\"OPENAI_API_KEY\"] = getpass.getpass(\"OpenAI API Key:\")"
      ]
    },
    {
      "cell_type": "markdown",
      "id": "3aaf5075",
      "metadata": {},
      "source": [
        "_可选：_ 如果您将 Supabase 和 OpenAI API 密钥存储在 `.env` 文件中，您可以使用 [`dotenv`](https://github.com/theskumar/python-dotenv) 来加载它们。"
      ]
    },
    {
      "cell_type": "code",
      "execution_count": null,
      "id": "e0089221",
      "metadata": {},
      "outputs": [],
      "source": [
        "%pip install --upgrade --quiet  python-dotenv"
      ]
    },
    {
      "cell_type": "code",
      "execution_count": null,
      "id": "3d56c5ef",
      "metadata": {},
      "outputs": [],
      "source": [
        "from dotenv import load_dotenv\n",
        "\n",
        "load_dotenv()"
      ]
    },
    {
      "cell_type": "markdown",
      "id": "f6dd9aef",
      "metadata": {},
      "source": [
        "首先，我们将创建一个 Supabase 客户端，并实例化一个 OpenAI embeddings 类。"
      ]
    },
    {
      "cell_type": "code",
      "execution_count": 2,
      "id": "cb4a5787",
      "metadata": {
        "tags": []
      },
      "outputs": [],
      "source": [
        "import os\n",
        "\n",
        "from langchain_community.vectorstores import SupabaseVectorStore\n",
        "from langchain_core.documents import Document\n",
        "from langchain_openai import OpenAIEmbeddings\n",
        "from supabase.client import Client, create_client\n",
        "\n",
        "supabase_url = os.environ.get(\"SUPABASE_URL\")\n",
        "supabase_key = os.environ.get(\"SUPABASE_SERVICE_KEY\")\n",
        "supabase: Client = create_client(supabase_url, supabase_key)\n",
        "\n",
        "embeddings = OpenAIEmbeddings()"
      ]
    },
    {
      "cell_type": "markdown",
      "id": "0fca9b0b",
      "metadata": {},
      "source": [
        "接下来，我们来创建文档。"
      ]
    },
    {
      "cell_type": "code",
      "execution_count": 3,
      "id": "bcbe04d9",
      "metadata": {
        "tags": []
      },
      "outputs": [],
      "source": [
        "docs = [\n",
        "    Document(\n",
        "        page_content=\"A bunch of scientists bring back dinosaurs and mayhem breaks loose\",\n",
        "        metadata={\"year\": 1993, \"rating\": 7.7, \"genre\": \"science fiction\"},\n",
        "    ),\n",
        "    Document(\n",
        "        page_content=\"Leo DiCaprio gets lost in a dream within a dream within a dream within a ...\",\n",
        "        metadata={\"year\": 2010, \"director\": \"Christopher Nolan\", \"rating\": 8.2},\n",
        "    ),\n",
        "    Document(\n",
        "        page_content=\"A psychologist / detective gets lost in a series of dreams within dreams within dreams and Inception reused the idea\",\n",
        "        metadata={\"year\": 2006, \"director\": \"Satoshi Kon\", \"rating\": 8.6},\n",
        "    ),\n",
        "    Document(\n",
        "        page_content=\"A bunch of normal-sized women are supremely wholesome and some men pine after them\",\n",
        "        metadata={\"year\": 2019, \"director\": \"Greta Gerwig\", \"rating\": 8.3},\n",
        "    ),\n",
        "    Document(\n",
        "        page_content=\"Toys come alive and have a blast doing so\",\n",
        "        metadata={\"year\": 1995, \"genre\": \"animated\"},\n",
        "    ),\n",
        "    Document(\n",
        "        page_content=\"Three men walk into the Zone, three men walk out of the Zone\",\n",
        "        metadata={\n",
        "            \"year\": 1979,\n",
        "            \"director\": \"Andrei Tarkovsky\",\n",
        "            \"genre\": \"science fiction\",\n",
        "            \"rating\": 9.9,\n",
        "        },\n",
        "    ),\n",
        "]\n",
        "\n",
        "vectorstore = SupabaseVectorStore.from_documents(\n",
        "    docs,\n",
        "    embeddings,\n",
        "    client=supabase,\n",
        "    table_name=\"documents\",\n",
        "    query_name=\"match_documents\",\n",
        ")"
      ]
    },
    {
      "cell_type": "markdown",
      "id": "5ecaab6d",
      "metadata": {},
      "source": [
        "## 创建我们的自查询检索器\n现在我们可以实例化我们的检索器了。为此，我们需要提前提供有关我们的文档支持的元数据字段以及文档内容的简短描述的一些信息。"
      ]
    },
    {
      "cell_type": "code",
      "execution_count": 4,
      "id": "86e34dbf",
      "metadata": {
        "tags": []
      },
      "outputs": [],
      "source": [
        "from langchain.chains.query_constructor.schema import AttributeInfo\n",
        "from langchain.retrievers.self_query.base import SelfQueryRetriever\n",
        "from langchain_openai import OpenAI\n",
        "\n",
        "metadata_field_info = [\n",
        "    AttributeInfo(\n",
        "        name=\"genre\",\n",
        "        description=\"The genre of the movie\",\n",
        "        type=\"string or list[string]\",\n",
        "    ),\n",
        "    AttributeInfo(\n",
        "        name=\"year\",\n",
        "        description=\"The year the movie was released\",\n",
        "        type=\"integer\",\n",
        "    ),\n",
        "    AttributeInfo(\n",
        "        name=\"director\",\n",
        "        description=\"The name of the movie director\",\n",
        "        type=\"string\",\n",
        "    ),\n",
        "    AttributeInfo(\n",
        "        name=\"rating\", description=\"A 1-10 rating for the movie\", type=\"float\"\n",
        "    ),\n",
        "]\n",
        "document_content_description = \"Brief summary of a movie\"\n",
        "llm = OpenAI(temperature=0)\n",
        "retriever = SelfQueryRetriever.from_llm(\n",
        "    llm, vectorstore, document_content_description, metadata_field_info, verbose=True\n",
        ")"
      ]
    },
    {
      "cell_type": "markdown",
      "id": "ea9df8d4",
      "metadata": {},
      "source": [
        "## 测试一下\n现在我们可以尝试实际使用我们的检索器了！<ctrl63>"
      ]
    },
    {
      "cell_type": "code",
      "execution_count": 5,
      "id": "38a126e9",
      "metadata": {},
      "outputs": [
        {
          "name": "stdout",
          "output_type": "stream",
          "text": [
            "query='dinosaur' filter=None limit=None\n"
          ]
        },
        {
          "data": {
            "text/plain": [
              "[Document(page_content='A bunch of scientists bring back dinosaurs and mayhem breaks loose', metadata={'year': 1993, 'genre': 'science fiction', 'rating': 7.7}),\n",
              " Document(page_content='Toys come alive and have a blast doing so', metadata={'year': 1995, 'genre': 'animated'}),\n",
              " Document(page_content='Three men walk into the Zone, three men walk out of the Zone', metadata={'year': 1979, 'genre': 'science fiction', 'rating': 9.9, 'director': 'Andrei Tarkovsky'}),\n",
              " Document(page_content='A psychologist / detective gets lost in a series of dreams within dreams within dreams and Inception reused the idea', metadata={'year': 2006, 'rating': 8.6, 'director': 'Satoshi Kon'})]"
            ]
          },
          "execution_count": 5,
          "metadata": {},
          "output_type": "execute_result"
        }
      ],
      "source": [
        "# This example only specifies a relevant query\n",
        "retriever.invoke(\"What are some movies about dinosaurs\")"
      ]
    },
    {
      "cell_type": "code",
      "execution_count": 7,
      "id": "fc3f1e6e",
      "metadata": {},
      "outputs": [
        {
          "name": "stdout",
          "output_type": "stream",
          "text": [
            "query=' ' filter=Comparison(comparator=<Comparator.GT: 'gt'>, attribute='rating', value=8.5) limit=None\n"
          ]
        },
        {
          "data": {
            "text/plain": [
              "[Document(page_content='Three men walk into the Zone, three men walk out of the Zone', metadata={'year': 1979, 'genre': 'science fiction', 'rating': 9.9, 'director': 'Andrei Tarkovsky'}),\n",
              " Document(page_content='A psychologist / detective gets lost in a series of dreams within dreams within dreams and Inception reused the idea', metadata={'year': 2006, 'rating': 8.6, 'director': 'Satoshi Kon'})]"
            ]
          },
          "execution_count": 7,
          "metadata": {},
          "output_type": "execute_result"
        }
      ],
      "source": [
        "# This example only specifies a filter\n",
        "retriever.invoke(\"I want to watch a movie rated higher than 8.5\")"
      ]
    },
    {
      "cell_type": "code",
      "execution_count": 9,
      "id": "b19d4da0",
      "metadata": {},
      "outputs": [
        {
          "name": "stdout",
          "output_type": "stream",
          "text": [
            "query='women' filter=Comparison(comparator=<Comparator.EQ: 'eq'>, attribute='director', value='Greta Gerwig') limit=None\n"
          ]
        },
        {
          "data": {
            "text/plain": [
              "[Document(page_content='A bunch of normal-sized women are supremely wholesome and some men pine after them', metadata={'year': 2019, 'rating': 8.3, 'director': 'Greta Gerwig'})]"
            ]
          },
          "execution_count": 9,
          "metadata": {},
          "output_type": "execute_result"
        }
      ],
      "source": [
        "# This example specifies a query and a filter\n",
        "retriever.invoke(\"Has Greta Gerwig directed any movies about women?\")"
      ]
    },
    {
      "cell_type": "code",
      "execution_count": 8,
      "id": "f900e40e",
      "metadata": {},
      "outputs": [
        {
          "name": "stdout",
          "output_type": "stream",
          "text": [
            "query=' ' filter=Operation(operator=<Operator.AND: 'and'>, arguments=[Comparison(comparator=<Comparator.GTE: 'gte'>, attribute='rating', value=8.5), Comparison(comparator=<Comparator.EQ: 'eq'>, attribute='genre', value='science fiction')]) limit=None\n"
          ]
        },
        {
          "data": {
            "text/plain": [
              "[Document(page_content='Three men walk into the Zone, three men walk out of the Zone', metadata={'year': 1979, 'genre': 'science fiction', 'rating': 9.9, 'director': 'Andrei Tarkovsky'})]"
            ]
          },
          "execution_count": 8,
          "metadata": {},
          "output_type": "execute_result"
        }
      ],
      "source": [
        "# This example specifies a composite filter\n",
        "retriever.invoke(\"What's a highly rated (above 8.5) science fiction film?\")"
      ]
    },
    {
      "cell_type": "code",
      "execution_count": 9,
      "id": "12a51522",
      "metadata": {},
      "outputs": [
        {
          "name": "stdout",
          "output_type": "stream",
          "text": [
            "query='toys' filter=Operation(operator=<Operator.AND: 'and'>, arguments=[Comparison(comparator=<Comparator.GT: 'gt'>, attribute='year', value=1990), Comparison(comparator=<Comparator.LTE: 'lte'>, attribute='year', value=2005), Comparison(comparator=<Comparator.LIKE: 'like'>, attribute='genre', value='animated')]) limit=None\n"
          ]
        },
        {
          "data": {
            "text/plain": [
              "[Document(page_content='Toys come alive and have a blast doing so', metadata={'year': 1995, 'genre': 'animated'})]"
            ]
          },
          "execution_count": 9,
          "metadata": {},
          "output_type": "execute_result"
        }
      ],
      "source": [
        "# This example specifies a query and composite filter\n",
        "retriever.invoke(\n",
        "    \"What's a movie after 1990 but before (or on) 2005 that's all about toys, and preferably is animated\"\n",
        ")"
      ]
    },
    {
      "cell_type": "markdown",
      "id": "39bd1de1-b9fe-4a98-89da-58d8a7a6ae51",
      "metadata": {},
      "source": [
        "## Filter k\n\n我们还可以使用 self query retriever 来指定 `k`：要获取的文档数量。\n\n我们可以通过向构造函数传递 `enable_limit=True` 来实现此目的。"
      ]
    },
    {
      "cell_type": "code",
      "execution_count": 10,
      "id": "bff36b88-b506-4877-9c63-e5a1a8d78e64",
      "metadata": {
        "tags": []
      },
      "outputs": [],
      "source": [
        "retriever = SelfQueryRetriever.from_llm(\n",
        "    llm,\n",
        "    vectorstore,\n",
        "    document_content_description,\n",
        "    metadata_field_info,\n",
        "    enable_limit=True,\n",
        "    verbose=True,\n",
        ")"
      ]
    },
    {
      "cell_type": "code",
      "execution_count": 11,
      "id": "2758d229-4f97-499c-819f-888acaf8ee10",
      "metadata": {
        "tags": []
      },
      "outputs": [
        {
          "name": "stdout",
          "output_type": "stream",
          "text": [
            "query='dinosaur' filter=None limit=2\n"
          ]
        },
        {
          "data": {
            "text/plain": [
              "[Document(page_content='A bunch of scientists bring back dinosaurs and mayhem breaks loose', metadata={'year': 1993, 'genre': 'science fiction', 'rating': 7.7}),\n",
              " Document(page_content='Toys come alive and have a blast doing so', metadata={'year': 1995, 'genre': 'animated'})]"
            ]
          },
          "execution_count": 11,
          "metadata": {},
          "output_type": "execute_result"
        }
      ],
      "source": [
        "# This example only specifies a relevant query\n",
        "retriever.invoke(\"what are two movies about dinosaurs\")"
      ]
    }
  ],
  "metadata": {
    "kernelspec": {
      "display_name": "Python 3 (ipykernel)",
      "language": "python",
      "name": "python3"
    },
    "language_info": {
      "codemirror_mode": {
        "name": "ipython",
        "version": 3
      },
      "file_extension": ".py",
      "mimetype": "text/x-python",
      "name": "python",
      "nbconvert_exporter": "python",
      "pygments_lexer": "ipython3",
      "version": "3.10.12"
    }
  },
  "nbformat": 4,
  "nbformat_minor": 5
}