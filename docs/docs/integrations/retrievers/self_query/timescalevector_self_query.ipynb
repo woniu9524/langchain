{
  "cells": [
    {
      "attachments": {},
      "cell_type": "markdown",
      "id": "13afcae7",
      "metadata": {},
      "source": [
        "# Timescale Vector (Postgres) \n\n>[Timescale Vector](https://www.timescale.com/ai) 是专为 AI 应用打造的 `PostgreSQL++`。它使您能够在 `PostgreSQL` 中高效地存储和查询数十亿个向量嵌入。\n>\n>[PostgreSQL](https://en.wikipedia.org/wiki/PostgreSQL) 也称为 `Postgres`，\n>是一个免费开源的关系数据库管理系统 (RDBMS)，它强调可扩展性和 `SQL` 的兼容性。\n\n本笔记本展示了如何使用 Postgres 向量数据库 (`TimescaleVector`) 进行自查询。在笔记本中，我们将演示围绕 TimescaleVector 向量存储包装的 `SelfQueryRetriever`。\n\n## Timescale Vector 是什么？\n**[Timescale Vector](https://www.timescale.com/ai) 是专为 AI 应用打造的 PostgreSQL++。**\n\nTimescale Vector 使您能够在 `PostgreSQL` 中高效地存储和查询数百万个向量嵌入。\n- 通过受 DiskANN 启发的索引算法，在超过 10 亿个向量上实现更快、更准确的相似性搜索，从而增强 `pgvector`。\n- 通过自动基于时间的分割和索引实现快速的时间序列向量搜索。\n- 提供熟悉的 SQL 接口，用于查询向量嵌入和关系数据。\n\nTimescale Vector 是云端 PostgreSQL，专为 AI 应用而设计，可与您共同扩展，从 POC 到生产环境：\n- 通过使您能够在单个数据库中存储关系元数据、向量嵌入和时间序列数据来简化操作。\n- 受益于稳固的 PostgreSQL 基础，具备企业级功能，如流式备份和复制、高可用性和行级安全性。\n- 通过企业级安全性和合规性，带来无忧体验。\n\n## 如何访问 Timescale Vector\nTimescale Vector 可在 [Timescale](https://www.timescale.com/ai) 平台上获得，该平台是云端 PostgreSQL 平台。（目前没有自托管版本。）\n\nLangChain 用户可免费试用 Timescale Vector 90 天。\n- 要开始使用，请在 Timescale [注册](https://console.cloud.timescale.com/signup?utm_campaign=vectorlaunch&utm_source=langchain&utm_medium=referral)，创建一个新数据库，然后按照本笔记本操作！\n- 有关更多详细信息和性能基准测试，请参阅 [Timescale Vector 解释博客](https://www.timescale.com/blog/how-we-made-postgresql-the-best-vector-database/?utm_campaign=vectorlaunch&utm_source=langchain&utm_medium=referral)。\n- 有关在 Python 中使用 Timescale Vector 的更多详细信息，请参阅 [安装说明](https://github.com/timescale/python-vector)。"
      ]
    },
    {
      "attachments": {},
      "cell_type": "markdown",
      "id": "68e75fb9",
      "metadata": {},
      "source": [
        "## 创建 TimescaleVector vectorstore\n首先，我们将创建一个 Timescale Vector vectorstore 并向其中填充数据。我们创建了一个包含电影摘要的小型演示文档集。\n\n注意：自查询检索器要求您安装 `lark`（`pip install lark`）。我们还需要 `timescale-vector` 包。"
      ]
    },
    {
      "cell_type": "code",
      "execution_count": 1,
      "id": "63a8af5b",
      "metadata": {
        "tags": []
      },
      "outputs": [],
      "source": [
        "%pip install --upgrade --quiet  lark"
      ]
    },
    {
      "cell_type": "code",
      "execution_count": 2,
      "id": "22431060-52c4-48a7-a97b-9f542b8b0928",
      "metadata": {
        "tags": []
      },
      "outputs": [],
      "source": [
        "%pip install --upgrade --quiet  timescale-vector"
      ]
    },
    {
      "attachments": {},
      "cell_type": "markdown",
      "id": "83811610-7df3-4ede-b268-68a6a83ba9e2",
      "metadata": {},
      "source": [
        "在此示例中，我们将使用 `OpenAIEmbeddings`，因此让我们加载您的 OpenAI API 密钥。"
      ]
    },
    {
      "cell_type": "code",
      "execution_count": 1,
      "id": "dd01b61b-7d32-4a55-85d6-b2d2d4f18840",
      "metadata": {
        "tags": []
      },
      "outputs": [],
      "source": [
        "# Get openAI api key by reading local .env file\n",
        "# The .env file should contain a line starting with `OPENAI_API_KEY=sk-`\n",
        "import os\n",
        "\n",
        "from dotenv import find_dotenv, load_dotenv\n",
        "\n",
        "_ = load_dotenv(find_dotenv())\n",
        "\n",
        "OPENAI_API_KEY = os.environ[\"OPENAI_API_KEY\"]\n",
        "# Alternatively, use getpass to enter the key in a prompt\n",
        "# import os\n",
        "# import getpass\n",
        "# os.environ[\"OPENAI_API_KEY\"] = getpass.getpass(\"OpenAI API Key:\")"
      ]
    },
    {
      "attachments": {},
      "cell_type": "markdown",
      "id": "766e9c4b",
      "metadata": {},
      "source": [
        "要连接到您的 PostgreSQL 数据库，您需要服务 URI，可以在创建新数据库后下载的备忘单或 `.env` 文件中找到。\n\n如果您还没有，请[注册 Timescale](https://console.cloud.timescale.com/signup?utm_campaign=vectorlaunch&utm_source=langchain&utm_medium=referral) 并创建一个新数据库。\n\nURI 看起来会像这样：`postgres://tsdbadmin:<password>@<id>.tsdb.cloud.timescale.com:<port>/tsdb?sslmode=require`"
      ]
    },
    {
      "cell_type": "code",
      "execution_count": 2,
      "id": "6bd6877e",
      "metadata": {},
      "outputs": [],
      "source": [
        "# Get the service url by reading local .env file\n",
        "# The .env file should contain a line starting with `TIMESCALE_SERVICE_URL=postgresql://`\n",
        "_ = load_dotenv(find_dotenv())\n",
        "TIMESCALE_SERVICE_URL = os.environ[\"TIMESCALE_SERVICE_URL\"]\n",
        "\n",
        "# Alternatively, use getpass to enter the key in a prompt\n",
        "# import os\n",
        "# import getpass\n",
        "# TIMESCALE_SERVICE_URL = getpass.getpass(\"Timescale Service URL:\")"
      ]
    },
    {
      "cell_type": "code",
      "execution_count": 3,
      "id": "cb4a5787",
      "metadata": {
        "tags": []
      },
      "outputs": [],
      "source": [
        "from langchain_community.vectorstores.timescalevector import TimescaleVector\n",
        "from langchain_core.documents import Document\n",
        "from langchain_openai import OpenAIEmbeddings\n",
        "\n",
        "embeddings = OpenAIEmbeddings()"
      ]
    },
    {
      "attachments": {},
      "cell_type": "markdown",
      "id": "a4f863f5",
      "metadata": {},
      "source": [
        "这里是我们将在本次演示中使用的一些示例文档。数据内容是关于电影的，包含内容和元数据字段，其中存储着特定电影的信息。"
      ]
    },
    {
      "cell_type": "code",
      "execution_count": 4,
      "id": "bcbe04d9",
      "metadata": {
        "tags": []
      },
      "outputs": [],
      "source": [
        "docs = [\n",
        "    Document(\n",
        "        page_content=\"A bunch of scientists bring back dinosaurs and mayhem breaks loose\",\n",
        "        metadata={\"year\": 1993, \"rating\": 7.7, \"genre\": \"science fiction\"},\n",
        "    ),\n",
        "    Document(\n",
        "        page_content=\"Leo DiCaprio gets lost in a dream within a dream within a dream within a ...\",\n",
        "        metadata={\"year\": 2010, \"director\": \"Christopher Nolan\", \"rating\": 8.2},\n",
        "    ),\n",
        "    Document(\n",
        "        page_content=\"A psychologist / detective gets lost in a series of dreams within dreams within dreams and Inception reused the idea\",\n",
        "        metadata={\"year\": 2006, \"director\": \"Satoshi Kon\", \"rating\": 8.6},\n",
        "    ),\n",
        "    Document(\n",
        "        page_content=\"A bunch of normal-sized women are supremely wholesome and some men pine after them\",\n",
        "        metadata={\"year\": 2019, \"director\": \"Greta Gerwig\", \"rating\": 8.3},\n",
        "    ),\n",
        "    Document(\n",
        "        page_content=\"Toys come alive and have a blast doing so\",\n",
        "        metadata={\"year\": 1995, \"genre\": \"animated\"},\n",
        "    ),\n",
        "    Document(\n",
        "        page_content=\"Three men walk into the Zone, three men walk out of the Zone\",\n",
        "        metadata={\n",
        "            \"year\": 1979,\n",
        "            \"director\": \"Andrei Tarkovsky\",\n",
        "            \"genre\": \"science fiction\",\n",
        "            \"rating\": 9.9,\n",
        "        },\n",
        "    ),\n",
        "]"
      ]
    },
    {
      "attachments": {},
      "cell_type": "markdown",
      "id": "7d0d771e",
      "metadata": {},
      "source": [
        "最后，我们将创建 Timescale Vector vectorstore。请注意，collection name 将是文档存储在 PostgreSQL 表中的表名。"
      ]
    },
    {
      "cell_type": "code",
      "execution_count": 5,
      "id": "2428d1ba",
      "metadata": {},
      "outputs": [],
      "source": [
        "COLLECTION_NAME = \"langchain_self_query_demo\"\n",
        "vectorstore = TimescaleVector.from_documents(\n",
        "    embedding=embeddings,\n",
        "    documents=docs,\n",
        "    collection_name=COLLECTION_NAME,\n",
        "    service_url=TIMESCALE_SERVICE_URL,\n",
        ")"
      ]
    },
    {
      "attachments": {},
      "cell_type": "markdown",
      "id": "5ecaab6d",
      "metadata": {},
      "source": [
        "## 创建自查询检索器\n现在我们可以实例化我们的检索器了。要做到这一点，我们需要提前提供一些关于我们的文档所支持的元数据字段以及文档内容的简短描述的信息。"
      ]
    },
    {
      "cell_type": "code",
      "execution_count": 14,
      "id": "86e34dbf",
      "metadata": {
        "tags": []
      },
      "outputs": [],
      "source": [
        "from langchain.chains.query_constructor.schema import AttributeInfo\n",
        "from langchain.retrievers.self_query.base import SelfQueryRetriever\n",
        "from langchain_openai import OpenAI\n",
        "\n",
        "# Give LLM info about the metadata fields\n",
        "metadata_field_info = [\n",
        "    AttributeInfo(\n",
        "        name=\"genre\",\n",
        "        description=\"The genre of the movie\",\n",
        "        type=\"string or list[string]\",\n",
        "    ),\n",
        "    AttributeInfo(\n",
        "        name=\"year\",\n",
        "        description=\"The year the movie was released\",\n",
        "        type=\"integer\",\n",
        "    ),\n",
        "    AttributeInfo(\n",
        "        name=\"director\",\n",
        "        description=\"The name of the movie director\",\n",
        "        type=\"string\",\n",
        "    ),\n",
        "    AttributeInfo(\n",
        "        name=\"rating\", description=\"A 1-10 rating for the movie\", type=\"float\"\n",
        "    ),\n",
        "]\n",
        "document_content_description = \"Brief summary of a movie\"\n",
        "\n",
        "# Instantiate the self-query retriever from an LLM\n",
        "llm = OpenAI(temperature=0)\n",
        "retriever = SelfQueryRetriever.from_llm(\n",
        "    llm, vectorstore, document_content_description, metadata_field_info, verbose=True\n",
        ")"
      ]
    },
    {
      "attachments": {},
      "cell_type": "markdown",
      "id": "ea9df8d4",
      "metadata": {},
      "source": [
        "## 使用 Timescale Vector 进行的自查询检索\n现在我们可以实际使用我们的检索器了！\n\n运行下面的查询，并注意你可以用自然语言指定查询、过滤器、复合过滤器（带 AND、OR 的过滤器），自查询检索器会将该查询翻译成 SQL，并在 Timescale Vector (Postgres) 向量数据库上执行搜索。\n\n这说明了自查询检索器的强大之处。你可以使用它对你的向量数据库执行复杂的搜索，而你或你的用户无需直接编写任何 SQL！"
      ]
    },
    {
      "cell_type": "code",
      "execution_count": 15,
      "id": "38a126e9",
      "metadata": {},
      "outputs": [
        {
          "name": "stderr",
          "output_type": "stream",
          "text": [
            "/Users/avtharsewrathan/sideprojects2023/timescaleai/tsv-langchain/langchain/libs/langchain/langchain/chains/llm.py:275: UserWarning: The predict_and_parse method is deprecated, instead pass an output parser directly to LLMChain.\n",
            "  warnings.warn(\n"
          ]
        },
        {
          "name": "stdout",
          "output_type": "stream",
          "text": [
            "query='dinosaur' filter=None limit=None\n"
          ]
        },
        {
          "data": {
            "text/plain": [
              "[Document(page_content='A bunch of scientists bring back dinosaurs and mayhem breaks loose', metadata={'year': 1993, 'genre': 'science fiction', 'rating': 7.7}),\n",
              " Document(page_content='A bunch of scientists bring back dinosaurs and mayhem breaks loose', metadata={'year': 1993, 'genre': 'science fiction', 'rating': 7.7}),\n",
              " Document(page_content='Toys come alive and have a blast doing so', metadata={'year': 1995, 'genre': 'animated'}),\n",
              " Document(page_content='Toys come alive and have a blast doing so', metadata={'year': 1995, 'genre': 'animated'})]"
            ]
          },
          "execution_count": 15,
          "metadata": {},
          "output_type": "execute_result"
        }
      ],
      "source": [
        "# This example only specifies a relevant query\n",
        "retriever.invoke(\"What are some movies about dinosaurs\")"
      ]
    },
    {
      "cell_type": "code",
      "execution_count": 16,
      "id": "fc3f1e6e",
      "metadata": {},
      "outputs": [
        {
          "name": "stdout",
          "output_type": "stream",
          "text": [
            "query=' ' filter=Comparison(comparator=<Comparator.GT: 'gt'>, attribute='rating', value=8.5) limit=None\n"
          ]
        },
        {
          "data": {
            "text/plain": [
              "[Document(page_content='Three men walk into the Zone, three men walk out of the Zone', metadata={'year': 1979, 'genre': 'science fiction', 'rating': 9.9, 'director': 'Andrei Tarkovsky'}),\n",
              " Document(page_content='Three men walk into the Zone, three men walk out of the Zone', metadata={'year': 1979, 'genre': 'science fiction', 'rating': 9.9, 'director': 'Andrei Tarkovsky'}),\n",
              " Document(page_content='A psychologist / detective gets lost in a series of dreams within dreams within dreams and Inception reused the idea', metadata={'year': 2006, 'rating': 8.6, 'director': 'Satoshi Kon'}),\n",
              " Document(page_content='A psychologist / detective gets lost in a series of dreams within dreams within dreams and Inception reused the idea', metadata={'year': 2006, 'rating': 8.6, 'director': 'Satoshi Kon'})]"
            ]
          },
          "execution_count": 16,
          "metadata": {},
          "output_type": "execute_result"
        }
      ],
      "source": [
        "# This example only specifies a filter\n",
        "retriever.invoke(\"I want to watch a movie rated higher than 8.5\")"
      ]
    },
    {
      "cell_type": "code",
      "execution_count": 17,
      "id": "b19d4da0",
      "metadata": {},
      "outputs": [
        {
          "name": "stdout",
          "output_type": "stream",
          "text": [
            "query='women' filter=Comparison(comparator=<Comparator.EQ: 'eq'>, attribute='director', value='Greta Gerwig') limit=None\n"
          ]
        },
        {
          "data": {
            "text/plain": [
              "[Document(page_content='A bunch of normal-sized women are supremely wholesome and some men pine after them', metadata={'year': 2019, 'rating': 8.3, 'director': 'Greta Gerwig'}),\n",
              " Document(page_content='A bunch of normal-sized women are supremely wholesome and some men pine after them', metadata={'year': 2019, 'rating': 8.3, 'director': 'Greta Gerwig'})]"
            ]
          },
          "execution_count": 17,
          "metadata": {},
          "output_type": "execute_result"
        }
      ],
      "source": [
        "# This example specifies a query and a filter\n",
        "retriever.invoke(\"Has Greta Gerwig directed any movies about women\")"
      ]
    },
    {
      "cell_type": "code",
      "execution_count": 18,
      "id": "f900e40e",
      "metadata": {},
      "outputs": [
        {
          "name": "stdout",
          "output_type": "stream",
          "text": [
            "query=' ' filter=Operation(operator=<Operator.AND: 'and'>, arguments=[Comparison(comparator=<Comparator.GTE: 'gte'>, attribute='rating', value=8.5), Comparison(comparator=<Comparator.EQ: 'eq'>, attribute='genre', value='science fiction')]) limit=None\n"
          ]
        },
        {
          "data": {
            "text/plain": [
              "[Document(page_content='Three men walk into the Zone, three men walk out of the Zone', metadata={'year': 1979, 'genre': 'science fiction', 'rating': 9.9, 'director': 'Andrei Tarkovsky'}),\n",
              " Document(page_content='Three men walk into the Zone, three men walk out of the Zone', metadata={'year': 1979, 'genre': 'science fiction', 'rating': 9.9, 'director': 'Andrei Tarkovsky'})]"
            ]
          },
          "execution_count": 18,
          "metadata": {},
          "output_type": "execute_result"
        }
      ],
      "source": [
        "# This example specifies a composite filter\n",
        "retriever.invoke(\"What's a highly rated (above 8.5) science fiction film?\")"
      ]
    },
    {
      "cell_type": "code",
      "execution_count": 11,
      "id": "12a51522",
      "metadata": {},
      "outputs": [
        {
          "name": "stdout",
          "output_type": "stream",
          "text": [
            "query='toys' filter=Operation(operator=<Operator.AND: 'and'>, arguments=[Comparison(comparator=<Comparator.GT: 'gt'>, attribute='year', value=1990), Comparison(comparator=<Comparator.LT: 'lt'>, attribute='year', value=2005), Comparison(comparator=<Comparator.EQ: 'eq'>, attribute='genre', value='animated')]) limit=None\n"
          ]
        },
        {
          "data": {
            "text/plain": [
              "[Document(page_content='Toys come alive and have a blast doing so', metadata={'year': 1995, 'genre': 'animated'})]"
            ]
          },
          "execution_count": 11,
          "metadata": {},
          "output_type": "execute_result"
        }
      ],
      "source": [
        "# This example specifies a query and composite filter\n",
        "retriever.invoke(\n",
        "    \"What's a movie after 1990 but before 2005 that's all about toys, and preferably is animated\"\n",
        ")"
      ]
    },
    {
      "attachments": {},
      "cell_type": "markdown",
      "id": "39bd1de1-b9fe-4a98-89da-58d8a7a6ae51",
      "metadata": {},
      "source": [
        "### 过滤 k\n\n我们也可以使用自查询检索器来指定 `k`：要获取的文档数量。\n\n我们可以通过向构造函数传递 `enable_limit=True` 来实现这一点。"
      ]
    },
    {
      "cell_type": "code",
      "execution_count": 19,
      "id": "bff36b88-b506-4877-9c63-e5a1a8d78e64",
      "metadata": {
        "tags": []
      },
      "outputs": [],
      "source": [
        "retriever = SelfQueryRetriever.from_llm(\n",
        "    llm,\n",
        "    vectorstore,\n",
        "    document_content_description,\n",
        "    metadata_field_info,\n",
        "    enable_limit=True,\n",
        "    verbose=True,\n",
        ")"
      ]
    },
    {
      "cell_type": "code",
      "execution_count": 22,
      "id": "2758d229-4f97-499c-819f-888acaf8ee10",
      "metadata": {
        "tags": []
      },
      "outputs": [
        {
          "name": "stdout",
          "output_type": "stream",
          "text": [
            "query='dinosaur' filter=None limit=2\n"
          ]
        },
        {
          "data": {
            "text/plain": [
              "[Document(page_content='A bunch of scientists bring back dinosaurs and mayhem breaks loose', metadata={'year': 1993, 'genre': 'science fiction', 'rating': 7.7}),\n",
              " Document(page_content='A bunch of scientists bring back dinosaurs and mayhem breaks loose', metadata={'year': 1993, 'genre': 'science fiction', 'rating': 7.7})]"
            ]
          },
          "execution_count": 22,
          "metadata": {},
          "output_type": "execute_result"
        }
      ],
      "source": [
        "# This example specifies a query with a LIMIT value\n",
        "retriever.invoke(\"what are two movies about dinosaurs\")"
      ]
    }
  ],
  "metadata": {
    "kernelspec": {
      "display_name": "Python 3 (ipykernel)",
      "language": "python",
      "name": "python3"
    },
    "language_info": {
      "codemirror_mode": {
        "name": "ipython",
        "version": 3
      },
      "file_extension": ".py",
      "mimetype": "text/x-python",
      "name": "python",
      "nbconvert_exporter": "python",
      "pygments_lexer": "ipython3",
      "version": "3.10.12"
    }
  },
  "nbformat": 4,
  "nbformat_minor": 5
}