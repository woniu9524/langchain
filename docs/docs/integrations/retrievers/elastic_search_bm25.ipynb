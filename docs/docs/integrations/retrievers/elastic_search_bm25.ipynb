{
  "cells": [
    {
      "cell_type": "markdown",
      "id": "ab66dd43",
      "metadata": {},
      "source": [
        "# ElasticSearch BM25\n\n>[Elasticsearch](https://www.elastic.co/elasticsearch/) 是一个分布式的、RESTful 的搜索和分析引擎。它提供了一个分布式、多租户的全文本搜索引擎，带有一个 HTTP Web 接口和无模式的 JSON 文档。\n\n>在信息检索中，[Okapi BM25](https://en.wikipedia.org/wiki/Okapi_BM25) (BM 是 best matching 的缩写) 是搜索引擎用来估算文档与给定搜索查询相关性的排名函数。它基于 Stephen E. Robertson、Karen Spärck Jones 等人在 20 世纪 70 年代和 80 年代开发的概率检索框架。\n\n>这个实际的排名函数名为 BM25。更完整的名称 Okapi BM25，包含了第一个使用它的系统名称，即 Okapi 信息检索系统，该系统于 20 世纪 80 年代和 90 年代在伦敦城市大学实现。BM25 及其较新的变体，例如 BM25F（一个可以考虑文档结构和锚文本的 BM25 版本），代表了文档检索中使用的类似 TF-IDF 的检索函数。\n\n本笔记本展示了如何使用一个使用 `ElasticSearch` 和 `BM25` 的检索器。\n\n有关 BM25 详细信息的更多信息，请参阅[这篇博文](https://www.elastic.co/blog/practical-bm25-part-2-the-bm25-algorithm-and-its-variables)。"
      ]
    },
    {
      "cell_type": "code",
      "execution_count": null,
      "id": "51b49135-a61a-49e8-869d-7c1d76794cd7",
      "metadata": {
        "tags": []
      },
      "outputs": [],
      "source": [
        "%pip install --upgrade --quiet  elasticsearch"
      ]
    },
    {
      "cell_type": "code",
      "execution_count": 2,
      "id": "393ac030",
      "metadata": {
        "tags": []
      },
      "outputs": [],
      "source": [
        "from langchain_community.retrievers import (\n",
        "    ElasticSearchBM25Retriever,\n",
        ")"
      ]
    },
    {
      "cell_type": "markdown",
      "id": "aaf80e7f",
      "metadata": {},
      "source": [
        "## 创建新的检索器"
      ]
    },
    {
      "cell_type": "code",
      "execution_count": null,
      "id": "bcb3c8c2",
      "metadata": {
        "tags": []
      },
      "outputs": [],
      "source": [
        "elasticsearch_url = \"http://localhost:9200\"\n",
        "retriever = ElasticSearchBM25Retriever.create(elasticsearch_url, \"langchain-index-4\")"
      ]
    },
    {
      "cell_type": "code",
      "execution_count": 13,
      "id": "b605284d",
      "metadata": {},
      "outputs": [],
      "source": [
        "# Alternatively, you can load an existing index\n",
        "# import elasticsearch\n",
        "# elasticsearch_url=\"http://localhost:9200\"\n",
        "# retriever = ElasticSearchBM25Retriever(elasticsearch.Elasticsearch(elasticsearch_url), \"langchain-index\")"
      ]
    },
    {
      "cell_type": "markdown",
      "id": "1c518c42",
      "metadata": {},
      "source": [
        "## 添加文本（如有必要）\n\n我们可以选择性地向检索器添加文本（如果它们尚未包含在内）"
      ]
    },
    {
      "cell_type": "code",
      "execution_count": 3,
      "id": "98b1c017",
      "metadata": {},
      "outputs": [
        {
          "data": {
            "text/plain": [
              "['cbd4cb47-8d9f-4f34-b80e-ea871bc49856',\n",
              " 'f3bd2e24-76d1-4f9b-826b-ec4c0e8c7365',\n",
              " '8631bfc8-7c12-48ee-ab56-8ad5f373676e',\n",
              " '8be8374c-3253-4d87-928d-d73550a2ecf0',\n",
              " 'd79f457b-2842-4eab-ae10-77aa420b53d7']"
            ]
          },
          "execution_count": 3,
          "metadata": {},
          "output_type": "execute_result"
        }
      ],
      "source": [
        "retriever.add_texts([\"foo\", \"bar\", \"world\", \"hello\", \"foo bar\"])"
      ]
    },
    {
      "cell_type": "markdown",
      "id": "08437fa2",
      "metadata": {},
      "source": [
        "## 使用检索器\n\n现在我们可以使用检索器了！"
      ]
    },
    {
      "cell_type": "code",
      "execution_count": 4,
      "id": "c0455218",
      "metadata": {},
      "outputs": [],
      "source": [
        "result = retriever.invoke(\"foo\")"
      ]
    },
    {
      "cell_type": "code",
      "execution_count": 5,
      "id": "7dfa5c29",
      "metadata": {},
      "outputs": [
        {
          "data": {
            "text/plain": [
              "[Document(page_content='foo', metadata={}),\n",
              " Document(page_content='foo bar', metadata={})]"
            ]
          },
          "execution_count": 5,
          "metadata": {},
          "output_type": "execute_result"
        }
      ],
      "source": [
        "result"
      ]
    },
    {
      "cell_type": "code",
      "execution_count": null,
      "id": "74bd9256",
      "metadata": {},
      "outputs": [],
      "source": []
    }
  ],
  "metadata": {
    "kernelspec": {
      "display_name": "Python 3 (ipykernel)",
      "language": "python",
      "name": "python3"
    },
    "language_info": {
      "codemirror_mode": {
        "name": "ipython",
        "version": 3
      },
      "file_extension": ".py",
      "mimetype": "text/x-python",
      "name": "python",
      "nbconvert_exporter": "python",
      "pygments_lexer": "ipython3",
      "version": "3.10.12"
    }
  },
  "nbformat": 4,
  "nbformat_minor": 5
}