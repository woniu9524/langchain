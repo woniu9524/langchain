{
  "cells": [
    {
      "cell_type": "raw",
      "id": "afaf8039",
      "metadata": {},
      "source": [
        "---\n",
        "sidebar_label: Box\n",
        "---"
      ]
    },
    {
      "cell_type": "markdown",
      "id": "e49f1e0d",
      "metadata": {},
      "source": [
        "# BoxRetriever\n\n这将帮助你开始使用 Box [检索器](/docs/concepts/retrievers)。关于 BoxRetriever 功能和配置的详细文档，请访问 [API 参考](https://python.langchain.com/api_reference/box/retrievers/langchain_box.retrievers.box.BoxRetriever.html)。\n\n# 概述\n\n`BoxRetriever` 类可帮助你以 Langchain 的 `Document` 格式从 Box 获取非结构化内容。你可以通过基于全文搜索来查找文件，或者使用 Box AI 来检索包含针对文件执行的 AI 查询结果的 `Document`。这需要包含一个 `List[str]`，其中包含 Box 文件 ID，例如 `[\"12345\",\"67890\"]`\n\n:::info\nBox AI 需要企业版 Plus 许可证\n:::\n\n没有文本表示的文件将被跳过。\n\n### 集成详情\n\n1：自带数据（即索引和搜索自定义文档语料库）：\n\n| Retriever | Self-host | Cloud offering | Package |\n| :--- | :--- | :---: | :---: |\n[BoxRetriever](https://python.langchain.com/api_reference/box/retrievers/langchain_box.retrievers.box.BoxRetriever.html) | ❌ | ✅ | langchain-box |\n\n## 设置\n\n要使用 Box 包，你需要准备以下几项：\n\n* 一个 Box 账户 — 如果你目前不是 Box 用户，或者想在生产环境外的 Box 实例中进行测试，可以使用 [免费开发者账户](https://account.box.com/signup/n/developer#ty9l3)。\n* [一个 Box 应用](https://developer.box.com/guides/getting-started/first-application/) — 这个应用在 [开发者控制台](https://account.box.com/developers/console) 中配置，并且必须启用 `Manage AI` 范围才能使用 Box AI。你还可以在这里选择你的身份验证方法。\n* 该应用必须 [由管理员启用](https://developer.box.com/guides/authorization/custom-app-approval/#manual-approval)。对于免费开发者账户，这是注册该账户的用户。\n\n### 凭据\n\n在这些示例中，我们将使用 [令牌身份验证](https://developer.box.com/guides/authentication/tokens/developer-tokens)。这可以与任何 [身份验证方法](https://developer.box.com/guides/authentication/) 一起使用。只需使用任何方法获取令牌即可。如果你想了解如何将其他身份验证类型与 `langchain-box` 结合使用，请访问 [Box 提供商](/docs/integrations/providers/box) 文档。"
      ]
    },
    {
      "cell_type": "code",
      "execution_count": 2,
      "id": "b87a8e8b-9b5a-4e78-97e4-274b6b0dd29f",
      "metadata": {},
      "outputs": [],
      "source": [
        "import getpass\n",
        "import os\n",
        "\n",
        "box_developer_token = getpass.getpass(\"Enter your Box Developer Token: \")"
      ]
    },
    {
      "cell_type": "markdown",
      "id": "72ee0c4b-9764-423a-9dbf-95129e185210",
      "metadata": {},
      "source": [
        "如果你想从单个查询中获得自动追踪，你也可以通过取消注释以下内容来设置你的 [LangSmith](https://docs.smith.langchain.com/) API 密钥："
      ]
    },
    {
      "cell_type": "code",
      "execution_count": 3,
      "id": "a15d341e-3e26-4ca3-830b-5aab30ed66de",
      "metadata": {},
      "outputs": [],
      "source": [
        "# os.environ[\"LANGSMITH_API_KEY\"] = getpass.getpass(\"Enter your LangSmith API key: \")\n",
        "# os.environ[\"LANGSMITH_TRACING\"] = \"true\""
      ]
    },
    {
      "cell_type": "markdown",
      "id": "0730d6a1-c893-4840-9817-5e5251676d5d",
      "metadata": {},
      "source": [
        "### 安装\n\n此检索器存在于 `langchain-box` 包中："
      ]
    },
    {
      "cell_type": "code",
      "execution_count": 4,
      "id": "652d6238-1f87-422a-b135-f5abbb8652fc",
      "metadata": {},
      "outputs": [
        {
          "name": "stdout",
          "output_type": "stream",
          "text": [
            "Note: you may need to restart the kernel to use updated packages.\n"
          ]
        }
      ],
      "source": [
        "%pip install -qU langchain-box"
      ]
    },
    {
      "cell_type": "markdown",
      "id": "a38cde65-254d-4219-a441-068766c0d4b5",
      "metadata": {},
      "source": [
        "## 实例化\n\n现在我们可以实例化我们的检索器了：\n\n## 搜索"
      ]
    },
    {
      "cell_type": "code",
      "execution_count": 5,
      "id": "70cc8e65-2a02-408a-bbc6-8ef649057d82",
      "metadata": {},
      "outputs": [],
      "source": [
        "from langchain_box import BoxRetriever\n",
        "\n",
        "retriever = BoxRetriever(box_developer_token=box_developer_token)"
      ]
    },
    {
      "cell_type": "markdown",
      "id": "2197e7d0",
      "metadata": {},
      "source": [
        "为了进行更精细化的搜索，我们提供了一系列选项来帮助您筛选结果。这会结合使用 `langchain_box.utilities.SearchOptions`、`langchain_box.utilities.SearchTypeFilter` 以及 `langchain_box.utilities.DocumentFiles` 枚举，根据创建日期、文件搜索部分，甚至限定搜索范围到特定文件夹进行筛选。\n\n更多信息，请查看 [API 参考文档](https://python.langchain.com/v0.2/api_reference/box/utilities/langchain_box.utilities.box.SearchOptions.html)。"
      ]
    },
    {
      "cell_type": "code",
      "execution_count": 6,
      "id": "97f3ae67",
      "metadata": {},
      "outputs": [
        {
          "data": {
            "text/plain": [
              "[Document(metadata={'source': 'https://dl.boxcloud.com/api/2.0/internal_files/1514555423624/versions/1663171610024/representations/extracted_text/content/', 'title': 'Invoice-A5555_txt'}, page_content='Vendor: AstroTech Solutions\\nInvoice Number: A5555\\n\\nLine Items:\\n    - Gravitational Wave Detector Kit: $800\\n    - Exoplanet Terrarium: $120\\nTotal: $920')]"
            ]
          },
          "execution_count": 6,
          "metadata": {},
          "output_type": "execute_result"
        }
      ],
      "source": [
        "from langchain_box.utilities import BoxSearchOptions, DocumentFiles, SearchTypeFilter\n",
        "\n",
        "box_folder_id = \"260931903795\"\n",
        "\n",
        "box_search_options = BoxSearchOptions(\n",
        "    ancestor_folder_ids=[box_folder_id],\n",
        "    search_type_filter=[SearchTypeFilter.FILE_CONTENT],\n",
        "    created_date_range=[\"2023-01-01T00:00:00-07:00\", \"2024-08-01T00:00:00-07:00,\"],\n",
        "    k=200,\n",
        "    size_range=[1, 1000000],\n",
        "    updated_data_range=None,\n",
        ")\n",
        "\n",
        "retriever = BoxRetriever(\n",
        "    box_developer_token=box_developer_token, box_search_options=box_search_options\n",
        ")\n",
        "\n",
        "retriever.invoke(\"AstroTech Solutions\")"
      ]
    },
    {
      "cell_type": "markdown",
      "id": "41287857-cfe9-4d39-a84d-e7bd9f1f59a8",
      "metadata": {},
      "source": [
        "## Box AI"
      ]
    },
    {
      "cell_type": "code",
      "execution_count": 7,
      "id": "ee0e726d-9974-4aa0-9ce1-0057ec3e540a",
      "metadata": {},
      "outputs": [],
      "source": [
        "from langchain_box import BoxRetriever\n",
        "\n",
        "box_file_ids = [\"1514555423624\", \"1514553902288\"]\n",
        "\n",
        "retriever = BoxRetriever(\n",
        "    box_developer_token=box_developer_token, box_file_ids=box_file_ids\n",
        ")"
      ]
    },
    {
      "cell_type": "markdown",
      "id": "5c5f2839-4020-424e-9fc9-07777eede442",
      "metadata": {},
      "source": [
        "## 用法"
      ]
    },
    {
      "cell_type": "code",
      "execution_count": 8,
      "id": "51a60dbe-9f2e-4e04-bb62-23968f17164a",
      "metadata": {},
      "outputs": [
        {
          "data": {
            "text/plain": [
              "[Document(metadata={'source': 'Box AI', 'title': 'Box AI What was the most expensive item purchased'}, page_content='The most expensive item purchased is the **Gravitational Wave Detector Kit** from AstroTech Solutions, which costs **$800**.')]"
            ]
          },
          "execution_count": 8,
          "metadata": {},
          "output_type": "execute_result"
        }
      ],
      "source": [
        "query = \"What was the most expensive item purchased\"\n",
        "\n",
        "retriever.invoke(query)"
      ]
    },
    {
      "cell_type": "markdown",
      "id": "31a59a51",
      "metadata": {},
      "source": [
        "## 引用\n\n借助 Box AI 和 `BoxRetriever`，您可以返回提示的答案、Box 用于获取该答案的引用，或者两者都返回。无论您如何选择使用 Box AI，检索器都会返回一个 `List[Document]` 对象。我们通过两个 `bool` 参数 `answer` 和 `citations` 提供这种灵活性。`answer` 默认为 `True`，`citations` 默认为 `False`，因此如果您只想获取答案，可以省略两者。如果您想同时获取两者，可以仅包含 `citations=True`；如果您只想获取引用，则应包含 `answer=False` 和 `citations=True`。\n\n### 同时获取两者"
      ]
    },
    {
      "cell_type": "code",
      "execution_count": 11,
      "id": "2eddc8c1",
      "metadata": {},
      "outputs": [
        {
          "data": {
            "text/plain": [
              "[Document(metadata={'source': 'Box AI', 'title': 'Box AI What was the most expensive item purchased'}, page_content='The most expensive item purchased is the **Gravitational Wave Detector Kit** from AstroTech Solutions, which costs **$800**.'),\n",
              " Document(metadata={'source': 'Box AI What was the most expensive item purchased', 'file_name': 'Invoice-A5555.txt', 'file_id': '1514555423624', 'file_type': 'file'}, page_content='Vendor: AstroTech Solutions\\nInvoice Number: A5555\\n\\nLine Items:\\n    - Gravitational Wave Detector Kit: $800\\n    - Exoplanet Terrarium: $120\\nTotal: $920')]"
            ]
          },
          "execution_count": 11,
          "metadata": {},
          "output_type": "execute_result"
        }
      ],
      "source": [
        "retriever = BoxRetriever(\n",
        "    box_developer_token=box_developer_token, box_file_ids=box_file_ids, citations=True\n",
        ")\n",
        "\n",
        "retriever.invoke(query)"
      ]
    },
    {
      "cell_type": "markdown",
      "id": "d2e93a2e",
      "metadata": {},
      "source": [
        "### 仅引用"
      ]
    },
    {
      "cell_type": "code",
      "execution_count": 12,
      "id": "c1892b07",
      "metadata": {},
      "outputs": [
        {
          "data": {
            "text/plain": [
              "[Document(metadata={'source': 'Box AI What was the most expensive item purchased', 'file_name': 'Invoice-A5555.txt', 'file_id': '1514555423624', 'file_type': 'file'}, page_content='Vendor: AstroTech Solutions\\nInvoice Number: A5555\\n\\nLine Items:\\n    - Gravitational Wave Detector Kit: $800\\n    - Exoplanet Terrarium: $120\\nTotal: $920')]"
            ]
          },
          "execution_count": 12,
          "metadata": {},
          "output_type": "execute_result"
        }
      ],
      "source": [
        "retriever = BoxRetriever(\n",
        "    box_developer_token=box_developer_token,\n",
        "    box_file_ids=box_file_ids,\n",
        "    answer=False,\n",
        "    citations=True,\n",
        ")\n",
        "\n",
        "retriever.invoke(query)"
      ]
    },
    {
      "cell_type": "markdown",
      "id": "dfe8aad4-8626-4330-98a9-7ea1ca5d2e0e",
      "metadata": {},
      "source": [
        "## 在链中使用\n\n与其它检索器一样，BoxRetriever 可以通过[链](/docs/how_to/sequence/)集成到 LLM 应用中。\n\n我们需要一个 LLM 或聊天模型：\n\nimport ChatModelTabs from \"@theme/ChatModelTabs\";\n\n<ChatModelTabs customVarName=\"llm\" />"
      ]
    },
    {
      "cell_type": "code",
      "execution_count": 7,
      "id": "42c1f14f-7761-4e59-87a9-289667e8a9af",
      "metadata": {},
      "outputs": [
        {
          "name": "stdout",
          "output_type": "stream",
          "text": [
            "Enter your OpenAI key:  ········\n"
          ]
        }
      ],
      "source": [
        "openai_key = getpass.getpass(\"Enter your OpenAI key: \")"
      ]
    },
    {
      "cell_type": "code",
      "execution_count": 8,
      "id": "25b647a3-f8f2-4541-a289-7a241e43f9df",
      "metadata": {},
      "outputs": [],
      "source": [
        "# | output: false\n",
        "# | echo: false\n",
        "\n",
        "from langchain_openai import ChatOpenAI\n",
        "\n",
        "llm = ChatOpenAI(model=\"gpt-4o-mini\", temperature=0, openai_api_key=openai_key)"
      ]
    },
    {
      "cell_type": "code",
      "execution_count": 42,
      "id": "23e11cc9-abd6-4855-a7eb-799f45ca01ae",
      "metadata": {},
      "outputs": [],
      "source": [
        "from langchain_core.output_parsers import StrOutputParser\n",
        "from langchain_core.prompts import ChatPromptTemplate\n",
        "from langchain_core.runnables import RunnablePassthrough\n",
        "\n",
        "box_search_options = BoxSearchOptions(\n",
        "    ancestor_folder_ids=[box_folder_id],\n",
        "    search_type_filter=[SearchTypeFilter.FILE_CONTENT],\n",
        "    created_date_range=[\"2023-01-01T00:00:00-07:00\", \"2024-08-01T00:00:00-07:00,\"],\n",
        "    k=200,\n",
        "    size_range=[1, 1000000],\n",
        "    updated_data_range=None,\n",
        ")\n",
        "\n",
        "retriever = BoxRetriever(\n",
        "    box_developer_token=box_developer_token, box_search_options=box_search_options\n",
        ")\n",
        "\n",
        "context = \"You are a finance professional that handles invoices and purchase orders.\"\n",
        "question = \"Show me all the items purchased from AstroTech Solutions\"\n",
        "\n",
        "prompt = ChatPromptTemplate.from_template(\n",
        "    \"\"\"Answer the question based only on the context provided.\n",
        "\n",
        "    Context: {context}\n",
        "\n",
        "    Question: {question}\"\"\"\n",
        ")\n",
        "\n",
        "\n",
        "def format_docs(docs):\n",
        "    return \"\\n\\n\".join(doc.page_content for doc in docs)\n",
        "\n",
        "\n",
        "chain = (\n",
        "    {\"context\": retriever | format_docs, \"question\": RunnablePassthrough()}\n",
        "    | prompt\n",
        "    | llm\n",
        "    | StrOutputParser()\n",
        ")"
      ]
    },
    {
      "cell_type": "code",
      "execution_count": 43,
      "id": "d47c37dd-5c11-416c-a3b6-bec413cd70e8",
      "metadata": {},
      "outputs": [
        {
          "data": {
            "text/plain": [
              "'- Gravitational Wave Detector Kit: $800\\n- Exoplanet Terrarium: $120'"
            ]
          },
          "execution_count": 43,
          "metadata": {},
          "output_type": "execute_result"
        }
      ],
      "source": [
        "chain.invoke(question)"
      ]
    },
    {
      "cell_type": "markdown",
      "id": "04813f37-ac97-48f3-8001-98c6c0d50c15",
      "metadata": {},
      "source": [
        "## 用作代理工具\n\n与其他的检索器一样，`BoxRetriever` 也可以作为工具添加到 LangGraph 代理中。"
      ]
    },
    {
      "cell_type": "code",
      "execution_count": null,
      "id": "24e617ff-2285-4056-9421-9f9bfd3044b8",
      "metadata": {},
      "outputs": [],
      "source": [
        "pip install -U langsmith"
      ]
    },
    {
      "cell_type": "code",
      "execution_count": 27,
      "id": "52a56c14-228e-4b11-a6bd-5b75c0f403fa",
      "metadata": {},
      "outputs": [],
      "source": [
        "from langchain import hub\n",
        "from langchain.agents import AgentExecutor, create_openai_tools_agent\n",
        "from langchain.tools.retriever import create_retriever_tool"
      ]
    },
    {
      "cell_type": "code",
      "execution_count": 34,
      "id": "b2e7b413-f49a-4bfe-b1e1-d0643704686e",
      "metadata": {},
      "outputs": [],
      "source": [
        "box_search_options = BoxSearchOptions(\n",
        "    ancestor_folder_ids=[box_folder_id],\n",
        "    search_type_filter=[SearchTypeFilter.FILE_CONTENT],\n",
        "    created_date_range=[\"2023-01-01T00:00:00-07:00\", \"2024-08-01T00:00:00-07:00,\"],\n",
        "    k=200,\n",
        "    size_range=[1, 1000000],\n",
        "    updated_data_range=None,\n",
        ")\n",
        "\n",
        "retriever = BoxRetriever(\n",
        "    box_developer_token=box_developer_token, box_search_options=box_search_options\n",
        ")\n",
        "\n",
        "box_search_tool = create_retriever_tool(\n",
        "    retriever,\n",
        "    \"box_search_tool\",\n",
        "    \"This tool is used to search Box and retrieve documents that match the search criteria\",\n",
        ")\n",
        "tools = [box_search_tool]"
      ]
    },
    {
      "cell_type": "code",
      "execution_count": 35,
      "id": "0cfdb1bf-d328-4d56-aad7-7c71064c091f",
      "metadata": {},
      "outputs": [
        {
          "name": "stderr",
          "output_type": "stream",
          "text": [
            "/Users/shurrey/local/langchain/.venv/lib/python3.11/site-packages/langsmith/client.py:312: LangSmithMissingAPIKeyWarning: API key must be provided when using hosted LangSmith API\n",
            "  warnings.warn(\n"
          ]
        }
      ],
      "source": [
        "prompt = hub.pull(\"hwchase17/openai-tools-agent\")\n",
        "prompt.messages\n",
        "\n",
        "llm = ChatOpenAI(temperature=0, openai_api_key=openai_key)\n",
        "\n",
        "agent = create_openai_tools_agent(llm, tools, prompt)\n",
        "agent_executor = AgentExecutor(agent=agent, tools=tools)"
      ]
    },
    {
      "cell_type": "code",
      "execution_count": 36,
      "id": "3b928f20-a28b-4954-bc71-ad35eba27253",
      "metadata": {
        "editable": true,
        "slideshow": {
          "slide_type": ""
        },
        "tags": []
      },
      "outputs": [],
      "source": [
        "result = agent_executor.invoke(\n",
        "    {\n",
        "        \"input\": \"list the items I purchased from AstroTech Solutions from most expensive to least expensive\"\n",
        "    }\n",
        ")"
      ]
    },
    {
      "cell_type": "code",
      "execution_count": 37,
      "id": "1ae20ded-69ae-4b4e-b7c1-07aa2d50db31",
      "metadata": {
        "editable": true,
        "slideshow": {
          "slide_type": ""
        },
        "tags": []
      },
      "outputs": [
        {
          "name": "stdout",
          "output_type": "stream",
          "text": [
            "result The items you purchased from AstroTech Solutions from most expensive to least expensive are:\n",
            "\n",
            "1. Gravitational Wave Detector Kit: $800\n",
            "2. Exoplanet Terrarium: $120\n",
            "\n",
            "Total: $920\n"
          ]
        }
      ],
      "source": [
        "print(f\"result {result['output']}\")"
      ]
    },
    {
      "cell_type": "markdown",
      "id": "8b5b8adb-77ad-43e7-a41c-7880a787b43e",
      "metadata": {},
      "source": [
        "## 额外字段\n\n所有 Box 连接器都能够从 Box `FileFull` 对象中选择额外的字段，作为自定义 LangChain 元数据返回。每个对象都接受一个可选的 `List[str]`，名为 `extra_fields`，其中包含返回对象中的 json 键，例如 `extra_fields=[\"shared_link\"]`。\n\n该连接器会将此字段添加到集成运行所需字段的列表中，然后将结果添加到 `Document` 或 `Blob` 中返回的元数据里，例如 `\"metadata\" : { \"source\" : \"source， \"shared_link\" : \"shared_link\" }`。如果该文件没有该字段，则返回一个空字符串，例如 `\"shared_link\" : \"\"`。"
      ]
    },
    {
      "cell_type": "markdown",
      "id": "3a5bb5ca-c3ae-4a58-be67-2cd18574b9a3",
      "metadata": {},
      "source": [
        "## API 参考\n\n有关 BoxRetriever 所有功能和配置的详细文档，请前往 [API 参考](https://python.langchain.com/api_reference/box/retrievers/langchain_box.retrievers.box.BoxRetriever.html)。\n\n\n## 帮助\n\n如果您有任何疑问，可以查看我们的 [开发者文档](https://developer.box.com) 或通过我们的 [开发者社区](https://community.box.com) 与我们联系。"
      ]
    }
  ],
  "metadata": {
    "kernelspec": {
      "display_name": "Python 3 (ipykernel)",
      "language": "python",
      "name": "python3"
    },
    "language_info": {
      "codemirror_mode": {
        "name": "ipython",
        "version": 3
      },
      "file_extension": ".py",
      "mimetype": "text/x-python",
      "name": "python",
      "nbconvert_exporter": "python",
      "pygments_lexer": "ipython3",
      "version": "3.11.6"
    }
  },
  "nbformat": 4,
  "nbformat_minor": 5
}