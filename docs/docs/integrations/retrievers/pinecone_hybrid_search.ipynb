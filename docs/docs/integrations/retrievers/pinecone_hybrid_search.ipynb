{
  "cells": [
    {
      "cell_type": "markdown",
      "id": "ab66dd43",
      "metadata": {},
      "source": [
        "# Pinecone 混合搜索\n\n>[Pinecone](https://docs.pinecone.io/docs/overview) 是一个功能广泛的向量数据库。\n\n本 Notebook 将介绍如何使用底层使用 Pinecone 和混合搜索的检索器。\n\n该检索器的逻辑取自[此文档](https://docs.pinecone.io/docs/hybrid-search)\n\n要使用 Pinecone，您必须拥有 API 密钥和环境。\n以下是[安装说明](https://docs.pinecone.io/docs/quickstart)。"
      ]
    },
    {
      "cell_type": "code",
      "execution_count": null,
      "id": "9ab4ab62-9bb2-4ecf-9fbf-1af7f0be558b",
      "metadata": {},
      "outputs": [],
      "source": [
        "%pip install --upgrade --quiet  pinecone pinecone-text pinecone-notebooks"
      ]
    },
    {
      "cell_type": "code",
      "execution_count": null,
      "id": "bf0cf405-451d-4f87-94b1-2b7d65f1e1be",
      "metadata": {},
      "outputs": [],
      "source": [
        "# Connect to Pinecone and get an API key.\n",
        "from pinecone_notebooks.colab import Authenticate\n",
        "\n",
        "Authenticate()\n",
        "\n",
        "import os\n",
        "\n",
        "api_key = os.environ[\"PINECONE_API_KEY\"]"
      ]
    },
    {
      "cell_type": "code",
      "execution_count": 75,
      "id": "393ac030",
      "metadata": {},
      "outputs": [],
      "source": [
        "from langchain_community.retrievers import (\n",
        "    PineconeHybridSearchRetriever,\n",
        ")"
      ]
    },
    {
      "cell_type": "markdown",
      "id": "80e2e8e3-0fb5-4bd9-9196-9eada3439a61",
      "metadata": {},
      "source": [
        "我们要使用 `OpenAIEmbeddings`，所以我们需要获取 OpenAI API 密钥。"
      ]
    },
    {
      "cell_type": "code",
      "execution_count": null,
      "id": "314a7ee5-f498-45f6-8fdb-81428730083e",
      "metadata": {},
      "outputs": [],
      "source": [
        "import getpass\n",
        "\n",
        "if \"OPENAI_API_KEY\" not in os.environ:\n",
        "    os.environ[\"OPENAI_API_KEY\"] = getpass.getpass(\"OpenAI API Key:\")"
      ]
    },
    {
      "cell_type": "markdown",
      "id": "aaf80e7f",
      "metadata": {},
      "source": [
        "## 设置 Pinecone"
      ]
    },
    {
      "cell_type": "markdown",
      "id": "95d5d7f9",
      "metadata": {},
      "source": [
        "您只需要执行一次此操作。"
      ]
    },
    {
      "cell_type": "code",
      "execution_count": 76,
      "id": "3b8f7697",
      "metadata": {},
      "outputs": [
        {
          "data": {
            "text/plain": [
              "WhoAmIResponse(username='load', user_label='label', projectname='load-test')"
            ]
          },
          "execution_count": 76,
          "metadata": {},
          "output_type": "execute_result"
        }
      ],
      "source": [
        "import os\n",
        "\n",
        "from pinecone import Pinecone, ServerlessSpec\n",
        "\n",
        "index_name = \"langchain-pinecone-hybrid-search\"\n",
        "\n",
        "# initialize Pinecone client\n",
        "pc = Pinecone(api_key=api_key)\n",
        "\n",
        "# create the index\n",
        "if index_name not in pc.list_indexes().names():\n",
        "    pc.create_index(\n",
        "        name=index_name,\n",
        "        dimension=1536,  # dimensionality of dense model\n",
        "        metric=\"dotproduct\",  # sparse values supported only for dotproduct\n",
        "        spec=ServerlessSpec(cloud=\"aws\", region=\"us-east-1\"),\n",
        "    )"
      ]
    },
    {
      "cell_type": "markdown",
      "id": "e01549af",
      "metadata": {},
      "source": [
        "现在索引已经创建，我们可以使用它了。"
      ]
    },
    {
      "cell_type": "code",
      "execution_count": 78,
      "id": "bcb3c8c2",
      "metadata": {},
      "outputs": [],
      "source": [
        "index = pc.Index(index_name)"
      ]
    },
    {
      "cell_type": "markdown",
      "id": "dbc025d6",
      "metadata": {},
      "source": [
        "## 获取嵌入和稀疏编码器\n\n嵌入用于稠密向量，分词器用于稀疏向量"
      ]
    },
    {
      "cell_type": "code",
      "execution_count": 79,
      "id": "2f63c911",
      "metadata": {},
      "outputs": [],
      "source": [
        "from langchain_openai import OpenAIEmbeddings\n",
        "\n",
        "embeddings = OpenAIEmbeddings()"
      ]
    },
    {
      "cell_type": "markdown",
      "id": "96bf8879",
      "metadata": {},
      "source": [
        "你可以选择 SPLADE 或 BM25 来将文本编码为稀疏值。对于非特定领域（out of domain）的任务，我们建议使用 BM25。\n\n有关稀疏编码器的更多信息，请查看 pinecone-text 库的 [文档](https://pinecone-io.github.io/pinecone-text/pinecone_text.html)。"
      ]
    },
    {
      "cell_type": "code",
      "execution_count": 80,
      "id": "c3f030e5",
      "metadata": {},
      "outputs": [],
      "source": [
        "from pinecone_text.sparse import BM25Encoder\n",
        "\n",
        "# or from pinecone_text.sparse import SpladeEncoder if you wish to work with SPLADE\n",
        "\n",
        "# use default tf-idf values\n",
        "bm25_encoder = BM25Encoder().default()"
      ]
    },
    {
      "cell_type": "markdown",
      "id": "23601ddb",
      "metadata": {},
      "source": [
        "以上代码使用的是默认的 tfids 值。强烈建议为语料库拟合 tf-idf 值。您可以按照以下方式进行操作：\n\n```python\ncorpus = [\"foo\", \"bar\", \"world\", \"hello\"]\n\n# 在您的语料库上拟合 tf-idf 值\nbm25_encoder.fit(corpus)\n\n# 将值存储到 json 文件中\nbm25_encoder.dump(\"bm25_values.json\")\n\n# 加载到您的 BM25Encoder 对象中\nbm25_encoder = BM25Encoder().load(\"bm25_values.json\")\n```"
      ]
    },
    {
      "cell_type": "markdown",
      "id": "5462801e",
      "metadata": {},
      "source": [
        "## Load Retriever\n\n至此，我们就可以构建 retriever！"
      ]
    },
    {
      "cell_type": "code",
      "execution_count": 81,
      "id": "ac77d835",
      "metadata": {},
      "outputs": [],
      "source": [
        "retriever = PineconeHybridSearchRetriever(\n",
        "    embeddings=embeddings, sparse_encoder=bm25_encoder, index=index\n",
        ")"
      ]
    },
    {
      "cell_type": "markdown",
      "id": "1c518c42",
      "metadata": {},
      "source": [
        "## 添加文本（如有必要）\n\n我们可以选择性地将文本添加到检索器中（如果它们尚不存在）"
      ]
    },
    {
      "cell_type": "code",
      "execution_count": 82,
      "id": "98b1c017",
      "metadata": {},
      "outputs": [
        {
          "name": "stderr",
          "output_type": "stream",
          "text": [
            "100%|██████████| 1/1 [00:02<00:00,  2.27s/it]\n"
          ]
        }
      ],
      "source": [
        "retriever.add_texts([\"foo\", \"bar\", \"world\", \"hello\"])"
      ]
    },
    {
      "cell_type": "markdown",
      "id": "08437fa2",
      "metadata": {},
      "source": [
        "## 使用检索器\n\n我们现在可以使用检索器了！"
      ]
    },
    {
      "cell_type": "code",
      "execution_count": 83,
      "id": "c0455218",
      "metadata": {},
      "outputs": [],
      "source": [
        "result = retriever.invoke(\"foo\")"
      ]
    },
    {
      "cell_type": "code",
      "execution_count": 84,
      "id": "7dfa5c29",
      "metadata": {},
      "outputs": [
        {
          "data": {
            "text/plain": [
              "Document(page_content='foo', metadata={})"
            ]
          },
          "execution_count": 84,
          "metadata": {},
          "output_type": "execute_result"
        }
      ],
      "source": [
        "result[0]"
      ]
    }
  ],
  "metadata": {
    "kernelspec": {
      "display_name": "Python 3 (ipykernel)",
      "language": "python",
      "name": "python3"
    },
    "language_info": {
      "codemirror_mode": {
        "name": "ipython",
        "version": 3
      },
      "file_extension": ".py",
      "mimetype": "text/x-python",
      "name": "python",
      "nbconvert_exporter": "python",
      "pygments_lexer": "ipython3",
      "version": "3.10.12"
    },
    "vscode": {
      "interpreter": {
        "hash": "7ec0d8babd8cabf695a1d94b1e586d626e046c9df609f6bad065d15d49f67f54"
      }
    }
  },
  "nbformat": 4,
  "nbformat_minor": 5
}