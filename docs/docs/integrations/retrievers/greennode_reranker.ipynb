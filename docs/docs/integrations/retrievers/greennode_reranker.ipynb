{
  "cells": [
    {
      "cell_type": "raw",
      "id": "afaf8039",
      "metadata": {},
      "source": [
        "---\n",
        "sidebar_label: GreenNode\n",
        "---"
      ]
    },
    {
      "cell_type": "markdown",
      "id": "e49f1e0d",
      "metadata": {},
      "source": [
        "# GreenNodeRetriever\n\n>[GreenNode](https://greennode.ai/)是一家全球人工智能解决方案提供商，也是 **NVIDIA 首选合作伙伴**，为美国、MENA 和 APAC 地区的各行业企业提供从基础设施到应用的全栈人工智能能力。GreenNode 运行在 **世界一流的基础设施** (LEED Gold, TIA‑942, Uptime Tier III) 上，通过一套全面的 AI 服务赋能企业、初创公司和研究人员。\n\n本 Notebook 提供了一个关于如何开始使用 `GreenNodeRerank` retriever 的指南。它使您能够使用内置连接器或通过集成自己的数据源来执行文档搜索，并利用 GreenNode 的重排（reranking）能力来提高相关性。\n\n### 集成详情\n\n- **提供商**：[GreenNode Serverless AI](https://aiplatform.console.greennode.ai/playground)\n- **模型类型**：重排（Reranking）模型\n- **主要用例**：根据语义相关性对搜索结果进行重排\n- **可用模型**：包括 [BAAI/bge-reranker-v2-m3](https://huggingface.co/BAAI/bge-reranker-v2-m3) 和其他高性能重排模型\n- **评分**：返回相关性分数，用于根据查询匹配度对文档候选进行重新排序\n\n## 设置\n\n要访问 GreenNode 模型，您需要创建一个 GreenNode 账户，获取一个 API 密钥，并安装 `langchain-greennode` 集成包。\n\n### 凭证\n\n前往[此页面](https://aiplatform.console.greennode.ai/api-keys)注册 GreenNode AI Platform 并生成 API 密钥。完成此操作后，请设置 GREENNODE_API_KEY 环境变量："
      ]
    },
    {
      "cell_type": "code",
      "execution_count": 1,
      "id": "a92b5a70",
      "metadata": {},
      "outputs": [],
      "source": [
        "import getpass\n",
        "import os\n",
        "\n",
        "if not os.getenv(\"GREENNODE_API_KEY\"):\n",
        "    os.environ[\"GREENNODE_API_KEY\"] = getpass.getpass(\"Enter your GreenNode API key: \")"
      ]
    },
    {
      "cell_type": "markdown",
      "id": "72ee0c4b-9764-423a-9dbf-95129e185210",
      "metadata": {},
      "source": [
        "如果你想从单个查询中获取自动化跟踪，你也可以通过取消注释以下内容来设置你的 [LangSmith](https://docs.smith.langchain.com/) API 密钥："
      ]
    },
    {
      "cell_type": "code",
      "execution_count": null,
      "id": "a15d341e-3e26-4ca3-830b-5aab30ed66de",
      "metadata": {},
      "outputs": [],
      "source": [
        "# os.environ[\"LANGSMITH_API_KEY\"] = getpass.getpass(\"Enter your LangSmith API key: \")\n",
        "# os.environ[\"LANGSMITH_TRACING\"] = \"true\""
      ]
    },
    {
      "cell_type": "markdown",
      "id": "0730d6a1-c893-4840-9817-5e5251676d5d",
      "metadata": {},
      "source": [
        "### 安装\n\n此检索器位于 `langchain-greennode` 包中："
      ]
    },
    {
      "cell_type": "code",
      "execution_count": 6,
      "id": "652d6238-1f87-422a-b135-f5abbb8652fc",
      "metadata": {},
      "outputs": [
        {
          "name": "stdout",
          "output_type": "stream",
          "text": [
            "Note: you may need to restart the kernel to use updated packages.\n"
          ]
        }
      ],
      "source": [
        "%pip install -qU langchain-greennode"
      ]
    },
    {
      "cell_type": "markdown",
      "id": "a38cde65-254d-4219-a441-068766c0d4b5",
      "metadata": {},
      "source": [
        "## 实例化\n\n`GreenNodeRerank` 类可以通过 API 密钥和模型名称的可选参数进行实例化："
      ]
    },
    {
      "cell_type": "code",
      "execution_count": null,
      "id": "70cc8e65-2a02-408a-bbc6-8ef649057d82",
      "metadata": {},
      "outputs": [],
      "source": [
        "from langchain_greennode import GreenNodeRerank\n",
        "\n",
        "# Initialize the embeddings model\n",
        "reranker = GreenNodeRerank(\n",
        "    # api_key=\"YOUR_API_KEY\",  # You can pass the API key directly\n",
        "    model=\"BAAI/bge-reranker-v2-m3\",  # The default embedding model\n",
        "    top_n=3,\n",
        ")"
      ]
    },
    {
      "cell_type": "markdown",
      "id": "5c5f2839-4020-424e-9fc9-07777eede442",
      "metadata": {},
      "source": [
        "## 用法\n\n### 重新排序搜索结果\n\n重新排序模型通过根据语义相关性来改进和重新排序初步的搜索结果，从而增强检索增强生成（RAG）工作流程。下面的示例演示了如何将 GreenNodeRerank 与基础检索器集成以提高检索文档的质量。"
      ]
    },
    {
      "cell_type": "code",
      "execution_count": null,
      "id": "51a60dbe-9f2e-4e04-bb62-23968f17164a",
      "metadata": {},
      "outputs": [
        {
          "name": "stderr",
          "output_type": "stream",
          "text": [
            "/var/folders/bs/g52lln652z11zjp98qf9wcy40000gn/T/ipykernel_96362/2544494776.py:41: LangChainDeprecationWarning: The method `BaseRetriever.get_relevant_documents` was deprecated in langchain-core 0.1.46 and will be removed in 1.0. Use :meth:`~invoke` instead.\n",
            "  results = rerank_retriever.get_relevant_documents(query)\n"
          ]
        },
        {
          "data": {
            "text/plain": [
              "[Document(metadata={'relevance_score': 0.125}, page_content='Central banks use interest rates to control inflation and stabilize the economy'),\n",
              " Document(metadata={'relevance_score': 0.004913330078125}, page_content='Inflation represents the rate at which the general level of prices for goods and services rises'),\n",
              " Document(metadata={'relevance_score': 1.6689300537109375e-05}, page_content='Cryptocurrencies like Bitcoin operate on decentralized blockchain networks')]"
            ]
          },
          "execution_count": 3,
          "metadata": {},
          "output_type": "execute_result"
        }
      ],
      "source": [
        "from langchain.retrievers.contextual_compression import ContextualCompressionRetriever\n",
        "from langchain_community.vectorstores import FAISS\n",
        "from langchain_core.documents import Document\n",
        "from langchain_greennode import GreenNodeEmbeddings\n",
        "\n",
        "# Initialize the embeddings model\n",
        "embeddings = GreenNodeEmbeddings(\n",
        "    # api_key=\"YOUR_API_KEY\",  # You can pass the API key directly\n",
        "    model=\"BAAI/bge-m3\"  # The default embedding model\n",
        ")\n",
        "\n",
        "# Prepare documents (finance/economics domain)\n",
        "docs = [\n",
        "    Document(\n",
        "        page_content=\"Inflation represents the rate at which the general level of prices for goods and services rises\"\n",
        "    ),\n",
        "    Document(\n",
        "        page_content=\"Central banks use interest rates to control inflation and stabilize the economy\"\n",
        "    ),\n",
        "    Document(\n",
        "        page_content=\"Cryptocurrencies like Bitcoin operate on decentralized blockchain networks\"\n",
        "    ),\n",
        "    Document(\n",
        "        page_content=\"Stock markets are influenced by corporate earnings, investor sentiment, and economic indicators\"\n",
        "    ),\n",
        "]\n",
        "\n",
        "# Create a vector store and a base retriever\n",
        "vector_store = FAISS.from_documents(docs, embeddings)\n",
        "base_retriever = vector_store.as_retriever(search_kwargs={\"k\": 4})\n",
        "\n",
        "\n",
        "rerank_retriever = ContextualCompressionRetriever(\n",
        "    base_compressor=reranker, base_retriever=base_retriever\n",
        ")\n",
        "\n",
        "# Perform retrieval with reranking\n",
        "query = \"How do central banks fight rising prices?\"\n",
        "results = rerank_retriever.get_relevant_documents(query)\n",
        "\n",
        "results"
      ]
    },
    {
      "cell_type": "markdown",
      "id": "7efa742d",
      "metadata": {},
      "source": [
        "### 直接使用\n\n`GreenNodeRerank` 类可以独立使用，根据相关性分数对检索到的文档进行重排序。当初始检索步骤（例如，关键字或向量搜索）返回大量候选文档，而需要第二个模型使用更复杂的语义理解来优化结果时，此功能尤其有用。该类接受一个查询和一份候选文档列表，并根据预测的相关性返回一个重新排序的列表。"
      ]
    },
    {
      "cell_type": "code",
      "execution_count": null,
      "id": "78d9051e",
      "metadata": {},
      "outputs": [
        {
          "data": {
            "text/plain": [
              "[{'index': 1, 'relevance_score': 1.0},\n",
              " {'index': 0, 'relevance_score': 0.01165771484375},\n",
              " {'index': 3, 'relevance_score': 0.0012054443359375}]"
            ]
          },
          "execution_count": 4,
          "metadata": {},
          "output_type": "execute_result"
        }
      ],
      "source": [
        "test_documents = [\n",
        "    Document(\n",
        "        page_content=\"Carson City is the capital city of the American state of Nevada.\"\n",
        "    ),\n",
        "    Document(\n",
        "        page_content=\"Washington, D.C. (also known as simply Washington or D.C.) is the capital of the United States.\"\n",
        "    ),\n",
        "    Document(\n",
        "        page_content=\"Capital punishment has existed in the United States since beforethe United States was a country.\"\n",
        "    ),\n",
        "    Document(\n",
        "        page_content=\"The Commonwealth of the Northern Mariana Islands is a group of islands in the Pacific Ocean. Its capital is Saipan.\"\n",
        "    ),\n",
        "]\n",
        "\n",
        "test_query = \"What is the capital of the United States?\"\n",
        "results = reranker.rerank(test_documents, test_query)\n",
        "results"
      ]
    },
    {
      "cell_type": "markdown",
      "id": "dfe8aad4-8626-4330-98a9-7ea1ca5d2e0e",
      "metadata": {},
      "source": [
        "## 在链中\n\nGreenNodeRerank 在 LangChain RAG 管道中无缝工作。以下是一个使用 GreenNodeRerank 创建简单 RAG 链的示例："
      ]
    },
    {
      "cell_type": "code",
      "execution_count": 5,
      "id": "25b647a3-f8f2-4541-a289-7a241e43f9df",
      "metadata": {},
      "outputs": [
        {
          "data": {
            "text/plain": [
              "'\\n\\nCentral banks combat rising prices, or inflation, by adjusting interest rates. By raising interest rates, they increase the cost of borrowing, which discourages spending and investment. This reduction in demand helps slow down the rate of price increases, thereby controlling inflation and contributing to economic stability.'"
            ]
          },
          "execution_count": 5,
          "metadata": {},
          "output_type": "execute_result"
        }
      ],
      "source": [
        "from langchain_core.output_parsers import StrOutputParser\n",
        "from langchain_core.prompts import ChatPromptTemplate\n",
        "from langchain_core.runnables import RunnablePassthrough\n",
        "from langchain_greennode import ChatGreenNode\n",
        "\n",
        "# Initialize LLM\n",
        "llm = ChatGreenNode(model=\"deepseek-ai/DeepSeek-R1-Distill-Qwen-32B\")\n",
        "\n",
        "# Create a prompt template\n",
        "prompt = ChatPromptTemplate.from_template(\n",
        "    \"\"\"\n",
        "Answer the question based only on the following context:\n",
        "\n",
        "Context:\n",
        "{context}\n",
        "\n",
        "Question: {question}\n",
        "\"\"\"\n",
        ")\n",
        "\n",
        "\n",
        "# Format documents function\n",
        "def format_docs(docs):\n",
        "    return \"\\n\\n\".join(doc.page_content for doc in docs)\n",
        "\n",
        "\n",
        "# Create RAG chain\n",
        "rag_chain = (\n",
        "    {\"context\": rerank_retriever | format_docs, \"question\": RunnablePassthrough()}\n",
        "    | prompt\n",
        "    | llm\n",
        "    | StrOutputParser()\n",
        ")\n",
        "\n",
        "# Run the chain\n",
        "answer = rag_chain.invoke(\"How do central banks fight rising prices?\")\n",
        "answer"
      ]
    },
    {
      "cell_type": "markdown",
      "id": "3a5bb5ca-c3ae-4a58-be67-2cd18574b9a3",
      "metadata": {},
      "source": [
        "## API 参考\n\n有关 GreenNode Serverless AI API 的更多详细信息，请访问 [GreenNode Serverless AI 文档](https://aiplatform.console.greennode.ai/api-docs/maas)。"
      ]
    }
  ],
  "metadata": {
    "kernelspec": {
      "display_name": "tradingagents",
      "language": "python",
      "name": "python3"
    },
    "language_info": {
      "codemirror_mode": {
        "name": "ipython",
        "version": 3
      },
      "file_extension": ".py",
      "mimetype": "text/x-python",
      "name": "python",
      "nbconvert_exporter": "python",
      "pygments_lexer": "ipython3",
      "version": "3.13.5"
    }
  },
  "nbformat": 4,
  "nbformat_minor": 5
}