{
  "cells": [
    {
      "cell_type": "markdown",
      "id": "263f914c-9d67-4316-8b3d-03c3b99ba9d8",
      "metadata": {},
      "source": [
        "# SEC 文件\n\n\n>[SEC filing](https://www.sec.gov/edgar) 是提交给美国证券交易委员会（SEC）的财务报表或其他正式文件。上市公司、某些内部人士以及券商需要定期进行 `SEC filings`。投资者和金融专业人士依赖这些文件来获取他们正在评估投资的公司信息。\n>\n>`SEC filings` 数据由 [Kay.ai](https://kay.ai) 和 [Cybersyn](https://www.cybersyn.com/) 通过 [Snowflake Marketplace](https://app.snowflake.com/marketplace/providers/GZTSZAS2KCS/Cybersyn%2C%20Inc) 提供支持。"
      ]
    },
    {
      "cell_type": "markdown",
      "id": "fc507b8e-ea51-417c-93da-42bf998a1195",
      "metadata": {},
      "source": [
        "## 设置\n\n首先，您需要安装 `kay` 包。您还需要一个 API 密钥：您可以在 [https://kay.ai](https://kay.ai/) 免费获取一个。获得 API 密钥后，您必须将其设置为环境变量 `KAY_API_KEY`。\n\n在此示例中，我们将使用 `KayAiRetriever`。有关它接受的参数的更详细信息，请参阅 [kay notebook](/docs/integrations/retrievers/kay)。"
      ]
    },
    {
      "cell_type": "code",
      "execution_count": 2,
      "id": "f7b8c99c-0341-4f3c-912f-a11e98f7de71",
      "metadata": {},
      "outputs": [
        {
          "name": "stdin",
          "output_type": "stream",
          "text": [
            " ········\n",
            " ········\n"
          ]
        }
      ],
      "source": [
        "# Setup API keys for Kay and OpenAI\n",
        "from getpass import getpass\n",
        "\n",
        "KAY_API_KEY = getpass()\n",
        "OPENAI_API_KEY = getpass()"
      ]
    },
    {
      "cell_type": "code",
      "execution_count": 3,
      "id": "04ee2d6b-c2ab-4e15-8a8b-afaf6ef8c0f6",
      "metadata": {},
      "outputs": [],
      "source": [
        "import os\n",
        "\n",
        "os.environ[\"KAY_API_KEY\"] = KAY_API_KEY\n",
        "os.environ[\"OPENAI_API_KEY\"] = OPENAI_API_KEY"
      ]
    },
    {
      "cell_type": "markdown",
      "id": "c923bea0-585a-4f62-8662-efc167e8d793",
      "metadata": {},
      "source": [
        "## 示例"
      ]
    },
    {
      "cell_type": "code",
      "execution_count": 7,
      "id": "0c504bcd-f6e0-4028-a797-b31fb4b6d027",
      "metadata": {},
      "outputs": [],
      "source": [
        "from langchain.chains import ConversationalRetrievalChain\n",
        "from langchain_community.retrievers import KayAiRetriever\n",
        "from langchain_openai import ChatOpenAI\n",
        "\n",
        "model = ChatOpenAI(model=\"gpt-3.5-turbo\")\n",
        "retriever = KayAiRetriever.create(\n",
        "    dataset_id=\"company\", data_types=[\"10-K\", \"10-Q\"], num_contexts=6\n",
        ")\n",
        "qa = ConversationalRetrievalChain.from_llm(model, retriever=retriever)"
      ]
    },
    {
      "cell_type": "code",
      "execution_count": 11,
      "id": "977f158b-38d3-4b5f-9379-7cdd09436327",
      "metadata": {},
      "outputs": [
        {
          "name": "stdout",
          "output_type": "stream",
          "text": [
            "-> **Question**: What are patterns in Nvidia's spend over the past three quarters? \n",
            "\n",
            "**Answer**: Based on the provided information, here are the patterns in NVIDIA's spend over the past three quarters:\n",
            "\n",
            "1. Research and Development Expenses:\n",
            "   - Q3 2022: Increased by 34% compared to Q3 2021.\n",
            "   - Q1 2023: Increased by 40% compared to Q1 2022.\n",
            "   - Q2 2022: Increased by 25% compared to Q2 2021.\n",
            "   \n",
            "   Overall, research and development expenses have been consistently increasing over the past three quarters.\n",
            "\n",
            "2. Sales, General and Administrative Expenses:\n",
            "   - Q3 2022: Increased by 8% compared to Q3 2021.\n",
            "   - Q1 2023: Increased by 14% compared to Q1 2022.\n",
            "   - Q2 2022: Decreased by 16% compared to Q2 2021.\n",
            "   \n",
            "   The pattern for sales, general and administrative expenses is not as consistent, with some quarters showing an increase and others showing a decrease.\n",
            "\n",
            "3. Total Operating Expenses:\n",
            "   - Q3 2022: Increased by 25% compared to Q3 2021.\n",
            "   - Q1 2023: Increased by 113% compared to Q1 2022.\n",
            "   - Q2 2022: Increased by 9% compared to Q2 2021.\n",
            "   \n",
            "   Total operating expenses have generally been increasing over the past three quarters, with a significant increase in Q1 2023.\n",
            "\n",
            "Overall, the pattern indicates a consistent increase in research and development expenses and total operating expenses, while sales, general and administrative expenses show some fluctuations. \n",
            "\n"
          ]
        }
      ],
      "source": [
        "questions = [\n",
        "    \"What are patterns in Nvidia's spend over the past three quarters?\",\n",
        "    # \"What are some recent challenges faced by the renewable energy sector?\",\n",
        "]\n",
        "chat_history = []\n",
        "\n",
        "for question in questions:\n",
        "    result = qa({\"question\": question, \"chat_history\": chat_history})\n",
        "    chat_history.append((question, result[\"answer\"]))\n",
        "    print(f\"-> **Question**: {question} \\n\")\n",
        "    print(f\"**Answer**: {result['answer']} \\n\")"
      ]
    }
  ],
  "metadata": {
    "kernelspec": {
      "display_name": "Python 3 (ipykernel)",
      "language": "python",
      "name": "python3"
    },
    "language_info": {
      "codemirror_mode": {
        "name": "ipython",
        "version": 3
      },
      "file_extension": ".py",
      "mimetype": "text/x-python",
      "name": "python",
      "nbconvert_exporter": "python",
      "pygments_lexer": "ipython3",
      "version": "3.10.12"
    }
  },
  "nbformat": 4,
  "nbformat_minor": 5
}