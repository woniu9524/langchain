{
  "cells": [
    {
      "cell_type": "markdown",
      "metadata": {
        "collapsed": false
      },
      "source": [
        "# Zep Cloud\n## Zep Cloud 的检索器示例\n\n> 回忆、理解并从聊天记录中提取数据。赋能个性化的 AI 体验。\n\n> [Zep](https://www.getzep.com) 是 AI 助手应用的长期记忆服务。\n> 使用 Zep，您可以使 AI 助手具备回忆过去对话的能力，无论对话距离多久远，\n> 同时还能减少幻觉、延迟和成本。\n\n> 请参阅 [Zep Cloud 安装指南](https://help.getzep.com/sdks) 和更多 [Zep Cloud Langchain 示例](https://github.com/getzep/zep-python/tree/main/examples)"
      ]
    },
    {
      "attachments": {},
      "cell_type": "markdown",
      "metadata": {},
      "source": [
        "## 检索器示例\n\n本笔记本演示如何使用 [Zep 长时记忆存储](https://www.getzep.com/)搜索历史聊天消息记录。\n\n我们将演示：\n\n1. 将对话历史添加到 Zep 记忆存储中。\n2. 在对话历史中进行向量搜索：\n    1. 对聊天消息进行相似性搜索\n    2. 使用最大边际相关性对聊天消息搜索进行重新排序\n    3. 使用元数据过滤器过滤搜索\n    4. 对聊天消息摘要进行相似性搜索\n    5. 使用最大边际相关性对摘要搜索进行重新排序"
      ]
    },
    {
      "cell_type": "code",
      "execution_count": null,
      "metadata": {
        "collapsed": false
      },
      "outputs": [],
      "source": [
        "import getpass\n",
        "import time\n",
        "from uuid import uuid4\n",
        "\n",
        "from langchain_community.memory.zep_cloud_memory import ZepCloudMemory\n",
        "from langchain_community.retrievers import ZepCloudRetriever\n",
        "from langchain_core.messages import AIMessage, HumanMessage\n",
        "\n",
        "# Provide your Zep API key.\n",
        "zep_api_key = getpass.getpass()"
      ]
    },
    {
      "attachments": {},
      "cell_type": "markdown",
      "metadata": {},
      "source": [
        "### 初始化 Zep Chat Message History 类并将聊天消息历史记录添加到内存存储中\n\n**注意：** 与其他检索器不同，Zep 检索器返回的内容是特定于会话/用户的。实例化检索器时需要 `session_id`。"
      ]
    },
    {
      "cell_type": "code",
      "execution_count": null,
      "metadata": {
        "collapsed": false
      },
      "outputs": [],
      "source": [
        "session_id = str(uuid4())  # This is a unique identifier for the user/session\n",
        "\n",
        "# Initialize the Zep Memory Class\n",
        "zep_memory = ZepCloudMemory(session_id=session_id, api_key=zep_api_key)"
      ]
    },
    {
      "cell_type": "code",
      "execution_count": null,
      "metadata": {
        "collapsed": false
      },
      "outputs": [],
      "source": [
        "# Preload some messages into the memory. The default message window is 4 messages. We want to push beyond this to demonstrate auto-summarization.\n",
        "test_history = [\n",
        "    {\"role\": \"human\", \"role_type\": \"user\", \"content\": \"Who was Octavia Butler?\"},\n",
        "    {\n",
        "        \"role\": \"ai\",\n",
        "        \"role_type\": \"assistant\",\n",
        "        \"content\": (\n",
        "            \"Octavia Estelle Butler (June 22, 1947 – February 24, 2006) was an American\"\n",
        "            \" science fiction author.\"\n",
        "        ),\n",
        "    },\n",
        "    {\n",
        "        \"role\": \"human\",\n",
        "        \"role_type\": \"user\",\n",
        "        \"content\": \"Which books of hers were made into movies?\",\n",
        "    },\n",
        "    {\n",
        "        \"role\": \"ai\",\n",
        "        \"role_type\": \"assistant\",\n",
        "        \"content\": (\n",
        "            \"The most well-known adaptation of Octavia Butler's work is the FX series\"\n",
        "            \" Kindred, based on her novel of the same name.\"\n",
        "        ),\n",
        "    },\n",
        "    {\"role\": \"human\", \"role_type\": \"user\", \"content\": \"Who were her contemporaries?\"},\n",
        "    {\n",
        "        \"role\": \"ai\",\n",
        "        \"role_type\": \"assistant\",\n",
        "        \"content\": (\n",
        "            \"Octavia Butler's contemporaries included Ursula K. Le Guin, Samuel R.\"\n",
        "            \" Delany, and Joanna Russ.\"\n",
        "        ),\n",
        "    },\n",
        "    {\"role\": \"human\", \"role_type\": \"user\", \"content\": \"What awards did she win?\"},\n",
        "    {\n",
        "        \"role\": \"ai\",\n",
        "        \"role_type\": \"assistant\",\n",
        "        \"content\": (\n",
        "            \"Octavia Butler won the Hugo Award, the Nebula Award, and the MacArthur\"\n",
        "            \" Fellowship.\"\n",
        "        ),\n",
        "    },\n",
        "    {\n",
        "        \"role\": \"human\",\n",
        "        \"role_type\": \"user\",\n",
        "        \"content\": \"Which other women sci-fi writers might I want to read?\",\n",
        "    },\n",
        "    {\n",
        "        \"role\": \"ai\",\n",
        "        \"role_type\": \"assistant\",\n",
        "        \"content\": \"You might want to read Ursula K. Le Guin or Joanna Russ.\",\n",
        "    },\n",
        "    {\n",
        "        \"role\": \"human\",\n",
        "        \"role_type\": \"user\",\n",
        "        \"content\": (\n",
        "            \"Write a short synopsis of Butler's book, Parable of the Sower. What is it\"\n",
        "            \" about?\"\n",
        "        ),\n",
        "    },\n",
        "    {\n",
        "        \"role\": \"ai\",\n",
        "        \"role_type\": \"assistant\",\n",
        "        \"content\": (\n",
        "            \"Parable of the Sower is a science fiction novel by Octavia Butler,\"\n",
        "            \" published in 1993. It follows the story of Lauren Olamina, a young woman\"\n",
        "            \" living in a dystopian future where society has collapsed due to\"\n",
        "            \" environmental disasters, poverty, and violence.\"\n",
        "        ),\n",
        "    },\n",
        "    {\n",
        "        \"role\": \"human\",\n",
        "        \"role_type\": \"user\",\n",
        "        \"content\": \"What is the setting of the book?\",\n",
        "    },\n",
        "    {\n",
        "        \"role\": \"ai\",\n",
        "        \"role_type\": \"assistant\",\n",
        "        \"content\": (\n",
        "            \"The book is set in a dystopian future in the 2020s, where society has\"\n",
        "            \" collapsed due to climate change and economic crises.\"\n",
        "        ),\n",
        "    },\n",
        "    {\"role\": \"human\", \"role_type\": \"user\", \"content\": \"Who is the protagonist?\"},\n",
        "    {\n",
        "        \"role\": \"ai\",\n",
        "        \"role_type\": \"assistant\",\n",
        "        \"content\": (\n",
        "            \"The protagonist of the book is Lauren Olamina, a young woman who possesses\"\n",
        "            \" 'hyperempathy', the ability to feel pain and other sensations she\"\n",
        "            \" witnesses.\"\n",
        "        ),\n",
        "    },\n",
        "    {\n",
        "        \"role\": \"human\",\n",
        "        \"role_type\": \"user\",\n",
        "        \"content\": \"What is the main theme of the book?\",\n",
        "    },\n",
        "    {\n",
        "        \"role\": \"ai\",\n",
        "        \"role_type\": \"assistant\",\n",
        "        \"content\": (\n",
        "            \"The main theme of the book is survival in the face of drastic societal\"\n",
        "            \" change and collapse. It also explores themes of adaptability, community,\"\n",
        "            \" and the human capacity for change.\"\n",
        "        ),\n",
        "    },\n",
        "    {\n",
        "        \"role\": \"human\",\n",
        "        \"role_type\": \"user\",\n",
        "        \"content\": \"What is the 'Parable of the Sower'?\",\n",
        "    },\n",
        "    {\n",
        "        \"role\": \"ai\",\n",
        "        \"role_type\": \"assistant\",\n",
        "        \"content\": (\n",
        "            \"The 'Parable of the Sower' is a biblical parable that Butler uses as a\"\n",
        "            \" metaphor in the book. In the parable, a sower scatters seeds, some of\"\n",
        "            \" which fall on fertile ground and grow, while others fall on rocky ground\"\n",
        "            \" or among thorns and fail to grow. The parable is used to illustrate the\"\n",
        "            \" importance of receptivity and preparedness in the face of change.\"\n",
        "        ),\n",
        "    },\n",
        "    {\n",
        "        \"role\": \"human\",\n",
        "        \"role_type\": \"user\",\n",
        "        \"content\": \"What is Butler's writing style like?\",\n",
        "    },\n",
        "    {\n",
        "        \"role\": \"ai\",\n",
        "        \"role_type\": \"assistant\",\n",
        "        \"content\": (\n",
        "            \"Butler's writing style is known for its clarity, directness, and\"\n",
        "            \" psychological insight. Her narratives often involve complex, diverse\"\n",
        "            \" characters and explore themes of race, gender, and power.\"\n",
        "        ),\n",
        "    },\n",
        "    {\n",
        "        \"role\": \"human\",\n",
        "        \"role_type\": \"user\",\n",
        "        \"content\": \"What other books has she written?\",\n",
        "    },\n",
        "    {\n",
        "        \"role\": \"ai\",\n",
        "        \"content\": (\n",
        "            \"In addition to 'Parable of the Sower', Butler has written several other\"\n",
        "            \" notable works, including 'Kindred', 'Dawn', and 'Parable of the Talents'.\"\n",
        "        ),\n",
        "    },\n",
        "]\n",
        "\n",
        "for msg in test_history:\n",
        "    zep_memory.chat_memory.add_message(\n",
        "        HumanMessage(content=msg[\"content\"])\n",
        "        if msg[\"role\"] == \"human\"\n",
        "        else AIMessage(content=msg[\"content\"])\n",
        "    )\n",
        "\n",
        "time.sleep(\n",
        "    10\n",
        ")  # Wait for the messages to be embedded and summarized, this happens asynchronously."
      ]
    },
    {
      "attachments": {},
      "cell_type": "markdown",
      "metadata": {},
      "source": [
        "### 使用 Zep Retriever 对 Zep 内存进行向量搜索\n\nZep 提供对历史对话内存的本地向量搜索。嵌入会自动发生。\n\n注意：消息的嵌入是异步发生的，因此第一次查询可能不会返回结果。随着嵌入的生成，后续查询将返回结果。"
      ]
    },
    {
      "cell_type": "code",
      "execution_count": 8,
      "metadata": {
        "ExecuteTime": {
          "end_time": "2024-05-10T14:32:06.613100Z",
          "start_time": "2024-05-10T14:32:06.369301Z"
        },
        "collapsed": false
      },
      "outputs": [
        {
          "data": {
            "text/plain": [
              "[Document(page_content=\"What is the 'Parable of the Sower'?\", metadata={'score': 0.9333381652832031, 'uuid': 'bebc441c-a32d-44a1-ae61-968e7b3d4956', 'created_at': '2024-05-10T05:02:01.857627Z', 'token_count': 11, 'role': 'human'}),\n",
              " Document(page_content=\"The 'Parable of the Sower' is a biblical parable that Butler uses as a metaphor in the book. In the parable, a sower scatters seeds, some of which fall on fertile ground and grow, while others fall on rocky ground or among thorns and fail to grow. The parable is used to illustrate the importance of receptivity and preparedness in the face of change.\", metadata={'score': 0.8757256865501404, 'uuid': '193c60d8-2b7b-4eb1-a4be-c2d8afd92991', 'created_at': '2024-05-10T05:02:01.97174Z', 'token_count': 82, 'role': 'ai'}),\n",
              " Document(page_content=\"Write a short synopsis of Butler's book, Parable of the Sower. What is it about?\", metadata={'score': 0.8641344904899597, 'uuid': 'fc78901d-a625-4530-ba63-1ae3e3b11683', 'created_at': '2024-05-10T05:02:00.942994Z', 'token_count': 21, 'role': 'human'}),\n",
              " Document(page_content='Parable of the Sower is a science fiction novel by Octavia Butler, published in 1993. It follows the story of Lauren Olamina, a young woman living in a dystopian future where society has collapsed due to environmental disasters, poverty, and violence.', metadata={'score': 0.8581685125827789, 'uuid': '91f2cda4-276e-446d-96bf-07d34e5af616', 'created_at': '2024-05-10T05:02:01.05577Z', 'token_count': 54, 'role': 'ai'}),\n",
              " Document(page_content=\"In addition to 'Parable of the Sower', Butler has written several other notable works, including 'Kindred', 'Dawn', and 'Parable of the Talents'.\", metadata={'score': 0.8076582252979279, 'uuid': 'e3994519-9a90-410c-b14c-2c652f6d184f', 'created_at': '2024-05-10T05:02:02.401682Z', 'token_count': 37, 'role': 'ai'})]"
            ]
          },
          "execution_count": 8,
          "metadata": {},
          "output_type": "execute_result"
        }
      ],
      "source": [
        "zep_retriever = ZepCloudRetriever(\n",
        "    api_key=zep_api_key,\n",
        "    session_id=session_id,  # Ensure that you provide the session_id when instantiating the Retriever\n",
        "    top_k=5,\n",
        ")\n",
        "\n",
        "await zep_retriever.ainvoke(\"Who wrote Parable of the Sower?\")"
      ]
    },
    {
      "attachments": {},
      "cell_type": "markdown",
      "metadata": {},
      "source": [
        "我们也可以使用 Zep sync API 来检索结果："
      ]
    },
    {
      "cell_type": "code",
      "execution_count": 7,
      "metadata": {
        "ExecuteTime": {
          "end_time": "2024-05-10T14:31:37.611570Z",
          "start_time": "2024-05-10T14:31:37.298903Z"
        },
        "collapsed": false
      },
      "outputs": [
        {
          "data": {
            "text/plain": [
              "[Document(page_content='Parable of the Sower is a science fiction novel by Octavia Butler set in a dystopian future in the 2020s. The story follows Lauren Olamina, a young woman living in a society that has collapsed due to environmental disasters, poverty, and violence. The novel explores themes of societal breakdown, the struggle for survival, and the search for a better future.', metadata={'score': 0.8473024368286133, 'uuid': 'e4689f8e-33be-4a59-a9c2-e5ef5dd70f74', 'created_at': '2024-05-10T05:02:02.713123Z', 'token_count': 76})]"
            ]
          },
          "execution_count": 7,
          "metadata": {},
          "output_type": "execute_result"
        }
      ],
      "source": [
        "zep_retriever.invoke(\"Who wrote Parable of the Sower?\")"
      ]
    },
    {
      "attachments": {},
      "cell_type": "markdown",
      "metadata": {},
      "source": [
        "### 使用 MMR（最大边际相关性）进行重排\n\nZep 原生支持使用 MMR 进行结果重排，并经过 SIMD 加速。这有助于消除结果中的冗余。"
      ]
    },
    {
      "cell_type": "code",
      "execution_count": null,
      "metadata": {
        "collapsed": false
      },
      "outputs": [],
      "source": [
        "zep_retriever = ZepCloudRetriever(\n",
        "    api_key=zep_api_key,\n",
        "    session_id=session_id,  # Ensure that you provide the session_id when instantiating the Retriever\n",
        "    top_k=5,\n",
        "    search_type=\"mmr\",\n",
        "    mmr_lambda=0.5,\n",
        ")\n",
        "\n",
        "await zep_retriever.ainvoke(\"Who wrote Parable of the Sower?\")"
      ]
    },
    {
      "attachments": {},
      "cell_type": "markdown",
      "metadata": {},
      "source": [
        "### 使用元数据过滤器优化搜索结果\n\nZep 支持按元数据过滤结果。这对于按实体类型或其他元数据过滤结果非常有用。\n\n更多信息请参阅：https://help.getzep.com/document-collections#searching-a-collection-with-hybrid-vector-search"
      ]
    },
    {
      "cell_type": "code",
      "execution_count": null,
      "metadata": {},
      "outputs": [],
      "source": [
        "filter = {\"where\": {\"jsonpath\": '$[*] ? (@.baz == \"qux\")'}}\n",
        "\n",
        "await zep_retriever.ainvoke(\n",
        "    \"Who wrote Parable of the Sower?\", config={\"metadata\": filter}\n",
        ")"
      ]
    },
    {
      "cell_type": "markdown",
      "metadata": {},
      "source": [
        "### 使用 MMR 重排进行摘要搜索\n\nZep 会自动生成聊天消息的摘要。您可以使用 Zep Retriever 对这些摘要进行搜索。由于摘要是对对话的提炼，它们更有可能与您的搜索查询匹配，并为 LLM 提供丰富而简洁的上下文。\n\n连续的摘要可能包含相似的内容，Zep 的相似性搜索会返回匹配度最高的搜索结果，但多样性却很低。\nMMR 会对搜索结果进行重排，以确保您填充到 Prompt 中的摘要不仅相关，而且每条都能为 LLM 提供额外的信息。"
      ]
    },
    {
      "cell_type": "code",
      "execution_count": 9,
      "metadata": {
        "ExecuteTime": {
          "end_time": "2024-05-10T14:32:56.877960Z",
          "start_time": "2024-05-10T14:32:56.517360Z"
        }
      },
      "outputs": [
        {
          "data": {
            "text/plain": [
              "[Document(page_content='Parable of the Sower is a science fiction novel by Octavia Butler set in a dystopian future in the 2020s. The story follows Lauren Olamina, a young woman living in a society that has collapsed due to environmental disasters, poverty, and violence. The novel explores themes of societal breakdown, the struggle for survival, and the search for a better future.', metadata={'score': 0.8473024368286133, 'uuid': 'e4689f8e-33be-4a59-a9c2-e5ef5dd70f74', 'created_at': '2024-05-10T05:02:02.713123Z', 'token_count': 76}),\n",
              " Document(page_content='The \\'Parable of the Sower\\' refers to a new religious belief system that the protagonist, Lauren Olamina, develops over the course of the novel. As her community disintegrates due to climate change, economic collapse, and social unrest, Lauren comes to believe that humanity must adapt and \"shape God\" in order to survive. The \\'Parable of the Sower\\' is the foundational text of this new religion, which Lauren calls \"Earthseed\", that emphasizes the inevitability of change and the need for humanity to take an active role in shaping its own future. This parable is a central thematic element of the novel, representing the protagonist\\'s search for meaning and purpose in the face of societal upheaval.', metadata={'score': 0.8466987311840057, 'uuid': '1f1a44eb-ebd8-4617-ac14-0281099bd770', 'created_at': '2024-05-10T05:02:07.541073Z', 'token_count': 146}),\n",
              " Document(page_content='The dialog discusses the central themes of Octavia Butler\\'s acclaimed science fiction novel \"Parable of the Sower.\" The main theme is survival in the face of drastic societal collapse, and the importance of adaptability, community, and the human capacity for change. The \"Parable of the Sower,\" a biblical parable, serves as a metaphorical framework for the novel, illustrating the need for receptivity and preparedness when confronting transformative upheaval.', metadata={'score': 0.8283970355987549, 'uuid': '4158a750-3ccd-45ce-ab88-fed5ba68b755', 'created_at': '2024-05-10T05:02:06.510068Z', 'token_count': 91})]"
            ]
          },
          "execution_count": 9,
          "metadata": {},
          "output_type": "execute_result"
        }
      ],
      "source": [
        "zep_retriever = ZepCloudRetriever(\n",
        "    api_key=zep_api_key,\n",
        "    session_id=session_id,  # Ensure that you provide the session_id when instantiating the Retriever\n",
        "    top_k=3,\n",
        "    search_scope=\"summary\",\n",
        "    search_type=\"mmr\",\n",
        "    mmr_lambda=0.5,\n",
        ")\n",
        "\n",
        "await zep_retriever.ainvoke(\"Who wrote Parable of the Sower?\")"
      ]
    },
    {
      "cell_type": "code",
      "execution_count": null,
      "metadata": {},
      "outputs": [],
      "source": []
    }
  ],
  "metadata": {
    "kernelspec": {
      "display_name": "Python 3 (ipykernel)",
      "language": "python",
      "name": "python3"
    },
    "language_info": {
      "codemirror_mode": {
        "name": "ipython",
        "version": 3
      },
      "file_extension": ".py",
      "mimetype": "text/x-python",
      "name": "python",
      "nbconvert_exporter": "python",
      "pygments_lexer": "ipython3",
      "version": "3.10.12"
    }
  },
  "nbformat": 4,
  "nbformat_minor": 4
}