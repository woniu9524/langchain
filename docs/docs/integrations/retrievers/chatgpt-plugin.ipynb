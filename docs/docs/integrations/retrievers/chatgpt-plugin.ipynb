{
  "cells": [
    {
      "cell_type": "markdown",
      "id": "1edb9e6b",
      "metadata": {},
      "source": [
        "# ChatGPT 插件\n\n>[OpenAI 插件](https://platform.openai.com/docs/plugins/introduction)将 `ChatGPT` 连接到第三方应用程序。这些插件使 `ChatGPT` 能够与开发者定义的 API 进行交互，从而增强 `ChatGPT` 的功能并允许其执行广泛的操作。\n\n>插件允许 `ChatGPT` 执行诸如以下操作：\n>- 检索实时信息；例如，体育比分、股票价格、最新新闻等。\n>- 检索知识库信息；例如，公司文档、个人笔记等。\n>- 代表用户执行操作；例如，预订航班、订餐等。\n\n本笔记本展示了如何在 LangChain 中使用 ChatGPT Retriever 插件。"
      ]
    },
    {
      "cell_type": "code",
      "execution_count": 2,
      "id": "bbe89ca0",
      "metadata": {
        "tags": []
      },
      "outputs": [],
      "source": [
        "# STEP 1: Load\n",
        "\n",
        "# Load documents using LangChain's DocumentLoaders\n",
        "# This is from https://langchain.readthedocs.io/en/latest/modules/document_loaders/examples/csv.html\n",
        "\n",
        "from langchain_community.document_loaders import CSVLoader\n",
        "from langchain_core.documents import Document\n",
        "\n",
        "loader = CSVLoader(\n",
        "    file_path=\"../../document_loaders/examples/example_data/mlb_teams_2012.csv\"\n",
        ")\n",
        "data = loader.load()\n",
        "\n",
        "\n",
        "# STEP 2: Convert\n",
        "\n",
        "# Convert Document to format expected by https://github.com/openai/chatgpt-retrieval-plugin\n",
        "import json\n",
        "from typing import List\n",
        "\n",
        "\n",
        "def write_json(path: str, documents: List[Document]) -> None:\n",
        "    results = [{\"text\": doc.page_content} for doc in documents]\n",
        "    with open(path, \"w\") as f:\n",
        "        json.dump(results, f, indent=2)\n",
        "\n",
        "\n",
        "write_json(\"foo.json\", data)\n",
        "\n",
        "# STEP 3: Use\n",
        "\n",
        "# Ingest this as you would any other json file in https://github.com/openai/chatgpt-retrieval-plugin/tree/main/scripts/process_json"
      ]
    },
    {
      "cell_type": "markdown",
      "id": "0474661d",
      "metadata": {},
      "source": [
        "## 使用 ChatGPT Retriever Plugin\n\n好的，我们已经创建了 ChatGPT Retriever Plugin，但我们该如何实际使用它呢？\n\n下面的代码将演示具体操作方法。"
      ]
    },
    {
      "cell_type": "markdown",
      "id": "fb27da9f-d574-425d-8fab-92b03b997568",
      "metadata": {},
      "source": [
        "我们想要使用 `ChatGPTPluginRetriever`，因此必须获取 OpenAI API 密钥。"
      ]
    },
    {
      "cell_type": "code",
      "execution_count": 6,
      "id": "b5d8c9e9-839f-42e9-933a-08195797dd4c",
      "metadata": {
        "tags": []
      },
      "outputs": [
        {
          "name": "stdin",
          "output_type": "stream",
          "text": [
            "OpenAI API Key: ········\n"
          ]
        }
      ],
      "source": [
        "import getpass\n",
        "import os\n",
        "\n",
        "if \"OPENAI_API_KEY\" not in os.environ:\n",
        "    os.environ[\"OPENAI_API_KEY\"] = getpass.getpass(\"OpenAI API Key:\")"
      ]
    },
    {
      "cell_type": "code",
      "execution_count": 7,
      "id": "39d6074e",
      "metadata": {
        "tags": []
      },
      "outputs": [],
      "source": [
        "from langchain_community.retrievers import (\n",
        "    ChatGPTPluginRetriever,\n",
        ")"
      ]
    },
    {
      "cell_type": "code",
      "execution_count": 10,
      "id": "33fd23d1",
      "metadata": {
        "tags": []
      },
      "outputs": [],
      "source": [
        "retriever = ChatGPTPluginRetriever(url=\"http://0.0.0.0:8000\", bearer_token=\"foo\")"
      ]
    },
    {
      "cell_type": "code",
      "execution_count": 3,
      "id": "16250bdf",
      "metadata": {},
      "outputs": [
        {
          "data": {
            "text/plain": [
              "[Document(page_content=\"This is Alice's phone number: 123-456-7890\", lookup_str='', metadata={'id': '456_0', 'metadata': {'source': 'email', 'source_id': '567', 'url': None, 'created_at': '1609592400.0', 'author': 'Alice', 'document_id': '456'}, 'embedding': None, 'score': 0.925571561}, lookup_index=0),\n",
              " Document(page_content='This is a document about something', lookup_str='', metadata={'id': '123_0', 'metadata': {'source': 'file', 'source_id': 'https://example.com/doc1', 'url': 'https://example.com/doc1', 'created_at': '1609502400.0', 'author': 'Alice', 'document_id': '123'}, 'embedding': None, 'score': 0.6987589}, lookup_index=0),\n",
              " Document(page_content='Team: Angels \"Payroll (millions)\": 154.49 \"Wins\": 89', lookup_str='', metadata={'id': '59c2c0c1-ae3f-4272-a1da-f44a723ea631_0', 'metadata': {'source': None, 'source_id': None, 'url': None, 'created_at': None, 'author': None, 'document_id': '59c2c0c1-ae3f-4272-a1da-f44a723ea631'}, 'embedding': None, 'score': 0.697888613}, lookup_index=0)]"
            ]
          },
          "execution_count": 3,
          "metadata": {},
          "output_type": "execute_result"
        }
      ],
      "source": [
        "retriever.invoke(\"alice's phone number\")"
      ]
    },
    {
      "cell_type": "code",
      "execution_count": null,
      "id": "c8b5794b",
      "metadata": {},
      "outputs": [],
      "source": []
    }
  ],
  "metadata": {
    "kernelspec": {
      "display_name": "Python 3 (ipykernel)",
      "language": "python",
      "name": "python3"
    },
    "language_info": {
      "codemirror_mode": {
        "name": "ipython",
        "version": 3
      },
      "file_extension": ".py",
      "mimetype": "text/x-python",
      "name": "python",
      "nbconvert_exporter": "python",
      "pygments_lexer": "ipython3",
      "version": "3.10.12"
    }
  },
  "nbformat": 4,
  "nbformat_minor": 5
}