{
  "cells": [
    {
      "cell_type": "markdown",
      "metadata": {},
      "source": [
        "# ValyuContext\n\n>[Valyu](https://www.valyu.network/) 允许 AI 应用程序和代理搜索互联网和专有数据源，以获取相关的 LLM 就绪信息。\n\n本 Notebook 将介绍如何在 LangChain 中使用 Valyu 深度搜索工具。\n\n首先，获取 Valyu API 密钥并将其添加为环境变量。通过[在此处注册](https://platform.valyu.network/)可获得 10 美元的免费积分。\n\n## 设置\n\n该集成位于 `langchain-valyu` 包中。"
      ]
    },
    {
      "cell_type": "code",
      "execution_count": null,
      "metadata": {},
      "outputs": [],
      "source": [
        "%pip install -qU langchain-valyu"
      ]
    },
    {
      "cell_type": "markdown",
      "metadata": {},
      "source": [
        "为了使用该包，您还需要将 `VALYU_API_KEY` 环境变量设置为您的 Valyu API 密钥。"
      ]
    },
    {
      "cell_type": "code",
      "execution_count": null,
      "metadata": {},
      "outputs": [],
      "source": [
        "import os\n",
        "\n",
        "valyu_api_key = os.environ[\"VALYU_API_KEY\"]"
      ]
    },
    {
      "cell_type": "markdown",
      "metadata": {},
      "source": [
        "## 实例化\n\n现在我们可以实例化我们的检索器了：\n`ValyuContextRetriever` 可以通过以下几个参数进行配置：\n\n- `k: int = 5`  \n  每次查询返回的 top 结果数量。\n\n- `search_type: str = \"all\"`  \n  要执行的搜索类型：'all'、'proprietary' 或 'web'。默认为 'all'。\n\n- `relevance_threshold: float = 0.5`  \n  文档被视为相关的最低相关性分数（介于 0 和 1 之间）。默认为 0.5。\n  \n- `max_price: float = 20.0`\n  每次查询您愿意支付的最高价格（以美元计）。默认为 20.0。\n\n- `start_date: Optional[str] = None`\n  时间过滤的开始日期，格式为 YYYY-MM-DD（可选）。\n\n- `end_date: Optional[str] = None`\n  时间过滤的结束日期，格式为 YYYY-MM-DD（可选）。\n\n- `client: Optional[Valyu] = None`  \n  一个可选的自定义 Valyu 客户端实例。如果未提供，将内部创建一个新的客户端。\n  \n- `valyu_api_key: Optional[str] = None`  \n  您的 Valyu API 密钥。如果未提供，检索器将查找 `VALYU_API_KEY` 环境变量。"
      ]
    },
    {
      "cell_type": "code",
      "execution_count": null,
      "metadata": {},
      "outputs": [],
      "source": [
        "from langchain_valyu import ValyuRetriever\n",
        "\n",
        "retriever = ValyuRetriever(\n",
        "    k=5,\n",
        "    search_type=\"all\",\n",
        "    relevance_threshold=0.5,\n",
        "    max_price=20.0,\n",
        "    start_date=\"2024-01-01\",\n",
        "    end_date=\"2024-12-31\",\n",
        "    client=None,\n",
        "    valyu_api_key=os.environ[\"VALYU_API_KEY\"],\n",
        ")"
      ]
    },
    {
      "cell_type": "markdown",
      "metadata": {},
      "source": [
        "## 用法"
      ]
    },
    {
      "cell_type": "code",
      "execution_count": null,
      "metadata": {},
      "outputs": [],
      "source": [
        "query = \"What are the benefits of renewable energy?\"\n",
        "docs = retriever.invoke(query)\n",
        "\n",
        "for doc in docs:\n",
        "    print(doc.page_content)\n",
        "    print(doc.metadata)"
      ]
    },
    {
      "cell_type": "markdown",
      "metadata": {},
      "source": [
        "## 在链中使用\n\n我们可以轻松地将此检索器组合到链中。"
      ]
    },
    {
      "cell_type": "code",
      "execution_count": null,
      "metadata": {},
      "outputs": [],
      "source": [
        "from langchain_core.output_parsers import StrOutputParser\n",
        "from langchain_core.prompts import ChatPromptTemplate\n",
        "from langchain_core.runnables import RunnablePassthrough\n",
        "from langchain_openai import ChatOpenAI\n",
        "\n",
        "prompt = ChatPromptTemplate.from_template(\n",
        "    \"\"\"Answer the question based only on the context provided.\n",
        "\n",
        "Context: {context}\n",
        "\n",
        "Question: {question}\"\"\"\n",
        ")\n",
        "\n",
        "llm = ChatOpenAI(model=\"gpt-4o-mini\")\n",
        "\n",
        "\n",
        "def format_docs(docs):\n",
        "    return \"\\n\\n\".join(doc.page_content for doc in docs)\n",
        "\n",
        "\n",
        "chain = (\n",
        "    {\"context\": retriever | format_docs, \"question\": RunnablePassthrough()}\n",
        "    | prompt\n",
        "    | llm\n",
        "    | StrOutputParser()\n",
        ")"
      ]
    },
    {
      "cell_type": "markdown",
      "metadata": {},
      "source": [
        "## API 参考\n\n如需了解所有用于 Valyu Context API 功能和配置的详细文档，请前往 API 参考：https://docs.valyu.network/overview"
      ]
    }
  ],
  "metadata": {
    "language_info": {
      "name": "python"
    }
  },
  "nbformat": 4,
  "nbformat_minor": 2
}