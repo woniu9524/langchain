{
  "cells": [
    {
      "cell_type": "markdown",
      "metadata": {
        "id": "UYyFIEKEkmHb"
      },
      "source": [
        "# Dria\n\n>[Dria](https://dria.co/) 是一个面向开发者的公共 RAG 模型中心，开发者可以在此贡献和利用共享的嵌入湖。本 notebook 演示了如何使用 `Dria API` 进行数据检索任务。"
      ]
    },
    {
      "cell_type": "markdown",
      "metadata": {
        "id": "VNTFUgK9kmHd"
      },
      "source": [
        "# 安装\n\n确保您已安装 `dria` 包。您可以使用 pip 进行安装："
      ]
    },
    {
      "cell_type": "code",
      "execution_count": null,
      "metadata": {
        "id": "X--1A8EEkmHd"
      },
      "outputs": [],
      "source": [
        "%pip install --upgrade --quiet dria"
      ]
    },
    {
      "cell_type": "markdown",
      "metadata": {
        "id": "xRbRL0SgkmHe"
      },
      "source": [
        "# 配置 API 密钥\n\n设置您的 Dria API 密钥以进行访问。"
      ]
    },
    {
      "cell_type": "code",
      "execution_count": 1,
      "metadata": {
        "id": "hGqOByNMkmHe"
      },
      "outputs": [],
      "source": [
        "import os\n",
        "\n",
        "os.environ[\"DRIA_API_KEY\"] = \"DRIA_API_KEY\""
      ]
    },
    {
      "cell_type": "markdown",
      "metadata": {
        "id": "nDfAEqQtkmHe"
      },
      "source": [
        "# 初始化 Dria Retriever\n\n创建 `DriaRetriever` 的一个实例。"
      ]
    },
    {
      "cell_type": "code",
      "execution_count": null,
      "metadata": {
        "id": "vlyorgCckmHe"
      },
      "outputs": [],
      "source": [
        "from langchain_community.retrievers import DriaRetriever\n",
        "\n",
        "api_key = os.getenv(\"DRIA_API_KEY\")\n",
        "retriever = DriaRetriever(api_key=api_key)"
      ]
    },
    {
      "cell_type": "markdown",
      "metadata": {
        "id": "j7WUY5jBOLQd"
      },
      "source": [
        "# **创建知识库**\n\n在 [Dria's Knowledge Hub](https://dria.co/knowledge) 上创建知识库。"
      ]
    },
    {
      "cell_type": "code",
      "execution_count": null,
      "metadata": {
        "id": "L5ER81eWOKnt"
      },
      "outputs": [],
      "source": [
        "contract_id = retriever.create_knowledge_base(\n",
        "    name=\"France's AI Development\",\n",
        "    embedding=DriaRetriever.models.jina_embeddings_v2_base_en.value,\n",
        "    category=\"Artificial Intelligence\",\n",
        "    description=\"Explore the growth and contributions of France in the field of Artificial Intelligence.\",\n",
        ")"
      ]
    },
    {
      "cell_type": "markdown",
      "metadata": {
        "id": "9VCTzSFpkmHe"
      },
      "source": [
        "# 添加数据\n\n将数据加载到你的 Dria 知识库中。"
      ]
    },
    {
      "cell_type": "code",
      "execution_count": null,
      "metadata": {
        "id": "xeTMafIekmHf"
      },
      "outputs": [],
      "source": [
        "texts = [\n",
        "    \"The first text to add to Dria.\",\n",
        "    \"Another piece of information to store.\",\n",
        "    \"More data to include in the Dria knowledge base.\",\n",
        "]\n",
        "\n",
        "ids = retriever.add_texts(texts)\n",
        "print(\"Data added with IDs:\", ids)"
      ]
    },
    {
      "cell_type": "markdown",
      "metadata": {
        "id": "dy1UlvLCkmHf"
      },
      "source": [
        "# 检索数据\n\n使用检索器根据查询查找相关文档。"
      ]
    },
    {
      "cell_type": "code",
      "execution_count": null,
      "metadata": {
        "id": "9y3msv9tkmHf"
      },
      "outputs": [],
      "source": [
        "query = \"Find information about Dria.\"\n",
        "result = retriever.invoke(query)\n",
        "for doc in result:\n",
        "    print(doc)"
      ]
    }
  ],
  "metadata": {
    "colab": {
      "provenance": []
    },
    "kernelspec": {
      "display_name": "Python 3 (ipykernel)",
      "language": "python",
      "name": "python3"
    },
    "language_info": {
      "codemirror_mode": {
        "name": "ipython",
        "version": 3
      },
      "file_extension": ".py",
      "mimetype": "text/x-python",
      "name": "python",
      "nbconvert_exporter": "python",
      "pygments_lexer": "ipython3",
      "version": "3.10.12"
    }
  },
  "nbformat": 4,
  "nbformat_minor": 4
}