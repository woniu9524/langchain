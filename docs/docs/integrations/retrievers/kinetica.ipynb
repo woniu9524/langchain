{
  "cells": [
    {
      "cell_type": "markdown",
      "metadata": {},
      "source": [
        "# 基于 Kinetica 向量库的检索器\n\n>[Kinetica](https://www.kinetica.com/) 是一个数据库，集成了向量相似性搜索支持。\n\n它支持：\n- 精确和近似最近邻搜索\n- L2 距离、内积和余弦距离\n\n本笔记本展示了如何使用基于 Kinetica 向量库的检索器 (`Kinetica`)。"
      ]
    },
    {
      "cell_type": "code",
      "execution_count": null,
      "metadata": {},
      "outputs": [],
      "source": [
        "# Please ensure that this connector is installed in your working environment.\n",
        "%pip install gpudb==7.2.0.9"
      ]
    },
    {
      "cell_type": "markdown",
      "metadata": {},
      "source": [
        "我们想使用 `OpenAIEmbeddings`，所以需要获取 OpenAI API 密钥。"
      ]
    },
    {
      "cell_type": "code",
      "execution_count": 2,
      "metadata": {},
      "outputs": [],
      "source": [
        "import getpass\n",
        "import os\n",
        "\n",
        "if \"OPENAI_API_KEY\" not in os.environ:\n",
        "    os.environ[\"OPENAI_API_KEY\"] = getpass.getpass(\"OpenAI API Key:\")"
      ]
    },
    {
      "cell_type": "code",
      "execution_count": null,
      "metadata": {},
      "outputs": [],
      "source": [
        "## Loading Environment Variables\n",
        "from dotenv import load_dotenv\n",
        "\n",
        "load_dotenv()"
      ]
    },
    {
      "cell_type": "code",
      "execution_count": 5,
      "metadata": {},
      "outputs": [],
      "source": [
        "from langchain_community.document_loaders import TextLoader\n",
        "from langchain_community.vectorstores import (\n",
        "    Kinetica,\n",
        "    KineticaSettings,\n",
        ")\n",
        "from langchain_core.documents import Document\n",
        "from langchain_openai import OpenAIEmbeddings\n",
        "from langchain_text_splitters import CharacterTextSplitter"
      ]
    },
    {
      "cell_type": "code",
      "execution_count": 6,
      "metadata": {},
      "outputs": [],
      "source": [
        "# Kinetica needs the connection to the database.\n",
        "# This is how to set it up.\n",
        "HOST = os.getenv(\"KINETICA_HOST\", \"http://127.0.0.1:9191\")\n",
        "USERNAME = os.getenv(\"KINETICA_USERNAME\", \"\")\n",
        "PASSWORD = os.getenv(\"KINETICA_PASSWORD\", \"\")\n",
        "OPENAI_API_KEY = os.getenv(\"OPENAI_API_KEY\", \"\")\n",
        "\n",
        "\n",
        "def create_config() -> KineticaSettings:\n",
        "    return KineticaSettings(host=HOST, username=USERNAME, password=PASSWORD)"
      ]
    },
    {
      "cell_type": "markdown",
      "metadata": {},
      "source": [
        "## 从向量存储中创建检索器"
      ]
    },
    {
      "cell_type": "code",
      "execution_count": null,
      "metadata": {},
      "outputs": [],
      "source": [
        "loader = TextLoader(\"../../how_to/state_of_the_union.txt\")\n",
        "documents = loader.load()\n",
        "text_splitter = CharacterTextSplitter(chunk_size=1000, chunk_overlap=0)\n",
        "docs = text_splitter.split_documents(documents)\n",
        "\n",
        "embeddings = OpenAIEmbeddings()\n",
        "\n",
        "# The Kinetica Module will try to create a table with the name of the collection.\n",
        "# So, make sure that the collection name is unique and the user has the permission to create a table.\n",
        "\n",
        "COLLECTION_NAME = \"state_of_the_union_test\"\n",
        "connection = create_config()\n",
        "\n",
        "db = Kinetica.from_documents(\n",
        "    embedding=embeddings,\n",
        "    documents=docs,\n",
        "    collection_name=COLLECTION_NAME,\n",
        "    config=connection,\n",
        ")\n",
        "\n",
        "# create retriever from the vector store\n",
        "retriever = db.as_retriever(search_kwargs={\"k\": 2})"
      ]
    },
    {
      "cell_type": "markdown",
      "metadata": {},
      "source": [
        "## 使用检索器进行搜索"
      ]
    },
    {
      "cell_type": "code",
      "execution_count": null,
      "metadata": {},
      "outputs": [],
      "source": [
        "result = retriever.get_relevant_documents(\n",
        "    \"What did the president say about Ketanji Brown Jackson\"\n",
        ")\n",
        "print(docs[0].page_content)"
      ]
    }
  ],
  "metadata": {
    "kernelspec": {
      "display_name": ".venv",
      "language": "python",
      "name": "python3"
    },
    "language_info": {
      "codemirror_mode": {
        "name": "ipython",
        "version": 3
      },
      "file_extension": ".py",
      "mimetype": "text/x-python",
      "name": "python",
      "nbconvert_exporter": "python",
      "pygments_lexer": "ipython3",
      "version": "3.8.10"
    }
  },
  "nbformat": 4,
  "nbformat_minor": 2
}