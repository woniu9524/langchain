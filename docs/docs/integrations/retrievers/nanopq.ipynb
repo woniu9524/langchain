{
  "cells": [
    {
      "cell_type": "markdown",
      "id": "661d5123-8ed2-4504-a846-7df0984e79f9",
      "metadata": {},
      "source": [
        "# NanoPQ (乘积量化)\n\n>[乘积量化算法 (k-NN)](https://towardsdatascience.com/similarity-search-product-quantization-b2a1a6397701) 是一种量化算法，有助于压缩数据库向量，从而在涉及大型数据集时实现语义搜索。简而言之，嵌入被分成 M 个子空间，然后进行聚类。在对向量进行聚类后，质心向量被映射到子空间每个簇中存在的向量。\n\n本笔记本将介绍如何使用一个底层使用 [nanopq](https://github.com/matsui528/nanopq) 包实现的乘积量化的检索器。"
      ]
    },
    {
      "cell_type": "code",
      "execution_count": null,
      "id": "68794637-c13b-4145-944f-3b0c2f1258f9",
      "metadata": {},
      "outputs": [],
      "source": [
        "%pip install -qU langchain-community langchain-openai nanopq"
      ]
    },
    {
      "cell_type": "code",
      "execution_count": 1,
      "id": "39ecbf50-4623-4ee6-9c8e-fea5da21767e",
      "metadata": {},
      "outputs": [],
      "source": [
        "from langchain_community.embeddings.spacy_embeddings import SpacyEmbeddings\n",
        "from langchain_community.retrievers import NanoPQRetriever"
      ]
    },
    {
      "cell_type": "markdown",
      "id": "c1ce742a-5085-408a-a2c2-4bae0f605880",
      "metadata": {},
      "source": [
        "## 使用文本创建新的检索器"
      ]
    },
    {
      "cell_type": "code",
      "execution_count": 2,
      "id": "6c80020e-bc9e-49e8-8f93-5f75fd823738",
      "metadata": {},
      "outputs": [],
      "source": [
        "retriever = NanoPQRetriever.from_texts(\n",
        "    [\"Great world\", \"great words\", \"world\", \"planets of the world\"],\n",
        "    SpacyEmbeddings(model_name=\"en_core_web_sm\"),\n",
        "    clusters=2,\n",
        "    subspace=2,\n",
        ")"
      ]
    },
    {
      "cell_type": "markdown",
      "id": "743c26c1-0072-4e46-b41b-c28b3f1737c8",
      "metadata": {},
      "source": [
        "## 使用检索器\n\n现在我们可以使用检索器了！"
      ]
    },
    {
      "cell_type": "code",
      "execution_count": 3,
      "id": "f496de2d-9b8f-4f8b-a30f-279ef199259a",
      "metadata": {},
      "outputs": [
        {
          "name": "stdout",
          "output_type": "stream",
          "text": [
            "M: 2, Ks: 2, metric : <class 'numpy.uint8'>, code_dtype: l2\n",
            "iter: 20, seed: 123\n",
            "Training the subspace: 0 / 2\n",
            "Training the subspace: 1 / 2\n",
            "Encoding the subspace: 0 / 2\n",
            "Encoding the subspace: 1 / 2\n"
          ]
        },
        {
          "data": {
            "text/plain": [
              "[Document(page_content='world'),\n",
              " Document(page_content='Great world'),\n",
              " Document(page_content='great words'),\n",
              " Document(page_content='planets of the world')]"
            ]
          },
          "execution_count": 3,
          "metadata": {},
          "output_type": "execute_result"
        }
      ],
      "source": [
        "retriever.invoke(\"earth\")"
      ]
    },
    {
      "cell_type": "code",
      "execution_count": null,
      "id": "617202a7-e3a6-49a8-b807-4b4d771159d5",
      "metadata": {},
      "outputs": [],
      "source": []
    }
  ],
  "metadata": {
    "kernelspec": {
      "display_name": "Python 3 (ipykernel)",
      "language": "python",
      "name": "python3"
    },
    "language_info": {
      "codemirror_mode": {
        "name": "ipython",
        "version": 3
      },
      "file_extension": ".py",
      "mimetype": "text/x-python",
      "name": "python",
      "nbconvert_exporter": "python",
      "pygments_lexer": "ipython3",
      "version": "3.10.11"
    }
  },
  "nbformat": 4,
  "nbformat_minor": 5
}