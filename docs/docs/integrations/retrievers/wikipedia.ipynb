{
  "cells": [
    {
      "cell_type": "raw",
      "id": "62727aaa-bcff-4087-891c-e539f824ee1f",
      "metadata": {},
      "source": [
        "---\n",
        "sidebar_label: Wikipedia\n",
        "---"
      ]
    },
    {
      "cell_type": "markdown",
      "id": "d62a16c1-10de-4f99-b392-c4ad2e6123a1",
      "metadata": {},
      "source": [
        "# WikipediaRetriever\n\n>[Wikipedia](https://wikipedia.org/) 是一个多语言的免费在线百科全书，由一群称为维基百科人的志愿者通过开放协作编写和维护，并使用一个名为 MediaWiki 的维基编辑系统。`Wikipedia` 是历史上规模最大、阅读最广泛的参考工具书。\n\n本笔记本展示了如何从 `wikipedia.org` 中检索维基页面，并将其转换为下游使用的 [Document](https://python.langchain.com/api_reference/core/documents/langchain_core.documents.base.Document.html) 格式。\n\n### 集成详情\n\nimport {ItemTable} from \"@theme/FeatureTables\";\n\n<ItemTable category=\"external_retrievers\" item=\"WikipediaRetriever\" />"
      ]
    },
    {
      "cell_type": "markdown",
      "id": "eb7d377c-168b-40e8-bd61-af6a4fb1b44f",
      "metadata": {},
      "source": [
        "## 设置\n要启用对单个工具的自动化跟踪，请设置您的 [LangSmith](https://docs.smith.langchain.com/) API 密钥："
      ]
    },
    {
      "cell_type": "code",
      "execution_count": null,
      "id": "1bbc6013-2617-4f7e-9d8b-7453d09315c0",
      "metadata": {},
      "outputs": [],
      "source": [
        "# os.environ[\"LANGSMITH_API_KEY\"] = getpass.getpass(\"Enter your LangSmith API key: \")\n",
        "# os.environ[\"LANGSMITH_TRACING\"] = \"true\""
      ]
    },
    {
      "cell_type": "markdown",
      "id": "51489529-5dcd-4b86-bda6-de0a39d8ffd1",
      "metadata": {},
      "source": [
        "### 安装\n\n此集成位于 `langchain-community` 包中。我们还需要安装 `wikipedia` Python 包本身。"
      ]
    },
    {
      "cell_type": "code",
      "execution_count": null,
      "id": "1a737220",
      "metadata": {
        "tags": []
      },
      "outputs": [],
      "source": [
        "%pip install -qU langchain_community wikipedia"
      ]
    },
    {
      "cell_type": "markdown",
      "id": "ae622ac6-d18a-4754-a4bd-d30a078c19b5",
      "metadata": {},
      "source": [
        "## 实例化"
      ]
    },
    {
      "cell_type": "markdown",
      "id": "6c15470b-a16b-4e0d-bc6a-6998bafbb5a4",
      "metadata": {},
      "source": [
        "现在我们可以实例化我们的检索器：\n\n`WikipediaRetriever` 参数包括：\n- 可选 `lang`：默认值为 \"en\"。用它来搜索维基百科的特定语言部分\n- 可选 `load_max_docs`：默认值为 100。用它来限制下载文档的数量。下载全部 100 篇文档需要时间，所以在实验中请使用较小的数字。目前有一个硬性限制为 300。\n- 可选 `load_all_available_meta`：默认值为 False。默认情况下只下载最重要的字段：`Published`（文档发布/最后更新日期）、`title`、`Summary`。如果设置为 True，则也会下载其他字段。\n\n`get_relevant_documents()` 有一个参数 `query`：用于在维基百科中查找文档的自由文本"
      ]
    },
    {
      "cell_type": "code",
      "execution_count": 1,
      "id": "b78f0cd0-ffea-4fe3-9d1d-54639c4ef1ff",
      "metadata": {},
      "outputs": [],
      "source": [
        "from langchain_community.retrievers import WikipediaRetriever\n",
        "\n",
        "retriever = WikipediaRetriever()"
      ]
    },
    {
      "cell_type": "markdown",
      "id": "12aead36-7b97-4d9c-82e7-ec644a3127f9",
      "metadata": {},
      "source": [
        "## 用法"
      ]
    },
    {
      "cell_type": "code",
      "execution_count": 2,
      "id": "54a76605-6b1e-44bf-b8a2-7d48119290c4",
      "metadata": {},
      "outputs": [],
      "source": [
        "docs = retriever.invoke(\"TOKYO GHOUL\")"
      ]
    },
    {
      "cell_type": "code",
      "execution_count": 3,
      "id": "65ada2b7-3507-4dcb-9982-5f8f4e97a2e1",
      "metadata": {},
      "outputs": [
        {
          "name": "stdout",
          "output_type": "stream",
          "text": [
            "Tokyo Ghoul (Japanese: 東京喰種（トーキョーグール）, Hepburn: Tōkyō Gūru) is a Japanese dark fantasy manga series written and illustrated by Sui Ishida. It was serialized in Shueisha's seinen manga magazine Weekly Young Jump from September 2011 to September 2014, with its chapters collected in 14 tankōbon volumes. The story is set in an alternate version of Tokyo where humans coexist with ghouls, beings who loo\n"
          ]
        }
      ],
      "source": [
        "print(docs[0].page_content[:400])"
      ]
    },
    {
      "cell_type": "markdown",
      "id": "ae3c3d16",
      "metadata": {},
      "source": [
        "## 在链中使用\n与其他检索器一样，`WikipediaRetriever` 可以通过 [链](/docs/how_to/sequence/) 整合到 LLM 应用中。\n\n我们需要一个 LLM 或聊天模型：\n\nimport ChatModelTabs from \"@theme/ChatModelTabs\";\n\n<ChatModelTabs customVarName=\"llm\" />"
      ]
    },
    {
      "cell_type": "code",
      "execution_count": 4,
      "id": "4bd3d268-eb8c-46e9-930a-18f5e2a50008",
      "metadata": {},
      "outputs": [],
      "source": [
        "# | output: false\n",
        "# | echo: false\n",
        "\n",
        "from langchain_openai import ChatOpenAI\n",
        "\n",
        "llm = ChatOpenAI(model=\"gpt-4o-mini\", temperature=0)"
      ]
    },
    {
      "cell_type": "code",
      "execution_count": 5,
      "id": "9b52bc65-1b2e-4c30-ab43-41eaa5bf79c3",
      "metadata": {},
      "outputs": [],
      "source": [
        "from langchain_core.output_parsers import StrOutputParser\n",
        "from langchain_core.prompts import ChatPromptTemplate\n",
        "from langchain_core.runnables import RunnablePassthrough\n",
        "\n",
        "prompt = ChatPromptTemplate.from_template(\n",
        "    \"\"\"\n",
        "    Answer the question based only on the context provided.\n",
        "    Context: {context}\n",
        "    Question: {question}\n",
        "    \"\"\"\n",
        ")\n",
        "\n",
        "\n",
        "def format_docs(docs):\n",
        "    return \"\\n\\n\".join(doc.page_content for doc in docs)\n",
        "\n",
        "\n",
        "chain = (\n",
        "    {\"context\": retriever | format_docs, \"question\": RunnablePassthrough()}\n",
        "    | prompt\n",
        "    | llm\n",
        "    | StrOutputParser()\n",
        ")"
      ]
    },
    {
      "cell_type": "code",
      "execution_count": 6,
      "id": "0d268905-3b19-4338-ac10-223c0fe4d5e4",
      "metadata": {},
      "outputs": [
        {
          "data": {
            "text/plain": [
              "'The main character in Tokyo Ghoul is Ken Kaneki, who transforms into a ghoul after receiving an organ transplant from a ghoul named Rize.'"
            ]
          },
          "execution_count": 6,
          "metadata": {},
          "output_type": "execute_result"
        }
      ],
      "source": [
        "chain.invoke(\n",
        "    \"Who is the main character in `Tokyo Ghoul` and does he transform into a ghoul?\"\n",
        ")"
      ]
    },
    {
      "cell_type": "markdown",
      "id": "236bbafb-ebd4-4165-9b8f-d47605f6eef3",
      "metadata": {},
      "source": [
        "## API 参考\n\n有关所有 `WikipediaRetriever` 功能和配置的详细文档，请访问 [API 参考](https://python.langchain.com/api_reference/community/retrievers/langchain_community.retrievers.wikipedia.WikipediaRetriever.html#langchain-community-retrievers-wikipedia-wikipediaretriever)。"
      ]
    }
  ],
  "metadata": {
    "kernelspec": {
      "display_name": "Python 3 (ipykernel)",
      "language": "python",
      "name": "python3"
    },
    "language_info": {
      "codemirror_mode": {
        "name": "ipython",
        "version": 3
      },
      "file_extension": ".py",
      "mimetype": "text/x-python",
      "name": "python",
      "nbconvert_exporter": "python",
      "pygments_lexer": "ipython3",
      "version": "3.10.4"
    }
  },
  "nbformat": 4,
  "nbformat_minor": 5
}