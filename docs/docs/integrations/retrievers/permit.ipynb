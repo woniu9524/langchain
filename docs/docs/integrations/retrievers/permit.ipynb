{
  "cells": [
    {
      "cell_type": "raw",
      "id": "afaf8039",
      "metadata": {},
      "source": [
        "---\n",
        "sidebar_label: Permit\n",
        "---"
      ]
    },
    {
      "cell_type": "markdown",
      "id": "e49f1e0d",
      "metadata": {},
      "source": [
        "# PermitRetriever\n\nPermit 是一个访问控制平台，通过 RBAC、ABAC 和 ReBAC 等各种模型提供细粒度的实时权限管理。它使组织能够跨应用程序强制执行动态策略，确保只有授权用户才能访问特定资源。\n\n### 集成详情\n\n本笔记将说明如何将 [Permit.io](https://permit.io/) 权限集成到 LangChain 的检索器中。\n\n我们提供了两个自定义检索器：\n\n- PermitSelfQueryRetriever – 使用自查询方法解析用户的自然语言提示，从 Permit 获取用户已授权的资源 ID，并在向量存储搜索中自动应用该过滤器。\n \n- PermitEnsembleRetriever – 通过 LangChain 的 EnsembleRetriever 组合多个底层检索器（例如 BM25 + Vector），然后使用 Permit.io 过滤合并后的结果。\n\n## 设置\n\n使用以下命令安装该包：\n\n```bash\npip install langchain-permit\n```"
      ]
    },
    {
      "cell_type": "markdown",
      "id": "72ee0c4b-9764-423a-9dbf-95129e185210",
      "metadata": {},
      "source": [
        "如果你想从单个查询中获得自动跟踪，你也可以通过取消下面一行的注释来设置你的 [LangSmith](https://docs.smith.langchain.com/) API 密钥："
      ]
    },
    {
      "cell_type": "code",
      "execution_count": null,
      "id": "a15d341e-3e26-4ca3-830b-5aab30ed66de",
      "metadata": {},
      "outputs": [],
      "source": [
        "# os.environ[\"LANGSMITH_API_KEY\"] = getpass.getpass(\"Enter your LangSmith API key: \")\n",
        "# os.environ[\"LANGSMITH_TRACING\"] = \"true\""
      ]
    },
    {
      "cell_type": "markdown",
      "id": "0730d6a1-c893-4840-9817-5e5251676d5d",
      "metadata": {},
      "source": [
        "### 安装\n\n```bash\npip install langchain-permit\n```\n\n#### 环境变量\n\n```bash\nPERMIT_API_KEY=your_api_key\nPERMIT_PDP_URL= # 或你的真实部署地址\nOPENAI_API_KEY=sk-...\n```\n\n- 运行中的 Permit PDP。请参阅 [Permit 文档](https://docs.permit.io/) 了解如何设置策略和容器。\n- 一个我们可以包装的向量存储或多个检索器。"
      ]
    },
    {
      "cell_type": "code",
      "execution_count": null,
      "id": "652d6238-1f87-422a-b135-f5abbb8652fc",
      "metadata": {},
      "outputs": [],
      "source": [
        "%pip install -qU langchain-permit"
      ]
    },
    {
      "cell_type": "markdown",
      "id": "a38cde65-254d-4219-a441-068766c0d4b5",
      "metadata": {},
      "source": [
        "## 实例化\n\n### PermitSelfQueryRetriever\n\n#### 基本说明\n\n1. 从 Permit 检索已授权的文档 ID。\n\n2. 使用 LLM 解析你的查询并构建一个“结构化过滤器”，确保只考虑那些具有已授权 ID 的文档。\n\n#### 基本用法\n\n```python\nfrom langchain_openai import OpenAIEmbeddings\nfrom langchain_community.vectorstores import FAISS\nfrom langchain_permit.retrievers import PermitSelfQueryRetriever\n\n# 步骤 1：创建/加载一些文档并构建向量存储\ndocs = [...]\nembeddings = OpenAIEmbeddings()\nvectorstore = FAISS.from_documents(docs, embeddings)\n\n# 步骤 2：初始化检索器\nretriever = PermitSelfQueryRetriever(\n    api_key=\"...\",\n    pdp_url=\"...\",\n    user={\"key\": \"user-123\"},\n    resource_type=\"document\",\n    action=\"read\",\n    llm=...,                # 通常是 ChatOpenAI 或其他 LLM\n    vectorstore=vectorstore,\n    enable_limit=True,      # 可选\n)\n\n# 步骤 3：查询\nquery = \"给我关于猫的文档\"\nresults = retriever.get_relevant_documents(query)\nfor doc in results:\n    print(doc.metadata.get(\"id\"), doc.page_content)\n```\n\n### PermitEnsembleRetriever\n\n#### 基本说明\n\n1. 使用 LangChain 的 EnsembleRetriever 从多个子检索器（例如，基于向量的、BM25 等）收集文档。\n2. 检索文档后，它会调用 Permit 的 `filter_objects` 以消除用户不允许查看的任何文档。\n\n#### 基本用法\n\n```python\nfrom langchain_community.retrievers import BM25Retriever\nfrom langchain_core.documents import Document\nfrom langchain_permit.retrievers import PermitEnsembleRetriever\n\n# 假设我们有两个子检索器：bm25_retriever, vector_retriever\n...\nensemble_retriever = PermitEnsembleRetriever(\n    api_key=\"...\",\n    pdp_url=\"...\",\n    user=\"user_abc\",\n    action=\"read\",\n    resource_type=\"document\",\n    retrievers=[bm25_retriever, vector_retriever],\n    weights=None\n)\n\ndocs = ensemble_retriever.get_relevant_documents(\"关于猫的查询\")\nfor doc in docs:\n    print(doc.metadata.get(\"id\"), doc.page_content)\n```\n\n### 演示脚本\n\n有关更完整的演示，请查看 `/langchain_permit/examples/demo_scripts` 文件夹：\n\n1. demo_self_query.py – 演示 PermitSelfQueryRetriever。\n2. demo_ensemble.py – 演示 PermitEnsembleRetriever。\n\n每个脚本都展示了如何构建或加载文档、配置 Permit 以及运行查询。\n\n### 结论\n\n借助这些自定义检索器，您可以将 Permit.io 的权限检查无缝集成到 LangChain 的检索工作流中。您可以保留应用程序的向量搜索逻辑，同时确保只返回授权的文档。\n\n有关设置 Permit 策略的更多详细信息，请参阅官方 Permit 文档。如果您想将这些与更多工具（如 JWT 验证或更广泛的 RAG 管道）结合使用，请查看我们示例文件夹中的 docs/tools.ipynb。"
      ]
    },
    {
      "cell_type": "code",
      "execution_count": null,
      "id": "70cc8e65-2a02-408a-bbc6-8ef649057d82",
      "metadata": {},
      "outputs": [],
      "source": [
        "from langchain_permit import PermitRetriever\n",
        "\n",
        "retriever = PermitRetriever(\n",
        "    # ...\n",
        ")"
      ]
    },
    {
      "cell_type": "markdown",
      "id": "5c5f2839-4020-424e-9fc9-07777eede442",
      "metadata": {},
      "source": [
        "## 用法"
      ]
    },
    {
      "cell_type": "markdown",
      "id": "c70ae8ab",
      "metadata": {},
      "source": []
    },
    {
      "cell_type": "code",
      "execution_count": null,
      "id": "51a60dbe-9f2e-4e04-bb62-23968f17164a",
      "metadata": {},
      "outputs": [],
      "source": [
        "query = \"...\"\n",
        "\n",
        "retriever.invoke(query)"
      ]
    },
    {
      "cell_type": "markdown",
      "id": "dfe8aad4-8626-4330-98a9-7ea1ca5d2e0e",
      "metadata": {},
      "source": [
        "## 在链中使用\n\n与其它检索器一样，PermitRetriever 可以通过 [chains](https://docs.permit.io/) 被整合到 LLM 应用中。\n\n我们将需要一个 LLM 或聊天模型：\n\nimport ChatModelTabs from \"@theme/ChatModelTabs\";\n\n<ChatModelTabs customVarName=\"llm\" />"
      ]
    },
    {
      "cell_type": "code",
      "execution_count": null,
      "id": "25b647a3-f8f2-4541-a289-7a241e43f9df",
      "metadata": {},
      "outputs": [],
      "source": [
        "# | output: false\n",
        "# | echo: false\n",
        "\n",
        "from langchain_openai import ChatOpenAI\n",
        "\n",
        "llm = ChatOpenAI(model=\"gpt-3.5-turbo-0125\", temperature=0)"
      ]
    },
    {
      "cell_type": "code",
      "execution_count": null,
      "id": "23e11cc9-abd6-4855-a7eb-799f45ca01ae",
      "metadata": {},
      "outputs": [],
      "source": [
        "from langchain_core.output_parsers import StrOutputParser\n",
        "from langchain_core.prompts import ChatPromptTemplate\n",
        "from langchain_core.runnables import RunnablePassthrough\n",
        "\n",
        "prompt = ChatPromptTemplate.from_template(\n",
        "    \"\"\"Answer the question based only on the context provided.\n",
        "\n",
        "Context: {context}\n",
        "\n",
        "Question: {question}\"\"\"\n",
        ")\n",
        "\n",
        "\n",
        "def format_docs(docs):\n",
        "    return \"\\n\\n\".join(doc.page_content for doc in docs)\n",
        "\n",
        "\n",
        "chain = (\n",
        "    {\"context\": retriever | format_docs, \"question\": RunnablePassthrough()}\n",
        "    | prompt\n",
        "    | llm\n",
        "    | StrOutputParser()\n",
        ")"
      ]
    },
    {
      "cell_type": "code",
      "execution_count": null,
      "id": "d47c37dd-5c11-416c-a3b6-bec413cd70e8",
      "metadata": {},
      "outputs": [],
      "source": [
        "chain.invoke(\"...\")"
      ]
    },
    {
      "cell_type": "markdown",
      "id": "3a5bb5ca-c3ae-4a58-be67-2cd18574b9a3",
      "metadata": {},
      "source": [
        "## API 参考\n\n有关 PermitRetriever 所有功能和配置的详细文档，请前往 [仓库](https://github.com/permitio/langchain-permit/tree/master/langchain_permit/examples/demo_scripts)。"
      ]
    }
  ],
  "metadata": {
    "kernelspec": {
      "display_name": "Python 3 (ipykernel)",
      "language": "python",
      "name": "python3"
    },
    "language_info": {
      "codemirror_mode": {
        "name": "ipython",
        "version": 3
      },
      "file_extension": ".py",
      "mimetype": "text/x-python",
      "name": "python",
      "nbconvert_exporter": "python",
      "pygments_lexer": "ipython3",
      "version": "3.10.4"
    }
  },
  "nbformat": 4,
  "nbformat_minor": 5
}