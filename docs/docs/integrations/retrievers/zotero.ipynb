{
  "cells": [
    {
      "cell_type": "raw",
      "id": "afaf8039",
      "metadata": {
        "vscode": {
          "languageId": "raw"
        }
      },
      "source": [
        "---\n",
        "sidebar_label: Zotero\n",
        "---"
      ]
    },
    {
      "cell_type": "markdown",
      "id": "e49f1e0d",
      "metadata": {},
      "source": [
        "# ZoteroRetriever\n\n这将帮助你开始使用 Zotero [retriever](/docs/concepts/retrievers)。有关 ZoteroRetriever 所有功能和配置的详细文档，请访问 [Github 页面](https://github.com/TimBMK/langchain-zotero-retriever)。\n\n### 集成详情\n\n\n| Retriever | Source | Package |\n| :--- | :--- | :---: |\n[ZoteroRetriever](https://github.com/TimBMK/langchain-zotero-retriever) | [Zotero API](https://www.zotero.org/support/dev/web_api/v3/start) | langchain-community |\n\n## 设置"
      ]
    },
    {
      "cell_type": "markdown",
      "id": "72ee0c4b-9764-423a-9dbf-95129e185210",
      "metadata": {},
      "source": [
        "如果你想从单个查询中获得自动跟踪，你也可以通过取消注释下方内容来设置你的 [LangSmith](https://docs.smith.langchain.com/) API 密钥："
      ]
    },
    {
      "cell_type": "code",
      "execution_count": null,
      "id": "a15d341e-3e26-4ca3-830b-5aab30ed66de",
      "metadata": {},
      "outputs": [],
      "source": [
        "# os.environ[\"LANGSMITH_API_KEY\"] = getpass.getpass(\"Enter your LangSmith API key: \")\n",
        "# os.environ[\"LANGSMITH_TRACING\"] = \"true\""
      ]
    },
    {
      "cell_type": "markdown",
      "id": "0730d6a1-c893-4840-9817-5e5251676d5d",
      "metadata": {},
      "source": [
        "### 安装\n\n这个检索器位于 `langchain-zotero-retriever` 包中。我们也需要 `pyzotero` 依赖："
      ]
    },
    {
      "cell_type": "code",
      "execution_count": null,
      "id": "652d6238-1f87-422a-b135-f5abbb8652fc",
      "metadata": {},
      "outputs": [],
      "source": [
        "%pip install -qU langchain-zotero-retriever pyzotero"
      ]
    },
    {
      "cell_type": "markdown",
      "id": "a38cde65-254d-4219-a441-068766c0d4b5",
      "metadata": {},
      "source": [
        "## 实例化\n\n`ZoteroRetriever` 的参数包括：\n- `k`: 要包含的结果数量 (默认值: 50)\n- `type`: 要执行的搜索类型。“Top”检索顶层 Zotero 库项目，“items”返回任何 Zotero 库项目。(默认值: top)\n- `get_fulltext`: 如果项目附加有全文，则检索全文。如果为 False 或未附加文本，则返回空字符串作为 page_content。(默认值: True)\n- `library_id`: 要搜索的 Zotero 库的 ID。连接到库是必需的。\n- `library_type`: 要搜索的库类型。“user”代表个人库，“group”代表共享群组库。(默认值: user)\n- `api_key`: 如果未设置为环境变量，则为 Zotero API 密钥。可选，访问非公开群组库或个人库需要此项。如果提供了 ZOTERO_API_KEY 环境变量，则自动获取。"
      ]
    },
    {
      "cell_type": "code",
      "execution_count": null,
      "id": "70cc8e65-2a02-408a-bbc6-8ef649057d82",
      "metadata": {},
      "outputs": [],
      "source": [
        "from langchain_zotero_retriever.retrievers import ZoteroRetriever\n",
        "\n",
        "retriever = ZoteroRetriever(\n",
        "    k=10,\n",
        "    library_id=\"2319375\",  # a public group library that does not require an API key for access\n",
        "    library_type=\"group\",  # set this to \"user\" if you are using a personal library. Personal libraries require an API key\n",
        ")"
      ]
    },
    {
      "cell_type": "markdown",
      "id": "5c5f2839-4020-424e-9fc9-07777eede442",
      "metadata": {},
      "source": [
        "## 用法\n\n除了 `query` 之外，检索器还提供以下附加搜索参数：\n- `itemType`: 要搜索的条目类型（例如，“book”或“journalArticle”）\n- `tag`: 用于搜索附加到库条目的标签（请参阅搜索语法以组合多个标签）\n- `qmode`: 要使用的搜索模式。更改查询搜索的内容。“everything”包括全文内容。“titleCreatorYear”用于搜索标题、作者和年份。\n- `since`: 仅返回在指定库版本之后修改过的对象。默认为返回所有对象。\n\n有关搜索语法，请参阅 Zotero API 文档：https://www.zotero.org/support/dev/web_api/v3/basics#search_syntax\n\n有关完整的 API 架构（包括可用的 itemTypes），请参阅：https://github.com/zotero/zotero-schema"
      ]
    },
    {
      "cell_type": "code",
      "execution_count": null,
      "id": "51a60dbe-9f2e-4e04-bb62-23968f17164a",
      "metadata": {},
      "outputs": [],
      "source": [
        "query = \"Zuboff\"\n",
        "\n",
        "retriever.invoke(query)"
      ]
    },
    {
      "cell_type": "code",
      "execution_count": null,
      "id": "add7bbb0",
      "metadata": {},
      "outputs": [],
      "source": [
        "tags = [\n",
        "    \"Surveillance\",\n",
        "    \"Digital Capitalism\",\n",
        "]  # note that providing tags as a list will result in a logical AND operation\n",
        "\n",
        "retriever.invoke(\"\", tag=tags)"
      ]
    },
    {
      "cell_type": "markdown",
      "id": "d1ee55bc-ffc8-4cfa-801c-993953a08cfd",
      "metadata": {},
      "source": [
        "## 在链中使用\n\n由于 Zotero API 的搜索方式，直接将用户问题传递给 ZoteroRetriever 通常无法获得令人满意的结果。在链或代理框架中使用时，建议将 ZoteroRetriever 转换为一个[工具](https://python.langchain.com/docs/how_to/custom_tools/#creating-tools-from-functions)。这样，LLM 就可以将用户查询转换为更简洁的 API 搜索查询。此外，这还允许 LLM 填充其他搜索参数，例如标签或项目类型。"
      ]
    },
    {
      "cell_type": "code",
      "execution_count": null,
      "id": "0b19a04d",
      "metadata": {},
      "outputs": [],
      "source": [
        "from typing import List, Optional, Union\n",
        "\n",
        "from langchain_core.output_parsers import PydanticToolsParser\n",
        "from langchain_core.tools import StructuredTool, tool\n",
        "from langchain_openai import ChatOpenAI\n",
        "\n",
        "\n",
        "def retrieve(\n",
        "    query: str,\n",
        "    itemType: Optional[str],\n",
        "    tag: Optional[Union[str, List[str]]],\n",
        "    qmode: str = \"everything\",\n",
        "    since: Optional[int] = None,\n",
        "):\n",
        "    retrieved_docs = retriever.invoke(\n",
        "        query, itemType=itemType, tag=tag, qmode=qmode, since=since\n",
        "    )\n",
        "    serialized_docs = \"\\n\\n\".join(\n",
        "        (\n",
        "            f\"Metadata: { {key: doc.metadata[key] for key in doc.metadata if key != 'abstractNote'} }\\n\"\n",
        "            f\"Abstract: {doc.metadata['abstractNote']}\\n\"\n",
        "        )\n",
        "        for doc in retrieved_docs\n",
        "    )\n",
        "\n",
        "    return serialized_docs, retrieved_docs\n",
        "\n",
        "\n",
        "description = \"\"\"Search and return relevant documents from a Zotero library. The following search parameters can be used:\n",
        "\n",
        "    Args:\n",
        "        query: str: The search query to be used. Try to keep this specific and short, e.g. a specific topic or author name\n",
        "        itemType: Optional. Type of item to search for (e.g. \"book\" or \"journalArticle\"). Multiple types can be passed as a string separated by \"||\", e.g. \"book || journalArticle\". Defaults to all types.\n",
        "        tag: Optional. For searching over tags attached to library items. If documents tagged with multiple tags are to be retrieved, pass them as a list. If documents with any of the tags are to be retrieved, pass them as a string separated by \"||\", e.g. \"tag1 || tag2\"\n",
        "        qmode: Search mode to use. Changes what the query searches over. \"everything\" includes full-text content. \"titleCreatorYear\" to search over title, authors and year. Defaults to \"everything\".\n",
        "        since: Return only objects modified after the specified library version. Defaults to return everything.\n",
        "    \"\"\"\n",
        "\n",
        "retriever_tool = StructuredTool.from_function(\n",
        "    func=retrieve,\n",
        "    name=\"retrieve\",\n",
        "    description=description,\n",
        "    return_direct=True,\n",
        ")\n",
        "\n",
        "\n",
        "llm = ChatOpenAI(model=\"gpt-4o-mini-2024-07-18\")\n",
        "\n",
        "llm_with_tools = llm.bind_tools([retrieve])\n",
        "\n",
        "q = \"What journal articles do I have on Surveillance in the zotero library?\"\n",
        "\n",
        "chain = llm_with_tools | PydanticToolsParser(tools=[retrieve])\n",
        "\n",
        "chain.invoke(q)"
      ]
    },
    {
      "cell_type": "markdown",
      "id": "3a5bb5ca-c3ae-4a58-be67-2cd18574b9a3",
      "metadata": {},
      "source": [
        "## API 参考\n\n有关所有 ZoteroRetriever 功能和配置的详细文档，请访问 [Github 页面](https://github.com/TimBMK/langchain-zotero-retriever)。\n\n有关 Zotero API 的详细文档，请访问 [Zotero API 参考](https://www.zotero.org/support/dev/web_api/v3/start)。"
      ]
    }
  ],
  "metadata": {
    "kernelspec": {
      "display_name": "Python 3 (ipykernel)",
      "language": "python",
      "name": "python3"
    },
    "language_info": {
      "codemirror_mode": {
        "name": "ipython",
        "version": 3
      },
      "file_extension": ".py",
      "mimetype": "text/x-python",
      "name": "python",
      "nbconvert_exporter": "python",
      "pygments_lexer": "ipython3",
      "version": "3.10.4"
    }
  },
  "nbformat": 4,
  "nbformat_minor": 5
}