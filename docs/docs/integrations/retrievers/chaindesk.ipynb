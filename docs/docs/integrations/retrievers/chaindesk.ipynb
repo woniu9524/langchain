{
  "cells": [
    {
      "attachments": {},
      "cell_type": "markdown",
      "id": "9fc6205b",
      "metadata": {},
      "source": [
        "# Chaindesk\n\n>[Chaindesk 平台](https://docs.chaindesk.ai/introduction)将来自任何地方的数据（数据源：文本、PDF、Word、PowerPoint、Excel、Notion、Airtable、Google Sheets 等）引入数据存储（数据存储容器）。\n然后，您的数据存储可以通过插件连接到 ChatGPT，或者通过 `Chaindesk API` 连接到任何其他大型语言模型（LLM）。\n\n本笔记本展示了如何使用 [Chaindesk](https://www.chaindesk.ai/) 的检索器。\n\n首先，您需要注册 Chaindesk，创建一个数据存储，添加一些数据，并获取您的数据存储 API 端点 URL。您需要 [API 密钥](https://docs.chaindesk.ai/api-reference/authentication)。"
      ]
    },
    {
      "cell_type": "code",
      "execution_count": null,
      "id": "3697b9fd",
      "metadata": {},
      "outputs": [],
      "source": []
    },
    {
      "attachments": {},
      "cell_type": "markdown",
      "id": "944e172b",
      "metadata": {},
      "source": [
        "## 查询\n\n现在我们的索引已经建立好了，我们可以设置一个检索器并开始查询它了。"
      ]
    },
    {
      "cell_type": "code",
      "execution_count": 1,
      "id": "d0e6f506",
      "metadata": {
        "tags": []
      },
      "outputs": [],
      "source": [
        "from langchain_community.retrievers import ChaindeskRetriever"
      ]
    },
    {
      "cell_type": "code",
      "execution_count": 2,
      "id": "f381f642",
      "metadata": {
        "tags": []
      },
      "outputs": [],
      "source": [
        "retriever = ChaindeskRetriever(\n",
        "    datastore_url=\"https://clg1xg2h80000l708dymr0fxc.chaindesk.ai/query\",\n",
        "    # api_key=\"CHAINDESK_API_KEY\", # optional if datastore is public\n",
        "    # top_k=10 # optional\n",
        ")"
      ]
    },
    {
      "cell_type": "code",
      "execution_count": 6,
      "id": "20ae1a74",
      "metadata": {},
      "outputs": [
        {
          "data": {
            "text/plain": [
              "[Document(page_content='✨ Made with DaftpageOpen main menuPricingTemplatesLoginSearchHelpGetting StartedFeaturesAffiliate ProgramGetting StartedDaftpage is a new type of website builder that works like a doc.It makes website building easy, fun and offers tons of powerful features for free. Just type / in your page to get started!DaftpageCopyright © 2022 Daftpage, Inc.All rights reserved.ProductPricingTemplatesHelp & SupportHelp CenterGetting startedBlogCompanyAboutRoadmapTwitterAffiliate Program👾 Discord', metadata={'source': 'https:/daftpage.com/help/getting-started', 'score': 0.8697265}),\n",
              " Document(page_content=\"✨ Made with DaftpageOpen main menuPricingTemplatesLoginSearchHelpGetting StartedFeaturesAffiliate ProgramHelp CenterWelcome to Daftpage’s help center—the one-stop shop for learning everything about building websites with Daftpage.Daftpage is the simplest way to create websites for all purposes in seconds. Without knowing how to code, and for free!Get StartedDaftpage is a new type of website builder that works like a doc.It makes website building easy, fun and offers tons of powerful features for free. Just type / in your page to get started!Start here✨ Create your first site🧱 Add blocks🚀 PublishGuides🔖 Add a custom domainFeatures🔥 Drops🎨 Drawings👻 Ghost mode💀 Skeleton modeCant find the answer you're looking for?mail us at support@daftpage.comJoin the awesome Daftpage community on: 👾 DiscordDaftpageCopyright © 2022 Daftpage, Inc.All rights reserved.ProductPricingTemplatesHelp & SupportHelp CenterGetting startedBlogCompanyAboutRoadmapTwitterAffiliate Program👾 Discord\", metadata={'source': 'https:/daftpage.com/help', 'score': 0.86570895}),\n",
              " Document(page_content=\" is the simplest way to create websites for all purposes in seconds. Without knowing how to code, and for free!Get StartedDaftpage is a new type of website builder that works like a doc.It makes website building easy, fun and offers tons of powerful features for free. Just type / in your page to get started!Start here✨ Create your first site🧱 Add blocks🚀 PublishGuides🔖 Add a custom domainFeatures🔥 Drops🎨 Drawings👻 Ghost mode💀 Skeleton modeCant find the answer you're looking for?mail us at support@daftpage.comJoin the awesome Daftpage community on: 👾 DiscordDaftpageCopyright © 2022 Daftpage, Inc.All rights reserved.ProductPricingTemplatesHelp & SupportHelp CenterGetting startedBlogCompanyAboutRoadmapTwitterAffiliate Program👾 Discord\", metadata={'source': 'https:/daftpage.com/help', 'score': 0.8645384})]"
            ]
          },
          "execution_count": 6,
          "metadata": {},
          "output_type": "execute_result"
        }
      ],
      "source": [
        "retriever.invoke(\"What is Daftpage?\")"
      ]
    }
  ],
  "metadata": {
    "kernelspec": {
      "display_name": "Python 3 (ipykernel)",
      "language": "python",
      "name": "python3"
    },
    "language_info": {
      "codemirror_mode": {
        "name": "ipython",
        "version": 3
      },
      "file_extension": ".py",
      "mimetype": "text/x-python",
      "name": "python",
      "nbconvert_exporter": "python",
      "pygments_lexer": "ipython3",
      "version": "3.10.12"
    }
  },
  "nbformat": 4,
  "nbformat_minor": 5
}