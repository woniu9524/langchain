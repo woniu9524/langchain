{
  "cells": [
    {
      "cell_type": "markdown",
      "metadata": {},
      "source": [
        "# SingleStore 集成\n\n[SingleStore](https://singlestore.com/) 是一个高性能的分布式 SQL 数据库，旨在在 [云](https://www.singlestore.com/cloud/) 和本地环境中均表现出色。它提供了多功能的功能集、无缝的部署选项和出色的性能。\n\n此集成提供了以下组件以利用 SingleStore 的功能：\n\n- **`SingleStoreLoader`**: 直接从 SingleStore 数据库表加载文档。\n- **`SingleStoreSemanticCache`**: 使用 SingleStore 作为语义缓存，用于高效地存储和检索嵌入。\n- **`SingleStoreChatMessageHistory`**: 在 SingleStore 中存储和检索聊天消息历史。\n- **`SingleStoreVectorStore`**: 存储文档嵌入并执行快速的向量和全文搜索。\n\n这些组件能够实现高效的文档存储、嵌入管理和高级搜索功能，结合了全文搜索和基于向量的搜索，以实现快速准确的查询。"
      ]
    },
    {
      "cell_type": "code",
      "execution_count": null,
      "metadata": {
        "id": "y8ku6X96sebl"
      },
      "outputs": [],
      "source": [
        "from langchain_singlestore import (\n",
        "    SingleStoreChatMessageHistory,\n",
        "    SingleStoreLoader,\n",
        "    SingleStoreSemanticCache,\n",
        "    SingleStoreVectorStore,\n",
        ")"
      ]
    }
  ],
  "metadata": {
    "colab": {
      "provenance": []
    },
    "kernelspec": {
      "display_name": "Python 3 (ipykernel)",
      "language": "python",
      "name": "python3"
    },
    "language_info": {
      "codemirror_mode": {
        "name": "ipython",
        "version": 3
      },
      "file_extension": ".py",
      "mimetype": "text/x-python",
      "name": "python",
      "nbconvert_exporter": "python",
      "pygments_lexer": "ipython3",
      "version": "3.10.11"
    }
  },
  "nbformat": 4,
  "nbformat_minor": 1
}