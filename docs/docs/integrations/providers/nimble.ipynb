{
  "cells": [
    {
      "cell_type": "raw",
      "id": "afaf8039",
      "metadata": {
        "id": "afaf8039"
      },
      "source": [
        "---\n",
        "sidebar_label: Nimble\n",
        "---"
      ]
    },
    {
      "cell_type": "markdown",
      "id": "72ee0c4b-9764-423a-9dbf-95129e185210",
      "metadata": {
        "id": "72ee0c4b-9764-423a-9dbf-95129e185210"
      },
      "source": [
        "# Nimble\n\n  [Nimble](https://www.linkedin.com/company/nimbledata) 是首个商业外部数据平台，通过我们屡获殊荣的、由人工智能驱动的数据Structuring技术，使数据决策比以往任何时候都更容易。Nimble 将业务用户与公共网络知识联系起来。\n我们通过任务关键型的实时外部数据赋能企业，以解锁高级业务智能、价格比较以及用于销售和营销的其他公共数据。我们将数据转化为即时业务价值。\n\n如果您想了解更多关于 Nimble 的信息，请访问我们的网站 [nimbleway.com](https://www.nimbleway.com/)。\n\n\n## Retrievers:"
      ]
    },
    {
      "cell_type": "markdown",
      "source": "### NimbleSearchRetriever",
      "metadata": {
        "id": "AuMFgVFrKbNH"
      },
      "id": "AuMFgVFrKbNH"
    },
    {
      "cell_type": "markdown",
      "source": [
        "使开发人员能够构建 RAG 应用程序和 AI Agent，这些应用程序和 Agent 可以搜索、访问并从网络的任何位置检索在线信息。\n\n我们需要安装 `langchain-nimble` python 包。"
      ],
      "metadata": {
        "id": "sFlPjZX9KdK6"
      },
      "id": "sFlPjZX9KdK6"
    },
    {
      "metadata": {},
      "cell_type": "code",
      "outputs": [],
      "execution_count": null,
      "source": "%pip install -U langchain-nimble",
      "id": "65f237c852aa3885"
    },
    {
      "metadata": {},
      "cell_type": "markdown",
      "source": "[请参阅使用示例](/docs/integrations/retrievers/nimble/)。",
      "id": "77bd7b9a6a8e381b"
    },
    {
      "metadata": {},
      "cell_type": "markdown",
      "source": [
        "```python\nfrom langchain_nimble import NimbeSearchRetriever\n```"
      ],
      "id": "511f9d569c21a5d2"
    },
    {
      "cell_type": "markdown",
      "source": "请注意，需要进行身份验证，请参阅文档中的[设置部分](/docs/integrations/retrievers/nimble/#setup)。",
      "metadata": {
        "id": "WfwnI_RS8PO5"
      },
      "id": "WfwnI_RS8PO5"
    }
  ],
  "metadata": {
    "kernelspec": {
      "display_name": "Python 3 (ipykernel)",
      "language": "python",
      "name": "python3"
    },
    "language_info": {
      "codemirror_mode": {
        "name": "ipython",
        "version": 3
      },
      "file_extension": ".py",
      "mimetype": "text/x-python",
      "name": "python",
      "nbconvert_exporter": "python",
      "pygments_lexer": "ipython3",
      "version": "3.10.4"
    },
    "colab": {
      "provenance": []
    }
  },
  "nbformat": 4,
  "nbformat_minor": 5
}