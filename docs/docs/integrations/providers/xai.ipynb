{
  "cells": [
    {
      "cell_type": "markdown",
      "id": "2970dd75-8ebf-4b51-8282-9b454b8f356d",
      "metadata": {},
      "source": [
        "# xAI\n\n[xAI](https://console.x.ai) 提供了一个与 Grok 模型进行交互的 API。\n\n本示例将介绍如何使用 LangChain 与 xAI 模型进行交互。"
      ]
    },
    {
      "cell_type": "markdown",
      "id": "1c47fc36",
      "metadata": {},
      "source": [
        "## 安装"
      ]
    },
    {
      "cell_type": "code",
      "execution_count": null,
      "id": "1ecdb29d",
      "metadata": {},
      "outputs": [],
      "source": [
        "%pip install --upgrade langchain-xai"
      ]
    },
    {
      "cell_type": "markdown",
      "id": "89883202",
      "metadata": {},
      "source": [
        "## 环境\n\n要使用 xAI，您需要[创建一个 API 密钥](https://console.x.ai/)。API 密钥可以作为初始化参数 ``xai_api_key`` 传入，或者设置为环境变量 ``XAI_API_KEY``。"
      ]
    },
    {
      "cell_type": "markdown",
      "id": "8304b4d9",
      "metadata": {},
      "source": [
        "## 示例\n\n请参阅 [ChatXAI 文档](/docs/integrations/chat/xai) 了解详细信息和支持的功能。"
      ]
    },
    {
      "cell_type": "code",
      "execution_count": null,
      "id": "637bb53f",
      "metadata": {},
      "outputs": [],
      "source": [
        "# Querying chat models with xAI\n",
        "\n",
        "from langchain_xai import ChatXAI\n",
        "\n",
        "chat = ChatXAI(\n",
        "    # xai_api_key=\"YOUR_API_KEY\",\n",
        "    model=\"grok-4\",\n",
        ")\n",
        "\n",
        "# stream the response back from the model\n",
        "for m in chat.stream(\"Tell me fun things to do in NYC\"):\n",
        "    print(m.content, end=\"\", flush=True)\n",
        "\n",
        "# if you don't want to do streaming, you can use the invoke method\n",
        "# chat.invoke(\"Tell me fun things to do in NYC\")"
      ]
    }
  ],
  "metadata": {
    "kernelspec": {
      "display_name": "Python 3 (ipykernel)",
      "language": "python",
      "name": "python3"
    },
    "language_info": {
      "codemirror_mode": {
        "name": "ipython",
        "version": 3
      },
      "file_extension": ".py",
      "mimetype": "text/x-python",
      "name": "python",
      "nbconvert_exporter": "python",
      "pygments_lexer": "ipython3",
      "version": "3.11.9"
    }
  },
  "nbformat": 4,
  "nbformat_minor": 5
}