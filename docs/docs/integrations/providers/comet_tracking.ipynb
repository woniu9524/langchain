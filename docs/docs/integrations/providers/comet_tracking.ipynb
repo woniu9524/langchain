{
  "cells": [
    {
      "cell_type": "markdown",
      "metadata": {},
      "source": [
        "# Comet\n\n>[Comet](https://www.comet.com/) machine learning platform integrates with your existing infrastructure\n>and tools so you can manage, visualize, and optimize models—from training runs to production monitoring"
      ]
    },
    {
      "cell_type": "markdown",
      "metadata": {},
      "source": [
        "![](https://user-images.githubusercontent.com/7529846/230328046-a8b18c51-12e3-4617-9b39-97614a571a"
      ]
    },
    {
      "cell_type": "markdown",
      "metadata": {},
      "source": [
        "在本指南中，我们将演示如何使用 [Comet](https://www.comet.com/site/?utm_source=langchain&utm_medium=referral&utm_campaign=comet_notebook) 来跟踪您的 Langchain 实验、评估指标和 LLM 会话。\n\n<a target=\"_blank\" href=\"https://colab.research.google.com/github/hwchase17/langchain/blob/master/docs/ecosystem/comet_tracking\">\n  <img src=\"https://colab.research.google.com/assets/colab-badge.svg\" alt=\"在 Colab 中打开\"/>\n</a>\n\n**示例项目：** [Comet with LangChain](https://www.comet.com/examples/comet-example-langchain/view/b5ZThK6OFdhKWVSP3fDfRtrNF/panels?utm_source=langchain&utm_medium=referral&utm_campaign=comet_notebook)"
      ]
    },
    {
      "cell_type": "markdown",
      "metadata": {},
      "source": [
        "```mdx\nimport Mermaid from 'astro-mermaid';\n\nexport const metadata = {\n  title: 'Astro 的 Mermaid 组件',\n};\n\n# Astro 的 Mermaid 组件\n\n有时，你可能需要可视化你的数据、流程图或序列图。\n\nMermaid 是一个利用 Markdown 风格的语法"
      ]
    },
    {
      "cell_type": "markdown",
      "metadata": {},
      "source": [
        "### 安装 Comet 和依赖项"
      ]
    },
    {
      "cell_type": "code",
      "execution_count": null,
      "metadata": {},
      "outputs": [],
      "source": [
        "%pip install --upgrade --quiet  comet_ml langchain langchain-openai google-search-results spacy textstat pandas\n",
        "\n",
        "\n",
        "!{sys.executable} -m spacy download en_core_web_sm"
      ]
    },
    {
      "cell_type": "markdown",
      "metadata": {},
      "source": [
        "### 初始化 Comet 并设置您的凭证"
      ]
    },
    {
      "cell_type": "markdown",
      "metadata": {},
      "source": [
        "您可以在此处的 [Comet API Key](https://www.comet.com/signup?utm_source=langchain&utm_medium=referral&utm_campaign=comet_notebook) 获取您的 Comet API Key，或在初始化 Comet 后点击链接。"
      ]
    },
    {
      "cell_type": "code",
      "execution_count": null,
      "metadata": {},
      "outputs": [],
      "source": [
        "import comet_ml\n",
        "\n",
        "comet_ml.init(project_name=\"comet-example-langchain\")"
      ]
    },
    {
      "cell_type": "markdown",
      "metadata": {},
      "source": [
        "### 设置 OpenAI 和 SerpAPI 凭证"
      ]
    },
    {
      "cell_type": "markdown",
      "metadata": {},
      "source": [
        "您需要一个 [OpenAI API 密钥](https://platform.openai.com/account/api-keys) 和一个 [SerpAPI API 密钥](https://serpapi.com/dashboard) 来运行以下示例"
      ]
    },
    {
      "cell_type": "code",
      "execution_count": null,
      "metadata": {},
      "outputs": [],
      "source": [
        "import os\n",
        "\n",
        "os.environ[\"OPENAI_API_KEY\"] = \"...\"\n",
        "# os.environ[\"OPENAI_ORGANIZATION\"] = \"...\"\n",
        "os.environ[\"SERPAPI_API_KEY\"] = \"...\""
      ]
    },
    {
      "cell_type": "markdown",
      "metadata": {},
      "source": [
        "### 场景 1：仅使用 LLM"
      ]
    },
    {
      "cell_type": "code",
      "execution_count": null,
      "metadata": {},
      "outputs": [],
      "source": [
        "from langchain_community.callbacks import CometCallbackHandler\n",
        "from langchain_core.callbacks import StdOutCallbackHandler\n",
        "from langchain_openai import OpenAI\n",
        "\n",
        "comet_callback = CometCallbackHandler(\n",
        "    project_name=\"comet-example-langchain\",\n",
        "    complexity_metrics=True,\n",
        "    stream_logs=True,\n",
        "    tags=[\"llm\"],\n",
        "    visualizations=[\"dep\"],\n",
        ")\n",
        "callbacks = [StdOutCallbackHandler(), comet_callback]\n",
        "llm = OpenAI(temperature=0.9, callbacks=callbacks, verbose=True)\n",
        "\n",
        "llm_result = llm.generate([\"Tell me a joke\", \"Tell me a poem\", \"Tell me a fact\"] * 3)\n",
        "print(\"LLM result\", llm_result)\n",
        "comet_callback.flush_tracker(llm, finish=True)"
      ]
    },
    {
      "cell_type": "markdown",
      "metadata": {},
      "source": [
        "### 场景 2：在链中使用 LLM"
      ]
    },
    {
      "cell_type": "code",
      "execution_count": null,
      "metadata": {},
      "outputs": [],
      "source": [
        "from langchain.chains import LLMChain\n",
        "from langchain_community.callbacks import CometCallbackHandler\n",
        "from langchain_core.callbacks import StdOutCallbackHandler\n",
        "from langchain_core.prompts import PromptTemplate\n",
        "from langchain_openai import OpenAI\n",
        "\n",
        "comet_callback = CometCallbackHandler(\n",
        "    complexity_metrics=True,\n",
        "    project_name=\"comet-example-langchain\",\n",
        "    stream_logs=True,\n",
        "    tags=[\"synopsis-chain\"],\n",
        ")\n",
        "callbacks = [StdOutCallbackHandler(), comet_callback]\n",
        "llm = OpenAI(temperature=0.9, callbacks=callbacks)\n",
        "\n",
        "template = \"\"\"You are a playwright. Given the title of play, it is your job to write a synopsis for that title.\n",
        "Title: {title}\n",
        "Playwright: This is a synopsis for the above play:\"\"\"\n",
        "prompt_template = PromptTemplate(input_variables=[\"title\"], template=template)\n",
        "synopsis_chain = LLMChain(llm=llm, prompt=prompt_template, callbacks=callbacks)\n",
        "\n",
        "test_prompts = [{\"title\": \"Documentary about Bigfoot in Paris\"}]\n",
        "print(synopsis_chain.apply(test_prompts))\n",
        "comet_callback.flush_tracker(synopsis_chain, finish=True)"
      ]
    },
    {
      "cell_type": "markdown",
      "metadata": {},
      "source": [
        "### 情景 3：使用带工具的代理"
      ]
    },
    {
      "cell_type": "code",
      "execution_count": null,
      "metadata": {},
      "outputs": [],
      "source": [
        "from langchain.agents import initialize_agent, load_tools\n",
        "from langchain_community.callbacks import CometCallbackHandler\n",
        "from langchain_core.callbacks import StdOutCallbackHandler\n",
        "from langchain_openai import OpenAI\n",
        "\n",
        "comet_callback = CometCallbackHandler(\n",
        "    project_name=\"comet-example-langchain\",\n",
        "    complexity_metrics=True,\n",
        "    stream_logs=True,\n",
        "    tags=[\"agent\"],\n",
        ")\n",
        "callbacks = [StdOutCallbackHandler(), comet_callback]\n",
        "llm = OpenAI(temperature=0.9, callbacks=callbacks)\n",
        "\n",
        "tools = load_tools([\"serpapi\", \"llm-math\"], llm=llm, callbacks=callbacks)\n",
        "agent = initialize_agent(\n",
        "    tools,\n",
        "    llm,\n",
        "    agent=\"zero-shot-react-description\",\n",
        "    callbacks=callbacks,\n",
        "    verbose=True,\n",
        ")\n",
        "agent.run(\n",
        "    \"Who is Leo DiCaprio's girlfriend? What is her current age raised to the 0.43 power?\"\n",
        ")\n",
        "comet_callback.flush_tracker(agent, finish=True)"
      ]
    },
    {
      "cell_type": "markdown",
      "metadata": {},
      "source": [
        "### 场景 4：使用自定义评估指标"
      ]
    },
    {
      "cell_type": "markdown",
      "metadata": {},
      "source": [
        "`CometCallbackManager` 还允许您定义和使用自定义评估指标来评估模型生成的输出。让我们来看看它是如何工作的。\n\n在下面的代码片段中，我们将使用 [ROUGE](https://huggingface.co/spaces/evaluate-metric/rouge) 指标来评估输入提示生成的摘要的质量。"
      ]
    },
    {
      "cell_type": "code",
      "execution_count": null,
      "metadata": {},
      "outputs": [],
      "source": [
        "%pip install --upgrade --quiet  rouge-score"
      ]
    },
    {
      "cell_type": "code",
      "execution_count": null,
      "metadata": {},
      "outputs": [],
      "source": [
        "from langchain.chains import LLMChain\n",
        "from langchain_community.callbacks import CometCallbackHandler\n",
        "from langchain_core.callbacks import StdOutCallbackHandler\n",
        "from langchain_core.prompts import PromptTemplate\n",
        "from langchain_openai import OpenAI\n",
        "from rouge_score import rouge_scorer\n",
        "\n",
        "\n",
        "class Rouge:\n",
        "    def __init__(self, reference):\n",
        "        self.reference = reference\n",
        "        self.scorer = rouge_scorer.RougeScorer([\"rougeLsum\"], use_stemmer=True)\n",
        "\n",
        "    def compute_metric(self, generation, prompt_idx, gen_idx):\n",
        "        prediction = generation.text\n",
        "        results = self.scorer.score(target=self.reference, prediction=prediction)\n",
        "\n",
        "        return {\n",
        "            \"rougeLsum_score\": results[\"rougeLsum\"].fmeasure,\n",
        "            \"reference\": self.reference,\n",
        "        }\n",
        "\n",
        "\n",
        "reference = \"\"\"\n",
        "The tower is 324 metres (1,063 ft) tall, about the same height as an 81-storey building.\n",
        "It was the first structure to reach a height of 300 metres.\n",
        "\n",
        "It is now taller than the Chrysler Building in New York City by 5.2 metres (17 ft)\n",
        "Excluding transmitters, the Eiffel Tower is the second tallest free-standing structure in France .\n",
        "\"\"\"\n",
        "rouge_score = Rouge(reference=reference)\n",
        "\n",
        "template = \"\"\"Given the following article, it is your job to write a summary.\n",
        "Article:\n",
        "{article}\n",
        "Summary: This is the summary for the above article:\"\"\"\n",
        "prompt_template = PromptTemplate(input_variables=[\"article\"], template=template)\n",
        "\n",
        "comet_callback = CometCallbackHandler(\n",
        "    project_name=\"comet-example-langchain\",\n",
        "    complexity_metrics=False,\n",
        "    stream_logs=True,\n",
        "    tags=[\"custom_metrics\"],\n",
        "    custom_metrics=rouge_score.compute_metric,\n",
        ")\n",
        "callbacks = [StdOutCallbackHandler(), comet_callback]\n",
        "llm = OpenAI(temperature=0.9)\n",
        "\n",
        "synopsis_chain = LLMChain(llm=llm, prompt=prompt_template)\n",
        "\n",
        "test_prompts = [\n",
        "    {\n",
        "        \"article\": \"\"\"\n",
        "                 The tower is 324 metres (1,063 ft) tall, about the same height as\n",
        "                 an 81-storey building, and the tallest structure in Paris. Its base is square,\n",
        "                 measuring 125 metres (410 ft) on each side.\n",
        "                 During its construction, the Eiffel Tower surpassed the\n",
        "                 Washington Monument to become the tallest man-made structure in the world,\n",
        "                 a title it held for 41 years until the Chrysler Building\n",
        "                 in New York City was finished in 1930.\n",
        "\n",
        "                 It was the first structure to reach a height of 300 metres.\n",
        "                 Due to the addition of a broadcasting aerial at the top of the tower in 1957,\n",
        "                 it is now taller than the Chrysler Building by 5.2 metres (17 ft).\n",
        "\n",
        "                 Excluding transmitters, the Eiffel Tower is the second tallest\n",
        "                 free-standing structure in France after the Millau Viaduct.\n",
        "                 \"\"\"\n",
        "    }\n",
        "]\n",
        "print(synopsis_chain.apply(test_prompts, callbacks=callbacks))\n",
        "comet_callback.flush_tracker(synopsis_chain, finish=True)"
      ]
    },
    {
      "cell_type": "markdown",
      "metadata": {},
      "source": [
        "### 回调跟踪器\n\n与 Comet 还有另一项集成：\n\n请参阅 [示例](/docs/integrations/callbacks/comet_tracing)。"
      ]
    },
    {
      "cell_type": "code",
      "execution_count": null,
      "metadata": {},
      "outputs": [],
      "source": [
        "from langchain_community.callbacks.tracers.comet import CometTracer"
      ]
    }
  ],
  "metadata": {
    "kernelspec": {
      "display_name": "Python 3 (ipykernel)",
      "language": "python",
      "name": "python3"
    },
    "language_info": {
      "codemirror_mode": {
        "name": "ipython",
        "version": 3
      },
      "file_extension": ".py",
      "mimetype": "text/x-python",
      "name": "python",
      "nbconvert_exporter": "python",
      "pygments_lexer": "ipython3",
      "version": "3.10.12"
    }
  },
  "nbformat": 4,
  "nbformat_minor": 4
}