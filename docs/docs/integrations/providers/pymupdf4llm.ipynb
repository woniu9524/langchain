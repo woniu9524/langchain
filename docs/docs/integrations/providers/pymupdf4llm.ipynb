{
  "cells": [
    {
      "cell_type": "markdown",
      "metadata": {},
      "source": [
        " PyMuPDF4LLM\n\n[PyMuPDF4LLM](https://pymupdf.readthedocs.io/en/latest/pymupdf4llm) 旨在更轻松地以 Markdown 格式提取 PDF 内容，这对于 LLM 和 RAG 应用是必需的。\n\n[langchain-pymupdf4llm](https://github.com/lakinduboteju/langchain-pymupdf4llm) 将 PyMuPDF4LLM 作为 Document Loader 集成到 LangChain 中。"
      ]
    },
    {
      "cell_type": "code",
      "execution_count": null,
      "metadata": {},
      "outputs": [],
      "source": [
        "%pip install -qU langchain-pymupdf4llm"
      ]
    },
    {
      "cell_type": "code",
      "execution_count": null,
      "metadata": {
        "id": "y8ku6X96sebl"
      },
      "outputs": [],
      "source": [
        "from langchain_pymupdf4llm import PyMuPDF4LLMLoader, PyMuPDF4LLMParser"
      ]
    }
  ],
  "metadata": {
    "colab": {
      "provenance": []
    },
    "kernelspec": {
      "display_name": "Python 3 (ipykernel)",
      "language": "python",
      "name": "python3"
    },
    "language_info": {
      "codemirror_mode": {
        "name": "ipython",
        "version": 3
      },
      "file_extension": ".py",
      "mimetype": "text/x-python",
      "name": "python",
      "nbconvert_exporter": "python",
      "pygments_lexer": "ipython3",
      "version": "3.10.11"
    }
  },
  "nbformat": 4,
  "nbformat_minor": 1
}