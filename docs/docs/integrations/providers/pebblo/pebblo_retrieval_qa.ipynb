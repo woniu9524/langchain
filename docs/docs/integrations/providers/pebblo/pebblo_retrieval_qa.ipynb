{
  "cells": [
    {
      "cell_type": "markdown",
      "id": "3ce451e9-f8f1-4f27-8c6b-4a93a406d504",
      "metadata": {},
      "source": [
        "# 使用 PebbloRetrievalQA 实现身份识别的 RAG\n\n> PebbloRetrievalQA 是一个具有身份和语义强制执行的检索链，用于查询向量数据库进行问答。\n\n本笔记介绍了如何使用身份和语义强制执行（拒绝主题/实体）来检索文档。有关 Pebblo 及其 SafeRetriever 功能的更多详细信息，请访问 [Pebblo 文档](https://daxa-ai.github.io/pebblo/retrieval_chain/)\n\n### 步骤：\n\n1. **加载文档：**\n我们将把具有授权和语义元数据的文档加载到内存中的 Qdrant 向量存储中。此向量存储将用作 PebbloRetrievalQA 中的检索器。\n\n> **注意：** 建议在摄取端使用 [PebbloSafeLoader](https://daxa-ai.github.io/pebblo/rag) 作为加载具有身份验证和语义元数据的文档的对应组件。`PebbloSafeLoader` 可确保文档的安全高效加载，同时保持元数据的完整性。\n\n2. **测试强制执行机制：**\n我们将分别测试身份和语义强制执行。对于每种用例，我们将定义一个特定的“提问”函数，其中包含所需的上下文（*auth_context* 和 *semantic_context*），然后提出我们的问题。"
      ]
    },
    {
      "cell_type": "markdown",
      "id": "4ee16b6b-5dac-4b5c-bb69-3ec87398a33c",
      "metadata": {},
      "source": [
        "## 设置\n\n### 依赖项\n\n在本教程中，我们将使用 OpenAI LLM、OpenAI embeddings 和 Qdrant 向量存储。"
      ]
    },
    {
      "cell_type": "code",
      "execution_count": null,
      "id": "e68494fa-f387-4481-9a6c-58294865d7b7",
      "metadata": {},
      "outputs": [],
      "source": [
        "%pip install --upgrade --quiet langchain langchain_core langchain-community langchain-openai qdrant_client"
      ]
    },
    {
      "cell_type": "markdown",
      "id": "61498d51-0c38-40e2-adcd-19dfdf4d37ef",
      "metadata": {},
      "source": [
        "### 身份感知数据摄入\n\n这里我们使用 Qdrant 作为向量数据库；然而，您也可以使用任何受支持的向量数据库。\n\n**PebbloRetrievalQA 链支持以下向量数据库：**\n- Qdrant\n- Pinecone\n- Postgres (利用 pgvector 扩展)\n\n**使用授权和语义信息加载向量数据库到元数据中：**\n\n在此步骤中，我们将源文档的授权和语义信息捕获到每个 chunk 的 VectorDB 条目元数据中的 `authorized_identities`、`pebblo_semantic_topics` 和 `pebblo_semantic_entities` 字段。\n\n*注意：要使用 PebbloRetrievalQA 链，您必须始终将授权和语义元数据放入指定的字段中。这些字段必须包含一个字符串列表。*"
      ]
    },
    {
      "cell_type": "code",
      "execution_count": 2,
      "id": "ae4fcbc1-bdc3-40d2-b2df-8c82cad1f89c",
      "metadata": {},
      "outputs": [
        {
          "name": "stdout",
          "output_type": "stream",
          "text": [
            "Vectordb loaded.\n"
          ]
        }
      ],
      "source": [
        "from langchain_community.vectorstores.qdrant import Qdrant\n",
        "from langchain_core.documents import Document\n",
        "from langchain_openai.embeddings import OpenAIEmbeddings\n",
        "from langchain_openai.llms import OpenAI\n",
        "\n",
        "llm = OpenAI()\n",
        "embeddings = OpenAIEmbeddings()\n",
        "collection_name = \"pebblo-identity-and-semantic-rag\"\n",
        "\n",
        "page_content = \"\"\"\n",
        "**ACME Corp Financial Report**\n",
        "\n",
        "**Overview:**\n",
        "ACME Corp, a leading player in the merger and acquisition industry, presents its financial report for the fiscal year ending December 31, 2020. \n",
        "Despite a challenging economic landscape, ACME Corp demonstrated robust performance and strategic growth.\n",
        "\n",
        "**Financial Highlights:**\n",
        "Revenue soared to $50 million, marking a 15% increase from the previous year, driven by successful deal closures and expansion into new markets. \n",
        "Net profit reached $12 million, showcasing a healthy margin of 24%.\n",
        "\n",
        "**Key Metrics:**\n",
        "Total assets surged to $80 million, reflecting a 20% growth, highlighting ACME Corp's strong financial position and asset base. \n",
        "Additionally, the company maintained a conservative debt-to-equity ratio of 0.5, ensuring sustainable financial stability.\n",
        "\n",
        "**Future Outlook:**\n",
        "ACME Corp remains optimistic about the future, with plans to capitalize on emerging opportunities in the global M&A landscape. \n",
        "The company is committed to delivering value to shareholders while maintaining ethical business practices.\n",
        "\n",
        "**Bank Account Details:**\n",
        "For inquiries or transactions, please refer to ACME Corp's US bank account:\n",
        "Account Number: 123456789012\n",
        "Bank Name: Fictitious Bank of America\n",
        "\"\"\"\n",
        "\n",
        "documents = [\n",
        "    Document(\n",
        "        **{\n",
        "            \"page_content\": page_content,\n",
        "            \"metadata\": {\n",
        "                \"pebblo_semantic_topics\": [\"financial-report\"],\n",
        "                \"pebblo_semantic_entities\": [\"us-bank-account-number\"],\n",
        "                \"authorized_identities\": [\"finance-team\", \"exec-leadership\"],\n",
        "                \"page\": 0,\n",
        "                \"source\": \"https://drive.google.com/file/d/xxxxxxxxxxxxx/view\",\n",
        "                \"title\": \"ACME Corp Financial Report.pdf\",\n",
        "            },\n",
        "        }\n",
        "    )\n",
        "]\n",
        "\n",
        "vectordb = Qdrant.from_documents(\n",
        "    documents,\n",
        "    embeddings,\n",
        "    location=\":memory:\",\n",
        "    collection_name=collection_name,\n",
        ")\n",
        "\n",
        "print(\"Vectordb loaded.\")"
      ]
    },
    {
      "cell_type": "markdown",
      "id": "f630bb8b-67ba-41f9-8715-76d006207e75",
      "metadata": {},
      "source": [
        "## 带有身份强制的检索\n\nPebbloRetrievalQA 链使用 SafetyRetrieval 来强制确保用于上下文的片段仅从用户授权的文档中检索。\n为了实现这一点，Gen-AI 应用程序需要为此检索链提供授权上下文。\n此 `auth_context` 应填写访问 Gen-AI 应用的用户的身份和授权组。\n\n以下是 `PebbloRetrievalQA` 的示例代码，其中 `user_auth`（用户授权列表，可能包括其用户 ID 和他们所属的群组）由访问 RAG 应用程序的用户提供，并传入 `auth_context`。"
      ]
    },
    {
      "cell_type": "code",
      "execution_count": 6,
      "id": "e978bee6-3a8c-459f-ab82-d380d7499b36",
      "metadata": {},
      "outputs": [],
      "source": [
        "from langchain_community.chains import PebbloRetrievalQA\n",
        "from langchain_community.chains.pebblo_retrieval.models import AuthContext, ChainInput\n",
        "\n",
        "# Initialize PebbloRetrievalQA chain\n",
        "qa_chain = PebbloRetrievalQA.from_chain_type(\n",
        "    llm=llm,\n",
        "    retriever=vectordb.as_retriever(),\n",
        "    app_name=\"pebblo-identity-rag\",\n",
        "    description=\"Identity Enforcement app using PebbloRetrievalQA\",\n",
        "    owner=\"ACME Corp\",\n",
        ")\n",
        "\n",
        "\n",
        "def ask(question: str, auth_context: dict):\n",
        "    \"\"\"\n",
        "    Ask a question to the PebbloRetrievalQA chain\n",
        "    \"\"\"\n",
        "    auth_context_obj = AuthContext(**auth_context) if auth_context else None\n",
        "    chain_input_obj = ChainInput(query=question, auth_context=auth_context_obj)\n",
        "    return qa_chain.invoke(chain_input_obj.dict())"
      ]
    },
    {
      "cell_type": "markdown",
      "id": "7a267e96-70cb-468f-b830-83b65e9b7f6f",
      "metadata": {},
      "source": [
        "### 1. 授权用户的问题\n\n我们已经摄入了授权身份 `[\"finance-team\", \"exec-leadership\"]` 的数据，因此拥有授权身份/组 `finance-team` 的用户应该会收到正确的答案。"
      ]
    },
    {
      "cell_type": "code",
      "execution_count": 17,
      "id": "2688fc18-1eac-45a5-be55-aabbe6b25af5",
      "metadata": {},
      "outputs": [
        {
          "name": "stdout",
          "output_type": "stream",
          "text": [
            "Question: Share the financial performance of ACME Corp for the year 2020\n",
            "\n",
            "Answer: \n",
            "Revenue: $50 million (15% increase from previous year)\n",
            "Net profit: $12 million (24% margin)\n",
            "Total assets: $80 million (20% growth)\n",
            "Debt-to-equity ratio: 0.5\n"
          ]
        }
      ],
      "source": [
        "auth = {\n",
        "    \"user_id\": \"finance-user@acme.org\",\n",
        "    \"user_auth\": [\n",
        "        \"finance-team\",\n",
        "    ],\n",
        "}\n",
        "\n",
        "question = \"Share the financial performance of ACME Corp for the year 2020\"\n",
        "resp = ask(question, auth)\n",
        "print(f\"Question: {question}\\n\\nAnswer: {resp['result']}\")"
      ]
    },
    {
      "cell_type": "markdown",
      "id": "b4db6566-6562-4a49-b19c-6d99299b374e",
      "metadata": {},
      "source": [
        "### 2. 未授权用户提问\n\n由于用户的授权身份/用户组 `eng-support` 未包含在授权身份 `[\"finance-team\", \"exec-leadership\"]` 中，因此我们不应收到答案。"
      ]
    },
    {
      "cell_type": "code",
      "execution_count": 18,
      "id": "2d736ce3-6e05-48d3-a5e1-fb4e7cccc1ee",
      "metadata": {},
      "outputs": [
        {
          "name": "stdout",
          "output_type": "stream",
          "text": [
            "Question: Share the financial performance of ACME Corp for the year 2020\n",
            "\n",
            "Answer:  I don't know.\n"
          ]
        }
      ],
      "source": [
        "auth = {\n",
        "    \"user_id\": \"eng-user@acme.org\",\n",
        "    \"user_auth\": [\n",
        "        \"eng-support\",\n",
        "    ],\n",
        "}\n",
        "\n",
        "question = \"Share the financial performance of ACME Corp for the year 2020\"\n",
        "resp = ask(question, auth)\n",
        "print(f\"Question: {question}\\n\\nAnswer: {resp['result']}\")"
      ]
    },
    {
      "cell_type": "markdown",
      "id": "33a8afe1-3071-4118-9714-a17cba809ee4",
      "metadata": {},
      "source": [
        "### 3. 使用 PromptTemplate 提供额外指令\n您可以使用 `PromptTemplate` 为 LLM 提供额外指令，以生成自定义响应。"
      ]
    },
    {
      "cell_type": "code",
      "execution_count": 19,
      "id": "59c055ba-fdd1-48c6-9bc9-2793eb47438d",
      "metadata": {},
      "outputs": [],
      "source": [
        "from langchain_core.prompts import PromptTemplate\n",
        "\n",
        "prompt_template = PromptTemplate.from_template(\n",
        "    \"\"\"\n",
        "Answer the question using the provided context. \n",
        "If no context is provided, just say \"I'm sorry, but that information is unavailable, or Access to it is restricted.\".\n",
        "\n",
        "Question: {question}\n",
        "\"\"\"\n",
        ")\n",
        "\n",
        "question = \"Share the financial performance of ACME Corp for the year 2020\"\n",
        "prompt = prompt_template.format(question=question)"
      ]
    },
    {
      "cell_type": "markdown",
      "id": "c4d27c00-73d9-4ce8-bc70-29535deaf0e2",
      "metadata": {},
      "source": [
        "#### 3.1 授权用户的提问"
      ]
    },
    {
      "cell_type": "code",
      "execution_count": 21,
      "id": "e68a13a4-b735-421d-9655-2a9a087ba9e5",
      "metadata": {},
      "outputs": [
        {
          "name": "stdout",
          "output_type": "stream",
          "text": [
            "Question: Share the financial performance of ACME Corp for the year 2020\n",
            "\n",
            "Answer: \n",
            "Revenue soared to $50 million, marking a 15% increase from the previous year, and net profit reached $12 million, showcasing a healthy margin of 24%. Total assets also grew by 20% to $80 million, and the company maintained a conservative debt-to-equity ratio of 0.5.\n"
          ]
        }
      ],
      "source": [
        "auth = {\n",
        "    \"user_id\": \"finance-user@acme.org\",\n",
        "    \"user_auth\": [\n",
        "        \"finance-team\",\n",
        "    ],\n",
        "}\n",
        "resp = ask(prompt, auth)\n",
        "print(f\"Question: {question}\\n\\nAnswer: {resp['result']}\")"
      ]
    },
    {
      "cell_type": "markdown",
      "id": "7b97a9ca-bdc6-400a-923d-65a8536658be",
      "metadata": {},
      "source": [
        "#### 3.2 未经授权的用户提问"
      ]
    },
    {
      "cell_type": "code",
      "execution_count": 22,
      "id": "438e48c6-96a2-4d5e-81db-47f8c8f37739",
      "metadata": {},
      "outputs": [
        {
          "name": "stdout",
          "output_type": "stream",
          "text": [
            "Question: Share the financial performance of ACME Corp for the year 2020\n",
            "\n",
            "Answer: \n",
            "I'm sorry, but that information is unavailable, or Access to it is restricted.\n"
          ]
        }
      ],
      "source": [
        "auth = {\n",
        "    \"user_id\": \"eng-user@acme.org\",\n",
        "    \"user_auth\": [\n",
        "        \"eng-support\",\n",
        "    ],\n",
        "}\n",
        "resp = ask(prompt, auth)\n",
        "print(f\"Question: {question}\\n\\nAnswer: {resp['result']}\")"
      ]
    },
    {
      "cell_type": "markdown",
      "id": "4306cab3-d070-405f-a23b-5c6011a61c50",
      "metadata": {},
      "source": [
        "## 检索和语义强制"
      ]
    },
    {
      "cell_type": "markdown",
      "id": "1c3757cf-832f-483e-aafe-cb09b5130ec0",
      "metadata": {},
      "source": [
        "PebbloRetrievalQA 链使用 SafeRetrieval 来确保上下文中使用的代码片段仅从符合提供的语义上下文的文档中检索。\n为此，Gen-AI 应用程序必须为此检索链提供语义上下文。\n此 `semantic_context` 应包括应为访问 Gen-AI 应用程序的用户拒绝的主题和实体。\n\n下面是 PebbloRetrievalQA 的示例代码，其中包含 `topics_to_deny` 和 `entities_to_deny`。这些作为 `semantic_context` 传递给链输入。"
      ]
    },
    {
      "cell_type": "code",
      "execution_count": 28,
      "id": "daf37bf7-9a16-4102-8893-5b698cae1b07",
      "metadata": {},
      "outputs": [],
      "source": [
        "from typing import List, Optional\n",
        "\n",
        "from langchain_community.chains import PebbloRetrievalQA\n",
        "from langchain_community.chains.pebblo_retrieval.models import (\n",
        "    ChainInput,\n",
        "    SemanticContext,\n",
        ")\n",
        "\n",
        "# Initialize PebbloRetrievalQA chain\n",
        "qa_chain = PebbloRetrievalQA.from_chain_type(\n",
        "    llm=llm,\n",
        "    retriever=vectordb.as_retriever(),\n",
        "    app_name=\"pebblo-semantic-rag\",\n",
        "    description=\"Semantic Enforcement app using PebbloRetrievalQA\",\n",
        "    owner=\"ACME Corp\",\n",
        ")\n",
        "\n",
        "\n",
        "def ask(\n",
        "    question: str,\n",
        "    topics_to_deny: Optional[List[str]] = None,\n",
        "    entities_to_deny: Optional[List[str]] = None,\n",
        "):\n",
        "    \"\"\"\n",
        "    Ask a question to the PebbloRetrievalQA chain\n",
        "    \"\"\"\n",
        "    semantic_context = dict()\n",
        "    if topics_to_deny:\n",
        "        semantic_context[\"pebblo_semantic_topics\"] = {\"deny\": topics_to_deny}\n",
        "    if entities_to_deny:\n",
        "        semantic_context[\"pebblo_semantic_entities\"] = {\"deny\": entities_to_deny}\n",
        "\n",
        "    semantic_context_obj = (\n",
        "        SemanticContext(**semantic_context) if semantic_context else None\n",
        "    )\n",
        "    chain_input_obj = ChainInput(query=question, semantic_context=semantic_context_obj)\n",
        "    return qa_chain.invoke(chain_input_obj.dict())"
      ]
    },
    {
      "cell_type": "markdown",
      "id": "9718819b-f5cd-4212-9947-d18cd507c8b7",
      "metadata": {},
      "source": [
        "### 1. 无语义强制\n\n由于未应用任何语义强制，系统应返回答案，而不因与上下文关联的语义标签而排除任何上下文。"
      ]
    },
    {
      "cell_type": "code",
      "execution_count": 29,
      "id": "69158be1-f223-4d14-b61f-f4afdf5af526",
      "metadata": {},
      "outputs": [
        {
          "name": "stdout",
          "output_type": "stream",
          "text": [
            "Topics to deny: []\n",
            "Entities to deny: []\n",
            "Question: Share the financial performance of ACME Corp for the year 2020\n",
            "Answer: \n",
            "Revenue for ACME Corp increased by 15% to $50 million in 2020, with a net profit of $12 million and a strong asset base of $80 million. The company also maintained a conservative debt-to-equity ratio of 0.5.\n"
          ]
        }
      ],
      "source": [
        "topic_to_deny = []\n",
        "entities_to_deny = []\n",
        "question = \"Share the financial performance of ACME Corp for the year 2020\"\n",
        "resp = ask(question, topics_to_deny=topic_to_deny, entities_to_deny=entities_to_deny)\n",
        "print(\n",
        "    f\"Topics to deny: {topic_to_deny}\\nEntities to deny: {entities_to_deny}\\n\"\n",
        "    f\"Question: {question}\\nAnswer: {resp['result']}\"\n",
        ")"
      ]
    },
    {
      "cell_type": "markdown",
      "id": "c8789c58-0d64-404e-bc09-92f6952022ac",
      "metadata": {},
      "source": [
        "### 2. 拒绝 financial-report 主题\n\n数据已以 `[\"financial-report\"]` 主题的形式被摄取。\n因此，一个拒绝 `financial-report` 主题的应用不应收到回答。"
      ]
    },
    {
      "cell_type": "code",
      "execution_count": 30,
      "id": "9b17b2fc-eefb-4229-a41e-2f943d2eb48e",
      "metadata": {},
      "outputs": [
        {
          "name": "stdout",
          "output_type": "stream",
          "text": [
            "Topics to deny: ['financial-report']\n",
            "Entities to deny: []\n",
            "Question: Share the financial performance of ACME Corp for the year 2020\n",
            "Answer: \n",
            "\n",
            "Unfortunately, I do not have access to the financial performance of ACME Corp for the year 2020.\n"
          ]
        }
      ],
      "source": [
        "topic_to_deny = [\"financial-report\"]\n",
        "entities_to_deny = []\n",
        "question = \"Share the financial performance of ACME Corp for the year 2020\"\n",
        "resp = ask(question, topics_to_deny=topic_to_deny, entities_to_deny=entities_to_deny)\n",
        "print(\n",
        "    f\"Topics to deny: {topic_to_deny}\\nEntities to deny: {entities_to_deny}\\n\"\n",
        "    f\"Question: {question}\\nAnswer: {resp['result']}\"\n",
        ")"
      ]
    },
    {
      "cell_type": "markdown",
      "id": "894f21b0-2913-4ef6-b5ed-cbca8f74214d",
      "metadata": {},
      "source": [
        "### 3. 拒绝 us-bank-account-number 实体\n由于 `us-bank-account-number` 实体已被拒绝，系统不应返回该答案。"
      ]
    },
    {
      "cell_type": "code",
      "execution_count": 31,
      "id": "2b8abce3-7af3-437f-8999-2866a4b9beda",
      "metadata": {},
      "outputs": [
        {
          "name": "stdout",
          "output_type": "stream",
          "text": [
            "Topics to deny: []\n",
            "Entities to deny: ['us-bank-account-number']\n",
            "Question: Share the financial performance of ACME Corp for the year 2020\n",
            "Answer:  I don't have information about ACME Corp's financial performance for 2020.\n"
          ]
        }
      ],
      "source": [
        "topic_to_deny = []\n",
        "entities_to_deny = [\"us-bank-account-number\"]\n",
        "question = \"Share the financial performance of ACME Corp for the year 2020\"\n",
        "resp = ask(question, topics_to_deny=topic_to_deny, entities_to_deny=entities_to_deny)\n",
        "print(\n",
        "    f\"Topics to deny: {topic_to_deny}\\nEntities to deny: {entities_to_deny}\\n\"\n",
        "    f\"Question: {question}\\nAnswer: {resp['result']}\"\n",
        ")"
      ]
    }
  ],
  "metadata": {
    "kernelspec": {
      "display_name": "Python 3 (ipykernel)",
      "language": "python",
      "name": "python3"
    },
    "language_info": {
      "codemirror_mode": {
        "name": "ipython",
        "version": 3
      },
      "file_extension": ".py",
      "mimetype": "text/x-python",
      "name": "python",
      "nbconvert_exporter": "python",
      "pygments_lexer": "ipython3",
      "version": "3.9.18"
    }
  },
  "nbformat": 4,
  "nbformat_minor": 5
}