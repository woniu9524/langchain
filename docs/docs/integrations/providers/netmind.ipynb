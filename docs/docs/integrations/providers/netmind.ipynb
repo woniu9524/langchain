{
  "cells": [
    {
      "cell_type": "markdown",
      "metadata": {},
      "source": [
        "# Netmind\n\n[Netmind AI](https://www.netmind.ai/) 更快、更智能、更经济高效地构建 AI。\n通过我们全球 GPU 网络进行训练、微调、推理和扩展——您的全能一体化 AI 引擎。\n\n本示例介绍如何使用 LangChain 与 Netmind AI 模型进行交互。"
      ]
    },
    {
      "metadata": {},
      "cell_type": "markdown",
      "source": [
        "## 安装与设置\n\n```bash\npip install langchain-netmind\n```\n\n获取 Netmind API 密钥，并将其设置为环境变量（`NETMIND_API_KEY`）。\n请访问 https://www.netmind.ai/ 注册 Netmind 并生成 API 密钥。"
      ]
    },
    {
      "metadata": {},
      "cell_type": "markdown",
      "source": [
        "## Chat Models\n\n有关 Netmind 聊天模型的更多信息，请参阅此处的指南 [here](/docs/integrations/chat/netmind)"
      ]
    },
    {
      "metadata": {},
      "cell_type": "markdown",
      "source": [
        "## 嵌入模型\n\n有关 Netmind 嵌入模型的更多信息，请访问[指南](/docs/integrations/text_embedding/netmind)"
      ]
    }
  ],
  "metadata": {
    "colab": {
      "provenance": []
    },
    "kernelspec": {
      "display_name": "Python 3 (ipykernel)",
      "language": "python",
      "name": "python3"
    },
    "language_info": {
      "codemirror_mode": {
        "name": "ipython",
        "version": 3
      },
      "file_extension": ".py",
      "mimetype": "text/x-python",
      "name": "python",
      "nbconvert_exporter": "python",
      "pygments_lexer": "ipython3",
      "version": "3.10.11"
    }
  },
  "nbformat": 4,
  "nbformat_minor": 1
}