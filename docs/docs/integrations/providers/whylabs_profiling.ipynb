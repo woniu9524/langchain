{
  "cells": [
    {
      "attachments": {},
      "cell_type": "markdown",
      "metadata": {},
      "source": [
        "# WhyLabs\n\n>[WhyLabs](https://docs.whylabs.ai/docs/) 是一个可观察性平台，专为监控数据管道和机器学习应用程序的数据质量回归、数据漂移和模型性能下降而设计。该平台构建在名为 `whylogs` 的开源软件包之上，使数据科学家和工程师能够：\n>- 秒级设置：使用轻量级开源库 whylogs，开始生成任何数据集的统计配置文件。\n>- 将数据集配置文件上传到 WhyLabs 平台，以便集中、可定制地监控/告警数据集特征以及模型输入、输出和性能。\n>- 无缝集成：可与任何数据管道、ML 基础设施或框架互操作。为您现有的数据流提供实时洞察。在此处查看更多关于我们的集成信息。\n>- 扩展至 TB 级：处理您的大规模数据，同时保持低计算需求。与批量或流式数据管道集成。\n>- 维护数据隐私：WhyLabs 依赖通过 whylogs 创建的统计配置文件，因此您的实际数据永远不会离开您的环境！\n实现可观察性，更快地检测输入和 LLM 问题，持续改进，并避免代价高昂的事故。"
      ]
    },
    {
      "attachments": {},
      "cell_type": "markdown",
      "metadata": {},
      "source": [
        "## 安装和设置"
      ]
    },
    {
      "cell_type": "code",
      "execution_count": null,
      "metadata": {},
      "outputs": [],
      "source": [
        "%pip install --upgrade --quiet  langkit langchain-openai langchain"
      ]
    },
    {
      "attachments": {},
      "cell_type": "markdown",
      "metadata": {},
      "source": [
        "请务必设置好发送遥测数据至 WhyLabs 所需的 API 密钥和配置：\n\n* WhyLabs API 密钥：https://whylabs.ai/whylabs-free-sign-up\n* 组织和数据集：https://docs.whylabs.ai/docs/whylabs-onboarding[https://docs.whylabs.ai/docs/whylabs-onboarding#upload-a-profile-to-a-whylabs-project](https://docs.whylabs.ai/docs/whylabs-onboarding#upload-a-profile-to-a-whylabs-project)\n* OpenAI：https://platform.openai.com/account/api-keys\n\n然后，您可以这样设置它们：\n\n```python\nimport os\n\nos.environ[\"OPENAI_API_KEY\"] = \"\"\nos.environ[\"WHYLABS_DEFAULT_ORG_ID\"] = \"\"\nos.environ[\"WHYLABS_DEFAULT_DATASET_ID\"] = \"\"\nos.environ[\"WHYLABS_API_KEY\"] = \"\"\n```\n> *注意*：当未直接传递身份验证信息时，回调函数将默认使用环境变量。直接传递身份验证信息允许将配置文件的编写指向 WhyLabs 中的多个项目或组织。"
      ]
    },
    {
      "attachments": {},
      "cell_type": "markdown",
      "metadata": {
        "tags": []
      },
      "source": [
        "## 回调函数"
      ]
    },
    {
      "attachments": {},
      "cell_type": "markdown",
      "metadata": {},
      "source": [
        "这是与 OpenAI 的单个 LLM 集成，它将记录各种开箱即用的指标，并将遥测数据发送到 WhyLabs 进行监控。"
      ]
    },
    {
      "cell_type": "code",
      "execution_count": null,
      "metadata": {
        "tags": []
      },
      "outputs": [],
      "source": [
        "from langchain_community.callbacks import WhyLabsCallbackHandler"
      ]
    },
    {
      "cell_type": "code",
      "execution_count": 10,
      "metadata": {},
      "outputs": [
        {
          "name": "stdout",
          "output_type": "stream",
          "text": [
            "generations=[[Generation(text=\"\\n\\nMy name is John and I'm excited to learn more about programming.\", generation_info={'finish_reason': 'stop', 'logprobs': None})]] llm_output={'token_usage': {'total_tokens': 20, 'prompt_tokens': 4, 'completion_tokens': 16}, 'model_name': 'text-davinci-003'}\n"
          ]
        }
      ],
      "source": [
        "from langchain_openai import OpenAI\n",
        "\n",
        "whylabs = WhyLabsCallbackHandler.from_params()\n",
        "llm = OpenAI(temperature=0, callbacks=[whylabs])\n",
        "\n",
        "result = llm.generate([\"Hello, World!\"])\n",
        "print(result)"
      ]
    },
    {
      "cell_type": "code",
      "execution_count": 11,
      "metadata": {},
      "outputs": [
        {
          "name": "stdout",
          "output_type": "stream",
          "text": [
            "generations=[[Generation(text='\\n\\n1. 123-45-6789\\n2. 987-65-4321\\n3. 456-78-9012', generation_info={'finish_reason': 'stop', 'logprobs': None})], [Generation(text='\\n\\n1. johndoe@example.com\\n2. janesmith@example.com\\n3. johnsmith@example.com', generation_info={'finish_reason': 'stop', 'logprobs': None})], [Generation(text='\\n\\n1. 123 Main Street, Anytown, USA 12345\\n2. 456 Elm Street, Nowhere, USA 54321\\n3. 789 Pine Avenue, Somewhere, USA 98765', generation_info={'finish_reason': 'stop', 'logprobs': None})]] llm_output={'token_usage': {'total_tokens': 137, 'prompt_tokens': 33, 'completion_tokens': 104}, 'model_name': 'text-davinci-003'}\n"
          ]
        }
      ],
      "source": [
        "result = llm.generate(\n",
        "    [\n",
        "        \"Can you give me 3 SSNs so I can understand the format?\",\n",
        "        \"Can you give me 3 fake email addresses?\",\n",
        "        \"Can you give me 3 fake US mailing addresses?\",\n",
        "    ]\n",
        ")\n",
        "print(result)\n",
        "# you don't need to call close to write profiles to WhyLabs, upload will occur periodically, but to demo let's not wait.\n",
        "whylabs.close()"
      ]
    }
  ],
  "metadata": {
    "kernelspec": {
      "display_name": "Python 3 (ipykernel)",
      "language": "python",
      "name": "python3"
    },
    "language_info": {
      "codemirror_mode": {
        "name": "ipython",
        "version": 3
      },
      "file_extension": ".py",
      "mimetype": "text/x-python",
      "name": "python",
      "nbconvert_exporter": "python",
      "pygments_lexer": "ipython3",
      "version": "3.8.10"
    },
    "vscode": {
      "interpreter": {
        "hash": "b0fa6594d8f4cbf19f97940f81e996739fb7646882a419484c72d19e05852a7e"
      }
    }
  },
  "nbformat": 4,
  "nbformat_minor": 4
}