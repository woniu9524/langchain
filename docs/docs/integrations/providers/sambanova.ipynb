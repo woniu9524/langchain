{
  "cells": [
    {
      "cell_type": "markdown",
      "metadata": {},
      "source": [
        "# SambaNova\n\n客户正在转向 [SambaNova](https://sambanova.ai/)，以快速部署最先进的 AI 能力来获得竞争优势。我们专为企业规模构建的 AI 平台是下一代 AI 计算的技术支柱。我们赋能基础模型，释放数据中蕴藏的宝贵业务洞察。\n\nSambaNova RDU 是专为 AI 设计的，采用了革命性的数据流架构。与 GPU 相比，这种设计使得 RDU 在处理这些工作负载时效率显著更高，因为它消除了内存的冗余调用，而这是 GPU 功能的固有局限性。这种内置的效率是 RDU 能够在更小的占用空间内实现比 GPU 高得多的性能的特性之一。\n\n在我们的架构之上，我们开发了一些平台，使公司和开发人员能够充分利用 RDU 处理器和开源模型。"
      ]
    },
    {
      "cell_type": "markdown",
      "metadata": {},
      "source": [
        "### SambaNovaCloud\n\nSambaNova 的 [SambaNova Cloud](https://cloud.sambanova.ai/) 是一个用于运行开源模型推理的平台。\n\n您可以在 [此处](https://cloud.sambanova.ai/) 获取免费的 SambaNovaCloud API 密钥。"
      ]
    },
    {
      "cell_type": "markdown",
      "metadata": {},
      "source": [
        "### SambaStudio\n\nSambaNova 的 [SambaStudio](https://docs.sambanova.ai/sambastudio/latest/sambastudio-intro.html) 是一个功能丰富的 GUI 平台，提供了在 SambaNova DataScale 系统中训练、部署和管理模型的功能。"
      ]
    },
    {
      "cell_type": "markdown",
      "metadata": {},
      "source": [
        "## 安装与设置\n\n安装集成包：\n\n```bash\npip install langchain-sambanova\n```\n\n将您的 API 密钥设置为环境变量：\n\n如果您是 SambaNovaCloud 用户：\n\n```bash\nexport SAMBANOVA_API_KEY=\"your-sambanova-cloud-api-key-here\"\n```\n\n或者，如果您是 SambaStudio 用户\n\n```bash\nexport SAMBASTUDIO_API_KEY=\"your-sambastudio-api-key-here\"\n```"
      ]
    },
    {
      "cell_type": "markdown",
      "metadata": {},
      "source": [
        "## 聊天模型"
      ]
    },
    {
      "cell_type": "code",
      "execution_count": 2,
      "metadata": {
        "id": "y8ku6X96sebl"
      },
      "outputs": [],
      "source": [
        "from langchain_sambanova import ChatSambaNovaCloud\n",
        "\n",
        "llm = ChatSambaNovaCloud(model=\"Meta-Llama-3.3-70B-Instruct\", temperature=0.7)\n",
        "llm.invoke(\"Tell me a joke about artificial intelligence.\")"
      ]
    },
    {
      "cell_type": "markdown",
      "metadata": {},
      "source": [
        "有关 ChatSambaNovaCloud 组件的更详细演练，请参阅[此笔记本](https://python.langchain.com/docs/integrations/chat/sambanova/)"
      ]
    },
    {
      "cell_type": "code",
      "execution_count": null,
      "metadata": {},
      "outputs": [],
      "source": [
        "from langchain_sambanova import ChatSambaStudio\n",
        "\n",
        "llm = ChatSambaStudio(model=\"Meta-Llama-3.3-70B-Instruct\", temperature=0.7)\n",
        "llm.invoke(\"Tell me a joke about artificial intelligence.\")"
      ]
    },
    {
      "cell_type": "markdown",
      "metadata": {},
      "source": [
        "有关 ChatSambaStudio 组件的更详细的演练，请参阅 [此笔记本](https://python.langchain.com/docs/integrations/chat/sambastudio/)"
      ]
    },
    {
      "cell_type": "markdown",
      "metadata": {},
      "source": [
        "## 嵌入式模型"
      ]
    },
    {
      "cell_type": "code",
      "execution_count": null,
      "metadata": {},
      "outputs": [],
      "source": [
        "from langchain_sambanova import SambaNovaCloudEmbeddings\n",
        "\n",
        "embeddings = SambaNovaCloudEmbeddings(model=\"E5-Mistral-7B-Instruct\")\n",
        "embeddings.embed_query(\"What is the meaning of life?\")"
      ]
    },
    {
      "cell_type": "markdown",
      "metadata": {},
      "source": [
        "更详细地了解 SambaNovaCloudEmbeddings 组件，请参阅[此笔记本](https://python.langchain.com/docs/integrations/text_embedding/sambanova/)"
      ]
    },
    {
      "cell_type": "code",
      "execution_count": null,
      "metadata": {},
      "outputs": [],
      "source": [
        "from langchain_sambanova import SambaStudioEmbeddings\n",
        "\n",
        "embeddings = SambaStudioEmbeddings(model=\"e5-mistral-7b-instruct\")\n",
        "embeddings.embed_query(\"What is the meaning of life?\")"
      ]
    },
    {
      "cell_type": "markdown",
      "metadata": {},
      "source": [
        "为了更详细地了解 SambaStudioEmbeddings 组件，请参阅 [此 Notebook](https://python.langchain.com/docs/integrations/text_embedding/sambastudio/)"
      ]
    },
    {
      "cell_type": "markdown",
      "metadata": {},
      "source": [
        "API 参考 [langchain-sambanova](https://docs.sambanova.ai/cloud/api-reference)"
      ]
    }
  ],
  "metadata": {
    "colab": {
      "provenance": []
    },
    "kernelspec": {
      "display_name": "Python 3 (ipykernel)",
      "language": "python",
      "name": "python3"
    },
    "language_info": {
      "codemirror_mode": {
        "name": "ipython",
        "version": 3
      },
      "file_extension": ".py",
      "mimetype": "text/x-python",
      "name": "python",
      "nbconvert_exporter": "python",
      "pygments_lexer": "ipython3",
      "version": "3.10.11"
    }
  },
  "nbformat": 4,
  "nbformat_minor": 1
}