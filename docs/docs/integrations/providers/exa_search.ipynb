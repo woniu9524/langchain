{
  "cells": [
    {
      "cell_type": "markdown",
      "metadata": {},
      "source": [
        "# Exa\n\n>[Exa](https://exa.ai/) 是一个面向 AI 和开发者的知识 API。\n\n\n## 安装和设置\n\n`Exa` 集成存在于其自己的 [合作伙伴包](https://pypi.org/project/langchain-exa/) 中。您可以使用以下命令进行安装："
      ]
    },
    {
      "cell_type": "code",
      "execution_count": null,
      "metadata": {},
      "outputs": [],
      "source": [
        "%pip install -qU langchain-exa"
      ]
    },
    {
      "cell_type": "markdown",
      "metadata": {},
      "source": [
        "为了使用该包，您还需要将 `EXA_API_KEY` 环境变量设置为您的 Exa API 密钥。\n\n## Retrieval 器\n\n您可以在标准的检索管道中使用 [`ExaSearchRetriever`](/docs/integrations/tools/exa_search#using-exasearchretriever)。您可以像这样导入它。\n\n请参阅 [使用示例](/docs/integrations/tools/exa_search)。"
      ]
    },
    {
      "cell_type": "code",
      "execution_count": 2,
      "metadata": {
        "id": "y8ku6X96sebl"
      },
      "outputs": [],
      "source": [
        "from langchain_exa import ExaSearchRetriever"
      ]
    },
    {
      "cell_type": "markdown",
      "metadata": {},
      "source": "## 工具\n\n您可以使用 Exa 作为代理工具，如 [Exa 工具调用文档](/docs/integrations/tools/exa_search#use-within-an-agent)中所述。\n\n请参阅 [使用示例](/docs/integrations/tools/exa_search)。\n\n### ExaFindSimilarResults\n\n一个查询 Metaphor Search API 并返回 JSON 的工具。"
    },
    {
      "cell_type": "code",
      "execution_count": null,
      "metadata": {},
      "outputs": [],
      "source": [
        "from langchain_exa.tools import ExaFindSimilarResults"
      ]
    },
    {
      "cell_type": "markdown",
      "metadata": {},
      "source": [
        "### ExaSearchResults\n\nExa 搜索工具。"
      ]
    },
    {
      "cell_type": "code",
      "execution_count": null,
      "metadata": {},
      "outputs": [],
      "source": [
        "from langchain_exa.tools import ExaSearchResults"
      ]
    }
  ],
  "metadata": {
    "colab": {
      "provenance": []
    },
    "kernelspec": {
      "display_name": "Python 3 (ipykernel)",
      "language": "python",
      "name": "python3"
    },
    "language_info": {
      "codemirror_mode": {
        "name": "ipython",
        "version": 3
      },
      "file_extension": ".py",
      "mimetype": "text/x-python",
      "name": "python",
      "nbconvert_exporter": "python",
      "pygments_lexer": "ipython3",
      "version": "3.10.12"
    }
  },
  "nbformat": 4,
  "nbformat_minor": 4
}