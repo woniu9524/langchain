{
  "cells": [
    {
      "cell_type": "markdown",
      "metadata": {},
      "source": [
        "# Lindorm\n\nLindorm 是阿里云原生多模数据库，支持宽表、时序、文本、对象、流式、空间数据等多种数据类型的一体化接入和集成处理。它兼容 SQL、HBase/Cassandra/S3、TSDB、HDFS、Solr、Kafka 等多种标准接口，并能与第三方生态工具无缝集成。这使其适用于日志、监控、账单、广告、社交网络、旅行和风险控制等场景。Lindorm 也是支撑阿里巴巴核心业务的数据库之一。\n\n要使用 Lindorm 的 AI 和向量功能，您应该 [获取服务](https://help.aliyun.com/document_detail/174640.html?spm=a2c4g.11186623.help-menu-172543.d_0_1_0.4c6367558DN8Uq) 并安装 `langchain-lindorm-integration` 包。"
      ]
    },
    {
      "cell_type": "code",
      "execution_count": 2,
      "metadata": {
        "id": "y8ku6X96sebl"
      },
      "outputs": [],
      "source": "!pip install -U langchain-lindorm-integration"
    },
    {
      "metadata": {},
      "cell_type": "markdown",
      "source": [
        "## 嵌入\n\n要使用 Lindorm AI Service 中部署的嵌入模型，请导入 `LindormAIEmbeddings`。"
      ]
    },
    {
      "metadata": {},
      "cell_type": "code",
      "outputs": [],
      "execution_count": null,
      "source": "from langchain_lindorm_integration import LindormAIEmbeddings"
    },
    {
      "metadata": {},
      "cell_type": "markdown",
      "source": [
        "## Rerank\n\nLindorm AI 服务也支持重新排序。"
      ]
    },
    {
      "metadata": {},
      "cell_type": "code",
      "outputs": [],
      "execution_count": null,
      "source": "from langchain_lindorm_integration.reranker import LindormAIRerank"
    },
    {
      "metadata": {},
      "cell_type": "markdown",
      "source": [
        "## 向量存储\n\nLindorm 也支持向量存储。"
      ]
    },
    {
      "metadata": {},
      "cell_type": "code",
      "outputs": [],
      "execution_count": null,
      "source": "from langchain_lindorm_integration import LindormVectorStore"
    },
    {
      "metadata": {},
      "cell_type": "markdown",
      "source": [
        "## ByteStore\n\n使用 Lindorm 的 ByteStore"
      ]
    },
    {
      "metadata": {},
      "cell_type": "code",
      "outputs": [],
      "execution_count": null,
      "source": "from langchain_lindorm_integration import LindormByteStore"
    }
  ],
  "metadata": {
    "colab": {
      "provenance": []
    },
    "kernelspec": {
      "display_name": "Python 3 (ipykernel)",
      "language": "python",
      "name": "python3"
    },
    "language_info": {
      "codemirror_mode": {
        "name": "ipython",
        "version": 3
      },
      "file_extension": ".py",
      "mimetype": "text/x-python",
      "name": "python",
      "nbconvert_exporter": "python",
      "pygments_lexer": "ipython3",
      "version": "3.10.11"
    }
  },
  "nbformat": 4,
  "nbformat_minor": 1
}