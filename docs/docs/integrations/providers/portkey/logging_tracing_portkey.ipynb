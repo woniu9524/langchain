{
  "cells": [
    {
      "cell_type": "markdown",
      "metadata": {},
      "source": [
        "# 记录、追踪和监控\n\n在使用 Langchain 构建应用或代理时，您需要发出多个 API 调用来满足单个用户请求。但是，当您想分析这些请求时，它们并不是按顺序链接的。有了 [**Portkey**](/docs/integrations/providers/portkey/)，来自单个用户请求的所有 embeddings、completions 和其他请求都将被记录并追踪到共同的 ID，使您能够完全了解用户互动情况。\n\n本 Notebook 将逐步指导您如何在 Langchain 应用中使用 `Portkey` 来记录、追踪和监控 Langchain LLM 调用。"
      ]
    },
    {
      "cell_type": "markdown",
      "metadata": {},
      "source": [
        "首先，我们导入 Portkey、OpenAI 和 Agent 工具"
      ]
    },
    {
      "cell_type": "code",
      "execution_count": 1,
      "metadata": {},
      "outputs": [],
      "source": [
        "import os\n",
        "\n",
        "from langchain.agents import AgentExecutor, create_openai_tools_agent\n",
        "from langchain_openai import ChatOpenAI\n",
        "from portkey_ai import PORTKEY_GATEWAY_URL, createHeaders"
      ]
    },
    {
      "cell_type": "markdown",
      "metadata": {},
      "source": [
        "在此处粘贴您的 OpenAI API 密钥。[(您可以在此处找到它)](https://platform.openai.com/account/api-keys)"
      ]
    },
    {
      "cell_type": "code",
      "execution_count": 5,
      "metadata": {},
      "outputs": [],
      "source": [
        "os.environ[\"OPENAI_API_KEY\"] = \"...\""
      ]
    },
    {
      "cell_type": "markdown",
      "metadata": {},
      "source": [
        "## 获取 Portkey API 密钥\n\n1. 在此处注册 [Portkey](https://app.portkey.ai/signup)\n2. 在您的 [仪表板](https://app.portkey.ai/) 上，点击左下角的个人资料图标，然后点击“复制 API 密钥”\n3. 粘贴在下方"
      ]
    },
    {
      "cell_type": "code",
      "execution_count": 4,
      "metadata": {},
      "outputs": [],
      "source": [
        "PORTKEY_API_KEY = \"...\"  # Paste your Portkey API Key here"
      ]
    },
    {
      "cell_type": "markdown",
      "metadata": {},
      "source": [
        "## 设置 Trace ID\n1. 在下方设置您请求的 Trace ID\n2. Trace ID 可供源自单个请求的所有 API 调用共用"
      ]
    },
    {
      "cell_type": "code",
      "execution_count": 6,
      "metadata": {},
      "outputs": [],
      "source": [
        "TRACE_ID = \"uuid-trace-id\"  # Set trace id here"
      ]
    },
    {
      "cell_type": "markdown",
      "metadata": {},
      "source": [
        "## 生成 Portkey 头\n\nThis page explains how to generate Portkey"
      ]
    },
    {
      "cell_type": "code",
      "execution_count": 10,
      "metadata": {},
      "outputs": [],
      "source": [
        "portkey_headers = createHeaders(\n",
        "    api_key=PORTKEY_API_KEY, provider=\"openai\", trace_id=TRACE_ID\n",
        ")"
      ]
    },
    {
      "cell_type": "markdown",
      "metadata": {},
      "source": [
        "定义提示词和要使用的工具"
      ]
    },
    {
      "cell_type": "code",
      "execution_count": 11,
      "metadata": {},
      "outputs": [],
      "source": [
        "from langchain import hub\n",
        "from langchain_core.tools import tool\n",
        "\n",
        "prompt = hub.pull(\"hwchase17/openai-tools-agent\")\n",
        "\n",
        "\n",
        "@tool\n",
        "def multiply(first_int: int, second_int: int) -> int:\n",
        "    \"\"\"Multiply two integers together.\"\"\"\n",
        "    return first_int * second_int\n",
        "\n",
        "\n",
        "@tool\n",
        "def exponentiate(base: int, exponent: int) -> int:\n",
        "    \"Exponentiate the base to the exponent power.\"\n",
        "    return base**exponent\n",
        "\n",
        "\n",
        "tools = [multiply, exponentiate]"
      ]
    },
    {
      "cell_type": "markdown",
      "metadata": {},
      "source": [
        "像往常一样运行您的代理。**唯一**的更改是，我们现在将在请求中**包含上述标头**。"
      ]
    },
    {
      "cell_type": "code",
      "execution_count": 12,
      "metadata": {},
      "outputs": [
        {
          "name": "stdout",
          "output_type": "stream",
          "text": [
            "\n",
            "\n",
            "\u001b[1m> Entering new AgentExecutor chain...\u001b[0m\n",
            "\u001b[32;1m\u001b[1;3m\n",
            "Invoking: `exponentiate` with `{'base': 3, 'exponent': 5}`\n",
            "\n",
            "\n",
            "\u001b[0m\u001b[33;1m\u001b[1;3m243\u001b[0m\u001b[32;1m\u001b[1;3m\n",
            "Invoking: `multiply` with `{'first_int': 243, 'second_int': 36}`\n",
            "\n",
            "\n",
            "\u001b[0m\u001b[36;1m\u001b[1;3m8748\u001b[0m\u001b[32;1m\u001b[1;3m\n",
            "Invoking: `exponentiate` with `{'base': 8748, 'exponent': 2}`\n",
            "\n",
            "\n",
            "\u001b[0m\u001b[33;1m\u001b[1;3m76527504\u001b[0m\u001b[32;1m\u001b[1;3mThe result of taking 3 to the fifth power, multiplying it by 36, and then squaring the result is 76,527,504.\u001b[0m\n",
            "\n",
            "\u001b[1m> Finished chain.\u001b[0m\n"
          ]
        },
        {
          "data": {
            "text/plain": [
              "{'input': 'Take 3 to the fifth power and multiply that by thirty six, then square the result',\n",
              " 'output': 'The result of taking 3 to the fifth power, multiplying it by 36, and then squaring the result is 76,527,504.'}"
            ]
          },
          "execution_count": 12,
          "metadata": {},
          "output_type": "execute_result"
        }
      ],
      "source": [
        "model = ChatOpenAI(\n",
        "    base_url=PORTKEY_GATEWAY_URL, default_headers=portkey_headers, temperature=0\n",
        ")\n",
        "\n",
        "# Construct the OpenAI Tools agent\n",
        "agent = create_openai_tools_agent(model, tools, prompt)\n",
        "\n",
        "# Create an agent executor by passing in the agent and tools\n",
        "agent_executor = AgentExecutor(agent=agent, tools=tools, verbose=True)\n",
        "\n",
        "agent_executor.invoke(\n",
        "    {\n",
        "        \"input\": \"Take 3 to the fifth power and multiply that by thirty six, then square the result\"\n",
        "    }\n",
        ")"
      ]
    },
    {
      "cell_type": "markdown",
      "metadata": {},
      "source": [
        "数据记录与追踪详解 - Portkey\n\n**数据记录 (Logging)**\n- 通过 Portkey 发送请求可确保所有请求默认都已记录。\n- 每个请求日志包含 `timestamp`（时间戳）、`model name`（模型名称）、`total cost`（总成本）、`request time`（请求时间）、`request json`（请求 JSON）、`response json`（响应 JSON）以及额外的 Portkey 功能。\n\n**[追踪 (Tracing)](https://portkey.ai/docs/product/observability-modern-monitoring-for-llms/traces)**\n- `Trace id` 会伴随每个请求传递，并可在 Portkey 控制板的日志中看到。\n- 您也可以为每个请求设置一个**独立的 `trace id`**。\n- 您还可以向 `trace id` 追加用户反馈。[更多信息请参见此链接](https://portkey.ai/docs/product/observability-modern-monitoring-for-llms/feedback)。\n\n对于上述请求，您将能够像这样查看完整的日志追踪信息：\n![View Langchain traces on Portkey](https://assets.portkey.ai/docs/agent_tracing.gif)"
      ]
    },
    {
      "cell_type": "markdown",
      "metadata": {},
      "source": [
        "## 高级 LLMOps 功能 - 缓存、标记、重试\n\n除了日志记录和跟踪，Portkey 还提供更多将生产级能力添加到现有工作流程的功能：\n\n**缓存**\n\n从缓存响应之前已服务的客户查询，而不是再次发送到 OpenAI。匹配完全相同的字符串或语义相似的字符串。缓存可以节省成本并降低 20 倍的延迟。[文档](https://portkey.ai/docs/product/ai-gateway-streamline-llm-integrations/cache-simple-and-semantic)\n\n**重试**\n\n自动重新处理任何不成功的 API 请求，最多 **`5`** 次。采用 **`指数退避`** 策略，拉开重试尝试的间隔，以防止网络过载。[文档](https://portkey.ai/docs/product/ai-gateway-streamline-llm-integrations)\n\n**标记**\n\n通过预定义的标记，详细跟踪和审计每次用户交互。[文档](https://portkey.ai/docs/product/observability-modern-monitoring-for-llms/metadata)"
      ]
    }
  ],
  "metadata": {
    "kernelspec": {
      "display_name": "Python 3 (ipykernel)",
      "language": "python",
      "name": "python3"
    },
    "language_info": {
      "codemirror_mode": {
        "name": "ipython",
        "version": 3
      },
      "file_extension": ".py",
      "mimetype": "text/x-python",
      "name": "python",
      "nbconvert_exporter": "python",
      "pygments_lexer": "ipython3",
      "version": "3.9.1"
    }
  },
  "nbformat": 4,
  "nbformat_minor": 4
}