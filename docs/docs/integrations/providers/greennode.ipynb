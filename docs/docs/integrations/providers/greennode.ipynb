{
  "cells": [
    {
      "cell_type": "markdown",
      "metadata": {},
      "source": [
        "# GreenNode\n\n>**GreenNode** 是一家全球性人工智能解决方案提供商，也是 **NVIDIA 首选合作伙伴**，为美国、中东及北非（MENA）以及亚太（APAC）地区的各类企业提供从基础设施到应用的端到端人工智能能力。\n>凭借获得 LEED 金级认证、TIA‑942 和 Uptime Tier III 等级认证的**世界级基础设施**，**GreenNode** 通过一系列全面的人工智能服务赋能企业、初创公司和研究人员：\n>- [强大的 AI 基础设施：](https://greennode.ai/) 作为亚太地区首批大规模人工智能集群之一，GreenNode 的基础设施由 NVIDIA H100 GPU 提供支持，专为高吞吐量的机器学习和深度学习工作负载进行了优化。\n>- [GreenNode AI 平台：](https://greennode.ai/product/ai-platform) GreenNode 的自助式 AI 平台专为技术团队而设计，可快速部署 Jupyter notebook 环境，并预配置了优化的计算实例。在此门户网站上，开发人员只需极少的设置时间即可启动机器学习训练、微调、超参数优化和推理工作流。该平台还提供了 100 多个精选的开源模型访问权限，并支持与常见的 MLOps 工具和存储框架进行集成。\n>- [GreenNode Serverless AI：](https://greennode.ai/product/model-as-a-service) GreenNode Serverless AI 提供了一个涵盖文本生成、代码生成、文本转语音、语音转文本、嵌入和重新排序模型等领域的预训练生产就绪模型库。此服务非常适合希望快速原型设计或部署人工智能解决方案而无需管理模型基础设施的团队。\n>- [AI 应用：](https://vngcloud.vn/en/solution) 从智能数据管理和文档处理 (IDP) 到智能视频分析，GreenNode 支持大规模的实际人工智能用例。\n>无论您是在构建下一个大型语言模型工作流、扩展人工智能研究还是部署企业级应用程序，**GreenNode** 都能提供工具和基础设施来加速您的旅程。\n\n## 安装和设置\n\n可以通过 pip 安装 GreenNode 集成："
      ]
    },
    {
      "cell_type": "code",
      "execution_count": 5,
      "metadata": {},
      "outputs": [
        {
          "name": "stdout",
          "output_type": "stream",
          "text": [
            "Note: you may need to restart the kernel to use updated packages.\n"
          ]
        }
      ],
      "source": [
        "%pip install -qU langchain-greennode"
      ]
    },
    {
      "cell_type": "markdown",
      "metadata": {},
      "source": [
        "### API 密钥\n\n要使用 GreenNode Serverless AI，您需要一个 API 密钥，您可以在 [GreenNode Serverless AI](https://aiplatform.console.greennode.ai/api-keys) 获取。API 密钥可以作为初始化参数 `api_key` 传递，或者设置为环境变量 `GREENNODE_API_KEY`。"
      ]
    },
    {
      "cell_type": "code",
      "execution_count": 1,
      "metadata": {},
      "outputs": [],
      "source": [
        "import getpass\n",
        "import os\n",
        "\n",
        "if not os.getenv(\"GREENNODE_API_KEY\"):\n",
        "    os.environ[\"GREENNODE_API_KEY\"] = getpass.getpass(\"Enter your GreenNode API key: \")"
      ]
    },
    {
      "cell_type": "markdown",
      "metadata": {},
      "source": [
        "## 聊天模型"
      ]
    },
    {
      "cell_type": "code",
      "execution_count": null,
      "metadata": {},
      "outputs": [],
      "source": [
        "from langchain_greennode import ChatGreenNode\n",
        "\n",
        "chat = ChatGreenNode(\n",
        "    model=\"deepseek-ai/DeepSeek-R1-Distill-Qwen-32B\",  # Choose from available models\n",
        "    temperature=0.6,\n",
        "    top_p=0.95,\n",
        ")"
      ]
    },
    {
      "cell_type": "markdown",
      "metadata": {},
      "source": [
        "GreenNode [Chat Model](https://python.langchain.com/docs/integrations/chat/greennode/) 的用法"
      ]
    },
    {
      "cell_type": "markdown",
      "metadata": {},
      "source": [
        "## 嵌入式模型"
      ]
    },
    {
      "cell_type": "code",
      "execution_count": 3,
      "metadata": {},
      "outputs": [],
      "source": [
        "from langchain_greennode import GreenNodeEmbeddings\n",
        "\n",
        "# Initialize embeddings\n",
        "embeddings = GreenNodeEmbeddings(\n",
        "    model=\"BAAI/bge-m3\"  # Choose from available models\n",
        ")"
      ]
    },
    {
      "cell_type": "markdown",
      "metadata": {},
      "source": [
        "GreenNode [嵌入模型](https://python.langchain.com/docs/integrations/text_embedding/greennode) 的用法"
      ]
    },
    {
      "cell_type": "markdown",
      "metadata": {},
      "source": [
        "## 重新排序"
      ]
    },
    {
      "cell_type": "code",
      "execution_count": null,
      "metadata": {},
      "outputs": [],
      "source": [
        "from langchain_greennode import GreenNodeRerank\n",
        "\n",
        "# Initialize reranker\n",
        "rerank = GreenNodeRerank(\n",
        "    model=\"BAAI/bge-reranker-v2-m3\",  # Choose from available models\n",
        "    top_n=-1,\n",
        ")"
      ]
    },
    {
      "cell_type": "markdown",
      "metadata": {},
      "source": [
        "GreenNode [Rerank Model](https://python.langchain.com/docs/integrations/retrievers/greennode-reranker) 的用法"
      ]
    }
  ],
  "metadata": {
    "colab": {
      "provenance": []
    },
    "kernelspec": {
      "display_name": "tradingagents",
      "language": "python",
      "name": "python3"
    },
    "language_info": {
      "codemirror_mode": {
        "name": "ipython",
        "version": 3
      },
      "file_extension": ".py",
      "mimetype": "text/x-python",
      "name": "python",
      "nbconvert_exporter": "python",
      "pygments_lexer": "ipython3",
      "version": "3.13.5"
    }
  },
  "nbformat": 4,
  "nbformat_minor": 1
}