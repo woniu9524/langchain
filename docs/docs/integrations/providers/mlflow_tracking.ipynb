{
  "cells": [
    {
      "cell_type": "markdown",
      "id": "5d184f91",
      "metadata": {},
      "source": [
        "# MLflow\n\n>[MLflow](https://mlflow.org/) 是一个多功能、开源的平台，用于管理机器学习和生成式 AI 生命周期中的工作流和构件（artifacts）。它内置了与许多流行的 AI 和 ML 库的集成，但也可与任何库、算法或部署工具配合使用。\n\nMLflow 的 [LangChain 集成](https://mlflow.org/docs/latest/llms/langchain/autologging.html)提供了以下功能：\n\n- **[追踪（Tracing）](https://mlflow.org/docs/latest/llms/langchain/autologging.html)**：只需一行代码 (`mlflow.langchain.autolog()`) 即可可视化 LangChain 组件中的数据流。\n- **[实验追踪（Experiment Tracking）](https://mlflow.org/docs/latest/llms/langchain/index.html#experiment-tracking)**：记录 LangChain 运行中的构件、代码和指标。\n- **[模型管理（Model Management）](https://mlflow.org/docs/latest/model-registry.html)**：对 LangChain 应用程序进行版本管理和部署，并进行依赖项追踪。\n- **[评估（Evaluation）](https://mlflow.org/docs/latest/llms/langchain/index.html#mlflow-evaluate)**：衡量 LangChain 应用程序的性能。\n\n**注意**：MLflow 追踪功能在 MLflow 2.14.0 及更高版本中可用。\n\n本简短指南将重点介绍 MLflow 对 LangChain 和 LangGraph 应用程序的追踪功能。您将了解如何通过一行代码启用追踪，并查看应用程序的执行流程。有关 MLflow 的其他功能以及探索更多教程的信息，请参阅 [MLflow LangChain 文档](https://mlflow.org/docs/latest/llms/langchain/index.html)。如果您是 MLflow 新手，请查看 [MLflow 入门指南](https://mlflow.org/docs/latest/getting-started/index.html)。"
      ]
    },
    {
      "cell_type": "markdown",
      "id": "da942c89",
      "metadata": {},
      "source": [
        "## 设置\n\n要开始使用 LangChain 的 MLflow 追踪，请安装 MLflow Python 包。我们还将使用 `langchain-openai` 包。"
      ]
    },
    {
      "cell_type": "code",
      "execution_count": null,
      "id": "42406548",
      "metadata": {},
      "outputs": [],
      "source": [
        "%pip install mlflow langchain-openai langgraph -qU"
      ]
    },
    {
      "cell_type": "markdown",
      "id": "8e626bb4",
      "metadata": {},
      "source": [
        "接下来，设置 MLflow tracking URI 和 OpenAI API 密钥。"
      ]
    },
    {
      "cell_type": "code",
      "execution_count": 4,
      "id": "7e87b21d",
      "metadata": {},
      "outputs": [],
      "source": [
        "import os\n",
        "\n",
        "# Set MLflow tracking URI if you have MLflow Tracking Server running\n",
        "os.environ[\"MLFLOW_TRACKING_URI\"] = \"\"\n",
        "os.environ[\"OPENAI_API_KEY\"] = \"\""
      ]
    },
    {
      "cell_type": "markdown",
      "id": "7bc78387",
      "metadata": {},
      "source": [
        "## MLflow Tracing\n\nMLflow 的 tracing 功能可以帮助您可视化 LangChain 应用程序的执行流程。以下是启用它的方法。"
      ]
    },
    {
      "cell_type": "code",
      "execution_count": null,
      "id": "155d2a6f",
      "metadata": {},
      "outputs": [],
      "source": [
        "import mlflow\n",
        "\n",
        "# Optional: Set an experiment to organize your traces\n",
        "mlflow.set_experiment(\"LangChain MLflow Integration\")\n",
        "\n",
        "# Enable tracing\n",
        "mlflow.langchain.autolog()"
      ]
    },
    {
      "cell_type": "markdown",
      "id": "105a77e5",
      "metadata": {},
      "source": [
        "## 示例：追踪 LangChain 应用\n\n这是一个展示 MLflow 追踪与 LangChain 集成的完整示例："
      ]
    },
    {
      "cell_type": "code",
      "execution_count": 4,
      "id": "99cab27c",
      "metadata": {},
      "outputs": [],
      "source": [
        "import mlflow\n",
        "from langchain_core.output_parsers import StrOutputParser\n",
        "from langchain_core.prompts import ChatPromptTemplate\n",
        "from langchain_openai import ChatOpenAI\n",
        "\n",
        "# Enable MLflow tracing\n",
        "mlflow.langchain.autolog()\n",
        "\n",
        "# Create a simple chain\n",
        "llm = ChatOpenAI(model_name=\"gpt-4o\")\n",
        "\n",
        "prompt = ChatPromptTemplate.from_messages(\n",
        "    [\n",
        "        (\n",
        "            \"system\",\n",
        "            \"You are a helpful assistant that translates {input_language} to {output_language}.\",\n",
        "        ),\n",
        "        (\"human\", \"{input}\"),\n",
        "    ]\n",
        ")\n",
        "\n",
        "chain = prompt | llm | StrOutputParser()\n",
        "\n",
        "# Run the chain\n",
        "result = chain.invoke(\n",
        "    {\n",
        "        \"input_language\": \"English\",\n",
        "        \"output_language\": \"German\",\n",
        "        \"input\": \"I love programming.\",\n",
        "    }\n",
        ")"
      ]
    },
    {
      "cell_type": "markdown",
      "id": "6240cf2d",
      "metadata": {},
      "source": [
        "要在终端中运行 `mlflow ui` 来查看跟踪信息，请在 MLflow UI 中导航到 Traces 选项卡。\n\n## 示例：跟踪 LangGraph 应用\n\nMLflow 还支持跟踪 LangGraph 应用："
      ]
    },
    {
      "cell_type": "code",
      "execution_count": 5,
      "id": "f703c505",
      "metadata": {},
      "outputs": [],
      "source": [
        "import mlflow\n",
        "from langchain_core.tools import tool\n",
        "from langgraph.prebuilt import create_react_agent\n",
        "\n",
        "# Enable MLflow tracing\n",
        "mlflow.langchain.autolog()\n",
        "\n",
        "\n",
        "# Define a tool\n",
        "@tool\n",
        "def count_words(text: str) -> str:\n",
        "    \"\"\"Counts the number of words in a text.\"\"\"\n",
        "    word_count = len(text.split())\n",
        "    return f\"This text contains {word_count} words.\"\n",
        "\n",
        "\n",
        "# Create a LangGraph agent\n",
        "llm = ChatOpenAI(model=\"gpt-4o\")\n",
        "tools = [count_words]\n",
        "graph = create_react_agent(llm, tools)\n",
        "\n",
        "# Run the agent\n",
        "result = graph.invoke(\n",
        "    {\"messages\": [{\"role\": \"user\", \"content\": \"Write me a 71-word story about a cat.\"}]}\n",
        ")"
      ]
    },
    {
      "cell_type": "markdown",
      "id": "19c2f3ff",
      "metadata": {},
      "source": [
        "要在本地找到日志文件，请在您的终端中运行 `mlflow ui` 命令，然后在 MLflow UI 的 Traces 选项卡中找到相应日志。"
      ]
    },
    {
      "cell_type": "markdown",
      "id": "48accc76",
      "metadata": {},
      "source": [
        "## 资源\n\n有关将 MLflow 与 LangChain n 使用的信息，请访问：\n\n- [MLflow LangChain 集成文档](https://mlflow.org/docs/latest/llms/langchain/index.html)\n- [MLflow Tracing 文档](https://mlflow.org/docs/latest/llms/tracing/index.html)\n- [记录 LangChain 和 LangGraph 模型](https://mlflow.org/docs/latest/llms/langchain/index.html#logging-models-from-code)\n- [评估 LangChain 和 LangGraph 模型](https://mlflow.org/docs/latest/llms/langchain/index.html#how-can-i-evaluate-a-langgraph-agent)"
      ]
    }
  ],
  "metadata": {
    "colab": {
      "provenance": []
    },
    "kernelspec": {
      "display_name": ".venv",
      "language": "python",
      "name": "python3"
    },
    "language_info": {
      "codemirror_mode": {
        "name": "ipython",
        "version": 3
      },
      "file_extension": ".py",
      "mimetype": "text/x-python",
      "name": "python",
      "nbconvert_exporter": "python",
      "pygments_lexer": "ipython3",
      "version": "3.12.9"
    }
  },
  "nbformat": 4,
  "nbformat_minor": 5
}