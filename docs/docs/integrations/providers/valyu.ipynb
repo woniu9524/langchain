{
  "cells": [
    {
      "cell_type": "markdown",
      "metadata": {},
      "source": [
        "# Valyu 深度搜索\n>[Valyu](https://www.valyu.network/) 允许 AI 应用程序和代理搜索互联网和专有数据源以获取相关的 LLM 就绪信息。\n\n本笔记本将介绍如何在 LangChain 中使用 Valyu。\n\n首先，获取 Valyu API 密钥并将其添加为环境变量。通过[在此处注册](https://platform.valyu.network/)可获得 10 美元的免费积分。\n\n## 设置\n\n集成位于 `langchain-valyu` 包中。"
      ]
    },
    {
      "cell_type": "code",
      "execution_count": null,
      "metadata": {},
      "outputs": [],
      "source": [
        "%pip install -qU langchain-valyu"
      ]
    },
    {
      "cell_type": "markdown",
      "metadata": {},
      "source": [
        "为了使用该包，您还需要将 `VALYU_API_KEY` 环境变量设置为您的 Valyu API 密钥。\n\n## Context Retriever\n\n您可以在标准的检索管道中使用 [`ValyuContextRetriever`](https://pypi.org/project/langchain-valyu/)。"
      ]
    },
    {
      "cell_type": "code",
      "execution_count": null,
      "metadata": {},
      "outputs": [],
      "source": [
        "from langchain_valyu import ValyuRetriever\n",
        "\n",
        "valyu_api_key = \"YOUR API KEY\"\n",
        "\n",
        "# Create a new instance of the ValyuRetriever\n",
        "valyu_retriever = ValyuRetriever(\n",
        "    k=5,\n",
        "    search_type=\"all\",\n",
        "    relevance_threshold=0.5,\n",
        "    max_price=20.0,\n",
        "    start_date=\"2024-01-01\",\n",
        "    end_date=\"2024-12-31\",\n",
        "    valyu_api_key=valyu_api_key,\n",
        ")\n",
        "\n",
        "# Search for a query and save the results\n",
        "docs = valyu_retriever.invoke(\"What are the benefits of renewable energy?\")\n",
        "\n",
        "# Print the results\n",
        "for doc in docs:\n",
        "    print(doc.page_content)\n",
        "    print(doc.metadata)"
      ]
    },
    {
      "cell_type": "markdown",
      "metadata": {},
      "source": [
        "## 上下文搜索工具\n\n您可以使用 `ValyuSearchTool` 来执行高级搜索查询。"
      ]
    },
    {
      "cell_type": "code",
      "execution_count": null,
      "metadata": {},
      "outputs": [],
      "source": [
        "from langchain_valyu import ValyuSearchTool\n",
        "\n",
        "# Initialize the ValyuSearchTool\n",
        "search_tool = ValyuSearchTool(valyu_api_key=\"YOUR API KEY\")\n",
        "\n",
        "# Perform a search query\n",
        "search_results = search_tool._run(\n",
        "    query=\"What are agentic search-enhanced large reasoning models?\",\n",
        "    search_type=\"all\",\n",
        "    max_num_results=5,\n",
        "    relevance_threshold=0.5,\n",
        "    max_price=20.0,\n",
        "    start_date=\"2024-01-01\",\n",
        "    end_date=\"2024-12-31\",\n",
        ")\n",
        "\n",
        "print(\"Search Results:\", search_results)"
      ]
    }
  ],
  "metadata": {
    "language_info": {
      "name": "python"
    }
  },
  "nbformat": 4,
  "nbformat_minor": 2
}