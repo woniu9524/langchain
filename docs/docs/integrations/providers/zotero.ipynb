{
  "cells": [
    {
      "cell_type": "markdown",
      "metadata": {},
      "source": [
        "# Zotero\n\n[Zotero](https://www.zotero.org/) 是一个开源的参考文献管理系统，用于管理书目数据和相关的研究材料。您可以通过[API](https://www.zotero.org/support/dev/web_api/v3/start) 连接到您的个人图书馆以及共享的群组图书馆。此检索器实现利用 [PyZotero](https://github.com/urschrei/pyzotero) 来访问图书馆。\n\n\n## 安装\n\n```bash\npip install pyzotero\n```\n\n## Retriever\n\n请参阅[使用示例](/docs/integrations/retrievers/zotero)。\n\n```python\nfrom langchain_zotero_retriever.retrievers import ZoteroRetriever\n```"
      ]
    }
  ],
  "metadata": {
    "language_info": {
      "name": "python"
    }
  },
  "nbformat": 4,
  "nbformat_minor": 2
}