{
  "cells": [
    {
      "cell_type": "markdown",
      "id": "d19521dc",
      "metadata": {},
      "source": [
        "# RAGatouille\n\n>[RAGatouille](https://github.com/bclavie/RAGatouille) 使使用 `ColBERT` 变得极其简单！[ColBERT](https://github.com/stanford-futuredata/ColBERT) 是一个快速且准确的检索模型，能够在数十毫秒内对大型文本集合进行基于 BERT 的可扩展搜索。\n\n请参阅 [ColBERTv2: Effective and Efficient Retrieval via Lightweight Late Interaction](https://arxiv.org/abs/2112.01488) 论文。\n\n我们可以通过多种方式使用 RAGatouille。\n\n## 设置\n\n集成位于 `ragatouille` 包中。\n\n```bash\npip install -U ragatouille\n```"
      ]
    },
    {
      "cell_type": "code",
      "execution_count": 2,
      "id": "00de63d0",
      "metadata": {},
      "outputs": [
        {
          "name": "stdout",
          "output_type": "stream",
          "text": [
            "[Jan 10, 10:53:28] Loading segmented_maxsim_cpp extension (set COLBERT_LOAD_TORCH_EXTENSION_VERBOSE=True for more info)...\n"
          ]
        },
        {
          "name": "stderr",
          "output_type": "stream",
          "text": [
            "/Users/harrisonchase/.pyenv/versions/3.10.1/envs/langchain/lib/python3.10/site-packages/torch/cuda/amp/grad_scaler.py:125: UserWarning: torch.cuda.amp.GradScaler is enabled, but CUDA is not available.  Disabling.\n",
            "  warnings.warn(\n"
          ]
        }
      ],
      "source": [
        "from ragatouille import RAGPretrainedModel\n",
        "\n",
        "RAG = RAGPretrainedModel.from_pretrained(\"colbert-ir/colbertv2.0\")"
      ]
    },
    {
      "cell_type": "markdown",
      "id": "59d069ef",
      "metadata": {},
      "source": [
        "## 检索器\n\n我们可以使用 RAGatouille 作为检索器。有关此内容的更多信息，请参阅 [RAGatouille 检索器](/docs/integrations/retrievers/ragatouille)"
      ]
    },
    {
      "cell_type": "markdown",
      "id": "6407e18e",
      "metadata": {},
      "source": [
        "## 文档压缩器\n\n我们也可以直接将 RAGatouille 用作重排器。这将允许我们使用 ColBERT 来重排任何通用检索器的检索结果。这样做的好处是我们可以将其应用于任何现有的索引之上，而无需创建新的索引。我们可以通过 LangChain 中的 [文档压缩器](/docs/how_to/contextual_compression) 抽象来实现这一点。"
      ]
    },
    {
      "cell_type": "markdown",
      "id": "16d16022",
      "metadata": {},
      "source": [
        "## 设置 Vanilla Retriever\n\n首先，我们设置一个 vanilla retriever 作为示例。"
      ]
    },
    {
      "cell_type": "code",
      "execution_count": 15,
      "id": "6ee6af64",
      "metadata": {},
      "outputs": [],
      "source": [
        "import requests\n",
        "from langchain_community.vectorstores import FAISS\n",
        "from langchain_openai import OpenAIEmbeddings\n",
        "from langchain_text_splitters import RecursiveCharacterTextSplitter\n",
        "\n",
        "\n",
        "def get_wikipedia_page(title: str):\n",
        "    \"\"\"\n",
        "    Retrieve the full text content of a Wikipedia page.\n",
        "\n",
        "    :param title: str - Title of the Wikipedia page.\n",
        "    :return: str - Full text content of the page as raw string.\n",
        "    \"\"\"\n",
        "    # Wikipedia API endpoint\n",
        "    URL = \"https://en.wikipedia.org/w/api.php\"\n",
        "\n",
        "    # Parameters for the API request\n",
        "    params = {\n",
        "        \"action\": \"query\",\n",
        "        \"format\": \"json\",\n",
        "        \"titles\": title,\n",
        "        \"prop\": \"extracts\",\n",
        "        \"explaintext\": True,\n",
        "    }\n",
        "\n",
        "    # Custom User-Agent header to comply with Wikipedia's best practices\n",
        "    headers = {\"User-Agent\": \"RAGatouille_tutorial/0.0.1 (ben@clavie.eu)\"}\n",
        "\n",
        "    response = requests.get(URL, params=params, headers=headers)\n",
        "    data = response.json()\n",
        "\n",
        "    # Extracting page content\n",
        "    page = next(iter(data[\"query\"][\"pages\"].values()))\n",
        "    return page[\"extract\"] if \"extract\" in page else None\n",
        "\n",
        "\n",
        "text = get_wikipedia_page(\"Hayao_Miyazaki\")\n",
        "text_splitter = RecursiveCharacterTextSplitter(chunk_size=500, chunk_overlap=0)\n",
        "texts = text_splitter.create_documents([text])"
      ]
    },
    {
      "cell_type": "code",
      "execution_count": 16,
      "id": "22b9dbf7",
      "metadata": {},
      "outputs": [],
      "source": [
        "retriever = FAISS.from_documents(texts, OpenAIEmbeddings()).as_retriever(\n",
        "    search_kwargs={\"k\": 10}\n",
        ")"
      ]
    },
    {
      "cell_type": "code",
      "execution_count": 17,
      "id": "50f54a7d",
      "metadata": {},
      "outputs": [
        {
          "data": {
            "text/plain": [
              "Document(page_content='collaborative projects. In April 1984, Miyazaki opened his own office in Suginami Ward, naming it Nibariki.')"
            ]
          },
          "execution_count": 17,
          "metadata": {},
          "output_type": "execute_result"
        }
      ],
      "source": [
        "docs = retriever.invoke(\"What animation studio did Miyazaki found\")\n",
        "docs[0]"
      ]
    },
    {
      "cell_type": "markdown",
      "id": "ef72bb50",
      "metadata": {},
      "source": [
        "我们可以看到，结果与所提出的问题关系不大"
      ]
    },
    {
      "cell_type": "markdown",
      "id": "6c09c803",
      "metadata": {},
      "source": [
        "## 将 ColBERT 用作重排模型"
      ]
    },
    {
      "cell_type": "code",
      "execution_count": 18,
      "id": "9653b742",
      "metadata": {},
      "outputs": [
        {
          "name": "stderr",
          "output_type": "stream",
          "text": [
            "/Users/harrisonchase/.pyenv/versions/3.10.1/envs/langchain/lib/python3.10/site-packages/torch/amp/autocast_mode.py:250: UserWarning: User provided device_type of 'cuda', but CUDA is not available. Disabling\n",
            "  warnings.warn(\n"
          ]
        }
      ],
      "source": [
        "from langchain.retrievers import ContextualCompressionRetriever\n",
        "\n",
        "compression_retriever = ContextualCompressionRetriever(\n",
        "    base_compressor=RAG.as_langchain_document_compressor(), base_retriever=retriever\n",
        ")\n",
        "\n",
        "compressed_docs = compression_retriever.invoke(\n",
        "    \"What animation studio did Miyazaki found\"\n",
        ")"
      ]
    },
    {
      "cell_type": "code",
      "execution_count": 19,
      "id": "35aaceee",
      "metadata": {},
      "outputs": [
        {
          "data": {
            "text/plain": [
              "Document(page_content='In June 1985, Miyazaki, Takahata, Tokuma and Suzuki founded the animation production company Studio Ghibli, with funding from Tokuma Shoten. Studio Ghibli\\'s first film, Laputa: Castle in the Sky (1986), employed the same production crew of Nausicaä. Miyazaki\\'s designs for the film\\'s setting were inspired by Greek architecture and \"European urbanistic templates\". Some of the architecture in the film was also inspired by a Welsh mining town; Miyazaki witnessed the mining strike upon his first', metadata={'relevance_score': 26.5194149017334})"
            ]
          },
          "execution_count": 19,
          "metadata": {},
          "output_type": "execute_result"
        }
      ],
      "source": [
        "compressed_docs[0]"
      ]
    },
    {
      "cell_type": "markdown",
      "id": "6c2bbefc",
      "metadata": {},
      "source": [
        "这个答案相关性更强！"
      ]
    },
    {
      "cell_type": "code",
      "execution_count": null,
      "id": "3746b734",
      "metadata": {},
      "outputs": [],
      "source": []
    }
  ],
  "metadata": {
    "kernelspec": {
      "display_name": "Python 3 (ipykernel)",
      "language": "python",
      "name": "python3"
    },
    "language_info": {
      "codemirror_mode": {
        "name": "ipython",
        "version": 3
      },
      "file_extension": ".py",
      "mimetype": "text/x-python",
      "name": "python",
      "nbconvert_exporter": "python",
      "pygments_lexer": "ipython3",
      "version": "3.10.12"
    }
  },
  "nbformat": 4,
  "nbformat_minor": 5
}