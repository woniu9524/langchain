{
  "cells": [
    {
      "cell_type": "markdown",
      "metadata": {},
      "source": [
        "# FalkorDB\n\n>什么是 `FalkorDB`？\n\n>- FalkorDB 是一个 `开源数据库管理系统`，专注于图数据库技术。\n>- FalkorDB 允许你使用节点（nodes）和边（edges）来表示和存储数据，非常适合处理互联数据和关系。\n>- FalkorDB 支持 OpenCypher 查询语言及专有扩展，让你轻松地与图数据交互和查询。\n>- 使用 FalkorDB，你可以实现高性能的 `图遍历和查询`，适用于生产级系统。\n\n>访问 [他们的网站](https://docs.falkordb.com/) 开始使用 FalkorDB。"
      ]
    },
    {
      "cell_type": "markdown",
      "metadata": {},
      "source": [
        "## 安装与设置\n\n- 使用 `pip install falkordb langchain-falkordb` 安装 Python SDK"
      ]
    },
    {
      "cell_type": "markdown",
      "metadata": {},
      "source": [
        "## FalkorDB 向量存储\n\nFalkorDB 向量索引被用作向量存储，无论是在语义搜索还是示例选择方面。\n\n```python\nfrom langchain_community.vectorstores.falkordb_vector import FalkorDBVector\n```\n或者\n\n```python\nfrom langchain_falkordb.vectorstore import FalkorDBVector\n```\n\n请参阅[使用示例](/docs/integrations/vectorstores/falkordbvector.ipynb)"
      ]
    },
    {
      "cell_type": "markdown",
      "metadata": {},
      "source": [
        "## Memory\n\n请参阅 [用法示例](/docs/integrations/memory/falkordb_chat_message_history.ipynb)。\n\n```python\nfrom langchain_falkordb.message_history import (\n    FalkorDBChatMessageHistory,\n)\n```"
      ]
    }
  ],
  "metadata": {
    "language_info": {
      "name": "python"
    }
  },
  "nbformat": 4,
  "nbformat_minor": 2
}