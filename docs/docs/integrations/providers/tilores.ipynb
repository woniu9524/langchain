{
  "cells": [
    {
      "cell_type": "markdown",
      "metadata": {},
      "source": [
        "# Tilores\n\n[Tilores](https://tilores.io) 是一个提供高级实体解析解决方案的数据集成与管理平台。Tilores 利用尖端算法、机器学习和用户友好的界面，帮助组织匹配、解析和整合来自不同来源的数据，确保提供高质量、一致的信息。"
      ]
    },
    {
      "cell_type": "markdown",
      "metadata": {},
      "source": [
        "## 安装与设置"
      ]
    },
    {
      "cell_type": "code",
      "execution_count": null,
      "metadata": {
        "id": "y8ku6X96sebl"
      },
      "outputs": [],
      "source": [
        "%pip install --upgrade tilores-langchain"
      ]
    },
    {
      "cell_type": "markdown",
      "metadata": {},
      "source": [
        "要访问 Tilores，您需要[创建并配置一个实例](https://app.tilores.io)。如果您想先试用 Tilores，可以使用[只读演示凭证](https://github.com/tilotech/identity-rag-customer-insights-chatbot?tab=readme-ov-file#1-configure-customer-data-access)。"
      ]
    },
    {
      "cell_type": "code",
      "execution_count": 11,
      "metadata": {},
      "outputs": [],
      "source": [
        "import os\n",
        "\n",
        "from tilores import TiloresAPI\n",
        "\n",
        "os.environ[\"TILORES_API_URL\"] = \"<api-url>\"\n",
        "os.environ[\"TILORES_TOKEN_URL\"] = \"<token-url>\"\n",
        "os.environ[\"TILORES_CLIENT_ID\"] = \"<client-id>\"\n",
        "os.environ[\"TILORES_CLIENT_SECRET\"] = \"<client-secret>\"\n",
        "\n",
        "tilores = TiloresAPI.from_environ()"
      ]
    },
    {
      "cell_type": "markdown",
      "metadata": {},
      "source": [
        "请参考 [Tilores 文档](https://docs.tilores.io/tilores/publicsaaswalkthrough/)，了解如何创建您自己的实例。"
      ]
    },
    {
      "cell_type": "markdown",
      "metadata": {},
      "source": [
        "## 工具包\n\n您可以使用 [`TiloresTools`](/docs/integrations/tools/tilores) 从 Tilores 查询数据："
      ]
    },
    {
      "cell_type": "code",
      "execution_count": null,
      "metadata": {},
      "outputs": [],
      "source": [
        "from tilores_langchain import TiloresTools"
      ]
    }
  ],
  "metadata": {
    "colab": {
      "provenance": []
    },
    "kernelspec": {
      "display_name": "langchain",
      "language": "python",
      "name": "python3"
    },
    "language_info": {
      "codemirror_mode": {
        "name": "ipython",
        "version": 3
      },
      "file_extension": ".py",
      "mimetype": "text/x-python",
      "name": "python",
      "nbconvert_exporter": "python",
      "pygments_lexer": "ipython3",
      "version": "3.12.8"
    }
  },
  "nbformat": 4,
  "nbformat_minor": 1
}