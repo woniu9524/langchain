{
  "cells": [
    {
      "cell_type": "markdown",
      "metadata": {
        "vscode": {
          "languageId": "raw"
        }
      },
      "source": [
        "---\nsidebar_label: OpenGradient\n---"
      ]
    },
    {
      "cell_type": "markdown",
      "metadata": {},
      "source": [
        "# OpenGradient\n[OpenGradient](https://www.opengradient.ai/) 是一个去中心化的 AI 计算网络，可实现全球可访问、无需许可且可验证的机器学习模型推理。\n\nOpenGradient langchain 包目前提供了一个工具包，允许开发人员为 OpenGradient 网络上的模型构建自己的自定义机器学习推理工具。以前，这之所以是一个挑战，是因为大型模型参数会污染上下文窗口——想象一下必须为你的代理提供一个 200x200 的浮点数据数组！\n\n该工具包通过将所有数据处理逻辑封装在工具定义本身来解决此问题。这种方法可以保持代理的上下文窗口干净，同时使开发人员能够完全灵活地为他们的机器学习模型实现自定义数据处理和实时数据检索。"
      ]
    },
    {
      "cell_type": "markdown",
      "metadata": {},
      "source": [
        "## 安装和设置\n为了访问 OpenGradient 网络，请确保您拥有 OpenGradient API 密钥。如果您已经有 API 密钥，只需设置环境变量："
      ]
    },
    {
      "cell_type": "code",
      "execution_count": null,
      "metadata": {
        "vscode": {
          "languageId": "shellscript"
        }
      },
      "outputs": [],
      "source": [
        "!export OPENGRADIENT_PRIVATE_KEY=\"your-api-key\""
      ]
    },
    {
      "cell_type": "markdown",
      "metadata": {},
      "source": [
        "如果你需要设置新的 API 密钥，请下载 opengradient SDK 并按照说明初始化新的配置。"
      ]
    },
    {
      "cell_type": "code",
      "execution_count": null,
      "metadata": {
        "vscode": {
          "languageId": "shellscript"
        }
      },
      "outputs": [],
      "source": [
        "!pip install opengradient\n",
        "!opengradient config init"
      ]
    },
    {
      "cell_type": "markdown",
      "metadata": {},
      "source": [
        "设置好 API 密钥后，安装 langchain-opengradient 包。"
      ]
    },
    {
      "cell_type": "code",
      "execution_count": null,
      "metadata": {
        "vscode": {
          "languageId": "powershell"
        }
      },
      "outputs": [],
      "source": [
        "pip install -U langchain-opengradient"
      ]
    },
    {
      "cell_type": "markdown",
      "metadata": {},
      "source": [
        "## OpenGradient 工具包\nOpenGradient 工具包赋能开发者基于部署在 OpenGradient 去中心化网络上的 [ML 模型](https://hub.opengradient.ai/models)和[工作流](https://docs.opengradient.ai/developers/sdk/ml_workflows.html)来创建专用工具。这种集成使 LangChain 代理能够访问强大的 ML 功能，同时保持高效的上下文使用。\n\n### 主要优势\n* 🔄 实时数据集成 - 在工具中处理实时数据流\n\n* 🎯 动态处理 - 自定义数据管道以适应特定的代理输入\n\n* 🧠 上下文效率 - 处理复杂的 ML 操作，而不会淹没你的上下文窗口\n\n* 🔌 无缝部署 - 可轻松集成 OpenGradient 网络上已有的模型\n\n* 🔧 完全自定义 - 通过 [OpenGradient SDK](https://docs.opengradient.ai/developers/sdk/model_management.html) 创建和部署你自己的特定模型，然后基于它们构建自定义工具\n\n*  সুরক্ষা 可验证推理 - 所有推理都在 OpenGradient 去中心化网络上运行，允许用户选择各种安全模式，如 ZKML 和 TEE，以实现无信任、可验证的模型执行\n\n有关详细示例和实现指南，请查看我们的[综合教程](/docs/integrations/tools/opengradient_toolkit.ipynb)。"
      ]
    }
  ],
  "metadata": {
    "colab": {
      "provenance": []
    },
    "kernelspec": {
      "display_name": "Python 3 (ipykernel)",
      "language": "python",
      "name": "python3"
    },
    "language_info": {
      "codemirror_mode": {
        "name": "ipython",
        "version": 3
      },
      "file_extension": ".py",
      "mimetype": "text/x-python",
      "name": "python",
      "nbconvert_exporter": "python",
      "pygments_lexer": "ipython3",
      "version": "3.10.11"
    }
  },
  "nbformat": 4,
  "nbformat_minor": 1
}