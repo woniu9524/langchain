{
  "cells": [
    {
      "cell_type": "markdown",
      "metadata": {},
      "source": [
        "# Amazon Neptune with Cypher\n\n>[Amazon Neptune](https://aws.amazon.com/neptune/) 是一款高性能图分析和无服务器数据库，具有卓越的可伸缩性和可用性。\n>\n>本示例展示了使用 `openCypher` 查询 `Neptune` 图数据库并返回人类可读响应的 QA 链。\n>\n>[Cypher](https://en.wikipedia.org/wiki/Cypher_(query_language)) 是一种声明式图查询语言，允许在属性图中进行富有表现力和高效的数据查询。\n>\n>[openCypher](https://opencypher.org/) 是 Cypher 的开源实现。# Neptune Open Cypher QA Chain\n此 QA 链使用 openCypher 查询 Amazon Neptune 并返回人类可读的响应。\n\nLangChain 支持使用 `create_neptune_opencypher_qa_chain` 来支持 [Neptune Database](https://docs.aws.amazon.com/neptune/latest/userguide/intro.html) 和 [Neptune Analytics](https://docs.aws.amazon.com/neptune-analytics/latest/userguide/what-is-neptune-analytics.html)。\n\nNeptune Database 是一款无服务器图数据库，旨在实现最佳的可伸缩性和可用性。它为需要扩展到每秒 100,000 次查询、多可用区高可用性和多区域部署的图数据库工作负载提供解决方案。您可以使用 Neptune Database 来构建社交网络、欺诈预警和客户画像 360 应用程序。\n\nNeptune Analytics 是一款分析数据库引擎，可以快速分析内存中的大量图数据，以获得洞察和发现趋势。Neptune Analytics 为快速分析现有图数据库或存储在数据湖中的图数据集提供解决方案。它使用流行的图分析算法和低延迟分析查询。\n\n## 使用 Neptune Database"
      ]
    },
    {
      "cell_type": "code",
      "execution_count": null,
      "metadata": {},
      "outputs": [],
      "source": [
        "from langchain_aws.graphs import NeptuneGraph\n",
        "\n",
        "host = \"<neptune-host>\"\n",
        "port = 8182\n",
        "use_https = True\n",
        "\n",
        "graph = NeptuneGraph(host=host, port=port, use_https=use_https)"
      ]
    },
    {
      "cell_type": "markdown",
      "metadata": {},
      "source": [
        "### 使用 Neptune Analytics"
      ]
    },
    {
      "cell_type": "code",
      "execution_count": null,
      "metadata": {},
      "outputs": [],
      "source": [
        "from langchain_aws.graphs import NeptuneAnalyticsGraph\n",
        "\n",
        "graph = NeptuneAnalyticsGraph(graph_identifier=\"<neptune-analytics-graph-id>\")"
      ]
    },
    {
      "cell_type": "markdown",
      "metadata": {},
      "source": [
        "## 使用 Neptune openCypher QA 链\n\n该 QA 链使用 openCypher 查询 Neptune 图数据库，并返回人类可读的响应。"
      ]
    },
    {
      "cell_type": "code",
      "execution_count": 12,
      "metadata": {},
      "outputs": [
        {
          "name": "stdout",
          "output_type": "stream",
          "text": [
            "Austin airport has 98 outgoing routes.\n"
          ]
        }
      ],
      "source": [
        "from langchain_aws import ChatBedrockConverse\n",
        "from langchain_aws.chains import create_neptune_opencypher_qa_chain\n",
        "\n",
        "MODEL_ID = \"anthropic.claude-3-5-sonnet-20241022-v2:0\"\n",
        "llm = ChatBedrockConverse(\n",
        "    model=MODEL_ID,\n",
        "    temperature=0,\n",
        ")\n",
        "\n",
        "chain = create_neptune_opencypher_qa_chain(llm=llm, graph=graph)\n",
        "\n",
        "result = chain.invoke(\"How many outgoing routes does the Austin airport have?\")\n",
        "print(result[\"result\"].content)"
      ]
    },
    {
      "cell_type": "markdown",
      "metadata": {},
      "source": [
        "### 添加消息历史记录\n\nNeptune openCypher QA 链可以通过 [`RunnableWithMessageHistory`](https://python.langchain.com/v0.2/api_reference/core/runnables/langchain_core.runnables.history.RunnableWithMessageHistory.html#langchain_core.runnables.history.RunnableWithMessageHistory) 进行包装。这会为链添加消息历史记录，使我们能够创建一个在多次调用中保留对话状态的聊天机器人。\n\n首先，我们需要一种存储和加载消息历史记录的方法。为此，每个线程都将创建为 [`InMemoryChatMessageHistory`](https://python.langchain.com/api_reference/core/chat_history/langchain_core.chat_history.InMemoryChatMessageHistory.html) 的实例，并存储在字典中以便重复访问。\n\n(另请参阅：https://python.langchain.com/docs/versions/migrating_memory/chat_history/#chatmessagehistory)"
      ]
    },
    {
      "cell_type": "code",
      "execution_count": null,
      "metadata": {},
      "outputs": [],
      "source": [
        "from langchain_core.chat_history import InMemoryChatMessageHistory\n",
        "\n",
        "chats_by_session_id = {}\n",
        "\n",
        "\n",
        "def get_chat_history(session_id: str) -> InMemoryChatMessageHistory:\n",
        "    chat_history = chats_by_session_id.get(session_id)\n",
        "    if chat_history is None:\n",
        "        chat_history = InMemoryChatMessageHistory()\n",
        "        chats_by_session_id[session_id] = chat_history\n",
        "    return chat_history"
      ]
    },
    {
      "cell_type": "markdown",
      "metadata": {},
      "source": [
        "现在，QA 链（QA chain）和消息历史存储（message history storage）可以用来创建新的 `RunnableWithMessageHistory`。请注意，我们必须将 `query` 设置为输入键，以匹配基础链（base chain）的预期格式。"
      ]
    },
    {
      "cell_type": "code",
      "execution_count": null,
      "metadata": {},
      "outputs": [],
      "source": [
        "from langchain_core.runnables.history import RunnableWithMessageHistory\n",
        "\n",
        "runnable_with_history = RunnableWithMessageHistory(\n",
        "    chain,\n",
        "    get_chat_history,\n",
        "    input_messages_key=\"query\",\n",
        ")"
      ]
    },
    {
      "cell_type": "markdown",
      "metadata": {},
      "source": [
        "在调用链之前，需要为对话生成一个唯一的 `session_id`，新的 `InMemoryChatMessageHistory` 将会记住这个 ID。"
      ]
    },
    {
      "cell_type": "code",
      "execution_count": null,
      "metadata": {},
      "outputs": [],
      "source": [
        "import uuid\n",
        "\n",
        "session_id = uuid.uuid4()"
      ]
    },
    {
      "cell_type": "markdown",
      "metadata": {},
      "source": [
        "最后，使用 `session_id` 调用启用消息历史记录的链。"
      ]
    },
    {
      "cell_type": "code",
      "execution_count": 8,
      "metadata": {},
      "outputs": [
        {
          "name": "stdout",
          "output_type": "stream",
          "text": [
            "You can fly directly to 98 destinations from Austin airport.\n"
          ]
        }
      ],
      "source": [
        "result = runnable_with_history.invoke(\n",
        "    {\"query\": \"How many destinations can I fly to directly from Austin airport?\"},\n",
        "    config={\"configurable\": {\"session_id\": session_id}},\n",
        ")\n",
        "print(result[\"result\"].content)"
      ]
    },
    {
      "cell_type": "markdown",
      "metadata": {},
      "source": [
        "随着链使用相同的 `session_id` 被调用，响应将结合之前对话查询的上下文返回。"
      ]
    },
    {
      "cell_type": "code",
      "execution_count": 9,
      "metadata": {},
      "outputs": [
        {
          "name": "stdout",
          "output_type": "stream",
          "text": [
            "You can fly directly to 4 destinations in Europe from Austin airport.\n"
          ]
        }
      ],
      "source": [
        "result = runnable_with_history.invoke(\n",
        "    {\"query\": \"Out of those destinations, how many are in Europe?\"},\n",
        "    config={\"configurable\": {\"session_id\": session_id}},\n",
        ")\n",
        "print(result[\"result\"].content)"
      ]
    },
    {
      "cell_type": "code",
      "execution_count": 10,
      "metadata": {},
      "outputs": [
        {
          "name": "stdout",
          "output_type": "stream",
          "text": [
            "The four European destinations you can fly to directly from Austin airport are:\n",
            "- AMS (Amsterdam Airport Schiphol)\n",
            "- FRA (Frankfurt am Main)\n",
            "- LGW (London Gatwick)\n",
            "- LHR (London Heathrow)\n"
          ]
        }
      ],
      "source": [
        "result = runnable_with_history.invoke(\n",
        "    {\"query\": \"Give me the codes and names of those airports.\"},\n",
        "    config={\"configurable\": {\"session_id\": session_id}},\n",
        ")\n",
        "print(result[\"result\"].content)"
      ]
    }
  ],
  "metadata": {
    "kernelspec": {
      "display_name": "Python 3",
      "language": "python",
      "name": "python3"
    },
    "language_info": {
      "codemirror_mode": {
        "name": "ipython",
        "version": 3
      },
      "file_extension": ".py",
      "mimetype": "text/x-python",
      "name": "python",
      "nbconvert_exporter": "python",
      "pygments_lexer": "ipython3",
      "version": "3.10.13"
    }
  },
  "nbformat": 4,
  "nbformat_minor": 4
}