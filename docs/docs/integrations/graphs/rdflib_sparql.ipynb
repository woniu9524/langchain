{
  "cells": [
    {
      "cell_type": "markdown",
      "id": "c94240f5",
      "metadata": {},
      "source": [
        "# RDFLib\n\n>[RDFLib](https://rdflib.readthedocs.io/) 是一个纯 Python 包，用于处理 [RDF](https://en.wikipedia.org/wiki/Resource_Description_Framework)。`RDFLib` 包含了处理 `RDF` 所需的大部分内容，包括：\n>- RDF/XML、N3、NTriples、N-Quads、Turtle、TriX、Trig 和 JSON-LD 的解析器和序列化器\n>- 一个 Graph 接口，可以由多种 Store 实现提供支持\n>- 用于内存、持久磁盘（Berkeley DB）和远程 SPARQL 端点的 Store 实现\n>- 一个 SPARQL 1.1 实现 - 支持 SPARQL 1.1 查询和更新语句\n>- SPARQL 函数扩展机制\n\n图数据库是基于网络状模型的应用程序的绝佳选择。为了标准化此类图的语法和语义，W3C 推荐使用 `Semantic Web Technologies`，参见 [Semantic Web](https://www.w3.org/standards/semanticweb/)。\n\n[SPARQL](https://www.w3.org/TR/sparql11-query/) 作为这些图的查询语言，类似于 `SQL` 或 `Cypher`。本笔记通过生成 `SPARQL` 来演示如何将 LLM 用作图数据库的自然语言接口。\n\n**免责声明：** 截至目前，通过 LLM 生成 `SPARQL` 查询仍然不稳定。请特别注意会修改图的 `UPDATE` 查询。"
      ]
    },
    {
      "cell_type": "markdown",
      "id": "dbc0ee68",
      "metadata": {},
      "source": [
        "## 设置\n\n我们必须安装一个python库："
      ]
    },
    {
      "cell_type": "code",
      "execution_count": null,
      "id": "f66923ed-ba21-4584-88ac-1ad0de310889",
      "metadata": {},
      "outputs": [],
      "source": [
        "!pip install rdflib"
      ]
    },
    {
      "cell_type": "markdown",
      "id": "a2d2ac86-39b3-421f-a7ce-1104d2bff707",
      "metadata": {},
      "source": [
        "您可以针对多种来源运行查询，包括网络上的文件、本地可用的文件、SPARQL 端点（例如 [Wikidata](https://www.wikidata.org/wiki/Wikidata:Main_Page)）以及 [三元组存储](https://www.w3.org/wiki/LargeTripleStores)。"
      ]
    },
    {
      "cell_type": "code",
      "execution_count": 3,
      "id": "62812aad",
      "metadata": {
        "pycharm": {
          "is_executing": true
        }
      },
      "outputs": [],
      "source": [
        "from langchain.chains import GraphSparqlQAChain\n",
        "from langchain_community.graphs import RdfGraph\n",
        "from langchain_openai import ChatOpenAI"
      ]
    },
    {
      "cell_type": "code",
      "execution_count": 4,
      "id": "0928915d",
      "metadata": {
        "pycharm": {
          "is_executing": true
        }
      },
      "outputs": [],
      "source": [
        "graph = RdfGraph(\n",
        "    source_file=\"http://www.w3.org/People/Berners-Lee/card\",\n",
        "    standard=\"rdf\",\n",
        "    local_copy=\"test.ttl\",\n",
        ")"
      ]
    },
    {
      "cell_type": "markdown",
      "id": "7af596b5",
      "metadata": {
        "collapsed": false,
        "jupyter": {
          "outputs_hidden": false
        }
      },
      "source": [
        "请注意，如果源是只读的，则必须提供 `local_file` 以将更改存储在本地。"
      ]
    },
    {
      "cell_type": "markdown",
      "id": "58c1a8ea",
      "metadata": {},
      "source": [
        "## 刷新图谱模式信息\n如果数据库的模式发生变化，您可以刷新生成 SPARQL 查询所需的模式信息。"
      ]
    },
    {
      "cell_type": "code",
      "execution_count": 5,
      "id": "4e3de44f",
      "metadata": {
        "pycharm": {
          "is_executing": true
        }
      },
      "outputs": [],
      "source": [
        "graph.load_schema()"
      ]
    },
    {
      "cell_type": "code",
      "execution_count": 6,
      "id": "1fe76ccd",
      "metadata": {},
      "outputs": [
        {
          "name": "stdout",
          "output_type": "stream",
          "text": [
            "In the following, each IRI is followed by the local name and optionally its description in parentheses. \n",
            "The RDF graph supports the following node types:\n",
            "<http://xmlns.com/foaf/0.1/PersonalProfileDocument> (PersonalProfileDocument, None), <http://www.w3.org/ns/auth/cert#RSAPublicKey> (RSAPublicKey, None), <http://www.w3.org/2000/10/swap/pim/contact#Male> (Male, None), <http://xmlns.com/foaf/0.1/Person> (Person, None), <http://www.w3.org/2006/vcard/ns#Work> (Work, None)\n",
            "The RDF graph supports the following relationships:\n",
            "<http://www.w3.org/2000/01/rdf-schema#seeAlso> (seeAlso, None), <http://purl.org/dc/elements/1.1/title> (title, None), <http://xmlns.com/foaf/0.1/mbox_sha1sum> (mbox_sha1sum, None), <http://xmlns.com/foaf/0.1/maker> (maker, None), <http://www.w3.org/ns/solid/terms#oidcIssuer> (oidcIssuer, None), <http://www.w3.org/2000/10/swap/pim/contact#publicHomePage> (publicHomePage, None), <http://xmlns.com/foaf/0.1/openid> (openid, None), <http://www.w3.org/ns/pim/space#storage> (storage, None), <http://xmlns.com/foaf/0.1/name> (name, None), <http://www.w3.org/2000/10/swap/pim/contact#country> (country, None), <http://www.w3.org/1999/02/22-rdf-syntax-ns#type> (type, None), <http://www.w3.org/ns/solid/terms#profileHighlightColor> (profileHighlightColor, None), <http://www.w3.org/ns/pim/space#preferencesFile> (preferencesFile, None), <http://www.w3.org/2000/01/rdf-schema#label> (label, None), <http://www.w3.org/ns/auth/cert#modulus> (modulus, None), <http://www.w3.org/2000/10/swap/pim/contact#participant> (participant, None), <http://www.w3.org/2000/10/swap/pim/contact#street2> (street2, None), <http://www.w3.org/2006/vcard/ns#locality> (locality, None), <http://xmlns.com/foaf/0.1/nick> (nick, None), <http://xmlns.com/foaf/0.1/homepage> (homepage, None), <http://creativecommons.org/ns#license> (license, None), <http://xmlns.com/foaf/0.1/givenname> (givenname, None), <http://www.w3.org/2006/vcard/ns#street-address> (street-address, None), <http://www.w3.org/2006/vcard/ns#postal-code> (postal-code, None), <http://www.w3.org/2000/10/swap/pim/contact#street> (street, None), <http://www.w3.org/2003/01/geo/wgs84_pos#lat> (lat, None), <http://xmlns.com/foaf/0.1/primaryTopic> (primaryTopic, None), <http://www.w3.org/2006/vcard/ns#fn> (fn, None), <http://www.w3.org/2003/01/geo/wgs84_pos#location> (location, None), <http://usefulinc.com/ns/doap#developer> (developer, None), <http://www.w3.org/2000/10/swap/pim/contact#city> (city, None), <http://www.w3.org/2006/vcard/ns#region> (region, None), <http://xmlns.com/foaf/0.1/member> (member, None), <http://www.w3.org/2003/01/geo/wgs84_pos#long> (long, None), <http://www.w3.org/2000/10/swap/pim/contact#address> (address, None), <http://xmlns.com/foaf/0.1/family_name> (family_name, None), <http://xmlns.com/foaf/0.1/account> (account, None), <http://xmlns.com/foaf/0.1/workplaceHomepage> (workplaceHomepage, None), <http://purl.org/dc/terms/title> (title, None), <http://www.w3.org/ns/solid/terms#publicTypeIndex> (publicTypeIndex, None), <http://www.w3.org/2000/10/swap/pim/contact#office> (office, None), <http://www.w3.org/2000/10/swap/pim/contact#homePage> (homePage, None), <http://xmlns.com/foaf/0.1/mbox> (mbox, None), <http://www.w3.org/2000/10/swap/pim/contact#preferredURI> (preferredURI, None), <http://www.w3.org/ns/solid/terms#profileBackgroundColor> (profileBackgroundColor, None), <http://schema.org/owns> (owns, None), <http://xmlns.com/foaf/0.1/based_near> (based_near, None), <http://www.w3.org/2006/vcard/ns#hasAddress> (hasAddress, None), <http://xmlns.com/foaf/0.1/img> (img, None), <http://www.w3.org/2000/10/swap/pim/contact#assistant> (assistant, None), <http://xmlns.com/foaf/0.1/title> (title, None), <http://www.w3.org/ns/auth/cert#key> (key, None), <http://www.w3.org/ns/ldp#inbox> (inbox, None), <http://www.w3.org/ns/solid/terms#editableProfile> (editableProfile, None), <http://www.w3.org/2000/10/swap/pim/contact#postalCode> (postalCode, None), <http://xmlns.com/foaf/0.1/weblog> (weblog, None), <http://www.w3.org/ns/auth/cert#exponent> (exponent, None), <http://rdfs.org/sioc/ns#avatar> (avatar, None)\n",
            "\n"
          ]
        }
      ],
      "source": [
        "graph.get_schema"
      ]
    },
    {
      "cell_type": "markdown",
      "id": "68a3c677",
      "metadata": {},
      "source": [
        "## 查询图谱\n\n现在，您可以使用图谱 SPARQL QA 链来询问图谱相关的问题。"
      ]
    },
    {
      "cell_type": "code",
      "execution_count": null,
      "id": "7476ce98",
      "metadata": {
        "pycharm": {
          "is_executing": true
        }
      },
      "outputs": [],
      "source": [
        "chain = GraphSparqlQAChain.from_llm(\n",
        "    ChatOpenAI(temperature=0), graph=graph, verbose=True\n",
        ")"
      ]
    },
    {
      "cell_type": "code",
      "execution_count": 12,
      "id": "ef8ee27b",
      "metadata": {
        "pycharm": {
          "is_executing": true
        }
      },
      "outputs": [
        {
          "name": "stdout",
          "output_type": "stream",
          "text": [
            "\n",
            "\n",
            "\u001b[1m> Entering new GraphSparqlQAChain chain...\u001b[0m\n",
            "Identified intent:\n",
            "\u001b[32;1m\u001b[1;3mSELECT\u001b[0m\n",
            "Generated SPARQL:\n",
            "\u001b[32;1m\u001b[1;3mPREFIX foaf: <http://xmlns.com/foaf/0.1/>\n",
            "SELECT ?homepage\n",
            "WHERE {\n",
            "    ?person foaf:name \"Tim Berners-Lee\" .\n",
            "    ?person foaf:workplaceHomepage ?homepage .\n",
            "}\u001b[0m\n",
            "Full Context:\n",
            "\u001b[32;1m\u001b[1;3m[]\u001b[0m\n",
            "\n",
            "\u001b[1m> Finished chain.\u001b[0m\n"
          ]
        },
        {
          "data": {
            "text/plain": [
              "\"Tim Berners-Lee's work homepage is http://www.w3.org/People/Berners-Lee/.\""
            ]
          },
          "execution_count": 12,
          "metadata": {},
          "output_type": "execute_result"
        }
      ],
      "source": [
        "chain.run(\"What is Tim Berners-Lee's work homepage?\")"
      ]
    },
    {
      "cell_type": "markdown",
      "id": "af4b3294",
      "metadata": {},
      "source": [
        "## 更新图\n\n类似地，您也可以使用自然语言更新图，即插入三元组。"
      ]
    },
    {
      "cell_type": "code",
      "execution_count": 14,
      "id": "fdf38841",
      "metadata": {
        "pycharm": {
          "is_executing": true
        }
      },
      "outputs": [
        {
          "name": "stdout",
          "output_type": "stream",
          "text": [
            "\n",
            "\n",
            "\u001b[1m> Entering new GraphSparqlQAChain chain...\u001b[0m\n",
            "Identified intent:\n",
            "\u001b[32;1m\u001b[1;3mUPDATE\u001b[0m\n",
            "Generated SPARQL:\n",
            "\u001b[32;1m\u001b[1;3mPREFIX foaf: <http://xmlns.com/foaf/0.1/>\n",
            "INSERT {\n",
            "    ?person foaf:workplaceHomepage <http://www.w3.org/foo/bar/> .\n",
            "}\n",
            "WHERE {\n",
            "    ?person foaf:name \"Timothy Berners-Lee\" .\n",
            "}\u001b[0m\n",
            "\n",
            "\u001b[1m> Finished chain.\u001b[0m\n"
          ]
        },
        {
          "data": {
            "text/plain": [
              "'Successfully inserted triples into the graph.'"
            ]
          },
          "execution_count": 14,
          "metadata": {},
          "output_type": "execute_result"
        }
      ],
      "source": [
        "chain.run(\n",
        "    \"Save that the person with the name 'Timothy Berners-Lee' has a work homepage at 'http://www.w3.org/foo/bar/'\"\n",
        ")"
      ]
    },
    {
      "cell_type": "markdown",
      "id": "5e0f7fc1",
      "metadata": {},
      "source": [
        "让我们来验证一下结果："
      ]
    },
    {
      "cell_type": "code",
      "execution_count": 27,
      "id": "f874171b",
      "metadata": {},
      "outputs": [
        {
          "data": {
            "text/plain": [
              "[(rdflib.term.URIRef('https://www.w3.org/'),),\n",
              " (rdflib.term.URIRef('http://www.w3.org/foo/bar/'),)]"
            ]
          },
          "execution_count": 15,
          "metadata": {},
          "output_type": "execute_result"
        }
      ],
      "source": [
        "query = (\n",
        "    \"\"\"PREFIX foaf: <http://xmlns.com/foaf/0.1/>\\n\"\"\"\n",
        "    \"\"\"SELECT ?hp\\n\"\"\"\n",
        "    \"\"\"WHERE {\\n\"\"\"\n",
        "    \"\"\"    ?person foaf:name \"Timothy Berners-Lee\" . \\n\"\"\"\n",
        "    \"\"\"    ?person foaf:workplaceHomepage ?hp .\\n\"\"\"\n",
        "    \"\"\"}\"\"\"\n",
        ")\n",
        "graph.query(query)"
      ]
    },
    {
      "cell_type": "markdown",
      "id": "eb00a625-a6c9-4766-b3f0-eaed024851c9",
      "metadata": {},
      "source": [
        "## 返回 SPARQL 查询\n您可以使用 `return_sparql_query` 参数从 Sparql QA Chain 返回 SPARQL 查询步骤。"
      ]
    },
    {
      "cell_type": "code",
      "execution_count": 20,
      "id": "f13e2865-176a-4417-95e6-db818b214d08",
      "metadata": {},
      "outputs": [],
      "source": [
        "chain = GraphSparqlQAChain.from_llm(\n",
        "    ChatOpenAI(temperature=0), graph=graph, verbose=True, return_sparql_query=True\n",
        ")"
      ]
    },
    {
      "cell_type": "code",
      "execution_count": 29,
      "id": "4f4d47b6-4202-4e74-8c88-aeaac5344c04",
      "metadata": {},
      "outputs": [
        {
          "name": "stdout",
          "output_type": "stream",
          "text": [
            "\n",
            "\n",
            "\u001b[1m> Entering new GraphSparqlQAChain chain...\u001b[0m\n",
            "Identified intent:\n",
            "\u001b[32;1m\u001b[1;3mSELECT\u001b[0m\n",
            "Generated SPARQL:\n",
            "\u001b[32;1m\u001b[1;3mPREFIX foaf: <http://xmlns.com/foaf/0.1/>\n",
            "SELECT ?workHomepage\n",
            "WHERE {\n",
            "    ?person foaf:name \"Tim Berners-Lee\" .\n",
            "    ?person foaf:workplaceHomepage ?workHomepage .\n",
            "}\u001b[0m\n",
            "Full Context:\n",
            "\u001b[32;1m\u001b[1;3m[]\u001b[0m\n",
            "\n",
            "\u001b[1m> Finished chain.\u001b[0m\n",
            "SPARQL query: PREFIX foaf: <http://xmlns.com/foaf/0.1/>\n",
            "SELECT ?workHomepage\n",
            "WHERE {\n",
            "    ?person foaf:name \"Tim Berners-Lee\" .\n",
            "    ?person foaf:workplaceHomepage ?workHomepage .\n",
            "}\n",
            "Final answer: Tim Berners-Lee's work homepage is http://www.w3.org/People/Berners-Lee/.\n"
          ]
        }
      ],
      "source": [
        "result = chain(\"What is Tim Berners-Lee's work homepage?\")\n",
        "print(f\"SPARQL query: {result['sparql_query']}\")\n",
        "print(f\"Final answer: {result['result']}\")"
      ]
    },
    {
      "cell_type": "code",
      "execution_count": 30,
      "id": "be3d9ff7-dc00-47d0-857d-fd40437a3f22",
      "metadata": {},
      "outputs": [
        {
          "name": "stdout",
          "output_type": "stream",
          "text": [
            "PREFIX foaf: <http://xmlns.com/foaf/0.1/>\n",
            "SELECT ?workHomepage\n",
            "WHERE {\n",
            "    ?person foaf:name \"Tim Berners-Lee\" .\n",
            "    ?person foaf:workplaceHomepage ?workHomepage .\n",
            "}\n"
          ]
        }
      ],
      "source": [
        "print(result[\"sparql_query\"])"
      ]
    }
  ],
  "metadata": {
    "kernelspec": {
      "display_name": "Python 3 (ipykernel)",
      "language": "python",
      "name": "python3"
    },
    "language_info": {
      "codemirror_mode": {
        "name": "ipython",
        "version": 3
      },
      "file_extension": ".py",
      "mimetype": "text/x-python",
      "name": "python",
      "nbconvert_exporter": "python",
      "pygments_lexer": "ipython3",
      "version": "3.10.12"
    }
  },
  "nbformat": 4,
  "nbformat_minor": 5
}