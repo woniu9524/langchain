{
  "cells": [
    {
      "cell_type": "markdown",
      "id": "7f0b0c06-ee70-468c-8bf5-b023f9e5e0a2",
      "metadata": {},
      "source": [
        "# Diffbot\n\n>[Diffbot](https://docs.diffbot.com/docs/getting-started-with-diffbot) 是一个基于机器学习的产品套件，可以轻松地对网络数据进行结构化。\n>\n>Diffbot 的 [自然语言处理 API](https://www.diffbot.com/products/natural-language/) 允许从非结构化文本数据中提取实体、关系和语义含义。\n[![Open In Colab](https://colab.research.google.com/assets/colab-badge.svg)](https://colab.research.google.com/github/langchain-ai/langchain/blob/master/docs/docs/integrations/graphs/diffbot.ipynb)\n\n## 用例\n\n文本数据通常包含丰富的关系和见解，可用于各种分析、推荐引擎或知识管理应用程序。\n\n通过将 `Diffbot 的 NLP API` 与图数据库 `Neo4j` 相结合，您可以根据从文本中提取的信息创建强大、动态的图结构。这些图结构是完全可查询的，并且可以集成到各种应用程序中。\n\n这种组合支持以下用例：\n\n* 从文本文档、网站或社交媒体订阅源构建知识图谱（例如 [Diffbot 的知识图谱](https://www.diffbot.com/products/knowledge-graph/)）。\n* 基于数据中的语义关系生成推荐。\n* 创建能够理解实体之间关系的高级搜索功能。\n* 构建允许用户探索数据中隐藏关系的数据分析仪表板。\n\n## 概览\n\nLangChain 提供了与图数据库交互的工具：\n\n1. 使用图转换器和存储集成`从文本构建知识图谱`\n2. 使用链来创建和执行查询来`查询图数据库`\n3. 使用代理与图数据库`进行交互`，以实现强大而灵活的查询\n\n## 设置\n\n首先，获取所需的包并设置环境变量："
      ]
    },
    {
      "cell_type": "code",
      "execution_count": null,
      "id": "975648da-b24f-4164-a671-6772179e12df",
      "metadata": {},
      "outputs": [],
      "source": [
        "%pip install --upgrade --quiet  langchain langchain-experimental langchain-openai langchain-neo4j neo4j wikipedia"
      ]
    },
    {
      "cell_type": "markdown",
      "id": "77718977-629e-46c2-b091-f9191b9ec569",
      "metadata": {},
      "source": [
        "### Diffbot NLP API\n\n`Diffbot's NLP API` 是一个用于从非结构化文本数据中提取实体、关系和语义上下文的工具。\n这些提取的信息可用于构建知识图谱。\n要使用此 API，您需要从 Diffbot 获取一个[免费 API 令牌](https://app.diffbot.com/get-started/)。"
      ]
    },
    {
      "cell_type": "code",
      "execution_count": 2,
      "id": "2cbf97d0-3682-439b-8750-b695ff726789",
      "metadata": {},
      "outputs": [],
      "source": [
        "from langchain_experimental.graph_transformers.diffbot import DiffbotGraphTransformer\n",
        "\n",
        "diffbot_api_key = \"DIFFBOT_KEY\"\n",
        "diffbot_nlp = DiffbotGraphTransformer(diffbot_api_key=diffbot_api_key)"
      ]
    },
    {
      "cell_type": "markdown",
      "id": "5e3b894a-e3ee-46c7-8116-f8377f8f0159",
      "metadata": {},
      "source": [
        "这段代码会获取关于“沃伦·巴菲特”的维基百科文章，然后使用 `DiffbotGraphTransformer` 来提取实体和关系。\n`DiffbotGraphTransformer` 输出结构化数据 `GraphDocument`，可用于填充图数据库。\n请注意，由于 Diffbot [每次 API 请求有字符限制](https://docs.diffbot.com/reference/introduction-to-natural-language-api)，因此避免了文本分块。"
      ]
    },
    {
      "cell_type": "code",
      "execution_count": 3,
      "id": "53f8df86-47a1-44a1-9a0f-6725b90703bc",
      "metadata": {},
      "outputs": [],
      "source": [
        "from langchain_community.document_loaders import WikipediaLoader\n",
        "\n",
        "query = \"Warren Buffett\"\n",
        "raw_documents = WikipediaLoader(query=query).load()\n",
        "graph_documents = diffbot_nlp.convert_to_graph_documents(raw_documents)"
      ]
    },
    {
      "cell_type": "markdown",
      "id": "31bb851a-aab4-4b97-a6b7-fce397d32b47",
      "metadata": {},
      "source": [
        "## 将数据加载到知识图中\n\n您需要有一个正在运行的 Neo4j 实例。一种选择是在其 Aura 云服务中创建[免费的 Neo4j 数据库实例](https://neo4j.com/cloud/platform/aura-graph-database/)。您也可以使用 [Neo4j Desktop 应用程序](https://neo4j.com/download/)在本地运行数据库，或者运行一个 docker 容器。您可以通过运行以下脚本来运行本地 docker 容器：\n```\ndocker run \\\n    --name neo4j \\\n    -p 7474:7474 -p 7687:7687 \\\n    -d \\\n    -e NEO4J_AUTH=neo4j/password \\\n    -e NEO4J_PLUGINS=\\[\\\"apoc\\\"\\]  \\\n    neo4j:latest\n```    \n如果您使用的是 docker 容器，您需要等待几秒钟让数据库启动。"
      ]
    },
    {
      "cell_type": "code",
      "execution_count": 4,
      "id": "0b2b6641-5a5d-467c-b148-e6aad5e4baa7",
      "metadata": {},
      "outputs": [],
      "source": [
        "from langchain_neo4j import Neo4jGraph\n",
        "\n",
        "url = \"bolt://localhost:7687\"\n",
        "username = \"neo4j\"\n",
        "password = \"password\"\n",
        "\n",
        "graph = Neo4jGraph(url=url, username=username, password=password)"
      ]
    },
    {
      "cell_type": "markdown",
      "id": "0b15e840-fe6f-45db-9193-1b4e2df5c12c",
      "metadata": {},
      "source": [
        "`GraphDocuments` 可以使用 `add_graph_documents` 方法加载到知识图中。"
      ]
    },
    {
      "cell_type": "code",
      "execution_count": 5,
      "id": "1a67c4a8-955c-42a2-9c5d-de3ac0e640ec",
      "metadata": {},
      "outputs": [],
      "source": [
        "graph.add_graph_documents(graph_documents)"
      ]
    },
    {
      "cell_type": "markdown",
      "id": "ed411e05-2b03-460d-997e-938482774f40",
      "metadata": {},
      "source": [
        "## 刷新图谱 schema 信息\n如果数据库的 schema 发生了变化，您可以刷新生成 Cypher 语句所需的 schema 信息。"
      ]
    },
    {
      "cell_type": "code",
      "execution_count": 6,
      "id": "904c9ee3-787c-403f-857d-459ce5ad5a1b",
      "metadata": {},
      "outputs": [],
      "source": [
        "graph.refresh_schema()"
      ]
    },
    {
      "cell_type": "markdown",
      "id": "f19d1387-5899-4258-8c94-8ef5fa7db464",
      "metadata": {},
      "source": [
        "## 查询图谱\n我们现在可以使用图谱 Cypher QA chain 来询问图谱的问题。建议使用 **gpt-4** 来构建 Cypher 查询，以获得最佳体验。"
      ]
    },
    {
      "cell_type": "code",
      "execution_count": 7,
      "id": "9393b732-67c8-45c1-9ec2-089f49c62448",
      "metadata": {},
      "outputs": [],
      "source": [
        "from langchain_neo4j import GraphCypherQAChain\n",
        "from langchain_openai import ChatOpenAI\n",
        "\n",
        "chain = GraphCypherQAChain.from_llm(\n",
        "    cypher_llm=ChatOpenAI(temperature=0, model_name=\"gpt-4\"),\n",
        "    qa_llm=ChatOpenAI(temperature=0, model_name=\"gpt-3.5-turbo\"),\n",
        "    graph=graph,\n",
        "    verbose=True,\n",
        "    allow_dangerous_requests=True,\n",
        ")"
      ]
    },
    {
      "cell_type": "code",
      "execution_count": 8,
      "id": "1a9b3652-b436-404d-aa25-5fb576f23dc0",
      "metadata": {},
      "outputs": [
        {
          "name": "stdout",
          "output_type": "stream",
          "text": [
            "\n",
            "\n",
            "\u001b[1m> Entering new GraphCypherQAChain chain...\u001b[0m\n",
            "Generated Cypher:\n",
            "\u001b[32;1m\u001b[1;3mMATCH (p:Person {name: \"Warren Buffett\"})-[:EDUCATED_AT]->(o:Organization)\n",
            "RETURN o.name\u001b[0m\n",
            "Full Context:\n",
            "\u001b[32;1m\u001b[1;3m[{'o.name': 'New York Institute of Finance'}, {'o.name': 'Alice Deal Junior High School'}, {'o.name': 'Woodrow Wilson High School'}, {'o.name': 'University of Nebraska'}]\u001b[0m\n",
            "\n",
            "\u001b[1m> Finished chain.\u001b[0m\n"
          ]
        },
        {
          "data": {
            "text/plain": [
              "'Warren Buffett attended the University of Nebraska.'"
            ]
          },
          "execution_count": 8,
          "metadata": {},
          "output_type": "execute_result"
        }
      ],
      "source": [
        "chain.run(\"Which university did Warren Buffett attend?\")"
      ]
    },
    {
      "cell_type": "code",
      "execution_count": 9,
      "id": "adc0ba0f-a62c-4875-89ce-da717f3ab148",
      "metadata": {},
      "outputs": [
        {
          "name": "stdout",
          "output_type": "stream",
          "text": [
            "\n",
            "\n",
            "\u001b[1m> Entering new GraphCypherQAChain chain...\u001b[0m\n",
            "Generated Cypher:\n",
            "\u001b[32;1m\u001b[1;3mMATCH (p:Person)-[r:EMPLOYEE_OR_MEMBER_OF]->(o:Organization) WHERE o.name = 'Berkshire Hathaway' RETURN p.name\u001b[0m\n",
            "Full Context:\n",
            "\u001b[32;1m\u001b[1;3m[{'p.name': 'Charlie Munger'}, {'p.name': 'Oliver Chace'}, {'p.name': 'Howard Buffett'}, {'p.name': 'Howard'}, {'p.name': 'Susan Buffett'}, {'p.name': 'Warren Buffett'}]\u001b[0m\n",
            "\n",
            "\u001b[1m> Finished chain.\u001b[0m\n"
          ]
        },
        {
          "data": {
            "text/plain": [
              "'Charlie Munger, Oliver Chace, Howard Buffett, Susan Buffett, and Warren Buffett are or were working at Berkshire Hathaway.'"
            ]
          },
          "execution_count": 9,
          "metadata": {},
          "output_type": "execute_result"
        }
      ],
      "source": [
        "chain.run(\"Who is or was working at Berkshire Hathaway?\")"
      ]
    },
    {
      "cell_type": "code",
      "execution_count": null,
      "id": "d636954b-d967-4e96-9489-92e11c74af35",
      "metadata": {},
      "outputs": [],
      "source": []
    }
  ],
  "metadata": {
    "kernelspec": {
      "display_name": "Python 3 (ipykernel)",
      "language": "python",
      "name": "python3"
    },
    "language_info": {
      "codemirror_mode": {
        "name": "ipython",
        "version": 3
      },
      "file_extension": ".py",
      "mimetype": "text/x-python",
      "name": "python",
      "nbconvert_exporter": "python",
      "pygments_lexer": "ipython3",
      "version": "3.9.18"
    }
  },
  "nbformat": 4,
  "nbformat_minor": 5
}