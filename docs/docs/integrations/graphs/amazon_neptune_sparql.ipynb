{
  "cells": [
    {
      "cell_type": "markdown",
      "metadata": {},
      "source": [
        "# Amazon Neptune with SPARQL\n\n>[Amazon Neptune](https://aws.amazon.com/neptune/) 是高性能图分析和无服务器数据库，可提供卓越的可伸缩性和可用性。\n>\n>此示例演示了一个 QA 链，该链使用 `SPARQL` 查询语言查询 `Amazon Neptune` 图数据库中的 [Resource Description Framework (RDF)](https://en.wikipedia.org/wiki/Resource_Description_Framework) 数据，并返回人类可读的响应。\n>\n>[SPARQL](https://en.wikipedia.org/wiki/SPARQL) 是 `RDF` 图的标准查询语言。\n\n\n此示例使用 `NeptuneRdfGraph` 类，该类连接到 Neptune 数据库并加载其模式。\n`create_neptune_sparql_qa_chain` 用于连接图和 LLM，以提出自然语言问题。\n\n本笔记本演示了一个使用组织数据的示例。\n\n运行此笔记本的先决条件：\n- Neptune 1.2.x 集群，可从本笔记本访问\n- 内核为 Python 3.9 或更高版本\n- 对于 Bedrock 访问，请确保 IAM 角色具有此策略\n\n```json\n{\n        \"Action\": [\n            \"bedrock:ListFoundationModels\",\n            \"bedrock:InvokeModel\"\n        ],\n        \"Resource\": \"*\",\n        \"Effect\": \"Allow\"\n}\n```\n\n- 用于暂存示例数据的 S3 存储桶。存储桶应与 Neptune 位于同一账户/区域。"
      ]
    },
    {
      "cell_type": "markdown",
      "metadata": {},
      "source": [
        "## 设置\n\n### 播种 W3C 组织数据\n\n播种 W3C 组织数据，包括 W3C org ontology 以及一些实例。\n\n你需要在与 Neptune 集群相同的区域和账户中创建一个 S3 存储桶。将 `STAGE_BUCKET` 设置为该存储桶的名称。"
      ]
    },
    {
      "cell_type": "code",
      "execution_count": null,
      "metadata": {},
      "outputs": [],
      "source": [
        "STAGE_BUCKET = \"<bucket-name>\""
      ]
    },
    {
      "cell_type": "code",
      "execution_count": null,
      "metadata": {},
      "outputs": [],
      "source": [
        "%%bash  -s \"$STAGE_BUCKET\"\n",
        "\n",
        "rm -rf data\n",
        "mkdir -p data\n",
        "cd data\n",
        "echo getting org ontology and sample org instances\n",
        "wget http://www.w3.org/ns/org.ttl \n",
        "wget https://raw.githubusercontent.com/aws-samples/amazon-neptune-ontology-example-blog/main/data/example_org.ttl \n",
        "\n",
        "echo Copying org ttl to S3\n",
        "aws s3 cp org.ttl s3://$1/org.ttl\n",
        "aws s3 cp example_org.ttl s3://$1/example_org.ttl\n"
      ]
    },
    {
      "cell_type": "markdown",
      "metadata": {},
      "source": [
        "我们将使用 `graph-notebook` 包中的 `%load` magic 命令将 W3C 数据插入 Neptune 图中。在运行 `%load` 之前，请使用 `%%graph_notebook_config` 来设置图连接参数。"
      ]
    },
    {
      "cell_type": "code",
      "execution_count": null,
      "metadata": {},
      "outputs": [],
      "source": [
        "!pip install --upgrade --quiet graph-notebook"
      ]
    },
    {
      "cell_type": "code",
      "execution_count": null,
      "metadata": {},
      "outputs": [],
      "source": [
        "%load_ext graph_notebook.magics"
      ]
    },
    {
      "cell_type": "code",
      "execution_count": null,
      "metadata": {},
      "outputs": [],
      "source": [
        "%%graph_notebook_config\n",
        "{\n",
        "    \"host\": \"<neptune-endpoint>\",\n",
        "    \"neptune_service\": \"neptune-db\",\n",
        "    \"port\": 8182,\n",
        "    \"auth_mode\": \"<[DEFAULT|IAM]>\",\n",
        "    \"load_from_s3_arn\": \"<neptune-cluster-load-role-arn>\",\n",
        "    \"ssl\": true,\n",
        "    \"aws_region\": \"<region>\"\n",
        "}"
      ]
    },
    {
      "cell_type": "markdown",
      "metadata": {},
      "source": [
        "批量加载组织时间戳（ttl）——包括本体和实例。"
      ]
    },
    {
      "cell_type": "code",
      "execution_count": null,
      "metadata": {},
      "outputs": [],
      "source": [
        "%load -s s3://{STAGE_BUCKET} -f turtle --store-to loadres --run"
      ]
    },
    {
      "cell_type": "code",
      "execution_count": null,
      "metadata": {},
      "outputs": [],
      "source": [
        "%load_status {loadres['payload']['loadId']} --errors --details"
      ]
    },
    {
      "cell_type": "markdown",
      "metadata": {},
      "source": [
        "### 设置链"
      ]
    },
    {
      "cell_type": "code",
      "execution_count": null,
      "metadata": {},
      "outputs": [],
      "source": [
        "!pip install --upgrade --quiet langchain-aws"
      ]
    },
    {
      "cell_type": "markdown",
      "metadata": {},
      "source": [
        "** 重启内核 **"
      ]
    },
    {
      "cell_type": "markdown",
      "metadata": {},
      "source": [
        "### 准备一个示例"
      ]
    },
    {
      "cell_type": "code",
      "execution_count": null,
      "metadata": {},
      "outputs": [],
      "source": [
        "EXAMPLES = \"\"\"\n",
        "\n",
        "<question>\n",
        "Find organizations.\n",
        "</question>\n",
        "\n",
        "<sparql>\n",
        "PREFIX rdf: <http://www.w3.org/1999/02/22-rdf-syntax-ns#> \n",
        "PREFIX rdfs: <http://www.w3.org/2000/01/rdf-schema#> \n",
        "PREFIX org: <http://www.w3.org/ns/org#> \n",
        "\n",
        "select ?org ?orgName where {{\n",
        "    ?org rdfs:label ?orgName .\n",
        "}} \n",
        "</sparql>\n",
        "\n",
        "<question>\n",
        "Find sites of an organization\n",
        "</question>\n",
        "\n",
        "<sparql>\n",
        "PREFIX rdf: <http://www.w3.org/1999/02/22-rdf-syntax-ns#> \n",
        "PREFIX rdfs: <http://www.w3.org/2000/01/rdf-schema#> \n",
        "PREFIX org: <http://www.w3.org/ns/org#> \n",
        "\n",
        "select ?org ?orgName ?siteName where {{\n",
        "    ?org rdfs:label ?orgName .\n",
        "    ?org org:hasSite/rdfs:label ?siteName . \n",
        "}} \n",
        "</sparql>\n",
        "\n",
        "<question>\n",
        "Find suborganizations of an organization\n",
        "</question>\n",
        "\n",
        "<sparql>\n",
        "PREFIX rdf: <http://www.w3.org/1999/02/22-rdf-syntax-ns#> \n",
        "PREFIX rdfs: <http://www.w3.org/2000/01/rdf-schema#> \n",
        "PREFIX org: <http://www.w3.org/ns/org#> \n",
        "\n",
        "select ?org ?orgName ?subName where {{\n",
        "    ?org rdfs:label ?orgName .\n",
        "    ?org org:hasSubOrganization/rdfs:label ?subName  .\n",
        "}} \n",
        "</sparql>\n",
        "\n",
        "<question>\n",
        "Find organizational units of an organization\n",
        "</question>\n",
        "\n",
        "<sparql>\n",
        "PREFIX rdf: <http://www.w3.org/1999/02/22-rdf-syntax-ns#> \n",
        "PREFIX rdfs: <http://www.w3.org/2000/01/rdf-schema#> \n",
        "PREFIX org: <http://www.w3.org/ns/org#> \n",
        "\n",
        "select ?org ?orgName ?unitName where {{\n",
        "    ?org rdfs:label ?orgName .\n",
        "    ?org org:hasUnit/rdfs:label ?unitName . \n",
        "}} \n",
        "</sparql>\n",
        "\n",
        "<question>\n",
        "Find members of an organization. Also find their manager, or the member they report to.\n",
        "</question>\n",
        "\n",
        "<sparql>\n",
        "PREFIX org: <http://www.w3.org/ns/org#> \n",
        "PREFIX foaf: <http://xmlns.com/foaf/0.1/> \n",
        "\n",
        "select * where {{\n",
        "    ?person rdf:type foaf:Person .\n",
        "    ?person  org:memberOf ?org .\n",
        "    OPTIONAL {{ ?person foaf:firstName ?firstName . }}\n",
        "    OPTIONAL {{ ?person foaf:family_name ?lastName . }}\n",
        "    OPTIONAL {{ ?person  org:reportsTo ??manager }} .\n",
        "}}\n",
        "</sparql>\n",
        "\n",
        "\n",
        "<question>\n",
        "Find change events, such as mergers and acquisitions, of an organization\n",
        "</question>\n",
        "\n",
        "<sparql>\n",
        "PREFIX org: <http://www.w3.org/ns/org#> \n",
        "\n",
        "select ?event ?prop ?obj where {{\n",
        "    ?org rdfs:label ?orgName .\n",
        "    ?event rdf:type org:ChangeEvent .\n",
        "    ?event org:originalOrganization ?origOrg .\n",
        "    ?event org:resultingOrganization ?resultingOrg .\n",
        "}}\n",
        "</sparql>\n",
        "\n",
        "\"\"\""
      ]
    },
    {
      "cell_type": "markdown",
      "metadata": {},
      "source": [
        "### 创建 Neptune 数据库 RDF 图谱"
      ]
    },
    {
      "cell_type": "code",
      "execution_count": null,
      "metadata": {},
      "outputs": [],
      "source": [
        "from langchain_aws.graphs import NeptuneRdfGraph\n",
        "\n",
        "host = \"<your host>\"\n",
        "port = 8182  # change if different\n",
        "region = \"us-east-1\"  # change if different\n",
        "graph = NeptuneRdfGraph(host=host, port=port, use_iam_auth=True, region_name=region)\n",
        "\n",
        "# Optionally, change the schema\n",
        "# elems = graph.get_schema_elements\n",
        "# change elems ...\n",
        "# graph.load_schema(elems)"
      ]
    },
    {
      "cell_type": "markdown",
      "metadata": {},
      "source": [
        "## 使用 Neptune SPARQL QA Chain\n\n此 QA Chain 使用 SPARQL 查询 Neptune 图数据库，并返回人类可读的响应。"
      ]
    },
    {
      "cell_type": "code",
      "execution_count": null,
      "metadata": {},
      "outputs": [],
      "source": [
        "from langchain_aws import ChatBedrockConverse\n",
        "from langchain_aws.chains import create_neptune_sparql_qa_chain\n",
        "\n",
        "MODEL_ID = \"anthropic.claude-3-5-sonnet-20241022-v2:0\"\n",
        "llm = ChatBedrockConverse(\n",
        "    model_id=MODEL_ID,\n",
        "    temperature=0,\n",
        ")\n",
        "\n",
        "chain = create_neptune_sparql_qa_chain(\n",
        "    llm=llm,\n",
        "    graph=graph,\n",
        "    examples=EXAMPLES,\n",
        ")\n",
        "\n",
        "result = chain.invoke(\"How many organizations are in the graph?\")\n",
        "print(result[\"result\"].content)"
      ]
    },
    {
      "cell_type": "markdown",
      "metadata": {},
      "source": [
        "试试下面这些针对已摄入图数据的提示。"
      ]
    },
    {
      "cell_type": "code",
      "execution_count": null,
      "metadata": {},
      "outputs": [],
      "source": [
        "result = chain.invoke(\"Are there any mergers or acquisitions?\")\n",
        "print(result[\"result\"].content)"
      ]
    },
    {
      "cell_type": "code",
      "execution_count": null,
      "metadata": {},
      "outputs": [],
      "source": [
        "result = chain.invoke(\"Find organizations.\")\n",
        "print(result[\"result\"].content)"
      ]
    },
    {
      "cell_type": "code",
      "execution_count": null,
      "metadata": {},
      "outputs": [],
      "source": [
        "result = chain.invoke(\"Find sites of MegaSystems or MegaFinancial.\")\n",
        "print(result[\"result\"].content)"
      ]
    },
    {
      "cell_type": "code",
      "execution_count": null,
      "metadata": {},
      "outputs": [],
      "source": [
        "result = chain.invoke(\"Find a member who is a manager of one or more members.\")\n",
        "print(result[\"result\"].content)"
      ]
    },
    {
      "cell_type": "code",
      "execution_count": null,
      "metadata": {},
      "outputs": [],
      "source": [
        "result = chain.invoke(\"Find five members and their managers.\")\n",
        "print(result[\"result\"].content)"
      ]
    },
    {
      "cell_type": "code",
      "execution_count": null,
      "metadata": {},
      "outputs": [],
      "source": [
        "result = chain.invoke(\n",
        "    \"Find org units or suborganizations of The Mega Group. What are the sites of those units?\"\n",
        ")\n",
        "print(result[\"result\"].content)"
      ]
    },
    {
      "cell_type": "markdown",
      "metadata": {},
      "source": [
        "### 添加消息历史记录\n\nNeptune SPARQL QA 链可以通过 [`RunnableWithMessageHistory`](https://python.langchain.com/v0.2/api_reference/core/runnables/langchain_core.runnables.history.RunnableWithMessageHistory.html#langchain_core.runnables.history.RunnableWithMessageHistory) 进行封装。这将为链添加消息历史记录，使我们能够创建一个跨多次调用的、可以保留对话状态的聊天机器人。\n\n首先，我们需要一种存储和加载消息历史记录的方法。为此，每个会话都将创建为 [`InMemoryChatMessageHistory`](https://python.langchain.com/api_reference/core/chat_history/langchain_core.chat_history.InMemoryChatMessageHistory.html) 的实例，并存储在一个字典中以便重复访问。\n\n(另请参阅：https://python.langchain.com/docs/versions/migrating_memory/chat_history/#chatmessagehistory)"
      ]
    },
    {
      "cell_type": "code",
      "execution_count": null,
      "metadata": {},
      "outputs": [],
      "source": [
        "from langchain_core.chat_history import InMemoryChatMessageHistory\n",
        "\n",
        "chats_by_session_id = {}\n",
        "\n",
        "\n",
        "def get_chat_history(session_id: str) -> InMemoryChatMessageHistory:\n",
        "    chat_history = chats_by_session_id.get(session_id)\n",
        "    if chat_history is None:\n",
        "        chat_history = InMemoryChatMessageHistory()\n",
        "        chats_by_session_id[session_id] = chat_history\n",
        "    return chat_history"
      ]
    },
    {
      "cell_type": "markdown",
      "metadata": {},
      "source": [
        "现在，QA 链和消息历史存储可用于创建新的 `RunnableWithMessageHistory`。请注意，我们必须将 `query` 设置为输入键，以匹配基础链的预期格式。"
      ]
    },
    {
      "cell_type": "code",
      "execution_count": null,
      "metadata": {},
      "outputs": [],
      "source": [
        "from langchain_core.runnables.history import RunnableWithMessageHistory\n",
        "\n",
        "runnable_with_history = RunnableWithMessageHistory(\n",
        "    chain,\n",
        "    get_chat_history,\n",
        "    input_messages_key=\"query\",\n",
        ")"
      ]
    },
    {
      "cell_type": "markdown",
      "metadata": {},
      "source": [
        "在调用链之前，需要为对话生成一个唯一的 `session_id`，`InMemoryChatMessageHistory` 将会记住它。"
      ]
    },
    {
      "cell_type": "code",
      "execution_count": null,
      "metadata": {},
      "outputs": [],
      "source": [
        "import uuid\n",
        "\n",
        "session_id = uuid.uuid4()"
      ]
    },
    {
      "cell_type": "markdown",
      "metadata": {},
      "source": [
        "最后，调用具有 `session_id` 的消息历史记录启用链。"
      ]
    },
    {
      "cell_type": "code",
      "execution_count": null,
      "metadata": {},
      "outputs": [],
      "source": [
        "result = runnable_with_history.invoke(\n",
        "    {\"query\": \"How many org units or suborganizations does the The Mega Group have?\"},\n",
        "    config={\"configurable\": {\"session_id\": session_id}},\n",
        ")\n",
        "print(result[\"result\"].content)"
      ]
    },
    {
      "cell_type": "markdown",
      "metadata": {},
      "source": [
        "随着链使用相同的 `session_id` 被反复调用，响应将根据对话中先前的查询在上下文中返回。"
      ]
    },
    {
      "cell_type": "code",
      "execution_count": null,
      "metadata": {},
      "outputs": [],
      "source": [
        "result = runnable_with_history.invoke(\n",
        "    {\"query\": \"List the sites for each of the units.\"},\n",
        "    config={\"configurable\": {\"session_id\": session_id}},\n",
        ")\n",
        "print(result[\"result\"].content)"
      ]
    }
  ],
  "metadata": {
    "kernelspec": {
      "display_name": "Python 3",
      "language": "python",
      "name": "python3"
    },
    "language_info": {
      "codemirror_mode": {
        "name": "ipython",
        "version": 3
      },
      "file_extension": ".py",
      "mimetype": "text/x-python",
      "name": "python",
      "nbconvert_exporter": "python",
      "pygments_lexer": "ipython3",
      "version": "3.10.13"
    }
  },
  "nbformat": 4,
  "nbformat_minor": 4
}