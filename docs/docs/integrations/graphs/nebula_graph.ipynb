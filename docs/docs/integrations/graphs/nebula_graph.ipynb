{
  "cells": [
    {
      "attachments": {},
      "cell_type": "markdown",
      "id": "c94240f5",
      "metadata": {},
      "source": [
        "# NebulaGraph\n\n>[NebulaGraph](https://www.nebula-graph.io/) 是一个开源的、分布式的、可扩展的、闪电般的图数据库，专为超大规模图构建，延迟毫秒级。它使用 `nGQL` 图查询语言。\n>\n>[nGQL](https://docs.nebula-graph.io/3.0.0/3.ngql-guide/1.nGQL-overview/1.overview/) 是 `NebulaGraph` 的声明式图查询语言。它支持富有表现力和高效的图模式。`nGQL` 面向开发者和运维专业人士设计。`nGQL` 是一种类似 SQL 的查询语言。\n\n本笔记本展示了如何使用 LLM 为 `NebulaGraph` 数据库提供自然语言接口。"
      ]
    },
    {
      "attachments": {},
      "cell_type": "markdown",
      "id": "dbc0ee68",
      "metadata": {},
      "source": [
        "## 配置\n\n您可以通过运行以下脚本将 `NebulaGraph` 集群作为 Docker 容器启动：\n\n```bash\ncurl -fsSL nebula-up.siwei.io/install.sh | bash\n```\n\n其他选项包括：\n- 作为 [Docker Desktop Extension](https://www.docker.com/blog/distributed-cloud-native-graph-database-nebulagraph-docker-extension/) 安装。请参阅此处的[文档](https://docs.nebula-graph.io/3.5.0/2.quick-start/1.quick-start-workflow/)\n- NebulaGraph Cloud 服务。请参阅此处的[文档](https://www.nebula-graph.io/cloud)\n- 通过软件包、源代码或 Kubernetes 进行部署。请参阅此处的[文档](https://docs.nebula-graph.io/)\n\n集群运行后，我们就可以为数据库创建 `SPACE` 和 `SCHEMA` 了。"
      ]
    },
    {
      "cell_type": "code",
      "execution_count": null,
      "id": "c82f4141",
      "metadata": {},
      "outputs": [],
      "source": [
        "%pip install --upgrade --quiet  ipython-ngql\n",
        "%load_ext ngql\n",
        "\n",
        "# connect ngql jupyter extension to nebulagraph\n",
        "%ngql --address 127.0.0.1 --port 9669 --user root --password nebula\n",
        "# create a new space\n",
        "%ngql CREATE SPACE IF NOT EXISTS langchain(partition_num=1, replica_factor=1, vid_type=fixed_string(128));"
      ]
    },
    {
      "cell_type": "code",
      "execution_count": null,
      "id": "eda0809a",
      "metadata": {},
      "outputs": [],
      "source": [
        "# Wait for a few seconds for the space to be created.\n",
        "%ngql USE langchain;"
      ]
    },
    {
      "attachments": {},
      "cell_type": "markdown",
      "id": "119fe35c",
      "metadata": {},
      "source": [
        "创建模式，有关完整数据集的参考请访问[此处](https://www.siwei.io/en/nebulagraph-etl-dbt/)。"
      ]
    },
    {
      "cell_type": "code",
      "execution_count": null,
      "id": "5aa796ee",
      "metadata": {},
      "outputs": [],
      "source": [
        "%%ngql\n",
        "CREATE TAG IF NOT EXISTS movie(name string);\n",
        "CREATE TAG IF NOT EXISTS person(name string, birthdate string);\n",
        "CREATE EDGE IF NOT EXISTS acted_in();\n",
        "CREATE TAG INDEX IF NOT EXISTS person_index ON person(name(128));\n",
        "CREATE TAG INDEX IF NOT EXISTS movie_index ON movie(name(128));"
      ]
    },
    {
      "attachments": {},
      "cell_type": "markdown",
      "id": "66e4799a",
      "metadata": {},
      "source": [
        "等待 schema 创建完成，然后我们就可以插入一些数据。"
      ]
    },
    {
      "cell_type": "code",
      "execution_count": null,
      "id": "d8eea530",
      "metadata": {},
      "outputs": [],
      "source": [
        "%%ngql\n",
        "INSERT VERTEX person(name, birthdate) VALUES \"Al Pacino\":(\"Al Pacino\", \"1940-04-25\");\n",
        "INSERT VERTEX movie(name) VALUES \"The Godfather II\":(\"The Godfather II\");\n",
        "INSERT VERTEX movie(name) VALUES \"The Godfather Coda: The Death of Michael Corleone\":(\"The Godfather Coda: The Death of Michael Corleone\");\n",
        "INSERT EDGE acted_in() VALUES \"Al Pacino\"->\"The Godfather II\":();\n",
        "INSERT EDGE acted_in() VALUES \"Al Pacino\"->\"The Godfather Coda: The Death of Michael Corleone\":();"
      ]
    },
    {
      "cell_type": "code",
      "execution_count": 1,
      "id": "62812aad",
      "metadata": {},
      "outputs": [],
      "source": [
        "from langchain.chains import NebulaGraphQAChain\n",
        "from langchain_community.graphs import NebulaGraph\n",
        "from langchain_openai import ChatOpenAI"
      ]
    },
    {
      "cell_type": "code",
      "execution_count": 2,
      "id": "0928915d",
      "metadata": {},
      "outputs": [],
      "source": [
        "graph = NebulaGraph(\n",
        "    space=\"langchain\",\n",
        "    username=\"root\",\n",
        "    password=\"nebula\",\n",
        "    address=\"127.0.0.1\",\n",
        "    port=9669,\n",
        "    session_pool_size=30,\n",
        ")"
      ]
    },
    {
      "attachments": {},
      "cell_type": "markdown",
      "id": "58c1a8ea",
      "metadata": {},
      "source": [
        "## 刷新图谱 schema 信息\n\n如果数据库的 schema 发生变化，您可以刷新生成 nGQL 语句所需的 schema 信息。"
      ]
    },
    {
      "cell_type": "code",
      "execution_count": null,
      "id": "4e3de44f",
      "metadata": {},
      "outputs": [],
      "source": [
        "# graph.refresh_schema()"
      ]
    },
    {
      "cell_type": "code",
      "execution_count": 3,
      "id": "1fe76ccd",
      "metadata": {},
      "outputs": [
        {
          "name": "stdout",
          "output_type": "stream",
          "text": [
            "Node properties: [{'tag': 'movie', 'properties': [('name', 'string')]}, {'tag': 'person', 'properties': [('name', 'string'), ('birthdate', 'string')]}]\n",
            "Edge properties: [{'edge': 'acted_in', 'properties': []}]\n",
            "Relationships: ['(:person)-[:acted_in]->(:movie)']\n",
            "\n"
          ]
        }
      ],
      "source": [
        "print(graph.get_schema)"
      ]
    },
    {
      "attachments": {},
      "cell_type": "markdown",
      "id": "68a3c677",
      "metadata": {},
      "source": [
        "## 查询图谱\n\n我们现在可以使用图谱的 Cypher QA 链来提问了"
      ]
    },
    {
      "cell_type": "code",
      "execution_count": 5,
      "id": "7476ce98",
      "metadata": {},
      "outputs": [],
      "source": [
        "chain = NebulaGraphQAChain.from_llm(\n",
        "    ChatOpenAI(temperature=0), graph=graph, verbose=True\n",
        ")"
      ]
    },
    {
      "cell_type": "code",
      "execution_count": 6,
      "id": "ef8ee27b",
      "metadata": {},
      "outputs": [
        {
          "name": "stdout",
          "output_type": "stream",
          "text": [
            "\n",
            "\n",
            "\u001b[1m> Entering new NebulaGraphQAChain chain...\u001b[0m\n",
            "Generated nGQL:\n",
            "\u001b[32;1m\u001b[1;3mMATCH (p:`person`)-[:acted_in]->(m:`movie`) WHERE m.`movie`.`name` == 'The Godfather II'\n",
            "RETURN p.`person`.`name`\u001b[0m\n",
            "Full Context:\n",
            "\u001b[32;1m\u001b[1;3m{'p.person.name': ['Al Pacino']}\u001b[0m\n",
            "\n",
            "\u001b[1m> Finished chain.\u001b[0m\n"
          ]
        },
        {
          "data": {
            "text/plain": [
              "'Al Pacino played in The Godfather II.'"
            ]
          },
          "execution_count": 6,
          "metadata": {},
          "output_type": "execute_result"
        }
      ],
      "source": [
        "chain.run(\"Who played in The Godfather II?\")"
      ]
    }
  ],
  "metadata": {
    "kernelspec": {
      "display_name": "Python 3 (ipykernel)",
      "language": "python",
      "name": "python3"
    },
    "language_info": {
      "codemirror_mode": {
        "name": "ipython",
        "version": 3
      },
      "file_extension": ".py",
      "mimetype": "text/x-python",
      "name": "python",
      "nbconvert_exporter": "python",
      "pygments_lexer": "ipython3",
      "version": "3.10.12"
    }
  },
  "nbformat": 4,
  "nbformat_minor": 5
}