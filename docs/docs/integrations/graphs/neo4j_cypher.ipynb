{
  "cells": [
    {
      "cell_type": "markdown",
      "id": "c94240f5",
      "metadata": {},
      "source": [
        "# Neo4j\n\n>[Neo4j](https://neo4j.com/docs/getting-started/) 是由 `Neo4j, Inc` 开发的图形数据库管理系统。\n\n> `Neo4j` 存储的数据元素是节点、连接它们的边，以及节点和边的属性。由其开发者描述为符合 ACID 的事务数据库，具有原生图形存储和处理能力，`Neo4j` 提供了一个基于 GNU 通用公共许可证修改版许可的非开源“社区版”，并提供具有在线备份和高可用性扩展的闭源商业许可证。Neo 也根据闭源商业条款许可了带有这些扩展的 `Neo4j`。\n\n>本笔记本展示了如何使用 LLM 为图形数据库提供自然语言界面，您可以使用 `Cypher` 查询语言进行查询。\n\n>[Cypher](https://en.wikipedia.org/wiki/Cypher_(query_language)) 是一种声明式图形查询语言，允许以属性图进行富有表现力和高效的数据查询。"
      ]
    },
    {
      "cell_type": "markdown",
      "id": "dbc0ee68",
      "metadata": {},
      "source": [
        "## 设置\n\n您将需要一个正在运行的 `Neo4j` 实例。一个选择是使用他们 [`Aura` 云服务中的免费 Neo4j 数据库实例](https://neo4j.com/cloud/platform/aura-graph-database/)。您也可以使用 [`Neo4j Desktop` 应用程序](https://neo4j.com/download/) 在本地运行数据库，或者运行一个 docker 容器。\n您可以通过运行以下脚本来运行本地 docker 容器：\n\n```\ndocker run \\\n    --name neo4j \\\n    -p 7474:7474 -p 7687:7687 \\\n    -d \\\n    -e NEO4J_AUTH=neo4j/password \\\n    -e NEO4J_PLUGINS=\\[\\\"apoc\\\"\\]  \\\n    neo4j:latest\n```\n\n如果您使用的是 docker 容器，则需要等待几秒钟让数据库启动。"
      ]
    },
    {
      "cell_type": "code",
      "execution_count": 1,
      "id": "62812aad",
      "metadata": {},
      "outputs": [],
      "source": [
        "from langchain_neo4j import GraphCypherQAChain, Neo4jGraph\n",
        "from langchain_openai import ChatOpenAI"
      ]
    },
    {
      "cell_type": "code",
      "execution_count": 2,
      "id": "0928915d",
      "metadata": {},
      "outputs": [],
      "source": [
        "graph = Neo4jGraph(url=\"bolt://localhost:7687\", username=\"neo4j\", password=\"password\")"
      ]
    },
    {
      "cell_type": "markdown",
      "id": "8c663e91",
      "metadata": {},
      "source": [
        "本指南中，我们默认使用 OpenAI 模型。"
      ]
    },
    {
      "cell_type": "code",
      "execution_count": 3,
      "id": "51c88001",
      "metadata": {},
      "outputs": [],
      "source": [
        "import getpass\n",
        "import os\n",
        "\n",
        "if \"OPENAI_API_KEY\" not in os.environ:\n",
        "    os.environ[\"OPENAI_API_KEY\"] = getpass.getpass(\"OpenAI API Key:\")"
      ]
    },
    {
      "cell_type": "markdown",
      "id": "995ea9b9",
      "metadata": {},
      "source": [
        "## 填充数据库\n\n假设您的数据库是空的，您可以使用 Cypher 查询语言进行填充。以下 Cypher 语句是幂等的，这意味着无论您运行一次还是多次，数据库信息都将保持不变。"
      ]
    },
    {
      "cell_type": "code",
      "execution_count": 3,
      "id": "fedd26b9",
      "metadata": {},
      "outputs": [
        {
          "data": {
            "text/plain": [
              "[]"
            ]
          },
          "execution_count": 3,
          "metadata": {},
          "output_type": "execute_result"
        }
      ],
      "source": [
        "graph.query(\n",
        "    \"\"\"\n",
        "MERGE (m:Movie {name:\"Top Gun\", runtime: 120})\n",
        "WITH m\n",
        "UNWIND [\"Tom Cruise\", \"Val Kilmer\", \"Anthony Edwards\", \"Meg Ryan\"] AS actor\n",
        "MERGE (a:Actor {name:actor})\n",
        "MERGE (a)-[:ACTED_IN]->(m)\n",
        "\"\"\"\n",
        ")"
      ]
    },
    {
      "cell_type": "markdown",
      "id": "58c1a8ea",
      "metadata": {},
      "source": [
        "## 刷新图谱模式信息\n如果数据库的模式发生变化，您可以刷新生成 Cypher 语句所需的模式信息。"
      ]
    },
    {
      "cell_type": "code",
      "execution_count": 4,
      "id": "4e3de44f",
      "metadata": {},
      "outputs": [],
      "source": [
        "graph.refresh_schema()"
      ]
    },
    {
      "cell_type": "code",
      "execution_count": 5,
      "id": "1fe76ccd",
      "metadata": {},
      "outputs": [
        {
          "name": "stdout",
          "output_type": "stream",
          "text": [
            "Node properties:\n",
            "Movie {runtime: INTEGER, name: STRING}\n",
            "Actor {name: STRING}\n",
            "Relationship properties:\n",
            "\n",
            "The relationships:\n",
            "(:Actor)-[:ACTED_IN]->(:Movie)\n"
          ]
        }
      ],
      "source": [
        "print(graph.schema)"
      ]
    },
    {
      "cell_type": "markdown",
      "id": "3d88f516-2e60-4da4-b25f-dad5801fe133",
      "metadata": {},
      "source": [
        "## 增强型 Schema 信息\n选择增强型 Schema 版本后，系统可以自动扫描数据库中的示例值并计算一些分布度量。例如，如果节点属性的唯一值少于 10 个，我们将返回 Schema 中的所有可能值。否则，每个节点和关系属性将仅返回一个示例值。"
      ]
    },
    {
      "cell_type": "code",
      "execution_count": 6,
      "id": "c8233976-1ca7-4f8f-af20-e8fb3e081fdd",
      "metadata": {},
      "outputs": [
        {
          "name": "stdout",
          "output_type": "stream",
          "text": [
            "Node properties:\n",
            "- **Movie**\n",
            "  - `runtime`: INTEGER Min: 120, Max: 120\n",
            "  - `name`: STRING Available options: ['Top Gun']\n",
            "- **Actor**\n",
            "  - `name`: STRING Available options: ['Tom Cruise', 'Val Kilmer', 'Anthony Edwards', 'Meg Ryan']\n",
            "Relationship properties:\n",
            "\n",
            "The relationships:\n",
            "(:Actor)-[:ACTED_IN]->(:Movie)\n"
          ]
        }
      ],
      "source": [
        "enhanced_graph = Neo4jGraph(\n",
        "    url=\"bolt://localhost:7687\",\n",
        "    username=\"neo4j\",\n",
        "    password=\"password\",\n",
        "    enhanced_schema=True,\n",
        ")\n",
        "print(enhanced_graph.schema)"
      ]
    },
    {
      "cell_type": "markdown",
      "id": "68a3c677",
      "metadata": {},
      "source": [
        "## 查询图谱\n\n我们现在可以使用图谱的 Cypher QA 工具来查询图谱了。"
      ]
    },
    {
      "cell_type": "code",
      "execution_count": 7,
      "id": "7476ce98",
      "metadata": {},
      "outputs": [],
      "source": [
        "chain = GraphCypherQAChain.from_llm(\n",
        "    ChatOpenAI(temperature=0), graph=graph, verbose=True, allow_dangerous_requests=True\n",
        ")"
      ]
    },
    {
      "cell_type": "code",
      "execution_count": 8,
      "id": "ef8ee27b",
      "metadata": {},
      "outputs": [
        {
          "name": "stdout",
          "output_type": "stream",
          "text": [
            "\n",
            "\n",
            "\u001b[1m> Entering new GraphCypherQAChain chain...\u001b[0m\n",
            "Generated Cypher:\n",
            "\u001b[32;1m\u001b[1;3mMATCH (a:Actor)-[:ACTED_IN]->(m:Movie)\n",
            "WHERE m.name = 'Top Gun'\n",
            "RETURN a.name\u001b[0m\n",
            "Full Context:\n",
            "\u001b[32;1m\u001b[1;3m[{'a.name': 'Tom Cruise'}, {'a.name': 'Val Kilmer'}, {'a.name': 'Anthony Edwards'}, {'a.name': 'Meg Ryan'}]\u001b[0m\n",
            "\n",
            "\u001b[1m> Finished chain.\u001b[0m\n"
          ]
        },
        {
          "data": {
            "text/plain": [
              "{'query': 'Who played in Top Gun?',\n",
              " 'result': 'Tom Cruise, Val Kilmer, Anthony Edwards, and Meg Ryan played in Top Gun.'}"
            ]
          },
          "execution_count": 8,
          "metadata": {},
          "output_type": "execute_result"
        }
      ],
      "source": [
        "chain.invoke({\"query\": \"Who played in Top Gun?\"})"
      ]
    },
    {
      "cell_type": "markdown",
      "id": "2d28c4df",
      "metadata": {},
      "source": [
        "## 限制结果数量\n您可以使用 `top_k` 参数来限制 Cypher QA Chain 的结果数量。\n默认值为 10。"
      ]
    },
    {
      "cell_type": "code",
      "execution_count": 9,
      "id": "df230946",
      "metadata": {},
      "outputs": [],
      "source": [
        "chain = GraphCypherQAChain.from_llm(\n",
        "    ChatOpenAI(temperature=0),\n",
        "    graph=graph,\n",
        "    verbose=True,\n",
        "    top_k=2,\n",
        "    allow_dangerous_requests=True,\n",
        ")"
      ]
    },
    {
      "cell_type": "code",
      "execution_count": 10,
      "id": "3f1600ee",
      "metadata": {},
      "outputs": [
        {
          "name": "stdout",
          "output_type": "stream",
          "text": [
            "\n",
            "\n",
            "\u001b[1m> Entering new GraphCypherQAChain chain...\u001b[0m\n",
            "Generated Cypher:\n",
            "\u001b[32;1m\u001b[1;3mMATCH (a:Actor)-[:ACTED_IN]->(m:Movie)\n",
            "WHERE m.name = 'Top Gun'\n",
            "RETURN a.name\u001b[0m\n",
            "Full Context:\n",
            "\u001b[32;1m\u001b[1;3m[{'a.name': 'Tom Cruise'}, {'a.name': 'Val Kilmer'}]\u001b[0m\n",
            "\n",
            "\u001b[1m> Finished chain.\u001b[0m\n"
          ]
        },
        {
          "data": {
            "text/plain": [
              "{'query': 'Who played in Top Gun?',\n",
              " 'result': 'Tom Cruise, Val Kilmer played in Top Gun.'}"
            ]
          },
          "execution_count": 10,
          "metadata": {},
          "output_type": "execute_result"
        }
      ],
      "source": [
        "chain.invoke({\"query\": \"Who played in Top Gun?\"})"
      ]
    },
    {
      "cell_type": "markdown",
      "id": "88c16206",
      "metadata": {},
      "source": [
        "## 返回中间结果\n您可以使用 `return_intermediate_steps` 参数从 Cypher QA Chain 返回中间步骤。"
      ]
    },
    {
      "cell_type": "code",
      "execution_count": 11,
      "id": "e412f36b",
      "metadata": {},
      "outputs": [],
      "source": [
        "chain = GraphCypherQAChain.from_llm(\n",
        "    ChatOpenAI(temperature=0),\n",
        "    graph=graph,\n",
        "    verbose=True,\n",
        "    return_intermediate_steps=True,\n",
        "    allow_dangerous_requests=True,\n",
        ")"
      ]
    },
    {
      "cell_type": "code",
      "execution_count": 12,
      "id": "4f4699dc",
      "metadata": {},
      "outputs": [
        {
          "name": "stdout",
          "output_type": "stream",
          "text": [
            "\n",
            "\n",
            "\u001b[1m> Entering new GraphCypherQAChain chain...\u001b[0m\n",
            "Generated Cypher:\n",
            "\u001b[32;1m\u001b[1;3mMATCH (a:Actor)-[:ACTED_IN]->(m:Movie)\n",
            "WHERE m.name = 'Top Gun'\n",
            "RETURN a.name\u001b[0m\n",
            "Full Context:\n",
            "\u001b[32;1m\u001b[1;3m[{'a.name': 'Tom Cruise'}, {'a.name': 'Val Kilmer'}, {'a.name': 'Anthony Edwards'}, {'a.name': 'Meg Ryan'}]\u001b[0m\n",
            "\n",
            "\u001b[1m> Finished chain.\u001b[0m\n",
            "Intermediate steps: [{'query': \"MATCH (a:Actor)-[:ACTED_IN]->(m:Movie)\\nWHERE m.name = 'Top Gun'\\nRETURN a.name\"}, {'context': [{'a.name': 'Tom Cruise'}, {'a.name': 'Val Kilmer'}, {'a.name': 'Anthony Edwards'}, {'a.name': 'Meg Ryan'}]}]\n",
            "Final answer: Tom Cruise, Val Kilmer, Anthony Edwards, and Meg Ryan played in Top Gun.\n"
          ]
        }
      ],
      "source": [
        "result = chain.invoke({\"query\": \"Who played in Top Gun?\"})\n",
        "print(f\"Intermediate steps: {result['intermediate_steps']}\")\n",
        "print(f\"Final answer: {result['result']}\")"
      ]
    },
    {
      "cell_type": "markdown",
      "id": "d6e1b054",
      "metadata": {},
      "source": [
        "## 直接返回结果\n您可以使用 `return_direct` 参数从 Cypher QA Chain 直接返回结果。"
      ]
    },
    {
      "cell_type": "code",
      "execution_count": 13,
      "id": "2d3acf10",
      "metadata": {},
      "outputs": [],
      "source": [
        "chain = GraphCypherQAChain.from_llm(\n",
        "    ChatOpenAI(temperature=0),\n",
        "    graph=graph,\n",
        "    verbose=True,\n",
        "    return_direct=True,\n",
        "    allow_dangerous_requests=True,\n",
        ")"
      ]
    },
    {
      "cell_type": "code",
      "execution_count": 14,
      "id": "b0a9d143",
      "metadata": {},
      "outputs": [
        {
          "name": "stdout",
          "output_type": "stream",
          "text": [
            "\n",
            "\n",
            "\u001b[1m> Entering new GraphCypherQAChain chain...\u001b[0m\n",
            "Generated Cypher:\n",
            "\u001b[32;1m\u001b[1;3mMATCH (a:Actor)-[:ACTED_IN]->(m:Movie)\n",
            "WHERE m.name = 'Top Gun'\n",
            "RETURN a.name\u001b[0m\n",
            "\n",
            "\u001b[1m> Finished chain.\u001b[0m\n"
          ]
        },
        {
          "data": {
            "text/plain": [
              "{'query': 'Who played in Top Gun?',\n",
              " 'result': [{'a.name': 'Tom Cruise'},\n",
              "  {'a.name': 'Val Kilmer'},\n",
              "  {'a.name': 'Anthony Edwards'},\n",
              "  {'a.name': 'Meg Ryan'}]}"
            ]
          },
          "execution_count": 14,
          "metadata": {},
          "output_type": "execute_result"
        }
      ],
      "source": [
        "chain.invoke({\"query\": \"Who played in Top Gun?\"})"
      ]
    },
    {
      "cell_type": "markdown",
      "id": "f01dfb72-24ec-4ae7-883a-ee6646889b59",
      "metadata": {},
      "source": [
        "## 添加 Cypher 生成提示中的示例\n您可以为特定问题定义 LLM 要生成的 Cypher 语句"
      ]
    },
    {
      "cell_type": "code",
      "execution_count": 15,
      "id": "59baeb88-adfa-4c26-8334-fcbff3a98efb",
      "metadata": {},
      "outputs": [],
      "source": [
        "from langchain_core.prompts.prompt import PromptTemplate\n",
        "\n",
        "CYPHER_GENERATION_TEMPLATE = \"\"\"Task:Generate Cypher statement to query a graph database.\n",
        "Instructions:\n",
        "Use only the provided relationship types and properties in the schema.\n",
        "Do not use any other relationship types or properties that are not provided.\n",
        "Schema:\n",
        "{schema}\n",
        "Note: Do not include any explanations or apologies in your responses.\n",
        "Do not respond to any questions that might ask anything else than for you to construct a Cypher statement.\n",
        "Do not include any text except the generated Cypher statement.\n",
        "Examples: Here are a few examples of generated Cypher statements for particular questions:\n",
        "# How many people played in Top Gun?\n",
        "MATCH (m:Movie {{name:\"Top Gun\"}})<-[:ACTED_IN]-()\n",
        "RETURN count(*) AS numberOfActors\n",
        "\n",
        "The question is:\n",
        "{question}\"\"\"\n",
        "\n",
        "CYPHER_GENERATION_PROMPT = PromptTemplate(\n",
        "    input_variables=[\"schema\", \"question\"], template=CYPHER_GENERATION_TEMPLATE\n",
        ")\n",
        "\n",
        "chain = GraphCypherQAChain.from_llm(\n",
        "    ChatOpenAI(temperature=0),\n",
        "    graph=graph,\n",
        "    verbose=True,\n",
        "    cypher_prompt=CYPHER_GENERATION_PROMPT,\n",
        "    allow_dangerous_requests=True,\n",
        ")"
      ]
    },
    {
      "cell_type": "code",
      "execution_count": 16,
      "id": "47c64027-cf42-493a-9c76-2d10ba753728",
      "metadata": {},
      "outputs": [
        {
          "name": "stdout",
          "output_type": "stream",
          "text": [
            "\n",
            "\n",
            "\u001b[1m> Entering new GraphCypherQAChain chain...\u001b[0m\n",
            "Generated Cypher:\n",
            "\u001b[32;1m\u001b[1;3mMATCH (m:Movie {name:\"Top Gun\"})<-[:ACTED_IN]-()\n",
            "RETURN count(*) AS numberOfActors\u001b[0m\n",
            "Full Context:\n",
            "\u001b[32;1m\u001b[1;3m[{'numberOfActors': 4}]\u001b[0m\n",
            "\n",
            "\u001b[1m> Finished chain.\u001b[0m\n"
          ]
        },
        {
          "data": {
            "text/plain": [
              "{'query': 'How many people played in Top Gun?',\n",
              " 'result': 'There were 4 actors in Top Gun.'}"
            ]
          },
          "execution_count": 16,
          "metadata": {},
          "output_type": "execute_result"
        }
      ],
      "source": [
        "chain.invoke({\"query\": \"How many people played in Top Gun?\"})"
      ]
    },
    {
      "cell_type": "markdown",
      "id": "3e721cad-aa87-4526-9231-2dfc0e365939",
      "metadata": {},
      "source": [
        "## 为 Cypher 查询和答案生成使用独立的 LLM\n\n您可以使用 `cypher_llm` 和 `qa_llm` 参数来定义不同的 LLM"
      ]
    },
    {
      "cell_type": "code",
      "execution_count": 17,
      "id": "6f9becc2-f579-45bf-9b50-2ce02bde92da",
      "metadata": {},
      "outputs": [],
      "source": [
        "chain = GraphCypherQAChain.from_llm(\n",
        "    graph=graph,\n",
        "    cypher_llm=ChatOpenAI(temperature=0, model=\"gpt-3.5-turbo\"),\n",
        "    qa_llm=ChatOpenAI(temperature=0, model=\"gpt-3.5-turbo-16k\"),\n",
        "    verbose=True,\n",
        "    allow_dangerous_requests=True,\n",
        ")"
      ]
    },
    {
      "cell_type": "code",
      "execution_count": 18,
      "id": "ff18e3e3-3402-4683-aec4-a19898f23ca1",
      "metadata": {},
      "outputs": [
        {
          "name": "stdout",
          "output_type": "stream",
          "text": [
            "\n",
            "\n",
            "\u001b[1m> Entering new GraphCypherQAChain chain...\u001b[0m\n",
            "Generated Cypher:\n",
            "\u001b[32;1m\u001b[1;3mMATCH (a:Actor)-[:ACTED_IN]->(m:Movie)\n",
            "WHERE m.name = 'Top Gun'\n",
            "RETURN a.name\u001b[0m\n",
            "Full Context:\n",
            "\u001b[32;1m\u001b[1;3m[{'a.name': 'Tom Cruise'}, {'a.name': 'Val Kilmer'}, {'a.name': 'Anthony Edwards'}, {'a.name': 'Meg Ryan'}]\u001b[0m\n",
            "\n",
            "\u001b[1m> Finished chain.\u001b[0m\n"
          ]
        },
        {
          "data": {
            "text/plain": [
              "{'query': 'Who played in Top Gun?',\n",
              " 'result': 'Tom Cruise, Val Kilmer, Anthony Edwards, and Meg Ryan played in Top Gun.'}"
            ]
          },
          "execution_count": 18,
          "metadata": {},
          "output_type": "execute_result"
        }
      ],
      "source": [
        "chain.invoke({\"query\": \"Who played in Top Gun?\"})"
      ]
    },
    {
      "cell_type": "markdown",
      "id": "eefea16b-508f-4552-8942-9d5063ed7d37",
      "metadata": {},
      "source": [
        "## 忽略指定的节点和关系类型\n\n您可以使用 `include_types` 或 `exclude_types` 在生成 Cypher 语句时忽略图模式的某些部分。"
      ]
    },
    {
      "cell_type": "code",
      "execution_count": 19,
      "id": "a20fa21e-fb85-41c4-aac0-53fb25e34604",
      "metadata": {},
      "outputs": [],
      "source": [
        "chain = GraphCypherQAChain.from_llm(\n",
        "    graph=graph,\n",
        "    cypher_llm=ChatOpenAI(temperature=0, model=\"gpt-3.5-turbo\"),\n",
        "    qa_llm=ChatOpenAI(temperature=0, model=\"gpt-3.5-turbo-16k\"),\n",
        "    verbose=True,\n",
        "    exclude_types=[\"Movie\"],\n",
        "    allow_dangerous_requests=True,\n",
        ")"
      ]
    },
    {
      "cell_type": "code",
      "execution_count": 20,
      "id": "3ad7f6b8-543e-46e4-a3b2-40fa3e66e895",
      "metadata": {},
      "outputs": [
        {
          "name": "stdout",
          "output_type": "stream",
          "text": [
            "Node properties are the following:\n",
            "Actor {name: STRING}\n",
            "Relationship properties are the following:\n",
            "\n",
            "The relationships are the following:\n",
            "\n"
          ]
        }
      ],
      "source": [
        "# Inspect graph schema\n",
        "print(chain.graph_schema)"
      ]
    },
    {
      "cell_type": "markdown",
      "id": "f0202e88-d700-40ed-aef9-0c969c7bf951",
      "metadata": {},
      "source": [
        "## 验证生成的 Cypher 语句\n您可以使用 `validate_cypher` 参数来验证和修正生成的 Cypher 语句中的关系方向。"
      ]
    },
    {
      "cell_type": "code",
      "execution_count": 21,
      "id": "53665d03-7afd-433c-bdd5-750127bfb152",
      "metadata": {},
      "outputs": [],
      "source": [
        "chain = GraphCypherQAChain.from_llm(\n",
        "    llm=ChatOpenAI(temperature=0, model=\"gpt-3.5-turbo\"),\n",
        "    graph=graph,\n",
        "    verbose=True,\n",
        "    validate_cypher=True,\n",
        "    allow_dangerous_requests=True,\n",
        ")"
      ]
    },
    {
      "cell_type": "code",
      "execution_count": 22,
      "id": "19e1a591-9c10-4d7b-aa36-a5e1b778a97b",
      "metadata": {},
      "outputs": [
        {
          "name": "stdout",
          "output_type": "stream",
          "text": [
            "\n",
            "\n",
            "\u001b[1m> Entering new GraphCypherQAChain chain...\u001b[0m\n",
            "Generated Cypher:\n",
            "\u001b[32;1m\u001b[1;3mMATCH (a:Actor)-[:ACTED_IN]->(m:Movie)\n",
            "WHERE m.name = 'Top Gun'\n",
            "RETURN a.name\u001b[0m\n",
            "Full Context:\n",
            "\u001b[32;1m\u001b[1;3m[{'a.name': 'Tom Cruise'}, {'a.name': 'Val Kilmer'}, {'a.name': 'Anthony Edwards'}, {'a.name': 'Meg Ryan'}]\u001b[0m\n",
            "\n",
            "\u001b[1m> Finished chain.\u001b[0m\n"
          ]
        },
        {
          "data": {
            "text/plain": [
              "{'query': 'Who played in Top Gun?',\n",
              " 'result': 'Tom Cruise, Val Kilmer, Anthony Edwards, and Meg Ryan played in Top Gun.'}"
            ]
          },
          "execution_count": 22,
          "metadata": {},
          "output_type": "execute_result"
        }
      ],
      "source": [
        "chain.invoke({\"query\": \"Who played in Top Gun?\"})"
      ]
    },
    {
      "cell_type": "markdown",
      "id": "81093062-eb7f-4d96-b1fd-c36b8f1b9474",
      "metadata": {},
      "source": [
        "## 使用工具/函数输出提供数据库结果的上下文\n\n您可以使用 `use_function_response` 参数将数据库结果的上下文作为工具/函数输出传递给 LLM。此方法提高了回答的准确性和相关性，因为 LLM 会更密切地遵循提供的上下文。\n_您需要使用支持原生函数调用的 LLM 才能使用此功能_。"
      ]
    },
    {
      "cell_type": "code",
      "execution_count": 23,
      "id": "2be8f51c-e80a-4a60-ab1c-266450fc17cd",
      "metadata": {},
      "outputs": [
        {
          "name": "stdout",
          "output_type": "stream",
          "text": [
            "\n",
            "\n",
            "\u001b[1m> Entering new GraphCypherQAChain chain...\u001b[0m\n",
            "Generated Cypher:\n",
            "\u001b[32;1m\u001b[1;3mMATCH (a:Actor)-[:ACTED_IN]->(m:Movie)\n",
            "WHERE m.name = 'Top Gun'\n",
            "RETURN a.name\u001b[0m\n",
            "Full Context:\n",
            "\u001b[32;1m\u001b[1;3m[{'a.name': 'Tom Cruise'}, {'a.name': 'Val Kilmer'}, {'a.name': 'Anthony Edwards'}, {'a.name': 'Meg Ryan'}]\u001b[0m\n",
            "\n",
            "\u001b[1m> Finished chain.\u001b[0m\n"
          ]
        },
        {
          "data": {
            "text/plain": [
              "{'query': 'Who played in Top Gun?',\n",
              " 'result': 'The main actors in Top Gun are Tom Cruise, Val Kilmer, Anthony Edwards, and Meg Ryan.'}"
            ]
          },
          "execution_count": 23,
          "metadata": {},
          "output_type": "execute_result"
        }
      ],
      "source": [
        "chain = GraphCypherQAChain.from_llm(\n",
        "    llm=ChatOpenAI(temperature=0, model=\"gpt-3.5-turbo\"),\n",
        "    graph=graph,\n",
        "    verbose=True,\n",
        "    use_function_response=True,\n",
        "    allow_dangerous_requests=True,\n",
        ")\n",
        "chain.invoke({\"query\": \"Who played in Top Gun?\"})"
      ]
    },
    {
      "cell_type": "markdown",
      "id": "48a75785-5bc9-49a7-a41b-88bf3ef9d312",
      "metadata": {},
      "source": [
        "您可以通过提供 `function_response_system` 来定制在使用函数响应功能时使用的系统消息，以指示模型如何生成答案。\n\n_请注意，在使用 `use_function_response` 时，`qa_prompt` 将不起任何作用_"
      ]
    },
    {
      "cell_type": "code",
      "execution_count": 24,
      "id": "ddf0a61e-f104-4dbb-abbf-e65f3f57dd9a",
      "metadata": {},
      "outputs": [
        {
          "name": "stdout",
          "output_type": "stream",
          "text": [
            "\n",
            "\n",
            "\u001b[1m> Entering new GraphCypherQAChain chain...\u001b[0m\n",
            "Generated Cypher:\n",
            "\u001b[32;1m\u001b[1;3mMATCH (a:Actor)-[:ACTED_IN]->(m:Movie)\n",
            "WHERE m.name = 'Top Gun'\n",
            "RETURN a.name\u001b[0m\n",
            "Full Context:\n",
            "\u001b[32;1m\u001b[1;3m[{'a.name': 'Tom Cruise'}, {'a.name': 'Val Kilmer'}, {'a.name': 'Anthony Edwards'}, {'a.name': 'Meg Ryan'}]\u001b[0m\n",
            "\n",
            "\u001b[1m> Finished chain.\u001b[0m\n"
          ]
        },
        {
          "data": {
            "text/plain": [
              "{'query': 'Who played in Top Gun?',\n",
              " 'result': \"Arrr matey! In the film Top Gun, ye be seein' Tom Cruise, Val Kilmer, Anthony Edwards, and Meg Ryan sailin' the high seas of the sky! Aye, they be a fine crew of actors, they be!\"}"
            ]
          },
          "execution_count": 24,
          "metadata": {},
          "output_type": "execute_result"
        }
      ],
      "source": [
        "chain = GraphCypherQAChain.from_llm(\n",
        "    llm=ChatOpenAI(temperature=0, model=\"gpt-3.5-turbo\"),\n",
        "    graph=graph,\n",
        "    verbose=True,\n",
        "    use_function_response=True,\n",
        "    function_response_system=\"Respond as a pirate!\",\n",
        "    allow_dangerous_requests=True,\n",
        ")\n",
        "chain.invoke({\"query\": \"Who played in Top Gun?\"})"
      ]
    }
  ],
  "metadata": {
    "kernelspec": {
      "display_name": "Python 3 (ipykernel)",
      "language": "python",
      "name": "python3"
    },
    "language_info": {
      "codemirror_mode": {
        "name": "ipython",
        "version": 3
      },
      "file_extension": ".py",
      "mimetype": "text/x-python",
      "name": "python",
      "nbconvert_exporter": "python",
      "pygments_lexer": "ipython3",
      "version": "3.9.18"
    }
  },
  "nbformat": 4,
  "nbformat_minor": 5
}