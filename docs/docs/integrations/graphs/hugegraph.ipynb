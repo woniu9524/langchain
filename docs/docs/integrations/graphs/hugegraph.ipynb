{
  "cells": [
    {
      "cell_type": "markdown",
      "id": "d2777010",
      "metadata": {},
      "source": [
        "# HugeGraph\n\n>[HugeGraph](https://hugegraph.apache.org/) 是一个便捷、高效且适应性强的图数据库，与 `Apache TinkerPop3` 框架以及 `Gremlin` 查询语言兼容。\n>\n>[Gremlin](https://en.wikipedia.org/wiki/Gremlin_(query_language)) 是由 `Apache Software Foundation` 的 `Apache TinkerPop` 开发的图遍历语言和虚拟机。\n\n本笔记本展示了如何使用 LLM 为 [HugeGraph](https://hugegraph.apache.org/cn/) 数据库提供自然语言接口。"
      ]
    },
    {
      "cell_type": "markdown",
      "id": "0b219ec2-75d7-4db3-b844-0bf310e5b187",
      "metadata": {},
      "source": [
        "## 设置"
      ]
    },
    {
      "cell_type": "markdown",
      "id": "f26dcbe4",
      "metadata": {},
      "source": [
        "你需要有一个正在运行的 HugeGraph 实例。\n你可以通过运行以下脚本来启动一个本地 docker 容器：\n\n```\ndocker run \\\n    --name=graph \\\n    -itd \\\n    -p 8080:8080 \\\n    hugegraph/hugegraph\n```\n\n如果想在应用程序中连接 HugeGraph，需要安装 python sdk：\n\n```\npip3 install hugegraph-python\n```"
      ]
    },
    {
      "cell_type": "markdown",
      "id": "d64a29f1",
      "metadata": {},
      "source": [
        "如果你正在使用 docker 容器，你需要等待几秒钟让数据库启动，然后我们需要为数据库创建 schema 和写入图数据。"
      ]
    },
    {
      "cell_type": "code",
      "execution_count": 13,
      "id": "e53ab93e",
      "metadata": {},
      "outputs": [],
      "source": [
        "from hugegraph.connection import PyHugeGraph\n",
        "\n",
        "client = PyHugeGraph(\"localhost\", \"8080\", user=\"admin\", pwd=\"admin\", graph=\"hugegraph\")"
      ]
    },
    {
      "cell_type": "markdown",
      "id": "b7c3a50e",
      "metadata": {},
      "source": [
        "首先，我们为简单的电影数据库创建模式："
      ]
    },
    {
      "cell_type": "code",
      "execution_count": 4,
      "id": "ef5372a8",
      "metadata": {},
      "outputs": [
        {
          "data": {
            "text/plain": [
              "'create EdgeLabel success, Detail: \"b\\'{\"id\":1,\"name\":\"ActedIn\",\"source_label\":\"Person\",\"target_label\":\"Movie\",\"frequency\":\"SINGLE\",\"sort_keys\":[],\"nullable_keys\":[],\"index_labels\":[],\"properties\":[],\"status\":\"CREATED\",\"ttl\":0,\"enable_label_index\":true,\"user_data\":{\"~create_time\":\"2023-07-04 10:48:47.908\"}}\\'\"'"
            ]
          },
          "execution_count": 4,
          "metadata": {},
          "output_type": "execute_result"
        }
      ],
      "source": [
        "\"\"\"schema\"\"\"\n",
        "schema = client.schema()\n",
        "schema.propertyKey(\"name\").asText().ifNotExist().create()\n",
        "schema.propertyKey(\"birthDate\").asText().ifNotExist().create()\n",
        "schema.vertexLabel(\"Person\").properties(\n",
        "    \"name\", \"birthDate\"\n",
        ").usePrimaryKeyId().primaryKeys(\"name\").ifNotExist().create()\n",
        "schema.vertexLabel(\"Movie\").properties(\"name\").usePrimaryKeyId().primaryKeys(\n",
        "    \"name\"\n",
        ").ifNotExist().create()\n",
        "schema.edgeLabel(\"ActedIn\").sourceLabel(\"Person\").targetLabel(\n",
        "    \"Movie\"\n",
        ").ifNotExist().create()"
      ]
    },
    {
      "cell_type": "markdown",
      "id": "016f7989",
      "metadata": {},
      "source": [
        "然后我们可以插入一些数据。"
      ]
    },
    {
      "cell_type": "code",
      "execution_count": 26,
      "id": "b7f4c370",
      "metadata": {},
      "outputs": [
        {
          "data": {
            "text/plain": [
              "1:Robert De Niro--ActedIn-->2:The Godfather Part II"
            ]
          },
          "execution_count": 26,
          "metadata": {},
          "output_type": "execute_result"
        }
      ],
      "source": [
        "\"\"\"graph\"\"\"\n",
        "g = client.graph()\n",
        "g.addVertex(\"Person\", {\"name\": \"Al Pacino\", \"birthDate\": \"1940-04-25\"})\n",
        "g.addVertex(\"Person\", {\"name\": \"Robert De Niro\", \"birthDate\": \"1943-08-17\"})\n",
        "g.addVertex(\"Movie\", {\"name\": \"The Godfather\"})\n",
        "g.addVertex(\"Movie\", {\"name\": \"The Godfather Part II\"})\n",
        "g.addVertex(\"Movie\", {\"name\": \"The Godfather Coda The Death of Michael Corleone\"})\n",
        "\n",
        "g.addEdge(\"ActedIn\", \"1:Al Pacino\", \"2:The Godfather\", {})\n",
        "g.addEdge(\"ActedIn\", \"1:Al Pacino\", \"2:The Godfather Part II\", {})\n",
        "g.addEdge(\n",
        "    \"ActedIn\", \"1:Al Pacino\", \"2:The Godfather Coda The Death of Michael Corleone\", {}\n",
        ")\n",
        "g.addEdge(\"ActedIn\", \"1:Robert De Niro\", \"2:The Godfather Part II\", {})"
      ]
    },
    {
      "cell_type": "markdown",
      "id": "5b8f7788",
      "metadata": {},
      "source": [
        "## 创建 `HugeGraphQAChain`\n\n我们现在可以创建 `HugeGraph` 和 `HugeGraphQAChain`。要创建 `HugeGraph`，我们只需将数据库对象传递给 `HugeGraph` 构造函数即可。"
      ]
    },
    {
      "cell_type": "code",
      "execution_count": 27,
      "id": "f1f68fcf",
      "metadata": {
        "is_executing": true
      },
      "outputs": [],
      "source": [
        "from langchain.chains import HugeGraphQAChain\n",
        "from langchain_community.graphs import HugeGraph\n",
        "from langchain_openai import ChatOpenAI"
      ]
    },
    {
      "cell_type": "code",
      "execution_count": 28,
      "id": "b86ebfa7",
      "metadata": {},
      "outputs": [],
      "source": [
        "graph = HugeGraph(\n",
        "    username=\"admin\",\n",
        "    password=\"admin\",\n",
        "    address=\"localhost\",\n",
        "    port=8080,\n",
        "    graph=\"hugegraph\",\n",
        ")"
      ]
    },
    {
      "cell_type": "markdown",
      "id": "e262540b",
      "metadata": {},
      "source": [
        "## 刷新图架构信息\n\n如果数据库的架构发生变化，您可以刷新生成 Gremlin 语句所需的架构信息。"
      ]
    },
    {
      "cell_type": "code",
      "execution_count": 29,
      "id": "134dd8d6",
      "metadata": {},
      "outputs": [],
      "source": [
        "# graph.refresh_schema()"
      ]
    },
    {
      "cell_type": "code",
      "execution_count": 30,
      "id": "e78b8e72",
      "metadata": {
        "ExecuteTime": {}
      },
      "outputs": [
        {
          "name": "stdout",
          "output_type": "stream",
          "text": [
            "Node properties: [name: Person, primary_keys: ['name'], properties: ['name', 'birthDate'], name: Movie, primary_keys: ['name'], properties: ['name']]\n",
            "Edge properties: [name: ActedIn, properties: []]\n",
            "Relationships: ['Person--ActedIn-->Movie']\n",
            "\n"
          ]
        }
      ],
      "source": [
        "print(graph.get_schema)"
      ]
    },
    {
      "cell_type": "markdown",
      "id": "5c27e813",
      "metadata": {},
      "source": [
        "## 查询图\n\n现在我们可以使用图 Gremlin QA 链向图表提出问题"
      ]
    },
    {
      "cell_type": "code",
      "execution_count": 31,
      "id": "3b23dead",
      "metadata": {},
      "outputs": [],
      "source": [
        "chain = HugeGraphQAChain.from_llm(ChatOpenAI(temperature=0), graph=graph, verbose=True)"
      ]
    },
    {
      "cell_type": "code",
      "execution_count": 32,
      "id": "76aecc93",
      "metadata": {},
      "outputs": [
        {
          "name": "stdout",
          "output_type": "stream",
          "text": [
            "\n",
            "\n",
            "\u001b[1m> Entering new  chain...\u001b[0m\n",
            "Generated gremlin:\n",
            "\u001b[32;1m\u001b[1;3mg.V().has('Movie', 'name', 'The Godfather').in('ActedIn').valueMap(true)\u001b[0m\n",
            "Full Context:\n",
            "\u001b[32;1m\u001b[1;3m[{'id': '1:Al Pacino', 'label': 'Person', 'name': ['Al Pacino'], 'birthDate': ['1940-04-25']}]\u001b[0m\n",
            "\n",
            "\u001b[1m> Finished chain.\u001b[0m\n"
          ]
        },
        {
          "data": {
            "text/plain": [
              "'Al Pacino played in The Godfather.'"
            ]
          },
          "execution_count": 32,
          "metadata": {},
          "output_type": "execute_result"
        }
      ],
      "source": [
        "chain.run(\"Who played in The Godfather?\")"
      ]
    },
    {
      "cell_type": "code",
      "execution_count": null,
      "id": "869f0258",
      "metadata": {},
      "outputs": [],
      "source": []
    }
  ],
  "metadata": {
    "kernelspec": {
      "display_name": "Python 3 (ipykernel)",
      "language": "python",
      "name": "python3"
    },
    "language_info": {
      "codemirror_mode": {
        "name": "ipython",
        "version": 3
      },
      "file_extension": ".py",
      "mimetype": "text/x-python",
      "name": "python",
      "nbconvert_exporter": "python",
      "pygments_lexer": "ipython3",
      "version": "3.10.12"
    }
  },
  "nbformat": 4,
  "nbformat_minor": 5
}