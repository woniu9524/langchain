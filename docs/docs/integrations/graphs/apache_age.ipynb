{
  "cells": [
    {
      "cell_type": "markdown",
      "id": "c94240f5",
      "metadata": {},
      "source": [
        "# Apache AGE\n\n>[Apache AGE](https://age.apache.org/) 是一个 PostgreSQL 扩展，提供图数据库功能。AGE 是 A Graph Extension 的缩写，其灵感来源于 Bitnine 对 PostgreSQL 10 的分支 AgensGraph，后者是一个多模型数据库。该项目的目标是创建一个能够同时处理关系模型和图模型数据的单一存储，以便用户能够将标准的 ANSI SQL 与图查询语言 openCypher 一起使用。`Apache AGE` 存储的数据元素是节点、连接它们的边以及节点和边的属性。\n\n>本 Notebook 展示了如何使用 LLM 为图数据库提供自然语言接口，您可以使用 `Cypher` 查询语言进行查询。\n\n>[Cypher](https://en.wikipedia.org/wiki/Cypher_(query_language)) 是一种声明式图查询语言，支持在属性图中使用富有表现力且高效的数据查询。"
      ]
    },
    {
      "cell_type": "markdown",
      "id": "dbc0ee68",
      "metadata": {},
      "source": [
        "## 设置\n\n你需要运行一个安装了 AGE 扩展的 `Postgre` 实例。测试的一种方法是使用官方 AGE docker 镜像运行一个 docker 容器。\n你可以通过运行以下脚本来运行本地 docker 容器：\n\n```\ndocker run \\\n    --name age  \\\n    -p 5432:5432 \\\n    -e POSTGRES_USER=postgresUser \\\n    -e POSTGRES_PASSWORD=postgresPW \\\n    -e POSTGRES_DB=postgresDB \\\n    -d \\\n    apache/age\n```\n\n有关在 docker 中运行的更多说明，请访问 [此处](https://hub.docker.com/r/apache/age)。"
      ]
    },
    {
      "cell_type": "code",
      "execution_count": 1,
      "id": "62812aad",
      "metadata": {},
      "outputs": [],
      "source": [
        "from langchain_community.graphs.age_graph import AGEGraph\n",
        "from langchain_neo4j import GraphCypherQAChain\n",
        "from langchain_openai import ChatOpenAI"
      ]
    },
    {
      "cell_type": "code",
      "execution_count": 2,
      "id": "0928915d",
      "metadata": {},
      "outputs": [],
      "source": [
        "conf = {\n",
        "    \"database\": \"postgresDB\",\n",
        "    \"user\": \"postgresUser\",\n",
        "    \"password\": \"postgresPW\",\n",
        "    \"host\": \"localhost\",\n",
        "    \"port\": 5432,\n",
        "}\n",
        "\n",
        "graph = AGEGraph(graph_name=\"age_test\", conf=conf)"
      ]
    },
    {
      "cell_type": "markdown",
      "id": "995ea9b9",
      "metadata": {},
      "source": [
        "## 填充数据库\n\n假设您的数据库是空的，您可以使用 Cypher 查询语言来填充它。以下 Cypher 语句是幂等的，这意味着无论您运行一次还是多次，数据库信息都将保持不变。"
      ]
    },
    {
      "cell_type": "code",
      "execution_count": 3,
      "id": "fedd26b9",
      "metadata": {},
      "outputs": [
        {
          "data": {
            "text/plain": [
              "[]"
            ]
          },
          "execution_count": 3,
          "metadata": {},
          "output_type": "execute_result"
        }
      ],
      "source": [
        "graph.query(\n",
        "    \"\"\"\n",
        "MERGE (m:Movie {name:\"Top Gun\"})\n",
        "WITH m\n",
        "UNWIND [\"Tom Cruise\", \"Val Kilmer\", \"Anthony Edwards\", \"Meg Ryan\"] AS actor\n",
        "MERGE (a:Actor {name:actor})\n",
        "MERGE (a)-[:ACTED_IN]->(m)\n",
        "\"\"\"\n",
        ")"
      ]
    },
    {
      "cell_type": "markdown",
      "id": "58c1a8ea",
      "metadata": {},
      "source": [
        "## 刷新图数据库架构信息\n如果数据库的架构发生变化，您可以刷新生成 Cypher 语句所需的架构信息。"
      ]
    },
    {
      "cell_type": "code",
      "execution_count": 4,
      "id": "4e3de44f",
      "metadata": {},
      "outputs": [],
      "source": [
        "graph.refresh_schema()"
      ]
    },
    {
      "cell_type": "code",
      "execution_count": 5,
      "id": "1fe76ccd",
      "metadata": {},
      "outputs": [
        {
          "name": "stdout",
          "output_type": "stream",
          "text": [
            "\n",
            "        Node properties are the following:\n",
            "        [{'properties': [{'property': 'name', 'type': 'STRING'}], 'labels': 'Actor'}, {'properties': [{'property': 'property_a', 'type': 'STRING'}], 'labels': 'LabelA'}, {'properties': [], 'labels': 'LabelB'}, {'properties': [], 'labels': 'LabelC'}, {'properties': [{'property': 'name', 'type': 'STRING'}], 'labels': 'Movie'}]\n",
            "        Relationship properties are the following:\n",
            "        [{'properties': [], 'type': 'ACTED_IN'}, {'properties': [{'property': 'rel_prop', 'type': 'STRING'}], 'type': 'REL_TYPE'}]\n",
            "        The relationships are the following:\n",
            "        ['(:`Actor`)-[:`ACTED_IN`]->(:`Movie`)', '(:`LabelA`)-[:`REL_TYPE`]->(:`LabelB`)', '(:`LabelA`)-[:`REL_TYPE`]->(:`LabelC`)']\n",
            "        \n"
          ]
        }
      ],
      "source": [
        "print(graph.schema)"
      ]
    },
    {
      "cell_type": "markdown",
      "id": "68a3c677",
      "metadata": {},
      "source": [
        "## 查询图谱\n\n我们现在可以使用图谱的 Cypher QA 链来提问图谱"
      ]
    },
    {
      "cell_type": "code",
      "execution_count": 6,
      "id": "7476ce98",
      "metadata": {},
      "outputs": [],
      "source": [
        "chain = GraphCypherQAChain.from_llm(\n",
        "    ChatOpenAI(temperature=0), graph=graph, verbose=True, allow_dangerous_requests=True\n",
        ")"
      ]
    },
    {
      "cell_type": "code",
      "execution_count": 7,
      "id": "ef8ee27b",
      "metadata": {},
      "outputs": [
        {
          "name": "stdout",
          "output_type": "stream",
          "text": [
            "\n",
            "\n",
            "\u001b[1m> Entering new GraphCypherQAChain chain...\u001b[0m\n"
          ]
        },
        {
          "name": "stdout",
          "output_type": "stream",
          "text": [
            "Generated Cypher:\n",
            "\u001b[32;1m\u001b[1;3mMATCH (a:Actor)-[:ACTED_IN]->(m:Movie)\n",
            "WHERE m.name = 'Top Gun'\n",
            "RETURN a.name\u001b[0m\n",
            "Full Context:\n",
            "\u001b[32;1m\u001b[1;3m[{'name': 'Tom Cruise'}, {'name': 'Val Kilmer'}, {'name': 'Anthony Edwards'}, {'name': 'Meg Ryan'}]\u001b[0m\n",
            "\n",
            "\u001b[1m> Finished chain.\u001b[0m\n"
          ]
        },
        {
          "data": {
            "text/plain": [
              "{'query': 'Who played in Top Gun?',\n",
              " 'result': 'Tom Cruise, Val Kilmer, Anthony Edwards, Meg Ryan played in Top Gun.'}"
            ]
          },
          "execution_count": 7,
          "metadata": {},
          "output_type": "execute_result"
        }
      ],
      "source": [
        "chain.invoke(\"Who played in Top Gun?\")"
      ]
    },
    {
      "cell_type": "markdown",
      "id": "2d28c4df",
      "metadata": {},
      "source": [
        "## 限制结果数量\n您可以使用 `top_k` 参数来限制 Cypher QA 链返回的结果数量。\n默认值为 10。"
      ]
    },
    {
      "cell_type": "code",
      "execution_count": 8,
      "id": "df230946",
      "metadata": {},
      "outputs": [],
      "source": [
        "chain = GraphCypherQAChain.from_llm(\n",
        "    ChatOpenAI(temperature=0),\n",
        "    graph=graph,\n",
        "    verbose=True,\n",
        "    top_k=2,\n",
        "    allow_dangerous_requests=True,\n",
        ")"
      ]
    },
    {
      "cell_type": "code",
      "execution_count": 9,
      "id": "3f1600ee",
      "metadata": {},
      "outputs": [
        {
          "name": "stdout",
          "output_type": "stream",
          "text": [
            "\n",
            "\n",
            "\u001b[1m> Entering new GraphCypherQAChain chain...\u001b[0m\n",
            "Generated Cypher:\n",
            "\u001b[32;1m\u001b[1;3mMATCH (a:Actor)-[:ACTED_IN]->(m:Movie {name: 'Top Gun'})\n",
            "RETURN a.name\u001b[0m\n",
            "Full Context:\n",
            "\u001b[32;1m\u001b[1;3m[{'name': 'Tom Cruise'}, {'name': 'Val Kilmer'}]\u001b[0m\n",
            "\n",
            "\u001b[1m> Finished chain.\u001b[0m\n"
          ]
        },
        {
          "data": {
            "text/plain": [
              "{'query': 'Who played in Top Gun?',\n",
              " 'result': 'Tom Cruise, Val Kilmer played in Top Gun.'}"
            ]
          },
          "execution_count": 9,
          "metadata": {},
          "output_type": "execute_result"
        }
      ],
      "source": [
        "chain.invoke(\"Who played in Top Gun?\")"
      ]
    },
    {
      "cell_type": "markdown",
      "id": "88c16206",
      "metadata": {},
      "source": [
        "## 返回中间结果\n您可以使用 `return_intermediate_steps` 参数从 Cypher QA Chain 返回中间步骤"
      ]
    },
    {
      "cell_type": "code",
      "execution_count": 22,
      "id": "e412f36b",
      "metadata": {},
      "outputs": [],
      "source": [
        "chain = GraphCypherQAChain.from_llm(\n",
        "    ChatOpenAI(temperature=0),\n",
        "    graph=graph,\n",
        "    verbose=True,\n",
        "    return_intermediate_steps=True,\n",
        "    allow_dangerous_requests=True,\n",
        ")"
      ]
    },
    {
      "cell_type": "code",
      "execution_count": 23,
      "id": "4f4699dc",
      "metadata": {},
      "outputs": [
        {
          "name": "stdout",
          "output_type": "stream",
          "text": [
            "\n",
            "\n",
            "\u001b[1m> Entering new GraphCypherQAChain chain...\u001b[0m\n",
            "Generated Cypher:\n",
            "\u001b[32;1m\u001b[1;3mMATCH (a:Actor)-[:ACTED_IN]->(m:Movie)\n",
            "WHERE m.name = 'Top Gun'\n",
            "RETURN a.name\u001b[0m\n",
            "Full Context:\n",
            "\u001b[32;1m\u001b[1;3m[{'name': 'Tom Cruise'}, {'name': 'Val Kilmer'}, {'name': 'Anthony Edwards'}, {'name': 'Meg Ryan'}]\u001b[0m\n",
            "\n",
            "\u001b[1m> Finished chain.\u001b[0m\n",
            "Intermediate steps: [{'query': \"MATCH (a:Actor)-[:ACTED_IN]->(m:Movie)\\nWHERE m.name = 'Top Gun'\\nRETURN a.name\"}, {'context': [{'name': 'Tom Cruise'}, {'name': 'Val Kilmer'}, {'name': 'Anthony Edwards'}, {'name': 'Meg Ryan'}]}]\n",
            "Final answer: Tom Cruise, Val Kilmer, Anthony Edwards, Meg Ryan played in Top Gun.\n"
          ]
        }
      ],
      "source": [
        "result = chain(\"Who played in Top Gun?\")\n",
        "print(f\"Intermediate steps: {result['intermediate_steps']}\")\n",
        "print(f\"Final answer: {result['result']}\")"
      ]
    },
    {
      "cell_type": "markdown",
      "id": "d6e1b054",
      "metadata": {},
      "source": [
        "## 直接返回结果\n您可以使用 `return_direct` 参数从 Cypher QA Chain 直接返回结果。"
      ]
    },
    {
      "cell_type": "code",
      "execution_count": 12,
      "id": "2d3acf10",
      "metadata": {},
      "outputs": [],
      "source": [
        "chain = GraphCypherQAChain.from_llm(\n",
        "    ChatOpenAI(temperature=0),\n",
        "    graph=graph,\n",
        "    verbose=True,\n",
        "    return_direct=True,\n",
        "    allow_dangerous_requests=True,\n",
        ")"
      ]
    },
    {
      "cell_type": "code",
      "execution_count": 13,
      "id": "b0a9d143",
      "metadata": {},
      "outputs": [
        {
          "name": "stdout",
          "output_type": "stream",
          "text": [
            "\n",
            "\n",
            "\u001b[1m> Entering new GraphCypherQAChain chain...\u001b[0m\n",
            "Generated Cypher:\n",
            "\u001b[32;1m\u001b[1;3mMATCH (a:Actor)-[:ACTED_IN]->(m:Movie {name: 'Top Gun'})\n",
            "RETURN a.name\u001b[0m\n",
            "\n",
            "\u001b[1m> Finished chain.\u001b[0m\n"
          ]
        },
        {
          "data": {
            "text/plain": [
              "{'query': 'Who played in Top Gun?',\n",
              " 'result': [{'name': 'Tom Cruise'},\n",
              "  {'name': 'Val Kilmer'},\n",
              "  {'name': 'Anthony Edwards'},\n",
              "  {'name': 'Meg Ryan'}]}"
            ]
          },
          "execution_count": 13,
          "metadata": {},
          "output_type": "execute_result"
        }
      ],
      "source": [
        "chain.invoke(\"Who played in Top Gun?\")"
      ]
    },
    {
      "cell_type": "markdown",
      "id": "f01dfb72-24ec-4ae7-883a-ee6646889b59",
      "metadata": {},
      "source": [
        "## 在 Cypher 生成提示中添加示例\n您可以定义 LLM 要为特定问题生成的 Cypher 语句"
      ]
    },
    {
      "cell_type": "code",
      "execution_count": 14,
      "id": "59baeb88-adfa-4c26-8334-fcbff3a98efb",
      "metadata": {},
      "outputs": [],
      "source": [
        "from langchain_core.prompts.prompt import PromptTemplate\n",
        "\n",
        "CYPHER_GENERATION_TEMPLATE = \"\"\"Task:Generate Cypher statement to query a graph database.\n",
        "Instructions:\n",
        "Use only the provided relationship types and properties in the schema.\n",
        "Do not use any other relationship types or properties that are not provided.\n",
        "Schema:\n",
        "{schema}\n",
        "Note: Do not include any explanations or apologies in your responses.\n",
        "Do not respond to any questions that might ask anything else than for you to construct a Cypher statement.\n",
        "Do not include any text except the generated Cypher statement.\n",
        "Examples: Here are a few examples of generated Cypher statements for particular questions:\n",
        "# How many people played in Top Gun?\n",
        "MATCH (m:Movie {{title:\"Top Gun\"}})<-[:ACTED_IN]-()\n",
        "RETURN count(*) AS numberOfActors\n",
        "\n",
        "The question is:\n",
        "{question}\"\"\"\n",
        "\n",
        "CYPHER_GENERATION_PROMPT = PromptTemplate(\n",
        "    input_variables=[\"schema\", \"question\"], template=CYPHER_GENERATION_TEMPLATE\n",
        ")\n",
        "\n",
        "chain = GraphCypherQAChain.from_llm(\n",
        "    ChatOpenAI(temperature=0),\n",
        "    graph=graph,\n",
        "    verbose=True,\n",
        "    cypher_prompt=CYPHER_GENERATION_PROMPT,\n",
        "    allow_dangerous_requests=True,\n",
        ")"
      ]
    },
    {
      "cell_type": "code",
      "execution_count": 15,
      "id": "47c64027-cf42-493a-9c76-2d10ba753728",
      "metadata": {},
      "outputs": [
        {
          "name": "stdout",
          "output_type": "stream",
          "text": [
            "\n",
            "\n",
            "\u001b[1m> Entering new GraphCypherQAChain chain...\u001b[0m\n"
          ]
        },
        {
          "name": "stdout",
          "output_type": "stream",
          "text": [
            "Generated Cypher:\n",
            "\u001b[32;1m\u001b[1;3mMATCH (:Movie {name:\"Top Gun\"})<-[:ACTED_IN]-(:Actor)\n",
            "RETURN count(*) AS numberOfActors\u001b[0m\n",
            "Full Context:\n",
            "\u001b[32;1m\u001b[1;3m[{'numberofactors': 4}]\u001b[0m\n",
            "\n",
            "\u001b[1m> Finished chain.\u001b[0m\n"
          ]
        },
        {
          "data": {
            "text/plain": [
              "{'query': 'How many people played in Top Gun?',\n",
              " 'result': \"I don't know the answer.\"}"
            ]
          },
          "execution_count": 15,
          "metadata": {},
          "output_type": "execute_result"
        }
      ],
      "source": [
        "chain.invoke(\"How many people played in Top Gun?\")"
      ]
    },
    {
      "cell_type": "markdown",
      "id": "3e721cad-aa87-4526-9231-2dfc0e365939",
      "metadata": {},
      "source": [
        "## 为 Cypher 和答案生成使用独立的 LLM\n\n您可以使用 `cypher_llm` 和 `qa_llm` 参数来定义不同的 LLM"
      ]
    },
    {
      "cell_type": "code",
      "execution_count": 16,
      "id": "6f9becc2-f579-45bf-9b50-2ce02bde92da",
      "metadata": {},
      "outputs": [],
      "source": [
        "chain = GraphCypherQAChain.from_llm(\n",
        "    graph=graph,\n",
        "    cypher_llm=ChatOpenAI(temperature=0, model=\"gpt-3.5-turbo\"),\n",
        "    qa_llm=ChatOpenAI(temperature=0, model=\"gpt-3.5-turbo-16k\"),\n",
        "    verbose=True,\n",
        "    allow_dangerous_requests=True,\n",
        ")"
      ]
    },
    {
      "cell_type": "code",
      "execution_count": 17,
      "id": "ff18e3e3-3402-4683-aec4-a19898f23ca1",
      "metadata": {},
      "outputs": [
        {
          "name": "stdout",
          "output_type": "stream",
          "text": [
            "\n",
            "\n",
            "\u001b[1m> Entering new GraphCypherQAChain chain...\u001b[0m\n"
          ]
        },
        {
          "name": "stdout",
          "output_type": "stream",
          "text": [
            "Generated Cypher:\n",
            "\u001b[32;1m\u001b[1;3mMATCH (a:Actor)-[:ACTED_IN]->(m:Movie)\n",
            "WHERE m.name = 'Top Gun'\n",
            "RETURN a.name\u001b[0m\n",
            "Full Context:\n",
            "\u001b[32;1m\u001b[1;3m[{'name': 'Tom Cruise'}, {'name': 'Val Kilmer'}, {'name': 'Anthony Edwards'}, {'name': 'Meg Ryan'}]\u001b[0m\n",
            "\n",
            "\u001b[1m> Finished chain.\u001b[0m\n"
          ]
        },
        {
          "data": {
            "text/plain": [
              "{'query': 'Who played in Top Gun?',\n",
              " 'result': 'Tom Cruise, Val Kilmer, Anthony Edwards, and Meg Ryan played in Top Gun.'}"
            ]
          },
          "execution_count": 17,
          "metadata": {},
          "output_type": "execute_result"
        }
      ],
      "source": [
        "chain.invoke(\"Who played in Top Gun?\")"
      ]
    },
    {
      "cell_type": "markdown",
      "id": "eefea16b-508f-4552-8942-9d5063ed7d37",
      "metadata": {},
      "source": [
        "## 忽略指定的节点和关系类型\n\n您可以使用 `include_types` 或 `exclude_types` 在生成 Cypher 语句时忽略图模式的某些部分。"
      ]
    },
    {
      "cell_type": "code",
      "execution_count": 18,
      "id": "a20fa21e-fb85-41c4-aac0-53fb25e34604",
      "metadata": {},
      "outputs": [],
      "source": [
        "chain = GraphCypherQAChain.from_llm(\n",
        "    graph=graph,\n",
        "    cypher_llm=ChatOpenAI(temperature=0, model=\"gpt-3.5-turbo\"),\n",
        "    qa_llm=ChatOpenAI(temperature=0, model=\"gpt-3.5-turbo-16k\"),\n",
        "    verbose=True,\n",
        "    exclude_types=[\"Movie\"],\n",
        "    allow_dangerous_requests=True,\n",
        ")"
      ]
    },
    {
      "cell_type": "code",
      "execution_count": 19,
      "id": "3ad7f6b8-543e-46e4-a3b2-40fa3e66e895",
      "metadata": {},
      "outputs": [
        {
          "name": "stdout",
          "output_type": "stream",
          "text": [
            "Node properties are the following:\n",
            "Actor {name: STRING},LabelA {property_a: STRING},LabelB {},LabelC {}\n",
            "Relationship properties are the following:\n",
            "ACTED_IN {},REL_TYPE {rel_prop: STRING}\n",
            "The relationships are the following:\n",
            "(:LabelA)-[:REL_TYPE]->(:LabelB),(:LabelA)-[:REL_TYPE]->(:LabelC)\n"
          ]
        }
      ],
      "source": [
        "# Inspect graph schema\n",
        "print(chain.graph_schema)"
      ]
    },
    {
      "cell_type": "markdown",
      "id": "f0202e88-d700-40ed-aef9-0c969c7bf951",
      "metadata": {},
      "source": [
        "## 验证生成的 Cypher 语句\n您可以使用 `validate_cypher` 参数来验证和修正生成的 Cypher 语句中的关系方向。"
      ]
    },
    {
      "cell_type": "code",
      "execution_count": 20,
      "id": "53665d03-7afd-433c-bdd5-750127bfb152",
      "metadata": {},
      "outputs": [],
      "source": [
        "chain = GraphCypherQAChain.from_llm(\n",
        "    llm=ChatOpenAI(temperature=0, model=\"gpt-3.5-turbo\"),\n",
        "    graph=graph,\n",
        "    verbose=True,\n",
        "    validate_cypher=True,\n",
        "    allow_dangerous_requests=True,\n",
        ")"
      ]
    },
    {
      "cell_type": "code",
      "execution_count": 21,
      "id": "19e1a591-9c10-4d7b-aa36-a5e1b778a97b",
      "metadata": {},
      "outputs": [
        {
          "name": "stdout",
          "output_type": "stream",
          "text": [
            "\n",
            "\n",
            "\u001b[1m> Entering new GraphCypherQAChain chain...\u001b[0m\n",
            "Generated Cypher:\n",
            "\u001b[32;1m\u001b[1;3mMATCH (a:Actor)-[:ACTED_IN]->(m:Movie)\n",
            "WHERE m.name = 'Top Gun'\n",
            "RETURN a.name\u001b[0m\n",
            "Full Context:\n",
            "\u001b[32;1m\u001b[1;3m[{'name': 'Tom Cruise'}, {'name': 'Val Kilmer'}, {'name': 'Anthony Edwards'}, {'name': 'Meg Ryan'}]\u001b[0m\n",
            "\n",
            "\u001b[1m> Finished chain.\u001b[0m\n"
          ]
        },
        {
          "data": {
            "text/plain": [
              "{'query': 'Who played in Top Gun?',\n",
              " 'result': 'Tom Cruise, Val Kilmer, Anthony Edwards, Meg Ryan played in Top Gun.'}"
            ]
          },
          "execution_count": 21,
          "metadata": {},
          "output_type": "execute_result"
        }
      ],
      "source": [
        "chain.invoke(\"Who played in Top Gun?\")"
      ]
    }
  ],
  "metadata": {
    "kernelspec": {
      "display_name": "Python 3 (ipykernel)",
      "language": "python",
      "name": "python3"
    },
    "language_info": {
      "codemirror_mode": {
        "name": "ipython",
        "version": 3
      },
      "file_extension": ".py",
      "mimetype": "text/x-python",
      "name": "python",
      "nbconvert_exporter": "python",
      "pygments_lexer": "ipython3",
      "version": "3.9.19"
    }
  },
  "nbformat": 4,
  "nbformat_minor": 5
}